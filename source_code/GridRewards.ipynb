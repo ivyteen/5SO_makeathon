{
 "cells": [
  {
   "cell_type": "code",
   "execution_count": 5,
   "metadata": {
    "ExecuteTime": {
     "end_time": "2021-07-09T10:12:25.905432Z",
     "start_time": "2021-07-09T10:12:25.891439Z"
    },
    "code_folding": []
   },
   "outputs": [],
   "source": [
    "import import_ipynb\n",
    "from GridActions import GridActions\n",
    "\n",
    "class GridRewardParams:\n",
    "    def __init__(self):\n",
    "        self.boundary_penalty = 1.0\n",
    "        self.empty_battery_penalty = 150.0\n",
    "        self.movement_penalty = 0.2\n",
    "        self.charging_advantage = 0.02\n",
    "        self.state = None\n",
    "\n",
    "class GridRewards:\n",
    "    def __init__(self, stats):\n",
    "        self.params = GridRewardParams()\n",
    "        self.cumulative_reward: float = 0.0\n",
    "\n",
    "        #ModelStats 분석 후에 다시 하는 걸로\n",
    "        stats.add_log_data_callback('cumulative_reward', self.get_cumulative_reward)\n",
    "        \n",
    "#       def add_log_data_callback(self, name: str, callback: callable):\n",
    "#           self.log_value_callbacks.append((name, callback))\n",
    "#       self.log_value_callbacks = []\n",
    "\n",
    "    def get_cumulative_reward(self):\n",
    "        return self.cumulative_reward\n",
    "\n",
    "    def calculate_motion_rewards(self, state, action: GridActions, next_state):\n",
    "        reward = 0.0\n",
    "        if not next_state.landed: #next_state가 착륙이 아니라면 class state의 landed 함수는 착륙시 True 리턴\n",
    "            # Penalize battery Consumption\n",
    "            reward -= self.params.movement_penalty\n",
    "\n",
    "        # Penalize not moving \n",
    "        #(This happens when it either 1. tries to land or 2. fly into a boundary or 3. hovers or 4. fly into\n",
    "        # a cell occupied by another agent)\n",
    "        #hovering while comm.\n",
    "        if state.position == next_state.position and not next_state.landed and not action == GridActions.HOVER:\n",
    "            reward -= self.params.boundary_penalty\n",
    "\n",
    "        # Penalize battery dead\n",
    "        if next_state.movement_budget == 0 and not next_state.landed:\n",
    "            reward -= self.params.empty_battery_penalty\n",
    "        \n",
    "        if self.state.is_in_landing_zone() and not next_state.movement_budget == 0 and next_state.movement_budget < 100:\n",
    "            reward += self.params.charging_advantage\n",
    "        #여기서 'reward = cumulative_reward' 같은 cumulative_reward를 업데이트하는 부분이 나와야 되지 않나\n",
    "        return reward\n",
    "\n",
    "    def reset(self):\n",
    "        self.cumulative_reward = 0"
   ]
  },
  {
   "cell_type": "code",
   "execution_count": null,
   "metadata": {},
   "outputs": [],
   "source": []
  }
 ],
 "metadata": {
  "kernelspec": {
   "display_name": "Python 3",
   "language": "python",
   "name": "python3"
  },
  "language_info": {
   "codemirror_mode": {
    "name": "ipython",
    "version": 3
   },
   "file_extension": ".py",
   "mimetype": "text/x-python",
   "name": "python",
   "nbconvert_exporter": "python",
   "pygments_lexer": "ipython3",
   "version": "3.7.9"
  },
  "toc": {
   "base_numbering": 1,
   "nav_menu": {},
   "number_sections": true,
   "sideBar": true,
   "skip_h1_title": false,
   "title_cell": "Table of Contents",
   "title_sidebar": "Contents",
   "toc_cell": false,
   "toc_position": {},
   "toc_section_display": true,
   "toc_window_display": false
  }
 },
 "nbformat": 4,
 "nbformat_minor": 4
}
