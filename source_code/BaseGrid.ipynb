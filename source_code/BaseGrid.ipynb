{
 "cells": [
  {
   "cell_type": "code",
   "execution_count": 1,
   "metadata": {
    "ExecuteTime": {
     "end_time": "2021-05-17T13:09:52.806679Z",
     "start_time": "2021-05-17T13:09:51.145671Z"
    },
    "code_folding": []
   },
   "outputs": [
    {
     "name": "stdout",
     "output_type": "stream",
     "text": [
      "importing Jupyter notebook from ModelStats.ipynb\n",
      "importing Jupyter notebook from Map.ipynb\n"
     ]
    }
   ],
   "source": [
    "import import_ipynb\n",
    "from ModelStats import ModelStats\n",
    "import Map as Map\n",
    "\n",
    "\n",
    "class BaseGridParams:\n",
    "    def __init__(self):\n",
    "        self.movement_range = (100, 200)\n",
    "        self.map_path = 'res/Grid_image.png'\n",
    "\n",
    "\n",
    "class BaseGrid:\n",
    "    def __init__(self, params: BaseGridParams, stats: ModelStats):\n",
    "        self.map_image = Map.load_map(params.map_path) #해당 경로path로 imread\n",
    "        self.shape = self.map_image.start_land_zone.shape #imread한 map_image에 대해서 boolean값의 크기 리턴\n",
    "        self.starting_vector = self.map_image.get_starting_vector() #start, land zone에 대한 좌표값 리턴\n",
    "        stats.set_env_map_callback(self.get_map_image) \n",
    "        #env_map_callback(최초 None값)을 get_map_image로 리턴 ??\n",
    "\n",
    "    def get_map_image(self):\n",
    "        return self.map_image\n",
    "\n",
    "    def get_grid_size(self):\n",
    "        return self.shape\n",
    "\n",
    "    def get_no_fly(self):\n",
    "        return self.map_image.nfz\n",
    "\n",
    "    def get_landing_zone(self):\n",
    "        return self.map_image.start_land_zone"
   ]
  },
  {
   "cell_type": "code",
   "execution_count": 15,
   "metadata": {
    "ExecuteTime": {
     "end_time": "2021-05-17T13:09:28.589450Z",
     "start_time": "2021-05-17T13:09:28.578475Z"
    }
   },
   "outputs": [
    {
     "data": {
      "text/plain": [
       "<Map.Map at 0x16ea31e5488>"
      ]
     },
     "execution_count": 15,
     "metadata": {},
     "output_type": "execute_result"
    }
   ],
   "source": [
    "#Map.load_map('res/grid_image.png')"
   ]
  }
 ],
 "metadata": {
  "kernelspec": {
   "display_name": "Python 3",
   "language": "python",
   "name": "python3"
  },
  "language_info": {
   "codemirror_mode": {
    "name": "ipython",
    "version": 3
   },
   "file_extension": ".py",
   "mimetype": "text/x-python",
   "name": "python",
   "nbconvert_exporter": "python",
   "pygments_lexer": "ipython3",
   "version": "3.7.9"
  },
  "toc": {
   "base_numbering": 1,
   "nav_menu": {},
   "number_sections": true,
   "sideBar": true,
   "skip_h1_title": false,
   "title_cell": "Table of Contents",
   "title_sidebar": "Contents",
   "toc_cell": false,
   "toc_position": {},
   "toc_section_display": true,
   "toc_window_display": false
  }
 },
 "nbformat": 4,
 "nbformat_minor": 4
}
