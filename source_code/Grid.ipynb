{
 "cells": [
  {
   "cell_type": "code",
   "execution_count": 3,
   "metadata": {
    "ExecuteTime": {
     "end_time": "2021-05-18T11:32:30.188697Z",
     "start_time": "2021-05-18T11:32:30.169724Z"
    },
    "code_folding": [
     91
    ]
   },
   "outputs": [],
   "source": [
    "import numpy as np\n",
    "import import_ipynb\n",
    "\n",
    "from DeviceManager import DeviceManagerParams, DeviceManager\n",
    "from State import State\n",
    "from BaseGrid import BaseGrid, BaseGridParams\n",
    "\n",
    "\n",
    "class GridParams(BaseGridParams):\n",
    "    def __init__(self):\n",
    "        super().__init__()\n",
    "        self.num_agents_range = [1, 3]\n",
    "        self.device_manager = DeviceManagerParams()\n",
    "        self.multi_agent = False\n",
    "        self.fixed_starting_idcs = False # starting vector에서는 아무 곳에서나 출발 가능\n",
    "        self.starting_idcs = [1, 2, 3] #\n",
    "        self.x_loc_device = [20, 40, 60, 80, 100]\n",
    "        self.y_loc_device = [30, 50, 70, 90, 110]\n",
    "\n",
    "\n",
    "class Grid(BaseGrid):\n",
    "\n",
    "    def __init__(self, params: GridParams, stats):\n",
    "        super().__init__(params, stats)\n",
    "        self.params = params\n",
    "        if params.multi_agent:\n",
    "            self.num_agents = params.num_agents_range[0] #이상한데..?\n",
    "        else:\n",
    "            self.num_agents = 1\n",
    "\n",
    "        self.device_list = None\n",
    "        self.device_manager = DeviceManager(self.params.device_manager)\n",
    "\n",
    "#       free_space = np.logical_not(\n",
    "#           np.logical_or(self.map_image.obstacles, self.map_image.start_land_zone))\n",
    "#       free_idcs = np.where(free_space)\n",
    "#       self.device_positions = list(zip(free_idcs[1], free_idcs[0]))\n",
    "   \n",
    "        #device들의 좌표 설정\n",
    "        #self.device_positions = [(x, y) for x in (self.params.x_loc_device) for y in (self.params.y_loc_device)]\n",
    "        self.device_positions = [(x, y) for x in (self.params.x_loc_device) \n",
    "                                 for y in (self.params.y_loc_device)]\n",
    "\n",
    "                \n",
    "    def get_comm_obstacles(self):\n",
    "        return self.map_image.obstacles\n",
    "\n",
    "    def get_data_map(self):\n",
    "        return self.device_list.get_data_map(self.shape)\n",
    "\n",
    "    def get_collected_map(self):\n",
    "        return self.device_list.get_collected_map(self.shape)\n",
    "\n",
    "    def get_device_list(self):\n",
    "        return self.device_list\n",
    "\n",
    "    def get_grid_params(self):\n",
    "        return self.params\n",
    "\n",
    "    def init_episode(self):\n",
    "        self.device_list = self.device_manager.generate_device_list(self.device_positions)\n",
    "\n",
    "\n",
    "        if self.params.multi_agent:\n",
    "            self.num_agents = int(np.random.randint(low=self.params.num_agents_range[0],\n",
    "                                                    high=self.params.num_agents_range[1] + 1, size=1))\n",
    "        else:\n",
    "            self.num_agents = 1\n",
    "        state = State(self.map_image, self.num_agents, self.params.multi_agent)\n",
    "        state.reset_devices(self.device_list)\n",
    "\n",
    "        if self.params.fixed_starting_idcs:\n",
    "            idx = self.params.starting_idcs\n",
    "        else:\n",
    "            # Replace False insures that starting positions of the agents are different\n",
    "            idx = np.random.choice(len(self.starting_vector), size=self.num_agents, replace=False)\n",
    "        state.positions = [self.starting_vector[i] for i in idx]\n",
    "\n",
    "        state.movement_budgets = np.random.randint(low=self.params.movement_range[0],\n",
    "                                                   high=self.params.movement_range[1] + 1, size=self.num_agents)\n",
    "\n",
    "        state.initial_movement_budgets = state.movement_budgets.copy()\n",
    "\n",
    "        return state\n",
    "\n",
    "    def init_scenario(self, scenario):\n",
    "        self.device_list = scenario.device_list\n",
    "        self.num_agents = scenario.init_state.num_agents\n",
    "\n",
    "        return scenario.init_state\n",
    "\n",
    "    def get_example_state(self):\n",
    "        if self.params.multi_agent:\n",
    "            num_agents = self.params.num_agents_range[0]\n",
    "        else:\n",
    "            num_agents = 1\n",
    "        state = State(self.map_image, num_agents, self.params.multi_agent)\n",
    "        state.device_map = np.zeros(self.shape, dtype=float)\n",
    "        state.collected = np.zeros(self.shape, dtype=float)\n",
    "        return state"
   ]
  },
  {
   "cell_type": "code",
   "execution_count": 2,
   "metadata": {
    "ExecuteTime": {
     "end_time": "2021-05-18T10:43:23.127653Z",
     "start_time": "2021-05-18T10:43:23.105712Z"
    },
    "collapsed": true
   },
   "outputs": [
    {
     "data": {
      "text/plain": [
       "[(20, 30),\n",
       " (20, 50),\n",
       " (20, 70),\n",
       " (20, 90),\n",
       " (20, 110),\n",
       " (40, 30),\n",
       " (40, 50),\n",
       " (40, 70),\n",
       " (40, 90),\n",
       " (40, 110),\n",
       " (60, 30),\n",
       " (60, 50),\n",
       " (60, 70),\n",
       " (60, 90),\n",
       " (60, 110),\n",
       " (80, 30),\n",
       " (80, 50),\n",
       " (80, 70),\n",
       " (80, 90),\n",
       " (80, 110),\n",
       " (100, 30),\n",
       " (100, 50),\n",
       " (100, 70),\n",
       " (100, 90),\n",
       " (100, 110)]"
      ]
     },
     "execution_count": 2,
     "metadata": {},
     "output_type": "execute_result"
    }
   ],
   "source": [
    "#x_loc_device = [20, 40, 60, 80, 100]\n",
    "#y_loc_device = [30, 50, 70, 90, 110]\n",
    "#[(x, y) for x in (x_loc_device) for y in (y_loc_device)]"
   ]
  }
 ],
 "metadata": {
  "kernelspec": {
   "display_name": "Python 3",
   "language": "python",
   "name": "python3"
  },
  "language_info": {
   "codemirror_mode": {
    "name": "ipython",
    "version": 3
   },
   "file_extension": ".py",
   "mimetype": "text/x-python",
   "name": "python",
   "nbconvert_exporter": "python",
   "pygments_lexer": "ipython3",
   "version": "3.7.9"
  },
  "toc": {
   "base_numbering": 1,
   "nav_menu": {},
   "number_sections": true,
   "sideBar": true,
   "skip_h1_title": false,
   "title_cell": "Table of Contents",
   "title_sidebar": "Contents",
   "toc_cell": false,
   "toc_position": {},
   "toc_section_display": true,
   "toc_window_display": false
  }
 },
 "nbformat": 4,
 "nbformat_minor": 4
}
