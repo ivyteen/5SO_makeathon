{
 "cells": [
  {
   "cell_type": "code",
   "execution_count": 1,
   "metadata": {
    "ExecuteTime": {
     "end_time": "2021-06-25T04:48:04.750040Z",
     "start_time": "2021-06-25T04:48:03.054586Z"
    }
   },
   "outputs": [
    {
     "name": "stdout",
     "output_type": "stream",
     "text": [
      "importing Jupyter notebook from Agent.ipynb\n",
      "importing Jupyter notebook from ReplayMemory.ipynb\n"
     ]
    }
   ],
   "source": [
    "import import_ipynb\n",
    "from Agent import DDQNAgent\n",
    "from ReplayMemory import ReplayMemory\n",
    "import tqdm\n",
    "\n",
    "\n",
    "class DDQNTrainerParams:\n",
    "    def __init__(self):\n",
    "        self.batch_size = 128\n",
    "        #self.batch_size = 32\n",
    "        #self.num_steps = 1e6\n",
    "        self.num_steps = 5e4\n",
    "        self.rm_pre_fill_ratio = 0.5\n",
    "        self.rm_pre_fill_random = True\n",
    "        self.eval_period = 5\n",
    "        self.rm_size = 50000\n",
    "        self.load_model = \"\"\n",
    "\n",
    "\n",
    "class DDQNTrainer:\n",
    "    def __init__(self, params: DDQNTrainerParams, agent: DDQNAgent):\n",
    "        self.params = params\n",
    "        self.replay_memory = ReplayMemory(size=params.rm_size)\n",
    "        self.agent = agent\n",
    "        self.use_scalar_input = self.agent.params.use_scalar_input\n",
    "\n",
    "        if self.params.load_model != \"\":\n",
    "            print(\"Loading model\", self.params.load_model, \"for agent\")\n",
    "            self.agent.load_weights(self.params.load_model)\n",
    "\n",
    "        self.prefill_bar = None\n",
    "\n",
    "    def add_experience(self, state, action, reward, next_state):\n",
    "        if self.use_scalar_input:\n",
    "            self.replay_memory.store((state.get_device_scalars(self.agent.params.max_devices, self.agent.params.relative_scalars),\n",
    "                                      state.get_uav_scalars(self.agent.params.max_uavs, self.agent.params.relative_scalars),\n",
    "                                      state.get_scalars(give_position=True),\n",
    "                                      action,\n",
    "                                      reward,\n",
    "                                      next_state.get_device_scalars(self.agent.params.max_devices, self.agent.params.relative_scalars),\n",
    "                                      next_state.get_uav_scalars(self.agent.params.max_uavs, self.agent.params.relative_scalars),\n",
    "                                      next_state.get_scalars(give_position=True),\n",
    "                                      next_state.terminal))\n",
    "        else:\n",
    "            self.replay_memory.store((state.get_boolean_map(),\n",
    "                                      state.get_float_map(),\n",
    "                                      state.get_scalars(),\n",
    "                                      action,\n",
    "                                      reward,\n",
    "                                      next_state.get_boolean_map(),\n",
    "                                      next_state.get_float_map(),\n",
    "                                      next_state.get_scalars(),\n",
    "                                      next_state.terminal))\n",
    "\n",
    "    def train_agent(self):\n",
    "        if self.params.batch_size > self.replay_memory.get_size():\n",
    "            return\n",
    "        mini_batch = self.replay_memory.sample(self.params.batch_size)\n",
    "\n",
    "        self.agent.train(mini_batch)\n",
    "\n",
    "    def should_fill_replay_memory(self):\n",
    "        target_size = self.replay_memory.get_max_size() * self.params.rm_pre_fill_ratio\n",
    "        if self.replay_memory.get_size() >= target_size or self.replay_memory.full:\n",
    "            if self.prefill_bar:\n",
    "                self.prefill_bar.close()\n",
    "            return False\n",
    "\n",
    "        if self.prefill_bar is None:\n",
    "            print(\"Filling replay memory\")\n",
    "            self.prefill_bar = tqdm.tqdm(total=target_size)\n",
    "\n",
    "        self.prefill_bar.update(self.replay_memory.get_size() - self.prefill_bar.n)\n",
    "\n",
    "        return True\n"
   ]
  },
  {
   "cell_type": "code",
   "execution_count": null,
   "metadata": {},
   "outputs": [],
   "source": []
  }
 ],
 "metadata": {
  "kernelspec": {
   "display_name": "Python 3",
   "language": "python",
   "name": "python3"
  },
  "language_info": {
   "codemirror_mode": {
    "name": "ipython",
    "version": 3
   },
   "file_extension": ".py",
   "mimetype": "text/x-python",
   "name": "python",
   "nbconvert_exporter": "python",
   "pygments_lexer": "ipython3",
   "version": "3.7.9"
  },
  "toc": {
   "base_numbering": 1,
   "nav_menu": {},
   "number_sections": true,
   "sideBar": true,
   "skip_h1_title": false,
   "title_cell": "Table of Contents",
   "title_sidebar": "Contents",
   "toc_cell": false,
   "toc_position": {},
   "toc_section_display": true,
   "toc_window_display": false
  }
 },
 "nbformat": 4,
 "nbformat_minor": 4
}
