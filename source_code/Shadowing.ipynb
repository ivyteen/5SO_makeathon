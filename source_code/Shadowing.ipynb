{
 "cells": [
  {
   "cell_type": "code",
   "execution_count": 1,
   "metadata": {
    "ExecuteTime": {
     "end_time": "2021-05-13T12:59:54.435257Z",
     "start_time": "2021-05-13T12:59:54.104418Z"
    },
    "code_folding": [
     41
    ]
   },
   "outputs": [
    {
     "name": "stdout",
     "output_type": "stream",
     "text": [
      "importing Jupyter notebook from Map.ipynb\n"
     ]
    },
    {
     "ename": "TypeError",
     "evalue": "__init__() missing 1 required positional argument: 'map_data'",
     "output_type": "error",
     "traceback": [
      "\u001b[1;31m---------------------------------------------------------------------------\u001b[0m",
      "\u001b[1;31mTypeError\u001b[0m                                 Traceback (most recent call last)",
      "\u001b[1;32m<ipython-input-1-1fdd11023536>\u001b[0m in \u001b[0;36m<module>\u001b[1;34m\u001b[0m\n\u001b[0;32m      3\u001b[0m \u001b[1;32mimport\u001b[0m \u001b[0mtqdm\u001b[0m\u001b[1;33m\u001b[0m\u001b[1;33m\u001b[0m\u001b[0m\n\u001b[0;32m      4\u001b[0m \u001b[1;32mimport\u001b[0m \u001b[0mimport_ipynb\u001b[0m\u001b[1;33m\u001b[0m\u001b[1;33m\u001b[0m\u001b[0m\n\u001b[1;32m----> 5\u001b[1;33m \u001b[1;32mfrom\u001b[0m \u001b[0mMap\u001b[0m \u001b[1;32mimport\u001b[0m \u001b[0mload_map\u001b[0m\u001b[1;33m\u001b[0m\u001b[1;33m\u001b[0m\u001b[0m\n\u001b[0m\u001b[0;32m      6\u001b[0m \u001b[1;33m\u001b[0m\u001b[0m\n\u001b[0;32m      7\u001b[0m \u001b[1;33m\u001b[0m\u001b[0m\n",
      "\u001b[1;32m~\\anaconda3\\lib\\importlib\\_bootstrap.py\u001b[0m in \u001b[0;36m_find_and_load\u001b[1;34m(name, import_)\u001b[0m\n",
      "\u001b[1;32m~\\anaconda3\\lib\\importlib\\_bootstrap.py\u001b[0m in \u001b[0;36m_find_and_load_unlocked\u001b[1;34m(name, import_)\u001b[0m\n",
      "\u001b[1;32m~\\anaconda3\\lib\\importlib\\_bootstrap.py\u001b[0m in \u001b[0;36m_load_unlocked\u001b[1;34m(spec)\u001b[0m\n",
      "\u001b[1;32m~\\anaconda3\\lib\\importlib\\_bootstrap.py\u001b[0m in \u001b[0;36m_load_backward_compatible\u001b[1;34m(spec)\u001b[0m\n",
      "\u001b[1;32m~\\anaconda3\\lib\\site-packages\\import_ipynb.py\u001b[0m in \u001b[0;36mload_module\u001b[1;34m(self, fullname)\u001b[0m\n\u001b[0;32m     59\u001b[0m                 \u001b[0mcode\u001b[0m \u001b[1;33m=\u001b[0m \u001b[0mself\u001b[0m\u001b[1;33m.\u001b[0m\u001b[0mshell\u001b[0m\u001b[1;33m.\u001b[0m\u001b[0minput_transformer_manager\u001b[0m\u001b[1;33m.\u001b[0m\u001b[0mtransform_cell\u001b[0m\u001b[1;33m(\u001b[0m\u001b[0mcell\u001b[0m\u001b[1;33m.\u001b[0m\u001b[0msource\u001b[0m\u001b[1;33m)\u001b[0m\u001b[1;33m\u001b[0m\u001b[1;33m\u001b[0m\u001b[0m\n\u001b[0;32m     60\u001b[0m                 \u001b[1;31m# run the code in themodule\u001b[0m\u001b[1;33m\u001b[0m\u001b[1;33m\u001b[0m\u001b[1;33m\u001b[0m\u001b[0m\n\u001b[1;32m---> 61\u001b[1;33m                 \u001b[0mexec\u001b[0m\u001b[1;33m(\u001b[0m\u001b[0mcode\u001b[0m\u001b[1;33m,\u001b[0m \u001b[0mmod\u001b[0m\u001b[1;33m.\u001b[0m\u001b[0m__dict__\u001b[0m\u001b[1;33m)\u001b[0m\u001b[1;33m\u001b[0m\u001b[1;33m\u001b[0m\u001b[0m\n\u001b[0m\u001b[0;32m     62\u001b[0m         \u001b[1;32mfinally\u001b[0m\u001b[1;33m:\u001b[0m\u001b[1;33m\u001b[0m\u001b[1;33m\u001b[0m\u001b[0m\n\u001b[0;32m     63\u001b[0m             \u001b[0mself\u001b[0m\u001b[1;33m.\u001b[0m\u001b[0mshell\u001b[0m\u001b[1;33m.\u001b[0m\u001b[0muser_ns\u001b[0m \u001b[1;33m=\u001b[0m \u001b[0msave_user_ns\u001b[0m\u001b[1;33m\u001b[0m\u001b[1;33m\u001b[0m\u001b[0m\n",
      "\u001b[1;32m~\\Documents\\GitHub\\UAV\\source_code\\Map.ipynb\u001b[0m in \u001b[0;36m<module>\u001b[1;34m\u001b[0m\n",
      "\u001b[1;31mTypeError\u001b[0m: __init__() missing 1 required positional argument: 'map_data'"
     ]
    }
   ],
   "source": [
    "import numpy as np\n",
    "import os\n",
    "import tqdm\n",
    "import import_ipynb\n",
    "from Map import load_map\n",
    "\n",
    "\n",
    "def bresenham(x0, y0, x1, y1, obstacles, shadow_map):\n",
    "    #선그리기 알고리즘\n",
    "    if obstacles[y0, x0]:\n",
    "        return\n",
    "    x_dist = abs(x0 - x1)\n",
    "    y_dist = -abs(y0 - y1)\n",
    "    x_step = 1 if x1 > x0 else -1\n",
    "    y_step = 1 if y1 > y0 else -1\n",
    "\n",
    "    error = x_dist + y_dist\n",
    "\n",
    "    # shadowed = False\n",
    "    shadow_map[y0, x0] = False\n",
    "\n",
    "    while x0 != x1 or y0 != y1:\n",
    "        #둘 중 하나가 같아질 때 까지\n",
    "        if 2 * error - y_dist > x_dist - 2 * error:\n",
    "            #x축으로 더 멀다면(즉, abs(x_dist) > abs(y_dist)\n",
    "            # horizontal step\n",
    "            error += y_dist\n",
    "            x0 += x_step\n",
    "        else:\n",
    "            # vertical step\n",
    "            error += x_dist\n",
    "            y0 += y_step\n",
    "\n",
    "        if obstacles[y0, x0]:\n",
    "            # shadowed = True\n",
    "            return\n",
    "\n",
    "        # if shadowed:\n",
    "        shadow_map[y0, x0] = False\n",
    "\n",
    "\n",
    "def calculate_shadowing(map_path, save_as): #전체 맵에서 어디 좌표가 shadowing이 되는지를 True로 리턴\n",
    "    \n",
    "    total_map = load_map(map_path)\n",
    "    obstacles = total_map.obstacles #하지만 나의 환경에는 장애물이 없다.\n",
    "    size = total_map.obstacles.shape[0] #size = 140\n",
    "    total = size * size\n",
    "\n",
    "    total_shadow_map = np.ones((size, size, size, size), dtype=bool)\n",
    "    with tqdm.tqdm(total=total) as pbar:\n",
    "        for i, j in np.ndindex(total_map.obstacles.shape):\n",
    "            #i, j : (0,0), (0,1),,,(0,139),(1,0), ,,, (139, 139) 즉, 140 x 140의 모든 좌표 반복\n",
    "            shadow_map = np.ones((size, size), dtype=bool)\n",
    "\n",
    "            for x in range(size):\n",
    "                bresenham(i, j, x, 0, obstacles, shadow_map)\n",
    "                #bresenham : 두 좌표 사이에 shadowing이 있는지를 판단하는거고 있으면 shadow_map에 True로 반환\n",
    "                bresenham(i, j, x, size - 1, obstacles, shadow_map)\n",
    "                bresenham(i, j, 0, x, obstacles, shadow_map)\n",
    "                bresenham(i, j, size - 1, x, obstacles, shadow_map)\n",
    "\n",
    "            total_shadow_map[j, i] = shadow_map\n",
    "            pbar.update(1)\n",
    "\n",
    "    np.save(save_as, total_shadow_map)\n",
    "    return total_shadow_map\n",
    "\n",
    "\n",
    "def load_or_create_shadowing(map_path):\n",
    "    shadow_file_name = os.path.splitext(map_path)[0] + \"_shadowing.npy\"\n",
    "    #splitext : 확장자만 따로 떨어트림\n",
    "    if os.path.exists(shadow_file_name):\n",
    "        return np.load(shadow_file_name)\n",
    "    else:\n",
    "        return calculate_shadowing(map_path, shadow_file_name)\n"
   ]
  },
  {
   "cell_type": "code",
   "execution_count": 4,
   "metadata": {
    "ExecuteTime": {
     "end_time": "2021-05-15T06:17:50.283481Z",
     "start_time": "2021-05-15T06:17:50.272500Z"
    }
   },
   "outputs": [
    {
     "data": {
      "text/plain": [
       "array([[[[ True,  True],\n",
       "         [ True,  True]],\n",
       "\n",
       "        [[ True,  True],\n",
       "         [ True,  True]]],\n",
       "\n",
       "\n",
       "       [[[ True,  True],\n",
       "         [ True,  True]],\n",
       "\n",
       "        [[ True,  True],\n",
       "         [ True,  True]]]])"
      ]
     },
     "execution_count": 4,
     "metadata": {},
     "output_type": "execute_result"
    }
   ],
   "source": [
    "size = 2\n",
    "a = np.ones((size, size, size, size), dtype=bool)\n",
    "a"
   ]
  }
 ],
 "metadata": {
  "kernelspec": {
   "display_name": "Python 3",
   "language": "python",
   "name": "python3"
  },
  "language_info": {
   "codemirror_mode": {
    "name": "ipython",
    "version": 3
   },
   "file_extension": ".py",
   "mimetype": "text/x-python",
   "name": "python",
   "nbconvert_exporter": "python",
   "pygments_lexer": "ipython3",
   "version": "3.7.9"
  },
  "toc": {
   "base_numbering": 1,
   "nav_menu": {},
   "number_sections": true,
   "sideBar": true,
   "skip_h1_title": false,
   "title_cell": "Table of Contents",
   "title_sidebar": "Contents",
   "toc_cell": false,
   "toc_position": {},
   "toc_section_display": true,
   "toc_window_display": false
  }
 },
 "nbformat": 4,
 "nbformat_minor": 4
}
