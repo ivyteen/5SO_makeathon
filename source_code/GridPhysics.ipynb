{
 "cells": [
  {
   "cell_type": "code",
   "execution_count": 2,
   "metadata": {
    "ExecuteTime": {
     "end_time": "2021-05-13T09:45:28.625311Z",
     "start_time": "2021-05-13T09:45:28.606360Z"
    }
   },
   "outputs": [],
   "source": [
    "import import_ipynb\n",
    "from GridActions import GridActions\n",
    "\n",
    "\n",
    "class GridPhysics:\n",
    "    def __init__(self):\n",
    "        self.landing_attempts = 0\n",
    "        self.boundary_counter = 0\n",
    "        self.state = None #state : state.ipynb에서 가져온 듯\n",
    "\n",
    "        \n",
    "    def movement_step(self, action: GridActions):\n",
    "        old_position = self.state.position  #active_agent의 수 만큼 position 가져 옴\n",
    "        x, y = old_position\n",
    "\n",
    "        if action == GridActions.NORTH:\n",
    "            y += 1\n",
    "        elif action == GridActions.SOUTH:\n",
    "            y -= 1\n",
    "        elif action == GridActions.WEST:\n",
    "            x -= 1\n",
    "        elif action == GridActions.EAST:\n",
    "            x += 1\n",
    "        elif action == GridActions.LAND:\n",
    "            self.landing_attempts += 1\n",
    "            if self.state.is_in_landing_zone():\n",
    "                #땅이면 1, 아니면 0 리턴, State.ipynb에서 나옴\n",
    "                self.state.set_landed(True)   #이를 통해 해당하는 active_agent는 False에서 True로 바뀐다.\n",
    "                                              #즉, 그 agent는 착륙했다는 것을 의미\n",
    "\n",
    "        #def set_position(self, position):\n",
    "        #    self.positions[self.active_agent] = position            \n",
    "        self.state.set_position([x, y]) \n",
    "\n",
    "        #action을 통해 변경된 좌표로 전체 agent의 좌표를 유지하고 있는 self.positions바꿈\n",
    "        if self.state.is_in_no_fly_zone():\n",
    "\n",
    "            # Reset state\n",
    "            self.boundary_counter += 1\n",
    "            x, y = old_position\n",
    "            self.state.set_position([x, y])\n",
    "\n",
    "        self.state.decrement_movement_budget() #active_agent들을 -1씩 업데이트\n",
    "        self.state.set_terminal(self.state.landed or (self.state.movement_budget == 0)) # 0 == 0 : True\n",
    "\n",
    "\n",
    "        #그 agent가 착륙해있거나 남아있는 movement_budget == 0이 되면 True 리턴\n",
    "#       def set_terminal(self, terminal):\n",
    "#           self.terminals[self.active_agent] = terminal(self.terminals = [False] in __init__)\n",
    "\n",
    "        return x, y\n",
    "\n",
    "    def reset(self, state):\n",
    "        self.landing_attempts = 0\n",
    "        self.boundary_counter = 0\n",
    "        self.state = state"
   ]
  }
 ],
 "metadata": {
  "kernelspec": {
   "display_name": "Python 3",
   "language": "python",
   "name": "python3"
  },
  "language_info": {
   "codemirror_mode": {
    "name": "ipython",
    "version": 3
   },
   "file_extension": ".py",
   "mimetype": "text/x-python",
   "name": "python",
   "nbconvert_exporter": "python",
   "pygments_lexer": "ipython3",
   "version": "3.7.9"
  },
  "toc": {
   "base_numbering": 1,
   "nav_menu": {},
   "number_sections": true,
   "sideBar": true,
   "skip_h1_title": false,
   "title_cell": "Table of Contents",
   "title_sidebar": "Contents",
   "toc_cell": false,
   "toc_position": {},
   "toc_section_display": true,
   "toc_window_display": false
  }
 },
 "nbformat": 4,
 "nbformat_minor": 4
}
