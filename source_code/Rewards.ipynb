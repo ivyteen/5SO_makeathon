{
 "cells": [
  {
   "cell_type": "code",
   "execution_count": 2,
   "metadata": {
    "ExecuteTime": {
     "end_time": "2021-05-15T08:01:29.702128Z",
     "start_time": "2021-05-15T08:01:29.689163Z"
    },
    "code_folding": []
   },
   "outputs": [
    {
     "ename": "ImportError",
     "evalue": "cannot import name 'State' from 'State' (State.ipynb)",
     "output_type": "error",
     "traceback": [
      "\u001b[1;31m---------------------------------------------------------------------------\u001b[0m",
      "\u001b[1;31mImportError\u001b[0m                               Traceback (most recent call last)",
      "\u001b[1;32m<ipython-input-2-b7c80477d8fd>\u001b[0m in \u001b[0;36m<module>\u001b[1;34m\u001b[0m\n\u001b[0;32m      1\u001b[0m \u001b[1;32mimport\u001b[0m \u001b[0mimport_ipynb\u001b[0m\u001b[1;33m\u001b[0m\u001b[1;33m\u001b[0m\u001b[0m\n\u001b[1;32m----> 2\u001b[1;33m \u001b[1;32mfrom\u001b[0m \u001b[0mState\u001b[0m \u001b[1;32mimport\u001b[0m \u001b[0mState\u001b[0m\u001b[1;33m\u001b[0m\u001b[1;33m\u001b[0m\u001b[0m\n\u001b[0m\u001b[0;32m      3\u001b[0m \u001b[1;32mfrom\u001b[0m \u001b[0mGridActions\u001b[0m \u001b[1;32mimport\u001b[0m \u001b[0mGridActions\u001b[0m\u001b[1;33m\u001b[0m\u001b[1;33m\u001b[0m\u001b[0m\n\u001b[0;32m      4\u001b[0m \u001b[1;32mfrom\u001b[0m \u001b[0mGridRewards\u001b[0m \u001b[1;32mimport\u001b[0m \u001b[0mGridRewards\u001b[0m\u001b[1;33m,\u001b[0m \u001b[0mGridRewardParams\u001b[0m\u001b[1;33m\u001b[0m\u001b[1;33m\u001b[0m\u001b[0m\n\u001b[0;32m      5\u001b[0m \u001b[1;33m\u001b[0m\u001b[0m\n",
      "\u001b[1;31mImportError\u001b[0m: cannot import name 'State' from 'State' (State.ipynb)"
     ]
    }
   ],
   "source": [
    "import import_ipynb\n",
    "from State import State\n",
    "from GridActions import GridActions\n",
    "from GridRewards import GridRewards, GridRewardParams\n",
    "\n",
    "\n",
    "class RewardParams(GridRewardParams):\n",
    "    def __init__(self):\n",
    "        super().__init__()\n",
    "        self.data_multiplier = 1.0\n",
    "\n",
    "\n",
    "# Class used to track rewards\n",
    "class Rewards(GridRewards):\n",
    "    cumulative_reward: float = 0.0\n",
    "\n",
    "    def __init__(self, reward_params: RewardParams, stats):\n",
    "        super().__init__(stats)\n",
    "        self.params = reward_params\n",
    "        self.reset()\n",
    "\n",
    "    def calculate_reward(self, state: State, action: GridActions, next_state: State):\n",
    "        reward = self.calculate_motion_rewards(state, action, next_state)\n",
    "\n",
    "        # Reward the collected data\n",
    "        reward += self.params.data_multiplier * (state.get_remaining_data() - next_state.get_remaining_data())\n",
    "\n",
    "        # Cumulative reward\n",
    "        self.cumulative_reward += reward\n",
    "\n",
    "        return reward"
   ]
  },
  {
   "cell_type": "code",
   "execution_count": null,
   "metadata": {},
   "outputs": [],
   "source": []
  }
 ],
 "metadata": {
  "kernelspec": {
   "display_name": "Python 3",
   "language": "python",
   "name": "python3"
  },
  "language_info": {
   "codemirror_mode": {
    "name": "ipython",
    "version": 3
   },
   "file_extension": ".py",
   "mimetype": "text/x-python",
   "name": "python",
   "nbconvert_exporter": "python",
   "pygments_lexer": "ipython3",
   "version": "3.7.9"
  },
  "toc": {
   "base_numbering": 1,
   "nav_menu": {},
   "number_sections": true,
   "sideBar": true,
   "skip_h1_title": false,
   "title_cell": "Table of Contents",
   "title_sidebar": "Contents",
   "toc_cell": false,
   "toc_position": {},
   "toc_section_display": true,
   "toc_window_display": false
  }
 },
 "nbformat": 4,
 "nbformat_minor": 4
}
