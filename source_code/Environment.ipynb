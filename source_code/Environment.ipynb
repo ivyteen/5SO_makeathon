{
 "cells": [
  {
   "cell_type": "code",
   "execution_count": 1,
   "metadata": {
    "ExecuteTime": {
     "end_time": "2021-06-29T03:48:08.563226Z",
     "start_time": "2021-06-29T03:48:04.526518Z"
    }
   },
   "outputs": [
    {
     "name": "stdout",
     "output_type": "stream",
     "text": [
      "importing Jupyter notebook from ModelStats.ipynb\n",
      "importing Jupyter notebook from BaseDisplay.ipynb\n",
      "importing Jupyter notebook from Map.ipynb\n"
     ]
    }
   ],
   "source": [
    "import copy\n",
    "import tqdm\n",
    "import distutils.util\n",
    "\n",
    "import import_ipynb\n",
    "from ModelStats import ModelStatsParams, ModelStats\n",
    "from BaseDisplay import BaseDisplay\n",
    "\n",
    "class BaseEnvironmentParams:\n",
    "    def __init__(self):\n",
    "        self.model_stats_params = ModelStatsParams() \n",
    "\n",
    "\n",
    "class BaseEnvironment:\n",
    "    def __init__(self, params: BaseEnvironmentParams, display: BaseDisplay):\n",
    "        self.stats = ModelStats(params.model_stats_params, display=display)\n",
    "        self.trainer = None\n",
    "        self.grid = None\n",
    "        self.rewards = None\n",
    "        self.physics = None\n",
    "        self.display = display\n",
    "        self.episode_count = 0\n",
    "        self.step_count = 0\n",
    "\n",
    "    def fill_replay_memory(self):\n",
    "\n",
    "        while self.trainer.should_fill_replay_memory():\n",
    "\n",
    "            state = copy.deepcopy(self.init_episode()) \n",
    "            #init_episode를 deepcopy(내부 객체까지 copy해서 그 값을 계속 저장)\n",
    "            while not state.terminal:\n",
    "                next_state = self.step(state, random=self.trainer.params.rm_pre_fill_random)\n",
    "                state = copy.deepcopy(next_state)\n",
    "\n",
    "    def train_episode(self):\n",
    "        state = copy.deepcopy(self.init_episode())\n",
    "        self.stats.on_episode_begin(self.episode_count)\n",
    "        while not state.is_terminal():\n",
    "            state = self.step(state)\n",
    "            self.trainer.train_agent()\n",
    "\n",
    "        self.stats.on_episode_end(self.episode_count)\n",
    "        self.stats.log_training_data(step=self.step_count)\n",
    "\n",
    "        self.episode_count += 1\n",
    "        \n",
    "    def run(self):\n",
    " \n",
    "        self.fill_replay_memory()\n",
    "\n",
    "        print('Running ', self.stats.params.log_file_name)\n",
    "\n",
    "        bar = tqdm.tqdm(total=int(self.trainer.params.num_steps))\n",
    "        last_step = 0\n",
    "        while self.step_count < self.trainer.params.num_steps:\n",
    "            bar.update(self.step_count - last_step)\n",
    "            last_step = self.step_count\n",
    "            self.train_episode()\n",
    "\n",
    "            if self.episode_count % self.trainer.params.eval_period == 0:\n",
    "                self.test_episode()\n",
    "\n",
    "            self.stats.save_if_best()\n",
    "\n",
    "        self.stats.training_ended()\n",
    "\n",
    "    def step(self, state, random=False):\n",
    "        pass\n",
    "\n",
    "    def init_episode(self, init_state=None):\n",
    "        if init_state:\n",
    "            state = copy.deepcopy(self.grid.init_scenario(init_state))\n",
    "        else:\n",
    "            state = copy.deepcopy(self.grid.init_episode())\n",
    "\n",
    "        self.rewards.reset()\n",
    "        self.physics.reset(state)\n",
    "        return state\n",
    "\n",
    "    def test_episode(self):\n",
    "        pass\n",
    "\n",
    "    def test_scenario(self, scenario):\n",
    "        pass\n",
    "\n",
    "    def eval(self, episodes, show=False):\n",
    "        for _ in tqdm.tqdm(range(episodes)):\n",
    "            self.test_episode()\n",
    "            self.step_count += 1  # Increase step count so that logging works properly\n",
    "\n",
    "            if show:\n",
    "                self.display.display_episode(self.grid.map_image, self.stats.trajectory, plot=True)\n",
    "\n",
    "                resp = input('Save run? [y/N]\\n')\n",
    "                try:\n",
    "                    if distutils.util.strtobool(resp): \n",
    "                        #converting a string representation of truth to true(1) or false(0)\n",
    "                        #저장하겠다\n",
    "                        save_as = input('Save as: [run_' + str(self.step_count) + ']\\n')\n",
    "                        if save_as == '':\n",
    "                            save_as = 'run_' + str(self.step_count)\n",
    "                        self.display.display_episode(self.grid.map_image, self.stats.trajectory, plot=False,\n",
    "                                                     save_path=save_as + '.png')\n",
    "                        self.stats.save_episode(save_as)\n",
    "                        print(\"Saved as run_\" + str(self.step_count))\n",
    "                except ValueError:\n",
    "                    pass\n",
    "                print(\"next then\")\n",
    "\n",
    "    def eval_scenario(self, init_state):\n",
    "        self.test_scenario(init_state)\n",
    "\n",
    "        self.display.display_episode(self.grid.map_image, self.stats.trajectory, plot=True)\n",
    "\n",
    "        resp = input('Save run? [y/N]\\n')\n",
    "        try:\n",
    "            if distutils.util.strtobool(resp):\n",
    "                save_as = input('Save as: [scenario]\\n')\n",
    "                if save_as == '':\n",
    "                    save_as = 'scenario'\n",
    "                self.display.display_episode(self.grid.map_image, self.stats.trajectory, plot=False,\n",
    "                                             save_path=save_as + '.png')\n",
    "                self.stats.save_episode(save_as)\n",
    "                print(\"Saved as\", save_as)\n",
    "        except ValueError:\n",
    "            pass"
   ]
  },
  {
   "cell_type": "code",
   "execution_count": 22,
   "metadata": {
    "ExecuteTime": {
     "end_time": "2021-06-29T03:53:26.558184Z",
     "start_time": "2021-06-29T03:53:25.356409Z"
    }
   },
   "outputs": [
    {
     "name": "stderr",
     "output_type": "stream",
     "text": [
      "100%|████████████████████████████████████████████████████████████████████████████████| 100/100 [00:01<00:00, 84.47it/s]\n"
     ]
    }
   ],
   "source": [
    "from tqdm import tqdm \n",
    "import time\n",
    "\n",
    "with tqdm(total=100) as pbar: \n",
    "    for i in range(10): \n",
    "        time.sleep(0.1) \n",
    "        pbar.update(10)\n"
   ]
  },
  {
   "cell_type": "code",
   "execution_count": null,
   "metadata": {},
   "outputs": [],
   "source": []
  }
 ],
 "metadata": {
  "kernelspec": {
   "display_name": "Python 3",
   "language": "python",
   "name": "python3"
  },
  "language_info": {
   "codemirror_mode": {
    "name": "ipython",
    "version": 3
   },
   "file_extension": ".py",
   "mimetype": "text/x-python",
   "name": "python",
   "nbconvert_exporter": "python",
   "pygments_lexer": "ipython3",
   "version": "3.7.9"
  },
  "toc": {
   "base_numbering": 1,
   "nav_menu": {},
   "number_sections": true,
   "sideBar": true,
   "skip_h1_title": false,
   "title_cell": "Table of Contents",
   "title_sidebar": "Contents",
   "toc_cell": false,
   "toc_position": {},
   "toc_section_display": true,
   "toc_window_display": false
  }
 },
 "nbformat": 4,
 "nbformat_minor": 4
}
