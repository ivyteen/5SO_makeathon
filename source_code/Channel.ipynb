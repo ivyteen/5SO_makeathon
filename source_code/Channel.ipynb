{
 "cells": [
  {
   "cell_type": "code",
   "execution_count": 1,
   "metadata": {
    "ExecuteTime": {
     "end_time": "2021-06-25T04:56:58.629434Z",
     "start_time": "2021-06-25T04:56:58.454394Z"
    }
   },
   "outputs": [
    {
     "name": "stdout",
     "output_type": "stream",
     "text": [
      "importing Jupyter notebook from Shadowing.ipynb\n",
      "importing Jupyter notebook from Map.ipynb\n"
     ]
    }
   ],
   "source": [
    "import numpy as np\n",
    "import import_ipynb\n",
    "from Shadowing import load_or_create_shadowing\n",
    "\n",
    "\n",
    "class ChannelParams:\n",
    "    def __init__(self):\n",
    "        self.cell_edge_snr = -25  # in dB\n",
    "        self.los_path_loss_exp = 2.27\n",
    "        self.nlos_path_loss_exp = 3.64\n",
    "        self.uav_altitude = 10.0  # in m\n",
    "        self.cell_size = 10.0  # in m #cell size = 10m는 나의 Grid size = 140 x 140 임을 고려하면 너무 크지 않나\n",
    "        self.los_shadowing_variance = 2.0\n",
    "        self.nlos_shadowing_variance = 5.0\n",
    "        self.map_path = \"res/Grid_image.png\"\n",
    "\n",
    "\n",
    "class Channel:\n",
    "    def __init__(self, params: ChannelParams):\n",
    "        self.params = params\n",
    "        self._norm_distance = None\n",
    "        self.los_norm_factor = None\n",
    "        self.los_shadowing_sigma = None\n",
    "        self.nlos_shadowing_sigma = None\n",
    "        self.total_shadow_map = load_or_create_shadowing(self.params.map_path)\n",
    "        #말 그대로 맵에서 전체 shadowing되는 부분을 다 나타냄\n",
    "\n",
    "    def reset(self, area_size):\n",
    "        self._norm_distance = np.sqrt(2) * 0.5 * area_size * self.params.cell_size\n",
    "        self.los_norm_factor = 10 ** (self.params.cell_edge_snr / 10) / (\n",
    "                self._norm_distance ** (-self.params.los_path_loss_exp))\n",
    "        self.los_shadowing_sigma = np.sqrt(self.params.los_shadowing_variance)\n",
    "        self.nlos_shadowing_sigma = np.sqrt(self.params.nlos_shadowing_variance)\n",
    "\n",
    "    def get_max_rate(self):\n",
    "        dist = self.params.uav_altitude\n",
    "\n",
    "        snr = self.los_norm_factor * dist ** (-self.params.los_path_loss_exp)\n",
    "\n",
    "        rate = np.log2(1 + snr)\n",
    "\n",
    "        return rate\n",
    "\n",
    "    def compute_rate(self, uav_pos, device_pos):\n",
    "        dist = np.sqrt(\n",
    "            ((device_pos[0] - uav_pos[0]) * self.params.cell_size) ** 2 +\n",
    "            ((device_pos[1] - uav_pos[1]) * self.params.cell_size) ** 2 +\n",
    "            self.params.uav_altitude ** 2)\n",
    "\n",
    "        #if self.total_shadow_map[int(round(device_pos[1])), int(round(device_pos[0])),\n",
    "        #                           int(round(uav_pos[1])), int(round(uav_pos[0]))]:\n",
    "        #    #UAV의 평면좌표와 device의 평면좌표 사이에 shadowing이 있다면\n",
    "        #    snr = self.los_norm_factor * dist ** (\n",
    "        #        -self.params.nlos_path_loss_exp) * 10 ** (np.random.normal(0., self.nlos_shadowing_sigma) / 10)\n",
    "        #    print(\"nLoS..\")\n",
    "        #나의 환경에서는 LoS만 있기 때문에 얘만 사용하면 될듯함\n",
    "        snr = self.los_norm_factor * dist ** (\n",
    "                -self.params.los_path_loss_exp) * 10 ** (np.random.normal(0., self.los_shadowing_sigma) / 10)\n",
    "        #print(\"LoS!!\")\n",
    "\n",
    "        rate = np.log2(1 + snr)\n",
    "\n",
    "        return rate"
   ]
  },
  {
   "cell_type": "code",
   "execution_count": null,
   "metadata": {},
   "outputs": [],
   "source": []
  }
 ],
 "metadata": {
  "kernelspec": {
   "display_name": "Python 3",
   "language": "python",
   "name": "python3"
  },
  "language_info": {
   "codemirror_mode": {
    "name": "ipython",
    "version": 3
   },
   "file_extension": ".py",
   "mimetype": "text/x-python",
   "name": "python",
   "nbconvert_exporter": "python",
   "pygments_lexer": "ipython3",
   "version": "3.7.9"
  },
  "toc": {
   "base_numbering": 1,
   "nav_menu": {},
   "number_sections": true,
   "sideBar": true,
   "skip_h1_title": false,
   "title_cell": "Table of Contents",
   "title_sidebar": "Contents",
   "toc_cell": false,
   "toc_position": {},
   "toc_section_display": true,
   "toc_window_display": false
  }
 },
 "nbformat": 4,
 "nbformat_minor": 4
}
