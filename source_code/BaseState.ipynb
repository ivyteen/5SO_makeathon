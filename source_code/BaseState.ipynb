{
 "cells": [
  {
   "cell_type": "code",
   "execution_count": 1,
   "metadata": {
    "ExecuteTime": {
     "end_time": "2021-05-17T09:49:11.996754Z",
     "start_time": "2021-05-17T09:49:11.858027Z"
    }
   },
   "outputs": [
    {
     "name": "stdout",
     "output_type": "stream",
     "text": [
      "importing Jupyter notebook from Map.ipynb\n"
     ]
    }
   ],
   "source": [
    "import import_ipynb\n",
    "from Map import Map\n",
    "\n",
    "\n",
    "class BaseState:\n",
    "    def __init__(self, map_init: Map):\n",
    "        self.no_fly_zone = map_init.nfz\n",
    "        self.obstacles = map_init.obstacles\n",
    "        self.landing_zone = map_init.start_land_zone\n",
    "\n",
    "    @property #private이라는 접근 제어자(__로 표현 in python)에 있는 속성값을 보다 간편하게 가져오기 위한 데코레이터\n",
    "    def shape(self):\n",
    "        return self.landing_zone.shape[:2]"
   ]
  }
 ],
 "metadata": {
  "kernelspec": {
   "display_name": "Python 3",
   "language": "python",
   "name": "python3"
  },
  "language_info": {
   "codemirror_mode": {
    "name": "ipython",
    "version": 3
   },
   "file_extension": ".py",
   "mimetype": "text/x-python",
   "name": "python",
   "nbconvert_exporter": "python",
   "pygments_lexer": "ipython3",
   "version": "3.7.9"
  },
  "toc": {
   "base_numbering": 1,
   "nav_menu": {},
   "number_sections": true,
   "sideBar": true,
   "skip_h1_title": false,
   "title_cell": "Table of Contents",
   "title_sidebar": "Contents",
   "toc_cell": false,
   "toc_position": {},
   "toc_section_display": true,
   "toc_window_display": false
  }
 },
 "nbformat": 4,
 "nbformat_minor": 4
}
