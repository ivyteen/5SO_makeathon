{
 "cells": [
  {
   "cell_type": "code",
   "execution_count": 2,
   "metadata": {
    "ExecuteTime": {
     "end_time": "2021-07-01T13:13:04.783284Z",
     "start_time": "2021-07-01T13:12:58.449809Z"
    },
    "code_folding": [
     27
    ]
   },
   "outputs": [],
   "source": [
    "import numpy as np\n",
    "%matplotlib inline\n",
    "import matplotlib.pyplot as plt\n",
    "from skimage import io\n",
    "\n",
    "#\n",
    "#land size : 125 - 134, 62 - 77\n",
    "class Map: \n",
    "    #def __init__(self, map_data):\n",
    "    def __init__(self, map_data):\n",
    "        self.start_land_zone = map_data[:, :, 2].astype(bool)\n",
    "        self.nfz = map_data[:, :, 0].astype(bool)\n",
    "        self.obstacles = map_data[:, :, 1].astype(bool)\n",
    "\n",
    "    def get_starting_vector(self):\n",
    "        similar = np.where(self.start_land_zone)\n",
    "        return list(zip(similar[1], similar[0]))\n",
    "\n",
    "    def get_free_space_vector(self):\n",
    "        free_space = np.logical_not(np.logical_or(self.obstacles, self.start_land_zone))\n",
    "        free_idcs = np.where(free_space)\n",
    "        return list(zip(free_idcs[1], free_idcs[0]))\n",
    "\n",
    "    def get_size(self):\n",
    "        return self.start_land_zone.shape[:2]\n",
    "    \n",
    "    \n",
    "def load_image(path):\n",
    "    if type(path) is not str:\n",
    "        raise TypeError('path needs to be a string')\n",
    "    data = io.imread(path, as_gray=True)\n",
    "    return np.array(data, dtype=bool)\n",
    "\n",
    "\n",
    "def save_image(path, image):\n",
    "    if type(path) is not str:\n",
    "        raise TypeError('path needs to be a string')\n",
    "    if image.dtype == bool:\n",
    "        io.imsave(path, image * np.uint8(255))\n",
    "    else:\n",
    "        io.imsave(path, image)\n",
    "\n",
    "\n",
    "def load_map(path):\n",
    "    if type(path) is not str:\n",
    "        raise TypeError('path needs to be a string')\n",
    "    data = io.imread(path, as_gray=False)\n",
    "    return Map(data)\n",
    "\n",
    "\n",
    "def load_target(path):\n",
    "    if type(path) is not str:\n",
    "        raise TypeError('path needs to be a string')\n",
    "    data = io.imread(path, as_gray=True)\n",
    "    return np.array(data, dtype=bool)"
   ]
  },
  {
   "cell_type": "code",
   "execution_count": 11,
   "metadata": {
    "ExecuteTime": {
     "end_time": "2021-07-01T13:32:58.705205Z",
     "start_time": "2021-07-01T13:32:58.691222Z"
    }
   },
   "outputs": [
    {
     "data": {
      "text/plain": [
       "(50, 50)"
      ]
     },
     "execution_count": 11,
     "metadata": {},
     "output_type": "execute_result"
    }
   ],
   "source": [
    "#Map().start_land_zone\n",
    "#Map(io.imread('res/grid_image.png', as_gray=False)).start_land_zone\n",
    "#Map(io.imread('res/grid_image.png', as_gray=False)).get_size()\n",
    "#Map(io.imread('res/grid_image.png', as_gray=False)).nfz\n",
    "#b = Map() #클래스\n",
    "#b.get_size() #클래스의 함수\n",
    "Map(io.imread('res/Grid_image (4).png', as_gray=False)).nfz.shape[:2]"
   ]
  },
  {
   "cell_type": "code",
   "execution_count": null,
   "metadata": {},
   "outputs": [],
   "source": []
  }
 ],
 "metadata": {
  "kernelspec": {
   "display_name": "Python 3",
   "language": "python",
   "name": "python3"
  },
  "language_info": {
   "codemirror_mode": {
    "name": "ipython",
    "version": 3
   },
   "file_extension": ".py",
   "mimetype": "text/x-python",
   "name": "python",
   "nbconvert_exporter": "python",
   "pygments_lexer": "ipython3",
   "version": "3.7.9"
  },
  "toc": {
   "base_numbering": 1,
   "nav_menu": {},
   "number_sections": true,
   "sideBar": true,
   "skip_h1_title": false,
   "title_cell": "Table of Contents",
   "title_sidebar": "Contents",
   "toc_cell": false,
   "toc_position": {},
   "toc_section_display": true,
   "toc_window_display": false
  }
 },
 "nbformat": 4,
 "nbformat_minor": 4
}
