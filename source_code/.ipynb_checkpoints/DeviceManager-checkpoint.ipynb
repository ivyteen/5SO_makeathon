{
 "cells": [
  {
   "cell_type": "code",
   "execution_count": null,
   "metadata": {},
   "outputs": [],
   "source": []
  },
  {
   "cell_type": "code",
   "execution_count": 1,
   "metadata": {
    "ExecuteTime": {
     "end_time": "2021-06-18T09:52:16.618385Z",
     "start_time": "2021-06-18T09:52:12.987145Z"
    },
    "code_folding": [],
    "collapsed": true
   },
   "outputs": [
    {
     "name": "stdout",
     "output_type": "stream",
     "text": [
      "importing Jupyter notebook from IoTDevice.ipynb\n",
      "importing Jupyter notebook from Channel.ipynb\n",
      "importing Jupyter notebook from Shadowing.ipynb\n",
      "importing Jupyter notebook from Map.ipynb\n"
     ]
    }
   ],
   "source": [
    "import os\n",
    "\n",
    "import numpy as np\n",
    "import import_ipynb\n",
    "from IoTDevice import IoTDeviceParams, DeviceList\n",
    "\n",
    "ColorMap = [\"orange\", \"blue\", \"green\", \"red\", \"purple\", \"brown\", \"pink\", \"gray\", \"olive\", \"cyan\"]\n",
    "\n",
    "\n",
    "class DeviceManagerParams:\n",
    "    def __init__(self):\n",
    "        #self.device_count_range = (2, 5)\n",
    "        #self.device_count_range = (25, 25)\n",
    "        self.device_count_range = 25\n",
    "        self.data_range = (5.0, 20.0)\n",
    "        #self.fixed_devices = False\n",
    "        self.fixed_devices = False\n",
    "        self.devices = IoTDeviceParams()\n",
    "\n",
    "\n",
    "class DeviceManager:\n",
    "    \"\"\"\n",
    "    The DeviceManager is used to generate DeviceLists according to DeviceManagerParams\n",
    "    \"\"\"\n",
    "\n",
    "    def __init__(self, params: DeviceManagerParams):\n",
    "        self.params = params\n",
    "\n",
    "        \n",
    "        #디바이스 좌표 정하려면 positions_vector 무조건 알야아함\n",
    "        #positions_vector : Grid의 self.device_positions\n",
    "   #     free_space = np.logical_not(\n",
    "   #         np.logical_or(self.map_image.obstacles, self.map_image.start_land_zone))\n",
    "   #     free_idcs = np.where(free_space)\n",
    "   #     self.device_positions = list(zip(free_idcs[1], free_idcs[0]))\n",
    "   #     즉, 장애물, land 빼고는 device가 다 생길 수가  있다.\n",
    "    def generate_device_list(self, positions_vector):\n",
    "        if self.params.fixed_devices:\n",
    "            return DeviceList(self.params.devices)\n",
    "\n",
    "\n",
    "        ## Roll number of devices : 25\n",
    "  #      device_count = np.random.randint(self.params.device_count_range[0],\n",
    "  #                                       self.params.device_count_range[1] + 1)\n",
    "        device_count = self.params.device_count_range\n",
    "        # The number of devices : 25개로 고정\n",
    "        #device_count = self.params.device_count_range\n",
    "\n",
    "\n",
    "        # Roll Positions\n",
    "        #Grid에서 positions_vector = self.device_positions\n",
    "  #      position_idcs = np.random.choice(range(len(positions_vector)), device_count, replace=False)\n",
    "  #      positions = [positions_vector[idx] for idx in position_idcs]\n",
    "        positions = positions_vector # 25 x 1 인데 튜플의 형태\n",
    "\n",
    "        # Roll Data : 25 x 1\n",
    "        datas = np.random.uniform(self.params.data_range[0], self.params.data_range[1], device_count)\n",
    "        # 5 ~ 20까지 균일하게 float 형태로 뽑음\n",
    "        \n",
    "        \n",
    "        return self.generate_device_list_from_args(device_count, positions, datas)\n",
    "\n",
    "    def generate_device_list_from_args(self, device_count, positions, datas):\n",
    "\n",
    "        # get colors\n",
    "        #colors = ColorMap[0:max(device_count, len(ColorMap))]\n",
    "        #colors = ColorMap[0:min(device_count, len(ColorMap))]\n",
    "        colors = ColorMap[0]\n",
    "        \n",
    "        params = [IoTDeviceParams(position=positions[k],\n",
    "                                  #color=colors[k % len(ColorMap)],\n",
    "                                  data=datas[k],\n",
    "                                  color=colors\n",
    "                                 )\n",
    "                  #for k in range(device_count)]\n",
    "                  for k in range(device_count[0])]\n",
    "\n",
    "        return DeviceList(params)"
   ]
  }
 ],
 "metadata": {
  "kernelspec": {
   "display_name": "Python 3",
   "language": "python",
   "name": "python3"
  },
  "language_info": {
   "codemirror_mode": {
    "name": "ipython",
    "version": 3
   },
   "file_extension": ".py",
   "mimetype": "text/x-python",
   "name": "python",
   "nbconvert_exporter": "python",
   "pygments_lexer": "ipython3",
   "version": "3.7.9"
  },
  "toc": {
   "base_numbering": 1,
   "nav_menu": {},
   "number_sections": true,
   "sideBar": true,
   "skip_h1_title": false,
   "title_cell": "Table of Contents",
   "title_sidebar": "Contents",
   "toc_cell": false,
   "toc_position": {},
   "toc_section_display": true,
   "toc_window_display": false
  }
 },
 "nbformat": 4,
 "nbformat_minor": 4
}
