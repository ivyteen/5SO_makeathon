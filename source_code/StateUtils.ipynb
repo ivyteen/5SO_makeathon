{
 "cells": [
  {
   "cell_type": "code",
   "execution_count": 1,
   "metadata": {
    "ExecuteTime": {
     "end_time": "2021-05-09T17:08:57.638204Z",
     "start_time": "2021-05-09T17:08:57.627229Z"
    }
   },
   "outputs": [],
   "source": [
    "import math\n",
    "import numpy as np\n",
    "\n",
    "##  padded_red = \n",
    "##  pad_centered(self, \n",
    "##  np.concatenate([np.expand_dims(self.no_fly_zone, -1),np.expand_dims(self.obstacles, -1)], axis=-1), \n",
    "##  1)\n",
    "\n",
    "\n",
    "#def pad_centered(state, map_in, pad_value):\n",
    "#    padding_rows = math.ceil(state.no_fly_zone.shape[0] / 2.0) #올림 70 \n",
    "#    padding_cols = math.ceil(state.no_fly_zone.shape[1] / 2.0) #올림 70\n",
    "#    position_x, position_y = state.position\n",
    "#    position_row_offset = padding_rows - position_y\n",
    "#    position_col_offset = padding_cols - position_x\n",
    "#    return np.pad(map_in,\n",
    "#                  pad_width=[[padding_rows + position_row_offset - 1, #위쪽\n",
    "#                              padding_rows - position_row_offset],  #아래쪽\n",
    "#                             [padding_cols + position_col_offset - 1, #왼쪽\n",
    "#                              padding_cols - position_col_offset], #오른쪽\n",
    "#                             [0, 0]], #z축에 대한 pad 변경\n",
    "#                  mode='constant', #항상 똑같은 상수값 채워넣기\n",
    "#                  constant_values=pad_value)\n",
    "\n",
    "def pad_centered(state, map_in, pad_value):\n",
    "    padding_rows = math.ceil(state.no_fly_zone.shape[0] / 2.0) #올림 70 \n",
    "    padding_cols = math.ceil(state.no_fly_zone.shape[1] / 2.0) #올림 70\n",
    "    position_x, position_y = state.position\n",
    "    position_row_offset = padding_rows - position_y\n",
    "    position_col_offset = padding_cols - position_x\n",
    "    return np.pad(map_in,\n",
    "                  pad_width=[[int(abs(padding_rows + position_row_offset - 1) / 4), #위쪽\n",
    "                              int(abs(padding_rows - position_row_offset)/ 4)],  #아래쪽\n",
    "                             [int(abs(padding_cols + position_col_offset - 1)/ 4), #왼쪽\n",
    "                              int(abs(padding_cols - position_col_offset)/ 4)], #오른쪽\n",
    "                             [0, 0]], #z축에 대한 pad 변경\n",
    "                  mode='constant', #항상 똑같은 상수값 채워넣기\n",
    "                  constant_values=pad_value)"
   ]
  },
  {
   "cell_type": "code",
   "execution_count": 1,
   "metadata": {
    "ExecuteTime": {
     "end_time": "2021-05-19T03:45:57.179442Z",
     "start_time": "2021-05-19T03:45:57.161491Z"
    }
   },
   "outputs": [
    {
     "data": {
      "text/plain": [
       "array([[-1, -1, -1, -1, -1, -1, -1, -1, -1, -1],\n",
       "       [-1, -1, -1,  1,  2,  3, -1, -1, -1, -1],\n",
       "       [-1, -1, -1,  4,  5,  6, -1, -1, -1, -1],\n",
       "       [-1, -1, -1, -1, -1, -1, -1, -1, -1, -1],\n",
       "       [-1, -1, -1, -1, -1, -1, -1, -1, -1, -1]])"
      ]
     },
     "execution_count": 1,
     "metadata": {},
     "output_type": "execute_result"
    }
   ],
   "source": [
    "#a = [[1,2,3],[4,5,6]]\n",
    "#np.pad(a, [[1,2],[3,4]], mode = 'constant', constant_values = -1)"
   ]
  }
 ],
 "metadata": {
  "kernelspec": {
   "display_name": "Python 3",
   "language": "python",
   "name": "python3"
  },
  "language_info": {
   "codemirror_mode": {
    "name": "ipython",
    "version": 3
   },
   "file_extension": ".py",
   "mimetype": "text/x-python",
   "name": "python",
   "nbconvert_exporter": "python",
   "pygments_lexer": "ipython3",
   "version": "3.7.9"
  },
  "toc": {
   "base_numbering": 1,
   "nav_menu": {},
   "number_sections": true,
   "sideBar": true,
   "skip_h1_title": false,
   "title_cell": "Table of Contents",
   "title_sidebar": "Contents",
   "toc_cell": false,
   "toc_position": {},
   "toc_section_display": true,
   "toc_window_display": false
  }
 },
 "nbformat": 4,
 "nbformat_minor": 4
}
