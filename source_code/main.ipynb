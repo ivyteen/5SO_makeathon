{
 "cells": [
  {
   "cell_type": "code",
   "execution_count": 1,
   "metadata": {
    "ExecuteTime": {
     "end_time": "2021-07-09T10:10:50.132447Z",
     "start_time": "2021-07-09T10:10:45.566328Z"
    },
    "scrolled": true
   },
   "outputs": [
    {
     "name": "stdout",
     "output_type": "stream",
     "text": [
      "importing Jupyter notebook from MainEnvironment.ipynb\n",
      "importing Jupyter notebook from Agent.ipynb\n",
      "importing Jupyter notebook from Trainer.ipynb\n",
      "importing Jupyter notebook from ReplayMemory.ipynb\n",
      "importing Jupyter notebook from Display.ipynb\n",
      "importing Jupyter notebook from Map.ipynb\n",
      "importing Jupyter notebook from BaseDisplay.ipynb\n",
      "importing Jupyter notebook from Grid.ipynb\n",
      "importing Jupyter notebook from DeviceManager.ipynb\n",
      "importing Jupyter notebook from IoTDevice.ipynb\n",
      "importing Jupyter notebook from Channel.ipynb\n",
      "importing Jupyter notebook from Shadowing.ipynb\n",
      "importing Jupyter notebook from State.ipynb\n",
      "importing Jupyter notebook from StateUtils.ipynb\n",
      "importing Jupyter notebook from BaseState.ipynb\n",
      "importing Jupyter notebook from BaseGrid.ipynb\n",
      "importing Jupyter notebook from ModelStats.ipynb\n",
      "importing Jupyter notebook from Physics.ipynb\n",
      "importing Jupyter notebook from GridActions.ipynb\n",
      "importing Jupyter notebook from GridPhysics.ipynb\n",
      "importing Jupyter notebook from Rewards.ipynb\n",
      "importing Jupyter notebook from GridRewards.ipynb\n"
     ]
    },
    {
     "ename": "SyntaxError",
     "evalue": "invalid syntax (<string>, line 2)",
     "output_type": "error",
     "traceback": [
      "Traceback \u001b[1;36m(most recent call last)\u001b[0m:\n",
      "  File \u001b[0;32m\"C:\\Users\\82104\\anaconda3\\lib\\site-packages\\IPython\\core\\interactiveshell.py\"\u001b[0m, line \u001b[0;32m3418\u001b[0m, in \u001b[0;35mrun_code\u001b[0m\n    exec(code_obj, self.user_global_ns, self.user_ns)\n",
      "  File \u001b[0;32m\"<ipython-input-1-aa629eeccdf2>\"\u001b[0m, line \u001b[0;32m5\u001b[0m, in \u001b[0;35m<module>\u001b[0m\n    from MainEnvironment import EnvironmentParams, Environment\n",
      "  File \u001b[0;32m\"<frozen importlib._bootstrap>\"\u001b[0m, line \u001b[0;32m983\u001b[0m, in \u001b[0;35m_find_and_load\u001b[0m\n",
      "  File \u001b[0;32m\"<frozen importlib._bootstrap>\"\u001b[0m, line \u001b[0;32m967\u001b[0m, in \u001b[0;35m_find_and_load_unlocked\u001b[0m\n",
      "  File \u001b[0;32m\"<frozen importlib._bootstrap>\"\u001b[0m, line \u001b[0;32m668\u001b[0m, in \u001b[0;35m_load_unlocked\u001b[0m\n",
      "  File \u001b[0;32m\"<frozen importlib._bootstrap>\"\u001b[0m, line \u001b[0;32m638\u001b[0m, in \u001b[0;35m_load_backward_compatible\u001b[0m\n",
      "  File \u001b[0;32m\"C:\\Users\\82104\\anaconda3\\lib\\site-packages\\import_ipynb.py\"\u001b[0m, line \u001b[0;32m61\u001b[0m, in \u001b[0;35mload_module\u001b[0m\n    exec(code, mod.__dict__)\n",
      "  File \u001b[0;32m\"<string>\"\u001b[0m, line \u001b[0;32m12\u001b[0m, in \u001b[0;35m<module>\u001b[0m\n",
      "  File \u001b[0;32m\"<frozen importlib._bootstrap>\"\u001b[0m, line \u001b[0;32m983\u001b[0m, in \u001b[0;35m_find_and_load\u001b[0m\n",
      "  File \u001b[0;32m\"<frozen importlib._bootstrap>\"\u001b[0m, line \u001b[0;32m967\u001b[0m, in \u001b[0;35m_find_and_load_unlocked\u001b[0m\n",
      "  File \u001b[0;32m\"<frozen importlib._bootstrap>\"\u001b[0m, line \u001b[0;32m668\u001b[0m, in \u001b[0;35m_load_unlocked\u001b[0m\n",
      "  File \u001b[0;32m\"<frozen importlib._bootstrap>\"\u001b[0m, line \u001b[0;32m638\u001b[0m, in \u001b[0;35m_load_backward_compatible\u001b[0m\n",
      "  File \u001b[0;32m\"C:\\Users\\82104\\anaconda3\\lib\\site-packages\\import_ipynb.py\"\u001b[0m, line \u001b[0;32m61\u001b[0m, in \u001b[0;35mload_module\u001b[0m\n    exec(code, mod.__dict__)\n",
      "  File \u001b[0;32m\"<string>\"\u001b[0m, line \u001b[0;32m4\u001b[0m, in \u001b[0;35m<module>\u001b[0m\n",
      "  File \u001b[0;32m\"<frozen importlib._bootstrap>\"\u001b[0m, line \u001b[0;32m983\u001b[0m, in \u001b[0;35m_find_and_load\u001b[0m\n",
      "  File \u001b[0;32m\"<frozen importlib._bootstrap>\"\u001b[0m, line \u001b[0;32m967\u001b[0m, in \u001b[0;35m_find_and_load_unlocked\u001b[0m\n",
      "  File \u001b[0;32m\"<frozen importlib._bootstrap>\"\u001b[0m, line \u001b[0;32m668\u001b[0m, in \u001b[0;35m_load_unlocked\u001b[0m\n",
      "  File \u001b[0;32m\"<frozen importlib._bootstrap>\"\u001b[0m, line \u001b[0;32m638\u001b[0m, in \u001b[0;35m_load_backward_compatible\u001b[0m\n",
      "\u001b[1;36m  File \u001b[1;32m\"C:\\Users\\82104\\anaconda3\\lib\\site-packages\\import_ipynb.py\"\u001b[1;36m, line \u001b[1;32m61\u001b[1;36m, in \u001b[1;35mload_module\u001b[1;36m\u001b[0m\n\u001b[1;33m    exec(code, mod.__dict__)\u001b[0m\n",
      "\u001b[1;36m  File \u001b[1;32m\"<string>\"\u001b[1;36m, line \u001b[1;32m2\u001b[0m\n\u001b[1;33m    if a >-\u001b[0m\n\u001b[1;37m           ^\u001b[0m\n\u001b[1;31mSyntaxError\u001b[0m\u001b[1;31m:\u001b[0m invalid syntax\n"
     ]
    }
   ],
   "source": [
    "import argparse\n",
    "import os\n",
    "\n",
    "import import_ipynb\n",
    "from MainEnvironment import EnvironmentParams, Environment\n",
    "\n",
    "from Utils import *\n",
    "\n",
    "if __name__ == \"__main__\":\n",
    "\n",
    "    parser = argparse.ArgumentParser()\n",
    "    parser.add_argument('--gpu', action='store_true', help='Activates usage of GPU')\n",
    "    parser.add_argument('--generate_config', action='store_true', help='Enable to write default config only')\n",
    "    #parser.add_argument('--config', default=None, help='Path to config file')\n",
    "    parser.add_argument('--config', default='config/grid_image.json', help='Path to config file')\n",
    "    parser.add_argument('--id', default='grid_image', help='Overrides the logfile name and the save name')\n",
    "\n",
    "    #args = parser.parse_args()\n",
    "    args = parser.parse_args(args=[])\n",
    "\n",
    "    if args.generate_config:\n",
    "        generate_config(EnvironmentParams(), \"config/default.json\")\n",
    "        exit(0)\n",
    "\n",
    "    if args.config is None:\n",
    "        print(\"Config file needed!\")\n",
    "        exit(1)\n",
    "\n",
    "    if not args.gpu:\n",
    "        os.environ[\"CUDA_VISIBLE_DEVICES\"] = \"-1\"\n",
    "\n",
    "    params = read_config(args.config)\n",
    "\n",
    "    if args.id is not None:\n",
    "        params.model_stats_params.save_model = \"models/\" + args.id\n",
    "        params.model_stats_params.log_file_name = args.id\n",
    "\n",
    "    env = Environment(params)\n",
    "\n",
    "    env.run()"
   ]
  },
  {
   "cell_type": "code",
   "execution_count": null,
   "metadata": {},
   "outputs": [],
   "source": [
    "#그 전에, Trainer의 rm_size을 50,000에서 25,000으로 줄여봄 -> 커널 얘만 틀고\n",
    "#import tensorflow as tf\n",
    "#config = tf.compat.v1.ConfigProto()\n",
    "#config.gpu_options.allow_growth = True\n",
    "#session = tf.compat.v1.Session(config=config)\n",
    "#실행시 메모리 문제 해결!! 흠,, 근데 rm_size = 50,000에서는 여전히 메모리 문제가 발생해서 45,000으로 계속 진행"
   ]
  }
 ],
 "metadata": {
  "kernelspec": {
   "display_name": "Python 3",
   "language": "python",
   "name": "python3"
  },
  "language_info": {
   "codemirror_mode": {
    "name": "ipython",
    "version": 3
   },
   "file_extension": ".py",
   "mimetype": "text/x-python",
   "name": "python",
   "nbconvert_exporter": "python",
   "pygments_lexer": "ipython3",
   "version": "3.7.9"
  },
  "toc": {
   "base_numbering": 1,
   "nav_menu": {},
   "number_sections": true,
   "sideBar": true,
   "skip_h1_title": false,
   "title_cell": "Table of Contents",
   "title_sidebar": "Contents",
   "toc_cell": false,
   "toc_position": {},
   "toc_section_display": true,
   "toc_window_display": false
  }
 },
 "nbformat": 4,
 "nbformat_minor": 4
}
