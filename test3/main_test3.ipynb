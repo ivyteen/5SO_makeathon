{
 "cells": [
  {
   "cell_type": "code",
   "execution_count": 1,
   "metadata": {},
   "outputs": [],
   "source": [
    "import tensorflow as tf\n",
    "config = tf.compat.v1.ConfigProto()\n",
    "config.gpu_options.allow_growth = True\n",
    "session = tf.compat.v1.Session(config=config)"
   ]
  },
  {
   "cell_type": "code",
   "execution_count": 2,
   "metadata": {
    "scrolled": true
   },
   "outputs": [
    {
     "name": "stdout",
     "output_type": "stream",
     "text": [
      "[name: \"/device:CPU:0\"\n",
      "device_type: \"CPU\"\n",
      "memory_limit: 268435456\n",
      "locality {\n",
      "}\n",
      "incarnation: 12013980303021751787\n",
      ", name: \"/device:GPU:0\"\n",
      "device_type: \"GPU\"\n",
      "memory_limit: 6946941824\n",
      "locality {\n",
      "  bus_id: 1\n",
      "  links {\n",
      "  }\n",
      "}\n",
      "incarnation: 14143745484646089151\n",
      "physical_device_desc: \"device: 0, name: Quadro RTX 4000, pci bus id: 0000:b3:00.0, compute capability: 7.5\"\n",
      "]\n"
     ]
    }
   ],
   "source": [
    "import tensorflow\n",
    "from tensorflow.python.client import device_lib\n",
    "print(device_lib.list_local_devices())"
   ]
  },
  {
   "cell_type": "code",
   "execution_count": 3,
   "metadata": {},
   "outputs": [
    {
     "name": "stdout",
     "output_type": "stream",
     "text": [
      "WARNING:tensorflow:From <ipython-input-3-17bb7203622b>:1: is_gpu_available (from tensorflow.python.framework.test_util) is deprecated and will be removed in a future version.\n",
      "Instructions for updating:\n",
      "Use `tf.config.list_physical_devices('GPU')` instead.\n"
     ]
    },
    {
     "data": {
      "text/plain": [
       "True"
      ]
     },
     "execution_count": 3,
     "metadata": {},
     "output_type": "execute_result"
    }
   ],
   "source": [
    "tf.test.is_gpu_available()"
   ]
  },
  {
   "cell_type": "code",
   "execution_count": null,
   "metadata": {},
   "outputs": [
    {
     "name": "stdout",
     "output_type": "stream",
     "text": [
      "importing Jupyter notebook from MainEnvironment_test2.ipynb\n",
      "importing Jupyter notebook from Agent_test2.ipynb\n",
      "importing Jupyter notebook from Trainer_test2.ipynb\n",
      "importing Jupyter notebook from ReplayMemory_test2.ipynb\n",
      "importing Jupyter notebook from Display_test2.ipynb\n",
      "importing Jupyter notebook from Map_test2.ipynb\n",
      "importing Jupyter notebook from BaseDisplay_test2.ipynb\n",
      "importing Jupyter notebook from Grid_test2.ipynb\n",
      "importing Jupyter notebook from DeviceManager_test2.ipynb\n",
      "importing Jupyter notebook from IoTDevice_test2.ipynb\n",
      "importing Jupyter notebook from State_test2.ipynb\n",
      "importing Jupyter notebook from StateUtils_test2.ipynb\n",
      "importing Jupyter notebook from BaseState_test2.ipynb\n",
      "importing Jupyter notebook from GridActions_test2.ipynb\n",
      "importing Jupyter notebook from BaseGrid_test2.ipynb\n",
      "importing Jupyter notebook from ModelStats_test2.ipynb\n",
      "importing Jupyter notebook from Physics_test2.ipynb\n",
      "importing Jupyter notebook from GridPhysics_test2.ipynb\n",
      "importing Jupyter notebook from GridRewards_test2.ipynb\n",
      "importing Jupyter notebook from Rewards_test2.ipynb\n",
      "importing Jupyter notebook from Environment_test2.ipynb\n",
      "importing Jupyter notebook from Utils_test2.ipynb\n",
      "Parse Params file here from  config/grid_image.json  and pass into main\n",
      "logs/training/grid_image already exists.\n",
      "Override log file? [Y/n]\n",
      "1\n",
      "Deleting old log dir\n",
      "starting_vector [(23, 8), (2, 10), (15, 25)]\n"
     ]
    },
    {
     "name": "stderr",
     "output_type": "stream",
     "text": [
      "\r",
      "  0%|                                                                                      | 0/25000.0 [00:00<?, ?it/s]"
     ]
    },
    {
     "name": "stdout",
     "output_type": "stream",
     "text": [
      "Model: \"model_6\"\n",
      "__________________________________________________________________________________________________\n",
      "Layer (type)                    Output Shape         Param #     Connected to                     \n",
      "==================================================================================================\n",
      "boolean_map_input (InputLayer)  [(None, 63, 63, 4)]  0                                            \n",
      "__________________________________________________________________________________________________\n",
      "tf.cast (TFOpLambda)            (None, 63, 63, 4)    0           boolean_map_input[0][0]          \n",
      "__________________________________________________________________________________________________\n",
      "average_pooling2d (AveragePooli (None, 21, 21, 4)    0           tf.cast[0][0]                    \n",
      "__________________________________________________________________________________________________\n",
      "tf.image.central_crop (TFOpLamb (None, 17, 17, 4)    0           tf.cast[0][0]                    \n",
      "__________________________________________________________________________________________________\n",
      "tf.stop_gradient (TFOpLambda)   (None, 21, 21, 4)    0           average_pooling2d[0][0]          \n",
      "__________________________________________________________________________________________________\n",
      "tf.stop_gradient_1 (TFOpLambda) (None, 17, 17, 4)    0           tf.image.central_crop[0][0]      \n",
      "__________________________________________________________________________________________________\n",
      "global_conv_1 (Conv2D)          (None, 17, 17, 16)   1616        tf.stop_gradient[0][0]           \n",
      "__________________________________________________________________________________________________\n",
      "local_conv_1 (Conv2D)           (None, 13, 13, 16)   1616        tf.stop_gradient_1[0][0]         \n",
      "__________________________________________________________________________________________________\n",
      "global_conv_2 (Conv2D)          (None, 13, 13, 16)   6416        global_conv_1[0][0]              \n",
      "__________________________________________________________________________________________________\n",
      "local_conv_2 (Conv2D)           (None, 9, 9, 16)     6416        local_conv_1[0][0]               \n",
      "__________________________________________________________________________________________________\n",
      "global_flatten (Flatten)        (None, 2704)         0           global_conv_2[0][0]              \n",
      "__________________________________________________________________________________________________\n",
      "local_flatten (Flatten)         (None, 1296)         0           local_conv_2[0][0]               \n",
      "__________________________________________________________________________________________________\n",
      "concat_flatten (Concatenate)    (None, 4000)         0           global_flatten[0][0]             \n",
      "                                                                 local_flatten[0][0]              \n",
      "__________________________________________________________________________________________________\n",
      "scalars_input (InputLayer)      [(None, 1)]          0                                            \n",
      "__________________________________________________________________________________________________\n",
      "termination_input (InputLayer)  [(None,)]            0                                            \n",
      "__________________________________________________________________________________________________\n",
      "concat (Concatenate)            (None, 4001)         0           concat_flatten[0][0]             \n",
      "                                                                 scalars_input[0][0]              \n",
      "__________________________________________________________________________________________________\n",
      "tf.math.logical_not (TFOpLambda (None,)              0           termination_input[0][0]          \n",
      "__________________________________________________________________________________________________\n",
      "hidden_layer_all_0 (Dense)      (None, 256)          1024512     concat[0][0]                     \n",
      "__________________________________________________________________________________________________\n",
      "tf.cast_1 (TFOpLambda)          (None,)              0           tf.math.logical_not[0][0]        \n",
      "__________________________________________________________________________________________________\n",
      "hidden_layer_all_1 (Dense)      (None, 256)          65792       hidden_layer_all_0[0][0]         \n",
      "__________________________________________________________________________________________________\n",
      "q_star_input (InputLayer)       [(None,)]            0                                            \n",
      "__________________________________________________________________________________________________\n",
      "tf.math.multiply_2 (TFOpLambda) (None,)              0           tf.cast_1[0][0]                  \n",
      "__________________________________________________________________________________________________\n",
      "hidden_layer_all_2 (Dense)      (None, 256)          65792       hidden_layer_all_1[0][0]         \n",
      "__________________________________________________________________________________________________\n",
      "reward_input (InputLayer)       [(None,)]            0                                            \n",
      "__________________________________________________________________________________________________\n",
      "tf.math.multiply_3 (TFOpLambda) (None,)              0           q_star_input[0][0]               \n",
      "                                                                 tf.math.multiply_2[0][0]         \n",
      "__________________________________________________________________________________________________\n",
      "action_input (InputLayer)       [(None,)]            0                                            \n",
      "__________________________________________________________________________________________________\n",
      "output_layer (Dense)            (None, 5)            1285        hidden_layer_all_2[0][0]         \n",
      "__________________________________________________________________________________________________\n",
      "tf.math.add (TFOpLambda)        (None,)              0           reward_input[0][0]               \n",
      "                                                                 tf.math.multiply_3[0][0]         \n",
      "__________________________________________________________________________________________________\n",
      "tf.one_hot_2 (TFOpLambda)       (None, 5)            0           action_input[0][0]               \n",
      "__________________________________________________________________________________________________\n",
      "tf.expand_dims (TFOpLambda)     (None, 1)            0           tf.math.add[0][0]                \n",
      "__________________________________________________________________________________________________\n",
      "tf.one_hot_1 (TFOpLambda)       (None, 5)            0           action_input[0][0]               \n",
      "__________________________________________________________________________________________________\n",
      "tf.math.multiply_1 (TFOpLambda) (None, 5)            0           output_layer[0][0]               \n",
      "                                                                 tf.one_hot_2[0][0]               \n",
      "__________________________________________________________________________________________________\n",
      "tf.math.multiply_4 (TFOpLambda) (None, 5)            0           tf.expand_dims[0][0]             \n",
      "                                                                 tf.one_hot_1[0][0]               \n",
      "__________________________________________________________________________________________________\n",
      "tf.stop_gradient_4 (TFOpLambda) (None, 5)            0           tf.math.multiply_1[0][0]         \n",
      "__________________________________________________________________________________________________\n",
      "tf.math.add_1 (TFOpLambda)      (None, 5)            0           tf.math.multiply_4[0][0]         \n",
      "                                                                 tf.stop_gradient_4[0][0]         \n",
      "__________________________________________________________________________________________________\n",
      "tf.convert_to_tensor (TFOpLambd (None, 5)            0           output_layer[0][0]               \n",
      "__________________________________________________________________________________________________\n",
      "tf.convert_to_tensor_1 (TFOpLam (None, 5)            0           tf.math.add_1[0][0]              \n",
      "__________________________________________________________________________________________________\n",
      "tf.convert_to_tensor_2 (TFOpLam (None, 5)            0           tf.convert_to_tensor[0][0]       \n",
      "__________________________________________________________________________________________________\n",
      "tf.cast_2 (TFOpLambda)          (None, 5)            0           tf.convert_to_tensor_1[0][0]     \n",
      "__________________________________________________________________________________________________\n",
      "tf.math.squared_difference (TFO (None, 5)            0           tf.convert_to_tensor_2[0][0]     \n",
      "                                                                 tf.cast_2[0][0]                  \n",
      "__________________________________________________________________________________________________\n",
      "tf.math.reduce_mean (TFOpLambda (None,)              0           tf.math.squared_difference[0][0] \n",
      "__________________________________________________________________________________________________\n",
      "tf.cast_3 (TFOpLambda)          (None,)              0           tf.math.reduce_mean[0][0]        \n",
      "__________________________________________________________________________________________________\n",
      "tf.math.multiply_5 (TFOpLambda) (None,)              0           tf.cast_3[0][0]                  \n",
      "__________________________________________________________________________________________________\n",
      "tf.math.reduce_sum_1 (TFOpLambd ()                   0           tf.math.multiply_5[0][0]         \n",
      "__________________________________________________________________________________________________\n",
      "tf.compat.v1.size (TFOpLambda)  ()                   0           tf.math.multiply_5[0][0]         \n",
      "__________________________________________________________________________________________________\n",
      "tf.math.reduce_sum_2 (TFOpLambd ()                   0           tf.math.reduce_sum_1[0][0]       \n",
      "__________________________________________________________________________________________________\n",
      "tf.cast_4 (TFOpLambda)          ()                   0           tf.compat.v1.size[0][0]          \n",
      "__________________________________________________________________________________________________\n",
      "tf.math.divide_no_nan (TFOpLamb ()                   0           tf.math.reduce_sum_2[0][0]       \n",
      "                                                                 tf.cast_4[0][0]                  \n",
      "__________________________________________________________________________________________________\n",
      "tf.cast_5 (TFOpLambda)          ()                   0           tf.math.divide_no_nan[0][0]      \n",
      "==================================================================================================\n",
      "Total params: 1,173,445\n",
      "Trainable params: 1,173,445\n",
      "Non-trainable params: 0\n",
      "__________________________________________________________________________________________________\n",
      "Filling replay memory\n"
     ]
    },
    {
     "name": "stderr",
     "output_type": "stream",
     "text": [
      "100%|████████████████████████████████████████████████████████████████████████▉| 24970/25000.0 [01:37<00:00, 256.39it/s]\n",
      "  0%|                                                                                       | 0/300000 [00:00<?, ?it/s]"
     ]
    },
    {
     "name": "stdout",
     "output_type": "stream",
     "text": [
      "Running  grid_image\n"
     ]
    },
    {
     "name": "stderr",
     "output_type": "stream",
     "text": [
      "\r",
      "  8%|██████                                                                   | 25087/300000 [00:06<01:12, 3815.80it/s]"
     ]
    },
    {
     "name": "stdout",
     "output_type": "stream",
     "text": [
      "self.evaluation_deque: deque([], maxlen=50)\n",
      "self.evaluation_deque: deque([], maxlen=50)\n",
      "self.evaluation_deque: deque([], maxlen=50)\n",
      "self.evaluation_deque: deque([], maxlen=50)\n"
     ]
    },
    {
     "name": "stderr",
     "output_type": "stream",
     "text": [
      "  8%|██████▎                                                                   | 25396/300000 [00:29<07:05, 644.93it/s]"
     ]
    },
    {
     "name": "stdout",
     "output_type": "stream",
     "text": [
      "self.evaluation_deque: deque([False], maxlen=50)\n"
     ]
    },
    {
     "name": "stderr",
     "output_type": "stream",
     "text": [
      "\r",
      "  8%|██████▎                                                                   | 25485/300000 [00:35<09:13, 496.30it/s]"
     ]
    },
    {
     "name": "stdout",
     "output_type": "stream",
     "text": [
      "self.evaluation_deque: deque([False], maxlen=50)\n",
      "self.evaluation_deque: deque([False], maxlen=50)\n"
     ]
    },
    {
     "name": "stderr",
     "output_type": "stream",
     "text": [
      "\r",
      "  9%|██████▎                                                                   | 25644/300000 [00:46<14:34, 313.68it/s]"
     ]
    },
    {
     "name": "stdout",
     "output_type": "stream",
     "text": [
      "self.evaluation_deque: deque([False], maxlen=50)\n"
     ]
    },
    {
     "name": "stderr",
     "output_type": "stream",
     "text": [
      "\r",
      "  9%|██████▎                                                                   | 25742/300000 [00:53<19:08, 238.80it/s]"
     ]
    },
    {
     "name": "stdout",
     "output_type": "stream",
     "text": [
      "self.evaluation_deque: deque([False], maxlen=50)\n"
     ]
    },
    {
     "name": "stderr",
     "output_type": "stream",
     "text": [
      "\r",
      "  9%|██████▎                                                                   | 25837/300000 [01:01<27:24, 166.74it/s]"
     ]
    },
    {
     "name": "stdout",
     "output_type": "stream",
     "text": [
      "self.evaluation_deque: deque([False, False], maxlen=50)\n"
     ]
    },
    {
     "name": "stderr",
     "output_type": "stream",
     "text": [
      "\r",
      "  9%|██████▍                                                                   | 25901/300000 [01:06<33:01, 138.33it/s]"
     ]
    },
    {
     "name": "stdout",
     "output_type": "stream",
     "text": [
      "self.evaluation_deque: deque([False, False], maxlen=50)\n"
     ]
    },
    {
     "name": "stderr",
     "output_type": "stream",
     "text": [
      "\r",
      "  9%|██████▍                                                                   | 25964/300000 [01:10<40:08, 113.79it/s]"
     ]
    },
    {
     "name": "stdout",
     "output_type": "stream",
     "text": [
      "self.evaluation_deque: deque([False, False], maxlen=50)\n"
     ]
    },
    {
     "name": "stderr",
     "output_type": "stream",
     "text": [
      "\r",
      "  9%|██████▌                                                                    | 26038/300000 [01:15<51:59, 87.82it/s]"
     ]
    },
    {
     "name": "stdout",
     "output_type": "stream",
     "text": [
      "self.evaluation_deque: deque([False, False], maxlen=50)\n"
     ]
    },
    {
     "name": "stderr",
     "output_type": "stream",
     "text": [
      "\r",
      "  9%|██████▎                                                                  | 26091/300000 [01:19<1:03:07, 72.33it/s]"
     ]
    },
    {
     "name": "stdout",
     "output_type": "stream",
     "text": [
      "self.evaluation_deque: deque([False, False], maxlen=50)\n"
     ]
    },
    {
     "name": "stderr",
     "output_type": "stream",
     "text": [
      "\r",
      "  9%|██████▎                                                                  | 26189/300000 [01:27<1:37:29, 46.81it/s]"
     ]
    },
    {
     "name": "stdout",
     "output_type": "stream",
     "text": [
      "self.evaluation_deque: deque([False, False, False], maxlen=50)\n"
     ]
    },
    {
     "name": "stderr",
     "output_type": "stream",
     "text": [
      "\r",
      "  9%|██████▍                                                                  | 26283/300000 [01:34<2:03:19, 36.99it/s]"
     ]
    },
    {
     "name": "stdout",
     "output_type": "stream",
     "text": [
      "self.evaluation_deque: deque([False, False, False], maxlen=50)\n"
     ]
    },
    {
     "name": "stderr",
     "output_type": "stream",
     "text": [
      "\r",
      "  9%|██████▍                                                                  | 26377/300000 [01:40<2:31:48, 30.04it/s]"
     ]
    },
    {
     "name": "stdout",
     "output_type": "stream",
     "text": [
      "self.evaluation_deque: deque([False, False, False], maxlen=50)\n"
     ]
    },
    {
     "name": "stderr",
     "output_type": "stream",
     "text": [
      "\r",
      "  9%|██████▍                                                                  | 26437/300000 [01:44<2:50:04, 26.81it/s]"
     ]
    },
    {
     "name": "stdout",
     "output_type": "stream",
     "text": [
      "self.evaluation_deque: deque([False, False, False], maxlen=50)\n"
     ]
    },
    {
     "name": "stderr",
     "output_type": "stream",
     "text": [
      "\r",
      "  9%|██████▍                                                                  | 26534/300000 [01:51<3:22:48, 22.47it/s]"
     ]
    },
    {
     "name": "stdout",
     "output_type": "stream",
     "text": [
      "self.evaluation_deque: deque([False, False, False], maxlen=50)\n"
     ]
    },
    {
     "name": "stderr",
     "output_type": "stream",
     "text": [
      "\r",
      "  9%|██████▍                                                                  | 26610/300000 [01:59<4:14:19, 17.92it/s]"
     ]
    },
    {
     "name": "stdout",
     "output_type": "stream",
     "text": [
      "self.evaluation_deque: deque([False, False, False, False], maxlen=50)\n"
     ]
    },
    {
     "name": "stderr",
     "output_type": "stream",
     "text": [
      "\r",
      "  9%|██████▍                                                                  | 26663/300000 [02:03<4:25:04, 17.19it/s]"
     ]
    },
    {
     "name": "stdout",
     "output_type": "stream",
     "text": [
      "self.evaluation_deque: deque([False, False, False, False], maxlen=50)\n"
     ]
    },
    {
     "name": "stderr",
     "output_type": "stream",
     "text": [
      "\r",
      "  9%|██████▌                                                                  | 26734/300000 [02:08<4:40:13, 16.25it/s]"
     ]
    },
    {
     "name": "stdout",
     "output_type": "stream",
     "text": [
      "self.evaluation_deque: deque([False, False, False, False], maxlen=50)\n"
     ]
    },
    {
     "name": "stderr",
     "output_type": "stream",
     "text": [
      "\r",
      "  9%|██████▌                                                                  | 26821/300000 [02:14<4:51:42, 15.61it/s]"
     ]
    },
    {
     "name": "stdout",
     "output_type": "stream",
     "text": [
      "self.evaluation_deque: deque([False, False, False, False], maxlen=50)\n"
     ]
    },
    {
     "name": "stderr",
     "output_type": "stream",
     "text": [
      "\r",
      "  9%|██████▌                                                                  | 26883/300000 [02:18<4:56:45, 15.34it/s]"
     ]
    },
    {
     "name": "stdout",
     "output_type": "stream",
     "text": [
      "self.evaluation_deque: deque([False, False, False, False], maxlen=50)\n"
     ]
    },
    {
     "name": "stderr",
     "output_type": "stream",
     "text": [
      "\r",
      "  9%|██████▌                                                                  | 26971/300000 [02:27<5:51:43, 12.94it/s]"
     ]
    },
    {
     "name": "stdout",
     "output_type": "stream",
     "text": [
      "self.evaluation_deque: deque([False, False, False, False, False], maxlen=50)\n"
     ]
    },
    {
     "name": "stderr",
     "output_type": "stream",
     "text": [
      "\r",
      "  9%|██████▌                                                                  | 27024/300000 [02:31<5:44:29, 13.21it/s]"
     ]
    },
    {
     "name": "stdout",
     "output_type": "stream",
     "text": [
      "self.evaluation_deque: deque([False, False, False, False, False], maxlen=50)\n"
     ]
    },
    {
     "name": "stderr",
     "output_type": "stream",
     "text": [
      "\r",
      "  9%|██████▌                                                                  | 27103/300000 [02:37<5:35:01, 13.58it/s]"
     ]
    },
    {
     "name": "stdout",
     "output_type": "stream",
     "text": [
      "self.evaluation_deque: deque([False, False, False, False, False], maxlen=50)\n"
     ]
    },
    {
     "name": "stderr",
     "output_type": "stream",
     "text": [
      "\r",
      "  9%|██████▌                                                                  | 27172/300000 [02:41<5:31:55, 13.70it/s]"
     ]
    },
    {
     "name": "stdout",
     "output_type": "stream",
     "text": [
      "self.evaluation_deque: deque([False, False, False, False, False], maxlen=50)\n"
     ]
    },
    {
     "name": "stderr",
     "output_type": "stream",
     "text": [
      "\r",
      "  9%|██████▋                                                                  | 27251/300000 [02:47<5:33:12, 13.64it/s]"
     ]
    },
    {
     "name": "stdout",
     "output_type": "stream",
     "text": [
      "self.evaluation_deque: deque([False, False, False, False, False], maxlen=50)\n"
     ]
    },
    {
     "name": "stderr",
     "output_type": "stream",
     "text": [
      "\r",
      "  9%|██████▋                                                                  | 27309/300000 [02:53<6:00:41, 12.60it/s]"
     ]
    },
    {
     "name": "stdout",
     "output_type": "stream",
     "text": [
      "self.evaluation_deque: deque([False, False, False, False, False, False], maxlen=50)\n"
     ]
    },
    {
     "name": "stderr",
     "output_type": "stream",
     "text": [
      "\r",
      "  9%|██████▋                                                                  | 27408/300000 [03:00<5:40:50, 13.33it/s]"
     ]
    },
    {
     "name": "stdout",
     "output_type": "stream",
     "text": [
      "self.evaluation_deque: deque([False, False, False, False, False, False], maxlen=50)\n"
     ]
    },
    {
     "name": "stderr",
     "output_type": "stream",
     "text": [
      "\r",
      "  9%|██████▋                                                                  | 27485/300000 [03:05<5:28:45, 13.82it/s]"
     ]
    },
    {
     "name": "stdout",
     "output_type": "stream",
     "text": [
      "self.evaluation_deque: deque([False, False, False, False, False, False], maxlen=50)\n"
     ]
    },
    {
     "name": "stderr",
     "output_type": "stream",
     "text": [
      "\r",
      "  9%|██████▋                                                                  | 27541/300000 [03:09<5:27:10, 13.88it/s]"
     ]
    },
    {
     "name": "stdout",
     "output_type": "stream",
     "text": [
      "self.evaluation_deque: deque([False, False, False, False, False, False], maxlen=50)\n"
     ]
    },
    {
     "name": "stderr",
     "output_type": "stream",
     "text": [
      "\r",
      "  9%|██████▋                                                                  | 27621/300000 [03:14<5:20:06, 14.18it/s]"
     ]
    },
    {
     "name": "stdout",
     "output_type": "stream",
     "text": [
      "self.evaluation_deque: deque([False, False, False, False, False, False], maxlen=50)\n"
     ]
    },
    {
     "name": "stderr",
     "output_type": "stream",
     "text": [
      "\r",
      "  9%|██████▋                                                                  | 27682/300000 [03:21<6:16:41, 12.05it/s]"
     ]
    },
    {
     "name": "stdout",
     "output_type": "stream",
     "text": [
      "self.evaluation_deque: deque([False, False, False, False, False, False, False], maxlen=50)\n"
     ]
    },
    {
     "name": "stderr",
     "output_type": "stream",
     "text": [
      "\r",
      "  9%|██████▊                                                                  | 27746/300000 [03:26<5:59:19, 12.63it/s]"
     ]
    },
    {
     "name": "stdout",
     "output_type": "stream",
     "text": [
      "self.evaluation_deque: deque([False, False, False, False, False, False, False], maxlen=50)\n"
     ]
    },
    {
     "name": "stderr",
     "output_type": "stream",
     "text": [
      "\r",
      "  9%|██████▊                                                                  | 27816/300000 [03:30<5:41:20, 13.29it/s]"
     ]
    },
    {
     "name": "stdout",
     "output_type": "stream",
     "text": [
      "self.evaluation_deque: deque([False, False, False, False, False, False, False], maxlen=50)\n"
     ]
    },
    {
     "name": "stderr",
     "output_type": "stream",
     "text": [
      "\r",
      "  9%|██████▊                                                                  | 27884/300000 [03:35<5:30:38, 13.72it/s]"
     ]
    },
    {
     "name": "stdout",
     "output_type": "stream",
     "text": [
      "self.evaluation_deque: deque([False, False, False, False, False, False, False], maxlen=50)\n"
     ]
    },
    {
     "name": "stderr",
     "output_type": "stream",
     "text": [
      "\r",
      "  9%|██████▊                                                                  | 27963/300000 [03:40<5:22:43, 14.05it/s]"
     ]
    },
    {
     "name": "stdout",
     "output_type": "stream",
     "text": [
      "self.evaluation_deque: deque([False, False, False, False, False, False, False], maxlen=50)\n"
     ]
    },
    {
     "name": "stderr",
     "output_type": "stream",
     "text": [
      "\r",
      "  9%|██████▊                                                                  | 28050/300000 [03:49<6:01:20, 12.54it/s]"
     ]
    },
    {
     "name": "stdout",
     "output_type": "stream",
     "text": [
      "self.evaluation_deque: deque([False, False, False, False, False, False, False, False], maxlen=50)\n"
     ]
    },
    {
     "name": "stderr",
     "output_type": "stream",
     "text": [
      "\r",
      "  9%|██████▊                                                                  | 28108/300000 [03:53<5:48:44, 12.99it/s]"
     ]
    },
    {
     "name": "stdout",
     "output_type": "stream",
     "text": [
      "self.evaluation_deque: deque([False, False, False, False, False, False, False, False], maxlen=50)\n"
     ]
    },
    {
     "name": "stderr",
     "output_type": "stream",
     "text": [
      "\r",
      "  9%|██████▊                                                                  | 28179/300000 [03:58<5:36:29, 13.46it/s]"
     ]
    },
    {
     "name": "stdout",
     "output_type": "stream",
     "text": [
      "self.evaluation_deque: deque([False, False, False, False, False, False, False, False], maxlen=50)\n"
     ]
    },
    {
     "name": "stderr",
     "output_type": "stream",
     "text": [
      "\r",
      "  9%|██████▊                                                                  | 28231/300000 [04:01<5:31:14, 13.67it/s]"
     ]
    },
    {
     "name": "stdout",
     "output_type": "stream",
     "text": [
      "self.evaluation_deque: deque([False, False, False, False, False, False, False, False], maxlen=50)\n"
     ]
    },
    {
     "name": "stderr",
     "output_type": "stream",
     "text": [
      "\r",
      "  9%|██████▉                                                                  | 28284/300000 [04:05<5:22:45, 14.03it/s]"
     ]
    },
    {
     "name": "stdout",
     "output_type": "stream",
     "text": [
      "self.evaluation_deque: deque([False, False, False, False, False, False, False, False], maxlen=50)\n"
     ]
    },
    {
     "name": "stderr",
     "output_type": "stream",
     "text": [
      "\r",
      "  9%|██████▉                                                                  | 28368/300000 [04:12<5:57:13, 12.67it/s]"
     ]
    },
    {
     "name": "stdout",
     "output_type": "stream",
     "text": [
      "self.evaluation_deque: deque([False, False, False, False, False, False, False, False, False], maxlen=50)\n"
     ]
    },
    {
     "name": "stderr",
     "output_type": "stream",
     "text": [
      "\r",
      "  9%|██████▉                                                                  | 28460/300000 [04:19<5:39:19, 13.34it/s]"
     ]
    },
    {
     "name": "stdout",
     "output_type": "stream",
     "text": [
      "self.evaluation_deque: deque([False, False, False, False, False, False, False, False, False], maxlen=50)\n"
     ]
    },
    {
     "name": "stderr",
     "output_type": "stream",
     "text": [
      "\r",
      " 10%|██████▉                                                                  | 28514/300000 [04:23<5:42:03, 13.23it/s]"
     ]
    },
    {
     "name": "stdout",
     "output_type": "stream",
     "text": [
      "self.evaluation_deque: deque([False, False, False, False, False, False, False, False, False], maxlen=50)\n"
     ]
    },
    {
     "name": "stderr",
     "output_type": "stream",
     "text": [
      "\r",
      " 10%|██████▉                                                                  | 28582/300000 [04:27<5:29:30, 13.73it/s]"
     ]
    },
    {
     "name": "stdout",
     "output_type": "stream",
     "text": [
      "self.evaluation_deque: deque([False, False, False, False, False, False, False, False, False], maxlen=50)\n"
     ]
    },
    {
     "name": "stderr",
     "output_type": "stream",
     "text": [
      "\r",
      " 10%|██████▉                                                                  | 28680/300000 [04:34<5:24:16, 13.95it/s]"
     ]
    },
    {
     "name": "stdout",
     "output_type": "stream",
     "text": [
      "self.evaluation_deque: deque([False, False, False, False, False, False, False, False, False], maxlen=50)\n"
     ]
    },
    {
     "name": "stderr",
     "output_type": "stream",
     "text": [
      "\r",
      " 10%|███████                                                                  | 28774/300000 [04:43<5:58:33, 12.61it/s]"
     ]
    },
    {
     "name": "stdout",
     "output_type": "stream",
     "text": [
      "self.evaluation_deque: deque([False, False, False, False, False, False, False, False, False, False], maxlen=50)\n"
     ]
    },
    {
     "name": "stderr",
     "output_type": "stream",
     "text": [
      "\r",
      " 10%|███████                                                                  | 28847/300000 [04:48<5:44:46, 13.11it/s]"
     ]
    },
    {
     "name": "stdout",
     "output_type": "stream",
     "text": [
      "self.evaluation_deque: deque([False, False, False, False, False, False, False, False, False, False], maxlen=50)\n"
     ]
    },
    {
     "name": "stderr",
     "output_type": "stream",
     "text": [
      "\r",
      " 10%|███████                                                                  | 28898/300000 [04:51<5:36:51, 13.41it/s]"
     ]
    },
    {
     "name": "stdout",
     "output_type": "stream",
     "text": [
      "self.evaluation_deque: deque([False, False, False, False, False, False, False, False, False, False], maxlen=50)\n"
     ]
    },
    {
     "name": "stderr",
     "output_type": "stream",
     "text": [
      "\r",
      " 10%|███████                                                                  | 28951/300000 [04:55<5:26:48, 13.82it/s]"
     ]
    },
    {
     "name": "stdout",
     "output_type": "stream",
     "text": [
      "self.evaluation_deque: deque([False, False, False, False, False, False, False, False, False, False], maxlen=50)\n"
     ]
    },
    {
     "name": "stderr",
     "output_type": "stream",
     "text": [
      "\r",
      " 10%|███████                                                                  | 29005/300000 [04:59<5:21:55, 14.03it/s]"
     ]
    },
    {
     "name": "stdout",
     "output_type": "stream",
     "text": [
      "self.evaluation_deque: deque([False, False, False, False, False, False, False, False, False, False], maxlen=50)\n"
     ]
    },
    {
     "name": "stderr",
     "output_type": "stream",
     "text": [
      "\r",
      " 10%|███████                                                                  | 29074/300000 [05:07<6:25:56, 11.70it/s]"
     ]
    },
    {
     "name": "stdout",
     "output_type": "stream",
     "text": [
      "self.evaluation_deque: deque([False, False, False, False, False, False, False, False, False, False, False], maxlen=50)\n"
     ]
    },
    {
     "name": "stderr",
     "output_type": "stream",
     "text": [
      "\r",
      " 10%|███████                                                                  | 29159/300000 [05:12<5:59:25, 12.56it/s]"
     ]
    },
    {
     "name": "stdout",
     "output_type": "stream",
     "text": [
      "self.evaluation_deque: deque([False, False, False, False, False, False, False, False, False, False, False], maxlen=50)\n"
     ]
    },
    {
     "name": "stderr",
     "output_type": "stream",
     "text": [
      "\r",
      " 10%|███████                                                                  | 29211/300000 [05:16<5:49:50, 12.90it/s]"
     ]
    },
    {
     "name": "stdout",
     "output_type": "stream",
     "text": [
      "self.evaluation_deque: deque([False, False, False, False, False, False, False, False, False, False, False], maxlen=50)\n"
     ]
    },
    {
     "name": "stderr",
     "output_type": "stream",
     "text": [
      "\r",
      " 10%|███████                                                                  | 29278/300000 [05:21<5:35:08, 13.46it/s]"
     ]
    },
    {
     "name": "stdout",
     "output_type": "stream",
     "text": [
      "self.evaluation_deque: deque([False, False, False, False, False, False, False, False, False, False, False], maxlen=50)\n"
     ]
    },
    {
     "name": "stderr",
     "output_type": "stream",
     "text": [
      "\r",
      " 10%|███████▏                                                                 | 29356/300000 [05:26<5:25:35, 13.85it/s]"
     ]
    },
    {
     "name": "stdout",
     "output_type": "stream",
     "text": [
      "self.evaluation_deque: deque([False, False, False, False, False, False, False, False, False, False, False], maxlen=50)\n"
     ]
    },
    {
     "name": "stderr",
     "output_type": "stream",
     "text": [
      "\r",
      " 10%|███████▏                                                                 | 29434/300000 [05:33<5:52:57, 12.78it/s]"
     ]
    },
    {
     "name": "stdout",
     "output_type": "stream",
     "text": [
      "self.evaluation_deque: deque([False, False, False, False, False, False, False, False, False, False, False, False], maxlen=50)\n"
     ]
    },
    {
     "name": "stderr",
     "output_type": "stream",
     "text": [
      "\r",
      " 10%|███████▏                                                                 | 29490/300000 [05:37<5:44:54, 13.07it/s]"
     ]
    },
    {
     "name": "stdout",
     "output_type": "stream",
     "text": [
      "self.evaluation_deque: deque([False, False, False, False, False, False, False, False, False, False, False, False], maxlen=50)\n"
     ]
    },
    {
     "name": "stderr",
     "output_type": "stream",
     "text": [
      "\r",
      " 10%|███████▏                                                                 | 29565/300000 [05:43<5:44:46, 13.07it/s]"
     ]
    },
    {
     "name": "stdout",
     "output_type": "stream",
     "text": [
      "self.evaluation_deque: deque([False, False, False, False, False, False, False, False, False, False, False, False], maxlen=50)\n"
     ]
    },
    {
     "name": "stderr",
     "output_type": "stream",
     "text": [
      "\r",
      " 10%|███████▏                                                                 | 29621/300000 [05:47<5:35:39, 13.43it/s]"
     ]
    },
    {
     "name": "stdout",
     "output_type": "stream",
     "text": [
      "self.evaluation_deque: deque([False, False, False, False, False, False, False, False, False, False, False, False], maxlen=50)\n"
     ]
    },
    {
     "name": "stderr",
     "output_type": "stream",
     "text": [
      "\r",
      " 10%|███████▏                                                                 | 29693/300000 [05:52<5:26:40, 13.79it/s]"
     ]
    },
    {
     "name": "stdout",
     "output_type": "stream",
     "text": [
      "self.evaluation_deque: deque([False, False, False, False, False, False, False, False, False, False, False, False], maxlen=50)\n"
     ]
    },
    {
     "name": "stderr",
     "output_type": "stream",
     "text": [
      "\r",
      " 10%|███████▏                                                                 | 29762/300000 [05:58<5:57:49, 12.59it/s]"
     ]
    },
    {
     "name": "stdout",
     "output_type": "stream",
     "text": [
      "self.evaluation_deque: deque([False, False, False, False, False, False, False, False, False, False, False, False, False], maxlen=50)\n"
     ]
    },
    {
     "name": "stderr",
     "output_type": "stream",
     "text": [
      "\r",
      " 10%|███████▎                                                                 | 29823/300000 [06:02<5:43:52, 13.09it/s]"
     ]
    },
    {
     "name": "stdout",
     "output_type": "stream",
     "text": [
      "self.evaluation_deque: deque([False, False, False, False, False, False, False, False, False, False, False, False, False], maxlen=50)\n"
     ]
    },
    {
     "name": "stderr",
     "output_type": "stream",
     "text": [
      "\r",
      " 10%|███████▎                                                                 | 29905/300000 [06:08<5:33:42, 13.49it/s]"
     ]
    },
    {
     "name": "stdout",
     "output_type": "stream",
     "text": [
      "self.evaluation_deque: deque([False, False, False, False, False, False, False, False, False, False, False, False, False], maxlen=50)\n"
     ]
    },
    {
     "name": "stderr",
     "output_type": "stream",
     "text": [
      "\r",
      " 10%|███████▎                                                                 | 29974/300000 [06:13<5:25:34, 13.82it/s]"
     ]
    },
    {
     "name": "stdout",
     "output_type": "stream",
     "text": [
      "self.evaluation_deque: deque([False, False, False, False, False, False, False, False, False, False, False, False, False], maxlen=50)\n"
     ]
    },
    {
     "name": "stderr",
     "output_type": "stream",
     "text": [
      "\r",
      " 10%|███████▎                                                                 | 30071/300000 [06:19<5:19:18, 14.09it/s]"
     ]
    },
    {
     "name": "stdout",
     "output_type": "stream",
     "text": [
      "self.evaluation_deque: deque([False, False, False, False, False, False, False, False, False, False, False, False, False], maxlen=50)\n"
     ]
    },
    {
     "name": "stderr",
     "output_type": "stream",
     "text": [
      "\r",
      " 10%|███████▎                                                                 | 30147/300000 [06:26<5:44:10, 13.07it/s]"
     ]
    },
    {
     "name": "stdout",
     "output_type": "stream",
     "text": [
      "self.evaluation_deque: deque([False, False, False, False, False, False, False, False, False, False, False, False, False, False], maxlen=50)\n"
     ]
    },
    {
     "name": "stderr",
     "output_type": "stream",
     "text": [
      "\r",
      " 10%|███████▎                                                                 | 30214/300000 [06:31<5:34:02, 13.46it/s]"
     ]
    },
    {
     "name": "stdout",
     "output_type": "stream",
     "text": [
      "self.evaluation_deque: deque([False, False, False, False, False, False, False, False, False, False, False, False, False, False], maxlen=50)\n"
     ]
    },
    {
     "name": "stderr",
     "output_type": "stream",
     "text": [
      "\r",
      " 10%|███████▎                                                                 | 30274/300000 [06:36<5:39:53, 13.23it/s]"
     ]
    },
    {
     "name": "stdout",
     "output_type": "stream",
     "text": [
      "self.evaluation_deque: deque([False, False, False, False, False, False, False, False, False, False, False, False, False, False], maxlen=50)\n"
     ]
    },
    {
     "name": "stderr",
     "output_type": "stream",
     "text": [
      "\r",
      " 10%|███████▍                                                                 | 30372/300000 [06:42<5:27:20, 13.73it/s]"
     ]
    },
    {
     "name": "stdout",
     "output_type": "stream",
     "text": [
      "self.evaluation_deque: deque([False, False, False, False, False, False, False, False, False, False, False, False, False, False], maxlen=50)\n"
     ]
    },
    {
     "name": "stderr",
     "output_type": "stream",
     "text": [
      "\r",
      " 10%|███████▍                                                                 | 30425/300000 [06:46<5:21:00, 14.00it/s]"
     ]
    },
    {
     "name": "stdout",
     "output_type": "stream",
     "text": [
      "self.evaluation_deque: deque([False, False, False, False, False, False, False, False, False, False, False, False, False, False], maxlen=50)\n"
     ]
    },
    {
     "name": "stderr",
     "output_type": "stream",
     "text": [
      "\r",
      " 10%|███████▍                                                                 | 30519/300000 [06:54<5:45:54, 12.98it/s]"
     ]
    },
    {
     "name": "stdout",
     "output_type": "stream",
     "text": [
      "self.evaluation_deque: deque([False, False, False, False, False, False, False, False, False, False, False, False, False, False, False], maxlen=50)\n"
     ]
    },
    {
     "name": "stderr",
     "output_type": "stream",
     "text": [
      "\r",
      " 10%|███████▍                                                                 | 30614/300000 [07:00<5:33:53, 13.45it/s]"
     ]
    },
    {
     "name": "stdout",
     "output_type": "stream",
     "text": [
      "self.evaluation_deque: deque([False, False, False, False, False, False, False, False, False, False, False, False, False, False, False], maxlen=50)\n"
     ]
    },
    {
     "name": "stderr",
     "output_type": "stream",
     "text": [
      "\r",
      " 10%|███████▍                                                                 | 30667/300000 [07:04<5:28:32, 13.66it/s]"
     ]
    },
    {
     "name": "stdout",
     "output_type": "stream",
     "text": [
      "self.evaluation_deque: deque([False, False, False, False, False, False, False, False, False, False, False, False, False, False, False], maxlen=50)\n"
     ]
    },
    {
     "name": "stderr",
     "output_type": "stream",
     "text": [
      "\r",
      " 10%|███████▍                                                                 | 30734/300000 [07:09<5:22:33, 13.91it/s]"
     ]
    },
    {
     "name": "stdout",
     "output_type": "stream",
     "text": [
      "self.evaluation_deque: deque([False, False, False, False, False, False, False, False, False, False, False, False, False, False, False], maxlen=50)\n"
     ]
    },
    {
     "name": "stderr",
     "output_type": "stream",
     "text": [
      "\r",
      " 10%|███████▌                                                                 | 30833/300000 [07:15<5:16:46, 14.16it/s]"
     ]
    },
    {
     "name": "stdout",
     "output_type": "stream",
     "text": [
      "self.evaluation_deque: deque([False, False, False, False, False, False, False, False, False, False, False, False, False, False, False], maxlen=50)\n"
     ]
    },
    {
     "name": "stderr",
     "output_type": "stream",
     "text": [
      "\r",
      " 10%|███████▌                                                                 | 30888/300000 [07:22<5:57:18, 12.55it/s]"
     ]
    },
    {
     "name": "stdout",
     "output_type": "stream",
     "text": [
      "self.evaluation_deque: deque([False, False, False, False, False, False, False, False, False, False, False, False, False, False, False, False], maxlen=50)\n"
     ]
    },
    {
     "name": "stderr",
     "output_type": "stream",
     "text": [
      "\r",
      " 10%|███████▌                                                                 | 30959/300000 [07:26<5:40:22, 13.17it/s]"
     ]
    },
    {
     "name": "stdout",
     "output_type": "stream",
     "text": [
      "self.evaluation_deque: deque([False, False, False, False, False, False, False, False, False, False, False, False, False, False, False, False], maxlen=50)\n"
     ]
    },
    {
     "name": "stderr",
     "output_type": "stream",
     "text": [
      "\r",
      " 10%|███████▌                                                                 | 31031/300000 [07:32<5:41:14, 13.14it/s]"
     ]
    },
    {
     "name": "stdout",
     "output_type": "stream",
     "text": [
      "self.evaluation_deque: deque([False, False, False, False, False, False, False, False, False, False, False, False, False, False, False, False], maxlen=50)\n"
     ]
    },
    {
     "name": "stderr",
     "output_type": "stream",
     "text": [
      "\r",
      " 10%|███████▌                                                                 | 31101/300000 [07:37<5:29:48, 13.59it/s]"
     ]
    },
    {
     "name": "stdout",
     "output_type": "stream",
     "text": [
      "self.evaluation_deque: deque([False, False, False, False, False, False, False, False, False, False, False, False, False, False, False, False], maxlen=50)\n"
     ]
    },
    {
     "name": "stderr",
     "output_type": "stream",
     "text": [
      "\r",
      " 10%|███████▌                                                                 | 31190/300000 [07:43<5:25:41, 13.76it/s]"
     ]
    },
    {
     "name": "stdout",
     "output_type": "stream",
     "text": [
      "self.evaluation_deque: deque([False, False, False, False, False, False, False, False, False, False, False, False, False, False, False, False], maxlen=50)\n"
     ]
    },
    {
     "name": "stderr",
     "output_type": "stream",
     "text": [
      "\r",
      " 10%|███████▌                                                                 | 31261/300000 [07:50<6:04:30, 12.29it/s]"
     ]
    },
    {
     "name": "stdout",
     "output_type": "stream",
     "text": [
      "self.evaluation_deque: deque([False, False, False, False, False, False, False, False, False, False, False, False, False, False, False, False, False], maxlen=50)\n"
     ]
    },
    {
     "name": "stderr",
     "output_type": "stream",
     "text": [
      "\r",
      " 10%|███████▌                                                                 | 31317/300000 [07:54<5:50:32, 12.77it/s]"
     ]
    },
    {
     "name": "stdout",
     "output_type": "stream",
     "text": [
      "self.evaluation_deque: deque([False, False, False, False, False, False, False, False, False, False, False, False, False, False, False, False, False], maxlen=50)\n"
     ]
    },
    {
     "name": "stderr",
     "output_type": "stream",
     "text": [
      "\r",
      " 10%|███████▋                                                                 | 31408/300000 [08:00<5:34:36, 13.38it/s]"
     ]
    },
    {
     "name": "stdout",
     "output_type": "stream",
     "text": [
      "self.evaluation_deque: deque([False, False, False, False, False, False, False, False, False, False, False, False, False, False, False, False, False], maxlen=50)\n"
     ]
    },
    {
     "name": "stderr",
     "output_type": "stream",
     "text": [
      "\r",
      " 10%|███████▋                                                                 | 31474/300000 [08:05<5:29:20, 13.59it/s]"
     ]
    },
    {
     "name": "stdout",
     "output_type": "stream",
     "text": [
      "self.evaluation_deque: deque([False, False, False, False, False, False, False, False, False, False, False, False, False, False, False, False, False], maxlen=50)\n"
     ]
    },
    {
     "name": "stderr",
     "output_type": "stream",
     "text": [
      "\r",
      " 11%|███████▋                                                                 | 31528/300000 [08:09<5:23:15, 13.84it/s]"
     ]
    },
    {
     "name": "stdout",
     "output_type": "stream",
     "text": [
      "self.evaluation_deque: deque([False, False, False, False, False, False, False, False, False, False, False, False, False, False, False, False, False], maxlen=50)\n"
     ]
    },
    {
     "name": "stderr",
     "output_type": "stream",
     "text": [
      "\r",
      " 11%|███████▋                                                                 | 31614/300000 [08:17<6:00:05, 12.42it/s]"
     ]
    },
    {
     "name": "stdout",
     "output_type": "stream",
     "text": [
      "self.evaluation_deque: deque([False, False, False, False, False, False, False, False, False, False, False, False, False, False, False, False, False, False], maxlen=50)\n"
     ]
    },
    {
     "name": "stderr",
     "output_type": "stream",
     "text": [
      "\r",
      " 11%|███████▋                                                                 | 31689/300000 [08:22<5:42:04, 13.07it/s]"
     ]
    },
    {
     "name": "stdout",
     "output_type": "stream",
     "text": [
      "self.evaluation_deque: deque([False, False, False, False, False, False, False, False, False, False, False, False, False, False, False, False, False, False], maxlen=50)\n"
     ]
    },
    {
     "name": "stderr",
     "output_type": "stream",
     "text": [
      "\r",
      " 11%|███████▋                                                                 | 31767/300000 [08:28<5:47:28, 12.87it/s]"
     ]
    },
    {
     "name": "stdout",
     "output_type": "stream",
     "text": [
      "self.evaluation_deque: deque([False, False, False, False, False, False, False, False, False, False, False, False, False, False, False, False, False, False], maxlen=50)\n"
     ]
    },
    {
     "name": "stderr",
     "output_type": "stream",
     "text": [
      "\r",
      " 11%|███████▋                                                                 | 31832/300000 [08:33<5:38:01, 13.22it/s]"
     ]
    },
    {
     "name": "stdout",
     "output_type": "stream",
     "text": [
      "self.evaluation_deque: deque([False, False, False, False, False, False, False, False, False, False, False, False, False, False, False, False, False, False], maxlen=50)\n"
     ]
    },
    {
     "name": "stderr",
     "output_type": "stream",
     "text": [
      "\r",
      " 11%|███████▊                                                                 | 31926/300000 [08:39<5:29:34, 13.56it/s]"
     ]
    },
    {
     "name": "stdout",
     "output_type": "stream",
     "text": [
      "self.evaluation_deque: deque([False, False, False, False, False, False, False, False, False, False, False, False, False, False, False, False, False, False], maxlen=50)\n"
     ]
    },
    {
     "name": "stderr",
     "output_type": "stream",
     "text": [
      "\r",
      " 11%|███████▊                                                                 | 31978/300000 [08:45<6:03:55, 12.27it/s]"
     ]
    },
    {
     "name": "stdout",
     "output_type": "stream",
     "text": [
      "self.evaluation_deque: deque([False, False, False, False, False, False, False, False, False, False, False, False, False, False, False, False, False, False, False], maxlen=50)\n"
     ]
    },
    {
     "name": "stderr",
     "output_type": "stream",
     "text": [
      "\r",
      " 11%|███████▊                                                                 | 32062/300000 [08:51<5:42:46, 13.03it/s]"
     ]
    },
    {
     "name": "stdout",
     "output_type": "stream",
     "text": [
      "self.evaluation_deque: deque([False, False, False, False, False, False, False, False, False, False, False, False, False, False, False, False, False, False, False], maxlen=50)\n"
     ]
    },
    {
     "name": "stderr",
     "output_type": "stream",
     "text": [
      "\r",
      " 11%|███████▊                                                                 | 32159/300000 [08:57<5:25:59, 13.69it/s]"
     ]
    },
    {
     "name": "stdout",
     "output_type": "stream",
     "text": [
      "self.evaluation_deque: deque([False, False, False, False, False, False, False, False, False, False, False, False, False, False, False, False, False, False, False], maxlen=50)\n"
     ]
    },
    {
     "name": "stderr",
     "output_type": "stream",
     "text": [
      "\r",
      " 11%|███████▊                                                                 | 32227/300000 [09:02<5:17:13, 14.07it/s]"
     ]
    },
    {
     "name": "stdout",
     "output_type": "stream",
     "text": [
      "self.evaluation_deque: deque([False, False, False, False, False, False, False, False, False, False, False, False, False, False, False, False, False, False, False], maxlen=50)\n"
     ]
    },
    {
     "name": "stderr",
     "output_type": "stream",
     "text": [
      "\r",
      " 11%|███████▊                                                                 | 32314/300000 [09:07<5:11:35, 14.32it/s]"
     ]
    },
    {
     "name": "stdout",
     "output_type": "stream",
     "text": [
      "self.evaluation_deque: deque([False, False, False, False, False, False, False, False, False, False, False, False, False, False, False, False, False, False, False], maxlen=50)\n"
     ]
    },
    {
     "name": "stderr",
     "output_type": "stream",
     "text": [
      "\r",
      " 11%|███████▉                                                                 | 32410/300000 [09:16<5:47:14, 12.84it/s]"
     ]
    },
    {
     "name": "stdout",
     "output_type": "stream",
     "text": [
      "self.evaluation_deque: deque([False, False, False, False, False, False, False, False, False, False, False, False, False, False, False, False, False, False, False, False], maxlen=50)\n"
     ]
    },
    {
     "name": "stderr",
     "output_type": "stream",
     "text": [
      "\r",
      " 11%|███████▉                                                                 | 32462/300000 [09:20<5:39:49, 13.12it/s]"
     ]
    },
    {
     "name": "stdout",
     "output_type": "stream",
     "text": [
      "self.evaluation_deque: deque([False, False, False, False, False, False, False, False, False, False, False, False, False, False, False, False, False, False, False, False], maxlen=50)\n"
     ]
    },
    {
     "name": "stderr",
     "output_type": "stream",
     "text": [
      "\r",
      " 11%|███████▉                                                                 | 32526/300000 [09:24<5:30:16, 13.50it/s]"
     ]
    },
    {
     "name": "stdout",
     "output_type": "stream",
     "text": [
      "self.evaluation_deque: deque([False, False, False, False, False, False, False, False, False, False, False, False, False, False, False, False, False, False, False, False], maxlen=50)\n"
     ]
    },
    {
     "name": "stderr",
     "output_type": "stream",
     "text": [
      "\r",
      " 11%|███████▉                                                                 | 32598/300000 [09:29<5:19:48, 13.94it/s]"
     ]
    },
    {
     "name": "stdout",
     "output_type": "stream",
     "text": [
      "self.evaluation_deque: deque([False, False, False, False, False, False, False, False, False, False, False, False, False, False, False, False, False, False, False, False], maxlen=50)\n"
     ]
    },
    {
     "name": "stderr",
     "output_type": "stream",
     "text": [
      "\r",
      " 11%|███████▉                                                                 | 32668/300000 [09:34<5:12:58, 14.24it/s]"
     ]
    },
    {
     "name": "stdout",
     "output_type": "stream",
     "text": [
      "self.evaluation_deque: deque([False, False, False, False, False, False, False, False, False, False, False, False, False, False, False, False, False, False, False, False], maxlen=50)\n"
     ]
    },
    {
     "name": "stderr",
     "output_type": "stream",
     "text": [
      "\r",
      " 11%|███████▉                                                                 | 32760/300000 [09:43<6:07:32, 12.12it/s]"
     ]
    },
    {
     "name": "stdout",
     "output_type": "stream",
     "text": [
      "self.evaluation_deque: deque([False, False, False, False, False, False, False, False, False, False, False, False, False, False, False, False, False, False, False, False, False], maxlen=50)\n"
     ]
    },
    {
     "name": "stderr",
     "output_type": "stream",
     "text": [
      "\r",
      " 11%|███████▉                                                                 | 32849/300000 [09:50<5:47:52, 12.80it/s]"
     ]
    },
    {
     "name": "stdout",
     "output_type": "stream",
     "text": [
      "self.evaluation_deque: deque([False, False, False, False, False, False, False, False, False, False, False, False, False, False, False, False, False, False, False, False, False], maxlen=50)\n"
     ]
    },
    {
     "name": "stderr",
     "output_type": "stream",
     "text": [
      "\r",
      " 11%|████████                                                                 | 32946/300000 [09:56<5:35:40, 13.26it/s]"
     ]
    },
    {
     "name": "stdout",
     "output_type": "stream",
     "text": [
      "self.evaluation_deque: deque([False, False, False, False, False, False, False, False, False, False, False, False, False, False, False, False, False, False, False, False, False], maxlen=50)\n"
     ]
    },
    {
     "name": "stderr",
     "output_type": "stream",
     "text": [
      "\r",
      " 11%|████████                                                                 | 33006/300000 [10:01<5:28:12, 13.56it/s]"
     ]
    },
    {
     "name": "stdout",
     "output_type": "stream",
     "text": [
      "self.evaluation_deque: deque([False, False, False, False, False, False, False, False, False, False, False, False, False, False, False, False, False, False, False, False, False], maxlen=50)\n"
     ]
    },
    {
     "name": "stderr",
     "output_type": "stream",
     "text": [
      "\r",
      " 11%|████████                                                                 | 33078/300000 [10:05<5:19:10, 13.94it/s]"
     ]
    },
    {
     "name": "stdout",
     "output_type": "stream",
     "text": [
      "self.evaluation_deque: deque([False, False, False, False, False, False, False, False, False, False, False, False, False, False, False, False, False, False, False, False, False], maxlen=50)\n"
     ]
    },
    {
     "name": "stderr",
     "output_type": "stream",
     "text": [
      "\r",
      " 11%|████████                                                                 | 33130/300000 [10:11<5:55:02, 12.53it/s]"
     ]
    },
    {
     "name": "stdout",
     "output_type": "stream",
     "text": [
      "self.evaluation_deque: deque([False, False, False, False, False, False, False, False, False, False, False, False, False, False, False, False, False, False, False, False, False, False], maxlen=50)\n"
     ]
    },
    {
     "name": "stderr",
     "output_type": "stream",
     "text": [
      "\r",
      " 11%|████████                                                                 | 33181/300000 [10:14<5:43:53, 12.93it/s]"
     ]
    },
    {
     "name": "stdout",
     "output_type": "stream",
     "text": [
      "self.evaluation_deque: deque([False, False, False, False, False, False, False, False, False, False, False, False, False, False, False, False, False, False, False, False, False, False], maxlen=50)\n"
     ]
    },
    {
     "name": "stderr",
     "output_type": "stream",
     "text": [
      "\r",
      " 11%|████████                                                                 | 33244/300000 [10:19<5:29:46, 13.48it/s]"
     ]
    },
    {
     "name": "stdout",
     "output_type": "stream",
     "text": [
      "self.evaluation_deque: deque([False, False, False, False, False, False, False, False, False, False, False, False, False, False, False, False, False, False, False, False, False, False], maxlen=50)\n"
     ]
    },
    {
     "name": "stderr",
     "output_type": "stream",
     "text": [
      "\r",
      " 11%|████████                                                                 | 33299/300000 [10:22<5:22:37, 13.78it/s]"
     ]
    },
    {
     "name": "stdout",
     "output_type": "stream",
     "text": [
      "self.evaluation_deque: deque([False, False, False, False, False, False, False, False, False, False, False, False, False, False, False, False, False, False, False, False, False, False], maxlen=50)\n"
     ]
    },
    {
     "name": "stderr",
     "output_type": "stream",
     "text": [
      "\r",
      " 11%|████████                                                                 | 33367/300000 [10:27<5:14:48, 14.12it/s]"
     ]
    },
    {
     "name": "stdout",
     "output_type": "stream",
     "text": [
      "self.evaluation_deque: deque([False, False, False, False, False, False, False, False, False, False, False, False, False, False, False, False, False, False, False, False, False, False], maxlen=50)\n"
     ]
    },
    {
     "name": "stderr",
     "output_type": "stream",
     "text": [
      "\r",
      " 11%|████████▏                                                                | 33425/300000 [10:33<6:02:38, 12.25it/s]"
     ]
    },
    {
     "name": "stdout",
     "output_type": "stream",
     "text": [
      "self.evaluation_deque: deque([False, False, False, False, False, False, False, False, False, False, False, False, False, False, False, False, False, False, False, False, False, False, False], maxlen=50)\n"
     ]
    },
    {
     "name": "stderr",
     "output_type": "stream",
     "text": [
      "\r",
      " 11%|████████▏                                                                | 33496/300000 [10:38<5:43:30, 12.93it/s]"
     ]
    },
    {
     "name": "stdout",
     "output_type": "stream",
     "text": [
      "self.evaluation_deque: deque([False, False, False, False, False, False, False, False, False, False, False, False, False, False, False, False, False, False, False, False, False, False, False], maxlen=50)\n"
     ]
    },
    {
     "name": "stderr",
     "output_type": "stream",
     "text": [
      "\r",
      " 11%|████████▏                                                                | 33554/300000 [10:43<5:56:22, 12.46it/s]"
     ]
    },
    {
     "name": "stdout",
     "output_type": "stream",
     "text": [
      "self.evaluation_deque: deque([False, False, False, False, False, False, False, False, False, False, False, False, False, False, False, False, False, False, False, False, False, False, False], maxlen=50)\n"
     ]
    },
    {
     "name": "stderr",
     "output_type": "stream",
     "text": [
      "\r",
      " 11%|████████▏                                                                | 33640/300000 [10:49<5:36:20, 13.20it/s]"
     ]
    },
    {
     "name": "stdout",
     "output_type": "stream",
     "text": [
      "self.evaluation_deque: deque([False, False, False, False, False, False, False, False, False, False, False, False, False, False, False, False, False, False, False, False, False, False, False], maxlen=50)\n"
     ]
    },
    {
     "name": "stderr",
     "output_type": "stream",
     "text": [
      "\r",
      " 11%|████████▏                                                                | 33727/300000 [10:55<5:25:00, 13.65it/s]"
     ]
    },
    {
     "name": "stdout",
     "output_type": "stream",
     "text": [
      "self.evaluation_deque: deque([False, False, False, False, False, False, False, False, False, False, False, False, False, False, False, False, False, False, False, False, False, False, False], maxlen=50)\n"
     ]
    },
    {
     "name": "stderr",
     "output_type": "stream",
     "text": [
      "\r",
      " 11%|████████▏                                                                | 33787/300000 [11:01<5:57:19, 12.42it/s]"
     ]
    },
    {
     "name": "stdout",
     "output_type": "stream",
     "text": [
      "self.evaluation_deque: deque([False, False, False, False, False, False, False, False, False, False, False, False, False, False, False, False, False, False, False, False, False, False, False, False], maxlen=50)\n"
     ]
    },
    {
     "name": "stderr",
     "output_type": "stream",
     "text": [
      "\r",
      " 11%|████████▏                                                                | 33854/300000 [11:06<5:43:53, 12.90it/s]"
     ]
    },
    {
     "name": "stdout",
     "output_type": "stream",
     "text": [
      "self.evaluation_deque: deque([False, False, False, False, False, False, False, False, False, False, False, False, False, False, False, False, False, False, False, False, False, False, False, False], maxlen=50)\n"
     ]
    },
    {
     "name": "stderr",
     "output_type": "stream",
     "text": [
      "\r",
      " 11%|████████▎                                                                | 33951/300000 [11:12<5:24:40, 13.66it/s]"
     ]
    },
    {
     "name": "stdout",
     "output_type": "stream",
     "text": [
      "self.evaluation_deque: deque([False, False, False, False, False, False, False, False, False, False, False, False, False, False, False, False, False, False, False, False, False, False, False, False], maxlen=50)\n"
     ]
    },
    {
     "name": "stderr",
     "output_type": "stream",
     "text": [
      "\r",
      " 11%|████████▎                                                                | 34013/300000 [11:17<5:18:27, 13.92it/s]"
     ]
    },
    {
     "name": "stdout",
     "output_type": "stream",
     "text": [
      "self.evaluation_deque: deque([False, False, False, False, False, False, False, False, False, False, False, False, False, False, False, False, False, False, False, False, False, False, False, False], maxlen=50)\n"
     ]
    },
    {
     "name": "stderr",
     "output_type": "stream",
     "text": [
      "\r",
      " 11%|████████▎                                                                | 34075/300000 [11:21<5:12:49, 14.17it/s]"
     ]
    },
    {
     "name": "stdout",
     "output_type": "stream",
     "text": [
      "self.evaluation_deque: deque([False, False, False, False, False, False, False, False, False, False, False, False, False, False, False, False, False, False, False, False, False, False, False, False], maxlen=50)\n"
     ]
    },
    {
     "name": "stderr",
     "output_type": "stream",
     "text": [
      "\r",
      " 11%|████████▎                                                                | 34168/300000 [11:29<5:46:57, 12.77it/s]"
     ]
    },
    {
     "name": "stdout",
     "output_type": "stream",
     "text": [
      "self.evaluation_deque: deque([False, False, False, False, False, False, False, False, False, False, False, False, False, False, False, False, False, False, False, False, False, False, False, False, False], maxlen=50)\n"
     ]
    },
    {
     "name": "stderr",
     "output_type": "stream",
     "text": [
      "\r",
      " 11%|████████▎                                                                | 34237/300000 [11:34<5:34:31, 13.24it/s]"
     ]
    },
    {
     "name": "stdout",
     "output_type": "stream",
     "text": [
      "self.evaluation_deque: deque([False, False, False, False, False, False, False, False, False, False, False, False, False, False, False, False, False, False, False, False, False, False, False, False, False], maxlen=50)\n"
     ]
    },
    {
     "name": "stderr",
     "output_type": "stream",
     "text": [
      "\r",
      " 11%|████████▎                                                                | 34290/300000 [11:38<5:26:22, 13.57it/s]"
     ]
    },
    {
     "name": "stdout",
     "output_type": "stream",
     "text": [
      "self.evaluation_deque: deque([False, False, False, False, False, False, False, False, False, False, False, False, False, False, False, False, False, False, False, False, False, False, False, False, False], maxlen=50)\n"
     ]
    },
    {
     "name": "stderr",
     "output_type": "stream",
     "text": [
      "\r",
      " 11%|████████▎                                                                | 34383/300000 [11:44<5:16:44, 13.98it/s]"
     ]
    },
    {
     "name": "stdout",
     "output_type": "stream",
     "text": [
      "self.evaluation_deque: deque([False, False, False, False, False, False, False, False, False, False, False, False, False, False, False, False, False, False, False, False, False, False, False, False, False], maxlen=50)\n"
     ]
    },
    {
     "name": "stderr",
     "output_type": "stream",
     "text": [
      "\r",
      " 11%|████████▍                                                                | 34467/300000 [11:50<5:16:17, 13.99it/s]"
     ]
    },
    {
     "name": "stdout",
     "output_type": "stream",
     "text": [
      "self.evaluation_deque: deque([False, False, False, False, False, False, False, False, False, False, False, False, False, False, False, False, False, False, False, False, False, False, False, False, False], maxlen=50)\n"
     ]
    },
    {
     "name": "stderr",
     "output_type": "stream",
     "text": [
      "\r",
      " 12%|████████▍                                                                | 34532/300000 [11:58<6:17:06, 11.73it/s]"
     ]
    },
    {
     "name": "stdout",
     "output_type": "stream",
     "text": [
      "self.evaluation_deque: deque([False, False, False, False, False, False, False, False, False, False, False, False, False, False, False, False, False, False, False, False, False, False, False, False, False, False], maxlen=50)\n"
     ]
    },
    {
     "name": "stderr",
     "output_type": "stream",
     "text": [
      "\r",
      " 12%|████████▍                                                                | 34592/300000 [12:02<5:59:17, 12.31it/s]"
     ]
    },
    {
     "name": "stdout",
     "output_type": "stream",
     "text": [
      "self.evaluation_deque: deque([False, False, False, False, False, False, False, False, False, False, False, False, False, False, False, False, False, False, False, False, False, False, False, False, False, False], maxlen=50)\n"
     ]
    },
    {
     "name": "stderr",
     "output_type": "stream",
     "text": [
      "\r",
      " 12%|████████▍                                                                | 34655/300000 [12:06<5:44:47, 12.83it/s]"
     ]
    },
    {
     "name": "stdout",
     "output_type": "stream",
     "text": [
      "self.evaluation_deque: deque([False, False, False, False, False, False, False, False, False, False, False, False, False, False, False, False, False, False, False, False, False, False, False, False, False, False], maxlen=50)\n"
     ]
    },
    {
     "name": "stderr",
     "output_type": "stream",
     "text": [
      "\r",
      " 12%|████████▍                                                                | 34746/300000 [12:13<5:31:20, 13.34it/s]"
     ]
    },
    {
     "name": "stdout",
     "output_type": "stream",
     "text": [
      "self.evaluation_deque: deque([False, False, False, False, False, False, False, False, False, False, False, False, False, False, False, False, False, False, False, False, False, False, False, False, False, False], maxlen=50)\n"
     ]
    },
    {
     "name": "stderr",
     "output_type": "stream",
     "text": [
      "\r",
      " 12%|████████▍                                                                | 34846/300000 [12:20<5:19:49, 13.82it/s]"
     ]
    },
    {
     "name": "stdout",
     "output_type": "stream",
     "text": [
      "self.evaluation_deque: deque([False, False, False, False, False, False, False, False, False, False, False, False, False, False, False, False, False, False, False, False, False, False, False, False, False, False], maxlen=50)\n"
     ]
    },
    {
     "name": "stderr",
     "output_type": "stream",
     "text": [
      "\r",
      " 12%|████████▍                                                                | 34925/300000 [12:27<5:50:32, 12.60it/s]"
     ]
    },
    {
     "name": "stdout",
     "output_type": "stream",
     "text": [
      "self.evaluation_deque: deque([False, False, False, False, False, False, False, False, False, False, False, False, False, False, False, False, False, False, False, False, False, False, False, False, False, False, False], maxlen=50)\n"
     ]
    },
    {
     "name": "stderr",
     "output_type": "stream",
     "text": [
      "\r",
      " 12%|████████▌                                                                | 35014/300000 [12:33<5:34:07, 13.22it/s]"
     ]
    },
    {
     "name": "stdout",
     "output_type": "stream",
     "text": [
      "self.evaluation_deque: deque([False, False, False, False, False, False, False, False, False, False, False, False, False, False, False, False, False, False, False, False, False, False, False, False, False, False, False], maxlen=50)\n"
     ]
    },
    {
     "name": "stderr",
     "output_type": "stream",
     "text": [
      "\r",
      " 12%|████████▌                                                                | 35070/300000 [12:37<5:31:09, 13.33it/s]"
     ]
    },
    {
     "name": "stdout",
     "output_type": "stream",
     "text": [
      "self.evaluation_deque: deque([False, False, False, False, False, False, False, False, False, False, False, False, False, False, False, False, False, False, False, False, False, False, False, False, False, False, False], maxlen=50)\n"
     ]
    },
    {
     "name": "stderr",
     "output_type": "stream",
     "text": [
      "\r",
      " 12%|████████▌                                                                | 35161/300000 [12:44<5:31:27, 13.32it/s]"
     ]
    },
    {
     "name": "stdout",
     "output_type": "stream",
     "text": [
      "self.evaluation_deque: deque([False, False, False, False, False, False, False, False, False, False, False, False, False, False, False, False, False, False, False, False, False, False, False, False, False, False, False], maxlen=50)\n"
     ]
    },
    {
     "name": "stderr",
     "output_type": "stream",
     "text": [
      "\r",
      " 12%|████████▌                                                                | 35214/300000 [12:48<5:29:12, 13.41it/s]"
     ]
    },
    {
     "name": "stdout",
     "output_type": "stream",
     "text": [
      "self.evaluation_deque: deque([False, False, False, False, False, False, False, False, False, False, False, False, False, False, False, False, False, False, False, False, False, False, False, False, False, False, False], maxlen=50)\n"
     ]
    },
    {
     "name": "stderr",
     "output_type": "stream",
     "text": [
      "\r",
      " 12%|████████▌                                                                | 35285/300000 [12:56<6:12:52, 11.83it/s]"
     ]
    },
    {
     "name": "stdout",
     "output_type": "stream",
     "text": [
      "self.evaluation_deque: deque([False, False, False, False, False, False, False, False, False, False, False, False, False, False, False, False, False, False, False, False, False, False, False, False, False, False, False, False], maxlen=50)\n"
     ]
    },
    {
     "name": "stderr",
     "output_type": "stream",
     "text": [
      "\r",
      " 12%|████████▌                                                                | 35337/300000 [12:59<5:58:08, 12.32it/s]"
     ]
    },
    {
     "name": "stdout",
     "output_type": "stream",
     "text": [
      "self.evaluation_deque: deque([False, False, False, False, False, False, False, False, False, False, False, False, False, False, False, False, False, False, False, False, False, False, False, False, False, False, False, False], maxlen=50)\n"
     ]
    },
    {
     "name": "stderr",
     "output_type": "stream",
     "text": [
      "\r",
      " 12%|████████▌                                                                | 35421/300000 [13:06<5:53:49, 12.46it/s]"
     ]
    },
    {
     "name": "stdout",
     "output_type": "stream",
     "text": [
      "self.evaluation_deque: deque([False, False, False, False, False, False, False, False, False, False, False, False, False, False, False, False, False, False, False, False, False, False, False, False, False, False, False, False], maxlen=50)\n"
     ]
    },
    {
     "name": "stderr",
     "output_type": "stream",
     "text": [
      "\r",
      " 12%|████████▋                                                                | 35486/300000 [13:11<5:45:04, 12.78it/s]"
     ]
    },
    {
     "name": "stdout",
     "output_type": "stream",
     "text": [
      "self.evaluation_deque: deque([False, False, False, False, False, False, False, False, False, False, False, False, False, False, False, False, False, False, False, False, False, False, False, False, False, False, False, False], maxlen=50)\n"
     ]
    },
    {
     "name": "stderr",
     "output_type": "stream",
     "text": [
      "\r",
      " 12%|████████▋                                                                | 35557/300000 [13:16<5:35:12, 13.15it/s]"
     ]
    },
    {
     "name": "stdout",
     "output_type": "stream",
     "text": [
      "self.evaluation_deque: deque([False, False, False, False, False, False, False, False, False, False, False, False, False, False, False, False, False, False, False, False, False, False, False, False, False, False, False, False], maxlen=50)\n"
     ]
    },
    {
     "name": "stderr",
     "output_type": "stream",
     "text": [
      "\r",
      " 12%|████████▋                                                                | 35630/300000 [13:23<6:07:34, 11.99it/s]"
     ]
    },
    {
     "name": "stdout",
     "output_type": "stream",
     "text": [
      "self.evaluation_deque: deque([False, False, False, False, False, False, False, False, False, False, False, False, False, False, False, False, False, False, False, False, False, False, False, False, False, False, False, False, False], maxlen=50)\n"
     ]
    },
    {
     "name": "stderr",
     "output_type": "stream",
     "text": [
      "\r",
      " 12%|████████▋                                                                | 35691/300000 [13:29<6:16:53, 11.69it/s]"
     ]
    },
    {
     "name": "stdout",
     "output_type": "stream",
     "text": [
      "self.evaluation_deque: deque([False, False, False, False, False, False, False, False, False, False, False, False, False, False, False, False, False, False, False, False, False, False, False, False, False, False, False, False, False], maxlen=50)\n"
     ]
    },
    {
     "name": "stderr",
     "output_type": "stream",
     "text": [
      "\r",
      " 12%|████████▋                                                                | 35746/300000 [13:32<6:00:00, 12.23it/s]"
     ]
    },
    {
     "name": "stdout",
     "output_type": "stream",
     "text": [
      "self.evaluation_deque: deque([False, False, False, False, False, False, False, False, False, False, False, False, False, False, False, False, False, False, False, False, False, False, False, False, False, False, False, False, False], maxlen=50)\n"
     ]
    },
    {
     "name": "stderr",
     "output_type": "stream",
     "text": [
      "\r",
      " 12%|████████▋                                                                | 35846/300000 [13:40<5:42:37, 12.85it/s]"
     ]
    },
    {
     "name": "stdout",
     "output_type": "stream",
     "text": [
      "self.evaluation_deque: deque([False, False, False, False, False, False, False, False, False, False, False, False, False, False, False, False, False, False, False, False, False, False, False, False, False, False, False, False, False], maxlen=50)\n"
     ]
    },
    {
     "name": "stderr",
     "output_type": "stream",
     "text": [
      "\r",
      " 12%|████████▋                                                                | 35924/300000 [13:45<5:36:10, 13.09it/s]"
     ]
    },
    {
     "name": "stdout",
     "output_type": "stream",
     "text": [
      "self.evaluation_deque: deque([False, False, False, False, False, False, False, False, False, False, False, False, False, False, False, False, False, False, False, False, False, False, False, False, False, False, False, False, False], maxlen=50)\n"
     ]
    },
    {
     "name": "stderr",
     "output_type": "stream",
     "text": [
      "\r",
      " 12%|████████▊                                                                | 36019/300000 [13:54<6:06:16, 12.01it/s]"
     ]
    },
    {
     "name": "stdout",
     "output_type": "stream",
     "text": [
      "self.evaluation_deque: deque([False, False, False, False, False, False, False, False, False, False, False, False, False, False, False, False, False, False, False, False, False, False, False, False, False, False, False, False, False, False], maxlen=50)\n"
     ]
    },
    {
     "name": "stderr",
     "output_type": "stream",
     "text": [
      "\r",
      " 12%|████████▊                                                                | 36118/300000 [14:02<5:49:33, 12.58it/s]"
     ]
    },
    {
     "name": "stdout",
     "output_type": "stream",
     "text": [
      "self.evaluation_deque: deque([False, False, False, False, False, False, False, False, False, False, False, False, False, False, False, False, False, False, False, False, False, False, False, False, False, False, False, False, False, False], maxlen=50)\n"
     ]
    },
    {
     "name": "stderr",
     "output_type": "stream",
     "text": [
      "\r",
      " 12%|████████▊                                                                | 36211/300000 [14:08<5:36:55, 13.05it/s]"
     ]
    },
    {
     "name": "stdout",
     "output_type": "stream",
     "text": [
      "self.evaluation_deque: deque([False, False, False, False, False, False, False, False, False, False, False, False, False, False, False, False, False, False, False, False, False, False, False, False, False, False, False, False, False, False], maxlen=50)\n"
     ]
    },
    {
     "name": "stderr",
     "output_type": "stream",
     "text": [
      "\r",
      " 12%|████████▊                                                                | 36295/300000 [14:14<5:31:17, 13.27it/s]"
     ]
    },
    {
     "name": "stdout",
     "output_type": "stream",
     "text": [
      "self.evaluation_deque: deque([False, False, False, False, False, False, False, False, False, False, False, False, False, False, False, False, False, False, False, False, False, False, False, False, False, False, False, False, False, False], maxlen=50)\n"
     ]
    },
    {
     "name": "stderr",
     "output_type": "stream",
     "text": [
      "\r",
      " 12%|████████▊                                                                | 36364/300000 [14:19<5:23:54, 13.57it/s]"
     ]
    },
    {
     "name": "stdout",
     "output_type": "stream",
     "text": [
      "self.evaluation_deque: deque([False, False, False, False, False, False, False, False, False, False, False, False, False, False, False, False, False, False, False, False, False, False, False, False, False, False, False, False, False, False], maxlen=50)\n"
     ]
    },
    {
     "name": "stderr",
     "output_type": "stream",
     "text": [
      "\r",
      " 12%|████████▊                                                                | 36424/300000 [14:25<5:49:05, 12.58it/s]"
     ]
    },
    {
     "name": "stdout",
     "output_type": "stream",
     "text": [
      "self.evaluation_deque: deque([False, False, False, False, False, False, False, False, False, False, False, False, False, False, False, False, False, False, False, False, False, False, False, False, False, False, False, False, False, False, False], maxlen=50)\n"
     ]
    },
    {
     "name": "stderr",
     "output_type": "stream",
     "text": [
      "\r",
      " 12%|████████▉                                                                | 36486/300000 [14:29<5:36:27, 13.05it/s]"
     ]
    },
    {
     "name": "stdout",
     "output_type": "stream",
     "text": [
      "self.evaluation_deque: deque([False, False, False, False, False, False, False, False, False, False, False, False, False, False, False, False, False, False, False, False, False, False, False, False, False, False, False, False, False, False, False], maxlen=50)\n"
     ]
    },
    {
     "name": "stderr",
     "output_type": "stream",
     "text": [
      "\r",
      " 12%|████████▉                                                                | 36571/300000 [14:35<5:21:10, 13.67it/s]"
     ]
    },
    {
     "name": "stdout",
     "output_type": "stream",
     "text": [
      "self.evaluation_deque: deque([False, False, False, False, False, False, False, False, False, False, False, False, False, False, False, False, False, False, False, False, False, False, False, False, False, False, False, False, False, False, False], maxlen=50)\n"
     ]
    },
    {
     "name": "stderr",
     "output_type": "stream",
     "text": [
      "\r",
      " 12%|████████▉                                                                | 36623/300000 [14:38<5:16:22, 13.87it/s]"
     ]
    },
    {
     "name": "stdout",
     "output_type": "stream",
     "text": [
      "self.evaluation_deque: deque([False, False, False, False, False, False, False, False, False, False, False, False, False, False, False, False, False, False, False, False, False, False, False, False, False, False, False, False, False, False, False], maxlen=50)\n"
     ]
    },
    {
     "name": "stderr",
     "output_type": "stream",
     "text": [
      "\r",
      " 12%|████████▉                                                                | 36681/300000 [14:42<5:09:16, 14.19it/s]"
     ]
    },
    {
     "name": "stdout",
     "output_type": "stream",
     "text": [
      "self.evaluation_deque: deque([False, False, False, False, False, False, False, False, False, False, False, False, False, False, False, False, False, False, False, False, False, False, False, False, False, False, False, False, False, False, False], maxlen=50)\n"
     ]
    },
    {
     "name": "stderr",
     "output_type": "stream",
     "text": [
      "\r",
      " 12%|████████▉                                                                | 36776/300000 [14:51<5:50:20, 12.52it/s]"
     ]
    },
    {
     "name": "stdout",
     "output_type": "stream",
     "text": [
      "self.evaluation_deque: deque([False, False, False, False, False, False, False, False, False, False, False, False, False, False, False, False, False, False, False, False, False, False, False, False, False, False, False, False, False, False, False, False], maxlen=50)\n"
     ]
    },
    {
     "name": "stderr",
     "output_type": "stream",
     "text": [
      "\r",
      " 12%|████████▉                                                                | 36841/300000 [14:56<5:38:55, 12.94it/s]"
     ]
    },
    {
     "name": "stdout",
     "output_type": "stream",
     "text": [
      "self.evaluation_deque: deque([False, False, False, False, False, False, False, False, False, False, False, False, False, False, False, False, False, False, False, False, False, False, False, False, False, False, False, False, False, False, False, False], maxlen=50)\n"
     ]
    },
    {
     "name": "stderr",
     "output_type": "stream",
     "text": [
      "\r",
      " 12%|████████▉                                                                | 36922/300000 [15:01<5:25:21, 13.48it/s]"
     ]
    },
    {
     "name": "stdout",
     "output_type": "stream",
     "text": [
      "self.evaluation_deque: deque([False, False, False, False, False, False, False, False, False, False, False, False, False, False, False, False, False, False, False, False, False, False, False, False, False, False, False, False, False, False, False, False], maxlen=50)\n"
     ]
    },
    {
     "name": "stderr",
     "output_type": "stream",
     "text": [
      "\r",
      " 12%|█████████                                                                | 37010/300000 [15:07<5:20:09, 13.69it/s]"
     ]
    },
    {
     "name": "stdout",
     "output_type": "stream",
     "text": [
      "self.evaluation_deque: deque([False, False, False, False, False, False, False, False, False, False, False, False, False, False, False, False, False, False, False, False, False, False, False, False, False, False, False, False, False, False, False, False], maxlen=50)\n"
     ]
    },
    {
     "name": "stderr",
     "output_type": "stream",
     "text": [
      "\r",
      " 12%|█████████                                                                | 37067/300000 [15:11<5:14:26, 13.94it/s]"
     ]
    },
    {
     "name": "stdout",
     "output_type": "stream",
     "text": [
      "self.evaluation_deque: deque([False, False, False, False, False, False, False, False, False, False, False, False, False, False, False, False, False, False, False, False, False, False, False, False, False, False, False, False, False, False, False, False], maxlen=50)\n"
     ]
    },
    {
     "name": "stderr",
     "output_type": "stream",
     "text": [
      "\r",
      " 12%|█████████                                                                | 37128/300000 [15:19<6:15:46, 11.66it/s]"
     ]
    },
    {
     "name": "stdout",
     "output_type": "stream",
     "text": [
      "self.evaluation_deque: deque([False, False, False, False, False, False, False, False, False, False, False, False, False, False, False, False, False, False, False, False, False, False, False, False, False, False, False, False, False, False, False, False, True], maxlen=50)\n"
     ]
    },
    {
     "name": "stderr",
     "output_type": "stream",
     "text": [
      "\r",
      " 12%|█████████                                                                | 37194/300000 [15:23<5:49:39, 12.53it/s]"
     ]
    },
    {
     "name": "stdout",
     "output_type": "stream",
     "text": [
      "self.evaluation_deque: deque([False, False, False, False, False, False, False, False, False, False, False, False, False, False, False, False, False, False, False, False, False, False, False, False, False, False, False, False, False, False, False, False, True], maxlen=50)\n"
     ]
    },
    {
     "name": "stderr",
     "output_type": "stream",
     "text": [
      "\r",
      " 12%|█████████                                                                | 37263/300000 [15:28<5:32:05, 13.19it/s]"
     ]
    },
    {
     "name": "stdout",
     "output_type": "stream",
     "text": [
      "self.evaluation_deque: deque([False, False, False, False, False, False, False, False, False, False, False, False, False, False, False, False, False, False, False, False, False, False, False, False, False, False, False, False, False, False, False, False, True], maxlen=50)\n"
     ]
    },
    {
     "name": "stderr",
     "output_type": "stream",
     "text": [
      "\r",
      " 12%|█████████                                                                | 37329/300000 [15:32<5:23:29, 13.53it/s]"
     ]
    },
    {
     "name": "stdout",
     "output_type": "stream",
     "text": [
      "self.evaluation_deque: deque([False, False, False, False, False, False, False, False, False, False, False, False, False, False, False, False, False, False, False, False, False, False, False, False, False, False, False, False, False, False, False, False, True], maxlen=50)\n"
     ]
    },
    {
     "name": "stderr",
     "output_type": "stream",
     "text": [
      "\r",
      " 12%|█████████                                                                | 37381/300000 [15:36<5:18:11, 13.76it/s]"
     ]
    },
    {
     "name": "stdout",
     "output_type": "stream",
     "text": [
      "self.evaluation_deque: deque([False, False, False, False, False, False, False, False, False, False, False, False, False, False, False, False, False, False, False, False, False, False, False, False, False, False, False, False, False, False, False, False, True], maxlen=50)\n"
     ]
    },
    {
     "name": "stderr",
     "output_type": "stream",
     "text": [
      "\r",
      " 12%|█████████                                                                | 37444/300000 [15:42<5:50:53, 12.47it/s]"
     ]
    },
    {
     "name": "stdout",
     "output_type": "stream",
     "text": [
      "self.evaluation_deque: deque([False, False, False, False, False, False, False, False, False, False, False, False, False, False, False, False, False, False, False, False, False, False, False, False, False, False, False, False, False, False, False, False, True, True], maxlen=50)\n"
     ]
    },
    {
     "name": "stderr",
     "output_type": "stream",
     "text": [
      "\r",
      " 13%|█████████▏                                                               | 37532/300000 [15:48<5:31:27, 13.20it/s]"
     ]
    },
    {
     "name": "stdout",
     "output_type": "stream",
     "text": [
      "self.evaluation_deque: deque([False, False, False, False, False, False, False, False, False, False, False, False, False, False, False, False, False, False, False, False, False, False, False, False, False, False, False, False, False, False, False, False, True, True], maxlen=50)\n"
     ]
    },
    {
     "name": "stderr",
     "output_type": "stream",
     "text": [
      "\r",
      " 13%|█████████▏                                                               | 37614/300000 [15:54<5:23:30, 13.52it/s]"
     ]
    },
    {
     "name": "stdout",
     "output_type": "stream",
     "text": [
      "self.evaluation_deque: deque([False, False, False, False, False, False, False, False, False, False, False, False, False, False, False, False, False, False, False, False, False, False, False, False, False, False, False, False, False, False, False, False, True, True], maxlen=50)\n"
     ]
    },
    {
     "name": "stderr",
     "output_type": "stream",
     "text": [
      "\r",
      " 13%|█████████▏                                                               | 37649/300000 [15:56<5:20:25, 13.65it/s]"
     ]
    },
    {
     "name": "stdout",
     "output_type": "stream",
     "text": [
      "self.evaluation_deque: deque([False, False, False, False, False, False, False, False, False, False, False, False, False, False, False, False, False, False, False, False, False, False, False, False, False, False, False, False, False, False, False, False, True, True], maxlen=50)\n"
     ]
    },
    {
     "name": "stderr",
     "output_type": "stream",
     "text": [
      "\r",
      " 13%|█████████▏                                                               | 37708/300000 [16:00<5:14:05, 13.92it/s]"
     ]
    },
    {
     "name": "stdout",
     "output_type": "stream",
     "text": [
      "self.evaluation_deque: deque([False, False, False, False, False, False, False, False, False, False, False, False, False, False, False, False, False, False, False, False, False, False, False, False, False, False, False, False, False, False, False, False, True, True], maxlen=50)\n"
     ]
    },
    {
     "name": "stderr",
     "output_type": "stream",
     "text": [
      "\r",
      " 13%|█████████▏                                                               | 37764/300000 [16:06<5:52:38, 12.39it/s]"
     ]
    },
    {
     "name": "stdout",
     "output_type": "stream",
     "text": [
      "self.evaluation_deque: deque([False, False, False, False, False, False, False, False, False, False, False, False, False, False, False, False, False, False, False, False, False, False, False, False, False, False, False, False, False, False, False, False, True, True, False], maxlen=50)\n"
     ]
    },
    {
     "name": "stderr",
     "output_type": "stream",
     "text": [
      "\r",
      " 13%|█████████▏                                                               | 37859/300000 [16:13<5:28:06, 13.32it/s]"
     ]
    },
    {
     "name": "stdout",
     "output_type": "stream",
     "text": [
      "self.evaluation_deque: deque([False, False, False, False, False, False, False, False, False, False, False, False, False, False, False, False, False, False, False, False, False, False, False, False, False, False, False, False, False, False, False, False, True, True, False], maxlen=50)\n"
     ]
    },
    {
     "name": "stderr",
     "output_type": "stream",
     "text": [
      "\r",
      " 13%|█████████▏                                                               | 37954/300000 [16:19<5:19:49, 13.66it/s]"
     ]
    },
    {
     "name": "stdout",
     "output_type": "stream",
     "text": [
      "self.evaluation_deque: deque([False, False, False, False, False, False, False, False, False, False, False, False, False, False, False, False, False, False, False, False, False, False, False, False, False, False, False, False, False, False, False, False, True, True, False], maxlen=50)\n"
     ]
    },
    {
     "name": "stderr",
     "output_type": "stream",
     "text": [
      "\r",
      " 13%|█████████▎                                                               | 38022/300000 [16:24<5:11:30, 14.02it/s]"
     ]
    },
    {
     "name": "stdout",
     "output_type": "stream",
     "text": [
      "self.evaluation_deque: deque([False, False, False, False, False, False, False, False, False, False, False, False, False, False, False, False, False, False, False, False, False, False, False, False, False, False, False, False, False, False, False, False, True, True, False], maxlen=50)\n"
     ]
    },
    {
     "name": "stderr",
     "output_type": "stream",
     "text": [
      "\r",
      " 13%|█████████▎                                                               | 38103/300000 [16:29<5:05:37, 14.28it/s]"
     ]
    },
    {
     "name": "stdout",
     "output_type": "stream",
     "text": [
      "self.evaluation_deque: deque([False, False, False, False, False, False, False, False, False, False, False, False, False, False, False, False, False, False, False, False, False, False, False, False, False, False, False, False, False, False, False, False, True, True, False], maxlen=50)\n"
     ]
    },
    {
     "name": "stderr",
     "output_type": "stream",
     "text": [
      "\r",
      " 13%|█████████▎                                                               | 38188/300000 [16:38<5:49:38, 12.48it/s]"
     ]
    },
    {
     "name": "stdout",
     "output_type": "stream",
     "text": [
      "self.evaluation_deque: deque([False, False, False, False, False, False, False, False, False, False, False, False, False, False, False, False, False, False, False, False, False, False, False, False, False, False, False, False, False, False, False, False, True, True, False, False], maxlen=50)\n"
     ]
    },
    {
     "name": "stderr",
     "output_type": "stream",
     "text": [
      "\r",
      " 13%|█████████▎                                                               | 38240/300000 [16:41<5:39:36, 12.85it/s]"
     ]
    },
    {
     "name": "stdout",
     "output_type": "stream",
     "text": [
      "self.evaluation_deque: deque([False, False, False, False, False, False, False, False, False, False, False, False, False, False, False, False, False, False, False, False, False, False, False, False, False, False, False, False, False, False, False, False, True, True, False, False], maxlen=50)\n"
     ]
    },
    {
     "name": "stderr",
     "output_type": "stream",
     "text": [
      "\r",
      " 13%|█████████▎                                                               | 38297/300000 [16:45<5:27:36, 13.31it/s]"
     ]
    },
    {
     "name": "stdout",
     "output_type": "stream",
     "text": [
      "self.evaluation_deque: deque([False, False, False, False, False, False, False, False, False, False, False, False, False, False, False, False, False, False, False, False, False, False, False, False, False, False, False, False, False, False, False, False, True, True, False, False], maxlen=50)\n"
     ]
    },
    {
     "name": "stderr",
     "output_type": "stream",
     "text": [
      "\r",
      " 13%|█████████▎                                                               | 38387/300000 [16:51<5:17:58, 13.71it/s]"
     ]
    },
    {
     "name": "stdout",
     "output_type": "stream",
     "text": [
      "self.evaluation_deque: deque([False, False, False, False, False, False, False, False, False, False, False, False, False, False, False, False, False, False, False, False, False, False, False, False, False, False, False, False, False, False, False, False, True, True, False, False], maxlen=50)\n"
     ]
    },
    {
     "name": "stderr",
     "output_type": "stream",
     "text": [
      "\r",
      " 13%|█████████▎                                                               | 38466/300000 [16:57<5:11:05, 14.01it/s]"
     ]
    },
    {
     "name": "stdout",
     "output_type": "stream",
     "text": [
      "self.evaluation_deque: deque([False, False, False, False, False, False, False, False, False, False, False, False, False, False, False, False, False, False, False, False, False, False, False, False, False, False, False, False, False, False, False, False, True, True, False, False], maxlen=50)\n"
     ]
    },
    {
     "name": "stderr",
     "output_type": "stream",
     "text": [
      "\r",
      " 13%|█████████▍                                                               | 38557/300000 [17:07<6:16:26, 11.58it/s]"
     ]
    },
    {
     "name": "stdout",
     "output_type": "stream",
     "text": [
      "self.evaluation_deque: deque([False, False, False, False, False, False, False, False, False, False, False, False, False, False, False, False, False, False, False, False, False, False, False, False, False, False, False, False, False, False, False, False, True, True, False, False, False], maxlen=50)\n"
     ]
    },
    {
     "name": "stderr",
     "output_type": "stream",
     "text": [
      "\r",
      " 13%|█████████▍                                                               | 38614/300000 [17:11<5:58:33, 12.15it/s]"
     ]
    },
    {
     "name": "stdout",
     "output_type": "stream",
     "text": [
      "self.evaluation_deque: deque([False, False, False, False, False, False, False, False, False, False, False, False, False, False, False, False, False, False, False, False, False, False, False, False, False, False, False, False, False, False, False, False, True, True, False, False, False], maxlen=50)\n"
     ]
    },
    {
     "name": "stderr",
     "output_type": "stream",
     "text": [
      "\r",
      " 13%|█████████▍                                                               | 38685/300000 [17:16<5:41:21, 12.76it/s]"
     ]
    },
    {
     "name": "stdout",
     "output_type": "stream",
     "text": [
      "self.evaluation_deque: deque([False, False, False, False, False, False, False, False, False, False, False, False, False, False, False, False, False, False, False, False, False, False, False, False, False, False, False, False, False, False, False, False, True, True, False, False, False], maxlen=50)\n"
     ]
    },
    {
     "name": "stderr",
     "output_type": "stream",
     "text": [
      "\r",
      " 13%|█████████▍                                                               | 38760/300000 [17:21<5:29:27, 13.22it/s]"
     ]
    },
    {
     "name": "stdout",
     "output_type": "stream",
     "text": [
      "self.evaluation_deque: deque([False, False, False, False, False, False, False, False, False, False, False, False, False, False, False, False, False, False, False, False, False, False, False, False, False, False, False, False, False, False, False, False, True, True, False, False, False], maxlen=50)\n"
     ]
    },
    {
     "name": "stderr",
     "output_type": "stream",
     "text": [
      "\r",
      " 13%|█████████▍                                                               | 38823/300000 [17:26<5:22:28, 13.50it/s]"
     ]
    },
    {
     "name": "stdout",
     "output_type": "stream",
     "text": [
      "self.evaluation_deque: deque([False, False, False, False, False, False, False, False, False, False, False, False, False, False, False, False, False, False, False, False, False, False, False, False, False, False, False, False, False, False, False, False, True, True, False, False, False], maxlen=50)\n"
     ]
    },
    {
     "name": "stderr",
     "output_type": "stream",
     "text": [
      "\r",
      " 13%|█████████▍                                                               | 38874/300000 [17:31<6:00:32, 12.07it/s]"
     ]
    },
    {
     "name": "stdout",
     "output_type": "stream",
     "text": [
      "self.evaluation_deque: deque([False, False, False, False, False, False, False, False, False, False, False, False, False, False, False, False, False, False, False, False, False, False, False, False, False, False, False, False, False, False, False, False, True, True, False, False, False, True], maxlen=50)\n"
     ]
    },
    {
     "name": "stderr",
     "output_type": "stream",
     "text": [
      "\r",
      " 13%|█████████▍                                                               | 38928/300000 [17:35<5:43:15, 12.68it/s]"
     ]
    },
    {
     "name": "stdout",
     "output_type": "stream",
     "text": [
      "self.evaluation_deque: deque([False, False, False, False, False, False, False, False, False, False, False, False, False, False, False, False, False, False, False, False, False, False, False, False, False, False, False, False, False, False, False, False, True, True, False, False, False, True], maxlen=50)\n"
     ]
    },
    {
     "name": "stderr",
     "output_type": "stream",
     "text": [
      "\r",
      " 13%|█████████▍                                                               | 38993/300000 [17:40<5:29:29, 13.20it/s]"
     ]
    },
    {
     "name": "stdout",
     "output_type": "stream",
     "text": [
      "self.evaluation_deque: deque([False, False, False, False, False, False, False, False, False, False, False, False, False, False, False, False, False, False, False, False, False, False, False, False, False, False, False, False, False, False, False, False, True, True, False, False, False, True], maxlen=50)\n"
     ]
    },
    {
     "name": "stderr",
     "output_type": "stream",
     "text": [
      "\r",
      " 13%|█████████▌                                                               | 39050/300000 [17:44<5:24:47, 13.39it/s]"
     ]
    },
    {
     "name": "stdout",
     "output_type": "stream",
     "text": [
      "self.evaluation_deque: deque([False, False, False, False, False, False, False, False, False, False, False, False, False, False, False, False, False, False, False, False, False, False, False, False, False, False, False, False, False, False, False, False, True, True, False, False, False, True], maxlen=50)\n"
     ]
    },
    {
     "name": "stderr",
     "output_type": "stream",
     "text": [
      "\r",
      " 13%|█████████▌                                                               | 39127/300000 [17:49<5:18:15, 13.66it/s]"
     ]
    },
    {
     "name": "stdout",
     "output_type": "stream",
     "text": [
      "self.evaluation_deque: deque([False, False, False, False, False, False, False, False, False, False, False, False, False, False, False, False, False, False, False, False, False, False, False, False, False, False, False, False, False, False, False, False, True, True, False, False, False, True], maxlen=50)\n"
     ]
    },
    {
     "name": "stderr",
     "output_type": "stream",
     "text": [
      "\r",
      " 13%|█████████▌                                                               | 39186/300000 [17:55<5:57:43, 12.15it/s]"
     ]
    },
    {
     "name": "stdout",
     "output_type": "stream",
     "text": [
      "self.evaluation_deque: deque([False, False, False, False, False, False, False, False, False, False, False, False, False, False, False, False, False, False, False, False, False, False, False, False, False, False, False, False, False, False, False, False, True, True, False, False, False, True, False], maxlen=50)\n"
     ]
    },
    {
     "name": "stderr",
     "output_type": "stream",
     "text": [
      "\r",
      " 13%|█████████▌                                                               | 39282/300000 [18:02<5:36:32, 12.91it/s]"
     ]
    },
    {
     "name": "stdout",
     "output_type": "stream",
     "text": [
      "self.evaluation_deque: deque([False, False, False, False, False, False, False, False, False, False, False, False, False, False, False, False, False, False, False, False, False, False, False, False, False, False, False, False, False, False, False, False, True, True, False, False, False, True, False], maxlen=50)\n"
     ]
    },
    {
     "name": "stderr",
     "output_type": "stream",
     "text": [
      "\r",
      " 13%|█████████▌                                                               | 39364/300000 [18:08<5:27:02, 13.28it/s]"
     ]
    },
    {
     "name": "stdout",
     "output_type": "stream",
     "text": [
      "self.evaluation_deque: deque([False, False, False, False, False, False, False, False, False, False, False, False, False, False, False, False, False, False, False, False, False, False, False, False, False, False, False, False, False, False, False, False, True, True, False, False, False, True, False], maxlen=50)\n"
     ]
    },
    {
     "name": "stderr",
     "output_type": "stream",
     "text": [
      "\r",
      " 13%|█████████▌                                                               | 39415/300000 [18:11<5:19:59, 13.57it/s]"
     ]
    },
    {
     "name": "stdout",
     "output_type": "stream",
     "text": [
      "self.evaluation_deque: deque([False, False, False, False, False, False, False, False, False, False, False, False, False, False, False, False, False, False, False, False, False, False, False, False, False, False, False, False, False, False, False, False, True, True, False, False, False, True, False], maxlen=50)\n"
     ]
    },
    {
     "name": "stderr",
     "output_type": "stream",
     "text": [
      "\r",
      " 13%|█████████▌                                                               | 39501/300000 [18:17<5:12:41, 13.88it/s]"
     ]
    },
    {
     "name": "stdout",
     "output_type": "stream",
     "text": [
      "self.evaluation_deque: deque([False, False, False, False, False, False, False, False, False, False, False, False, False, False, False, False, False, False, False, False, False, False, False, False, False, False, False, False, False, False, False, False, True, True, False, False, False, True, False], maxlen=50)\n"
     ]
    },
    {
     "name": "stderr",
     "output_type": "stream",
     "text": [
      "\r",
      " 13%|█████████▋                                                               | 39596/300000 [18:27<5:54:22, 12.25it/s]"
     ]
    },
    {
     "name": "stdout",
     "output_type": "stream",
     "text": [
      "self.evaluation_deque: deque([False, False, False, False, False, False, False, False, False, False, False, False, False, False, False, False, False, False, False, False, False, False, False, False, False, False, False, False, False, False, False, False, True, True, False, False, False, True, False, False], maxlen=50)\n"
     ]
    },
    {
     "name": "stderr",
     "output_type": "stream",
     "text": [
      "\r",
      " 13%|█████████▋                                                               | 39651/300000 [18:31<5:45:42, 12.55it/s]"
     ]
    },
    {
     "name": "stdout",
     "output_type": "stream",
     "text": [
      "self.evaluation_deque: deque([False, False, False, False, False, False, False, False, False, False, False, False, False, False, False, False, False, False, False, False, False, False, False, False, False, False, False, False, False, False, False, False, True, True, False, False, False, True, False, False], maxlen=50)\n"
     ]
    },
    {
     "name": "stderr",
     "output_type": "stream",
     "text": [
      "\r",
      " 13%|█████████▋                                                               | 39703/300000 [18:34<5:32:13, 13.06it/s]"
     ]
    },
    {
     "name": "stdout",
     "output_type": "stream",
     "text": [
      "self.evaluation_deque: deque([False, False, False, False, False, False, False, False, False, False, False, False, False, False, False, False, False, False, False, False, False, False, False, False, False, False, False, False, False, False, False, False, True, True, False, False, False, True, False, False], maxlen=50)\n"
     ]
    },
    {
     "name": "stderr",
     "output_type": "stream",
     "text": [
      "\r",
      " 13%|█████████▋                                                               | 39793/300000 [18:40<5:15:46, 13.73it/s]"
     ]
    },
    {
     "name": "stdout",
     "output_type": "stream",
     "text": [
      "self.evaluation_deque: deque([False, False, False, False, False, False, False, False, False, False, False, False, False, False, False, False, False, False, False, False, False, False, False, False, False, False, False, False, False, False, False, False, True, True, False, False, False, True, False, False], maxlen=50)\n"
     ]
    },
    {
     "name": "stderr",
     "output_type": "stream",
     "text": [
      "\r",
      " 13%|█████████▋                                                               | 39876/300000 [18:46<5:05:27, 14.19it/s]"
     ]
    },
    {
     "name": "stdout",
     "output_type": "stream",
     "text": [
      "self.evaluation_deque: deque([False, False, False, False, False, False, False, False, False, False, False, False, False, False, False, False, False, False, False, False, False, False, False, False, False, False, False, False, False, False, False, False, True, True, False, False, False, True, False, False], maxlen=50)\n"
     ]
    },
    {
     "name": "stderr",
     "output_type": "stream",
     "text": [
      "\r",
      " 13%|█████████▋                                                               | 39939/300000 [18:54<6:10:28, 11.70it/s]"
     ]
    },
    {
     "name": "stdout",
     "output_type": "stream",
     "text": [
      "self.evaluation_deque: deque([False, False, False, False, False, False, False, False, False, False, False, False, False, False, False, False, False, False, False, False, False, False, False, False, False, False, False, False, False, False, False, False, True, True, False, False, False, True, False, False, False], maxlen=50)\n"
     ]
    },
    {
     "name": "stderr",
     "output_type": "stream",
     "text": [
      "\r",
      " 13%|█████████▋                                                               | 40005/300000 [18:58<5:46:44, 12.50it/s]"
     ]
    },
    {
     "name": "stdout",
     "output_type": "stream",
     "text": [
      "self.evaluation_deque: deque([False, False, False, False, False, False, False, False, False, False, False, False, False, False, False, False, False, False, False, False, False, False, False, False, False, False, False, False, False, False, False, False, True, True, False, False, False, True, False, False, False], maxlen=50)\n"
     ]
    },
    {
     "name": "stderr",
     "output_type": "stream",
     "text": [
      "\r",
      " 13%|█████████▋                                                               | 40068/300000 [19:02<5:34:32, 12.95it/s]"
     ]
    },
    {
     "name": "stdout",
     "output_type": "stream",
     "text": [
      "self.evaluation_deque: deque([False, False, False, False, False, False, False, False, False, False, False, False, False, False, False, False, False, False, False, False, False, False, False, False, False, False, False, False, False, False, False, False, True, True, False, False, False, True, False, False, False], maxlen=50)\n"
     ]
    },
    {
     "name": "stderr",
     "output_type": "stream",
     "text": [
      "\r",
      " 13%|█████████▊                                                               | 40120/300000 [19:06<5:22:19, 13.44it/s]"
     ]
    },
    {
     "name": "stdout",
     "output_type": "stream",
     "text": [
      "self.evaluation_deque: deque([False, False, False, False, False, False, False, False, False, False, False, False, False, False, False, False, False, False, False, False, False, False, False, False, False, False, False, False, False, False, False, False, True, True, False, False, False, True, False, False, False], maxlen=50)\n"
     ]
    },
    {
     "name": "stderr",
     "output_type": "stream",
     "text": [
      "\r",
      " 13%|█████████▊                                                               | 40220/300000 [19:12<5:08:55, 14.02it/s]"
     ]
    },
    {
     "name": "stdout",
     "output_type": "stream",
     "text": [
      "self.evaluation_deque: deque([False, False, False, False, False, False, False, False, False, False, False, False, False, False, False, False, False, False, False, False, False, False, False, False, False, False, False, False, False, False, False, False, True, True, False, False, False, True, False, False, False], maxlen=50)\n"
     ]
    },
    {
     "name": "stderr",
     "output_type": "stream",
     "text": [
      "\r",
      " 13%|█████████▊                                                               | 40275/300000 [19:18<5:42:25, 12.64it/s]"
     ]
    },
    {
     "name": "stdout",
     "output_type": "stream",
     "text": [
      "self.evaluation_deque: deque([False, False, False, False, False, False, False, False, False, False, False, False, False, False, False, False, False, False, False, False, False, False, False, False, False, False, False, False, False, False, False, False, True, True, False, False, False, True, False, False, False, True], maxlen=50)\n"
     ]
    },
    {
     "name": "stderr",
     "output_type": "stream",
     "text": [
      "\r",
      " 13%|█████████▊                                                               | 40316/300000 [19:21<5:35:15, 12.91it/s]"
     ]
    },
    {
     "name": "stdout",
     "output_type": "stream",
     "text": [
      "self.evaluation_deque: deque([False, False, False, False, False, False, False, False, False, False, False, False, False, False, False, False, False, False, False, False, False, False, False, False, False, False, False, False, False, False, False, False, True, True, False, False, False, True, False, False, False, True], maxlen=50)\n"
     ]
    },
    {
     "name": "stderr",
     "output_type": "stream",
     "text": [
      "\r",
      " 13%|█████████▊                                                               | 40369/300000 [19:25<5:24:47, 13.32it/s]"
     ]
    },
    {
     "name": "stdout",
     "output_type": "stream",
     "text": [
      "self.evaluation_deque: deque([False, False, False, False, False, False, False, False, False, False, False, False, False, False, False, False, False, False, False, False, False, False, False, False, False, False, False, False, False, False, False, False, True, True, False, False, False, True, False, False, False, True], maxlen=50)\n"
     ]
    },
    {
     "name": "stderr",
     "output_type": "stream",
     "text": [
      "\r",
      " 13%|█████████▊                                                               | 40407/300000 [19:27<5:20:56, 13.48it/s]"
     ]
    },
    {
     "name": "stdout",
     "output_type": "stream",
     "text": [
      "self.evaluation_deque: deque([False, False, False, False, False, False, False, False, False, False, False, False, False, False, False, False, False, False, False, False, False, False, False, False, False, False, False, False, False, False, False, False, True, True, False, False, False, True, False, False, False, True], maxlen=50)\n"
     ]
    },
    {
     "name": "stderr",
     "output_type": "stream",
     "text": [
      "\r",
      " 13%|█████████▊                                                               | 40493/300000 [19:33<5:08:22, 14.03it/s]"
     ]
    },
    {
     "name": "stdout",
     "output_type": "stream",
     "text": [
      "self.evaluation_deque: deque([False, False, False, False, False, False, False, False, False, False, False, False, False, False, False, False, False, False, False, False, False, False, False, False, False, False, False, False, False, False, False, False, True, True, False, False, False, True, False, False, False, True], maxlen=50)\n"
     ]
    },
    {
     "name": "stderr",
     "output_type": "stream",
     "text": [
      "\r",
      " 14%|█████████▊                                                               | 40551/300000 [19:40<5:55:07, 12.18it/s]"
     ]
    },
    {
     "name": "stdout",
     "output_type": "stream",
     "text": [
      "self.evaluation_deque: deque([False, False, False, False, False, False, False, False, False, False, False, False, False, False, False, False, False, False, False, False, False, False, False, False, False, False, False, False, False, False, False, False, True, True, False, False, False, True, False, False, False, True, False], maxlen=50)\n"
     ]
    },
    {
     "name": "stderr",
     "output_type": "stream",
     "text": [
      "\r",
      " 14%|█████████▉                                                               | 40638/300000 [19:46<5:37:13, 12.82it/s]"
     ]
    },
    {
     "name": "stdout",
     "output_type": "stream",
     "text": [
      "self.evaluation_deque: deque([False, False, False, False, False, False, False, False, False, False, False, False, False, False, False, False, False, False, False, False, False, False, False, False, False, False, False, False, False, False, False, False, True, True, False, False, False, True, False, False, False, True, False], maxlen=50)\n"
     ]
    },
    {
     "name": "stderr",
     "output_type": "stream",
     "text": [
      "\r",
      " 14%|█████████▉                                                               | 40736/300000 [19:52<5:21:56, 13.42it/s]"
     ]
    },
    {
     "name": "stdout",
     "output_type": "stream",
     "text": [
      "self.evaluation_deque: deque([False, False, False, False, False, False, False, False, False, False, False, False, False, False, False, False, False, False, False, False, False, False, False, False, False, False, False, False, False, False, False, False, True, True, False, False, False, True, False, False, False, True, False], maxlen=50)\n"
     ]
    },
    {
     "name": "stderr",
     "output_type": "stream",
     "text": [
      "\r",
      " 14%|█████████▉                                                               | 40803/300000 [19:57<5:17:38, 13.60it/s]"
     ]
    },
    {
     "name": "stdout",
     "output_type": "stream",
     "text": [
      "self.evaluation_deque: deque([False, False, False, False, False, False, False, False, False, False, False, False, False, False, False, False, False, False, False, False, False, False, False, False, False, False, False, False, False, False, False, False, True, True, False, False, False, True, False, False, False, True, False], maxlen=50)\n"
     ]
    },
    {
     "name": "stderr",
     "output_type": "stream",
     "text": [
      "\r",
      " 14%|█████████▉                                                               | 40856/300000 [20:01<5:09:06, 13.97it/s]"
     ]
    },
    {
     "name": "stdout",
     "output_type": "stream",
     "text": [
      "self.evaluation_deque: deque([False, False, False, False, False, False, False, False, False, False, False, False, False, False, False, False, False, False, False, False, False, False, False, False, False, False, False, False, False, False, False, False, True, True, False, False, False, True, False, False, False, True, False], maxlen=50)\n"
     ]
    },
    {
     "name": "stderr",
     "output_type": "stream",
     "text": [
      "\r",
      " 14%|█████████▉                                                               | 40909/300000 [20:07<5:54:26, 12.18it/s]"
     ]
    },
    {
     "name": "stdout",
     "output_type": "stream",
     "text": [
      "self.evaluation_deque: deque([False, False, False, False, False, False, False, False, False, False, False, False, False, False, False, False, False, False, False, False, False, False, False, False, False, False, False, False, False, False, False, False, True, True, False, False, False, True, False, False, False, True, False, False], maxlen=50)\n"
     ]
    },
    {
     "name": "stderr",
     "output_type": "stream",
     "text": [
      "\r",
      " 14%|█████████▉                                                               | 41004/300000 [20:13<5:28:47, 13.13it/s]"
     ]
    },
    {
     "name": "stdout",
     "output_type": "stream",
     "text": [
      "self.evaluation_deque: deque([False, False, False, False, False, False, False, False, False, False, False, False, False, False, False, False, False, False, False, False, False, False, False, False, False, False, False, False, False, False, False, False, True, True, False, False, False, True, False, False, False, True, False, False], maxlen=50)\n"
     ]
    },
    {
     "name": "stderr",
     "output_type": "stream",
     "text": [
      "\r",
      " 14%|█████████▉                                                               | 41066/300000 [20:17<5:18:58, 13.53it/s]"
     ]
    },
    {
     "name": "stdout",
     "output_type": "stream",
     "text": [
      "self.evaluation_deque: deque([False, False, False, False, False, False, False, False, False, False, False, False, False, False, False, False, False, False, False, False, False, False, False, False, False, False, False, False, False, False, False, False, True, True, False, False, False, True, False, False, False, True, False, False], maxlen=50)\n"
     ]
    },
    {
     "name": "stderr",
     "output_type": "stream",
     "text": [
      "\r",
      " 14%|██████████                                                               | 41156/300000 [20:23<5:07:57, 14.01it/s]"
     ]
    },
    {
     "name": "stdout",
     "output_type": "stream",
     "text": [
      "self.evaluation_deque: deque([False, False, False, False, False, False, False, False, False, False, False, False, False, False, False, False, False, False, False, False, False, False, False, False, False, False, False, False, False, False, False, False, True, True, False, False, False, True, False, False, False, True, False, False], maxlen=50)\n"
     ]
    },
    {
     "name": "stderr",
     "output_type": "stream",
     "text": [
      "\r",
      " 14%|██████████                                                               | 41212/300000 [20:27<5:03:51, 14.19it/s]"
     ]
    },
    {
     "name": "stdout",
     "output_type": "stream",
     "text": [
      "self.evaluation_deque: deque([False, False, False, False, False, False, False, False, False, False, False, False, False, False, False, False, False, False, False, False, False, False, False, False, False, False, False, False, False, False, False, False, True, True, False, False, False, True, False, False, False, True, False, False], maxlen=50)\n"
     ]
    },
    {
     "name": "stderr",
     "output_type": "stream",
     "text": [
      "\r",
      " 14%|██████████                                                               | 41269/300000 [20:33<5:35:37, 12.85it/s]"
     ]
    },
    {
     "name": "stdout",
     "output_type": "stream",
     "text": [
      "self.evaluation_deque: deque([False, False, False, False, False, False, False, False, False, False, False, False, False, False, False, False, False, False, False, False, False, False, False, False, False, False, False, False, False, False, False, False, True, True, False, False, False, True, False, False, False, True, False, False, True], maxlen=50)\n"
     ]
    },
    {
     "name": "stderr",
     "output_type": "stream",
     "text": [
      "\r",
      " 14%|██████████                                                               | 41327/300000 [20:37<5:24:08, 13.30it/s]"
     ]
    },
    {
     "name": "stdout",
     "output_type": "stream",
     "text": [
      "self.evaluation_deque: deque([False, False, False, False, False, False, False, False, False, False, False, False, False, False, False, False, False, False, False, False, False, False, False, False, False, False, False, False, False, False, False, False, True, True, False, False, False, True, False, False, False, True, False, False, True], maxlen=50)\n"
     ]
    },
    {
     "name": "stderr",
     "output_type": "stream",
     "text": [
      "\r",
      " 14%|██████████                                                               | 41386/300000 [20:40<5:11:51, 13.82it/s]"
     ]
    },
    {
     "name": "stdout",
     "output_type": "stream",
     "text": [
      "self.evaluation_deque: deque([False, False, False, False, False, False, False, False, False, False, False, False, False, False, False, False, False, False, False, False, False, False, False, False, False, False, False, False, False, False, False, False, True, True, False, False, False, True, False, False, False, True, False, False, True], maxlen=50)\n"
     ]
    },
    {
     "name": "stderr",
     "output_type": "stream",
     "text": [
      "\r",
      " 14%|██████████                                                               | 41452/300000 [20:45<5:03:18, 14.21it/s]"
     ]
    },
    {
     "name": "stdout",
     "output_type": "stream",
     "text": [
      "self.evaluation_deque: deque([False, False, False, False, False, False, False, False, False, False, False, False, False, False, False, False, False, False, False, False, False, False, False, False, False, False, False, False, False, False, False, False, True, True, False, False, False, True, False, False, False, True, False, False, True], maxlen=50)\n"
     ]
    },
    {
     "name": "stderr",
     "output_type": "stream",
     "text": [
      "\r",
      " 14%|██████████                                                               | 41507/300000 [20:49<5:00:47, 14.32it/s]"
     ]
    },
    {
     "name": "stdout",
     "output_type": "stream",
     "text": [
      "self.evaluation_deque: deque([False, False, False, False, False, False, False, False, False, False, False, False, False, False, False, False, False, False, False, False, False, False, False, False, False, False, False, False, False, False, False, False, True, True, False, False, False, True, False, False, False, True, False, False, True], maxlen=50)\n"
     ]
    },
    {
     "name": "stderr",
     "output_type": "stream",
     "text": [
      "\r",
      " 14%|██████████                                                               | 41589/300000 [20:56<5:36:51, 12.79it/s]"
     ]
    },
    {
     "name": "stdout",
     "output_type": "stream",
     "text": [
      "self.evaluation_deque: deque([False, False, False, False, False, False, False, False, False, False, False, False, False, False, False, False, False, False, False, False, False, False, False, False, False, False, False, False, False, False, False, False, True, True, False, False, False, True, False, False, False, True, False, False, True, False], maxlen=50)\n"
     ]
    },
    {
     "name": "stderr",
     "output_type": "stream",
     "text": [
      "\r",
      " 14%|██████████▏                                                              | 41666/300000 [21:03<5:50:48, 12.27it/s]"
     ]
    },
    {
     "name": "stdout",
     "output_type": "stream",
     "text": [
      "self.evaluation_deque: deque([False, False, False, False, False, False, False, False, False, False, False, False, False, False, False, False, False, False, False, False, False, False, False, False, False, False, False, False, False, False, False, False, True, True, False, False, False, True, False, False, False, True, False, False, True, False], maxlen=50)\n"
     ]
    },
    {
     "name": "stderr",
     "output_type": "stream",
     "text": [
      "\r",
      " 14%|██████████▏                                                              | 41728/300000 [21:07<5:34:34, 12.87it/s]"
     ]
    },
    {
     "name": "stdout",
     "output_type": "stream",
     "text": [
      "self.evaluation_deque: deque([False, False, False, False, False, False, False, False, False, False, False, False, False, False, False, False, False, False, False, False, False, False, False, False, False, False, False, False, False, False, False, False, True, True, False, False, False, True, False, False, False, True, False, False, True, False], maxlen=50)\n"
     ]
    },
    {
     "name": "stderr",
     "output_type": "stream",
     "text": [
      "\r",
      " 14%|██████████▏                                                              | 41803/300000 [21:12<5:20:07, 13.44it/s]"
     ]
    },
    {
     "name": "stdout",
     "output_type": "stream",
     "text": [
      "self.evaluation_deque: deque([False, False, False, False, False, False, False, False, False, False, False, False, False, False, False, False, False, False, False, False, False, False, False, False, False, False, False, False, False, False, False, False, True, True, False, False, False, True, False, False, False, True, False, False, True, False], maxlen=50)\n"
     ]
    },
    {
     "name": "stderr",
     "output_type": "stream",
     "text": [
      "\r",
      " 14%|██████████▏                                                              | 41863/300000 [21:16<5:11:56, 13.79it/s]"
     ]
    },
    {
     "name": "stdout",
     "output_type": "stream",
     "text": [
      "self.evaluation_deque: deque([False, False, False, False, False, False, False, False, False, False, False, False, False, False, False, False, False, False, False, False, False, False, False, False, False, False, False, False, False, False, False, False, True, True, False, False, False, True, False, False, False, True, False, False, True, False], maxlen=50)\n"
     ]
    },
    {
     "name": "stderr",
     "output_type": "stream",
     "text": [
      "\r",
      " 14%|██████████▏                                                              | 41918/300000 [21:22<5:46:05, 12.43it/s]"
     ]
    },
    {
     "name": "stdout",
     "output_type": "stream",
     "text": [
      "self.evaluation_deque: deque([False, False, False, False, False, False, False, False, False, False, False, False, False, False, False, False, False, False, False, False, False, False, False, False, False, False, False, False, False, False, False, False, True, True, False, False, False, True, False, False, False, True, False, False, True, False, False], maxlen=50)\n"
     ]
    },
    {
     "name": "stderr",
     "output_type": "stream",
     "text": [
      "\r",
      " 14%|██████████▏                                                              | 41999/300000 [21:28<5:29:25, 13.05it/s]"
     ]
    },
    {
     "name": "stdout",
     "output_type": "stream",
     "text": [
      "self.evaluation_deque: deque([False, False, False, False, False, False, False, False, False, False, False, False, False, False, False, False, False, False, False, False, False, False, False, False, False, False, False, False, False, False, False, False, True, True, False, False, False, True, False, False, False, True, False, False, True, False, False], maxlen=50)\n"
     ]
    },
    {
     "name": "stderr",
     "output_type": "stream",
     "text": [
      "\r",
      " 14%|██████████▏                                                              | 42071/300000 [21:33<5:19:27, 13.46it/s]"
     ]
    },
    {
     "name": "stdout",
     "output_type": "stream",
     "text": [
      "self.evaluation_deque: deque([False, False, False, False, False, False, False, False, False, False, False, False, False, False, False, False, False, False, False, False, False, False, False, False, False, False, False, False, False, False, False, False, True, True, False, False, False, True, False, False, False, True, False, False, True, False, False], maxlen=50)\n"
     ]
    },
    {
     "name": "stderr",
     "output_type": "stream",
     "text": [
      "\r",
      " 14%|██████████▎                                                              | 42154/300000 [21:38<5:08:58, 13.91it/s]"
     ]
    },
    {
     "name": "stdout",
     "output_type": "stream",
     "text": [
      "self.evaluation_deque: deque([False, False, False, False, False, False, False, False, False, False, False, False, False, False, False, False, False, False, False, False, False, False, False, False, False, False, False, False, False, False, False, False, True, True, False, False, False, True, False, False, False, True, False, False, True, False, False], maxlen=50)\n"
     ]
    },
    {
     "name": "stderr",
     "output_type": "stream",
     "text": [
      "\r",
      " 14%|██████████▎                                                              | 42207/300000 [21:42<5:02:28, 14.20it/s]"
     ]
    },
    {
     "name": "stdout",
     "output_type": "stream",
     "text": [
      "self.evaluation_deque: deque([False, False, False, False, False, False, False, False, False, False, False, False, False, False, False, False, False, False, False, False, False, False, False, False, False, False, False, False, False, False, False, False, True, True, False, False, False, True, False, False, False, True, False, False, True, False, False], maxlen=50)\n"
     ]
    },
    {
     "name": "stderr",
     "output_type": "stream",
     "text": [
      "\r",
      " 14%|██████████▎                                                              | 42303/300000 [21:51<5:41:05, 12.59it/s]"
     ]
    },
    {
     "name": "stdout",
     "output_type": "stream",
     "text": [
      "self.evaluation_deque: deque([False, False, False, False, False, False, False, False, False, False, False, False, False, False, False, False, False, False, False, False, False, False, False, False, False, False, False, False, False, False, False, False, True, True, False, False, False, True, False, False, False, True, False, False, True, False, False, False], maxlen=50)\n"
     ]
    },
    {
     "name": "stderr",
     "output_type": "stream",
     "text": [
      "\r",
      " 14%|██████████▎                                                              | 42384/300000 [21:56<5:29:25, 13.03it/s]"
     ]
    },
    {
     "name": "stdout",
     "output_type": "stream",
     "text": [
      "self.evaluation_deque: deque([False, False, False, False, False, False, False, False, False, False, False, False, False, False, False, False, False, False, False, False, False, False, False, False, False, False, False, False, False, False, False, False, True, True, False, False, False, True, False, False, False, True, False, False, True, False, False, False], maxlen=50)\n"
     ]
    },
    {
     "name": "stderr",
     "output_type": "stream",
     "text": [
      "\r",
      " 14%|██████████▎                                                              | 42438/300000 [22:00<5:21:26, 13.35it/s]"
     ]
    },
    {
     "name": "stdout",
     "output_type": "stream",
     "text": [
      "self.evaluation_deque: deque([False, False, False, False, False, False, False, False, False, False, False, False, False, False, False, False, False, False, False, False, False, False, False, False, False, False, False, False, False, False, False, False, True, True, False, False, False, True, False, False, False, True, False, False, True, False, False, False], maxlen=50)\n"
     ]
    },
    {
     "name": "stderr",
     "output_type": "stream",
     "text": [
      "\r",
      " 14%|██████████▎                                                              | 42490/300000 [22:04<5:15:31, 13.60it/s]"
     ]
    },
    {
     "name": "stdout",
     "output_type": "stream",
     "text": [
      "self.evaluation_deque: deque([False, False, False, False, False, False, False, False, False, False, False, False, False, False, False, False, False, False, False, False, False, False, False, False, False, False, False, False, False, False, False, False, True, True, False, False, False, True, False, False, False, True, False, False, True, False, False, False], maxlen=50)\n"
     ]
    },
    {
     "name": "stderr",
     "output_type": "stream",
     "text": [
      "\r",
      " 14%|██████████▎                                                              | 42536/300000 [22:07<5:09:57, 13.84it/s]"
     ]
    },
    {
     "name": "stdout",
     "output_type": "stream",
     "text": [
      "self.evaluation_deque: deque([False, False, False, False, False, False, False, False, False, False, False, False, False, False, False, False, False, False, False, False, False, False, False, False, False, False, False, False, False, False, False, False, True, True, False, False, False, True, False, False, False, True, False, False, True, False, False, False], maxlen=50)\n"
     ]
    },
    {
     "name": "stderr",
     "output_type": "stream",
     "text": [
      "\r",
      " 14%|██████████▎                                                              | 42604/300000 [22:13<5:44:19, 12.46it/s]"
     ]
    },
    {
     "name": "stdout",
     "output_type": "stream",
     "text": [
      "self.evaluation_deque: deque([False, False, False, False, False, False, False, False, False, False, False, False, False, False, False, False, False, False, False, False, False, False, False, False, False, False, False, False, False, False, False, False, True, True, False, False, False, True, False, False, False, True, False, False, True, False, False, False, True], maxlen=50)\n"
     ]
    },
    {
     "name": "stderr",
     "output_type": "stream",
     "text": [
      "\r",
      " 14%|██████████▍                                                              | 42667/300000 [22:18<5:24:59, 13.20it/s]"
     ]
    },
    {
     "name": "stdout",
     "output_type": "stream",
     "text": [
      "self.evaluation_deque: deque([False, False, False, False, False, False, False, False, False, False, False, False, False, False, False, False, False, False, False, False, False, False, False, False, False, False, False, False, False, False, False, False, True, True, False, False, False, True, False, False, False, True, False, False, True, False, False, False, True], maxlen=50)\n"
     ]
    },
    {
     "name": "stderr",
     "output_type": "stream",
     "text": [
      "\r",
      " 14%|██████████▍                                                              | 42725/300000 [22:22<5:18:48, 13.45it/s]"
     ]
    },
    {
     "name": "stdout",
     "output_type": "stream",
     "text": [
      "self.evaluation_deque: deque([False, False, False, False, False, False, False, False, False, False, False, False, False, False, False, False, False, False, False, False, False, False, False, False, False, False, False, False, False, False, False, False, True, True, False, False, False, True, False, False, False, True, False, False, True, False, False, False, True], maxlen=50)\n"
     ]
    },
    {
     "name": "stderr",
     "output_type": "stream",
     "text": [
      "\r",
      " 14%|██████████▍                                                              | 42801/300000 [22:27<5:10:23, 13.81it/s]"
     ]
    },
    {
     "name": "stdout",
     "output_type": "stream",
     "text": [
      "self.evaluation_deque: deque([False, False, False, False, False, False, False, False, False, False, False, False, False, False, False, False, False, False, False, False, False, False, False, False, False, False, False, False, False, False, False, False, True, True, False, False, False, True, False, False, False, True, False, False, True, False, False, False, True], maxlen=50)\n"
     ]
    },
    {
     "name": "stderr",
     "output_type": "stream",
     "text": [
      "\r",
      " 14%|██████████▍                                                              | 42886/300000 [22:33<5:01:53, 14.19it/s]"
     ]
    },
    {
     "name": "stdout",
     "output_type": "stream",
     "text": [
      "self.evaluation_deque: deque([False, False, False, False, False, False, False, False, False, False, False, False, False, False, False, False, False, False, False, False, False, False, False, False, False, False, False, False, False, False, False, False, True, True, False, False, False, True, False, False, False, True, False, False, True, False, False, False, True], maxlen=50)\n"
     ]
    },
    {
     "name": "stderr",
     "output_type": "stream",
     "text": [
      "\r",
      " 14%|██████████▍                                                              | 42942/300000 [22:38<5:35:23, 12.77it/s]"
     ]
    },
    {
     "name": "stdout",
     "output_type": "stream",
     "text": [
      "self.evaluation_deque: deque([False, False, False, False, False, False, False, False, False, False, False, False, False, False, False, False, False, False, False, False, False, False, False, False, False, False, False, False, False, False, False, False, True, True, False, False, False, True, False, False, False, True, False, False, True, False, False, False, True, False], maxlen=50)\n",
      "eval_mean: 0.12\n",
      "Saving best with: 0.12\n"
     ]
    },
    {
     "name": "stderr",
     "output_type": "stream",
     "text": [
      "\r",
      " 14%|██████████▍                                                              | 43013/300000 [22:43<5:23:31, 13.24it/s]"
     ]
    },
    {
     "name": "stdout",
     "output_type": "stream",
     "text": [
      "self.evaluation_deque: deque([False, False, False, False, False, False, False, False, False, False, False, False, False, False, False, False, False, False, False, False, False, False, False, False, False, False, False, False, False, False, False, False, True, True, False, False, False, True, False, False, False, True, False, False, True, False, False, False, True, False], maxlen=50)\n",
      "eval_mean: 0.12\n"
     ]
    },
    {
     "name": "stderr",
     "output_type": "stream",
     "text": [
      "\r",
      " 14%|██████████▍                                                              | 43094/300000 [22:49<5:09:12, 13.85it/s]"
     ]
    },
    {
     "name": "stdout",
     "output_type": "stream",
     "text": [
      "self.evaluation_deque: deque([False, False, False, False, False, False, False, False, False, False, False, False, False, False, False, False, False, False, False, False, False, False, False, False, False, False, False, False, False, False, False, False, True, True, False, False, False, True, False, False, False, True, False, False, True, False, False, False, True, False], maxlen=50)\n",
      "eval_mean: 0.12\n"
     ]
    },
    {
     "name": "stderr",
     "output_type": "stream",
     "text": [
      "\r",
      " 14%|██████████▍                                                              | 43140/300000 [22:52<5:05:51, 14.00it/s]"
     ]
    },
    {
     "name": "stdout",
     "output_type": "stream",
     "text": [
      "self.evaluation_deque: deque([False, False, False, False, False, False, False, False, False, False, False, False, False, False, False, False, False, False, False, False, False, False, False, False, False, False, False, False, False, False, False, False, True, True, False, False, False, True, False, False, False, True, False, False, True, False, False, False, True, False], maxlen=50)\n",
      "eval_mean: 0.12\n"
     ]
    },
    {
     "name": "stderr",
     "output_type": "stream",
     "text": [
      "\r",
      " 14%|██████████▌                                                              | 43205/300000 [22:56<5:03:17, 14.11it/s]"
     ]
    },
    {
     "name": "stdout",
     "output_type": "stream",
     "text": [
      "self.evaluation_deque: deque([False, False, False, False, False, False, False, False, False, False, False, False, False, False, False, False, False, False, False, False, False, False, False, False, False, False, False, False, False, False, False, False, True, True, False, False, False, True, False, False, False, True, False, False, True, False, False, False, True, False], maxlen=50)\n",
      "eval_mean: 0.12\n"
     ]
    },
    {
     "name": "stderr",
     "output_type": "stream",
     "text": [
      "\r",
      " 14%|██████████▌                                                              | 43261/300000 [23:02<5:40:57, 12.55it/s]"
     ]
    },
    {
     "name": "stdout",
     "output_type": "stream",
     "text": [
      "self.evaluation_deque: deque([False, False, False, False, False, False, False, False, False, False, False, False, False, False, False, False, False, False, False, False, False, False, False, False, False, False, False, False, False, False, False, True, True, False, False, False, True, False, False, False, True, False, False, True, False, False, False, True, False, False], maxlen=50)\n",
      "eval_mean: 0.12\n"
     ]
    },
    {
     "name": "stderr",
     "output_type": "stream",
     "text": [
      "\r",
      " 14%|██████████▌                                                              | 43311/300000 [23:05<5:28:35, 13.02it/s]"
     ]
    },
    {
     "name": "stdout",
     "output_type": "stream",
     "text": [
      "self.evaluation_deque: deque([False, False, False, False, False, False, False, False, False, False, False, False, False, False, False, False, False, False, False, False, False, False, False, False, False, False, False, False, False, False, False, True, True, False, False, False, True, False, False, False, True, False, False, True, False, False, False, True, False, False], maxlen=50)\n",
      "eval_mean: 0.12\n"
     ]
    },
    {
     "name": "stderr",
     "output_type": "stream",
     "text": [
      "\r",
      " 14%|██████████▌                                                              | 43361/300000 [23:09<5:21:45, 13.29it/s]"
     ]
    },
    {
     "name": "stdout",
     "output_type": "stream",
     "text": [
      "self.evaluation_deque: deque([False, False, False, False, False, False, False, False, False, False, False, False, False, False, False, False, False, False, False, False, False, False, False, False, False, False, False, False, False, False, False, True, True, False, False, False, True, False, False, False, True, False, False, True, False, False, False, True, False, False], maxlen=50)\n",
      "eval_mean: 0.12\n"
     ]
    },
    {
     "name": "stderr",
     "output_type": "stream",
     "text": [
      "\r",
      " 14%|██████████▌                                                              | 43423/300000 [23:13<5:13:11, 13.65it/s]"
     ]
    },
    {
     "name": "stdout",
     "output_type": "stream",
     "text": [
      "self.evaluation_deque: deque([False, False, False, False, False, False, False, False, False, False, False, False, False, False, False, False, False, False, False, False, False, False, False, False, False, False, False, False, False, False, False, True, True, False, False, False, True, False, False, False, True, False, False, True, False, False, False, True, False, False], maxlen=50)\n",
      "eval_mean: 0.12\n"
     ]
    },
    {
     "name": "stderr",
     "output_type": "stream",
     "text": [
      "\r",
      " 14%|██████████▌                                                              | 43488/300000 [23:18<5:07:18, 13.91it/s]"
     ]
    },
    {
     "name": "stdout",
     "output_type": "stream",
     "text": [
      "self.evaluation_deque: deque([False, False, False, False, False, False, False, False, False, False, False, False, False, False, False, False, False, False, False, False, False, False, False, False, False, False, False, False, False, False, False, True, True, False, False, False, True, False, False, False, True, False, False, True, False, False, False, True, False, False], maxlen=50)\n",
      "eval_mean: 0.12\n"
     ]
    },
    {
     "name": "stderr",
     "output_type": "stream",
     "text": [
      "\r",
      " 15%|██████████▌                                                              | 43517/300000 [23:24<6:54:57, 10.30it/s]"
     ]
    },
    {
     "name": "stdout",
     "output_type": "stream",
     "text": [
      "self.evaluation_deque: deque([False, False, False, False, False, False, False, False, False, False, False, False, False, False, False, False, False, False, False, False, False, False, False, False, False, False, False, False, False, False, True, True, False, False, False, True, False, False, False, True, False, False, True, False, False, False, True, False, False, False], maxlen=50)\n",
      "eval_mean: 0.12\n"
     ]
    },
    {
     "name": "stderr",
     "output_type": "stream",
     "text": [
      "\r",
      " 15%|██████████▌                                                              | 43596/300000 [23:30<6:08:18, 11.60it/s]"
     ]
    },
    {
     "name": "stdout",
     "output_type": "stream",
     "text": [
      "self.evaluation_deque: deque([False, False, False, False, False, False, False, False, False, False, False, False, False, False, False, False, False, False, False, False, False, False, False, False, False, False, False, False, False, False, True, True, False, False, False, True, False, False, False, True, False, False, True, False, False, False, True, False, False, False], maxlen=50)\n",
      "eval_mean: 0.12\n"
     ]
    },
    {
     "name": "stderr",
     "output_type": "stream",
     "text": [
      "\r",
      " 15%|██████████▌                                                              | 43650/300000 [23:33<5:44:14, 12.41it/s]"
     ]
    },
    {
     "name": "stdout",
     "output_type": "stream",
     "text": [
      "self.evaluation_deque: deque([False, False, False, False, False, False, False, False, False, False, False, False, False, False, False, False, False, False, False, False, False, False, False, False, False, False, False, False, False, False, True, True, False, False, False, True, False, False, False, True, False, False, True, False, False, False, True, False, False, False], maxlen=50)\n",
      "eval_mean: 0.12\n"
     ]
    },
    {
     "name": "stderr",
     "output_type": "stream",
     "text": [
      "\r",
      " 15%|██████████▋                                                              | 43735/300000 [23:39<5:20:25, 13.33it/s]"
     ]
    },
    {
     "name": "stdout",
     "output_type": "stream",
     "text": [
      "self.evaluation_deque: deque([False, False, False, False, False, False, False, False, False, False, False, False, False, False, False, False, False, False, False, False, False, False, False, False, False, False, False, False, False, False, True, True, False, False, False, True, False, False, False, True, False, False, True, False, False, False, True, False, False, False], maxlen=50)\n",
      "eval_mean: 0.12\n"
     ]
    },
    {
     "name": "stderr",
     "output_type": "stream",
     "text": [
      "\r",
      " 15%|██████████▋                                                              | 43820/300000 [23:45<5:14:52, 13.56it/s]"
     ]
    },
    {
     "name": "stdout",
     "output_type": "stream",
     "text": [
      "self.evaluation_deque: deque([False, False, False, False, False, False, False, False, False, False, False, False, False, False, False, False, False, False, False, False, False, False, False, False, False, False, False, False, False, False, True, True, False, False, False, True, False, False, False, True, False, False, True, False, False, False, True, False, False, False], maxlen=50)\n",
      "eval_mean: 0.12\n"
     ]
    },
    {
     "name": "stderr",
     "output_type": "stream",
     "text": [
      "\r",
      " 15%|██████████▋                                                              | 43914/300000 [23:54<5:47:31, 12.28it/s]"
     ]
    },
    {
     "name": "stdout",
     "output_type": "stream",
     "text": [
      "self.evaluation_deque: deque([False, False, False, False, False, False, False, False, False, False, False, False, False, False, False, False, False, False, False, False, False, False, False, False, False, False, False, False, False, True, True, False, False, False, True, False, False, False, True, False, False, True, False, False, False, True, False, False, False, False], maxlen=50)\n",
      "eval_mean: 0.12\n"
     ]
    },
    {
     "name": "stderr",
     "output_type": "stream",
     "text": [
      "\r",
      " 15%|██████████▋                                                              | 44012/300000 [24:00<5:27:21, 13.03it/s]"
     ]
    },
    {
     "name": "stdout",
     "output_type": "stream",
     "text": [
      "self.evaluation_deque: deque([False, False, False, False, False, False, False, False, False, False, False, False, False, False, False, False, False, False, False, False, False, False, False, False, False, False, False, False, False, True, True, False, False, False, True, False, False, False, True, False, False, True, False, False, False, True, False, False, False, False], maxlen=50)\n",
      "eval_mean: 0.12\n"
     ]
    },
    {
     "name": "stderr",
     "output_type": "stream",
     "text": [
      "\r",
      " 15%|██████████▋                                                              | 44112/300000 [24:07<5:16:20, 13.48it/s]"
     ]
    },
    {
     "name": "stdout",
     "output_type": "stream",
     "text": [
      "self.evaluation_deque: deque([False, False, False, False, False, False, False, False, False, False, False, False, False, False, False, False, False, False, False, False, False, False, False, False, False, False, False, False, False, True, True, False, False, False, True, False, False, False, True, False, False, True, False, False, False, True, False, False, False, False], maxlen=50)\n",
      "eval_mean: 0.12\n"
     ]
    },
    {
     "name": "stderr",
     "output_type": "stream",
     "text": [
      "\r",
      " 15%|██████████▊                                                              | 44182/300000 [24:12<5:11:13, 13.70it/s]"
     ]
    },
    {
     "name": "stdout",
     "output_type": "stream",
     "text": [
      "self.evaluation_deque: deque([False, False, False, False, False, False, False, False, False, False, False, False, False, False, False, False, False, False, False, False, False, False, False, False, False, False, False, False, False, True, True, False, False, False, True, False, False, False, True, False, False, True, False, False, False, True, False, False, False, False], maxlen=50)\n",
      "eval_mean: 0.12\n"
     ]
    },
    {
     "name": "stderr",
     "output_type": "stream",
     "text": [
      "\r",
      " 15%|██████████▊                                                              | 44254/300000 [24:17<5:03:02, 14.07it/s]"
     ]
    },
    {
     "name": "stdout",
     "output_type": "stream",
     "text": [
      "self.evaluation_deque: deque([False, False, False, False, False, False, False, False, False, False, False, False, False, False, False, False, False, False, False, False, False, False, False, False, False, False, False, False, False, True, True, False, False, False, True, False, False, False, True, False, False, True, False, False, False, True, False, False, False, False], maxlen=50)\n",
      "eval_mean: 0.12\n"
     ]
    },
    {
     "name": "stderr",
     "output_type": "stream",
     "text": [
      "\r",
      " 15%|██████████▊                                                              | 44326/300000 [24:24<5:38:15, 12.60it/s]"
     ]
    },
    {
     "name": "stdout",
     "output_type": "stream",
     "text": [
      "self.evaluation_deque: deque([False, False, False, False, False, False, False, False, False, False, False, False, False, False, False, False, False, False, False, False, False, False, False, False, False, False, False, False, True, True, False, False, False, True, False, False, False, True, False, False, True, False, False, False, True, False, False, False, False, True], maxlen=50)\n",
      "eval_mean: 0.14\n",
      "Saving best with: 0.14\n"
     ]
    },
    {
     "name": "stderr",
     "output_type": "stream",
     "text": [
      "\r",
      " 15%|██████████▊                                                              | 44413/300000 [24:30<5:19:51, 13.32it/s]"
     ]
    },
    {
     "name": "stdout",
     "output_type": "stream",
     "text": [
      "self.evaluation_deque: deque([False, False, False, False, False, False, False, False, False, False, False, False, False, False, False, False, False, False, False, False, False, False, False, False, False, False, False, False, True, True, False, False, False, True, False, False, False, True, False, False, True, False, False, False, True, False, False, False, False, True], maxlen=50)\n",
      "eval_mean: 0.14\n"
     ]
    },
    {
     "name": "stderr",
     "output_type": "stream",
     "text": [
      "\r",
      " 15%|██████████▊                                                              | 44488/300000 [24:35<5:14:28, 13.54it/s]"
     ]
    },
    {
     "name": "stdout",
     "output_type": "stream",
     "text": [
      "self.evaluation_deque: deque([False, False, False, False, False, False, False, False, False, False, False, False, False, False, False, False, False, False, False, False, False, False, False, False, False, False, False, False, True, True, False, False, False, True, False, False, False, True, False, False, True, False, False, False, True, False, False, False, False, True], maxlen=50)\n",
      "eval_mean: 0.14\n"
     ]
    },
    {
     "name": "stderr",
     "output_type": "stream",
     "text": [
      "\r",
      " 15%|██████████▊                                                              | 44563/300000 [24:40<5:06:10, 13.90it/s]"
     ]
    },
    {
     "name": "stdout",
     "output_type": "stream",
     "text": [
      "self.evaluation_deque: deque([False, False, False, False, False, False, False, False, False, False, False, False, False, False, False, False, False, False, False, False, False, False, False, False, False, False, False, False, True, True, False, False, False, True, False, False, False, True, False, False, True, False, False, False, True, False, False, False, False, True], maxlen=50)\n",
      "eval_mean: 0.14\n"
     ]
    },
    {
     "name": "stderr",
     "output_type": "stream",
     "text": [
      "\r",
      " 15%|██████████▊                                                              | 44626/300000 [24:45<5:02:54, 14.05it/s]"
     ]
    },
    {
     "name": "stdout",
     "output_type": "stream",
     "text": [
      "self.evaluation_deque: deque([False, False, False, False, False, False, False, False, False, False, False, False, False, False, False, False, False, False, False, False, False, False, False, False, False, False, False, False, True, True, False, False, False, True, False, False, False, True, False, False, True, False, False, False, True, False, False, False, False, True], maxlen=50)\n",
      "eval_mean: 0.14\n"
     ]
    },
    {
     "name": "stderr",
     "output_type": "stream",
     "text": [
      "\r",
      " 15%|██████████▊                                                              | 44682/300000 [24:51<5:39:36, 12.53it/s]"
     ]
    },
    {
     "name": "stdout",
     "output_type": "stream",
     "text": [
      "self.evaluation_deque: deque([False, False, False, False, False, False, False, False, False, False, False, False, False, False, False, False, False, False, False, False, False, False, False, False, False, False, False, True, True, False, False, False, True, False, False, False, True, False, False, True, False, False, False, True, False, False, False, False, True, False], maxlen=50)\n",
      "eval_mean: 0.14\n"
     ]
    },
    {
     "name": "stderr",
     "output_type": "stream",
     "text": [
      "\r",
      " 15%|██████████▉                                                              | 44747/300000 [24:55<5:22:20, 13.20it/s]"
     ]
    },
    {
     "name": "stdout",
     "output_type": "stream",
     "text": [
      "self.evaluation_deque: deque([False, False, False, False, False, False, False, False, False, False, False, False, False, False, False, False, False, False, False, False, False, False, False, False, False, False, False, True, True, False, False, False, True, False, False, False, True, False, False, True, False, False, False, True, False, False, False, False, True, False], maxlen=50)\n",
      "eval_mean: 0.14\n"
     ]
    },
    {
     "name": "stderr",
     "output_type": "stream",
     "text": [
      "\r",
      " 15%|██████████▉                                                              | 44835/300000 [25:01<5:10:26, 13.70it/s]"
     ]
    },
    {
     "name": "stdout",
     "output_type": "stream",
     "text": [
      "self.evaluation_deque: deque([False, False, False, False, False, False, False, False, False, False, False, False, False, False, False, False, False, False, False, False, False, False, False, False, False, False, False, True, True, False, False, False, True, False, False, False, True, False, False, True, False, False, False, True, False, False, False, False, True, False], maxlen=50)\n",
      "eval_mean: 0.14\n"
     ]
    },
    {
     "name": "stderr",
     "output_type": "stream",
     "text": [
      "\r",
      " 15%|██████████▉                                                              | 44881/300000 [25:04<5:08:52, 13.77it/s]"
     ]
    },
    {
     "name": "stdout",
     "output_type": "stream",
     "text": [
      "self.evaluation_deque: deque([False, False, False, False, False, False, False, False, False, False, False, False, False, False, False, False, False, False, False, False, False, False, False, False, False, False, False, True, True, False, False, False, True, False, False, False, True, False, False, True, False, False, False, True, False, False, False, False, True, False], maxlen=50)\n",
      "eval_mean: 0.14\n"
     ]
    },
    {
     "name": "stderr",
     "output_type": "stream",
     "text": [
      "\r",
      " 15%|██████████▉                                                              | 44943/300000 [25:08<5:04:17, 13.97it/s]"
     ]
    },
    {
     "name": "stdout",
     "output_type": "stream",
     "text": [
      "self.evaluation_deque: deque([False, False, False, False, False, False, False, False, False, False, False, False, False, False, False, False, False, False, False, False, False, False, False, False, False, False, False, True, True, False, False, False, True, False, False, False, True, False, False, True, False, False, False, True, False, False, False, False, True, False], maxlen=50)\n",
      "eval_mean: 0.14\n"
     ]
    },
    {
     "name": "stderr",
     "output_type": "stream",
     "text": [
      "\r",
      " 15%|██████████▉                                                              | 45022/300000 [25:16<5:32:25, 12.78it/s]"
     ]
    },
    {
     "name": "stdout",
     "output_type": "stream",
     "text": [
      "self.evaluation_deque: deque([False, False, False, False, False, False, False, False, False, False, False, False, False, False, False, False, False, False, False, False, False, False, False, False, False, False, True, True, False, False, False, True, False, False, False, True, False, False, True, False, False, False, True, False, False, False, False, True, False, False], maxlen=50)\n",
      "eval_mean: 0.14\n"
     ]
    },
    {
     "name": "stderr",
     "output_type": "stream",
     "text": [
      "\r",
      " 15%|██████████▉                                                              | 45068/300000 [25:19<5:24:20, 13.10it/s]"
     ]
    },
    {
     "name": "stdout",
     "output_type": "stream",
     "text": [
      "self.evaluation_deque: deque([False, False, False, False, False, False, False, False, False, False, False, False, False, False, False, False, False, False, False, False, False, False, False, False, False, False, True, True, False, False, False, True, False, False, False, True, False, False, True, False, False, False, True, False, False, False, False, True, False, False], maxlen=50)\n",
      "eval_mean: 0.14\n"
     ]
    },
    {
     "name": "stderr",
     "output_type": "stream",
     "text": [
      "\r",
      " 15%|██████████▉                                                              | 45152/300000 [25:25<5:13:58, 13.53it/s]"
     ]
    },
    {
     "name": "stdout",
     "output_type": "stream",
     "text": [
      "self.evaluation_deque: deque([False, False, False, False, False, False, False, False, False, False, False, False, False, False, False, False, False, False, False, False, False, False, False, False, False, False, True, True, False, False, False, True, False, False, False, True, False, False, True, False, False, False, True, False, False, False, False, True, False, False], maxlen=50)\n",
      "eval_mean: 0.14\n"
     ]
    },
    {
     "name": "stderr",
     "output_type": "stream",
     "text": [
      "\r",
      " 15%|███████████                                                              | 45240/300000 [25:31<5:06:11, 13.87it/s]"
     ]
    },
    {
     "name": "stdout",
     "output_type": "stream",
     "text": [
      "self.evaluation_deque: deque([False, False, False, False, False, False, False, False, False, False, False, False, False, False, False, False, False, False, False, False, False, False, False, False, False, False, True, True, False, False, False, True, False, False, False, True, False, False, True, False, False, False, True, False, False, False, False, True, False, False], maxlen=50)\n",
      "eval_mean: 0.14\n"
     ]
    },
    {
     "name": "stderr",
     "output_type": "stream",
     "text": [
      "\r",
      " 15%|███████████                                                              | 45307/300000 [25:35<5:01:39, 14.07it/s]"
     ]
    },
    {
     "name": "stdout",
     "output_type": "stream",
     "text": [
      "self.evaluation_deque: deque([False, False, False, False, False, False, False, False, False, False, False, False, False, False, False, False, False, False, False, False, False, False, False, False, False, False, True, True, False, False, False, True, False, False, False, True, False, False, True, False, False, False, True, False, False, False, False, True, False, False], maxlen=50)\n",
      "eval_mean: 0.14\n"
     ]
    },
    {
     "name": "stderr",
     "output_type": "stream",
     "text": [
      "\r",
      " 15%|███████████                                                              | 45359/300000 [25:41<5:38:48, 12.53it/s]"
     ]
    },
    {
     "name": "stdout",
     "output_type": "stream",
     "text": [
      "self.evaluation_deque: deque([False, False, False, False, False, False, False, False, False, False, False, False, False, False, False, False, False, False, False, False, False, False, False, False, False, True, True, False, False, False, True, False, False, False, True, False, False, True, False, False, False, True, False, False, False, False, True, False, False, False], maxlen=50)\n",
      "eval_mean: 0.14\n"
     ]
    },
    {
     "name": "stderr",
     "output_type": "stream",
     "text": [
      "\r",
      " 15%|███████████                                                              | 45434/300000 [25:46<5:22:48, 13.14it/s]"
     ]
    },
    {
     "name": "stdout",
     "output_type": "stream",
     "text": [
      "self.evaluation_deque: deque([False, False, False, False, False, False, False, False, False, False, False, False, False, False, False, False, False, False, False, False, False, False, False, False, False, True, True, False, False, False, True, False, False, False, True, False, False, True, False, False, False, True, False, False, False, False, True, False, False, False], maxlen=50)\n",
      "eval_mean: 0.14\n"
     ]
    },
    {
     "name": "stderr",
     "output_type": "stream",
     "text": [
      "\r",
      " 15%|███████████                                                              | 45485/300000 [25:50<5:16:12, 13.41it/s]"
     ]
    },
    {
     "name": "stdout",
     "output_type": "stream",
     "text": [
      "self.evaluation_deque: deque([False, False, False, False, False, False, False, False, False, False, False, False, False, False, False, False, False, False, False, False, False, False, False, False, False, True, True, False, False, False, True, False, False, False, True, False, False, True, False, False, False, True, False, False, False, False, True, False, False, False], maxlen=50)\n",
      "eval_mean: 0.14\n"
     ]
    },
    {
     "name": "stderr",
     "output_type": "stream",
     "text": [
      "\r",
      " 15%|███████████                                                              | 45566/300000 [25:55<5:04:55, 13.91it/s]"
     ]
    },
    {
     "name": "stdout",
     "output_type": "stream",
     "text": [
      "self.evaluation_deque: deque([False, False, False, False, False, False, False, False, False, False, False, False, False, False, False, False, False, False, False, False, False, False, False, False, False, True, True, False, False, False, True, False, False, False, True, False, False, True, False, False, False, True, False, False, False, False, True, False, False, False], maxlen=50)\n",
      "eval_mean: 0.14\n"
     ]
    },
    {
     "name": "stderr",
     "output_type": "stream",
     "text": [
      "\r",
      " 15%|███████████                                                              | 45653/300000 [26:01<4:58:23, 14.21it/s]"
     ]
    },
    {
     "name": "stdout",
     "output_type": "stream",
     "text": [
      "self.evaluation_deque: deque([False, False, False, False, False, False, False, False, False, False, False, False, False, False, False, False, False, False, False, False, False, False, False, False, False, True, True, False, False, False, True, False, False, False, True, False, False, True, False, False, False, True, False, False, False, False, True, False, False, False], maxlen=50)\n",
      "eval_mean: 0.14\n"
     ]
    },
    {
     "name": "stderr",
     "output_type": "stream",
     "text": [
      "\r",
      " 15%|███████████▏                                                             | 45732/300000 [26:11<6:11:10, 11.42it/s]"
     ]
    },
    {
     "name": "stdout",
     "output_type": "stream",
     "text": [
      "self.evaluation_deque: deque([False, False, False, False, False, False, False, False, False, False, False, False, False, False, False, False, False, False, False, False, False, False, False, False, True, True, False, False, False, True, False, False, False, True, False, False, True, False, False, False, True, False, False, False, False, True, False, False, False, True], maxlen=50)\n",
      "eval_mean: 0.16\n",
      "Saving best with: 0.16\n"
     ]
    },
    {
     "name": "stderr",
     "output_type": "stream",
     "text": [
      "\r",
      " 15%|███████████▏                                                             | 45787/300000 [26:15<5:55:26, 11.92it/s]"
     ]
    },
    {
     "name": "stdout",
     "output_type": "stream",
     "text": [
      "self.evaluation_deque: deque([False, False, False, False, False, False, False, False, False, False, False, False, False, False, False, False, False, False, False, False, False, False, False, False, True, True, False, False, False, True, False, False, False, True, False, False, True, False, False, False, True, False, False, False, False, True, False, False, False, True], maxlen=50)\n",
      "eval_mean: 0.16\n"
     ]
    },
    {
     "name": "stderr",
     "output_type": "stream",
     "text": [
      "\r",
      " 15%|███████████▏                                                             | 45861/300000 [26:20<5:35:17, 12.63it/s]"
     ]
    },
    {
     "name": "stdout",
     "output_type": "stream",
     "text": [
      "self.evaluation_deque: deque([False, False, False, False, False, False, False, False, False, False, False, False, False, False, False, False, False, False, False, False, False, False, False, False, True, True, False, False, False, True, False, False, False, True, False, False, True, False, False, False, True, False, False, False, False, True, False, False, False, True], maxlen=50)\n",
      "eval_mean: 0.16\n"
     ]
    },
    {
     "name": "stderr",
     "output_type": "stream",
     "text": [
      "\r",
      " 15%|███████████▏                                                             | 45923/300000 [26:24<5:23:07, 13.11it/s]"
     ]
    },
    {
     "name": "stdout",
     "output_type": "stream",
     "text": [
      "self.evaluation_deque: deque([False, False, False, False, False, False, False, False, False, False, False, False, False, False, False, False, False, False, False, False, False, False, False, False, True, True, False, False, False, True, False, False, False, True, False, False, True, False, False, False, True, False, False, False, False, True, False, False, False, True], maxlen=50)\n",
      "eval_mean: 0.16\n"
     ]
    },
    {
     "name": "stderr",
     "output_type": "stream",
     "text": [
      "\r",
      " 15%|███████████▏                                                             | 46019/300000 [26:31<5:13:32, 13.50it/s]"
     ]
    },
    {
     "name": "stdout",
     "output_type": "stream",
     "text": [
      "self.evaluation_deque: deque([False, False, False, False, False, False, False, False, False, False, False, False, False, False, False, False, False, False, False, False, False, False, False, False, True, True, False, False, False, True, False, False, False, True, False, False, True, False, False, False, True, False, False, False, False, True, False, False, False, True], maxlen=50)\n",
      "eval_mean: 0.16\n"
     ]
    },
    {
     "name": "stderr",
     "output_type": "stream",
     "text": [
      "\r",
      " 15%|███████████▏                                                             | 46072/300000 [26:37<5:44:35, 12.28it/s]"
     ]
    },
    {
     "name": "stdout",
     "output_type": "stream",
     "text": [
      "self.evaluation_deque: deque([False, False, False, False, False, False, False, False, False, False, False, False, False, False, False, False, False, False, False, False, False, False, False, True, True, False, False, False, True, False, False, False, True, False, False, True, False, False, False, True, False, False, False, False, True, False, False, False, True, True], maxlen=50)\n",
      "eval_mean: 0.18\n",
      "Saving best with: 0.18\n"
     ]
    },
    {
     "name": "stderr",
     "output_type": "stream",
     "text": [
      "\r",
      " 15%|███████████▏                                                             | 46147/300000 [26:42<5:32:51, 12.71it/s]"
     ]
    },
    {
     "name": "stdout",
     "output_type": "stream",
     "text": [
      "self.evaluation_deque: deque([False, False, False, False, False, False, False, False, False, False, False, False, False, False, False, False, False, False, False, False, False, False, False, True, True, False, False, False, True, False, False, False, True, False, False, True, False, False, False, True, False, False, False, False, True, False, False, False, True, True], maxlen=50)\n",
      "eval_mean: 0.18\n"
     ]
    },
    {
     "name": "stderr",
     "output_type": "stream",
     "text": [
      "\r",
      " 15%|███████████▏                                                             | 46218/300000 [26:47<5:24:53, 13.02it/s]"
     ]
    },
    {
     "name": "stdout",
     "output_type": "stream",
     "text": [
      "self.evaluation_deque: deque([False, False, False, False, False, False, False, False, False, False, False, False, False, False, False, False, False, False, False, False, False, False, False, True, True, False, False, False, True, False, False, False, True, False, False, True, False, False, False, True, False, False, False, False, True, False, False, False, True, True], maxlen=50)\n",
      "eval_mean: 0.18\n"
     ]
    },
    {
     "name": "stderr",
     "output_type": "stream",
     "text": [
      "\r",
      " 15%|███████████▎                                                             | 46268/300000 [26:51<5:15:23, 13.41it/s]"
     ]
    },
    {
     "name": "stdout",
     "output_type": "stream",
     "text": [
      "self.evaluation_deque: deque([False, False, False, False, False, False, False, False, False, False, False, False, False, False, False, False, False, False, False, False, False, False, False, True, True, False, False, False, True, False, False, False, True, False, False, True, False, False, False, True, False, False, False, False, True, False, False, False, True, True], maxlen=50)\n",
      "eval_mean: 0.18\n"
     ]
    },
    {
     "name": "stderr",
     "output_type": "stream",
     "text": [
      "\r",
      " 15%|███████████▎                                                             | 46328/300000 [26:55<5:11:25, 13.58it/s]"
     ]
    },
    {
     "name": "stdout",
     "output_type": "stream",
     "text": [
      "self.evaluation_deque: deque([False, False, False, False, False, False, False, False, False, False, False, False, False, False, False, False, False, False, False, False, False, False, False, True, True, False, False, False, True, False, False, False, True, False, False, True, False, False, False, True, False, False, False, False, True, False, False, False, True, True], maxlen=50)\n",
      "eval_mean: 0.18\n"
     ]
    },
    {
     "name": "stderr",
     "output_type": "stream",
     "text": [
      "\r",
      " 15%|███████████▎                                                             | 46406/300000 [27:02<5:37:48, 12.51it/s]"
     ]
    },
    {
     "name": "stdout",
     "output_type": "stream",
     "text": [
      "self.evaluation_deque: deque([False, False, False, False, False, False, False, False, False, False, False, False, False, False, False, False, False, False, False, False, False, False, True, True, False, False, False, True, False, False, False, True, False, False, True, False, False, False, True, False, False, False, False, True, False, False, False, True, True, True], maxlen=50)\n",
      "eval_mean: 0.2\n",
      "Saving best with: 0.2\n"
     ]
    },
    {
     "name": "stderr",
     "output_type": "stream",
     "text": [
      "\r",
      " 15%|███████████▎                                                             | 46491/300000 [27:08<5:25:37, 12.98it/s]"
     ]
    },
    {
     "name": "stdout",
     "output_type": "stream",
     "text": [
      "self.evaluation_deque: deque([False, False, False, False, False, False, False, False, False, False, False, False, False, False, False, False, False, False, False, False, False, False, True, True, False, False, False, True, False, False, False, True, False, False, True, False, False, False, True, False, False, False, False, True, False, False, False, True, True, True], maxlen=50)\n",
      "eval_mean: 0.2\n"
     ]
    },
    {
     "name": "stderr",
     "output_type": "stream",
     "text": [
      "\r",
      " 16%|███████████▎                                                             | 46548/300000 [27:12<5:14:51, 13.42it/s]"
     ]
    },
    {
     "name": "stdout",
     "output_type": "stream",
     "text": [
      "self.evaluation_deque: deque([False, False, False, False, False, False, False, False, False, False, False, False, False, False, False, False, False, False, False, False, False, False, True, True, False, False, False, True, False, False, False, True, False, False, True, False, False, False, True, False, False, False, False, True, False, False, False, True, True, True], maxlen=50)\n",
      "eval_mean: 0.2\n"
     ]
    },
    {
     "name": "stderr",
     "output_type": "stream",
     "text": [
      "\r",
      " 16%|███████████▎                                                             | 46602/300000 [27:16<5:11:17, 13.57it/s]"
     ]
    },
    {
     "name": "stdout",
     "output_type": "stream",
     "text": [
      "self.evaluation_deque: deque([False, False, False, False, False, False, False, False, False, False, False, False, False, False, False, False, False, False, False, False, False, False, True, True, False, False, False, True, False, False, False, True, False, False, True, False, False, False, True, False, False, False, False, True, False, False, False, True, True, True], maxlen=50)\n",
      "eval_mean: 0.2\n"
     ]
    },
    {
     "name": "stderr",
     "output_type": "stream",
     "text": [
      "\r",
      " 16%|███████████▎                                                             | 46666/300000 [27:20<5:03:19, 13.92it/s]"
     ]
    },
    {
     "name": "stdout",
     "output_type": "stream",
     "text": [
      "self.evaluation_deque: deque([False, False, False, False, False, False, False, False, False, False, False, False, False, False, False, False, False, False, False, False, False, False, True, True, False, False, False, True, False, False, False, True, False, False, True, False, False, False, True, False, False, False, False, True, False, False, False, True, True, True], maxlen=50)\n",
      "eval_mean: 0.2\n"
     ]
    },
    {
     "name": "stderr",
     "output_type": "stream",
     "text": [
      "\r",
      " 16%|███████████▎                                                             | 46717/300000 [27:26<5:49:28, 12.08it/s]"
     ]
    },
    {
     "name": "stdout",
     "output_type": "stream",
     "text": [
      "self.evaluation_deque: deque([False, False, False, False, False, False, False, False, False, False, False, False, False, False, False, False, False, False, False, False, False, True, True, False, False, False, True, False, False, False, True, False, False, True, False, False, False, True, False, False, False, False, True, False, False, False, True, True, True, False], maxlen=50)\n",
      "eval_mean: 0.2\n"
     ]
    },
    {
     "name": "stderr",
     "output_type": "stream",
     "text": [
      "\r",
      " 16%|███████████▍                                                             | 46763/300000 [27:29<5:38:31, 12.47it/s]"
     ]
    },
    {
     "name": "stdout",
     "output_type": "stream",
     "text": [
      "self.evaluation_deque: deque([False, False, False, False, False, False, False, False, False, False, False, False, False, False, False, False, False, False, False, False, False, True, True, False, False, False, True, False, False, False, True, False, False, True, False, False, False, True, False, False, False, False, True, False, False, False, True, True, True, False], maxlen=50)\n",
      "eval_mean: 0.2\n"
     ]
    },
    {
     "name": "stderr",
     "output_type": "stream",
     "text": [
      "\r",
      " 16%|███████████▍                                                             | 46827/300000 [27:34<5:23:17, 13.05it/s]"
     ]
    },
    {
     "name": "stdout",
     "output_type": "stream",
     "text": [
      "self.evaluation_deque: deque([False, False, False, False, False, False, False, False, False, False, False, False, False, False, False, False, False, False, False, False, False, True, True, False, False, False, True, False, False, False, True, False, False, True, False, False, False, True, False, False, False, False, True, False, False, False, True, True, True, False], maxlen=50)\n",
      "eval_mean: 0.2\n"
     ]
    },
    {
     "name": "stderr",
     "output_type": "stream",
     "text": [
      "\r",
      " 16%|███████████▍                                                             | 46897/300000 [27:39<5:16:01, 13.35it/s]"
     ]
    },
    {
     "name": "stdout",
     "output_type": "stream",
     "text": [
      "self.evaluation_deque: deque([False, False, False, False, False, False, False, False, False, False, False, False, False, False, False, False, False, False, False, False, False, True, True, False, False, False, True, False, False, False, True, False, False, True, False, False, False, True, False, False, False, False, True, False, False, False, True, True, True, False], maxlen=50)\n",
      "eval_mean: 0.2\n"
     ]
    },
    {
     "name": "stderr",
     "output_type": "stream",
     "text": [
      "\r",
      " 16%|███████████▍                                                             | 46958/300000 [27:43<5:07:55, 13.70it/s]"
     ]
    },
    {
     "name": "stdout",
     "output_type": "stream",
     "text": [
      "self.evaluation_deque: deque([False, False, False, False, False, False, False, False, False, False, False, False, False, False, False, False, False, False, False, False, False, True, True, False, False, False, True, False, False, False, True, False, False, True, False, False, False, True, False, False, False, False, True, False, False, False, True, True, True, False], maxlen=50)\n",
      "eval_mean: 0.2\n"
     ]
    },
    {
     "name": "stderr",
     "output_type": "stream",
     "text": [
      "\r",
      " 16%|███████████▍                                                             | 47031/300000 [27:50<5:39:18, 12.43it/s]"
     ]
    },
    {
     "name": "stdout",
     "output_type": "stream",
     "text": [
      "self.evaluation_deque: deque([False, False, False, False, False, False, False, False, False, False, False, False, False, False, False, False, False, False, False, False, True, True, False, False, False, True, False, False, False, True, False, False, True, False, False, False, True, False, False, False, False, True, False, False, False, True, True, True, False, True], maxlen=50)\n",
      "eval_mean: 0.22\n",
      "Saving best with: 0.22\n"
     ]
    },
    {
     "name": "stderr",
     "output_type": "stream",
     "text": [
      "\r",
      " 16%|███████████▍                                                             | 47082/300000 [27:53<5:24:49, 12.98it/s]"
     ]
    },
    {
     "name": "stdout",
     "output_type": "stream",
     "text": [
      "self.evaluation_deque: deque([False, False, False, False, False, False, False, False, False, False, False, False, False, False, False, False, False, False, False, False, True, True, False, False, False, True, False, False, False, True, False, False, True, False, False, False, True, False, False, False, False, True, False, False, False, True, True, True, False, True], maxlen=50)\n",
      "eval_mean: 0.22\n"
     ]
    },
    {
     "name": "stderr",
     "output_type": "stream",
     "text": [
      "\r",
      " 16%|███████████▍                                                             | 47144/300000 [27:58<5:15:27, 13.36it/s]"
     ]
    },
    {
     "name": "stdout",
     "output_type": "stream",
     "text": [
      "self.evaluation_deque: deque([False, False, False, False, False, False, False, False, False, False, False, False, False, False, False, False, False, False, False, False, True, True, False, False, False, True, False, False, False, True, False, False, True, False, False, False, True, False, False, False, False, True, False, False, False, True, True, True, False, True], maxlen=50)\n",
      "eval_mean: 0.22\n"
     ]
    },
    {
     "name": "stderr",
     "output_type": "stream",
     "text": [
      "\r",
      " 16%|███████████▍                                                             | 47200/300000 [28:01<5:05:46, 13.78it/s]"
     ]
    },
    {
     "name": "stdout",
     "output_type": "stream",
     "text": [
      "self.evaluation_deque: deque([False, False, False, False, False, False, False, False, False, False, False, False, False, False, False, False, False, False, False, False, True, True, False, False, False, True, False, False, False, True, False, False, True, False, False, False, True, False, False, False, False, True, False, False, False, True, True, True, False, True], maxlen=50)\n",
      "eval_mean: 0.22\n"
     ]
    },
    {
     "name": "stderr",
     "output_type": "stream",
     "text": [
      "\r",
      " 16%|███████████▌                                                             | 47266/300000 [28:06<5:00:08, 14.03it/s]"
     ]
    },
    {
     "name": "stdout",
     "output_type": "stream",
     "text": [
      "self.evaluation_deque: deque([False, False, False, False, False, False, False, False, False, False, False, False, False, False, False, False, False, False, False, False, True, True, False, False, False, True, False, False, False, True, False, False, True, False, False, False, True, False, False, False, False, True, False, False, False, True, True, True, False, True], maxlen=50)\n",
      "eval_mean: 0.22\n"
     ]
    },
    {
     "name": "stderr",
     "output_type": "stream",
     "text": [
      "\r",
      " 16%|███████████▌                                                             | 47356/300000 [28:14<5:38:55, 12.42it/s]"
     ]
    },
    {
     "name": "stdout",
     "output_type": "stream",
     "text": [
      "self.evaluation_deque: deque([False, False, False, False, False, False, False, False, False, False, False, False, False, False, False, False, False, False, False, True, True, False, False, False, True, False, False, False, True, False, False, True, False, False, False, True, False, False, False, False, True, False, False, False, True, True, True, False, True, False], maxlen=50)\n",
      "eval_mean: 0.22\n"
     ]
    },
    {
     "name": "stderr",
     "output_type": "stream",
     "text": [
      "\r",
      " 16%|███████████▌                                                             | 47408/300000 [28:18<5:28:48, 12.80it/s]"
     ]
    },
    {
     "name": "stdout",
     "output_type": "stream",
     "text": [
      "self.evaluation_deque: deque([False, False, False, False, False, False, False, False, False, False, False, False, False, False, False, False, False, False, False, True, True, False, False, False, True, False, False, False, True, False, False, True, False, False, False, True, False, False, False, False, True, False, False, False, True, True, True, False, True, False], maxlen=50)\n",
      "eval_mean: 0.22\n"
     ]
    },
    {
     "name": "stderr",
     "output_type": "stream",
     "text": [
      "\r",
      " 16%|███████████▌                                                             | 47481/300000 [28:23<5:14:31, 13.38it/s]"
     ]
    },
    {
     "name": "stdout",
     "output_type": "stream",
     "text": [
      "self.evaluation_deque: deque([False, False, False, False, False, False, False, False, False, False, False, False, False, False, False, False, False, False, False, True, True, False, False, False, True, False, False, False, True, False, False, True, False, False, False, True, False, False, False, False, True, False, False, False, True, True, True, False, True, False], maxlen=50)\n",
      "eval_mean: 0.22\n"
     ]
    },
    {
     "name": "stderr",
     "output_type": "stream",
     "text": [
      "\r",
      " 16%|███████████▌                                                             | 47547/300000 [28:27<5:05:02, 13.79it/s]"
     ]
    },
    {
     "name": "stdout",
     "output_type": "stream",
     "text": [
      "self.evaluation_deque: deque([False, False, False, False, False, False, False, False, False, False, False, False, False, False, False, False, False, False, False, True, True, False, False, False, True, False, False, False, True, False, False, True, False, False, False, True, False, False, False, False, True, False, False, False, True, True, True, False, True, False], maxlen=50)\n",
      "eval_mean: 0.22\n"
     ]
    },
    {
     "name": "stderr",
     "output_type": "stream",
     "text": [
      "\r",
      " 16%|███████████▌                                                             | 47597/300000 [28:31<5:02:55, 13.89it/s]"
     ]
    },
    {
     "name": "stdout",
     "output_type": "stream",
     "text": [
      "self.evaluation_deque: deque([False, False, False, False, False, False, False, False, False, False, False, False, False, False, False, False, False, False, False, True, True, False, False, False, True, False, False, False, True, False, False, True, False, False, False, True, False, False, False, False, True, False, False, False, True, True, True, False, True, False], maxlen=50)\n",
      "eval_mean: 0.22\n"
     ]
    },
    {
     "name": "stderr",
     "output_type": "stream",
     "text": [
      "\r",
      " 16%|███████████▌                                                             | 47660/300000 [28:37<5:43:39, 12.24it/s]"
     ]
    },
    {
     "name": "stdout",
     "output_type": "stream",
     "text": [
      "self.evaluation_deque: deque([False, False, False, False, False, False, False, False, False, False, False, False, False, False, False, False, False, False, True, True, False, False, False, True, False, False, False, True, False, False, True, False, False, False, True, False, False, False, False, True, False, False, False, True, True, True, False, True, False, True], maxlen=50)\n",
      "eval_mean: 0.24\n",
      "Saving best with: 0.24\n"
     ]
    },
    {
     "name": "stderr",
     "output_type": "stream",
     "text": [
      "\r",
      " 16%|███████████▌                                                             | 47737/300000 [28:43<5:23:09, 13.01it/s]"
     ]
    },
    {
     "name": "stdout",
     "output_type": "stream",
     "text": [
      "self.evaluation_deque: deque([False, False, False, False, False, False, False, False, False, False, False, False, False, False, False, False, False, False, True, True, False, False, False, True, False, False, False, True, False, False, True, False, False, False, True, False, False, False, False, True, False, False, False, True, True, True, False, True, False, True], maxlen=50)\n",
      "eval_mean: 0.24\n"
     ]
    },
    {
     "name": "stderr",
     "output_type": "stream",
     "text": [
      "\r",
      " 16%|███████████▋                                                             | 47814/300000 [28:48<5:11:14, 13.50it/s]"
     ]
    },
    {
     "name": "stdout",
     "output_type": "stream",
     "text": [
      "self.evaluation_deque: deque([False, False, False, False, False, False, False, False, False, False, False, False, False, False, False, False, False, False, True, True, False, False, False, True, False, False, False, True, False, False, True, False, False, False, True, False, False, False, False, True, False, False, False, True, True, True, False, True, False, True], maxlen=50)\n",
      "eval_mean: 0.24\n"
     ]
    },
    {
     "name": "stderr",
     "output_type": "stream",
     "text": [
      "\r",
      " 16%|███████████▋                                                             | 47873/300000 [28:55<5:54:54, 11.84it/s]"
     ]
    },
    {
     "name": "stdout",
     "output_type": "stream",
     "text": [
      "self.evaluation_deque: deque([False, False, False, False, False, False, False, False, False, False, False, False, False, False, False, False, False, False, True, True, False, False, False, True, False, False, False, True, False, False, True, False, False, False, True, False, False, False, False, True, False, False, False, True, True, True, False, True, False, True], maxlen=50)\n",
      "eval_mean: 0.24\n"
     ]
    },
    {
     "name": "stderr",
     "output_type": "stream",
     "text": [
      "\r",
      " 16%|███████████▋                                                             | 47952/300000 [29:00<5:35:21, 12.53it/s]"
     ]
    },
    {
     "name": "stdout",
     "output_type": "stream",
     "text": [
      "self.evaluation_deque: deque([False, False, False, False, False, False, False, False, False, False, False, False, False, False, False, False, False, False, True, True, False, False, False, True, False, False, False, True, False, False, True, False, False, False, True, False, False, False, False, True, False, False, False, True, True, True, False, True, False, True], maxlen=50)\n",
      "eval_mean: 0.24\n"
     ]
    },
    {
     "name": "stderr",
     "output_type": "stream",
     "text": [
      "\r",
      " 16%|███████████▋                                                             | 48029/300000 [29:08<6:00:15, 11.66it/s]"
     ]
    },
    {
     "name": "stdout",
     "output_type": "stream",
     "text": [
      "self.evaluation_deque: deque([False, False, False, False, False, False, False, False, False, False, False, False, False, False, False, False, False, True, True, False, False, False, True, False, False, False, True, False, False, True, False, False, False, True, False, False, False, False, True, False, False, False, True, True, True, False, True, False, True, False], maxlen=50)\n",
      "eval_mean: 0.24\n"
     ]
    },
    {
     "name": "stderr",
     "output_type": "stream",
     "text": [
      "\r",
      " 16%|███████████▋                                                             | 48085/300000 [29:12<5:45:32, 12.15it/s]"
     ]
    },
    {
     "name": "stdout",
     "output_type": "stream",
     "text": [
      "self.evaluation_deque: deque([False, False, False, False, False, False, False, False, False, False, False, False, False, False, False, False, False, True, True, False, False, False, True, False, False, False, True, False, False, True, False, False, False, True, False, False, False, False, True, False, False, False, True, True, True, False, True, False, True, False], maxlen=50)\n",
      "eval_mean: 0.24\n"
     ]
    },
    {
     "name": "stderr",
     "output_type": "stream",
     "text": [
      "\r",
      " 16%|███████████▋                                                             | 48176/300000 [29:18<5:22:13, 13.03it/s]"
     ]
    },
    {
     "name": "stdout",
     "output_type": "stream",
     "text": [
      "self.evaluation_deque: deque([False, False, False, False, False, False, False, False, False, False, False, False, False, False, False, False, False, True, True, False, False, False, True, False, False, False, True, False, False, True, False, False, False, True, False, False, False, False, True, False, False, False, True, True, True, False, True, False, True, False], maxlen=50)\n",
      "eval_mean: 0.24\n"
     ]
    },
    {
     "name": "stderr",
     "output_type": "stream",
     "text": [
      "\r",
      " 16%|███████████▋                                                             | 48241/300000 [29:23<5:15:21, 13.31it/s]"
     ]
    },
    {
     "name": "stdout",
     "output_type": "stream",
     "text": [
      "self.evaluation_deque: deque([False, False, False, False, False, False, False, False, False, False, False, False, False, False, False, False, False, True, True, False, False, False, True, False, False, False, True, False, False, True, False, False, False, True, False, False, False, False, True, False, False, False, True, True, True, False, True, False, True, False], maxlen=50)\n",
      "eval_mean: 0.24\n"
     ]
    },
    {
     "name": "stderr",
     "output_type": "stream",
     "text": [
      "\r",
      " 16%|███████████▊                                                             | 48290/300000 [29:26<5:07:44, 13.63it/s]"
     ]
    },
    {
     "name": "stdout",
     "output_type": "stream",
     "text": [
      "self.evaluation_deque: deque([False, False, False, False, False, False, False, False, False, False, False, False, False, False, False, False, False, True, True, False, False, False, True, False, False, False, True, False, False, True, False, False, False, True, False, False, False, False, True, False, False, False, True, True, True, False, True, False, True, False], maxlen=50)\n",
      "eval_mean: 0.24\n"
     ]
    },
    {
     "name": "stderr",
     "output_type": "stream",
     "text": [
      "\r",
      " 16%|███████████▊                                                             | 48388/300000 [29:35<5:33:31, 12.57it/s]"
     ]
    },
    {
     "name": "stdout",
     "output_type": "stream",
     "text": [
      "self.evaluation_deque: deque([False, False, False, False, False, False, False, False, False, False, False, False, False, False, False, False, True, True, False, False, False, True, False, False, False, True, False, False, True, False, False, False, True, False, False, False, False, True, False, False, False, True, True, True, False, True, False, True, False, False], maxlen=50)\n",
      "eval_mean: 0.24\n"
     ]
    },
    {
     "name": "stderr",
     "output_type": "stream",
     "text": [
      "\r",
      " 16%|███████████▊                                                             | 48445/300000 [29:39<5:23:52, 12.94it/s]"
     ]
    },
    {
     "name": "stdout",
     "output_type": "stream",
     "text": [
      "self.evaluation_deque: deque([False, False, False, False, False, False, False, False, False, False, False, False, False, False, False, False, True, True, False, False, False, True, False, False, False, True, False, False, True, False, False, False, True, False, False, False, False, True, False, False, False, True, True, True, False, True, False, True, False, False], maxlen=50)\n",
      "eval_mean: 0.24\n"
     ]
    },
    {
     "name": "stderr",
     "output_type": "stream",
     "text": [
      "\r",
      " 16%|███████████▊                                                             | 48536/300000 [29:45<5:13:22, 13.37it/s]"
     ]
    },
    {
     "name": "stdout",
     "output_type": "stream",
     "text": [
      "self.evaluation_deque: deque([False, False, False, False, False, False, False, False, False, False, False, False, False, False, False, False, True, True, False, False, False, True, False, False, False, True, False, False, True, False, False, False, True, False, False, False, False, True, False, False, False, True, True, True, False, True, False, True, False, False], maxlen=50)\n",
      "eval_mean: 0.24\n"
     ]
    },
    {
     "name": "stderr",
     "output_type": "stream",
     "text": [
      "\r",
      " 16%|███████████▊                                                             | 48604/300000 [29:50<5:06:00, 13.69it/s]"
     ]
    },
    {
     "name": "stdout",
     "output_type": "stream",
     "text": [
      "self.evaluation_deque: deque([False, False, False, False, False, False, False, False, False, False, False, False, False, False, False, False, True, True, False, False, False, True, False, False, False, True, False, False, True, False, False, False, True, False, False, False, False, True, False, False, False, True, True, True, False, True, False, True, False, False], maxlen=50)\n",
      "eval_mean: 0.24\n"
     ]
    },
    {
     "name": "stderr",
     "output_type": "stream",
     "text": [
      "\r",
      " 16%|███████████▊                                                             | 48694/300000 [29:56<4:56:29, 14.13it/s]"
     ]
    },
    {
     "name": "stdout",
     "output_type": "stream",
     "text": [
      "self.evaluation_deque: deque([False, False, False, False, False, False, False, False, False, False, False, False, False, False, False, False, True, True, False, False, False, True, False, False, False, True, False, False, True, False, False, False, True, False, False, False, False, True, False, False, False, True, True, True, False, True, False, True, False, False], maxlen=50)\n",
      "eval_mean: 0.24\n"
     ]
    },
    {
     "name": "stderr",
     "output_type": "stream",
     "text": [
      "\r",
      " 16%|███████████▊                                                             | 48744/300000 [30:01<5:26:42, 12.82it/s]"
     ]
    },
    {
     "name": "stdout",
     "output_type": "stream",
     "text": [
      "self.evaluation_deque: deque([False, False, False, False, False, False, False, False, False, False, False, False, False, False, False, True, True, False, False, False, True, False, False, False, True, False, False, True, False, False, False, True, False, False, False, False, True, False, False, False, True, True, True, False, True, False, True, False, False, True], maxlen=50)\n",
      "eval_mean: 0.26\n",
      "Saving best with: 0.26\n"
     ]
    },
    {
     "name": "stderr",
     "output_type": "stream",
     "text": [
      "\r",
      " 16%|███████████▉                                                             | 48810/300000 [30:05<5:16:00, 13.25it/s]"
     ]
    },
    {
     "name": "stdout",
     "output_type": "stream",
     "text": [
      "self.evaluation_deque: deque([False, False, False, False, False, False, False, False, False, False, False, False, False, False, False, True, True, False, False, False, True, False, False, False, True, False, False, True, False, False, False, True, False, False, False, False, True, False, False, False, True, True, True, False, True, False, True, False, False, True], maxlen=50)\n",
      "eval_mean: 0.26\n"
     ]
    },
    {
     "name": "stderr",
     "output_type": "stream",
     "text": [
      "\r",
      " 16%|███████████▉                                                             | 48902/300000 [30:12<5:05:37, 13.69it/s]"
     ]
    },
    {
     "name": "stdout",
     "output_type": "stream",
     "text": [
      "self.evaluation_deque: deque([False, False, False, False, False, False, False, False, False, False, False, False, False, False, False, True, True, False, False, False, True, False, False, False, True, False, False, True, False, False, False, True, False, False, False, False, True, False, False, False, True, True, True, False, True, False, True, False, False, True], maxlen=50)\n",
      "eval_mean: 0.26\n"
     ]
    },
    {
     "name": "stderr",
     "output_type": "stream",
     "text": [
      "\r",
      " 16%|███████████▉                                                             | 48995/300000 [30:18<4:59:27, 13.97it/s]"
     ]
    },
    {
     "name": "stdout",
     "output_type": "stream",
     "text": [
      "self.evaluation_deque: deque([False, False, False, False, False, False, False, False, False, False, False, False, False, False, False, True, True, False, False, False, True, False, False, False, True, False, False, True, False, False, False, True, False, False, False, False, True, False, False, False, True, True, True, False, True, False, True, False, False, True], maxlen=50)\n",
      "eval_mean: 0.26\n"
     ]
    },
    {
     "name": "stderr",
     "output_type": "stream",
     "text": [
      "\r",
      " 16%|███████████▉                                                             | 49056/300000 [30:22<4:56:30, 14.11it/s]"
     ]
    },
    {
     "name": "stdout",
     "output_type": "stream",
     "text": [
      "self.evaluation_deque: deque([False, False, False, False, False, False, False, False, False, False, False, False, False, False, False, True, True, False, False, False, True, False, False, False, True, False, False, True, False, False, False, True, False, False, False, False, True, False, False, False, True, True, True, False, True, False, True, False, False, True], maxlen=50)\n",
      "eval_mean: 0.26\n"
     ]
    },
    {
     "name": "stderr",
     "output_type": "stream",
     "text": [
      "\r",
      " 16%|███████████▉                                                             | 49127/300000 [30:29<5:28:28, 12.73it/s]"
     ]
    },
    {
     "name": "stdout",
     "output_type": "stream",
     "text": [
      "self.evaluation_deque: deque([False, False, False, False, False, False, False, False, False, False, False, False, False, False, True, True, False, False, False, True, False, False, False, True, False, False, True, False, False, False, True, False, False, False, False, True, False, False, False, True, True, True, False, True, False, True, False, False, True, False], maxlen=50)\n",
      "eval_mean: 0.26\n"
     ]
    },
    {
     "name": "stderr",
     "output_type": "stream",
     "text": [
      "\r",
      " 16%|███████████▉                                                             | 49185/300000 [30:33<5:18:58, 13.10it/s]"
     ]
    },
    {
     "name": "stdout",
     "output_type": "stream",
     "text": [
      "self.evaluation_deque: deque([False, False, False, False, False, False, False, False, False, False, False, False, False, False, True, True, False, False, False, True, False, False, False, True, False, False, True, False, False, False, True, False, False, False, False, True, False, False, False, True, True, True, False, True, False, True, False, False, True, False], maxlen=50)\n",
      "eval_mean: 0.26\n"
     ]
    },
    {
     "name": "stderr",
     "output_type": "stream",
     "text": [
      "\r",
      " 16%|███████████▉                                                             | 49243/300000 [30:37<5:12:15, 13.38it/s]"
     ]
    },
    {
     "name": "stdout",
     "output_type": "stream",
     "text": [
      "self.evaluation_deque: deque([False, False, False, False, False, False, False, False, False, False, False, False, False, False, True, True, False, False, False, True, False, False, False, True, False, False, True, False, False, False, True, False, False, False, False, True, False, False, False, True, True, True, False, True, False, True, False, False, True, False], maxlen=50)\n",
      "eval_mean: 0.26\n"
     ]
    },
    {
     "name": "stderr",
     "output_type": "stream",
     "text": [
      "\r",
      " 16%|███████████▉                                                             | 49308/300000 [30:42<5:05:44, 13.67it/s]"
     ]
    },
    {
     "name": "stdout",
     "output_type": "stream",
     "text": [
      "self.evaluation_deque: deque([False, False, False, False, False, False, False, False, False, False, False, False, False, False, True, True, False, False, False, True, False, False, False, True, False, False, True, False, False, False, True, False, False, False, False, True, False, False, False, True, True, True, False, True, False, True, False, False, True, False], maxlen=50)\n",
      "eval_mean: 0.26\n"
     ]
    },
    {
     "name": "stderr",
     "output_type": "stream",
     "text": [
      "\r",
      " 16%|████████████                                                             | 49408/300000 [30:49<4:57:52, 14.02it/s]"
     ]
    },
    {
     "name": "stdout",
     "output_type": "stream",
     "text": [
      "self.evaluation_deque: deque([False, False, False, False, False, False, False, False, False, False, False, False, False, False, True, True, False, False, False, True, False, False, False, True, False, False, True, False, False, False, True, False, False, False, False, True, False, False, False, True, True, True, False, True, False, True, False, False, True, False], maxlen=50)\n",
      "eval_mean: 0.26\n"
     ]
    },
    {
     "name": "stderr",
     "output_type": "stream",
     "text": [
      "\r",
      " 16%|████████████                                                             | 49463/300000 [30:55<5:33:41, 12.51it/s]"
     ]
    },
    {
     "name": "stdout",
     "output_type": "stream",
     "text": [
      "self.evaluation_deque: deque([False, False, False, False, False, False, False, False, False, False, False, False, False, True, True, False, False, False, True, False, False, False, True, False, False, True, False, False, False, True, False, False, False, False, True, False, False, False, True, True, True, False, True, False, True, False, False, True, False, False], maxlen=50)\n",
      "eval_mean: 0.26\n"
     ]
    },
    {
     "name": "stderr",
     "output_type": "stream",
     "text": [
      "\r",
      " 17%|████████████                                                             | 49526/300000 [30:59<5:19:36, 13.06it/s]"
     ]
    },
    {
     "name": "stdout",
     "output_type": "stream",
     "text": [
      "self.evaluation_deque: deque([False, False, False, False, False, False, False, False, False, False, False, False, False, True, True, False, False, False, True, False, False, False, True, False, False, True, False, False, False, True, False, False, False, False, True, False, False, False, True, True, True, False, True, False, True, False, False, True, False, False], maxlen=50)\n",
      "eval_mean: 0.26\n"
     ]
    },
    {
     "name": "stderr",
     "output_type": "stream",
     "text": [
      "\r",
      " 17%|████████████                                                             | 49585/300000 [31:03<5:12:07, 13.37it/s]"
     ]
    },
    {
     "name": "stdout",
     "output_type": "stream",
     "text": [
      "self.evaluation_deque: deque([False, False, False, False, False, False, False, False, False, False, False, False, False, True, True, False, False, False, True, False, False, False, True, False, False, True, False, False, False, True, False, False, False, False, True, False, False, False, True, True, True, False, True, False, True, False, False, True, False, False], maxlen=50)\n",
      "eval_mean: 0.26\n"
     ]
    },
    {
     "name": "stderr",
     "output_type": "stream",
     "text": [
      "\r",
      " 17%|████████████                                                             | 49659/300000 [31:08<5:04:28, 13.70it/s]"
     ]
    },
    {
     "name": "stdout",
     "output_type": "stream",
     "text": [
      "self.evaluation_deque: deque([False, False, False, False, False, False, False, False, False, False, False, False, False, True, True, False, False, False, True, False, False, False, True, False, False, True, False, False, False, True, False, False, False, False, True, False, False, False, True, True, True, False, True, False, True, False, False, True, False, False], maxlen=50)\n",
      "eval_mean: 0.26\n"
     ]
    },
    {
     "name": "stderr",
     "output_type": "stream",
     "text": [
      "\r",
      " 17%|████████████                                                             | 49725/300000 [31:13<4:57:00, 14.04it/s]"
     ]
    },
    {
     "name": "stdout",
     "output_type": "stream",
     "text": [
      "self.evaluation_deque: deque([False, False, False, False, False, False, False, False, False, False, False, False, False, True, True, False, False, False, True, False, False, False, True, False, False, True, False, False, False, True, False, False, False, False, True, False, False, False, True, True, True, False, True, False, True, False, False, True, False, False], maxlen=50)\n",
      "eval_mean: 0.26\n"
     ]
    },
    {
     "name": "stderr",
     "output_type": "stream",
     "text": [
      "\r",
      " 17%|████████████                                                             | 49819/300000 [31:21<5:25:18, 12.82it/s]"
     ]
    },
    {
     "name": "stdout",
     "output_type": "stream",
     "text": [
      "self.evaluation_deque: deque([False, False, False, False, False, False, False, False, False, False, False, False, True, True, False, False, False, True, False, False, False, True, False, False, True, False, False, False, True, False, False, False, False, True, False, False, False, True, True, True, False, True, False, True, False, False, True, False, False, True], maxlen=50)\n",
      "eval_mean: 0.28\n",
      "Saving best with: 0.28\n"
     ]
    },
    {
     "name": "stderr",
     "output_type": "stream",
     "text": [
      "\r",
      " 17%|████████████▏                                                            | 49865/300000 [31:24<5:15:17, 13.22it/s]"
     ]
    },
    {
     "name": "stdout",
     "output_type": "stream",
     "text": [
      "self.evaluation_deque: deque([False, False, False, False, False, False, False, False, False, False, False, False, True, True, False, False, False, True, False, False, False, True, False, False, True, False, False, False, True, False, False, False, False, True, False, False, False, True, True, True, False, True, False, True, False, False, True, False, False, True], maxlen=50)\n",
      "eval_mean: 0.28\n"
     ]
    },
    {
     "name": "stderr",
     "output_type": "stream",
     "text": [
      "\r",
      " 17%|████████████▏                                                            | 49955/300000 [31:30<5:02:00, 13.80it/s]"
     ]
    },
    {
     "name": "stdout",
     "output_type": "stream",
     "text": [
      "self.evaluation_deque: deque([False, False, False, False, False, False, False, False, False, False, False, False, True, True, False, False, False, True, False, False, False, True, False, False, True, False, False, False, True, False, False, False, False, True, False, False, False, True, True, True, False, True, False, True, False, False, True, False, False, True], maxlen=50)\n",
      "eval_mean: 0.28\n"
     ]
    },
    {
     "name": "stderr",
     "output_type": "stream",
     "text": [
      "\r",
      " 17%|████████████▏                                                            | 50052/300000 [31:37<4:57:08, 14.02it/s]"
     ]
    },
    {
     "name": "stdout",
     "output_type": "stream",
     "text": [
      "self.evaluation_deque: deque([False, False, False, False, False, False, False, False, False, False, False, False, True, True, False, False, False, True, False, False, False, True, False, False, True, False, False, False, True, False, False, False, False, True, False, False, False, True, True, True, False, True, False, True, False, False, True, False, False, True], maxlen=50)\n",
      "eval_mean: 0.28\n"
     ]
    },
    {
     "name": "stderr",
     "output_type": "stream",
     "text": [
      "\r",
      " 17%|████████████▏                                                            | 50148/300000 [31:43<4:50:57, 14.31it/s]"
     ]
    },
    {
     "name": "stdout",
     "output_type": "stream",
     "text": [
      "self.evaluation_deque: deque([False, False, False, False, False, False, False, False, False, False, False, False, True, True, False, False, False, True, False, False, False, True, False, False, True, False, False, False, True, False, False, False, False, True, False, False, False, True, True, True, False, True, False, True, False, False, True, False, False, True], maxlen=50)\n",
      "eval_mean: 0.28\n"
     ]
    },
    {
     "name": "stderr",
     "output_type": "stream",
     "text": [
      "\r",
      " 17%|████████████▏                                                            | 50201/300000 [31:49<5:19:03, 13.05it/s]"
     ]
    },
    {
     "name": "stdout",
     "output_type": "stream",
     "text": [
      "self.evaluation_deque: deque([False, False, False, False, False, False, False, False, False, False, False, True, True, False, False, False, True, False, False, False, True, False, False, True, False, False, False, True, False, False, False, False, True, False, False, False, True, True, True, False, True, False, True, False, False, True, False, False, True, False], maxlen=50)\n",
      "eval_mean: 0.28\n"
     ]
    },
    {
     "name": "stderr",
     "output_type": "stream",
     "text": [
      "\r",
      " 17%|████████████▏                                                            | 50256/300000 [31:53<5:13:02, 13.30it/s]"
     ]
    },
    {
     "name": "stdout",
     "output_type": "stream",
     "text": [
      "self.evaluation_deque: deque([False, False, False, False, False, False, False, False, False, False, False, True, True, False, False, False, True, False, False, False, True, False, False, True, False, False, False, True, False, False, False, False, True, False, False, False, True, True, True, False, True, False, True, False, False, True, False, False, True, False], maxlen=50)\n",
      "eval_mean: 0.28\n"
     ]
    },
    {
     "name": "stderr",
     "output_type": "stream",
     "text": [
      "\r",
      " 17%|████████████▎                                                            | 50355/300000 [31:59<5:02:29, 13.75it/s]"
     ]
    },
    {
     "name": "stdout",
     "output_type": "stream",
     "text": [
      "self.evaluation_deque: deque([False, False, False, False, False, False, False, False, False, False, False, True, True, False, False, False, True, False, False, False, True, False, False, True, False, False, False, True, False, False, False, False, True, False, False, False, True, True, True, False, True, False, True, False, False, True, False, False, True, False], maxlen=50)\n",
      "eval_mean: 0.28\n"
     ]
    },
    {
     "name": "stderr",
     "output_type": "stream",
     "text": [
      "\r",
      " 17%|████████████▎                                                            | 50437/300000 [32:05<4:58:38, 13.93it/s]"
     ]
    },
    {
     "name": "stdout",
     "output_type": "stream",
     "text": [
      "self.evaluation_deque: deque([False, False, False, False, False, False, False, False, False, False, False, True, True, False, False, False, True, False, False, False, True, False, False, True, False, False, False, True, False, False, False, False, True, False, False, False, True, True, True, False, True, False, True, False, False, True, False, False, True, False], maxlen=50)\n",
      "eval_mean: 0.28\n"
     ]
    },
    {
     "name": "stderr",
     "output_type": "stream",
     "text": [
      "\r",
      " 17%|████████████▎                                                            | 50534/300000 [32:12<4:55:24, 14.07it/s]"
     ]
    },
    {
     "name": "stdout",
     "output_type": "stream",
     "text": [
      "self.evaluation_deque: deque([False, False, False, False, False, False, False, False, False, False, False, True, True, False, False, False, True, False, False, False, True, False, False, True, False, False, False, True, False, False, False, False, True, False, False, False, True, True, True, False, True, False, True, False, False, True, False, False, True, False], maxlen=50)\n",
      "eval_mean: 0.28\n"
     ]
    },
    {
     "name": "stderr",
     "output_type": "stream",
     "text": [
      "\r",
      " 17%|████████████▎                                                            | 50595/300000 [32:18<5:28:18, 12.66it/s]"
     ]
    },
    {
     "name": "stdout",
     "output_type": "stream",
     "text": [
      "self.evaluation_deque: deque([False, False, False, False, False, False, False, False, False, False, True, True, False, False, False, True, False, False, False, True, False, False, True, False, False, False, True, False, False, False, False, True, False, False, False, True, True, True, False, True, False, True, False, False, True, False, False, True, False, False], maxlen=50)\n",
      "eval_mean: 0.28\n"
     ]
    },
    {
     "name": "stderr",
     "output_type": "stream",
     "text": [
      "\r",
      " 17%|████████████▎                                                            | 50659/300000 [32:25<6:04:57, 11.39it/s]"
     ]
    },
    {
     "name": "stdout",
     "output_type": "stream",
     "text": [
      "self.evaluation_deque: deque([False, False, False, False, False, False, False, False, False, False, True, True, False, False, False, True, False, False, False, True, False, False, True, False, False, False, True, False, False, False, False, True, False, False, False, True, True, True, False, True, False, True, False, False, True, False, False, True, False, False], maxlen=50)\n",
      "eval_mean: 0.28\n"
     ]
    },
    {
     "name": "stderr",
     "output_type": "stream",
     "text": [
      "\r",
      " 17%|████████████▎                                                            | 50711/300000 [32:29<5:46:42, 11.98it/s]"
     ]
    },
    {
     "name": "stdout",
     "output_type": "stream",
     "text": [
      "self.evaluation_deque: deque([False, False, False, False, False, False, False, False, False, False, True, True, False, False, False, True, False, False, False, True, False, False, True, False, False, False, True, False, False, False, False, True, False, False, False, True, True, True, False, True, False, True, False, False, True, False, False, True, False, False], maxlen=50)\n",
      "eval_mean: 0.28\n"
     ]
    },
    {
     "name": "stderr",
     "output_type": "stream",
     "text": [
      "\r",
      " 17%|████████████▎                                                            | 50746/300000 [32:31<5:34:59, 12.40it/s]"
     ]
    },
    {
     "name": "stdout",
     "output_type": "stream",
     "text": [
      "self.evaluation_deque: deque([False, False, False, False, False, False, False, False, False, False, True, True, False, False, False, True, False, False, False, True, False, False, True, False, False, False, True, False, False, False, False, True, False, False, False, True, True, True, False, True, False, True, False, False, True, False, False, True, False, False], maxlen=50)\n",
      "eval_mean: 0.28\n"
     ]
    },
    {
     "name": "stderr",
     "output_type": "stream",
     "text": [
      "\r",
      " 17%|████████████▎                                                            | 50840/300000 [32:38<5:16:05, 13.14it/s]"
     ]
    },
    {
     "name": "stdout",
     "output_type": "stream",
     "text": [
      "self.evaluation_deque: deque([False, False, False, False, False, False, False, False, False, False, True, True, False, False, False, True, False, False, False, True, False, False, True, False, False, False, True, False, False, False, False, True, False, False, False, True, True, True, False, True, False, True, False, False, True, False, False, True, False, False], maxlen=50)\n",
      "eval_mean: 0.28\n"
     ]
    },
    {
     "name": "stderr",
     "output_type": "stream",
     "text": [
      "\r",
      " 17%|████████████▍                                                            | 50916/300000 [32:45<5:41:17, 12.16it/s]"
     ]
    },
    {
     "name": "stdout",
     "output_type": "stream",
     "text": [
      "self.evaluation_deque: deque([False, False, False, False, False, False, False, False, False, True, True, False, False, False, True, False, False, False, True, False, False, True, False, False, False, True, False, False, False, False, True, False, False, False, True, True, True, False, True, False, True, False, False, True, False, False, True, False, False, True], maxlen=50)\n",
      "eval_mean: 0.3\n",
      "Saving best with: 0.3\n"
     ]
    },
    {
     "name": "stderr",
     "output_type": "stream",
     "text": [
      "\r",
      " 17%|████████████▍                                                            | 50976/300000 [32:49<5:26:59, 12.69it/s]"
     ]
    },
    {
     "name": "stdout",
     "output_type": "stream",
     "text": [
      "self.evaluation_deque: deque([False, False, False, False, False, False, False, False, False, True, True, False, False, False, True, False, False, False, True, False, False, True, False, False, False, True, False, False, False, False, True, False, False, False, True, True, True, False, True, False, True, False, False, True, False, False, True, False, False, True], maxlen=50)\n",
      "eval_mean: 0.3\n"
     ]
    },
    {
     "name": "stderr",
     "output_type": "stream",
     "text": [
      "\r",
      " 17%|████████████▍                                                            | 51010/300000 [32:52<5:18:26, 13.03it/s]"
     ]
    },
    {
     "name": "stdout",
     "output_type": "stream",
     "text": [
      "self.evaluation_deque: deque([False, False, False, False, False, False, False, False, False, True, True, False, False, False, True, False, False, False, True, False, False, True, False, False, False, True, False, False, False, False, True, False, False, False, True, True, True, False, True, False, True, False, False, True, False, False, True, False, False, True], maxlen=50)\n",
      "eval_mean: 0.3\n"
     ]
    },
    {
     "name": "stderr",
     "output_type": "stream",
     "text": [
      "\r",
      " 17%|████████████▍                                                            | 51103/300000 [32:58<5:05:37, 13.57it/s]"
     ]
    },
    {
     "name": "stdout",
     "output_type": "stream",
     "text": [
      "self.evaluation_deque: deque([False, False, False, False, False, False, False, False, False, True, True, False, False, False, True, False, False, False, True, False, False, True, False, False, False, True, False, False, False, False, True, False, False, False, True, True, True, False, True, False, True, False, False, True, False, False, True, False, False, True], maxlen=50)\n",
      "eval_mean: 0.3\n"
     ]
    },
    {
     "name": "stderr",
     "output_type": "stream",
     "text": [
      "\r",
      " 17%|████████████▍                                                            | 51155/300000 [33:02<4:59:15, 13.86it/s]"
     ]
    },
    {
     "name": "stdout",
     "output_type": "stream",
     "text": [
      "self.evaluation_deque: deque([False, False, False, False, False, False, False, False, False, True, True, False, False, False, True, False, False, False, True, False, False, True, False, False, False, True, False, False, False, False, True, False, False, False, True, True, True, False, True, False, True, False, False, True, False, False, True, False, False, True], maxlen=50)\n",
      "eval_mean: 0.3\n"
     ]
    },
    {
     "name": "stderr",
     "output_type": "stream",
     "text": [
      "\r",
      " 17%|████████████▍                                                            | 51222/300000 [33:09<5:43:01, 12.09it/s]"
     ]
    },
    {
     "name": "stdout",
     "output_type": "stream",
     "text": [
      "self.evaluation_deque: deque([False, False, False, False, False, False, False, False, True, True, False, False, False, True, False, False, False, True, False, False, True, False, False, False, True, False, False, False, False, True, False, False, False, True, True, True, False, True, False, True, False, False, True, False, False, True, False, False, True, True], maxlen=50)\n",
      "eval_mean: 0.32\n",
      "Saving best with: 0.32\n"
     ]
    },
    {
     "name": "stderr",
     "output_type": "stream",
     "text": [
      "\r",
      " 17%|████████████▍                                                            | 51259/300000 [33:11<5:33:59, 12.41it/s]"
     ]
    },
    {
     "name": "stdout",
     "output_type": "stream",
     "text": [
      "self.evaluation_deque: deque([False, False, False, False, False, False, False, False, True, True, False, False, False, True, False, False, False, True, False, False, True, False, False, False, True, False, False, False, False, True, False, False, False, True, True, True, False, True, False, True, False, False, True, False, False, True, False, False, True, True], maxlen=50)\n",
      "eval_mean: 0.32\n"
     ]
    },
    {
     "name": "stderr",
     "output_type": "stream",
     "text": [
      "\r",
      " 17%|████████████▍                                                            | 51309/300000 [33:15<5:20:17, 12.94it/s]"
     ]
    },
    {
     "name": "stdout",
     "output_type": "stream",
     "text": [
      "self.evaluation_deque: deque([False, False, False, False, False, False, False, False, True, True, False, False, False, True, False, False, False, True, False, False, True, False, False, False, True, False, False, False, False, True, False, False, False, True, True, True, False, True, False, True, False, False, True, False, False, True, False, False, True, True], maxlen=50)\n",
      "eval_mean: 0.32\n"
     ]
    },
    {
     "name": "stderr",
     "output_type": "stream",
     "text": [
      "\r",
      " 17%|████████████▌                                                            | 51371/300000 [33:19<5:07:28, 13.48it/s]"
     ]
    },
    {
     "name": "stdout",
     "output_type": "stream",
     "text": [
      "self.evaluation_deque: deque([False, False, False, False, False, False, False, False, True, True, False, False, False, True, False, False, False, True, False, False, True, False, False, False, True, False, False, False, False, True, False, False, False, True, True, True, False, True, False, True, False, False, True, False, False, True, False, False, True, True], maxlen=50)\n",
      "eval_mean: 0.32\n"
     ]
    },
    {
     "name": "stderr",
     "output_type": "stream",
     "text": [
      "\r",
      " 17%|████████████▌                                                            | 51428/300000 [33:23<5:02:51, 13.68it/s]"
     ]
    },
    {
     "name": "stdout",
     "output_type": "stream",
     "text": [
      "self.evaluation_deque: deque([False, False, False, False, False, False, False, False, True, True, False, False, False, True, False, False, False, True, False, False, True, False, False, False, True, False, False, False, False, True, False, False, False, True, True, True, False, True, False, True, False, False, True, False, False, True, False, False, True, True], maxlen=50)\n",
      "eval_mean: 0.32\n"
     ]
    },
    {
     "name": "stderr",
     "output_type": "stream",
     "text": [
      "\r",
      " 17%|████████████▌                                                            | 51498/300000 [33:30<5:39:19, 12.21it/s]"
     ]
    },
    {
     "name": "stdout",
     "output_type": "stream",
     "text": [
      "self.evaluation_deque: deque([False, False, False, False, False, False, False, True, True, False, False, False, True, False, False, False, True, False, False, True, False, False, False, True, False, False, False, False, True, False, False, False, True, True, True, False, True, False, True, False, False, True, False, False, True, False, False, True, True, False], maxlen=50)\n",
      "eval_mean: 0.32\n"
     ]
    },
    {
     "name": "stderr",
     "output_type": "stream",
     "text": [
      "\r",
      " 17%|████████████▌                                                            | 51537/300000 [33:33<5:25:40, 12.72it/s]"
     ]
    },
    {
     "name": "stdout",
     "output_type": "stream",
     "text": [
      "self.evaluation_deque: deque([False, False, False, False, False, False, False, True, True, False, False, False, True, False, False, False, True, False, False, True, False, False, False, True, False, False, False, False, True, False, False, False, True, True, True, False, True, False, True, False, False, True, False, False, True, False, False, True, True, False], maxlen=50)\n",
      "eval_mean: 0.32\n"
     ]
    },
    {
     "name": "stderr",
     "output_type": "stream",
     "text": [
      "\r",
      " 17%|████████████▌                                                            | 51587/300000 [33:36<5:13:30, 13.21it/s]"
     ]
    },
    {
     "name": "stdout",
     "output_type": "stream",
     "text": [
      "self.evaluation_deque: deque([False, False, False, False, False, False, False, True, True, False, False, False, True, False, False, False, True, False, False, True, False, False, False, True, False, False, False, False, True, False, False, False, True, True, True, False, True, False, True, False, False, True, False, False, True, False, False, True, True, False], maxlen=50)\n",
      "eval_mean: 0.32\n"
     ]
    },
    {
     "name": "stderr",
     "output_type": "stream",
     "text": [
      "\r",
      " 17%|████████████▌                                                            | 51656/300000 [33:41<5:05:38, 13.54it/s]"
     ]
    },
    {
     "name": "stdout",
     "output_type": "stream",
     "text": [
      "self.evaluation_deque: deque([False, False, False, False, False, False, False, True, True, False, False, False, True, False, False, False, True, False, False, True, False, False, False, True, False, False, False, False, True, False, False, False, True, True, True, False, True, False, True, False, False, True, False, False, True, False, False, True, True, False], maxlen=50)\n",
      "eval_mean: 0.32\n"
     ]
    },
    {
     "name": "stderr",
     "output_type": "stream",
     "text": [
      "\r",
      " 17%|████████████▌                                                            | 51723/300000 [33:45<4:59:34, 13.81it/s]"
     ]
    },
    {
     "name": "stdout",
     "output_type": "stream",
     "text": [
      "self.evaluation_deque: deque([False, False, False, False, False, False, False, True, True, False, False, False, True, False, False, False, True, False, False, True, False, False, False, True, False, False, False, False, True, False, False, False, True, True, True, False, True, False, True, False, False, True, False, False, True, False, False, True, True, False], maxlen=50)\n",
      "eval_mean: 0.32\n"
     ]
    },
    {
     "name": "stderr",
     "output_type": "stream",
     "text": [
      "\r",
      " 17%|████████████▌                                                            | 51799/300000 [33:53<5:41:34, 12.11it/s]"
     ]
    },
    {
     "name": "stdout",
     "output_type": "stream",
     "text": [
      "self.evaluation_deque: deque([False, False, False, False, False, False, True, True, False, False, False, True, False, False, False, True, False, False, True, False, False, False, True, False, False, False, False, True, False, False, False, True, True, True, False, True, False, True, False, False, True, False, False, True, False, False, True, True, False, False], maxlen=50)\n",
      "eval_mean: 0.32\n"
     ]
    },
    {
     "name": "stderr",
     "output_type": "stream",
     "text": [
      "\r",
      " 17%|████████████▌                                                            | 51853/300000 [33:57<5:28:01, 12.61it/s]"
     ]
    },
    {
     "name": "stdout",
     "output_type": "stream",
     "text": [
      "self.evaluation_deque: deque([False, False, False, False, False, False, True, True, False, False, False, True, False, False, False, True, False, False, True, False, False, False, True, False, False, False, False, True, False, False, False, True, True, True, False, True, False, True, False, False, True, False, False, True, False, False, True, True, False, False], maxlen=50)\n",
      "eval_mean: 0.32\n"
     ]
    },
    {
     "name": "stderr",
     "output_type": "stream",
     "text": [
      "\r",
      " 17%|████████████▋                                                            | 51949/300000 [34:04<5:16:01, 13.08it/s]"
     ]
    },
    {
     "name": "stdout",
     "output_type": "stream",
     "text": [
      "self.evaluation_deque: deque([False, False, False, False, False, False, True, True, False, False, False, True, False, False, False, True, False, False, True, False, False, False, True, False, False, False, False, True, False, False, False, True, True, True, False, True, False, True, False, False, True, False, False, True, False, False, True, True, False, False], maxlen=50)\n",
      "eval_mean: 0.32\n"
     ]
    },
    {
     "name": "stderr",
     "output_type": "stream",
     "text": [
      "\r",
      " 17%|████████████▋                                                            | 51988/300000 [34:06<5:08:40, 13.39it/s]"
     ]
    },
    {
     "name": "stdout",
     "output_type": "stream",
     "text": [
      "self.evaluation_deque: deque([False, False, False, False, False, False, True, True, False, False, False, True, False, False, False, True, False, False, True, False, False, False, True, False, False, False, False, True, False, False, False, True, True, True, False, True, False, True, False, False, True, False, False, True, False, False, True, True, False, False], maxlen=50)\n",
      "eval_mean: 0.32\n"
     ]
    },
    {
     "name": "stderr",
     "output_type": "stream",
     "text": [
      "\r",
      " 17%|████████████▋                                                            | 52011/300000 [34:08<5:06:09, 13.50it/s]"
     ]
    },
    {
     "name": "stdout",
     "output_type": "stream",
     "text": [
      "self.evaluation_deque: deque([False, False, False, False, False, False, True, True, False, False, False, True, False, False, False, True, False, False, True, False, False, False, True, False, False, False, False, True, False, False, False, True, True, True, False, True, False, True, False, False, True, False, False, True, False, False, True, True, False, False], maxlen=50)\n",
      "eval_mean: 0.32\n"
     ]
    },
    {
     "name": "stderr",
     "output_type": "stream",
     "text": [
      "\r",
      " 17%|████████████▋                                                            | 52061/300000 [34:14<5:48:35, 11.85it/s]"
     ]
    },
    {
     "name": "stdout",
     "output_type": "stream",
     "text": [
      "self.evaluation_deque: deque([False, False, False, False, False, True, True, False, False, False, True, False, False, False, True, False, False, True, False, False, False, True, False, False, False, False, True, False, False, False, True, True, True, False, True, False, True, False, False, True, False, False, True, False, False, True, True, False, False, True], maxlen=50)\n",
      "eval_mean: 0.34\n",
      "Saving best with: 0.34\n"
     ]
    },
    {
     "name": "stderr",
     "output_type": "stream",
     "text": [
      "\r",
      " 17%|████████████▋                                                            | 52155/300000 [34:20<5:19:39, 12.92it/s]"
     ]
    },
    {
     "name": "stdout",
     "output_type": "stream",
     "text": [
      "self.evaluation_deque: deque([False, False, False, False, False, True, True, False, False, False, True, False, False, False, True, False, False, True, False, False, False, True, False, False, False, False, True, False, False, False, True, True, True, False, True, False, True, False, False, True, False, False, True, False, False, True, True, False, False, True], maxlen=50)\n",
      "eval_mean: 0.34\n"
     ]
    },
    {
     "name": "stderr",
     "output_type": "stream",
     "text": [
      "\r",
      " 17%|████████████▋                                                            | 52247/300000 [34:26<5:05:16, 13.53it/s]"
     ]
    },
    {
     "name": "stdout",
     "output_type": "stream",
     "text": [
      "self.evaluation_deque: deque([False, False, False, False, False, True, True, False, False, False, True, False, False, False, True, False, False, True, False, False, False, True, False, False, False, False, True, False, False, False, True, True, True, False, True, False, True, False, False, True, False, False, True, False, False, True, True, False, False, True], maxlen=50)\n",
      "eval_mean: 0.34\n"
     ]
    },
    {
     "name": "stderr",
     "output_type": "stream",
     "text": [
      "\r",
      " 17%|████████████▋                                                            | 52302/300000 [34:30<5:01:30, 13.69it/s]"
     ]
    },
    {
     "name": "stdout",
     "output_type": "stream",
     "text": [
      "self.evaluation_deque: deque([False, False, False, False, False, True, True, False, False, False, True, False, False, False, True, False, False, True, False, False, False, True, False, False, False, False, True, False, False, False, True, True, True, False, True, False, True, False, False, True, False, False, True, False, False, True, True, False, False, True], maxlen=50)\n",
      "eval_mean: 0.34\n"
     ]
    },
    {
     "name": "stderr",
     "output_type": "stream",
     "text": [
      "\r",
      " 17%|████████████▋                                                            | 52375/300000 [34:35<4:57:07, 13.89it/s]"
     ]
    },
    {
     "name": "stdout",
     "output_type": "stream",
     "text": [
      "self.evaluation_deque: deque([False, False, False, False, False, True, True, False, False, False, True, False, False, False, True, False, False, True, False, False, False, True, False, False, False, False, True, False, False, False, True, True, True, False, True, False, True, False, False, True, False, False, True, False, False, True, True, False, False, True], maxlen=50)\n",
      "eval_mean: 0.34\n"
     ]
    },
    {
     "name": "stderr",
     "output_type": "stream",
     "text": [
      "\r",
      " 17%|████████████▊                                                            | 52423/300000 [34:41<5:38:54, 12.18it/s]"
     ]
    },
    {
     "name": "stdout",
     "output_type": "stream",
     "text": [
      "self.evaluation_deque: deque([False, False, False, False, True, True, False, False, False, True, False, False, False, True, False, False, True, False, False, False, True, False, False, False, False, True, False, False, False, True, True, True, False, True, False, True, False, False, True, False, False, True, False, False, True, True, False, False, True, True], maxlen=50)\n",
      "eval_mean: 0.36\n",
      "Saving best with: 0.36\n"
     ]
    },
    {
     "name": "stderr",
     "output_type": "stream",
     "text": [
      "\r",
      " 18%|████████████▊                                                            | 52500/300000 [34:46<5:16:49, 13.02it/s]"
     ]
    },
    {
     "name": "stdout",
     "output_type": "stream",
     "text": [
      "self.evaluation_deque: deque([False, False, False, False, True, True, False, False, False, True, False, False, False, True, False, False, True, False, False, False, True, False, False, False, False, True, False, False, False, True, True, True, False, True, False, True, False, False, True, False, False, True, False, False, True, True, False, False, True, True], maxlen=50)\n",
      "eval_mean: 0.36\n"
     ]
    },
    {
     "name": "stderr",
     "output_type": "stream",
     "text": [
      "\r",
      " 18%|████████████▊                                                            | 52558/300000 [34:50<5:04:26, 13.55it/s]"
     ]
    },
    {
     "name": "stdout",
     "output_type": "stream",
     "text": [
      "self.evaluation_deque: deque([False, False, False, False, True, True, False, False, False, True, False, False, False, True, False, False, True, False, False, False, True, False, False, False, False, True, False, False, False, True, True, True, False, True, False, True, False, False, True, False, False, True, False, False, True, True, False, False, True, True], maxlen=50)\n",
      "eval_mean: 0.36\n"
     ]
    },
    {
     "name": "stderr",
     "output_type": "stream",
     "text": [
      "\r",
      " 18%|████████████▊                                                            | 52629/300000 [34:55<4:56:59, 13.88it/s]"
     ]
    },
    {
     "name": "stdout",
     "output_type": "stream",
     "text": [
      "self.evaluation_deque: deque([False, False, False, False, True, True, False, False, False, True, False, False, False, True, False, False, True, False, False, False, True, False, False, False, False, True, False, False, False, True, True, True, False, True, False, True, False, False, True, False, False, True, False, False, True, True, False, False, True, True], maxlen=50)\n",
      "eval_mean: 0.36\n"
     ]
    },
    {
     "name": "stderr",
     "output_type": "stream",
     "text": [
      "\r",
      " 18%|████████████▊                                                            | 52661/300000 [34:57<4:52:04, 14.11it/s]"
     ]
    },
    {
     "name": "stdout",
     "output_type": "stream",
     "text": [
      "self.evaluation_deque: deque([False, False, False, False, True, True, False, False, False, True, False, False, False, True, False, False, True, False, False, False, True, False, False, False, False, True, False, False, False, True, True, True, False, True, False, True, False, False, True, False, False, True, False, False, True, True, False, False, True, True], maxlen=50)\n",
      "eval_mean: 0.36\n"
     ]
    },
    {
     "name": "stderr",
     "output_type": "stream",
     "text": [
      "\r",
      " 18%|████████████▊                                                            | 52728/300000 [35:03<5:26:06, 12.64it/s]"
     ]
    },
    {
     "name": "stdout",
     "output_type": "stream",
     "text": [
      "self.evaluation_deque: deque([False, False, False, True, True, False, False, False, True, False, False, False, True, False, False, True, False, False, False, True, False, False, False, False, True, False, False, False, True, True, True, False, True, False, True, False, False, True, False, False, True, False, False, True, True, False, False, True, True, False], maxlen=50)\n",
      "eval_mean: 0.36\n"
     ]
    },
    {
     "name": "stderr",
     "output_type": "stream",
     "text": [
      "\r",
      " 18%|████████████▊                                                            | 52771/300000 [35:06<5:13:52, 13.13it/s]"
     ]
    },
    {
     "name": "stdout",
     "output_type": "stream",
     "text": [
      "self.evaluation_deque: deque([False, False, False, True, True, False, False, False, True, False, False, False, True, False, False, True, False, False, False, True, False, False, False, False, True, False, False, False, True, True, True, False, True, False, True, False, False, True, False, False, True, False, False, True, True, False, False, True, True, False], maxlen=50)\n",
      "eval_mean: 0.36\n"
     ]
    },
    {
     "name": "stderr",
     "output_type": "stream",
     "text": [
      "\r",
      " 18%|████████████▊                                                            | 52794/300000 [35:08<5:10:13, 13.28it/s]"
     ]
    },
    {
     "name": "stdout",
     "output_type": "stream",
     "text": [
      "self.evaluation_deque: deque([False, False, False, True, True, False, False, False, True, False, False, False, True, False, False, True, False, False, False, True, False, False, False, False, True, False, False, False, True, True, True, False, True, False, True, False, False, True, False, False, True, False, False, True, True, False, False, True, True, False], maxlen=50)\n",
      "eval_mean: 0.36\n"
     ]
    },
    {
     "name": "stderr",
     "output_type": "stream",
     "text": [
      "\r",
      " 18%|████████████▊                                                            | 52880/300000 [35:13<4:58:02, 13.82it/s]"
     ]
    },
    {
     "name": "stdout",
     "output_type": "stream",
     "text": [
      "self.evaluation_deque: deque([False, False, False, True, True, False, False, False, True, False, False, False, True, False, False, True, False, False, False, True, False, False, False, False, True, False, False, False, True, True, True, False, True, False, True, False, False, True, False, False, True, False, False, True, True, False, False, True, True, False], maxlen=50)\n",
      "eval_mean: 0.36\n"
     ]
    },
    {
     "name": "stderr",
     "output_type": "stream",
     "text": [
      "\r",
      " 18%|████████████▉                                                            | 52940/300000 [35:18<4:55:13, 13.95it/s]"
     ]
    },
    {
     "name": "stdout",
     "output_type": "stream",
     "text": [
      "self.evaluation_deque: deque([False, False, False, True, True, False, False, False, True, False, False, False, True, False, False, True, False, False, False, True, False, False, False, False, True, False, False, False, True, True, True, False, True, False, True, False, False, True, False, False, True, False, False, True, True, False, False, True, True, False], maxlen=50)\n",
      "eval_mean: 0.36\n"
     ]
    },
    {
     "name": "stderr",
     "output_type": "stream",
     "text": [
      "\r",
      " 18%|████████████▉                                                            | 53038/300000 [35:27<5:35:54, 12.25it/s]"
     ]
    },
    {
     "name": "stdout",
     "output_type": "stream",
     "text": [
      "self.evaluation_deque: deque([False, False, True, True, False, False, False, True, False, False, False, True, False, False, True, False, False, False, True, False, False, False, False, True, False, False, False, True, True, True, False, True, False, True, False, False, True, False, False, True, False, False, True, True, False, False, True, True, False, False], maxlen=50)\n",
      "eval_mean: 0.36\n"
     ]
    },
    {
     "name": "stderr",
     "output_type": "stream",
     "text": [
      "\r",
      " 18%|████████████▉                                                            | 53077/300000 [35:30<5:29:52, 12.48it/s]"
     ]
    },
    {
     "name": "stdout",
     "output_type": "stream",
     "text": [
      "self.evaluation_deque: deque([False, False, True, True, False, False, False, True, False, False, False, True, False, False, True, False, False, False, True, False, False, False, False, True, False, False, False, True, True, True, False, True, False, True, False, False, True, False, False, True, False, False, True, True, False, False, True, True, False, False], maxlen=50)\n",
      "eval_mean: 0.36\n"
     ]
    },
    {
     "name": "stderr",
     "output_type": "stream",
     "text": [
      "\r",
      " 18%|████████████▉                                                            | 53121/300000 [35:33<5:20:31, 12.84it/s]"
     ]
    },
    {
     "name": "stdout",
     "output_type": "stream",
     "text": [
      "self.evaluation_deque: deque([False, False, True, True, False, False, False, True, False, False, False, True, False, False, True, False, False, False, True, False, False, False, False, True, False, False, False, True, True, True, False, True, False, True, False, False, True, False, False, True, False, False, True, True, False, False, True, True, False, False], maxlen=50)\n",
      "eval_mean: 0.36\n"
     ]
    },
    {
     "name": "stderr",
     "output_type": "stream",
     "text": [
      "\r",
      " 18%|████████████▉                                                            | 53198/300000 [35:38<5:04:43, 13.50it/s]"
     ]
    },
    {
     "name": "stdout",
     "output_type": "stream",
     "text": [
      "self.evaluation_deque: deque([False, False, True, True, False, False, False, True, False, False, False, True, False, False, True, False, False, False, True, False, False, False, False, True, False, False, False, True, True, True, False, True, False, True, False, False, True, False, False, True, False, False, True, True, False, False, True, True, False, False], maxlen=50)\n",
      "eval_mean: 0.36\n"
     ]
    },
    {
     "name": "stderr",
     "output_type": "stream",
     "text": [
      "\r",
      " 18%|████████████▉                                                            | 53259/300000 [35:42<4:57:45, 13.81it/s]"
     ]
    },
    {
     "name": "stdout",
     "output_type": "stream",
     "text": [
      "self.evaluation_deque: deque([False, False, True, True, False, False, False, True, False, False, False, True, False, False, True, False, False, False, True, False, False, False, False, True, False, False, False, True, True, True, False, True, False, True, False, False, True, False, False, True, False, False, True, True, False, False, True, True, False, False], maxlen=50)\n",
      "eval_mean: 0.36\n"
     ]
    },
    {
     "name": "stderr",
     "output_type": "stream",
     "text": [
      "\r",
      " 18%|████████████▉                                                            | 53352/300000 [35:50<5:20:52, 12.81it/s]"
     ]
    },
    {
     "name": "stdout",
     "output_type": "stream",
     "text": [
      "self.evaluation_deque: deque([False, True, True, False, False, False, True, False, False, False, True, False, False, True, False, False, False, True, False, False, False, False, True, False, False, False, True, True, True, False, True, False, True, False, False, True, False, False, True, False, False, True, True, False, False, True, True, False, False, False], maxlen=50)\n",
      "eval_mean: 0.36\n"
     ]
    },
    {
     "name": "stderr",
     "output_type": "stream",
     "text": [
      "\r",
      " 18%|████████████▉                                                            | 53407/300000 [35:57<6:07:10, 11.19it/s]"
     ]
    },
    {
     "name": "stdout",
     "output_type": "stream",
     "text": [
      "self.evaluation_deque: deque([False, True, True, False, False, False, True, False, False, False, True, False, False, True, False, False, False, True, False, False, False, False, True, False, False, False, True, True, True, False, True, False, True, False, False, True, False, False, True, False, False, True, True, False, False, True, True, False, False, False], maxlen=50)\n",
      "eval_mean: 0.36\n"
     ]
    },
    {
     "name": "stderr",
     "output_type": "stream",
     "text": [
      "\r",
      " 18%|█████████████                                                            | 53461/300000 [36:01<5:45:42, 11.89it/s]"
     ]
    },
    {
     "name": "stdout",
     "output_type": "stream",
     "text": [
      "self.evaluation_deque: deque([False, True, True, False, False, False, True, False, False, False, True, False, False, True, False, False, False, True, False, False, False, False, True, False, False, False, True, True, True, False, True, False, True, False, False, True, False, False, True, False, False, True, True, False, False, True, True, False, False, False], maxlen=50)\n",
      "eval_mean: 0.36\n"
     ]
    },
    {
     "name": "stderr",
     "output_type": "stream",
     "text": [
      "\r",
      " 18%|█████████████                                                            | 53510/300000 [36:04<5:27:49, 12.53it/s]"
     ]
    },
    {
     "name": "stdout",
     "output_type": "stream",
     "text": [
      "self.evaluation_deque: deque([False, True, True, False, False, False, True, False, False, False, True, False, False, True, False, False, False, True, False, False, False, False, True, False, False, False, True, True, True, False, True, False, True, False, False, True, False, False, True, False, False, True, True, False, False, True, True, False, False, False], maxlen=50)\n",
      "eval_mean: 0.36\n"
     ]
    },
    {
     "name": "stderr",
     "output_type": "stream",
     "text": [
      "\r",
      " 18%|█████████████                                                            | 53592/300000 [36:10<5:11:18, 13.19it/s]"
     ]
    },
    {
     "name": "stdout",
     "output_type": "stream",
     "text": [
      "self.evaluation_deque: deque([False, True, True, False, False, False, True, False, False, False, True, False, False, True, False, False, False, True, False, False, False, False, True, False, False, False, True, True, True, False, True, False, True, False, False, True, False, False, True, False, False, True, True, False, False, True, True, False, False, False], maxlen=50)\n",
      "eval_mean: 0.36\n"
     ]
    },
    {
     "name": "stderr",
     "output_type": "stream",
     "text": [
      "\r",
      " 18%|█████████████                                                            | 53640/300000 [36:15<5:37:59, 12.15it/s]"
     ]
    },
    {
     "name": "stdout",
     "output_type": "stream",
     "text": [
      "self.evaluation_deque: deque([True, True, False, False, False, True, False, False, False, True, False, False, True, False, False, False, True, False, False, False, False, True, False, False, False, True, True, True, False, True, False, True, False, False, True, False, False, True, False, False, True, True, False, False, True, True, False, False, False, True], maxlen=50)\n",
      "eval_mean: 0.38\n",
      "Saving best with: 0.38\n"
     ]
    },
    {
     "name": "stderr",
     "output_type": "stream",
     "text": [
      "\r",
      " 18%|█████████████                                                            | 53724/300000 [36:20<5:13:05, 13.11it/s]"
     ]
    },
    {
     "name": "stdout",
     "output_type": "stream",
     "text": [
      "self.evaluation_deque: deque([True, True, False, False, False, True, False, False, False, True, False, False, True, False, False, False, True, False, False, False, False, True, False, False, False, True, True, True, False, True, False, True, False, False, True, False, False, True, False, False, True, True, False, False, True, True, False, False, False, True], maxlen=50)\n",
      "eval_mean: 0.38\n"
     ]
    },
    {
     "name": "stderr",
     "output_type": "stream",
     "text": [
      "\r",
      " 18%|█████████████                                                            | 53785/300000 [36:25<5:02:48, 13.55it/s]"
     ]
    },
    {
     "name": "stdout",
     "output_type": "stream",
     "text": [
      "self.evaluation_deque: deque([True, True, False, False, False, True, False, False, False, True, False, False, True, False, False, False, True, False, False, False, False, True, False, False, False, True, True, True, False, True, False, True, False, False, True, False, False, True, False, False, True, True, False, False, True, True, False, False, False, True], maxlen=50)\n",
      "eval_mean: 0.38\n"
     ]
    },
    {
     "name": "stderr",
     "output_type": "stream",
     "text": [
      "\r",
      " 18%|█████████████                                                            | 53814/300000 [36:27<5:01:10, 13.62it/s]"
     ]
    },
    {
     "name": "stdout",
     "output_type": "stream",
     "text": [
      "self.evaluation_deque: deque([True, True, False, False, False, True, False, False, False, True, False, False, True, False, False, False, True, False, False, False, False, True, False, False, False, True, True, True, False, True, False, True, False, False, True, False, False, True, False, False, True, True, False, False, True, True, False, False, False, True], maxlen=50)\n",
      "eval_mean: 0.38\n"
     ]
    },
    {
     "name": "stderr",
     "output_type": "stream",
     "text": [
      "\r",
      " 18%|█████████████                                                            | 53867/300000 [36:30<4:55:11, 13.90it/s]"
     ]
    },
    {
     "name": "stdout",
     "output_type": "stream",
     "text": [
      "self.evaluation_deque: deque([True, True, False, False, False, True, False, False, False, True, False, False, True, False, False, False, True, False, False, False, False, True, False, False, False, True, True, True, False, True, False, True, False, False, True, False, False, True, False, False, True, True, False, False, True, True, False, False, False, True], maxlen=50)\n",
      "eval_mean: 0.38\n"
     ]
    },
    {
     "name": "stderr",
     "output_type": "stream",
     "text": [
      "\r",
      " 18%|█████████████                                                            | 53912/300000 [36:36<5:53:50, 11.59it/s]"
     ]
    },
    {
     "name": "stdout",
     "output_type": "stream",
     "text": [
      "self.evaluation_deque: deque([True, False, False, False, True, False, False, False, True, False, False, True, False, False, False, True, False, False, False, False, True, False, False, False, True, True, True, False, True, False, True, False, False, True, False, False, True, False, False, True, True, False, False, True, True, False, False, False, True, False], maxlen=50)\n",
      "eval_mean: 0.36\n"
     ]
    },
    {
     "name": "stderr",
     "output_type": "stream",
     "text": [
      "\r",
      " 18%|█████████████▏                                                           | 53961/300000 [36:39<5:34:57, 12.24it/s]"
     ]
    },
    {
     "name": "stdout",
     "output_type": "stream",
     "text": [
      "self.evaluation_deque: deque([True, False, False, False, True, False, False, False, True, False, False, True, False, False, False, True, False, False, False, False, True, False, False, False, True, True, True, False, True, False, True, False, False, True, False, False, True, False, False, True, True, False, False, True, True, False, False, False, True, False], maxlen=50)\n",
      "eval_mean: 0.36\n"
     ]
    },
    {
     "name": "stderr",
     "output_type": "stream",
     "text": [
      "\r",
      " 18%|█████████████▏                                                           | 54028/300000 [36:44<5:11:21, 13.17it/s]"
     ]
    },
    {
     "name": "stdout",
     "output_type": "stream",
     "text": [
      "self.evaluation_deque: deque([True, False, False, False, True, False, False, False, True, False, False, True, False, False, False, True, False, False, False, False, True, False, False, False, True, True, True, False, True, False, True, False, False, True, False, False, True, False, False, True, True, False, False, True, True, False, False, False, True, False], maxlen=50)\n",
      "eval_mean: 0.36\n"
     ]
    },
    {
     "name": "stderr",
     "output_type": "stream",
     "text": [
      "\r",
      " 18%|█████████████▏                                                           | 54124/300000 [36:50<4:58:10, 13.74it/s]"
     ]
    },
    {
     "name": "stdout",
     "output_type": "stream",
     "text": [
      "self.evaluation_deque: deque([True, False, False, False, True, False, False, False, True, False, False, True, False, False, False, True, False, False, False, False, True, False, False, False, True, True, True, False, True, False, True, False, False, True, False, False, True, False, False, True, True, False, False, True, True, False, False, False, True, False], maxlen=50)\n",
      "eval_mean: 0.36\n"
     ]
    },
    {
     "name": "stderr",
     "output_type": "stream",
     "text": [
      "\r",
      " 18%|█████████████▏                                                           | 54198/300000 [36:55<4:51:55, 14.03it/s]"
     ]
    },
    {
     "name": "stdout",
     "output_type": "stream",
     "text": [
      "self.evaluation_deque: deque([True, False, False, False, True, False, False, False, True, False, False, True, False, False, False, True, False, False, False, False, True, False, False, False, True, True, True, False, True, False, True, False, False, True, False, False, True, False, False, True, True, False, False, True, True, False, False, False, True, False], maxlen=50)\n",
      "eval_mean: 0.36\n"
     ]
    },
    {
     "name": "stderr",
     "output_type": "stream",
     "text": [
      "\r",
      " 18%|█████████████▏                                                           | 54254/300000 [37:01<5:28:00, 12.49it/s]"
     ]
    },
    {
     "name": "stdout",
     "output_type": "stream",
     "text": [
      "self.evaluation_deque: deque([False, False, False, True, False, False, False, True, False, False, True, False, False, False, True, False, False, False, False, True, False, False, False, True, True, True, False, True, False, True, False, False, True, False, False, True, False, False, True, True, False, False, True, True, False, False, False, True, False, True], maxlen=50)\n",
      "eval_mean: 0.36\n"
     ]
    },
    {
     "name": "stderr",
     "output_type": "stream",
     "text": [
      "\r",
      " 18%|█████████████▏                                                           | 54306/300000 [37:05<5:15:23, 12.98it/s]"
     ]
    },
    {
     "name": "stdout",
     "output_type": "stream",
     "text": [
      "self.evaluation_deque: deque([False, False, False, True, False, False, False, True, False, False, True, False, False, False, True, False, False, False, False, True, False, False, False, True, True, True, False, True, False, True, False, False, True, False, False, True, False, False, True, True, False, False, True, True, False, False, False, True, False, True], maxlen=50)\n",
      "eval_mean: 0.36\n"
     ]
    },
    {
     "name": "stderr",
     "output_type": "stream",
     "text": [
      "\r",
      " 18%|█████████████▏                                                           | 54390/300000 [37:11<5:01:23, 13.58it/s]"
     ]
    },
    {
     "name": "stdout",
     "output_type": "stream",
     "text": [
      "self.evaluation_deque: deque([False, False, False, True, False, False, False, True, False, False, True, False, False, False, True, False, False, False, False, True, False, False, False, True, True, True, False, True, False, True, False, False, True, False, False, True, False, False, True, True, False, False, True, True, False, False, False, True, False, True], maxlen=50)\n",
      "eval_mean: 0.36\n"
     ]
    },
    {
     "name": "stderr",
     "output_type": "stream",
     "text": [
      "\r",
      " 18%|█████████████▏                                                           | 54431/300000 [37:13<4:57:08, 13.77it/s]"
     ]
    },
    {
     "name": "stdout",
     "output_type": "stream",
     "text": [
      "self.evaluation_deque: deque([False, False, False, True, False, False, False, True, False, False, True, False, False, False, True, False, False, False, False, True, False, False, False, True, True, True, False, True, False, True, False, False, True, False, False, True, False, False, True, True, False, False, True, True, False, False, False, True, False, True], maxlen=50)\n",
      "eval_mean: 0.36\n"
     ]
    },
    {
     "name": "stderr",
     "output_type": "stream",
     "text": [
      "\r",
      " 18%|█████████████▎                                                           | 54481/300000 [37:17<4:52:29, 13.99it/s]"
     ]
    },
    {
     "name": "stdout",
     "output_type": "stream",
     "text": [
      "self.evaluation_deque: deque([False, False, False, True, False, False, False, True, False, False, True, False, False, False, True, False, False, False, False, True, False, False, False, True, True, True, False, True, False, True, False, False, True, False, False, True, False, False, True, True, False, False, True, True, False, False, False, True, False, True], maxlen=50)\n",
      "eval_mean: 0.36\n"
     ]
    },
    {
     "name": "stderr",
     "output_type": "stream",
     "text": [
      "\r",
      " 18%|█████████████▎                                                           | 54523/300000 [37:22<5:36:24, 12.16it/s]"
     ]
    },
    {
     "name": "stdout",
     "output_type": "stream",
     "text": [
      "self.evaluation_deque: deque([False, False, True, False, False, False, True, False, False, True, False, False, False, True, False, False, False, False, True, False, False, False, True, True, True, False, True, False, True, False, False, True, False, False, True, False, False, True, True, False, False, True, True, False, False, False, True, False, True, True], maxlen=50)\n",
      "eval_mean: 0.38\n"
     ]
    },
    {
     "name": "stderr",
     "output_type": "stream",
     "text": [
      "\r",
      " 18%|█████████████▎                                                           | 54575/300000 [37:25<5:19:15, 12.81it/s]"
     ]
    },
    {
     "name": "stdout",
     "output_type": "stream",
     "text": [
      "self.evaluation_deque: deque([False, False, True, False, False, False, True, False, False, True, False, False, False, True, False, False, False, False, True, False, False, False, True, True, True, False, True, False, True, False, False, True, False, False, True, False, False, True, True, False, False, True, True, False, False, False, True, False, True, True], maxlen=50)\n",
      "eval_mean: 0.38\n"
     ]
    },
    {
     "name": "stderr",
     "output_type": "stream",
     "text": [
      "\r",
      " 18%|█████████████▎                                                           | 54615/300000 [37:28<5:10:31, 13.17it/s]"
     ]
    },
    {
     "name": "stdout",
     "output_type": "stream",
     "text": [
      "self.evaluation_deque: deque([False, False, True, False, False, False, True, False, False, True, False, False, False, True, False, False, False, False, True, False, False, False, True, True, True, False, True, False, True, False, False, True, False, False, True, False, False, True, True, False, False, True, True, False, False, False, True, False, True, True], maxlen=50)\n",
      "eval_mean: 0.38\n"
     ]
    },
    {
     "name": "stderr",
     "output_type": "stream",
     "text": [
      "\r",
      " 18%|█████████████▎                                                           | 54671/300000 [37:32<4:59:34, 13.65it/s]"
     ]
    },
    {
     "name": "stdout",
     "output_type": "stream",
     "text": [
      "self.evaluation_deque: deque([False, False, True, False, False, False, True, False, False, True, False, False, False, True, False, False, False, False, True, False, False, False, True, True, True, False, True, False, True, False, False, True, False, False, True, False, False, True, True, False, False, True, True, False, False, False, True, False, True, True], maxlen=50)\n",
      "eval_mean: 0.38\n"
     ]
    },
    {
     "name": "stderr",
     "output_type": "stream",
     "text": [
      "\r",
      " 18%|█████████████▎                                                           | 54744/300000 [37:37<4:51:05, 14.04it/s]"
     ]
    },
    {
     "name": "stdout",
     "output_type": "stream",
     "text": [
      "self.evaluation_deque: deque([False, False, True, False, False, False, True, False, False, True, False, False, False, True, False, False, False, False, True, False, False, False, True, True, True, False, True, False, True, False, False, True, False, False, True, False, False, True, True, False, False, True, True, False, False, False, True, False, True, True], maxlen=50)\n",
      "eval_mean: 0.38\n"
     ]
    },
    {
     "name": "stderr",
     "output_type": "stream",
     "text": [
      "\r",
      " 18%|█████████████▎                                                           | 54839/300000 [37:45<5:20:19, 12.76it/s]"
     ]
    },
    {
     "name": "stdout",
     "output_type": "stream",
     "text": [
      "self.evaluation_deque: deque([False, True, False, False, False, True, False, False, True, False, False, False, True, False, False, False, False, True, False, False, False, True, True, True, False, True, False, True, False, False, True, False, False, True, False, False, True, True, False, False, True, True, False, False, False, True, False, True, True, False], maxlen=50)\n",
      "eval_mean: 0.38\n"
     ]
    },
    {
     "name": "stderr",
     "output_type": "stream",
     "text": [
      "\r",
      " 18%|█████████████▎                                                           | 54913/300000 [37:50<5:05:58, 13.35it/s]"
     ]
    },
    {
     "name": "stdout",
     "output_type": "stream",
     "text": [
      "self.evaluation_deque: deque([False, True, False, False, False, True, False, False, True, False, False, False, True, False, False, False, False, True, False, False, False, True, True, True, False, True, False, True, False, False, True, False, False, True, False, False, True, True, False, False, True, True, False, False, False, True, False, True, True, False], maxlen=50)\n",
      "eval_mean: 0.38\n"
     ]
    },
    {
     "name": "stderr",
     "output_type": "stream",
     "text": [
      "\r",
      " 18%|█████████████▎                                                           | 54964/300000 [37:54<4:57:23, 13.73it/s]"
     ]
    },
    {
     "name": "stdout",
     "output_type": "stream",
     "text": [
      "self.evaluation_deque: deque([False, True, False, False, False, True, False, False, True, False, False, False, True, False, False, False, False, True, False, False, False, True, True, True, False, True, False, True, False, False, True, False, False, True, False, False, True, True, False, False, True, True, False, False, False, True, False, True, True, False], maxlen=50)\n",
      "eval_mean: 0.38\n"
     ]
    },
    {
     "name": "stderr",
     "output_type": "stream",
     "text": [
      "\r",
      " 18%|█████████████▍                                                           | 55008/300000 [37:56<4:52:05, 13.98it/s]"
     ]
    },
    {
     "name": "stdout",
     "output_type": "stream",
     "text": [
      "self.evaluation_deque: deque([False, True, False, False, False, True, False, False, True, False, False, False, True, False, False, False, False, True, False, False, False, True, True, True, False, True, False, True, False, False, True, False, False, True, False, False, True, True, False, False, True, True, False, False, False, True, False, True, True, False], maxlen=50)\n",
      "eval_mean: 0.38\n"
     ]
    },
    {
     "name": "stderr",
     "output_type": "stream",
     "text": [
      "\r",
      " 18%|█████████████▍                                                           | 55089/300000 [38:02<4:43:49, 14.38it/s]"
     ]
    },
    {
     "name": "stdout",
     "output_type": "stream",
     "text": [
      "self.evaluation_deque: deque([False, True, False, False, False, True, False, False, True, False, False, False, True, False, False, False, False, True, False, False, False, True, True, True, False, True, False, True, False, False, True, False, False, True, False, False, True, True, False, False, True, True, False, False, False, True, False, True, True, False], maxlen=50)\n",
      "eval_mean: 0.38\n"
     ]
    },
    {
     "name": "stderr",
     "output_type": "stream",
     "text": [
      "\r",
      " 18%|█████████████▍                                                           | 55140/300000 [38:07<5:22:27, 12.66it/s]"
     ]
    },
    {
     "name": "stdout",
     "output_type": "stream",
     "text": [
      "self.evaluation_deque: deque([True, False, False, False, True, False, False, True, False, False, False, True, False, False, False, False, True, False, False, False, True, True, True, False, True, False, True, False, False, True, False, False, True, False, False, True, True, False, False, True, True, False, False, False, True, False, True, True, False, False], maxlen=50)\n",
      "eval_mean: 0.38\n"
     ]
    },
    {
     "name": "stderr",
     "output_type": "stream",
     "text": [
      "\r",
      " 18%|█████████████▍                                                           | 55211/300000 [38:12<5:06:45, 13.30it/s]"
     ]
    },
    {
     "name": "stdout",
     "output_type": "stream",
     "text": [
      "self.evaluation_deque: deque([True, False, False, False, True, False, False, True, False, False, False, True, False, False, False, False, True, False, False, False, True, True, True, False, True, False, True, False, False, True, False, False, True, False, False, True, True, False, False, True, True, False, False, False, True, False, True, True, False, False], maxlen=50)\n",
      "eval_mean: 0.38\n"
     ]
    },
    {
     "name": "stderr",
     "output_type": "stream",
     "text": [
      "\r",
      " 18%|█████████████▍                                                           | 55262/300000 [38:16<4:59:38, 13.61it/s]"
     ]
    },
    {
     "name": "stdout",
     "output_type": "stream",
     "text": [
      "self.evaluation_deque: deque([True, False, False, False, True, False, False, True, False, False, False, True, False, False, False, False, True, False, False, False, True, True, True, False, True, False, True, False, False, True, False, False, True, False, False, True, True, False, False, True, True, False, False, False, True, False, True, True, False, False], maxlen=50)\n",
      "eval_mean: 0.38\n"
     ]
    },
    {
     "name": "stderr",
     "output_type": "stream",
     "text": [
      "\r",
      " 18%|█████████████▍                                                           | 55327/300000 [38:20<4:54:15, 13.86it/s]"
     ]
    },
    {
     "name": "stdout",
     "output_type": "stream",
     "text": [
      "self.evaluation_deque: deque([True, False, False, False, True, False, False, True, False, False, False, True, False, False, False, False, True, False, False, False, True, True, True, False, True, False, True, False, False, True, False, False, True, False, False, True, True, False, False, True, True, False, False, False, True, False, True, True, False, False], maxlen=50)\n",
      "eval_mean: 0.38\n"
     ]
    },
    {
     "name": "stderr",
     "output_type": "stream",
     "text": [
      "\r",
      " 18%|█████████████▍                                                           | 55377/300000 [38:23<4:48:53, 14.11it/s]"
     ]
    },
    {
     "name": "stdout",
     "output_type": "stream",
     "text": [
      "self.evaluation_deque: deque([True, False, False, False, True, False, False, True, False, False, False, True, False, False, False, False, True, False, False, False, True, True, True, False, True, False, True, False, False, True, False, False, True, False, False, True, True, False, False, True, True, False, False, False, True, False, True, True, False, False], maxlen=50)\n",
      "eval_mean: 0.38\n"
     ]
    },
    {
     "name": "stderr",
     "output_type": "stream",
     "text": [
      "\r",
      " 18%|█████████████▍                                                           | 55418/300000 [38:28<5:35:23, 12.15it/s]"
     ]
    },
    {
     "name": "stdout",
     "output_type": "stream",
     "text": [
      "self.evaluation_deque: deque([False, False, False, True, False, False, True, False, False, False, True, False, False, False, False, True, False, False, False, True, True, True, False, True, False, True, False, False, True, False, False, True, False, False, True, True, False, False, True, True, False, False, False, True, False, True, True, False, False, False], maxlen=50)\n",
      "eval_mean: 0.36\n"
     ]
    },
    {
     "name": "stderr",
     "output_type": "stream",
     "text": [
      "\r",
      " 19%|█████████████▌                                                           | 55508/300000 [38:35<5:14:03, 12.97it/s]"
     ]
    },
    {
     "name": "stdout",
     "output_type": "stream",
     "text": [
      "self.evaluation_deque: deque([False, False, False, True, False, False, True, False, False, False, True, False, False, False, False, True, False, False, False, True, True, True, False, True, False, True, False, False, True, False, False, True, False, False, True, True, False, False, True, True, False, False, False, True, False, True, True, False, False, False], maxlen=50)\n",
      "eval_mean: 0.36\n"
     ]
    },
    {
     "name": "stderr",
     "output_type": "stream",
     "text": [
      "\r",
      " 19%|█████████████▌                                                           | 55578/300000 [38:39<5:02:12, 13.48it/s]"
     ]
    },
    {
     "name": "stdout",
     "output_type": "stream",
     "text": [
      "self.evaluation_deque: deque([False, False, False, True, False, False, True, False, False, False, True, False, False, False, False, True, False, False, False, True, True, True, False, True, False, True, False, False, True, False, False, True, False, False, True, True, False, False, True, True, False, False, False, True, False, True, True, False, False, False], maxlen=50)\n",
      "eval_mean: 0.36\n"
     ]
    },
    {
     "name": "stderr",
     "output_type": "stream",
     "text": [
      "\r",
      " 19%|█████████████▌                                                           | 55629/300000 [38:43<4:57:16, 13.70it/s]"
     ]
    },
    {
     "name": "stdout",
     "output_type": "stream",
     "text": [
      "self.evaluation_deque: deque([False, False, False, True, False, False, True, False, False, False, True, False, False, False, False, True, False, False, False, True, True, True, False, True, False, True, False, False, True, False, False, True, False, False, True, True, False, False, True, True, False, False, False, True, False, True, True, False, False, False], maxlen=50)\n",
      "eval_mean: 0.36\n"
     ]
    },
    {
     "name": "stderr",
     "output_type": "stream",
     "text": [
      "\r",
      " 19%|█████████████▌                                                           | 55685/300000 [38:47<4:54:42, 13.82it/s]"
     ]
    },
    {
     "name": "stdout",
     "output_type": "stream",
     "text": [
      "self.evaluation_deque: deque([False, False, False, True, False, False, True, False, False, False, True, False, False, False, False, True, False, False, False, True, True, True, False, True, False, True, False, False, True, False, False, True, False, False, True, True, False, False, True, True, False, False, False, True, False, True, True, False, False, False], maxlen=50)\n",
      "eval_mean: 0.36\n"
     ]
    },
    {
     "name": "stderr",
     "output_type": "stream",
     "text": [
      "\r",
      " 19%|█████████████▌                                                           | 55734/300000 [38:52<5:28:53, 12.38it/s]"
     ]
    },
    {
     "name": "stdout",
     "output_type": "stream",
     "text": [
      "self.evaluation_deque: deque([False, False, True, False, False, True, False, False, False, True, False, False, False, False, True, False, False, False, True, True, True, False, True, False, True, False, False, True, False, False, True, False, False, True, True, False, False, True, True, False, False, False, True, False, True, True, False, False, False, True], maxlen=50)\n",
      "eval_mean: 0.38\n"
     ]
    },
    {
     "name": "stderr",
     "output_type": "stream",
     "text": [
      "\r",
      " 19%|█████████████▌                                                           | 55807/300000 [38:57<5:06:46, 13.27it/s]"
     ]
    },
    {
     "name": "stdout",
     "output_type": "stream",
     "text": [
      "self.evaluation_deque: deque([False, False, True, False, False, True, False, False, False, True, False, False, False, False, True, False, False, False, True, True, True, False, True, False, True, False, False, True, False, False, True, False, False, True, True, False, False, True, True, False, False, False, True, False, True, True, False, False, False, True], maxlen=50)\n",
      "eval_mean: 0.38\n"
     ]
    },
    {
     "name": "stderr",
     "output_type": "stream",
     "text": [
      "\r",
      " 19%|█████████████▌                                                           | 55836/300000 [38:59<5:01:43, 13.49it/s]"
     ]
    },
    {
     "name": "stdout",
     "output_type": "stream",
     "text": [
      "self.evaluation_deque: deque([False, False, True, False, False, True, False, False, False, True, False, False, False, False, True, False, False, False, True, True, True, False, True, False, True, False, False, True, False, False, True, False, False, True, True, False, False, True, True, False, False, False, True, False, True, True, False, False, False, True], maxlen=50)\n",
      "eval_mean: 0.38\n"
     ]
    },
    {
     "name": "stderr",
     "output_type": "stream",
     "text": [
      "\r",
      " 19%|█████████████▌                                                           | 55884/300000 [39:02<4:54:59, 13.79it/s]"
     ]
    },
    {
     "name": "stdout",
     "output_type": "stream",
     "text": [
      "self.evaluation_deque: deque([False, False, True, False, False, True, False, False, False, True, False, False, False, False, True, False, False, False, True, True, True, False, True, False, True, False, False, True, False, False, True, False, False, True, True, False, False, True, True, False, False, False, True, False, True, True, False, False, False, True], maxlen=50)\n",
      "eval_mean: 0.38\n"
     ]
    },
    {
     "name": "stderr",
     "output_type": "stream",
     "text": [
      "\r",
      " 19%|█████████████▌                                                           | 55912/300000 [39:04<4:52:13, 13.92it/s]"
     ]
    },
    {
     "name": "stdout",
     "output_type": "stream",
     "text": [
      "self.evaluation_deque: deque([False, False, True, False, False, True, False, False, False, True, False, False, False, False, True, False, False, False, True, True, True, False, True, False, True, False, False, True, False, False, True, False, False, True, True, False, False, True, True, False, False, False, True, False, True, True, False, False, False, True], maxlen=50)\n",
      "eval_mean: 0.38\n"
     ]
    },
    {
     "name": "stderr",
     "output_type": "stream",
     "text": [
      "\r",
      " 19%|█████████████▌                                                           | 55966/300000 [39:09<5:29:57, 12.33it/s]"
     ]
    },
    {
     "name": "stdout",
     "output_type": "stream",
     "text": [
      "self.evaluation_deque: deque([False, True, False, False, True, False, False, False, True, False, False, False, False, True, False, False, False, True, True, True, False, True, False, True, False, False, True, False, False, True, False, False, True, True, False, False, True, True, False, False, False, True, False, True, True, False, False, False, True, True], maxlen=50)\n",
      "eval_mean: 0.4\n",
      "Saving best with: 0.4\n"
     ]
    },
    {
     "name": "stderr",
     "output_type": "stream",
     "text": [
      "\r",
      " 19%|█████████████▋                                                           | 56002/300000 [39:12<5:16:56, 12.83it/s]"
     ]
    },
    {
     "name": "stdout",
     "output_type": "stream",
     "text": [
      "self.evaluation_deque: deque([False, True, False, False, True, False, False, False, True, False, False, False, False, True, False, False, False, True, True, True, False, True, False, True, False, False, True, False, False, True, False, False, True, True, False, False, True, True, False, False, False, True, False, True, True, False, False, False, True, True], maxlen=50)\n",
      "eval_mean: 0.4\n"
     ]
    },
    {
     "name": "stderr",
     "output_type": "stream",
     "text": [
      "\r",
      " 19%|█████████████▋                                                           | 56038/300000 [39:14<5:06:18, 13.27it/s]"
     ]
    },
    {
     "name": "stdout",
     "output_type": "stream",
     "text": [
      "self.evaluation_deque: deque([False, True, False, False, True, False, False, False, True, False, False, False, False, True, False, False, False, True, True, True, False, True, False, True, False, False, True, False, False, True, False, False, True, True, False, False, True, True, False, False, False, True, False, True, True, False, False, False, True, True], maxlen=50)\n",
      "eval_mean: 0.4\n"
     ]
    },
    {
     "name": "stderr",
     "output_type": "stream",
     "text": [
      "\r",
      " 19%|█████████████▋                                                           | 56094/300000 [39:18<4:52:22, 13.90it/s]"
     ]
    },
    {
     "name": "stdout",
     "output_type": "stream",
     "text": [
      "self.evaluation_deque: deque([False, True, False, False, True, False, False, False, True, False, False, False, False, True, False, False, False, True, True, True, False, True, False, True, False, False, True, False, False, True, False, False, True, True, False, False, True, True, False, False, False, True, False, True, True, False, False, False, True, True], maxlen=50)\n",
      "eval_mean: 0.4\n"
     ]
    },
    {
     "name": "stderr",
     "output_type": "stream",
     "text": [
      "\r",
      " 19%|█████████████▋                                                           | 56191/300000 [39:24<4:41:35, 14.43it/s]"
     ]
    },
    {
     "name": "stdout",
     "output_type": "stream",
     "text": [
      "self.evaluation_deque: deque([False, True, False, False, True, False, False, False, True, False, False, False, False, True, False, False, False, True, True, True, False, True, False, True, False, False, True, False, False, True, False, False, True, True, False, False, True, True, False, False, False, True, False, True, True, False, False, False, True, True], maxlen=50)\n",
      "eval_mean: 0.4\n"
     ]
    },
    {
     "name": "stderr",
     "output_type": "stream",
     "text": [
      "\r",
      " 19%|█████████████▋                                                           | 56241/300000 [39:30<5:19:06, 12.73it/s]"
     ]
    },
    {
     "name": "stdout",
     "output_type": "stream",
     "text": [
      "self.evaluation_deque: deque([True, False, False, True, False, False, False, True, False, False, False, False, True, False, False, False, True, True, True, False, True, False, True, False, False, True, False, False, True, False, False, True, True, False, False, True, True, False, False, False, True, False, True, True, False, False, False, True, True, True], maxlen=50)\n",
      "eval_mean: 0.42\n",
      "Saving best with: 0.42\n"
     ]
    },
    {
     "name": "stderr",
     "output_type": "stream",
     "text": [
      "\r",
      " 19%|█████████████▋                                                           | 56288/300000 [39:33<5:08:48, 13.15it/s]"
     ]
    },
    {
     "name": "stdout",
     "output_type": "stream",
     "text": [
      "self.evaluation_deque: deque([True, False, False, True, False, False, False, True, False, False, False, False, True, False, False, False, True, True, True, False, True, False, True, False, False, True, False, False, True, False, False, True, True, False, False, True, True, False, False, False, True, False, True, True, False, False, False, True, True, True], maxlen=50)\n",
      "eval_mean: 0.42\n"
     ]
    },
    {
     "name": "stderr",
     "output_type": "stream",
     "text": [
      "\r",
      " 19%|█████████████▋                                                           | 56322/300000 [39:35<5:01:46, 13.46it/s]"
     ]
    },
    {
     "name": "stdout",
     "output_type": "stream",
     "text": [
      "self.evaluation_deque: deque([True, False, False, True, False, False, False, True, False, False, False, False, True, False, False, False, True, True, True, False, True, False, True, False, False, True, False, False, True, False, False, True, True, False, False, True, True, False, False, False, True, False, True, True, False, False, False, True, True, True], maxlen=50)\n",
      "eval_mean: 0.42\n"
     ]
    },
    {
     "name": "stderr",
     "output_type": "stream",
     "text": [
      "\r",
      " 19%|█████████████▋                                                           | 56357/300000 [39:38<4:57:36, 13.64it/s]"
     ]
    },
    {
     "name": "stdout",
     "output_type": "stream",
     "text": [
      "self.evaluation_deque: deque([True, False, False, True, False, False, False, True, False, False, False, False, True, False, False, False, True, True, True, False, True, False, True, False, False, True, False, False, True, False, False, True, True, False, False, True, True, False, False, False, True, False, True, True, False, False, False, True, True, True], maxlen=50)\n",
      "eval_mean: 0.42\n"
     ]
    },
    {
     "name": "stderr",
     "output_type": "stream",
     "text": [
      "\r",
      " 19%|█████████████▋                                                           | 56423/300000 [39:42<4:47:25, 14.12it/s]"
     ]
    },
    {
     "name": "stdout",
     "output_type": "stream",
     "text": [
      "self.evaluation_deque: deque([True, False, False, True, False, False, False, True, False, False, False, False, True, False, False, False, True, True, True, False, True, False, True, False, False, True, False, False, True, False, False, True, True, False, False, True, True, False, False, False, True, False, True, True, False, False, False, True, True, True], maxlen=50)\n",
      "eval_mean: 0.42\n"
     ]
    },
    {
     "name": "stderr",
     "output_type": "stream",
     "text": [
      "\r",
      " 19%|█████████████▋                                                           | 56472/300000 [39:48<5:38:32, 11.99it/s]"
     ]
    },
    {
     "name": "stdout",
     "output_type": "stream",
     "text": [
      "self.evaluation_deque: deque([False, False, True, False, False, False, True, False, False, False, False, True, False, False, False, True, True, True, False, True, False, True, False, False, True, False, False, True, False, False, True, True, False, False, True, True, False, False, False, True, False, True, True, False, False, False, True, True, True, False], maxlen=50)\n",
      "eval_mean: 0.4\n"
     ]
    },
    {
     "name": "stderr",
     "output_type": "stream",
     "text": [
      "\r",
      " 19%|█████████████▊                                                           | 56511/300000 [39:50<5:20:37, 12.66it/s]"
     ]
    },
    {
     "name": "stdout",
     "output_type": "stream",
     "text": [
      "self.evaluation_deque: deque([False, False, True, False, False, False, True, False, False, False, False, True, False, False, False, True, True, True, False, True, False, True, False, False, True, False, False, True, False, False, True, True, False, False, True, True, False, False, False, True, False, True, True, False, False, False, True, True, True, False], maxlen=50)\n",
      "eval_mean: 0.4\n"
     ]
    },
    {
     "name": "stderr",
     "output_type": "stream",
     "text": [
      "\r",
      " 19%|█████████████▊                                                           | 56601/300000 [39:57<5:04:43, 13.31it/s]"
     ]
    },
    {
     "name": "stdout",
     "output_type": "stream",
     "text": [
      "self.evaluation_deque: deque([False, False, True, False, False, False, True, False, False, False, False, True, False, False, False, True, True, True, False, True, False, True, False, False, True, False, False, True, False, False, True, True, False, False, True, True, False, False, False, True, False, True, True, False, False, False, True, True, True, False], maxlen=50)\n",
      "eval_mean: 0.4\n"
     ]
    },
    {
     "name": "stderr",
     "output_type": "stream",
     "text": [
      "\r",
      " 19%|█████████████▊                                                           | 56643/300000 [40:00<5:01:12, 13.47it/s]"
     ]
    },
    {
     "name": "stdout",
     "output_type": "stream",
     "text": [
      "self.evaluation_deque: deque([False, False, True, False, False, False, True, False, False, False, False, True, False, False, False, True, True, True, False, True, False, True, False, False, True, False, False, True, False, False, True, True, False, False, True, True, False, False, False, True, False, True, True, False, False, False, True, True, True, False], maxlen=50)\n",
      "eval_mean: 0.4\n"
     ]
    },
    {
     "name": "stderr",
     "output_type": "stream",
     "text": [
      "\r",
      " 19%|█████████████▊                                                           | 56683/300000 [40:02<4:55:44, 13.71it/s]"
     ]
    },
    {
     "name": "stdout",
     "output_type": "stream",
     "text": [
      "self.evaluation_deque: deque([False, False, True, False, False, False, True, False, False, False, False, True, False, False, False, True, True, True, False, True, False, True, False, False, True, False, False, True, False, False, True, True, False, False, True, True, False, False, False, True, False, True, True, False, False, False, True, True, True, False], maxlen=50)\n",
      "eval_mean: 0.4\n"
     ]
    },
    {
     "name": "stderr",
     "output_type": "stream",
     "text": [
      "\r",
      " 19%|█████████████▊                                                           | 56717/300000 [40:10<7:13:36,  9.35it/s]"
     ]
    },
    {
     "name": "stdout",
     "output_type": "stream",
     "text": [
      "self.evaluation_deque: deque([False, True, False, False, False, True, False, False, False, False, True, False, False, False, True, True, True, False, True, False, True, False, False, True, False, False, True, False, False, True, True, False, False, True, True, False, False, False, True, False, True, True, False, False, False, True, True, True, False, False], maxlen=50)\n",
      "eval_mean: 0.4\n"
     ]
    },
    {
     "name": "stderr",
     "output_type": "stream",
     "text": [
      "\r",
      " 19%|█████████████▊                                                           | 56772/300000 [40:14<6:19:36, 10.68it/s]"
     ]
    },
    {
     "name": "stdout",
     "output_type": "stream",
     "text": [
      "self.evaluation_deque: deque([False, True, False, False, False, True, False, False, False, False, True, False, False, False, True, True, True, False, True, False, True, False, False, True, False, False, True, False, False, True, True, False, False, True, True, False, False, False, True, False, True, True, False, False, False, True, True, True, False, False], maxlen=50)\n",
      "eval_mean: 0.4\n"
     ]
    },
    {
     "name": "stderr",
     "output_type": "stream",
     "text": [
      "\r",
      " 19%|█████████████▊                                                           | 56818/300000 [40:17<5:50:32, 11.56it/s]"
     ]
    },
    {
     "name": "stdout",
     "output_type": "stream",
     "text": [
      "self.evaluation_deque: deque([False, True, False, False, False, True, False, False, False, False, True, False, False, False, True, True, True, False, True, False, True, False, False, True, False, False, True, False, False, True, True, False, False, True, True, False, False, False, True, False, True, True, False, False, False, True, True, True, False, False], maxlen=50)\n",
      "eval_mean: 0.4\n"
     ]
    },
    {
     "name": "stderr",
     "output_type": "stream",
     "text": [
      "\r",
      " 19%|█████████████▊                                                           | 56883/300000 [40:21<5:24:59, 12.47it/s]"
     ]
    },
    {
     "name": "stdout",
     "output_type": "stream",
     "text": [
      "self.evaluation_deque: deque([False, True, False, False, False, True, False, False, False, False, True, False, False, False, True, True, True, False, True, False, True, False, False, True, False, False, True, False, False, True, True, False, False, True, True, False, False, False, True, False, True, True, False, False, False, True, True, True, False, False], maxlen=50)\n",
      "eval_mean: 0.4\n"
     ]
    },
    {
     "name": "stderr",
     "output_type": "stream",
     "text": [
      "\r",
      " 19%|█████████████▊                                                           | 56977/300000 [40:28<4:58:38, 13.56it/s]"
     ]
    },
    {
     "name": "stdout",
     "output_type": "stream",
     "text": [
      "self.evaluation_deque: deque([False, True, False, False, False, True, False, False, False, False, True, False, False, False, True, True, True, False, True, False, True, False, False, True, False, False, True, False, False, True, True, False, False, True, True, False, False, False, True, False, True, True, False, False, False, True, True, True, False, False], maxlen=50)\n",
      "eval_mean: 0.4\n"
     ]
    },
    {
     "name": "stderr",
     "output_type": "stream",
     "text": [
      "\r",
      " 19%|█████████████▉                                                           | 57054/300000 [40:35<5:32:28, 12.18it/s]"
     ]
    },
    {
     "name": "stdout",
     "output_type": "stream",
     "text": [
      "self.evaluation_deque: deque([True, False, False, False, True, False, False, False, False, True, False, False, False, True, True, True, False, True, False, True, False, False, True, False, False, True, False, False, True, True, False, False, True, True, False, False, False, True, False, True, True, False, False, False, True, True, True, False, False, False], maxlen=50)\n",
      "eval_mean: 0.4\n"
     ]
    },
    {
     "name": "stderr",
     "output_type": "stream",
     "text": [
      "\r",
      " 19%|█████████████▉                                                           | 57145/300000 [40:41<5:12:46, 12.94it/s]"
     ]
    },
    {
     "name": "stdout",
     "output_type": "stream",
     "text": [
      "self.evaluation_deque: deque([True, False, False, False, True, False, False, False, False, True, False, False, False, True, True, True, False, True, False, True, False, False, True, False, False, True, False, False, True, True, False, False, True, True, False, False, False, True, False, True, True, False, False, False, True, True, True, False, False, False], maxlen=50)\n",
      "eval_mean: 0.4\n"
     ]
    },
    {
     "name": "stderr",
     "output_type": "stream",
     "text": [
      "\r",
      " 19%|█████████████▉                                                           | 57174/300000 [40:43<5:07:55, 13.14it/s]"
     ]
    },
    {
     "name": "stdout",
     "output_type": "stream",
     "text": [
      "self.evaluation_deque: deque([True, False, False, False, True, False, False, False, False, True, False, False, False, True, True, True, False, True, False, True, False, False, True, False, False, True, False, False, True, True, False, False, True, True, False, False, False, True, False, True, True, False, False, False, True, True, True, False, False, False], maxlen=50)\n",
      "eval_mean: 0.4\n"
     ]
    },
    {
     "name": "stderr",
     "output_type": "stream",
     "text": [
      "\r",
      " 19%|█████████████▉                                                           | 57225/300000 [40:47<5:00:11, 13.48it/s]"
     ]
    },
    {
     "name": "stdout",
     "output_type": "stream",
     "text": [
      "self.evaluation_deque: deque([True, False, False, False, True, False, False, False, False, True, False, False, False, True, True, True, False, True, False, True, False, False, True, False, False, True, False, False, True, True, False, False, True, True, False, False, False, True, False, True, True, False, False, False, True, True, True, False, False, False], maxlen=50)\n",
      "eval_mean: 0.4\n"
     ]
    },
    {
     "name": "stderr",
     "output_type": "stream",
     "text": [
      "\r",
      " 19%|█████████████▉                                                           | 57265/300000 [40:50<4:54:50, 13.72it/s]"
     ]
    },
    {
     "name": "stdout",
     "output_type": "stream",
     "text": [
      "self.evaluation_deque: deque([True, False, False, False, True, False, False, False, False, True, False, False, False, True, True, True, False, True, False, True, False, False, True, False, False, True, False, False, True, True, False, False, True, True, False, False, False, True, False, True, True, False, False, False, True, True, True, False, False, False], maxlen=50)\n",
      "eval_mean: 0.4\n"
     ]
    },
    {
     "name": "stderr",
     "output_type": "stream",
     "text": [
      "\r",
      " 19%|█████████████▉                                                           | 57341/300000 [40:57<5:37:10, 11.99it/s]"
     ]
    },
    {
     "name": "stdout",
     "output_type": "stream",
     "text": [
      "self.evaluation_deque: deque([False, False, False, True, False, False, False, False, True, False, False, False, True, True, True, False, True, False, True, False, False, True, False, False, True, False, False, True, True, False, False, True, True, False, False, False, True, False, True, True, False, False, False, True, True, True, False, False, False, False], maxlen=50)\n",
      "eval_mean: 0.38\n"
     ]
    },
    {
     "name": "stderr",
     "output_type": "stream",
     "text": [
      "\r",
      " 19%|█████████████▉                                                           | 57423/300000 [41:03<5:10:14, 13.03it/s]"
     ]
    },
    {
     "name": "stdout",
     "output_type": "stream",
     "text": [
      "self.evaluation_deque: deque([False, False, False, True, False, False, False, False, True, False, False, False, True, True, True, False, True, False, True, False, False, True, False, False, True, False, False, True, True, False, False, True, True, False, False, False, True, False, True, True, False, False, False, True, True, True, False, False, False, False], maxlen=50)\n",
      "eval_mean: 0.38\n"
     ]
    },
    {
     "name": "stderr",
     "output_type": "stream",
     "text": [
      "\r",
      " 19%|█████████████▉                                                           | 57474/300000 [41:06<5:01:51, 13.39it/s]"
     ]
    },
    {
     "name": "stdout",
     "output_type": "stream",
     "text": [
      "self.evaluation_deque: deque([False, False, False, True, False, False, False, False, True, False, False, False, True, True, True, False, True, False, True, False, False, True, False, False, True, False, False, True, True, False, False, True, True, False, False, False, True, False, True, True, False, False, False, True, True, True, False, False, False, False], maxlen=50)\n",
      "eval_mean: 0.38\n"
     ]
    },
    {
     "name": "stderr",
     "output_type": "stream",
     "text": [
      "\r",
      " 19%|█████████████▉                                                           | 57512/300000 [41:09<4:55:25, 13.68it/s]"
     ]
    },
    {
     "name": "stdout",
     "output_type": "stream",
     "text": [
      "self.evaluation_deque: deque([False, False, False, True, False, False, False, False, True, False, False, False, True, True, True, False, True, False, True, False, False, True, False, False, True, False, False, True, True, False, False, True, True, False, False, False, True, False, True, True, False, False, False, True, True, True, False, False, False, False], maxlen=50)\n",
      "eval_mean: 0.38\n"
     ]
    },
    {
     "name": "stderr",
     "output_type": "stream",
     "text": [
      "\r",
      " 19%|██████████████                                                           | 57579/300000 [41:13<4:45:52, 14.13it/s]"
     ]
    },
    {
     "name": "stdout",
     "output_type": "stream",
     "text": [
      "self.evaluation_deque: deque([False, False, False, True, False, False, False, False, True, False, False, False, True, True, True, False, True, False, True, False, False, True, False, False, True, False, False, True, True, False, False, True, True, False, False, False, True, False, True, True, False, False, False, True, True, True, False, False, False, False], maxlen=50)\n",
      "eval_mean: 0.38\n"
     ]
    },
    {
     "name": "stderr",
     "output_type": "stream",
     "text": [
      "\r",
      " 19%|██████████████                                                           | 57606/300000 [41:17<5:31:25, 12.19it/s]"
     ]
    },
    {
     "name": "stdout",
     "output_type": "stream",
     "text": [
      "self.evaluation_deque: deque([False, False, True, False, False, False, False, True, False, False, False, True, True, True, False, True, False, True, False, False, True, False, False, True, False, False, True, True, False, False, True, True, False, False, False, True, False, True, True, False, False, False, True, True, True, False, False, False, False, True], maxlen=50)\n",
      "eval_mean: 0.4\n"
     ]
    },
    {
     "name": "stderr",
     "output_type": "stream",
     "text": [
      "\r",
      " 19%|██████████████                                                           | 57657/300000 [41:20<5:16:11, 12.77it/s]"
     ]
    },
    {
     "name": "stdout",
     "output_type": "stream",
     "text": [
      "self.evaluation_deque: deque([False, False, True, False, False, False, False, True, False, False, False, True, True, True, False, True, False, True, False, False, True, False, False, True, False, False, True, True, False, False, True, True, False, False, False, True, False, True, True, False, False, False, True, True, True, False, False, False, False, True], maxlen=50)\n",
      "eval_mean: 0.4\n"
     ]
    },
    {
     "name": "stderr",
     "output_type": "stream",
     "text": [
      "\r",
      " 19%|██████████████                                                           | 57701/300000 [41:23<5:04:17, 13.27it/s]"
     ]
    },
    {
     "name": "stdout",
     "output_type": "stream",
     "text": [
      "self.evaluation_deque: deque([False, False, True, False, False, False, False, True, False, False, False, True, True, True, False, True, False, True, False, False, True, False, False, True, False, False, True, True, False, False, True, True, False, False, False, True, False, True, True, False, False, False, True, True, True, False, False, False, False, True], maxlen=50)\n",
      "eval_mean: 0.4\n"
     ]
    },
    {
     "name": "stderr",
     "output_type": "stream",
     "text": [
      "\r",
      " 19%|██████████████                                                           | 57794/300000 [41:30<4:57:22, 13.57it/s]"
     ]
    },
    {
     "name": "stdout",
     "output_type": "stream",
     "text": [
      "self.evaluation_deque: deque([False, False, True, False, False, False, False, True, False, False, False, True, True, True, False, True, False, True, False, False, True, False, False, True, False, False, True, True, False, False, True, True, False, False, False, True, False, True, True, False, False, False, True, True, True, False, False, False, False, True], maxlen=50)\n",
      "eval_mean: 0.4\n"
     ]
    },
    {
     "name": "stderr",
     "output_type": "stream",
     "text": [
      "\r",
      " 19%|██████████████                                                           | 57848/300000 [41:34<4:53:04, 13.77it/s]"
     ]
    },
    {
     "name": "stdout",
     "output_type": "stream",
     "text": [
      "self.evaluation_deque: deque([False, False, True, False, False, False, False, True, False, False, False, True, True, True, False, True, False, True, False, False, True, False, False, True, False, False, True, True, False, False, True, True, False, False, False, True, False, True, True, False, False, False, True, True, True, False, False, False, False, True], maxlen=50)\n",
      "eval_mean: 0.4\n"
     ]
    },
    {
     "name": "stderr",
     "output_type": "stream",
     "text": [
      "\r",
      " 19%|██████████████                                                           | 57901/300000 [41:39<5:25:58, 12.38it/s]"
     ]
    },
    {
     "name": "stdout",
     "output_type": "stream",
     "text": [
      "self.evaluation_deque: deque([False, True, False, False, False, False, True, False, False, False, True, True, True, False, True, False, True, False, False, True, False, False, True, False, False, True, True, False, False, True, True, False, False, False, True, False, True, True, False, False, False, True, True, True, False, False, False, False, True, True], maxlen=50)\n",
      "eval_mean: 0.42\n"
     ]
    },
    {
     "name": "stderr",
     "output_type": "stream",
     "text": [
      "\r",
      " 19%|██████████████                                                           | 57962/300000 [41:43<5:11:51, 12.93it/s]"
     ]
    },
    {
     "name": "stdout",
     "output_type": "stream",
     "text": [
      "self.evaluation_deque: deque([False, True, False, False, False, False, True, False, False, False, True, True, True, False, True, False, True, False, False, True, False, False, True, False, False, True, True, False, False, True, True, False, False, False, True, False, True, True, False, False, False, True, True, True, False, False, False, False, True, True], maxlen=50)\n",
      "eval_mean: 0.42\n"
     ]
    },
    {
     "name": "stderr",
     "output_type": "stream",
     "text": [
      "\r",
      " 19%|██████████████                                                           | 58011/300000 [41:47<4:59:50, 13.45it/s]"
     ]
    },
    {
     "name": "stdout",
     "output_type": "stream",
     "text": [
      "self.evaluation_deque: deque([False, True, False, False, False, False, True, False, False, False, True, True, True, False, True, False, True, False, False, True, False, False, True, False, False, True, True, False, False, True, True, False, False, False, True, False, True, True, False, False, False, True, True, True, False, False, False, False, True, True], maxlen=50)\n",
      "eval_mean: 0.42\n"
     ]
    },
    {
     "name": "stderr",
     "output_type": "stream",
     "text": [
      "\r",
      " 19%|██████████████▏                                                          | 58073/300000 [41:51<4:54:25, 13.70it/s]"
     ]
    },
    {
     "name": "stdout",
     "output_type": "stream",
     "text": [
      "self.evaluation_deque: deque([False, True, False, False, False, False, True, False, False, False, True, True, True, False, True, False, True, False, False, True, False, False, True, False, False, True, True, False, False, True, True, False, False, False, True, False, True, True, False, False, False, True, True, True, False, False, False, False, True, True], maxlen=50)\n",
      "eval_mean: 0.42\n"
     ]
    },
    {
     "name": "stderr",
     "output_type": "stream",
     "text": [
      "\r",
      " 19%|██████████████▏                                                          | 58169/300000 [41:58<4:50:37, 13.87it/s]"
     ]
    },
    {
     "name": "stdout",
     "output_type": "stream",
     "text": [
      "self.evaluation_deque: deque([False, True, False, False, False, False, True, False, False, False, True, True, True, False, True, False, True, False, False, True, False, False, True, False, False, True, True, False, False, True, True, False, False, False, True, False, True, True, False, False, False, True, True, True, False, False, False, False, True, True], maxlen=50)\n",
      "eval_mean: 0.42\n"
     ]
    },
    {
     "name": "stderr",
     "output_type": "stream",
     "text": [
      "\r",
      " 19%|██████████████▏                                                          | 58240/300000 [42:05<5:22:51, 12.48it/s]"
     ]
    },
    {
     "name": "stdout",
     "output_type": "stream",
     "text": [
      "self.evaluation_deque: deque([True, False, False, False, False, True, False, False, False, True, True, True, False, True, False, True, False, False, True, False, False, True, False, False, True, True, False, False, True, True, False, False, False, True, False, True, True, False, False, False, True, True, True, False, False, False, False, True, True, False], maxlen=50)\n",
      "eval_mean: 0.42\n"
     ]
    },
    {
     "name": "stderr",
     "output_type": "stream",
     "text": [
      "\r",
      " 19%|██████████████▏                                                          | 58301/300000 [42:09<5:07:43, 13.09it/s]"
     ]
    },
    {
     "name": "stdout",
     "output_type": "stream",
     "text": [
      "self.evaluation_deque: deque([True, False, False, False, False, True, False, False, False, True, True, True, False, True, False, True, False, False, True, False, False, True, False, False, True, True, False, False, True, True, False, False, False, True, False, True, True, False, False, False, True, True, True, False, False, False, False, True, True, False], maxlen=50)\n",
      "eval_mean: 0.42\n"
     ]
    },
    {
     "name": "stderr",
     "output_type": "stream",
     "text": [
      "\r",
      " 19%|██████████████▏                                                          | 58370/300000 [42:14<4:56:28, 13.58it/s]"
     ]
    },
    {
     "name": "stdout",
     "output_type": "stream",
     "text": [
      "self.evaluation_deque: deque([True, False, False, False, False, True, False, False, False, True, True, True, False, True, False, True, False, False, True, False, False, True, False, False, True, True, False, False, True, True, False, False, False, True, False, True, True, False, False, False, True, True, True, False, False, False, False, True, True, False], maxlen=50)\n",
      "eval_mean: 0.42\n"
     ]
    },
    {
     "name": "stderr",
     "output_type": "stream",
     "text": [
      "\r",
      " 19%|██████████████▏                                                          | 58408/300000 [42:16<4:50:16, 13.87it/s]"
     ]
    },
    {
     "name": "stdout",
     "output_type": "stream",
     "text": [
      "self.evaluation_deque: deque([True, False, False, False, False, True, False, False, False, True, True, True, False, True, False, True, False, False, True, False, False, True, False, False, True, True, False, False, True, True, False, False, False, True, False, True, True, False, False, False, True, True, True, False, False, False, False, True, True, False], maxlen=50)\n",
      "eval_mean: 0.42\n"
     ]
    },
    {
     "name": "stderr",
     "output_type": "stream",
     "text": [
      "\r",
      " 19%|██████████████▏                                                          | 58443/300000 [42:19<4:48:47, 13.94it/s]"
     ]
    },
    {
     "name": "stdout",
     "output_type": "stream",
     "text": [
      "self.evaluation_deque: deque([True, False, False, False, False, True, False, False, False, True, True, True, False, True, False, True, False, False, True, False, False, True, False, False, True, True, False, False, True, True, False, False, False, True, False, True, True, False, False, False, True, True, True, False, False, False, False, True, True, False], maxlen=50)\n",
      "eval_mean: 0.42\n"
     ]
    },
    {
     "name": "stderr",
     "output_type": "stream",
     "text": [
      "\r",
      " 19%|██████████████▏                                                          | 58494/300000 [42:24<5:35:56, 11.98it/s]"
     ]
    },
    {
     "name": "stdout",
     "output_type": "stream",
     "text": [
      "self.evaluation_deque: deque([False, False, False, False, True, False, False, False, True, True, True, False, True, False, True, False, False, True, False, False, True, False, False, True, True, False, False, True, True, False, False, False, True, False, True, True, False, False, False, True, True, True, False, False, False, False, True, True, False, False], maxlen=50)\n",
      "eval_mean: 0.4\n"
     ]
    },
    {
     "name": "stderr",
     "output_type": "stream",
     "text": [
      "\r",
      " 20%|██████████████▎                                                          | 58593/300000 [42:31<5:09:34, 13.00it/s]"
     ]
    },
    {
     "name": "stdout",
     "output_type": "stream",
     "text": [
      "self.evaluation_deque: deque([False, False, False, False, True, False, False, False, True, True, True, False, True, False, True, False, False, True, False, False, True, False, False, True, True, False, False, True, True, False, False, False, True, False, True, True, False, False, False, True, True, True, False, False, False, False, True, True, False, False], maxlen=50)\n",
      "eval_mean: 0.4\n"
     ]
    },
    {
     "name": "stderr",
     "output_type": "stream",
     "text": [
      "\r",
      " 20%|██████████████▎                                                          | 58630/300000 [42:34<5:04:05, 13.23it/s]"
     ]
    },
    {
     "name": "stdout",
     "output_type": "stream",
     "text": [
      "self.evaluation_deque: deque([False, False, False, False, True, False, False, False, True, True, True, False, True, False, True, False, False, True, False, False, True, False, False, True, True, False, False, True, True, False, False, False, True, False, True, True, False, False, False, True, True, True, False, False, False, False, True, True, False, False], maxlen=50)\n",
      "eval_mean: 0.4\n"
     ]
    },
    {
     "name": "stderr",
     "output_type": "stream",
     "text": [
      "\r",
      " 20%|██████████████▎                                                          | 58661/300000 [42:36<4:59:22, 13.44it/s]"
     ]
    },
    {
     "name": "stdout",
     "output_type": "stream",
     "text": [
      "self.evaluation_deque: deque([False, False, False, False, True, False, False, False, True, True, True, False, True, False, True, False, False, True, False, False, True, False, False, True, True, False, False, True, True, False, False, False, True, False, True, True, False, False, False, True, True, True, False, False, False, False, True, True, False, False], maxlen=50)\n",
      "eval_mean: 0.4\n"
     ]
    },
    {
     "name": "stderr",
     "output_type": "stream",
     "text": [
      "\r",
      " 20%|██████████████▎                                                          | 58712/300000 [42:39<4:51:28, 13.80it/s]"
     ]
    },
    {
     "name": "stdout",
     "output_type": "stream",
     "text": [
      "self.evaluation_deque: deque([False, False, False, False, True, False, False, False, True, True, True, False, True, False, True, False, False, True, False, False, True, False, False, True, True, False, False, True, True, False, False, False, True, False, True, True, False, False, False, True, True, True, False, False, False, False, True, True, False, False], maxlen=50)\n",
      "eval_mean: 0.4\n"
     ]
    },
    {
     "name": "stderr",
     "output_type": "stream",
     "text": [
      "\r",
      " 20%|██████████████▎                                                          | 58807/300000 [42:48<5:19:55, 12.57it/s]"
     ]
    },
    {
     "name": "stdout",
     "output_type": "stream",
     "text": [
      "self.evaluation_deque: deque([False, False, False, True, False, False, False, True, True, True, False, True, False, True, False, False, True, False, False, True, False, False, True, True, False, False, True, True, False, False, False, True, False, True, True, False, False, False, True, True, True, False, False, False, False, True, True, False, False, True], maxlen=50)\n",
      "eval_mean: 0.42\n"
     ]
    },
    {
     "name": "stderr",
     "output_type": "stream",
     "text": [
      "\r",
      " 20%|██████████████▎                                                          | 58856/300000 [42:51<5:10:30, 12.94it/s]"
     ]
    },
    {
     "name": "stdout",
     "output_type": "stream",
     "text": [
      "self.evaluation_deque: deque([False, False, False, True, False, False, False, True, True, True, False, True, False, True, False, False, True, False, False, True, False, False, True, True, False, False, True, True, False, False, False, True, False, True, True, False, False, False, True, True, True, False, False, False, False, True, True, False, False, True], maxlen=50)\n",
      "eval_mean: 0.42\n"
     ]
    },
    {
     "name": "stderr",
     "output_type": "stream",
     "text": [
      "\r",
      " 20%|██████████████▎                                                          | 58887/300000 [42:53<5:06:30, 13.11it/s]"
     ]
    },
    {
     "name": "stdout",
     "output_type": "stream",
     "text": [
      "self.evaluation_deque: deque([False, False, False, True, False, False, False, True, True, True, False, True, False, True, False, False, True, False, False, True, False, False, True, True, False, False, True, True, False, False, False, True, False, True, True, False, False, False, True, True, True, False, False, False, False, True, True, False, False, True], maxlen=50)\n",
      "eval_mean: 0.42\n"
     ]
    },
    {
     "name": "stderr",
     "output_type": "stream",
     "text": [
      "\r",
      " 20%|██████████████▎                                                          | 58957/300000 [42:58<4:56:42, 13.54it/s]"
     ]
    },
    {
     "name": "stdout",
     "output_type": "stream",
     "text": [
      "self.evaluation_deque: deque([False, False, False, True, False, False, False, True, True, True, False, True, False, True, False, False, True, False, False, True, False, False, True, True, False, False, True, True, False, False, False, True, False, True, True, False, False, False, True, True, True, False, False, False, False, True, True, False, False, True], maxlen=50)\n",
      "eval_mean: 0.42\n"
     ]
    },
    {
     "name": "stderr",
     "output_type": "stream",
     "text": [
      "\r",
      " 20%|██████████████▎                                                          | 58986/300000 [43:00<4:53:36, 13.68it/s]"
     ]
    },
    {
     "name": "stdout",
     "output_type": "stream",
     "text": [
      "self.evaluation_deque: deque([False, False, False, True, False, False, False, True, True, True, False, True, False, True, False, False, True, False, False, True, False, False, True, True, False, False, True, True, False, False, False, True, False, True, True, False, False, False, True, True, True, False, False, False, False, True, True, False, False, True], maxlen=50)\n",
      "eval_mean: 0.42\n"
     ]
    },
    {
     "name": "stderr",
     "output_type": "stream",
     "text": [
      "\r",
      " 20%|██████████████▎                                                          | 59015/300000 [43:04<5:42:11, 11.74it/s]"
     ]
    },
    {
     "name": "stdout",
     "output_type": "stream",
     "text": [
      "self.evaluation_deque: deque([False, False, True, False, False, False, True, True, True, False, True, False, True, False, False, True, False, False, True, False, False, True, True, False, False, True, True, False, False, False, True, False, True, True, False, False, False, True, True, True, False, False, False, False, True, True, False, False, True, True], maxlen=50)\n",
      "eval_mean: 0.44\n",
      "Saving best with: 0.44\n"
     ]
    },
    {
     "name": "stderr",
     "output_type": "stream",
     "text": [
      "\r",
      " 20%|██████████████▎                                                          | 59049/300000 [43:06<5:26:32, 12.30it/s]"
     ]
    },
    {
     "name": "stdout",
     "output_type": "stream",
     "text": [
      "self.evaluation_deque: deque([False, False, True, False, False, False, True, True, True, False, True, False, True, False, False, True, False, False, True, False, False, True, True, False, False, True, True, False, False, False, True, False, True, True, False, False, False, True, True, True, False, False, False, False, True, True, False, False, True, True], maxlen=50)\n",
      "eval_mean: 0.44\n"
     ]
    },
    {
     "name": "stderr",
     "output_type": "stream",
     "text": [
      "\r",
      " 20%|██████████████▍                                                          | 59127/300000 [43:12<5:05:28, 13.14it/s]"
     ]
    },
    {
     "name": "stdout",
     "output_type": "stream",
     "text": [
      "self.evaluation_deque: deque([False, False, True, False, False, False, True, True, True, False, True, False, True, False, False, True, False, False, True, False, False, True, True, False, False, True, True, False, False, False, True, False, True, True, False, False, False, True, True, True, False, False, False, False, True, True, False, False, True, True], maxlen=50)\n",
      "eval_mean: 0.44\n"
     ]
    },
    {
     "name": "stderr",
     "output_type": "stream",
     "text": [
      "\r",
      " 20%|██████████████▍                                                          | 59186/300000 [43:16<4:52:35, 13.72it/s]"
     ]
    },
    {
     "name": "stdout",
     "output_type": "stream",
     "text": [
      "self.evaluation_deque: deque([False, False, True, False, False, False, True, True, True, False, True, False, True, False, False, True, False, False, True, False, False, True, True, False, False, True, True, False, False, False, True, False, True, True, False, False, False, True, True, True, False, False, False, False, True, True, False, False, True, True], maxlen=50)\n",
      "eval_mean: 0.44\n"
     ]
    },
    {
     "name": "stderr",
     "output_type": "stream",
     "text": [
      "\r",
      " 20%|██████████████▍                                                          | 59276/300000 [43:22<4:41:16, 14.26it/s]"
     ]
    },
    {
     "name": "stdout",
     "output_type": "stream",
     "text": [
      "self.evaluation_deque: deque([False, False, True, False, False, False, True, True, True, False, True, False, True, False, False, True, False, False, True, False, False, True, True, False, False, True, True, False, False, False, True, False, True, True, False, False, False, True, True, True, False, False, False, False, True, True, False, False, True, True], maxlen=50)\n",
      "eval_mean: 0.44\n"
     ]
    },
    {
     "name": "stderr",
     "output_type": "stream",
     "text": [
      "\r",
      " 20%|██████████████▍                                                          | 59357/300000 [43:30<5:22:46, 12.43it/s]"
     ]
    },
    {
     "name": "stdout",
     "output_type": "stream",
     "text": [
      "self.evaluation_deque: deque([False, True, False, False, False, True, True, True, False, True, False, True, False, False, True, False, False, True, False, False, True, True, False, False, True, True, False, False, False, True, False, True, True, False, False, False, True, True, True, False, False, False, False, True, True, False, False, True, True, False], maxlen=50)\n",
      "eval_mean: 0.44\n"
     ]
    },
    {
     "name": "stderr",
     "output_type": "stream",
     "text": [
      "\r",
      " 20%|██████████████▍                                                          | 59437/300000 [43:35<5:03:41, 13.20it/s]"
     ]
    },
    {
     "name": "stdout",
     "output_type": "stream",
     "text": [
      "self.evaluation_deque: deque([False, True, False, False, False, True, True, True, False, True, False, True, False, False, True, False, False, True, False, False, True, True, False, False, True, True, False, False, False, True, False, True, True, False, False, False, True, True, True, False, False, False, False, True, True, False, False, True, True, False], maxlen=50)\n",
      "eval_mean: 0.44\n"
     ]
    },
    {
     "name": "stderr",
     "output_type": "stream",
     "text": [
      "\r",
      " 20%|██████████████▍                                                          | 59484/300000 [43:38<4:56:33, 13.52it/s]"
     ]
    },
    {
     "name": "stdout",
     "output_type": "stream",
     "text": [
      "self.evaluation_deque: deque([False, True, False, False, False, True, True, True, False, True, False, True, False, False, True, False, False, True, False, False, True, True, False, False, True, True, False, False, False, True, False, True, True, False, False, False, True, True, True, False, False, False, False, True, True, False, False, True, True, False], maxlen=50)\n",
      "eval_mean: 0.44\n"
     ]
    },
    {
     "name": "stderr",
     "output_type": "stream",
     "text": [
      "\r",
      " 20%|██████████████▍                                                          | 59531/300000 [43:41<4:50:10, 13.81it/s]"
     ]
    },
    {
     "name": "stdout",
     "output_type": "stream",
     "text": [
      "self.evaluation_deque: deque([False, True, False, False, False, True, True, True, False, True, False, True, False, False, True, False, False, True, False, False, True, True, False, False, True, True, False, False, False, True, False, True, True, False, False, False, True, True, True, False, False, False, False, True, True, False, False, True, True, False], maxlen=50)\n",
      "eval_mean: 0.44\n"
     ]
    },
    {
     "name": "stderr",
     "output_type": "stream",
     "text": [
      "\r",
      " 20%|██████████████▍                                                          | 59568/300000 [43:44<4:44:50, 14.07it/s]"
     ]
    },
    {
     "name": "stdout",
     "output_type": "stream",
     "text": [
      "self.evaluation_deque: deque([False, True, False, False, False, True, True, True, False, True, False, True, False, False, True, False, False, True, False, False, True, True, False, False, True, True, False, False, False, True, False, True, True, False, False, False, True, True, True, False, False, False, False, True, True, False, False, True, True, False], maxlen=50)\n",
      "eval_mean: 0.44\n"
     ]
    },
    {
     "name": "stderr",
     "output_type": "stream",
     "text": [
      "\r",
      " 20%|██████████████▌                                                          | 59599/300000 [43:48<5:27:19, 12.24it/s]"
     ]
    },
    {
     "name": "stdout",
     "output_type": "stream",
     "text": [
      "self.evaluation_deque: deque([True, False, False, False, True, True, True, False, True, False, True, False, False, True, False, False, True, False, False, True, True, False, False, True, True, False, False, False, True, False, True, True, False, False, False, True, True, True, False, False, False, False, True, True, False, False, True, True, False, True], maxlen=50)\n",
      "eval_mean: 0.46\n",
      "Saving best with: 0.46\n"
     ]
    },
    {
     "name": "stderr",
     "output_type": "stream",
     "text": [
      "\r",
      " 20%|██████████████▌                                                          | 59634/300000 [43:50<5:14:25, 12.74it/s]"
     ]
    },
    {
     "name": "stdout",
     "output_type": "stream",
     "text": [
      "self.evaluation_deque: deque([True, False, False, False, True, True, True, False, True, False, True, False, False, True, False, False, True, False, False, True, True, False, False, True, True, False, False, False, True, False, True, True, False, False, False, True, True, True, False, False, False, False, True, True, False, False, True, True, False, True], maxlen=50)\n",
      "eval_mean: 0.46\n"
     ]
    },
    {
     "name": "stderr",
     "output_type": "stream",
     "text": [
      "\r",
      " 20%|██████████████▌                                                          | 59669/300000 [43:52<5:01:11, 13.30it/s]"
     ]
    },
    {
     "name": "stdout",
     "output_type": "stream",
     "text": [
      "self.evaluation_deque: deque([True, False, False, False, True, True, True, False, True, False, True, False, False, True, False, False, True, False, False, True, True, False, False, True, True, False, False, False, True, False, True, True, False, False, False, True, True, True, False, False, False, False, True, True, False, False, True, True, False, True], maxlen=50)\n",
      "eval_mean: 0.46\n"
     ]
    },
    {
     "name": "stderr",
     "output_type": "stream",
     "text": [
      "\r",
      " 20%|██████████████▌                                                          | 59728/300000 [43:57<4:52:36, 13.69it/s]"
     ]
    },
    {
     "name": "stdout",
     "output_type": "stream",
     "text": [
      "self.evaluation_deque: deque([True, False, False, False, True, True, True, False, True, False, True, False, False, True, False, False, True, False, False, True, True, False, False, True, True, False, False, False, True, False, True, True, False, False, False, True, True, True, False, False, False, False, True, True, False, False, True, True, False, True], maxlen=50)\n",
      "eval_mean: 0.46\n"
     ]
    },
    {
     "name": "stderr",
     "output_type": "stream",
     "text": [
      "\r",
      " 20%|██████████████▌                                                          | 59783/300000 [44:00<4:44:09, 14.09it/s]"
     ]
    },
    {
     "name": "stdout",
     "output_type": "stream",
     "text": [
      "self.evaluation_deque: deque([True, False, False, False, True, True, True, False, True, False, True, False, False, True, False, False, True, False, False, True, True, False, False, True, True, False, False, False, True, False, True, True, False, False, False, True, True, True, False, False, False, False, True, True, False, False, True, True, False, True], maxlen=50)\n",
      "eval_mean: 0.46\n"
     ]
    },
    {
     "name": "stderr",
     "output_type": "stream",
     "text": [
      "\r",
      " 20%|██████████████▌                                                          | 59821/300000 [44:05<5:28:09, 12.20it/s]"
     ]
    },
    {
     "name": "stdout",
     "output_type": "stream",
     "text": [
      "self.evaluation_deque: deque([False, False, False, True, True, True, False, True, False, True, False, False, True, False, False, True, False, False, True, True, False, False, True, True, False, False, False, True, False, True, True, False, False, False, True, True, True, False, False, False, False, True, True, False, False, True, True, False, True, True], maxlen=50)\n",
      "eval_mean: 0.46\n"
     ]
    },
    {
     "name": "stderr",
     "output_type": "stream",
     "text": [
      "\r",
      " 20%|██████████████▌                                                          | 59916/300000 [44:11<5:01:16, 13.28it/s]"
     ]
    },
    {
     "name": "stdout",
     "output_type": "stream",
     "text": [
      "self.evaluation_deque: deque([False, False, False, True, True, True, False, True, False, True, False, False, True, False, False, True, False, False, True, True, False, False, True, True, False, False, False, True, False, True, True, False, False, False, True, True, True, False, False, False, False, True, True, False, False, True, True, False, True, True], maxlen=50)\n",
      "eval_mean: 0.46\n"
     ]
    },
    {
     "name": "stderr",
     "output_type": "stream",
     "text": [
      "\r",
      " 20%|██████████████▌                                                          | 59999/300000 [44:16<4:47:13, 13.93it/s]"
     ]
    },
    {
     "name": "stdout",
     "output_type": "stream",
     "text": [
      "self.evaluation_deque: deque([False, False, False, True, True, True, False, True, False, True, False, False, True, False, False, True, False, False, True, True, False, False, True, True, False, False, False, True, False, True, True, False, False, False, True, True, True, False, False, False, False, True, True, False, False, True, True, False, True, True], maxlen=50)\n",
      "eval_mean: 0.46\n"
     ]
    },
    {
     "name": "stderr",
     "output_type": "stream",
     "text": [
      "\r",
      " 20%|██████████████▌                                                          | 60032/300000 [44:19<4:46:17, 13.97it/s]"
     ]
    },
    {
     "name": "stdout",
     "output_type": "stream",
     "text": [
      "self.evaluation_deque: deque([False, False, False, True, True, True, False, True, False, True, False, False, True, False, False, True, False, False, True, True, False, False, True, True, False, False, False, True, False, True, True, False, False, False, True, True, True, False, False, False, False, True, True, False, False, True, True, False, True, True], maxlen=50)\n",
      "eval_mean: 0.46\n"
     ]
    },
    {
     "name": "stderr",
     "output_type": "stream",
     "text": [
      "\r",
      " 20%|██████████████▌                                                          | 60061/300000 [44:21<4:42:22, 14.16it/s]"
     ]
    },
    {
     "name": "stdout",
     "output_type": "stream",
     "text": [
      "self.evaluation_deque: deque([False, False, False, True, True, True, False, True, False, True, False, False, True, False, False, True, False, False, True, True, False, False, True, True, False, False, False, True, False, True, True, False, False, False, True, True, True, False, False, False, False, True, True, False, False, True, True, False, True, True], maxlen=50)\n",
      "eval_mean: 0.46\n"
     ]
    },
    {
     "name": "stderr",
     "output_type": "stream",
     "text": [
      "\r",
      " 20%|██████████████▋                                                          | 60123/300000 [44:32<7:08:03,  9.34it/s]"
     ]
    },
    {
     "name": "stdout",
     "output_type": "stream",
     "text": [
      "self.evaluation_deque: deque([False, False, True, True, True, False, True, False, True, False, False, True, False, False, True, False, False, True, True, False, False, True, True, False, False, False, True, False, True, True, False, False, False, True, True, True, False, False, False, False, True, True, False, False, True, True, False, True, True, False], maxlen=50)\n",
      "eval_mean: 0.46\n"
     ]
    },
    {
     "name": "stderr",
     "output_type": "stream",
     "text": [
      "\r",
      " 20%|██████████████▋                                                          | 60172/300000 [44:35<6:29:37, 10.26it/s]"
     ]
    },
    {
     "name": "stdout",
     "output_type": "stream",
     "text": [
      "self.evaluation_deque: deque([False, False, True, True, True, False, True, False, True, False, False, True, False, False, True, False, False, True, True, False, False, True, True, False, False, False, True, False, True, True, False, False, False, True, True, True, False, False, False, False, True, True, False, False, True, True, False, True, True, False], maxlen=50)\n",
      "eval_mean: 0.46\n"
     ]
    },
    {
     "name": "stderr",
     "output_type": "stream",
     "text": [
      "\r",
      " 20%|██████████████▋                                                          | 60254/300000 [44:41<5:45:53, 11.55it/s]"
     ]
    },
    {
     "name": "stdout",
     "output_type": "stream",
     "text": [
      "self.evaluation_deque: deque([False, False, True, True, True, False, True, False, True, False, False, True, False, False, True, False, False, True, True, False, False, True, True, False, False, False, True, False, True, True, False, False, False, True, True, True, False, False, False, False, True, True, False, False, True, True, False, True, True, False], maxlen=50)\n",
      "eval_mean: 0.46\n"
     ]
    },
    {
     "name": "stderr",
     "output_type": "stream",
     "text": [
      "\r",
      " 20%|██████████████▋                                                          | 60296/300000 [44:44<5:32:59, 12.00it/s]"
     ]
    },
    {
     "name": "stdout",
     "output_type": "stream",
     "text": [
      "self.evaluation_deque: deque([False, False, True, True, True, False, True, False, True, False, False, True, False, False, True, False, False, True, True, False, False, True, True, False, False, False, True, False, True, True, False, False, False, True, True, True, False, False, False, False, True, True, False, False, True, True, False, True, True, False], maxlen=50)\n",
      "eval_mean: 0.46\n"
     ]
    },
    {
     "name": "stderr",
     "output_type": "stream",
     "text": [
      "\r",
      " 20%|██████████████▋                                                          | 60320/300000 [44:46<5:26:43, 12.23it/s]"
     ]
    },
    {
     "name": "stdout",
     "output_type": "stream",
     "text": [
      "self.evaluation_deque: deque([False, False, True, True, True, False, True, False, True, False, False, True, False, False, True, False, False, True, True, False, False, True, True, False, False, False, True, False, True, True, False, False, False, True, True, True, False, False, False, False, True, True, False, False, True, True, False, True, True, False], maxlen=50)\n",
      "eval_mean: 0.46\n"
     ]
    },
    {
     "name": "stderr",
     "output_type": "stream",
     "text": [
      "\r",
      " 20%|██████████████▋                                                          | 60365/300000 [44:51<6:11:49, 10.74it/s]"
     ]
    },
    {
     "name": "stdout",
     "output_type": "stream",
     "text": [
      "self.evaluation_deque: deque([False, True, True, True, False, True, False, True, False, False, True, False, False, True, False, False, True, True, False, False, True, True, False, False, False, True, False, True, True, False, False, False, True, True, True, False, False, False, False, True, True, False, False, True, True, False, True, True, False, True], maxlen=50)\n",
      "eval_mean: 0.48\n",
      "Saving best with: 0.48\n"
     ]
    },
    {
     "name": "stderr",
     "output_type": "stream",
     "text": [
      "\r",
      " 20%|██████████████▋                                                          | 60392/300000 [44:53<5:54:12, 11.27it/s]"
     ]
    },
    {
     "name": "stdout",
     "output_type": "stream",
     "text": [
      "self.evaluation_deque: deque([False, True, True, True, False, True, False, True, False, False, True, False, False, True, False, False, True, True, False, False, True, True, False, False, False, True, False, True, True, False, False, False, True, True, True, False, False, False, False, True, True, False, False, True, True, False, True, True, False, True], maxlen=50)\n",
      "eval_mean: 0.48\n"
     ]
    },
    {
     "name": "stderr",
     "output_type": "stream",
     "text": [
      "\r",
      " 20%|██████████████▋                                                          | 60446/300000 [44:57<5:36:47, 11.85it/s]"
     ]
    },
    {
     "name": "stdout",
     "output_type": "stream",
     "text": [
      "self.evaluation_deque: deque([False, True, True, True, False, True, False, True, False, False, True, False, False, True, False, False, True, True, False, False, True, True, False, False, False, True, False, True, True, False, False, False, True, True, True, False, False, False, False, True, True, False, False, True, True, False, True, True, False, True], maxlen=50)\n",
      "eval_mean: 0.48\n"
     ]
    },
    {
     "name": "stderr",
     "output_type": "stream",
     "text": [
      "\r",
      " 20%|██████████████▋                                                          | 60487/300000 [45:00<5:20:55, 12.44it/s]"
     ]
    },
    {
     "name": "stdout",
     "output_type": "stream",
     "text": [
      "self.evaluation_deque: deque([False, True, True, True, False, True, False, True, False, False, True, False, False, True, False, False, True, True, False, False, True, True, False, False, False, True, False, True, True, False, False, False, True, True, True, False, False, False, False, True, True, False, False, True, True, False, True, True, False, True], maxlen=50)\n",
      "eval_mean: 0.48\n"
     ]
    },
    {
     "name": "stderr",
     "output_type": "stream",
     "text": [
      "\r",
      " 20%|██████████████▋                                                          | 60520/300000 [45:03<5:14:38, 12.69it/s]"
     ]
    },
    {
     "name": "stdout",
     "output_type": "stream",
     "text": [
      "self.evaluation_deque: deque([False, True, True, True, False, True, False, True, False, False, True, False, False, True, False, False, True, True, False, False, True, True, False, False, False, True, False, True, True, False, False, False, True, True, True, False, False, False, False, True, True, False, False, True, True, False, True, True, False, True], maxlen=50)\n",
      "eval_mean: 0.48\n"
     ]
    },
    {
     "name": "stderr",
     "output_type": "stream",
     "text": [
      "\r",
      " 20%|██████████████▋                                                          | 60549/300000 [45:06<5:58:46, 11.12it/s]"
     ]
    },
    {
     "name": "stdout",
     "output_type": "stream",
     "text": [
      "self.evaluation_deque: deque([True, True, True, False, True, False, True, False, False, True, False, False, True, False, False, True, True, False, False, True, True, False, False, False, True, False, True, True, False, False, False, True, True, True, False, False, False, False, True, True, False, False, True, True, False, True, True, False, True, True], maxlen=50)\n",
      "eval_mean: 0.5\n",
      "Saving best with: 0.5\n"
     ]
    },
    {
     "name": "stderr",
     "output_type": "stream",
     "text": [
      "\r",
      " 20%|██████████████▋                                                          | 60589/300000 [45:09<5:39:41, 11.75it/s]"
     ]
    },
    {
     "name": "stdout",
     "output_type": "stream",
     "text": [
      "self.evaluation_deque: deque([True, True, True, False, True, False, True, False, False, True, False, False, True, False, False, True, True, False, False, True, True, False, False, False, True, False, True, True, False, False, False, True, True, True, False, False, False, False, True, True, False, False, True, True, False, True, True, False, True, True], maxlen=50)\n",
      "eval_mean: 0.5\n"
     ]
    },
    {
     "name": "stderr",
     "output_type": "stream",
     "text": [
      "\r",
      " 20%|██████████████▊                                                          | 60680/300000 [45:16<5:13:19, 12.73it/s]"
     ]
    },
    {
     "name": "stdout",
     "output_type": "stream",
     "text": [
      "self.evaluation_deque: deque([True, True, True, False, True, False, True, False, False, True, False, False, True, False, False, True, True, False, False, True, True, False, False, False, True, False, True, True, False, False, False, True, True, True, False, False, False, False, True, True, False, False, True, True, False, True, True, False, True, True], maxlen=50)\n",
      "eval_mean: 0.5\n"
     ]
    },
    {
     "name": "stderr",
     "output_type": "stream",
     "text": [
      "\r",
      " 20%|██████████████▊                                                          | 60733/300000 [45:20<5:05:56, 13.03it/s]"
     ]
    },
    {
     "name": "stdout",
     "output_type": "stream",
     "text": [
      "self.evaluation_deque: deque([True, True, True, False, True, False, True, False, False, True, False, False, True, False, False, True, True, False, False, True, True, False, False, False, True, False, True, True, False, False, False, True, True, True, False, False, False, False, True, True, False, False, True, True, False, True, True, False, True, True], maxlen=50)\n",
      "eval_mean: 0.5\n"
     ]
    },
    {
     "name": "stderr",
     "output_type": "stream",
     "text": [
      "\r",
      " 20%|██████████████▊                                                          | 60771/300000 [45:22<4:58:31, 13.36it/s]"
     ]
    },
    {
     "name": "stdout",
     "output_type": "stream",
     "text": [
      "self.evaluation_deque: deque([True, True, True, False, True, False, True, False, False, True, False, False, True, False, False, True, True, False, False, True, True, False, False, False, True, False, True, True, False, False, False, True, True, True, False, False, False, False, True, True, False, False, True, True, False, True, True, False, True, True], maxlen=50)\n",
      "eval_mean: 0.5\n"
     ]
    },
    {
     "name": "stderr",
     "output_type": "stream",
     "text": [
      "\r",
      " 20%|██████████████▊                                                          | 60863/300000 [45:30<5:26:22, 12.21it/s]"
     ]
    },
    {
     "name": "stdout",
     "output_type": "stream",
     "text": [
      "self.evaluation_deque: deque([True, True, False, True, False, True, False, False, True, False, False, True, False, False, True, True, False, False, True, True, False, False, False, True, False, True, True, False, False, False, True, True, True, False, False, False, False, True, True, False, False, True, True, False, True, True, False, True, True, True], maxlen=50)\n",
      "eval_mean: 0.5\n"
     ]
    },
    {
     "name": "stderr",
     "output_type": "stream",
     "text": [
      "\r",
      " 20%|██████████████▊                                                          | 60959/300000 [45:38<5:15:20, 12.63it/s]"
     ]
    },
    {
     "name": "stdout",
     "output_type": "stream",
     "text": [
      "self.evaluation_deque: deque([True, True, False, True, False, True, False, False, True, False, False, True, False, False, True, True, False, False, True, True, False, False, False, True, False, True, True, False, False, False, True, True, True, False, False, False, False, True, True, False, False, True, True, False, True, True, False, True, True, True], maxlen=50)\n",
      "eval_mean: 0.5\n"
     ]
    },
    {
     "name": "stderr",
     "output_type": "stream",
     "text": [
      "\r",
      " 20%|██████████████▊                                                          | 61044/300000 [45:44<5:03:46, 13.11it/s]"
     ]
    },
    {
     "name": "stdout",
     "output_type": "stream",
     "text": [
      "self.evaluation_deque: deque([True, True, False, True, False, True, False, False, True, False, False, True, False, False, True, True, False, False, True, True, False, False, False, True, False, True, True, False, False, False, True, True, True, False, False, False, False, True, True, False, False, True, True, False, True, True, False, True, True, True], maxlen=50)\n",
      "eval_mean: 0.5\n"
     ]
    },
    {
     "name": "stderr",
     "output_type": "stream",
     "text": [
      "\r",
      " 20%|██████████████▊                                                          | 61070/300000 [45:46<5:00:15, 13.26it/s]"
     ]
    },
    {
     "name": "stdout",
     "output_type": "stream",
     "text": [
      "self.evaluation_deque: deque([True, True, False, True, False, True, False, False, True, False, False, True, False, False, True, True, False, False, True, True, False, False, False, True, False, True, True, False, False, False, True, True, True, False, False, False, False, True, True, False, False, True, True, False, True, True, False, True, True, True], maxlen=50)\n",
      "eval_mean: 0.5\n"
     ]
    },
    {
     "name": "stderr",
     "output_type": "stream",
     "text": [
      "\r",
      " 20%|██████████████▉                                                          | 61151/300000 [45:51<4:49:31, 13.75it/s]"
     ]
    },
    {
     "name": "stdout",
     "output_type": "stream",
     "text": [
      "self.evaluation_deque: deque([True, True, False, True, False, True, False, False, True, False, False, True, False, False, True, True, False, False, True, True, False, False, False, True, False, True, True, False, False, False, True, True, True, False, False, False, False, True, True, False, False, True, True, False, True, True, False, True, True, True], maxlen=50)\n",
      "eval_mean: 0.5\n"
     ]
    },
    {
     "name": "stderr",
     "output_type": "stream",
     "text": [
      "\r",
      " 20%|██████████████▉                                                          | 61203/300000 [45:57<5:33:30, 11.93it/s]"
     ]
    },
    {
     "name": "stdout",
     "output_type": "stream",
     "text": [
      "self.evaluation_deque: deque([True, False, True, False, True, False, False, True, False, False, True, False, False, True, True, False, False, True, True, False, False, False, True, False, True, True, False, False, False, True, True, True, False, False, False, False, True, True, False, False, True, True, False, True, True, False, True, True, True, False], maxlen=50)\n",
      "eval_mean: 0.48\n"
     ]
    },
    {
     "name": "stderr",
     "output_type": "stream",
     "text": [
      "\r",
      " 20%|██████████████▉                                                          | 61254/300000 [46:01<5:18:13, 12.50it/s]"
     ]
    },
    {
     "name": "stdout",
     "output_type": "stream",
     "text": [
      "self.evaluation_deque: deque([True, False, True, False, True, False, False, True, False, False, True, False, False, True, True, False, False, True, True, False, False, False, True, False, True, True, False, False, False, True, True, True, False, False, False, False, True, True, False, False, True, True, False, True, True, False, True, True, True, False], maxlen=50)\n",
      "eval_mean: 0.48\n"
     ]
    },
    {
     "name": "stderr",
     "output_type": "stream",
     "text": [
      "\r",
      " 20%|██████████████▉                                                          | 61289/300000 [46:03<5:10:14, 12.82it/s]"
     ]
    },
    {
     "name": "stdout",
     "output_type": "stream",
     "text": [
      "self.evaluation_deque: deque([True, False, True, False, True, False, False, True, False, False, True, False, False, True, True, False, False, True, True, False, False, False, True, False, True, True, False, False, False, True, True, True, False, False, False, False, True, True, False, False, True, True, False, True, True, False, True, True, True, False], maxlen=50)\n",
      "eval_mean: 0.48\n"
     ]
    },
    {
     "name": "stderr",
     "output_type": "stream",
     "text": [
      "\r",
      " 20%|██████████████▉                                                          | 61334/300000 [46:06<5:00:35, 13.23it/s]"
     ]
    },
    {
     "name": "stdout",
     "output_type": "stream",
     "text": [
      "self.evaluation_deque: deque([True, False, True, False, True, False, False, True, False, False, True, False, False, True, True, False, False, True, True, False, False, False, True, False, True, True, False, False, False, True, True, True, False, False, False, False, True, True, False, False, True, True, False, True, True, False, True, True, True, False], maxlen=50)\n",
      "eval_mean: 0.48\n"
     ]
    },
    {
     "name": "stderr",
     "output_type": "stream",
     "text": [
      "\r",
      " 20%|██████████████▉                                                          | 61386/300000 [46:10<4:53:44, 13.54it/s]"
     ]
    },
    {
     "name": "stdout",
     "output_type": "stream",
     "text": [
      "self.evaluation_deque: deque([True, False, True, False, True, False, False, True, False, False, True, False, False, True, True, False, False, True, True, False, False, False, True, False, True, True, False, False, False, True, True, True, False, False, False, False, True, True, False, False, True, True, False, True, True, False, True, True, True, False], maxlen=50)\n",
      "eval_mean: 0.48\n"
     ]
    },
    {
     "name": "stderr",
     "output_type": "stream",
     "text": [
      "\r",
      " 20%|██████████████▉                                                          | 61419/300000 [46:15<5:56:54, 11.14it/s]"
     ]
    },
    {
     "name": "stdout",
     "output_type": "stream",
     "text": [
      "self.evaluation_deque: deque([False, True, False, True, False, False, True, False, False, True, False, False, True, True, False, False, True, True, False, False, False, True, False, True, True, False, False, False, True, True, True, False, False, False, False, True, True, False, False, True, True, False, True, True, False, True, True, True, False, False], maxlen=50)\n",
      "eval_mean: 0.46\n"
     ]
    },
    {
     "name": "stderr",
     "output_type": "stream",
     "text": [
      "\r",
      " 20%|██████████████▉                                                          | 61456/300000 [46:17<5:40:47, 11.67it/s]"
     ]
    },
    {
     "name": "stdout",
     "output_type": "stream",
     "text": [
      "self.evaluation_deque: deque([False, True, False, True, False, False, True, False, False, True, False, False, True, True, False, False, True, True, False, False, False, True, False, True, True, False, False, False, True, True, True, False, False, False, False, True, True, False, False, True, True, False, True, True, False, True, True, True, False, False], maxlen=50)\n",
      "eval_mean: 0.46\n"
     ]
    },
    {
     "name": "stderr",
     "output_type": "stream",
     "text": [
      "\r",
      " 21%|██████████████▉                                                          | 61512/300000 [46:21<5:18:07, 12.49it/s]"
     ]
    },
    {
     "name": "stdout",
     "output_type": "stream",
     "text": [
      "self.evaluation_deque: deque([False, True, False, True, False, False, True, False, False, True, False, False, True, True, False, False, True, True, False, False, False, True, False, True, True, False, False, False, True, True, True, False, False, False, False, True, True, False, False, True, True, False, True, True, False, True, True, True, False, False], maxlen=50)\n",
      "eval_mean: 0.46\n"
     ]
    },
    {
     "name": "stderr",
     "output_type": "stream",
     "text": [
      "\r",
      " 21%|██████████████▉                                                          | 61546/300000 [46:24<5:08:30, 12.88it/s]"
     ]
    },
    {
     "name": "stdout",
     "output_type": "stream",
     "text": [
      "self.evaluation_deque: deque([False, True, False, True, False, False, True, False, False, True, False, False, True, True, False, False, True, True, False, False, False, True, False, True, True, False, False, False, True, True, True, False, False, False, False, True, True, False, False, True, True, False, True, True, False, True, True, True, False, False], maxlen=50)\n",
      "eval_mean: 0.46\n"
     ]
    },
    {
     "name": "stderr",
     "output_type": "stream",
     "text": [
      "\r",
      " 21%|██████████████▉                                                          | 61586/300000 [46:26<4:55:26, 13.45it/s]"
     ]
    },
    {
     "name": "stdout",
     "output_type": "stream",
     "text": [
      "self.evaluation_deque: deque([False, True, False, True, False, False, True, False, False, True, False, False, True, True, False, False, True, True, False, False, False, True, False, True, True, False, False, False, True, True, True, False, False, False, False, True, True, False, False, True, True, False, True, True, False, True, True, True, False, False], maxlen=50)\n",
      "eval_mean: 0.46\n"
     ]
    },
    {
     "name": "stderr",
     "output_type": "stream",
     "text": [
      "\r",
      " 21%|██████████████▉                                                          | 61619/300000 [46:30<5:38:52, 11.72it/s]"
     ]
    },
    {
     "name": "stdout",
     "output_type": "stream",
     "text": [
      "self.evaluation_deque: deque([True, False, True, False, False, True, False, False, True, False, False, True, True, False, False, True, True, False, False, False, True, False, True, True, False, False, False, True, True, True, False, False, False, False, True, True, False, False, True, True, False, True, True, False, True, True, True, False, False, True], maxlen=50)\n",
      "eval_mean: 0.48\n"
     ]
    },
    {
     "name": "stderr",
     "output_type": "stream",
     "text": [
      "\r",
      " 21%|███████████████                                                          | 61671/300000 [46:34<5:12:44, 12.70it/s]"
     ]
    },
    {
     "name": "stdout",
     "output_type": "stream",
     "text": [
      "self.evaluation_deque: deque([True, False, True, False, False, True, False, False, True, False, False, True, True, False, False, True, True, False, False, False, True, False, True, True, False, False, False, True, True, True, False, False, False, False, True, True, False, False, True, True, False, True, True, False, True, True, True, False, False, True], maxlen=50)\n",
      "eval_mean: 0.48\n"
     ]
    },
    {
     "name": "stderr",
     "output_type": "stream",
     "text": [
      "\r",
      " 21%|███████████████                                                          | 61739/300000 [46:39<5:07:36, 12.91it/s]"
     ]
    },
    {
     "name": "stdout",
     "output_type": "stream",
     "text": [
      "self.evaluation_deque: deque([True, False, True, False, False, True, False, False, True, False, False, True, True, False, False, True, True, False, False, False, True, False, True, True, False, False, False, True, True, True, False, False, False, False, True, True, False, False, True, True, False, True, True, False, True, True, True, False, False, True], maxlen=50)\n",
      "eval_mean: 0.48\n"
     ]
    },
    {
     "name": "stderr",
     "output_type": "stream",
     "text": [
      "\r",
      " 21%|███████████████                                                          | 61802/300000 [46:43<4:57:36, 13.34it/s]"
     ]
    },
    {
     "name": "stdout",
     "output_type": "stream",
     "text": [
      "self.evaluation_deque: deque([True, False, True, False, False, True, False, False, True, False, False, True, True, False, False, True, True, False, False, False, True, False, True, True, False, False, False, True, True, True, False, False, False, False, True, True, False, False, True, True, False, True, True, False, True, True, True, False, False, True], maxlen=50)\n",
      "eval_mean: 0.48\n"
     ]
    },
    {
     "name": "stderr",
     "output_type": "stream",
     "text": [
      "\r",
      " 21%|███████████████                                                          | 61831/300000 [46:45<4:56:26, 13.39it/s]"
     ]
    },
    {
     "name": "stdout",
     "output_type": "stream",
     "text": [
      "self.evaluation_deque: deque([True, False, True, False, False, True, False, False, True, False, False, True, True, False, False, True, True, False, False, False, True, False, True, True, False, False, False, True, True, True, False, False, False, False, True, True, False, False, True, True, False, True, True, False, True, True, True, False, False, True], maxlen=50)\n",
      "eval_mean: 0.48\n"
     ]
    },
    {
     "name": "stderr",
     "output_type": "stream",
     "text": [
      "\r",
      " 21%|███████████████                                                          | 61928/300000 [46:54<5:24:57, 12.21it/s]"
     ]
    },
    {
     "name": "stdout",
     "output_type": "stream",
     "text": [
      "self.evaluation_deque: deque([False, True, False, False, True, False, False, True, False, False, True, True, False, False, True, True, False, False, False, True, False, True, True, False, False, False, True, True, True, False, False, False, False, True, True, False, False, True, True, False, True, True, False, True, True, True, False, False, True, True], maxlen=50)\n",
      "eval_mean: 0.48\n"
     ]
    },
    {
     "name": "stderr",
     "output_type": "stream",
     "text": [
      "\r",
      " 21%|███████████████                                                          | 62005/300000 [46:59<5:07:33, 12.90it/s]"
     ]
    },
    {
     "name": "stdout",
     "output_type": "stream",
     "text": [
      "self.evaluation_deque: deque([False, True, False, False, True, False, False, True, False, False, True, True, False, False, True, True, False, False, False, True, False, True, True, False, False, False, True, True, True, False, False, False, False, True, True, False, False, True, True, False, True, True, False, True, True, True, False, False, True, True], maxlen=50)\n",
      "eval_mean: 0.48\n"
     ]
    },
    {
     "name": "stderr",
     "output_type": "stream",
     "text": [
      "\r",
      " 21%|███████████████                                                          | 62098/300000 [47:06<4:55:10, 13.43it/s]"
     ]
    },
    {
     "name": "stdout",
     "output_type": "stream",
     "text": [
      "self.evaluation_deque: deque([False, True, False, False, True, False, False, True, False, False, True, True, False, False, True, True, False, False, False, True, False, True, True, False, False, False, True, True, True, False, False, False, False, True, True, False, False, True, True, False, True, True, False, True, True, True, False, False, True, True], maxlen=50)\n",
      "eval_mean: 0.48\n"
     ]
    },
    {
     "name": "stderr",
     "output_type": "stream",
     "text": [
      "\r",
      " 21%|███████████████                                                          | 62131/300000 [47:08<4:51:24, 13.60it/s]"
     ]
    },
    {
     "name": "stdout",
     "output_type": "stream",
     "text": [
      "self.evaluation_deque: deque([False, True, False, False, True, False, False, True, False, False, True, True, False, False, True, True, False, False, False, True, False, True, True, False, False, False, True, True, True, False, False, False, False, True, True, False, False, True, True, False, True, True, False, True, True, True, False, False, True, True], maxlen=50)\n",
      "eval_mean: 0.48\n"
     ]
    },
    {
     "name": "stderr",
     "output_type": "stream",
     "text": [
      "\r",
      " 21%|███████████████▏                                                         | 62164/300000 [47:11<4:50:57, 13.62it/s]"
     ]
    },
    {
     "name": "stdout",
     "output_type": "stream",
     "text": [
      "self.evaluation_deque: deque([False, True, False, False, True, False, False, True, False, False, True, True, False, False, True, True, False, False, False, True, False, True, True, False, False, False, True, True, True, False, False, False, False, True, True, False, False, True, True, False, True, True, False, True, True, True, False, False, True, True], maxlen=50)\n",
      "eval_mean: 0.48\n"
     ]
    },
    {
     "name": "stderr",
     "output_type": "stream",
     "text": [
      "\r",
      " 21%|███████████████▏                                                         | 62193/300000 [47:15<5:50:30, 11.31it/s]"
     ]
    },
    {
     "name": "stdout",
     "output_type": "stream",
     "text": [
      "self.evaluation_deque: deque([True, False, False, True, False, False, True, False, False, True, True, False, False, True, True, False, False, False, True, False, True, True, False, False, False, True, True, True, False, False, False, False, True, True, False, False, True, True, False, True, True, False, True, True, True, False, False, True, True, False], maxlen=50)\n",
      "eval_mean: 0.48\n"
     ]
    },
    {
     "name": "stderr",
     "output_type": "stream",
     "text": [
      "\r",
      " 21%|███████████████▏                                                         | 62220/300000 [47:17<5:35:26, 11.81it/s]"
     ]
    },
    {
     "name": "stdout",
     "output_type": "stream",
     "text": [
      "self.evaluation_deque: deque([True, False, False, True, False, False, True, False, False, True, True, False, False, True, True, False, False, False, True, False, True, True, False, False, False, True, True, True, False, False, False, False, True, True, False, False, True, True, False, True, True, False, True, True, True, False, False, True, True, False], maxlen=50)\n",
      "eval_mean: 0.48\n"
     ]
    },
    {
     "name": "stderr",
     "output_type": "stream",
     "text": [
      "\r",
      " 21%|███████████████▏                                                         | 62300/300000 [47:23<5:12:01, 12.70it/s]"
     ]
    },
    {
     "name": "stdout",
     "output_type": "stream",
     "text": [
      "self.evaluation_deque: deque([True, False, False, True, False, False, True, False, False, True, True, False, False, True, True, False, False, False, True, False, True, True, False, False, False, True, True, True, False, False, False, False, True, True, False, False, True, True, False, True, True, False, True, True, True, False, False, True, True, False], maxlen=50)\n",
      "eval_mean: 0.48\n"
     ]
    },
    {
     "name": "stderr",
     "output_type": "stream",
     "text": [
      "\r",
      " 21%|███████████████▏                                                         | 62335/300000 [47:25<5:03:56, 13.03it/s]"
     ]
    },
    {
     "name": "stdout",
     "output_type": "stream",
     "text": [
      "self.evaluation_deque: deque([True, False, False, True, False, False, True, False, False, True, True, False, False, True, True, False, False, False, True, False, True, True, False, False, False, True, True, True, False, False, False, False, True, True, False, False, True, True, False, True, True, False, True, True, True, False, False, True, True, False], maxlen=50)\n",
      "eval_mean: 0.48\n"
     ]
    },
    {
     "name": "stderr",
     "output_type": "stream",
     "text": [
      "\r",
      " 21%|███████████████▏                                                         | 62392/300000 [47:29<4:51:54, 13.57it/s]"
     ]
    },
    {
     "name": "stdout",
     "output_type": "stream",
     "text": [
      "self.evaluation_deque: deque([True, False, False, True, False, False, True, False, False, True, True, False, False, True, True, False, False, False, True, False, True, True, False, False, False, True, True, True, False, False, False, False, True, True, False, False, True, True, False, True, True, False, True, True, True, False, False, True, True, False], maxlen=50)\n",
      "eval_mean: 0.48\n"
     ]
    },
    {
     "name": "stderr",
     "output_type": "stream",
     "text": [
      "\r",
      " 21%|███████████████▏                                                         | 62428/300000 [47:34<5:50:24, 11.30it/s]"
     ]
    },
    {
     "name": "stdout",
     "output_type": "stream",
     "text": [
      "self.evaluation_deque: deque([False, False, True, False, False, True, False, False, True, True, False, False, True, True, False, False, False, True, False, True, True, False, False, False, True, True, True, False, False, False, False, True, True, False, False, True, True, False, True, True, False, True, True, True, False, False, True, True, False, False], maxlen=50)\n",
      "eval_mean: 0.46\n"
     ]
    },
    {
     "name": "stderr",
     "output_type": "stream",
     "text": [
      "\r",
      " 21%|███████████████▏                                                         | 62491/300000 [47:38<5:18:35, 12.42it/s]"
     ]
    },
    {
     "name": "stdout",
     "output_type": "stream",
     "text": [
      "self.evaluation_deque: deque([False, False, True, False, False, True, False, False, True, True, False, False, True, True, False, False, False, True, False, True, True, False, False, False, True, True, True, False, False, False, False, True, True, False, False, True, True, False, True, True, False, True, True, True, False, False, True, True, False, False], maxlen=50)\n",
      "eval_mean: 0.46\n"
     ]
    },
    {
     "name": "stderr",
     "output_type": "stream",
     "text": [
      "\r",
      " 21%|███████████████▏                                                         | 62582/300000 [47:45<5:01:25, 13.13it/s]"
     ]
    },
    {
     "name": "stdout",
     "output_type": "stream",
     "text": [
      "self.evaluation_deque: deque([False, False, True, False, False, True, False, False, True, True, False, False, True, True, False, False, False, True, False, True, True, False, False, False, True, True, True, False, False, False, False, True, True, False, False, True, True, False, True, True, False, True, True, True, False, False, True, True, False, False], maxlen=50)\n",
      "eval_mean: 0.46\n"
     ]
    },
    {
     "name": "stderr",
     "output_type": "stream",
     "text": [
      "\r",
      " 21%|███████████████▏                                                         | 62620/300000 [47:47<4:57:33, 13.30it/s]"
     ]
    },
    {
     "name": "stdout",
     "output_type": "stream",
     "text": [
      "self.evaluation_deque: deque([False, False, True, False, False, True, False, False, True, True, False, False, True, True, False, False, False, True, False, True, True, False, False, False, True, True, True, False, False, False, False, True, True, False, False, True, True, False, True, True, False, True, True, True, False, False, True, True, False, False], maxlen=50)\n",
      "eval_mean: 0.46\n"
     ]
    },
    {
     "name": "stderr",
     "output_type": "stream",
     "text": [
      "\r",
      " 21%|███████████████▎                                                         | 62706/300000 [47:53<4:49:54, 13.64it/s]"
     ]
    },
    {
     "name": "stdout",
     "output_type": "stream",
     "text": [
      "self.evaluation_deque: deque([False, False, True, False, False, True, False, False, True, True, False, False, True, True, False, False, False, True, False, True, True, False, False, False, True, True, True, False, False, False, False, True, True, False, False, True, True, False, True, True, False, True, True, True, False, False, True, True, False, False], maxlen=50)\n",
      "eval_mean: 0.46\n"
     ]
    },
    {
     "name": "stderr",
     "output_type": "stream",
     "text": [
      "\r",
      " 21%|███████████████▎                                                         | 62745/300000 [47:58<5:36:04, 11.77it/s]"
     ]
    },
    {
     "name": "stdout",
     "output_type": "stream",
     "text": [
      "self.evaluation_deque: deque([False, True, False, False, True, False, False, True, True, False, False, True, True, False, False, False, True, False, True, True, False, False, False, True, True, True, False, False, False, False, True, True, False, False, True, True, False, True, True, False, True, True, True, False, False, True, True, False, False, False], maxlen=50)\n",
      "eval_mean: 0.46\n"
     ]
    },
    {
     "name": "stderr",
     "output_type": "stream",
     "text": [
      "\r",
      " 21%|███████████████▎                                                         | 62807/300000 [48:03<5:17:04, 12.47it/s]"
     ]
    },
    {
     "name": "stdout",
     "output_type": "stream",
     "text": [
      "self.evaluation_deque: deque([False, True, False, False, True, False, False, True, True, False, False, True, True, False, False, False, True, False, True, True, False, False, False, True, True, True, False, False, False, False, True, True, False, False, True, True, False, True, True, False, True, True, True, False, False, True, True, False, False, False], maxlen=50)\n",
      "eval_mean: 0.46\n"
     ]
    },
    {
     "name": "stderr",
     "output_type": "stream",
     "text": [
      "\r",
      " 21%|███████████████▎                                                         | 62843/300000 [48:05<5:07:59, 12.83it/s]"
     ]
    },
    {
     "name": "stdout",
     "output_type": "stream",
     "text": [
      "self.evaluation_deque: deque([False, True, False, False, True, False, False, True, True, False, False, True, True, False, False, False, True, False, True, True, False, False, False, True, True, True, False, False, False, False, True, True, False, False, True, True, False, True, True, False, True, True, True, False, False, True, True, False, False, False], maxlen=50)\n",
      "eval_mean: 0.46\n"
     ]
    },
    {
     "name": "stderr",
     "output_type": "stream",
     "text": [
      "\r",
      " 21%|███████████████▎                                                         | 62879/300000 [48:08<4:58:56, 13.22it/s]"
     ]
    },
    {
     "name": "stdout",
     "output_type": "stream",
     "text": [
      "self.evaluation_deque: deque([False, True, False, False, True, False, False, True, True, False, False, True, True, False, False, False, True, False, True, True, False, False, False, True, True, True, False, False, False, False, True, True, False, False, True, True, False, True, True, False, True, True, True, False, False, True, True, False, False, False], maxlen=50)\n",
      "eval_mean: 0.46\n"
     ]
    },
    {
     "name": "stderr",
     "output_type": "stream",
     "text": [
      "\r",
      " 21%|███████████████▎                                                         | 62920/300000 [48:10<4:50:45, 13.59it/s]"
     ]
    },
    {
     "name": "stdout",
     "output_type": "stream",
     "text": [
      "self.evaluation_deque: deque([False, True, False, False, True, False, False, True, True, False, False, True, True, False, False, False, True, False, True, True, False, False, False, True, True, True, False, False, False, False, True, True, False, False, True, True, False, True, True, False, True, True, True, False, False, True, True, False, False, False], maxlen=50)\n",
      "eval_mean: 0.46\n"
     ]
    },
    {
     "name": "stderr",
     "output_type": "stream",
     "text": [
      "\r",
      " 21%|███████████████▎                                                         | 62959/300000 [48:15<5:30:46, 11.94it/s]"
     ]
    },
    {
     "name": "stdout",
     "output_type": "stream",
     "text": [
      "self.evaluation_deque: deque([True, False, False, True, False, False, True, True, False, False, True, True, False, False, False, True, False, True, True, False, False, False, True, True, True, False, False, False, False, True, True, False, False, True, True, False, True, True, False, True, True, True, False, False, True, True, False, False, False, True], maxlen=50)\n",
      "eval_mean: 0.48\n"
     ]
    },
    {
     "name": "stderr",
     "output_type": "stream",
     "text": [
      "\r",
      " 21%|███████████████▎                                                         | 63056/300000 [48:22<5:03:55, 12.99it/s]"
     ]
    },
    {
     "name": "stdout",
     "output_type": "stream",
     "text": [
      "self.evaluation_deque: deque([True, False, False, True, False, False, True, True, False, False, True, True, False, False, False, True, False, True, True, False, False, False, True, True, True, False, False, False, False, True, True, False, False, True, True, False, True, True, False, True, True, True, False, False, True, True, False, False, False, True], maxlen=50)\n",
      "eval_mean: 0.48\n"
     ]
    },
    {
     "name": "stderr",
     "output_type": "stream",
     "text": [
      "\r",
      " 21%|███████████████▎                                                         | 63088/300000 [48:24<4:58:41, 13.22it/s]"
     ]
    },
    {
     "name": "stdout",
     "output_type": "stream",
     "text": [
      "self.evaluation_deque: deque([True, False, False, True, False, False, True, True, False, False, True, True, False, False, False, True, False, True, True, False, False, False, True, True, True, False, False, False, False, True, True, False, False, True, True, False, True, True, False, True, True, True, False, False, True, True, False, False, False, True], maxlen=50)\n",
      "eval_mean: 0.48\n"
     ]
    },
    {
     "name": "stderr",
     "output_type": "stream",
     "text": [
      "\r",
      " 21%|███████████████▎                                                         | 63124/300000 [48:26<4:52:08, 13.51it/s]"
     ]
    },
    {
     "name": "stdout",
     "output_type": "stream",
     "text": [
      "self.evaluation_deque: deque([True, False, False, True, False, False, True, True, False, False, True, True, False, False, False, True, False, True, True, False, False, False, True, True, True, False, False, False, False, True, True, False, False, True, True, False, True, True, False, True, True, True, False, False, True, True, False, False, False, True], maxlen=50)\n",
      "eval_mean: 0.48\n"
     ]
    },
    {
     "name": "stderr",
     "output_type": "stream",
     "text": [
      "\r",
      " 21%|███████████████▎                                                         | 63159/300000 [48:29<4:47:31, 13.73it/s]"
     ]
    },
    {
     "name": "stdout",
     "output_type": "stream",
     "text": [
      "self.evaluation_deque: deque([True, False, False, True, False, False, True, True, False, False, True, True, False, False, False, True, False, True, True, False, False, False, True, True, True, False, False, False, False, True, True, False, False, True, True, False, True, True, False, True, True, True, False, False, True, True, False, False, False, True], maxlen=50)\n",
      "eval_mean: 0.48\n"
     ]
    },
    {
     "name": "stderr",
     "output_type": "stream",
     "text": [
      "\r",
      " 21%|███████████████▍                                                         | 63221/300000 [48:35<5:31:59, 11.89it/s]"
     ]
    },
    {
     "name": "stdout",
     "output_type": "stream",
     "text": [
      "self.evaluation_deque: deque([False, False, True, False, False, True, True, False, False, True, True, False, False, False, True, False, True, True, False, False, False, True, True, True, False, False, False, False, True, True, False, False, True, True, False, True, True, False, True, True, True, False, False, True, True, False, False, False, True, False], maxlen=50)\n",
      "eval_mean: 0.46\n"
     ]
    },
    {
     "name": "stderr",
     "output_type": "stream",
     "text": [
      "\r",
      " 21%|███████████████▍                                                         | 63261/300000 [48:38<5:17:30, 12.43it/s]"
     ]
    },
    {
     "name": "stdout",
     "output_type": "stream",
     "text": [
      "self.evaluation_deque: deque([False, False, True, False, False, True, True, False, False, True, True, False, False, False, True, False, True, True, False, False, False, True, True, True, False, False, False, False, True, True, False, False, True, True, False, True, True, False, True, True, True, False, False, True, True, False, False, False, True, False], maxlen=50)\n",
      "eval_mean: 0.46\n"
     ]
    },
    {
     "name": "stderr",
     "output_type": "stream",
     "text": [
      "\r",
      " 21%|███████████████▍                                                         | 63327/300000 [48:43<5:03:45, 12.99it/s]"
     ]
    },
    {
     "name": "stdout",
     "output_type": "stream",
     "text": [
      "self.evaluation_deque: deque([False, False, True, False, False, True, True, False, False, True, True, False, False, False, True, False, True, True, False, False, False, True, True, True, False, False, False, False, True, True, False, False, True, True, False, True, True, False, True, True, True, False, False, True, True, False, False, False, True, False], maxlen=50)\n",
      "eval_mean: 0.46\n"
     ]
    },
    {
     "name": "stderr",
     "output_type": "stream",
     "text": [
      "\r",
      " 21%|███████████████▍                                                         | 63360/300000 [48:45<4:58:52, 13.20it/s]"
     ]
    },
    {
     "name": "stdout",
     "output_type": "stream",
     "text": [
      "self.evaluation_deque: deque([False, False, True, False, False, True, True, False, False, True, True, False, False, False, True, False, True, True, False, False, False, True, True, True, False, False, False, False, True, True, False, False, True, True, False, True, True, False, True, True, True, False, False, True, True, False, False, False, True, False], maxlen=50)\n",
      "eval_mean: 0.46\n"
     ]
    },
    {
     "name": "stderr",
     "output_type": "stream",
     "text": [
      "\r",
      " 21%|███████████████▍                                                         | 63387/300000 [48:47<4:53:37, 13.43it/s]"
     ]
    },
    {
     "name": "stdout",
     "output_type": "stream",
     "text": [
      "self.evaluation_deque: deque([False, False, True, False, False, True, True, False, False, True, True, False, False, False, True, False, True, True, False, False, False, True, True, True, False, False, False, False, True, True, False, False, True, True, False, True, True, False, True, True, True, False, False, True, True, False, False, False, True, False], maxlen=50)\n",
      "eval_mean: 0.46\n"
     ]
    },
    {
     "name": "stderr",
     "output_type": "stream",
     "text": [
      "\r",
      " 21%|███████████████▍                                                         | 63485/300000 [48:55<5:18:08, 12.39it/s]"
     ]
    },
    {
     "name": "stdout",
     "output_type": "stream",
     "text": [
      "self.evaluation_deque: deque([False, True, False, False, True, True, False, False, True, True, False, False, False, True, False, True, True, False, False, False, True, True, True, False, False, False, False, True, True, False, False, True, True, False, True, True, False, True, True, True, False, False, True, True, False, False, False, True, False, False], maxlen=50)\n",
      "eval_mean: 0.46\n"
     ]
    },
    {
     "name": "stderr",
     "output_type": "stream",
     "text": [
      "\r",
      " 21%|███████████████▍                                                         | 63542/300000 [48:59<5:04:51, 12.93it/s]"
     ]
    },
    {
     "name": "stdout",
     "output_type": "stream",
     "text": [
      "self.evaluation_deque: deque([False, True, False, False, True, True, False, False, True, True, False, False, False, True, False, True, True, False, False, False, True, True, True, False, False, False, False, True, True, False, False, True, True, False, True, True, False, True, True, True, False, False, True, True, False, False, False, True, False, False], maxlen=50)\n",
      "eval_mean: 0.46\n"
     ]
    },
    {
     "name": "stderr",
     "output_type": "stream",
     "text": [
      "\r",
      " 21%|███████████████▍                                                         | 63571/300000 [49:01<5:00:29, 13.11it/s]"
     ]
    },
    {
     "name": "stdout",
     "output_type": "stream",
     "text": [
      "self.evaluation_deque: deque([False, True, False, False, True, True, False, False, True, True, False, False, False, True, False, True, True, False, False, False, True, True, True, False, False, False, False, True, True, False, False, True, True, False, True, True, False, True, True, True, False, False, True, True, False, False, False, True, False, False], maxlen=50)\n",
      "eval_mean: 0.46\n"
     ]
    },
    {
     "name": "stderr",
     "output_type": "stream",
     "text": [
      "\r",
      " 21%|███████████████▍                                                         | 63598/300000 [49:03<4:57:17, 13.25it/s]"
     ]
    },
    {
     "name": "stdout",
     "output_type": "stream",
     "text": [
      "self.evaluation_deque: deque([False, True, False, False, True, True, False, False, True, True, False, False, False, True, False, True, True, False, False, False, True, True, True, False, False, False, False, True, True, False, False, True, True, False, True, True, False, True, True, True, False, False, True, True, False, False, False, True, False, False], maxlen=50)\n",
      "eval_mean: 0.46\n"
     ]
    },
    {
     "name": "stderr",
     "output_type": "stream",
     "text": [
      "\r",
      " 21%|███████████████▍                                                         | 63629/300000 [49:05<4:50:37, 13.56it/s]"
     ]
    },
    {
     "name": "stdout",
     "output_type": "stream",
     "text": [
      "self.evaluation_deque: deque([False, True, False, False, True, True, False, False, True, True, False, False, False, True, False, True, True, False, False, False, True, True, True, False, False, False, False, True, True, False, False, True, True, False, True, True, False, True, True, True, False, False, True, True, False, False, False, True, False, False], maxlen=50)\n",
      "eval_mean: 0.46\n"
     ]
    },
    {
     "name": "stderr",
     "output_type": "stream",
     "text": [
      "\r",
      " 21%|███████████████▍                                                         | 63683/300000 [49:15<7:20:44,  8.94it/s]"
     ]
    },
    {
     "name": "stdout",
     "output_type": "stream",
     "text": [
      "self.evaluation_deque: deque([True, False, False, True, True, False, False, True, True, False, False, False, True, False, True, True, False, False, False, True, True, True, False, False, False, False, True, True, False, False, True, True, False, True, True, False, True, True, True, False, False, True, True, False, False, False, True, False, False, True], maxlen=50)\n",
      "eval_mean: 0.48\n"
     ]
    },
    {
     "name": "stderr",
     "output_type": "stream",
     "text": [
      "\r",
      " 21%|███████████████▌                                                         | 63718/300000 [49:17<6:37:05,  9.92it/s]"
     ]
    },
    {
     "name": "stdout",
     "output_type": "stream",
     "text": [
      "self.evaluation_deque: deque([True, False, False, True, True, False, False, True, True, False, False, False, True, False, True, True, False, False, False, True, True, True, False, False, False, False, True, True, False, False, True, True, False, True, True, False, True, True, True, False, False, True, True, False, False, False, True, False, False, True], maxlen=50)\n",
      "eval_mean: 0.48\n"
     ]
    },
    {
     "name": "stderr",
     "output_type": "stream",
     "text": [
      "\r",
      " 21%|███████████████▌                                                         | 63761/300000 [49:20<5:56:39, 11.04it/s]"
     ]
    },
    {
     "name": "stdout",
     "output_type": "stream",
     "text": [
      "self.evaluation_deque: deque([True, False, False, True, True, False, False, True, True, False, False, False, True, False, True, True, False, False, False, True, True, True, False, False, False, False, True, True, False, False, True, True, False, True, True, False, True, True, True, False, False, True, True, False, False, False, True, False, False, True], maxlen=50)\n",
      "eval_mean: 0.48\n"
     ]
    },
    {
     "name": "stderr",
     "output_type": "stream",
     "text": [
      "\r",
      " 21%|███████████████▌                                                         | 63808/300000 [49:23<5:29:44, 11.94it/s]"
     ]
    },
    {
     "name": "stdout",
     "output_type": "stream",
     "text": [
      "self.evaluation_deque: deque([True, False, False, True, True, False, False, True, True, False, False, False, True, False, True, True, False, False, False, True, True, True, False, False, False, False, True, True, False, False, True, True, False, True, True, False, True, True, True, False, False, True, True, False, False, False, True, False, False, True], maxlen=50)\n",
      "eval_mean: 0.48\n"
     ]
    },
    {
     "name": "stderr",
     "output_type": "stream",
     "text": [
      "\r",
      " 21%|███████████████▌                                                         | 63858/300000 [49:27<5:11:35, 12.63it/s]"
     ]
    },
    {
     "name": "stdout",
     "output_type": "stream",
     "text": [
      "self.evaluation_deque: deque([True, False, False, True, True, False, False, True, True, False, False, False, True, False, True, True, False, False, False, True, True, True, False, False, False, False, True, True, False, False, True, True, False, True, True, False, True, True, True, False, False, True, True, False, False, False, True, False, False, True], maxlen=50)\n",
      "eval_mean: 0.48\n"
     ]
    },
    {
     "name": "stderr",
     "output_type": "stream",
     "text": [
      "\r",
      " 21%|███████████████▌                                                         | 63893/300000 [49:31<5:49:47, 11.25it/s]"
     ]
    },
    {
     "name": "stdout",
     "output_type": "stream",
     "text": [
      "self.evaluation_deque: deque([False, False, True, True, False, False, True, True, False, False, False, True, False, True, True, False, False, False, True, True, True, False, False, False, False, True, True, False, False, True, True, False, True, True, False, True, True, True, False, False, True, True, False, False, False, True, False, False, True, True], maxlen=50)\n",
      "eval_mean: 0.48\n"
     ]
    },
    {
     "name": "stderr",
     "output_type": "stream",
     "text": [
      "\r",
      " 21%|███████████████▌                                                         | 63986/300000 [49:38<5:13:43, 12.54it/s]"
     ]
    },
    {
     "name": "stdout",
     "output_type": "stream",
     "text": [
      "self.evaluation_deque: deque([False, False, True, True, False, False, True, True, False, False, False, True, False, True, True, False, False, False, True, True, True, False, False, False, False, True, True, False, False, True, True, False, True, True, False, True, True, True, False, False, True, True, False, False, False, True, False, False, True, True], maxlen=50)\n",
      "eval_mean: 0.48\n"
     ]
    },
    {
     "name": "stderr",
     "output_type": "stream",
     "text": [
      "\r",
      " 21%|███████████████▌                                                         | 64034/300000 [49:41<5:00:56, 13.07it/s]"
     ]
    },
    {
     "name": "stdout",
     "output_type": "stream",
     "text": [
      "self.evaluation_deque: deque([False, False, True, True, False, False, True, True, False, False, False, True, False, True, True, False, False, False, True, True, True, False, False, False, False, True, True, False, False, True, True, False, True, True, False, True, True, True, False, False, True, True, False, False, False, True, False, False, True, True], maxlen=50)\n",
      "eval_mean: 0.48\n"
     ]
    },
    {
     "name": "stderr",
     "output_type": "stream",
     "text": [
      "\r",
      " 21%|███████████████▌                                                         | 64069/300000 [49:43<4:53:47, 13.38it/s]"
     ]
    },
    {
     "name": "stdout",
     "output_type": "stream",
     "text": [
      "self.evaluation_deque: deque([False, False, True, True, False, False, True, True, False, False, False, True, False, True, True, False, False, False, True, True, True, False, False, False, False, True, True, False, False, True, True, False, True, True, False, True, True, True, False, False, True, True, False, False, False, True, False, False, True, True], maxlen=50)\n",
      "eval_mean: 0.48\n"
     ]
    },
    {
     "name": "stderr",
     "output_type": "stream",
     "text": [
      "\r",
      " 21%|███████████████▌                                                         | 64106/300000 [49:46<4:45:04, 13.79it/s]"
     ]
    },
    {
     "name": "stdout",
     "output_type": "stream",
     "text": [
      "self.evaluation_deque: deque([False, False, True, True, False, False, True, True, False, False, False, True, False, True, True, False, False, False, True, True, True, False, False, False, False, True, True, False, False, True, True, False, True, True, False, True, True, True, False, False, True, True, False, False, False, True, False, False, True, True], maxlen=50)\n",
      "eval_mean: 0.48\n"
     ]
    },
    {
     "name": "stderr",
     "output_type": "stream",
     "text": [
      "\r",
      " 21%|███████████████▌                                                         | 64139/300000 [49:50<5:47:01, 11.33it/s]"
     ]
    },
    {
     "name": "stdout",
     "output_type": "stream",
     "text": [
      "self.evaluation_deque: deque([False, True, True, False, False, True, True, False, False, False, True, False, True, True, False, False, False, True, True, True, False, False, False, False, True, True, False, False, True, True, False, True, True, False, True, True, True, False, False, True, True, False, False, False, True, False, False, True, True, False], maxlen=50)\n",
      "eval_mean: 0.48\n"
     ]
    },
    {
     "name": "stderr",
     "output_type": "stream",
     "text": [
      "\r",
      " 21%|███████████████▌                                                         | 64175/300000 [49:53<5:28:05, 11.98it/s]"
     ]
    },
    {
     "name": "stdout",
     "output_type": "stream",
     "text": [
      "self.evaluation_deque: deque([False, True, True, False, False, True, True, False, False, False, True, False, True, True, False, False, False, True, True, True, False, False, False, False, True, True, False, False, True, True, False, True, True, False, True, True, True, False, False, True, True, False, False, False, True, False, False, True, True, False], maxlen=50)\n",
      "eval_mean: 0.48\n"
     ]
    },
    {
     "name": "stderr",
     "output_type": "stream",
     "text": [
      "\r",
      " 21%|███████████████▌                                                         | 64206/300000 [49:55<5:12:40, 12.57it/s]"
     ]
    },
    {
     "name": "stdout",
     "output_type": "stream",
     "text": [
      "self.evaluation_deque: deque([False, True, True, False, False, True, True, False, False, False, True, False, True, True, False, False, False, True, True, True, False, False, False, False, True, True, False, False, True, True, False, True, True, False, True, True, True, False, False, True, True, False, False, False, True, False, False, True, True, False], maxlen=50)\n",
      "eval_mean: 0.48\n"
     ]
    },
    {
     "name": "stderr",
     "output_type": "stream",
     "text": [
      "\r",
      " 21%|███████████████▋                                                         | 64280/300000 [50:00<4:51:36, 13.47it/s]"
     ]
    },
    {
     "name": "stdout",
     "output_type": "stream",
     "text": [
      "self.evaluation_deque: deque([False, True, True, False, False, True, True, False, False, False, True, False, True, True, False, False, False, True, True, True, False, False, False, False, True, True, False, False, True, True, False, True, True, False, True, True, True, False, False, True, True, False, False, False, True, False, False, True, True, False], maxlen=50)\n",
      "eval_mean: 0.48\n"
     ]
    },
    {
     "name": "stderr",
     "output_type": "stream",
     "text": [
      "\r",
      " 21%|███████████████▋                                                         | 64329/300000 [50:03<4:42:24, 13.91it/s]"
     ]
    },
    {
     "name": "stdout",
     "output_type": "stream",
     "text": [
      "self.evaluation_deque: deque([False, True, True, False, False, True, True, False, False, False, True, False, True, True, False, False, False, True, True, True, False, False, False, False, True, True, False, False, True, True, False, True, True, False, True, True, True, False, False, True, True, False, False, False, True, False, False, True, True, False], maxlen=50)\n",
      "eval_mean: 0.48\n"
     ]
    },
    {
     "name": "stderr",
     "output_type": "stream",
     "text": [
      "\r",
      " 21%|███████████████▋                                                         | 64377/300000 [50:09<5:28:54, 11.94it/s]"
     ]
    },
    {
     "name": "stdout",
     "output_type": "stream",
     "text": [
      "self.evaluation_deque: deque([True, True, False, False, True, True, False, False, False, True, False, True, True, False, False, False, True, True, True, False, False, False, False, True, True, False, False, True, True, False, True, True, False, True, True, True, False, False, True, True, False, False, False, True, False, False, True, True, False, False], maxlen=50)\n",
      "eval_mean: 0.48\n"
     ]
    },
    {
     "name": "stderr",
     "output_type": "stream",
     "text": [
      "\r",
      " 21%|███████████████▋                                                         | 64457/300000 [50:14<5:02:50, 12.96it/s]"
     ]
    },
    {
     "name": "stdout",
     "output_type": "stream",
     "text": [
      "self.evaluation_deque: deque([True, True, False, False, True, True, False, False, False, True, False, True, True, False, False, False, True, True, True, False, False, False, False, True, True, False, False, True, True, False, True, True, False, True, True, True, False, False, True, True, False, False, False, True, False, False, True, True, False, False], maxlen=50)\n",
      "eval_mean: 0.48\n"
     ]
    },
    {
     "name": "stderr",
     "output_type": "stream",
     "text": [
      "\r",
      " 22%|███████████████▋                                                         | 64546/300000 [50:20<4:50:07, 13.53it/s]"
     ]
    },
    {
     "name": "stdout",
     "output_type": "stream",
     "text": [
      "self.evaluation_deque: deque([True, True, False, False, True, True, False, False, False, True, False, True, True, False, False, False, True, True, True, False, False, False, False, True, True, False, False, True, True, False, True, True, False, True, True, True, False, False, True, True, False, False, False, True, False, False, True, True, False, False], maxlen=50)\n",
      "eval_mean: 0.48\n"
     ]
    },
    {
     "name": "stderr",
     "output_type": "stream",
     "text": [
      "\r",
      " 22%|███████████████▋                                                         | 64637/300000 [50:26<4:43:28, 13.84it/s]"
     ]
    },
    {
     "name": "stdout",
     "output_type": "stream",
     "text": [
      "self.evaluation_deque: deque([True, True, False, False, True, True, False, False, False, True, False, True, True, False, False, False, True, True, True, False, False, False, False, True, True, False, False, True, True, False, True, True, False, True, True, True, False, False, True, True, False, False, False, True, False, False, True, True, False, False], maxlen=50)\n",
      "eval_mean: 0.48\n"
     ]
    },
    {
     "name": "stderr",
     "output_type": "stream",
     "text": [
      "\r",
      " 22%|███████████████▋                                                         | 64701/300000 [50:31<4:40:26, 13.98it/s]"
     ]
    },
    {
     "name": "stdout",
     "output_type": "stream",
     "text": [
      "self.evaluation_deque: deque([True, True, False, False, True, True, False, False, False, True, False, True, True, False, False, False, True, True, True, False, False, False, False, True, True, False, False, True, True, False, True, True, False, True, True, True, False, False, True, True, False, False, False, True, False, False, True, True, False, False], maxlen=50)\n",
      "eval_mean: 0.48\n"
     ]
    },
    {
     "name": "stderr",
     "output_type": "stream",
     "text": [
      "\r",
      " 22%|███████████████▊                                                         | 64764/300000 [50:38<5:19:47, 12.26it/s]"
     ]
    },
    {
     "name": "stdout",
     "output_type": "stream",
     "text": [
      "self.evaluation_deque: deque([True, False, False, True, True, False, False, False, True, False, True, True, False, False, False, True, True, True, False, False, False, False, True, True, False, False, True, True, False, True, True, False, True, True, True, False, False, True, True, False, False, False, True, False, False, True, True, False, False, False], maxlen=50)\n",
      "eval_mean: 0.46\n"
     ]
    },
    {
     "name": "stderr",
     "output_type": "stream",
     "text": [
      "\r",
      " 22%|███████████████▊                                                         | 64799/300000 [50:40<5:11:15, 12.59it/s]"
     ]
    },
    {
     "name": "stdout",
     "output_type": "stream",
     "text": [
      "self.evaluation_deque: deque([True, False, False, True, True, False, False, False, True, False, True, True, False, False, False, True, True, True, False, False, False, False, True, True, False, False, True, True, False, True, True, False, True, True, True, False, False, True, True, False, False, False, True, False, False, True, True, False, False, False], maxlen=50)\n",
      "eval_mean: 0.46\n"
     ]
    },
    {
     "name": "stderr",
     "output_type": "stream",
     "text": [
      "\r",
      " 22%|███████████████▊                                                         | 64889/300000 [50:46<4:52:44, 13.39it/s]"
     ]
    },
    {
     "name": "stdout",
     "output_type": "stream",
     "text": [
      "self.evaluation_deque: deque([True, False, False, True, True, False, False, False, True, False, True, True, False, False, False, True, True, True, False, False, False, False, True, True, False, False, True, True, False, True, True, False, True, True, True, False, False, True, True, False, False, False, True, False, False, True, True, False, False, False], maxlen=50)\n",
      "eval_mean: 0.46\n"
     ]
    },
    {
     "name": "stderr",
     "output_type": "stream",
     "text": [
      "\r",
      " 22%|███████████████▊                                                         | 64924/300000 [50:49<4:49:26, 13.54it/s]"
     ]
    },
    {
     "name": "stdout",
     "output_type": "stream",
     "text": [
      "self.evaluation_deque: deque([True, False, False, True, True, False, False, False, True, False, True, True, False, False, False, True, True, True, False, False, False, False, True, True, False, False, True, True, False, True, True, False, True, True, True, False, False, True, True, False, False, False, True, False, False, True, True, False, False, False], maxlen=50)\n",
      "eval_mean: 0.46\n"
     ]
    },
    {
     "name": "stderr",
     "output_type": "stream",
     "text": [
      "\r",
      " 22%|███████████████▊                                                         | 65022/300000 [50:55<4:37:56, 14.09it/s]"
     ]
    },
    {
     "name": "stdout",
     "output_type": "stream",
     "text": [
      "self.evaluation_deque: deque([True, False, False, True, True, False, False, False, True, False, True, True, False, False, False, True, True, True, False, False, False, False, True, True, False, False, True, True, False, True, True, False, True, True, True, False, False, True, True, False, False, False, True, False, False, True, True, False, False, False], maxlen=50)\n",
      "eval_mean: 0.46\n"
     ]
    },
    {
     "name": "stderr",
     "output_type": "stream",
     "text": [
      "\r",
      " 22%|███████████████▊                                                         | 65055/300000 [51:00<5:20:41, 12.21it/s]"
     ]
    },
    {
     "name": "stdout",
     "output_type": "stream",
     "text": [
      "self.evaluation_deque: deque([False, False, True, True, False, False, False, True, False, True, True, False, False, False, True, True, True, False, False, False, False, True, True, False, False, True, True, False, True, True, False, True, True, True, False, False, True, True, False, False, False, True, False, False, True, True, False, False, False, False], maxlen=50)\n",
      "eval_mean: 0.44\n"
     ]
    },
    {
     "name": "stderr",
     "output_type": "stream",
     "text": [
      "\r",
      " 22%|███████████████▊                                                         | 65147/300000 [51:06<5:00:47, 13.01it/s]"
     ]
    },
    {
     "name": "stdout",
     "output_type": "stream",
     "text": [
      "self.evaluation_deque: deque([False, False, True, True, False, False, False, True, False, True, True, False, False, False, True, True, True, False, False, False, False, True, True, False, False, True, True, False, True, True, False, True, True, True, False, False, True, True, False, False, False, True, False, False, True, True, False, False, False, False], maxlen=50)\n",
      "eval_mean: 0.44\n"
     ]
    },
    {
     "name": "stderr",
     "output_type": "stream",
     "text": [
      "\r",
      " 22%|███████████████▊                                                         | 65235/300000 [51:12<4:50:06, 13.49it/s]"
     ]
    },
    {
     "name": "stdout",
     "output_type": "stream",
     "text": [
      "self.evaluation_deque: deque([False, False, True, True, False, False, False, True, False, True, True, False, False, False, True, True, True, False, False, False, False, True, True, False, False, True, True, False, True, True, False, True, True, True, False, False, True, True, False, False, False, True, False, False, True, True, False, False, False, False], maxlen=50)\n",
      "eval_mean: 0.44\n"
     ]
    },
    {
     "name": "stderr",
     "output_type": "stream",
     "text": [
      "\r",
      " 22%|███████████████▉                                                         | 65273/300000 [51:15<4:47:13, 13.62it/s]"
     ]
    },
    {
     "name": "stdout",
     "output_type": "stream",
     "text": [
      "self.evaluation_deque: deque([False, False, True, True, False, False, False, True, False, True, True, False, False, False, True, True, True, False, False, False, False, True, True, False, False, True, True, False, True, True, False, True, True, True, False, False, True, True, False, False, False, True, False, False, True, True, False, False, False, False], maxlen=50)\n",
      "eval_mean: 0.44\n"
     ]
    },
    {
     "name": "stderr",
     "output_type": "stream",
     "text": [
      "\r",
      " 22%|███████████████▉                                                         | 65309/300000 [51:17<4:43:19, 13.81it/s]"
     ]
    },
    {
     "name": "stdout",
     "output_type": "stream",
     "text": [
      "self.evaluation_deque: deque([False, False, True, True, False, False, False, True, False, True, True, False, False, False, True, True, True, False, False, False, False, True, True, False, False, True, True, False, True, True, False, True, True, True, False, False, True, True, False, False, False, True, False, False, True, True, False, False, False, False], maxlen=50)\n",
      "eval_mean: 0.44\n"
     ]
    },
    {
     "name": "stderr",
     "output_type": "stream",
     "text": [
      "\r",
      " 22%|███████████████▉                                                         | 65375/300000 [51:24<5:18:59, 12.26it/s]"
     ]
    },
    {
     "name": "stdout",
     "output_type": "stream",
     "text": [
      "self.evaluation_deque: deque([False, True, True, False, False, False, True, False, True, True, False, False, False, True, True, True, False, False, False, False, True, True, False, False, True, True, False, True, True, False, True, True, True, False, False, True, True, False, False, False, True, False, False, True, True, False, False, False, False, False], maxlen=50)\n",
      "eval_mean: 0.44\n"
     ]
    },
    {
     "name": "stderr",
     "output_type": "stream",
     "text": [
      "\r",
      " 22%|███████████████▉                                                         | 65428/300000 [51:28<5:05:06, 12.81it/s]"
     ]
    },
    {
     "name": "stdout",
     "output_type": "stream",
     "text": [
      "self.evaluation_deque: deque([False, True, True, False, False, False, True, False, True, True, False, False, False, True, True, True, False, False, False, False, True, True, False, False, True, True, False, True, True, False, True, True, True, False, False, True, True, False, False, False, True, False, False, True, True, False, False, False, False, False], maxlen=50)\n",
      "eval_mean: 0.44\n"
     ]
    },
    {
     "name": "stderr",
     "output_type": "stream",
     "text": [
      "\r",
      " 22%|███████████████▉                                                         | 65463/300000 [51:30<4:57:10, 13.15it/s]"
     ]
    },
    {
     "name": "stdout",
     "output_type": "stream",
     "text": [
      "self.evaluation_deque: deque([False, True, True, False, False, False, True, False, True, True, False, False, False, True, True, True, False, False, False, False, True, True, False, False, True, True, False, True, True, False, True, True, True, False, False, True, True, False, False, False, True, False, False, True, True, False, False, False, False, False], maxlen=50)\n",
      "eval_mean: 0.44\n"
     ]
    },
    {
     "name": "stderr",
     "output_type": "stream",
     "text": [
      "\r",
      " 22%|███████████████▉                                                         | 65514/300000 [51:33<4:49:01, 13.52it/s]"
     ]
    },
    {
     "name": "stdout",
     "output_type": "stream",
     "text": [
      "self.evaluation_deque: deque([False, True, True, False, False, False, True, False, True, True, False, False, False, True, True, True, False, False, False, False, True, True, False, False, True, True, False, True, True, False, True, True, True, False, False, True, True, False, False, False, True, False, False, True, True, False, False, False, False, False], maxlen=50)\n",
      "eval_mean: 0.44\n"
     ]
    },
    {
     "name": "stderr",
     "output_type": "stream",
     "text": [
      "\r",
      " 22%|███████████████▉                                                         | 65594/300000 [51:39<4:43:51, 13.76it/s]"
     ]
    },
    {
     "name": "stdout",
     "output_type": "stream",
     "text": [
      "self.evaluation_deque: deque([False, True, True, False, False, False, True, False, True, True, False, False, False, True, True, True, False, False, False, False, True, True, False, False, True, True, False, True, True, False, True, True, True, False, False, True, True, False, False, False, True, False, False, True, True, False, False, False, False, False], maxlen=50)\n",
      "eval_mean: 0.44\n"
     ]
    },
    {
     "name": "stderr",
     "output_type": "stream",
     "text": [
      "\r",
      " 22%|███████████████▉                                                         | 65621/300000 [51:43<5:29:42, 11.85it/s]"
     ]
    },
    {
     "name": "stdout",
     "output_type": "stream",
     "text": [
      "self.evaluation_deque: deque([True, True, False, False, False, True, False, True, True, False, False, False, True, True, True, False, False, False, False, True, True, False, False, True, True, False, True, True, False, True, True, True, False, False, True, True, False, False, False, True, False, False, True, True, False, False, False, False, False, True], maxlen=50)\n",
      "eval_mean: 0.46\n"
     ]
    },
    {
     "name": "stderr",
     "output_type": "stream",
     "text": [
      "\r",
      " 22%|███████████████▉                                                         | 65652/300000 [51:45<5:19:26, 12.23it/s]"
     ]
    },
    {
     "name": "stdout",
     "output_type": "stream",
     "text": [
      "self.evaluation_deque: deque([True, True, False, False, False, True, False, True, True, False, False, False, True, True, True, False, False, False, False, True, True, False, False, True, True, False, True, True, False, True, True, True, False, False, True, True, False, False, False, True, False, False, True, True, False, False, False, False, False, True], maxlen=50)\n",
      "eval_mean: 0.46\n"
     ]
    },
    {
     "name": "stderr",
     "output_type": "stream",
     "text": [
      "\r",
      " 22%|███████████████▉                                                         | 65689/300000 [51:48<5:05:44, 12.77it/s]"
     ]
    },
    {
     "name": "stdout",
     "output_type": "stream",
     "text": [
      "self.evaluation_deque: deque([True, True, False, False, False, True, False, True, True, False, False, False, True, True, True, False, False, False, False, True, True, False, False, True, True, False, True, True, False, True, True, True, False, False, True, True, False, False, False, True, False, False, True, True, False, False, False, False, False, True], maxlen=50)\n",
      "eval_mean: 0.46\n"
     ]
    },
    {
     "name": "stderr",
     "output_type": "stream",
     "text": [
      "\r",
      " 22%|███████████████▉                                                         | 65722/300000 [51:50<5:00:05, 13.01it/s]"
     ]
    },
    {
     "name": "stdout",
     "output_type": "stream",
     "text": [
      "self.evaluation_deque: deque([True, True, False, False, False, True, False, True, True, False, False, False, True, True, True, False, False, False, False, True, True, False, False, True, True, False, True, True, False, True, True, True, False, False, True, True, False, False, False, True, False, False, True, True, False, False, False, False, False, True], maxlen=50)\n",
      "eval_mean: 0.46\n"
     ]
    },
    {
     "name": "stderr",
     "output_type": "stream",
     "text": [
      "\r",
      " 22%|████████████████                                                         | 65791/300000 [51:55<4:50:16, 13.45it/s]"
     ]
    },
    {
     "name": "stdout",
     "output_type": "stream",
     "text": [
      "self.evaluation_deque: deque([True, True, False, False, False, True, False, True, True, False, False, False, True, True, True, False, False, False, False, True, True, False, False, True, True, False, True, True, False, True, True, True, False, False, True, True, False, False, False, True, False, False, True, True, False, False, False, False, False, True], maxlen=50)\n",
      "eval_mean: 0.46\n"
     ]
    },
    {
     "name": "stderr",
     "output_type": "stream",
     "text": [
      "\r",
      " 22%|████████████████                                                         | 65851/300000 [52:01<5:28:47, 11.87it/s]"
     ]
    },
    {
     "name": "stdout",
     "output_type": "stream",
     "text": [
      "self.evaluation_deque: deque([True, False, False, False, True, False, True, True, False, False, False, True, True, True, False, False, False, False, True, True, False, False, True, True, False, True, True, False, True, True, True, False, False, True, True, False, False, False, True, False, False, True, True, False, False, False, False, False, True, False], maxlen=50)\n",
      "eval_mean: 0.44\n"
     ]
    },
    {
     "name": "stderr",
     "output_type": "stream",
     "text": [
      "\r",
      " 22%|████████████████                                                         | 65886/300000 [52:04<5:16:07, 12.34it/s]"
     ]
    },
    {
     "name": "stdout",
     "output_type": "stream",
     "text": [
      "self.evaluation_deque: deque([True, False, False, False, True, False, True, True, False, False, False, True, True, True, False, False, False, False, True, True, False, False, True, True, False, True, True, False, True, True, True, False, False, True, True, False, False, False, True, False, False, True, True, False, False, False, False, False, True, False], maxlen=50)\n",
      "eval_mean: 0.44\n"
     ]
    },
    {
     "name": "stderr",
     "output_type": "stream",
     "text": [
      "\r",
      " 22%|████████████████                                                         | 65930/300000 [52:07<5:02:17, 12.91it/s]"
     ]
    },
    {
     "name": "stdout",
     "output_type": "stream",
     "text": [
      "self.evaluation_deque: deque([True, False, False, False, True, False, True, True, False, False, False, True, True, True, False, False, False, False, True, True, False, False, True, True, False, True, True, False, True, True, True, False, False, True, True, False, False, False, True, False, False, True, True, False, False, False, False, False, True, False], maxlen=50)\n",
      "eval_mean: 0.44\n"
     ]
    },
    {
     "name": "stderr",
     "output_type": "stream",
     "text": [
      "\r",
      " 22%|████████████████                                                         | 65965/300000 [52:09<4:51:53, 13.36it/s]"
     ]
    },
    {
     "name": "stdout",
     "output_type": "stream",
     "text": [
      "self.evaluation_deque: deque([True, False, False, False, True, False, True, True, False, False, False, True, True, True, False, False, False, False, True, True, False, False, True, True, False, True, True, False, True, True, True, False, False, True, True, False, False, False, True, False, False, True, True, False, False, False, False, False, True, False], maxlen=50)\n",
      "eval_mean: 0.44\n"
     ]
    },
    {
     "name": "stderr",
     "output_type": "stream",
     "text": [
      "\r",
      " 22%|████████████████                                                         | 66000/300000 [52:12<4:48:09, 13.53it/s]"
     ]
    },
    {
     "name": "stdout",
     "output_type": "stream",
     "text": [
      "self.evaluation_deque: deque([True, False, False, False, True, False, True, True, False, False, False, True, True, True, False, False, False, False, True, True, False, False, True, True, False, True, True, False, True, True, True, False, False, True, True, False, False, False, True, False, False, True, True, False, False, False, False, False, True, False], maxlen=50)\n",
      "eval_mean: 0.44\n"
     ]
    },
    {
     "name": "stderr",
     "output_type": "stream",
     "text": [
      "\r",
      " 22%|████████████████                                                         | 66084/300000 [52:20<5:35:06, 11.63it/s]"
     ]
    },
    {
     "name": "stdout",
     "output_type": "stream",
     "text": [
      "self.evaluation_deque: deque([False, False, False, True, False, True, True, False, False, False, True, True, True, False, False, False, False, True, True, False, False, True, True, False, True, True, False, True, True, True, False, False, True, True, False, False, False, True, False, False, True, True, False, False, False, False, False, True, False, False], maxlen=50)\n",
      "eval_mean: 0.42\n"
     ]
    },
    {
     "name": "stderr",
     "output_type": "stream",
     "text": [
      "\r",
      " 22%|████████████████                                                         | 66135/300000 [52:24<5:19:24, 12.20it/s]"
     ]
    },
    {
     "name": "stdout",
     "output_type": "stream",
     "text": [
      "self.evaluation_deque: deque([False, False, False, True, False, True, True, False, False, False, True, True, True, False, False, False, False, True, True, False, False, True, True, False, True, True, False, True, True, True, False, False, True, True, False, False, False, True, False, False, True, True, False, False, False, False, False, True, False, False], maxlen=50)\n",
      "eval_mean: 0.42\n"
     ]
    },
    {
     "name": "stderr",
     "output_type": "stream",
     "text": [
      "\r",
      " 22%|████████████████                                                         | 66232/300000 [52:30<5:01:07, 12.94it/s]"
     ]
    },
    {
     "name": "stdout",
     "output_type": "stream",
     "text": [
      "self.evaluation_deque: deque([False, False, False, True, False, True, True, False, False, False, True, True, True, False, False, False, False, True, True, False, False, True, True, False, True, True, False, True, True, True, False, False, True, True, False, False, False, True, False, False, True, True, False, False, False, False, False, True, False, False], maxlen=50)\n",
      "eval_mean: 0.42\n"
     ]
    },
    {
     "name": "stderr",
     "output_type": "stream",
     "text": [
      "\r",
      " 22%|████████████████▏                                                        | 66269/300000 [52:33<4:55:27, 13.18it/s]"
     ]
    },
    {
     "name": "stdout",
     "output_type": "stream",
     "text": [
      "self.evaluation_deque: deque([False, False, False, True, False, True, True, False, False, False, True, True, True, False, False, False, False, True, True, False, False, True, True, False, True, True, False, True, True, True, False, False, True, True, False, False, False, True, False, False, True, True, False, False, False, False, False, True, False, False], maxlen=50)\n",
      "eval_mean: 0.42\n"
     ]
    },
    {
     "name": "stderr",
     "output_type": "stream",
     "text": [
      "\r",
      " 22%|████████████████▏                                                        | 66296/300000 [52:35<4:52:45, 13.30it/s]"
     ]
    },
    {
     "name": "stdout",
     "output_type": "stream",
     "text": [
      "self.evaluation_deque: deque([False, False, False, True, False, True, True, False, False, False, True, True, True, False, False, False, False, True, True, False, False, True, True, False, True, True, False, True, True, True, False, False, True, True, False, False, False, True, False, False, True, True, False, False, False, False, False, True, False, False], maxlen=50)\n",
      "eval_mean: 0.42\n"
     ]
    },
    {
     "name": "stderr",
     "output_type": "stream",
     "text": [
      "\r",
      " 22%|████████████████▏                                                        | 66331/300000 [52:39<5:40:57, 11.42it/s]"
     ]
    },
    {
     "name": "stdout",
     "output_type": "stream",
     "text": [
      "self.evaluation_deque: deque([False, False, True, False, True, True, False, False, False, True, True, True, False, False, False, False, True, True, False, False, True, True, False, True, True, False, True, True, True, False, False, True, True, False, False, False, True, False, False, True, True, False, False, False, False, False, True, False, False, True], maxlen=50)\n",
      "eval_mean: 0.44\n"
     ]
    },
    {
     "name": "stderr",
     "output_type": "stream",
     "text": [
      "\r",
      " 22%|████████████████▏                                                        | 66367/300000 [52:42<5:24:16, 12.01it/s]"
     ]
    },
    {
     "name": "stdout",
     "output_type": "stream",
     "text": [
      "self.evaluation_deque: deque([False, False, True, False, True, True, False, False, False, True, True, True, False, False, False, False, True, True, False, False, True, True, False, True, True, False, True, True, True, False, False, True, True, False, False, False, True, False, False, True, True, False, False, False, False, False, True, False, False, True], maxlen=50)\n",
      "eval_mean: 0.44\n"
     ]
    },
    {
     "name": "stderr",
     "output_type": "stream",
     "text": [
      "\r",
      " 22%|████████████████▏                                                        | 66405/300000 [52:45<5:09:25, 12.58it/s]"
     ]
    },
    {
     "name": "stdout",
     "output_type": "stream",
     "text": [
      "self.evaluation_deque: deque([False, False, True, False, True, True, False, False, False, True, True, True, False, False, False, False, True, True, False, False, True, True, False, True, True, False, True, True, True, False, False, True, True, False, False, False, True, False, False, True, True, False, False, False, False, False, True, False, False, True], maxlen=50)\n",
      "eval_mean: 0.44\n"
     ]
    },
    {
     "name": "stderr",
     "output_type": "stream",
     "text": [
      "\r",
      " 22%|████████████████▏                                                        | 66480/300000 [52:50<4:48:44, 13.48it/s]"
     ]
    },
    {
     "name": "stdout",
     "output_type": "stream",
     "text": [
      "self.evaluation_deque: deque([False, False, True, False, True, True, False, False, False, True, True, True, False, False, False, False, True, True, False, False, True, True, False, True, True, False, True, True, True, False, False, True, True, False, False, False, True, False, False, True, True, False, False, False, False, False, True, False, False, True], maxlen=50)\n",
      "eval_mean: 0.44\n"
     ]
    },
    {
     "name": "stderr",
     "output_type": "stream",
     "text": [
      "\r",
      " 22%|████████████████▏                                                        | 66515/300000 [52:52<4:45:36, 13.63it/s]"
     ]
    },
    {
     "name": "stdout",
     "output_type": "stream",
     "text": [
      "self.evaluation_deque: deque([False, False, True, False, True, True, False, False, False, True, True, True, False, False, False, False, True, True, False, False, True, True, False, True, True, False, True, True, True, False, False, True, True, False, False, False, True, False, False, True, True, False, False, False, False, False, True, False, False, True], maxlen=50)\n",
      "eval_mean: 0.44\n"
     ]
    },
    {
     "name": "stderr",
     "output_type": "stream",
     "text": [
      "\r",
      " 22%|████████████████▏                                                        | 66550/300000 [52:57<5:45:59, 11.25it/s]"
     ]
    },
    {
     "name": "stdout",
     "output_type": "stream",
     "text": [
      "self.evaluation_deque: deque([False, True, False, True, True, False, False, False, True, True, True, False, False, False, False, True, True, False, False, True, True, False, True, True, False, True, True, True, False, False, True, True, False, False, False, True, False, False, True, True, False, False, False, False, False, True, False, False, True, False], maxlen=50)\n",
      "eval_mean: 0.44\n"
     ]
    },
    {
     "name": "stderr",
     "output_type": "stream",
     "text": [
      "\r",
      " 22%|████████████████▏                                                        | 66596/300000 [53:00<5:23:14, 12.03it/s]"
     ]
    },
    {
     "name": "stdout",
     "output_type": "stream",
     "text": [
      "self.evaluation_deque: deque([False, True, False, True, True, False, False, False, True, True, True, False, False, False, False, True, True, False, False, True, True, False, True, True, False, True, True, True, False, False, True, True, False, False, False, True, False, False, True, True, False, False, False, False, False, True, False, False, True, False], maxlen=50)\n",
      "eval_mean: 0.44\n"
     ]
    },
    {
     "name": "stderr",
     "output_type": "stream",
     "text": [
      "\r",
      " 22%|████████████████▏                                                        | 66631/300000 [53:03<5:10:12, 12.54it/s]"
     ]
    },
    {
     "name": "stdout",
     "output_type": "stream",
     "text": [
      "self.evaluation_deque: deque([False, True, False, True, True, False, False, False, True, True, True, False, False, False, False, True, True, False, False, True, True, False, True, True, False, True, True, True, False, False, True, True, False, False, False, True, False, False, True, True, False, False, False, False, False, True, False, False, True, False], maxlen=50)\n",
      "eval_mean: 0.44\n"
     ]
    },
    {
     "name": "stderr",
     "output_type": "stream",
     "text": [
      "\r",
      " 22%|████████████████▏                                                        | 66670/300000 [53:05<4:57:34, 13.07it/s]"
     ]
    },
    {
     "name": "stdout",
     "output_type": "stream",
     "text": [
      "self.evaluation_deque: deque([False, True, False, True, True, False, False, False, True, True, True, False, False, False, False, True, True, False, False, True, True, False, True, True, False, True, True, True, False, False, True, True, False, False, False, True, False, False, True, True, False, False, False, False, False, True, False, False, True, False], maxlen=50)\n",
      "eval_mean: 0.44\n"
     ]
    },
    {
     "name": "stderr",
     "output_type": "stream",
     "text": [
      "\r",
      " 22%|████████████████▏                                                        | 66709/300000 [53:08<4:47:11, 13.54it/s]"
     ]
    },
    {
     "name": "stdout",
     "output_type": "stream",
     "text": [
      "self.evaluation_deque: deque([False, True, False, True, True, False, False, False, True, True, True, False, False, False, False, True, True, False, False, True, True, False, True, True, False, True, True, True, False, False, True, True, False, False, False, True, False, False, True, True, False, False, False, False, False, True, False, False, True, False], maxlen=50)\n",
      "eval_mean: 0.44\n"
     ]
    },
    {
     "name": "stderr",
     "output_type": "stream",
     "text": [
      "\r",
      " 22%|████████████████▏                                                        | 66778/300000 [53:15<5:30:42, 11.75it/s]"
     ]
    },
    {
     "name": "stdout",
     "output_type": "stream",
     "text": [
      "self.evaluation_deque: deque([True, False, True, True, False, False, False, True, True, True, False, False, False, False, True, True, False, False, True, True, False, True, True, False, True, True, True, False, False, True, True, False, False, False, True, False, False, True, True, False, False, False, False, False, True, False, False, True, False, True], maxlen=50)\n",
      "eval_mean: 0.46\n"
     ]
    },
    {
     "name": "stderr",
     "output_type": "stream",
     "text": [
      "\r",
      " 22%|████████████████▎                                                        | 66818/300000 [53:18<5:16:19, 12.29it/s]"
     ]
    },
    {
     "name": "stdout",
     "output_type": "stream",
     "text": [
      "self.evaluation_deque: deque([True, False, True, True, False, False, False, True, True, True, False, False, False, False, True, True, False, False, True, True, False, True, True, False, True, True, True, False, False, True, True, False, False, False, True, False, False, True, True, False, False, False, False, False, True, False, False, True, False, True], maxlen=50)\n",
      "eval_mean: 0.46\n"
     ]
    },
    {
     "name": "stderr",
     "output_type": "stream",
     "text": [
      "\r",
      " 22%|████████████████▎                                                        | 66906/300000 [53:24<4:58:03, 13.03it/s]"
     ]
    },
    {
     "name": "stdout",
     "output_type": "stream",
     "text": [
      "self.evaluation_deque: deque([True, False, True, True, False, False, False, True, True, True, False, False, False, False, True, True, False, False, True, True, False, True, True, False, True, True, True, False, False, True, True, False, False, False, True, False, False, True, True, False, False, False, False, False, True, False, False, True, False, True], maxlen=50)\n",
      "eval_mean: 0.46\n"
     ]
    },
    {
     "name": "stderr",
     "output_type": "stream",
     "text": [
      "\r",
      " 22%|████████████████▎                                                        | 66941/300000 [53:26<4:53:26, 13.24it/s]"
     ]
    },
    {
     "name": "stdout",
     "output_type": "stream",
     "text": [
      "self.evaluation_deque: deque([True, False, True, True, False, False, False, True, True, True, False, False, False, False, True, True, False, False, True, True, False, True, True, False, True, True, True, False, False, True, True, False, False, False, True, False, False, True, True, False, False, False, False, False, True, False, False, True, False, True], maxlen=50)\n",
      "eval_mean: 0.46\n"
     ]
    },
    {
     "name": "stderr",
     "output_type": "stream",
     "text": [
      "\r",
      " 22%|████████████████▎                                                        | 67029/300000 [53:33<4:42:52, 13.73it/s]"
     ]
    },
    {
     "name": "stdout",
     "output_type": "stream",
     "text": [
      "self.evaluation_deque: deque([True, False, True, True, False, False, False, True, True, True, False, False, False, False, True, True, False, False, True, True, False, True, True, False, True, True, True, False, False, True, True, False, False, False, True, False, False, True, True, False, False, False, False, False, True, False, False, True, False, True], maxlen=50)\n",
      "eval_mean: 0.46\n"
     ]
    },
    {
     "name": "stderr",
     "output_type": "stream",
     "text": [
      "\r",
      " 22%|████████████████▎                                                        | 67066/300000 [53:37<5:17:04, 12.24it/s]"
     ]
    },
    {
     "name": "stdout",
     "output_type": "stream",
     "text": [
      "self.evaluation_deque: deque([False, True, True, False, False, False, True, True, True, False, False, False, False, True, True, False, False, True, True, False, True, True, False, True, True, True, False, False, True, True, False, False, False, True, False, False, True, True, False, False, False, False, False, True, False, False, True, False, True, True], maxlen=50)\n",
      "eval_mean: 0.46\n"
     ]
    },
    {
     "name": "stderr",
     "output_type": "stream",
     "text": [
      "\r",
      " 22%|████████████████▎                                                        | 67112/300000 [53:40<5:04:27, 12.75it/s]"
     ]
    },
    {
     "name": "stdout",
     "output_type": "stream",
     "text": [
      "self.evaluation_deque: deque([False, True, True, False, False, False, True, True, True, False, False, False, False, True, True, False, False, True, True, False, True, True, False, True, True, True, False, False, True, True, False, False, False, True, False, False, True, True, False, False, False, False, False, True, False, False, True, False, True, True], maxlen=50)\n",
      "eval_mean: 0.46\n"
     ]
    },
    {
     "name": "stderr",
     "output_type": "stream",
     "text": [
      "\r",
      " 22%|████████████████▎                                                        | 67166/300000 [53:44<4:52:53, 13.25it/s]"
     ]
    },
    {
     "name": "stdout",
     "output_type": "stream",
     "text": [
      "self.evaluation_deque: deque([False, True, True, False, False, False, True, True, True, False, False, False, False, True, True, False, False, True, True, False, True, True, False, True, True, True, False, False, True, True, False, False, False, True, False, False, True, True, False, False, False, False, False, True, False, False, True, False, True, True], maxlen=50)\n",
      "eval_mean: 0.46\n"
     ]
    },
    {
     "name": "stderr",
     "output_type": "stream",
     "text": [
      "\r",
      " 22%|████████████████▎                                                        | 67226/300000 [53:48<4:44:39, 13.63it/s]"
     ]
    },
    {
     "name": "stdout",
     "output_type": "stream",
     "text": [
      "self.evaluation_deque: deque([False, True, True, False, False, False, True, True, True, False, False, False, False, True, True, False, False, True, True, False, True, True, False, True, True, True, False, False, True, True, False, False, False, True, False, False, True, True, False, False, False, False, False, True, False, False, True, False, True, True], maxlen=50)\n",
      "eval_mean: 0.46\n"
     ]
    },
    {
     "name": "stderr",
     "output_type": "stream",
     "text": [
      "\r",
      " 22%|████████████████▎                                                        | 67261/300000 [53:50<4:44:17, 13.64it/s]"
     ]
    },
    {
     "name": "stdout",
     "output_type": "stream",
     "text": [
      "self.evaluation_deque: deque([False, True, True, False, False, False, True, True, True, False, False, False, False, True, True, False, False, True, True, False, True, True, False, True, True, True, False, False, True, True, False, False, False, True, False, False, True, True, False, False, False, False, False, True, False, False, True, False, True, True], maxlen=50)\n",
      "eval_mean: 0.46\n"
     ]
    },
    {
     "name": "stderr",
     "output_type": "stream",
     "text": [
      "\r",
      " 22%|████████████████▍                                                        | 67356/300000 [54:00<5:25:16, 11.92it/s]"
     ]
    },
    {
     "name": "stdout",
     "output_type": "stream",
     "text": [
      "self.evaluation_deque: deque([True, True, False, False, False, True, True, True, False, False, False, False, True, True, False, False, True, True, False, True, True, False, True, True, True, False, False, True, True, False, False, False, True, False, False, True, True, False, False, False, False, False, True, False, False, True, False, True, True, False], maxlen=50)\n",
      "eval_mean: 0.46\n"
     ]
    },
    {
     "name": "stderr",
     "output_type": "stream",
     "text": [
      "\r",
      " 22%|████████████████▍                                                        | 67389/300000 [54:02<5:22:00, 12.04it/s]"
     ]
    },
    {
     "name": "stdout",
     "output_type": "stream",
     "text": [
      "self.evaluation_deque: deque([True, True, False, False, False, True, True, True, False, False, False, False, True, True, False, False, True, True, False, True, True, False, True, True, True, False, False, True, True, False, False, False, True, False, False, True, True, False, False, False, False, False, True, False, False, True, False, True, True, False], maxlen=50)\n",
      "eval_mean: 0.46\n"
     ]
    },
    {
     "name": "stderr",
     "output_type": "stream",
     "text": [
      "\r",
      " 22%|████████████████▍                                                        | 67418/300000 [54:04<5:16:40, 12.24it/s]"
     ]
    },
    {
     "name": "stdout",
     "output_type": "stream",
     "text": [
      "self.evaluation_deque: deque([True, True, False, False, False, True, True, True, False, False, False, False, True, True, False, False, True, True, False, True, True, False, True, True, True, False, False, True, True, False, False, False, True, False, False, True, True, False, False, False, False, False, True, False, False, True, False, True, True, False], maxlen=50)\n",
      "eval_mean: 0.46\n"
     ]
    },
    {
     "name": "stderr",
     "output_type": "stream",
     "text": [
      "\r",
      " 22%|████████████████▍                                                        | 67445/300000 [54:07<5:11:34, 12.44it/s]"
     ]
    },
    {
     "name": "stdout",
     "output_type": "stream",
     "text": [
      "self.evaluation_deque: deque([True, True, False, False, False, True, True, True, False, False, False, False, True, True, False, False, True, True, False, True, True, False, True, True, True, False, False, True, True, False, False, False, True, False, False, True, True, False, False, False, False, False, True, False, False, True, False, True, True, False], maxlen=50)\n",
      "eval_mean: 0.46\n"
     ]
    },
    {
     "name": "stderr",
     "output_type": "stream",
     "text": [
      "\r",
      " 23%|████████████████▍                                                        | 67509/300000 [54:11<4:54:07, 13.17it/s]"
     ]
    },
    {
     "name": "stdout",
     "output_type": "stream",
     "text": [
      "self.evaluation_deque: deque([True, True, False, False, False, True, True, True, False, False, False, False, True, True, False, False, True, True, False, True, True, False, True, True, True, False, False, True, True, False, False, False, True, False, False, True, True, False, False, False, False, False, True, False, False, True, False, True, True, False], maxlen=50)\n",
      "eval_mean: 0.46\n"
     ]
    },
    {
     "name": "stderr",
     "output_type": "stream",
     "text": [
      "\r",
      " 23%|████████████████▍                                                        | 67563/300000 [54:17<5:34:47, 11.57it/s]"
     ]
    },
    {
     "name": "stdout",
     "output_type": "stream",
     "text": [
      "self.evaluation_deque: deque([True, False, False, False, True, True, True, False, False, False, False, True, True, False, False, True, True, False, True, True, False, True, True, True, False, False, True, True, False, False, False, True, False, False, True, True, False, False, False, False, False, True, False, False, True, False, True, True, False, False], maxlen=50)\n",
      "eval_mean: 0.44\n"
     ]
    },
    {
     "name": "stderr",
     "output_type": "stream",
     "text": [
      "\r",
      " 23%|████████████████▍                                                        | 67619/300000 [54:25<7:00:42,  9.21it/s]"
     ]
    },
    {
     "name": "stdout",
     "output_type": "stream",
     "text": [
      "self.evaluation_deque: deque([True, False, False, False, True, True, True, False, False, False, False, True, True, False, False, True, True, False, True, True, False, True, True, True, False, False, True, True, False, False, False, True, False, False, True, True, False, False, False, False, False, True, False, False, True, False, True, True, False, False], maxlen=50)\n",
      "eval_mean: 0.44\n"
     ]
    },
    {
     "name": "stderr",
     "output_type": "stream",
     "text": [
      "\r",
      " 23%|████████████████▍                                                        | 67691/300000 [54:30<6:04:54, 10.61it/s]"
     ]
    },
    {
     "name": "stdout",
     "output_type": "stream",
     "text": [
      "self.evaluation_deque: deque([True, False, False, False, True, True, True, False, False, False, False, True, True, False, False, True, True, False, True, True, False, True, True, True, False, False, True, True, False, False, False, True, False, False, True, True, False, False, False, False, False, True, False, False, True, False, True, True, False, False], maxlen=50)\n",
      "eval_mean: 0.44\n"
     ]
    },
    {
     "name": "stderr",
     "output_type": "stream",
     "text": [
      "\r",
      " 23%|████████████████▍                                                        | 67746/300000 [54:34<5:36:35, 11.50it/s]"
     ]
    },
    {
     "name": "stdout",
     "output_type": "stream",
     "text": [
      "self.evaluation_deque: deque([True, False, False, False, True, True, True, False, False, False, False, True, True, False, False, True, True, False, True, True, False, True, True, True, False, False, True, True, False, False, False, True, False, False, True, True, False, False, False, False, False, True, False, False, True, False, True, True, False, False], maxlen=50)\n",
      "eval_mean: 0.44\n"
     ]
    },
    {
     "name": "stderr",
     "output_type": "stream",
     "text": [
      "\r",
      " 23%|████████████████▍                                                        | 67800/300000 [54:38<5:18:01, 12.17it/s]"
     ]
    },
    {
     "name": "stdout",
     "output_type": "stream",
     "text": [
      "self.evaluation_deque: deque([True, False, False, False, True, True, True, False, False, False, False, True, True, False, False, True, True, False, True, True, False, True, True, True, False, False, True, True, False, False, False, True, False, False, True, True, False, False, False, False, False, True, False, False, True, False, True, True, False, False], maxlen=50)\n",
      "eval_mean: 0.44\n"
     ]
    },
    {
     "name": "stderr",
     "output_type": "stream",
     "text": [
      "\r",
      " 23%|████████████████▌                                                        | 67837/300000 [54:42<5:46:39, 11.16it/s]"
     ]
    },
    {
     "name": "stdout",
     "output_type": "stream",
     "text": [
      "self.evaluation_deque: deque([False, False, False, True, True, True, False, False, False, False, True, True, False, False, True, True, False, True, True, False, True, True, True, False, False, True, True, False, False, False, True, False, False, True, True, False, False, False, False, False, True, False, False, True, False, True, True, False, False, True], maxlen=50)\n",
      "eval_mean: 0.44\n"
     ]
    },
    {
     "name": "stderr",
     "output_type": "stream",
     "text": [
      "\r",
      " 23%|████████████████▌                                                        | 67872/300000 [54:45<5:27:03, 11.83it/s]"
     ]
    },
    {
     "name": "stdout",
     "output_type": "stream",
     "text": [
      "self.evaluation_deque: deque([False, False, False, True, True, True, False, False, False, False, True, True, False, False, True, True, False, True, True, False, True, True, True, False, False, True, True, False, False, False, True, False, False, True, True, False, False, False, False, False, True, False, False, True, False, True, True, False, False, True], maxlen=50)\n",
      "eval_mean: 0.44\n"
     ]
    },
    {
     "name": "stderr",
     "output_type": "stream",
     "text": [
      "\r",
      " 23%|████████████████▌                                                        | 67933/300000 [54:49<5:03:05, 12.76it/s]"
     ]
    },
    {
     "name": "stdout",
     "output_type": "stream",
     "text": [
      "self.evaluation_deque: deque([False, False, False, True, True, True, False, False, False, False, True, True, False, False, True, True, False, True, True, False, True, True, True, False, False, True, True, False, False, False, True, False, False, True, True, False, False, False, False, False, True, False, False, True, False, True, True, False, False, True], maxlen=50)\n",
      "eval_mean: 0.44\n"
     ]
    },
    {
     "name": "stderr",
     "output_type": "stream",
     "text": [
      "\r",
      " 23%|████████████████▌                                                        | 68006/300000 [54:54<4:50:35, 13.31it/s]"
     ]
    },
    {
     "name": "stdout",
     "output_type": "stream",
     "text": [
      "self.evaluation_deque: deque([False, False, False, True, True, True, False, False, False, False, True, True, False, False, True, True, False, True, True, False, True, True, True, False, False, True, True, False, False, False, True, False, False, True, True, False, False, False, False, False, True, False, False, True, False, True, True, False, False, True], maxlen=50)\n",
      "eval_mean: 0.44\n"
     ]
    },
    {
     "name": "stderr",
     "output_type": "stream",
     "text": [
      "\r",
      " 23%|████████████████▌                                                        | 68062/300000 [54:58<4:42:47, 13.67it/s]"
     ]
    },
    {
     "name": "stdout",
     "output_type": "stream",
     "text": [
      "self.evaluation_deque: deque([False, False, False, True, True, True, False, False, False, False, True, True, False, False, True, True, False, True, True, False, True, True, True, False, False, True, True, False, False, False, True, False, False, True, True, False, False, False, False, False, True, False, False, True, False, True, True, False, False, True], maxlen=50)\n",
      "eval_mean: 0.44\n"
     ]
    },
    {
     "name": "stderr",
     "output_type": "stream",
     "text": [
      "\r",
      " 23%|████████████████▌                                                        | 68156/300000 [55:06<5:06:42, 12.60it/s]"
     ]
    },
    {
     "name": "stdout",
     "output_type": "stream",
     "text": [
      "self.evaluation_deque: deque([False, False, True, True, True, False, False, False, False, True, True, False, False, True, True, False, True, True, False, True, True, True, False, False, True, True, False, False, False, True, False, False, True, True, False, False, False, False, False, True, False, False, True, False, True, True, False, False, True, True], maxlen=50)\n",
      "eval_mean: 0.46\n"
     ]
    },
    {
     "name": "stderr",
     "output_type": "stream",
     "text": [
      "\r",
      " 23%|████████████████▌                                                        | 68232/300000 [55:11<4:55:56, 13.05it/s]"
     ]
    },
    {
     "name": "stdout",
     "output_type": "stream",
     "text": [
      "self.evaluation_deque: deque([False, False, True, True, True, False, False, False, False, True, True, False, False, True, True, False, True, True, False, True, True, True, False, False, True, True, False, False, False, True, False, False, True, True, False, False, False, False, False, True, False, False, True, False, True, True, False, False, True, True], maxlen=50)\n",
      "eval_mean: 0.46\n"
     ]
    },
    {
     "name": "stderr",
     "output_type": "stream",
     "text": [
      "\r",
      " 23%|████████████████▌                                                        | 68267/300000 [55:14<4:50:04, 13.31it/s]"
     ]
    },
    {
     "name": "stdout",
     "output_type": "stream",
     "text": [
      "self.evaluation_deque: deque([False, False, True, True, True, False, False, False, False, True, True, False, False, True, True, False, True, True, False, True, True, True, False, False, True, True, False, False, False, True, False, False, True, True, False, False, False, False, False, True, False, False, True, False, True, True, False, False, True, True], maxlen=50)\n",
      "eval_mean: 0.46\n"
     ]
    },
    {
     "name": "stderr",
     "output_type": "stream",
     "text": [
      "\r",
      " 23%|████████████████▌                                                        | 68302/300000 [55:16<4:44:20, 13.58it/s]"
     ]
    },
    {
     "name": "stdout",
     "output_type": "stream",
     "text": [
      "self.evaluation_deque: deque([False, False, True, True, True, False, False, False, False, True, True, False, False, True, True, False, True, True, False, True, True, True, False, False, True, True, False, False, False, True, False, False, True, True, False, False, False, False, False, True, False, False, True, False, True, True, False, False, True, True], maxlen=50)\n",
      "eval_mean: 0.46\n"
     ]
    },
    {
     "name": "stderr",
     "output_type": "stream",
     "text": [
      "\r",
      " 23%|████████████████▋                                                        | 68383/300000 [55:22<4:34:41, 14.05it/s]"
     ]
    },
    {
     "name": "stdout",
     "output_type": "stream",
     "text": [
      "self.evaluation_deque: deque([False, False, True, True, True, False, False, False, False, True, True, False, False, True, True, False, True, True, False, True, True, True, False, False, True, True, False, False, False, True, False, False, True, True, False, False, False, False, False, True, False, False, True, False, True, True, False, False, True, True], maxlen=50)\n",
      "eval_mean: 0.46\n"
     ]
    },
    {
     "name": "stderr",
     "output_type": "stream",
     "text": [
      "\r",
      " 23%|████████████████▋                                                        | 68444/300000 [55:28<5:17:14, 12.17it/s]"
     ]
    },
    {
     "name": "stdout",
     "output_type": "stream",
     "text": [
      "self.evaluation_deque: deque([False, True, True, True, False, False, False, False, True, True, False, False, True, True, False, True, True, False, True, True, True, False, False, True, True, False, False, False, True, False, False, True, True, False, False, False, False, False, True, False, False, True, False, True, True, False, False, True, True, False], maxlen=50)\n",
      "eval_mean: 0.46\n"
     ]
    },
    {
     "name": "stderr",
     "output_type": "stream",
     "text": [
      "\r",
      " 23%|████████████████▋                                                        | 68473/300000 [55:30<5:08:43, 12.50it/s]"
     ]
    },
    {
     "name": "stdout",
     "output_type": "stream",
     "text": [
      "self.evaluation_deque: deque([False, True, True, True, False, False, False, False, True, True, False, False, True, True, False, True, True, False, True, True, True, False, False, True, True, False, False, False, True, False, False, True, True, False, False, False, False, False, True, False, False, True, False, True, True, False, False, True, True, False], maxlen=50)\n",
      "eval_mean: 0.46\n"
     ]
    },
    {
     "name": "stderr",
     "output_type": "stream",
     "text": [
      "\r",
      " 23%|████████████████▋                                                        | 68536/300000 [55:35<4:52:20, 13.20it/s]"
     ]
    },
    {
     "name": "stdout",
     "output_type": "stream",
     "text": [
      "self.evaluation_deque: deque([False, True, True, True, False, False, False, False, True, True, False, False, True, True, False, True, True, False, True, True, True, False, False, True, True, False, False, False, True, False, False, True, True, False, False, False, False, False, True, False, False, True, False, True, True, False, False, True, True, False], maxlen=50)\n",
      "eval_mean: 0.46\n"
     ]
    },
    {
     "name": "stderr",
     "output_type": "stream",
     "text": [
      "\r",
      " 23%|████████████████▋                                                        | 68586/300000 [55:38<4:45:12, 13.52it/s]"
     ]
    },
    {
     "name": "stdout",
     "output_type": "stream",
     "text": [
      "self.evaluation_deque: deque([False, True, True, True, False, False, False, False, True, True, False, False, True, True, False, True, True, False, True, True, True, False, False, True, True, False, False, False, True, False, False, True, True, False, False, False, False, False, True, False, False, True, False, True, True, False, False, True, True, False], maxlen=50)\n",
      "eval_mean: 0.46\n"
     ]
    },
    {
     "name": "stderr",
     "output_type": "stream",
     "text": [
      "\r",
      " 23%|████████████████▋                                                        | 68652/300000 [55:43<4:37:34, 13.89it/s]"
     ]
    },
    {
     "name": "stdout",
     "output_type": "stream",
     "text": [
      "self.evaluation_deque: deque([False, True, True, True, False, False, False, False, True, True, False, False, True, True, False, True, True, False, True, True, True, False, False, True, True, False, False, False, True, False, False, True, True, False, False, False, False, False, True, False, False, True, False, True, True, False, False, True, True, False], maxlen=50)\n",
      "eval_mean: 0.46\n"
     ]
    },
    {
     "name": "stderr",
     "output_type": "stream",
     "text": [
      "\r",
      " 23%|████████████████▋                                                        | 68687/300000 [55:47<5:17:16, 12.15it/s]"
     ]
    },
    {
     "name": "stdout",
     "output_type": "stream",
     "text": [
      "self.evaluation_deque: deque([True, True, True, False, False, False, False, True, True, False, False, True, True, False, True, True, False, True, True, True, False, False, True, True, False, False, False, True, False, False, True, True, False, False, False, False, False, True, False, False, True, False, True, True, False, False, True, True, False, False], maxlen=50)\n",
      "eval_mean: 0.46\n"
     ]
    },
    {
     "name": "stderr",
     "output_type": "stream",
     "text": [
      "\r",
      " 23%|████████████████▋                                                        | 68724/300000 [55:49<5:05:31, 12.62it/s]"
     ]
    },
    {
     "name": "stdout",
     "output_type": "stream",
     "text": [
      "self.evaluation_deque: deque([True, True, True, False, False, False, False, True, True, False, False, True, True, False, True, True, False, True, True, True, False, False, True, True, False, False, False, True, False, False, True, True, False, False, False, False, False, True, False, False, True, False, True, True, False, False, True, True, False, False], maxlen=50)\n",
      "eval_mean: 0.46\n"
     ]
    },
    {
     "name": "stderr",
     "output_type": "stream",
     "text": [
      "\r",
      " 23%|████████████████▋                                                        | 68777/300000 [55:53<4:52:18, 13.18it/s]"
     ]
    },
    {
     "name": "stdout",
     "output_type": "stream",
     "text": [
      "self.evaluation_deque: deque([True, True, True, False, False, False, False, True, True, False, False, True, True, False, True, True, False, True, True, True, False, False, True, True, False, False, False, True, False, False, True, True, False, False, False, False, False, True, False, False, True, False, True, True, False, False, True, True, False, False], maxlen=50)\n",
      "eval_mean: 0.46\n"
     ]
    },
    {
     "name": "stderr",
     "output_type": "stream",
     "text": [
      "\r",
      " 23%|████████████████▋                                                        | 68810/300000 [55:55<4:47:57, 13.38it/s]"
     ]
    },
    {
     "name": "stdout",
     "output_type": "stream",
     "text": [
      "self.evaluation_deque: deque([True, True, True, False, False, False, False, True, True, False, False, True, True, False, True, True, False, True, True, True, False, False, True, True, False, False, False, True, False, False, True, True, False, False, False, False, False, True, False, False, True, False, True, True, False, False, True, True, False, False], maxlen=50)\n",
      "eval_mean: 0.46\n"
     ]
    },
    {
     "name": "stderr",
     "output_type": "stream",
     "text": [
      "\r",
      " 23%|████████████████▊                                                        | 68889/300000 [56:01<4:37:44, 13.87it/s]"
     ]
    },
    {
     "name": "stdout",
     "output_type": "stream",
     "text": [
      "self.evaluation_deque: deque([True, True, True, False, False, False, False, True, True, False, False, True, True, False, True, True, False, True, True, True, False, False, True, True, False, False, False, True, False, False, True, True, False, False, False, False, False, True, False, False, True, False, True, True, False, False, True, True, False, False], maxlen=50)\n",
      "eval_mean: 0.46\n"
     ]
    },
    {
     "name": "stderr",
     "output_type": "stream",
     "text": [
      "\r",
      " 23%|████████████████▊                                                        | 68928/300000 [56:05<5:21:55, 11.96it/s]"
     ]
    },
    {
     "name": "stdout",
     "output_type": "stream",
     "text": [
      "self.evaluation_deque: deque([True, True, False, False, False, False, True, True, False, False, True, True, False, True, True, False, True, True, True, False, False, True, True, False, False, False, True, False, False, True, True, False, False, False, False, False, True, False, False, True, False, True, True, False, False, True, True, False, False, False], maxlen=50)\n",
      "eval_mean: 0.44\n"
     ]
    },
    {
     "name": "stderr",
     "output_type": "stream",
     "text": [
      "\r",
      " 23%|████████████████▊                                                        | 68961/300000 [56:08<5:09:04, 12.46it/s]"
     ]
    },
    {
     "name": "stdout",
     "output_type": "stream",
     "text": [
      "self.evaluation_deque: deque([True, True, False, False, False, False, True, True, False, False, True, True, False, True, True, False, True, True, True, False, False, True, True, False, False, False, True, False, False, True, True, False, False, False, False, False, True, False, False, True, False, True, True, False, False, True, True, False, False, False], maxlen=50)\n",
      "eval_mean: 0.44\n"
     ]
    },
    {
     "name": "stderr",
     "output_type": "stream",
     "text": [
      "\r",
      " 23%|████████████████▊                                                        | 68994/300000 [56:10<5:01:16, 12.78it/s]"
     ]
    },
    {
     "name": "stdout",
     "output_type": "stream",
     "text": [
      "self.evaluation_deque: deque([True, True, False, False, False, False, True, True, False, False, True, True, False, True, True, False, True, True, True, False, False, True, True, False, False, False, True, False, False, True, True, False, False, False, False, False, True, False, False, True, False, True, True, False, False, True, True, False, False, False], maxlen=50)\n",
      "eval_mean: 0.44\n"
     ]
    },
    {
     "name": "stderr",
     "output_type": "stream",
     "text": [
      "\r",
      " 23%|████████████████▊                                                        | 69089/300000 [56:17<4:49:11, 13.31it/s]"
     ]
    },
    {
     "name": "stdout",
     "output_type": "stream",
     "text": [
      "self.evaluation_deque: deque([True, True, False, False, False, False, True, True, False, False, True, True, False, True, True, False, True, True, True, False, False, True, True, False, False, False, True, False, False, True, True, False, False, False, False, False, True, False, False, True, False, True, True, False, False, True, True, False, False, False], maxlen=50)\n",
      "eval_mean: 0.44\n"
     ]
    },
    {
     "name": "stderr",
     "output_type": "stream",
     "text": [
      "\r",
      " 23%|████████████████▊                                                        | 69177/300000 [56:23<4:39:09, 13.78it/s]"
     ]
    },
    {
     "name": "stdout",
     "output_type": "stream",
     "text": [
      "self.evaluation_deque: deque([True, True, False, False, False, False, True, True, False, False, True, True, False, True, True, False, True, True, True, False, False, True, True, False, False, False, True, False, False, True, True, False, False, False, False, False, True, False, False, True, False, True, True, False, False, True, True, False, False, False], maxlen=50)\n",
      "eval_mean: 0.44\n"
     ]
    },
    {
     "name": "stderr",
     "output_type": "stream",
     "text": [
      "\r",
      " 23%|████████████████▊                                                        | 69204/300000 [56:27<5:18:11, 12.09it/s]"
     ]
    },
    {
     "name": "stdout",
     "output_type": "stream",
     "text": [
      "self.evaluation_deque: deque([True, False, False, False, False, True, True, False, False, True, True, False, True, True, False, True, True, True, False, False, True, True, False, False, False, True, False, False, True, True, False, False, False, False, False, True, False, False, True, False, True, True, False, False, True, True, False, False, False, True], maxlen=50)\n",
      "eval_mean: 0.44\n"
     ]
    },
    {
     "name": "stderr",
     "output_type": "stream",
     "text": [
      "\r",
      " 23%|████████████████▊                                                        | 69249/300000 [56:30<5:04:54, 12.61it/s]"
     ]
    },
    {
     "name": "stdout",
     "output_type": "stream",
     "text": [
      "self.evaluation_deque: deque([True, False, False, False, False, True, True, False, False, True, True, False, True, True, False, True, True, True, False, False, True, True, False, False, False, True, False, False, True, True, False, False, False, False, False, True, False, False, True, False, True, True, False, False, True, True, False, False, False, True], maxlen=50)\n",
      "eval_mean: 0.44\n"
     ]
    },
    {
     "name": "stderr",
     "output_type": "stream",
     "text": [
      "\r",
      " 23%|████████████████▊                                                        | 69284/300000 [56:32<4:55:15, 13.02it/s]"
     ]
    },
    {
     "name": "stdout",
     "output_type": "stream",
     "text": [
      "self.evaluation_deque: deque([True, False, False, False, False, True, True, False, False, True, True, False, True, True, False, True, True, True, False, False, True, True, False, False, False, True, False, False, True, True, False, False, False, False, False, True, False, False, True, False, True, True, False, False, True, True, False, False, False, True], maxlen=50)\n",
      "eval_mean: 0.44\n"
     ]
    },
    {
     "name": "stderr",
     "output_type": "stream",
     "text": [
      "\r",
      " 23%|████████████████▊                                                        | 69313/300000 [56:34<4:50:07, 13.25it/s]"
     ]
    },
    {
     "name": "stdout",
     "output_type": "stream",
     "text": [
      "self.evaluation_deque: deque([True, False, False, False, False, True, True, False, False, True, True, False, True, True, False, True, True, True, False, False, True, True, False, False, False, True, False, False, True, True, False, False, False, False, False, True, False, False, True, False, True, True, False, False, True, True, False, False, False, True], maxlen=50)\n",
      "eval_mean: 0.44\n"
     ]
    },
    {
     "name": "stderr",
     "output_type": "stream",
     "text": [
      "\r",
      " 23%|████████████████▉                                                        | 69370/300000 [56:38<4:44:21, 13.52it/s]"
     ]
    },
    {
     "name": "stdout",
     "output_type": "stream",
     "text": [
      "self.evaluation_deque: deque([True, False, False, False, False, True, True, False, False, True, True, False, True, True, False, True, True, True, False, False, True, True, False, False, False, True, False, False, True, True, False, False, False, False, False, True, False, False, True, False, True, True, False, False, True, True, False, False, False, True], maxlen=50)\n",
      "eval_mean: 0.44\n"
     ]
    },
    {
     "name": "stderr",
     "output_type": "stream",
     "text": [
      "\r",
      " 23%|████████████████▉                                                        | 69442/300000 [56:46<5:27:45, 11.72it/s]"
     ]
    },
    {
     "name": "stdout",
     "output_type": "stream",
     "text": [
      "self.evaluation_deque: deque([False, False, False, False, True, True, False, False, True, True, False, True, True, False, True, True, True, False, False, True, True, False, False, False, True, False, False, True, True, False, False, False, False, False, True, False, False, True, False, True, True, False, False, True, True, False, False, False, True, False], maxlen=50)\n",
      "eval_mean: 0.42\n"
     ]
    },
    {
     "name": "stderr",
     "output_type": "stream",
     "text": [
      "\r",
      " 23%|████████████████▉                                                        | 69527/300000 [56:52<5:02:28, 12.70it/s]"
     ]
    },
    {
     "name": "stdout",
     "output_type": "stream",
     "text": [
      "self.evaluation_deque: deque([False, False, False, False, True, True, False, False, True, True, False, True, True, False, True, True, True, False, False, True, True, False, False, False, True, False, False, True, True, False, False, False, False, False, True, False, False, True, False, True, True, False, False, True, True, False, False, False, True, False], maxlen=50)\n",
      "eval_mean: 0.42\n"
     ]
    },
    {
     "name": "stderr",
     "output_type": "stream",
     "text": [
      "\r",
      " 23%|████████████████▉                                                        | 69566/300000 [56:54<4:54:21, 13.05it/s]"
     ]
    },
    {
     "name": "stdout",
     "output_type": "stream",
     "text": [
      "self.evaluation_deque: deque([False, False, False, False, True, True, False, False, True, True, False, True, True, False, True, True, True, False, False, True, True, False, False, False, True, False, False, True, True, False, False, False, False, False, True, False, False, True, False, True, True, False, False, True, True, False, False, False, True, False], maxlen=50)\n",
      "eval_mean: 0.42\n"
     ]
    },
    {
     "name": "stderr",
     "output_type": "stream",
     "text": [
      "\r",
      " 23%|████████████████▉                                                        | 69659/300000 [57:01<4:45:32, 13.44it/s]"
     ]
    },
    {
     "name": "stdout",
     "output_type": "stream",
     "text": [
      "self.evaluation_deque: deque([False, False, False, False, True, True, False, False, True, True, False, True, True, False, True, True, True, False, False, True, True, False, False, False, True, False, False, True, True, False, False, False, False, False, True, False, False, True, False, True, True, False, False, True, True, False, False, False, True, False], maxlen=50)\n",
      "eval_mean: 0.42\n"
     ]
    },
    {
     "name": "stderr",
     "output_type": "stream",
     "text": [
      "\r",
      " 23%|████████████████▉                                                        | 69700/300000 [57:04<4:47:58, 13.33it/s]"
     ]
    },
    {
     "name": "stdout",
     "output_type": "stream",
     "text": [
      "self.evaluation_deque: deque([False, False, False, False, True, True, False, False, True, True, False, True, True, False, True, True, True, False, False, True, True, False, False, False, True, False, False, True, True, False, False, False, False, False, True, False, False, True, False, True, True, False, False, True, True, False, False, False, True, False], maxlen=50)\n",
      "eval_mean: 0.42\n"
     ]
    },
    {
     "name": "stderr",
     "output_type": "stream",
     "text": [
      "\r",
      " 23%|████████████████▉                                                        | 69743/300000 [57:09<5:23:06, 11.88it/s]"
     ]
    },
    {
     "name": "stdout",
     "output_type": "stream",
     "text": [
      "self.evaluation_deque: deque([False, False, False, True, True, False, False, True, True, False, True, True, False, True, True, True, False, False, True, True, False, False, False, True, False, False, True, True, False, False, False, False, False, True, False, False, True, False, True, True, False, False, True, True, False, False, False, True, False, True], maxlen=50)\n",
      "eval_mean: 0.44\n"
     ]
    },
    {
     "name": "stderr",
     "output_type": "stream",
     "text": [
      "\r",
      " 23%|████████████████▉                                                        | 69776/300000 [57:11<5:11:26, 12.32it/s]"
     ]
    },
    {
     "name": "stdout",
     "output_type": "stream",
     "text": [
      "self.evaluation_deque: deque([False, False, False, True, True, False, False, True, True, False, True, True, False, True, True, True, False, False, True, True, False, False, False, True, False, False, True, True, False, False, False, False, False, True, False, False, True, False, True, True, False, False, True, True, False, False, False, True, False, True], maxlen=50)\n",
      "eval_mean: 0.44\n"
     ]
    },
    {
     "name": "stderr",
     "output_type": "stream",
     "text": [
      "\r",
      " 23%|████████████████▉                                                        | 69820/300000 [57:15<5:06:04, 12.53it/s]"
     ]
    },
    {
     "name": "stdout",
     "output_type": "stream",
     "text": [
      "self.evaluation_deque: deque([False, False, False, True, True, False, False, True, True, False, True, True, False, True, True, True, False, False, True, True, False, False, False, True, False, False, True, True, False, False, False, False, False, True, False, False, True, False, True, True, False, False, True, True, False, False, False, True, False, True], maxlen=50)\n",
      "eval_mean: 0.44\n"
     ]
    },
    {
     "name": "stderr",
     "output_type": "stream",
     "text": [
      "\r",
      " 23%|████████████████▉                                                        | 69847/300000 [57:17<4:59:51, 12.79it/s]"
     ]
    },
    {
     "name": "stdout",
     "output_type": "stream",
     "text": [
      "self.evaluation_deque: deque([False, False, False, True, True, False, False, True, True, False, True, True, False, True, True, True, False, False, True, True, False, False, False, True, False, False, True, True, False, False, False, False, False, True, False, False, True, False, True, True, False, False, True, True, False, False, False, True, False, True], maxlen=50)\n",
      "eval_mean: 0.44\n"
     ]
    },
    {
     "name": "stderr",
     "output_type": "stream",
     "text": [
      "\r",
      " 23%|█████████████████                                                        | 69898/300000 [57:21<4:58:05, 12.87it/s]"
     ]
    },
    {
     "name": "stdout",
     "output_type": "stream",
     "text": [
      "self.evaluation_deque: deque([False, False, False, True, True, False, False, True, True, False, True, True, False, True, True, True, False, False, True, True, False, False, False, True, False, False, True, True, False, False, False, False, False, True, False, False, True, False, True, True, False, False, True, True, False, False, False, True, False, True], maxlen=50)\n",
      "eval_mean: 0.44\n"
     ]
    },
    {
     "name": "stderr",
     "output_type": "stream",
     "text": [
      "\r",
      " 23%|█████████████████                                                        | 69953/300000 [57:26<5:34:44, 11.45it/s]"
     ]
    },
    {
     "name": "stdout",
     "output_type": "stream",
     "text": [
      "self.evaluation_deque: deque([False, False, True, True, False, False, True, True, False, True, True, False, True, True, True, False, False, True, True, False, False, False, True, False, False, True, True, False, False, False, False, False, True, False, False, True, False, True, True, False, False, True, True, False, False, False, True, False, True, True], maxlen=50)\n",
      "eval_mean: 0.46\n"
     ]
    },
    {
     "name": "stderr",
     "output_type": "stream",
     "text": [
      "\r",
      " 23%|█████████████████                                                        | 70050/300000 [57:33<5:04:34, 12.58it/s]"
     ]
    },
    {
     "name": "stdout",
     "output_type": "stream",
     "text": [
      "self.evaluation_deque: deque([False, False, True, True, False, False, True, True, False, True, True, False, True, True, True, False, False, True, True, False, False, False, True, False, False, True, True, False, False, False, False, False, True, False, False, True, False, True, True, False, False, True, True, False, False, False, True, False, True, True], maxlen=50)\n",
      "eval_mean: 0.46\n"
     ]
    },
    {
     "name": "stderr",
     "output_type": "stream",
     "text": [
      "\r",
      " 23%|█████████████████                                                        | 70087/300000 [57:36<4:57:14, 12.89it/s]"
     ]
    },
    {
     "name": "stdout",
     "output_type": "stream",
     "text": [
      "self.evaluation_deque: deque([False, False, True, True, False, False, True, True, False, True, True, False, True, True, True, False, False, True, True, False, False, False, True, False, False, True, True, False, False, False, False, False, True, False, False, True, False, True, True, False, False, True, True, False, False, False, True, False, True, True], maxlen=50)\n",
      "eval_mean: 0.46\n"
     ]
    },
    {
     "name": "stderr",
     "output_type": "stream",
     "text": [
      "\r",
      " 23%|█████████████████                                                        | 70119/300000 [57:38<4:52:29, 13.10it/s]"
     ]
    },
    {
     "name": "stdout",
     "output_type": "stream",
     "text": [
      "self.evaluation_deque: deque([False, False, True, True, False, False, True, True, False, True, True, False, True, True, True, False, False, True, True, False, False, False, True, False, False, True, True, False, False, False, False, False, True, False, False, True, False, True, True, False, False, True, True, False, False, False, True, False, True, True], maxlen=50)\n",
      "eval_mean: 0.46\n"
     ]
    },
    {
     "name": "stderr",
     "output_type": "stream",
     "text": [
      "\r",
      " 23%|█████████████████                                                        | 70197/300000 [57:43<4:38:10, 13.77it/s]"
     ]
    },
    {
     "name": "stdout",
     "output_type": "stream",
     "text": [
      "self.evaluation_deque: deque([False, False, True, True, False, False, True, True, False, True, True, False, True, True, True, False, False, True, True, False, False, False, True, False, False, True, True, False, False, False, False, False, True, False, False, True, False, True, True, False, False, True, True, False, False, False, True, False, True, True], maxlen=50)\n",
      "eval_mean: 0.46\n"
     ]
    },
    {
     "name": "stderr",
     "output_type": "stream",
     "text": [
      "\r",
      " 23%|█████████████████                                                        | 70232/300000 [57:48<5:29:53, 11.61it/s]"
     ]
    },
    {
     "name": "stdout",
     "output_type": "stream",
     "text": [
      "self.evaluation_deque: deque([False, True, True, False, False, True, True, False, True, True, False, True, True, True, False, False, True, True, False, False, False, True, False, False, True, True, False, False, False, False, False, True, False, False, True, False, True, True, False, False, True, True, False, False, False, True, False, True, True, False], maxlen=50)\n",
      "eval_mean: 0.46\n"
     ]
    },
    {
     "name": "stderr",
     "output_type": "stream",
     "text": [
      "\r",
      " 23%|█████████████████                                                        | 70277/300000 [57:51<5:15:34, 12.13it/s]"
     ]
    },
    {
     "name": "stdout",
     "output_type": "stream",
     "text": [
      "self.evaluation_deque: deque([False, True, True, False, False, True, True, False, True, True, False, True, True, True, False, False, True, True, False, False, False, True, False, False, True, True, False, False, False, False, False, True, False, False, True, False, True, True, False, False, True, True, False, False, False, True, False, True, True, False], maxlen=50)\n",
      "eval_mean: 0.46\n"
     ]
    },
    {
     "name": "stderr",
     "output_type": "stream",
     "text": [
      "\r",
      " 23%|█████████████████                                                        | 70310/300000 [57:54<5:07:40, 12.44it/s]"
     ]
    },
    {
     "name": "stdout",
     "output_type": "stream",
     "text": [
      "self.evaluation_deque: deque([False, True, True, False, False, True, True, False, True, True, False, True, True, True, False, False, True, True, False, False, False, True, False, False, True, True, False, False, False, False, False, True, False, False, True, False, True, True, False, False, True, True, False, False, False, True, False, True, True, False], maxlen=50)\n",
      "eval_mean: 0.46\n"
     ]
    },
    {
     "name": "stderr",
     "output_type": "stream",
     "text": [
      "\r",
      " 23%|█████████████████▏                                                       | 70390/300000 [58:00<4:53:42, 13.03it/s]"
     ]
    },
    {
     "name": "stdout",
     "output_type": "stream",
     "text": [
      "self.evaluation_deque: deque([False, True, True, False, False, True, True, False, True, True, False, True, True, True, False, False, True, True, False, False, False, True, False, False, True, True, False, False, False, False, False, True, False, False, True, False, True, True, False, False, True, True, False, False, False, True, False, True, True, False], maxlen=50)\n",
      "eval_mean: 0.46\n"
     ]
    },
    {
     "name": "stderr",
     "output_type": "stream",
     "text": [
      "\r",
      " 23%|█████████████████▏                                                       | 70471/300000 [58:06<4:50:20, 13.18it/s]"
     ]
    },
    {
     "name": "stdout",
     "output_type": "stream",
     "text": [
      "self.evaluation_deque: deque([False, True, True, False, False, True, True, False, True, True, False, True, True, True, False, False, True, True, False, False, False, True, False, False, True, True, False, False, False, False, False, True, False, False, True, False, True, True, False, False, True, True, False, False, False, True, False, True, True, False], maxlen=50)\n",
      "eval_mean: 0.46\n"
     ]
    },
    {
     "name": "stderr",
     "output_type": "stream",
     "text": [
      "\r",
      " 24%|█████████████████▏                                                       | 70555/300000 [58:13<5:03:57, 12.58it/s]"
     ]
    },
    {
     "name": "stdout",
     "output_type": "stream",
     "text": [
      "self.evaluation_deque: deque([True, True, False, False, True, True, False, True, True, False, True, True, True, False, False, True, True, False, False, False, True, False, False, True, True, False, False, False, False, False, True, False, False, True, False, True, True, False, False, True, True, False, False, False, True, False, True, True, False, True], maxlen=50)\n",
      "eval_mean: 0.48\n"
     ]
    },
    {
     "name": "stderr",
     "output_type": "stream",
     "text": [
      "\r",
      " 24%|█████████████████▏                                                       | 70650/300000 [58:19<4:47:24, 13.30it/s]"
     ]
    },
    {
     "name": "stdout",
     "output_type": "stream",
     "text": [
      "self.evaluation_deque: deque([True, True, False, False, True, True, False, True, True, False, True, True, True, False, False, True, True, False, False, False, True, False, False, True, True, False, False, False, False, False, True, False, False, True, False, True, True, False, False, True, True, False, False, False, True, False, True, True, False, True], maxlen=50)\n",
      "eval_mean: 0.48\n"
     ]
    },
    {
     "name": "stderr",
     "output_type": "stream",
     "text": [
      "\r",
      " 24%|█████████████████▏                                                       | 70686/300000 [58:22<4:44:57, 13.41it/s]"
     ]
    },
    {
     "name": "stdout",
     "output_type": "stream",
     "text": [
      "self.evaluation_deque: deque([True, True, False, False, True, True, False, True, True, False, True, True, True, False, False, True, True, False, False, False, True, False, False, True, True, False, False, False, False, False, True, False, False, True, False, True, True, False, False, True, True, False, False, False, True, False, True, True, False, True], maxlen=50)\n",
      "eval_mean: 0.48\n"
     ]
    },
    {
     "name": "stderr",
     "output_type": "stream",
     "text": [
      "\r",
      " 24%|█████████████████▏                                                       | 70738/300000 [58:25<4:40:22, 13.63it/s]"
     ]
    },
    {
     "name": "stdout",
     "output_type": "stream",
     "text": [
      "self.evaluation_deque: deque([True, True, False, False, True, True, False, True, True, False, True, True, True, False, False, True, True, False, False, False, True, False, False, True, True, False, False, False, False, False, True, False, False, True, False, True, True, False, False, True, True, False, False, False, True, False, True, True, False, True], maxlen=50)\n",
      "eval_mean: 0.48\n"
     ]
    },
    {
     "name": "stderr",
     "output_type": "stream",
     "text": [
      "\r",
      " 24%|█████████████████▏                                                       | 70773/300000 [58:28<4:39:48, 13.65it/s]"
     ]
    },
    {
     "name": "stdout",
     "output_type": "stream",
     "text": [
      "self.evaluation_deque: deque([True, True, False, False, True, True, False, True, True, False, True, True, True, False, False, True, True, False, False, False, True, False, False, True, True, False, False, False, False, False, True, False, False, True, False, True, True, False, False, True, True, False, False, False, True, False, True, True, False, True], maxlen=50)\n",
      "eval_mean: 0.48\n"
     ]
    },
    {
     "name": "stderr",
     "output_type": "stream",
     "text": [
      "\r",
      " 24%|█████████████████▏                                                       | 70836/300000 [58:35<5:18:57, 11.97it/s]"
     ]
    },
    {
     "name": "stdout",
     "output_type": "stream",
     "text": [
      "self.evaluation_deque: deque([True, False, False, True, True, False, True, True, False, True, True, True, False, False, True, True, False, False, False, True, False, False, True, True, False, False, False, False, False, True, False, False, True, False, True, True, False, False, True, True, False, False, False, True, False, True, True, False, True, False], maxlen=50)\n",
      "eval_mean: 0.46\n"
     ]
    }
   ],
   "source": [
    "import argparse\n",
    "import os\n",
    "\n",
    "import import_ipynb\n",
    "from MainEnvironment_test3 import EnvironmentParams, Environment\n",
    "\n",
    "from Utils_test3 import *\n",
    "\n",
    "if __name__ == \"__main__\":\n",
    "\n",
    "    parser = argparse.ArgumentParser()\n",
    "    parser.add_argument('--gpu', action='store_true', help='Activates usage of GPU')\n",
    "    parser.add_argument('--generate_config', action='store_true', help='Enable to write default config only')\n",
    "    #parser.add_argument('--config', default=None, help='Path to config file')\n",
    "    parser.add_argument('--config', default='config/grid_image.json', help='Path to config file')\n",
    "    parser.add_argument('--id', default='grid_image', help='Overrides the logfile name and the save name')\n",
    "\n",
    "    #args = parser.parse_args()\n",
    "    args = parser.parse_args(args=[])\n",
    "\n",
    "    if args.generate_config:\n",
    "        generate_config(EnvironmentParams(), \"config/default.json\")\n",
    "        exit(0)\n",
    "\n",
    "    if args.config is None:\n",
    "        print(\"Config file needed!\")\n",
    "        exit(1)\n",
    "\n",
    "    if not args.gpu:\n",
    "        os.environ[\"CUDA_VISIBLE_DEVICES\"] = \"-1\"\n",
    "\n",
    "    params = read_config(args.config)\n",
    "\n",
    "    if args.id is not None:\n",
    "        params.model_stats_params.save_model = \"models/\" + args.id\n",
    "        params.model_stats_params.log_file_name = args.id\n",
    "\n",
    "    env = Environment(params) \n",
    "\n",
    "    env.run()"
   ]
  },
  {
   "cell_type": "code",
   "execution_count": null,
   "metadata": {},
   "outputs": [],
   "source": []
  }
 ],
 "metadata": {
  "kernelspec": {
   "display_name": "Python 3",
   "language": "python",
   "name": "python3"
  },
  "language_info": {
   "codemirror_mode": {
    "name": "ipython",
    "version": 3
   },
   "file_extension": ".py",
   "mimetype": "text/x-python",
   "name": "python",
   "nbconvert_exporter": "python",
   "pygments_lexer": "ipython3",
   "version": "3.7.9"
  },
  "toc": {
   "base_numbering": 1,
   "nav_menu": {},
   "number_sections": true,
   "sideBar": true,
   "skip_h1_title": false,
   "title_cell": "Table of Contents",
   "title_sidebar": "Contents",
   "toc_cell": false,
   "toc_position": {},
   "toc_section_display": true,
   "toc_window_display": false
  }
 },
 "nbformat": 4,
 "nbformat_minor": 5
}
