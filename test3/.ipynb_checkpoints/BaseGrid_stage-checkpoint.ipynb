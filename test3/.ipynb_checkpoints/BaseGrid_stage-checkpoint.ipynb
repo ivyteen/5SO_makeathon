{
 "cells": [
  {
   "cell_type": "code",
   "execution_count": 1,
   "id": "d8308b27",
   "metadata": {},
   "outputs": [
    {
     "name": "stdout",
     "output_type": "stream",
     "text": [
      "importing Jupyter notebook from ModelStats_stage.ipynb\n",
      "importing Jupyter notebook from Map_stage.ipynb\n"
     ]
    }
   ],
   "source": [
    "import import_ipynb\n",
    "from ModelStats_stage import ModelStats\n",
    "import Map_stage as Map\n",
    "\n",
    "\n",
    "class BaseGridParams:\n",
    "    def __init__(self):\n",
    "        self.movement_range = (60, 60)\n",
    "        self.map_path = 'res/Grid_image32.png'\n",
    "\n",
    "\n",
    "class BaseGrid:\n",
    "    def __init__(self, params: BaseGridParams, stats: ModelStats):\n",
    "        self.map_image = Map.load_map(params.map_path) #해당 경로path로 imread\n",
    "        self.shape = self.map_image.start_land_zone.shape #imread한 map_image에 대해서 boolean값의 크기 리턴\n",
    "        self.starting_vector = self.map_image.get_starting_vector() #start, land zone에 대한 좌표값 리턴\n",
    "        #(44 - 48), (22 - 27)까지의 좌표들이 나옴\n",
    "        stats.set_env_map_callback(self.get_map_image) \n",
    "        #env_map_callback(최초 None값)을 get_map_image로 리턴 ??\n",
    "\n",
    "    def get_map_image(self):\n",
    "        return self.map_image\n",
    "\n",
    "    def get_grid_size(self):\n",
    "        return self.shape\n",
    "\n",
    "    def get_no_fly(self):\n",
    "        return self.map_image.nfz\n",
    "\n",
    "    def get_landing_zone(self):\n",
    "        return self.map_image.start_land_zone"
   ]
  }
 ],
 "metadata": {
  "kernelspec": {
   "display_name": "Python 3",
   "language": "python",
   "name": "python3"
  },
  "language_info": {
   "codemirror_mode": {
    "name": "ipython",
    "version": 3
   },
   "file_extension": ".py",
   "mimetype": "text/x-python",
   "name": "python",
   "nbconvert_exporter": "python",
   "pygments_lexer": "ipython3",
   "version": "3.8.8"
  }
 },
 "nbformat": 4,
 "nbformat_minor": 5
}
