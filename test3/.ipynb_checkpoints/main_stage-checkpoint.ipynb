{
 "cells": [
  {
   "cell_type": "code",
   "execution_count": 1,
   "id": "0d355e8a",
   "metadata": {},
   "outputs": [],
   "source": [
    "import tensorflow as tf\n",
    "config = tf.compat.v1.ConfigProto()\n",
    "config.gpu_options.allow_growth = True\n",
    "session = tf.compat.v1.Session(config=config)"
   ]
  },
  {
   "cell_type": "code",
   "execution_count": 2,
   "id": "94dfd405",
   "metadata": {
    "scrolled": false
   },
   "outputs": [
    {
     "name": "stdout",
     "output_type": "stream",
     "text": [
      "[name: \"/device:CPU:0\"\n",
      "device_type: \"CPU\"\n",
      "memory_limit: 268435456\n",
      "locality {\n",
      "}\n",
      "incarnation: 8687641796157148847\n",
      ", name: \"/device:GPU:0\"\n",
      "device_type: \"GPU\"\n",
      "memory_limit: 6946941824\n",
      "locality {\n",
      "  bus_id: 1\n",
      "  links {\n",
      "  }\n",
      "}\n",
      "incarnation: 11072639761380087884\n",
      "physical_device_desc: \"device: 0, name: Quadro RTX 4000, pci bus id: 0000:b3:00.0, compute capability: 7.5\"\n",
      "]\n"
     ]
    }
   ],
   "source": [
    "import tensorflow\n",
    "from tensorflow.python.client import device_lib\n",
    "print(device_lib.list_local_devices())"
   ]
  },
  {
   "cell_type": "code",
   "execution_count": 3,
   "id": "f470eb05",
   "metadata": {},
   "outputs": [
    {
     "name": "stdout",
     "output_type": "stream",
     "text": [
      "WARNING:tensorflow:From <ipython-input-3-17bb7203622b>:1: is_gpu_available (from tensorflow.python.framework.test_util) is deprecated and will be removed in a future version.\n",
      "Instructions for updating:\n",
      "Use `tf.config.list_physical_devices('GPU')` instead.\n"
     ]
    },
    {
     "data": {
      "text/plain": [
       "True"
      ]
     },
     "execution_count": 3,
     "metadata": {},
     "output_type": "execute_result"
    }
   ],
   "source": [
    "tf.test.is_gpu_available()"
   ]
  },
  {
   "cell_type": "code",
   "execution_count": 4,
   "id": "e18182c9",
   "metadata": {
    "scrolled": true
   },
   "outputs": [
    {
     "name": "stdout",
     "output_type": "stream",
     "text": [
      "importing Jupyter notebook from MainEnvironment_stage.ipynb\n",
      "importing Jupyter notebook from Agent_stage.ipynb\n",
      "importing Jupyter notebook from Trainer_stage.ipynb\n",
      "importing Jupyter notebook from ReplayMemory_stage.ipynb\n",
      "importing Jupyter notebook from Display_stage.ipynb\n",
      "importing Jupyter notebook from Map_stage.ipynb\n",
      "importing Jupyter notebook from BaseDisplay_stage.ipynb\n",
      "importing Jupyter notebook from Grid_stage.ipynb\n",
      "importing Jupyter notebook from DeviceManager_stage.ipynb\n",
      "importing Jupyter notebook from IoTDevice_stage.ipynb\n",
      "importing Jupyter notebook from Channel_stage.ipynb\n",
      "importing Jupyter notebook from Shadowing_stage.ipynb\n",
      "importing Jupyter notebook from State_stage.ipynb\n",
      "importing Jupyter notebook from StateUtils_stage.ipynb\n",
      "importing Jupyter notebook from BaseState_stage.ipynb\n",
      "importing Jupyter notebook from BaseGrid_stage.ipynb\n",
      "importing Jupyter notebook from ModelStats_stage.ipynb\n",
      "importing Jupyter notebook from Physics_stage.ipynb\n",
      "importing Jupyter notebook from GridActions_stage.ipynb\n",
      "importing Jupyter notebook from GridPhysics_stage.ipynb\n",
      "importing Jupyter notebook from Rewards_stage.ipynb\n",
      "importing Jupyter notebook from GridRewards_stage.ipynb\n",
      "importing Jupyter notebook from Environment_stage.ipynb\n",
      "importing Jupyter notebook from Utils_stage.ipynb\n",
      "Parse Params file here from  config/grid_image.json  and pass into main\n",
      "logs/training/grid_image already exists.\n",
      "Override log file? [Y/n]\n",
      "1\n",
      "Deleting old log dir\n"
     ]
    },
    {
     "name": "stderr",
     "output_type": "stream",
     "text": [
      "\r",
      "  0%|                                                                                      | 0/25000.0 [00:00<?, ?it/s]"
     ]
    },
    {
     "name": "stdout",
     "output_type": "stream",
     "text": [
      "Model: \"model_6\"\n",
      "__________________________________________________________________________________________________\n",
      "Layer (type)                    Output Shape         Param #     Connected to                     \n",
      "==================================================================================================\n",
      "boolean_map_input (InputLayer)  [(None, 63, 63, 4)]  0                                            \n",
      "__________________________________________________________________________________________________\n",
      "tf.cast (TFOpLambda)            (None, 63, 63, 4)    0           boolean_map_input[0][0]          \n",
      "__________________________________________________________________________________________________\n",
      "float_map_input (InputLayer)    [(None, 63, 63, 2)]  0                                            \n",
      "__________________________________________________________________________________________________\n",
      "tf.concat (TFOpLambda)          (None, 63, 63, 6)    0           tf.cast[0][0]                    \n",
      "                                                                 float_map_input[0][0]            \n",
      "__________________________________________________________________________________________________\n",
      "average_pooling2d (AveragePooli (None, 21, 21, 6)    0           tf.concat[0][0]                  \n",
      "__________________________________________________________________________________________________\n",
      "tf.image.central_crop (TFOpLamb (None, 17, 17, 6)    0           tf.concat[0][0]                  \n",
      "__________________________________________________________________________________________________\n",
      "tf.stop_gradient (TFOpLambda)   (None, 21, 21, 6)    0           average_pooling2d[0][0]          \n",
      "__________________________________________________________________________________________________\n",
      "tf.stop_gradient_1 (TFOpLambda) (None, 17, 17, 6)    0           tf.image.central_crop[0][0]      \n",
      "__________________________________________________________________________________________________\n",
      "global_conv_1 (Conv2D)          (None, 17, 17, 16)   2416        tf.stop_gradient[0][0]           \n",
      "__________________________________________________________________________________________________\n",
      "local_conv_1 (Conv2D)           (None, 13, 13, 16)   2416        tf.stop_gradient_1[0][0]         \n",
      "__________________________________________________________________________________________________\n",
      "global_conv_2 (Conv2D)          (None, 13, 13, 16)   6416        global_conv_1[0][0]              \n",
      "__________________________________________________________________________________________________\n",
      "local_conv_2 (Conv2D)           (None, 9, 9, 16)     6416        local_conv_1[0][0]               \n",
      "__________________________________________________________________________________________________\n",
      "global_flatten (Flatten)        (None, 2704)         0           global_conv_2[0][0]              \n",
      "__________________________________________________________________________________________________\n",
      "local_flatten (Flatten)         (None, 1296)         0           local_conv_2[0][0]               \n",
      "__________________________________________________________________________________________________\n",
      "concat_flatten (Concatenate)    (None, 4000)         0           global_flatten[0][0]             \n",
      "                                                                 local_flatten[0][0]              \n",
      "__________________________________________________________________________________________________\n",
      "scalars_input (InputLayer)      [(None, 1)]          0                                            \n",
      "__________________________________________________________________________________________________\n",
      "termination_input (InputLayer)  [(None,)]            0                                            \n",
      "__________________________________________________________________________________________________\n",
      "concat (Concatenate)            (None, 4001)         0           concat_flatten[0][0]             \n",
      "                                                                 scalars_input[0][0]              \n",
      "__________________________________________________________________________________________________\n",
      "tf.math.logical_not (TFOpLambda (None,)              0           termination_input[0][0]          \n",
      "__________________________________________________________________________________________________\n",
      "hidden_layer_all_0 (Dense)      (None, 256)          1024512     concat[0][0]                     \n",
      "__________________________________________________________________________________________________\n",
      "tf.cast_1 (TFOpLambda)          (None,)              0           tf.math.logical_not[0][0]        \n",
      "__________________________________________________________________________________________________\n",
      "hidden_layer_all_1 (Dense)      (None, 256)          65792       hidden_layer_all_0[0][0]         \n",
      "__________________________________________________________________________________________________\n",
      "q_star_input (InputLayer)       [(None,)]            0                                            \n",
      "__________________________________________________________________________________________________\n",
      "tf.math.multiply_2 (TFOpLambda) (None,)              0           tf.cast_1[0][0]                  \n",
      "__________________________________________________________________________________________________\n",
      "hidden_layer_all_2 (Dense)      (None, 256)          65792       hidden_layer_all_1[0][0]         \n",
      "__________________________________________________________________________________________________\n",
      "reward_input (InputLayer)       [(None,)]            0                                            \n",
      "__________________________________________________________________________________________________\n",
      "tf.math.multiply_3 (TFOpLambda) (None,)              0           q_star_input[0][0]               \n",
      "                                                                 tf.math.multiply_2[0][0]         \n",
      "__________________________________________________________________________________________________\n",
      "action_input (InputLayer)       [(None,)]            0                                            \n",
      "__________________________________________________________________________________________________\n",
      "output_layer (Dense)            (None, 6)            1542        hidden_layer_all_2[0][0]         \n",
      "__________________________________________________________________________________________________\n",
      "tf.math.add (TFOpLambda)        (None,)              0           reward_input[0][0]               \n",
      "                                                                 tf.math.multiply_3[0][0]         \n",
      "__________________________________________________________________________________________________\n",
      "tf.one_hot_2 (TFOpLambda)       (None, 6)            0           action_input[0][0]               \n",
      "__________________________________________________________________________________________________\n",
      "tf.expand_dims (TFOpLambda)     (None, 1)            0           tf.math.add[0][0]                \n",
      "__________________________________________________________________________________________________\n",
      "tf.one_hot_1 (TFOpLambda)       (None, 6)            0           action_input[0][0]               \n",
      "__________________________________________________________________________________________________\n",
      "tf.math.multiply_1 (TFOpLambda) (None, 6)            0           output_layer[0][0]               \n",
      "                                                                 tf.one_hot_2[0][0]               \n",
      "__________________________________________________________________________________________________\n",
      "tf.math.multiply_4 (TFOpLambda) (None, 6)            0           tf.expand_dims[0][0]             \n",
      "                                                                 tf.one_hot_1[0][0]               \n",
      "__________________________________________________________________________________________________\n",
      "tf.stop_gradient_4 (TFOpLambda) (None, 6)            0           tf.math.multiply_1[0][0]         \n",
      "__________________________________________________________________________________________________\n",
      "tf.math.add_1 (TFOpLambda)      (None, 6)            0           tf.math.multiply_4[0][0]         \n",
      "                                                                 tf.stop_gradient_4[0][0]         \n",
      "__________________________________________________________________________________________________\n",
      "tf.convert_to_tensor (TFOpLambd (None, 6)            0           output_layer[0][0]               \n",
      "__________________________________________________________________________________________________\n",
      "tf.convert_to_tensor_1 (TFOpLam (None, 6)            0           tf.math.add_1[0][0]              \n",
      "__________________________________________________________________________________________________\n",
      "tf.convert_to_tensor_2 (TFOpLam (None, 6)            0           tf.convert_to_tensor[0][0]       \n",
      "__________________________________________________________________________________________________\n",
      "tf.cast_2 (TFOpLambda)          (None, 6)            0           tf.convert_to_tensor_1[0][0]     \n",
      "__________________________________________________________________________________________________\n",
      "tf.math.squared_difference (TFO (None, 6)            0           tf.convert_to_tensor_2[0][0]     \n",
      "                                                                 tf.cast_2[0][0]                  \n",
      "__________________________________________________________________________________________________\n",
      "tf.math.reduce_mean (TFOpLambda (None,)              0           tf.math.squared_difference[0][0] \n",
      "__________________________________________________________________________________________________\n",
      "tf.cast_3 (TFOpLambda)          (None,)              0           tf.math.reduce_mean[0][0]        \n",
      "__________________________________________________________________________________________________\n",
      "tf.math.multiply_5 (TFOpLambda) (None,)              0           tf.cast_3[0][0]                  \n",
      "__________________________________________________________________________________________________\n",
      "tf.math.reduce_sum_1 (TFOpLambd ()                   0           tf.math.multiply_5[0][0]         \n",
      "__________________________________________________________________________________________________\n",
      "tf.compat.v1.size (TFOpLambda)  ()                   0           tf.math.multiply_5[0][0]         \n",
      "__________________________________________________________________________________________________\n",
      "tf.math.reduce_sum_2 (TFOpLambd ()                   0           tf.math.reduce_sum_1[0][0]       \n",
      "__________________________________________________________________________________________________\n",
      "tf.cast_4 (TFOpLambda)          ()                   0           tf.compat.v1.size[0][0]          \n",
      "__________________________________________________________________________________________________\n",
      "tf.math.divide_no_nan (TFOpLamb ()                   0           tf.math.reduce_sum_2[0][0]       \n",
      "                                                                 tf.cast_4[0][0]                  \n",
      "__________________________________________________________________________________________________\n",
      "tf.cast_5 (TFOpLambda)          ()                   0           tf.math.divide_no_nan[0][0]      \n",
      "==================================================================================================\n",
      "Total params: 1,175,302\n",
      "Trainable params: 1,175,302\n",
      "Non-trainable params: 0\n",
      "__________________________________________________________________________________________________\n",
      "Filling replay memory\n"
     ]
    },
    {
     "name": "stderr",
     "output_type": "stream",
     "text": [
      "100%|████████████████████████████████████████████████████████████████████████▊| 24954/25000.0 [02:02<00:00, 204.40it/s]\n",
      "  0%|                                                                                       | 0/100000 [00:00<?, ?it/s]"
     ]
    },
    {
     "name": "stdout",
     "output_type": "stream",
     "text": [
      "Running  grid_image\n"
     ]
    },
    {
     "name": "stderr",
     "output_type": "stream",
     "text": [
      "\r",
      " 15%|███████████                                                              | 15144/100000 [00:07<00:39, 2134.98it/s]"
     ]
    },
    {
     "name": "stdout",
     "output_type": "stream",
     "text": [
      "self.evaluation_deque: deque([], maxlen=20)\n",
      "self.evaluation_deque: deque([], maxlen=20)\n",
      "self.evaluation_deque: deque([], maxlen=20)\n"
     ]
    },
    {
     "name": "stderr",
     "output_type": "stream",
     "text": [
      " 15%|███████████▎                                                              | 15324/100000 [00:23<02:49, 498.23it/s]"
     ]
    },
    {
     "name": "stdout",
     "output_type": "stream",
     "text": [
      "self.evaluation_deque: deque([], maxlen=20)\n"
     ]
    },
    {
     "name": "stderr",
     "output_type": "stream",
     "text": [
      "\r",
      " 15%|███████████▍                                                              | 15384/100000 [00:32<04:25, 318.86it/s]"
     ]
    },
    {
     "name": "stdout",
     "output_type": "stream",
     "text": [
      "self.get_collection_ratio(): 0.9375754557926816\n",
      "self.comms.count(True) : 0\n",
      "len(self.comms) : 3\n",
      "self.state.ratio_commed: 0.0\n",
      "self.comms.count(True) : 0\n",
      "len(self.comms) : 3\n",
      "self.evaluation_deque: deque([0.0], maxlen=20)\n",
      "self.evaluation_deque: deque([0.0], maxlen=20)\n"
     ]
    },
    {
     "name": "stderr",
     "output_type": "stream",
     "text": [
      "\r",
      " 16%|███████████▍                                                              | 15504/100000 [00:44<07:30, 187.71it/s]"
     ]
    },
    {
     "name": "stdout",
     "output_type": "stream",
     "text": [
      "self.evaluation_deque: deque([0.0], maxlen=20)\n"
     ]
    },
    {
     "name": "stderr",
     "output_type": "stream",
     "text": [
      "\r",
      " 16%|███████████▌                                                              | 15564/100000 [00:49<08:56, 157.27it/s]"
     ]
    },
    {
     "name": "stdout",
     "output_type": "stream",
     "text": [
      "self.evaluation_deque: deque([0.0], maxlen=20)\n"
     ]
    },
    {
     "name": "stderr",
     "output_type": "stream",
     "text": [
      "\r",
      " 16%|███████████▌                                                              | 15624/100000 [00:53<10:57, 128.41it/s]"
     ]
    },
    {
     "name": "stdout",
     "output_type": "stream",
     "text": [
      "self.evaluation_deque: deque([0.0], maxlen=20)\n"
     ]
    },
    {
     "name": "stderr",
     "output_type": "stream",
     "text": [
      "\r",
      " 16%|███████████▊                                                               | 15684/100000 [00:59<15:01, 93.56it/s]"
     ]
    },
    {
     "name": "stdout",
     "output_type": "stream",
     "text": [
      "self.get_collection_ratio(): 0.5258020204399516\n",
      "self.comms.count(True) : 0\n",
      "len(self.comms) : 2\n",
      "self.state.ratio_commed: 0.0\n",
      "self.comms.count(True) : 0\n",
      "len(self.comms) : 2\n",
      "self.evaluation_deque: deque([0.0, 0.0], maxlen=20)\n"
     ]
    },
    {
     "name": "stderr",
     "output_type": "stream",
     "text": [
      "\r",
      " 16%|███████████▊                                                               | 15744/100000 [01:04<18:35, 75.54it/s]"
     ]
    },
    {
     "name": "stdout",
     "output_type": "stream",
     "text": [
      "self.evaluation_deque: deque([0.0, 0.0], maxlen=20)\n"
     ]
    },
    {
     "name": "stderr",
     "output_type": "stream",
     "text": [
      "\r",
      " 16%|███████████▊                                                               | 15804/100000 [01:08<23:08, 60.64it/s]"
     ]
    },
    {
     "name": "stdout",
     "output_type": "stream",
     "text": [
      "self.evaluation_deque: deque([0.0, 0.0], maxlen=20)\n"
     ]
    },
    {
     "name": "stderr",
     "output_type": "stream",
     "text": [
      "\r",
      " 16%|███████████▉                                                               | 15864/100000 [01:13<30:33, 45.90it/s]"
     ]
    },
    {
     "name": "stdout",
     "output_type": "stream",
     "text": [
      "self.evaluation_deque: deque([0.0, 0.0], maxlen=20)\n"
     ]
    },
    {
     "name": "stderr",
     "output_type": "stream",
     "text": [
      "\r",
      " 16%|███████████▉                                                               | 15924/100000 [01:18<37:14, 37.62it/s]"
     ]
    },
    {
     "name": "stdout",
     "output_type": "stream",
     "text": [
      "self.evaluation_deque: deque([0.0, 0.0], maxlen=20)\n"
     ]
    },
    {
     "name": "stderr",
     "output_type": "stream",
     "text": [
      "\r",
      " 16%|███████████▉                                                               | 15984/100000 [01:25<53:51, 26.00it/s]"
     ]
    },
    {
     "name": "stdout",
     "output_type": "stream",
     "text": [
      "self.get_collection_ratio(): 0.2596951314912672\n",
      "self.comms.count(True) : 0\n",
      "len(self.comms) : 1\n",
      "self.state.ratio_commed: 0.0\n",
      "self.comms.count(True) : 0\n",
      "len(self.comms) : 1\n",
      "self.evaluation_deque: deque([0.0, 0.0, 0.0], maxlen=20)\n"
     ]
    },
    {
     "name": "stderr",
     "output_type": "stream",
     "text": [
      "\r",
      " 16%|███████████▋                                                             | 16044/100000 [01:30<1:03:53, 21.90it/s]"
     ]
    },
    {
     "name": "stdout",
     "output_type": "stream",
     "text": [
      "self.evaluation_deque: deque([0.0, 0.0, 0.0], maxlen=20)\n"
     ]
    },
    {
     "name": "stderr",
     "output_type": "stream",
     "text": [
      "\r",
      " 16%|███████████▊                                                             | 16104/100000 [01:36<1:13:52, 18.93it/s]"
     ]
    },
    {
     "name": "stdout",
     "output_type": "stream",
     "text": [
      "self.evaluation_deque: deque([0.0, 0.0, 0.0], maxlen=20)\n"
     ]
    },
    {
     "name": "stderr",
     "output_type": "stream",
     "text": [
      "\r",
      " 16%|███████████▊                                                             | 16164/100000 [01:41<1:23:21, 16.76it/s]"
     ]
    },
    {
     "name": "stdout",
     "output_type": "stream",
     "text": [
      "self.evaluation_deque: deque([0.0, 0.0, 0.0], maxlen=20)\n"
     ]
    },
    {
     "name": "stderr",
     "output_type": "stream",
     "text": [
      "\r",
      " 16%|███████████▊                                                             | 16224/100000 [01:46<1:32:06, 15.16it/s]"
     ]
    },
    {
     "name": "stdout",
     "output_type": "stream",
     "text": [
      "self.evaluation_deque: deque([0.0, 0.0, 0.0], maxlen=20)\n"
     ]
    },
    {
     "name": "stderr",
     "output_type": "stream",
     "text": [
      "\r",
      " 16%|███████████▉                                                             | 16284/100000 [01:52<1:45:02, 13.28it/s]"
     ]
    },
    {
     "name": "stdout",
     "output_type": "stream",
     "text": [
      "self.get_collection_ratio(): 0.7414115181010461\n",
      "self.comms.count(True) : 0\n",
      "len(self.comms) : 2\n",
      "self.state.ratio_commed: 0.0\n",
      "self.comms.count(True) : 0\n",
      "len(self.comms) : 2\n",
      "self.evaluation_deque: deque([0.0, 0.0, 0.0, 0.0], maxlen=20)\n"
     ]
    },
    {
     "name": "stderr",
     "output_type": "stream",
     "text": [
      "\r",
      " 16%|███████████▉                                                             | 16344/100000 [01:59<1:54:41, 12.16it/s]"
     ]
    },
    {
     "name": "stdout",
     "output_type": "stream",
     "text": [
      "self.evaluation_deque: deque([0.0, 0.0, 0.0, 0.0], maxlen=20)\n"
     ]
    },
    {
     "name": "stderr",
     "output_type": "stream",
     "text": [
      "\r",
      " 16%|███████████▉                                                             | 16404/100000 [02:05<2:02:14, 11.40it/s]"
     ]
    },
    {
     "name": "stdout",
     "output_type": "stream",
     "text": [
      "self.evaluation_deque: deque([0.0, 0.0, 0.0, 0.0], maxlen=20)\n"
     ]
    },
    {
     "name": "stderr",
     "output_type": "stream",
     "text": [
      "\r",
      " 16%|████████████                                                             | 16464/100000 [02:11<2:07:58, 10.88it/s]"
     ]
    },
    {
     "name": "stdout",
     "output_type": "stream",
     "text": [
      "self.evaluation_deque: deque([0.0, 0.0, 0.0, 0.0], maxlen=20)\n"
     ]
    },
    {
     "name": "stderr",
     "output_type": "stream",
     "text": [
      "\r",
      " 17%|████████████                                                             | 16524/100000 [02:17<2:13:13, 10.44it/s]"
     ]
    },
    {
     "name": "stdout",
     "output_type": "stream",
     "text": [
      "self.evaluation_deque: deque([0.0, 0.0, 0.0, 0.0], maxlen=20)\n"
     ]
    },
    {
     "name": "stderr",
     "output_type": "stream",
     "text": [
      "\r",
      " 17%|████████████                                                             | 16584/100000 [02:24<2:22:03,  9.79it/s]"
     ]
    },
    {
     "name": "stdout",
     "output_type": "stream",
     "text": [
      "self.get_collection_ratio(): 0.9622786411972707\n",
      "self.comms.count(True) : 0\n",
      "len(self.comms) : 3\n",
      "self.state.ratio_commed: 0.0\n",
      "self.comms.count(True) : 0\n",
      "len(self.comms) : 3\n",
      "self.evaluation_deque: deque([0.0, 0.0, 0.0, 0.0, 0.0], maxlen=20)\n"
     ]
    },
    {
     "name": "stderr",
     "output_type": "stream",
     "text": [
      "\r",
      " 17%|████████████▏                                                            | 16644/100000 [02:29<2:10:35, 10.64it/s]"
     ]
    },
    {
     "name": "stdout",
     "output_type": "stream",
     "text": [
      "self.evaluation_deque: deque([0.0, 0.0, 0.0, 0.0, 0.0], maxlen=20)\n"
     ]
    },
    {
     "name": "stderr",
     "output_type": "stream",
     "text": [
      "\r",
      " 17%|████████████▏                                                            | 16704/100000 [02:33<2:01:42, 11.41it/s]"
     ]
    },
    {
     "name": "stdout",
     "output_type": "stream",
     "text": [
      "self.evaluation_deque: deque([0.0, 0.0, 0.0, 0.0, 0.0], maxlen=20)\n"
     ]
    },
    {
     "name": "stderr",
     "output_type": "stream",
     "text": [
      "\r",
      " 17%|████████████▏                                                            | 16764/100000 [02:39<2:07:53, 10.85it/s]"
     ]
    },
    {
     "name": "stdout",
     "output_type": "stream",
     "text": [
      "self.evaluation_deque: deque([0.0, 0.0, 0.0, 0.0, 0.0], maxlen=20)\n"
     ]
    },
    {
     "name": "stderr",
     "output_type": "stream",
     "text": [
      "\r",
      " 17%|████████████▎                                                            | 16824/100000 [02:45<2:08:14, 10.81it/s]"
     ]
    },
    {
     "name": "stdout",
     "output_type": "stream",
     "text": [
      "self.evaluation_deque: deque([0.0, 0.0, 0.0, 0.0, 0.0], maxlen=20)\n"
     ]
    },
    {
     "name": "stderr",
     "output_type": "stream",
     "text": [
      "\r",
      " 17%|████████████▎                                                            | 16884/100000 [02:53<2:24:11,  9.61it/s]"
     ]
    },
    {
     "name": "stdout",
     "output_type": "stream",
     "text": [
      "self.get_collection_ratio(): 0.7574740811150722\n",
      "self.comms.count(True) : 0\n",
      "len(self.comms) : 3\n",
      "self.state.ratio_commed: 0.0\n",
      "self.comms.count(True) : 0\n",
      "len(self.comms) : 3\n",
      "self.evaluation_deque: deque([0.0, 0.0, 0.0, 0.0, 0.0, 0.0], maxlen=20)\n"
     ]
    },
    {
     "name": "stderr",
     "output_type": "stream",
     "text": [
      "\r",
      " 17%|████████████▎                                                            | 16944/100000 [02:57<2:11:00, 10.57it/s]"
     ]
    },
    {
     "name": "stdout",
     "output_type": "stream",
     "text": [
      "self.evaluation_deque: deque([0.0, 0.0, 0.0, 0.0, 0.0, 0.0], maxlen=20)\n"
     ]
    },
    {
     "name": "stderr",
     "output_type": "stream",
     "text": [
      "\r",
      " 17%|████████████▍                                                            | 17004/100000 [03:02<2:01:52, 11.35it/s]"
     ]
    },
    {
     "name": "stdout",
     "output_type": "stream",
     "text": [
      "self.evaluation_deque: deque([0.0, 0.0, 0.0, 0.0, 0.0, 0.0], maxlen=20)\n"
     ]
    },
    {
     "name": "stderr",
     "output_type": "stream",
     "text": [
      "\r",
      " 17%|████████████▍                                                            | 17064/100000 [03:08<2:07:56, 10.80it/s]"
     ]
    },
    {
     "name": "stdout",
     "output_type": "stream",
     "text": [
      "self.evaluation_deque: deque([0.0, 0.0, 0.0, 0.0, 0.0, 0.0], maxlen=20)\n"
     ]
    },
    {
     "name": "stderr",
     "output_type": "stream",
     "text": [
      "\r",
      " 17%|████████████▌                                                            | 17124/100000 [03:13<2:08:06, 10.78it/s]"
     ]
    },
    {
     "name": "stdout",
     "output_type": "stream",
     "text": [
      "self.evaluation_deque: deque([0.0, 0.0, 0.0, 0.0, 0.0, 0.0], maxlen=20)\n"
     ]
    },
    {
     "name": "stderr",
     "output_type": "stream",
     "text": [
      "\r",
      " 17%|████████████▌                                                            | 17184/100000 [03:21<2:19:34,  9.89it/s]"
     ]
    },
    {
     "name": "stdout",
     "output_type": "stream",
     "text": [
      "self.get_collection_ratio(): 0.8626153798430393\n",
      "self.comms.count(True) : 0\n",
      "len(self.comms) : 2\n",
      "self.state.ratio_commed: 0.0\n",
      "self.comms.count(True) : 0\n",
      "len(self.comms) : 2\n",
      "self.evaluation_deque: deque([0.0, 0.0, 0.0, 0.0, 0.0, 0.0, 0.0], maxlen=20)\n"
     ]
    },
    {
     "name": "stderr",
     "output_type": "stream",
     "text": [
      "\r",
      " 17%|████████████▌                                                            | 17244/100000 [03:25<2:08:56, 10.70it/s]"
     ]
    },
    {
     "name": "stdout",
     "output_type": "stream",
     "text": [
      "self.evaluation_deque: deque([0.0, 0.0, 0.0, 0.0, 0.0, 0.0, 0.0], maxlen=20)\n"
     ]
    },
    {
     "name": "stderr",
     "output_type": "stream",
     "text": [
      "\r",
      " 17%|████████████▋                                                            | 17304/100000 [03:30<2:01:09, 11.38it/s]"
     ]
    },
    {
     "name": "stdout",
     "output_type": "stream",
     "text": [
      "self.evaluation_deque: deque([0.0, 0.0, 0.0, 0.0, 0.0, 0.0, 0.0], maxlen=20)\n"
     ]
    },
    {
     "name": "stderr",
     "output_type": "stream",
     "text": [
      "\r",
      " 17%|████████████▋                                                            | 17364/100000 [03:34<1:55:47, 11.89it/s]"
     ]
    },
    {
     "name": "stdout",
     "output_type": "stream",
     "text": [
      "self.evaluation_deque: deque([0.0, 0.0, 0.0, 0.0, 0.0, 0.0, 0.0], maxlen=20)\n"
     ]
    },
    {
     "name": "stderr",
     "output_type": "stream",
     "text": [
      "\r",
      " 17%|████████████▋                                                            | 17424/100000 [03:40<2:04:34, 11.05it/s]"
     ]
    },
    {
     "name": "stdout",
     "output_type": "stream",
     "text": [
      "self.evaluation_deque: deque([0.0, 0.0, 0.0, 0.0, 0.0, 0.0, 0.0], maxlen=20)\n"
     ]
    },
    {
     "name": "stderr",
     "output_type": "stream",
     "text": [
      "\r",
      " 17%|████████████▊                                                            | 17484/100000 [03:49<2:27:34,  9.32it/s]"
     ]
    },
    {
     "name": "stdout",
     "output_type": "stream",
     "text": [
      "self.get_collection_ratio(): 0.8610786305129577\n",
      "self.comms.count(True) : 0\n",
      "len(self.comms) : 2\n",
      "self.state.ratio_commed: 0.0\n",
      "self.comms.count(True) : 0\n",
      "len(self.comms) : 2\n",
      "self.evaluation_deque: deque([0.0, 0.0, 0.0, 0.0, 0.0, 0.0, 0.0, 0.0], maxlen=20)\n"
     ]
    },
    {
     "name": "stderr",
     "output_type": "stream",
     "text": [
      "\r",
      " 18%|████████████▊                                                            | 17544/100000 [03:56<2:27:02,  9.35it/s]"
     ]
    },
    {
     "name": "stdout",
     "output_type": "stream",
     "text": [
      "self.evaluation_deque: deque([0.0, 0.0, 0.0, 0.0, 0.0, 0.0, 0.0, 0.0], maxlen=20)\n"
     ]
    },
    {
     "name": "stderr",
     "output_type": "stream",
     "text": [
      "\r",
      " 18%|████████████▊                                                            | 17604/100000 [04:01<2:20:04,  9.80it/s]"
     ]
    },
    {
     "name": "stdout",
     "output_type": "stream",
     "text": [
      "self.evaluation_deque: deque([0.0, 0.0, 0.0, 0.0, 0.0, 0.0, 0.0, 0.0], maxlen=20)\n"
     ]
    },
    {
     "name": "stderr",
     "output_type": "stream",
     "text": [
      "\r",
      " 18%|████████████▉                                                            | 17664/100000 [04:06<2:15:23, 10.14it/s]"
     ]
    },
    {
     "name": "stdout",
     "output_type": "stream",
     "text": [
      "self.evaluation_deque: deque([0.0, 0.0, 0.0, 0.0, 0.0, 0.0, 0.0, 0.0], maxlen=20)\n"
     ]
    },
    {
     "name": "stderr",
     "output_type": "stream",
     "text": [
      "\r",
      " 18%|████████████▉                                                            | 17724/100000 [04:12<2:12:13, 10.37it/s]"
     ]
    },
    {
     "name": "stdout",
     "output_type": "stream",
     "text": [
      "self.evaluation_deque: deque([0.0, 0.0, 0.0, 0.0, 0.0, 0.0, 0.0, 0.0], maxlen=20)\n"
     ]
    },
    {
     "name": "stderr",
     "output_type": "stream",
     "text": [
      "\r",
      " 18%|████████████▉                                                            | 17784/100000 [04:19<2:19:53,  9.80it/s]"
     ]
    },
    {
     "name": "stdout",
     "output_type": "stream",
     "text": [
      "self.get_collection_ratio(): 0.829917644081789\n",
      "self.comms.count(True) : 0\n",
      "len(self.comms) : 2\n",
      "self.state.ratio_commed: 0.0\n",
      "self.comms.count(True) : 0\n",
      "len(self.comms) : 2\n",
      "self.evaluation_deque: deque([0.0, 0.0, 0.0, 0.0, 0.0, 0.0, 0.0, 0.0, 0.0], maxlen=20)\n"
     ]
    },
    {
     "name": "stderr",
     "output_type": "stream",
     "text": [
      "\r",
      " 18%|█████████████                                                            | 17844/100000 [04:23<2:08:56, 10.62it/s]"
     ]
    },
    {
     "name": "stdout",
     "output_type": "stream",
     "text": [
      "self.evaluation_deque: deque([0.0, 0.0, 0.0, 0.0, 0.0, 0.0, 0.0, 0.0, 0.0], maxlen=20)\n"
     ]
    },
    {
     "name": "stderr",
     "output_type": "stream",
     "text": [
      "\r",
      " 18%|█████████████                                                            | 17904/100000 [04:29<2:07:28, 10.73it/s]"
     ]
    },
    {
     "name": "stdout",
     "output_type": "stream",
     "text": [
      "self.evaluation_deque: deque([0.0, 0.0, 0.0, 0.0, 0.0, 0.0, 0.0, 0.0, 0.0], maxlen=20)\n"
     ]
    },
    {
     "name": "stderr",
     "output_type": "stream",
     "text": [
      "\r",
      " 18%|█████████████                                                            | 17964/100000 [04:35<2:12:18, 10.33it/s]"
     ]
    },
    {
     "name": "stdout",
     "output_type": "stream",
     "text": [
      "self.evaluation_deque: deque([0.0, 0.0, 0.0, 0.0, 0.0, 0.0, 0.0, 0.0, 0.0], maxlen=20)\n"
     ]
    },
    {
     "name": "stderr",
     "output_type": "stream",
     "text": [
      "\r",
      " 18%|█████████████▏                                                           | 18024/100000 [04:40<2:03:12, 11.09it/s]"
     ]
    },
    {
     "name": "stdout",
     "output_type": "stream",
     "text": [
      "self.evaluation_deque: deque([0.0, 0.0, 0.0, 0.0, 0.0, 0.0, 0.0, 0.0, 0.0], maxlen=20)\n"
     ]
    },
    {
     "name": "stderr",
     "output_type": "stream",
     "text": [
      "\r",
      " 18%|█████████████▏                                                           | 18084/100000 [04:46<2:12:30, 10.30it/s]"
     ]
    },
    {
     "name": "stdout",
     "output_type": "stream",
     "text": [
      "self.get_collection_ratio(): 0.4495453592495747\n",
      "self.comms.count(True) : 0\n",
      "len(self.comms) : 1\n",
      "self.state.ratio_commed: 0.0\n",
      "self.comms.count(True) : 0\n",
      "len(self.comms) : 1\n",
      "self.evaluation_deque: deque([0.0, 0.0, 0.0, 0.0, 0.0, 0.0, 0.0, 0.0, 0.0, 0.0], maxlen=20)\n"
     ]
    },
    {
     "name": "stderr",
     "output_type": "stream",
     "text": [
      "\r",
      " 18%|█████████████▏                                                           | 18144/100000 [04:52<2:09:45, 10.51it/s]"
     ]
    },
    {
     "name": "stdout",
     "output_type": "stream",
     "text": [
      "self.evaluation_deque: deque([0.0, 0.0, 0.0, 0.0, 0.0, 0.0, 0.0, 0.0, 0.0, 0.0], maxlen=20)\n"
     ]
    },
    {
     "name": "stderr",
     "output_type": "stream",
     "text": [
      "\r",
      " 18%|█████████████▎                                                           | 18204/100000 [04:56<2:01:26, 11.23it/s]"
     ]
    },
    {
     "name": "stdout",
     "output_type": "stream",
     "text": [
      "self.evaluation_deque: deque([0.0, 0.0, 0.0, 0.0, 0.0, 0.0, 0.0, 0.0, 0.0, 0.0], maxlen=20)\n"
     ]
    },
    {
     "name": "stderr",
     "output_type": "stream",
     "text": [
      "\r",
      " 18%|█████████████▎                                                           | 18264/100000 [05:02<2:05:27, 10.86it/s]"
     ]
    },
    {
     "name": "stdout",
     "output_type": "stream",
     "text": [
      "self.evaluation_deque: deque([0.0, 0.0, 0.0, 0.0, 0.0, 0.0, 0.0, 0.0, 0.0, 0.0], maxlen=20)\n"
     ]
    },
    {
     "name": "stderr",
     "output_type": "stream",
     "text": [
      "\r",
      " 18%|█████████████▍                                                           | 18324/100000 [05:08<2:04:47, 10.91it/s]"
     ]
    },
    {
     "name": "stdout",
     "output_type": "stream",
     "text": [
      "self.evaluation_deque: deque([0.0, 0.0, 0.0, 0.0, 0.0, 0.0, 0.0, 0.0, 0.0, 0.0], maxlen=20)\n"
     ]
    },
    {
     "name": "stderr",
     "output_type": "stream",
     "text": [
      "\r",
      " 18%|█████████████▍                                                           | 18384/100000 [05:14<2:10:55, 10.39it/s]"
     ]
    },
    {
     "name": "stdout",
     "output_type": "stream",
     "text": [
      "self.get_collection_ratio(): 0.5005704608557632\n",
      "self.comms.count(True) : 0\n",
      "len(self.comms) : 2\n",
      "self.state.ratio_commed: 0.0\n",
      "self.comms.count(True) : 0\n",
      "len(self.comms) : 2\n",
      "self.evaluation_deque: deque([0.0, 0.0, 0.0, 0.0, 0.0, 0.0, 0.0, 0.0, 0.0, 0.0, 0.0], maxlen=20)\n"
     ]
    },
    {
     "name": "stderr",
     "output_type": "stream",
     "text": [
      "\r",
      " 18%|█████████████▍                                                           | 18444/100000 [05:20<2:14:26, 10.11it/s]"
     ]
    },
    {
     "name": "stdout",
     "output_type": "stream",
     "text": [
      "self.evaluation_deque: deque([0.0, 0.0, 0.0, 0.0, 0.0, 0.0, 0.0, 0.0, 0.0, 0.0, 0.0], maxlen=20)\n"
     ]
    },
    {
     "name": "stderr",
     "output_type": "stream",
     "text": [
      "\r",
      " 19%|█████████████▌                                                           | 18504/100000 [05:27<2:17:12,  9.90it/s]"
     ]
    },
    {
     "name": "stdout",
     "output_type": "stream",
     "text": [
      "self.evaluation_deque: deque([0.0, 0.0, 0.0, 0.0, 0.0, 0.0, 0.0, 0.0, 0.0, 0.0, 0.0], maxlen=20)\n"
     ]
    },
    {
     "name": "stderr",
     "output_type": "stream",
     "text": [
      "\r",
      " 19%|█████████████▌                                                           | 18564/100000 [05:31<2:06:47, 10.70it/s]"
     ]
    },
    {
     "name": "stdout",
     "output_type": "stream",
     "text": [
      "self.evaluation_deque: deque([0.0, 0.0, 0.0, 0.0, 0.0, 0.0, 0.0, 0.0, 0.0, 0.0, 0.0], maxlen=20)\n"
     ]
    },
    {
     "name": "stderr",
     "output_type": "stream",
     "text": [
      "\r",
      " 19%|█████████████▌                                                           | 18624/100000 [05:37<2:05:40, 10.79it/s]"
     ]
    },
    {
     "name": "stdout",
     "output_type": "stream",
     "text": [
      "self.evaluation_deque: deque([0.0, 0.0, 0.0, 0.0, 0.0, 0.0, 0.0, 0.0, 0.0, 0.0, 0.0], maxlen=20)\n"
     ]
    },
    {
     "name": "stderr",
     "output_type": "stream",
     "text": [
      "\r",
      " 19%|█████████████▋                                                           | 18684/100000 [05:46<2:31:39,  8.94it/s]"
     ]
    },
    {
     "name": "stdout",
     "output_type": "stream",
     "text": [
      "self.get_collection_ratio(): 0.8174391537394208\n",
      "self.comms.count(True) : 0\n",
      "len(self.comms) : 3\n",
      "self.state.ratio_commed: 0.0\n",
      "self.comms.count(True) : 0\n",
      "len(self.comms) : 3\n",
      "self.evaluation_deque: deque([0.0, 0.0, 0.0, 0.0, 0.0, 0.0, 0.0, 0.0, 0.0, 0.0, 0.0, 0.0], maxlen=20)\n"
     ]
    },
    {
     "name": "stderr",
     "output_type": "stream",
     "text": [
      "\r",
      " 19%|█████████████▋                                                           | 18744/100000 [05:52<2:23:10,  9.46it/s]"
     ]
    },
    {
     "name": "stdout",
     "output_type": "stream",
     "text": [
      "self.evaluation_deque: deque([0.0, 0.0, 0.0, 0.0, 0.0, 0.0, 0.0, 0.0, 0.0, 0.0, 0.0, 0.0], maxlen=20)\n"
     ]
    },
    {
     "name": "stderr",
     "output_type": "stream",
     "text": [
      "\r",
      " 19%|█████████████▋                                                           | 18804/100000 [05:57<2:16:52,  9.89it/s]"
     ]
    },
    {
     "name": "stdout",
     "output_type": "stream",
     "text": [
      "self.evaluation_deque: deque([0.0, 0.0, 0.0, 0.0, 0.0, 0.0, 0.0, 0.0, 0.0, 0.0, 0.0, 0.0], maxlen=20)\n"
     ]
    },
    {
     "name": "stderr",
     "output_type": "stream",
     "text": [
      "\r",
      " 19%|█████████████▊                                                           | 18864/100000 [06:03<2:12:34, 10.20it/s]"
     ]
    },
    {
     "name": "stdout",
     "output_type": "stream",
     "text": [
      "self.evaluation_deque: deque([0.0, 0.0, 0.0, 0.0, 0.0, 0.0, 0.0, 0.0, 0.0, 0.0, 0.0, 0.0], maxlen=20)\n"
     ]
    },
    {
     "name": "stderr",
     "output_type": "stream",
     "text": [
      "\r",
      " 19%|█████████████▊                                                           | 18924/100000 [06:08<2:09:20, 10.45it/s]"
     ]
    },
    {
     "name": "stdout",
     "output_type": "stream",
     "text": [
      "self.evaluation_deque: deque([0.0, 0.0, 0.0, 0.0, 0.0, 0.0, 0.0, 0.0, 0.0, 0.0, 0.0, 0.0], maxlen=20)\n"
     ]
    },
    {
     "name": "stderr",
     "output_type": "stream",
     "text": [
      "\r",
      " 19%|█████████████▊                                                           | 18984/100000 [06:16<2:24:39,  9.33it/s]"
     ]
    },
    {
     "name": "stdout",
     "output_type": "stream",
     "text": [
      "self.get_collection_ratio(): 0.9456714918752096\n",
      "self.comms.count(True) : 0\n",
      "len(self.comms) : 3\n",
      "self.state.ratio_commed: 0.0\n",
      "self.comms.count(True) : 0\n",
      "len(self.comms) : 3\n",
      "self.evaluation_deque: deque([0.0, 0.0, 0.0, 0.0, 0.0, 0.0, 0.0, 0.0, 0.0, 0.0, 0.0, 0.0, 0.0], maxlen=20)\n"
     ]
    },
    {
     "name": "stderr",
     "output_type": "stream",
     "text": [
      "\r",
      " 19%|█████████████▉                                                           | 19044/100000 [06:23<2:28:21,  9.09it/s]"
     ]
    },
    {
     "name": "stdout",
     "output_type": "stream",
     "text": [
      "self.evaluation_deque: deque([0.0, 0.0, 0.0, 0.0, 0.0, 0.0, 0.0, 0.0, 0.0, 0.0, 0.0, 0.0, 0.0], maxlen=20)\n"
     ]
    },
    {
     "name": "stderr",
     "output_type": "stream",
     "text": [
      "\r",
      " 19%|█████████████▉                                                           | 19104/100000 [06:29<2:26:13,  9.22it/s]"
     ]
    },
    {
     "name": "stdout",
     "output_type": "stream",
     "text": [
      "self.evaluation_deque: deque([0.0, 0.0, 0.0, 0.0, 0.0, 0.0, 0.0, 0.0, 0.0, 0.0, 0.0, 0.0, 0.0], maxlen=20)\n"
     ]
    },
    {
     "name": "stderr",
     "output_type": "stream",
     "text": [
      "\r",
      " 19%|█████████████▉                                                           | 19164/100000 [06:35<2:18:56,  9.70it/s]"
     ]
    },
    {
     "name": "stdout",
     "output_type": "stream",
     "text": [
      "self.evaluation_deque: deque([0.0, 0.0, 0.0, 0.0, 0.0, 0.0, 0.0, 0.0, 0.0, 0.0, 0.0, 0.0, 0.0], maxlen=20)\n"
     ]
    },
    {
     "name": "stderr",
     "output_type": "stream",
     "text": [
      "\r",
      " 19%|██████████████                                                           | 19224/100000 [06:41<2:19:43,  9.64it/s]"
     ]
    },
    {
     "name": "stdout",
     "output_type": "stream",
     "text": [
      "self.evaluation_deque: deque([0.0, 0.0, 0.0, 0.0, 0.0, 0.0, 0.0, 0.0, 0.0, 0.0, 0.0, 0.0, 0.0], maxlen=20)\n"
     ]
    },
    {
     "name": "stderr",
     "output_type": "stream",
     "text": [
      "\r",
      " 19%|██████████████                                                           | 19284/100000 [06:50<2:37:41,  8.53it/s]"
     ]
    },
    {
     "name": "stdout",
     "output_type": "stream",
     "text": [
      "self.get_collection_ratio(): 0.9596471507018445\n",
      "self.comms.count(True) : 0\n",
      "len(self.comms) : 3\n",
      "self.state.ratio_commed: 0.0\n",
      "self.comms.count(True) : 0\n",
      "len(self.comms) : 3\n",
      "self.evaluation_deque: deque([0.0, 0.0, 0.0, 0.0, 0.0, 0.0, 0.0, 0.0, 0.0, 0.0, 0.0, 0.0, 0.0, 0.0], maxlen=20)\n"
     ]
    },
    {
     "name": "stderr",
     "output_type": "stream",
     "text": [
      "\r",
      " 19%|██████████████                                                           | 19344/100000 [06:55<2:21:00,  9.53it/s]"
     ]
    },
    {
     "name": "stdout",
     "output_type": "stream",
     "text": [
      "self.evaluation_deque: deque([0.0, 0.0, 0.0, 0.0, 0.0, 0.0, 0.0, 0.0, 0.0, 0.0, 0.0, 0.0, 0.0, 0.0], maxlen=20)\n"
     ]
    },
    {
     "name": "stderr",
     "output_type": "stream",
     "text": [
      "\r",
      " 19%|██████████████▏                                                          | 19404/100000 [07:00<2:15:08,  9.94it/s]"
     ]
    },
    {
     "name": "stdout",
     "output_type": "stream",
     "text": [
      "self.evaluation_deque: deque([0.0, 0.0, 0.0, 0.0, 0.0, 0.0, 0.0, 0.0, 0.0, 0.0, 0.0, 0.0, 0.0, 0.0], maxlen=20)\n"
     ]
    },
    {
     "name": "stderr",
     "output_type": "stream",
     "text": [
      "\r",
      " 19%|██████████████▏                                                          | 19464/100000 [07:06<2:15:34,  9.90it/s]"
     ]
    },
    {
     "name": "stdout",
     "output_type": "stream",
     "text": [
      "self.evaluation_deque: deque([0.0, 0.0, 0.0, 0.0, 0.0, 0.0, 0.0, 0.0, 0.0, 0.0, 0.0, 0.0, 0.0, 0.0], maxlen=20)\n"
     ]
    },
    {
     "name": "stderr",
     "output_type": "stream",
     "text": [
      "\r",
      " 20%|██████████████▎                                                          | 19524/100000 [07:12<2:11:42, 10.18it/s]"
     ]
    },
    {
     "name": "stdout",
     "output_type": "stream",
     "text": [
      "self.evaluation_deque: deque([0.0, 0.0, 0.0, 0.0, 0.0, 0.0, 0.0, 0.0, 0.0, 0.0, 0.0, 0.0, 0.0, 0.0], maxlen=20)\n"
     ]
    },
    {
     "name": "stderr",
     "output_type": "stream",
     "text": [
      "\r",
      " 20%|██████████████▎                                                          | 19584/100000 [07:20<2:27:54,  9.06it/s]"
     ]
    },
    {
     "name": "stdout",
     "output_type": "stream",
     "text": [
      "self.get_collection_ratio(): 0.7469986201554272\n",
      "self.comms.count(True) : 0\n",
      "len(self.comms) : 2\n",
      "self.state.ratio_commed: 0.0\n",
      "self.comms.count(True) : 0\n",
      "len(self.comms) : 2\n",
      "self.evaluation_deque: deque([0.0, 0.0, 0.0, 0.0, 0.0, 0.0, 0.0, 0.0, 0.0, 0.0, 0.0, 0.0, 0.0, 0.0, 0.0], maxlen=20)\n"
     ]
    },
    {
     "name": "stderr",
     "output_type": "stream",
     "text": [
      "\r",
      " 20%|██████████████▎                                                          | 19644/100000 [07:26<2:26:08,  9.16it/s]"
     ]
    },
    {
     "name": "stdout",
     "output_type": "stream",
     "text": [
      "self.evaluation_deque: deque([0.0, 0.0, 0.0, 0.0, 0.0, 0.0, 0.0, 0.0, 0.0, 0.0, 0.0, 0.0, 0.0, 0.0, 0.0], maxlen=20)\n"
     ]
    },
    {
     "name": "stderr",
     "output_type": "stream",
     "text": [
      "\r",
      " 20%|██████████████▍                                                          | 19704/100000 [07:33<2:24:40,  9.25it/s]"
     ]
    },
    {
     "name": "stdout",
     "output_type": "stream",
     "text": [
      "self.evaluation_deque: deque([0.0, 0.0, 0.0, 0.0, 0.0, 0.0, 0.0, 0.0, 0.0, 0.0, 0.0, 0.0, 0.0, 0.0, 0.0], maxlen=20)\n"
     ]
    },
    {
     "name": "stderr",
     "output_type": "stream",
     "text": [
      "\r",
      " 20%|██████████████▍                                                          | 19764/100000 [07:38<2:17:34,  9.72it/s]"
     ]
    },
    {
     "name": "stdout",
     "output_type": "stream",
     "text": [
      "self.evaluation_deque: deque([0.0, 0.0, 0.0, 0.0, 0.0, 0.0, 0.0, 0.0, 0.0, 0.0, 0.0, 0.0, 0.0, 0.0, 0.0], maxlen=20)\n"
     ]
    },
    {
     "name": "stderr",
     "output_type": "stream",
     "text": [
      "\r",
      " 20%|██████████████▍                                                          | 19824/100000 [07:43<2:06:18, 10.58it/s]"
     ]
    },
    {
     "name": "stdout",
     "output_type": "stream",
     "text": [
      "self.evaluation_deque: deque([0.0, 0.0, 0.0, 0.0, 0.0, 0.0, 0.0, 0.0, 0.0, 0.0, 0.0, 0.0, 0.0, 0.0, 0.0], maxlen=20)\n"
     ]
    },
    {
     "name": "stderr",
     "output_type": "stream",
     "text": [
      "\r",
      " 20%|██████████████▌                                                          | 19884/100000 [07:48<2:07:26, 10.48it/s]"
     ]
    },
    {
     "name": "stdout",
     "output_type": "stream",
     "text": [
      "self.get_collection_ratio(): 0.36717521585386476\n",
      "self.comms.count(True) : 0\n",
      "len(self.comms) : 1\n",
      "self.state.ratio_commed: 0.0\n",
      "self.comms.count(True) : 0\n",
      "len(self.comms) : 1\n",
      "self.evaluation_deque: deque([0.0, 0.0, 0.0, 0.0, 0.0, 0.0, 0.0, 0.0, 0.0, 0.0, 0.0, 0.0, 0.0, 0.0, 0.0, 0.0], maxlen=20)\n"
     ]
    },
    {
     "name": "stderr",
     "output_type": "stream",
     "text": [
      "\r",
      " 20%|██████████████▌                                                          | 19944/100000 [07:55<2:11:31, 10.15it/s]"
     ]
    },
    {
     "name": "stdout",
     "output_type": "stream",
     "text": [
      "self.evaluation_deque: deque([0.0, 0.0, 0.0, 0.0, 0.0, 0.0, 0.0, 0.0, 0.0, 0.0, 0.0, 0.0, 0.0, 0.0, 0.0, 0.0], maxlen=20)\n"
     ]
    },
    {
     "name": "stderr",
     "output_type": "stream",
     "text": [
      "\r",
      " 20%|██████████████▌                                                          | 20004/100000 [08:01<2:13:17, 10.00it/s]"
     ]
    },
    {
     "name": "stdout",
     "output_type": "stream",
     "text": [
      "self.evaluation_deque: deque([0.0, 0.0, 0.0, 0.0, 0.0, 0.0, 0.0, 0.0, 0.0, 0.0, 0.0, 0.0, 0.0, 0.0, 0.0, 0.0], maxlen=20)\n"
     ]
    },
    {
     "name": "stderr",
     "output_type": "stream",
     "text": [
      "\r",
      " 20%|██████████████▋                                                          | 20064/100000 [08:06<2:09:26, 10.29it/s]"
     ]
    },
    {
     "name": "stdout",
     "output_type": "stream",
     "text": [
      "self.evaluation_deque: deque([0.0, 0.0, 0.0, 0.0, 0.0, 0.0, 0.0, 0.0, 0.0, 0.0, 0.0, 0.0, 0.0, 0.0, 0.0, 0.0], maxlen=20)\n"
     ]
    },
    {
     "name": "stderr",
     "output_type": "stream",
     "text": [
      "\r",
      " 20%|██████████████▋                                                          | 20124/100000 [08:12<2:06:42, 10.51it/s]"
     ]
    },
    {
     "name": "stdout",
     "output_type": "stream",
     "text": [
      "self.evaluation_deque: deque([0.0, 0.0, 0.0, 0.0, 0.0, 0.0, 0.0, 0.0, 0.0, 0.0, 0.0, 0.0, 0.0, 0.0, 0.0, 0.0], maxlen=20)\n"
     ]
    },
    {
     "name": "stderr",
     "output_type": "stream",
     "text": [
      "\r",
      " 20%|██████████████▋                                                          | 20184/100000 [08:19<2:13:33,  9.96it/s]"
     ]
    },
    {
     "name": "stdout",
     "output_type": "stream",
     "text": [
      "self.get_collection_ratio(): 0.45941274423652445\n",
      "self.comms.count(True) : 0\n",
      "len(self.comms) : 1\n",
      "self.state.ratio_commed: 0.0\n",
      "self.comms.count(True) : 0\n",
      "len(self.comms) : 1\n",
      "self.evaluation_deque: deque([0.0, 0.0, 0.0, 0.0, 0.0, 0.0, 0.0, 0.0, 0.0, 0.0, 0.0, 0.0, 0.0, 0.0, 0.0, 0.0, 0.0], maxlen=20)\n"
     ]
    },
    {
     "name": "stderr",
     "output_type": "stream",
     "text": [
      "\r",
      " 20%|██████████████▊                                                          | 20244/100000 [08:23<2:03:20, 10.78it/s]"
     ]
    },
    {
     "name": "stdout",
     "output_type": "stream",
     "text": [
      "self.evaluation_deque: deque([0.0, 0.0, 0.0, 0.0, 0.0, 0.0, 0.0, 0.0, 0.0, 0.0, 0.0, 0.0, 0.0, 0.0, 0.0, 0.0, 0.0], maxlen=20)\n"
     ]
    },
    {
     "name": "stderr",
     "output_type": "stream",
     "text": [
      "\r",
      " 20%|██████████████▊                                                          | 20304/100000 [08:28<1:56:30, 11.40it/s]"
     ]
    },
    {
     "name": "stdout",
     "output_type": "stream",
     "text": [
      "self.evaluation_deque: deque([0.0, 0.0, 0.0, 0.0, 0.0, 0.0, 0.0, 0.0, 0.0, 0.0, 0.0, 0.0, 0.0, 0.0, 0.0, 0.0, 0.0], maxlen=20)\n"
     ]
    },
    {
     "name": "stderr",
     "output_type": "stream",
     "text": [
      "\r",
      " 20%|██████████████▊                                                          | 20364/100000 [08:32<1:51:30, 11.90it/s]"
     ]
    },
    {
     "name": "stdout",
     "output_type": "stream",
     "text": [
      "self.evaluation_deque: deque([0.0, 0.0, 0.0, 0.0, 0.0, 0.0, 0.0, 0.0, 0.0, 0.0, 0.0, 0.0, 0.0, 0.0, 0.0, 0.0, 0.0], maxlen=20)\n"
     ]
    },
    {
     "name": "stderr",
     "output_type": "stream",
     "text": [
      "\r",
      " 20%|██████████████▉                                                          | 20424/100000 [08:37<1:48:07, 12.27it/s]"
     ]
    },
    {
     "name": "stdout",
     "output_type": "stream",
     "text": [
      "self.evaluation_deque: deque([0.0, 0.0, 0.0, 0.0, 0.0, 0.0, 0.0, 0.0, 0.0, 0.0, 0.0, 0.0, 0.0, 0.0, 0.0, 0.0, 0.0], maxlen=20)\n"
     ]
    },
    {
     "name": "stderr",
     "output_type": "stream",
     "text": [
      "\r",
      " 20%|██████████████▉                                                          | 20484/100000 [08:44<2:02:26, 10.82it/s]"
     ]
    },
    {
     "name": "stdout",
     "output_type": "stream",
     "text": [
      "self.get_collection_ratio(): 0.7604850650604208\n",
      "self.comms.count(True) : 0\n",
      "len(self.comms) : 3\n",
      "self.state.ratio_commed: 0.0\n",
      "self.comms.count(True) : 0\n",
      "len(self.comms) : 3\n",
      "self.evaluation_deque: deque([0.0, 0.0, 0.0, 0.0, 0.0, 0.0, 0.0, 0.0, 0.0, 0.0, 0.0, 0.0, 0.0, 0.0, 0.0, 0.0, 0.0, 0.0], maxlen=20)\n"
     ]
    },
    {
     "name": "stderr",
     "output_type": "stream",
     "text": [
      "\r",
      " 21%|██████████████▉                                                          | 20544/100000 [08:49<2:00:56, 10.95it/s]"
     ]
    },
    {
     "name": "stdout",
     "output_type": "stream",
     "text": [
      "self.evaluation_deque: deque([0.0, 0.0, 0.0, 0.0, 0.0, 0.0, 0.0, 0.0, 0.0, 0.0, 0.0, 0.0, 0.0, 0.0, 0.0, 0.0, 0.0, 0.0], maxlen=20)\n"
     ]
    },
    {
     "name": "stderr",
     "output_type": "stream",
     "text": [
      "\r",
      " 21%|███████████████                                                          | 20604/100000 [08:54<1:59:23, 11.08it/s]"
     ]
    },
    {
     "name": "stdout",
     "output_type": "stream",
     "text": [
      "self.evaluation_deque: deque([0.0, 0.0, 0.0, 0.0, 0.0, 0.0, 0.0, 0.0, 0.0, 0.0, 0.0, 0.0, 0.0, 0.0, 0.0, 0.0, 0.0, 0.0], maxlen=20)\n"
     ]
    },
    {
     "name": "stderr",
     "output_type": "stream",
     "text": [
      "\r",
      " 21%|███████████████                                                          | 20664/100000 [09:00<1:58:12, 11.19it/s]"
     ]
    },
    {
     "name": "stdout",
     "output_type": "stream",
     "text": [
      "self.evaluation_deque: deque([0.0, 0.0, 0.0, 0.0, 0.0, 0.0, 0.0, 0.0, 0.0, 0.0, 0.0, 0.0, 0.0, 0.0, 0.0, 0.0, 0.0, 0.0], maxlen=20)\n"
     ]
    },
    {
     "name": "stderr",
     "output_type": "stream",
     "text": [
      "\r",
      " 21%|███████████████▏                                                         | 20724/100000 [09:04<1:51:21, 11.86it/s]"
     ]
    },
    {
     "name": "stdout",
     "output_type": "stream",
     "text": [
      "self.evaluation_deque: deque([0.0, 0.0, 0.0, 0.0, 0.0, 0.0, 0.0, 0.0, 0.0, 0.0, 0.0, 0.0, 0.0, 0.0, 0.0, 0.0, 0.0, 0.0], maxlen=20)\n"
     ]
    },
    {
     "name": "stderr",
     "output_type": "stream",
     "text": [
      "\r",
      " 21%|███████████████▏                                                         | 20784/100000 [09:14<2:21:36,  9.32it/s]"
     ]
    },
    {
     "name": "stdout",
     "output_type": "stream",
     "text": [
      "self.get_collection_ratio(): 0.8415754598649923\n",
      "self.comms.count(True) : 0\n",
      "len(self.comms) : 3\n",
      "self.state.ratio_commed: 0.0\n",
      "self.comms.count(True) : 0\n",
      "len(self.comms) : 3\n",
      "self.evaluation_deque: deque([0.0, 0.0, 0.0, 0.0, 0.0, 0.0, 0.0, 0.0, 0.0, 0.0, 0.0, 0.0, 0.0, 0.0, 0.0, 0.0, 0.0, 0.0, 0.0], maxlen=20)\n"
     ]
    },
    {
     "name": "stderr",
     "output_type": "stream",
     "text": [
      "\r",
      " 21%|███████████████▏                                                         | 20844/100000 [09:19<2:14:41,  9.79it/s]"
     ]
    },
    {
     "name": "stdout",
     "output_type": "stream",
     "text": [
      "self.evaluation_deque: deque([0.0, 0.0, 0.0, 0.0, 0.0, 0.0, 0.0, 0.0, 0.0, 0.0, 0.0, 0.0, 0.0, 0.0, 0.0, 0.0, 0.0, 0.0, 0.0], maxlen=20)\n"
     ]
    },
    {
     "name": "stderr",
     "output_type": "stream",
     "text": [
      "\r",
      " 21%|███████████████▎                                                         | 20904/100000 [09:24<2:09:56, 10.15it/s]"
     ]
    },
    {
     "name": "stdout",
     "output_type": "stream",
     "text": [
      "self.evaluation_deque: deque([0.0, 0.0, 0.0, 0.0, 0.0, 0.0, 0.0, 0.0, 0.0, 0.0, 0.0, 0.0, 0.0, 0.0, 0.0, 0.0, 0.0, 0.0, 0.0], maxlen=20)\n"
     ]
    },
    {
     "name": "stderr",
     "output_type": "stream",
     "text": [
      "\r",
      " 21%|███████████████▎                                                         | 20964/100000 [09:30<2:06:12, 10.44it/s]"
     ]
    },
    {
     "name": "stdout",
     "output_type": "stream",
     "text": [
      "self.evaluation_deque: deque([0.0, 0.0, 0.0, 0.0, 0.0, 0.0, 0.0, 0.0, 0.0, 0.0, 0.0, 0.0, 0.0, 0.0, 0.0, 0.0, 0.0, 0.0, 0.0], maxlen=20)\n"
     ]
    },
    {
     "name": "stderr",
     "output_type": "stream",
     "text": [
      "\r",
      " 21%|███████████████▎                                                         | 21024/100000 [09:35<2:03:40, 10.64it/s]"
     ]
    },
    {
     "name": "stdout",
     "output_type": "stream",
     "text": [
      "self.evaluation_deque: deque([0.0, 0.0, 0.0, 0.0, 0.0, 0.0, 0.0, 0.0, 0.0, 0.0, 0.0, 0.0, 0.0, 0.0, 0.0, 0.0, 0.0, 0.0, 0.0], maxlen=20)\n"
     ]
    },
    {
     "name": "stderr",
     "output_type": "stream",
     "text": [
      "\r",
      " 21%|███████████████▍                                                         | 21084/100000 [09:42<2:13:06,  9.88it/s]"
     ]
    },
    {
     "name": "stdout",
     "output_type": "stream",
     "text": [
      "self.get_collection_ratio(): 0.819534109183136\n",
      "self.comms.count(True) : 0\n",
      "len(self.comms) : 3\n",
      "self.state.ratio_commed: 0.0\n",
      "self.comms.count(True) : 0\n",
      "len(self.comms) : 3\n",
      "self.evaluation_deque: deque([0.0, 0.0, 0.0, 0.0, 0.0, 0.0, 0.0, 0.0, 0.0, 0.0, 0.0, 0.0, 0.0, 0.0, 0.0, 0.0, 0.0, 0.0, 0.0, 0.0], maxlen=20)\n",
      "eval_mean: 0.0\n",
      "Saving best with: 0.0\n"
     ]
    },
    {
     "name": "stderr",
     "output_type": "stream",
     "text": [
      "\r",
      " 21%|███████████████▍                                                         | 21144/100000 [09:47<2:02:38, 10.72it/s]"
     ]
    },
    {
     "name": "stdout",
     "output_type": "stream",
     "text": [
      "self.evaluation_deque: deque([0.0, 0.0, 0.0, 0.0, 0.0, 0.0, 0.0, 0.0, 0.0, 0.0, 0.0, 0.0, 0.0, 0.0, 0.0, 0.0, 0.0, 0.0, 0.0, 0.0], maxlen=20)\n",
      "eval_mean: 0.0\n"
     ]
    },
    {
     "name": "stderr",
     "output_type": "stream",
     "text": [
      "\r",
      " 21%|███████████████▍                                                         | 21204/100000 [09:51<1:55:22, 11.38it/s]"
     ]
    },
    {
     "name": "stdout",
     "output_type": "stream",
     "text": [
      "self.evaluation_deque: deque([0.0, 0.0, 0.0, 0.0, 0.0, 0.0, 0.0, 0.0, 0.0, 0.0, 0.0, 0.0, 0.0, 0.0, 0.0, 0.0, 0.0, 0.0, 0.0, 0.0], maxlen=20)\n",
      "eval_mean: 0.0\n"
     ]
    },
    {
     "name": "stderr",
     "output_type": "stream",
     "text": [
      "\r",
      " 21%|███████████████▌                                                         | 21264/100000 [09:56<1:50:09, 11.91it/s]"
     ]
    },
    {
     "name": "stdout",
     "output_type": "stream",
     "text": [
      "self.evaluation_deque: deque([0.0, 0.0, 0.0, 0.0, 0.0, 0.0, 0.0, 0.0, 0.0, 0.0, 0.0, 0.0, 0.0, 0.0, 0.0, 0.0, 0.0, 0.0, 0.0, 0.0], maxlen=20)\n",
      "eval_mean: 0.0\n"
     ]
    },
    {
     "name": "stderr",
     "output_type": "stream",
     "text": [
      "\r",
      " 21%|███████████████▌                                                         | 21324/100000 [10:00<1:45:55, 12.38it/s]"
     ]
    },
    {
     "name": "stdout",
     "output_type": "stream",
     "text": [
      "self.evaluation_deque: deque([0.0, 0.0, 0.0, 0.0, 0.0, 0.0, 0.0, 0.0, 0.0, 0.0, 0.0, 0.0, 0.0, 0.0, 0.0, 0.0, 0.0, 0.0, 0.0, 0.0], maxlen=20)\n",
      "eval_mean: 0.0\n"
     ]
    },
    {
     "name": "stderr",
     "output_type": "stream",
     "text": [
      "\r",
      " 21%|███████████████▌                                                         | 21384/100000 [10:07<1:59:48, 10.94it/s]"
     ]
    },
    {
     "name": "stdout",
     "output_type": "stream",
     "text": [
      "self.get_collection_ratio(): 0.8814699224044449\n",
      "self.comms.count(True) : 0\n",
      "len(self.comms) : 3\n",
      "self.state.ratio_commed: 0.0\n",
      "self.comms.count(True) : 0\n",
      "len(self.comms) : 3\n",
      "self.evaluation_deque: deque([0.0, 0.0, 0.0, 0.0, 0.0, 0.0, 0.0, 0.0, 0.0, 0.0, 0.0, 0.0, 0.0, 0.0, 0.0, 0.0, 0.0, 0.0, 0.0, 0.0], maxlen=20)\n",
      "eval_mean: 0.0\n"
     ]
    },
    {
     "name": "stderr",
     "output_type": "stream",
     "text": [
      "\r",
      " 21%|███████████████▋                                                         | 21444/100000 [10:12<1:58:27, 11.05it/s]"
     ]
    },
    {
     "name": "stdout",
     "output_type": "stream",
     "text": [
      "self.evaluation_deque: deque([0.0, 0.0, 0.0, 0.0, 0.0, 0.0, 0.0, 0.0, 0.0, 0.0, 0.0, 0.0, 0.0, 0.0, 0.0, 0.0, 0.0, 0.0, 0.0, 0.0], maxlen=20)\n",
      "eval_mean: 0.0\n"
     ]
    },
    {
     "name": "stderr",
     "output_type": "stream",
     "text": [
      "\r",
      " 22%|███████████████▋                                                         | 21504/100000 [10:17<1:51:46, 11.71it/s]"
     ]
    },
    {
     "name": "stdout",
     "output_type": "stream",
     "text": [
      "self.evaluation_deque: deque([0.0, 0.0, 0.0, 0.0, 0.0, 0.0, 0.0, 0.0, 0.0, 0.0, 0.0, 0.0, 0.0, 0.0, 0.0, 0.0, 0.0, 0.0, 0.0, 0.0], maxlen=20)\n",
      "eval_mean: 0.0\n"
     ]
    },
    {
     "name": "stderr",
     "output_type": "stream",
     "text": [
      "\r",
      " 22%|███████████████▋                                                         | 21564/100000 [10:23<1:58:49, 11.00it/s]"
     ]
    },
    {
     "name": "stdout",
     "output_type": "stream",
     "text": [
      "self.evaluation_deque: deque([0.0, 0.0, 0.0, 0.0, 0.0, 0.0, 0.0, 0.0, 0.0, 0.0, 0.0, 0.0, 0.0, 0.0, 0.0, 0.0, 0.0, 0.0, 0.0, 0.0], maxlen=20)\n",
      "eval_mean: 0.0\n"
     ]
    },
    {
     "name": "stderr",
     "output_type": "stream",
     "text": [
      "\r",
      " 22%|███████████████▊                                                         | 21624/100000 [10:27<1:51:35, 11.70it/s]"
     ]
    },
    {
     "name": "stdout",
     "output_type": "stream",
     "text": [
      "self.evaluation_deque: deque([0.0, 0.0, 0.0, 0.0, 0.0, 0.0, 0.0, 0.0, 0.0, 0.0, 0.0, 0.0, 0.0, 0.0, 0.0, 0.0, 0.0, 0.0, 0.0, 0.0], maxlen=20)\n",
      "eval_mean: 0.0\n"
     ]
    },
    {
     "name": "stderr",
     "output_type": "stream",
     "text": [
      "\r",
      " 22%|███████████████▊                                                         | 21684/100000 [10:35<2:10:03, 10.04it/s]"
     ]
    },
    {
     "name": "stdout",
     "output_type": "stream",
     "text": [
      "self.get_collection_ratio(): 0.7711897404210788\n",
      "self.comms.count(True) : 0\n",
      "len(self.comms) : 3\n",
      "self.state.ratio_commed: 0.0\n",
      "self.comms.count(True) : 0\n",
      "len(self.comms) : 3\n",
      "self.evaluation_deque: deque([0.0, 0.0, 0.0, 0.0, 0.0, 0.0, 0.0, 0.0, 0.0, 0.0, 0.0, 0.0, 0.0, 0.0, 0.0, 0.0, 0.0, 0.0, 0.0, 0.0], maxlen=20)\n",
      "eval_mean: 0.0\n"
     ]
    },
    {
     "name": "stderr",
     "output_type": "stream",
     "text": [
      "\r",
      " 22%|███████████████▊                                                         | 21744/100000 [10:40<1:59:26, 10.92it/s]"
     ]
    },
    {
     "name": "stdout",
     "output_type": "stream",
     "text": [
      "self.evaluation_deque: deque([0.0, 0.0, 0.0, 0.0, 0.0, 0.0, 0.0, 0.0, 0.0, 0.0, 0.0, 0.0, 0.0, 0.0, 0.0, 0.0, 0.0, 0.0, 0.0, 0.0], maxlen=20)\n",
      "eval_mean: 0.0\n"
     ]
    },
    {
     "name": "stderr",
     "output_type": "stream",
     "text": [
      "\r",
      " 22%|███████████████▉                                                         | 21804/100000 [10:45<1:57:57, 11.05it/s]"
     ]
    },
    {
     "name": "stdout",
     "output_type": "stream",
     "text": [
      "self.evaluation_deque: deque([0.0, 0.0, 0.0, 0.0, 0.0, 0.0, 0.0, 0.0, 0.0, 0.0, 0.0, 0.0, 0.0, 0.0, 0.0, 0.0, 0.0, 0.0, 0.0, 0.0], maxlen=20)\n",
      "eval_mean: 0.0\n"
     ]
    },
    {
     "name": "stderr",
     "output_type": "stream",
     "text": [
      "\r",
      " 22%|███████████████▉                                                         | 21864/100000 [10:50<1:57:07, 11.12it/s]"
     ]
    },
    {
     "name": "stdout",
     "output_type": "stream",
     "text": [
      "self.evaluation_deque: deque([0.0, 0.0, 0.0, 0.0, 0.0, 0.0, 0.0, 0.0, 0.0, 0.0, 0.0, 0.0, 0.0, 0.0, 0.0, 0.0, 0.0, 0.0, 0.0, 0.0], maxlen=20)\n",
      "eval_mean: 0.0\n"
     ]
    },
    {
     "name": "stderr",
     "output_type": "stream",
     "text": [
      "\r",
      " 22%|████████████████                                                         | 21924/100000 [10:56<1:56:46, 11.14it/s]"
     ]
    },
    {
     "name": "stdout",
     "output_type": "stream",
     "text": [
      "self.evaluation_deque: deque([0.0, 0.0, 0.0, 0.0, 0.0, 0.0, 0.0, 0.0, 0.0, 0.0, 0.0, 0.0, 0.0, 0.0, 0.0, 0.0, 0.0, 0.0, 0.0, 0.0], maxlen=20)\n",
      "eval_mean: 0.0\n"
     ]
    },
    {
     "name": "stderr",
     "output_type": "stream",
     "text": [
      "\r",
      " 22%|████████████████                                                         | 21984/100000 [11:04<2:15:06,  9.62it/s]"
     ]
    },
    {
     "name": "stdout",
     "output_type": "stream",
     "text": [
      "self.get_collection_ratio(): 0.6051885881199636\n",
      "self.comms.count(True) : 0\n",
      "len(self.comms) : 2\n",
      "self.state.ratio_commed: 0.0\n",
      "self.comms.count(True) : 0\n",
      "len(self.comms) : 2\n",
      "self.evaluation_deque: deque([0.0, 0.0, 0.0, 0.0, 0.0, 0.0, 0.0, 0.0, 0.0, 0.0, 0.0, 0.0, 0.0, 0.0, 0.0, 0.0, 0.0, 0.0, 0.0, 0.0], maxlen=20)\n",
      "eval_mean: 0.0\n"
     ]
    },
    {
     "name": "stderr",
     "output_type": "stream",
     "text": [
      "\r",
      " 22%|████████████████                                                         | 22044/100000 [11:10<2:15:04,  9.62it/s]"
     ]
    },
    {
     "name": "stdout",
     "output_type": "stream",
     "text": [
      "self.evaluation_deque: deque([0.0, 0.0, 0.0, 0.0, 0.0, 0.0, 0.0, 0.0, 0.0, 0.0, 0.0, 0.0, 0.0, 0.0, 0.0, 0.0, 0.0, 0.0, 0.0, 0.0], maxlen=20)\n",
      "eval_mean: 0.0\n"
     ]
    },
    {
     "name": "stderr",
     "output_type": "stream",
     "text": [
      "\r",
      " 22%|████████████████▏                                                        | 22104/100000 [11:15<2:02:53, 10.56it/s]"
     ]
    },
    {
     "name": "stdout",
     "output_type": "stream",
     "text": [
      "self.evaluation_deque: deque([0.0, 0.0, 0.0, 0.0, 0.0, 0.0, 0.0, 0.0, 0.0, 0.0, 0.0, 0.0, 0.0, 0.0, 0.0, 0.0, 0.0, 0.0, 0.0, 0.0], maxlen=20)\n",
      "eval_mean: 0.0\n"
     ]
    },
    {
     "name": "stderr",
     "output_type": "stream",
     "text": [
      "\r",
      " 22%|████████████████▏                                                        | 22164/100000 [11:19<1:53:43, 11.41it/s]"
     ]
    },
    {
     "name": "stdout",
     "output_type": "stream",
     "text": [
      "self.evaluation_deque: deque([0.0, 0.0, 0.0, 0.0, 0.0, 0.0, 0.0, 0.0, 0.0, 0.0, 0.0, 0.0, 0.0, 0.0, 0.0, 0.0, 0.0, 0.0, 0.0, 0.0], maxlen=20)\n",
      "eval_mean: 0.0\n"
     ]
    },
    {
     "name": "stderr",
     "output_type": "stream",
     "text": [
      "\r",
      " 22%|████████████████▏                                                        | 22224/100000 [11:23<1:47:48, 12.02it/s]"
     ]
    },
    {
     "name": "stdout",
     "output_type": "stream",
     "text": [
      "self.evaluation_deque: deque([0.0, 0.0, 0.0, 0.0, 0.0, 0.0, 0.0, 0.0, 0.0, 0.0, 0.0, 0.0, 0.0, 0.0, 0.0, 0.0, 0.0, 0.0, 0.0, 0.0], maxlen=20)\n",
      "eval_mean: 0.0\n"
     ]
    },
    {
     "name": "stderr",
     "output_type": "stream",
     "text": [
      "\r",
      " 22%|████████████████▎                                                        | 22284/100000 [11:33<2:17:31,  9.42it/s]"
     ]
    },
    {
     "name": "stdout",
     "output_type": "stream",
     "text": [
      "self.get_collection_ratio(): 0.8529119784069883\n",
      "self.comms.count(True) : 0\n",
      "len(self.comms) : 3\n",
      "self.state.ratio_commed: 0.0\n",
      "self.comms.count(True) : 0\n",
      "len(self.comms) : 3\n",
      "self.evaluation_deque: deque([0.0, 0.0, 0.0, 0.0, 0.0, 0.0, 0.0, 0.0, 0.0, 0.0, 0.0, 0.0, 0.0, 0.0, 0.0, 0.0, 0.0, 0.0, 0.0, 0.0], maxlen=20)\n",
      "eval_mean: 0.0\n"
     ]
    },
    {
     "name": "stderr",
     "output_type": "stream",
     "text": [
      "\r",
      " 22%|████████████████▎                                                        | 22344/100000 [11:37<2:04:17, 10.41it/s]"
     ]
    },
    {
     "name": "stdout",
     "output_type": "stream",
     "text": [
      "self.evaluation_deque: deque([0.0, 0.0, 0.0, 0.0, 0.0, 0.0, 0.0, 0.0, 0.0, 0.0, 0.0, 0.0, 0.0, 0.0, 0.0, 0.0, 0.0, 0.0, 0.0, 0.0], maxlen=20)\n",
      "eval_mean: 0.0\n"
     ]
    },
    {
     "name": "stderr",
     "output_type": "stream",
     "text": [
      "\r",
      " 22%|████████████████▎                                                        | 22404/100000 [11:42<2:00:38, 10.72it/s]"
     ]
    },
    {
     "name": "stdout",
     "output_type": "stream",
     "text": [
      "self.evaluation_deque: deque([0.0, 0.0, 0.0, 0.0, 0.0, 0.0, 0.0, 0.0, 0.0, 0.0, 0.0, 0.0, 0.0, 0.0, 0.0, 0.0, 0.0, 0.0, 0.0, 0.0], maxlen=20)\n",
      "eval_mean: 0.0\n"
     ]
    },
    {
     "name": "stderr",
     "output_type": "stream",
     "text": [
      "\r",
      " 22%|████████████████▍                                                        | 22464/100000 [11:48<1:57:43, 10.98it/s]"
     ]
    },
    {
     "name": "stdout",
     "output_type": "stream",
     "text": [
      "self.evaluation_deque: deque([0.0, 0.0, 0.0, 0.0, 0.0, 0.0, 0.0, 0.0, 0.0, 0.0, 0.0, 0.0, 0.0, 0.0, 0.0, 0.0, 0.0, 0.0, 0.0, 0.0], maxlen=20)\n",
      "eval_mean: 0.0\n"
     ]
    },
    {
     "name": "stderr",
     "output_type": "stream",
     "text": [
      "\r",
      " 23%|████████████████▍                                                        | 22524/100000 [11:54<2:01:40, 10.61it/s]"
     ]
    },
    {
     "name": "stdout",
     "output_type": "stream",
     "text": [
      "self.evaluation_deque: deque([0.0, 0.0, 0.0, 0.0, 0.0, 0.0, 0.0, 0.0, 0.0, 0.0, 0.0, 0.0, 0.0, 0.0, 0.0, 0.0, 0.0, 0.0, 0.0, 0.0], maxlen=20)\n",
      "eval_mean: 0.0\n"
     ]
    },
    {
     "name": "stderr",
     "output_type": "stream",
     "text": [
      "\r",
      " 23%|████████████████▍                                                        | 22584/100000 [12:01<2:11:06,  9.84it/s]"
     ]
    },
    {
     "name": "stdout",
     "output_type": "stream",
     "text": [
      "self.get_collection_ratio(): 0.8736085740296761\n",
      "self.comms.count(True) : 0\n",
      "len(self.comms) : 2\n",
      "self.state.ratio_commed: 0.0\n",
      "self.comms.count(True) : 0\n",
      "len(self.comms) : 2\n",
      "self.evaluation_deque: deque([0.0, 0.0, 0.0, 0.0, 0.0, 0.0, 0.0, 0.0, 0.0, 0.0, 0.0, 0.0, 0.0, 0.0, 0.0, 0.0, 0.0, 0.0, 0.0, 0.0], maxlen=20)\n",
      "eval_mean: 0.0\n"
     ]
    },
    {
     "name": "stderr",
     "output_type": "stream",
     "text": [
      "\r",
      " 23%|████████████████▌                                                        | 22644/100000 [12:07<2:11:21,  9.81it/s]"
     ]
    },
    {
     "name": "stdout",
     "output_type": "stream",
     "text": [
      "self.evaluation_deque: deque([0.0, 0.0, 0.0, 0.0, 0.0, 0.0, 0.0, 0.0, 0.0, 0.0, 0.0, 0.0, 0.0, 0.0, 0.0, 0.0, 0.0, 0.0, 0.0, 0.0], maxlen=20)\n",
      "eval_mean: 0.0\n"
     ]
    },
    {
     "name": "stderr",
     "output_type": "stream",
     "text": [
      "\r",
      " 23%|████████████████▌                                                        | 22704/100000 [12:11<1:59:39, 10.77it/s]"
     ]
    },
    {
     "name": "stdout",
     "output_type": "stream",
     "text": [
      "self.evaluation_deque: deque([0.0, 0.0, 0.0, 0.0, 0.0, 0.0, 0.0, 0.0, 0.0, 0.0, 0.0, 0.0, 0.0, 0.0, 0.0, 0.0, 0.0, 0.0, 0.0, 0.0], maxlen=20)\n",
      "eval_mean: 0.0\n"
     ]
    },
    {
     "name": "stderr",
     "output_type": "stream",
     "text": [
      "\r",
      " 23%|████████████████▌                                                        | 22764/100000 [12:17<2:02:34, 10.50it/s]"
     ]
    },
    {
     "name": "stdout",
     "output_type": "stream",
     "text": [
      "self.evaluation_deque: deque([0.0, 0.0, 0.0, 0.0, 0.0, 0.0, 0.0, 0.0, 0.0, 0.0, 0.0, 0.0, 0.0, 0.0, 0.0, 0.0, 0.0, 0.0, 0.0, 0.0], maxlen=20)\n",
      "eval_mean: 0.0\n"
     ]
    },
    {
     "name": "stderr",
     "output_type": "stream",
     "text": [
      "\r",
      " 23%|████████████████▋                                                        | 22824/100000 [12:23<2:05:22, 10.26it/s]"
     ]
    },
    {
     "name": "stdout",
     "output_type": "stream",
     "text": [
      "self.evaluation_deque: deque([0.0, 0.0, 0.0, 0.0, 0.0, 0.0, 0.0, 0.0, 0.0, 0.0, 0.0, 0.0, 0.0, 0.0, 0.0, 0.0, 0.0, 0.0, 0.0, 0.0], maxlen=20)\n",
      "eval_mean: 0.0\n"
     ]
    },
    {
     "name": "stderr",
     "output_type": "stream",
     "text": [
      "\r",
      " 23%|████████████████▋                                                        | 22884/100000 [12:30<2:09:30,  9.92it/s]"
     ]
    },
    {
     "name": "stdout",
     "output_type": "stream",
     "text": [
      "self.get_collection_ratio(): 0.4364304547701466\n",
      "self.comms.count(True) : 0\n",
      "len(self.comms) : 1\n",
      "self.state.ratio_commed: 0.0\n",
      "self.comms.count(True) : 0\n",
      "len(self.comms) : 1\n",
      "self.evaluation_deque: deque([0.0, 0.0, 0.0, 0.0, 0.0, 0.0, 0.0, 0.0, 0.0, 0.0, 0.0, 0.0, 0.0, 0.0, 0.0, 0.0, 0.0, 0.0, 0.0, 0.0], maxlen=20)\n",
      "eval_mean: 0.0\n"
     ]
    },
    {
     "name": "stderr",
     "output_type": "stream",
     "text": [
      "\r",
      " 23%|████████████████▋                                                        | 22944/100000 [12:36<2:11:28,  9.77it/s]"
     ]
    },
    {
     "name": "stdout",
     "output_type": "stream",
     "text": [
      "self.evaluation_deque: deque([0.0, 0.0, 0.0, 0.0, 0.0, 0.0, 0.0, 0.0, 0.0, 0.0, 0.0, 0.0, 0.0, 0.0, 0.0, 0.0, 0.0, 0.0, 0.0, 0.0], maxlen=20)\n",
      "eval_mean: 0.0\n"
     ]
    },
    {
     "name": "stderr",
     "output_type": "stream",
     "text": [
      "\r",
      " 23%|████████████████▊                                                        | 23004/100000 [12:42<2:11:14,  9.78it/s]"
     ]
    },
    {
     "name": "stdout",
     "output_type": "stream",
     "text": [
      "self.evaluation_deque: deque([0.0, 0.0, 0.0, 0.0, 0.0, 0.0, 0.0, 0.0, 0.0, 0.0, 0.0, 0.0, 0.0, 0.0, 0.0, 0.0, 0.0, 0.0, 0.0, 0.0], maxlen=20)\n",
      "eval_mean: 0.0\n"
     ]
    },
    {
     "name": "stderr",
     "output_type": "stream",
     "text": [
      "\r",
      " 23%|████████████████▊                                                        | 23064/100000 [12:47<1:59:23, 10.74it/s]"
     ]
    },
    {
     "name": "stdout",
     "output_type": "stream",
     "text": [
      "self.evaluation_deque: deque([0.0, 0.0, 0.0, 0.0, 0.0, 0.0, 0.0, 0.0, 0.0, 0.0, 0.0, 0.0, 0.0, 0.0, 0.0, 0.0, 0.0, 0.0, 0.0, 0.0], maxlen=20)\n",
      "eval_mean: 0.0\n"
     ]
    },
    {
     "name": "stderr",
     "output_type": "stream",
     "text": [
      "\r",
      " 23%|████████████████▉                                                        | 23124/100000 [12:53<2:02:27, 10.46it/s]"
     ]
    },
    {
     "name": "stdout",
     "output_type": "stream",
     "text": [
      "self.evaluation_deque: deque([0.0, 0.0, 0.0, 0.0, 0.0, 0.0, 0.0, 0.0, 0.0, 0.0, 0.0, 0.0, 0.0, 0.0, 0.0, 0.0, 0.0, 0.0, 0.0, 0.0], maxlen=20)\n",
      "eval_mean: 0.0\n"
     ]
    },
    {
     "name": "stderr",
     "output_type": "stream",
     "text": [
      "\r",
      " 23%|████████████████▉                                                        | 23184/100000 [13:01<2:15:07,  9.47it/s]"
     ]
    },
    {
     "name": "stdout",
     "output_type": "stream",
     "text": [
      "self.get_collection_ratio(): 0.8087147435896496\n",
      "self.comms.count(True) : 0\n",
      "len(self.comms) : 3\n",
      "self.state.ratio_commed: 0.0\n",
      "self.comms.count(True) : 0\n",
      "len(self.comms) : 3\n",
      "self.evaluation_deque: deque([0.0, 0.0, 0.0, 0.0, 0.0, 0.0, 0.0, 0.0, 0.0, 0.0, 0.0, 0.0, 0.0, 0.0, 0.0, 0.0, 0.0, 0.0, 0.0, 0.0], maxlen=20)\n",
      "eval_mean: 0.0\n"
     ]
    },
    {
     "name": "stderr",
     "output_type": "stream",
     "text": [
      "\r",
      " 23%|████████████████▉                                                        | 23244/100000 [13:05<2:02:12, 10.47it/s]"
     ]
    },
    {
     "name": "stdout",
     "output_type": "stream",
     "text": [
      "self.evaluation_deque: deque([0.0, 0.0, 0.0, 0.0, 0.0, 0.0, 0.0, 0.0, 0.0, 0.0, 0.0, 0.0, 0.0, 0.0, 0.0, 0.0, 0.0, 0.0, 0.0, 0.0], maxlen=20)\n",
      "eval_mean: 0.0\n"
     ]
    },
    {
     "name": "stderr",
     "output_type": "stream",
     "text": [
      "\r",
      " 23%|█████████████████                                                        | 23320/100000 [13:12<2:01:43, 10.50it/s]"
     ]
    },
    {
     "name": "stdout",
     "output_type": "stream",
     "text": [
      "self.evaluation_deque: deque([0.0, 0.0, 0.0, 0.0, 0.0, 0.0, 0.0, 0.0, 0.0, 0.0, 0.0, 0.0, 0.0, 0.0, 0.0, 0.0, 0.0, 0.0, 0.0, 0.0], maxlen=20)\n",
      "eval_mean: 0.0\n"
     ]
    },
    {
     "name": "stderr",
     "output_type": "stream",
     "text": [
      "\r",
      " 23%|█████████████████                                                        | 23380/100000 [13:16<1:53:19, 11.27it/s]"
     ]
    },
    {
     "name": "stdout",
     "output_type": "stream",
     "text": [
      "self.evaluation_deque: deque([0.0, 0.0, 0.0, 0.0, 0.0, 0.0, 0.0, 0.0, 0.0, 0.0, 0.0, 0.0, 0.0, 0.0, 0.0, 0.0, 0.0, 0.0, 0.0, 0.0], maxlen=20)\n",
      "eval_mean: 0.0\n"
     ]
    },
    {
     "name": "stderr",
     "output_type": "stream",
     "text": [
      "\r",
      " 23%|█████████████████                                                        | 23440/100000 [13:21<1:47:12, 11.90it/s]"
     ]
    },
    {
     "name": "stdout",
     "output_type": "stream",
     "text": [
      "self.evaluation_deque: deque([0.0, 0.0, 0.0, 0.0, 0.0, 0.0, 0.0, 0.0, 0.0, 0.0, 0.0, 0.0, 0.0, 0.0, 0.0, 0.0, 0.0, 0.0, 0.0, 0.0], maxlen=20)\n",
      "eval_mean: 0.0\n"
     ]
    },
    {
     "name": "stderr",
     "output_type": "stream",
     "text": [
      "\r",
      " 24%|█████████████████▏                                                       | 23500/100000 [13:28<1:58:11, 10.79it/s]"
     ]
    },
    {
     "name": "stdout",
     "output_type": "stream",
     "text": [
      "self.get_collection_ratio(): 0.9578705217507019\n",
      "self.comms.count(True) : 0\n",
      "len(self.comms) : 3\n",
      "self.state.ratio_commed: 0.0\n",
      "self.comms.count(True) : 0\n",
      "len(self.comms) : 3\n",
      "self.evaluation_deque: deque([0.0, 0.0, 0.0, 0.0, 0.0, 0.0, 0.0, 0.0, 0.0, 0.0, 0.0, 0.0, 0.0, 0.0, 0.0, 0.0, 0.0, 0.0, 0.0, 0.0], maxlen=20)\n",
      "eval_mean: 0.0\n"
     ]
    },
    {
     "name": "stderr",
     "output_type": "stream",
     "text": [
      "\r",
      " 24%|█████████████████▏                                                       | 23560/100000 [13:33<1:56:29, 10.94it/s]"
     ]
    },
    {
     "name": "stdout",
     "output_type": "stream",
     "text": [
      "self.evaluation_deque: deque([0.0, 0.0, 0.0, 0.0, 0.0, 0.0, 0.0, 0.0, 0.0, 0.0, 0.0, 0.0, 0.0, 0.0, 0.0, 0.0, 0.0, 0.0, 0.0, 0.0], maxlen=20)\n",
      "eval_mean: 0.0\n"
     ]
    },
    {
     "name": "stderr",
     "output_type": "stream",
     "text": [
      "\r",
      " 24%|█████████████████▏                                                       | 23620/100000 [13:37<1:49:57, 11.58it/s]"
     ]
    },
    {
     "name": "stdout",
     "output_type": "stream",
     "text": [
      "self.evaluation_deque: deque([0.0, 0.0, 0.0, 0.0, 0.0, 0.0, 0.0, 0.0, 0.0, 0.0, 0.0, 0.0, 0.0, 0.0, 0.0, 0.0, 0.0, 0.0, 0.0, 0.0], maxlen=20)\n",
      "eval_mean: 0.0\n"
     ]
    },
    {
     "name": "stderr",
     "output_type": "stream",
     "text": [
      "\r",
      " 24%|█████████████████▎                                                       | 23680/100000 [13:44<1:58:20, 10.75it/s]"
     ]
    },
    {
     "name": "stdout",
     "output_type": "stream",
     "text": [
      "self.evaluation_deque: deque([0.0, 0.0, 0.0, 0.0, 0.0, 0.0, 0.0, 0.0, 0.0, 0.0, 0.0, 0.0, 0.0, 0.0, 0.0, 0.0, 0.0, 0.0, 0.0, 0.0], maxlen=20)\n",
      "eval_mean: 0.0\n"
     ]
    },
    {
     "name": "stderr",
     "output_type": "stream",
     "text": [
      "\r",
      " 24%|█████████████████▎                                                       | 23756/100000 [13:50<1:51:14, 11.42it/s]"
     ]
    },
    {
     "name": "stdout",
     "output_type": "stream",
     "text": [
      "self.evaluation_deque: deque([0.0, 0.0, 0.0, 0.0, 0.0, 0.0, 0.0, 0.0, 0.0, 0.0, 0.0, 0.0, 0.0, 0.0, 0.0, 0.0, 0.0, 0.0, 0.0, 0.0], maxlen=20)\n",
      "eval_mean: 0.0\n"
     ]
    },
    {
     "name": "stderr",
     "output_type": "stream",
     "text": [
      "\r",
      " 24%|█████████████████▍                                                       | 23816/100000 [13:56<1:56:11, 10.93it/s]"
     ]
    },
    {
     "name": "stdout",
     "output_type": "stream",
     "text": [
      "self.get_collection_ratio(): 0.48299897874270975\n",
      "self.comms.count(True) : 0\n",
      "len(self.comms) : 1\n",
      "self.state.ratio_commed: 0.0\n",
      "self.comms.count(True) : 0\n",
      "len(self.comms) : 1\n",
      "self.evaluation_deque: deque([0.0, 0.0, 0.0, 0.0, 0.0, 0.0, 0.0, 0.0, 0.0, 0.0, 0.0, 0.0, 0.0, 0.0, 0.0, 0.0, 0.0, 0.0, 0.0, 0.0], maxlen=20)\n",
      "eval_mean: 0.0\n"
     ]
    },
    {
     "name": "stderr",
     "output_type": "stream",
     "text": [
      "\r",
      " 24%|█████████████████▍                                                       | 23876/100000 [14:04<2:10:26,  9.73it/s]"
     ]
    },
    {
     "name": "stdout",
     "output_type": "stream",
     "text": [
      "self.evaluation_deque: deque([0.0, 0.0, 0.0, 0.0, 0.0, 0.0, 0.0, 0.0, 0.0, 0.0, 0.0, 0.0, 0.0, 0.0, 0.0, 0.0, 0.0, 0.0, 0.0, 0.0], maxlen=20)\n",
      "eval_mean: 0.0\n"
     ]
    },
    {
     "name": "stderr",
     "output_type": "stream",
     "text": [
      "\r",
      " 24%|█████████████████▍                                                       | 23936/100000 [14:10<2:12:41,  9.55it/s]"
     ]
    },
    {
     "name": "stdout",
     "output_type": "stream",
     "text": [
      "self.evaluation_deque: deque([0.0, 0.0, 0.0, 0.0, 0.0, 0.0, 0.0, 0.0, 0.0, 0.0, 0.0, 0.0, 0.0, 0.0, 0.0, 0.0, 0.0, 0.0, 0.0, 0.0], maxlen=20)\n",
      "eval_mean: 0.0\n"
     ]
    },
    {
     "name": "stderr",
     "output_type": "stream",
     "text": [
      "\r",
      " 24%|█████████████████▌                                                       | 23996/100000 [14:15<2:02:27, 10.34it/s]"
     ]
    },
    {
     "name": "stdout",
     "output_type": "stream",
     "text": [
      "self.evaluation_deque: deque([0.0, 0.0, 0.0, 0.0, 0.0, 0.0, 0.0, 0.0, 0.0, 0.0, 0.0, 0.0, 0.0, 0.0, 0.0, 0.0, 0.0, 0.0, 0.0, 0.0], maxlen=20)\n",
      "eval_mean: 0.0\n"
     ]
    },
    {
     "name": "stderr",
     "output_type": "stream",
     "text": [
      "\r",
      " 24%|█████████████████▌                                                       | 24056/100000 [14:21<2:07:03,  9.96it/s]"
     ]
    },
    {
     "name": "stdout",
     "output_type": "stream",
     "text": [
      "self.evaluation_deque: deque([0.0, 0.0, 0.0, 0.0, 0.0, 0.0, 0.0, 0.0, 0.0, 0.0, 0.0, 0.0, 0.0, 0.0, 0.0, 0.0, 0.0, 0.0, 0.0, 0.0], maxlen=20)\n",
      "eval_mean: 0.0\n"
     ]
    },
    {
     "name": "stderr",
     "output_type": "stream",
     "text": [
      "\r",
      " 24%|█████████████████▌                                                       | 24116/100000 [14:29<2:16:04,  9.29it/s]"
     ]
    },
    {
     "name": "stdout",
     "output_type": "stream",
     "text": [
      "self.get_collection_ratio(): 0.6564712521514192\n",
      "self.comms.count(True) : 0\n",
      "len(self.comms) : 2\n",
      "self.state.ratio_commed: 0.0\n",
      "self.comms.count(True) : 0\n",
      "len(self.comms) : 2\n",
      "self.evaluation_deque: deque([0.0, 0.0, 0.0, 0.0, 0.0, 0.0, 0.0, 0.0, 0.0, 0.0, 0.0, 0.0, 0.0, 0.0, 0.0, 0.0, 0.0, 0.0, 0.0, 0.0], maxlen=20)\n",
      "eval_mean: 0.0\n"
     ]
    },
    {
     "name": "stderr",
     "output_type": "stream",
     "text": [
      "\r",
      " 24%|█████████████████▋                                                       | 24176/100000 [14:34<2:09:33,  9.75it/s]"
     ]
    },
    {
     "name": "stdout",
     "output_type": "stream",
     "text": [
      "self.evaluation_deque: deque([0.0, 0.0, 0.0, 0.0, 0.0, 0.0, 0.0, 0.0, 0.0, 0.0, 0.0, 0.0, 0.0, 0.0, 0.0, 0.0, 0.0, 0.0, 0.0, 0.0], maxlen=20)\n",
      "eval_mean: 0.0\n"
     ]
    },
    {
     "name": "stderr",
     "output_type": "stream",
     "text": [
      "\r",
      " 24%|█████████████████▋                                                       | 24252/100000 [14:42<2:10:11,  9.70it/s]"
     ]
    },
    {
     "name": "stdout",
     "output_type": "stream",
     "text": [
      "self.evaluation_deque: deque([0.0, 0.0, 0.0, 0.0, 0.0, 0.0, 0.0, 0.0, 0.0, 0.0, 0.0, 0.0, 0.0, 0.0, 0.0, 0.0, 0.0, 0.0, 0.0, 0.0], maxlen=20)\n",
      "eval_mean: 0.0\n"
     ]
    },
    {
     "name": "stderr",
     "output_type": "stream",
     "text": [
      "\r",
      " 24%|█████████████████▋                                                       | 24312/100000 [14:47<2:01:25, 10.39it/s]"
     ]
    },
    {
     "name": "stdout",
     "output_type": "stream",
     "text": [
      "self.evaluation_deque: deque([0.0, 0.0, 0.0, 0.0, 0.0, 0.0, 0.0, 0.0, 0.0, 0.0, 0.0, 0.0, 0.0, 0.0, 0.0, 0.0, 0.0, 0.0, 0.0, 0.0], maxlen=20)\n",
      "eval_mean: 0.0\n"
     ]
    },
    {
     "name": "stderr",
     "output_type": "stream",
     "text": [
      "\r",
      " 24%|█████████████████▊                                                       | 24388/100000 [14:54<1:59:51, 10.51it/s]"
     ]
    },
    {
     "name": "stdout",
     "output_type": "stream",
     "text": [
      "self.evaluation_deque: deque([0.0, 0.0, 0.0, 0.0, 0.0, 0.0, 0.0, 0.0, 0.0, 0.0, 0.0, 0.0, 0.0, 0.0, 0.0, 0.0, 0.0, 0.0, 0.0, 0.0], maxlen=20)\n",
      "eval_mean: 0.0\n"
     ]
    },
    {
     "name": "stderr",
     "output_type": "stream",
     "text": [
      "\r",
      " 24%|█████████████████▊                                                       | 24448/100000 [15:03<2:17:55,  9.13it/s]"
     ]
    },
    {
     "name": "stdout",
     "output_type": "stream",
     "text": [
      "self.get_collection_ratio(): 0.951978042530258\n",
      "self.comms.count(True) : 0\n",
      "len(self.comms) : 2\n",
      "self.state.ratio_commed: 0.0\n",
      "self.comms.count(True) : 0\n",
      "len(self.comms) : 2\n",
      "self.evaluation_deque: deque([0.0, 0.0, 0.0, 0.0, 0.0, 0.0, 0.0, 0.0, 0.0, 0.0, 0.0, 0.0, 0.0, 0.0, 0.0, 0.0, 0.0, 0.0, 0.0, 0.0], maxlen=20)\n",
      "eval_mean: 0.0\n"
     ]
    },
    {
     "name": "stderr",
     "output_type": "stream",
     "text": [
      "\r",
      " 25%|█████████████████▉                                                       | 24508/100000 [15:08<2:11:44,  9.55it/s]"
     ]
    },
    {
     "name": "stdout",
     "output_type": "stream",
     "text": [
      "self.evaluation_deque: deque([0.0, 0.0, 0.0, 0.0, 0.0, 0.0, 0.0, 0.0, 0.0, 0.0, 0.0, 0.0, 0.0, 0.0, 0.0, 0.0, 0.0, 0.0, 0.0, 0.0], maxlen=20)\n",
      "eval_mean: 0.0\n"
     ]
    },
    {
     "name": "stderr",
     "output_type": "stream",
     "text": [
      "\r",
      " 25%|█████████████████▉                                                       | 24568/100000 [15:13<2:01:50, 10.32it/s]"
     ]
    },
    {
     "name": "stdout",
     "output_type": "stream",
     "text": [
      "self.evaluation_deque: deque([0.0, 0.0, 0.0, 0.0, 0.0, 0.0, 0.0, 0.0, 0.0, 0.0, 0.0, 0.0, 0.0, 0.0, 0.0, 0.0, 0.0, 0.0, 0.0, 0.0], maxlen=20)\n",
      "eval_mean: 0.0\n"
     ]
    },
    {
     "name": "stderr",
     "output_type": "stream",
     "text": [
      "\r",
      " 25%|█████████████████▉                                                       | 24644/100000 [15:20<2:00:40, 10.41it/s]"
     ]
    },
    {
     "name": "stdout",
     "output_type": "stream",
     "text": [
      "self.evaluation_deque: deque([0.0, 0.0, 0.0, 0.0, 0.0, 0.0, 0.0, 0.0, 0.0, 0.0, 0.0, 0.0, 0.0, 0.0, 0.0, 0.0, 0.0, 0.0, 0.0, 0.0], maxlen=20)\n",
      "eval_mean: 0.0\n"
     ]
    },
    {
     "name": "stderr",
     "output_type": "stream",
     "text": [
      "\r",
      " 25%|██████████████████                                                       | 24704/100000 [15:25<1:53:36, 11.05it/s]"
     ]
    },
    {
     "name": "stdout",
     "output_type": "stream",
     "text": [
      "self.evaluation_deque: deque([0.0, 0.0, 0.0, 0.0, 0.0, 0.0, 0.0, 0.0, 0.0, 0.0, 0.0, 0.0, 0.0, 0.0, 0.0, 0.0, 0.0, 0.0, 0.0, 0.0], maxlen=20)\n",
      "eval_mean: 0.0\n"
     ]
    },
    {
     "name": "stderr",
     "output_type": "stream",
     "text": [
      "\r",
      " 25%|██████████████████                                                       | 24764/100000 [15:35<2:20:18,  8.94it/s]"
     ]
    },
    {
     "name": "stdout",
     "output_type": "stream",
     "text": [
      "self.get_collection_ratio(): 0.8808788078278137\n",
      "self.comms.count(True) : 1\n",
      "len(self.comms) : 3\n",
      "self.state.ratio_commed: 0.3333333333333333\n",
      "self.comms.count(True) : 1\n",
      "len(self.comms) : 3\n",
      "self.evaluation_deque: deque([0.0, 0.0, 0.0, 0.0, 0.0, 0.0, 0.0, 0.0, 0.0, 0.0, 0.0, 0.0, 0.0, 0.0, 0.0, 0.0, 0.0, 0.0, 0.0, 0.2936262692759379], maxlen=20)\n",
      "eval_mean: 0.014681313463796895\n",
      "Saving best with: 0.014681313463796895\n"
     ]
    },
    {
     "name": "stderr",
     "output_type": "stream",
     "text": [
      "\r",
      " 25%|██████████████████                                                       | 24824/100000 [15:41<2:14:28,  9.32it/s]"
     ]
    },
    {
     "name": "stdout",
     "output_type": "stream",
     "text": [
      "self.evaluation_deque: deque([0.0, 0.0, 0.0, 0.0, 0.0, 0.0, 0.0, 0.0, 0.0, 0.0, 0.0, 0.0, 0.0, 0.0, 0.0, 0.0, 0.0, 0.0, 0.0, 0.2936262692759379], maxlen=20)\n",
      "eval_mean: 0.014681313463796895\n"
     ]
    },
    {
     "name": "stderr",
     "output_type": "stream",
     "text": [
      "\r",
      " 25%|██████████████████▏                                                      | 24884/100000 [15:47<2:11:44,  9.50it/s]"
     ]
    },
    {
     "name": "stdout",
     "output_type": "stream",
     "text": [
      "self.evaluation_deque: deque([0.0, 0.0, 0.0, 0.0, 0.0, 0.0, 0.0, 0.0, 0.0, 0.0, 0.0, 0.0, 0.0, 0.0, 0.0, 0.0, 0.0, 0.0, 0.0, 0.2936262692759379], maxlen=20)\n",
      "eval_mean: 0.014681313463796895\n"
     ]
    },
    {
     "name": "stderr",
     "output_type": "stream",
     "text": [
      "\r",
      " 25%|██████████████████▏                                                      | 24944/100000 [15:51<2:01:22, 10.31it/s]"
     ]
    },
    {
     "name": "stdout",
     "output_type": "stream",
     "text": [
      "self.evaluation_deque: deque([0.0, 0.0, 0.0, 0.0, 0.0, 0.0, 0.0, 0.0, 0.0, 0.0, 0.0, 0.0, 0.0, 0.0, 0.0, 0.0, 0.0, 0.0, 0.0, 0.2936262692759379], maxlen=20)\n",
      "eval_mean: 0.014681313463796895\n"
     ]
    },
    {
     "name": "stderr",
     "output_type": "stream",
     "text": [
      "\r",
      " 25%|██████████████████▎                                                      | 25004/100000 [15:56<1:53:32, 11.01it/s]"
     ]
    },
    {
     "name": "stdout",
     "output_type": "stream",
     "text": [
      "self.evaluation_deque: deque([0.0, 0.0, 0.0, 0.0, 0.0, 0.0, 0.0, 0.0, 0.0, 0.0, 0.0, 0.0, 0.0, 0.0, 0.0, 0.0, 0.0, 0.0, 0.0, 0.2936262692759379], maxlen=20)\n",
      "eval_mean: 0.014681313463796895\n"
     ]
    },
    {
     "name": "stderr",
     "output_type": "stream",
     "text": [
      "\r",
      " 25%|██████████████████▎                                                      | 25064/100000 [16:04<2:12:31,  9.42it/s]"
     ]
    },
    {
     "name": "stdout",
     "output_type": "stream",
     "text": [
      "self.get_collection_ratio(): 0.8859256221999552\n",
      "self.comms.count(True) : 1\n",
      "len(self.comms) : 3\n",
      "self.state.ratio_commed: 0.3333333333333333\n",
      "self.comms.count(True) : 1\n",
      "len(self.comms) : 3\n",
      "self.evaluation_deque: deque([0.0, 0.0, 0.0, 0.0, 0.0, 0.0, 0.0, 0.0, 0.0, 0.0, 0.0, 0.0, 0.0, 0.0, 0.0, 0.0, 0.0, 0.0, 0.2936262692759379, 0.29530854073331836], maxlen=20)\n",
      "eval_mean: 0.02944674050046281\n",
      "Saving best with: 0.02944674050046281\n"
     ]
    },
    {
     "name": "stderr",
     "output_type": "stream",
     "text": [
      "\r",
      " 25%|██████████████████▎                                                      | 25140/100000 [16:10<2:00:32, 10.35it/s]"
     ]
    },
    {
     "name": "stdout",
     "output_type": "stream",
     "text": [
      "self.evaluation_deque: deque([0.0, 0.0, 0.0, 0.0, 0.0, 0.0, 0.0, 0.0, 0.0, 0.0, 0.0, 0.0, 0.0, 0.0, 0.0, 0.0, 0.0, 0.0, 0.2936262692759379, 0.29530854073331836], maxlen=20)\n",
      "eval_mean: 0.02944674050046281\n"
     ]
    },
    {
     "name": "stderr",
     "output_type": "stream",
     "text": [
      "\r",
      " 25%|██████████████████▍                                                      | 25200/100000 [16:15<1:52:42, 11.06it/s]"
     ]
    },
    {
     "name": "stdout",
     "output_type": "stream",
     "text": [
      "self.evaluation_deque: deque([0.0, 0.0, 0.0, 0.0, 0.0, 0.0, 0.0, 0.0, 0.0, 0.0, 0.0, 0.0, 0.0, 0.0, 0.0, 0.0, 0.0, 0.0, 0.2936262692759379, 0.29530854073331836], maxlen=20)\n",
      "eval_mean: 0.02944674050046281\n"
     ]
    },
    {
     "name": "stderr",
     "output_type": "stream",
     "text": [
      "\r",
      " 25%|██████████████████▍                                                      | 25260/100000 [16:19<1:47:56, 11.54it/s]"
     ]
    },
    {
     "name": "stdout",
     "output_type": "stream",
     "text": [
      "self.evaluation_deque: deque([0.0, 0.0, 0.0, 0.0, 0.0, 0.0, 0.0, 0.0, 0.0, 0.0, 0.0, 0.0, 0.0, 0.0, 0.0, 0.0, 0.0, 0.0, 0.2936262692759379, 0.29530854073331836], maxlen=20)\n",
      "eval_mean: 0.02944674050046281\n"
     ]
    },
    {
     "name": "stderr",
     "output_type": "stream",
     "text": [
      "\r",
      " 25%|██████████████████▍                                                      | 25336/100000 [16:27<1:53:13, 10.99it/s]"
     ]
    },
    {
     "name": "stdout",
     "output_type": "stream",
     "text": [
      "self.evaluation_deque: deque([0.0, 0.0, 0.0, 0.0, 0.0, 0.0, 0.0, 0.0, 0.0, 0.0, 0.0, 0.0, 0.0, 0.0, 0.0, 0.0, 0.0, 0.0, 0.2936262692759379, 0.29530854073331836], maxlen=20)\n",
      "eval_mean: 0.02944674050046281\n"
     ]
    },
    {
     "name": "stderr",
     "output_type": "stream",
     "text": [
      "\r",
      " 25%|██████████████████▌                                                      | 25412/100000 [16:36<2:05:18,  9.92it/s]"
     ]
    },
    {
     "name": "stdout",
     "output_type": "stream",
     "text": [
      "self.get_collection_ratio(): 0.36420431145465376\n",
      "self.comms.count(True) : 0\n",
      "len(self.comms) : 1\n",
      "self.state.ratio_commed: 0.0\n",
      "self.comms.count(True) : 0\n",
      "len(self.comms) : 1\n",
      "self.evaluation_deque: deque([0.0, 0.0, 0.0, 0.0, 0.0, 0.0, 0.0, 0.0, 0.0, 0.0, 0.0, 0.0, 0.0, 0.0, 0.0, 0.0, 0.0, 0.2936262692759379, 0.29530854073331836, 0.0], maxlen=20)\n",
      "eval_mean: 0.02944674050046281\n"
     ]
    },
    {
     "name": "stderr",
     "output_type": "stream",
     "text": [
      "\r",
      " 25%|██████████████████▌                                                      | 25472/100000 [16:42<2:03:15, 10.08it/s]"
     ]
    },
    {
     "name": "stdout",
     "output_type": "stream",
     "text": [
      "self.evaluation_deque: deque([0.0, 0.0, 0.0, 0.0, 0.0, 0.0, 0.0, 0.0, 0.0, 0.0, 0.0, 0.0, 0.0, 0.0, 0.0, 0.0, 0.0, 0.2936262692759379, 0.29530854073331836, 0.0], maxlen=20)\n",
      "eval_mean: 0.02944674050046281\n"
     ]
    },
    {
     "name": "stderr",
     "output_type": "stream",
     "text": [
      "\r",
      " 26%|██████████████████▋                                                      | 25548/100000 [16:50<2:04:51,  9.94it/s]"
     ]
    },
    {
     "name": "stdout",
     "output_type": "stream",
     "text": [
      "self.evaluation_deque: deque([0.0, 0.0, 0.0, 0.0, 0.0, 0.0, 0.0, 0.0, 0.0, 0.0, 0.0, 0.0, 0.0, 0.0, 0.0, 0.0, 0.0, 0.2936262692759379, 0.29530854073331836, 0.0], maxlen=20)\n",
      "eval_mean: 0.02944674050046281\n"
     ]
    },
    {
     "name": "stderr",
     "output_type": "stream",
     "text": [
      "\r",
      " 26%|██████████████████▋                                                      | 25608/100000 [16:55<2:01:52, 10.17it/s]"
     ]
    },
    {
     "name": "stdout",
     "output_type": "stream",
     "text": [
      "self.evaluation_deque: deque([0.0, 0.0, 0.0, 0.0, 0.0, 0.0, 0.0, 0.0, 0.0, 0.0, 0.0, 0.0, 0.0, 0.0, 0.0, 0.0, 0.0, 0.2936262692759379, 0.29530854073331836, 0.0], maxlen=20)\n",
      "eval_mean: 0.02944674050046281\n"
     ]
    },
    {
     "name": "stderr",
     "output_type": "stream",
     "text": [
      "\r",
      " 26%|██████████████████▋                                                      | 25668/100000 [17:00<1:53:30, 10.92it/s]"
     ]
    },
    {
     "name": "stdout",
     "output_type": "stream",
     "text": [
      "self.evaluation_deque: deque([0.0, 0.0, 0.0, 0.0, 0.0, 0.0, 0.0, 0.0, 0.0, 0.0, 0.0, 0.0, 0.0, 0.0, 0.0, 0.0, 0.0, 0.2936262692759379, 0.29530854073331836, 0.0], maxlen=20)\n",
      "eval_mean: 0.02944674050046281\n"
     ]
    },
    {
     "name": "stderr",
     "output_type": "stream",
     "text": [
      "\r",
      " 26%|██████████████████▊                                                      | 25728/100000 [17:08<2:10:52,  9.46it/s]"
     ]
    },
    {
     "name": "stdout",
     "output_type": "stream",
     "text": [
      "self.get_collection_ratio(): 0.964585691256378\n",
      "self.comms.count(True) : 1\n",
      "len(self.comms) : 3\n",
      "self.state.ratio_commed: 0.3333333333333333\n",
      "self.comms.count(True) : 1\n",
      "len(self.comms) : 3\n",
      "self.evaluation_deque: deque([0.0, 0.0, 0.0, 0.0, 0.0, 0.0, 0.0, 0.0, 0.0, 0.0, 0.0, 0.0, 0.0, 0.0, 0.0, 0.0, 0.2936262692759379, 0.29530854073331836, 0.0, 0.321528563752126], maxlen=20)\n",
      "eval_mean: 0.04552316868806911\n",
      "Saving best with: 0.04552316868806911\n"
     ]
    },
    {
     "name": "stderr",
     "output_type": "stream",
     "text": [
      "\r",
      " 26%|██████████████████▊                                                      | 25788/100000 [17:13<2:00:08, 10.30it/s]"
     ]
    },
    {
     "name": "stdout",
     "output_type": "stream",
     "text": [
      "self.evaluation_deque: deque([0.0, 0.0, 0.0, 0.0, 0.0, 0.0, 0.0, 0.0, 0.0, 0.0, 0.0, 0.0, 0.0, 0.0, 0.0, 0.0, 0.2936262692759379, 0.29530854073331836, 0.0, 0.321528563752126], maxlen=20)\n",
      "eval_mean: 0.04552316868806911\n"
     ]
    },
    {
     "name": "stderr",
     "output_type": "stream",
     "text": [
      "\r",
      " 26%|██████████████████▉                                                      | 25864/100000 [17:20<1:57:30, 10.52it/s]"
     ]
    },
    {
     "name": "stdout",
     "output_type": "stream",
     "text": [
      "self.evaluation_deque: deque([0.0, 0.0, 0.0, 0.0, 0.0, 0.0, 0.0, 0.0, 0.0, 0.0, 0.0, 0.0, 0.0, 0.0, 0.0, 0.0, 0.2936262692759379, 0.29530854073331836, 0.0, 0.321528563752126], maxlen=20)\n",
      "eval_mean: 0.04552316868806911\n"
     ]
    },
    {
     "name": "stderr",
     "output_type": "stream",
     "text": [
      "\r",
      " 26%|██████████████████▉                                                      | 25924/100000 [17:26<1:59:51, 10.30it/s]"
     ]
    },
    {
     "name": "stdout",
     "output_type": "stream",
     "text": [
      "self.evaluation_deque: deque([0.0, 0.0, 0.0, 0.0, 0.0, 0.0, 0.0, 0.0, 0.0, 0.0, 0.0, 0.0, 0.0, 0.0, 0.0, 0.0, 0.2936262692759379, 0.29530854073331836, 0.0, 0.321528563752126], maxlen=20)\n",
      "eval_mean: 0.04552316868806911\n"
     ]
    },
    {
     "name": "stderr",
     "output_type": "stream",
     "text": [
      "\r",
      " 26%|██████████████████▉                                                      | 25984/100000 [17:30<1:51:52, 11.03it/s]"
     ]
    },
    {
     "name": "stdout",
     "output_type": "stream",
     "text": [
      "self.evaluation_deque: deque([0.0, 0.0, 0.0, 0.0, 0.0, 0.0, 0.0, 0.0, 0.0, 0.0, 0.0, 0.0, 0.0, 0.0, 0.0, 0.0, 0.2936262692759379, 0.29530854073331836, 0.0, 0.321528563752126], maxlen=20)\n",
      "eval_mean: 0.04552316868806911\n"
     ]
    },
    {
     "name": "stderr",
     "output_type": "stream",
     "text": [
      "\r",
      " 26%|███████████████████                                                      | 26044/100000 [17:38<2:07:39,  9.66it/s]"
     ]
    },
    {
     "name": "stdout",
     "output_type": "stream",
     "text": [
      "self.get_collection_ratio(): 0.8718213529797786\n",
      "self.comms.count(True) : 0\n",
      "len(self.comms) : 3\n",
      "self.state.ratio_commed: 0.0\n",
      "self.comms.count(True) : 0\n",
      "len(self.comms) : 3\n",
      "self.evaluation_deque: deque([0.0, 0.0, 0.0, 0.0, 0.0, 0.0, 0.0, 0.0, 0.0, 0.0, 0.0, 0.0, 0.0, 0.0, 0.0, 0.2936262692759379, 0.29530854073331836, 0.0, 0.321528563752126, 0.0], maxlen=20)\n",
      "eval_mean: 0.04552316868806911\n"
     ]
    },
    {
     "name": "stderr",
     "output_type": "stream",
     "text": [
      "\r",
      " 26%|███████████████████                                                      | 26104/100000 [17:45<2:08:09,  9.61it/s]"
     ]
    },
    {
     "name": "stdout",
     "output_type": "stream",
     "text": [
      "self.evaluation_deque: deque([0.0, 0.0, 0.0, 0.0, 0.0, 0.0, 0.0, 0.0, 0.0, 0.0, 0.0, 0.0, 0.0, 0.0, 0.0, 0.2936262692759379, 0.29530854073331836, 0.0, 0.321528563752126, 0.0], maxlen=20)\n",
      "eval_mean: 0.04552316868806911\n"
     ]
    },
    {
     "name": "stderr",
     "output_type": "stream",
     "text": [
      "\r",
      " 26%|███████████████████                                                      | 26164/100000 [17:49<1:57:41, 10.46it/s]"
     ]
    },
    {
     "name": "stdout",
     "output_type": "stream",
     "text": [
      "self.evaluation_deque: deque([0.0, 0.0, 0.0, 0.0, 0.0, 0.0, 0.0, 0.0, 0.0, 0.0, 0.0, 0.0, 0.0, 0.0, 0.0, 0.2936262692759379, 0.29530854073331836, 0.0, 0.321528563752126, 0.0], maxlen=20)\n",
      "eval_mean: 0.04552316868806911\n"
     ]
    },
    {
     "name": "stderr",
     "output_type": "stream",
     "text": [
      "\r",
      " 26%|███████████████████▏                                                     | 26224/100000 [17:56<2:01:35, 10.11it/s]"
     ]
    },
    {
     "name": "stdout",
     "output_type": "stream",
     "text": [
      "self.evaluation_deque: deque([0.0, 0.0, 0.0, 0.0, 0.0, 0.0, 0.0, 0.0, 0.0, 0.0, 0.0, 0.0, 0.0, 0.0, 0.0, 0.2936262692759379, 0.29530854073331836, 0.0, 0.321528563752126, 0.0], maxlen=20)\n",
      "eval_mean: 0.04552316868806911\n"
     ]
    },
    {
     "name": "stderr",
     "output_type": "stream",
     "text": [
      "\r",
      " 26%|███████████████████▏                                                     | 26300/100000 [18:03<2:01:25, 10.12it/s]"
     ]
    },
    {
     "name": "stdout",
     "output_type": "stream",
     "text": [
      "self.evaluation_deque: deque([0.0, 0.0, 0.0, 0.0, 0.0, 0.0, 0.0, 0.0, 0.0, 0.0, 0.0, 0.0, 0.0, 0.0, 0.0, 0.2936262692759379, 0.29530854073331836, 0.0, 0.321528563752126, 0.0], maxlen=20)\n",
      "eval_mean: 0.04552316868806911\n"
     ]
    },
    {
     "name": "stderr",
     "output_type": "stream",
     "text": [
      "\r",
      " 26%|███████████████████▎                                                     | 26376/100000 [18:12<2:06:03,  9.73it/s]"
     ]
    },
    {
     "name": "stdout",
     "output_type": "stream",
     "text": [
      "self.get_collection_ratio(): 0.9768842122409891\n",
      "self.comms.count(True) : 1\n",
      "len(self.comms) : 3\n",
      "self.state.ratio_commed: 0.3333333333333333\n",
      "self.comms.count(True) : 1\n",
      "len(self.comms) : 3\n",
      "self.evaluation_deque: deque([0.0, 0.0, 0.0, 0.0, 0.0, 0.0, 0.0, 0.0, 0.0, 0.0, 0.0, 0.0, 0.0, 0.0, 0.2936262692759379, 0.29530854073331836, 0.0, 0.321528563752126, 0.0, 0.32562807074699635], maxlen=20)\n",
      "eval_mean: 0.06180457222541893\n",
      "Saving best with: 0.06180457222541893\n"
     ]
    },
    {
     "name": "stderr",
     "output_type": "stream",
     "text": [
      "\r",
      " 26%|███████████████████▎                                                     | 26452/100000 [18:19<2:04:33,  9.84it/s]"
     ]
    },
    {
     "name": "stdout",
     "output_type": "stream",
     "text": [
      "self.evaluation_deque: deque([0.0, 0.0, 0.0, 0.0, 0.0, 0.0, 0.0, 0.0, 0.0, 0.0, 0.0, 0.0, 0.0, 0.0, 0.2936262692759379, 0.29530854073331836, 0.0, 0.321528563752126, 0.0, 0.32562807074699635], maxlen=20)\n",
      "eval_mean: 0.06180457222541893\n"
     ]
    },
    {
     "name": "stderr",
     "output_type": "stream",
     "text": [
      "\r",
      " 27%|███████████████████▎                                                     | 26512/100000 [18:25<2:05:52,  9.73it/s]"
     ]
    },
    {
     "name": "stdout",
     "output_type": "stream",
     "text": [
      "self.evaluation_deque: deque([0.0, 0.0, 0.0, 0.0, 0.0, 0.0, 0.0, 0.0, 0.0, 0.0, 0.0, 0.0, 0.0, 0.0, 0.2936262692759379, 0.29530854073331836, 0.0, 0.321528563752126, 0.0, 0.32562807074699635], maxlen=20)\n",
      "eval_mean: 0.06180457222541893\n"
     ]
    },
    {
     "name": "stderr",
     "output_type": "stream",
     "text": [
      "\r",
      " 27%|███████████████████▍                                                     | 26588/100000 [18:33<2:03:53,  9.88it/s]"
     ]
    },
    {
     "name": "stdout",
     "output_type": "stream",
     "text": [
      "self.evaluation_deque: deque([0.0, 0.0, 0.0, 0.0, 0.0, 0.0, 0.0, 0.0, 0.0, 0.0, 0.0, 0.0, 0.0, 0.0, 0.2936262692759379, 0.29530854073331836, 0.0, 0.321528563752126, 0.0, 0.32562807074699635], maxlen=20)\n",
      "eval_mean: 0.06180457222541893\n"
     ]
    },
    {
     "name": "stderr",
     "output_type": "stream",
     "text": [
      "\r",
      " 27%|███████████████████▍                                                     | 26664/100000 [18:39<1:58:11, 10.34it/s]"
     ]
    },
    {
     "name": "stdout",
     "output_type": "stream",
     "text": [
      "self.evaluation_deque: deque([0.0, 0.0, 0.0, 0.0, 0.0, 0.0, 0.0, 0.0, 0.0, 0.0, 0.0, 0.0, 0.0, 0.0, 0.2936262692759379, 0.29530854073331836, 0.0, 0.321528563752126, 0.0, 0.32562807074699635], maxlen=20)\n",
      "eval_mean: 0.06180457222541893\n"
     ]
    },
    {
     "name": "stderr",
     "output_type": "stream",
     "text": [
      "\r",
      " 27%|███████████████████▌                                                     | 26740/100000 [18:47<1:56:57, 10.44it/s]"
     ]
    },
    {
     "name": "stdout",
     "output_type": "stream",
     "text": [
      "self.get_collection_ratio(): 0.530472471726557\n",
      "self.comms.count(True) : 0\n",
      "len(self.comms) : 1\n",
      "self.state.ratio_commed: 0.0\n",
      "self.comms.count(True) : 0\n",
      "len(self.comms) : 1\n",
      "self.evaluation_deque: deque([0.0, 0.0, 0.0, 0.0, 0.0, 0.0, 0.0, 0.0, 0.0, 0.0, 0.0, 0.0, 0.0, 0.2936262692759379, 0.29530854073331836, 0.0, 0.321528563752126, 0.0, 0.32562807074699635, 0.0], maxlen=20)\n",
      "eval_mean: 0.06180457222541893\n"
     ]
    },
    {
     "name": "stderr",
     "output_type": "stream",
     "text": [
      "\r",
      " 27%|███████████████████▌                                                     | 26800/100000 [18:51<1:50:16, 11.06it/s]"
     ]
    },
    {
     "name": "stdout",
     "output_type": "stream",
     "text": [
      "self.evaluation_deque: deque([0.0, 0.0, 0.0, 0.0, 0.0, 0.0, 0.0, 0.0, 0.0, 0.0, 0.0, 0.0, 0.0, 0.2936262692759379, 0.29530854073331836, 0.0, 0.321528563752126, 0.0, 0.32562807074699635, 0.0], maxlen=20)\n",
      "eval_mean: 0.06180457222541893\n"
     ]
    },
    {
     "name": "stderr",
     "output_type": "stream",
     "text": [
      "\r",
      " 27%|███████████████████▌                                                     | 26860/100000 [18:56<1:44:56, 11.62it/s]"
     ]
    },
    {
     "name": "stdout",
     "output_type": "stream",
     "text": [
      "self.evaluation_deque: deque([0.0, 0.0, 0.0, 0.0, 0.0, 0.0, 0.0, 0.0, 0.0, 0.0, 0.0, 0.0, 0.0, 0.2936262692759379, 0.29530854073331836, 0.0, 0.321528563752126, 0.0, 0.32562807074699635, 0.0], maxlen=20)\n",
      "eval_mean: 0.06180457222541893\n"
     ]
    },
    {
     "name": "stderr",
     "output_type": "stream",
     "text": [
      "\r",
      " 27%|███████████████████▋                                                     | 26936/100000 [19:02<1:45:24, 11.55it/s]"
     ]
    },
    {
     "name": "stdout",
     "output_type": "stream",
     "text": [
      "self.evaluation_deque: deque([0.0, 0.0, 0.0, 0.0, 0.0, 0.0, 0.0, 0.0, 0.0, 0.0, 0.0, 0.0, 0.0, 0.2936262692759379, 0.29530854073331836, 0.0, 0.321528563752126, 0.0, 0.32562807074699635, 0.0], maxlen=20)\n",
      "eval_mean: 0.06180457222541893\n"
     ]
    },
    {
     "name": "stderr",
     "output_type": "stream",
     "text": [
      "\r",
      " 27%|███████████████████▋                                                     | 27012/100000 [19:09<1:45:25, 11.54it/s]"
     ]
    },
    {
     "name": "stdout",
     "output_type": "stream",
     "text": [
      "self.evaluation_deque: deque([0.0, 0.0, 0.0, 0.0, 0.0, 0.0, 0.0, 0.0, 0.0, 0.0, 0.0, 0.0, 0.0, 0.2936262692759379, 0.29530854073331836, 0.0, 0.321528563752126, 0.0, 0.32562807074699635, 0.0], maxlen=20)\n",
      "eval_mean: 0.06180457222541893\n"
     ]
    },
    {
     "name": "stderr",
     "output_type": "stream",
     "text": [
      "\r",
      " 27%|███████████████████▊                                                     | 27088/100000 [19:20<2:07:23,  9.54it/s]"
     ]
    },
    {
     "name": "stdout",
     "output_type": "stream",
     "text": [
      "self.get_collection_ratio(): 0.9398639670996228\n",
      "self.comms.count(True) : 1\n",
      "len(self.comms) : 3\n",
      "self.state.ratio_commed: 0.3333333333333333\n",
      "self.comms.count(True) : 1\n",
      "len(self.comms) : 3\n",
      "self.evaluation_deque: deque([0.0, 0.0, 0.0, 0.0, 0.0, 0.0, 0.0, 0.0, 0.0, 0.0, 0.0, 0.0, 0.2936262692759379, 0.29530854073331836, 0.0, 0.321528563752126, 0.0, 0.32562807074699635, 0.0, 0.3132879890332076], maxlen=20)\n",
      "eval_mean: 0.0774689716770793\n",
      "Saving best with: 0.0774689716770793\n"
     ]
    },
    {
     "name": "stderr",
     "output_type": "stream",
     "text": [
      "\r",
      " 27%|███████████████████▊                                                     | 27164/100000 [19:26<1:56:05, 10.46it/s]"
     ]
    },
    {
     "name": "stdout",
     "output_type": "stream",
     "text": [
      "self.evaluation_deque: deque([0.0, 0.0, 0.0, 0.0, 0.0, 0.0, 0.0, 0.0, 0.0, 0.0, 0.0, 0.0, 0.2936262692759379, 0.29530854073331836, 0.0, 0.321528563752126, 0.0, 0.32562807074699635, 0.0, 0.3132879890332076], maxlen=20)\n",
      "eval_mean: 0.0774689716770793\n"
     ]
    },
    {
     "name": "stderr",
     "output_type": "stream",
     "text": [
      "\r",
      " 27%|███████████████████▊                                                     | 27224/100000 [19:30<1:49:18, 11.10it/s]"
     ]
    },
    {
     "name": "stdout",
     "output_type": "stream",
     "text": [
      "self.evaluation_deque: deque([0.0, 0.0, 0.0, 0.0, 0.0, 0.0, 0.0, 0.0, 0.0, 0.0, 0.0, 0.0, 0.2936262692759379, 0.29530854073331836, 0.0, 0.321528563752126, 0.0, 0.32562807074699635, 0.0, 0.3132879890332076], maxlen=20)\n",
      "eval_mean: 0.0774689716770793\n"
     ]
    },
    {
     "name": "stderr",
     "output_type": "stream",
     "text": [
      "\r",
      " 27%|███████████████████▉                                                     | 27300/100000 [19:36<1:43:11, 11.74it/s]"
     ]
    },
    {
     "name": "stdout",
     "output_type": "stream",
     "text": [
      "self.evaluation_deque: deque([0.0, 0.0, 0.0, 0.0, 0.0, 0.0, 0.0, 0.0, 0.0, 0.0, 0.0, 0.0, 0.2936262692759379, 0.29530854073331836, 0.0, 0.321528563752126, 0.0, 0.32562807074699635, 0.0, 0.3132879890332076], maxlen=20)\n",
      "eval_mean: 0.0774689716770793\n"
     ]
    },
    {
     "name": "stderr",
     "output_type": "stream",
     "text": [
      "\r",
      " 27%|███████████████████▉                                                     | 27376/100000 [19:41<1:39:17, 12.19it/s]"
     ]
    },
    {
     "name": "stdout",
     "output_type": "stream",
     "text": [
      "self.evaluation_deque: deque([0.0, 0.0, 0.0, 0.0, 0.0, 0.0, 0.0, 0.0, 0.0, 0.0, 0.0, 0.0, 0.2936262692759379, 0.29530854073331836, 0.0, 0.321528563752126, 0.0, 0.32562807074699635, 0.0, 0.3132879890332076], maxlen=20)\n",
      "eval_mean: 0.0774689716770793\n"
     ]
    },
    {
     "name": "stderr",
     "output_type": "stream",
     "text": [
      "\r",
      " 27%|████████████████████                                                     | 27436/100000 [19:47<1:44:51, 11.53it/s]"
     ]
    },
    {
     "name": "stdout",
     "output_type": "stream",
     "text": [
      "self.get_collection_ratio(): 0.5206835250522535\n",
      "self.comms.count(True) : 0\n",
      "len(self.comms) : 1\n",
      "self.state.ratio_commed: 0.0\n",
      "self.comms.count(True) : 0\n",
      "len(self.comms) : 1\n",
      "self.evaluation_deque: deque([0.0, 0.0, 0.0, 0.0, 0.0, 0.0, 0.0, 0.0, 0.0, 0.0, 0.0, 0.2936262692759379, 0.29530854073331836, 0.0, 0.321528563752126, 0.0, 0.32562807074699635, 0.0, 0.3132879890332076, 0.0], maxlen=20)\n",
      "eval_mean: 0.0774689716770793\n"
     ]
    },
    {
     "name": "stderr",
     "output_type": "stream",
     "text": [
      "\r",
      " 27%|████████████████████                                                     | 27496/100000 [19:53<1:46:18, 11.37it/s]"
     ]
    },
    {
     "name": "stdout",
     "output_type": "stream",
     "text": [
      "self.evaluation_deque: deque([0.0, 0.0, 0.0, 0.0, 0.0, 0.0, 0.0, 0.0, 0.0, 0.0, 0.0, 0.2936262692759379, 0.29530854073331836, 0.0, 0.321528563752126, 0.0, 0.32562807074699635, 0.0, 0.3132879890332076, 0.0], maxlen=20)\n",
      "eval_mean: 0.0774689716770793\n"
     ]
    },
    {
     "name": "stderr",
     "output_type": "stream",
     "text": [
      "\r",
      " 28%|████████████████████▏                                                    | 27572/100000 [19:59<1:40:47, 11.98it/s]"
     ]
    },
    {
     "name": "stdout",
     "output_type": "stream",
     "text": [
      "self.evaluation_deque: deque([0.0, 0.0, 0.0, 0.0, 0.0, 0.0, 0.0, 0.0, 0.0, 0.0, 0.0, 0.2936262692759379, 0.29530854073331836, 0.0, 0.321528563752126, 0.0, 0.32562807074699635, 0.0, 0.3132879890332076, 0.0], maxlen=20)\n",
      "eval_mean: 0.0774689716770793\n"
     ]
    },
    {
     "name": "stderr",
     "output_type": "stream",
     "text": [
      "\r",
      " 28%|████████████████████▏                                                    | 27648/100000 [20:05<1:41:44, 11.85it/s]"
     ]
    },
    {
     "name": "stdout",
     "output_type": "stream",
     "text": [
      "self.evaluation_deque: deque([0.0, 0.0, 0.0, 0.0, 0.0, 0.0, 0.0, 0.0, 0.0, 0.0, 0.0, 0.2936262692759379, 0.29530854073331836, 0.0, 0.321528563752126, 0.0, 0.32562807074699635, 0.0, 0.3132879890332076, 0.0], maxlen=20)\n",
      "eval_mean: 0.0774689716770793\n"
     ]
    },
    {
     "name": "stderr",
     "output_type": "stream",
     "text": [
      "\r",
      " 28%|████████████████████▏                                                    | 27724/100000 [20:12<1:42:20, 11.77it/s]"
     ]
    },
    {
     "name": "stdout",
     "output_type": "stream",
     "text": [
      "self.evaluation_deque: deque([0.0, 0.0, 0.0, 0.0, 0.0, 0.0, 0.0, 0.0, 0.0, 0.0, 0.0, 0.2936262692759379, 0.29530854073331836, 0.0, 0.321528563752126, 0.0, 0.32562807074699635, 0.0, 0.3132879890332076, 0.0], maxlen=20)\n",
      "eval_mean: 0.0774689716770793\n"
     ]
    },
    {
     "name": "stderr",
     "output_type": "stream",
     "text": [
      "\r",
      " 28%|████████████████████▎                                                    | 27800/100000 [20:20<1:54:06, 10.55it/s]"
     ]
    },
    {
     "name": "stdout",
     "output_type": "stream",
     "text": [
      "self.get_collection_ratio(): 0.8077954949849375\n",
      "self.comms.count(True) : 1\n",
      "len(self.comms) : 2\n",
      "self.state.ratio_commed: 0.5\n",
      "self.comms.count(True) : 1\n",
      "len(self.comms) : 2\n",
      "self.evaluation_deque: deque([0.0, 0.0, 0.0, 0.0, 0.0, 0.0, 0.0, 0.0, 0.0, 0.0, 0.2936262692759379, 0.29530854073331836, 0.0, 0.321528563752126, 0.0, 0.32562807074699635, 0.0, 0.3132879890332076, 0.0, 0.40389774749246876], maxlen=20)\n",
      "eval_mean: 0.09766385905170274\n",
      "Saving best with: 0.09766385905170274\n"
     ]
    },
    {
     "name": "stderr",
     "output_type": "stream",
     "text": [
      "\r",
      " 28%|████████████████████▎                                                    | 27876/100000 [20:27<1:50:55, 10.84it/s]"
     ]
    },
    {
     "name": "stdout",
     "output_type": "stream",
     "text": [
      "self.evaluation_deque: deque([0.0, 0.0, 0.0, 0.0, 0.0, 0.0, 0.0, 0.0, 0.0, 0.0, 0.2936262692759379, 0.29530854073331836, 0.0, 0.321528563752126, 0.0, 0.32562807074699635, 0.0, 0.3132879890332076, 0.0, 0.40389774749246876], maxlen=20)\n",
      "eval_mean: 0.09766385905170274\n"
     ]
    },
    {
     "name": "stderr",
     "output_type": "stream",
     "text": [
      "\r",
      " 28%|████████████████████▍                                                    | 27952/100000 [20:34<1:48:55, 11.02it/s]"
     ]
    },
    {
     "name": "stdout",
     "output_type": "stream",
     "text": [
      "self.evaluation_deque: deque([0.0, 0.0, 0.0, 0.0, 0.0, 0.0, 0.0, 0.0, 0.0, 0.0, 0.2936262692759379, 0.29530854073331836, 0.0, 0.321528563752126, 0.0, 0.32562807074699635, 0.0, 0.3132879890332076, 0.0, 0.40389774749246876], maxlen=20)\n",
      "eval_mean: 0.09766385905170274\n"
     ]
    },
    {
     "name": "stderr",
     "output_type": "stream",
     "text": [
      "\r",
      " 28%|████████████████████▍                                                    | 28012/100000 [20:38<1:44:04, 11.53it/s]"
     ]
    },
    {
     "name": "stdout",
     "output_type": "stream",
     "text": [
      "self.evaluation_deque: deque([0.0, 0.0, 0.0, 0.0, 0.0, 0.0, 0.0, 0.0, 0.0, 0.0, 0.2936262692759379, 0.29530854073331836, 0.0, 0.321528563752126, 0.0, 0.32562807074699635, 0.0, 0.3132879890332076, 0.0, 0.40389774749246876], maxlen=20)\n",
      "eval_mean: 0.09766385905170274\n"
     ]
    },
    {
     "name": "stderr",
     "output_type": "stream",
     "text": [
      "\r",
      " 28%|████████████████████▍                                                    | 28072/100000 [20:44<1:45:21, 11.38it/s]"
     ]
    },
    {
     "name": "stdout",
     "output_type": "stream",
     "text": [
      "self.evaluation_deque: deque([0.0, 0.0, 0.0, 0.0, 0.0, 0.0, 0.0, 0.0, 0.0, 0.0, 0.2936262692759379, 0.29530854073331836, 0.0, 0.321528563752126, 0.0, 0.32562807074699635, 0.0, 0.3132879890332076, 0.0, 0.40389774749246876], maxlen=20)\n",
      "eval_mean: 0.09766385905170274\n"
     ]
    },
    {
     "name": "stderr",
     "output_type": "stream",
     "text": [
      "\r",
      " 28%|████████████████████▌                                                    | 28132/100000 [20:52<1:59:56,  9.99it/s]"
     ]
    },
    {
     "name": "stdout",
     "output_type": "stream",
     "text": [
      "self.get_collection_ratio(): 0.4670167848837384\n",
      "self.comms.count(True) : 1\n",
      "len(self.comms) : 1\n",
      "self.state.ratio_commed: 1.0\n",
      "self.comms.count(True) : 1\n",
      "len(self.comms) : 1\n",
      "self.evaluation_deque: deque([0.0, 0.0, 0.0, 0.0, 0.0, 0.0, 0.0, 0.0, 0.0, 0.2936262692759379, 0.29530854073331836, 0.0, 0.321528563752126, 0.0, 0.32562807074699635, 0.0, 0.3132879890332076, 0.0, 0.40389774749246876, 0.4670167848837384], maxlen=20)\n",
      "eval_mean: 0.12101469829588966\n",
      "Saving best with: 0.12101469829588966\n"
     ]
    },
    {
     "name": "stderr",
     "output_type": "stream",
     "text": [
      "\r",
      " 28%|████████████████████▌                                                    | 28208/100000 [20:59<1:59:19, 10.03it/s]"
     ]
    },
    {
     "name": "stdout",
     "output_type": "stream",
     "text": [
      "self.evaluation_deque: deque([0.0, 0.0, 0.0, 0.0, 0.0, 0.0, 0.0, 0.0, 0.0, 0.2936262692759379, 0.29530854073331836, 0.0, 0.321528563752126, 0.0, 0.32562807074699635, 0.0, 0.3132879890332076, 0.0, 0.40389774749246876, 0.4670167848837384], maxlen=20)\n",
      "eval_mean: 0.12101469829588966\n"
     ]
    },
    {
     "name": "stderr",
     "output_type": "stream",
     "text": [
      "\r",
      " 28%|████████████████████▋                                                    | 28284/100000 [21:07<1:59:03, 10.04it/s]"
     ]
    },
    {
     "name": "stdout",
     "output_type": "stream",
     "text": [
      "self.evaluation_deque: deque([0.0, 0.0, 0.0, 0.0, 0.0, 0.0, 0.0, 0.0, 0.0, 0.2936262692759379, 0.29530854073331836, 0.0, 0.321528563752126, 0.0, 0.32562807074699635, 0.0, 0.3132879890332076, 0.0, 0.40389774749246876, 0.4670167848837384], maxlen=20)\n",
      "eval_mean: 0.12101469829588966\n"
     ]
    },
    {
     "name": "stderr",
     "output_type": "stream",
     "text": [
      "\r",
      " 28%|████████████████████▋                                                    | 28344/100000 [21:11<1:51:02, 10.75it/s]"
     ]
    },
    {
     "name": "stdout",
     "output_type": "stream",
     "text": [
      "self.evaluation_deque: deque([0.0, 0.0, 0.0, 0.0, 0.0, 0.0, 0.0, 0.0, 0.0, 0.2936262692759379, 0.29530854073331836, 0.0, 0.321528563752126, 0.0, 0.32562807074699635, 0.0, 0.3132879890332076, 0.0, 0.40389774749246876, 0.4670167848837384], maxlen=20)\n",
      "eval_mean: 0.12101469829588966\n"
     ]
    },
    {
     "name": "stderr",
     "output_type": "stream",
     "text": [
      "\r",
      " 28%|████████████████████▋                                                    | 28420/100000 [21:19<1:52:56, 10.56it/s]"
     ]
    },
    {
     "name": "stdout",
     "output_type": "stream",
     "text": [
      "self.evaluation_deque: deque([0.0, 0.0, 0.0, 0.0, 0.0, 0.0, 0.0, 0.0, 0.0, 0.2936262692759379, 0.29530854073331836, 0.0, 0.321528563752126, 0.0, 0.32562807074699635, 0.0, 0.3132879890332076, 0.0, 0.40389774749246876, 0.4670167848837384], maxlen=20)\n",
      "eval_mean: 0.12101469829588966\n"
     ]
    },
    {
     "name": "stderr",
     "output_type": "stream",
     "text": [
      "\r",
      " 28%|████████████████████▊                                                    | 28480/100000 [21:27<2:09:57,  9.17it/s]"
     ]
    },
    {
     "name": "stdout",
     "output_type": "stream",
     "text": [
      "self.get_collection_ratio(): 0.39191103976036135\n",
      "self.comms.count(True) : 1\n",
      "len(self.comms) : 1\n",
      "self.state.ratio_commed: 1.0\n",
      "self.comms.count(True) : 1\n",
      "len(self.comms) : 1\n",
      "self.evaluation_deque: deque([0.0, 0.0, 0.0, 0.0, 0.0, 0.0, 0.0, 0.0, 0.2936262692759379, 0.29530854073331836, 0.0, 0.321528563752126, 0.0, 0.32562807074699635, 0.0, 0.3132879890332076, 0.0, 0.40389774749246876, 0.4670167848837384, 0.39191103976036135], maxlen=20)\n",
      "eval_mean: 0.14061025028390772\n",
      "Saving best with: 0.14061025028390772\n"
     ]
    },
    {
     "name": "stderr",
     "output_type": "stream",
     "text": [
      "\r",
      " 29%|████████████████████▊                                                    | 28540/100000 [21:33<2:03:34,  9.64it/s]"
     ]
    },
    {
     "name": "stdout",
     "output_type": "stream",
     "text": [
      "self.evaluation_deque: deque([0.0, 0.0, 0.0, 0.0, 0.0, 0.0, 0.0, 0.0, 0.2936262692759379, 0.29530854073331836, 0.0, 0.321528563752126, 0.0, 0.32562807074699635, 0.0, 0.3132879890332076, 0.0, 0.40389774749246876, 0.4670167848837384, 0.39191103976036135], maxlen=20)\n",
      "eval_mean: 0.14061025028390772\n"
     ]
    },
    {
     "name": "stderr",
     "output_type": "stream",
     "text": [
      "\r",
      " 29%|████████████████████▉                                                    | 28600/100000 [21:39<2:04:00,  9.60it/s]"
     ]
    },
    {
     "name": "stdout",
     "output_type": "stream",
     "text": [
      "self.evaluation_deque: deque([0.0, 0.0, 0.0, 0.0, 0.0, 0.0, 0.0, 0.0, 0.2936262692759379, 0.29530854073331836, 0.0, 0.321528563752126, 0.0, 0.32562807074699635, 0.0, 0.3132879890332076, 0.0, 0.40389774749246876, 0.4670167848837384, 0.39191103976036135], maxlen=20)\n",
      "eval_mean: 0.14061025028390772\n"
     ]
    },
    {
     "name": "stderr",
     "output_type": "stream",
     "text": [
      "\r",
      " 29%|████████████████████▉                                                    | 28676/100000 [21:47<2:01:44,  9.76it/s]"
     ]
    },
    {
     "name": "stdout",
     "output_type": "stream",
     "text": [
      "self.evaluation_deque: deque([0.0, 0.0, 0.0, 0.0, 0.0, 0.0, 0.0, 0.0, 0.2936262692759379, 0.29530854073331836, 0.0, 0.321528563752126, 0.0, 0.32562807074699635, 0.0, 0.3132879890332076, 0.0, 0.40389774749246876, 0.4670167848837384, 0.39191103976036135], maxlen=20)\n",
      "eval_mean: 0.14061025028390772\n"
     ]
    },
    {
     "name": "stderr",
     "output_type": "stream",
     "text": [
      "\r",
      " 29%|████████████████████▉                                                    | 28752/100000 [21:54<1:56:49, 10.16it/s]"
     ]
    },
    {
     "name": "stdout",
     "output_type": "stream",
     "text": [
      "self.evaluation_deque: deque([0.0, 0.0, 0.0, 0.0, 0.0, 0.0, 0.0, 0.0, 0.2936262692759379, 0.29530854073331836, 0.0, 0.321528563752126, 0.0, 0.32562807074699635, 0.0, 0.3132879890332076, 0.0, 0.40389774749246876, 0.4670167848837384, 0.39191103976036135], maxlen=20)\n",
      "eval_mean: 0.14061025028390772\n"
     ]
    },
    {
     "name": "stderr",
     "output_type": "stream",
     "text": [
      "\r",
      " 29%|█████████████████████                                                    | 28828/100000 [22:04<2:13:01,  8.92it/s]"
     ]
    },
    {
     "name": "stdout",
     "output_type": "stream",
     "text": [
      "self.get_collection_ratio(): 0.9562838342023435\n",
      "self.comms.count(True) : 1\n",
      "len(self.comms) : 3\n",
      "self.state.ratio_commed: 0.3333333333333333\n",
      "self.comms.count(True) : 1\n",
      "len(self.comms) : 3\n",
      "self.evaluation_deque: deque([0.0, 0.0, 0.0, 0.0, 0.0, 0.0, 0.0, 0.2936262692759379, 0.29530854073331836, 0.0, 0.321528563752126, 0.0, 0.32562807074699635, 0.0, 0.3132879890332076, 0.0, 0.40389774749246876, 0.4670167848837384, 0.39191103976036135, 0.3187612780674478], maxlen=20)\n",
      "eval_mean: 0.1565483141872801\n",
      "Saving best with: 0.1565483141872801\n"
     ]
    },
    {
     "name": "stderr",
     "output_type": "stream",
     "text": [
      "\r",
      " 29%|█████████████████████                                                    | 28904/100000 [22:10<1:59:09,  9.94it/s]"
     ]
    },
    {
     "name": "stdout",
     "output_type": "stream",
     "text": [
      "self.evaluation_deque: deque([0.0, 0.0, 0.0, 0.0, 0.0, 0.0, 0.0, 0.2936262692759379, 0.29530854073331836, 0.0, 0.321528563752126, 0.0, 0.32562807074699635, 0.0, 0.3132879890332076, 0.0, 0.40389774749246876, 0.4670167848837384, 0.39191103976036135, 0.3187612780674478], maxlen=20)\n",
      "eval_mean: 0.1565483141872801\n"
     ]
    },
    {
     "name": "stderr",
     "output_type": "stream",
     "text": [
      "\r",
      " 29%|█████████████████████▏                                                   | 28980/100000 [22:18<1:58:30,  9.99it/s]"
     ]
    },
    {
     "name": "stdout",
     "output_type": "stream",
     "text": [
      "self.evaluation_deque: deque([0.0, 0.0, 0.0, 0.0, 0.0, 0.0, 0.0, 0.2936262692759379, 0.29530854073331836, 0.0, 0.321528563752126, 0.0, 0.32562807074699635, 0.0, 0.3132879890332076, 0.0, 0.40389774749246876, 0.4670167848837384, 0.39191103976036135, 0.3187612780674478], maxlen=20)\n",
      "eval_mean: 0.1565483141872801\n"
     ]
    },
    {
     "name": "stderr",
     "output_type": "stream",
     "text": [
      "\r",
      " 29%|█████████████████████▏                                                   | 29040/100000 [22:23<1:55:44, 10.22it/s]"
     ]
    },
    {
     "name": "stdout",
     "output_type": "stream",
     "text": [
      "self.evaluation_deque: deque([0.0, 0.0, 0.0, 0.0, 0.0, 0.0, 0.0, 0.2936262692759379, 0.29530854073331836, 0.0, 0.321528563752126, 0.0, 0.32562807074699635, 0.0, 0.3132879890332076, 0.0, 0.40389774749246876, 0.4670167848837384, 0.39191103976036135, 0.3187612780674478], maxlen=20)\n",
      "eval_mean: 0.1565483141872801\n"
     ]
    },
    {
     "name": "stderr",
     "output_type": "stream",
     "text": [
      "\r",
      " 29%|█████████████████████▎                                                   | 29116/100000 [22:31<1:59:09,  9.91it/s]"
     ]
    },
    {
     "name": "stdout",
     "output_type": "stream",
     "text": [
      "self.evaluation_deque: deque([0.0, 0.0, 0.0, 0.0, 0.0, 0.0, 0.0, 0.2936262692759379, 0.29530854073331836, 0.0, 0.321528563752126, 0.0, 0.32562807074699635, 0.0, 0.3132879890332076, 0.0, 0.40389774749246876, 0.4670167848837384, 0.39191103976036135, 0.3187612780674478], maxlen=20)\n",
      "eval_mean: 0.1565483141872801\n"
     ]
    },
    {
     "name": "stderr",
     "output_type": "stream",
     "text": [
      "\r",
      " 29%|█████████████████████▎                                                   | 29192/100000 [22:42<2:12:18,  8.92it/s]"
     ]
    },
    {
     "name": "stdout",
     "output_type": "stream",
     "text": [
      "self.get_collection_ratio(): 0.9884007836653693\n",
      "self.comms.count(True) : 1\n",
      "len(self.comms) : 3\n",
      "self.state.ratio_commed: 0.3333333333333333\n",
      "self.comms.count(True) : 1\n",
      "len(self.comms) : 3\n",
      "self.evaluation_deque: deque([0.0, 0.0, 0.0, 0.0, 0.0, 0.0, 0.2936262692759379, 0.29530854073331836, 0.0, 0.321528563752126, 0.0, 0.32562807074699635, 0.0, 0.3132879890332076, 0.0, 0.40389774749246876, 0.4670167848837384, 0.39191103976036135, 0.3187612780674478, 0.32946692788845644], maxlen=20)\n",
      "eval_mean: 0.17302166058170293\n",
      "Saving best with: 0.17302166058170293\n"
     ]
    },
    {
     "name": "stderr",
     "output_type": "stream",
     "text": [
      "\r",
      " 29%|█████████████████████▎                                                   | 29252/100000 [22:46<2:00:42,  9.77it/s]"
     ]
    },
    {
     "name": "stdout",
     "output_type": "stream",
     "text": [
      "self.evaluation_deque: deque([0.0, 0.0, 0.0, 0.0, 0.0, 0.0, 0.2936262692759379, 0.29530854073331836, 0.0, 0.321528563752126, 0.0, 0.32562807074699635, 0.0, 0.3132879890332076, 0.0, 0.40389774749246876, 0.4670167848837384, 0.39191103976036135, 0.3187612780674478, 0.32946692788845644], maxlen=20)\n",
      "eval_mean: 0.17302166058170293\n"
     ]
    },
    {
     "name": "stderr",
     "output_type": "stream",
     "text": [
      "\r",
      " 29%|█████████████████████▍                                                   | 29328/100000 [22:53<1:54:49, 10.26it/s]"
     ]
    },
    {
     "name": "stdout",
     "output_type": "stream",
     "text": [
      "self.evaluation_deque: deque([0.0, 0.0, 0.0, 0.0, 0.0, 0.0, 0.2936262692759379, 0.29530854073331836, 0.0, 0.321528563752126, 0.0, 0.32562807074699635, 0.0, 0.3132879890332076, 0.0, 0.40389774749246876, 0.4670167848837384, 0.39191103976036135, 0.3187612780674478, 0.32946692788845644], maxlen=20)\n",
      "eval_mean: 0.17302166058170293\n"
     ]
    },
    {
     "name": "stderr",
     "output_type": "stream",
     "text": [
      "\r",
      " 29%|█████████████████████▍                                                   | 29404/100000 [23:00<1:55:26, 10.19it/s]"
     ]
    },
    {
     "name": "stdout",
     "output_type": "stream",
     "text": [
      "self.evaluation_deque: deque([0.0, 0.0, 0.0, 0.0, 0.0, 0.0, 0.2936262692759379, 0.29530854073331836, 0.0, 0.321528563752126, 0.0, 0.32562807074699635, 0.0, 0.3132879890332076, 0.0, 0.40389774749246876, 0.4670167848837384, 0.39191103976036135, 0.3187612780674478, 0.32946692788845644], maxlen=20)\n",
      "eval_mean: 0.17302166058170293\n"
     ]
    },
    {
     "name": "stderr",
     "output_type": "stream",
     "text": [
      "\r",
      " 29%|█████████████████████▌                                                   | 29464/100000 [23:06<1:52:52, 10.42it/s]"
     ]
    },
    {
     "name": "stdout",
     "output_type": "stream",
     "text": [
      "self.evaluation_deque: deque([0.0, 0.0, 0.0, 0.0, 0.0, 0.0, 0.2936262692759379, 0.29530854073331836, 0.0, 0.321528563752126, 0.0, 0.32562807074699635, 0.0, 0.3132879890332076, 0.0, 0.40389774749246876, 0.4670167848837384, 0.39191103976036135, 0.3187612780674478, 0.32946692788845644], maxlen=20)\n",
      "eval_mean: 0.17302166058170293\n"
     ]
    },
    {
     "name": "stderr",
     "output_type": "stream",
     "text": [
      "\r",
      " 30%|█████████████████████▌                                                   | 29524/100000 [23:12<1:58:05,  9.95it/s]"
     ]
    },
    {
     "name": "stdout",
     "output_type": "stream",
     "text": [
      "self.get_collection_ratio(): 0.8971931288657128\n",
      "self.comms.count(True) : 1\n",
      "len(self.comms) : 2\n",
      "self.state.ratio_commed: 0.5\n",
      "self.comms.count(True) : 1\n",
      "len(self.comms) : 2\n",
      "self.evaluation_deque: deque([0.0, 0.0, 0.0, 0.0, 0.0, 0.2936262692759379, 0.29530854073331836, 0.0, 0.321528563752126, 0.0, 0.32562807074699635, 0.0, 0.3132879890332076, 0.0, 0.40389774749246876, 0.4670167848837384, 0.39191103976036135, 0.3187612780674478, 0.32946692788845644, 0.4485965644328564], maxlen=20)\n",
      "eval_mean: 0.19545148880334573\n",
      "Saving best with: 0.19545148880334573\n"
     ]
    },
    {
     "name": "stderr",
     "output_type": "stream",
     "text": [
      "\r",
      " 30%|█████████████████████▌                                                   | 29600/100000 [23:19<1:52:33, 10.42it/s]"
     ]
    },
    {
     "name": "stdout",
     "output_type": "stream",
     "text": [
      "self.evaluation_deque: deque([0.0, 0.0, 0.0, 0.0, 0.0, 0.2936262692759379, 0.29530854073331836, 0.0, 0.321528563752126, 0.0, 0.32562807074699635, 0.0, 0.3132879890332076, 0.0, 0.40389774749246876, 0.4670167848837384, 0.39191103976036135, 0.3187612780674478, 0.32946692788845644, 0.4485965644328564], maxlen=20)\n",
      "eval_mean: 0.19545148880334573\n"
     ]
    },
    {
     "name": "stderr",
     "output_type": "stream",
     "text": [
      "\r",
      " 30%|█████████████████████▋                                                   | 29676/100000 [23:27<1:55:18, 10.16it/s]"
     ]
    },
    {
     "name": "stdout",
     "output_type": "stream",
     "text": [
      "self.evaluation_deque: deque([0.0, 0.0, 0.0, 0.0, 0.0, 0.2936262692759379, 0.29530854073331836, 0.0, 0.321528563752126, 0.0, 0.32562807074699635, 0.0, 0.3132879890332076, 0.0, 0.40389774749246876, 0.4670167848837384, 0.39191103976036135, 0.3187612780674478, 0.32946692788845644, 0.4485965644328564], maxlen=20)\n",
      "eval_mean: 0.19545148880334573\n"
     ]
    },
    {
     "name": "stderr",
     "output_type": "stream",
     "text": [
      "\r",
      " 30%|█████████████████████▋                                                   | 29736/100000 [23:35<2:07:35,  9.18it/s]"
     ]
    },
    {
     "name": "stdout",
     "output_type": "stream",
     "text": [
      "self.evaluation_deque: deque([0.0, 0.0, 0.0, 0.0, 0.0, 0.2936262692759379, 0.29530854073331836, 0.0, 0.321528563752126, 0.0, 0.32562807074699635, 0.0, 0.3132879890332076, 0.0, 0.40389774749246876, 0.4670167848837384, 0.39191103976036135, 0.3187612780674478, 0.32946692788845644, 0.4485965644328564], maxlen=20)\n",
      "eval_mean: 0.19545148880334573\n"
     ]
    },
    {
     "name": "stderr",
     "output_type": "stream",
     "text": [
      "\r",
      " 30%|█████████████████████▊                                                   | 29812/100000 [23:42<1:59:56,  9.75it/s]"
     ]
    },
    {
     "name": "stdout",
     "output_type": "stream",
     "text": [
      "self.evaluation_deque: deque([0.0, 0.0, 0.0, 0.0, 0.0, 0.2936262692759379, 0.29530854073331836, 0.0, 0.321528563752126, 0.0, 0.32562807074699635, 0.0, 0.3132879890332076, 0.0, 0.40389774749246876, 0.4670167848837384, 0.39191103976036135, 0.3187612780674478, 0.32946692788845644, 0.4485965644328564], maxlen=20)\n",
      "eval_mean: 0.19545148880334573\n"
     ]
    },
    {
     "name": "stderr",
     "output_type": "stream",
     "text": [
      "\r",
      " 30%|█████████████████████▊                                                   | 29888/100000 [23:52<2:09:33,  9.02it/s]"
     ]
    },
    {
     "name": "stdout",
     "output_type": "stream",
     "text": [
      "self.get_collection_ratio(): 0.6872604508735932\n",
      "self.comms.count(True) : 2\n",
      "len(self.comms) : 2\n",
      "self.state.ratio_commed: 1.0\n",
      "self.comms.count(True) : 2\n",
      "len(self.comms) : 2\n",
      "self.evaluation_deque: deque([0.0, 0.0, 0.0, 0.0, 0.2936262692759379, 0.29530854073331836, 0.0, 0.321528563752126, 0.0, 0.32562807074699635, 0.0, 0.3132879890332076, 0.0, 0.40389774749246876, 0.4670167848837384, 0.39191103976036135, 0.3187612780674478, 0.32946692788845644, 0.4485965644328564, 0.6872604508735932], maxlen=20)\n",
      "eval_mean: 0.2298145113470254\n",
      "Saving best with: 0.2298145113470254\n"
     ]
    },
    {
     "name": "stderr",
     "output_type": "stream",
     "text": [
      "\r",
      " 30%|█████████████████████▊                                                   | 29964/100000 [23:58<1:57:03,  9.97it/s]"
     ]
    },
    {
     "name": "stdout",
     "output_type": "stream",
     "text": [
      "self.evaluation_deque: deque([0.0, 0.0, 0.0, 0.0, 0.2936262692759379, 0.29530854073331836, 0.0, 0.321528563752126, 0.0, 0.32562807074699635, 0.0, 0.3132879890332076, 0.0, 0.40389774749246876, 0.4670167848837384, 0.39191103976036135, 0.3187612780674478, 0.32946692788845644, 0.4485965644328564, 0.6872604508735932], maxlen=20)\n",
      "eval_mean: 0.2298145113470254\n"
     ]
    },
    {
     "name": "stderr",
     "output_type": "stream",
     "text": [
      "\r",
      " 30%|█████████████████████▉                                                   | 30040/100000 [24:03<1:47:53, 10.81it/s]"
     ]
    },
    {
     "name": "stdout",
     "output_type": "stream",
     "text": [
      "self.evaluation_deque: deque([0.0, 0.0, 0.0, 0.0, 0.2936262692759379, 0.29530854073331836, 0.0, 0.321528563752126, 0.0, 0.32562807074699635, 0.0, 0.3132879890332076, 0.0, 0.40389774749246876, 0.4670167848837384, 0.39191103976036135, 0.3187612780674478, 0.32946692788845644, 0.4485965644328564, 0.6872604508735932], maxlen=20)\n",
      "eval_mean: 0.2298145113470254\n"
     ]
    },
    {
     "name": "stderr",
     "output_type": "stream",
     "text": [
      "\r",
      " 30%|█████████████████████▉                                                   | 30100/100000 [24:10<1:51:37, 10.44it/s]"
     ]
    },
    {
     "name": "stdout",
     "output_type": "stream",
     "text": [
      "self.evaluation_deque: deque([0.0, 0.0, 0.0, 0.0, 0.2936262692759379, 0.29530854073331836, 0.0, 0.321528563752126, 0.0, 0.32562807074699635, 0.0, 0.3132879890332076, 0.0, 0.40389774749246876, 0.4670167848837384, 0.39191103976036135, 0.3187612780674478, 0.32946692788845644, 0.4485965644328564, 0.6872604508735932], maxlen=20)\n",
      "eval_mean: 0.2298145113470254\n"
     ]
    },
    {
     "name": "stderr",
     "output_type": "stream",
     "text": [
      "\r",
      " 30%|██████████████████████                                                   | 30176/100000 [24:16<1:47:46, 10.80it/s]"
     ]
    },
    {
     "name": "stdout",
     "output_type": "stream",
     "text": [
      "self.evaluation_deque: deque([0.0, 0.0, 0.0, 0.0, 0.2936262692759379, 0.29530854073331836, 0.0, 0.321528563752126, 0.0, 0.32562807074699635, 0.0, 0.3132879890332076, 0.0, 0.40389774749246876, 0.4670167848837384, 0.39191103976036135, 0.3187612780674478, 0.32946692788845644, 0.4485965644328564, 0.6872604508735932], maxlen=20)\n",
      "eval_mean: 0.2298145113470254\n"
     ]
    },
    {
     "name": "stderr",
     "output_type": "stream",
     "text": [
      "\r",
      " 30%|██████████████████████                                                   | 30252/100000 [24:24<1:52:01, 10.38it/s]"
     ]
    },
    {
     "name": "stdout",
     "output_type": "stream",
     "text": [
      "self.get_collection_ratio(): 0.514426005201304\n",
      "self.comms.count(True) : 0\n",
      "len(self.comms) : 1\n",
      "self.state.ratio_commed: 0.0\n",
      "self.comms.count(True) : 0\n",
      "len(self.comms) : 1\n",
      "self.evaluation_deque: deque([0.0, 0.0, 0.0, 0.2936262692759379, 0.29530854073331836, 0.0, 0.321528563752126, 0.0, 0.32562807074699635, 0.0, 0.3132879890332076, 0.0, 0.40389774749246876, 0.4670167848837384, 0.39191103976036135, 0.3187612780674478, 0.32946692788845644, 0.4485965644328564, 0.6872604508735932, 0.0], maxlen=20)\n",
      "eval_mean: 0.22981451134702544\n",
      "Saving best with: 0.22981451134702544\n"
     ]
    },
    {
     "name": "stderr",
     "output_type": "stream",
     "text": [
      "\r",
      " 30%|██████████████████████▏                                                  | 30312/100000 [24:29<1:45:13, 11.04it/s]"
     ]
    },
    {
     "name": "stdout",
     "output_type": "stream",
     "text": [
      "self.evaluation_deque: deque([0.0, 0.0, 0.0, 0.2936262692759379, 0.29530854073331836, 0.0, 0.321528563752126, 0.0, 0.32562807074699635, 0.0, 0.3132879890332076, 0.0, 0.40389774749246876, 0.4670167848837384, 0.39191103976036135, 0.3187612780674478, 0.32946692788845644, 0.4485965644328564, 0.6872604508735932, 0.0], maxlen=20)\n",
      "eval_mean: 0.22981451134702544\n"
     ]
    },
    {
     "name": "stderr",
     "output_type": "stream",
     "text": [
      "\r",
      " 30%|██████████████████████▏                                                  | 30388/100000 [24:34<1:38:33, 11.77it/s]"
     ]
    },
    {
     "name": "stdout",
     "output_type": "stream",
     "text": [
      "self.evaluation_deque: deque([0.0, 0.0, 0.0, 0.2936262692759379, 0.29530854073331836, 0.0, 0.321528563752126, 0.0, 0.32562807074699635, 0.0, 0.3132879890332076, 0.0, 0.40389774749246876, 0.4670167848837384, 0.39191103976036135, 0.3187612780674478, 0.32946692788845644, 0.4485965644328564, 0.6872604508735932, 0.0], maxlen=20)\n",
      "eval_mean: 0.22981451134702544\n"
     ]
    },
    {
     "name": "stderr",
     "output_type": "stream",
     "text": [
      "\r",
      " 30%|██████████████████████▏                                                  | 30464/100000 [24:41<1:38:46, 11.73it/s]"
     ]
    },
    {
     "name": "stdout",
     "output_type": "stream",
     "text": [
      "self.evaluation_deque: deque([0.0, 0.0, 0.0, 0.2936262692759379, 0.29530854073331836, 0.0, 0.321528563752126, 0.0, 0.32562807074699635, 0.0, 0.3132879890332076, 0.0, 0.40389774749246876, 0.4670167848837384, 0.39191103976036135, 0.3187612780674478, 0.32946692788845644, 0.4485965644328564, 0.6872604508735932, 0.0], maxlen=20)\n",
      "eval_mean: 0.22981451134702544\n"
     ]
    },
    {
     "name": "stderr",
     "output_type": "stream",
     "text": [
      "\r",
      " 31%|██████████████████████▎                                                  | 30540/100000 [24:48<1:42:45, 11.27it/s]"
     ]
    },
    {
     "name": "stdout",
     "output_type": "stream",
     "text": [
      "self.evaluation_deque: deque([0.0, 0.0, 0.0, 0.2936262692759379, 0.29530854073331836, 0.0, 0.321528563752126, 0.0, 0.32562807074699635, 0.0, 0.3132879890332076, 0.0, 0.40389774749246876, 0.4670167848837384, 0.39191103976036135, 0.3187612780674478, 0.32946692788845644, 0.4485965644328564, 0.6872604508735932, 0.0], maxlen=20)\n",
      "eval_mean: 0.22981451134702544\n"
     ]
    },
    {
     "name": "stderr",
     "output_type": "stream",
     "text": [
      "\r",
      " 31%|██████████████████████▎                                                  | 30600/100000 [24:57<2:02:01,  9.48it/s]"
     ]
    },
    {
     "name": "stdout",
     "output_type": "stream",
     "text": [
      "self.get_collection_ratio(): 0.979458258447115\n",
      "self.comms.count(True) : 1\n",
      "len(self.comms) : 3\n",
      "self.state.ratio_commed: 0.3333333333333333\n",
      "self.comms.count(True) : 1\n",
      "len(self.comms) : 3\n",
      "self.evaluation_deque: deque([0.0, 0.0, 0.2936262692759379, 0.29530854073331836, 0.0, 0.321528563752126, 0.0, 0.32562807074699635, 0.0, 0.3132879890332076, 0.0, 0.40389774749246876, 0.4670167848837384, 0.39191103976036135, 0.3187612780674478, 0.32946692788845644, 0.4485965644328564, 0.6872604508735932, 0.0, 0.3264860861490383], maxlen=20)\n",
      "eval_mean: 0.24613881565447732\n",
      "Saving best with: 0.24613881565447732\n"
     ]
    },
    {
     "name": "stderr",
     "output_type": "stream",
     "text": [
      "\r",
      " 31%|██████████████████████▍                                                  | 30676/100000 [25:04<1:54:32, 10.09it/s]"
     ]
    },
    {
     "name": "stdout",
     "output_type": "stream",
     "text": [
      "self.evaluation_deque: deque([0.0, 0.0, 0.2936262692759379, 0.29530854073331836, 0.0, 0.321528563752126, 0.0, 0.32562807074699635, 0.0, 0.3132879890332076, 0.0, 0.40389774749246876, 0.4670167848837384, 0.39191103976036135, 0.3187612780674478, 0.32946692788845644, 0.4485965644328564, 0.6872604508735932, 0.0, 0.3264860861490383], maxlen=20)\n",
      "eval_mean: 0.24613881565447732\n"
     ]
    },
    {
     "name": "stderr",
     "output_type": "stream",
     "text": [
      "\r",
      " 31%|██████████████████████▍                                                  | 30752/100000 [25:10<1:49:43, 10.52it/s]"
     ]
    },
    {
     "name": "stdout",
     "output_type": "stream",
     "text": [
      "self.evaluation_deque: deque([0.0, 0.0, 0.2936262692759379, 0.29530854073331836, 0.0, 0.321528563752126, 0.0, 0.32562807074699635, 0.0, 0.3132879890332076, 0.0, 0.40389774749246876, 0.4670167848837384, 0.39191103976036135, 0.3187612780674478, 0.32946692788845644, 0.4485965644328564, 0.6872604508735932, 0.0, 0.3264860861490383], maxlen=20)\n",
      "eval_mean: 0.24613881565447732\n"
     ]
    },
    {
     "name": "stderr",
     "output_type": "stream",
     "text": [
      "\r",
      " 31%|██████████████████████▍                                                  | 30812/100000 [25:16<1:52:19, 10.27it/s]"
     ]
    },
    {
     "name": "stdout",
     "output_type": "stream",
     "text": [
      "self.evaluation_deque: deque([0.0, 0.0, 0.2936262692759379, 0.29530854073331836, 0.0, 0.321528563752126, 0.0, 0.32562807074699635, 0.0, 0.3132879890332076, 0.0, 0.40389774749246876, 0.4670167848837384, 0.39191103976036135, 0.3187612780674478, 0.32946692788845644, 0.4485965644328564, 0.6872604508735932, 0.0, 0.3264860861490383], maxlen=20)\n",
      "eval_mean: 0.24613881565447732\n"
     ]
    },
    {
     "name": "stderr",
     "output_type": "stream",
     "text": [
      "\r",
      " 31%|██████████████████████▌                                                  | 30872/100000 [25:22<1:49:47, 10.49it/s]"
     ]
    },
    {
     "name": "stdout",
     "output_type": "stream",
     "text": [
      "self.evaluation_deque: deque([0.0, 0.0, 0.2936262692759379, 0.29530854073331836, 0.0, 0.321528563752126, 0.0, 0.32562807074699635, 0.0, 0.3132879890332076, 0.0, 0.40389774749246876, 0.4670167848837384, 0.39191103976036135, 0.3187612780674478, 0.32946692788845644, 0.4485965644328564, 0.6872604508735932, 0.0, 0.3264860861490383], maxlen=20)\n",
      "eval_mean: 0.24613881565447732\n"
     ]
    },
    {
     "name": "stderr",
     "output_type": "stream",
     "text": [
      "\r",
      " 31%|██████████████████████▌                                                  | 30948/100000 [25:31<1:58:28,  9.71it/s]"
     ]
    },
    {
     "name": "stdout",
     "output_type": "stream",
     "text": [
      "self.get_collection_ratio(): 0.3776635226966003\n",
      "self.comms.count(True) : 1\n",
      "len(self.comms) : 1\n",
      "self.state.ratio_commed: 1.0\n",
      "self.comms.count(True) : 1\n",
      "len(self.comms) : 1\n",
      "self.evaluation_deque: deque([0.0, 0.2936262692759379, 0.29530854073331836, 0.0, 0.321528563752126, 0.0, 0.32562807074699635, 0.0, 0.3132879890332076, 0.0, 0.40389774749246876, 0.4670167848837384, 0.39191103976036135, 0.3187612780674478, 0.32946692788845644, 0.4485965644328564, 0.6872604508735932, 0.0, 0.3264860861490383, 0.3776635226966003], maxlen=20)\n",
      "eval_mean: 0.26502199178930735\n",
      "Saving best with: 0.26502199178930735\n"
     ]
    },
    {
     "name": "stderr",
     "output_type": "stream",
     "text": [
      "\r",
      " 31%|██████████████████████▋                                                  | 31024/100000 [25:37<1:52:09, 10.25it/s]"
     ]
    },
    {
     "name": "stdout",
     "output_type": "stream",
     "text": [
      "self.evaluation_deque: deque([0.0, 0.2936262692759379, 0.29530854073331836, 0.0, 0.321528563752126, 0.0, 0.32562807074699635, 0.0, 0.3132879890332076, 0.0, 0.40389774749246876, 0.4670167848837384, 0.39191103976036135, 0.3187612780674478, 0.32946692788845644, 0.4485965644328564, 0.6872604508735932, 0.0, 0.3264860861490383, 0.3776635226966003], maxlen=20)\n",
      "eval_mean: 0.26502199178930735\n"
     ]
    },
    {
     "name": "stderr",
     "output_type": "stream",
     "text": [
      "\r",
      " 31%|██████████████████████▋                                                  | 31100/100000 [25:43<1:43:22, 11.11it/s]"
     ]
    },
    {
     "name": "stdout",
     "output_type": "stream",
     "text": [
      "self.evaluation_deque: deque([0.0, 0.2936262692759379, 0.29530854073331836, 0.0, 0.321528563752126, 0.0, 0.32562807074699635, 0.0, 0.3132879890332076, 0.0, 0.40389774749246876, 0.4670167848837384, 0.39191103976036135, 0.3187612780674478, 0.32946692788845644, 0.4485965644328564, 0.6872604508735932, 0.0, 0.3264860861490383, 0.3776635226966003], maxlen=20)\n",
      "eval_mean: 0.26502199178930735\n"
     ]
    },
    {
     "name": "stderr",
     "output_type": "stream",
     "text": [
      "\r",
      " 31%|██████████████████████▊                                                  | 31176/100000 [25:49<1:37:22, 11.78it/s]"
     ]
    },
    {
     "name": "stdout",
     "output_type": "stream",
     "text": [
      "self.evaluation_deque: deque([0.0, 0.2936262692759379, 0.29530854073331836, 0.0, 0.321528563752126, 0.0, 0.32562807074699635, 0.0, 0.3132879890332076, 0.0, 0.40389774749246876, 0.4670167848837384, 0.39191103976036135, 0.3187612780674478, 0.32946692788845644, 0.4485965644328564, 0.6872604508735932, 0.0, 0.3264860861490383, 0.3776635226966003], maxlen=20)\n",
      "eval_mean: 0.26502199178930735\n"
     ]
    },
    {
     "name": "stderr",
     "output_type": "stream",
     "text": [
      "\r",
      " 31%|██████████████████████▊                                                  | 31252/100000 [25:57<1:48:20, 10.58it/s]"
     ]
    },
    {
     "name": "stdout",
     "output_type": "stream",
     "text": [
      "self.evaluation_deque: deque([0.0, 0.2936262692759379, 0.29530854073331836, 0.0, 0.321528563752126, 0.0, 0.32562807074699635, 0.0, 0.3132879890332076, 0.0, 0.40389774749246876, 0.4670167848837384, 0.39191103976036135, 0.3187612780674478, 0.32946692788845644, 0.4485965644328564, 0.6872604508735932, 0.0, 0.3264860861490383, 0.3776635226966003], maxlen=20)\n",
      "eval_mean: 0.26502199178930735\n"
     ]
    },
    {
     "name": "stderr",
     "output_type": "stream",
     "text": [
      "\r",
      " 31%|██████████████████████▊                                                  | 31312/100000 [26:03<1:50:06, 10.40it/s]"
     ]
    },
    {
     "name": "stdout",
     "output_type": "stream",
     "text": [
      "self.get_collection_ratio(): 0.48095471057838685\n",
      "self.comms.count(True) : 1\n",
      "len(self.comms) : 1\n",
      "self.state.ratio_commed: 1.0\n",
      "self.comms.count(True) : 1\n",
      "len(self.comms) : 1\n",
      "self.evaluation_deque: deque([0.2936262692759379, 0.29530854073331836, 0.0, 0.321528563752126, 0.0, 0.32562807074699635, 0.0, 0.3132879890332076, 0.0, 0.40389774749246876, 0.4670167848837384, 0.39191103976036135, 0.3187612780674478, 0.32946692788845644, 0.4485965644328564, 0.6872604508735932, 0.0, 0.3264860861490383, 0.3776635226966003, 0.48095471057838685], maxlen=20)\n",
      "eval_mean: 0.28906972731822667\n",
      "Saving best with: 0.28906972731822667\n"
     ]
    },
    {
     "name": "stderr",
     "output_type": "stream",
     "text": [
      "\r",
      " 31%|██████████████████████▉                                                  | 31388/100000 [26:11<1:50:32, 10.34it/s]"
     ]
    },
    {
     "name": "stdout",
     "output_type": "stream",
     "text": [
      "self.evaluation_deque: deque([0.2936262692759379, 0.29530854073331836, 0.0, 0.321528563752126, 0.0, 0.32562807074699635, 0.0, 0.3132879890332076, 0.0, 0.40389774749246876, 0.4670167848837384, 0.39191103976036135, 0.3187612780674478, 0.32946692788845644, 0.4485965644328564, 0.6872604508735932, 0.0, 0.3264860861490383, 0.3776635226966003, 0.48095471057838685], maxlen=20)\n",
      "eval_mean: 0.28906972731822667\n"
     ]
    },
    {
     "name": "stderr",
     "output_type": "stream",
     "text": [
      "\r",
      " 31%|██████████████████████▉                                                  | 31464/100000 [26:19<1:51:53, 10.21it/s]"
     ]
    },
    {
     "name": "stdout",
     "output_type": "stream",
     "text": [
      "self.evaluation_deque: deque([0.2936262692759379, 0.29530854073331836, 0.0, 0.321528563752126, 0.0, 0.32562807074699635, 0.0, 0.3132879890332076, 0.0, 0.40389774749246876, 0.4670167848837384, 0.39191103976036135, 0.3187612780674478, 0.32946692788845644, 0.4485965644328564, 0.6872604508735932, 0.0, 0.3264860861490383, 0.3776635226966003, 0.48095471057838685], maxlen=20)\n",
      "eval_mean: 0.28906972731822667\n"
     ]
    },
    {
     "name": "stderr",
     "output_type": "stream",
     "text": [
      "\r",
      " 32%|███████████████████████                                                  | 31540/100000 [26:26<1:52:42, 10.12it/s]"
     ]
    },
    {
     "name": "stdout",
     "output_type": "stream",
     "text": [
      "self.evaluation_deque: deque([0.2936262692759379, 0.29530854073331836, 0.0, 0.321528563752126, 0.0, 0.32562807074699635, 0.0, 0.3132879890332076, 0.0, 0.40389774749246876, 0.4670167848837384, 0.39191103976036135, 0.3187612780674478, 0.32946692788845644, 0.4485965644328564, 0.6872604508735932, 0.0, 0.3264860861490383, 0.3776635226966003, 0.48095471057838685], maxlen=20)\n",
      "eval_mean: 0.28906972731822667\n"
     ]
    },
    {
     "name": "stderr",
     "output_type": "stream",
     "text": [
      "\r",
      " 32%|███████████████████████                                                  | 31616/100000 [26:33<1:49:20, 10.42it/s]"
     ]
    },
    {
     "name": "stdout",
     "output_type": "stream",
     "text": [
      "self.evaluation_deque: deque([0.2936262692759379, 0.29530854073331836, 0.0, 0.321528563752126, 0.0, 0.32562807074699635, 0.0, 0.3132879890332076, 0.0, 0.40389774749246876, 0.4670167848837384, 0.39191103976036135, 0.3187612780674478, 0.32946692788845644, 0.4485965644328564, 0.6872604508735932, 0.0, 0.3264860861490383, 0.3776635226966003, 0.48095471057838685], maxlen=20)\n",
      "eval_mean: 0.28906972731822667\n"
     ]
    },
    {
     "name": "stderr",
     "output_type": "stream",
     "text": [
      "\r",
      " 32%|███████████████████████                                                  | 31676/100000 [26:39<1:50:37, 10.29it/s]"
     ]
    },
    {
     "name": "stdout",
     "output_type": "stream",
     "text": [
      "self.get_collection_ratio(): 0.41615105192044943\n",
      "self.comms.count(True) : 1\n",
      "len(self.comms) : 1\n",
      "self.state.ratio_commed: 1.0\n",
      "self.comms.count(True) : 1\n",
      "len(self.comms) : 1\n",
      "self.evaluation_deque: deque([0.29530854073331836, 0.0, 0.321528563752126, 0.0, 0.32562807074699635, 0.0, 0.3132879890332076, 0.0, 0.40389774749246876, 0.4670167848837384, 0.39191103976036135, 0.3187612780674478, 0.32946692788845644, 0.4485965644328564, 0.6872604508735932, 0.0, 0.3264860861490383, 0.3776635226966003, 0.48095471057838685, 0.41615105192044943], maxlen=20)\n",
      "eval_mean: 0.29519596645045226\n",
      "Saving best with: 0.29519596645045226\n"
     ]
    },
    {
     "name": "stderr",
     "output_type": "stream",
     "text": [
      "\r",
      " 32%|███████████████████████▏                                                 | 31752/100000 [26:46<1:46:41, 10.66it/s]"
     ]
    },
    {
     "name": "stdout",
     "output_type": "stream",
     "text": [
      "self.evaluation_deque: deque([0.29530854073331836, 0.0, 0.321528563752126, 0.0, 0.32562807074699635, 0.0, 0.3132879890332076, 0.0, 0.40389774749246876, 0.4670167848837384, 0.39191103976036135, 0.3187612780674478, 0.32946692788845644, 0.4485965644328564, 0.6872604508735932, 0.0, 0.3264860861490383, 0.3776635226966003, 0.48095471057838685, 0.41615105192044943], maxlen=20)\n",
      "eval_mean: 0.29519596645045226\n"
     ]
    },
    {
     "name": "stderr",
     "output_type": "stream",
     "text": [
      "\r",
      " 32%|███████████████████████▏                                                 | 31828/100000 [26:52<1:45:07, 10.81it/s]"
     ]
    },
    {
     "name": "stdout",
     "output_type": "stream",
     "text": [
      "self.evaluation_deque: deque([0.29530854073331836, 0.0, 0.321528563752126, 0.0, 0.32562807074699635, 0.0, 0.3132879890332076, 0.0, 0.40389774749246876, 0.4670167848837384, 0.39191103976036135, 0.3187612780674478, 0.32946692788845644, 0.4485965644328564, 0.6872604508735932, 0.0, 0.3264860861490383, 0.3776635226966003, 0.48095471057838685, 0.41615105192044943], maxlen=20)\n",
      "eval_mean: 0.29519596645045226\n"
     ]
    },
    {
     "name": "stderr",
     "output_type": "stream",
     "text": [
      "\r",
      " 32%|███████████████████████▎                                                 | 31904/100000 [26:59<1:43:47, 10.93it/s]"
     ]
    },
    {
     "name": "stdout",
     "output_type": "stream",
     "text": [
      "self.evaluation_deque: deque([0.29530854073331836, 0.0, 0.321528563752126, 0.0, 0.32562807074699635, 0.0, 0.3132879890332076, 0.0, 0.40389774749246876, 0.4670167848837384, 0.39191103976036135, 0.3187612780674478, 0.32946692788845644, 0.4485965644328564, 0.6872604508735932, 0.0, 0.3264860861490383, 0.3776635226966003, 0.48095471057838685, 0.41615105192044943], maxlen=20)\n",
      "eval_mean: 0.29519596645045226\n"
     ]
    },
    {
     "name": "stderr",
     "output_type": "stream",
     "text": [
      "\r",
      " 32%|███████████████████████▎                                                 | 31980/100000 [27:05<1:37:20, 11.65it/s]"
     ]
    },
    {
     "name": "stdout",
     "output_type": "stream",
     "text": [
      "self.evaluation_deque: deque([0.29530854073331836, 0.0, 0.321528563752126, 0.0, 0.32562807074699635, 0.0, 0.3132879890332076, 0.0, 0.40389774749246876, 0.4670167848837384, 0.39191103976036135, 0.3187612780674478, 0.32946692788845644, 0.4485965644328564, 0.6872604508735932, 0.0, 0.3264860861490383, 0.3776635226966003, 0.48095471057838685, 0.41615105192044943], maxlen=20)\n",
      "eval_mean: 0.29519596645045226\n"
     ]
    },
    {
     "name": "stderr",
     "output_type": "stream",
     "text": [
      "\r",
      " 32%|███████████████████████▍                                                 | 32056/100000 [27:13<1:45:53, 10.69it/s]"
     ]
    },
    {
     "name": "stdout",
     "output_type": "stream",
     "text": [
      "self.get_collection_ratio(): 0.44843015190337243\n",
      "self.comms.count(True) : 1\n",
      "len(self.comms) : 1\n",
      "self.state.ratio_commed: 1.0\n",
      "self.comms.count(True) : 1\n",
      "len(self.comms) : 1\n",
      "self.evaluation_deque: deque([0.0, 0.321528563752126, 0.0, 0.32562807074699635, 0.0, 0.3132879890332076, 0.0, 0.40389774749246876, 0.4670167848837384, 0.39191103976036135, 0.3187612780674478, 0.32946692788845644, 0.4485965644328564, 0.6872604508735932, 0.0, 0.3264860861490383, 0.3776635226966003, 0.48095471057838685, 0.41615105192044943, 0.44843015190337243], maxlen=20)\n",
      "eval_mean: 0.30285204700895496\n",
      "Saving best with: 0.30285204700895496\n"
     ]
    },
    {
     "name": "stderr",
     "output_type": "stream",
     "text": [
      "\r",
      " 32%|███████████████████████▍                                                 | 32116/100000 [27:19<1:48:53, 10.39it/s]"
     ]
    },
    {
     "name": "stdout",
     "output_type": "stream",
     "text": [
      "self.evaluation_deque: deque([0.0, 0.321528563752126, 0.0, 0.32562807074699635, 0.0, 0.3132879890332076, 0.0, 0.40389774749246876, 0.4670167848837384, 0.39191103976036135, 0.3187612780674478, 0.32946692788845644, 0.4485965644328564, 0.6872604508735932, 0.0, 0.3264860861490383, 0.3776635226966003, 0.48095471057838685, 0.41615105192044943, 0.44843015190337243], maxlen=20)\n",
      "eval_mean: 0.30285204700895496\n"
     ]
    },
    {
     "name": "stderr",
     "output_type": "stream",
     "text": [
      "\r",
      " 32%|███████████████████████▌                                                 | 32192/100000 [27:26<1:46:44, 10.59it/s]"
     ]
    },
    {
     "name": "stdout",
     "output_type": "stream",
     "text": [
      "self.evaluation_deque: deque([0.0, 0.321528563752126, 0.0, 0.32562807074699635, 0.0, 0.3132879890332076, 0.0, 0.40389774749246876, 0.4670167848837384, 0.39191103976036135, 0.3187612780674478, 0.32946692788845644, 0.4485965644328564, 0.6872604508735932, 0.0, 0.3264860861490383, 0.3776635226966003, 0.48095471057838685, 0.41615105192044943, 0.44843015190337243], maxlen=20)\n",
      "eval_mean: 0.30285204700895496\n"
     ]
    },
    {
     "name": "stderr",
     "output_type": "stream",
     "text": [
      "\r",
      " 32%|███████████████████████▌                                                 | 32252/100000 [27:33<1:49:43, 10.29it/s]"
     ]
    },
    {
     "name": "stdout",
     "output_type": "stream",
     "text": [
      "self.evaluation_deque: deque([0.0, 0.321528563752126, 0.0, 0.32562807074699635, 0.0, 0.3132879890332076, 0.0, 0.40389774749246876, 0.4670167848837384, 0.39191103976036135, 0.3187612780674478, 0.32946692788845644, 0.4485965644328564, 0.6872604508735932, 0.0, 0.3264860861490383, 0.3776635226966003, 0.48095471057838685, 0.41615105192044943, 0.44843015190337243], maxlen=20)\n",
      "eval_mean: 0.30285204700895496\n"
     ]
    },
    {
     "name": "stderr",
     "output_type": "stream",
     "text": [
      "\r",
      " 32%|███████████████████████▌                                                 | 32328/100000 [27:40<1:49:51, 10.27it/s]"
     ]
    },
    {
     "name": "stdout",
     "output_type": "stream",
     "text": [
      "self.evaluation_deque: deque([0.0, 0.321528563752126, 0.0, 0.32562807074699635, 0.0, 0.3132879890332076, 0.0, 0.40389774749246876, 0.4670167848837384, 0.39191103976036135, 0.3187612780674478, 0.32946692788845644, 0.4485965644328564, 0.6872604508735932, 0.0, 0.3264860861490383, 0.3776635226966003, 0.48095471057838685, 0.41615105192044943, 0.44843015190337243], maxlen=20)\n",
      "eval_mean: 0.30285204700895496\n"
     ]
    },
    {
     "name": "stderr",
     "output_type": "stream",
     "text": [
      "\r",
      " 32%|███████████████████████▋                                                 | 32388/100000 [27:48<1:58:26,  9.51it/s]"
     ]
    },
    {
     "name": "stdout",
     "output_type": "stream",
     "text": [
      "self.get_collection_ratio(): 0.790839711029022\n",
      "self.comms.count(True) : 3\n",
      "len(self.comms) : 3\n",
      "self.state.ratio_commed: 1.0\n",
      "self.comms.count(True) : 3\n",
      "len(self.comms) : 3\n",
      "self.evaluation_deque: deque([0.321528563752126, 0.0, 0.32562807074699635, 0.0, 0.3132879890332076, 0.0, 0.40389774749246876, 0.4670167848837384, 0.39191103976036135, 0.3187612780674478, 0.32946692788845644, 0.4485965644328564, 0.6872604508735932, 0.0, 0.3264860861490383, 0.3776635226966003, 0.48095471057838685, 0.41615105192044943, 0.44843015190337243, 0.790839711029022], maxlen=20)\n",
      "eval_mean: 0.3423940325604061\n",
      "Saving best with: 0.3423940325604061\n"
     ]
    },
    {
     "name": "stderr",
     "output_type": "stream",
     "text": [
      "\r",
      " 32%|███████████████████████▋                                                 | 32464/100000 [27:54<1:51:40, 10.08it/s]"
     ]
    },
    {
     "name": "stdout",
     "output_type": "stream",
     "text": [
      "self.evaluation_deque: deque([0.321528563752126, 0.0, 0.32562807074699635, 0.0, 0.3132879890332076, 0.0, 0.40389774749246876, 0.4670167848837384, 0.39191103976036135, 0.3187612780674478, 0.32946692788845644, 0.4485965644328564, 0.6872604508735932, 0.0, 0.3264860861490383, 0.3776635226966003, 0.48095471057838685, 0.41615105192044943, 0.44843015190337243, 0.790839711029022], maxlen=20)\n",
      "eval_mean: 0.3423940325604061\n"
     ]
    },
    {
     "name": "stderr",
     "output_type": "stream",
     "text": [
      "\r",
      " 33%|███████████████████████▊                                                 | 32540/100000 [28:01<1:46:56, 10.51it/s]"
     ]
    },
    {
     "name": "stdout",
     "output_type": "stream",
     "text": [
      "self.evaluation_deque: deque([0.321528563752126, 0.0, 0.32562807074699635, 0.0, 0.3132879890332076, 0.0, 0.40389774749246876, 0.4670167848837384, 0.39191103976036135, 0.3187612780674478, 0.32946692788845644, 0.4485965644328564, 0.6872604508735932, 0.0, 0.3264860861490383, 0.3776635226966003, 0.48095471057838685, 0.41615105192044943, 0.44843015190337243, 0.790839711029022], maxlen=20)\n",
      "eval_mean: 0.3423940325604061\n"
     ]
    },
    {
     "name": "stderr",
     "output_type": "stream",
     "text": [
      "\r",
      " 33%|███████████████████████▊                                                 | 32616/100000 [28:08<1:45:01, 10.69it/s]"
     ]
    },
    {
     "name": "stdout",
     "output_type": "stream",
     "text": [
      "self.evaluation_deque: deque([0.321528563752126, 0.0, 0.32562807074699635, 0.0, 0.3132879890332076, 0.0, 0.40389774749246876, 0.4670167848837384, 0.39191103976036135, 0.3187612780674478, 0.32946692788845644, 0.4485965644328564, 0.6872604508735932, 0.0, 0.3264860861490383, 0.3776635226966003, 0.48095471057838685, 0.41615105192044943, 0.44843015190337243, 0.790839711029022], maxlen=20)\n",
      "eval_mean: 0.3423940325604061\n"
     ]
    },
    {
     "name": "stderr",
     "output_type": "stream",
     "text": [
      "\r",
      " 33%|███████████████████████▊                                                 | 32692/100000 [28:15<1:47:31, 10.43it/s]"
     ]
    },
    {
     "name": "stdout",
     "output_type": "stream",
     "text": [
      "self.evaluation_deque: deque([0.321528563752126, 0.0, 0.32562807074699635, 0.0, 0.3132879890332076, 0.0, 0.40389774749246876, 0.4670167848837384, 0.39191103976036135, 0.3187612780674478, 0.32946692788845644, 0.4485965644328564, 0.6872604508735932, 0.0, 0.3264860861490383, 0.3776635226966003, 0.48095471057838685, 0.41615105192044943, 0.44843015190337243, 0.790839711029022], maxlen=20)\n",
      "eval_mean: 0.3423940325604061\n"
     ]
    },
    {
     "name": "stderr",
     "output_type": "stream",
     "text": [
      "\r",
      " 33%|███████████████████████▉                                                 | 32768/100000 [28:28<2:11:41,  8.51it/s]"
     ]
    },
    {
     "name": "stdout",
     "output_type": "stream",
     "text": [
      "self.get_collection_ratio(): 0.9134483152223826\n",
      "self.comms.count(True) : 0\n",
      "len(self.comms) : 3\n",
      "self.state.ratio_commed: 0.0\n",
      "self.comms.count(True) : 0\n",
      "len(self.comms) : 3\n",
      "self.evaluation_deque: deque([0.0, 0.32562807074699635, 0.0, 0.3132879890332076, 0.0, 0.40389774749246876, 0.4670167848837384, 0.39191103976036135, 0.3187612780674478, 0.32946692788845644, 0.4485965644328564, 0.6872604508735932, 0.0, 0.3264860861490383, 0.3776635226966003, 0.48095471057838685, 0.41615105192044943, 0.44843015190337243, 0.790839711029022, 0.0], maxlen=20)\n",
      "eval_mean: 0.3263176043727998\n"
     ]
    },
    {
     "name": "stderr",
     "output_type": "stream",
     "text": [
      "\r",
      " 33%|███████████████████████▉                                                 | 32844/100000 [28:35<2:04:49,  8.97it/s]"
     ]
    },
    {
     "name": "stdout",
     "output_type": "stream",
     "text": [
      "self.evaluation_deque: deque([0.0, 0.32562807074699635, 0.0, 0.3132879890332076, 0.0, 0.40389774749246876, 0.4670167848837384, 0.39191103976036135, 0.3187612780674478, 0.32946692788845644, 0.4485965644328564, 0.6872604508735932, 0.0, 0.3264860861490383, 0.3776635226966003, 0.48095471057838685, 0.41615105192044943, 0.44843015190337243, 0.790839711029022, 0.0], maxlen=20)\n",
      "eval_mean: 0.3263176043727998\n"
     ]
    },
    {
     "name": "stderr",
     "output_type": "stream",
     "text": [
      "\r",
      " 33%|████████████████████████                                                 | 32920/100000 [28:42<1:56:25,  9.60it/s]"
     ]
    },
    {
     "name": "stdout",
     "output_type": "stream",
     "text": [
      "self.evaluation_deque: deque([0.0, 0.32562807074699635, 0.0, 0.3132879890332076, 0.0, 0.40389774749246876, 0.4670167848837384, 0.39191103976036135, 0.3187612780674478, 0.32946692788845644, 0.4485965644328564, 0.6872604508735932, 0.0, 0.3264860861490383, 0.3776635226966003, 0.48095471057838685, 0.41615105192044943, 0.44843015190337243, 0.790839711029022, 0.0], maxlen=20)\n",
      "eval_mean: 0.3263176043727998\n"
     ]
    },
    {
     "name": "stderr",
     "output_type": "stream",
     "text": [
      "\r",
      " 33%|████████████████████████                                                 | 32996/100000 [28:50<1:54:34,  9.75it/s]"
     ]
    },
    {
     "name": "stdout",
     "output_type": "stream",
     "text": [
      "self.evaluation_deque: deque([0.0, 0.32562807074699635, 0.0, 0.3132879890332076, 0.0, 0.40389774749246876, 0.4670167848837384, 0.39191103976036135, 0.3187612780674478, 0.32946692788845644, 0.4485965644328564, 0.6872604508735932, 0.0, 0.3264860861490383, 0.3776635226966003, 0.48095471057838685, 0.41615105192044943, 0.44843015190337243, 0.790839711029022, 0.0], maxlen=20)\n",
      "eval_mean: 0.3263176043727998\n"
     ]
    },
    {
     "name": "stderr",
     "output_type": "stream",
     "text": [
      "\r",
      " 33%|████████████████████████▏                                                | 33072/100000 [28:55<1:45:08, 10.61it/s]"
     ]
    },
    {
     "name": "stdout",
     "output_type": "stream",
     "text": [
      "self.evaluation_deque: deque([0.0, 0.32562807074699635, 0.0, 0.3132879890332076, 0.0, 0.40389774749246876, 0.4670167848837384, 0.39191103976036135, 0.3187612780674478, 0.32946692788845644, 0.4485965644328564, 0.6872604508735932, 0.0, 0.3264860861490383, 0.3776635226966003, 0.48095471057838685, 0.41615105192044943, 0.44843015190337243, 0.790839711029022, 0.0], maxlen=20)\n",
      "eval_mean: 0.3263176043727998\n"
     ]
    },
    {
     "name": "stderr",
     "output_type": "stream",
     "text": [
      "\r",
      " 33%|████████████████████████▏                                                | 33148/100000 [29:03<1:46:04, 10.50it/s]"
     ]
    },
    {
     "name": "stdout",
     "output_type": "stream",
     "text": [
      "self.get_collection_ratio(): 0.3488310264391323\n",
      "self.comms.count(True) : 1\n",
      "len(self.comms) : 1\n",
      "self.state.ratio_commed: 1.0\n",
      "self.comms.count(True) : 1\n",
      "len(self.comms) : 1\n",
      "self.evaluation_deque: deque([0.32562807074699635, 0.0, 0.3132879890332076, 0.0, 0.40389774749246876, 0.4670167848837384, 0.39191103976036135, 0.3187612780674478, 0.32946692788845644, 0.4485965644328564, 0.6872604508735932, 0.0, 0.3264860861490383, 0.3776635226966003, 0.48095471057838685, 0.41615105192044943, 0.44843015190337243, 0.790839711029022, 0.0, 0.3488310264391323], maxlen=20)\n",
      "eval_mean: 0.3437591556947564\n",
      "Saving best with: 0.3437591556947564\n"
     ]
    },
    {
     "name": "stderr",
     "output_type": "stream",
     "text": [
      "\r",
      " 33%|████████████████████████▎                                                | 33224/100000 [29:10<1:47:08, 10.39it/s]"
     ]
    },
    {
     "name": "stdout",
     "output_type": "stream",
     "text": [
      "self.evaluation_deque: deque([0.32562807074699635, 0.0, 0.3132879890332076, 0.0, 0.40389774749246876, 0.4670167848837384, 0.39191103976036135, 0.3187612780674478, 0.32946692788845644, 0.4485965644328564, 0.6872604508735932, 0.0, 0.3264860861490383, 0.3776635226966003, 0.48095471057838685, 0.41615105192044943, 0.44843015190337243, 0.790839711029022, 0.0, 0.3488310264391323], maxlen=20)\n",
      "eval_mean: 0.3437591556947564\n"
     ]
    },
    {
     "name": "stderr",
     "output_type": "stream",
     "text": [
      "\r",
      " 33%|████████████████████████▎                                                | 33300/100000 [29:18<1:47:59, 10.29it/s]"
     ]
    },
    {
     "name": "stdout",
     "output_type": "stream",
     "text": [
      "self.evaluation_deque: deque([0.32562807074699635, 0.0, 0.3132879890332076, 0.0, 0.40389774749246876, 0.4670167848837384, 0.39191103976036135, 0.3187612780674478, 0.32946692788845644, 0.4485965644328564, 0.6872604508735932, 0.0, 0.3264860861490383, 0.3776635226966003, 0.48095471057838685, 0.41615105192044943, 0.44843015190337243, 0.790839711029022, 0.0, 0.3488310264391323], maxlen=20)\n",
      "eval_mean: 0.3437591556947564\n"
     ]
    },
    {
     "name": "stderr",
     "output_type": "stream",
     "text": [
      "\r",
      " 33%|████████████████████████▎                                                | 33376/100000 [29:25<1:45:59, 10.48it/s]"
     ]
    },
    {
     "name": "stdout",
     "output_type": "stream",
     "text": [
      "self.evaluation_deque: deque([0.32562807074699635, 0.0, 0.3132879890332076, 0.0, 0.40389774749246876, 0.4670167848837384, 0.39191103976036135, 0.3187612780674478, 0.32946692788845644, 0.4485965644328564, 0.6872604508735932, 0.0, 0.3264860861490383, 0.3776635226966003, 0.48095471057838685, 0.41615105192044943, 0.44843015190337243, 0.790839711029022, 0.0, 0.3488310264391323], maxlen=20)\n",
      "eval_mean: 0.3437591556947564\n"
     ]
    },
    {
     "name": "stderr",
     "output_type": "stream",
     "text": [
      "\r",
      " 33%|████████████████████████▍                                                | 33452/100000 [29:30<1:39:23, 11.16it/s]"
     ]
    },
    {
     "name": "stdout",
     "output_type": "stream",
     "text": [
      "self.evaluation_deque: deque([0.32562807074699635, 0.0, 0.3132879890332076, 0.0, 0.40389774749246876, 0.4670167848837384, 0.39191103976036135, 0.3187612780674478, 0.32946692788845644, 0.4485965644328564, 0.6872604508735932, 0.0, 0.3264860861490383, 0.3776635226966003, 0.48095471057838685, 0.41615105192044943, 0.44843015190337243, 0.790839711029022, 0.0, 0.3488310264391323], maxlen=20)\n",
      "eval_mean: 0.3437591556947564\n"
     ]
    },
    {
     "name": "stderr",
     "output_type": "stream",
     "text": [
      "\r",
      " 34%|████████████████████████▍                                                | 33528/100000 [29:39<1:46:44, 10.38it/s]"
     ]
    },
    {
     "name": "stdout",
     "output_type": "stream",
     "text": [
      "self.get_collection_ratio(): 0.9576042480532928\n",
      "self.comms.count(True) : 1\n",
      "len(self.comms) : 3\n",
      "self.state.ratio_commed: 0.3333333333333333\n",
      "self.comms.count(True) : 1\n",
      "len(self.comms) : 3\n",
      "self.evaluation_deque: deque([0.0, 0.3132879890332076, 0.0, 0.40389774749246876, 0.4670167848837384, 0.39191103976036135, 0.3187612780674478, 0.32946692788845644, 0.4485965644328564, 0.6872604508735932, 0.0, 0.3264860861490383, 0.3776635226966003, 0.48095471057838685, 0.41615105192044943, 0.44843015190337243, 0.790839711029022, 0.0, 0.3488310264391323, 0.31920141601776425], maxlen=20)\n",
      "eval_mean: 0.3434378229582948\n"
     ]
    },
    {
     "name": "stderr",
     "output_type": "stream",
     "text": [
      "\r",
      " 34%|████████████████████████▌                                                | 33604/100000 [29:45<1:39:42, 11.10it/s]"
     ]
    },
    {
     "name": "stdout",
     "output_type": "stream",
     "text": [
      "self.evaluation_deque: deque([0.0, 0.3132879890332076, 0.0, 0.40389774749246876, 0.4670167848837384, 0.39191103976036135, 0.3187612780674478, 0.32946692788845644, 0.4485965644328564, 0.6872604508735932, 0.0, 0.3264860861490383, 0.3776635226966003, 0.48095471057838685, 0.41615105192044943, 0.44843015190337243, 0.790839711029022, 0.0, 0.3488310264391323, 0.31920141601776425], maxlen=20)\n",
      "eval_mean: 0.3434378229582948\n"
     ]
    },
    {
     "name": "stderr",
     "output_type": "stream",
     "text": [
      "\r",
      " 34%|████████████████████████▌                                                | 33680/100000 [29:50<1:34:40, 11.68it/s]"
     ]
    },
    {
     "name": "stdout",
     "output_type": "stream",
     "text": [
      "self.evaluation_deque: deque([0.0, 0.3132879890332076, 0.0, 0.40389774749246876, 0.4670167848837384, 0.39191103976036135, 0.3187612780674478, 0.32946692788845644, 0.4485965644328564, 0.6872604508735932, 0.0, 0.3264860861490383, 0.3776635226966003, 0.48095471057838685, 0.41615105192044943, 0.44843015190337243, 0.790839711029022, 0.0, 0.3488310264391323, 0.31920141601776425], maxlen=20)\n",
      "eval_mean: 0.3434378229582948\n"
     ]
    },
    {
     "name": "stderr",
     "output_type": "stream",
     "text": [
      "\r",
      " 34%|████████████████████████▋                                                | 33756/100000 [29:56<1:31:00, 12.13it/s]"
     ]
    },
    {
     "name": "stdout",
     "output_type": "stream",
     "text": [
      "self.evaluation_deque: deque([0.0, 0.3132879890332076, 0.0, 0.40389774749246876, 0.4670167848837384, 0.39191103976036135, 0.3187612780674478, 0.32946692788845644, 0.4485965644328564, 0.6872604508735932, 0.0, 0.3264860861490383, 0.3776635226966003, 0.48095471057838685, 0.41615105192044943, 0.44843015190337243, 0.790839711029022, 0.0, 0.3488310264391323, 0.31920141601776425], maxlen=20)\n",
      "eval_mean: 0.3434378229582948\n"
     ]
    },
    {
     "name": "stderr",
     "output_type": "stream",
     "text": [
      "\r",
      " 34%|████████████████████████▋                                                | 33832/100000 [30:03<1:32:31, 11.92it/s]"
     ]
    },
    {
     "name": "stdout",
     "output_type": "stream",
     "text": [
      "self.evaluation_deque: deque([0.0, 0.3132879890332076, 0.0, 0.40389774749246876, 0.4670167848837384, 0.39191103976036135, 0.3187612780674478, 0.32946692788845644, 0.4485965644328564, 0.6872604508735932, 0.0, 0.3264860861490383, 0.3776635226966003, 0.48095471057838685, 0.41615105192044943, 0.44843015190337243, 0.790839711029022, 0.0, 0.3488310264391323, 0.31920141601776425], maxlen=20)\n",
      "eval_mean: 0.3434378229582948\n"
     ]
    },
    {
     "name": "stderr",
     "output_type": "stream",
     "text": [
      "\r",
      " 34%|████████████████████████▋                                                | 33892/100000 [30:12<1:52:45,  9.77it/s]"
     ]
    },
    {
     "name": "stdout",
     "output_type": "stream",
     "text": [
      "self.get_collection_ratio(): 0.9154836985466536\n",
      "self.comms.count(True) : 2\n",
      "len(self.comms) : 3\n",
      "self.state.ratio_commed: 0.6666666666666666\n",
      "self.comms.count(True) : 2\n",
      "len(self.comms) : 3\n",
      "self.evaluation_deque: deque([0.3132879890332076, 0.0, 0.40389774749246876, 0.4670167848837384, 0.39191103976036135, 0.3187612780674478, 0.32946692788845644, 0.4485965644328564, 0.6872604508735932, 0.0, 0.3264860861490383, 0.3776635226966003, 0.48095471057838685, 0.41615105192044943, 0.44843015190337243, 0.790839711029022, 0.0, 0.3488310264391323, 0.31920141601776425, 0.610322465697769], maxlen=20)\n",
      "eval_mean: 0.37395394624318323\n",
      "Saving best with: 0.37395394624318323\n"
     ]
    },
    {
     "name": "stderr",
     "output_type": "stream",
     "text": [
      "\r",
      " 34%|████████████████████████▊                                                | 33968/100000 [30:19<1:47:14, 10.26it/s]"
     ]
    },
    {
     "name": "stdout",
     "output_type": "stream",
     "text": [
      "self.evaluation_deque: deque([0.3132879890332076, 0.0, 0.40389774749246876, 0.4670167848837384, 0.39191103976036135, 0.3187612780674478, 0.32946692788845644, 0.4485965644328564, 0.6872604508735932, 0.0, 0.3264860861490383, 0.3776635226966003, 0.48095471057838685, 0.41615105192044943, 0.44843015190337243, 0.790839711029022, 0.0, 0.3488310264391323, 0.31920141601776425, 0.610322465697769], maxlen=20)\n",
      "eval_mean: 0.37395394624318323\n"
     ]
    },
    {
     "name": "stderr",
     "output_type": "stream",
     "text": [
      "\r",
      " 34%|████████████████████████▊                                                | 34044/100000 [30:24<1:39:18, 11.07it/s]"
     ]
    },
    {
     "name": "stdout",
     "output_type": "stream",
     "text": [
      "self.evaluation_deque: deque([0.3132879890332076, 0.0, 0.40389774749246876, 0.4670167848837384, 0.39191103976036135, 0.3187612780674478, 0.32946692788845644, 0.4485965644328564, 0.6872604508735932, 0.0, 0.3264860861490383, 0.3776635226966003, 0.48095471057838685, 0.41615105192044943, 0.44843015190337243, 0.790839711029022, 0.0, 0.3488310264391323, 0.31920141601776425, 0.610322465697769], maxlen=20)\n",
      "eval_mean: 0.37395394624318323\n"
     ]
    },
    {
     "name": "stderr",
     "output_type": "stream",
     "text": [
      "\r",
      " 34%|████████████████████████▉                                                | 34120/100000 [30:31<1:37:48, 11.23it/s]"
     ]
    },
    {
     "name": "stdout",
     "output_type": "stream",
     "text": [
      "self.evaluation_deque: deque([0.3132879890332076, 0.0, 0.40389774749246876, 0.4670167848837384, 0.39191103976036135, 0.3187612780674478, 0.32946692788845644, 0.4485965644328564, 0.6872604508735932, 0.0, 0.3264860861490383, 0.3776635226966003, 0.48095471057838685, 0.41615105192044943, 0.44843015190337243, 0.790839711029022, 0.0, 0.3488310264391323, 0.31920141601776425, 0.610322465697769], maxlen=20)\n",
      "eval_mean: 0.37395394624318323\n"
     ]
    },
    {
     "name": "stderr",
     "output_type": "stream",
     "text": [
      "\r",
      " 34%|████████████████████████▉                                                | 34196/100000 [30:38<1:36:42, 11.34it/s]"
     ]
    },
    {
     "name": "stdout",
     "output_type": "stream",
     "text": [
      "self.evaluation_deque: deque([0.3132879890332076, 0.0, 0.40389774749246876, 0.4670167848837384, 0.39191103976036135, 0.3187612780674478, 0.32946692788845644, 0.4485965644328564, 0.6872604508735932, 0.0, 0.3264860861490383, 0.3776635226966003, 0.48095471057838685, 0.41615105192044943, 0.44843015190337243, 0.790839711029022, 0.0, 0.3488310264391323, 0.31920141601776425, 0.610322465697769], maxlen=20)\n",
      "eval_mean: 0.37395394624318323\n"
     ]
    },
    {
     "name": "stderr",
     "output_type": "stream",
     "text": [
      "\r",
      " 34%|█████████████████████████                                                | 34256/100000 [30:44<1:40:47, 10.87it/s]"
     ]
    },
    {
     "name": "stdout",
     "output_type": "stream",
     "text": [
      "self.get_collection_ratio(): 0.43057168445954014\n",
      "self.comms.count(True) : 1\n",
      "len(self.comms) : 1\n",
      "self.state.ratio_commed: 1.0\n",
      "self.comms.count(True) : 1\n",
      "len(self.comms) : 1\n",
      "self.evaluation_deque: deque([0.0, 0.40389774749246876, 0.4670167848837384, 0.39191103976036135, 0.3187612780674478, 0.32946692788845644, 0.4485965644328564, 0.6872604508735932, 0.0, 0.3264860861490383, 0.3776635226966003, 0.48095471057838685, 0.41615105192044943, 0.44843015190337243, 0.790839711029022, 0.0, 0.3488310264391323, 0.31920141601776425, 0.610322465697769, 0.43057168445954014], maxlen=20)\n",
      "eval_mean: 0.37981813101449985\n",
      "Saving best with: 0.37981813101449985\n"
     ]
    },
    {
     "name": "stderr",
     "output_type": "stream",
     "text": [
      "\r",
      " 34%|█████████████████████████                                                | 34316/100000 [30:50<1:44:54, 10.44it/s]"
     ]
    },
    {
     "name": "stdout",
     "output_type": "stream",
     "text": [
      "self.evaluation_deque: deque([0.0, 0.40389774749246876, 0.4670167848837384, 0.39191103976036135, 0.3187612780674478, 0.32946692788845644, 0.4485965644328564, 0.6872604508735932, 0.0, 0.3264860861490383, 0.3776635226966003, 0.48095471057838685, 0.41615105192044943, 0.44843015190337243, 0.790839711029022, 0.0, 0.3488310264391323, 0.31920141601776425, 0.610322465697769, 0.43057168445954014], maxlen=20)\n",
      "eval_mean: 0.37981813101449985\n"
     ]
    },
    {
     "name": "stderr",
     "output_type": "stream",
     "text": [
      "\r",
      " 34%|█████████████████████████                                                | 34392/100000 [30:58<1:48:29, 10.08it/s]"
     ]
    },
    {
     "name": "stdout",
     "output_type": "stream",
     "text": [
      "self.evaluation_deque: deque([0.0, 0.40389774749246876, 0.4670167848837384, 0.39191103976036135, 0.3187612780674478, 0.32946692788845644, 0.4485965644328564, 0.6872604508735932, 0.0, 0.3264860861490383, 0.3776635226966003, 0.48095471057838685, 0.41615105192044943, 0.44843015190337243, 0.790839711029022, 0.0, 0.3488310264391323, 0.31920141601776425, 0.610322465697769, 0.43057168445954014], maxlen=20)\n",
      "eval_mean: 0.37981813101449985\n"
     ]
    },
    {
     "name": "stderr",
     "output_type": "stream",
     "text": [
      "\r",
      " 34%|█████████████████████████▏                                               | 34468/100000 [31:05<1:45:36, 10.34it/s]"
     ]
    },
    {
     "name": "stdout",
     "output_type": "stream",
     "text": [
      "self.evaluation_deque: deque([0.0, 0.40389774749246876, 0.4670167848837384, 0.39191103976036135, 0.3187612780674478, 0.32946692788845644, 0.4485965644328564, 0.6872604508735932, 0.0, 0.3264860861490383, 0.3776635226966003, 0.48095471057838685, 0.41615105192044943, 0.44843015190337243, 0.790839711029022, 0.0, 0.3488310264391323, 0.31920141601776425, 0.610322465697769, 0.43057168445954014], maxlen=20)\n",
      "eval_mean: 0.37981813101449985\n"
     ]
    },
    {
     "name": "stderr",
     "output_type": "stream",
     "text": [
      "\r",
      " 35%|█████████████████████████▏                                               | 34544/100000 [31:11<1:37:49, 11.15it/s]"
     ]
    },
    {
     "name": "stdout",
     "output_type": "stream",
     "text": [
      "self.evaluation_deque: deque([0.0, 0.40389774749246876, 0.4670167848837384, 0.39191103976036135, 0.3187612780674478, 0.32946692788845644, 0.4485965644328564, 0.6872604508735932, 0.0, 0.3264860861490383, 0.3776635226966003, 0.48095471057838685, 0.41615105192044943, 0.44843015190337243, 0.790839711029022, 0.0, 0.3488310264391323, 0.31920141601776425, 0.610322465697769, 0.43057168445954014], maxlen=20)\n",
      "eval_mean: 0.37981813101449985\n"
     ]
    },
    {
     "name": "stderr",
     "output_type": "stream",
     "text": [
      "\r",
      " 35%|█████████████████████████▎                                               | 34620/100000 [31:19<1:44:24, 10.44it/s]"
     ]
    },
    {
     "name": "stdout",
     "output_type": "stream",
     "text": [
      "self.get_collection_ratio(): 0.8801455517504359\n",
      "self.comms.count(True) : 0\n",
      "len(self.comms) : 3\n",
      "self.state.ratio_commed: 0.0\n",
      "self.comms.count(True) : 0\n",
      "len(self.comms) : 3\n",
      "self.evaluation_deque: deque([0.40389774749246876, 0.4670167848837384, 0.39191103976036135, 0.3187612780674478, 0.32946692788845644, 0.4485965644328564, 0.6872604508735932, 0.0, 0.3264860861490383, 0.3776635226966003, 0.48095471057838685, 0.41615105192044943, 0.44843015190337243, 0.790839711029022, 0.0, 0.3488310264391323, 0.31920141601776425, 0.610322465697769, 0.43057168445954014, 0.0], maxlen=20)\n",
      "eval_mean: 0.37981813101449985\n"
     ]
    },
    {
     "name": "stderr",
     "output_type": "stream",
     "text": [
      "\r",
      " 35%|█████████████████████████▎                                               | 34696/100000 [31:25<1:37:59, 11.11it/s]"
     ]
    },
    {
     "name": "stdout",
     "output_type": "stream",
     "text": [
      "self.evaluation_deque: deque([0.40389774749246876, 0.4670167848837384, 0.39191103976036135, 0.3187612780674478, 0.32946692788845644, 0.4485965644328564, 0.6872604508735932, 0.0, 0.3264860861490383, 0.3776635226966003, 0.48095471057838685, 0.41615105192044943, 0.44843015190337243, 0.790839711029022, 0.0, 0.3488310264391323, 0.31920141601776425, 0.610322465697769, 0.43057168445954014, 0.0], maxlen=20)\n",
      "eval_mean: 0.37981813101449985\n"
     ]
    },
    {
     "name": "stderr",
     "output_type": "stream",
     "text": [
      "\r",
      " 35%|█████████████████████████▍                                               | 34772/100000 [31:31<1:32:45, 11.72it/s]"
     ]
    },
    {
     "name": "stdout",
     "output_type": "stream",
     "text": [
      "self.evaluation_deque: deque([0.40389774749246876, 0.4670167848837384, 0.39191103976036135, 0.3187612780674478, 0.32946692788845644, 0.4485965644328564, 0.6872604508735932, 0.0, 0.3264860861490383, 0.3776635226966003, 0.48095471057838685, 0.41615105192044943, 0.44843015190337243, 0.790839711029022, 0.0, 0.3488310264391323, 0.31920141601776425, 0.610322465697769, 0.43057168445954014, 0.0], maxlen=20)\n",
      "eval_mean: 0.37981813101449985\n"
     ]
    },
    {
     "name": "stderr",
     "output_type": "stream",
     "text": [
      "\r",
      " 35%|█████████████████████████▍                                               | 34848/100000 [31:41<1:48:30, 10.01it/s]"
     ]
    },
    {
     "name": "stdout",
     "output_type": "stream",
     "text": [
      "self.evaluation_deque: deque([0.40389774749246876, 0.4670167848837384, 0.39191103976036135, 0.3187612780674478, 0.32946692788845644, 0.4485965644328564, 0.6872604508735932, 0.0, 0.3264860861490383, 0.3776635226966003, 0.48095471057838685, 0.41615105192044943, 0.44843015190337243, 0.790839711029022, 0.0, 0.3488310264391323, 0.31920141601776425, 0.610322465697769, 0.43057168445954014, 0.0], maxlen=20)\n",
      "eval_mean: 0.37981813101449985\n"
     ]
    },
    {
     "name": "stderr",
     "output_type": "stream",
     "text": [
      "\r",
      " 35%|█████████████████████████▍                                               | 34924/100000 [31:46<1:40:08, 10.83it/s]"
     ]
    },
    {
     "name": "stdout",
     "output_type": "stream",
     "text": [
      "self.evaluation_deque: deque([0.40389774749246876, 0.4670167848837384, 0.39191103976036135, 0.3187612780674478, 0.32946692788845644, 0.4485965644328564, 0.6872604508735932, 0.0, 0.3264860861490383, 0.3776635226966003, 0.48095471057838685, 0.41615105192044943, 0.44843015190337243, 0.790839711029022, 0.0, 0.3488310264391323, 0.31920141601776425, 0.610322465697769, 0.43057168445954014, 0.0], maxlen=20)\n",
      "eval_mean: 0.37981813101449985\n"
     ]
    },
    {
     "name": "stderr",
     "output_type": "stream",
     "text": [
      "\r",
      " 35%|█████████████████████████▌                                               | 35000/100000 [31:56<1:51:40,  9.70it/s]"
     ]
    },
    {
     "name": "stdout",
     "output_type": "stream",
     "text": [
      "self.get_collection_ratio(): 0.31166690916775097\n",
      "self.comms.count(True) : 1\n",
      "len(self.comms) : 1\n",
      "self.state.ratio_commed: 1.0\n",
      "self.comms.count(True) : 1\n",
      "len(self.comms) : 1\n",
      "self.evaluation_deque: deque([0.4670167848837384, 0.39191103976036135, 0.3187612780674478, 0.32946692788845644, 0.4485965644328564, 0.6872604508735932, 0.0, 0.3264860861490383, 0.3776635226966003, 0.48095471057838685, 0.41615105192044943, 0.44843015190337243, 0.790839711029022, 0.0, 0.3488310264391323, 0.31920141601776425, 0.610322465697769, 0.43057168445954014, 0.0, 0.31166690916775097], maxlen=20)\n",
      "eval_mean: 0.375206589098264\n"
     ]
    },
    {
     "name": "stderr",
     "output_type": "stream",
     "text": [
      "\r",
      " 35%|█████████████████████████▌                                               | 35076/100000 [32:02<1:42:20, 10.57it/s]"
     ]
    },
    {
     "name": "stdout",
     "output_type": "stream",
     "text": [
      "self.evaluation_deque: deque([0.4670167848837384, 0.39191103976036135, 0.3187612780674478, 0.32946692788845644, 0.4485965644328564, 0.6872604508735932, 0.0, 0.3264860861490383, 0.3776635226966003, 0.48095471057838685, 0.41615105192044943, 0.44843015190337243, 0.790839711029022, 0.0, 0.3488310264391323, 0.31920141601776425, 0.610322465697769, 0.43057168445954014, 0.0, 0.31166690916775097], maxlen=20)\n",
      "eval_mean: 0.375206589098264\n"
     ]
    },
    {
     "name": "stderr",
     "output_type": "stream",
     "text": [
      "\r",
      " 35%|█████████████████████████▋                                               | 35152/100000 [32:09<1:43:45, 10.42it/s]"
     ]
    },
    {
     "name": "stdout",
     "output_type": "stream",
     "text": [
      "self.evaluation_deque: deque([0.4670167848837384, 0.39191103976036135, 0.3187612780674478, 0.32946692788845644, 0.4485965644328564, 0.6872604508735932, 0.0, 0.3264860861490383, 0.3776635226966003, 0.48095471057838685, 0.41615105192044943, 0.44843015190337243, 0.790839711029022, 0.0, 0.3488310264391323, 0.31920141601776425, 0.610322465697769, 0.43057168445954014, 0.0, 0.31166690916775097], maxlen=20)\n",
      "eval_mean: 0.375206589098264\n"
     ]
    },
    {
     "name": "stderr",
     "output_type": "stream",
     "text": [
      "\r",
      " 35%|█████████████████████████▋                                               | 35228/100000 [32:15<1:36:53, 11.14it/s]"
     ]
    },
    {
     "name": "stdout",
     "output_type": "stream",
     "text": [
      "self.evaluation_deque: deque([0.4670167848837384, 0.39191103976036135, 0.3187612780674478, 0.32946692788845644, 0.4485965644328564, 0.6872604508735932, 0.0, 0.3264860861490383, 0.3776635226966003, 0.48095471057838685, 0.41615105192044943, 0.44843015190337243, 0.790839711029022, 0.0, 0.3488310264391323, 0.31920141601776425, 0.610322465697769, 0.43057168445954014, 0.0, 0.31166690916775097], maxlen=20)\n",
      "eval_mean: 0.375206589098264\n"
     ]
    },
    {
     "name": "stderr",
     "output_type": "stream",
     "text": [
      "\r",
      " 35%|█████████████████████████▊                                               | 35304/100000 [32:21<1:32:12, 11.69it/s]"
     ]
    },
    {
     "name": "stdout",
     "output_type": "stream",
     "text": [
      "self.evaluation_deque: deque([0.4670167848837384, 0.39191103976036135, 0.3187612780674478, 0.32946692788845644, 0.4485965644328564, 0.6872604508735932, 0.0, 0.3264860861490383, 0.3776635226966003, 0.48095471057838685, 0.41615105192044943, 0.44843015190337243, 0.790839711029022, 0.0, 0.3488310264391323, 0.31920141601776425, 0.610322465697769, 0.43057168445954014, 0.0, 0.31166690916775097], maxlen=20)\n",
      "eval_mean: 0.375206589098264\n"
     ]
    },
    {
     "name": "stderr",
     "output_type": "stream",
     "text": [
      "\r",
      " 35%|█████████████████████████▊                                               | 35380/100000 [32:30<1:43:08, 10.44it/s]"
     ]
    },
    {
     "name": "stdout",
     "output_type": "stream",
     "text": [
      "self.get_collection_ratio(): 0.6264374608955918\n",
      "self.comms.count(True) : 1\n",
      "len(self.comms) : 2\n",
      "self.state.ratio_commed: 0.5\n",
      "self.comms.count(True) : 1\n",
      "len(self.comms) : 2\n",
      "self.evaluation_deque: deque([0.39191103976036135, 0.3187612780674478, 0.32946692788845644, 0.4485965644328564, 0.6872604508735932, 0.0, 0.3264860861490383, 0.3776635226966003, 0.48095471057838685, 0.41615105192044943, 0.44843015190337243, 0.790839711029022, 0.0, 0.3488310264391323, 0.31920141601776425, 0.610322465697769, 0.43057168445954014, 0.0, 0.31166690916775097, 0.3132187304477959], maxlen=20)\n",
      "eval_mean: 0.36751668637646684\n"
     ]
    },
    {
     "name": "stderr",
     "output_type": "stream",
     "text": [
      "\r",
      " 35%|█████████████████████████▉                                               | 35456/100000 [32:38<1:44:13, 10.32it/s]"
     ]
    },
    {
     "name": "stdout",
     "output_type": "stream",
     "text": [
      "self.evaluation_deque: deque([0.39191103976036135, 0.3187612780674478, 0.32946692788845644, 0.4485965644328564, 0.6872604508735932, 0.0, 0.3264860861490383, 0.3776635226966003, 0.48095471057838685, 0.41615105192044943, 0.44843015190337243, 0.790839711029022, 0.0, 0.3488310264391323, 0.31920141601776425, 0.610322465697769, 0.43057168445954014, 0.0, 0.31166690916775097, 0.3132187304477959], maxlen=20)\n",
      "eval_mean: 0.36751668637646684\n"
     ]
    },
    {
     "name": "stderr",
     "output_type": "stream",
     "text": [
      "\r",
      " 36%|█████████████████████████▉                                               | 35532/100000 [32:43<1:37:06, 11.06it/s]"
     ]
    },
    {
     "name": "stdout",
     "output_type": "stream",
     "text": [
      "self.evaluation_deque: deque([0.39191103976036135, 0.3187612780674478, 0.32946692788845644, 0.4485965644328564, 0.6872604508735932, 0.0, 0.3264860861490383, 0.3776635226966003, 0.48095471057838685, 0.41615105192044943, 0.44843015190337243, 0.790839711029022, 0.0, 0.3488310264391323, 0.31920141601776425, 0.610322465697769, 0.43057168445954014, 0.0, 0.31166690916775097, 0.3132187304477959], maxlen=20)\n",
      "eval_mean: 0.36751668637646684\n"
     ]
    },
    {
     "name": "stderr",
     "output_type": "stream",
     "text": [
      "\r",
      " 36%|█████████████████████████▉                                               | 35592/100000 [32:50<1:41:32, 10.57it/s]"
     ]
    },
    {
     "name": "stdout",
     "output_type": "stream",
     "text": [
      "self.evaluation_deque: deque([0.39191103976036135, 0.3187612780674478, 0.32946692788845644, 0.4485965644328564, 0.6872604508735932, 0.0, 0.3264860861490383, 0.3776635226966003, 0.48095471057838685, 0.41615105192044943, 0.44843015190337243, 0.790839711029022, 0.0, 0.3488310264391323, 0.31920141601776425, 0.610322465697769, 0.43057168445954014, 0.0, 0.31166690916775097, 0.3132187304477959], maxlen=20)\n",
      "eval_mean: 0.36751668637646684\n"
     ]
    },
    {
     "name": "stderr",
     "output_type": "stream",
     "text": [
      "\r",
      " 36%|██████████████████████████                                               | 35668/100000 [32:57<1:43:20, 10.37it/s]"
     ]
    },
    {
     "name": "stdout",
     "output_type": "stream",
     "text": [
      "self.evaluation_deque: deque([0.39191103976036135, 0.3187612780674478, 0.32946692788845644, 0.4485965644328564, 0.6872604508735932, 0.0, 0.3264860861490383, 0.3776635226966003, 0.48095471057838685, 0.41615105192044943, 0.44843015190337243, 0.790839711029022, 0.0, 0.3488310264391323, 0.31920141601776425, 0.610322465697769, 0.43057168445954014, 0.0, 0.31166690916775097, 0.3132187304477959], maxlen=20)\n",
      "eval_mean: 0.36751668637646684\n"
     ]
    },
    {
     "name": "stderr",
     "output_type": "stream",
     "text": [
      "\r",
      " 36%|██████████████████████████                                               | 35744/100000 [33:07<1:54:15,  9.37it/s]"
     ]
    },
    {
     "name": "stdout",
     "output_type": "stream",
     "text": [
      "self.get_collection_ratio(): 0.8501971233368674\n",
      "self.comms.count(True) : 2\n",
      "len(self.comms) : 3\n",
      "self.state.ratio_commed: 0.6666666666666666\n",
      "self.comms.count(True) : 2\n",
      "len(self.comms) : 3\n",
      "self.evaluation_deque: deque([0.3187612780674478, 0.32946692788845644, 0.4485965644328564, 0.6872604508735932, 0.0, 0.3264860861490383, 0.3776635226966003, 0.48095471057838685, 0.41615105192044943, 0.44843015190337243, 0.790839711029022, 0.0, 0.3488310264391323, 0.31920141601776425, 0.610322465697769, 0.43057168445954014, 0.0, 0.31166690916775097, 0.3132187304477959, 0.5667980822245782], maxlen=20)\n",
      "eval_mean: 0.3762610384996776\n"
     ]
    },
    {
     "name": "stderr",
     "output_type": "stream",
     "text": [
      "\r",
      " 36%|██████████████████████████▏                                              | 35820/100000 [33:14<1:48:44,  9.84it/s]"
     ]
    },
    {
     "name": "stdout",
     "output_type": "stream",
     "text": [
      "self.evaluation_deque: deque([0.3187612780674478, 0.32946692788845644, 0.4485965644328564, 0.6872604508735932, 0.0, 0.3264860861490383, 0.3776635226966003, 0.48095471057838685, 0.41615105192044943, 0.44843015190337243, 0.790839711029022, 0.0, 0.3488310264391323, 0.31920141601776425, 0.610322465697769, 0.43057168445954014, 0.0, 0.31166690916775097, 0.3132187304477959, 0.5667980822245782], maxlen=20)\n",
      "eval_mean: 0.3762610384996776\n"
     ]
    },
    {
     "name": "stderr",
     "output_type": "stream",
     "text": [
      "\r",
      " 36%|██████████████████████████▏                                              | 35896/100000 [33:22<1:48:34,  9.84it/s]"
     ]
    },
    {
     "name": "stdout",
     "output_type": "stream",
     "text": [
      "self.evaluation_deque: deque([0.3187612780674478, 0.32946692788845644, 0.4485965644328564, 0.6872604508735932, 0.0, 0.3264860861490383, 0.3776635226966003, 0.48095471057838685, 0.41615105192044943, 0.44843015190337243, 0.790839711029022, 0.0, 0.3488310264391323, 0.31920141601776425, 0.610322465697769, 0.43057168445954014, 0.0, 0.31166690916775097, 0.3132187304477959, 0.5667980822245782], maxlen=20)\n",
      "eval_mean: 0.3762610384996776\n"
     ]
    },
    {
     "name": "stderr",
     "output_type": "stream",
     "text": [
      "\r",
      " 36%|██████████████████████████▎                                              | 35972/100000 [33:29<1:48:39,  9.82it/s]"
     ]
    },
    {
     "name": "stdout",
     "output_type": "stream",
     "text": [
      "self.evaluation_deque: deque([0.3187612780674478, 0.32946692788845644, 0.4485965644328564, 0.6872604508735932, 0.0, 0.3264860861490383, 0.3776635226966003, 0.48095471057838685, 0.41615105192044943, 0.44843015190337243, 0.790839711029022, 0.0, 0.3488310264391323, 0.31920141601776425, 0.610322465697769, 0.43057168445954014, 0.0, 0.31166690916775097, 0.3132187304477959, 0.5667980822245782], maxlen=20)\n",
      "eval_mean: 0.3762610384996776\n"
     ]
    },
    {
     "name": "stderr",
     "output_type": "stream",
     "text": [
      "\r",
      " 36%|██████████████████████████▎                                              | 36048/100000 [33:35<1:39:49, 10.68it/s]"
     ]
    },
    {
     "name": "stdout",
     "output_type": "stream",
     "text": [
      "self.evaluation_deque: deque([0.3187612780674478, 0.32946692788845644, 0.4485965644328564, 0.6872604508735932, 0.0, 0.3264860861490383, 0.3776635226966003, 0.48095471057838685, 0.41615105192044943, 0.44843015190337243, 0.790839711029022, 0.0, 0.3488310264391323, 0.31920141601776425, 0.610322465697769, 0.43057168445954014, 0.0, 0.31166690916775097, 0.3132187304477959, 0.5667980822245782], maxlen=20)\n",
      "eval_mean: 0.3762610384996776\n"
     ]
    },
    {
     "name": "stderr",
     "output_type": "stream",
     "text": [
      "\r",
      " 36%|██████████████████████████▎                                              | 36124/100000 [33:43<1:44:27, 10.19it/s]"
     ]
    },
    {
     "name": "stdout",
     "output_type": "stream",
     "text": [
      "self.get_collection_ratio(): 0.9065384890486204\n",
      "self.comms.count(True) : 0\n",
      "len(self.comms) : 3\n",
      "self.state.ratio_commed: 0.0\n",
      "self.comms.count(True) : 0\n",
      "len(self.comms) : 3\n",
      "self.evaluation_deque: deque([0.32946692788845644, 0.4485965644328564, 0.6872604508735932, 0.0, 0.3264860861490383, 0.3776635226966003, 0.48095471057838685, 0.41615105192044943, 0.44843015190337243, 0.790839711029022, 0.0, 0.3488310264391323, 0.31920141601776425, 0.610322465697769, 0.43057168445954014, 0.0, 0.31166690916775097, 0.3132187304477959, 0.5667980822245782, 0.0], maxlen=20)\n",
      "eval_mean: 0.3603229745963053\n"
     ]
    },
    {
     "name": "stderr",
     "output_type": "stream",
     "text": [
      "\r",
      " 36%|██████████████████████████▍                                              | 36200/100000 [33:50<1:40:26, 10.59it/s]"
     ]
    },
    {
     "name": "stdout",
     "output_type": "stream",
     "text": [
      "self.evaluation_deque: deque([0.32946692788845644, 0.4485965644328564, 0.6872604508735932, 0.0, 0.3264860861490383, 0.3776635226966003, 0.48095471057838685, 0.41615105192044943, 0.44843015190337243, 0.790839711029022, 0.0, 0.3488310264391323, 0.31920141601776425, 0.610322465697769, 0.43057168445954014, 0.0, 0.31166690916775097, 0.3132187304477959, 0.5667980822245782, 0.0], maxlen=20)\n",
      "eval_mean: 0.3603229745963053\n"
     ]
    },
    {
     "name": "stderr",
     "output_type": "stream",
     "text": [
      "\r",
      " 36%|██████████████████████████▍                                              | 36276/100000 [33:56<1:33:44, 11.33it/s]"
     ]
    },
    {
     "name": "stdout",
     "output_type": "stream",
     "text": [
      "self.evaluation_deque: deque([0.32946692788845644, 0.4485965644328564, 0.6872604508735932, 0.0, 0.3264860861490383, 0.3776635226966003, 0.48095471057838685, 0.41615105192044943, 0.44843015190337243, 0.790839711029022, 0.0, 0.3488310264391323, 0.31920141601776425, 0.610322465697769, 0.43057168445954014, 0.0, 0.31166690916775097, 0.3132187304477959, 0.5667980822245782, 0.0], maxlen=20)\n",
      "eval_mean: 0.3603229745963053\n"
     ]
    },
    {
     "name": "stderr",
     "output_type": "stream",
     "text": [
      "\r",
      " 36%|██████████████████████████▌                                              | 36352/100000 [34:03<1:37:26, 10.89it/s]"
     ]
    },
    {
     "name": "stdout",
     "output_type": "stream",
     "text": [
      "self.evaluation_deque: deque([0.32946692788845644, 0.4485965644328564, 0.6872604508735932, 0.0, 0.3264860861490383, 0.3776635226966003, 0.48095471057838685, 0.41615105192044943, 0.44843015190337243, 0.790839711029022, 0.0, 0.3488310264391323, 0.31920141601776425, 0.610322465697769, 0.43057168445954014, 0.0, 0.31166690916775097, 0.3132187304477959, 0.5667980822245782, 0.0], maxlen=20)\n",
      "eval_mean: 0.3603229745963053\n"
     ]
    },
    {
     "name": "stderr",
     "output_type": "stream",
     "text": [
      "\r",
      " 36%|██████████████████████████▌                                              | 36428/100000 [34:11<1:40:28, 10.54it/s]"
     ]
    },
    {
     "name": "stdout",
     "output_type": "stream",
     "text": [
      "self.evaluation_deque: deque([0.32946692788845644, 0.4485965644328564, 0.6872604508735932, 0.0, 0.3264860861490383, 0.3776635226966003, 0.48095471057838685, 0.41615105192044943, 0.44843015190337243, 0.790839711029022, 0.0, 0.3488310264391323, 0.31920141601776425, 0.610322465697769, 0.43057168445954014, 0.0, 0.31166690916775097, 0.3132187304477959, 0.5667980822245782, 0.0], maxlen=20)\n",
      "eval_mean: 0.3603229745963053\n"
     ]
    },
    {
     "name": "stderr",
     "output_type": "stream",
     "text": [
      "\r",
      " 37%|██████████████████████████▋                                              | 36504/100000 [34:19<1:45:12, 10.06it/s]"
     ]
    },
    {
     "name": "stdout",
     "output_type": "stream",
     "text": [
      "self.get_collection_ratio(): 0.9864708875825213\n",
      "self.comms.count(True) : 1\n",
      "len(self.comms) : 3\n",
      "self.state.ratio_commed: 0.3333333333333333\n",
      "self.comms.count(True) : 1\n",
      "len(self.comms) : 3\n",
      "self.evaluation_deque: deque([0.4485965644328564, 0.6872604508735932, 0.0, 0.3264860861490383, 0.3776635226966003, 0.48095471057838685, 0.41615105192044943, 0.44843015190337243, 0.790839711029022, 0.0, 0.3488310264391323, 0.31920141601776425, 0.610322465697769, 0.43057168445954014, 0.0, 0.31166690916775097, 0.3132187304477959, 0.5667980822245782, 0.0, 0.32882362919417374], maxlen=20)\n",
      "eval_mean: 0.3602908096615911\n"
     ]
    },
    {
     "name": "stderr",
     "output_type": "stream",
     "text": [
      "\r",
      " 37%|██████████████████████████▋                                              | 36564/100000 [34:26<1:46:33,  9.92it/s]"
     ]
    },
    {
     "name": "stdout",
     "output_type": "stream",
     "text": [
      "self.evaluation_deque: deque([0.4485965644328564, 0.6872604508735932, 0.0, 0.3264860861490383, 0.3776635226966003, 0.48095471057838685, 0.41615105192044943, 0.44843015190337243, 0.790839711029022, 0.0, 0.3488310264391323, 0.31920141601776425, 0.610322465697769, 0.43057168445954014, 0.0, 0.31166690916775097, 0.3132187304477959, 0.5667980822245782, 0.0, 0.32882362919417374], maxlen=20)\n",
      "eval_mean: 0.3602908096615911\n"
     ]
    },
    {
     "name": "stderr",
     "output_type": "stream",
     "text": [
      "\r",
      " 37%|██████████████████████████▋                                              | 36640/100000 [34:31<1:37:38, 10.82it/s]"
     ]
    },
    {
     "name": "stdout",
     "output_type": "stream",
     "text": [
      "self.evaluation_deque: deque([0.4485965644328564, 0.6872604508735932, 0.0, 0.3264860861490383, 0.3776635226966003, 0.48095471057838685, 0.41615105192044943, 0.44843015190337243, 0.790839711029022, 0.0, 0.3488310264391323, 0.31920141601776425, 0.610322465697769, 0.43057168445954014, 0.0, 0.31166690916775097, 0.3132187304477959, 0.5667980822245782, 0.0, 0.32882362919417374], maxlen=20)\n",
      "eval_mean: 0.3602908096615911\n"
     ]
    },
    {
     "name": "stderr",
     "output_type": "stream",
     "text": [
      "\r",
      " 37%|██████████████████████████▊                                              | 36716/100000 [34:37<1:31:21, 11.54it/s]"
     ]
    },
    {
     "name": "stdout",
     "output_type": "stream",
     "text": [
      "self.evaluation_deque: deque([0.4485965644328564, 0.6872604508735932, 0.0, 0.3264860861490383, 0.3776635226966003, 0.48095471057838685, 0.41615105192044943, 0.44843015190337243, 0.790839711029022, 0.0, 0.3488310264391323, 0.31920141601776425, 0.610322465697769, 0.43057168445954014, 0.0, 0.31166690916775097, 0.3132187304477959, 0.5667980822245782, 0.0, 0.32882362919417374], maxlen=20)\n",
      "eval_mean: 0.3602908096615911\n"
     ]
    },
    {
     "name": "stderr",
     "output_type": "stream",
     "text": [
      "\r",
      " 37%|██████████████████████████▊                                              | 36792/100000 [34:43<1:31:05, 11.57it/s]"
     ]
    },
    {
     "name": "stdout",
     "output_type": "stream",
     "text": [
      "self.evaluation_deque: deque([0.4485965644328564, 0.6872604508735932, 0.0, 0.3264860861490383, 0.3776635226966003, 0.48095471057838685, 0.41615105192044943, 0.44843015190337243, 0.790839711029022, 0.0, 0.3488310264391323, 0.31920141601776425, 0.610322465697769, 0.43057168445954014, 0.0, 0.31166690916775097, 0.3132187304477959, 0.5667980822245782, 0.0, 0.32882362919417374], maxlen=20)\n",
      "eval_mean: 0.3602908096615911\n"
     ]
    },
    {
     "name": "stderr",
     "output_type": "stream",
     "text": [
      "\r",
      " 37%|██████████████████████████▉                                              | 36868/100000 [34:57<1:59:08,  8.83it/s]"
     ]
    },
    {
     "name": "stdout",
     "output_type": "stream",
     "text": [
      "self.get_collection_ratio(): 0.8119250695186079\n",
      "self.comms.count(True) : 2\n",
      "len(self.comms) : 3\n",
      "self.state.ratio_commed: 0.6666666666666666\n",
      "self.comms.count(True) : 2\n",
      "len(self.comms) : 3\n",
      "self.evaluation_deque: deque([0.6872604508735932, 0.0, 0.3264860861490383, 0.3776635226966003, 0.48095471057838685, 0.41615105192044943, 0.44843015190337243, 0.790839711029022, 0.0, 0.3488310264391323, 0.31920141601776425, 0.610322465697769, 0.43057168445954014, 0.0, 0.31166690916775097, 0.3132187304477959, 0.5667980822245782, 0.0, 0.32882362919417374, 0.5412833796790719], maxlen=20)\n",
      "eval_mean: 0.364925150423902\n"
     ]
    },
    {
     "name": "stderr",
     "output_type": "stream",
     "text": [
      "\r",
      " 37%|██████████████████████████▉                                              | 36944/100000 [35:02<1:45:54,  9.92it/s]"
     ]
    },
    {
     "name": "stdout",
     "output_type": "stream",
     "text": [
      "self.evaluation_deque: deque([0.6872604508735932, 0.0, 0.3264860861490383, 0.3776635226966003, 0.48095471057838685, 0.41615105192044943, 0.44843015190337243, 0.790839711029022, 0.0, 0.3488310264391323, 0.31920141601776425, 0.610322465697769, 0.43057168445954014, 0.0, 0.31166690916775097, 0.3132187304477959, 0.5667980822245782, 0.0, 0.32882362919417374, 0.5412833796790719], maxlen=20)\n",
      "eval_mean: 0.364925150423902\n"
     ]
    },
    {
     "name": "stderr",
     "output_type": "stream",
     "text": [
      "\r",
      " 37%|███████████████████████████                                              | 37020/100000 [35:08<1:40:12, 10.48it/s]"
     ]
    },
    {
     "name": "stdout",
     "output_type": "stream",
     "text": [
      "self.evaluation_deque: deque([0.6872604508735932, 0.0, 0.3264860861490383, 0.3776635226966003, 0.48095471057838685, 0.41615105192044943, 0.44843015190337243, 0.790839711029022, 0.0, 0.3488310264391323, 0.31920141601776425, 0.610322465697769, 0.43057168445954014, 0.0, 0.31166690916775097, 0.3132187304477959, 0.5667980822245782, 0.0, 0.32882362919417374, 0.5412833796790719], maxlen=20)\n",
      "eval_mean: 0.364925150423902\n"
     ]
    },
    {
     "name": "stderr",
     "output_type": "stream",
     "text": [
      "\r",
      " 37%|███████████████████████████                                              | 37096/100000 [35:14<1:32:31, 11.33it/s]"
     ]
    },
    {
     "name": "stdout",
     "output_type": "stream",
     "text": [
      "self.evaluation_deque: deque([0.6872604508735932, 0.0, 0.3264860861490383, 0.3776635226966003, 0.48095471057838685, 0.41615105192044943, 0.44843015190337243, 0.790839711029022, 0.0, 0.3488310264391323, 0.31920141601776425, 0.610322465697769, 0.43057168445954014, 0.0, 0.31166690916775097, 0.3132187304477959, 0.5667980822245782, 0.0, 0.32882362919417374, 0.5412833796790719], maxlen=20)\n",
      "eval_mean: 0.364925150423902\n"
     ]
    },
    {
     "name": "stderr",
     "output_type": "stream",
     "text": [
      "\r",
      " 37%|███████████████████████████▏                                             | 37172/100000 [35:19<1:27:11, 12.01it/s]"
     ]
    },
    {
     "name": "stdout",
     "output_type": "stream",
     "text": [
      "self.evaluation_deque: deque([0.6872604508735932, 0.0, 0.3264860861490383, 0.3776635226966003, 0.48095471057838685, 0.41615105192044943, 0.44843015190337243, 0.790839711029022, 0.0, 0.3488310264391323, 0.31920141601776425, 0.610322465697769, 0.43057168445954014, 0.0, 0.31166690916775097, 0.3132187304477959, 0.5667980822245782, 0.0, 0.32882362919417374, 0.5412833796790719], maxlen=20)\n",
      "eval_mean: 0.364925150423902\n"
     ]
    },
    {
     "name": "stderr",
     "output_type": "stream",
     "text": [
      "\r",
      " 37%|███████████████████████████▏                                             | 37248/100000 [35:29<1:42:20, 10.22it/s]"
     ]
    },
    {
     "name": "stdout",
     "output_type": "stream",
     "text": [
      "self.get_collection_ratio(): 0.6765124861494907\n",
      "self.comms.count(True) : 2\n",
      "len(self.comms) : 2\n",
      "self.state.ratio_commed: 1.0\n",
      "self.comms.count(True) : 2\n",
      "len(self.comms) : 2\n",
      "self.evaluation_deque: deque([0.0, 0.3264860861490383, 0.3776635226966003, 0.48095471057838685, 0.41615105192044943, 0.44843015190337243, 0.790839711029022, 0.0, 0.3488310264391323, 0.31920141601776425, 0.610322465697769, 0.43057168445954014, 0.0, 0.31166690916775097, 0.3132187304477959, 0.5667980822245782, 0.0, 0.32882362919417374, 0.5412833796790719, 0.6765124861494907], maxlen=20)\n",
      "eval_mean: 0.3643877521876968\n"
     ]
    },
    {
     "name": "stderr",
     "output_type": "stream",
     "text": [
      "\r",
      " 37%|███████████████████████████▏                                             | 37324/100000 [35:37<1:44:09, 10.03it/s]"
     ]
    },
    {
     "name": "stdout",
     "output_type": "stream",
     "text": [
      "self.evaluation_deque: deque([0.0, 0.3264860861490383, 0.3776635226966003, 0.48095471057838685, 0.41615105192044943, 0.44843015190337243, 0.790839711029022, 0.0, 0.3488310264391323, 0.31920141601776425, 0.610322465697769, 0.43057168445954014, 0.0, 0.31166690916775097, 0.3132187304477959, 0.5667980822245782, 0.0, 0.32882362919417374, 0.5412833796790719, 0.6765124861494907], maxlen=20)\n",
      "eval_mean: 0.3643877521876968\n"
     ]
    },
    {
     "name": "stderr",
     "output_type": "stream",
     "text": [
      "\r",
      " 37%|███████████████████████████▎                                             | 37400/100000 [35:44<1:40:31, 10.38it/s]"
     ]
    },
    {
     "name": "stdout",
     "output_type": "stream",
     "text": [
      "self.evaluation_deque: deque([0.0, 0.3264860861490383, 0.3776635226966003, 0.48095471057838685, 0.41615105192044943, 0.44843015190337243, 0.790839711029022, 0.0, 0.3488310264391323, 0.31920141601776425, 0.610322465697769, 0.43057168445954014, 0.0, 0.31166690916775097, 0.3132187304477959, 0.5667980822245782, 0.0, 0.32882362919417374, 0.5412833796790719, 0.6765124861494907], maxlen=20)\n",
      "eval_mean: 0.3643877521876968\n"
     ]
    },
    {
     "name": "stderr",
     "output_type": "stream",
     "text": [
      "\r",
      " 37%|███████████████████████████▎                                             | 37476/100000 [35:50<1:33:10, 11.18it/s]"
     ]
    },
    {
     "name": "stdout",
     "output_type": "stream",
     "text": [
      "self.evaluation_deque: deque([0.0, 0.3264860861490383, 0.3776635226966003, 0.48095471057838685, 0.41615105192044943, 0.44843015190337243, 0.790839711029022, 0.0, 0.3488310264391323, 0.31920141601776425, 0.610322465697769, 0.43057168445954014, 0.0, 0.31166690916775097, 0.3132187304477959, 0.5667980822245782, 0.0, 0.32882362919417374, 0.5412833796790719, 0.6765124861494907], maxlen=20)\n",
      "eval_mean: 0.3643877521876968\n"
     ]
    },
    {
     "name": "stderr",
     "output_type": "stream",
     "text": [
      "\r",
      " 38%|███████████████████████████▍                                             | 37552/100000 [35:55<1:28:00, 11.83it/s]"
     ]
    },
    {
     "name": "stdout",
     "output_type": "stream",
     "text": [
      "self.evaluation_deque: deque([0.0, 0.3264860861490383, 0.3776635226966003, 0.48095471057838685, 0.41615105192044943, 0.44843015190337243, 0.790839711029022, 0.0, 0.3488310264391323, 0.31920141601776425, 0.610322465697769, 0.43057168445954014, 0.0, 0.31166690916775097, 0.3132187304477959, 0.5667980822245782, 0.0, 0.32882362919417374, 0.5412833796790719, 0.6765124861494907], maxlen=20)\n",
      "eval_mean: 0.3643877521876968\n"
     ]
    },
    {
     "name": "stderr",
     "output_type": "stream",
     "text": [
      "\r",
      " 38%|███████████████████████████▍                                             | 37628/100000 [36:04<1:40:05, 10.39it/s]"
     ]
    },
    {
     "name": "stdout",
     "output_type": "stream",
     "text": [
      "self.get_collection_ratio(): 0.4843301724668492\n",
      "self.comms.count(True) : 1\n",
      "len(self.comms) : 1\n",
      "self.state.ratio_commed: 1.0\n",
      "self.comms.count(True) : 1\n",
      "len(self.comms) : 1\n",
      "self.evaluation_deque: deque([0.3264860861490383, 0.3776635226966003, 0.48095471057838685, 0.41615105192044943, 0.44843015190337243, 0.790839711029022, 0.0, 0.3488310264391323, 0.31920141601776425, 0.610322465697769, 0.43057168445954014, 0.0, 0.31166690916775097, 0.3132187304477959, 0.5667980822245782, 0.0, 0.32882362919417374, 0.5412833796790719, 0.6765124861494907, 0.4843301724668492], maxlen=20)\n",
      "eval_mean: 0.3886042608110394\n",
      "Saving best with: 0.3886042608110394\n"
     ]
    },
    {
     "name": "stderr",
     "output_type": "stream",
     "text": [
      "\r",
      " 38%|███████████████████████████▌                                             | 37704/100000 [36:10<1:32:30, 11.22it/s]"
     ]
    },
    {
     "name": "stdout",
     "output_type": "stream",
     "text": [
      "self.evaluation_deque: deque([0.3264860861490383, 0.3776635226966003, 0.48095471057838685, 0.41615105192044943, 0.44843015190337243, 0.790839711029022, 0.0, 0.3488310264391323, 0.31920141601776425, 0.610322465697769, 0.43057168445954014, 0.0, 0.31166690916775097, 0.3132187304477959, 0.5667980822245782, 0.0, 0.32882362919417374, 0.5412833796790719, 0.6765124861494907, 0.4843301724668492], maxlen=20)\n",
      "eval_mean: 0.3886042608110394\n"
     ]
    },
    {
     "name": "stderr",
     "output_type": "stream",
     "text": [
      "\r",
      " 38%|███████████████████████████▌                                             | 37780/100000 [36:16<1:27:23, 11.87it/s]"
     ]
    },
    {
     "name": "stdout",
     "output_type": "stream",
     "text": [
      "self.evaluation_deque: deque([0.3264860861490383, 0.3776635226966003, 0.48095471057838685, 0.41615105192044943, 0.44843015190337243, 0.790839711029022, 0.0, 0.3488310264391323, 0.31920141601776425, 0.610322465697769, 0.43057168445954014, 0.0, 0.31166690916775097, 0.3132187304477959, 0.5667980822245782, 0.0, 0.32882362919417374, 0.5412833796790719, 0.6765124861494907, 0.4843301724668492], maxlen=20)\n",
      "eval_mean: 0.3886042608110394\n"
     ]
    },
    {
     "name": "stderr",
     "output_type": "stream",
     "text": [
      "\r",
      " 38%|███████████████████████████▋                                             | 37856/100000 [36:21<1:24:33, 12.25it/s]"
     ]
    },
    {
     "name": "stdout",
     "output_type": "stream",
     "text": [
      "self.evaluation_deque: deque([0.3264860861490383, 0.3776635226966003, 0.48095471057838685, 0.41615105192044943, 0.44843015190337243, 0.790839711029022, 0.0, 0.3488310264391323, 0.31920141601776425, 0.610322465697769, 0.43057168445954014, 0.0, 0.31166690916775097, 0.3132187304477959, 0.5667980822245782, 0.0, 0.32882362919417374, 0.5412833796790719, 0.6765124861494907, 0.4843301724668492], maxlen=20)\n",
      "eval_mean: 0.3886042608110394\n"
     ]
    },
    {
     "name": "stderr",
     "output_type": "stream",
     "text": [
      "\r",
      " 38%|███████████████████████████▋                                             | 37932/100000 [36:29<1:32:05, 11.23it/s]"
     ]
    },
    {
     "name": "stdout",
     "output_type": "stream",
     "text": [
      "self.evaluation_deque: deque([0.3264860861490383, 0.3776635226966003, 0.48095471057838685, 0.41615105192044943, 0.44843015190337243, 0.790839711029022, 0.0, 0.3488310264391323, 0.31920141601776425, 0.610322465697769, 0.43057168445954014, 0.0, 0.31166690916775097, 0.3132187304477959, 0.5667980822245782, 0.0, 0.32882362919417374, 0.5412833796790719, 0.6765124861494907, 0.4843301724668492], maxlen=20)\n",
      "eval_mean: 0.3886042608110394\n"
     ]
    },
    {
     "name": "stderr",
     "output_type": "stream",
     "text": [
      "\r",
      " 38%|███████████████████████████▋                                             | 38008/100000 [36:37<1:33:45, 11.02it/s]"
     ]
    },
    {
     "name": "stdout",
     "output_type": "stream",
     "text": [
      "self.get_collection_ratio(): 0.5225681643682155\n",
      "self.comms.count(True) : 0\n",
      "len(self.comms) : 1\n",
      "self.state.ratio_commed: 0.0\n",
      "self.comms.count(True) : 0\n",
      "len(self.comms) : 1\n",
      "self.evaluation_deque: deque([0.3776635226966003, 0.48095471057838685, 0.41615105192044943, 0.44843015190337243, 0.790839711029022, 0.0, 0.3488310264391323, 0.31920141601776425, 0.610322465697769, 0.43057168445954014, 0.0, 0.31166690916775097, 0.3132187304477959, 0.5667980822245782, 0.0, 0.32882362919417374, 0.5412833796790719, 0.6765124861494907, 0.4843301724668492, 0.0], maxlen=20)\n",
      "eval_mean: 0.3722799565035874\n"
     ]
    },
    {
     "name": "stderr",
     "output_type": "stream",
     "text": [
      "\r",
      " 38%|███████████████████████████▊                                             | 38084/100000 [36:43<1:33:53, 10.99it/s]"
     ]
    },
    {
     "name": "stdout",
     "output_type": "stream",
     "text": [
      "self.evaluation_deque: deque([0.3776635226966003, 0.48095471057838685, 0.41615105192044943, 0.44843015190337243, 0.790839711029022, 0.0, 0.3488310264391323, 0.31920141601776425, 0.610322465697769, 0.43057168445954014, 0.0, 0.31166690916775097, 0.3132187304477959, 0.5667980822245782, 0.0, 0.32882362919417374, 0.5412833796790719, 0.6765124861494907, 0.4843301724668492, 0.0], maxlen=20)\n",
      "eval_mean: 0.3722799565035874\n"
     ]
    },
    {
     "name": "stderr",
     "output_type": "stream",
     "text": [
      "\r",
      " 38%|███████████████████████████▊                                             | 38160/100000 [36:49<1:28:52, 11.60it/s]"
     ]
    },
    {
     "name": "stdout",
     "output_type": "stream",
     "text": [
      "self.evaluation_deque: deque([0.3776635226966003, 0.48095471057838685, 0.41615105192044943, 0.44843015190337243, 0.790839711029022, 0.0, 0.3488310264391323, 0.31920141601776425, 0.610322465697769, 0.43057168445954014, 0.0, 0.31166690916775097, 0.3132187304477959, 0.5667980822245782, 0.0, 0.32882362919417374, 0.5412833796790719, 0.6765124861494907, 0.4843301724668492, 0.0], maxlen=20)\n",
      "eval_mean: 0.3722799565035874\n"
     ]
    },
    {
     "name": "stderr",
     "output_type": "stream",
     "text": [
      "\r",
      " 38%|███████████████████████████▉                                             | 38236/100000 [36:56<1:30:15, 11.41it/s]"
     ]
    },
    {
     "name": "stdout",
     "output_type": "stream",
     "text": [
      "self.evaluation_deque: deque([0.3776635226966003, 0.48095471057838685, 0.41615105192044943, 0.44843015190337243, 0.790839711029022, 0.0, 0.3488310264391323, 0.31920141601776425, 0.610322465697769, 0.43057168445954014, 0.0, 0.31166690916775097, 0.3132187304477959, 0.5667980822245782, 0.0, 0.32882362919417374, 0.5412833796790719, 0.6765124861494907, 0.4843301724668492, 0.0], maxlen=20)\n",
      "eval_mean: 0.3722799565035874\n"
     ]
    },
    {
     "name": "stderr",
     "output_type": "stream",
     "text": [
      "\r",
      " 38%|███████████████████████████▉                                             | 38312/100000 [37:03<1:30:16, 11.39it/s]"
     ]
    },
    {
     "name": "stdout",
     "output_type": "stream",
     "text": [
      "self.evaluation_deque: deque([0.3776635226966003, 0.48095471057838685, 0.41615105192044943, 0.44843015190337243, 0.790839711029022, 0.0, 0.3488310264391323, 0.31920141601776425, 0.610322465697769, 0.43057168445954014, 0.0, 0.31166690916775097, 0.3132187304477959, 0.5667980822245782, 0.0, 0.32882362919417374, 0.5412833796790719, 0.6765124861494907, 0.4843301724668492, 0.0], maxlen=20)\n",
      "eval_mean: 0.3722799565035874\n"
     ]
    },
    {
     "name": "stderr",
     "output_type": "stream",
     "text": [
      "\r",
      " 38%|████████████████████████████                                             | 38388/100000 [37:13<1:45:50,  9.70it/s]"
     ]
    },
    {
     "name": "stdout",
     "output_type": "stream",
     "text": [
      "self.get_collection_ratio(): 0.8522737823576277\n",
      "self.comms.count(True) : 2\n",
      "len(self.comms) : 3\n",
      "self.state.ratio_commed: 0.6666666666666666\n",
      "self.comms.count(True) : 2\n",
      "len(self.comms) : 3\n",
      "self.evaluation_deque: deque([0.48095471057838685, 0.41615105192044943, 0.44843015190337243, 0.790839711029022, 0.0, 0.3488310264391323, 0.31920141601776425, 0.610322465697769, 0.43057168445954014, 0.0, 0.31166690916775097, 0.3132187304477959, 0.5667980822245782, 0.0, 0.32882362919417374, 0.5412833796790719, 0.6765124861494907, 0.4843301724668492, 0.0, 0.5681825215717518], maxlen=20)\n",
      "eval_mean: 0.38180590644734497\n"
     ]
    },
    {
     "name": "stderr",
     "output_type": "stream",
     "text": [
      "\r",
      " 38%|████████████████████████████                                             | 38464/100000 [37:20<1:42:10, 10.04it/s]"
     ]
    },
    {
     "name": "stdout",
     "output_type": "stream",
     "text": [
      "self.evaluation_deque: deque([0.48095471057838685, 0.41615105192044943, 0.44843015190337243, 0.790839711029022, 0.0, 0.3488310264391323, 0.31920141601776425, 0.610322465697769, 0.43057168445954014, 0.0, 0.31166690916775097, 0.3132187304477959, 0.5667980822245782, 0.0, 0.32882362919417374, 0.5412833796790719, 0.6765124861494907, 0.4843301724668492, 0.0, 0.5681825215717518], maxlen=20)\n",
      "eval_mean: 0.38180590644734497\n"
     ]
    },
    {
     "name": "stderr",
     "output_type": "stream",
     "text": [
      "\r",
      " 39%|████████████████████████████▏                                            | 38540/100000 [37:26<1:35:00, 10.78it/s]"
     ]
    },
    {
     "name": "stdout",
     "output_type": "stream",
     "text": [
      "self.evaluation_deque: deque([0.48095471057838685, 0.41615105192044943, 0.44843015190337243, 0.790839711029022, 0.0, 0.3488310264391323, 0.31920141601776425, 0.610322465697769, 0.43057168445954014, 0.0, 0.31166690916775097, 0.3132187304477959, 0.5667980822245782, 0.0, 0.32882362919417374, 0.5412833796790719, 0.6765124861494907, 0.4843301724668492, 0.0, 0.5681825215717518], maxlen=20)\n",
      "eval_mean: 0.38180590644734497\n"
     ]
    },
    {
     "name": "stderr",
     "output_type": "stream",
     "text": [
      "\r",
      " 39%|████████████████████████████▏                                            | 38616/100000 [37:34<1:36:48, 10.57it/s]"
     ]
    },
    {
     "name": "stdout",
     "output_type": "stream",
     "text": [
      "self.evaluation_deque: deque([0.48095471057838685, 0.41615105192044943, 0.44843015190337243, 0.790839711029022, 0.0, 0.3488310264391323, 0.31920141601776425, 0.610322465697769, 0.43057168445954014, 0.0, 0.31166690916775097, 0.3132187304477959, 0.5667980822245782, 0.0, 0.32882362919417374, 0.5412833796790719, 0.6765124861494907, 0.4843301724668492, 0.0, 0.5681825215717518], maxlen=20)\n",
      "eval_mean: 0.38180590644734497\n"
     ]
    },
    {
     "name": "stderr",
     "output_type": "stream",
     "text": [
      "\r",
      " 39%|████████████████████████████▏                                            | 38692/100000 [37:41<1:39:04, 10.31it/s]"
     ]
    },
    {
     "name": "stdout",
     "output_type": "stream",
     "text": [
      "self.evaluation_deque: deque([0.48095471057838685, 0.41615105192044943, 0.44843015190337243, 0.790839711029022, 0.0, 0.3488310264391323, 0.31920141601776425, 0.610322465697769, 0.43057168445954014, 0.0, 0.31166690916775097, 0.3132187304477959, 0.5667980822245782, 0.0, 0.32882362919417374, 0.5412833796790719, 0.6765124861494907, 0.4843301724668492, 0.0, 0.5681825215717518], maxlen=20)\n",
      "eval_mean: 0.38180590644734497\n"
     ]
    },
    {
     "name": "stderr",
     "output_type": "stream",
     "text": [
      "\r",
      " 39%|████████████████████████████▎                                            | 38768/100000 [37:51<1:49:46,  9.30it/s]"
     ]
    },
    {
     "name": "stdout",
     "output_type": "stream",
     "text": [
      "self.get_collection_ratio(): 0.7242624864424547\n",
      "self.comms.count(True) : 2\n",
      "len(self.comms) : 2\n",
      "self.state.ratio_commed: 1.0\n",
      "self.comms.count(True) : 2\n",
      "len(self.comms) : 2\n",
      "self.evaluation_deque: deque([0.41615105192044943, 0.44843015190337243, 0.790839711029022, 0.0, 0.3488310264391323, 0.31920141601776425, 0.610322465697769, 0.43057168445954014, 0.0, 0.31166690916775097, 0.3132187304477959, 0.5667980822245782, 0.0, 0.32882362919417374, 0.5412833796790719, 0.6765124861494907, 0.4843301724668492, 0.0, 0.5681825215717518, 0.7242624864424547], maxlen=20)\n",
      "eval_mean: 0.3939712952405483\n",
      "Saving best with: 0.3939712952405483\n"
     ]
    },
    {
     "name": "stderr",
     "output_type": "stream",
     "text": [
      "\r",
      " 39%|████████████████████████████▎                                            | 38844/100000 [37:57<1:39:37, 10.23it/s]"
     ]
    },
    {
     "name": "stdout",
     "output_type": "stream",
     "text": [
      "self.evaluation_deque: deque([0.41615105192044943, 0.44843015190337243, 0.790839711029022, 0.0, 0.3488310264391323, 0.31920141601776425, 0.610322465697769, 0.43057168445954014, 0.0, 0.31166690916775097, 0.3132187304477959, 0.5667980822245782, 0.0, 0.32882362919417374, 0.5412833796790719, 0.6765124861494907, 0.4843301724668492, 0.0, 0.5681825215717518, 0.7242624864424547], maxlen=20)\n",
      "eval_mean: 0.3939712952405483\n"
     ]
    },
    {
     "name": "stderr",
     "output_type": "stream",
     "text": [
      "\r",
      " 39%|████████████████████████████▍                                            | 38920/100000 [38:04<1:37:18, 10.46it/s]"
     ]
    },
    {
     "name": "stdout",
     "output_type": "stream",
     "text": [
      "self.evaluation_deque: deque([0.41615105192044943, 0.44843015190337243, 0.790839711029022, 0.0, 0.3488310264391323, 0.31920141601776425, 0.610322465697769, 0.43057168445954014, 0.0, 0.31166690916775097, 0.3132187304477959, 0.5667980822245782, 0.0, 0.32882362919417374, 0.5412833796790719, 0.6765124861494907, 0.4843301724668492, 0.0, 0.5681825215717518, 0.7242624864424547], maxlen=20)\n",
      "eval_mean: 0.3939712952405483\n"
     ]
    },
    {
     "name": "stderr",
     "output_type": "stream",
     "text": [
      "\r",
      " 39%|████████████████████████████▍                                            | 38996/100000 [38:10<1:31:09, 11.15it/s]"
     ]
    },
    {
     "name": "stdout",
     "output_type": "stream",
     "text": [
      "self.evaluation_deque: deque([0.41615105192044943, 0.44843015190337243, 0.790839711029022, 0.0, 0.3488310264391323, 0.31920141601776425, 0.610322465697769, 0.43057168445954014, 0.0, 0.31166690916775097, 0.3132187304477959, 0.5667980822245782, 0.0, 0.32882362919417374, 0.5412833796790719, 0.6765124861494907, 0.4843301724668492, 0.0, 0.5681825215717518, 0.7242624864424547], maxlen=20)\n",
      "eval_mean: 0.3939712952405483\n"
     ]
    },
    {
     "name": "stderr",
     "output_type": "stream",
     "text": [
      "\r",
      " 39%|████████████████████████████▌                                            | 39072/100000 [38:16<1:26:47, 11.70it/s]"
     ]
    },
    {
     "name": "stdout",
     "output_type": "stream",
     "text": [
      "self.evaluation_deque: deque([0.41615105192044943, 0.44843015190337243, 0.790839711029022, 0.0, 0.3488310264391323, 0.31920141601776425, 0.610322465697769, 0.43057168445954014, 0.0, 0.31166690916775097, 0.3132187304477959, 0.5667980822245782, 0.0, 0.32882362919417374, 0.5412833796790719, 0.6765124861494907, 0.4843301724668492, 0.0, 0.5681825215717518, 0.7242624864424547], maxlen=20)\n",
      "eval_mean: 0.3939712952405483\n"
     ]
    },
    {
     "name": "stderr",
     "output_type": "stream",
     "text": [
      "\r",
      " 39%|████████████████████████████▌                                            | 39148/100000 [38:28<1:51:45,  9.07it/s]"
     ]
    },
    {
     "name": "stdout",
     "output_type": "stream",
     "text": [
      "self.get_collection_ratio(): 0.4681007026967135\n",
      "self.comms.count(True) : 1\n",
      "len(self.comms) : 1\n",
      "self.state.ratio_commed: 1.0\n",
      "self.comms.count(True) : 1\n",
      "len(self.comms) : 1\n",
      "self.evaluation_deque: deque([0.44843015190337243, 0.790839711029022, 0.0, 0.3488310264391323, 0.31920141601776425, 0.610322465697769, 0.43057168445954014, 0.0, 0.31166690916775097, 0.3132187304477959, 0.5667980822245782, 0.0, 0.32882362919417374, 0.5412833796790719, 0.6765124861494907, 0.4843301724668492, 0.0, 0.5681825215717518, 0.7242624864424547, 0.4681007026967135], maxlen=20)\n",
      "eval_mean: 0.3965687777793615\n",
      "Saving best with: 0.3965687777793615\n"
     ]
    },
    {
     "name": "stderr",
     "output_type": "stream",
     "text": [
      "\r",
      " 39%|████████████████████████████▋                                            | 39224/100000 [38:36<1:50:36,  9.16it/s]"
     ]
    },
    {
     "name": "stdout",
     "output_type": "stream",
     "text": [
      "self.evaluation_deque: deque([0.44843015190337243, 0.790839711029022, 0.0, 0.3488310264391323, 0.31920141601776425, 0.610322465697769, 0.43057168445954014, 0.0, 0.31166690916775097, 0.3132187304477959, 0.5667980822245782, 0.0, 0.32882362919417374, 0.5412833796790719, 0.6765124861494907, 0.4843301724668492, 0.0, 0.5681825215717518, 0.7242624864424547, 0.4681007026967135], maxlen=20)\n",
      "eval_mean: 0.3965687777793615\n"
     ]
    },
    {
     "name": "stderr",
     "output_type": "stream",
     "text": [
      "\r",
      " 39%|████████████████████████████▋                                            | 39300/100000 [38:43<1:44:52,  9.65it/s]"
     ]
    },
    {
     "name": "stdout",
     "output_type": "stream",
     "text": [
      "self.evaluation_deque: deque([0.44843015190337243, 0.790839711029022, 0.0, 0.3488310264391323, 0.31920141601776425, 0.610322465697769, 0.43057168445954014, 0.0, 0.31166690916775097, 0.3132187304477959, 0.5667980822245782, 0.0, 0.32882362919417374, 0.5412833796790719, 0.6765124861494907, 0.4843301724668492, 0.0, 0.5681825215717518, 0.7242624864424547, 0.4681007026967135], maxlen=20)\n",
      "eval_mean: 0.3965687777793615\n"
     ]
    },
    {
     "name": "stderr",
     "output_type": "stream",
     "text": [
      "\r",
      " 39%|████████████████████████████▋                                            | 39376/100000 [38:50<1:40:40, 10.04it/s]"
     ]
    },
    {
     "name": "stdout",
     "output_type": "stream",
     "text": [
      "self.evaluation_deque: deque([0.44843015190337243, 0.790839711029022, 0.0, 0.3488310264391323, 0.31920141601776425, 0.610322465697769, 0.43057168445954014, 0.0, 0.31166690916775097, 0.3132187304477959, 0.5667980822245782, 0.0, 0.32882362919417374, 0.5412833796790719, 0.6765124861494907, 0.4843301724668492, 0.0, 0.5681825215717518, 0.7242624864424547, 0.4681007026967135], maxlen=20)\n",
      "eval_mean: 0.3965687777793615\n"
     ]
    },
    {
     "name": "stderr",
     "output_type": "stream",
     "text": [
      "\r",
      " 39%|████████████████████████████▊                                            | 39452/100000 [38:57<1:37:59, 10.30it/s]"
     ]
    },
    {
     "name": "stdout",
     "output_type": "stream",
     "text": [
      "self.evaluation_deque: deque([0.44843015190337243, 0.790839711029022, 0.0, 0.3488310264391323, 0.31920141601776425, 0.610322465697769, 0.43057168445954014, 0.0, 0.31166690916775097, 0.3132187304477959, 0.5667980822245782, 0.0, 0.32882362919417374, 0.5412833796790719, 0.6765124861494907, 0.4843301724668492, 0.0, 0.5681825215717518, 0.7242624864424547, 0.4681007026967135], maxlen=20)\n",
      "eval_mean: 0.3965687777793615\n"
     ]
    },
    {
     "name": "stderr",
     "output_type": "stream",
     "text": [
      "\r",
      " 40%|████████████████████████████▊                                            | 39528/100000 [39:04<1:37:37, 10.32it/s]"
     ]
    },
    {
     "name": "stdout",
     "output_type": "stream",
     "text": [
      "self.get_collection_ratio(): 0.44577889344754396\n",
      "self.comms.count(True) : 1\n",
      "len(self.comms) : 1\n",
      "self.state.ratio_commed: 1.0\n",
      "self.comms.count(True) : 1\n",
      "len(self.comms) : 1\n",
      "self.evaluation_deque: deque([0.790839711029022, 0.0, 0.3488310264391323, 0.31920141601776425, 0.610322465697769, 0.43057168445954014, 0.0, 0.31166690916775097, 0.3132187304477959, 0.5667980822245782, 0.0, 0.32882362919417374, 0.5412833796790719, 0.6765124861494907, 0.4843301724668492, 0.0, 0.5681825215717518, 0.7242624864424547, 0.4681007026967135, 0.44577889344754396], maxlen=20)\n",
      "eval_mean: 0.39643621485657016\n"
     ]
    },
    {
     "name": "stderr",
     "output_type": "stream",
     "text": [
      "\r",
      " 40%|████████████████████████████▉                                            | 39604/100000 [39:12<1:39:13, 10.14it/s]"
     ]
    },
    {
     "name": "stdout",
     "output_type": "stream",
     "text": [
      "self.evaluation_deque: deque([0.790839711029022, 0.0, 0.3488310264391323, 0.31920141601776425, 0.610322465697769, 0.43057168445954014, 0.0, 0.31166690916775097, 0.3132187304477959, 0.5667980822245782, 0.0, 0.32882362919417374, 0.5412833796790719, 0.6765124861494907, 0.4843301724668492, 0.0, 0.5681825215717518, 0.7242624864424547, 0.4681007026967135, 0.44577889344754396], maxlen=20)\n",
      "eval_mean: 0.39643621485657016\n"
     ]
    },
    {
     "name": "stderr",
     "output_type": "stream",
     "text": [
      "\r",
      " 40%|████████████████████████████▉                                            | 39680/100000 [39:20<1:41:24,  9.91it/s]"
     ]
    },
    {
     "name": "stdout",
     "output_type": "stream",
     "text": [
      "self.evaluation_deque: deque([0.790839711029022, 0.0, 0.3488310264391323, 0.31920141601776425, 0.610322465697769, 0.43057168445954014, 0.0, 0.31166690916775097, 0.3132187304477959, 0.5667980822245782, 0.0, 0.32882362919417374, 0.5412833796790719, 0.6765124861494907, 0.4843301724668492, 0.0, 0.5681825215717518, 0.7242624864424547, 0.4681007026967135, 0.44577889344754396], maxlen=20)\n",
      "eval_mean: 0.39643621485657016\n"
     ]
    },
    {
     "name": "stderr",
     "output_type": "stream",
     "text": [
      "\r",
      " 40%|█████████████████████████████                                            | 39756/100000 [39:26<1:33:58, 10.68it/s]"
     ]
    },
    {
     "name": "stdout",
     "output_type": "stream",
     "text": [
      "self.evaluation_deque: deque([0.790839711029022, 0.0, 0.3488310264391323, 0.31920141601776425, 0.610322465697769, 0.43057168445954014, 0.0, 0.31166690916775097, 0.3132187304477959, 0.5667980822245782, 0.0, 0.32882362919417374, 0.5412833796790719, 0.6765124861494907, 0.4843301724668492, 0.0, 0.5681825215717518, 0.7242624864424547, 0.4681007026967135, 0.44577889344754396], maxlen=20)\n",
      "eval_mean: 0.39643621485657016\n"
     ]
    },
    {
     "name": "stderr",
     "output_type": "stream",
     "text": [
      "\r",
      " 40%|█████████████████████████████                                            | 39832/100000 [39:33<1:33:05, 10.77it/s]"
     ]
    },
    {
     "name": "stdout",
     "output_type": "stream",
     "text": [
      "self.evaluation_deque: deque([0.790839711029022, 0.0, 0.3488310264391323, 0.31920141601776425, 0.610322465697769, 0.43057168445954014, 0.0, 0.31166690916775097, 0.3132187304477959, 0.5667980822245782, 0.0, 0.32882362919417374, 0.5412833796790719, 0.6765124861494907, 0.4843301724668492, 0.0, 0.5681825215717518, 0.7242624864424547, 0.4681007026967135, 0.44577889344754396], maxlen=20)\n",
      "eval_mean: 0.39643621485657016\n"
     ]
    },
    {
     "name": "stderr",
     "output_type": "stream",
     "text": [
      "\r",
      " 40%|█████████████████████████████▏                                           | 39908/100000 [39:41<1:37:50, 10.24it/s]"
     ]
    },
    {
     "name": "stdout",
     "output_type": "stream",
     "text": [
      "self.get_collection_ratio(): 0.449484901413876\n",
      "self.comms.count(True) : 1\n",
      "len(self.comms) : 1\n",
      "self.state.ratio_commed: 1.0\n",
      "self.comms.count(True) : 1\n",
      "len(self.comms) : 1\n",
      "self.evaluation_deque: deque([0.0, 0.3488310264391323, 0.31920141601776425, 0.610322465697769, 0.43057168445954014, 0.0, 0.31166690916775097, 0.3132187304477959, 0.5667980822245782, 0.0, 0.32882362919417374, 0.5412833796790719, 0.6765124861494907, 0.4843301724668492, 0.0, 0.5681825215717518, 0.7242624864424547, 0.4681007026967135, 0.44577889344754396, 0.449484901413876], maxlen=20)\n",
      "eval_mean: 0.37936847437581284\n"
     ]
    },
    {
     "name": "stderr",
     "output_type": "stream",
     "text": [
      "\r",
      " 40%|█████████████████████████████▏                                           | 39984/100000 [39:48<1:35:42, 10.45it/s]"
     ]
    },
    {
     "name": "stdout",
     "output_type": "stream",
     "text": [
      "self.evaluation_deque: deque([0.0, 0.3488310264391323, 0.31920141601776425, 0.610322465697769, 0.43057168445954014, 0.0, 0.31166690916775097, 0.3132187304477959, 0.5667980822245782, 0.0, 0.32882362919417374, 0.5412833796790719, 0.6765124861494907, 0.4843301724668492, 0.0, 0.5681825215717518, 0.7242624864424547, 0.4681007026967135, 0.44577889344754396, 0.449484901413876], maxlen=20)\n",
      "eval_mean: 0.37936847437581284\n"
     ]
    },
    {
     "name": "stderr",
     "output_type": "stream",
     "text": [
      "\r",
      " 40%|█████████████████████████████▏                                           | 40060/100000 [39:55<1:33:59, 10.63it/s]"
     ]
    },
    {
     "name": "stdout",
     "output_type": "stream",
     "text": [
      "self.evaluation_deque: deque([0.0, 0.3488310264391323, 0.31920141601776425, 0.610322465697769, 0.43057168445954014, 0.0, 0.31166690916775097, 0.3132187304477959, 0.5667980822245782, 0.0, 0.32882362919417374, 0.5412833796790719, 0.6765124861494907, 0.4843301724668492, 0.0, 0.5681825215717518, 0.7242624864424547, 0.4681007026967135, 0.44577889344754396, 0.449484901413876], maxlen=20)\n",
      "eval_mean: 0.37936847437581284\n"
     ]
    },
    {
     "name": "stderr",
     "output_type": "stream",
     "text": [
      "\r",
      " 40%|█████████████████████████████▎                                           | 40136/100000 [40:03<1:36:39, 10.32it/s]"
     ]
    },
    {
     "name": "stdout",
     "output_type": "stream",
     "text": [
      "self.evaluation_deque: deque([0.0, 0.3488310264391323, 0.31920141601776425, 0.610322465697769, 0.43057168445954014, 0.0, 0.31166690916775097, 0.3132187304477959, 0.5667980822245782, 0.0, 0.32882362919417374, 0.5412833796790719, 0.6765124861494907, 0.4843301724668492, 0.0, 0.5681825215717518, 0.7242624864424547, 0.4681007026967135, 0.44577889344754396, 0.449484901413876], maxlen=20)\n",
      "eval_mean: 0.37936847437581284\n"
     ]
    },
    {
     "name": "stderr",
     "output_type": "stream",
     "text": [
      "\r",
      " 40%|█████████████████████████████▎                                           | 40212/100000 [40:10<1:34:46, 10.51it/s]"
     ]
    },
    {
     "name": "stdout",
     "output_type": "stream",
     "text": [
      "self.evaluation_deque: deque([0.0, 0.3488310264391323, 0.31920141601776425, 0.610322465697769, 0.43057168445954014, 0.0, 0.31166690916775097, 0.3132187304477959, 0.5667980822245782, 0.0, 0.32882362919417374, 0.5412833796790719, 0.6765124861494907, 0.4843301724668492, 0.0, 0.5681825215717518, 0.7242624864424547, 0.4681007026967135, 0.44577889344754396, 0.449484901413876], maxlen=20)\n",
      "eval_mean: 0.37936847437581284\n"
     ]
    },
    {
     "name": "stderr",
     "output_type": "stream",
     "text": [
      "\r",
      " 40%|█████████████████████████████▍                                           | 40288/100000 [40:20<1:44:15,  9.55it/s]"
     ]
    },
    {
     "name": "stdout",
     "output_type": "stream",
     "text": [
      "self.get_collection_ratio(): 0.8280874002748392\n",
      "self.comms.count(True) : 2\n",
      "len(self.comms) : 3\n",
      "self.state.ratio_commed: 0.6666666666666666\n",
      "self.comms.count(True) : 2\n",
      "len(self.comms) : 3\n",
      "self.evaluation_deque: deque([0.3488310264391323, 0.31920141601776425, 0.610322465697769, 0.43057168445954014, 0.0, 0.31166690916775097, 0.3132187304477959, 0.5667980822245782, 0.0, 0.32882362919417374, 0.5412833796790719, 0.6765124861494907, 0.4843301724668492, 0.0, 0.5681825215717518, 0.7242624864424547, 0.4681007026967135, 0.44577889344754396, 0.449484901413876, 0.5520582668498928], maxlen=20)\n",
      "eval_mean: 0.4069713877183075\n",
      "Saving best with: 0.4069713877183075\n"
     ]
    },
    {
     "name": "stderr",
     "output_type": "stream",
     "text": [
      "\r",
      " 40%|█████████████████████████████▍                                           | 40364/100000 [40:25<1:35:19, 10.43it/s]"
     ]
    },
    {
     "name": "stdout",
     "output_type": "stream",
     "text": [
      "self.evaluation_deque: deque([0.3488310264391323, 0.31920141601776425, 0.610322465697769, 0.43057168445954014, 0.0, 0.31166690916775097, 0.3132187304477959, 0.5667980822245782, 0.0, 0.32882362919417374, 0.5412833796790719, 0.6765124861494907, 0.4843301724668492, 0.0, 0.5681825215717518, 0.7242624864424547, 0.4681007026967135, 0.44577889344754396, 0.449484901413876, 0.5520582668498928], maxlen=20)\n",
      "eval_mean: 0.4069713877183075\n"
     ]
    },
    {
     "name": "stderr",
     "output_type": "stream",
     "text": [
      "\r",
      " 40%|█████████████████████████████▌                                           | 40440/100000 [40:32<1:34:01, 10.56it/s]"
     ]
    },
    {
     "name": "stdout",
     "output_type": "stream",
     "text": [
      "self.evaluation_deque: deque([0.3488310264391323, 0.31920141601776425, 0.610322465697769, 0.43057168445954014, 0.0, 0.31166690916775097, 0.3132187304477959, 0.5667980822245782, 0.0, 0.32882362919417374, 0.5412833796790719, 0.6765124861494907, 0.4843301724668492, 0.0, 0.5681825215717518, 0.7242624864424547, 0.4681007026967135, 0.44577889344754396, 0.449484901413876, 0.5520582668498928], maxlen=20)\n",
      "eval_mean: 0.4069713877183075\n"
     ]
    },
    {
     "name": "stderr",
     "output_type": "stream",
     "text": [
      "\r",
      " 41%|█████████████████████████████▌                                           | 40516/100000 [40:39<1:32:55, 10.67it/s]"
     ]
    },
    {
     "name": "stdout",
     "output_type": "stream",
     "text": [
      "self.evaluation_deque: deque([0.3488310264391323, 0.31920141601776425, 0.610322465697769, 0.43057168445954014, 0.0, 0.31166690916775097, 0.3132187304477959, 0.5667980822245782, 0.0, 0.32882362919417374, 0.5412833796790719, 0.6765124861494907, 0.4843301724668492, 0.0, 0.5681825215717518, 0.7242624864424547, 0.4681007026967135, 0.44577889344754396, 0.449484901413876, 0.5520582668498928], maxlen=20)\n",
      "eval_mean: 0.4069713877183075\n"
     ]
    },
    {
     "name": "stderr",
     "output_type": "stream",
     "text": [
      "\r",
      " 41%|█████████████████████████████▋                                           | 40592/100000 [40:46<1:31:44, 10.79it/s]"
     ]
    },
    {
     "name": "stdout",
     "output_type": "stream",
     "text": [
      "self.evaluation_deque: deque([0.3488310264391323, 0.31920141601776425, 0.610322465697769, 0.43057168445954014, 0.0, 0.31166690916775097, 0.3132187304477959, 0.5667980822245782, 0.0, 0.32882362919417374, 0.5412833796790719, 0.6765124861494907, 0.4843301724668492, 0.0, 0.5681825215717518, 0.7242624864424547, 0.4681007026967135, 0.44577889344754396, 0.449484901413876, 0.5520582668498928], maxlen=20)\n",
      "eval_mean: 0.4069713877183075\n"
     ]
    },
    {
     "name": "stderr",
     "output_type": "stream",
     "text": [
      "\r",
      " 41%|█████████████████████████████▋                                           | 40668/100000 [40:53<1:32:41, 10.67it/s]"
     ]
    },
    {
     "name": "stdout",
     "output_type": "stream",
     "text": [
      "self.get_collection_ratio(): 0.5091321069780098\n",
      "self.comms.count(True) : 1\n",
      "len(self.comms) : 1\n",
      "self.state.ratio_commed: 1.0\n",
      "self.comms.count(True) : 1\n",
      "len(self.comms) : 1\n",
      "self.evaluation_deque: deque([0.31920141601776425, 0.610322465697769, 0.43057168445954014, 0.0, 0.31166690916775097, 0.3132187304477959, 0.5667980822245782, 0.0, 0.32882362919417374, 0.5412833796790719, 0.6765124861494907, 0.4843301724668492, 0.0, 0.5681825215717518, 0.7242624864424547, 0.4681007026967135, 0.44577889344754396, 0.449484901413876, 0.5520582668498928, 0.5091321069780098], maxlen=20)\n",
      "eval_mean: 0.41498644174525134\n",
      "Saving best with: 0.41498644174525134\n"
     ]
    },
    {
     "name": "stderr",
     "output_type": "stream",
     "text": [
      "\r",
      " 41%|█████████████████████████████▋                                           | 40744/100000 [41:00<1:31:47, 10.76it/s]"
     ]
    },
    {
     "name": "stdout",
     "output_type": "stream",
     "text": [
      "self.evaluation_deque: deque([0.31920141601776425, 0.610322465697769, 0.43057168445954014, 0.0, 0.31166690916775097, 0.3132187304477959, 0.5667980822245782, 0.0, 0.32882362919417374, 0.5412833796790719, 0.6765124861494907, 0.4843301724668492, 0.0, 0.5681825215717518, 0.7242624864424547, 0.4681007026967135, 0.44577889344754396, 0.449484901413876, 0.5520582668498928, 0.5091321069780098], maxlen=20)\n",
      "eval_mean: 0.41498644174525134\n"
     ]
    },
    {
     "name": "stderr",
     "output_type": "stream",
     "text": [
      "\r",
      " 41%|█████████████████████████████▊                                           | 40820/100000 [41:08<1:33:43, 10.52it/s]"
     ]
    },
    {
     "name": "stdout",
     "output_type": "stream",
     "text": [
      "self.evaluation_deque: deque([0.31920141601776425, 0.610322465697769, 0.43057168445954014, 0.0, 0.31166690916775097, 0.3132187304477959, 0.5667980822245782, 0.0, 0.32882362919417374, 0.5412833796790719, 0.6765124861494907, 0.4843301724668492, 0.0, 0.5681825215717518, 0.7242624864424547, 0.4681007026967135, 0.44577889344754396, 0.449484901413876, 0.5520582668498928, 0.5091321069780098], maxlen=20)\n",
      "eval_mean: 0.41498644174525134\n"
     ]
    },
    {
     "name": "stderr",
     "output_type": "stream",
     "text": [
      "\r",
      " 41%|█████████████████████████████▊                                           | 40896/100000 [41:16<1:35:47, 10.28it/s]"
     ]
    },
    {
     "name": "stdout",
     "output_type": "stream",
     "text": [
      "self.evaluation_deque: deque([0.31920141601776425, 0.610322465697769, 0.43057168445954014, 0.0, 0.31166690916775097, 0.3132187304477959, 0.5667980822245782, 0.0, 0.32882362919417374, 0.5412833796790719, 0.6765124861494907, 0.4843301724668492, 0.0, 0.5681825215717518, 0.7242624864424547, 0.4681007026967135, 0.44577889344754396, 0.449484901413876, 0.5520582668498928, 0.5091321069780098], maxlen=20)\n",
      "eval_mean: 0.41498644174525134\n"
     ]
    },
    {
     "name": "stderr",
     "output_type": "stream",
     "text": [
      "\r",
      " 41%|█████████████████████████████▉                                           | 40972/100000 [41:21<1:29:19, 11.01it/s]"
     ]
    },
    {
     "name": "stdout",
     "output_type": "stream",
     "text": [
      "self.evaluation_deque: deque([0.31920141601776425, 0.610322465697769, 0.43057168445954014, 0.0, 0.31166690916775097, 0.3132187304477959, 0.5667980822245782, 0.0, 0.32882362919417374, 0.5412833796790719, 0.6765124861494907, 0.4843301724668492, 0.0, 0.5681825215717518, 0.7242624864424547, 0.4681007026967135, 0.44577889344754396, 0.449484901413876, 0.5520582668498928, 0.5091321069780098], maxlen=20)\n",
      "eval_mean: 0.41498644174525134\n"
     ]
    },
    {
     "name": "stderr",
     "output_type": "stream",
     "text": [
      "\r",
      " 41%|█████████████████████████████▉                                           | 41048/100000 [41:29<1:33:20, 10.53it/s]"
     ]
    },
    {
     "name": "stdout",
     "output_type": "stream",
     "text": [
      "self.get_collection_ratio(): 0.8104274627877018\n",
      "self.comms.count(True) : 1\n",
      "len(self.comms) : 2\n",
      "self.state.ratio_commed: 0.5\n",
      "self.comms.count(True) : 1\n",
      "len(self.comms) : 2\n",
      "self.evaluation_deque: deque([0.610322465697769, 0.43057168445954014, 0.0, 0.31166690916775097, 0.3132187304477959, 0.5667980822245782, 0.0, 0.32882362919417374, 0.5412833796790719, 0.6765124861494907, 0.4843301724668492, 0.0, 0.5681825215717518, 0.7242624864424547, 0.4681007026967135, 0.44577889344754396, 0.449484901413876, 0.5520582668498928, 0.5091321069780098, 0.4052137313938509], maxlen=20)\n",
      "eval_mean: 0.41928705751405565\n",
      "Saving best with: 0.41928705751405565\n"
     ]
    },
    {
     "name": "stderr",
     "output_type": "stream",
     "text": [
      "\r",
      " 41%|██████████████████████████████                                           | 41124/100000 [41:35<1:27:32, 11.21it/s]"
     ]
    },
    {
     "name": "stdout",
     "output_type": "stream",
     "text": [
      "self.evaluation_deque: deque([0.610322465697769, 0.43057168445954014, 0.0, 0.31166690916775097, 0.3132187304477959, 0.5667980822245782, 0.0, 0.32882362919417374, 0.5412833796790719, 0.6765124861494907, 0.4843301724668492, 0.0, 0.5681825215717518, 0.7242624864424547, 0.4681007026967135, 0.44577889344754396, 0.449484901413876, 0.5520582668498928, 0.5091321069780098, 0.4052137313938509], maxlen=20)\n",
      "eval_mean: 0.41928705751405565\n"
     ]
    },
    {
     "name": "stderr",
     "output_type": "stream",
     "text": [
      "\r",
      " 41%|██████████████████████████████                                           | 41200/100000 [41:42<1:28:03, 11.13it/s]"
     ]
    },
    {
     "name": "stdout",
     "output_type": "stream",
     "text": [
      "self.evaluation_deque: deque([0.610322465697769, 0.43057168445954014, 0.0, 0.31166690916775097, 0.3132187304477959, 0.5667980822245782, 0.0, 0.32882362919417374, 0.5412833796790719, 0.6765124861494907, 0.4843301724668492, 0.0, 0.5681825215717518, 0.7242624864424547, 0.4681007026967135, 0.44577889344754396, 0.449484901413876, 0.5520582668498928, 0.5091321069780098, 0.4052137313938509], maxlen=20)\n",
      "eval_mean: 0.41928705751405565\n"
     ]
    },
    {
     "name": "stderr",
     "output_type": "stream",
     "text": [
      "\r",
      " 41%|██████████████████████████████▏                                          | 41276/100000 [41:49<1:27:26, 11.19it/s]"
     ]
    },
    {
     "name": "stdout",
     "output_type": "stream",
     "text": [
      "self.evaluation_deque: deque([0.610322465697769, 0.43057168445954014, 0.0, 0.31166690916775097, 0.3132187304477959, 0.5667980822245782, 0.0, 0.32882362919417374, 0.5412833796790719, 0.6765124861494907, 0.4843301724668492, 0.0, 0.5681825215717518, 0.7242624864424547, 0.4681007026967135, 0.44577889344754396, 0.449484901413876, 0.5520582668498928, 0.5091321069780098, 0.4052137313938509], maxlen=20)\n",
      "eval_mean: 0.41928705751405565\n"
     ]
    },
    {
     "name": "stderr",
     "output_type": "stream",
     "text": [
      "\r",
      " 41%|██████████████████████████████▏                                          | 41352/100000 [41:56<1:27:50, 11.13it/s]"
     ]
    },
    {
     "name": "stdout",
     "output_type": "stream",
     "text": [
      "self.evaluation_deque: deque([0.610322465697769, 0.43057168445954014, 0.0, 0.31166690916775097, 0.3132187304477959, 0.5667980822245782, 0.0, 0.32882362919417374, 0.5412833796790719, 0.6765124861494907, 0.4843301724668492, 0.0, 0.5681825215717518, 0.7242624864424547, 0.4681007026967135, 0.44577889344754396, 0.449484901413876, 0.5520582668498928, 0.5091321069780098, 0.4052137313938509], maxlen=20)\n",
      "eval_mean: 0.41928705751405565\n"
     ]
    },
    {
     "name": "stderr",
     "output_type": "stream",
     "text": [
      "\r",
      " 41%|██████████████████████████████▏                                          | 41428/100000 [42:04<1:32:42, 10.53it/s]"
     ]
    },
    {
     "name": "stdout",
     "output_type": "stream",
     "text": [
      "self.get_collection_ratio(): 0.6547639919219918\n",
      "self.comms.count(True) : 2\n",
      "len(self.comms) : 2\n",
      "self.state.ratio_commed: 1.0\n",
      "self.comms.count(True) : 2\n",
      "len(self.comms) : 2\n",
      "self.evaluation_deque: deque([0.43057168445954014, 0.0, 0.31166690916775097, 0.3132187304477959, 0.5667980822245782, 0.0, 0.32882362919417374, 0.5412833796790719, 0.6765124861494907, 0.4843301724668492, 0.0, 0.5681825215717518, 0.7242624864424547, 0.4681007026967135, 0.44577889344754396, 0.449484901413876, 0.5520582668498928, 0.5091321069780098, 0.4052137313938509, 0.6547639919219918], maxlen=20)\n",
      "eval_mean: 0.4215091338252668\n",
      "Saving best with: 0.4215091338252668\n"
     ]
    },
    {
     "name": "stderr",
     "output_type": "stream",
     "text": [
      "\r",
      " 42%|██████████████████████████████▎                                          | 41504/100000 [42:10<1:26:50, 11.23it/s]"
     ]
    },
    {
     "name": "stdout",
     "output_type": "stream",
     "text": [
      "self.evaluation_deque: deque([0.43057168445954014, 0.0, 0.31166690916775097, 0.3132187304477959, 0.5667980822245782, 0.0, 0.32882362919417374, 0.5412833796790719, 0.6765124861494907, 0.4843301724668492, 0.0, 0.5681825215717518, 0.7242624864424547, 0.4681007026967135, 0.44577889344754396, 0.449484901413876, 0.5520582668498928, 0.5091321069780098, 0.4052137313938509, 0.6547639919219918], maxlen=20)\n",
      "eval_mean: 0.4215091338252668\n"
     ]
    },
    {
     "name": "stderr",
     "output_type": "stream",
     "text": [
      " 42%|██████████████████████████████▎                                          | 41580/100000 [42:21<1:43:47,  9.38it/s]"
     ]
    },
    {
     "name": "stdout",
     "output_type": "stream",
     "text": [
      "self.evaluation_deque: deque([0.43057168445954014, 0.0, 0.31166690916775097, 0.3132187304477959, 0.5667980822245782, 0.0, 0.32882362919417374, 0.5412833796790719, 0.6765124861494907, 0.4843301724668492, 0.0, 0.5681825215717518, 0.7242624864424547, 0.4681007026967135, 0.44577889344754396, 0.449484901413876, 0.5520582668498928, 0.5091321069780098, 0.4052137313938509, 0.6547639919219918], maxlen=20)\n",
      "eval_mean: 0.4215091338252668\n"
     ]
    },
    {
     "name": "stderr",
     "output_type": "stream",
     "text": [
      "\r",
      " 42%|██████████████████████████████▍                                          | 41656/100000 [42:29<1:43:30,  9.39it/s]"
     ]
    },
    {
     "name": "stdout",
     "output_type": "stream",
     "text": [
      "self.evaluation_deque: deque([0.43057168445954014, 0.0, 0.31166690916775097, 0.3132187304477959, 0.5667980822245782, 0.0, 0.32882362919417374, 0.5412833796790719, 0.6765124861494907, 0.4843301724668492, 0.0, 0.5681825215717518, 0.7242624864424547, 0.4681007026967135, 0.44577889344754396, 0.449484901413876, 0.5520582668498928, 0.5091321069780098, 0.4052137313938509, 0.6547639919219918], maxlen=20)\n",
      "eval_mean: 0.4215091338252668\n"
     ]
    },
    {
     "name": "stderr",
     "output_type": "stream",
     "text": [
      "\r",
      " 42%|██████████████████████████████▍                                          | 41732/100000 [42:36<1:41:19,  9.59it/s]"
     ]
    },
    {
     "name": "stdout",
     "output_type": "stream",
     "text": [
      "self.evaluation_deque: deque([0.43057168445954014, 0.0, 0.31166690916775097, 0.3132187304477959, 0.5667980822245782, 0.0, 0.32882362919417374, 0.5412833796790719, 0.6765124861494907, 0.4843301724668492, 0.0, 0.5681825215717518, 0.7242624864424547, 0.4681007026967135, 0.44577889344754396, 0.449484901413876, 0.5520582668498928, 0.5091321069780098, 0.4052137313938509, 0.6547639919219918], maxlen=20)\n",
      "eval_mean: 0.4215091338252668\n"
     ]
    },
    {
     "name": "stderr",
     "output_type": "stream",
     "text": [
      "\r",
      " 42%|██████████████████████████████▌                                          | 41808/100000 [42:45<1:42:02,  9.50it/s]"
     ]
    },
    {
     "name": "stdout",
     "output_type": "stream",
     "text": [
      "self.get_collection_ratio(): 0.6461299994434102\n",
      "self.comms.count(True) : 2\n",
      "len(self.comms) : 2\n",
      "self.state.ratio_commed: 1.0\n",
      "self.comms.count(True) : 2\n",
      "len(self.comms) : 2\n",
      "self.evaluation_deque: deque([0.0, 0.31166690916775097, 0.3132187304477959, 0.5667980822245782, 0.0, 0.32882362919417374, 0.5412833796790719, 0.6765124861494907, 0.4843301724668492, 0.0, 0.5681825215717518, 0.7242624864424547, 0.4681007026967135, 0.44577889344754396, 0.449484901413876, 0.5520582668498928, 0.5091321069780098, 0.4052137313938509, 0.6547639919219918, 0.6461299994434102], maxlen=20)\n",
      "eval_mean: 0.4322870495744603\n",
      "Saving best with: 0.4322870495744603\n"
     ]
    },
    {
     "name": "stderr",
     "output_type": "stream",
     "text": [
      "\r",
      " 42%|██████████████████████████████▌                                          | 41884/100000 [42:50<1:33:20, 10.38it/s]"
     ]
    },
    {
     "name": "stdout",
     "output_type": "stream",
     "text": [
      "self.evaluation_deque: deque([0.0, 0.31166690916775097, 0.3132187304477959, 0.5667980822245782, 0.0, 0.32882362919417374, 0.5412833796790719, 0.6765124861494907, 0.4843301724668492, 0.0, 0.5681825215717518, 0.7242624864424547, 0.4681007026967135, 0.44577889344754396, 0.449484901413876, 0.5520582668498928, 0.5091321069780098, 0.4052137313938509, 0.6547639919219918, 0.6461299994434102], maxlen=20)\n",
      "eval_mean: 0.4322870495744603\n"
     ]
    },
    {
     "name": "stderr",
     "output_type": "stream",
     "text": [
      "\r",
      " 42%|██████████████████████████████▋                                          | 41960/100000 [42:57<1:32:04, 10.51it/s]"
     ]
    },
    {
     "name": "stdout",
     "output_type": "stream",
     "text": [
      "self.evaluation_deque: deque([0.0, 0.31166690916775097, 0.3132187304477959, 0.5667980822245782, 0.0, 0.32882362919417374, 0.5412833796790719, 0.6765124861494907, 0.4843301724668492, 0.0, 0.5681825215717518, 0.7242624864424547, 0.4681007026967135, 0.44577889344754396, 0.449484901413876, 0.5520582668498928, 0.5091321069780098, 0.4052137313938509, 0.6547639919219918, 0.6461299994434102], maxlen=20)\n",
      "eval_mean: 0.4322870495744603\n"
     ]
    },
    {
     "name": "stderr",
     "output_type": "stream",
     "text": [
      "\r",
      " 42%|██████████████████████████████▋                                          | 42036/100000 [43:04<1:30:57, 10.62it/s]"
     ]
    },
    {
     "name": "stdout",
     "output_type": "stream",
     "text": [
      "self.evaluation_deque: deque([0.0, 0.31166690916775097, 0.3132187304477959, 0.5667980822245782, 0.0, 0.32882362919417374, 0.5412833796790719, 0.6765124861494907, 0.4843301724668492, 0.0, 0.5681825215717518, 0.7242624864424547, 0.4681007026967135, 0.44577889344754396, 0.449484901413876, 0.5520582668498928, 0.5091321069780098, 0.4052137313938509, 0.6547639919219918, 0.6461299994434102], maxlen=20)\n",
      "eval_mean: 0.4322870495744603\n"
     ]
    },
    {
     "name": "stderr",
     "output_type": "stream",
     "text": [
      "\r",
      " 42%|██████████████████████████████▋                                          | 42112/100000 [43:12<1:33:36, 10.31it/s]"
     ]
    },
    {
     "name": "stdout",
     "output_type": "stream",
     "text": [
      "self.evaluation_deque: deque([0.0, 0.31166690916775097, 0.3132187304477959, 0.5667980822245782, 0.0, 0.32882362919417374, 0.5412833796790719, 0.6765124861494907, 0.4843301724668492, 0.0, 0.5681825215717518, 0.7242624864424547, 0.4681007026967135, 0.44577889344754396, 0.449484901413876, 0.5520582668498928, 0.5091321069780098, 0.4052137313938509, 0.6547639919219918, 0.6461299994434102], maxlen=20)\n",
      "eval_mean: 0.4322870495744603\n"
     ]
    },
    {
     "name": "stderr",
     "output_type": "stream",
     "text": [
      "\r",
      " 42%|██████████████████████████████▊                                          | 42188/100000 [43:22<1:41:01,  9.54it/s]"
     ]
    },
    {
     "name": "stdout",
     "output_type": "stream",
     "text": [
      "self.get_collection_ratio(): 0.8102036153178691\n",
      "self.comms.count(True) : 1\n",
      "len(self.comms) : 2\n",
      "self.state.ratio_commed: 0.5\n",
      "self.comms.count(True) : 1\n",
      "len(self.comms) : 2\n",
      "self.evaluation_deque: deque([0.31166690916775097, 0.3132187304477959, 0.5667980822245782, 0.0, 0.32882362919417374, 0.5412833796790719, 0.6765124861494907, 0.4843301724668492, 0.0, 0.5681825215717518, 0.7242624864424547, 0.4681007026967135, 0.44577889344754396, 0.449484901413876, 0.5520582668498928, 0.5091321069780098, 0.4052137313938509, 0.6547639919219918, 0.6461299994434102, 0.40510180765893455], maxlen=20)\n",
      "eval_mean: 0.45254213995740694\n",
      "Saving best with: 0.45254213995740694\n"
     ]
    },
    {
     "name": "stderr",
     "output_type": "stream",
     "text": [
      "\r",
      " 42%|██████████████████████████████▊                                          | 42264/100000 [43:28<1:36:24,  9.98it/s]"
     ]
    },
    {
     "name": "stdout",
     "output_type": "stream",
     "text": [
      "self.evaluation_deque: deque([0.31166690916775097, 0.3132187304477959, 0.5667980822245782, 0.0, 0.32882362919417374, 0.5412833796790719, 0.6765124861494907, 0.4843301724668492, 0.0, 0.5681825215717518, 0.7242624864424547, 0.4681007026967135, 0.44577889344754396, 0.449484901413876, 0.5520582668498928, 0.5091321069780098, 0.4052137313938509, 0.6547639919219918, 0.6461299994434102, 0.40510180765893455], maxlen=20)\n",
      "eval_mean: 0.45254213995740694\n"
     ]
    },
    {
     "name": "stderr",
     "output_type": "stream",
     "text": [
      "\r",
      " 42%|██████████████████████████████▉                                          | 42340/100000 [43:36<1:35:47, 10.03it/s]"
     ]
    },
    {
     "name": "stdout",
     "output_type": "stream",
     "text": [
      "self.evaluation_deque: deque([0.31166690916775097, 0.3132187304477959, 0.5667980822245782, 0.0, 0.32882362919417374, 0.5412833796790719, 0.6765124861494907, 0.4843301724668492, 0.0, 0.5681825215717518, 0.7242624864424547, 0.4681007026967135, 0.44577889344754396, 0.449484901413876, 0.5520582668498928, 0.5091321069780098, 0.4052137313938509, 0.6547639919219918, 0.6461299994434102, 0.40510180765893455], maxlen=20)\n",
      "eval_mean: 0.45254213995740694\n"
     ]
    },
    {
     "name": "stderr",
     "output_type": "stream",
     "text": [
      "\r",
      " 42%|██████████████████████████████▉                                          | 42416/100000 [43:44<1:36:36,  9.93it/s]"
     ]
    },
    {
     "name": "stdout",
     "output_type": "stream",
     "text": [
      "self.evaluation_deque: deque([0.31166690916775097, 0.3132187304477959, 0.5667980822245782, 0.0, 0.32882362919417374, 0.5412833796790719, 0.6765124861494907, 0.4843301724668492, 0.0, 0.5681825215717518, 0.7242624864424547, 0.4681007026967135, 0.44577889344754396, 0.449484901413876, 0.5520582668498928, 0.5091321069780098, 0.4052137313938509, 0.6547639919219918, 0.6461299994434102, 0.40510180765893455], maxlen=20)\n",
      "eval_mean: 0.45254213995740694\n"
     ]
    },
    {
     "name": "stderr",
     "output_type": "stream",
     "text": [
      "\r",
      " 42%|███████████████████████████████                                          | 42492/100000 [43:51<1:33:54, 10.21it/s]"
     ]
    },
    {
     "name": "stdout",
     "output_type": "stream",
     "text": [
      "self.evaluation_deque: deque([0.31166690916775097, 0.3132187304477959, 0.5667980822245782, 0.0, 0.32882362919417374, 0.5412833796790719, 0.6765124861494907, 0.4843301724668492, 0.0, 0.5681825215717518, 0.7242624864424547, 0.4681007026967135, 0.44577889344754396, 0.449484901413876, 0.5520582668498928, 0.5091321069780098, 0.4052137313938509, 0.6547639919219918, 0.6461299994434102, 0.40510180765893455], maxlen=20)\n",
      "eval_mean: 0.45254213995740694\n"
     ]
    },
    {
     "name": "stderr",
     "output_type": "stream",
     "text": [
      "\r",
      " 43%|███████████████████████████████                                          | 42568/100000 [44:00<1:40:33,  9.52it/s]"
     ]
    },
    {
     "name": "stdout",
     "output_type": "stream",
     "text": [
      "self.get_collection_ratio(): 0.7566021623594499\n",
      "self.comms.count(True) : 1\n",
      "len(self.comms) : 2\n",
      "self.state.ratio_commed: 0.5\n",
      "self.comms.count(True) : 1\n",
      "len(self.comms) : 2\n",
      "self.evaluation_deque: deque([0.3132187304477959, 0.5667980822245782, 0.0, 0.32882362919417374, 0.5412833796790719, 0.6765124861494907, 0.4843301724668492, 0.0, 0.5681825215717518, 0.7242624864424547, 0.4681007026967135, 0.44577889344754396, 0.449484901413876, 0.5520582668498928, 0.5091321069780098, 0.4052137313938509, 0.6547639919219918, 0.6461299994434102, 0.40510180765893455, 0.37830108117972494], maxlen=20)\n",
      "eval_mean: 0.4558738485580058\n",
      "Saving best with: 0.4558738485580058\n"
     ]
    },
    {
     "name": "stderr",
     "output_type": "stream",
     "text": [
      "\r",
      " 43%|███████████████████████████████▏                                         | 42644/100000 [44:08<1:40:05,  9.55it/s]"
     ]
    },
    {
     "name": "stdout",
     "output_type": "stream",
     "text": [
      "self.evaluation_deque: deque([0.3132187304477959, 0.5667980822245782, 0.0, 0.32882362919417374, 0.5412833796790719, 0.6765124861494907, 0.4843301724668492, 0.0, 0.5681825215717518, 0.7242624864424547, 0.4681007026967135, 0.44577889344754396, 0.449484901413876, 0.5520582668498928, 0.5091321069780098, 0.4052137313938509, 0.6547639919219918, 0.6461299994434102, 0.40510180765893455, 0.37830108117972494], maxlen=20)\n",
      "eval_mean: 0.4558738485580058\n"
     ]
    },
    {
     "name": "stderr",
     "output_type": "stream",
     "text": [
      "\r",
      " 43%|███████████████████████████████▏                                         | 42720/100000 [44:14<1:31:45, 10.40it/s]"
     ]
    },
    {
     "name": "stdout",
     "output_type": "stream",
     "text": [
      "self.evaluation_deque: deque([0.3132187304477959, 0.5667980822245782, 0.0, 0.32882362919417374, 0.5412833796790719, 0.6765124861494907, 0.4843301724668492, 0.0, 0.5681825215717518, 0.7242624864424547, 0.4681007026967135, 0.44577889344754396, 0.449484901413876, 0.5520582668498928, 0.5091321069780098, 0.4052137313938509, 0.6547639919219918, 0.6461299994434102, 0.40510180765893455, 0.37830108117972494], maxlen=20)\n",
      "eval_mean: 0.4558738485580058\n"
     ]
    },
    {
     "name": "stderr",
     "output_type": "stream",
     "text": [
      "\r",
      " 43%|███████████████████████████████▏                                         | 42796/100000 [44:20<1:29:39, 10.63it/s]"
     ]
    },
    {
     "name": "stdout",
     "output_type": "stream",
     "text": [
      "self.evaluation_deque: deque([0.3132187304477959, 0.5667980822245782, 0.0, 0.32882362919417374, 0.5412833796790719, 0.6765124861494907, 0.4843301724668492, 0.0, 0.5681825215717518, 0.7242624864424547, 0.4681007026967135, 0.44577889344754396, 0.449484901413876, 0.5520582668498928, 0.5091321069780098, 0.4052137313938509, 0.6547639919219918, 0.6461299994434102, 0.40510180765893455, 0.37830108117972494], maxlen=20)\n",
      "eval_mean: 0.4558738485580058\n"
     ]
    },
    {
     "name": "stderr",
     "output_type": "stream",
     "text": [
      "\r",
      " 43%|███████████████████████████████▎                                         | 42872/100000 [44:28<1:32:04, 10.34it/s]"
     ]
    },
    {
     "name": "stdout",
     "output_type": "stream",
     "text": [
      "self.evaluation_deque: deque([0.3132187304477959, 0.5667980822245782, 0.0, 0.32882362919417374, 0.5412833796790719, 0.6765124861494907, 0.4843301724668492, 0.0, 0.5681825215717518, 0.7242624864424547, 0.4681007026967135, 0.44577889344754396, 0.449484901413876, 0.5520582668498928, 0.5091321069780098, 0.4052137313938509, 0.6547639919219918, 0.6461299994434102, 0.40510180765893455, 0.37830108117972494], maxlen=20)\n",
      "eval_mean: 0.4558738485580058\n"
     ]
    },
    {
     "name": "stderr",
     "output_type": "stream",
     "text": [
      "\r",
      " 43%|███████████████████████████████▎                                         | 42948/100000 [44:36<1:35:03, 10.00it/s]"
     ]
    },
    {
     "name": "stdout",
     "output_type": "stream",
     "text": [
      "self.get_collection_ratio(): 0.685157674568323\n",
      "self.comms.count(True) : 2\n",
      "len(self.comms) : 2\n",
      "self.state.ratio_commed: 1.0\n",
      "self.comms.count(True) : 2\n",
      "len(self.comms) : 2\n",
      "self.evaluation_deque: deque([0.5667980822245782, 0.0, 0.32882362919417374, 0.5412833796790719, 0.6765124861494907, 0.4843301724668492, 0.0, 0.5681825215717518, 0.7242624864424547, 0.4681007026967135, 0.44577889344754396, 0.449484901413876, 0.5520582668498928, 0.5091321069780098, 0.4052137313938509, 0.6547639919219918, 0.6461299994434102, 0.40510180765893455, 0.37830108117972494, 0.685157674568323], maxlen=20)\n",
      "eval_mean: 0.47447079576403206\n",
      "Saving best with: 0.47447079576403206\n"
     ]
    },
    {
     "name": "stderr",
     "output_type": "stream",
     "text": [
      "\r",
      " 43%|███████████████████████████████▍                                         | 43024/100000 [44:43<1:31:23, 10.39it/s]"
     ]
    },
    {
     "name": "stdout",
     "output_type": "stream",
     "text": [
      "self.evaluation_deque: deque([0.5667980822245782, 0.0, 0.32882362919417374, 0.5412833796790719, 0.6765124861494907, 0.4843301724668492, 0.0, 0.5681825215717518, 0.7242624864424547, 0.4681007026967135, 0.44577889344754396, 0.449484901413876, 0.5520582668498928, 0.5091321069780098, 0.4052137313938509, 0.6547639919219918, 0.6461299994434102, 0.40510180765893455, 0.37830108117972494, 0.685157674568323], maxlen=20)\n",
      "eval_mean: 0.47447079576403206\n"
     ]
    },
    {
     "name": "stderr",
     "output_type": "stream",
     "text": [
      "\r",
      " 43%|███████████████████████████████▍                                         | 43100/100000 [44:50<1:29:01, 10.65it/s]"
     ]
    },
    {
     "name": "stdout",
     "output_type": "stream",
     "text": [
      "self.evaluation_deque: deque([0.5667980822245782, 0.0, 0.32882362919417374, 0.5412833796790719, 0.6765124861494907, 0.4843301724668492, 0.0, 0.5681825215717518, 0.7242624864424547, 0.4681007026967135, 0.44577889344754396, 0.449484901413876, 0.5520582668498928, 0.5091321069780098, 0.4052137313938509, 0.6547639919219918, 0.6461299994434102, 0.40510180765893455, 0.37830108117972494, 0.685157674568323], maxlen=20)\n",
      "eval_mean: 0.47447079576403206\n"
     ]
    },
    {
     "name": "stderr",
     "output_type": "stream",
     "text": [
      "\r",
      " 43%|███████████████████████████████▌                                         | 43176/100000 [44:57<1:28:03, 10.76it/s]"
     ]
    },
    {
     "name": "stdout",
     "output_type": "stream",
     "text": [
      "self.evaluation_deque: deque([0.5667980822245782, 0.0, 0.32882362919417374, 0.5412833796790719, 0.6765124861494907, 0.4843301724668492, 0.0, 0.5681825215717518, 0.7242624864424547, 0.4681007026967135, 0.44577889344754396, 0.449484901413876, 0.5520582668498928, 0.5091321069780098, 0.4052137313938509, 0.6547639919219918, 0.6461299994434102, 0.40510180765893455, 0.37830108117972494, 0.685157674568323], maxlen=20)\n",
      "eval_mean: 0.47447079576403206\n"
     ]
    },
    {
     "name": "stderr",
     "output_type": "stream",
     "text": [
      "\r",
      " 43%|███████████████████████████████▌                                         | 43252/100000 [45:03<1:26:26, 10.94it/s]"
     ]
    },
    {
     "name": "stdout",
     "output_type": "stream",
     "text": [
      "self.evaluation_deque: deque([0.5667980822245782, 0.0, 0.32882362919417374, 0.5412833796790719, 0.6765124861494907, 0.4843301724668492, 0.0, 0.5681825215717518, 0.7242624864424547, 0.4681007026967135, 0.44577889344754396, 0.449484901413876, 0.5520582668498928, 0.5091321069780098, 0.4052137313938509, 0.6547639919219918, 0.6461299994434102, 0.40510180765893455, 0.37830108117972494, 0.685157674568323], maxlen=20)\n",
      "eval_mean: 0.47447079576403206\n"
     ]
    },
    {
     "name": "stderr",
     "output_type": "stream",
     "text": [
      "\r",
      " 43%|███████████████████████████████▋                                         | 43328/100000 [45:12<1:31:19, 10.34it/s]"
     ]
    },
    {
     "name": "stdout",
     "output_type": "stream",
     "text": [
      "self.get_collection_ratio(): 0.5013066214893365\n",
      "self.comms.count(True) : 0\n",
      "len(self.comms) : 1\n",
      "self.state.ratio_commed: 0.0\n",
      "self.comms.count(True) : 0\n",
      "len(self.comms) : 1\n",
      "self.evaluation_deque: deque([0.0, 0.32882362919417374, 0.5412833796790719, 0.6765124861494907, 0.4843301724668492, 0.0, 0.5681825215717518, 0.7242624864424547, 0.4681007026967135, 0.44577889344754396, 0.449484901413876, 0.5520582668498928, 0.5091321069780098, 0.4052137313938509, 0.6547639919219918, 0.6461299994434102, 0.40510180765893455, 0.37830108117972494, 0.685157674568323, 0.0], maxlen=20)\n",
      "eval_mean: 0.4461308916528032\n"
     ]
    },
    {
     "name": "stderr",
     "output_type": "stream",
     "text": [
      "\r",
      " 43%|███████████████████████████████▋                                         | 43404/100000 [45:19<1:32:06, 10.24it/s]"
     ]
    },
    {
     "name": "stdout",
     "output_type": "stream",
     "text": [
      "self.evaluation_deque: deque([0.0, 0.32882362919417374, 0.5412833796790719, 0.6765124861494907, 0.4843301724668492, 0.0, 0.5681825215717518, 0.7242624864424547, 0.4681007026967135, 0.44577889344754396, 0.449484901413876, 0.5520582668498928, 0.5091321069780098, 0.4052137313938509, 0.6547639919219918, 0.6461299994434102, 0.40510180765893455, 0.37830108117972494, 0.685157674568323, 0.0], maxlen=20)\n",
      "eval_mean: 0.4461308916528032\n"
     ]
    },
    {
     "name": "stderr",
     "output_type": "stream",
     "text": [
      "\r",
      " 43%|███████████████████████████████▋                                         | 43480/100000 [45:26<1:30:21, 10.43it/s]"
     ]
    },
    {
     "name": "stdout",
     "output_type": "stream",
     "text": [
      "self.evaluation_deque: deque([0.0, 0.32882362919417374, 0.5412833796790719, 0.6765124861494907, 0.4843301724668492, 0.0, 0.5681825215717518, 0.7242624864424547, 0.4681007026967135, 0.44577889344754396, 0.449484901413876, 0.5520582668498928, 0.5091321069780098, 0.4052137313938509, 0.6547639919219918, 0.6461299994434102, 0.40510180765893455, 0.37830108117972494, 0.685157674568323, 0.0], maxlen=20)\n",
      "eval_mean: 0.4461308916528032\n"
     ]
    },
    {
     "name": "stderr",
     "output_type": "stream",
     "text": [
      "\r",
      " 44%|███████████████████████████████▊                                         | 43556/100000 [45:33<1:29:13, 10.54it/s]"
     ]
    },
    {
     "name": "stdout",
     "output_type": "stream",
     "text": [
      "self.evaluation_deque: deque([0.0, 0.32882362919417374, 0.5412833796790719, 0.6765124861494907, 0.4843301724668492, 0.0, 0.5681825215717518, 0.7242624864424547, 0.4681007026967135, 0.44577889344754396, 0.449484901413876, 0.5520582668498928, 0.5091321069780098, 0.4052137313938509, 0.6547639919219918, 0.6461299994434102, 0.40510180765893455, 0.37830108117972494, 0.685157674568323, 0.0], maxlen=20)\n",
      "eval_mean: 0.4461308916528032\n"
     ]
    },
    {
     "name": "stderr",
     "output_type": "stream",
     "text": [
      "\r",
      " 44%|███████████████████████████████▊                                         | 43632/100000 [45:39<1:23:41, 11.23it/s]"
     ]
    },
    {
     "name": "stdout",
     "output_type": "stream",
     "text": [
      "self.evaluation_deque: deque([0.0, 0.32882362919417374, 0.5412833796790719, 0.6765124861494907, 0.4843301724668492, 0.0, 0.5681825215717518, 0.7242624864424547, 0.4681007026967135, 0.44577889344754396, 0.449484901413876, 0.5520582668498928, 0.5091321069780098, 0.4052137313938509, 0.6547639919219918, 0.6461299994434102, 0.40510180765893455, 0.37830108117972494, 0.685157674568323, 0.0], maxlen=20)\n",
      "eval_mean: 0.4461308916528032\n"
     ]
    },
    {
     "name": "stderr",
     "output_type": "stream",
     "text": [
      "\r",
      " 44%|███████████████████████████████▉                                         | 43708/100000 [45:47<1:28:38, 10.58it/s]"
     ]
    },
    {
     "name": "stdout",
     "output_type": "stream",
     "text": [
      "self.get_collection_ratio(): 0.6227433601954578\n",
      "self.comms.count(True) : 2\n",
      "len(self.comms) : 2\n",
      "self.state.ratio_commed: 1.0\n",
      "self.comms.count(True) : 2\n",
      "len(self.comms) : 2\n",
      "self.evaluation_deque: deque([0.32882362919417374, 0.5412833796790719, 0.6765124861494907, 0.4843301724668492, 0.0, 0.5681825215717518, 0.7242624864424547, 0.4681007026967135, 0.44577889344754396, 0.449484901413876, 0.5520582668498928, 0.5091321069780098, 0.4052137313938509, 0.6547639919219918, 0.6461299994434102, 0.40510180765893455, 0.37830108117972494, 0.685157674568323, 0.0, 0.6227433601954578], maxlen=20)\n",
      "eval_mean: 0.47726805966257607\n",
      "Saving best with: 0.47726805966257607\n"
     ]
    },
    {
     "name": "stderr",
     "output_type": "stream",
     "text": [
      "\r",
      " 44%|███████████████████████████████▉                                         | 43784/100000 [45:55<1:32:14, 10.16it/s]"
     ]
    },
    {
     "name": "stdout",
     "output_type": "stream",
     "text": [
      "self.evaluation_deque: deque([0.32882362919417374, 0.5412833796790719, 0.6765124861494907, 0.4843301724668492, 0.0, 0.5681825215717518, 0.7242624864424547, 0.4681007026967135, 0.44577889344754396, 0.449484901413876, 0.5520582668498928, 0.5091321069780098, 0.4052137313938509, 0.6547639919219918, 0.6461299994434102, 0.40510180765893455, 0.37830108117972494, 0.685157674568323, 0.0, 0.6227433601954578], maxlen=20)\n",
      "eval_mean: 0.47726805966257607\n"
     ]
    },
    {
     "name": "stderr",
     "output_type": "stream",
     "text": [
      "\r",
      " 44%|████████████████████████████████                                         | 43860/100000 [46:02<1:29:00, 10.51it/s]"
     ]
    },
    {
     "name": "stdout",
     "output_type": "stream",
     "text": [
      "self.evaluation_deque: deque([0.32882362919417374, 0.5412833796790719, 0.6765124861494907, 0.4843301724668492, 0.0, 0.5681825215717518, 0.7242624864424547, 0.4681007026967135, 0.44577889344754396, 0.449484901413876, 0.5520582668498928, 0.5091321069780098, 0.4052137313938509, 0.6547639919219918, 0.6461299994434102, 0.40510180765893455, 0.37830108117972494, 0.685157674568323, 0.0, 0.6227433601954578], maxlen=20)\n",
      "eval_mean: 0.47726805966257607\n"
     ]
    },
    {
     "name": "stderr",
     "output_type": "stream",
     "text": [
      "\r",
      " 44%|████████████████████████████████                                         | 43936/100000 [46:10<1:31:02, 10.26it/s]"
     ]
    },
    {
     "name": "stdout",
     "output_type": "stream",
     "text": [
      "self.evaluation_deque: deque([0.32882362919417374, 0.5412833796790719, 0.6765124861494907, 0.4843301724668492, 0.0, 0.5681825215717518, 0.7242624864424547, 0.4681007026967135, 0.44577889344754396, 0.449484901413876, 0.5520582668498928, 0.5091321069780098, 0.4052137313938509, 0.6547639919219918, 0.6461299994434102, 0.40510180765893455, 0.37830108117972494, 0.685157674568323, 0.0, 0.6227433601954578], maxlen=20)\n",
      "eval_mean: 0.47726805966257607\n"
     ]
    },
    {
     "name": "stderr",
     "output_type": "stream",
     "text": [
      "\r",
      " 44%|████████████████████████████████▏                                        | 44012/100000 [46:17<1:31:45, 10.17it/s]"
     ]
    },
    {
     "name": "stdout",
     "output_type": "stream",
     "text": [
      "self.evaluation_deque: deque([0.32882362919417374, 0.5412833796790719, 0.6765124861494907, 0.4843301724668492, 0.0, 0.5681825215717518, 0.7242624864424547, 0.4681007026967135, 0.44577889344754396, 0.449484901413876, 0.5520582668498928, 0.5091321069780098, 0.4052137313938509, 0.6547639919219918, 0.6461299994434102, 0.40510180765893455, 0.37830108117972494, 0.685157674568323, 0.0, 0.6227433601954578], maxlen=20)\n",
      "eval_mean: 0.47726805966257607\n"
     ]
    },
    {
     "name": "stderr",
     "output_type": "stream",
     "text": [
      " 44%|████████████████████████████████▏                                        | 44088/100000 [46:30<1:51:57,  8.32it/s]"
     ]
    },
    {
     "name": "stdout",
     "output_type": "stream",
     "text": [
      "self.get_collection_ratio(): 0.6394954723665767\n",
      "self.comms.count(True) : 2\n",
      "len(self.comms) : 2\n",
      "self.state.ratio_commed: 1.0\n",
      "self.comms.count(True) : 2\n",
      "len(self.comms) : 2\n",
      "self.evaluation_deque: deque([0.5412833796790719, 0.6765124861494907, 0.4843301724668492, 0.0, 0.5681825215717518, 0.7242624864424547, 0.4681007026967135, 0.44577889344754396, 0.449484901413876, 0.5520582668498928, 0.5091321069780098, 0.4052137313938509, 0.6547639919219918, 0.6461299994434102, 0.40510180765893455, 0.37830108117972494, 0.685157674568323, 0.0, 0.6227433601954578, 0.6394954723665767], maxlen=20)\n",
      "eval_mean: 0.4928016518211962\n",
      "Saving best with: 0.4928016518211962\n"
     ]
    },
    {
     "name": "stderr",
     "output_type": "stream",
     "text": [
      "\r",
      " 44%|████████████████████████████████▏                                        | 44164/100000 [46:36<1:39:19,  9.37it/s]"
     ]
    },
    {
     "name": "stdout",
     "output_type": "stream",
     "text": [
      "self.evaluation_deque: deque([0.5412833796790719, 0.6765124861494907, 0.4843301724668492, 0.0, 0.5681825215717518, 0.7242624864424547, 0.4681007026967135, 0.44577889344754396, 0.449484901413876, 0.5520582668498928, 0.5091321069780098, 0.4052137313938509, 0.6547639919219918, 0.6461299994434102, 0.40510180765893455, 0.37830108117972494, 0.685157674568323, 0.0, 0.6227433601954578, 0.6394954723665767], maxlen=20)\n",
      "eval_mean: 0.4928016518211962\n"
     ]
    },
    {
     "name": "stderr",
     "output_type": "stream",
     "text": [
      "\r",
      " 44%|████████████████████████████████▎                                        | 44240/100000 [46:44<1:38:04,  9.48it/s]"
     ]
    },
    {
     "name": "stdout",
     "output_type": "stream",
     "text": [
      "self.evaluation_deque: deque([0.5412833796790719, 0.6765124861494907, 0.4843301724668492, 0.0, 0.5681825215717518, 0.7242624864424547, 0.4681007026967135, 0.44577889344754396, 0.449484901413876, 0.5520582668498928, 0.5091321069780098, 0.4052137313938509, 0.6547639919219918, 0.6461299994434102, 0.40510180765893455, 0.37830108117972494, 0.685157674568323, 0.0, 0.6227433601954578, 0.6394954723665767], maxlen=20)\n",
      "eval_mean: 0.4928016518211962\n"
     ]
    },
    {
     "name": "stderr",
     "output_type": "stream",
     "text": [
      "\r",
      " 44%|████████████████████████████████▎                                        | 44316/100000 [46:49<1:28:36, 10.47it/s]"
     ]
    },
    {
     "name": "stdout",
     "output_type": "stream",
     "text": [
      "self.evaluation_deque: deque([0.5412833796790719, 0.6765124861494907, 0.4843301724668492, 0.0, 0.5681825215717518, 0.7242624864424547, 0.4681007026967135, 0.44577889344754396, 0.449484901413876, 0.5520582668498928, 0.5091321069780098, 0.4052137313938509, 0.6547639919219918, 0.6461299994434102, 0.40510180765893455, 0.37830108117972494, 0.685157674568323, 0.0, 0.6227433601954578, 0.6394954723665767], maxlen=20)\n",
      "eval_mean: 0.4928016518211962\n"
     ]
    },
    {
     "name": "stderr",
     "output_type": "stream",
     "text": [
      "\r",
      " 44%|████████████████████████████████▍                                        | 44392/100000 [46:55<1:21:57, 11.31it/s]"
     ]
    },
    {
     "name": "stdout",
     "output_type": "stream",
     "text": [
      "self.evaluation_deque: deque([0.5412833796790719, 0.6765124861494907, 0.4843301724668492, 0.0, 0.5681825215717518, 0.7242624864424547, 0.4681007026967135, 0.44577889344754396, 0.449484901413876, 0.5520582668498928, 0.5091321069780098, 0.4052137313938509, 0.6547639919219918, 0.6461299994434102, 0.40510180765893455, 0.37830108117972494, 0.685157674568323, 0.0, 0.6227433601954578, 0.6394954723665767], maxlen=20)\n",
      "eval_mean: 0.4928016518211962\n"
     ]
    },
    {
     "name": "stderr",
     "output_type": "stream",
     "text": [
      "\r",
      " 44%|████████████████████████████████▍                                        | 44468/100000 [47:05<1:34:08,  9.83it/s]"
     ]
    },
    {
     "name": "stdout",
     "output_type": "stream",
     "text": [
      "self.get_collection_ratio(): 0.7471020841591045\n",
      "self.comms.count(True) : 2\n",
      "len(self.comms) : 2\n",
      "self.state.ratio_commed: 1.0\n",
      "self.comms.count(True) : 2\n",
      "len(self.comms) : 2\n",
      "self.evaluation_deque: deque([0.6765124861494907, 0.4843301724668492, 0.0, 0.5681825215717518, 0.7242624864424547, 0.4681007026967135, 0.44577889344754396, 0.449484901413876, 0.5520582668498928, 0.5091321069780098, 0.4052137313938509, 0.6547639919219918, 0.6461299994434102, 0.40510180765893455, 0.37830108117972494, 0.685157674568323, 0.0, 0.6227433601954578, 0.6394954723665767, 0.7471020841591045], maxlen=20)\n",
      "eval_mean: 0.5030925870451978\n",
      "Saving best with: 0.5030925870451978\n"
     ]
    },
    {
     "name": "stderr",
     "output_type": "stream",
     "text": [
      "\r",
      " 45%|████████████████████████████████▌                                        | 44544/100000 [47:13<1:34:02,  9.83it/s]"
     ]
    },
    {
     "name": "stdout",
     "output_type": "stream",
     "text": [
      "self.evaluation_deque: deque([0.6765124861494907, 0.4843301724668492, 0.0, 0.5681825215717518, 0.7242624864424547, 0.4681007026967135, 0.44577889344754396, 0.449484901413876, 0.5520582668498928, 0.5091321069780098, 0.4052137313938509, 0.6547639919219918, 0.6461299994434102, 0.40510180765893455, 0.37830108117972494, 0.685157674568323, 0.0, 0.6227433601954578, 0.6394954723665767, 0.7471020841591045], maxlen=20)\n",
      "eval_mean: 0.5030925870451978\n"
     ]
    },
    {
     "name": "stderr",
     "output_type": "stream",
     "text": [
      "\r",
      " 45%|████████████████████████████████▌                                        | 44620/100000 [47:18<1:25:41, 10.77it/s]"
     ]
    },
    {
     "name": "stdout",
     "output_type": "stream",
     "text": [
      "self.evaluation_deque: deque([0.6765124861494907, 0.4843301724668492, 0.0, 0.5681825215717518, 0.7242624864424547, 0.4681007026967135, 0.44577889344754396, 0.449484901413876, 0.5520582668498928, 0.5091321069780098, 0.4052137313938509, 0.6547639919219918, 0.6461299994434102, 0.40510180765893455, 0.37830108117972494, 0.685157674568323, 0.0, 0.6227433601954578, 0.6394954723665767, 0.7471020841591045], maxlen=20)\n",
      "eval_mean: 0.5030925870451978\n"
     ]
    },
    {
     "name": "stderr",
     "output_type": "stream",
     "text": [
      "\r",
      " 45%|████████████████████████████████▋                                        | 44696/100000 [47:26<1:28:13, 10.45it/s]"
     ]
    },
    {
     "name": "stdout",
     "output_type": "stream",
     "text": [
      "self.evaluation_deque: deque([0.6765124861494907, 0.4843301724668492, 0.0, 0.5681825215717518, 0.7242624864424547, 0.4681007026967135, 0.44577889344754396, 0.449484901413876, 0.5520582668498928, 0.5091321069780098, 0.4052137313938509, 0.6547639919219918, 0.6461299994434102, 0.40510180765893455, 0.37830108117972494, 0.685157674568323, 0.0, 0.6227433601954578, 0.6394954723665767, 0.7471020841591045], maxlen=20)\n",
      "eval_mean: 0.5030925870451978\n"
     ]
    },
    {
     "name": "stderr",
     "output_type": "stream",
     "text": [
      "\r",
      " 45%|████████████████████████████████▋                                        | 44772/100000 [47:33<1:25:43, 10.74it/s]"
     ]
    },
    {
     "name": "stdout",
     "output_type": "stream",
     "text": [
      "self.evaluation_deque: deque([0.6765124861494907, 0.4843301724668492, 0.0, 0.5681825215717518, 0.7242624864424547, 0.4681007026967135, 0.44577889344754396, 0.449484901413876, 0.5520582668498928, 0.5091321069780098, 0.4052137313938509, 0.6547639919219918, 0.6461299994434102, 0.40510180765893455, 0.37830108117972494, 0.685157674568323, 0.0, 0.6227433601954578, 0.6394954723665767, 0.7471020841591045], maxlen=20)\n",
      "eval_mean: 0.5030925870451978\n"
     ]
    },
    {
     "name": "stderr",
     "output_type": "stream",
     "text": [
      "\r",
      " 45%|████████████████████████████████▋                                        | 44848/100000 [47:43<1:38:50,  9.30it/s]"
     ]
    },
    {
     "name": "stdout",
     "output_type": "stream",
     "text": [
      "self.get_collection_ratio(): 0.8210948690412873\n",
      "self.comms.count(True) : 2\n",
      "len(self.comms) : 3\n",
      "self.state.ratio_commed: 0.6666666666666666\n",
      "self.comms.count(True) : 2\n",
      "len(self.comms) : 3\n",
      "self.evaluation_deque: deque([0.4843301724668492, 0.0, 0.5681825215717518, 0.7242624864424547, 0.4681007026967135, 0.44577889344754396, 0.449484901413876, 0.5520582668498928, 0.5091321069780098, 0.4052137313938509, 0.6547639919219918, 0.6461299994434102, 0.40510180765893455, 0.37830108117972494, 0.685157674568323, 0.0, 0.6227433601954578, 0.6394954723665767, 0.7471020841591045, 0.5473965793608582], maxlen=20)\n",
      "eval_mean: 0.49663679170576625\n"
     ]
    },
    {
     "name": "stderr",
     "output_type": "stream",
     "text": [
      "\r",
      " 45%|████████████████████████████████▊                                        | 44924/100000 [47:49<1:29:09, 10.30it/s]"
     ]
    },
    {
     "name": "stdout",
     "output_type": "stream",
     "text": [
      "self.evaluation_deque: deque([0.4843301724668492, 0.0, 0.5681825215717518, 0.7242624864424547, 0.4681007026967135, 0.44577889344754396, 0.449484901413876, 0.5520582668498928, 0.5091321069780098, 0.4052137313938509, 0.6547639919219918, 0.6461299994434102, 0.40510180765893455, 0.37830108117972494, 0.685157674568323, 0.0, 0.6227433601954578, 0.6394954723665767, 0.7471020841591045, 0.5473965793608582], maxlen=20)\n",
      "eval_mean: 0.49663679170576625\n"
     ]
    },
    {
     "name": "stderr",
     "output_type": "stream",
     "text": [
      "\r",
      " 45%|████████████████████████████████▊                                        | 45000/100000 [47:56<1:30:01, 10.18it/s]"
     ]
    },
    {
     "name": "stdout",
     "output_type": "stream",
     "text": [
      "self.evaluation_deque: deque([0.4843301724668492, 0.0, 0.5681825215717518, 0.7242624864424547, 0.4681007026967135, 0.44577889344754396, 0.449484901413876, 0.5520582668498928, 0.5091321069780098, 0.4052137313938509, 0.6547639919219918, 0.6461299994434102, 0.40510180765893455, 0.37830108117972494, 0.685157674568323, 0.0, 0.6227433601954578, 0.6394954723665767, 0.7471020841591045, 0.5473965793608582], maxlen=20)\n",
      "eval_mean: 0.49663679170576625\n"
     ]
    },
    {
     "name": "stderr",
     "output_type": "stream",
     "text": [
      "\r",
      " 45%|████████████████████████████████▉                                        | 45076/100000 [48:04<1:30:05, 10.16it/s]"
     ]
    },
    {
     "name": "stdout",
     "output_type": "stream",
     "text": [
      "self.evaluation_deque: deque([0.4843301724668492, 0.0, 0.5681825215717518, 0.7242624864424547, 0.4681007026967135, 0.44577889344754396, 0.449484901413876, 0.5520582668498928, 0.5091321069780098, 0.4052137313938509, 0.6547639919219918, 0.6461299994434102, 0.40510180765893455, 0.37830108117972494, 0.685157674568323, 0.0, 0.6227433601954578, 0.6394954723665767, 0.7471020841591045, 0.5473965793608582], maxlen=20)\n",
      "eval_mean: 0.49663679170576625\n"
     ]
    },
    {
     "name": "stderr",
     "output_type": "stream",
     "text": [
      "\r",
      " 45%|████████████████████████████████▉                                        | 45152/100000 [48:12<1:30:52, 10.06it/s]"
     ]
    },
    {
     "name": "stdout",
     "output_type": "stream",
     "text": [
      "self.evaluation_deque: deque([0.4843301724668492, 0.0, 0.5681825215717518, 0.7242624864424547, 0.4681007026967135, 0.44577889344754396, 0.449484901413876, 0.5520582668498928, 0.5091321069780098, 0.4052137313938509, 0.6547639919219918, 0.6461299994434102, 0.40510180765893455, 0.37830108117972494, 0.685157674568323, 0.0, 0.6227433601954578, 0.6394954723665767, 0.7471020841591045, 0.5473965793608582], maxlen=20)\n",
      "eval_mean: 0.49663679170576625\n"
     ]
    },
    {
     "name": "stderr",
     "output_type": "stream",
     "text": [
      "\r",
      " 45%|█████████████████████████████████                                        | 45228/100000 [48:19<1:31:26,  9.98it/s]"
     ]
    },
    {
     "name": "stdout",
     "output_type": "stream",
     "text": [
      "self.get_collection_ratio(): 0.6092977724077194\n",
      "self.comms.count(True) : 2\n",
      "len(self.comms) : 2\n",
      "self.state.ratio_commed: 1.0\n",
      "self.comms.count(True) : 2\n",
      "len(self.comms) : 2\n",
      "self.evaluation_deque: deque([0.0, 0.5681825215717518, 0.7242624864424547, 0.4681007026967135, 0.44577889344754396, 0.449484901413876, 0.5520582668498928, 0.5091321069780098, 0.4052137313938509, 0.6547639919219918, 0.6461299994434102, 0.40510180765893455, 0.37830108117972494, 0.685157674568323, 0.0, 0.6227433601954578, 0.6394954723665767, 0.7471020841591045, 0.5473965793608582, 0.6092977724077194], maxlen=20)\n",
      "eval_mean: 0.5028851717028098\n"
     ]
    },
    {
     "name": "stderr",
     "output_type": "stream",
     "text": [
      "\r",
      " 45%|█████████████████████████████████                                        | 45304/100000 [48:26<1:27:33, 10.41it/s]"
     ]
    },
    {
     "name": "stdout",
     "output_type": "stream",
     "text": [
      "self.evaluation_deque: deque([0.0, 0.5681825215717518, 0.7242624864424547, 0.4681007026967135, 0.44577889344754396, 0.449484901413876, 0.5520582668498928, 0.5091321069780098, 0.4052137313938509, 0.6547639919219918, 0.6461299994434102, 0.40510180765893455, 0.37830108117972494, 0.685157674568323, 0.0, 0.6227433601954578, 0.6394954723665767, 0.7471020841591045, 0.5473965793608582, 0.6092977724077194], maxlen=20)\n",
      "eval_mean: 0.5028851717028098\n"
     ]
    },
    {
     "name": "stderr",
     "output_type": "stream",
     "text": [
      "\r",
      " 45%|█████████████████████████████████▏                                       | 45380/100000 [48:34<1:28:40, 10.27it/s]"
     ]
    },
    {
     "name": "stdout",
     "output_type": "stream",
     "text": [
      "self.evaluation_deque: deque([0.0, 0.5681825215717518, 0.7242624864424547, 0.4681007026967135, 0.44577889344754396, 0.449484901413876, 0.5520582668498928, 0.5091321069780098, 0.4052137313938509, 0.6547639919219918, 0.6461299994434102, 0.40510180765893455, 0.37830108117972494, 0.685157674568323, 0.0, 0.6227433601954578, 0.6394954723665767, 0.7471020841591045, 0.5473965793608582, 0.6092977724077194], maxlen=20)\n",
      "eval_mean: 0.5028851717028098\n"
     ]
    },
    {
     "name": "stderr",
     "output_type": "stream",
     "text": [
      "\r",
      " 45%|█████████████████████████████████▏                                       | 45456/100000 [48:41<1:28:57, 10.22it/s]"
     ]
    },
    {
     "name": "stdout",
     "output_type": "stream",
     "text": [
      "self.evaluation_deque: deque([0.0, 0.5681825215717518, 0.7242624864424547, 0.4681007026967135, 0.44577889344754396, 0.449484901413876, 0.5520582668498928, 0.5091321069780098, 0.4052137313938509, 0.6547639919219918, 0.6461299994434102, 0.40510180765893455, 0.37830108117972494, 0.685157674568323, 0.0, 0.6227433601954578, 0.6394954723665767, 0.7471020841591045, 0.5473965793608582, 0.6092977724077194], maxlen=20)\n",
      "eval_mean: 0.5028851717028098\n"
     ]
    },
    {
     "name": "stderr",
     "output_type": "stream",
     "text": [
      "\r",
      " 46%|█████████████████████████████████▏                                       | 45532/100000 [48:48<1:26:09, 10.54it/s]"
     ]
    },
    {
     "name": "stdout",
     "output_type": "stream",
     "text": [
      "self.evaluation_deque: deque([0.0, 0.5681825215717518, 0.7242624864424547, 0.4681007026967135, 0.44577889344754396, 0.449484901413876, 0.5520582668498928, 0.5091321069780098, 0.4052137313938509, 0.6547639919219918, 0.6461299994434102, 0.40510180765893455, 0.37830108117972494, 0.685157674568323, 0.0, 0.6227433601954578, 0.6394954723665767, 0.7471020841591045, 0.5473965793608582, 0.6092977724077194], maxlen=20)\n",
      "eval_mean: 0.5028851717028098\n"
     ]
    },
    {
     "name": "stderr",
     "output_type": "stream",
     "text": [
      "\r",
      " 46%|█████████████████████████████████▎                                       | 45608/100000 [48:56<1:29:51, 10.09it/s]"
     ]
    },
    {
     "name": "stdout",
     "output_type": "stream",
     "text": [
      "self.get_collection_ratio(): 0.981802530496578\n",
      "self.comms.count(True) : 1\n",
      "len(self.comms) : 3\n",
      "self.state.ratio_commed: 0.3333333333333333\n",
      "self.comms.count(True) : 1\n",
      "len(self.comms) : 3\n",
      "self.evaluation_deque: deque([0.5681825215717518, 0.7242624864424547, 0.4681007026967135, 0.44577889344754396, 0.449484901413876, 0.5520582668498928, 0.5091321069780098, 0.4052137313938509, 0.6547639919219918, 0.6461299994434102, 0.40510180765893455, 0.37830108117972494, 0.685157674568323, 0.0, 0.6227433601954578, 0.6394954723665767, 0.7471020841591045, 0.5473965793608582, 0.6092977724077194, 0.32726751016552597], maxlen=20)\n",
      "eval_mean: 0.5192485472110862\n",
      "Saving best with: 0.5192485472110862\n"
     ]
    },
    {
     "name": "stderr",
     "output_type": "stream",
     "text": [
      "\r",
      " 46%|█████████████████████████████████▎                                       | 45684/100000 [49:04<1:29:52, 10.07it/s]"
     ]
    },
    {
     "name": "stdout",
     "output_type": "stream",
     "text": [
      "self.evaluation_deque: deque([0.5681825215717518, 0.7242624864424547, 0.4681007026967135, 0.44577889344754396, 0.449484901413876, 0.5520582668498928, 0.5091321069780098, 0.4052137313938509, 0.6547639919219918, 0.6461299994434102, 0.40510180765893455, 0.37830108117972494, 0.685157674568323, 0.0, 0.6227433601954578, 0.6394954723665767, 0.7471020841591045, 0.5473965793608582, 0.6092977724077194, 0.32726751016552597], maxlen=20)\n",
      "eval_mean: 0.5192485472110862\n"
     ]
    },
    {
     "name": "stderr",
     "output_type": "stream",
     "text": [
      "\r",
      " 46%|█████████████████████████████████▍                                       | 45760/100000 [49:09<1:22:27, 10.96it/s]"
     ]
    },
    {
     "name": "stdout",
     "output_type": "stream",
     "text": [
      "self.evaluation_deque: deque([0.5681825215717518, 0.7242624864424547, 0.4681007026967135, 0.44577889344754396, 0.449484901413876, 0.5520582668498928, 0.5091321069780098, 0.4052137313938509, 0.6547639919219918, 0.6461299994434102, 0.40510180765893455, 0.37830108117972494, 0.685157674568323, 0.0, 0.6227433601954578, 0.6394954723665767, 0.7471020841591045, 0.5473965793608582, 0.6092977724077194, 0.32726751016552597], maxlen=20)\n",
      "eval_mean: 0.5192485472110862\n"
     ]
    },
    {
     "name": "stderr",
     "output_type": "stream",
     "text": [
      "\r",
      " 46%|█████████████████████████████████▍                                       | 45836/100000 [49:15<1:17:08, 11.70it/s]"
     ]
    },
    {
     "name": "stdout",
     "output_type": "stream",
     "text": [
      "self.evaluation_deque: deque([0.5681825215717518, 0.7242624864424547, 0.4681007026967135, 0.44577889344754396, 0.449484901413876, 0.5520582668498928, 0.5091321069780098, 0.4052137313938509, 0.6547639919219918, 0.6461299994434102, 0.40510180765893455, 0.37830108117972494, 0.685157674568323, 0.0, 0.6227433601954578, 0.6394954723665767, 0.7471020841591045, 0.5473965793608582, 0.6092977724077194, 0.32726751016552597], maxlen=20)\n",
      "eval_mean: 0.5192485472110862\n"
     ]
    },
    {
     "name": "stderr",
     "output_type": "stream",
     "text": [
      "\r",
      " 46%|█████████████████████████████████▌                                       | 45912/100000 [49:20<1:13:37, 12.24it/s]"
     ]
    },
    {
     "name": "stdout",
     "output_type": "stream",
     "text": [
      "self.evaluation_deque: deque([0.5681825215717518, 0.7242624864424547, 0.4681007026967135, 0.44577889344754396, 0.449484901413876, 0.5520582668498928, 0.5091321069780098, 0.4052137313938509, 0.6547639919219918, 0.6461299994434102, 0.40510180765893455, 0.37830108117972494, 0.685157674568323, 0.0, 0.6227433601954578, 0.6394954723665767, 0.7471020841591045, 0.5473965793608582, 0.6092977724077194, 0.32726751016552597], maxlen=20)\n",
      "eval_mean: 0.5192485472110862\n"
     ]
    },
    {
     "name": "stderr",
     "output_type": "stream",
     "text": [
      "\r",
      " 46%|█████████████████████████████████▌                                       | 45988/100000 [49:29<1:24:21, 10.67it/s]"
     ]
    },
    {
     "name": "stdout",
     "output_type": "stream",
     "text": [
      "self.get_collection_ratio(): 0.5312021304954121\n",
      "self.comms.count(True) : 1\n",
      "len(self.comms) : 1\n",
      "self.state.ratio_commed: 1.0\n",
      "self.comms.count(True) : 1\n",
      "len(self.comms) : 1\n",
      "self.evaluation_deque: deque([0.7242624864424547, 0.4681007026967135, 0.44577889344754396, 0.449484901413876, 0.5520582668498928, 0.5091321069780098, 0.4052137313938509, 0.6547639919219918, 0.6461299994434102, 0.40510180765893455, 0.37830108117972494, 0.685157674568323, 0.0, 0.6227433601954578, 0.6394954723665767, 0.7471020841591045, 0.5473965793608582, 0.6092977724077194, 0.32726751016552597, 0.5312021304954121], maxlen=20)\n",
      "eval_mean: 0.5173995276572692\n"
     ]
    },
    {
     "name": "stderr",
     "output_type": "stream",
     "text": [
      "\r",
      " 46%|█████████████████████████████████▋                                       | 46064/100000 [49:37<1:25:33, 10.51it/s]"
     ]
    },
    {
     "name": "stdout",
     "output_type": "stream",
     "text": [
      "self.evaluation_deque: deque([0.7242624864424547, 0.4681007026967135, 0.44577889344754396, 0.449484901413876, 0.5520582668498928, 0.5091321069780098, 0.4052137313938509, 0.6547639919219918, 0.6461299994434102, 0.40510180765893455, 0.37830108117972494, 0.685157674568323, 0.0, 0.6227433601954578, 0.6394954723665767, 0.7471020841591045, 0.5473965793608582, 0.6092977724077194, 0.32726751016552597, 0.5312021304954121], maxlen=20)\n",
      "eval_mean: 0.5173995276572692\n"
     ]
    },
    {
     "name": "stderr",
     "output_type": "stream",
     "text": [
      "\r",
      " 46%|█████████████████████████████████▋                                       | 46140/100000 [49:44<1:26:27, 10.38it/s]"
     ]
    },
    {
     "name": "stdout",
     "output_type": "stream",
     "text": [
      "self.evaluation_deque: deque([0.7242624864424547, 0.4681007026967135, 0.44577889344754396, 0.449484901413876, 0.5520582668498928, 0.5091321069780098, 0.4052137313938509, 0.6547639919219918, 0.6461299994434102, 0.40510180765893455, 0.37830108117972494, 0.685157674568323, 0.0, 0.6227433601954578, 0.6394954723665767, 0.7471020841591045, 0.5473965793608582, 0.6092977724077194, 0.32726751016552597, 0.5312021304954121], maxlen=20)\n",
      "eval_mean: 0.5173995276572692\n"
     ]
    },
    {
     "name": "stderr",
     "output_type": "stream",
     "text": [
      "\r",
      " 46%|█████████████████████████████████▋                                       | 46216/100000 [49:50<1:19:54, 11.22it/s]"
     ]
    },
    {
     "name": "stdout",
     "output_type": "stream",
     "text": [
      "self.evaluation_deque: deque([0.7242624864424547, 0.4681007026967135, 0.44577889344754396, 0.449484901413876, 0.5520582668498928, 0.5091321069780098, 0.4052137313938509, 0.6547639919219918, 0.6461299994434102, 0.40510180765893455, 0.37830108117972494, 0.685157674568323, 0.0, 0.6227433601954578, 0.6394954723665767, 0.7471020841591045, 0.5473965793608582, 0.6092977724077194, 0.32726751016552597, 0.5312021304954121], maxlen=20)\n",
      "eval_mean: 0.5173995276572692\n"
     ]
    },
    {
     "name": "stderr",
     "output_type": "stream",
     "text": [
      "\r",
      " 46%|█████████████████████████████████▊                                       | 46292/100000 [49:58<1:22:42, 10.82it/s]"
     ]
    },
    {
     "name": "stdout",
     "output_type": "stream",
     "text": [
      "self.evaluation_deque: deque([0.7242624864424547, 0.4681007026967135, 0.44577889344754396, 0.449484901413876, 0.5520582668498928, 0.5091321069780098, 0.4052137313938509, 0.6547639919219918, 0.6461299994434102, 0.40510180765893455, 0.37830108117972494, 0.685157674568323, 0.0, 0.6227433601954578, 0.6394954723665767, 0.7471020841591045, 0.5473965793608582, 0.6092977724077194, 0.32726751016552597, 0.5312021304954121], maxlen=20)\n",
      "eval_mean: 0.5173995276572692\n"
     ]
    },
    {
     "name": "stderr",
     "output_type": "stream",
     "text": [
      "\r",
      " 46%|█████████████████████████████████▊                                       | 46368/100000 [50:07<1:31:32,  9.76it/s]"
     ]
    },
    {
     "name": "stdout",
     "output_type": "stream",
     "text": [
      "self.get_collection_ratio(): 0.7524306711931635\n",
      "self.comms.count(True) : 2\n",
      "len(self.comms) : 3\n",
      "self.state.ratio_commed: 0.6666666666666666\n",
      "self.comms.count(True) : 2\n",
      "len(self.comms) : 3\n",
      "self.evaluation_deque: deque([0.4681007026967135, 0.44577889344754396, 0.449484901413876, 0.5520582668498928, 0.5091321069780098, 0.4052137313938509, 0.6547639919219918, 0.6461299994434102, 0.40510180765893455, 0.37830108117972494, 0.685157674568323, 0.0, 0.6227433601954578, 0.6394954723665767, 0.7471020841591045, 0.5473965793608582, 0.6092977724077194, 0.32726751016552597, 0.5312021304954121, 0.501620447462109], maxlen=20)\n",
      "eval_mean: 0.5062674257082518\n"
     ]
    },
    {
     "name": "stderr",
     "output_type": "stream",
     "text": [
      "\r",
      " 46%|█████████████████████████████████▉                                       | 46444/100000 [50:14<1:27:40, 10.18it/s]"
     ]
    },
    {
     "name": "stdout",
     "output_type": "stream",
     "text": [
      "self.evaluation_deque: deque([0.4681007026967135, 0.44577889344754396, 0.449484901413876, 0.5520582668498928, 0.5091321069780098, 0.4052137313938509, 0.6547639919219918, 0.6461299994434102, 0.40510180765893455, 0.37830108117972494, 0.685157674568323, 0.0, 0.6227433601954578, 0.6394954723665767, 0.7471020841591045, 0.5473965793608582, 0.6092977724077194, 0.32726751016552597, 0.5312021304954121, 0.501620447462109], maxlen=20)\n",
      "eval_mean: 0.5062674257082518\n"
     ]
    },
    {
     "name": "stderr",
     "output_type": "stream",
     "text": [
      "\r",
      " 47%|█████████████████████████████████▉                                       | 46520/100000 [50:22<1:28:10, 10.11it/s]"
     ]
    },
    {
     "name": "stdout",
     "output_type": "stream",
     "text": [
      "self.evaluation_deque: deque([0.4681007026967135, 0.44577889344754396, 0.449484901413876, 0.5520582668498928, 0.5091321069780098, 0.4052137313938509, 0.6547639919219918, 0.6461299994434102, 0.40510180765893455, 0.37830108117972494, 0.685157674568323, 0.0, 0.6227433601954578, 0.6394954723665767, 0.7471020841591045, 0.5473965793608582, 0.6092977724077194, 0.32726751016552597, 0.5312021304954121, 0.501620447462109], maxlen=20)\n",
      "eval_mean: 0.5062674257082518\n"
     ]
    },
    {
     "name": "stderr",
     "output_type": "stream",
     "text": [
      "\r",
      " 47%|██████████████████████████████████                                       | 46596/100000 [50:33<1:43:43,  8.58it/s]"
     ]
    },
    {
     "name": "stdout",
     "output_type": "stream",
     "text": [
      "self.evaluation_deque: deque([0.4681007026967135, 0.44577889344754396, 0.449484901413876, 0.5520582668498928, 0.5091321069780098, 0.4052137313938509, 0.6547639919219918, 0.6461299994434102, 0.40510180765893455, 0.37830108117972494, 0.685157674568323, 0.0, 0.6227433601954578, 0.6394954723665767, 0.7471020841591045, 0.5473965793608582, 0.6092977724077194, 0.32726751016552597, 0.5312021304954121, 0.501620447462109], maxlen=20)\n",
      "eval_mean: 0.5062674257082518\n"
     ]
    },
    {
     "name": "stderr",
     "output_type": "stream",
     "text": [
      "\r",
      " 47%|██████████████████████████████████                                       | 46672/100000 [50:41<1:39:06,  8.97it/s]"
     ]
    },
    {
     "name": "stdout",
     "output_type": "stream",
     "text": [
      "self.evaluation_deque: deque([0.4681007026967135, 0.44577889344754396, 0.449484901413876, 0.5520582668498928, 0.5091321069780098, 0.4052137313938509, 0.6547639919219918, 0.6461299994434102, 0.40510180765893455, 0.37830108117972494, 0.685157674568323, 0.0, 0.6227433601954578, 0.6394954723665767, 0.7471020841591045, 0.5473965793608582, 0.6092977724077194, 0.32726751016552597, 0.5312021304954121, 0.501620447462109], maxlen=20)\n",
      "eval_mean: 0.5062674257082518\n"
     ]
    },
    {
     "name": "stderr",
     "output_type": "stream",
     "text": [
      "\r",
      " 47%|██████████████████████████████████▏                                      | 46748/100000 [50:48<1:34:04,  9.43it/s]"
     ]
    },
    {
     "name": "stdout",
     "output_type": "stream",
     "text": [
      "self.get_collection_ratio(): 0.5369968180658876\n",
      "self.comms.count(True) : 1\n",
      "len(self.comms) : 1\n",
      "self.state.ratio_commed: 1.0\n",
      "self.comms.count(True) : 1\n",
      "len(self.comms) : 1\n",
      "self.evaluation_deque: deque([0.44577889344754396, 0.449484901413876, 0.5520582668498928, 0.5091321069780098, 0.4052137313938509, 0.6547639919219918, 0.6461299994434102, 0.40510180765893455, 0.37830108117972494, 0.685157674568323, 0.0, 0.6227433601954578, 0.6394954723665767, 0.7471020841591045, 0.5473965793608582, 0.6092977724077194, 0.32726751016552597, 0.5312021304954121, 0.501620447462109, 0.5369968180658876], maxlen=20)\n",
      "eval_mean: 0.5097122314767104\n"
     ]
    },
    {
     "name": "stderr",
     "output_type": "stream",
     "text": [
      "\r",
      " 47%|██████████████████████████████████▏                                      | 46824/100000 [50:54<1:24:56, 10.43it/s]"
     ]
    },
    {
     "name": "stdout",
     "output_type": "stream",
     "text": [
      "self.evaluation_deque: deque([0.44577889344754396, 0.449484901413876, 0.5520582668498928, 0.5091321069780098, 0.4052137313938509, 0.6547639919219918, 0.6461299994434102, 0.40510180765893455, 0.37830108117972494, 0.685157674568323, 0.0, 0.6227433601954578, 0.6394954723665767, 0.7471020841591045, 0.5473965793608582, 0.6092977724077194, 0.32726751016552597, 0.5312021304954121, 0.501620447462109, 0.5369968180658876], maxlen=20)\n",
      "eval_mean: 0.5097122314767104\n"
     ]
    },
    {
     "name": "stderr",
     "output_type": "stream",
     "text": [
      "\r",
      " 47%|██████████████████████████████████▏                                      | 46900/100000 [51:01<1:25:47, 10.32it/s]"
     ]
    },
    {
     "name": "stdout",
     "output_type": "stream",
     "text": [
      "self.evaluation_deque: deque([0.44577889344754396, 0.449484901413876, 0.5520582668498928, 0.5091321069780098, 0.4052137313938509, 0.6547639919219918, 0.6461299994434102, 0.40510180765893455, 0.37830108117972494, 0.685157674568323, 0.0, 0.6227433601954578, 0.6394954723665767, 0.7471020841591045, 0.5473965793608582, 0.6092977724077194, 0.32726751016552597, 0.5312021304954121, 0.501620447462109, 0.5369968180658876], maxlen=20)\n",
      "eval_mean: 0.5097122314767104\n"
     ]
    },
    {
     "name": "stderr",
     "output_type": "stream",
     "text": [
      "\r",
      " 47%|██████████████████████████████████▎                                      | 46976/100000 [51:07<1:19:16, 11.15it/s]"
     ]
    },
    {
     "name": "stdout",
     "output_type": "stream",
     "text": [
      "self.evaluation_deque: deque([0.44577889344754396, 0.449484901413876, 0.5520582668498928, 0.5091321069780098, 0.4052137313938509, 0.6547639919219918, 0.6461299994434102, 0.40510180765893455, 0.37830108117972494, 0.685157674568323, 0.0, 0.6227433601954578, 0.6394954723665767, 0.7471020841591045, 0.5473965793608582, 0.6092977724077194, 0.32726751016552597, 0.5312021304954121, 0.501620447462109, 0.5369968180658876], maxlen=20)\n",
      "eval_mean: 0.5097122314767104\n"
     ]
    },
    {
     "name": "stderr",
     "output_type": "stream",
     "text": [
      "\r",
      " 47%|██████████████████████████████████▎                                      | 47052/100000 [51:14<1:21:39, 10.81it/s]"
     ]
    },
    {
     "name": "stdout",
     "output_type": "stream",
     "text": [
      "self.evaluation_deque: deque([0.44577889344754396, 0.449484901413876, 0.5520582668498928, 0.5091321069780098, 0.4052137313938509, 0.6547639919219918, 0.6461299994434102, 0.40510180765893455, 0.37830108117972494, 0.685157674568323, 0.0, 0.6227433601954578, 0.6394954723665767, 0.7471020841591045, 0.5473965793608582, 0.6092977724077194, 0.32726751016552597, 0.5312021304954121, 0.501620447462109, 0.5369968180658876], maxlen=20)\n",
      "eval_mean: 0.5097122314767104\n"
     ]
    },
    {
     "name": "stderr",
     "output_type": "stream",
     "text": [
      "\r",
      " 47%|██████████████████████████████████▍                                      | 47128/100000 [51:25<1:34:14,  9.35it/s]"
     ]
    },
    {
     "name": "stdout",
     "output_type": "stream",
     "text": [
      "self.get_collection_ratio(): 0.8476002422353744\n",
      "self.comms.count(True) : 2\n",
      "len(self.comms) : 3\n",
      "self.state.ratio_commed: 0.6666666666666666\n",
      "self.comms.count(True) : 2\n",
      "len(self.comms) : 3\n",
      "self.evaluation_deque: deque([0.449484901413876, 0.5520582668498928, 0.5091321069780098, 0.4052137313938509, 0.6547639919219918, 0.6461299994434102, 0.40510180765893455, 0.37830108117972494, 0.685157674568323, 0.0, 0.6227433601954578, 0.6394954723665767, 0.7471020841591045, 0.5473965793608582, 0.6092977724077194, 0.32726751016552597, 0.5312021304954121, 0.501620447462109, 0.5369968180658876, 0.5650668281569162], maxlen=20)\n",
      "eval_mean: 0.515676628212179\n"
     ]
    },
    {
     "name": "stderr",
     "output_type": "stream",
     "text": [
      "\r",
      " 47%|██████████████████████████████████▍                                      | 47204/100000 [51:33<1:33:06,  9.45it/s]"
     ]
    },
    {
     "name": "stdout",
     "output_type": "stream",
     "text": [
      "self.evaluation_deque: deque([0.449484901413876, 0.5520582668498928, 0.5091321069780098, 0.4052137313938509, 0.6547639919219918, 0.6461299994434102, 0.40510180765893455, 0.37830108117972494, 0.685157674568323, 0.0, 0.6227433601954578, 0.6394954723665767, 0.7471020841591045, 0.5473965793608582, 0.6092977724077194, 0.32726751016552597, 0.5312021304954121, 0.501620447462109, 0.5369968180658876, 0.5650668281569162], maxlen=20)\n",
      "eval_mean: 0.515676628212179\n"
     ]
    },
    {
     "name": "stderr",
     "output_type": "stream",
     "text": [
      "\r",
      " 47%|██████████████████████████████████▌                                      | 47280/100000 [51:41<1:32:06,  9.54it/s]"
     ]
    },
    {
     "name": "stdout",
     "output_type": "stream",
     "text": [
      "self.evaluation_deque: deque([0.449484901413876, 0.5520582668498928, 0.5091321069780098, 0.4052137313938509, 0.6547639919219918, 0.6461299994434102, 0.40510180765893455, 0.37830108117972494, 0.685157674568323, 0.0, 0.6227433601954578, 0.6394954723665767, 0.7471020841591045, 0.5473965793608582, 0.6092977724077194, 0.32726751016552597, 0.5312021304954121, 0.501620447462109, 0.5369968180658876, 0.5650668281569162], maxlen=20)\n",
      "eval_mean: 0.515676628212179\n"
     ]
    },
    {
     "name": "stderr",
     "output_type": "stream",
     "text": [
      "\r",
      " 47%|██████████████████████████████████▌                                      | 47356/100000 [51:46<1:23:43, 10.48it/s]"
     ]
    },
    {
     "name": "stdout",
     "output_type": "stream",
     "text": [
      "self.evaluation_deque: deque([0.449484901413876, 0.5520582668498928, 0.5091321069780098, 0.4052137313938509, 0.6547639919219918, 0.6461299994434102, 0.40510180765893455, 0.37830108117972494, 0.685157674568323, 0.0, 0.6227433601954578, 0.6394954723665767, 0.7471020841591045, 0.5473965793608582, 0.6092977724077194, 0.32726751016552597, 0.5312021304954121, 0.501620447462109, 0.5369968180658876, 0.5650668281569162], maxlen=20)\n",
      "eval_mean: 0.515676628212179\n"
     ]
    },
    {
     "name": "stderr",
     "output_type": "stream",
     "text": [
      "\r",
      " 47%|██████████████████████████████████▋                                      | 47432/100000 [51:54<1:23:58, 10.43it/s]"
     ]
    },
    {
     "name": "stdout",
     "output_type": "stream",
     "text": [
      "self.evaluation_deque: deque([0.449484901413876, 0.5520582668498928, 0.5091321069780098, 0.4052137313938509, 0.6547639919219918, 0.6461299994434102, 0.40510180765893455, 0.37830108117972494, 0.685157674568323, 0.0, 0.6227433601954578, 0.6394954723665767, 0.7471020841591045, 0.5473965793608582, 0.6092977724077194, 0.32726751016552597, 0.5312021304954121, 0.501620447462109, 0.5369968180658876, 0.5650668281569162], maxlen=20)\n",
      "eval_mean: 0.515676628212179\n"
     ]
    },
    {
     "name": "stderr",
     "output_type": "stream",
     "text": [
      "\r",
      " 48%|██████████████████████████████████▋                                      | 47508/100000 [52:01<1:25:55, 10.18it/s]"
     ]
    },
    {
     "name": "stdout",
     "output_type": "stream",
     "text": [
      "self.get_collection_ratio(): 0.7417482750232993\n",
      "self.comms.count(True) : 2\n",
      "len(self.comms) : 2\n",
      "self.state.ratio_commed: 1.0\n",
      "self.comms.count(True) : 2\n",
      "len(self.comms) : 2\n",
      "self.evaluation_deque: deque([0.5520582668498928, 0.5091321069780098, 0.4052137313938509, 0.6547639919219918, 0.6461299994434102, 0.40510180765893455, 0.37830108117972494, 0.685157674568323, 0.0, 0.6227433601954578, 0.6394954723665767, 0.7471020841591045, 0.5473965793608582, 0.6092977724077194, 0.32726751016552597, 0.5312021304954121, 0.501620447462109, 0.5369968180658876, 0.5650668281569162, 0.7417482750232993], maxlen=20)\n",
      "eval_mean: 0.5302897968926502\n",
      "Saving best with: 0.5302897968926502\n"
     ]
    },
    {
     "name": "stderr",
     "output_type": "stream",
     "text": [
      "\r",
      " 48%|██████████████████████████████████▋                                      | 47584/100000 [52:08<1:23:01, 10.52it/s]"
     ]
    },
    {
     "name": "stdout",
     "output_type": "stream",
     "text": [
      "self.evaluation_deque: deque([0.5520582668498928, 0.5091321069780098, 0.4052137313938509, 0.6547639919219918, 0.6461299994434102, 0.40510180765893455, 0.37830108117972494, 0.685157674568323, 0.0, 0.6227433601954578, 0.6394954723665767, 0.7471020841591045, 0.5473965793608582, 0.6092977724077194, 0.32726751016552597, 0.5312021304954121, 0.501620447462109, 0.5369968180658876, 0.5650668281569162, 0.7417482750232993], maxlen=20)\n",
      "eval_mean: 0.5302897968926502\n"
     ]
    },
    {
     "name": "stderr",
     "output_type": "stream",
     "text": [
      "\r",
      " 48%|██████████████████████████████████▊                                      | 47660/100000 [52:15<1:20:53, 10.78it/s]"
     ]
    },
    {
     "name": "stdout",
     "output_type": "stream",
     "text": [
      "self.evaluation_deque: deque([0.5520582668498928, 0.5091321069780098, 0.4052137313938509, 0.6547639919219918, 0.6461299994434102, 0.40510180765893455, 0.37830108117972494, 0.685157674568323, 0.0, 0.6227433601954578, 0.6394954723665767, 0.7471020841591045, 0.5473965793608582, 0.6092977724077194, 0.32726751016552597, 0.5312021304954121, 0.501620447462109, 0.5369968180658876, 0.5650668281569162, 0.7417482750232993], maxlen=20)\n",
      "eval_mean: 0.5302897968926502\n"
     ]
    },
    {
     "name": "stderr",
     "output_type": "stream",
     "text": [
      "\r",
      " 48%|██████████████████████████████████▊                                      | 47736/100000 [52:21<1:19:36, 10.94it/s]"
     ]
    },
    {
     "name": "stdout",
     "output_type": "stream",
     "text": [
      "self.evaluation_deque: deque([0.5520582668498928, 0.5091321069780098, 0.4052137313938509, 0.6547639919219918, 0.6461299994434102, 0.40510180765893455, 0.37830108117972494, 0.685157674568323, 0.0, 0.6227433601954578, 0.6394954723665767, 0.7471020841591045, 0.5473965793608582, 0.6092977724077194, 0.32726751016552597, 0.5312021304954121, 0.501620447462109, 0.5369968180658876, 0.5650668281569162, 0.7417482750232993], maxlen=20)\n",
      "eval_mean: 0.5302897968926502\n"
     ]
    },
    {
     "name": "stderr",
     "output_type": "stream",
     "text": [
      "\r",
      " 48%|██████████████████████████████████▉                                      | 47812/100000 [52:27<1:14:34, 11.66it/s]"
     ]
    },
    {
     "name": "stdout",
     "output_type": "stream",
     "text": [
      "self.evaluation_deque: deque([0.5520582668498928, 0.5091321069780098, 0.4052137313938509, 0.6547639919219918, 0.6461299994434102, 0.40510180765893455, 0.37830108117972494, 0.685157674568323, 0.0, 0.6227433601954578, 0.6394954723665767, 0.7471020841591045, 0.5473965793608582, 0.6092977724077194, 0.32726751016552597, 0.5312021304954121, 0.501620447462109, 0.5369968180658876, 0.5650668281569162, 0.7417482750232993], maxlen=20)\n",
      "eval_mean: 0.5302897968926502\n"
     ]
    },
    {
     "name": "stderr",
     "output_type": "stream",
     "text": [
      "\r",
      " 48%|██████████████████████████████████▉                                      | 47888/100000 [52:35<1:21:16, 10.69it/s]"
     ]
    },
    {
     "name": "stdout",
     "output_type": "stream",
     "text": [
      "self.get_collection_ratio(): 0.8578759045445417\n",
      "self.comms.count(True) : 2\n",
      "len(self.comms) : 3\n",
      "self.state.ratio_commed: 0.6666666666666666\n",
      "self.comms.count(True) : 2\n",
      "len(self.comms) : 3\n",
      "self.evaluation_deque: deque([0.5091321069780098, 0.4052137313938509, 0.6547639919219918, 0.6461299994434102, 0.40510180765893455, 0.37830108117972494, 0.685157674568323, 0.0, 0.6227433601954578, 0.6394954723665767, 0.7471020841591045, 0.5473965793608582, 0.6092977724077194, 0.32726751016552597, 0.5312021304954121, 0.501620447462109, 0.5369968180658876, 0.5650668281569162, 0.7417482750232993, 0.571917269696361], maxlen=20)\n",
      "eval_mean: 0.5312827470349736\n",
      "Saving best with: 0.5312827470349736\n"
     ]
    },
    {
     "name": "stderr",
     "output_type": "stream",
     "text": [
      "\r",
      " 48%|███████████████████████████████████                                      | 47964/100000 [52:42<1:20:28, 10.78it/s]"
     ]
    },
    {
     "name": "stdout",
     "output_type": "stream",
     "text": [
      "self.evaluation_deque: deque([0.5091321069780098, 0.4052137313938509, 0.6547639919219918, 0.6461299994434102, 0.40510180765893455, 0.37830108117972494, 0.685157674568323, 0.0, 0.6227433601954578, 0.6394954723665767, 0.7471020841591045, 0.5473965793608582, 0.6092977724077194, 0.32726751016552597, 0.5312021304954121, 0.501620447462109, 0.5369968180658876, 0.5650668281569162, 0.7417482750232993, 0.571917269696361], maxlen=20)\n",
      "eval_mean: 0.5312827470349736\n"
     ]
    },
    {
     "name": "stderr",
     "output_type": "stream",
     "text": [
      "\r",
      " 48%|███████████████████████████████████                                      | 48040/100000 [52:50<1:23:44, 10.34it/s]"
     ]
    },
    {
     "name": "stdout",
     "output_type": "stream",
     "text": [
      "self.evaluation_deque: deque([0.5091321069780098, 0.4052137313938509, 0.6547639919219918, 0.6461299994434102, 0.40510180765893455, 0.37830108117972494, 0.685157674568323, 0.0, 0.6227433601954578, 0.6394954723665767, 0.7471020841591045, 0.5473965793608582, 0.6092977724077194, 0.32726751016552597, 0.5312021304954121, 0.501620447462109, 0.5369968180658876, 0.5650668281569162, 0.7417482750232993, 0.571917269696361], maxlen=20)\n",
      "eval_mean: 0.5312827470349736\n"
     ]
    },
    {
     "name": "stderr",
     "output_type": "stream",
     "text": [
      "\r",
      " 48%|███████████████████████████████████                                      | 48116/100000 [52:58<1:25:59, 10.06it/s]"
     ]
    },
    {
     "name": "stdout",
     "output_type": "stream",
     "text": [
      "self.evaluation_deque: deque([0.5091321069780098, 0.4052137313938509, 0.6547639919219918, 0.6461299994434102, 0.40510180765893455, 0.37830108117972494, 0.685157674568323, 0.0, 0.6227433601954578, 0.6394954723665767, 0.7471020841591045, 0.5473965793608582, 0.6092977724077194, 0.32726751016552597, 0.5312021304954121, 0.501620447462109, 0.5369968180658876, 0.5650668281569162, 0.7417482750232993, 0.571917269696361], maxlen=20)\n",
      "eval_mean: 0.5312827470349736\n"
     ]
    },
    {
     "name": "stderr",
     "output_type": "stream",
     "text": [
      "\r",
      " 48%|███████████████████████████████████▏                                     | 48192/100000 [53:04<1:19:47, 10.82it/s]"
     ]
    },
    {
     "name": "stdout",
     "output_type": "stream",
     "text": [
      "self.evaluation_deque: deque([0.5091321069780098, 0.4052137313938509, 0.6547639919219918, 0.6461299994434102, 0.40510180765893455, 0.37830108117972494, 0.685157674568323, 0.0, 0.6227433601954578, 0.6394954723665767, 0.7471020841591045, 0.5473965793608582, 0.6092977724077194, 0.32726751016552597, 0.5312021304954121, 0.501620447462109, 0.5369968180658876, 0.5650668281569162, 0.7417482750232993, 0.571917269696361], maxlen=20)\n",
      "eval_mean: 0.5312827470349736\n"
     ]
    },
    {
     "name": "stderr",
     "output_type": "stream",
     "text": [
      "\r",
      " 48%|███████████████████████████████████▏                                     | 48268/100000 [53:14<1:30:20,  9.54it/s]"
     ]
    },
    {
     "name": "stdout",
     "output_type": "stream",
     "text": [
      "self.get_collection_ratio(): 0.7166534112782591\n",
      "self.comms.count(True) : 2\n",
      "len(self.comms) : 2\n",
      "self.state.ratio_commed: 1.0\n",
      "self.comms.count(True) : 2\n",
      "len(self.comms) : 2\n",
      "self.evaluation_deque: deque([0.4052137313938509, 0.6547639919219918, 0.6461299994434102, 0.40510180765893455, 0.37830108117972494, 0.685157674568323, 0.0, 0.6227433601954578, 0.6394954723665767, 0.7471020841591045, 0.5473965793608582, 0.6092977724077194, 0.32726751016552597, 0.5312021304954121, 0.501620447462109, 0.5369968180658876, 0.5650668281569162, 0.7417482750232993, 0.571917269696361, 0.7166534112782591], maxlen=20)\n",
      "eval_mean: 0.5416588122499861\n",
      "Saving best with: 0.5416588122499861\n"
     ]
    },
    {
     "name": "stderr",
     "output_type": "stream",
     "text": [
      "\r",
      " 48%|███████████████████████████████████▎                                     | 48344/100000 [53:20<1:22:46, 10.40it/s]"
     ]
    },
    {
     "name": "stdout",
     "output_type": "stream",
     "text": [
      "self.evaluation_deque: deque([0.4052137313938509, 0.6547639919219918, 0.6461299994434102, 0.40510180765893455, 0.37830108117972494, 0.685157674568323, 0.0, 0.6227433601954578, 0.6394954723665767, 0.7471020841591045, 0.5473965793608582, 0.6092977724077194, 0.32726751016552597, 0.5312021304954121, 0.501620447462109, 0.5369968180658876, 0.5650668281569162, 0.7417482750232993, 0.571917269696361, 0.7166534112782591], maxlen=20)\n",
      "eval_mean: 0.5416588122499861\n"
     ]
    },
    {
     "name": "stderr",
     "output_type": "stream",
     "text": [
      "\r",
      " 48%|███████████████████████████████████▎                                     | 48420/100000 [53:27<1:21:19, 10.57it/s]"
     ]
    },
    {
     "name": "stdout",
     "output_type": "stream",
     "text": [
      "self.evaluation_deque: deque([0.4052137313938509, 0.6547639919219918, 0.6461299994434102, 0.40510180765893455, 0.37830108117972494, 0.685157674568323, 0.0, 0.6227433601954578, 0.6394954723665767, 0.7471020841591045, 0.5473965793608582, 0.6092977724077194, 0.32726751016552597, 0.5312021304954121, 0.501620447462109, 0.5369968180658876, 0.5650668281569162, 0.7417482750232993, 0.571917269696361, 0.7166534112782591], maxlen=20)\n",
      "eval_mean: 0.5416588122499861\n"
     ]
    },
    {
     "name": "stderr",
     "output_type": "stream",
     "text": [
      "\r",
      " 48%|███████████████████████████████████▍                                     | 48496/100000 [53:33<1:16:37, 11.20it/s]"
     ]
    },
    {
     "name": "stdout",
     "output_type": "stream",
     "text": [
      "self.evaluation_deque: deque([0.4052137313938509, 0.6547639919219918, 0.6461299994434102, 0.40510180765893455, 0.37830108117972494, 0.685157674568323, 0.0, 0.6227433601954578, 0.6394954723665767, 0.7471020841591045, 0.5473965793608582, 0.6092977724077194, 0.32726751016552597, 0.5312021304954121, 0.501620447462109, 0.5369968180658876, 0.5650668281569162, 0.7417482750232993, 0.571917269696361, 0.7166534112782591], maxlen=20)\n",
      "eval_mean: 0.5416588122499861\n"
     ]
    },
    {
     "name": "stderr",
     "output_type": "stream",
     "text": [
      "\r",
      " 49%|███████████████████████████████████▍                                     | 48572/100000 [53:40<1:16:04, 11.27it/s]"
     ]
    },
    {
     "name": "stdout",
     "output_type": "stream",
     "text": [
      "self.evaluation_deque: deque([0.4052137313938509, 0.6547639919219918, 0.6461299994434102, 0.40510180765893455, 0.37830108117972494, 0.685157674568323, 0.0, 0.6227433601954578, 0.6394954723665767, 0.7471020841591045, 0.5473965793608582, 0.6092977724077194, 0.32726751016552597, 0.5312021304954121, 0.501620447462109, 0.5369968180658876, 0.5650668281569162, 0.7417482750232993, 0.571917269696361, 0.7166534112782591], maxlen=20)\n",
      "eval_mean: 0.5416588122499861\n"
     ]
    },
    {
     "name": "stderr",
     "output_type": "stream",
     "text": [
      "\r",
      " 49%|███████████████████████████████████▌                                     | 48648/100000 [53:48<1:22:44, 10.34it/s]"
     ]
    },
    {
     "name": "stdout",
     "output_type": "stream",
     "text": [
      "self.get_collection_ratio(): 0.8754724284273113\n",
      "self.comms.count(True) : 2\n",
      "len(self.comms) : 3\n",
      "self.state.ratio_commed: 0.6666666666666666\n",
      "self.comms.count(True) : 2\n",
      "len(self.comms) : 3\n",
      "self.evaluation_deque: deque([0.6547639919219918, 0.6461299994434102, 0.40510180765893455, 0.37830108117972494, 0.685157674568323, 0.0, 0.6227433601954578, 0.6394954723665767, 0.7471020841591045, 0.5473965793608582, 0.6092977724077194, 0.32726751016552597, 0.5312021304954121, 0.501620447462109, 0.5369968180658876, 0.5650668281569162, 0.7417482750232993, 0.571917269696361, 0.7166534112782591, 0.5836482856182075], maxlen=20)\n",
      "eval_mean: 0.5505805399612038\n",
      "Saving best with: 0.5505805399612038\n"
     ]
    },
    {
     "name": "stderr",
     "output_type": "stream",
     "text": [
      "\r",
      " 49%|███████████████████████████████████▌                                     | 48724/100000 [53:54<1:17:15, 11.06it/s]"
     ]
    },
    {
     "name": "stdout",
     "output_type": "stream",
     "text": [
      "self.evaluation_deque: deque([0.6547639919219918, 0.6461299994434102, 0.40510180765893455, 0.37830108117972494, 0.685157674568323, 0.0, 0.6227433601954578, 0.6394954723665767, 0.7471020841591045, 0.5473965793608582, 0.6092977724077194, 0.32726751016552597, 0.5312021304954121, 0.501620447462109, 0.5369968180658876, 0.5650668281569162, 0.7417482750232993, 0.571917269696361, 0.7166534112782591, 0.5836482856182075], maxlen=20)\n",
      "eval_mean: 0.5505805399612038\n"
     ]
    },
    {
     "name": "stderr",
     "output_type": "stream",
     "text": [
      "\r",
      " 49%|███████████████████████████████████▌                                     | 48800/100000 [54:00<1:13:17, 11.64it/s]"
     ]
    },
    {
     "name": "stdout",
     "output_type": "stream",
     "text": [
      "self.evaluation_deque: deque([0.6547639919219918, 0.6461299994434102, 0.40510180765893455, 0.37830108117972494, 0.685157674568323, 0.0, 0.6227433601954578, 0.6394954723665767, 0.7471020841591045, 0.5473965793608582, 0.6092977724077194, 0.32726751016552597, 0.5312021304954121, 0.501620447462109, 0.5369968180658876, 0.5650668281569162, 0.7417482750232993, 0.571917269696361, 0.7166534112782591, 0.5836482856182075], maxlen=20)\n",
      "eval_mean: 0.5505805399612038\n"
     ]
    },
    {
     "name": "stderr",
     "output_type": "stream",
     "text": [
      "\r",
      " 49%|███████████████████████████████████▋                                     | 48876/100000 [54:07<1:16:53, 11.08it/s]"
     ]
    },
    {
     "name": "stdout",
     "output_type": "stream",
     "text": [
      "self.evaluation_deque: deque([0.6547639919219918, 0.6461299994434102, 0.40510180765893455, 0.37830108117972494, 0.685157674568323, 0.0, 0.6227433601954578, 0.6394954723665767, 0.7471020841591045, 0.5473965793608582, 0.6092977724077194, 0.32726751016552597, 0.5312021304954121, 0.501620447462109, 0.5369968180658876, 0.5650668281569162, 0.7417482750232993, 0.571917269696361, 0.7166534112782591, 0.5836482856182075], maxlen=20)\n",
      "eval_mean: 0.5505805399612038\n"
     ]
    },
    {
     "name": "stderr",
     "output_type": "stream",
     "text": [
      "\r",
      " 49%|███████████████████████████████████▋                                     | 48952/100000 [54:13<1:13:00, 11.65it/s]"
     ]
    },
    {
     "name": "stdout",
     "output_type": "stream",
     "text": [
      "self.evaluation_deque: deque([0.6547639919219918, 0.6461299994434102, 0.40510180765893455, 0.37830108117972494, 0.685157674568323, 0.0, 0.6227433601954578, 0.6394954723665767, 0.7471020841591045, 0.5473965793608582, 0.6092977724077194, 0.32726751016552597, 0.5312021304954121, 0.501620447462109, 0.5369968180658876, 0.5650668281569162, 0.7417482750232993, 0.571917269696361, 0.7166534112782591, 0.5836482856182075], maxlen=20)\n",
      "eval_mean: 0.5505805399612038\n"
     ]
    },
    {
     "name": "stderr",
     "output_type": "stream",
     "text": [
      "\r",
      " 49%|███████████████████████████████████▊                                     | 49028/100000 [54:23<1:22:52, 10.25it/s]"
     ]
    },
    {
     "name": "stdout",
     "output_type": "stream",
     "text": [
      "self.get_collection_ratio(): 0.6758917555889978\n",
      "self.comms.count(True) : 2\n",
      "len(self.comms) : 2\n",
      "self.state.ratio_commed: 1.0\n",
      "self.comms.count(True) : 2\n",
      "len(self.comms) : 2\n",
      "self.evaluation_deque: deque([0.6461299994434102, 0.40510180765893455, 0.37830108117972494, 0.685157674568323, 0.0, 0.6227433601954578, 0.6394954723665767, 0.7471020841591045, 0.5473965793608582, 0.6092977724077194, 0.32726751016552597, 0.5312021304954121, 0.501620447462109, 0.5369968180658876, 0.5650668281569162, 0.7417482750232993, 0.571917269696361, 0.7166534112782591, 0.5836482856182075, 0.6758917555889978], maxlen=20)\n",
      "eval_mean: 0.5516369281445541\n",
      "Saving best with: 0.5516369281445541\n"
     ]
    },
    {
     "name": "stderr",
     "output_type": "stream",
     "text": [
      "\r",
      " 49%|███████████████████████████████████▊                                     | 49104/100000 [54:28<1:17:12, 10.99it/s]"
     ]
    },
    {
     "name": "stdout",
     "output_type": "stream",
     "text": [
      "self.evaluation_deque: deque([0.6461299994434102, 0.40510180765893455, 0.37830108117972494, 0.685157674568323, 0.0, 0.6227433601954578, 0.6394954723665767, 0.7471020841591045, 0.5473965793608582, 0.6092977724077194, 0.32726751016552597, 0.5312021304954121, 0.501620447462109, 0.5369968180658876, 0.5650668281569162, 0.7417482750232993, 0.571917269696361, 0.7166534112782591, 0.5836482856182075, 0.6758917555889978], maxlen=20)\n",
      "eval_mean: 0.5516369281445541\n"
     ]
    },
    {
     "name": "stderr",
     "output_type": "stream",
     "text": [
      "\r",
      " 49%|███████████████████████████████████▉                                     | 49180/100000 [54:35<1:17:15, 10.96it/s]"
     ]
    },
    {
     "name": "stdout",
     "output_type": "stream",
     "text": [
      "self.evaluation_deque: deque([0.6461299994434102, 0.40510180765893455, 0.37830108117972494, 0.685157674568323, 0.0, 0.6227433601954578, 0.6394954723665767, 0.7471020841591045, 0.5473965793608582, 0.6092977724077194, 0.32726751016552597, 0.5312021304954121, 0.501620447462109, 0.5369968180658876, 0.5650668281569162, 0.7417482750232993, 0.571917269696361, 0.7166534112782591, 0.5836482856182075, 0.6758917555889978], maxlen=20)\n",
      "eval_mean: 0.5516369281445541\n"
     ]
    },
    {
     "name": "stderr",
     "output_type": "stream",
     "text": [
      "\r",
      " 49%|███████████████████████████████████▉                                     | 49256/100000 [54:42<1:16:11, 11.10it/s]"
     ]
    },
    {
     "name": "stdout",
     "output_type": "stream",
     "text": [
      "self.evaluation_deque: deque([0.6461299994434102, 0.40510180765893455, 0.37830108117972494, 0.685157674568323, 0.0, 0.6227433601954578, 0.6394954723665767, 0.7471020841591045, 0.5473965793608582, 0.6092977724077194, 0.32726751016552597, 0.5312021304954121, 0.501620447462109, 0.5369968180658876, 0.5650668281569162, 0.7417482750232993, 0.571917269696361, 0.7166534112782591, 0.5836482856182075, 0.6758917555889978], maxlen=20)\n",
      "eval_mean: 0.5516369281445541\n"
     ]
    },
    {
     "name": "stderr",
     "output_type": "stream",
     "text": [
      "\r",
      " 49%|████████████████████████████████████                                     | 49332/100000 [54:49<1:16:19, 11.06it/s]"
     ]
    },
    {
     "name": "stdout",
     "output_type": "stream",
     "text": [
      "self.evaluation_deque: deque([0.6461299994434102, 0.40510180765893455, 0.37830108117972494, 0.685157674568323, 0.0, 0.6227433601954578, 0.6394954723665767, 0.7471020841591045, 0.5473965793608582, 0.6092977724077194, 0.32726751016552597, 0.5312021304954121, 0.501620447462109, 0.5369968180658876, 0.5650668281569162, 0.7417482750232993, 0.571917269696361, 0.7166534112782591, 0.5836482856182075, 0.6758917555889978], maxlen=20)\n",
      "eval_mean: 0.5516369281445541\n"
     ]
    },
    {
     "name": "stderr",
     "output_type": "stream",
     "text": [
      "\r",
      " 49%|████████████████████████████████████                                     | 49408/100000 [54:58<1:22:13, 10.25it/s]"
     ]
    },
    {
     "name": "stdout",
     "output_type": "stream",
     "text": [
      "self.get_collection_ratio(): 0.8970450082462392\n",
      "self.comms.count(True) : 2\n",
      "len(self.comms) : 3\n",
      "self.state.ratio_commed: 0.6666666666666666\n",
      "self.comms.count(True) : 2\n",
      "len(self.comms) : 3\n",
      "self.evaluation_deque: deque([0.40510180765893455, 0.37830108117972494, 0.685157674568323, 0.0, 0.6227433601954578, 0.6394954723665767, 0.7471020841591045, 0.5473965793608582, 0.6092977724077194, 0.32726751016552597, 0.5312021304954121, 0.501620447462109, 0.5369968180658876, 0.5650668281569162, 0.7417482750232993, 0.571917269696361, 0.7166534112782591, 0.5836482856182075, 0.6758917555889978, 0.5980300054974927], maxlen=20)\n",
      "eval_mean: 0.5492319284472584\n"
     ]
    },
    {
     "name": "stderr",
     "output_type": "stream",
     "text": [
      "\r",
      " 49%|████████████████████████████████████                                     | 49484/100000 [55:04<1:20:20, 10.48it/s]"
     ]
    },
    {
     "name": "stdout",
     "output_type": "stream",
     "text": [
      "self.evaluation_deque: deque([0.40510180765893455, 0.37830108117972494, 0.685157674568323, 0.0, 0.6227433601954578, 0.6394954723665767, 0.7471020841591045, 0.5473965793608582, 0.6092977724077194, 0.32726751016552597, 0.5312021304954121, 0.501620447462109, 0.5369968180658876, 0.5650668281569162, 0.7417482750232993, 0.571917269696361, 0.7166534112782591, 0.5836482856182075, 0.6758917555889978, 0.5980300054974927], maxlen=20)\n",
      "eval_mean: 0.5492319284472584\n"
     ]
    },
    {
     "name": "stderr",
     "output_type": "stream",
     "text": [
      "\r",
      " 50%|████████████████████████████████████▏                                    | 49560/100000 [55:10<1:15:09, 11.19it/s]"
     ]
    },
    {
     "name": "stdout",
     "output_type": "stream",
     "text": [
      "self.evaluation_deque: deque([0.40510180765893455, 0.37830108117972494, 0.685157674568323, 0.0, 0.6227433601954578, 0.6394954723665767, 0.7471020841591045, 0.5473965793608582, 0.6092977724077194, 0.32726751016552597, 0.5312021304954121, 0.501620447462109, 0.5369968180658876, 0.5650668281569162, 0.7417482750232993, 0.571917269696361, 0.7166534112782591, 0.5836482856182075, 0.6758917555889978, 0.5980300054974927], maxlen=20)\n",
      "eval_mean: 0.5492319284472584\n"
     ]
    },
    {
     "name": "stderr",
     "output_type": "stream",
     "text": [
      "\r",
      " 50%|████████████████████████████████████▏                                    | 49636/100000 [55:17<1:15:20, 11.14it/s]"
     ]
    },
    {
     "name": "stdout",
     "output_type": "stream",
     "text": [
      "self.evaluation_deque: deque([0.40510180765893455, 0.37830108117972494, 0.685157674568323, 0.0, 0.6227433601954578, 0.6394954723665767, 0.7471020841591045, 0.5473965793608582, 0.6092977724077194, 0.32726751016552597, 0.5312021304954121, 0.501620447462109, 0.5369968180658876, 0.5650668281569162, 0.7417482750232993, 0.571917269696361, 0.7166534112782591, 0.5836482856182075, 0.6758917555889978, 0.5980300054974927], maxlen=20)\n",
      "eval_mean: 0.5492319284472584\n"
     ]
    },
    {
     "name": "stderr",
     "output_type": "stream",
     "text": [
      "\r",
      " 50%|████████████████████████████████████▎                                    | 49712/100000 [55:24<1:15:54, 11.04it/s]"
     ]
    },
    {
     "name": "stdout",
     "output_type": "stream",
     "text": [
      "self.evaluation_deque: deque([0.40510180765893455, 0.37830108117972494, 0.685157674568323, 0.0, 0.6227433601954578, 0.6394954723665767, 0.7471020841591045, 0.5473965793608582, 0.6092977724077194, 0.32726751016552597, 0.5312021304954121, 0.501620447462109, 0.5369968180658876, 0.5650668281569162, 0.7417482750232993, 0.571917269696361, 0.7166534112782591, 0.5836482856182075, 0.6758917555889978, 0.5980300054974927], maxlen=20)\n",
      "eval_mean: 0.5492319284472584\n"
     ]
    },
    {
     "name": "stderr",
     "output_type": "stream",
     "text": [
      "\r",
      " 50%|████████████████████████████████████▎                                    | 49788/100000 [55:37<1:36:21,  8.69it/s]"
     ]
    },
    {
     "name": "stdout",
     "output_type": "stream",
     "text": [
      "self.get_collection_ratio(): 0.5261081484229484\n",
      "self.comms.count(True) : 1\n",
      "len(self.comms) : 1\n",
      "self.state.ratio_commed: 1.0\n",
      "self.comms.count(True) : 1\n",
      "len(self.comms) : 1\n",
      "self.evaluation_deque: deque([0.37830108117972494, 0.685157674568323, 0.0, 0.6227433601954578, 0.6394954723665767, 0.7471020841591045, 0.5473965793608582, 0.6092977724077194, 0.32726751016552597, 0.5312021304954121, 0.501620447462109, 0.5369968180658876, 0.5650668281569162, 0.7417482750232993, 0.571917269696361, 0.7166534112782591, 0.5836482856182075, 0.6758917555889978, 0.5980300054974927, 0.5261081484229484], maxlen=20)\n",
      "eval_mean: 0.555282245485459\n",
      "Saving best with: 0.555282245485459\n"
     ]
    },
    {
     "name": "stderr",
     "output_type": "stream",
     "text": [
      "\r",
      " 50%|████████████████████████████████████▍                                    | 49864/100000 [55:43<1:26:43,  9.63it/s]"
     ]
    },
    {
     "name": "stdout",
     "output_type": "stream",
     "text": [
      "self.evaluation_deque: deque([0.37830108117972494, 0.685157674568323, 0.0, 0.6227433601954578, 0.6394954723665767, 0.7471020841591045, 0.5473965793608582, 0.6092977724077194, 0.32726751016552597, 0.5312021304954121, 0.501620447462109, 0.5369968180658876, 0.5650668281569162, 0.7417482750232993, 0.571917269696361, 0.7166534112782591, 0.5836482856182075, 0.6758917555889978, 0.5980300054974927, 0.5261081484229484], maxlen=20)\n",
      "eval_mean: 0.555282245485459\n"
     ]
    },
    {
     "name": "stderr",
     "output_type": "stream",
     "text": [
      "\r",
      " 50%|████████████████████████████████████▍                                    | 49940/100000 [55:51<1:27:09,  9.57it/s]"
     ]
    },
    {
     "name": "stdout",
     "output_type": "stream",
     "text": [
      "self.evaluation_deque: deque([0.37830108117972494, 0.685157674568323, 0.0, 0.6227433601954578, 0.6394954723665767, 0.7471020841591045, 0.5473965793608582, 0.6092977724077194, 0.32726751016552597, 0.5312021304954121, 0.501620447462109, 0.5369968180658876, 0.5650668281569162, 0.7417482750232993, 0.571917269696361, 0.7166534112782591, 0.5836482856182075, 0.6758917555889978, 0.5980300054974927, 0.5261081484229484], maxlen=20)\n",
      "eval_mean: 0.555282245485459\n"
     ]
    },
    {
     "name": "stderr",
     "output_type": "stream",
     "text": [
      "\r",
      " 50%|████████████████████████████████████▌                                    | 50016/100000 [55:59<1:27:37,  9.51it/s]"
     ]
    },
    {
     "name": "stdout",
     "output_type": "stream",
     "text": [
      "self.evaluation_deque: deque([0.37830108117972494, 0.685157674568323, 0.0, 0.6227433601954578, 0.6394954723665767, 0.7471020841591045, 0.5473965793608582, 0.6092977724077194, 0.32726751016552597, 0.5312021304954121, 0.501620447462109, 0.5369968180658876, 0.5650668281569162, 0.7417482750232993, 0.571917269696361, 0.7166534112782591, 0.5836482856182075, 0.6758917555889978, 0.5980300054974927, 0.5261081484229484], maxlen=20)\n",
      "eval_mean: 0.555282245485459\n"
     ]
    },
    {
     "name": "stderr",
     "output_type": "stream",
     "text": [
      "\r",
      " 50%|████████████████████████████████████▌                                    | 50092/100000 [56:06<1:23:57,  9.91it/s]"
     ]
    },
    {
     "name": "stdout",
     "output_type": "stream",
     "text": [
      "self.evaluation_deque: deque([0.37830108117972494, 0.685157674568323, 0.0, 0.6227433601954578, 0.6394954723665767, 0.7471020841591045, 0.5473965793608582, 0.6092977724077194, 0.32726751016552597, 0.5312021304954121, 0.501620447462109, 0.5369968180658876, 0.5650668281569162, 0.7417482750232993, 0.571917269696361, 0.7166534112782591, 0.5836482856182075, 0.6758917555889978, 0.5980300054974927, 0.5261081484229484], maxlen=20)\n",
      "eval_mean: 0.555282245485459\n"
     ]
    },
    {
     "name": "stderr",
     "output_type": "stream",
     "text": [
      "\r",
      " 50%|████████████████████████████████████▌                                    | 50168/100000 [56:14<1:25:01,  9.77it/s]"
     ]
    },
    {
     "name": "stdout",
     "output_type": "stream",
     "text": [
      "self.get_collection_ratio(): 0.712695993641189\n",
      "self.comms.count(True) : 2\n",
      "len(self.comms) : 2\n",
      "self.state.ratio_commed: 1.0\n",
      "self.comms.count(True) : 2\n",
      "len(self.comms) : 2\n",
      "self.evaluation_deque: deque([0.685157674568323, 0.0, 0.6227433601954578, 0.6394954723665767, 0.7471020841591045, 0.5473965793608582, 0.6092977724077194, 0.32726751016552597, 0.5312021304954121, 0.501620447462109, 0.5369968180658876, 0.5650668281569162, 0.7417482750232993, 0.571917269696361, 0.7166534112782591, 0.5836482856182075, 0.6758917555889978, 0.5980300054974927, 0.5261081484229484, 0.712695993641189], maxlen=20)\n",
      "eval_mean: 0.5720019911085322\n",
      "Saving best with: 0.5720019911085322\n"
     ]
    },
    {
     "name": "stderr",
     "output_type": "stream",
     "text": [
      "\r",
      " 50%|████████████████████████████████████▋                                    | 50244/100000 [56:22<1:25:51,  9.66it/s]"
     ]
    },
    {
     "name": "stdout",
     "output_type": "stream",
     "text": [
      "self.evaluation_deque: deque([0.685157674568323, 0.0, 0.6227433601954578, 0.6394954723665767, 0.7471020841591045, 0.5473965793608582, 0.6092977724077194, 0.32726751016552597, 0.5312021304954121, 0.501620447462109, 0.5369968180658876, 0.5650668281569162, 0.7417482750232993, 0.571917269696361, 0.7166534112782591, 0.5836482856182075, 0.6758917555889978, 0.5980300054974927, 0.5261081484229484, 0.712695993641189], maxlen=20)\n",
      "eval_mean: 0.5720019911085322\n"
     ]
    },
    {
     "name": "stderr",
     "output_type": "stream",
     "text": [
      "\r",
      " 50%|████████████████████████████████████▋                                    | 50320/100000 [56:28<1:18:46, 10.51it/s]"
     ]
    },
    {
     "name": "stdout",
     "output_type": "stream",
     "text": [
      "self.evaluation_deque: deque([0.685157674568323, 0.0, 0.6227433601954578, 0.6394954723665767, 0.7471020841591045, 0.5473965793608582, 0.6092977724077194, 0.32726751016552597, 0.5312021304954121, 0.501620447462109, 0.5369968180658876, 0.5650668281569162, 0.7417482750232993, 0.571917269696361, 0.7166534112782591, 0.5836482856182075, 0.6758917555889978, 0.5980300054974927, 0.5261081484229484, 0.712695993641189], maxlen=20)\n",
      "eval_mean: 0.5720019911085322\n"
     ]
    },
    {
     "name": "stderr",
     "output_type": "stream",
     "text": [
      "\r",
      " 50%|████████████████████████████████████▊                                    | 50396/100000 [56:36<1:20:22, 10.29it/s]"
     ]
    },
    {
     "name": "stdout",
     "output_type": "stream",
     "text": [
      "self.evaluation_deque: deque([0.685157674568323, 0.0, 0.6227433601954578, 0.6394954723665767, 0.7471020841591045, 0.5473965793608582, 0.6092977724077194, 0.32726751016552597, 0.5312021304954121, 0.501620447462109, 0.5369968180658876, 0.5650668281569162, 0.7417482750232993, 0.571917269696361, 0.7166534112782591, 0.5836482856182075, 0.6758917555889978, 0.5980300054974927, 0.5261081484229484, 0.712695993641189], maxlen=20)\n",
      "eval_mean: 0.5720019911085322\n"
     ]
    },
    {
     "name": "stderr",
     "output_type": "stream",
     "text": [
      "\r",
      " 50%|████████████████████████████████████▊                                    | 50472/100000 [56:43<1:18:49, 10.47it/s]"
     ]
    },
    {
     "name": "stdout",
     "output_type": "stream",
     "text": [
      "self.evaluation_deque: deque([0.685157674568323, 0.0, 0.6227433601954578, 0.6394954723665767, 0.7471020841591045, 0.5473965793608582, 0.6092977724077194, 0.32726751016552597, 0.5312021304954121, 0.501620447462109, 0.5369968180658876, 0.5650668281569162, 0.7417482750232993, 0.571917269696361, 0.7166534112782591, 0.5836482856182075, 0.6758917555889978, 0.5980300054974927, 0.5261081484229484, 0.712695993641189], maxlen=20)\n",
      "eval_mean: 0.5720019911085322\n"
     ]
    },
    {
     "name": "stderr",
     "output_type": "stream",
     "text": [
      "\r",
      " 51%|████████████████████████████████████▉                                    | 50548/100000 [56:50<1:18:54, 10.45it/s]"
     ]
    },
    {
     "name": "stdout",
     "output_type": "stream",
     "text": [
      "self.get_collection_ratio(): 0.47277684765070005\n",
      "self.comms.count(True) : 1\n",
      "len(self.comms) : 1\n",
      "self.state.ratio_commed: 1.0\n",
      "self.comms.count(True) : 1\n",
      "len(self.comms) : 1\n",
      "self.evaluation_deque: deque([0.0, 0.6227433601954578, 0.6394954723665767, 0.7471020841591045, 0.5473965793608582, 0.6092977724077194, 0.32726751016552597, 0.5312021304954121, 0.501620447462109, 0.5369968180658876, 0.5650668281569162, 0.7417482750232993, 0.571917269696361, 0.7166534112782591, 0.5836482856182075, 0.6758917555889978, 0.5980300054974927, 0.5261081484229484, 0.712695993641189, 0.47277684765070005], maxlen=20)\n",
      "eval_mean: 0.561382949762651\n"
     ]
    },
    {
     "name": "stderr",
     "output_type": "stream",
     "text": [
      "\r",
      " 51%|████████████████████████████████████▉                                    | 50624/100000 [56:58<1:21:20, 10.12it/s]"
     ]
    },
    {
     "name": "stdout",
     "output_type": "stream",
     "text": [
      "self.evaluation_deque: deque([0.0, 0.6227433601954578, 0.6394954723665767, 0.7471020841591045, 0.5473965793608582, 0.6092977724077194, 0.32726751016552597, 0.5312021304954121, 0.501620447462109, 0.5369968180658876, 0.5650668281569162, 0.7417482750232993, 0.571917269696361, 0.7166534112782591, 0.5836482856182075, 0.6758917555889978, 0.5980300054974927, 0.5261081484229484, 0.712695993641189, 0.47277684765070005], maxlen=20)\n",
      "eval_mean: 0.561382949762651\n"
     ]
    },
    {
     "name": "stderr",
     "output_type": "stream",
     "text": [
      "\r",
      " 51%|█████████████████████████████████████                                    | 50700/100000 [57:06<1:22:55,  9.91it/s]"
     ]
    },
    {
     "name": "stdout",
     "output_type": "stream",
     "text": [
      "self.evaluation_deque: deque([0.0, 0.6227433601954578, 0.6394954723665767, 0.7471020841591045, 0.5473965793608582, 0.6092977724077194, 0.32726751016552597, 0.5312021304954121, 0.501620447462109, 0.5369968180658876, 0.5650668281569162, 0.7417482750232993, 0.571917269696361, 0.7166534112782591, 0.5836482856182075, 0.6758917555889978, 0.5980300054974927, 0.5261081484229484, 0.712695993641189, 0.47277684765070005], maxlen=20)\n",
      "eval_mean: 0.561382949762651\n"
     ]
    },
    {
     "name": "stderr",
     "output_type": "stream",
     "text": [
      "\r",
      " 51%|█████████████████████████████████████                                    | 50776/100000 [57:14<1:23:17,  9.85it/s]"
     ]
    },
    {
     "name": "stdout",
     "output_type": "stream",
     "text": [
      "self.evaluation_deque: deque([0.0, 0.6227433601954578, 0.6394954723665767, 0.7471020841591045, 0.5473965793608582, 0.6092977724077194, 0.32726751016552597, 0.5312021304954121, 0.501620447462109, 0.5369968180658876, 0.5650668281569162, 0.7417482750232993, 0.571917269696361, 0.7166534112782591, 0.5836482856182075, 0.6758917555889978, 0.5980300054974927, 0.5261081484229484, 0.712695993641189, 0.47277684765070005], maxlen=20)\n",
      "eval_mean: 0.561382949762651\n"
     ]
    },
    {
     "name": "stderr",
     "output_type": "stream",
     "text": [
      "\r",
      " 51%|█████████████████████████████████████                                    | 50852/100000 [57:20<1:16:42, 10.68it/s]"
     ]
    },
    {
     "name": "stdout",
     "output_type": "stream",
     "text": [
      "self.evaluation_deque: deque([0.0, 0.6227433601954578, 0.6394954723665767, 0.7471020841591045, 0.5473965793608582, 0.6092977724077194, 0.32726751016552597, 0.5312021304954121, 0.501620447462109, 0.5369968180658876, 0.5650668281569162, 0.7417482750232993, 0.571917269696361, 0.7166534112782591, 0.5836482856182075, 0.6758917555889978, 0.5980300054974927, 0.5261081484229484, 0.712695993641189, 0.47277684765070005], maxlen=20)\n",
      "eval_mean: 0.561382949762651\n"
     ]
    },
    {
     "name": "stderr",
     "output_type": "stream",
     "text": [
      "\r",
      " 51%|█████████████████████████████████████▏                                   | 50928/100000 [57:29<1:24:15,  9.71it/s]"
     ]
    },
    {
     "name": "stdout",
     "output_type": "stream",
     "text": [
      "self.get_collection_ratio(): 0.5271744106174601\n",
      "self.comms.count(True) : 1\n",
      "len(self.comms) : 1\n",
      "self.state.ratio_commed: 1.0\n",
      "self.comms.count(True) : 1\n",
      "len(self.comms) : 1\n",
      "self.evaluation_deque: deque([0.6227433601954578, 0.6394954723665767, 0.7471020841591045, 0.5473965793608582, 0.6092977724077194, 0.32726751016552597, 0.5312021304954121, 0.501620447462109, 0.5369968180658876, 0.5650668281569162, 0.7417482750232993, 0.571917269696361, 0.7166534112782591, 0.5836482856182075, 0.6758917555889978, 0.5980300054974927, 0.5261081484229484, 0.712695993641189, 0.47277684765070005, 0.5271744106174601], maxlen=20)\n",
      "eval_mean: 0.5877416702935241\n",
      "Saving best with: 0.5877416702935241\n"
     ]
    },
    {
     "name": "stderr",
     "output_type": "stream",
     "text": [
      "\r",
      " 51%|█████████████████████████████████████▏                                   | 51004/100000 [57:36<1:21:23, 10.03it/s]"
     ]
    },
    {
     "name": "stdout",
     "output_type": "stream",
     "text": [
      "self.evaluation_deque: deque([0.6227433601954578, 0.6394954723665767, 0.7471020841591045, 0.5473965793608582, 0.6092977724077194, 0.32726751016552597, 0.5312021304954121, 0.501620447462109, 0.5369968180658876, 0.5650668281569162, 0.7417482750232993, 0.571917269696361, 0.7166534112782591, 0.5836482856182075, 0.6758917555889978, 0.5980300054974927, 0.5261081484229484, 0.712695993641189, 0.47277684765070005, 0.5271744106174601], maxlen=20)\n",
      "eval_mean: 0.5877416702935241\n"
     ]
    },
    {
     "name": "stderr",
     "output_type": "stream",
     "text": [
      "\r",
      " 51%|█████████████████████████████████████▎                                   | 51080/100000 [57:43<1:19:06, 10.31it/s]"
     ]
    },
    {
     "name": "stdout",
     "output_type": "stream",
     "text": [
      "self.evaluation_deque: deque([0.6227433601954578, 0.6394954723665767, 0.7471020841591045, 0.5473965793608582, 0.6092977724077194, 0.32726751016552597, 0.5312021304954121, 0.501620447462109, 0.5369968180658876, 0.5650668281569162, 0.7417482750232993, 0.571917269696361, 0.7166534112782591, 0.5836482856182075, 0.6758917555889978, 0.5980300054974927, 0.5261081484229484, 0.712695993641189, 0.47277684765070005, 0.5271744106174601], maxlen=20)\n",
      "eval_mean: 0.5877416702935241\n"
     ]
    },
    {
     "name": "stderr",
     "output_type": "stream",
     "text": [
      "\r",
      " 51%|█████████████████████████████████████▎                                   | 51156/100000 [57:51<1:20:11, 10.15it/s]"
     ]
    },
    {
     "name": "stdout",
     "output_type": "stream",
     "text": [
      "self.evaluation_deque: deque([0.6227433601954578, 0.6394954723665767, 0.7471020841591045, 0.5473965793608582, 0.6092977724077194, 0.32726751016552597, 0.5312021304954121, 0.501620447462109, 0.5369968180658876, 0.5650668281569162, 0.7417482750232993, 0.571917269696361, 0.7166534112782591, 0.5836482856182075, 0.6758917555889978, 0.5980300054974927, 0.5261081484229484, 0.712695993641189, 0.47277684765070005, 0.5271744106174601], maxlen=20)\n",
      "eval_mean: 0.5877416702935241\n"
     ]
    },
    {
     "name": "stderr",
     "output_type": "stream",
     "text": [
      "\r",
      " 51%|█████████████████████████████████████▍                                   | 51232/100000 [57:57<1:14:25, 10.92it/s]"
     ]
    },
    {
     "name": "stdout",
     "output_type": "stream",
     "text": [
      "self.evaluation_deque: deque([0.6227433601954578, 0.6394954723665767, 0.7471020841591045, 0.5473965793608582, 0.6092977724077194, 0.32726751016552597, 0.5312021304954121, 0.501620447462109, 0.5369968180658876, 0.5650668281569162, 0.7417482750232993, 0.571917269696361, 0.7166534112782591, 0.5836482856182075, 0.6758917555889978, 0.5980300054974927, 0.5261081484229484, 0.712695993641189, 0.47277684765070005, 0.5271744106174601], maxlen=20)\n",
      "eval_mean: 0.5877416702935241\n"
     ]
    },
    {
     "name": "stderr",
     "output_type": "stream",
     "text": [
      "\r",
      " 51%|█████████████████████████████████████▍                                   | 51308/100000 [58:07<1:24:38,  9.59it/s]"
     ]
    },
    {
     "name": "stdout",
     "output_type": "stream",
     "text": [
      "self.get_collection_ratio(): 0.6596177386730634\n",
      "self.comms.count(True) : 2\n",
      "len(self.comms) : 2\n",
      "self.state.ratio_commed: 1.0\n",
      "self.comms.count(True) : 2\n",
      "len(self.comms) : 2\n",
      "self.evaluation_deque: deque([0.6394954723665767, 0.7471020841591045, 0.5473965793608582, 0.6092977724077194, 0.32726751016552597, 0.5312021304954121, 0.501620447462109, 0.5369968180658876, 0.5650668281569162, 0.7417482750232993, 0.571917269696361, 0.7166534112782591, 0.5836482856182075, 0.6758917555889978, 0.5980300054974927, 0.5261081484229484, 0.712695993641189, 0.47277684765070005, 0.5271744106174601, 0.6596177386730634], maxlen=20)\n",
      "eval_mean: 0.5895853892174043\n",
      "Saving best with: 0.5895853892174043\n"
     ]
    },
    {
     "name": "stderr",
     "output_type": "stream",
     "text": [
      "\r",
      " 51%|█████████████████████████████████████▌                                   | 51384/100000 [58:13<1:17:35, 10.44it/s]"
     ]
    },
    {
     "name": "stdout",
     "output_type": "stream",
     "text": [
      "self.evaluation_deque: deque([0.6394954723665767, 0.7471020841591045, 0.5473965793608582, 0.6092977724077194, 0.32726751016552597, 0.5312021304954121, 0.501620447462109, 0.5369968180658876, 0.5650668281569162, 0.7417482750232993, 0.571917269696361, 0.7166534112782591, 0.5836482856182075, 0.6758917555889978, 0.5980300054974927, 0.5261081484229484, 0.712695993641189, 0.47277684765070005, 0.5271744106174601, 0.6596177386730634], maxlen=20)\n",
      "eval_mean: 0.5895853892174043\n"
     ]
    },
    {
     "name": "stderr",
     "output_type": "stream",
     "text": [
      "\r",
      " 51%|█████████████████████████████████████▌                                   | 51460/100000 [58:20<1:18:55, 10.25it/s]"
     ]
    },
    {
     "name": "stdout",
     "output_type": "stream",
     "text": [
      "self.evaluation_deque: deque([0.6394954723665767, 0.7471020841591045, 0.5473965793608582, 0.6092977724077194, 0.32726751016552597, 0.5312021304954121, 0.501620447462109, 0.5369968180658876, 0.5650668281569162, 0.7417482750232993, 0.571917269696361, 0.7166534112782591, 0.5836482856182075, 0.6758917555889978, 0.5980300054974927, 0.5261081484229484, 0.712695993641189, 0.47277684765070005, 0.5271744106174601, 0.6596177386730634], maxlen=20)\n",
      "eval_mean: 0.5895853892174043\n"
     ]
    },
    {
     "name": "stderr",
     "output_type": "stream",
     "text": [
      "\r",
      " 52%|█████████████████████████████████████▌                                   | 51536/100000 [58:27<1:17:12, 10.46it/s]"
     ]
    },
    {
     "name": "stdout",
     "output_type": "stream",
     "text": [
      "self.evaluation_deque: deque([0.6394954723665767, 0.7471020841591045, 0.5473965793608582, 0.6092977724077194, 0.32726751016552597, 0.5312021304954121, 0.501620447462109, 0.5369968180658876, 0.5650668281569162, 0.7417482750232993, 0.571917269696361, 0.7166534112782591, 0.5836482856182075, 0.6758917555889978, 0.5980300054974927, 0.5261081484229484, 0.712695993641189, 0.47277684765070005, 0.5271744106174601, 0.6596177386730634], maxlen=20)\n",
      "eval_mean: 0.5895853892174043\n"
     ]
    },
    {
     "name": "stderr",
     "output_type": "stream",
     "text": [
      "\r",
      " 52%|█████████████████████████████████████▋                                   | 51612/100000 [58:34<1:15:50, 10.63it/s]"
     ]
    },
    {
     "name": "stdout",
     "output_type": "stream",
     "text": [
      "self.evaluation_deque: deque([0.6394954723665767, 0.7471020841591045, 0.5473965793608582, 0.6092977724077194, 0.32726751016552597, 0.5312021304954121, 0.501620447462109, 0.5369968180658876, 0.5650668281569162, 0.7417482750232993, 0.571917269696361, 0.7166534112782591, 0.5836482856182075, 0.6758917555889978, 0.5980300054974927, 0.5261081484229484, 0.712695993641189, 0.47277684765070005, 0.5271744106174601, 0.6596177386730634], maxlen=20)\n",
      "eval_mean: 0.5895853892174043\n"
     ]
    },
    {
     "name": "stderr",
     "output_type": "stream",
     "text": [
      "\r",
      " 52%|█████████████████████████████████████▋                                   | 51688/100000 [58:44<1:25:17,  9.44it/s]"
     ]
    },
    {
     "name": "stdout",
     "output_type": "stream",
     "text": [
      "self.get_collection_ratio(): 0.5900971867058007\n",
      "self.comms.count(True) : 1\n",
      "len(self.comms) : 2\n",
      "self.state.ratio_commed: 0.5\n",
      "self.comms.count(True) : 1\n",
      "len(self.comms) : 2\n",
      "self.evaluation_deque: deque([0.7471020841591045, 0.5473965793608582, 0.6092977724077194, 0.32726751016552597, 0.5312021304954121, 0.501620447462109, 0.5369968180658876, 0.5650668281569162, 0.7417482750232993, 0.571917269696361, 0.7166534112782591, 0.5836482856182075, 0.6758917555889978, 0.5980300054974927, 0.5261081484229484, 0.712695993641189, 0.47277684765070005, 0.5271744106174601, 0.6596177386730634, 0.29504859335290035], maxlen=20)\n",
      "eval_mean: 0.5723630452667205\n"
     ]
    },
    {
     "name": "stderr",
     "output_type": "stream",
     "text": [
      "\r",
      " 52%|█████████████████████████████████████▊                                   | 51764/100000 [58:51<1:21:21,  9.88it/s]"
     ]
    },
    {
     "name": "stdout",
     "output_type": "stream",
     "text": [
      "self.evaluation_deque: deque([0.7471020841591045, 0.5473965793608582, 0.6092977724077194, 0.32726751016552597, 0.5312021304954121, 0.501620447462109, 0.5369968180658876, 0.5650668281569162, 0.7417482750232993, 0.571917269696361, 0.7166534112782591, 0.5836482856182075, 0.6758917555889978, 0.5980300054974927, 0.5261081484229484, 0.712695993641189, 0.47277684765070005, 0.5271744106174601, 0.6596177386730634, 0.29504859335290035], maxlen=20)\n",
      "eval_mean: 0.5723630452667205\n"
     ]
    },
    {
     "name": "stderr",
     "output_type": "stream",
     "text": [
      "\r",
      " 52%|█████████████████████████████████████▊                                   | 51840/100000 [58:59<1:21:29,  9.85it/s]"
     ]
    },
    {
     "name": "stdout",
     "output_type": "stream",
     "text": [
      "self.evaluation_deque: deque([0.7471020841591045, 0.5473965793608582, 0.6092977724077194, 0.32726751016552597, 0.5312021304954121, 0.501620447462109, 0.5369968180658876, 0.5650668281569162, 0.7417482750232993, 0.571917269696361, 0.7166534112782591, 0.5836482856182075, 0.6758917555889978, 0.5980300054974927, 0.5261081484229484, 0.712695993641189, 0.47277684765070005, 0.5271744106174601, 0.6596177386730634, 0.29504859335290035], maxlen=20)\n",
      "eval_mean: 0.5723630452667205\n"
     ]
    },
    {
     "name": "stderr",
     "output_type": "stream",
     "text": [
      "\r",
      " 52%|█████████████████████████████████████▉                                   | 51916/100000 [59:05<1:15:12, 10.66it/s]"
     ]
    },
    {
     "name": "stdout",
     "output_type": "stream",
     "text": [
      "self.evaluation_deque: deque([0.7471020841591045, 0.5473965793608582, 0.6092977724077194, 0.32726751016552597, 0.5312021304954121, 0.501620447462109, 0.5369968180658876, 0.5650668281569162, 0.7417482750232993, 0.571917269696361, 0.7166534112782591, 0.5836482856182075, 0.6758917555889978, 0.5980300054974927, 0.5261081484229484, 0.712695993641189, 0.47277684765070005, 0.5271744106174601, 0.6596177386730634, 0.29504859335290035], maxlen=20)\n",
      "eval_mean: 0.5723630452667205\n"
     ]
    },
    {
     "name": "stderr",
     "output_type": "stream",
     "text": [
      "\r",
      " 52%|█████████████████████████████████████▉                                   | 51976/100000 [59:09<1:11:26, 11.20it/s]"
     ]
    },
    {
     "name": "stdout",
     "output_type": "stream",
     "text": [
      "self.evaluation_deque: deque([0.7471020841591045, 0.5473965793608582, 0.6092977724077194, 0.32726751016552597, 0.5312021304954121, 0.501620447462109, 0.5369968180658876, 0.5650668281569162, 0.7417482750232993, 0.571917269696361, 0.7166534112782591, 0.5836482856182075, 0.6758917555889978, 0.5980300054974927, 0.5261081484229484, 0.712695993641189, 0.47277684765070005, 0.5271744106174601, 0.6596177386730634, 0.29504859335290035], maxlen=20)\n",
      "eval_mean: 0.5723630452667205\n"
     ]
    },
    {
     "name": "stderr",
     "output_type": "stream",
     "text": [
      "\r",
      " 52%|█████████████████████████████████████▉                                   | 52052/100000 [59:20<1:23:07,  9.61it/s]"
     ]
    },
    {
     "name": "stdout",
     "output_type": "stream",
     "text": [
      "self.get_collection_ratio(): 0.6432271987793441\n",
      "self.comms.count(True) : 2\n",
      "len(self.comms) : 2\n",
      "self.state.ratio_commed: 1.0\n",
      "self.comms.count(True) : 2\n",
      "len(self.comms) : 2\n",
      "self.evaluation_deque: deque([0.5473965793608582, 0.6092977724077194, 0.32726751016552597, 0.5312021304954121, 0.501620447462109, 0.5369968180658876, 0.5650668281569162, 0.7417482750232993, 0.571917269696361, 0.7166534112782591, 0.5836482856182075, 0.6758917555889978, 0.5980300054974927, 0.5261081484229484, 0.712695993641189, 0.47277684765070005, 0.5271744106174601, 0.6596177386730634, 0.29504859335290035, 0.6432271987793441], maxlen=20)\n",
      "eval_mean: 0.5671693009977326\n"
     ]
    },
    {
     "name": "stderr",
     "output_type": "stream",
     "text": [
      "\r",
      " 52%|██████████████████████████████████████                                   | 52128/100000 [59:26<1:19:55,  9.98it/s]"
     ]
    },
    {
     "name": "stdout",
     "output_type": "stream",
     "text": [
      "self.evaluation_deque: deque([0.5473965793608582, 0.6092977724077194, 0.32726751016552597, 0.5312021304954121, 0.501620447462109, 0.5369968180658876, 0.5650668281569162, 0.7417482750232993, 0.571917269696361, 0.7166534112782591, 0.5836482856182075, 0.6758917555889978, 0.5980300054974927, 0.5261081484229484, 0.712695993641189, 0.47277684765070005, 0.5271744106174601, 0.6596177386730634, 0.29504859335290035, 0.6432271987793441], maxlen=20)\n",
      "eval_mean: 0.5671693009977326\n"
     ]
    },
    {
     "name": "stderr",
     "output_type": "stream",
     "text": [
      "\r",
      " 52%|██████████████████████████████████████                                   | 52204/100000 [59:32<1:13:53, 10.78it/s]"
     ]
    },
    {
     "name": "stdout",
     "output_type": "stream",
     "text": [
      "self.evaluation_deque: deque([0.5473965793608582, 0.6092977724077194, 0.32726751016552597, 0.5312021304954121, 0.501620447462109, 0.5369968180658876, 0.5650668281569162, 0.7417482750232993, 0.571917269696361, 0.7166534112782591, 0.5836482856182075, 0.6758917555889978, 0.5980300054974927, 0.5261081484229484, 0.712695993641189, 0.47277684765070005, 0.5271744106174601, 0.6596177386730634, 0.29504859335290035, 0.6432271987793441], maxlen=20)\n",
      "eval_mean: 0.5671693009977326\n"
     ]
    },
    {
     "name": "stderr",
     "output_type": "stream",
     "text": [
      "\r",
      " 52%|██████████████████████████████████████▏                                  | 52280/100000 [59:39<1:12:23, 10.99it/s]"
     ]
    },
    {
     "name": "stdout",
     "output_type": "stream",
     "text": [
      "self.evaluation_deque: deque([0.5473965793608582, 0.6092977724077194, 0.32726751016552597, 0.5312021304954121, 0.501620447462109, 0.5369968180658876, 0.5650668281569162, 0.7417482750232993, 0.571917269696361, 0.7166534112782591, 0.5836482856182075, 0.6758917555889978, 0.5980300054974927, 0.5261081484229484, 0.712695993641189, 0.47277684765070005, 0.5271744106174601, 0.6596177386730634, 0.29504859335290035, 0.6432271987793441], maxlen=20)\n",
      "eval_mean: 0.5671693009977326\n"
     ]
    },
    {
     "name": "stderr",
     "output_type": "stream",
     "text": [
      "\r",
      " 52%|██████████████████████████████████████▏                                  | 52356/100000 [59:47<1:15:02, 10.58it/s]"
     ]
    },
    {
     "name": "stdout",
     "output_type": "stream",
     "text": [
      "self.evaluation_deque: deque([0.5473965793608582, 0.6092977724077194, 0.32726751016552597, 0.5312021304954121, 0.501620447462109, 0.5369968180658876, 0.5650668281569162, 0.7417482750232993, 0.571917269696361, 0.7166534112782591, 0.5836482856182075, 0.6758917555889978, 0.5980300054974927, 0.5261081484229484, 0.712695993641189, 0.47277684765070005, 0.5271744106174601, 0.6596177386730634, 0.29504859335290035, 0.6432271987793441], maxlen=20)\n",
      "eval_mean: 0.5671693009977326\n"
     ]
    },
    {
     "name": "stderr",
     "output_type": "stream",
     "text": [
      "\r",
      " 52%|██████████████████████████████████████▎                                  | 52432/100000 [59:55<1:17:55, 10.17it/s]"
     ]
    },
    {
     "name": "stdout",
     "output_type": "stream",
     "text": [
      "self.get_collection_ratio(): 0.8056348555295875\n",
      "self.comms.count(True) : 2\n",
      "len(self.comms) : 2\n",
      "self.state.ratio_commed: 1.0\n",
      "self.comms.count(True) : 2\n",
      "len(self.comms) : 2\n",
      "self.evaluation_deque: deque([0.6092977724077194, 0.32726751016552597, 0.5312021304954121, 0.501620447462109, 0.5369968180658876, 0.5650668281569162, 0.7417482750232993, 0.571917269696361, 0.7166534112782591, 0.5836482856182075, 0.6758917555889978, 0.5980300054974927, 0.5261081484229484, 0.712695993641189, 0.47277684765070005, 0.5271744106174601, 0.6596177386730634, 0.29504859335290035, 0.6432271987793441, 0.8056348555295875], maxlen=20)\n",
      "eval_mean: 0.5800812148061691\n"
     ]
    },
    {
     "name": "stderr",
     "output_type": "stream",
     "text": [
      "\r",
      " 53%|█████████████████████████████████████▎                                 | 52508/100000 [1:00:00<1:11:57, 11.00it/s]"
     ]
    },
    {
     "name": "stdout",
     "output_type": "stream",
     "text": [
      "self.evaluation_deque: deque([0.6092977724077194, 0.32726751016552597, 0.5312021304954121, 0.501620447462109, 0.5369968180658876, 0.5650668281569162, 0.7417482750232993, 0.571917269696361, 0.7166534112782591, 0.5836482856182075, 0.6758917555889978, 0.5980300054974927, 0.5261081484229484, 0.712695993641189, 0.47277684765070005, 0.5271744106174601, 0.6596177386730634, 0.29504859335290035, 0.6432271987793441, 0.8056348555295875], maxlen=20)\n",
      "eval_mean: 0.5800812148061691\n"
     ]
    },
    {
     "name": "stderr",
     "output_type": "stream",
     "text": [
      "\r",
      " 53%|█████████████████████████████████████▎                                 | 52584/100000 [1:00:06<1:07:36, 11.69it/s]"
     ]
    },
    {
     "name": "stdout",
     "output_type": "stream",
     "text": [
      "self.evaluation_deque: deque([0.6092977724077194, 0.32726751016552597, 0.5312021304954121, 0.501620447462109, 0.5369968180658876, 0.5650668281569162, 0.7417482750232993, 0.571917269696361, 0.7166534112782591, 0.5836482856182075, 0.6758917555889978, 0.5980300054974927, 0.5261081484229484, 0.712695993641189, 0.47277684765070005, 0.5271744106174601, 0.6596177386730634, 0.29504859335290035, 0.6432271987793441, 0.8056348555295875], maxlen=20)\n",
      "eval_mean: 0.5800812148061691\n"
     ]
    },
    {
     "name": "stderr",
     "output_type": "stream",
     "text": [
      "\r",
      " 53%|█████████████████████████████████████▍                                 | 52660/100000 [1:00:13<1:08:08, 11.58it/s]"
     ]
    },
    {
     "name": "stdout",
     "output_type": "stream",
     "text": [
      "self.evaluation_deque: deque([0.6092977724077194, 0.32726751016552597, 0.5312021304954121, 0.501620447462109, 0.5369968180658876, 0.5650668281569162, 0.7417482750232993, 0.571917269696361, 0.7166534112782591, 0.5836482856182075, 0.6758917555889978, 0.5980300054974927, 0.5261081484229484, 0.712695993641189, 0.47277684765070005, 0.5271744106174601, 0.6596177386730634, 0.29504859335290035, 0.6432271987793441, 0.8056348555295875], maxlen=20)\n",
      "eval_mean: 0.5800812148061691\n"
     ]
    },
    {
     "name": "stderr",
     "output_type": "stream",
     "text": [
      "\r",
      " 53%|█████████████████████████████████████▍                                 | 52736/100000 [1:00:21<1:12:02, 10.93it/s]"
     ]
    },
    {
     "name": "stdout",
     "output_type": "stream",
     "text": [
      "self.evaluation_deque: deque([0.6092977724077194, 0.32726751016552597, 0.5312021304954121, 0.501620447462109, 0.5369968180658876, 0.5650668281569162, 0.7417482750232993, 0.571917269696361, 0.7166534112782591, 0.5836482856182075, 0.6758917555889978, 0.5980300054974927, 0.5261081484229484, 0.712695993641189, 0.47277684765070005, 0.5271744106174601, 0.6596177386730634, 0.29504859335290035, 0.6432271987793441, 0.8056348555295875], maxlen=20)\n",
      "eval_mean: 0.5800812148061691\n"
     ]
    },
    {
     "name": "stderr",
     "output_type": "stream",
     "text": [
      "\r",
      " 53%|█████████████████████████████████████▍                                 | 52812/100000 [1:00:28<1:14:37, 10.54it/s]"
     ]
    },
    {
     "name": "stdout",
     "output_type": "stream",
     "text": [
      "self.get_collection_ratio(): 0.6807499244754674\n",
      "self.comms.count(True) : 2\n",
      "len(self.comms) : 2\n",
      "self.state.ratio_commed: 1.0\n",
      "self.comms.count(True) : 2\n",
      "len(self.comms) : 2\n",
      "self.evaluation_deque: deque([0.32726751016552597, 0.5312021304954121, 0.501620447462109, 0.5369968180658876, 0.5650668281569162, 0.7417482750232993, 0.571917269696361, 0.7166534112782591, 0.5836482856182075, 0.6758917555889978, 0.5980300054974927, 0.5261081484229484, 0.712695993641189, 0.47277684765070005, 0.5271744106174601, 0.6596177386730634, 0.29504859335290035, 0.6432271987793441, 0.8056348555295875, 0.6807499244754674], maxlen=20)\n",
      "eval_mean: 0.5836538224095564\n"
     ]
    },
    {
     "name": "stderr",
     "output_type": "stream",
     "text": [
      "\r",
      " 53%|█████████████████████████████████████▌                                 | 52888/100000 [1:00:35<1:13:29, 10.68it/s]"
     ]
    },
    {
     "name": "stdout",
     "output_type": "stream",
     "text": [
      "self.evaluation_deque: deque([0.32726751016552597, 0.5312021304954121, 0.501620447462109, 0.5369968180658876, 0.5650668281569162, 0.7417482750232993, 0.571917269696361, 0.7166534112782591, 0.5836482856182075, 0.6758917555889978, 0.5980300054974927, 0.5261081484229484, 0.712695993641189, 0.47277684765070005, 0.5271744106174601, 0.6596177386730634, 0.29504859335290035, 0.6432271987793441, 0.8056348555295875, 0.6807499244754674], maxlen=20)\n",
      "eval_mean: 0.5836538224095564\n"
     ]
    },
    {
     "name": "stderr",
     "output_type": "stream",
     "text": [
      "\r",
      " 53%|█████████████████████████████████████▌                                 | 52964/100000 [1:00:41<1:08:33, 11.43it/s]"
     ]
    },
    {
     "name": "stdout",
     "output_type": "stream",
     "text": [
      "self.evaluation_deque: deque([0.32726751016552597, 0.5312021304954121, 0.501620447462109, 0.5369968180658876, 0.5650668281569162, 0.7417482750232993, 0.571917269696361, 0.7166534112782591, 0.5836482856182075, 0.6758917555889978, 0.5980300054974927, 0.5261081484229484, 0.712695993641189, 0.47277684765070005, 0.5271744106174601, 0.6596177386730634, 0.29504859335290035, 0.6432271987793441, 0.8056348555295875, 0.6807499244754674], maxlen=20)\n",
      "eval_mean: 0.5836538224095564\n"
     ]
    },
    {
     "name": "stderr",
     "output_type": "stream",
     "text": [
      " 53%|█████████████████████████████████████▋                                 | 53040/100000 [1:00:52<1:23:35,  9.36it/s]"
     ]
    },
    {
     "name": "stdout",
     "output_type": "stream",
     "text": [
      "self.evaluation_deque: deque([0.32726751016552597, 0.5312021304954121, 0.501620447462109, 0.5369968180658876, 0.5650668281569162, 0.7417482750232993, 0.571917269696361, 0.7166534112782591, 0.5836482856182075, 0.6758917555889978, 0.5980300054974927, 0.5261081484229484, 0.712695993641189, 0.47277684765070005, 0.5271744106174601, 0.6596177386730634, 0.29504859335290035, 0.6432271987793441, 0.8056348555295875, 0.6807499244754674], maxlen=20)\n",
      "eval_mean: 0.5836538224095564\n"
     ]
    },
    {
     "name": "stderr",
     "output_type": "stream",
     "text": [
      "\r",
      " 53%|█████████████████████████████████████▋                                 | 53116/100000 [1:00:58<1:15:41, 10.32it/s]"
     ]
    },
    {
     "name": "stdout",
     "output_type": "stream",
     "text": [
      "self.evaluation_deque: deque([0.32726751016552597, 0.5312021304954121, 0.501620447462109, 0.5369968180658876, 0.5650668281569162, 0.7417482750232993, 0.571917269696361, 0.7166534112782591, 0.5836482856182075, 0.6758917555889978, 0.5980300054974927, 0.5261081484229484, 0.712695993641189, 0.47277684765070005, 0.5271744106174601, 0.6596177386730634, 0.29504859335290035, 0.6432271987793441, 0.8056348555295875, 0.6807499244754674], maxlen=20)\n",
      "eval_mean: 0.5836538224095564\n"
     ]
    },
    {
     "name": "stderr",
     "output_type": "stream",
     "text": [
      "\r",
      " 53%|█████████████████████████████████████▊                                 | 53192/100000 [1:01:07<1:21:39,  9.55it/s]"
     ]
    },
    {
     "name": "stdout",
     "output_type": "stream",
     "text": [
      "self.get_collection_ratio(): 0.7575483951537053\n",
      "self.comms.count(True) : 2\n",
      "len(self.comms) : 2\n",
      "self.state.ratio_commed: 1.0\n",
      "self.comms.count(True) : 2\n",
      "len(self.comms) : 2\n",
      "self.evaluation_deque: deque([0.5312021304954121, 0.501620447462109, 0.5369968180658876, 0.5650668281569162, 0.7417482750232993, 0.571917269696361, 0.7166534112782591, 0.5836482856182075, 0.6758917555889978, 0.5980300054974927, 0.5261081484229484, 0.712695993641189, 0.47277684765070005, 0.5271744106174601, 0.6596177386730634, 0.29504859335290035, 0.6432271987793441, 0.8056348555295875, 0.6807499244754674, 0.7575483951537053], maxlen=20)\n",
      "eval_mean: 0.6051678666589655\n",
      "Saving best with: 0.6051678666589655\n"
     ]
    },
    {
     "name": "stderr",
     "output_type": "stream",
     "text": [
      "\r",
      " 53%|█████████████████████████████████████▊                                 | 53268/100000 [1:01:15<1:21:44,  9.53it/s]"
     ]
    },
    {
     "name": "stdout",
     "output_type": "stream",
     "text": [
      "self.evaluation_deque: deque([0.5312021304954121, 0.501620447462109, 0.5369968180658876, 0.5650668281569162, 0.7417482750232993, 0.571917269696361, 0.7166534112782591, 0.5836482856182075, 0.6758917555889978, 0.5980300054974927, 0.5261081484229484, 0.712695993641189, 0.47277684765070005, 0.5271744106174601, 0.6596177386730634, 0.29504859335290035, 0.6432271987793441, 0.8056348555295875, 0.6807499244754674, 0.7575483951537053], maxlen=20)\n",
      "eval_mean: 0.6051678666589655\n"
     ]
    },
    {
     "name": "stderr",
     "output_type": "stream",
     "text": [
      "\r",
      " 53%|█████████████████████████████████████▊                                 | 53344/100000 [1:01:22<1:18:10,  9.95it/s]"
     ]
    },
    {
     "name": "stdout",
     "output_type": "stream",
     "text": [
      "self.evaluation_deque: deque([0.5312021304954121, 0.501620447462109, 0.5369968180658876, 0.5650668281569162, 0.7417482750232993, 0.571917269696361, 0.7166534112782591, 0.5836482856182075, 0.6758917555889978, 0.5980300054974927, 0.5261081484229484, 0.712695993641189, 0.47277684765070005, 0.5271744106174601, 0.6596177386730634, 0.29504859335290035, 0.6432271987793441, 0.8056348555295875, 0.6807499244754674, 0.7575483951537053], maxlen=20)\n",
      "eval_mean: 0.6051678666589655\n"
     ]
    },
    {
     "name": "stderr",
     "output_type": "stream",
     "text": [
      "\r",
      " 53%|█████████████████████████████████████▉                                 | 53420/100000 [1:01:30<1:19:29,  9.77it/s]"
     ]
    },
    {
     "name": "stdout",
     "output_type": "stream",
     "text": [
      "self.evaluation_deque: deque([0.5312021304954121, 0.501620447462109, 0.5369968180658876, 0.5650668281569162, 0.7417482750232993, 0.571917269696361, 0.7166534112782591, 0.5836482856182075, 0.6758917555889978, 0.5980300054974927, 0.5261081484229484, 0.712695993641189, 0.47277684765070005, 0.5271744106174601, 0.6596177386730634, 0.29504859335290035, 0.6432271987793441, 0.8056348555295875, 0.6807499244754674, 0.7575483951537053], maxlen=20)\n",
      "eval_mean: 0.6051678666589655\n"
     ]
    },
    {
     "name": "stderr",
     "output_type": "stream",
     "text": [
      "\r",
      " 53%|█████████████████████████████████████▉                                 | 53496/100000 [1:01:37<1:16:59, 10.07it/s]"
     ]
    },
    {
     "name": "stdout",
     "output_type": "stream",
     "text": [
      "self.evaluation_deque: deque([0.5312021304954121, 0.501620447462109, 0.5369968180658876, 0.5650668281569162, 0.7417482750232993, 0.571917269696361, 0.7166534112782591, 0.5836482856182075, 0.6758917555889978, 0.5980300054974927, 0.5261081484229484, 0.712695993641189, 0.47277684765070005, 0.5271744106174601, 0.6596177386730634, 0.29504859335290035, 0.6432271987793441, 0.8056348555295875, 0.6807499244754674, 0.7575483951537053], maxlen=20)\n",
      "eval_mean: 0.6051678666589655\n"
     ]
    },
    {
     "name": "stderr",
     "output_type": "stream",
     "text": [
      "\r",
      " 54%|██████████████████████████████████████                                 | 53572/100000 [1:01:46<1:19:01,  9.79it/s]"
     ]
    },
    {
     "name": "stdout",
     "output_type": "stream",
     "text": [
      "self.get_collection_ratio(): 0.8153384020357046\n",
      "self.comms.count(True) : 2\n",
      "len(self.comms) : 2\n",
      "self.state.ratio_commed: 1.0\n",
      "self.comms.count(True) : 2\n",
      "len(self.comms) : 2\n",
      "self.evaluation_deque: deque([0.501620447462109, 0.5369968180658876, 0.5650668281569162, 0.7417482750232993, 0.571917269696361, 0.7166534112782591, 0.5836482856182075, 0.6758917555889978, 0.5980300054974927, 0.5261081484229484, 0.712695993641189, 0.47277684765070005, 0.5271744106174601, 0.6596177386730634, 0.29504859335290035, 0.6432271987793441, 0.8056348555295875, 0.6807499244754674, 0.7575483951537053, 0.8153384020357046], maxlen=20)\n",
      "eval_mean: 0.6193746802359801\n",
      "Saving best with: 0.6193746802359801\n"
     ]
    },
    {
     "name": "stderr",
     "output_type": "stream",
     "text": [
      "\r",
      " 54%|██████████████████████████████████████                                 | 53648/100000 [1:01:52<1:16:23, 10.11it/s]"
     ]
    },
    {
     "name": "stdout",
     "output_type": "stream",
     "text": [
      "self.evaluation_deque: deque([0.501620447462109, 0.5369968180658876, 0.5650668281569162, 0.7417482750232993, 0.571917269696361, 0.7166534112782591, 0.5836482856182075, 0.6758917555889978, 0.5980300054974927, 0.5261081484229484, 0.712695993641189, 0.47277684765070005, 0.5271744106174601, 0.6596177386730634, 0.29504859335290035, 0.6432271987793441, 0.8056348555295875, 0.6807499244754674, 0.7575483951537053, 0.8153384020357046], maxlen=20)\n",
      "eval_mean: 0.6193746802359801\n"
     ]
    },
    {
     "name": "stderr",
     "output_type": "stream",
     "text": [
      "\r",
      " 54%|██████████████████████████████████████▏                                | 53724/100000 [1:02:01<1:18:57,  9.77it/s]"
     ]
    },
    {
     "name": "stdout",
     "output_type": "stream",
     "text": [
      "self.evaluation_deque: deque([0.501620447462109, 0.5369968180658876, 0.5650668281569162, 0.7417482750232993, 0.571917269696361, 0.7166534112782591, 0.5836482856182075, 0.6758917555889978, 0.5980300054974927, 0.5261081484229484, 0.712695993641189, 0.47277684765070005, 0.5271744106174601, 0.6596177386730634, 0.29504859335290035, 0.6432271987793441, 0.8056348555295875, 0.6807499244754674, 0.7575483951537053, 0.8153384020357046], maxlen=20)\n",
      "eval_mean: 0.6193746802359801\n"
     ]
    },
    {
     "name": "stderr",
     "output_type": "stream",
     "text": [
      "\r",
      " 54%|██████████████████████████████████████▏                                | 53800/100000 [1:02:09<1:19:15,  9.72it/s]"
     ]
    },
    {
     "name": "stdout",
     "output_type": "stream",
     "text": [
      "self.evaluation_deque: deque([0.501620447462109, 0.5369968180658876, 0.5650668281569162, 0.7417482750232993, 0.571917269696361, 0.7166534112782591, 0.5836482856182075, 0.6758917555889978, 0.5980300054974927, 0.5261081484229484, 0.712695993641189, 0.47277684765070005, 0.5271744106174601, 0.6596177386730634, 0.29504859335290035, 0.6432271987793441, 0.8056348555295875, 0.6807499244754674, 0.7575483951537053, 0.8153384020357046], maxlen=20)\n",
      "eval_mean: 0.6193746802359801\n"
     ]
    },
    {
     "name": "stderr",
     "output_type": "stream",
     "text": [
      "\r",
      " 54%|██████████████████████████████████████▎                                | 53876/100000 [1:02:17<1:19:14,  9.70it/s]"
     ]
    },
    {
     "name": "stdout",
     "output_type": "stream",
     "text": [
      "self.evaluation_deque: deque([0.501620447462109, 0.5369968180658876, 0.5650668281569162, 0.7417482750232993, 0.571917269696361, 0.7166534112782591, 0.5836482856182075, 0.6758917555889978, 0.5980300054974927, 0.5261081484229484, 0.712695993641189, 0.47277684765070005, 0.5271744106174601, 0.6596177386730634, 0.29504859335290035, 0.6432271987793441, 0.8056348555295875, 0.6807499244754674, 0.7575483951537053, 0.8153384020357046], maxlen=20)\n",
      "eval_mean: 0.6193746802359801\n"
     ]
    },
    {
     "name": "stderr",
     "output_type": "stream",
     "text": [
      "\r",
      " 54%|██████████████████████████████████████▎                                | 53952/100000 [1:02:26<1:23:34,  9.18it/s]"
     ]
    },
    {
     "name": "stdout",
     "output_type": "stream",
     "text": [
      "self.get_collection_ratio(): 0.5183463396741883\n",
      "self.comms.count(True) : 1\n",
      "len(self.comms) : 1\n",
      "self.state.ratio_commed: 1.0\n",
      "self.comms.count(True) : 1\n",
      "len(self.comms) : 1\n",
      "self.evaluation_deque: deque([0.5369968180658876, 0.5650668281569162, 0.7417482750232993, 0.571917269696361, 0.7166534112782591, 0.5836482856182075, 0.6758917555889978, 0.5980300054974927, 0.5261081484229484, 0.712695993641189, 0.47277684765070005, 0.5271744106174601, 0.6596177386730634, 0.29504859335290035, 0.6432271987793441, 0.8056348555295875, 0.6807499244754674, 0.7575483951537053, 0.8153384020357046, 0.5183463396741883], maxlen=20)\n",
      "eval_mean: 0.620210974846584\n",
      "Saving best with: 0.620210974846584\n"
     ]
    },
    {
     "name": "stderr",
     "output_type": "stream",
     "text": [
      "\r",
      " 54%|██████████████████████████████████████▎                                | 54012/100000 [1:02:30<1:16:38, 10.00it/s]"
     ]
    },
    {
     "name": "stdout",
     "output_type": "stream",
     "text": [
      "self.evaluation_deque: deque([0.5369968180658876, 0.5650668281569162, 0.7417482750232993, 0.571917269696361, 0.7166534112782591, 0.5836482856182075, 0.6758917555889978, 0.5980300054974927, 0.5261081484229484, 0.712695993641189, 0.47277684765070005, 0.5271744106174601, 0.6596177386730634, 0.29504859335290035, 0.6432271987793441, 0.8056348555295875, 0.6807499244754674, 0.7575483951537053, 0.8153384020357046, 0.5183463396741883], maxlen=20)\n",
      "eval_mean: 0.620210974846584\n"
     ]
    },
    {
     "name": "stderr",
     "output_type": "stream",
     "text": [
      "\r",
      " 54%|██████████████████████████████████████▍                                | 54088/100000 [1:02:38<1:17:08,  9.92it/s]"
     ]
    },
    {
     "name": "stdout",
     "output_type": "stream",
     "text": [
      "self.evaluation_deque: deque([0.5369968180658876, 0.5650668281569162, 0.7417482750232993, 0.571917269696361, 0.7166534112782591, 0.5836482856182075, 0.6758917555889978, 0.5980300054974927, 0.5261081484229484, 0.712695993641189, 0.47277684765070005, 0.5271744106174601, 0.6596177386730634, 0.29504859335290035, 0.6432271987793441, 0.8056348555295875, 0.6807499244754674, 0.7575483951537053, 0.8153384020357046, 0.5183463396741883], maxlen=20)\n",
      "eval_mean: 0.620210974846584\n"
     ]
    },
    {
     "name": "stderr",
     "output_type": "stream",
     "text": [
      "\r",
      " 54%|██████████████████████████████████████▍                                | 54164/100000 [1:02:44<1:10:20, 10.86it/s]"
     ]
    },
    {
     "name": "stdout",
     "output_type": "stream",
     "text": [
      "self.evaluation_deque: deque([0.5369968180658876, 0.5650668281569162, 0.7417482750232993, 0.571917269696361, 0.7166534112782591, 0.5836482856182075, 0.6758917555889978, 0.5980300054974927, 0.5261081484229484, 0.712695993641189, 0.47277684765070005, 0.5271744106174601, 0.6596177386730634, 0.29504859335290035, 0.6432271987793441, 0.8056348555295875, 0.6807499244754674, 0.7575483951537053, 0.8153384020357046, 0.5183463396741883], maxlen=20)\n",
      "eval_mean: 0.620210974846584\n"
     ]
    },
    {
     "name": "stderr",
     "output_type": "stream",
     "text": [
      "\r",
      " 54%|██████████████████████████████████████▌                                | 54240/100000 [1:02:50<1:09:29, 10.98it/s]"
     ]
    },
    {
     "name": "stdout",
     "output_type": "stream",
     "text": [
      "self.evaluation_deque: deque([0.5369968180658876, 0.5650668281569162, 0.7417482750232993, 0.571917269696361, 0.7166534112782591, 0.5836482856182075, 0.6758917555889978, 0.5980300054974927, 0.5261081484229484, 0.712695993641189, 0.47277684765070005, 0.5271744106174601, 0.6596177386730634, 0.29504859335290035, 0.6432271987793441, 0.8056348555295875, 0.6807499244754674, 0.7575483951537053, 0.8153384020357046, 0.5183463396741883], maxlen=20)\n",
      "eval_mean: 0.620210974846584\n"
     ]
    },
    {
     "name": "stderr",
     "output_type": "stream",
     "text": [
      "\r",
      " 54%|██████████████████████████████████████▌                                | 54316/100000 [1:03:01<1:19:44,  9.55it/s]"
     ]
    },
    {
     "name": "stdout",
     "output_type": "stream",
     "text": [
      "self.get_collection_ratio(): 0.7141616343059167\n",
      "self.comms.count(True) : 2\n",
      "len(self.comms) : 2\n",
      "self.state.ratio_commed: 1.0\n",
      "self.comms.count(True) : 2\n",
      "len(self.comms) : 2\n",
      "self.evaluation_deque: deque([0.5650668281569162, 0.7417482750232993, 0.571917269696361, 0.7166534112782591, 0.5836482856182075, 0.6758917555889978, 0.5980300054974927, 0.5261081484229484, 0.712695993641189, 0.47277684765070005, 0.5271744106174601, 0.6596177386730634, 0.29504859335290035, 0.6432271987793441, 0.8056348555295875, 0.6807499244754674, 0.7575483951537053, 0.8153384020357046, 0.5183463396741883, 0.7141616343059167], maxlen=20)\n",
      "eval_mean: 0.6290692156585854\n",
      "Saving best with: 0.6290692156585854\n"
     ]
    },
    {
     "name": "stderr",
     "output_type": "stream",
     "text": [
      "\r",
      " 54%|██████████████████████████████████████▌                                | 54392/100000 [1:03:09<1:20:46,  9.41it/s]"
     ]
    },
    {
     "name": "stdout",
     "output_type": "stream",
     "text": [
      "self.evaluation_deque: deque([0.5650668281569162, 0.7417482750232993, 0.571917269696361, 0.7166534112782591, 0.5836482856182075, 0.6758917555889978, 0.5980300054974927, 0.5261081484229484, 0.712695993641189, 0.47277684765070005, 0.5271744106174601, 0.6596177386730634, 0.29504859335290035, 0.6432271987793441, 0.8056348555295875, 0.6807499244754674, 0.7575483951537053, 0.8153384020357046, 0.5183463396741883, 0.7141616343059167], maxlen=20)\n",
      "eval_mean: 0.6290692156585854\n"
     ]
    },
    {
     "name": "stderr",
     "output_type": "stream",
     "text": [
      "\r",
      " 54%|██████████████████████████████████████▋                                | 54468/100000 [1:03:17<1:19:29,  9.55it/s]"
     ]
    },
    {
     "name": "stdout",
     "output_type": "stream",
     "text": [
      "self.evaluation_deque: deque([0.5650668281569162, 0.7417482750232993, 0.571917269696361, 0.7166534112782591, 0.5836482856182075, 0.6758917555889978, 0.5980300054974927, 0.5261081484229484, 0.712695993641189, 0.47277684765070005, 0.5271744106174601, 0.6596177386730634, 0.29504859335290035, 0.6432271987793441, 0.8056348555295875, 0.6807499244754674, 0.7575483951537053, 0.8153384020357046, 0.5183463396741883, 0.7141616343059167], maxlen=20)\n",
      "eval_mean: 0.6290692156585854\n"
     ]
    },
    {
     "name": "stderr",
     "output_type": "stream",
     "text": [
      "\r",
      " 55%|██████████████████████████████████████▋                                | 54544/100000 [1:03:25<1:19:22,  9.55it/s]"
     ]
    },
    {
     "name": "stdout",
     "output_type": "stream",
     "text": [
      "self.evaluation_deque: deque([0.5650668281569162, 0.7417482750232993, 0.571917269696361, 0.7166534112782591, 0.5836482856182075, 0.6758917555889978, 0.5980300054974927, 0.5261081484229484, 0.712695993641189, 0.47277684765070005, 0.5271744106174601, 0.6596177386730634, 0.29504859335290035, 0.6432271987793441, 0.8056348555295875, 0.6807499244754674, 0.7575483951537053, 0.8153384020357046, 0.5183463396741883, 0.7141616343059167], maxlen=20)\n",
      "eval_mean: 0.6290692156585854\n"
     ]
    },
    {
     "name": "stderr",
     "output_type": "stream",
     "text": [
      "\r",
      " 55%|██████████████████████████████████████▊                                | 54620/100000 [1:03:31<1:15:17, 10.04it/s]"
     ]
    },
    {
     "name": "stdout",
     "output_type": "stream",
     "text": [
      "self.evaluation_deque: deque([0.5650668281569162, 0.7417482750232993, 0.571917269696361, 0.7166534112782591, 0.5836482856182075, 0.6758917555889978, 0.5980300054974927, 0.5261081484229484, 0.712695993641189, 0.47277684765070005, 0.5271744106174601, 0.6596177386730634, 0.29504859335290035, 0.6432271987793441, 0.8056348555295875, 0.6807499244754674, 0.7575483951537053, 0.8153384020357046, 0.5183463396741883, 0.7141616343059167], maxlen=20)\n",
      "eval_mean: 0.6290692156585854\n"
     ]
    },
    {
     "name": "stderr",
     "output_type": "stream",
     "text": [
      "\r",
      " 55%|██████████████████████████████████████▊                                | 54696/100000 [1:03:39<1:16:35,  9.86it/s]"
     ]
    },
    {
     "name": "stdout",
     "output_type": "stream",
     "text": [
      "self.get_collection_ratio(): 0.6273416364907008\n",
      "self.comms.count(True) : 2\n",
      "len(self.comms) : 2\n",
      "self.state.ratio_commed: 1.0\n",
      "self.comms.count(True) : 2\n",
      "len(self.comms) : 2\n",
      "self.evaluation_deque: deque([0.7417482750232993, 0.571917269696361, 0.7166534112782591, 0.5836482856182075, 0.6758917555889978, 0.5980300054974927, 0.5261081484229484, 0.712695993641189, 0.47277684765070005, 0.5271744106174601, 0.6596177386730634, 0.29504859335290035, 0.6432271987793441, 0.8056348555295875, 0.6807499244754674, 0.7575483951537053, 0.8153384020357046, 0.5183463396741883, 0.7141616343059167, 0.6273416364907008], maxlen=20)\n",
      "eval_mean: 0.6321829560752747\n",
      "Saving best with: 0.6321829560752747\n"
     ]
    },
    {
     "name": "stderr",
     "output_type": "stream",
     "text": [
      "\r",
      " 55%|██████████████████████████████████████▉                                | 54772/100000 [1:03:46<1:14:20, 10.14it/s]"
     ]
    },
    {
     "name": "stdout",
     "output_type": "stream",
     "text": [
      "self.evaluation_deque: deque([0.7417482750232993, 0.571917269696361, 0.7166534112782591, 0.5836482856182075, 0.6758917555889978, 0.5980300054974927, 0.5261081484229484, 0.712695993641189, 0.47277684765070005, 0.5271744106174601, 0.6596177386730634, 0.29504859335290035, 0.6432271987793441, 0.8056348555295875, 0.6807499244754674, 0.7575483951537053, 0.8153384020357046, 0.5183463396741883, 0.7141616343059167, 0.6273416364907008], maxlen=20)\n",
      "eval_mean: 0.6321829560752747\n"
     ]
    },
    {
     "name": "stderr",
     "output_type": "stream",
     "text": [
      "\r",
      " 55%|██████████████████████████████████████▉                                | 54848/100000 [1:03:53<1:12:35, 10.37it/s]"
     ]
    },
    {
     "name": "stdout",
     "output_type": "stream",
     "text": [
      "self.evaluation_deque: deque([0.7417482750232993, 0.571917269696361, 0.7166534112782591, 0.5836482856182075, 0.6758917555889978, 0.5980300054974927, 0.5261081484229484, 0.712695993641189, 0.47277684765070005, 0.5271744106174601, 0.6596177386730634, 0.29504859335290035, 0.6432271987793441, 0.8056348555295875, 0.6807499244754674, 0.7575483951537053, 0.8153384020357046, 0.5183463396741883, 0.7141616343059167, 0.6273416364907008], maxlen=20)\n",
      "eval_mean: 0.6321829560752747\n"
     ]
    },
    {
     "name": "stderr",
     "output_type": "stream",
     "text": [
      "\r",
      " 55%|██████████████████████████████████████▉                                | 54924/100000 [1:03:59<1:07:38, 11.11it/s]"
     ]
    },
    {
     "name": "stdout",
     "output_type": "stream",
     "text": [
      "self.evaluation_deque: deque([0.7417482750232993, 0.571917269696361, 0.7166534112782591, 0.5836482856182075, 0.6758917555889978, 0.5980300054974927, 0.5261081484229484, 0.712695993641189, 0.47277684765070005, 0.5271744106174601, 0.6596177386730634, 0.29504859335290035, 0.6432271987793441, 0.8056348555295875, 0.6807499244754674, 0.7575483951537053, 0.8153384020357046, 0.5183463396741883, 0.7141616343059167, 0.6273416364907008], maxlen=20)\n",
      "eval_mean: 0.6321829560752747\n"
     ]
    },
    {
     "name": "stderr",
     "output_type": "stream",
     "text": [
      "\r",
      " 55%|███████████████████████████████████████                                | 55000/100000 [1:04:06<1:07:03, 11.18it/s]"
     ]
    },
    {
     "name": "stdout",
     "output_type": "stream",
     "text": [
      "self.evaluation_deque: deque([0.7417482750232993, 0.571917269696361, 0.7166534112782591, 0.5836482856182075, 0.6758917555889978, 0.5980300054974927, 0.5261081484229484, 0.712695993641189, 0.47277684765070005, 0.5271744106174601, 0.6596177386730634, 0.29504859335290035, 0.6432271987793441, 0.8056348555295875, 0.6807499244754674, 0.7575483951537053, 0.8153384020357046, 0.5183463396741883, 0.7141616343059167, 0.6273416364907008], maxlen=20)\n",
      "eval_mean: 0.6321829560752747\n"
     ]
    },
    {
     "name": "stderr",
     "output_type": "stream",
     "text": [
      "\r",
      " 55%|███████████████████████████████████████                                | 55076/100000 [1:04:14<1:11:52, 10.42it/s]"
     ]
    },
    {
     "name": "stdout",
     "output_type": "stream",
     "text": [
      "self.get_collection_ratio(): 0.9443665160077106\n",
      "self.comms.count(True) : 2\n",
      "len(self.comms) : 3\n",
      "self.state.ratio_commed: 0.6666666666666666\n",
      "self.comms.count(True) : 2\n",
      "len(self.comms) : 3\n",
      "self.evaluation_deque: deque([0.571917269696361, 0.7166534112782591, 0.5836482856182075, 0.6758917555889978, 0.5980300054974927, 0.5261081484229484, 0.712695993641189, 0.47277684765070005, 0.5271744106174601, 0.6596177386730634, 0.29504859335290035, 0.6432271987793441, 0.8056348555295875, 0.6807499244754674, 0.7575483951537053, 0.8153384020357046, 0.5183463396741883, 0.7141616343059167, 0.6273416364907008, 0.6295776773384737], maxlen=20)\n",
      "eval_mean: 0.6265744261910335\n"
     ]
    },
    {
     "name": "stderr",
     "output_type": "stream",
     "text": [
      "\r",
      " 55%|███████████████████████████████████████▏                               | 55152/100000 [1:04:21<1:09:07, 10.81it/s]"
     ]
    },
    {
     "name": "stdout",
     "output_type": "stream",
     "text": [
      "self.evaluation_deque: deque([0.571917269696361, 0.7166534112782591, 0.5836482856182075, 0.6758917555889978, 0.5980300054974927, 0.5261081484229484, 0.712695993641189, 0.47277684765070005, 0.5271744106174601, 0.6596177386730634, 0.29504859335290035, 0.6432271987793441, 0.8056348555295875, 0.6807499244754674, 0.7575483951537053, 0.8153384020357046, 0.5183463396741883, 0.7141616343059167, 0.6273416364907008, 0.6295776773384737], maxlen=20)\n",
      "eval_mean: 0.6265744261910335\n"
     ]
    },
    {
     "name": "stderr",
     "output_type": "stream",
     "text": [
      "\r",
      " 55%|███████████████████████████████████████▏                               | 55228/100000 [1:04:29<1:11:25, 10.45it/s]"
     ]
    },
    {
     "name": "stdout",
     "output_type": "stream",
     "text": [
      "self.evaluation_deque: deque([0.571917269696361, 0.7166534112782591, 0.5836482856182075, 0.6758917555889978, 0.5980300054974927, 0.5261081484229484, 0.712695993641189, 0.47277684765070005, 0.5271744106174601, 0.6596177386730634, 0.29504859335290035, 0.6432271987793441, 0.8056348555295875, 0.6807499244754674, 0.7575483951537053, 0.8153384020357046, 0.5183463396741883, 0.7141616343059167, 0.6273416364907008, 0.6295776773384737], maxlen=20)\n",
      "eval_mean: 0.6265744261910335\n"
     ]
    },
    {
     "name": "stderr",
     "output_type": "stream",
     "text": [
      "\r",
      " 55%|███████████████████████████████████████▎                               | 55304/100000 [1:04:35<1:09:38, 10.70it/s]"
     ]
    },
    {
     "name": "stdout",
     "output_type": "stream",
     "text": [
      "self.evaluation_deque: deque([0.571917269696361, 0.7166534112782591, 0.5836482856182075, 0.6758917555889978, 0.5980300054974927, 0.5261081484229484, 0.712695993641189, 0.47277684765070005, 0.5271744106174601, 0.6596177386730634, 0.29504859335290035, 0.6432271987793441, 0.8056348555295875, 0.6807499244754674, 0.7575483951537053, 0.8153384020357046, 0.5183463396741883, 0.7141616343059167, 0.6273416364907008, 0.6295776773384737], maxlen=20)\n",
      "eval_mean: 0.6265744261910335\n"
     ]
    },
    {
     "name": "stderr",
     "output_type": "stream",
     "text": [
      "\r",
      " 55%|███████████████████████████████████████▎                               | 55380/100000 [1:04:42<1:08:22, 10.88it/s]"
     ]
    },
    {
     "name": "stdout",
     "output_type": "stream",
     "text": [
      "self.evaluation_deque: deque([0.571917269696361, 0.7166534112782591, 0.5836482856182075, 0.6758917555889978, 0.5980300054974927, 0.5261081484229484, 0.712695993641189, 0.47277684765070005, 0.5271744106174601, 0.6596177386730634, 0.29504859335290035, 0.6432271987793441, 0.8056348555295875, 0.6807499244754674, 0.7575483951537053, 0.8153384020357046, 0.5183463396741883, 0.7141616343059167, 0.6273416364907008, 0.6295776773384737], maxlen=20)\n",
      "eval_mean: 0.6265744261910335\n"
     ]
    },
    {
     "name": "stderr",
     "output_type": "stream",
     "text": [
      "\r",
      " 55%|███████████████████████████████████████▎                               | 55456/100000 [1:04:51<1:14:18,  9.99it/s]"
     ]
    },
    {
     "name": "stdout",
     "output_type": "stream",
     "text": [
      "self.get_collection_ratio(): 0.7033493808244209\n",
      "self.comms.count(True) : 2\n",
      "len(self.comms) : 2\n",
      "self.state.ratio_commed: 1.0\n",
      "self.comms.count(True) : 2\n",
      "len(self.comms) : 2\n",
      "self.evaluation_deque: deque([0.7166534112782591, 0.5836482856182075, 0.6758917555889978, 0.5980300054974927, 0.5261081484229484, 0.712695993641189, 0.47277684765070005, 0.5271744106174601, 0.6596177386730634, 0.29504859335290035, 0.6432271987793441, 0.8056348555295875, 0.6807499244754674, 0.7575483951537053, 0.8153384020357046, 0.5183463396741883, 0.7141616343059167, 0.6273416364907008, 0.6295776773384737, 0.7033493808244209], maxlen=20)\n",
      "eval_mean: 0.6331460317474364\n",
      "Saving best with: 0.6331460317474364\n"
     ]
    },
    {
     "name": "stderr",
     "output_type": "stream",
     "text": [
      "\r",
      " 56%|███████████████████████████████████████▍                               | 55532/100000 [1:04:57<1:08:18, 10.85it/s]"
     ]
    },
    {
     "name": "stdout",
     "output_type": "stream",
     "text": [
      "self.evaluation_deque: deque([0.7166534112782591, 0.5836482856182075, 0.6758917555889978, 0.5980300054974927, 0.5261081484229484, 0.712695993641189, 0.47277684765070005, 0.5271744106174601, 0.6596177386730634, 0.29504859335290035, 0.6432271987793441, 0.8056348555295875, 0.6807499244754674, 0.7575483951537053, 0.8153384020357046, 0.5183463396741883, 0.7141616343059167, 0.6273416364907008, 0.6295776773384737, 0.7033493808244209], maxlen=20)\n",
      "eval_mean: 0.6331460317474364\n"
     ]
    },
    {
     "name": "stderr",
     "output_type": "stream",
     "text": [
      "\r",
      " 56%|███████████████████████████████████████▍                               | 55608/100000 [1:05:03<1:07:20, 10.99it/s]"
     ]
    },
    {
     "name": "stdout",
     "output_type": "stream",
     "text": [
      "self.evaluation_deque: deque([0.7166534112782591, 0.5836482856182075, 0.6758917555889978, 0.5980300054974927, 0.5261081484229484, 0.712695993641189, 0.47277684765070005, 0.5271744106174601, 0.6596177386730634, 0.29504859335290035, 0.6432271987793441, 0.8056348555295875, 0.6807499244754674, 0.7575483951537053, 0.8153384020357046, 0.5183463396741883, 0.7141616343059167, 0.6273416364907008, 0.6295776773384737, 0.7033493808244209], maxlen=20)\n",
      "eval_mean: 0.6331460317474364\n"
     ]
    },
    {
     "name": "stderr",
     "output_type": "stream",
     "text": [
      "\r",
      " 56%|███████████████████████████████████████▌                               | 55684/100000 [1:05:11<1:09:51, 10.57it/s]"
     ]
    },
    {
     "name": "stdout",
     "output_type": "stream",
     "text": [
      "self.evaluation_deque: deque([0.7166534112782591, 0.5836482856182075, 0.6758917555889978, 0.5980300054974927, 0.5261081484229484, 0.712695993641189, 0.47277684765070005, 0.5271744106174601, 0.6596177386730634, 0.29504859335290035, 0.6432271987793441, 0.8056348555295875, 0.6807499244754674, 0.7575483951537053, 0.8153384020357046, 0.5183463396741883, 0.7141616343059167, 0.6273416364907008, 0.6295776773384737, 0.7033493808244209], maxlen=20)\n",
      "eval_mean: 0.6331460317474364\n"
     ]
    },
    {
     "name": "stderr",
     "output_type": "stream",
     "text": [
      "\r",
      " 56%|███████████████████████████████████████▌                               | 55760/100000 [1:05:17<1:04:52, 11.36it/s]"
     ]
    },
    {
     "name": "stdout",
     "output_type": "stream",
     "text": [
      "self.evaluation_deque: deque([0.7166534112782591, 0.5836482856182075, 0.6758917555889978, 0.5980300054974927, 0.5261081484229484, 0.712695993641189, 0.47277684765070005, 0.5271744106174601, 0.6596177386730634, 0.29504859335290035, 0.6432271987793441, 0.8056348555295875, 0.6807499244754674, 0.7575483951537053, 0.8153384020357046, 0.5183463396741883, 0.7141616343059167, 0.6273416364907008, 0.6295776773384737, 0.7033493808244209], maxlen=20)\n",
      "eval_mean: 0.6331460317474364\n"
     ]
    },
    {
     "name": "stderr",
     "output_type": "stream",
     "text": [
      "\r",
      " 56%|███████████████████████████████████████▋                               | 55836/100000 [1:05:28<1:16:58,  9.56it/s]"
     ]
    },
    {
     "name": "stdout",
     "output_type": "stream",
     "text": [
      "self.get_collection_ratio(): 0.7926821596074662\n",
      "self.comms.count(True) : 3\n",
      "len(self.comms) : 3\n",
      "self.state.ratio_commed: 1.0\n",
      "self.comms.count(True) : 3\n",
      "len(self.comms) : 3\n",
      "self.evaluation_deque: deque([0.5836482856182075, 0.6758917555889978, 0.5980300054974927, 0.5261081484229484, 0.712695993641189, 0.47277684765070005, 0.5271744106174601, 0.6596177386730634, 0.29504859335290035, 0.6432271987793441, 0.8056348555295875, 0.6807499244754674, 0.7575483951537053, 0.8153384020357046, 0.5183463396741883, 0.7141616343059167, 0.6273416364907008, 0.6295776773384737, 0.7033493808244209, 0.7926821596074662], maxlen=20)\n",
      "eval_mean: 0.6369474691638968\n",
      "Saving best with: 0.6369474691638968\n"
     ]
    },
    {
     "name": "stderr",
     "output_type": "stream",
     "text": [
      "\r",
      " 56%|███████████████████████████████████████▋                               | 55912/100000 [1:05:35<1:16:34,  9.60it/s]"
     ]
    },
    {
     "name": "stdout",
     "output_type": "stream",
     "text": [
      "self.evaluation_deque: deque([0.5836482856182075, 0.6758917555889978, 0.5980300054974927, 0.5261081484229484, 0.712695993641189, 0.47277684765070005, 0.5271744106174601, 0.6596177386730634, 0.29504859335290035, 0.6432271987793441, 0.8056348555295875, 0.6807499244754674, 0.7575483951537053, 0.8153384020357046, 0.5183463396741883, 0.7141616343059167, 0.6273416364907008, 0.6295776773384737, 0.7033493808244209, 0.7926821596074662], maxlen=20)\n",
      "eval_mean: 0.6369474691638968\n"
     ]
    },
    {
     "name": "stderr",
     "output_type": "stream",
     "text": [
      "\r",
      " 56%|███████████████████████████████████████▊                               | 55988/100000 [1:05:42<1:12:59, 10.05it/s]"
     ]
    },
    {
     "name": "stdout",
     "output_type": "stream",
     "text": [
      "self.evaluation_deque: deque([0.5836482856182075, 0.6758917555889978, 0.5980300054974927, 0.5261081484229484, 0.712695993641189, 0.47277684765070005, 0.5271744106174601, 0.6596177386730634, 0.29504859335290035, 0.6432271987793441, 0.8056348555295875, 0.6807499244754674, 0.7575483951537053, 0.8153384020357046, 0.5183463396741883, 0.7141616343059167, 0.6273416364907008, 0.6295776773384737, 0.7033493808244209, 0.7926821596074662], maxlen=20)\n",
      "eval_mean: 0.6369474691638968\n"
     ]
    },
    {
     "name": "stderr",
     "output_type": "stream",
     "text": [
      "\r",
      " 56%|███████████████████████████████████████▊                               | 56064/100000 [1:05:50<1:13:38,  9.94it/s]"
     ]
    },
    {
     "name": "stdout",
     "output_type": "stream",
     "text": [
      "self.evaluation_deque: deque([0.5836482856182075, 0.6758917555889978, 0.5980300054974927, 0.5261081484229484, 0.712695993641189, 0.47277684765070005, 0.5271744106174601, 0.6596177386730634, 0.29504859335290035, 0.6432271987793441, 0.8056348555295875, 0.6807499244754674, 0.7575483951537053, 0.8153384020357046, 0.5183463396741883, 0.7141616343059167, 0.6273416364907008, 0.6295776773384737, 0.7033493808244209, 0.7926821596074662], maxlen=20)\n",
      "eval_mean: 0.6369474691638968\n"
     ]
    },
    {
     "name": "stderr",
     "output_type": "stream",
     "text": [
      "\r",
      " 56%|███████████████████████████████████████▊                               | 56140/100000 [1:05:57<1:10:48, 10.32it/s]"
     ]
    },
    {
     "name": "stdout",
     "output_type": "stream",
     "text": [
      "self.evaluation_deque: deque([0.5836482856182075, 0.6758917555889978, 0.5980300054974927, 0.5261081484229484, 0.712695993641189, 0.47277684765070005, 0.5271744106174601, 0.6596177386730634, 0.29504859335290035, 0.6432271987793441, 0.8056348555295875, 0.6807499244754674, 0.7575483951537053, 0.8153384020357046, 0.5183463396741883, 0.7141616343059167, 0.6273416364907008, 0.6295776773384737, 0.7033493808244209, 0.7926821596074662], maxlen=20)\n",
      "eval_mean: 0.6369474691638968\n"
     ]
    },
    {
     "name": "stderr",
     "output_type": "stream",
     "text": [
      "\r",
      " 56%|███████████████████████████████████████▉                               | 56216/100000 [1:06:05<1:12:12, 10.11it/s]"
     ]
    },
    {
     "name": "stdout",
     "output_type": "stream",
     "text": [
      "self.get_collection_ratio(): 0.6588550671340823\n",
      "self.comms.count(True) : 2\n",
      "len(self.comms) : 2\n",
      "self.state.ratio_commed: 1.0\n",
      "self.comms.count(True) : 2\n",
      "len(self.comms) : 2\n",
      "self.evaluation_deque: deque([0.6758917555889978, 0.5980300054974927, 0.5261081484229484, 0.712695993641189, 0.47277684765070005, 0.5271744106174601, 0.6596177386730634, 0.29504859335290035, 0.6432271987793441, 0.8056348555295875, 0.6807499244754674, 0.7575483951537053, 0.8153384020357046, 0.5183463396741883, 0.7141616343059167, 0.6273416364907008, 0.6295776773384737, 0.7033493808244209, 0.7926821596074662, 0.6588550671340823], maxlen=20)\n",
      "eval_mean: 0.6407078082396904\n",
      "Saving best with: 0.6407078082396904\n"
     ]
    },
    {
     "name": "stderr",
     "output_type": "stream",
     "text": [
      "\r",
      " 56%|███████████████████████████████████████▉                               | 56292/100000 [1:06:11<1:09:43, 10.45it/s]"
     ]
    },
    {
     "name": "stdout",
     "output_type": "stream",
     "text": [
      "self.evaluation_deque: deque([0.6758917555889978, 0.5980300054974927, 0.5261081484229484, 0.712695993641189, 0.47277684765070005, 0.5271744106174601, 0.6596177386730634, 0.29504859335290035, 0.6432271987793441, 0.8056348555295875, 0.6807499244754674, 0.7575483951537053, 0.8153384020357046, 0.5183463396741883, 0.7141616343059167, 0.6273416364907008, 0.6295776773384737, 0.7033493808244209, 0.7926821596074662, 0.6588550671340823], maxlen=20)\n",
      "eval_mean: 0.6407078082396904\n"
     ]
    },
    {
     "name": "stderr",
     "output_type": "stream",
     "text": [
      " 56%|████████████████████████████████████████                               | 56368/100000 [1:06:24<1:25:54,  8.47it/s]"
     ]
    },
    {
     "name": "stdout",
     "output_type": "stream",
     "text": [
      "self.evaluation_deque: deque([0.6758917555889978, 0.5980300054974927, 0.5261081484229484, 0.712695993641189, 0.47277684765070005, 0.5271744106174601, 0.6596177386730634, 0.29504859335290035, 0.6432271987793441, 0.8056348555295875, 0.6807499244754674, 0.7575483951537053, 0.8153384020357046, 0.5183463396741883, 0.7141616343059167, 0.6273416364907008, 0.6295776773384737, 0.7033493808244209, 0.7926821596074662, 0.6588550671340823], maxlen=20)\n",
      "eval_mean: 0.6407078082396904\n"
     ]
    },
    {
     "name": "stderr",
     "output_type": "stream",
     "text": [
      "\r",
      " 56%|████████████████████████████████████████                               | 56444/100000 [1:06:30<1:15:51,  9.57it/s]"
     ]
    },
    {
     "name": "stdout",
     "output_type": "stream",
     "text": [
      "self.evaluation_deque: deque([0.6758917555889978, 0.5980300054974927, 0.5261081484229484, 0.712695993641189, 0.47277684765070005, 0.5271744106174601, 0.6596177386730634, 0.29504859335290035, 0.6432271987793441, 0.8056348555295875, 0.6807499244754674, 0.7575483951537053, 0.8153384020357046, 0.5183463396741883, 0.7141616343059167, 0.6273416364907008, 0.6295776773384737, 0.7033493808244209, 0.7926821596074662, 0.6588550671340823], maxlen=20)\n",
      "eval_mean: 0.6407078082396904\n"
     ]
    },
    {
     "name": "stderr",
     "output_type": "stream",
     "text": [
      "\r",
      " 57%|████████████████████████████████████████▏                              | 56520/100000 [1:06:36<1:12:04, 10.05it/s]"
     ]
    },
    {
     "name": "stdout",
     "output_type": "stream",
     "text": [
      "self.evaluation_deque: deque([0.6758917555889978, 0.5980300054974927, 0.5261081484229484, 0.712695993641189, 0.47277684765070005, 0.5271744106174601, 0.6596177386730634, 0.29504859335290035, 0.6432271987793441, 0.8056348555295875, 0.6807499244754674, 0.7575483951537053, 0.8153384020357046, 0.5183463396741883, 0.7141616343059167, 0.6273416364907008, 0.6295776773384737, 0.7033493808244209, 0.7926821596074662, 0.6588550671340823], maxlen=20)\n",
      "eval_mean: 0.6407078082396904\n"
     ]
    },
    {
     "name": "stderr",
     "output_type": "stream",
     "text": [
      "\r",
      " 57%|████████████████████████████████████████▏                              | 56596/100000 [1:06:43<1:10:38, 10.24it/s]"
     ]
    },
    {
     "name": "stdout",
     "output_type": "stream",
     "text": [
      "self.get_collection_ratio(): 0.5496551109131667\n",
      "self.comms.count(True) : 1\n",
      "len(self.comms) : 1\n",
      "self.state.ratio_commed: 1.0\n",
      "self.comms.count(True) : 1\n",
      "len(self.comms) : 1\n",
      "self.evaluation_deque: deque([0.5980300054974927, 0.5261081484229484, 0.712695993641189, 0.47277684765070005, 0.5271744106174601, 0.6596177386730634, 0.29504859335290035, 0.6432271987793441, 0.8056348555295875, 0.6807499244754674, 0.7575483951537053, 0.8153384020357046, 0.5183463396741883, 0.7141616343059167, 0.6273416364907008, 0.6295776773384737, 0.7033493808244209, 0.7926821596074662, 0.6588550671340823, 0.5496551109131667], maxlen=20)\n",
      "eval_mean: 0.6343959760058988\n"
     ]
    },
    {
     "name": "stderr",
     "output_type": "stream",
     "text": [
      "\r",
      " 57%|████████████████████████████████████████▏                              | 56672/100000 [1:06:50<1:08:36, 10.53it/s]"
     ]
    },
    {
     "name": "stdout",
     "output_type": "stream",
     "text": [
      "self.evaluation_deque: deque([0.5980300054974927, 0.5261081484229484, 0.712695993641189, 0.47277684765070005, 0.5271744106174601, 0.6596177386730634, 0.29504859335290035, 0.6432271987793441, 0.8056348555295875, 0.6807499244754674, 0.7575483951537053, 0.8153384020357046, 0.5183463396741883, 0.7141616343059167, 0.6273416364907008, 0.6295776773384737, 0.7033493808244209, 0.7926821596074662, 0.6588550671340823, 0.5496551109131667], maxlen=20)\n",
      "eval_mean: 0.6343959760058988\n"
     ]
    },
    {
     "name": "stderr",
     "output_type": "stream",
     "text": [
      "\r",
      " 57%|████████████████████████████████████████▎                              | 56748/100000 [1:06:56<1:03:52, 11.29it/s]"
     ]
    },
    {
     "name": "stdout",
     "output_type": "stream",
     "text": [
      "self.evaluation_deque: deque([0.5980300054974927, 0.5261081484229484, 0.712695993641189, 0.47277684765070005, 0.5271744106174601, 0.6596177386730634, 0.29504859335290035, 0.6432271987793441, 0.8056348555295875, 0.6807499244754674, 0.7575483951537053, 0.8153384020357046, 0.5183463396741883, 0.7141616343059167, 0.6273416364907008, 0.6295776773384737, 0.7033493808244209, 0.7926821596074662, 0.6588550671340823, 0.5496551109131667], maxlen=20)\n",
      "eval_mean: 0.6343959760058988\n"
     ]
    },
    {
     "name": "stderr",
     "output_type": "stream",
     "text": [
      "\r",
      " 57%|████████████████████████████████████████▎                              | 56824/100000 [1:07:03<1:03:38, 11.31it/s]"
     ]
    },
    {
     "name": "stdout",
     "output_type": "stream",
     "text": [
      "self.evaluation_deque: deque([0.5980300054974927, 0.5261081484229484, 0.712695993641189, 0.47277684765070005, 0.5271744106174601, 0.6596177386730634, 0.29504859335290035, 0.6432271987793441, 0.8056348555295875, 0.6807499244754674, 0.7575483951537053, 0.8153384020357046, 0.5183463396741883, 0.7141616343059167, 0.6273416364907008, 0.6295776773384737, 0.7033493808244209, 0.7926821596074662, 0.6588550671340823, 0.5496551109131667], maxlen=20)\n",
      "eval_mean: 0.6343959760058988\n"
     ]
    },
    {
     "name": "stderr",
     "output_type": "stream",
     "text": [
      "\r",
      " 57%|████████████████████████████████████████▍                              | 56900/100000 [1:07:08<1:00:12, 11.93it/s]"
     ]
    },
    {
     "name": "stdout",
     "output_type": "stream",
     "text": [
      "self.evaluation_deque: deque([0.5980300054974927, 0.5261081484229484, 0.712695993641189, 0.47277684765070005, 0.5271744106174601, 0.6596177386730634, 0.29504859335290035, 0.6432271987793441, 0.8056348555295875, 0.6807499244754674, 0.7575483951537053, 0.8153384020357046, 0.5183463396741883, 0.7141616343059167, 0.6273416364907008, 0.6295776773384737, 0.7033493808244209, 0.7926821596074662, 0.6588550671340823, 0.5496551109131667], maxlen=20)\n",
      "eval_mean: 0.6343959760058988\n"
     ]
    },
    {
     "name": "stderr",
     "output_type": "stream",
     "text": [
      "\r",
      " 57%|████████████████████████████████████████▍                              | 56976/100000 [1:07:19<1:11:45,  9.99it/s]"
     ]
    },
    {
     "name": "stdout",
     "output_type": "stream",
     "text": [
      "self.get_collection_ratio(): 0.875691598569224\n",
      "self.comms.count(True) : 2\n",
      "len(self.comms) : 3\n",
      "self.state.ratio_commed: 0.6666666666666666\n",
      "self.comms.count(True) : 2\n",
      "len(self.comms) : 3\n",
      "self.evaluation_deque: deque([0.5261081484229484, 0.712695993641189, 0.47277684765070005, 0.5271744106174601, 0.6596177386730634, 0.29504859335290035, 0.6432271987793441, 0.8056348555295875, 0.6807499244754674, 0.7575483951537053, 0.8153384020357046, 0.5183463396741883, 0.7141616343059167, 0.6273416364907008, 0.6295776773384737, 0.7033493808244209, 0.7926821596074662, 0.6588550671340823, 0.5496551109131667, 0.5837943990461493], maxlen=20)\n",
      "eval_mean: 0.6336841956833317\n"
     ]
    },
    {
     "name": "stderr",
     "output_type": "stream",
     "text": [
      "\r",
      " 57%|████████████████████████████████████████▌                              | 57052/100000 [1:07:24<1:05:50, 10.87it/s]"
     ]
    },
    {
     "name": "stdout",
     "output_type": "stream",
     "text": [
      "self.evaluation_deque: deque([0.5261081484229484, 0.712695993641189, 0.47277684765070005, 0.5271744106174601, 0.6596177386730634, 0.29504859335290035, 0.6432271987793441, 0.8056348555295875, 0.6807499244754674, 0.7575483951537053, 0.8153384020357046, 0.5183463396741883, 0.7141616343059167, 0.6273416364907008, 0.6295776773384737, 0.7033493808244209, 0.7926821596074662, 0.6588550671340823, 0.5496551109131667, 0.5837943990461493], maxlen=20)\n",
      "eval_mean: 0.6336841956833317\n"
     ]
    },
    {
     "name": "stderr",
     "output_type": "stream",
     "text": [
      "\r",
      " 57%|████████████████████████████████████████▌                              | 57128/100000 [1:07:31<1:04:50, 11.02it/s]"
     ]
    },
    {
     "name": "stdout",
     "output_type": "stream",
     "text": [
      "self.evaluation_deque: deque([0.5261081484229484, 0.712695993641189, 0.47277684765070005, 0.5271744106174601, 0.6596177386730634, 0.29504859335290035, 0.6432271987793441, 0.8056348555295875, 0.6807499244754674, 0.7575483951537053, 0.8153384020357046, 0.5183463396741883, 0.7141616343059167, 0.6273416364907008, 0.6295776773384737, 0.7033493808244209, 0.7926821596074662, 0.6588550671340823, 0.5496551109131667, 0.5837943990461493], maxlen=20)\n",
      "eval_mean: 0.6336841956833317\n"
     ]
    },
    {
     "name": "stderr",
     "output_type": "stream",
     "text": [
      "\r",
      " 57%|████████████████████████████████████████▌                              | 57204/100000 [1:07:38<1:06:37, 10.71it/s]"
     ]
    },
    {
     "name": "stdout",
     "output_type": "stream",
     "text": [
      "self.evaluation_deque: deque([0.5261081484229484, 0.712695993641189, 0.47277684765070005, 0.5271744106174601, 0.6596177386730634, 0.29504859335290035, 0.6432271987793441, 0.8056348555295875, 0.6807499244754674, 0.7575483951537053, 0.8153384020357046, 0.5183463396741883, 0.7141616343059167, 0.6273416364907008, 0.6295776773384737, 0.7033493808244209, 0.7926821596074662, 0.6588550671340823, 0.5496551109131667, 0.5837943990461493], maxlen=20)\n",
      "eval_mean: 0.6336841956833317\n"
     ]
    },
    {
     "name": "stderr",
     "output_type": "stream",
     "text": [
      "\r",
      " 57%|████████████████████████████████████████▋                              | 57280/100000 [1:07:44<1:02:05, 11.47it/s]"
     ]
    },
    {
     "name": "stdout",
     "output_type": "stream",
     "text": [
      "self.evaluation_deque: deque([0.5261081484229484, 0.712695993641189, 0.47277684765070005, 0.5271744106174601, 0.6596177386730634, 0.29504859335290035, 0.6432271987793441, 0.8056348555295875, 0.6807499244754674, 0.7575483951537053, 0.8153384020357046, 0.5183463396741883, 0.7141616343059167, 0.6273416364907008, 0.6295776773384737, 0.7033493808244209, 0.7926821596074662, 0.6588550671340823, 0.5496551109131667, 0.5837943990461493], maxlen=20)\n",
      "eval_mean: 0.6336841956833317\n"
     ]
    },
    {
     "name": "stderr",
     "output_type": "stream",
     "text": [
      "\r",
      " 57%|████████████████████████████████████████▋                              | 57356/100000 [1:07:55<1:14:06,  9.59it/s]"
     ]
    },
    {
     "name": "stdout",
     "output_type": "stream",
     "text": [
      "self.get_collection_ratio(): 0.8029646754010421\n",
      "self.comms.count(True) : 3\n",
      "len(self.comms) : 3\n",
      "self.state.ratio_commed: 1.0\n",
      "self.comms.count(True) : 3\n",
      "len(self.comms) : 3\n",
      "self.evaluation_deque: deque([0.712695993641189, 0.47277684765070005, 0.5271744106174601, 0.6596177386730634, 0.29504859335290035, 0.6432271987793441, 0.8056348555295875, 0.6807499244754674, 0.7575483951537053, 0.8153384020357046, 0.5183463396741883, 0.7141616343059167, 0.6273416364907008, 0.6295776773384737, 0.7033493808244209, 0.7926821596074662, 0.6588550671340823, 0.5496551109131667, 0.5837943990461493, 0.8029646754010421], maxlen=20)\n",
      "eval_mean: 0.6475270220322364\n",
      "Saving best with: 0.6475270220322364\n"
     ]
    },
    {
     "name": "stderr",
     "output_type": "stream",
     "text": [
      "\r",
      " 57%|████████████████████████████████████████▊                              | 57432/100000 [1:08:03<1:13:51,  9.61it/s]"
     ]
    },
    {
     "name": "stdout",
     "output_type": "stream",
     "text": [
      "self.evaluation_deque: deque([0.712695993641189, 0.47277684765070005, 0.5271744106174601, 0.6596177386730634, 0.29504859335290035, 0.6432271987793441, 0.8056348555295875, 0.6807499244754674, 0.7575483951537053, 0.8153384020357046, 0.5183463396741883, 0.7141616343059167, 0.6273416364907008, 0.6295776773384737, 0.7033493808244209, 0.7926821596074662, 0.6588550671340823, 0.5496551109131667, 0.5837943990461493, 0.8029646754010421], maxlen=20)\n",
      "eval_mean: 0.6475270220322364\n"
     ]
    },
    {
     "name": "stderr",
     "output_type": "stream",
     "text": [
      "\r",
      " 58%|████████████████████████████████████████▊                              | 57508/100000 [1:08:11<1:13:41,  9.61it/s]"
     ]
    },
    {
     "name": "stdout",
     "output_type": "stream",
     "text": [
      "self.evaluation_deque: deque([0.712695993641189, 0.47277684765070005, 0.5271744106174601, 0.6596177386730634, 0.29504859335290035, 0.6432271987793441, 0.8056348555295875, 0.6807499244754674, 0.7575483951537053, 0.8153384020357046, 0.5183463396741883, 0.7141616343059167, 0.6273416364907008, 0.6295776773384737, 0.7033493808244209, 0.7926821596074662, 0.6588550671340823, 0.5496551109131667, 0.5837943990461493, 0.8029646754010421], maxlen=20)\n",
      "eval_mean: 0.6475270220322364\n"
     ]
    },
    {
     "name": "stderr",
     "output_type": "stream",
     "text": [
      "\r",
      " 58%|████████████████████████████████████████▉                              | 57584/100000 [1:08:16<1:07:05, 10.54it/s]"
     ]
    },
    {
     "name": "stdout",
     "output_type": "stream",
     "text": [
      "self.evaluation_deque: deque([0.712695993641189, 0.47277684765070005, 0.5271744106174601, 0.6596177386730634, 0.29504859335290035, 0.6432271987793441, 0.8056348555295875, 0.6807499244754674, 0.7575483951537053, 0.8153384020357046, 0.5183463396741883, 0.7141616343059167, 0.6273416364907008, 0.6295776773384737, 0.7033493808244209, 0.7926821596074662, 0.6588550671340823, 0.5496551109131667, 0.5837943990461493, 0.8029646754010421], maxlen=20)\n",
      "eval_mean: 0.6475270220322364\n"
     ]
    },
    {
     "name": "stderr",
     "output_type": "stream",
     "text": [
      "\r",
      " 58%|████████████████████████████████████████▉                              | 57660/100000 [1:08:24<1:08:23, 10.32it/s]"
     ]
    },
    {
     "name": "stdout",
     "output_type": "stream",
     "text": [
      "self.evaluation_deque: deque([0.712695993641189, 0.47277684765070005, 0.5271744106174601, 0.6596177386730634, 0.29504859335290035, 0.6432271987793441, 0.8056348555295875, 0.6807499244754674, 0.7575483951537053, 0.8153384020357046, 0.5183463396741883, 0.7141616343059167, 0.6273416364907008, 0.6295776773384737, 0.7033493808244209, 0.7926821596074662, 0.6588550671340823, 0.5496551109131667, 0.5837943990461493, 0.8029646754010421], maxlen=20)\n",
      "eval_mean: 0.6475270220322364\n"
     ]
    },
    {
     "name": "stderr",
     "output_type": "stream",
     "text": [
      "\r",
      " 58%|████████████████████████████████████████▉                              | 57736/100000 [1:08:35<1:17:47,  9.05it/s]"
     ]
    },
    {
     "name": "stdout",
     "output_type": "stream",
     "text": [
      "self.get_collection_ratio(): 0.6732171177788641\n",
      "self.comms.count(True) : 3\n",
      "len(self.comms) : 3\n",
      "self.state.ratio_commed: 1.0\n",
      "self.comms.count(True) : 3\n",
      "len(self.comms) : 3\n",
      "self.evaluation_deque: deque([0.47277684765070005, 0.5271744106174601, 0.6596177386730634, 0.29504859335290035, 0.6432271987793441, 0.8056348555295875, 0.6807499244754674, 0.7575483951537053, 0.8153384020357046, 0.5183463396741883, 0.7141616343059167, 0.6273416364907008, 0.6295776773384737, 0.7033493808244209, 0.7926821596074662, 0.6588550671340823, 0.5496551109131667, 0.5837943990461493, 0.8029646754010421, 0.6732171177788641], maxlen=20)\n",
      "eval_mean: 0.6455530782391202\n"
     ]
    },
    {
     "name": "stderr",
     "output_type": "stream",
     "text": [
      "\r",
      " 58%|█████████████████████████████████████████                              | 57812/100000 [1:08:42<1:13:17,  9.59it/s]"
     ]
    },
    {
     "name": "stdout",
     "output_type": "stream",
     "text": [
      "self.evaluation_deque: deque([0.47277684765070005, 0.5271744106174601, 0.6596177386730634, 0.29504859335290035, 0.6432271987793441, 0.8056348555295875, 0.6807499244754674, 0.7575483951537053, 0.8153384020357046, 0.5183463396741883, 0.7141616343059167, 0.6273416364907008, 0.6295776773384737, 0.7033493808244209, 0.7926821596074662, 0.6588550671340823, 0.5496551109131667, 0.5837943990461493, 0.8029646754010421, 0.6732171177788641], maxlen=20)\n",
      "eval_mean: 0.6455530782391202\n"
     ]
    },
    {
     "name": "stderr",
     "output_type": "stream",
     "text": [
      "\r",
      " 58%|█████████████████████████████████████████                              | 57888/100000 [1:08:47<1:06:50, 10.50it/s]"
     ]
    },
    {
     "name": "stdout",
     "output_type": "stream",
     "text": [
      "self.evaluation_deque: deque([0.47277684765070005, 0.5271744106174601, 0.6596177386730634, 0.29504859335290035, 0.6432271987793441, 0.8056348555295875, 0.6807499244754674, 0.7575483951537053, 0.8153384020357046, 0.5183463396741883, 0.7141616343059167, 0.6273416364907008, 0.6295776773384737, 0.7033493808244209, 0.7926821596074662, 0.6588550671340823, 0.5496551109131667, 0.5837943990461493, 0.8029646754010421, 0.6732171177788641], maxlen=20)\n",
      "eval_mean: 0.6455530782391202\n"
     ]
    },
    {
     "name": "stderr",
     "output_type": "stream",
     "text": [
      "\r",
      " 58%|█████████████████████████████████████████▏                             | 57964/100000 [1:08:54<1:05:32, 10.69it/s]"
     ]
    },
    {
     "name": "stdout",
     "output_type": "stream",
     "text": [
      "self.evaluation_deque: deque([0.47277684765070005, 0.5271744106174601, 0.6596177386730634, 0.29504859335290035, 0.6432271987793441, 0.8056348555295875, 0.6807499244754674, 0.7575483951537053, 0.8153384020357046, 0.5183463396741883, 0.7141616343059167, 0.6273416364907008, 0.6295776773384737, 0.7033493808244209, 0.7926821596074662, 0.6588550671340823, 0.5496551109131667, 0.5837943990461493, 0.8029646754010421, 0.6732171177788641], maxlen=20)\n",
      "eval_mean: 0.6455530782391202\n"
     ]
    },
    {
     "name": "stderr",
     "output_type": "stream",
     "text": [
      "\r",
      " 58%|█████████████████████████████████████████▏                             | 58040/100000 [1:09:02<1:08:06, 10.27it/s]"
     ]
    },
    {
     "name": "stdout",
     "output_type": "stream",
     "text": [
      "self.evaluation_deque: deque([0.47277684765070005, 0.5271744106174601, 0.6596177386730634, 0.29504859335290035, 0.6432271987793441, 0.8056348555295875, 0.6807499244754674, 0.7575483951537053, 0.8153384020357046, 0.5183463396741883, 0.7141616343059167, 0.6273416364907008, 0.6295776773384737, 0.7033493808244209, 0.7926821596074662, 0.6588550671340823, 0.5496551109131667, 0.5837943990461493, 0.8029646754010421, 0.6732171177788641], maxlen=20)\n",
      "eval_mean: 0.6455530782391202\n"
     ]
    },
    {
     "name": "stderr",
     "output_type": "stream",
     "text": [
      "\r",
      " 58%|█████████████████████████████████████████▎                             | 58116/100000 [1:09:11<1:13:27,  9.50it/s]"
     ]
    },
    {
     "name": "stdout",
     "output_type": "stream",
     "text": [
      "self.get_collection_ratio(): 0.6629686668422068\n",
      "self.comms.count(True) : 2\n",
      "len(self.comms) : 2\n",
      "self.state.ratio_commed: 1.0\n",
      "self.comms.count(True) : 2\n",
      "len(self.comms) : 2\n",
      "self.evaluation_deque: deque([0.5271744106174601, 0.6596177386730634, 0.29504859335290035, 0.6432271987793441, 0.8056348555295875, 0.6807499244754674, 0.7575483951537053, 0.8153384020357046, 0.5183463396741883, 0.7141616343059167, 0.6273416364907008, 0.6295776773384737, 0.7033493808244209, 0.7926821596074662, 0.6588550671340823, 0.5496551109131667, 0.5837943990461493, 0.8029646754010421, 0.6732171177788641, 0.6629686668422068], maxlen=20)\n",
      "eval_mean: 0.6550626691986955\n",
      "Saving best with: 0.6550626691986955\n"
     ]
    },
    {
     "name": "stderr",
     "output_type": "stream",
     "text": [
      "\r",
      " 58%|█████████████████████████████████████████▎                             | 58192/100000 [1:09:18<1:10:18,  9.91it/s]"
     ]
    },
    {
     "name": "stdout",
     "output_type": "stream",
     "text": [
      "self.evaluation_deque: deque([0.5271744106174601, 0.6596177386730634, 0.29504859335290035, 0.6432271987793441, 0.8056348555295875, 0.6807499244754674, 0.7575483951537053, 0.8153384020357046, 0.5183463396741883, 0.7141616343059167, 0.6273416364907008, 0.6295776773384737, 0.7033493808244209, 0.7926821596074662, 0.6588550671340823, 0.5496551109131667, 0.5837943990461493, 0.8029646754010421, 0.6732171177788641, 0.6629686668422068], maxlen=20)\n",
      "eval_mean: 0.6550626691986955\n"
     ]
    },
    {
     "name": "stderr",
     "output_type": "stream",
     "text": [
      "\r",
      " 58%|█████████████████████████████████████████▎                             | 58268/100000 [1:09:27<1:11:35,  9.72it/s]"
     ]
    },
    {
     "name": "stdout",
     "output_type": "stream",
     "text": [
      "self.evaluation_deque: deque([0.5271744106174601, 0.6596177386730634, 0.29504859335290035, 0.6432271987793441, 0.8056348555295875, 0.6807499244754674, 0.7575483951537053, 0.8153384020357046, 0.5183463396741883, 0.7141616343059167, 0.6273416364907008, 0.6295776773384737, 0.7033493808244209, 0.7926821596074662, 0.6588550671340823, 0.5496551109131667, 0.5837943990461493, 0.8029646754010421, 0.6732171177788641, 0.6629686668422068], maxlen=20)\n",
      "eval_mean: 0.6550626691986955\n"
     ]
    },
    {
     "name": "stderr",
     "output_type": "stream",
     "text": [
      "\r",
      " 58%|█████████████████████████████████████████▍                             | 58344/100000 [1:09:35<1:12:19,  9.60it/s]"
     ]
    },
    {
     "name": "stdout",
     "output_type": "stream",
     "text": [
      "self.evaluation_deque: deque([0.5271744106174601, 0.6596177386730634, 0.29504859335290035, 0.6432271987793441, 0.8056348555295875, 0.6807499244754674, 0.7575483951537053, 0.8153384020357046, 0.5183463396741883, 0.7141616343059167, 0.6273416364907008, 0.6295776773384737, 0.7033493808244209, 0.7926821596074662, 0.6588550671340823, 0.5496551109131667, 0.5837943990461493, 0.8029646754010421, 0.6732171177788641, 0.6629686668422068], maxlen=20)\n",
      "eval_mean: 0.6550626691986955\n"
     ]
    },
    {
     "name": "stderr",
     "output_type": "stream",
     "text": [
      "\r",
      " 58%|█████████████████████████████████████████▍                             | 58420/100000 [1:09:42<1:09:31,  9.97it/s]"
     ]
    },
    {
     "name": "stdout",
     "output_type": "stream",
     "text": [
      "self.evaluation_deque: deque([0.5271744106174601, 0.6596177386730634, 0.29504859335290035, 0.6432271987793441, 0.8056348555295875, 0.6807499244754674, 0.7575483951537053, 0.8153384020357046, 0.5183463396741883, 0.7141616343059167, 0.6273416364907008, 0.6295776773384737, 0.7033493808244209, 0.7926821596074662, 0.6588550671340823, 0.5496551109131667, 0.5837943990461493, 0.8029646754010421, 0.6732171177788641, 0.6629686668422068], maxlen=20)\n",
      "eval_mean: 0.6550626691986955\n"
     ]
    },
    {
     "name": "stderr",
     "output_type": "stream",
     "text": [
      "\r",
      " 58%|█████████████████████████████████████████▌                             | 58496/100000 [1:09:51<1:14:06,  9.33it/s]"
     ]
    },
    {
     "name": "stdout",
     "output_type": "stream",
     "text": [
      "self.get_collection_ratio(): 0.782786815352109\n",
      "self.comms.count(True) : 2\n",
      "len(self.comms) : 2\n",
      "self.state.ratio_commed: 1.0\n",
      "self.comms.count(True) : 2\n",
      "len(self.comms) : 2\n",
      "self.evaluation_deque: deque([0.6596177386730634, 0.29504859335290035, 0.6432271987793441, 0.8056348555295875, 0.6807499244754674, 0.7575483951537053, 0.8153384020357046, 0.5183463396741883, 0.7141616343059167, 0.6273416364907008, 0.6295776773384737, 0.7033493808244209, 0.7926821596074662, 0.6588550671340823, 0.5496551109131667, 0.5837943990461493, 0.8029646754010421, 0.6732171177788641, 0.6629686668422068, 0.782786815352109], maxlen=20)\n",
      "eval_mean: 0.667843289435428\n",
      "Saving best with: 0.667843289435428\n"
     ]
    },
    {
     "name": "stderr",
     "output_type": "stream",
     "text": [
      "\r",
      " 59%|█████████████████████████████████████████▌                             | 58572/100000 [1:09:58<1:10:01,  9.86it/s]"
     ]
    },
    {
     "name": "stdout",
     "output_type": "stream",
     "text": [
      "self.evaluation_deque: deque([0.6596177386730634, 0.29504859335290035, 0.6432271987793441, 0.8056348555295875, 0.6807499244754674, 0.7575483951537053, 0.8153384020357046, 0.5183463396741883, 0.7141616343059167, 0.6273416364907008, 0.6295776773384737, 0.7033493808244209, 0.7926821596074662, 0.6588550671340823, 0.5496551109131667, 0.5837943990461493, 0.8029646754010421, 0.6732171177788641, 0.6629686668422068, 0.782786815352109], maxlen=20)\n",
      "eval_mean: 0.667843289435428\n"
     ]
    },
    {
     "name": "stderr",
     "output_type": "stream",
     "text": [
      "\r",
      " 59%|█████████████████████████████████████████▋                             | 58648/100000 [1:10:05<1:07:45, 10.17it/s]"
     ]
    },
    {
     "name": "stdout",
     "output_type": "stream",
     "text": [
      "self.evaluation_deque: deque([0.6596177386730634, 0.29504859335290035, 0.6432271987793441, 0.8056348555295875, 0.6807499244754674, 0.7575483951537053, 0.8153384020357046, 0.5183463396741883, 0.7141616343059167, 0.6273416364907008, 0.6295776773384737, 0.7033493808244209, 0.7926821596074662, 0.6588550671340823, 0.5496551109131667, 0.5837943990461493, 0.8029646754010421, 0.6732171177788641, 0.6629686668422068, 0.782786815352109], maxlen=20)\n",
      "eval_mean: 0.667843289435428\n"
     ]
    },
    {
     "name": "stderr",
     "output_type": "stream",
     "text": [
      "\r",
      " 59%|█████████████████████████████████████████▋                             | 58724/100000 [1:10:13<1:09:28,  9.90it/s]"
     ]
    },
    {
     "name": "stdout",
     "output_type": "stream",
     "text": [
      "self.evaluation_deque: deque([0.6596177386730634, 0.29504859335290035, 0.6432271987793441, 0.8056348555295875, 0.6807499244754674, 0.7575483951537053, 0.8153384020357046, 0.5183463396741883, 0.7141616343059167, 0.6273416364907008, 0.6295776773384737, 0.7033493808244209, 0.7926821596074662, 0.6588550671340823, 0.5496551109131667, 0.5837943990461493, 0.8029646754010421, 0.6732171177788641, 0.6629686668422068, 0.782786815352109], maxlen=20)\n",
      "eval_mean: 0.667843289435428\n"
     ]
    },
    {
     "name": "stderr",
     "output_type": "stream",
     "text": [
      "\r",
      " 59%|█████████████████████████████████████████▋                             | 58800/100000 [1:10:21<1:10:28,  9.74it/s]"
     ]
    },
    {
     "name": "stdout",
     "output_type": "stream",
     "text": [
      "self.evaluation_deque: deque([0.6596177386730634, 0.29504859335290035, 0.6432271987793441, 0.8056348555295875, 0.6807499244754674, 0.7575483951537053, 0.8153384020357046, 0.5183463396741883, 0.7141616343059167, 0.6273416364907008, 0.6295776773384737, 0.7033493808244209, 0.7926821596074662, 0.6588550671340823, 0.5496551109131667, 0.5837943990461493, 0.8029646754010421, 0.6732171177788641, 0.6629686668422068, 0.782786815352109], maxlen=20)\n",
      "eval_mean: 0.667843289435428\n"
     ]
    },
    {
     "name": "stderr",
     "output_type": "stream",
     "text": [
      "\r",
      " 59%|█████████████████████████████████████████▊                             | 58860/100000 [1:10:29<1:14:45,  9.17it/s]"
     ]
    },
    {
     "name": "stdout",
     "output_type": "stream",
     "text": [
      "self.get_collection_ratio(): 0.8406292939538106\n",
      "self.comms.count(True) : 3\n",
      "len(self.comms) : 3\n",
      "self.state.ratio_commed: 1.0\n",
      "self.comms.count(True) : 3\n",
      "len(self.comms) : 3\n",
      "self.evaluation_deque: deque([0.29504859335290035, 0.6432271987793441, 0.8056348555295875, 0.6807499244754674, 0.7575483951537053, 0.8153384020357046, 0.5183463396741883, 0.7141616343059167, 0.6273416364907008, 0.6295776773384737, 0.7033493808244209, 0.7926821596074662, 0.6588550671340823, 0.5496551109131667, 0.5837943990461493, 0.8029646754010421, 0.6732171177788641, 0.6629686668422068, 0.782786815352109, 0.8406292939538106], maxlen=20)\n",
      "eval_mean: 0.6768938671994653\n",
      "Saving best with: 0.6768938671994653\n"
     ]
    },
    {
     "name": "stderr",
     "output_type": "stream",
     "text": [
      "\r",
      " 59%|█████████████████████████████████████████▊                             | 58936/100000 [1:10:34<1:07:23, 10.15it/s]"
     ]
    },
    {
     "name": "stdout",
     "output_type": "stream",
     "text": [
      "self.evaluation_deque: deque([0.29504859335290035, 0.6432271987793441, 0.8056348555295875, 0.6807499244754674, 0.7575483951537053, 0.8153384020357046, 0.5183463396741883, 0.7141616343059167, 0.6273416364907008, 0.6295776773384737, 0.7033493808244209, 0.7926821596074662, 0.6588550671340823, 0.5496551109131667, 0.5837943990461493, 0.8029646754010421, 0.6732171177788641, 0.6629686668422068, 0.782786815352109, 0.8406292939538106], maxlen=20)\n",
      "eval_mean: 0.6768938671994653\n"
     ]
    },
    {
     "name": "stderr",
     "output_type": "stream",
     "text": [
      "\r",
      " 59%|█████████████████████████████████████████▉                             | 59012/100000 [1:10:42<1:08:54,  9.91it/s]"
     ]
    },
    {
     "name": "stdout",
     "output_type": "stream",
     "text": [
      "self.evaluation_deque: deque([0.29504859335290035, 0.6432271987793441, 0.8056348555295875, 0.6807499244754674, 0.7575483951537053, 0.8153384020357046, 0.5183463396741883, 0.7141616343059167, 0.6273416364907008, 0.6295776773384737, 0.7033493808244209, 0.7926821596074662, 0.6588550671340823, 0.5496551109131667, 0.5837943990461493, 0.8029646754010421, 0.6732171177788641, 0.6629686668422068, 0.782786815352109, 0.8406292939538106], maxlen=20)\n",
      "eval_mean: 0.6768938671994653\n"
     ]
    },
    {
     "name": "stderr",
     "output_type": "stream",
     "text": [
      "\r",
      " 59%|█████████████████████████████████████████▉                             | 59088/100000 [1:10:49<1:06:57, 10.18it/s]"
     ]
    },
    {
     "name": "stdout",
     "output_type": "stream",
     "text": [
      "self.evaluation_deque: deque([0.29504859335290035, 0.6432271987793441, 0.8056348555295875, 0.6807499244754674, 0.7575483951537053, 0.8153384020357046, 0.5183463396741883, 0.7141616343059167, 0.6273416364907008, 0.6295776773384737, 0.7033493808244209, 0.7926821596074662, 0.6588550671340823, 0.5496551109131667, 0.5837943990461493, 0.8029646754010421, 0.6732171177788641, 0.6629686668422068, 0.782786815352109, 0.8406292939538106], maxlen=20)\n",
      "eval_mean: 0.6768938671994653\n"
     ]
    },
    {
     "name": "stderr",
     "output_type": "stream",
     "text": [
      "\r",
      " 59%|██████████████████████████████████████████                             | 59164/100000 [1:10:56<1:05:25, 10.40it/s]"
     ]
    },
    {
     "name": "stdout",
     "output_type": "stream",
     "text": [
      "self.evaluation_deque: deque([0.29504859335290035, 0.6432271987793441, 0.8056348555295875, 0.6807499244754674, 0.7575483951537053, 0.8153384020357046, 0.5183463396741883, 0.7141616343059167, 0.6273416364907008, 0.6295776773384737, 0.7033493808244209, 0.7926821596074662, 0.6588550671340823, 0.5496551109131667, 0.5837943990461493, 0.8029646754010421, 0.6732171177788641, 0.6629686668422068, 0.782786815352109, 0.8406292939538106], maxlen=20)\n",
      "eval_mean: 0.6768938671994653\n"
     ]
    },
    {
     "name": "stderr",
     "output_type": "stream",
     "text": [
      "\r",
      " 59%|██████████████████████████████████████████                             | 59240/100000 [1:11:05<1:08:49,  9.87it/s]"
     ]
    },
    {
     "name": "stdout",
     "output_type": "stream",
     "text": [
      "self.get_collection_ratio(): 0.5516910689430732\n",
      "self.comms.count(True) : 1\n",
      "len(self.comms) : 1\n",
      "self.state.ratio_commed: 1.0\n",
      "self.comms.count(True) : 1\n",
      "len(self.comms) : 1\n",
      "self.evaluation_deque: deque([0.6432271987793441, 0.8056348555295875, 0.6807499244754674, 0.7575483951537053, 0.8153384020357046, 0.5183463396741883, 0.7141616343059167, 0.6273416364907008, 0.6295776773384737, 0.7033493808244209, 0.7926821596074662, 0.6588550671340823, 0.5496551109131667, 0.5837943990461493, 0.8029646754010421, 0.6732171177788641, 0.6629686668422068, 0.782786815352109, 0.8406292939538106, 0.5516910689430732], maxlen=20)\n",
      "eval_mean: 0.689725990978974\n",
      "Saving best with: 0.689725990978974\n"
     ]
    },
    {
     "name": "stderr",
     "output_type": "stream",
     "text": [
      "\r",
      " 59%|██████████████████████████████████████████                             | 59316/100000 [1:11:13<1:09:01,  9.82it/s]"
     ]
    },
    {
     "name": "stdout",
     "output_type": "stream",
     "text": [
      "self.evaluation_deque: deque([0.6432271987793441, 0.8056348555295875, 0.6807499244754674, 0.7575483951537053, 0.8153384020357046, 0.5183463396741883, 0.7141616343059167, 0.6273416364907008, 0.6295776773384737, 0.7033493808244209, 0.7926821596074662, 0.6588550671340823, 0.5496551109131667, 0.5837943990461493, 0.8029646754010421, 0.6732171177788641, 0.6629686668422068, 0.782786815352109, 0.8406292939538106, 0.5516910689430732], maxlen=20)\n",
      "eval_mean: 0.689725990978974\n"
     ]
    },
    {
     "name": "stderr",
     "output_type": "stream",
     "text": [
      "\r",
      " 59%|██████████████████████████████████████████▏                            | 59392/100000 [1:11:21<1:09:04,  9.80it/s]"
     ]
    },
    {
     "name": "stdout",
     "output_type": "stream",
     "text": [
      "self.evaluation_deque: deque([0.6432271987793441, 0.8056348555295875, 0.6807499244754674, 0.7575483951537053, 0.8153384020357046, 0.5183463396741883, 0.7141616343059167, 0.6273416364907008, 0.6295776773384737, 0.7033493808244209, 0.7926821596074662, 0.6588550671340823, 0.5496551109131667, 0.5837943990461493, 0.8029646754010421, 0.6732171177788641, 0.6629686668422068, 0.782786815352109, 0.8406292939538106, 0.5516910689430732], maxlen=20)\n",
      "eval_mean: 0.689725990978974\n"
     ]
    },
    {
     "name": "stderr",
     "output_type": "stream",
     "text": [
      "\r",
      " 59%|██████████████████████████████████████████▏                            | 59468/100000 [1:11:26<1:03:51, 10.58it/s]"
     ]
    },
    {
     "name": "stdout",
     "output_type": "stream",
     "text": [
      "self.evaluation_deque: deque([0.6432271987793441, 0.8056348555295875, 0.6807499244754674, 0.7575483951537053, 0.8153384020357046, 0.5183463396741883, 0.7141616343059167, 0.6273416364907008, 0.6295776773384737, 0.7033493808244209, 0.7926821596074662, 0.6588550671340823, 0.5496551109131667, 0.5837943990461493, 0.8029646754010421, 0.6732171177788641, 0.6629686668422068, 0.782786815352109, 0.8406292939538106, 0.5516910689430732], maxlen=20)\n",
      "eval_mean: 0.689725990978974\n"
     ]
    },
    {
     "name": "stderr",
     "output_type": "stream",
     "text": [
      "\r",
      " 60%|██████████████████████████████████████████▎                            | 59544/100000 [1:11:33<1:03:09, 10.68it/s]"
     ]
    },
    {
     "name": "stdout",
     "output_type": "stream",
     "text": [
      "self.evaluation_deque: deque([0.6432271987793441, 0.8056348555295875, 0.6807499244754674, 0.7575483951537053, 0.8153384020357046, 0.5183463396741883, 0.7141616343059167, 0.6273416364907008, 0.6295776773384737, 0.7033493808244209, 0.7926821596074662, 0.6588550671340823, 0.5496551109131667, 0.5837943990461493, 0.8029646754010421, 0.6732171177788641, 0.6629686668422068, 0.782786815352109, 0.8406292939538106, 0.5516910689430732], maxlen=20)\n",
      "eval_mean: 0.689725990978974\n"
     ]
    },
    {
     "name": "stderr",
     "output_type": "stream",
     "text": [
      "\r",
      " 60%|██████████████████████████████████████████▎                            | 59620/100000 [1:11:43<1:08:51,  9.77it/s]"
     ]
    },
    {
     "name": "stdout",
     "output_type": "stream",
     "text": [
      "self.get_collection_ratio(): 0.7940352317434611\n",
      "self.comms.count(True) : 2\n",
      "len(self.comms) : 2\n",
      "self.state.ratio_commed: 1.0\n",
      "self.comms.count(True) : 2\n",
      "len(self.comms) : 2\n",
      "self.evaluation_deque: deque([0.8056348555295875, 0.6807499244754674, 0.7575483951537053, 0.8153384020357046, 0.5183463396741883, 0.7141616343059167, 0.6273416364907008, 0.6295776773384737, 0.7033493808244209, 0.7926821596074662, 0.6588550671340823, 0.5496551109131667, 0.5837943990461493, 0.8029646754010421, 0.6732171177788641, 0.6629686668422068, 0.782786815352109, 0.8406292939538106, 0.5516910689430732, 0.7940352317434611], maxlen=20)\n",
      "eval_mean: 0.6972663926271798\n",
      "Saving best with: 0.6972663926271798\n"
     ]
    },
    {
     "name": "stderr",
     "output_type": "stream",
     "text": [
      "\r",
      " 60%|██████████████████████████████████████████▍                            | 59696/100000 [1:11:50<1:06:29, 10.10it/s]"
     ]
    },
    {
     "name": "stdout",
     "output_type": "stream",
     "text": [
      "self.evaluation_deque: deque([0.8056348555295875, 0.6807499244754674, 0.7575483951537053, 0.8153384020357046, 0.5183463396741883, 0.7141616343059167, 0.6273416364907008, 0.6295776773384737, 0.7033493808244209, 0.7926821596074662, 0.6588550671340823, 0.5496551109131667, 0.5837943990461493, 0.8029646754010421, 0.6732171177788641, 0.6629686668422068, 0.782786815352109, 0.8406292939538106, 0.5516910689430732, 0.7940352317434611], maxlen=20)\n",
      "eval_mean: 0.6972663926271798\n"
     ]
    },
    {
     "name": "stderr",
     "output_type": "stream",
     "text": [
      "\r",
      " 60%|██████████████████████████████████████████▍                            | 59772/100000 [1:11:55<1:01:39, 10.87it/s]"
     ]
    },
    {
     "name": "stdout",
     "output_type": "stream",
     "text": [
      "self.evaluation_deque: deque([0.8056348555295875, 0.6807499244754674, 0.7575483951537053, 0.8153384020357046, 0.5183463396741883, 0.7141616343059167, 0.6273416364907008, 0.6295776773384737, 0.7033493808244209, 0.7926821596074662, 0.6588550671340823, 0.5496551109131667, 0.5837943990461493, 0.8029646754010421, 0.6732171177788641, 0.6629686668422068, 0.782786815352109, 0.8406292939538106, 0.5516910689430732, 0.7940352317434611], maxlen=20)\n",
      "eval_mean: 0.6972663926271798\n"
     ]
    },
    {
     "name": "stderr",
     "output_type": "stream",
     "text": [
      "\r",
      " 60%|██████████████████████████████████████████▍                            | 59848/100000 [1:12:03<1:04:17, 10.41it/s]"
     ]
    },
    {
     "name": "stdout",
     "output_type": "stream",
     "text": [
      "self.evaluation_deque: deque([0.8056348555295875, 0.6807499244754674, 0.7575483951537053, 0.8153384020357046, 0.5183463396741883, 0.7141616343059167, 0.6273416364907008, 0.6295776773384737, 0.7033493808244209, 0.7926821596074662, 0.6588550671340823, 0.5496551109131667, 0.5837943990461493, 0.8029646754010421, 0.6732171177788641, 0.6629686668422068, 0.782786815352109, 0.8406292939538106, 0.5516910689430732, 0.7940352317434611], maxlen=20)\n",
      "eval_mean: 0.6972663926271798\n"
     ]
    },
    {
     "name": "stderr",
     "output_type": "stream",
     "text": [
      "\r",
      " 60%|██████████████████████████████████████████▌                            | 59924/100000 [1:12:10<1:03:16, 10.56it/s]"
     ]
    },
    {
     "name": "stdout",
     "output_type": "stream",
     "text": [
      "self.evaluation_deque: deque([0.8056348555295875, 0.6807499244754674, 0.7575483951537053, 0.8153384020357046, 0.5183463396741883, 0.7141616343059167, 0.6273416364907008, 0.6295776773384737, 0.7033493808244209, 0.7926821596074662, 0.6588550671340823, 0.5496551109131667, 0.5837943990461493, 0.8029646754010421, 0.6732171177788641, 0.6629686668422068, 0.782786815352109, 0.8406292939538106, 0.5516910689430732, 0.7940352317434611], maxlen=20)\n",
      "eval_mean: 0.6972663926271798\n"
     ]
    },
    {
     "name": "stderr",
     "output_type": "stream",
     "text": [
      "\r",
      " 60%|██████████████████████████████████████████▌                            | 59984/100000 [1:12:17<1:06:23, 10.05it/s]"
     ]
    },
    {
     "name": "stdout",
     "output_type": "stream",
     "text": [
      "self.get_collection_ratio(): 0.6609440010214807\n",
      "self.comms.count(True) : 2\n",
      "len(self.comms) : 2\n",
      "self.state.ratio_commed: 1.0\n",
      "self.comms.count(True) : 2\n",
      "len(self.comms) : 2\n",
      "self.evaluation_deque: deque([0.6807499244754674, 0.7575483951537053, 0.8153384020357046, 0.5183463396741883, 0.7141616343059167, 0.6273416364907008, 0.6295776773384737, 0.7033493808244209, 0.7926821596074662, 0.6588550671340823, 0.5496551109131667, 0.5837943990461493, 0.8029646754010421, 0.6732171177788641, 0.6629686668422068, 0.782786815352109, 0.8406292939538106, 0.5516910689430732, 0.7940352317434611, 0.6609440010214807], maxlen=20)\n",
      "eval_mean: 0.6900318499017745\n"
     ]
    },
    {
     "name": "stderr",
     "output_type": "stream",
     "text": [
      "\r",
      " 60%|██████████████████████████████████████████▋                            | 60060/100000 [1:12:31<1:24:06,  7.91it/s]"
     ]
    },
    {
     "name": "stdout",
     "output_type": "stream",
     "text": [
      "self.evaluation_deque: deque([0.6807499244754674, 0.7575483951537053, 0.8153384020357046, 0.5183463396741883, 0.7141616343059167, 0.6273416364907008, 0.6295776773384737, 0.7033493808244209, 0.7926821596074662, 0.6588550671340823, 0.5496551109131667, 0.5837943990461493, 0.8029646754010421, 0.6732171177788641, 0.6629686668422068, 0.782786815352109, 0.8406292939538106, 0.5516910689430732, 0.7940352317434611, 0.6609440010214807], maxlen=20)\n",
      "eval_mean: 0.6900318499017745\n"
     ]
    },
    {
     "name": "stderr",
     "output_type": "stream",
     "text": [
      "\r",
      " 60%|██████████████████████████████████████████▋                            | 60136/100000 [1:12:38<1:16:45,  8.66it/s]"
     ]
    },
    {
     "name": "stdout",
     "output_type": "stream",
     "text": [
      "self.evaluation_deque: deque([0.6807499244754674, 0.7575483951537053, 0.8153384020357046, 0.5183463396741883, 0.7141616343059167, 0.6273416364907008, 0.6295776773384737, 0.7033493808244209, 0.7926821596074662, 0.6588550671340823, 0.5496551109131667, 0.5837943990461493, 0.8029646754010421, 0.6732171177788641, 0.6629686668422068, 0.782786815352109, 0.8406292939538106, 0.5516910689430732, 0.7940352317434611, 0.6609440010214807], maxlen=20)\n",
      "eval_mean: 0.6900318499017745\n"
     ]
    },
    {
     "name": "stderr",
     "output_type": "stream",
     "text": [
      "\r",
      " 60%|██████████████████████████████████████████▊                            | 60212/100000 [1:12:46<1:13:27,  9.03it/s]"
     ]
    },
    {
     "name": "stdout",
     "output_type": "stream",
     "text": [
      "self.evaluation_deque: deque([0.6807499244754674, 0.7575483951537053, 0.8153384020357046, 0.5183463396741883, 0.7141616343059167, 0.6273416364907008, 0.6295776773384737, 0.7033493808244209, 0.7926821596074662, 0.6588550671340823, 0.5496551109131667, 0.5837943990461493, 0.8029646754010421, 0.6732171177788641, 0.6629686668422068, 0.782786815352109, 0.8406292939538106, 0.5516910689430732, 0.7940352317434611, 0.6609440010214807], maxlen=20)\n",
      "eval_mean: 0.6900318499017745\n"
     ]
    },
    {
     "name": "stderr",
     "output_type": "stream",
     "text": [
      "\r",
      " 60%|██████████████████████████████████████████▊                            | 60288/100000 [1:12:51<1:06:09, 10.00it/s]"
     ]
    },
    {
     "name": "stdout",
     "output_type": "stream",
     "text": [
      "self.evaluation_deque: deque([0.6807499244754674, 0.7575483951537053, 0.8153384020357046, 0.5183463396741883, 0.7141616343059167, 0.6273416364907008, 0.6295776773384737, 0.7033493808244209, 0.7926821596074662, 0.6588550671340823, 0.5496551109131667, 0.5837943990461493, 0.8029646754010421, 0.6732171177788641, 0.6629686668422068, 0.782786815352109, 0.8406292939538106, 0.5516910689430732, 0.7940352317434611, 0.6609440010214807], maxlen=20)\n",
      "eval_mean: 0.6900318499017745\n"
     ]
    },
    {
     "name": "stderr",
     "output_type": "stream",
     "text": [
      "\r",
      " 60%|██████████████████████████████████████████▊                            | 60364/100000 [1:13:02<1:12:34,  9.10it/s]"
     ]
    },
    {
     "name": "stdout",
     "output_type": "stream",
     "text": [
      "self.get_collection_ratio(): 0.7311601196199383\n",
      "self.comms.count(True) : 2\n",
      "len(self.comms) : 2\n",
      "self.state.ratio_commed: 1.0\n",
      "self.comms.count(True) : 2\n",
      "len(self.comms) : 2\n",
      "self.evaluation_deque: deque([0.7575483951537053, 0.8153384020357046, 0.5183463396741883, 0.7141616343059167, 0.6273416364907008, 0.6295776773384737, 0.7033493808244209, 0.7926821596074662, 0.6588550671340823, 0.5496551109131667, 0.5837943990461493, 0.8029646754010421, 0.6732171177788641, 0.6629686668422068, 0.782786815352109, 0.8406292939538106, 0.5516910689430732, 0.7940352317434611, 0.6609440010214807, 0.7311601196199383], maxlen=20)\n",
      "eval_mean: 0.692552359658998\n"
     ]
    },
    {
     "name": "stderr",
     "output_type": "stream",
     "text": [
      "\r",
      " 60%|██████████████████████████████████████████▉                            | 60440/100000 [1:13:08<1:08:40,  9.60it/s]"
     ]
    },
    {
     "name": "stdout",
     "output_type": "stream",
     "text": [
      "self.evaluation_deque: deque([0.7575483951537053, 0.8153384020357046, 0.5183463396741883, 0.7141616343059167, 0.6273416364907008, 0.6295776773384737, 0.7033493808244209, 0.7926821596074662, 0.6588550671340823, 0.5496551109131667, 0.5837943990461493, 0.8029646754010421, 0.6732171177788641, 0.6629686668422068, 0.782786815352109, 0.8406292939538106, 0.5516910689430732, 0.7940352317434611, 0.6609440010214807, 0.7311601196199383], maxlen=20)\n",
      "eval_mean: 0.692552359658998\n"
     ]
    },
    {
     "name": "stderr",
     "output_type": "stream",
     "text": [
      "\r",
      " 61%|██████████████████████████████████████████▉                            | 60516/100000 [1:13:14<1:02:54, 10.46it/s]"
     ]
    },
    {
     "name": "stdout",
     "output_type": "stream",
     "text": [
      "self.evaluation_deque: deque([0.7575483951537053, 0.8153384020357046, 0.5183463396741883, 0.7141616343059167, 0.6273416364907008, 0.6295776773384737, 0.7033493808244209, 0.7926821596074662, 0.6588550671340823, 0.5496551109131667, 0.5837943990461493, 0.8029646754010421, 0.6732171177788641, 0.6629686668422068, 0.782786815352109, 0.8406292939538106, 0.5516910689430732, 0.7940352317434611, 0.6609440010214807, 0.7311601196199383], maxlen=20)\n",
      "eval_mean: 0.692552359658998\n"
     ]
    },
    {
     "name": "stderr",
     "output_type": "stream",
     "text": [
      "\r",
      " 61%|███████████████████████████████████████████                            | 60592/100000 [1:13:21<1:01:56, 10.60it/s]"
     ]
    },
    {
     "name": "stdout",
     "output_type": "stream",
     "text": [
      "self.evaluation_deque: deque([0.7575483951537053, 0.8153384020357046, 0.5183463396741883, 0.7141616343059167, 0.6273416364907008, 0.6295776773384737, 0.7033493808244209, 0.7926821596074662, 0.6588550671340823, 0.5496551109131667, 0.5837943990461493, 0.8029646754010421, 0.6732171177788641, 0.6629686668422068, 0.782786815352109, 0.8406292939538106, 0.5516910689430732, 0.7940352317434611, 0.6609440010214807, 0.7311601196199383], maxlen=20)\n",
      "eval_mean: 0.692552359658998\n"
     ]
    },
    {
     "name": "stderr",
     "output_type": "stream",
     "text": [
      "\r",
      " 61%|███████████████████████████████████████████                            | 60668/100000 [1:13:28<1:01:32, 10.65it/s]"
     ]
    },
    {
     "name": "stdout",
     "output_type": "stream",
     "text": [
      "self.evaluation_deque: deque([0.7575483951537053, 0.8153384020357046, 0.5183463396741883, 0.7141616343059167, 0.6273416364907008, 0.6295776773384737, 0.7033493808244209, 0.7926821596074662, 0.6588550671340823, 0.5496551109131667, 0.5837943990461493, 0.8029646754010421, 0.6732171177788641, 0.6629686668422068, 0.782786815352109, 0.8406292939538106, 0.5516910689430732, 0.7940352317434611, 0.6609440010214807, 0.7311601196199383], maxlen=20)\n",
      "eval_mean: 0.692552359658998\n"
     ]
    },
    {
     "name": "stderr",
     "output_type": "stream",
     "text": [
      "\r",
      " 61%|███████████████████████████████████████████▏                           | 60744/100000 [1:13:37<1:06:06,  9.90it/s]"
     ]
    },
    {
     "name": "stdout",
     "output_type": "stream",
     "text": [
      "self.get_collection_ratio(): 0.7435245834012912\n",
      "self.comms.count(True) : 3\n",
      "len(self.comms) : 3\n",
      "self.state.ratio_commed: 1.0\n",
      "self.comms.count(True) : 3\n",
      "len(self.comms) : 3\n",
      "self.evaluation_deque: deque([0.8153384020357046, 0.5183463396741883, 0.7141616343059167, 0.6273416364907008, 0.6295776773384737, 0.7033493808244209, 0.7926821596074662, 0.6588550671340823, 0.5496551109131667, 0.5837943990461493, 0.8029646754010421, 0.6732171177788641, 0.6629686668422068, 0.782786815352109, 0.8406292939538106, 0.5516910689430732, 0.7940352317434611, 0.6609440010214807, 0.7311601196199383, 0.7435245834012912], maxlen=20)\n",
      "eval_mean: 0.6918511690713773\n"
     ]
    },
    {
     "name": "stderr",
     "output_type": "stream",
     "text": [
      "\r",
      " 61%|███████████████████████████████████████████▏                           | 60820/100000 [1:13:45<1:06:18,  9.85it/s]"
     ]
    },
    {
     "name": "stdout",
     "output_type": "stream",
     "text": [
      "self.evaluation_deque: deque([0.8153384020357046, 0.5183463396741883, 0.7141616343059167, 0.6273416364907008, 0.6295776773384737, 0.7033493808244209, 0.7926821596074662, 0.6588550671340823, 0.5496551109131667, 0.5837943990461493, 0.8029646754010421, 0.6732171177788641, 0.6629686668422068, 0.782786815352109, 0.8406292939538106, 0.5516910689430732, 0.7940352317434611, 0.6609440010214807, 0.7311601196199383, 0.7435245834012912], maxlen=20)\n",
      "eval_mean: 0.6918511690713773\n"
     ]
    },
    {
     "name": "stderr",
     "output_type": "stream",
     "text": [
      "\r",
      " 61%|███████████████████████████████████████████▏                           | 60896/100000 [1:13:51<1:01:06, 10.67it/s]"
     ]
    },
    {
     "name": "stdout",
     "output_type": "stream",
     "text": [
      "self.evaluation_deque: deque([0.8153384020357046, 0.5183463396741883, 0.7141616343059167, 0.6273416364907008, 0.6295776773384737, 0.7033493808244209, 0.7926821596074662, 0.6588550671340823, 0.5496551109131667, 0.5837943990461493, 0.8029646754010421, 0.6732171177788641, 0.6629686668422068, 0.782786815352109, 0.8406292939538106, 0.5516910689430732, 0.7940352317434611, 0.6609440010214807, 0.7311601196199383, 0.7435245834012912], maxlen=20)\n",
      "eval_mean: 0.6918511690713773\n"
     ]
    },
    {
     "name": "stderr",
     "output_type": "stream",
     "text": [
      "\r",
      " 61%|███████████████████████████████████████████▎                           | 60972/100000 [1:13:58<1:00:31, 10.75it/s]"
     ]
    },
    {
     "name": "stdout",
     "output_type": "stream",
     "text": [
      "self.evaluation_deque: deque([0.8153384020357046, 0.5183463396741883, 0.7141616343059167, 0.6273416364907008, 0.6295776773384737, 0.7033493808244209, 0.7926821596074662, 0.6588550671340823, 0.5496551109131667, 0.5837943990461493, 0.8029646754010421, 0.6732171177788641, 0.6629686668422068, 0.782786815352109, 0.8406292939538106, 0.5516910689430732, 0.7940352317434611, 0.6609440010214807, 0.7311601196199383, 0.7435245834012912], maxlen=20)\n",
      "eval_mean: 0.6918511690713773\n"
     ]
    },
    {
     "name": "stderr",
     "output_type": "stream",
     "text": [
      "\r",
      " 61%|███████████████████████████████████████████▎                           | 61048/100000 [1:14:05<1:00:03, 10.81it/s]"
     ]
    },
    {
     "name": "stdout",
     "output_type": "stream",
     "text": [
      "self.evaluation_deque: deque([0.8153384020357046, 0.5183463396741883, 0.7141616343059167, 0.6273416364907008, 0.6295776773384737, 0.7033493808244209, 0.7926821596074662, 0.6588550671340823, 0.5496551109131667, 0.5837943990461493, 0.8029646754010421, 0.6732171177788641, 0.6629686668422068, 0.782786815352109, 0.8406292939538106, 0.5516910689430732, 0.7940352317434611, 0.6609440010214807, 0.7311601196199383, 0.7435245834012912], maxlen=20)\n",
      "eval_mean: 0.6918511690713773\n"
     ]
    },
    {
     "name": "stderr",
     "output_type": "stream",
     "text": [
      "\r",
      " 61%|███████████████████████████████████████████▍                           | 61124/100000 [1:14:14<1:06:48,  9.70it/s]"
     ]
    },
    {
     "name": "stdout",
     "output_type": "stream",
     "text": [
      "self.get_collection_ratio(): 0.49939253320053933\n",
      "self.comms.count(True) : 1\n",
      "len(self.comms) : 1\n",
      "self.state.ratio_commed: 1.0\n",
      "self.comms.count(True) : 1\n",
      "len(self.comms) : 1\n",
      "self.evaluation_deque: deque([0.5183463396741883, 0.7141616343059167, 0.6273416364907008, 0.6295776773384737, 0.7033493808244209, 0.7926821596074662, 0.6588550671340823, 0.5496551109131667, 0.5837943990461493, 0.8029646754010421, 0.6732171177788641, 0.6629686668422068, 0.782786815352109, 0.8406292939538106, 0.5516910689430732, 0.7940352317434611, 0.6609440010214807, 0.7311601196199383, 0.7435245834012912, 0.49939253320053933], maxlen=20)\n",
      "eval_mean: 0.6760538756296192\n"
     ]
    },
    {
     "name": "stderr",
     "output_type": "stream",
     "text": [
      "\r",
      " 61%|███████████████████████████████████████████▍                           | 61200/100000 [1:14:20<1:01:26, 10.52it/s]"
     ]
    },
    {
     "name": "stdout",
     "output_type": "stream",
     "text": [
      "self.evaluation_deque: deque([0.5183463396741883, 0.7141616343059167, 0.6273416364907008, 0.6295776773384737, 0.7033493808244209, 0.7926821596074662, 0.6588550671340823, 0.5496551109131667, 0.5837943990461493, 0.8029646754010421, 0.6732171177788641, 0.6629686668422068, 0.782786815352109, 0.8406292939538106, 0.5516910689430732, 0.7940352317434611, 0.6609440010214807, 0.7311601196199383, 0.7435245834012912, 0.49939253320053933], maxlen=20)\n",
      "eval_mean: 0.6760538756296192\n"
     ]
    },
    {
     "name": "stderr",
     "output_type": "stream",
     "text": [
      "\r",
      " 61%|███████████████████████████████████████████▌                           | 61276/100000 [1:14:28<1:03:39, 10.14it/s]"
     ]
    },
    {
     "name": "stdout",
     "output_type": "stream",
     "text": [
      "self.evaluation_deque: deque([0.5183463396741883, 0.7141616343059167, 0.6273416364907008, 0.6295776773384737, 0.7033493808244209, 0.7926821596074662, 0.6588550671340823, 0.5496551109131667, 0.5837943990461493, 0.8029646754010421, 0.6732171177788641, 0.6629686668422068, 0.782786815352109, 0.8406292939538106, 0.5516910689430732, 0.7940352317434611, 0.6609440010214807, 0.7311601196199383, 0.7435245834012912, 0.49939253320053933], maxlen=20)\n",
      "eval_mean: 0.6760538756296192\n"
     ]
    },
    {
     "name": "stderr",
     "output_type": "stream",
     "text": [
      "\r",
      " 61%|████████████████████████████████████████████▊                            | 61352/100000 [1:14:34<59:07, 10.89it/s]"
     ]
    },
    {
     "name": "stdout",
     "output_type": "stream",
     "text": [
      "self.evaluation_deque: deque([0.5183463396741883, 0.7141616343059167, 0.6273416364907008, 0.6295776773384737, 0.7033493808244209, 0.7926821596074662, 0.6588550671340823, 0.5496551109131667, 0.5837943990461493, 0.8029646754010421, 0.6732171177788641, 0.6629686668422068, 0.782786815352109, 0.8406292939538106, 0.5516910689430732, 0.7940352317434611, 0.6609440010214807, 0.7311601196199383, 0.7435245834012912, 0.49939253320053933], maxlen=20)\n",
      "eval_mean: 0.6760538756296192\n"
     ]
    },
    {
     "name": "stderr",
     "output_type": "stream",
     "text": [
      "\r",
      " 61%|████████████████████████████████████████████▊                            | 61428/100000 [1:14:40<55:53, 11.50it/s]"
     ]
    },
    {
     "name": "stdout",
     "output_type": "stream",
     "text": [
      "self.evaluation_deque: deque([0.5183463396741883, 0.7141616343059167, 0.6273416364907008, 0.6295776773384737, 0.7033493808244209, 0.7926821596074662, 0.6588550671340823, 0.5496551109131667, 0.5837943990461493, 0.8029646754010421, 0.6732171177788641, 0.6629686668422068, 0.782786815352109, 0.8406292939538106, 0.5516910689430732, 0.7940352317434611, 0.6609440010214807, 0.7311601196199383, 0.7435245834012912, 0.49939253320053933], maxlen=20)\n",
      "eval_mean: 0.6760538756296192\n"
     ]
    },
    {
     "name": "stderr",
     "output_type": "stream",
     "text": [
      "\r",
      " 62%|███████████████████████████████████████████▋                           | 61504/100000 [1:14:49<1:01:28, 10.44it/s]"
     ]
    },
    {
     "name": "stdout",
     "output_type": "stream",
     "text": [
      "self.get_collection_ratio(): 0.7035819892584022\n",
      "self.comms.count(True) : 3\n",
      "len(self.comms) : 3\n",
      "self.state.ratio_commed: 1.0\n",
      "self.comms.count(True) : 3\n",
      "len(self.comms) : 3\n",
      "self.evaluation_deque: deque([0.7141616343059167, 0.6273416364907008, 0.6295776773384737, 0.7033493808244209, 0.7926821596074662, 0.6588550671340823, 0.5496551109131667, 0.5837943990461493, 0.8029646754010421, 0.6732171177788641, 0.6629686668422068, 0.782786815352109, 0.8406292939538106, 0.5516910689430732, 0.7940352317434611, 0.6609440010214807, 0.7311601196199383, 0.7435245834012912, 0.49939253320053933, 0.7035819892584022], maxlen=20)\n",
      "eval_mean: 0.6853156581088298\n"
     ]
    },
    {
     "name": "stderr",
     "output_type": "stream",
     "text": [
      "\r",
      " 62%|███████████████████████████████████████████▋                           | 61580/100000 [1:14:55<1:00:16, 10.62it/s]"
     ]
    },
    {
     "name": "stdout",
     "output_type": "stream",
     "text": [
      "self.evaluation_deque: deque([0.7141616343059167, 0.6273416364907008, 0.6295776773384737, 0.7033493808244209, 0.7926821596074662, 0.6588550671340823, 0.5496551109131667, 0.5837943990461493, 0.8029646754010421, 0.6732171177788641, 0.6629686668422068, 0.782786815352109, 0.8406292939538106, 0.5516910689430732, 0.7940352317434611, 0.6609440010214807, 0.7311601196199383, 0.7435245834012912, 0.49939253320053933, 0.7035819892584022], maxlen=20)\n",
      "eval_mean: 0.6853156581088298\n"
     ]
    },
    {
     "name": "stderr",
     "output_type": "stream",
     "text": [
      "\r",
      " 62%|███████████████████████████████████████████▊                           | 61656/100000 [1:15:04<1:02:27, 10.23it/s]"
     ]
    },
    {
     "name": "stdout",
     "output_type": "stream",
     "text": [
      "self.evaluation_deque: deque([0.7141616343059167, 0.6273416364907008, 0.6295776773384737, 0.7033493808244209, 0.7926821596074662, 0.6588550671340823, 0.5496551109131667, 0.5837943990461493, 0.8029646754010421, 0.6732171177788641, 0.6629686668422068, 0.782786815352109, 0.8406292939538106, 0.5516910689430732, 0.7940352317434611, 0.6609440010214807, 0.7311601196199383, 0.7435245834012912, 0.49939253320053933, 0.7035819892584022], maxlen=20)\n",
      "eval_mean: 0.6853156581088298\n"
     ]
    },
    {
     "name": "stderr",
     "output_type": "stream",
     "text": [
      "\r",
      " 62%|███████████████████████████████████████████▊                           | 61732/100000 [1:15:12<1:03:45, 10.00it/s]"
     ]
    },
    {
     "name": "stdout",
     "output_type": "stream",
     "text": [
      "self.evaluation_deque: deque([0.7141616343059167, 0.6273416364907008, 0.6295776773384737, 0.7033493808244209, 0.7926821596074662, 0.6588550671340823, 0.5496551109131667, 0.5837943990461493, 0.8029646754010421, 0.6732171177788641, 0.6629686668422068, 0.782786815352109, 0.8406292939538106, 0.5516910689430732, 0.7940352317434611, 0.6609440010214807, 0.7311601196199383, 0.7435245834012912, 0.49939253320053933, 0.7035819892584022], maxlen=20)\n",
      "eval_mean: 0.6853156581088298\n"
     ]
    },
    {
     "name": "stderr",
     "output_type": "stream",
     "text": [
      "\r",
      " 62%|███████████████████████████████████████████▉                           | 61808/100000 [1:15:20<1:04:53,  9.81it/s]"
     ]
    },
    {
     "name": "stdout",
     "output_type": "stream",
     "text": [
      "self.evaluation_deque: deque([0.7141616343059167, 0.6273416364907008, 0.6295776773384737, 0.7033493808244209, 0.7926821596074662, 0.6588550671340823, 0.5496551109131667, 0.5837943990461493, 0.8029646754010421, 0.6732171177788641, 0.6629686668422068, 0.782786815352109, 0.8406292939538106, 0.5516910689430732, 0.7940352317434611, 0.6609440010214807, 0.7311601196199383, 0.7435245834012912, 0.49939253320053933, 0.7035819892584022], maxlen=20)\n",
      "eval_mean: 0.6853156581088298\n"
     ]
    },
    {
     "name": "stderr",
     "output_type": "stream",
     "text": [
      "\r",
      " 62%|███████████████████████████████████████████▉                           | 61884/100000 [1:15:31<1:13:32,  8.64it/s]"
     ]
    },
    {
     "name": "stdout",
     "output_type": "stream",
     "text": [
      "self.get_collection_ratio(): 0.7079507053338343\n",
      "self.comms.count(True) : 3\n",
      "len(self.comms) : 3\n",
      "self.state.ratio_commed: 1.0\n",
      "self.comms.count(True) : 3\n",
      "len(self.comms) : 3\n",
      "self.evaluation_deque: deque([0.6273416364907008, 0.6295776773384737, 0.7033493808244209, 0.7926821596074662, 0.6588550671340823, 0.5496551109131667, 0.5837943990461493, 0.8029646754010421, 0.6732171177788641, 0.6629686668422068, 0.782786815352109, 0.8406292939538106, 0.5516910689430732, 0.7940352317434611, 0.6609440010214807, 0.7311601196199383, 0.7435245834012912, 0.49939253320053933, 0.7035819892584022, 0.7079507053338343], maxlen=20)\n",
      "eval_mean: 0.6850051116602257\n"
     ]
    },
    {
     "name": "stderr",
     "output_type": "stream",
     "text": [
      "\r",
      " 62%|███████████████████████████████████████████▉                           | 61960/100000 [1:15:37<1:05:51,  9.63it/s]"
     ]
    },
    {
     "name": "stdout",
     "output_type": "stream",
     "text": [
      "self.evaluation_deque: deque([0.6273416364907008, 0.6295776773384737, 0.7033493808244209, 0.7926821596074662, 0.6588550671340823, 0.5496551109131667, 0.5837943990461493, 0.8029646754010421, 0.6732171177788641, 0.6629686668422068, 0.782786815352109, 0.8406292939538106, 0.5516910689430732, 0.7940352317434611, 0.6609440010214807, 0.7311601196199383, 0.7435245834012912, 0.49939253320053933, 0.7035819892584022, 0.7079507053338343], maxlen=20)\n",
      "eval_mean: 0.6850051116602257\n"
     ]
    },
    {
     "name": "stderr",
     "output_type": "stream",
     "text": [
      "\r",
      " 62%|████████████████████████████████████████████                           | 62036/100000 [1:15:44<1:03:18,  9.99it/s]"
     ]
    },
    {
     "name": "stdout",
     "output_type": "stream",
     "text": [
      "self.evaluation_deque: deque([0.6273416364907008, 0.6295776773384737, 0.7033493808244209, 0.7926821596074662, 0.6588550671340823, 0.5496551109131667, 0.5837943990461493, 0.8029646754010421, 0.6732171177788641, 0.6629686668422068, 0.782786815352109, 0.8406292939538106, 0.5516910689430732, 0.7940352317434611, 0.6609440010214807, 0.7311601196199383, 0.7435245834012912, 0.49939253320053933, 0.7035819892584022, 0.7079507053338343], maxlen=20)\n",
      "eval_mean: 0.6850051116602257\n"
     ]
    },
    {
     "name": "stderr",
     "output_type": "stream",
     "text": [
      "\r",
      " 62%|████████████████████████████████████████████                           | 62112/100000 [1:15:50<1:01:25, 10.28it/s]"
     ]
    },
    {
     "name": "stdout",
     "output_type": "stream",
     "text": [
      "self.evaluation_deque: deque([0.6273416364907008, 0.6295776773384737, 0.7033493808244209, 0.7926821596074662, 0.6588550671340823, 0.5496551109131667, 0.5837943990461493, 0.8029646754010421, 0.6732171177788641, 0.6629686668422068, 0.782786815352109, 0.8406292939538106, 0.5516910689430732, 0.7940352317434611, 0.6609440010214807, 0.7311601196199383, 0.7435245834012912, 0.49939253320053933, 0.7035819892584022, 0.7079507053338343], maxlen=20)\n",
      "eval_mean: 0.6850051116602257\n"
     ]
    },
    {
     "name": "stderr",
     "output_type": "stream",
     "text": [
      "\r",
      " 62%|█████████████████████████████████████████████▍                           | 62188/100000 [1:15:56<57:09, 11.02it/s]"
     ]
    },
    {
     "name": "stdout",
     "output_type": "stream",
     "text": [
      "self.evaluation_deque: deque([0.6273416364907008, 0.6295776773384737, 0.7033493808244209, 0.7926821596074662, 0.6588550671340823, 0.5496551109131667, 0.5837943990461493, 0.8029646754010421, 0.6732171177788641, 0.6629686668422068, 0.782786815352109, 0.8406292939538106, 0.5516910689430732, 0.7940352317434611, 0.6609440010214807, 0.7311601196199383, 0.7435245834012912, 0.49939253320053933, 0.7035819892584022, 0.7079507053338343], maxlen=20)\n",
      "eval_mean: 0.6850051116602257\n"
     ]
    },
    {
     "name": "stderr",
     "output_type": "stream",
     "text": [
      "\r",
      " 62%|████████████████████████████████████████████▏                          | 62264/100000 [1:16:05<1:03:00,  9.98it/s]"
     ]
    },
    {
     "name": "stdout",
     "output_type": "stream",
     "text": [
      "self.get_collection_ratio(): 0.6662521640200044\n",
      "self.comms.count(True) : 2\n",
      "len(self.comms) : 2\n",
      "self.state.ratio_commed: 1.0\n",
      "self.comms.count(True) : 2\n",
      "len(self.comms) : 2\n",
      "self.evaluation_deque: deque([0.6295776773384737, 0.7033493808244209, 0.7926821596074662, 0.6588550671340823, 0.5496551109131667, 0.5837943990461493, 0.8029646754010421, 0.6732171177788641, 0.6629686668422068, 0.782786815352109, 0.8406292939538106, 0.5516910689430732, 0.7940352317434611, 0.6609440010214807, 0.7311601196199383, 0.7435245834012912, 0.49939253320053933, 0.7035819892584022, 0.7079507053338343, 0.6662521640200044], maxlen=20)\n",
      "eval_mean: 0.6869506380366909\n"
     ]
    },
    {
     "name": "stderr",
     "output_type": "stream",
     "text": [
      "\r",
      " 62%|████████████████████████████████████████████▎                          | 62340/100000 [1:16:14<1:03:51,  9.83it/s]"
     ]
    },
    {
     "name": "stdout",
     "output_type": "stream",
     "text": [
      "self.evaluation_deque: deque([0.6295776773384737, 0.7033493808244209, 0.7926821596074662, 0.6588550671340823, 0.5496551109131667, 0.5837943990461493, 0.8029646754010421, 0.6732171177788641, 0.6629686668422068, 0.782786815352109, 0.8406292939538106, 0.5516910689430732, 0.7940352317434611, 0.6609440010214807, 0.7311601196199383, 0.7435245834012912, 0.49939253320053933, 0.7035819892584022, 0.7079507053338343, 0.6662521640200044], maxlen=20)\n",
      "eval_mean: 0.6869506380366909\n"
     ]
    },
    {
     "name": "stderr",
     "output_type": "stream",
     "text": [
      "\r",
      " 62%|█████████████████████████████████████████████▌                           | 62416/100000 [1:16:19<58:47, 10.65it/s]"
     ]
    },
    {
     "name": "stdout",
     "output_type": "stream",
     "text": [
      "self.evaluation_deque: deque([0.6295776773384737, 0.7033493808244209, 0.7926821596074662, 0.6588550671340823, 0.5496551109131667, 0.5837943990461493, 0.8029646754010421, 0.6732171177788641, 0.6629686668422068, 0.782786815352109, 0.8406292939538106, 0.5516910689430732, 0.7940352317434611, 0.6609440010214807, 0.7311601196199383, 0.7435245834012912, 0.49939253320053933, 0.7035819892584022, 0.7079507053338343, 0.6662521640200044], maxlen=20)\n",
      "eval_mean: 0.6869506380366909\n"
     ]
    },
    {
     "name": "stderr",
     "output_type": "stream",
     "text": [
      "\r",
      " 62%|█████████████████████████████████████████████▌                           | 62492/100000 [1:16:25<55:23, 11.29it/s]"
     ]
    },
    {
     "name": "stdout",
     "output_type": "stream",
     "text": [
      "self.evaluation_deque: deque([0.6295776773384737, 0.7033493808244209, 0.7926821596074662, 0.6588550671340823, 0.5496551109131667, 0.5837943990461493, 0.8029646754010421, 0.6732171177788641, 0.6629686668422068, 0.782786815352109, 0.8406292939538106, 0.5516910689430732, 0.7940352317434611, 0.6609440010214807, 0.7311601196199383, 0.7435245834012912, 0.49939253320053933, 0.7035819892584022, 0.7079507053338343, 0.6662521640200044], maxlen=20)\n",
      "eval_mean: 0.6869506380366909\n"
     ]
    },
    {
     "name": "stderr",
     "output_type": "stream",
     "text": [
      "\r",
      " 63%|█████████████████████████████████████████████▋                           | 62568/100000 [1:16:33<58:19, 10.70it/s]"
     ]
    },
    {
     "name": "stdout",
     "output_type": "stream",
     "text": [
      "self.evaluation_deque: deque([0.6295776773384737, 0.7033493808244209, 0.7926821596074662, 0.6588550671340823, 0.5496551109131667, 0.5837943990461493, 0.8029646754010421, 0.6732171177788641, 0.6629686668422068, 0.782786815352109, 0.8406292939538106, 0.5516910689430732, 0.7940352317434611, 0.6609440010214807, 0.7311601196199383, 0.7435245834012912, 0.49939253320053933, 0.7035819892584022, 0.7079507053338343, 0.6662521640200044], maxlen=20)\n",
      "eval_mean: 0.6869506380366909\n"
     ]
    },
    {
     "name": "stderr",
     "output_type": "stream",
     "text": [
      "\r",
      " 63%|█████████████████████████████████████████████▋                           | 62644/100000 [1:16:40<58:34, 10.63it/s]"
     ]
    },
    {
     "name": "stdout",
     "output_type": "stream",
     "text": [
      "self.get_collection_ratio(): 0.3996915487528156\n",
      "self.comms.count(True) : 1\n",
      "len(self.comms) : 1\n",
      "self.state.ratio_commed: 1.0\n",
      "self.comms.count(True) : 1\n",
      "len(self.comms) : 1\n",
      "self.evaluation_deque: deque([0.7033493808244209, 0.7926821596074662, 0.6588550671340823, 0.5496551109131667, 0.5837943990461493, 0.8029646754010421, 0.6732171177788641, 0.6629686668422068, 0.782786815352109, 0.8406292939538106, 0.5516910689430732, 0.7940352317434611, 0.6609440010214807, 0.7311601196199383, 0.7435245834012912, 0.49939253320053933, 0.7035819892584022, 0.7079507053338343, 0.6662521640200044, 0.3996915487528156], maxlen=20)\n",
      "eval_mean: 0.675456331607408\n"
     ]
    },
    {
     "name": "stderr",
     "output_type": "stream",
     "text": [
      "\r",
      " 63%|█████████████████████████████████████████████▊                           | 62720/100000 [1:16:47<58:11, 10.68it/s]"
     ]
    },
    {
     "name": "stdout",
     "output_type": "stream",
     "text": [
      "self.evaluation_deque: deque([0.7033493808244209, 0.7926821596074662, 0.6588550671340823, 0.5496551109131667, 0.5837943990461493, 0.8029646754010421, 0.6732171177788641, 0.6629686668422068, 0.782786815352109, 0.8406292939538106, 0.5516910689430732, 0.7940352317434611, 0.6609440010214807, 0.7311601196199383, 0.7435245834012912, 0.49939253320053933, 0.7035819892584022, 0.7079507053338343, 0.6662521640200044, 0.3996915487528156], maxlen=20)\n",
      "eval_mean: 0.675456331607408\n"
     ]
    },
    {
     "name": "stderr",
     "output_type": "stream",
     "text": [
      "\r",
      " 63%|█████████████████████████████████████████████▊                           | 62796/100000 [1:16:54<57:40, 10.75it/s]"
     ]
    },
    {
     "name": "stdout",
     "output_type": "stream",
     "text": [
      "self.evaluation_deque: deque([0.7033493808244209, 0.7926821596074662, 0.6588550671340823, 0.5496551109131667, 0.5837943990461493, 0.8029646754010421, 0.6732171177788641, 0.6629686668422068, 0.782786815352109, 0.8406292939538106, 0.5516910689430732, 0.7940352317434611, 0.6609440010214807, 0.7311601196199383, 0.7435245834012912, 0.49939253320053933, 0.7035819892584022, 0.7079507053338343, 0.6662521640200044, 0.3996915487528156], maxlen=20)\n",
      "eval_mean: 0.675456331607408\n"
     ]
    },
    {
     "name": "stderr",
     "output_type": "stream",
     "text": [
      "\r",
      " 63%|█████████████████████████████████████████████▉                           | 62872/100000 [1:17:01<57:12, 10.82it/s]"
     ]
    },
    {
     "name": "stdout",
     "output_type": "stream",
     "text": [
      "self.evaluation_deque: deque([0.7033493808244209, 0.7926821596074662, 0.6588550671340823, 0.5496551109131667, 0.5837943990461493, 0.8029646754010421, 0.6732171177788641, 0.6629686668422068, 0.782786815352109, 0.8406292939538106, 0.5516910689430732, 0.7940352317434611, 0.6609440010214807, 0.7311601196199383, 0.7435245834012912, 0.49939253320053933, 0.7035819892584022, 0.7079507053338343, 0.6662521640200044, 0.3996915487528156], maxlen=20)\n",
      "eval_mean: 0.675456331607408\n"
     ]
    },
    {
     "name": "stderr",
     "output_type": "stream",
     "text": [
      "\r",
      " 63%|█████████████████████████████████████████████▉                           | 62948/100000 [1:17:09<59:44, 10.34it/s]"
     ]
    },
    {
     "name": "stdout",
     "output_type": "stream",
     "text": [
      "self.evaluation_deque: deque([0.7033493808244209, 0.7926821596074662, 0.6588550671340823, 0.5496551109131667, 0.5837943990461493, 0.8029646754010421, 0.6732171177788641, 0.6629686668422068, 0.782786815352109, 0.8406292939538106, 0.5516910689430732, 0.7940352317434611, 0.6609440010214807, 0.7311601196199383, 0.7435245834012912, 0.49939253320053933, 0.7035819892584022, 0.7079507053338343, 0.6662521640200044, 0.3996915487528156], maxlen=20)\n",
      "eval_mean: 0.675456331607408\n"
     ]
    },
    {
     "name": "stderr",
     "output_type": "stream",
     "text": [
      "\r",
      " 63%|████████████████████████████████████████████▋                          | 63024/100000 [1:17:20<1:08:03,  9.06it/s]"
     ]
    },
    {
     "name": "stdout",
     "output_type": "stream",
     "text": [
      "self.get_collection_ratio(): 0.9450149096879906\n",
      "self.comms.count(True) : 2\n",
      "len(self.comms) : 3\n",
      "self.state.ratio_commed: 0.6666666666666666\n",
      "self.comms.count(True) : 2\n",
      "len(self.comms) : 3\n",
      "self.evaluation_deque: deque([0.7926821596074662, 0.6588550671340823, 0.5496551109131667, 0.5837943990461493, 0.8029646754010421, 0.6732171177788641, 0.6629686668422068, 0.782786815352109, 0.8406292939538106, 0.5516910689430732, 0.7940352317434611, 0.6609440010214807, 0.7311601196199383, 0.7435245834012912, 0.49939253320053933, 0.7035819892584022, 0.7079507053338343, 0.6662521640200044, 0.3996915487528156, 0.6300099397919937], maxlen=20)\n",
      "eval_mean: 0.6717893595557866\n"
     ]
    },
    {
     "name": "stderr",
     "output_type": "stream",
     "text": [
      "\r",
      " 63%|████████████████████████████████████████████▊                          | 63100/100000 [1:17:26<1:01:41,  9.97it/s]"
     ]
    },
    {
     "name": "stdout",
     "output_type": "stream",
     "text": [
      "self.evaluation_deque: deque([0.7926821596074662, 0.6588550671340823, 0.5496551109131667, 0.5837943990461493, 0.8029646754010421, 0.6732171177788641, 0.6629686668422068, 0.782786815352109, 0.8406292939538106, 0.5516910689430732, 0.7940352317434611, 0.6609440010214807, 0.7311601196199383, 0.7435245834012912, 0.49939253320053933, 0.7035819892584022, 0.7079507053338343, 0.6662521640200044, 0.3996915487528156, 0.6300099397919937], maxlen=20)\n",
      "eval_mean: 0.6717893595557866\n"
     ]
    },
    {
     "name": "stderr",
     "output_type": "stream",
     "text": [
      "\r",
      " 63%|████████████████████████████████████████████▊                          | 63176/100000 [1:17:34<1:02:32,  9.81it/s]"
     ]
    },
    {
     "name": "stdout",
     "output_type": "stream",
     "text": [
      "self.evaluation_deque: deque([0.7926821596074662, 0.6588550671340823, 0.5496551109131667, 0.5837943990461493, 0.8029646754010421, 0.6732171177788641, 0.6629686668422068, 0.782786815352109, 0.8406292939538106, 0.5516910689430732, 0.7940352317434611, 0.6609440010214807, 0.7311601196199383, 0.7435245834012912, 0.49939253320053933, 0.7035819892584022, 0.7079507053338343, 0.6662521640200044, 0.3996915487528156, 0.6300099397919937], maxlen=20)\n",
      "eval_mean: 0.6717893595557866\n"
     ]
    },
    {
     "name": "stderr",
     "output_type": "stream",
     "text": [
      "\r",
      " 63%|████████████████████████████████████████████▉                          | 63252/100000 [1:17:42<1:03:08,  9.70it/s]"
     ]
    },
    {
     "name": "stdout",
     "output_type": "stream",
     "text": [
      "self.evaluation_deque: deque([0.7926821596074662, 0.6588550671340823, 0.5496551109131667, 0.5837943990461493, 0.8029646754010421, 0.6732171177788641, 0.6629686668422068, 0.782786815352109, 0.8406292939538106, 0.5516910689430732, 0.7940352317434611, 0.6609440010214807, 0.7311601196199383, 0.7435245834012912, 0.49939253320053933, 0.7035819892584022, 0.7079507053338343, 0.6662521640200044, 0.3996915487528156, 0.6300099397919937], maxlen=20)\n",
      "eval_mean: 0.6717893595557866\n"
     ]
    },
    {
     "name": "stderr",
     "output_type": "stream",
     "text": [
      "\r",
      " 63%|██████████████████████████████████████████████▏                          | 63328/100000 [1:17:48<58:05, 10.52it/s]"
     ]
    },
    {
     "name": "stdout",
     "output_type": "stream",
     "text": [
      "self.evaluation_deque: deque([0.7926821596074662, 0.6588550671340823, 0.5496551109131667, 0.5837943990461493, 0.8029646754010421, 0.6732171177788641, 0.6629686668422068, 0.782786815352109, 0.8406292939538106, 0.5516910689430732, 0.7940352317434611, 0.6609440010214807, 0.7311601196199383, 0.7435245834012912, 0.49939253320053933, 0.7035819892584022, 0.7079507053338343, 0.6662521640200044, 0.3996915487528156, 0.6300099397919937], maxlen=20)\n",
      "eval_mean: 0.6717893595557866\n"
     ]
    },
    {
     "name": "stderr",
     "output_type": "stream",
     "text": [
      "\r",
      " 63%|██████████████████████████████████████████████▎                          | 63404/100000 [1:17:56<59:57, 10.17it/s]"
     ]
    },
    {
     "name": "stdout",
     "output_type": "stream",
     "text": [
      "self.get_collection_ratio(): 0.7007687854785117\n",
      "self.comms.count(True) : 2\n",
      "len(self.comms) : 2\n",
      "self.state.ratio_commed: 1.0\n",
      "self.comms.count(True) : 2\n",
      "len(self.comms) : 2\n",
      "self.evaluation_deque: deque([0.6588550671340823, 0.5496551109131667, 0.5837943990461493, 0.8029646754010421, 0.6732171177788641, 0.6629686668422068, 0.782786815352109, 0.8406292939538106, 0.5516910689430732, 0.7940352317434611, 0.6609440010214807, 0.7311601196199383, 0.7435245834012912, 0.49939253320053933, 0.7035819892584022, 0.7079507053338343, 0.6662521640200044, 0.3996915487528156, 0.6300099397919937, 0.7007687854785117], maxlen=20)\n",
      "eval_mean: 0.667193690849339\n"
     ]
    },
    {
     "name": "stderr",
     "output_type": "stream",
     "text": [
      "\r",
      " 63%|█████████████████████████████████████████████                          | 63480/100000 [1:18:04<1:01:08,  9.96it/s]"
     ]
    },
    {
     "name": "stdout",
     "output_type": "stream",
     "text": [
      "self.evaluation_deque: deque([0.6588550671340823, 0.5496551109131667, 0.5837943990461493, 0.8029646754010421, 0.6732171177788641, 0.6629686668422068, 0.782786815352109, 0.8406292939538106, 0.5516910689430732, 0.7940352317434611, 0.6609440010214807, 0.7311601196199383, 0.7435245834012912, 0.49939253320053933, 0.7035819892584022, 0.7079507053338343, 0.6662521640200044, 0.3996915487528156, 0.6300099397919937, 0.7007687854785117], maxlen=20)\n",
      "eval_mean: 0.667193690849339\n"
     ]
    },
    {
     "name": "stderr",
     "output_type": "stream",
     "text": [
      "\r",
      " 64%|█████████████████████████████████████████████                          | 63556/100000 [1:18:12<1:01:57,  9.80it/s]"
     ]
    },
    {
     "name": "stdout",
     "output_type": "stream",
     "text": [
      "self.evaluation_deque: deque([0.6588550671340823, 0.5496551109131667, 0.5837943990461493, 0.8029646754010421, 0.6732171177788641, 0.6629686668422068, 0.782786815352109, 0.8406292939538106, 0.5516910689430732, 0.7940352317434611, 0.6609440010214807, 0.7311601196199383, 0.7435245834012912, 0.49939253320053933, 0.7035819892584022, 0.7079507053338343, 0.6662521640200044, 0.3996915487528156, 0.6300099397919937, 0.7007687854785117], maxlen=20)\n",
      "eval_mean: 0.667193690849339\n"
     ]
    },
    {
     "name": "stderr",
     "output_type": "stream",
     "text": [
      "\r",
      " 64%|██████████████████████████████████████████████▍                          | 63632/100000 [1:18:19<59:51, 10.13it/s]"
     ]
    },
    {
     "name": "stdout",
     "output_type": "stream",
     "text": [
      "self.evaluation_deque: deque([0.6588550671340823, 0.5496551109131667, 0.5837943990461493, 0.8029646754010421, 0.6732171177788641, 0.6629686668422068, 0.782786815352109, 0.8406292939538106, 0.5516910689430732, 0.7940352317434611, 0.6609440010214807, 0.7311601196199383, 0.7435245834012912, 0.49939253320053933, 0.7035819892584022, 0.7079507053338343, 0.6662521640200044, 0.3996915487528156, 0.6300099397919937, 0.7007687854785117], maxlen=20)\n",
      "eval_mean: 0.667193690849339\n"
     ]
    },
    {
     "name": "stderr",
     "output_type": "stream",
     "text": [
      "\r",
      " 64%|██████████████████████████████████████████████▌                          | 63708/100000 [1:18:25<55:36, 10.88it/s]"
     ]
    },
    {
     "name": "stdout",
     "output_type": "stream",
     "text": [
      "self.evaluation_deque: deque([0.6588550671340823, 0.5496551109131667, 0.5837943990461493, 0.8029646754010421, 0.6732171177788641, 0.6629686668422068, 0.782786815352109, 0.8406292939538106, 0.5516910689430732, 0.7940352317434611, 0.6609440010214807, 0.7311601196199383, 0.7435245834012912, 0.49939253320053933, 0.7035819892584022, 0.7079507053338343, 0.6662521640200044, 0.3996915487528156, 0.6300099397919937, 0.7007687854785117], maxlen=20)\n",
      "eval_mean: 0.667193690849339\n"
     ]
    },
    {
     "name": "stderr",
     "output_type": "stream",
     "text": [
      "\r",
      " 64%|█████████████████████████████████████████████▎                         | 63784/100000 [1:18:35<1:02:46,  9.61it/s]"
     ]
    },
    {
     "name": "stdout",
     "output_type": "stream",
     "text": [
      "self.get_collection_ratio(): 0.7297523734362127\n",
      "self.comms.count(True) : 3\n",
      "len(self.comms) : 3\n",
      "self.state.ratio_commed: 1.0\n",
      "self.comms.count(True) : 3\n",
      "len(self.comms) : 3\n",
      "self.evaluation_deque: deque([0.5496551109131667, 0.5837943990461493, 0.8029646754010421, 0.6732171177788641, 0.6629686668422068, 0.782786815352109, 0.8406292939538106, 0.5516910689430732, 0.7940352317434611, 0.6609440010214807, 0.7311601196199383, 0.7435245834012912, 0.49939253320053933, 0.7035819892584022, 0.7079507053338343, 0.6662521640200044, 0.3996915487528156, 0.6300099397919937, 0.7007687854785117, 0.7297523734362127], maxlen=20)\n",
      "eval_mean: 0.6707385561644454\n"
     ]
    },
    {
     "name": "stderr",
     "output_type": "stream",
     "text": [
      "\r",
      " 64%|█████████████████████████████████████████████▎                         | 63860/100000 [1:18:42<1:00:22,  9.98it/s]"
     ]
    },
    {
     "name": "stdout",
     "output_type": "stream",
     "text": [
      "self.evaluation_deque: deque([0.5496551109131667, 0.5837943990461493, 0.8029646754010421, 0.6732171177788641, 0.6629686668422068, 0.782786815352109, 0.8406292939538106, 0.5516910689430732, 0.7940352317434611, 0.6609440010214807, 0.7311601196199383, 0.7435245834012912, 0.49939253320053933, 0.7035819892584022, 0.7079507053338343, 0.6662521640200044, 0.3996915487528156, 0.6300099397919937, 0.7007687854785117, 0.7297523734362127], maxlen=20)\n",
      "eval_mean: 0.6707385561644454\n"
     ]
    },
    {
     "name": "stderr",
     "output_type": "stream",
     "text": [
      "\r",
      " 64%|█████████████████████████████████████████████▍                         | 63936/100000 [1:18:50<1:01:21,  9.79it/s]"
     ]
    },
    {
     "name": "stdout",
     "output_type": "stream",
     "text": [
      "self.evaluation_deque: deque([0.5496551109131667, 0.5837943990461493, 0.8029646754010421, 0.6732171177788641, 0.6629686668422068, 0.782786815352109, 0.8406292939538106, 0.5516910689430732, 0.7940352317434611, 0.6609440010214807, 0.7311601196199383, 0.7435245834012912, 0.49939253320053933, 0.7035819892584022, 0.7079507053338343, 0.6662521640200044, 0.3996915487528156, 0.6300099397919937, 0.7007687854785117, 0.7297523734362127], maxlen=20)\n",
      "eval_mean: 0.6707385561644454\n"
     ]
    },
    {
     "name": "stderr",
     "output_type": "stream",
     "text": [
      "\r",
      " 64%|██████████████████████████████████████████████▋                          | 64012/100000 [1:18:57<59:17, 10.12it/s]"
     ]
    },
    {
     "name": "stdout",
     "output_type": "stream",
     "text": [
      "self.evaluation_deque: deque([0.5496551109131667, 0.5837943990461493, 0.8029646754010421, 0.6732171177788641, 0.6629686668422068, 0.782786815352109, 0.8406292939538106, 0.5516910689430732, 0.7940352317434611, 0.6609440010214807, 0.7311601196199383, 0.7435245834012912, 0.49939253320053933, 0.7035819892584022, 0.7079507053338343, 0.6662521640200044, 0.3996915487528156, 0.6300099397919937, 0.7007687854785117, 0.7297523734362127], maxlen=20)\n",
      "eval_mean: 0.6707385561644454\n"
     ]
    },
    {
     "name": "stderr",
     "output_type": "stream",
     "text": [
      "\r",
      " 64%|█████████████████████████████████████████████▌                         | 64088/100000 [1:19:05<1:00:23,  9.91it/s]"
     ]
    },
    {
     "name": "stdout",
     "output_type": "stream",
     "text": [
      "self.evaluation_deque: deque([0.5496551109131667, 0.5837943990461493, 0.8029646754010421, 0.6732171177788641, 0.6629686668422068, 0.782786815352109, 0.8406292939538106, 0.5516910689430732, 0.7940352317434611, 0.6609440010214807, 0.7311601196199383, 0.7435245834012912, 0.49939253320053933, 0.7035819892584022, 0.7079507053338343, 0.6662521640200044, 0.3996915487528156, 0.6300099397919937, 0.7007687854785117, 0.7297523734362127], maxlen=20)\n",
      "eval_mean: 0.6707385561644454\n"
     ]
    },
    {
     "name": "stderr",
     "output_type": "stream",
     "text": [
      " 64%|█████████████████████████████████████████████▌                         | 64164/100000 [1:19:21<1:20:52,  7.39it/s]"
     ]
    },
    {
     "name": "stdout",
     "output_type": "stream",
     "text": [
      "self.get_collection_ratio(): 0.8145209584429359\n",
      "self.comms.count(True) : 3\n",
      "len(self.comms) : 3\n",
      "self.state.ratio_commed: 1.0\n",
      "self.comms.count(True) : 3\n",
      "len(self.comms) : 3\n",
      "self.evaluation_deque: deque([0.5837943990461493, 0.8029646754010421, 0.6732171177788641, 0.6629686668422068, 0.782786815352109, 0.8406292939538106, 0.5516910689430732, 0.7940352317434611, 0.6609440010214807, 0.7311601196199383, 0.7435245834012912, 0.49939253320053933, 0.7035819892584022, 0.7079507053338343, 0.6662521640200044, 0.3996915487528156, 0.6300099397919937, 0.7007687854785117, 0.7297523734362127, 0.8145209584429359], maxlen=20)\n",
      "eval_mean: 0.6839818485409338\n"
     ]
    },
    {
     "name": "stderr",
     "output_type": "stream",
     "text": [
      "\r",
      " 64%|█████████████████████████████████████████████▌                         | 64240/100000 [1:19:29<1:15:20,  7.91it/s]"
     ]
    },
    {
     "name": "stdout",
     "output_type": "stream",
     "text": [
      "self.evaluation_deque: deque([0.5837943990461493, 0.8029646754010421, 0.6732171177788641, 0.6629686668422068, 0.782786815352109, 0.8406292939538106, 0.5516910689430732, 0.7940352317434611, 0.6609440010214807, 0.7311601196199383, 0.7435245834012912, 0.49939253320053933, 0.7035819892584022, 0.7079507053338343, 0.6662521640200044, 0.3996915487528156, 0.6300099397919937, 0.7007687854785117, 0.7297523734362127, 0.8145209584429359], maxlen=20)\n",
      "eval_mean: 0.6839818485409338\n"
     ]
    },
    {
     "name": "stderr",
     "output_type": "stream",
     "text": [
      "\r",
      " 64%|█████████████████████████████████████████████▋                         | 64316/100000 [1:19:36<1:08:56,  8.63it/s]"
     ]
    },
    {
     "name": "stdout",
     "output_type": "stream",
     "text": [
      "self.evaluation_deque: deque([0.5837943990461493, 0.8029646754010421, 0.6732171177788641, 0.6629686668422068, 0.782786815352109, 0.8406292939538106, 0.5516910689430732, 0.7940352317434611, 0.6609440010214807, 0.7311601196199383, 0.7435245834012912, 0.49939253320053933, 0.7035819892584022, 0.7079507053338343, 0.6662521640200044, 0.3996915487528156, 0.6300099397919937, 0.7007687854785117, 0.7297523734362127, 0.8145209584429359], maxlen=20)\n",
      "eval_mean: 0.6839818485409338\n"
     ]
    },
    {
     "name": "stderr",
     "output_type": "stream",
     "text": [
      "\r",
      " 64%|█████████████████████████████████████████████▋                         | 64392/100000 [1:19:44<1:06:53,  8.87it/s]"
     ]
    },
    {
     "name": "stdout",
     "output_type": "stream",
     "text": [
      "self.evaluation_deque: deque([0.5837943990461493, 0.8029646754010421, 0.6732171177788641, 0.6629686668422068, 0.782786815352109, 0.8406292939538106, 0.5516910689430732, 0.7940352317434611, 0.6609440010214807, 0.7311601196199383, 0.7435245834012912, 0.49939253320053933, 0.7035819892584022, 0.7079507053338343, 0.6662521640200044, 0.3996915487528156, 0.6300099397919937, 0.7007687854785117, 0.7297523734362127, 0.8145209584429359], maxlen=20)\n",
      "eval_mean: 0.6839818485409338\n"
     ]
    },
    {
     "name": "stderr",
     "output_type": "stream",
     "text": [
      "\r",
      " 64%|█████████████████████████████████████████████▊                         | 64468/100000 [1:19:50<1:00:08,  9.85it/s]"
     ]
    },
    {
     "name": "stdout",
     "output_type": "stream",
     "text": [
      "self.evaluation_deque: deque([0.5837943990461493, 0.8029646754010421, 0.6732171177788641, 0.6629686668422068, 0.782786815352109, 0.8406292939538106, 0.5516910689430732, 0.7940352317434611, 0.6609440010214807, 0.7311601196199383, 0.7435245834012912, 0.49939253320053933, 0.7035819892584022, 0.7079507053338343, 0.6662521640200044, 0.3996915487528156, 0.6300099397919937, 0.7007687854785117, 0.7297523734362127, 0.8145209584429359], maxlen=20)\n",
      "eval_mean: 0.6839818485409338\n"
     ]
    },
    {
     "name": "stderr",
     "output_type": "stream",
     "text": [
      "\r",
      " 65%|█████████████████████████████████████████████▊                         | 64544/100000 [1:20:00<1:04:40,  9.14it/s]"
     ]
    },
    {
     "name": "stdout",
     "output_type": "stream",
     "text": [
      "self.get_collection_ratio(): 0.45933183374042896\n",
      "self.comms.count(True) : 1\n",
      "len(self.comms) : 1\n",
      "self.state.ratio_commed: 1.0\n",
      "self.comms.count(True) : 1\n",
      "len(self.comms) : 1\n",
      "self.evaluation_deque: deque([0.8029646754010421, 0.6732171177788641, 0.6629686668422068, 0.782786815352109, 0.8406292939538106, 0.5516910689430732, 0.7940352317434611, 0.6609440010214807, 0.7311601196199383, 0.7435245834012912, 0.49939253320053933, 0.7035819892584022, 0.7079507053338343, 0.6662521640200044, 0.3996915487528156, 0.6300099397919937, 0.7007687854785117, 0.7297523734362127, 0.8145209584429359, 0.45933183374042896], maxlen=20)\n",
      "eval_mean: 0.6777587202756478\n"
     ]
    },
    {
     "name": "stderr",
     "output_type": "stream",
     "text": [
      "\r",
      " 65%|███████████████████████████████████████████████▏                         | 64620/100000 [1:20:05<58:37, 10.06it/s]"
     ]
    },
    {
     "name": "stdout",
     "output_type": "stream",
     "text": [
      "self.evaluation_deque: deque([0.8029646754010421, 0.6732171177788641, 0.6629686668422068, 0.782786815352109, 0.8406292939538106, 0.5516910689430732, 0.7940352317434611, 0.6609440010214807, 0.7311601196199383, 0.7435245834012912, 0.49939253320053933, 0.7035819892584022, 0.7079507053338343, 0.6662521640200044, 0.3996915487528156, 0.6300099397919937, 0.7007687854785117, 0.7297523734362127, 0.8145209584429359, 0.45933183374042896], maxlen=20)\n",
      "eval_mean: 0.6777587202756478\n"
     ]
    },
    {
     "name": "stderr",
     "output_type": "stream",
     "text": [
      "\r",
      " 65%|███████████████████████████████████████████████▏                         | 64696/100000 [1:20:13<59:38,  9.86it/s]"
     ]
    },
    {
     "name": "stdout",
     "output_type": "stream",
     "text": [
      "self.evaluation_deque: deque([0.8029646754010421, 0.6732171177788641, 0.6629686668422068, 0.782786815352109, 0.8406292939538106, 0.5516910689430732, 0.7940352317434611, 0.6609440010214807, 0.7311601196199383, 0.7435245834012912, 0.49939253320053933, 0.7035819892584022, 0.7079507053338343, 0.6662521640200044, 0.3996915487528156, 0.6300099397919937, 0.7007687854785117, 0.7297523734362127, 0.8145209584429359, 0.45933183374042896], maxlen=20)\n",
      "eval_mean: 0.6777587202756478\n"
     ]
    },
    {
     "name": "stderr",
     "output_type": "stream",
     "text": [
      "\r",
      " 65%|███████████████████████████████████████████████▎                         | 64772/100000 [1:20:19<54:58, 10.68it/s]"
     ]
    },
    {
     "name": "stdout",
     "output_type": "stream",
     "text": [
      "self.evaluation_deque: deque([0.8029646754010421, 0.6732171177788641, 0.6629686668422068, 0.782786815352109, 0.8406292939538106, 0.5516910689430732, 0.7940352317434611, 0.6609440010214807, 0.7311601196199383, 0.7435245834012912, 0.49939253320053933, 0.7035819892584022, 0.7079507053338343, 0.6662521640200044, 0.3996915487528156, 0.6300099397919937, 0.7007687854785117, 0.7297523734362127, 0.8145209584429359, 0.45933183374042896], maxlen=20)\n",
      "eval_mean: 0.6777587202756478\n"
     ]
    },
    {
     "name": "stderr",
     "output_type": "stream",
     "text": [
      "\r",
      " 65%|███████████████████████████████████████████████▎                         | 64848/100000 [1:20:27<56:26, 10.38it/s]"
     ]
    },
    {
     "name": "stdout",
     "output_type": "stream",
     "text": [
      "self.evaluation_deque: deque([0.8029646754010421, 0.6732171177788641, 0.6629686668422068, 0.782786815352109, 0.8406292939538106, 0.5516910689430732, 0.7940352317434611, 0.6609440010214807, 0.7311601196199383, 0.7435245834012912, 0.49939253320053933, 0.7035819892584022, 0.7079507053338343, 0.6662521640200044, 0.3996915487528156, 0.6300099397919937, 0.7007687854785117, 0.7297523734362127, 0.8145209584429359, 0.45933183374042896], maxlen=20)\n",
      "eval_mean: 0.6777587202756478\n"
     ]
    },
    {
     "name": "stderr",
     "output_type": "stream",
     "text": [
      "\r",
      " 65%|██████████████████████████████████████████████                         | 64924/100000 [1:20:37<1:03:00,  9.28it/s]"
     ]
    },
    {
     "name": "stdout",
     "output_type": "stream",
     "text": [
      "self.get_collection_ratio(): 0.7767594395987472\n",
      "self.comms.count(True) : 3\n",
      "len(self.comms) : 3\n",
      "self.state.ratio_commed: 1.0\n",
      "self.comms.count(True) : 3\n",
      "len(self.comms) : 3\n",
      "self.evaluation_deque: deque([0.6732171177788641, 0.6629686668422068, 0.782786815352109, 0.8406292939538106, 0.5516910689430732, 0.7940352317434611, 0.6609440010214807, 0.7311601196199383, 0.7435245834012912, 0.49939253320053933, 0.7035819892584022, 0.7079507053338343, 0.6662521640200044, 0.3996915487528156, 0.6300099397919937, 0.7007687854785117, 0.7297523734362127, 0.8145209584429359, 0.45933183374042896, 0.7767594395987472], maxlen=20)\n",
      "eval_mean: 0.676448458485533\n"
     ]
    },
    {
     "name": "stderr",
     "output_type": "stream",
     "text": [
      "\r",
      " 65%|██████████████████████████████████████████████▏                        | 65000/100000 [1:20:45<1:02:42,  9.30it/s]"
     ]
    },
    {
     "name": "stdout",
     "output_type": "stream",
     "text": [
      "self.evaluation_deque: deque([0.6732171177788641, 0.6629686668422068, 0.782786815352109, 0.8406292939538106, 0.5516910689430732, 0.7940352317434611, 0.6609440010214807, 0.7311601196199383, 0.7435245834012912, 0.49939253320053933, 0.7035819892584022, 0.7079507053338343, 0.6662521640200044, 0.3996915487528156, 0.6300099397919937, 0.7007687854785117, 0.7297523734362127, 0.8145209584429359, 0.45933183374042896, 0.7767594395987472], maxlen=20)\n",
      "eval_mean: 0.676448458485533\n"
     ]
    },
    {
     "name": "stderr",
     "output_type": "stream",
     "text": [
      "\r",
      " 65%|███████████████████████████████████████████████▌                         | 65076/100000 [1:20:52<59:37,  9.76it/s]"
     ]
    },
    {
     "name": "stdout",
     "output_type": "stream",
     "text": [
      "self.evaluation_deque: deque([0.6732171177788641, 0.6629686668422068, 0.782786815352109, 0.8406292939538106, 0.5516910689430732, 0.7940352317434611, 0.6609440010214807, 0.7311601196199383, 0.7435245834012912, 0.49939253320053933, 0.7035819892584022, 0.7079507053338343, 0.6662521640200044, 0.3996915487528156, 0.6300099397919937, 0.7007687854785117, 0.7297523734362127, 0.8145209584429359, 0.45933183374042896, 0.7767594395987472], maxlen=20)\n",
      "eval_mean: 0.676448458485533\n"
     ]
    },
    {
     "name": "stderr",
     "output_type": "stream",
     "text": [
      "\r",
      " 65%|███████████████████████████████████████████████▌                         | 65152/100000 [1:20:58<54:46, 10.60it/s]"
     ]
    },
    {
     "name": "stdout",
     "output_type": "stream",
     "text": [
      "self.evaluation_deque: deque([0.6732171177788641, 0.6629686668422068, 0.782786815352109, 0.8406292939538106, 0.5516910689430732, 0.7940352317434611, 0.6609440010214807, 0.7311601196199383, 0.7435245834012912, 0.49939253320053933, 0.7035819892584022, 0.7079507053338343, 0.6662521640200044, 0.3996915487528156, 0.6300099397919937, 0.7007687854785117, 0.7297523734362127, 0.8145209584429359, 0.45933183374042896, 0.7767594395987472], maxlen=20)\n",
      "eval_mean: 0.676448458485533\n"
     ]
    },
    {
     "name": "stderr",
     "output_type": "stream",
     "text": [
      "\r",
      " 65%|███████████████████████████████████████████████▌                         | 65228/100000 [1:21:05<54:12, 10.69it/s]"
     ]
    },
    {
     "name": "stdout",
     "output_type": "stream",
     "text": [
      "self.evaluation_deque: deque([0.6732171177788641, 0.6629686668422068, 0.782786815352109, 0.8406292939538106, 0.5516910689430732, 0.7940352317434611, 0.6609440010214807, 0.7311601196199383, 0.7435245834012912, 0.49939253320053933, 0.7035819892584022, 0.7079507053338343, 0.6662521640200044, 0.3996915487528156, 0.6300099397919937, 0.7007687854785117, 0.7297523734362127, 0.8145209584429359, 0.45933183374042896, 0.7767594395987472], maxlen=20)\n",
      "eval_mean: 0.676448458485533\n"
     ]
    },
    {
     "name": "stderr",
     "output_type": "stream",
     "text": [
      "\r",
      " 65%|███████████████████████████████████████████████▋                         | 65304/100000 [1:21:12<54:35, 10.59it/s]"
     ]
    },
    {
     "name": "stdout",
     "output_type": "stream",
     "text": [
      "self.get_collection_ratio(): 0.5398932294047817\n",
      "self.comms.count(True) : 1\n",
      "len(self.comms) : 1\n",
      "self.state.ratio_commed: 1.0\n",
      "self.comms.count(True) : 1\n",
      "len(self.comms) : 1\n",
      "self.evaluation_deque: deque([0.6629686668422068, 0.782786815352109, 0.8406292939538106, 0.5516910689430732, 0.7940352317434611, 0.6609440010214807, 0.7311601196199383, 0.7435245834012912, 0.49939253320053933, 0.7035819892584022, 0.7079507053338343, 0.6662521640200044, 0.3996915487528156, 0.6300099397919937, 0.7007687854785117, 0.7297523734362127, 0.8145209584429359, 0.45933183374042896, 0.7767594395987472, 0.5398932294047817], maxlen=20)\n",
      "eval_mean: 0.6697822640668288\n"
     ]
    },
    {
     "name": "stderr",
     "output_type": "stream",
     "text": [
      "\r",
      " 65%|███████████████████████████████████████████████▋                         | 65380/100000 [1:21:20<56:23, 10.23it/s]"
     ]
    },
    {
     "name": "stdout",
     "output_type": "stream",
     "text": [
      "self.evaluation_deque: deque([0.6629686668422068, 0.782786815352109, 0.8406292939538106, 0.5516910689430732, 0.7940352317434611, 0.6609440010214807, 0.7311601196199383, 0.7435245834012912, 0.49939253320053933, 0.7035819892584022, 0.7079507053338343, 0.6662521640200044, 0.3996915487528156, 0.6300099397919937, 0.7007687854785117, 0.7297523734362127, 0.8145209584429359, 0.45933183374042896, 0.7767594395987472, 0.5398932294047817], maxlen=20)\n",
      "eval_mean: 0.6697822640668288\n"
     ]
    },
    {
     "name": "stderr",
     "output_type": "stream",
     "text": [
      "\r",
      " 65%|███████████████████████████████████████████████▊                         | 65456/100000 [1:21:28<57:49,  9.96it/s]"
     ]
    },
    {
     "name": "stdout",
     "output_type": "stream",
     "text": [
      "self.evaluation_deque: deque([0.6629686668422068, 0.782786815352109, 0.8406292939538106, 0.5516910689430732, 0.7940352317434611, 0.6609440010214807, 0.7311601196199383, 0.7435245834012912, 0.49939253320053933, 0.7035819892584022, 0.7079507053338343, 0.6662521640200044, 0.3996915487528156, 0.6300099397919937, 0.7007687854785117, 0.7297523734362127, 0.8145209584429359, 0.45933183374042896, 0.7767594395987472, 0.5398932294047817], maxlen=20)\n",
      "eval_mean: 0.6697822640668288\n"
     ]
    },
    {
     "name": "stderr",
     "output_type": "stream",
     "text": [
      "\r",
      " 66%|███████████████████████████████████████████████▊                         | 65532/100000 [1:21:36<58:46,  9.77it/s]"
     ]
    },
    {
     "name": "stdout",
     "output_type": "stream",
     "text": [
      "self.evaluation_deque: deque([0.6629686668422068, 0.782786815352109, 0.8406292939538106, 0.5516910689430732, 0.7940352317434611, 0.6609440010214807, 0.7311601196199383, 0.7435245834012912, 0.49939253320053933, 0.7035819892584022, 0.7079507053338343, 0.6662521640200044, 0.3996915487528156, 0.6300099397919937, 0.7007687854785117, 0.7297523734362127, 0.8145209584429359, 0.45933183374042896, 0.7767594395987472, 0.5398932294047817], maxlen=20)\n",
      "eval_mean: 0.6697822640668288\n"
     ]
    },
    {
     "name": "stderr",
     "output_type": "stream",
     "text": [
      "\r",
      " 66%|███████████████████████████████████████████████▉                         | 65608/100000 [1:21:43<57:00, 10.06it/s]"
     ]
    },
    {
     "name": "stdout",
     "output_type": "stream",
     "text": [
      "self.evaluation_deque: deque([0.6629686668422068, 0.782786815352109, 0.8406292939538106, 0.5516910689430732, 0.7940352317434611, 0.6609440010214807, 0.7311601196199383, 0.7435245834012912, 0.49939253320053933, 0.7035819892584022, 0.7079507053338343, 0.6662521640200044, 0.3996915487528156, 0.6300099397919937, 0.7007687854785117, 0.7297523734362127, 0.8145209584429359, 0.45933183374042896, 0.7767594395987472, 0.5398932294047817], maxlen=20)\n",
      "eval_mean: 0.6697822640668288\n"
     ]
    },
    {
     "name": "stderr",
     "output_type": "stream",
     "text": [
      "\r",
      " 66%|██████████████████████████████████████████████▋                        | 65684/100000 [1:21:54<1:03:30,  9.01it/s]"
     ]
    },
    {
     "name": "stdout",
     "output_type": "stream",
     "text": [
      "self.get_collection_ratio(): 0.6567240998555052\n",
      "self.comms.count(True) : 2\n",
      "len(self.comms) : 2\n",
      "self.state.ratio_commed: 1.0\n",
      "self.comms.count(True) : 2\n",
      "len(self.comms) : 2\n",
      "self.evaluation_deque: deque([0.782786815352109, 0.8406292939538106, 0.5516910689430732, 0.7940352317434611, 0.6609440010214807, 0.7311601196199383, 0.7435245834012912, 0.49939253320053933, 0.7035819892584022, 0.7079507053338343, 0.6662521640200044, 0.3996915487528156, 0.6300099397919937, 0.7007687854785117, 0.7297523734362127, 0.8145209584429359, 0.45933183374042896, 0.7767594395987472, 0.5398932294047817, 0.6567240998555052], maxlen=20)\n",
      "eval_mean: 0.6694700357174939\n"
     ]
    },
    {
     "name": "stderr",
     "output_type": "stream",
     "text": [
      "\r",
      " 66%|████████████████████████████████████████████████                         | 65760/100000 [1:22:01<59:50,  9.54it/s]"
     ]
    },
    {
     "name": "stdout",
     "output_type": "stream",
     "text": [
      "self.evaluation_deque: deque([0.782786815352109, 0.8406292939538106, 0.5516910689430732, 0.7940352317434611, 0.6609440010214807, 0.7311601196199383, 0.7435245834012912, 0.49939253320053933, 0.7035819892584022, 0.7079507053338343, 0.6662521640200044, 0.3996915487528156, 0.6300099397919937, 0.7007687854785117, 0.7297523734362127, 0.8145209584429359, 0.45933183374042896, 0.7767594395987472, 0.5398932294047817, 0.6567240998555052], maxlen=20)\n",
      "eval_mean: 0.6694700357174939\n"
     ]
    },
    {
     "name": "stderr",
     "output_type": "stream",
     "text": [
      "\r",
      " 66%|████████████████████████████████████████████████                         | 65836/100000 [1:22:08<57:16,  9.94it/s]"
     ]
    },
    {
     "name": "stdout",
     "output_type": "stream",
     "text": [
      "self.evaluation_deque: deque([0.782786815352109, 0.8406292939538106, 0.5516910689430732, 0.7940352317434611, 0.6609440010214807, 0.7311601196199383, 0.7435245834012912, 0.49939253320053933, 0.7035819892584022, 0.7079507053338343, 0.6662521640200044, 0.3996915487528156, 0.6300099397919937, 0.7007687854785117, 0.7297523734362127, 0.8145209584429359, 0.45933183374042896, 0.7767594395987472, 0.5398932294047817, 0.6567240998555052], maxlen=20)\n",
      "eval_mean: 0.6694700357174939\n"
     ]
    },
    {
     "name": "stderr",
     "output_type": "stream",
     "text": [
      "\r",
      " 66%|████████████████████████████████████████████████                         | 65912/100000 [1:22:13<52:53, 10.74it/s]"
     ]
    },
    {
     "name": "stdout",
     "output_type": "stream",
     "text": [
      "self.evaluation_deque: deque([0.782786815352109, 0.8406292939538106, 0.5516910689430732, 0.7940352317434611, 0.6609440010214807, 0.7311601196199383, 0.7435245834012912, 0.49939253320053933, 0.7035819892584022, 0.7079507053338343, 0.6662521640200044, 0.3996915487528156, 0.6300099397919937, 0.7007687854785117, 0.7297523734362127, 0.8145209584429359, 0.45933183374042896, 0.7767594395987472, 0.5398932294047817, 0.6567240998555052], maxlen=20)\n",
      "eval_mean: 0.6694700357174939\n"
     ]
    },
    {
     "name": "stderr",
     "output_type": "stream",
     "text": [
      "\r",
      " 66%|████████████████████████████████████████████████▏                        | 65988/100000 [1:22:19<49:51, 11.37it/s]"
     ]
    },
    {
     "name": "stdout",
     "output_type": "stream",
     "text": [
      "self.evaluation_deque: deque([0.782786815352109, 0.8406292939538106, 0.5516910689430732, 0.7940352317434611, 0.6609440010214807, 0.7311601196199383, 0.7435245834012912, 0.49939253320053933, 0.7035819892584022, 0.7079507053338343, 0.6662521640200044, 0.3996915487528156, 0.6300099397919937, 0.7007687854785117, 0.7297523734362127, 0.8145209584429359, 0.45933183374042896, 0.7767594395987472, 0.5398932294047817, 0.6567240998555052], maxlen=20)\n",
      "eval_mean: 0.6694700357174939\n"
     ]
    },
    {
     "name": "stderr",
     "output_type": "stream",
     "text": [
      "\r",
      " 66%|████████████████████████████████████████████████▏                        | 66064/100000 [1:22:29<56:53,  9.94it/s]"
     ]
    },
    {
     "name": "stdout",
     "output_type": "stream",
     "text": [
      "self.get_collection_ratio(): 0.831814651407253\n",
      "self.comms.count(True) : 2\n",
      "len(self.comms) : 3\n",
      "self.state.ratio_commed: 0.6666666666666666\n",
      "self.comms.count(True) : 2\n",
      "len(self.comms) : 3\n",
      "self.evaluation_deque: deque([0.8406292939538106, 0.5516910689430732, 0.7940352317434611, 0.6609440010214807, 0.7311601196199383, 0.7435245834012912, 0.49939253320053933, 0.7035819892584022, 0.7079507053338343, 0.6662521640200044, 0.3996915487528156, 0.6300099397919937, 0.7007687854785117, 0.7297523734362127, 0.8145209584429359, 0.45933183374042896, 0.7767594395987472, 0.5398932294047817, 0.6567240998555052, 0.5545431009381686], maxlen=20)\n",
      "eval_mean: 0.658057849996797\n"
     ]
    },
    {
     "name": "stderr",
     "output_type": "stream",
     "text": [
      "\r",
      " 66%|████████████████████████████████████████████████▎                        | 66140/100000 [1:22:37<57:36,  9.80it/s]"
     ]
    },
    {
     "name": "stdout",
     "output_type": "stream",
     "text": [
      "self.evaluation_deque: deque([0.8406292939538106, 0.5516910689430732, 0.7940352317434611, 0.6609440010214807, 0.7311601196199383, 0.7435245834012912, 0.49939253320053933, 0.7035819892584022, 0.7079507053338343, 0.6662521640200044, 0.3996915487528156, 0.6300099397919937, 0.7007687854785117, 0.7297523734362127, 0.8145209584429359, 0.45933183374042896, 0.7767594395987472, 0.5398932294047817, 0.6567240998555052, 0.5545431009381686], maxlen=20)\n",
      "eval_mean: 0.658057849996797\n"
     ]
    },
    {
     "name": "stderr",
     "output_type": "stream",
     "text": [
      "\r",
      " 66%|████████████████████████████████████████████████▎                        | 66216/100000 [1:22:45<58:08,  9.68it/s]"
     ]
    },
    {
     "name": "stdout",
     "output_type": "stream",
     "text": [
      "self.evaluation_deque: deque([0.8406292939538106, 0.5516910689430732, 0.7940352317434611, 0.6609440010214807, 0.7311601196199383, 0.7435245834012912, 0.49939253320053933, 0.7035819892584022, 0.7079507053338343, 0.6662521640200044, 0.3996915487528156, 0.6300099397919937, 0.7007687854785117, 0.7297523734362127, 0.8145209584429359, 0.45933183374042896, 0.7767594395987472, 0.5398932294047817, 0.6567240998555052, 0.5545431009381686], maxlen=20)\n",
      "eval_mean: 0.658057849996797\n"
     ]
    },
    {
     "name": "stderr",
     "output_type": "stream",
     "text": [
      "\r",
      " 66%|████████████████████████████████████████████████▍                        | 66292/100000 [1:22:53<58:08,  9.66it/s]"
     ]
    },
    {
     "name": "stdout",
     "output_type": "stream",
     "text": [
      "self.evaluation_deque: deque([0.8406292939538106, 0.5516910689430732, 0.7940352317434611, 0.6609440010214807, 0.7311601196199383, 0.7435245834012912, 0.49939253320053933, 0.7035819892584022, 0.7079507053338343, 0.6662521640200044, 0.3996915487528156, 0.6300099397919937, 0.7007687854785117, 0.7297523734362127, 0.8145209584429359, 0.45933183374042896, 0.7767594395987472, 0.5398932294047817, 0.6567240998555052, 0.5545431009381686], maxlen=20)\n",
      "eval_mean: 0.658057849996797\n"
     ]
    },
    {
     "name": "stderr",
     "output_type": "stream",
     "text": [
      "\r",
      " 66%|████████████████████████████████████████████████▍                        | 66368/100000 [1:23:00<55:48, 10.04it/s]"
     ]
    },
    {
     "name": "stdout",
     "output_type": "stream",
     "text": [
      "self.evaluation_deque: deque([0.8406292939538106, 0.5516910689430732, 0.7940352317434611, 0.6609440010214807, 0.7311601196199383, 0.7435245834012912, 0.49939253320053933, 0.7035819892584022, 0.7079507053338343, 0.6662521640200044, 0.3996915487528156, 0.6300099397919937, 0.7007687854785117, 0.7297523734362127, 0.8145209584429359, 0.45933183374042896, 0.7767594395987472, 0.5398932294047817, 0.6567240998555052, 0.5545431009381686], maxlen=20)\n",
      "eval_mean: 0.658057849996797\n"
     ]
    },
    {
     "name": "stderr",
     "output_type": "stream",
     "text": [
      "\r",
      " 66%|████████████████████████████████████████████████▌                        | 66444/100000 [1:23:08<56:44,  9.86it/s]"
     ]
    },
    {
     "name": "stdout",
     "output_type": "stream",
     "text": [
      "self.get_collection_ratio(): 0.6635066385878052\n",
      "self.comms.count(True) : 2\n",
      "len(self.comms) : 2\n",
      "self.state.ratio_commed: 1.0\n",
      "self.comms.count(True) : 2\n",
      "len(self.comms) : 2\n",
      "self.evaluation_deque: deque([0.5516910689430732, 0.7940352317434611, 0.6609440010214807, 0.7311601196199383, 0.7435245834012912, 0.49939253320053933, 0.7035819892584022, 0.7079507053338343, 0.6662521640200044, 0.3996915487528156, 0.6300099397919937, 0.7007687854785117, 0.7297523734362127, 0.8145209584429359, 0.45933183374042896, 0.7767594395987472, 0.5398932294047817, 0.6567240998555052, 0.5545431009381686, 0.6635066385878052], maxlen=20)\n",
      "eval_mean: 0.6492017172284966\n"
     ]
    },
    {
     "name": "stderr",
     "output_type": "stream",
     "text": [
      "\r",
      " 67%|████████████████████████████████████████████████▌                        | 66520/100000 [1:23:14<52:15, 10.68it/s]"
     ]
    },
    {
     "name": "stdout",
     "output_type": "stream",
     "text": [
      "self.evaluation_deque: deque([0.5516910689430732, 0.7940352317434611, 0.6609440010214807, 0.7311601196199383, 0.7435245834012912, 0.49939253320053933, 0.7035819892584022, 0.7079507053338343, 0.6662521640200044, 0.3996915487528156, 0.6300099397919937, 0.7007687854785117, 0.7297523734362127, 0.8145209584429359, 0.45933183374042896, 0.7767594395987472, 0.5398932294047817, 0.6567240998555052, 0.5545431009381686, 0.6635066385878052], maxlen=20)\n",
      "eval_mean: 0.6492017172284966\n"
     ]
    },
    {
     "name": "stderr",
     "output_type": "stream",
     "text": [
      "\r",
      " 67%|████████████████████████████████████████████████▌                        | 66596/100000 [1:23:22<54:09, 10.28it/s]"
     ]
    },
    {
     "name": "stdout",
     "output_type": "stream",
     "text": [
      "self.evaluation_deque: deque([0.5516910689430732, 0.7940352317434611, 0.6609440010214807, 0.7311601196199383, 0.7435245834012912, 0.49939253320053933, 0.7035819892584022, 0.7079507053338343, 0.6662521640200044, 0.3996915487528156, 0.6300099397919937, 0.7007687854785117, 0.7297523734362127, 0.8145209584429359, 0.45933183374042896, 0.7767594395987472, 0.5398932294047817, 0.6567240998555052, 0.5545431009381686, 0.6635066385878052], maxlen=20)\n",
      "eval_mean: 0.6492017172284966\n"
     ]
    },
    {
     "name": "stderr",
     "output_type": "stream",
     "text": [
      "\r",
      " 67%|████████████████████████████████████████████████▋                        | 66672/100000 [1:23:30<55:41,  9.98it/s]"
     ]
    },
    {
     "name": "stdout",
     "output_type": "stream",
     "text": [
      "self.evaluation_deque: deque([0.5516910689430732, 0.7940352317434611, 0.6609440010214807, 0.7311601196199383, 0.7435245834012912, 0.49939253320053933, 0.7035819892584022, 0.7079507053338343, 0.6662521640200044, 0.3996915487528156, 0.6300099397919937, 0.7007687854785117, 0.7297523734362127, 0.8145209584429359, 0.45933183374042896, 0.7767594395987472, 0.5398932294047817, 0.6567240998555052, 0.5545431009381686, 0.6635066385878052], maxlen=20)\n",
      "eval_mean: 0.6492017172284966\n"
     ]
    },
    {
     "name": "stderr",
     "output_type": "stream",
     "text": [
      "\r",
      " 67%|████████████████████████████████████████████████▋                        | 66748/100000 [1:23:38<56:32,  9.80it/s]"
     ]
    },
    {
     "name": "stdout",
     "output_type": "stream",
     "text": [
      "self.evaluation_deque: deque([0.5516910689430732, 0.7940352317434611, 0.6609440010214807, 0.7311601196199383, 0.7435245834012912, 0.49939253320053933, 0.7035819892584022, 0.7079507053338343, 0.6662521640200044, 0.3996915487528156, 0.6300099397919937, 0.7007687854785117, 0.7297523734362127, 0.8145209584429359, 0.45933183374042896, 0.7767594395987472, 0.5398932294047817, 0.6567240998555052, 0.5545431009381686, 0.6635066385878052], maxlen=20)\n",
      "eval_mean: 0.6492017172284966\n"
     ]
    },
    {
     "name": "stderr",
     "output_type": "stream",
     "text": [
      "\r",
      " 67%|████████████████████████████████████████████████▊                        | 66824/100000 [1:23:47<58:49,  9.40it/s]"
     ]
    },
    {
     "name": "stdout",
     "output_type": "stream",
     "text": [
      "self.get_collection_ratio(): 0.7598445112255062\n",
      "self.comms.count(True) : 3\n",
      "len(self.comms) : 3\n",
      "self.state.ratio_commed: 1.0\n",
      "self.comms.count(True) : 3\n",
      "len(self.comms) : 3\n",
      "self.evaluation_deque: deque([0.7940352317434611, 0.6609440010214807, 0.7311601196199383, 0.7435245834012912, 0.49939253320053933, 0.7035819892584022, 0.7079507053338343, 0.6662521640200044, 0.3996915487528156, 0.6300099397919937, 0.7007687854785117, 0.7297523734362127, 0.8145209584429359, 0.45933183374042896, 0.7767594395987472, 0.5398932294047817, 0.6567240998555052, 0.5545431009381686, 0.6635066385878052, 0.7598445112255062], maxlen=20)\n",
      "eval_mean: 0.6596093893426181\n"
     ]
    },
    {
     "name": "stderr",
     "output_type": "stream",
     "text": [
      "\r",
      " 67%|████████████████████████████████████████████████▊                        | 66900/100000 [1:23:54<56:08,  9.83it/s]"
     ]
    },
    {
     "name": "stdout",
     "output_type": "stream",
     "text": [
      "self.evaluation_deque: deque([0.7940352317434611, 0.6609440010214807, 0.7311601196199383, 0.7435245834012912, 0.49939253320053933, 0.7035819892584022, 0.7079507053338343, 0.6662521640200044, 0.3996915487528156, 0.6300099397919937, 0.7007687854785117, 0.7297523734362127, 0.8145209584429359, 0.45933183374042896, 0.7767594395987472, 0.5398932294047817, 0.6567240998555052, 0.5545431009381686, 0.6635066385878052, 0.7598445112255062], maxlen=20)\n",
      "eval_mean: 0.6596093893426181\n"
     ]
    },
    {
     "name": "stderr",
     "output_type": "stream",
     "text": [
      "\r",
      " 67%|████████████████████████████████████████████████▉                        | 66976/100000 [1:24:02<56:35,  9.73it/s]"
     ]
    },
    {
     "name": "stdout",
     "output_type": "stream",
     "text": [
      "self.evaluation_deque: deque([0.7940352317434611, 0.6609440010214807, 0.7311601196199383, 0.7435245834012912, 0.49939253320053933, 0.7035819892584022, 0.7079507053338343, 0.6662521640200044, 0.3996915487528156, 0.6300099397919937, 0.7007687854785117, 0.7297523734362127, 0.8145209584429359, 0.45933183374042896, 0.7767594395987472, 0.5398932294047817, 0.6567240998555052, 0.5545431009381686, 0.6635066385878052, 0.7598445112255062], maxlen=20)\n",
      "eval_mean: 0.6596093893426181\n"
     ]
    },
    {
     "name": "stderr",
     "output_type": "stream",
     "text": [
      "\r",
      " 67%|████████████████████████████████████████████████▉                        | 67052/100000 [1:24:10<56:51,  9.66it/s]"
     ]
    },
    {
     "name": "stdout",
     "output_type": "stream",
     "text": [
      "self.evaluation_deque: deque([0.7940352317434611, 0.6609440010214807, 0.7311601196199383, 0.7435245834012912, 0.49939253320053933, 0.7035819892584022, 0.7079507053338343, 0.6662521640200044, 0.3996915487528156, 0.6300099397919937, 0.7007687854785117, 0.7297523734362127, 0.8145209584429359, 0.45933183374042896, 0.7767594395987472, 0.5398932294047817, 0.6567240998555052, 0.5545431009381686, 0.6635066385878052, 0.7598445112255062], maxlen=20)\n",
      "eval_mean: 0.6596093893426181\n"
     ]
    },
    {
     "name": "stderr",
     "output_type": "stream",
     "text": [
      "\r",
      " 67%|█████████████████████████████████████████████████                        | 67128/100000 [1:24:18<57:03,  9.60it/s]"
     ]
    },
    {
     "name": "stdout",
     "output_type": "stream",
     "text": [
      "self.evaluation_deque: deque([0.7940352317434611, 0.6609440010214807, 0.7311601196199383, 0.7435245834012912, 0.49939253320053933, 0.7035819892584022, 0.7079507053338343, 0.6662521640200044, 0.3996915487528156, 0.6300099397919937, 0.7007687854785117, 0.7297523734362127, 0.8145209584429359, 0.45933183374042896, 0.7767594395987472, 0.5398932294047817, 0.6567240998555052, 0.5545431009381686, 0.6635066385878052, 0.7598445112255062], maxlen=20)\n",
      "eval_mean: 0.6596093893426181\n"
     ]
    },
    {
     "name": "stderr",
     "output_type": "stream",
     "text": [
      "\r",
      " 67%|███████████████████████████████████████████████▋                       | 67204/100000 [1:24:28<1:01:35,  8.88it/s]"
     ]
    },
    {
     "name": "stdout",
     "output_type": "stream",
     "text": [
      "self.get_collection_ratio(): 0.7806947780617449\n",
      "self.comms.count(True) : 3\n",
      "len(self.comms) : 3\n",
      "self.state.ratio_commed: 1.0\n",
      "self.comms.count(True) : 3\n",
      "len(self.comms) : 3\n",
      "self.evaluation_deque: deque([0.6609440010214807, 0.7311601196199383, 0.7435245834012912, 0.49939253320053933, 0.7035819892584022, 0.7079507053338343, 0.6662521640200044, 0.3996915487528156, 0.6300099397919937, 0.7007687854785117, 0.7297523734362127, 0.8145209584429359, 0.45933183374042896, 0.7767594395987472, 0.5398932294047817, 0.6567240998555052, 0.5545431009381686, 0.6635066385878052, 0.7598445112255062, 0.7806947780617449], maxlen=20)\n",
      "eval_mean: 0.6589423666585323\n"
     ]
    },
    {
     "name": "stderr",
     "output_type": "stream",
     "text": [
      "\r",
      " 67%|█████████████████████████████████████████████████                        | 67280/100000 [1:24:34<55:25,  9.84it/s]"
     ]
    },
    {
     "name": "stdout",
     "output_type": "stream",
     "text": [
      "self.evaluation_deque: deque([0.6609440010214807, 0.7311601196199383, 0.7435245834012912, 0.49939253320053933, 0.7035819892584022, 0.7079507053338343, 0.6662521640200044, 0.3996915487528156, 0.6300099397919937, 0.7007687854785117, 0.7297523734362127, 0.8145209584429359, 0.45933183374042896, 0.7767594395987472, 0.5398932294047817, 0.6567240998555052, 0.5545431009381686, 0.6635066385878052, 0.7598445112255062, 0.7806947780617449], maxlen=20)\n",
      "eval_mean: 0.6589423666585323\n"
     ]
    },
    {
     "name": "stderr",
     "output_type": "stream",
     "text": [
      "\r",
      " 67%|█████████████████████████████████████████████████▏                       | 67356/100000 [1:24:39<51:07, 10.64it/s]"
     ]
    },
    {
     "name": "stdout",
     "output_type": "stream",
     "text": [
      "self.evaluation_deque: deque([0.6609440010214807, 0.7311601196199383, 0.7435245834012912, 0.49939253320053933, 0.7035819892584022, 0.7079507053338343, 0.6662521640200044, 0.3996915487528156, 0.6300099397919937, 0.7007687854785117, 0.7297523734362127, 0.8145209584429359, 0.45933183374042896, 0.7767594395987472, 0.5398932294047817, 0.6567240998555052, 0.5545431009381686, 0.6635066385878052, 0.7598445112255062, 0.7806947780617449], maxlen=20)\n",
      "eval_mean: 0.6589423666585323\n"
     ]
    },
    {
     "name": "stderr",
     "output_type": "stream",
     "text": [
      "\r",
      " 67%|█████████████████████████████████████████████████▏                       | 67432/100000 [1:24:45<48:08, 11.28it/s]"
     ]
    },
    {
     "name": "stdout",
     "output_type": "stream",
     "text": [
      "self.evaluation_deque: deque([0.6609440010214807, 0.7311601196199383, 0.7435245834012912, 0.49939253320053933, 0.7035819892584022, 0.7079507053338343, 0.6662521640200044, 0.3996915487528156, 0.6300099397919937, 0.7007687854785117, 0.7297523734362127, 0.8145209584429359, 0.45933183374042896, 0.7767594395987472, 0.5398932294047817, 0.6567240998555052, 0.5545431009381686, 0.6635066385878052, 0.7598445112255062, 0.7806947780617449], maxlen=20)\n",
      "eval_mean: 0.6589423666585323\n"
     ]
    },
    {
     "name": "stderr",
     "output_type": "stream",
     "text": [
      "\r",
      " 68%|█████████████████████████████████████████████████▎                       | 67508/100000 [1:24:52<47:53, 11.31it/s]"
     ]
    },
    {
     "name": "stdout",
     "output_type": "stream",
     "text": [
      "self.evaluation_deque: deque([0.6609440010214807, 0.7311601196199383, 0.7435245834012912, 0.49939253320053933, 0.7035819892584022, 0.7079507053338343, 0.6662521640200044, 0.3996915487528156, 0.6300099397919937, 0.7007687854785117, 0.7297523734362127, 0.8145209584429359, 0.45933183374042896, 0.7767594395987472, 0.5398932294047817, 0.6567240998555052, 0.5545431009381686, 0.6635066385878052, 0.7598445112255062, 0.7806947780617449], maxlen=20)\n",
      "eval_mean: 0.6589423666585323\n"
     ]
    },
    {
     "name": "stderr",
     "output_type": "stream",
     "text": [
      "\r",
      " 68%|█████████████████████████████████████████████████▎                       | 67584/100000 [1:25:02<54:57,  9.83it/s]"
     ]
    },
    {
     "name": "stdout",
     "output_type": "stream",
     "text": [
      "self.get_collection_ratio(): 0.7299966423355969\n",
      "self.comms.count(True) : 3\n",
      "len(self.comms) : 3\n",
      "self.state.ratio_commed: 1.0\n",
      "self.comms.count(True) : 3\n",
      "len(self.comms) : 3\n",
      "self.evaluation_deque: deque([0.7311601196199383, 0.7435245834012912, 0.49939253320053933, 0.7035819892584022, 0.7079507053338343, 0.6662521640200044, 0.3996915487528156, 0.6300099397919937, 0.7007687854785117, 0.7297523734362127, 0.8145209584429359, 0.45933183374042896, 0.7767594395987472, 0.5398932294047817, 0.6567240998555052, 0.5545431009381686, 0.6635066385878052, 0.7598445112255062, 0.7806947780617449, 0.7299966423355969], maxlen=20)\n",
      "eval_mean: 0.6623949987242381\n"
     ]
    },
    {
     "name": "stderr",
     "output_type": "stream",
     "text": [
      "\r",
      " 68%|█████████████████████████████████████████████████▍                       | 67660/100000 [1:25:08<50:37, 10.65it/s]"
     ]
    },
    {
     "name": "stdout",
     "output_type": "stream",
     "text": [
      "self.evaluation_deque: deque([0.7311601196199383, 0.7435245834012912, 0.49939253320053933, 0.7035819892584022, 0.7079507053338343, 0.6662521640200044, 0.3996915487528156, 0.6300099397919937, 0.7007687854785117, 0.7297523734362127, 0.8145209584429359, 0.45933183374042896, 0.7767594395987472, 0.5398932294047817, 0.6567240998555052, 0.5545431009381686, 0.6635066385878052, 0.7598445112255062, 0.7806947780617449, 0.7299966423355969], maxlen=20)\n",
      "eval_mean: 0.6623949987242381\n"
     ]
    },
    {
     "name": "stderr",
     "output_type": "stream",
     "text": [
      "\r",
      " 68%|█████████████████████████████████████████████████▍                       | 67736/100000 [1:25:15<49:59, 10.76it/s]"
     ]
    },
    {
     "name": "stdout",
     "output_type": "stream",
     "text": [
      "self.evaluation_deque: deque([0.7311601196199383, 0.7435245834012912, 0.49939253320053933, 0.7035819892584022, 0.7079507053338343, 0.6662521640200044, 0.3996915487528156, 0.6300099397919937, 0.7007687854785117, 0.7297523734362127, 0.8145209584429359, 0.45933183374042896, 0.7767594395987472, 0.5398932294047817, 0.6567240998555052, 0.5545431009381686, 0.6635066385878052, 0.7598445112255062, 0.7806947780617449, 0.7299966423355969], maxlen=20)\n",
      "eval_mean: 0.6623949987242381\n"
     ]
    },
    {
     "name": "stderr",
     "output_type": "stream",
     "text": [
      "\r",
      " 68%|█████████████████████████████████████████████████▌                       | 67812/100000 [1:25:23<52:04, 10.30it/s]"
     ]
    },
    {
     "name": "stdout",
     "output_type": "stream",
     "text": [
      "self.evaluation_deque: deque([0.7311601196199383, 0.7435245834012912, 0.49939253320053933, 0.7035819892584022, 0.7079507053338343, 0.6662521640200044, 0.3996915487528156, 0.6300099397919937, 0.7007687854785117, 0.7297523734362127, 0.8145209584429359, 0.45933183374042896, 0.7767594395987472, 0.5398932294047817, 0.6567240998555052, 0.5545431009381686, 0.6635066385878052, 0.7598445112255062, 0.7806947780617449, 0.7299966423355969], maxlen=20)\n",
      "eval_mean: 0.6623949987242381\n"
     ]
    },
    {
     "name": "stderr",
     "output_type": "stream",
     "text": [
      "\r",
      " 68%|█████████████████████████████████████████████████▌                       | 67888/100000 [1:25:30<51:00, 10.49it/s]"
     ]
    },
    {
     "name": "stdout",
     "output_type": "stream",
     "text": [
      "self.evaluation_deque: deque([0.7311601196199383, 0.7435245834012912, 0.49939253320053933, 0.7035819892584022, 0.7079507053338343, 0.6662521640200044, 0.3996915487528156, 0.6300099397919937, 0.7007687854785117, 0.7297523734362127, 0.8145209584429359, 0.45933183374042896, 0.7767594395987472, 0.5398932294047817, 0.6567240998555052, 0.5545431009381686, 0.6635066385878052, 0.7598445112255062, 0.7806947780617449, 0.7299966423355969], maxlen=20)\n",
      "eval_mean: 0.6623949987242381\n"
     ]
    },
    {
     "name": "stderr",
     "output_type": "stream",
     "text": [
      "\r",
      " 68%|█████████████████████████████████████████████████▌                       | 67964/100000 [1:25:40<56:48,  9.40it/s]"
     ]
    },
    {
     "name": "stdout",
     "output_type": "stream",
     "text": [
      "self.get_collection_ratio(): 0.742700383645417\n",
      "self.comms.count(True) : 3\n",
      "len(self.comms) : 3\n",
      "self.state.ratio_commed: 1.0\n",
      "self.comms.count(True) : 3\n",
      "len(self.comms) : 3\n",
      "self.evaluation_deque: deque([0.7435245834012912, 0.49939253320053933, 0.7035819892584022, 0.7079507053338343, 0.6662521640200044, 0.3996915487528156, 0.6300099397919937, 0.7007687854785117, 0.7297523734362127, 0.8145209584429359, 0.45933183374042896, 0.7767594395987472, 0.5398932294047817, 0.6567240998555052, 0.5545431009381686, 0.6635066385878052, 0.7598445112255062, 0.7806947780617449, 0.7299966423355969, 0.742700383645417], maxlen=20)\n",
      "eval_mean: 0.6629720119255121\n"
     ]
    },
    {
     "name": "stderr",
     "output_type": "stream",
     "text": [
      "\r",
      " 68%|█████████████████████████████████████████████████▋                       | 68040/100000 [1:25:48<56:40,  9.40it/s]"
     ]
    },
    {
     "name": "stdout",
     "output_type": "stream",
     "text": [
      "self.evaluation_deque: deque([0.7435245834012912, 0.49939253320053933, 0.7035819892584022, 0.7079507053338343, 0.6662521640200044, 0.3996915487528156, 0.6300099397919937, 0.7007687854785117, 0.7297523734362127, 0.8145209584429359, 0.45933183374042896, 0.7767594395987472, 0.5398932294047817, 0.6567240998555052, 0.5545431009381686, 0.6635066385878052, 0.7598445112255062, 0.7806947780617449, 0.7299966423355969, 0.742700383645417], maxlen=20)\n",
      "eval_mean: 0.6629720119255121\n"
     ]
    },
    {
     "name": "stderr",
     "output_type": "stream",
     "text": [
      "\r",
      " 68%|█████████████████████████████████████████████████▋                       | 68116/100000 [1:25:54<51:53, 10.24it/s]"
     ]
    },
    {
     "name": "stdout",
     "output_type": "stream",
     "text": [
      "self.evaluation_deque: deque([0.7435245834012912, 0.49939253320053933, 0.7035819892584022, 0.7079507053338343, 0.6662521640200044, 0.3996915487528156, 0.6300099397919937, 0.7007687854785117, 0.7297523734362127, 0.8145209584429359, 0.45933183374042896, 0.7767594395987472, 0.5398932294047817, 0.6567240998555052, 0.5545431009381686, 0.6635066385878052, 0.7598445112255062, 0.7806947780617449, 0.7299966423355969, 0.742700383645417], maxlen=20)\n",
      "eval_mean: 0.6629720119255121\n"
     ]
    },
    {
     "name": "stderr",
     "output_type": "stream",
     "text": [
      "\r",
      " 68%|█████████████████████████████████████████████████▊                       | 68192/100000 [1:25:59<48:17, 10.98it/s]"
     ]
    },
    {
     "name": "stdout",
     "output_type": "stream",
     "text": [
      "self.evaluation_deque: deque([0.7435245834012912, 0.49939253320053933, 0.7035819892584022, 0.7079507053338343, 0.6662521640200044, 0.3996915487528156, 0.6300099397919937, 0.7007687854785117, 0.7297523734362127, 0.8145209584429359, 0.45933183374042896, 0.7767594395987472, 0.5398932294047817, 0.6567240998555052, 0.5545431009381686, 0.6635066385878052, 0.7598445112255062, 0.7806947780617449, 0.7299966423355969, 0.742700383645417], maxlen=20)\n",
      "eval_mean: 0.6629720119255121\n"
     ]
    },
    {
     "name": "stderr",
     "output_type": "stream",
     "text": [
      "\r",
      " 68%|█████████████████████████████████████████████████▊                       | 68268/100000 [1:26:07<50:23, 10.50it/s]"
     ]
    },
    {
     "name": "stdout",
     "output_type": "stream",
     "text": [
      "self.evaluation_deque: deque([0.7435245834012912, 0.49939253320053933, 0.7035819892584022, 0.7079507053338343, 0.6662521640200044, 0.3996915487528156, 0.6300099397919937, 0.7007687854785117, 0.7297523734362127, 0.8145209584429359, 0.45933183374042896, 0.7767594395987472, 0.5398932294047817, 0.6567240998555052, 0.5545431009381686, 0.6635066385878052, 0.7598445112255062, 0.7806947780617449, 0.7299966423355969, 0.742700383645417], maxlen=20)\n",
      "eval_mean: 0.6629720119255121\n"
     ]
    },
    {
     "name": "stderr",
     "output_type": "stream",
     "text": [
      "\r",
      " 68%|████████████████████████████████████████████████▌                      | 68344/100000 [1:26:24<1:10:40,  7.47it/s]"
     ]
    },
    {
     "name": "stdout",
     "output_type": "stream",
     "text": [
      "self.get_collection_ratio(): 0.7225423355407726\n",
      "self.comms.count(True) : 3\n",
      "len(self.comms) : 3\n",
      "self.state.ratio_commed: 1.0\n",
      "self.comms.count(True) : 3\n",
      "len(self.comms) : 3\n",
      "self.evaluation_deque: deque([0.49939253320053933, 0.7035819892584022, 0.7079507053338343, 0.6662521640200044, 0.3996915487528156, 0.6300099397919937, 0.7007687854785117, 0.7297523734362127, 0.8145209584429359, 0.45933183374042896, 0.7767594395987472, 0.5398932294047817, 0.6567240998555052, 0.5545431009381686, 0.6635066385878052, 0.7598445112255062, 0.7806947780617449, 0.7299966423355969, 0.742700383645417, 0.7225423355407726], maxlen=20)\n",
      "eval_mean: 0.6619228995324862\n"
     ]
    },
    {
     "name": "stderr",
     "output_type": "stream",
     "text": [
      "\r",
      " 68%|████████████████████████████████████████████████▌                      | 68420/100000 [1:26:31<1:03:42,  8.26it/s]"
     ]
    },
    {
     "name": "stdout",
     "output_type": "stream",
     "text": [
      "self.evaluation_deque: deque([0.49939253320053933, 0.7035819892584022, 0.7079507053338343, 0.6662521640200044, 0.3996915487528156, 0.6300099397919937, 0.7007687854785117, 0.7297523734362127, 0.8145209584429359, 0.45933183374042896, 0.7767594395987472, 0.5398932294047817, 0.6567240998555052, 0.5545431009381686, 0.6635066385878052, 0.7598445112255062, 0.7806947780617449, 0.7299966423355969, 0.742700383645417, 0.7225423355407726], maxlen=20)\n",
      "eval_mean: 0.6619228995324862\n"
     ]
    },
    {
     "name": "stderr",
     "output_type": "stream",
     "text": [
      "\r",
      " 68%|████████████████████████████████████████████████▋                      | 68496/100000 [1:26:39<1:01:07,  8.59it/s]"
     ]
    },
    {
     "name": "stdout",
     "output_type": "stream",
     "text": [
      "self.evaluation_deque: deque([0.49939253320053933, 0.7035819892584022, 0.7079507053338343, 0.6662521640200044, 0.3996915487528156, 0.6300099397919937, 0.7007687854785117, 0.7297523734362127, 0.8145209584429359, 0.45933183374042896, 0.7767594395987472, 0.5398932294047817, 0.6567240998555052, 0.5545431009381686, 0.6635066385878052, 0.7598445112255062, 0.7806947780617449, 0.7299966423355969, 0.742700383645417, 0.7225423355407726], maxlen=20)\n",
      "eval_mean: 0.6619228995324862\n"
     ]
    },
    {
     "name": "stderr",
     "output_type": "stream",
     "text": [
      "\r",
      " 69%|██████████████████████████████████████████████████                       | 68572/100000 [1:26:46<57:04,  9.18it/s]"
     ]
    },
    {
     "name": "stdout",
     "output_type": "stream",
     "text": [
      "self.evaluation_deque: deque([0.49939253320053933, 0.7035819892584022, 0.7079507053338343, 0.6662521640200044, 0.3996915487528156, 0.6300099397919937, 0.7007687854785117, 0.7297523734362127, 0.8145209584429359, 0.45933183374042896, 0.7767594395987472, 0.5398932294047817, 0.6567240998555052, 0.5545431009381686, 0.6635066385878052, 0.7598445112255062, 0.7806947780617449, 0.7299966423355969, 0.742700383645417, 0.7225423355407726], maxlen=20)\n",
      "eval_mean: 0.6619228995324862\n"
     ]
    },
    {
     "name": "stderr",
     "output_type": "stream",
     "text": [
      "\r",
      " 69%|██████████████████████████████████████████████████                       | 68648/100000 [1:26:52<51:41, 10.11it/s]"
     ]
    },
    {
     "name": "stdout",
     "output_type": "stream",
     "text": [
      "self.evaluation_deque: deque([0.49939253320053933, 0.7035819892584022, 0.7079507053338343, 0.6662521640200044, 0.3996915487528156, 0.6300099397919937, 0.7007687854785117, 0.7297523734362127, 0.8145209584429359, 0.45933183374042896, 0.7767594395987472, 0.5398932294047817, 0.6567240998555052, 0.5545431009381686, 0.6635066385878052, 0.7598445112255062, 0.7806947780617449, 0.7299966423355969, 0.742700383645417, 0.7225423355407726], maxlen=20)\n",
      "eval_mean: 0.6619228995324862\n"
     ]
    },
    {
     "name": "stderr",
     "output_type": "stream",
     "text": [
      "\r",
      " 69%|██████████████████████████████████████████████████▏                      | 68724/100000 [1:27:02<56:35,  9.21it/s]"
     ]
    },
    {
     "name": "stdout",
     "output_type": "stream",
     "text": [
      "self.get_collection_ratio(): 0.7077030761258212\n",
      "self.comms.count(True) : 3\n",
      "len(self.comms) : 3\n",
      "self.state.ratio_commed: 1.0\n",
      "self.comms.count(True) : 3\n",
      "len(self.comms) : 3\n",
      "self.evaluation_deque: deque([0.7035819892584022, 0.7079507053338343, 0.6662521640200044, 0.3996915487528156, 0.6300099397919937, 0.7007687854785117, 0.7297523734362127, 0.8145209584429359, 0.45933183374042896, 0.7767594395987472, 0.5398932294047817, 0.6567240998555052, 0.5545431009381686, 0.6635066385878052, 0.7598445112255062, 0.7806947780617449, 0.7299966423355969, 0.742700383645417, 0.7225423355407726, 0.7077030761258212], maxlen=20)\n",
      "eval_mean: 0.6723384266787502\n"
     ]
    },
    {
     "name": "stderr",
     "output_type": "stream",
     "text": [
      "\r",
      " 69%|██████████████████████████████████████████████████▏                      | 68800/100000 [1:27:08<51:21, 10.12it/s]"
     ]
    },
    {
     "name": "stdout",
     "output_type": "stream",
     "text": [
      "self.evaluation_deque: deque([0.7035819892584022, 0.7079507053338343, 0.6662521640200044, 0.3996915487528156, 0.6300099397919937, 0.7007687854785117, 0.7297523734362127, 0.8145209584429359, 0.45933183374042896, 0.7767594395987472, 0.5398932294047817, 0.6567240998555052, 0.5545431009381686, 0.6635066385878052, 0.7598445112255062, 0.7806947780617449, 0.7299966423355969, 0.742700383645417, 0.7225423355407726, 0.7077030761258212], maxlen=20)\n",
      "eval_mean: 0.6723384266787502\n"
     ]
    },
    {
     "name": "stderr",
     "output_type": "stream",
     "text": [
      "\r",
      " 69%|██████████████████████████████████████████████████▎                      | 68876/100000 [1:27:14<49:22, 10.50it/s]"
     ]
    },
    {
     "name": "stdout",
     "output_type": "stream",
     "text": [
      "self.evaluation_deque: deque([0.7035819892584022, 0.7079507053338343, 0.6662521640200044, 0.3996915487528156, 0.6300099397919937, 0.7007687854785117, 0.7297523734362127, 0.8145209584429359, 0.45933183374042896, 0.7767594395987472, 0.5398932294047817, 0.6567240998555052, 0.5545431009381686, 0.6635066385878052, 0.7598445112255062, 0.7806947780617449, 0.7299966423355969, 0.742700383645417, 0.7225423355407726, 0.7077030761258212], maxlen=20)\n",
      "eval_mean: 0.6723384266787502\n"
     ]
    },
    {
     "name": "stderr",
     "output_type": "stream",
     "text": [
      "\r",
      " 69%|██████████████████████████████████████████████████▎                      | 68952/100000 [1:27:20<46:12, 11.20it/s]"
     ]
    },
    {
     "name": "stdout",
     "output_type": "stream",
     "text": [
      "self.evaluation_deque: deque([0.7035819892584022, 0.7079507053338343, 0.6662521640200044, 0.3996915487528156, 0.6300099397919937, 0.7007687854785117, 0.7297523734362127, 0.8145209584429359, 0.45933183374042896, 0.7767594395987472, 0.5398932294047817, 0.6567240998555052, 0.5545431009381686, 0.6635066385878052, 0.7598445112255062, 0.7806947780617449, 0.7299966423355969, 0.742700383645417, 0.7225423355407726, 0.7077030761258212], maxlen=20)\n",
      "eval_mean: 0.6723384266787502\n"
     ]
    },
    {
     "name": "stderr",
     "output_type": "stream",
     "text": [
      "\r",
      " 69%|██████████████████████████████████████████████████▍                      | 69028/100000 [1:27:26<44:06, 11.71it/s]"
     ]
    },
    {
     "name": "stdout",
     "output_type": "stream",
     "text": [
      "self.evaluation_deque: deque([0.7035819892584022, 0.7079507053338343, 0.6662521640200044, 0.3996915487528156, 0.6300099397919937, 0.7007687854785117, 0.7297523734362127, 0.8145209584429359, 0.45933183374042896, 0.7767594395987472, 0.5398932294047817, 0.6567240998555052, 0.5545431009381686, 0.6635066385878052, 0.7598445112255062, 0.7806947780617449, 0.7299966423355969, 0.742700383645417, 0.7225423355407726, 0.7077030761258212], maxlen=20)\n",
      "eval_mean: 0.6723384266787502\n"
     ]
    },
    {
     "name": "stderr",
     "output_type": "stream",
     "text": [
      "\r",
      " 69%|██████████████████████████████████████████████████▍                      | 69104/100000 [1:27:36<51:13, 10.05it/s]"
     ]
    },
    {
     "name": "stdout",
     "output_type": "stream",
     "text": [
      "self.get_collection_ratio(): 0.8319267588814905\n",
      "self.comms.count(True) : 3\n",
      "len(self.comms) : 3\n",
      "self.state.ratio_commed: 1.0\n",
      "self.comms.count(True) : 3\n",
      "len(self.comms) : 3\n",
      "self.evaluation_deque: deque([0.7079507053338343, 0.6662521640200044, 0.3996915487528156, 0.6300099397919937, 0.7007687854785117, 0.7297523734362127, 0.8145209584429359, 0.45933183374042896, 0.7767594395987472, 0.5398932294047817, 0.6567240998555052, 0.5545431009381686, 0.6635066385878052, 0.7598445112255062, 0.7806947780617449, 0.7299966423355969, 0.742700383645417, 0.7225423355407726, 0.7077030761258212, 0.8319267588814905], maxlen=20)\n",
      "eval_mean: 0.6787556651599047\n"
     ]
    },
    {
     "name": "stderr",
     "output_type": "stream",
     "text": [
      "\r",
      " 69%|██████████████████████████████████████████████████▌                      | 69180/100000 [1:27:44<52:11,  9.84it/s]"
     ]
    },
    {
     "name": "stdout",
     "output_type": "stream",
     "text": [
      "self.evaluation_deque: deque([0.7079507053338343, 0.6662521640200044, 0.3996915487528156, 0.6300099397919937, 0.7007687854785117, 0.7297523734362127, 0.8145209584429359, 0.45933183374042896, 0.7767594395987472, 0.5398932294047817, 0.6567240998555052, 0.5545431009381686, 0.6635066385878052, 0.7598445112255062, 0.7806947780617449, 0.7299966423355969, 0.742700383645417, 0.7225423355407726, 0.7077030761258212, 0.8319267588814905], maxlen=20)\n",
      "eval_mean: 0.6787556651599047\n"
     ]
    },
    {
     "name": "stderr",
     "output_type": "stream",
     "text": [
      "\r",
      " 69%|██████████████████████████████████████████████████▌                      | 69256/100000 [1:27:52<52:45,  9.71it/s]"
     ]
    },
    {
     "name": "stdout",
     "output_type": "stream",
     "text": [
      "self.evaluation_deque: deque([0.7079507053338343, 0.6662521640200044, 0.3996915487528156, 0.6300099397919937, 0.7007687854785117, 0.7297523734362127, 0.8145209584429359, 0.45933183374042896, 0.7767594395987472, 0.5398932294047817, 0.6567240998555052, 0.5545431009381686, 0.6635066385878052, 0.7598445112255062, 0.7806947780617449, 0.7299966423355969, 0.742700383645417, 0.7225423355407726, 0.7077030761258212, 0.8319267588814905], maxlen=20)\n",
      "eval_mean: 0.6787556651599047\n"
     ]
    },
    {
     "name": "stderr",
     "output_type": "stream",
     "text": [
      "\r",
      " 69%|██████████████████████████████████████████████████▌                      | 69332/100000 [1:27:59<50:56, 10.03it/s]"
     ]
    },
    {
     "name": "stdout",
     "output_type": "stream",
     "text": [
      "self.evaluation_deque: deque([0.7079507053338343, 0.6662521640200044, 0.3996915487528156, 0.6300099397919937, 0.7007687854785117, 0.7297523734362127, 0.8145209584429359, 0.45933183374042896, 0.7767594395987472, 0.5398932294047817, 0.6567240998555052, 0.5545431009381686, 0.6635066385878052, 0.7598445112255062, 0.7806947780617449, 0.7299966423355969, 0.742700383645417, 0.7225423355407726, 0.7077030761258212, 0.8319267588814905], maxlen=20)\n",
      "eval_mean: 0.6787556651599047\n"
     ]
    },
    {
     "name": "stderr",
     "output_type": "stream",
     "text": [
      "\r",
      " 69%|██████████████████████████████████████████████████▋                      | 69408/100000 [1:28:05<47:10, 10.81it/s]"
     ]
    },
    {
     "name": "stdout",
     "output_type": "stream",
     "text": [
      "self.evaluation_deque: deque([0.7079507053338343, 0.6662521640200044, 0.3996915487528156, 0.6300099397919937, 0.7007687854785117, 0.7297523734362127, 0.8145209584429359, 0.45933183374042896, 0.7767594395987472, 0.5398932294047817, 0.6567240998555052, 0.5545431009381686, 0.6635066385878052, 0.7598445112255062, 0.7806947780617449, 0.7299966423355969, 0.742700383645417, 0.7225423355407726, 0.7077030761258212, 0.8319267588814905], maxlen=20)\n",
      "eval_mean: 0.6787556651599047\n"
     ]
    },
    {
     "name": "stderr",
     "output_type": "stream",
     "text": [
      "\r",
      " 69%|██████████████████████████████████████████████████▋                      | 69484/100000 [1:28:12<47:37, 10.68it/s]"
     ]
    },
    {
     "name": "stdout",
     "output_type": "stream",
     "text": [
      "self.get_collection_ratio(): 0.5702771031584047\n",
      "self.comms.count(True) : 1\n",
      "len(self.comms) : 1\n",
      "self.state.ratio_commed: 1.0\n",
      "self.comms.count(True) : 1\n",
      "len(self.comms) : 1\n",
      "self.evaluation_deque: deque([0.6662521640200044, 0.3996915487528156, 0.6300099397919937, 0.7007687854785117, 0.7297523734362127, 0.8145209584429359, 0.45933183374042896, 0.7767594395987472, 0.5398932294047817, 0.6567240998555052, 0.5545431009381686, 0.6635066385878052, 0.7598445112255062, 0.7806947780617449, 0.7299966423355969, 0.742700383645417, 0.7225423355407726, 0.7077030761258212, 0.8319267588814905, 0.5702771031584047], maxlen=20)\n",
      "eval_mean: 0.6718719850511332\n"
     ]
    },
    {
     "name": "stderr",
     "output_type": "stream",
     "text": [
      "\r",
      " 70%|██████████████████████████████████████████████████▊                      | 69560/100000 [1:28:18<44:42, 11.35it/s]"
     ]
    },
    {
     "name": "stdout",
     "output_type": "stream",
     "text": [
      "self.evaluation_deque: deque([0.6662521640200044, 0.3996915487528156, 0.6300099397919937, 0.7007687854785117, 0.7297523734362127, 0.8145209584429359, 0.45933183374042896, 0.7767594395987472, 0.5398932294047817, 0.6567240998555052, 0.5545431009381686, 0.6635066385878052, 0.7598445112255062, 0.7806947780617449, 0.7299966423355969, 0.742700383645417, 0.7225423355407726, 0.7077030761258212, 0.8319267588814905, 0.5702771031584047], maxlen=20)\n",
      "eval_mean: 0.6718719850511332\n"
     ]
    },
    {
     "name": "stderr",
     "output_type": "stream",
     "text": [
      "\r",
      " 70%|██████████████████████████████████████████████████▊                      | 69636/100000 [1:28:24<42:36, 11.87it/s]"
     ]
    },
    {
     "name": "stdout",
     "output_type": "stream",
     "text": [
      "self.evaluation_deque: deque([0.6662521640200044, 0.3996915487528156, 0.6300099397919937, 0.7007687854785117, 0.7297523734362127, 0.8145209584429359, 0.45933183374042896, 0.7767594395987472, 0.5398932294047817, 0.6567240998555052, 0.5545431009381686, 0.6635066385878052, 0.7598445112255062, 0.7806947780617449, 0.7299966423355969, 0.742700383645417, 0.7225423355407726, 0.7077030761258212, 0.8319267588814905, 0.5702771031584047], maxlen=20)\n",
      "eval_mean: 0.6718719850511332\n"
     ]
    },
    {
     "name": "stderr",
     "output_type": "stream",
     "text": [
      "\r",
      " 70%|██████████████████████████████████████████████████▉                      | 69712/100000 [1:28:32<45:50, 11.01it/s]"
     ]
    },
    {
     "name": "stdout",
     "output_type": "stream",
     "text": [
      "self.evaluation_deque: deque([0.6662521640200044, 0.3996915487528156, 0.6300099397919937, 0.7007687854785117, 0.7297523734362127, 0.8145209584429359, 0.45933183374042896, 0.7767594395987472, 0.5398932294047817, 0.6567240998555052, 0.5545431009381686, 0.6635066385878052, 0.7598445112255062, 0.7806947780617449, 0.7299966423355969, 0.742700383645417, 0.7225423355407726, 0.7077030761258212, 0.8319267588814905, 0.5702771031584047], maxlen=20)\n",
      "eval_mean: 0.6718719850511332\n"
     ]
    },
    {
     "name": "stderr",
     "output_type": "stream",
     "text": [
      "\r",
      " 70%|██████████████████████████████████████████████████▉                      | 69788/100000 [1:28:37<43:21, 11.61it/s]"
     ]
    },
    {
     "name": "stdout",
     "output_type": "stream",
     "text": [
      "self.evaluation_deque: deque([0.6662521640200044, 0.3996915487528156, 0.6300099397919937, 0.7007687854785117, 0.7297523734362127, 0.8145209584429359, 0.45933183374042896, 0.7767594395987472, 0.5398932294047817, 0.6567240998555052, 0.5545431009381686, 0.6635066385878052, 0.7598445112255062, 0.7806947780617449, 0.7299966423355969, 0.742700383645417, 0.7225423355407726, 0.7077030761258212, 0.8319267588814905, 0.5702771031584047], maxlen=20)\n",
      "eval_mean: 0.6718719850511332\n"
     ]
    },
    {
     "name": "stderr",
     "output_type": "stream",
     "text": [
      "\r",
      " 70%|███████████████████████████████████████████████████                      | 69864/100000 [1:28:48<50:43,  9.90it/s]"
     ]
    },
    {
     "name": "stdout",
     "output_type": "stream",
     "text": [
      "self.get_collection_ratio(): 0.6367548038295494\n",
      "self.comms.count(True) : 2\n",
      "len(self.comms) : 2\n",
      "self.state.ratio_commed: 1.0\n",
      "self.comms.count(True) : 2\n",
      "len(self.comms) : 2\n",
      "self.evaluation_deque: deque([0.3996915487528156, 0.6300099397919937, 0.7007687854785117, 0.7297523734362127, 0.8145209584429359, 0.45933183374042896, 0.7767594395987472, 0.5398932294047817, 0.6567240998555052, 0.5545431009381686, 0.6635066385878052, 0.7598445112255062, 0.7806947780617449, 0.7299966423355969, 0.742700383645417, 0.7225423355407726, 0.7077030761258212, 0.8319267588814905, 0.5702771031584047, 0.6367548038295494], maxlen=20)\n",
      "eval_mean: 0.6703971170416105\n"
     ]
    },
    {
     "name": "stderr",
     "output_type": "stream",
     "text": [
      "\r",
      " 70%|███████████████████████████████████████████████████                      | 69940/100000 [1:28:56<51:24,  9.75it/s]"
     ]
    },
    {
     "name": "stdout",
     "output_type": "stream",
     "text": [
      "self.evaluation_deque: deque([0.3996915487528156, 0.6300099397919937, 0.7007687854785117, 0.7297523734362127, 0.8145209584429359, 0.45933183374042896, 0.7767594395987472, 0.5398932294047817, 0.6567240998555052, 0.5545431009381686, 0.6635066385878052, 0.7598445112255062, 0.7806947780617449, 0.7299966423355969, 0.742700383645417, 0.7225423355407726, 0.7077030761258212, 0.8319267588814905, 0.5702771031584047, 0.6367548038295494], maxlen=20)\n",
      "eval_mean: 0.6703971170416105\n"
     ]
    },
    {
     "name": "stderr",
     "output_type": "stream",
     "text": [
      "\r",
      " 70%|███████████████████████████████████████████████████                      | 70016/100000 [1:29:02<47:07, 10.60it/s]"
     ]
    },
    {
     "name": "stdout",
     "output_type": "stream",
     "text": [
      "self.evaluation_deque: deque([0.3996915487528156, 0.6300099397919937, 0.7007687854785117, 0.7297523734362127, 0.8145209584429359, 0.45933183374042896, 0.7767594395987472, 0.5398932294047817, 0.6567240998555052, 0.5545431009381686, 0.6635066385878052, 0.7598445112255062, 0.7806947780617449, 0.7299966423355969, 0.742700383645417, 0.7225423355407726, 0.7077030761258212, 0.8319267588814905, 0.5702771031584047, 0.6367548038295494], maxlen=20)\n",
      "eval_mean: 0.6703971170416105\n"
     ]
    },
    {
     "name": "stderr",
     "output_type": "stream",
     "text": [
      "\r",
      " 70%|███████████████████████████████████████████████████▏                     | 70092/100000 [1:29:07<44:10, 11.28it/s]"
     ]
    },
    {
     "name": "stdout",
     "output_type": "stream",
     "text": [
      "self.evaluation_deque: deque([0.3996915487528156, 0.6300099397919937, 0.7007687854785117, 0.7297523734362127, 0.8145209584429359, 0.45933183374042896, 0.7767594395987472, 0.5398932294047817, 0.6567240998555052, 0.5545431009381686, 0.6635066385878052, 0.7598445112255062, 0.7806947780617449, 0.7299966423355969, 0.742700383645417, 0.7225423355407726, 0.7077030761258212, 0.8319267588814905, 0.5702771031584047, 0.6367548038295494], maxlen=20)\n",
      "eval_mean: 0.6703971170416105\n"
     ]
    },
    {
     "name": "stderr",
     "output_type": "stream",
     "text": [
      "\r",
      " 70%|███████████████████████████████████████████████████▏                     | 70168/100000 [1:29:15<46:31, 10.69it/s]"
     ]
    },
    {
     "name": "stdout",
     "output_type": "stream",
     "text": [
      "self.evaluation_deque: deque([0.3996915487528156, 0.6300099397919937, 0.7007687854785117, 0.7297523734362127, 0.8145209584429359, 0.45933183374042896, 0.7767594395987472, 0.5398932294047817, 0.6567240998555052, 0.5545431009381686, 0.6635066385878052, 0.7598445112255062, 0.7806947780617449, 0.7299966423355969, 0.742700383645417, 0.7225423355407726, 0.7077030761258212, 0.8319267588814905, 0.5702771031584047, 0.6367548038295494], maxlen=20)\n",
      "eval_mean: 0.6703971170416105\n"
     ]
    },
    {
     "name": "stderr",
     "output_type": "stream",
     "text": [
      "\r",
      " 70%|███████████████████████████████████████████████████▎                     | 70244/100000 [1:29:24<49:50,  9.95it/s]"
     ]
    },
    {
     "name": "stdout",
     "output_type": "stream",
     "text": [
      "self.get_collection_ratio(): 0.8253510437421807\n",
      "self.comms.count(True) : 3\n",
      "len(self.comms) : 3\n",
      "self.state.ratio_commed: 1.0\n",
      "self.comms.count(True) : 3\n",
      "len(self.comms) : 3\n",
      "self.evaluation_deque: deque([0.6300099397919937, 0.7007687854785117, 0.7297523734362127, 0.8145209584429359, 0.45933183374042896, 0.7767594395987472, 0.5398932294047817, 0.6567240998555052, 0.5545431009381686, 0.6635066385878052, 0.7598445112255062, 0.7806947780617449, 0.7299966423355969, 0.742700383645417, 0.7225423355407726, 0.7077030761258212, 0.8319267588814905, 0.5702771031584047, 0.6367548038295494, 0.8253510437421807], maxlen=20)\n",
      "eval_mean: 0.6916800917910788\n"
     ]
    },
    {
     "name": "stderr",
     "output_type": "stream",
     "text": [
      "\r",
      " 70%|███████████████████████████████████████████████████▎                     | 70320/100000 [1:29:32<50:05,  9.88it/s]"
     ]
    },
    {
     "name": "stdout",
     "output_type": "stream",
     "text": [
      "self.evaluation_deque: deque([0.6300099397919937, 0.7007687854785117, 0.7297523734362127, 0.8145209584429359, 0.45933183374042896, 0.7767594395987472, 0.5398932294047817, 0.6567240998555052, 0.5545431009381686, 0.6635066385878052, 0.7598445112255062, 0.7806947780617449, 0.7299966423355969, 0.742700383645417, 0.7225423355407726, 0.7077030761258212, 0.8319267588814905, 0.5702771031584047, 0.6367548038295494, 0.8253510437421807], maxlen=20)\n",
      "eval_mean: 0.6916800917910788\n"
     ]
    },
    {
     "name": "stderr",
     "output_type": "stream",
     "text": [
      "\r",
      " 70%|███████████████████████████████████████████████████▍                     | 70396/100000 [1:29:38<46:09, 10.69it/s]"
     ]
    },
    {
     "name": "stdout",
     "output_type": "stream",
     "text": [
      "self.evaluation_deque: deque([0.6300099397919937, 0.7007687854785117, 0.7297523734362127, 0.8145209584429359, 0.45933183374042896, 0.7767594395987472, 0.5398932294047817, 0.6567240998555052, 0.5545431009381686, 0.6635066385878052, 0.7598445112255062, 0.7806947780617449, 0.7299966423355969, 0.742700383645417, 0.7225423355407726, 0.7077030761258212, 0.8319267588814905, 0.5702771031584047, 0.6367548038295494, 0.8253510437421807], maxlen=20)\n",
      "eval_mean: 0.6916800917910788\n"
     ]
    },
    {
     "name": "stderr",
     "output_type": "stream",
     "text": [
      "\r",
      " 70%|███████████████████████████████████████████████████▍                     | 70472/100000 [1:29:45<45:42, 10.77it/s]"
     ]
    },
    {
     "name": "stdout",
     "output_type": "stream",
     "text": [
      "self.evaluation_deque: deque([0.6300099397919937, 0.7007687854785117, 0.7297523734362127, 0.8145209584429359, 0.45933183374042896, 0.7767594395987472, 0.5398932294047817, 0.6567240998555052, 0.5545431009381686, 0.6635066385878052, 0.7598445112255062, 0.7806947780617449, 0.7299966423355969, 0.742700383645417, 0.7225423355407726, 0.7077030761258212, 0.8319267588814905, 0.5702771031584047, 0.6367548038295494, 0.8253510437421807], maxlen=20)\n",
      "eval_mean: 0.6916800917910788\n"
     ]
    },
    {
     "name": "stderr",
     "output_type": "stream",
     "text": [
      "\r",
      " 71%|███████████████████████████████████████████████████▌                     | 70548/100000 [1:29:53<47:38, 10.30it/s]"
     ]
    },
    {
     "name": "stdout",
     "output_type": "stream",
     "text": [
      "self.evaluation_deque: deque([0.6300099397919937, 0.7007687854785117, 0.7297523734362127, 0.8145209584429359, 0.45933183374042896, 0.7767594395987472, 0.5398932294047817, 0.6567240998555052, 0.5545431009381686, 0.6635066385878052, 0.7598445112255062, 0.7806947780617449, 0.7299966423355969, 0.742700383645417, 0.7225423355407726, 0.7077030761258212, 0.8319267588814905, 0.5702771031584047, 0.6367548038295494, 0.8253510437421807], maxlen=20)\n",
      "eval_mean: 0.6916800917910788\n"
     ]
    },
    {
     "name": "stderr",
     "output_type": "stream",
     "text": [
      "\r",
      " 71%|███████████████████████████████████████████████████▌                     | 70624/100000 [1:30:02<50:29,  9.70it/s]"
     ]
    },
    {
     "name": "stdout",
     "output_type": "stream",
     "text": [
      "self.get_collection_ratio(): 0.7935302146997079\n",
      "self.comms.count(True) : 3\n",
      "len(self.comms) : 3\n",
      "self.state.ratio_commed: 1.0\n",
      "self.comms.count(True) : 3\n",
      "len(self.comms) : 3\n",
      "self.evaluation_deque: deque([0.7007687854785117, 0.7297523734362127, 0.8145209584429359, 0.45933183374042896, 0.7767594395987472, 0.5398932294047817, 0.6567240998555052, 0.5545431009381686, 0.6635066385878052, 0.7598445112255062, 0.7806947780617449, 0.7299966423355969, 0.742700383645417, 0.7225423355407726, 0.7077030761258212, 0.8319267588814905, 0.5702771031584047, 0.6367548038295494, 0.8253510437421807, 0.7935302146997079], maxlen=20)\n",
      "eval_mean: 0.6998561055364645\n",
      "Saving best with: 0.6998561055364645\n"
     ]
    },
    {
     "name": "stderr",
     "output_type": "stream",
     "text": [
      "\r",
      " 71%|███████████████████████████████████████████████████▌                     | 70700/100000 [1:30:10<50:58,  9.58it/s]"
     ]
    },
    {
     "name": "stdout",
     "output_type": "stream",
     "text": [
      "self.evaluation_deque: deque([0.7007687854785117, 0.7297523734362127, 0.8145209584429359, 0.45933183374042896, 0.7767594395987472, 0.5398932294047817, 0.6567240998555052, 0.5545431009381686, 0.6635066385878052, 0.7598445112255062, 0.7806947780617449, 0.7299966423355969, 0.742700383645417, 0.7225423355407726, 0.7077030761258212, 0.8319267588814905, 0.5702771031584047, 0.6367548038295494, 0.8253510437421807, 0.7935302146997079], maxlen=20)\n",
      "eval_mean: 0.6998561055364645\n"
     ]
    },
    {
     "name": "stderr",
     "output_type": "stream",
     "text": [
      "\r",
      " 71%|███████████████████████████████████████████████████▋                     | 70776/100000 [1:30:18<51:06,  9.53it/s]"
     ]
    },
    {
     "name": "stdout",
     "output_type": "stream",
     "text": [
      "self.evaluation_deque: deque([0.7007687854785117, 0.7297523734362127, 0.8145209584429359, 0.45933183374042896, 0.7767594395987472, 0.5398932294047817, 0.6567240998555052, 0.5545431009381686, 0.6635066385878052, 0.7598445112255062, 0.7806947780617449, 0.7299966423355969, 0.742700383645417, 0.7225423355407726, 0.7077030761258212, 0.8319267588814905, 0.5702771031584047, 0.6367548038295494, 0.8253510437421807, 0.7935302146997079], maxlen=20)\n",
      "eval_mean: 0.6998561055364645\n"
     ]
    },
    {
     "name": "stderr",
     "output_type": "stream",
     "text": [
      "\r",
      " 71%|███████████████████████████████████████████████████▋                     | 70852/100000 [1:30:26<51:09,  9.50it/s]"
     ]
    },
    {
     "name": "stdout",
     "output_type": "stream",
     "text": [
      "self.evaluation_deque: deque([0.7007687854785117, 0.7297523734362127, 0.8145209584429359, 0.45933183374042896, 0.7767594395987472, 0.5398932294047817, 0.6567240998555052, 0.5545431009381686, 0.6635066385878052, 0.7598445112255062, 0.7806947780617449, 0.7299966423355969, 0.742700383645417, 0.7225423355407726, 0.7077030761258212, 0.8319267588814905, 0.5702771031584047, 0.6367548038295494, 0.8253510437421807, 0.7935302146997079], maxlen=20)\n",
      "eval_mean: 0.6998561055364645\n"
     ]
    },
    {
     "name": "stderr",
     "output_type": "stream",
     "text": [
      "\r",
      " 71%|███████████████████████████████████████████████████▊                     | 70928/100000 [1:30:32<46:44, 10.37it/s]"
     ]
    },
    {
     "name": "stdout",
     "output_type": "stream",
     "text": [
      "self.evaluation_deque: deque([0.7007687854785117, 0.7297523734362127, 0.8145209584429359, 0.45933183374042896, 0.7767594395987472, 0.5398932294047817, 0.6567240998555052, 0.5545431009381686, 0.6635066385878052, 0.7598445112255062, 0.7806947780617449, 0.7299966423355969, 0.742700383645417, 0.7225423355407726, 0.7077030761258212, 0.8319267588814905, 0.5702771031584047, 0.6367548038295494, 0.8253510437421807, 0.7935302146997079], maxlen=20)\n",
      "eval_mean: 0.6998561055364645\n"
     ]
    },
    {
     "name": "stderr",
     "output_type": "stream",
     "text": [
      "\r",
      " 71%|███████████████████████████████████████████████████▊                     | 71004/100000 [1:30:42<51:54,  9.31it/s]"
     ]
    },
    {
     "name": "stdout",
     "output_type": "stream",
     "text": [
      "self.get_collection_ratio(): 0.7975653886604948\n",
      "self.comms.count(True) : 3\n",
      "len(self.comms) : 3\n",
      "self.state.ratio_commed: 1.0\n",
      "self.comms.count(True) : 3\n",
      "len(self.comms) : 3\n",
      "self.evaluation_deque: deque([0.7297523734362127, 0.8145209584429359, 0.45933183374042896, 0.7767594395987472, 0.5398932294047817, 0.6567240998555052, 0.5545431009381686, 0.6635066385878052, 0.7598445112255062, 0.7806947780617449, 0.7299966423355969, 0.742700383645417, 0.7225423355407726, 0.7077030761258212, 0.8319267588814905, 0.5702771031584047, 0.6367548038295494, 0.8253510437421807, 0.7935302146997079, 0.7975653886604948], maxlen=20)\n",
      "eval_mean: 0.7046959356955635\n",
      "Saving best with: 0.7046959356955635\n"
     ]
    },
    {
     "name": "stderr",
     "output_type": "stream",
     "text": [
      "\r",
      " 71%|███████████████████████████████████████████████████▉                     | 71080/100000 [1:30:50<51:34,  9.34it/s]"
     ]
    },
    {
     "name": "stdout",
     "output_type": "stream",
     "text": [
      "self.evaluation_deque: deque([0.7297523734362127, 0.8145209584429359, 0.45933183374042896, 0.7767594395987472, 0.5398932294047817, 0.6567240998555052, 0.5545431009381686, 0.6635066385878052, 0.7598445112255062, 0.7806947780617449, 0.7299966423355969, 0.742700383645417, 0.7225423355407726, 0.7077030761258212, 0.8319267588814905, 0.5702771031584047, 0.6367548038295494, 0.8253510437421807, 0.7935302146997079, 0.7975653886604948], maxlen=20)\n",
      "eval_mean: 0.7046959356955635\n"
     ]
    },
    {
     "name": "stderr",
     "output_type": "stream",
     "text": [
      "\r",
      " 71%|███████████████████████████████████████████████████▉                     | 71156/100000 [1:30:58<51:18,  9.37it/s]"
     ]
    },
    {
     "name": "stdout",
     "output_type": "stream",
     "text": [
      "self.evaluation_deque: deque([0.7297523734362127, 0.8145209584429359, 0.45933183374042896, 0.7767594395987472, 0.5398932294047817, 0.6567240998555052, 0.5545431009381686, 0.6635066385878052, 0.7598445112255062, 0.7806947780617449, 0.7299966423355969, 0.742700383645417, 0.7225423355407726, 0.7077030761258212, 0.8319267588814905, 0.5702771031584047, 0.6367548038295494, 0.8253510437421807, 0.7935302146997079, 0.7975653886604948], maxlen=20)\n",
      "eval_mean: 0.7046959356955635\n"
     ]
    },
    {
     "name": "stderr",
     "output_type": "stream",
     "text": [
      "\r",
      " 71%|███████████████████████████████████████████████████▉                     | 71232/100000 [1:31:05<48:59,  9.79it/s]"
     ]
    },
    {
     "name": "stdout",
     "output_type": "stream",
     "text": [
      "self.evaluation_deque: deque([0.7297523734362127, 0.8145209584429359, 0.45933183374042896, 0.7767594395987472, 0.5398932294047817, 0.6567240998555052, 0.5545431009381686, 0.6635066385878052, 0.7598445112255062, 0.7806947780617449, 0.7299966423355969, 0.742700383645417, 0.7225423355407726, 0.7077030761258212, 0.8319267588814905, 0.5702771031584047, 0.6367548038295494, 0.8253510437421807, 0.7935302146997079, 0.7975653886604948], maxlen=20)\n",
      "eval_mean: 0.7046959356955635\n"
     ]
    },
    {
     "name": "stderr",
     "output_type": "stream",
     "text": [
      "\r",
      " 71%|████████████████████████████████████████████████████                     | 71308/100000 [1:31:12<47:28, 10.07it/s]"
     ]
    },
    {
     "name": "stdout",
     "output_type": "stream",
     "text": [
      "self.evaluation_deque: deque([0.7297523734362127, 0.8145209584429359, 0.45933183374042896, 0.7767594395987472, 0.5398932294047817, 0.6567240998555052, 0.5545431009381686, 0.6635066385878052, 0.7598445112255062, 0.7806947780617449, 0.7299966423355969, 0.742700383645417, 0.7225423355407726, 0.7077030761258212, 0.8319267588814905, 0.5702771031584047, 0.6367548038295494, 0.8253510437421807, 0.7935302146997079, 0.7975653886604948], maxlen=20)\n",
      "eval_mean: 0.7046959356955635\n"
     ]
    },
    {
     "name": "stderr",
     "output_type": "stream",
     "text": [
      "\r",
      " 71%|████████████████████████████████████████████████████                     | 71384/100000 [1:31:20<48:09,  9.90it/s]"
     ]
    },
    {
     "name": "stdout",
     "output_type": "stream",
     "text": [
      "self.get_collection_ratio(): 0.695752114353747\n",
      "self.comms.count(True) : 2\n",
      "len(self.comms) : 2\n",
      "self.state.ratio_commed: 1.0\n",
      "self.comms.count(True) : 2\n",
      "len(self.comms) : 2\n",
      "self.evaluation_deque: deque([0.8145209584429359, 0.45933183374042896, 0.7767594395987472, 0.5398932294047817, 0.6567240998555052, 0.5545431009381686, 0.6635066385878052, 0.7598445112255062, 0.7806947780617449, 0.7299966423355969, 0.742700383645417, 0.7225423355407726, 0.7077030761258212, 0.8319267588814905, 0.5702771031584047, 0.6367548038295494, 0.8253510437421807, 0.7935302146997079, 0.7975653886604948, 0.695752114353747], maxlen=20)\n",
      "eval_mean: 0.7029959227414403\n"
     ]
    },
    {
     "name": "stderr",
     "output_type": "stream",
     "text": [
      "\r",
      " 71%|████████████████████████████████████████████████████▏                    | 71460/100000 [1:31:28<48:58,  9.71it/s]"
     ]
    },
    {
     "name": "stdout",
     "output_type": "stream",
     "text": [
      "self.evaluation_deque: deque([0.8145209584429359, 0.45933183374042896, 0.7767594395987472, 0.5398932294047817, 0.6567240998555052, 0.5545431009381686, 0.6635066385878052, 0.7598445112255062, 0.7806947780617449, 0.7299966423355969, 0.742700383645417, 0.7225423355407726, 0.7077030761258212, 0.8319267588814905, 0.5702771031584047, 0.6367548038295494, 0.8253510437421807, 0.7935302146997079, 0.7975653886604948, 0.695752114353747], maxlen=20)\n",
      "eval_mean: 0.7029959227414403\n"
     ]
    },
    {
     "name": "stderr",
     "output_type": "stream",
     "text": [
      "\r",
      " 72%|████████████████████████████████████████████████████▏                    | 71536/100000 [1:31:34<45:00, 10.54it/s]"
     ]
    },
    {
     "name": "stdout",
     "output_type": "stream",
     "text": [
      "self.evaluation_deque: deque([0.8145209584429359, 0.45933183374042896, 0.7767594395987472, 0.5398932294047817, 0.6567240998555052, 0.5545431009381686, 0.6635066385878052, 0.7598445112255062, 0.7806947780617449, 0.7299966423355969, 0.742700383645417, 0.7225423355407726, 0.7077030761258212, 0.8319267588814905, 0.5702771031584047, 0.6367548038295494, 0.8253510437421807, 0.7935302146997079, 0.7975653886604948, 0.695752114353747], maxlen=20)\n",
      "eval_mean: 0.7029959227414403\n"
     ]
    },
    {
     "name": "stderr",
     "output_type": "stream",
     "text": [
      "\r",
      " 72%|████████████████████████████████████████████████████▎                    | 71612/100000 [1:31:40<42:11, 11.21it/s]"
     ]
    },
    {
     "name": "stdout",
     "output_type": "stream",
     "text": [
      "self.evaluation_deque: deque([0.8145209584429359, 0.45933183374042896, 0.7767594395987472, 0.5398932294047817, 0.6567240998555052, 0.5545431009381686, 0.6635066385878052, 0.7598445112255062, 0.7806947780617449, 0.7299966423355969, 0.742700383645417, 0.7225423355407726, 0.7077030761258212, 0.8319267588814905, 0.5702771031584047, 0.6367548038295494, 0.8253510437421807, 0.7935302146997079, 0.7975653886604948, 0.695752114353747], maxlen=20)\n",
      "eval_mean: 0.7029959227414403\n"
     ]
    },
    {
     "name": "stderr",
     "output_type": "stream",
     "text": [
      "\r",
      " 72%|████████████████████████████████████████████████████▎                    | 71688/100000 [1:31:47<42:18, 11.15it/s]"
     ]
    },
    {
     "name": "stdout",
     "output_type": "stream",
     "text": [
      "self.evaluation_deque: deque([0.8145209584429359, 0.45933183374042896, 0.7767594395987472, 0.5398932294047817, 0.6567240998555052, 0.5545431009381686, 0.6635066385878052, 0.7598445112255062, 0.7806947780617449, 0.7299966423355969, 0.742700383645417, 0.7225423355407726, 0.7077030761258212, 0.8319267588814905, 0.5702771031584047, 0.6367548038295494, 0.8253510437421807, 0.7935302146997079, 0.7975653886604948, 0.695752114353747], maxlen=20)\n",
      "eval_mean: 0.7029959227414403\n"
     ]
    },
    {
     "name": "stderr",
     "output_type": "stream",
     "text": [
      "\r",
      " 72%|████████████████████████████████████████████████████▍                    | 71764/100000 [1:31:58<50:10,  9.38it/s]"
     ]
    },
    {
     "name": "stdout",
     "output_type": "stream",
     "text": [
      "self.get_collection_ratio(): 0.7546364952945549\n",
      "self.comms.count(True) : 3\n",
      "len(self.comms) : 3\n",
      "self.state.ratio_commed: 1.0\n",
      "self.comms.count(True) : 3\n",
      "len(self.comms) : 3\n",
      "self.evaluation_deque: deque([0.45933183374042896, 0.7767594395987472, 0.5398932294047817, 0.6567240998555052, 0.5545431009381686, 0.6635066385878052, 0.7598445112255062, 0.7806947780617449, 0.7299966423355969, 0.742700383645417, 0.7225423355407726, 0.7077030761258212, 0.8319267588814905, 0.5702771031584047, 0.6367548038295494, 0.8253510437421807, 0.7935302146997079, 0.7975653886604948, 0.695752114353747, 0.7546364952945549], maxlen=20)\n",
      "eval_mean: 0.7000016995840213\n"
     ]
    },
    {
     "name": "stderr",
     "output_type": "stream",
     "text": [
      "\r",
      " 72%|████████████████████████████████████████████████████▍                    | 71840/100000 [1:32:05<47:50,  9.81it/s]"
     ]
    },
    {
     "name": "stdout",
     "output_type": "stream",
     "text": [
      "self.evaluation_deque: deque([0.45933183374042896, 0.7767594395987472, 0.5398932294047817, 0.6567240998555052, 0.5545431009381686, 0.6635066385878052, 0.7598445112255062, 0.7806947780617449, 0.7299966423355969, 0.742700383645417, 0.7225423355407726, 0.7077030761258212, 0.8319267588814905, 0.5702771031584047, 0.6367548038295494, 0.8253510437421807, 0.7935302146997079, 0.7975653886604948, 0.695752114353747, 0.7546364952945549], maxlen=20)\n",
      "eval_mean: 0.7000016995840213\n"
     ]
    },
    {
     "name": "stderr",
     "output_type": "stream",
     "text": [
      "\r",
      " 72%|████████████████████████████████████████████████████▍                    | 71916/100000 [1:32:11<46:11, 10.13it/s]"
     ]
    },
    {
     "name": "stdout",
     "output_type": "stream",
     "text": [
      "self.evaluation_deque: deque([0.45933183374042896, 0.7767594395987472, 0.5398932294047817, 0.6567240998555052, 0.5545431009381686, 0.6635066385878052, 0.7598445112255062, 0.7806947780617449, 0.7299966423355969, 0.742700383645417, 0.7225423355407726, 0.7077030761258212, 0.8319267588814905, 0.5702771031584047, 0.6367548038295494, 0.8253510437421807, 0.7935302146997079, 0.7975653886604948, 0.695752114353747, 0.7546364952945549], maxlen=20)\n",
      "eval_mean: 0.7000016995840213\n"
     ]
    },
    {
     "name": "stderr",
     "output_type": "stream",
     "text": [
      "\r",
      " 72%|████████████████████████████████████████████████████▌                    | 71992/100000 [1:32:18<45:03, 10.36it/s]"
     ]
    },
    {
     "name": "stdout",
     "output_type": "stream",
     "text": [
      "self.evaluation_deque: deque([0.45933183374042896, 0.7767594395987472, 0.5398932294047817, 0.6567240998555052, 0.5545431009381686, 0.6635066385878052, 0.7598445112255062, 0.7806947780617449, 0.7299966423355969, 0.742700383645417, 0.7225423355407726, 0.7077030761258212, 0.8319267588814905, 0.5702771031584047, 0.6367548038295494, 0.8253510437421807, 0.7935302146997079, 0.7975653886604948, 0.695752114353747, 0.7546364952945549], maxlen=20)\n",
      "eval_mean: 0.7000016995840213\n"
     ]
    },
    {
     "name": "stderr",
     "output_type": "stream",
     "text": [
      "\r",
      " 72%|████████████████████████████████████████████████████▌                    | 72068/100000 [1:32:24<42:02, 11.07it/s]"
     ]
    },
    {
     "name": "stdout",
     "output_type": "stream",
     "text": [
      "self.evaluation_deque: deque([0.45933183374042896, 0.7767594395987472, 0.5398932294047817, 0.6567240998555052, 0.5545431009381686, 0.6635066385878052, 0.7598445112255062, 0.7806947780617449, 0.7299966423355969, 0.742700383645417, 0.7225423355407726, 0.7077030761258212, 0.8319267588814905, 0.5702771031584047, 0.6367548038295494, 0.8253510437421807, 0.7935302146997079, 0.7975653886604948, 0.695752114353747, 0.7546364952945549], maxlen=20)\n",
      "eval_mean: 0.7000016995840213\n"
     ]
    },
    {
     "name": "stderr",
     "output_type": "stream",
     "text": [
      "\r",
      " 72%|████████████████████████████████████████████████████▋                    | 72144/100000 [1:32:33<45:46, 10.14it/s]"
     ]
    },
    {
     "name": "stdout",
     "output_type": "stream",
     "text": [
      "self.get_collection_ratio(): 0.7870255233082815\n",
      "self.comms.count(True) : 3\n",
      "len(self.comms) : 3\n",
      "self.state.ratio_commed: 1.0\n",
      "self.comms.count(True) : 3\n",
      "len(self.comms) : 3\n",
      "self.evaluation_deque: deque([0.7767594395987472, 0.5398932294047817, 0.6567240998555052, 0.5545431009381686, 0.6635066385878052, 0.7598445112255062, 0.7806947780617449, 0.7299966423355969, 0.742700383645417, 0.7225423355407726, 0.7077030761258212, 0.8319267588814905, 0.5702771031584047, 0.6367548038295494, 0.8253510437421807, 0.7935302146997079, 0.7975653886604948, 0.695752114353747, 0.7546364952945549, 0.7870255233082815], maxlen=20)\n",
      "eval_mean: 0.716386384062414\n",
      "Saving best with: 0.716386384062414\n"
     ]
    },
    {
     "name": "stderr",
     "output_type": "stream",
     "text": [
      "\r",
      " 72%|████████████████████████████████████████████████████▋                    | 72220/100000 [1:32:40<44:42, 10.36it/s]"
     ]
    },
    {
     "name": "stdout",
     "output_type": "stream",
     "text": [
      "self.evaluation_deque: deque([0.7767594395987472, 0.5398932294047817, 0.6567240998555052, 0.5545431009381686, 0.6635066385878052, 0.7598445112255062, 0.7806947780617449, 0.7299966423355969, 0.742700383645417, 0.7225423355407726, 0.7077030761258212, 0.8319267588814905, 0.5702771031584047, 0.6367548038295494, 0.8253510437421807, 0.7935302146997079, 0.7975653886604948, 0.695752114353747, 0.7546364952945549, 0.7870255233082815], maxlen=20)\n",
      "eval_mean: 0.716386384062414\n"
     ]
    },
    {
     "name": "stderr",
     "output_type": "stream",
     "text": [
      "\r",
      " 72%|████████████████████████████████████████████████████▊                    | 72296/100000 [1:32:48<45:49, 10.07it/s]"
     ]
    },
    {
     "name": "stdout",
     "output_type": "stream",
     "text": [
      "self.evaluation_deque: deque([0.7767594395987472, 0.5398932294047817, 0.6567240998555052, 0.5545431009381686, 0.6635066385878052, 0.7598445112255062, 0.7806947780617449, 0.7299966423355969, 0.742700383645417, 0.7225423355407726, 0.7077030761258212, 0.8319267588814905, 0.5702771031584047, 0.6367548038295494, 0.8253510437421807, 0.7935302146997079, 0.7975653886604948, 0.695752114353747, 0.7546364952945549, 0.7870255233082815], maxlen=20)\n",
      "eval_mean: 0.716386384062414\n"
     ]
    },
    {
     "name": "stderr",
     "output_type": "stream",
     "text": [
      "\r",
      " 72%|████████████████████████████████████████████████████▊                    | 72372/100000 [1:32:56<46:33,  9.89it/s]"
     ]
    },
    {
     "name": "stdout",
     "output_type": "stream",
     "text": [
      "self.evaluation_deque: deque([0.7767594395987472, 0.5398932294047817, 0.6567240998555052, 0.5545431009381686, 0.6635066385878052, 0.7598445112255062, 0.7806947780617449, 0.7299966423355969, 0.742700383645417, 0.7225423355407726, 0.7077030761258212, 0.8319267588814905, 0.5702771031584047, 0.6367548038295494, 0.8253510437421807, 0.7935302146997079, 0.7975653886604948, 0.695752114353747, 0.7546364952945549, 0.7870255233082815], maxlen=20)\n",
      "eval_mean: 0.716386384062414\n"
     ]
    },
    {
     "name": "stderr",
     "output_type": "stream",
     "text": [
      "\r",
      " 72%|████████████████████████████████████████████████████▉                    | 72448/100000 [1:33:03<45:01, 10.20it/s]"
     ]
    },
    {
     "name": "stdout",
     "output_type": "stream",
     "text": [
      "self.evaluation_deque: deque([0.7767594395987472, 0.5398932294047817, 0.6567240998555052, 0.5545431009381686, 0.6635066385878052, 0.7598445112255062, 0.7806947780617449, 0.7299966423355969, 0.742700383645417, 0.7225423355407726, 0.7077030761258212, 0.8319267588814905, 0.5702771031584047, 0.6367548038295494, 0.8253510437421807, 0.7935302146997079, 0.7975653886604948, 0.695752114353747, 0.7546364952945549, 0.7870255233082815], maxlen=20)\n",
      "eval_mean: 0.716386384062414\n"
     ]
    },
    {
     "name": "stderr",
     "output_type": "stream",
     "text": [
      "\r",
      " 73%|████████████████████████████████████████████████████▉                    | 72524/100000 [1:33:12<48:18,  9.48it/s]"
     ]
    },
    {
     "name": "stdout",
     "output_type": "stream",
     "text": [
      "self.get_collection_ratio(): 0.7901484019155938\n",
      "self.comms.count(True) : 2\n",
      "len(self.comms) : 2\n",
      "self.state.ratio_commed: 1.0\n",
      "self.comms.count(True) : 2\n",
      "len(self.comms) : 2\n",
      "self.evaluation_deque: deque([0.5398932294047817, 0.6567240998555052, 0.5545431009381686, 0.6635066385878052, 0.7598445112255062, 0.7806947780617449, 0.7299966423355969, 0.742700383645417, 0.7225423355407726, 0.7077030761258212, 0.8319267588814905, 0.5702771031584047, 0.6367548038295494, 0.8253510437421807, 0.7935302146997079, 0.7975653886604948, 0.695752114353747, 0.7546364952945549, 0.7870255233082815, 0.7901484019155938], maxlen=20)\n",
      "eval_mean: 0.7170558321782563\n",
      "Saving best with: 0.7170558321782563\n"
     ]
    },
    {
     "name": "stderr",
     "output_type": "stream",
     "text": [
      "\r",
      " 73%|████████████████████████████████████████████████████▉                    | 72600/100000 [1:33:19<46:25,  9.83it/s]"
     ]
    },
    {
     "name": "stdout",
     "output_type": "stream",
     "text": [
      "self.evaluation_deque: deque([0.5398932294047817, 0.6567240998555052, 0.5545431009381686, 0.6635066385878052, 0.7598445112255062, 0.7806947780617449, 0.7299966423355969, 0.742700383645417, 0.7225423355407726, 0.7077030761258212, 0.8319267588814905, 0.5702771031584047, 0.6367548038295494, 0.8253510437421807, 0.7935302146997079, 0.7975653886604948, 0.695752114353747, 0.7546364952945549, 0.7870255233082815, 0.7901484019155938], maxlen=20)\n",
      "eval_mean: 0.7170558321782563\n"
     ]
    },
    {
     "name": "stderr",
     "output_type": "stream",
     "text": [
      "\r",
      " 73%|█████████████████████████████████████████████████████                    | 72676/100000 [1:33:28<47:09,  9.66it/s]"
     ]
    },
    {
     "name": "stdout",
     "output_type": "stream",
     "text": [
      "self.evaluation_deque: deque([0.5398932294047817, 0.6567240998555052, 0.5545431009381686, 0.6635066385878052, 0.7598445112255062, 0.7806947780617449, 0.7299966423355969, 0.742700383645417, 0.7225423355407726, 0.7077030761258212, 0.8319267588814905, 0.5702771031584047, 0.6367548038295494, 0.8253510437421807, 0.7935302146997079, 0.7975653886604948, 0.695752114353747, 0.7546364952945549, 0.7870255233082815, 0.7901484019155938], maxlen=20)\n",
      "eval_mean: 0.7170558321782563\n"
     ]
    },
    {
     "name": "stderr",
     "output_type": "stream",
     "text": [
      "\r",
      " 73%|█████████████████████████████████████████████████████                    | 72752/100000 [1:33:33<43:18, 10.49it/s]"
     ]
    },
    {
     "name": "stdout",
     "output_type": "stream",
     "text": [
      "self.evaluation_deque: deque([0.5398932294047817, 0.6567240998555052, 0.5545431009381686, 0.6635066385878052, 0.7598445112255062, 0.7806947780617449, 0.7299966423355969, 0.742700383645417, 0.7225423355407726, 0.7077030761258212, 0.8319267588814905, 0.5702771031584047, 0.6367548038295494, 0.8253510437421807, 0.7935302146997079, 0.7975653886604948, 0.695752114353747, 0.7546364952945549, 0.7870255233082815, 0.7901484019155938], maxlen=20)\n",
      "eval_mean: 0.7170558321782563\n"
     ]
    },
    {
     "name": "stderr",
     "output_type": "stream",
     "text": [
      "\r",
      " 73%|█████████████████████████████████████████████████████▏                   | 72828/100000 [1:33:40<42:37, 10.63it/s]"
     ]
    },
    {
     "name": "stdout",
     "output_type": "stream",
     "text": [
      "self.evaluation_deque: deque([0.5398932294047817, 0.6567240998555052, 0.5545431009381686, 0.6635066385878052, 0.7598445112255062, 0.7806947780617449, 0.7299966423355969, 0.742700383645417, 0.7225423355407726, 0.7077030761258212, 0.8319267588814905, 0.5702771031584047, 0.6367548038295494, 0.8253510437421807, 0.7935302146997079, 0.7975653886604948, 0.695752114353747, 0.7546364952945549, 0.7870255233082815, 0.7901484019155938], maxlen=20)\n",
      "eval_mean: 0.7170558321782563\n"
     ]
    },
    {
     "name": "stderr",
     "output_type": "stream",
     "text": [
      "\r",
      " 73%|█████████████████████████████████████████████████████▏                   | 72904/100000 [1:33:49<45:35,  9.90it/s]"
     ]
    },
    {
     "name": "stdout",
     "output_type": "stream",
     "text": [
      "self.get_collection_ratio(): 0.7084029849412588\n",
      "self.comms.count(True) : 3\n",
      "len(self.comms) : 3\n",
      "self.state.ratio_commed: 1.0\n",
      "self.comms.count(True) : 3\n",
      "len(self.comms) : 3\n",
      "self.evaluation_deque: deque([0.6567240998555052, 0.5545431009381686, 0.6635066385878052, 0.7598445112255062, 0.7806947780617449, 0.7299966423355969, 0.742700383645417, 0.7225423355407726, 0.7077030761258212, 0.8319267588814905, 0.5702771031584047, 0.6367548038295494, 0.8253510437421807, 0.7935302146997079, 0.7975653886604948, 0.695752114353747, 0.7546364952945549, 0.7870255233082815, 0.7901484019155938, 0.7084029849412588], maxlen=20)\n",
      "eval_mean: 0.7254813199550803\n",
      "Saving best with: 0.7254813199550803\n"
     ]
    },
    {
     "name": "stderr",
     "output_type": "stream",
     "text": [
      "\r",
      " 73%|█████████████████████████████████████████████████████▎                   | 72980/100000 [1:33:57<46:03,  9.78it/s]"
     ]
    },
    {
     "name": "stdout",
     "output_type": "stream",
     "text": [
      "self.evaluation_deque: deque([0.6567240998555052, 0.5545431009381686, 0.6635066385878052, 0.7598445112255062, 0.7806947780617449, 0.7299966423355969, 0.742700383645417, 0.7225423355407726, 0.7077030761258212, 0.8319267588814905, 0.5702771031584047, 0.6367548038295494, 0.8253510437421807, 0.7935302146997079, 0.7975653886604948, 0.695752114353747, 0.7546364952945549, 0.7870255233082815, 0.7901484019155938, 0.7084029849412588], maxlen=20)\n",
      "eval_mean: 0.7254813199550803\n"
     ]
    },
    {
     "name": "stderr",
     "output_type": "stream",
     "text": [
      "\r",
      " 73%|█████████████████████████████████████████████████████▎                   | 73056/100000 [1:34:05<46:25,  9.67it/s]"
     ]
    },
    {
     "name": "stdout",
     "output_type": "stream",
     "text": [
      "self.evaluation_deque: deque([0.6567240998555052, 0.5545431009381686, 0.6635066385878052, 0.7598445112255062, 0.7806947780617449, 0.7299966423355969, 0.742700383645417, 0.7225423355407726, 0.7077030761258212, 0.8319267588814905, 0.5702771031584047, 0.6367548038295494, 0.8253510437421807, 0.7935302146997079, 0.7975653886604948, 0.695752114353747, 0.7546364952945549, 0.7870255233082815, 0.7901484019155938, 0.7084029849412588], maxlen=20)\n",
      "eval_mean: 0.7254813199550803\n"
     ]
    },
    {
     "name": "stderr",
     "output_type": "stream",
     "text": [
      "\r",
      " 73%|█████████████████████████████████████████████████████▍                   | 73132/100000 [1:34:13<46:10,  9.70it/s]"
     ]
    },
    {
     "name": "stdout",
     "output_type": "stream",
     "text": [
      "self.evaluation_deque: deque([0.6567240998555052, 0.5545431009381686, 0.6635066385878052, 0.7598445112255062, 0.7806947780617449, 0.7299966423355969, 0.742700383645417, 0.7225423355407726, 0.7077030761258212, 0.8319267588814905, 0.5702771031584047, 0.6367548038295494, 0.8253510437421807, 0.7935302146997079, 0.7975653886604948, 0.695752114353747, 0.7546364952945549, 0.7870255233082815, 0.7901484019155938, 0.7084029849412588], maxlen=20)\n",
      "eval_mean: 0.7254813199550803\n"
     ]
    },
    {
     "name": "stderr",
     "output_type": "stream",
     "text": [
      "\r",
      " 73%|█████████████████████████████████████████████████████▍                   | 73208/100000 [1:34:28<58:01,  7.70it/s]"
     ]
    },
    {
     "name": "stdout",
     "output_type": "stream",
     "text": [
      "self.evaluation_deque: deque([0.6567240998555052, 0.5545431009381686, 0.6635066385878052, 0.7598445112255062, 0.7806947780617449, 0.7299966423355969, 0.742700383645417, 0.7225423355407726, 0.7077030761258212, 0.8319267588814905, 0.5702771031584047, 0.6367548038295494, 0.8253510437421807, 0.7935302146997079, 0.7975653886604948, 0.695752114353747, 0.7546364952945549, 0.7870255233082815, 0.7901484019155938, 0.7084029849412588], maxlen=20)\n",
      "eval_mean: 0.7254813199550803\n"
     ]
    },
    {
     "name": "stderr",
     "output_type": "stream",
     "text": [
      "\r",
      " 73%|█████████████████████████████████████████████████████▍                   | 73284/100000 [1:34:37<56:14,  7.92it/s]"
     ]
    },
    {
     "name": "stdout",
     "output_type": "stream",
     "text": [
      "self.get_collection_ratio(): 0.7993468519960263\n",
      "self.comms.count(True) : 3\n",
      "len(self.comms) : 3\n",
      "self.state.ratio_commed: 1.0\n",
      "self.comms.count(True) : 3\n",
      "len(self.comms) : 3\n",
      "self.evaluation_deque: deque([0.5545431009381686, 0.6635066385878052, 0.7598445112255062, 0.7806947780617449, 0.7299966423355969, 0.742700383645417, 0.7225423355407726, 0.7077030761258212, 0.8319267588814905, 0.5702771031584047, 0.6367548038295494, 0.8253510437421807, 0.7935302146997079, 0.7975653886604948, 0.695752114353747, 0.7546364952945549, 0.7870255233082815, 0.7901484019155938, 0.7084029849412588, 0.7993468519960263], maxlen=20)\n",
      "eval_mean: 0.7326124575621062\n",
      "Saving best with: 0.7326124575621062\n"
     ]
    },
    {
     "name": "stderr",
     "output_type": "stream",
     "text": [
      "\r",
      " 73%|█████████████████████████████████████████████████████▌                   | 73360/100000 [1:34:44<51:24,  8.64it/s]"
     ]
    },
    {
     "name": "stdout",
     "output_type": "stream",
     "text": [
      "self.evaluation_deque: deque([0.5545431009381686, 0.6635066385878052, 0.7598445112255062, 0.7806947780617449, 0.7299966423355969, 0.742700383645417, 0.7225423355407726, 0.7077030761258212, 0.8319267588814905, 0.5702771031584047, 0.6367548038295494, 0.8253510437421807, 0.7935302146997079, 0.7975653886604948, 0.695752114353747, 0.7546364952945549, 0.7870255233082815, 0.7901484019155938, 0.7084029849412588, 0.7993468519960263], maxlen=20)\n",
      "eval_mean: 0.7326124575621062\n"
     ]
    },
    {
     "name": "stderr",
     "output_type": "stream",
     "text": [
      "\r",
      " 73%|█████████████████████████████████████████████████████▌                   | 73436/100000 [1:34:52<49:51,  8.88it/s]"
     ]
    },
    {
     "name": "stdout",
     "output_type": "stream",
     "text": [
      "self.evaluation_deque: deque([0.5545431009381686, 0.6635066385878052, 0.7598445112255062, 0.7806947780617449, 0.7299966423355969, 0.742700383645417, 0.7225423355407726, 0.7077030761258212, 0.8319267588814905, 0.5702771031584047, 0.6367548038295494, 0.8253510437421807, 0.7935302146997079, 0.7975653886604948, 0.695752114353747, 0.7546364952945549, 0.7870255233082815, 0.7901484019155938, 0.7084029849412588, 0.7993468519960263], maxlen=20)\n",
      "eval_mean: 0.7326124575621062\n"
     ]
    },
    {
     "name": "stderr",
     "output_type": "stream",
     "text": [
      "\r",
      " 74%|█████████████████████████████████████████████████████▋                   | 73512/100000 [1:34:59<46:56,  9.40it/s]"
     ]
    },
    {
     "name": "stdout",
     "output_type": "stream",
     "text": [
      "self.evaluation_deque: deque([0.5545431009381686, 0.6635066385878052, 0.7598445112255062, 0.7806947780617449, 0.7299966423355969, 0.742700383645417, 0.7225423355407726, 0.7077030761258212, 0.8319267588814905, 0.5702771031584047, 0.6367548038295494, 0.8253510437421807, 0.7935302146997079, 0.7975653886604948, 0.695752114353747, 0.7546364952945549, 0.7870255233082815, 0.7901484019155938, 0.7084029849412588, 0.7993468519960263], maxlen=20)\n",
      "eval_mean: 0.7326124575621062\n"
     ]
    },
    {
     "name": "stderr",
     "output_type": "stream",
     "text": [
      "\r",
      " 74%|█████████████████████████████████████████████████████▋                   | 73588/100000 [1:35:07<46:51,  9.40it/s]"
     ]
    },
    {
     "name": "stdout",
     "output_type": "stream",
     "text": [
      "self.evaluation_deque: deque([0.5545431009381686, 0.6635066385878052, 0.7598445112255062, 0.7806947780617449, 0.7299966423355969, 0.742700383645417, 0.7225423355407726, 0.7077030761258212, 0.8319267588814905, 0.5702771031584047, 0.6367548038295494, 0.8253510437421807, 0.7935302146997079, 0.7975653886604948, 0.695752114353747, 0.7546364952945549, 0.7870255233082815, 0.7901484019155938, 0.7084029849412588, 0.7993468519960263], maxlen=20)\n",
      "eval_mean: 0.7326124575621062\n"
     ]
    },
    {
     "name": "stderr",
     "output_type": "stream",
     "text": [
      "\r",
      " 74%|█████████████████████████████████████████████████████▊                   | 73664/100000 [1:35:16<49:31,  8.86it/s]"
     ]
    },
    {
     "name": "stdout",
     "output_type": "stream",
     "text": [
      "self.get_collection_ratio(): 0.5345138787563162\n",
      "self.comms.count(True) : 1\n",
      "len(self.comms) : 1\n",
      "self.state.ratio_commed: 1.0\n",
      "self.comms.count(True) : 1\n",
      "len(self.comms) : 1\n",
      "self.evaluation_deque: deque([0.6635066385878052, 0.7598445112255062, 0.7806947780617449, 0.7299966423355969, 0.742700383645417, 0.7225423355407726, 0.7077030761258212, 0.8319267588814905, 0.5702771031584047, 0.6367548038295494, 0.8253510437421807, 0.7935302146997079, 0.7975653886604948, 0.695752114353747, 0.7546364952945549, 0.7870255233082815, 0.7901484019155938, 0.7084029849412588, 0.7993468519960263, 0.5345138787563162], maxlen=20)\n",
      "eval_mean: 0.7316109964530135\n"
     ]
    },
    {
     "name": "stderr",
     "output_type": "stream",
     "text": [
      "\r",
      " 74%|█████████████████████████████████████████████████████▊                   | 73740/100000 [1:35:24<48:14,  9.07it/s]"
     ]
    },
    {
     "name": "stdout",
     "output_type": "stream",
     "text": [
      "self.evaluation_deque: deque([0.6635066385878052, 0.7598445112255062, 0.7806947780617449, 0.7299966423355969, 0.742700383645417, 0.7225423355407726, 0.7077030761258212, 0.8319267588814905, 0.5702771031584047, 0.6367548038295494, 0.8253510437421807, 0.7935302146997079, 0.7975653886604948, 0.695752114353747, 0.7546364952945549, 0.7870255233082815, 0.7901484019155938, 0.7084029849412588, 0.7993468519960263, 0.5345138787563162], maxlen=20)\n",
      "eval_mean: 0.7316109964530135\n"
     ]
    },
    {
     "name": "stderr",
     "output_type": "stream",
     "text": [
      "\r",
      " 74%|█████████████████████████████████████████████████████▉                   | 73816/100000 [1:35:31<45:36,  9.57it/s]"
     ]
    },
    {
     "name": "stdout",
     "output_type": "stream",
     "text": [
      "self.evaluation_deque: deque([0.6635066385878052, 0.7598445112255062, 0.7806947780617449, 0.7299966423355969, 0.742700383645417, 0.7225423355407726, 0.7077030761258212, 0.8319267588814905, 0.5702771031584047, 0.6367548038295494, 0.8253510437421807, 0.7935302146997079, 0.7975653886604948, 0.695752114353747, 0.7546364952945549, 0.7870255233082815, 0.7901484019155938, 0.7084029849412588, 0.7993468519960263, 0.5345138787563162], maxlen=20)\n",
      "eval_mean: 0.7316109964530135\n"
     ]
    },
    {
     "name": "stderr",
     "output_type": "stream",
     "text": [
      "\r",
      " 74%|█████████████████████████████████████████████████████▉                   | 73892/100000 [1:35:39<45:17,  9.61it/s]"
     ]
    },
    {
     "name": "stdout",
     "output_type": "stream",
     "text": [
      "self.evaluation_deque: deque([0.6635066385878052, 0.7598445112255062, 0.7806947780617449, 0.7299966423355969, 0.742700383645417, 0.7225423355407726, 0.7077030761258212, 0.8319267588814905, 0.5702771031584047, 0.6367548038295494, 0.8253510437421807, 0.7935302146997079, 0.7975653886604948, 0.695752114353747, 0.7546364952945549, 0.7870255233082815, 0.7901484019155938, 0.7084029849412588, 0.7993468519960263, 0.5345138787563162], maxlen=20)\n",
      "eval_mean: 0.7316109964530135\n"
     ]
    },
    {
     "name": "stderr",
     "output_type": "stream",
     "text": [
      "\r",
      " 74%|█████████████████████████████████████████████████████▉                   | 73968/100000 [1:35:46<43:22, 10.00it/s]"
     ]
    },
    {
     "name": "stdout",
     "output_type": "stream",
     "text": [
      "self.evaluation_deque: deque([0.6635066385878052, 0.7598445112255062, 0.7806947780617449, 0.7299966423355969, 0.742700383645417, 0.7225423355407726, 0.7077030761258212, 0.8319267588814905, 0.5702771031584047, 0.6367548038295494, 0.8253510437421807, 0.7935302146997079, 0.7975653886604948, 0.695752114353747, 0.7546364952945549, 0.7870255233082815, 0.7901484019155938, 0.7084029849412588, 0.7993468519960263, 0.5345138787563162], maxlen=20)\n",
      "eval_mean: 0.7316109964530135\n"
     ]
    },
    {
     "name": "stderr",
     "output_type": "stream",
     "text": [
      "\r",
      " 74%|██████████████████████████████████████████████████████                   | 74044/100000 [1:35:55<46:13,  9.36it/s]"
     ]
    },
    {
     "name": "stdout",
     "output_type": "stream",
     "text": [
      "self.get_collection_ratio(): 0.7428678115183431\n",
      "self.comms.count(True) : 2\n",
      "len(self.comms) : 2\n",
      "self.state.ratio_commed: 1.0\n",
      "self.comms.count(True) : 2\n",
      "len(self.comms) : 2\n",
      "self.evaluation_deque: deque([0.7598445112255062, 0.7806947780617449, 0.7299966423355969, 0.742700383645417, 0.7225423355407726, 0.7077030761258212, 0.8319267588814905, 0.5702771031584047, 0.6367548038295494, 0.8253510437421807, 0.7935302146997079, 0.7975653886604948, 0.695752114353747, 0.7546364952945549, 0.7870255233082815, 0.7901484019155938, 0.7084029849412588, 0.7993468519960263, 0.5345138787563162, 0.7428678115183431], maxlen=20)\n",
      "eval_mean: 0.7355790550995404\n",
      "Saving best with: 0.7355790550995404\n"
     ]
    },
    {
     "name": "stderr",
     "output_type": "stream",
     "text": [
      "\r",
      " 74%|██████████████████████████████████████████████████████                   | 74120/100000 [1:36:03<45:59,  9.38it/s]"
     ]
    },
    {
     "name": "stdout",
     "output_type": "stream",
     "text": [
      "self.evaluation_deque: deque([0.7598445112255062, 0.7806947780617449, 0.7299966423355969, 0.742700383645417, 0.7225423355407726, 0.7077030761258212, 0.8319267588814905, 0.5702771031584047, 0.6367548038295494, 0.8253510437421807, 0.7935302146997079, 0.7975653886604948, 0.695752114353747, 0.7546364952945549, 0.7870255233082815, 0.7901484019155938, 0.7084029849412588, 0.7993468519960263, 0.5345138787563162, 0.7428678115183431], maxlen=20)\n",
      "eval_mean: 0.7355790550995404\n"
     ]
    },
    {
     "name": "stderr",
     "output_type": "stream",
     "text": [
      "\r",
      " 74%|██████████████████████████████████████████████████████▏                  | 74196/100000 [1:36:11<45:41,  9.41it/s]"
     ]
    },
    {
     "name": "stdout",
     "output_type": "stream",
     "text": [
      "self.evaluation_deque: deque([0.7598445112255062, 0.7806947780617449, 0.7299966423355969, 0.742700383645417, 0.7225423355407726, 0.7077030761258212, 0.8319267588814905, 0.5702771031584047, 0.6367548038295494, 0.8253510437421807, 0.7935302146997079, 0.7975653886604948, 0.695752114353747, 0.7546364952945549, 0.7870255233082815, 0.7901484019155938, 0.7084029849412588, 0.7993468519960263, 0.5345138787563162, 0.7428678115183431], maxlen=20)\n",
      "eval_mean: 0.7355790550995404\n"
     ]
    },
    {
     "name": "stderr",
     "output_type": "stream",
     "text": [
      "\r",
      " 74%|██████████████████████████████████████████████████████▏                  | 74272/100000 [1:36:19<45:31,  9.42it/s]"
     ]
    },
    {
     "name": "stdout",
     "output_type": "stream",
     "text": [
      "self.evaluation_deque: deque([0.7598445112255062, 0.7806947780617449, 0.7299966423355969, 0.742700383645417, 0.7225423355407726, 0.7077030761258212, 0.8319267588814905, 0.5702771031584047, 0.6367548038295494, 0.8253510437421807, 0.7935302146997079, 0.7975653886604948, 0.695752114353747, 0.7546364952945549, 0.7870255233082815, 0.7901484019155938, 0.7084029849412588, 0.7993468519960263, 0.5345138787563162, 0.7428678115183431], maxlen=20)\n",
      "eval_mean: 0.7355790550995404\n"
     ]
    },
    {
     "name": "stderr",
     "output_type": "stream",
     "text": [
      "\r",
      " 74%|██████████████████████████████████████████████████████▎                  | 74348/100000 [1:36:26<43:35,  9.81it/s]"
     ]
    },
    {
     "name": "stdout",
     "output_type": "stream",
     "text": [
      "self.evaluation_deque: deque([0.7598445112255062, 0.7806947780617449, 0.7299966423355969, 0.742700383645417, 0.7225423355407726, 0.7077030761258212, 0.8319267588814905, 0.5702771031584047, 0.6367548038295494, 0.8253510437421807, 0.7935302146997079, 0.7975653886604948, 0.695752114353747, 0.7546364952945549, 0.7870255233082815, 0.7901484019155938, 0.7084029849412588, 0.7993468519960263, 0.5345138787563162, 0.7428678115183431], maxlen=20)\n",
      "eval_mean: 0.7355790550995404\n"
     ]
    },
    {
     "name": "stderr",
     "output_type": "stream",
     "text": [
      "\r",
      " 74%|██████████████████████████████████████████████████████▎                  | 74424/100000 [1:36:37<47:59,  8.88it/s]"
     ]
    },
    {
     "name": "stdout",
     "output_type": "stream",
     "text": [
      "self.get_collection_ratio(): 0.7487977048385478\n",
      "self.comms.count(True) : 2\n",
      "len(self.comms) : 2\n",
      "self.state.ratio_commed: 1.0\n",
      "self.comms.count(True) : 2\n",
      "len(self.comms) : 2\n",
      "self.evaluation_deque: deque([0.7806947780617449, 0.7299966423355969, 0.742700383645417, 0.7225423355407726, 0.7077030761258212, 0.8319267588814905, 0.5702771031584047, 0.6367548038295494, 0.8253510437421807, 0.7935302146997079, 0.7975653886604948, 0.695752114353747, 0.7546364952945549, 0.7870255233082815, 0.7901484019155938, 0.7084029849412588, 0.7993468519960263, 0.5345138787563162, 0.7428678115183431, 0.7487977048385478], maxlen=20)\n",
      "eval_mean: 0.7350267147801925\n"
     ]
    },
    {
     "name": "stderr",
     "output_type": "stream",
     "text": [
      "\r",
      " 74%|██████████████████████████████████████████████████████▍                  | 74500/100000 [1:36:43<43:05,  9.86it/s]"
     ]
    },
    {
     "name": "stdout",
     "output_type": "stream",
     "text": [
      "self.evaluation_deque: deque([0.7806947780617449, 0.7299966423355969, 0.742700383645417, 0.7225423355407726, 0.7077030761258212, 0.8319267588814905, 0.5702771031584047, 0.6367548038295494, 0.8253510437421807, 0.7935302146997079, 0.7975653886604948, 0.695752114353747, 0.7546364952945549, 0.7870255233082815, 0.7901484019155938, 0.7084029849412588, 0.7993468519960263, 0.5345138787563162, 0.7428678115183431, 0.7487977048385478], maxlen=20)\n",
      "eval_mean: 0.7350267147801925\n"
     ]
    },
    {
     "name": "stderr",
     "output_type": "stream",
     "text": [
      "\r",
      " 75%|██████████████████████████████████████████████████████▍                  | 74576/100000 [1:36:51<43:41,  9.70it/s]"
     ]
    },
    {
     "name": "stdout",
     "output_type": "stream",
     "text": [
      "self.evaluation_deque: deque([0.7806947780617449, 0.7299966423355969, 0.742700383645417, 0.7225423355407726, 0.7077030761258212, 0.8319267588814905, 0.5702771031584047, 0.6367548038295494, 0.8253510437421807, 0.7935302146997079, 0.7975653886604948, 0.695752114353747, 0.7546364952945549, 0.7870255233082815, 0.7901484019155938, 0.7084029849412588, 0.7993468519960263, 0.5345138787563162, 0.7428678115183431, 0.7487977048385478], maxlen=20)\n",
      "eval_mean: 0.7350267147801925\n"
     ]
    },
    {
     "name": "stderr",
     "output_type": "stream",
     "text": [
      "\r",
      " 75%|██████████████████████████████████████████████████████▍                  | 74652/100000 [1:36:59<44:00,  9.60it/s]"
     ]
    },
    {
     "name": "stdout",
     "output_type": "stream",
     "text": [
      "self.evaluation_deque: deque([0.7806947780617449, 0.7299966423355969, 0.742700383645417, 0.7225423355407726, 0.7077030761258212, 0.8319267588814905, 0.5702771031584047, 0.6367548038295494, 0.8253510437421807, 0.7935302146997079, 0.7975653886604948, 0.695752114353747, 0.7546364952945549, 0.7870255233082815, 0.7901484019155938, 0.7084029849412588, 0.7993468519960263, 0.5345138787563162, 0.7428678115183431, 0.7487977048385478], maxlen=20)\n",
      "eval_mean: 0.7350267147801925\n"
     ]
    },
    {
     "name": "stderr",
     "output_type": "stream",
     "text": [
      "\r",
      " 75%|██████████████████████████████████████████████████████▌                  | 74728/100000 [1:37:06<42:32,  9.90it/s]"
     ]
    },
    {
     "name": "stdout",
     "output_type": "stream",
     "text": [
      "self.evaluation_deque: deque([0.7806947780617449, 0.7299966423355969, 0.742700383645417, 0.7225423355407726, 0.7077030761258212, 0.8319267588814905, 0.5702771031584047, 0.6367548038295494, 0.8253510437421807, 0.7935302146997079, 0.7975653886604948, 0.695752114353747, 0.7546364952945549, 0.7870255233082815, 0.7901484019155938, 0.7084029849412588, 0.7993468519960263, 0.5345138787563162, 0.7428678115183431, 0.7487977048385478], maxlen=20)\n",
      "eval_mean: 0.7350267147801925\n"
     ]
    },
    {
     "name": "stderr",
     "output_type": "stream",
     "text": [
      "\r",
      " 75%|██████████████████████████████████████████████████████▌                  | 74804/100000 [1:37:16<45:50,  9.16it/s]"
     ]
    },
    {
     "name": "stdout",
     "output_type": "stream",
     "text": [
      "self.get_collection_ratio(): 0.49413616862991505\n",
      "self.comms.count(True) : 1\n",
      "len(self.comms) : 1\n",
      "self.state.ratio_commed: 1.0\n",
      "self.comms.count(True) : 1\n",
      "len(self.comms) : 1\n",
      "self.evaluation_deque: deque([0.7299966423355969, 0.742700383645417, 0.7225423355407726, 0.7077030761258212, 0.8319267588814905, 0.5702771031584047, 0.6367548038295494, 0.8253510437421807, 0.7935302146997079, 0.7975653886604948, 0.695752114353747, 0.7546364952945549, 0.7870255233082815, 0.7901484019155938, 0.7084029849412588, 0.7993468519960263, 0.5345138787563162, 0.7428678115183431, 0.7487977048385478, 0.49413616862991505], maxlen=20)\n",
      "eval_mean: 0.720698784308601\n"
     ]
    },
    {
     "name": "stderr",
     "output_type": "stream",
     "text": [
      "\r",
      " 75%|██████████████████████████████████████████████████████▋                  | 74880/100000 [1:37:23<43:44,  9.57it/s]"
     ]
    },
    {
     "name": "stdout",
     "output_type": "stream",
     "text": [
      "self.evaluation_deque: deque([0.7299966423355969, 0.742700383645417, 0.7225423355407726, 0.7077030761258212, 0.8319267588814905, 0.5702771031584047, 0.6367548038295494, 0.8253510437421807, 0.7935302146997079, 0.7975653886604948, 0.695752114353747, 0.7546364952945549, 0.7870255233082815, 0.7901484019155938, 0.7084029849412588, 0.7993468519960263, 0.5345138787563162, 0.7428678115183431, 0.7487977048385478, 0.49413616862991505], maxlen=20)\n",
      "eval_mean: 0.720698784308601\n"
     ]
    },
    {
     "name": "stderr",
     "output_type": "stream",
     "text": [
      "\r",
      " 75%|██████████████████████████████████████████████████████▋                  | 74956/100000 [1:37:31<44:20,  9.41it/s]"
     ]
    },
    {
     "name": "stdout",
     "output_type": "stream",
     "text": [
      "self.evaluation_deque: deque([0.7299966423355969, 0.742700383645417, 0.7225423355407726, 0.7077030761258212, 0.8319267588814905, 0.5702771031584047, 0.6367548038295494, 0.8253510437421807, 0.7935302146997079, 0.7975653886604948, 0.695752114353747, 0.7546364952945549, 0.7870255233082815, 0.7901484019155938, 0.7084029849412588, 0.7993468519960263, 0.5345138787563162, 0.7428678115183431, 0.7487977048385478, 0.49413616862991505], maxlen=20)\n",
      "eval_mean: 0.720698784308601\n"
     ]
    },
    {
     "name": "stderr",
     "output_type": "stream",
     "text": [
      "\r",
      " 75%|██████████████████████████████████████████████████████▊                  | 75032/100000 [1:37:38<41:23, 10.05it/s]"
     ]
    },
    {
     "name": "stdout",
     "output_type": "stream",
     "text": [
      "self.evaluation_deque: deque([0.7299966423355969, 0.742700383645417, 0.7225423355407726, 0.7077030761258212, 0.8319267588814905, 0.5702771031584047, 0.6367548038295494, 0.8253510437421807, 0.7935302146997079, 0.7975653886604948, 0.695752114353747, 0.7546364952945549, 0.7870255233082815, 0.7901484019155938, 0.7084029849412588, 0.7993468519960263, 0.5345138787563162, 0.7428678115183431, 0.7487977048385478, 0.49413616862991505], maxlen=20)\n",
      "eval_mean: 0.720698784308601\n"
     ]
    },
    {
     "name": "stderr",
     "output_type": "stream",
     "text": [
      "\r",
      " 75%|██████████████████████████████████████████████████████▊                  | 75108/100000 [1:37:46<43:07,  9.62it/s]"
     ]
    },
    {
     "name": "stdout",
     "output_type": "stream",
     "text": [
      "self.evaluation_deque: deque([0.7299966423355969, 0.742700383645417, 0.7225423355407726, 0.7077030761258212, 0.8319267588814905, 0.5702771031584047, 0.6367548038295494, 0.8253510437421807, 0.7935302146997079, 0.7975653886604948, 0.695752114353747, 0.7546364952945549, 0.7870255233082815, 0.7901484019155938, 0.7084029849412588, 0.7993468519960263, 0.5345138787563162, 0.7428678115183431, 0.7487977048385478, 0.49413616862991505], maxlen=20)\n",
      "eval_mean: 0.720698784308601\n"
     ]
    },
    {
     "name": "stderr",
     "output_type": "stream",
     "text": [
      "\r",
      " 75%|██████████████████████████████████████████████████████▉                  | 75184/100000 [1:37:57<47:23,  8.73it/s]"
     ]
    },
    {
     "name": "stdout",
     "output_type": "stream",
     "text": [
      "self.get_collection_ratio(): 0.7180236720872194\n",
      "self.comms.count(True) : 3\n",
      "len(self.comms) : 3\n",
      "self.state.ratio_commed: 1.0\n",
      "self.comms.count(True) : 3\n",
      "len(self.comms) : 3\n",
      "self.evaluation_deque: deque([0.742700383645417, 0.7225423355407726, 0.7077030761258212, 0.8319267588814905, 0.5702771031584047, 0.6367548038295494, 0.8253510437421807, 0.7935302146997079, 0.7975653886604948, 0.695752114353747, 0.7546364952945549, 0.7870255233082815, 0.7901484019155938, 0.7084029849412588, 0.7993468519960263, 0.5345138787563162, 0.7428678115183431, 0.7487977048385478, 0.49413616862991505, 0.7180236720872194], maxlen=20)\n",
      "eval_mean: 0.720100135796182\n"
     ]
    },
    {
     "name": "stderr",
     "output_type": "stream",
     "text": [
      "\r",
      " 75%|██████████████████████████████████████████████████████▉                  | 75260/100000 [1:38:05<46:27,  8.88it/s]"
     ]
    },
    {
     "name": "stdout",
     "output_type": "stream",
     "text": [
      "self.evaluation_deque: deque([0.742700383645417, 0.7225423355407726, 0.7077030761258212, 0.8319267588814905, 0.5702771031584047, 0.6367548038295494, 0.8253510437421807, 0.7935302146997079, 0.7975653886604948, 0.695752114353747, 0.7546364952945549, 0.7870255233082815, 0.7901484019155938, 0.7084029849412588, 0.7993468519960263, 0.5345138787563162, 0.7428678115183431, 0.7487977048385478, 0.49413616862991505, 0.7180236720872194], maxlen=20)\n",
      "eval_mean: 0.720100135796182\n"
     ]
    },
    {
     "name": "stderr",
     "output_type": "stream",
     "text": [
      "\r",
      " 75%|██████████████████████████████████████████████████████▉                  | 75336/100000 [1:38:12<43:38,  9.42it/s]"
     ]
    },
    {
     "name": "stdout",
     "output_type": "stream",
     "text": [
      "self.evaluation_deque: deque([0.742700383645417, 0.7225423355407726, 0.7077030761258212, 0.8319267588814905, 0.5702771031584047, 0.6367548038295494, 0.8253510437421807, 0.7935302146997079, 0.7975653886604948, 0.695752114353747, 0.7546364952945549, 0.7870255233082815, 0.7901484019155938, 0.7084029849412588, 0.7993468519960263, 0.5345138787563162, 0.7428678115183431, 0.7487977048385478, 0.49413616862991505, 0.7180236720872194], maxlen=20)\n",
      "eval_mean: 0.720100135796182\n"
     ]
    },
    {
     "name": "stderr",
     "output_type": "stream",
     "text": [
      "\r",
      " 75%|███████████████████████████████████████████████████████                  | 75412/100000 [1:38:19<41:46,  9.81it/s]"
     ]
    },
    {
     "name": "stdout",
     "output_type": "stream",
     "text": [
      "self.evaluation_deque: deque([0.742700383645417, 0.7225423355407726, 0.7077030761258212, 0.8319267588814905, 0.5702771031584047, 0.6367548038295494, 0.8253510437421807, 0.7935302146997079, 0.7975653886604948, 0.695752114353747, 0.7546364952945549, 0.7870255233082815, 0.7901484019155938, 0.7084029849412588, 0.7993468519960263, 0.5345138787563162, 0.7428678115183431, 0.7487977048385478, 0.49413616862991505, 0.7180236720872194], maxlen=20)\n",
      "eval_mean: 0.720100135796182\n"
     ]
    },
    {
     "name": "stderr",
     "output_type": "stream",
     "text": [
      "\r",
      " 75%|███████████████████████████████████████████████████████                  | 75488/100000 [1:38:25<38:22, 10.65it/s]"
     ]
    },
    {
     "name": "stdout",
     "output_type": "stream",
     "text": [
      "self.evaluation_deque: deque([0.742700383645417, 0.7225423355407726, 0.7077030761258212, 0.8319267588814905, 0.5702771031584047, 0.6367548038295494, 0.8253510437421807, 0.7935302146997079, 0.7975653886604948, 0.695752114353747, 0.7546364952945549, 0.7870255233082815, 0.7901484019155938, 0.7084029849412588, 0.7993468519960263, 0.5345138787563162, 0.7428678115183431, 0.7487977048385478, 0.49413616862991505, 0.7180236720872194], maxlen=20)\n",
      "eval_mean: 0.720100135796182\n"
     ]
    },
    {
     "name": "stderr",
     "output_type": "stream",
     "text": [
      "\r",
      " 76%|███████████████████████████████████████████████████████▏                 | 75564/100000 [1:38:33<39:43, 10.25it/s]"
     ]
    },
    {
     "name": "stdout",
     "output_type": "stream",
     "text": [
      "self.get_collection_ratio(): 0.8079892188930592\n",
      "self.comms.count(True) : 2\n",
      "len(self.comms) : 2\n",
      "self.state.ratio_commed: 1.0\n",
      "self.comms.count(True) : 2\n",
      "len(self.comms) : 2\n",
      "self.evaluation_deque: deque([0.7225423355407726, 0.7077030761258212, 0.8319267588814905, 0.5702771031584047, 0.6367548038295494, 0.8253510437421807, 0.7935302146997079, 0.7975653886604948, 0.695752114353747, 0.7546364952945549, 0.7870255233082815, 0.7901484019155938, 0.7084029849412588, 0.7993468519960263, 0.5345138787563162, 0.7428678115183431, 0.7487977048385478, 0.49413616862991505, 0.7180236720872194, 0.8079892188930592], maxlen=20)\n",
      "eval_mean: 0.7233645775585642\n"
     ]
    },
    {
     "name": "stderr",
     "output_type": "stream",
     "text": [
      "\r",
      " 76%|███████████████████████████████████████████████████████▏                 | 75640/100000 [1:38:40<38:56, 10.43it/s]"
     ]
    },
    {
     "name": "stdout",
     "output_type": "stream",
     "text": [
      "self.evaluation_deque: deque([0.7225423355407726, 0.7077030761258212, 0.8319267588814905, 0.5702771031584047, 0.6367548038295494, 0.8253510437421807, 0.7935302146997079, 0.7975653886604948, 0.695752114353747, 0.7546364952945549, 0.7870255233082815, 0.7901484019155938, 0.7084029849412588, 0.7993468519960263, 0.5345138787563162, 0.7428678115183431, 0.7487977048385478, 0.49413616862991505, 0.7180236720872194, 0.8079892188930592], maxlen=20)\n",
      "eval_mean: 0.7233645775585642\n"
     ]
    },
    {
     "name": "stderr",
     "output_type": "stream",
     "text": [
      "\r",
      " 76%|███████████████████████████████████████████████████████▎                 | 75716/100000 [1:38:47<38:16, 10.58it/s]"
     ]
    },
    {
     "name": "stdout",
     "output_type": "stream",
     "text": [
      "self.evaluation_deque: deque([0.7225423355407726, 0.7077030761258212, 0.8319267588814905, 0.5702771031584047, 0.6367548038295494, 0.8253510437421807, 0.7935302146997079, 0.7975653886604948, 0.695752114353747, 0.7546364952945549, 0.7870255233082815, 0.7901484019155938, 0.7084029849412588, 0.7993468519960263, 0.5345138787563162, 0.7428678115183431, 0.7487977048385478, 0.49413616862991505, 0.7180236720872194, 0.8079892188930592], maxlen=20)\n",
      "eval_mean: 0.7233645775585642\n"
     ]
    },
    {
     "name": "stderr",
     "output_type": "stream",
     "text": [
      "\r",
      " 76%|███████████████████████████████████████████████████████▎                 | 75792/100000 [1:38:55<39:39, 10.17it/s]"
     ]
    },
    {
     "name": "stdout",
     "output_type": "stream",
     "text": [
      "self.evaluation_deque: deque([0.7225423355407726, 0.7077030761258212, 0.8319267588814905, 0.5702771031584047, 0.6367548038295494, 0.8253510437421807, 0.7935302146997079, 0.7975653886604948, 0.695752114353747, 0.7546364952945549, 0.7870255233082815, 0.7901484019155938, 0.7084029849412588, 0.7993468519960263, 0.5345138787563162, 0.7428678115183431, 0.7487977048385478, 0.49413616862991505, 0.7180236720872194, 0.8079892188930592], maxlen=20)\n",
      "eval_mean: 0.7233645775585642\n"
     ]
    },
    {
     "name": "stderr",
     "output_type": "stream",
     "text": [
      "\r",
      " 76%|███████████████████████████████████████████████████████▍                 | 75868/100000 [1:39:02<38:46, 10.37it/s]"
     ]
    },
    {
     "name": "stdout",
     "output_type": "stream",
     "text": [
      "self.evaluation_deque: deque([0.7225423355407726, 0.7077030761258212, 0.8319267588814905, 0.5702771031584047, 0.6367548038295494, 0.8253510437421807, 0.7935302146997079, 0.7975653886604948, 0.695752114353747, 0.7546364952945549, 0.7870255233082815, 0.7901484019155938, 0.7084029849412588, 0.7993468519960263, 0.5345138787563162, 0.7428678115183431, 0.7487977048385478, 0.49413616862991505, 0.7180236720872194, 0.8079892188930592], maxlen=20)\n",
      "eval_mean: 0.7233645775585642\n"
     ]
    },
    {
     "name": "stderr",
     "output_type": "stream",
     "text": [
      "\r",
      " 76%|███████████████████████████████████████████████████████▍                 | 75944/100000 [1:39:11<41:40,  9.62it/s]"
     ]
    },
    {
     "name": "stdout",
     "output_type": "stream",
     "text": [
      "self.get_collection_ratio(): 0.7540766135548662\n",
      "self.comms.count(True) : 2\n",
      "len(self.comms) : 2\n",
      "self.state.ratio_commed: 1.0\n",
      "self.comms.count(True) : 2\n",
      "len(self.comms) : 2\n",
      "self.evaluation_deque: deque([0.7077030761258212, 0.8319267588814905, 0.5702771031584047, 0.6367548038295494, 0.8253510437421807, 0.7935302146997079, 0.7975653886604948, 0.695752114353747, 0.7546364952945549, 0.7870255233082815, 0.7901484019155938, 0.7084029849412588, 0.7993468519960263, 0.5345138787563162, 0.7428678115183431, 0.7487977048385478, 0.49413616862991505, 0.7180236720872194, 0.8079892188930592, 0.7540766135548662], maxlen=20)\n",
      "eval_mean: 0.724941291459269\n"
     ]
    },
    {
     "name": "stderr",
     "output_type": "stream",
     "text": [
      "\r",
      " 76%|███████████████████████████████████████████████████████▍                 | 76020/100000 [1:39:18<39:57, 10.00it/s]"
     ]
    },
    {
     "name": "stdout",
     "output_type": "stream",
     "text": [
      "self.evaluation_deque: deque([0.7077030761258212, 0.8319267588814905, 0.5702771031584047, 0.6367548038295494, 0.8253510437421807, 0.7935302146997079, 0.7975653886604948, 0.695752114353747, 0.7546364952945549, 0.7870255233082815, 0.7901484019155938, 0.7084029849412588, 0.7993468519960263, 0.5345138787563162, 0.7428678115183431, 0.7487977048385478, 0.49413616862991505, 0.7180236720872194, 0.8079892188930592, 0.7540766135548662], maxlen=20)\n",
      "eval_mean: 0.724941291459269\n"
     ]
    },
    {
     "name": "stderr",
     "output_type": "stream",
     "text": [
      "\r",
      " 76%|███████████████████████████████████████████████████████▌                 | 76096/100000 [1:39:26<40:37,  9.81it/s]"
     ]
    },
    {
     "name": "stdout",
     "output_type": "stream",
     "text": [
      "self.evaluation_deque: deque([0.7077030761258212, 0.8319267588814905, 0.5702771031584047, 0.6367548038295494, 0.8253510437421807, 0.7935302146997079, 0.7975653886604948, 0.695752114353747, 0.7546364952945549, 0.7870255233082815, 0.7901484019155938, 0.7084029849412588, 0.7993468519960263, 0.5345138787563162, 0.7428678115183431, 0.7487977048385478, 0.49413616862991505, 0.7180236720872194, 0.8079892188930592, 0.7540766135548662], maxlen=20)\n",
      "eval_mean: 0.724941291459269\n"
     ]
    },
    {
     "name": "stderr",
     "output_type": "stream",
     "text": [
      "\r",
      " 76%|███████████████████████████████████████████████████████▌                 | 76172/100000 [1:39:33<39:15, 10.12it/s]"
     ]
    },
    {
     "name": "stdout",
     "output_type": "stream",
     "text": [
      "self.evaluation_deque: deque([0.7077030761258212, 0.8319267588814905, 0.5702771031584047, 0.6367548038295494, 0.8253510437421807, 0.7935302146997079, 0.7975653886604948, 0.695752114353747, 0.7546364952945549, 0.7870255233082815, 0.7901484019155938, 0.7084029849412588, 0.7993468519960263, 0.5345138787563162, 0.7428678115183431, 0.7487977048385478, 0.49413616862991505, 0.7180236720872194, 0.8079892188930592, 0.7540766135548662], maxlen=20)\n",
      "eval_mean: 0.724941291459269\n"
     ]
    },
    {
     "name": "stderr",
     "output_type": "stream",
     "text": [
      "\r",
      " 76%|███████████████████████████████████████████████████████▋                 | 76248/100000 [1:39:41<39:39,  9.98it/s]"
     ]
    },
    {
     "name": "stdout",
     "output_type": "stream",
     "text": [
      "self.evaluation_deque: deque([0.7077030761258212, 0.8319267588814905, 0.5702771031584047, 0.6367548038295494, 0.8253510437421807, 0.7935302146997079, 0.7975653886604948, 0.695752114353747, 0.7546364952945549, 0.7870255233082815, 0.7901484019155938, 0.7084029849412588, 0.7993468519960263, 0.5345138787563162, 0.7428678115183431, 0.7487977048385478, 0.49413616862991505, 0.7180236720872194, 0.8079892188930592, 0.7540766135548662], maxlen=20)\n",
      "eval_mean: 0.724941291459269\n"
     ]
    },
    {
     "name": "stderr",
     "output_type": "stream",
     "text": [
      "\r",
      " 76%|███████████████████████████████████████████████████████▋                 | 76324/100000 [1:39:51<43:21,  9.10it/s]"
     ]
    },
    {
     "name": "stdout",
     "output_type": "stream",
     "text": [
      "self.get_collection_ratio(): 0.8199029191862816\n",
      "self.comms.count(True) : 3\n",
      "len(self.comms) : 3\n",
      "self.state.ratio_commed: 1.0\n",
      "self.comms.count(True) : 3\n",
      "len(self.comms) : 3\n",
      "self.evaluation_deque: deque([0.8319267588814905, 0.5702771031584047, 0.6367548038295494, 0.8253510437421807, 0.7935302146997079, 0.7975653886604948, 0.695752114353747, 0.7546364952945549, 0.7870255233082815, 0.7901484019155938, 0.7084029849412588, 0.7993468519960263, 0.5345138787563162, 0.7428678115183431, 0.7487977048385478, 0.49413616862991505, 0.7180236720872194, 0.8079892188930592, 0.7540766135548662, 0.8199029191862816], maxlen=20)\n",
      "eval_mean: 0.730551283612292\n"
     ]
    },
    {
     "name": "stderr",
     "output_type": "stream",
     "text": [
      "\r",
      " 76%|███████████████████████████████████████████████████████▊                 | 76400/100000 [1:39:57<39:18, 10.01it/s]"
     ]
    },
    {
     "name": "stdout",
     "output_type": "stream",
     "text": [
      "self.evaluation_deque: deque([0.8319267588814905, 0.5702771031584047, 0.6367548038295494, 0.8253510437421807, 0.7935302146997079, 0.7975653886604948, 0.695752114353747, 0.7546364952945549, 0.7870255233082815, 0.7901484019155938, 0.7084029849412588, 0.7993468519960263, 0.5345138787563162, 0.7428678115183431, 0.7487977048385478, 0.49413616862991505, 0.7180236720872194, 0.8079892188930592, 0.7540766135548662, 0.8199029191862816], maxlen=20)\n",
      "eval_mean: 0.730551283612292\n"
     ]
    },
    {
     "name": "stderr",
     "output_type": "stream",
     "text": [
      "\r",
      " 76%|███████████████████████████████████████████████████████▊                 | 76476/100000 [1:40:03<36:23, 10.77it/s]"
     ]
    },
    {
     "name": "stdout",
     "output_type": "stream",
     "text": [
      "self.evaluation_deque: deque([0.8319267588814905, 0.5702771031584047, 0.6367548038295494, 0.8253510437421807, 0.7935302146997079, 0.7975653886604948, 0.695752114353747, 0.7546364952945549, 0.7870255233082815, 0.7901484019155938, 0.7084029849412588, 0.7993468519960263, 0.5345138787563162, 0.7428678115183431, 0.7487977048385478, 0.49413616862991505, 0.7180236720872194, 0.8079892188930592, 0.7540766135548662, 0.8199029191862816], maxlen=20)\n",
      "eval_mean: 0.730551283612292\n"
     ]
    },
    {
     "name": "stderr",
     "output_type": "stream",
     "text": [
      "\r",
      " 77%|███████████████████████████████████████████████████████▉                 | 76552/100000 [1:40:11<37:51, 10.32it/s]"
     ]
    },
    {
     "name": "stdout",
     "output_type": "stream",
     "text": [
      "self.evaluation_deque: deque([0.8319267588814905, 0.5702771031584047, 0.6367548038295494, 0.8253510437421807, 0.7935302146997079, 0.7975653886604948, 0.695752114353747, 0.7546364952945549, 0.7870255233082815, 0.7901484019155938, 0.7084029849412588, 0.7993468519960263, 0.5345138787563162, 0.7428678115183431, 0.7487977048385478, 0.49413616862991505, 0.7180236720872194, 0.8079892188930592, 0.7540766135548662, 0.8199029191862816], maxlen=20)\n",
      "eval_mean: 0.730551283612292\n"
     ]
    },
    {
     "name": "stderr",
     "output_type": "stream",
     "text": [
      "\r",
      " 77%|███████████████████████████████████████████████████████▉                 | 76628/100000 [1:40:16<35:17, 11.04it/s]"
     ]
    },
    {
     "name": "stdout",
     "output_type": "stream",
     "text": [
      "self.evaluation_deque: deque([0.8319267588814905, 0.5702771031584047, 0.6367548038295494, 0.8253510437421807, 0.7935302146997079, 0.7975653886604948, 0.695752114353747, 0.7546364952945549, 0.7870255233082815, 0.7901484019155938, 0.7084029849412588, 0.7993468519960263, 0.5345138787563162, 0.7428678115183431, 0.7487977048385478, 0.49413616862991505, 0.7180236720872194, 0.8079892188930592, 0.7540766135548662, 0.8199029191862816], maxlen=20)\n",
      "eval_mean: 0.730551283612292\n"
     ]
    },
    {
     "name": "stderr",
     "output_type": "stream",
     "text": [
      " 77%|███████████████████████████████████████████████████████▉                 | 76704/100000 [1:40:28<41:40,  9.32it/s]"
     ]
    },
    {
     "name": "stdout",
     "output_type": "stream",
     "text": [
      "self.get_collection_ratio(): 0.8747826884305856\n",
      "self.comms.count(True) : 3\n",
      "len(self.comms) : 3\n",
      "self.state.ratio_commed: 1.0\n",
      "self.comms.count(True) : 3\n",
      "len(self.comms) : 3\n",
      "self.evaluation_deque: deque([0.5702771031584047, 0.6367548038295494, 0.8253510437421807, 0.7935302146997079, 0.7975653886604948, 0.695752114353747, 0.7546364952945549, 0.7870255233082815, 0.7901484019155938, 0.7084029849412588, 0.7993468519960263, 0.5345138787563162, 0.7428678115183431, 0.7487977048385478, 0.49413616862991505, 0.7180236720872194, 0.8079892188930592, 0.7540766135548662, 0.8199029191862816, 0.8747826884305856], maxlen=20)\n",
      "eval_mean: 0.7326940800897467\n"
     ]
    },
    {
     "name": "stderr",
     "output_type": "stream",
     "text": [
      "\r",
      " 77%|████████████████████████████████████████████████████████                 | 76780/100000 [1:40:33<37:50, 10.23it/s]"
     ]
    },
    {
     "name": "stdout",
     "output_type": "stream",
     "text": [
      "self.evaluation_deque: deque([0.5702771031584047, 0.6367548038295494, 0.8253510437421807, 0.7935302146997079, 0.7975653886604948, 0.695752114353747, 0.7546364952945549, 0.7870255233082815, 0.7901484019155938, 0.7084029849412588, 0.7993468519960263, 0.5345138787563162, 0.7428678115183431, 0.7487977048385478, 0.49413616862991505, 0.7180236720872194, 0.8079892188930592, 0.7540766135548662, 0.8199029191862816, 0.8747826884305856], maxlen=20)\n",
      "eval_mean: 0.7326940800897467\n"
     ]
    },
    {
     "name": "stderr",
     "output_type": "stream",
     "text": [
      "\r",
      " 77%|████████████████████████████████████████████████████████                 | 76856/100000 [1:40:40<37:00, 10.42it/s]"
     ]
    },
    {
     "name": "stdout",
     "output_type": "stream",
     "text": [
      "self.evaluation_deque: deque([0.5702771031584047, 0.6367548038295494, 0.8253510437421807, 0.7935302146997079, 0.7975653886604948, 0.695752114353747, 0.7546364952945549, 0.7870255233082815, 0.7901484019155938, 0.7084029849412588, 0.7993468519960263, 0.5345138787563162, 0.7428678115183431, 0.7487977048385478, 0.49413616862991505, 0.7180236720872194, 0.8079892188930592, 0.7540766135548662, 0.8199029191862816, 0.8747826884305856], maxlen=20)\n",
      "eval_mean: 0.7326940800897467\n"
     ]
    },
    {
     "name": "stderr",
     "output_type": "stream",
     "text": [
      "\r",
      " 77%|████████████████████████████████████████████████████████▏                | 76932/100000 [1:40:47<36:25, 10.55it/s]"
     ]
    },
    {
     "name": "stdout",
     "output_type": "stream",
     "text": [
      "self.evaluation_deque: deque([0.5702771031584047, 0.6367548038295494, 0.8253510437421807, 0.7935302146997079, 0.7975653886604948, 0.695752114353747, 0.7546364952945549, 0.7870255233082815, 0.7901484019155938, 0.7084029849412588, 0.7993468519960263, 0.5345138787563162, 0.7428678115183431, 0.7487977048385478, 0.49413616862991505, 0.7180236720872194, 0.8079892188930592, 0.7540766135548662, 0.8199029191862816, 0.8747826884305856], maxlen=20)\n",
      "eval_mean: 0.7326940800897467\n"
     ]
    },
    {
     "name": "stderr",
     "output_type": "stream",
     "text": [
      "\r",
      " 77%|████████████████████████████████████████████████████████▏                | 77008/100000 [1:40:53<34:09, 11.22it/s]"
     ]
    },
    {
     "name": "stdout",
     "output_type": "stream",
     "text": [
      "self.evaluation_deque: deque([0.5702771031584047, 0.6367548038295494, 0.8253510437421807, 0.7935302146997079, 0.7975653886604948, 0.695752114353747, 0.7546364952945549, 0.7870255233082815, 0.7901484019155938, 0.7084029849412588, 0.7993468519960263, 0.5345138787563162, 0.7428678115183431, 0.7487977048385478, 0.49413616862991505, 0.7180236720872194, 0.8079892188930592, 0.7540766135548662, 0.8199029191862816, 0.8747826884305856], maxlen=20)\n",
      "eval_mean: 0.7326940800897467\n"
     ]
    },
    {
     "name": "stderr",
     "output_type": "stream",
     "text": [
      "\r",
      " 77%|████████████████████████████████████████████████████████▎                | 77084/100000 [1:41:04<40:36,  9.41it/s]"
     ]
    },
    {
     "name": "stdout",
     "output_type": "stream",
     "text": [
      "self.get_collection_ratio(): 0.772427422317231\n",
      "self.comms.count(True) : 3\n",
      "len(self.comms) : 3\n",
      "self.state.ratio_commed: 1.0\n",
      "self.comms.count(True) : 3\n",
      "len(self.comms) : 3\n",
      "self.evaluation_deque: deque([0.6367548038295494, 0.8253510437421807, 0.7935302146997079, 0.7975653886604948, 0.695752114353747, 0.7546364952945549, 0.7870255233082815, 0.7901484019155938, 0.7084029849412588, 0.7993468519960263, 0.5345138787563162, 0.7428678115183431, 0.7487977048385478, 0.49413616862991505, 0.7180236720872194, 0.8079892188930592, 0.7540766135548662, 0.8199029191862816, 0.8747826884305856, 0.772427422317231], maxlen=20)\n",
      "eval_mean: 0.7428015960476879\n",
      "Saving best with: 0.7428015960476879\n"
     ]
    },
    {
     "name": "stderr",
     "output_type": "stream",
     "text": [
      "\r",
      " 77%|████████████████████████████████████████████████████████▎                | 77160/100000 [1:41:11<38:43,  9.83it/s]"
     ]
    },
    {
     "name": "stdout",
     "output_type": "stream",
     "text": [
      "self.evaluation_deque: deque([0.6367548038295494, 0.8253510437421807, 0.7935302146997079, 0.7975653886604948, 0.695752114353747, 0.7546364952945549, 0.7870255233082815, 0.7901484019155938, 0.7084029849412588, 0.7993468519960263, 0.5345138787563162, 0.7428678115183431, 0.7487977048385478, 0.49413616862991505, 0.7180236720872194, 0.8079892188930592, 0.7540766135548662, 0.8199029191862816, 0.8747826884305856, 0.772427422317231], maxlen=20)\n",
      "eval_mean: 0.7428015960476879\n"
     ]
    },
    {
     "name": "stderr",
     "output_type": "stream",
     "text": [
      "\r",
      " 77%|████████████████████████████████████████████████████████▍                | 77236/100000 [1:41:17<35:46, 10.61it/s]"
     ]
    },
    {
     "name": "stdout",
     "output_type": "stream",
     "text": [
      "self.evaluation_deque: deque([0.6367548038295494, 0.8253510437421807, 0.7935302146997079, 0.7975653886604948, 0.695752114353747, 0.7546364952945549, 0.7870255233082815, 0.7901484019155938, 0.7084029849412588, 0.7993468519960263, 0.5345138787563162, 0.7428678115183431, 0.7487977048385478, 0.49413616862991505, 0.7180236720872194, 0.8079892188930592, 0.7540766135548662, 0.8199029191862816, 0.8747826884305856, 0.772427422317231], maxlen=20)\n",
      "eval_mean: 0.7428015960476879\n"
     ]
    },
    {
     "name": "stderr",
     "output_type": "stream",
     "text": [
      "\r",
      " 77%|████████████████████████████████████████████████████████▍                | 77312/100000 [1:41:23<33:41, 11.22it/s]"
     ]
    },
    {
     "name": "stdout",
     "output_type": "stream",
     "text": [
      "self.evaluation_deque: deque([0.6367548038295494, 0.8253510437421807, 0.7935302146997079, 0.7975653886604948, 0.695752114353747, 0.7546364952945549, 0.7870255233082815, 0.7901484019155938, 0.7084029849412588, 0.7993468519960263, 0.5345138787563162, 0.7428678115183431, 0.7487977048385478, 0.49413616862991505, 0.7180236720872194, 0.8079892188930592, 0.7540766135548662, 0.8199029191862816, 0.8747826884305856, 0.772427422317231], maxlen=20)\n",
      "eval_mean: 0.7428015960476879\n"
     ]
    },
    {
     "name": "stderr",
     "output_type": "stream",
     "text": [
      "\r",
      " 77%|████████████████████████████████████████████████████████▍                | 77388/100000 [1:41:29<32:08, 11.73it/s]"
     ]
    },
    {
     "name": "stdout",
     "output_type": "stream",
     "text": [
      "self.evaluation_deque: deque([0.6367548038295494, 0.8253510437421807, 0.7935302146997079, 0.7975653886604948, 0.695752114353747, 0.7546364952945549, 0.7870255233082815, 0.7901484019155938, 0.7084029849412588, 0.7993468519960263, 0.5345138787563162, 0.7428678115183431, 0.7487977048385478, 0.49413616862991505, 0.7180236720872194, 0.8079892188930592, 0.7540766135548662, 0.8199029191862816, 0.8747826884305856, 0.772427422317231], maxlen=20)\n",
      "eval_mean: 0.7428015960476879\n"
     ]
    },
    {
     "name": "stderr",
     "output_type": "stream",
     "text": [
      "\r",
      " 77%|████████████████████████████████████████████████████████▌                | 77464/100000 [1:41:38<35:52, 10.47it/s]"
     ]
    },
    {
     "name": "stdout",
     "output_type": "stream",
     "text": [
      "self.get_collection_ratio(): 0.7244080352489773\n",
      "self.comms.count(True) : 2\n",
      "len(self.comms) : 2\n",
      "self.state.ratio_commed: 1.0\n",
      "self.comms.count(True) : 2\n",
      "len(self.comms) : 2\n",
      "self.evaluation_deque: deque([0.8253510437421807, 0.7935302146997079, 0.7975653886604948, 0.695752114353747, 0.7546364952945549, 0.7870255233082815, 0.7901484019155938, 0.7084029849412588, 0.7993468519960263, 0.5345138787563162, 0.7428678115183431, 0.7487977048385478, 0.49413616862991505, 0.7180236720872194, 0.8079892188930592, 0.7540766135548662, 0.8199029191862816, 0.8747826884305856, 0.772427422317231, 0.7244080352489773], maxlen=20)\n",
      "eval_mean: 0.7471842576186594\n",
      "Saving best with: 0.7471842576186594\n"
     ]
    },
    {
     "name": "stderr",
     "output_type": "stream",
     "text": [
      "\r",
      " 78%|████████████████████████████████████████████████████████▌                | 77540/100000 [1:41:46<36:59, 10.12it/s]"
     ]
    },
    {
     "name": "stdout",
     "output_type": "stream",
     "text": [
      "self.evaluation_deque: deque([0.8253510437421807, 0.7935302146997079, 0.7975653886604948, 0.695752114353747, 0.7546364952945549, 0.7870255233082815, 0.7901484019155938, 0.7084029849412588, 0.7993468519960263, 0.5345138787563162, 0.7428678115183431, 0.7487977048385478, 0.49413616862991505, 0.7180236720872194, 0.8079892188930592, 0.7540766135548662, 0.8199029191862816, 0.8747826884305856, 0.772427422317231, 0.7244080352489773], maxlen=20)\n",
      "eval_mean: 0.7471842576186594\n"
     ]
    },
    {
     "name": "stderr",
     "output_type": "stream",
     "text": [
      "\r",
      " 78%|████████████████████████████████████████████████████████▋                | 77616/100000 [1:41:53<36:08, 10.32it/s]"
     ]
    },
    {
     "name": "stdout",
     "output_type": "stream",
     "text": [
      "self.evaluation_deque: deque([0.8253510437421807, 0.7935302146997079, 0.7975653886604948, 0.695752114353747, 0.7546364952945549, 0.7870255233082815, 0.7901484019155938, 0.7084029849412588, 0.7993468519960263, 0.5345138787563162, 0.7428678115183431, 0.7487977048385478, 0.49413616862991505, 0.7180236720872194, 0.8079892188930592, 0.7540766135548662, 0.8199029191862816, 0.8747826884305856, 0.772427422317231, 0.7244080352489773], maxlen=20)\n",
      "eval_mean: 0.7471842576186594\n"
     ]
    },
    {
     "name": "stderr",
     "output_type": "stream",
     "text": [
      "\r",
      " 78%|████████████████████████████████████████████████████████▋                | 77692/100000 [1:42:01<36:57, 10.06it/s]"
     ]
    },
    {
     "name": "stdout",
     "output_type": "stream",
     "text": [
      "self.evaluation_deque: deque([0.8253510437421807, 0.7935302146997079, 0.7975653886604948, 0.695752114353747, 0.7546364952945549, 0.7870255233082815, 0.7901484019155938, 0.7084029849412588, 0.7993468519960263, 0.5345138787563162, 0.7428678115183431, 0.7487977048385478, 0.49413616862991505, 0.7180236720872194, 0.8079892188930592, 0.7540766135548662, 0.8199029191862816, 0.8747826884305856, 0.772427422317231, 0.7244080352489773], maxlen=20)\n",
      "eval_mean: 0.7471842576186594\n"
     ]
    },
    {
     "name": "stderr",
     "output_type": "stream",
     "text": [
      "\r",
      " 78%|████████████████████████████████████████████████████████▊                | 77768/100000 [1:42:07<34:12, 10.83it/s]"
     ]
    },
    {
     "name": "stdout",
     "output_type": "stream",
     "text": [
      "self.evaluation_deque: deque([0.8253510437421807, 0.7935302146997079, 0.7975653886604948, 0.695752114353747, 0.7546364952945549, 0.7870255233082815, 0.7901484019155938, 0.7084029849412588, 0.7993468519960263, 0.5345138787563162, 0.7428678115183431, 0.7487977048385478, 0.49413616862991505, 0.7180236720872194, 0.8079892188930592, 0.7540766135548662, 0.8199029191862816, 0.8747826884305856, 0.772427422317231, 0.7244080352489773], maxlen=20)\n",
      "eval_mean: 0.7471842576186594\n"
     ]
    },
    {
     "name": "stderr",
     "output_type": "stream",
     "text": [
      "\r",
      " 78%|████████████████████████████████████████████████████████▊                | 77844/100000 [1:42:16<38:08,  9.68it/s]"
     ]
    },
    {
     "name": "stdout",
     "output_type": "stream",
     "text": [
      "self.get_collection_ratio(): 0.7743990353742137\n",
      "self.comms.count(True) : 2\n",
      "len(self.comms) : 3\n",
      "self.state.ratio_commed: 0.6666666666666666\n",
      "self.comms.count(True) : 2\n",
      "len(self.comms) : 3\n",
      "self.evaluation_deque: deque([0.7935302146997079, 0.7975653886604948, 0.695752114353747, 0.7546364952945549, 0.7870255233082815, 0.7901484019155938, 0.7084029849412588, 0.7993468519960263, 0.5345138787563162, 0.7428678115183431, 0.7487977048385478, 0.49413616862991505, 0.7180236720872194, 0.8079892188930592, 0.7540766135548662, 0.8199029191862816, 0.8747826884305856, 0.772427422317231, 0.7244080352489773, 0.5162660235828092], maxlen=20)\n",
      "eval_mean: 0.7317300066106907\n"
     ]
    },
    {
     "name": "stderr",
     "output_type": "stream",
     "text": [
      "\r",
      " 78%|████████████████████████████████████████████████████████▉                | 77920/100000 [1:42:22<34:59, 10.52it/s]"
     ]
    },
    {
     "name": "stdout",
     "output_type": "stream",
     "text": [
      "self.evaluation_deque: deque([0.7935302146997079, 0.7975653886604948, 0.695752114353747, 0.7546364952945549, 0.7870255233082815, 0.7901484019155938, 0.7084029849412588, 0.7993468519960263, 0.5345138787563162, 0.7428678115183431, 0.7487977048385478, 0.49413616862991505, 0.7180236720872194, 0.8079892188930592, 0.7540766135548662, 0.8199029191862816, 0.8747826884305856, 0.772427422317231, 0.7244080352489773, 0.5162660235828092], maxlen=20)\n",
      "eval_mean: 0.7317300066106907\n"
     ]
    },
    {
     "name": "stderr",
     "output_type": "stream",
     "text": [
      "\r",
      " 78%|████████████████████████████████████████████████████████▉                | 77996/100000 [1:42:29<34:29, 10.63it/s]"
     ]
    },
    {
     "name": "stdout",
     "output_type": "stream",
     "text": [
      "self.evaluation_deque: deque([0.7935302146997079, 0.7975653886604948, 0.695752114353747, 0.7546364952945549, 0.7870255233082815, 0.7901484019155938, 0.7084029849412588, 0.7993468519960263, 0.5345138787563162, 0.7428678115183431, 0.7487977048385478, 0.49413616862991505, 0.7180236720872194, 0.8079892188930592, 0.7540766135548662, 0.8199029191862816, 0.8747826884305856, 0.772427422317231, 0.7244080352489773, 0.5162660235828092], maxlen=20)\n",
      "eval_mean: 0.7317300066106907\n"
     ]
    },
    {
     "name": "stderr",
     "output_type": "stream",
     "text": [
      "\r",
      " 78%|████████████████████████████████████████████████████████▉                | 78072/100000 [1:42:37<35:41, 10.24it/s]"
     ]
    },
    {
     "name": "stdout",
     "output_type": "stream",
     "text": [
      "self.evaluation_deque: deque([0.7935302146997079, 0.7975653886604948, 0.695752114353747, 0.7546364952945549, 0.7870255233082815, 0.7901484019155938, 0.7084029849412588, 0.7993468519960263, 0.5345138787563162, 0.7428678115183431, 0.7487977048385478, 0.49413616862991505, 0.7180236720872194, 0.8079892188930592, 0.7540766135548662, 0.8199029191862816, 0.8747826884305856, 0.772427422317231, 0.7244080352489773, 0.5162660235828092], maxlen=20)\n",
      "eval_mean: 0.7317300066106907\n"
     ]
    },
    {
     "name": "stderr",
     "output_type": "stream",
     "text": [
      "\r",
      " 78%|█████████████████████████████████████████████████████████                | 78148/100000 [1:42:45<36:28,  9.98it/s]"
     ]
    },
    {
     "name": "stdout",
     "output_type": "stream",
     "text": [
      "self.evaluation_deque: deque([0.7935302146997079, 0.7975653886604948, 0.695752114353747, 0.7546364952945549, 0.7870255233082815, 0.7901484019155938, 0.7084029849412588, 0.7993468519960263, 0.5345138787563162, 0.7428678115183431, 0.7487977048385478, 0.49413616862991505, 0.7180236720872194, 0.8079892188930592, 0.7540766135548662, 0.8199029191862816, 0.8747826884305856, 0.772427422317231, 0.7244080352489773, 0.5162660235828092], maxlen=20)\n",
      "eval_mean: 0.7317300066106907\n"
     ]
    },
    {
     "name": "stderr",
     "output_type": "stream",
     "text": [
      "\r",
      " 78%|█████████████████████████████████████████████████████████                | 78224/100000 [1:42:52<35:52, 10.12it/s]"
     ]
    },
    {
     "name": "stdout",
     "output_type": "stream",
     "text": [
      "self.get_collection_ratio(): 0.4846211367226889\n",
      "self.comms.count(True) : 1\n",
      "len(self.comms) : 1\n",
      "self.state.ratio_commed: 1.0\n",
      "self.comms.count(True) : 1\n",
      "len(self.comms) : 1\n",
      "self.evaluation_deque: deque([0.7975653886604948, 0.695752114353747, 0.7546364952945549, 0.7870255233082815, 0.7901484019155938, 0.7084029849412588, 0.7993468519960263, 0.5345138787563162, 0.7428678115183431, 0.7487977048385478, 0.49413616862991505, 0.7180236720872194, 0.8079892188930592, 0.7540766135548662, 0.8199029191862816, 0.8747826884305856, 0.772427422317231, 0.7244080352489773, 0.5162660235828092, 0.4846211367226889], maxlen=20)\n",
      "eval_mean: 0.7162845527118398\n"
     ]
    },
    {
     "name": "stderr",
     "output_type": "stream",
     "text": [
      " 78%|█████████████████████████████████████████████████████████▏               | 78300/100000 [1:43:09<48:44,  7.42it/s]"
     ]
    },
    {
     "name": "stdout",
     "output_type": "stream",
     "text": [
      "self.evaluation_deque: deque([0.7975653886604948, 0.695752114353747, 0.7546364952945549, 0.7870255233082815, 0.7901484019155938, 0.7084029849412588, 0.7993468519960263, 0.5345138787563162, 0.7428678115183431, 0.7487977048385478, 0.49413616862991505, 0.7180236720872194, 0.8079892188930592, 0.7540766135548662, 0.8199029191862816, 0.8747826884305856, 0.772427422317231, 0.7244080352489773, 0.5162660235828092, 0.4846211367226889], maxlen=20)\n",
      "eval_mean: 0.7162845527118398\n"
     ]
    },
    {
     "name": "stderr",
     "output_type": "stream",
     "text": [
      "\r",
      " 78%|█████████████████████████████████████████████████████████▏               | 78376/100000 [1:43:16<43:47,  8.23it/s]"
     ]
    },
    {
     "name": "stdout",
     "output_type": "stream",
     "text": [
      "self.evaluation_deque: deque([0.7975653886604948, 0.695752114353747, 0.7546364952945549, 0.7870255233082815, 0.7901484019155938, 0.7084029849412588, 0.7993468519960263, 0.5345138787563162, 0.7428678115183431, 0.7487977048385478, 0.49413616862991505, 0.7180236720872194, 0.8079892188930592, 0.7540766135548662, 0.8199029191862816, 0.8747826884305856, 0.772427422317231, 0.7244080352489773, 0.5162660235828092, 0.4846211367226889], maxlen=20)\n",
      "eval_mean: 0.7162845527118398\n"
     ]
    },
    {
     "name": "stderr",
     "output_type": "stream",
     "text": [
      "\r",
      " 78%|█████████████████████████████████████████████████████████▎               | 78452/100000 [1:43:23<40:34,  8.85it/s]"
     ]
    },
    {
     "name": "stdout",
     "output_type": "stream",
     "text": [
      "self.evaluation_deque: deque([0.7975653886604948, 0.695752114353747, 0.7546364952945549, 0.7870255233082815, 0.7901484019155938, 0.7084029849412588, 0.7993468519960263, 0.5345138787563162, 0.7428678115183431, 0.7487977048385478, 0.49413616862991505, 0.7180236720872194, 0.8079892188930592, 0.7540766135548662, 0.8199029191862816, 0.8747826884305856, 0.772427422317231, 0.7244080352489773, 0.5162660235828092, 0.4846211367226889], maxlen=20)\n",
      "eval_mean: 0.7162845527118398\n"
     ]
    },
    {
     "name": "stderr",
     "output_type": "stream",
     "text": [
      "\r",
      " 79%|█████████████████████████████████████████████████████████▎               | 78528/100000 [1:43:29<36:26,  9.82it/s]"
     ]
    },
    {
     "name": "stdout",
     "output_type": "stream",
     "text": [
      "self.evaluation_deque: deque([0.7975653886604948, 0.695752114353747, 0.7546364952945549, 0.7870255233082815, 0.7901484019155938, 0.7084029849412588, 0.7993468519960263, 0.5345138787563162, 0.7428678115183431, 0.7487977048385478, 0.49413616862991505, 0.7180236720872194, 0.8079892188930592, 0.7540766135548662, 0.8199029191862816, 0.8747826884305856, 0.772427422317231, 0.7244080352489773, 0.5162660235828092, 0.4846211367226889], maxlen=20)\n",
      "eval_mean: 0.7162845527118398\n"
     ]
    },
    {
     "name": "stderr",
     "output_type": "stream",
     "text": [
      "\r",
      " 79%|█████████████████████████████████████████████████████████▍               | 78604/100000 [1:43:38<38:09,  9.34it/s]"
     ]
    },
    {
     "name": "stdout",
     "output_type": "stream",
     "text": [
      "self.get_collection_ratio(): 0.7720719918749223\n",
      "self.comms.count(True) : 1\n",
      "len(self.comms) : 2\n",
      "self.state.ratio_commed: 0.5\n",
      "self.comms.count(True) : 1\n",
      "len(self.comms) : 2\n",
      "self.evaluation_deque: deque([0.695752114353747, 0.7546364952945549, 0.7870255233082815, 0.7901484019155938, 0.7084029849412588, 0.7993468519960263, 0.5345138787563162, 0.7428678115183431, 0.7487977048385478, 0.49413616862991505, 0.7180236720872194, 0.8079892188930592, 0.7540766135548662, 0.8199029191862816, 0.8747826884305856, 0.772427422317231, 0.7244080352489773, 0.5162660235828092, 0.4846211367226889, 0.38603599593746113], maxlen=20)\n",
      "eval_mean: 0.6957080830756882\n"
     ]
    },
    {
     "name": "stderr",
     "output_type": "stream",
     "text": [
      "\r",
      " 79%|█████████████████████████████████████████████████████████▍               | 78680/100000 [1:43:44<34:51, 10.19it/s]"
     ]
    },
    {
     "name": "stdout",
     "output_type": "stream",
     "text": [
      "self.evaluation_deque: deque([0.695752114353747, 0.7546364952945549, 0.7870255233082815, 0.7901484019155938, 0.7084029849412588, 0.7993468519960263, 0.5345138787563162, 0.7428678115183431, 0.7487977048385478, 0.49413616862991505, 0.7180236720872194, 0.8079892188930592, 0.7540766135548662, 0.8199029191862816, 0.8747826884305856, 0.772427422317231, 0.7244080352489773, 0.5162660235828092, 0.4846211367226889, 0.38603599593746113], maxlen=20)\n",
      "eval_mean: 0.6957080830756882\n"
     ]
    },
    {
     "name": "stderr",
     "output_type": "stream",
     "text": [
      "\r",
      " 79%|█████████████████████████████████████████████████████████▍               | 78756/100000 [1:43:52<35:35,  9.95it/s]"
     ]
    },
    {
     "name": "stdout",
     "output_type": "stream",
     "text": [
      "self.evaluation_deque: deque([0.695752114353747, 0.7546364952945549, 0.7870255233082815, 0.7901484019155938, 0.7084029849412588, 0.7993468519960263, 0.5345138787563162, 0.7428678115183431, 0.7487977048385478, 0.49413616862991505, 0.7180236720872194, 0.8079892188930592, 0.7540766135548662, 0.8199029191862816, 0.8747826884305856, 0.772427422317231, 0.7244080352489773, 0.5162660235828092, 0.4846211367226889, 0.38603599593746113], maxlen=20)\n",
      "eval_mean: 0.6957080830756882\n"
     ]
    },
    {
     "name": "stderr",
     "output_type": "stream",
     "text": [
      "\r",
      " 79%|█████████████████████████████████████████████████████████▌               | 78832/100000 [1:44:00<36:02,  9.79it/s]"
     ]
    },
    {
     "name": "stdout",
     "output_type": "stream",
     "text": [
      "self.evaluation_deque: deque([0.695752114353747, 0.7546364952945549, 0.7870255233082815, 0.7901484019155938, 0.7084029849412588, 0.7993468519960263, 0.5345138787563162, 0.7428678115183431, 0.7487977048385478, 0.49413616862991505, 0.7180236720872194, 0.8079892188930592, 0.7540766135548662, 0.8199029191862816, 0.8747826884305856, 0.772427422317231, 0.7244080352489773, 0.5162660235828092, 0.4846211367226889, 0.38603599593746113], maxlen=20)\n",
      "eval_mean: 0.6957080830756882\n"
     ]
    },
    {
     "name": "stderr",
     "output_type": "stream",
     "text": [
      "\r",
      " 79%|█████████████████████████████████████████████████████████▌               | 78908/100000 [1:44:06<34:21, 10.23it/s]"
     ]
    },
    {
     "name": "stdout",
     "output_type": "stream",
     "text": [
      "self.evaluation_deque: deque([0.695752114353747, 0.7546364952945549, 0.7870255233082815, 0.7901484019155938, 0.7084029849412588, 0.7993468519960263, 0.5345138787563162, 0.7428678115183431, 0.7487977048385478, 0.49413616862991505, 0.7180236720872194, 0.8079892188930592, 0.7540766135548662, 0.8199029191862816, 0.8747826884305856, 0.772427422317231, 0.7244080352489773, 0.5162660235828092, 0.4846211367226889, 0.38603599593746113], maxlen=20)\n",
      "eval_mean: 0.6957080830756882\n"
     ]
    },
    {
     "name": "stderr",
     "output_type": "stream",
     "text": [
      "\r",
      " 79%|█████████████████████████████████████████████████████████▋               | 78984/100000 [1:44:16<37:39,  9.30it/s]"
     ]
    },
    {
     "name": "stdout",
     "output_type": "stream",
     "text": [
      "self.get_collection_ratio(): 0.8041253082228285\n",
      "self.comms.count(True) : 2\n",
      "len(self.comms) : 3\n",
      "self.state.ratio_commed: 0.6666666666666666\n",
      "self.comms.count(True) : 2\n",
      "len(self.comms) : 3\n",
      "self.evaluation_deque: deque([0.7546364952945549, 0.7870255233082815, 0.7901484019155938, 0.7084029849412588, 0.7993468519960263, 0.5345138787563162, 0.7428678115183431, 0.7487977048385478, 0.49413616862991505, 0.7180236720872194, 0.8079892188930592, 0.7540766135548662, 0.8199029191862816, 0.8747826884305856, 0.772427422317231, 0.7244080352489773, 0.5162660235828092, 0.4846211367226889, 0.38603599593746113, 0.536083538815219], maxlen=20)\n",
      "eval_mean: 0.6877246542987618\n"
     ]
    },
    {
     "name": "stderr",
     "output_type": "stream",
     "text": [
      "\r",
      " 79%|█████████████████████████████████████████████████████████▋               | 79060/100000 [1:44:23<35:55,  9.72it/s]"
     ]
    },
    {
     "name": "stdout",
     "output_type": "stream",
     "text": [
      "self.evaluation_deque: deque([0.7546364952945549, 0.7870255233082815, 0.7901484019155938, 0.7084029849412588, 0.7993468519960263, 0.5345138787563162, 0.7428678115183431, 0.7487977048385478, 0.49413616862991505, 0.7180236720872194, 0.8079892188930592, 0.7540766135548662, 0.8199029191862816, 0.8747826884305856, 0.772427422317231, 0.7244080352489773, 0.5162660235828092, 0.4846211367226889, 0.38603599593746113, 0.536083538815219], maxlen=20)\n",
      "eval_mean: 0.6877246542987618\n"
     ]
    },
    {
     "name": "stderr",
     "output_type": "stream",
     "text": [
      "\r",
      " 79%|█████████████████████████████████████████████████████████▊               | 79136/100000 [1:44:31<35:56,  9.68it/s]"
     ]
    },
    {
     "name": "stdout",
     "output_type": "stream",
     "text": [
      "self.evaluation_deque: deque([0.7546364952945549, 0.7870255233082815, 0.7901484019155938, 0.7084029849412588, 0.7993468519960263, 0.5345138787563162, 0.7428678115183431, 0.7487977048385478, 0.49413616862991505, 0.7180236720872194, 0.8079892188930592, 0.7540766135548662, 0.8199029191862816, 0.8747826884305856, 0.772427422317231, 0.7244080352489773, 0.5162660235828092, 0.4846211367226889, 0.38603599593746113, 0.536083538815219], maxlen=20)\n",
      "eval_mean: 0.6877246542987618\n"
     ]
    },
    {
     "name": "stderr",
     "output_type": "stream",
     "text": [
      "\r",
      " 79%|█████████████████████████████████████████████████████████▊               | 79212/100000 [1:44:38<34:32, 10.03it/s]"
     ]
    },
    {
     "name": "stdout",
     "output_type": "stream",
     "text": [
      "self.evaluation_deque: deque([0.7546364952945549, 0.7870255233082815, 0.7901484019155938, 0.7084029849412588, 0.7993468519960263, 0.5345138787563162, 0.7428678115183431, 0.7487977048385478, 0.49413616862991505, 0.7180236720872194, 0.8079892188930592, 0.7540766135548662, 0.8199029191862816, 0.8747826884305856, 0.772427422317231, 0.7244080352489773, 0.5162660235828092, 0.4846211367226889, 0.38603599593746113, 0.536083538815219], maxlen=20)\n",
      "eval_mean: 0.6877246542987618\n"
     ]
    },
    {
     "name": "stderr",
     "output_type": "stream",
     "text": [
      "\r",
      " 79%|█████████████████████████████████████████████████████████▉               | 79288/100000 [1:44:44<31:54, 10.82it/s]"
     ]
    },
    {
     "name": "stdout",
     "output_type": "stream",
     "text": [
      "self.evaluation_deque: deque([0.7546364952945549, 0.7870255233082815, 0.7901484019155938, 0.7084029849412588, 0.7993468519960263, 0.5345138787563162, 0.7428678115183431, 0.7487977048385478, 0.49413616862991505, 0.7180236720872194, 0.8079892188930592, 0.7540766135548662, 0.8199029191862816, 0.8747826884305856, 0.772427422317231, 0.7244080352489773, 0.5162660235828092, 0.4846211367226889, 0.38603599593746113, 0.536083538815219], maxlen=20)\n",
      "eval_mean: 0.6877246542987618\n"
     ]
    },
    {
     "name": "stderr",
     "output_type": "stream",
     "text": [
      " 79%|█████████████████████████████████████████████████████████▉               | 79364/100000 [1:44:55<37:28,  9.18it/s]"
     ]
    },
    {
     "name": "stdout",
     "output_type": "stream",
     "text": [
      "self.get_collection_ratio(): 0.8322717396966398\n",
      "self.comms.count(True) : 3\n",
      "len(self.comms) : 3\n",
      "self.state.ratio_commed: 1.0\n",
      "self.comms.count(True) : 3\n",
      "len(self.comms) : 3\n",
      "self.evaluation_deque: deque([0.7870255233082815, 0.7901484019155938, 0.7084029849412588, 0.7993468519960263, 0.5345138787563162, 0.7428678115183431, 0.7487977048385478, 0.49413616862991505, 0.7180236720872194, 0.8079892188930592, 0.7540766135548662, 0.8199029191862816, 0.8747826884305856, 0.772427422317231, 0.7244080352489773, 0.5162660235828092, 0.4846211367226889, 0.38603599593746113, 0.536083538815219, 0.8322717396966398], maxlen=20)\n",
      "eval_mean: 0.6916064165188661\n"
     ]
    },
    {
     "name": "stderr",
     "output_type": "stream",
     "text": [
      "\r",
      " 79%|█████████████████████████████████████████████████████████▉               | 79440/100000 [1:45:01<33:55, 10.10it/s]"
     ]
    },
    {
     "name": "stdout",
     "output_type": "stream",
     "text": [
      "self.evaluation_deque: deque([0.7870255233082815, 0.7901484019155938, 0.7084029849412588, 0.7993468519960263, 0.5345138787563162, 0.7428678115183431, 0.7487977048385478, 0.49413616862991505, 0.7180236720872194, 0.8079892188930592, 0.7540766135548662, 0.8199029191862816, 0.8747826884305856, 0.772427422317231, 0.7244080352489773, 0.5162660235828092, 0.4846211367226889, 0.38603599593746113, 0.536083538815219, 0.8322717396966398], maxlen=20)\n",
      "eval_mean: 0.6916064165188661\n"
     ]
    },
    {
     "name": "stderr",
     "output_type": "stream",
     "text": [
      "\r",
      " 80%|██████████████████████████████████████████████████████████               | 79516/100000 [1:45:09<34:32,  9.88it/s]"
     ]
    },
    {
     "name": "stdout",
     "output_type": "stream",
     "text": [
      "self.evaluation_deque: deque([0.7870255233082815, 0.7901484019155938, 0.7084029849412588, 0.7993468519960263, 0.5345138787563162, 0.7428678115183431, 0.7487977048385478, 0.49413616862991505, 0.7180236720872194, 0.8079892188930592, 0.7540766135548662, 0.8199029191862816, 0.8747826884305856, 0.772427422317231, 0.7244080352489773, 0.5162660235828092, 0.4846211367226889, 0.38603599593746113, 0.536083538815219, 0.8322717396966398], maxlen=20)\n",
      "eval_mean: 0.6916064165188661\n"
     ]
    },
    {
     "name": "stderr",
     "output_type": "stream",
     "text": [
      "\r",
      " 80%|██████████████████████████████████████████████████████████               | 79592/100000 [1:45:16<33:20, 10.20it/s]"
     ]
    },
    {
     "name": "stdout",
     "output_type": "stream",
     "text": [
      "self.evaluation_deque: deque([0.7870255233082815, 0.7901484019155938, 0.7084029849412588, 0.7993468519960263, 0.5345138787563162, 0.7428678115183431, 0.7487977048385478, 0.49413616862991505, 0.7180236720872194, 0.8079892188930592, 0.7540766135548662, 0.8199029191862816, 0.8747826884305856, 0.772427422317231, 0.7244080352489773, 0.5162660235828092, 0.4846211367226889, 0.38603599593746113, 0.536083538815219, 0.8322717396966398], maxlen=20)\n",
      "eval_mean: 0.6916064165188661\n"
     ]
    },
    {
     "name": "stderr",
     "output_type": "stream",
     "text": [
      "\r",
      " 80%|██████████████████████████████████████████████████████████▏              | 79668/100000 [1:45:22<30:54, 10.96it/s]"
     ]
    },
    {
     "name": "stdout",
     "output_type": "stream",
     "text": [
      "self.evaluation_deque: deque([0.7870255233082815, 0.7901484019155938, 0.7084029849412588, 0.7993468519960263, 0.5345138787563162, 0.7428678115183431, 0.7487977048385478, 0.49413616862991505, 0.7180236720872194, 0.8079892188930592, 0.7540766135548662, 0.8199029191862816, 0.8747826884305856, 0.772427422317231, 0.7244080352489773, 0.5162660235828092, 0.4846211367226889, 0.38603599593746113, 0.536083538815219, 0.8322717396966398], maxlen=20)\n",
      "eval_mean: 0.6916064165188661\n"
     ]
    },
    {
     "name": "stderr",
     "output_type": "stream",
     "text": [
      "\r",
      " 80%|██████████████████████████████████████████████████████████▏              | 79744/100000 [1:45:30<33:10, 10.18it/s]"
     ]
    },
    {
     "name": "stdout",
     "output_type": "stream",
     "text": [
      "self.get_collection_ratio(): 0.8637023328500075\n",
      "self.comms.count(True) : 2\n",
      "len(self.comms) : 3\n",
      "self.state.ratio_commed: 0.6666666666666666\n",
      "self.comms.count(True) : 2\n",
      "len(self.comms) : 3\n",
      "self.evaluation_deque: deque([0.7901484019155938, 0.7084029849412588, 0.7993468519960263, 0.5345138787563162, 0.7428678115183431, 0.7487977048385478, 0.49413616862991505, 0.7180236720872194, 0.8079892188930592, 0.7540766135548662, 0.8199029191862816, 0.8747826884305856, 0.772427422317231, 0.7244080352489773, 0.5162660235828092, 0.4846211367226889, 0.38603599593746113, 0.536083538815219, 0.8322717396966398, 0.5758015552333383], maxlen=20)\n",
      "eval_mean: 0.6810452181151189\n"
     ]
    },
    {
     "name": "stderr",
     "output_type": "stream",
     "text": [
      "\r",
      " 80%|██████████████████████████████████████████████████████████▎              | 79820/100000 [1:45:38<33:53,  9.93it/s]"
     ]
    },
    {
     "name": "stdout",
     "output_type": "stream",
     "text": [
      "self.evaluation_deque: deque([0.7901484019155938, 0.7084029849412588, 0.7993468519960263, 0.5345138787563162, 0.7428678115183431, 0.7487977048385478, 0.49413616862991505, 0.7180236720872194, 0.8079892188930592, 0.7540766135548662, 0.8199029191862816, 0.8747826884305856, 0.772427422317231, 0.7244080352489773, 0.5162660235828092, 0.4846211367226889, 0.38603599593746113, 0.536083538815219, 0.8322717396966398, 0.5758015552333383], maxlen=20)\n",
      "eval_mean: 0.6810452181151189\n"
     ]
    },
    {
     "name": "stderr",
     "output_type": "stream",
     "text": [
      "\r",
      " 80%|██████████████████████████████████████████████████████████▎              | 79896/100000 [1:45:44<31:15, 10.72it/s]"
     ]
    },
    {
     "name": "stdout",
     "output_type": "stream",
     "text": [
      "self.evaluation_deque: deque([0.7901484019155938, 0.7084029849412588, 0.7993468519960263, 0.5345138787563162, 0.7428678115183431, 0.7487977048385478, 0.49413616862991505, 0.7180236720872194, 0.8079892188930592, 0.7540766135548662, 0.8199029191862816, 0.8747826884305856, 0.772427422317231, 0.7244080352489773, 0.5162660235828092, 0.4846211367226889, 0.38603599593746113, 0.536083538815219, 0.8322717396966398, 0.5758015552333383], maxlen=20)\n",
      "eval_mean: 0.6810452181151189\n"
     ]
    },
    {
     "name": "stderr",
     "output_type": "stream",
     "text": [
      "\r",
      " 80%|██████████████████████████████████████████████████████████▍              | 79972/100000 [1:45:51<30:55, 10.80it/s]"
     ]
    },
    {
     "name": "stdout",
     "output_type": "stream",
     "text": [
      "self.evaluation_deque: deque([0.7901484019155938, 0.7084029849412588, 0.7993468519960263, 0.5345138787563162, 0.7428678115183431, 0.7487977048385478, 0.49413616862991505, 0.7180236720872194, 0.8079892188930592, 0.7540766135548662, 0.8199029191862816, 0.8747826884305856, 0.772427422317231, 0.7244080352489773, 0.5162660235828092, 0.4846211367226889, 0.38603599593746113, 0.536083538815219, 0.8322717396966398, 0.5758015552333383], maxlen=20)\n",
      "eval_mean: 0.6810452181151189\n"
     ]
    },
    {
     "name": "stderr",
     "output_type": "stream",
     "text": [
      "\r",
      " 80%|██████████████████████████████████████████████████████████▍              | 80048/100000 [1:45:59<32:07, 10.35it/s]"
     ]
    },
    {
     "name": "stdout",
     "output_type": "stream",
     "text": [
      "self.evaluation_deque: deque([0.7901484019155938, 0.7084029849412588, 0.7993468519960263, 0.5345138787563162, 0.7428678115183431, 0.7487977048385478, 0.49413616862991505, 0.7180236720872194, 0.8079892188930592, 0.7540766135548662, 0.8199029191862816, 0.8747826884305856, 0.772427422317231, 0.7244080352489773, 0.5162660235828092, 0.4846211367226889, 0.38603599593746113, 0.536083538815219, 0.8322717396966398, 0.5758015552333383], maxlen=20)\n",
      "eval_mean: 0.6810452181151189\n"
     ]
    },
    {
     "name": "stderr",
     "output_type": "stream",
     "text": [
      "\r",
      " 80%|██████████████████████████████████████████████████████████▍              | 80124/100000 [1:46:09<35:37,  9.30it/s]"
     ]
    },
    {
     "name": "stdout",
     "output_type": "stream",
     "text": [
      "self.get_collection_ratio(): 0.8190448552214858\n",
      "self.comms.count(True) : 3\n",
      "len(self.comms) : 3\n",
      "self.state.ratio_commed: 1.0\n",
      "self.comms.count(True) : 3\n",
      "len(self.comms) : 3\n",
      "self.evaluation_deque: deque([0.7084029849412588, 0.7993468519960263, 0.5345138787563162, 0.7428678115183431, 0.7487977048385478, 0.49413616862991505, 0.7180236720872194, 0.8079892188930592, 0.7540766135548662, 0.8199029191862816, 0.8747826884305856, 0.772427422317231, 0.7244080352489773, 0.5162660235828092, 0.4846211367226889, 0.38603599593746113, 0.536083538815219, 0.8322717396966398, 0.5758015552333383, 0.8190448552214858], maxlen=20)\n",
      "eval_mean: 0.6824900407804136\n"
     ]
    },
    {
     "name": "stderr",
     "output_type": "stream",
     "text": [
      "\r",
      " 80%|██████████████████████████████████████████████████████████▌              | 80200/100000 [1:46:17<35:22,  9.33it/s]"
     ]
    },
    {
     "name": "stdout",
     "output_type": "stream",
     "text": [
      "self.evaluation_deque: deque([0.7084029849412588, 0.7993468519960263, 0.5345138787563162, 0.7428678115183431, 0.7487977048385478, 0.49413616862991505, 0.7180236720872194, 0.8079892188930592, 0.7540766135548662, 0.8199029191862816, 0.8747826884305856, 0.772427422317231, 0.7244080352489773, 0.5162660235828092, 0.4846211367226889, 0.38603599593746113, 0.536083538815219, 0.8322717396966398, 0.5758015552333383, 0.8190448552214858], maxlen=20)\n",
      "eval_mean: 0.6824900407804136\n"
     ]
    },
    {
     "name": "stderr",
     "output_type": "stream",
     "text": [
      "\r",
      " 80%|██████████████████████████████████████████████████████████▌              | 80276/100000 [1:46:24<33:33,  9.80it/s]"
     ]
    },
    {
     "name": "stdout",
     "output_type": "stream",
     "text": [
      "self.evaluation_deque: deque([0.7084029849412588, 0.7993468519960263, 0.5345138787563162, 0.7428678115183431, 0.7487977048385478, 0.49413616862991505, 0.7180236720872194, 0.8079892188930592, 0.7540766135548662, 0.8199029191862816, 0.8747826884305856, 0.772427422317231, 0.7244080352489773, 0.5162660235828092, 0.4846211367226889, 0.38603599593746113, 0.536083538815219, 0.8322717396966398, 0.5758015552333383, 0.8190448552214858], maxlen=20)\n",
      "eval_mean: 0.6824900407804136\n"
     ]
    },
    {
     "name": "stderr",
     "output_type": "stream",
     "text": [
      "\r",
      " 80%|██████████████████████████████████████████████████████████▋              | 80352/100000 [1:46:31<32:19, 10.13it/s]"
     ]
    },
    {
     "name": "stdout",
     "output_type": "stream",
     "text": [
      "self.evaluation_deque: deque([0.7084029849412588, 0.7993468519960263, 0.5345138787563162, 0.7428678115183431, 0.7487977048385478, 0.49413616862991505, 0.7180236720872194, 0.8079892188930592, 0.7540766135548662, 0.8199029191862816, 0.8747826884305856, 0.772427422317231, 0.7244080352489773, 0.5162660235828092, 0.4846211367226889, 0.38603599593746113, 0.536083538815219, 0.8322717396966398, 0.5758015552333383, 0.8190448552214858], maxlen=20)\n",
      "eval_mean: 0.6824900407804136\n"
     ]
    },
    {
     "name": "stderr",
     "output_type": "stream",
     "text": [
      "\r",
      " 80%|██████████████████████████████████████████████████████████▋              | 80428/100000 [1:46:38<31:28, 10.36it/s]"
     ]
    },
    {
     "name": "stdout",
     "output_type": "stream",
     "text": [
      "self.evaluation_deque: deque([0.7084029849412588, 0.7993468519960263, 0.5345138787563162, 0.7428678115183431, 0.7487977048385478, 0.49413616862991505, 0.7180236720872194, 0.8079892188930592, 0.7540766135548662, 0.8199029191862816, 0.8747826884305856, 0.772427422317231, 0.7244080352489773, 0.5162660235828092, 0.4846211367226889, 0.38603599593746113, 0.536083538815219, 0.8322717396966398, 0.5758015552333383, 0.8190448552214858], maxlen=20)\n",
      "eval_mean: 0.6824900407804136\n"
     ]
    },
    {
     "name": "stderr",
     "output_type": "stream",
     "text": [
      "\r",
      " 81%|██████████████████████████████████████████████████████████▊              | 80504/100000 [1:46:46<32:14, 10.08it/s]"
     ]
    },
    {
     "name": "stdout",
     "output_type": "stream",
     "text": [
      "self.get_collection_ratio(): 0.7481893008831936\n",
      "self.comms.count(True) : 2\n",
      "len(self.comms) : 2\n",
      "self.state.ratio_commed: 1.0\n",
      "self.comms.count(True) : 2\n",
      "len(self.comms) : 2\n",
      "self.evaluation_deque: deque([0.7993468519960263, 0.5345138787563162, 0.7428678115183431, 0.7487977048385478, 0.49413616862991505, 0.7180236720872194, 0.8079892188930592, 0.7540766135548662, 0.8199029191862816, 0.8747826884305856, 0.772427422317231, 0.7244080352489773, 0.5162660235828092, 0.4846211367226889, 0.38603599593746113, 0.536083538815219, 0.8322717396966398, 0.5758015552333383, 0.8190448552214858, 0.7481893008831936], maxlen=20)\n",
      "eval_mean: 0.6844793565775104\n"
     ]
    },
    {
     "name": "stderr",
     "output_type": "stream",
     "text": [
      "\r",
      " 81%|██████████████████████████████████████████████████████████▊              | 80580/100000 [1:46:53<31:19, 10.33it/s]"
     ]
    },
    {
     "name": "stdout",
     "output_type": "stream",
     "text": [
      "self.evaluation_deque: deque([0.7993468519960263, 0.5345138787563162, 0.7428678115183431, 0.7487977048385478, 0.49413616862991505, 0.7180236720872194, 0.8079892188930592, 0.7540766135548662, 0.8199029191862816, 0.8747826884305856, 0.772427422317231, 0.7244080352489773, 0.5162660235828092, 0.4846211367226889, 0.38603599593746113, 0.536083538815219, 0.8322717396966398, 0.5758015552333383, 0.8190448552214858, 0.7481893008831936], maxlen=20)\n",
      "eval_mean: 0.6844793565775104\n"
     ]
    },
    {
     "name": "stderr",
     "output_type": "stream",
     "text": [
      "\r",
      " 81%|██████████████████████████████████████████████████████████▉              | 80656/100000 [1:47:01<32:07, 10.04it/s]"
     ]
    },
    {
     "name": "stdout",
     "output_type": "stream",
     "text": [
      "self.evaluation_deque: deque([0.7993468519960263, 0.5345138787563162, 0.7428678115183431, 0.7487977048385478, 0.49413616862991505, 0.7180236720872194, 0.8079892188930592, 0.7540766135548662, 0.8199029191862816, 0.8747826884305856, 0.772427422317231, 0.7244080352489773, 0.5162660235828092, 0.4846211367226889, 0.38603599593746113, 0.536083538815219, 0.8322717396966398, 0.5758015552333383, 0.8190448552214858, 0.7481893008831936], maxlen=20)\n",
      "eval_mean: 0.6844793565775104\n"
     ]
    },
    {
     "name": "stderr",
     "output_type": "stream",
     "text": [
      "\r",
      " 81%|██████████████████████████████████████████████████████████▉              | 80732/100000 [1:47:09<32:40,  9.83it/s]"
     ]
    },
    {
     "name": "stdout",
     "output_type": "stream",
     "text": [
      "self.evaluation_deque: deque([0.7993468519960263, 0.5345138787563162, 0.7428678115183431, 0.7487977048385478, 0.49413616862991505, 0.7180236720872194, 0.8079892188930592, 0.7540766135548662, 0.8199029191862816, 0.8747826884305856, 0.772427422317231, 0.7244080352489773, 0.5162660235828092, 0.4846211367226889, 0.38603599593746113, 0.536083538815219, 0.8322717396966398, 0.5758015552333383, 0.8190448552214858, 0.7481893008831936], maxlen=20)\n",
      "eval_mean: 0.6844793565775104\n"
     ]
    },
    {
     "name": "stderr",
     "output_type": "stream",
     "text": [
      "\r",
      " 81%|██████████████████████████████████████████████████████████▉              | 80808/100000 [1:47:17<32:59,  9.69it/s]"
     ]
    },
    {
     "name": "stdout",
     "output_type": "stream",
     "text": [
      "self.evaluation_deque: deque([0.7993468519960263, 0.5345138787563162, 0.7428678115183431, 0.7487977048385478, 0.49413616862991505, 0.7180236720872194, 0.8079892188930592, 0.7540766135548662, 0.8199029191862816, 0.8747826884305856, 0.772427422317231, 0.7244080352489773, 0.5162660235828092, 0.4846211367226889, 0.38603599593746113, 0.536083538815219, 0.8322717396966398, 0.5758015552333383, 0.8190448552214858, 0.7481893008831936], maxlen=20)\n",
      "eval_mean: 0.6844793565775104\n"
     ]
    },
    {
     "name": "stderr",
     "output_type": "stream",
     "text": [
      "\r",
      " 81%|███████████████████████████████████████████████████████████              | 80884/100000 [1:47:26<33:40,  9.46it/s]"
     ]
    },
    {
     "name": "stdout",
     "output_type": "stream",
     "text": [
      "self.get_collection_ratio(): 0.516558523894445\n",
      "self.comms.count(True) : 1\n",
      "len(self.comms) : 1\n",
      "self.state.ratio_commed: 1.0\n",
      "self.comms.count(True) : 1\n",
      "len(self.comms) : 1\n",
      "self.evaluation_deque: deque([0.5345138787563162, 0.7428678115183431, 0.7487977048385478, 0.49413616862991505, 0.7180236720872194, 0.8079892188930592, 0.7540766135548662, 0.8199029191862816, 0.8747826884305856, 0.772427422317231, 0.7244080352489773, 0.5162660235828092, 0.4846211367226889, 0.38603599593746113, 0.536083538815219, 0.8322717396966398, 0.5758015552333383, 0.8190448552214858, 0.7481893008831936, 0.516558523894445], maxlen=20)\n",
      "eval_mean: 0.6703399401724311\n"
     ]
    },
    {
     "name": "stderr",
     "output_type": "stream",
     "text": [
      "\r",
      " 81%|███████████████████████████████████████████████████████████              | 80960/100000 [1:47:32<31:50,  9.97it/s]"
     ]
    },
    {
     "name": "stdout",
     "output_type": "stream",
     "text": [
      "self.evaluation_deque: deque([0.5345138787563162, 0.7428678115183431, 0.7487977048385478, 0.49413616862991505, 0.7180236720872194, 0.8079892188930592, 0.7540766135548662, 0.8199029191862816, 0.8747826884305856, 0.772427422317231, 0.7244080352489773, 0.5162660235828092, 0.4846211367226889, 0.38603599593746113, 0.536083538815219, 0.8322717396966398, 0.5758015552333383, 0.8190448552214858, 0.7481893008831936, 0.516558523894445], maxlen=20)\n",
      "eval_mean: 0.6703399401724311\n"
     ]
    },
    {
     "name": "stderr",
     "output_type": "stream",
     "text": [
      "\r",
      " 81%|███████████████████████████████████████████████████████████▏             | 81036/100000 [1:47:40<31:02, 10.18it/s]"
     ]
    },
    {
     "name": "stdout",
     "output_type": "stream",
     "text": [
      "self.evaluation_deque: deque([0.5345138787563162, 0.7428678115183431, 0.7487977048385478, 0.49413616862991505, 0.7180236720872194, 0.8079892188930592, 0.7540766135548662, 0.8199029191862816, 0.8747826884305856, 0.772427422317231, 0.7244080352489773, 0.5162660235828092, 0.4846211367226889, 0.38603599593746113, 0.536083538815219, 0.8322717396966398, 0.5758015552333383, 0.8190448552214858, 0.7481893008831936, 0.516558523894445], maxlen=20)\n",
      "eval_mean: 0.6703399401724311\n"
     ]
    },
    {
     "name": "stderr",
     "output_type": "stream",
     "text": [
      "\r",
      " 81%|███████████████████████████████████████████████████████████▏             | 81112/100000 [1:47:45<28:46, 10.94it/s]"
     ]
    },
    {
     "name": "stdout",
     "output_type": "stream",
     "text": [
      "self.evaluation_deque: deque([0.5345138787563162, 0.7428678115183431, 0.7487977048385478, 0.49413616862991505, 0.7180236720872194, 0.8079892188930592, 0.7540766135548662, 0.8199029191862816, 0.8747826884305856, 0.772427422317231, 0.7244080352489773, 0.5162660235828092, 0.4846211367226889, 0.38603599593746113, 0.536083538815219, 0.8322717396966398, 0.5758015552333383, 0.8190448552214858, 0.7481893008831936, 0.516558523894445], maxlen=20)\n",
      "eval_mean: 0.6703399401724311\n"
     ]
    },
    {
     "name": "stderr",
     "output_type": "stream",
     "text": [
      "\r",
      " 81%|███████████████████████████████████████████████████████████▎             | 81188/100000 [1:47:52<28:35, 10.97it/s]"
     ]
    },
    {
     "name": "stdout",
     "output_type": "stream",
     "text": [
      "self.evaluation_deque: deque([0.5345138787563162, 0.7428678115183431, 0.7487977048385478, 0.49413616862991505, 0.7180236720872194, 0.8079892188930592, 0.7540766135548662, 0.8199029191862816, 0.8747826884305856, 0.772427422317231, 0.7244080352489773, 0.5162660235828092, 0.4846211367226889, 0.38603599593746113, 0.536083538815219, 0.8322717396966398, 0.5758015552333383, 0.8190448552214858, 0.7481893008831936, 0.516558523894445], maxlen=20)\n",
      "eval_mean: 0.6703399401724311\n"
     ]
    },
    {
     "name": "stderr",
     "output_type": "stream",
     "text": [
      "\r",
      " 81%|███████████████████████████████████████████████████████████▎             | 81264/100000 [1:48:01<31:15,  9.99it/s]"
     ]
    },
    {
     "name": "stdout",
     "output_type": "stream",
     "text": [
      "self.get_collection_ratio(): 0.6609396181844172\n",
      "self.comms.count(True) : 2\n",
      "len(self.comms) : 2\n",
      "self.state.ratio_commed: 1.0\n",
      "self.comms.count(True) : 2\n",
      "len(self.comms) : 2\n",
      "self.evaluation_deque: deque([0.7428678115183431, 0.7487977048385478, 0.49413616862991505, 0.7180236720872194, 0.8079892188930592, 0.7540766135548662, 0.8199029191862816, 0.8747826884305856, 0.772427422317231, 0.7244080352489773, 0.5162660235828092, 0.4846211367226889, 0.38603599593746113, 0.536083538815219, 0.8322717396966398, 0.5758015552333383, 0.8190448552214858, 0.7481893008831936, 0.516558523894445, 0.6609396181844172], maxlen=20)\n",
      "eval_mean: 0.6766612271438361\n"
     ]
    },
    {
     "name": "stderr",
     "output_type": "stream",
     "text": [
      "\r",
      " 81%|███████████████████████████████████████████████████████████▍             | 81340/100000 [1:48:08<30:15, 10.28it/s]"
     ]
    },
    {
     "name": "stdout",
     "output_type": "stream",
     "text": [
      "self.evaluation_deque: deque([0.7428678115183431, 0.7487977048385478, 0.49413616862991505, 0.7180236720872194, 0.8079892188930592, 0.7540766135548662, 0.8199029191862816, 0.8747826884305856, 0.772427422317231, 0.7244080352489773, 0.5162660235828092, 0.4846211367226889, 0.38603599593746113, 0.536083538815219, 0.8322717396966398, 0.5758015552333383, 0.8190448552214858, 0.7481893008831936, 0.516558523894445, 0.6609396181844172], maxlen=20)\n",
      "eval_mean: 0.6766612271438361\n"
     ]
    },
    {
     "name": "stderr",
     "output_type": "stream",
     "text": [
      "\r",
      " 81%|███████████████████████████████████████████████████████████▍             | 81416/100000 [1:48:16<30:41, 10.09it/s]"
     ]
    },
    {
     "name": "stdout",
     "output_type": "stream",
     "text": [
      "self.evaluation_deque: deque([0.7428678115183431, 0.7487977048385478, 0.49413616862991505, 0.7180236720872194, 0.8079892188930592, 0.7540766135548662, 0.8199029191862816, 0.8747826884305856, 0.772427422317231, 0.7244080352489773, 0.5162660235828092, 0.4846211367226889, 0.38603599593746113, 0.536083538815219, 0.8322717396966398, 0.5758015552333383, 0.8190448552214858, 0.7481893008831936, 0.516558523894445, 0.6609396181844172], maxlen=20)\n",
      "eval_mean: 0.6766612271438361\n"
     ]
    },
    {
     "name": "stderr",
     "output_type": "stream",
     "text": [
      "\r",
      " 81%|███████████████████████████████████████████████████████████▍             | 81492/100000 [1:48:22<28:26, 10.85it/s]"
     ]
    },
    {
     "name": "stdout",
     "output_type": "stream",
     "text": [
      "self.evaluation_deque: deque([0.7428678115183431, 0.7487977048385478, 0.49413616862991505, 0.7180236720872194, 0.8079892188930592, 0.7540766135548662, 0.8199029191862816, 0.8747826884305856, 0.772427422317231, 0.7244080352489773, 0.5162660235828092, 0.4846211367226889, 0.38603599593746113, 0.536083538815219, 0.8322717396966398, 0.5758015552333383, 0.8190448552214858, 0.7481893008831936, 0.516558523894445, 0.6609396181844172], maxlen=20)\n",
      "eval_mean: 0.6766612271438361\n"
     ]
    },
    {
     "name": "stderr",
     "output_type": "stream",
     "text": [
      "\r",
      " 82%|███████████████████████████████████████████████████████████▌             | 81568/100000 [1:48:29<28:08, 10.92it/s]"
     ]
    },
    {
     "name": "stdout",
     "output_type": "stream",
     "text": [
      "self.evaluation_deque: deque([0.7428678115183431, 0.7487977048385478, 0.49413616862991505, 0.7180236720872194, 0.8079892188930592, 0.7540766135548662, 0.8199029191862816, 0.8747826884305856, 0.772427422317231, 0.7244080352489773, 0.5162660235828092, 0.4846211367226889, 0.38603599593746113, 0.536083538815219, 0.8322717396966398, 0.5758015552333383, 0.8190448552214858, 0.7481893008831936, 0.516558523894445, 0.6609396181844172], maxlen=20)\n",
      "eval_mean: 0.6766612271438361\n"
     ]
    },
    {
     "name": "stderr",
     "output_type": "stream",
     "text": [
      "\r",
      " 82%|███████████████████████████████████████████████████████████▌             | 81644/100000 [1:48:36<28:29, 10.74it/s]"
     ]
    },
    {
     "name": "stdout",
     "output_type": "stream",
     "text": [
      "self.get_collection_ratio(): 0.5170909418854231\n",
      "self.comms.count(True) : 1\n",
      "len(self.comms) : 1\n",
      "self.state.ratio_commed: 1.0\n",
      "self.comms.count(True) : 1\n",
      "len(self.comms) : 1\n",
      "self.evaluation_deque: deque([0.7487977048385478, 0.49413616862991505, 0.7180236720872194, 0.8079892188930592, 0.7540766135548662, 0.8199029191862816, 0.8747826884305856, 0.772427422317231, 0.7244080352489773, 0.5162660235828092, 0.4846211367226889, 0.38603599593746113, 0.536083538815219, 0.8322717396966398, 0.5758015552333383, 0.8190448552214858, 0.7481893008831936, 0.516558523894445, 0.6609396181844172, 0.5170909418854231], maxlen=20)\n",
      "eval_mean: 0.6653723836621902\n"
     ]
    },
    {
     "name": "stderr",
     "output_type": "stream",
     "text": [
      "\r",
      " 82%|███████████████████████████████████████████████████████████▋             | 81720/100000 [1:48:43<28:10, 10.81it/s]"
     ]
    },
    {
     "name": "stdout",
     "output_type": "stream",
     "text": [
      "self.evaluation_deque: deque([0.7487977048385478, 0.49413616862991505, 0.7180236720872194, 0.8079892188930592, 0.7540766135548662, 0.8199029191862816, 0.8747826884305856, 0.772427422317231, 0.7244080352489773, 0.5162660235828092, 0.4846211367226889, 0.38603599593746113, 0.536083538815219, 0.8322717396966398, 0.5758015552333383, 0.8190448552214858, 0.7481893008831936, 0.516558523894445, 0.6609396181844172, 0.5170909418854231], maxlen=20)\n",
      "eval_mean: 0.6653723836621902\n"
     ]
    },
    {
     "name": "stderr",
     "output_type": "stream",
     "text": [
      "\r",
      " 82%|███████████████████████████████████████████████████████████▋             | 81796/100000 [1:48:49<26:51, 11.29it/s]"
     ]
    },
    {
     "name": "stdout",
     "output_type": "stream",
     "text": [
      "self.evaluation_deque: deque([0.7487977048385478, 0.49413616862991505, 0.7180236720872194, 0.8079892188930592, 0.7540766135548662, 0.8199029191862816, 0.8747826884305856, 0.772427422317231, 0.7244080352489773, 0.5162660235828092, 0.4846211367226889, 0.38603599593746113, 0.536083538815219, 0.8322717396966398, 0.5758015552333383, 0.8190448552214858, 0.7481893008831936, 0.516558523894445, 0.6609396181844172, 0.5170909418854231], maxlen=20)\n",
      "eval_mean: 0.6653723836621902\n"
     ]
    },
    {
     "name": "stderr",
     "output_type": "stream",
     "text": [
      "\r",
      " 82%|███████████████████████████████████████████████████████████▊             | 81872/100000 [1:48:56<26:58, 11.20it/s]"
     ]
    },
    {
     "name": "stdout",
     "output_type": "stream",
     "text": [
      "self.evaluation_deque: deque([0.7487977048385478, 0.49413616862991505, 0.7180236720872194, 0.8079892188930592, 0.7540766135548662, 0.8199029191862816, 0.8747826884305856, 0.772427422317231, 0.7244080352489773, 0.5162660235828092, 0.4846211367226889, 0.38603599593746113, 0.536083538815219, 0.8322717396966398, 0.5758015552333383, 0.8190448552214858, 0.7481893008831936, 0.516558523894445, 0.6609396181844172, 0.5170909418854231], maxlen=20)\n",
      "eval_mean: 0.6653723836621902\n"
     ]
    },
    {
     "name": "stderr",
     "output_type": "stream",
     "text": [
      "\r",
      " 82%|███████████████████████████████████████████████████████████▊             | 81948/100000 [1:49:03<26:58, 11.15it/s]"
     ]
    },
    {
     "name": "stdout",
     "output_type": "stream",
     "text": [
      "self.evaluation_deque: deque([0.7487977048385478, 0.49413616862991505, 0.7180236720872194, 0.8079892188930592, 0.7540766135548662, 0.8199029191862816, 0.8747826884305856, 0.772427422317231, 0.7244080352489773, 0.5162660235828092, 0.4846211367226889, 0.38603599593746113, 0.536083538815219, 0.8322717396966398, 0.5758015552333383, 0.8190448552214858, 0.7481893008831936, 0.516558523894445, 0.6609396181844172, 0.5170909418854231], maxlen=20)\n",
      "eval_mean: 0.6653723836621902\n"
     ]
    },
    {
     "name": "stderr",
     "output_type": "stream",
     "text": [
      "\r",
      " 82%|███████████████████████████████████████████████████████████▉             | 82024/100000 [1:49:12<30:02,  9.97it/s]"
     ]
    },
    {
     "name": "stdout",
     "output_type": "stream",
     "text": [
      "self.get_collection_ratio(): 0.7125724706981293\n",
      "self.comms.count(True) : 2\n",
      "len(self.comms) : 2\n",
      "self.state.ratio_commed: 1.0\n",
      "self.comms.count(True) : 2\n",
      "len(self.comms) : 2\n",
      "self.evaluation_deque: deque([0.49413616862991505, 0.7180236720872194, 0.8079892188930592, 0.7540766135548662, 0.8199029191862816, 0.8747826884305856, 0.772427422317231, 0.7244080352489773, 0.5162660235828092, 0.4846211367226889, 0.38603599593746113, 0.536083538815219, 0.8322717396966398, 0.5758015552333383, 0.8190448552214858, 0.7481893008831936, 0.516558523894445, 0.6609396181844172, 0.5170909418854231, 0.7125724706981293], maxlen=20)\n",
      "eval_mean: 0.6635611219551693\n"
     ]
    },
    {
     "name": "stderr",
     "output_type": "stream",
     "text": [
      "\r",
      " 82%|███████████████████████████████████████████████████████████▉             | 82100/100000 [1:49:20<30:20,  9.84it/s]"
     ]
    },
    {
     "name": "stdout",
     "output_type": "stream",
     "text": [
      "self.evaluation_deque: deque([0.49413616862991505, 0.7180236720872194, 0.8079892188930592, 0.7540766135548662, 0.8199029191862816, 0.8747826884305856, 0.772427422317231, 0.7244080352489773, 0.5162660235828092, 0.4846211367226889, 0.38603599593746113, 0.536083538815219, 0.8322717396966398, 0.5758015552333383, 0.8190448552214858, 0.7481893008831936, 0.516558523894445, 0.6609396181844172, 0.5170909418854231, 0.7125724706981293], maxlen=20)\n",
      "eval_mean: 0.6635611219551693\n"
     ]
    },
    {
     "name": "stderr",
     "output_type": "stream",
     "text": [
      "\r",
      " 82%|███████████████████████████████████████████████████████████▉             | 82176/100000 [1:49:27<29:12, 10.17it/s]"
     ]
    },
    {
     "name": "stdout",
     "output_type": "stream",
     "text": [
      "self.evaluation_deque: deque([0.49413616862991505, 0.7180236720872194, 0.8079892188930592, 0.7540766135548662, 0.8199029191862816, 0.8747826884305856, 0.772427422317231, 0.7244080352489773, 0.5162660235828092, 0.4846211367226889, 0.38603599593746113, 0.536083538815219, 0.8322717396966398, 0.5758015552333383, 0.8190448552214858, 0.7481893008831936, 0.516558523894445, 0.6609396181844172, 0.5170909418854231, 0.7125724706981293], maxlen=20)\n",
      "eval_mean: 0.6635611219551693\n"
     ]
    },
    {
     "name": "stderr",
     "output_type": "stream",
     "text": [
      "\r",
      " 82%|████████████████████████████████████████████████████████████             | 82252/100000 [1:49:34<28:18, 10.45it/s]"
     ]
    },
    {
     "name": "stdout",
     "output_type": "stream",
     "text": [
      "self.evaluation_deque: deque([0.49413616862991505, 0.7180236720872194, 0.8079892188930592, 0.7540766135548662, 0.8199029191862816, 0.8747826884305856, 0.772427422317231, 0.7244080352489773, 0.5162660235828092, 0.4846211367226889, 0.38603599593746113, 0.536083538815219, 0.8322717396966398, 0.5758015552333383, 0.8190448552214858, 0.7481893008831936, 0.516558523894445, 0.6609396181844172, 0.5170909418854231, 0.7125724706981293], maxlen=20)\n",
      "eval_mean: 0.6635611219551693\n"
     ]
    },
    {
     "name": "stderr",
     "output_type": "stream",
     "text": [
      "\r",
      " 82%|████████████████████████████████████████████████████████████             | 82328/100000 [1:49:42<28:59, 10.16it/s]"
     ]
    },
    {
     "name": "stdout",
     "output_type": "stream",
     "text": [
      "self.evaluation_deque: deque([0.49413616862991505, 0.7180236720872194, 0.8079892188930592, 0.7540766135548662, 0.8199029191862816, 0.8747826884305856, 0.772427422317231, 0.7244080352489773, 0.5162660235828092, 0.4846211367226889, 0.38603599593746113, 0.536083538815219, 0.8322717396966398, 0.5758015552333383, 0.8190448552214858, 0.7481893008831936, 0.516558523894445, 0.6609396181844172, 0.5170909418854231, 0.7125724706981293], maxlen=20)\n",
      "eval_mean: 0.6635611219551693\n"
     ]
    },
    {
     "name": "stderr",
     "output_type": "stream",
     "text": [
      "\r",
      " 82%|████████████████████████████████████████████████████████████▏            | 82404/100000 [1:49:52<31:13,  9.39it/s]"
     ]
    },
    {
     "name": "stdout",
     "output_type": "stream",
     "text": [
      "self.get_collection_ratio(): 0.4633322899048051\n",
      "self.comms.count(True) : 1\n",
      "len(self.comms) : 1\n",
      "self.state.ratio_commed: 1.0\n",
      "self.comms.count(True) : 1\n",
      "len(self.comms) : 1\n",
      "self.evaluation_deque: deque([0.7180236720872194, 0.8079892188930592, 0.7540766135548662, 0.8199029191862816, 0.8747826884305856, 0.772427422317231, 0.7244080352489773, 0.5162660235828092, 0.4846211367226889, 0.38603599593746113, 0.536083538815219, 0.8322717396966398, 0.5758015552333383, 0.8190448552214858, 0.7481893008831936, 0.516558523894445, 0.6609396181844172, 0.5170909418854231, 0.7125724706981293, 0.4633322899048051], maxlen=20)\n",
      "eval_mean: 0.6620209280189138\n"
     ]
    },
    {
     "name": "stderr",
     "output_type": "stream",
     "text": [
      "\r",
      " 82%|████████████████████████████████████████████████████████████▏            | 82480/100000 [1:49:58<29:38,  9.85it/s]"
     ]
    },
    {
     "name": "stdout",
     "output_type": "stream",
     "text": [
      "self.evaluation_deque: deque([0.7180236720872194, 0.8079892188930592, 0.7540766135548662, 0.8199029191862816, 0.8747826884305856, 0.772427422317231, 0.7244080352489773, 0.5162660235828092, 0.4846211367226889, 0.38603599593746113, 0.536083538815219, 0.8322717396966398, 0.5758015552333383, 0.8190448552214858, 0.7481893008831936, 0.516558523894445, 0.6609396181844172, 0.5170909418854231, 0.7125724706981293, 0.4633322899048051], maxlen=20)\n",
      "eval_mean: 0.6620209280189138\n"
     ]
    },
    {
     "name": "stderr",
     "output_type": "stream",
     "text": [
      "\r",
      " 83%|████████████████████████████████████████████████████████████▎            | 82556/100000 [1:50:04<27:03, 10.75it/s]"
     ]
    },
    {
     "name": "stdout",
     "output_type": "stream",
     "text": [
      "self.evaluation_deque: deque([0.7180236720872194, 0.8079892188930592, 0.7540766135548662, 0.8199029191862816, 0.8747826884305856, 0.772427422317231, 0.7244080352489773, 0.5162660235828092, 0.4846211367226889, 0.38603599593746113, 0.536083538815219, 0.8322717396966398, 0.5758015552333383, 0.8190448552214858, 0.7481893008831936, 0.516558523894445, 0.6609396181844172, 0.5170909418854231, 0.7125724706981293, 0.4633322899048051], maxlen=20)\n",
      "eval_mean: 0.6620209280189138\n"
     ]
    },
    {
     "name": "stderr",
     "output_type": "stream",
     "text": [
      "\r",
      " 83%|████████████████████████████████████████████████████████████▎            | 82632/100000 [1:50:12<27:51, 10.39it/s]"
     ]
    },
    {
     "name": "stdout",
     "output_type": "stream",
     "text": [
      "self.evaluation_deque: deque([0.7180236720872194, 0.8079892188930592, 0.7540766135548662, 0.8199029191862816, 0.8747826884305856, 0.772427422317231, 0.7244080352489773, 0.5162660235828092, 0.4846211367226889, 0.38603599593746113, 0.536083538815219, 0.8322717396966398, 0.5758015552333383, 0.8190448552214858, 0.7481893008831936, 0.516558523894445, 0.6609396181844172, 0.5170909418854231, 0.7125724706981293, 0.4633322899048051], maxlen=20)\n",
      "eval_mean: 0.6620209280189138\n"
     ]
    },
    {
     "name": "stderr",
     "output_type": "stream",
     "text": [
      "\r",
      " 83%|████████████████████████████████████████████████████████████▍            | 82708/100000 [1:50:20<28:10, 10.23it/s]"
     ]
    },
    {
     "name": "stdout",
     "output_type": "stream",
     "text": [
      "self.evaluation_deque: deque([0.7180236720872194, 0.8079892188930592, 0.7540766135548662, 0.8199029191862816, 0.8747826884305856, 0.772427422317231, 0.7244080352489773, 0.5162660235828092, 0.4846211367226889, 0.38603599593746113, 0.536083538815219, 0.8322717396966398, 0.5758015552333383, 0.8190448552214858, 0.7481893008831936, 0.516558523894445, 0.6609396181844172, 0.5170909418854231, 0.7125724706981293, 0.4633322899048051], maxlen=20)\n",
      "eval_mean: 0.6620209280189138\n"
     ]
    },
    {
     "name": "stderr",
     "output_type": "stream",
     "text": [
      "\r",
      " 83%|████████████████████████████████████████████████████████████▍            | 82784/100000 [1:50:29<30:07,  9.52it/s]"
     ]
    },
    {
     "name": "stdout",
     "output_type": "stream",
     "text": [
      "self.get_collection_ratio(): 0.44779967772156826\n",
      "self.comms.count(True) : 1\n",
      "len(self.comms) : 1\n",
      "self.state.ratio_commed: 1.0\n",
      "self.comms.count(True) : 1\n",
      "len(self.comms) : 1\n",
      "self.evaluation_deque: deque([0.8079892188930592, 0.7540766135548662, 0.8199029191862816, 0.8747826884305856, 0.772427422317231, 0.7244080352489773, 0.5162660235828092, 0.4846211367226889, 0.38603599593746113, 0.536083538815219, 0.8322717396966398, 0.5758015552333383, 0.8190448552214858, 0.7481893008831936, 0.516558523894445, 0.6609396181844172, 0.5170909418854231, 0.7125724706981293, 0.4633322899048051, 0.44779967772156826], maxlen=20)\n",
      "eval_mean: 0.6485097283006311\n"
     ]
    },
    {
     "name": "stderr",
     "output_type": "stream",
     "text": [
      "\r",
      " 83%|████████████████████████████████████████████████████████████▍            | 82860/100000 [1:50:35<28:34, 10.00it/s]"
     ]
    },
    {
     "name": "stdout",
     "output_type": "stream",
     "text": [
      "self.evaluation_deque: deque([0.8079892188930592, 0.7540766135548662, 0.8199029191862816, 0.8747826884305856, 0.772427422317231, 0.7244080352489773, 0.5162660235828092, 0.4846211367226889, 0.38603599593746113, 0.536083538815219, 0.8322717396966398, 0.5758015552333383, 0.8190448552214858, 0.7481893008831936, 0.516558523894445, 0.6609396181844172, 0.5170909418854231, 0.7125724706981293, 0.4633322899048051, 0.44779967772156826], maxlen=20)\n",
      "eval_mean: 0.6485097283006311\n"
     ]
    },
    {
     "name": "stderr",
     "output_type": "stream",
     "text": [
      "\r",
      " 83%|████████████████████████████████████████████████████████████▌            | 82936/100000 [1:50:42<27:29, 10.34it/s]"
     ]
    },
    {
     "name": "stdout",
     "output_type": "stream",
     "text": [
      "self.evaluation_deque: deque([0.8079892188930592, 0.7540766135548662, 0.8199029191862816, 0.8747826884305856, 0.772427422317231, 0.7244080352489773, 0.5162660235828092, 0.4846211367226889, 0.38603599593746113, 0.536083538815219, 0.8322717396966398, 0.5758015552333383, 0.8190448552214858, 0.7481893008831936, 0.516558523894445, 0.6609396181844172, 0.5170909418854231, 0.7125724706981293, 0.4633322899048051, 0.44779967772156826], maxlen=20)\n",
      "eval_mean: 0.6485097283006311\n"
     ]
    },
    {
     "name": "stderr",
     "output_type": "stream",
     "text": [
      "\r",
      " 83%|████████████████████████████████████████████████████████████▌            | 83012/100000 [1:50:48<25:25, 11.14it/s]"
     ]
    },
    {
     "name": "stdout",
     "output_type": "stream",
     "text": [
      "self.evaluation_deque: deque([0.8079892188930592, 0.7540766135548662, 0.8199029191862816, 0.8747826884305856, 0.772427422317231, 0.7244080352489773, 0.5162660235828092, 0.4846211367226889, 0.38603599593746113, 0.536083538815219, 0.8322717396966398, 0.5758015552333383, 0.8190448552214858, 0.7481893008831936, 0.516558523894445, 0.6609396181844172, 0.5170909418854231, 0.7125724706981293, 0.4633322899048051, 0.44779967772156826], maxlen=20)\n",
      "eval_mean: 0.6485097283006311\n"
     ]
    },
    {
     "name": "stderr",
     "output_type": "stream",
     "text": [
      "\r",
      " 83%|████████████████████████████████████████████████████████████▋            | 83088/100000 [1:50:53<23:58, 11.76it/s]"
     ]
    },
    {
     "name": "stdout",
     "output_type": "stream",
     "text": [
      "self.evaluation_deque: deque([0.8079892188930592, 0.7540766135548662, 0.8199029191862816, 0.8747826884305856, 0.772427422317231, 0.7244080352489773, 0.5162660235828092, 0.4846211367226889, 0.38603599593746113, 0.536083538815219, 0.8322717396966398, 0.5758015552333383, 0.8190448552214858, 0.7481893008831936, 0.516558523894445, 0.6609396181844172, 0.5170909418854231, 0.7125724706981293, 0.4633322899048051, 0.44779967772156826], maxlen=20)\n",
      "eval_mean: 0.6485097283006311\n"
     ]
    },
    {
     "name": "stderr",
     "output_type": "stream",
     "text": [
      "\r",
      " 83%|████████████████████████████████████████████████████████████▋            | 83164/100000 [1:51:03<27:23, 10.24it/s]"
     ]
    },
    {
     "name": "stdout",
     "output_type": "stream",
     "text": [
      "self.get_collection_ratio(): 0.8807676296566279\n",
      "self.comms.count(True) : 3\n",
      "len(self.comms) : 3\n",
      "self.state.ratio_commed: 1.0\n",
      "self.comms.count(True) : 3\n",
      "len(self.comms) : 3\n",
      "self.evaluation_deque: deque([0.7540766135548662, 0.8199029191862816, 0.8747826884305856, 0.772427422317231, 0.7244080352489773, 0.5162660235828092, 0.4846211367226889, 0.38603599593746113, 0.536083538815219, 0.8322717396966398, 0.5758015552333383, 0.8190448552214858, 0.7481893008831936, 0.516558523894445, 0.6609396181844172, 0.5170909418854231, 0.7125724706981293, 0.4633322899048051, 0.44779967772156826, 0.8807676296566279], maxlen=20)\n",
      "eval_mean: 0.6521486488388096\n"
     ]
    },
    {
     "name": "stderr",
     "output_type": "stream",
     "text": [
      "\r",
      " 83%|████████████████████████████████████████████████████████████▊            | 83240/100000 [1:51:09<25:15, 11.06it/s]"
     ]
    },
    {
     "name": "stdout",
     "output_type": "stream",
     "text": [
      "self.evaluation_deque: deque([0.7540766135548662, 0.8199029191862816, 0.8747826884305856, 0.772427422317231, 0.7244080352489773, 0.5162660235828092, 0.4846211367226889, 0.38603599593746113, 0.536083538815219, 0.8322717396966398, 0.5758015552333383, 0.8190448552214858, 0.7481893008831936, 0.516558523894445, 0.6609396181844172, 0.5170909418854231, 0.7125724706981293, 0.4633322899048051, 0.44779967772156826, 0.8807676296566279], maxlen=20)\n",
      "eval_mean: 0.6521486488388096\n"
     ]
    },
    {
     "name": "stderr",
     "output_type": "stream",
     "text": [
      "\r",
      " 83%|████████████████████████████████████████████████████████████▊            | 83316/100000 [1:51:15<24:59, 11.12it/s]"
     ]
    },
    {
     "name": "stdout",
     "output_type": "stream",
     "text": [
      "self.evaluation_deque: deque([0.7540766135548662, 0.8199029191862816, 0.8747826884305856, 0.772427422317231, 0.7244080352489773, 0.5162660235828092, 0.4846211367226889, 0.38603599593746113, 0.536083538815219, 0.8322717396966398, 0.5758015552333383, 0.8190448552214858, 0.7481893008831936, 0.516558523894445, 0.6609396181844172, 0.5170909418854231, 0.7125724706981293, 0.4633322899048051, 0.44779967772156826, 0.8807676296566279], maxlen=20)\n",
      "eval_mean: 0.6521486488388096\n"
     ]
    },
    {
     "name": "stderr",
     "output_type": "stream",
     "text": [
      "\r",
      " 83%|████████████████████████████████████████████████████████████▉            | 83392/100000 [1:51:23<26:04, 10.61it/s]"
     ]
    },
    {
     "name": "stdout",
     "output_type": "stream",
     "text": [
      "self.evaluation_deque: deque([0.7540766135548662, 0.8199029191862816, 0.8747826884305856, 0.772427422317231, 0.7244080352489773, 0.5162660235828092, 0.4846211367226889, 0.38603599593746113, 0.536083538815219, 0.8322717396966398, 0.5758015552333383, 0.8190448552214858, 0.7481893008831936, 0.516558523894445, 0.6609396181844172, 0.5170909418854231, 0.7125724706981293, 0.4633322899048051, 0.44779967772156826, 0.8807676296566279], maxlen=20)\n",
      "eval_mean: 0.6521486488388096\n"
     ]
    },
    {
     "name": "stderr",
     "output_type": "stream",
     "text": [
      "\r",
      " 83%|████████████████████████████████████████████████████████████▉            | 83468/100000 [1:51:30<25:31, 10.79it/s]"
     ]
    },
    {
     "name": "stdout",
     "output_type": "stream",
     "text": [
      "self.evaluation_deque: deque([0.7540766135548662, 0.8199029191862816, 0.8747826884305856, 0.772427422317231, 0.7244080352489773, 0.5162660235828092, 0.4846211367226889, 0.38603599593746113, 0.536083538815219, 0.8322717396966398, 0.5758015552333383, 0.8190448552214858, 0.7481893008831936, 0.516558523894445, 0.6609396181844172, 0.5170909418854231, 0.7125724706981293, 0.4633322899048051, 0.44779967772156826, 0.8807676296566279], maxlen=20)\n",
      "eval_mean: 0.6521486488388096\n"
     ]
    },
    {
     "name": "stderr",
     "output_type": "stream",
     "text": [
      "\r",
      " 84%|████████████████████████████████████████████████████████████▉            | 83544/100000 [1:51:39<27:39,  9.91it/s]"
     ]
    },
    {
     "name": "stdout",
     "output_type": "stream",
     "text": [
      "self.get_collection_ratio(): 0.7518314962926632\n",
      "self.comms.count(True) : 2\n",
      "len(self.comms) : 2\n",
      "self.state.ratio_commed: 1.0\n",
      "self.comms.count(True) : 2\n",
      "len(self.comms) : 2\n",
      "self.evaluation_deque: deque([0.8199029191862816, 0.8747826884305856, 0.772427422317231, 0.7244080352489773, 0.5162660235828092, 0.4846211367226889, 0.38603599593746113, 0.536083538815219, 0.8322717396966398, 0.5758015552333383, 0.8190448552214858, 0.7481893008831936, 0.516558523894445, 0.6609396181844172, 0.5170909418854231, 0.7125724706981293, 0.4633322899048051, 0.44779967772156826, 0.8807676296566279, 0.7518314962926632], maxlen=20)\n",
      "eval_mean: 0.6520363929756995\n"
     ]
    },
    {
     "name": "stderr",
     "output_type": "stream",
     "text": [
      "\r",
      " 84%|█████████████████████████████████████████████████████████████            | 83620/100000 [1:51:47<27:47,  9.83it/s]"
     ]
    },
    {
     "name": "stdout",
     "output_type": "stream",
     "text": [
      "self.evaluation_deque: deque([0.8199029191862816, 0.8747826884305856, 0.772427422317231, 0.7244080352489773, 0.5162660235828092, 0.4846211367226889, 0.38603599593746113, 0.536083538815219, 0.8322717396966398, 0.5758015552333383, 0.8190448552214858, 0.7481893008831936, 0.516558523894445, 0.6609396181844172, 0.5170909418854231, 0.7125724706981293, 0.4633322899048051, 0.44779967772156826, 0.8807676296566279, 0.7518314962926632], maxlen=20)\n",
      "eval_mean: 0.6520363929756995\n"
     ]
    },
    {
     "name": "stderr",
     "output_type": "stream",
     "text": [
      "\r",
      " 84%|█████████████████████████████████████████████████████████████            | 83696/100000 [1:51:54<26:32, 10.24it/s]"
     ]
    },
    {
     "name": "stdout",
     "output_type": "stream",
     "text": [
      "self.evaluation_deque: deque([0.8199029191862816, 0.8747826884305856, 0.772427422317231, 0.7244080352489773, 0.5162660235828092, 0.4846211367226889, 0.38603599593746113, 0.536083538815219, 0.8322717396966398, 0.5758015552333383, 0.8190448552214858, 0.7481893008831936, 0.516558523894445, 0.6609396181844172, 0.5170909418854231, 0.7125724706981293, 0.4633322899048051, 0.44779967772156826, 0.8807676296566279, 0.7518314962926632], maxlen=20)\n",
      "eval_mean: 0.6520363929756995\n"
     ]
    },
    {
     "name": "stderr",
     "output_type": "stream",
     "text": [
      "\r",
      " 84%|█████████████████████████████████████████████████████████████▏           | 83772/100000 [1:52:01<25:42, 10.52it/s]"
     ]
    },
    {
     "name": "stdout",
     "output_type": "stream",
     "text": [
      "self.evaluation_deque: deque([0.8199029191862816, 0.8747826884305856, 0.772427422317231, 0.7244080352489773, 0.5162660235828092, 0.4846211367226889, 0.38603599593746113, 0.536083538815219, 0.8322717396966398, 0.5758015552333383, 0.8190448552214858, 0.7481893008831936, 0.516558523894445, 0.6609396181844172, 0.5170909418854231, 0.7125724706981293, 0.4633322899048051, 0.44779967772156826, 0.8807676296566279, 0.7518314962926632], maxlen=20)\n",
      "eval_mean: 0.6520363929756995\n"
     ]
    },
    {
     "name": "stderr",
     "output_type": "stream",
     "text": [
      "\r",
      " 84%|█████████████████████████████████████████████████████████████▏           | 83848/100000 [1:52:09<26:18, 10.23it/s]"
     ]
    },
    {
     "name": "stdout",
     "output_type": "stream",
     "text": [
      "self.evaluation_deque: deque([0.8199029191862816, 0.8747826884305856, 0.772427422317231, 0.7244080352489773, 0.5162660235828092, 0.4846211367226889, 0.38603599593746113, 0.536083538815219, 0.8322717396966398, 0.5758015552333383, 0.8190448552214858, 0.7481893008831936, 0.516558523894445, 0.6609396181844172, 0.5170909418854231, 0.7125724706981293, 0.4633322899048051, 0.44779967772156826, 0.8807676296566279, 0.7518314962926632], maxlen=20)\n",
      "eval_mean: 0.6520363929756995\n"
     ]
    },
    {
     "name": "stderr",
     "output_type": "stream",
     "text": [
      "\r",
      " 84%|█████████████████████████████████████████████████████████████▎           | 83924/100000 [1:52:16<25:53, 10.35it/s]"
     ]
    },
    {
     "name": "stdout",
     "output_type": "stream",
     "text": [
      "self.get_collection_ratio(): 0.4983951981313604\n",
      "self.comms.count(True) : 1\n",
      "len(self.comms) : 1\n",
      "self.state.ratio_commed: 1.0\n",
      "self.comms.count(True) : 1\n",
      "len(self.comms) : 1\n",
      "self.evaluation_deque: deque([0.8747826884305856, 0.772427422317231, 0.7244080352489773, 0.5162660235828092, 0.4846211367226889, 0.38603599593746113, 0.536083538815219, 0.8322717396966398, 0.5758015552333383, 0.8190448552214858, 0.7481893008831936, 0.516558523894445, 0.6609396181844172, 0.5170909418854231, 0.7125724706981293, 0.4633322899048051, 0.44779967772156826, 0.8807676296566279, 0.7518314962926632, 0.4983951981313604], maxlen=20)\n",
      "eval_mean: 0.6359610069229534\n"
     ]
    },
    {
     "name": "stderr",
     "output_type": "stream",
     "text": [
      "\r",
      " 84%|█████████████████████████████████████████████████████████████▎           | 84000/100000 [1:52:24<26:18, 10.14it/s]"
     ]
    },
    {
     "name": "stdout",
     "output_type": "stream",
     "text": [
      "self.evaluation_deque: deque([0.8747826884305856, 0.772427422317231, 0.7244080352489773, 0.5162660235828092, 0.4846211367226889, 0.38603599593746113, 0.536083538815219, 0.8322717396966398, 0.5758015552333383, 0.8190448552214858, 0.7481893008831936, 0.516558523894445, 0.6609396181844172, 0.5170909418854231, 0.7125724706981293, 0.4633322899048051, 0.44779967772156826, 0.8807676296566279, 0.7518314962926632, 0.4983951981313604], maxlen=20)\n",
      "eval_mean: 0.6359610069229534\n"
     ]
    },
    {
     "name": "stderr",
     "output_type": "stream",
     "text": [
      "\r",
      " 84%|█████████████████████████████████████████████████████████████▍           | 84076/100000 [1:52:32<26:42,  9.93it/s]"
     ]
    },
    {
     "name": "stdout",
     "output_type": "stream",
     "text": [
      "self.evaluation_deque: deque([0.8747826884305856, 0.772427422317231, 0.7244080352489773, 0.5162660235828092, 0.4846211367226889, 0.38603599593746113, 0.536083538815219, 0.8322717396966398, 0.5758015552333383, 0.8190448552214858, 0.7481893008831936, 0.516558523894445, 0.6609396181844172, 0.5170909418854231, 0.7125724706981293, 0.4633322899048051, 0.44779967772156826, 0.8807676296566279, 0.7518314962926632, 0.4983951981313604], maxlen=20)\n",
      "eval_mean: 0.6359610069229534\n"
     ]
    },
    {
     "name": "stderr",
     "output_type": "stream",
     "text": [
      "\r",
      " 84%|█████████████████████████████████████████████████████████████▍           | 84152/100000 [1:52:47<35:14,  7.50it/s]"
     ]
    },
    {
     "name": "stdout",
     "output_type": "stream",
     "text": [
      "self.evaluation_deque: deque([0.8747826884305856, 0.772427422317231, 0.7244080352489773, 0.5162660235828092, 0.4846211367226889, 0.38603599593746113, 0.536083538815219, 0.8322717396966398, 0.5758015552333383, 0.8190448552214858, 0.7481893008831936, 0.516558523894445, 0.6609396181844172, 0.5170909418854231, 0.7125724706981293, 0.4633322899048051, 0.44779967772156826, 0.8807676296566279, 0.7518314962926632, 0.4983951981313604], maxlen=20)\n",
      "eval_mean: 0.6359610069229534\n"
     ]
    },
    {
     "name": "stderr",
     "output_type": "stream",
     "text": [
      "\r",
      " 84%|█████████████████████████████████████████████████████████████▍           | 84228/100000 [1:52:54<31:31,  8.34it/s]"
     ]
    },
    {
     "name": "stdout",
     "output_type": "stream",
     "text": [
      "self.evaluation_deque: deque([0.8747826884305856, 0.772427422317231, 0.7244080352489773, 0.5162660235828092, 0.4846211367226889, 0.38603599593746113, 0.536083538815219, 0.8322717396966398, 0.5758015552333383, 0.8190448552214858, 0.7481893008831936, 0.516558523894445, 0.6609396181844172, 0.5170909418854231, 0.7125724706981293, 0.4633322899048051, 0.44779967772156826, 0.8807676296566279, 0.7518314962926632, 0.4983951981313604], maxlen=20)\n",
      "eval_mean: 0.6359610069229534\n"
     ]
    },
    {
     "name": "stderr",
     "output_type": "stream",
     "text": [
      "\r",
      " 84%|█████████████████████████████████████████████████████████████▌           | 84304/100000 [1:53:02<30:09,  8.68it/s]"
     ]
    },
    {
     "name": "stdout",
     "output_type": "stream",
     "text": [
      "self.get_collection_ratio(): 0.7119367700814313\n",
      "self.comms.count(True) : 2\n",
      "len(self.comms) : 2\n",
      "self.state.ratio_commed: 1.0\n",
      "self.comms.count(True) : 2\n",
      "len(self.comms) : 2\n",
      "self.evaluation_deque: deque([0.772427422317231, 0.7244080352489773, 0.5162660235828092, 0.4846211367226889, 0.38603599593746113, 0.536083538815219, 0.8322717396966398, 0.5758015552333383, 0.8190448552214858, 0.7481893008831936, 0.516558523894445, 0.6609396181844172, 0.5170909418854231, 0.7125724706981293, 0.4633322899048051, 0.44779967772156826, 0.8807676296566279, 0.7518314962926632, 0.4983951981313604, 0.7119367700814313], maxlen=20)\n",
      "eval_mean: 0.6278187110054957\n"
     ]
    },
    {
     "name": "stderr",
     "output_type": "stream",
     "text": [
      "\r",
      " 84%|█████████████████████████████████████████████████████████████▌           | 84380/100000 [1:53:08<26:42,  9.75it/s]"
     ]
    },
    {
     "name": "stdout",
     "output_type": "stream",
     "text": [
      "self.evaluation_deque: deque([0.772427422317231, 0.7244080352489773, 0.5162660235828092, 0.4846211367226889, 0.38603599593746113, 0.536083538815219, 0.8322717396966398, 0.5758015552333383, 0.8190448552214858, 0.7481893008831936, 0.516558523894445, 0.6609396181844172, 0.5170909418854231, 0.7125724706981293, 0.4633322899048051, 0.44779967772156826, 0.8807676296566279, 0.7518314962926632, 0.4983951981313604, 0.7119367700814313], maxlen=20)\n",
      "eval_mean: 0.6278187110054957\n"
     ]
    },
    {
     "name": "stderr",
     "output_type": "stream",
     "text": [
      "\r",
      " 84%|█████████████████████████████████████████████████████████████▋           | 84456/100000 [1:53:16<26:37,  9.73it/s]"
     ]
    },
    {
     "name": "stdout",
     "output_type": "stream",
     "text": [
      "self.evaluation_deque: deque([0.772427422317231, 0.7244080352489773, 0.5162660235828092, 0.4846211367226889, 0.38603599593746113, 0.536083538815219, 0.8322717396966398, 0.5758015552333383, 0.8190448552214858, 0.7481893008831936, 0.516558523894445, 0.6609396181844172, 0.5170909418854231, 0.7125724706981293, 0.4633322899048051, 0.44779967772156826, 0.8807676296566279, 0.7518314962926632, 0.4983951981313604, 0.7119367700814313], maxlen=20)\n",
      "eval_mean: 0.6278187110054957\n"
     ]
    },
    {
     "name": "stderr",
     "output_type": "stream",
     "text": [
      "\r",
      " 85%|█████████████████████████████████████████████████████████████▋           | 84532/100000 [1:53:22<25:24, 10.15it/s]"
     ]
    },
    {
     "name": "stdout",
     "output_type": "stream",
     "text": [
      "self.evaluation_deque: deque([0.772427422317231, 0.7244080352489773, 0.5162660235828092, 0.4846211367226889, 0.38603599593746113, 0.536083538815219, 0.8322717396966398, 0.5758015552333383, 0.8190448552214858, 0.7481893008831936, 0.516558523894445, 0.6609396181844172, 0.5170909418854231, 0.7125724706981293, 0.4633322899048051, 0.44779967772156826, 0.8807676296566279, 0.7518314962926632, 0.4983951981313604, 0.7119367700814313], maxlen=20)\n",
      "eval_mean: 0.6278187110054957\n"
     ]
    },
    {
     "name": "stderr",
     "output_type": "stream",
     "text": [
      "\r",
      " 85%|█████████████████████████████████████████████████████████████▊           | 84608/100000 [1:53:30<25:37, 10.01it/s]"
     ]
    },
    {
     "name": "stdout",
     "output_type": "stream",
     "text": [
      "self.evaluation_deque: deque([0.772427422317231, 0.7244080352489773, 0.5162660235828092, 0.4846211367226889, 0.38603599593746113, 0.536083538815219, 0.8322717396966398, 0.5758015552333383, 0.8190448552214858, 0.7481893008831936, 0.516558523894445, 0.6609396181844172, 0.5170909418854231, 0.7125724706981293, 0.4633322899048051, 0.44779967772156826, 0.8807676296566279, 0.7518314962926632, 0.4983951981313604, 0.7119367700814313], maxlen=20)\n",
      "eval_mean: 0.6278187110054957\n"
     ]
    },
    {
     "name": "stderr",
     "output_type": "stream",
     "text": [
      "\r",
      " 85%|█████████████████████████████████████████████████████████████▊           | 84684/100000 [1:53:41<28:51,  8.85it/s]"
     ]
    },
    {
     "name": "stdout",
     "output_type": "stream",
     "text": [
      "self.get_collection_ratio(): 0.7536665635083108\n",
      "self.comms.count(True) : 3\n",
      "len(self.comms) : 3\n",
      "self.state.ratio_commed: 1.0\n",
      "self.comms.count(True) : 3\n",
      "len(self.comms) : 3\n",
      "self.evaluation_deque: deque([0.7244080352489773, 0.5162660235828092, 0.4846211367226889, 0.38603599593746113, 0.536083538815219, 0.8322717396966398, 0.5758015552333383, 0.8190448552214858, 0.7481893008831936, 0.516558523894445, 0.6609396181844172, 0.5170909418854231, 0.7125724706981293, 0.4633322899048051, 0.44779967772156826, 0.8807676296566279, 0.7518314962926632, 0.4983951981313604, 0.7119367700814313, 0.7536665635083108], maxlen=20)\n",
      "eval_mean: 0.6268806680650497\n"
     ]
    },
    {
     "name": "stderr",
     "output_type": "stream",
     "text": [
      "\r",
      " 85%|█████████████████████████████████████████████████████████████▊           | 84760/100000 [1:53:47<25:44,  9.87it/s]"
     ]
    },
    {
     "name": "stdout",
     "output_type": "stream",
     "text": [
      "self.evaluation_deque: deque([0.7244080352489773, 0.5162660235828092, 0.4846211367226889, 0.38603599593746113, 0.536083538815219, 0.8322717396966398, 0.5758015552333383, 0.8190448552214858, 0.7481893008831936, 0.516558523894445, 0.6609396181844172, 0.5170909418854231, 0.7125724706981293, 0.4633322899048051, 0.44779967772156826, 0.8807676296566279, 0.7518314962926632, 0.4983951981313604, 0.7119367700814313, 0.7536665635083108], maxlen=20)\n",
      "eval_mean: 0.6268806680650497\n"
     ]
    },
    {
     "name": "stderr",
     "output_type": "stream",
     "text": [
      "\r",
      " 85%|█████████████████████████████████████████████████████████████▉           | 84836/100000 [1:53:54<24:45, 10.21it/s]"
     ]
    },
    {
     "name": "stdout",
     "output_type": "stream",
     "text": [
      "self.evaluation_deque: deque([0.7244080352489773, 0.5162660235828092, 0.4846211367226889, 0.38603599593746113, 0.536083538815219, 0.8322717396966398, 0.5758015552333383, 0.8190448552214858, 0.7481893008831936, 0.516558523894445, 0.6609396181844172, 0.5170909418854231, 0.7125724706981293, 0.4633322899048051, 0.44779967772156826, 0.8807676296566279, 0.7518314962926632, 0.4983951981313604, 0.7119367700814313, 0.7536665635083108], maxlen=20)\n",
      "eval_mean: 0.6268806680650497\n"
     ]
    },
    {
     "name": "stderr",
     "output_type": "stream",
     "text": [
      "\r",
      " 85%|█████████████████████████████████████████████████████████████▉           | 84912/100000 [1:54:00<23:43, 10.60it/s]"
     ]
    },
    {
     "name": "stdout",
     "output_type": "stream",
     "text": [
      "self.evaluation_deque: deque([0.7244080352489773, 0.5162660235828092, 0.4846211367226889, 0.38603599593746113, 0.536083538815219, 0.8322717396966398, 0.5758015552333383, 0.8190448552214858, 0.7481893008831936, 0.516558523894445, 0.6609396181844172, 0.5170909418854231, 0.7125724706981293, 0.4633322899048051, 0.44779967772156826, 0.8807676296566279, 0.7518314962926632, 0.4983951981313604, 0.7119367700814313, 0.7536665635083108], maxlen=20)\n",
      "eval_mean: 0.6268806680650497\n"
     ]
    },
    {
     "name": "stderr",
     "output_type": "stream",
     "text": [
      "\r",
      " 85%|██████████████████████████████████████████████████████████████           | 84988/100000 [1:54:07<23:14, 10.77it/s]"
     ]
    },
    {
     "name": "stdout",
     "output_type": "stream",
     "text": [
      "self.evaluation_deque: deque([0.7244080352489773, 0.5162660235828092, 0.4846211367226889, 0.38603599593746113, 0.536083538815219, 0.8322717396966398, 0.5758015552333383, 0.8190448552214858, 0.7481893008831936, 0.516558523894445, 0.6609396181844172, 0.5170909418854231, 0.7125724706981293, 0.4633322899048051, 0.44779967772156826, 0.8807676296566279, 0.7518314962926632, 0.4983951981313604, 0.7119367700814313, 0.7536665635083108], maxlen=20)\n",
      "eval_mean: 0.6268806680650497\n"
     ]
    },
    {
     "name": "stderr",
     "output_type": "stream",
     "text": [
      "\r",
      " 85%|██████████████████████████████████████████████████████████████           | 85064/100000 [1:54:16<24:53, 10.00it/s]"
     ]
    },
    {
     "name": "stdout",
     "output_type": "stream",
     "text": [
      "self.get_collection_ratio(): 0.6595730104082429\n",
      "self.comms.count(True) : 2\n",
      "len(self.comms) : 2\n",
      "self.state.ratio_commed: 1.0\n",
      "self.comms.count(True) : 2\n",
      "len(self.comms) : 2\n",
      "self.evaluation_deque: deque([0.5162660235828092, 0.4846211367226889, 0.38603599593746113, 0.536083538815219, 0.8322717396966398, 0.5758015552333383, 0.8190448552214858, 0.7481893008831936, 0.516558523894445, 0.6609396181844172, 0.5170909418854231, 0.7125724706981293, 0.4633322899048051, 0.44779967772156826, 0.8807676296566279, 0.7518314962926632, 0.4983951981313604, 0.7119367700814313, 0.7536665635083108, 0.6595730104082429], maxlen=20)\n",
      "eval_mean: 0.623638916823013\n"
     ]
    },
    {
     "name": "stderr",
     "output_type": "stream",
     "text": [
      "\r",
      " 85%|██████████████████████████████████████████████████████████████▏          | 85140/100000 [1:54:21<22:49, 10.85it/s]"
     ]
    },
    {
     "name": "stdout",
     "output_type": "stream",
     "text": [
      "self.evaluation_deque: deque([0.5162660235828092, 0.4846211367226889, 0.38603599593746113, 0.536083538815219, 0.8322717396966398, 0.5758015552333383, 0.8190448552214858, 0.7481893008831936, 0.516558523894445, 0.6609396181844172, 0.5170909418854231, 0.7125724706981293, 0.4633322899048051, 0.44779967772156826, 0.8807676296566279, 0.7518314962926632, 0.4983951981313604, 0.7119367700814313, 0.7536665635083108, 0.6595730104082429], maxlen=20)\n",
      "eval_mean: 0.623638916823013\n"
     ]
    },
    {
     "name": "stderr",
     "output_type": "stream",
     "text": [
      "\r",
      " 85%|██████████████████████████████████████████████████████████████▏          | 85216/100000 [1:54:28<22:33, 10.92it/s]"
     ]
    },
    {
     "name": "stdout",
     "output_type": "stream",
     "text": [
      "self.evaluation_deque: deque([0.5162660235828092, 0.4846211367226889, 0.38603599593746113, 0.536083538815219, 0.8322717396966398, 0.5758015552333383, 0.8190448552214858, 0.7481893008831936, 0.516558523894445, 0.6609396181844172, 0.5170909418854231, 0.7125724706981293, 0.4633322899048051, 0.44779967772156826, 0.8807676296566279, 0.7518314962926632, 0.4983951981313604, 0.7119367700814313, 0.7536665635083108, 0.6595730104082429], maxlen=20)\n",
      "eval_mean: 0.623638916823013\n"
     ]
    },
    {
     "name": "stderr",
     "output_type": "stream",
     "text": [
      "\r",
      " 85%|██████████████████████████████████████████████████████████████▎          | 85292/100000 [1:54:34<21:10, 11.57it/s]"
     ]
    },
    {
     "name": "stdout",
     "output_type": "stream",
     "text": [
      "self.evaluation_deque: deque([0.5162660235828092, 0.4846211367226889, 0.38603599593746113, 0.536083538815219, 0.8322717396966398, 0.5758015552333383, 0.8190448552214858, 0.7481893008831936, 0.516558523894445, 0.6609396181844172, 0.5170909418854231, 0.7125724706981293, 0.4633322899048051, 0.44779967772156826, 0.8807676296566279, 0.7518314962926632, 0.4983951981313604, 0.7119367700814313, 0.7536665635083108, 0.6595730104082429], maxlen=20)\n",
      "eval_mean: 0.623638916823013\n"
     ]
    },
    {
     "name": "stderr",
     "output_type": "stream",
     "text": [
      "\r",
      " 85%|██████████████████████████████████████████████████████████████▎          | 85368/100000 [1:54:42<22:23, 10.89it/s]"
     ]
    },
    {
     "name": "stdout",
     "output_type": "stream",
     "text": [
      "self.evaluation_deque: deque([0.5162660235828092, 0.4846211367226889, 0.38603599593746113, 0.536083538815219, 0.8322717396966398, 0.5758015552333383, 0.8190448552214858, 0.7481893008831936, 0.516558523894445, 0.6609396181844172, 0.5170909418854231, 0.7125724706981293, 0.4633322899048051, 0.44779967772156826, 0.8807676296566279, 0.7518314962926632, 0.4983951981313604, 0.7119367700814313, 0.7536665635083108, 0.6595730104082429], maxlen=20)\n",
      "eval_mean: 0.623638916823013\n"
     ]
    },
    {
     "name": "stderr",
     "output_type": "stream",
     "text": [
      "\r",
      " 85%|██████████████████████████████████████████████████████████████▎          | 85444/100000 [1:54:52<25:25,  9.54it/s]"
     ]
    },
    {
     "name": "stdout",
     "output_type": "stream",
     "text": [
      "self.get_collection_ratio(): 0.7759834869235855\n",
      "self.comms.count(True) : 2\n",
      "len(self.comms) : 2\n",
      "self.state.ratio_commed: 1.0\n",
      "self.comms.count(True) : 2\n",
      "len(self.comms) : 2\n",
      "self.evaluation_deque: deque([0.4846211367226889, 0.38603599593746113, 0.536083538815219, 0.8322717396966398, 0.5758015552333383, 0.8190448552214858, 0.7481893008831936, 0.516558523894445, 0.6609396181844172, 0.5170909418854231, 0.7125724706981293, 0.4633322899048051, 0.44779967772156826, 0.8807676296566279, 0.7518314962926632, 0.4983951981313604, 0.7119367700814313, 0.7536665635083108, 0.6595730104082429, 0.7759834869235855], maxlen=20)\n",
      "eval_mean: 0.6366247899900518\n"
     ]
    },
    {
     "name": "stderr",
     "output_type": "stream",
     "text": [
      "\r",
      " 86%|██████████████████████████████████████████████████████████████▍          | 85520/100000 [1:55:00<25:14,  9.56it/s]"
     ]
    },
    {
     "name": "stdout",
     "output_type": "stream",
     "text": [
      "self.evaluation_deque: deque([0.4846211367226889, 0.38603599593746113, 0.536083538815219, 0.8322717396966398, 0.5758015552333383, 0.8190448552214858, 0.7481893008831936, 0.516558523894445, 0.6609396181844172, 0.5170909418854231, 0.7125724706981293, 0.4633322899048051, 0.44779967772156826, 0.8807676296566279, 0.7518314962926632, 0.4983951981313604, 0.7119367700814313, 0.7536665635083108, 0.6595730104082429, 0.7759834869235855], maxlen=20)\n",
      "eval_mean: 0.6366247899900518\n"
     ]
    },
    {
     "name": "stderr",
     "output_type": "stream",
     "text": [
      "\r",
      " 86%|██████████████████████████████████████████████████████████████▍          | 85596/100000 [1:55:06<22:54, 10.48it/s]"
     ]
    },
    {
     "name": "stdout",
     "output_type": "stream",
     "text": [
      "self.evaluation_deque: deque([0.4846211367226889, 0.38603599593746113, 0.536083538815219, 0.8322717396966398, 0.5758015552333383, 0.8190448552214858, 0.7481893008831936, 0.516558523894445, 0.6609396181844172, 0.5170909418854231, 0.7125724706981293, 0.4633322899048051, 0.44779967772156826, 0.8807676296566279, 0.7518314962926632, 0.4983951981313604, 0.7119367700814313, 0.7536665635083108, 0.6595730104082429, 0.7759834869235855], maxlen=20)\n",
      "eval_mean: 0.6366247899900518\n"
     ]
    },
    {
     "name": "stderr",
     "output_type": "stream",
     "text": [
      "\r",
      " 86%|██████████████████████████████████████████████████████████████▌          | 85672/100000 [1:55:11<21:13, 11.25it/s]"
     ]
    },
    {
     "name": "stdout",
     "output_type": "stream",
     "text": [
      "self.evaluation_deque: deque([0.4846211367226889, 0.38603599593746113, 0.536083538815219, 0.8322717396966398, 0.5758015552333383, 0.8190448552214858, 0.7481893008831936, 0.516558523894445, 0.6609396181844172, 0.5170909418854231, 0.7125724706981293, 0.4633322899048051, 0.44779967772156826, 0.8807676296566279, 0.7518314962926632, 0.4983951981313604, 0.7119367700814313, 0.7536665635083108, 0.6595730104082429, 0.7759834869235855], maxlen=20)\n",
      "eval_mean: 0.6366247899900518\n"
     ]
    },
    {
     "name": "stderr",
     "output_type": "stream",
     "text": [
      "\r",
      " 86%|██████████████████████████████████████████████████████████████▌          | 85748/100000 [1:55:18<21:08, 11.24it/s]"
     ]
    },
    {
     "name": "stdout",
     "output_type": "stream",
     "text": [
      "self.evaluation_deque: deque([0.4846211367226889, 0.38603599593746113, 0.536083538815219, 0.8322717396966398, 0.5758015552333383, 0.8190448552214858, 0.7481893008831936, 0.516558523894445, 0.6609396181844172, 0.5170909418854231, 0.7125724706981293, 0.4633322899048051, 0.44779967772156826, 0.8807676296566279, 0.7518314962926632, 0.4983951981313604, 0.7119367700814313, 0.7536665635083108, 0.6595730104082429, 0.7759834869235855], maxlen=20)\n",
      "eval_mean: 0.6366247899900518\n"
     ]
    },
    {
     "name": "stderr",
     "output_type": "stream",
     "text": [
      "\r",
      " 86%|██████████████████████████████████████████████████████████████▋          | 85824/100000 [1:55:29<24:53,  9.49it/s]"
     ]
    },
    {
     "name": "stdout",
     "output_type": "stream",
     "text": [
      "self.get_collection_ratio(): 0.9147998613848496\n",
      "self.comms.count(True) : 2\n",
      "len(self.comms) : 3\n",
      "self.state.ratio_commed: 0.6666666666666666\n",
      "self.comms.count(True) : 2\n",
      "len(self.comms) : 3\n",
      "self.evaluation_deque: deque([0.38603599593746113, 0.536083538815219, 0.8322717396966398, 0.5758015552333383, 0.8190448552214858, 0.7481893008831936, 0.516558523894445, 0.6609396181844172, 0.5170909418854231, 0.7125724706981293, 0.4633322899048051, 0.44779967772156826, 0.8807676296566279, 0.7518314962926632, 0.4983951981313604, 0.7119367700814313, 0.7536665635083108, 0.6595730104082429, 0.7759834869235855, 0.6098665742565663], maxlen=20)\n",
      "eval_mean: 0.6428870618667457\n"
     ]
    },
    {
     "name": "stderr",
     "output_type": "stream",
     "text": [
      "\r",
      " 86%|██████████████████████████████████████████████████████████████▋          | 85900/100000 [1:55:36<23:37,  9.95it/s]"
     ]
    },
    {
     "name": "stdout",
     "output_type": "stream",
     "text": [
      "self.evaluation_deque: deque([0.38603599593746113, 0.536083538815219, 0.8322717396966398, 0.5758015552333383, 0.8190448552214858, 0.7481893008831936, 0.516558523894445, 0.6609396181844172, 0.5170909418854231, 0.7125724706981293, 0.4633322899048051, 0.44779967772156826, 0.8807676296566279, 0.7518314962926632, 0.4983951981313604, 0.7119367700814313, 0.7536665635083108, 0.6595730104082429, 0.7759834869235855, 0.6098665742565663], maxlen=20)\n",
      "eval_mean: 0.6428870618667457\n"
     ]
    },
    {
     "name": "stderr",
     "output_type": "stream",
     "text": [
      "\r",
      " 86%|██████████████████████████████████████████████████████████████▊          | 85976/100000 [1:55:41<21:39, 10.79it/s]"
     ]
    },
    {
     "name": "stdout",
     "output_type": "stream",
     "text": [
      "self.evaluation_deque: deque([0.38603599593746113, 0.536083538815219, 0.8322717396966398, 0.5758015552333383, 0.8190448552214858, 0.7481893008831936, 0.516558523894445, 0.6609396181844172, 0.5170909418854231, 0.7125724706981293, 0.4633322899048051, 0.44779967772156826, 0.8807676296566279, 0.7518314962926632, 0.4983951981313604, 0.7119367700814313, 0.7536665635083108, 0.6595730104082429, 0.7759834869235855, 0.6098665742565663], maxlen=20)\n",
      "eval_mean: 0.6428870618667457\n"
     ]
    },
    {
     "name": "stderr",
     "output_type": "stream",
     "text": [
      "\r",
      " 86%|██████████████████████████████████████████████████████████████▊          | 86052/100000 [1:55:47<20:13, 11.49it/s]"
     ]
    },
    {
     "name": "stdout",
     "output_type": "stream",
     "text": [
      "self.evaluation_deque: deque([0.38603599593746113, 0.536083538815219, 0.8322717396966398, 0.5758015552333383, 0.8190448552214858, 0.7481893008831936, 0.516558523894445, 0.6609396181844172, 0.5170909418854231, 0.7125724706981293, 0.4633322899048051, 0.44779967772156826, 0.8807676296566279, 0.7518314962926632, 0.4983951981313604, 0.7119367700814313, 0.7536665635083108, 0.6595730104082429, 0.7759834869235855, 0.6098665742565663], maxlen=20)\n",
      "eval_mean: 0.6428870618667457\n"
     ]
    },
    {
     "name": "stderr",
     "output_type": "stream",
     "text": [
      "\r",
      " 86%|██████████████████████████████████████████████████████████████▊          | 86128/100000 [1:55:53<19:16, 12.00it/s]"
     ]
    },
    {
     "name": "stdout",
     "output_type": "stream",
     "text": [
      "self.evaluation_deque: deque([0.38603599593746113, 0.536083538815219, 0.8322717396966398, 0.5758015552333383, 0.8190448552214858, 0.7481893008831936, 0.516558523894445, 0.6609396181844172, 0.5170909418854231, 0.7125724706981293, 0.4633322899048051, 0.44779967772156826, 0.8807676296566279, 0.7518314962926632, 0.4983951981313604, 0.7119367700814313, 0.7536665635083108, 0.6595730104082429, 0.7759834869235855, 0.6098665742565663], maxlen=20)\n",
      "eval_mean: 0.6428870618667457\n"
     ]
    },
    {
     "name": "stderr",
     "output_type": "stream",
     "text": [
      "\r",
      " 86%|██████████████████████████████████████████████████████████████▉          | 86204/100000 [1:56:01<20:41, 11.11it/s]"
     ]
    },
    {
     "name": "stdout",
     "output_type": "stream",
     "text": [
      "self.get_collection_ratio(): 0.7453476875092266\n",
      "self.comms.count(True) : 2\n",
      "len(self.comms) : 2\n",
      "self.state.ratio_commed: 1.0\n",
      "self.comms.count(True) : 2\n",
      "len(self.comms) : 2\n",
      "self.evaluation_deque: deque([0.536083538815219, 0.8322717396966398, 0.5758015552333383, 0.8190448552214858, 0.7481893008831936, 0.516558523894445, 0.6609396181844172, 0.5170909418854231, 0.7125724706981293, 0.4633322899048051, 0.44779967772156826, 0.8807676296566279, 0.7518314962926632, 0.4983951981313604, 0.7119367700814313, 0.7536665635083108, 0.6595730104082429, 0.7759834869235855, 0.6098665742565663, 0.7453476875092266], maxlen=20)\n",
      "eval_mean: 0.660852646445334\n"
     ]
    },
    {
     "name": "stderr",
     "output_type": "stream",
     "text": [
      "\r",
      " 86%|██████████████████████████████████████████████████████████████▉          | 86280/100000 [1:56:06<19:28, 11.74it/s]"
     ]
    },
    {
     "name": "stdout",
     "output_type": "stream",
     "text": [
      "self.evaluation_deque: deque([0.536083538815219, 0.8322717396966398, 0.5758015552333383, 0.8190448552214858, 0.7481893008831936, 0.516558523894445, 0.6609396181844172, 0.5170909418854231, 0.7125724706981293, 0.4633322899048051, 0.44779967772156826, 0.8807676296566279, 0.7518314962926632, 0.4983951981313604, 0.7119367700814313, 0.7536665635083108, 0.6595730104082429, 0.7759834869235855, 0.6098665742565663, 0.7453476875092266], maxlen=20)\n",
      "eval_mean: 0.660852646445334\n"
     ]
    },
    {
     "name": "stderr",
     "output_type": "stream",
     "text": [
      "\r",
      " 86%|███████████████████████████████████████████████████████████████          | 86356/100000 [1:56:12<18:37, 12.21it/s]"
     ]
    },
    {
     "name": "stdout",
     "output_type": "stream",
     "text": [
      "self.evaluation_deque: deque([0.536083538815219, 0.8322717396966398, 0.5758015552333383, 0.8190448552214858, 0.7481893008831936, 0.516558523894445, 0.6609396181844172, 0.5170909418854231, 0.7125724706981293, 0.4633322899048051, 0.44779967772156826, 0.8807676296566279, 0.7518314962926632, 0.4983951981313604, 0.7119367700814313, 0.7536665635083108, 0.6595730104082429, 0.7759834869235855, 0.6098665742565663, 0.7453476875092266], maxlen=20)\n",
      "eval_mean: 0.660852646445334\n"
     ]
    },
    {
     "name": "stderr",
     "output_type": "stream",
     "text": [
      "\r",
      " 86%|███████████████████████████████████████████████████████████████          | 86432/100000 [1:56:18<18:02, 12.53it/s]"
     ]
    },
    {
     "name": "stdout",
     "output_type": "stream",
     "text": [
      "self.evaluation_deque: deque([0.536083538815219, 0.8322717396966398, 0.5758015552333383, 0.8190448552214858, 0.7481893008831936, 0.516558523894445, 0.6609396181844172, 0.5170909418854231, 0.7125724706981293, 0.4633322899048051, 0.44779967772156826, 0.8807676296566279, 0.7518314962926632, 0.4983951981313604, 0.7119367700814313, 0.7536665635083108, 0.6595730104082429, 0.7759834869235855, 0.6098665742565663, 0.7453476875092266], maxlen=20)\n",
      "eval_mean: 0.660852646445334\n"
     ]
    },
    {
     "name": "stderr",
     "output_type": "stream",
     "text": [
      "\r",
      " 87%|███████████████████████████████████████████████████████████████▏         | 86508/100000 [1:56:24<18:39, 12.05it/s]"
     ]
    },
    {
     "name": "stdout",
     "output_type": "stream",
     "text": [
      "self.evaluation_deque: deque([0.536083538815219, 0.8322717396966398, 0.5758015552333383, 0.8190448552214858, 0.7481893008831936, 0.516558523894445, 0.6609396181844172, 0.5170909418854231, 0.7125724706981293, 0.4633322899048051, 0.44779967772156826, 0.8807676296566279, 0.7518314962926632, 0.4983951981313604, 0.7119367700814313, 0.7536665635083108, 0.6595730104082429, 0.7759834869235855, 0.6098665742565663, 0.7453476875092266], maxlen=20)\n",
      "eval_mean: 0.660852646445334\n"
     ]
    },
    {
     "name": "stderr",
     "output_type": "stream",
     "text": [
      "\r",
      " 87%|███████████████████████████████████████████████████████████████▏         | 86584/100000 [1:56:33<20:21, 10.99it/s]"
     ]
    },
    {
     "name": "stdout",
     "output_type": "stream",
     "text": [
      "self.get_collection_ratio(): 0.45369376407415407\n",
      "self.comms.count(True) : 1\n",
      "len(self.comms) : 1\n",
      "self.state.ratio_commed: 1.0\n",
      "self.comms.count(True) : 1\n",
      "len(self.comms) : 1\n",
      "self.evaluation_deque: deque([0.8322717396966398, 0.5758015552333383, 0.8190448552214858, 0.7481893008831936, 0.516558523894445, 0.6609396181844172, 0.5170909418854231, 0.7125724706981293, 0.4633322899048051, 0.44779967772156826, 0.8807676296566279, 0.7518314962926632, 0.4983951981313604, 0.7119367700814313, 0.7536665635083108, 0.6595730104082429, 0.7759834869235855, 0.6098665742565663, 0.7453476875092266, 0.45369376407415407], maxlen=20)\n",
      "eval_mean: 0.6567331577082808\n"
     ]
    },
    {
     "name": "stderr",
     "output_type": "stream",
     "text": [
      "\r",
      " 87%|███████████████████████████████████████████████████████████████▎         | 86660/100000 [1:56:41<21:12, 10.48it/s]"
     ]
    },
    {
     "name": "stdout",
     "output_type": "stream",
     "text": [
      "self.evaluation_deque: deque([0.8322717396966398, 0.5758015552333383, 0.8190448552214858, 0.7481893008831936, 0.516558523894445, 0.6609396181844172, 0.5170909418854231, 0.7125724706981293, 0.4633322899048051, 0.44779967772156826, 0.8807676296566279, 0.7518314962926632, 0.4983951981313604, 0.7119367700814313, 0.7536665635083108, 0.6595730104082429, 0.7759834869235855, 0.6098665742565663, 0.7453476875092266, 0.45369376407415407], maxlen=20)\n",
      "eval_mean: 0.6567331577082808\n"
     ]
    },
    {
     "name": "stderr",
     "output_type": "stream",
     "text": [
      "\r",
      " 87%|███████████████████████████████████████████████████████████████▎         | 86736/100000 [1:56:46<19:44, 11.20it/s]"
     ]
    },
    {
     "name": "stdout",
     "output_type": "stream",
     "text": [
      "self.evaluation_deque: deque([0.8322717396966398, 0.5758015552333383, 0.8190448552214858, 0.7481893008831936, 0.516558523894445, 0.6609396181844172, 0.5170909418854231, 0.7125724706981293, 0.4633322899048051, 0.44779967772156826, 0.8807676296566279, 0.7518314962926632, 0.4983951981313604, 0.7119367700814313, 0.7536665635083108, 0.6595730104082429, 0.7759834869235855, 0.6098665742565663, 0.7453476875092266, 0.45369376407415407], maxlen=20)\n",
      "eval_mean: 0.6567331577082808\n"
     ]
    },
    {
     "name": "stderr",
     "output_type": "stream",
     "text": [
      "\r",
      " 87%|███████████████████████████████████████████████████████████████▎         | 86812/100000 [1:56:52<18:39, 11.78it/s]"
     ]
    },
    {
     "name": "stdout",
     "output_type": "stream",
     "text": [
      "self.evaluation_deque: deque([0.8322717396966398, 0.5758015552333383, 0.8190448552214858, 0.7481893008831936, 0.516558523894445, 0.6609396181844172, 0.5170909418854231, 0.7125724706981293, 0.4633322899048051, 0.44779967772156826, 0.8807676296566279, 0.7518314962926632, 0.4983951981313604, 0.7119367700814313, 0.7536665635083108, 0.6595730104082429, 0.7759834869235855, 0.6098665742565663, 0.7453476875092266, 0.45369376407415407], maxlen=20)\n",
      "eval_mean: 0.6567331577082808\n"
     ]
    },
    {
     "name": "stderr",
     "output_type": "stream",
     "text": [
      "\r",
      " 87%|███████████████████████████████████████████████████████████████▍         | 86888/100000 [1:57:00<19:40, 11.11it/s]"
     ]
    },
    {
     "name": "stdout",
     "output_type": "stream",
     "text": [
      "self.evaluation_deque: deque([0.8322717396966398, 0.5758015552333383, 0.8190448552214858, 0.7481893008831936, 0.516558523894445, 0.6609396181844172, 0.5170909418854231, 0.7125724706981293, 0.4633322899048051, 0.44779967772156826, 0.8807676296566279, 0.7518314962926632, 0.4983951981313604, 0.7119367700814313, 0.7536665635083108, 0.6595730104082429, 0.7759834869235855, 0.6098665742565663, 0.7453476875092266, 0.45369376407415407], maxlen=20)\n",
      "eval_mean: 0.6567331577082808\n"
     ]
    },
    {
     "name": "stderr",
     "output_type": "stream",
     "text": [
      "\r",
      " 87%|███████████████████████████████████████████████████████████████▍         | 86964/100000 [1:57:09<21:53,  9.92it/s]"
     ]
    },
    {
     "name": "stdout",
     "output_type": "stream",
     "text": [
      "self.get_collection_ratio(): 0.562725641780248\n",
      "self.comms.count(True) : 1\n",
      "len(self.comms) : 1\n",
      "self.state.ratio_commed: 1.0\n",
      "self.comms.count(True) : 1\n",
      "len(self.comms) : 1\n",
      "self.evaluation_deque: deque([0.5758015552333383, 0.8190448552214858, 0.7481893008831936, 0.516558523894445, 0.6609396181844172, 0.5170909418854231, 0.7125724706981293, 0.4633322899048051, 0.44779967772156826, 0.8807676296566279, 0.7518314962926632, 0.4983951981313604, 0.7119367700814313, 0.7536665635083108, 0.6595730104082429, 0.7759834869235855, 0.6098665742565663, 0.7453476875092266, 0.45369376407415407, 0.562725641780248], maxlen=20)\n",
      "eval_mean: 0.6432558528124611\n"
     ]
    },
    {
     "name": "stderr",
     "output_type": "stream",
     "text": [
      "\r",
      " 87%|███████████████████████████████████████████████████████████████▌         | 87040/100000 [1:57:16<21:01, 10.28it/s]"
     ]
    },
    {
     "name": "stdout",
     "output_type": "stream",
     "text": [
      "self.evaluation_deque: deque([0.5758015552333383, 0.8190448552214858, 0.7481893008831936, 0.516558523894445, 0.6609396181844172, 0.5170909418854231, 0.7125724706981293, 0.4633322899048051, 0.44779967772156826, 0.8807676296566279, 0.7518314962926632, 0.4983951981313604, 0.7119367700814313, 0.7536665635083108, 0.6595730104082429, 0.7759834869235855, 0.6098665742565663, 0.7453476875092266, 0.45369376407415407, 0.562725641780248], maxlen=20)\n",
      "eval_mean: 0.6432558528124611\n"
     ]
    },
    {
     "name": "stderr",
     "output_type": "stream",
     "text": [
      "\r",
      " 87%|███████████████████████████████████████████████████████████████▌         | 87116/100000 [1:57:22<19:23, 11.07it/s]"
     ]
    },
    {
     "name": "stdout",
     "output_type": "stream",
     "text": [
      "self.evaluation_deque: deque([0.5758015552333383, 0.8190448552214858, 0.7481893008831936, 0.516558523894445, 0.6609396181844172, 0.5170909418854231, 0.7125724706981293, 0.4633322899048051, 0.44779967772156826, 0.8807676296566279, 0.7518314962926632, 0.4983951981313604, 0.7119367700814313, 0.7536665635083108, 0.6595730104082429, 0.7759834869235855, 0.6098665742565663, 0.7453476875092266, 0.45369376407415407, 0.562725641780248], maxlen=20)\n",
      "eval_mean: 0.6432558528124611\n"
     ]
    },
    {
     "name": "stderr",
     "output_type": "stream",
     "text": [
      "\r",
      " 87%|███████████████████████████████████████████████████████████████▋         | 87192/100000 [1:57:28<18:16, 11.68it/s]"
     ]
    },
    {
     "name": "stdout",
     "output_type": "stream",
     "text": [
      "self.evaluation_deque: deque([0.5758015552333383, 0.8190448552214858, 0.7481893008831936, 0.516558523894445, 0.6609396181844172, 0.5170909418854231, 0.7125724706981293, 0.4633322899048051, 0.44779967772156826, 0.8807676296566279, 0.7518314962926632, 0.4983951981313604, 0.7119367700814313, 0.7536665635083108, 0.6595730104082429, 0.7759834869235855, 0.6098665742565663, 0.7453476875092266, 0.45369376407415407, 0.562725641780248], maxlen=20)\n",
      "eval_mean: 0.6432558528124611\n"
     ]
    },
    {
     "name": "stderr",
     "output_type": "stream",
     "text": [
      "\r",
      " 87%|███████████████████████████████████████████████████████████████▋         | 87268/100000 [1:57:36<19:25, 10.93it/s]"
     ]
    },
    {
     "name": "stdout",
     "output_type": "stream",
     "text": [
      "self.evaluation_deque: deque([0.5758015552333383, 0.8190448552214858, 0.7481893008831936, 0.516558523894445, 0.6609396181844172, 0.5170909418854231, 0.7125724706981293, 0.4633322899048051, 0.44779967772156826, 0.8807676296566279, 0.7518314962926632, 0.4983951981313604, 0.7119367700814313, 0.7536665635083108, 0.6595730104082429, 0.7759834869235855, 0.6098665742565663, 0.7453476875092266, 0.45369376407415407, 0.562725641780248], maxlen=20)\n",
      "eval_mean: 0.6432558528124611\n"
     ]
    },
    {
     "name": "stderr",
     "output_type": "stream",
     "text": [
      "\r",
      " 87%|███████████████████████████████████████████████████████████████▊         | 87344/100000 [1:57:43<19:30, 10.81it/s]"
     ]
    },
    {
     "name": "stdout",
     "output_type": "stream",
     "text": [
      "self.get_collection_ratio(): 0.5580370914610766\n",
      "self.comms.count(True) : 1\n",
      "len(self.comms) : 1\n",
      "self.state.ratio_commed: 1.0\n",
      "self.comms.count(True) : 1\n",
      "len(self.comms) : 1\n",
      "self.evaluation_deque: deque([0.8190448552214858, 0.7481893008831936, 0.516558523894445, 0.6609396181844172, 0.5170909418854231, 0.7125724706981293, 0.4633322899048051, 0.44779967772156826, 0.8807676296566279, 0.7518314962926632, 0.4983951981313604, 0.7119367700814313, 0.7536665635083108, 0.6595730104082429, 0.7759834869235855, 0.6098665742565663, 0.7453476875092266, 0.45369376407415407, 0.562725641780248, 0.5580370914610766], maxlen=20)\n",
      "eval_mean: 0.6423676296238481\n"
     ]
    },
    {
     "name": "stderr",
     "output_type": "stream",
     "text": [
      "\r",
      " 87%|███████████████████████████████████████████████████████████████▊         | 87420/100000 [1:57:50<19:11, 10.92it/s]"
     ]
    },
    {
     "name": "stdout",
     "output_type": "stream",
     "text": [
      "self.evaluation_deque: deque([0.8190448552214858, 0.7481893008831936, 0.516558523894445, 0.6609396181844172, 0.5170909418854231, 0.7125724706981293, 0.4633322899048051, 0.44779967772156826, 0.8807676296566279, 0.7518314962926632, 0.4983951981313604, 0.7119367700814313, 0.7536665635083108, 0.6595730104082429, 0.7759834869235855, 0.6098665742565663, 0.7453476875092266, 0.45369376407415407, 0.562725641780248, 0.5580370914610766], maxlen=20)\n",
      "eval_mean: 0.6423676296238481\n"
     ]
    },
    {
     "name": "stderr",
     "output_type": "stream",
     "text": [
      "\r",
      " 87%|███████████████████████████████████████████████████████████████▊         | 87496/100000 [1:57:58<19:54, 10.47it/s]"
     ]
    },
    {
     "name": "stdout",
     "output_type": "stream",
     "text": [
      "self.evaluation_deque: deque([0.8190448552214858, 0.7481893008831936, 0.516558523894445, 0.6609396181844172, 0.5170909418854231, 0.7125724706981293, 0.4633322899048051, 0.44779967772156826, 0.8807676296566279, 0.7518314962926632, 0.4983951981313604, 0.7119367700814313, 0.7536665635083108, 0.6595730104082429, 0.7759834869235855, 0.6098665742565663, 0.7453476875092266, 0.45369376407415407, 0.562725641780248, 0.5580370914610766], maxlen=20)\n",
      "eval_mean: 0.6423676296238481\n"
     ]
    },
    {
     "name": "stderr",
     "output_type": "stream",
     "text": [
      "\r",
      " 88%|███████████████████████████████████████████████████████████████▉         | 87572/100000 [1:58:03<18:27, 11.22it/s]"
     ]
    },
    {
     "name": "stdout",
     "output_type": "stream",
     "text": [
      "self.evaluation_deque: deque([0.8190448552214858, 0.7481893008831936, 0.516558523894445, 0.6609396181844172, 0.5170909418854231, 0.7125724706981293, 0.4633322899048051, 0.44779967772156826, 0.8807676296566279, 0.7518314962926632, 0.4983951981313604, 0.7119367700814313, 0.7536665635083108, 0.6595730104082429, 0.7759834869235855, 0.6098665742565663, 0.7453476875092266, 0.45369376407415407, 0.562725641780248, 0.5580370914610766], maxlen=20)\n",
      "eval_mean: 0.6423676296238481\n"
     ]
    },
    {
     "name": "stderr",
     "output_type": "stream",
     "text": [
      "\r",
      " 88%|███████████████████████████████████████████████████████████████▉         | 87648/100000 [1:58:09<17:25, 11.81it/s]"
     ]
    },
    {
     "name": "stdout",
     "output_type": "stream",
     "text": [
      "self.evaluation_deque: deque([0.8190448552214858, 0.7481893008831936, 0.516558523894445, 0.6609396181844172, 0.5170909418854231, 0.7125724706981293, 0.4633322899048051, 0.44779967772156826, 0.8807676296566279, 0.7518314962926632, 0.4983951981313604, 0.7119367700814313, 0.7536665635083108, 0.6595730104082429, 0.7759834869235855, 0.6098665742565663, 0.7453476875092266, 0.45369376407415407, 0.562725641780248, 0.5580370914610766], maxlen=20)\n",
      "eval_mean: 0.6423676296238481\n"
     ]
    },
    {
     "name": "stderr",
     "output_type": "stream",
     "text": [
      "\r",
      " 88%|████████████████████████████████████████████████████████████████         | 87724/100000 [1:58:17<19:04, 10.72it/s]"
     ]
    },
    {
     "name": "stdout",
     "output_type": "stream",
     "text": [
      "self.get_collection_ratio(): 0.6033667055728801\n",
      "self.comms.count(True) : 1\n",
      "len(self.comms) : 1\n",
      "self.state.ratio_commed: 1.0\n",
      "self.comms.count(True) : 1\n",
      "len(self.comms) : 1\n",
      "self.evaluation_deque: deque([0.7481893008831936, 0.516558523894445, 0.6609396181844172, 0.5170909418854231, 0.7125724706981293, 0.4633322899048051, 0.44779967772156826, 0.8807676296566279, 0.7518314962926632, 0.4983951981313604, 0.7119367700814313, 0.7536665635083108, 0.6595730104082429, 0.7759834869235855, 0.6098665742565663, 0.7453476875092266, 0.45369376407415407, 0.562725641780248, 0.5580370914610766, 0.6033667055728801], maxlen=20)\n",
      "eval_mean: 0.6315837221414179\n"
     ]
    },
    {
     "name": "stderr",
     "output_type": "stream",
     "text": [
      "\r",
      " 88%|████████████████████████████████████████████████████████████████         | 87800/100000 [1:58:23<17:53, 11.36it/s]"
     ]
    },
    {
     "name": "stdout",
     "output_type": "stream",
     "text": [
      "self.evaluation_deque: deque([0.7481893008831936, 0.516558523894445, 0.6609396181844172, 0.5170909418854231, 0.7125724706981293, 0.4633322899048051, 0.44779967772156826, 0.8807676296566279, 0.7518314962926632, 0.4983951981313604, 0.7119367700814313, 0.7536665635083108, 0.6595730104082429, 0.7759834869235855, 0.6098665742565663, 0.7453476875092266, 0.45369376407415407, 0.562725641780248, 0.5580370914610766, 0.6033667055728801], maxlen=20)\n",
      "eval_mean: 0.6315837221414179\n"
     ]
    },
    {
     "name": "stderr",
     "output_type": "stream",
     "text": [
      "\r",
      " 88%|████████████████████████████████████████████████████████████████▏        | 87876/100000 [1:58:31<18:55, 10.68it/s]"
     ]
    },
    {
     "name": "stdout",
     "output_type": "stream",
     "text": [
      "self.evaluation_deque: deque([0.7481893008831936, 0.516558523894445, 0.6609396181844172, 0.5170909418854231, 0.7125724706981293, 0.4633322899048051, 0.44779967772156826, 0.8807676296566279, 0.7518314962926632, 0.4983951981313604, 0.7119367700814313, 0.7536665635083108, 0.6595730104082429, 0.7759834869235855, 0.6098665742565663, 0.7453476875092266, 0.45369376407415407, 0.562725641780248, 0.5580370914610766, 0.6033667055728801], maxlen=20)\n",
      "eval_mean: 0.6315837221414179\n"
     ]
    },
    {
     "name": "stderr",
     "output_type": "stream",
     "text": [
      "\r",
      " 88%|████████████████████████████████████████████████████████████████▏        | 87952/100000 [1:58:39<19:28, 10.31it/s]"
     ]
    },
    {
     "name": "stdout",
     "output_type": "stream",
     "text": [
      "self.evaluation_deque: deque([0.7481893008831936, 0.516558523894445, 0.6609396181844172, 0.5170909418854231, 0.7125724706981293, 0.4633322899048051, 0.44779967772156826, 0.8807676296566279, 0.7518314962926632, 0.4983951981313604, 0.7119367700814313, 0.7536665635083108, 0.6595730104082429, 0.7759834869235855, 0.6098665742565663, 0.7453476875092266, 0.45369376407415407, 0.562725641780248, 0.5580370914610766, 0.6033667055728801], maxlen=20)\n",
      "eval_mean: 0.6315837221414179\n"
     ]
    },
    {
     "name": "stderr",
     "output_type": "stream",
     "text": [
      "\r",
      " 88%|████████████████████████████████████████████████████████████████▎        | 88028/100000 [1:58:46<18:53, 10.56it/s]"
     ]
    },
    {
     "name": "stdout",
     "output_type": "stream",
     "text": [
      "self.evaluation_deque: deque([0.7481893008831936, 0.516558523894445, 0.6609396181844172, 0.5170909418854231, 0.7125724706981293, 0.4633322899048051, 0.44779967772156826, 0.8807676296566279, 0.7518314962926632, 0.4983951981313604, 0.7119367700814313, 0.7536665635083108, 0.6595730104082429, 0.7759834869235855, 0.6098665742565663, 0.7453476875092266, 0.45369376407415407, 0.562725641780248, 0.5580370914610766, 0.6033667055728801], maxlen=20)\n",
      "eval_mean: 0.6315837221414179\n"
     ]
    },
    {
     "name": "stderr",
     "output_type": "stream",
     "text": [
      "\r",
      " 88%|████████████████████████████████████████████████████████████████▎        | 88104/100000 [1:58:56<21:10,  9.36it/s]"
     ]
    },
    {
     "name": "stdout",
     "output_type": "stream",
     "text": [
      "self.get_collection_ratio(): 0.822411283096759\n",
      "self.comms.count(True) : 2\n",
      "len(self.comms) : 2\n",
      "self.state.ratio_commed: 1.0\n",
      "self.comms.count(True) : 2\n",
      "len(self.comms) : 2\n",
      "self.evaluation_deque: deque([0.516558523894445, 0.6609396181844172, 0.5170909418854231, 0.7125724706981293, 0.4633322899048051, 0.44779967772156826, 0.8807676296566279, 0.7518314962926632, 0.4983951981313604, 0.7119367700814313, 0.7536665635083108, 0.6595730104082429, 0.7759834869235855, 0.6098665742565663, 0.7453476875092266, 0.45369376407415407, 0.562725641780248, 0.5580370914610766, 0.6033667055728801, 0.822411283096759], maxlen=20)\n",
      "eval_mean: 0.6352948212520959\n"
     ]
    },
    {
     "name": "stderr",
     "output_type": "stream",
     "text": [
      "\r",
      " 88%|████████████████████████████████████████████████████████████████▎        | 88180/100000 [1:59:02<19:08, 10.29it/s]"
     ]
    },
    {
     "name": "stdout",
     "output_type": "stream",
     "text": [
      "self.evaluation_deque: deque([0.516558523894445, 0.6609396181844172, 0.5170909418854231, 0.7125724706981293, 0.4633322899048051, 0.44779967772156826, 0.8807676296566279, 0.7518314962926632, 0.4983951981313604, 0.7119367700814313, 0.7536665635083108, 0.6595730104082429, 0.7759834869235855, 0.6098665742565663, 0.7453476875092266, 0.45369376407415407, 0.562725641780248, 0.5580370914610766, 0.6033667055728801, 0.822411283096759], maxlen=20)\n",
      "eval_mean: 0.6352948212520959\n"
     ]
    },
    {
     "name": "stderr",
     "output_type": "stream",
     "text": [
      "\r",
      " 88%|████████████████████████████████████████████████████████████████▍        | 88256/100000 [1:59:10<19:27, 10.06it/s]"
     ]
    },
    {
     "name": "stdout",
     "output_type": "stream",
     "text": [
      "self.evaluation_deque: deque([0.516558523894445, 0.6609396181844172, 0.5170909418854231, 0.7125724706981293, 0.4633322899048051, 0.44779967772156826, 0.8807676296566279, 0.7518314962926632, 0.4983951981313604, 0.7119367700814313, 0.7536665635083108, 0.6595730104082429, 0.7759834869235855, 0.6098665742565663, 0.7453476875092266, 0.45369376407415407, 0.562725641780248, 0.5580370914610766, 0.6033667055728801, 0.822411283096759], maxlen=20)\n",
      "eval_mean: 0.6352948212520959\n"
     ]
    },
    {
     "name": "stderr",
     "output_type": "stream",
     "text": [
      "\r",
      " 88%|████████████████████████████████████████████████████████████████▍        | 88332/100000 [1:59:17<18:50, 10.32it/s]"
     ]
    },
    {
     "name": "stdout",
     "output_type": "stream",
     "text": [
      "self.evaluation_deque: deque([0.516558523894445, 0.6609396181844172, 0.5170909418854231, 0.7125724706981293, 0.4633322899048051, 0.44779967772156826, 0.8807676296566279, 0.7518314962926632, 0.4983951981313604, 0.7119367700814313, 0.7536665635083108, 0.6595730104082429, 0.7759834869235855, 0.6098665742565663, 0.7453476875092266, 0.45369376407415407, 0.562725641780248, 0.5580370914610766, 0.6033667055728801, 0.822411283096759], maxlen=20)\n",
      "eval_mean: 0.6352948212520959\n"
     ]
    },
    {
     "name": "stderr",
     "output_type": "stream",
     "text": [
      "\r",
      " 88%|████████████████████████████████████████████████████████████████▌        | 88408/100000 [1:59:25<19:15, 10.03it/s]"
     ]
    },
    {
     "name": "stdout",
     "output_type": "stream",
     "text": [
      "self.evaluation_deque: deque([0.516558523894445, 0.6609396181844172, 0.5170909418854231, 0.7125724706981293, 0.4633322899048051, 0.44779967772156826, 0.8807676296566279, 0.7518314962926632, 0.4983951981313604, 0.7119367700814313, 0.7536665635083108, 0.6595730104082429, 0.7759834869235855, 0.6098665742565663, 0.7453476875092266, 0.45369376407415407, 0.562725641780248, 0.5580370914610766, 0.6033667055728801, 0.822411283096759], maxlen=20)\n",
      "eval_mean: 0.6352948212520959\n"
     ]
    },
    {
     "name": "stderr",
     "output_type": "stream",
     "text": [
      "\r",
      " 88%|████████████████████████████████████████████████████████████████▌        | 88484/100000 [1:59:32<18:53, 10.16it/s]"
     ]
    },
    {
     "name": "stdout",
     "output_type": "stream",
     "text": [
      "self.get_collection_ratio(): 0.560088594661919\n",
      "self.comms.count(True) : 1\n",
      "len(self.comms) : 1\n",
      "self.state.ratio_commed: 1.0\n",
      "self.comms.count(True) : 1\n",
      "len(self.comms) : 1\n",
      "self.evaluation_deque: deque([0.6609396181844172, 0.5170909418854231, 0.7125724706981293, 0.4633322899048051, 0.44779967772156826, 0.8807676296566279, 0.7518314962926632, 0.4983951981313604, 0.7119367700814313, 0.7536665635083108, 0.6595730104082429, 0.7759834869235855, 0.6098665742565663, 0.7453476875092266, 0.45369376407415407, 0.562725641780248, 0.5580370914610766, 0.6033667055728801, 0.822411283096759, 0.560088594661919], maxlen=20)\n",
      "eval_mean: 0.6374713247904695\n"
     ]
    },
    {
     "name": "stderr",
     "output_type": "stream",
     "text": [
      "\r",
      " 89%|████████████████████████████████████████████████████████████████▋        | 88560/100000 [1:59:39<18:10, 10.49it/s]"
     ]
    },
    {
     "name": "stdout",
     "output_type": "stream",
     "text": [
      "self.evaluation_deque: deque([0.6609396181844172, 0.5170909418854231, 0.7125724706981293, 0.4633322899048051, 0.44779967772156826, 0.8807676296566279, 0.7518314962926632, 0.4983951981313604, 0.7119367700814313, 0.7536665635083108, 0.6595730104082429, 0.7759834869235855, 0.6098665742565663, 0.7453476875092266, 0.45369376407415407, 0.562725641780248, 0.5580370914610766, 0.6033667055728801, 0.822411283096759, 0.560088594661919], maxlen=20)\n",
      "eval_mean: 0.6374713247904695\n"
     ]
    },
    {
     "name": "stderr",
     "output_type": "stream",
     "text": [
      "\r",
      " 89%|████████████████████████████████████████████████████████████████▋        | 88636/100000 [1:59:46<17:44, 10.68it/s]"
     ]
    },
    {
     "name": "stdout",
     "output_type": "stream",
     "text": [
      "self.evaluation_deque: deque([0.6609396181844172, 0.5170909418854231, 0.7125724706981293, 0.4633322899048051, 0.44779967772156826, 0.8807676296566279, 0.7518314962926632, 0.4983951981313604, 0.7119367700814313, 0.7536665635083108, 0.6595730104082429, 0.7759834869235855, 0.6098665742565663, 0.7453476875092266, 0.45369376407415407, 0.562725641780248, 0.5580370914610766, 0.6033667055728801, 0.822411283096759, 0.560088594661919], maxlen=20)\n",
      "eval_mean: 0.6374713247904695\n"
     ]
    },
    {
     "name": "stderr",
     "output_type": "stream",
     "text": [
      "\r",
      " 89%|████████████████████████████████████████████████████████████████▊        | 88712/100000 [1:59:51<16:38, 11.31it/s]"
     ]
    },
    {
     "name": "stdout",
     "output_type": "stream",
     "text": [
      "self.evaluation_deque: deque([0.6609396181844172, 0.5170909418854231, 0.7125724706981293, 0.4633322899048051, 0.44779967772156826, 0.8807676296566279, 0.7518314962926632, 0.4983951981313604, 0.7119367700814313, 0.7536665635083108, 0.6595730104082429, 0.7759834869235855, 0.6098665742565663, 0.7453476875092266, 0.45369376407415407, 0.562725641780248, 0.5580370914610766, 0.6033667055728801, 0.822411283096759, 0.560088594661919], maxlen=20)\n",
      "eval_mean: 0.6374713247904695\n"
     ]
    },
    {
     "name": "stderr",
     "output_type": "stream",
     "text": [
      "\r",
      " 89%|████████████████████████████████████████████████████████████████▊        | 88788/100000 [1:59:58<16:44, 11.17it/s]"
     ]
    },
    {
     "name": "stdout",
     "output_type": "stream",
     "text": [
      "self.evaluation_deque: deque([0.6609396181844172, 0.5170909418854231, 0.7125724706981293, 0.4633322899048051, 0.44779967772156826, 0.8807676296566279, 0.7518314962926632, 0.4983951981313604, 0.7119367700814313, 0.7536665635083108, 0.6595730104082429, 0.7759834869235855, 0.6098665742565663, 0.7453476875092266, 0.45369376407415407, 0.562725641780248, 0.5580370914610766, 0.6033667055728801, 0.822411283096759, 0.560088594661919], maxlen=20)\n",
      "eval_mean: 0.6374713247904695\n"
     ]
    },
    {
     "name": "stderr",
     "output_type": "stream",
     "text": [
      "\r",
      " 89%|████████████████████████████████████████████████████████████████▊        | 88864/100000 [2:00:09<19:06,  9.71it/s]"
     ]
    },
    {
     "name": "stdout",
     "output_type": "stream",
     "text": [
      "self.get_collection_ratio(): 0.7377345372264673\n",
      "self.comms.count(True) : 3\n",
      "len(self.comms) : 3\n",
      "self.state.ratio_commed: 1.0\n",
      "self.comms.count(True) : 3\n",
      "len(self.comms) : 3\n",
      "self.evaluation_deque: deque([0.5170909418854231, 0.7125724706981293, 0.4633322899048051, 0.44779967772156826, 0.8807676296566279, 0.7518314962926632, 0.4983951981313604, 0.7119367700814313, 0.7536665635083108, 0.6595730104082429, 0.7759834869235855, 0.6098665742565663, 0.7453476875092266, 0.45369376407415407, 0.562725641780248, 0.5580370914610766, 0.6033667055728801, 0.822411283096759, 0.560088594661919, 0.7377345372264673], maxlen=20)\n",
      "eval_mean: 0.6413110707425722\n"
     ]
    },
    {
     "name": "stderr",
     "output_type": "stream",
     "text": [
      "\r",
      " 89%|████████████████████████████████████████████████████████████████▉        | 88940/100000 [2:00:17<19:18,  9.55it/s]"
     ]
    },
    {
     "name": "stdout",
     "output_type": "stream",
     "text": [
      "self.evaluation_deque: deque([0.5170909418854231, 0.7125724706981293, 0.4633322899048051, 0.44779967772156826, 0.8807676296566279, 0.7518314962926632, 0.4983951981313604, 0.7119367700814313, 0.7536665635083108, 0.6595730104082429, 0.7759834869235855, 0.6098665742565663, 0.7453476875092266, 0.45369376407415407, 0.562725641780248, 0.5580370914610766, 0.6033667055728801, 0.822411283096759, 0.560088594661919, 0.7377345372264673], maxlen=20)\n",
      "eval_mean: 0.6413110707425722\n"
     ]
    },
    {
     "name": "stderr",
     "output_type": "stream",
     "text": [
      "\r",
      " 89%|████████████████████████████████████████████████████████████████▉        | 89016/100000 [2:00:24<18:32,  9.88it/s]"
     ]
    },
    {
     "name": "stdout",
     "output_type": "stream",
     "text": [
      "self.evaluation_deque: deque([0.5170909418854231, 0.7125724706981293, 0.4633322899048051, 0.44779967772156826, 0.8807676296566279, 0.7518314962926632, 0.4983951981313604, 0.7119367700814313, 0.7536665635083108, 0.6595730104082429, 0.7759834869235855, 0.6098665742565663, 0.7453476875092266, 0.45369376407415407, 0.562725641780248, 0.5580370914610766, 0.6033667055728801, 0.822411283096759, 0.560088594661919, 0.7377345372264673], maxlen=20)\n",
      "eval_mean: 0.6413110707425722\n"
     ]
    },
    {
     "name": "stderr",
     "output_type": "stream",
     "text": [
      "\r",
      " 89%|█████████████████████████████████████████████████████████████████        | 89092/100000 [2:00:30<17:01, 10.68it/s]"
     ]
    },
    {
     "name": "stdout",
     "output_type": "stream",
     "text": [
      "self.evaluation_deque: deque([0.5170909418854231, 0.7125724706981293, 0.4633322899048051, 0.44779967772156826, 0.8807676296566279, 0.7518314962926632, 0.4983951981313604, 0.7119367700814313, 0.7536665635083108, 0.6595730104082429, 0.7759834869235855, 0.6098665742565663, 0.7453476875092266, 0.45369376407415407, 0.562725641780248, 0.5580370914610766, 0.6033667055728801, 0.822411283096759, 0.560088594661919, 0.7377345372264673], maxlen=20)\n",
      "eval_mean: 0.6413110707425722\n"
     ]
    },
    {
     "name": "stderr",
     "output_type": "stream",
     "text": [
      "\r",
      " 89%|█████████████████████████████████████████████████████████████████        | 89168/100000 [2:00:36<15:57, 11.32it/s]"
     ]
    },
    {
     "name": "stdout",
     "output_type": "stream",
     "text": [
      "self.evaluation_deque: deque([0.5170909418854231, 0.7125724706981293, 0.4633322899048051, 0.44779967772156826, 0.8807676296566279, 0.7518314962926632, 0.4983951981313604, 0.7119367700814313, 0.7536665635083108, 0.6595730104082429, 0.7759834869235855, 0.6098665742565663, 0.7453476875092266, 0.45369376407415407, 0.562725641780248, 0.5580370914610766, 0.6033667055728801, 0.822411283096759, 0.560088594661919, 0.7377345372264673], maxlen=20)\n",
      "eval_mean: 0.6413110707425722\n"
     ]
    },
    {
     "name": "stderr",
     "output_type": "stream",
     "text": [
      "\r",
      " 89%|█████████████████████████████████████████████████████████████████▏       | 89244/100000 [2:00:47<19:07,  9.38it/s]"
     ]
    },
    {
     "name": "stdout",
     "output_type": "stream",
     "text": [
      "self.get_collection_ratio(): 0.7412979259189713\n",
      "self.comms.count(True) : 3\n",
      "len(self.comms) : 3\n",
      "self.state.ratio_commed: 1.0\n",
      "self.comms.count(True) : 3\n",
      "len(self.comms) : 3\n",
      "self.evaluation_deque: deque([0.7125724706981293, 0.4633322899048051, 0.44779967772156826, 0.8807676296566279, 0.7518314962926632, 0.4983951981313604, 0.7119367700814313, 0.7536665635083108, 0.6595730104082429, 0.7759834869235855, 0.6098665742565663, 0.7453476875092266, 0.45369376407415407, 0.562725641780248, 0.5580370914610766, 0.6033667055728801, 0.822411283096759, 0.560088594661919, 0.7377345372264673, 0.7412979259189713], maxlen=20)\n",
      "eval_mean: 0.6525214199442496\n"
     ]
    },
    {
     "name": "stderr",
     "output_type": "stream",
     "text": [
      "\r",
      " 89%|█████████████████████████████████████████████████████████████████▏       | 89320/100000 [2:00:53<17:17, 10.30it/s]"
     ]
    },
    {
     "name": "stdout",
     "output_type": "stream",
     "text": [
      "self.evaluation_deque: deque([0.7125724706981293, 0.4633322899048051, 0.44779967772156826, 0.8807676296566279, 0.7518314962926632, 0.4983951981313604, 0.7119367700814313, 0.7536665635083108, 0.6595730104082429, 0.7759834869235855, 0.6098665742565663, 0.7453476875092266, 0.45369376407415407, 0.562725641780248, 0.5580370914610766, 0.6033667055728801, 0.822411283096759, 0.560088594661919, 0.7377345372264673, 0.7412979259189713], maxlen=20)\n",
      "eval_mean: 0.6525214199442496\n"
     ]
    },
    {
     "name": "stderr",
     "output_type": "stream",
     "text": [
      "\r",
      " 89%|█████████████████████████████████████████████████████████████████▎       | 89396/100000 [2:01:01<17:37, 10.02it/s]"
     ]
    },
    {
     "name": "stdout",
     "output_type": "stream",
     "text": [
      "self.evaluation_deque: deque([0.7125724706981293, 0.4633322899048051, 0.44779967772156826, 0.8807676296566279, 0.7518314962926632, 0.4983951981313604, 0.7119367700814313, 0.7536665635083108, 0.6595730104082429, 0.7759834869235855, 0.6098665742565663, 0.7453476875092266, 0.45369376407415407, 0.562725641780248, 0.5580370914610766, 0.6033667055728801, 0.822411283096759, 0.560088594661919, 0.7377345372264673, 0.7412979259189713], maxlen=20)\n",
      "eval_mean: 0.6525214199442496\n"
     ]
    },
    {
     "name": "stderr",
     "output_type": "stream",
     "text": [
      "\r",
      " 89%|█████████████████████████████████████████████████████████████████▎       | 89472/100000 [2:01:09<17:47,  9.86it/s]"
     ]
    },
    {
     "name": "stdout",
     "output_type": "stream",
     "text": [
      "self.evaluation_deque: deque([0.7125724706981293, 0.4633322899048051, 0.44779967772156826, 0.8807676296566279, 0.7518314962926632, 0.4983951981313604, 0.7119367700814313, 0.7536665635083108, 0.6595730104082429, 0.7759834869235855, 0.6098665742565663, 0.7453476875092266, 0.45369376407415407, 0.562725641780248, 0.5580370914610766, 0.6033667055728801, 0.822411283096759, 0.560088594661919, 0.7377345372264673, 0.7412979259189713], maxlen=20)\n",
      "eval_mean: 0.6525214199442496\n"
     ]
    },
    {
     "name": "stderr",
     "output_type": "stream",
     "text": [
      "\r",
      " 90%|█████████████████████████████████████████████████████████████████▎       | 89548/100000 [2:01:16<17:07, 10.17it/s]"
     ]
    },
    {
     "name": "stdout",
     "output_type": "stream",
     "text": [
      "self.evaluation_deque: deque([0.7125724706981293, 0.4633322899048051, 0.44779967772156826, 0.8807676296566279, 0.7518314962926632, 0.4983951981313604, 0.7119367700814313, 0.7536665635083108, 0.6595730104082429, 0.7759834869235855, 0.6098665742565663, 0.7453476875092266, 0.45369376407415407, 0.562725641780248, 0.5580370914610766, 0.6033667055728801, 0.822411283096759, 0.560088594661919, 0.7377345372264673, 0.7412979259189713], maxlen=20)\n",
      "eval_mean: 0.6525214199442496\n"
     ]
    },
    {
     "name": "stderr",
     "output_type": "stream",
     "text": [
      "\r",
      " 90%|█████████████████████████████████████████████████████████████████▍       | 89624/100000 [2:01:27<19:31,  8.86it/s]"
     ]
    },
    {
     "name": "stdout",
     "output_type": "stream",
     "text": [
      "self.get_collection_ratio(): 0.7922264341399469\n",
      "self.comms.count(True) : 3\n",
      "len(self.comms) : 3\n",
      "self.state.ratio_commed: 1.0\n",
      "self.comms.count(True) : 3\n",
      "len(self.comms) : 3\n",
      "self.evaluation_deque: deque([0.4633322899048051, 0.44779967772156826, 0.8807676296566279, 0.7518314962926632, 0.4983951981313604, 0.7119367700814313, 0.7536665635083108, 0.6595730104082429, 0.7759834869235855, 0.6098665742565663, 0.7453476875092266, 0.45369376407415407, 0.562725641780248, 0.5580370914610766, 0.6033667055728801, 0.822411283096759, 0.560088594661919, 0.7377345372264673, 0.7412979259189713, 0.7922264341399469], maxlen=20)\n",
      "eval_mean: 0.6565041181163405\n"
     ]
    },
    {
     "name": "stderr",
     "output_type": "stream",
     "text": [
      "\r",
      " 90%|█████████████████████████████████████████████████████████████████▍       | 89700/100000 [2:01:34<18:14,  9.41it/s]"
     ]
    },
    {
     "name": "stdout",
     "output_type": "stream",
     "text": [
      "self.evaluation_deque: deque([0.4633322899048051, 0.44779967772156826, 0.8807676296566279, 0.7518314962926632, 0.4983951981313604, 0.7119367700814313, 0.7536665635083108, 0.6595730104082429, 0.7759834869235855, 0.6098665742565663, 0.7453476875092266, 0.45369376407415407, 0.562725641780248, 0.5580370914610766, 0.6033667055728801, 0.822411283096759, 0.560088594661919, 0.7377345372264673, 0.7412979259189713, 0.7922264341399469], maxlen=20)\n",
      "eval_mean: 0.6565041181163405\n"
     ]
    },
    {
     "name": "stderr",
     "output_type": "stream",
     "text": [
      "\r",
      " 90%|█████████████████████████████████████████████████████████████████▌       | 89776/100000 [2:01:39<16:28, 10.34it/s]"
     ]
    },
    {
     "name": "stdout",
     "output_type": "stream",
     "text": [
      "self.evaluation_deque: deque([0.4633322899048051, 0.44779967772156826, 0.8807676296566279, 0.7518314962926632, 0.4983951981313604, 0.7119367700814313, 0.7536665635083108, 0.6595730104082429, 0.7759834869235855, 0.6098665742565663, 0.7453476875092266, 0.45369376407415407, 0.562725641780248, 0.5580370914610766, 0.6033667055728801, 0.822411283096759, 0.560088594661919, 0.7377345372264673, 0.7412979259189713, 0.7922264341399469], maxlen=20)\n",
      "eval_mean: 0.6565041181163405\n"
     ]
    },
    {
     "name": "stderr",
     "output_type": "stream",
     "text": [
      "\r",
      " 90%|█████████████████████████████████████████████████████████████████▌       | 89852/100000 [2:01:46<16:00, 10.56it/s]"
     ]
    },
    {
     "name": "stdout",
     "output_type": "stream",
     "text": [
      "self.evaluation_deque: deque([0.4633322899048051, 0.44779967772156826, 0.8807676296566279, 0.7518314962926632, 0.4983951981313604, 0.7119367700814313, 0.7536665635083108, 0.6595730104082429, 0.7759834869235855, 0.6098665742565663, 0.7453476875092266, 0.45369376407415407, 0.562725641780248, 0.5580370914610766, 0.6033667055728801, 0.822411283096759, 0.560088594661919, 0.7377345372264673, 0.7412979259189713, 0.7922264341399469], maxlen=20)\n",
      "eval_mean: 0.6565041181163405\n"
     ]
    },
    {
     "name": "stderr",
     "output_type": "stream",
     "text": [
      "\r",
      " 90%|█████████████████████████████████████████████████████████████████▋       | 89928/100000 [2:01:52<14:53, 11.27it/s]"
     ]
    },
    {
     "name": "stdout",
     "output_type": "stream",
     "text": [
      "self.evaluation_deque: deque([0.4633322899048051, 0.44779967772156826, 0.8807676296566279, 0.7518314962926632, 0.4983951981313604, 0.7119367700814313, 0.7536665635083108, 0.6595730104082429, 0.7759834869235855, 0.6098665742565663, 0.7453476875092266, 0.45369376407415407, 0.562725641780248, 0.5580370914610766, 0.6033667055728801, 0.822411283096759, 0.560088594661919, 0.7377345372264673, 0.7412979259189713, 0.7922264341399469], maxlen=20)\n",
      "eval_mean: 0.6565041181163405\n"
     ]
    },
    {
     "name": "stderr",
     "output_type": "stream",
     "text": [
      "\r",
      " 90%|█████████████████████████████████████████████████████████████████▋       | 90004/100000 [2:02:01<16:36, 10.03it/s]"
     ]
    },
    {
     "name": "stdout",
     "output_type": "stream",
     "text": [
      "self.get_collection_ratio(): 0.44009366404250494\n",
      "self.comms.count(True) : 1\n",
      "len(self.comms) : 1\n",
      "self.state.ratio_commed: 1.0\n",
      "self.comms.count(True) : 1\n",
      "len(self.comms) : 1\n",
      "self.evaluation_deque: deque([0.44779967772156826, 0.8807676296566279, 0.7518314962926632, 0.4983951981313604, 0.7119367700814313, 0.7536665635083108, 0.6595730104082429, 0.7759834869235855, 0.6098665742565663, 0.7453476875092266, 0.45369376407415407, 0.562725641780248, 0.5580370914610766, 0.6033667055728801, 0.822411283096759, 0.560088594661919, 0.7377345372264673, 0.7412979259189713, 0.7922264341399469, 0.44009366404250494], maxlen=20)\n",
      "eval_mean: 0.6553421868232255\n"
     ]
    },
    {
     "name": "stderr",
     "output_type": "stream",
     "text": [
      "\r",
      " 90%|█████████████████████████████████████████████████████████████████▊       | 90080/100000 [2:02:08<15:58, 10.35it/s]"
     ]
    },
    {
     "name": "stdout",
     "output_type": "stream",
     "text": [
      "self.evaluation_deque: deque([0.44779967772156826, 0.8807676296566279, 0.7518314962926632, 0.4983951981313604, 0.7119367700814313, 0.7536665635083108, 0.6595730104082429, 0.7759834869235855, 0.6098665742565663, 0.7453476875092266, 0.45369376407415407, 0.562725641780248, 0.5580370914610766, 0.6033667055728801, 0.822411283096759, 0.560088594661919, 0.7377345372264673, 0.7412979259189713, 0.7922264341399469, 0.44009366404250494], maxlen=20)\n",
      "eval_mean: 0.6553421868232255\n"
     ]
    },
    {
     "name": "stderr",
     "output_type": "stream",
     "text": [
      "\r",
      " 90%|█████████████████████████████████████████████████████████████████▊       | 90156/100000 [2:02:16<16:18, 10.06it/s]"
     ]
    },
    {
     "name": "stdout",
     "output_type": "stream",
     "text": [
      "self.evaluation_deque: deque([0.44779967772156826, 0.8807676296566279, 0.7518314962926632, 0.4983951981313604, 0.7119367700814313, 0.7536665635083108, 0.6595730104082429, 0.7759834869235855, 0.6098665742565663, 0.7453476875092266, 0.45369376407415407, 0.562725641780248, 0.5580370914610766, 0.6033667055728801, 0.822411283096759, 0.560088594661919, 0.7377345372264673, 0.7412979259189713, 0.7922264341399469, 0.44009366404250494], maxlen=20)\n",
      "eval_mean: 0.6553421868232255\n"
     ]
    },
    {
     "name": "stderr",
     "output_type": "stream",
     "text": [
      "\r",
      " 90%|█████████████████████████████████████████████████████████████████▊       | 90232/100000 [2:02:24<16:27,  9.89it/s]"
     ]
    },
    {
     "name": "stdout",
     "output_type": "stream",
     "text": [
      "self.evaluation_deque: deque([0.44779967772156826, 0.8807676296566279, 0.7518314962926632, 0.4983951981313604, 0.7119367700814313, 0.7536665635083108, 0.6595730104082429, 0.7759834869235855, 0.6098665742565663, 0.7453476875092266, 0.45369376407415407, 0.562725641780248, 0.5580370914610766, 0.6033667055728801, 0.822411283096759, 0.560088594661919, 0.7377345372264673, 0.7412979259189713, 0.7922264341399469, 0.44009366404250494], maxlen=20)\n",
      "eval_mean: 0.6553421868232255\n"
     ]
    },
    {
     "name": "stderr",
     "output_type": "stream",
     "text": [
      "\r",
      " 90%|█████████████████████████████████████████████████████████████████▉       | 90308/100000 [2:02:30<15:03, 10.73it/s]"
     ]
    },
    {
     "name": "stdout",
     "output_type": "stream",
     "text": [
      "self.evaluation_deque: deque([0.44779967772156826, 0.8807676296566279, 0.7518314962926632, 0.4983951981313604, 0.7119367700814313, 0.7536665635083108, 0.6595730104082429, 0.7759834869235855, 0.6098665742565663, 0.7453476875092266, 0.45369376407415407, 0.562725641780248, 0.5580370914610766, 0.6033667055728801, 0.822411283096759, 0.560088594661919, 0.7377345372264673, 0.7412979259189713, 0.7922264341399469, 0.44009366404250494], maxlen=20)\n",
      "eval_mean: 0.6553421868232255\n"
     ]
    },
    {
     "name": "stderr",
     "output_type": "stream",
     "text": [
      "\r",
      " 90%|█████████████████████████████████████████████████████████████████▉       | 90384/100000 [2:02:41<17:24,  9.21it/s]"
     ]
    },
    {
     "name": "stdout",
     "output_type": "stream",
     "text": [
      "self.get_collection_ratio(): 0.771432491756372\n",
      "self.comms.count(True) : 3\n",
      "len(self.comms) : 3\n",
      "self.state.ratio_commed: 1.0\n",
      "self.comms.count(True) : 3\n",
      "len(self.comms) : 3\n",
      "self.evaluation_deque: deque([0.8807676296566279, 0.7518314962926632, 0.4983951981313604, 0.7119367700814313, 0.7536665635083108, 0.6595730104082429, 0.7759834869235855, 0.6098665742565663, 0.7453476875092266, 0.45369376407415407, 0.562725641780248, 0.5580370914610766, 0.6033667055728801, 0.822411283096759, 0.560088594661919, 0.7377345372264673, 0.7412979259189713, 0.7922264341399469, 0.44009366404250494, 0.771432491756372], maxlen=20)\n",
      "eval_mean: 0.6715238275249658\n"
     ]
    },
    {
     "name": "stderr",
     "output_type": "stream",
     "text": [
      "\r",
      " 90%|██████████████████████████████████████████████████████████████████       | 90460/100000 [2:02:47<15:47, 10.07it/s]"
     ]
    },
    {
     "name": "stdout",
     "output_type": "stream",
     "text": [
      "self.evaluation_deque: deque([0.8807676296566279, 0.7518314962926632, 0.4983951981313604, 0.7119367700814313, 0.7536665635083108, 0.6595730104082429, 0.7759834869235855, 0.6098665742565663, 0.7453476875092266, 0.45369376407415407, 0.562725641780248, 0.5580370914610766, 0.6033667055728801, 0.822411283096759, 0.560088594661919, 0.7377345372264673, 0.7412979259189713, 0.7922264341399469, 0.44009366404250494, 0.771432491756372], maxlen=20)\n",
      "eval_mean: 0.6715238275249658\n"
     ]
    },
    {
     "name": "stderr",
     "output_type": "stream",
     "text": [
      "\r",
      " 91%|██████████████████████████████████████████████████████████████████       | 90536/100000 [2:02:55<16:14,  9.71it/s]"
     ]
    },
    {
     "name": "stdout",
     "output_type": "stream",
     "text": [
      "self.evaluation_deque: deque([0.8807676296566279, 0.7518314962926632, 0.4983951981313604, 0.7119367700814313, 0.7536665635083108, 0.6595730104082429, 0.7759834869235855, 0.6098665742565663, 0.7453476875092266, 0.45369376407415407, 0.562725641780248, 0.5580370914610766, 0.6033667055728801, 0.822411283096759, 0.560088594661919, 0.7377345372264673, 0.7412979259189713, 0.7922264341399469, 0.44009366404250494, 0.771432491756372], maxlen=20)\n",
      "eval_mean: 0.6715238275249658\n"
     ]
    },
    {
     "name": "stderr",
     "output_type": "stream",
     "text": [
      "\r",
      " 91%|██████████████████████████████████████████████████████████████████▏      | 90612/100000 [2:03:03<16:18,  9.59it/s]"
     ]
    },
    {
     "name": "stdout",
     "output_type": "stream",
     "text": [
      "self.evaluation_deque: deque([0.8807676296566279, 0.7518314962926632, 0.4983951981313604, 0.7119367700814313, 0.7536665635083108, 0.6595730104082429, 0.7759834869235855, 0.6098665742565663, 0.7453476875092266, 0.45369376407415407, 0.562725641780248, 0.5580370914610766, 0.6033667055728801, 0.822411283096759, 0.560088594661919, 0.7377345372264673, 0.7412979259189713, 0.7922264341399469, 0.44009366404250494, 0.771432491756372], maxlen=20)\n",
      "eval_mean: 0.6715238275249658\n"
     ]
    },
    {
     "name": "stderr",
     "output_type": "stream",
     "text": [
      "\r",
      " 91%|██████████████████████████████████████████████████████████████████▏      | 90688/100000 [2:03:10<15:36,  9.94it/s]"
     ]
    },
    {
     "name": "stdout",
     "output_type": "stream",
     "text": [
      "self.evaluation_deque: deque([0.8807676296566279, 0.7518314962926632, 0.4983951981313604, 0.7119367700814313, 0.7536665635083108, 0.6595730104082429, 0.7759834869235855, 0.6098665742565663, 0.7453476875092266, 0.45369376407415407, 0.562725641780248, 0.5580370914610766, 0.6033667055728801, 0.822411283096759, 0.560088594661919, 0.7377345372264673, 0.7412979259189713, 0.7922264341399469, 0.44009366404250494, 0.771432491756372], maxlen=20)\n",
      "eval_mean: 0.6715238275249658\n"
     ]
    },
    {
     "name": "stderr",
     "output_type": "stream",
     "text": [
      "\r",
      " 91%|██████████████████████████████████████████████████████████████████▎      | 90764/100000 [2:03:19<15:45,  9.76it/s]"
     ]
    },
    {
     "name": "stdout",
     "output_type": "stream",
     "text": [
      "self.get_collection_ratio(): 0.756408127126502\n",
      "self.comms.count(True) : 2\n",
      "len(self.comms) : 2\n",
      "self.state.ratio_commed: 1.0\n",
      "self.comms.count(True) : 2\n",
      "len(self.comms) : 2\n",
      "self.evaluation_deque: deque([0.7518314962926632, 0.4983951981313604, 0.7119367700814313, 0.7536665635083108, 0.6595730104082429, 0.7759834869235855, 0.6098665742565663, 0.7453476875092266, 0.45369376407415407, 0.562725641780248, 0.5580370914610766, 0.6033667055728801, 0.822411283096759, 0.560088594661919, 0.7377345372264673, 0.7412979259189713, 0.7922264341399469, 0.44009366404250494, 0.771432491756372, 0.756408127126502], maxlen=20)\n",
      "eval_mean: 0.6653058523984594\n"
     ]
    },
    {
     "name": "stderr",
     "output_type": "stream",
     "text": [
      " 91%|██████████████████████████████████████████████████████████████████▎      | 90840/100000 [2:03:36<21:14,  7.19it/s]"
     ]
    },
    {
     "name": "stdout",
     "output_type": "stream",
     "text": [
      "self.evaluation_deque: deque([0.7518314962926632, 0.4983951981313604, 0.7119367700814313, 0.7536665635083108, 0.6595730104082429, 0.7759834869235855, 0.6098665742565663, 0.7453476875092266, 0.45369376407415407, 0.562725641780248, 0.5580370914610766, 0.6033667055728801, 0.822411283096759, 0.560088594661919, 0.7377345372264673, 0.7412979259189713, 0.7922264341399469, 0.44009366404250494, 0.771432491756372, 0.756408127126502], maxlen=20)\n",
      "eval_mean: 0.6653058523984594\n"
     ]
    },
    {
     "name": "stderr",
     "output_type": "stream",
     "text": [
      "\r",
      " 91%|██████████████████████████████████████████████████████████████████▎      | 90916/100000 [2:03:42<18:49,  8.04it/s]"
     ]
    },
    {
     "name": "stdout",
     "output_type": "stream",
     "text": [
      "self.evaluation_deque: deque([0.7518314962926632, 0.4983951981313604, 0.7119367700814313, 0.7536665635083108, 0.6595730104082429, 0.7759834869235855, 0.6098665742565663, 0.7453476875092266, 0.45369376407415407, 0.562725641780248, 0.5580370914610766, 0.6033667055728801, 0.822411283096759, 0.560088594661919, 0.7377345372264673, 0.7412979259189713, 0.7922264341399469, 0.44009366404250494, 0.771432491756372, 0.756408127126502], maxlen=20)\n",
      "eval_mean: 0.6653058523984594\n"
     ]
    },
    {
     "name": "stderr",
     "output_type": "stream",
     "text": [
      "\r",
      " 91%|██████████████████████████████████████████████████████████████████▍      | 90992/100000 [2:03:48<16:26,  9.14it/s]"
     ]
    },
    {
     "name": "stdout",
     "output_type": "stream",
     "text": [
      "self.evaluation_deque: deque([0.7518314962926632, 0.4983951981313604, 0.7119367700814313, 0.7536665635083108, 0.6595730104082429, 0.7759834869235855, 0.6098665742565663, 0.7453476875092266, 0.45369376407415407, 0.562725641780248, 0.5580370914610766, 0.6033667055728801, 0.822411283096759, 0.560088594661919, 0.7377345372264673, 0.7412979259189713, 0.7922264341399469, 0.44009366404250494, 0.771432491756372, 0.756408127126502], maxlen=20)\n",
      "eval_mean: 0.6653058523984594\n"
     ]
    },
    {
     "name": "stderr",
     "output_type": "stream",
     "text": [
      "\r",
      " 91%|██████████████████████████████████████████████████████████████████▍      | 91068/100000 [2:03:55<15:25,  9.66it/s]"
     ]
    },
    {
     "name": "stdout",
     "output_type": "stream",
     "text": [
      "self.evaluation_deque: deque([0.7518314962926632, 0.4983951981313604, 0.7119367700814313, 0.7536665635083108, 0.6595730104082429, 0.7759834869235855, 0.6098665742565663, 0.7453476875092266, 0.45369376407415407, 0.562725641780248, 0.5580370914610766, 0.6033667055728801, 0.822411283096759, 0.560088594661919, 0.7377345372264673, 0.7412979259189713, 0.7922264341399469, 0.44009366404250494, 0.771432491756372, 0.756408127126502], maxlen=20)\n",
      "eval_mean: 0.6653058523984594\n"
     ]
    },
    {
     "name": "stderr",
     "output_type": "stream",
     "text": [
      "\r",
      " 91%|██████████████████████████████████████████████████████████████████▌      | 91144/100000 [2:04:05<16:20,  9.04it/s]"
     ]
    },
    {
     "name": "stdout",
     "output_type": "stream",
     "text": [
      "self.get_collection_ratio(): 0.76312279881263\n",
      "self.comms.count(True) : 1\n",
      "len(self.comms) : 3\n",
      "self.state.ratio_commed: 0.3333333333333333\n",
      "self.comms.count(True) : 1\n",
      "len(self.comms) : 3\n",
      "self.evaluation_deque: deque([0.4983951981313604, 0.7119367700814313, 0.7536665635083108, 0.6595730104082429, 0.7759834869235855, 0.6098665742565663, 0.7453476875092266, 0.45369376407415407, 0.562725641780248, 0.5580370914610766, 0.6033667055728801, 0.822411283096759, 0.560088594661919, 0.7377345372264673, 0.7412979259189713, 0.7922264341399469, 0.44009366404250494, 0.771432491756372, 0.756408127126502, 0.25437426627087667], maxlen=20)\n",
      "eval_mean: 0.64043299089737\n"
     ]
    },
    {
     "name": "stderr",
     "output_type": "stream",
     "text": [
      "\r",
      " 91%|██████████████████████████████████████████████████████████████████▌      | 91220/100000 [2:04:13<15:59,  9.16it/s]"
     ]
    },
    {
     "name": "stdout",
     "output_type": "stream",
     "text": [
      "self.evaluation_deque: deque([0.4983951981313604, 0.7119367700814313, 0.7536665635083108, 0.6595730104082429, 0.7759834869235855, 0.6098665742565663, 0.7453476875092266, 0.45369376407415407, 0.562725641780248, 0.5580370914610766, 0.6033667055728801, 0.822411283096759, 0.560088594661919, 0.7377345372264673, 0.7412979259189713, 0.7922264341399469, 0.44009366404250494, 0.771432491756372, 0.756408127126502, 0.25437426627087667], maxlen=20)\n",
      "eval_mean: 0.64043299089737\n"
     ]
    },
    {
     "name": "stderr",
     "output_type": "stream",
     "text": [
      "\r",
      " 91%|██████████████████████████████████████████████████████████████████▋      | 91296/100000 [2:04:19<14:49,  9.78it/s]"
     ]
    },
    {
     "name": "stdout",
     "output_type": "stream",
     "text": [
      "self.evaluation_deque: deque([0.4983951981313604, 0.7119367700814313, 0.7536665635083108, 0.6595730104082429, 0.7759834869235855, 0.6098665742565663, 0.7453476875092266, 0.45369376407415407, 0.562725641780248, 0.5580370914610766, 0.6033667055728801, 0.822411283096759, 0.560088594661919, 0.7377345372264673, 0.7412979259189713, 0.7922264341399469, 0.44009366404250494, 0.771432491756372, 0.756408127126502, 0.25437426627087667], maxlen=20)\n",
      "eval_mean: 0.64043299089737\n"
     ]
    },
    {
     "name": "stderr",
     "output_type": "stream",
     "text": [
      "\r",
      " 91%|██████████████████████████████████████████████████████████████████▋      | 91372/100000 [2:04:26<14:11, 10.13it/s]"
     ]
    },
    {
     "name": "stdout",
     "output_type": "stream",
     "text": [
      "self.evaluation_deque: deque([0.4983951981313604, 0.7119367700814313, 0.7536665635083108, 0.6595730104082429, 0.7759834869235855, 0.6098665742565663, 0.7453476875092266, 0.45369376407415407, 0.562725641780248, 0.5580370914610766, 0.6033667055728801, 0.822411283096759, 0.560088594661919, 0.7377345372264673, 0.7412979259189713, 0.7922264341399469, 0.44009366404250494, 0.771432491756372, 0.756408127126502, 0.25437426627087667], maxlen=20)\n",
      "eval_mean: 0.64043299089737\n"
     ]
    },
    {
     "name": "stderr",
     "output_type": "stream",
     "text": [
      "\r",
      " 91%|██████████████████████████████████████████████████████████████████▊      | 91448/100000 [2:04:32<13:02, 10.93it/s]"
     ]
    },
    {
     "name": "stdout",
     "output_type": "stream",
     "text": [
      "self.evaluation_deque: deque([0.4983951981313604, 0.7119367700814313, 0.7536665635083108, 0.6595730104082429, 0.7759834869235855, 0.6098665742565663, 0.7453476875092266, 0.45369376407415407, 0.562725641780248, 0.5580370914610766, 0.6033667055728801, 0.822411283096759, 0.560088594661919, 0.7377345372264673, 0.7412979259189713, 0.7922264341399469, 0.44009366404250494, 0.771432491756372, 0.756408127126502, 0.25437426627087667], maxlen=20)\n",
      "eval_mean: 0.64043299089737\n"
     ]
    },
    {
     "name": "stderr",
     "output_type": "stream",
     "text": [
      "\r",
      " 92%|██████████████████████████████████████████████████████████████████▊      | 91524/100000 [2:04:41<14:10,  9.97it/s]"
     ]
    },
    {
     "name": "stdout",
     "output_type": "stream",
     "text": [
      "self.get_collection_ratio(): 0.7921302125519367\n",
      "self.comms.count(True) : 2\n",
      "len(self.comms) : 2\n",
      "self.state.ratio_commed: 1.0\n",
      "self.comms.count(True) : 2\n",
      "len(self.comms) : 2\n",
      "self.evaluation_deque: deque([0.7119367700814313, 0.7536665635083108, 0.6595730104082429, 0.7759834869235855, 0.6098665742565663, 0.7453476875092266, 0.45369376407415407, 0.562725641780248, 0.5580370914610766, 0.6033667055728801, 0.822411283096759, 0.560088594661919, 0.7377345372264673, 0.7412979259189713, 0.7922264341399469, 0.44009366404250494, 0.771432491756372, 0.756408127126502, 0.25437426627087667, 0.7921302125519367], maxlen=20)\n",
      "eval_mean: 0.6551197416183989\n"
     ]
    },
    {
     "name": "stderr",
     "output_type": "stream",
     "text": [
      "\r",
      " 92%|██████████████████████████████████████████████████████████████████▊      | 91600/100000 [2:04:49<14:16,  9.80it/s]"
     ]
    },
    {
     "name": "stdout",
     "output_type": "stream",
     "text": [
      "self.evaluation_deque: deque([0.7119367700814313, 0.7536665635083108, 0.6595730104082429, 0.7759834869235855, 0.6098665742565663, 0.7453476875092266, 0.45369376407415407, 0.562725641780248, 0.5580370914610766, 0.6033667055728801, 0.822411283096759, 0.560088594661919, 0.7377345372264673, 0.7412979259189713, 0.7922264341399469, 0.44009366404250494, 0.771432491756372, 0.756408127126502, 0.25437426627087667, 0.7921302125519367], maxlen=20)\n",
      "eval_mean: 0.6551197416183989\n"
     ]
    },
    {
     "name": "stderr",
     "output_type": "stream",
     "text": [
      "\r",
      " 92%|██████████████████████████████████████████████████████████████████▉      | 91676/100000 [2:04:55<12:59, 10.67it/s]"
     ]
    },
    {
     "name": "stdout",
     "output_type": "stream",
     "text": [
      "self.evaluation_deque: deque([0.7119367700814313, 0.7536665635083108, 0.6595730104082429, 0.7759834869235855, 0.6098665742565663, 0.7453476875092266, 0.45369376407415407, 0.562725641780248, 0.5580370914610766, 0.6033667055728801, 0.822411283096759, 0.560088594661919, 0.7377345372264673, 0.7412979259189713, 0.7922264341399469, 0.44009366404250494, 0.771432491756372, 0.756408127126502, 0.25437426627087667, 0.7921302125519367], maxlen=20)\n",
      "eval_mean: 0.6551197416183989\n"
     ]
    },
    {
     "name": "stderr",
     "output_type": "stream",
     "text": [
      "\r",
      " 92%|██████████████████████████████████████████████████████████████████▉      | 91752/100000 [2:05:01<12:44, 10.79it/s]"
     ]
    },
    {
     "name": "stdout",
     "output_type": "stream",
     "text": [
      "self.evaluation_deque: deque([0.7119367700814313, 0.7536665635083108, 0.6595730104082429, 0.7759834869235855, 0.6098665742565663, 0.7453476875092266, 0.45369376407415407, 0.562725641780248, 0.5580370914610766, 0.6033667055728801, 0.822411283096759, 0.560088594661919, 0.7377345372264673, 0.7412979259189713, 0.7922264341399469, 0.44009366404250494, 0.771432491756372, 0.756408127126502, 0.25437426627087667, 0.7921302125519367], maxlen=20)\n",
      "eval_mean: 0.6551197416183989\n"
     ]
    },
    {
     "name": "stderr",
     "output_type": "stream",
     "text": [
      "\r",
      " 92%|███████████████████████████████████████████████████████████████████      | 91828/100000 [2:05:07<11:52, 11.47it/s]"
     ]
    },
    {
     "name": "stdout",
     "output_type": "stream",
     "text": [
      "self.evaluation_deque: deque([0.7119367700814313, 0.7536665635083108, 0.6595730104082429, 0.7759834869235855, 0.6098665742565663, 0.7453476875092266, 0.45369376407415407, 0.562725641780248, 0.5580370914610766, 0.6033667055728801, 0.822411283096759, 0.560088594661919, 0.7377345372264673, 0.7412979259189713, 0.7922264341399469, 0.44009366404250494, 0.771432491756372, 0.756408127126502, 0.25437426627087667, 0.7921302125519367], maxlen=20)\n",
      "eval_mean: 0.6551197416183989\n"
     ]
    },
    {
     "name": "stderr",
     "output_type": "stream",
     "text": [
      "\r",
      " 92%|███████████████████████████████████████████████████████████████████      | 91904/100000 [2:05:17<13:32,  9.96it/s]"
     ]
    },
    {
     "name": "stdout",
     "output_type": "stream",
     "text": [
      "self.get_collection_ratio(): 0.8344834629457989\n",
      "self.comms.count(True) : 3\n",
      "len(self.comms) : 3\n",
      "self.state.ratio_commed: 1.0\n",
      "self.comms.count(True) : 3\n",
      "len(self.comms) : 3\n",
      "self.evaluation_deque: deque([0.7536665635083108, 0.6595730104082429, 0.7759834869235855, 0.6098665742565663, 0.7453476875092266, 0.45369376407415407, 0.562725641780248, 0.5580370914610766, 0.6033667055728801, 0.822411283096759, 0.560088594661919, 0.7377345372264673, 0.7412979259189713, 0.7922264341399469, 0.44009366404250494, 0.771432491756372, 0.756408127126502, 0.25437426627087667, 0.7921302125519367, 0.8344834629457989], maxlen=20)\n",
      "eval_mean: 0.6612470762616173\n"
     ]
    },
    {
     "name": "stderr",
     "output_type": "stream",
     "text": [
      "\r",
      " 92%|███████████████████████████████████████████████████████████████████▏     | 91980/100000 [2:05:23<12:25, 10.76it/s]"
     ]
    },
    {
     "name": "stdout",
     "output_type": "stream",
     "text": [
      "self.evaluation_deque: deque([0.7536665635083108, 0.6595730104082429, 0.7759834869235855, 0.6098665742565663, 0.7453476875092266, 0.45369376407415407, 0.562725641780248, 0.5580370914610766, 0.6033667055728801, 0.822411283096759, 0.560088594661919, 0.7377345372264673, 0.7412979259189713, 0.7922264341399469, 0.44009366404250494, 0.771432491756372, 0.756408127126502, 0.25437426627087667, 0.7921302125519367, 0.8344834629457989], maxlen=20)\n",
      "eval_mean: 0.6612470762616173\n"
     ]
    },
    {
     "name": "stderr",
     "output_type": "stream",
     "text": [
      "\r",
      " 92%|███████████████████████████████████████████████████████████████████▏     | 92056/100000 [2:05:30<12:12, 10.85it/s]"
     ]
    },
    {
     "name": "stdout",
     "output_type": "stream",
     "text": [
      "self.evaluation_deque: deque([0.7536665635083108, 0.6595730104082429, 0.7759834869235855, 0.6098665742565663, 0.7453476875092266, 0.45369376407415407, 0.562725641780248, 0.5580370914610766, 0.6033667055728801, 0.822411283096759, 0.560088594661919, 0.7377345372264673, 0.7412979259189713, 0.7922264341399469, 0.44009366404250494, 0.771432491756372, 0.756408127126502, 0.25437426627087667, 0.7921302125519367, 0.8344834629457989], maxlen=20)\n",
      "eval_mean: 0.6612470762616173\n"
     ]
    },
    {
     "name": "stderr",
     "output_type": "stream",
     "text": [
      "\r",
      " 92%|███████████████████████████████████████████████████████████████████▎     | 92132/100000 [2:05:35<11:22, 11.52it/s]"
     ]
    },
    {
     "name": "stdout",
     "output_type": "stream",
     "text": [
      "self.evaluation_deque: deque([0.7536665635083108, 0.6595730104082429, 0.7759834869235855, 0.6098665742565663, 0.7453476875092266, 0.45369376407415407, 0.562725641780248, 0.5580370914610766, 0.6033667055728801, 0.822411283096759, 0.560088594661919, 0.7377345372264673, 0.7412979259189713, 0.7922264341399469, 0.44009366404250494, 0.771432491756372, 0.756408127126502, 0.25437426627087667, 0.7921302125519367, 0.8344834629457989], maxlen=20)\n",
      "eval_mean: 0.6612470762616173\n"
     ]
    },
    {
     "name": "stderr",
     "output_type": "stream",
     "text": [
      "\r",
      " 92%|███████████████████████████████████████████████████████████████████▎     | 92208/100000 [2:05:42<11:24, 11.39it/s]"
     ]
    },
    {
     "name": "stdout",
     "output_type": "stream",
     "text": [
      "self.evaluation_deque: deque([0.7536665635083108, 0.6595730104082429, 0.7759834869235855, 0.6098665742565663, 0.7453476875092266, 0.45369376407415407, 0.562725641780248, 0.5580370914610766, 0.6033667055728801, 0.822411283096759, 0.560088594661919, 0.7377345372264673, 0.7412979259189713, 0.7922264341399469, 0.44009366404250494, 0.771432491756372, 0.756408127126502, 0.25437426627087667, 0.7921302125519367, 0.8344834629457989], maxlen=20)\n",
      "eval_mean: 0.6612470762616173\n"
     ]
    },
    {
     "name": "stderr",
     "output_type": "stream",
     "text": [
      "\r",
      " 92%|███████████████████████████████████████████████████████████████████▎     | 92284/100000 [2:05:52<13:06,  9.81it/s]"
     ]
    },
    {
     "name": "stdout",
     "output_type": "stream",
     "text": [
      "self.get_collection_ratio(): 0.7344551414880405\n",
      "self.comms.count(True) : 2\n",
      "len(self.comms) : 2\n",
      "self.state.ratio_commed: 1.0\n",
      "self.comms.count(True) : 2\n",
      "len(self.comms) : 2\n",
      "self.evaluation_deque: deque([0.6595730104082429, 0.7759834869235855, 0.6098665742565663, 0.7453476875092266, 0.45369376407415407, 0.562725641780248, 0.5580370914610766, 0.6033667055728801, 0.822411283096759, 0.560088594661919, 0.7377345372264673, 0.7412979259189713, 0.7922264341399469, 0.44009366404250494, 0.771432491756372, 0.756408127126502, 0.25437426627087667, 0.7921302125519367, 0.8344834629457989, 0.7344551414880405], maxlen=20)\n",
      "eval_mean: 0.6602865051606038\n"
     ]
    },
    {
     "name": "stderr",
     "output_type": "stream",
     "text": [
      "\r",
      " 92%|███████████████████████████████████████████████████████████████████▍     | 92360/100000 [2:05:58<11:56, 10.66it/s]"
     ]
    },
    {
     "name": "stdout",
     "output_type": "stream",
     "text": [
      "self.evaluation_deque: deque([0.6595730104082429, 0.7759834869235855, 0.6098665742565663, 0.7453476875092266, 0.45369376407415407, 0.562725641780248, 0.5580370914610766, 0.6033667055728801, 0.822411283096759, 0.560088594661919, 0.7377345372264673, 0.7412979259189713, 0.7922264341399469, 0.44009366404250494, 0.771432491756372, 0.756408127126502, 0.25437426627087667, 0.7921302125519367, 0.8344834629457989, 0.7344551414880405], maxlen=20)\n",
      "eval_mean: 0.6602865051606038\n"
     ]
    },
    {
     "name": "stderr",
     "output_type": "stream",
     "text": [
      "\r",
      " 92%|███████████████████████████████████████████████████████████████████▍     | 92436/100000 [2:06:06<12:15, 10.28it/s]"
     ]
    },
    {
     "name": "stdout",
     "output_type": "stream",
     "text": [
      "self.evaluation_deque: deque([0.6595730104082429, 0.7759834869235855, 0.6098665742565663, 0.7453476875092266, 0.45369376407415407, 0.562725641780248, 0.5580370914610766, 0.6033667055728801, 0.822411283096759, 0.560088594661919, 0.7377345372264673, 0.7412979259189713, 0.7922264341399469, 0.44009366404250494, 0.771432491756372, 0.756408127126502, 0.25437426627087667, 0.7921302125519367, 0.8344834629457989, 0.7344551414880405], maxlen=20)\n",
      "eval_mean: 0.6602865051606038\n"
     ]
    },
    {
     "name": "stderr",
     "output_type": "stream",
     "text": [
      "\r",
      " 93%|███████████████████████████████████████████████████████████████████▌     | 92512/100000 [2:06:13<11:53, 10.50it/s]"
     ]
    },
    {
     "name": "stdout",
     "output_type": "stream",
     "text": [
      "self.evaluation_deque: deque([0.6595730104082429, 0.7759834869235855, 0.6098665742565663, 0.7453476875092266, 0.45369376407415407, 0.562725641780248, 0.5580370914610766, 0.6033667055728801, 0.822411283096759, 0.560088594661919, 0.7377345372264673, 0.7412979259189713, 0.7922264341399469, 0.44009366404250494, 0.771432491756372, 0.756408127126502, 0.25437426627087667, 0.7921302125519367, 0.8344834629457989, 0.7344551414880405], maxlen=20)\n",
      "eval_mean: 0.6602865051606038\n"
     ]
    },
    {
     "name": "stderr",
     "output_type": "stream",
     "text": [
      "\r",
      " 93%|███████████████████████████████████████████████████████████████████▌     | 92588/100000 [2:06:19<11:01, 11.21it/s]"
     ]
    },
    {
     "name": "stdout",
     "output_type": "stream",
     "text": [
      "self.evaluation_deque: deque([0.6595730104082429, 0.7759834869235855, 0.6098665742565663, 0.7453476875092266, 0.45369376407415407, 0.562725641780248, 0.5580370914610766, 0.6033667055728801, 0.822411283096759, 0.560088594661919, 0.7377345372264673, 0.7412979259189713, 0.7922264341399469, 0.44009366404250494, 0.771432491756372, 0.756408127126502, 0.25437426627087667, 0.7921302125519367, 0.8344834629457989, 0.7344551414880405], maxlen=20)\n",
      "eval_mean: 0.6602865051606038\n"
     ]
    },
    {
     "name": "stderr",
     "output_type": "stream",
     "text": [
      " 93%|███████████████████████████████████████████████████████████████████▋     | 92664/100000 [2:06:29<12:35,  9.71it/s]"
     ]
    },
    {
     "name": "stdout",
     "output_type": "stream",
     "text": [
      "self.get_collection_ratio(): 0.8530645261109933\n",
      "self.comms.count(True) : 2\n",
      "len(self.comms) : 2\n",
      "self.state.ratio_commed: 1.0\n",
      "self.comms.count(True) : 2\n",
      "len(self.comms) : 2\n",
      "self.evaluation_deque: deque([0.7759834869235855, 0.6098665742565663, 0.7453476875092266, 0.45369376407415407, 0.562725641780248, 0.5580370914610766, 0.6033667055728801, 0.822411283096759, 0.560088594661919, 0.7377345372264673, 0.7412979259189713, 0.7922264341399469, 0.44009366404250494, 0.771432491756372, 0.756408127126502, 0.25437426627087667, 0.7921302125519367, 0.8344834629457989, 0.7344551414880405, 0.8530645261109933], maxlen=20)\n",
      "eval_mean: 0.6699610809457414\n"
     ]
    },
    {
     "name": "stderr",
     "output_type": "stream",
     "text": [
      "\r",
      " 93%|███████████████████████████████████████████████████████████████████▋     | 92740/100000 [2:06:35<11:26, 10.57it/s]"
     ]
    },
    {
     "name": "stdout",
     "output_type": "stream",
     "text": [
      "self.evaluation_deque: deque([0.7759834869235855, 0.6098665742565663, 0.7453476875092266, 0.45369376407415407, 0.562725641780248, 0.5580370914610766, 0.6033667055728801, 0.822411283096759, 0.560088594661919, 0.7377345372264673, 0.7412979259189713, 0.7922264341399469, 0.44009366404250494, 0.771432491756372, 0.756408127126502, 0.25437426627087667, 0.7921302125519367, 0.8344834629457989, 0.7344551414880405, 0.8530645261109933], maxlen=20)\n",
      "eval_mean: 0.6699610809457414\n"
     ]
    },
    {
     "name": "stderr",
     "output_type": "stream",
     "text": [
      "\r",
      " 93%|███████████████████████████████████████████████████████████████████▊     | 92816/100000 [2:06:40<10:36, 11.29it/s]"
     ]
    },
    {
     "name": "stdout",
     "output_type": "stream",
     "text": [
      "self.evaluation_deque: deque([0.7759834869235855, 0.6098665742565663, 0.7453476875092266, 0.45369376407415407, 0.562725641780248, 0.5580370914610766, 0.6033667055728801, 0.822411283096759, 0.560088594661919, 0.7377345372264673, 0.7412979259189713, 0.7922264341399469, 0.44009366404250494, 0.771432491756372, 0.756408127126502, 0.25437426627087667, 0.7921302125519367, 0.8344834629457989, 0.7344551414880405, 0.8530645261109933], maxlen=20)\n",
      "eval_mean: 0.6699610809457414\n"
     ]
    },
    {
     "name": "stderr",
     "output_type": "stream",
     "text": [
      "\r",
      " 93%|███████████████████████████████████████████████████████████████████▊     | 92892/100000 [2:06:48<11:03, 10.71it/s]"
     ]
    },
    {
     "name": "stdout",
     "output_type": "stream",
     "text": [
      "self.evaluation_deque: deque([0.7759834869235855, 0.6098665742565663, 0.7453476875092266, 0.45369376407415407, 0.562725641780248, 0.5580370914610766, 0.6033667055728801, 0.822411283096759, 0.560088594661919, 0.7377345372264673, 0.7412979259189713, 0.7922264341399469, 0.44009366404250494, 0.771432491756372, 0.756408127126502, 0.25437426627087667, 0.7921302125519367, 0.8344834629457989, 0.7344551414880405, 0.8530645261109933], maxlen=20)\n",
      "eval_mean: 0.6699610809457414\n"
     ]
    },
    {
     "name": "stderr",
     "output_type": "stream",
     "text": [
      "\r",
      " 93%|███████████████████████████████████████████████████████████████████▊     | 92968/100000 [2:06:55<10:52, 10.78it/s]"
     ]
    },
    {
     "name": "stdout",
     "output_type": "stream",
     "text": [
      "self.evaluation_deque: deque([0.7759834869235855, 0.6098665742565663, 0.7453476875092266, 0.45369376407415407, 0.562725641780248, 0.5580370914610766, 0.6033667055728801, 0.822411283096759, 0.560088594661919, 0.7377345372264673, 0.7412979259189713, 0.7922264341399469, 0.44009366404250494, 0.771432491756372, 0.756408127126502, 0.25437426627087667, 0.7921302125519367, 0.8344834629457989, 0.7344551414880405, 0.8530645261109933], maxlen=20)\n",
      "eval_mean: 0.6699610809457414\n"
     ]
    },
    {
     "name": "stderr",
     "output_type": "stream",
     "text": [
      "\r",
      " 93%|███████████████████████████████████████████████████████████████████▉     | 93044/100000 [2:07:03<10:51, 10.67it/s]"
     ]
    },
    {
     "name": "stdout",
     "output_type": "stream",
     "text": [
      "self.get_collection_ratio(): 0.5504875724544609\n",
      "self.comms.count(True) : 1\n",
      "len(self.comms) : 1\n",
      "self.state.ratio_commed: 1.0\n",
      "self.comms.count(True) : 1\n",
      "len(self.comms) : 1\n",
      "self.evaluation_deque: deque([0.6098665742565663, 0.7453476875092266, 0.45369376407415407, 0.562725641780248, 0.5580370914610766, 0.6033667055728801, 0.822411283096759, 0.560088594661919, 0.7377345372264673, 0.7412979259189713, 0.7922264341399469, 0.44009366404250494, 0.771432491756372, 0.756408127126502, 0.25437426627087667, 0.7921302125519367, 0.8344834629457989, 0.7344551414880405, 0.8530645261109933, 0.5504875724544609], maxlen=20)\n",
      "eval_mean: 0.6586862852222851\n"
     ]
    },
    {
     "name": "stderr",
     "output_type": "stream",
     "text": [
      "\r",
      " 93%|███████████████████████████████████████████████████████████████████▉     | 93120/100000 [2:07:08<10:06, 11.34it/s]"
     ]
    },
    {
     "name": "stdout",
     "output_type": "stream",
     "text": [
      "self.evaluation_deque: deque([0.6098665742565663, 0.7453476875092266, 0.45369376407415407, 0.562725641780248, 0.5580370914610766, 0.6033667055728801, 0.822411283096759, 0.560088594661919, 0.7377345372264673, 0.7412979259189713, 0.7922264341399469, 0.44009366404250494, 0.771432491756372, 0.756408127126502, 0.25437426627087667, 0.7921302125519367, 0.8344834629457989, 0.7344551414880405, 0.8530645261109933, 0.5504875724544609], maxlen=20)\n",
      "eval_mean: 0.6586862852222851\n"
     ]
    },
    {
     "name": "stderr",
     "output_type": "stream",
     "text": [
      "\r",
      " 93%|████████████████████████████████████████████████████████████████████     | 93196/100000 [2:07:14<09:31, 11.91it/s]"
     ]
    },
    {
     "name": "stdout",
     "output_type": "stream",
     "text": [
      "self.evaluation_deque: deque([0.6098665742565663, 0.7453476875092266, 0.45369376407415407, 0.562725641780248, 0.5580370914610766, 0.6033667055728801, 0.822411283096759, 0.560088594661919, 0.7377345372264673, 0.7412979259189713, 0.7922264341399469, 0.44009366404250494, 0.771432491756372, 0.756408127126502, 0.25437426627087667, 0.7921302125519367, 0.8344834629457989, 0.7344551414880405, 0.8530645261109933, 0.5504875724544609], maxlen=20)\n",
      "eval_mean: 0.6586862852222851\n"
     ]
    },
    {
     "name": "stderr",
     "output_type": "stream",
     "text": [
      "\r",
      " 93%|████████████████████████████████████████████████████████████████████     | 93272/100000 [2:07:22<10:08, 11.06it/s]"
     ]
    },
    {
     "name": "stdout",
     "output_type": "stream",
     "text": [
      "self.evaluation_deque: deque([0.6098665742565663, 0.7453476875092266, 0.45369376407415407, 0.562725641780248, 0.5580370914610766, 0.6033667055728801, 0.822411283096759, 0.560088594661919, 0.7377345372264673, 0.7412979259189713, 0.7922264341399469, 0.44009366404250494, 0.771432491756372, 0.756408127126502, 0.25437426627087667, 0.7921302125519367, 0.8344834629457989, 0.7344551414880405, 0.8530645261109933, 0.5504875724544609], maxlen=20)\n",
      "eval_mean: 0.6586862852222851\n"
     ]
    },
    {
     "name": "stderr",
     "output_type": "stream",
     "text": [
      "\r",
      " 93%|████████████████████████████████████████████████████████████████████▏    | 93348/100000 [2:07:29<10:00, 11.07it/s]"
     ]
    },
    {
     "name": "stdout",
     "output_type": "stream",
     "text": [
      "self.evaluation_deque: deque([0.6098665742565663, 0.7453476875092266, 0.45369376407415407, 0.562725641780248, 0.5580370914610766, 0.6033667055728801, 0.822411283096759, 0.560088594661919, 0.7377345372264673, 0.7412979259189713, 0.7922264341399469, 0.44009366404250494, 0.771432491756372, 0.756408127126502, 0.25437426627087667, 0.7921302125519367, 0.8344834629457989, 0.7344551414880405, 0.8530645261109933, 0.5504875724544609], maxlen=20)\n",
      "eval_mean: 0.6586862852222851\n"
     ]
    },
    {
     "name": "stderr",
     "output_type": "stream",
     "text": [
      "\r",
      " 93%|████████████████████████████████████████████████████████████████████▏    | 93424/100000 [2:07:39<11:08,  9.83it/s]"
     ]
    },
    {
     "name": "stdout",
     "output_type": "stream",
     "text": [
      "self.get_collection_ratio(): 0.8141716711533556\n",
      "self.comms.count(True) : 3\n",
      "len(self.comms) : 3\n",
      "self.state.ratio_commed: 1.0\n",
      "self.comms.count(True) : 3\n",
      "len(self.comms) : 3\n",
      "self.evaluation_deque: deque([0.7453476875092266, 0.45369376407415407, 0.562725641780248, 0.5580370914610766, 0.6033667055728801, 0.822411283096759, 0.560088594661919, 0.7377345372264673, 0.7412979259189713, 0.7922264341399469, 0.44009366404250494, 0.771432491756372, 0.756408127126502, 0.25437426627087667, 0.7921302125519367, 0.8344834629457989, 0.7344551414880405, 0.8530645261109933, 0.5504875724544609, 0.8141716711533556], maxlen=20)\n",
      "eval_mean: 0.6689015400671245\n"
     ]
    },
    {
     "name": "stderr",
     "output_type": "stream",
     "text": [
      "\r",
      " 94%|████████████████████████████████████████████████████████████████████▎    | 93500/100000 [2:07:44<10:09, 10.67it/s]"
     ]
    },
    {
     "name": "stdout",
     "output_type": "stream",
     "text": [
      "self.evaluation_deque: deque([0.7453476875092266, 0.45369376407415407, 0.562725641780248, 0.5580370914610766, 0.6033667055728801, 0.822411283096759, 0.560088594661919, 0.7377345372264673, 0.7412979259189713, 0.7922264341399469, 0.44009366404250494, 0.771432491756372, 0.756408127126502, 0.25437426627087667, 0.7921302125519367, 0.8344834629457989, 0.7344551414880405, 0.8530645261109933, 0.5504875724544609, 0.8141716711533556], maxlen=20)\n",
      "eval_mean: 0.6689015400671245\n"
     ]
    },
    {
     "name": "stderr",
     "output_type": "stream",
     "text": [
      "\r",
      " 94%|████████████████████████████████████████████████████████████████████▎    | 93576/100000 [2:07:52<10:19, 10.38it/s]"
     ]
    },
    {
     "name": "stdout",
     "output_type": "stream",
     "text": [
      "self.evaluation_deque: deque([0.7453476875092266, 0.45369376407415407, 0.562725641780248, 0.5580370914610766, 0.6033667055728801, 0.822411283096759, 0.560088594661919, 0.7377345372264673, 0.7412979259189713, 0.7922264341399469, 0.44009366404250494, 0.771432491756372, 0.756408127126502, 0.25437426627087667, 0.7921302125519367, 0.8344834629457989, 0.7344551414880405, 0.8530645261109933, 0.5504875724544609, 0.8141716711533556], maxlen=20)\n",
      "eval_mean: 0.6689015400671245\n"
     ]
    },
    {
     "name": "stderr",
     "output_type": "stream",
     "text": [
      "\r",
      " 94%|████████████████████████████████████████████████████████████████████▎    | 93652/100000 [2:07:59<10:01, 10.56it/s]"
     ]
    },
    {
     "name": "stdout",
     "output_type": "stream",
     "text": [
      "self.evaluation_deque: deque([0.7453476875092266, 0.45369376407415407, 0.562725641780248, 0.5580370914610766, 0.6033667055728801, 0.822411283096759, 0.560088594661919, 0.7377345372264673, 0.7412979259189713, 0.7922264341399469, 0.44009366404250494, 0.771432491756372, 0.756408127126502, 0.25437426627087667, 0.7921302125519367, 0.8344834629457989, 0.7344551414880405, 0.8530645261109933, 0.5504875724544609, 0.8141716711533556], maxlen=20)\n",
      "eval_mean: 0.6689015400671245\n"
     ]
    },
    {
     "name": "stderr",
     "output_type": "stream",
     "text": [
      "\r",
      " 94%|████████████████████████████████████████████████████████████████████▍    | 93728/100000 [2:08:06<09:47, 10.67it/s]"
     ]
    },
    {
     "name": "stdout",
     "output_type": "stream",
     "text": [
      "self.evaluation_deque: deque([0.7453476875092266, 0.45369376407415407, 0.562725641780248, 0.5580370914610766, 0.6033667055728801, 0.822411283096759, 0.560088594661919, 0.7377345372264673, 0.7412979259189713, 0.7922264341399469, 0.44009366404250494, 0.771432491756372, 0.756408127126502, 0.25437426627087667, 0.7921302125519367, 0.8344834629457989, 0.7344551414880405, 0.8530645261109933, 0.5504875724544609, 0.8141716711533556], maxlen=20)\n",
      "eval_mean: 0.6689015400671245\n"
     ]
    },
    {
     "name": "stderr",
     "output_type": "stream",
     "text": [
      "\r",
      " 94%|████████████████████████████████████████████████████████████████████▍    | 93804/100000 [2:08:16<10:51,  9.51it/s]"
     ]
    },
    {
     "name": "stdout",
     "output_type": "stream",
     "text": [
      "self.get_collection_ratio(): 0.8898622898018027\n",
      "self.comms.count(True) : 3\n",
      "len(self.comms) : 3\n",
      "self.state.ratio_commed: 1.0\n",
      "self.comms.count(True) : 3\n",
      "len(self.comms) : 3\n",
      "self.evaluation_deque: deque([0.45369376407415407, 0.562725641780248, 0.5580370914610766, 0.6033667055728801, 0.822411283096759, 0.560088594661919, 0.7377345372264673, 0.7412979259189713, 0.7922264341399469, 0.44009366404250494, 0.771432491756372, 0.756408127126502, 0.25437426627087667, 0.7921302125519367, 0.8344834629457989, 0.7344551414880405, 0.8530645261109933, 0.5504875724544609, 0.8141716711533556, 0.8898622898018027], maxlen=20)\n",
      "eval_mean: 0.6761272701817533\n"
     ]
    },
    {
     "name": "stderr",
     "output_type": "stream",
     "text": [
      "\r",
      " 94%|████████████████████████████████████████████████████████████████████▌    | 93880/100000 [2:08:24<10:42,  9.52it/s]"
     ]
    },
    {
     "name": "stdout",
     "output_type": "stream",
     "text": [
      "self.evaluation_deque: deque([0.45369376407415407, 0.562725641780248, 0.5580370914610766, 0.6033667055728801, 0.822411283096759, 0.560088594661919, 0.7377345372264673, 0.7412979259189713, 0.7922264341399469, 0.44009366404250494, 0.771432491756372, 0.756408127126502, 0.25437426627087667, 0.7921302125519367, 0.8344834629457989, 0.7344551414880405, 0.8530645261109933, 0.5504875724544609, 0.8141716711533556, 0.8898622898018027], maxlen=20)\n",
      "eval_mean: 0.6761272701817533\n"
     ]
    },
    {
     "name": "stderr",
     "output_type": "stream",
     "text": [
      "\r",
      " 94%|████████████████████████████████████████████████████████████████████▌    | 93956/100000 [2:08:32<10:37,  9.48it/s]"
     ]
    },
    {
     "name": "stdout",
     "output_type": "stream",
     "text": [
      "self.evaluation_deque: deque([0.45369376407415407, 0.562725641780248, 0.5580370914610766, 0.6033667055728801, 0.822411283096759, 0.560088594661919, 0.7377345372264673, 0.7412979259189713, 0.7922264341399469, 0.44009366404250494, 0.771432491756372, 0.756408127126502, 0.25437426627087667, 0.7921302125519367, 0.8344834629457989, 0.7344551414880405, 0.8530645261109933, 0.5504875724544609, 0.8141716711533556, 0.8898622898018027], maxlen=20)\n",
      "eval_mean: 0.6761272701817533\n"
     ]
    },
    {
     "name": "stderr",
     "output_type": "stream",
     "text": [
      "\r",
      " 94%|████████████████████████████████████████████████████████████████████▋    | 94032/100000 [2:08:38<09:34, 10.40it/s]"
     ]
    },
    {
     "name": "stdout",
     "output_type": "stream",
     "text": [
      "self.evaluation_deque: deque([0.45369376407415407, 0.562725641780248, 0.5580370914610766, 0.6033667055728801, 0.822411283096759, 0.560088594661919, 0.7377345372264673, 0.7412979259189713, 0.7922264341399469, 0.44009366404250494, 0.771432491756372, 0.756408127126502, 0.25437426627087667, 0.7921302125519367, 0.8344834629457989, 0.7344551414880405, 0.8530645261109933, 0.5504875724544609, 0.8141716711533556, 0.8898622898018027], maxlen=20)\n",
      "eval_mean: 0.6761272701817533\n"
     ]
    },
    {
     "name": "stderr",
     "output_type": "stream",
     "text": [
      "\r",
      " 94%|████████████████████████████████████████████████████████████████████▋    | 94108/100000 [2:08:46<09:43, 10.09it/s]"
     ]
    },
    {
     "name": "stdout",
     "output_type": "stream",
     "text": [
      "self.evaluation_deque: deque([0.45369376407415407, 0.562725641780248, 0.5580370914610766, 0.6033667055728801, 0.822411283096759, 0.560088594661919, 0.7377345372264673, 0.7412979259189713, 0.7922264341399469, 0.44009366404250494, 0.771432491756372, 0.756408127126502, 0.25437426627087667, 0.7921302125519367, 0.8344834629457989, 0.7344551414880405, 0.8530645261109933, 0.5504875724544609, 0.8141716711533556, 0.8898622898018027], maxlen=20)\n",
      "eval_mean: 0.6761272701817533\n"
     ]
    },
    {
     "name": "stderr",
     "output_type": "stream",
     "text": [
      "\r",
      " 94%|████████████████████████████████████████████████████████████████████▊    | 94184/100000 [2:08:54<09:49,  9.86it/s]"
     ]
    },
    {
     "name": "stdout",
     "output_type": "stream",
     "text": [
      "self.get_collection_ratio(): 0.4048554899514498\n",
      "self.comms.count(True) : 1\n",
      "len(self.comms) : 1\n",
      "self.state.ratio_commed: 1.0\n",
      "self.comms.count(True) : 1\n",
      "len(self.comms) : 1\n",
      "self.evaluation_deque: deque([0.562725641780248, 0.5580370914610766, 0.6033667055728801, 0.822411283096759, 0.560088594661919, 0.7377345372264673, 0.7412979259189713, 0.7922264341399469, 0.44009366404250494, 0.771432491756372, 0.756408127126502, 0.25437426627087667, 0.7921302125519367, 0.8344834629457989, 0.7344551414880405, 0.8530645261109933, 0.5504875724544609, 0.8141716711533556, 0.8898622898018027, 0.4048554899514498], maxlen=20)\n",
      "eval_mean: 0.673685356475618\n"
     ]
    },
    {
     "name": "stderr",
     "output_type": "stream",
     "text": [
      "\r",
      " 94%|████████████████████████████████████████████████████████████████████▊    | 94260/100000 [2:09:02<09:48,  9.75it/s]"
     ]
    },
    {
     "name": "stdout",
     "output_type": "stream",
     "text": [
      "self.evaluation_deque: deque([0.562725641780248, 0.5580370914610766, 0.6033667055728801, 0.822411283096759, 0.560088594661919, 0.7377345372264673, 0.7412979259189713, 0.7922264341399469, 0.44009366404250494, 0.771432491756372, 0.756408127126502, 0.25437426627087667, 0.7921302125519367, 0.8344834629457989, 0.7344551414880405, 0.8530645261109933, 0.5504875724544609, 0.8141716711533556, 0.8898622898018027, 0.4048554899514498], maxlen=20)\n",
      "eval_mean: 0.673685356475618\n"
     ]
    },
    {
     "name": "stderr",
     "output_type": "stream",
     "text": [
      "\r",
      " 94%|████████████████████████████████████████████████████████████████████▊    | 94336/100000 [2:09:09<09:37,  9.80it/s]"
     ]
    },
    {
     "name": "stdout",
     "output_type": "stream",
     "text": [
      "self.evaluation_deque: deque([0.562725641780248, 0.5580370914610766, 0.6033667055728801, 0.822411283096759, 0.560088594661919, 0.7377345372264673, 0.7412979259189713, 0.7922264341399469, 0.44009366404250494, 0.771432491756372, 0.756408127126502, 0.25437426627087667, 0.7921302125519367, 0.8344834629457989, 0.7344551414880405, 0.8530645261109933, 0.5504875724544609, 0.8141716711533556, 0.8898622898018027, 0.4048554899514498], maxlen=20)\n",
      "eval_mean: 0.673685356475618\n"
     ]
    },
    {
     "name": "stderr",
     "output_type": "stream",
     "text": [
      "\r",
      " 94%|████████████████████████████████████████████████████████████████████▉    | 94412/100000 [2:09:17<09:27,  9.85it/s]"
     ]
    },
    {
     "name": "stdout",
     "output_type": "stream",
     "text": [
      "self.evaluation_deque: deque([0.562725641780248, 0.5580370914610766, 0.6033667055728801, 0.822411283096759, 0.560088594661919, 0.7377345372264673, 0.7412979259189713, 0.7922264341399469, 0.44009366404250494, 0.771432491756372, 0.756408127126502, 0.25437426627087667, 0.7921302125519367, 0.8344834629457989, 0.7344551414880405, 0.8530645261109933, 0.5504875724544609, 0.8141716711533556, 0.8898622898018027, 0.4048554899514498], maxlen=20)\n",
      "eval_mean: 0.673685356475618\n"
     ]
    },
    {
     "name": "stderr",
     "output_type": "stream",
     "text": [
      "\r",
      " 94%|████████████████████████████████████████████████████████████████████▉    | 94488/100000 [2:09:24<08:55, 10.30it/s]"
     ]
    },
    {
     "name": "stdout",
     "output_type": "stream",
     "text": [
      "self.evaluation_deque: deque([0.562725641780248, 0.5580370914610766, 0.6033667055728801, 0.822411283096759, 0.560088594661919, 0.7377345372264673, 0.7412979259189713, 0.7922264341399469, 0.44009366404250494, 0.771432491756372, 0.756408127126502, 0.25437426627087667, 0.7921302125519367, 0.8344834629457989, 0.7344551414880405, 0.8530645261109933, 0.5504875724544609, 0.8141716711533556, 0.8898622898018027, 0.4048554899514498], maxlen=20)\n",
      "eval_mean: 0.673685356475618\n"
     ]
    },
    {
     "name": "stderr",
     "output_type": "stream",
     "text": [
      "\r",
      " 95%|█████████████████████████████████████████████████████████████████████    | 94564/100000 [2:09:32<09:01, 10.04it/s]"
     ]
    },
    {
     "name": "stdout",
     "output_type": "stream",
     "text": [
      "self.get_collection_ratio(): 0.6550669887070244\n",
      "self.comms.count(True) : 2\n",
      "len(self.comms) : 2\n",
      "self.state.ratio_commed: 1.0\n",
      "self.comms.count(True) : 2\n",
      "len(self.comms) : 2\n",
      "self.evaluation_deque: deque([0.5580370914610766, 0.6033667055728801, 0.822411283096759, 0.560088594661919, 0.7377345372264673, 0.7412979259189713, 0.7922264341399469, 0.44009366404250494, 0.771432491756372, 0.756408127126502, 0.25437426627087667, 0.7921302125519367, 0.8344834629457989, 0.7344551414880405, 0.8530645261109933, 0.5504875724544609, 0.8141716711533556, 0.8898622898018027, 0.4048554899514498, 0.6550669887070244], maxlen=20)\n",
      "eval_mean: 0.6783024238219569\n"
     ]
    },
    {
     "name": "stderr",
     "output_type": "stream",
     "text": [
      "\r",
      " 95%|█████████████████████████████████████████████████████████████████████    | 94640/100000 [2:09:37<08:11, 10.90it/s]"
     ]
    },
    {
     "name": "stdout",
     "output_type": "stream",
     "text": [
      "self.evaluation_deque: deque([0.5580370914610766, 0.6033667055728801, 0.822411283096759, 0.560088594661919, 0.7377345372264673, 0.7412979259189713, 0.7922264341399469, 0.44009366404250494, 0.771432491756372, 0.756408127126502, 0.25437426627087667, 0.7921302125519367, 0.8344834629457989, 0.7344551414880405, 0.8530645261109933, 0.5504875724544609, 0.8141716711533556, 0.8898622898018027, 0.4048554899514498, 0.6550669887070244], maxlen=20)\n",
      "eval_mean: 0.6783024238219569\n"
     ]
    },
    {
     "name": "stderr",
     "output_type": "stream",
     "text": [
      "\r",
      " 95%|█████████████████████████████████████████████████████████████████████▏   | 94716/100000 [2:09:44<07:59, 11.01it/s]"
     ]
    },
    {
     "name": "stdout",
     "output_type": "stream",
     "text": [
      "self.evaluation_deque: deque([0.5580370914610766, 0.6033667055728801, 0.822411283096759, 0.560088594661919, 0.7377345372264673, 0.7412979259189713, 0.7922264341399469, 0.44009366404250494, 0.771432491756372, 0.756408127126502, 0.25437426627087667, 0.7921302125519367, 0.8344834629457989, 0.7344551414880405, 0.8530645261109933, 0.5504875724544609, 0.8141716711533556, 0.8898622898018027, 0.4048554899514498, 0.6550669887070244], maxlen=20)\n",
      "eval_mean: 0.6783024238219569\n"
     ]
    },
    {
     "name": "stderr",
     "output_type": "stream",
     "text": [
      "\r",
      " 95%|█████████████████████████████████████████████████████████████████████▏   | 94792/100000 [2:09:50<07:26, 11.65it/s]"
     ]
    },
    {
     "name": "stdout",
     "output_type": "stream",
     "text": [
      "self.evaluation_deque: deque([0.5580370914610766, 0.6033667055728801, 0.822411283096759, 0.560088594661919, 0.7377345372264673, 0.7412979259189713, 0.7922264341399469, 0.44009366404250494, 0.771432491756372, 0.756408127126502, 0.25437426627087667, 0.7921302125519367, 0.8344834629457989, 0.7344551414880405, 0.8530645261109933, 0.5504875724544609, 0.8141716711533556, 0.8898622898018027, 0.4048554899514498, 0.6550669887070244], maxlen=20)\n",
      "eval_mean: 0.6783024238219569\n"
     ]
    },
    {
     "name": "stderr",
     "output_type": "stream",
     "text": [
      "\r",
      " 95%|█████████████████████████████████████████████████████████████████████▎   | 94868/100000 [2:09:55<07:02, 12.14it/s]"
     ]
    },
    {
     "name": "stdout",
     "output_type": "stream",
     "text": [
      "self.evaluation_deque: deque([0.5580370914610766, 0.6033667055728801, 0.822411283096759, 0.560088594661919, 0.7377345372264673, 0.7412979259189713, 0.7922264341399469, 0.44009366404250494, 0.771432491756372, 0.756408127126502, 0.25437426627087667, 0.7921302125519367, 0.8344834629457989, 0.7344551414880405, 0.8530645261109933, 0.5504875724544609, 0.8141716711533556, 0.8898622898018027, 0.4048554899514498, 0.6550669887070244], maxlen=20)\n",
      "eval_mean: 0.6783024238219569\n"
     ]
    },
    {
     "name": "stderr",
     "output_type": "stream",
     "text": [
      "\r",
      " 95%|█████████████████████████████████████████████████████████████████████▎   | 94944/100000 [2:10:03<07:30, 11.23it/s]"
     ]
    },
    {
     "name": "stdout",
     "output_type": "stream",
     "text": [
      "self.get_collection_ratio(): 0.7979071629667456\n",
      "self.comms.count(True) : 2\n",
      "len(self.comms) : 2\n",
      "self.state.ratio_commed: 1.0\n",
      "self.comms.count(True) : 2\n",
      "len(self.comms) : 2\n",
      "self.evaluation_deque: deque([0.6033667055728801, 0.822411283096759, 0.560088594661919, 0.7377345372264673, 0.7412979259189713, 0.7922264341399469, 0.44009366404250494, 0.771432491756372, 0.756408127126502, 0.25437426627087667, 0.7921302125519367, 0.8344834629457989, 0.7344551414880405, 0.8530645261109933, 0.5504875724544609, 0.8141716711533556, 0.8898622898018027, 0.4048554899514498, 0.6550669887070244, 0.7979071629667456], maxlen=20)\n",
      "eval_mean: 0.6902959273972404\n"
     ]
    },
    {
     "name": "stderr",
     "output_type": "stream",
     "text": [
      "\r",
      " 95%|█████████████████████████████████████████████████████████████████████▎   | 95020/100000 [2:10:11<07:45, 10.70it/s]"
     ]
    },
    {
     "name": "stdout",
     "output_type": "stream",
     "text": [
      "self.evaluation_deque: deque([0.6033667055728801, 0.822411283096759, 0.560088594661919, 0.7377345372264673, 0.7412979259189713, 0.7922264341399469, 0.44009366404250494, 0.771432491756372, 0.756408127126502, 0.25437426627087667, 0.7921302125519367, 0.8344834629457989, 0.7344551414880405, 0.8530645261109933, 0.5504875724544609, 0.8141716711533556, 0.8898622898018027, 0.4048554899514498, 0.6550669887070244, 0.7979071629667456], maxlen=20)\n",
      "eval_mean: 0.6902959273972404\n"
     ]
    },
    {
     "name": "stderr",
     "output_type": "stream",
     "text": [
      "\r",
      " 95%|█████████████████████████████████████████████████████████████████████▍   | 95096/100000 [2:10:19<07:53, 10.37it/s]"
     ]
    },
    {
     "name": "stdout",
     "output_type": "stream",
     "text": [
      "self.evaluation_deque: deque([0.6033667055728801, 0.822411283096759, 0.560088594661919, 0.7377345372264673, 0.7412979259189713, 0.7922264341399469, 0.44009366404250494, 0.771432491756372, 0.756408127126502, 0.25437426627087667, 0.7921302125519367, 0.8344834629457989, 0.7344551414880405, 0.8530645261109933, 0.5504875724544609, 0.8141716711533556, 0.8898622898018027, 0.4048554899514498, 0.6550669887070244, 0.7979071629667456], maxlen=20)\n",
      "eval_mean: 0.6902959273972404\n"
     ]
    },
    {
     "name": "stderr",
     "output_type": "stream",
     "text": [
      "\r",
      " 95%|█████████████████████████████████████████████████████████████████████▍   | 95172/100000 [2:10:27<08:00, 10.05it/s]"
     ]
    },
    {
     "name": "stdout",
     "output_type": "stream",
     "text": [
      "self.evaluation_deque: deque([0.6033667055728801, 0.822411283096759, 0.560088594661919, 0.7377345372264673, 0.7412979259189713, 0.7922264341399469, 0.44009366404250494, 0.771432491756372, 0.756408127126502, 0.25437426627087667, 0.7921302125519367, 0.8344834629457989, 0.7344551414880405, 0.8530645261109933, 0.5504875724544609, 0.8141716711533556, 0.8898622898018027, 0.4048554899514498, 0.6550669887070244, 0.7979071629667456], maxlen=20)\n",
      "eval_mean: 0.6902959273972404\n"
     ]
    },
    {
     "name": "stderr",
     "output_type": "stream",
     "text": [
      "\r",
      " 95%|█████████████████████████████████████████████████████████████████████▌   | 95248/100000 [2:10:35<08:06,  9.77it/s]"
     ]
    },
    {
     "name": "stdout",
     "output_type": "stream",
     "text": [
      "self.evaluation_deque: deque([0.6033667055728801, 0.822411283096759, 0.560088594661919, 0.7377345372264673, 0.7412979259189713, 0.7922264341399469, 0.44009366404250494, 0.771432491756372, 0.756408127126502, 0.25437426627087667, 0.7921302125519367, 0.8344834629457989, 0.7344551414880405, 0.8530645261109933, 0.5504875724544609, 0.8141716711533556, 0.8898622898018027, 0.4048554899514498, 0.6550669887070244, 0.7979071629667456], maxlen=20)\n",
      "eval_mean: 0.6902959273972404\n"
     ]
    },
    {
     "name": "stderr",
     "output_type": "stream",
     "text": [
      "\r",
      " 95%|█████████████████████████████████████████████████████████████████████▌   | 95324/100000 [2:10:44<08:18,  9.37it/s]"
     ]
    },
    {
     "name": "stdout",
     "output_type": "stream",
     "text": [
      "self.get_collection_ratio(): 0.9414550439222719\n",
      "self.comms.count(True) : 2\n",
      "len(self.comms) : 3\n",
      "self.state.ratio_commed: 0.6666666666666666\n",
      "self.comms.count(True) : 2\n",
      "len(self.comms) : 3\n",
      "self.evaluation_deque: deque([0.822411283096759, 0.560088594661919, 0.7377345372264673, 0.7412979259189713, 0.7922264341399469, 0.44009366404250494, 0.771432491756372, 0.756408127126502, 0.25437426627087667, 0.7921302125519367, 0.8344834629457989, 0.7344551414880405, 0.8530645261109933, 0.5504875724544609, 0.8141716711533556, 0.8898622898018027, 0.4048554899514498, 0.6550669887070244, 0.7979071629667456, 0.6276366959481812], maxlen=20)\n",
      "eval_mean: 0.6915094269160054\n"
     ]
    },
    {
     "name": "stderr",
     "output_type": "stream",
     "text": [
      "\r",
      " 95%|█████████████████████████████████████████████████████████████████████▋   | 95400/100000 [2:10:51<07:49,  9.81it/s]"
     ]
    },
    {
     "name": "stdout",
     "output_type": "stream",
     "text": [
      "self.evaluation_deque: deque([0.822411283096759, 0.560088594661919, 0.7377345372264673, 0.7412979259189713, 0.7922264341399469, 0.44009366404250494, 0.771432491756372, 0.756408127126502, 0.25437426627087667, 0.7921302125519367, 0.8344834629457989, 0.7344551414880405, 0.8530645261109933, 0.5504875724544609, 0.8141716711533556, 0.8898622898018027, 0.4048554899514498, 0.6550669887070244, 0.7979071629667456, 0.6276366959481812], maxlen=20)\n",
      "eval_mean: 0.6915094269160054\n"
     ]
    },
    {
     "name": "stderr",
     "output_type": "stream",
     "text": [
      "\r",
      " 95%|█████████████████████████████████████████████████████████████████████▋   | 95476/100000 [2:10:57<07:02, 10.70it/s]"
     ]
    },
    {
     "name": "stdout",
     "output_type": "stream",
     "text": [
      "self.evaluation_deque: deque([0.822411283096759, 0.560088594661919, 0.7377345372264673, 0.7412979259189713, 0.7922264341399469, 0.44009366404250494, 0.771432491756372, 0.756408127126502, 0.25437426627087667, 0.7921302125519367, 0.8344834629457989, 0.7344551414880405, 0.8530645261109933, 0.5504875724544609, 0.8141716711533556, 0.8898622898018027, 0.4048554899514498, 0.6550669887070244, 0.7979071629667456, 0.6276366959481812], maxlen=20)\n",
      "eval_mean: 0.6915094269160054\n"
     ]
    },
    {
     "name": "stderr",
     "output_type": "stream",
     "text": [
      "\r",
      " 96%|█████████████████████████████████████████████████████████████████████▊   | 95552/100000 [2:11:03<06:45, 10.97it/s]"
     ]
    },
    {
     "name": "stdout",
     "output_type": "stream",
     "text": [
      "self.evaluation_deque: deque([0.822411283096759, 0.560088594661919, 0.7377345372264673, 0.7412979259189713, 0.7922264341399469, 0.44009366404250494, 0.771432491756372, 0.756408127126502, 0.25437426627087667, 0.7921302125519367, 0.8344834629457989, 0.7344551414880405, 0.8530645261109933, 0.5504875724544609, 0.8141716711533556, 0.8898622898018027, 0.4048554899514498, 0.6550669887070244, 0.7979071629667456, 0.6276366959481812], maxlen=20)\n",
      "eval_mean: 0.6915094269160054\n"
     ]
    },
    {
     "name": "stderr",
     "output_type": "stream",
     "text": [
      "\r",
      " 96%|█████████████████████████████████████████████████████████████████████▊   | 95628/100000 [2:11:09<06:15, 11.65it/s]"
     ]
    },
    {
     "name": "stdout",
     "output_type": "stream",
     "text": [
      "self.evaluation_deque: deque([0.822411283096759, 0.560088594661919, 0.7377345372264673, 0.7412979259189713, 0.7922264341399469, 0.44009366404250494, 0.771432491756372, 0.756408127126502, 0.25437426627087667, 0.7921302125519367, 0.8344834629457989, 0.7344551414880405, 0.8530645261109933, 0.5504875724544609, 0.8141716711533556, 0.8898622898018027, 0.4048554899514498, 0.6550669887070244, 0.7979071629667456, 0.6276366959481812], maxlen=20)\n",
      "eval_mean: 0.6915094269160054\n"
     ]
    },
    {
     "name": "stderr",
     "output_type": "stream",
     "text": [
      "\r",
      " 96%|█████████████████████████████████████████████████████████████████████▊   | 95704/100000 [2:11:17<06:33, 10.93it/s]"
     ]
    },
    {
     "name": "stdout",
     "output_type": "stream",
     "text": [
      "self.get_collection_ratio(): 0.8471434743808012\n",
      "self.comms.count(True) : 2\n",
      "len(self.comms) : 2\n",
      "self.state.ratio_commed: 1.0\n",
      "self.comms.count(True) : 2\n",
      "len(self.comms) : 2\n",
      "self.evaluation_deque: deque([0.560088594661919, 0.7377345372264673, 0.7412979259189713, 0.7922264341399469, 0.44009366404250494, 0.771432491756372, 0.756408127126502, 0.25437426627087667, 0.7921302125519367, 0.8344834629457989, 0.7344551414880405, 0.8530645261109933, 0.5504875724544609, 0.8141716711533556, 0.8898622898018027, 0.4048554899514498, 0.6550669887070244, 0.7979071629667456, 0.6276366959481812, 0.8471434743808012], maxlen=20)\n",
      "eval_mean: 0.6927460364802075\n"
     ]
    },
    {
     "name": "stderr",
     "output_type": "stream",
     "text": [
      "\r",
      " 96%|█████████████████████████████████████████████████████████████████████▉   | 95780/100000 [2:11:25<06:42, 10.48it/s]"
     ]
    },
    {
     "name": "stdout",
     "output_type": "stream",
     "text": [
      "self.evaluation_deque: deque([0.560088594661919, 0.7377345372264673, 0.7412979259189713, 0.7922264341399469, 0.44009366404250494, 0.771432491756372, 0.756408127126502, 0.25437426627087667, 0.7921302125519367, 0.8344834629457989, 0.7344551414880405, 0.8530645261109933, 0.5504875724544609, 0.8141716711533556, 0.8898622898018027, 0.4048554899514498, 0.6550669887070244, 0.7979071629667456, 0.6276366959481812, 0.8471434743808012], maxlen=20)\n",
      "eval_mean: 0.6927460364802075\n"
     ]
    },
    {
     "name": "stderr",
     "output_type": "stream",
     "text": [
      "\r",
      " 96%|█████████████████████████████████████████████████████████████████████▉   | 95856/100000 [2:11:32<06:43, 10.28it/s]"
     ]
    },
    {
     "name": "stdout",
     "output_type": "stream",
     "text": [
      "self.evaluation_deque: deque([0.560088594661919, 0.7377345372264673, 0.7412979259189713, 0.7922264341399469, 0.44009366404250494, 0.771432491756372, 0.756408127126502, 0.25437426627087667, 0.7921302125519367, 0.8344834629457989, 0.7344551414880405, 0.8530645261109933, 0.5504875724544609, 0.8141716711533556, 0.8898622898018027, 0.4048554899514498, 0.6550669887070244, 0.7979071629667456, 0.6276366959481812, 0.8471434743808012], maxlen=20)\n",
      "eval_mean: 0.6927460364802075\n"
     ]
    },
    {
     "name": "stderr",
     "output_type": "stream",
     "text": [
      "\r",
      " 96%|██████████████████████████████████████████████████████████████████████   | 95932/100000 [2:11:38<06:07, 11.07it/s]"
     ]
    },
    {
     "name": "stdout",
     "output_type": "stream",
     "text": [
      "self.evaluation_deque: deque([0.560088594661919, 0.7377345372264673, 0.7412979259189713, 0.7922264341399469, 0.44009366404250494, 0.771432491756372, 0.756408127126502, 0.25437426627087667, 0.7921302125519367, 0.8344834629457989, 0.7344551414880405, 0.8530645261109933, 0.5504875724544609, 0.8141716711533556, 0.8898622898018027, 0.4048554899514498, 0.6550669887070244, 0.7979071629667456, 0.6276366959481812, 0.8471434743808012], maxlen=20)\n",
      "eval_mean: 0.6927460364802075\n"
     ]
    },
    {
     "name": "stderr",
     "output_type": "stream",
     "text": [
      "\r",
      " 96%|██████████████████████████████████████████████████████████████████████   | 96008/100000 [2:11:46<06:18, 10.56it/s]"
     ]
    },
    {
     "name": "stdout",
     "output_type": "stream",
     "text": [
      "self.evaluation_deque: deque([0.560088594661919, 0.7377345372264673, 0.7412979259189713, 0.7922264341399469, 0.44009366404250494, 0.771432491756372, 0.756408127126502, 0.25437426627087667, 0.7921302125519367, 0.8344834629457989, 0.7344551414880405, 0.8530645261109933, 0.5504875724544609, 0.8141716711533556, 0.8898622898018027, 0.4048554899514498, 0.6550669887070244, 0.7979071629667456, 0.6276366959481812, 0.8471434743808012], maxlen=20)\n",
      "eval_mean: 0.6927460364802075\n"
     ]
    },
    {
     "name": "stderr",
     "output_type": "stream",
     "text": [
      "\r",
      " 96%|██████████████████████████████████████████████████████████████████████▏  | 96084/100000 [2:11:55<06:43,  9.70it/s]"
     ]
    },
    {
     "name": "stdout",
     "output_type": "stream",
     "text": [
      "self.get_collection_ratio(): 0.5138192895124666\n",
      "self.comms.count(True) : 1\n",
      "len(self.comms) : 1\n",
      "self.state.ratio_commed: 1.0\n",
      "self.comms.count(True) : 1\n",
      "len(self.comms) : 1\n",
      "self.evaluation_deque: deque([0.7377345372264673, 0.7412979259189713, 0.7922264341399469, 0.44009366404250494, 0.771432491756372, 0.756408127126502, 0.25437426627087667, 0.7921302125519367, 0.8344834629457989, 0.7344551414880405, 0.8530645261109933, 0.5504875724544609, 0.8141716711533556, 0.8898622898018027, 0.4048554899514498, 0.6550669887070244, 0.7979071629667456, 0.6276366959481812, 0.8471434743808012, 0.5138192895124666], maxlen=20)\n",
      "eval_mean: 0.6904325712227349\n"
     ]
    },
    {
     "name": "stderr",
     "output_type": "stream",
     "text": [
      "\r",
      " 96%|██████████████████████████████████████████████████████████████████████▏  | 96160/100000 [2:12:01<06:02, 10.60it/s]"
     ]
    },
    {
     "name": "stdout",
     "output_type": "stream",
     "text": [
      "self.evaluation_deque: deque([0.7377345372264673, 0.7412979259189713, 0.7922264341399469, 0.44009366404250494, 0.771432491756372, 0.756408127126502, 0.25437426627087667, 0.7921302125519367, 0.8344834629457989, 0.7344551414880405, 0.8530645261109933, 0.5504875724544609, 0.8141716711533556, 0.8898622898018027, 0.4048554899514498, 0.6550669887070244, 0.7979071629667456, 0.6276366959481812, 0.8471434743808012, 0.5138192895124666], maxlen=20)\n",
      "eval_mean: 0.6904325712227349\n"
     ]
    },
    {
     "name": "stderr",
     "output_type": "stream",
     "text": [
      "\r",
      " 96%|██████████████████████████████████████████████████████████████████████▎  | 96236/100000 [2:12:09<06:06, 10.28it/s]"
     ]
    },
    {
     "name": "stdout",
     "output_type": "stream",
     "text": [
      "self.evaluation_deque: deque([0.7377345372264673, 0.7412979259189713, 0.7922264341399469, 0.44009366404250494, 0.771432491756372, 0.756408127126502, 0.25437426627087667, 0.7921302125519367, 0.8344834629457989, 0.7344551414880405, 0.8530645261109933, 0.5504875724544609, 0.8141716711533556, 0.8898622898018027, 0.4048554899514498, 0.6550669887070244, 0.7979071629667456, 0.6276366959481812, 0.8471434743808012, 0.5138192895124666], maxlen=20)\n",
      "eval_mean: 0.6904325712227349\n"
     ]
    },
    {
     "name": "stderr",
     "output_type": "stream",
     "text": [
      "\r",
      " 96%|██████████████████████████████████████████████████████████████████████▎  | 96312/100000 [2:12:17<06:06, 10.05it/s]"
     ]
    },
    {
     "name": "stdout",
     "output_type": "stream",
     "text": [
      "self.evaluation_deque: deque([0.7377345372264673, 0.7412979259189713, 0.7922264341399469, 0.44009366404250494, 0.771432491756372, 0.756408127126502, 0.25437426627087667, 0.7921302125519367, 0.8344834629457989, 0.7344551414880405, 0.8530645261109933, 0.5504875724544609, 0.8141716711533556, 0.8898622898018027, 0.4048554899514498, 0.6550669887070244, 0.7979071629667456, 0.6276366959481812, 0.8471434743808012, 0.5138192895124666], maxlen=20)\n",
      "eval_mean: 0.6904325712227349\n"
     ]
    },
    {
     "name": "stderr",
     "output_type": "stream",
     "text": [
      "\r",
      " 96%|██████████████████████████████████████████████████████████████████████▎  | 96388/100000 [2:12:24<05:48, 10.36it/s]"
     ]
    },
    {
     "name": "stdout",
     "output_type": "stream",
     "text": [
      "self.evaluation_deque: deque([0.7377345372264673, 0.7412979259189713, 0.7922264341399469, 0.44009366404250494, 0.771432491756372, 0.756408127126502, 0.25437426627087667, 0.7921302125519367, 0.8344834629457989, 0.7344551414880405, 0.8530645261109933, 0.5504875724544609, 0.8141716711533556, 0.8898622898018027, 0.4048554899514498, 0.6550669887070244, 0.7979071629667456, 0.6276366959481812, 0.8471434743808012, 0.5138192895124666], maxlen=20)\n",
      "eval_mean: 0.6904325712227349\n"
     ]
    },
    {
     "name": "stderr",
     "output_type": "stream",
     "text": [
      "\r",
      " 96%|██████████████████████████████████████████████████████████████████████▍  | 96464/100000 [2:12:34<06:23,  9.21it/s]"
     ]
    },
    {
     "name": "stdout",
     "output_type": "stream",
     "text": [
      "self.get_collection_ratio(): 0.7883338925073435\n",
      "self.comms.count(True) : 2\n",
      "len(self.comms) : 2\n",
      "self.state.ratio_commed: 1.0\n",
      "self.comms.count(True) : 2\n",
      "len(self.comms) : 2\n",
      "self.evaluation_deque: deque([0.7412979259189713, 0.7922264341399469, 0.44009366404250494, 0.771432491756372, 0.756408127126502, 0.25437426627087667, 0.7921302125519367, 0.8344834629457989, 0.7344551414880405, 0.8530645261109933, 0.5504875724544609, 0.8141716711533556, 0.8898622898018027, 0.4048554899514498, 0.6550669887070244, 0.7979071629667456, 0.6276366959481812, 0.8471434743808012, 0.5138192895124666, 0.7883338925073435], maxlen=20)\n",
      "eval_mean: 0.6929625389867787\n"
     ]
    },
    {
     "name": "stderr",
     "output_type": "stream",
     "text": [
      "\r",
      " 97%|██████████████████████████████████████████████████████████████████████▍  | 96540/100000 [2:12:42<06:11,  9.32it/s]"
     ]
    },
    {
     "name": "stdout",
     "output_type": "stream",
     "text": [
      "self.evaluation_deque: deque([0.7412979259189713, 0.7922264341399469, 0.44009366404250494, 0.771432491756372, 0.756408127126502, 0.25437426627087667, 0.7921302125519367, 0.8344834629457989, 0.7344551414880405, 0.8530645261109933, 0.5504875724544609, 0.8141716711533556, 0.8898622898018027, 0.4048554899514498, 0.6550669887070244, 0.7979071629667456, 0.6276366959481812, 0.8471434743808012, 0.5138192895124666, 0.7883338925073435], maxlen=20)\n",
      "eval_mean: 0.6929625389867787\n"
     ]
    },
    {
     "name": "stderr",
     "output_type": "stream",
     "text": [
      "\r",
      " 97%|██████████████████████████████████████████████████████████████████████▌  | 96616/100000 [2:12:49<05:44,  9.82it/s]"
     ]
    },
    {
     "name": "stdout",
     "output_type": "stream",
     "text": [
      "self.evaluation_deque: deque([0.7412979259189713, 0.7922264341399469, 0.44009366404250494, 0.771432491756372, 0.756408127126502, 0.25437426627087667, 0.7921302125519367, 0.8344834629457989, 0.7344551414880405, 0.8530645261109933, 0.5504875724544609, 0.8141716711533556, 0.8898622898018027, 0.4048554899514498, 0.6550669887070244, 0.7979071629667456, 0.6276366959481812, 0.8471434743808012, 0.5138192895124666, 0.7883338925073435], maxlen=20)\n",
      "eval_mean: 0.6929625389867787\n"
     ]
    },
    {
     "name": "stderr",
     "output_type": "stream",
     "text": [
      "\r",
      " 97%|██████████████████████████████████████████████████████████████████████▌  | 96692/100000 [2:12:56<05:24, 10.20it/s]"
     ]
    },
    {
     "name": "stdout",
     "output_type": "stream",
     "text": [
      "self.evaluation_deque: deque([0.7412979259189713, 0.7922264341399469, 0.44009366404250494, 0.771432491756372, 0.756408127126502, 0.25437426627087667, 0.7921302125519367, 0.8344834629457989, 0.7344551414880405, 0.8530645261109933, 0.5504875724544609, 0.8141716711533556, 0.8898622898018027, 0.4048554899514498, 0.6550669887070244, 0.7979071629667456, 0.6276366959481812, 0.8471434743808012, 0.5138192895124666, 0.7883338925073435], maxlen=20)\n",
      "eval_mean: 0.6929625389867787\n"
     ]
    },
    {
     "name": "stderr",
     "output_type": "stream",
     "text": [
      "\r",
      " 97%|██████████████████████████████████████████████████████████████████████▋  | 96768/100000 [2:13:01<04:52, 11.04it/s]"
     ]
    },
    {
     "name": "stdout",
     "output_type": "stream",
     "text": [
      "self.evaluation_deque: deque([0.7412979259189713, 0.7922264341399469, 0.44009366404250494, 0.771432491756372, 0.756408127126502, 0.25437426627087667, 0.7921302125519367, 0.8344834629457989, 0.7344551414880405, 0.8530645261109933, 0.5504875724544609, 0.8141716711533556, 0.8898622898018027, 0.4048554899514498, 0.6550669887070244, 0.7979071629667456, 0.6276366959481812, 0.8471434743808012, 0.5138192895124666, 0.7883338925073435], maxlen=20)\n",
      "eval_mean: 0.6929625389867787\n"
     ]
    },
    {
     "name": "stderr",
     "output_type": "stream",
     "text": [
      "\r",
      " 97%|██████████████████████████████████████████████████████████████████████▋  | 96844/100000 [2:13:11<05:28,  9.62it/s]"
     ]
    },
    {
     "name": "stdout",
     "output_type": "stream",
     "text": [
      "self.get_collection_ratio(): 0.731736316470555\n",
      "self.comms.count(True) : 2\n",
      "len(self.comms) : 2\n",
      "self.state.ratio_commed: 1.0\n",
      "self.comms.count(True) : 2\n",
      "len(self.comms) : 2\n",
      "self.evaluation_deque: deque([0.7922264341399469, 0.44009366404250494, 0.771432491756372, 0.756408127126502, 0.25437426627087667, 0.7921302125519367, 0.8344834629457989, 0.7344551414880405, 0.8530645261109933, 0.5504875724544609, 0.8141716711533556, 0.8898622898018027, 0.4048554899514498, 0.6550669887070244, 0.7979071629667456, 0.6276366959481812, 0.8471434743808012, 0.5138192895124666, 0.7883338925073435, 0.731736316470555], maxlen=20)\n",
      "eval_mean: 0.6924844585143579\n"
     ]
    },
    {
     "name": "stderr",
     "output_type": "stream",
     "text": [
      "\r",
      " 97%|██████████████████████████████████████████████████████████████████████▊  | 96920/100000 [2:13:18<05:06, 10.06it/s]"
     ]
    },
    {
     "name": "stdout",
     "output_type": "stream",
     "text": [
      "self.evaluation_deque: deque([0.7922264341399469, 0.44009366404250494, 0.771432491756372, 0.756408127126502, 0.25437426627087667, 0.7921302125519367, 0.8344834629457989, 0.7344551414880405, 0.8530645261109933, 0.5504875724544609, 0.8141716711533556, 0.8898622898018027, 0.4048554899514498, 0.6550669887070244, 0.7979071629667456, 0.6276366959481812, 0.8471434743808012, 0.5138192895124666, 0.7883338925073435, 0.731736316470555], maxlen=20)\n",
      "eval_mean: 0.6924844585143579\n"
     ]
    },
    {
     "name": "stderr",
     "output_type": "stream",
     "text": [
      "\r",
      " 97%|██████████████████████████████████████████████████████████████████████▊  | 96996/100000 [2:13:24<04:36, 10.88it/s]"
     ]
    },
    {
     "name": "stdout",
     "output_type": "stream",
     "text": [
      "self.evaluation_deque: deque([0.7922264341399469, 0.44009366404250494, 0.771432491756372, 0.756408127126502, 0.25437426627087667, 0.7921302125519367, 0.8344834629457989, 0.7344551414880405, 0.8530645261109933, 0.5504875724544609, 0.8141716711533556, 0.8898622898018027, 0.4048554899514498, 0.6550669887070244, 0.7979071629667456, 0.6276366959481812, 0.8471434743808012, 0.5138192895124666, 0.7883338925073435, 0.731736316470555], maxlen=20)\n",
      "eval_mean: 0.6924844585143579\n"
     ]
    },
    {
     "name": "stderr",
     "output_type": "stream",
     "text": [
      "\r",
      " 97%|██████████████████████████████████████████████████████████████████████▊  | 97072/100000 [2:13:31<04:27, 10.97it/s]"
     ]
    },
    {
     "name": "stdout",
     "output_type": "stream",
     "text": [
      "self.evaluation_deque: deque([0.7922264341399469, 0.44009366404250494, 0.771432491756372, 0.756408127126502, 0.25437426627087667, 0.7921302125519367, 0.8344834629457989, 0.7344551414880405, 0.8530645261109933, 0.5504875724544609, 0.8141716711533556, 0.8898622898018027, 0.4048554899514498, 0.6550669887070244, 0.7979071629667456, 0.6276366959481812, 0.8471434743808012, 0.5138192895124666, 0.7883338925073435, 0.731736316470555], maxlen=20)\n",
      "eval_mean: 0.6924844585143579\n"
     ]
    },
    {
     "name": "stderr",
     "output_type": "stream",
     "text": [
      "\r",
      " 97%|██████████████████████████████████████████████████████████████████████▉  | 97148/100000 [2:13:37<04:17, 11.07it/s]"
     ]
    },
    {
     "name": "stdout",
     "output_type": "stream",
     "text": [
      "self.evaluation_deque: deque([0.7922264341399469, 0.44009366404250494, 0.771432491756372, 0.756408127126502, 0.25437426627087667, 0.7921302125519367, 0.8344834629457989, 0.7344551414880405, 0.8530645261109933, 0.5504875724544609, 0.8141716711533556, 0.8898622898018027, 0.4048554899514498, 0.6550669887070244, 0.7979071629667456, 0.6276366959481812, 0.8471434743808012, 0.5138192895124666, 0.7883338925073435, 0.731736316470555], maxlen=20)\n",
      "eval_mean: 0.6924844585143579\n"
     ]
    },
    {
     "name": "stderr",
     "output_type": "stream",
     "text": [
      "\r",
      " 97%|██████████████████████████████████████████████████████████████████████▉  | 97224/100000 [2:13:46<04:31, 10.22it/s]"
     ]
    },
    {
     "name": "stdout",
     "output_type": "stream",
     "text": [
      "self.get_collection_ratio(): 0.8559826805294161\n",
      "self.comms.count(True) : 3\n",
      "len(self.comms) : 3\n",
      "self.state.ratio_commed: 1.0\n",
      "self.comms.count(True) : 3\n",
      "len(self.comms) : 3\n",
      "self.evaluation_deque: deque([0.44009366404250494, 0.771432491756372, 0.756408127126502, 0.25437426627087667, 0.7921302125519367, 0.8344834629457989, 0.7344551414880405, 0.8530645261109933, 0.5504875724544609, 0.8141716711533556, 0.8898622898018027, 0.4048554899514498, 0.6550669887070244, 0.7979071629667456, 0.6276366959481812, 0.8471434743808012, 0.5138192895124666, 0.7883338925073435, 0.731736316470555, 0.8559826805294161], maxlen=20)\n",
      "eval_mean: 0.6956722708338314\n"
     ]
    },
    {
     "name": "stderr",
     "output_type": "stream",
     "text": [
      "\r",
      " 97%|███████████████████████████████████████████████████████████████████████  | 97300/100000 [2:13:52<04:06, 10.96it/s]"
     ]
    },
    {
     "name": "stdout",
     "output_type": "stream",
     "text": [
      "self.evaluation_deque: deque([0.44009366404250494, 0.771432491756372, 0.756408127126502, 0.25437426627087667, 0.7921302125519367, 0.8344834629457989, 0.7344551414880405, 0.8530645261109933, 0.5504875724544609, 0.8141716711533556, 0.8898622898018027, 0.4048554899514498, 0.6550669887070244, 0.7979071629667456, 0.6276366959481812, 0.8471434743808012, 0.5138192895124666, 0.7883338925073435, 0.731736316470555, 0.8559826805294161], maxlen=20)\n",
      "eval_mean: 0.6956722708338314\n"
     ]
    },
    {
     "name": "stderr",
     "output_type": "stream",
     "text": [
      "\r",
      " 97%|███████████████████████████████████████████████████████████████████████  | 97376/100000 [2:14:00<04:11, 10.44it/s]"
     ]
    },
    {
     "name": "stdout",
     "output_type": "stream",
     "text": [
      "self.evaluation_deque: deque([0.44009366404250494, 0.771432491756372, 0.756408127126502, 0.25437426627087667, 0.7921302125519367, 0.8344834629457989, 0.7344551414880405, 0.8530645261109933, 0.5504875724544609, 0.8141716711533556, 0.8898622898018027, 0.4048554899514498, 0.6550669887070244, 0.7979071629667456, 0.6276366959481812, 0.8471434743808012, 0.5138192895124666, 0.7883338925073435, 0.731736316470555, 0.8559826805294161], maxlen=20)\n",
      "eval_mean: 0.6956722708338314\n"
     ]
    },
    {
     "name": "stderr",
     "output_type": "stream",
     "text": [
      "\r",
      " 97%|███████████████████████████████████████████████████████████████████████▏ | 97452/100000 [2:14:06<03:48, 11.17it/s]"
     ]
    },
    {
     "name": "stdout",
     "output_type": "stream",
     "text": [
      "self.evaluation_deque: deque([0.44009366404250494, 0.771432491756372, 0.756408127126502, 0.25437426627087667, 0.7921302125519367, 0.8344834629457989, 0.7344551414880405, 0.8530645261109933, 0.5504875724544609, 0.8141716711533556, 0.8898622898018027, 0.4048554899514498, 0.6550669887070244, 0.7979071629667456, 0.6276366959481812, 0.8471434743808012, 0.5138192895124666, 0.7883338925073435, 0.731736316470555, 0.8559826805294161], maxlen=20)\n",
      "eval_mean: 0.6956722708338314\n"
     ]
    },
    {
     "name": "stderr",
     "output_type": "stream",
     "text": [
      "\r",
      " 98%|███████████████████████████████████████████████████████████████████████▏ | 97528/100000 [2:14:11<03:30, 11.76it/s]"
     ]
    },
    {
     "name": "stdout",
     "output_type": "stream",
     "text": [
      "self.evaluation_deque: deque([0.44009366404250494, 0.771432491756372, 0.756408127126502, 0.25437426627087667, 0.7921302125519367, 0.8344834629457989, 0.7344551414880405, 0.8530645261109933, 0.5504875724544609, 0.8141716711533556, 0.8898622898018027, 0.4048554899514498, 0.6550669887070244, 0.7979071629667456, 0.6276366959481812, 0.8471434743808012, 0.5138192895124666, 0.7883338925073435, 0.731736316470555, 0.8559826805294161], maxlen=20)\n",
      "eval_mean: 0.6956722708338314\n"
     ]
    },
    {
     "name": "stderr",
     "output_type": "stream",
     "text": [
      "\r",
      " 98%|███████████████████████████████████████████████████████████████████████▎ | 97604/100000 [2:14:20<03:44, 10.69it/s]"
     ]
    },
    {
     "name": "stdout",
     "output_type": "stream",
     "text": [
      "self.get_collection_ratio(): 0.430124305611026\n",
      "self.comms.count(True) : 1\n",
      "len(self.comms) : 1\n",
      "self.state.ratio_commed: 1.0\n",
      "self.comms.count(True) : 1\n",
      "len(self.comms) : 1\n",
      "self.evaluation_deque: deque([0.771432491756372, 0.756408127126502, 0.25437426627087667, 0.7921302125519367, 0.8344834629457989, 0.7344551414880405, 0.8530645261109933, 0.5504875724544609, 0.8141716711533556, 0.8898622898018027, 0.4048554899514498, 0.6550669887070244, 0.7979071629667456, 0.6276366959481812, 0.8471434743808012, 0.5138192895124666, 0.7883338925073435, 0.731736316470555, 0.8559826805294161, 0.430124305611026], maxlen=20)\n",
      "eval_mean: 0.6951738029122574\n"
     ]
    },
    {
     "name": "stderr",
     "output_type": "stream",
     "text": [
      "\r",
      " 98%|███████████████████████████████████████████████████████████████████████▎ | 97680/100000 [2:14:27<03:35, 10.78it/s]"
     ]
    },
    {
     "name": "stdout",
     "output_type": "stream",
     "text": [
      "self.evaluation_deque: deque([0.771432491756372, 0.756408127126502, 0.25437426627087667, 0.7921302125519367, 0.8344834629457989, 0.7344551414880405, 0.8530645261109933, 0.5504875724544609, 0.8141716711533556, 0.8898622898018027, 0.4048554899514498, 0.6550669887070244, 0.7979071629667456, 0.6276366959481812, 0.8471434743808012, 0.5138192895124666, 0.7883338925073435, 0.731736316470555, 0.8559826805294161, 0.430124305611026], maxlen=20)\n",
      "eval_mean: 0.6951738029122574\n"
     ]
    },
    {
     "name": "stderr",
     "output_type": "stream",
     "text": [
      "\r",
      " 98%|███████████████████████████████████████████████████████████████████████▎ | 97756/100000 [2:14:32<03:16, 11.44it/s]"
     ]
    },
    {
     "name": "stdout",
     "output_type": "stream",
     "text": [
      "self.evaluation_deque: deque([0.771432491756372, 0.756408127126502, 0.25437426627087667, 0.7921302125519367, 0.8344834629457989, 0.7344551414880405, 0.8530645261109933, 0.5504875724544609, 0.8141716711533556, 0.8898622898018027, 0.4048554899514498, 0.6550669887070244, 0.7979071629667456, 0.6276366959481812, 0.8471434743808012, 0.5138192895124666, 0.7883338925073435, 0.731736316470555, 0.8559826805294161, 0.430124305611026], maxlen=20)\n",
      "eval_mean: 0.6951738029122574\n"
     ]
    },
    {
     "name": "stderr",
     "output_type": "stream",
     "text": [
      "\r",
      " 98%|███████████████████████████████████████████████████████████████████████▍ | 97832/100000 [2:14:40<03:19, 10.88it/s]"
     ]
    },
    {
     "name": "stdout",
     "output_type": "stream",
     "text": [
      "self.evaluation_deque: deque([0.771432491756372, 0.756408127126502, 0.25437426627087667, 0.7921302125519367, 0.8344834629457989, 0.7344551414880405, 0.8530645261109933, 0.5504875724544609, 0.8141716711533556, 0.8898622898018027, 0.4048554899514498, 0.6550669887070244, 0.7979071629667456, 0.6276366959481812, 0.8471434743808012, 0.5138192895124666, 0.7883338925073435, 0.731736316470555, 0.8559826805294161, 0.430124305611026], maxlen=20)\n",
      "eval_mean: 0.6951738029122574\n"
     ]
    },
    {
     "name": "stderr",
     "output_type": "stream",
     "text": [
      "\r",
      " 98%|███████████████████████████████████████████████████████████████████████▍ | 97908/100000 [2:14:48<03:18, 10.53it/s]"
     ]
    },
    {
     "name": "stdout",
     "output_type": "stream",
     "text": [
      "self.evaluation_deque: deque([0.771432491756372, 0.756408127126502, 0.25437426627087667, 0.7921302125519367, 0.8344834629457989, 0.7344551414880405, 0.8530645261109933, 0.5504875724544609, 0.8141716711533556, 0.8898622898018027, 0.4048554899514498, 0.6550669887070244, 0.7979071629667456, 0.6276366959481812, 0.8471434743808012, 0.5138192895124666, 0.7883338925073435, 0.731736316470555, 0.8559826805294161, 0.430124305611026], maxlen=20)\n",
      "eval_mean: 0.6951738029122574\n"
     ]
    },
    {
     "name": "stderr",
     "output_type": "stream",
     "text": [
      "\r",
      " 98%|███████████████████████████████████████████████████████████████████████▌ | 97984/100000 [2:14:56<03:21, 10.02it/s]"
     ]
    },
    {
     "name": "stdout",
     "output_type": "stream",
     "text": [
      "self.get_collection_ratio(): 0.4950770034916287\n",
      "self.comms.count(True) : 1\n",
      "len(self.comms) : 1\n",
      "self.state.ratio_commed: 1.0\n",
      "self.comms.count(True) : 1\n",
      "len(self.comms) : 1\n",
      "self.evaluation_deque: deque([0.756408127126502, 0.25437426627087667, 0.7921302125519367, 0.8344834629457989, 0.7344551414880405, 0.8530645261109933, 0.5504875724544609, 0.8141716711533556, 0.8898622898018027, 0.4048554899514498, 0.6550669887070244, 0.7979071629667456, 0.6276366959481812, 0.8471434743808012, 0.5138192895124666, 0.7883338925073435, 0.731736316470555, 0.8559826805294161, 0.430124305611026, 0.4950770034916287], maxlen=20)\n",
      "eval_mean: 0.6813560284990203\n"
     ]
    },
    {
     "name": "stderr",
     "output_type": "stream",
     "text": [
      " 98%|███████████████████████████████████████████████████████████████████████▌ | 98060/100000 [2:15:16<04:42,  6.86it/s]"
     ]
    },
    {
     "name": "stdout",
     "output_type": "stream",
     "text": [
      "self.evaluation_deque: deque([0.756408127126502, 0.25437426627087667, 0.7921302125519367, 0.8344834629457989, 0.7344551414880405, 0.8530645261109933, 0.5504875724544609, 0.8141716711533556, 0.8898622898018027, 0.4048554899514498, 0.6550669887070244, 0.7979071629667456, 0.6276366959481812, 0.8471434743808012, 0.5138192895124666, 0.7883338925073435, 0.731736316470555, 0.8559826805294161, 0.430124305611026, 0.4950770034916287], maxlen=20)\n",
      "eval_mean: 0.6813560284990203\n"
     ]
    },
    {
     "name": "stderr",
     "output_type": "stream",
     "text": [
      "\r",
      " 98%|███████████████████████████████████████████████████████████████████████▋ | 98136/100000 [2:15:21<03:52,  8.03it/s]"
     ]
    },
    {
     "name": "stdout",
     "output_type": "stream",
     "text": [
      "self.evaluation_deque: deque([0.756408127126502, 0.25437426627087667, 0.7921302125519367, 0.8344834629457989, 0.7344551414880405, 0.8530645261109933, 0.5504875724544609, 0.8141716711533556, 0.8898622898018027, 0.4048554899514498, 0.6550669887070244, 0.7979071629667456, 0.6276366959481812, 0.8471434743808012, 0.5138192895124666, 0.7883338925073435, 0.731736316470555, 0.8559826805294161, 0.430124305611026, 0.4950770034916287], maxlen=20)\n",
      "eval_mean: 0.6813560284990203\n"
     ]
    },
    {
     "name": "stderr",
     "output_type": "stream",
     "text": [
      "\r",
      " 98%|███████████████████████████████████████████████████████████████████████▋ | 98212/100000 [2:15:29<03:32,  8.43it/s]"
     ]
    },
    {
     "name": "stdout",
     "output_type": "stream",
     "text": [
      "self.evaluation_deque: deque([0.756408127126502, 0.25437426627087667, 0.7921302125519367, 0.8344834629457989, 0.7344551414880405, 0.8530645261109933, 0.5504875724544609, 0.8141716711533556, 0.8898622898018027, 0.4048554899514498, 0.6550669887070244, 0.7979071629667456, 0.6276366959481812, 0.8471434743808012, 0.5138192895124666, 0.7883338925073435, 0.731736316470555, 0.8559826805294161, 0.430124305611026, 0.4950770034916287], maxlen=20)\n",
      "eval_mean: 0.6813560284990203\n"
     ]
    },
    {
     "name": "stderr",
     "output_type": "stream",
     "text": [
      "\r",
      " 98%|███████████████████████████████████████████████████████████████████████▊ | 98288/100000 [2:15:35<03:00,  9.46it/s]"
     ]
    },
    {
     "name": "stdout",
     "output_type": "stream",
     "text": [
      "self.evaluation_deque: deque([0.756408127126502, 0.25437426627087667, 0.7921302125519367, 0.8344834629457989, 0.7344551414880405, 0.8530645261109933, 0.5504875724544609, 0.8141716711533556, 0.8898622898018027, 0.4048554899514498, 0.6550669887070244, 0.7979071629667456, 0.6276366959481812, 0.8471434743808012, 0.5138192895124666, 0.7883338925073435, 0.731736316470555, 0.8559826805294161, 0.430124305611026, 0.4950770034916287], maxlen=20)\n",
      "eval_mean: 0.6813560284990203\n"
     ]
    },
    {
     "name": "stderr",
     "output_type": "stream",
     "text": [
      "\r",
      " 98%|███████████████████████████████████████████████████████████████████████▊ | 98364/100000 [2:15:42<02:47,  9.74it/s]"
     ]
    },
    {
     "name": "stdout",
     "output_type": "stream",
     "text": [
      "self.get_collection_ratio(): 0.5914815850561543\n",
      "self.comms.count(True) : 1\n",
      "len(self.comms) : 1\n",
      "self.state.ratio_commed: 1.0\n",
      "self.comms.count(True) : 1\n",
      "len(self.comms) : 1\n",
      "self.evaluation_deque: deque([0.25437426627087667, 0.7921302125519367, 0.8344834629457989, 0.7344551414880405, 0.8530645261109933, 0.5504875724544609, 0.8141716711533556, 0.8898622898018027, 0.4048554899514498, 0.6550669887070244, 0.7979071629667456, 0.6276366959481812, 0.8471434743808012, 0.5138192895124666, 0.7883338925073435, 0.731736316470555, 0.8559826805294161, 0.430124305611026, 0.4950770034916287, 0.5914815850561543], maxlen=20)\n",
      "eval_mean: 0.6731097013955029\n"
     ]
    },
    {
     "name": "stderr",
     "output_type": "stream",
     "text": [
      "\r",
      " 98%|███████████████████████████████████████████████████████████████████████▊ | 98440/100000 [2:15:50<02:41,  9.66it/s]"
     ]
    },
    {
     "name": "stdout",
     "output_type": "stream",
     "text": [
      "self.evaluation_deque: deque([0.25437426627087667, 0.7921302125519367, 0.8344834629457989, 0.7344551414880405, 0.8530645261109933, 0.5504875724544609, 0.8141716711533556, 0.8898622898018027, 0.4048554899514498, 0.6550669887070244, 0.7979071629667456, 0.6276366959481812, 0.8471434743808012, 0.5138192895124666, 0.7883338925073435, 0.731736316470555, 0.8559826805294161, 0.430124305611026, 0.4950770034916287, 0.5914815850561543], maxlen=20)\n",
      "eval_mean: 0.6731097013955029\n"
     ]
    },
    {
     "name": "stderr",
     "output_type": "stream",
     "text": [
      "\r",
      " 99%|███████████████████████████████████████████████████████████████████████▉ | 98516/100000 [2:15:56<02:20, 10.53it/s]"
     ]
    },
    {
     "name": "stdout",
     "output_type": "stream",
     "text": [
      "self.evaluation_deque: deque([0.25437426627087667, 0.7921302125519367, 0.8344834629457989, 0.7344551414880405, 0.8530645261109933, 0.5504875724544609, 0.8141716711533556, 0.8898622898018027, 0.4048554899514498, 0.6550669887070244, 0.7979071629667456, 0.6276366959481812, 0.8471434743808012, 0.5138192895124666, 0.7883338925073435, 0.731736316470555, 0.8559826805294161, 0.430124305611026, 0.4950770034916287, 0.5914815850561543], maxlen=20)\n",
      "eval_mean: 0.6731097013955029\n"
     ]
    },
    {
     "name": "stderr",
     "output_type": "stream",
     "text": [
      "\r",
      " 99%|███████████████████████████████████████████████████████████████████████▉ | 98592/100000 [2:16:02<02:05, 11.21it/s]"
     ]
    },
    {
     "name": "stdout",
     "output_type": "stream",
     "text": [
      "self.evaluation_deque: deque([0.25437426627087667, 0.7921302125519367, 0.8344834629457989, 0.7344551414880405, 0.8530645261109933, 0.5504875724544609, 0.8141716711533556, 0.8898622898018027, 0.4048554899514498, 0.6550669887070244, 0.7979071629667456, 0.6276366959481812, 0.8471434743808012, 0.5138192895124666, 0.7883338925073435, 0.731736316470555, 0.8559826805294161, 0.430124305611026, 0.4950770034916287, 0.5914815850561543], maxlen=20)\n",
      "eval_mean: 0.6731097013955029\n"
     ]
    },
    {
     "name": "stderr",
     "output_type": "stream",
     "text": [
      "\r",
      " 99%|████████████████████████████████████████████████████████████████████████ | 98668/100000 [2:16:10<02:05, 10.63it/s]"
     ]
    },
    {
     "name": "stdout",
     "output_type": "stream",
     "text": [
      "self.evaluation_deque: deque([0.25437426627087667, 0.7921302125519367, 0.8344834629457989, 0.7344551414880405, 0.8530645261109933, 0.5504875724544609, 0.8141716711533556, 0.8898622898018027, 0.4048554899514498, 0.6550669887070244, 0.7979071629667456, 0.6276366959481812, 0.8471434743808012, 0.5138192895124666, 0.7883338925073435, 0.731736316470555, 0.8559826805294161, 0.430124305611026, 0.4950770034916287, 0.5914815850561543], maxlen=20)\n",
      "eval_mean: 0.6731097013955029\n"
     ]
    },
    {
     "name": "stderr",
     "output_type": "stream",
     "text": [
      "\r",
      " 99%|████████████████████████████████████████████████████████████████████████ | 98744/100000 [2:16:20<02:14,  9.36it/s]"
     ]
    },
    {
     "name": "stdout",
     "output_type": "stream",
     "text": [
      "self.get_collection_ratio(): 0.742539669808915\n",
      "self.comms.count(True) : 2\n",
      "len(self.comms) : 2\n",
      "self.state.ratio_commed: 1.0\n",
      "self.comms.count(True) : 2\n",
      "len(self.comms) : 2\n",
      "self.evaluation_deque: deque([0.7921302125519367, 0.8344834629457989, 0.7344551414880405, 0.8530645261109933, 0.5504875724544609, 0.8141716711533556, 0.8898622898018027, 0.4048554899514498, 0.6550669887070244, 0.7979071629667456, 0.6276366959481812, 0.8471434743808012, 0.5138192895124666, 0.7883338925073435, 0.731736316470555, 0.8559826805294161, 0.430124305611026, 0.4950770034916287, 0.5914815850561543, 0.742539669808915], maxlen=20)\n",
      "eval_mean: 0.6975179715724048\n"
     ]
    },
    {
     "name": "stderr",
     "output_type": "stream",
     "text": [
      "\r",
      " 99%|████████████████████████████████████████████████████████████████████████▏| 98820/100000 [2:16:26<01:54, 10.27it/s]"
     ]
    },
    {
     "name": "stdout",
     "output_type": "stream",
     "text": [
      "self.evaluation_deque: deque([0.7921302125519367, 0.8344834629457989, 0.7344551414880405, 0.8530645261109933, 0.5504875724544609, 0.8141716711533556, 0.8898622898018027, 0.4048554899514498, 0.6550669887070244, 0.7979071629667456, 0.6276366959481812, 0.8471434743808012, 0.5138192895124666, 0.7883338925073435, 0.731736316470555, 0.8559826805294161, 0.430124305611026, 0.4950770034916287, 0.5914815850561543, 0.742539669808915], maxlen=20)\n",
      "eval_mean: 0.6975179715724048\n"
     ]
    },
    {
     "name": "stderr",
     "output_type": "stream",
     "text": [
      "\r",
      " 99%|████████████████████████████████████████████████████████████████████████▏| 98896/100000 [2:16:32<01:40, 11.04it/s]"
     ]
    },
    {
     "name": "stdout",
     "output_type": "stream",
     "text": [
      "self.evaluation_deque: deque([0.7921302125519367, 0.8344834629457989, 0.7344551414880405, 0.8530645261109933, 0.5504875724544609, 0.8141716711533556, 0.8898622898018027, 0.4048554899514498, 0.6550669887070244, 0.7979071629667456, 0.6276366959481812, 0.8471434743808012, 0.5138192895124666, 0.7883338925073435, 0.731736316470555, 0.8559826805294161, 0.430124305611026, 0.4950770034916287, 0.5914815850561543, 0.742539669808915], maxlen=20)\n",
      "eval_mean: 0.6975179715724048\n"
     ]
    },
    {
     "name": "stderr",
     "output_type": "stream",
     "text": [
      "\r",
      " 99%|████████████████████████████████████████████████████████████████████████▏| 98972/100000 [2:16:40<01:37, 10.51it/s]"
     ]
    },
    {
     "name": "stdout",
     "output_type": "stream",
     "text": [
      "self.evaluation_deque: deque([0.7921302125519367, 0.8344834629457989, 0.7344551414880405, 0.8530645261109933, 0.5504875724544609, 0.8141716711533556, 0.8898622898018027, 0.4048554899514498, 0.6550669887070244, 0.7979071629667456, 0.6276366959481812, 0.8471434743808012, 0.5138192895124666, 0.7883338925073435, 0.731736316470555, 0.8559826805294161, 0.430124305611026, 0.4950770034916287, 0.5914815850561543, 0.742539669808915], maxlen=20)\n",
      "eval_mean: 0.6975179715724048\n"
     ]
    },
    {
     "name": "stderr",
     "output_type": "stream",
     "text": [
      "\r",
      " 99%|████████████████████████████████████████████████████████████████████████▎| 99048/100000 [2:16:47<01:29, 10.68it/s]"
     ]
    },
    {
     "name": "stdout",
     "output_type": "stream",
     "text": [
      "self.evaluation_deque: deque([0.7921302125519367, 0.8344834629457989, 0.7344551414880405, 0.8530645261109933, 0.5504875724544609, 0.8141716711533556, 0.8898622898018027, 0.4048554899514498, 0.6550669887070244, 0.7979071629667456, 0.6276366959481812, 0.8471434743808012, 0.5138192895124666, 0.7883338925073435, 0.731736316470555, 0.8559826805294161, 0.430124305611026, 0.4950770034916287, 0.5914815850561543, 0.742539669808915], maxlen=20)\n",
      "eval_mean: 0.6975179715724048\n"
     ]
    },
    {
     "name": "stderr",
     "output_type": "stream",
     "text": [
      "\r",
      " 99%|████████████████████████████████████████████████████████████████████████▎| 99124/100000 [2:16:56<01:30,  9.65it/s]"
     ]
    },
    {
     "name": "stdout",
     "output_type": "stream",
     "text": [
      "self.get_collection_ratio(): 0.5755634477717286\n",
      "self.comms.count(True) : 1\n",
      "len(self.comms) : 1\n",
      "self.state.ratio_commed: 1.0\n",
      "self.comms.count(True) : 1\n",
      "len(self.comms) : 1\n",
      "self.evaluation_deque: deque([0.8344834629457989, 0.7344551414880405, 0.8530645261109933, 0.5504875724544609, 0.8141716711533556, 0.8898622898018027, 0.4048554899514498, 0.6550669887070244, 0.7979071629667456, 0.6276366959481812, 0.8471434743808012, 0.5138192895124666, 0.7883338925073435, 0.731736316470555, 0.8559826805294161, 0.430124305611026, 0.4950770034916287, 0.5914815850561543, 0.742539669808915, 0.5755634477717286], maxlen=20)\n",
      "eval_mean: 0.6866896333333944\n"
     ]
    },
    {
     "name": "stderr",
     "output_type": "stream",
     "text": [
      "\r",
      " 99%|████████████████████████████████████████████████████████████████████████▍| 99200/100000 [2:17:03<01:19, 10.03it/s]"
     ]
    },
    {
     "name": "stdout",
     "output_type": "stream",
     "text": [
      "self.evaluation_deque: deque([0.8344834629457989, 0.7344551414880405, 0.8530645261109933, 0.5504875724544609, 0.8141716711533556, 0.8898622898018027, 0.4048554899514498, 0.6550669887070244, 0.7979071629667456, 0.6276366959481812, 0.8471434743808012, 0.5138192895124666, 0.7883338925073435, 0.731736316470555, 0.8559826805294161, 0.430124305611026, 0.4950770034916287, 0.5914815850561543, 0.742539669808915, 0.5755634477717286], maxlen=20)\n",
      "eval_mean: 0.6866896333333944\n"
     ]
    },
    {
     "name": "stderr",
     "output_type": "stream",
     "text": [
      "\r",
      " 99%|████████████████████████████████████████████████████████████████████████▍| 99276/100000 [2:17:09<01:06, 10.83it/s]"
     ]
    },
    {
     "name": "stdout",
     "output_type": "stream",
     "text": [
      "self.evaluation_deque: deque([0.8344834629457989, 0.7344551414880405, 0.8530645261109933, 0.5504875724544609, 0.8141716711533556, 0.8898622898018027, 0.4048554899514498, 0.6550669887070244, 0.7979071629667456, 0.6276366959481812, 0.8471434743808012, 0.5138192895124666, 0.7883338925073435, 0.731736316470555, 0.8559826805294161, 0.430124305611026, 0.4950770034916287, 0.5914815850561543, 0.742539669808915, 0.5755634477717286], maxlen=20)\n",
      "eval_mean: 0.6866896333333944\n"
     ]
    },
    {
     "name": "stderr",
     "output_type": "stream",
     "text": [
      "\r",
      " 99%|████████████████████████████████████████████████████████████████████████▌| 99352/100000 [2:17:14<00:56, 11.50it/s]"
     ]
    },
    {
     "name": "stdout",
     "output_type": "stream",
     "text": [
      "self.evaluation_deque: deque([0.8344834629457989, 0.7344551414880405, 0.8530645261109933, 0.5504875724544609, 0.8141716711533556, 0.8898622898018027, 0.4048554899514498, 0.6550669887070244, 0.7979071629667456, 0.6276366959481812, 0.8471434743808012, 0.5138192895124666, 0.7883338925073435, 0.731736316470555, 0.8559826805294161, 0.430124305611026, 0.4950770034916287, 0.5914815850561543, 0.742539669808915, 0.5755634477717286], maxlen=20)\n",
      "eval_mean: 0.6866896333333944\n"
     ]
    },
    {
     "name": "stderr",
     "output_type": "stream",
     "text": [
      "\r",
      " 99%|████████████████████████████████████████████████████████████████████████▌| 99428/100000 [2:17:21<00:50, 11.37it/s]"
     ]
    },
    {
     "name": "stdout",
     "output_type": "stream",
     "text": [
      "self.evaluation_deque: deque([0.8344834629457989, 0.7344551414880405, 0.8530645261109933, 0.5504875724544609, 0.8141716711533556, 0.8898622898018027, 0.4048554899514498, 0.6550669887070244, 0.7979071629667456, 0.6276366959481812, 0.8471434743808012, 0.5138192895124666, 0.7883338925073435, 0.731736316470555, 0.8559826805294161, 0.430124305611026, 0.4950770034916287, 0.5914815850561543, 0.742539669808915, 0.5755634477717286], maxlen=20)\n",
      "eval_mean: 0.6866896333333944\n"
     ]
    },
    {
     "name": "stderr",
     "output_type": "stream",
     "text": [
      "\r",
      "100%|████████████████████████████████████████████████████████████████████████▋| 99504/100000 [2:17:31<00:48, 10.19it/s]"
     ]
    },
    {
     "name": "stdout",
     "output_type": "stream",
     "text": [
      "self.get_collection_ratio(): 0.8074520728114524\n",
      "self.comms.count(True) : 2\n",
      "len(self.comms) : 2\n",
      "self.state.ratio_commed: 1.0\n",
      "self.comms.count(True) : 2\n",
      "len(self.comms) : 2\n",
      "self.evaluation_deque: deque([0.7344551414880405, 0.8530645261109933, 0.5504875724544609, 0.8141716711533556, 0.8898622898018027, 0.4048554899514498, 0.6550669887070244, 0.7979071629667456, 0.6276366959481812, 0.8471434743808012, 0.5138192895124666, 0.7883338925073435, 0.731736316470555, 0.8559826805294161, 0.430124305611026, 0.4950770034916287, 0.5914815850561543, 0.742539669808915, 0.5755634477717286, 0.8074520728114524], maxlen=20)\n",
      "eval_mean: 0.6853380638266771\n"
     ]
    },
    {
     "name": "stderr",
     "output_type": "stream",
     "text": [
      "\r",
      "100%|████████████████████████████████████████████████████████████████████████▋| 99580/100000 [2:17:37<00:40, 10.45it/s]"
     ]
    },
    {
     "name": "stdout",
     "output_type": "stream",
     "text": [
      "self.evaluation_deque: deque([0.7344551414880405, 0.8530645261109933, 0.5504875724544609, 0.8141716711533556, 0.8898622898018027, 0.4048554899514498, 0.6550669887070244, 0.7979071629667456, 0.6276366959481812, 0.8471434743808012, 0.5138192895124666, 0.7883338925073435, 0.731736316470555, 0.8559826805294161, 0.430124305611026, 0.4950770034916287, 0.5914815850561543, 0.742539669808915, 0.5755634477717286, 0.8074520728114524], maxlen=20)\n",
      "eval_mean: 0.6853380638266771\n"
     ]
    },
    {
     "name": "stderr",
     "output_type": "stream",
     "text": [
      "\r",
      "100%|████████████████████████████████████████████████████████████████████████▋| 99656/100000 [2:17:43<00:30, 11.15it/s]"
     ]
    },
    {
     "name": "stdout",
     "output_type": "stream",
     "text": [
      "self.evaluation_deque: deque([0.7344551414880405, 0.8530645261109933, 0.5504875724544609, 0.8141716711533556, 0.8898622898018027, 0.4048554899514498, 0.6550669887070244, 0.7979071629667456, 0.6276366959481812, 0.8471434743808012, 0.5138192895124666, 0.7883338925073435, 0.731736316470555, 0.8559826805294161, 0.430124305611026, 0.4950770034916287, 0.5914815850561543, 0.742539669808915, 0.5755634477717286, 0.8074520728114524], maxlen=20)\n",
      "eval_mean: 0.6853380638266771\n"
     ]
    },
    {
     "name": "stderr",
     "output_type": "stream",
     "text": [
      "\r",
      "100%|████████████████████████████████████████████████████████████████████████▊| 99732/100000 [2:17:50<00:24, 11.15it/s]"
     ]
    },
    {
     "name": "stdout",
     "output_type": "stream",
     "text": [
      "self.evaluation_deque: deque([0.7344551414880405, 0.8530645261109933, 0.5504875724544609, 0.8141716711533556, 0.8898622898018027, 0.4048554899514498, 0.6550669887070244, 0.7979071629667456, 0.6276366959481812, 0.8471434743808012, 0.5138192895124666, 0.7883338925073435, 0.731736316470555, 0.8559826805294161, 0.430124305611026, 0.4950770034916287, 0.5914815850561543, 0.742539669808915, 0.5755634477717286, 0.8074520728114524], maxlen=20)\n",
      "eval_mean: 0.6853380638266771\n"
     ]
    },
    {
     "name": "stderr",
     "output_type": "stream",
     "text": [
      "\r",
      "100%|████████████████████████████████████████████████████████████████████████▊| 99808/100000 [2:17:56<00:16, 11.73it/s]"
     ]
    },
    {
     "name": "stdout",
     "output_type": "stream",
     "text": [
      "self.evaluation_deque: deque([0.7344551414880405, 0.8530645261109933, 0.5504875724544609, 0.8141716711533556, 0.8898622898018027, 0.4048554899514498, 0.6550669887070244, 0.7979071629667456, 0.6276366959481812, 0.8471434743808012, 0.5138192895124666, 0.7883338925073435, 0.731736316470555, 0.8559826805294161, 0.430124305611026, 0.4950770034916287, 0.5914815850561543, 0.742539669808915, 0.5755634477717286, 0.8074520728114524], maxlen=20)\n",
      "eval_mean: 0.6853380638266771\n"
     ]
    },
    {
     "name": "stderr",
     "output_type": "stream",
     "text": [
      "\r",
      "100%|████████████████████████████████████████████████████████████████████████▉| 99884/100000 [2:18:07<00:12,  9.63it/s]"
     ]
    },
    {
     "name": "stdout",
     "output_type": "stream",
     "text": [
      "self.get_collection_ratio(): 0.8414343354360235\n",
      "self.comms.count(True) : 3\n",
      "len(self.comms) : 3\n",
      "self.state.ratio_commed: 1.0\n",
      "self.comms.count(True) : 3\n",
      "len(self.comms) : 3\n",
      "self.evaluation_deque: deque([0.8530645261109933, 0.5504875724544609, 0.8141716711533556, 0.8898622898018027, 0.4048554899514498, 0.6550669887070244, 0.7979071629667456, 0.6276366959481812, 0.8471434743808012, 0.5138192895124666, 0.7883338925073435, 0.731736316470555, 0.8559826805294161, 0.430124305611026, 0.4950770034916287, 0.5914815850561543, 0.742539669808915, 0.5755634477717286, 0.8074520728114524, 0.8414343354360235], maxlen=20)\n",
      "eval_mean: 0.6906870235240762\n"
     ]
    },
    {
     "name": "stderr",
     "output_type": "stream",
     "text": [
      "\r",
      "100%|████████████████████████████████████████████████████████████████████████▉| 99960/100000 [2:18:13<00:03, 10.50it/s]"
     ]
    },
    {
     "name": "stdout",
     "output_type": "stream",
     "text": [
      "self.evaluation_deque: deque([0.8530645261109933, 0.5504875724544609, 0.8141716711533556, 0.8898622898018027, 0.4048554899514498, 0.6550669887070244, 0.7979071629667456, 0.6276366959481812, 0.8471434743808012, 0.5138192895124666, 0.7883338925073435, 0.731736316470555, 0.8559826805294161, 0.430124305611026, 0.4950770034916287, 0.5914815850561543, 0.742539669808915, 0.5755634477717286, 0.8074520728114524, 0.8414343354360235], maxlen=20)\n",
      "eval_mean: 0.6906870235240762\n",
      "self.evaluation_deque: deque([0.8530645261109933, 0.5504875724544609, 0.8141716711533556, 0.8898622898018027, 0.4048554899514498, 0.6550669887070244, 0.7979071629667456, 0.6276366959481812, 0.8471434743808012, 0.5138192895124666, 0.7883338925073435, 0.731736316470555, 0.8559826805294161, 0.430124305611026, 0.4950770034916287, 0.5914815850561543, 0.742539669808915, 0.5755634477717286, 0.8074520728114524, 0.8414343354360235], maxlen=20)\n",
      "eval_mean: 0.6906870235240762\n",
      "Model saved as models/grid_image_unfinished\n"
     ]
    },
    {
     "name": "stderr",
     "output_type": "stream",
     "text": [
      "\r",
      "100%|████████████████████████████████████████████████████████████████████████▉| 99960/100000 [2:18:32<00:03, 10.50it/s]"
     ]
    }
   ],
   "source": [
    "import argparse\n",
    "import os\n",
    "\n",
    "import import_ipynb\n",
    "from MainEnvironment_stage import EnvironmentParams, Environment\n",
    "\n",
    "from Utils_stage import *\n",
    "\n",
    "if __name__ == \"__main__\":\n",
    "\n",
    "    parser = argparse.ArgumentParser()\n",
    "    parser.add_argument('--gpu', action='store_true', help='Activates usage of GPU')\n",
    "    parser.add_argument('--generate_config', action='store_true', help='Enable to write default config only')\n",
    "    #parser.add_argument('--config', default=None, help='Path to config file')\n",
    "    parser.add_argument('--config', default='config/grid_image.json', help='Path to config file')\n",
    "    parser.add_argument('--id', default='grid_image', help='Overrides the logfile name and the save name')\n",
    "\n",
    "    #args = parser.parse_args()\n",
    "    args = parser.parse_args(args=[])\n",
    "\n",
    "    if args.generate_config:\n",
    "        generate_config(EnvironmentParams(), \"config/default.json\")\n",
    "        exit(0)\n",
    "\n",
    "    if args.config is None:\n",
    "        print(\"Config file needed!\")\n",
    "        exit(1)\n",
    "\n",
    "    if not args.gpu:\n",
    "        os.environ[\"CUDA_VISIBLE_DEVICES\"] = \"-1\"\n",
    "\n",
    "    params = read_config(args.config)\n",
    "\n",
    "    if args.id is not None:\n",
    "        params.model_stats_params.save_model = \"models/\" + args.id\n",
    "        params.model_stats_params.log_file_name = args.id\n",
    "\n",
    "    env = Environment(params)\n",
    "    ###\n",
    "    #env.agent.load_weights('C:/Users/ksshin/Documents/성민철/UAV/source_code/models/grid_image_unfinished')\n",
    "    #env.agent.load_weights('C:/Users/ksshin/Documents/성민철/UAV/source_code/temp/grid_image_best')    \n",
    "\n",
    "    env.run()"
   ]
  },
  {
   "cell_type": "code",
   "execution_count": null,
   "id": "5cdd7e27",
   "metadata": {},
   "outputs": [],
   "source": []
  },
  {
   "cell_type": "code",
   "execution_count": null,
   "id": "73911df4",
   "metadata": {},
   "outputs": [],
   "source": []
  }
 ],
 "metadata": {
  "kernelspec": {
   "display_name": "Python 3",
   "language": "python",
   "name": "python3"
  },
  "language_info": {
   "codemirror_mode": {
    "name": "ipython",
    "version": 3
   },
   "file_extension": ".py",
   "mimetype": "text/x-python",
   "name": "python",
   "nbconvert_exporter": "python",
   "pygments_lexer": "ipython3",
   "version": "3.8.8"
  }
 },
 "nbformat": 4,
 "nbformat_minor": 5
}
