{
 "cells": [
  {
   "cell_type": "code",
   "execution_count": 1,
   "id": "f3887f29",
   "metadata": {},
   "outputs": [
    {
     "name": "stdout",
     "output_type": "stream",
     "text": [
      "importing Jupyter notebook from GridActions_stage.ipynb\n"
     ]
    }
   ],
   "source": [
    "import import_ipynb\n",
    "from GridActions_stage import GridActions\n",
    "\n",
    "class GridRewardParams:\n",
    "    def __init__(self):\n",
    "        #self.boundary_penalty = 1.0\n",
    "        #self.empty_battery_penalty = 300.0\n",
    "        #self.movement_penalty = 0.2\n",
    "        #self.charging_advantage = 0.05\n",
    "        self.boundary_penalty = 1.0\n",
    "        self.empty_battery_penalty = 150.0\n",
    "        self.movement_penalty = 0.1\n",
    "        self.charging_advantage = 0.05        \n",
    "\n",
    "\n",
    "class GridRewards:\n",
    "    def __init__(self, stats):\n",
    "        self.params = GridRewardParams()\n",
    "        self.cumulative_reward: float = 0.0\n",
    "\n",
    "        #ModelStats 분석 후에 다시 하는 걸로\n",
    "        stats.add_log_data_callback('cumulative_reward', self.get_cumulative_reward)\n",
    "        \n",
    "#       def add_log_data_callback(self, name: str, callback: callable):\n",
    "#           self.log_value_callbacks.append((name, callback))\n",
    "#       self.log_value_callbacks = []\n",
    "\n",
    "    def get_cumulative_reward(self):\n",
    "        return self.cumulative_reward\n",
    "\n",
    "    def calculate_motion_rewards(self, state, action: GridActions, next_state):\n",
    "        reward = 0.0\n",
    "        if not next_state.commed: #next_state가 착륙이 아니라면 class state의 landed 함수는 착륙시 True 리턴, @property\n",
    "            # Penalize battery Consumption\n",
    "            reward -= self.params.movement_penalty\n",
    "\n",
    "        # Penalize not moving \n",
    "        #(This happens when it either 1. tries to land or 2. fly into a boundary or 3. hovers or 4. fly into\n",
    "        # a cell occupied by another agent)\n",
    "        #hovering while comm.\n",
    "        if state.position == next_state.position and not next_state.commed and not action == GridActions.HOVER:\n",
    "            reward -= self.params.boundary_penalty\n",
    "            #print('self.params.boundary_penalty = ', self.params.boundary_penalty)\n",
    "\n",
    "        # Penalize battery dead\n",
    "        if next_state.movement_budget == 0 and not next_state.commed:\n",
    "            reward -= self.params.empty_battery_penalty\n",
    "            #print('self.params.empty_battery_penalty =', self.params.empty_battery_penalty)\n",
    "\n",
    "            \n",
    "        # land에 energy level 50이하일때 land_zone 도착시 charging reward 부여(공중 충전 개념 a.k.a energy harvesting)    \n",
    "        if next_state.is_in_land_zone and not next_state.movement_budget == 0 and next_state.movement_budget < 50 and action == GridActions.HOVER:\n",
    "            reward += self.params.charging_advantage\n",
    "            #print('self.params.charging_advantage =', self.params.charging_advantage)\n",
    "            #print(\"charging reward\")\n",
    "            \n",
    "        return reward\n",
    "\n",
    "    def reset(self):\n",
    "        self.cumulative_reward = 0"
   ]
  }
 ],
 "metadata": {
  "kernelspec": {
   "display_name": "Python 3",
   "language": "python",
   "name": "python3"
  },
  "language_info": {
   "codemirror_mode": {
    "name": "ipython",
    "version": 3
   },
   "file_extension": ".py",
   "mimetype": "text/x-python",
   "name": "python",
   "nbconvert_exporter": "python",
   "pygments_lexer": "ipython3",
   "version": "3.8.8"
  }
 },
 "nbformat": 4,
 "nbformat_minor": 5
}
