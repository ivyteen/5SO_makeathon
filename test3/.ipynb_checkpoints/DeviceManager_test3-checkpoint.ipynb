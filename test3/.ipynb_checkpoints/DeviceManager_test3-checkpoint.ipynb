{
 "cells": [
  {
   "cell_type": "code",
   "execution_count": 52,
   "id": "ae79af5f",
   "metadata": {},
   "outputs": [],
   "source": [
    "import os\n",
    "\n",
    "import numpy as np\n",
    "import import_ipynb\n",
    "from IoTDevice_test3 import IoTDeviceParams, DeviceList\n",
    "\n",
    "ColorMap = [\"orange\"]\n",
    "#, \"wheat\", \"pink\", \"crimson\", \"hotpink\", \"green\", \"lime\", \"blue\", \"navy\", \"tomato\",\n",
    "#            \"purple\", \"violet\",  \"brown\", \"lightcoral\", \"silver\", \"olive\", \"gold\", \"cyan\", \"steelblue\", \"royalblue\"]\n",
    "\n",
    "class DeviceManagerParams:\n",
    "    def __init__(self):\n",
    "        self.data_range = (5.0, 5.0)\n",
    "        self.fixed_tours = False\n",
    "        self.devices = IoTDeviceParams()\n",
    "\n",
    "\n",
    "class DeviceManager:\n",
    "    \"\"\"\n",
    "    The DeviceManager is used to generate DeviceLists according to DeviceManagerParams\n",
    "    \"\"\"\n",
    "\n",
    "    def __init__(self, params: DeviceManagerParams):\n",
    "        self.params = params\n",
    "\n",
    "    def generate_device_list(self, positions_vector, num_device):\n",
    "        if self.params.fixed_tours:\n",
    "            return DeviceList(self.params.devices)\n",
    "\n",
    "        positions = positions_vector # 25 x 1 인데 튜플의 형태\n",
    "\n",
    "        # Roll Data : 25 x 1\n",
    "        datas = np.random.uniform(self.params.data_range[0], self.params.data_range[1], num_device)\n",
    "        \n",
    "        \n",
    "        return self.generate_device_list_from_args(num_device, positions, datas)\n",
    "\n",
    "    def generate_device_list_from_args(self, num_device, positions, datas):\n",
    "\n",
    "       # print('num_device', num_device)\n",
    "       # print('positions', positions)\n",
    "       # print('datas', datas)\n",
    "        colors = ColorMap[0]\n",
    "\n",
    "        params = [IoTDeviceParams(position=positions[k],\n",
    "                                  data=datas[k],\n",
    "                                  #color=colors[k % len(ColorMap)])\n",
    "                                  color=colors)\n",
    "                                  #color=colors)\n",
    "                  for k in range(num_device[0])]\n",
    "                 \n",
    "        return DeviceList(params)"
   ]
  }
 ],
 "metadata": {
  "kernelspec": {
   "display_name": "Python 3",
   "language": "python",
   "name": "python3"
  },
  "language_info": {
   "codemirror_mode": {
    "name": "ipython",
    "version": 3
   },
   "file_extension": ".py",
   "mimetype": "text/x-python",
   "name": "python",
   "nbconvert_exporter": "python",
   "pygments_lexer": "ipython3",
   "version": "3.8.8"
  }
 },
 "nbformat": 4,
 "nbformat_minor": 5
}
