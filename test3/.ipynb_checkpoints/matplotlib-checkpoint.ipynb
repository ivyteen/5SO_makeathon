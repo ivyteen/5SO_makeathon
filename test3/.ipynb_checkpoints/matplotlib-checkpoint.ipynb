{
 "cells": [
  {
   "cell_type": "markdown",
   "id": "61f571f3",
   "metadata": {},
   "source": [
    "# tensorboard dev을 통해 data 받아오기, data 정리"
   ]
  },
  {
   "cell_type": "code",
   "execution_count": 1,
   "id": "17908cf1",
   "metadata": {},
   "outputs": [],
   "source": [
    "from packaging import version\n",
    "\n",
    "import numpy as np\n",
    "import pandas as pd\n",
    "from matplotlib import pyplot as plt\n",
    "import seaborn as sns\n",
    "from scipy import stats\n",
    "import tensorboard as tb"
   ]
  },
  {
   "cell_type": "code",
   "execution_count": 2,
   "id": "aa5d6971",
   "metadata": {},
   "outputs": [
    {
     "name": "stdout",
     "output_type": "stream",
     "text": [
      "TensorBoard version:  2.6.0a20210609\n"
     ]
    }
   ],
   "source": [
    "major_ver, minor_ver, _ = version.parse(tb.__version__).release\n",
    "assert major_ver >= 2 and minor_ver >= 3, \\\n",
    "    \"This notebook requires TensorBoard 2.3 or later.\"\n",
    "print(\"TensorBoard version: \", tb.__version__)"
   ]
  },
  {
   "cell_type": "code",
   "execution_count": 3,
   "id": "04113592",
   "metadata": {
    "scrolled": true
   },
   "outputs": [
    {
     "data": {
      "text/html": [
       "<div>\n",
       "<style scoped>\n",
       "    .dataframe tbody tr th:only-of-type {\n",
       "        vertical-align: middle;\n",
       "    }\n",
       "\n",
       "    .dataframe tbody tr th {\n",
       "        vertical-align: top;\n",
       "    }\n",
       "\n",
       "    .dataframe thead th {\n",
       "        text-align: right;\n",
       "    }\n",
       "</style>\n",
       "<table border=\"1\" class=\"dataframe\">\n",
       "  <thead>\n",
       "    <tr style=\"text-align: right;\">\n",
       "      <th></th>\n",
       "      <th>run</th>\n",
       "      <th>tag</th>\n",
       "      <th>step</th>\n",
       "      <th>value</th>\n",
       "    </tr>\n",
       "  </thead>\n",
       "  <tbody>\n",
       "    <tr>\n",
       "      <th>0</th>\n",
       "      <td>not_transfer</td>\n",
       "      <td>boundary_counter</td>\n",
       "      <td>14926</td>\n",
       "      <td>0.0</td>\n",
       "    </tr>\n",
       "    <tr>\n",
       "      <th>1</th>\n",
       "      <td>not_transfer</td>\n",
       "      <td>boundary_counter</td>\n",
       "      <td>15312</td>\n",
       "      <td>40.0</td>\n",
       "    </tr>\n",
       "    <tr>\n",
       "      <th>2</th>\n",
       "      <td>not_transfer</td>\n",
       "      <td>boundary_counter</td>\n",
       "      <td>15696</td>\n",
       "      <td>30.0</td>\n",
       "    </tr>\n",
       "    <tr>\n",
       "      <th>3</th>\n",
       "      <td>not_transfer</td>\n",
       "      <td>boundary_counter</td>\n",
       "      <td>16085</td>\n",
       "      <td>95.0</td>\n",
       "    </tr>\n",
       "    <tr>\n",
       "      <th>4</th>\n",
       "      <td>not_transfer</td>\n",
       "      <td>boundary_counter</td>\n",
       "      <td>16480</td>\n",
       "      <td>21.0</td>\n",
       "    </tr>\n",
       "    <tr>\n",
       "      <th>...</th>\n",
       "      <td>...</td>\n",
       "      <td>...</td>\n",
       "      <td>...</td>\n",
       "      <td>...</td>\n",
       "    </tr>\n",
       "    <tr>\n",
       "      <th>27981</th>\n",
       "      <td>transfer</td>\n",
       "      <td>successful_communicating</td>\n",
       "      <td>997792</td>\n",
       "      <td>1.0</td>\n",
       "    </tr>\n",
       "    <tr>\n",
       "      <th>27982</th>\n",
       "      <td>transfer</td>\n",
       "      <td>successful_communicating</td>\n",
       "      <td>998297</td>\n",
       "      <td>1.0</td>\n",
       "    </tr>\n",
       "    <tr>\n",
       "      <th>27983</th>\n",
       "      <td>transfer</td>\n",
       "      <td>successful_communicating</td>\n",
       "      <td>998802</td>\n",
       "      <td>1.0</td>\n",
       "    </tr>\n",
       "    <tr>\n",
       "      <th>27984</th>\n",
       "      <td>transfer</td>\n",
       "      <td>successful_communicating</td>\n",
       "      <td>999285</td>\n",
       "      <td>1.0</td>\n",
       "    </tr>\n",
       "    <tr>\n",
       "      <th>27985</th>\n",
       "      <td>transfer</td>\n",
       "      <td>successful_communicating</td>\n",
       "      <td>999762</td>\n",
       "      <td>1.0</td>\n",
       "    </tr>\n",
       "  </tbody>\n",
       "</table>\n",
       "<p>27986 rows × 4 columns</p>\n",
       "</div>"
      ],
      "text/plain": [
       "                run                       tag    step  value\n",
       "0      not_transfer          boundary_counter   14926    0.0\n",
       "1      not_transfer          boundary_counter   15312   40.0\n",
       "2      not_transfer          boundary_counter   15696   30.0\n",
       "3      not_transfer          boundary_counter   16085   95.0\n",
       "4      not_transfer          boundary_counter   16480   21.0\n",
       "...             ...                       ...     ...    ...\n",
       "27981      transfer  successful_communicating  997792    1.0\n",
       "27982      transfer  successful_communicating  998297    1.0\n",
       "27983      transfer  successful_communicating  998802    1.0\n",
       "27984      transfer  successful_communicating  999285    1.0\n",
       "27985      transfer  successful_communicating  999762    1.0\n",
       "\n",
       "[27986 rows x 4 columns]"
      ]
     },
     "execution_count": 3,
     "metadata": {},
     "output_type": "execute_result"
    }
   ],
   "source": [
    "experiment_id = \"OWebLHKPSgadDc5XVT1AUA\"\n",
    "experiment = tb.data.experimental.ExperimentFromDev(experiment_id)\n",
    "df = experiment.get_scalars()\n",
    "df"
   ]
  },
  {
   "cell_type": "code",
   "execution_count": 4,
   "id": "fd61196c",
   "metadata": {
    "scrolled": true
   },
   "outputs": [
    {
     "data": {
      "text/html": [
       "<div>\n",
       "<style scoped>\n",
       "    .dataframe tbody tr th:only-of-type {\n",
       "        vertical-align: middle;\n",
       "    }\n",
       "\n",
       "    .dataframe tbody tr th {\n",
       "        vertical-align: top;\n",
       "    }\n",
       "\n",
       "    .dataframe thead th {\n",
       "        text-align: right;\n",
       "    }\n",
       "</style>\n",
       "<table border=\"1\" class=\"dataframe\">\n",
       "  <thead>\n",
       "    <tr style=\"text-align: right;\">\n",
       "      <th></th>\n",
       "      <th>run</th>\n",
       "      <th>tag</th>\n",
       "      <th>step</th>\n",
       "      <th>value</th>\n",
       "    </tr>\n",
       "  </thead>\n",
       "  <tbody>\n",
       "    <tr>\n",
       "      <th>7924</th>\n",
       "      <td>not_transfer</td>\n",
       "      <td>cumulative_reward</td>\n",
       "      <td>14926</td>\n",
       "      <td>-1083.011230</td>\n",
       "    </tr>\n",
       "    <tr>\n",
       "      <th>7925</th>\n",
       "      <td>not_transfer</td>\n",
       "      <td>cumulative_reward</td>\n",
       "      <td>15312</td>\n",
       "      <td>-430.214813</td>\n",
       "    </tr>\n",
       "    <tr>\n",
       "      <th>7926</th>\n",
       "      <td>not_transfer</td>\n",
       "      <td>cumulative_reward</td>\n",
       "      <td>15696</td>\n",
       "      <td>-188.182693</td>\n",
       "    </tr>\n",
       "    <tr>\n",
       "      <th>7927</th>\n",
       "      <td>not_transfer</td>\n",
       "      <td>cumulative_reward</td>\n",
       "      <td>16085</td>\n",
       "      <td>-919.310852</td>\n",
       "    </tr>\n",
       "    <tr>\n",
       "      <th>7928</th>\n",
       "      <td>not_transfer</td>\n",
       "      <td>cumulative_reward</td>\n",
       "      <td>16480</td>\n",
       "      <td>-175.509232</td>\n",
       "    </tr>\n",
       "    <tr>\n",
       "      <th>...</th>\n",
       "      <td>...</td>\n",
       "      <td>...</td>\n",
       "      <td>...</td>\n",
       "      <td>...</td>\n",
       "    </tr>\n",
       "    <tr>\n",
       "      <th>23947</th>\n",
       "      <td>transfer</td>\n",
       "      <td>cumulative_reward</td>\n",
       "      <td>997792</td>\n",
       "      <td>-51.397457</td>\n",
       "    </tr>\n",
       "    <tr>\n",
       "      <th>23948</th>\n",
       "      <td>transfer</td>\n",
       "      <td>cumulative_reward</td>\n",
       "      <td>998297</td>\n",
       "      <td>215.640091</td>\n",
       "    </tr>\n",
       "    <tr>\n",
       "      <th>23949</th>\n",
       "      <td>transfer</td>\n",
       "      <td>cumulative_reward</td>\n",
       "      <td>998802</td>\n",
       "      <td>226.039841</td>\n",
       "    </tr>\n",
       "    <tr>\n",
       "      <th>23950</th>\n",
       "      <td>transfer</td>\n",
       "      <td>cumulative_reward</td>\n",
       "      <td>999285</td>\n",
       "      <td>340.260345</td>\n",
       "    </tr>\n",
       "    <tr>\n",
       "      <th>23951</th>\n",
       "      <td>transfer</td>\n",
       "      <td>cumulative_reward</td>\n",
       "      <td>999762</td>\n",
       "      <td>277.697235</td>\n",
       "    </tr>\n",
       "  </tbody>\n",
       "</table>\n",
       "<p>3998 rows × 4 columns</p>\n",
       "</div>"
      ],
      "text/plain": [
       "                run                tag    step        value\n",
       "7924   not_transfer  cumulative_reward   14926 -1083.011230\n",
       "7925   not_transfer  cumulative_reward   15312  -430.214813\n",
       "7926   not_transfer  cumulative_reward   15696  -188.182693\n",
       "7927   not_transfer  cumulative_reward   16085  -919.310852\n",
       "7928   not_transfer  cumulative_reward   16480  -175.509232\n",
       "...             ...                ...     ...          ...\n",
       "23947      transfer  cumulative_reward  997792   -51.397457\n",
       "23948      transfer  cumulative_reward  998297   215.640091\n",
       "23949      transfer  cumulative_reward  998802   226.039841\n",
       "23950      transfer  cumulative_reward  999285   340.260345\n",
       "23951      transfer  cumulative_reward  999762   277.697235\n",
       "\n",
       "[3998 rows x 4 columns]"
      ]
     },
     "execution_count": 4,
     "metadata": {},
     "output_type": "execute_result"
    }
   ],
   "source": [
    "is_cumulative = df[\"tag\"] == 'cumulative_reward'\n",
    "cumulative = df[is_cumulative]\n",
    "cumulative"
   ]
  },
  {
   "cell_type": "code",
   "execution_count": 5,
   "id": "cca07665",
   "metadata": {},
   "outputs": [
    {
     "data": {
      "text/html": [
       "<div>\n",
       "<style scoped>\n",
       "    .dataframe tbody tr th:only-of-type {\n",
       "        vertical-align: middle;\n",
       "    }\n",
       "\n",
       "    .dataframe tbody tr th {\n",
       "        vertical-align: top;\n",
       "    }\n",
       "\n",
       "    .dataframe thead th {\n",
       "        text-align: right;\n",
       "    }\n",
       "</style>\n",
       "<table border=\"1\" class=\"dataframe\">\n",
       "  <thead>\n",
       "    <tr style=\"text-align: right;\">\n",
       "      <th></th>\n",
       "      <th>run</th>\n",
       "      <th>tag</th>\n",
       "      <th>value</th>\n",
       "    </tr>\n",
       "  </thead>\n",
       "  <tbody>\n",
       "    <tr>\n",
       "      <th>7924</th>\n",
       "      <td>not_transfer</td>\n",
       "      <td>cumulative_reward</td>\n",
       "      <td>-1083.011230</td>\n",
       "    </tr>\n",
       "    <tr>\n",
       "      <th>7925</th>\n",
       "      <td>not_transfer</td>\n",
       "      <td>cumulative_reward</td>\n",
       "      <td>-430.214813</td>\n",
       "    </tr>\n",
       "    <tr>\n",
       "      <th>7926</th>\n",
       "      <td>not_transfer</td>\n",
       "      <td>cumulative_reward</td>\n",
       "      <td>-188.182693</td>\n",
       "    </tr>\n",
       "    <tr>\n",
       "      <th>7927</th>\n",
       "      <td>not_transfer</td>\n",
       "      <td>cumulative_reward</td>\n",
       "      <td>-919.310852</td>\n",
       "    </tr>\n",
       "    <tr>\n",
       "      <th>7928</th>\n",
       "      <td>not_transfer</td>\n",
       "      <td>cumulative_reward</td>\n",
       "      <td>-175.509232</td>\n",
       "    </tr>\n",
       "    <tr>\n",
       "      <th>...</th>\n",
       "      <td>...</td>\n",
       "      <td>...</td>\n",
       "      <td>...</td>\n",
       "    </tr>\n",
       "    <tr>\n",
       "      <th>23947</th>\n",
       "      <td>transfer</td>\n",
       "      <td>cumulative_reward</td>\n",
       "      <td>-51.397457</td>\n",
       "    </tr>\n",
       "    <tr>\n",
       "      <th>23948</th>\n",
       "      <td>transfer</td>\n",
       "      <td>cumulative_reward</td>\n",
       "      <td>215.640091</td>\n",
       "    </tr>\n",
       "    <tr>\n",
       "      <th>23949</th>\n",
       "      <td>transfer</td>\n",
       "      <td>cumulative_reward</td>\n",
       "      <td>226.039841</td>\n",
       "    </tr>\n",
       "    <tr>\n",
       "      <th>23950</th>\n",
       "      <td>transfer</td>\n",
       "      <td>cumulative_reward</td>\n",
       "      <td>340.260345</td>\n",
       "    </tr>\n",
       "    <tr>\n",
       "      <th>23951</th>\n",
       "      <td>transfer</td>\n",
       "      <td>cumulative_reward</td>\n",
       "      <td>277.697235</td>\n",
       "    </tr>\n",
       "  </tbody>\n",
       "</table>\n",
       "<p>3998 rows × 3 columns</p>\n",
       "</div>"
      ],
      "text/plain": [
       "                run                tag        value\n",
       "7924   not_transfer  cumulative_reward -1083.011230\n",
       "7925   not_transfer  cumulative_reward  -430.214813\n",
       "7926   not_transfer  cumulative_reward  -188.182693\n",
       "7927   not_transfer  cumulative_reward  -919.310852\n",
       "7928   not_transfer  cumulative_reward  -175.509232\n",
       "...             ...                ...          ...\n",
       "23947      transfer  cumulative_reward   -51.397457\n",
       "23948      transfer  cumulative_reward   215.640091\n",
       "23949      transfer  cumulative_reward   226.039841\n",
       "23950      transfer  cumulative_reward   340.260345\n",
       "23951      transfer  cumulative_reward   277.697235\n",
       "\n",
       "[3998 rows x 3 columns]"
      ]
     },
     "execution_count": 5,
     "metadata": {},
     "output_type": "execute_result"
    }
   ],
   "source": [
    "df1 = cumulative.drop([\"step\"], axis = 1)\n",
    "df1"
   ]
  },
  {
   "cell_type": "code",
   "execution_count": 6,
   "id": "241fd45d",
   "metadata": {},
   "outputs": [
    {
     "data": {
      "text/html": [
       "<div>\n",
       "<style scoped>\n",
       "    .dataframe tbody tr th:only-of-type {\n",
       "        vertical-align: middle;\n",
       "    }\n",
       "\n",
       "    .dataframe tbody tr th {\n",
       "        vertical-align: top;\n",
       "    }\n",
       "\n",
       "    .dataframe thead th {\n",
       "        text-align: right;\n",
       "    }\n",
       "</style>\n",
       "<table border=\"1\" class=\"dataframe\">\n",
       "  <thead>\n",
       "    <tr style=\"text-align: right;\">\n",
       "      <th></th>\n",
       "      <th>run</th>\n",
       "      <th>tag</th>\n",
       "      <th>value</th>\n",
       "    </tr>\n",
       "  </thead>\n",
       "  <tbody>\n",
       "    <tr>\n",
       "      <th>7924</th>\n",
       "      <td>not_transfer</td>\n",
       "      <td>cumulative_reward</td>\n",
       "      <td>-1083.011230</td>\n",
       "    </tr>\n",
       "    <tr>\n",
       "      <th>7925</th>\n",
       "      <td>not_transfer</td>\n",
       "      <td>cumulative_reward</td>\n",
       "      <td>-430.214813</td>\n",
       "    </tr>\n",
       "    <tr>\n",
       "      <th>7926</th>\n",
       "      <td>not_transfer</td>\n",
       "      <td>cumulative_reward</td>\n",
       "      <td>-188.182693</td>\n",
       "    </tr>\n",
       "    <tr>\n",
       "      <th>7927</th>\n",
       "      <td>not_transfer</td>\n",
       "      <td>cumulative_reward</td>\n",
       "      <td>-919.310852</td>\n",
       "    </tr>\n",
       "    <tr>\n",
       "      <th>7928</th>\n",
       "      <td>not_transfer</td>\n",
       "      <td>cumulative_reward</td>\n",
       "      <td>-175.509232</td>\n",
       "    </tr>\n",
       "    <tr>\n",
       "      <th>...</th>\n",
       "      <td>...</td>\n",
       "      <td>...</td>\n",
       "      <td>...</td>\n",
       "    </tr>\n",
       "    <tr>\n",
       "      <th>9900</th>\n",
       "      <td>not_transfer</td>\n",
       "      <td>cumulative_reward</td>\n",
       "      <td>278.500305</td>\n",
       "    </tr>\n",
       "    <tr>\n",
       "      <th>9901</th>\n",
       "      <td>not_transfer</td>\n",
       "      <td>cumulative_reward</td>\n",
       "      <td>-274.437256</td>\n",
       "    </tr>\n",
       "    <tr>\n",
       "      <th>9902</th>\n",
       "      <td>not_transfer</td>\n",
       "      <td>cumulative_reward</td>\n",
       "      <td>206.381927</td>\n",
       "    </tr>\n",
       "    <tr>\n",
       "      <th>9903</th>\n",
       "      <td>not_transfer</td>\n",
       "      <td>cumulative_reward</td>\n",
       "      <td>268.167511</td>\n",
       "    </tr>\n",
       "    <tr>\n",
       "      <th>9904</th>\n",
       "      <td>not_transfer</td>\n",
       "      <td>cumulative_reward</td>\n",
       "      <td>236.401077</td>\n",
       "    </tr>\n",
       "  </tbody>\n",
       "</table>\n",
       "<p>1981 rows × 3 columns</p>\n",
       "</div>"
      ],
      "text/plain": [
       "               run                tag        value\n",
       "7924  not_transfer  cumulative_reward -1083.011230\n",
       "7925  not_transfer  cumulative_reward  -430.214813\n",
       "7926  not_transfer  cumulative_reward  -188.182693\n",
       "7927  not_transfer  cumulative_reward  -919.310852\n",
       "7928  not_transfer  cumulative_reward  -175.509232\n",
       "...            ...                ...          ...\n",
       "9900  not_transfer  cumulative_reward   278.500305\n",
       "9901  not_transfer  cumulative_reward  -274.437256\n",
       "9902  not_transfer  cumulative_reward   206.381927\n",
       "9903  not_transfer  cumulative_reward   268.167511\n",
       "9904  not_transfer  cumulative_reward   236.401077\n",
       "\n",
       "[1981 rows x 3 columns]"
      ]
     },
     "execution_count": 6,
     "metadata": {},
     "output_type": "execute_result"
    }
   ],
   "source": [
    "idx_num = df1[df1['run'] == 'transfer'].index\n",
    "df2 = df1.drop(idx_num)\n",
    "df2"
   ]
  },
  {
   "cell_type": "code",
   "execution_count": 7,
   "id": "76c696b8",
   "metadata": {},
   "outputs": [
    {
     "data": {
      "text/html": [
       "<div>\n",
       "<style scoped>\n",
       "    .dataframe tbody tr th:only-of-type {\n",
       "        vertical-align: middle;\n",
       "    }\n",
       "\n",
       "    .dataframe tbody tr th {\n",
       "        vertical-align: top;\n",
       "    }\n",
       "\n",
       "    .dataframe thead th {\n",
       "        text-align: right;\n",
       "    }\n",
       "</style>\n",
       "<table border=\"1\" class=\"dataframe\">\n",
       "  <thead>\n",
       "    <tr style=\"text-align: right;\">\n",
       "      <th></th>\n",
       "      <th>run</th>\n",
       "      <th>tag</th>\n",
       "      <th>value</th>\n",
       "    </tr>\n",
       "  </thead>\n",
       "  <tbody>\n",
       "    <tr>\n",
       "      <th>21935</th>\n",
       "      <td>transfer</td>\n",
       "      <td>cumulative_reward</td>\n",
       "      <td>-103.439461</td>\n",
       "    </tr>\n",
       "    <tr>\n",
       "      <th>21936</th>\n",
       "      <td>transfer</td>\n",
       "      <td>cumulative_reward</td>\n",
       "      <td>-90.513008</td>\n",
       "    </tr>\n",
       "    <tr>\n",
       "      <th>21937</th>\n",
       "      <td>transfer</td>\n",
       "      <td>cumulative_reward</td>\n",
       "      <td>-692.265137</td>\n",
       "    </tr>\n",
       "    <tr>\n",
       "      <th>21938</th>\n",
       "      <td>transfer</td>\n",
       "      <td>cumulative_reward</td>\n",
       "      <td>-548.453003</td>\n",
       "    </tr>\n",
       "    <tr>\n",
       "      <th>21939</th>\n",
       "      <td>transfer</td>\n",
       "      <td>cumulative_reward</td>\n",
       "      <td>-731.549133</td>\n",
       "    </tr>\n",
       "    <tr>\n",
       "      <th>...</th>\n",
       "      <td>...</td>\n",
       "      <td>...</td>\n",
       "      <td>...</td>\n",
       "    </tr>\n",
       "    <tr>\n",
       "      <th>23947</th>\n",
       "      <td>transfer</td>\n",
       "      <td>cumulative_reward</td>\n",
       "      <td>-51.397457</td>\n",
       "    </tr>\n",
       "    <tr>\n",
       "      <th>23948</th>\n",
       "      <td>transfer</td>\n",
       "      <td>cumulative_reward</td>\n",
       "      <td>215.640091</td>\n",
       "    </tr>\n",
       "    <tr>\n",
       "      <th>23949</th>\n",
       "      <td>transfer</td>\n",
       "      <td>cumulative_reward</td>\n",
       "      <td>226.039841</td>\n",
       "    </tr>\n",
       "    <tr>\n",
       "      <th>23950</th>\n",
       "      <td>transfer</td>\n",
       "      <td>cumulative_reward</td>\n",
       "      <td>340.260345</td>\n",
       "    </tr>\n",
       "    <tr>\n",
       "      <th>23951</th>\n",
       "      <td>transfer</td>\n",
       "      <td>cumulative_reward</td>\n",
       "      <td>277.697235</td>\n",
       "    </tr>\n",
       "  </tbody>\n",
       "</table>\n",
       "<p>2017 rows × 3 columns</p>\n",
       "</div>"
      ],
      "text/plain": [
       "            run                tag       value\n",
       "21935  transfer  cumulative_reward -103.439461\n",
       "21936  transfer  cumulative_reward  -90.513008\n",
       "21937  transfer  cumulative_reward -692.265137\n",
       "21938  transfer  cumulative_reward -548.453003\n",
       "21939  transfer  cumulative_reward -731.549133\n",
       "...         ...                ...         ...\n",
       "23947  transfer  cumulative_reward  -51.397457\n",
       "23948  transfer  cumulative_reward  215.640091\n",
       "23949  transfer  cumulative_reward  226.039841\n",
       "23950  transfer  cumulative_reward  340.260345\n",
       "23951  transfer  cumulative_reward  277.697235\n",
       "\n",
       "[2017 rows x 3 columns]"
      ]
     },
     "execution_count": 7,
     "metadata": {},
     "output_type": "execute_result"
    }
   ],
   "source": [
    "idx_num_2 = df1[df1['run'] == 'not_transfer'].index\n",
    "df3 = df1.drop(idx_num_2)\n",
    "df3"
   ]
  },
  {
   "cell_type": "code",
   "execution_count": 8,
   "id": "a4bb1637",
   "metadata": {},
   "outputs": [
    {
     "data": {
      "text/html": [
       "<div>\n",
       "<style scoped>\n",
       "    .dataframe tbody tr th:only-of-type {\n",
       "        vertical-align: middle;\n",
       "    }\n",
       "\n",
       "    .dataframe tbody tr th {\n",
       "        vertical-align: top;\n",
       "    }\n",
       "\n",
       "    .dataframe thead th {\n",
       "        text-align: right;\n",
       "    }\n",
       "</style>\n",
       "<table border=\"1\" class=\"dataframe\">\n",
       "  <thead>\n",
       "    <tr style=\"text-align: right;\">\n",
       "      <th></th>\n",
       "      <th>run</th>\n",
       "      <th>tag</th>\n",
       "      <th>value</th>\n",
       "      <th>step</th>\n",
       "    </tr>\n",
       "  </thead>\n",
       "  <tbody>\n",
       "    <tr>\n",
       "      <th>7924</th>\n",
       "      <td>not_transfer</td>\n",
       "      <td>cumulative_reward</td>\n",
       "      <td>-1083.011230</td>\n",
       "      <td>0</td>\n",
       "    </tr>\n",
       "    <tr>\n",
       "      <th>7925</th>\n",
       "      <td>not_transfer</td>\n",
       "      <td>cumulative_reward</td>\n",
       "      <td>-430.214813</td>\n",
       "      <td>0</td>\n",
       "    </tr>\n",
       "    <tr>\n",
       "      <th>7926</th>\n",
       "      <td>not_transfer</td>\n",
       "      <td>cumulative_reward</td>\n",
       "      <td>-188.182693</td>\n",
       "      <td>0</td>\n",
       "    </tr>\n",
       "    <tr>\n",
       "      <th>7927</th>\n",
       "      <td>not_transfer</td>\n",
       "      <td>cumulative_reward</td>\n",
       "      <td>-919.310852</td>\n",
       "      <td>0</td>\n",
       "    </tr>\n",
       "    <tr>\n",
       "      <th>7928</th>\n",
       "      <td>not_transfer</td>\n",
       "      <td>cumulative_reward</td>\n",
       "      <td>-175.509232</td>\n",
       "      <td>0</td>\n",
       "    </tr>\n",
       "    <tr>\n",
       "      <th>...</th>\n",
       "      <td>...</td>\n",
       "      <td>...</td>\n",
       "      <td>...</td>\n",
       "      <td>...</td>\n",
       "    </tr>\n",
       "    <tr>\n",
       "      <th>9900</th>\n",
       "      <td>not_transfer</td>\n",
       "      <td>cumulative_reward</td>\n",
       "      <td>278.500305</td>\n",
       "      <td>0</td>\n",
       "    </tr>\n",
       "    <tr>\n",
       "      <th>9901</th>\n",
       "      <td>not_transfer</td>\n",
       "      <td>cumulative_reward</td>\n",
       "      <td>-274.437256</td>\n",
       "      <td>0</td>\n",
       "    </tr>\n",
       "    <tr>\n",
       "      <th>9902</th>\n",
       "      <td>not_transfer</td>\n",
       "      <td>cumulative_reward</td>\n",
       "      <td>206.381927</td>\n",
       "      <td>0</td>\n",
       "    </tr>\n",
       "    <tr>\n",
       "      <th>9903</th>\n",
       "      <td>not_transfer</td>\n",
       "      <td>cumulative_reward</td>\n",
       "      <td>268.167511</td>\n",
       "      <td>0</td>\n",
       "    </tr>\n",
       "    <tr>\n",
       "      <th>9904</th>\n",
       "      <td>not_transfer</td>\n",
       "      <td>cumulative_reward</td>\n",
       "      <td>236.401077</td>\n",
       "      <td>0</td>\n",
       "    </tr>\n",
       "  </tbody>\n",
       "</table>\n",
       "<p>1981 rows × 4 columns</p>\n",
       "</div>"
      ],
      "text/plain": [
       "               run                tag        value  step\n",
       "7924  not_transfer  cumulative_reward -1083.011230     0\n",
       "7925  not_transfer  cumulative_reward  -430.214813     0\n",
       "7926  not_transfer  cumulative_reward  -188.182693     0\n",
       "7927  not_transfer  cumulative_reward  -919.310852     0\n",
       "7928  not_transfer  cumulative_reward  -175.509232     0\n",
       "...            ...                ...          ...   ...\n",
       "9900  not_transfer  cumulative_reward   278.500305     0\n",
       "9901  not_transfer  cumulative_reward  -274.437256     0\n",
       "9902  not_transfer  cumulative_reward   206.381927     0\n",
       "9903  not_transfer  cumulative_reward   268.167511     0\n",
       "9904  not_transfer  cumulative_reward   236.401077     0\n",
       "\n",
       "[1981 rows x 4 columns]"
      ]
     },
     "execution_count": 8,
     "metadata": {},
     "output_type": "execute_result"
    }
   ],
   "source": [
    "df2['step'] = 0\n",
    "df2"
   ]
  },
  {
   "cell_type": "code",
   "execution_count": 9,
   "id": "f8472e39",
   "metadata": {
    "scrolled": true
   },
   "outputs": [
    {
     "name": "stderr",
     "output_type": "stream",
     "text": [
      "<ipython-input-9-1af6f67f6ad0>:2: SettingWithCopyWarning: \n",
      "A value is trying to be set on a copy of a slice from a DataFrame\n",
      "\n",
      "See the caveats in the documentation: https://pandas.pydata.org/pandas-docs/stable/user_guide/indexing.html#returning-a-view-versus-a-copy\n",
      "  df2['step'][7924 + i] = i\n"
     ]
    },
    {
     "data": {
      "text/html": [
       "<div>\n",
       "<style scoped>\n",
       "    .dataframe tbody tr th:only-of-type {\n",
       "        vertical-align: middle;\n",
       "    }\n",
       "\n",
       "    .dataframe tbody tr th {\n",
       "        vertical-align: top;\n",
       "    }\n",
       "\n",
       "    .dataframe thead th {\n",
       "        text-align: right;\n",
       "    }\n",
       "</style>\n",
       "<table border=\"1\" class=\"dataframe\">\n",
       "  <thead>\n",
       "    <tr style=\"text-align: right;\">\n",
       "      <th></th>\n",
       "      <th>run</th>\n",
       "      <th>tag</th>\n",
       "      <th>value</th>\n",
       "      <th>step</th>\n",
       "    </tr>\n",
       "  </thead>\n",
       "  <tbody>\n",
       "    <tr>\n",
       "      <th>7924</th>\n",
       "      <td>not_transfer</td>\n",
       "      <td>cumulative_reward</td>\n",
       "      <td>-1083.011230</td>\n",
       "      <td>0</td>\n",
       "    </tr>\n",
       "    <tr>\n",
       "      <th>7925</th>\n",
       "      <td>not_transfer</td>\n",
       "      <td>cumulative_reward</td>\n",
       "      <td>-430.214813</td>\n",
       "      <td>1</td>\n",
       "    </tr>\n",
       "    <tr>\n",
       "      <th>7926</th>\n",
       "      <td>not_transfer</td>\n",
       "      <td>cumulative_reward</td>\n",
       "      <td>-188.182693</td>\n",
       "      <td>2</td>\n",
       "    </tr>\n",
       "    <tr>\n",
       "      <th>7927</th>\n",
       "      <td>not_transfer</td>\n",
       "      <td>cumulative_reward</td>\n",
       "      <td>-919.310852</td>\n",
       "      <td>3</td>\n",
       "    </tr>\n",
       "    <tr>\n",
       "      <th>7928</th>\n",
       "      <td>not_transfer</td>\n",
       "      <td>cumulative_reward</td>\n",
       "      <td>-175.509232</td>\n",
       "      <td>4</td>\n",
       "    </tr>\n",
       "    <tr>\n",
       "      <th>...</th>\n",
       "      <td>...</td>\n",
       "      <td>...</td>\n",
       "      <td>...</td>\n",
       "      <td>...</td>\n",
       "    </tr>\n",
       "    <tr>\n",
       "      <th>9900</th>\n",
       "      <td>not_transfer</td>\n",
       "      <td>cumulative_reward</td>\n",
       "      <td>278.500305</td>\n",
       "      <td>1976</td>\n",
       "    </tr>\n",
       "    <tr>\n",
       "      <th>9901</th>\n",
       "      <td>not_transfer</td>\n",
       "      <td>cumulative_reward</td>\n",
       "      <td>-274.437256</td>\n",
       "      <td>1977</td>\n",
       "    </tr>\n",
       "    <tr>\n",
       "      <th>9902</th>\n",
       "      <td>not_transfer</td>\n",
       "      <td>cumulative_reward</td>\n",
       "      <td>206.381927</td>\n",
       "      <td>1978</td>\n",
       "    </tr>\n",
       "    <tr>\n",
       "      <th>9903</th>\n",
       "      <td>not_transfer</td>\n",
       "      <td>cumulative_reward</td>\n",
       "      <td>268.167511</td>\n",
       "      <td>1979</td>\n",
       "    </tr>\n",
       "    <tr>\n",
       "      <th>9904</th>\n",
       "      <td>not_transfer</td>\n",
       "      <td>cumulative_reward</td>\n",
       "      <td>236.401077</td>\n",
       "      <td>1980</td>\n",
       "    </tr>\n",
       "  </tbody>\n",
       "</table>\n",
       "<p>1981 rows × 4 columns</p>\n",
       "</div>"
      ],
      "text/plain": [
       "               run                tag        value  step\n",
       "7924  not_transfer  cumulative_reward -1083.011230     0\n",
       "7925  not_transfer  cumulative_reward  -430.214813     1\n",
       "7926  not_transfer  cumulative_reward  -188.182693     2\n",
       "7927  not_transfer  cumulative_reward  -919.310852     3\n",
       "7928  not_transfer  cumulative_reward  -175.509232     4\n",
       "...            ...                ...          ...   ...\n",
       "9900  not_transfer  cumulative_reward   278.500305  1976\n",
       "9901  not_transfer  cumulative_reward  -274.437256  1977\n",
       "9902  not_transfer  cumulative_reward   206.381927  1978\n",
       "9903  not_transfer  cumulative_reward   268.167511  1979\n",
       "9904  not_transfer  cumulative_reward   236.401077  1980\n",
       "\n",
       "[1981 rows x 4 columns]"
      ]
     },
     "execution_count": 9,
     "metadata": {},
     "output_type": "execute_result"
    }
   ],
   "source": [
    "for i in range(len(df2)):\n",
    "    df2['step'][7924 + i] = i\n",
    "df2"
   ]
  },
  {
   "cell_type": "code",
   "execution_count": 10,
   "id": "3d7abd88",
   "metadata": {},
   "outputs": [
    {
     "data": {
      "text/html": [
       "<div>\n",
       "<style scoped>\n",
       "    .dataframe tbody tr th:only-of-type {\n",
       "        vertical-align: middle;\n",
       "    }\n",
       "\n",
       "    .dataframe tbody tr th {\n",
       "        vertical-align: top;\n",
       "    }\n",
       "\n",
       "    .dataframe thead th {\n",
       "        text-align: right;\n",
       "    }\n",
       "</style>\n",
       "<table border=\"1\" class=\"dataframe\">\n",
       "  <thead>\n",
       "    <tr style=\"text-align: right;\">\n",
       "      <th></th>\n",
       "      <th>run</th>\n",
       "      <th>tag</th>\n",
       "      <th>value</th>\n",
       "      <th>step</th>\n",
       "    </tr>\n",
       "  </thead>\n",
       "  <tbody>\n",
       "    <tr>\n",
       "      <th>21935</th>\n",
       "      <td>transfer</td>\n",
       "      <td>cumulative_reward</td>\n",
       "      <td>-103.439461</td>\n",
       "      <td>0</td>\n",
       "    </tr>\n",
       "    <tr>\n",
       "      <th>21936</th>\n",
       "      <td>transfer</td>\n",
       "      <td>cumulative_reward</td>\n",
       "      <td>-90.513008</td>\n",
       "      <td>0</td>\n",
       "    </tr>\n",
       "    <tr>\n",
       "      <th>21937</th>\n",
       "      <td>transfer</td>\n",
       "      <td>cumulative_reward</td>\n",
       "      <td>-692.265137</td>\n",
       "      <td>0</td>\n",
       "    </tr>\n",
       "    <tr>\n",
       "      <th>21938</th>\n",
       "      <td>transfer</td>\n",
       "      <td>cumulative_reward</td>\n",
       "      <td>-548.453003</td>\n",
       "      <td>0</td>\n",
       "    </tr>\n",
       "    <tr>\n",
       "      <th>21939</th>\n",
       "      <td>transfer</td>\n",
       "      <td>cumulative_reward</td>\n",
       "      <td>-731.549133</td>\n",
       "      <td>0</td>\n",
       "    </tr>\n",
       "    <tr>\n",
       "      <th>...</th>\n",
       "      <td>...</td>\n",
       "      <td>...</td>\n",
       "      <td>...</td>\n",
       "      <td>...</td>\n",
       "    </tr>\n",
       "    <tr>\n",
       "      <th>23947</th>\n",
       "      <td>transfer</td>\n",
       "      <td>cumulative_reward</td>\n",
       "      <td>-51.397457</td>\n",
       "      <td>0</td>\n",
       "    </tr>\n",
       "    <tr>\n",
       "      <th>23948</th>\n",
       "      <td>transfer</td>\n",
       "      <td>cumulative_reward</td>\n",
       "      <td>215.640091</td>\n",
       "      <td>0</td>\n",
       "    </tr>\n",
       "    <tr>\n",
       "      <th>23949</th>\n",
       "      <td>transfer</td>\n",
       "      <td>cumulative_reward</td>\n",
       "      <td>226.039841</td>\n",
       "      <td>0</td>\n",
       "    </tr>\n",
       "    <tr>\n",
       "      <th>23950</th>\n",
       "      <td>transfer</td>\n",
       "      <td>cumulative_reward</td>\n",
       "      <td>340.260345</td>\n",
       "      <td>0</td>\n",
       "    </tr>\n",
       "    <tr>\n",
       "      <th>23951</th>\n",
       "      <td>transfer</td>\n",
       "      <td>cumulative_reward</td>\n",
       "      <td>277.697235</td>\n",
       "      <td>0</td>\n",
       "    </tr>\n",
       "  </tbody>\n",
       "</table>\n",
       "<p>2017 rows × 4 columns</p>\n",
       "</div>"
      ],
      "text/plain": [
       "            run                tag       value  step\n",
       "21935  transfer  cumulative_reward -103.439461     0\n",
       "21936  transfer  cumulative_reward  -90.513008     0\n",
       "21937  transfer  cumulative_reward -692.265137     0\n",
       "21938  transfer  cumulative_reward -548.453003     0\n",
       "21939  transfer  cumulative_reward -731.549133     0\n",
       "...         ...                ...         ...   ...\n",
       "23947  transfer  cumulative_reward  -51.397457     0\n",
       "23948  transfer  cumulative_reward  215.640091     0\n",
       "23949  transfer  cumulative_reward  226.039841     0\n",
       "23950  transfer  cumulative_reward  340.260345     0\n",
       "23951  transfer  cumulative_reward  277.697235     0\n",
       "\n",
       "[2017 rows x 4 columns]"
      ]
     },
     "execution_count": 10,
     "metadata": {},
     "output_type": "execute_result"
    }
   ],
   "source": [
    "df3['step'] = 0\n",
    "df3"
   ]
  },
  {
   "cell_type": "code",
   "execution_count": 11,
   "id": "604cc860",
   "metadata": {},
   "outputs": [
    {
     "name": "stderr",
     "output_type": "stream",
     "text": [
      "<ipython-input-11-aa4b4609cbca>:2: SettingWithCopyWarning: \n",
      "A value is trying to be set on a copy of a slice from a DataFrame\n",
      "\n",
      "See the caveats in the documentation: https://pandas.pydata.org/pandas-docs/stable/user_guide/indexing.html#returning-a-view-versus-a-copy\n",
      "  df3['step'][21935 + i] = i\n"
     ]
    },
    {
     "data": {
      "text/html": [
       "<div>\n",
       "<style scoped>\n",
       "    .dataframe tbody tr th:only-of-type {\n",
       "        vertical-align: middle;\n",
       "    }\n",
       "\n",
       "    .dataframe tbody tr th {\n",
       "        vertical-align: top;\n",
       "    }\n",
       "\n",
       "    .dataframe thead th {\n",
       "        text-align: right;\n",
       "    }\n",
       "</style>\n",
       "<table border=\"1\" class=\"dataframe\">\n",
       "  <thead>\n",
       "    <tr style=\"text-align: right;\">\n",
       "      <th></th>\n",
       "      <th>run</th>\n",
       "      <th>tag</th>\n",
       "      <th>value</th>\n",
       "      <th>step</th>\n",
       "    </tr>\n",
       "  </thead>\n",
       "  <tbody>\n",
       "    <tr>\n",
       "      <th>21935</th>\n",
       "      <td>transfer</td>\n",
       "      <td>cumulative_reward</td>\n",
       "      <td>-103.439461</td>\n",
       "      <td>0</td>\n",
       "    </tr>\n",
       "    <tr>\n",
       "      <th>21936</th>\n",
       "      <td>transfer</td>\n",
       "      <td>cumulative_reward</td>\n",
       "      <td>-90.513008</td>\n",
       "      <td>1</td>\n",
       "    </tr>\n",
       "    <tr>\n",
       "      <th>21937</th>\n",
       "      <td>transfer</td>\n",
       "      <td>cumulative_reward</td>\n",
       "      <td>-692.265137</td>\n",
       "      <td>2</td>\n",
       "    </tr>\n",
       "    <tr>\n",
       "      <th>21938</th>\n",
       "      <td>transfer</td>\n",
       "      <td>cumulative_reward</td>\n",
       "      <td>-548.453003</td>\n",
       "      <td>3</td>\n",
       "    </tr>\n",
       "    <tr>\n",
       "      <th>21939</th>\n",
       "      <td>transfer</td>\n",
       "      <td>cumulative_reward</td>\n",
       "      <td>-731.549133</td>\n",
       "      <td>4</td>\n",
       "    </tr>\n",
       "    <tr>\n",
       "      <th>...</th>\n",
       "      <td>...</td>\n",
       "      <td>...</td>\n",
       "      <td>...</td>\n",
       "      <td>...</td>\n",
       "    </tr>\n",
       "    <tr>\n",
       "      <th>23947</th>\n",
       "      <td>transfer</td>\n",
       "      <td>cumulative_reward</td>\n",
       "      <td>-51.397457</td>\n",
       "      <td>2012</td>\n",
       "    </tr>\n",
       "    <tr>\n",
       "      <th>23948</th>\n",
       "      <td>transfer</td>\n",
       "      <td>cumulative_reward</td>\n",
       "      <td>215.640091</td>\n",
       "      <td>2013</td>\n",
       "    </tr>\n",
       "    <tr>\n",
       "      <th>23949</th>\n",
       "      <td>transfer</td>\n",
       "      <td>cumulative_reward</td>\n",
       "      <td>226.039841</td>\n",
       "      <td>2014</td>\n",
       "    </tr>\n",
       "    <tr>\n",
       "      <th>23950</th>\n",
       "      <td>transfer</td>\n",
       "      <td>cumulative_reward</td>\n",
       "      <td>340.260345</td>\n",
       "      <td>2015</td>\n",
       "    </tr>\n",
       "    <tr>\n",
       "      <th>23951</th>\n",
       "      <td>transfer</td>\n",
       "      <td>cumulative_reward</td>\n",
       "      <td>277.697235</td>\n",
       "      <td>2016</td>\n",
       "    </tr>\n",
       "  </tbody>\n",
       "</table>\n",
       "<p>2017 rows × 4 columns</p>\n",
       "</div>"
      ],
      "text/plain": [
       "            run                tag       value  step\n",
       "21935  transfer  cumulative_reward -103.439461     0\n",
       "21936  transfer  cumulative_reward  -90.513008     1\n",
       "21937  transfer  cumulative_reward -692.265137     2\n",
       "21938  transfer  cumulative_reward -548.453003     3\n",
       "21939  transfer  cumulative_reward -731.549133     4\n",
       "...         ...                ...         ...   ...\n",
       "23947  transfer  cumulative_reward  -51.397457  2012\n",
       "23948  transfer  cumulative_reward  215.640091  2013\n",
       "23949  transfer  cumulative_reward  226.039841  2014\n",
       "23950  transfer  cumulative_reward  340.260345  2015\n",
       "23951  transfer  cumulative_reward  277.697235  2016\n",
       "\n",
       "[2017 rows x 4 columns]"
      ]
     },
     "execution_count": 11,
     "metadata": {},
     "output_type": "execute_result"
    }
   ],
   "source": [
    "for i in range(len(df3)):\n",
    "    df3['step'][21935 + i] = i\n",
    "df3"
   ]
  },
  {
   "cell_type": "markdown",
   "id": "b69de735",
   "metadata": {},
   "source": [
    "# Seaborn의 sns.lineplot을 활용해 시각화(추후 confidence interval line으로 가능)"
   ]
  },
  {
   "cell_type": "code",
   "execution_count": 12,
   "id": "912c6947",
   "metadata": {},
   "outputs": [],
   "source": [
    "x = df2.step\n",
    "y = df2.value\n",
    "z = df3.step\n",
    "w = df3.value"
   ]
  },
  {
   "cell_type": "code",
   "execution_count": 18,
   "id": "5b0c35dc",
   "metadata": {},
   "outputs": [
    {
     "data": {
      "text/plain": [
       "990"
      ]
     },
     "execution_count": 18,
     "metadata": {},
     "output_type": "execute_result"
    }
   ],
   "source": [
    "int(len(df2) / 2)"
   ]
  },
  {
   "cell_type": "code",
   "execution_count": 65,
   "id": "42f551c9",
   "metadata": {
    "scrolled": true
   },
   "outputs": [],
   "source": [
    "summary = []\n",
    "summ = 8\n",
    "for j in range(int(len(df2) / summ)):\n",
    "    a = 7924\n",
    "    a += summ * j\n",
    "    summary.append(a)\n",
    "df4 = df2.loc[summary]\n",
    "summary_ = []\n",
    "for j in range(int(len(df3) / summ)):\n",
    "    b = 21935\n",
    "    b += summ * j\n",
    "    summary_.append(b)\n",
    "df5 = df3.loc[summary_]"
   ]
  },
  {
   "cell_type": "code",
   "execution_count": 66,
   "id": "56a201ff",
   "metadata": {},
   "outputs": [],
   "source": [
    "not_transfer_x = df4.step\n",
    "not_transfer_y = df4.value\n",
    "transfer_x = df5.step\n",
    "transfer_y = df5.value"
   ]
  },
  {
   "cell_type": "code",
   "execution_count": 67,
   "id": "5ac5f489",
   "metadata": {},
   "outputs": [
    {
     "data": {
      "text/plain": [
       "<matplotlib.legend.Legend at 0x1d9d2945100>"
      ]
     },
     "execution_count": 67,
     "metadata": {},
     "output_type": "execute_result"
    },
    {
     "data": {
      "image/png": "[encoded data removed]",
      "text/plain": [
       "<Figure size 504x504 with 1 Axes>"
      ]
     },
     "metadata": {
      "needs_background": "light"
     },
     "output_type": "display_data"
    }
   ],
   "source": [
    "fig, ax = plt.subplots(figsize = (7,7))\n",
    "ax.tick_params(bottom = False, labelbottom = False)\n",
    "\n",
    "plt.plot(not_transfer_x, not_transfer_y.rolling(50).mean(), 'lightblue', label = 'not_transfer')\n",
    "plt.plot(transfer_x, transfer_y.rolling(50).mean(), 'b', label = 'transfer')\n",
    "plt.xlabel('Step')\n",
    "plt.ylabel('Cumulative Reward')\n",
    "#plt.xticks(np.arange(0, 1e4, 1e3))\n",
    "#plt.yticks(np.arange(-200,400, 100))\n",
    "plt.legend()"
   ]
  },
  {
   "cell_type": "code",
   "execution_count": 39,
   "id": "28e1b710",
   "metadata": {},
   "outputs": [
    {
     "name": "stderr",
     "output_type": "stream",
     "text": [
      "C:\\Users\\ksshin\\anaconda3\\lib\\site-packages\\seaborn\\_decorators.py:36: FutureWarning: Pass the following variables as keyword args: x, y. From version 0.12, the only valid positional argument will be `data`, and passing other arguments without an explicit keyword will result in an error or misinterpretation.\n",
      "  warnings.warn(\n"
     ]
    },
    {
     "data": {
      "text/plain": [
       "<AxesSubplot:xlabel='step', ylabel='value'>"
      ]
     },
     "execution_count": 39,
     "metadata": {},
     "output_type": "execute_result"
    },
    {
     "data": {
      "image/png": "[encoded data removed]",
      "text/plain": [
       "<Figure size 432x288 with 1 Axes>"
      ]
     },
     "metadata": {
      "needs_background": "light"
     },
     "output_type": "display_data"
    }
   ],
   "source": [
    "sns.lineplot(transfer_x, transfer_y.rolling(100).mean())"
   ]
  },
  {
   "cell_type": "code",
   "execution_count": 13,
   "id": "0bd3f749",
   "metadata": {},
   "outputs": [
    {
     "data": {
      "text/plain": [
       "[<matplotlib.lines.Line2D at 0x2adcdcd7f70>]"
      ]
     },
     "execution_count": 13,
     "metadata": {},
     "output_type": "execute_result"
    },
    {
     "data": {
      "image/png": "[encoded data removed]",
      "text/plain": [
       "<Figure size 432x288 with 1 Axes>"
      ]
     },
     "metadata": {
      "needs_background": "light"
     },
     "output_type": "display_data"
    }
   ],
   "source": [
    "plt.plot(z,w)"
   ]
  },
  {
   "cell_type": "code",
   "execution_count": 14,
   "id": "d505e05f",
   "metadata": {},
   "outputs": [
    {
     "data": {
      "text/plain": [
       "[<matplotlib.lines.Line2D at 0x2adcdd41bb0>]"
      ]
     },
     "execution_count": 14,
     "metadata": {},
     "output_type": "execute_result"
    },
    {
     "data": {
      "image/png": "[encoded data removed]",
      "text/plain": [
       "<Figure size 432x288 with 1 Axes>"
      ]
     },
     "metadata": {
      "needs_background": "light"
     },
     "output_type": "display_data"
    }
   ],
   "source": [
    "plt.plot(z,w.rolling(5).mean())"
   ]
  },
  {
   "cell_type": "markdown",
   "id": "c1be0e1d",
   "metadata": {},
   "source": [
    "# 위 plot처럼 단순히 10개당 1개씩 도식하고 ma하는게 아니라 ma한다음 10개당 1개씩"
   ]
  },
  {
   "cell_type": "code",
   "execution_count": 16,
   "id": "5ab39a4d",
   "metadata": {},
   "outputs": [],
   "source": [
    "#될까??"
   ]
  },
  {
   "cell_type": "markdown",
   "id": "34ccc55f",
   "metadata": {},
   "source": [
    "# matplotlib의 ma(rolling().mean())을 활용한 시각화"
   ]
  },
  {
   "cell_type": "code",
   "execution_count": 17,
   "id": "48ccf68c",
   "metadata": {
    "scrolled": true
   },
   "outputs": [
    {
     "data": {
      "text/plain": [
       "[<matplotlib.lines.Line2D at 0x2adcddf32b0>]"
      ]
     },
     "execution_count": 17,
     "metadata": {},
     "output_type": "execute_result"
    },
    {
     "data": {
      "image/png": "[encoded data removed]",
      "text/plain": [
       "<Figure size 432x288 with 1 Axes>"
      ]
     },
     "metadata": {
      "needs_background": "light"
     },
     "output_type": "display_data"
    }
   ],
   "source": [
    "plt.plot(x,y)"
   ]
  },
  {
   "cell_type": "code",
   "execution_count": 18,
   "id": "28e13c59",
   "metadata": {},
   "outputs": [
    {
     "data": {
      "text/plain": [
       "[<matplotlib.lines.Line2D at 0x2adcde47640>,\n",
       " <matplotlib.lines.Line2D at 0x2adcde47700>]"
      ]
     },
     "execution_count": 18,
     "metadata": {},
     "output_type": "execute_result"
    },
    {
     "data": {
      "image/png": "[encoded data removed]",
      "text/plain": [
       "<Figure size 432x288 with 1 Axes>"
      ]
     },
     "metadata": {
      "needs_background": "light"
     },
     "output_type": "display_data"
    }
   ],
   "source": [
    "plt.plot(x,y,'lightblue',x,y.rolling(10).mean(),'b')"
   ]
  },
  {
   "cell_type": "code",
   "execution_count": 19,
   "id": "62a5d770",
   "metadata": {},
   "outputs": [
    {
     "data": {
      "text/plain": [
       "[<matplotlib.lines.Line2D at 0x2adcde98d00>]"
      ]
     },
     "execution_count": 19,
     "metadata": {},
     "output_type": "execute_result"
    },
    {
     "data": {
      "image/png": "[encoded data removed]",
      "text/plain": [
       "<Figure size 432x288 with 1 Axes>"
      ]
     },
     "metadata": {
      "needs_background": "light"
     },
     "output_type": "display_data"
    }
   ],
   "source": [
    "plt.plot(x,y.rolling(10).mean(),'b')"
   ]
  },
  {
   "cell_type": "code",
   "execution_count": null,
   "id": "fc75a4b8",
   "metadata": {},
   "outputs": [],
   "source": []
  }
 ],
 "metadata": {
  "kernelspec": {
   "display_name": "Python 3",
   "language": "python",
   "name": "python3"
  },
  "language_info": {
   "codemirror_mode": {
    "name": "ipython",
    "version": 3
   },
   "file_extension": ".py",
   "mimetype": "text/x-python",
   "name": "python",
   "nbconvert_exporter": "python",
   "pygments_lexer": "ipython3",
   "version": "3.8.8"
  }
 },
 "nbformat": 4,
 "nbformat_minor": 5
}
