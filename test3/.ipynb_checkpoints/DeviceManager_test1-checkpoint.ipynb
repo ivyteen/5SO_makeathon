{
 "cells": [
  {
   "cell_type": "code",
   "execution_count": 1,
   "id": "ae79af5f",
   "metadata": {},
   "outputs": [
    {
     "name": "stdout",
     "output_type": "stream",
     "text": [
      "importing Jupyter notebook from IoTDevice_stage.ipynb\n",
      "importing Jupyter notebook from Channel_stage.ipynb\n",
      "importing Jupyter notebook from Shadowing_stage.ipynb\n",
      "importing Jupyter notebook from Map_stage.ipynb\n"
     ]
    }
   ],
   "source": [
    "import os\n",
    "\n",
    "import numpy as np\n",
    "import import_ipynb\n",
    "from IoTDevice_test1 import IoTDeviceParams, DeviceList\n",
    "\n",
    "ColorMap = [\"orange\", \"wheat\", \"pink\", \"crimson\", \"hotpink\", \"green\", \"lime\", \"blue\", \"navy\", \"red\", \n",
    "            \"salmon\", \"tomato\", \"purple\", \"violet\",  \"brown\", \"lightcoral\", \"gray\", \"silver\", \"olive\", \"gold\", \n",
    "            \"cyan\", \"lightcyan\", \"steelblue\", \"royalblue\", \"chocolate\"]\n",
    "\n",
    "class DeviceManagerParams:\n",
    "    def __init__(self):\n",
    "        self.device_count_range = 25\n",
    "        self.data_range = (5.0, 20.0)\n",
    "        self.fixed_devices = False\n",
    "        self.devices = IoTDeviceParams()\n",
    "\n",
    "\n",
    "class DeviceManager:\n",
    "    \"\"\"\n",
    "    The DeviceManager is used to generate DeviceLists according to DeviceManagerParams\n",
    "    \"\"\"\n",
    "\n",
    "    def __init__(self, params: DeviceManagerParams):\n",
    "        self.params = params\n",
    "\n",
    "        \n",
    "        #디바이스 좌표 정하려면 positions_vector 무조건 알야아함\n",
    "        #positions_vector : Grid의 self.device_positions\n",
    "   #     free_space = np.logical_not(\n",
    "   #         np.logical_or(self.map_image.obstacles, self.map_image.start_land_zone))\n",
    "   #     free_idcs = np.where(free_space)\n",
    "   #     self.device_positions = list(zip(free_idcs[1], free_idcs[0]))\n",
    "   #     즉, 장애물, land 빼고는 device가 다 생길 수가  있다.\n",
    "    def generate_device_list(self, positions_vector):\n",
    "        if self.params.fixed_devices:\n",
    "            return DeviceList(self.params.devices)\n",
    "\n",
    "\n",
    "        ## Roll number of devices : 25\n",
    "        device_count = self.params.device_count_range\n",
    "        # The number of devices : 25개로 고정\n",
    "\n",
    "\n",
    "\n",
    "        # Roll Positions\n",
    "        #Grid에서 positions_vector = self.device_positions\n",
    "  #      position_idcs = np.random.choice(range(len(positions_vector)), device_count, replace=False)\n",
    "  #      positions = [positions_vector[idx] for idx in position_idcs]\n",
    "        positions = positions_vector # 25 x 1 인데 튜플의 형태\n",
    "\n",
    "        # Roll Data : 25 x 1\n",
    "        datas = np.random.uniform(self.params.data_range[0], self.params.data_range[1], device_count)\n",
    "        \n",
    "        \n",
    "        return self.generate_device_list_from_args(device_count, positions, datas)\n",
    "\n",
    "    def generate_device_list_from_args(self, device_count, positions, datas):\n",
    "        #colors = ColorMap[0:device_count[0]]\n",
    "        colors = ColorMap[0:max(device_count[0], len(ColorMap))]\n",
    "        #colors = ColorMap[0]\n",
    "        params = [IoTDeviceParams(position=positions[k],\n",
    "                                  data=datas[k],\n",
    "                                  #color=colors[k % len(ColorMap)])\n",
    "                                  color=colors[k])\n",
    "                                  #color=colors)\n",
    "                  for k in range(device_count[0])]\n",
    "                 \n",
    "        return DeviceList(params)"
   ]
  },
  {
   "cell_type": "code",
   "execution_count": null,
   "id": "b5501328",
   "metadata": {},
   "outputs": [],
   "source": []
  }
 ],
 "metadata": {
  "kernelspec": {
   "display_name": "Python 3",
   "language": "python",
   "name": "python3"
  },
  "language_info": {
   "codemirror_mode": {
    "name": "ipython",
    "version": 3
   },
   "file_extension": ".py",
   "mimetype": "text/x-python",
   "name": "python",
   "nbconvert_exporter": "python",
   "pygments_lexer": "ipython3",
   "version": "3.8.8"
  }
 },
 "nbformat": 4,
 "nbformat_minor": 5
}
