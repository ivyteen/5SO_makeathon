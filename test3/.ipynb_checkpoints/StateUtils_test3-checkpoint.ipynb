{
 "cells": [
  {
   "cell_type": "code",
   "execution_count": 1,
   "id": "e745f0bf",
   "metadata": {},
   "outputs": [],
   "source": [
    "import math\n",
    "import numpy as np\n",
    "\n",
    "\n",
    "def pad_centered(state, map_in, pad_value):\n",
    "    padding_rows = math.ceil(state.no_fly_zone.shape[0] / 2.0) #올림 70 \n",
    "    padding_cols = math.ceil(state.no_fly_zone.shape[1] / 2.0) #올림 70\n",
    "    position_x, position_y = state.position\n",
    "    position_row_offset = padding_rows - position_y\n",
    "    position_col_offset = padding_cols - position_x\n",
    "\n",
    "#    print('map_in', map_in.shape)\n",
    "\n",
    "    return np.pad(map_in,\n",
    "                  pad_width=[[padding_rows + position_row_offset - 1, #위쪽\n",
    "                              padding_rows - position_row_offset],  #아래쪽\n",
    "                             [padding_cols + position_col_offset - 1, #왼쪽\n",
    "                              padding_cols - position_col_offset], #오른쪽\n",
    "                             [0, 0]], #z축에 대한 pad 변경\n",
    "                  mode='constant', #항상 똑같은 상수값 채워넣기\n",
    "                  constant_values=pad_value)"
   ]
  }
 ],
 "metadata": {
  "kernelspec": {
   "display_name": "Python 3",
   "language": "python",
   "name": "python3"
  },
  "language_info": {
   "codemirror_mode": {
    "name": "ipython",
    "version": 3
   },
   "file_extension": ".py",
   "mimetype": "text/x-python",
   "name": "python",
   "nbconvert_exporter": "python",
   "pygments_lexer": "ipython3",
   "version": "3.8.8"
  }
 },
 "nbformat": 4,
 "nbformat_minor": 5
}
