{
 "cells": [
  {
   "cell_type": "code",
   "execution_count": 1,
   "id": "c4ebc0ef",
   "metadata": {},
   "outputs": [
    {
     "name": "stdout",
     "output_type": "stream",
     "text": [
      "importing Jupyter notebook from Map_stage.ipynb\n"
     ]
    }
   ],
   "source": [
    "import import_ipynb\n",
    "from Map_stage import Map\n",
    "\n",
    "\n",
    "class BaseState:\n",
    "    def __init__(self, map_init: Map):\n",
    "        self.no_fly_zone = map_init.nfz\n",
    "        self.obstacles = map_init.obstacles\n",
    "        self.landing_zone = map_init.start_land_zone\n",
    "        \n",
    "\n",
    "    @property #private이라는 접근 제어자(__로 표현 in python)에 있는 속성값을 보다 간편하게 가져오기 위한 데코레이터\n",
    "    def shape(self):\n",
    "    \n",
    "        return self.landing_zone.shape[:2]"
   ]
  },
  {
   "cell_type": "code",
   "execution_count": null,
   "id": "abf32cb3",
   "metadata": {},
   "outputs": [],
   "source": []
  }
 ],
 "metadata": {
  "kernelspec": {
   "display_name": "Python 3",
   "language": "python",
   "name": "python3"
  },
  "language_info": {
   "codemirror_mode": {
    "name": "ipython",
    "version": 3
   },
   "file_extension": ".py",
   "mimetype": "text/x-python",
   "name": "python",
   "nbconvert_exporter": "python",
   "pygments_lexer": "ipython3",
   "version": "3.8.8"
  }
 },
 "nbformat": 4,
 "nbformat_minor": 5
}
