{
 "cells": [
  {
   "cell_type": "code",
   "execution_count": 1,
   "id": "0d355e8a",
   "metadata": {},
   "outputs": [],
   "source": [
    "import tensorflow as tf\n",
    "config = tf.compat.v1.ConfigProto()\n",
    "config.gpu_options.allow_growth = True\n",
    "session = tf.compat.v1.Session(config=config)"
   ]
  },
  {
   "cell_type": "code",
   "execution_count": 2,
   "id": "94dfd405",
   "metadata": {
    "scrolled": false
   },
   "outputs": [
    {
     "name": "stdout",
     "output_type": "stream",
     "text": [
      "[name: \"/device:CPU:0\"\n",
      "device_type: \"CPU\"\n",
      "memory_limit: 268435456\n",
      "locality {\n",
      "}\n",
      "incarnation: 9661281611709967280\n",
      ", name: \"/device:GPU:0\"\n",
      "device_type: \"GPU\"\n",
      "memory_limit: 6946941824\n",
      "locality {\n",
      "  bus_id: 1\n",
      "  links {\n",
      "  }\n",
      "}\n",
      "incarnation: 11483059700614463081\n",
      "physical_device_desc: \"device: 0, name: Quadro RTX 4000, pci bus id: 0000:b3:00.0, compute capability: 7.5\"\n",
      "]\n"
     ]
    }
   ],
   "source": [
    "import tensorflow\n",
    "from tensorflow.python.client import device_lib\n",
    "print(device_lib.list_local_devices())"
   ]
  },
  {
   "cell_type": "code",
   "execution_count": 3,
   "id": "f470eb05",
   "metadata": {},
   "outputs": [
    {
     "name": "stdout",
     "output_type": "stream",
     "text": [
      "WARNING:tensorflow:From <ipython-input-3-17bb7203622b>:1: is_gpu_available (from tensorflow.python.framework.test_util) is deprecated and will be removed in a future version.\n",
      "Instructions for updating:\n",
      "Use `tf.config.list_physical_devices('GPU')` instead.\n"
     ]
    },
    {
     "data": {
      "text/plain": [
       "True"
      ]
     },
     "execution_count": 3,
     "metadata": {},
     "output_type": "execute_result"
    }
   ],
   "source": [
    "tf.test.is_gpu_available()"
   ]
  },
  {
   "cell_type": "code",
   "execution_count": null,
   "id": "e18182c9",
   "metadata": {
    "scrolled": true
   },
   "outputs": [
    {
     "name": "stdout",
     "output_type": "stream",
     "text": [
      "importing Jupyter notebook from MainEnvironment_stage.ipynb\n",
      "importing Jupyter notebook from Agent_stage.ipynb\n",
      "importing Jupyter notebook from Trainer_stage.ipynb\n",
      "importing Jupyter notebook from ReplayMemory_stage.ipynb\n",
      "importing Jupyter notebook from Display_stage.ipynb\n",
      "importing Jupyter notebook from Map_stage.ipynb\n",
      "importing Jupyter notebook from BaseDisplay_stage.ipynb\n",
      "importing Jupyter notebook from Grid_stage.ipynb\n",
      "importing Jupyter notebook from DeviceManager_stage.ipynb\n",
      "importing Jupyter notebook from IoTDevice_stage.ipynb\n",
      "importing Jupyter notebook from Channel_stage.ipynb\n",
      "importing Jupyter notebook from Shadowing_stage.ipynb\n",
      "importing Jupyter notebook from State_stage.ipynb\n",
      "importing Jupyter notebook from StateUtils_stage.ipynb\n",
      "importing Jupyter notebook from BaseState_stage.ipynb\n",
      "importing Jupyter notebook from BaseGrid_stage.ipynb\n",
      "importing Jupyter notebook from ModelStats_stage.ipynb\n",
      "importing Jupyter notebook from Physics_stage.ipynb\n",
      "importing Jupyter notebook from GridActions_stage.ipynb\n",
      "importing Jupyter notebook from GridPhysics_stage.ipynb\n",
      "importing Jupyter notebook from Rewards_stage.ipynb\n",
      "importing Jupyter notebook from GridRewards_stage.ipynb\n",
      "importing Jupyter notebook from Environment_stage.ipynb\n",
      "importing Jupyter notebook from Utils_stage.ipynb\n",
      "Parse Params file here from  config/grid_image.json  and pass into main\n",
      "logs/training/grid_image already exists.\n",
      "Override log file? [Y/n]\n",
      "1\n",
      "Deleting old log dir\n"
     ]
    },
    {
     "name": "stderr",
     "output_type": "stream",
     "text": [
      "\r",
      "  0%|                                                                                      | 0/25000.0 [00:00<?, ?it/s]"
     ]
    },
    {
     "name": "stdout",
     "output_type": "stream",
     "text": [
      "Model: \"model_6\"\n",
      "__________________________________________________________________________________________________\n",
      "Layer (type)                    Output Shape         Param #     Connected to                     \n",
      "==================================================================================================\n",
      "boolean_map_input (InputLayer)  [(None, 63, 63, 4)]  0                                            \n",
      "__________________________________________________________________________________________________\n",
      "tf.cast (TFOpLambda)            (None, 63, 63, 4)    0           boolean_map_input[0][0]          \n",
      "__________________________________________________________________________________________________\n",
      "float_map_input (InputLayer)    [(None, 63, 63, 2)]  0                                            \n",
      "__________________________________________________________________________________________________\n",
      "tf.concat (TFOpLambda)          (None, 63, 63, 6)    0           tf.cast[0][0]                    \n",
      "                                                                 float_map_input[0][0]            \n",
      "__________________________________________________________________________________________________\n",
      "average_pooling2d (AveragePooli (None, 21, 21, 6)    0           tf.concat[0][0]                  \n",
      "__________________________________________________________________________________________________\n",
      "tf.image.central_crop (TFOpLamb (None, 17, 17, 6)    0           tf.concat[0][0]                  \n",
      "__________________________________________________________________________________________________\n",
      "tf.stop_gradient (TFOpLambda)   (None, 21, 21, 6)    0           average_pooling2d[0][0]          \n",
      "__________________________________________________________________________________________________\n",
      "tf.stop_gradient_1 (TFOpLambda) (None, 17, 17, 6)    0           tf.image.central_crop[0][0]      \n",
      "__________________________________________________________________________________________________\n",
      "global_conv_1 (Conv2D)          (None, 17, 17, 16)   2416        tf.stop_gradient[0][0]           \n",
      "__________________________________________________________________________________________________\n",
      "local_conv_1 (Conv2D)           (None, 13, 13, 16)   2416        tf.stop_gradient_1[0][0]         \n",
      "__________________________________________________________________________________________________\n",
      "global_conv_2 (Conv2D)          (None, 13, 13, 16)   6416        global_conv_1[0][0]              \n",
      "__________________________________________________________________________________________________\n",
      "local_conv_2 (Conv2D)           (None, 9, 9, 16)     6416        local_conv_1[0][0]               \n",
      "__________________________________________________________________________________________________\n",
      "global_flatten (Flatten)        (None, 2704)         0           global_conv_2[0][0]              \n",
      "__________________________________________________________________________________________________\n",
      "local_flatten (Flatten)         (None, 1296)         0           local_conv_2[0][0]               \n",
      "__________________________________________________________________________________________________\n",
      "concat_flatten (Concatenate)    (None, 4000)         0           global_flatten[0][0]             \n",
      "                                                                 local_flatten[0][0]              \n",
      "__________________________________________________________________________________________________\n",
      "scalars_input (InputLayer)      [(None, 1)]          0                                            \n",
      "__________________________________________________________________________________________________\n",
      "termination_input (InputLayer)  [(None,)]            0                                            \n",
      "__________________________________________________________________________________________________\n",
      "concat (Concatenate)            (None, 4001)         0           concat_flatten[0][0]             \n",
      "                                                                 scalars_input[0][0]              \n",
      "__________________________________________________________________________________________________\n",
      "tf.math.logical_not (TFOpLambda (None,)              0           termination_input[0][0]          \n",
      "__________________________________________________________________________________________________\n",
      "hidden_layer_all_0 (Dense)      (None, 256)          1024512     concat[0][0]                     \n",
      "__________________________________________________________________________________________________\n",
      "tf.cast_1 (TFOpLambda)          (None,)              0           tf.math.logical_not[0][0]        \n",
      "__________________________________________________________________________________________________\n",
      "hidden_layer_all_1 (Dense)      (None, 256)          65792       hidden_layer_all_0[0][0]         \n",
      "__________________________________________________________________________________________________\n",
      "q_star_input (InputLayer)       [(None,)]            0                                            \n",
      "__________________________________________________________________________________________________\n",
      "tf.math.multiply_2 (TFOpLambda) (None,)              0           tf.cast_1[0][0]                  \n",
      "__________________________________________________________________________________________________\n",
      "hidden_layer_all_2 (Dense)      (None, 256)          65792       hidden_layer_all_1[0][0]         \n",
      "__________________________________________________________________________________________________\n",
      "reward_input (InputLayer)       [(None,)]            0                                            \n",
      "__________________________________________________________________________________________________\n",
      "tf.math.multiply_3 (TFOpLambda) (None,)              0           q_star_input[0][0]               \n",
      "                                                                 tf.math.multiply_2[0][0]         \n",
      "__________________________________________________________________________________________________\n",
      "action_input (InputLayer)       [(None,)]            0                                            \n",
      "__________________________________________________________________________________________________\n",
      "output_layer (Dense)            (None, 6)            1542        hidden_layer_all_2[0][0]         \n",
      "__________________________________________________________________________________________________\n",
      "tf.math.add (TFOpLambda)        (None,)              0           reward_input[0][0]               \n",
      "                                                                 tf.math.multiply_3[0][0]         \n",
      "__________________________________________________________________________________________________\n",
      "tf.one_hot_2 (TFOpLambda)       (None, 6)            0           action_input[0][0]               \n",
      "__________________________________________________________________________________________________\n",
      "tf.expand_dims (TFOpLambda)     (None, 1)            0           tf.math.add[0][0]                \n",
      "__________________________________________________________________________________________________\n",
      "tf.one_hot_1 (TFOpLambda)       (None, 6)            0           action_input[0][0]               \n",
      "__________________________________________________________________________________________________\n",
      "tf.math.multiply_1 (TFOpLambda) (None, 6)            0           output_layer[0][0]               \n",
      "                                                                 tf.one_hot_2[0][0]               \n",
      "__________________________________________________________________________________________________\n",
      "tf.math.multiply_4 (TFOpLambda) (None, 6)            0           tf.expand_dims[0][0]             \n",
      "                                                                 tf.one_hot_1[0][0]               \n",
      "__________________________________________________________________________________________________\n",
      "tf.stop_gradient_4 (TFOpLambda) (None, 6)            0           tf.math.multiply_1[0][0]         \n",
      "__________________________________________________________________________________________________\n",
      "tf.math.add_1 (TFOpLambda)      (None, 6)            0           tf.math.multiply_4[0][0]         \n",
      "                                                                 tf.stop_gradient_4[0][0]         \n",
      "__________________________________________________________________________________________________\n",
      "tf.convert_to_tensor (TFOpLambd (None, 6)            0           output_layer[0][0]               \n",
      "__________________________________________________________________________________________________\n",
      "tf.convert_to_tensor_1 (TFOpLam (None, 6)            0           tf.math.add_1[0][0]              \n",
      "__________________________________________________________________________________________________\n",
      "tf.convert_to_tensor_2 (TFOpLam (None, 6)            0           tf.convert_to_tensor[0][0]       \n",
      "__________________________________________________________________________________________________\n",
      "tf.cast_2 (TFOpLambda)          (None, 6)            0           tf.convert_to_tensor_1[0][0]     \n",
      "__________________________________________________________________________________________________\n",
      "tf.math.squared_difference (TFO (None, 6)            0           tf.convert_to_tensor_2[0][0]     \n",
      "                                                                 tf.cast_2[0][0]                  \n",
      "__________________________________________________________________________________________________\n",
      "tf.math.reduce_mean (TFOpLambda (None,)              0           tf.math.squared_difference[0][0] \n",
      "__________________________________________________________________________________________________\n",
      "tf.cast_3 (TFOpLambda)          (None,)              0           tf.math.reduce_mean[0][0]        \n",
      "__________________________________________________________________________________________________\n",
      "tf.math.multiply_5 (TFOpLambda) (None,)              0           tf.cast_3[0][0]                  \n",
      "__________________________________________________________________________________________________\n",
      "tf.math.reduce_sum_1 (TFOpLambd ()                   0           tf.math.multiply_5[0][0]         \n",
      "__________________________________________________________________________________________________\n",
      "tf.compat.v1.size (TFOpLambda)  ()                   0           tf.math.multiply_5[0][0]         \n",
      "__________________________________________________________________________________________________\n",
      "tf.math.reduce_sum_2 (TFOpLambd ()                   0           tf.math.reduce_sum_1[0][0]       \n",
      "__________________________________________________________________________________________________\n",
      "tf.cast_4 (TFOpLambda)          ()                   0           tf.compat.v1.size[0][0]          \n",
      "__________________________________________________________________________________________________\n",
      "tf.math.divide_no_nan (TFOpLamb ()                   0           tf.math.reduce_sum_2[0][0]       \n",
      "                                                                 tf.cast_4[0][0]                  \n",
      "__________________________________________________________________________________________________\n",
      "tf.cast_5 (TFOpLambda)          ()                   0           tf.math.divide_no_nan[0][0]      \n",
      "==================================================================================================\n",
      "Total params: 1,175,302\n",
      "Trainable params: 1,175,302\n",
      "Non-trainable params: 0\n",
      "__________________________________________________________________________________________________\n",
      "Filling replay memory\n"
     ]
    },
    {
     "name": "stderr",
     "output_type": "stream",
     "text": [
      "100%|████████████████████████████████████████████████████████████████████████▉| 24978/25000.0 [02:06<00:00, 198.00it/s]\n",
      "  0%|                                                                                       | 0/100000 [00:00<?, ?it/s]"
     ]
    },
    {
     "name": "stdout",
     "output_type": "stream",
     "text": [
      "Running  grid_image\n"
     ]
    },
    {
     "name": "stderr",
     "output_type": "stream",
     "text": [
      "\r",
      " 15%|██████████▊                                                              | 14830/100000 [00:08<00:46, 1822.35it/s]"
     ]
    },
    {
     "name": "stdout",
     "output_type": "stream",
     "text": [
      "self.evaluation_deque: deque([], maxlen=20)\n",
      "self.evaluation_deque: deque([], maxlen=20)\n",
      "self.evaluation_deque: deque([], maxlen=20)\n"
     ]
    },
    {
     "name": "stderr",
     "output_type": "stream",
     "text": [
      " 15%|███████████                                                               | 15010/100000 [00:24<02:54, 487.05it/s]"
     ]
    },
    {
     "name": "stdout",
     "output_type": "stream",
     "text": [
      "self.evaluation_deque: deque([], maxlen=20)\n"
     ]
    },
    {
     "name": "stderr",
     "output_type": "stream",
     "text": [
      "\r",
      " 15%|███████████▏                                                              | 15070/100000 [00:30<04:05, 345.89it/s]"
     ]
    },
    {
     "name": "stdout",
     "output_type": "stream",
     "text": [
      "self.get_collection_ratio(): 0.3476739096078762\n",
      "self.comms.count(True) : 0\n",
      "len(self.comms) : 2\n",
      "self.state.ratio_commed: 0.0\n",
      "self.comms.count(True) : 0\n",
      "len(self.comms) : 2\n",
      "self.evaluation_deque: deque([0.0], maxlen=20)\n",
      "self.evaluation_deque: deque([0.0], maxlen=20)\n"
     ]
    },
    {
     "name": "stderr",
     "output_type": "stream",
     "text": [
      "\r",
      " 15%|███████████▏                                                              | 15190/100000 [00:40<06:33, 215.65it/s]"
     ]
    },
    {
     "name": "stdout",
     "output_type": "stream",
     "text": [
      "self.evaluation_deque: deque([0.0], maxlen=20)\n"
     ]
    },
    {
     "name": "stderr",
     "output_type": "stream",
     "text": [
      "\r",
      " 15%|███████████▎                                                              | 15250/100000 [00:45<08:25, 167.72it/s]"
     ]
    },
    {
     "name": "stdout",
     "output_type": "stream",
     "text": [
      "self.evaluation_deque: deque([0.0], maxlen=20)\n"
     ]
    },
    {
     "name": "stderr",
     "output_type": "stream",
     "text": [
      "\r",
      " 15%|███████████▎                                                              | 15310/100000 [00:51<11:30, 122.57it/s]"
     ]
    },
    {
     "name": "stdout",
     "output_type": "stream",
     "text": [
      "self.evaluation_deque: deque([0.0], maxlen=20)\n"
     ]
    },
    {
     "name": "stderr",
     "output_type": "stream",
     "text": [
      "\r",
      " 15%|███████████▌                                                               | 15370/100000 [01:00<17:34, 80.24it/s]"
     ]
    },
    {
     "name": "stdout",
     "output_type": "stream",
     "text": [
      "self.get_collection_ratio(): 0.4105113282625462\n",
      "self.comms.count(True) : 0\n",
      "len(self.comms) : 3\n",
      "self.state.ratio_commed: 0.0\n",
      "self.comms.count(True) : 0\n",
      "len(self.comms) : 3\n",
      "self.evaluation_deque: deque([0.0, 0.0], maxlen=20)\n"
     ]
    },
    {
     "name": "stderr",
     "output_type": "stream",
     "text": [
      "\r",
      " 15%|███████████▌                                                               | 15446/100000 [01:07<23:13, 60.66it/s]"
     ]
    },
    {
     "name": "stdout",
     "output_type": "stream",
     "text": [
      "self.evaluation_deque: deque([0.0, 0.0], maxlen=20)\n"
     ]
    },
    {
     "name": "stderr",
     "output_type": "stream",
     "text": [
      "\r",
      " 16%|███████████▋                                                               | 15506/100000 [01:11<27:38, 50.93it/s]"
     ]
    },
    {
     "name": "stdout",
     "output_type": "stream",
     "text": [
      "self.evaluation_deque: deque([0.0, 0.0], maxlen=20)\n"
     ]
    },
    {
     "name": "stderr",
     "output_type": "stream",
     "text": [
      "\r",
      " 16%|███████████▋                                                               | 15566/100000 [01:16<33:10, 42.43it/s]"
     ]
    },
    {
     "name": "stdout",
     "output_type": "stream",
     "text": [
      "self.evaluation_deque: deque([0.0, 0.0], maxlen=20)\n"
     ]
    },
    {
     "name": "stderr",
     "output_type": "stream",
     "text": [
      "\r",
      " 16%|███████████▋                                                               | 15626/100000 [01:21<41:55, 33.54it/s]"
     ]
    },
    {
     "name": "stdout",
     "output_type": "stream",
     "text": [
      "self.evaluation_deque: deque([0.0, 0.0], maxlen=20)\n"
     ]
    },
    {
     "name": "stderr",
     "output_type": "stream",
     "text": [
      "\r",
      " 16%|███████████▊                                                               | 15686/100000 [01:28<56:26, 24.90it/s]"
     ]
    },
    {
     "name": "stdout",
     "output_type": "stream",
     "text": [
      "self.get_collection_ratio(): 0.5124147997170669\n",
      "self.comms.count(True) : 0\n",
      "len(self.comms) : 3\n",
      "self.state.ratio_commed: 0.0\n",
      "self.comms.count(True) : 0\n",
      "len(self.comms) : 3\n",
      "self.evaluation_deque: deque([0.0, 0.0, 0.0], maxlen=20)\n"
     ]
    },
    {
     "name": "stderr",
     "output_type": "stream",
     "text": [
      "\r",
      " 16%|███████████▍                                                             | 15746/100000 [01:34<1:09:31, 20.20it/s]"
     ]
    },
    {
     "name": "stdout",
     "output_type": "stream",
     "text": [
      "self.evaluation_deque: deque([0.0, 0.0, 0.0], maxlen=20)\n"
     ]
    },
    {
     "name": "stderr",
     "output_type": "stream",
     "text": [
      "\r",
      " 16%|███████████▌                                                             | 15806/100000 [01:39<1:15:07, 18.68it/s]"
     ]
    },
    {
     "name": "stdout",
     "output_type": "stream",
     "text": [
      "self.evaluation_deque: deque([0.0, 0.0, 0.0], maxlen=20)\n"
     ]
    },
    {
     "name": "stderr",
     "output_type": "stream",
     "text": [
      "\r",
      " 16%|███████████▌                                                             | 15866/100000 [01:44<1:24:43, 16.55it/s]"
     ]
    },
    {
     "name": "stdout",
     "output_type": "stream",
     "text": [
      "self.evaluation_deque: deque([0.0, 0.0, 0.0], maxlen=20)\n"
     ]
    },
    {
     "name": "stderr",
     "output_type": "stream",
     "text": [
      "\r",
      " 16%|███████████▋                                                             | 15926/100000 [01:50<1:38:14, 14.26it/s]"
     ]
    },
    {
     "name": "stdout",
     "output_type": "stream",
     "text": [
      "self.evaluation_deque: deque([0.0, 0.0, 0.0], maxlen=20)\n"
     ]
    },
    {
     "name": "stderr",
     "output_type": "stream",
     "text": [
      "\r",
      " 16%|███████████▋                                                             | 15986/100000 [01:57<1:55:16, 12.15it/s]"
     ]
    },
    {
     "name": "stdout",
     "output_type": "stream",
     "text": [
      "self.get_collection_ratio(): 0.3339435641440892\n",
      "self.comms.count(True) : 0\n",
      "len(self.comms) : 2\n",
      "self.state.ratio_commed: 0.0\n",
      "self.comms.count(True) : 0\n",
      "len(self.comms) : 2\n",
      "self.evaluation_deque: deque([0.0, 0.0, 0.0, 0.0], maxlen=20)\n"
     ]
    },
    {
     "name": "stderr",
     "output_type": "stream",
     "text": [
      "\r",
      " 16%|███████████▋                                                             | 16046/100000 [02:04<2:02:24, 11.43it/s]"
     ]
    },
    {
     "name": "stdout",
     "output_type": "stream",
     "text": [
      "self.evaluation_deque: deque([0.0, 0.0, 0.0, 0.0], maxlen=20)\n"
     ]
    },
    {
     "name": "stderr",
     "output_type": "stream",
     "text": [
      "\r",
      " 16%|███████████▊                                                             | 16106/100000 [02:09<2:02:30, 11.41it/s]"
     ]
    },
    {
     "name": "stdout",
     "output_type": "stream",
     "text": [
      "self.evaluation_deque: deque([0.0, 0.0, 0.0, 0.0], maxlen=20)\n"
     ]
    },
    {
     "name": "stderr",
     "output_type": "stream",
     "text": [
      "\r",
      " 16%|███████████▊                                                             | 16166/100000 [02:13<1:56:48, 11.96it/s]"
     ]
    },
    {
     "name": "stdout",
     "output_type": "stream",
     "text": [
      "self.evaluation_deque: deque([0.0, 0.0, 0.0, 0.0], maxlen=20)\n"
     ]
    },
    {
     "name": "stderr",
     "output_type": "stream",
     "text": [
      "\r",
      " 16%|███████████▊                                                             | 16242/100000 [02:21<2:05:08, 11.16it/s]"
     ]
    },
    {
     "name": "stdout",
     "output_type": "stream",
     "text": [
      "self.evaluation_deque: deque([0.0, 0.0, 0.0, 0.0], maxlen=20)\n"
     ]
    },
    {
     "name": "stderr",
     "output_type": "stream",
     "text": [
      "\r",
      " 16%|███████████▉                                                             | 16302/100000 [02:30<2:24:45,  9.64it/s]"
     ]
    },
    {
     "name": "stdout",
     "output_type": "stream",
     "text": [
      "self.get_collection_ratio(): 0.3633989520596557\n",
      "self.comms.count(True) : 0\n",
      "len(self.comms) : 2\n",
      "self.state.ratio_commed: 0.0\n",
      "self.comms.count(True) : 0\n",
      "len(self.comms) : 2\n",
      "self.evaluation_deque: deque([0.0, 0.0, 0.0, 0.0, 0.0], maxlen=20)\n"
     ]
    },
    {
     "name": "stderr",
     "output_type": "stream",
     "text": [
      "\r",
      " 16%|███████████▉                                                             | 16362/100000 [02:35<2:19:09, 10.02it/s]"
     ]
    },
    {
     "name": "stdout",
     "output_type": "stream",
     "text": [
      "self.evaluation_deque: deque([0.0, 0.0, 0.0, 0.0, 0.0], maxlen=20)\n"
     ]
    },
    {
     "name": "stderr",
     "output_type": "stream",
     "text": [
      "\r",
      " 16%|███████████▉                                                             | 16422/100000 [02:39<2:09:17, 10.77it/s]"
     ]
    },
    {
     "name": "stdout",
     "output_type": "stream",
     "text": [
      "self.evaluation_deque: deque([0.0, 0.0, 0.0, 0.0, 0.0], maxlen=20)\n"
     ]
    },
    {
     "name": "stderr",
     "output_type": "stream",
     "text": [
      "\r",
      " 16%|████████████                                                             | 16482/100000 [02:46<2:16:44, 10.18it/s]"
     ]
    },
    {
     "name": "stdout",
     "output_type": "stream",
     "text": [
      "self.evaluation_deque: deque([0.0, 0.0, 0.0, 0.0, 0.0], maxlen=20)\n"
     ]
    },
    {
     "name": "stderr",
     "output_type": "stream",
     "text": [
      "\r",
      " 17%|████████████                                                             | 16542/100000 [02:51<2:07:16, 10.93it/s]"
     ]
    },
    {
     "name": "stdout",
     "output_type": "stream",
     "text": [
      "self.evaluation_deque: deque([0.0, 0.0, 0.0, 0.0, 0.0], maxlen=20)\n"
     ]
    },
    {
     "name": "stderr",
     "output_type": "stream",
     "text": [
      "\r",
      " 17%|████████████                                                             | 16602/100000 [02:56<2:09:37, 10.72it/s]"
     ]
    },
    {
     "name": "stdout",
     "output_type": "stream",
     "text": [
      "self.get_collection_ratio(): 0.25470580745157245\n",
      "self.comms.count(True) : 0\n",
      "len(self.comms) : 1\n",
      "self.state.ratio_commed: 0.0\n",
      "self.comms.count(True) : 0\n",
      "len(self.comms) : 1\n",
      "self.evaluation_deque: deque([0.0, 0.0, 0.0, 0.0, 0.0, 0.0], maxlen=20)\n"
     ]
    },
    {
     "name": "stderr",
     "output_type": "stream",
     "text": [
      "\r",
      " 17%|████████████▏                                                            | 16662/100000 [03:03<2:15:15, 10.27it/s]"
     ]
    },
    {
     "name": "stdout",
     "output_type": "stream",
     "text": [
      "self.evaluation_deque: deque([0.0, 0.0, 0.0, 0.0, 0.0, 0.0], maxlen=20)\n"
     ]
    },
    {
     "name": "stderr",
     "output_type": "stream",
     "text": [
      "\r",
      " 17%|████████████▏                                                            | 16722/100000 [03:08<2:12:40, 10.46it/s]"
     ]
    },
    {
     "name": "stdout",
     "output_type": "stream",
     "text": [
      "self.evaluation_deque: deque([0.0, 0.0, 0.0, 0.0, 0.0, 0.0], maxlen=20)\n"
     ]
    },
    {
     "name": "stderr",
     "output_type": "stream",
     "text": [
      "\r",
      " 17%|████████████▎                                                            | 16782/100000 [03:13<2:04:09, 11.17it/s]"
     ]
    },
    {
     "name": "stdout",
     "output_type": "stream",
     "text": [
      "self.evaluation_deque: deque([0.0, 0.0, 0.0, 0.0, 0.0, 0.0], maxlen=20)\n"
     ]
    },
    {
     "name": "stderr",
     "output_type": "stream",
     "text": [
      "\r",
      " 17%|████████████▎                                                            | 16842/100000 [03:20<2:14:21, 10.32it/s]"
     ]
    },
    {
     "name": "stdout",
     "output_type": "stream",
     "text": [
      "self.evaluation_deque: deque([0.0, 0.0, 0.0, 0.0, 0.0, 0.0], maxlen=20)\n"
     ]
    },
    {
     "name": "stderr",
     "output_type": "stream",
     "text": [
      "\r",
      " 17%|████████████▎                                                            | 16902/100000 [03:26<2:15:03, 10.26it/s]"
     ]
    },
    {
     "name": "stdout",
     "output_type": "stream",
     "text": [
      "self.get_collection_ratio(): 0.22756479253580036\n",
      "self.comms.count(True) : 0\n",
      "len(self.comms) : 1\n",
      "self.state.ratio_commed: 0.0\n",
      "self.comms.count(True) : 0\n",
      "len(self.comms) : 1\n",
      "self.evaluation_deque: deque([0.0, 0.0, 0.0, 0.0, 0.0, 0.0, 0.0], maxlen=20)\n"
     ]
    },
    {
     "name": "stderr",
     "output_type": "stream",
     "text": [
      "\r",
      " 17%|████████████▍                                                            | 16962/100000 [03:30<2:06:37, 10.93it/s]"
     ]
    },
    {
     "name": "stdout",
     "output_type": "stream",
     "text": [
      "self.evaluation_deque: deque([0.0, 0.0, 0.0, 0.0, 0.0, 0.0, 0.0], maxlen=20)\n"
     ]
    },
    {
     "name": "stderr",
     "output_type": "stream",
     "text": [
      "\r",
      " 17%|████████████▍                                                            | 17022/100000 [03:36<2:05:27, 11.02it/s]"
     ]
    },
    {
     "name": "stdout",
     "output_type": "stream",
     "text": [
      "self.evaluation_deque: deque([0.0, 0.0, 0.0, 0.0, 0.0, 0.0, 0.0], maxlen=20)\n"
     ]
    },
    {
     "name": "stderr",
     "output_type": "stream",
     "text": [
      "\r",
      " 17%|████████████▍                                                            | 17098/100000 [03:43<2:10:34, 10.58it/s]"
     ]
    },
    {
     "name": "stdout",
     "output_type": "stream",
     "text": [
      "self.evaluation_deque: deque([0.0, 0.0, 0.0, 0.0, 0.0, 0.0, 0.0], maxlen=20)\n"
     ]
    },
    {
     "name": "stderr",
     "output_type": "stream",
     "text": [
      "\r",
      " 17%|████████████▌                                                            | 17158/100000 [03:49<2:11:31, 10.50it/s]"
     ]
    },
    {
     "name": "stdout",
     "output_type": "stream",
     "text": [
      "self.evaluation_deque: deque([0.0, 0.0, 0.0, 0.0, 0.0, 0.0, 0.0], maxlen=20)\n"
     ]
    },
    {
     "name": "stderr",
     "output_type": "stream",
     "text": [
      "\r",
      " 17%|████████████▌                                                            | 17218/100000 [03:57<2:23:30,  9.61it/s]"
     ]
    },
    {
     "name": "stdout",
     "output_type": "stream",
     "text": [
      "self.get_collection_ratio(): 0.23019881168188816\n",
      "self.comms.count(True) : 0\n",
      "len(self.comms) : 1\n",
      "self.state.ratio_commed: 0.0\n",
      "self.comms.count(True) : 0\n",
      "len(self.comms) : 1\n",
      "self.evaluation_deque: deque([0.0, 0.0, 0.0, 0.0, 0.0, 0.0, 0.0, 0.0], maxlen=20)\n"
     ]
    },
    {
     "name": "stderr",
     "output_type": "stream",
     "text": [
      "\r",
      " 17%|████████████▌                                                            | 17278/100000 [04:01<2:10:59, 10.53it/s]"
     ]
    },
    {
     "name": "stdout",
     "output_type": "stream",
     "text": [
      "self.evaluation_deque: deque([0.0, 0.0, 0.0, 0.0, 0.0, 0.0, 0.0, 0.0], maxlen=20)\n"
     ]
    },
    {
     "name": "stderr",
     "output_type": "stream",
     "text": [
      "\r",
      " 17%|████████████▋                                                            | 17338/100000 [04:06<2:08:19, 10.74it/s]"
     ]
    },
    {
     "name": "stdout",
     "output_type": "stream",
     "text": [
      "self.evaluation_deque: deque([0.0, 0.0, 0.0, 0.0, 0.0, 0.0, 0.0, 0.0], maxlen=20)\n"
     ]
    },
    {
     "name": "stderr",
     "output_type": "stream",
     "text": [
      "\r",
      " 17%|████████████▋                                                            | 17398/100000 [04:13<2:12:34, 10.38it/s]"
     ]
    },
    {
     "name": "stdout",
     "output_type": "stream",
     "text": [
      "self.evaluation_deque: deque([0.0, 0.0, 0.0, 0.0, 0.0, 0.0, 0.0, 0.0], maxlen=20)\n"
     ]
    },
    {
     "name": "stderr",
     "output_type": "stream",
     "text": [
      "\r",
      " 17%|████████████▋                                                            | 17458/100000 [04:17<2:02:48, 11.20it/s]"
     ]
    },
    {
     "name": "stdout",
     "output_type": "stream",
     "text": [
      "self.evaluation_deque: deque([0.0, 0.0, 0.0, 0.0, 0.0, 0.0, 0.0, 0.0], maxlen=20)\n"
     ]
    },
    {
     "name": "stderr",
     "output_type": "stream",
     "text": [
      "\r",
      " 18%|████████████▊                                                            | 17518/100000 [04:24<2:13:50, 10.27it/s]"
     ]
    },
    {
     "name": "stdout",
     "output_type": "stream",
     "text": [
      "self.get_collection_ratio(): 0.26123379710139366\n",
      "self.comms.count(True) : 0\n",
      "len(self.comms) : 1\n",
      "self.state.ratio_commed: 0.0\n",
      "self.comms.count(True) : 0\n",
      "len(self.comms) : 1\n",
      "self.evaluation_deque: deque([0.0, 0.0, 0.0, 0.0, 0.0, 0.0, 0.0, 0.0, 0.0], maxlen=20)\n"
     ]
    },
    {
     "name": "stderr",
     "output_type": "stream",
     "text": [
      "\r",
      " 18%|████████████▊                                                            | 17578/100000 [04:28<2:03:30, 11.12it/s]"
     ]
    },
    {
     "name": "stdout",
     "output_type": "stream",
     "text": [
      "self.evaluation_deque: deque([0.0, 0.0, 0.0, 0.0, 0.0, 0.0, 0.0, 0.0, 0.0], maxlen=20)\n"
     ]
    },
    {
     "name": "stderr",
     "output_type": "stream",
     "text": [
      "\r",
      " 18%|████████████▉                                                            | 17638/100000 [04:35<2:09:12, 10.62it/s]"
     ]
    },
    {
     "name": "stdout",
     "output_type": "stream",
     "text": [
      "self.evaluation_deque: deque([0.0, 0.0, 0.0, 0.0, 0.0, 0.0, 0.0, 0.0, 0.0], maxlen=20)\n"
     ]
    },
    {
     "name": "stderr",
     "output_type": "stream",
     "text": [
      "\r",
      " 18%|████████████▉                                                            | 17698/100000 [04:41<2:12:57, 10.32it/s]"
     ]
    },
    {
     "name": "stdout",
     "output_type": "stream",
     "text": [
      "self.evaluation_deque: deque([0.0, 0.0, 0.0, 0.0, 0.0, 0.0, 0.0, 0.0, 0.0], maxlen=20)\n"
     ]
    },
    {
     "name": "stderr",
     "output_type": "stream",
     "text": [
      "\r",
      " 18%|████████████▉                                                            | 17758/100000 [04:45<2:02:53, 11.15it/s]"
     ]
    },
    {
     "name": "stdout",
     "output_type": "stream",
     "text": [
      "self.evaluation_deque: deque([0.0, 0.0, 0.0, 0.0, 0.0, 0.0, 0.0, 0.0, 0.0], maxlen=20)\n"
     ]
    },
    {
     "name": "stderr",
     "output_type": "stream",
     "text": [
      "\r",
      " 18%|█████████████                                                            | 17818/100000 [04:53<2:18:12,  9.91it/s]"
     ]
    },
    {
     "name": "stdout",
     "output_type": "stream",
     "text": [
      "self.get_collection_ratio(): 0.29592881662312825\n",
      "self.comms.count(True) : 0\n",
      "len(self.comms) : 1\n",
      "self.state.ratio_commed: 0.0\n",
      "self.comms.count(True) : 0\n",
      "len(self.comms) : 1\n",
      "self.evaluation_deque: deque([0.0, 0.0, 0.0, 0.0, 0.0, 0.0, 0.0, 0.0, 0.0, 0.0], maxlen=20)\n"
     ]
    },
    {
     "name": "stderr",
     "output_type": "stream",
     "text": [
      "\r",
      " 18%|█████████████                                                            | 17878/100000 [04:59<2:22:10,  9.63it/s]"
     ]
    },
    {
     "name": "stdout",
     "output_type": "stream",
     "text": [
      "self.evaluation_deque: deque([0.0, 0.0, 0.0, 0.0, 0.0, 0.0, 0.0, 0.0, 0.0, 0.0], maxlen=20)\n"
     ]
    },
    {
     "name": "stderr",
     "output_type": "stream",
     "text": [
      "\r",
      " 18%|█████████████                                                            | 17938/100000 [05:05<2:15:49, 10.07it/s]"
     ]
    },
    {
     "name": "stdout",
     "output_type": "stream",
     "text": [
      "self.evaluation_deque: deque([0.0, 0.0, 0.0, 0.0, 0.0, 0.0, 0.0, 0.0, 0.0, 0.0], maxlen=20)\n"
     ]
    },
    {
     "name": "stderr",
     "output_type": "stream",
     "text": [
      "\r",
      " 18%|█████████████▏                                                           | 17998/100000 [05:09<2:04:46, 10.95it/s]"
     ]
    },
    {
     "name": "stdout",
     "output_type": "stream",
     "text": [
      "self.evaluation_deque: deque([0.0, 0.0, 0.0, 0.0, 0.0, 0.0, 0.0, 0.0, 0.0, 0.0], maxlen=20)\n"
     ]
    },
    {
     "name": "stderr",
     "output_type": "stream",
     "text": [
      "\r",
      " 18%|█████████████▏                                                           | 18058/100000 [05:15<2:10:19, 10.48it/s]"
     ]
    },
    {
     "name": "stdout",
     "output_type": "stream",
     "text": [
      "self.evaluation_deque: deque([0.0, 0.0, 0.0, 0.0, 0.0, 0.0, 0.0, 0.0, 0.0, 0.0], maxlen=20)\n"
     ]
    },
    {
     "name": "stderr",
     "output_type": "stream",
     "text": [
      "\r",
      " 18%|█████████████▏                                                           | 18118/100000 [05:21<2:11:32, 10.38it/s]"
     ]
    },
    {
     "name": "stdout",
     "output_type": "stream",
     "text": [
      "self.get_collection_ratio(): 0.24947986051737092\n",
      "self.comms.count(True) : 0\n",
      "len(self.comms) : 1\n",
      "self.state.ratio_commed: 0.0\n",
      "self.comms.count(True) : 0\n",
      "len(self.comms) : 1\n",
      "self.evaluation_deque: deque([0.0, 0.0, 0.0, 0.0, 0.0, 0.0, 0.0, 0.0, 0.0, 0.0, 0.0], maxlen=20)\n"
     ]
    },
    {
     "name": "stderr",
     "output_type": "stream",
     "text": [
      "\r",
      " 18%|█████████████▎                                                           | 18178/100000 [05:26<2:01:55, 11.18it/s]"
     ]
    },
    {
     "name": "stdout",
     "output_type": "stream",
     "text": [
      "self.evaluation_deque: deque([0.0, 0.0, 0.0, 0.0, 0.0, 0.0, 0.0, 0.0, 0.0, 0.0, 0.0], maxlen=20)\n"
     ]
    },
    {
     "name": "stderr",
     "output_type": "stream",
     "text": [
      "\r",
      " 18%|█████████████▎                                                           | 18238/100000 [05:31<2:02:41, 11.11it/s]"
     ]
    },
    {
     "name": "stdout",
     "output_type": "stream",
     "text": [
      "self.evaluation_deque: deque([0.0, 0.0, 0.0, 0.0, 0.0, 0.0, 0.0, 0.0, 0.0, 0.0, 0.0], maxlen=20)\n"
     ]
    },
    {
     "name": "stderr",
     "output_type": "stream",
     "text": [
      "\r",
      " 18%|█████████████▎                                                           | 18298/100000 [05:36<1:56:15, 11.71it/s]"
     ]
    },
    {
     "name": "stdout",
     "output_type": "stream",
     "text": [
      "self.evaluation_deque: deque([0.0, 0.0, 0.0, 0.0, 0.0, 0.0, 0.0, 0.0, 0.0, 0.0, 0.0], maxlen=20)\n"
     ]
    },
    {
     "name": "stderr",
     "output_type": "stream",
     "text": [
      "\r",
      " 18%|█████████████▍                                                           | 18358/100000 [05:40<1:51:34, 12.19it/s]"
     ]
    },
    {
     "name": "stdout",
     "output_type": "stream",
     "text": [
      "self.evaluation_deque: deque([0.0, 0.0, 0.0, 0.0, 0.0, 0.0, 0.0, 0.0, 0.0, 0.0, 0.0], maxlen=20)\n"
     ]
    },
    {
     "name": "stderr",
     "output_type": "stream",
     "text": [
      "\r",
      " 18%|█████████████▍                                                           | 18418/100000 [05:49<2:16:44,  9.94it/s]"
     ]
    },
    {
     "name": "stdout",
     "output_type": "stream",
     "text": [
      "self.get_collection_ratio(): 0.4871742561873778\n",
      "self.comms.count(True) : 0\n",
      "len(self.comms) : 3\n",
      "self.state.ratio_commed: 0.0\n",
      "self.comms.count(True) : 0\n",
      "len(self.comms) : 3\n",
      "self.evaluation_deque: deque([0.0, 0.0, 0.0, 0.0, 0.0, 0.0, 0.0, 0.0, 0.0, 0.0, 0.0, 0.0], maxlen=20)\n"
     ]
    },
    {
     "name": "stderr",
     "output_type": "stream",
     "text": [
      "\r",
      " 18%|█████████████▍                                                           | 18478/100000 [05:53<2:05:52, 10.79it/s]"
     ]
    },
    {
     "name": "stdout",
     "output_type": "stream",
     "text": [
      "self.evaluation_deque: deque([0.0, 0.0, 0.0, 0.0, 0.0, 0.0, 0.0, 0.0, 0.0, 0.0, 0.0, 0.0], maxlen=20)\n"
     ]
    },
    {
     "name": "stderr",
     "output_type": "stream",
     "text": [
      "\r",
      " 19%|█████████████▌                                                           | 18538/100000 [06:00<2:11:17, 10.34it/s]"
     ]
    },
    {
     "name": "stdout",
     "output_type": "stream",
     "text": [
      "self.evaluation_deque: deque([0.0, 0.0, 0.0, 0.0, 0.0, 0.0, 0.0, 0.0, 0.0, 0.0, 0.0, 0.0], maxlen=20)\n"
     ]
    },
    {
     "name": "stderr",
     "output_type": "stream",
     "text": [
      "\r",
      " 19%|█████████████▌                                                           | 18598/100000 [06:06<2:13:33, 10.16it/s]"
     ]
    },
    {
     "name": "stdout",
     "output_type": "stream",
     "text": [
      "self.evaluation_deque: deque([0.0, 0.0, 0.0, 0.0, 0.0, 0.0, 0.0, 0.0, 0.0, 0.0, 0.0, 0.0], maxlen=20)\n"
     ]
    },
    {
     "name": "stderr",
     "output_type": "stream",
     "text": [
      "\r",
      " 19%|█████████████▌                                                           | 18658/100000 [06:11<2:09:07, 10.50it/s]"
     ]
    },
    {
     "name": "stdout",
     "output_type": "stream",
     "text": [
      "self.evaluation_deque: deque([0.0, 0.0, 0.0, 0.0, 0.0, 0.0, 0.0, 0.0, 0.0, 0.0, 0.0, 0.0], maxlen=20)\n"
     ]
    },
    {
     "name": "stderr",
     "output_type": "stream",
     "text": [
      "\r",
      " 19%|█████████████▋                                                           | 18718/100000 [06:18<2:19:21,  9.72it/s]"
     ]
    },
    {
     "name": "stdout",
     "output_type": "stream",
     "text": [
      "self.get_collection_ratio(): 0.319481876500224\n",
      "self.comms.count(True) : 0\n",
      "len(self.comms) : 2\n",
      "self.state.ratio_commed: 0.0\n",
      "self.comms.count(True) : 0\n",
      "len(self.comms) : 2\n",
      "self.evaluation_deque: deque([0.0, 0.0, 0.0, 0.0, 0.0, 0.0, 0.0, 0.0, 0.0, 0.0, 0.0, 0.0, 0.0], maxlen=20)\n"
     ]
    },
    {
     "name": "stderr",
     "output_type": "stream",
     "text": [
      "\r",
      " 19%|█████████████▋                                                           | 18778/100000 [06:24<2:13:35, 10.13it/s]"
     ]
    },
    {
     "name": "stdout",
     "output_type": "stream",
     "text": [
      "self.evaluation_deque: deque([0.0, 0.0, 0.0, 0.0, 0.0, 0.0, 0.0, 0.0, 0.0, 0.0, 0.0, 0.0, 0.0], maxlen=20)\n"
     ]
    },
    {
     "name": "stderr",
     "output_type": "stream",
     "text": [
      "\r",
      " 19%|█████████████▊                                                           | 18838/100000 [06:30<2:19:57,  9.66it/s]"
     ]
    },
    {
     "name": "stdout",
     "output_type": "stream",
     "text": [
      "self.evaluation_deque: deque([0.0, 0.0, 0.0, 0.0, 0.0, 0.0, 0.0, 0.0, 0.0, 0.0, 0.0, 0.0, 0.0], maxlen=20)\n"
     ]
    },
    {
     "name": "stderr",
     "output_type": "stream",
     "text": [
      "\r",
      " 19%|█████████████▊                                                           | 18898/100000 [06:35<2:07:58, 10.56it/s]"
     ]
    },
    {
     "name": "stdout",
     "output_type": "stream",
     "text": [
      "self.evaluation_deque: deque([0.0, 0.0, 0.0, 0.0, 0.0, 0.0, 0.0, 0.0, 0.0, 0.0, 0.0, 0.0, 0.0], maxlen=20)\n"
     ]
    },
    {
     "name": "stderr",
     "output_type": "stream",
     "text": [
      "\r",
      " 19%|█████████████▊                                                           | 18958/100000 [06:40<2:04:59, 10.81it/s]"
     ]
    },
    {
     "name": "stdout",
     "output_type": "stream",
     "text": [
      "self.evaluation_deque: deque([0.0, 0.0, 0.0, 0.0, 0.0, 0.0, 0.0, 0.0, 0.0, 0.0, 0.0, 0.0, 0.0], maxlen=20)\n"
     ]
    },
    {
     "name": "stderr",
     "output_type": "stream",
     "text": [
      "\r",
      " 19%|█████████████▉                                                           | 19018/100000 [06:48<2:20:42,  9.59it/s]"
     ]
    },
    {
     "name": "stdout",
     "output_type": "stream",
     "text": [
      "self.get_collection_ratio(): 0.6012219052685158\n",
      "self.comms.count(True) : 0\n",
      "len(self.comms) : 3\n",
      "self.state.ratio_commed: 0.0\n",
      "self.comms.count(True) : 0\n",
      "len(self.comms) : 3\n",
      "self.evaluation_deque: deque([0.0, 0.0, 0.0, 0.0, 0.0, 0.0, 0.0, 0.0, 0.0, 0.0, 0.0, 0.0, 0.0, 0.0], maxlen=20)\n"
     ]
    },
    {
     "name": "stderr",
     "output_type": "stream",
     "text": [
      "\r",
      " 19%|█████████████▉                                                           | 19078/100000 [06:52<2:08:14, 10.52it/s]"
     ]
    },
    {
     "name": "stdout",
     "output_type": "stream",
     "text": [
      "self.evaluation_deque: deque([0.0, 0.0, 0.0, 0.0, 0.0, 0.0, 0.0, 0.0, 0.0, 0.0, 0.0, 0.0, 0.0, 0.0], maxlen=20)\n"
     ]
    },
    {
     "name": "stderr",
     "output_type": "stream",
     "text": [
      "\r",
      " 19%|█████████████▉                                                           | 19138/100000 [06:59<2:11:38, 10.24it/s]"
     ]
    },
    {
     "name": "stdout",
     "output_type": "stream",
     "text": [
      "self.evaluation_deque: deque([0.0, 0.0, 0.0, 0.0, 0.0, 0.0, 0.0, 0.0, 0.0, 0.0, 0.0, 0.0, 0.0, 0.0], maxlen=20)\n"
     ]
    },
    {
     "name": "stderr",
     "output_type": "stream",
     "text": [
      "\r",
      " 19%|██████████████                                                           | 19198/100000 [07:05<2:13:54, 10.06it/s]"
     ]
    },
    {
     "name": "stdout",
     "output_type": "stream",
     "text": [
      "self.evaluation_deque: deque([0.0, 0.0, 0.0, 0.0, 0.0, 0.0, 0.0, 0.0, 0.0, 0.0, 0.0, 0.0, 0.0, 0.0], maxlen=20)\n"
     ]
    },
    {
     "name": "stderr",
     "output_type": "stream",
     "text": [
      "\r",
      " 19%|██████████████                                                           | 19258/100000 [07:10<2:09:04, 10.43it/s]"
     ]
    },
    {
     "name": "stdout",
     "output_type": "stream",
     "text": [
      "self.evaluation_deque: deque([0.0, 0.0, 0.0, 0.0, 0.0, 0.0, 0.0, 0.0, 0.0, 0.0, 0.0, 0.0, 0.0, 0.0], maxlen=20)\n"
     ]
    },
    {
     "name": "stderr",
     "output_type": "stream",
     "text": [
      "\r",
      " 19%|██████████████                                                           | 19318/100000 [07:18<2:23:51,  9.35it/s]"
     ]
    },
    {
     "name": "stdout",
     "output_type": "stream",
     "text": [
      "self.get_collection_ratio(): 0.47330228058885143\n",
      "self.comms.count(True) : 0\n",
      "len(self.comms) : 2\n",
      "self.state.ratio_commed: 0.0\n",
      "self.comms.count(True) : 0\n",
      "len(self.comms) : 2\n",
      "self.evaluation_deque: deque([0.0, 0.0, 0.0, 0.0, 0.0, 0.0, 0.0, 0.0, 0.0, 0.0, 0.0, 0.0, 0.0, 0.0, 0.0], maxlen=20)\n"
     ]
    },
    {
     "name": "stderr",
     "output_type": "stream",
     "text": [
      "\r",
      " 19%|██████████████▏                                                          | 19378/100000 [07:23<2:10:14, 10.32it/s]"
     ]
    },
    {
     "name": "stdout",
     "output_type": "stream",
     "text": [
      "self.evaluation_deque: deque([0.0, 0.0, 0.0, 0.0, 0.0, 0.0, 0.0, 0.0, 0.0, 0.0, 0.0, 0.0, 0.0, 0.0, 0.0], maxlen=20)\n"
     ]
    },
    {
     "name": "stderr",
     "output_type": "stream",
     "text": [
      "\r",
      " 19%|██████████████▏                                                          | 19438/100000 [07:29<2:12:44, 10.12it/s]"
     ]
    },
    {
     "name": "stdout",
     "output_type": "stream",
     "text": [
      "self.evaluation_deque: deque([0.0, 0.0, 0.0, 0.0, 0.0, 0.0, 0.0, 0.0, 0.0, 0.0, 0.0, 0.0, 0.0, 0.0, 0.0], maxlen=20)\n"
     ]
    },
    {
     "name": "stderr",
     "output_type": "stream",
     "text": [
      "\r",
      " 19%|██████████████▏                                                          | 19498/100000 [07:33<2:02:16, 10.97it/s]"
     ]
    },
    {
     "name": "stdout",
     "output_type": "stream",
     "text": [
      "self.evaluation_deque: deque([0.0, 0.0, 0.0, 0.0, 0.0, 0.0, 0.0, 0.0, 0.0, 0.0, 0.0, 0.0, 0.0, 0.0, 0.0], maxlen=20)\n"
     ]
    },
    {
     "name": "stderr",
     "output_type": "stream",
     "text": [
      "\r",
      " 20%|██████████████▎                                                          | 19558/100000 [07:38<1:54:57, 11.66it/s]"
     ]
    },
    {
     "name": "stdout",
     "output_type": "stream",
     "text": [
      "self.evaluation_deque: deque([0.0, 0.0, 0.0, 0.0, 0.0, 0.0, 0.0, 0.0, 0.0, 0.0, 0.0, 0.0, 0.0, 0.0, 0.0], maxlen=20)\n"
     ]
    },
    {
     "name": "stderr",
     "output_type": "stream",
     "text": [
      "\r",
      " 20%|██████████████▎                                                          | 19618/100000 [07:45<2:08:45, 10.40it/s]"
     ]
    },
    {
     "name": "stdout",
     "output_type": "stream",
     "text": [
      "self.get_collection_ratio(): 0.5251199351994535\n",
      "self.comms.count(True) : 0\n",
      "len(self.comms) : 2\n",
      "self.state.ratio_commed: 0.0\n",
      "self.comms.count(True) : 0\n",
      "len(self.comms) : 2\n",
      "self.evaluation_deque: deque([0.0, 0.0, 0.0, 0.0, 0.0, 0.0, 0.0, 0.0, 0.0, 0.0, 0.0, 0.0, 0.0, 0.0, 0.0, 0.0], maxlen=20)\n"
     ]
    },
    {
     "name": "stderr",
     "output_type": "stream",
     "text": [
      "\r",
      " 20%|██████████████▎                                                          | 19678/100000 [07:49<1:59:31, 11.20it/s]"
     ]
    },
    {
     "name": "stdout",
     "output_type": "stream",
     "text": [
      "self.evaluation_deque: deque([0.0, 0.0, 0.0, 0.0, 0.0, 0.0, 0.0, 0.0, 0.0, 0.0, 0.0, 0.0, 0.0, 0.0, 0.0, 0.0], maxlen=20)\n"
     ]
    },
    {
     "name": "stderr",
     "output_type": "stream",
     "text": [
      "\r",
      " 20%|██████████████▍                                                          | 19738/100000 [07:55<2:05:02, 10.70it/s]"
     ]
    },
    {
     "name": "stdout",
     "output_type": "stream",
     "text": [
      "self.evaluation_deque: deque([0.0, 0.0, 0.0, 0.0, 0.0, 0.0, 0.0, 0.0, 0.0, 0.0, 0.0, 0.0, 0.0, 0.0, 0.0, 0.0], maxlen=20)\n"
     ]
    },
    {
     "name": "stderr",
     "output_type": "stream",
     "text": [
      "\r",
      " 20%|██████████████▍                                                          | 19798/100000 [08:00<1:56:28, 11.48it/s]"
     ]
    },
    {
     "name": "stdout",
     "output_type": "stream",
     "text": [
      "self.evaluation_deque: deque([0.0, 0.0, 0.0, 0.0, 0.0, 0.0, 0.0, 0.0, 0.0, 0.0, 0.0, 0.0, 0.0, 0.0, 0.0, 0.0], maxlen=20)\n"
     ]
    },
    {
     "name": "stderr",
     "output_type": "stream",
     "text": [
      "\r",
      " 20%|██████████████▍                                                          | 19858/100000 [08:06<2:02:41, 10.89it/s]"
     ]
    },
    {
     "name": "stdout",
     "output_type": "stream",
     "text": [
      "self.evaluation_deque: deque([0.0, 0.0, 0.0, 0.0, 0.0, 0.0, 0.0, 0.0, 0.0, 0.0, 0.0, 0.0, 0.0, 0.0, 0.0, 0.0], maxlen=20)\n"
     ]
    },
    {
     "name": "stderr",
     "output_type": "stream",
     "text": [
      "\r",
      " 20%|██████████████▌                                                          | 19918/100000 [08:14<2:23:14,  9.32it/s]"
     ]
    },
    {
     "name": "stdout",
     "output_type": "stream",
     "text": [
      "self.get_collection_ratio(): 0.44726457730109304\n",
      "self.comms.count(True) : 0\n",
      "len(self.comms) : 3\n",
      "self.state.ratio_commed: 0.0\n",
      "self.comms.count(True) : 0\n",
      "len(self.comms) : 3\n",
      "self.evaluation_deque: deque([0.0, 0.0, 0.0, 0.0, 0.0, 0.0, 0.0, 0.0, 0.0, 0.0, 0.0, 0.0, 0.0, 0.0, 0.0, 0.0, 0.0], maxlen=20)\n"
     ]
    },
    {
     "name": "stderr",
     "output_type": "stream",
     "text": [
      "\r",
      " 20%|██████████████▌                                                          | 19978/100000 [08:21<2:21:31,  9.42it/s]"
     ]
    },
    {
     "name": "stdout",
     "output_type": "stream",
     "text": [
      "self.evaluation_deque: deque([0.0, 0.0, 0.0, 0.0, 0.0, 0.0, 0.0, 0.0, 0.0, 0.0, 0.0, 0.0, 0.0, 0.0, 0.0, 0.0, 0.0], maxlen=20)\n"
     ]
    },
    {
     "name": "stderr",
     "output_type": "stream",
     "text": [
      "\r",
      " 20%|██████████████▋                                                          | 20038/100000 [08:27<2:20:07,  9.51it/s]"
     ]
    },
    {
     "name": "stdout",
     "output_type": "stream",
     "text": [
      "self.evaluation_deque: deque([0.0, 0.0, 0.0, 0.0, 0.0, 0.0, 0.0, 0.0, 0.0, 0.0, 0.0, 0.0, 0.0, 0.0, 0.0, 0.0, 0.0], maxlen=20)\n"
     ]
    },
    {
     "name": "stderr",
     "output_type": "stream",
     "text": [
      "\r",
      " 20%|██████████████▋                                                          | 20098/100000 [08:31<2:07:03, 10.48it/s]"
     ]
    },
    {
     "name": "stdout",
     "output_type": "stream",
     "text": [
      "self.evaluation_deque: deque([0.0, 0.0, 0.0, 0.0, 0.0, 0.0, 0.0, 0.0, 0.0, 0.0, 0.0, 0.0, 0.0, 0.0, 0.0, 0.0, 0.0], maxlen=20)\n"
     ]
    },
    {
     "name": "stderr",
     "output_type": "stream",
     "text": [
      "\r",
      " 20%|██████████████▋                                                          | 20158/100000 [08:37<2:10:37, 10.19it/s]"
     ]
    },
    {
     "name": "stdout",
     "output_type": "stream",
     "text": [
      "self.evaluation_deque: deque([0.0, 0.0, 0.0, 0.0, 0.0, 0.0, 0.0, 0.0, 0.0, 0.0, 0.0, 0.0, 0.0, 0.0, 0.0, 0.0, 0.0], maxlen=20)\n"
     ]
    },
    {
     "name": "stderr",
     "output_type": "stream",
     "text": [
      "\r",
      " 20%|██████████████▊                                                          | 20218/100000 [08:44<2:17:37,  9.66it/s]"
     ]
    },
    {
     "name": "stdout",
     "output_type": "stream",
     "text": [
      "self.get_collection_ratio(): 0.5509329084579457\n",
      "self.comms.count(True) : 0\n",
      "len(self.comms) : 3\n",
      "self.state.ratio_commed: 0.0\n",
      "self.comms.count(True) : 0\n",
      "len(self.comms) : 3\n",
      "self.evaluation_deque: deque([0.0, 0.0, 0.0, 0.0, 0.0, 0.0, 0.0, 0.0, 0.0, 0.0, 0.0, 0.0, 0.0, 0.0, 0.0, 0.0, 0.0, 0.0], maxlen=20)\n"
     ]
    },
    {
     "name": "stderr",
     "output_type": "stream",
     "text": [
      "\r",
      " 20%|██████████████▊                                                          | 20278/100000 [08:50<2:11:34, 10.10it/s]"
     ]
    },
    {
     "name": "stdout",
     "output_type": "stream",
     "text": [
      "self.evaluation_deque: deque([0.0, 0.0, 0.0, 0.0, 0.0, 0.0, 0.0, 0.0, 0.0, 0.0, 0.0, 0.0, 0.0, 0.0, 0.0, 0.0, 0.0, 0.0], maxlen=20)\n"
     ]
    },
    {
     "name": "stderr",
     "output_type": "stream",
     "text": [
      "\r",
      " 20%|██████████████▊                                                          | 20354/100000 [08:58<2:15:30,  9.80it/s]"
     ]
    },
    {
     "name": "stdout",
     "output_type": "stream",
     "text": [
      "self.evaluation_deque: deque([0.0, 0.0, 0.0, 0.0, 0.0, 0.0, 0.0, 0.0, 0.0, 0.0, 0.0, 0.0, 0.0, 0.0, 0.0, 0.0, 0.0, 0.0], maxlen=20)\n"
     ]
    },
    {
     "name": "stderr",
     "output_type": "stream",
     "text": [
      "\r",
      " 20%|██████████████▉                                                          | 20414/100000 [09:02<2:04:18, 10.67it/s]"
     ]
    },
    {
     "name": "stdout",
     "output_type": "stream",
     "text": [
      "self.evaluation_deque: deque([0.0, 0.0, 0.0, 0.0, 0.0, 0.0, 0.0, 0.0, 0.0, 0.0, 0.0, 0.0, 0.0, 0.0, 0.0, 0.0, 0.0, 0.0], maxlen=20)\n"
     ]
    },
    {
     "name": "stderr",
     "output_type": "stream",
     "text": [
      "\r",
      " 20%|██████████████▉                                                          | 20474/100000 [09:08<2:02:22, 10.83it/s]"
     ]
    },
    {
     "name": "stdout",
     "output_type": "stream",
     "text": [
      "self.evaluation_deque: deque([0.0, 0.0, 0.0, 0.0, 0.0, 0.0, 0.0, 0.0, 0.0, 0.0, 0.0, 0.0, 0.0, 0.0, 0.0, 0.0, 0.0, 0.0], maxlen=20)\n"
     ]
    },
    {
     "name": "stderr",
     "output_type": "stream",
     "text": [
      "\r",
      " 21%|███████████████                                                          | 20550/100000 [09:16<2:08:39, 10.29it/s]"
     ]
    },
    {
     "name": "stdout",
     "output_type": "stream",
     "text": [
      "self.get_collection_ratio(): 0.6370202751140923\n",
      "self.comms.count(True) : 0\n",
      "len(self.comms) : 3\n",
      "self.state.ratio_commed: 0.0\n",
      "self.comms.count(True) : 0\n",
      "len(self.comms) : 3\n",
      "self.evaluation_deque: deque([0.0, 0.0, 0.0, 0.0, 0.0, 0.0, 0.0, 0.0, 0.0, 0.0, 0.0, 0.0, 0.0, 0.0, 0.0, 0.0, 0.0, 0.0, 0.0], maxlen=20)\n"
     ]
    },
    {
     "name": "stderr",
     "output_type": "stream",
     "text": [
      "\r",
      " 21%|███████████████                                                          | 20610/100000 [09:21<2:05:42, 10.53it/s]"
     ]
    },
    {
     "name": "stdout",
     "output_type": "stream",
     "text": [
      "self.evaluation_deque: deque([0.0, 0.0, 0.0, 0.0, 0.0, 0.0, 0.0, 0.0, 0.0, 0.0, 0.0, 0.0, 0.0, 0.0, 0.0, 0.0, 0.0, 0.0, 0.0], maxlen=20)\n"
     ]
    },
    {
     "name": "stderr",
     "output_type": "stream",
     "text": [
      "\r",
      " 21%|███████████████                                                          | 20670/100000 [09:27<2:08:52, 10.26it/s]"
     ]
    },
    {
     "name": "stdout",
     "output_type": "stream",
     "text": [
      "self.evaluation_deque: deque([0.0, 0.0, 0.0, 0.0, 0.0, 0.0, 0.0, 0.0, 0.0, 0.0, 0.0, 0.0, 0.0, 0.0, 0.0, 0.0, 0.0, 0.0, 0.0], maxlen=20)\n"
     ]
    },
    {
     "name": "stderr",
     "output_type": "stream",
     "text": [
      "\r",
      " 21%|███████████████▏                                                         | 20730/100000 [09:34<2:11:03, 10.08it/s]"
     ]
    },
    {
     "name": "stdout",
     "output_type": "stream",
     "text": [
      "self.evaluation_deque: deque([0.0, 0.0, 0.0, 0.0, 0.0, 0.0, 0.0, 0.0, 0.0, 0.0, 0.0, 0.0, 0.0, 0.0, 0.0, 0.0, 0.0, 0.0, 0.0], maxlen=20)\n"
     ]
    },
    {
     "name": "stderr",
     "output_type": "stream",
     "text": [
      "\r",
      " 21%|███████████████▏                                                         | 20790/100000 [09:40<2:12:30,  9.96it/s]"
     ]
    },
    {
     "name": "stdout",
     "output_type": "stream",
     "text": [
      "self.evaluation_deque: deque([0.0, 0.0, 0.0, 0.0, 0.0, 0.0, 0.0, 0.0, 0.0, 0.0, 0.0, 0.0, 0.0, 0.0, 0.0, 0.0, 0.0, 0.0, 0.0], maxlen=20)\n"
     ]
    },
    {
     "name": "stderr",
     "output_type": "stream",
     "text": [
      "\r",
      " 21%|███████████████▏                                                         | 20850/100000 [09:46<2:16:12,  9.68it/s]"
     ]
    },
    {
     "name": "stdout",
     "output_type": "stream",
     "text": [
      "self.get_collection_ratio(): 0.5264804743974492\n",
      "self.comms.count(True) : 0\n",
      "len(self.comms) : 2\n",
      "self.state.ratio_commed: 0.0\n",
      "self.comms.count(True) : 0\n",
      "len(self.comms) : 2\n",
      "self.evaluation_deque: deque([0.0, 0.0, 0.0, 0.0, 0.0, 0.0, 0.0, 0.0, 0.0, 0.0, 0.0, 0.0, 0.0, 0.0, 0.0, 0.0, 0.0, 0.0, 0.0, 0.0], maxlen=20)\n",
      "eval_mean: 0.0\n",
      "Saving best with: 0.0\n"
     ]
    },
    {
     "name": "stderr",
     "output_type": "stream",
     "text": [
      "\r",
      " 21%|███████████████▎                                                         | 20910/100000 [09:51<2:04:44, 10.57it/s]"
     ]
    },
    {
     "name": "stdout",
     "output_type": "stream",
     "text": [
      "self.evaluation_deque: deque([0.0, 0.0, 0.0, 0.0, 0.0, 0.0, 0.0, 0.0, 0.0, 0.0, 0.0, 0.0, 0.0, 0.0, 0.0, 0.0, 0.0, 0.0, 0.0, 0.0], maxlen=20)\n",
      "eval_mean: 0.0\n"
     ]
    },
    {
     "name": "stderr",
     "output_type": "stream",
     "text": [
      "\r",
      " 21%|███████████████▎                                                         | 20970/100000 [09:55<1:55:57, 11.36it/s]"
     ]
    },
    {
     "name": "stdout",
     "output_type": "stream",
     "text": [
      "self.evaluation_deque: deque([0.0, 0.0, 0.0, 0.0, 0.0, 0.0, 0.0, 0.0, 0.0, 0.0, 0.0, 0.0, 0.0, 0.0, 0.0, 0.0, 0.0, 0.0, 0.0, 0.0], maxlen=20)\n",
      "eval_mean: 0.0\n"
     ]
    },
    {
     "name": "stderr",
     "output_type": "stream",
     "text": [
      "\r",
      " 21%|███████████████▎                                                         | 21030/100000 [10:00<1:50:22, 11.93it/s]"
     ]
    },
    {
     "name": "stdout",
     "output_type": "stream",
     "text": [
      "self.evaluation_deque: deque([0.0, 0.0, 0.0, 0.0, 0.0, 0.0, 0.0, 0.0, 0.0, 0.0, 0.0, 0.0, 0.0, 0.0, 0.0, 0.0, 0.0, 0.0, 0.0, 0.0], maxlen=20)\n",
      "eval_mean: 0.0\n"
     ]
    },
    {
     "name": "stderr",
     "output_type": "stream",
     "text": [
      "\r",
      " 21%|███████████████▍                                                         | 21090/100000 [10:04<1:46:38, 12.33it/s]"
     ]
    },
    {
     "name": "stdout",
     "output_type": "stream",
     "text": [
      "self.evaluation_deque: deque([0.0, 0.0, 0.0, 0.0, 0.0, 0.0, 0.0, 0.0, 0.0, 0.0, 0.0, 0.0, 0.0, 0.0, 0.0, 0.0, 0.0, 0.0, 0.0, 0.0], maxlen=20)\n",
      "eval_mean: 0.0\n"
     ]
    },
    {
     "name": "stderr",
     "output_type": "stream",
     "text": [
      "\r",
      " 21%|███████████████▍                                                         | 21166/100000 [10:15<2:17:25,  9.56it/s]"
     ]
    },
    {
     "name": "stdout",
     "output_type": "stream",
     "text": [
      "self.get_collection_ratio(): 0.6905996133354568\n",
      "self.comms.count(True) : 0\n",
      "len(self.comms) : 3\n",
      "self.state.ratio_commed: 0.0\n",
      "self.comms.count(True) : 0\n",
      "len(self.comms) : 3\n",
      "self.evaluation_deque: deque([0.0, 0.0, 0.0, 0.0, 0.0, 0.0, 0.0, 0.0, 0.0, 0.0, 0.0, 0.0, 0.0, 0.0, 0.0, 0.0, 0.0, 0.0, 0.0, 0.0], maxlen=20)\n",
      "eval_mean: 0.0\n"
     ]
    },
    {
     "name": "stderr",
     "output_type": "stream",
     "text": [
      "\r",
      " 21%|███████████████▍                                                         | 21226/100000 [10:22<2:17:35,  9.54it/s]"
     ]
    },
    {
     "name": "stdout",
     "output_type": "stream",
     "text": [
      "self.evaluation_deque: deque([0.0, 0.0, 0.0, 0.0, 0.0, 0.0, 0.0, 0.0, 0.0, 0.0, 0.0, 0.0, 0.0, 0.0, 0.0, 0.0, 0.0, 0.0, 0.0, 0.0], maxlen=20)\n",
      "eval_mean: 0.0\n"
     ]
    },
    {
     "name": "stderr",
     "output_type": "stream",
     "text": [
      "\r",
      " 21%|███████████████▌                                                         | 21286/100000 [10:27<2:11:41,  9.96it/s]"
     ]
    },
    {
     "name": "stdout",
     "output_type": "stream",
     "text": [
      "self.evaluation_deque: deque([0.0, 0.0, 0.0, 0.0, 0.0, 0.0, 0.0, 0.0, 0.0, 0.0, 0.0, 0.0, 0.0, 0.0, 0.0, 0.0, 0.0, 0.0, 0.0, 0.0], maxlen=20)\n",
      "eval_mean: 0.0\n"
     ]
    },
    {
     "name": "stderr",
     "output_type": "stream",
     "text": [
      "\r",
      " 21%|███████████████▌                                                         | 21362/100000 [10:34<2:05:03, 10.48it/s]"
     ]
    },
    {
     "name": "stdout",
     "output_type": "stream",
     "text": [
      "self.evaluation_deque: deque([0.0, 0.0, 0.0, 0.0, 0.0, 0.0, 0.0, 0.0, 0.0, 0.0, 0.0, 0.0, 0.0, 0.0, 0.0, 0.0, 0.0, 0.0, 0.0, 0.0], maxlen=20)\n",
      "eval_mean: 0.0\n"
     ]
    },
    {
     "name": "stderr",
     "output_type": "stream",
     "text": [
      "\r",
      " 21%|███████████████▋                                                         | 21422/100000 [10:39<2:02:34, 10.68it/s]"
     ]
    },
    {
     "name": "stdout",
     "output_type": "stream",
     "text": [
      "self.evaluation_deque: deque([0.0, 0.0, 0.0, 0.0, 0.0, 0.0, 0.0, 0.0, 0.0, 0.0, 0.0, 0.0, 0.0, 0.0, 0.0, 0.0, 0.0, 0.0, 0.0, 0.0], maxlen=20)\n",
      "eval_mean: 0.0\n"
     ]
    },
    {
     "name": "stderr",
     "output_type": "stream",
     "text": [
      "\r",
      " 21%|███████████████▋                                                         | 21482/100000 [10:45<2:05:18, 10.44it/s]"
     ]
    },
    {
     "name": "stdout",
     "output_type": "stream",
     "text": [
      "self.get_collection_ratio(): 0.33934977991579635\n",
      "self.comms.count(True) : 1\n",
      "len(self.comms) : 1\n",
      "self.state.ratio_commed: 1.0\n",
      "self.comms.count(True) : 1\n",
      "len(self.comms) : 1\n",
      "self.evaluation_deque: deque([0.0, 0.0, 0.0, 0.0, 0.0, 0.0, 0.0, 0.0, 0.0, 0.0, 0.0, 0.0, 0.0, 0.0, 0.0, 0.0, 0.0, 0.0, 0.0, 0.33934977991579635], maxlen=20)\n",
      "eval_mean: 0.016967488995789818\n",
      "Saving best with: 0.016967488995789818\n"
     ]
    },
    {
     "name": "stderr",
     "output_type": "stream",
     "text": [
      "\r",
      " 22%|███████████████▋                                                         | 21542/100000 [10:49<1:57:29, 11.13it/s]"
     ]
    },
    {
     "name": "stdout",
     "output_type": "stream",
     "text": [
      "self.evaluation_deque: deque([0.0, 0.0, 0.0, 0.0, 0.0, 0.0, 0.0, 0.0, 0.0, 0.0, 0.0, 0.0, 0.0, 0.0, 0.0, 0.0, 0.0, 0.0, 0.0, 0.33934977991579635], maxlen=20)\n",
      "eval_mean: 0.016967488995789818\n"
     ]
    },
    {
     "name": "stderr",
     "output_type": "stream",
     "text": [
      "\r",
      " 22%|███████████████▊                                                         | 21618/100000 [10:57<2:00:56, 10.80it/s]"
     ]
    },
    {
     "name": "stdout",
     "output_type": "stream",
     "text": [
      "self.evaluation_deque: deque([0.0, 0.0, 0.0, 0.0, 0.0, 0.0, 0.0, 0.0, 0.0, 0.0, 0.0, 0.0, 0.0, 0.0, 0.0, 0.0, 0.0, 0.0, 0.0, 0.33934977991579635], maxlen=20)\n",
      "eval_mean: 0.016967488995789818\n"
     ]
    },
    {
     "name": "stderr",
     "output_type": "stream",
     "text": [
      "\r",
      " 22%|███████████████▊                                                         | 21678/100000 [11:02<2:00:56, 10.79it/s]"
     ]
    },
    {
     "name": "stdout",
     "output_type": "stream",
     "text": [
      "self.evaluation_deque: deque([0.0, 0.0, 0.0, 0.0, 0.0, 0.0, 0.0, 0.0, 0.0, 0.0, 0.0, 0.0, 0.0, 0.0, 0.0, 0.0, 0.0, 0.0, 0.0, 0.33934977991579635], maxlen=20)\n",
      "eval_mean: 0.016967488995789818\n"
     ]
    },
    {
     "name": "stderr",
     "output_type": "stream",
     "text": [
      "\r",
      " 22%|███████████████▊                                                         | 21738/100000 [11:07<1:54:26, 11.40it/s]"
     ]
    },
    {
     "name": "stdout",
     "output_type": "stream",
     "text": [
      "self.evaluation_deque: deque([0.0, 0.0, 0.0, 0.0, 0.0, 0.0, 0.0, 0.0, 0.0, 0.0, 0.0, 0.0, 0.0, 0.0, 0.0, 0.0, 0.0, 0.0, 0.0, 0.33934977991579635], maxlen=20)\n",
      "eval_mean: 0.016967488995789818\n"
     ]
    },
    {
     "name": "stderr",
     "output_type": "stream",
     "text": [
      "\r",
      " 22%|███████████████▉                                                         | 21798/100000 [11:16<2:19:24,  9.35it/s]"
     ]
    },
    {
     "name": "stdout",
     "output_type": "stream",
     "text": [
      "self.get_collection_ratio(): 0.389461249595306\n",
      "self.comms.count(True) : 1\n",
      "len(self.comms) : 1\n",
      "self.state.ratio_commed: 1.0\n",
      "self.comms.count(True) : 1\n",
      "len(self.comms) : 1\n",
      "self.evaluation_deque: deque([0.0, 0.0, 0.0, 0.0, 0.0, 0.0, 0.0, 0.0, 0.0, 0.0, 0.0, 0.0, 0.0, 0.0, 0.0, 0.0, 0.0, 0.0, 0.33934977991579635, 0.389461249595306], maxlen=20)\n",
      "eval_mean: 0.03644055147555512\n",
      "Saving best with: 0.03644055147555512\n"
     ]
    },
    {
     "name": "stderr",
     "output_type": "stream",
     "text": [
      "\r",
      " 22%|███████████████▉                                                         | 21874/100000 [11:22<2:05:31, 10.37it/s]"
     ]
    },
    {
     "name": "stdout",
     "output_type": "stream",
     "text": [
      "self.evaluation_deque: deque([0.0, 0.0, 0.0, 0.0, 0.0, 0.0, 0.0, 0.0, 0.0, 0.0, 0.0, 0.0, 0.0, 0.0, 0.0, 0.0, 0.0, 0.0, 0.33934977991579635, 0.389461249595306], maxlen=20)\n",
      "eval_mean: 0.03644055147555512\n"
     ]
    },
    {
     "name": "stderr",
     "output_type": "stream",
     "text": [
      "\r",
      " 22%|████████████████                                                         | 21934/100000 [11:28<2:05:10, 10.39it/s]"
     ]
    },
    {
     "name": "stdout",
     "output_type": "stream",
     "text": [
      "self.evaluation_deque: deque([0.0, 0.0, 0.0, 0.0, 0.0, 0.0, 0.0, 0.0, 0.0, 0.0, 0.0, 0.0, 0.0, 0.0, 0.0, 0.0, 0.0, 0.0, 0.33934977991579635, 0.389461249595306], maxlen=20)\n",
      "eval_mean: 0.03644055147555512\n"
     ]
    },
    {
     "name": "stderr",
     "output_type": "stream",
     "text": [
      "\r",
      " 22%|████████████████                                                         | 21994/100000 [11:32<1:58:05, 11.01it/s]"
     ]
    },
    {
     "name": "stdout",
     "output_type": "stream",
     "text": [
      "self.evaluation_deque: deque([0.0, 0.0, 0.0, 0.0, 0.0, 0.0, 0.0, 0.0, 0.0, 0.0, 0.0, 0.0, 0.0, 0.0, 0.0, 0.0, 0.0, 0.0, 0.33934977991579635, 0.389461249595306], maxlen=20)\n",
      "eval_mean: 0.03644055147555512\n"
     ]
    },
    {
     "name": "stderr",
     "output_type": "stream",
     "text": [
      "\r",
      " 22%|████████████████                                                         | 22054/100000 [11:39<2:06:02, 10.31it/s]"
     ]
    },
    {
     "name": "stdout",
     "output_type": "stream",
     "text": [
      "self.evaluation_deque: deque([0.0, 0.0, 0.0, 0.0, 0.0, 0.0, 0.0, 0.0, 0.0, 0.0, 0.0, 0.0, 0.0, 0.0, 0.0, 0.0, 0.0, 0.0, 0.33934977991579635, 0.389461249595306], maxlen=20)\n",
      "eval_mean: 0.03644055147555512\n"
     ]
    },
    {
     "name": "stderr",
     "output_type": "stream",
     "text": [
      "\r",
      " 22%|████████████████▏                                                        | 22130/100000 [11:48<2:11:59,  9.83it/s]"
     ]
    },
    {
     "name": "stdout",
     "output_type": "stream",
     "text": [
      "self.get_collection_ratio(): 0.6446714952021946\n",
      "self.comms.count(True) : 0\n",
      "len(self.comms) : 3\n",
      "self.state.ratio_commed: 0.0\n",
      "self.comms.count(True) : 0\n",
      "len(self.comms) : 3\n",
      "self.evaluation_deque: deque([0.0, 0.0, 0.0, 0.0, 0.0, 0.0, 0.0, 0.0, 0.0, 0.0, 0.0, 0.0, 0.0, 0.0, 0.0, 0.0, 0.0, 0.33934977991579635, 0.389461249595306, 0.0], maxlen=20)\n",
      "eval_mean: 0.03644055147555512\n"
     ]
    },
    {
     "name": "stderr",
     "output_type": "stream",
     "text": [
      "\r",
      " 22%|████████████████▏                                                        | 22190/100000 [11:54<2:13:27,  9.72it/s]"
     ]
    },
    {
     "name": "stdout",
     "output_type": "stream",
     "text": [
      "self.evaluation_deque: deque([0.0, 0.0, 0.0, 0.0, 0.0, 0.0, 0.0, 0.0, 0.0, 0.0, 0.0, 0.0, 0.0, 0.0, 0.0, 0.0, 0.0, 0.33934977991579635, 0.389461249595306, 0.0], maxlen=20)\n",
      "eval_mean: 0.03644055147555512\n"
     ]
    },
    {
     "name": "stderr",
     "output_type": "stream",
     "text": [
      "\r",
      " 22%|████████████████▏                                                        | 22250/100000 [11:58<2:03:06, 10.53it/s]"
     ]
    },
    {
     "name": "stdout",
     "output_type": "stream",
     "text": [
      "self.evaluation_deque: deque([0.0, 0.0, 0.0, 0.0, 0.0, 0.0, 0.0, 0.0, 0.0, 0.0, 0.0, 0.0, 0.0, 0.0, 0.0, 0.0, 0.0, 0.33934977991579635, 0.389461249595306, 0.0], maxlen=20)\n",
      "eval_mean: 0.03644055147555512\n"
     ]
    },
    {
     "name": "stderr",
     "output_type": "stream",
     "text": [
      "\r",
      " 22%|████████████████▎                                                        | 22310/100000 [12:05<2:07:18, 10.17it/s]"
     ]
    },
    {
     "name": "stdout",
     "output_type": "stream",
     "text": [
      "self.evaluation_deque: deque([0.0, 0.0, 0.0, 0.0, 0.0, 0.0, 0.0, 0.0, 0.0, 0.0, 0.0, 0.0, 0.0, 0.0, 0.0, 0.0, 0.0, 0.33934977991579635, 0.389461249595306, 0.0], maxlen=20)\n",
      "eval_mean: 0.03644055147555512\n"
     ]
    },
    {
     "name": "stderr",
     "output_type": "stream",
     "text": [
      "\r",
      " 22%|████████████████▎                                                        | 22386/100000 [12:12<2:04:06, 10.42it/s]"
     ]
    },
    {
     "name": "stdout",
     "output_type": "stream",
     "text": [
      "self.evaluation_deque: deque([0.0, 0.0, 0.0, 0.0, 0.0, 0.0, 0.0, 0.0, 0.0, 0.0, 0.0, 0.0, 0.0, 0.0, 0.0, 0.0, 0.0, 0.33934977991579635, 0.389461249595306, 0.0], maxlen=20)\n",
      "eval_mean: 0.03644055147555512\n"
     ]
    },
    {
     "name": "stderr",
     "output_type": "stream",
     "text": [
      "\r",
      " 22%|████████████████▍                                                        | 22462/100000 [12:21<2:12:34,  9.75it/s]"
     ]
    },
    {
     "name": "stdout",
     "output_type": "stream",
     "text": [
      "self.get_collection_ratio(): 0.49075335784868257\n",
      "self.comms.count(True) : 0\n",
      "len(self.comms) : 2\n",
      "self.state.ratio_commed: 0.0\n",
      "self.comms.count(True) : 0\n",
      "len(self.comms) : 2\n",
      "self.evaluation_deque: deque([0.0, 0.0, 0.0, 0.0, 0.0, 0.0, 0.0, 0.0, 0.0, 0.0, 0.0, 0.0, 0.0, 0.0, 0.0, 0.0, 0.33934977991579635, 0.389461249595306, 0.0, 0.0], maxlen=20)\n",
      "eval_mean: 0.03644055147555512\n"
     ]
    },
    {
     "name": "stderr",
     "output_type": "stream",
     "text": [
      "\r",
      " 23%|████████████████▍                                                        | 22522/100000 [12:26<2:08:34, 10.04it/s]"
     ]
    },
    {
     "name": "stdout",
     "output_type": "stream",
     "text": [
      "self.evaluation_deque: deque([0.0, 0.0, 0.0, 0.0, 0.0, 0.0, 0.0, 0.0, 0.0, 0.0, 0.0, 0.0, 0.0, 0.0, 0.0, 0.0, 0.33934977991579635, 0.389461249595306, 0.0, 0.0], maxlen=20)\n",
      "eval_mean: 0.03644055147555512\n"
     ]
    },
    {
     "name": "stderr",
     "output_type": "stream",
     "text": [
      "\r",
      " 23%|████████████████▍                                                        | 22598/100000 [12:32<1:58:20, 10.90it/s]"
     ]
    },
    {
     "name": "stdout",
     "output_type": "stream",
     "text": [
      "self.evaluation_deque: deque([0.0, 0.0, 0.0, 0.0, 0.0, 0.0, 0.0, 0.0, 0.0, 0.0, 0.0, 0.0, 0.0, 0.0, 0.0, 0.0, 0.33934977991579635, 0.389461249595306, 0.0, 0.0], maxlen=20)\n",
      "eval_mean: 0.03644055147555512\n"
     ]
    },
    {
     "name": "stderr",
     "output_type": "stream",
     "text": [
      "\r",
      " 23%|████████████████▌                                                        | 22674/100000 [12:39<1:57:13, 10.99it/s]"
     ]
    },
    {
     "name": "stdout",
     "output_type": "stream",
     "text": [
      "self.evaluation_deque: deque([0.0, 0.0, 0.0, 0.0, 0.0, 0.0, 0.0, 0.0, 0.0, 0.0, 0.0, 0.0, 0.0, 0.0, 0.0, 0.0, 0.33934977991579635, 0.389461249595306, 0.0, 0.0], maxlen=20)\n",
      "eval_mean: 0.03644055147555512\n"
     ]
    },
    {
     "name": "stderr",
     "output_type": "stream",
     "text": [
      "\r",
      " 23%|████████████████▌                                                        | 22750/100000 [12:44<1:50:23, 11.66it/s]"
     ]
    },
    {
     "name": "stdout",
     "output_type": "stream",
     "text": [
      "self.evaluation_deque: deque([0.0, 0.0, 0.0, 0.0, 0.0, 0.0, 0.0, 0.0, 0.0, 0.0, 0.0, 0.0, 0.0, 0.0, 0.0, 0.0, 0.33934977991579635, 0.389461249595306, 0.0, 0.0], maxlen=20)\n",
      "eval_mean: 0.03644055147555512\n"
     ]
    },
    {
     "name": "stderr",
     "output_type": "stream",
     "text": [
      "\r",
      " 23%|████████████████▋                                                        | 22810/100000 [12:53<2:10:52,  9.83it/s]"
     ]
    },
    {
     "name": "stdout",
     "output_type": "stream",
     "text": [
      "self.get_collection_ratio(): 0.4578295966138463\n",
      "self.comms.count(True) : 0\n",
      "len(self.comms) : 2\n",
      "self.state.ratio_commed: 0.0\n",
      "self.comms.count(True) : 0\n",
      "len(self.comms) : 2\n",
      "self.evaluation_deque: deque([0.0, 0.0, 0.0, 0.0, 0.0, 0.0, 0.0, 0.0, 0.0, 0.0, 0.0, 0.0, 0.0, 0.0, 0.0, 0.33934977991579635, 0.389461249595306, 0.0, 0.0, 0.0], maxlen=20)\n",
      "eval_mean: 0.03644055147555512\n"
     ]
    },
    {
     "name": "stderr",
     "output_type": "stream",
     "text": [
      "\r",
      " 23%|████████████████▋                                                        | 22870/100000 [13:00<2:13:45,  9.61it/s]"
     ]
    },
    {
     "name": "stdout",
     "output_type": "stream",
     "text": [
      "self.evaluation_deque: deque([0.0, 0.0, 0.0, 0.0, 0.0, 0.0, 0.0, 0.0, 0.0, 0.0, 0.0, 0.0, 0.0, 0.0, 0.0, 0.33934977991579635, 0.389461249595306, 0.0, 0.0, 0.0], maxlen=20)\n",
      "eval_mean: 0.03644055147555512\n"
     ]
    },
    {
     "name": "stderr",
     "output_type": "stream",
     "text": [
      "\r",
      " 23%|████████████████▊                                                        | 22946/100000 [13:05<2:01:43, 10.55it/s]"
     ]
    },
    {
     "name": "stdout",
     "output_type": "stream",
     "text": [
      "self.evaluation_deque: deque([0.0, 0.0, 0.0, 0.0, 0.0, 0.0, 0.0, 0.0, 0.0, 0.0, 0.0, 0.0, 0.0, 0.0, 0.0, 0.33934977991579635, 0.389461249595306, 0.0, 0.0, 0.0], maxlen=20)\n",
      "eval_mean: 0.03644055147555512\n"
     ]
    },
    {
     "name": "stderr",
     "output_type": "stream",
     "text": [
      "\r",
      " 23%|████████████████▊                                                        | 23022/100000 [13:13<2:03:46, 10.37it/s]"
     ]
    },
    {
     "name": "stdout",
     "output_type": "stream",
     "text": [
      "self.evaluation_deque: deque([0.0, 0.0, 0.0, 0.0, 0.0, 0.0, 0.0, 0.0, 0.0, 0.0, 0.0, 0.0, 0.0, 0.0, 0.0, 0.33934977991579635, 0.389461249595306, 0.0, 0.0, 0.0], maxlen=20)\n",
      "eval_mean: 0.03644055147555512\n"
     ]
    },
    {
     "name": "stderr",
     "output_type": "stream",
     "text": [
      "\r",
      " 23%|████████████████▊                                                        | 23098/100000 [13:21<2:06:12, 10.16it/s]"
     ]
    },
    {
     "name": "stdout",
     "output_type": "stream",
     "text": [
      "self.evaluation_deque: deque([0.0, 0.0, 0.0, 0.0, 0.0, 0.0, 0.0, 0.0, 0.0, 0.0, 0.0, 0.0, 0.0, 0.0, 0.0, 0.33934977991579635, 0.389461249595306, 0.0, 0.0, 0.0], maxlen=20)\n",
      "eval_mean: 0.03644055147555512\n"
     ]
    },
    {
     "name": "stderr",
     "output_type": "stream",
     "text": [
      "\r",
      " 23%|████████████████▉                                                        | 23158/100000 [13:29<2:20:05,  9.14it/s]"
     ]
    },
    {
     "name": "stdout",
     "output_type": "stream",
     "text": [
      "self.get_collection_ratio(): 0.44379620693800476\n",
      "self.comms.count(True) : 0\n",
      "len(self.comms) : 2\n",
      "self.state.ratio_commed: 0.0\n",
      "self.comms.count(True) : 0\n",
      "len(self.comms) : 2\n",
      "self.evaluation_deque: deque([0.0, 0.0, 0.0, 0.0, 0.0, 0.0, 0.0, 0.0, 0.0, 0.0, 0.0, 0.0, 0.0, 0.0, 0.33934977991579635, 0.389461249595306, 0.0, 0.0, 0.0, 0.0], maxlen=20)\n",
      "eval_mean: 0.03644055147555512\n"
     ]
    },
    {
     "name": "stderr",
     "output_type": "stream",
     "text": [
      "\r",
      " 23%|████████████████▉                                                        | 23234/100000 [13:35<2:07:03, 10.07it/s]"
     ]
    },
    {
     "name": "stdout",
     "output_type": "stream",
     "text": [
      "self.evaluation_deque: deque([0.0, 0.0, 0.0, 0.0, 0.0, 0.0, 0.0, 0.0, 0.0, 0.0, 0.0, 0.0, 0.0, 0.0, 0.33934977991579635, 0.389461249595306, 0.0, 0.0, 0.0, 0.0], maxlen=20)\n",
      "eval_mean: 0.03644055147555512\n"
     ]
    },
    {
     "name": "stderr",
     "output_type": "stream",
     "text": [
      "\r",
      " 23%|█████████████████                                                        | 23294/100000 [13:42<2:10:31,  9.79it/s]"
     ]
    },
    {
     "name": "stdout",
     "output_type": "stream",
     "text": [
      "self.evaluation_deque: deque([0.0, 0.0, 0.0, 0.0, 0.0, 0.0, 0.0, 0.0, 0.0, 0.0, 0.0, 0.0, 0.0, 0.0, 0.33934977991579635, 0.389461249595306, 0.0, 0.0, 0.0, 0.0], maxlen=20)\n",
      "eval_mean: 0.03644055147555512\n"
     ]
    },
    {
     "name": "stderr",
     "output_type": "stream",
     "text": [
      "\r",
      " 23%|█████████████████                                                        | 23354/100000 [13:48<2:13:22,  9.58it/s]"
     ]
    },
    {
     "name": "stdout",
     "output_type": "stream",
     "text": [
      "self.evaluation_deque: deque([0.0, 0.0, 0.0, 0.0, 0.0, 0.0, 0.0, 0.0, 0.0, 0.0, 0.0, 0.0, 0.0, 0.0, 0.33934977991579635, 0.389461249595306, 0.0, 0.0, 0.0, 0.0], maxlen=20)\n",
      "eval_mean: 0.03644055147555512\n"
     ]
    },
    {
     "name": "stderr",
     "output_type": "stream",
     "text": [
      "\r",
      " 23%|█████████████████                                                        | 23414/100000 [13:53<2:03:56, 10.30it/s]"
     ]
    },
    {
     "name": "stdout",
     "output_type": "stream",
     "text": [
      "self.evaluation_deque: deque([0.0, 0.0, 0.0, 0.0, 0.0, 0.0, 0.0, 0.0, 0.0, 0.0, 0.0, 0.0, 0.0, 0.0, 0.33934977991579635, 0.389461249595306, 0.0, 0.0, 0.0, 0.0], maxlen=20)\n",
      "eval_mean: 0.03644055147555512\n"
     ]
    },
    {
     "name": "stderr",
     "output_type": "stream",
     "text": [
      "\r",
      " 23%|█████████████████▏                                                       | 23474/100000 [14:03<2:25:55,  8.74it/s]"
     ]
    },
    {
     "name": "stdout",
     "output_type": "stream",
     "text": [
      "self.get_collection_ratio(): 0.3920161863532541\n",
      "self.comms.count(True) : 1\n",
      "len(self.comms) : 1\n",
      "self.state.ratio_commed: 1.0\n",
      "self.comms.count(True) : 1\n",
      "len(self.comms) : 1\n",
      "self.evaluation_deque: deque([0.0, 0.0, 0.0, 0.0, 0.0, 0.0, 0.0, 0.0, 0.0, 0.0, 0.0, 0.0, 0.0, 0.33934977991579635, 0.389461249595306, 0.0, 0.0, 0.0, 0.0, 0.3920161863532541], maxlen=20)\n",
      "eval_mean: 0.05604136079321782\n",
      "Saving best with: 0.05604136079321782\n"
     ]
    },
    {
     "name": "stderr",
     "output_type": "stream",
     "text": [
      "\r",
      " 24%|█████████████████▏                                                       | 23534/100000 [14:09<2:24:16,  8.83it/s]"
     ]
    },
    {
     "name": "stdout",
     "output_type": "stream",
     "text": [
      "self.evaluation_deque: deque([0.0, 0.0, 0.0, 0.0, 0.0, 0.0, 0.0, 0.0, 0.0, 0.0, 0.0, 0.0, 0.0, 0.33934977991579635, 0.389461249595306, 0.0, 0.0, 0.0, 0.0, 0.3920161863532541], maxlen=20)\n",
      "eval_mean: 0.05604136079321782\n"
     ]
    },
    {
     "name": "stderr",
     "output_type": "stream",
     "text": [
      "\r",
      " 24%|█████████████████▏                                                       | 23610/100000 [14:17<2:19:52,  9.10it/s]"
     ]
    },
    {
     "name": "stdout",
     "output_type": "stream",
     "text": [
      "self.evaluation_deque: deque([0.0, 0.0, 0.0, 0.0, 0.0, 0.0, 0.0, 0.0, 0.0, 0.0, 0.0, 0.0, 0.0, 0.33934977991579635, 0.389461249595306, 0.0, 0.0, 0.0, 0.0, 0.3920161863532541], maxlen=20)\n",
      "eval_mean: 0.05604136079321782\n"
     ]
    },
    {
     "name": "stderr",
     "output_type": "stream",
     "text": [
      "\r",
      " 24%|█████████████████▎                                                       | 23686/100000 [14:23<2:05:21, 10.15it/s]"
     ]
    },
    {
     "name": "stdout",
     "output_type": "stream",
     "text": [
      "self.evaluation_deque: deque([0.0, 0.0, 0.0, 0.0, 0.0, 0.0, 0.0, 0.0, 0.0, 0.0, 0.0, 0.0, 0.0, 0.33934977991579635, 0.389461249595306, 0.0, 0.0, 0.0, 0.0, 0.3920161863532541], maxlen=20)\n",
      "eval_mean: 0.05604136079321782\n"
     ]
    },
    {
     "name": "stderr",
     "output_type": "stream",
     "text": [
      "\r",
      " 24%|█████████████████▎                                                       | 23746/100000 [14:29<2:08:10,  9.92it/s]"
     ]
    },
    {
     "name": "stdout",
     "output_type": "stream",
     "text": [
      "self.evaluation_deque: deque([0.0, 0.0, 0.0, 0.0, 0.0, 0.0, 0.0, 0.0, 0.0, 0.0, 0.0, 0.0, 0.0, 0.33934977991579635, 0.389461249595306, 0.0, 0.0, 0.0, 0.0, 0.3920161863532541], maxlen=20)\n",
      "eval_mean: 0.05604136079321782\n"
     ]
    },
    {
     "name": "stderr",
     "output_type": "stream",
     "text": [
      "\r",
      " 24%|█████████████████▍                                                       | 23822/100000 [14:37<2:06:39, 10.02it/s]"
     ]
    },
    {
     "name": "stdout",
     "output_type": "stream",
     "text": [
      "self.get_collection_ratio(): 0.45291766343925516\n",
      "self.comms.count(True) : 1\n",
      "len(self.comms) : 1\n",
      "self.state.ratio_commed: 1.0\n",
      "self.comms.count(True) : 1\n",
      "len(self.comms) : 1\n",
      "self.evaluation_deque: deque([0.0, 0.0, 0.0, 0.0, 0.0, 0.0, 0.0, 0.0, 0.0, 0.0, 0.0, 0.0, 0.33934977991579635, 0.389461249595306, 0.0, 0.0, 0.0, 0.0, 0.3920161863532541, 0.45291766343925516], maxlen=20)\n",
      "eval_mean: 0.07868724396518058\n",
      "Saving best with: 0.07868724396518058\n"
     ]
    },
    {
     "name": "stderr",
     "output_type": "stream",
     "text": [
      "\r",
      " 24%|█████████████████▍                                                       | 23882/100000 [14:43<2:09:06,  9.83it/s]"
     ]
    },
    {
     "name": "stdout",
     "output_type": "stream",
     "text": [
      "self.evaluation_deque: deque([0.0, 0.0, 0.0, 0.0, 0.0, 0.0, 0.0, 0.0, 0.0, 0.0, 0.0, 0.0, 0.33934977991579635, 0.389461249595306, 0.0, 0.0, 0.0, 0.0, 0.3920161863532541, 0.45291766343925516], maxlen=20)\n",
      "eval_mean: 0.07868724396518058\n"
     ]
    },
    {
     "name": "stderr",
     "output_type": "stream",
     "text": [
      "\r",
      " 24%|█████████████████▍                                                       | 23958/100000 [14:51<2:11:07,  9.66it/s]"
     ]
    },
    {
     "name": "stdout",
     "output_type": "stream",
     "text": [
      "self.evaluation_deque: deque([0.0, 0.0, 0.0, 0.0, 0.0, 0.0, 0.0, 0.0, 0.0, 0.0, 0.0, 0.0, 0.33934977991579635, 0.389461249595306, 0.0, 0.0, 0.0, 0.0, 0.3920161863532541, 0.45291766343925516], maxlen=20)\n",
      "eval_mean: 0.07868724396518058\n"
     ]
    },
    {
     "name": "stderr",
     "output_type": "stream",
     "text": [
      "\r",
      " 24%|█████████████████▌                                                       | 24034/100000 [14:58<2:04:32, 10.17it/s]"
     ]
    },
    {
     "name": "stdout",
     "output_type": "stream",
     "text": [
      "self.evaluation_deque: deque([0.0, 0.0, 0.0, 0.0, 0.0, 0.0, 0.0, 0.0, 0.0, 0.0, 0.0, 0.0, 0.33934977991579635, 0.389461249595306, 0.0, 0.0, 0.0, 0.0, 0.3920161863532541, 0.45291766343925516], maxlen=20)\n",
      "eval_mean: 0.07868724396518058\n"
     ]
    },
    {
     "name": "stderr",
     "output_type": "stream",
     "text": [
      "\r",
      " 24%|█████████████████▌                                                       | 24110/100000 [15:05<2:05:13, 10.10it/s]"
     ]
    },
    {
     "name": "stdout",
     "output_type": "stream",
     "text": [
      "self.evaluation_deque: deque([0.0, 0.0, 0.0, 0.0, 0.0, 0.0, 0.0, 0.0, 0.0, 0.0, 0.0, 0.0, 0.33934977991579635, 0.389461249595306, 0.0, 0.0, 0.0, 0.0, 0.3920161863532541, 0.45291766343925516], maxlen=20)\n",
      "eval_mean: 0.07868724396518058\n"
     ]
    },
    {
     "name": "stderr",
     "output_type": "stream",
     "text": [
      "\r",
      " 24%|█████████████████▋                                                       | 24170/100000 [15:13<2:11:44,  9.59it/s]"
     ]
    },
    {
     "name": "stdout",
     "output_type": "stream",
     "text": [
      "self.get_collection_ratio(): 0.4080494221651851\n",
      "self.comms.count(True) : 1\n",
      "len(self.comms) : 1\n",
      "self.state.ratio_commed: 1.0\n",
      "self.comms.count(True) : 1\n",
      "len(self.comms) : 1\n",
      "self.evaluation_deque: deque([0.0, 0.0, 0.0, 0.0, 0.0, 0.0, 0.0, 0.0, 0.0, 0.0, 0.0, 0.33934977991579635, 0.389461249595306, 0.0, 0.0, 0.0, 0.0, 0.3920161863532541, 0.45291766343925516, 0.4080494221651851], maxlen=20)\n",
      "eval_mean: 0.09908971507343983\n",
      "Saving best with: 0.09908971507343983\n"
     ]
    },
    {
     "name": "stderr",
     "output_type": "stream",
     "text": [
      "\r",
      " 24%|█████████████████▋                                                       | 24246/100000 [15:18<1:59:59, 10.52it/s]"
     ]
    },
    {
     "name": "stdout",
     "output_type": "stream",
     "text": [
      "self.evaluation_deque: deque([0.0, 0.0, 0.0, 0.0, 0.0, 0.0, 0.0, 0.0, 0.0, 0.0, 0.0, 0.33934977991579635, 0.389461249595306, 0.0, 0.0, 0.0, 0.0, 0.3920161863532541, 0.45291766343925516, 0.4080494221651851], maxlen=20)\n",
      "eval_mean: 0.09908971507343983\n"
     ]
    },
    {
     "name": "stderr",
     "output_type": "stream",
     "text": [
      "\r",
      " 24%|█████████████████▊                                                       | 24322/100000 [15:24<1:52:10, 11.24it/s]"
     ]
    },
    {
     "name": "stdout",
     "output_type": "stream",
     "text": [
      "self.evaluation_deque: deque([0.0, 0.0, 0.0, 0.0, 0.0, 0.0, 0.0, 0.0, 0.0, 0.0, 0.0, 0.33934977991579635, 0.389461249595306, 0.0, 0.0, 0.0, 0.0, 0.3920161863532541, 0.45291766343925516, 0.4080494221651851], maxlen=20)\n",
      "eval_mean: 0.09908971507343983\n"
     ]
    },
    {
     "name": "stderr",
     "output_type": "stream",
     "text": [
      "\r",
      " 24%|█████████████████▊                                                       | 24398/100000 [15:31<1:53:06, 11.14it/s]"
     ]
    },
    {
     "name": "stdout",
     "output_type": "stream",
     "text": [
      "self.evaluation_deque: deque([0.0, 0.0, 0.0, 0.0, 0.0, 0.0, 0.0, 0.0, 0.0, 0.0, 0.0, 0.33934977991579635, 0.389461249595306, 0.0, 0.0, 0.0, 0.0, 0.3920161863532541, 0.45291766343925516, 0.4080494221651851], maxlen=20)\n",
      "eval_mean: 0.09908971507343983\n"
     ]
    },
    {
     "name": "stderr",
     "output_type": "stream",
     "text": [
      "\r",
      " 24%|█████████████████▊                                                       | 24458/100000 [15:39<2:06:12,  9.98it/s]"
     ]
    },
    {
     "name": "stdout",
     "output_type": "stream",
     "text": [
      "self.evaluation_deque: deque([0.0, 0.0, 0.0, 0.0, 0.0, 0.0, 0.0, 0.0, 0.0, 0.0, 0.0, 0.33934977991579635, 0.389461249595306, 0.0, 0.0, 0.0, 0.0, 0.3920161863532541, 0.45291766343925516, 0.4080494221651851], maxlen=20)\n",
      "eval_mean: 0.09908971507343983\n"
     ]
    },
    {
     "name": "stderr",
     "output_type": "stream",
     "text": [
      "\r",
      " 25%|█████████████████▉                                                       | 24518/100000 [15:47<2:17:54,  9.12it/s]"
     ]
    },
    {
     "name": "stdout",
     "output_type": "stream",
     "text": [
      "self.get_collection_ratio(): 0.3601682160948709\n",
      "self.comms.count(True) : 1\n",
      "len(self.comms) : 1\n",
      "self.state.ratio_commed: 1.0\n",
      "self.comms.count(True) : 1\n",
      "len(self.comms) : 1\n",
      "self.evaluation_deque: deque([0.0, 0.0, 0.0, 0.0, 0.0, 0.0, 0.0, 0.0, 0.0, 0.0, 0.33934977991579635, 0.389461249595306, 0.0, 0.0, 0.0, 0.0, 0.3920161863532541, 0.45291766343925516, 0.4080494221651851, 0.3601682160948709], maxlen=20)\n",
      "eval_mean: 0.11709812587818338\n",
      "Saving best with: 0.11709812587818338\n"
     ]
    },
    {
     "name": "stderr",
     "output_type": "stream",
     "text": [
      "\r",
      " 25%|█████████████████▉                                                       | 24594/100000 [15:55<2:15:37,  9.27it/s]"
     ]
    },
    {
     "name": "stdout",
     "output_type": "stream",
     "text": [
      "self.evaluation_deque: deque([0.0, 0.0, 0.0, 0.0, 0.0, 0.0, 0.0, 0.0, 0.0, 0.0, 0.33934977991579635, 0.389461249595306, 0.0, 0.0, 0.0, 0.0, 0.3920161863532541, 0.45291766343925516, 0.4080494221651851, 0.3601682160948709], maxlen=20)\n",
      "eval_mean: 0.11709812587818338\n"
     ]
    },
    {
     "name": "stderr",
     "output_type": "stream",
     "text": [
      "\r",
      " 25%|██████████████████                                                       | 24670/100000 [16:02<2:07:51,  9.82it/s]"
     ]
    },
    {
     "name": "stdout",
     "output_type": "stream",
     "text": [
      "self.evaluation_deque: deque([0.0, 0.0, 0.0, 0.0, 0.0, 0.0, 0.0, 0.0, 0.0, 0.0, 0.33934977991579635, 0.389461249595306, 0.0, 0.0, 0.0, 0.0, 0.3920161863532541, 0.45291766343925516, 0.4080494221651851, 0.3601682160948709], maxlen=20)\n",
      "eval_mean: 0.11709812587818338\n"
     ]
    },
    {
     "name": "stderr",
     "output_type": "stream",
     "text": [
      "\r",
      " 25%|██████████████████                                                       | 24746/100000 [16:10<2:09:34,  9.68it/s]"
     ]
    },
    {
     "name": "stdout",
     "output_type": "stream",
     "text": [
      "self.evaluation_deque: deque([0.0, 0.0, 0.0, 0.0, 0.0, 0.0, 0.0, 0.0, 0.0, 0.0, 0.33934977991579635, 0.389461249595306, 0.0, 0.0, 0.0, 0.0, 0.3920161863532541, 0.45291766343925516, 0.4080494221651851, 0.3601682160948709], maxlen=20)\n",
      "eval_mean: 0.11709812587818338\n"
     ]
    },
    {
     "name": "stderr",
     "output_type": "stream",
     "text": [
      "\r",
      " 25%|██████████████████                                                       | 24822/100000 [16:16<2:03:19, 10.16it/s]"
     ]
    },
    {
     "name": "stdout",
     "output_type": "stream",
     "text": [
      "self.evaluation_deque: deque([0.0, 0.0, 0.0, 0.0, 0.0, 0.0, 0.0, 0.0, 0.0, 0.0, 0.33934977991579635, 0.389461249595306, 0.0, 0.0, 0.0, 0.0, 0.3920161863532541, 0.45291766343925516, 0.4080494221651851, 0.3601682160948709], maxlen=20)\n",
      "eval_mean: 0.11709812587818338\n"
     ]
    },
    {
     "name": "stderr",
     "output_type": "stream",
     "text": [
      "\r",
      " 25%|██████████████████▏                                                      | 24882/100000 [16:26<2:21:20,  8.86it/s]"
     ]
    },
    {
     "name": "stdout",
     "output_type": "stream",
     "text": [
      "self.get_collection_ratio(): 0.6839761327377488\n",
      "self.comms.count(True) : 1\n",
      "len(self.comms) : 3\n",
      "self.state.ratio_commed: 0.3333333333333333\n",
      "self.comms.count(True) : 1\n",
      "len(self.comms) : 3\n",
      "self.evaluation_deque: deque([0.0, 0.0, 0.0, 0.0, 0.0, 0.0, 0.0, 0.0, 0.0, 0.33934977991579635, 0.389461249595306, 0.0, 0.0, 0.0, 0.0, 0.3920161863532541, 0.45291766343925516, 0.4080494221651851, 0.3601682160948709, 0.22799204424591626], maxlen=20)\n",
      "eval_mean: 0.12849772809047919\n",
      "Saving best with: 0.12849772809047919\n"
     ]
    },
    {
     "name": "stderr",
     "output_type": "stream",
     "text": [
      "\r",
      " 25%|██████████████████▏                                                      | 24958/100000 [16:34<2:17:17,  9.11it/s]"
     ]
    },
    {
     "name": "stdout",
     "output_type": "stream",
     "text": [
      "self.evaluation_deque: deque([0.0, 0.0, 0.0, 0.0, 0.0, 0.0, 0.0, 0.0, 0.0, 0.33934977991579635, 0.389461249595306, 0.0, 0.0, 0.0, 0.0, 0.3920161863532541, 0.45291766343925516, 0.4080494221651851, 0.3601682160948709, 0.22799204424591626], maxlen=20)\n",
      "eval_mean: 0.12849772809047919\n"
     ]
    },
    {
     "name": "stderr",
     "output_type": "stream",
     "text": [
      "\r",
      " 25%|██████████████████▎                                                      | 25018/100000 [16:40<2:16:05,  9.18it/s]"
     ]
    },
    {
     "name": "stdout",
     "output_type": "stream",
     "text": [
      "self.evaluation_deque: deque([0.0, 0.0, 0.0, 0.0, 0.0, 0.0, 0.0, 0.0, 0.0, 0.33934977991579635, 0.389461249595306, 0.0, 0.0, 0.0, 0.0, 0.3920161863532541, 0.45291766343925516, 0.4080494221651851, 0.3601682160948709, 0.22799204424591626], maxlen=20)\n",
      "eval_mean: 0.12849772809047919\n"
     ]
    },
    {
     "name": "stderr",
     "output_type": "stream",
     "text": [
      "\r",
      " 25%|██████████████████▎                                                      | 25094/100000 [16:47<2:08:55,  9.68it/s]"
     ]
    },
    {
     "name": "stdout",
     "output_type": "stream",
     "text": [
      "self.evaluation_deque: deque([0.0, 0.0, 0.0, 0.0, 0.0, 0.0, 0.0, 0.0, 0.0, 0.33934977991579635, 0.389461249595306, 0.0, 0.0, 0.0, 0.0, 0.3920161863532541, 0.45291766343925516, 0.4080494221651851, 0.3601682160948709, 0.22799204424591626], maxlen=20)\n",
      "eval_mean: 0.12849772809047919\n"
     ]
    },
    {
     "name": "stderr",
     "output_type": "stream",
     "text": [
      "\r",
      " 25%|██████████████████▎                                                      | 25170/100000 [16:54<2:02:45, 10.16it/s]"
     ]
    },
    {
     "name": "stdout",
     "output_type": "stream",
     "text": [
      "self.evaluation_deque: deque([0.0, 0.0, 0.0, 0.0, 0.0, 0.0, 0.0, 0.0, 0.0, 0.33934977991579635, 0.389461249595306, 0.0, 0.0, 0.0, 0.0, 0.3920161863532541, 0.45291766343925516, 0.4080494221651851, 0.3601682160948709, 0.22799204424591626], maxlen=20)\n",
      "eval_mean: 0.12849772809047919\n"
     ]
    },
    {
     "name": "stderr",
     "output_type": "stream",
     "text": [
      "\r",
      " 25%|██████████████████▍                                                      | 25246/100000 [17:01<2:02:01, 10.21it/s]"
     ]
    },
    {
     "name": "stdout",
     "output_type": "stream",
     "text": [
      "self.get_collection_ratio(): 0.37635978636658\n",
      "self.comms.count(True) : 1\n",
      "len(self.comms) : 1\n",
      "self.state.ratio_commed: 1.0\n",
      "self.comms.count(True) : 1\n",
      "len(self.comms) : 1\n",
      "self.evaluation_deque: deque([0.0, 0.0, 0.0, 0.0, 0.0, 0.0, 0.0, 0.0, 0.33934977991579635, 0.389461249595306, 0.0, 0.0, 0.0, 0.0, 0.3920161863532541, 0.45291766343925516, 0.4080494221651851, 0.3601682160948709, 0.22799204424591626, 0.37635978636658], maxlen=20)\n",
      "eval_mean: 0.1473157174088082\n",
      "Saving best with: 0.1473157174088082\n"
     ]
    },
    {
     "name": "stderr",
     "output_type": "stream",
     "text": [
      "\r",
      " 25%|██████████████████▍                                                      | 25322/100000 [17:09<2:06:59,  9.80it/s]"
     ]
    },
    {
     "name": "stdout",
     "output_type": "stream",
     "text": [
      "self.evaluation_deque: deque([0.0, 0.0, 0.0, 0.0, 0.0, 0.0, 0.0, 0.0, 0.33934977991579635, 0.389461249595306, 0.0, 0.0, 0.0, 0.0, 0.3920161863532541, 0.45291766343925516, 0.4080494221651851, 0.3601682160948709, 0.22799204424591626, 0.37635978636658], maxlen=20)\n",
      "eval_mean: 0.1473157174088082\n"
     ]
    },
    {
     "name": "stderr",
     "output_type": "stream",
     "text": [
      "\r",
      " 25%|██████████████████▌                                                      | 25398/100000 [17:17<2:06:57,  9.79it/s]"
     ]
    },
    {
     "name": "stdout",
     "output_type": "stream",
     "text": [
      "self.evaluation_deque: deque([0.0, 0.0, 0.0, 0.0, 0.0, 0.0, 0.0, 0.0, 0.33934977991579635, 0.389461249595306, 0.0, 0.0, 0.0, 0.0, 0.3920161863532541, 0.45291766343925516, 0.4080494221651851, 0.3601682160948709, 0.22799204424591626, 0.37635978636658], maxlen=20)\n",
      "eval_mean: 0.1473157174088082\n"
     ]
    },
    {
     "name": "stderr",
     "output_type": "stream",
     "text": [
      "\r",
      " 25%|██████████████████▌                                                      | 25474/100000 [17:23<1:57:27, 10.57it/s]"
     ]
    },
    {
     "name": "stdout",
     "output_type": "stream",
     "text": [
      "self.evaluation_deque: deque([0.0, 0.0, 0.0, 0.0, 0.0, 0.0, 0.0, 0.0, 0.33934977991579635, 0.389461249595306, 0.0, 0.0, 0.0, 0.0, 0.3920161863532541, 0.45291766343925516, 0.4080494221651851, 0.3601682160948709, 0.22799204424591626, 0.37635978636658], maxlen=20)\n",
      "eval_mean: 0.1473157174088082\n"
     ]
    },
    {
     "name": "stderr",
     "output_type": "stream",
     "text": [
      "\r",
      " 26%|██████████████████▋                                                      | 25550/100000 [17:30<1:56:37, 10.64it/s]"
     ]
    },
    {
     "name": "stdout",
     "output_type": "stream",
     "text": [
      "self.evaluation_deque: deque([0.0, 0.0, 0.0, 0.0, 0.0, 0.0, 0.0, 0.0, 0.33934977991579635, 0.389461249595306, 0.0, 0.0, 0.0, 0.0, 0.3920161863532541, 0.45291766343925516, 0.4080494221651851, 0.3601682160948709, 0.22799204424591626, 0.37635978636658], maxlen=20)\n",
      "eval_mean: 0.1473157174088082\n"
     ]
    },
    {
     "name": "stderr",
     "output_type": "stream",
     "text": [
      "\r",
      " 26%|██████████████████▋                                                      | 25626/100000 [17:39<2:04:53,  9.93it/s]"
     ]
    },
    {
     "name": "stdout",
     "output_type": "stream",
     "text": [
      "self.get_collection_ratio(): 0.51551506623799\n",
      "self.comms.count(True) : 2\n",
      "len(self.comms) : 3\n",
      "self.state.ratio_commed: 0.6666666666666666\n",
      "self.comms.count(True) : 2\n",
      "len(self.comms) : 3\n",
      "self.evaluation_deque: deque([0.0, 0.0, 0.0, 0.0, 0.0, 0.0, 0.0, 0.33934977991579635, 0.389461249595306, 0.0, 0.0, 0.0, 0.0, 0.3920161863532541, 0.45291766343925516, 0.4080494221651851, 0.3601682160948709, 0.22799204424591626, 0.37635978636658, 0.3436767108253267], maxlen=20)\n",
      "eval_mean: 0.1644995529500745\n",
      "Saving best with: 0.1644995529500745\n"
     ]
    },
    {
     "name": "stderr",
     "output_type": "stream",
     "text": [
      "\r",
      " 26%|██████████████████▊                                                      | 25702/100000 [17:45<1:55:15, 10.74it/s]"
     ]
    },
    {
     "name": "stdout",
     "output_type": "stream",
     "text": [
      "self.evaluation_deque: deque([0.0, 0.0, 0.0, 0.0, 0.0, 0.0, 0.0, 0.33934977991579635, 0.389461249595306, 0.0, 0.0, 0.0, 0.0, 0.3920161863532541, 0.45291766343925516, 0.4080494221651851, 0.3601682160948709, 0.22799204424591626, 0.37635978636658, 0.3436767108253267], maxlen=20)\n",
      "eval_mean: 0.1644995529500745\n"
     ]
    },
    {
     "name": "stderr",
     "output_type": "stream",
     "text": [
      "\r",
      " 26%|██████████████████▊                                                      | 25778/100000 [17:50<1:48:12, 11.43it/s]"
     ]
    },
    {
     "name": "stdout",
     "output_type": "stream",
     "text": [
      "self.evaluation_deque: deque([0.0, 0.0, 0.0, 0.0, 0.0, 0.0, 0.0, 0.33934977991579635, 0.389461249595306, 0.0, 0.0, 0.0, 0.0, 0.3920161863532541, 0.45291766343925516, 0.4080494221651851, 0.3601682160948709, 0.22799204424591626, 0.37635978636658, 0.3436767108253267], maxlen=20)\n",
      "eval_mean: 0.1644995529500745\n"
     ]
    },
    {
     "name": "stderr",
     "output_type": "stream",
     "text": [
      "\r",
      " 26%|██████████████████▊                                                      | 25854/100000 [17:57<1:49:46, 11.26it/s]"
     ]
    },
    {
     "name": "stdout",
     "output_type": "stream",
     "text": [
      "self.evaluation_deque: deque([0.0, 0.0, 0.0, 0.0, 0.0, 0.0, 0.0, 0.33934977991579635, 0.389461249595306, 0.0, 0.0, 0.0, 0.0, 0.3920161863532541, 0.45291766343925516, 0.4080494221651851, 0.3601682160948709, 0.22799204424591626, 0.37635978636658, 0.3436767108253267], maxlen=20)\n",
      "eval_mean: 0.1644995529500745\n"
     ]
    },
    {
     "name": "stderr",
     "output_type": "stream",
     "text": [
      "\r",
      " 26%|██████████████████▉                                                      | 25930/100000 [18:05<1:55:06, 10.72it/s]"
     ]
    },
    {
     "name": "stdout",
     "output_type": "stream",
     "text": [
      "self.evaluation_deque: deque([0.0, 0.0, 0.0, 0.0, 0.0, 0.0, 0.0, 0.33934977991579635, 0.389461249595306, 0.0, 0.0, 0.0, 0.0, 0.3920161863532541, 0.45291766343925516, 0.4080494221651851, 0.3601682160948709, 0.22799204424591626, 0.37635978636658, 0.3436767108253267], maxlen=20)\n",
      "eval_mean: 0.1644995529500745\n"
     ]
    },
    {
     "name": "stderr",
     "output_type": "stream",
     "text": [
      "\r",
      " 26%|██████████████████▉                                                      | 26006/100000 [18:15<2:07:42,  9.66it/s]"
     ]
    },
    {
     "name": "stdout",
     "output_type": "stream",
     "text": [
      "self.get_collection_ratio(): 0.7243379070497289\n",
      "self.comms.count(True) : 2\n",
      "len(self.comms) : 3\n",
      "self.state.ratio_commed: 0.6666666666666666\n",
      "self.comms.count(True) : 2\n",
      "len(self.comms) : 3\n",
      "self.evaluation_deque: deque([0.0, 0.0, 0.0, 0.0, 0.0, 0.0, 0.33934977991579635, 0.389461249595306, 0.0, 0.0, 0.0, 0.0, 0.3920161863532541, 0.45291766343925516, 0.4080494221651851, 0.3601682160948709, 0.22799204424591626, 0.37635978636658, 0.3436767108253267, 0.48289193803315256], maxlen=20)\n",
      "eval_mean: 0.18864414985173214\n",
      "Saving best with: 0.18864414985173214\n"
     ]
    },
    {
     "name": "stderr",
     "output_type": "stream",
     "text": [
      "\r",
      " 26%|███████████████████                                                      | 26082/100000 [18:21<1:57:17, 10.50it/s]"
     ]
    },
    {
     "name": "stdout",
     "output_type": "stream",
     "text": [
      "self.evaluation_deque: deque([0.0, 0.0, 0.0, 0.0, 0.0, 0.0, 0.33934977991579635, 0.389461249595306, 0.0, 0.0, 0.0, 0.0, 0.3920161863532541, 0.45291766343925516, 0.4080494221651851, 0.3601682160948709, 0.22799204424591626, 0.37635978636658, 0.3436767108253267, 0.48289193803315256], maxlen=20)\n",
      "eval_mean: 0.18864414985173214\n"
     ]
    },
    {
     "name": "stderr",
     "output_type": "stream",
     "text": [
      "\r",
      " 26%|███████████████████                                                      | 26158/100000 [18:28<1:55:40, 10.64it/s]"
     ]
    },
    {
     "name": "stdout",
     "output_type": "stream",
     "text": [
      "self.evaluation_deque: deque([0.0, 0.0, 0.0, 0.0, 0.0, 0.0, 0.33934977991579635, 0.389461249595306, 0.0, 0.0, 0.0, 0.0, 0.3920161863532541, 0.45291766343925516, 0.4080494221651851, 0.3601682160948709, 0.22799204424591626, 0.37635978636658, 0.3436767108253267, 0.48289193803315256], maxlen=20)\n",
      "eval_mean: 0.18864414985173214\n"
     ]
    },
    {
     "name": "stderr",
     "output_type": "stream",
     "text": [
      "\r",
      " 26%|███████████████████▏                                                     | 26234/100000 [18:33<1:48:42, 11.31it/s]"
     ]
    },
    {
     "name": "stdout",
     "output_type": "stream",
     "text": [
      "self.evaluation_deque: deque([0.0, 0.0, 0.0, 0.0, 0.0, 0.0, 0.33934977991579635, 0.389461249595306, 0.0, 0.0, 0.0, 0.0, 0.3920161863532541, 0.45291766343925516, 0.4080494221651851, 0.3601682160948709, 0.22799204424591626, 0.37635978636658, 0.3436767108253267, 0.48289193803315256], maxlen=20)\n",
      "eval_mean: 0.18864414985173214\n"
     ]
    },
    {
     "name": "stderr",
     "output_type": "stream",
     "text": [
      "\r",
      " 26%|███████████████████▏                                                     | 26310/100000 [18:41<1:52:47, 10.89it/s]"
     ]
    },
    {
     "name": "stdout",
     "output_type": "stream",
     "text": [
      "self.evaluation_deque: deque([0.0, 0.0, 0.0, 0.0, 0.0, 0.0, 0.33934977991579635, 0.389461249595306, 0.0, 0.0, 0.0, 0.0, 0.3920161863532541, 0.45291766343925516, 0.4080494221651851, 0.3601682160948709, 0.22799204424591626, 0.37635978636658, 0.3436767108253267, 0.48289193803315256], maxlen=20)\n",
      "eval_mean: 0.18864414985173214\n"
     ]
    },
    {
     "name": "stderr",
     "output_type": "stream",
     "text": [
      "\r",
      " 26%|███████████████████▎                                                     | 26386/100000 [18:50<2:04:52,  9.83it/s]"
     ]
    },
    {
     "name": "stdout",
     "output_type": "stream",
     "text": [
      "self.get_collection_ratio(): 0.49176360093082017\n",
      "self.comms.count(True) : 1\n",
      "len(self.comms) : 1\n",
      "self.state.ratio_commed: 1.0\n",
      "self.comms.count(True) : 1\n",
      "len(self.comms) : 1\n",
      "self.evaluation_deque: deque([0.0, 0.0, 0.0, 0.0, 0.0, 0.33934977991579635, 0.389461249595306, 0.0, 0.0, 0.0, 0.0, 0.3920161863532541, 0.45291766343925516, 0.4080494221651851, 0.3601682160948709, 0.22799204424591626, 0.37635978636658, 0.3436767108253267, 0.48289193803315256, 0.49176360093082017], maxlen=20)\n",
      "eval_mean: 0.21323232989827315\n",
      "Saving best with: 0.21323232989827315\n"
     ]
    },
    {
     "name": "stderr",
     "output_type": "stream",
     "text": [
      "\r",
      " 26%|███████████████████▎                                                     | 26462/100000 [18:56<1:54:49, 10.67it/s]"
     ]
    },
    {
     "name": "stdout",
     "output_type": "stream",
     "text": [
      "self.evaluation_deque: deque([0.0, 0.0, 0.0, 0.0, 0.0, 0.33934977991579635, 0.389461249595306, 0.0, 0.0, 0.0, 0.0, 0.3920161863532541, 0.45291766343925516, 0.4080494221651851, 0.3601682160948709, 0.22799204424591626, 0.37635978636658, 0.3436767108253267, 0.48289193803315256, 0.49176360093082017], maxlen=20)\n",
      "eval_mean: 0.21323232989827315\n"
     ]
    },
    {
     "name": "stderr",
     "output_type": "stream",
     "text": [
      "\r",
      " 27%|███████████████████▎                                                     | 26538/100000 [19:02<1:47:50, 11.35it/s]"
     ]
    },
    {
     "name": "stdout",
     "output_type": "stream",
     "text": [
      "self.evaluation_deque: deque([0.0, 0.0, 0.0, 0.0, 0.0, 0.33934977991579635, 0.389461249595306, 0.0, 0.0, 0.0, 0.0, 0.3920161863532541, 0.45291766343925516, 0.4080494221651851, 0.3601682160948709, 0.22799204424591626, 0.37635978636658, 0.3436767108253267, 0.48289193803315256, 0.49176360093082017], maxlen=20)\n",
      "eval_mean: 0.21323232989827315\n"
     ]
    },
    {
     "name": "stderr",
     "output_type": "stream",
     "text": [
      "\r",
      " 27%|███████████████████▍                                                     | 26614/100000 [19:08<1:47:43, 11.35it/s]"
     ]
    },
    {
     "name": "stdout",
     "output_type": "stream",
     "text": [
      "self.evaluation_deque: deque([0.0, 0.0, 0.0, 0.0, 0.0, 0.33934977991579635, 0.389461249595306, 0.0, 0.0, 0.0, 0.0, 0.3920161863532541, 0.45291766343925516, 0.4080494221651851, 0.3601682160948709, 0.22799204424591626, 0.37635978636658, 0.3436767108253267, 0.48289193803315256, 0.49176360093082017], maxlen=20)\n",
      "eval_mean: 0.21323232989827315\n"
     ]
    },
    {
     "name": "stderr",
     "output_type": "stream",
     "text": [
      "\r",
      " 27%|███████████████████▍                                                     | 26690/100000 [19:16<1:50:39, 11.04it/s]"
     ]
    },
    {
     "name": "stdout",
     "output_type": "stream",
     "text": [
      "self.evaluation_deque: deque([0.0, 0.0, 0.0, 0.0, 0.0, 0.33934977991579635, 0.389461249595306, 0.0, 0.0, 0.0, 0.0, 0.3920161863532541, 0.45291766343925516, 0.4080494221651851, 0.3601682160948709, 0.22799204424591626, 0.37635978636658, 0.3436767108253267, 0.48289193803315256, 0.49176360093082017], maxlen=20)\n",
      "eval_mean: 0.21323232989827315\n"
     ]
    },
    {
     "name": "stderr",
     "output_type": "stream",
     "text": [
      "\r",
      " 27%|███████████████████▌                                                     | 26766/100000 [19:25<2:00:13, 10.15it/s]"
     ]
    },
    {
     "name": "stdout",
     "output_type": "stream",
     "text": [
      "self.get_collection_ratio(): 0.5338095083670434\n",
      "self.comms.count(True) : 2\n",
      "len(self.comms) : 3\n",
      "self.state.ratio_commed: 0.6666666666666666\n",
      "self.comms.count(True) : 2\n",
      "len(self.comms) : 3\n",
      "self.evaluation_deque: deque([0.0, 0.0, 0.0, 0.0, 0.33934977991579635, 0.389461249595306, 0.0, 0.0, 0.0, 0.0, 0.3920161863532541, 0.45291766343925516, 0.4080494221651851, 0.3601682160948709, 0.22799204424591626, 0.37635978636658, 0.3436767108253267, 0.48289193803315256, 0.49176360093082017, 0.3558730055780289], maxlen=20)\n",
      "eval_mean: 0.23102598017717457\n",
      "Saving best with: 0.23102598017717457\n"
     ]
    },
    {
     "name": "stderr",
     "output_type": "stream",
     "text": [
      "\r",
      " 27%|███████████████████▌                                                     | 26842/100000 [19:33<2:03:07,  9.90it/s]"
     ]
    },
    {
     "name": "stdout",
     "output_type": "stream",
     "text": [
      "self.evaluation_deque: deque([0.0, 0.0, 0.0, 0.0, 0.33934977991579635, 0.389461249595306, 0.0, 0.0, 0.0, 0.0, 0.3920161863532541, 0.45291766343925516, 0.4080494221651851, 0.3601682160948709, 0.22799204424591626, 0.37635978636658, 0.3436767108253267, 0.48289193803315256, 0.49176360093082017, 0.3558730055780289], maxlen=20)\n",
      "eval_mean: 0.23102598017717457\n"
     ]
    },
    {
     "name": "stderr",
     "output_type": "stream",
     "text": [
      "\r",
      " 27%|███████████████████▋                                                     | 26918/100000 [19:38<1:53:25, 10.74it/s]"
     ]
    },
    {
     "name": "stdout",
     "output_type": "stream",
     "text": [
      "self.evaluation_deque: deque([0.0, 0.0, 0.0, 0.0, 0.33934977991579635, 0.389461249595306, 0.0, 0.0, 0.0, 0.0, 0.3920161863532541, 0.45291766343925516, 0.4080494221651851, 0.3601682160948709, 0.22799204424591626, 0.37635978636658, 0.3436767108253267, 0.48289193803315256, 0.49176360093082017, 0.3558730055780289], maxlen=20)\n",
      "eval_mean: 0.23102598017717457\n"
     ]
    },
    {
     "name": "stderr",
     "output_type": "stream",
     "text": [
      "\r",
      " 27%|███████████████████▋                                                     | 26994/100000 [19:45<1:51:25, 10.92it/s]"
     ]
    },
    {
     "name": "stdout",
     "output_type": "stream",
     "text": [
      "self.evaluation_deque: deque([0.0, 0.0, 0.0, 0.0, 0.33934977991579635, 0.389461249595306, 0.0, 0.0, 0.0, 0.0, 0.3920161863532541, 0.45291766343925516, 0.4080494221651851, 0.3601682160948709, 0.22799204424591626, 0.37635978636658, 0.3436767108253267, 0.48289193803315256, 0.49176360093082017, 0.3558730055780289], maxlen=20)\n",
      "eval_mean: 0.23102598017717457\n"
     ]
    },
    {
     "name": "stderr",
     "output_type": "stream",
     "text": [
      "\r",
      " 27%|███████████████████▊                                                     | 27070/100000 [19:52<1:51:13, 10.93it/s]"
     ]
    },
    {
     "name": "stdout",
     "output_type": "stream",
     "text": [
      "self.evaluation_deque: deque([0.0, 0.0, 0.0, 0.0, 0.33934977991579635, 0.389461249595306, 0.0, 0.0, 0.0, 0.0, 0.3920161863532541, 0.45291766343925516, 0.4080494221651851, 0.3601682160948709, 0.22799204424591626, 0.37635978636658, 0.3436767108253267, 0.48289193803315256, 0.49176360093082017, 0.3558730055780289], maxlen=20)\n",
      "eval_mean: 0.23102598017717457\n"
     ]
    },
    {
     "name": "stderr",
     "output_type": "stream",
     "text": [
      "\r",
      " 27%|███████████████████▊                                                     | 27130/100000 [19:58<1:54:53, 10.57it/s]"
     ]
    },
    {
     "name": "stdout",
     "output_type": "stream",
     "text": [
      "self.get_collection_ratio(): 0.45300427494068973\n",
      "self.comms.count(True) : 1\n",
      "len(self.comms) : 1\n",
      "self.state.ratio_commed: 1.0\n",
      "self.comms.count(True) : 1\n",
      "len(self.comms) : 1\n",
      "self.evaluation_deque: deque([0.0, 0.0, 0.0, 0.33934977991579635, 0.389461249595306, 0.0, 0.0, 0.0, 0.0, 0.3920161863532541, 0.45291766343925516, 0.4080494221651851, 0.3601682160948709, 0.22799204424591626, 0.37635978636658, 0.3436767108253267, 0.48289193803315256, 0.49176360093082017, 0.3558730055780289, 0.45300427494068973], maxlen=20)\n",
      "eval_mean: 0.25367619392420904\n",
      "Saving best with: 0.25367619392420904\n"
     ]
    },
    {
     "name": "stderr",
     "output_type": "stream",
     "text": [
      "\r",
      " 27%|███████████████████▊                                                     | 27206/100000 [20:06<1:58:28, 10.24it/s]"
     ]
    },
    {
     "name": "stdout",
     "output_type": "stream",
     "text": [
      "self.evaluation_deque: deque([0.0, 0.0, 0.0, 0.33934977991579635, 0.389461249595306, 0.0, 0.0, 0.0, 0.0, 0.3920161863532541, 0.45291766343925516, 0.4080494221651851, 0.3601682160948709, 0.22799204424591626, 0.37635978636658, 0.3436767108253267, 0.48289193803315256, 0.49176360093082017, 0.3558730055780289, 0.45300427494068973], maxlen=20)\n",
      "eval_mean: 0.25367619392420904\n"
     ]
    },
    {
     "name": "stderr",
     "output_type": "stream",
     "text": [
      "\r",
      " 27%|███████████████████▉                                                     | 27282/100000 [20:12<1:49:44, 11.04it/s]"
     ]
    },
    {
     "name": "stdout",
     "output_type": "stream",
     "text": [
      "self.evaluation_deque: deque([0.0, 0.0, 0.0, 0.33934977991579635, 0.389461249595306, 0.0, 0.0, 0.0, 0.0, 0.3920161863532541, 0.45291766343925516, 0.4080494221651851, 0.3601682160948709, 0.22799204424591626, 0.37635978636658, 0.3436767108253267, 0.48289193803315256, 0.49176360093082017, 0.3558730055780289, 0.45300427494068973], maxlen=20)\n",
      "eval_mean: 0.25367619392420904\n"
     ]
    },
    {
     "name": "stderr",
     "output_type": "stream",
     "text": [
      "\r",
      " 27%|███████████████████▉                                                     | 27358/100000 [20:18<1:44:15, 11.61it/s]"
     ]
    },
    {
     "name": "stdout",
     "output_type": "stream",
     "text": [
      "self.evaluation_deque: deque([0.0, 0.0, 0.0, 0.33934977991579635, 0.389461249595306, 0.0, 0.0, 0.0, 0.0, 0.3920161863532541, 0.45291766343925516, 0.4080494221651851, 0.3601682160948709, 0.22799204424591626, 0.37635978636658, 0.3436767108253267, 0.48289193803315256, 0.49176360093082017, 0.3558730055780289, 0.45300427494068973], maxlen=20)\n",
      "eval_mean: 0.25367619392420904\n"
     ]
    },
    {
     "name": "stderr",
     "output_type": "stream",
     "text": [
      "\r",
      " 27%|████████████████████                                                     | 27434/100000 [20:25<1:46:49, 11.32it/s]"
     ]
    },
    {
     "name": "stdout",
     "output_type": "stream",
     "text": [
      "self.evaluation_deque: deque([0.0, 0.0, 0.0, 0.33934977991579635, 0.389461249595306, 0.0, 0.0, 0.0, 0.0, 0.3920161863532541, 0.45291766343925516, 0.4080494221651851, 0.3601682160948709, 0.22799204424591626, 0.37635978636658, 0.3436767108253267, 0.48289193803315256, 0.49176360093082017, 0.3558730055780289, 0.45300427494068973], maxlen=20)\n",
      "eval_mean: 0.25367619392420904\n"
     ]
    },
    {
     "name": "stderr",
     "output_type": "stream",
     "text": [
      "\r",
      " 28%|████████████████████                                                     | 27510/100000 [20:33<1:55:49, 10.43it/s]"
     ]
    },
    {
     "name": "stdout",
     "output_type": "stream",
     "text": [
      "self.get_collection_ratio(): 0.4894237958986566\n",
      "self.comms.count(True) : 1\n",
      "len(self.comms) : 1\n",
      "self.state.ratio_commed: 1.0\n",
      "self.comms.count(True) : 1\n",
      "len(self.comms) : 1\n",
      "self.evaluation_deque: deque([0.0, 0.0, 0.33934977991579635, 0.389461249595306, 0.0, 0.0, 0.0, 0.0, 0.3920161863532541, 0.45291766343925516, 0.4080494221651851, 0.3601682160948709, 0.22799204424591626, 0.37635978636658, 0.3436767108253267, 0.48289193803315256, 0.49176360093082017, 0.3558730055780289, 0.45300427494068973, 0.4894237958986566], maxlen=20)\n",
      "eval_mean: 0.2781473837191419\n",
      "Saving best with: 0.2781473837191419\n"
     ]
    },
    {
     "name": "stderr",
     "output_type": "stream",
     "text": [
      "\r",
      " 28%|████████████████████▏                                                    | 27586/100000 [20:41<1:58:18, 10.20it/s]"
     ]
    },
    {
     "name": "stdout",
     "output_type": "stream",
     "text": [
      "self.evaluation_deque: deque([0.0, 0.0, 0.33934977991579635, 0.389461249595306, 0.0, 0.0, 0.0, 0.0, 0.3920161863532541, 0.45291766343925516, 0.4080494221651851, 0.3601682160948709, 0.22799204424591626, 0.37635978636658, 0.3436767108253267, 0.48289193803315256, 0.49176360093082017, 0.3558730055780289, 0.45300427494068973, 0.4894237958986566], maxlen=20)\n",
      "eval_mean: 0.2781473837191419\n"
     ]
    },
    {
     "name": "stderr",
     "output_type": "stream",
     "text": [
      "\r",
      " 28%|████████████████████▏                                                    | 27662/100000 [20:47<1:49:58, 10.96it/s]"
     ]
    },
    {
     "name": "stdout",
     "output_type": "stream",
     "text": [
      "self.evaluation_deque: deque([0.0, 0.0, 0.33934977991579635, 0.389461249595306, 0.0, 0.0, 0.0, 0.0, 0.3920161863532541, 0.45291766343925516, 0.4080494221651851, 0.3601682160948709, 0.22799204424591626, 0.37635978636658, 0.3436767108253267, 0.48289193803315256, 0.49176360093082017, 0.3558730055780289, 0.45300427494068973, 0.4894237958986566], maxlen=20)\n",
      "eval_mean: 0.2781473837191419\n"
     ]
    },
    {
     "name": "stderr",
     "output_type": "stream",
     "text": [
      "\r",
      " 28%|████████████████████▏                                                    | 27738/100000 [20:53<1:44:30, 11.52it/s]"
     ]
    },
    {
     "name": "stdout",
     "output_type": "stream",
     "text": [
      "self.evaluation_deque: deque([0.0, 0.0, 0.33934977991579635, 0.389461249595306, 0.0, 0.0, 0.0, 0.0, 0.3920161863532541, 0.45291766343925516, 0.4080494221651851, 0.3601682160948709, 0.22799204424591626, 0.37635978636658, 0.3436767108253267, 0.48289193803315256, 0.49176360093082017, 0.3558730055780289, 0.45300427494068973, 0.4894237958986566], maxlen=20)\n",
      "eval_mean: 0.2781473837191419\n"
     ]
    },
    {
     "name": "stderr",
     "output_type": "stream",
     "text": [
      "\r",
      " 28%|████████████████████▎                                                    | 27814/100000 [20:58<1:40:20, 11.99it/s]"
     ]
    },
    {
     "name": "stdout",
     "output_type": "stream",
     "text": [
      "self.evaluation_deque: deque([0.0, 0.0, 0.33934977991579635, 0.389461249595306, 0.0, 0.0, 0.0, 0.0, 0.3920161863532541, 0.45291766343925516, 0.4080494221651851, 0.3601682160948709, 0.22799204424591626, 0.37635978636658, 0.3436767108253267, 0.48289193803315256, 0.49176360093082017, 0.3558730055780289, 0.45300427494068973, 0.4894237958986566], maxlen=20)\n",
      "eval_mean: 0.2781473837191419\n"
     ]
    },
    {
     "name": "stderr",
     "output_type": "stream",
     "text": [
      "\r",
      " 28%|████████████████████▎                                                    | 27890/100000 [21:08<1:53:32, 10.59it/s]"
     ]
    },
    {
     "name": "stdout",
     "output_type": "stream",
     "text": [
      "self.get_collection_ratio(): 0.5946376147602764\n",
      "self.comms.count(True) : 3\n",
      "len(self.comms) : 3\n",
      "self.state.ratio_commed: 1.0\n",
      "self.comms.count(True) : 3\n",
      "len(self.comms) : 3\n",
      "self.evaluation_deque: deque([0.0, 0.33934977991579635, 0.389461249595306, 0.0, 0.0, 0.0, 0.0, 0.3920161863532541, 0.45291766343925516, 0.4080494221651851, 0.3601682160948709, 0.22799204424591626, 0.37635978636658, 0.3436767108253267, 0.48289193803315256, 0.49176360093082017, 0.3558730055780289, 0.45300427494068973, 0.4894237958986566, 0.5946376147602764], maxlen=20)\n",
      "eval_mean: 0.3078792644571557\n",
      "Saving best with: 0.3078792644571557\n"
     ]
    },
    {
     "name": "stderr",
     "output_type": "stream",
     "text": [
      "\r",
      " 28%|████████████████████▍                                                    | 27966/100000 [21:13<1:46:44, 11.25it/s]"
     ]
    },
    {
     "name": "stdout",
     "output_type": "stream",
     "text": [
      "self.evaluation_deque: deque([0.0, 0.33934977991579635, 0.389461249595306, 0.0, 0.0, 0.0, 0.0, 0.3920161863532541, 0.45291766343925516, 0.4080494221651851, 0.3601682160948709, 0.22799204424591626, 0.37635978636658, 0.3436767108253267, 0.48289193803315256, 0.49176360093082017, 0.3558730055780289, 0.45300427494068973, 0.4894237958986566, 0.5946376147602764], maxlen=20)\n",
      "eval_mean: 0.3078792644571557\n"
     ]
    },
    {
     "name": "stderr",
     "output_type": "stream",
     "text": [
      "\r",
      " 28%|████████████████████▍                                                    | 28042/100000 [21:19<1:42:01, 11.75it/s]"
     ]
    },
    {
     "name": "stdout",
     "output_type": "stream",
     "text": [
      "self.evaluation_deque: deque([0.0, 0.33934977991579635, 0.389461249595306, 0.0, 0.0, 0.0, 0.0, 0.3920161863532541, 0.45291766343925516, 0.4080494221651851, 0.3601682160948709, 0.22799204424591626, 0.37635978636658, 0.3436767108253267, 0.48289193803315256, 0.49176360093082017, 0.3558730055780289, 0.45300427494068973, 0.4894237958986566, 0.5946376147602764], maxlen=20)\n",
      "eval_mean: 0.3078792644571557\n"
     ]
    },
    {
     "name": "stderr",
     "output_type": "stream",
     "text": [
      "\r",
      " 28%|████████████████████▌                                                    | 28118/100000 [21:29<1:55:55, 10.33it/s]"
     ]
    },
    {
     "name": "stdout",
     "output_type": "stream",
     "text": [
      "self.evaluation_deque: deque([0.0, 0.33934977991579635, 0.389461249595306, 0.0, 0.0, 0.0, 0.0, 0.3920161863532541, 0.45291766343925516, 0.4080494221651851, 0.3601682160948709, 0.22799204424591626, 0.37635978636658, 0.3436767108253267, 0.48289193803315256, 0.49176360093082017, 0.3558730055780289, 0.45300427494068973, 0.4894237958986566, 0.5946376147602764], maxlen=20)\n",
      "eval_mean: 0.3078792644571557\n"
     ]
    },
    {
     "name": "stderr",
     "output_type": "stream",
     "text": [
      "\r",
      " 28%|████████████████████▌                                                    | 28194/100000 [21:36<1:54:01, 10.50it/s]"
     ]
    },
    {
     "name": "stdout",
     "output_type": "stream",
     "text": [
      "self.evaluation_deque: deque([0.0, 0.33934977991579635, 0.389461249595306, 0.0, 0.0, 0.0, 0.0, 0.3920161863532541, 0.45291766343925516, 0.4080494221651851, 0.3601682160948709, 0.22799204424591626, 0.37635978636658, 0.3436767108253267, 0.48289193803315256, 0.49176360093082017, 0.3558730055780289, 0.45300427494068973, 0.4894237958986566, 0.5946376147602764], maxlen=20)\n",
      "eval_mean: 0.3078792644571557\n"
     ]
    },
    {
     "name": "stderr",
     "output_type": "stream",
     "text": [
      "\r",
      " 28%|████████████████████▋                                                    | 28270/100000 [21:45<2:05:57,  9.49it/s]"
     ]
    },
    {
     "name": "stdout",
     "output_type": "stream",
     "text": [
      "self.get_collection_ratio(): 0.6424171636320836\n",
      "self.comms.count(True) : 2\n",
      "len(self.comms) : 3\n",
      "self.state.ratio_commed: 0.6666666666666666\n",
      "self.comms.count(True) : 2\n",
      "len(self.comms) : 3\n",
      "self.evaluation_deque: deque([0.33934977991579635, 0.389461249595306, 0.0, 0.0, 0.0, 0.0, 0.3920161863532541, 0.45291766343925516, 0.4080494221651851, 0.3601682160948709, 0.22799204424591626, 0.37635978636658, 0.3436767108253267, 0.48289193803315256, 0.49176360093082017, 0.3558730055780289, 0.45300427494068973, 0.4894237958986566, 0.5946376147602764, 0.4282781090880557], maxlen=20)\n",
      "eval_mean: 0.32929316991155855\n",
      "Saving best with: 0.32929316991155855\n"
     ]
    },
    {
     "name": "stderr",
     "output_type": "stream",
     "text": [
      "\r",
      " 28%|████████████████████▋                                                    | 28346/100000 [21:52<2:00:52,  9.88it/s]"
     ]
    },
    {
     "name": "stdout",
     "output_type": "stream",
     "text": [
      "self.evaluation_deque: deque([0.33934977991579635, 0.389461249595306, 0.0, 0.0, 0.0, 0.0, 0.3920161863532541, 0.45291766343925516, 0.4080494221651851, 0.3601682160948709, 0.22799204424591626, 0.37635978636658, 0.3436767108253267, 0.48289193803315256, 0.49176360093082017, 0.3558730055780289, 0.45300427494068973, 0.4894237958986566, 0.5946376147602764, 0.4282781090880557], maxlen=20)\n",
      "eval_mean: 0.32929316991155855\n"
     ]
    },
    {
     "name": "stderr",
     "output_type": "stream",
     "text": [
      "\r",
      " 28%|████████████████████▋                                                    | 28422/100000 [21:58<1:51:07, 10.74it/s]"
     ]
    },
    {
     "name": "stdout",
     "output_type": "stream",
     "text": [
      "self.evaluation_deque: deque([0.33934977991579635, 0.389461249595306, 0.0, 0.0, 0.0, 0.0, 0.3920161863532541, 0.45291766343925516, 0.4080494221651851, 0.3601682160948709, 0.22799204424591626, 0.37635978636658, 0.3436767108253267, 0.48289193803315256, 0.49176360093082017, 0.3558730055780289, 0.45300427494068973, 0.4894237958986566, 0.5946376147602764, 0.4282781090880557], maxlen=20)\n",
      "eval_mean: 0.32929316991155855\n"
     ]
    },
    {
     "name": "stderr",
     "output_type": "stream",
     "text": [
      "\r",
      " 28%|████████████████████▊                                                    | 28498/100000 [22:06<1:54:55, 10.37it/s]"
     ]
    },
    {
     "name": "stdout",
     "output_type": "stream",
     "text": [
      "self.evaluation_deque: deque([0.33934977991579635, 0.389461249595306, 0.0, 0.0, 0.0, 0.0, 0.3920161863532541, 0.45291766343925516, 0.4080494221651851, 0.3601682160948709, 0.22799204424591626, 0.37635978636658, 0.3436767108253267, 0.48289193803315256, 0.49176360093082017, 0.3558730055780289, 0.45300427494068973, 0.4894237958986566, 0.5946376147602764, 0.4282781090880557], maxlen=20)\n",
      "eval_mean: 0.32929316991155855\n"
     ]
    },
    {
     "name": "stderr",
     "output_type": "stream",
     "text": [
      "\r",
      " 29%|████████████████████▊                                                    | 28574/100000 [22:13<1:52:17, 10.60it/s]"
     ]
    },
    {
     "name": "stdout",
     "output_type": "stream",
     "text": [
      "self.evaluation_deque: deque([0.33934977991579635, 0.389461249595306, 0.0, 0.0, 0.0, 0.0, 0.3920161863532541, 0.45291766343925516, 0.4080494221651851, 0.3601682160948709, 0.22799204424591626, 0.37635978636658, 0.3436767108253267, 0.48289193803315256, 0.49176360093082017, 0.3558730055780289, 0.45300427494068973, 0.4894237958986566, 0.5946376147602764, 0.4282781090880557], maxlen=20)\n",
      "eval_mean: 0.32929316991155855\n"
     ]
    },
    {
     "name": "stderr",
     "output_type": "stream",
     "text": [
      "\r",
      " 29%|████████████████████▉                                                    | 28650/100000 [22:22<2:02:12,  9.73it/s]"
     ]
    },
    {
     "name": "stdout",
     "output_type": "stream",
     "text": [
      "self.get_collection_ratio(): 0.4306458367439657\n",
      "self.comms.count(True) : 1\n",
      "len(self.comms) : 1\n",
      "self.state.ratio_commed: 1.0\n",
      "self.comms.count(True) : 1\n",
      "len(self.comms) : 1\n",
      "self.evaluation_deque: deque([0.389461249595306, 0.0, 0.0, 0.0, 0.0, 0.3920161863532541, 0.45291766343925516, 0.4080494221651851, 0.3601682160948709, 0.22799204424591626, 0.37635978636658, 0.3436767108253267, 0.48289193803315256, 0.49176360093082017, 0.3558730055780289, 0.45300427494068973, 0.4894237958986566, 0.5946376147602764, 0.4282781090880557, 0.4306458367439657], maxlen=20)\n",
      "eval_mean: 0.33385797275296697\n",
      "Saving best with: 0.33385797275296697\n"
     ]
    },
    {
     "name": "stderr",
     "output_type": "stream",
     "text": [
      "\r",
      " 29%|████████████████████▉                                                    | 28726/100000 [22:30<2:03:34,  9.61it/s]"
     ]
    },
    {
     "name": "stdout",
     "output_type": "stream",
     "text": [
      "self.evaluation_deque: deque([0.389461249595306, 0.0, 0.0, 0.0, 0.0, 0.3920161863532541, 0.45291766343925516, 0.4080494221651851, 0.3601682160948709, 0.22799204424591626, 0.37635978636658, 0.3436767108253267, 0.48289193803315256, 0.49176360093082017, 0.3558730055780289, 0.45300427494068973, 0.4894237958986566, 0.5946376147602764, 0.4282781090880557, 0.4306458367439657], maxlen=20)\n",
      "eval_mean: 0.33385797275296697\n"
     ]
    },
    {
     "name": "stderr",
     "output_type": "stream",
     "text": [
      "\r",
      " 29%|█████████████████████                                                    | 28802/100000 [22:37<1:58:45,  9.99it/s]"
     ]
    },
    {
     "name": "stdout",
     "output_type": "stream",
     "text": [
      "self.evaluation_deque: deque([0.389461249595306, 0.0, 0.0, 0.0, 0.0, 0.3920161863532541, 0.45291766343925516, 0.4080494221651851, 0.3601682160948709, 0.22799204424591626, 0.37635978636658, 0.3436767108253267, 0.48289193803315256, 0.49176360093082017, 0.3558730055780289, 0.45300427494068973, 0.4894237958986566, 0.5946376147602764, 0.4282781090880557, 0.4306458367439657], maxlen=20)\n",
      "eval_mean: 0.33385797275296697\n"
     ]
    },
    {
     "name": "stderr",
     "output_type": "stream",
     "text": [
      "\r",
      " 29%|█████████████████████                                                    | 28878/100000 [22:45<2:01:19,  9.77it/s]"
     ]
    },
    {
     "name": "stdout",
     "output_type": "stream",
     "text": [
      "self.evaluation_deque: deque([0.389461249595306, 0.0, 0.0, 0.0, 0.0, 0.3920161863532541, 0.45291766343925516, 0.4080494221651851, 0.3601682160948709, 0.22799204424591626, 0.37635978636658, 0.3436767108253267, 0.48289193803315256, 0.49176360093082017, 0.3558730055780289, 0.45300427494068973, 0.4894237958986566, 0.5946376147602764, 0.4282781090880557, 0.4306458367439657], maxlen=20)\n",
      "eval_mean: 0.33385797275296697\n"
     ]
    },
    {
     "name": "stderr",
     "output_type": "stream",
     "text": [
      "\r",
      " 29%|█████████████████████▏                                                   | 28954/100000 [22:53<2:03:05,  9.62it/s]"
     ]
    },
    {
     "name": "stdout",
     "output_type": "stream",
     "text": [
      "self.evaluation_deque: deque([0.389461249595306, 0.0, 0.0, 0.0, 0.0, 0.3920161863532541, 0.45291766343925516, 0.4080494221651851, 0.3601682160948709, 0.22799204424591626, 0.37635978636658, 0.3436767108253267, 0.48289193803315256, 0.49176360093082017, 0.3558730055780289, 0.45300427494068973, 0.4894237958986566, 0.5946376147602764, 0.4282781090880557, 0.4306458367439657], maxlen=20)\n",
      "eval_mean: 0.33385797275296697\n"
     ]
    },
    {
     "name": "stderr",
     "output_type": "stream",
     "text": [
      "\r",
      " 29%|█████████████████████▏                                                   | 29030/100000 [23:04<2:13:46,  8.84it/s]"
     ]
    },
    {
     "name": "stdout",
     "output_type": "stream",
     "text": [
      "self.get_collection_ratio(): 0.6457806575459896\n",
      "self.comms.count(True) : 3\n",
      "len(self.comms) : 3\n",
      "self.state.ratio_commed: 1.0\n",
      "self.comms.count(True) : 3\n",
      "len(self.comms) : 3\n",
      "self.evaluation_deque: deque([0.0, 0.0, 0.0, 0.0, 0.3920161863532541, 0.45291766343925516, 0.4080494221651851, 0.3601682160948709, 0.22799204424591626, 0.37635978636658, 0.3436767108253267, 0.48289193803315256, 0.49176360093082017, 0.3558730055780289, 0.45300427494068973, 0.4894237958986566, 0.5946376147602764, 0.4282781090880557, 0.4306458367439657, 0.6457806575459896], maxlen=20)\n",
      "eval_mean: 0.34667394315050115\n",
      "Saving best with: 0.34667394315050115\n"
     ]
    },
    {
     "name": "stderr",
     "output_type": "stream",
     "text": [
      "\r",
      " 29%|█████████████████████▏                                                   | 29106/100000 [23:11<2:05:54,  9.38it/s]"
     ]
    },
    {
     "name": "stdout",
     "output_type": "stream",
     "text": [
      "self.evaluation_deque: deque([0.0, 0.0, 0.0, 0.0, 0.3920161863532541, 0.45291766343925516, 0.4080494221651851, 0.3601682160948709, 0.22799204424591626, 0.37635978636658, 0.3436767108253267, 0.48289193803315256, 0.49176360093082017, 0.3558730055780289, 0.45300427494068973, 0.4894237958986566, 0.5946376147602764, 0.4282781090880557, 0.4306458367439657, 0.6457806575459896], maxlen=20)\n",
      "eval_mean: 0.34667394315050115\n"
     ]
    },
    {
     "name": "stderr",
     "output_type": "stream",
     "text": [
      "\r",
      " 29%|█████████████████████▎                                                   | 29182/100000 [23:18<2:04:48,  9.46it/s]"
     ]
    },
    {
     "name": "stdout",
     "output_type": "stream",
     "text": [
      "self.evaluation_deque: deque([0.0, 0.0, 0.0, 0.0, 0.3920161863532541, 0.45291766343925516, 0.4080494221651851, 0.3601682160948709, 0.22799204424591626, 0.37635978636658, 0.3436767108253267, 0.48289193803315256, 0.49176360093082017, 0.3558730055780289, 0.45300427494068973, 0.4894237958986566, 0.5946376147602764, 0.4282781090880557, 0.4306458367439657, 0.6457806575459896], maxlen=20)\n",
      "eval_mean: 0.34667394315050115\n"
     ]
    },
    {
     "name": "stderr",
     "output_type": "stream",
     "text": [
      "\r",
      " 29%|█████████████████████▎                                                   | 29258/100000 [23:27<2:05:09,  9.42it/s]"
     ]
    },
    {
     "name": "stdout",
     "output_type": "stream",
     "text": [
      "self.evaluation_deque: deque([0.0, 0.0, 0.0, 0.0, 0.3920161863532541, 0.45291766343925516, 0.4080494221651851, 0.3601682160948709, 0.22799204424591626, 0.37635978636658, 0.3436767108253267, 0.48289193803315256, 0.49176360093082017, 0.3558730055780289, 0.45300427494068973, 0.4894237958986566, 0.5946376147602764, 0.4282781090880557, 0.4306458367439657, 0.6457806575459896], maxlen=20)\n",
      "eval_mean: 0.34667394315050115\n"
     ]
    },
    {
     "name": "stderr",
     "output_type": "stream",
     "text": [
      "\r",
      " 29%|█████████████████████▍                                                   | 29334/100000 [23:36<2:09:02,  9.13it/s]"
     ]
    },
    {
     "name": "stdout",
     "output_type": "stream",
     "text": [
      "self.evaluation_deque: deque([0.0, 0.0, 0.0, 0.0, 0.3920161863532541, 0.45291766343925516, 0.4080494221651851, 0.3601682160948709, 0.22799204424591626, 0.37635978636658, 0.3436767108253267, 0.48289193803315256, 0.49176360093082017, 0.3558730055780289, 0.45300427494068973, 0.4894237958986566, 0.5946376147602764, 0.4282781090880557, 0.4306458367439657, 0.6457806575459896], maxlen=20)\n",
      "eval_mean: 0.34667394315050115\n"
     ]
    },
    {
     "name": "stderr",
     "output_type": "stream",
     "text": [
      "\r",
      " 29%|█████████████████████▍                                                   | 29410/100000 [23:45<2:13:17,  8.83it/s]"
     ]
    },
    {
     "name": "stdout",
     "output_type": "stream",
     "text": [
      "self.get_collection_ratio(): 0.5595095349274635\n",
      "self.comms.count(True) : 2\n",
      "len(self.comms) : 2\n",
      "self.state.ratio_commed: 1.0\n",
      "self.comms.count(True) : 2\n",
      "len(self.comms) : 2\n",
      "self.evaluation_deque: deque([0.0, 0.0, 0.0, 0.3920161863532541, 0.45291766343925516, 0.4080494221651851, 0.3601682160948709, 0.22799204424591626, 0.37635978636658, 0.3436767108253267, 0.48289193803315256, 0.49176360093082017, 0.3558730055780289, 0.45300427494068973, 0.4894237958986566, 0.5946376147602764, 0.4282781090880557, 0.4306458367439657, 0.6457806575459896, 0.5595095349274635], maxlen=20)\n",
      "eval_mean: 0.37464941989687434\n",
      "Saving best with: 0.37464941989687434\n"
     ]
    },
    {
     "name": "stderr",
     "output_type": "stream",
     "text": [
      "\r",
      " 29%|█████████████████████▌                                                   | 29486/100000 [23:53<2:11:03,  8.97it/s]"
     ]
    },
    {
     "name": "stdout",
     "output_type": "stream",
     "text": [
      "self.evaluation_deque: deque([0.0, 0.0, 0.0, 0.3920161863532541, 0.45291766343925516, 0.4080494221651851, 0.3601682160948709, 0.22799204424591626, 0.37635978636658, 0.3436767108253267, 0.48289193803315256, 0.49176360093082017, 0.3558730055780289, 0.45300427494068973, 0.4894237958986566, 0.5946376147602764, 0.4282781090880557, 0.4306458367439657, 0.6457806575459896, 0.5595095349274635], maxlen=20)\n",
      "eval_mean: 0.37464941989687434\n"
     ]
    },
    {
     "name": "stderr",
     "output_type": "stream",
     "text": [
      "\r",
      " 30%|█████████████████████▌                                                   | 29546/100000 [23:58<2:00:25,  9.75it/s]"
     ]
    },
    {
     "name": "stdout",
     "output_type": "stream",
     "text": [
      "self.evaluation_deque: deque([0.0, 0.0, 0.0, 0.3920161863532541, 0.45291766343925516, 0.4080494221651851, 0.3601682160948709, 0.22799204424591626, 0.37635978636658, 0.3436767108253267, 0.48289193803315256, 0.49176360093082017, 0.3558730055780289, 0.45300427494068973, 0.4894237958986566, 0.5946376147602764, 0.4282781090880557, 0.4306458367439657, 0.6457806575459896, 0.5595095349274635], maxlen=20)\n",
      "eval_mean: 0.37464941989687434\n"
     ]
    },
    {
     "name": "stderr",
     "output_type": "stream",
     "text": [
      "\r",
      " 30%|█████████████████████▌                                                   | 29606/100000 [24:02<1:51:43, 10.50it/s]"
     ]
    },
    {
     "name": "stdout",
     "output_type": "stream",
     "text": [
      "self.evaluation_deque: deque([0.0, 0.0, 0.0, 0.3920161863532541, 0.45291766343925516, 0.4080494221651851, 0.3601682160948709, 0.22799204424591626, 0.37635978636658, 0.3436767108253267, 0.48289193803315256, 0.49176360093082017, 0.3558730055780289, 0.45300427494068973, 0.4894237958986566, 0.5946376147602764, 0.4282781090880557, 0.4306458367439657, 0.6457806575459896, 0.5595095349274635], maxlen=20)\n",
      "eval_mean: 0.37464941989687434\n"
     ]
    },
    {
     "name": "stderr",
     "output_type": "stream",
     "text": [
      "\r",
      " 30%|█████████████████████▋                                                   | 29682/100000 [24:09<1:50:02, 10.65it/s]"
     ]
    },
    {
     "name": "stdout",
     "output_type": "stream",
     "text": [
      "self.evaluation_deque: deque([0.0, 0.0, 0.0, 0.3920161863532541, 0.45291766343925516, 0.4080494221651851, 0.3601682160948709, 0.22799204424591626, 0.37635978636658, 0.3436767108253267, 0.48289193803315256, 0.49176360093082017, 0.3558730055780289, 0.45300427494068973, 0.4894237958986566, 0.5946376147602764, 0.4282781090880557, 0.4306458367439657, 0.6457806575459896, 0.5595095349274635], maxlen=20)\n",
      "eval_mean: 0.37464941989687434\n"
     ]
    },
    {
     "name": "stderr",
     "output_type": "stream",
     "text": [
      " 30%|█████████████████████▋                                                   | 29758/100000 [24:20<2:09:54,  9.01it/s]"
     ]
    },
    {
     "name": "stdout",
     "output_type": "stream",
     "text": [
      "self.get_collection_ratio(): 0.6692246842281702\n",
      "self.comms.count(True) : 3\n",
      "len(self.comms) : 3\n",
      "self.state.ratio_commed: 1.0\n",
      "self.comms.count(True) : 3\n",
      "len(self.comms) : 3\n",
      "self.evaluation_deque: deque([0.0, 0.0, 0.3920161863532541, 0.45291766343925516, 0.4080494221651851, 0.3601682160948709, 0.22799204424591626, 0.37635978636658, 0.3436767108253267, 0.48289193803315256, 0.49176360093082017, 0.3558730055780289, 0.45300427494068973, 0.4894237958986566, 0.5946376147602764, 0.4282781090880557, 0.4306458367439657, 0.6457806575459896, 0.5595095349274635, 0.6692246842281702], maxlen=20)\n",
      "eval_mean: 0.40811065410828296\n",
      "Saving best with: 0.40811065410828296\n"
     ]
    },
    {
     "name": "stderr",
     "output_type": "stream",
     "text": [
      "\r",
      " 30%|█████████████████████▊                                                   | 29834/100000 [24:27<2:02:54,  9.52it/s]"
     ]
    },
    {
     "name": "stdout",
     "output_type": "stream",
     "text": [
      "self.evaluation_deque: deque([0.0, 0.0, 0.3920161863532541, 0.45291766343925516, 0.4080494221651851, 0.3601682160948709, 0.22799204424591626, 0.37635978636658, 0.3436767108253267, 0.48289193803315256, 0.49176360093082017, 0.3558730055780289, 0.45300427494068973, 0.4894237958986566, 0.5946376147602764, 0.4282781090880557, 0.4306458367439657, 0.6457806575459896, 0.5595095349274635, 0.6692246842281702], maxlen=20)\n",
      "eval_mean: 0.40811065410828296\n"
     ]
    },
    {
     "name": "stderr",
     "output_type": "stream",
     "text": [
      "\r",
      " 30%|█████████████████████▊                                                   | 29910/100000 [24:34<1:56:50, 10.00it/s]"
     ]
    },
    {
     "name": "stdout",
     "output_type": "stream",
     "text": [
      "self.evaluation_deque: deque([0.0, 0.0, 0.3920161863532541, 0.45291766343925516, 0.4080494221651851, 0.3601682160948709, 0.22799204424591626, 0.37635978636658, 0.3436767108253267, 0.48289193803315256, 0.49176360093082017, 0.3558730055780289, 0.45300427494068973, 0.4894237958986566, 0.5946376147602764, 0.4282781090880557, 0.4306458367439657, 0.6457806575459896, 0.5595095349274635, 0.6692246842281702], maxlen=20)\n",
      "eval_mean: 0.40811065410828296\n"
     ]
    },
    {
     "name": "stderr",
     "output_type": "stream",
     "text": [
      "\r",
      " 30%|█████████████████████▉                                                   | 29986/100000 [24:40<1:47:57, 10.81it/s]"
     ]
    },
    {
     "name": "stdout",
     "output_type": "stream",
     "text": [
      "self.evaluation_deque: deque([0.0, 0.0, 0.3920161863532541, 0.45291766343925516, 0.4080494221651851, 0.3601682160948709, 0.22799204424591626, 0.37635978636658, 0.3436767108253267, 0.48289193803315256, 0.49176360093082017, 0.3558730055780289, 0.45300427494068973, 0.4894237958986566, 0.5946376147602764, 0.4282781090880557, 0.4306458367439657, 0.6457806575459896, 0.5595095349274635, 0.6692246842281702], maxlen=20)\n",
      "eval_mean: 0.40811065410828296\n"
     ]
    },
    {
     "name": "stderr",
     "output_type": "stream",
     "text": [
      "\r",
      " 30%|█████████████████████▉                                                   | 30062/100000 [24:47<1:47:15, 10.87it/s]"
     ]
    },
    {
     "name": "stdout",
     "output_type": "stream",
     "text": [
      "self.evaluation_deque: deque([0.0, 0.0, 0.3920161863532541, 0.45291766343925516, 0.4080494221651851, 0.3601682160948709, 0.22799204424591626, 0.37635978636658, 0.3436767108253267, 0.48289193803315256, 0.49176360093082017, 0.3558730055780289, 0.45300427494068973, 0.4894237958986566, 0.5946376147602764, 0.4282781090880557, 0.4306458367439657, 0.6457806575459896, 0.5595095349274635, 0.6692246842281702], maxlen=20)\n",
      "eval_mean: 0.40811065410828296\n"
     ]
    },
    {
     "name": "stderr",
     "output_type": "stream",
     "text": [
      "\r",
      " 30%|██████████████████████                                                   | 30138/100000 [24:56<1:57:25,  9.92it/s]"
     ]
    },
    {
     "name": "stdout",
     "output_type": "stream",
     "text": [
      "self.get_collection_ratio(): 0.6113486839382838\n",
      "self.comms.count(True) : 2\n",
      "len(self.comms) : 2\n",
      "self.state.ratio_commed: 1.0\n",
      "self.comms.count(True) : 2\n",
      "len(self.comms) : 2\n",
      "self.evaluation_deque: deque([0.0, 0.3920161863532541, 0.45291766343925516, 0.4080494221651851, 0.3601682160948709, 0.22799204424591626, 0.37635978636658, 0.3436767108253267, 0.48289193803315256, 0.49176360093082017, 0.3558730055780289, 0.45300427494068973, 0.4894237958986566, 0.5946376147602764, 0.4282781090880557, 0.4306458367439657, 0.6457806575459896, 0.5595095349274635, 0.6692246842281702, 0.6113486839382838], maxlen=20)\n",
      "eval_mean: 0.438678088305197\n",
      "Saving best with: 0.438678088305197\n"
     ]
    },
    {
     "name": "stderr",
     "output_type": "stream",
     "text": [
      "\r",
      " 30%|██████████████████████                                                   | 30214/100000 [25:01<1:48:21, 10.73it/s]"
     ]
    },
    {
     "name": "stdout",
     "output_type": "stream",
     "text": [
      "self.evaluation_deque: deque([0.0, 0.3920161863532541, 0.45291766343925516, 0.4080494221651851, 0.3601682160948709, 0.22799204424591626, 0.37635978636658, 0.3436767108253267, 0.48289193803315256, 0.49176360093082017, 0.3558730055780289, 0.45300427494068973, 0.4894237958986566, 0.5946376147602764, 0.4282781090880557, 0.4306458367439657, 0.6457806575459896, 0.5595095349274635, 0.6692246842281702, 0.6113486839382838], maxlen=20)\n",
      "eval_mean: 0.438678088305197\n"
     ]
    },
    {
     "name": "stderr",
     "output_type": "stream",
     "text": [
      "\r",
      " 30%|██████████████████████                                                   | 30290/100000 [25:08<1:47:38, 10.79it/s]"
     ]
    },
    {
     "name": "stdout",
     "output_type": "stream",
     "text": [
      "self.evaluation_deque: deque([0.0, 0.3920161863532541, 0.45291766343925516, 0.4080494221651851, 0.3601682160948709, 0.22799204424591626, 0.37635978636658, 0.3436767108253267, 0.48289193803315256, 0.49176360093082017, 0.3558730055780289, 0.45300427494068973, 0.4894237958986566, 0.5946376147602764, 0.4282781090880557, 0.4306458367439657, 0.6457806575459896, 0.5595095349274635, 0.6692246842281702, 0.6113486839382838], maxlen=20)\n",
      "eval_mean: 0.438678088305197\n"
     ]
    },
    {
     "name": "stderr",
     "output_type": "stream",
     "text": [
      "\r",
      " 30%|██████████████████████▏                                                  | 30366/100000 [25:17<1:52:31, 10.31it/s]"
     ]
    },
    {
     "name": "stdout",
     "output_type": "stream",
     "text": [
      "self.evaluation_deque: deque([0.0, 0.3920161863532541, 0.45291766343925516, 0.4080494221651851, 0.3601682160948709, 0.22799204424591626, 0.37635978636658, 0.3436767108253267, 0.48289193803315256, 0.49176360093082017, 0.3558730055780289, 0.45300427494068973, 0.4894237958986566, 0.5946376147602764, 0.4282781090880557, 0.4306458367439657, 0.6457806575459896, 0.5595095349274635, 0.6692246842281702, 0.6113486839382838], maxlen=20)\n",
      "eval_mean: 0.438678088305197\n"
     ]
    },
    {
     "name": "stderr",
     "output_type": "stream",
     "text": [
      "\r",
      " 30%|██████████████████████▏                                                  | 30442/100000 [25:23<1:45:59, 10.94it/s]"
     ]
    },
    {
     "name": "stdout",
     "output_type": "stream",
     "text": [
      "self.evaluation_deque: deque([0.0, 0.3920161863532541, 0.45291766343925516, 0.4080494221651851, 0.3601682160948709, 0.22799204424591626, 0.37635978636658, 0.3436767108253267, 0.48289193803315256, 0.49176360093082017, 0.3558730055780289, 0.45300427494068973, 0.4894237958986566, 0.5946376147602764, 0.4282781090880557, 0.4306458367439657, 0.6457806575459896, 0.5595095349274635, 0.6692246842281702, 0.6113486839382838], maxlen=20)\n",
      "eval_mean: 0.438678088305197\n"
     ]
    },
    {
     "name": "stderr",
     "output_type": "stream",
     "text": [
      "\r",
      " 31%|██████████████████████▎                                                  | 30518/100000 [25:32<1:55:21, 10.04it/s]"
     ]
    },
    {
     "name": "stdout",
     "output_type": "stream",
     "text": [
      "self.get_collection_ratio(): 0.5510659334162277\n",
      "self.comms.count(True) : 3\n",
      "len(self.comms) : 3\n",
      "self.state.ratio_commed: 1.0\n",
      "self.comms.count(True) : 3\n",
      "len(self.comms) : 3\n",
      "self.evaluation_deque: deque([0.3920161863532541, 0.45291766343925516, 0.4080494221651851, 0.3601682160948709, 0.22799204424591626, 0.37635978636658, 0.3436767108253267, 0.48289193803315256, 0.49176360093082017, 0.3558730055780289, 0.45300427494068973, 0.4894237958986566, 0.5946376147602764, 0.4282781090880557, 0.4306458367439657, 0.6457806575459896, 0.5595095349274635, 0.6692246842281702, 0.6113486839382838, 0.5510659334162277], maxlen=20)\n",
      "eval_mean: 0.46623138497600836\n",
      "Saving best with: 0.46623138497600836\n"
     ]
    },
    {
     "name": "stderr",
     "output_type": "stream",
     "text": [
      "\r",
      " 31%|██████████████████████▎                                                  | 30594/100000 [25:37<1:46:57, 10.81it/s]"
     ]
    },
    {
     "name": "stdout",
     "output_type": "stream",
     "text": [
      "self.evaluation_deque: deque([0.3920161863532541, 0.45291766343925516, 0.4080494221651851, 0.3601682160948709, 0.22799204424591626, 0.37635978636658, 0.3436767108253267, 0.48289193803315256, 0.49176360093082017, 0.3558730055780289, 0.45300427494068973, 0.4894237958986566, 0.5946376147602764, 0.4282781090880557, 0.4306458367439657, 0.6457806575459896, 0.5595095349274635, 0.6692246842281702, 0.6113486839382838, 0.5510659334162277], maxlen=20)\n",
      "eval_mean: 0.46623138497600836\n"
     ]
    },
    {
     "name": "stderr",
     "output_type": "stream",
     "text": [
      "\r",
      " 31%|██████████████████████▍                                                  | 30654/100000 [25:42<1:41:54, 11.34it/s]"
     ]
    },
    {
     "name": "stdout",
     "output_type": "stream",
     "text": [
      "self.evaluation_deque: deque([0.3920161863532541, 0.45291766343925516, 0.4080494221651851, 0.3601682160948709, 0.22799204424591626, 0.37635978636658, 0.3436767108253267, 0.48289193803315256, 0.49176360093082017, 0.3558730055780289, 0.45300427494068973, 0.4894237958986566, 0.5946376147602764, 0.4282781090880557, 0.4306458367439657, 0.6457806575459896, 0.5595095349274635, 0.6692246842281702, 0.6113486839382838, 0.5510659334162277], maxlen=20)\n",
      "eval_mean: 0.46623138497600836\n"
     ]
    },
    {
     "name": "stderr",
     "output_type": "stream",
     "text": [
      "\r",
      " 31%|██████████████████████▍                                                  | 30730/100000 [25:50<1:48:20, 10.66it/s]"
     ]
    },
    {
     "name": "stdout",
     "output_type": "stream",
     "text": [
      "self.evaluation_deque: deque([0.3920161863532541, 0.45291766343925516, 0.4080494221651851, 0.3601682160948709, 0.22799204424591626, 0.37635978636658, 0.3436767108253267, 0.48289193803315256, 0.49176360093082017, 0.3558730055780289, 0.45300427494068973, 0.4894237958986566, 0.5946376147602764, 0.4282781090880557, 0.4306458367439657, 0.6457806575459896, 0.5595095349274635, 0.6692246842281702, 0.6113486839382838, 0.5510659334162277], maxlen=20)\n",
      "eval_mean: 0.46623138497600836\n"
     ]
    },
    {
     "name": "stderr",
     "output_type": "stream",
     "text": [
      "\r",
      " 31%|██████████████████████▍                                                  | 30806/100000 [25:59<1:57:06,  9.85it/s]"
     ]
    },
    {
     "name": "stdout",
     "output_type": "stream",
     "text": [
      "self.evaluation_deque: deque([0.3920161863532541, 0.45291766343925516, 0.4080494221651851, 0.3601682160948709, 0.22799204424591626, 0.37635978636658, 0.3436767108253267, 0.48289193803315256, 0.49176360093082017, 0.3558730055780289, 0.45300427494068973, 0.4894237958986566, 0.5946376147602764, 0.4282781090880557, 0.4306458367439657, 0.6457806575459896, 0.5595095349274635, 0.6692246842281702, 0.6113486839382838, 0.5510659334162277], maxlen=20)\n",
      "eval_mean: 0.46623138497600836\n"
     ]
    },
    {
     "name": "stderr",
     "output_type": "stream",
     "text": [
      " 31%|██████████████████████▌                                                  | 30882/100000 [26:10<2:14:26,  8.57it/s]"
     ]
    },
    {
     "name": "stdout",
     "output_type": "stream",
     "text": [
      "self.get_collection_ratio(): 0.6313760719849865\n",
      "self.comms.count(True) : 3\n",
      "len(self.comms) : 3\n",
      "self.state.ratio_commed: 1.0\n",
      "self.comms.count(True) : 3\n",
      "len(self.comms) : 3\n",
      "self.evaluation_deque: deque([0.45291766343925516, 0.4080494221651851, 0.3601682160948709, 0.22799204424591626, 0.37635978636658, 0.3436767108253267, 0.48289193803315256, 0.49176360093082017, 0.3558730055780289, 0.45300427494068973, 0.4894237958986566, 0.5946376147602764, 0.4282781090880557, 0.4306458367439657, 0.6457806575459896, 0.5595095349274635, 0.6692246842281702, 0.6113486839382838, 0.5510659334162277, 0.6313760719849865], maxlen=20)\n",
      "eval_mean: 0.47819937925759504\n",
      "Saving best with: 0.47819937925759504\n"
     ]
    },
    {
     "name": "stderr",
     "output_type": "stream",
     "text": [
      "\r",
      " 31%|██████████████████████▌                                                  | 30958/100000 [26:16<1:59:51,  9.60it/s]"
     ]
    },
    {
     "name": "stdout",
     "output_type": "stream",
     "text": [
      "self.evaluation_deque: deque([0.45291766343925516, 0.4080494221651851, 0.3601682160948709, 0.22799204424591626, 0.37635978636658, 0.3436767108253267, 0.48289193803315256, 0.49176360093082017, 0.3558730055780289, 0.45300427494068973, 0.4894237958986566, 0.5946376147602764, 0.4282781090880557, 0.4306458367439657, 0.6457806575459896, 0.5595095349274635, 0.6692246842281702, 0.6113486839382838, 0.5510659334162277, 0.6313760719849865], maxlen=20)\n",
      "eval_mean: 0.47819937925759504\n"
     ]
    },
    {
     "name": "stderr",
     "output_type": "stream",
     "text": [
      "\r",
      " 31%|██████████████████████▋                                                  | 31034/100000 [26:24<2:00:37,  9.53it/s]"
     ]
    },
    {
     "name": "stdout",
     "output_type": "stream",
     "text": [
      "self.evaluation_deque: deque([0.45291766343925516, 0.4080494221651851, 0.3601682160948709, 0.22799204424591626, 0.37635978636658, 0.3436767108253267, 0.48289193803315256, 0.49176360093082017, 0.3558730055780289, 0.45300427494068973, 0.4894237958986566, 0.5946376147602764, 0.4282781090880557, 0.4306458367439657, 0.6457806575459896, 0.5595095349274635, 0.6692246842281702, 0.6113486839382838, 0.5510659334162277, 0.6313760719849865], maxlen=20)\n",
      "eval_mean: 0.47819937925759504\n"
     ]
    },
    {
     "name": "stderr",
     "output_type": "stream",
     "text": [
      "\r",
      " 31%|██████████████████████▋                                                  | 31110/100000 [26:30<1:50:03, 10.43it/s]"
     ]
    },
    {
     "name": "stdout",
     "output_type": "stream",
     "text": [
      "self.evaluation_deque: deque([0.45291766343925516, 0.4080494221651851, 0.3601682160948709, 0.22799204424591626, 0.37635978636658, 0.3436767108253267, 0.48289193803315256, 0.49176360093082017, 0.3558730055780289, 0.45300427494068973, 0.4894237958986566, 0.5946376147602764, 0.4282781090880557, 0.4306458367439657, 0.6457806575459896, 0.5595095349274635, 0.6692246842281702, 0.6113486839382838, 0.5510659334162277, 0.6313760719849865], maxlen=20)\n",
      "eval_mean: 0.47819937925759504\n"
     ]
    },
    {
     "name": "stderr",
     "output_type": "stream",
     "text": [
      "\r",
      " 31%|██████████████████████▊                                                  | 31186/100000 [26:36<1:42:59, 11.14it/s]"
     ]
    },
    {
     "name": "stdout",
     "output_type": "stream",
     "text": [
      "self.evaluation_deque: deque([0.45291766343925516, 0.4080494221651851, 0.3601682160948709, 0.22799204424591626, 0.37635978636658, 0.3436767108253267, 0.48289193803315256, 0.49176360093082017, 0.3558730055780289, 0.45300427494068973, 0.4894237958986566, 0.5946376147602764, 0.4282781090880557, 0.4306458367439657, 0.6457806575459896, 0.5595095349274635, 0.6692246842281702, 0.6113486839382838, 0.5510659334162277, 0.6313760719849865], maxlen=20)\n",
      "eval_mean: 0.47819937925759504\n"
     ]
    },
    {
     "name": "stderr",
     "output_type": "stream",
     "text": [
      "\r",
      " 31%|██████████████████████▊                                                  | 31262/100000 [26:45<1:54:35, 10.00it/s]"
     ]
    },
    {
     "name": "stdout",
     "output_type": "stream",
     "text": [
      "self.get_collection_ratio(): 0.6426317286242407\n",
      "self.comms.count(True) : 2\n",
      "len(self.comms) : 2\n",
      "self.state.ratio_commed: 1.0\n",
      "self.comms.count(True) : 2\n",
      "len(self.comms) : 2\n",
      "self.evaluation_deque: deque([0.4080494221651851, 0.3601682160948709, 0.22799204424591626, 0.37635978636658, 0.3436767108253267, 0.48289193803315256, 0.49176360093082017, 0.3558730055780289, 0.45300427494068973, 0.4894237958986566, 0.5946376147602764, 0.4282781090880557, 0.4306458367439657, 0.6457806575459896, 0.5595095349274635, 0.6692246842281702, 0.6113486839382838, 0.5510659334162277, 0.6313760719849865, 0.6426317286242407], maxlen=20)\n",
      "eval_mean: 0.4876850825168443\n",
      "Saving best with: 0.4876850825168443\n"
     ]
    },
    {
     "name": "stderr",
     "output_type": "stream",
     "text": [
      "\r",
      " 31%|██████████████████████▉                                                  | 31338/100000 [26:52<1:50:44, 10.33it/s]"
     ]
    },
    {
     "name": "stdout",
     "output_type": "stream",
     "text": [
      "self.evaluation_deque: deque([0.4080494221651851, 0.3601682160948709, 0.22799204424591626, 0.37635978636658, 0.3436767108253267, 0.48289193803315256, 0.49176360093082017, 0.3558730055780289, 0.45300427494068973, 0.4894237958986566, 0.5946376147602764, 0.4282781090880557, 0.4306458367439657, 0.6457806575459896, 0.5595095349274635, 0.6692246842281702, 0.6113486839382838, 0.5510659334162277, 0.6313760719849865, 0.6426317286242407], maxlen=20)\n",
      "eval_mean: 0.4876850825168443\n"
     ]
    },
    {
     "name": "stderr",
     "output_type": "stream",
     "text": [
      "\r",
      " 31%|██████████████████████▉                                                  | 31414/100000 [27:00<1:55:56,  9.86it/s]"
     ]
    },
    {
     "name": "stdout",
     "output_type": "stream",
     "text": [
      "self.evaluation_deque: deque([0.4080494221651851, 0.3601682160948709, 0.22799204424591626, 0.37635978636658, 0.3436767108253267, 0.48289193803315256, 0.49176360093082017, 0.3558730055780289, 0.45300427494068973, 0.4894237958986566, 0.5946376147602764, 0.4282781090880557, 0.4306458367439657, 0.6457806575459896, 0.5595095349274635, 0.6692246842281702, 0.6113486839382838, 0.5510659334162277, 0.6313760719849865, 0.6426317286242407], maxlen=20)\n",
      "eval_mean: 0.4876850825168443\n"
     ]
    },
    {
     "name": "stderr",
     "output_type": "stream",
     "text": [
      "\r",
      " 31%|██████████████████████▉                                                  | 31490/100000 [27:09<1:57:38,  9.71it/s]"
     ]
    },
    {
     "name": "stdout",
     "output_type": "stream",
     "text": [
      "self.evaluation_deque: deque([0.4080494221651851, 0.3601682160948709, 0.22799204424591626, 0.37635978636658, 0.3436767108253267, 0.48289193803315256, 0.49176360093082017, 0.3558730055780289, 0.45300427494068973, 0.4894237958986566, 0.5946376147602764, 0.4282781090880557, 0.4306458367439657, 0.6457806575459896, 0.5595095349274635, 0.6692246842281702, 0.6113486839382838, 0.5510659334162277, 0.6313760719849865, 0.6426317286242407], maxlen=20)\n",
      "eval_mean: 0.4876850825168443\n"
     ]
    },
    {
     "name": "stderr",
     "output_type": "stream",
     "text": [
      "\r",
      " 32%|███████████████████████                                                  | 31566/100000 [27:17<1:58:04,  9.66it/s]"
     ]
    },
    {
     "name": "stdout",
     "output_type": "stream",
     "text": [
      "self.evaluation_deque: deque([0.4080494221651851, 0.3601682160948709, 0.22799204424591626, 0.37635978636658, 0.3436767108253267, 0.48289193803315256, 0.49176360093082017, 0.3558730055780289, 0.45300427494068973, 0.4894237958986566, 0.5946376147602764, 0.4282781090880557, 0.4306458367439657, 0.6457806575459896, 0.5595095349274635, 0.6692246842281702, 0.6113486839382838, 0.5510659334162277, 0.6313760719849865, 0.6426317286242407], maxlen=20)\n",
      "eval_mean: 0.4876850825168443\n"
     ]
    },
    {
     "name": "stderr",
     "output_type": "stream",
     "text": [
      "\r",
      " 32%|███████████████████████                                                  | 31642/100000 [27:28<2:12:59,  8.57it/s]"
     ]
    },
    {
     "name": "stdout",
     "output_type": "stream",
     "text": [
      "self.get_collection_ratio(): 0.6129427498687765\n",
      "self.comms.count(True) : 3\n",
      "len(self.comms) : 3\n",
      "self.state.ratio_commed: 1.0\n",
      "self.comms.count(True) : 3\n",
      "len(self.comms) : 3\n",
      "self.evaluation_deque: deque([0.3601682160948709, 0.22799204424591626, 0.37635978636658, 0.3436767108253267, 0.48289193803315256, 0.49176360093082017, 0.3558730055780289, 0.45300427494068973, 0.4894237958986566, 0.5946376147602764, 0.4282781090880557, 0.4306458367439657, 0.6457806575459896, 0.5595095349274635, 0.6692246842281702, 0.6113486839382838, 0.5510659334162277, 0.6313760719849865, 0.6426317286242407, 0.6129427498687765], maxlen=20)\n",
      "eval_mean: 0.4979297489020239\n",
      "Saving best with: 0.4979297489020239\n"
     ]
    },
    {
     "name": "stderr",
     "output_type": "stream",
     "text": [
      "\r",
      " 32%|███████████████████████▏                                                 | 31718/100000 [27:35<2:03:35,  9.21it/s]"
     ]
    },
    {
     "name": "stdout",
     "output_type": "stream",
     "text": [
      "self.evaluation_deque: deque([0.3601682160948709, 0.22799204424591626, 0.37635978636658, 0.3436767108253267, 0.48289193803315256, 0.49176360093082017, 0.3558730055780289, 0.45300427494068973, 0.4894237958986566, 0.5946376147602764, 0.4282781090880557, 0.4306458367439657, 0.6457806575459896, 0.5595095349274635, 0.6692246842281702, 0.6113486839382838, 0.5510659334162277, 0.6313760719849865, 0.6426317286242407, 0.6129427498687765], maxlen=20)\n",
      "eval_mean: 0.4979297489020239\n"
     ]
    },
    {
     "name": "stderr",
     "output_type": "stream",
     "text": [
      "\r",
      " 32%|███████████████████████▏                                                 | 31794/100000 [27:40<1:51:38, 10.18it/s]"
     ]
    },
    {
     "name": "stdout",
     "output_type": "stream",
     "text": [
      "self.evaluation_deque: deque([0.3601682160948709, 0.22799204424591626, 0.37635978636658, 0.3436767108253267, 0.48289193803315256, 0.49176360093082017, 0.3558730055780289, 0.45300427494068973, 0.4894237958986566, 0.5946376147602764, 0.4282781090880557, 0.4306458367439657, 0.6457806575459896, 0.5595095349274635, 0.6692246842281702, 0.6113486839382838, 0.5510659334162277, 0.6313760719849865, 0.6426317286242407, 0.6129427498687765], maxlen=20)\n",
      "eval_mean: 0.4979297489020239\n"
     ]
    },
    {
     "name": "stderr",
     "output_type": "stream",
     "text": [
      "\r",
      " 32%|███████████████████████▎                                                 | 31870/100000 [27:48<1:53:39,  9.99it/s]"
     ]
    },
    {
     "name": "stdout",
     "output_type": "stream",
     "text": [
      "self.evaluation_deque: deque([0.3601682160948709, 0.22799204424591626, 0.37635978636658, 0.3436767108253267, 0.48289193803315256, 0.49176360093082017, 0.3558730055780289, 0.45300427494068973, 0.4894237958986566, 0.5946376147602764, 0.4282781090880557, 0.4306458367439657, 0.6457806575459896, 0.5595095349274635, 0.6692246842281702, 0.6113486839382838, 0.5510659334162277, 0.6313760719849865, 0.6426317286242407, 0.6129427498687765], maxlen=20)\n",
      "eval_mean: 0.4979297489020239\n"
     ]
    },
    {
     "name": "stderr",
     "output_type": "stream",
     "text": [
      "\r",
      " 32%|███████████████████████▎                                                 | 31930/100000 [27:53<1:46:14, 10.68it/s]"
     ]
    },
    {
     "name": "stdout",
     "output_type": "stream",
     "text": [
      "self.evaluation_deque: deque([0.3601682160948709, 0.22799204424591626, 0.37635978636658, 0.3436767108253267, 0.48289193803315256, 0.49176360093082017, 0.3558730055780289, 0.45300427494068973, 0.4894237958986566, 0.5946376147602764, 0.4282781090880557, 0.4306458367439657, 0.6457806575459896, 0.5595095349274635, 0.6692246842281702, 0.6113486839382838, 0.5510659334162277, 0.6313760719849865, 0.6426317286242407, 0.6129427498687765], maxlen=20)\n",
      "eval_mean: 0.4979297489020239\n"
     ]
    },
    {
     "name": "stderr",
     "output_type": "stream",
     "text": [
      "\r",
      " 32%|███████████████████████▎                                                 | 32006/100000 [28:03<2:03:42,  9.16it/s]"
     ]
    },
    {
     "name": "stdout",
     "output_type": "stream",
     "text": [
      "self.get_collection_ratio(): 0.6359204199624402\n",
      "self.comms.count(True) : 3\n",
      "len(self.comms) : 3\n",
      "self.state.ratio_commed: 1.0\n",
      "self.comms.count(True) : 3\n",
      "len(self.comms) : 3\n",
      "self.evaluation_deque: deque([0.22799204424591626, 0.37635978636658, 0.3436767108253267, 0.48289193803315256, 0.49176360093082017, 0.3558730055780289, 0.45300427494068973, 0.4894237958986566, 0.5946376147602764, 0.4282781090880557, 0.4306458367439657, 0.6457806575459896, 0.5595095349274635, 0.6692246842281702, 0.6113486839382838, 0.5510659334162277, 0.6313760719849865, 0.6426317286242407, 0.6129427498687765, 0.6359204199624402], maxlen=20)\n",
      "eval_mean: 0.5117173590954025\n",
      "Saving best with: 0.5117173590954025\n"
     ]
    },
    {
     "name": "stderr",
     "output_type": "stream",
     "text": [
      "\r",
      " 32%|███████████████████████▍                                                 | 32082/100000 [28:09<1:51:01, 10.20it/s]"
     ]
    },
    {
     "name": "stdout",
     "output_type": "stream",
     "text": [
      "self.evaluation_deque: deque([0.22799204424591626, 0.37635978636658, 0.3436767108253267, 0.48289193803315256, 0.49176360093082017, 0.3558730055780289, 0.45300427494068973, 0.4894237958986566, 0.5946376147602764, 0.4282781090880557, 0.4306458367439657, 0.6457806575459896, 0.5595095349274635, 0.6692246842281702, 0.6113486839382838, 0.5510659334162277, 0.6313760719849865, 0.6426317286242407, 0.6129427498687765, 0.6359204199624402], maxlen=20)\n",
      "eval_mean: 0.5117173590954025\n"
     ]
    },
    {
     "name": "stderr",
     "output_type": "stream",
     "text": [
      "\r",
      " 32%|███████████████████████▍                                                 | 32158/100000 [28:15<1:42:29, 11.03it/s]"
     ]
    },
    {
     "name": "stdout",
     "output_type": "stream",
     "text": [
      "self.evaluation_deque: deque([0.22799204424591626, 0.37635978636658, 0.3436767108253267, 0.48289193803315256, 0.49176360093082017, 0.3558730055780289, 0.45300427494068973, 0.4894237958986566, 0.5946376147602764, 0.4282781090880557, 0.4306458367439657, 0.6457806575459896, 0.5595095349274635, 0.6692246842281702, 0.6113486839382838, 0.5510659334162277, 0.6313760719849865, 0.6426317286242407, 0.6129427498687765, 0.6359204199624402], maxlen=20)\n",
      "eval_mean: 0.5117173590954025\n"
     ]
    },
    {
     "name": "stderr",
     "output_type": "stream",
     "text": [
      "\r",
      " 32%|███████████████████████▌                                                 | 32234/100000 [28:25<1:58:07,  9.56it/s]"
     ]
    },
    {
     "name": "stdout",
     "output_type": "stream",
     "text": [
      "self.evaluation_deque: deque([0.22799204424591626, 0.37635978636658, 0.3436767108253267, 0.48289193803315256, 0.49176360093082017, 0.3558730055780289, 0.45300427494068973, 0.4894237958986566, 0.5946376147602764, 0.4282781090880557, 0.4306458367439657, 0.6457806575459896, 0.5595095349274635, 0.6692246842281702, 0.6113486839382838, 0.5510659334162277, 0.6313760719849865, 0.6426317286242407, 0.6129427498687765, 0.6359204199624402], maxlen=20)\n",
      "eval_mean: 0.5117173590954025\n"
     ]
    },
    {
     "name": "stderr",
     "output_type": "stream",
     "text": [
      "\r",
      " 32%|███████████████████████▌                                                 | 32310/100000 [28:31<1:47:26, 10.50it/s]"
     ]
    },
    {
     "name": "stdout",
     "output_type": "stream",
     "text": [
      "self.evaluation_deque: deque([0.22799204424591626, 0.37635978636658, 0.3436767108253267, 0.48289193803315256, 0.49176360093082017, 0.3558730055780289, 0.45300427494068973, 0.4894237958986566, 0.5946376147602764, 0.4282781090880557, 0.4306458367439657, 0.6457806575459896, 0.5595095349274635, 0.6692246842281702, 0.6113486839382838, 0.5510659334162277, 0.6313760719849865, 0.6426317286242407, 0.6129427498687765, 0.6359204199624402], maxlen=20)\n",
      "eval_mean: 0.5117173590954025\n"
     ]
    },
    {
     "name": "stderr",
     "output_type": "stream",
     "text": [
      "\r",
      " 32%|███████████████████████▋                                                 | 32386/100000 [28:39<1:50:34, 10.19it/s]"
     ]
    },
    {
     "name": "stdout",
     "output_type": "stream",
     "text": [
      "self.get_collection_ratio(): 0.676464186463243\n",
      "self.comms.count(True) : 2\n",
      "len(self.comms) : 2\n",
      "self.state.ratio_commed: 1.0\n",
      "self.comms.count(True) : 2\n",
      "len(self.comms) : 2\n",
      "self.evaluation_deque: deque([0.37635978636658, 0.3436767108253267, 0.48289193803315256, 0.49176360093082017, 0.3558730055780289, 0.45300427494068973, 0.4894237958986566, 0.5946376147602764, 0.4282781090880557, 0.4306458367439657, 0.6457806575459896, 0.5595095349274635, 0.6692246842281702, 0.6113486839382838, 0.5510659334162277, 0.6313760719849865, 0.6426317286242407, 0.6129427498687765, 0.6359204199624402, 0.676464186463243], maxlen=20)\n",
      "eval_mean: 0.5341409662062688\n",
      "Saving best with: 0.5341409662062688\n"
     ]
    },
    {
     "name": "stderr",
     "output_type": "stream",
     "text": [
      "\r",
      " 32%|███████████████████████▋                                                 | 32462/100000 [28:45<1:47:33, 10.46it/s]"
     ]
    },
    {
     "name": "stdout",
     "output_type": "stream",
     "text": [
      "self.evaluation_deque: deque([0.37635978636658, 0.3436767108253267, 0.48289193803315256, 0.49176360093082017, 0.3558730055780289, 0.45300427494068973, 0.4894237958986566, 0.5946376147602764, 0.4282781090880557, 0.4306458367439657, 0.6457806575459896, 0.5595095349274635, 0.6692246842281702, 0.6113486839382838, 0.5510659334162277, 0.6313760719849865, 0.6426317286242407, 0.6129427498687765, 0.6359204199624402, 0.676464186463243], maxlen=20)\n",
      "eval_mean: 0.5341409662062688\n"
     ]
    },
    {
     "name": "stderr",
     "output_type": "stream",
     "text": [
      "\r",
      " 33%|███████████████████████▊                                                 | 32538/100000 [28:51<1:39:57, 11.25it/s]"
     ]
    },
    {
     "name": "stdout",
     "output_type": "stream",
     "text": [
      "self.evaluation_deque: deque([0.37635978636658, 0.3436767108253267, 0.48289193803315256, 0.49176360093082017, 0.3558730055780289, 0.45300427494068973, 0.4894237958986566, 0.5946376147602764, 0.4282781090880557, 0.4306458367439657, 0.6457806575459896, 0.5595095349274635, 0.6692246842281702, 0.6113486839382838, 0.5510659334162277, 0.6313760719849865, 0.6426317286242407, 0.6129427498687765, 0.6359204199624402, 0.676464186463243], maxlen=20)\n",
      "eval_mean: 0.5341409662062688\n"
     ]
    },
    {
     "name": "stderr",
     "output_type": "stream",
     "text": [
      "\r",
      " 33%|███████████████████████▊                                                 | 32614/100000 [28:58<1:40:02, 11.23it/s]"
     ]
    },
    {
     "name": "stdout",
     "output_type": "stream",
     "text": [
      "self.evaluation_deque: deque([0.37635978636658, 0.3436767108253267, 0.48289193803315256, 0.49176360093082017, 0.3558730055780289, 0.45300427494068973, 0.4894237958986566, 0.5946376147602764, 0.4282781090880557, 0.4306458367439657, 0.6457806575459896, 0.5595095349274635, 0.6692246842281702, 0.6113486839382838, 0.5510659334162277, 0.6313760719849865, 0.6426317286242407, 0.6129427498687765, 0.6359204199624402, 0.676464186463243], maxlen=20)\n",
      "eval_mean: 0.5341409662062688\n"
     ]
    },
    {
     "name": "stderr",
     "output_type": "stream",
     "text": [
      "\r",
      " 33%|███████████████████████▊                                                 | 32690/100000 [29:03<1:34:44, 11.84it/s]"
     ]
    },
    {
     "name": "stdout",
     "output_type": "stream",
     "text": [
      "self.evaluation_deque: deque([0.37635978636658, 0.3436767108253267, 0.48289193803315256, 0.49176360093082017, 0.3558730055780289, 0.45300427494068973, 0.4894237958986566, 0.5946376147602764, 0.4282781090880557, 0.4306458367439657, 0.6457806575459896, 0.5595095349274635, 0.6692246842281702, 0.6113486839382838, 0.5510659334162277, 0.6313760719849865, 0.6426317286242407, 0.6129427498687765, 0.6359204199624402, 0.676464186463243], maxlen=20)\n",
      "eval_mean: 0.5341409662062688\n"
     ]
    },
    {
     "name": "stderr",
     "output_type": "stream",
     "text": [
      "\r",
      " 33%|███████████████████████▉                                                 | 32766/100000 [29:12<1:44:53, 10.68it/s]"
     ]
    },
    {
     "name": "stdout",
     "output_type": "stream",
     "text": [
      "self.get_collection_ratio(): 0.6294905358745807\n",
      "self.comms.count(True) : 3\n",
      "len(self.comms) : 3\n",
      "self.state.ratio_commed: 1.0\n",
      "self.comms.count(True) : 3\n",
      "len(self.comms) : 3\n",
      "self.evaluation_deque: deque([0.3436767108253267, 0.48289193803315256, 0.49176360093082017, 0.3558730055780289, 0.45300427494068973, 0.4894237958986566, 0.5946376147602764, 0.4282781090880557, 0.4306458367439657, 0.6457806575459896, 0.5595095349274635, 0.6692246842281702, 0.6113486839382838, 0.5510659334162277, 0.6313760719849865, 0.6426317286242407, 0.6129427498687765, 0.6359204199624402, 0.676464186463243, 0.6294905358745807], maxlen=20)\n",
      "eval_mean: 0.5467975036816688\n",
      "Saving best with: 0.5467975036816688\n"
     ]
    },
    {
     "name": "stderr",
     "output_type": "stream",
     "text": [
      "\r",
      " 33%|███████████████████████▉                                                 | 32842/100000 [29:19<1:42:21, 10.93it/s]"
     ]
    },
    {
     "name": "stdout",
     "output_type": "stream",
     "text": [
      "self.evaluation_deque: deque([0.3436767108253267, 0.48289193803315256, 0.49176360093082017, 0.3558730055780289, 0.45300427494068973, 0.4894237958986566, 0.5946376147602764, 0.4282781090880557, 0.4306458367439657, 0.6457806575459896, 0.5595095349274635, 0.6692246842281702, 0.6113486839382838, 0.5510659334162277, 0.6313760719849865, 0.6426317286242407, 0.6129427498687765, 0.6359204199624402, 0.676464186463243, 0.6294905358745807], maxlen=20)\n",
      "eval_mean: 0.5467975036816688\n"
     ]
    },
    {
     "name": "stderr",
     "output_type": "stream",
     "text": [
      "\r",
      " 33%|████████████████████████                                                 | 32918/100000 [29:25<1:41:15, 11.04it/s]"
     ]
    },
    {
     "name": "stdout",
     "output_type": "stream",
     "text": [
      "self.evaluation_deque: deque([0.3436767108253267, 0.48289193803315256, 0.49176360093082017, 0.3558730055780289, 0.45300427494068973, 0.4894237958986566, 0.5946376147602764, 0.4282781090880557, 0.4306458367439657, 0.6457806575459896, 0.5595095349274635, 0.6692246842281702, 0.6113486839382838, 0.5510659334162277, 0.6313760719849865, 0.6426317286242407, 0.6129427498687765, 0.6359204199624402, 0.676464186463243, 0.6294905358745807], maxlen=20)\n",
      "eval_mean: 0.5467975036816688\n"
     ]
    },
    {
     "name": "stderr",
     "output_type": "stream",
     "text": [
      "\r",
      " 33%|████████████████████████                                                 | 32994/100000 [29:32<1:40:44, 11.09it/s]"
     ]
    },
    {
     "name": "stdout",
     "output_type": "stream",
     "text": [
      "self.evaluation_deque: deque([0.3436767108253267, 0.48289193803315256, 0.49176360093082017, 0.3558730055780289, 0.45300427494068973, 0.4894237958986566, 0.5946376147602764, 0.4282781090880557, 0.4306458367439657, 0.6457806575459896, 0.5595095349274635, 0.6692246842281702, 0.6113486839382838, 0.5510659334162277, 0.6313760719849865, 0.6426317286242407, 0.6129427498687765, 0.6359204199624402, 0.676464186463243, 0.6294905358745807], maxlen=20)\n",
      "eval_mean: 0.5467975036816688\n"
     ]
    },
    {
     "name": "stderr",
     "output_type": "stream",
     "text": [
      "\r",
      " 33%|████████████████████████▏                                                | 33070/100000 [29:40<1:45:47, 10.54it/s]"
     ]
    },
    {
     "name": "stdout",
     "output_type": "stream",
     "text": [
      "self.evaluation_deque: deque([0.3436767108253267, 0.48289193803315256, 0.49176360093082017, 0.3558730055780289, 0.45300427494068973, 0.4894237958986566, 0.5946376147602764, 0.4282781090880557, 0.4306458367439657, 0.6457806575459896, 0.5595095349274635, 0.6692246842281702, 0.6113486839382838, 0.5510659334162277, 0.6313760719849865, 0.6426317286242407, 0.6129427498687765, 0.6359204199624402, 0.676464186463243, 0.6294905358745807], maxlen=20)\n",
      "eval_mean: 0.5467975036816688\n"
     ]
    },
    {
     "name": "stderr",
     "output_type": "stream",
     "text": [
      "\r",
      " 33%|████████████████████████▏                                                | 33146/100000 [29:49<1:52:41,  9.89it/s]"
     ]
    },
    {
     "name": "stdout",
     "output_type": "stream",
     "text": [
      "self.get_collection_ratio(): 0.5369461145903464\n",
      "self.comms.count(True) : 3\n",
      "len(self.comms) : 3\n",
      "self.state.ratio_commed: 1.0\n",
      "self.comms.count(True) : 3\n",
      "len(self.comms) : 3\n",
      "self.evaluation_deque: deque([0.48289193803315256, 0.49176360093082017, 0.3558730055780289, 0.45300427494068973, 0.4894237958986566, 0.5946376147602764, 0.4282781090880557, 0.4306458367439657, 0.6457806575459896, 0.5595095349274635, 0.6692246842281702, 0.6113486839382838, 0.5510659334162277, 0.6313760719849865, 0.6426317286242407, 0.6129427498687765, 0.6359204199624402, 0.676464186463243, 0.6294905358745807, 0.5369461145903464], maxlen=20)\n",
      "eval_mean: 0.5564609738699198\n",
      "Saving best with: 0.5564609738699198\n"
     ]
    },
    {
     "name": "stderr",
     "output_type": "stream",
     "text": [
      "\r",
      " 33%|████████████████████████▏                                                | 33206/100000 [29:53<1:44:41, 10.63it/s]"
     ]
    },
    {
     "name": "stdout",
     "output_type": "stream",
     "text": [
      "self.evaluation_deque: deque([0.48289193803315256, 0.49176360093082017, 0.3558730055780289, 0.45300427494068973, 0.4894237958986566, 0.5946376147602764, 0.4282781090880557, 0.4306458367439657, 0.6457806575459896, 0.5595095349274635, 0.6692246842281702, 0.6113486839382838, 0.5510659334162277, 0.6313760719849865, 0.6426317286242407, 0.6129427498687765, 0.6359204199624402, 0.676464186463243, 0.6294905358745807, 0.5369461145903464], maxlen=20)\n",
      "eval_mean: 0.5564609738699198\n"
     ]
    },
    {
     "name": "stderr",
     "output_type": "stream",
     "text": [
      "\r",
      " 33%|████████████████████████▎                                                | 33282/100000 [29:59<1:37:26, 11.41it/s]"
     ]
    },
    {
     "name": "stdout",
     "output_type": "stream",
     "text": [
      "self.evaluation_deque: deque([0.48289193803315256, 0.49176360093082017, 0.3558730055780289, 0.45300427494068973, 0.4894237958986566, 0.5946376147602764, 0.4282781090880557, 0.4306458367439657, 0.6457806575459896, 0.5595095349274635, 0.6692246842281702, 0.6113486839382838, 0.5510659334162277, 0.6313760719849865, 0.6426317286242407, 0.6129427498687765, 0.6359204199624402, 0.676464186463243, 0.6294905358745807, 0.5369461145903464], maxlen=20)\n",
      "eval_mean: 0.5564609738699198\n"
     ]
    },
    {
     "name": "stderr",
     "output_type": "stream",
     "text": [
      "\r",
      " 33%|████████████████████████▎                                                | 33358/100000 [30:05<1:32:32, 12.00it/s]"
     ]
    },
    {
     "name": "stdout",
     "output_type": "stream",
     "text": [
      "self.evaluation_deque: deque([0.48289193803315256, 0.49176360093082017, 0.3558730055780289, 0.45300427494068973, 0.4894237958986566, 0.5946376147602764, 0.4282781090880557, 0.4306458367439657, 0.6457806575459896, 0.5595095349274635, 0.6692246842281702, 0.6113486839382838, 0.5510659334162277, 0.6313760719849865, 0.6426317286242407, 0.6129427498687765, 0.6359204199624402, 0.676464186463243, 0.6294905358745807, 0.5369461145903464], maxlen=20)\n",
      "eval_mean: 0.5564609738699198\n"
     ]
    },
    {
     "name": "stderr",
     "output_type": "stream",
     "text": [
      "\r",
      " 33%|████████████████████████▍                                                | 33434/100000 [30:10<1:28:57, 12.47it/s]"
     ]
    },
    {
     "name": "stdout",
     "output_type": "stream",
     "text": [
      "self.evaluation_deque: deque([0.48289193803315256, 0.49176360093082017, 0.3558730055780289, 0.45300427494068973, 0.4894237958986566, 0.5946376147602764, 0.4282781090880557, 0.4306458367439657, 0.6457806575459896, 0.5595095349274635, 0.6692246842281702, 0.6113486839382838, 0.5510659334162277, 0.6313760719849865, 0.6426317286242407, 0.6129427498687765, 0.6359204199624402, 0.676464186463243, 0.6294905358745807, 0.5369461145903464], maxlen=20)\n",
      "eval_mean: 0.5564609738699198\n"
     ]
    },
    {
     "name": "stderr",
     "output_type": "stream",
     "text": [
      "\r",
      " 34%|████████████████████████▍                                                | 33510/100000 [30:20<1:44:02, 10.65it/s]"
     ]
    },
    {
     "name": "stdout",
     "output_type": "stream",
     "text": [
      "self.get_collection_ratio(): 0.428991361706917\n",
      "self.comms.count(True) : 1\n",
      "len(self.comms) : 1\n",
      "self.state.ratio_commed: 1.0\n",
      "self.comms.count(True) : 1\n",
      "len(self.comms) : 1\n",
      "self.evaluation_deque: deque([0.49176360093082017, 0.3558730055780289, 0.45300427494068973, 0.4894237958986566, 0.5946376147602764, 0.4282781090880557, 0.4306458367439657, 0.6457806575459896, 0.5595095349274635, 0.6692246842281702, 0.6113486839382838, 0.5510659334162277, 0.6313760719849865, 0.6426317286242407, 0.6129427498687765, 0.6359204199624402, 0.676464186463243, 0.6294905358745807, 0.5369461145903464, 0.428991361706917], maxlen=20)\n",
      "eval_mean: 0.5537659450536079\n"
     ]
    },
    {
     "name": "stderr",
     "output_type": "stream",
     "text": [
      "\r",
      " 34%|████████████████████████▌                                                | 33586/100000 [30:28<1:47:49, 10.27it/s]"
     ]
    },
    {
     "name": "stdout",
     "output_type": "stream",
     "text": [
      "self.evaluation_deque: deque([0.49176360093082017, 0.3558730055780289, 0.45300427494068973, 0.4894237958986566, 0.5946376147602764, 0.4282781090880557, 0.4306458367439657, 0.6457806575459896, 0.5595095349274635, 0.6692246842281702, 0.6113486839382838, 0.5510659334162277, 0.6313760719849865, 0.6426317286242407, 0.6129427498687765, 0.6359204199624402, 0.676464186463243, 0.6294905358745807, 0.5369461145903464, 0.428991361706917], maxlen=20)\n",
      "eval_mean: 0.5537659450536079\n"
     ]
    },
    {
     "name": "stderr",
     "output_type": "stream",
     "text": [
      "\r",
      " 34%|████████████████████████▌                                                | 33662/100000 [30:34<1:45:03, 10.52it/s]"
     ]
    },
    {
     "name": "stdout",
     "output_type": "stream",
     "text": [
      "self.evaluation_deque: deque([0.49176360093082017, 0.3558730055780289, 0.45300427494068973, 0.4894237958986566, 0.5946376147602764, 0.4282781090880557, 0.4306458367439657, 0.6457806575459896, 0.5595095349274635, 0.6692246842281702, 0.6113486839382838, 0.5510659334162277, 0.6313760719849865, 0.6426317286242407, 0.6129427498687765, 0.6359204199624402, 0.676464186463243, 0.6294905358745807, 0.5369461145903464, 0.428991361706917], maxlen=20)\n",
      "eval_mean: 0.5537659450536079\n"
     ]
    },
    {
     "name": "stderr",
     "output_type": "stream",
     "text": [
      "\r",
      " 34%|████████████████████████▋                                                | 33738/100000 [30:41<1:43:00, 10.72it/s]"
     ]
    },
    {
     "name": "stdout",
     "output_type": "stream",
     "text": [
      "self.evaluation_deque: deque([0.49176360093082017, 0.3558730055780289, 0.45300427494068973, 0.4894237958986566, 0.5946376147602764, 0.4282781090880557, 0.4306458367439657, 0.6457806575459896, 0.5595095349274635, 0.6692246842281702, 0.6113486839382838, 0.5510659334162277, 0.6313760719849865, 0.6426317286242407, 0.6129427498687765, 0.6359204199624402, 0.676464186463243, 0.6294905358745807, 0.5369461145903464, 0.428991361706917], maxlen=20)\n",
      "eval_mean: 0.5537659450536079\n"
     ]
    },
    {
     "name": "stderr",
     "output_type": "stream",
     "text": [
      "\r",
      " 34%|████████████████████████▋                                                | 33814/100000 [30:49<1:46:27, 10.36it/s]"
     ]
    },
    {
     "name": "stdout",
     "output_type": "stream",
     "text": [
      "self.evaluation_deque: deque([0.49176360093082017, 0.3558730055780289, 0.45300427494068973, 0.4894237958986566, 0.5946376147602764, 0.4282781090880557, 0.4306458367439657, 0.6457806575459896, 0.5595095349274635, 0.6692246842281702, 0.6113486839382838, 0.5510659334162277, 0.6313760719849865, 0.6426317286242407, 0.6129427498687765, 0.6359204199624402, 0.676464186463243, 0.6294905358745807, 0.5369461145903464, 0.428991361706917], maxlen=20)\n",
      "eval_mean: 0.5537659450536079\n"
     ]
    },
    {
     "name": "stderr",
     "output_type": "stream",
     "text": [
      "\r",
      " 34%|████████████████████████▋                                                | 33890/100000 [30:59<1:57:55,  9.34it/s]"
     ]
    },
    {
     "name": "stdout",
     "output_type": "stream",
     "text": [
      "self.get_collection_ratio(): 0.6652211702971826\n",
      "self.comms.count(True) : 3\n",
      "len(self.comms) : 3\n",
      "self.state.ratio_commed: 1.0\n",
      "self.comms.count(True) : 3\n",
      "len(self.comms) : 3\n",
      "self.evaluation_deque: deque([0.3558730055780289, 0.45300427494068973, 0.4894237958986566, 0.5946376147602764, 0.4282781090880557, 0.4306458367439657, 0.6457806575459896, 0.5595095349274635, 0.6692246842281702, 0.6113486839382838, 0.5510659334162277, 0.6313760719849865, 0.6426317286242407, 0.6129427498687765, 0.6359204199624402, 0.676464186463243, 0.6294905358745807, 0.5369461145903464, 0.428991361706917, 0.6652211702971826], maxlen=20)\n",
      "eval_mean: 0.5624388235219261\n",
      "Saving best with: 0.5624388235219261\n"
     ]
    },
    {
     "name": "stderr",
     "output_type": "stream",
     "text": [
      "\r",
      " 34%|████████████████████████▊                                                | 33966/100000 [31:06<1:52:13,  9.81it/s]"
     ]
    },
    {
     "name": "stdout",
     "output_type": "stream",
     "text": [
      "self.evaluation_deque: deque([0.3558730055780289, 0.45300427494068973, 0.4894237958986566, 0.5946376147602764, 0.4282781090880557, 0.4306458367439657, 0.6457806575459896, 0.5595095349274635, 0.6692246842281702, 0.6113486839382838, 0.5510659334162277, 0.6313760719849865, 0.6426317286242407, 0.6129427498687765, 0.6359204199624402, 0.676464186463243, 0.6294905358745807, 0.5369461145903464, 0.428991361706917, 0.6652211702971826], maxlen=20)\n",
      "eval_mean: 0.5624388235219261\n"
     ]
    },
    {
     "name": "stderr",
     "output_type": "stream",
     "text": [
      "\r",
      " 34%|████████████████████████▊                                                | 34042/100000 [31:13<1:46:39, 10.31it/s]"
     ]
    },
    {
     "name": "stdout",
     "output_type": "stream",
     "text": [
      "self.evaluation_deque: deque([0.3558730055780289, 0.45300427494068973, 0.4894237958986566, 0.5946376147602764, 0.4282781090880557, 0.4306458367439657, 0.6457806575459896, 0.5595095349274635, 0.6692246842281702, 0.6113486839382838, 0.5510659334162277, 0.6313760719849865, 0.6426317286242407, 0.6129427498687765, 0.6359204199624402, 0.676464186463243, 0.6294905358745807, 0.5369461145903464, 0.428991361706917, 0.6652211702971826], maxlen=20)\n",
      "eval_mean: 0.5624388235219261\n"
     ]
    },
    {
     "name": "stderr",
     "output_type": "stream",
     "text": [
      "\r",
      " 34%|████████████████████████▉                                                | 34118/100000 [31:21<1:50:05,  9.97it/s]"
     ]
    },
    {
     "name": "stdout",
     "output_type": "stream",
     "text": [
      "self.evaluation_deque: deque([0.3558730055780289, 0.45300427494068973, 0.4894237958986566, 0.5946376147602764, 0.4282781090880557, 0.4306458367439657, 0.6457806575459896, 0.5595095349274635, 0.6692246842281702, 0.6113486839382838, 0.5510659334162277, 0.6313760719849865, 0.6426317286242407, 0.6129427498687765, 0.6359204199624402, 0.676464186463243, 0.6294905358745807, 0.5369461145903464, 0.428991361706917, 0.6652211702971826], maxlen=20)\n",
      "eval_mean: 0.5624388235219261\n"
     ]
    },
    {
     "name": "stderr",
     "output_type": "stream",
     "text": [
      "\r",
      " 34%|████████████████████████▉                                                | 34194/100000 [31:28<1:46:31, 10.30it/s]"
     ]
    },
    {
     "name": "stdout",
     "output_type": "stream",
     "text": [
      "self.evaluation_deque: deque([0.3558730055780289, 0.45300427494068973, 0.4894237958986566, 0.5946376147602764, 0.4282781090880557, 0.4306458367439657, 0.6457806575459896, 0.5595095349274635, 0.6692246842281702, 0.6113486839382838, 0.5510659334162277, 0.6313760719849865, 0.6426317286242407, 0.6129427498687765, 0.6359204199624402, 0.676464186463243, 0.6294905358745807, 0.5369461145903464, 0.428991361706917, 0.6652211702971826], maxlen=20)\n",
      "eval_mean: 0.5624388235219261\n"
     ]
    },
    {
     "name": "stderr",
     "output_type": "stream",
     "text": [
      "\r",
      " 34%|█████████████████████████                                                | 34254/100000 [31:34<1:47:29, 10.19it/s]"
     ]
    },
    {
     "name": "stdout",
     "output_type": "stream",
     "text": [
      "self.get_collection_ratio(): 0.4712333643077081\n",
      "self.comms.count(True) : 1\n",
      "len(self.comms) : 1\n",
      "self.state.ratio_commed: 1.0\n",
      "self.comms.count(True) : 1\n",
      "len(self.comms) : 1\n",
      "self.evaluation_deque: deque([0.45300427494068973, 0.4894237958986566, 0.5946376147602764, 0.4282781090880557, 0.4306458367439657, 0.6457806575459896, 0.5595095349274635, 0.6692246842281702, 0.6113486839382838, 0.5510659334162277, 0.6313760719849865, 0.6426317286242407, 0.6129427498687765, 0.6359204199624402, 0.676464186463243, 0.6294905358745807, 0.5369461145903464, 0.428991361706917, 0.6652211702971826, 0.4712333643077081], maxlen=20)\n",
      "eval_mean: 0.5682068414584099\n",
      "Saving best with: 0.5682068414584099\n"
     ]
    },
    {
     "name": "stderr",
     "output_type": "stream",
     "text": [
      "\r",
      " 34%|█████████████████████████                                                | 34330/100000 [31:42<1:49:28, 10.00it/s]"
     ]
    },
    {
     "name": "stdout",
     "output_type": "stream",
     "text": [
      "self.evaluation_deque: deque([0.45300427494068973, 0.4894237958986566, 0.5946376147602764, 0.4282781090880557, 0.4306458367439657, 0.6457806575459896, 0.5595095349274635, 0.6692246842281702, 0.6113486839382838, 0.5510659334162277, 0.6313760719849865, 0.6426317286242407, 0.6129427498687765, 0.6359204199624402, 0.676464186463243, 0.6294905358745807, 0.5369461145903464, 0.428991361706917, 0.6652211702971826, 0.4712333643077081], maxlen=20)\n",
      "eval_mean: 0.5682068414584099\n"
     ]
    },
    {
     "name": "stderr",
     "output_type": "stream",
     "text": [
      "\r",
      " 34%|█████████████████████████                                                | 34406/100000 [31:48<1:45:45, 10.34it/s]"
     ]
    },
    {
     "name": "stdout",
     "output_type": "stream",
     "text": [
      "self.evaluation_deque: deque([0.45300427494068973, 0.4894237958986566, 0.5946376147602764, 0.4282781090880557, 0.4306458367439657, 0.6457806575459896, 0.5595095349274635, 0.6692246842281702, 0.6113486839382838, 0.5510659334162277, 0.6313760719849865, 0.6426317286242407, 0.6129427498687765, 0.6359204199624402, 0.676464186463243, 0.6294905358745807, 0.5369461145903464, 0.428991361706917, 0.6652211702971826, 0.4712333643077081], maxlen=20)\n",
      "eval_mean: 0.5682068414584099\n"
     ]
    },
    {
     "name": "stderr",
     "output_type": "stream",
     "text": [
      "\r",
      " 34%|█████████████████████████▏                                               | 34466/100000 [31:53<1:39:06, 11.02it/s]"
     ]
    },
    {
     "name": "stdout",
     "output_type": "stream",
     "text": [
      "self.evaluation_deque: deque([0.45300427494068973, 0.4894237958986566, 0.5946376147602764, 0.4282781090880557, 0.4306458367439657, 0.6457806575459896, 0.5595095349274635, 0.6692246842281702, 0.6113486839382838, 0.5510659334162277, 0.6313760719849865, 0.6426317286242407, 0.6129427498687765, 0.6359204199624402, 0.676464186463243, 0.6294905358745807, 0.5369461145903464, 0.428991361706917, 0.6652211702971826, 0.4712333643077081], maxlen=20)\n",
      "eval_mean: 0.5682068414584099\n"
     ]
    },
    {
     "name": "stderr",
     "output_type": "stream",
     "text": [
      "\r",
      " 35%|█████████████████████████▏                                               | 34542/100000 [32:01<1:44:14, 10.47it/s]"
     ]
    },
    {
     "name": "stdout",
     "output_type": "stream",
     "text": [
      "self.evaluation_deque: deque([0.45300427494068973, 0.4894237958986566, 0.5946376147602764, 0.4282781090880557, 0.4306458367439657, 0.6457806575459896, 0.5595095349274635, 0.6692246842281702, 0.6113486839382838, 0.5510659334162277, 0.6313760719849865, 0.6426317286242407, 0.6129427498687765, 0.6359204199624402, 0.676464186463243, 0.6294905358745807, 0.5369461145903464, 0.428991361706917, 0.6652211702971826, 0.4712333643077081], maxlen=20)\n",
      "eval_mean: 0.5682068414584099\n"
     ]
    },
    {
     "name": "stderr",
     "output_type": "stream",
     "text": [
      "\r",
      " 35%|█████████████████████████▎                                               | 34618/100000 [32:08<1:44:42, 10.41it/s]"
     ]
    },
    {
     "name": "stdout",
     "output_type": "stream",
     "text": [
      "self.get_collection_ratio(): 0.43192503341432154\n",
      "self.comms.count(True) : 1\n",
      "len(self.comms) : 1\n",
      "self.state.ratio_commed: 1.0\n",
      "self.comms.count(True) : 1\n",
      "len(self.comms) : 1\n",
      "self.evaluation_deque: deque([0.4894237958986566, 0.5946376147602764, 0.4282781090880557, 0.4306458367439657, 0.6457806575459896, 0.5595095349274635, 0.6692246842281702, 0.6113486839382838, 0.5510659334162277, 0.6313760719849865, 0.6426317286242407, 0.6129427498687765, 0.6359204199624402, 0.676464186463243, 0.6294905358745807, 0.5369461145903464, 0.428991361706917, 0.6652211702971826, 0.4712333643077081, 0.43192503341432154], maxlen=20)\n",
      "eval_mean: 0.5671528793820916\n"
     ]
    },
    {
     "name": "stderr",
     "output_type": "stream",
     "text": [
      "\r",
      " 35%|█████████████████████████▎                                               | 34694/100000 [32:16<1:48:31, 10.03it/s]"
     ]
    },
    {
     "name": "stdout",
     "output_type": "stream",
     "text": [
      "self.evaluation_deque: deque([0.4894237958986566, 0.5946376147602764, 0.4282781090880557, 0.4306458367439657, 0.6457806575459896, 0.5595095349274635, 0.6692246842281702, 0.6113486839382838, 0.5510659334162277, 0.6313760719849865, 0.6426317286242407, 0.6129427498687765, 0.6359204199624402, 0.676464186463243, 0.6294905358745807, 0.5369461145903464, 0.428991361706917, 0.6652211702971826, 0.4712333643077081, 0.43192503341432154], maxlen=20)\n",
      "eval_mean: 0.5671528793820916\n"
     ]
    },
    {
     "name": "stderr",
     "output_type": "stream",
     "text": [
      "\r",
      " 35%|█████████████████████████▍                                               | 34770/100000 [32:23<1:45:54, 10.27it/s]"
     ]
    },
    {
     "name": "stdout",
     "output_type": "stream",
     "text": [
      "self.evaluation_deque: deque([0.4894237958986566, 0.5946376147602764, 0.4282781090880557, 0.4306458367439657, 0.6457806575459896, 0.5595095349274635, 0.6692246842281702, 0.6113486839382838, 0.5510659334162277, 0.6313760719849865, 0.6426317286242407, 0.6129427498687765, 0.6359204199624402, 0.676464186463243, 0.6294905358745807, 0.5369461145903464, 0.428991361706917, 0.6652211702971826, 0.4712333643077081, 0.43192503341432154], maxlen=20)\n",
      "eval_mean: 0.5671528793820916\n"
     ]
    },
    {
     "name": "stderr",
     "output_type": "stream",
     "text": [
      "\r",
      " 35%|█████████████████████████▍                                               | 34846/100000 [32:29<1:38:52, 10.98it/s]"
     ]
    },
    {
     "name": "stdout",
     "output_type": "stream",
     "text": [
      "self.evaluation_deque: deque([0.4894237958986566, 0.5946376147602764, 0.4282781090880557, 0.4306458367439657, 0.6457806575459896, 0.5595095349274635, 0.6692246842281702, 0.6113486839382838, 0.5510659334162277, 0.6313760719849865, 0.6426317286242407, 0.6129427498687765, 0.6359204199624402, 0.676464186463243, 0.6294905358745807, 0.5369461145903464, 0.428991361706917, 0.6652211702971826, 0.4712333643077081, 0.43192503341432154], maxlen=20)\n",
      "eval_mean: 0.5671528793820916\n"
     ]
    },
    {
     "name": "stderr",
     "output_type": "stream",
     "text": [
      "\r",
      " 35%|█████████████████████████▍                                               | 34922/100000 [32:36<1:39:08, 10.94it/s]"
     ]
    },
    {
     "name": "stdout",
     "output_type": "stream",
     "text": [
      "self.evaluation_deque: deque([0.4894237958986566, 0.5946376147602764, 0.4282781090880557, 0.4306458367439657, 0.6457806575459896, 0.5595095349274635, 0.6692246842281702, 0.6113486839382838, 0.5510659334162277, 0.6313760719849865, 0.6426317286242407, 0.6129427498687765, 0.6359204199624402, 0.676464186463243, 0.6294905358745807, 0.5369461145903464, 0.428991361706917, 0.6652211702971826, 0.4712333643077081, 0.43192503341432154], maxlen=20)\n",
      "eval_mean: 0.5671528793820916\n"
     ]
    },
    {
     "name": "stderr",
     "output_type": "stream",
     "text": [
      "\r",
      " 35%|█████████████████████████▌                                               | 34998/100000 [32:45<1:48:18, 10.00it/s]"
     ]
    },
    {
     "name": "stdout",
     "output_type": "stream",
     "text": [
      "self.get_collection_ratio(): 0.6351751152703317\n",
      "self.comms.count(True) : 3\n",
      "len(self.comms) : 3\n",
      "self.state.ratio_commed: 1.0\n",
      "self.comms.count(True) : 3\n",
      "len(self.comms) : 3\n",
      "self.evaluation_deque: deque([0.5946376147602764, 0.4282781090880557, 0.4306458367439657, 0.6457806575459896, 0.5595095349274635, 0.6692246842281702, 0.6113486839382838, 0.5510659334162277, 0.6313760719849865, 0.6426317286242407, 0.6129427498687765, 0.6359204199624402, 0.676464186463243, 0.6294905358745807, 0.5369461145903464, 0.428991361706917, 0.6652211702971826, 0.4712333643077081, 0.43192503341432154, 0.6351751152703317], maxlen=20)\n",
      "eval_mean: 0.5744404453506754\n",
      "Saving best with: 0.5744404453506754\n"
     ]
    },
    {
     "name": "stderr",
     "output_type": "stream",
     "text": [
      "\r",
      " 35%|█████████████████████████▌                                               | 35074/100000 [32:53<1:50:34,  9.79it/s]"
     ]
    },
    {
     "name": "stdout",
     "output_type": "stream",
     "text": [
      "self.evaluation_deque: deque([0.5946376147602764, 0.4282781090880557, 0.4306458367439657, 0.6457806575459896, 0.5595095349274635, 0.6692246842281702, 0.6113486839382838, 0.5510659334162277, 0.6313760719849865, 0.6426317286242407, 0.6129427498687765, 0.6359204199624402, 0.676464186463243, 0.6294905358745807, 0.5369461145903464, 0.428991361706917, 0.6652211702971826, 0.4712333643077081, 0.43192503341432154, 0.6351751152703317], maxlen=20)\n",
      "eval_mean: 0.5744404453506754\n"
     ]
    },
    {
     "name": "stderr",
     "output_type": "stream",
     "text": [
      "\r",
      " 35%|█████████████████████████▋                                               | 35150/100000 [33:00<1:47:02, 10.10it/s]"
     ]
    },
    {
     "name": "stdout",
     "output_type": "stream",
     "text": [
      "self.evaluation_deque: deque([0.5946376147602764, 0.4282781090880557, 0.4306458367439657, 0.6457806575459896, 0.5595095349274635, 0.6692246842281702, 0.6113486839382838, 0.5510659334162277, 0.6313760719849865, 0.6426317286242407, 0.6129427498687765, 0.6359204199624402, 0.676464186463243, 0.6294905358745807, 0.5369461145903464, 0.428991361706917, 0.6652211702971826, 0.4712333643077081, 0.43192503341432154, 0.6351751152703317], maxlen=20)\n",
      "eval_mean: 0.5744404453506754\n"
     ]
    },
    {
     "name": "stderr",
     "output_type": "stream",
     "text": [
      "\r",
      " 35%|█████████████████████████▋                                               | 35226/100000 [33:08<1:49:15,  9.88it/s]"
     ]
    },
    {
     "name": "stdout",
     "output_type": "stream",
     "text": [
      "self.evaluation_deque: deque([0.5946376147602764, 0.4282781090880557, 0.4306458367439657, 0.6457806575459896, 0.5595095349274635, 0.6692246842281702, 0.6113486839382838, 0.5510659334162277, 0.6313760719849865, 0.6426317286242407, 0.6129427498687765, 0.6359204199624402, 0.676464186463243, 0.6294905358745807, 0.5369461145903464, 0.428991361706917, 0.6652211702971826, 0.4712333643077081, 0.43192503341432154, 0.6351751152703317], maxlen=20)\n",
      "eval_mean: 0.5744404453506754\n"
     ]
    },
    {
     "name": "stderr",
     "output_type": "stream",
     "text": [
      "\r",
      " 35%|█████████████████████████▊                                               | 35302/100000 [33:14<1:41:00, 10.67it/s]"
     ]
    },
    {
     "name": "stdout",
     "output_type": "stream",
     "text": [
      "self.evaluation_deque: deque([0.5946376147602764, 0.4282781090880557, 0.4306458367439657, 0.6457806575459896, 0.5595095349274635, 0.6692246842281702, 0.6113486839382838, 0.5510659334162277, 0.6313760719849865, 0.6426317286242407, 0.6129427498687765, 0.6359204199624402, 0.676464186463243, 0.6294905358745807, 0.5369461145903464, 0.428991361706917, 0.6652211702971826, 0.4712333643077081, 0.43192503341432154, 0.6351751152703317], maxlen=20)\n",
      "eval_mean: 0.5744404453506754\n"
     ]
    },
    {
     "name": "stderr",
     "output_type": "stream",
     "text": [
      "\r",
      " 35%|█████████████████████████▊                                               | 35378/100000 [33:26<1:59:15,  9.03it/s]"
     ]
    },
    {
     "name": "stdout",
     "output_type": "stream",
     "text": [
      "self.get_collection_ratio(): 0.6051943914252322\n",
      "self.comms.count(True) : 3\n",
      "len(self.comms) : 3\n",
      "self.state.ratio_commed: 1.0\n",
      "self.comms.count(True) : 3\n",
      "len(self.comms) : 3\n",
      "self.evaluation_deque: deque([0.4282781090880557, 0.4306458367439657, 0.6457806575459896, 0.5595095349274635, 0.6692246842281702, 0.6113486839382838, 0.5510659334162277, 0.6313760719849865, 0.6426317286242407, 0.6129427498687765, 0.6359204199624402, 0.676464186463243, 0.6294905358745807, 0.5369461145903464, 0.428991361706917, 0.6652211702971826, 0.4712333643077081, 0.43192503341432154, 0.6351751152703317, 0.6051943914252322], maxlen=20)\n",
      "eval_mean: 0.5749682841839232\n",
      "Saving best with: 0.5749682841839232\n"
     ]
    },
    {
     "name": "stderr",
     "output_type": "stream",
     "text": [
      "\r",
      " 35%|█████████████████████████▉                                               | 35454/100000 [33:32<1:52:10,  9.59it/s]"
     ]
    },
    {
     "name": "stdout",
     "output_type": "stream",
     "text": [
      "self.evaluation_deque: deque([0.4282781090880557, 0.4306458367439657, 0.6457806575459896, 0.5595095349274635, 0.6692246842281702, 0.6113486839382838, 0.5510659334162277, 0.6313760719849865, 0.6426317286242407, 0.6129427498687765, 0.6359204199624402, 0.676464186463243, 0.6294905358745807, 0.5369461145903464, 0.428991361706917, 0.6652211702971826, 0.4712333643077081, 0.43192503341432154, 0.6351751152703317, 0.6051943914252322], maxlen=20)\n",
      "eval_mean: 0.5749682841839232\n"
     ]
    },
    {
     "name": "stderr",
     "output_type": "stream",
     "text": [
      "\r",
      " 36%|█████████████████████████▉                                               | 35530/100000 [33:39<1:47:59,  9.95it/s]"
     ]
    },
    {
     "name": "stdout",
     "output_type": "stream",
     "text": [
      "self.evaluation_deque: deque([0.4282781090880557, 0.4306458367439657, 0.6457806575459896, 0.5595095349274635, 0.6692246842281702, 0.6113486839382838, 0.5510659334162277, 0.6313760719849865, 0.6426317286242407, 0.6129427498687765, 0.6359204199624402, 0.676464186463243, 0.6294905358745807, 0.5369461145903464, 0.428991361706917, 0.6652211702971826, 0.4712333643077081, 0.43192503341432154, 0.6351751152703317, 0.6051943914252322], maxlen=20)\n",
      "eval_mean: 0.5749682841839232\n"
     ]
    },
    {
     "name": "stderr",
     "output_type": "stream",
     "text": [
      "\r",
      " 36%|█████████████████████████▉                                               | 35606/100000 [33:48<1:49:41,  9.78it/s]"
     ]
    },
    {
     "name": "stdout",
     "output_type": "stream",
     "text": [
      "self.evaluation_deque: deque([0.4282781090880557, 0.4306458367439657, 0.6457806575459896, 0.5595095349274635, 0.6692246842281702, 0.6113486839382838, 0.5510659334162277, 0.6313760719849865, 0.6426317286242407, 0.6129427498687765, 0.6359204199624402, 0.676464186463243, 0.6294905358745807, 0.5369461145903464, 0.428991361706917, 0.6652211702971826, 0.4712333643077081, 0.43192503341432154, 0.6351751152703317, 0.6051943914252322], maxlen=20)\n",
      "eval_mean: 0.5749682841839232\n"
     ]
    },
    {
     "name": "stderr",
     "output_type": "stream",
     "text": [
      "\r",
      " 36%|██████████████████████████                                               | 35682/100000 [33:54<1:45:08, 10.20it/s]"
     ]
    },
    {
     "name": "stdout",
     "output_type": "stream",
     "text": [
      "self.evaluation_deque: deque([0.4282781090880557, 0.4306458367439657, 0.6457806575459896, 0.5595095349274635, 0.6692246842281702, 0.6113486839382838, 0.5510659334162277, 0.6313760719849865, 0.6426317286242407, 0.6129427498687765, 0.6359204199624402, 0.676464186463243, 0.6294905358745807, 0.5369461145903464, 0.428991361706917, 0.6652211702971826, 0.4712333643077081, 0.43192503341432154, 0.6351751152703317, 0.6051943914252322], maxlen=20)\n",
      "eval_mean: 0.5749682841839232\n"
     ]
    },
    {
     "name": "stderr",
     "output_type": "stream",
     "text": [
      "\r",
      " 36%|██████████████████████████                                               | 35758/100000 [34:04<1:53:57,  9.40it/s]"
     ]
    },
    {
     "name": "stdout",
     "output_type": "stream",
     "text": [
      "self.get_collection_ratio(): 0.38748472919710397\n",
      "self.comms.count(True) : 0\n",
      "len(self.comms) : 1\n",
      "self.state.ratio_commed: 0.0\n",
      "self.comms.count(True) : 0\n",
      "len(self.comms) : 1\n",
      "self.evaluation_deque: deque([0.4306458367439657, 0.6457806575459896, 0.5595095349274635, 0.6692246842281702, 0.6113486839382838, 0.5510659334162277, 0.6313760719849865, 0.6426317286242407, 0.6129427498687765, 0.6359204199624402, 0.676464186463243, 0.6294905358745807, 0.5369461145903464, 0.428991361706917, 0.6652211702971826, 0.4712333643077081, 0.43192503341432154, 0.6351751152703317, 0.6051943914252322, 0.0], maxlen=20)\n",
      "eval_mean: 0.5535543787295205\n"
     ]
    },
    {
     "name": "stderr",
     "output_type": "stream",
     "text": [
      "\r",
      " 36%|██████████████████████████▏                                              | 35818/100000 [34:08<1:46:00, 10.09it/s]"
     ]
    },
    {
     "name": "stdout",
     "output_type": "stream",
     "text": [
      "self.evaluation_deque: deque([0.4306458367439657, 0.6457806575459896, 0.5595095349274635, 0.6692246842281702, 0.6113486839382838, 0.5510659334162277, 0.6313760719849865, 0.6426317286242407, 0.6129427498687765, 0.6359204199624402, 0.676464186463243, 0.6294905358745807, 0.5369461145903464, 0.428991361706917, 0.6652211702971826, 0.4712333643077081, 0.43192503341432154, 0.6351751152703317, 0.6051943914252322, 0.0], maxlen=20)\n",
      "eval_mean: 0.5535543787295205\n"
     ]
    },
    {
     "name": "stderr",
     "output_type": "stream",
     "text": [
      "\r",
      " 36%|██████████████████████████▏                                              | 35894/100000 [34:15<1:42:45, 10.40it/s]"
     ]
    },
    {
     "name": "stdout",
     "output_type": "stream",
     "text": [
      "self.evaluation_deque: deque([0.4306458367439657, 0.6457806575459896, 0.5595095349274635, 0.6692246842281702, 0.6113486839382838, 0.5510659334162277, 0.6313760719849865, 0.6426317286242407, 0.6129427498687765, 0.6359204199624402, 0.676464186463243, 0.6294905358745807, 0.5369461145903464, 0.428991361706917, 0.6652211702971826, 0.4712333643077081, 0.43192503341432154, 0.6351751152703317, 0.6051943914252322, 0.0], maxlen=20)\n",
      "eval_mean: 0.5535543787295205\n"
     ]
    },
    {
     "name": "stderr",
     "output_type": "stream",
     "text": [
      "\r",
      " 36%|██████████████████████████▎                                              | 35970/100000 [34:25<1:53:49,  9.38it/s]"
     ]
    },
    {
     "name": "stdout",
     "output_type": "stream",
     "text": [
      "self.evaluation_deque: deque([0.4306458367439657, 0.6457806575459896, 0.5595095349274635, 0.6692246842281702, 0.6113486839382838, 0.5510659334162277, 0.6313760719849865, 0.6426317286242407, 0.6129427498687765, 0.6359204199624402, 0.676464186463243, 0.6294905358745807, 0.5369461145903464, 0.428991361706917, 0.6652211702971826, 0.4712333643077081, 0.43192503341432154, 0.6351751152703317, 0.6051943914252322, 0.0], maxlen=20)\n",
      "eval_mean: 0.5535543787295205\n"
     ]
    },
    {
     "name": "stderr",
     "output_type": "stream",
     "text": [
      "\r",
      " 36%|██████████████████████████▎                                              | 36046/100000 [34:33<1:53:49,  9.36it/s]"
     ]
    },
    {
     "name": "stdout",
     "output_type": "stream",
     "text": [
      "self.evaluation_deque: deque([0.4306458367439657, 0.6457806575459896, 0.5595095349274635, 0.6692246842281702, 0.6113486839382838, 0.5510659334162277, 0.6313760719849865, 0.6426317286242407, 0.6129427498687765, 0.6359204199624402, 0.676464186463243, 0.6294905358745807, 0.5369461145903464, 0.428991361706917, 0.6652211702971826, 0.4712333643077081, 0.43192503341432154, 0.6351751152703317, 0.6051943914252322, 0.0], maxlen=20)\n",
      "eval_mean: 0.5535543787295205\n"
     ]
    },
    {
     "name": "stderr",
     "output_type": "stream",
     "text": [
      "\r",
      " 36%|██████████████████████████▎                                              | 36122/100000 [34:43<2:00:30,  8.84it/s]"
     ]
    },
    {
     "name": "stdout",
     "output_type": "stream",
     "text": [
      "self.get_collection_ratio(): 0.5015351848691461\n",
      "self.comms.count(True) : 1\n",
      "len(self.comms) : 1\n",
      "self.state.ratio_commed: 1.0\n",
      "self.comms.count(True) : 1\n",
      "len(self.comms) : 1\n",
      "self.evaluation_deque: deque([0.6457806575459896, 0.5595095349274635, 0.6692246842281702, 0.6113486839382838, 0.5510659334162277, 0.6313760719849865, 0.6426317286242407, 0.6129427498687765, 0.6359204199624402, 0.676464186463243, 0.6294905358745807, 0.5369461145903464, 0.428991361706917, 0.6652211702971826, 0.4712333643077081, 0.43192503341432154, 0.6351751152703317, 0.6051943914252322, 0.0, 0.5015351848691461], maxlen=20)\n",
      "eval_mean: 0.5570988461357795\n"
     ]
    },
    {
     "name": "stderr",
     "output_type": "stream",
     "text": [
      "\r",
      " 36%|██████████████████████████▍                                              | 36198/100000 [34:51<1:58:38,  8.96it/s]"
     ]
    },
    {
     "name": "stdout",
     "output_type": "stream",
     "text": [
      "self.evaluation_deque: deque([0.6457806575459896, 0.5595095349274635, 0.6692246842281702, 0.6113486839382838, 0.5510659334162277, 0.6313760719849865, 0.6426317286242407, 0.6129427498687765, 0.6359204199624402, 0.676464186463243, 0.6294905358745807, 0.5369461145903464, 0.428991361706917, 0.6652211702971826, 0.4712333643077081, 0.43192503341432154, 0.6351751152703317, 0.6051943914252322, 0.0, 0.5015351848691461], maxlen=20)\n",
      "eval_mean: 0.5570988461357795\n"
     ]
    },
    {
     "name": "stderr",
     "output_type": "stream",
     "text": [
      "\r",
      " 36%|██████████████████████████▍                                              | 36274/100000 [34:59<1:56:02,  9.15it/s]"
     ]
    },
    {
     "name": "stdout",
     "output_type": "stream",
     "text": [
      "self.evaluation_deque: deque([0.6457806575459896, 0.5595095349274635, 0.6692246842281702, 0.6113486839382838, 0.5510659334162277, 0.6313760719849865, 0.6426317286242407, 0.6129427498687765, 0.6359204199624402, 0.676464186463243, 0.6294905358745807, 0.5369461145903464, 0.428991361706917, 0.6652211702971826, 0.4712333643077081, 0.43192503341432154, 0.6351751152703317, 0.6051943914252322, 0.0, 0.5015351848691461], maxlen=20)\n",
      "eval_mean: 0.5570988461357795\n"
     ]
    },
    {
     "name": "stderr",
     "output_type": "stream",
     "text": [
      "\r",
      " 36%|██████████████████████████▌                                              | 36350/100000 [35:05<1:45:31, 10.05it/s]"
     ]
    },
    {
     "name": "stdout",
     "output_type": "stream",
     "text": [
      "self.evaluation_deque: deque([0.6457806575459896, 0.5595095349274635, 0.6692246842281702, 0.6113486839382838, 0.5510659334162277, 0.6313760719849865, 0.6426317286242407, 0.6129427498687765, 0.6359204199624402, 0.676464186463243, 0.6294905358745807, 0.5369461145903464, 0.428991361706917, 0.6652211702971826, 0.4712333643077081, 0.43192503341432154, 0.6351751152703317, 0.6051943914252322, 0.0, 0.5015351848691461], maxlen=20)\n",
      "eval_mean: 0.5570988461357795\n"
     ]
    },
    {
     "name": "stderr",
     "output_type": "stream",
     "text": [
      "\r",
      " 36%|██████████████████████████▌                                              | 36426/100000 [35:12<1:42:58, 10.29it/s]"
     ]
    },
    {
     "name": "stdout",
     "output_type": "stream",
     "text": [
      "self.evaluation_deque: deque([0.6457806575459896, 0.5595095349274635, 0.6692246842281702, 0.6113486839382838, 0.5510659334162277, 0.6313760719849865, 0.6426317286242407, 0.6129427498687765, 0.6359204199624402, 0.676464186463243, 0.6294905358745807, 0.5369461145903464, 0.428991361706917, 0.6652211702971826, 0.4712333643077081, 0.43192503341432154, 0.6351751152703317, 0.6051943914252322, 0.0, 0.5015351848691461], maxlen=20)\n",
      "eval_mean: 0.5570988461357795\n"
     ]
    },
    {
     "name": "stderr",
     "output_type": "stream",
     "text": [
      "\r",
      " 37%|██████████████████████████▋                                              | 36502/100000 [35:20<1:45:59,  9.98it/s]"
     ]
    },
    {
     "name": "stdout",
     "output_type": "stream",
     "text": [
      "self.get_collection_ratio(): 0.6363388705131623\n",
      "self.comms.count(True) : 2\n",
      "len(self.comms) : 2\n",
      "self.state.ratio_commed: 1.0\n",
      "self.comms.count(True) : 2\n",
      "len(self.comms) : 2\n",
      "self.evaluation_deque: deque([0.5595095349274635, 0.6692246842281702, 0.6113486839382838, 0.5510659334162277, 0.6313760719849865, 0.6426317286242407, 0.6129427498687765, 0.6359204199624402, 0.676464186463243, 0.6294905358745807, 0.5369461145903464, 0.428991361706917, 0.6652211702971826, 0.4712333643077081, 0.43192503341432154, 0.6351751152703317, 0.6051943914252322, 0.0, 0.5015351848691461, 0.6363388705131623], maxlen=20)\n",
      "eval_mean: 0.5566267567841381\n"
     ]
    },
    {
     "name": "stderr",
     "output_type": "stream",
     "text": [
      "\r",
      " 37%|██████████████████████████▋                                              | 36578/100000 [35:26<1:38:18, 10.75it/s]"
     ]
    },
    {
     "name": "stdout",
     "output_type": "stream",
     "text": [
      "self.evaluation_deque: deque([0.5595095349274635, 0.6692246842281702, 0.6113486839382838, 0.5510659334162277, 0.6313760719849865, 0.6426317286242407, 0.6129427498687765, 0.6359204199624402, 0.676464186463243, 0.6294905358745807, 0.5369461145903464, 0.428991361706917, 0.6652211702971826, 0.4712333643077081, 0.43192503341432154, 0.6351751152703317, 0.6051943914252322, 0.0, 0.5015351848691461, 0.6363388705131623], maxlen=20)\n",
      "eval_mean: 0.5566267567841381\n"
     ]
    },
    {
     "name": "stderr",
     "output_type": "stream",
     "text": [
      "\r",
      " 37%|██████████████████████████▋                                              | 36638/100000 [35:30<1:33:37, 11.28it/s]"
     ]
    },
    {
     "name": "stdout",
     "output_type": "stream",
     "text": [
      "self.evaluation_deque: deque([0.5595095349274635, 0.6692246842281702, 0.6113486839382838, 0.5510659334162277, 0.6313760719849865, 0.6426317286242407, 0.6129427498687765, 0.6359204199624402, 0.676464186463243, 0.6294905358745807, 0.5369461145903464, 0.428991361706917, 0.6652211702971826, 0.4712333643077081, 0.43192503341432154, 0.6351751152703317, 0.6051943914252322, 0.0, 0.5015351848691461, 0.6363388705131623], maxlen=20)\n",
      "eval_mean: 0.5566267567841381\n"
     ]
    },
    {
     "name": "stderr",
     "output_type": "stream",
     "text": [
      "\r",
      " 37%|██████████████████████████▊                                              | 36714/100000 [35:36<1:29:21, 11.80it/s]"
     ]
    },
    {
     "name": "stdout",
     "output_type": "stream",
     "text": [
      "self.evaluation_deque: deque([0.5595095349274635, 0.6692246842281702, 0.6113486839382838, 0.5510659334162277, 0.6313760719849865, 0.6426317286242407, 0.6129427498687765, 0.6359204199624402, 0.676464186463243, 0.6294905358745807, 0.5369461145903464, 0.428991361706917, 0.6652211702971826, 0.4712333643077081, 0.43192503341432154, 0.6351751152703317, 0.6051943914252322, 0.0, 0.5015351848691461, 0.6363388705131623], maxlen=20)\n",
      "eval_mean: 0.5566267567841381\n"
     ]
    },
    {
     "name": "stderr",
     "output_type": "stream",
     "text": [
      "\r",
      " 37%|██████████████████████████▊                                              | 36790/100000 [35:43<1:31:55, 11.46it/s]"
     ]
    },
    {
     "name": "stdout",
     "output_type": "stream",
     "text": [
      "self.evaluation_deque: deque([0.5595095349274635, 0.6692246842281702, 0.6113486839382838, 0.5510659334162277, 0.6313760719849865, 0.6426317286242407, 0.6129427498687765, 0.6359204199624402, 0.676464186463243, 0.6294905358745807, 0.5369461145903464, 0.428991361706917, 0.6652211702971826, 0.4712333643077081, 0.43192503341432154, 0.6351751152703317, 0.6051943914252322, 0.0, 0.5015351848691461, 0.6363388705131623], maxlen=20)\n",
      "eval_mean: 0.5566267567841381\n"
     ]
    },
    {
     "name": "stderr",
     "output_type": "stream",
     "text": [
      "\r",
      " 37%|██████████████████████████▉                                              | 36866/100000 [35:52<1:42:15, 10.29it/s]"
     ]
    },
    {
     "name": "stdout",
     "output_type": "stream",
     "text": [
      "self.get_collection_ratio(): 0.7274435063514604\n",
      "self.comms.count(True) : 2\n",
      "len(self.comms) : 2\n",
      "self.state.ratio_commed: 1.0\n",
      "self.comms.count(True) : 2\n",
      "len(self.comms) : 2\n",
      "self.evaluation_deque: deque([0.6692246842281702, 0.6113486839382838, 0.5510659334162277, 0.6313760719849865, 0.6426317286242407, 0.6129427498687765, 0.6359204199624402, 0.676464186463243, 0.6294905358745807, 0.5369461145903464, 0.428991361706917, 0.6652211702971826, 0.4712333643077081, 0.43192503341432154, 0.6351751152703317, 0.6051943914252322, 0.0, 0.5015351848691461, 0.6363388705131623, 0.7274435063514604], maxlen=20)\n",
      "eval_mean: 0.5650234553553378\n"
     ]
    },
    {
     "name": "stderr",
     "output_type": "stream",
     "text": [
      "\r",
      " 37%|██████████████████████████▉                                              | 36942/100000 [35:58<1:35:18, 11.03it/s]"
     ]
    },
    {
     "name": "stdout",
     "output_type": "stream",
     "text": [
      "self.evaluation_deque: deque([0.6692246842281702, 0.6113486839382838, 0.5510659334162277, 0.6313760719849865, 0.6426317286242407, 0.6129427498687765, 0.6359204199624402, 0.676464186463243, 0.6294905358745807, 0.5369461145903464, 0.428991361706917, 0.6652211702971826, 0.4712333643077081, 0.43192503341432154, 0.6351751152703317, 0.6051943914252322, 0.0, 0.5015351848691461, 0.6363388705131623, 0.7274435063514604], maxlen=20)\n",
      "eval_mean: 0.5650234553553378\n"
     ]
    },
    {
     "name": "stderr",
     "output_type": "stream",
     "text": [
      "\r",
      " 37%|███████████████████████████                                              | 37018/100000 [36:06<1:40:25, 10.45it/s]"
     ]
    },
    {
     "name": "stdout",
     "output_type": "stream",
     "text": [
      "self.evaluation_deque: deque([0.6692246842281702, 0.6113486839382838, 0.5510659334162277, 0.6313760719849865, 0.6426317286242407, 0.6129427498687765, 0.6359204199624402, 0.676464186463243, 0.6294905358745807, 0.5369461145903464, 0.428991361706917, 0.6652211702971826, 0.4712333643077081, 0.43192503341432154, 0.6351751152703317, 0.6051943914252322, 0.0, 0.5015351848691461, 0.6363388705131623, 0.7274435063514604], maxlen=20)\n",
      "eval_mean: 0.5650234553553378\n"
     ]
    },
    {
     "name": "stderr",
     "output_type": "stream",
     "text": [
      "\r",
      " 37%|███████████████████████████                                              | 37094/100000 [36:12<1:34:13, 11.13it/s]"
     ]
    },
    {
     "name": "stdout",
     "output_type": "stream",
     "text": [
      "self.evaluation_deque: deque([0.6692246842281702, 0.6113486839382838, 0.5510659334162277, 0.6313760719849865, 0.6426317286242407, 0.6129427498687765, 0.6359204199624402, 0.676464186463243, 0.6294905358745807, 0.5369461145903464, 0.428991361706917, 0.6652211702971826, 0.4712333643077081, 0.43192503341432154, 0.6351751152703317, 0.6051943914252322, 0.0, 0.5015351848691461, 0.6363388705131623, 0.7274435063514604], maxlen=20)\n",
      "eval_mean: 0.5650234553553378\n"
     ]
    },
    {
     "name": "stderr",
     "output_type": "stream",
     "text": [
      "\r",
      " 37%|███████████████████████████▏                                             | 37170/100000 [36:20<1:38:35, 10.62it/s]"
     ]
    },
    {
     "name": "stdout",
     "output_type": "stream",
     "text": [
      "self.evaluation_deque: deque([0.6692246842281702, 0.6113486839382838, 0.5510659334162277, 0.6313760719849865, 0.6426317286242407, 0.6129427498687765, 0.6359204199624402, 0.676464186463243, 0.6294905358745807, 0.5369461145903464, 0.428991361706917, 0.6652211702971826, 0.4712333643077081, 0.43192503341432154, 0.6351751152703317, 0.6051943914252322, 0.0, 0.5015351848691461, 0.6363388705131623, 0.7274435063514604], maxlen=20)\n",
      "eval_mean: 0.5650234553553378\n"
     ]
    },
    {
     "name": "stderr",
     "output_type": "stream",
     "text": [
      "\r",
      " 37%|███████████████████████████▏                                             | 37246/100000 [36:28<1:42:28, 10.21it/s]"
     ]
    },
    {
     "name": "stdout",
     "output_type": "stream",
     "text": [
      "self.get_collection_ratio(): 0.7070027891281201\n",
      "self.comms.count(True) : 2\n",
      "len(self.comms) : 2\n",
      "self.state.ratio_commed: 1.0\n",
      "self.comms.count(True) : 2\n",
      "len(self.comms) : 2\n",
      "self.evaluation_deque: deque([0.6113486839382838, 0.5510659334162277, 0.6313760719849865, 0.6426317286242407, 0.6129427498687765, 0.6359204199624402, 0.676464186463243, 0.6294905358745807, 0.5369461145903464, 0.428991361706917, 0.6652211702971826, 0.4712333643077081, 0.43192503341432154, 0.6351751152703317, 0.6051943914252322, 0.0, 0.5015351848691461, 0.6363388705131623, 0.7274435063514604, 0.7070027891281201], maxlen=20)\n",
      "eval_mean: 0.5669123606003355\n"
     ]
    },
    {
     "name": "stderr",
     "output_type": "stream",
     "text": [
      "\r",
      " 37%|███████████████████████████▏                                             | 37322/100000 [36:36<1:45:12,  9.93it/s]"
     ]
    },
    {
     "name": "stdout",
     "output_type": "stream",
     "text": [
      "self.evaluation_deque: deque([0.6113486839382838, 0.5510659334162277, 0.6313760719849865, 0.6426317286242407, 0.6129427498687765, 0.6359204199624402, 0.676464186463243, 0.6294905358745807, 0.5369461145903464, 0.428991361706917, 0.6652211702971826, 0.4712333643077081, 0.43192503341432154, 0.6351751152703317, 0.6051943914252322, 0.0, 0.5015351848691461, 0.6363388705131623, 0.7274435063514604, 0.7070027891281201], maxlen=20)\n",
      "eval_mean: 0.5669123606003355\n"
     ]
    },
    {
     "name": "stderr",
     "output_type": "stream",
     "text": [
      "\r",
      " 37%|███████████████████████████▎                                             | 37398/100000 [36:43<1:42:03, 10.22it/s]"
     ]
    },
    {
     "name": "stdout",
     "output_type": "stream",
     "text": [
      "self.evaluation_deque: deque([0.6113486839382838, 0.5510659334162277, 0.6313760719849865, 0.6426317286242407, 0.6129427498687765, 0.6359204199624402, 0.676464186463243, 0.6294905358745807, 0.5369461145903464, 0.428991361706917, 0.6652211702971826, 0.4712333643077081, 0.43192503341432154, 0.6351751152703317, 0.6051943914252322, 0.0, 0.5015351848691461, 0.6363388705131623, 0.7274435063514604, 0.7070027891281201], maxlen=20)\n",
      "eval_mean: 0.5669123606003355\n"
     ]
    },
    {
     "name": "stderr",
     "output_type": "stream",
     "text": [
      "\r",
      " 37%|███████████████████████████▎                                             | 37474/100000 [36:51<1:44:12, 10.00it/s]"
     ]
    },
    {
     "name": "stdout",
     "output_type": "stream",
     "text": [
      "self.evaluation_deque: deque([0.6113486839382838, 0.5510659334162277, 0.6313760719849865, 0.6426317286242407, 0.6129427498687765, 0.6359204199624402, 0.676464186463243, 0.6294905358745807, 0.5369461145903464, 0.428991361706917, 0.6652211702971826, 0.4712333643077081, 0.43192503341432154, 0.6351751152703317, 0.6051943914252322, 0.0, 0.5015351848691461, 0.6363388705131623, 0.7274435063514604, 0.7070027891281201], maxlen=20)\n",
      "eval_mean: 0.5669123606003355\n"
     ]
    },
    {
     "name": "stderr",
     "output_type": "stream",
     "text": [
      "\r",
      " 38%|███████████████████████████▍                                             | 37550/100000 [36:59<1:45:50,  9.83it/s]"
     ]
    },
    {
     "name": "stdout",
     "output_type": "stream",
     "text": [
      "self.evaluation_deque: deque([0.6113486839382838, 0.5510659334162277, 0.6313760719849865, 0.6426317286242407, 0.6129427498687765, 0.6359204199624402, 0.676464186463243, 0.6294905358745807, 0.5369461145903464, 0.428991361706917, 0.6652211702971826, 0.4712333643077081, 0.43192503341432154, 0.6351751152703317, 0.6051943914252322, 0.0, 0.5015351848691461, 0.6363388705131623, 0.7274435063514604, 0.7070027891281201], maxlen=20)\n",
      "eval_mean: 0.5669123606003355\n"
     ]
    },
    {
     "name": "stderr",
     "output_type": "stream",
     "text": [
      "\r",
      " 38%|███████████████████████████▍                                             | 37626/100000 [37:08<1:51:23,  9.33it/s]"
     ]
    },
    {
     "name": "stdout",
     "output_type": "stream",
     "text": [
      "self.get_collection_ratio(): 0.5563037673636495\n",
      "self.comms.count(True) : 2\n",
      "len(self.comms) : 2\n",
      "self.state.ratio_commed: 1.0\n",
      "self.comms.count(True) : 2\n",
      "len(self.comms) : 2\n",
      "self.evaluation_deque: deque([0.5510659334162277, 0.6313760719849865, 0.6426317286242407, 0.6129427498687765, 0.6359204199624402, 0.676464186463243, 0.6294905358745807, 0.5369461145903464, 0.428991361706917, 0.6652211702971826, 0.4712333643077081, 0.43192503341432154, 0.6351751152703317, 0.6051943914252322, 0.0, 0.5015351848691461, 0.6363388705131623, 0.7274435063514604, 0.7070027891281201, 0.5563037673636495], maxlen=20)\n",
      "eval_mean: 0.5641601147716037\n"
     ]
    },
    {
     "name": "stderr",
     "output_type": "stream",
     "text": [
      "\r",
      " 38%|███████████████████████████▌                                             | 37702/100000 [37:14<1:40:48, 10.30it/s]"
     ]
    },
    {
     "name": "stdout",
     "output_type": "stream",
     "text": [
      "self.evaluation_deque: deque([0.5510659334162277, 0.6313760719849865, 0.6426317286242407, 0.6129427498687765, 0.6359204199624402, 0.676464186463243, 0.6294905358745807, 0.5369461145903464, 0.428991361706917, 0.6652211702971826, 0.4712333643077081, 0.43192503341432154, 0.6351751152703317, 0.6051943914252322, 0.0, 0.5015351848691461, 0.6363388705131623, 0.7274435063514604, 0.7070027891281201, 0.5563037673636495], maxlen=20)\n",
      "eval_mean: 0.5641601147716037\n"
     ]
    },
    {
     "name": "stderr",
     "output_type": "stream",
     "text": [
      "\r",
      " 38%|███████████████████████████▌                                             | 37778/100000 [37:19<1:33:17, 11.12it/s]"
     ]
    },
    {
     "name": "stdout",
     "output_type": "stream",
     "text": [
      "self.evaluation_deque: deque([0.5510659334162277, 0.6313760719849865, 0.6426317286242407, 0.6129427498687765, 0.6359204199624402, 0.676464186463243, 0.6294905358745807, 0.5369461145903464, 0.428991361706917, 0.6652211702971826, 0.4712333643077081, 0.43192503341432154, 0.6351751152703317, 0.6051943914252322, 0.0, 0.5015351848691461, 0.6363388705131623, 0.7274435063514604, 0.7070027891281201, 0.5563037673636495], maxlen=20)\n",
      "eval_mean: 0.5641601147716037\n"
     ]
    },
    {
     "name": "stderr",
     "output_type": "stream",
     "text": [
      "\r",
      " 38%|███████████████████████████▋                                             | 37854/100000 [37:27<1:37:40, 10.60it/s]"
     ]
    },
    {
     "name": "stdout",
     "output_type": "stream",
     "text": [
      "self.evaluation_deque: deque([0.5510659334162277, 0.6313760719849865, 0.6426317286242407, 0.6129427498687765, 0.6359204199624402, 0.676464186463243, 0.6294905358745807, 0.5369461145903464, 0.428991361706917, 0.6652211702971826, 0.4712333643077081, 0.43192503341432154, 0.6351751152703317, 0.6051943914252322, 0.0, 0.5015351848691461, 0.6363388705131623, 0.7274435063514604, 0.7070027891281201, 0.5563037673636495], maxlen=20)\n",
      "eval_mean: 0.5641601147716037\n"
     ]
    },
    {
     "name": "stderr",
     "output_type": "stream",
     "text": [
      "\r",
      " 38%|███████████████████████████▋                                             | 37930/100000 [37:34<1:36:01, 10.77it/s]"
     ]
    },
    {
     "name": "stdout",
     "output_type": "stream",
     "text": [
      "self.evaluation_deque: deque([0.5510659334162277, 0.6313760719849865, 0.6426317286242407, 0.6129427498687765, 0.6359204199624402, 0.676464186463243, 0.6294905358745807, 0.5369461145903464, 0.428991361706917, 0.6652211702971826, 0.4712333643077081, 0.43192503341432154, 0.6351751152703317, 0.6051943914252322, 0.0, 0.5015351848691461, 0.6363388705131623, 0.7274435063514604, 0.7070027891281201, 0.5563037673636495], maxlen=20)\n",
      "eval_mean: 0.5641601147716037\n"
     ]
    },
    {
     "name": "stderr",
     "output_type": "stream",
     "text": [
      "\r",
      " 38%|███████████████████████████▋                                             | 38006/100000 [37:43<1:42:51, 10.05it/s]"
     ]
    },
    {
     "name": "stdout",
     "output_type": "stream",
     "text": [
      "self.get_collection_ratio(): 0.7020952562629436\n",
      "self.comms.count(True) : 3\n",
      "len(self.comms) : 3\n",
      "self.state.ratio_commed: 1.0\n",
      "self.comms.count(True) : 3\n",
      "len(self.comms) : 3\n",
      "self.evaluation_deque: deque([0.6313760719849865, 0.6426317286242407, 0.6129427498687765, 0.6359204199624402, 0.676464186463243, 0.6294905358745807, 0.5369461145903464, 0.428991361706917, 0.6652211702971826, 0.4712333643077081, 0.43192503341432154, 0.6351751152703317, 0.6051943914252322, 0.0, 0.5015351848691461, 0.6363388705131623, 0.7274435063514604, 0.7070027891281201, 0.5563037673636495, 0.7020952562629436], maxlen=20)\n",
      "eval_mean: 0.5717115809139395\n"
     ]
    },
    {
     "name": "stderr",
     "output_type": "stream",
     "text": [
      "\r",
      " 38%|███████████████████████████▊                                             | 38082/100000 [37:52<1:47:22,  9.61it/s]"
     ]
    },
    {
     "name": "stdout",
     "output_type": "stream",
     "text": [
      "self.evaluation_deque: deque([0.6313760719849865, 0.6426317286242407, 0.6129427498687765, 0.6359204199624402, 0.676464186463243, 0.6294905358745807, 0.5369461145903464, 0.428991361706917, 0.6652211702971826, 0.4712333643077081, 0.43192503341432154, 0.6351751152703317, 0.6051943914252322, 0.0, 0.5015351848691461, 0.6363388705131623, 0.7274435063514604, 0.7070027891281201, 0.5563037673636495, 0.7020952562629436], maxlen=20)\n",
      "eval_mean: 0.5717115809139395\n"
     ]
    },
    {
     "name": "stderr",
     "output_type": "stream",
     "text": [
      "\r",
      " 38%|███████████████████████████▊                                             | 38158/100000 [38:00<1:47:27,  9.59it/s]"
     ]
    },
    {
     "name": "stdout",
     "output_type": "stream",
     "text": [
      "self.evaluation_deque: deque([0.6313760719849865, 0.6426317286242407, 0.6129427498687765, 0.6359204199624402, 0.676464186463243, 0.6294905358745807, 0.5369461145903464, 0.428991361706917, 0.6652211702971826, 0.4712333643077081, 0.43192503341432154, 0.6351751152703317, 0.6051943914252322, 0.0, 0.5015351848691461, 0.6363388705131623, 0.7274435063514604, 0.7070027891281201, 0.5563037673636495, 0.7020952562629436], maxlen=20)\n",
      "eval_mean: 0.5717115809139395\n"
     ]
    },
    {
     "name": "stderr",
     "output_type": "stream",
     "text": [
      "\r",
      " 38%|███████████████████████████▉                                             | 38234/100000 [38:05<1:37:34, 10.55it/s]"
     ]
    },
    {
     "name": "stdout",
     "output_type": "stream",
     "text": [
      "self.evaluation_deque: deque([0.6313760719849865, 0.6426317286242407, 0.6129427498687765, 0.6359204199624402, 0.676464186463243, 0.6294905358745807, 0.5369461145903464, 0.428991361706917, 0.6652211702971826, 0.4712333643077081, 0.43192503341432154, 0.6351751152703317, 0.6051943914252322, 0.0, 0.5015351848691461, 0.6363388705131623, 0.7274435063514604, 0.7070027891281201, 0.5563037673636495, 0.7020952562629436], maxlen=20)\n",
      "eval_mean: 0.5717115809139395\n"
     ]
    },
    {
     "name": "stderr",
     "output_type": "stream",
     "text": [
      "\r",
      " 38%|███████████████████████████▉                                             | 38310/100000 [38:13<1:40:46, 10.20it/s]"
     ]
    },
    {
     "name": "stdout",
     "output_type": "stream",
     "text": [
      "self.evaluation_deque: deque([0.6313760719849865, 0.6426317286242407, 0.6129427498687765, 0.6359204199624402, 0.676464186463243, 0.6294905358745807, 0.5369461145903464, 0.428991361706917, 0.6652211702971826, 0.4712333643077081, 0.43192503341432154, 0.6351751152703317, 0.6051943914252322, 0.0, 0.5015351848691461, 0.6363388705131623, 0.7274435063514604, 0.7070027891281201, 0.5563037673636495, 0.7020952562629436], maxlen=20)\n",
      "eval_mean: 0.5717115809139395\n"
     ]
    },
    {
     "name": "stderr",
     "output_type": "stream",
     "text": [
      "\r",
      " 38%|████████████████████████████                                             | 38386/100000 [38:20<1:39:26, 10.33it/s]"
     ]
    },
    {
     "name": "stdout",
     "output_type": "stream",
     "text": [
      "self.get_collection_ratio(): 0.4176090082174119\n",
      "self.comms.count(True) : 1\n",
      "len(self.comms) : 1\n",
      "self.state.ratio_commed: 1.0\n",
      "self.comms.count(True) : 1\n",
      "len(self.comms) : 1\n",
      "self.evaluation_deque: deque([0.6426317286242407, 0.6129427498687765, 0.6359204199624402, 0.676464186463243, 0.6294905358745807, 0.5369461145903464, 0.428991361706917, 0.6652211702971826, 0.4712333643077081, 0.43192503341432154, 0.6351751152703317, 0.6051943914252322, 0.0, 0.5015351848691461, 0.6363388705131623, 0.7274435063514604, 0.7070027891281201, 0.5563037673636495, 0.7020952562629436, 0.4176090082174119], maxlen=20)\n",
      "eval_mean: 0.5610232277255607\n"
     ]
    },
    {
     "name": "stderr",
     "output_type": "stream",
     "text": [
      "\r",
      " 38%|████████████████████████████                                             | 38462/100000 [38:27<1:37:01, 10.57it/s]"
     ]
    },
    {
     "name": "stdout",
     "output_type": "stream",
     "text": [
      "self.evaluation_deque: deque([0.6426317286242407, 0.6129427498687765, 0.6359204199624402, 0.676464186463243, 0.6294905358745807, 0.5369461145903464, 0.428991361706917, 0.6652211702971826, 0.4712333643077081, 0.43192503341432154, 0.6351751152703317, 0.6051943914252322, 0.0, 0.5015351848691461, 0.6363388705131623, 0.7274435063514604, 0.7070027891281201, 0.5563037673636495, 0.7020952562629436, 0.4176090082174119], maxlen=20)\n",
      "eval_mean: 0.5610232277255607\n"
     ]
    },
    {
     "name": "stderr",
     "output_type": "stream",
     "text": [
      "\r",
      " 39%|████████████████████████████▏                                            | 38538/100000 [38:35<1:39:45, 10.27it/s]"
     ]
    },
    {
     "name": "stdout",
     "output_type": "stream",
     "text": [
      "self.evaluation_deque: deque([0.6426317286242407, 0.6129427498687765, 0.6359204199624402, 0.676464186463243, 0.6294905358745807, 0.5369461145903464, 0.428991361706917, 0.6652211702971826, 0.4712333643077081, 0.43192503341432154, 0.6351751152703317, 0.6051943914252322, 0.0, 0.5015351848691461, 0.6363388705131623, 0.7274435063514604, 0.7070027891281201, 0.5563037673636495, 0.7020952562629436, 0.4176090082174119], maxlen=20)\n",
      "eval_mean: 0.5610232277255607\n"
     ]
    },
    {
     "name": "stderr",
     "output_type": "stream",
     "text": [
      "\r",
      " 39%|████████████████████████████▏                                            | 38614/100000 [38:43<1:41:38, 10.06it/s]"
     ]
    },
    {
     "name": "stdout",
     "output_type": "stream",
     "text": [
      "self.evaluation_deque: deque([0.6426317286242407, 0.6129427498687765, 0.6359204199624402, 0.676464186463243, 0.6294905358745807, 0.5369461145903464, 0.428991361706917, 0.6652211702971826, 0.4712333643077081, 0.43192503341432154, 0.6351751152703317, 0.6051943914252322, 0.0, 0.5015351848691461, 0.6363388705131623, 0.7274435063514604, 0.7070027891281201, 0.5563037673636495, 0.7020952562629436, 0.4176090082174119], maxlen=20)\n",
      "eval_mean: 0.5610232277255607\n"
     ]
    },
    {
     "name": "stderr",
     "output_type": "stream",
     "text": [
      "\r",
      " 39%|████████████████████████████▏                                            | 38690/100000 [38:50<1:38:31, 10.37it/s]"
     ]
    },
    {
     "name": "stdout",
     "output_type": "stream",
     "text": [
      "self.evaluation_deque: deque([0.6426317286242407, 0.6129427498687765, 0.6359204199624402, 0.676464186463243, 0.6294905358745807, 0.5369461145903464, 0.428991361706917, 0.6652211702971826, 0.4712333643077081, 0.43192503341432154, 0.6351751152703317, 0.6051943914252322, 0.0, 0.5015351848691461, 0.6363388705131623, 0.7274435063514604, 0.7070027891281201, 0.5563037673636495, 0.7020952562629436, 0.4176090082174119], maxlen=20)\n",
      "eval_mean: 0.5610232277255607\n"
     ]
    },
    {
     "name": "stderr",
     "output_type": "stream",
     "text": [
      "\r",
      " 39%|████████████████████████████▎                                            | 38766/100000 [38:59<1:45:54,  9.64it/s]"
     ]
    },
    {
     "name": "stdout",
     "output_type": "stream",
     "text": [
      "self.get_collection_ratio(): 0.5838840265761471\n",
      "self.comms.count(True) : 2\n",
      "len(self.comms) : 2\n",
      "self.state.ratio_commed: 1.0\n",
      "self.comms.count(True) : 2\n",
      "len(self.comms) : 2\n",
      "self.evaluation_deque: deque([0.6129427498687765, 0.6359204199624402, 0.676464186463243, 0.6294905358745807, 0.5369461145903464, 0.428991361706917, 0.6652211702971826, 0.4712333643077081, 0.43192503341432154, 0.6351751152703317, 0.6051943914252322, 0.0, 0.5015351848691461, 0.6363388705131623, 0.7274435063514604, 0.7070027891281201, 0.5563037673636495, 0.7020952562629436, 0.4176090082174119, 0.5838840265761471], maxlen=20)\n",
      "eval_mean: 0.5580858426231561\n"
     ]
    },
    {
     "name": "stderr",
     "output_type": "stream",
     "text": [
      "\r",
      " 39%|████████████████████████████▎                                            | 38842/100000 [39:07<1:45:53,  9.63it/s]"
     ]
    },
    {
     "name": "stdout",
     "output_type": "stream",
     "text": [
      "self.evaluation_deque: deque([0.6129427498687765, 0.6359204199624402, 0.676464186463243, 0.6294905358745807, 0.5369461145903464, 0.428991361706917, 0.6652211702971826, 0.4712333643077081, 0.43192503341432154, 0.6351751152703317, 0.6051943914252322, 0.0, 0.5015351848691461, 0.6363388705131623, 0.7274435063514604, 0.7070027891281201, 0.5563037673636495, 0.7020952562629436, 0.4176090082174119, 0.5838840265761471], maxlen=20)\n",
      "eval_mean: 0.5580858426231561\n"
     ]
    },
    {
     "name": "stderr",
     "output_type": "stream",
     "text": [
      "\r",
      " 39%|████████████████████████████▍                                            | 38918/100000 [39:14<1:41:10, 10.06it/s]"
     ]
    },
    {
     "name": "stdout",
     "output_type": "stream",
     "text": [
      "self.evaluation_deque: deque([0.6129427498687765, 0.6359204199624402, 0.676464186463243, 0.6294905358745807, 0.5369461145903464, 0.428991361706917, 0.6652211702971826, 0.4712333643077081, 0.43192503341432154, 0.6351751152703317, 0.6051943914252322, 0.0, 0.5015351848691461, 0.6363388705131623, 0.7274435063514604, 0.7070027891281201, 0.5563037673636495, 0.7020952562629436, 0.4176090082174119, 0.5838840265761471], maxlen=20)\n",
      "eval_mean: 0.5580858426231561\n"
     ]
    },
    {
     "name": "stderr",
     "output_type": "stream",
     "text": [
      "\r",
      " 39%|████████████████████████████▍                                            | 38994/100000 [39:19<1:33:20, 10.89it/s]"
     ]
    },
    {
     "name": "stdout",
     "output_type": "stream",
     "text": [
      "self.evaluation_deque: deque([0.6129427498687765, 0.6359204199624402, 0.676464186463243, 0.6294905358745807, 0.5369461145903464, 0.428991361706917, 0.6652211702971826, 0.4712333643077081, 0.43192503341432154, 0.6351751152703317, 0.6051943914252322, 0.0, 0.5015351848691461, 0.6363388705131623, 0.7274435063514604, 0.7070027891281201, 0.5563037673636495, 0.7020952562629436, 0.4176090082174119, 0.5838840265761471], maxlen=20)\n",
      "eval_mean: 0.5580858426231561\n"
     ]
    },
    {
     "name": "stderr",
     "output_type": "stream",
     "text": [
      "\r",
      " 39%|████████████████████████████▌                                            | 39070/100000 [39:26<1:31:17, 11.12it/s]"
     ]
    },
    {
     "name": "stdout",
     "output_type": "stream",
     "text": [
      "self.evaluation_deque: deque([0.6129427498687765, 0.6359204199624402, 0.676464186463243, 0.6294905358745807, 0.5369461145903464, 0.428991361706917, 0.6652211702971826, 0.4712333643077081, 0.43192503341432154, 0.6351751152703317, 0.6051943914252322, 0.0, 0.5015351848691461, 0.6363388705131623, 0.7274435063514604, 0.7070027891281201, 0.5563037673636495, 0.7020952562629436, 0.4176090082174119, 0.5838840265761471], maxlen=20)\n",
      "eval_mean: 0.5580858426231561\n"
     ]
    },
    {
     "name": "stderr",
     "output_type": "stream",
     "text": [
      "\r",
      " 39%|████████████████████████████▌                                            | 39146/100000 [39:33<1:32:06, 11.01it/s]"
     ]
    },
    {
     "name": "stdout",
     "output_type": "stream",
     "text": [
      "self.get_collection_ratio(): 0.4466986640912961\n",
      "self.comms.count(True) : 1\n",
      "len(self.comms) : 1\n",
      "self.state.ratio_commed: 1.0\n",
      "self.comms.count(True) : 1\n",
      "len(self.comms) : 1\n",
      "self.evaluation_deque: deque([0.6359204199624402, 0.676464186463243, 0.6294905358745807, 0.5369461145903464, 0.428991361706917, 0.6652211702971826, 0.4712333643077081, 0.43192503341432154, 0.6351751152703317, 0.6051943914252322, 0.0, 0.5015351848691461, 0.6363388705131623, 0.7274435063514604, 0.7070027891281201, 0.5563037673636495, 0.7020952562629436, 0.4176090082174119, 0.5838840265761471, 0.4466986640912961], maxlen=20)\n",
      "eval_mean: 0.5497736383342818\n"
     ]
    },
    {
     "name": "stderr",
     "output_type": "stream",
     "text": [
      "\r",
      " 39%|████████████████████████████▋                                            | 39222/100000 [39:41<1:36:09, 10.54it/s]"
     ]
    },
    {
     "name": "stdout",
     "output_type": "stream",
     "text": [
      "self.evaluation_deque: deque([0.6359204199624402, 0.676464186463243, 0.6294905358745807, 0.5369461145903464, 0.428991361706917, 0.6652211702971826, 0.4712333643077081, 0.43192503341432154, 0.6351751152703317, 0.6051943914252322, 0.0, 0.5015351848691461, 0.6363388705131623, 0.7274435063514604, 0.7070027891281201, 0.5563037673636495, 0.7020952562629436, 0.4176090082174119, 0.5838840265761471, 0.4466986640912961], maxlen=20)\n",
      "eval_mean: 0.5497736383342818\n"
     ]
    },
    {
     "name": "stderr",
     "output_type": "stream",
     "text": [
      "\r",
      " 39%|████████████████████████████▋                                            | 39298/100000 [39:49<1:39:11, 10.20it/s]"
     ]
    },
    {
     "name": "stdout",
     "output_type": "stream",
     "text": [
      "self.evaluation_deque: deque([0.6359204199624402, 0.676464186463243, 0.6294905358745807, 0.5369461145903464, 0.428991361706917, 0.6652211702971826, 0.4712333643077081, 0.43192503341432154, 0.6351751152703317, 0.6051943914252322, 0.0, 0.5015351848691461, 0.6363388705131623, 0.7274435063514604, 0.7070027891281201, 0.5563037673636495, 0.7020952562629436, 0.4176090082174119, 0.5838840265761471, 0.4466986640912961], maxlen=20)\n",
      "eval_mean: 0.5497736383342818\n"
     ]
    },
    {
     "name": "stderr",
     "output_type": "stream",
     "text": [
      "\r",
      " 39%|████████████████████████████▋                                            | 39374/100000 [39:56<1:36:33, 10.47it/s]"
     ]
    },
    {
     "name": "stdout",
     "output_type": "stream",
     "text": [
      "self.evaluation_deque: deque([0.6359204199624402, 0.676464186463243, 0.6294905358745807, 0.5369461145903464, 0.428991361706917, 0.6652211702971826, 0.4712333643077081, 0.43192503341432154, 0.6351751152703317, 0.6051943914252322, 0.0, 0.5015351848691461, 0.6363388705131623, 0.7274435063514604, 0.7070027891281201, 0.5563037673636495, 0.7020952562629436, 0.4176090082174119, 0.5838840265761471, 0.4466986640912961], maxlen=20)\n",
      "eval_mean: 0.5497736383342818\n"
     ]
    },
    {
     "name": "stderr",
     "output_type": "stream",
     "text": [
      "\r",
      " 39%|████████████████████████████▊                                            | 39450/100000 [40:04<1:39:33, 10.14it/s]"
     ]
    },
    {
     "name": "stdout",
     "output_type": "stream",
     "text": [
      "self.evaluation_deque: deque([0.6359204199624402, 0.676464186463243, 0.6294905358745807, 0.5369461145903464, 0.428991361706917, 0.6652211702971826, 0.4712333643077081, 0.43192503341432154, 0.6351751152703317, 0.6051943914252322, 0.0, 0.5015351848691461, 0.6363388705131623, 0.7274435063514604, 0.7070027891281201, 0.5563037673636495, 0.7020952562629436, 0.4176090082174119, 0.5838840265761471, 0.4466986640912961], maxlen=20)\n",
      "eval_mean: 0.5497736383342818\n"
     ]
    },
    {
     "name": "stderr",
     "output_type": "stream",
     "text": [
      "\r",
      " 40%|████████████████████████████▊                                            | 39526/100000 [40:13<1:46:21,  9.48it/s]"
     ]
    },
    {
     "name": "stdout",
     "output_type": "stream",
     "text": [
      "self.get_collection_ratio(): 0.666223674595144\n",
      "self.comms.count(True) : 2\n",
      "len(self.comms) : 2\n",
      "self.state.ratio_commed: 1.0\n",
      "self.comms.count(True) : 2\n",
      "len(self.comms) : 2\n",
      "self.evaluation_deque: deque([0.676464186463243, 0.6294905358745807, 0.5369461145903464, 0.428991361706917, 0.6652211702971826, 0.4712333643077081, 0.43192503341432154, 0.6351751152703317, 0.6051943914252322, 0.0, 0.5015351848691461, 0.6363388705131623, 0.7274435063514604, 0.7070027891281201, 0.5563037673636495, 0.7020952562629436, 0.4176090082174119, 0.5838840265761471, 0.4466986640912961, 0.666223674595144], maxlen=20)\n",
      "eval_mean: 0.5512888010659172\n"
     ]
    },
    {
     "name": "stderr",
     "output_type": "stream",
     "text": [
      "\r",
      " 40%|████████████████████████████▉                                            | 39602/100000 [40:18<1:36:36, 10.42it/s]"
     ]
    },
    {
     "name": "stdout",
     "output_type": "stream",
     "text": [
      "self.evaluation_deque: deque([0.676464186463243, 0.6294905358745807, 0.5369461145903464, 0.428991361706917, 0.6652211702971826, 0.4712333643077081, 0.43192503341432154, 0.6351751152703317, 0.6051943914252322, 0.0, 0.5015351848691461, 0.6363388705131623, 0.7274435063514604, 0.7070027891281201, 0.5563037673636495, 0.7020952562629436, 0.4176090082174119, 0.5838840265761471, 0.4466986640912961, 0.666223674595144], maxlen=20)\n",
      "eval_mean: 0.5512888010659172\n"
     ]
    },
    {
     "name": "stderr",
     "output_type": "stream",
     "text": [
      "\r",
      " 40%|████████████████████████████▉                                            | 39678/100000 [40:24<1:30:07, 11.15it/s]"
     ]
    },
    {
     "name": "stdout",
     "output_type": "stream",
     "text": [
      "self.evaluation_deque: deque([0.676464186463243, 0.6294905358745807, 0.5369461145903464, 0.428991361706917, 0.6652211702971826, 0.4712333643077081, 0.43192503341432154, 0.6351751152703317, 0.6051943914252322, 0.0, 0.5015351848691461, 0.6363388705131623, 0.7274435063514604, 0.7070027891281201, 0.5563037673636495, 0.7020952562629436, 0.4176090082174119, 0.5838840265761471, 0.4466986640912961, 0.666223674595144], maxlen=20)\n",
      "eval_mean: 0.5512888010659172\n"
     ]
    },
    {
     "name": "stderr",
     "output_type": "stream",
     "text": [
      "\r",
      " 40%|█████████████████████████████                                            | 39754/100000 [40:30<1:25:48, 11.70it/s]"
     ]
    },
    {
     "name": "stdout",
     "output_type": "stream",
     "text": [
      "self.evaluation_deque: deque([0.676464186463243, 0.6294905358745807, 0.5369461145903464, 0.428991361706917, 0.6652211702971826, 0.4712333643077081, 0.43192503341432154, 0.6351751152703317, 0.6051943914252322, 0.0, 0.5015351848691461, 0.6363388705131623, 0.7274435063514604, 0.7070027891281201, 0.5563037673636495, 0.7020952562629436, 0.4176090082174119, 0.5838840265761471, 0.4466986640912961, 0.666223674595144], maxlen=20)\n",
      "eval_mean: 0.5512888010659172\n"
     ]
    },
    {
     "name": "stderr",
     "output_type": "stream",
     "text": [
      "\r",
      " 40%|█████████████████████████████                                            | 39830/100000 [40:38<1:31:48, 10.92it/s]"
     ]
    },
    {
     "name": "stdout",
     "output_type": "stream",
     "text": [
      "self.evaluation_deque: deque([0.676464186463243, 0.6294905358745807, 0.5369461145903464, 0.428991361706917, 0.6652211702971826, 0.4712333643077081, 0.43192503341432154, 0.6351751152703317, 0.6051943914252322, 0.0, 0.5015351848691461, 0.6363388705131623, 0.7274435063514604, 0.7070027891281201, 0.5563037673636495, 0.7020952562629436, 0.4176090082174119, 0.5838840265761471, 0.4466986640912961, 0.666223674595144], maxlen=20)\n",
      "eval_mean: 0.5512888010659172\n"
     ]
    },
    {
     "name": "stderr",
     "output_type": "stream",
     "text": [
      "\r",
      " 40%|█████████████████████████████▏                                           | 39906/100000 [40:47<1:38:49, 10.14it/s]"
     ]
    },
    {
     "name": "stdout",
     "output_type": "stream",
     "text": [
      "self.get_collection_ratio(): 0.6412984219213964\n",
      "self.comms.count(True) : 3\n",
      "len(self.comms) : 3\n",
      "self.state.ratio_commed: 1.0\n",
      "self.comms.count(True) : 3\n",
      "len(self.comms) : 3\n",
      "self.evaluation_deque: deque([0.6294905358745807, 0.5369461145903464, 0.428991361706917, 0.6652211702971826, 0.4712333643077081, 0.43192503341432154, 0.6351751152703317, 0.6051943914252322, 0.0, 0.5015351848691461, 0.6363388705131623, 0.7274435063514604, 0.7070027891281201, 0.5563037673636495, 0.7020952562629436, 0.4176090082174119, 0.5838840265761471, 0.4466986640912961, 0.666223674595144, 0.6412984219213964], maxlen=20)\n",
      "eval_mean: 0.5495305128388248\n"
     ]
    },
    {
     "name": "stderr",
     "output_type": "stream",
     "text": [
      "\r",
      " 40%|█████████████████████████████▏                                           | 39982/100000 [40:52<1:31:17, 10.96it/s]"
     ]
    },
    {
     "name": "stdout",
     "output_type": "stream",
     "text": [
      "self.evaluation_deque: deque([0.6294905358745807, 0.5369461145903464, 0.428991361706917, 0.6652211702971826, 0.4712333643077081, 0.43192503341432154, 0.6351751152703317, 0.6051943914252322, 0.0, 0.5015351848691461, 0.6363388705131623, 0.7274435063514604, 0.7070027891281201, 0.5563037673636495, 0.7020952562629436, 0.4176090082174119, 0.5838840265761471, 0.4466986640912961, 0.666223674595144, 0.6412984219213964], maxlen=20)\n",
      "eval_mean: 0.5495305128388248\n"
     ]
    },
    {
     "name": "stderr",
     "output_type": "stream",
     "text": [
      "\r",
      " 40%|█████████████████████████████▏                                           | 40058/100000 [40:58<1:26:10, 11.59it/s]"
     ]
    },
    {
     "name": "stdout",
     "output_type": "stream",
     "text": [
      "self.evaluation_deque: deque([0.6294905358745807, 0.5369461145903464, 0.428991361706917, 0.6652211702971826, 0.4712333643077081, 0.43192503341432154, 0.6351751152703317, 0.6051943914252322, 0.0, 0.5015351848691461, 0.6363388705131623, 0.7274435063514604, 0.7070027891281201, 0.5563037673636495, 0.7020952562629436, 0.4176090082174119, 0.5838840265761471, 0.4466986640912961, 0.666223674595144, 0.6412984219213964], maxlen=20)\n",
      "eval_mean: 0.5495305128388248\n"
     ]
    },
    {
     "name": "stderr",
     "output_type": "stream",
     "text": [
      "\r",
      " 40%|█████████████████████████████▎                                           | 40134/100000 [41:04<1:22:27, 12.10it/s]"
     ]
    },
    {
     "name": "stdout",
     "output_type": "stream",
     "text": [
      "self.evaluation_deque: deque([0.6294905358745807, 0.5369461145903464, 0.428991361706917, 0.6652211702971826, 0.4712333643077081, 0.43192503341432154, 0.6351751152703317, 0.6051943914252322, 0.0, 0.5015351848691461, 0.6363388705131623, 0.7274435063514604, 0.7070027891281201, 0.5563037673636495, 0.7020952562629436, 0.4176090082174119, 0.5838840265761471, 0.4466986640912961, 0.666223674595144, 0.6412984219213964], maxlen=20)\n",
      "eval_mean: 0.5495305128388248\n"
     ]
    },
    {
     "name": "stderr",
     "output_type": "stream",
     "text": [
      "\r",
      " 40%|█████████████████████████████▎                                           | 40210/100000 [41:11<1:28:25, 11.27it/s]"
     ]
    },
    {
     "name": "stdout",
     "output_type": "stream",
     "text": [
      "self.evaluation_deque: deque([0.6294905358745807, 0.5369461145903464, 0.428991361706917, 0.6652211702971826, 0.4712333643077081, 0.43192503341432154, 0.6351751152703317, 0.6051943914252322, 0.0, 0.5015351848691461, 0.6363388705131623, 0.7274435063514604, 0.7070027891281201, 0.5563037673636495, 0.7020952562629436, 0.4176090082174119, 0.5838840265761471, 0.4466986640912961, 0.666223674595144, 0.6412984219213964], maxlen=20)\n",
      "eval_mean: 0.5495305128388248\n"
     ]
    },
    {
     "name": "stderr",
     "output_type": "stream",
     "text": [
      "\r",
      " 40%|█████████████████████████████▍                                           | 40286/100000 [41:22<1:42:59,  9.66it/s]"
     ]
    },
    {
     "name": "stdout",
     "output_type": "stream",
     "text": [
      "self.get_collection_ratio(): 0.6171703984300242\n",
      "self.comms.count(True) : 2\n",
      "len(self.comms) : 2\n",
      "self.state.ratio_commed: 1.0\n",
      "self.comms.count(True) : 2\n",
      "len(self.comms) : 2\n",
      "self.evaluation_deque: deque([0.5369461145903464, 0.428991361706917, 0.6652211702971826, 0.4712333643077081, 0.43192503341432154, 0.6351751152703317, 0.6051943914252322, 0.0, 0.5015351848691461, 0.6363388705131623, 0.7274435063514604, 0.7070027891281201, 0.5563037673636495, 0.7020952562629436, 0.4176090082174119, 0.5838840265761471, 0.4466986640912961, 0.666223674595144, 0.6412984219213964, 0.6171703984300242], maxlen=20)\n",
      "eval_mean: 0.5489145059665972\n"
     ]
    },
    {
     "name": "stderr",
     "output_type": "stream",
     "text": [
      "\r",
      " 40%|█████████████████████████████▍                                           | 40362/100000 [41:31<1:47:30,  9.24it/s]"
     ]
    },
    {
     "name": "stdout",
     "output_type": "stream",
     "text": [
      "self.evaluation_deque: deque([0.5369461145903464, 0.428991361706917, 0.6652211702971826, 0.4712333643077081, 0.43192503341432154, 0.6351751152703317, 0.6051943914252322, 0.0, 0.5015351848691461, 0.6363388705131623, 0.7274435063514604, 0.7070027891281201, 0.5563037673636495, 0.7020952562629436, 0.4176090082174119, 0.5838840265761471, 0.4466986640912961, 0.666223674595144, 0.6412984219213964, 0.6171703984300242], maxlen=20)\n",
      "eval_mean: 0.5489145059665972\n"
     ]
    },
    {
     "name": "stderr",
     "output_type": "stream",
     "text": [
      "\r",
      " 40%|█████████████████████████████▌                                           | 40438/100000 [41:39<1:46:51,  9.29it/s]"
     ]
    },
    {
     "name": "stdout",
     "output_type": "stream",
     "text": [
      "self.evaluation_deque: deque([0.5369461145903464, 0.428991361706917, 0.6652211702971826, 0.4712333643077081, 0.43192503341432154, 0.6351751152703317, 0.6051943914252322, 0.0, 0.5015351848691461, 0.6363388705131623, 0.7274435063514604, 0.7070027891281201, 0.5563037673636495, 0.7020952562629436, 0.4176090082174119, 0.5838840265761471, 0.4466986640912961, 0.666223674595144, 0.6412984219213964, 0.6171703984300242], maxlen=20)\n",
      "eval_mean: 0.5489145059665972\n"
     ]
    },
    {
     "name": "stderr",
     "output_type": "stream",
     "text": [
      "\r",
      " 41%|█████████████████████████████▌                                           | 40514/100000 [41:46<1:41:44,  9.75it/s]"
     ]
    },
    {
     "name": "stdout",
     "output_type": "stream",
     "text": [
      "self.evaluation_deque: deque([0.5369461145903464, 0.428991361706917, 0.6652211702971826, 0.4712333643077081, 0.43192503341432154, 0.6351751152703317, 0.6051943914252322, 0.0, 0.5015351848691461, 0.6363388705131623, 0.7274435063514604, 0.7070027891281201, 0.5563037673636495, 0.7020952562629436, 0.4176090082174119, 0.5838840265761471, 0.4466986640912961, 0.666223674595144, 0.6412984219213964, 0.6171703984300242], maxlen=20)\n",
      "eval_mean: 0.5489145059665972\n"
     ]
    },
    {
     "name": "stderr",
     "output_type": "stream",
     "text": [
      "\r",
      " 41%|█████████████████████████████▋                                           | 40590/100000 [41:53<1:37:56, 10.11it/s]"
     ]
    },
    {
     "name": "stdout",
     "output_type": "stream",
     "text": [
      "self.evaluation_deque: deque([0.5369461145903464, 0.428991361706917, 0.6652211702971826, 0.4712333643077081, 0.43192503341432154, 0.6351751152703317, 0.6051943914252322, 0.0, 0.5015351848691461, 0.6363388705131623, 0.7274435063514604, 0.7070027891281201, 0.5563037673636495, 0.7020952562629436, 0.4176090082174119, 0.5838840265761471, 0.4466986640912961, 0.666223674595144, 0.6412984219213964, 0.6171703984300242], maxlen=20)\n",
      "eval_mean: 0.5489145059665972\n"
     ]
    },
    {
     "name": "stderr",
     "output_type": "stream",
     "text": [
      "\r",
      " 41%|█████████████████████████████▋                                           | 40666/100000 [42:03<1:47:47,  9.17it/s]"
     ]
    },
    {
     "name": "stdout",
     "output_type": "stream",
     "text": [
      "self.get_collection_ratio(): 0.7438451786031632\n",
      "self.comms.count(True) : 3\n",
      "len(self.comms) : 3\n",
      "self.state.ratio_commed: 1.0\n",
      "self.comms.count(True) : 3\n",
      "len(self.comms) : 3\n",
      "self.evaluation_deque: deque([0.428991361706917, 0.6652211702971826, 0.4712333643077081, 0.43192503341432154, 0.6351751152703317, 0.6051943914252322, 0.0, 0.5015351848691461, 0.6363388705131623, 0.7274435063514604, 0.7070027891281201, 0.5563037673636495, 0.7020952562629436, 0.4176090082174119, 0.5838840265761471, 0.4466986640912961, 0.666223674595144, 0.6412984219213964, 0.6171703984300242, 0.7438451786031632], maxlen=20)\n",
      "eval_mean: 0.5592594591672378\n"
     ]
    },
    {
     "name": "stderr",
     "output_type": "stream",
     "text": [
      "\r",
      " 41%|█████████████████████████████▋                                           | 40742/100000 [42:11<1:46:33,  9.27it/s]"
     ]
    },
    {
     "name": "stdout",
     "output_type": "stream",
     "text": [
      "self.evaluation_deque: deque([0.428991361706917, 0.6652211702971826, 0.4712333643077081, 0.43192503341432154, 0.6351751152703317, 0.6051943914252322, 0.0, 0.5015351848691461, 0.6363388705131623, 0.7274435063514604, 0.7070027891281201, 0.5563037673636495, 0.7020952562629436, 0.4176090082174119, 0.5838840265761471, 0.4466986640912961, 0.666223674595144, 0.6412984219213964, 0.6171703984300242, 0.7438451786031632], maxlen=20)\n",
      "eval_mean: 0.5592594591672378\n"
     ]
    },
    {
     "name": "stderr",
     "output_type": "stream",
     "text": [
      "\r",
      " 41%|█████████████████████████████▊                                           | 40818/100000 [42:18<1:41:28,  9.72it/s]"
     ]
    },
    {
     "name": "stdout",
     "output_type": "stream",
     "text": [
      "self.evaluation_deque: deque([0.428991361706917, 0.6652211702971826, 0.4712333643077081, 0.43192503341432154, 0.6351751152703317, 0.6051943914252322, 0.0, 0.5015351848691461, 0.6363388705131623, 0.7274435063514604, 0.7070027891281201, 0.5563037673636495, 0.7020952562629436, 0.4176090082174119, 0.5838840265761471, 0.4466986640912961, 0.666223674595144, 0.6412984219213964, 0.6171703984300242, 0.7438451786031632], maxlen=20)\n",
      "eval_mean: 0.5592594591672378\n"
     ]
    },
    {
     "name": "stderr",
     "output_type": "stream",
     "text": [
      "\r",
      " 41%|█████████████████████████████▊                                           | 40894/100000 [42:26<1:42:21,  9.62it/s]"
     ]
    },
    {
     "name": "stdout",
     "output_type": "stream",
     "text": [
      "self.evaluation_deque: deque([0.428991361706917, 0.6652211702971826, 0.4712333643077081, 0.43192503341432154, 0.6351751152703317, 0.6051943914252322, 0.0, 0.5015351848691461, 0.6363388705131623, 0.7274435063514604, 0.7070027891281201, 0.5563037673636495, 0.7020952562629436, 0.4176090082174119, 0.5838840265761471, 0.4466986640912961, 0.666223674595144, 0.6412984219213964, 0.6171703984300242, 0.7438451786031632], maxlen=20)\n",
      "eval_mean: 0.5592594591672378\n"
     ]
    },
    {
     "name": "stderr",
     "output_type": "stream",
     "text": [
      "\r",
      " 41%|█████████████████████████████▉                                           | 40970/100000 [42:32<1:33:41, 10.50it/s]"
     ]
    },
    {
     "name": "stdout",
     "output_type": "stream",
     "text": [
      "self.evaluation_deque: deque([0.428991361706917, 0.6652211702971826, 0.4712333643077081, 0.43192503341432154, 0.6351751152703317, 0.6051943914252322, 0.0, 0.5015351848691461, 0.6363388705131623, 0.7274435063514604, 0.7070027891281201, 0.5563037673636495, 0.7020952562629436, 0.4176090082174119, 0.5838840265761471, 0.4466986640912961, 0.666223674595144, 0.6412984219213964, 0.6171703984300242, 0.7438451786031632], maxlen=20)\n",
      "eval_mean: 0.5592594591672378\n"
     ]
    },
    {
     "name": "stderr",
     "output_type": "stream",
     "text": [
      "\r",
      " 41%|█████████████████████████████▉                                           | 41046/100000 [42:43<1:48:14,  9.08it/s]"
     ]
    },
    {
     "name": "stdout",
     "output_type": "stream",
     "text": [
      "self.get_collection_ratio(): 0.7289978244606865\n",
      "self.comms.count(True) : 3\n",
      "len(self.comms) : 3\n",
      "self.state.ratio_commed: 1.0\n",
      "self.comms.count(True) : 3\n",
      "len(self.comms) : 3\n",
      "self.evaluation_deque: deque([0.6652211702971826, 0.4712333643077081, 0.43192503341432154, 0.6351751152703317, 0.6051943914252322, 0.0, 0.5015351848691461, 0.6363388705131623, 0.7274435063514604, 0.7070027891281201, 0.5563037673636495, 0.7020952562629436, 0.4176090082174119, 0.5838840265761471, 0.4466986640912961, 0.666223674595144, 0.6412984219213964, 0.6171703984300242, 0.7438451786031632, 0.7289978244606865], maxlen=20)\n",
      "eval_mean: 0.5742597823049264\n"
     ]
    },
    {
     "name": "stderr",
     "output_type": "stream",
     "text": [
      "\r",
      " 41%|██████████████████████████████                                           | 41122/100000 [42:50<1:42:22,  9.59it/s]"
     ]
    },
    {
     "name": "stdout",
     "output_type": "stream",
     "text": [
      "self.evaluation_deque: deque([0.6652211702971826, 0.4712333643077081, 0.43192503341432154, 0.6351751152703317, 0.6051943914252322, 0.0, 0.5015351848691461, 0.6363388705131623, 0.7274435063514604, 0.7070027891281201, 0.5563037673636495, 0.7020952562629436, 0.4176090082174119, 0.5838840265761471, 0.4466986640912961, 0.666223674595144, 0.6412984219213964, 0.6171703984300242, 0.7438451786031632, 0.7289978244606865], maxlen=20)\n",
      "eval_mean: 0.5742597823049264\n"
     ]
    },
    {
     "name": "stderr",
     "output_type": "stream",
     "text": [
      "\r",
      " 41%|██████████████████████████████                                           | 41198/100000 [42:56<1:38:05,  9.99it/s]"
     ]
    },
    {
     "name": "stdout",
     "output_type": "stream",
     "text": [
      "self.evaluation_deque: deque([0.6652211702971826, 0.4712333643077081, 0.43192503341432154, 0.6351751152703317, 0.6051943914252322, 0.0, 0.5015351848691461, 0.6363388705131623, 0.7274435063514604, 0.7070027891281201, 0.5563037673636495, 0.7020952562629436, 0.4176090082174119, 0.5838840265761471, 0.4466986640912961, 0.666223674595144, 0.6412984219213964, 0.6171703984300242, 0.7438451786031632, 0.7289978244606865], maxlen=20)\n",
      "eval_mean: 0.5742597823049264\n"
     ]
    },
    {
     "name": "stderr",
     "output_type": "stream",
     "text": [
      "\r",
      " 41%|██████████████████████████████▏                                          | 41274/100000 [43:04<1:38:36,  9.93it/s]"
     ]
    },
    {
     "name": "stdout",
     "output_type": "stream",
     "text": [
      "self.evaluation_deque: deque([0.6652211702971826, 0.4712333643077081, 0.43192503341432154, 0.6351751152703317, 0.6051943914252322, 0.0, 0.5015351848691461, 0.6363388705131623, 0.7274435063514604, 0.7070027891281201, 0.5563037673636495, 0.7020952562629436, 0.4176090082174119, 0.5838840265761471, 0.4466986640912961, 0.666223674595144, 0.6412984219213964, 0.6171703984300242, 0.7438451786031632, 0.7289978244606865], maxlen=20)\n",
      "eval_mean: 0.5742597823049264\n"
     ]
    },
    {
     "name": "stderr",
     "output_type": "stream",
     "text": [
      "\r",
      " 41%|██████████████████████████████▏                                          | 41350/100000 [43:10<1:30:47, 10.77it/s]"
     ]
    },
    {
     "name": "stdout",
     "output_type": "stream",
     "text": [
      "self.evaluation_deque: deque([0.6652211702971826, 0.4712333643077081, 0.43192503341432154, 0.6351751152703317, 0.6051943914252322, 0.0, 0.5015351848691461, 0.6363388705131623, 0.7274435063514604, 0.7070027891281201, 0.5563037673636495, 0.7020952562629436, 0.4176090082174119, 0.5838840265761471, 0.4466986640912961, 0.666223674595144, 0.6412984219213964, 0.6171703984300242, 0.7438451786031632, 0.7289978244606865], maxlen=20)\n",
      "eval_mean: 0.5742597823049264\n"
     ]
    },
    {
     "name": "stderr",
     "output_type": "stream",
     "text": [
      "\r",
      " 41%|██████████████████████████████▏                                          | 41426/100000 [43:20<1:43:40,  9.42it/s]"
     ]
    },
    {
     "name": "stdout",
     "output_type": "stream",
     "text": [
      "self.get_collection_ratio(): 0.6206304174149798\n",
      "self.comms.count(True) : 2\n",
      "len(self.comms) : 2\n",
      "self.state.ratio_commed: 1.0\n",
      "self.comms.count(True) : 2\n",
      "len(self.comms) : 2\n",
      "self.evaluation_deque: deque([0.4712333643077081, 0.43192503341432154, 0.6351751152703317, 0.6051943914252322, 0.0, 0.5015351848691461, 0.6363388705131623, 0.7274435063514604, 0.7070027891281201, 0.5563037673636495, 0.7020952562629436, 0.4176090082174119, 0.5838840265761471, 0.4466986640912961, 0.666223674595144, 0.6412984219213964, 0.6171703984300242, 0.7438451786031632, 0.7289978244606865, 0.6206304174149798], maxlen=20)\n",
      "eval_mean: 0.5720302446608162\n"
     ]
    },
    {
     "name": "stderr",
     "output_type": "stream",
     "text": [
      "\r",
      " 42%|██████████████████████████████▎                                          | 41502/100000 [43:28<1:43:33,  9.41it/s]"
     ]
    },
    {
     "name": "stdout",
     "output_type": "stream",
     "text": [
      "self.evaluation_deque: deque([0.4712333643077081, 0.43192503341432154, 0.6351751152703317, 0.6051943914252322, 0.0, 0.5015351848691461, 0.6363388705131623, 0.7274435063514604, 0.7070027891281201, 0.5563037673636495, 0.7020952562629436, 0.4176090082174119, 0.5838840265761471, 0.4466986640912961, 0.666223674595144, 0.6412984219213964, 0.6171703984300242, 0.7438451786031632, 0.7289978244606865, 0.6206304174149798], maxlen=20)\n",
      "eval_mean: 0.5720302446608162\n"
     ]
    },
    {
     "name": "stderr",
     "output_type": "stream",
     "text": [
      "\r",
      " 42%|██████████████████████████████▎                                          | 41578/100000 [43:35<1:38:53,  9.85it/s]"
     ]
    },
    {
     "name": "stdout",
     "output_type": "stream",
     "text": [
      "self.evaluation_deque: deque([0.4712333643077081, 0.43192503341432154, 0.6351751152703317, 0.6051943914252322, 0.0, 0.5015351848691461, 0.6363388705131623, 0.7274435063514604, 0.7070027891281201, 0.5563037673636495, 0.7020952562629436, 0.4176090082174119, 0.5838840265761471, 0.4466986640912961, 0.666223674595144, 0.6412984219213964, 0.6171703984300242, 0.7438451786031632, 0.7289978244606865, 0.6206304174149798], maxlen=20)\n",
      "eval_mean: 0.5720302446608162\n"
     ]
    },
    {
     "name": "stderr",
     "output_type": "stream",
     "text": [
      "\r",
      " 42%|██████████████████████████████▍                                          | 41654/100000 [43:42<1:35:22, 10.20it/s]"
     ]
    },
    {
     "name": "stdout",
     "output_type": "stream",
     "text": [
      "self.evaluation_deque: deque([0.4712333643077081, 0.43192503341432154, 0.6351751152703317, 0.6051943914252322, 0.0, 0.5015351848691461, 0.6363388705131623, 0.7274435063514604, 0.7070027891281201, 0.5563037673636495, 0.7020952562629436, 0.4176090082174119, 0.5838840265761471, 0.4466986640912961, 0.666223674595144, 0.6412984219213964, 0.6171703984300242, 0.7438451786031632, 0.7289978244606865, 0.6206304174149798], maxlen=20)\n",
      "eval_mean: 0.5720302446608162\n"
     ]
    },
    {
     "name": "stderr",
     "output_type": "stream",
     "text": [
      "\r",
      " 42%|██████████████████████████████▍                                          | 41730/100000 [43:49<1:33:01, 10.44it/s]"
     ]
    },
    {
     "name": "stdout",
     "output_type": "stream",
     "text": [
      "self.evaluation_deque: deque([0.4712333643077081, 0.43192503341432154, 0.6351751152703317, 0.6051943914252322, 0.0, 0.5015351848691461, 0.6363388705131623, 0.7274435063514604, 0.7070027891281201, 0.5563037673636495, 0.7020952562629436, 0.4176090082174119, 0.5838840265761471, 0.4466986640912961, 0.666223674595144, 0.6412984219213964, 0.6171703984300242, 0.7438451786031632, 0.7289978244606865, 0.6206304174149798], maxlen=20)\n",
      "eval_mean: 0.5720302446608162\n"
     ]
    },
    {
     "name": "stderr",
     "output_type": "stream",
     "text": [
      " 42%|██████████████████████████████▌                                          | 41806/100000 [44:00<1:49:00,  8.90it/s]"
     ]
    },
    {
     "name": "stdout",
     "output_type": "stream",
     "text": [
      "self.get_collection_ratio(): 0.6659024171932824\n",
      "self.comms.count(True) : 3\n",
      "len(self.comms) : 3\n",
      "self.state.ratio_commed: 1.0\n",
      "self.comms.count(True) : 3\n",
      "len(self.comms) : 3\n",
      "self.evaluation_deque: deque([0.43192503341432154, 0.6351751152703317, 0.6051943914252322, 0.0, 0.5015351848691461, 0.6363388705131623, 0.7274435063514604, 0.7070027891281201, 0.5563037673636495, 0.7020952562629436, 0.4176090082174119, 0.5838840265761471, 0.4466986640912961, 0.666223674595144, 0.6412984219213964, 0.6171703984300242, 0.7438451786031632, 0.7289978244606865, 0.6206304174149798, 0.6659024171932824], maxlen=20)\n",
      "eval_mean: 0.5817636973050948\n",
      "Saving best with: 0.5817636973050948\n"
     ]
    },
    {
     "name": "stderr",
     "output_type": "stream",
     "text": [
      "\r",
      " 42%|██████████████████████████████▌                                          | 41882/100000 [44:06<1:37:59,  9.89it/s]"
     ]
    },
    {
     "name": "stdout",
     "output_type": "stream",
     "text": [
      "self.evaluation_deque: deque([0.43192503341432154, 0.6351751152703317, 0.6051943914252322, 0.0, 0.5015351848691461, 0.6363388705131623, 0.7274435063514604, 0.7070027891281201, 0.5563037673636495, 0.7020952562629436, 0.4176090082174119, 0.5838840265761471, 0.4466986640912961, 0.666223674595144, 0.6412984219213964, 0.6171703984300242, 0.7438451786031632, 0.7289978244606865, 0.6206304174149798, 0.6659024171932824], maxlen=20)\n",
      "eval_mean: 0.5817636973050948\n"
     ]
    },
    {
     "name": "stderr",
     "output_type": "stream",
     "text": [
      "\r",
      " 42%|██████████████████████████████▋                                          | 41958/100000 [44:14<1:39:09,  9.76it/s]"
     ]
    },
    {
     "name": "stdout",
     "output_type": "stream",
     "text": [
      "self.evaluation_deque: deque([0.43192503341432154, 0.6351751152703317, 0.6051943914252322, 0.0, 0.5015351848691461, 0.6363388705131623, 0.7274435063514604, 0.7070027891281201, 0.5563037673636495, 0.7020952562629436, 0.4176090082174119, 0.5838840265761471, 0.4466986640912961, 0.666223674595144, 0.6412984219213964, 0.6171703984300242, 0.7438451786031632, 0.7289978244606865, 0.6206304174149798, 0.6659024171932824], maxlen=20)\n",
      "eval_mean: 0.5817636973050948\n"
     ]
    },
    {
     "name": "stderr",
     "output_type": "stream",
     "text": [
      "\r",
      " 42%|██████████████████████████████▋                                          | 42034/100000 [44:20<1:30:58, 10.62it/s]"
     ]
    },
    {
     "name": "stdout",
     "output_type": "stream",
     "text": [
      "self.evaluation_deque: deque([0.43192503341432154, 0.6351751152703317, 0.6051943914252322, 0.0, 0.5015351848691461, 0.6363388705131623, 0.7274435063514604, 0.7070027891281201, 0.5563037673636495, 0.7020952562629436, 0.4176090082174119, 0.5838840265761471, 0.4466986640912961, 0.666223674595144, 0.6412984219213964, 0.6171703984300242, 0.7438451786031632, 0.7289978244606865, 0.6206304174149798, 0.6659024171932824], maxlen=20)\n",
      "eval_mean: 0.5817636973050948\n"
     ]
    },
    {
     "name": "stderr",
     "output_type": "stream",
     "text": [
      "\r",
      " 42%|██████████████████████████████▋                                          | 42110/100000 [44:28<1:34:29, 10.21it/s]"
     ]
    },
    {
     "name": "stdout",
     "output_type": "stream",
     "text": [
      "self.evaluation_deque: deque([0.43192503341432154, 0.6351751152703317, 0.6051943914252322, 0.0, 0.5015351848691461, 0.6363388705131623, 0.7274435063514604, 0.7070027891281201, 0.5563037673636495, 0.7020952562629436, 0.4176090082174119, 0.5838840265761471, 0.4466986640912961, 0.666223674595144, 0.6412984219213964, 0.6171703984300242, 0.7438451786031632, 0.7289978244606865, 0.6206304174149798, 0.6659024171932824], maxlen=20)\n",
      "eval_mean: 0.5817636973050948\n"
     ]
    },
    {
     "name": "stderr",
     "output_type": "stream",
     "text": [
      "\r",
      " 42%|██████████████████████████████▊                                          | 42186/100000 [44:38<1:46:04,  9.08it/s]"
     ]
    },
    {
     "name": "stdout",
     "output_type": "stream",
     "text": [
      "self.get_collection_ratio(): 0.46863271560466724\n",
      "self.comms.count(True) : 2\n",
      "len(self.comms) : 2\n",
      "self.state.ratio_commed: 1.0\n",
      "self.comms.count(True) : 2\n",
      "len(self.comms) : 2\n",
      "self.evaluation_deque: deque([0.6351751152703317, 0.6051943914252322, 0.0, 0.5015351848691461, 0.6363388705131623, 0.7274435063514604, 0.7070027891281201, 0.5563037673636495, 0.7020952562629436, 0.4176090082174119, 0.5838840265761471, 0.4466986640912961, 0.666223674595144, 0.6412984219213964, 0.6171703984300242, 0.7438451786031632, 0.7289978244606865, 0.6206304174149798, 0.6659024171932824, 0.46863271560466724], maxlen=20)\n",
      "eval_mean: 0.5835990814146121\n",
      "Saving best with: 0.5835990814146121\n"
     ]
    },
    {
     "name": "stderr",
     "output_type": "stream",
     "text": [
      "\r",
      " 42%|██████████████████████████████▊                                          | 42262/100000 [44:46<1:44:40,  9.19it/s]"
     ]
    },
    {
     "name": "stdout",
     "output_type": "stream",
     "text": [
      "self.evaluation_deque: deque([0.6351751152703317, 0.6051943914252322, 0.0, 0.5015351848691461, 0.6363388705131623, 0.7274435063514604, 0.7070027891281201, 0.5563037673636495, 0.7020952562629436, 0.4176090082174119, 0.5838840265761471, 0.4466986640912961, 0.666223674595144, 0.6412984219213964, 0.6171703984300242, 0.7438451786031632, 0.7289978244606865, 0.6206304174149798, 0.6659024171932824, 0.46863271560466724], maxlen=20)\n",
      "eval_mean: 0.5835990814146121\n"
     ]
    },
    {
     "name": "stderr",
     "output_type": "stream",
     "text": [
      "\r",
      " 42%|██████████████████████████████▉                                          | 42338/100000 [44:52<1:34:45, 10.14it/s]"
     ]
    },
    {
     "name": "stdout",
     "output_type": "stream",
     "text": [
      "self.evaluation_deque: deque([0.6351751152703317, 0.6051943914252322, 0.0, 0.5015351848691461, 0.6363388705131623, 0.7274435063514604, 0.7070027891281201, 0.5563037673636495, 0.7020952562629436, 0.4176090082174119, 0.5838840265761471, 0.4466986640912961, 0.666223674595144, 0.6412984219213964, 0.6171703984300242, 0.7438451786031632, 0.7289978244606865, 0.6206304174149798, 0.6659024171932824, 0.46863271560466724], maxlen=20)\n",
      "eval_mean: 0.5835990814146121\n"
     ]
    },
    {
     "name": "stderr",
     "output_type": "stream",
     "text": [
      "\r",
      " 42%|██████████████████████████████▉                                          | 42414/100000 [44:58<1:27:44, 10.94it/s]"
     ]
    },
    {
     "name": "stdout",
     "output_type": "stream",
     "text": [
      "self.evaluation_deque: deque([0.6351751152703317, 0.6051943914252322, 0.0, 0.5015351848691461, 0.6363388705131623, 0.7274435063514604, 0.7070027891281201, 0.5563037673636495, 0.7020952562629436, 0.4176090082174119, 0.5838840265761471, 0.4466986640912961, 0.666223674595144, 0.6412984219213964, 0.6171703984300242, 0.7438451786031632, 0.7289978244606865, 0.6206304174149798, 0.6659024171932824, 0.46863271560466724], maxlen=20)\n",
      "eval_mean: 0.5835990814146121\n"
     ]
    },
    {
     "name": "stderr",
     "output_type": "stream",
     "text": [
      "\r",
      " 42%|███████████████████████████████                                          | 42490/100000 [45:04<1:23:10, 11.52it/s]"
     ]
    },
    {
     "name": "stdout",
     "output_type": "stream",
     "text": [
      "self.evaluation_deque: deque([0.6351751152703317, 0.6051943914252322, 0.0, 0.5015351848691461, 0.6363388705131623, 0.7274435063514604, 0.7070027891281201, 0.5563037673636495, 0.7020952562629436, 0.4176090082174119, 0.5838840265761471, 0.4466986640912961, 0.666223674595144, 0.6412984219213964, 0.6171703984300242, 0.7438451786031632, 0.7289978244606865, 0.6206304174149798, 0.6659024171932824, 0.46863271560466724], maxlen=20)\n",
      "eval_mean: 0.5835990814146121\n"
     ]
    },
    {
     "name": "stderr",
     "output_type": "stream",
     "text": [
      "\r",
      " 43%|███████████████████████████████                                          | 42566/100000 [45:12<1:29:35, 10.68it/s]"
     ]
    },
    {
     "name": "stdout",
     "output_type": "stream",
     "text": [
      "self.get_collection_ratio(): 0.6393918400673654\n",
      "self.comms.count(True) : 2\n",
      "len(self.comms) : 2\n",
      "self.state.ratio_commed: 1.0\n",
      "self.comms.count(True) : 2\n",
      "len(self.comms) : 2\n",
      "self.evaluation_deque: deque([0.6051943914252322, 0.0, 0.5015351848691461, 0.6363388705131623, 0.7274435063514604, 0.7070027891281201, 0.5563037673636495, 0.7020952562629436, 0.4176090082174119, 0.5838840265761471, 0.4466986640912961, 0.666223674595144, 0.6412984219213964, 0.6171703984300242, 0.7438451786031632, 0.7289978244606865, 0.6206304174149798, 0.6659024171932824, 0.46863271560466724, 0.6393918400673654], maxlen=20)\n",
      "eval_mean: 0.5838099176544638\n",
      "Saving best with: 0.5838099176544638\n"
     ]
    },
    {
     "name": "stderr",
     "output_type": "stream",
     "text": [
      "\r",
      " 43%|███████████████████████████████▏                                         | 42642/100000 [45:23<1:43:26,  9.24it/s]"
     ]
    },
    {
     "name": "stdout",
     "output_type": "stream",
     "text": [
      "self.evaluation_deque: deque([0.6051943914252322, 0.0, 0.5015351848691461, 0.6363388705131623, 0.7274435063514604, 0.7070027891281201, 0.5563037673636495, 0.7020952562629436, 0.4176090082174119, 0.5838840265761471, 0.4466986640912961, 0.666223674595144, 0.6412984219213964, 0.6171703984300242, 0.7438451786031632, 0.7289978244606865, 0.6206304174149798, 0.6659024171932824, 0.46863271560466724, 0.6393918400673654], maxlen=20)\n",
      "eval_mean: 0.5838099176544638\n"
     ]
    },
    {
     "name": "stderr",
     "output_type": "stream",
     "text": [
      "\r",
      " 43%|███████████████████████████████▏                                         | 42718/100000 [45:31<1:42:34,  9.31it/s]"
     ]
    },
    {
     "name": "stdout",
     "output_type": "stream",
     "text": [
      "self.evaluation_deque: deque([0.6051943914252322, 0.0, 0.5015351848691461, 0.6363388705131623, 0.7274435063514604, 0.7070027891281201, 0.5563037673636495, 0.7020952562629436, 0.4176090082174119, 0.5838840265761471, 0.4466986640912961, 0.666223674595144, 0.6412984219213964, 0.6171703984300242, 0.7438451786031632, 0.7289978244606865, 0.6206304174149798, 0.6659024171932824, 0.46863271560466724, 0.6393918400673654], maxlen=20)\n",
      "eval_mean: 0.5838099176544638\n"
     ]
    },
    {
     "name": "stderr",
     "output_type": "stream",
     "text": [
      "\r",
      " 43%|███████████████████████████████▏                                         | 42794/100000 [45:39<1:43:14,  9.23it/s]"
     ]
    },
    {
     "name": "stdout",
     "output_type": "stream",
     "text": [
      "self.evaluation_deque: deque([0.6051943914252322, 0.0, 0.5015351848691461, 0.6363388705131623, 0.7274435063514604, 0.7070027891281201, 0.5563037673636495, 0.7020952562629436, 0.4176090082174119, 0.5838840265761471, 0.4466986640912961, 0.666223674595144, 0.6412984219213964, 0.6171703984300242, 0.7438451786031632, 0.7289978244606865, 0.6206304174149798, 0.6659024171932824, 0.46863271560466724, 0.6393918400673654], maxlen=20)\n",
      "eval_mean: 0.5838099176544638\n"
     ]
    },
    {
     "name": "stderr",
     "output_type": "stream",
     "text": [
      "\r",
      " 43%|███████████████████████████████▎                                         | 42870/100000 [45:45<1:34:33, 10.07it/s]"
     ]
    },
    {
     "name": "stdout",
     "output_type": "stream",
     "text": [
      "self.evaluation_deque: deque([0.6051943914252322, 0.0, 0.5015351848691461, 0.6363388705131623, 0.7274435063514604, 0.7070027891281201, 0.5563037673636495, 0.7020952562629436, 0.4176090082174119, 0.5838840265761471, 0.4466986640912961, 0.666223674595144, 0.6412984219213964, 0.6171703984300242, 0.7438451786031632, 0.7289978244606865, 0.6206304174149798, 0.6659024171932824, 0.46863271560466724, 0.6393918400673654], maxlen=20)\n",
      "eval_mean: 0.5838099176544638\n"
     ]
    },
    {
     "name": "stderr",
     "output_type": "stream",
     "text": [
      "\r",
      " 43%|███████████████████████████████▎                                         | 42946/100000 [45:56<1:48:16,  8.78it/s]"
     ]
    },
    {
     "name": "stdout",
     "output_type": "stream",
     "text": [
      "self.get_collection_ratio(): 0.7225387874371942\n",
      "self.comms.count(True) : 2\n",
      "len(self.comms) : 3\n",
      "self.state.ratio_commed: 0.6666666666666666\n",
      "self.comms.count(True) : 2\n",
      "len(self.comms) : 3\n",
      "self.evaluation_deque: deque([0.0, 0.5015351848691461, 0.6363388705131623, 0.7274435063514604, 0.7070027891281201, 0.5563037673636495, 0.7020952562629436, 0.4176090082174119, 0.5838840265761471, 0.4466986640912961, 0.666223674595144, 0.6412984219213964, 0.6171703984300242, 0.7438451786031632, 0.7289978244606865, 0.6206304174149798, 0.6659024171932824, 0.46863271560466724, 0.6393918400673654, 0.4816925249581295], maxlen=20)\n",
      "eval_mean: 0.5776348243311087\n"
     ]
    },
    {
     "name": "stderr",
     "output_type": "stream",
     "text": [
      "\r",
      " 43%|███████████████████████████████▍                                         | 43022/100000 [46:02<1:37:46,  9.71it/s]"
     ]
    },
    {
     "name": "stdout",
     "output_type": "stream",
     "text": [
      "self.evaluation_deque: deque([0.0, 0.5015351848691461, 0.6363388705131623, 0.7274435063514604, 0.7070027891281201, 0.5563037673636495, 0.7020952562629436, 0.4176090082174119, 0.5838840265761471, 0.4466986640912961, 0.666223674595144, 0.6412984219213964, 0.6171703984300242, 0.7438451786031632, 0.7289978244606865, 0.6206304174149798, 0.6659024171932824, 0.46863271560466724, 0.6393918400673654, 0.4816925249581295], maxlen=20)\n",
      "eval_mean: 0.5776348243311087\n"
     ]
    },
    {
     "name": "stderr",
     "output_type": "stream",
     "text": [
      "\r",
      " 43%|███████████████████████████████▍                                         | 43098/100000 [46:09<1:35:25,  9.94it/s]"
     ]
    },
    {
     "name": "stdout",
     "output_type": "stream",
     "text": [
      "self.evaluation_deque: deque([0.0, 0.5015351848691461, 0.6363388705131623, 0.7274435063514604, 0.7070027891281201, 0.5563037673636495, 0.7020952562629436, 0.4176090082174119, 0.5838840265761471, 0.4466986640912961, 0.666223674595144, 0.6412984219213964, 0.6171703984300242, 0.7438451786031632, 0.7289978244606865, 0.6206304174149798, 0.6659024171932824, 0.46863271560466724, 0.6393918400673654, 0.4816925249581295], maxlen=20)\n",
      "eval_mean: 0.5776348243311087\n"
     ]
    },
    {
     "name": "stderr",
     "output_type": "stream",
     "text": [
      "\r",
      " 43%|███████████████████████████████▌                                         | 43174/100000 [46:18<1:37:43,  9.69it/s]"
     ]
    },
    {
     "name": "stdout",
     "output_type": "stream",
     "text": [
      "self.evaluation_deque: deque([0.0, 0.5015351848691461, 0.6363388705131623, 0.7274435063514604, 0.7070027891281201, 0.5563037673636495, 0.7020952562629436, 0.4176090082174119, 0.5838840265761471, 0.4466986640912961, 0.666223674595144, 0.6412984219213964, 0.6171703984300242, 0.7438451786031632, 0.7289978244606865, 0.6206304174149798, 0.6659024171932824, 0.46863271560466724, 0.6393918400673654, 0.4816925249581295], maxlen=20)\n",
      "eval_mean: 0.5776348243311087\n"
     ]
    },
    {
     "name": "stderr",
     "output_type": "stream",
     "text": [
      "\r",
      " 43%|███████████████████████████████▌                                         | 43250/100000 [46:25<1:34:37, 10.00it/s]"
     ]
    },
    {
     "name": "stdout",
     "output_type": "stream",
     "text": [
      "self.evaluation_deque: deque([0.0, 0.5015351848691461, 0.6363388705131623, 0.7274435063514604, 0.7070027891281201, 0.5563037673636495, 0.7020952562629436, 0.4176090082174119, 0.5838840265761471, 0.4466986640912961, 0.666223674595144, 0.6412984219213964, 0.6171703984300242, 0.7438451786031632, 0.7289978244606865, 0.6206304174149798, 0.6659024171932824, 0.46863271560466724, 0.6393918400673654, 0.4816925249581295], maxlen=20)\n",
      "eval_mean: 0.5776348243311087\n"
     ]
    },
    {
     "name": "stderr",
     "output_type": "stream",
     "text": [
      "\r",
      " 43%|███████████████████████████████▋                                         | 43326/100000 [46:35<1:42:50,  9.18it/s]"
     ]
    },
    {
     "name": "stdout",
     "output_type": "stream",
     "text": [
      "self.get_collection_ratio(): 0.39443079367535516\n",
      "self.comms.count(True) : 1\n",
      "len(self.comms) : 1\n",
      "self.state.ratio_commed: 1.0\n",
      "self.comms.count(True) : 1\n",
      "len(self.comms) : 1\n",
      "self.evaluation_deque: deque([0.5015351848691461, 0.6363388705131623, 0.7274435063514604, 0.7070027891281201, 0.5563037673636495, 0.7020952562629436, 0.4176090082174119, 0.5838840265761471, 0.4466986640912961, 0.666223674595144, 0.6412984219213964, 0.6171703984300242, 0.7438451786031632, 0.7289978244606865, 0.6206304174149798, 0.6659024171932824, 0.46863271560466724, 0.6393918400673654, 0.4816925249581295, 0.39443079367535516], maxlen=20)\n",
      "eval_mean: 0.5973563640148764\n",
      "Saving best with: 0.5973563640148764\n"
     ]
    },
    {
     "name": "stderr",
     "output_type": "stream",
     "text": [
      "\r",
      " 43%|███████████████████████████████▋                                         | 43402/100000 [46:40<1:33:27, 10.09it/s]"
     ]
    },
    {
     "name": "stdout",
     "output_type": "stream",
     "text": [
      "self.evaluation_deque: deque([0.5015351848691461, 0.6363388705131623, 0.7274435063514604, 0.7070027891281201, 0.5563037673636495, 0.7020952562629436, 0.4176090082174119, 0.5838840265761471, 0.4466986640912961, 0.666223674595144, 0.6412984219213964, 0.6171703984300242, 0.7438451786031632, 0.7289978244606865, 0.6206304174149798, 0.6659024171932824, 0.46863271560466724, 0.6393918400673654, 0.4816925249581295, 0.39443079367535516], maxlen=20)\n",
      "eval_mean: 0.5973563640148764\n"
     ]
    },
    {
     "name": "stderr",
     "output_type": "stream",
     "text": [
      "\r",
      " 43%|███████████████████████████████▋                                         | 43478/100000 [46:47<1:30:45, 10.38it/s]"
     ]
    },
    {
     "name": "stdout",
     "output_type": "stream",
     "text": [
      "self.evaluation_deque: deque([0.5015351848691461, 0.6363388705131623, 0.7274435063514604, 0.7070027891281201, 0.5563037673636495, 0.7020952562629436, 0.4176090082174119, 0.5838840265761471, 0.4466986640912961, 0.666223674595144, 0.6412984219213964, 0.6171703984300242, 0.7438451786031632, 0.7289978244606865, 0.6206304174149798, 0.6659024171932824, 0.46863271560466724, 0.6393918400673654, 0.4816925249581295, 0.39443079367535516], maxlen=20)\n",
      "eval_mean: 0.5973563640148764\n"
     ]
    },
    {
     "name": "stderr",
     "output_type": "stream",
     "text": [
      "\r",
      " 44%|███████████████████████████████▊                                         | 43554/100000 [46:53<1:24:39, 11.11it/s]"
     ]
    },
    {
     "name": "stdout",
     "output_type": "stream",
     "text": [
      "self.evaluation_deque: deque([0.5015351848691461, 0.6363388705131623, 0.7274435063514604, 0.7070027891281201, 0.5563037673636495, 0.7020952562629436, 0.4176090082174119, 0.5838840265761471, 0.4466986640912961, 0.666223674595144, 0.6412984219213964, 0.6171703984300242, 0.7438451786031632, 0.7289978244606865, 0.6206304174149798, 0.6659024171932824, 0.46863271560466724, 0.6393918400673654, 0.4816925249581295, 0.39443079367535516], maxlen=20)\n",
      "eval_mean: 0.5973563640148764\n"
     ]
    },
    {
     "name": "stderr",
     "output_type": "stream",
     "text": [
      "\r",
      " 44%|███████████████████████████████▊                                         | 43630/100000 [47:00<1:24:48, 11.08it/s]"
     ]
    },
    {
     "name": "stdout",
     "output_type": "stream",
     "text": [
      "self.evaluation_deque: deque([0.5015351848691461, 0.6363388705131623, 0.7274435063514604, 0.7070027891281201, 0.5563037673636495, 0.7020952562629436, 0.4176090082174119, 0.5838840265761471, 0.4466986640912961, 0.666223674595144, 0.6412984219213964, 0.6171703984300242, 0.7438451786031632, 0.7289978244606865, 0.6206304174149798, 0.6659024171932824, 0.46863271560466724, 0.6393918400673654, 0.4816925249581295, 0.39443079367535516], maxlen=20)\n",
      "eval_mean: 0.5973563640148764\n"
     ]
    },
    {
     "name": "stderr",
     "output_type": "stream",
     "text": [
      "\r",
      " 44%|███████████████████████████████▉                                         | 43706/100000 [47:09<1:34:19,  9.95it/s]"
     ]
    },
    {
     "name": "stdout",
     "output_type": "stream",
     "text": [
      "self.get_collection_ratio(): 0.6311506755917733\n",
      "self.comms.count(True) : 2\n",
      "len(self.comms) : 2\n",
      "self.state.ratio_commed: 1.0\n",
      "self.comms.count(True) : 2\n",
      "len(self.comms) : 2\n",
      "self.evaluation_deque: deque([0.6363388705131623, 0.7274435063514604, 0.7070027891281201, 0.5563037673636495, 0.7020952562629436, 0.4176090082174119, 0.5838840265761471, 0.4466986640912961, 0.666223674595144, 0.6412984219213964, 0.6171703984300242, 0.7438451786031632, 0.7289978244606865, 0.6206304174149798, 0.6659024171932824, 0.46863271560466724, 0.6393918400673654, 0.4816925249581295, 0.39443079367535516, 0.6311506755917733], maxlen=20)\n",
      "eval_mean: 0.6038371385510077\n",
      "Saving best with: 0.6038371385510077\n"
     ]
    },
    {
     "name": "stderr",
     "output_type": "stream",
     "text": [
      "\r",
      " 44%|███████████████████████████████▉                                         | 43782/100000 [47:18<1:36:05,  9.75it/s]"
     ]
    },
    {
     "name": "stdout",
     "output_type": "stream",
     "text": [
      "self.evaluation_deque: deque([0.6363388705131623, 0.7274435063514604, 0.7070027891281201, 0.5563037673636495, 0.7020952562629436, 0.4176090082174119, 0.5838840265761471, 0.4466986640912961, 0.666223674595144, 0.6412984219213964, 0.6171703984300242, 0.7438451786031632, 0.7289978244606865, 0.6206304174149798, 0.6659024171932824, 0.46863271560466724, 0.6393918400673654, 0.4816925249581295, 0.39443079367535516, 0.6311506755917733], maxlen=20)\n",
      "eval_mean: 0.6038371385510077\n"
     ]
    },
    {
     "name": "stderr",
     "output_type": "stream",
     "text": [
      "\r",
      " 44%|████████████████████████████████                                         | 43858/100000 [47:24<1:32:54, 10.07it/s]"
     ]
    },
    {
     "name": "stdout",
     "output_type": "stream",
     "text": [
      "self.evaluation_deque: deque([0.6363388705131623, 0.7274435063514604, 0.7070027891281201, 0.5563037673636495, 0.7020952562629436, 0.4176090082174119, 0.5838840265761471, 0.4466986640912961, 0.666223674595144, 0.6412984219213964, 0.6171703984300242, 0.7438451786031632, 0.7289978244606865, 0.6206304174149798, 0.6659024171932824, 0.46863271560466724, 0.6393918400673654, 0.4816925249581295, 0.39443079367535516, 0.6311506755917733], maxlen=20)\n",
      "eval_mean: 0.6038371385510077\n"
     ]
    },
    {
     "name": "stderr",
     "output_type": "stream",
     "text": [
      "\r",
      " 44%|████████████████████████████████                                         | 43934/100000 [47:30<1:25:36, 10.92it/s]"
     ]
    },
    {
     "name": "stdout",
     "output_type": "stream",
     "text": [
      "self.evaluation_deque: deque([0.6363388705131623, 0.7274435063514604, 0.7070027891281201, 0.5563037673636495, 0.7020952562629436, 0.4176090082174119, 0.5838840265761471, 0.4466986640912961, 0.666223674595144, 0.6412984219213964, 0.6171703984300242, 0.7438451786031632, 0.7289978244606865, 0.6206304174149798, 0.6659024171932824, 0.46863271560466724, 0.6393918400673654, 0.4816925249581295, 0.39443079367535516, 0.6311506755917733], maxlen=20)\n",
      "eval_mean: 0.6038371385510077\n"
     ]
    },
    {
     "name": "stderr",
     "output_type": "stream",
     "text": [
      "\r",
      " 44%|████████████████████████████████▏                                        | 44010/100000 [47:38<1:29:10, 10.46it/s]"
     ]
    },
    {
     "name": "stdout",
     "output_type": "stream",
     "text": [
      "self.evaluation_deque: deque([0.6363388705131623, 0.7274435063514604, 0.7070027891281201, 0.5563037673636495, 0.7020952562629436, 0.4176090082174119, 0.5838840265761471, 0.4466986640912961, 0.666223674595144, 0.6412984219213964, 0.6171703984300242, 0.7438451786031632, 0.7289978244606865, 0.6206304174149798, 0.6659024171932824, 0.46863271560466724, 0.6393918400673654, 0.4816925249581295, 0.39443079367535516, 0.6311506755917733], maxlen=20)\n",
      "eval_mean: 0.6038371385510077\n"
     ]
    },
    {
     "name": "stderr",
     "output_type": "stream",
     "text": [
      "\r",
      " 44%|████████████████████████████████▏                                        | 44086/100000 [47:48<1:38:55,  9.42it/s]"
     ]
    },
    {
     "name": "stdout",
     "output_type": "stream",
     "text": [
      "self.get_collection_ratio(): 0.6396946944932723\n",
      "self.comms.count(True) : 3\n",
      "len(self.comms) : 3\n",
      "self.state.ratio_commed: 1.0\n",
      "self.comms.count(True) : 3\n",
      "len(self.comms) : 3\n",
      "self.evaluation_deque: deque([0.7274435063514604, 0.7070027891281201, 0.5563037673636495, 0.7020952562629436, 0.4176090082174119, 0.5838840265761471, 0.4466986640912961, 0.666223674595144, 0.6412984219213964, 0.6171703984300242, 0.7438451786031632, 0.7289978244606865, 0.6206304174149798, 0.6659024171932824, 0.46863271560466724, 0.6393918400673654, 0.4816925249581295, 0.39443079367535516, 0.6311506755917733, 0.6396946944932723], maxlen=20)\n",
      "eval_mean: 0.6040049297500134\n",
      "Saving best with: 0.6040049297500134\n"
     ]
    },
    {
     "name": "stderr",
     "output_type": "stream",
     "text": [
      "\r",
      " 44%|████████████████████████████████▏                                        | 44162/100000 [47:55<1:33:38,  9.94it/s]"
     ]
    },
    {
     "name": "stdout",
     "output_type": "stream",
     "text": [
      "self.evaluation_deque: deque([0.7274435063514604, 0.7070027891281201, 0.5563037673636495, 0.7020952562629436, 0.4176090082174119, 0.5838840265761471, 0.4466986640912961, 0.666223674595144, 0.6412984219213964, 0.6171703984300242, 0.7438451786031632, 0.7289978244606865, 0.6206304174149798, 0.6659024171932824, 0.46863271560466724, 0.6393918400673654, 0.4816925249581295, 0.39443079367535516, 0.6311506755917733, 0.6396946944932723], maxlen=20)\n",
      "eval_mean: 0.6040049297500134\n"
     ]
    },
    {
     "name": "stderr",
     "output_type": "stream",
     "text": [
      "\r",
      " 44%|████████████████████████████████▎                                        | 44238/100000 [48:01<1:30:06, 10.31it/s]"
     ]
    },
    {
     "name": "stdout",
     "output_type": "stream",
     "text": [
      "self.evaluation_deque: deque([0.7274435063514604, 0.7070027891281201, 0.5563037673636495, 0.7020952562629436, 0.4176090082174119, 0.5838840265761471, 0.4466986640912961, 0.666223674595144, 0.6412984219213964, 0.6171703984300242, 0.7438451786031632, 0.7289978244606865, 0.6206304174149798, 0.6659024171932824, 0.46863271560466724, 0.6393918400673654, 0.4816925249581295, 0.39443079367535516, 0.6311506755917733, 0.6396946944932723], maxlen=20)\n",
      "eval_mean: 0.6040049297500134\n"
     ]
    },
    {
     "name": "stderr",
     "output_type": "stream",
     "text": [
      "\r",
      " 44%|████████████████████████████████▎                                        | 44314/100000 [48:09<1:31:44, 10.12it/s]"
     ]
    },
    {
     "name": "stdout",
     "output_type": "stream",
     "text": [
      "self.evaluation_deque: deque([0.7274435063514604, 0.7070027891281201, 0.5563037673636495, 0.7020952562629436, 0.4176090082174119, 0.5838840265761471, 0.4466986640912961, 0.666223674595144, 0.6412984219213964, 0.6171703984300242, 0.7438451786031632, 0.7289978244606865, 0.6206304174149798, 0.6659024171932824, 0.46863271560466724, 0.6393918400673654, 0.4816925249581295, 0.39443079367535516, 0.6311506755917733, 0.6396946944932723], maxlen=20)\n",
      "eval_mean: 0.6040049297500134\n"
     ]
    },
    {
     "name": "stderr",
     "output_type": "stream",
     "text": [
      "\r",
      " 44%|████████████████████████████████▍                                        | 44390/100000 [48:15<1:24:40, 10.95it/s]"
     ]
    },
    {
     "name": "stdout",
     "output_type": "stream",
     "text": [
      "self.evaluation_deque: deque([0.7274435063514604, 0.7070027891281201, 0.5563037673636495, 0.7020952562629436, 0.4176090082174119, 0.5838840265761471, 0.4466986640912961, 0.666223674595144, 0.6412984219213964, 0.6171703984300242, 0.7438451786031632, 0.7289978244606865, 0.6206304174149798, 0.6659024171932824, 0.46863271560466724, 0.6393918400673654, 0.4816925249581295, 0.39443079367535516, 0.6311506755917733, 0.6396946944932723], maxlen=20)\n",
      "eval_mean: 0.6040049297500134\n"
     ]
    },
    {
     "name": "stderr",
     "output_type": "stream",
     "text": [
      "\r",
      " 44%|████████████████████████████████▍                                        | 44466/100000 [48:25<1:35:11,  9.72it/s]"
     ]
    },
    {
     "name": "stdout",
     "output_type": "stream",
     "text": [
      "self.get_collection_ratio(): 0.7793241739772074\n",
      "self.comms.count(True) : 3\n",
      "len(self.comms) : 3\n",
      "self.state.ratio_commed: 1.0\n",
      "self.comms.count(True) : 3\n",
      "len(self.comms) : 3\n",
      "self.evaluation_deque: deque([0.7070027891281201, 0.5563037673636495, 0.7020952562629436, 0.4176090082174119, 0.5838840265761471, 0.4466986640912961, 0.666223674595144, 0.6412984219213964, 0.6171703984300242, 0.7438451786031632, 0.7289978244606865, 0.6206304174149798, 0.6659024171932824, 0.46863271560466724, 0.6393918400673654, 0.4816925249581295, 0.39443079367535516, 0.6311506755917733, 0.6396946944932723, 0.7793241739772074], maxlen=20)\n",
      "eval_mean: 0.6065989631313007\n",
      "Saving best with: 0.6065989631313007\n"
     ]
    },
    {
     "name": "stderr",
     "output_type": "stream",
     "text": [
      "\r",
      " 45%|████████████████████████████████▌                                        | 44542/100000 [48:31<1:30:58, 10.16it/s]"
     ]
    },
    {
     "name": "stdout",
     "output_type": "stream",
     "text": [
      "self.evaluation_deque: deque([0.7070027891281201, 0.5563037673636495, 0.7020952562629436, 0.4176090082174119, 0.5838840265761471, 0.4466986640912961, 0.666223674595144, 0.6412984219213964, 0.6171703984300242, 0.7438451786031632, 0.7289978244606865, 0.6206304174149798, 0.6659024171932824, 0.46863271560466724, 0.6393918400673654, 0.4816925249581295, 0.39443079367535516, 0.6311506755917733, 0.6396946944932723, 0.7793241739772074], maxlen=20)\n",
      "eval_mean: 0.6065989631313007\n"
     ]
    },
    {
     "name": "stderr",
     "output_type": "stream",
     "text": [
      "\r",
      " 45%|████████████████████████████████▌                                        | 44618/100000 [48:38<1:28:08, 10.47it/s]"
     ]
    },
    {
     "name": "stdout",
     "output_type": "stream",
     "text": [
      "self.evaluation_deque: deque([0.7070027891281201, 0.5563037673636495, 0.7020952562629436, 0.4176090082174119, 0.5838840265761471, 0.4466986640912961, 0.666223674595144, 0.6412984219213964, 0.6171703984300242, 0.7438451786031632, 0.7289978244606865, 0.6206304174149798, 0.6659024171932824, 0.46863271560466724, 0.6393918400673654, 0.4816925249581295, 0.39443079367535516, 0.6311506755917733, 0.6396946944932723, 0.7793241739772074], maxlen=20)\n",
      "eval_mean: 0.6065989631313007\n"
     ]
    },
    {
     "name": "stderr",
     "output_type": "stream",
     "text": [
      "\r",
      " 45%|████████████████████████████████▋                                        | 44694/100000 [48:44<1:21:45, 11.28it/s]"
     ]
    },
    {
     "name": "stdout",
     "output_type": "stream",
     "text": [
      "self.evaluation_deque: deque([0.7070027891281201, 0.5563037673636495, 0.7020952562629436, 0.4176090082174119, 0.5838840265761471, 0.4466986640912961, 0.666223674595144, 0.6412984219213964, 0.6171703984300242, 0.7438451786031632, 0.7289978244606865, 0.6206304174149798, 0.6659024171932824, 0.46863271560466724, 0.6393918400673654, 0.4816925249581295, 0.39443079367535516, 0.6311506755917733, 0.6396946944932723, 0.7793241739772074], maxlen=20)\n",
      "eval_mean: 0.6065989631313007\n"
     ]
    },
    {
     "name": "stderr",
     "output_type": "stream",
     "text": [
      "\r",
      " 45%|████████████████████████████████▋                                        | 44770/100000 [48:49<1:17:24, 11.89it/s]"
     ]
    },
    {
     "name": "stdout",
     "output_type": "stream",
     "text": [
      "self.evaluation_deque: deque([0.7070027891281201, 0.5563037673636495, 0.7020952562629436, 0.4176090082174119, 0.5838840265761471, 0.4466986640912961, 0.666223674595144, 0.6412984219213964, 0.6171703984300242, 0.7438451786031632, 0.7289978244606865, 0.6206304174149798, 0.6659024171932824, 0.46863271560466724, 0.6393918400673654, 0.4816925249581295, 0.39443079367535516, 0.6311506755917733, 0.6396946944932723, 0.7793241739772074], maxlen=20)\n",
      "eval_mean: 0.6065989631313007\n"
     ]
    },
    {
     "name": "stderr",
     "output_type": "stream",
     "text": [
      "\r",
      " 45%|████████████████████████████████▋                                        | 44846/100000 [48:58<1:25:31, 10.75it/s]"
     ]
    },
    {
     "name": "stdout",
     "output_type": "stream",
     "text": [
      "self.get_collection_ratio(): 0.557326614456273\n",
      "self.comms.count(True) : 3\n",
      "len(self.comms) : 3\n",
      "self.state.ratio_commed: 1.0\n",
      "self.comms.count(True) : 3\n",
      "len(self.comms) : 3\n",
      "self.evaluation_deque: deque([0.5563037673636495, 0.7020952562629436, 0.4176090082174119, 0.5838840265761471, 0.4466986640912961, 0.666223674595144, 0.6412984219213964, 0.6171703984300242, 0.7438451786031632, 0.7289978244606865, 0.6206304174149798, 0.6659024171932824, 0.46863271560466724, 0.6393918400673654, 0.4816925249581295, 0.39443079367535516, 0.6311506755917733, 0.6396946944932723, 0.7793241739772074, 0.557326614456273], maxlen=20)\n",
      "eval_mean: 0.5991151543977083\n"
     ]
    },
    {
     "name": "stderr",
     "output_type": "stream",
     "text": [
      "\r",
      " 45%|████████████████████████████████▊                                        | 44922/100000 [49:04<1:20:05, 11.46it/s]"
     ]
    },
    {
     "name": "stdout",
     "output_type": "stream",
     "text": [
      "self.evaluation_deque: deque([0.5563037673636495, 0.7020952562629436, 0.4176090082174119, 0.5838840265761471, 0.4466986640912961, 0.666223674595144, 0.6412984219213964, 0.6171703984300242, 0.7438451786031632, 0.7289978244606865, 0.6206304174149798, 0.6659024171932824, 0.46863271560466724, 0.6393918400673654, 0.4816925249581295, 0.39443079367535516, 0.6311506755917733, 0.6396946944932723, 0.7793241739772074, 0.557326614456273], maxlen=20)\n",
      "eval_mean: 0.5991151543977083\n"
     ]
    },
    {
     "name": "stderr",
     "output_type": "stream",
     "text": [
      "\r",
      " 45%|████████████████████████████████▊                                        | 44998/100000 [49:11<1:24:35, 10.84it/s]"
     ]
    },
    {
     "name": "stdout",
     "output_type": "stream",
     "text": [
      "self.evaluation_deque: deque([0.5563037673636495, 0.7020952562629436, 0.4176090082174119, 0.5838840265761471, 0.4466986640912961, 0.666223674595144, 0.6412984219213964, 0.6171703984300242, 0.7438451786031632, 0.7289978244606865, 0.6206304174149798, 0.6659024171932824, 0.46863271560466724, 0.6393918400673654, 0.4816925249581295, 0.39443079367535516, 0.6311506755917733, 0.6396946944932723, 0.7793241739772074, 0.557326614456273], maxlen=20)\n",
      "eval_mean: 0.5991151543977083\n"
     ]
    },
    {
     "name": "stderr",
     "output_type": "stream",
     "text": [
      "\r",
      " 45%|████████████████████████████████▉                                        | 45074/100000 [49:17<1:18:56, 11.60it/s]"
     ]
    },
    {
     "name": "stdout",
     "output_type": "stream",
     "text": [
      "self.evaluation_deque: deque([0.5563037673636495, 0.7020952562629436, 0.4176090082174119, 0.5838840265761471, 0.4466986640912961, 0.666223674595144, 0.6412984219213964, 0.6171703984300242, 0.7438451786031632, 0.7289978244606865, 0.6206304174149798, 0.6659024171932824, 0.46863271560466724, 0.6393918400673654, 0.4816925249581295, 0.39443079367535516, 0.6311506755917733, 0.6396946944932723, 0.7793241739772074, 0.557326614456273], maxlen=20)\n",
      "eval_mean: 0.5991151543977083\n"
     ]
    },
    {
     "name": "stderr",
     "output_type": "stream",
     "text": [
      "\r",
      " 45%|████████████████████████████████▉                                        | 45150/100000 [49:23<1:15:25, 12.12it/s]"
     ]
    },
    {
     "name": "stdout",
     "output_type": "stream",
     "text": [
      "self.evaluation_deque: deque([0.5563037673636495, 0.7020952562629436, 0.4176090082174119, 0.5838840265761471, 0.4466986640912961, 0.666223674595144, 0.6412984219213964, 0.6171703984300242, 0.7438451786031632, 0.7289978244606865, 0.6206304174149798, 0.6659024171932824, 0.46863271560466724, 0.6393918400673654, 0.4816925249581295, 0.39443079367535516, 0.6311506755917733, 0.6396946944932723, 0.7793241739772074, 0.557326614456273], maxlen=20)\n",
      "eval_mean: 0.5991151543977083\n"
     ]
    },
    {
     "name": "stderr",
     "output_type": "stream",
     "text": [
      "\r",
      " 45%|█████████████████████████████████                                        | 45226/100000 [49:32<1:28:23, 10.33it/s]"
     ]
    },
    {
     "name": "stdout",
     "output_type": "stream",
     "text": [
      "self.get_collection_ratio(): 0.7256829101194671\n",
      "self.comms.count(True) : 3\n",
      "len(self.comms) : 3\n",
      "self.state.ratio_commed: 1.0\n",
      "self.comms.count(True) : 3\n",
      "len(self.comms) : 3\n",
      "self.evaluation_deque: deque([0.7020952562629436, 0.4176090082174119, 0.5838840265761471, 0.4466986640912961, 0.666223674595144, 0.6412984219213964, 0.6171703984300242, 0.7438451786031632, 0.7289978244606865, 0.6206304174149798, 0.6659024171932824, 0.46863271560466724, 0.6393918400673654, 0.4816925249581295, 0.39443079367535516, 0.6311506755917733, 0.6396946944932723, 0.7793241739772074, 0.557326614456273, 0.7256829101194671], maxlen=20)\n",
      "eval_mean: 0.6075841115354991\n",
      "Saving best with: 0.6075841115354991\n"
     ]
    },
    {
     "name": "stderr",
     "output_type": "stream",
     "text": [
      "\r",
      " 45%|█████████████████████████████████                                        | 45302/100000 [49:42<1:36:16,  9.47it/s]"
     ]
    },
    {
     "name": "stdout",
     "output_type": "stream",
     "text": [
      "self.evaluation_deque: deque([0.7020952562629436, 0.4176090082174119, 0.5838840265761471, 0.4466986640912961, 0.666223674595144, 0.6412984219213964, 0.6171703984300242, 0.7438451786031632, 0.7289978244606865, 0.6206304174149798, 0.6659024171932824, 0.46863271560466724, 0.6393918400673654, 0.4816925249581295, 0.39443079367535516, 0.6311506755917733, 0.6396946944932723, 0.7793241739772074, 0.557326614456273, 0.7256829101194671], maxlen=20)\n",
      "eval_mean: 0.6075841115354991\n"
     ]
    },
    {
     "name": "stderr",
     "output_type": "stream",
     "text": [
      "\r",
      " 45%|█████████████████████████████████▏                                       | 45378/100000 [49:50<1:35:24,  9.54it/s]"
     ]
    },
    {
     "name": "stdout",
     "output_type": "stream",
     "text": [
      "self.evaluation_deque: deque([0.7020952562629436, 0.4176090082174119, 0.5838840265761471, 0.4466986640912961, 0.666223674595144, 0.6412984219213964, 0.6171703984300242, 0.7438451786031632, 0.7289978244606865, 0.6206304174149798, 0.6659024171932824, 0.46863271560466724, 0.6393918400673654, 0.4816925249581295, 0.39443079367535516, 0.6311506755917733, 0.6396946944932723, 0.7793241739772074, 0.557326614456273, 0.7256829101194671], maxlen=20)\n",
      "eval_mean: 0.6075841115354991\n"
     ]
    },
    {
     "name": "stderr",
     "output_type": "stream",
     "text": [
      "\r",
      " 45%|█████████████████████████████████▏                                       | 45454/100000 [49:57<1:30:52, 10.00it/s]"
     ]
    },
    {
     "name": "stdout",
     "output_type": "stream",
     "text": [
      "self.evaluation_deque: deque([0.7020952562629436, 0.4176090082174119, 0.5838840265761471, 0.4466986640912961, 0.666223674595144, 0.6412984219213964, 0.6171703984300242, 0.7438451786031632, 0.7289978244606865, 0.6206304174149798, 0.6659024171932824, 0.46863271560466724, 0.6393918400673654, 0.4816925249581295, 0.39443079367535516, 0.6311506755917733, 0.6396946944932723, 0.7793241739772074, 0.557326614456273, 0.7256829101194671], maxlen=20)\n",
      "eval_mean: 0.6075841115354991\n"
     ]
    },
    {
     "name": "stderr",
     "output_type": "stream",
     "text": [
      "\r",
      " 46%|█████████████████████████████████▏                                       | 45530/100000 [50:04<1:31:37,  9.91it/s]"
     ]
    },
    {
     "name": "stdout",
     "output_type": "stream",
     "text": [
      "self.evaluation_deque: deque([0.7020952562629436, 0.4176090082174119, 0.5838840265761471, 0.4466986640912961, 0.666223674595144, 0.6412984219213964, 0.6171703984300242, 0.7438451786031632, 0.7289978244606865, 0.6206304174149798, 0.6659024171932824, 0.46863271560466724, 0.6393918400673654, 0.4816925249581295, 0.39443079367535516, 0.6311506755917733, 0.6396946944932723, 0.7793241739772074, 0.557326614456273, 0.7256829101194671], maxlen=20)\n",
      "eval_mean: 0.6075841115354991\n"
     ]
    },
    {
     "name": "stderr",
     "output_type": "stream",
     "text": [
      "\r",
      " 46%|█████████████████████████████████▎                                       | 45606/100000 [50:11<1:29:25, 10.14it/s]"
     ]
    },
    {
     "name": "stdout",
     "output_type": "stream",
     "text": [
      "self.get_collection_ratio(): 0.4462608396155237\n",
      "self.comms.count(True) : 1\n",
      "len(self.comms) : 1\n",
      "self.state.ratio_commed: 1.0\n",
      "self.comms.count(True) : 1\n",
      "len(self.comms) : 1\n",
      "self.evaluation_deque: deque([0.4176090082174119, 0.5838840265761471, 0.4466986640912961, 0.666223674595144, 0.6412984219213964, 0.6171703984300242, 0.7438451786031632, 0.7289978244606865, 0.6206304174149798, 0.6659024171932824, 0.46863271560466724, 0.6393918400673654, 0.4816925249581295, 0.39443079367535516, 0.6311506755917733, 0.6396946944932723, 0.7793241739772074, 0.557326614456273, 0.7256829101194671, 0.4462608396155237], maxlen=20)\n",
      "eval_mean: 0.5947923907031283\n"
     ]
    },
    {
     "name": "stderr",
     "output_type": "stream",
     "text": [
      "\r",
      " 46%|█████████████████████████████████▎                                       | 45682/100000 [50:18<1:26:41, 10.44it/s]"
     ]
    },
    {
     "name": "stdout",
     "output_type": "stream",
     "text": [
      "self.evaluation_deque: deque([0.4176090082174119, 0.5838840265761471, 0.4466986640912961, 0.666223674595144, 0.6412984219213964, 0.6171703984300242, 0.7438451786031632, 0.7289978244606865, 0.6206304174149798, 0.6659024171932824, 0.46863271560466724, 0.6393918400673654, 0.4816925249581295, 0.39443079367535516, 0.6311506755917733, 0.6396946944932723, 0.7793241739772074, 0.557326614456273, 0.7256829101194671, 0.4462608396155237], maxlen=20)\n",
      "eval_mean: 0.5947923907031283\n"
     ]
    },
    {
     "name": "stderr",
     "output_type": "stream",
     "text": [
      "\r",
      " 46%|█████████████████████████████████▍                                       | 45758/100000 [50:26<1:28:52, 10.17it/s]"
     ]
    },
    {
     "name": "stdout",
     "output_type": "stream",
     "text": [
      "self.evaluation_deque: deque([0.4176090082174119, 0.5838840265761471, 0.4466986640912961, 0.666223674595144, 0.6412984219213964, 0.6171703984300242, 0.7438451786031632, 0.7289978244606865, 0.6206304174149798, 0.6659024171932824, 0.46863271560466724, 0.6393918400673654, 0.4816925249581295, 0.39443079367535516, 0.6311506755917733, 0.6396946944932723, 0.7793241739772074, 0.557326614456273, 0.7256829101194671, 0.4462608396155237], maxlen=20)\n",
      "eval_mean: 0.5947923907031283\n"
     ]
    },
    {
     "name": "stderr",
     "output_type": "stream",
     "text": [
      "\r",
      " 46%|█████████████████████████████████▍                                       | 45834/100000 [50:34<1:30:37,  9.96it/s]"
     ]
    },
    {
     "name": "stdout",
     "output_type": "stream",
     "text": [
      "self.evaluation_deque: deque([0.4176090082174119, 0.5838840265761471, 0.4466986640912961, 0.666223674595144, 0.6412984219213964, 0.6171703984300242, 0.7438451786031632, 0.7289978244606865, 0.6206304174149798, 0.6659024171932824, 0.46863271560466724, 0.6393918400673654, 0.4816925249581295, 0.39443079367535516, 0.6311506755917733, 0.6396946944932723, 0.7793241739772074, 0.557326614456273, 0.7256829101194671, 0.4462608396155237], maxlen=20)\n",
      "eval_mean: 0.5947923907031283\n"
     ]
    },
    {
     "name": "stderr",
     "output_type": "stream",
     "text": [
      "\r",
      " 46%|█████████████████████████████████▌                                       | 45910/100000 [50:42<1:31:19,  9.87it/s]"
     ]
    },
    {
     "name": "stdout",
     "output_type": "stream",
     "text": [
      "self.evaluation_deque: deque([0.4176090082174119, 0.5838840265761471, 0.4466986640912961, 0.666223674595144, 0.6412984219213964, 0.6171703984300242, 0.7438451786031632, 0.7289978244606865, 0.6206304174149798, 0.6659024171932824, 0.46863271560466724, 0.6393918400673654, 0.4816925249581295, 0.39443079367535516, 0.6311506755917733, 0.6396946944932723, 0.7793241739772074, 0.557326614456273, 0.7256829101194671, 0.4462608396155237], maxlen=20)\n",
      "eval_mean: 0.5947923907031283\n"
     ]
    },
    {
     "name": "stderr",
     "output_type": "stream",
     "text": [
      "\r",
      " 46%|█████████████████████████████████▌                                       | 45986/100000 [50:51<1:35:23,  9.44it/s]"
     ]
    },
    {
     "name": "stdout",
     "output_type": "stream",
     "text": [
      "self.get_collection_ratio(): 0.7434664203871246\n",
      "self.comms.count(True) : 3\n",
      "len(self.comms) : 3\n",
      "self.state.ratio_commed: 1.0\n",
      "self.comms.count(True) : 3\n",
      "len(self.comms) : 3\n",
      "self.evaluation_deque: deque([0.5838840265761471, 0.4466986640912961, 0.666223674595144, 0.6412984219213964, 0.6171703984300242, 0.7438451786031632, 0.7289978244606865, 0.6206304174149798, 0.6659024171932824, 0.46863271560466724, 0.6393918400673654, 0.4816925249581295, 0.39443079367535516, 0.6311506755917733, 0.6396946944932723, 0.7793241739772074, 0.557326614456273, 0.7256829101194671, 0.4462608396155237, 0.7434664203871246], maxlen=20)\n",
      "eval_mean: 0.6110852613116139\n",
      "Saving best with: 0.6110852613116139\n"
     ]
    },
    {
     "name": "stderr",
     "output_type": "stream",
     "text": [
      "\r",
      " 46%|█████████████████████████████████▋                                       | 46062/100000 [50:59<1:34:35,  9.50it/s]"
     ]
    },
    {
     "name": "stdout",
     "output_type": "stream",
     "text": [
      "self.evaluation_deque: deque([0.5838840265761471, 0.4466986640912961, 0.666223674595144, 0.6412984219213964, 0.6171703984300242, 0.7438451786031632, 0.7289978244606865, 0.6206304174149798, 0.6659024171932824, 0.46863271560466724, 0.6393918400673654, 0.4816925249581295, 0.39443079367535516, 0.6311506755917733, 0.6396946944932723, 0.7793241739772074, 0.557326614456273, 0.7256829101194671, 0.4462608396155237, 0.7434664203871246], maxlen=20)\n",
      "eval_mean: 0.6110852613116139\n"
     ]
    },
    {
     "name": "stderr",
     "output_type": "stream",
     "text": [
      "\r",
      " 46%|█████████████████████████████████▋                                       | 46138/100000 [51:05<1:29:57,  9.98it/s]"
     ]
    },
    {
     "name": "stdout",
     "output_type": "stream",
     "text": [
      "self.evaluation_deque: deque([0.5838840265761471, 0.4466986640912961, 0.666223674595144, 0.6412984219213964, 0.6171703984300242, 0.7438451786031632, 0.7289978244606865, 0.6206304174149798, 0.6659024171932824, 0.46863271560466724, 0.6393918400673654, 0.4816925249581295, 0.39443079367535516, 0.6311506755917733, 0.6396946944932723, 0.7793241739772074, 0.557326614456273, 0.7256829101194671, 0.4462608396155237, 0.7434664203871246], maxlen=20)\n",
      "eval_mean: 0.6110852613116139\n"
     ]
    },
    {
     "name": "stderr",
     "output_type": "stream",
     "text": [
      "\r",
      " 46%|█████████████████████████████████▋                                       | 46214/100000 [51:12<1:26:43, 10.34it/s]"
     ]
    },
    {
     "name": "stdout",
     "output_type": "stream",
     "text": [
      "self.evaluation_deque: deque([0.5838840265761471, 0.4466986640912961, 0.666223674595144, 0.6412984219213964, 0.6171703984300242, 0.7438451786031632, 0.7289978244606865, 0.6206304174149798, 0.6659024171932824, 0.46863271560466724, 0.6393918400673654, 0.4816925249581295, 0.39443079367535516, 0.6311506755917733, 0.6396946944932723, 0.7793241739772074, 0.557326614456273, 0.7256829101194671, 0.4462608396155237, 0.7434664203871246], maxlen=20)\n",
      "eval_mean: 0.6110852613116139\n"
     ]
    },
    {
     "name": "stderr",
     "output_type": "stream",
     "text": [
      "\r",
      " 46%|█████████████████████████████████▊                                       | 46290/100000 [51:18<1:20:21, 11.14it/s]"
     ]
    },
    {
     "name": "stdout",
     "output_type": "stream",
     "text": [
      "self.evaluation_deque: deque([0.5838840265761471, 0.4466986640912961, 0.666223674595144, 0.6412984219213964, 0.6171703984300242, 0.7438451786031632, 0.7289978244606865, 0.6206304174149798, 0.6659024171932824, 0.46863271560466724, 0.6393918400673654, 0.4816925249581295, 0.39443079367535516, 0.6311506755917733, 0.6396946944932723, 0.7793241739772074, 0.557326614456273, 0.7256829101194671, 0.4462608396155237, 0.7434664203871246], maxlen=20)\n",
      "eval_mean: 0.6110852613116139\n"
     ]
    },
    {
     "name": "stderr",
     "output_type": "stream",
     "text": [
      "\r",
      " 46%|█████████████████████████████████▊                                       | 46366/100000 [51:26<1:26:00, 10.39it/s]"
     ]
    },
    {
     "name": "stdout",
     "output_type": "stream",
     "text": [
      "self.get_collection_ratio(): 0.42669844922263994\n",
      "self.comms.count(True) : 1\n",
      "len(self.comms) : 1\n",
      "self.state.ratio_commed: 1.0\n",
      "self.comms.count(True) : 1\n",
      "len(self.comms) : 1\n",
      "self.evaluation_deque: deque([0.4466986640912961, 0.666223674595144, 0.6412984219213964, 0.6171703984300242, 0.7438451786031632, 0.7289978244606865, 0.6206304174149798, 0.6659024171932824, 0.46863271560466724, 0.6393918400673654, 0.4816925249581295, 0.39443079367535516, 0.6311506755917733, 0.6396946944932723, 0.7793241739772074, 0.557326614456273, 0.7256829101194671, 0.4462608396155237, 0.7434664203871246, 0.42669844922263994], maxlen=20)\n",
      "eval_mean: 0.6032259824439385\n"
     ]
    },
    {
     "name": "stderr",
     "output_type": "stream",
     "text": [
      "\r",
      " 46%|█████████████████████████████████▉                                       | 46442/100000 [51:33<1:23:49, 10.65it/s]"
     ]
    },
    {
     "name": "stdout",
     "output_type": "stream",
     "text": [
      "self.evaluation_deque: deque([0.4466986640912961, 0.666223674595144, 0.6412984219213964, 0.6171703984300242, 0.7438451786031632, 0.7289978244606865, 0.6206304174149798, 0.6659024171932824, 0.46863271560466724, 0.6393918400673654, 0.4816925249581295, 0.39443079367535516, 0.6311506755917733, 0.6396946944932723, 0.7793241739772074, 0.557326614456273, 0.7256829101194671, 0.4462608396155237, 0.7434664203871246, 0.42669844922263994], maxlen=20)\n",
      "eval_mean: 0.6032259824439385\n"
     ]
    },
    {
     "name": "stderr",
     "output_type": "stream",
     "text": [
      "\r",
      " 47%|█████████████████████████████████▉                                       | 46518/100000 [51:40<1:22:45, 10.77it/s]"
     ]
    },
    {
     "name": "stdout",
     "output_type": "stream",
     "text": [
      "self.evaluation_deque: deque([0.4466986640912961, 0.666223674595144, 0.6412984219213964, 0.6171703984300242, 0.7438451786031632, 0.7289978244606865, 0.6206304174149798, 0.6659024171932824, 0.46863271560466724, 0.6393918400673654, 0.4816925249581295, 0.39443079367535516, 0.6311506755917733, 0.6396946944932723, 0.7793241739772074, 0.557326614456273, 0.7256829101194671, 0.4462608396155237, 0.7434664203871246, 0.42669844922263994], maxlen=20)\n",
      "eval_mean: 0.6032259824439385\n"
     ]
    },
    {
     "name": "stderr",
     "output_type": "stream",
     "text": [
      "\r",
      " 47%|██████████████████████████████████                                       | 46594/100000 [51:45<1:17:17, 11.52it/s]"
     ]
    },
    {
     "name": "stdout",
     "output_type": "stream",
     "text": [
      "self.evaluation_deque: deque([0.4466986640912961, 0.666223674595144, 0.6412984219213964, 0.6171703984300242, 0.7438451786031632, 0.7289978244606865, 0.6206304174149798, 0.6659024171932824, 0.46863271560466724, 0.6393918400673654, 0.4816925249581295, 0.39443079367535516, 0.6311506755917733, 0.6396946944932723, 0.7793241739772074, 0.557326614456273, 0.7256829101194671, 0.4462608396155237, 0.7434664203871246, 0.42669844922263994], maxlen=20)\n",
      "eval_mean: 0.6032259824439385\n"
     ]
    },
    {
     "name": "stderr",
     "output_type": "stream",
     "text": [
      "\r",
      " 47%|██████████████████████████████████                                       | 46670/100000 [51:51<1:13:57, 12.02it/s]"
     ]
    },
    {
     "name": "stdout",
     "output_type": "stream",
     "text": [
      "self.evaluation_deque: deque([0.4466986640912961, 0.666223674595144, 0.6412984219213964, 0.6171703984300242, 0.7438451786031632, 0.7289978244606865, 0.6206304174149798, 0.6659024171932824, 0.46863271560466724, 0.6393918400673654, 0.4816925249581295, 0.39443079367535516, 0.6311506755917733, 0.6396946944932723, 0.7793241739772074, 0.557326614456273, 0.7256829101194671, 0.4462608396155237, 0.7434664203871246, 0.42669844922263994], maxlen=20)\n",
      "eval_mean: 0.6032259824439385\n"
     ]
    },
    {
     "name": "stderr",
     "output_type": "stream",
     "text": [
      "\r",
      " 47%|██████████████████████████████████                                       | 46746/100000 [52:00<1:22:25, 10.77it/s]"
     ]
    },
    {
     "name": "stdout",
     "output_type": "stream",
     "text": [
      "self.get_collection_ratio(): 0.6410836906638246\n",
      "self.comms.count(True) : 1\n",
      "len(self.comms) : 2\n",
      "self.state.ratio_commed: 0.5\n",
      "self.comms.count(True) : 1\n",
      "len(self.comms) : 2\n",
      "self.evaluation_deque: deque([0.666223674595144, 0.6412984219213964, 0.6171703984300242, 0.7438451786031632, 0.7289978244606865, 0.6206304174149798, 0.6659024171932824, 0.46863271560466724, 0.6393918400673654, 0.4816925249581295, 0.39443079367535516, 0.6311506755917733, 0.6396946944932723, 0.7793241739772074, 0.557326614456273, 0.7256829101194671, 0.4462608396155237, 0.7434664203871246, 0.42669844922263994, 0.3205418453319123], maxlen=20)\n",
      "eval_mean: 0.5969181415059692\n"
     ]
    },
    {
     "name": "stderr",
     "output_type": "stream",
     "text": [
      "\r",
      " 47%|██████████████████████████████████▏                                      | 46822/100000 [52:07<1:21:18, 10.90it/s]"
     ]
    },
    {
     "name": "stdout",
     "output_type": "stream",
     "text": [
      "self.evaluation_deque: deque([0.666223674595144, 0.6412984219213964, 0.6171703984300242, 0.7438451786031632, 0.7289978244606865, 0.6206304174149798, 0.6659024171932824, 0.46863271560466724, 0.6393918400673654, 0.4816925249581295, 0.39443079367535516, 0.6311506755917733, 0.6396946944932723, 0.7793241739772074, 0.557326614456273, 0.7256829101194671, 0.4462608396155237, 0.7434664203871246, 0.42669844922263994, 0.3205418453319123], maxlen=20)\n",
      "eval_mean: 0.5969181415059692\n"
     ]
    },
    {
     "name": "stderr",
     "output_type": "stream",
     "text": [
      "\r",
      " 47%|██████████████████████████████████▏                                      | 46898/100000 [52:12<1:16:35, 11.55it/s]"
     ]
    },
    {
     "name": "stdout",
     "output_type": "stream",
     "text": [
      "self.evaluation_deque: deque([0.666223674595144, 0.6412984219213964, 0.6171703984300242, 0.7438451786031632, 0.7289978244606865, 0.6206304174149798, 0.6659024171932824, 0.46863271560466724, 0.6393918400673654, 0.4816925249581295, 0.39443079367535516, 0.6311506755917733, 0.6396946944932723, 0.7793241739772074, 0.557326614456273, 0.7256829101194671, 0.4462608396155237, 0.7434664203871246, 0.42669844922263994, 0.3205418453319123], maxlen=20)\n",
      "eval_mean: 0.5969181415059692\n"
     ]
    },
    {
     "name": "stderr",
     "output_type": "stream",
     "text": [
      "\r",
      " 47%|██████████████████████████████████▎                                      | 46974/100000 [52:20<1:22:09, 10.76it/s]"
     ]
    },
    {
     "name": "stdout",
     "output_type": "stream",
     "text": [
      "self.evaluation_deque: deque([0.666223674595144, 0.6412984219213964, 0.6171703984300242, 0.7438451786031632, 0.7289978244606865, 0.6206304174149798, 0.6659024171932824, 0.46863271560466724, 0.6393918400673654, 0.4816925249581295, 0.39443079367535516, 0.6311506755917733, 0.6396946944932723, 0.7793241739772074, 0.557326614456273, 0.7256829101194671, 0.4462608396155237, 0.7434664203871246, 0.42669844922263994, 0.3205418453319123], maxlen=20)\n",
      "eval_mean: 0.5969181415059692\n"
     ]
    },
    {
     "name": "stderr",
     "output_type": "stream",
     "text": [
      "\r",
      " 47%|██████████████████████████████████▎                                      | 47050/100000 [52:26<1:17:44, 11.35it/s]"
     ]
    },
    {
     "name": "stdout",
     "output_type": "stream",
     "text": [
      "self.evaluation_deque: deque([0.666223674595144, 0.6412984219213964, 0.6171703984300242, 0.7438451786031632, 0.7289978244606865, 0.6206304174149798, 0.6659024171932824, 0.46863271560466724, 0.6393918400673654, 0.4816925249581295, 0.39443079367535516, 0.6311506755917733, 0.6396946944932723, 0.7793241739772074, 0.557326614456273, 0.7256829101194671, 0.4462608396155237, 0.7434664203871246, 0.42669844922263994, 0.3205418453319123], maxlen=20)\n",
      "eval_mean: 0.5969181415059692\n"
     ]
    },
    {
     "name": "stderr",
     "output_type": "stream",
     "text": [
      "\r",
      " 47%|██████████████████████████████████▍                                      | 47126/100000 [52:35<1:25:48, 10.27it/s]"
     ]
    },
    {
     "name": "stdout",
     "output_type": "stream",
     "text": [
      "self.get_collection_ratio(): 0.7412594084332161\n",
      "self.comms.count(True) : 3\n",
      "len(self.comms) : 3\n",
      "self.state.ratio_commed: 1.0\n",
      "self.comms.count(True) : 3\n",
      "len(self.comms) : 3\n",
      "self.evaluation_deque: deque([0.6412984219213964, 0.6171703984300242, 0.7438451786031632, 0.7289978244606865, 0.6206304174149798, 0.6659024171932824, 0.46863271560466724, 0.6393918400673654, 0.4816925249581295, 0.39443079367535516, 0.6311506755917733, 0.6396946944932723, 0.7793241739772074, 0.557326614456273, 0.7256829101194671, 0.4462608396155237, 0.7434664203871246, 0.42669844922263994, 0.3205418453319123, 0.7412594084332161], maxlen=20)\n",
      "eval_mean: 0.6006699281978729\n"
     ]
    },
    {
     "name": "stderr",
     "output_type": "stream",
     "text": [
      "\r",
      " 47%|██████████████████████████████████▍                                      | 47202/100000 [52:44<1:28:40,  9.92it/s]"
     ]
    },
    {
     "name": "stdout",
     "output_type": "stream",
     "text": [
      "self.evaluation_deque: deque([0.6412984219213964, 0.6171703984300242, 0.7438451786031632, 0.7289978244606865, 0.6206304174149798, 0.6659024171932824, 0.46863271560466724, 0.6393918400673654, 0.4816925249581295, 0.39443079367535516, 0.6311506755917733, 0.6396946944932723, 0.7793241739772074, 0.557326614456273, 0.7256829101194671, 0.4462608396155237, 0.7434664203871246, 0.42669844922263994, 0.3205418453319123, 0.7412594084332161], maxlen=20)\n",
      "eval_mean: 0.6006699281978729\n"
     ]
    },
    {
     "name": "stderr",
     "output_type": "stream",
     "text": [
      "\r",
      " 47%|██████████████████████████████████▌                                      | 47278/100000 [52:52<1:30:16,  9.73it/s]"
     ]
    },
    {
     "name": "stdout",
     "output_type": "stream",
     "text": [
      "self.evaluation_deque: deque([0.6412984219213964, 0.6171703984300242, 0.7438451786031632, 0.7289978244606865, 0.6206304174149798, 0.6659024171932824, 0.46863271560466724, 0.6393918400673654, 0.4816925249581295, 0.39443079367535516, 0.6311506755917733, 0.6396946944932723, 0.7793241739772074, 0.557326614456273, 0.7256829101194671, 0.4462608396155237, 0.7434664203871246, 0.42669844922263994, 0.3205418453319123, 0.7412594084332161], maxlen=20)\n",
      "eval_mean: 0.6006699281978729\n"
     ]
    },
    {
     "name": "stderr",
     "output_type": "stream",
     "text": [
      "\r",
      " 47%|██████████████████████████████████▌                                      | 47354/100000 [53:00<1:31:21,  9.60it/s]"
     ]
    },
    {
     "name": "stdout",
     "output_type": "stream",
     "text": [
      "self.evaluation_deque: deque([0.6412984219213964, 0.6171703984300242, 0.7438451786031632, 0.7289978244606865, 0.6206304174149798, 0.6659024171932824, 0.46863271560466724, 0.6393918400673654, 0.4816925249581295, 0.39443079367535516, 0.6311506755917733, 0.6396946944932723, 0.7793241739772074, 0.557326614456273, 0.7256829101194671, 0.4462608396155237, 0.7434664203871246, 0.42669844922263994, 0.3205418453319123, 0.7412594084332161], maxlen=20)\n",
      "eval_mean: 0.6006699281978729\n"
     ]
    },
    {
     "name": "stderr",
     "output_type": "stream",
     "text": [
      "\r",
      " 47%|██████████████████████████████████▌                                      | 47430/100000 [53:06<1:24:05, 10.42it/s]"
     ]
    },
    {
     "name": "stdout",
     "output_type": "stream",
     "text": [
      "self.evaluation_deque: deque([0.6412984219213964, 0.6171703984300242, 0.7438451786031632, 0.7289978244606865, 0.6206304174149798, 0.6659024171932824, 0.46863271560466724, 0.6393918400673654, 0.4816925249581295, 0.39443079367535516, 0.6311506755917733, 0.6396946944932723, 0.7793241739772074, 0.557326614456273, 0.7256829101194671, 0.4462608396155237, 0.7434664203871246, 0.42669844922263994, 0.3205418453319123, 0.7412594084332161], maxlen=20)\n",
      "eval_mean: 0.6006699281978729\n"
     ]
    },
    {
     "name": "stderr",
     "output_type": "stream",
     "text": [
      "\r",
      " 48%|██████████████████████████████████▋                                      | 47506/100000 [53:16<1:35:08,  9.20it/s]"
     ]
    },
    {
     "name": "stdout",
     "output_type": "stream",
     "text": [
      "self.get_collection_ratio(): 0.6355158278095369\n",
      "self.comms.count(True) : 2\n",
      "len(self.comms) : 2\n",
      "self.state.ratio_commed: 1.0\n",
      "self.comms.count(True) : 2\n",
      "len(self.comms) : 2\n",
      "self.evaluation_deque: deque([0.6171703984300242, 0.7438451786031632, 0.7289978244606865, 0.6206304174149798, 0.6659024171932824, 0.46863271560466724, 0.6393918400673654, 0.4816925249581295, 0.39443079367535516, 0.6311506755917733, 0.6396946944932723, 0.7793241739772074, 0.557326614456273, 0.7256829101194671, 0.4462608396155237, 0.7434664203871246, 0.42669844922263994, 0.3205418453319123, 0.7412594084332161, 0.6355158278095369], maxlen=20)\n",
      "eval_mean: 0.6003807984922799\n"
     ]
    },
    {
     "name": "stderr",
     "output_type": "stream",
     "text": [
      "\r",
      " 48%|██████████████████████████████████▋                                      | 47582/100000 [53:24<1:34:37,  9.23it/s]"
     ]
    },
    {
     "name": "stdout",
     "output_type": "stream",
     "text": [
      "self.evaluation_deque: deque([0.6171703984300242, 0.7438451786031632, 0.7289978244606865, 0.6206304174149798, 0.6659024171932824, 0.46863271560466724, 0.6393918400673654, 0.4816925249581295, 0.39443079367535516, 0.6311506755917733, 0.6396946944932723, 0.7793241739772074, 0.557326614456273, 0.7256829101194671, 0.4462608396155237, 0.7434664203871246, 0.42669844922263994, 0.3205418453319123, 0.7412594084332161, 0.6355158278095369], maxlen=20)\n",
      "eval_mean: 0.6003807984922799\n"
     ]
    },
    {
     "name": "stderr",
     "output_type": "stream",
     "text": [
      "\r",
      " 48%|██████████████████████████████████▊                                      | 47658/100000 [53:33<1:34:05,  9.27it/s]"
     ]
    },
    {
     "name": "stdout",
     "output_type": "stream",
     "text": [
      "self.evaluation_deque: deque([0.6171703984300242, 0.7438451786031632, 0.7289978244606865, 0.6206304174149798, 0.6659024171932824, 0.46863271560466724, 0.6393918400673654, 0.4816925249581295, 0.39443079367535516, 0.6311506755917733, 0.6396946944932723, 0.7793241739772074, 0.557326614456273, 0.7256829101194671, 0.4462608396155237, 0.7434664203871246, 0.42669844922263994, 0.3205418453319123, 0.7412594084332161, 0.6355158278095369], maxlen=20)\n",
      "eval_mean: 0.6003807984922799\n"
     ]
    },
    {
     "name": "stderr",
     "output_type": "stream",
     "text": [
      "\r",
      " 48%|██████████████████████████████████▊                                      | 47734/100000 [53:38<1:25:40, 10.17it/s]"
     ]
    },
    {
     "name": "stdout",
     "output_type": "stream",
     "text": [
      "self.evaluation_deque: deque([0.6171703984300242, 0.7438451786031632, 0.7289978244606865, 0.6206304174149798, 0.6659024171932824, 0.46863271560466724, 0.6393918400673654, 0.4816925249581295, 0.39443079367535516, 0.6311506755917733, 0.6396946944932723, 0.7793241739772074, 0.557326614456273, 0.7256829101194671, 0.4462608396155237, 0.7434664203871246, 0.42669844922263994, 0.3205418453319123, 0.7412594084332161, 0.6355158278095369], maxlen=20)\n",
      "eval_mean: 0.6003807984922799\n"
     ]
    },
    {
     "name": "stderr",
     "output_type": "stream",
     "text": [
      "\r",
      " 48%|██████████████████████████████████▉                                      | 47810/100000 [53:44<1:19:43, 10.91it/s]"
     ]
    },
    {
     "name": "stdout",
     "output_type": "stream",
     "text": [
      "self.evaluation_deque: deque([0.6171703984300242, 0.7438451786031632, 0.7289978244606865, 0.6206304174149798, 0.6659024171932824, 0.46863271560466724, 0.6393918400673654, 0.4816925249581295, 0.39443079367535516, 0.6311506755917733, 0.6396946944932723, 0.7793241739772074, 0.557326614456273, 0.7256829101194671, 0.4462608396155237, 0.7434664203871246, 0.42669844922263994, 0.3205418453319123, 0.7412594084332161, 0.6355158278095369], maxlen=20)\n",
      "eval_mean: 0.6003807984922799\n"
     ]
    },
    {
     "name": "stderr",
     "output_type": "stream",
     "text": [
      "\r",
      " 48%|██████████████████████████████████▉                                      | 47886/100000 [53:53<1:25:05, 10.21it/s]"
     ]
    },
    {
     "name": "stdout",
     "output_type": "stream",
     "text": [
      "self.get_collection_ratio(): 0.3713495149254075\n",
      "self.comms.count(True) : 1\n",
      "len(self.comms) : 1\n",
      "self.state.ratio_commed: 1.0\n",
      "self.comms.count(True) : 1\n",
      "len(self.comms) : 1\n",
      "self.evaluation_deque: deque([0.7438451786031632, 0.7289978244606865, 0.6206304174149798, 0.6659024171932824, 0.46863271560466724, 0.6393918400673654, 0.4816925249581295, 0.39443079367535516, 0.6311506755917733, 0.6396946944932723, 0.7793241739772074, 0.557326614456273, 0.7256829101194671, 0.4462608396155237, 0.7434664203871246, 0.42669844922263994, 0.3205418453319123, 0.7412594084332161, 0.6355158278095369, 0.3713495149254075], maxlen=20)\n",
      "eval_mean: 0.5880897543170491\n"
     ]
    },
    {
     "name": "stderr",
     "output_type": "stream",
     "text": [
      "\r",
      " 48%|███████████████████████████████████                                      | 47962/100000 [54:00<1:23:21, 10.40it/s]"
     ]
    },
    {
     "name": "stdout",
     "output_type": "stream",
     "text": [
      "self.evaluation_deque: deque([0.7438451786031632, 0.7289978244606865, 0.6206304174149798, 0.6659024171932824, 0.46863271560466724, 0.6393918400673654, 0.4816925249581295, 0.39443079367535516, 0.6311506755917733, 0.6396946944932723, 0.7793241739772074, 0.557326614456273, 0.7256829101194671, 0.4462608396155237, 0.7434664203871246, 0.42669844922263994, 0.3205418453319123, 0.7412594084332161, 0.6355158278095369, 0.3713495149254075], maxlen=20)\n",
      "eval_mean: 0.5880897543170491\n"
     ]
    },
    {
     "name": "stderr",
     "output_type": "stream",
     "text": [
      "\r",
      " 48%|███████████████████████████████████                                      | 48038/100000 [54:06<1:18:17, 11.06it/s]"
     ]
    },
    {
     "name": "stdout",
     "output_type": "stream",
     "text": [
      "self.evaluation_deque: deque([0.7438451786031632, 0.7289978244606865, 0.6206304174149798, 0.6659024171932824, 0.46863271560466724, 0.6393918400673654, 0.4816925249581295, 0.39443079367535516, 0.6311506755917733, 0.6396946944932723, 0.7793241739772074, 0.557326614456273, 0.7256829101194671, 0.4462608396155237, 0.7434664203871246, 0.42669844922263994, 0.3205418453319123, 0.7412594084332161, 0.6355158278095369, 0.3713495149254075], maxlen=20)\n",
      "eval_mean: 0.5880897543170491\n"
     ]
    },
    {
     "name": "stderr",
     "output_type": "stream",
     "text": [
      "\r",
      " 48%|███████████████████████████████████                                      | 48114/100000 [54:11<1:14:31, 11.60it/s]"
     ]
    },
    {
     "name": "stdout",
     "output_type": "stream",
     "text": [
      "self.evaluation_deque: deque([0.7438451786031632, 0.7289978244606865, 0.6206304174149798, 0.6659024171932824, 0.46863271560466724, 0.6393918400673654, 0.4816925249581295, 0.39443079367535516, 0.6311506755917733, 0.6396946944932723, 0.7793241739772074, 0.557326614456273, 0.7256829101194671, 0.4462608396155237, 0.7434664203871246, 0.42669844922263994, 0.3205418453319123, 0.7412594084332161, 0.6355158278095369, 0.3713495149254075], maxlen=20)\n",
      "eval_mean: 0.5880897543170491\n"
     ]
    },
    {
     "name": "stderr",
     "output_type": "stream",
     "text": [
      "\r",
      " 48%|███████████████████████████████████▏                                     | 48190/100000 [54:19<1:18:54, 10.94it/s]"
     ]
    },
    {
     "name": "stdout",
     "output_type": "stream",
     "text": [
      "self.evaluation_deque: deque([0.7438451786031632, 0.7289978244606865, 0.6206304174149798, 0.6659024171932824, 0.46863271560466724, 0.6393918400673654, 0.4816925249581295, 0.39443079367535516, 0.6311506755917733, 0.6396946944932723, 0.7793241739772074, 0.557326614456273, 0.7256829101194671, 0.4462608396155237, 0.7434664203871246, 0.42669844922263994, 0.3205418453319123, 0.7412594084332161, 0.6355158278095369, 0.3713495149254075], maxlen=20)\n",
      "eval_mean: 0.5880897543170491\n"
     ]
    },
    {
     "name": "stderr",
     "output_type": "stream",
     "text": [
      " 48%|███████████████████████████████████▏                                     | 48266/100000 [54:32<1:39:27,  8.67it/s]"
     ]
    },
    {
     "name": "stdout",
     "output_type": "stream",
     "text": [
      "self.get_collection_ratio(): 0.3962152462642251\n",
      "self.comms.count(True) : 1\n",
      "len(self.comms) : 1\n",
      "self.state.ratio_commed: 1.0\n",
      "self.comms.count(True) : 1\n",
      "len(self.comms) : 1\n",
      "self.evaluation_deque: deque([0.7289978244606865, 0.6206304174149798, 0.6659024171932824, 0.46863271560466724, 0.6393918400673654, 0.4816925249581295, 0.39443079367535516, 0.6311506755917733, 0.6396946944932723, 0.7793241739772074, 0.557326614456273, 0.7256829101194671, 0.4462608396155237, 0.7434664203871246, 0.42669844922263994, 0.3205418453319123, 0.7412594084332161, 0.6355158278095369, 0.3713495149254075, 0.3962152462642251], maxlen=20)\n",
      "eval_mean: 0.5707082577001021\n"
     ]
    },
    {
     "name": "stderr",
     "output_type": "stream",
     "text": [
      "\r",
      " 48%|███████████████████████████████████▎                                     | 48342/100000 [54:39<1:33:10,  9.24it/s]"
     ]
    },
    {
     "name": "stdout",
     "output_type": "stream",
     "text": [
      "self.evaluation_deque: deque([0.7289978244606865, 0.6206304174149798, 0.6659024171932824, 0.46863271560466724, 0.6393918400673654, 0.4816925249581295, 0.39443079367535516, 0.6311506755917733, 0.6396946944932723, 0.7793241739772074, 0.557326614456273, 0.7256829101194671, 0.4462608396155237, 0.7434664203871246, 0.42669844922263994, 0.3205418453319123, 0.7412594084332161, 0.6355158278095369, 0.3713495149254075, 0.3962152462642251], maxlen=20)\n",
      "eval_mean: 0.5707082577001021\n"
     ]
    },
    {
     "name": "stderr",
     "output_type": "stream",
     "text": [
      "\r",
      " 48%|███████████████████████████████████▎                                     | 48418/100000 [54:47<1:32:42,  9.27it/s]"
     ]
    },
    {
     "name": "stdout",
     "output_type": "stream",
     "text": [
      "self.evaluation_deque: deque([0.7289978244606865, 0.6206304174149798, 0.6659024171932824, 0.46863271560466724, 0.6393918400673654, 0.4816925249581295, 0.39443079367535516, 0.6311506755917733, 0.6396946944932723, 0.7793241739772074, 0.557326614456273, 0.7256829101194671, 0.4462608396155237, 0.7434664203871246, 0.42669844922263994, 0.3205418453319123, 0.7412594084332161, 0.6355158278095369, 0.3713495149254075, 0.3962152462642251], maxlen=20)\n",
      "eval_mean: 0.5707082577001021\n"
     ]
    },
    {
     "name": "stderr",
     "output_type": "stream",
     "text": [
      "\r",
      " 48%|███████████████████████████████████▍                                     | 48494/100000 [54:55<1:31:27,  9.39it/s]"
     ]
    },
    {
     "name": "stdout",
     "output_type": "stream",
     "text": [
      "self.evaluation_deque: deque([0.7289978244606865, 0.6206304174149798, 0.6659024171932824, 0.46863271560466724, 0.6393918400673654, 0.4816925249581295, 0.39443079367535516, 0.6311506755917733, 0.6396946944932723, 0.7793241739772074, 0.557326614456273, 0.7256829101194671, 0.4462608396155237, 0.7434664203871246, 0.42669844922263994, 0.3205418453319123, 0.7412594084332161, 0.6355158278095369, 0.3713495149254075, 0.3962152462642251], maxlen=20)\n",
      "eval_mean: 0.5707082577001021\n"
     ]
    },
    {
     "name": "stderr",
     "output_type": "stream",
     "text": [
      "\r",
      " 49%|███████████████████████████████████▍                                     | 48570/100000 [55:02<1:27:16,  9.82it/s]"
     ]
    },
    {
     "name": "stdout",
     "output_type": "stream",
     "text": [
      "self.evaluation_deque: deque([0.7289978244606865, 0.6206304174149798, 0.6659024171932824, 0.46863271560466724, 0.6393918400673654, 0.4816925249581295, 0.39443079367535516, 0.6311506755917733, 0.6396946944932723, 0.7793241739772074, 0.557326614456273, 0.7256829101194671, 0.4462608396155237, 0.7434664203871246, 0.42669844922263994, 0.3205418453319123, 0.7412594084332161, 0.6355158278095369, 0.3713495149254075, 0.3962152462642251], maxlen=20)\n",
      "eval_mean: 0.5707082577001021\n"
     ]
    },
    {
     "name": "stderr",
     "output_type": "stream",
     "text": [
      "\r",
      " 49%|███████████████████████████████████▌                                     | 48646/100000 [55:13<1:38:32,  8.69it/s]"
     ]
    },
    {
     "name": "stdout",
     "output_type": "stream",
     "text": [
      "self.get_collection_ratio(): 0.6152498790897858\n",
      "self.comms.count(True) : 3\n",
      "len(self.comms) : 3\n",
      "self.state.ratio_commed: 1.0\n",
      "self.comms.count(True) : 3\n",
      "len(self.comms) : 3\n",
      "self.evaluation_deque: deque([0.6206304174149798, 0.6659024171932824, 0.46863271560466724, 0.6393918400673654, 0.4816925249581295, 0.39443079367535516, 0.6311506755917733, 0.6396946944932723, 0.7793241739772074, 0.557326614456273, 0.7256829101194671, 0.4462608396155237, 0.7434664203871246, 0.42669844922263994, 0.3205418453319123, 0.7412594084332161, 0.6355158278095369, 0.3713495149254075, 0.3962152462642251, 0.6152498790897858], maxlen=20)\n",
      "eval_mean: 0.5650208604315572\n"
     ]
    },
    {
     "name": "stderr",
     "output_type": "stream",
     "text": [
      "\r",
      " 49%|███████████████████████████████████▌                                     | 48722/100000 [55:20<1:32:11,  9.27it/s]"
     ]
    },
    {
     "name": "stdout",
     "output_type": "stream",
     "text": [
      "self.evaluation_deque: deque([0.6206304174149798, 0.6659024171932824, 0.46863271560466724, 0.6393918400673654, 0.4816925249581295, 0.39443079367535516, 0.6311506755917733, 0.6396946944932723, 0.7793241739772074, 0.557326614456273, 0.7256829101194671, 0.4462608396155237, 0.7434664203871246, 0.42669844922263994, 0.3205418453319123, 0.7412594084332161, 0.6355158278095369, 0.3713495149254075, 0.3962152462642251, 0.6152498790897858], maxlen=20)\n",
      "eval_mean: 0.5650208604315572\n"
     ]
    },
    {
     "name": "stderr",
     "output_type": "stream",
     "text": [
      "\r",
      " 49%|███████████████████████████████████▌                                     | 48798/100000 [55:28<1:31:42,  9.30it/s]"
     ]
    },
    {
     "name": "stdout",
     "output_type": "stream",
     "text": [
      "self.evaluation_deque: deque([0.6206304174149798, 0.6659024171932824, 0.46863271560466724, 0.6393918400673654, 0.4816925249581295, 0.39443079367535516, 0.6311506755917733, 0.6396946944932723, 0.7793241739772074, 0.557326614456273, 0.7256829101194671, 0.4462608396155237, 0.7434664203871246, 0.42669844922263994, 0.3205418453319123, 0.7412594084332161, 0.6355158278095369, 0.3713495149254075, 0.3962152462642251, 0.6152498790897858], maxlen=20)\n",
      "eval_mean: 0.5650208604315572\n"
     ]
    },
    {
     "name": "stderr",
     "output_type": "stream",
     "text": [
      "\r",
      " 49%|███████████████████████████████████▋                                     | 48874/100000 [55:34<1:23:26, 10.21it/s]"
     ]
    },
    {
     "name": "stdout",
     "output_type": "stream",
     "text": [
      "self.evaluation_deque: deque([0.6206304174149798, 0.6659024171932824, 0.46863271560466724, 0.6393918400673654, 0.4816925249581295, 0.39443079367535516, 0.6311506755917733, 0.6396946944932723, 0.7793241739772074, 0.557326614456273, 0.7256829101194671, 0.4462608396155237, 0.7434664203871246, 0.42669844922263994, 0.3205418453319123, 0.7412594084332161, 0.6355158278095369, 0.3713495149254075, 0.3962152462642251, 0.6152498790897858], maxlen=20)\n",
      "eval_mean: 0.5650208604315572\n"
     ]
    },
    {
     "name": "stderr",
     "output_type": "stream",
     "text": [
      "\r",
      " 49%|███████████████████████████████████▋                                     | 48950/100000 [55:40<1:17:41, 10.95it/s]"
     ]
    },
    {
     "name": "stdout",
     "output_type": "stream",
     "text": [
      "self.evaluation_deque: deque([0.6206304174149798, 0.6659024171932824, 0.46863271560466724, 0.6393918400673654, 0.4816925249581295, 0.39443079367535516, 0.6311506755917733, 0.6396946944932723, 0.7793241739772074, 0.557326614456273, 0.7256829101194671, 0.4462608396155237, 0.7434664203871246, 0.42669844922263994, 0.3205418453319123, 0.7412594084332161, 0.6355158278095369, 0.3713495149254075, 0.3962152462642251, 0.6152498790897858], maxlen=20)\n",
      "eval_mean: 0.5650208604315572\n"
     ]
    },
    {
     "name": "stderr",
     "output_type": "stream",
     "text": [
      "\r",
      " 49%|███████████████████████████████████▊                                     | 49026/100000 [55:48<1:22:39, 10.28it/s]"
     ]
    },
    {
     "name": "stdout",
     "output_type": "stream",
     "text": [
      "self.get_collection_ratio(): 0.3829503330451563\n",
      "self.comms.count(True) : 1\n",
      "len(self.comms) : 1\n",
      "self.state.ratio_commed: 1.0\n",
      "self.comms.count(True) : 1\n",
      "len(self.comms) : 1\n",
      "self.evaluation_deque: deque([0.6659024171932824, 0.46863271560466724, 0.6393918400673654, 0.4816925249581295, 0.39443079367535516, 0.6311506755917733, 0.6396946944932723, 0.7793241739772074, 0.557326614456273, 0.7256829101194671, 0.4462608396155237, 0.7434664203871246, 0.42669844922263994, 0.3205418453319123, 0.7412594084332161, 0.6355158278095369, 0.3713495149254075, 0.3962152462642251, 0.6152498790897858, 0.3829503330451563], maxlen=20)\n",
      "eval_mean: 0.5531368562130661\n"
     ]
    },
    {
     "name": "stderr",
     "output_type": "stream",
     "text": [
      "\r",
      " 49%|███████████████████████████████████▊                                     | 49102/100000 [55:54<1:17:19, 10.97it/s]"
     ]
    },
    {
     "name": "stdout",
     "output_type": "stream",
     "text": [
      "self.evaluation_deque: deque([0.6659024171932824, 0.46863271560466724, 0.6393918400673654, 0.4816925249581295, 0.39443079367535516, 0.6311506755917733, 0.6396946944932723, 0.7793241739772074, 0.557326614456273, 0.7256829101194671, 0.4462608396155237, 0.7434664203871246, 0.42669844922263994, 0.3205418453319123, 0.7412594084332161, 0.6355158278095369, 0.3713495149254075, 0.3962152462642251, 0.6152498790897858, 0.3829503330451563], maxlen=20)\n",
      "eval_mean: 0.5531368562130661\n"
     ]
    },
    {
     "name": "stderr",
     "output_type": "stream",
     "text": [
      "\r",
      " 49%|███████████████████████████████████▉                                     | 49178/100000 [56:02<1:21:43, 10.37it/s]"
     ]
    },
    {
     "name": "stdout",
     "output_type": "stream",
     "text": [
      "self.evaluation_deque: deque([0.6659024171932824, 0.46863271560466724, 0.6393918400673654, 0.4816925249581295, 0.39443079367535516, 0.6311506755917733, 0.6396946944932723, 0.7793241739772074, 0.557326614456273, 0.7256829101194671, 0.4462608396155237, 0.7434664203871246, 0.42669844922263994, 0.3205418453319123, 0.7412594084332161, 0.6355158278095369, 0.3713495149254075, 0.3962152462642251, 0.6152498790897858, 0.3829503330451563], maxlen=20)\n",
      "eval_mean: 0.5531368562130661\n"
     ]
    },
    {
     "name": "stderr",
     "output_type": "stream",
     "text": [
      "\r",
      " 49%|███████████████████████████████████▉                                     | 49254/100000 [56:08<1:16:18, 11.08it/s]"
     ]
    },
    {
     "name": "stdout",
     "output_type": "stream",
     "text": [
      "self.evaluation_deque: deque([0.6659024171932824, 0.46863271560466724, 0.6393918400673654, 0.4816925249581295, 0.39443079367535516, 0.6311506755917733, 0.6396946944932723, 0.7793241739772074, 0.557326614456273, 0.7256829101194671, 0.4462608396155237, 0.7434664203871246, 0.42669844922263994, 0.3205418453319123, 0.7412594084332161, 0.6355158278095369, 0.3713495149254075, 0.3962152462642251, 0.6152498790897858, 0.3829503330451563], maxlen=20)\n",
      "eval_mean: 0.5531368562130661\n"
     ]
    },
    {
     "name": "stderr",
     "output_type": "stream",
     "text": [
      "\r",
      " 49%|████████████████████████████████████                                     | 49330/100000 [56:16<1:19:25, 10.63it/s]"
     ]
    },
    {
     "name": "stdout",
     "output_type": "stream",
     "text": [
      "self.evaluation_deque: deque([0.6659024171932824, 0.46863271560466724, 0.6393918400673654, 0.4816925249581295, 0.39443079367535516, 0.6311506755917733, 0.6396946944932723, 0.7793241739772074, 0.557326614456273, 0.7256829101194671, 0.4462608396155237, 0.7434664203871246, 0.42669844922263994, 0.3205418453319123, 0.7412594084332161, 0.6355158278095369, 0.3713495149254075, 0.3962152462642251, 0.6152498790897858, 0.3829503330451563], maxlen=20)\n",
      "eval_mean: 0.5531368562130661\n"
     ]
    },
    {
     "name": "stderr",
     "output_type": "stream",
     "text": [
      "\r",
      " 49%|████████████████████████████████████                                     | 49406/100000 [56:25<1:25:09,  9.90it/s]"
     ]
    },
    {
     "name": "stdout",
     "output_type": "stream",
     "text": [
      "self.get_collection_ratio(): 0.6975310938312983\n",
      "self.comms.count(True) : 3\n",
      "len(self.comms) : 3\n",
      "self.state.ratio_commed: 1.0\n",
      "self.comms.count(True) : 3\n",
      "len(self.comms) : 3\n",
      "self.evaluation_deque: deque([0.46863271560466724, 0.6393918400673654, 0.4816925249581295, 0.39443079367535516, 0.6311506755917733, 0.6396946944932723, 0.7793241739772074, 0.557326614456273, 0.7256829101194671, 0.4462608396155237, 0.7434664203871246, 0.42669844922263994, 0.3205418453319123, 0.7412594084332161, 0.6355158278095369, 0.3713495149254075, 0.3962152462642251, 0.6152498790897858, 0.3829503330451563, 0.6975310938312983], maxlen=20)\n",
      "eval_mean: 0.5547182900449669\n"
     ]
    },
    {
     "name": "stderr",
     "output_type": "stream",
     "text": [
      "\r",
      " 49%|████████████████████████████████████                                     | 49482/100000 [56:32<1:22:34, 10.20it/s]"
     ]
    },
    {
     "name": "stdout",
     "output_type": "stream",
     "text": [
      "self.evaluation_deque: deque([0.46863271560466724, 0.6393918400673654, 0.4816925249581295, 0.39443079367535516, 0.6311506755917733, 0.6396946944932723, 0.7793241739772074, 0.557326614456273, 0.7256829101194671, 0.4462608396155237, 0.7434664203871246, 0.42669844922263994, 0.3205418453319123, 0.7412594084332161, 0.6355158278095369, 0.3713495149254075, 0.3962152462642251, 0.6152498790897858, 0.3829503330451563, 0.6975310938312983], maxlen=20)\n",
      "eval_mean: 0.5547182900449669\n"
     ]
    },
    {
     "name": "stderr",
     "output_type": "stream",
     "text": [
      "\r",
      " 50%|████████████████████████████████████▏                                    | 49558/100000 [56:37<1:16:43, 10.96it/s]"
     ]
    },
    {
     "name": "stdout",
     "output_type": "stream",
     "text": [
      "self.evaluation_deque: deque([0.46863271560466724, 0.6393918400673654, 0.4816925249581295, 0.39443079367535516, 0.6311506755917733, 0.6396946944932723, 0.7793241739772074, 0.557326614456273, 0.7256829101194671, 0.4462608396155237, 0.7434664203871246, 0.42669844922263994, 0.3205418453319123, 0.7412594084332161, 0.6355158278095369, 0.3713495149254075, 0.3962152462642251, 0.6152498790897858, 0.3829503330451563, 0.6975310938312983], maxlen=20)\n",
      "eval_mean: 0.5547182900449669\n"
     ]
    },
    {
     "name": "stderr",
     "output_type": "stream",
     "text": [
      "\r",
      " 50%|████████████████████████████████████▏                                    | 49634/100000 [56:43<1:12:43, 11.54it/s]"
     ]
    },
    {
     "name": "stdout",
     "output_type": "stream",
     "text": [
      "self.evaluation_deque: deque([0.46863271560466724, 0.6393918400673654, 0.4816925249581295, 0.39443079367535516, 0.6311506755917733, 0.6396946944932723, 0.7793241739772074, 0.557326614456273, 0.7256829101194671, 0.4462608396155237, 0.7434664203871246, 0.42669844922263994, 0.3205418453319123, 0.7412594084332161, 0.6355158278095369, 0.3713495149254075, 0.3962152462642251, 0.6152498790897858, 0.3829503330451563, 0.6975310938312983], maxlen=20)\n",
      "eval_mean: 0.5547182900449669\n"
     ]
    },
    {
     "name": "stderr",
     "output_type": "stream",
     "text": [
      "\r",
      " 50%|████████████████████████████████████▎                                    | 49710/100000 [56:50<1:13:55, 11.34it/s]"
     ]
    },
    {
     "name": "stdout",
     "output_type": "stream",
     "text": [
      "self.evaluation_deque: deque([0.46863271560466724, 0.6393918400673654, 0.4816925249581295, 0.39443079367535516, 0.6311506755917733, 0.6396946944932723, 0.7793241739772074, 0.557326614456273, 0.7256829101194671, 0.4462608396155237, 0.7434664203871246, 0.42669844922263994, 0.3205418453319123, 0.7412594084332161, 0.6355158278095369, 0.3713495149254075, 0.3962152462642251, 0.6152498790897858, 0.3829503330451563, 0.6975310938312983], maxlen=20)\n",
      "eval_mean: 0.5547182900449669\n"
     ]
    },
    {
     "name": "stderr",
     "output_type": "stream",
     "text": [
      "\r",
      " 50%|████████████████████████████████████▎                                    | 49786/100000 [56:58<1:15:49, 11.04it/s]"
     ]
    },
    {
     "name": "stdout",
     "output_type": "stream",
     "text": [
      "self.get_collection_ratio(): 0.45411025523667153\n",
      "self.comms.count(True) : 1\n",
      "len(self.comms) : 1\n",
      "self.state.ratio_commed: 1.0\n",
      "self.comms.count(True) : 1\n",
      "len(self.comms) : 1\n",
      "self.evaluation_deque: deque([0.6393918400673654, 0.4816925249581295, 0.39443079367535516, 0.6311506755917733, 0.6396946944932723, 0.7793241739772074, 0.557326614456273, 0.7256829101194671, 0.4462608396155237, 0.7434664203871246, 0.42669844922263994, 0.3205418453319123, 0.7412594084332161, 0.6355158278095369, 0.3713495149254075, 0.3962152462642251, 0.6152498790897858, 0.3829503330451563, 0.6975310938312983, 0.45411025523667153], maxlen=20)\n",
      "eval_mean: 0.5539921670265671\n"
     ]
    },
    {
     "name": "stderr",
     "output_type": "stream",
     "text": [
      "\r",
      " 50%|████████████████████████████████████▍                                    | 49862/100000 [57:03<1:11:58, 11.61it/s]"
     ]
    },
    {
     "name": "stdout",
     "output_type": "stream",
     "text": [
      "self.evaluation_deque: deque([0.6393918400673654, 0.4816925249581295, 0.39443079367535516, 0.6311506755917733, 0.6396946944932723, 0.7793241739772074, 0.557326614456273, 0.7256829101194671, 0.4462608396155237, 0.7434664203871246, 0.42669844922263994, 0.3205418453319123, 0.7412594084332161, 0.6355158278095369, 0.3713495149254075, 0.3962152462642251, 0.6152498790897858, 0.3829503330451563, 0.6975310938312983, 0.45411025523667153], maxlen=20)\n",
      "eval_mean: 0.5539921670265671\n"
     ]
    },
    {
     "name": "stderr",
     "output_type": "stream",
     "text": [
      "\r",
      " 50%|████████████████████████████████████▍                                    | 49938/100000 [57:11<1:16:53, 10.85it/s]"
     ]
    },
    {
     "name": "stdout",
     "output_type": "stream",
     "text": [
      "self.evaluation_deque: deque([0.6393918400673654, 0.4816925249581295, 0.39443079367535516, 0.6311506755917733, 0.6396946944932723, 0.7793241739772074, 0.557326614456273, 0.7256829101194671, 0.4462608396155237, 0.7434664203871246, 0.42669844922263994, 0.3205418453319123, 0.7412594084332161, 0.6355158278095369, 0.3713495149254075, 0.3962152462642251, 0.6152498790897858, 0.3829503330451563, 0.6975310938312983, 0.45411025523667153], maxlen=20)\n",
      "eval_mean: 0.5539921670265671\n"
     ]
    },
    {
     "name": "stderr",
     "output_type": "stream",
     "text": [
      "\r",
      " 50%|████████████████████████████████████▌                                    | 50014/100000 [57:17<1:12:40, 11.46it/s]"
     ]
    },
    {
     "name": "stdout",
     "output_type": "stream",
     "text": [
      "self.evaluation_deque: deque([0.6393918400673654, 0.4816925249581295, 0.39443079367535516, 0.6311506755917733, 0.6396946944932723, 0.7793241739772074, 0.557326614456273, 0.7256829101194671, 0.4462608396155237, 0.7434664203871246, 0.42669844922263994, 0.3205418453319123, 0.7412594084332161, 0.6355158278095369, 0.3713495149254075, 0.3962152462642251, 0.6152498790897858, 0.3829503330451563, 0.6975310938312983, 0.45411025523667153], maxlen=20)\n",
      "eval_mean: 0.5539921670265671\n"
     ]
    },
    {
     "name": "stderr",
     "output_type": "stream",
     "text": [
      "\r",
      " 50%|████████████████████████████████████▌                                    | 50090/100000 [57:24<1:13:35, 11.30it/s]"
     ]
    },
    {
     "name": "stdout",
     "output_type": "stream",
     "text": [
      "self.evaluation_deque: deque([0.6393918400673654, 0.4816925249581295, 0.39443079367535516, 0.6311506755917733, 0.6396946944932723, 0.7793241739772074, 0.557326614456273, 0.7256829101194671, 0.4462608396155237, 0.7434664203871246, 0.42669844922263994, 0.3205418453319123, 0.7412594084332161, 0.6355158278095369, 0.3713495149254075, 0.3962152462642251, 0.6152498790897858, 0.3829503330451563, 0.6975310938312983, 0.45411025523667153], maxlen=20)\n",
      "eval_mean: 0.5539921670265671\n"
     ]
    },
    {
     "name": "stderr",
     "output_type": "stream",
     "text": [
      "\r",
      " 50%|████████████████████████████████████▌                                    | 50166/100000 [57:35<1:28:24,  9.39it/s]"
     ]
    },
    {
     "name": "stdout",
     "output_type": "stream",
     "text": [
      "self.get_collection_ratio(): 0.7046235767510869\n",
      "self.comms.count(True) : 3\n",
      "len(self.comms) : 3\n",
      "self.state.ratio_commed: 1.0\n",
      "self.comms.count(True) : 3\n",
      "len(self.comms) : 3\n",
      "self.evaluation_deque: deque([0.4816925249581295, 0.39443079367535516, 0.6311506755917733, 0.6396946944932723, 0.7793241739772074, 0.557326614456273, 0.7256829101194671, 0.4462608396155237, 0.7434664203871246, 0.42669844922263994, 0.3205418453319123, 0.7412594084332161, 0.6355158278095369, 0.3713495149254075, 0.3962152462642251, 0.6152498790897858, 0.3829503330451563, 0.6975310938312983, 0.45411025523667153, 0.7046235767510869], maxlen=20)\n",
      "eval_mean: 0.557253753860753\n"
     ]
    },
    {
     "name": "stderr",
     "output_type": "stream",
     "text": [
      "\r",
      " 50%|████████████████████████████████████▋                                    | 50242/100000 [57:42<1:24:30,  9.81it/s]"
     ]
    },
    {
     "name": "stdout",
     "output_type": "stream",
     "text": [
      "self.evaluation_deque: deque([0.4816925249581295, 0.39443079367535516, 0.6311506755917733, 0.6396946944932723, 0.7793241739772074, 0.557326614456273, 0.7256829101194671, 0.4462608396155237, 0.7434664203871246, 0.42669844922263994, 0.3205418453319123, 0.7412594084332161, 0.6355158278095369, 0.3713495149254075, 0.3962152462642251, 0.6152498790897858, 0.3829503330451563, 0.6975310938312983, 0.45411025523667153, 0.7046235767510869], maxlen=20)\n",
      "eval_mean: 0.557253753860753\n"
     ]
    },
    {
     "name": "stderr",
     "output_type": "stream",
     "text": [
      "\r",
      " 50%|████████████████████████████████████▋                                    | 50318/100000 [57:48<1:17:56, 10.62it/s]"
     ]
    },
    {
     "name": "stdout",
     "output_type": "stream",
     "text": [
      "self.evaluation_deque: deque([0.4816925249581295, 0.39443079367535516, 0.6311506755917733, 0.6396946944932723, 0.7793241739772074, 0.557326614456273, 0.7256829101194671, 0.4462608396155237, 0.7434664203871246, 0.42669844922263994, 0.3205418453319123, 0.7412594084332161, 0.6355158278095369, 0.3713495149254075, 0.3962152462642251, 0.6152498790897858, 0.3829503330451563, 0.6975310938312983, 0.45411025523667153, 0.7046235767510869], maxlen=20)\n",
      "eval_mean: 0.557253753860753\n"
     ]
    },
    {
     "name": "stderr",
     "output_type": "stream",
     "text": [
      "\r",
      " 50%|████████████████████████████████████▊                                    | 50394/100000 [57:56<1:20:49, 10.23it/s]"
     ]
    },
    {
     "name": "stdout",
     "output_type": "stream",
     "text": [
      "self.evaluation_deque: deque([0.4816925249581295, 0.39443079367535516, 0.6311506755917733, 0.6396946944932723, 0.7793241739772074, 0.557326614456273, 0.7256829101194671, 0.4462608396155237, 0.7434664203871246, 0.42669844922263994, 0.3205418453319123, 0.7412594084332161, 0.6355158278095369, 0.3713495149254075, 0.3962152462642251, 0.6152498790897858, 0.3829503330451563, 0.6975310938312983, 0.45411025523667153, 0.7046235767510869], maxlen=20)\n",
      "eval_mean: 0.557253753860753\n"
     ]
    },
    {
     "name": "stderr",
     "output_type": "stream",
     "text": [
      "\r",
      " 50%|████████████████████████████████████▊                                    | 50470/100000 [58:03<1:19:16, 10.41it/s]"
     ]
    },
    {
     "name": "stdout",
     "output_type": "stream",
     "text": [
      "self.evaluation_deque: deque([0.4816925249581295, 0.39443079367535516, 0.6311506755917733, 0.6396946944932723, 0.7793241739772074, 0.557326614456273, 0.7256829101194671, 0.4462608396155237, 0.7434664203871246, 0.42669844922263994, 0.3205418453319123, 0.7412594084332161, 0.6355158278095369, 0.3713495149254075, 0.3962152462642251, 0.6152498790897858, 0.3829503330451563, 0.6975310938312983, 0.45411025523667153, 0.7046235767510869], maxlen=20)\n",
      "eval_mean: 0.557253753860753\n"
     ]
    },
    {
     "name": "stderr",
     "output_type": "stream",
     "text": [
      "\r",
      " 51%|████████████████████████████████████▉                                    | 50546/100000 [58:14<1:30:55,  9.06it/s]"
     ]
    },
    {
     "name": "stdout",
     "output_type": "stream",
     "text": [
      "self.get_collection_ratio(): 0.7195728008343854\n",
      "self.comms.count(True) : 2\n",
      "len(self.comms) : 3\n",
      "self.state.ratio_commed: 0.6666666666666666\n",
      "self.comms.count(True) : 2\n",
      "len(self.comms) : 3\n",
      "self.evaluation_deque: deque([0.39443079367535516, 0.6311506755917733, 0.6396946944932723, 0.7793241739772074, 0.557326614456273, 0.7256829101194671, 0.4462608396155237, 0.7434664203871246, 0.42669844922263994, 0.3205418453319123, 0.7412594084332161, 0.6355158278095369, 0.3713495149254075, 0.3962152462642251, 0.6152498790897858, 0.3829503330451563, 0.6975310938312983, 0.45411025523667153, 0.7046235767510869, 0.4797152005562569], maxlen=20)\n",
      "eval_mean: 0.5571548876406595\n"
     ]
    },
    {
     "name": "stderr",
     "output_type": "stream",
     "text": [
      "\r",
      " 51%|████████████████████████████████████▉                                    | 50622/100000 [58:20<1:22:52,  9.93it/s]"
     ]
    },
    {
     "name": "stdout",
     "output_type": "stream",
     "text": [
      "self.evaluation_deque: deque([0.39443079367535516, 0.6311506755917733, 0.6396946944932723, 0.7793241739772074, 0.557326614456273, 0.7256829101194671, 0.4462608396155237, 0.7434664203871246, 0.42669844922263994, 0.3205418453319123, 0.7412594084332161, 0.6355158278095369, 0.3713495149254075, 0.3962152462642251, 0.6152498790897858, 0.3829503330451563, 0.6975310938312983, 0.45411025523667153, 0.7046235767510869, 0.4797152005562569], maxlen=20)\n",
      "eval_mean: 0.5571548876406595\n"
     ]
    },
    {
     "name": "stderr",
     "output_type": "stream",
     "text": [
      "\r",
      " 51%|█████████████████████████████████████                                    | 50698/100000 [58:26<1:16:29, 10.74it/s]"
     ]
    },
    {
     "name": "stdout",
     "output_type": "stream",
     "text": [
      "self.evaluation_deque: deque([0.39443079367535516, 0.6311506755917733, 0.6396946944932723, 0.7793241739772074, 0.557326614456273, 0.7256829101194671, 0.4462608396155237, 0.7434664203871246, 0.42669844922263994, 0.3205418453319123, 0.7412594084332161, 0.6355158278095369, 0.3713495149254075, 0.3962152462642251, 0.6152498790897858, 0.3829503330451563, 0.6975310938312983, 0.45411025523667153, 0.7046235767510869, 0.4797152005562569], maxlen=20)\n",
      "eval_mean: 0.5571548876406595\n"
     ]
    },
    {
     "name": "stderr",
     "output_type": "stream",
     "text": [
      "\r",
      " 51%|█████████████████████████████████████                                    | 50774/100000 [58:34<1:19:41, 10.29it/s]"
     ]
    },
    {
     "name": "stdout",
     "output_type": "stream",
     "text": [
      "self.evaluation_deque: deque([0.39443079367535516, 0.6311506755917733, 0.6396946944932723, 0.7793241739772074, 0.557326614456273, 0.7256829101194671, 0.4462608396155237, 0.7434664203871246, 0.42669844922263994, 0.3205418453319123, 0.7412594084332161, 0.6355158278095369, 0.3713495149254075, 0.3962152462642251, 0.6152498790897858, 0.3829503330451563, 0.6975310938312983, 0.45411025523667153, 0.7046235767510869, 0.4797152005562569], maxlen=20)\n",
      "eval_mean: 0.5571548876406595\n"
     ]
    },
    {
     "name": "stderr",
     "output_type": "stream",
     "text": [
      "\r",
      " 51%|█████████████████████████████████████                                    | 50850/100000 [58:40<1:14:19, 11.02it/s]"
     ]
    },
    {
     "name": "stdout",
     "output_type": "stream",
     "text": [
      "self.evaluation_deque: deque([0.39443079367535516, 0.6311506755917733, 0.6396946944932723, 0.7793241739772074, 0.557326614456273, 0.7256829101194671, 0.4462608396155237, 0.7434664203871246, 0.42669844922263994, 0.3205418453319123, 0.7412594084332161, 0.6355158278095369, 0.3713495149254075, 0.3962152462642251, 0.6152498790897858, 0.3829503330451563, 0.6975310938312983, 0.45411025523667153, 0.7046235767510869, 0.4797152005562569], maxlen=20)\n",
      "eval_mean: 0.5571548876406595\n"
     ]
    },
    {
     "name": "stderr",
     "output_type": "stream",
     "text": [
      "\r",
      " 51%|█████████████████████████████████████▏                                   | 50926/100000 [58:48<1:18:10, 10.46it/s]"
     ]
    },
    {
     "name": "stdout",
     "output_type": "stream",
     "text": [
      "self.get_collection_ratio(): 0.5916620742398655\n",
      "self.comms.count(True) : 2\n",
      "len(self.comms) : 2\n",
      "self.state.ratio_commed: 1.0\n",
      "self.comms.count(True) : 2\n",
      "len(self.comms) : 2\n",
      "self.evaluation_deque: deque([0.6311506755917733, 0.6396946944932723, 0.7793241739772074, 0.557326614456273, 0.7256829101194671, 0.4462608396155237, 0.7434664203871246, 0.42669844922263994, 0.3205418453319123, 0.7412594084332161, 0.6355158278095369, 0.3713495149254075, 0.3962152462642251, 0.6152498790897858, 0.3829503330451563, 0.6975310938312983, 0.45411025523667153, 0.7046235767510869, 0.4797152005562569, 0.5916620742398655], maxlen=20)\n",
      "eval_mean: 0.5670164516688849\n"
     ]
    },
    {
     "name": "stderr",
     "output_type": "stream",
     "text": [
      "\r",
      " 51%|█████████████████████████████████████▏                                   | 51002/100000 [58:56<1:20:33, 10.14it/s]"
     ]
    },
    {
     "name": "stdout",
     "output_type": "stream",
     "text": [
      "self.evaluation_deque: deque([0.6311506755917733, 0.6396946944932723, 0.7793241739772074, 0.557326614456273, 0.7256829101194671, 0.4462608396155237, 0.7434664203871246, 0.42669844922263994, 0.3205418453319123, 0.7412594084332161, 0.6355158278095369, 0.3713495149254075, 0.3962152462642251, 0.6152498790897858, 0.3829503330451563, 0.6975310938312983, 0.45411025523667153, 0.7046235767510869, 0.4797152005562569, 0.5916620742398655], maxlen=20)\n",
      "eval_mean: 0.5670164516688849\n"
     ]
    },
    {
     "name": "stderr",
     "output_type": "stream",
     "text": [
      "\r",
      " 51%|█████████████████████████████████████▎                                   | 51078/100000 [59:04<1:22:36,  9.87it/s]"
     ]
    },
    {
     "name": "stdout",
     "output_type": "stream",
     "text": [
      "self.evaluation_deque: deque([0.6311506755917733, 0.6396946944932723, 0.7793241739772074, 0.557326614456273, 0.7256829101194671, 0.4462608396155237, 0.7434664203871246, 0.42669844922263994, 0.3205418453319123, 0.7412594084332161, 0.6355158278095369, 0.3713495149254075, 0.3962152462642251, 0.6152498790897858, 0.3829503330451563, 0.6975310938312983, 0.45411025523667153, 0.7046235767510869, 0.4797152005562569, 0.5916620742398655], maxlen=20)\n",
      "eval_mean: 0.5670164516688849\n"
     ]
    },
    {
     "name": "stderr",
     "output_type": "stream",
     "text": [
      "\r",
      " 51%|█████████████████████████████████████▎                                   | 51154/100000 [59:11<1:19:58, 10.18it/s]"
     ]
    },
    {
     "name": "stdout",
     "output_type": "stream",
     "text": [
      "self.evaluation_deque: deque([0.6311506755917733, 0.6396946944932723, 0.7793241739772074, 0.557326614456273, 0.7256829101194671, 0.4462608396155237, 0.7434664203871246, 0.42669844922263994, 0.3205418453319123, 0.7412594084332161, 0.6355158278095369, 0.3713495149254075, 0.3962152462642251, 0.6152498790897858, 0.3829503330451563, 0.6975310938312983, 0.45411025523667153, 0.7046235767510869, 0.4797152005562569, 0.5916620742398655], maxlen=20)\n",
      "eval_mean: 0.5670164516688849\n"
     ]
    },
    {
     "name": "stderr",
     "output_type": "stream",
     "text": [
      "\r",
      " 51%|█████████████████████████████████████▍                                   | 51230/100000 [59:19<1:21:49,  9.93it/s]"
     ]
    },
    {
     "name": "stdout",
     "output_type": "stream",
     "text": [
      "self.evaluation_deque: deque([0.6311506755917733, 0.6396946944932723, 0.7793241739772074, 0.557326614456273, 0.7256829101194671, 0.4462608396155237, 0.7434664203871246, 0.42669844922263994, 0.3205418453319123, 0.7412594084332161, 0.6355158278095369, 0.3713495149254075, 0.3962152462642251, 0.6152498790897858, 0.3829503330451563, 0.6975310938312983, 0.45411025523667153, 0.7046235767510869, 0.4797152005562569, 0.5916620742398655], maxlen=20)\n",
      "eval_mean: 0.5670164516688849\n"
     ]
    },
    {
     "name": "stderr",
     "output_type": "stream",
     "text": [
      "\r",
      " 51%|█████████████████████████████████████▍                                   | 51306/100000 [59:28<1:25:43,  9.47it/s]"
     ]
    },
    {
     "name": "stdout",
     "output_type": "stream",
     "text": [
      "self.get_collection_ratio(): 0.5414312513320979\n",
      "self.comms.count(True) : 3\n",
      "len(self.comms) : 3\n",
      "self.state.ratio_commed: 1.0\n",
      "self.comms.count(True) : 3\n",
      "len(self.comms) : 3\n",
      "self.evaluation_deque: deque([0.6396946944932723, 0.7793241739772074, 0.557326614456273, 0.7256829101194671, 0.4462608396155237, 0.7434664203871246, 0.42669844922263994, 0.3205418453319123, 0.7412594084332161, 0.6355158278095369, 0.3713495149254075, 0.3962152462642251, 0.6152498790897858, 0.3829503330451563, 0.6975310938312983, 0.45411025523667153, 0.7046235767510869, 0.4797152005562569, 0.5916620742398655, 0.5414312513320979], maxlen=20)\n",
      "eval_mean: 0.5625304804559013\n"
     ]
    },
    {
     "name": "stderr",
     "output_type": "stream",
     "text": [
      "\r",
      " 51%|█████████████████████████████████████▌                                   | 51382/100000 [59:34<1:18:25, 10.33it/s]"
     ]
    },
    {
     "name": "stdout",
     "output_type": "stream",
     "text": [
      "self.evaluation_deque: deque([0.6396946944932723, 0.7793241739772074, 0.557326614456273, 0.7256829101194671, 0.4462608396155237, 0.7434664203871246, 0.42669844922263994, 0.3205418453319123, 0.7412594084332161, 0.6355158278095369, 0.3713495149254075, 0.3962152462642251, 0.6152498790897858, 0.3829503330451563, 0.6975310938312983, 0.45411025523667153, 0.7046235767510869, 0.4797152005562569, 0.5916620742398655, 0.5414312513320979], maxlen=20)\n",
      "eval_mean: 0.5625304804559013\n"
     ]
    },
    {
     "name": "stderr",
     "output_type": "stream",
     "text": [
      "\r",
      " 51%|█████████████████████████████████████▌                                   | 51458/100000 [59:41<1:16:57, 10.51it/s]"
     ]
    },
    {
     "name": "stdout",
     "output_type": "stream",
     "text": [
      "self.evaluation_deque: deque([0.6396946944932723, 0.7793241739772074, 0.557326614456273, 0.7256829101194671, 0.4462608396155237, 0.7434664203871246, 0.42669844922263994, 0.3205418453319123, 0.7412594084332161, 0.6355158278095369, 0.3713495149254075, 0.3962152462642251, 0.6152498790897858, 0.3829503330451563, 0.6975310938312983, 0.45411025523667153, 0.7046235767510869, 0.4797152005562569, 0.5916620742398655, 0.5414312513320979], maxlen=20)\n",
      "eval_mean: 0.5625304804559013\n"
     ]
    },
    {
     "name": "stderr",
     "output_type": "stream",
     "text": [
      " 52%|█████████████████████████████████████▌                                   | 51534/100000 [59:52<1:31:15,  8.85it/s]"
     ]
    },
    {
     "name": "stdout",
     "output_type": "stream",
     "text": [
      "self.evaluation_deque: deque([0.6396946944932723, 0.7793241739772074, 0.557326614456273, 0.7256829101194671, 0.4462608396155237, 0.7434664203871246, 0.42669844922263994, 0.3205418453319123, 0.7412594084332161, 0.6355158278095369, 0.3713495149254075, 0.3962152462642251, 0.6152498790897858, 0.3829503330451563, 0.6975310938312983, 0.45411025523667153, 0.7046235767510869, 0.4797152005562569, 0.5916620742398655, 0.5414312513320979], maxlen=20)\n",
      "eval_mean: 0.5625304804559013\n"
     ]
    },
    {
     "name": "stderr",
     "output_type": "stream",
     "text": [
      "\r",
      " 52%|█████████████████████████████████████▋                                   | 51610/100000 [59:59<1:26:15,  9.35it/s]"
     ]
    },
    {
     "name": "stdout",
     "output_type": "stream",
     "text": [
      "self.evaluation_deque: deque([0.6396946944932723, 0.7793241739772074, 0.557326614456273, 0.7256829101194671, 0.4462608396155237, 0.7434664203871246, 0.42669844922263994, 0.3205418453319123, 0.7412594084332161, 0.6355158278095369, 0.3713495149254075, 0.3962152462642251, 0.6152498790897858, 0.3829503330451563, 0.6975310938312983, 0.45411025523667153, 0.7046235767510869, 0.4797152005562569, 0.5916620742398655, 0.5414312513320979], maxlen=20)\n",
      "eval_mean: 0.5625304804559013\n"
     ]
    },
    {
     "name": "stderr",
     "output_type": "stream",
     "text": [
      "\r",
      " 52%|████████████████████████████████████▋                                  | 51686/100000 [1:00:09<1:32:18,  8.72it/s]"
     ]
    },
    {
     "name": "stdout",
     "output_type": "stream",
     "text": [
      "self.get_collection_ratio(): 0.6914827421973758\n",
      "self.comms.count(True) : 3\n",
      "len(self.comms) : 3\n",
      "self.state.ratio_commed: 1.0\n",
      "self.comms.count(True) : 3\n",
      "len(self.comms) : 3\n",
      "self.evaluation_deque: deque([0.7793241739772074, 0.557326614456273, 0.7256829101194671, 0.4462608396155237, 0.7434664203871246, 0.42669844922263994, 0.3205418453319123, 0.7412594084332161, 0.6355158278095369, 0.3713495149254075, 0.3962152462642251, 0.6152498790897858, 0.3829503330451563, 0.6975310938312983, 0.45411025523667153, 0.7046235767510869, 0.4797152005562569, 0.5916620742398655, 0.5414312513320979, 0.6914827421973758], maxlen=20)\n",
      "eval_mean: 0.5651198828411064\n"
     ]
    },
    {
     "name": "stderr",
     "output_type": "stream",
     "text": [
      "\r",
      " 52%|████████████████████████████████████▊                                  | 51762/100000 [1:00:15<1:22:56,  9.69it/s]"
     ]
    },
    {
     "name": "stdout",
     "output_type": "stream",
     "text": [
      "self.evaluation_deque: deque([0.7793241739772074, 0.557326614456273, 0.7256829101194671, 0.4462608396155237, 0.7434664203871246, 0.42669844922263994, 0.3205418453319123, 0.7412594084332161, 0.6355158278095369, 0.3713495149254075, 0.3962152462642251, 0.6152498790897858, 0.3829503330451563, 0.6975310938312983, 0.45411025523667153, 0.7046235767510869, 0.4797152005562569, 0.5916620742398655, 0.5414312513320979, 0.6914827421973758], maxlen=20)\n",
      "eval_mean: 0.5651198828411064\n"
     ]
    },
    {
     "name": "stderr",
     "output_type": "stream",
     "text": [
      "\r",
      " 52%|████████████████████████████████████▊                                  | 51838/100000 [1:00:23<1:23:47,  9.58it/s]"
     ]
    },
    {
     "name": "stdout",
     "output_type": "stream",
     "text": [
      "self.evaluation_deque: deque([0.7793241739772074, 0.557326614456273, 0.7256829101194671, 0.4462608396155237, 0.7434664203871246, 0.42669844922263994, 0.3205418453319123, 0.7412594084332161, 0.6355158278095369, 0.3713495149254075, 0.3962152462642251, 0.6152498790897858, 0.3829503330451563, 0.6975310938312983, 0.45411025523667153, 0.7046235767510869, 0.4797152005562569, 0.5916620742398655, 0.5414312513320979, 0.6914827421973758], maxlen=20)\n",
      "eval_mean: 0.5651198828411064\n"
     ]
    },
    {
     "name": "stderr",
     "output_type": "stream",
     "text": [
      "\r",
      " 52%|████████████████████████████████████▊                                  | 51914/100000 [1:00:31<1:24:11,  9.52it/s]"
     ]
    },
    {
     "name": "stdout",
     "output_type": "stream",
     "text": [
      "self.evaluation_deque: deque([0.7793241739772074, 0.557326614456273, 0.7256829101194671, 0.4462608396155237, 0.7434664203871246, 0.42669844922263994, 0.3205418453319123, 0.7412594084332161, 0.6355158278095369, 0.3713495149254075, 0.3962152462642251, 0.6152498790897858, 0.3829503330451563, 0.6975310938312983, 0.45411025523667153, 0.7046235767510869, 0.4797152005562569, 0.5916620742398655, 0.5414312513320979, 0.6914827421973758], maxlen=20)\n",
      "eval_mean: 0.5651198828411064\n"
     ]
    },
    {
     "name": "stderr",
     "output_type": "stream",
     "text": [
      "\r",
      " 52%|████████████████████████████████████▉                                  | 51990/100000 [1:00:38<1:20:48,  9.90it/s]"
     ]
    },
    {
     "name": "stdout",
     "output_type": "stream",
     "text": [
      "self.evaluation_deque: deque([0.7793241739772074, 0.557326614456273, 0.7256829101194671, 0.4462608396155237, 0.7434664203871246, 0.42669844922263994, 0.3205418453319123, 0.7412594084332161, 0.6355158278095369, 0.3713495149254075, 0.3962152462642251, 0.6152498790897858, 0.3829503330451563, 0.6975310938312983, 0.45411025523667153, 0.7046235767510869, 0.4797152005562569, 0.5916620742398655, 0.5414312513320979, 0.6914827421973758], maxlen=20)\n",
      "eval_mean: 0.5651198828411064\n"
     ]
    },
    {
     "name": "stderr",
     "output_type": "stream",
     "text": [
      "\r",
      " 52%|████████████████████████████████████▉                                  | 52066/100000 [1:00:47<1:22:13,  9.72it/s]"
     ]
    },
    {
     "name": "stdout",
     "output_type": "stream",
     "text": [
      "self.get_collection_ratio(): 0.6619529433440599\n",
      "self.comms.count(True) : 2\n",
      "len(self.comms) : 2\n",
      "self.state.ratio_commed: 1.0\n",
      "self.comms.count(True) : 2\n",
      "len(self.comms) : 2\n",
      "self.evaluation_deque: deque([0.557326614456273, 0.7256829101194671, 0.4462608396155237, 0.7434664203871246, 0.42669844922263994, 0.3205418453319123, 0.7412594084332161, 0.6355158278095369, 0.3713495149254075, 0.3962152462642251, 0.6152498790897858, 0.3829503330451563, 0.6975310938312983, 0.45411025523667153, 0.7046235767510869, 0.4797152005562569, 0.5916620742398655, 0.5414312513320979, 0.6914827421973758, 0.6619529433440599], maxlen=20)\n",
      "eval_mean: 0.5592513213094491\n"
     ]
    },
    {
     "name": "stderr",
     "output_type": "stream",
     "text": [
      "\r",
      " 52%|█████████████████████████████████████                                  | 52142/100000 [1:00:53<1:19:10, 10.08it/s]"
     ]
    },
    {
     "name": "stdout",
     "output_type": "stream",
     "text": [
      "self.evaluation_deque: deque([0.557326614456273, 0.7256829101194671, 0.4462608396155237, 0.7434664203871246, 0.42669844922263994, 0.3205418453319123, 0.7412594084332161, 0.6355158278095369, 0.3713495149254075, 0.3962152462642251, 0.6152498790897858, 0.3829503330451563, 0.6975310938312983, 0.45411025523667153, 0.7046235767510869, 0.4797152005562569, 0.5916620742398655, 0.5414312513320979, 0.6914827421973758, 0.6619529433440599], maxlen=20)\n",
      "eval_mean: 0.5592513213094491\n"
     ]
    },
    {
     "name": "stderr",
     "output_type": "stream",
     "text": [
      "\r",
      " 52%|█████████████████████████████████████                                  | 52218/100000 [1:01:00<1:17:17, 10.30it/s]"
     ]
    },
    {
     "name": "stdout",
     "output_type": "stream",
     "text": [
      "self.evaluation_deque: deque([0.557326614456273, 0.7256829101194671, 0.4462608396155237, 0.7434664203871246, 0.42669844922263994, 0.3205418453319123, 0.7412594084332161, 0.6355158278095369, 0.3713495149254075, 0.3962152462642251, 0.6152498790897858, 0.3829503330451563, 0.6975310938312983, 0.45411025523667153, 0.7046235767510869, 0.4797152005562569, 0.5916620742398655, 0.5414312513320979, 0.6914827421973758, 0.6619529433440599], maxlen=20)\n",
      "eval_mean: 0.5592513213094491\n"
     ]
    },
    {
     "name": "stderr",
     "output_type": "stream",
     "text": [
      "\r",
      " 52%|█████████████████████████████████████▏                                 | 52294/100000 [1:01:09<1:19:31, 10.00it/s]"
     ]
    },
    {
     "name": "stdout",
     "output_type": "stream",
     "text": [
      "self.evaluation_deque: deque([0.557326614456273, 0.7256829101194671, 0.4462608396155237, 0.7434664203871246, 0.42669844922263994, 0.3205418453319123, 0.7412594084332161, 0.6355158278095369, 0.3713495149254075, 0.3962152462642251, 0.6152498790897858, 0.3829503330451563, 0.6975310938312983, 0.45411025523667153, 0.7046235767510869, 0.4797152005562569, 0.5916620742398655, 0.5414312513320979, 0.6914827421973758, 0.6619529433440599], maxlen=20)\n",
      "eval_mean: 0.5592513213094491\n"
     ]
    },
    {
     "name": "stderr",
     "output_type": "stream",
     "text": [
      "\r",
      " 52%|█████████████████████████████████████▏                                 | 52370/100000 [1:01:14<1:13:38, 10.78it/s]"
     ]
    },
    {
     "name": "stdout",
     "output_type": "stream",
     "text": [
      "self.evaluation_deque: deque([0.557326614456273, 0.7256829101194671, 0.4462608396155237, 0.7434664203871246, 0.42669844922263994, 0.3205418453319123, 0.7412594084332161, 0.6355158278095369, 0.3713495149254075, 0.3962152462642251, 0.6152498790897858, 0.3829503330451563, 0.6975310938312983, 0.45411025523667153, 0.7046235767510869, 0.4797152005562569, 0.5916620742398655, 0.5414312513320979, 0.6914827421973758, 0.6619529433440599], maxlen=20)\n",
      "eval_mean: 0.5592513213094491\n"
     ]
    },
    {
     "name": "stderr",
     "output_type": "stream",
     "text": [
      "\r",
      " 52%|█████████████████████████████████████▏                                 | 52446/100000 [1:01:24<1:20:35,  9.84it/s]"
     ]
    },
    {
     "name": "stdout",
     "output_type": "stream",
     "text": [
      "self.get_collection_ratio(): 0.6344430477043075\n",
      "self.comms.count(True) : 2\n",
      "len(self.comms) : 2\n",
      "self.state.ratio_commed: 1.0\n",
      "self.comms.count(True) : 2\n",
      "len(self.comms) : 2\n",
      "self.evaluation_deque: deque([0.7256829101194671, 0.4462608396155237, 0.7434664203871246, 0.42669844922263994, 0.3205418453319123, 0.7412594084332161, 0.6355158278095369, 0.3713495149254075, 0.3962152462642251, 0.6152498790897858, 0.3829503330451563, 0.6975310938312983, 0.45411025523667153, 0.7046235767510869, 0.4797152005562569, 0.5916620742398655, 0.5414312513320979, 0.6914827421973758, 0.6619529433440599, 0.6344430477043075], maxlen=20)\n",
      "eval_mean: 0.5631071429718507\n"
     ]
    },
    {
     "name": "stderr",
     "output_type": "stream",
     "text": [
      "\r",
      " 53%|█████████████████████████████████████▎                                 | 52522/100000 [1:01:29<1:14:18, 10.65it/s]"
     ]
    },
    {
     "name": "stdout",
     "output_type": "stream",
     "text": [
      "self.evaluation_deque: deque([0.7256829101194671, 0.4462608396155237, 0.7434664203871246, 0.42669844922263994, 0.3205418453319123, 0.7412594084332161, 0.6355158278095369, 0.3713495149254075, 0.3962152462642251, 0.6152498790897858, 0.3829503330451563, 0.6975310938312983, 0.45411025523667153, 0.7046235767510869, 0.4797152005562569, 0.5916620742398655, 0.5414312513320979, 0.6914827421973758, 0.6619529433440599, 0.6344430477043075], maxlen=20)\n",
      "eval_mean: 0.5631071429718507\n"
     ]
    },
    {
     "name": "stderr",
     "output_type": "stream",
     "text": [
      "\r",
      " 53%|█████████████████████████████████████▎                                 | 52598/100000 [1:01:37<1:17:04, 10.25it/s]"
     ]
    },
    {
     "name": "stdout",
     "output_type": "stream",
     "text": [
      "self.evaluation_deque: deque([0.7256829101194671, 0.4462608396155237, 0.7434664203871246, 0.42669844922263994, 0.3205418453319123, 0.7412594084332161, 0.6355158278095369, 0.3713495149254075, 0.3962152462642251, 0.6152498790897858, 0.3829503330451563, 0.6975310938312983, 0.45411025523667153, 0.7046235767510869, 0.4797152005562569, 0.5916620742398655, 0.5414312513320979, 0.6914827421973758, 0.6619529433440599, 0.6344430477043075], maxlen=20)\n",
      "eval_mean: 0.5631071429718507\n"
     ]
    },
    {
     "name": "stderr",
     "output_type": "stream",
     "text": [
      "\r",
      " 53%|█████████████████████████████████████▍                                 | 52674/100000 [1:01:44<1:15:36, 10.43it/s]"
     ]
    },
    {
     "name": "stdout",
     "output_type": "stream",
     "text": [
      "self.evaluation_deque: deque([0.7256829101194671, 0.4462608396155237, 0.7434664203871246, 0.42669844922263994, 0.3205418453319123, 0.7412594084332161, 0.6355158278095369, 0.3713495149254075, 0.3962152462642251, 0.6152498790897858, 0.3829503330451563, 0.6975310938312983, 0.45411025523667153, 0.7046235767510869, 0.4797152005562569, 0.5916620742398655, 0.5414312513320979, 0.6914827421973758, 0.6619529433440599, 0.6344430477043075], maxlen=20)\n",
      "eval_mean: 0.5631071429718507\n"
     ]
    },
    {
     "name": "stderr",
     "output_type": "stream",
     "text": [
      "\r",
      " 53%|█████████████████████████████████████▍                                 | 52750/100000 [1:01:51<1:14:21, 10.59it/s]"
     ]
    },
    {
     "name": "stdout",
     "output_type": "stream",
     "text": [
      "self.evaluation_deque: deque([0.7256829101194671, 0.4462608396155237, 0.7434664203871246, 0.42669844922263994, 0.3205418453319123, 0.7412594084332161, 0.6355158278095369, 0.3713495149254075, 0.3962152462642251, 0.6152498790897858, 0.3829503330451563, 0.6975310938312983, 0.45411025523667153, 0.7046235767510869, 0.4797152005562569, 0.5916620742398655, 0.5414312513320979, 0.6914827421973758, 0.6619529433440599, 0.6344430477043075], maxlen=20)\n",
      "eval_mean: 0.5631071429718507\n"
     ]
    },
    {
     "name": "stderr",
     "output_type": "stream",
     "text": [
      "\r",
      " 53%|█████████████████████████████████████▌                                 | 52826/100000 [1:02:00<1:19:32,  9.88it/s]"
     ]
    },
    {
     "name": "stdout",
     "output_type": "stream",
     "text": [
      "self.get_collection_ratio(): 0.7130991224029485\n",
      "self.comms.count(True) : 3\n",
      "len(self.comms) : 3\n",
      "self.state.ratio_commed: 1.0\n",
      "self.comms.count(True) : 3\n",
      "len(self.comms) : 3\n",
      "self.evaluation_deque: deque([0.4462608396155237, 0.7434664203871246, 0.42669844922263994, 0.3205418453319123, 0.7412594084332161, 0.6355158278095369, 0.3713495149254075, 0.3962152462642251, 0.6152498790897858, 0.3829503330451563, 0.6975310938312983, 0.45411025523667153, 0.7046235767510869, 0.4797152005562569, 0.5916620742398655, 0.5414312513320979, 0.6914827421973758, 0.6619529433440599, 0.6344430477043075, 0.7130991224029485], maxlen=20)\n",
      "eval_mean: 0.5624779535860249\n"
     ]
    },
    {
     "name": "stderr",
     "output_type": "stream",
     "text": [
      "\r",
      " 53%|█████████████████████████████████████▌                                 | 52902/100000 [1:02:08<1:20:46,  9.72it/s]"
     ]
    },
    {
     "name": "stdout",
     "output_type": "stream",
     "text": [
      "self.evaluation_deque: deque([0.4462608396155237, 0.7434664203871246, 0.42669844922263994, 0.3205418453319123, 0.7412594084332161, 0.6355158278095369, 0.3713495149254075, 0.3962152462642251, 0.6152498790897858, 0.3829503330451563, 0.6975310938312983, 0.45411025523667153, 0.7046235767510869, 0.4797152005562569, 0.5916620742398655, 0.5414312513320979, 0.6914827421973758, 0.6619529433440599, 0.6344430477043075, 0.7130991224029485], maxlen=20)\n",
      "eval_mean: 0.5624779535860249\n"
     ]
    },
    {
     "name": "stderr",
     "output_type": "stream",
     "text": [
      "\r",
      " 53%|█████████████████████████████████████▌                                 | 52978/100000 [1:02:14<1:14:23, 10.53it/s]"
     ]
    },
    {
     "name": "stdout",
     "output_type": "stream",
     "text": [
      "self.evaluation_deque: deque([0.4462608396155237, 0.7434664203871246, 0.42669844922263994, 0.3205418453319123, 0.7412594084332161, 0.6355158278095369, 0.3713495149254075, 0.3962152462642251, 0.6152498790897858, 0.3829503330451563, 0.6975310938312983, 0.45411025523667153, 0.7046235767510869, 0.4797152005562569, 0.5916620742398655, 0.5414312513320979, 0.6914827421973758, 0.6619529433440599, 0.6344430477043075, 0.7130991224029485], maxlen=20)\n",
      "eval_mean: 0.5624779535860249\n"
     ]
    },
    {
     "name": "stderr",
     "output_type": "stream",
     "text": [
      "\r",
      " 53%|█████████████████████████████████████▋                                 | 53054/100000 [1:02:20<1:09:47, 11.21it/s]"
     ]
    },
    {
     "name": "stdout",
     "output_type": "stream",
     "text": [
      "self.evaluation_deque: deque([0.4462608396155237, 0.7434664203871246, 0.42669844922263994, 0.3205418453319123, 0.7412594084332161, 0.6355158278095369, 0.3713495149254075, 0.3962152462642251, 0.6152498790897858, 0.3829503330451563, 0.6975310938312983, 0.45411025523667153, 0.7046235767510869, 0.4797152005562569, 0.5916620742398655, 0.5414312513320979, 0.6914827421973758, 0.6619529433440599, 0.6344430477043075, 0.7130991224029485], maxlen=20)\n",
      "eval_mean: 0.5624779535860249\n"
     ]
    },
    {
     "name": "stderr",
     "output_type": "stream",
     "text": [
      "\r",
      " 53%|█████████████████████████████████████▋                                 | 53130/100000 [1:02:26<1:06:34, 11.73it/s]"
     ]
    },
    {
     "name": "stdout",
     "output_type": "stream",
     "text": [
      "self.evaluation_deque: deque([0.4462608396155237, 0.7434664203871246, 0.42669844922263994, 0.3205418453319123, 0.7412594084332161, 0.6355158278095369, 0.3713495149254075, 0.3962152462642251, 0.6152498790897858, 0.3829503330451563, 0.6975310938312983, 0.45411025523667153, 0.7046235767510869, 0.4797152005562569, 0.5916620742398655, 0.5414312513320979, 0.6914827421973758, 0.6619529433440599, 0.6344430477043075, 0.7130991224029485], maxlen=20)\n",
      "eval_mean: 0.5624779535860249\n"
     ]
    },
    {
     "name": "stderr",
     "output_type": "stream",
     "text": [
      "\r",
      " 53%|█████████████████████████████████████▊                                 | 53206/100000 [1:02:36<1:17:50, 10.02it/s]"
     ]
    },
    {
     "name": "stdout",
     "output_type": "stream",
     "text": [
      "self.get_collection_ratio(): 0.6998308569781495\n",
      "self.comms.count(True) : 3\n",
      "len(self.comms) : 3\n",
      "self.state.ratio_commed: 1.0\n",
      "self.comms.count(True) : 3\n",
      "len(self.comms) : 3\n",
      "self.evaluation_deque: deque([0.7434664203871246, 0.42669844922263994, 0.3205418453319123, 0.7412594084332161, 0.6355158278095369, 0.3713495149254075, 0.3962152462642251, 0.6152498790897858, 0.3829503330451563, 0.6975310938312983, 0.45411025523667153, 0.7046235767510869, 0.4797152005562569, 0.5916620742398655, 0.5414312513320979, 0.6914827421973758, 0.6619529433440599, 0.6344430477043075, 0.7130991224029485, 0.6998308569781495], maxlen=20)\n",
      "eval_mean: 0.5751564544541561\n"
     ]
    },
    {
     "name": "stderr",
     "output_type": "stream",
     "text": [
      "\r",
      " 53%|█████████████████████████████████████▊                                 | 53282/100000 [1:02:42<1:12:05, 10.80it/s]"
     ]
    },
    {
     "name": "stdout",
     "output_type": "stream",
     "text": [
      "self.evaluation_deque: deque([0.7434664203871246, 0.42669844922263994, 0.3205418453319123, 0.7412594084332161, 0.6355158278095369, 0.3713495149254075, 0.3962152462642251, 0.6152498790897858, 0.3829503330451563, 0.6975310938312983, 0.45411025523667153, 0.7046235767510869, 0.4797152005562569, 0.5916620742398655, 0.5414312513320979, 0.6914827421973758, 0.6619529433440599, 0.6344430477043075, 0.7130991224029485, 0.6998308569781495], maxlen=20)\n",
      "eval_mean: 0.5751564544541561\n"
     ]
    },
    {
     "name": "stderr",
     "output_type": "stream",
     "text": [
      "\r",
      " 53%|█████████████████████████████████████▉                                 | 53358/100000 [1:02:50<1:14:29, 10.44it/s]"
     ]
    },
    {
     "name": "stdout",
     "output_type": "stream",
     "text": [
      "self.evaluation_deque: deque([0.7434664203871246, 0.42669844922263994, 0.3205418453319123, 0.7412594084332161, 0.6355158278095369, 0.3713495149254075, 0.3962152462642251, 0.6152498790897858, 0.3829503330451563, 0.6975310938312983, 0.45411025523667153, 0.7046235767510869, 0.4797152005562569, 0.5916620742398655, 0.5414312513320979, 0.6914827421973758, 0.6619529433440599, 0.6344430477043075, 0.7130991224029485, 0.6998308569781495], maxlen=20)\n",
      "eval_mean: 0.5751564544541561\n"
     ]
    },
    {
     "name": "stderr",
     "output_type": "stream",
     "text": [
      "\r",
      " 53%|█████████████████████████████████████▉                                 | 53434/100000 [1:02:56<1:13:06, 10.62it/s]"
     ]
    },
    {
     "name": "stdout",
     "output_type": "stream",
     "text": [
      "self.evaluation_deque: deque([0.7434664203871246, 0.42669844922263994, 0.3205418453319123, 0.7412594084332161, 0.6355158278095369, 0.3713495149254075, 0.3962152462642251, 0.6152498790897858, 0.3829503330451563, 0.6975310938312983, 0.45411025523667153, 0.7046235767510869, 0.4797152005562569, 0.5916620742398655, 0.5414312513320979, 0.6914827421973758, 0.6619529433440599, 0.6344430477043075, 0.7130991224029485, 0.6998308569781495], maxlen=20)\n",
      "eval_mean: 0.5751564544541561\n"
     ]
    },
    {
     "name": "stderr",
     "output_type": "stream",
     "text": [
      "\r",
      " 54%|█████████████████████████████████████▉                                 | 53510/100000 [1:03:02<1:08:43, 11.27it/s]"
     ]
    },
    {
     "name": "stdout",
     "output_type": "stream",
     "text": [
      "self.evaluation_deque: deque([0.7434664203871246, 0.42669844922263994, 0.3205418453319123, 0.7412594084332161, 0.6355158278095369, 0.3713495149254075, 0.3962152462642251, 0.6152498790897858, 0.3829503330451563, 0.6975310938312983, 0.45411025523667153, 0.7046235767510869, 0.4797152005562569, 0.5916620742398655, 0.5414312513320979, 0.6914827421973758, 0.6619529433440599, 0.6344430477043075, 0.7130991224029485, 0.6998308569781495], maxlen=20)\n",
      "eval_mean: 0.5751564544541561\n"
     ]
    },
    {
     "name": "stderr",
     "output_type": "stream",
     "text": [
      "\r",
      " 54%|██████████████████████████████████████                                 | 53586/100000 [1:03:13<1:22:12,  9.41it/s]"
     ]
    },
    {
     "name": "stdout",
     "output_type": "stream",
     "text": [
      "self.get_collection_ratio(): 0.7119844113545724\n",
      "self.comms.count(True) : 3\n",
      "len(self.comms) : 3\n",
      "self.state.ratio_commed: 1.0\n",
      "self.comms.count(True) : 3\n",
      "len(self.comms) : 3\n",
      "self.evaluation_deque: deque([0.42669844922263994, 0.3205418453319123, 0.7412594084332161, 0.6355158278095369, 0.3713495149254075, 0.3962152462642251, 0.6152498790897858, 0.3829503330451563, 0.6975310938312983, 0.45411025523667153, 0.7046235767510869, 0.4797152005562569, 0.5916620742398655, 0.5414312513320979, 0.6914827421973758, 0.6619529433440599, 0.6344430477043075, 0.7130991224029485, 0.6998308569781495, 0.7119844113545724], maxlen=20)\n",
      "eval_mean: 0.5735823540025284\n"
     ]
    },
    {
     "name": "stderr",
     "output_type": "stream",
     "text": [
      "\r",
      " 54%|██████████████████████████████████████                                 | 53662/100000 [1:03:20<1:18:48,  9.80it/s]"
     ]
    },
    {
     "name": "stdout",
     "output_type": "stream",
     "text": [
      "self.evaluation_deque: deque([0.42669844922263994, 0.3205418453319123, 0.7412594084332161, 0.6355158278095369, 0.3713495149254075, 0.3962152462642251, 0.6152498790897858, 0.3829503330451563, 0.6975310938312983, 0.45411025523667153, 0.7046235767510869, 0.4797152005562569, 0.5916620742398655, 0.5414312513320979, 0.6914827421973758, 0.6619529433440599, 0.6344430477043075, 0.7130991224029485, 0.6998308569781495, 0.7119844113545724], maxlen=20)\n",
      "eval_mean: 0.5735823540025284\n"
     ]
    },
    {
     "name": "stderr",
     "output_type": "stream",
     "text": [
      "\r",
      " 54%|██████████████████████████████████████▏                                | 53738/100000 [1:03:27<1:16:07, 10.13it/s]"
     ]
    },
    {
     "name": "stdout",
     "output_type": "stream",
     "text": [
      "self.evaluation_deque: deque([0.42669844922263994, 0.3205418453319123, 0.7412594084332161, 0.6355158278095369, 0.3713495149254075, 0.3962152462642251, 0.6152498790897858, 0.3829503330451563, 0.6975310938312983, 0.45411025523667153, 0.7046235767510869, 0.4797152005562569, 0.5916620742398655, 0.5414312513320979, 0.6914827421973758, 0.6619529433440599, 0.6344430477043075, 0.7130991224029485, 0.6998308569781495, 0.7119844113545724], maxlen=20)\n",
      "eval_mean: 0.5735823540025284\n"
     ]
    },
    {
     "name": "stderr",
     "output_type": "stream",
     "text": [
      "\r",
      " 54%|██████████████████████████████████████▏                                | 53814/100000 [1:03:35<1:16:54, 10.01it/s]"
     ]
    },
    {
     "name": "stdout",
     "output_type": "stream",
     "text": [
      "self.evaluation_deque: deque([0.42669844922263994, 0.3205418453319123, 0.7412594084332161, 0.6355158278095369, 0.3713495149254075, 0.3962152462642251, 0.6152498790897858, 0.3829503330451563, 0.6975310938312983, 0.45411025523667153, 0.7046235767510869, 0.4797152005562569, 0.5916620742398655, 0.5414312513320979, 0.6914827421973758, 0.6619529433440599, 0.6344430477043075, 0.7130991224029485, 0.6998308569781495, 0.7119844113545724], maxlen=20)\n",
      "eval_mean: 0.5735823540025284\n"
     ]
    },
    {
     "name": "stderr",
     "output_type": "stream",
     "text": [
      "\r",
      " 54%|██████████████████████████████████████▎                                | 53890/100000 [1:03:41<1:11:16, 10.78it/s]"
     ]
    },
    {
     "name": "stdout",
     "output_type": "stream",
     "text": [
      "self.evaluation_deque: deque([0.42669844922263994, 0.3205418453319123, 0.7412594084332161, 0.6355158278095369, 0.3713495149254075, 0.3962152462642251, 0.6152498790897858, 0.3829503330451563, 0.6975310938312983, 0.45411025523667153, 0.7046235767510869, 0.4797152005562569, 0.5916620742398655, 0.5414312513320979, 0.6914827421973758, 0.6619529433440599, 0.6344430477043075, 0.7130991224029485, 0.6998308569781495, 0.7119844113545724], maxlen=20)\n",
      "eval_mean: 0.5735823540025284\n"
     ]
    },
    {
     "name": "stderr",
     "output_type": "stream",
     "text": [
      "\r",
      " 54%|██████████████████████████████████████▎                                | 53966/100000 [1:03:51<1:20:36,  9.52it/s]"
     ]
    },
    {
     "name": "stdout",
     "output_type": "stream",
     "text": [
      "self.get_collection_ratio(): 0.6633099681365124\n",
      "self.comms.count(True) : 3\n",
      "len(self.comms) : 3\n",
      "self.state.ratio_commed: 1.0\n",
      "self.comms.count(True) : 3\n",
      "len(self.comms) : 3\n",
      "self.evaluation_deque: deque([0.3205418453319123, 0.7412594084332161, 0.6355158278095369, 0.3713495149254075, 0.3962152462642251, 0.6152498790897858, 0.3829503330451563, 0.6975310938312983, 0.45411025523667153, 0.7046235767510869, 0.4797152005562569, 0.5916620742398655, 0.5414312513320979, 0.6914827421973758, 0.6619529433440599, 0.6344430477043075, 0.7130991224029485, 0.6998308569781495, 0.7119844113545724, 0.6633099681365124], maxlen=20)\n",
      "eval_mean: 0.5854129299482221\n"
     ]
    },
    {
     "name": "stderr",
     "output_type": "stream",
     "text": [
      "\r",
      " 54%|██████████████████████████████████████▎                                | 54042/100000 [1:03:57<1:13:42, 10.39it/s]"
     ]
    },
    {
     "name": "stdout",
     "output_type": "stream",
     "text": [
      "self.evaluation_deque: deque([0.3205418453319123, 0.7412594084332161, 0.6355158278095369, 0.3713495149254075, 0.3962152462642251, 0.6152498790897858, 0.3829503330451563, 0.6975310938312983, 0.45411025523667153, 0.7046235767510869, 0.4797152005562569, 0.5916620742398655, 0.5414312513320979, 0.6914827421973758, 0.6619529433440599, 0.6344430477043075, 0.7130991224029485, 0.6998308569781495, 0.7119844113545724, 0.6633099681365124], maxlen=20)\n",
      "eval_mean: 0.5854129299482221\n"
     ]
    },
    {
     "name": "stderr",
     "output_type": "stream",
     "text": [
      "\r",
      " 54%|██████████████████████████████████████▍                                | 54118/100000 [1:04:03<1:08:54, 11.10it/s]"
     ]
    },
    {
     "name": "stdout",
     "output_type": "stream",
     "text": [
      "self.evaluation_deque: deque([0.3205418453319123, 0.7412594084332161, 0.6355158278095369, 0.3713495149254075, 0.3962152462642251, 0.6152498790897858, 0.3829503330451563, 0.6975310938312983, 0.45411025523667153, 0.7046235767510869, 0.4797152005562569, 0.5916620742398655, 0.5414312513320979, 0.6914827421973758, 0.6619529433440599, 0.6344430477043075, 0.7130991224029485, 0.6998308569781495, 0.7119844113545724, 0.6633099681365124], maxlen=20)\n",
      "eval_mean: 0.5854129299482221\n"
     ]
    },
    {
     "name": "stderr",
     "output_type": "stream",
     "text": [
      "\r",
      " 54%|██████████████████████████████████████▍                                | 54194/100000 [1:04:11<1:12:36, 10.51it/s]"
     ]
    },
    {
     "name": "stdout",
     "output_type": "stream",
     "text": [
      "self.evaluation_deque: deque([0.3205418453319123, 0.7412594084332161, 0.6355158278095369, 0.3713495149254075, 0.3962152462642251, 0.6152498790897858, 0.3829503330451563, 0.6975310938312983, 0.45411025523667153, 0.7046235767510869, 0.4797152005562569, 0.5916620742398655, 0.5414312513320979, 0.6914827421973758, 0.6619529433440599, 0.6344430477043075, 0.7130991224029485, 0.6998308569781495, 0.7119844113545724, 0.6633099681365124], maxlen=20)\n",
      "eval_mean: 0.5854129299482221\n"
     ]
    },
    {
     "name": "stderr",
     "output_type": "stream",
     "text": [
      "\r",
      " 54%|██████████████████████████████████████▌                                | 54270/100000 [1:04:16<1:08:09, 11.18it/s]"
     ]
    },
    {
     "name": "stdout",
     "output_type": "stream",
     "text": [
      "self.evaluation_deque: deque([0.3205418453319123, 0.7412594084332161, 0.6355158278095369, 0.3713495149254075, 0.3962152462642251, 0.6152498790897858, 0.3829503330451563, 0.6975310938312983, 0.45411025523667153, 0.7046235767510869, 0.4797152005562569, 0.5916620742398655, 0.5414312513320979, 0.6914827421973758, 0.6619529433440599, 0.6344430477043075, 0.7130991224029485, 0.6998308569781495, 0.7119844113545724, 0.6633099681365124], maxlen=20)\n",
      "eval_mean: 0.5854129299482221\n"
     ]
    },
    {
     "name": "stderr",
     "output_type": "stream",
     "text": [
      "\r",
      " 54%|██████████████████████████████████████▌                                | 54346/100000 [1:04:26<1:15:41, 10.05it/s]"
     ]
    },
    {
     "name": "stdout",
     "output_type": "stream",
     "text": [
      "self.get_collection_ratio(): 0.6216730869791989\n",
      "self.comms.count(True) : 2\n",
      "len(self.comms) : 2\n",
      "self.state.ratio_commed: 1.0\n",
      "self.comms.count(True) : 2\n",
      "len(self.comms) : 2\n",
      "self.evaluation_deque: deque([0.7412594084332161, 0.6355158278095369, 0.3713495149254075, 0.3962152462642251, 0.6152498790897858, 0.3829503330451563, 0.6975310938312983, 0.45411025523667153, 0.7046235767510869, 0.4797152005562569, 0.5916620742398655, 0.5414312513320979, 0.6914827421973758, 0.6619529433440599, 0.6344430477043075, 0.7130991224029485, 0.6998308569781495, 0.7119844113545724, 0.6633099681365124, 0.6216730869791989], maxlen=20)\n",
      "eval_mean: 0.6004694920305865\n"
     ]
    },
    {
     "name": "stderr",
     "output_type": "stream",
     "text": [
      "\r",
      " 54%|██████████████████████████████████████▋                                | 54422/100000 [1:04:32<1:12:56, 10.42it/s]"
     ]
    },
    {
     "name": "stdout",
     "output_type": "stream",
     "text": [
      "self.evaluation_deque: deque([0.7412594084332161, 0.6355158278095369, 0.3713495149254075, 0.3962152462642251, 0.6152498790897858, 0.3829503330451563, 0.6975310938312983, 0.45411025523667153, 0.7046235767510869, 0.4797152005562569, 0.5916620742398655, 0.5414312513320979, 0.6914827421973758, 0.6619529433440599, 0.6344430477043075, 0.7130991224029485, 0.6998308569781495, 0.7119844113545724, 0.6633099681365124, 0.6216730869791989], maxlen=20)\n",
      "eval_mean: 0.6004694920305865\n"
     ]
    },
    {
     "name": "stderr",
     "output_type": "stream",
     "text": [
      "\r",
      " 54%|██████████████████████████████████████▋                                | 54498/100000 [1:04:39<1:11:50, 10.56it/s]"
     ]
    },
    {
     "name": "stdout",
     "output_type": "stream",
     "text": [
      "self.evaluation_deque: deque([0.7412594084332161, 0.6355158278095369, 0.3713495149254075, 0.3962152462642251, 0.6152498790897858, 0.3829503330451563, 0.6975310938312983, 0.45411025523667153, 0.7046235767510869, 0.4797152005562569, 0.5916620742398655, 0.5414312513320979, 0.6914827421973758, 0.6619529433440599, 0.6344430477043075, 0.7130991224029485, 0.6998308569781495, 0.7119844113545724, 0.6633099681365124, 0.6216730869791989], maxlen=20)\n",
      "eval_mean: 0.6004694920305865\n"
     ]
    },
    {
     "name": "stderr",
     "output_type": "stream",
     "text": [
      "\r",
      " 55%|██████████████████████████████████████▋                                | 54574/100000 [1:04:46<1:11:01, 10.66it/s]"
     ]
    },
    {
     "name": "stdout",
     "output_type": "stream",
     "text": [
      "self.evaluation_deque: deque([0.7412594084332161, 0.6355158278095369, 0.3713495149254075, 0.3962152462642251, 0.6152498790897858, 0.3829503330451563, 0.6975310938312983, 0.45411025523667153, 0.7046235767510869, 0.4797152005562569, 0.5916620742398655, 0.5414312513320979, 0.6914827421973758, 0.6619529433440599, 0.6344430477043075, 0.7130991224029485, 0.6998308569781495, 0.7119844113545724, 0.6633099681365124, 0.6216730869791989], maxlen=20)\n",
      "eval_mean: 0.6004694920305865\n"
     ]
    },
    {
     "name": "stderr",
     "output_type": "stream",
     "text": [
      "\r",
      " 55%|██████████████████████████████████████▊                                | 54650/100000 [1:04:55<1:13:49, 10.24it/s]"
     ]
    },
    {
     "name": "stdout",
     "output_type": "stream",
     "text": [
      "self.evaluation_deque: deque([0.7412594084332161, 0.6355158278095369, 0.3713495149254075, 0.3962152462642251, 0.6152498790897858, 0.3829503330451563, 0.6975310938312983, 0.45411025523667153, 0.7046235767510869, 0.4797152005562569, 0.5916620742398655, 0.5414312513320979, 0.6914827421973758, 0.6619529433440599, 0.6344430477043075, 0.7130991224029485, 0.6998308569781495, 0.7119844113545724, 0.6633099681365124, 0.6216730869791989], maxlen=20)\n",
      "eval_mean: 0.6004694920305865\n"
     ]
    },
    {
     "name": "stderr",
     "output_type": "stream",
     "text": [
      "\r",
      " 55%|██████████████████████████████████████▊                                | 54726/100000 [1:05:02<1:13:33, 10.26it/s]"
     ]
    },
    {
     "name": "stdout",
     "output_type": "stream",
     "text": [
      "self.get_collection_ratio(): 0.5068573610611832\n",
      "self.comms.count(True) : 1\n",
      "len(self.comms) : 1\n",
      "self.state.ratio_commed: 1.0\n",
      "self.comms.count(True) : 1\n",
      "len(self.comms) : 1\n",
      "self.evaluation_deque: deque([0.6355158278095369, 0.3713495149254075, 0.3962152462642251, 0.6152498790897858, 0.3829503330451563, 0.6975310938312983, 0.45411025523667153, 0.7046235767510869, 0.4797152005562569, 0.5916620742398655, 0.5414312513320979, 0.6914827421973758, 0.6619529433440599, 0.6344430477043075, 0.7130991224029485, 0.6998308569781495, 0.7119844113545724, 0.6633099681365124, 0.6216730869791989, 0.5068573610611832], maxlen=20)\n",
      "eval_mean: 0.5887493896619848\n"
     ]
    },
    {
     "name": "stderr",
     "output_type": "stream",
     "text": [
      "\r",
      " 55%|██████████████████████████████████████▉                                | 54802/100000 [1:05:09<1:12:08, 10.44it/s]"
     ]
    },
    {
     "name": "stdout",
     "output_type": "stream",
     "text": [
      "self.evaluation_deque: deque([0.6355158278095369, 0.3713495149254075, 0.3962152462642251, 0.6152498790897858, 0.3829503330451563, 0.6975310938312983, 0.45411025523667153, 0.7046235767510869, 0.4797152005562569, 0.5916620742398655, 0.5414312513320979, 0.6914827421973758, 0.6619529433440599, 0.6344430477043075, 0.7130991224029485, 0.6998308569781495, 0.7119844113545724, 0.6633099681365124, 0.6216730869791989, 0.5068573610611832], maxlen=20)\n",
      "eval_mean: 0.5887493896619848\n"
     ]
    },
    {
     "name": "stderr",
     "output_type": "stream",
     "text": [
      "\r",
      " 55%|██████████████████████████████████████▉                                | 54878/100000 [1:05:17<1:13:38, 10.21it/s]"
     ]
    },
    {
     "name": "stdout",
     "output_type": "stream",
     "text": [
      "self.evaluation_deque: deque([0.6355158278095369, 0.3713495149254075, 0.3962152462642251, 0.6152498790897858, 0.3829503330451563, 0.6975310938312983, 0.45411025523667153, 0.7046235767510869, 0.4797152005562569, 0.5916620742398655, 0.5414312513320979, 0.6914827421973758, 0.6619529433440599, 0.6344430477043075, 0.7130991224029485, 0.6998308569781495, 0.7119844113545724, 0.6633099681365124, 0.6216730869791989, 0.5068573610611832], maxlen=20)\n",
      "eval_mean: 0.5887493896619848\n"
     ]
    },
    {
     "name": "stderr",
     "output_type": "stream",
     "text": [
      "\r",
      " 55%|███████████████████████████████████████                                | 54954/100000 [1:05:22<1:08:39, 10.94it/s]"
     ]
    },
    {
     "name": "stdout",
     "output_type": "stream",
     "text": [
      "self.evaluation_deque: deque([0.6355158278095369, 0.3713495149254075, 0.3962152462642251, 0.6152498790897858, 0.3829503330451563, 0.6975310938312983, 0.45411025523667153, 0.7046235767510869, 0.4797152005562569, 0.5916620742398655, 0.5414312513320979, 0.6914827421973758, 0.6619529433440599, 0.6344430477043075, 0.7130991224029485, 0.6998308569781495, 0.7119844113545724, 0.6633099681365124, 0.6216730869791989, 0.5068573610611832], maxlen=20)\n",
      "eval_mean: 0.5887493896619848\n"
     ]
    },
    {
     "name": "stderr",
     "output_type": "stream",
     "text": [
      "\r",
      " 55%|███████████████████████████████████████                                | 55030/100000 [1:05:28<1:05:00, 11.53it/s]"
     ]
    },
    {
     "name": "stdout",
     "output_type": "stream",
     "text": [
      "self.evaluation_deque: deque([0.6355158278095369, 0.3713495149254075, 0.3962152462642251, 0.6152498790897858, 0.3829503330451563, 0.6975310938312983, 0.45411025523667153, 0.7046235767510869, 0.4797152005562569, 0.5916620742398655, 0.5414312513320979, 0.6914827421973758, 0.6619529433440599, 0.6344430477043075, 0.7130991224029485, 0.6998308569781495, 0.7119844113545724, 0.6633099681365124, 0.6216730869791989, 0.5068573610611832], maxlen=20)\n",
      "eval_mean: 0.5887493896619848\n"
     ]
    },
    {
     "name": "stderr",
     "output_type": "stream",
     "text": [
      " 55%|███████████████████████████████████████▏                               | 55106/100000 [1:05:42<1:25:58,  8.70it/s]"
     ]
    },
    {
     "name": "stdout",
     "output_type": "stream",
     "text": [
      "self.get_collection_ratio(): 0.4876121524598035\n",
      "self.comms.count(True) : 1\n",
      "len(self.comms) : 1\n",
      "self.state.ratio_commed: 1.0\n",
      "self.comms.count(True) : 1\n",
      "len(self.comms) : 1\n",
      "self.evaluation_deque: deque([0.3713495149254075, 0.3962152462642251, 0.6152498790897858, 0.3829503330451563, 0.6975310938312983, 0.45411025523667153, 0.7046235767510869, 0.4797152005562569, 0.5916620742398655, 0.5414312513320979, 0.6914827421973758, 0.6619529433440599, 0.6344430477043075, 0.7130991224029485, 0.6998308569781495, 0.7119844113545724, 0.6633099681365124, 0.6216730869791989, 0.5068573610611832, 0.4876121524598035], maxlen=20)\n",
      "eval_mean: 0.5813542058944982\n"
     ]
    },
    {
     "name": "stderr",
     "output_type": "stream",
     "text": [
      "\r",
      " 55%|███████████████████████████████████████▏                               | 55182/100000 [1:05:49<1:20:45,  9.25it/s]"
     ]
    },
    {
     "name": "stdout",
     "output_type": "stream",
     "text": [
      "self.evaluation_deque: deque([0.3713495149254075, 0.3962152462642251, 0.6152498790897858, 0.3829503330451563, 0.6975310938312983, 0.45411025523667153, 0.7046235767510869, 0.4797152005562569, 0.5916620742398655, 0.5414312513320979, 0.6914827421973758, 0.6619529433440599, 0.6344430477043075, 0.7130991224029485, 0.6998308569781495, 0.7119844113545724, 0.6633099681365124, 0.6216730869791989, 0.5068573610611832, 0.4876121524598035], maxlen=20)\n",
      "eval_mean: 0.5813542058944982\n"
     ]
    },
    {
     "name": "stderr",
     "output_type": "stream",
     "text": [
      "\r",
      " 55%|███████████████████████████████████████▏                               | 55258/100000 [1:05:55<1:13:19, 10.17it/s]"
     ]
    },
    {
     "name": "stdout",
     "output_type": "stream",
     "text": [
      "self.evaluation_deque: deque([0.3713495149254075, 0.3962152462642251, 0.6152498790897858, 0.3829503330451563, 0.6975310938312983, 0.45411025523667153, 0.7046235767510869, 0.4797152005562569, 0.5916620742398655, 0.5414312513320979, 0.6914827421973758, 0.6619529433440599, 0.6344430477043075, 0.7130991224029485, 0.6998308569781495, 0.7119844113545724, 0.6633099681365124, 0.6216730869791989, 0.5068573610611832, 0.4876121524598035], maxlen=20)\n",
      "eval_mean: 0.5813542058944982\n"
     ]
    },
    {
     "name": "stderr",
     "output_type": "stream",
     "text": [
      "\r",
      " 55%|███████████████████████████████████████▎                               | 55334/100000 [1:06:03<1:14:33,  9.98it/s]"
     ]
    },
    {
     "name": "stdout",
     "output_type": "stream",
     "text": [
      "self.evaluation_deque: deque([0.3713495149254075, 0.3962152462642251, 0.6152498790897858, 0.3829503330451563, 0.6975310938312983, 0.45411025523667153, 0.7046235767510869, 0.4797152005562569, 0.5916620742398655, 0.5414312513320979, 0.6914827421973758, 0.6619529433440599, 0.6344430477043075, 0.7130991224029485, 0.6998308569781495, 0.7119844113545724, 0.6633099681365124, 0.6216730869791989, 0.5068573610611832, 0.4876121524598035], maxlen=20)\n",
      "eval_mean: 0.5813542058944982\n"
     ]
    },
    {
     "name": "stderr",
     "output_type": "stream",
     "text": [
      "\r",
      " 55%|███████████████████████████████████████▎                               | 55410/100000 [1:06:11<1:15:51,  9.80it/s]"
     ]
    },
    {
     "name": "stdout",
     "output_type": "stream",
     "text": [
      "self.evaluation_deque: deque([0.3713495149254075, 0.3962152462642251, 0.6152498790897858, 0.3829503330451563, 0.6975310938312983, 0.45411025523667153, 0.7046235767510869, 0.4797152005562569, 0.5916620742398655, 0.5414312513320979, 0.6914827421973758, 0.6619529433440599, 0.6344430477043075, 0.7130991224029485, 0.6998308569781495, 0.7119844113545724, 0.6633099681365124, 0.6216730869791989, 0.5068573610611832, 0.4876121524598035], maxlen=20)\n",
      "eval_mean: 0.5813542058944982\n"
     ]
    },
    {
     "name": "stderr",
     "output_type": "stream",
     "text": [
      "\r",
      " 55%|███████████████████████████████████████▍                               | 55486/100000 [1:06:20<1:21:29,  9.10it/s]"
     ]
    },
    {
     "name": "stdout",
     "output_type": "stream",
     "text": [
      "self.get_collection_ratio(): 0.5548412668091883\n",
      "self.comms.count(True) : 1\n",
      "len(self.comms) : 1\n",
      "self.state.ratio_commed: 1.0\n",
      "self.comms.count(True) : 1\n",
      "len(self.comms) : 1\n",
      "self.evaluation_deque: deque([0.3962152462642251, 0.6152498790897858, 0.3829503330451563, 0.6975310938312983, 0.45411025523667153, 0.7046235767510869, 0.4797152005562569, 0.5916620742398655, 0.5414312513320979, 0.6914827421973758, 0.6619529433440599, 0.6344430477043075, 0.7130991224029485, 0.6998308569781495, 0.7119844113545724, 0.6633099681365124, 0.6216730869791989, 0.5068573610611832, 0.4876121524598035, 0.5548412668091883], maxlen=20)\n",
      "eval_mean: 0.5905287934886871\n"
     ]
    },
    {
     "name": "stderr",
     "output_type": "stream",
     "text": [
      "\r",
      " 56%|███████████████████████████████████████▍                               | 55562/100000 [1:06:26<1:13:46, 10.04it/s]"
     ]
    },
    {
     "name": "stdout",
     "output_type": "stream",
     "text": [
      "self.evaluation_deque: deque([0.3962152462642251, 0.6152498790897858, 0.3829503330451563, 0.6975310938312983, 0.45411025523667153, 0.7046235767510869, 0.4797152005562569, 0.5916620742398655, 0.5414312513320979, 0.6914827421973758, 0.6619529433440599, 0.6344430477043075, 0.7130991224029485, 0.6998308569781495, 0.7119844113545724, 0.6633099681365124, 0.6216730869791989, 0.5068573610611832, 0.4876121524598035, 0.5548412668091883], maxlen=20)\n",
      "eval_mean: 0.5905287934886871\n"
     ]
    },
    {
     "name": "stderr",
     "output_type": "stream",
     "text": [
      "\r",
      " 56%|███████████████████████████████████████▌                               | 55638/100000 [1:06:33<1:11:50, 10.29it/s]"
     ]
    },
    {
     "name": "stdout",
     "output_type": "stream",
     "text": [
      "self.evaluation_deque: deque([0.3962152462642251, 0.6152498790897858, 0.3829503330451563, 0.6975310938312983, 0.45411025523667153, 0.7046235767510869, 0.4797152005562569, 0.5916620742398655, 0.5414312513320979, 0.6914827421973758, 0.6619529433440599, 0.6344430477043075, 0.7130991224029485, 0.6998308569781495, 0.7119844113545724, 0.6633099681365124, 0.6216730869791989, 0.5068573610611832, 0.4876121524598035, 0.5548412668091883], maxlen=20)\n",
      "eval_mean: 0.5905287934886871\n"
     ]
    },
    {
     "name": "stderr",
     "output_type": "stream",
     "text": [
      "\r",
      " 56%|███████████████████████████████████████▌                               | 55714/100000 [1:06:40<1:10:26, 10.48it/s]"
     ]
    },
    {
     "name": "stdout",
     "output_type": "stream",
     "text": [
      "self.evaluation_deque: deque([0.3962152462642251, 0.6152498790897858, 0.3829503330451563, 0.6975310938312983, 0.45411025523667153, 0.7046235767510869, 0.4797152005562569, 0.5916620742398655, 0.5414312513320979, 0.6914827421973758, 0.6619529433440599, 0.6344430477043075, 0.7130991224029485, 0.6998308569781495, 0.7119844113545724, 0.6633099681365124, 0.6216730869791989, 0.5068573610611832, 0.4876121524598035, 0.5548412668091883], maxlen=20)\n",
      "eval_mean: 0.5905287934886871\n"
     ]
    },
    {
     "name": "stderr",
     "output_type": "stream",
     "text": [
      "\r",
      " 56%|███████████████████████████████████████▌                               | 55790/100000 [1:06:46<1:05:53, 11.18it/s]"
     ]
    },
    {
     "name": "stdout",
     "output_type": "stream",
     "text": [
      "self.evaluation_deque: deque([0.3962152462642251, 0.6152498790897858, 0.3829503330451563, 0.6975310938312983, 0.45411025523667153, 0.7046235767510869, 0.4797152005562569, 0.5916620742398655, 0.5414312513320979, 0.6914827421973758, 0.6619529433440599, 0.6344430477043075, 0.7130991224029485, 0.6998308569781495, 0.7119844113545724, 0.6633099681365124, 0.6216730869791989, 0.5068573610611832, 0.4876121524598035, 0.5548412668091883], maxlen=20)\n",
      "eval_mean: 0.5905287934886871\n"
     ]
    },
    {
     "name": "stderr",
     "output_type": "stream",
     "text": [
      "\r",
      " 56%|███████████████████████████████████████▋                               | 55866/100000 [1:06:55<1:13:19, 10.03it/s]"
     ]
    },
    {
     "name": "stdout",
     "output_type": "stream",
     "text": [
      "self.get_collection_ratio(): 0.48223680808516933\n",
      "self.comms.count(True) : 1\n",
      "len(self.comms) : 1\n",
      "self.state.ratio_commed: 1.0\n",
      "self.comms.count(True) : 1\n",
      "len(self.comms) : 1\n",
      "self.evaluation_deque: deque([0.6152498790897858, 0.3829503330451563, 0.6975310938312983, 0.45411025523667153, 0.7046235767510869, 0.4797152005562569, 0.5916620742398655, 0.5414312513320979, 0.6914827421973758, 0.6619529433440599, 0.6344430477043075, 0.7130991224029485, 0.6998308569781495, 0.7119844113545724, 0.6633099681365124, 0.6216730869791989, 0.5068573610611832, 0.4876121524598035, 0.5548412668091883, 0.48223680808516933], maxlen=20)\n",
      "eval_mean: 0.5948298715797343\n"
     ]
    },
    {
     "name": "stderr",
     "output_type": "stream",
     "text": [
      "\r",
      " 56%|███████████████████████████████████████▋                               | 55942/100000 [1:07:01<1:07:58, 10.80it/s]"
     ]
    },
    {
     "name": "stdout",
     "output_type": "stream",
     "text": [
      "self.evaluation_deque: deque([0.6152498790897858, 0.3829503330451563, 0.6975310938312983, 0.45411025523667153, 0.7046235767510869, 0.4797152005562569, 0.5916620742398655, 0.5414312513320979, 0.6914827421973758, 0.6619529433440599, 0.6344430477043075, 0.7130991224029485, 0.6998308569781495, 0.7119844113545724, 0.6633099681365124, 0.6216730869791989, 0.5068573610611832, 0.4876121524598035, 0.5548412668091883, 0.48223680808516933], maxlen=20)\n",
      "eval_mean: 0.5948298715797343\n"
     ]
    },
    {
     "name": "stderr",
     "output_type": "stream",
     "text": [
      "\r",
      " 56%|███████████████████████████████████████▊                               | 56018/100000 [1:07:09<1:10:08, 10.45it/s]"
     ]
    },
    {
     "name": "stdout",
     "output_type": "stream",
     "text": [
      "self.evaluation_deque: deque([0.6152498790897858, 0.3829503330451563, 0.6975310938312983, 0.45411025523667153, 0.7046235767510869, 0.4797152005562569, 0.5916620742398655, 0.5414312513320979, 0.6914827421973758, 0.6619529433440599, 0.6344430477043075, 0.7130991224029485, 0.6998308569781495, 0.7119844113545724, 0.6633099681365124, 0.6216730869791989, 0.5068573610611832, 0.4876121524598035, 0.5548412668091883, 0.48223680808516933], maxlen=20)\n",
      "eval_mean: 0.5948298715797343\n"
     ]
    },
    {
     "name": "stderr",
     "output_type": "stream",
     "text": [
      "\r",
      " 56%|███████████████████████████████████████▊                               | 56094/100000 [1:07:15<1:05:38, 11.15it/s]"
     ]
    },
    {
     "name": "stdout",
     "output_type": "stream",
     "text": [
      "self.evaluation_deque: deque([0.6152498790897858, 0.3829503330451563, 0.6975310938312983, 0.45411025523667153, 0.7046235767510869, 0.4797152005562569, 0.5916620742398655, 0.5414312513320979, 0.6914827421973758, 0.6619529433440599, 0.6344430477043075, 0.7130991224029485, 0.6998308569781495, 0.7119844113545724, 0.6633099681365124, 0.6216730869791989, 0.5068573610611832, 0.4876121524598035, 0.5548412668091883, 0.48223680808516933], maxlen=20)\n",
      "eval_mean: 0.5948298715797343\n"
     ]
    },
    {
     "name": "stderr",
     "output_type": "stream",
     "text": [
      "\r",
      " 56%|███████████████████████████████████████▉                               | 56170/100000 [1:07:20<1:02:35, 11.67it/s]"
     ]
    },
    {
     "name": "stdout",
     "output_type": "stream",
     "text": [
      "self.evaluation_deque: deque([0.6152498790897858, 0.3829503330451563, 0.6975310938312983, 0.45411025523667153, 0.7046235767510869, 0.4797152005562569, 0.5916620742398655, 0.5414312513320979, 0.6914827421973758, 0.6619529433440599, 0.6344430477043075, 0.7130991224029485, 0.6998308569781495, 0.7119844113545724, 0.6633099681365124, 0.6216730869791989, 0.5068573610611832, 0.4876121524598035, 0.5548412668091883, 0.48223680808516933], maxlen=20)\n",
      "eval_mean: 0.5948298715797343\n"
     ]
    },
    {
     "name": "stderr",
     "output_type": "stream",
     "text": [
      "\r",
      " 56%|███████████████████████████████████████▉                               | 56246/100000 [1:07:28<1:05:00, 11.22it/s]"
     ]
    },
    {
     "name": "stdout",
     "output_type": "stream",
     "text": [
      "self.get_collection_ratio(): 0.5271906900164809\n",
      "self.comms.count(True) : 1\n",
      "len(self.comms) : 1\n",
      "self.state.ratio_commed: 1.0\n",
      "self.comms.count(True) : 1\n",
      "len(self.comms) : 1\n",
      "self.evaluation_deque: deque([0.3829503330451563, 0.6975310938312983, 0.45411025523667153, 0.7046235767510869, 0.4797152005562569, 0.5916620742398655, 0.5414312513320979, 0.6914827421973758, 0.6619529433440599, 0.6344430477043075, 0.7130991224029485, 0.6998308569781495, 0.7119844113545724, 0.6633099681365124, 0.6216730869791989, 0.5068573610611832, 0.4876121524598035, 0.5548412668091883, 0.48223680808516933, 0.5271906900164809], maxlen=20)\n",
      "eval_mean: 0.590426912126069\n"
     ]
    },
    {
     "name": "stderr",
     "output_type": "stream",
     "text": [
      "\r",
      " 56%|███████████████████████████████████████▉                               | 56322/100000 [1:07:35<1:05:25, 11.13it/s]"
     ]
    },
    {
     "name": "stdout",
     "output_type": "stream",
     "text": [
      "self.evaluation_deque: deque([0.3829503330451563, 0.6975310938312983, 0.45411025523667153, 0.7046235767510869, 0.4797152005562569, 0.5916620742398655, 0.5414312513320979, 0.6914827421973758, 0.6619529433440599, 0.6344430477043075, 0.7130991224029485, 0.6998308569781495, 0.7119844113545724, 0.6633099681365124, 0.6216730869791989, 0.5068573610611832, 0.4876121524598035, 0.5548412668091883, 0.48223680808516933, 0.5271906900164809], maxlen=20)\n",
      "eval_mean: 0.590426912126069\n"
     ]
    },
    {
     "name": "stderr",
     "output_type": "stream",
     "text": [
      "\r",
      " 56%|████████████████████████████████████████                               | 56398/100000 [1:07:42<1:05:35, 11.08it/s]"
     ]
    },
    {
     "name": "stdout",
     "output_type": "stream",
     "text": [
      "self.evaluation_deque: deque([0.3829503330451563, 0.6975310938312983, 0.45411025523667153, 0.7046235767510869, 0.4797152005562569, 0.5916620742398655, 0.5414312513320979, 0.6914827421973758, 0.6619529433440599, 0.6344430477043075, 0.7130991224029485, 0.6998308569781495, 0.7119844113545724, 0.6633099681365124, 0.6216730869791989, 0.5068573610611832, 0.4876121524598035, 0.5548412668091883, 0.48223680808516933, 0.5271906900164809], maxlen=20)\n",
      "eval_mean: 0.590426912126069\n"
     ]
    },
    {
     "name": "stderr",
     "output_type": "stream",
     "text": [
      "\r",
      " 56%|████████████████████████████████████████                               | 56474/100000 [1:07:50<1:09:04, 10.50it/s]"
     ]
    },
    {
     "name": "stdout",
     "output_type": "stream",
     "text": [
      "self.evaluation_deque: deque([0.3829503330451563, 0.6975310938312983, 0.45411025523667153, 0.7046235767510869, 0.4797152005562569, 0.5916620742398655, 0.5414312513320979, 0.6914827421973758, 0.6619529433440599, 0.6344430477043075, 0.7130991224029485, 0.6998308569781495, 0.7119844113545724, 0.6633099681365124, 0.6216730869791989, 0.5068573610611832, 0.4876121524598035, 0.5548412668091883, 0.48223680808516933, 0.5271906900164809], maxlen=20)\n",
      "eval_mean: 0.590426912126069\n"
     ]
    },
    {
     "name": "stderr",
     "output_type": "stream",
     "text": [
      "\r",
      " 57%|████████████████████████████████████████▏                              | 56550/100000 [1:07:56<1:04:40, 11.20it/s]"
     ]
    },
    {
     "name": "stdout",
     "output_type": "stream",
     "text": [
      "self.evaluation_deque: deque([0.3829503330451563, 0.6975310938312983, 0.45411025523667153, 0.7046235767510869, 0.4797152005562569, 0.5916620742398655, 0.5414312513320979, 0.6914827421973758, 0.6619529433440599, 0.6344430477043075, 0.7130991224029485, 0.6998308569781495, 0.7119844113545724, 0.6633099681365124, 0.6216730869791989, 0.5068573610611832, 0.4876121524598035, 0.5548412668091883, 0.48223680808516933, 0.5271906900164809], maxlen=20)\n",
      "eval_mean: 0.590426912126069\n"
     ]
    },
    {
     "name": "stderr",
     "output_type": "stream",
     "text": [
      "\r",
      " 57%|████████████████████████████████████████▏                              | 56626/100000 [1:08:05<1:11:44, 10.08it/s]"
     ]
    },
    {
     "name": "stdout",
     "output_type": "stream",
     "text": [
      "self.get_collection_ratio(): 0.6872238632684121\n",
      "self.comms.count(True) : 2\n",
      "len(self.comms) : 2\n",
      "self.state.ratio_commed: 1.0\n",
      "self.comms.count(True) : 2\n",
      "len(self.comms) : 2\n",
      "self.evaluation_deque: deque([0.6975310938312983, 0.45411025523667153, 0.7046235767510869, 0.4797152005562569, 0.5916620742398655, 0.5414312513320979, 0.6914827421973758, 0.6619529433440599, 0.6344430477043075, 0.7130991224029485, 0.6998308569781495, 0.7119844113545724, 0.6633099681365124, 0.6216730869791989, 0.5068573610611832, 0.4876121524598035, 0.5548412668091883, 0.48223680808516933, 0.5271906900164809, 0.6872238632684121], maxlen=20)\n",
      "eval_mean: 0.6056405886372319\n"
     ]
    },
    {
     "name": "stderr",
     "output_type": "stream",
     "text": [
      "\r",
      " 57%|████████████████████████████████████████▎                              | 56702/100000 [1:08:13<1:13:16,  9.85it/s]"
     ]
    },
    {
     "name": "stdout",
     "output_type": "stream",
     "text": [
      "self.evaluation_deque: deque([0.6975310938312983, 0.45411025523667153, 0.7046235767510869, 0.4797152005562569, 0.5916620742398655, 0.5414312513320979, 0.6914827421973758, 0.6619529433440599, 0.6344430477043075, 0.7130991224029485, 0.6998308569781495, 0.7119844113545724, 0.6633099681365124, 0.6216730869791989, 0.5068573610611832, 0.4876121524598035, 0.5548412668091883, 0.48223680808516933, 0.5271906900164809, 0.6872238632684121], maxlen=20)\n",
      "eval_mean: 0.6056405886372319\n"
     ]
    },
    {
     "name": "stderr",
     "output_type": "stream",
     "text": [
      "\r",
      " 57%|████████████████████████████████████████▎                              | 56778/100000 [1:08:19<1:07:34, 10.66it/s]"
     ]
    },
    {
     "name": "stdout",
     "output_type": "stream",
     "text": [
      "self.evaluation_deque: deque([0.6975310938312983, 0.45411025523667153, 0.7046235767510869, 0.4797152005562569, 0.5916620742398655, 0.5414312513320979, 0.6914827421973758, 0.6619529433440599, 0.6344430477043075, 0.7130991224029485, 0.6998308569781495, 0.7119844113545724, 0.6633099681365124, 0.6216730869791989, 0.5068573610611832, 0.4876121524598035, 0.5548412668091883, 0.48223680808516933, 0.5271906900164809, 0.6872238632684121], maxlen=20)\n",
      "eval_mean: 0.6056405886372319\n"
     ]
    },
    {
     "name": "stderr",
     "output_type": "stream",
     "text": [
      "\r",
      " 57%|████████████████████████████████████████▎                              | 56854/100000 [1:08:26<1:06:56, 10.74it/s]"
     ]
    },
    {
     "name": "stdout",
     "output_type": "stream",
     "text": [
      "self.evaluation_deque: deque([0.6975310938312983, 0.45411025523667153, 0.7046235767510869, 0.4797152005562569, 0.5916620742398655, 0.5414312513320979, 0.6914827421973758, 0.6619529433440599, 0.6344430477043075, 0.7130991224029485, 0.6998308569781495, 0.7119844113545724, 0.6633099681365124, 0.6216730869791989, 0.5068573610611832, 0.4876121524598035, 0.5548412668091883, 0.48223680808516933, 0.5271906900164809, 0.6872238632684121], maxlen=20)\n",
      "eval_mean: 0.6056405886372319\n"
     ]
    },
    {
     "name": "stderr",
     "output_type": "stream",
     "text": [
      "\r",
      " 57%|████████████████████████████████████████▍                              | 56930/100000 [1:08:33<1:06:25, 10.81it/s]"
     ]
    },
    {
     "name": "stdout",
     "output_type": "stream",
     "text": [
      "self.evaluation_deque: deque([0.6975310938312983, 0.45411025523667153, 0.7046235767510869, 0.4797152005562569, 0.5916620742398655, 0.5414312513320979, 0.6914827421973758, 0.6619529433440599, 0.6344430477043075, 0.7130991224029485, 0.6998308569781495, 0.7119844113545724, 0.6633099681365124, 0.6216730869791989, 0.5068573610611832, 0.4876121524598035, 0.5548412668091883, 0.48223680808516933, 0.5271906900164809, 0.6872238632684121], maxlen=20)\n",
      "eval_mean: 0.6056405886372319\n"
     ]
    },
    {
     "name": "stderr",
     "output_type": "stream",
     "text": [
      "\r",
      " 57%|████████████████████████████████████████▍                              | 57006/100000 [1:08:40<1:07:14, 10.66it/s]"
     ]
    },
    {
     "name": "stdout",
     "output_type": "stream",
     "text": [
      "self.get_collection_ratio(): 0.44801174175641834\n",
      "self.comms.count(True) : 1\n",
      "len(self.comms) : 1\n",
      "self.state.ratio_commed: 1.0\n",
      "self.comms.count(True) : 1\n",
      "len(self.comms) : 1\n",
      "self.evaluation_deque: deque([0.45411025523667153, 0.7046235767510869, 0.4797152005562569, 0.5916620742398655, 0.5414312513320979, 0.6914827421973758, 0.6619529433440599, 0.6344430477043075, 0.7130991224029485, 0.6998308569781495, 0.7119844113545724, 0.6633099681365124, 0.6216730869791989, 0.5068573610611832, 0.4876121524598035, 0.5548412668091883, 0.48223680808516933, 0.5271906900164809, 0.6872238632684121, 0.44801174175641834], maxlen=20)\n",
      "eval_mean: 0.593164621033488\n"
     ]
    },
    {
     "name": "stderr",
     "output_type": "stream",
     "text": [
      "\r",
      " 57%|████████████████████████████████████████▌                              | 57082/100000 [1:08:48<1:09:55, 10.23it/s]"
     ]
    },
    {
     "name": "stdout",
     "output_type": "stream",
     "text": [
      "self.evaluation_deque: deque([0.45411025523667153, 0.7046235767510869, 0.4797152005562569, 0.5916620742398655, 0.5414312513320979, 0.6914827421973758, 0.6619529433440599, 0.6344430477043075, 0.7130991224029485, 0.6998308569781495, 0.7119844113545724, 0.6633099681365124, 0.6216730869791989, 0.5068573610611832, 0.4876121524598035, 0.5548412668091883, 0.48223680808516933, 0.5271906900164809, 0.6872238632684121, 0.44801174175641834], maxlen=20)\n",
      "eval_mean: 0.593164621033488\n"
     ]
    },
    {
     "name": "stderr",
     "output_type": "stream",
     "text": [
      "\r",
      " 57%|████████████████████████████████████████▌                              | 57158/100000 [1:08:55<1:08:28, 10.43it/s]"
     ]
    },
    {
     "name": "stdout",
     "output_type": "stream",
     "text": [
      "self.evaluation_deque: deque([0.45411025523667153, 0.7046235767510869, 0.4797152005562569, 0.5916620742398655, 0.5414312513320979, 0.6914827421973758, 0.6619529433440599, 0.6344430477043075, 0.7130991224029485, 0.6998308569781495, 0.7119844113545724, 0.6633099681365124, 0.6216730869791989, 0.5068573610611832, 0.4876121524598035, 0.5548412668091883, 0.48223680808516933, 0.5271906900164809, 0.6872238632684121, 0.44801174175641834], maxlen=20)\n",
      "eval_mean: 0.593164621033488\n"
     ]
    },
    {
     "name": "stderr",
     "output_type": "stream",
     "text": [
      "\r",
      " 57%|████████████████████████████████████████▋                              | 57234/100000 [1:09:01<1:04:06, 11.12it/s]"
     ]
    },
    {
     "name": "stdout",
     "output_type": "stream",
     "text": [
      "self.evaluation_deque: deque([0.45411025523667153, 0.7046235767510869, 0.4797152005562569, 0.5916620742398655, 0.5414312513320979, 0.6914827421973758, 0.6619529433440599, 0.6344430477043075, 0.7130991224029485, 0.6998308569781495, 0.7119844113545724, 0.6633099681365124, 0.6216730869791989, 0.5068573610611832, 0.4876121524598035, 0.5548412668091883, 0.48223680808516933, 0.5271906900164809, 0.6872238632684121, 0.44801174175641834], maxlen=20)\n",
      "eval_mean: 0.593164621033488\n"
     ]
    },
    {
     "name": "stderr",
     "output_type": "stream",
     "text": [
      "\r",
      " 57%|████████████████████████████████████████▋                              | 57310/100000 [1:09:09<1:06:46, 10.66it/s]"
     ]
    },
    {
     "name": "stdout",
     "output_type": "stream",
     "text": [
      "self.evaluation_deque: deque([0.45411025523667153, 0.7046235767510869, 0.4797152005562569, 0.5916620742398655, 0.5414312513320979, 0.6914827421973758, 0.6619529433440599, 0.6344430477043075, 0.7130991224029485, 0.6998308569781495, 0.7119844113545724, 0.6633099681365124, 0.6216730869791989, 0.5068573610611832, 0.4876121524598035, 0.5548412668091883, 0.48223680808516933, 0.5271906900164809, 0.6872238632684121, 0.44801174175641834], maxlen=20)\n",
      "eval_mean: 0.593164621033488\n"
     ]
    },
    {
     "name": "stderr",
     "output_type": "stream",
     "text": [
      "\r",
      " 57%|████████████████████████████████████████▋                              | 57386/100000 [1:09:18<1:13:57,  9.60it/s]"
     ]
    },
    {
     "name": "stdout",
     "output_type": "stream",
     "text": [
      "self.get_collection_ratio(): 0.4620030317344992\n",
      "self.comms.count(True) : 1\n",
      "len(self.comms) : 1\n",
      "self.state.ratio_commed: 1.0\n",
      "self.comms.count(True) : 1\n",
      "len(self.comms) : 1\n",
      "self.evaluation_deque: deque([0.7046235767510869, 0.4797152005562569, 0.5916620742398655, 0.5414312513320979, 0.6914827421973758, 0.6619529433440599, 0.6344430477043075, 0.7130991224029485, 0.6998308569781495, 0.7119844113545724, 0.6633099681365124, 0.6216730869791989, 0.5068573610611832, 0.4876121524598035, 0.5548412668091883, 0.48223680808516933, 0.5271906900164809, 0.6872238632684121, 0.44801174175641834, 0.4620030317344992], maxlen=20)\n",
      "eval_mean: 0.5935592598583794\n"
     ]
    },
    {
     "name": "stderr",
     "output_type": "stream",
     "text": [
      "\r",
      " 57%|████████████████████████████████████████▊                              | 57462/100000 [1:09:24<1:07:50, 10.45it/s]"
     ]
    },
    {
     "name": "stdout",
     "output_type": "stream",
     "text": [
      "self.evaluation_deque: deque([0.7046235767510869, 0.4797152005562569, 0.5916620742398655, 0.5414312513320979, 0.6914827421973758, 0.6619529433440599, 0.6344430477043075, 0.7130991224029485, 0.6998308569781495, 0.7119844113545724, 0.6633099681365124, 0.6216730869791989, 0.5068573610611832, 0.4876121524598035, 0.5548412668091883, 0.48223680808516933, 0.5271906900164809, 0.6872238632684121, 0.44801174175641834, 0.4620030317344992], maxlen=20)\n",
      "eval_mean: 0.5935592598583794\n"
     ]
    },
    {
     "name": "stderr",
     "output_type": "stream",
     "text": [
      "\r",
      " 58%|████████████████████████████████████████▊                              | 57538/100000 [1:09:31<1:06:47, 10.60it/s]"
     ]
    },
    {
     "name": "stdout",
     "output_type": "stream",
     "text": [
      "self.evaluation_deque: deque([0.7046235767510869, 0.4797152005562569, 0.5916620742398655, 0.5414312513320979, 0.6914827421973758, 0.6619529433440599, 0.6344430477043075, 0.7130991224029485, 0.6998308569781495, 0.7119844113545724, 0.6633099681365124, 0.6216730869791989, 0.5068573610611832, 0.4876121524598035, 0.5548412668091883, 0.48223680808516933, 0.5271906900164809, 0.6872238632684121, 0.44801174175641834, 0.4620030317344992], maxlen=20)\n",
      "eval_mean: 0.5935592598583794\n"
     ]
    },
    {
     "name": "stderr",
     "output_type": "stream",
     "text": [
      "\r",
      " 58%|████████████████████████████████████████▉                              | 57614/100000 [1:09:37<1:02:47, 11.25it/s]"
     ]
    },
    {
     "name": "stdout",
     "output_type": "stream",
     "text": [
      "self.evaluation_deque: deque([0.7046235767510869, 0.4797152005562569, 0.5916620742398655, 0.5414312513320979, 0.6914827421973758, 0.6619529433440599, 0.6344430477043075, 0.7130991224029485, 0.6998308569781495, 0.7119844113545724, 0.6633099681365124, 0.6216730869791989, 0.5068573610611832, 0.4876121524598035, 0.5548412668091883, 0.48223680808516933, 0.5271906900164809, 0.6872238632684121, 0.44801174175641834, 0.4620030317344992], maxlen=20)\n",
      "eval_mean: 0.5935592598583794\n"
     ]
    },
    {
     "name": "stderr",
     "output_type": "stream",
     "text": [
      "\r",
      " 58%|██████████████████████████████████████████                               | 57690/100000 [1:09:43<59:48, 11.79it/s]"
     ]
    },
    {
     "name": "stdout",
     "output_type": "stream",
     "text": [
      "self.evaluation_deque: deque([0.7046235767510869, 0.4797152005562569, 0.5916620742398655, 0.5414312513320979, 0.6914827421973758, 0.6619529433440599, 0.6344430477043075, 0.7130991224029485, 0.6998308569781495, 0.7119844113545724, 0.6633099681365124, 0.6216730869791989, 0.5068573610611832, 0.4876121524598035, 0.5548412668091883, 0.48223680808516933, 0.5271906900164809, 0.6872238632684121, 0.44801174175641834, 0.4620030317344992], maxlen=20)\n",
      "eval_mean: 0.5935592598583794\n"
     ]
    },
    {
     "name": "stderr",
     "output_type": "stream",
     "text": [
      "\r",
      " 58%|█████████████████████████████████████████                              | 57766/100000 [1:09:52<1:09:06, 10.18it/s]"
     ]
    },
    {
     "name": "stdout",
     "output_type": "stream",
     "text": [
      "self.get_collection_ratio(): 0.8008101569371454\n",
      "self.comms.count(True) : 2\n",
      "len(self.comms) : 3\n",
      "self.state.ratio_commed: 0.6666666666666666\n",
      "self.comms.count(True) : 2\n",
      "len(self.comms) : 3\n",
      "self.evaluation_deque: deque([0.4797152005562569, 0.5916620742398655, 0.5414312513320979, 0.6914827421973758, 0.6619529433440599, 0.6344430477043075, 0.7130991224029485, 0.6998308569781495, 0.7119844113545724, 0.6633099681365124, 0.6216730869791989, 0.5068573610611832, 0.4876121524598035, 0.5548412668091883, 0.48223680808516933, 0.5271906900164809, 0.6872238632684121, 0.44801174175641834, 0.4620030317344992, 0.5338734379580969], maxlen=20)\n",
      "eval_mean: 0.5850217529187298\n"
     ]
    },
    {
     "name": "stderr",
     "output_type": "stream",
     "text": [
      "\r",
      " 58%|█████████████████████████████████████████                              | 57842/100000 [1:09:58<1:04:09, 10.95it/s]"
     ]
    },
    {
     "name": "stdout",
     "output_type": "stream",
     "text": [
      "self.evaluation_deque: deque([0.4797152005562569, 0.5916620742398655, 0.5414312513320979, 0.6914827421973758, 0.6619529433440599, 0.6344430477043075, 0.7130991224029485, 0.6998308569781495, 0.7119844113545724, 0.6633099681365124, 0.6216730869791989, 0.5068573610611832, 0.4876121524598035, 0.5548412668091883, 0.48223680808516933, 0.5271906900164809, 0.6872238632684121, 0.44801174175641834, 0.4620030317344992, 0.5338734379580969], maxlen=20)\n",
      "eval_mean: 0.5850217529187298\n"
     ]
    },
    {
     "name": "stderr",
     "output_type": "stream",
     "text": [
      "\r",
      " 58%|█████████████████████████████████████████                              | 57918/100000 [1:10:05<1:03:56, 10.97it/s]"
     ]
    },
    {
     "name": "stdout",
     "output_type": "stream",
     "text": [
      "self.evaluation_deque: deque([0.4797152005562569, 0.5916620742398655, 0.5414312513320979, 0.6914827421973758, 0.6619529433440599, 0.6344430477043075, 0.7130991224029485, 0.6998308569781495, 0.7119844113545724, 0.6633099681365124, 0.6216730869791989, 0.5068573610611832, 0.4876121524598035, 0.5548412668091883, 0.48223680808516933, 0.5271906900164809, 0.6872238632684121, 0.44801174175641834, 0.4620030317344992, 0.5338734379580969], maxlen=20)\n",
      "eval_mean: 0.5850217529187298\n"
     ]
    },
    {
     "name": "stderr",
     "output_type": "stream",
     "text": [
      "\r",
      " 58%|█████████████████████████████████████████▏                             | 57994/100000 [1:10:11<1:00:34, 11.56it/s]"
     ]
    },
    {
     "name": "stdout",
     "output_type": "stream",
     "text": [
      "self.evaluation_deque: deque([0.4797152005562569, 0.5916620742398655, 0.5414312513320979, 0.6914827421973758, 0.6619529433440599, 0.6344430477043075, 0.7130991224029485, 0.6998308569781495, 0.7119844113545724, 0.6633099681365124, 0.6216730869791989, 0.5068573610611832, 0.4876121524598035, 0.5548412668091883, 0.48223680808516933, 0.5271906900164809, 0.6872238632684121, 0.44801174175641834, 0.4620030317344992, 0.5338734379580969], maxlen=20)\n",
      "eval_mean: 0.5850217529187298\n"
     ]
    },
    {
     "name": "stderr",
     "output_type": "stream",
     "text": [
      "\r",
      " 58%|█████████████████████████████████████████▏                             | 58070/100000 [1:10:18<1:01:16, 11.41it/s]"
     ]
    },
    {
     "name": "stdout",
     "output_type": "stream",
     "text": [
      "self.evaluation_deque: deque([0.4797152005562569, 0.5916620742398655, 0.5414312513320979, 0.6914827421973758, 0.6619529433440599, 0.6344430477043075, 0.7130991224029485, 0.6998308569781495, 0.7119844113545724, 0.6633099681365124, 0.6216730869791989, 0.5068573610611832, 0.4876121524598035, 0.5548412668091883, 0.48223680808516933, 0.5271906900164809, 0.6872238632684121, 0.44801174175641834, 0.4620030317344992, 0.5338734379580969], maxlen=20)\n",
      "eval_mean: 0.5850217529187298\n"
     ]
    },
    {
     "name": "stderr",
     "output_type": "stream",
     "text": [
      "\r",
      " 58%|█████████████████████████████████████████▎                             | 58146/100000 [1:10:25<1:03:12, 11.04it/s]"
     ]
    },
    {
     "name": "stdout",
     "output_type": "stream",
     "text": [
      "self.get_collection_ratio(): 0.4624659040318008\n",
      "self.comms.count(True) : 1\n",
      "len(self.comms) : 1\n",
      "self.state.ratio_commed: 1.0\n",
      "self.comms.count(True) : 1\n",
      "len(self.comms) : 1\n",
      "self.evaluation_deque: deque([0.5916620742398655, 0.5414312513320979, 0.6914827421973758, 0.6619529433440599, 0.6344430477043075, 0.7130991224029485, 0.6998308569781495, 0.7119844113545724, 0.6633099681365124, 0.6216730869791989, 0.5068573610611832, 0.4876121524598035, 0.5548412668091883, 0.48223680808516933, 0.5271906900164809, 0.6872238632684121, 0.44801174175641834, 0.4620030317344992, 0.5338734379580969, 0.4624659040318008], maxlen=20)\n",
      "eval_mean: 0.5841592880925071\n"
     ]
    },
    {
     "name": "stderr",
     "output_type": "stream",
     "text": [
      "\r",
      " 58%|█████████████████████████████████████████▎                             | 58222/100000 [1:10:32<1:03:19, 10.99it/s]"
     ]
    },
    {
     "name": "stdout",
     "output_type": "stream",
     "text": [
      "self.evaluation_deque: deque([0.5916620742398655, 0.5414312513320979, 0.6914827421973758, 0.6619529433440599, 0.6344430477043075, 0.7130991224029485, 0.6998308569781495, 0.7119844113545724, 0.6633099681365124, 0.6216730869791989, 0.5068573610611832, 0.4876121524598035, 0.5548412668091883, 0.48223680808516933, 0.5271906900164809, 0.6872238632684121, 0.44801174175641834, 0.4620030317344992, 0.5338734379580969, 0.4624659040318008], maxlen=20)\n",
      "eval_mean: 0.5841592880925071\n"
     ]
    },
    {
     "name": "stderr",
     "output_type": "stream",
     "text": [
      "\r",
      " 58%|█████████████████████████████████████████▍                             | 58298/100000 [1:10:39<1:03:13, 10.99it/s]"
     ]
    },
    {
     "name": "stdout",
     "output_type": "stream",
     "text": [
      "self.evaluation_deque: deque([0.5916620742398655, 0.5414312513320979, 0.6914827421973758, 0.6619529433440599, 0.6344430477043075, 0.7130991224029485, 0.6998308569781495, 0.7119844113545724, 0.6633099681365124, 0.6216730869791989, 0.5068573610611832, 0.4876121524598035, 0.5548412668091883, 0.48223680808516933, 0.5271906900164809, 0.6872238632684121, 0.44801174175641834, 0.4620030317344992, 0.5338734379580969, 0.4624659040318008], maxlen=20)\n",
      "eval_mean: 0.5841592880925071\n"
     ]
    },
    {
     "name": "stderr",
     "output_type": "stream",
     "text": [
      "\r",
      " 58%|█████████████████████████████████████████▍                             | 58374/100000 [1:10:46<1:02:54, 11.03it/s]"
     ]
    },
    {
     "name": "stdout",
     "output_type": "stream",
     "text": [
      "self.evaluation_deque: deque([0.5916620742398655, 0.5414312513320979, 0.6914827421973758, 0.6619529433440599, 0.6344430477043075, 0.7130991224029485, 0.6998308569781495, 0.7119844113545724, 0.6633099681365124, 0.6216730869791989, 0.5068573610611832, 0.4876121524598035, 0.5548412668091883, 0.48223680808516933, 0.5271906900164809, 0.6872238632684121, 0.44801174175641834, 0.4620030317344992, 0.5338734379580969, 0.4624659040318008], maxlen=20)\n",
      "eval_mean: 0.5841592880925071\n"
     ]
    },
    {
     "name": "stderr",
     "output_type": "stream",
     "text": [
      "\r",
      " 58%|█████████████████████████████████████████▍                             | 58450/100000 [1:10:53<1:02:51, 11.02it/s]"
     ]
    },
    {
     "name": "stdout",
     "output_type": "stream",
     "text": [
      "self.evaluation_deque: deque([0.5916620742398655, 0.5414312513320979, 0.6914827421973758, 0.6619529433440599, 0.6344430477043075, 0.7130991224029485, 0.6998308569781495, 0.7119844113545724, 0.6633099681365124, 0.6216730869791989, 0.5068573610611832, 0.4876121524598035, 0.5548412668091883, 0.48223680808516933, 0.5271906900164809, 0.6872238632684121, 0.44801174175641834, 0.4620030317344992, 0.5338734379580969, 0.4624659040318008], maxlen=20)\n",
      "eval_mean: 0.5841592880925071\n"
     ]
    },
    {
     "name": "stderr",
     "output_type": "stream",
     "text": [
      "\r",
      " 59%|█████████████████████████████████████████▌                             | 58526/100000 [1:11:02<1:09:10,  9.99it/s]"
     ]
    },
    {
     "name": "stdout",
     "output_type": "stream",
     "text": [
      "self.get_collection_ratio(): 0.6645598610406068\n",
      "self.comms.count(True) : 2\n",
      "len(self.comms) : 2\n",
      "self.state.ratio_commed: 1.0\n",
      "self.comms.count(True) : 2\n",
      "len(self.comms) : 2\n",
      "self.evaluation_deque: deque([0.5414312513320979, 0.6914827421973758, 0.6619529433440599, 0.6344430477043075, 0.7130991224029485, 0.6998308569781495, 0.7119844113545724, 0.6633099681365124, 0.6216730869791989, 0.5068573610611832, 0.4876121524598035, 0.5548412668091883, 0.48223680808516933, 0.5271906900164809, 0.6872238632684121, 0.44801174175641834, 0.4620030317344992, 0.5338734379580969, 0.4624659040318008, 0.6645598610406068], maxlen=20)\n",
      "eval_mean: 0.5878041774325441\n"
     ]
    },
    {
     "name": "stderr",
     "output_type": "stream",
     "text": [
      "\r",
      " 59%|█████████████████████████████████████████▌                             | 58602/100000 [1:11:10<1:10:13,  9.83it/s]"
     ]
    },
    {
     "name": "stdout",
     "output_type": "stream",
     "text": [
      "self.evaluation_deque: deque([0.5414312513320979, 0.6914827421973758, 0.6619529433440599, 0.6344430477043075, 0.7130991224029485, 0.6998308569781495, 0.7119844113545724, 0.6633099681365124, 0.6216730869791989, 0.5068573610611832, 0.4876121524598035, 0.5548412668091883, 0.48223680808516933, 0.5271906900164809, 0.6872238632684121, 0.44801174175641834, 0.4620030317344992, 0.5338734379580969, 0.4624659040318008, 0.6645598610406068], maxlen=20)\n",
      "eval_mean: 0.5878041774325441\n"
     ]
    },
    {
     "name": "stderr",
     "output_type": "stream",
     "text": [
      "\r",
      " 59%|█████████████████████████████████████████▋                             | 58678/100000 [1:11:17<1:07:48, 10.16it/s]"
     ]
    },
    {
     "name": "stdout",
     "output_type": "stream",
     "text": [
      "self.evaluation_deque: deque([0.5414312513320979, 0.6914827421973758, 0.6619529433440599, 0.6344430477043075, 0.7130991224029485, 0.6998308569781495, 0.7119844113545724, 0.6633099681365124, 0.6216730869791989, 0.5068573610611832, 0.4876121524598035, 0.5548412668091883, 0.48223680808516933, 0.5271906900164809, 0.6872238632684121, 0.44801174175641834, 0.4620030317344992, 0.5338734379580969, 0.4624659040318008, 0.6645598610406068], maxlen=20)\n",
      "eval_mean: 0.5878041774325441\n"
     ]
    },
    {
     "name": "stderr",
     "output_type": "stream",
     "text": [
      "\r",
      " 59%|█████████████████████████████████████████▋                             | 58754/100000 [1:11:24<1:06:08, 10.39it/s]"
     ]
    },
    {
     "name": "stdout",
     "output_type": "stream",
     "text": [
      "self.evaluation_deque: deque([0.5414312513320979, 0.6914827421973758, 0.6619529433440599, 0.6344430477043075, 0.7130991224029485, 0.6998308569781495, 0.7119844113545724, 0.6633099681365124, 0.6216730869791989, 0.5068573610611832, 0.4876121524598035, 0.5548412668091883, 0.48223680808516933, 0.5271906900164809, 0.6872238632684121, 0.44801174175641834, 0.4620030317344992, 0.5338734379580969, 0.4624659040318008, 0.6645598610406068], maxlen=20)\n",
      "eval_mean: 0.5878041774325441\n"
     ]
    },
    {
     "name": "stderr",
     "output_type": "stream",
     "text": [
      "\r",
      " 59%|█████████████████████████████████████████▊                             | 58830/100000 [1:11:32<1:07:24, 10.18it/s]"
     ]
    },
    {
     "name": "stdout",
     "output_type": "stream",
     "text": [
      "self.evaluation_deque: deque([0.5414312513320979, 0.6914827421973758, 0.6619529433440599, 0.6344430477043075, 0.7130991224029485, 0.6998308569781495, 0.7119844113545724, 0.6633099681365124, 0.6216730869791989, 0.5068573610611832, 0.4876121524598035, 0.5548412668091883, 0.48223680808516933, 0.5271906900164809, 0.6872238632684121, 0.44801174175641834, 0.4620030317344992, 0.5338734379580969, 0.4624659040318008, 0.6645598610406068], maxlen=20)\n",
      "eval_mean: 0.5878041774325441\n"
     ]
    },
    {
     "name": "stderr",
     "output_type": "stream",
     "text": [
      " 59%|█████████████████████████████████████████▊                             | 58906/100000 [1:11:42<1:15:34,  9.06it/s]"
     ]
    },
    {
     "name": "stdout",
     "output_type": "stream",
     "text": [
      "self.get_collection_ratio(): 0.6327433556032375\n",
      "self.comms.count(True) : 2\n",
      "len(self.comms) : 2\n",
      "self.state.ratio_commed: 1.0\n",
      "self.comms.count(True) : 2\n",
      "len(self.comms) : 2\n",
      "self.evaluation_deque: deque([0.6914827421973758, 0.6619529433440599, 0.6344430477043075, 0.7130991224029485, 0.6998308569781495, 0.7119844113545724, 0.6633099681365124, 0.6216730869791989, 0.5068573610611832, 0.4876121524598035, 0.5548412668091883, 0.48223680808516933, 0.5271906900164809, 0.6872238632684121, 0.44801174175641834, 0.4620030317344992, 0.5338734379580969, 0.4624659040318008, 0.6645598610406068, 0.6327433556032375], maxlen=20)\n",
      "eval_mean: 0.5923697826461011\n"
     ]
    },
    {
     "name": "stderr",
     "output_type": "stream",
     "text": [
      "\r",
      " 59%|█████████████████████████████████████████▉                             | 58982/100000 [1:11:50<1:14:38,  9.16it/s]"
     ]
    },
    {
     "name": "stdout",
     "output_type": "stream",
     "text": [
      "self.evaluation_deque: deque([0.6914827421973758, 0.6619529433440599, 0.6344430477043075, 0.7130991224029485, 0.6998308569781495, 0.7119844113545724, 0.6633099681365124, 0.6216730869791989, 0.5068573610611832, 0.4876121524598035, 0.5548412668091883, 0.48223680808516933, 0.5271906900164809, 0.6872238632684121, 0.44801174175641834, 0.4620030317344992, 0.5338734379580969, 0.4624659040318008, 0.6645598610406068, 0.6327433556032375], maxlen=20)\n",
      "eval_mean: 0.5923697826461011\n"
     ]
    },
    {
     "name": "stderr",
     "output_type": "stream",
     "text": [
      "\r",
      " 59%|█████████████████████████████████████████▉                             | 59058/100000 [1:11:57<1:10:54,  9.62it/s]"
     ]
    },
    {
     "name": "stdout",
     "output_type": "stream",
     "text": [
      "self.evaluation_deque: deque([0.6914827421973758, 0.6619529433440599, 0.6344430477043075, 0.7130991224029485, 0.6998308569781495, 0.7119844113545724, 0.6633099681365124, 0.6216730869791989, 0.5068573610611832, 0.4876121524598035, 0.5548412668091883, 0.48223680808516933, 0.5271906900164809, 0.6872238632684121, 0.44801174175641834, 0.4620030317344992, 0.5338734379580969, 0.4624659040318008, 0.6645598610406068, 0.6327433556032375], maxlen=20)\n",
      "eval_mean: 0.5923697826461011\n"
     ]
    },
    {
     "name": "stderr",
     "output_type": "stream",
     "text": [
      "\r",
      " 59%|█████████████████████████████████████████▉                             | 59134/100000 [1:12:04<1:08:09,  9.99it/s]"
     ]
    },
    {
     "name": "stdout",
     "output_type": "stream",
     "text": [
      "self.evaluation_deque: deque([0.6914827421973758, 0.6619529433440599, 0.6344430477043075, 0.7130991224029485, 0.6998308569781495, 0.7119844113545724, 0.6633099681365124, 0.6216730869791989, 0.5068573610611832, 0.4876121524598035, 0.5548412668091883, 0.48223680808516933, 0.5271906900164809, 0.6872238632684121, 0.44801174175641834, 0.4620030317344992, 0.5338734379580969, 0.4624659040318008, 0.6645598610406068, 0.6327433556032375], maxlen=20)\n",
      "eval_mean: 0.5923697826461011\n"
     ]
    },
    {
     "name": "stderr",
     "output_type": "stream",
     "text": [
      "\r",
      " 59%|██████████████████████████████████████████                             | 59210/100000 [1:12:18<1:24:41,  8.03it/s]"
     ]
    },
    {
     "name": "stdout",
     "output_type": "stream",
     "text": [
      "self.evaluation_deque: deque([0.6914827421973758, 0.6619529433440599, 0.6344430477043075, 0.7130991224029485, 0.6998308569781495, 0.7119844113545724, 0.6633099681365124, 0.6216730869791989, 0.5068573610611832, 0.4876121524598035, 0.5548412668091883, 0.48223680808516933, 0.5271906900164809, 0.6872238632684121, 0.44801174175641834, 0.4620030317344992, 0.5338734379580969, 0.4624659040318008, 0.6645598610406068, 0.6327433556032375], maxlen=20)\n",
      "eval_mean: 0.5923697826461011\n"
     ]
    },
    {
     "name": "stderr",
     "output_type": "stream",
     "text": [
      "\r",
      " 59%|██████████████████████████████████████████                             | 59286/100000 [1:12:27<1:24:20,  8.05it/s]"
     ]
    },
    {
     "name": "stdout",
     "output_type": "stream",
     "text": [
      "self.get_collection_ratio(): 0.5312947454933615\n",
      "self.comms.count(True) : 1\n",
      "len(self.comms) : 1\n",
      "self.state.ratio_commed: 1.0\n",
      "self.comms.count(True) : 1\n",
      "len(self.comms) : 1\n",
      "self.evaluation_deque: deque([0.6619529433440599, 0.6344430477043075, 0.7130991224029485, 0.6998308569781495, 0.7119844113545724, 0.6633099681365124, 0.6216730869791989, 0.5068573610611832, 0.4876121524598035, 0.5548412668091883, 0.48223680808516933, 0.5271906900164809, 0.6872238632684121, 0.44801174175641834, 0.4620030317344992, 0.5338734379580969, 0.4624659040318008, 0.6645598610406068, 0.6327433556032375, 0.5312947454933615], maxlen=20)\n",
      "eval_mean: 0.5843603828109004\n"
     ]
    },
    {
     "name": "stderr",
     "output_type": "stream",
     "text": [
      "\r",
      " 59%|██████████████████████████████████████████▏                            | 59362/100000 [1:12:33<1:14:27,  9.10it/s]"
     ]
    },
    {
     "name": "stdout",
     "output_type": "stream",
     "text": [
      "self.evaluation_deque: deque([0.6619529433440599, 0.6344430477043075, 0.7130991224029485, 0.6998308569781495, 0.7119844113545724, 0.6633099681365124, 0.6216730869791989, 0.5068573610611832, 0.4876121524598035, 0.5548412668091883, 0.48223680808516933, 0.5271906900164809, 0.6872238632684121, 0.44801174175641834, 0.4620030317344992, 0.5338734379580969, 0.4624659040318008, 0.6645598610406068, 0.6327433556032375, 0.5312947454933615], maxlen=20)\n",
      "eval_mean: 0.5843603828109004\n"
     ]
    },
    {
     "name": "stderr",
     "output_type": "stream",
     "text": [
      "\r",
      " 59%|██████████████████████████████████████████▏                            | 59438/100000 [1:12:41<1:12:55,  9.27it/s]"
     ]
    },
    {
     "name": "stdout",
     "output_type": "stream",
     "text": [
      "self.evaluation_deque: deque([0.6619529433440599, 0.6344430477043075, 0.7130991224029485, 0.6998308569781495, 0.7119844113545724, 0.6633099681365124, 0.6216730869791989, 0.5068573610611832, 0.4876121524598035, 0.5548412668091883, 0.48223680808516933, 0.5271906900164809, 0.6872238632684121, 0.44801174175641834, 0.4620030317344992, 0.5338734379580969, 0.4624659040318008, 0.6645598610406068, 0.6327433556032375, 0.5312947454933615], maxlen=20)\n",
      "eval_mean: 0.5843603828109004\n"
     ]
    },
    {
     "name": "stderr",
     "output_type": "stream",
     "text": [
      "\r",
      " 60%|██████████████████████████████████████████▎                            | 59514/100000 [1:12:48<1:09:25,  9.72it/s]"
     ]
    },
    {
     "name": "stdout",
     "output_type": "stream",
     "text": [
      "self.evaluation_deque: deque([0.6619529433440599, 0.6344430477043075, 0.7130991224029485, 0.6998308569781495, 0.7119844113545724, 0.6633099681365124, 0.6216730869791989, 0.5068573610611832, 0.4876121524598035, 0.5548412668091883, 0.48223680808516933, 0.5271906900164809, 0.6872238632684121, 0.44801174175641834, 0.4620030317344992, 0.5338734379580969, 0.4624659040318008, 0.6645598610406068, 0.6327433556032375, 0.5312947454933615], maxlen=20)\n",
      "eval_mean: 0.5843603828109004\n"
     ]
    },
    {
     "name": "stderr",
     "output_type": "stream",
     "text": [
      "\r",
      " 60%|██████████████████████████████████████████▎                            | 59590/100000 [1:12:55<1:07:05, 10.04it/s]"
     ]
    },
    {
     "name": "stdout",
     "output_type": "stream",
     "text": [
      "self.evaluation_deque: deque([0.6619529433440599, 0.6344430477043075, 0.7130991224029485, 0.6998308569781495, 0.7119844113545724, 0.6633099681365124, 0.6216730869791989, 0.5068573610611832, 0.4876121524598035, 0.5548412668091883, 0.48223680808516933, 0.5271906900164809, 0.6872238632684121, 0.44801174175641834, 0.4620030317344992, 0.5338734379580969, 0.4624659040318008, 0.6645598610406068, 0.6327433556032375, 0.5312947454933615], maxlen=20)\n",
      "eval_mean: 0.5843603828109004\n"
     ]
    },
    {
     "name": "stderr",
     "output_type": "stream",
     "text": [
      "\r",
      " 60%|██████████████████████████████████████████▎                            | 59666/100000 [1:13:05<1:14:46,  8.99it/s]"
     ]
    },
    {
     "name": "stdout",
     "output_type": "stream",
     "text": [
      "self.get_collection_ratio(): 0.6521314071172097\n",
      "self.comms.count(True) : 2\n",
      "len(self.comms) : 2\n",
      "self.state.ratio_commed: 1.0\n",
      "self.comms.count(True) : 2\n",
      "len(self.comms) : 2\n",
      "self.evaluation_deque: deque([0.6344430477043075, 0.7130991224029485, 0.6998308569781495, 0.7119844113545724, 0.6633099681365124, 0.6216730869791989, 0.5068573610611832, 0.4876121524598035, 0.5548412668091883, 0.48223680808516933, 0.5271906900164809, 0.6872238632684121, 0.44801174175641834, 0.4620030317344992, 0.5338734379580969, 0.4624659040318008, 0.6645598610406068, 0.6327433556032375, 0.5312947454933615, 0.6521314071172097], maxlen=20)\n",
      "eval_mean: 0.5838693059995579\n"
     ]
    },
    {
     "name": "stderr",
     "output_type": "stream",
     "text": [
      "\r",
      " 60%|██████████████████████████████████████████▍                            | 59742/100000 [1:13:12<1:10:43,  9.49it/s]"
     ]
    },
    {
     "name": "stdout",
     "output_type": "stream",
     "text": [
      "self.evaluation_deque: deque([0.6344430477043075, 0.7130991224029485, 0.6998308569781495, 0.7119844113545724, 0.6633099681365124, 0.6216730869791989, 0.5068573610611832, 0.4876121524598035, 0.5548412668091883, 0.48223680808516933, 0.5271906900164809, 0.6872238632684121, 0.44801174175641834, 0.4620030317344992, 0.5338734379580969, 0.4624659040318008, 0.6645598610406068, 0.6327433556032375, 0.5312947454933615, 0.6521314071172097], maxlen=20)\n",
      "eval_mean: 0.5838693059995579\n"
     ]
    },
    {
     "name": "stderr",
     "output_type": "stream",
     "text": [
      "\r",
      " 60%|██████████████████████████████████████████▍                            | 59818/100000 [1:13:18<1:04:42, 10.35it/s]"
     ]
    },
    {
     "name": "stdout",
     "output_type": "stream",
     "text": [
      "self.evaluation_deque: deque([0.6344430477043075, 0.7130991224029485, 0.6998308569781495, 0.7119844113545724, 0.6633099681365124, 0.6216730869791989, 0.5068573610611832, 0.4876121524598035, 0.5548412668091883, 0.48223680808516933, 0.5271906900164809, 0.6872238632684121, 0.44801174175641834, 0.4620030317344992, 0.5338734379580969, 0.4624659040318008, 0.6645598610406068, 0.6327433556032375, 0.5312947454933615, 0.6521314071172097], maxlen=20)\n",
      "eval_mean: 0.5838693059995579\n"
     ]
    },
    {
     "name": "stderr",
     "output_type": "stream",
     "text": [
      "\r",
      " 60%|██████████████████████████████████████████▌                            | 59894/100000 [1:13:26<1:06:56,  9.99it/s]"
     ]
    },
    {
     "name": "stdout",
     "output_type": "stream",
     "text": [
      "self.evaluation_deque: deque([0.6344430477043075, 0.7130991224029485, 0.6998308569781495, 0.7119844113545724, 0.6633099681365124, 0.6216730869791989, 0.5068573610611832, 0.4876121524598035, 0.5548412668091883, 0.48223680808516933, 0.5271906900164809, 0.6872238632684121, 0.44801174175641834, 0.4620030317344992, 0.5338734379580969, 0.4624659040318008, 0.6645598610406068, 0.6327433556032375, 0.5312947454933615, 0.6521314071172097], maxlen=20)\n",
      "eval_mean: 0.5838693059995579\n"
     ]
    },
    {
     "name": "stderr",
     "output_type": "stream",
     "text": [
      "\r",
      " 60%|██████████████████████████████████████████▌                            | 59970/100000 [1:13:33<1:05:06, 10.25it/s]"
     ]
    },
    {
     "name": "stdout",
     "output_type": "stream",
     "text": [
      "self.evaluation_deque: deque([0.6344430477043075, 0.7130991224029485, 0.6998308569781495, 0.7119844113545724, 0.6633099681365124, 0.6216730869791989, 0.5068573610611832, 0.4876121524598035, 0.5548412668091883, 0.48223680808516933, 0.5271906900164809, 0.6872238632684121, 0.44801174175641834, 0.4620030317344992, 0.5338734379580969, 0.4624659040318008, 0.6645598610406068, 0.6327433556032375, 0.5312947454933615, 0.6521314071172097], maxlen=20)\n",
      "eval_mean: 0.5838693059995579\n"
     ]
    },
    {
     "name": "stderr",
     "output_type": "stream",
     "text": [
      "\r",
      " 60%|██████████████████████████████████████████▋                            | 60046/100000 [1:13:43<1:10:48,  9.40it/s]"
     ]
    },
    {
     "name": "stdout",
     "output_type": "stream",
     "text": [
      "self.get_collection_ratio(): 0.47910087366504006\n",
      "self.comms.count(True) : 1\n",
      "len(self.comms) : 1\n",
      "self.state.ratio_commed: 1.0\n",
      "self.comms.count(True) : 1\n",
      "len(self.comms) : 1\n",
      "self.evaluation_deque: deque([0.7130991224029485, 0.6998308569781495, 0.7119844113545724, 0.6633099681365124, 0.6216730869791989, 0.5068573610611832, 0.4876121524598035, 0.5548412668091883, 0.48223680808516933, 0.5271906900164809, 0.6872238632684121, 0.44801174175641834, 0.4620030317344992, 0.5338734379580969, 0.4624659040318008, 0.6645598610406068, 0.6327433556032375, 0.5312947454933615, 0.6521314071172097, 0.47910087366504006], maxlen=20)\n",
      "eval_mean: 0.5761021972975946\n"
     ]
    },
    {
     "name": "stderr",
     "output_type": "stream",
     "text": [
      "\r",
      " 60%|██████████████████████████████████████████▋                            | 60122/100000 [1:13:49<1:04:41, 10.27it/s]"
     ]
    },
    {
     "name": "stdout",
     "output_type": "stream",
     "text": [
      "self.evaluation_deque: deque([0.7130991224029485, 0.6998308569781495, 0.7119844113545724, 0.6633099681365124, 0.6216730869791989, 0.5068573610611832, 0.4876121524598035, 0.5548412668091883, 0.48223680808516933, 0.5271906900164809, 0.6872238632684121, 0.44801174175641834, 0.4620030317344992, 0.5338734379580969, 0.4624659040318008, 0.6645598610406068, 0.6327433556032375, 0.5312947454933615, 0.6521314071172097, 0.47910087366504006], maxlen=20)\n",
      "eval_mean: 0.5761021972975946\n"
     ]
    },
    {
     "name": "stderr",
     "output_type": "stream",
     "text": [
      "\r",
      " 60%|██████████████████████████████████████████▋                            | 60198/100000 [1:13:56<1:03:24, 10.46it/s]"
     ]
    },
    {
     "name": "stdout",
     "output_type": "stream",
     "text": [
      "self.evaluation_deque: deque([0.7130991224029485, 0.6998308569781495, 0.7119844113545724, 0.6633099681365124, 0.6216730869791989, 0.5068573610611832, 0.4876121524598035, 0.5548412668091883, 0.48223680808516933, 0.5271906900164809, 0.6872238632684121, 0.44801174175641834, 0.4620030317344992, 0.5338734379580969, 0.4624659040318008, 0.6645598610406068, 0.6327433556032375, 0.5312947454933615, 0.6521314071172097, 0.47910087366504006], maxlen=20)\n",
      "eval_mean: 0.5761021972975946\n"
     ]
    },
    {
     "name": "stderr",
     "output_type": "stream",
     "text": [
      "\r",
      " 60%|██████████████████████████████████████████▊                            | 60274/100000 [1:14:04<1:05:00, 10.18it/s]"
     ]
    },
    {
     "name": "stdout",
     "output_type": "stream",
     "text": [
      "self.evaluation_deque: deque([0.7130991224029485, 0.6998308569781495, 0.7119844113545724, 0.6633099681365124, 0.6216730869791989, 0.5068573610611832, 0.4876121524598035, 0.5548412668091883, 0.48223680808516933, 0.5271906900164809, 0.6872238632684121, 0.44801174175641834, 0.4620030317344992, 0.5338734379580969, 0.4624659040318008, 0.6645598610406068, 0.6327433556032375, 0.5312947454933615, 0.6521314071172097, 0.47910087366504006], maxlen=20)\n",
      "eval_mean: 0.5761021972975946\n"
     ]
    },
    {
     "name": "stderr",
     "output_type": "stream",
     "text": [
      "\r",
      " 60%|██████████████████████████████████████████▊                            | 60350/100000 [1:14:11<1:03:26, 10.42it/s]"
     ]
    },
    {
     "name": "stdout",
     "output_type": "stream",
     "text": [
      "self.evaluation_deque: deque([0.7130991224029485, 0.6998308569781495, 0.7119844113545724, 0.6633099681365124, 0.6216730869791989, 0.5068573610611832, 0.4876121524598035, 0.5548412668091883, 0.48223680808516933, 0.5271906900164809, 0.6872238632684121, 0.44801174175641834, 0.4620030317344992, 0.5338734379580969, 0.4624659040318008, 0.6645598610406068, 0.6327433556032375, 0.5312947454933615, 0.6521314071172097, 0.47910087366504006], maxlen=20)\n",
      "eval_mean: 0.5761021972975946\n"
     ]
    },
    {
     "name": "stderr",
     "output_type": "stream",
     "text": [
      "\r",
      " 60%|██████████████████████████████████████████▉                            | 60426/100000 [1:14:20<1:08:42,  9.60it/s]"
     ]
    },
    {
     "name": "stdout",
     "output_type": "stream",
     "text": [
      "self.get_collection_ratio(): 0.6111983693645998\n",
      "self.comms.count(True) : 2\n",
      "len(self.comms) : 2\n",
      "self.state.ratio_commed: 1.0\n",
      "self.comms.count(True) : 2\n",
      "len(self.comms) : 2\n",
      "self.evaluation_deque: deque([0.6998308569781495, 0.7119844113545724, 0.6633099681365124, 0.6216730869791989, 0.5068573610611832, 0.4876121524598035, 0.5548412668091883, 0.48223680808516933, 0.5271906900164809, 0.6872238632684121, 0.44801174175641834, 0.4620030317344992, 0.5338734379580969, 0.4624659040318008, 0.6645598610406068, 0.6327433556032375, 0.5312947454933615, 0.6521314071172097, 0.47910087366504006, 0.6111983693645998], maxlen=20)\n",
      "eval_mean: 0.5710071596456772\n"
     ]
    },
    {
     "name": "stderr",
     "output_type": "stream",
     "text": [
      "\r",
      " 61%|██████████████████████████████████████████▉                            | 60502/100000 [1:14:27<1:06:10,  9.95it/s]"
     ]
    },
    {
     "name": "stdout",
     "output_type": "stream",
     "text": [
      "self.evaluation_deque: deque([0.6998308569781495, 0.7119844113545724, 0.6633099681365124, 0.6216730869791989, 0.5068573610611832, 0.4876121524598035, 0.5548412668091883, 0.48223680808516933, 0.5271906900164809, 0.6872238632684121, 0.44801174175641834, 0.4620030317344992, 0.5338734379580969, 0.4624659040318008, 0.6645598610406068, 0.6327433556032375, 0.5312947454933615, 0.6521314071172097, 0.47910087366504006, 0.6111983693645998], maxlen=20)\n",
      "eval_mean: 0.5710071596456772\n"
     ]
    },
    {
     "name": "stderr",
     "output_type": "stream",
     "text": [
      "\r",
      " 61%|███████████████████████████████████████████                            | 60578/100000 [1:14:34<1:04:25, 10.20it/s]"
     ]
    },
    {
     "name": "stdout",
     "output_type": "stream",
     "text": [
      "self.evaluation_deque: deque([0.6998308569781495, 0.7119844113545724, 0.6633099681365124, 0.6216730869791989, 0.5068573610611832, 0.4876121524598035, 0.5548412668091883, 0.48223680808516933, 0.5271906900164809, 0.6872238632684121, 0.44801174175641834, 0.4620030317344992, 0.5338734379580969, 0.4624659040318008, 0.6645598610406068, 0.6327433556032375, 0.5312947454933615, 0.6521314071172097, 0.47910087366504006, 0.6111983693645998], maxlen=20)\n",
      "eval_mean: 0.5710071596456772\n"
     ]
    },
    {
     "name": "stderr",
     "output_type": "stream",
     "text": [
      "\r",
      " 61%|███████████████████████████████████████████                            | 60654/100000 [1:14:41<1:03:19, 10.36it/s]"
     ]
    },
    {
     "name": "stdout",
     "output_type": "stream",
     "text": [
      "self.evaluation_deque: deque([0.6998308569781495, 0.7119844113545724, 0.6633099681365124, 0.6216730869791989, 0.5068573610611832, 0.4876121524598035, 0.5548412668091883, 0.48223680808516933, 0.5271906900164809, 0.6872238632684121, 0.44801174175641834, 0.4620030317344992, 0.5338734379580969, 0.4624659040318008, 0.6645598610406068, 0.6327433556032375, 0.5312947454933615, 0.6521314071172097, 0.47910087366504006, 0.6111983693645998], maxlen=20)\n",
      "eval_mean: 0.5710071596456772\n"
     ]
    },
    {
     "name": "stderr",
     "output_type": "stream",
     "text": [
      "\r",
      " 61%|████████████████████████████████████████████▎                            | 60730/100000 [1:14:47<59:12, 11.05it/s]"
     ]
    },
    {
     "name": "stdout",
     "output_type": "stream",
     "text": [
      "self.evaluation_deque: deque([0.6998308569781495, 0.7119844113545724, 0.6633099681365124, 0.6216730869791989, 0.5068573610611832, 0.4876121524598035, 0.5548412668091883, 0.48223680808516933, 0.5271906900164809, 0.6872238632684121, 0.44801174175641834, 0.4620030317344992, 0.5338734379580969, 0.4624659040318008, 0.6645598610406068, 0.6327433556032375, 0.5312947454933615, 0.6521314071172097, 0.47910087366504006, 0.6111983693645998], maxlen=20)\n",
      "eval_mean: 0.5710071596456772\n"
     ]
    },
    {
     "name": "stderr",
     "output_type": "stream",
     "text": [
      "\r",
      " 61%|███████████████████████████████████████████▏                           | 60806/100000 [1:14:58<1:09:13,  9.44it/s]"
     ]
    },
    {
     "name": "stdout",
     "output_type": "stream",
     "text": [
      "self.get_collection_ratio(): 0.7597580094304537\n",
      "self.comms.count(True) : 2\n",
      "len(self.comms) : 3\n",
      "self.state.ratio_commed: 0.6666666666666666\n",
      "self.comms.count(True) : 2\n",
      "len(self.comms) : 3\n",
      "self.evaluation_deque: deque([0.7119844113545724, 0.6633099681365124, 0.6216730869791989, 0.5068573610611832, 0.4876121524598035, 0.5548412668091883, 0.48223680808516933, 0.5271906900164809, 0.6872238632684121, 0.44801174175641834, 0.4620030317344992, 0.5338734379580969, 0.4624659040318008, 0.6645598610406068, 0.6327433556032375, 0.5312947454933615, 0.6521314071172097, 0.47910087366504006, 0.6111983693645998, 0.5065053396203024], maxlen=20)\n",
      "eval_mean: 0.5613408837777847\n"
     ]
    },
    {
     "name": "stderr",
     "output_type": "stream",
     "text": [
      "\r",
      " 61%|███████████████████████████████████████████▏                           | 60882/100000 [1:15:05<1:06:21,  9.83it/s]"
     ]
    },
    {
     "name": "stdout",
     "output_type": "stream",
     "text": [
      "self.evaluation_deque: deque([0.7119844113545724, 0.6633099681365124, 0.6216730869791989, 0.5068573610611832, 0.4876121524598035, 0.5548412668091883, 0.48223680808516933, 0.5271906900164809, 0.6872238632684121, 0.44801174175641834, 0.4620030317344992, 0.5338734379580969, 0.4624659040318008, 0.6645598610406068, 0.6327433556032375, 0.5312947454933615, 0.6521314071172097, 0.47910087366504006, 0.6111983693645998, 0.5065053396203024], maxlen=20)\n",
      "eval_mean: 0.5613408837777847\n"
     ]
    },
    {
     "name": "stderr",
     "output_type": "stream",
     "text": [
      "\r",
      " 61%|███████████████████████████████████████████▎                           | 60958/100000 [1:15:11<1:01:22, 10.60it/s]"
     ]
    },
    {
     "name": "stdout",
     "output_type": "stream",
     "text": [
      "self.evaluation_deque: deque([0.7119844113545724, 0.6633099681365124, 0.6216730869791989, 0.5068573610611832, 0.4876121524598035, 0.5548412668091883, 0.48223680808516933, 0.5271906900164809, 0.6872238632684121, 0.44801174175641834, 0.4620030317344992, 0.5338734379580969, 0.4624659040318008, 0.6645598610406068, 0.6327433556032375, 0.5312947454933615, 0.6521314071172097, 0.47910087366504006, 0.6111983693645998, 0.5065053396203024], maxlen=20)\n",
      "eval_mean: 0.5613408837777847\n"
     ]
    },
    {
     "name": "stderr",
     "output_type": "stream",
     "text": [
      "\r",
      " 61%|███████████████████████████████████████████▎                           | 61034/100000 [1:15:17<1:00:38, 10.71it/s]"
     ]
    },
    {
     "name": "stdout",
     "output_type": "stream",
     "text": [
      "self.evaluation_deque: deque([0.7119844113545724, 0.6633099681365124, 0.6216730869791989, 0.5068573610611832, 0.4876121524598035, 0.5548412668091883, 0.48223680808516933, 0.5271906900164809, 0.6872238632684121, 0.44801174175641834, 0.4620030317344992, 0.5338734379580969, 0.4624659040318008, 0.6645598610406068, 0.6327433556032375, 0.5312947454933615, 0.6521314071172097, 0.47910087366504006, 0.6111983693645998, 0.5065053396203024], maxlen=20)\n",
      "eval_mean: 0.5613408837777847\n"
     ]
    },
    {
     "name": "stderr",
     "output_type": "stream",
     "text": [
      "\r",
      " 61%|███████████████████████████████████████████▍                           | 61110/100000 [1:15:24<1:00:16, 10.75it/s]"
     ]
    },
    {
     "name": "stdout",
     "output_type": "stream",
     "text": [
      "self.evaluation_deque: deque([0.7119844113545724, 0.6633099681365124, 0.6216730869791989, 0.5068573610611832, 0.4876121524598035, 0.5548412668091883, 0.48223680808516933, 0.5271906900164809, 0.6872238632684121, 0.44801174175641834, 0.4620030317344992, 0.5338734379580969, 0.4624659040318008, 0.6645598610406068, 0.6327433556032375, 0.5312947454933615, 0.6521314071172097, 0.47910087366504006, 0.6111983693645998, 0.5065053396203024], maxlen=20)\n",
      "eval_mean: 0.5613408837777847\n"
     ]
    },
    {
     "name": "stderr",
     "output_type": "stream",
     "text": [
      "\r",
      " 61%|███████████████████████████████████████████▍                           | 61186/100000 [1:15:33<1:04:39, 10.01it/s]"
     ]
    },
    {
     "name": "stdout",
     "output_type": "stream",
     "text": [
      "self.get_collection_ratio(): 0.7365753464309893\n",
      "self.comms.count(True) : 3\n",
      "len(self.comms) : 3\n",
      "self.state.ratio_commed: 1.0\n",
      "self.comms.count(True) : 3\n",
      "len(self.comms) : 3\n",
      "self.evaluation_deque: deque([0.6633099681365124, 0.6216730869791989, 0.5068573610611832, 0.4876121524598035, 0.5548412668091883, 0.48223680808516933, 0.5271906900164809, 0.6872238632684121, 0.44801174175641834, 0.4620030317344992, 0.5338734379580969, 0.4624659040318008, 0.6645598610406068, 0.6327433556032375, 0.5312947454933615, 0.6521314071172097, 0.47910087366504006, 0.6111983693645998, 0.5065053396203024, 0.7365753464309893], maxlen=20)\n",
      "eval_mean: 0.5625704305316055\n"
     ]
    },
    {
     "name": "stderr",
     "output_type": "stream",
     "text": [
      "\r",
      " 61%|███████████████████████████████████████████▍                           | 61262/100000 [1:15:41<1:05:52,  9.80it/s]"
     ]
    },
    {
     "name": "stdout",
     "output_type": "stream",
     "text": [
      "self.evaluation_deque: deque([0.6633099681365124, 0.6216730869791989, 0.5068573610611832, 0.4876121524598035, 0.5548412668091883, 0.48223680808516933, 0.5271906900164809, 0.6872238632684121, 0.44801174175641834, 0.4620030317344992, 0.5338734379580969, 0.4624659040318008, 0.6645598610406068, 0.6327433556032375, 0.5312947454933615, 0.6521314071172097, 0.47910087366504006, 0.6111983693645998, 0.5065053396203024, 0.7365753464309893], maxlen=20)\n",
      "eval_mean: 0.5625704305316055\n"
     ]
    },
    {
     "name": "stderr",
     "output_type": "stream",
     "text": [
      "\r",
      " 61%|███████████████████████████████████████████▌                           | 61338/100000 [1:15:48<1:03:37, 10.13it/s]"
     ]
    },
    {
     "name": "stdout",
     "output_type": "stream",
     "text": [
      "self.evaluation_deque: deque([0.6633099681365124, 0.6216730869791989, 0.5068573610611832, 0.4876121524598035, 0.5548412668091883, 0.48223680808516933, 0.5271906900164809, 0.6872238632684121, 0.44801174175641834, 0.4620030317344992, 0.5338734379580969, 0.4624659040318008, 0.6645598610406068, 0.6327433556032375, 0.5312947454933615, 0.6521314071172097, 0.47910087366504006, 0.6111983693645998, 0.5065053396203024, 0.7365753464309893], maxlen=20)\n",
      "eval_mean: 0.5625704305316055\n"
     ]
    },
    {
     "name": "stderr",
     "output_type": "stream",
     "text": [
      "\r",
      " 61%|███████████████████████████████████████████▌                           | 61414/100000 [1:15:55<1:02:06, 10.35it/s]"
     ]
    },
    {
     "name": "stdout",
     "output_type": "stream",
     "text": [
      "self.evaluation_deque: deque([0.6633099681365124, 0.6216730869791989, 0.5068573610611832, 0.4876121524598035, 0.5548412668091883, 0.48223680808516933, 0.5271906900164809, 0.6872238632684121, 0.44801174175641834, 0.4620030317344992, 0.5338734379580969, 0.4624659040318008, 0.6645598610406068, 0.6327433556032375, 0.5312947454933615, 0.6521314071172097, 0.47910087366504006, 0.6111983693645998, 0.5065053396203024, 0.7365753464309893], maxlen=20)\n",
      "eval_mean: 0.5625704305316055\n"
     ]
    },
    {
     "name": "stderr",
     "output_type": "stream",
     "text": [
      "\r",
      " 61%|████████████████████████████████████████████▉                            | 61490/100000 [1:16:01<58:07, 11.04it/s]"
     ]
    },
    {
     "name": "stdout",
     "output_type": "stream",
     "text": [
      "self.evaluation_deque: deque([0.6633099681365124, 0.6216730869791989, 0.5068573610611832, 0.4876121524598035, 0.5548412668091883, 0.48223680808516933, 0.5271906900164809, 0.6872238632684121, 0.44801174175641834, 0.4620030317344992, 0.5338734379580969, 0.4624659040318008, 0.6645598610406068, 0.6327433556032375, 0.5312947454933615, 0.6521314071172097, 0.47910087366504006, 0.6111983693645998, 0.5065053396203024, 0.7365753464309893], maxlen=20)\n",
      "eval_mean: 0.5625704305316055\n"
     ]
    },
    {
     "name": "stderr",
     "output_type": "stream",
     "text": [
      "\r",
      " 62%|███████████████████████████████████████████▋                           | 61566/100000 [1:16:10<1:02:41, 10.22it/s]"
     ]
    },
    {
     "name": "stdout",
     "output_type": "stream",
     "text": [
      "self.get_collection_ratio(): 0.7821303292834705\n",
      "self.comms.count(True) : 2\n",
      "len(self.comms) : 3\n",
      "self.state.ratio_commed: 0.6666666666666666\n",
      "self.comms.count(True) : 2\n",
      "len(self.comms) : 3\n",
      "self.evaluation_deque: deque([0.6216730869791989, 0.5068573610611832, 0.4876121524598035, 0.5548412668091883, 0.48223680808516933, 0.5271906900164809, 0.6872238632684121, 0.44801174175641834, 0.4620030317344992, 0.5338734379580969, 0.4624659040318008, 0.6645598610406068, 0.6327433556032375, 0.5312947454933615, 0.6521314071172097, 0.47910087366504006, 0.6111983693645998, 0.5065053396203024, 0.7365753464309893, 0.5214202195223137], maxlen=20)\n",
      "eval_mean: 0.5554759431008957\n"
     ]
    },
    {
     "name": "stderr",
     "output_type": "stream",
     "text": [
      "\r",
      " 62%|████████████████████████████████████████████▉                            | 61642/100000 [1:16:16<58:18, 10.96it/s]"
     ]
    },
    {
     "name": "stdout",
     "output_type": "stream",
     "text": [
      "self.evaluation_deque: deque([0.6216730869791989, 0.5068573610611832, 0.4876121524598035, 0.5548412668091883, 0.48223680808516933, 0.5271906900164809, 0.6872238632684121, 0.44801174175641834, 0.4620030317344992, 0.5338734379580969, 0.4624659040318008, 0.6645598610406068, 0.6327433556032375, 0.5312947454933615, 0.6521314071172097, 0.47910087366504006, 0.6111983693645998, 0.5065053396203024, 0.7365753464309893, 0.5214202195223137], maxlen=20)\n",
      "eval_mean: 0.5554759431008957\n"
     ]
    },
    {
     "name": "stderr",
     "output_type": "stream",
     "text": [
      "\r",
      " 62%|███████████████████████████████████████████▊                           | 61718/100000 [1:16:23<1:00:22, 10.57it/s]"
     ]
    },
    {
     "name": "stdout",
     "output_type": "stream",
     "text": [
      "self.evaluation_deque: deque([0.6216730869791989, 0.5068573610611832, 0.4876121524598035, 0.5548412668091883, 0.48223680808516933, 0.5271906900164809, 0.6872238632684121, 0.44801174175641834, 0.4620030317344992, 0.5338734379580969, 0.4624659040318008, 0.6645598610406068, 0.6327433556032375, 0.5312947454933615, 0.6521314071172097, 0.47910087366504006, 0.6111983693645998, 0.5065053396203024, 0.7365753464309893, 0.5214202195223137], maxlen=20)\n",
      "eval_mean: 0.5554759431008957\n"
     ]
    },
    {
     "name": "stderr",
     "output_type": "stream",
     "text": [
      "\r",
      " 62%|███████████████████████████████████████████▊                           | 61794/100000 [1:16:31<1:02:27, 10.19it/s]"
     ]
    },
    {
     "name": "stdout",
     "output_type": "stream",
     "text": [
      "self.evaluation_deque: deque([0.6216730869791989, 0.5068573610611832, 0.4876121524598035, 0.5548412668091883, 0.48223680808516933, 0.5271906900164809, 0.6872238632684121, 0.44801174175641834, 0.4620030317344992, 0.5338734379580969, 0.4624659040318008, 0.6645598610406068, 0.6327433556032375, 0.5312947454933615, 0.6521314071172097, 0.47910087366504006, 0.6111983693645998, 0.5065053396203024, 0.7365753464309893, 0.5214202195223137], maxlen=20)\n",
      "eval_mean: 0.5554759431008957\n"
     ]
    },
    {
     "name": "stderr",
     "output_type": "stream",
     "text": [
      "\r",
      " 62%|███████████████████████████████████████████▉                           | 61870/100000 [1:16:38<1:00:57, 10.42it/s]"
     ]
    },
    {
     "name": "stdout",
     "output_type": "stream",
     "text": [
      "self.evaluation_deque: deque([0.6216730869791989, 0.5068573610611832, 0.4876121524598035, 0.5548412668091883, 0.48223680808516933, 0.5271906900164809, 0.6872238632684121, 0.44801174175641834, 0.4620030317344992, 0.5338734379580969, 0.4624659040318008, 0.6645598610406068, 0.6327433556032375, 0.5312947454933615, 0.6521314071172097, 0.47910087366504006, 0.6111983693645998, 0.5065053396203024, 0.7365753464309893, 0.5214202195223137], maxlen=20)\n",
      "eval_mean: 0.5554759431008957\n"
     ]
    },
    {
     "name": "stderr",
     "output_type": "stream",
     "text": [
      "\r",
      " 62%|███████████████████████████████████████████▉                           | 61946/100000 [1:16:47<1:03:56,  9.92it/s]"
     ]
    },
    {
     "name": "stdout",
     "output_type": "stream",
     "text": [
      "self.get_collection_ratio(): 0.5581931987900319\n",
      "self.comms.count(True) : 1\n",
      "len(self.comms) : 1\n",
      "self.state.ratio_commed: 1.0\n",
      "self.comms.count(True) : 1\n",
      "len(self.comms) : 1\n",
      "self.evaluation_deque: deque([0.5068573610611832, 0.4876121524598035, 0.5548412668091883, 0.48223680808516933, 0.5271906900164809, 0.6872238632684121, 0.44801174175641834, 0.4620030317344992, 0.5338734379580969, 0.4624659040318008, 0.6645598610406068, 0.6327433556032375, 0.5312947454933615, 0.6521314071172097, 0.47910087366504006, 0.6111983693645998, 0.5065053396203024, 0.7365753464309893, 0.5214202195223137, 0.5581931987900319], maxlen=20)\n",
      "eval_mean: 0.5523019486914373\n"
     ]
    },
    {
     "name": "stderr",
     "output_type": "stream",
     "text": [
      "\r",
      " 62%|████████████████████████████████████████████                           | 62022/100000 [1:16:55<1:04:18,  9.84it/s]"
     ]
    },
    {
     "name": "stdout",
     "output_type": "stream",
     "text": [
      "self.evaluation_deque: deque([0.5068573610611832, 0.4876121524598035, 0.5548412668091883, 0.48223680808516933, 0.5271906900164809, 0.6872238632684121, 0.44801174175641834, 0.4620030317344992, 0.5338734379580969, 0.4624659040318008, 0.6645598610406068, 0.6327433556032375, 0.5312947454933615, 0.6521314071172097, 0.47910087366504006, 0.6111983693645998, 0.5065053396203024, 0.7365753464309893, 0.5214202195223137, 0.5581931987900319], maxlen=20)\n",
      "eval_mean: 0.5523019486914373\n"
     ]
    },
    {
     "name": "stderr",
     "output_type": "stream",
     "text": [
      "\r",
      " 62%|█████████████████████████████████████████████▎                           | 62098/100000 [1:17:01<59:15, 10.66it/s]"
     ]
    },
    {
     "name": "stdout",
     "output_type": "stream",
     "text": [
      "self.evaluation_deque: deque([0.5068573610611832, 0.4876121524598035, 0.5548412668091883, 0.48223680808516933, 0.5271906900164809, 0.6872238632684121, 0.44801174175641834, 0.4620030317344992, 0.5338734379580969, 0.4624659040318008, 0.6645598610406068, 0.6327433556032375, 0.5312947454933615, 0.6521314071172097, 0.47910087366504006, 0.6111983693645998, 0.5065053396203024, 0.7365753464309893, 0.5214202195223137, 0.5581931987900319], maxlen=20)\n",
      "eval_mean: 0.5523019486914373\n"
     ]
    },
    {
     "name": "stderr",
     "output_type": "stream",
     "text": [
      "\r",
      " 62%|█████████████████████████████████████████████▍                           | 62174/100000 [1:17:07<58:41, 10.74it/s]"
     ]
    },
    {
     "name": "stdout",
     "output_type": "stream",
     "text": [
      "self.evaluation_deque: deque([0.5068573610611832, 0.4876121524598035, 0.5548412668091883, 0.48223680808516933, 0.5271906900164809, 0.6872238632684121, 0.44801174175641834, 0.4620030317344992, 0.5338734379580969, 0.4624659040318008, 0.6645598610406068, 0.6327433556032375, 0.5312947454933615, 0.6521314071172097, 0.47910087366504006, 0.6111983693645998, 0.5065053396203024, 0.7365753464309893, 0.5214202195223137, 0.5581931987900319], maxlen=20)\n",
      "eval_mean: 0.5523019486914373\n"
     ]
    },
    {
     "name": "stderr",
     "output_type": "stream",
     "text": [
      "\r",
      " 62%|█████████████████████████████████████████████▍                           | 62250/100000 [1:17:14<58:12, 10.81it/s]"
     ]
    },
    {
     "name": "stdout",
     "output_type": "stream",
     "text": [
      "self.evaluation_deque: deque([0.5068573610611832, 0.4876121524598035, 0.5548412668091883, 0.48223680808516933, 0.5271906900164809, 0.6872238632684121, 0.44801174175641834, 0.4620030317344992, 0.5338734379580969, 0.4624659040318008, 0.6645598610406068, 0.6327433556032375, 0.5312947454933615, 0.6521314071172097, 0.47910087366504006, 0.6111983693645998, 0.5065053396203024, 0.7365753464309893, 0.5214202195223137, 0.5581931987900319], maxlen=20)\n",
      "eval_mean: 0.5523019486914373\n"
     ]
    },
    {
     "name": "stderr",
     "output_type": "stream",
     "text": [
      "\r",
      " 62%|█████████████████████████████████████████████▍                           | 62326/100000 [1:17:22<58:56, 10.65it/s]"
     ]
    },
    {
     "name": "stdout",
     "output_type": "stream",
     "text": [
      "self.get_collection_ratio(): 0.48557357316304095\n",
      "self.comms.count(True) : 1\n",
      "len(self.comms) : 1\n",
      "self.state.ratio_commed: 1.0\n",
      "self.comms.count(True) : 1\n",
      "len(self.comms) : 1\n",
      "self.evaluation_deque: deque([0.4876121524598035, 0.5548412668091883, 0.48223680808516933, 0.5271906900164809, 0.6872238632684121, 0.44801174175641834, 0.4620030317344992, 0.5338734379580969, 0.4624659040318008, 0.6645598610406068, 0.6327433556032375, 0.5312947454933615, 0.6521314071172097, 0.47910087366504006, 0.6111983693645998, 0.5065053396203024, 0.7365753464309893, 0.5214202195223137, 0.5581931987900319, 0.48557357316304095], maxlen=20)\n",
      "eval_mean: 0.5512377592965302\n"
     ]
    },
    {
     "name": "stderr",
     "output_type": "stream",
     "text": [
      "\r",
      " 62%|█████████████████████████████████████████████▌                           | 62402/100000 [1:17:28<55:30, 11.29it/s]"
     ]
    },
    {
     "name": "stdout",
     "output_type": "stream",
     "text": [
      "self.evaluation_deque: deque([0.4876121524598035, 0.5548412668091883, 0.48223680808516933, 0.5271906900164809, 0.6872238632684121, 0.44801174175641834, 0.4620030317344992, 0.5338734379580969, 0.4624659040318008, 0.6645598610406068, 0.6327433556032375, 0.5312947454933615, 0.6521314071172097, 0.47910087366504006, 0.6111983693645998, 0.5065053396203024, 0.7365753464309893, 0.5214202195223137, 0.5581931987900319, 0.48557357316304095], maxlen=20)\n",
      "eval_mean: 0.5512377592965302\n"
     ]
    },
    {
     "name": "stderr",
     "output_type": "stream",
     "text": [
      "\r",
      " 62%|█████████████████████████████████████████████▌                           | 62478/100000 [1:17:35<58:09, 10.75it/s]"
     ]
    },
    {
     "name": "stdout",
     "output_type": "stream",
     "text": [
      "self.evaluation_deque: deque([0.4876121524598035, 0.5548412668091883, 0.48223680808516933, 0.5271906900164809, 0.6872238632684121, 0.44801174175641834, 0.4620030317344992, 0.5338734379580969, 0.4624659040318008, 0.6645598610406068, 0.6327433556032375, 0.5312947454933615, 0.6521314071172097, 0.47910087366504006, 0.6111983693645998, 0.5065053396203024, 0.7365753464309893, 0.5214202195223137, 0.5581931987900319, 0.48557357316304095], maxlen=20)\n",
      "eval_mean: 0.5512377592965302\n"
     ]
    },
    {
     "name": "stderr",
     "output_type": "stream",
     "text": [
      "\r",
      " 63%|█████████████████████████████████████████████▋                           | 62554/100000 [1:17:42<57:45, 10.81it/s]"
     ]
    },
    {
     "name": "stdout",
     "output_type": "stream",
     "text": [
      "self.evaluation_deque: deque([0.4876121524598035, 0.5548412668091883, 0.48223680808516933, 0.5271906900164809, 0.6872238632684121, 0.44801174175641834, 0.4620030317344992, 0.5338734379580969, 0.4624659040318008, 0.6645598610406068, 0.6327433556032375, 0.5312947454933615, 0.6521314071172097, 0.47910087366504006, 0.6111983693645998, 0.5065053396203024, 0.7365753464309893, 0.5214202195223137, 0.5581931987900319, 0.48557357316304095], maxlen=20)\n",
      "eval_mean: 0.5512377592965302\n"
     ]
    },
    {
     "name": "stderr",
     "output_type": "stream",
     "text": [
      "\r",
      " 63%|████████████████████████████████████████████▍                          | 62630/100000 [1:17:50<1:00:11, 10.35it/s]"
     ]
    },
    {
     "name": "stdout",
     "output_type": "stream",
     "text": [
      "self.evaluation_deque: deque([0.4876121524598035, 0.5548412668091883, 0.48223680808516933, 0.5271906900164809, 0.6872238632684121, 0.44801174175641834, 0.4620030317344992, 0.5338734379580969, 0.4624659040318008, 0.6645598610406068, 0.6327433556032375, 0.5312947454933615, 0.6521314071172097, 0.47910087366504006, 0.6111983693645998, 0.5065053396203024, 0.7365753464309893, 0.5214202195223137, 0.5581931987900319, 0.48557357316304095], maxlen=20)\n",
      "eval_mean: 0.5512377592965302\n"
     ]
    },
    {
     "name": "stderr",
     "output_type": "stream",
     "text": [
      "\r",
      " 63%|████████████████████████████████████████████▌                          | 62706/100000 [1:18:00<1:05:43,  9.46it/s]"
     ]
    },
    {
     "name": "stdout",
     "output_type": "stream",
     "text": [
      "self.get_collection_ratio(): 0.4866826031377089\n",
      "self.comms.count(True) : 1\n",
      "len(self.comms) : 1\n",
      "self.state.ratio_commed: 1.0\n",
      "self.comms.count(True) : 1\n",
      "len(self.comms) : 1\n",
      "self.evaluation_deque: deque([0.5548412668091883, 0.48223680808516933, 0.5271906900164809, 0.6872238632684121, 0.44801174175641834, 0.4620030317344992, 0.5338734379580969, 0.4624659040318008, 0.6645598610406068, 0.6327433556032375, 0.5312947454933615, 0.6521314071172097, 0.47910087366504006, 0.6111983693645998, 0.5065053396203024, 0.7365753464309893, 0.5214202195223137, 0.5581931987900319, 0.48557357316304095, 0.4866826031377089], maxlen=20)\n",
      "eval_mean: 0.5511912818304254\n"
     ]
    },
    {
     "name": "stderr",
     "output_type": "stream",
     "text": [
      "\r",
      " 63%|█████████████████████████████████████████████▊                           | 62782/100000 [1:18:06<59:58, 10.34it/s]"
     ]
    },
    {
     "name": "stdout",
     "output_type": "stream",
     "text": [
      "self.evaluation_deque: deque([0.5548412668091883, 0.48223680808516933, 0.5271906900164809, 0.6872238632684121, 0.44801174175641834, 0.4620030317344992, 0.5338734379580969, 0.4624659040318008, 0.6645598610406068, 0.6327433556032375, 0.5312947454933615, 0.6521314071172097, 0.47910087366504006, 0.6111983693645998, 0.5065053396203024, 0.7365753464309893, 0.5214202195223137, 0.5581931987900319, 0.48557357316304095, 0.4866826031377089], maxlen=20)\n",
      "eval_mean: 0.5511912818304254\n"
     ]
    },
    {
     "name": "stderr",
     "output_type": "stream",
     "text": [
      "\r",
      " 63%|████████████████████████████████████████████▋                          | 62858/100000 [1:18:14<1:01:39, 10.04it/s]"
     ]
    },
    {
     "name": "stdout",
     "output_type": "stream",
     "text": [
      "self.evaluation_deque: deque([0.5548412668091883, 0.48223680808516933, 0.5271906900164809, 0.6872238632684121, 0.44801174175641834, 0.4620030317344992, 0.5338734379580969, 0.4624659040318008, 0.6645598610406068, 0.6327433556032375, 0.5312947454933615, 0.6521314071172097, 0.47910087366504006, 0.6111983693645998, 0.5065053396203024, 0.7365753464309893, 0.5214202195223137, 0.5581931987900319, 0.48557357316304095, 0.4866826031377089], maxlen=20)\n",
      "eval_mean: 0.5511912818304254\n"
     ]
    },
    {
     "name": "stderr",
     "output_type": "stream",
     "text": [
      "\r",
      " 63%|█████████████████████████████████████████████▉                           | 62934/100000 [1:18:21<59:59, 10.30it/s]"
     ]
    },
    {
     "name": "stdout",
     "output_type": "stream",
     "text": [
      "self.evaluation_deque: deque([0.5548412668091883, 0.48223680808516933, 0.5271906900164809, 0.6872238632684121, 0.44801174175641834, 0.4620030317344992, 0.5338734379580969, 0.4624659040318008, 0.6645598610406068, 0.6327433556032375, 0.5312947454933615, 0.6521314071172097, 0.47910087366504006, 0.6111983693645998, 0.5065053396203024, 0.7365753464309893, 0.5214202195223137, 0.5581931987900319, 0.48557357316304095, 0.4866826031377089], maxlen=20)\n",
      "eval_mean: 0.5511912818304254\n"
     ]
    },
    {
     "name": "stderr",
     "output_type": "stream",
     "text": [
      "\r",
      " 63%|████████████████████████████████████████████▋                          | 63010/100000 [1:18:29<1:01:50,  9.97it/s]"
     ]
    },
    {
     "name": "stdout",
     "output_type": "stream",
     "text": [
      "self.evaluation_deque: deque([0.5548412668091883, 0.48223680808516933, 0.5271906900164809, 0.6872238632684121, 0.44801174175641834, 0.4620030317344992, 0.5338734379580969, 0.4624659040318008, 0.6645598610406068, 0.6327433556032375, 0.5312947454933615, 0.6521314071172097, 0.47910087366504006, 0.6111983693645998, 0.5065053396203024, 0.7365753464309893, 0.5214202195223137, 0.5581931987900319, 0.48557357316304095, 0.4866826031377089], maxlen=20)\n",
      "eval_mean: 0.5511912818304254\n"
     ]
    },
    {
     "name": "stderr",
     "output_type": "stream",
     "text": [
      "\r",
      " 63%|████████████████████████████████████████████▊                          | 63086/100000 [1:18:40<1:09:52,  8.81it/s]"
     ]
    },
    {
     "name": "stdout",
     "output_type": "stream",
     "text": [
      "self.get_collection_ratio(): 0.7339834342458798\n",
      "self.comms.count(True) : 3\n",
      "len(self.comms) : 3\n",
      "self.state.ratio_commed: 1.0\n",
      "self.comms.count(True) : 3\n",
      "len(self.comms) : 3\n",
      "self.evaluation_deque: deque([0.48223680808516933, 0.5271906900164809, 0.6872238632684121, 0.44801174175641834, 0.4620030317344992, 0.5338734379580969, 0.4624659040318008, 0.6645598610406068, 0.6327433556032375, 0.5312947454933615, 0.6521314071172097, 0.47910087366504006, 0.6111983693645998, 0.5065053396203024, 0.7365753464309893, 0.5214202195223137, 0.5581931987900319, 0.48557357316304095, 0.4866826031377089, 0.7339834342458798], maxlen=20)\n",
      "eval_mean: 0.5601483902022601\n"
     ]
    },
    {
     "name": "stderr",
     "output_type": "stream",
     "text": [
      "\r",
      " 63%|████████████████████████████████████████████▊                          | 63162/100000 [1:18:54<1:23:38,  7.34it/s]"
     ]
    },
    {
     "name": "stdout",
     "output_type": "stream",
     "text": [
      "self.evaluation_deque: deque([0.48223680808516933, 0.5271906900164809, 0.6872238632684121, 0.44801174175641834, 0.4620030317344992, 0.5338734379580969, 0.4624659040318008, 0.6645598610406068, 0.6327433556032375, 0.5312947454933615, 0.6521314071172097, 0.47910087366504006, 0.6111983693645998, 0.5065053396203024, 0.7365753464309893, 0.5214202195223137, 0.5581931987900319, 0.48557357316304095, 0.4866826031377089, 0.7339834342458798], maxlen=20)\n",
      "eval_mean: 0.5601483902022601\n"
     ]
    },
    {
     "name": "stderr",
     "output_type": "stream",
     "text": [
      "\r",
      " 63%|████████████████████████████████████████████▉                          | 63238/100000 [1:19:01<1:15:24,  8.13it/s]"
     ]
    },
    {
     "name": "stdout",
     "output_type": "stream",
     "text": [
      "self.evaluation_deque: deque([0.48223680808516933, 0.5271906900164809, 0.6872238632684121, 0.44801174175641834, 0.4620030317344992, 0.5338734379580969, 0.4624659040318008, 0.6645598610406068, 0.6327433556032375, 0.5312947454933615, 0.6521314071172097, 0.47910087366504006, 0.6111983693645998, 0.5065053396203024, 0.7365753464309893, 0.5214202195223137, 0.5581931987900319, 0.48557357316304095, 0.4866826031377089, 0.7339834342458798], maxlen=20)\n",
      "eval_mean: 0.5601483902022601\n"
     ]
    },
    {
     "name": "stderr",
     "output_type": "stream",
     "text": [
      "\r",
      " 63%|████████████████████████████████████████████▉                          | 63314/100000 [1:19:07<1:06:58,  9.13it/s]"
     ]
    },
    {
     "name": "stdout",
     "output_type": "stream",
     "text": [
      "self.evaluation_deque: deque([0.48223680808516933, 0.5271906900164809, 0.6872238632684121, 0.44801174175641834, 0.4620030317344992, 0.5338734379580969, 0.4624659040318008, 0.6645598610406068, 0.6327433556032375, 0.5312947454933615, 0.6521314071172097, 0.47910087366504006, 0.6111983693645998, 0.5065053396203024, 0.7365753464309893, 0.5214202195223137, 0.5581931987900319, 0.48557357316304095, 0.4866826031377089, 0.7339834342458798], maxlen=20)\n",
      "eval_mean: 0.5601483902022601\n"
     ]
    },
    {
     "name": "stderr",
     "output_type": "stream",
     "text": [
      "\r",
      " 63%|█████████████████████████████████████████████                          | 63390/100000 [1:19:13<1:00:55, 10.02it/s]"
     ]
    },
    {
     "name": "stdout",
     "output_type": "stream",
     "text": [
      "self.evaluation_deque: deque([0.48223680808516933, 0.5271906900164809, 0.6872238632684121, 0.44801174175641834, 0.4620030317344992, 0.5338734379580969, 0.4624659040318008, 0.6645598610406068, 0.6327433556032375, 0.5312947454933615, 0.6521314071172097, 0.47910087366504006, 0.6111983693645998, 0.5065053396203024, 0.7365753464309893, 0.5214202195223137, 0.5581931987900319, 0.48557357316304095, 0.4866826031377089, 0.7339834342458798], maxlen=20)\n",
      "eval_mean: 0.5601483902022601\n"
     ]
    },
    {
     "name": "stderr",
     "output_type": "stream",
     "text": [
      "\r",
      " 63%|█████████████████████████████████████████████                          | 63466/100000 [1:19:22<1:04:01,  9.51it/s]"
     ]
    },
    {
     "name": "stdout",
     "output_type": "stream",
     "text": [
      "self.get_collection_ratio(): 0.9111926176599844\n",
      "self.comms.count(True) : 2\n",
      "len(self.comms) : 3\n",
      "self.state.ratio_commed: 0.6666666666666666\n",
      "self.comms.count(True) : 2\n",
      "len(self.comms) : 3\n",
      "self.evaluation_deque: deque([0.5271906900164809, 0.6872238632684121, 0.44801174175641834, 0.4620030317344992, 0.5338734379580969, 0.4624659040318008, 0.6645598610406068, 0.6327433556032375, 0.5312947454933615, 0.6521314071172097, 0.47910087366504006, 0.6111983693645998, 0.5065053396203024, 0.7365753464309893, 0.5214202195223137, 0.5581931987900319, 0.48557357316304095, 0.4866826031377089, 0.7339834342458798, 0.6074617451066562], maxlen=20)\n",
      "eval_mean: 0.5664096370533345\n"
     ]
    },
    {
     "name": "stderr",
     "output_type": "stream",
     "text": [
      "\r",
      " 64%|██████████████████████████████████████████████▍                          | 63542/100000 [1:19:28<58:28, 10.39it/s]"
     ]
    },
    {
     "name": "stdout",
     "output_type": "stream",
     "text": [
      "self.evaluation_deque: deque([0.5271906900164809, 0.6872238632684121, 0.44801174175641834, 0.4620030317344992, 0.5338734379580969, 0.4624659040318008, 0.6645598610406068, 0.6327433556032375, 0.5312947454933615, 0.6521314071172097, 0.47910087366504006, 0.6111983693645998, 0.5065053396203024, 0.7365753464309893, 0.5214202195223137, 0.5581931987900319, 0.48557357316304095, 0.4866826031377089, 0.7339834342458798, 0.6074617451066562], maxlen=20)\n",
      "eval_mean: 0.5664096370533345\n"
     ]
    },
    {
     "name": "stderr",
     "output_type": "stream",
     "text": [
      "\r",
      " 64%|██████████████████████████████████████████████▍                          | 63618/100000 [1:19:34<54:39, 11.09it/s]"
     ]
    },
    {
     "name": "stdout",
     "output_type": "stream",
     "text": [
      "self.evaluation_deque: deque([0.5271906900164809, 0.6872238632684121, 0.44801174175641834, 0.4620030317344992, 0.5338734379580969, 0.4624659040318008, 0.6645598610406068, 0.6327433556032375, 0.5312947454933615, 0.6521314071172097, 0.47910087366504006, 0.6111983693645998, 0.5065053396203024, 0.7365753464309893, 0.5214202195223137, 0.5581931987900319, 0.48557357316304095, 0.4866826031377089, 0.7339834342458798, 0.6074617451066562], maxlen=20)\n",
      "eval_mean: 0.5664096370533345\n"
     ]
    },
    {
     "name": "stderr",
     "output_type": "stream",
     "text": [
      "\r",
      " 64%|██████████████████████████████████████████████▍                          | 63694/100000 [1:19:40<54:13, 11.16it/s]"
     ]
    },
    {
     "name": "stdout",
     "output_type": "stream",
     "text": [
      "self.evaluation_deque: deque([0.5271906900164809, 0.6872238632684121, 0.44801174175641834, 0.4620030317344992, 0.5338734379580969, 0.4624659040318008, 0.6645598610406068, 0.6327433556032375, 0.5312947454933615, 0.6521314071172097, 0.47910087366504006, 0.6111983693645998, 0.5065053396203024, 0.7365753464309893, 0.5214202195223137, 0.5581931987900319, 0.48557357316304095, 0.4866826031377089, 0.7339834342458798, 0.6074617451066562], maxlen=20)\n",
      "eval_mean: 0.5664096370533345\n"
     ]
    },
    {
     "name": "stderr",
     "output_type": "stream",
     "text": [
      "\r",
      " 64%|██████████████████████████████████████████████▌                          | 63770/100000 [1:19:47<54:39, 11.05it/s]"
     ]
    },
    {
     "name": "stdout",
     "output_type": "stream",
     "text": [
      "self.evaluation_deque: deque([0.5271906900164809, 0.6872238632684121, 0.44801174175641834, 0.4620030317344992, 0.5338734379580969, 0.4624659040318008, 0.6645598610406068, 0.6327433556032375, 0.5312947454933615, 0.6521314071172097, 0.47910087366504006, 0.6111983693645998, 0.5065053396203024, 0.7365753464309893, 0.5214202195223137, 0.5581931987900319, 0.48557357316304095, 0.4866826031377089, 0.7339834342458798, 0.6074617451066562], maxlen=20)\n",
      "eval_mean: 0.5664096370533345\n"
     ]
    },
    {
     "name": "stderr",
     "output_type": "stream",
     "text": [
      "\r",
      " 64%|██████████████████████████████████████████████▌                          | 63846/100000 [1:19:56<57:36, 10.46it/s]"
     ]
    },
    {
     "name": "stdout",
     "output_type": "stream",
     "text": [
      "self.get_collection_ratio(): 0.6515907945727545\n",
      "self.comms.count(True) : 2\n",
      "len(self.comms) : 2\n",
      "self.state.ratio_commed: 1.0\n",
      "self.comms.count(True) : 2\n",
      "len(self.comms) : 2\n",
      "self.evaluation_deque: deque([0.6872238632684121, 0.44801174175641834, 0.4620030317344992, 0.5338734379580969, 0.4624659040318008, 0.6645598610406068, 0.6327433556032375, 0.5312947454933615, 0.6521314071172097, 0.47910087366504006, 0.6111983693645998, 0.5065053396203024, 0.7365753464309893, 0.5214202195223137, 0.5581931987900319, 0.48557357316304095, 0.4866826031377089, 0.7339834342458798, 0.6074617451066562, 0.6515907945727545], maxlen=20)\n",
      "eval_mean: 0.5726296422811481\n"
     ]
    },
    {
     "name": "stderr",
     "output_type": "stream",
     "text": [
      "\r",
      " 64%|██████████████████████████████████████████████▋                          | 63922/100000 [1:20:04<59:21, 10.13it/s]"
     ]
    },
    {
     "name": "stdout",
     "output_type": "stream",
     "text": [
      "self.evaluation_deque: deque([0.6872238632684121, 0.44801174175641834, 0.4620030317344992, 0.5338734379580969, 0.4624659040318008, 0.6645598610406068, 0.6327433556032375, 0.5312947454933615, 0.6521314071172097, 0.47910087366504006, 0.6111983693645998, 0.5065053396203024, 0.7365753464309893, 0.5214202195223137, 0.5581931987900319, 0.48557357316304095, 0.4866826031377089, 0.7339834342458798, 0.6074617451066562, 0.6515907945727545], maxlen=20)\n",
      "eval_mean: 0.5726296422811481\n"
     ]
    },
    {
     "name": "stderr",
     "output_type": "stream",
     "text": [
      "\r",
      " 64%|██████████████████████████████████████████████▋                          | 63998/100000 [1:20:09<55:10, 10.87it/s]"
     ]
    },
    {
     "name": "stdout",
     "output_type": "stream",
     "text": [
      "self.evaluation_deque: deque([0.6872238632684121, 0.44801174175641834, 0.4620030317344992, 0.5338734379580969, 0.4624659040318008, 0.6645598610406068, 0.6327433556032375, 0.5312947454933615, 0.6521314071172097, 0.47910087366504006, 0.6111983693645998, 0.5065053396203024, 0.7365753464309893, 0.5214202195223137, 0.5581931987900319, 0.48557357316304095, 0.4866826031377089, 0.7339834342458798, 0.6074617451066562, 0.6515907945727545], maxlen=20)\n",
      "eval_mean: 0.5726296422811481\n"
     ]
    },
    {
     "name": "stderr",
     "output_type": "stream",
     "text": [
      "\r",
      " 64%|██████████████████████████████████████████████▊                          | 64074/100000 [1:20:15<52:12, 11.47it/s]"
     ]
    },
    {
     "name": "stdout",
     "output_type": "stream",
     "text": [
      "self.evaluation_deque: deque([0.6872238632684121, 0.44801174175641834, 0.4620030317344992, 0.5338734379580969, 0.4624659040318008, 0.6645598610406068, 0.6327433556032375, 0.5312947454933615, 0.6521314071172097, 0.47910087366504006, 0.6111983693645998, 0.5065053396203024, 0.7365753464309893, 0.5214202195223137, 0.5581931987900319, 0.48557357316304095, 0.4866826031377089, 0.7339834342458798, 0.6074617451066562, 0.6515907945727545], maxlen=20)\n",
      "eval_mean: 0.5726296422811481\n"
     ]
    },
    {
     "name": "stderr",
     "output_type": "stream",
     "text": [
      "\r",
      " 64%|██████████████████████████████████████████████▊                          | 64150/100000 [1:20:22<52:49, 11.31it/s]"
     ]
    },
    {
     "name": "stdout",
     "output_type": "stream",
     "text": [
      "self.evaluation_deque: deque([0.6872238632684121, 0.44801174175641834, 0.4620030317344992, 0.5338734379580969, 0.4624659040318008, 0.6645598610406068, 0.6327433556032375, 0.5312947454933615, 0.6521314071172097, 0.47910087366504006, 0.6111983693645998, 0.5065053396203024, 0.7365753464309893, 0.5214202195223137, 0.5581931987900319, 0.48557357316304095, 0.4866826031377089, 0.7339834342458798, 0.6074617451066562, 0.6515907945727545], maxlen=20)\n",
      "eval_mean: 0.5726296422811481\n"
     ]
    },
    {
     "name": "stderr",
     "output_type": "stream",
     "text": [
      "\r",
      " 64%|██████████████████████████████████████████████▉                          | 64226/100000 [1:20:32<58:58, 10.11it/s]"
     ]
    },
    {
     "name": "stdout",
     "output_type": "stream",
     "text": [
      "self.get_collection_ratio(): 0.6748359244660298\n",
      "self.comms.count(True) : 2\n",
      "len(self.comms) : 2\n",
      "self.state.ratio_commed: 1.0\n",
      "self.comms.count(True) : 2\n",
      "len(self.comms) : 2\n",
      "self.evaluation_deque: deque([0.44801174175641834, 0.4620030317344992, 0.5338734379580969, 0.4624659040318008, 0.6645598610406068, 0.6327433556032375, 0.5312947454933615, 0.6521314071172097, 0.47910087366504006, 0.6111983693645998, 0.5065053396203024, 0.7365753464309893, 0.5214202195223137, 0.5581931987900319, 0.48557357316304095, 0.4866826031377089, 0.7339834342458798, 0.6074617451066562, 0.6515907945727545, 0.6748359244660298], maxlen=20)\n",
      "eval_mean: 0.572010245341029\n"
     ]
    },
    {
     "name": "stderr",
     "output_type": "stream",
     "text": [
      "\r",
      " 64%|██████████████████████████████████████████████▉                          | 64302/100000 [1:20:37<54:43, 10.87it/s]"
     ]
    },
    {
     "name": "stdout",
     "output_type": "stream",
     "text": [
      "self.evaluation_deque: deque([0.44801174175641834, 0.4620030317344992, 0.5338734379580969, 0.4624659040318008, 0.6645598610406068, 0.6327433556032375, 0.5312947454933615, 0.6521314071172097, 0.47910087366504006, 0.6111983693645998, 0.5065053396203024, 0.7365753464309893, 0.5214202195223137, 0.5581931987900319, 0.48557357316304095, 0.4866826031377089, 0.7339834342458798, 0.6074617451066562, 0.6515907945727545, 0.6748359244660298], maxlen=20)\n",
      "eval_mean: 0.572010245341029\n"
     ]
    },
    {
     "name": "stderr",
     "output_type": "stream",
     "text": [
      "\r",
      " 64%|██████████████████████████████████████████████▉                          | 64378/100000 [1:20:43<51:43, 11.48it/s]"
     ]
    },
    {
     "name": "stdout",
     "output_type": "stream",
     "text": [
      "self.evaluation_deque: deque([0.44801174175641834, 0.4620030317344992, 0.5338734379580969, 0.4624659040318008, 0.6645598610406068, 0.6327433556032375, 0.5312947454933615, 0.6521314071172097, 0.47910087366504006, 0.6111983693645998, 0.5065053396203024, 0.7365753464309893, 0.5214202195223137, 0.5581931987900319, 0.48557357316304095, 0.4866826031377089, 0.7339834342458798, 0.6074617451066562, 0.6515907945727545, 0.6748359244660298], maxlen=20)\n",
      "eval_mean: 0.572010245341029\n"
     ]
    },
    {
     "name": "stderr",
     "output_type": "stream",
     "text": [
      "\r",
      " 64%|███████████████████████████████████████████████                          | 64454/100000 [1:20:49<49:48, 11.89it/s]"
     ]
    },
    {
     "name": "stdout",
     "output_type": "stream",
     "text": [
      "self.evaluation_deque: deque([0.44801174175641834, 0.4620030317344992, 0.5338734379580969, 0.4624659040318008, 0.6645598610406068, 0.6327433556032375, 0.5312947454933615, 0.6521314071172097, 0.47910087366504006, 0.6111983693645998, 0.5065053396203024, 0.7365753464309893, 0.5214202195223137, 0.5581931987900319, 0.48557357316304095, 0.4866826031377089, 0.7339834342458798, 0.6074617451066562, 0.6515907945727545, 0.6748359244660298], maxlen=20)\n",
      "eval_mean: 0.572010245341029\n"
     ]
    },
    {
     "name": "stderr",
     "output_type": "stream",
     "text": [
      "\r",
      " 65%|███████████████████████████████████████████████                          | 64530/100000 [1:20:56<51:00, 11.59it/s]"
     ]
    },
    {
     "name": "stdout",
     "output_type": "stream",
     "text": [
      "self.evaluation_deque: deque([0.44801174175641834, 0.4620030317344992, 0.5338734379580969, 0.4624659040318008, 0.6645598610406068, 0.6327433556032375, 0.5312947454933615, 0.6521314071172097, 0.47910087366504006, 0.6111983693645998, 0.5065053396203024, 0.7365753464309893, 0.5214202195223137, 0.5581931987900319, 0.48557357316304095, 0.4866826031377089, 0.7339834342458798, 0.6074617451066562, 0.6515907945727545, 0.6748359244660298], maxlen=20)\n",
      "eval_mean: 0.572010245341029\n"
     ]
    },
    {
     "name": "stderr",
     "output_type": "stream",
     "text": [
      "\r",
      " 65%|███████████████████████████████████████████████▏                         | 64606/100000 [1:21:05<58:04, 10.16it/s]"
     ]
    },
    {
     "name": "stdout",
     "output_type": "stream",
     "text": [
      "self.get_collection_ratio(): 0.5192799485693734\n",
      "self.comms.count(True) : 1\n",
      "len(self.comms) : 1\n",
      "self.state.ratio_commed: 1.0\n",
      "self.comms.count(True) : 1\n",
      "len(self.comms) : 1\n",
      "self.evaluation_deque: deque([0.4620030317344992, 0.5338734379580969, 0.4624659040318008, 0.6645598610406068, 0.6327433556032375, 0.5312947454933615, 0.6521314071172097, 0.47910087366504006, 0.6111983693645998, 0.5065053396203024, 0.7365753464309893, 0.5214202195223137, 0.5581931987900319, 0.48557357316304095, 0.4866826031377089, 0.7339834342458798, 0.6074617451066562, 0.6515907945727545, 0.6748359244660298, 0.5192799485693734], maxlen=20)\n",
      "eval_mean: 0.5755736556816766\n"
     ]
    },
    {
     "name": "stderr",
     "output_type": "stream",
     "text": [
      "\r",
      " 65%|███████████████████████████████████████████████▏                         | 64682/100000 [1:21:13<58:47, 10.01it/s]"
     ]
    },
    {
     "name": "stdout",
     "output_type": "stream",
     "text": [
      "self.evaluation_deque: deque([0.4620030317344992, 0.5338734379580969, 0.4624659040318008, 0.6645598610406068, 0.6327433556032375, 0.5312947454933615, 0.6521314071172097, 0.47910087366504006, 0.6111983693645998, 0.5065053396203024, 0.7365753464309893, 0.5214202195223137, 0.5581931987900319, 0.48557357316304095, 0.4866826031377089, 0.7339834342458798, 0.6074617451066562, 0.6515907945727545, 0.6748359244660298, 0.5192799485693734], maxlen=20)\n",
      "eval_mean: 0.5755736556816766\n"
     ]
    },
    {
     "name": "stderr",
     "output_type": "stream",
     "text": [
      "\r",
      " 65%|███████████████████████████████████████████████▎                         | 64758/100000 [1:21:21<59:28,  9.88it/s]"
     ]
    },
    {
     "name": "stdout",
     "output_type": "stream",
     "text": [
      "self.evaluation_deque: deque([0.4620030317344992, 0.5338734379580969, 0.4624659040318008, 0.6645598610406068, 0.6327433556032375, 0.5312947454933615, 0.6521314071172097, 0.47910087366504006, 0.6111983693645998, 0.5065053396203024, 0.7365753464309893, 0.5214202195223137, 0.5581931987900319, 0.48557357316304095, 0.4866826031377089, 0.7339834342458798, 0.6074617451066562, 0.6515907945727545, 0.6748359244660298, 0.5192799485693734], maxlen=20)\n",
      "eval_mean: 0.5755736556816766\n"
     ]
    },
    {
     "name": "stderr",
     "output_type": "stream",
     "text": [
      "\r",
      " 65%|███████████████████████████████████████████████▎                         | 64834/100000 [1:21:27<54:54, 10.68it/s]"
     ]
    },
    {
     "name": "stdout",
     "output_type": "stream",
     "text": [
      "self.evaluation_deque: deque([0.4620030317344992, 0.5338734379580969, 0.4624659040318008, 0.6645598610406068, 0.6327433556032375, 0.5312947454933615, 0.6521314071172097, 0.47910087366504006, 0.6111983693645998, 0.5065053396203024, 0.7365753464309893, 0.5214202195223137, 0.5581931987900319, 0.48557357316304095, 0.4866826031377089, 0.7339834342458798, 0.6074617451066562, 0.6515907945727545, 0.6748359244660298, 0.5192799485693734], maxlen=20)\n",
      "eval_mean: 0.5755736556816766\n"
     ]
    },
    {
     "name": "stderr",
     "output_type": "stream",
     "text": [
      "\r",
      " 65%|███████████████████████████████████████████████▍                         | 64910/100000 [1:21:35<56:30, 10.35it/s]"
     ]
    },
    {
     "name": "stdout",
     "output_type": "stream",
     "text": [
      "self.evaluation_deque: deque([0.4620030317344992, 0.5338734379580969, 0.4624659040318008, 0.6645598610406068, 0.6327433556032375, 0.5312947454933615, 0.6521314071172097, 0.47910087366504006, 0.6111983693645998, 0.5065053396203024, 0.7365753464309893, 0.5214202195223137, 0.5581931987900319, 0.48557357316304095, 0.4866826031377089, 0.7339834342458798, 0.6074617451066562, 0.6515907945727545, 0.6748359244660298, 0.5192799485693734], maxlen=20)\n",
      "eval_mean: 0.5755736556816766\n"
     ]
    },
    {
     "name": "stderr",
     "output_type": "stream",
     "text": [
      "\r",
      " 65%|██████████████████████████████████████████████▏                        | 64986/100000 [1:21:45<1:02:11,  9.38it/s]"
     ]
    },
    {
     "name": "stdout",
     "output_type": "stream",
     "text": [
      "self.get_collection_ratio(): 0.86762739490843\n",
      "self.comms.count(True) : 2\n",
      "len(self.comms) : 3\n",
      "self.state.ratio_commed: 0.6666666666666666\n",
      "self.comms.count(True) : 2\n",
      "len(self.comms) : 3\n",
      "self.evaluation_deque: deque([0.5338734379580969, 0.4624659040318008, 0.6645598610406068, 0.6327433556032375, 0.5312947454933615, 0.6521314071172097, 0.47910087366504006, 0.6111983693645998, 0.5065053396203024, 0.7365753464309893, 0.5214202195223137, 0.5581931987900319, 0.48557357316304095, 0.4866826031377089, 0.7339834342458798, 0.6074617451066562, 0.6515907945727545, 0.6748359244660298, 0.5192799485693734, 0.5784182632722866], maxlen=20)\n",
      "eval_mean: 0.5813944172585661\n"
     ]
    },
    {
     "name": "stderr",
     "output_type": "stream",
     "text": [
      "\r",
      " 65%|███████████████████████████████████████████████▍                         | 65062/100000 [1:21:52<59:25,  9.80it/s]"
     ]
    },
    {
     "name": "stdout",
     "output_type": "stream",
     "text": [
      "self.evaluation_deque: deque([0.5338734379580969, 0.4624659040318008, 0.6645598610406068, 0.6327433556032375, 0.5312947454933615, 0.6521314071172097, 0.47910087366504006, 0.6111983693645998, 0.5065053396203024, 0.7365753464309893, 0.5214202195223137, 0.5581931987900319, 0.48557357316304095, 0.4866826031377089, 0.7339834342458798, 0.6074617451066562, 0.6515907945727545, 0.6748359244660298, 0.5192799485693734, 0.5784182632722866], maxlen=20)\n",
      "eval_mean: 0.5813944172585661\n"
     ]
    },
    {
     "name": "stderr",
     "output_type": "stream",
     "text": [
      "\r",
      " 65%|███████████████████████████████████████████████▌                         | 65138/100000 [1:22:00<59:31,  9.76it/s]"
     ]
    },
    {
     "name": "stdout",
     "output_type": "stream",
     "text": [
      "self.evaluation_deque: deque([0.5338734379580969, 0.4624659040318008, 0.6645598610406068, 0.6327433556032375, 0.5312947454933615, 0.6521314071172097, 0.47910087366504006, 0.6111983693645998, 0.5065053396203024, 0.7365753464309893, 0.5214202195223137, 0.5581931987900319, 0.48557357316304095, 0.4866826031377089, 0.7339834342458798, 0.6074617451066562, 0.6515907945727545, 0.6748359244660298, 0.5192799485693734, 0.5784182632722866], maxlen=20)\n",
      "eval_mean: 0.5813944172585661\n"
     ]
    },
    {
     "name": "stderr",
     "output_type": "stream",
     "text": [
      "\r",
      " 65%|███████████████████████████████████████████████▌                         | 65214/100000 [1:22:05<55:04, 10.53it/s]"
     ]
    },
    {
     "name": "stdout",
     "output_type": "stream",
     "text": [
      "self.evaluation_deque: deque([0.5338734379580969, 0.4624659040318008, 0.6645598610406068, 0.6327433556032375, 0.5312947454933615, 0.6521314071172097, 0.47910087366504006, 0.6111983693645998, 0.5065053396203024, 0.7365753464309893, 0.5214202195223137, 0.5581931987900319, 0.48557357316304095, 0.4866826031377089, 0.7339834342458798, 0.6074617451066562, 0.6515907945727545, 0.6748359244660298, 0.5192799485693734, 0.5784182632722866], maxlen=20)\n",
      "eval_mean: 0.5813944172585661\n"
     ]
    },
    {
     "name": "stderr",
     "output_type": "stream",
     "text": [
      "\r",
      " 65%|███████████████████████████████████████████████▋                         | 65290/100000 [1:22:12<54:26, 10.62it/s]"
     ]
    },
    {
     "name": "stdout",
     "output_type": "stream",
     "text": [
      "self.evaluation_deque: deque([0.5338734379580969, 0.4624659040318008, 0.6645598610406068, 0.6327433556032375, 0.5312947454933615, 0.6521314071172097, 0.47910087366504006, 0.6111983693645998, 0.5065053396203024, 0.7365753464309893, 0.5214202195223137, 0.5581931987900319, 0.48557357316304095, 0.4866826031377089, 0.7339834342458798, 0.6074617451066562, 0.6515907945727545, 0.6748359244660298, 0.5192799485693734, 0.5784182632722866], maxlen=20)\n",
      "eval_mean: 0.5813944172585661\n"
     ]
    },
    {
     "name": "stderr",
     "output_type": "stream",
     "text": [
      "\r",
      " 65%|███████████████████████████████████████████████▋                         | 65366/100000 [1:22:21<57:23, 10.06it/s]"
     ]
    },
    {
     "name": "stdout",
     "output_type": "stream",
     "text": [
      "self.get_collection_ratio(): 0.5230945707369712\n",
      "self.comms.count(True) : 1\n",
      "len(self.comms) : 1\n",
      "self.state.ratio_commed: 1.0\n",
      "self.comms.count(True) : 1\n",
      "len(self.comms) : 1\n",
      "self.evaluation_deque: deque([0.4624659040318008, 0.6645598610406068, 0.6327433556032375, 0.5312947454933615, 0.6521314071172097, 0.47910087366504006, 0.6111983693645998, 0.5065053396203024, 0.7365753464309893, 0.5214202195223137, 0.5581931987900319, 0.48557357316304095, 0.4866826031377089, 0.7339834342458798, 0.6074617451066562, 0.6515907945727545, 0.6748359244660298, 0.5192799485693734, 0.5784182632722866, 0.5230945707369712], maxlen=20)\n",
      "eval_mean: 0.5808554738975098\n"
     ]
    },
    {
     "name": "stderr",
     "output_type": "stream",
     "text": [
      "\r",
      " 65%|███████████████████████████████████████████████▊                         | 65442/100000 [1:22:28<55:54, 10.30it/s]"
     ]
    },
    {
     "name": "stdout",
     "output_type": "stream",
     "text": [
      "self.evaluation_deque: deque([0.4624659040318008, 0.6645598610406068, 0.6327433556032375, 0.5312947454933615, 0.6521314071172097, 0.47910087366504006, 0.6111983693645998, 0.5065053396203024, 0.7365753464309893, 0.5214202195223137, 0.5581931987900319, 0.48557357316304095, 0.4866826031377089, 0.7339834342458798, 0.6074617451066562, 0.6515907945727545, 0.6748359244660298, 0.5192799485693734, 0.5784182632722866, 0.5230945707369712], maxlen=20)\n",
      "eval_mean: 0.5808554738975098\n"
     ]
    },
    {
     "name": "stderr",
     "output_type": "stream",
     "text": [
      "\r",
      " 66%|███████████████████████████████████████████████▊                         | 65518/100000 [1:22:34<52:13, 11.01it/s]"
     ]
    },
    {
     "name": "stdout",
     "output_type": "stream",
     "text": [
      "self.evaluation_deque: deque([0.4624659040318008, 0.6645598610406068, 0.6327433556032375, 0.5312947454933615, 0.6521314071172097, 0.47910087366504006, 0.6111983693645998, 0.5065053396203024, 0.7365753464309893, 0.5214202195223137, 0.5581931987900319, 0.48557357316304095, 0.4866826031377089, 0.7339834342458798, 0.6074617451066562, 0.6515907945727545, 0.6748359244660298, 0.5192799485693734, 0.5784182632722866, 0.5230945707369712], maxlen=20)\n",
      "eval_mean: 0.5808554738975098\n"
     ]
    },
    {
     "name": "stderr",
     "output_type": "stream",
     "text": [
      "\r",
      " 66%|███████████████████████████████████████████████▉                         | 65594/100000 [1:22:42<54:51, 10.45it/s]"
     ]
    },
    {
     "name": "stdout",
     "output_type": "stream",
     "text": [
      "self.evaluation_deque: deque([0.4624659040318008, 0.6645598610406068, 0.6327433556032375, 0.5312947454933615, 0.6521314071172097, 0.47910087366504006, 0.6111983693645998, 0.5065053396203024, 0.7365753464309893, 0.5214202195223137, 0.5581931987900319, 0.48557357316304095, 0.4866826031377089, 0.7339834342458798, 0.6074617451066562, 0.6515907945727545, 0.6748359244660298, 0.5192799485693734, 0.5784182632722866, 0.5230945707369712], maxlen=20)\n",
      "eval_mean: 0.5808554738975098\n"
     ]
    },
    {
     "name": "stderr",
     "output_type": "stream",
     "text": [
      "\r",
      " 66%|███████████████████████████████████████████████▉                         | 65670/100000 [1:22:48<51:28, 11.12it/s]"
     ]
    },
    {
     "name": "stdout",
     "output_type": "stream",
     "text": [
      "self.evaluation_deque: deque([0.4624659040318008, 0.6645598610406068, 0.6327433556032375, 0.5312947454933615, 0.6521314071172097, 0.47910087366504006, 0.6111983693645998, 0.5065053396203024, 0.7365753464309893, 0.5214202195223137, 0.5581931987900319, 0.48557357316304095, 0.4866826031377089, 0.7339834342458798, 0.6074617451066562, 0.6515907945727545, 0.6748359244660298, 0.5192799485693734, 0.5784182632722866, 0.5230945707369712], maxlen=20)\n",
      "eval_mean: 0.5808554738975098\n"
     ]
    },
    {
     "name": "stderr",
     "output_type": "stream",
     "text": [
      "\r",
      " 66%|███████████████████████████████████████████████▉                         | 65746/100000 [1:22:58<58:50,  9.70it/s]"
     ]
    },
    {
     "name": "stdout",
     "output_type": "stream",
     "text": [
      "self.get_collection_ratio(): 0.6866071400321059\n",
      "self.comms.count(True) : 3\n",
      "len(self.comms) : 3\n",
      "self.state.ratio_commed: 1.0\n",
      "self.comms.count(True) : 3\n",
      "len(self.comms) : 3\n",
      "self.evaluation_deque: deque([0.6645598610406068, 0.6327433556032375, 0.5312947454933615, 0.6521314071172097, 0.47910087366504006, 0.6111983693645998, 0.5065053396203024, 0.7365753464309893, 0.5214202195223137, 0.5581931987900319, 0.48557357316304095, 0.4866826031377089, 0.7339834342458798, 0.6074617451066562, 0.6515907945727545, 0.6748359244660298, 0.5192799485693734, 0.5784182632722866, 0.5230945707369712, 0.6866071400321059], maxlen=20)\n",
      "eval_mean: 0.592062535697525\n"
     ]
    },
    {
     "name": "stderr",
     "output_type": "stream",
     "text": [
      "\r",
      " 66%|████████████████████████████████████████████████                         | 65822/100000 [1:23:05<57:03,  9.98it/s]"
     ]
    },
    {
     "name": "stdout",
     "output_type": "stream",
     "text": [
      "self.evaluation_deque: deque([0.6645598610406068, 0.6327433556032375, 0.5312947454933615, 0.6521314071172097, 0.47910087366504006, 0.6111983693645998, 0.5065053396203024, 0.7365753464309893, 0.5214202195223137, 0.5581931987900319, 0.48557357316304095, 0.4866826031377089, 0.7339834342458798, 0.6074617451066562, 0.6515907945727545, 0.6748359244660298, 0.5192799485693734, 0.5784182632722866, 0.5230945707369712, 0.6866071400321059], maxlen=20)\n",
      "eval_mean: 0.592062535697525\n"
     ]
    },
    {
     "name": "stderr",
     "output_type": "stream",
     "text": [
      "\r",
      " 66%|████████████████████████████████████████████████                         | 65898/100000 [1:23:12<55:39, 10.21it/s]"
     ]
    },
    {
     "name": "stdout",
     "output_type": "stream",
     "text": [
      "self.evaluation_deque: deque([0.6645598610406068, 0.6327433556032375, 0.5312947454933615, 0.6521314071172097, 0.47910087366504006, 0.6111983693645998, 0.5065053396203024, 0.7365753464309893, 0.5214202195223137, 0.5581931987900319, 0.48557357316304095, 0.4866826031377089, 0.7339834342458798, 0.6074617451066562, 0.6515907945727545, 0.6748359244660298, 0.5192799485693734, 0.5784182632722866, 0.5230945707369712, 0.6866071400321059], maxlen=20)\n",
      "eval_mean: 0.592062535697525\n"
     ]
    },
    {
     "name": "stderr",
     "output_type": "stream",
     "text": [
      "\r",
      " 66%|████████████████████████████████████████████████▏                        | 65974/100000 [1:23:18<51:51, 10.94it/s]"
     ]
    },
    {
     "name": "stdout",
     "output_type": "stream",
     "text": [
      "self.evaluation_deque: deque([0.6645598610406068, 0.6327433556032375, 0.5312947454933615, 0.6521314071172097, 0.47910087366504006, 0.6111983693645998, 0.5065053396203024, 0.7365753464309893, 0.5214202195223137, 0.5581931987900319, 0.48557357316304095, 0.4866826031377089, 0.7339834342458798, 0.6074617451066562, 0.6515907945727545, 0.6748359244660298, 0.5192799485693734, 0.5784182632722866, 0.5230945707369712, 0.6866071400321059], maxlen=20)\n",
      "eval_mean: 0.592062535697525\n"
     ]
    },
    {
     "name": "stderr",
     "output_type": "stream",
     "text": [
      "\r",
      " 66%|████████████████████████████████████████████████▏                        | 66050/100000 [1:23:26<54:11, 10.44it/s]"
     ]
    },
    {
     "name": "stdout",
     "output_type": "stream",
     "text": [
      "self.evaluation_deque: deque([0.6645598610406068, 0.6327433556032375, 0.5312947454933615, 0.6521314071172097, 0.47910087366504006, 0.6111983693645998, 0.5065053396203024, 0.7365753464309893, 0.5214202195223137, 0.5581931987900319, 0.48557357316304095, 0.4866826031377089, 0.7339834342458798, 0.6074617451066562, 0.6515907945727545, 0.6748359244660298, 0.5192799485693734, 0.5784182632722866, 0.5230945707369712, 0.6866071400321059], maxlen=20)\n",
      "eval_mean: 0.592062535697525\n"
     ]
    },
    {
     "name": "stderr",
     "output_type": "stream",
     "text": [
      "\r",
      " 66%|████████████████████████████████████████████████▎                        | 66126/100000 [1:23:34<57:00,  9.90it/s]"
     ]
    },
    {
     "name": "stdout",
     "output_type": "stream",
     "text": [
      "self.get_collection_ratio(): 0.4997165065584009\n",
      "self.comms.count(True) : 1\n",
      "len(self.comms) : 1\n",
      "self.state.ratio_commed: 1.0\n",
      "self.comms.count(True) : 1\n",
      "len(self.comms) : 1\n",
      "self.evaluation_deque: deque([0.6327433556032375, 0.5312947454933615, 0.6521314071172097, 0.47910087366504006, 0.6111983693645998, 0.5065053396203024, 0.7365753464309893, 0.5214202195223137, 0.5581931987900319, 0.48557357316304095, 0.4866826031377089, 0.7339834342458798, 0.6074617451066562, 0.6515907945727545, 0.6748359244660298, 0.5192799485693734, 0.5784182632722866, 0.5230945707369712, 0.6866071400321059, 0.4997165065584009], maxlen=20)\n",
      "eval_mean: 0.5838203679734146\n"
     ]
    },
    {
     "name": "stderr",
     "output_type": "stream",
     "text": [
      "\r",
      " 66%|████████████████████████████████████████████████▎                        | 66202/100000 [1:23:42<57:17,  9.83it/s]"
     ]
    },
    {
     "name": "stdout",
     "output_type": "stream",
     "text": [
      "self.evaluation_deque: deque([0.6327433556032375, 0.5312947454933615, 0.6521314071172097, 0.47910087366504006, 0.6111983693645998, 0.5065053396203024, 0.7365753464309893, 0.5214202195223137, 0.5581931987900319, 0.48557357316304095, 0.4866826031377089, 0.7339834342458798, 0.6074617451066562, 0.6515907945727545, 0.6748359244660298, 0.5192799485693734, 0.5784182632722866, 0.5230945707369712, 0.6866071400321059, 0.4997165065584009], maxlen=20)\n",
      "eval_mean: 0.5838203679734146\n"
     ]
    },
    {
     "name": "stderr",
     "output_type": "stream",
     "text": [
      "\r",
      " 66%|████████████████████████████████████████████████▍                        | 66278/100000 [1:23:50<58:01,  9.69it/s]"
     ]
    },
    {
     "name": "stdout",
     "output_type": "stream",
     "text": [
      "self.evaluation_deque: deque([0.6327433556032375, 0.5312947454933615, 0.6521314071172097, 0.47910087366504006, 0.6111983693645998, 0.5065053396203024, 0.7365753464309893, 0.5214202195223137, 0.5581931987900319, 0.48557357316304095, 0.4866826031377089, 0.7339834342458798, 0.6074617451066562, 0.6515907945727545, 0.6748359244660298, 0.5192799485693734, 0.5784182632722866, 0.5230945707369712, 0.6866071400321059, 0.4997165065584009], maxlen=20)\n",
      "eval_mean: 0.5838203679734146\n"
     ]
    },
    {
     "name": "stderr",
     "output_type": "stream",
     "text": [
      "\r",
      " 66%|████████████████████████████████████████████████▍                        | 66354/100000 [1:23:56<53:25, 10.50it/s]"
     ]
    },
    {
     "name": "stdout",
     "output_type": "stream",
     "text": [
      "self.evaluation_deque: deque([0.6327433556032375, 0.5312947454933615, 0.6521314071172097, 0.47910087366504006, 0.6111983693645998, 0.5065053396203024, 0.7365753464309893, 0.5214202195223137, 0.5581931987900319, 0.48557357316304095, 0.4866826031377089, 0.7339834342458798, 0.6074617451066562, 0.6515907945727545, 0.6748359244660298, 0.5192799485693734, 0.5784182632722866, 0.5230945707369712, 0.6866071400321059, 0.4997165065584009], maxlen=20)\n",
      "eval_mean: 0.5838203679734146\n"
     ]
    },
    {
     "name": "stderr",
     "output_type": "stream",
     "text": [
      "\r",
      " 66%|████████████████████████████████████████████████▍                        | 66430/100000 [1:24:04<55:07, 10.15it/s]"
     ]
    },
    {
     "name": "stdout",
     "output_type": "stream",
     "text": [
      "self.evaluation_deque: deque([0.6327433556032375, 0.5312947454933615, 0.6521314071172097, 0.47910087366504006, 0.6111983693645998, 0.5065053396203024, 0.7365753464309893, 0.5214202195223137, 0.5581931987900319, 0.48557357316304095, 0.4866826031377089, 0.7339834342458798, 0.6074617451066562, 0.6515907945727545, 0.6748359244660298, 0.5192799485693734, 0.5784182632722866, 0.5230945707369712, 0.6866071400321059, 0.4997165065584009], maxlen=20)\n",
      "eval_mean: 0.5838203679734146\n"
     ]
    },
    {
     "name": "stderr",
     "output_type": "stream",
     "text": [
      "\r",
      " 67%|████████████████████████████████████████████████▌                        | 66506/100000 [1:24:14<59:05,  9.45it/s]"
     ]
    },
    {
     "name": "stdout",
     "output_type": "stream",
     "text": [
      "self.get_collection_ratio(): 0.6963502560799654\n",
      "self.comms.count(True) : 2\n",
      "len(self.comms) : 2\n",
      "self.state.ratio_commed: 1.0\n",
      "self.comms.count(True) : 2\n",
      "len(self.comms) : 2\n",
      "self.evaluation_deque: deque([0.5312947454933615, 0.6521314071172097, 0.47910087366504006, 0.6111983693645998, 0.5065053396203024, 0.7365753464309893, 0.5214202195223137, 0.5581931987900319, 0.48557357316304095, 0.4866826031377089, 0.7339834342458798, 0.6074617451066562, 0.6515907945727545, 0.6748359244660298, 0.5192799485693734, 0.5784182632722866, 0.5230945707369712, 0.6866071400321059, 0.4997165065584009, 0.6963502560799654], maxlen=20)\n",
      "eval_mean: 0.5870007129972511\n"
     ]
    },
    {
     "name": "stderr",
     "output_type": "stream",
     "text": [
      "\r",
      " 67%|████████████████████████████████████████████████▌                        | 66582/100000 [1:24:21<56:25,  9.87it/s]"
     ]
    },
    {
     "name": "stdout",
     "output_type": "stream",
     "text": [
      "self.evaluation_deque: deque([0.5312947454933615, 0.6521314071172097, 0.47910087366504006, 0.6111983693645998, 0.5065053396203024, 0.7365753464309893, 0.5214202195223137, 0.5581931987900319, 0.48557357316304095, 0.4866826031377089, 0.7339834342458798, 0.6074617451066562, 0.6515907945727545, 0.6748359244660298, 0.5192799485693734, 0.5784182632722866, 0.5230945707369712, 0.6866071400321059, 0.4997165065584009, 0.6963502560799654], maxlen=20)\n",
      "eval_mean: 0.5870007129972511\n"
     ]
    },
    {
     "name": "stderr",
     "output_type": "stream",
     "text": [
      "\r",
      " 67%|████████████████████████████████████████████████▋                        | 66658/100000 [1:24:27<54:40, 10.16it/s]"
     ]
    },
    {
     "name": "stdout",
     "output_type": "stream",
     "text": [
      "self.evaluation_deque: deque([0.5312947454933615, 0.6521314071172097, 0.47910087366504006, 0.6111983693645998, 0.5065053396203024, 0.7365753464309893, 0.5214202195223137, 0.5581931987900319, 0.48557357316304095, 0.4866826031377089, 0.7339834342458798, 0.6074617451066562, 0.6515907945727545, 0.6748359244660298, 0.5192799485693734, 0.5784182632722866, 0.5230945707369712, 0.6866071400321059, 0.4997165065584009, 0.6963502560799654], maxlen=20)\n",
      "eval_mean: 0.5870007129972511\n"
     ]
    },
    {
     "name": "stderr",
     "output_type": "stream",
     "text": [
      "\r",
      " 67%|████████████████████████████████████████████████▋                        | 66734/100000 [1:24:34<53:23, 10.38it/s]"
     ]
    },
    {
     "name": "stdout",
     "output_type": "stream",
     "text": [
      "self.evaluation_deque: deque([0.5312947454933615, 0.6521314071172097, 0.47910087366504006, 0.6111983693645998, 0.5065053396203024, 0.7365753464309893, 0.5214202195223137, 0.5581931987900319, 0.48557357316304095, 0.4866826031377089, 0.7339834342458798, 0.6074617451066562, 0.6515907945727545, 0.6748359244660298, 0.5192799485693734, 0.5784182632722866, 0.5230945707369712, 0.6866071400321059, 0.4997165065584009, 0.6963502560799654], maxlen=20)\n",
      "eval_mean: 0.5870007129972511\n"
     ]
    },
    {
     "name": "stderr",
     "output_type": "stream",
     "text": [
      "\r",
      " 67%|████████████████████████████████████████████████▊                        | 66810/100000 [1:24:41<52:29, 10.54it/s]"
     ]
    },
    {
     "name": "stdout",
     "output_type": "stream",
     "text": [
      "self.evaluation_deque: deque([0.5312947454933615, 0.6521314071172097, 0.47910087366504006, 0.6111983693645998, 0.5065053396203024, 0.7365753464309893, 0.5214202195223137, 0.5581931987900319, 0.48557357316304095, 0.4866826031377089, 0.7339834342458798, 0.6074617451066562, 0.6515907945727545, 0.6748359244660298, 0.5192799485693734, 0.5784182632722866, 0.5230945707369712, 0.6866071400321059, 0.4997165065584009, 0.6963502560799654], maxlen=20)\n",
      "eval_mean: 0.5870007129972511\n"
     ]
    },
    {
     "name": "stderr",
     "output_type": "stream",
     "text": [
      "\r",
      " 67%|████████████████████████████████████████████████▊                        | 66886/100000 [1:24:50<54:18, 10.16it/s]"
     ]
    },
    {
     "name": "stdout",
     "output_type": "stream",
     "text": [
      "self.get_collection_ratio(): 0.645567013343093\n",
      "self.comms.count(True) : 2\n",
      "len(self.comms) : 2\n",
      "self.state.ratio_commed: 1.0\n",
      "self.comms.count(True) : 2\n",
      "len(self.comms) : 2\n",
      "self.evaluation_deque: deque([0.6521314071172097, 0.47910087366504006, 0.6111983693645998, 0.5065053396203024, 0.7365753464309893, 0.5214202195223137, 0.5581931987900319, 0.48557357316304095, 0.4866826031377089, 0.7339834342458798, 0.6074617451066562, 0.6515907945727545, 0.6748359244660298, 0.5192799485693734, 0.5784182632722866, 0.5230945707369712, 0.6866071400321059, 0.4997165065584009, 0.6963502560799654, 0.645567013343093], maxlen=20)\n",
      "eval_mean: 0.5927143263897376\n"
     ]
    },
    {
     "name": "stderr",
     "output_type": "stream",
     "text": [
      "\r",
      " 67%|████████████████████████████████████████████████▉                        | 66962/100000 [1:24:55<50:31, 10.90it/s]"
     ]
    },
    {
     "name": "stdout",
     "output_type": "stream",
     "text": [
      "self.evaluation_deque: deque([0.6521314071172097, 0.47910087366504006, 0.6111983693645998, 0.5065053396203024, 0.7365753464309893, 0.5214202195223137, 0.5581931987900319, 0.48557357316304095, 0.4866826031377089, 0.7339834342458798, 0.6074617451066562, 0.6515907945727545, 0.6748359244660298, 0.5192799485693734, 0.5784182632722866, 0.5230945707369712, 0.6866071400321059, 0.4997165065584009, 0.6963502560799654, 0.645567013343093], maxlen=20)\n",
      "eval_mean: 0.5927143263897376\n"
     ]
    },
    {
     "name": "stderr",
     "output_type": "stream",
     "text": [
      "\r",
      " 67%|████████████████████████████████████████████████▉                        | 67038/100000 [1:25:01<47:56, 11.46it/s]"
     ]
    },
    {
     "name": "stdout",
     "output_type": "stream",
     "text": [
      "self.evaluation_deque: deque([0.6521314071172097, 0.47910087366504006, 0.6111983693645998, 0.5065053396203024, 0.7365753464309893, 0.5214202195223137, 0.5581931987900319, 0.48557357316304095, 0.4866826031377089, 0.7339834342458798, 0.6074617451066562, 0.6515907945727545, 0.6748359244660298, 0.5192799485693734, 0.5784182632722866, 0.5230945707369712, 0.6866071400321059, 0.4997165065584009, 0.6963502560799654, 0.645567013343093], maxlen=20)\n",
      "eval_mean: 0.5927143263897376\n"
     ]
    },
    {
     "name": "stderr",
     "output_type": "stream",
     "text": [
      "\r",
      " 67%|████████████████████████████████████████████████▉                        | 67114/100000 [1:25:08<48:29, 11.30it/s]"
     ]
    },
    {
     "name": "stdout",
     "output_type": "stream",
     "text": [
      "self.evaluation_deque: deque([0.6521314071172097, 0.47910087366504006, 0.6111983693645998, 0.5065053396203024, 0.7365753464309893, 0.5214202195223137, 0.5581931987900319, 0.48557357316304095, 0.4866826031377089, 0.7339834342458798, 0.6074617451066562, 0.6515907945727545, 0.6748359244660298, 0.5192799485693734, 0.5784182632722866, 0.5230945707369712, 0.6866071400321059, 0.4997165065584009, 0.6963502560799654, 0.645567013343093], maxlen=20)\n",
      "eval_mean: 0.5927143263897376\n"
     ]
    },
    {
     "name": "stderr",
     "output_type": "stream",
     "text": [
      "\r",
      " 67%|█████████████████████████████████████████████████                        | 67190/100000 [1:25:15<48:45, 11.22it/s]"
     ]
    },
    {
     "name": "stdout",
     "output_type": "stream",
     "text": [
      "self.evaluation_deque: deque([0.6521314071172097, 0.47910087366504006, 0.6111983693645998, 0.5065053396203024, 0.7365753464309893, 0.5214202195223137, 0.5581931987900319, 0.48557357316304095, 0.4866826031377089, 0.7339834342458798, 0.6074617451066562, 0.6515907945727545, 0.6748359244660298, 0.5192799485693734, 0.5784182632722866, 0.5230945707369712, 0.6866071400321059, 0.4997165065584009, 0.6963502560799654, 0.645567013343093], maxlen=20)\n",
      "eval_mean: 0.5927143263897376\n"
     ]
    },
    {
     "name": "stderr",
     "output_type": "stream",
     "text": [
      "\r",
      " 67%|█████████████████████████████████████████████████                        | 67266/100000 [1:25:24<54:01, 10.10it/s]"
     ]
    },
    {
     "name": "stdout",
     "output_type": "stream",
     "text": [
      "self.get_collection_ratio(): 0.7498692037146433\n",
      "self.comms.count(True) : 2\n",
      "len(self.comms) : 2\n",
      "self.state.ratio_commed: 1.0\n",
      "self.comms.count(True) : 2\n",
      "len(self.comms) : 2\n",
      "self.evaluation_deque: deque([0.47910087366504006, 0.6111983693645998, 0.5065053396203024, 0.7365753464309893, 0.5214202195223137, 0.5581931987900319, 0.48557357316304095, 0.4866826031377089, 0.7339834342458798, 0.6074617451066562, 0.6515907945727545, 0.6748359244660298, 0.5192799485693734, 0.5784182632722866, 0.5230945707369712, 0.6866071400321059, 0.4997165065584009, 0.6963502560799654, 0.645567013343093, 0.7498692037146433], maxlen=20)\n",
      "eval_mean: 0.5976012162196095\n"
     ]
    },
    {
     "name": "stderr",
     "output_type": "stream",
     "text": [
      "\r",
      " 67%|█████████████████████████████████████████████████▏                       | 67342/100000 [1:25:31<52:53, 10.29it/s]"
     ]
    },
    {
     "name": "stdout",
     "output_type": "stream",
     "text": [
      "self.evaluation_deque: deque([0.47910087366504006, 0.6111983693645998, 0.5065053396203024, 0.7365753464309893, 0.5214202195223137, 0.5581931987900319, 0.48557357316304095, 0.4866826031377089, 0.7339834342458798, 0.6074617451066562, 0.6515907945727545, 0.6748359244660298, 0.5192799485693734, 0.5784182632722866, 0.5230945707369712, 0.6866071400321059, 0.4997165065584009, 0.6963502560799654, 0.645567013343093, 0.7498692037146433], maxlen=20)\n",
      "eval_mean: 0.5976012162196095\n"
     ]
    },
    {
     "name": "stderr",
     "output_type": "stream",
     "text": [
      "\r",
      " 67%|█████████████████████████████████████████████████▏                       | 67418/100000 [1:25:39<54:18, 10.00it/s]"
     ]
    },
    {
     "name": "stdout",
     "output_type": "stream",
     "text": [
      "self.evaluation_deque: deque([0.47910087366504006, 0.6111983693645998, 0.5065053396203024, 0.7365753464309893, 0.5214202195223137, 0.5581931987900319, 0.48557357316304095, 0.4866826031377089, 0.7339834342458798, 0.6074617451066562, 0.6515907945727545, 0.6748359244660298, 0.5192799485693734, 0.5784182632722866, 0.5230945707369712, 0.6866071400321059, 0.4997165065584009, 0.6963502560799654, 0.645567013343093, 0.7498692037146433], maxlen=20)\n",
      "eval_mean: 0.5976012162196095\n"
     ]
    },
    {
     "name": "stderr",
     "output_type": "stream",
     "text": [
      "\r",
      " 67%|█████████████████████████████████████████████████▎                       | 67494/100000 [1:25:48<55:22,  9.78it/s]"
     ]
    },
    {
     "name": "stdout",
     "output_type": "stream",
     "text": [
      "self.evaluation_deque: deque([0.47910087366504006, 0.6111983693645998, 0.5065053396203024, 0.7365753464309893, 0.5214202195223137, 0.5581931987900319, 0.48557357316304095, 0.4866826031377089, 0.7339834342458798, 0.6074617451066562, 0.6515907945727545, 0.6748359244660298, 0.5192799485693734, 0.5784182632722866, 0.5230945707369712, 0.6866071400321059, 0.4997165065584009, 0.6963502560799654, 0.645567013343093, 0.7498692037146433], maxlen=20)\n",
      "eval_mean: 0.5976012162196095\n"
     ]
    },
    {
     "name": "stderr",
     "output_type": "stream",
     "text": [
      "\r",
      " 68%|█████████████████████████████████████████████████▎                       | 67570/100000 [1:25:54<53:27, 10.11it/s]"
     ]
    },
    {
     "name": "stdout",
     "output_type": "stream",
     "text": [
      "self.evaluation_deque: deque([0.47910087366504006, 0.6111983693645998, 0.5065053396203024, 0.7365753464309893, 0.5214202195223137, 0.5581931987900319, 0.48557357316304095, 0.4866826031377089, 0.7339834342458798, 0.6074617451066562, 0.6515907945727545, 0.6748359244660298, 0.5192799485693734, 0.5784182632722866, 0.5230945707369712, 0.6866071400321059, 0.4997165065584009, 0.6963502560799654, 0.645567013343093, 0.7498692037146433], maxlen=20)\n",
      "eval_mean: 0.5976012162196095\n"
     ]
    },
    {
     "name": "stderr",
     "output_type": "stream",
     "text": [
      "\r",
      " 68%|█████████████████████████████████████████████████▍                       | 67646/100000 [1:26:03<55:20,  9.74it/s]"
     ]
    },
    {
     "name": "stdout",
     "output_type": "stream",
     "text": [
      "self.get_collection_ratio(): 0.5024364839309508\n",
      "self.comms.count(True) : 1\n",
      "len(self.comms) : 1\n",
      "self.state.ratio_commed: 1.0\n",
      "self.comms.count(True) : 1\n",
      "len(self.comms) : 1\n",
      "self.evaluation_deque: deque([0.6111983693645998, 0.5065053396203024, 0.7365753464309893, 0.5214202195223137, 0.5581931987900319, 0.48557357316304095, 0.4866826031377089, 0.7339834342458798, 0.6074617451066562, 0.6515907945727545, 0.6748359244660298, 0.5192799485693734, 0.5784182632722866, 0.5230945707369712, 0.6866071400321059, 0.4997165065584009, 0.6963502560799654, 0.645567013343093, 0.7498692037146433, 0.5024364839309508], maxlen=20)\n",
      "eval_mean: 0.5987679967329049\n"
     ]
    },
    {
     "name": "stderr",
     "output_type": "stream",
     "text": [
      "\r",
      " 68%|█████████████████████████████████████████████████▍                       | 67722/100000 [1:26:11<55:50,  9.63it/s]"
     ]
    },
    {
     "name": "stdout",
     "output_type": "stream",
     "text": [
      "self.evaluation_deque: deque([0.6111983693645998, 0.5065053396203024, 0.7365753464309893, 0.5214202195223137, 0.5581931987900319, 0.48557357316304095, 0.4866826031377089, 0.7339834342458798, 0.6074617451066562, 0.6515907945727545, 0.6748359244660298, 0.5192799485693734, 0.5784182632722866, 0.5230945707369712, 0.6866071400321059, 0.4997165065584009, 0.6963502560799654, 0.645567013343093, 0.7498692037146433, 0.5024364839309508], maxlen=20)\n",
      "eval_mean: 0.5987679967329049\n"
     ]
    },
    {
     "name": "stderr",
     "output_type": "stream",
     "text": [
      "\r",
      " 68%|█████████████████████████████████████████████████▍                       | 67798/100000 [1:26:19<55:43,  9.63it/s]"
     ]
    },
    {
     "name": "stdout",
     "output_type": "stream",
     "text": [
      "self.evaluation_deque: deque([0.6111983693645998, 0.5065053396203024, 0.7365753464309893, 0.5214202195223137, 0.5581931987900319, 0.48557357316304095, 0.4866826031377089, 0.7339834342458798, 0.6074617451066562, 0.6515907945727545, 0.6748359244660298, 0.5192799485693734, 0.5784182632722866, 0.5230945707369712, 0.6866071400321059, 0.4997165065584009, 0.6963502560799654, 0.645567013343093, 0.7498692037146433, 0.5024364839309508], maxlen=20)\n",
      "eval_mean: 0.5987679967329049\n"
     ]
    },
    {
     "name": "stderr",
     "output_type": "stream",
     "text": [
      "\r",
      " 68%|█████████████████████████████████████████████████▌                       | 67874/100000 [1:26:27<56:03,  9.55it/s]"
     ]
    },
    {
     "name": "stdout",
     "output_type": "stream",
     "text": [
      "self.evaluation_deque: deque([0.6111983693645998, 0.5065053396203024, 0.7365753464309893, 0.5214202195223137, 0.5581931987900319, 0.48557357316304095, 0.4866826031377089, 0.7339834342458798, 0.6074617451066562, 0.6515907945727545, 0.6748359244660298, 0.5192799485693734, 0.5784182632722866, 0.5230945707369712, 0.6866071400321059, 0.4997165065584009, 0.6963502560799654, 0.645567013343093, 0.7498692037146433, 0.5024364839309508], maxlen=20)\n",
      "eval_mean: 0.5987679967329049\n"
     ]
    },
    {
     "name": "stderr",
     "output_type": "stream",
     "text": [
      "\r",
      " 68%|████████████████████████████████████████████████▏                      | 67950/100000 [1:26:40<1:05:58,  8.10it/s]"
     ]
    },
    {
     "name": "stdout",
     "output_type": "stream",
     "text": [
      "self.evaluation_deque: deque([0.6111983693645998, 0.5065053396203024, 0.7365753464309893, 0.5214202195223137, 0.5581931987900319, 0.48557357316304095, 0.4866826031377089, 0.7339834342458798, 0.6074617451066562, 0.6515907945727545, 0.6748359244660298, 0.5192799485693734, 0.5784182632722866, 0.5230945707369712, 0.6866071400321059, 0.4997165065584009, 0.6963502560799654, 0.645567013343093, 0.7498692037146433, 0.5024364839309508], maxlen=20)\n",
      "eval_mean: 0.5987679967329049\n"
     ]
    },
    {
     "name": "stderr",
     "output_type": "stream",
     "text": [
      "\r",
      " 68%|████████████████████████████████████████████████▎                      | 68026/100000 [1:26:50<1:07:48,  7.86it/s]"
     ]
    },
    {
     "name": "stdout",
     "output_type": "stream",
     "text": [
      "self.get_collection_ratio(): 0.6297023839567578\n",
      "self.comms.count(True) : 3\n",
      "len(self.comms) : 3\n",
      "self.state.ratio_commed: 1.0\n",
      "self.comms.count(True) : 3\n",
      "len(self.comms) : 3\n",
      "self.evaluation_deque: deque([0.5065053396203024, 0.7365753464309893, 0.5214202195223137, 0.5581931987900319, 0.48557357316304095, 0.4866826031377089, 0.7339834342458798, 0.6074617451066562, 0.6515907945727545, 0.6748359244660298, 0.5192799485693734, 0.5784182632722866, 0.5230945707369712, 0.6866071400321059, 0.4997165065584009, 0.6963502560799654, 0.645567013343093, 0.7498692037146433, 0.5024364839309508, 0.6297023839567578], maxlen=20)\n",
      "eval_mean: 0.5996931974625129\n"
     ]
    },
    {
     "name": "stderr",
     "output_type": "stream",
     "text": [
      "\r",
      " 68%|████████████████████████████████████████████████▎                      | 68102/100000 [1:26:58<1:04:33,  8.23it/s]"
     ]
    },
    {
     "name": "stdout",
     "output_type": "stream",
     "text": [
      "self.evaluation_deque: deque([0.5065053396203024, 0.7365753464309893, 0.5214202195223137, 0.5581931987900319, 0.48557357316304095, 0.4866826031377089, 0.7339834342458798, 0.6074617451066562, 0.6515907945727545, 0.6748359244660298, 0.5192799485693734, 0.5784182632722866, 0.5230945707369712, 0.6866071400321059, 0.4997165065584009, 0.6963502560799654, 0.645567013343093, 0.7498692037146433, 0.5024364839309508, 0.6297023839567578], maxlen=20)\n",
      "eval_mean: 0.5996931974625129\n"
     ]
    },
    {
     "name": "stderr",
     "output_type": "stream",
     "text": [
      "\r",
      " 68%|█████████████████████████████████████████████████▊                       | 68178/100000 [1:27:05<59:42,  8.88it/s]"
     ]
    },
    {
     "name": "stdout",
     "output_type": "stream",
     "text": [
      "self.evaluation_deque: deque([0.5065053396203024, 0.7365753464309893, 0.5214202195223137, 0.5581931987900319, 0.48557357316304095, 0.4866826031377089, 0.7339834342458798, 0.6074617451066562, 0.6515907945727545, 0.6748359244660298, 0.5192799485693734, 0.5784182632722866, 0.5230945707369712, 0.6866071400321059, 0.4997165065584009, 0.6963502560799654, 0.645567013343093, 0.7498692037146433, 0.5024364839309508, 0.6297023839567578], maxlen=20)\n",
      "eval_mean: 0.5996931974625129\n"
     ]
    },
    {
     "name": "stderr",
     "output_type": "stream",
     "text": [
      "\r",
      " 68%|█████████████████████████████████████████████████▊                       | 68254/100000 [1:27:13<58:43,  9.01it/s]"
     ]
    },
    {
     "name": "stdout",
     "output_type": "stream",
     "text": [
      "self.evaluation_deque: deque([0.5065053396203024, 0.7365753464309893, 0.5214202195223137, 0.5581931987900319, 0.48557357316304095, 0.4866826031377089, 0.7339834342458798, 0.6074617451066562, 0.6515907945727545, 0.6748359244660298, 0.5192799485693734, 0.5784182632722866, 0.5230945707369712, 0.6866071400321059, 0.4997165065584009, 0.6963502560799654, 0.645567013343093, 0.7498692037146433, 0.5024364839309508, 0.6297023839567578], maxlen=20)\n",
      "eval_mean: 0.5996931974625129\n"
     ]
    },
    {
     "name": "stderr",
     "output_type": "stream",
     "text": [
      "\r",
      " 68%|█████████████████████████████████████████████████▉                       | 68330/100000 [1:27:19<53:09,  9.93it/s]"
     ]
    },
    {
     "name": "stdout",
     "output_type": "stream",
     "text": [
      "self.evaluation_deque: deque([0.5065053396203024, 0.7365753464309893, 0.5214202195223137, 0.5581931987900319, 0.48557357316304095, 0.4866826031377089, 0.7339834342458798, 0.6074617451066562, 0.6515907945727545, 0.6748359244660298, 0.5192799485693734, 0.5784182632722866, 0.5230945707369712, 0.6866071400321059, 0.4997165065584009, 0.6963502560799654, 0.645567013343093, 0.7498692037146433, 0.5024364839309508, 0.6297023839567578], maxlen=20)\n",
      "eval_mean: 0.5996931974625129\n"
     ]
    },
    {
     "name": "stderr",
     "output_type": "stream",
     "text": [
      "\r",
      " 68%|█████████████████████████████████████████████████▉                       | 68406/100000 [1:27:30<59:10,  8.90it/s]"
     ]
    },
    {
     "name": "stdout",
     "output_type": "stream",
     "text": [
      "self.get_collection_ratio(): 0.6816950437740084\n",
      "self.comms.count(True) : 2\n",
      "len(self.comms) : 2\n",
      "self.state.ratio_commed: 1.0\n",
      "self.comms.count(True) : 2\n",
      "len(self.comms) : 2\n",
      "self.evaluation_deque: deque([0.7365753464309893, 0.5214202195223137, 0.5581931987900319, 0.48557357316304095, 0.4866826031377089, 0.7339834342458798, 0.6074617451066562, 0.6515907945727545, 0.6748359244660298, 0.5192799485693734, 0.5784182632722866, 0.5230945707369712, 0.6866071400321059, 0.4997165065584009, 0.6963502560799654, 0.645567013343093, 0.7498692037146433, 0.5024364839309508, 0.6297023839567578, 0.6816950437740084], maxlen=20)\n",
      "eval_mean: 0.6084526826701981\n"
     ]
    },
    {
     "name": "stderr",
     "output_type": "stream",
     "text": [
      "\r",
      " 68%|█████████████████████████████████████████████████▉                       | 68482/100000 [1:27:38<57:37,  9.11it/s]"
     ]
    },
    {
     "name": "stdout",
     "output_type": "stream",
     "text": [
      "self.evaluation_deque: deque([0.7365753464309893, 0.5214202195223137, 0.5581931987900319, 0.48557357316304095, 0.4866826031377089, 0.7339834342458798, 0.6074617451066562, 0.6515907945727545, 0.6748359244660298, 0.5192799485693734, 0.5784182632722866, 0.5230945707369712, 0.6866071400321059, 0.4997165065584009, 0.6963502560799654, 0.645567013343093, 0.7498692037146433, 0.5024364839309508, 0.6297023839567578, 0.6816950437740084], maxlen=20)\n",
      "eval_mean: 0.6084526826701981\n"
     ]
    },
    {
     "name": "stderr",
     "output_type": "stream",
     "text": [
      "\r",
      " 69%|██████████████████████████████████████████████████                       | 68558/100000 [1:27:45<54:46,  9.57it/s]"
     ]
    },
    {
     "name": "stdout",
     "output_type": "stream",
     "text": [
      "self.evaluation_deque: deque([0.7365753464309893, 0.5214202195223137, 0.5581931987900319, 0.48557357316304095, 0.4866826031377089, 0.7339834342458798, 0.6074617451066562, 0.6515907945727545, 0.6748359244660298, 0.5192799485693734, 0.5784182632722866, 0.5230945707369712, 0.6866071400321059, 0.4997165065584009, 0.6963502560799654, 0.645567013343093, 0.7498692037146433, 0.5024364839309508, 0.6297023839567578, 0.6816950437740084], maxlen=20)\n",
      "eval_mean: 0.6084526826701981\n"
     ]
    },
    {
     "name": "stderr",
     "output_type": "stream",
     "text": [
      "\r",
      " 69%|██████████████████████████████████████████████████                       | 68634/100000 [1:27:51<50:16, 10.40it/s]"
     ]
    },
    {
     "name": "stdout",
     "output_type": "stream",
     "text": [
      "self.evaluation_deque: deque([0.7365753464309893, 0.5214202195223137, 0.5581931987900319, 0.48557357316304095, 0.4866826031377089, 0.7339834342458798, 0.6074617451066562, 0.6515907945727545, 0.6748359244660298, 0.5192799485693734, 0.5784182632722866, 0.5230945707369712, 0.6866071400321059, 0.4997165065584009, 0.6963502560799654, 0.645567013343093, 0.7498692037146433, 0.5024364839309508, 0.6297023839567578, 0.6816950437740084], maxlen=20)\n",
      "eval_mean: 0.6084526826701981\n"
     ]
    },
    {
     "name": "stderr",
     "output_type": "stream",
     "text": [
      "\r",
      " 69%|██████████████████████████████████████████████████▏                      | 68710/100000 [1:27:58<49:23, 10.56it/s]"
     ]
    },
    {
     "name": "stdout",
     "output_type": "stream",
     "text": [
      "self.evaluation_deque: deque([0.7365753464309893, 0.5214202195223137, 0.5581931987900319, 0.48557357316304095, 0.4866826031377089, 0.7339834342458798, 0.6074617451066562, 0.6515907945727545, 0.6748359244660298, 0.5192799485693734, 0.5784182632722866, 0.5230945707369712, 0.6866071400321059, 0.4997165065584009, 0.6963502560799654, 0.645567013343093, 0.7498692037146433, 0.5024364839309508, 0.6297023839567578, 0.6816950437740084], maxlen=20)\n",
      "eval_mean: 0.6084526826701981\n"
     ]
    },
    {
     "name": "stderr",
     "output_type": "stream",
     "text": [
      "\r",
      " 69%|██████████████████████████████████████████████████▏                      | 68786/100000 [1:28:06<52:29,  9.91it/s]"
     ]
    },
    {
     "name": "stdout",
     "output_type": "stream",
     "text": [
      "self.get_collection_ratio(): 0.808184476221032\n",
      "self.comms.count(True) : 2\n",
      "len(self.comms) : 3\n",
      "self.state.ratio_commed: 0.6666666666666666\n",
      "self.comms.count(True) : 2\n",
      "len(self.comms) : 3\n",
      "self.evaluation_deque: deque([0.5214202195223137, 0.5581931987900319, 0.48557357316304095, 0.4866826031377089, 0.7339834342458798, 0.6074617451066562, 0.6515907945727545, 0.6748359244660298, 0.5192799485693734, 0.5784182632722866, 0.5230945707369712, 0.6866071400321059, 0.4997165065584009, 0.6963502560799654, 0.645567013343093, 0.7498692037146433, 0.5024364839309508, 0.6297023839567578, 0.6816950437740084, 0.5387896508140213], maxlen=20)\n",
      "eval_mean: 0.5985633978893496\n"
     ]
    },
    {
     "name": "stderr",
     "output_type": "stream",
     "text": [
      "\r",
      " 69%|██████████████████████████████████████████████████▎                      | 68862/100000 [1:28:14<52:42,  9.85it/s]"
     ]
    },
    {
     "name": "stdout",
     "output_type": "stream",
     "text": [
      "self.evaluation_deque: deque([0.5214202195223137, 0.5581931987900319, 0.48557357316304095, 0.4866826031377089, 0.7339834342458798, 0.6074617451066562, 0.6515907945727545, 0.6748359244660298, 0.5192799485693734, 0.5784182632722866, 0.5230945707369712, 0.6866071400321059, 0.4997165065584009, 0.6963502560799654, 0.645567013343093, 0.7498692037146433, 0.5024364839309508, 0.6297023839567578, 0.6816950437740084, 0.5387896508140213], maxlen=20)\n",
      "eval_mean: 0.5985633978893496\n"
     ]
    },
    {
     "name": "stderr",
     "output_type": "stream",
     "text": [
      "\r",
      " 69%|██████████████████████████████████████████████████▎                      | 68938/100000 [1:28:20<48:36, 10.65it/s]"
     ]
    },
    {
     "name": "stdout",
     "output_type": "stream",
     "text": [
      "self.evaluation_deque: deque([0.5214202195223137, 0.5581931987900319, 0.48557357316304095, 0.4866826031377089, 0.7339834342458798, 0.6074617451066562, 0.6515907945727545, 0.6748359244660298, 0.5192799485693734, 0.5784182632722866, 0.5230945707369712, 0.6866071400321059, 0.4997165065584009, 0.6963502560799654, 0.645567013343093, 0.7498692037146433, 0.5024364839309508, 0.6297023839567578, 0.6816950437740084, 0.5387896508140213], maxlen=20)\n",
      "eval_mean: 0.5985633978893496\n"
     ]
    },
    {
     "name": "stderr",
     "output_type": "stream",
     "text": [
      "\r",
      " 69%|██████████████████████████████████████████████████▍                      | 69014/100000 [1:28:28<50:30, 10.22it/s]"
     ]
    },
    {
     "name": "stdout",
     "output_type": "stream",
     "text": [
      "self.evaluation_deque: deque([0.5214202195223137, 0.5581931987900319, 0.48557357316304095, 0.4866826031377089, 0.7339834342458798, 0.6074617451066562, 0.6515907945727545, 0.6748359244660298, 0.5192799485693734, 0.5784182632722866, 0.5230945707369712, 0.6866071400321059, 0.4997165065584009, 0.6963502560799654, 0.645567013343093, 0.7498692037146433, 0.5024364839309508, 0.6297023839567578, 0.6816950437740084, 0.5387896508140213], maxlen=20)\n",
      "eval_mean: 0.5985633978893496\n"
     ]
    },
    {
     "name": "stderr",
     "output_type": "stream",
     "text": [
      "\r",
      " 69%|██████████████████████████████████████████████████▍                      | 69090/100000 [1:28:36<51:37,  9.98it/s]"
     ]
    },
    {
     "name": "stdout",
     "output_type": "stream",
     "text": [
      "self.evaluation_deque: deque([0.5214202195223137, 0.5581931987900319, 0.48557357316304095, 0.4866826031377089, 0.7339834342458798, 0.6074617451066562, 0.6515907945727545, 0.6748359244660298, 0.5192799485693734, 0.5784182632722866, 0.5230945707369712, 0.6866071400321059, 0.4997165065584009, 0.6963502560799654, 0.645567013343093, 0.7498692037146433, 0.5024364839309508, 0.6297023839567578, 0.6816950437740084, 0.5387896508140213], maxlen=20)\n",
      "eval_mean: 0.5985633978893496\n"
     ]
    },
    {
     "name": "stderr",
     "output_type": "stream",
     "text": [
      "\r",
      " 69%|██████████████████████████████████████████████████▍                      | 69166/100000 [1:28:45<53:39,  9.58it/s]"
     ]
    },
    {
     "name": "stdout",
     "output_type": "stream",
     "text": [
      "self.get_collection_ratio(): 0.8427330745011845\n",
      "self.comms.count(True) : 2\n",
      "len(self.comms) : 3\n",
      "self.state.ratio_commed: 0.6666666666666666\n",
      "self.comms.count(True) : 2\n",
      "len(self.comms) : 3\n",
      "self.evaluation_deque: deque([0.5581931987900319, 0.48557357316304095, 0.4866826031377089, 0.7339834342458798, 0.6074617451066562, 0.6515907945727545, 0.6748359244660298, 0.5192799485693734, 0.5784182632722866, 0.5230945707369712, 0.6866071400321059, 0.4997165065584009, 0.6963502560799654, 0.645567013343093, 0.7498692037146433, 0.5024364839309508, 0.6297023839567578, 0.6816950437740084, 0.5387896508140213, 0.5618220496674563], maxlen=20)\n",
      "eval_mean: 0.6005834893966068\n"
     ]
    },
    {
     "name": "stderr",
     "output_type": "stream",
     "text": [
      "\r",
      " 69%|██████████████████████████████████████████████████▌                      | 69242/100000 [1:28:51<49:11, 10.42it/s]"
     ]
    },
    {
     "name": "stdout",
     "output_type": "stream",
     "text": [
      "self.evaluation_deque: deque([0.5581931987900319, 0.48557357316304095, 0.4866826031377089, 0.7339834342458798, 0.6074617451066562, 0.6515907945727545, 0.6748359244660298, 0.5192799485693734, 0.5784182632722866, 0.5230945707369712, 0.6866071400321059, 0.4997165065584009, 0.6963502560799654, 0.645567013343093, 0.7498692037146433, 0.5024364839309508, 0.6297023839567578, 0.6816950437740084, 0.5387896508140213, 0.5618220496674563], maxlen=20)\n",
      "eval_mean: 0.6005834893966068\n"
     ]
    },
    {
     "name": "stderr",
     "output_type": "stream",
     "text": [
      "\r",
      " 69%|██████████████████████████████████████████████████▌                      | 69318/100000 [1:28:59<50:45, 10.08it/s]"
     ]
    },
    {
     "name": "stdout",
     "output_type": "stream",
     "text": [
      "self.evaluation_deque: deque([0.5581931987900319, 0.48557357316304095, 0.4866826031377089, 0.7339834342458798, 0.6074617451066562, 0.6515907945727545, 0.6748359244660298, 0.5192799485693734, 0.5784182632722866, 0.5230945707369712, 0.6866071400321059, 0.4997165065584009, 0.6963502560799654, 0.645567013343093, 0.7498692037146433, 0.5024364839309508, 0.6297023839567578, 0.6816950437740084, 0.5387896508140213, 0.5618220496674563], maxlen=20)\n",
      "eval_mean: 0.6005834893966068\n"
     ]
    },
    {
     "name": "stderr",
     "output_type": "stream",
     "text": [
      "\r",
      " 69%|██████████████████████████████████████████████████▋                      | 69394/100000 [1:29:07<51:52,  9.83it/s]"
     ]
    },
    {
     "name": "stdout",
     "output_type": "stream",
     "text": [
      "self.evaluation_deque: deque([0.5581931987900319, 0.48557357316304095, 0.4866826031377089, 0.7339834342458798, 0.6074617451066562, 0.6515907945727545, 0.6748359244660298, 0.5192799485693734, 0.5784182632722866, 0.5230945707369712, 0.6866071400321059, 0.4997165065584009, 0.6963502560799654, 0.645567013343093, 0.7498692037146433, 0.5024364839309508, 0.6297023839567578, 0.6816950437740084, 0.5387896508140213, 0.5618220496674563], maxlen=20)\n",
      "eval_mean: 0.6005834893966068\n"
     ]
    },
    {
     "name": "stderr",
     "output_type": "stream",
     "text": [
      "\r",
      " 69%|██████████████████████████████████████████████████▋                      | 69470/100000 [1:29:13<47:51, 10.63it/s]"
     ]
    },
    {
     "name": "stdout",
     "output_type": "stream",
     "text": [
      "self.evaluation_deque: deque([0.5581931987900319, 0.48557357316304095, 0.4866826031377089, 0.7339834342458798, 0.6074617451066562, 0.6515907945727545, 0.6748359244660298, 0.5192799485693734, 0.5784182632722866, 0.5230945707369712, 0.6866071400321059, 0.4997165065584009, 0.6963502560799654, 0.645567013343093, 0.7498692037146433, 0.5024364839309508, 0.6297023839567578, 0.6816950437740084, 0.5387896508140213, 0.5618220496674563], maxlen=20)\n",
      "eval_mean: 0.6005834893966068\n"
     ]
    },
    {
     "name": "stderr",
     "output_type": "stream",
     "text": [
      "\r",
      " 70%|██████████████████████████████████████████████████▊                      | 69546/100000 [1:29:24<55:33,  9.14it/s]"
     ]
    },
    {
     "name": "stdout",
     "output_type": "stream",
     "text": [
      "self.get_collection_ratio(): 0.7773114297857304\n",
      "self.comms.count(True) : 3\n",
      "len(self.comms) : 3\n",
      "self.state.ratio_commed: 1.0\n",
      "self.comms.count(True) : 3\n",
      "len(self.comms) : 3\n",
      "self.evaluation_deque: deque([0.48557357316304095, 0.4866826031377089, 0.7339834342458798, 0.6074617451066562, 0.6515907945727545, 0.6748359244660298, 0.5192799485693734, 0.5784182632722866, 0.5230945707369712, 0.6866071400321059, 0.4997165065584009, 0.6963502560799654, 0.645567013343093, 0.7498692037146433, 0.5024364839309508, 0.6297023839567578, 0.6816950437740084, 0.5387896508140213, 0.5618220496674563, 0.7773114297857304], maxlen=20)\n",
      "eval_mean: 0.6115394009463917\n",
      "Saving best with: 0.6115394009463917\n"
     ]
    },
    {
     "name": "stderr",
     "output_type": "stream",
     "text": [
      "\r",
      " 70%|██████████████████████████████████████████████████▊                      | 69622/100000 [1:29:29<50:21, 10.05it/s]"
     ]
    },
    {
     "name": "stdout",
     "output_type": "stream",
     "text": [
      "self.evaluation_deque: deque([0.48557357316304095, 0.4866826031377089, 0.7339834342458798, 0.6074617451066562, 0.6515907945727545, 0.6748359244660298, 0.5192799485693734, 0.5784182632722866, 0.5230945707369712, 0.6866071400321059, 0.4997165065584009, 0.6963502560799654, 0.645567013343093, 0.7498692037146433, 0.5024364839309508, 0.6297023839567578, 0.6816950437740084, 0.5387896508140213, 0.5618220496674563, 0.7773114297857304], maxlen=20)\n",
      "eval_mean: 0.6115394009463917\n"
     ]
    },
    {
     "name": "stderr",
     "output_type": "stream",
     "text": [
      "\r",
      " 70%|██████████████████████████████████████████████████▉                      | 69698/100000 [1:29:36<49:01, 10.30it/s]"
     ]
    },
    {
     "name": "stdout",
     "output_type": "stream",
     "text": [
      "self.evaluation_deque: deque([0.48557357316304095, 0.4866826031377089, 0.7339834342458798, 0.6074617451066562, 0.6515907945727545, 0.6748359244660298, 0.5192799485693734, 0.5784182632722866, 0.5230945707369712, 0.6866071400321059, 0.4997165065584009, 0.6963502560799654, 0.645567013343093, 0.7498692037146433, 0.5024364839309508, 0.6297023839567578, 0.6816950437740084, 0.5387896508140213, 0.5618220496674563, 0.7773114297857304], maxlen=20)\n",
      "eval_mean: 0.6115394009463917\n"
     ]
    },
    {
     "name": "stderr",
     "output_type": "stream",
     "text": [
      "\r",
      " 70%|██████████████████████████████████████████████████▉                      | 69774/100000 [1:29:42<45:44, 11.01it/s]"
     ]
    },
    {
     "name": "stdout",
     "output_type": "stream",
     "text": [
      "self.evaluation_deque: deque([0.48557357316304095, 0.4866826031377089, 0.7339834342458798, 0.6074617451066562, 0.6515907945727545, 0.6748359244660298, 0.5192799485693734, 0.5784182632722866, 0.5230945707369712, 0.6866071400321059, 0.4997165065584009, 0.6963502560799654, 0.645567013343093, 0.7498692037146433, 0.5024364839309508, 0.6297023839567578, 0.6816950437740084, 0.5387896508140213, 0.5618220496674563, 0.7773114297857304], maxlen=20)\n",
      "eval_mean: 0.6115394009463917\n"
     ]
    },
    {
     "name": "stderr",
     "output_type": "stream",
     "text": [
      "\r",
      " 70%|██████████████████████████████████████████████████▉                      | 69850/100000 [1:29:50<48:02, 10.46it/s]"
     ]
    },
    {
     "name": "stdout",
     "output_type": "stream",
     "text": [
      "self.evaluation_deque: deque([0.48557357316304095, 0.4866826031377089, 0.7339834342458798, 0.6074617451066562, 0.6515907945727545, 0.6748359244660298, 0.5192799485693734, 0.5784182632722866, 0.5230945707369712, 0.6866071400321059, 0.4997165065584009, 0.6963502560799654, 0.645567013343093, 0.7498692037146433, 0.5024364839309508, 0.6297023839567578, 0.6816950437740084, 0.5387896508140213, 0.5618220496674563, 0.7773114297857304], maxlen=20)\n",
      "eval_mean: 0.6115394009463917\n"
     ]
    },
    {
     "name": "stderr",
     "output_type": "stream",
     "text": [
      "\r",
      " 70%|███████████████████████████████████████████████████                      | 69926/100000 [1:29:59<51:10,  9.79it/s]"
     ]
    },
    {
     "name": "stdout",
     "output_type": "stream",
     "text": [
      "self.get_collection_ratio(): 0.7589750329951201\n",
      "self.comms.count(True) : 3\n",
      "len(self.comms) : 3\n",
      "self.state.ratio_commed: 1.0\n",
      "self.comms.count(True) : 3\n",
      "len(self.comms) : 3\n",
      "self.evaluation_deque: deque([0.4866826031377089, 0.7339834342458798, 0.6074617451066562, 0.6515907945727545, 0.6748359244660298, 0.5192799485693734, 0.5784182632722866, 0.5230945707369712, 0.6866071400321059, 0.4997165065584009, 0.6963502560799654, 0.645567013343093, 0.7498692037146433, 0.5024364839309508, 0.6297023839567578, 0.6816950437740084, 0.5387896508140213, 0.5618220496674563, 0.7773114297857304, 0.7589750329951201], maxlen=20)\n",
      "eval_mean: 0.6252094739379956\n",
      "Saving best with: 0.6252094739379956\n"
     ]
    },
    {
     "name": "stderr",
     "output_type": "stream",
     "text": [
      "\r",
      " 70%|███████████████████████████████████████████████████                      | 70002/100000 [1:30:05<47:04, 10.62it/s]"
     ]
    },
    {
     "name": "stdout",
     "output_type": "stream",
     "text": [
      "self.evaluation_deque: deque([0.4866826031377089, 0.7339834342458798, 0.6074617451066562, 0.6515907945727545, 0.6748359244660298, 0.5192799485693734, 0.5784182632722866, 0.5230945707369712, 0.6866071400321059, 0.4997165065584009, 0.6963502560799654, 0.645567013343093, 0.7498692037146433, 0.5024364839309508, 0.6297023839567578, 0.6816950437740084, 0.5387896508140213, 0.5618220496674563, 0.7773114297857304, 0.7589750329951201], maxlen=20)\n",
      "eval_mean: 0.6252094739379956\n"
     ]
    },
    {
     "name": "stderr",
     "output_type": "stream",
     "text": [
      "\r",
      " 70%|███████████████████████████████████████████████████▏                     | 70078/100000 [1:30:11<44:14, 11.27it/s]"
     ]
    },
    {
     "name": "stdout",
     "output_type": "stream",
     "text": [
      "self.evaluation_deque: deque([0.4866826031377089, 0.7339834342458798, 0.6074617451066562, 0.6515907945727545, 0.6748359244660298, 0.5192799485693734, 0.5784182632722866, 0.5230945707369712, 0.6866071400321059, 0.4997165065584009, 0.6963502560799654, 0.645567013343093, 0.7498692037146433, 0.5024364839309508, 0.6297023839567578, 0.6816950437740084, 0.5387896508140213, 0.5618220496674563, 0.7773114297857304, 0.7589750329951201], maxlen=20)\n",
      "eval_mean: 0.6252094739379956\n"
     ]
    },
    {
     "name": "stderr",
     "output_type": "stream",
     "text": [
      "\r",
      " 70%|███████████████████████████████████████████████████▏                     | 70154/100000 [1:30:19<46:45, 10.64it/s]"
     ]
    },
    {
     "name": "stdout",
     "output_type": "stream",
     "text": [
      "self.evaluation_deque: deque([0.4866826031377089, 0.7339834342458798, 0.6074617451066562, 0.6515907945727545, 0.6748359244660298, 0.5192799485693734, 0.5784182632722866, 0.5230945707369712, 0.6866071400321059, 0.4997165065584009, 0.6963502560799654, 0.645567013343093, 0.7498692037146433, 0.5024364839309508, 0.6297023839567578, 0.6816950437740084, 0.5387896508140213, 0.5618220496674563, 0.7773114297857304, 0.7589750329951201], maxlen=20)\n",
      "eval_mean: 0.6252094739379956\n"
     ]
    },
    {
     "name": "stderr",
     "output_type": "stream",
     "text": [
      "\r",
      " 70%|███████████████████████████████████████████████████▎                     | 70230/100000 [1:30:26<45:52, 10.82it/s]"
     ]
    },
    {
     "name": "stdout",
     "output_type": "stream",
     "text": [
      "self.evaluation_deque: deque([0.4866826031377089, 0.7339834342458798, 0.6074617451066562, 0.6515907945727545, 0.6748359244660298, 0.5192799485693734, 0.5784182632722866, 0.5230945707369712, 0.6866071400321059, 0.4997165065584009, 0.6963502560799654, 0.645567013343093, 0.7498692037146433, 0.5024364839309508, 0.6297023839567578, 0.6816950437740084, 0.5387896508140213, 0.5618220496674563, 0.7773114297857304, 0.7589750329951201], maxlen=20)\n",
      "eval_mean: 0.6252094739379956\n"
     ]
    },
    {
     "name": "stderr",
     "output_type": "stream",
     "text": [
      "\r",
      " 70%|███████████████████████████████████████████████████▎                     | 70306/100000 [1:30:35<50:15,  9.85it/s]"
     ]
    },
    {
     "name": "stdout",
     "output_type": "stream",
     "text": [
      "self.get_collection_ratio(): 0.63903857416035\n",
      "self.comms.count(True) : 2\n",
      "len(self.comms) : 2\n",
      "self.state.ratio_commed: 1.0\n",
      "self.comms.count(True) : 2\n",
      "len(self.comms) : 2\n",
      "self.evaluation_deque: deque([0.7339834342458798, 0.6074617451066562, 0.6515907945727545, 0.6748359244660298, 0.5192799485693734, 0.5784182632722866, 0.5230945707369712, 0.6866071400321059, 0.4997165065584009, 0.6963502560799654, 0.645567013343093, 0.7498692037146433, 0.5024364839309508, 0.6297023839567578, 0.6816950437740084, 0.5387896508140213, 0.5618220496674563, 0.7773114297857304, 0.7589750329951201, 0.63903857416035], maxlen=20)\n",
      "eval_mean: 0.6328272724891277\n",
      "Saving best with: 0.6328272724891277\n"
     ]
    },
    {
     "name": "stderr",
     "output_type": "stream",
     "text": [
      "\r",
      " 70%|███████████████████████████████████████████████████▍                     | 70382/100000 [1:30:42<48:43, 10.13it/s]"
     ]
    },
    {
     "name": "stdout",
     "output_type": "stream",
     "text": [
      "self.evaluation_deque: deque([0.7339834342458798, 0.6074617451066562, 0.6515907945727545, 0.6748359244660298, 0.5192799485693734, 0.5784182632722866, 0.5230945707369712, 0.6866071400321059, 0.4997165065584009, 0.6963502560799654, 0.645567013343093, 0.7498692037146433, 0.5024364839309508, 0.6297023839567578, 0.6816950437740084, 0.5387896508140213, 0.5618220496674563, 0.7773114297857304, 0.7589750329951201, 0.63903857416035], maxlen=20)\n",
      "eval_mean: 0.6328272724891277\n"
     ]
    },
    {
     "name": "stderr",
     "output_type": "stream",
     "text": [
      "\r",
      " 70%|███████████████████████████████████████████████████▍                     | 70458/100000 [1:30:49<47:30, 10.36it/s]"
     ]
    },
    {
     "name": "stdout",
     "output_type": "stream",
     "text": [
      "self.evaluation_deque: deque([0.7339834342458798, 0.6074617451066562, 0.6515907945727545, 0.6748359244660298, 0.5192799485693734, 0.5784182632722866, 0.5230945707369712, 0.6866071400321059, 0.4997165065584009, 0.6963502560799654, 0.645567013343093, 0.7498692037146433, 0.5024364839309508, 0.6297023839567578, 0.6816950437740084, 0.5387896508140213, 0.5618220496674563, 0.7773114297857304, 0.7589750329951201, 0.63903857416035], maxlen=20)\n",
      "eval_mean: 0.6328272724891277\n"
     ]
    },
    {
     "name": "stderr",
     "output_type": "stream",
     "text": [
      "\r",
      " 71%|███████████████████████████████████████████████████▍                     | 70534/100000 [1:30:57<48:47, 10.06it/s]"
     ]
    },
    {
     "name": "stdout",
     "output_type": "stream",
     "text": [
      "self.evaluation_deque: deque([0.7339834342458798, 0.6074617451066562, 0.6515907945727545, 0.6748359244660298, 0.5192799485693734, 0.5784182632722866, 0.5230945707369712, 0.6866071400321059, 0.4997165065584009, 0.6963502560799654, 0.645567013343093, 0.7498692037146433, 0.5024364839309508, 0.6297023839567578, 0.6816950437740084, 0.5387896508140213, 0.5618220496674563, 0.7773114297857304, 0.7589750329951201, 0.63903857416035], maxlen=20)\n",
      "eval_mean: 0.6328272724891277\n"
     ]
    },
    {
     "name": "stderr",
     "output_type": "stream",
     "text": [
      "\r",
      " 71%|███████████████████████████████████████████████████▌                     | 70610/100000 [1:31:05<49:45,  9.84it/s]"
     ]
    },
    {
     "name": "stdout",
     "output_type": "stream",
     "text": [
      "self.evaluation_deque: deque([0.7339834342458798, 0.6074617451066562, 0.6515907945727545, 0.6748359244660298, 0.5192799485693734, 0.5784182632722866, 0.5230945707369712, 0.6866071400321059, 0.4997165065584009, 0.6963502560799654, 0.645567013343093, 0.7498692037146433, 0.5024364839309508, 0.6297023839567578, 0.6816950437740084, 0.5387896508140213, 0.5618220496674563, 0.7773114297857304, 0.7589750329951201, 0.63903857416035], maxlen=20)\n",
      "eval_mean: 0.6328272724891277\n"
     ]
    },
    {
     "name": "stderr",
     "output_type": "stream",
     "text": [
      "\r",
      " 71%|███████████████████████████████████████████████████▌                     | 70686/100000 [1:31:15<53:05,  9.20it/s]"
     ]
    },
    {
     "name": "stdout",
     "output_type": "stream",
     "text": [
      "self.get_collection_ratio(): 0.5175732344150054\n",
      "self.comms.count(True) : 1\n",
      "len(self.comms) : 1\n",
      "self.state.ratio_commed: 1.0\n",
      "self.comms.count(True) : 1\n",
      "len(self.comms) : 1\n",
      "self.evaluation_deque: deque([0.6074617451066562, 0.6515907945727545, 0.6748359244660298, 0.5192799485693734, 0.5784182632722866, 0.5230945707369712, 0.6866071400321059, 0.4997165065584009, 0.6963502560799654, 0.645567013343093, 0.7498692037146433, 0.5024364839309508, 0.6297023839567578, 0.6816950437740084, 0.5387896508140213, 0.5618220496674563, 0.7773114297857304, 0.7589750329951201, 0.63903857416035, 0.5175732344150054], maxlen=20)\n",
      "eval_mean: 0.622006762497584\n"
     ]
    },
    {
     "name": "stderr",
     "output_type": "stream",
     "text": [
      "\r",
      " 71%|███████████████████████████████████████████████████▋                     | 70762/100000 [1:31:22<50:25,  9.66it/s]"
     ]
    },
    {
     "name": "stdout",
     "output_type": "stream",
     "text": [
      "self.evaluation_deque: deque([0.6074617451066562, 0.6515907945727545, 0.6748359244660298, 0.5192799485693734, 0.5784182632722866, 0.5230945707369712, 0.6866071400321059, 0.4997165065584009, 0.6963502560799654, 0.645567013343093, 0.7498692037146433, 0.5024364839309508, 0.6297023839567578, 0.6816950437740084, 0.5387896508140213, 0.5618220496674563, 0.7773114297857304, 0.7589750329951201, 0.63903857416035, 0.5175732344150054], maxlen=20)\n",
      "eval_mean: 0.622006762497584\n"
     ]
    },
    {
     "name": "stderr",
     "output_type": "stream",
     "text": [
      "\r",
      " 71%|███████████████████████████████████████████████████▋                     | 70838/100000 [1:31:27<46:24, 10.47it/s]"
     ]
    },
    {
     "name": "stdout",
     "output_type": "stream",
     "text": [
      "self.evaluation_deque: deque([0.6074617451066562, 0.6515907945727545, 0.6748359244660298, 0.5192799485693734, 0.5784182632722866, 0.5230945707369712, 0.6866071400321059, 0.4997165065584009, 0.6963502560799654, 0.645567013343093, 0.7498692037146433, 0.5024364839309508, 0.6297023839567578, 0.6816950437740084, 0.5387896508140213, 0.5618220496674563, 0.7773114297857304, 0.7589750329951201, 0.63903857416035, 0.5175732344150054], maxlen=20)\n",
      "eval_mean: 0.622006762497584\n"
     ]
    },
    {
     "name": "stderr",
     "output_type": "stream",
     "text": [
      "\r",
      " 71%|███████████████████████████████████████████████████▊                     | 70914/100000 [1:31:35<47:54, 10.12it/s]"
     ]
    },
    {
     "name": "stdout",
     "output_type": "stream",
     "text": [
      "self.evaluation_deque: deque([0.6074617451066562, 0.6515907945727545, 0.6748359244660298, 0.5192799485693734, 0.5784182632722866, 0.5230945707369712, 0.6866071400321059, 0.4997165065584009, 0.6963502560799654, 0.645567013343093, 0.7498692037146433, 0.5024364839309508, 0.6297023839567578, 0.6816950437740084, 0.5387896508140213, 0.5618220496674563, 0.7773114297857304, 0.7589750329951201, 0.63903857416035, 0.5175732344150054], maxlen=20)\n",
      "eval_mean: 0.622006762497584\n"
     ]
    },
    {
     "name": "stderr",
     "output_type": "stream",
     "text": [
      "\r",
      " 71%|███████████████████████████████████████████████████▊                     | 70990/100000 [1:31:44<48:50,  9.90it/s]"
     ]
    },
    {
     "name": "stdout",
     "output_type": "stream",
     "text": [
      "self.evaluation_deque: deque([0.6074617451066562, 0.6515907945727545, 0.6748359244660298, 0.5192799485693734, 0.5784182632722866, 0.5230945707369712, 0.6866071400321059, 0.4997165065584009, 0.6963502560799654, 0.645567013343093, 0.7498692037146433, 0.5024364839309508, 0.6297023839567578, 0.6816950437740084, 0.5387896508140213, 0.5618220496674563, 0.7773114297857304, 0.7589750329951201, 0.63903857416035, 0.5175732344150054], maxlen=20)\n",
      "eval_mean: 0.622006762497584\n"
     ]
    },
    {
     "name": "stderr",
     "output_type": "stream",
     "text": [
      "\r",
      " 71%|███████████████████████████████████████████████████▉                     | 71066/100000 [1:31:52<49:39,  9.71it/s]"
     ]
    },
    {
     "name": "stdout",
     "output_type": "stream",
     "text": [
      "self.get_collection_ratio(): 0.5817573021095713\n",
      "self.comms.count(True) : 2\n",
      "len(self.comms) : 2\n",
      "self.state.ratio_commed: 1.0\n",
      "self.comms.count(True) : 2\n",
      "len(self.comms) : 2\n",
      "self.evaluation_deque: deque([0.6515907945727545, 0.6748359244660298, 0.5192799485693734, 0.5784182632722866, 0.5230945707369712, 0.6866071400321059, 0.4997165065584009, 0.6963502560799654, 0.645567013343093, 0.7498692037146433, 0.5024364839309508, 0.6297023839567578, 0.6816950437740084, 0.5387896508140213, 0.5618220496674563, 0.7773114297857304, 0.7589750329951201, 0.63903857416035, 0.5175732344150054, 0.5817573021095713], maxlen=20)\n",
      "eval_mean: 0.6207215403477299\n"
     ]
    },
    {
     "name": "stderr",
     "output_type": "stream",
     "text": [
      "\r",
      " 71%|███████████████████████████████████████████████████▉                     | 71142/100000 [1:31:59<47:47, 10.06it/s]"
     ]
    },
    {
     "name": "stdout",
     "output_type": "stream",
     "text": [
      "self.evaluation_deque: deque([0.6515907945727545, 0.6748359244660298, 0.5192799485693734, 0.5784182632722866, 0.5230945707369712, 0.6866071400321059, 0.4997165065584009, 0.6963502560799654, 0.645567013343093, 0.7498692037146433, 0.5024364839309508, 0.6297023839567578, 0.6816950437740084, 0.5387896508140213, 0.5618220496674563, 0.7773114297857304, 0.7589750329951201, 0.63903857416035, 0.5175732344150054, 0.5817573021095713], maxlen=20)\n",
      "eval_mean: 0.6207215403477299\n"
     ]
    },
    {
     "name": "stderr",
     "output_type": "stream",
     "text": [
      "\r",
      " 71%|███████████████████████████████████████████████████▉                     | 71218/100000 [1:32:04<44:15, 10.84it/s]"
     ]
    },
    {
     "name": "stdout",
     "output_type": "stream",
     "text": [
      "self.evaluation_deque: deque([0.6515907945727545, 0.6748359244660298, 0.5192799485693734, 0.5784182632722866, 0.5230945707369712, 0.6866071400321059, 0.4997165065584009, 0.6963502560799654, 0.645567013343093, 0.7498692037146433, 0.5024364839309508, 0.6297023839567578, 0.6816950437740084, 0.5387896508140213, 0.5618220496674563, 0.7773114297857304, 0.7589750329951201, 0.63903857416035, 0.5175732344150054, 0.5817573021095713], maxlen=20)\n",
      "eval_mean: 0.6207215403477299\n"
     ]
    },
    {
     "name": "stderr",
     "output_type": "stream",
     "text": [
      "\r",
      " 71%|████████████████████████████████████████████████████                     | 71294/100000 [1:32:12<46:05, 10.38it/s]"
     ]
    },
    {
     "name": "stdout",
     "output_type": "stream",
     "text": [
      "self.evaluation_deque: deque([0.6515907945727545, 0.6748359244660298, 0.5192799485693734, 0.5784182632722866, 0.5230945707369712, 0.6866071400321059, 0.4997165065584009, 0.6963502560799654, 0.645567013343093, 0.7498692037146433, 0.5024364839309508, 0.6297023839567578, 0.6816950437740084, 0.5387896508140213, 0.5618220496674563, 0.7773114297857304, 0.7589750329951201, 0.63903857416035, 0.5175732344150054, 0.5817573021095713], maxlen=20)\n",
      "eval_mean: 0.6207215403477299\n"
     ]
    },
    {
     "name": "stderr",
     "output_type": "stream",
     "text": [
      "\r",
      " 71%|████████████████████████████████████████████████████                     | 71370/100000 [1:32:18<43:03, 11.08it/s]"
     ]
    },
    {
     "name": "stdout",
     "output_type": "stream",
     "text": [
      "self.evaluation_deque: deque([0.6515907945727545, 0.6748359244660298, 0.5192799485693734, 0.5784182632722866, 0.5230945707369712, 0.6866071400321059, 0.4997165065584009, 0.6963502560799654, 0.645567013343093, 0.7498692037146433, 0.5024364839309508, 0.6297023839567578, 0.6816950437740084, 0.5387896508140213, 0.5618220496674563, 0.7773114297857304, 0.7589750329951201, 0.63903857416035, 0.5175732344150054, 0.5817573021095713], maxlen=20)\n",
      "eval_mean: 0.6207215403477299\n"
     ]
    },
    {
     "name": "stderr",
     "output_type": "stream",
     "text": [
      "\r",
      " 71%|████████████████████████████████████████████████████▏                    | 71446/100000 [1:32:29<50:44,  9.38it/s]"
     ]
    },
    {
     "name": "stdout",
     "output_type": "stream",
     "text": [
      "self.get_collection_ratio(): 0.7509950178676824\n",
      "self.comms.count(True) : 3\n",
      "len(self.comms) : 3\n",
      "self.state.ratio_commed: 1.0\n",
      "self.comms.count(True) : 3\n",
      "len(self.comms) : 3\n",
      "self.evaluation_deque: deque([0.6748359244660298, 0.5192799485693734, 0.5784182632722866, 0.5230945707369712, 0.6866071400321059, 0.4997165065584009, 0.6963502560799654, 0.645567013343093, 0.7498692037146433, 0.5024364839309508, 0.6297023839567578, 0.6816950437740084, 0.5387896508140213, 0.5618220496674563, 0.7773114297857304, 0.7589750329951201, 0.63903857416035, 0.5175732344150054, 0.5817573021095713, 0.7509950178676824], maxlen=20)\n",
      "eval_mean: 0.6256917515124761\n"
     ]
    },
    {
     "name": "stderr",
     "output_type": "stream",
     "text": [
      "\r",
      " 72%|████████████████████████████████████████████████████▏                    | 71522/100000 [1:32:36<48:34,  9.77it/s]"
     ]
    },
    {
     "name": "stdout",
     "output_type": "stream",
     "text": [
      "self.evaluation_deque: deque([0.6748359244660298, 0.5192799485693734, 0.5784182632722866, 0.5230945707369712, 0.6866071400321059, 0.4997165065584009, 0.6963502560799654, 0.645567013343093, 0.7498692037146433, 0.5024364839309508, 0.6297023839567578, 0.6816950437740084, 0.5387896508140213, 0.5618220496674563, 0.7773114297857304, 0.7589750329951201, 0.63903857416035, 0.5175732344150054, 0.5817573021095713, 0.7509950178676824], maxlen=20)\n",
      "eval_mean: 0.6256917515124761\n"
     ]
    },
    {
     "name": "stderr",
     "output_type": "stream",
     "text": [
      "\r",
      " 72%|████████████████████████████████████████████████████▎                    | 71598/100000 [1:32:44<48:39,  9.73it/s]"
     ]
    },
    {
     "name": "stdout",
     "output_type": "stream",
     "text": [
      "self.evaluation_deque: deque([0.6748359244660298, 0.5192799485693734, 0.5784182632722866, 0.5230945707369712, 0.6866071400321059, 0.4997165065584009, 0.6963502560799654, 0.645567013343093, 0.7498692037146433, 0.5024364839309508, 0.6297023839567578, 0.6816950437740084, 0.5387896508140213, 0.5618220496674563, 0.7773114297857304, 0.7589750329951201, 0.63903857416035, 0.5175732344150054, 0.5817573021095713, 0.7509950178676824], maxlen=20)\n",
      "eval_mean: 0.6256917515124761\n"
     ]
    },
    {
     "name": "stderr",
     "output_type": "stream",
     "text": [
      "\r",
      " 72%|████████████████████████████████████████████████████▎                    | 71674/100000 [1:32:50<44:47, 10.54it/s]"
     ]
    },
    {
     "name": "stdout",
     "output_type": "stream",
     "text": [
      "self.evaluation_deque: deque([0.6748359244660298, 0.5192799485693734, 0.5784182632722866, 0.5230945707369712, 0.6866071400321059, 0.4997165065584009, 0.6963502560799654, 0.645567013343093, 0.7498692037146433, 0.5024364839309508, 0.6297023839567578, 0.6816950437740084, 0.5387896508140213, 0.5618220496674563, 0.7773114297857304, 0.7589750329951201, 0.63903857416035, 0.5175732344150054, 0.5817573021095713, 0.7509950178676824], maxlen=20)\n",
      "eval_mean: 0.6256917515124761\n"
     ]
    },
    {
     "name": "stderr",
     "output_type": "stream",
     "text": [
      "\r",
      " 72%|████████████████████████████████████████████████████▍                    | 71750/100000 [1:32:57<44:15, 10.64it/s]"
     ]
    },
    {
     "name": "stdout",
     "output_type": "stream",
     "text": [
      "self.evaluation_deque: deque([0.6748359244660298, 0.5192799485693734, 0.5784182632722866, 0.5230945707369712, 0.6866071400321059, 0.4997165065584009, 0.6963502560799654, 0.645567013343093, 0.7498692037146433, 0.5024364839309508, 0.6297023839567578, 0.6816950437740084, 0.5387896508140213, 0.5618220496674563, 0.7773114297857304, 0.7589750329951201, 0.63903857416035, 0.5175732344150054, 0.5817573021095713, 0.7509950178676824], maxlen=20)\n",
      "eval_mean: 0.6256917515124761\n"
     ]
    },
    {
     "name": "stderr",
     "output_type": "stream",
     "text": [
      "\r",
      " 72%|████████████████████████████████████████████████████▍                    | 71826/100000 [1:33:07<49:34,  9.47it/s]"
     ]
    },
    {
     "name": "stdout",
     "output_type": "stream",
     "text": [
      "self.get_collection_ratio(): 0.7959635941598164\n",
      "self.comms.count(True) : 3\n",
      "len(self.comms) : 3\n",
      "self.state.ratio_commed: 1.0\n",
      "self.comms.count(True) : 3\n",
      "len(self.comms) : 3\n",
      "self.evaluation_deque: deque([0.5192799485693734, 0.5784182632722866, 0.5230945707369712, 0.6866071400321059, 0.4997165065584009, 0.6963502560799654, 0.645567013343093, 0.7498692037146433, 0.5024364839309508, 0.6297023839567578, 0.6816950437740084, 0.5387896508140213, 0.5618220496674563, 0.7773114297857304, 0.7589750329951201, 0.63903857416035, 0.5175732344150054, 0.5817573021095713, 0.7509950178676824, 0.7959635941598164], maxlen=20)\n",
      "eval_mean: 0.6317481349971654\n"
     ]
    },
    {
     "name": "stderr",
     "output_type": "stream",
     "text": [
      "\r",
      " 72%|████████████████████████████████████████████████████▍                    | 71902/100000 [1:33:13<45:24, 10.31it/s]"
     ]
    },
    {
     "name": "stdout",
     "output_type": "stream",
     "text": [
      "self.evaluation_deque: deque([0.5192799485693734, 0.5784182632722866, 0.5230945707369712, 0.6866071400321059, 0.4997165065584009, 0.6963502560799654, 0.645567013343093, 0.7498692037146433, 0.5024364839309508, 0.6297023839567578, 0.6816950437740084, 0.5387896508140213, 0.5618220496674563, 0.7773114297857304, 0.7589750329951201, 0.63903857416035, 0.5175732344150054, 0.5817573021095713, 0.7509950178676824, 0.7959635941598164], maxlen=20)\n",
      "eval_mean: 0.6317481349971654\n"
     ]
    },
    {
     "name": "stderr",
     "output_type": "stream",
     "text": [
      "\r",
      " 72%|████████████████████████████████████████████████████▌                    | 71978/100000 [1:33:20<44:43, 10.44it/s]"
     ]
    },
    {
     "name": "stdout",
     "output_type": "stream",
     "text": [
      "self.evaluation_deque: deque([0.5192799485693734, 0.5784182632722866, 0.5230945707369712, 0.6866071400321059, 0.4997165065584009, 0.6963502560799654, 0.645567013343093, 0.7498692037146433, 0.5024364839309508, 0.6297023839567578, 0.6816950437740084, 0.5387896508140213, 0.5618220496674563, 0.7773114297857304, 0.7589750329951201, 0.63903857416035, 0.5175732344150054, 0.5817573021095713, 0.7509950178676824, 0.7959635941598164], maxlen=20)\n",
      "eval_mean: 0.6317481349971654\n"
     ]
    },
    {
     "name": "stderr",
     "output_type": "stream",
     "text": [
      "\r",
      " 72%|████████████████████████████████████████████████████▌                    | 72054/100000 [1:33:26<41:49, 11.14it/s]"
     ]
    },
    {
     "name": "stdout",
     "output_type": "stream",
     "text": [
      "self.evaluation_deque: deque([0.5192799485693734, 0.5784182632722866, 0.5230945707369712, 0.6866071400321059, 0.4997165065584009, 0.6963502560799654, 0.645567013343093, 0.7498692037146433, 0.5024364839309508, 0.6297023839567578, 0.6816950437740084, 0.5387896508140213, 0.5618220496674563, 0.7773114297857304, 0.7589750329951201, 0.63903857416035, 0.5175732344150054, 0.5817573021095713, 0.7509950178676824, 0.7959635941598164], maxlen=20)\n",
      "eval_mean: 0.6317481349971654\n"
     ]
    },
    {
     "name": "stderr",
     "output_type": "stream",
     "text": [
      "\r",
      " 72%|████████████████████████████████████████████████████▋                    | 72130/100000 [1:33:33<41:55, 11.08it/s]"
     ]
    },
    {
     "name": "stdout",
     "output_type": "stream",
     "text": [
      "self.evaluation_deque: deque([0.5192799485693734, 0.5784182632722866, 0.5230945707369712, 0.6866071400321059, 0.4997165065584009, 0.6963502560799654, 0.645567013343093, 0.7498692037146433, 0.5024364839309508, 0.6297023839567578, 0.6816950437740084, 0.5387896508140213, 0.5618220496674563, 0.7773114297857304, 0.7589750329951201, 0.63903857416035, 0.5175732344150054, 0.5817573021095713, 0.7509950178676824, 0.7959635941598164], maxlen=20)\n",
      "eval_mean: 0.6317481349971654\n"
     ]
    },
    {
     "name": "stderr",
     "output_type": "stream",
     "text": [
      "\r",
      " 72%|████████████████████████████████████████████████████▋                    | 72206/100000 [1:33:44<49:52,  9.29it/s]"
     ]
    },
    {
     "name": "stdout",
     "output_type": "stream",
     "text": [
      "self.get_collection_ratio(): 0.7925114443483386\n",
      "self.comms.count(True) : 3\n",
      "len(self.comms) : 3\n",
      "self.state.ratio_commed: 1.0\n",
      "self.comms.count(True) : 3\n",
      "len(self.comms) : 3\n",
      "self.evaluation_deque: deque([0.5784182632722866, 0.5230945707369712, 0.6866071400321059, 0.4997165065584009, 0.6963502560799654, 0.645567013343093, 0.7498692037146433, 0.5024364839309508, 0.6297023839567578, 0.6816950437740084, 0.5387896508140213, 0.5618220496674563, 0.7773114297857304, 0.7589750329951201, 0.63903857416035, 0.5175732344150054, 0.5817573021095713, 0.7509950178676824, 0.7959635941598164, 0.7925114443483386], maxlen=20)\n",
      "eval_mean: 0.6454097097861138\n",
      "Saving best with: 0.6454097097861138\n"
     ]
    },
    {
     "name": "stderr",
     "output_type": "stream",
     "text": [
      "\r",
      " 72%|████████████████████████████████████████████████████▊                    | 72282/100000 [1:33:50<45:34, 10.14it/s]"
     ]
    },
    {
     "name": "stdout",
     "output_type": "stream",
     "text": [
      "self.evaluation_deque: deque([0.5784182632722866, 0.5230945707369712, 0.6866071400321059, 0.4997165065584009, 0.6963502560799654, 0.645567013343093, 0.7498692037146433, 0.5024364839309508, 0.6297023839567578, 0.6816950437740084, 0.5387896508140213, 0.5618220496674563, 0.7773114297857304, 0.7589750329951201, 0.63903857416035, 0.5175732344150054, 0.5817573021095713, 0.7509950178676824, 0.7959635941598164, 0.7925114443483386], maxlen=20)\n",
      "eval_mean: 0.6454097097861138\n"
     ]
    },
    {
     "name": "stderr",
     "output_type": "stream",
     "text": [
      "\r",
      " 72%|████████████████████████████████████████████████████▊                    | 72358/100000 [1:33:56<42:17, 10.89it/s]"
     ]
    },
    {
     "name": "stdout",
     "output_type": "stream",
     "text": [
      "self.evaluation_deque: deque([0.5784182632722866, 0.5230945707369712, 0.6866071400321059, 0.4997165065584009, 0.6963502560799654, 0.645567013343093, 0.7498692037146433, 0.5024364839309508, 0.6297023839567578, 0.6816950437740084, 0.5387896508140213, 0.5618220496674563, 0.7773114297857304, 0.7589750329951201, 0.63903857416035, 0.5175732344150054, 0.5817573021095713, 0.7509950178676824, 0.7959635941598164, 0.7925114443483386], maxlen=20)\n",
      "eval_mean: 0.6454097097861138\n"
     ]
    },
    {
     "name": "stderr",
     "output_type": "stream",
     "text": [
      "\r",
      " 72%|████████████████████████████████████████████████████▉                    | 72434/100000 [1:34:01<40:02, 11.48it/s]"
     ]
    },
    {
     "name": "stdout",
     "output_type": "stream",
     "text": [
      "self.evaluation_deque: deque([0.5784182632722866, 0.5230945707369712, 0.6866071400321059, 0.4997165065584009, 0.6963502560799654, 0.645567013343093, 0.7498692037146433, 0.5024364839309508, 0.6297023839567578, 0.6816950437740084, 0.5387896508140213, 0.5618220496674563, 0.7773114297857304, 0.7589750329951201, 0.63903857416035, 0.5175732344150054, 0.5817573021095713, 0.7509950178676824, 0.7959635941598164, 0.7925114443483386], maxlen=20)\n",
      "eval_mean: 0.6454097097861138\n"
     ]
    },
    {
     "name": "stderr",
     "output_type": "stream",
     "text": [
      "\r",
      " 73%|████████████████████████████████████████████████████▉                    | 72510/100000 [1:34:09<42:30, 10.78it/s]"
     ]
    },
    {
     "name": "stdout",
     "output_type": "stream",
     "text": [
      "self.evaluation_deque: deque([0.5784182632722866, 0.5230945707369712, 0.6866071400321059, 0.4997165065584009, 0.6963502560799654, 0.645567013343093, 0.7498692037146433, 0.5024364839309508, 0.6297023839567578, 0.6816950437740084, 0.5387896508140213, 0.5618220496674563, 0.7773114297857304, 0.7589750329951201, 0.63903857416035, 0.5175732344150054, 0.5817573021095713, 0.7509950178676824, 0.7959635941598164, 0.7925114443483386], maxlen=20)\n",
      "eval_mean: 0.6454097097861138\n"
     ]
    },
    {
     "name": "stderr",
     "output_type": "stream",
     "text": [
      "\r",
      " 73%|████████████████████████████████████████████████████▉                    | 72586/100000 [1:34:17<44:18, 10.31it/s]"
     ]
    },
    {
     "name": "stdout",
     "output_type": "stream",
     "text": [
      "self.get_collection_ratio(): 0.7053668567159442\n",
      "self.comms.count(True) : 2\n",
      "len(self.comms) : 2\n",
      "self.state.ratio_commed: 1.0\n",
      "self.comms.count(True) : 2\n",
      "len(self.comms) : 2\n",
      "self.evaluation_deque: deque([0.5230945707369712, 0.6866071400321059, 0.4997165065584009, 0.6963502560799654, 0.645567013343093, 0.7498692037146433, 0.5024364839309508, 0.6297023839567578, 0.6816950437740084, 0.5387896508140213, 0.5618220496674563, 0.7773114297857304, 0.7589750329951201, 0.63903857416035, 0.5175732344150054, 0.5817573021095713, 0.7509950178676824, 0.7959635941598164, 0.7925114443483386, 0.7053668567159442], maxlen=20)\n",
      "eval_mean: 0.6517571394582966\n",
      "Saving best with: 0.6517571394582966\n"
     ]
    },
    {
     "name": "stderr",
     "output_type": "stream",
     "text": [
      "\r",
      " 73%|█████████████████████████████████████████████████████                    | 72662/100000 [1:34:26<45:28, 10.02it/s]"
     ]
    },
    {
     "name": "stdout",
     "output_type": "stream",
     "text": [
      "self.evaluation_deque: deque([0.5230945707369712, 0.6866071400321059, 0.4997165065584009, 0.6963502560799654, 0.645567013343093, 0.7498692037146433, 0.5024364839309508, 0.6297023839567578, 0.6816950437740084, 0.5387896508140213, 0.5618220496674563, 0.7773114297857304, 0.7589750329951201, 0.63903857416035, 0.5175732344150054, 0.5817573021095713, 0.7509950178676824, 0.7959635941598164, 0.7925114443483386, 0.7053668567159442], maxlen=20)\n",
      "eval_mean: 0.6517571394582966\n"
     ]
    },
    {
     "name": "stderr",
     "output_type": "stream",
     "text": [
      "\r",
      " 73%|█████████████████████████████████████████████████████                    | 72738/100000 [1:34:31<42:05, 10.79it/s]"
     ]
    },
    {
     "name": "stdout",
     "output_type": "stream",
     "text": [
      "self.evaluation_deque: deque([0.5230945707369712, 0.6866071400321059, 0.4997165065584009, 0.6963502560799654, 0.645567013343093, 0.7498692037146433, 0.5024364839309508, 0.6297023839567578, 0.6816950437740084, 0.5387896508140213, 0.5618220496674563, 0.7773114297857304, 0.7589750329951201, 0.63903857416035, 0.5175732344150054, 0.5817573021095713, 0.7509950178676824, 0.7959635941598164, 0.7925114443483386, 0.7053668567159442], maxlen=20)\n",
      "eval_mean: 0.6517571394582966\n"
     ]
    },
    {
     "name": "stderr",
     "output_type": "stream",
     "text": [
      "\r",
      " 73%|█████████████████████████████████████████████████████▏                   | 72814/100000 [1:34:47<57:28,  7.88it/s]"
     ]
    },
    {
     "name": "stdout",
     "output_type": "stream",
     "text": [
      "self.evaluation_deque: deque([0.5230945707369712, 0.6866071400321059, 0.4997165065584009, 0.6963502560799654, 0.645567013343093, 0.7498692037146433, 0.5024364839309508, 0.6297023839567578, 0.6816950437740084, 0.5387896508140213, 0.5618220496674563, 0.7773114297857304, 0.7589750329951201, 0.63903857416035, 0.5175732344150054, 0.5817573021095713, 0.7509950178676824, 0.7959635941598164, 0.7925114443483386, 0.7053668567159442], maxlen=20)\n",
      "eval_mean: 0.6517571394582966\n"
     ]
    },
    {
     "name": "stderr",
     "output_type": "stream",
     "text": [
      "\r",
      " 73%|█████████████████████████████████████████████████████▏                   | 72890/100000 [1:34:54<52:09,  8.66it/s]"
     ]
    },
    {
     "name": "stdout",
     "output_type": "stream",
     "text": [
      "self.evaluation_deque: deque([0.5230945707369712, 0.6866071400321059, 0.4997165065584009, 0.6963502560799654, 0.645567013343093, 0.7498692037146433, 0.5024364839309508, 0.6297023839567578, 0.6816950437740084, 0.5387896508140213, 0.5618220496674563, 0.7773114297857304, 0.7589750329951201, 0.63903857416035, 0.5175732344150054, 0.5817573021095713, 0.7509950178676824, 0.7959635941598164, 0.7925114443483386, 0.7053668567159442], maxlen=20)\n",
      "eval_mean: 0.6517571394582966\n"
     ]
    },
    {
     "name": "stderr",
     "output_type": "stream",
     "text": [
      "\r",
      " 73%|█████████████████████████████████████████████████████▎                   | 72966/100000 [1:35:01<49:37,  9.08it/s]"
     ]
    },
    {
     "name": "stdout",
     "output_type": "stream",
     "text": [
      "self.get_collection_ratio(): 0.5448651429464818\n",
      "self.comms.count(True) : 1\n",
      "len(self.comms) : 1\n",
      "self.state.ratio_commed: 1.0\n",
      "self.comms.count(True) : 1\n",
      "len(self.comms) : 1\n",
      "self.evaluation_deque: deque([0.6866071400321059, 0.4997165065584009, 0.6963502560799654, 0.645567013343093, 0.7498692037146433, 0.5024364839309508, 0.6297023839567578, 0.6816950437740084, 0.5387896508140213, 0.5618220496674563, 0.7773114297857304, 0.7589750329951201, 0.63903857416035, 0.5175732344150054, 0.5817573021095713, 0.7509950178676824, 0.7959635941598164, 0.7925114443483386, 0.7053668567159442, 0.5448651429464818], maxlen=20)\n",
      "eval_mean: 0.6528456680687722\n",
      "Saving best with: 0.6528456680687722\n"
     ]
    },
    {
     "name": "stderr",
     "output_type": "stream",
     "text": [
      "\r",
      " 73%|█████████████████████████████████████████████████████▎                   | 73042/100000 [1:35:08<46:53,  9.58it/s]"
     ]
    },
    {
     "name": "stdout",
     "output_type": "stream",
     "text": [
      "self.evaluation_deque: deque([0.6866071400321059, 0.4997165065584009, 0.6963502560799654, 0.645567013343093, 0.7498692037146433, 0.5024364839309508, 0.6297023839567578, 0.6816950437740084, 0.5387896508140213, 0.5618220496674563, 0.7773114297857304, 0.7589750329951201, 0.63903857416035, 0.5175732344150054, 0.5817573021095713, 0.7509950178676824, 0.7959635941598164, 0.7925114443483386, 0.7053668567159442, 0.5448651429464818], maxlen=20)\n",
      "eval_mean: 0.6528456680687722\n"
     ]
    },
    {
     "name": "stderr",
     "output_type": "stream",
     "text": [
      "\r",
      " 73%|█████████████████████████████████████████████████████▍                   | 73118/100000 [1:35:15<45:02,  9.95it/s]"
     ]
    },
    {
     "name": "stdout",
     "output_type": "stream",
     "text": [
      "self.evaluation_deque: deque([0.6866071400321059, 0.4997165065584009, 0.6963502560799654, 0.645567013343093, 0.7498692037146433, 0.5024364839309508, 0.6297023839567578, 0.6816950437740084, 0.5387896508140213, 0.5618220496674563, 0.7773114297857304, 0.7589750329951201, 0.63903857416035, 0.5175732344150054, 0.5817573021095713, 0.7509950178676824, 0.7959635941598164, 0.7925114443483386, 0.7053668567159442, 0.5448651429464818], maxlen=20)\n",
      "eval_mean: 0.6528456680687722\n"
     ]
    },
    {
     "name": "stderr",
     "output_type": "stream",
     "text": [
      "\r",
      " 73%|█████████████████████████████████████████████████████▍                   | 73194/100000 [1:35:22<43:40, 10.23it/s]"
     ]
    },
    {
     "name": "stdout",
     "output_type": "stream",
     "text": [
      "self.evaluation_deque: deque([0.6866071400321059, 0.4997165065584009, 0.6963502560799654, 0.645567013343093, 0.7498692037146433, 0.5024364839309508, 0.6297023839567578, 0.6816950437740084, 0.5387896508140213, 0.5618220496674563, 0.7773114297857304, 0.7589750329951201, 0.63903857416035, 0.5175732344150054, 0.5817573021095713, 0.7509950178676824, 0.7959635941598164, 0.7925114443483386, 0.7053668567159442, 0.5448651429464818], maxlen=20)\n",
      "eval_mean: 0.6528456680687722\n"
     ]
    },
    {
     "name": "stderr",
     "output_type": "stream",
     "text": [
      "\r",
      " 73%|█████████████████████████████████████████████████████▍                   | 73270/100000 [1:35:30<44:46,  9.95it/s]"
     ]
    },
    {
     "name": "stdout",
     "output_type": "stream",
     "text": [
      "self.evaluation_deque: deque([0.6866071400321059, 0.4997165065584009, 0.6963502560799654, 0.645567013343093, 0.7498692037146433, 0.5024364839309508, 0.6297023839567578, 0.6816950437740084, 0.5387896508140213, 0.5618220496674563, 0.7773114297857304, 0.7589750329951201, 0.63903857416035, 0.5175732344150054, 0.5817573021095713, 0.7509950178676824, 0.7959635941598164, 0.7925114443483386, 0.7053668567159442, 0.5448651429464818], maxlen=20)\n",
      "eval_mean: 0.6528456680687722\n"
     ]
    },
    {
     "name": "stderr",
     "output_type": "stream",
     "text": [
      "\r",
      " 73%|█████████████████████████████████████████████████████▌                   | 73346/100000 [1:35:38<45:36,  9.74it/s]"
     ]
    },
    {
     "name": "stdout",
     "output_type": "stream",
     "text": [
      "self.get_collection_ratio(): 0.6526342794454074\n",
      "self.comms.count(True) : 2\n",
      "len(self.comms) : 2\n",
      "self.state.ratio_commed: 1.0\n",
      "self.comms.count(True) : 2\n",
      "len(self.comms) : 2\n",
      "self.evaluation_deque: deque([0.4997165065584009, 0.6963502560799654, 0.645567013343093, 0.7498692037146433, 0.5024364839309508, 0.6297023839567578, 0.6816950437740084, 0.5387896508140213, 0.5618220496674563, 0.7773114297857304, 0.7589750329951201, 0.63903857416035, 0.5175732344150054, 0.5817573021095713, 0.7509950178676824, 0.7959635941598164, 0.7925114443483386, 0.7053668567159442, 0.5448651429464818, 0.6526342794454074], maxlen=20)\n",
      "eval_mean: 0.6511470250394372\n"
     ]
    },
    {
     "name": "stderr",
     "output_type": "stream",
     "text": [
      "\r",
      " 73%|█████████████████████████████████████████████████████▌                   | 73422/100000 [1:35:47<46:15,  9.58it/s]"
     ]
    },
    {
     "name": "stdout",
     "output_type": "stream",
     "text": [
      "self.evaluation_deque: deque([0.4997165065584009, 0.6963502560799654, 0.645567013343093, 0.7498692037146433, 0.5024364839309508, 0.6297023839567578, 0.6816950437740084, 0.5387896508140213, 0.5618220496674563, 0.7773114297857304, 0.7589750329951201, 0.63903857416035, 0.5175732344150054, 0.5817573021095713, 0.7509950178676824, 0.7959635941598164, 0.7925114443483386, 0.7053668567159442, 0.5448651429464818, 0.6526342794454074], maxlen=20)\n",
      "eval_mean: 0.6511470250394372\n"
     ]
    },
    {
     "name": "stderr",
     "output_type": "stream",
     "text": [
      "\r",
      " 73%|█████████████████████████████████████████████████████▋                   | 73498/100000 [1:35:52<42:21, 10.43it/s]"
     ]
    },
    {
     "name": "stdout",
     "output_type": "stream",
     "text": [
      "self.evaluation_deque: deque([0.4997165065584009, 0.6963502560799654, 0.645567013343093, 0.7498692037146433, 0.5024364839309508, 0.6297023839567578, 0.6816950437740084, 0.5387896508140213, 0.5618220496674563, 0.7773114297857304, 0.7589750329951201, 0.63903857416035, 0.5175732344150054, 0.5817573021095713, 0.7509950178676824, 0.7959635941598164, 0.7925114443483386, 0.7053668567159442, 0.5448651429464818, 0.6526342794454074], maxlen=20)\n",
      "eval_mean: 0.6511470250394372\n"
     ]
    },
    {
     "name": "stderr",
     "output_type": "stream",
     "text": [
      "\r",
      " 74%|█████████████████████████████████████████████████████▋                   | 73574/100000 [1:35:59<41:37, 10.58it/s]"
     ]
    },
    {
     "name": "stdout",
     "output_type": "stream",
     "text": [
      "self.evaluation_deque: deque([0.4997165065584009, 0.6963502560799654, 0.645567013343093, 0.7498692037146433, 0.5024364839309508, 0.6297023839567578, 0.6816950437740084, 0.5387896508140213, 0.5618220496674563, 0.7773114297857304, 0.7589750329951201, 0.63903857416035, 0.5175732344150054, 0.5817573021095713, 0.7509950178676824, 0.7959635941598164, 0.7925114443483386, 0.7053668567159442, 0.5448651429464818, 0.6526342794454074], maxlen=20)\n",
      "eval_mean: 0.6511470250394372\n"
     ]
    },
    {
     "name": "stderr",
     "output_type": "stream",
     "text": [
      "\r",
      " 74%|█████████████████████████████████████████████████████▊                   | 73650/100000 [1:36:05<38:58, 11.27it/s]"
     ]
    },
    {
     "name": "stdout",
     "output_type": "stream",
     "text": [
      "self.evaluation_deque: deque([0.4997165065584009, 0.6963502560799654, 0.645567013343093, 0.7498692037146433, 0.5024364839309508, 0.6297023839567578, 0.6816950437740084, 0.5387896508140213, 0.5618220496674563, 0.7773114297857304, 0.7589750329951201, 0.63903857416035, 0.5175732344150054, 0.5817573021095713, 0.7509950178676824, 0.7959635941598164, 0.7925114443483386, 0.7053668567159442, 0.5448651429464818, 0.6526342794454074], maxlen=20)\n",
      "eval_mean: 0.6511470250394372\n"
     ]
    },
    {
     "name": "stderr",
     "output_type": "stream",
     "text": [
      "\r",
      " 74%|█████████████████████████████████████████████████████▊                   | 73726/100000 [1:36:13<41:44, 10.49it/s]"
     ]
    },
    {
     "name": "stdout",
     "output_type": "stream",
     "text": [
      "self.get_collection_ratio(): 0.48829890834941275\n",
      "self.comms.count(True) : 1\n",
      "len(self.comms) : 1\n",
      "self.state.ratio_commed: 1.0\n",
      "self.comms.count(True) : 1\n",
      "len(self.comms) : 1\n",
      "self.evaluation_deque: deque([0.6963502560799654, 0.645567013343093, 0.7498692037146433, 0.5024364839309508, 0.6297023839567578, 0.6816950437740084, 0.5387896508140213, 0.5618220496674563, 0.7773114297857304, 0.7589750329951201, 0.63903857416035, 0.5175732344150054, 0.5817573021095713, 0.7509950178676824, 0.7959635941598164, 0.7925114443483386, 0.7053668567159442, 0.5448651429464818, 0.6526342794454074, 0.48829890834941275], maxlen=20)\n",
      "eval_mean: 0.6505761451289878\n"
     ]
    },
    {
     "name": "stderr",
     "output_type": "stream",
     "text": [
      "\r",
      " 74%|█████████████████████████████████████████████████████▉                   | 73802/100000 [1:36:20<40:57, 10.66it/s]"
     ]
    },
    {
     "name": "stdout",
     "output_type": "stream",
     "text": [
      "self.evaluation_deque: deque([0.6963502560799654, 0.645567013343093, 0.7498692037146433, 0.5024364839309508, 0.6297023839567578, 0.6816950437740084, 0.5387896508140213, 0.5618220496674563, 0.7773114297857304, 0.7589750329951201, 0.63903857416035, 0.5175732344150054, 0.5817573021095713, 0.7509950178676824, 0.7959635941598164, 0.7925114443483386, 0.7053668567159442, 0.5448651429464818, 0.6526342794454074, 0.48829890834941275], maxlen=20)\n",
      "eval_mean: 0.6505761451289878\n"
     ]
    },
    {
     "name": "stderr",
     "output_type": "stream",
     "text": [
      "\r",
      " 74%|█████████████████████████████████████████████████████▉                   | 73878/100000 [1:36:27<40:35, 10.73it/s]"
     ]
    },
    {
     "name": "stdout",
     "output_type": "stream",
     "text": [
      "self.evaluation_deque: deque([0.6963502560799654, 0.645567013343093, 0.7498692037146433, 0.5024364839309508, 0.6297023839567578, 0.6816950437740084, 0.5387896508140213, 0.5618220496674563, 0.7773114297857304, 0.7589750329951201, 0.63903857416035, 0.5175732344150054, 0.5817573021095713, 0.7509950178676824, 0.7959635941598164, 0.7925114443483386, 0.7053668567159442, 0.5448651429464818, 0.6526342794454074, 0.48829890834941275], maxlen=20)\n",
      "eval_mean: 0.6505761451289878\n"
     ]
    },
    {
     "name": "stderr",
     "output_type": "stream",
     "text": [
      "\r",
      " 74%|█████████████████████████████████████████████████████▉                   | 73954/100000 [1:36:35<42:15, 10.27it/s]"
     ]
    },
    {
     "name": "stdout",
     "output_type": "stream",
     "text": [
      "self.evaluation_deque: deque([0.6963502560799654, 0.645567013343093, 0.7498692037146433, 0.5024364839309508, 0.6297023839567578, 0.6816950437740084, 0.5387896508140213, 0.5618220496674563, 0.7773114297857304, 0.7589750329951201, 0.63903857416035, 0.5175732344150054, 0.5817573021095713, 0.7509950178676824, 0.7959635941598164, 0.7925114443483386, 0.7053668567159442, 0.5448651429464818, 0.6526342794454074, 0.48829890834941275], maxlen=20)\n",
      "eval_mean: 0.6505761451289878\n"
     ]
    },
    {
     "name": "stderr",
     "output_type": "stream",
     "text": [
      "\r",
      " 74%|██████████████████████████████████████████████████████                   | 74030/100000 [1:36:44<43:23,  9.98it/s]"
     ]
    },
    {
     "name": "stdout",
     "output_type": "stream",
     "text": [
      "self.evaluation_deque: deque([0.6963502560799654, 0.645567013343093, 0.7498692037146433, 0.5024364839309508, 0.6297023839567578, 0.6816950437740084, 0.5387896508140213, 0.5618220496674563, 0.7773114297857304, 0.7589750329951201, 0.63903857416035, 0.5175732344150054, 0.5817573021095713, 0.7509950178676824, 0.7959635941598164, 0.7925114443483386, 0.7053668567159442, 0.5448651429464818, 0.6526342794454074, 0.48829890834941275], maxlen=20)\n",
      "eval_mean: 0.6505761451289878\n"
     ]
    },
    {
     "name": "stderr",
     "output_type": "stream",
     "text": [
      "\r",
      " 74%|██████████████████████████████████████████████████████                   | 74106/100000 [1:36:55<49:25,  8.73it/s]"
     ]
    },
    {
     "name": "stdout",
     "output_type": "stream",
     "text": [
      "self.get_collection_ratio(): 0.6838628005743334\n",
      "self.comms.count(True) : 3\n",
      "len(self.comms) : 3\n",
      "self.state.ratio_commed: 1.0\n",
      "self.comms.count(True) : 3\n",
      "len(self.comms) : 3\n",
      "self.evaluation_deque: deque([0.645567013343093, 0.7498692037146433, 0.5024364839309508, 0.6297023839567578, 0.6816950437740084, 0.5387896508140213, 0.5618220496674563, 0.7773114297857304, 0.7589750329951201, 0.63903857416035, 0.5175732344150054, 0.5817573021095713, 0.7509950178676824, 0.7959635941598164, 0.7925114443483386, 0.7053668567159442, 0.5448651429464818, 0.6526342794454074, 0.48829890834941275, 0.6838628005743334], maxlen=20)\n",
      "eval_mean: 0.6499517723537063\n"
     ]
    },
    {
     "name": "stderr",
     "output_type": "stream",
     "text": [
      "\r",
      " 74%|██████████████████████████████████████████████████████▏                  | 74182/100000 [1:37:02<46:19,  9.29it/s]"
     ]
    },
    {
     "name": "stdout",
     "output_type": "stream",
     "text": [
      "self.evaluation_deque: deque([0.645567013343093, 0.7498692037146433, 0.5024364839309508, 0.6297023839567578, 0.6816950437740084, 0.5387896508140213, 0.5618220496674563, 0.7773114297857304, 0.7589750329951201, 0.63903857416035, 0.5175732344150054, 0.5817573021095713, 0.7509950178676824, 0.7959635941598164, 0.7925114443483386, 0.7053668567159442, 0.5448651429464818, 0.6526342794454074, 0.48829890834941275, 0.6838628005743334], maxlen=20)\n",
      "eval_mean: 0.6499517723537063\n"
     ]
    },
    {
     "name": "stderr",
     "output_type": "stream",
     "text": [
      "\r",
      " 74%|██████████████████████████████████████████████████████▏                  | 74258/100000 [1:37:10<46:01,  9.32it/s]"
     ]
    },
    {
     "name": "stdout",
     "output_type": "stream",
     "text": [
      "self.evaluation_deque: deque([0.645567013343093, 0.7498692037146433, 0.5024364839309508, 0.6297023839567578, 0.6816950437740084, 0.5387896508140213, 0.5618220496674563, 0.7773114297857304, 0.7589750329951201, 0.63903857416035, 0.5175732344150054, 0.5817573021095713, 0.7509950178676824, 0.7959635941598164, 0.7925114443483386, 0.7053668567159442, 0.5448651429464818, 0.6526342794454074, 0.48829890834941275, 0.6838628005743334], maxlen=20)\n",
      "eval_mean: 0.6499517723537063\n"
     ]
    },
    {
     "name": "stderr",
     "output_type": "stream",
     "text": [
      "\r",
      " 74%|██████████████████████████████████████████████████████▎                  | 74334/100000 [1:37:16<41:47, 10.23it/s]"
     ]
    },
    {
     "name": "stdout",
     "output_type": "stream",
     "text": [
      "self.evaluation_deque: deque([0.645567013343093, 0.7498692037146433, 0.5024364839309508, 0.6297023839567578, 0.6816950437740084, 0.5387896508140213, 0.5618220496674563, 0.7773114297857304, 0.7589750329951201, 0.63903857416035, 0.5175732344150054, 0.5817573021095713, 0.7509950178676824, 0.7959635941598164, 0.7925114443483386, 0.7053668567159442, 0.5448651429464818, 0.6526342794454074, 0.48829890834941275, 0.6838628005743334], maxlen=20)\n",
      "eval_mean: 0.6499517723537063\n"
     ]
    },
    {
     "name": "stderr",
     "output_type": "stream",
     "text": [
      "\r",
      " 74%|██████████████████████████████████████████████████████▎                  | 74410/100000 [1:37:24<42:50,  9.96it/s]"
     ]
    },
    {
     "name": "stdout",
     "output_type": "stream",
     "text": [
      "self.evaluation_deque: deque([0.645567013343093, 0.7498692037146433, 0.5024364839309508, 0.6297023839567578, 0.6816950437740084, 0.5387896508140213, 0.5618220496674563, 0.7773114297857304, 0.7589750329951201, 0.63903857416035, 0.5175732344150054, 0.5817573021095713, 0.7509950178676824, 0.7959635941598164, 0.7925114443483386, 0.7053668567159442, 0.5448651429464818, 0.6526342794454074, 0.48829890834941275, 0.6838628005743334], maxlen=20)\n",
      "eval_mean: 0.6499517723537063\n"
     ]
    },
    {
     "name": "stderr",
     "output_type": "stream",
     "text": [
      "\r",
      " 74%|██████████████████████████████████████████████████████▎                  | 74486/100000 [1:37:34<47:20,  8.98it/s]"
     ]
    },
    {
     "name": "stdout",
     "output_type": "stream",
     "text": [
      "self.get_collection_ratio(): 0.6808277733132452\n",
      "self.comms.count(True) : 2\n",
      "len(self.comms) : 2\n",
      "self.state.ratio_commed: 1.0\n",
      "self.comms.count(True) : 2\n",
      "len(self.comms) : 2\n",
      "self.evaluation_deque: deque([0.7498692037146433, 0.5024364839309508, 0.6297023839567578, 0.6816950437740084, 0.5387896508140213, 0.5618220496674563, 0.7773114297857304, 0.7589750329951201, 0.63903857416035, 0.5175732344150054, 0.5817573021095713, 0.7509950178676824, 0.7959635941598164, 0.7925114443483386, 0.7053668567159442, 0.5448651429464818, 0.6526342794454074, 0.48829890834941275, 0.6838628005743334, 0.6808277733132452], maxlen=20)\n",
      "eval_mean: 0.6517148103522139\n"
     ]
    },
    {
     "name": "stderr",
     "output_type": "stream",
     "text": [
      "\r",
      " 75%|██████████████████████████████████████████████████████▍                  | 74562/100000 [1:37:40<42:43,  9.92it/s]"
     ]
    },
    {
     "name": "stdout",
     "output_type": "stream",
     "text": [
      "self.evaluation_deque: deque([0.7498692037146433, 0.5024364839309508, 0.6297023839567578, 0.6816950437740084, 0.5387896508140213, 0.5618220496674563, 0.7773114297857304, 0.7589750329951201, 0.63903857416035, 0.5175732344150054, 0.5817573021095713, 0.7509950178676824, 0.7959635941598164, 0.7925114443483386, 0.7053668567159442, 0.5448651429464818, 0.6526342794454074, 0.48829890834941275, 0.6838628005743334, 0.6808277733132452], maxlen=20)\n",
      "eval_mean: 0.6517148103522139\n"
     ]
    },
    {
     "name": "stderr",
     "output_type": "stream",
     "text": [
      "\r",
      " 75%|██████████████████████████████████████████████████████▍                  | 74638/100000 [1:37:48<43:24,  9.74it/s]"
     ]
    },
    {
     "name": "stdout",
     "output_type": "stream",
     "text": [
      "self.evaluation_deque: deque([0.7498692037146433, 0.5024364839309508, 0.6297023839567578, 0.6816950437740084, 0.5387896508140213, 0.5618220496674563, 0.7773114297857304, 0.7589750329951201, 0.63903857416035, 0.5175732344150054, 0.5817573021095713, 0.7509950178676824, 0.7959635941598164, 0.7925114443483386, 0.7053668567159442, 0.5448651429464818, 0.6526342794454074, 0.48829890834941275, 0.6838628005743334, 0.6808277733132452], maxlen=20)\n",
      "eval_mean: 0.6517148103522139\n"
     ]
    },
    {
     "name": "stderr",
     "output_type": "stream",
     "text": [
      "\r",
      " 75%|██████████████████████████████████████████████████████▌                  | 74714/100000 [1:37:54<39:52, 10.57it/s]"
     ]
    },
    {
     "name": "stdout",
     "output_type": "stream",
     "text": [
      "self.evaluation_deque: deque([0.7498692037146433, 0.5024364839309508, 0.6297023839567578, 0.6816950437740084, 0.5387896508140213, 0.5618220496674563, 0.7773114297857304, 0.7589750329951201, 0.63903857416035, 0.5175732344150054, 0.5817573021095713, 0.7509950178676824, 0.7959635941598164, 0.7925114443483386, 0.7053668567159442, 0.5448651429464818, 0.6526342794454074, 0.48829890834941275, 0.6838628005743334, 0.6808277733132452], maxlen=20)\n",
      "eval_mean: 0.6517148103522139\n"
     ]
    },
    {
     "name": "stderr",
     "output_type": "stream",
     "text": [
      "\r",
      " 75%|██████████████████████████████████████████████████████▌                  | 74790/100000 [1:38:01<39:23, 10.67it/s]"
     ]
    },
    {
     "name": "stdout",
     "output_type": "stream",
     "text": [
      "self.evaluation_deque: deque([0.7498692037146433, 0.5024364839309508, 0.6297023839567578, 0.6816950437740084, 0.5387896508140213, 0.5618220496674563, 0.7773114297857304, 0.7589750329951201, 0.63903857416035, 0.5175732344150054, 0.5817573021095713, 0.7509950178676824, 0.7959635941598164, 0.7925114443483386, 0.7053668567159442, 0.5448651429464818, 0.6526342794454074, 0.48829890834941275, 0.6838628005743334, 0.6808277733132452], maxlen=20)\n",
      "eval_mean: 0.6517148103522139\n"
     ]
    },
    {
     "name": "stderr",
     "output_type": "stream",
     "text": [
      "\r",
      " 75%|██████████████████████████████████████████████████████▋                  | 74866/100000 [1:38:10<43:29,  9.63it/s]"
     ]
    },
    {
     "name": "stdout",
     "output_type": "stream",
     "text": [
      "self.get_collection_ratio(): 0.4848745197516149\n",
      "self.comms.count(True) : 1\n",
      "len(self.comms) : 1\n",
      "self.state.ratio_commed: 1.0\n",
      "self.comms.count(True) : 1\n",
      "len(self.comms) : 1\n",
      "self.evaluation_deque: deque([0.5024364839309508, 0.6297023839567578, 0.6816950437740084, 0.5387896508140213, 0.5618220496674563, 0.7773114297857304, 0.7589750329951201, 0.63903857416035, 0.5175732344150054, 0.5817573021095713, 0.7509950178676824, 0.7959635941598164, 0.7925114443483386, 0.7053668567159442, 0.5448651429464818, 0.6526342794454074, 0.48829890834941275, 0.6838628005743334, 0.6808277733132452, 0.4848745197516149], maxlen=20)\n",
      "eval_mean: 0.6384650761540624\n"
     ]
    },
    {
     "name": "stderr",
     "output_type": "stream",
     "text": [
      "\r",
      " 75%|██████████████████████████████████████████████████████▋                  | 74942/100000 [1:38:18<43:40,  9.56it/s]"
     ]
    },
    {
     "name": "stdout",
     "output_type": "stream",
     "text": [
      "self.evaluation_deque: deque([0.5024364839309508, 0.6297023839567578, 0.6816950437740084, 0.5387896508140213, 0.5618220496674563, 0.7773114297857304, 0.7589750329951201, 0.63903857416035, 0.5175732344150054, 0.5817573021095713, 0.7509950178676824, 0.7959635941598164, 0.7925114443483386, 0.7053668567159442, 0.5448651429464818, 0.6526342794454074, 0.48829890834941275, 0.6838628005743334, 0.6808277733132452, 0.4848745197516149], maxlen=20)\n",
      "eval_mean: 0.6384650761540624\n"
     ]
    },
    {
     "name": "stderr",
     "output_type": "stream",
     "text": [
      "\r",
      " 75%|██████████████████████████████████████████████████████▊                  | 75018/100000 [1:38:25<41:57,  9.92it/s]"
     ]
    },
    {
     "name": "stdout",
     "output_type": "stream",
     "text": [
      "self.evaluation_deque: deque([0.5024364839309508, 0.6297023839567578, 0.6816950437740084, 0.5387896508140213, 0.5618220496674563, 0.7773114297857304, 0.7589750329951201, 0.63903857416035, 0.5175732344150054, 0.5817573021095713, 0.7509950178676824, 0.7959635941598164, 0.7925114443483386, 0.7053668567159442, 0.5448651429464818, 0.6526342794454074, 0.48829890834941275, 0.6838628005743334, 0.6808277733132452, 0.4848745197516149], maxlen=20)\n",
      "eval_mean: 0.6384650761540624\n"
     ]
    },
    {
     "name": "stderr",
     "output_type": "stream",
     "text": [
      "\r",
      " 75%|██████████████████████████████████████████████████████▊                  | 75094/100000 [1:38:34<42:35,  9.75it/s]"
     ]
    },
    {
     "name": "stdout",
     "output_type": "stream",
     "text": [
      "self.evaluation_deque: deque([0.5024364839309508, 0.6297023839567578, 0.6816950437740084, 0.5387896508140213, 0.5618220496674563, 0.7773114297857304, 0.7589750329951201, 0.63903857416035, 0.5175732344150054, 0.5817573021095713, 0.7509950178676824, 0.7959635941598164, 0.7925114443483386, 0.7053668567159442, 0.5448651429464818, 0.6526342794454074, 0.48829890834941275, 0.6838628005743334, 0.6808277733132452, 0.4848745197516149], maxlen=20)\n",
      "eval_mean: 0.6384650761540624\n"
     ]
    },
    {
     "name": "stderr",
     "output_type": "stream",
     "text": [
      "\r",
      " 75%|██████████████████████████████████████████████████████▊                  | 75170/100000 [1:38:42<42:52,  9.65it/s]"
     ]
    },
    {
     "name": "stdout",
     "output_type": "stream",
     "text": [
      "self.evaluation_deque: deque([0.5024364839309508, 0.6297023839567578, 0.6816950437740084, 0.5387896508140213, 0.5618220496674563, 0.7773114297857304, 0.7589750329951201, 0.63903857416035, 0.5175732344150054, 0.5817573021095713, 0.7509950178676824, 0.7959635941598164, 0.7925114443483386, 0.7053668567159442, 0.5448651429464818, 0.6526342794454074, 0.48829890834941275, 0.6838628005743334, 0.6808277733132452, 0.4848745197516149], maxlen=20)\n",
      "eval_mean: 0.6384650761540624\n"
     ]
    },
    {
     "name": "stderr",
     "output_type": "stream",
     "text": [
      "\r",
      " 75%|██████████████████████████████████████████████████████▉                  | 75246/100000 [1:38:51<44:29,  9.27it/s]"
     ]
    },
    {
     "name": "stdout",
     "output_type": "stream",
     "text": [
      "self.get_collection_ratio(): 0.7464825557428637\n",
      "self.comms.count(True) : 3\n",
      "len(self.comms) : 3\n",
      "self.state.ratio_commed: 1.0\n",
      "self.comms.count(True) : 3\n",
      "len(self.comms) : 3\n",
      "self.evaluation_deque: deque([0.6297023839567578, 0.6816950437740084, 0.5387896508140213, 0.5618220496674563, 0.7773114297857304, 0.7589750329951201, 0.63903857416035, 0.5175732344150054, 0.5817573021095713, 0.7509950178676824, 0.7959635941598164, 0.7925114443483386, 0.7053668567159442, 0.5448651429464818, 0.6526342794454074, 0.48829890834941275, 0.6838628005743334, 0.6808277733132452, 0.4848745197516149, 0.7464825557428637], maxlen=20)\n",
      "eval_mean: 0.650667379744658\n"
     ]
    },
    {
     "name": "stderr",
     "output_type": "stream",
     "text": [
      "\r",
      " 75%|██████████████████████████████████████████████████████▉                  | 75322/100000 [1:38:59<44:16,  9.29it/s]"
     ]
    },
    {
     "name": "stdout",
     "output_type": "stream",
     "text": [
      "self.evaluation_deque: deque([0.6297023839567578, 0.6816950437740084, 0.5387896508140213, 0.5618220496674563, 0.7773114297857304, 0.7589750329951201, 0.63903857416035, 0.5175732344150054, 0.5817573021095713, 0.7509950178676824, 0.7959635941598164, 0.7925114443483386, 0.7053668567159442, 0.5448651429464818, 0.6526342794454074, 0.48829890834941275, 0.6838628005743334, 0.6808277733132452, 0.4848745197516149, 0.7464825557428637], maxlen=20)\n",
      "eval_mean: 0.650667379744658\n"
     ]
    },
    {
     "name": "stderr",
     "output_type": "stream",
     "text": [
      "\r",
      " 75%|███████████████████████████████████████████████████████                  | 75398/100000 [1:39:05<40:13, 10.19it/s]"
     ]
    },
    {
     "name": "stdout",
     "output_type": "stream",
     "text": [
      "self.evaluation_deque: deque([0.6297023839567578, 0.6816950437740084, 0.5387896508140213, 0.5618220496674563, 0.7773114297857304, 0.7589750329951201, 0.63903857416035, 0.5175732344150054, 0.5817573021095713, 0.7509950178676824, 0.7959635941598164, 0.7925114443483386, 0.7053668567159442, 0.5448651429464818, 0.6526342794454074, 0.48829890834941275, 0.6838628005743334, 0.6808277733132452, 0.4848745197516149, 0.7464825557428637], maxlen=20)\n",
      "eval_mean: 0.650667379744658\n"
     ]
    },
    {
     "name": "stderr",
     "output_type": "stream",
     "text": [
      "\r",
      " 75%|███████████████████████████████████████████████████████                  | 75474/100000 [1:39:11<39:14, 10.41it/s]"
     ]
    },
    {
     "name": "stdout",
     "output_type": "stream",
     "text": [
      "self.evaluation_deque: deque([0.6297023839567578, 0.6816950437740084, 0.5387896508140213, 0.5618220496674563, 0.7773114297857304, 0.7589750329951201, 0.63903857416035, 0.5175732344150054, 0.5817573021095713, 0.7509950178676824, 0.7959635941598164, 0.7925114443483386, 0.7053668567159442, 0.5448651429464818, 0.6526342794454074, 0.48829890834941275, 0.6838628005743334, 0.6808277733132452, 0.4848745197516149, 0.7464825557428637], maxlen=20)\n",
      "eval_mean: 0.650667379744658\n"
     ]
    },
    {
     "name": "stderr",
     "output_type": "stream",
     "text": [
      "\r",
      " 76%|███████████████████████████████████████████████████████▏                 | 75550/100000 [1:39:17<36:37, 11.12it/s]"
     ]
    },
    {
     "name": "stdout",
     "output_type": "stream",
     "text": [
      "self.evaluation_deque: deque([0.6297023839567578, 0.6816950437740084, 0.5387896508140213, 0.5618220496674563, 0.7773114297857304, 0.7589750329951201, 0.63903857416035, 0.5175732344150054, 0.5817573021095713, 0.7509950178676824, 0.7959635941598164, 0.7925114443483386, 0.7053668567159442, 0.5448651429464818, 0.6526342794454074, 0.48829890834941275, 0.6838628005743334, 0.6808277733132452, 0.4848745197516149, 0.7464825557428637], maxlen=20)\n",
      "eval_mean: 0.650667379744658\n"
     ]
    },
    {
     "name": "stderr",
     "output_type": "stream",
     "text": [
      "\r",
      " 76%|███████████████████████████████████████████████████████▏                 | 75626/100000 [1:39:27<40:40,  9.99it/s]"
     ]
    },
    {
     "name": "stdout",
     "output_type": "stream",
     "text": [
      "self.get_collection_ratio(): 0.5865357406044868\n",
      "self.comms.count(True) : 1\n",
      "len(self.comms) : 1\n",
      "self.state.ratio_commed: 1.0\n",
      "self.comms.count(True) : 1\n",
      "len(self.comms) : 1\n",
      "self.evaluation_deque: deque([0.6816950437740084, 0.5387896508140213, 0.5618220496674563, 0.7773114297857304, 0.7589750329951201, 0.63903857416035, 0.5175732344150054, 0.5817573021095713, 0.7509950178676824, 0.7959635941598164, 0.7925114443483386, 0.7053668567159442, 0.5448651429464818, 0.6526342794454074, 0.48829890834941275, 0.6838628005743334, 0.6808277733132452, 0.4848745197516149, 0.7464825557428637, 0.5865357406044868], maxlen=20)\n",
      "eval_mean: 0.6485090475770446\n"
     ]
    },
    {
     "name": "stderr",
     "output_type": "stream",
     "text": [
      "\r",
      " 76%|███████████████████████████████████████████████████████▎                 | 75702/100000 [1:39:32<37:41, 10.74it/s]"
     ]
    },
    {
     "name": "stdout",
     "output_type": "stream",
     "text": [
      "self.evaluation_deque: deque([0.6816950437740084, 0.5387896508140213, 0.5618220496674563, 0.7773114297857304, 0.7589750329951201, 0.63903857416035, 0.5175732344150054, 0.5817573021095713, 0.7509950178676824, 0.7959635941598164, 0.7925114443483386, 0.7053668567159442, 0.5448651429464818, 0.6526342794454074, 0.48829890834941275, 0.6838628005743334, 0.6808277733132452, 0.4848745197516149, 0.7464825557428637, 0.5865357406044868], maxlen=20)\n",
      "eval_mean: 0.6485090475770446\n"
     ]
    },
    {
     "name": "stderr",
     "output_type": "stream",
     "text": [
      "\r",
      " 76%|███████████████████████████████████████████████████████▎                 | 75778/100000 [1:39:40<39:09, 10.31it/s]"
     ]
    },
    {
     "name": "stdout",
     "output_type": "stream",
     "text": [
      "self.evaluation_deque: deque([0.6816950437740084, 0.5387896508140213, 0.5618220496674563, 0.7773114297857304, 0.7589750329951201, 0.63903857416035, 0.5175732344150054, 0.5817573021095713, 0.7509950178676824, 0.7959635941598164, 0.7925114443483386, 0.7053668567159442, 0.5448651429464818, 0.6526342794454074, 0.48829890834941275, 0.6838628005743334, 0.6808277733132452, 0.4848745197516149, 0.7464825557428637, 0.5865357406044868], maxlen=20)\n",
      "eval_mean: 0.6485090475770446\n"
     ]
    },
    {
     "name": "stderr",
     "output_type": "stream",
     "text": [
      "\r",
      " 76%|███████████████████████████████████████████████████████▎                 | 75854/100000 [1:39:46<36:31, 11.02it/s]"
     ]
    },
    {
     "name": "stdout",
     "output_type": "stream",
     "text": [
      "self.evaluation_deque: deque([0.6816950437740084, 0.5387896508140213, 0.5618220496674563, 0.7773114297857304, 0.7589750329951201, 0.63903857416035, 0.5175732344150054, 0.5817573021095713, 0.7509950178676824, 0.7959635941598164, 0.7925114443483386, 0.7053668567159442, 0.5448651429464818, 0.6526342794454074, 0.48829890834941275, 0.6838628005743334, 0.6808277733132452, 0.4848745197516149, 0.7464825557428637, 0.5865357406044868], maxlen=20)\n",
      "eval_mean: 0.6485090475770446\n"
     ]
    },
    {
     "name": "stderr",
     "output_type": "stream",
     "text": [
      "\r",
      " 76%|███████████████████████████████████████████████████████▍                 | 75930/100000 [1:39:54<38:21, 10.46it/s]"
     ]
    },
    {
     "name": "stdout",
     "output_type": "stream",
     "text": [
      "self.evaluation_deque: deque([0.6816950437740084, 0.5387896508140213, 0.5618220496674563, 0.7773114297857304, 0.7589750329951201, 0.63903857416035, 0.5175732344150054, 0.5817573021095713, 0.7509950178676824, 0.7959635941598164, 0.7925114443483386, 0.7053668567159442, 0.5448651429464818, 0.6526342794454074, 0.48829890834941275, 0.6838628005743334, 0.6808277733132452, 0.4848745197516149, 0.7464825557428637, 0.5865357406044868], maxlen=20)\n",
      "eval_mean: 0.6485090475770446\n"
     ]
    },
    {
     "name": "stderr",
     "output_type": "stream",
     "text": [
      "\r",
      " 76%|███████████████████████████████████████████████████████▍                 | 76006/100000 [1:40:04<41:31,  9.63it/s]"
     ]
    },
    {
     "name": "stdout",
     "output_type": "stream",
     "text": [
      "self.get_collection_ratio(): 0.5329644570443057\n",
      "self.comms.count(True) : 1\n",
      "len(self.comms) : 1\n",
      "self.state.ratio_commed: 1.0\n",
      "self.comms.count(True) : 1\n",
      "len(self.comms) : 1\n",
      "self.evaluation_deque: deque([0.5387896508140213, 0.5618220496674563, 0.7773114297857304, 0.7589750329951201, 0.63903857416035, 0.5175732344150054, 0.5817573021095713, 0.7509950178676824, 0.7959635941598164, 0.7925114443483386, 0.7053668567159442, 0.5448651429464818, 0.6526342794454074, 0.48829890834941275, 0.6838628005743334, 0.6808277733132452, 0.4848745197516149, 0.7464825557428637, 0.5865357406044868, 0.5329644570443057], maxlen=20)\n",
      "eval_mean: 0.6410725182405594\n"
     ]
    },
    {
     "name": "stderr",
     "output_type": "stream",
     "text": [
      "\r",
      " 76%|███████████████████████████████████████████████████████▌                 | 76082/100000 [1:40:12<41:46,  9.54it/s]"
     ]
    },
    {
     "name": "stdout",
     "output_type": "stream",
     "text": [
      "self.evaluation_deque: deque([0.5387896508140213, 0.5618220496674563, 0.7773114297857304, 0.7589750329951201, 0.63903857416035, 0.5175732344150054, 0.5817573021095713, 0.7509950178676824, 0.7959635941598164, 0.7925114443483386, 0.7053668567159442, 0.5448651429464818, 0.6526342794454074, 0.48829890834941275, 0.6838628005743334, 0.6808277733132452, 0.4848745197516149, 0.7464825557428637, 0.5865357406044868, 0.5329644570443057], maxlen=20)\n",
      "eval_mean: 0.6410725182405594\n"
     ]
    },
    {
     "name": "stderr",
     "output_type": "stream",
     "text": [
      "\r",
      " 76%|███████████████████████████████████████████████████████▌                 | 76158/100000 [1:40:18<38:12, 10.40it/s]"
     ]
    },
    {
     "name": "stdout",
     "output_type": "stream",
     "text": [
      "self.evaluation_deque: deque([0.5387896508140213, 0.5618220496674563, 0.7773114297857304, 0.7589750329951201, 0.63903857416035, 0.5175732344150054, 0.5817573021095713, 0.7509950178676824, 0.7959635941598164, 0.7925114443483386, 0.7053668567159442, 0.5448651429464818, 0.6526342794454074, 0.48829890834941275, 0.6838628005743334, 0.6808277733132452, 0.4848745197516149, 0.7464825557428637, 0.5865357406044868, 0.5329644570443057], maxlen=20)\n",
      "eval_mean: 0.6410725182405594\n"
     ]
    },
    {
     "name": "stderr",
     "output_type": "stream",
     "text": [
      "\r",
      " 76%|███████████████████████████████████████████████████████▋                 | 76234/100000 [1:40:23<35:40, 11.10it/s]"
     ]
    },
    {
     "name": "stdout",
     "output_type": "stream",
     "text": [
      "self.evaluation_deque: deque([0.5387896508140213, 0.5618220496674563, 0.7773114297857304, 0.7589750329951201, 0.63903857416035, 0.5175732344150054, 0.5817573021095713, 0.7509950178676824, 0.7959635941598164, 0.7925114443483386, 0.7053668567159442, 0.5448651429464818, 0.6526342794454074, 0.48829890834941275, 0.6838628005743334, 0.6808277733132452, 0.4848745197516149, 0.7464825557428637, 0.5865357406044868, 0.5329644570443057], maxlen=20)\n",
      "eval_mean: 0.6410725182405594\n"
     ]
    },
    {
     "name": "stderr",
     "output_type": "stream",
     "text": [
      "\r",
      " 76%|███████████████████████████████████████████████████████▋                 | 76310/100000 [1:40:30<35:48, 11.02it/s]"
     ]
    },
    {
     "name": "stdout",
     "output_type": "stream",
     "text": [
      "self.evaluation_deque: deque([0.5387896508140213, 0.5618220496674563, 0.7773114297857304, 0.7589750329951201, 0.63903857416035, 0.5175732344150054, 0.5817573021095713, 0.7509950178676824, 0.7959635941598164, 0.7925114443483386, 0.7053668567159442, 0.5448651429464818, 0.6526342794454074, 0.48829890834941275, 0.6838628005743334, 0.6808277733132452, 0.4848745197516149, 0.7464825557428637, 0.5865357406044868, 0.5329644570443057], maxlen=20)\n",
      "eval_mean: 0.6410725182405594\n"
     ]
    },
    {
     "name": "stderr",
     "output_type": "stream",
     "text": [
      "\r",
      " 76%|███████████████████████████████████████████████████████▊                 | 76386/100000 [1:40:38<36:30, 10.78it/s]"
     ]
    },
    {
     "name": "stdout",
     "output_type": "stream",
     "text": [
      "self.get_collection_ratio(): 0.5601293596522994\n",
      "self.comms.count(True) : 1\n",
      "len(self.comms) : 1\n",
      "self.state.ratio_commed: 1.0\n",
      "self.comms.count(True) : 1\n",
      "len(self.comms) : 1\n",
      "self.evaluation_deque: deque([0.5618220496674563, 0.7773114297857304, 0.7589750329951201, 0.63903857416035, 0.5175732344150054, 0.5817573021095713, 0.7509950178676824, 0.7959635941598164, 0.7925114443483386, 0.7053668567159442, 0.5448651429464818, 0.6526342794454074, 0.48829890834941275, 0.6838628005743334, 0.6808277733132452, 0.4848745197516149, 0.7464825557428637, 0.5865357406044868, 0.5329644570443057, 0.5601293596522994], maxlen=20)\n",
      "eval_mean: 0.6421395036824733\n"
     ]
    },
    {
     "name": "stderr",
     "output_type": "stream",
     "text": [
      "\r",
      " 76%|███████████████████████████████████████████████████████▊                 | 76462/100000 [1:40:44<34:28, 11.38it/s]"
     ]
    },
    {
     "name": "stdout",
     "output_type": "stream",
     "text": [
      "self.evaluation_deque: deque([0.5618220496674563, 0.7773114297857304, 0.7589750329951201, 0.63903857416035, 0.5175732344150054, 0.5817573021095713, 0.7509950178676824, 0.7959635941598164, 0.7925114443483386, 0.7053668567159442, 0.5448651429464818, 0.6526342794454074, 0.48829890834941275, 0.6838628005743334, 0.6808277733132452, 0.4848745197516149, 0.7464825557428637, 0.5865357406044868, 0.5329644570443057, 0.5601293596522994], maxlen=20)\n",
      "eval_mean: 0.6421395036824733\n"
     ]
    },
    {
     "name": "stderr",
     "output_type": "stream",
     "text": [
      "\r",
      " 77%|███████████████████████████████████████████████████████▊                 | 76538/100000 [1:40:51<34:51, 11.22it/s]"
     ]
    },
    {
     "name": "stdout",
     "output_type": "stream",
     "text": [
      "self.evaluation_deque: deque([0.5618220496674563, 0.7773114297857304, 0.7589750329951201, 0.63903857416035, 0.5175732344150054, 0.5817573021095713, 0.7509950178676824, 0.7959635941598164, 0.7925114443483386, 0.7053668567159442, 0.5448651429464818, 0.6526342794454074, 0.48829890834941275, 0.6838628005743334, 0.6808277733132452, 0.4848745197516149, 0.7464825557428637, 0.5865357406044868, 0.5329644570443057, 0.5601293596522994], maxlen=20)\n",
      "eval_mean: 0.6421395036824733\n"
     ]
    },
    {
     "name": "stderr",
     "output_type": "stream",
     "text": [
      "\r",
      " 77%|███████████████████████████████████████████████████████▉                 | 76614/100000 [1:40:58<35:02, 11.12it/s]"
     ]
    },
    {
     "name": "stdout",
     "output_type": "stream",
     "text": [
      "self.evaluation_deque: deque([0.5618220496674563, 0.7773114297857304, 0.7589750329951201, 0.63903857416035, 0.5175732344150054, 0.5817573021095713, 0.7509950178676824, 0.7959635941598164, 0.7925114443483386, 0.7053668567159442, 0.5448651429464818, 0.6526342794454074, 0.48829890834941275, 0.6838628005743334, 0.6808277733132452, 0.4848745197516149, 0.7464825557428637, 0.5865357406044868, 0.5329644570443057, 0.5601293596522994], maxlen=20)\n",
      "eval_mean: 0.6421395036824733\n"
     ]
    },
    {
     "name": "stderr",
     "output_type": "stream",
     "text": [
      "\r",
      " 77%|███████████████████████████████████████████████████████▉                 | 76690/100000 [1:41:05<35:03, 11.08it/s]"
     ]
    },
    {
     "name": "stdout",
     "output_type": "stream",
     "text": [
      "self.evaluation_deque: deque([0.5618220496674563, 0.7773114297857304, 0.7589750329951201, 0.63903857416035, 0.5175732344150054, 0.5817573021095713, 0.7509950178676824, 0.7959635941598164, 0.7925114443483386, 0.7053668567159442, 0.5448651429464818, 0.6526342794454074, 0.48829890834941275, 0.6838628005743334, 0.6808277733132452, 0.4848745197516149, 0.7464825557428637, 0.5865357406044868, 0.5329644570443057, 0.5601293596522994], maxlen=20)\n",
      "eval_mean: 0.6421395036824733\n"
     ]
    },
    {
     "name": "stderr",
     "output_type": "stream",
     "text": [
      "\r",
      " 77%|████████████████████████████████████████████████████████                 | 76766/100000 [1:41:12<35:35, 10.88it/s]"
     ]
    },
    {
     "name": "stdout",
     "output_type": "stream",
     "text": [
      "self.get_collection_ratio(): 0.5490301156554718\n",
      "self.comms.count(True) : 1\n",
      "len(self.comms) : 1\n",
      "self.state.ratio_commed: 1.0\n",
      "self.comms.count(True) : 1\n",
      "len(self.comms) : 1\n",
      "self.evaluation_deque: deque([0.7773114297857304, 0.7589750329951201, 0.63903857416035, 0.5175732344150054, 0.5817573021095713, 0.7509950178676824, 0.7959635941598164, 0.7925114443483386, 0.7053668567159442, 0.5448651429464818, 0.6526342794454074, 0.48829890834941275, 0.6838628005743334, 0.6808277733132452, 0.4848745197516149, 0.7464825557428637, 0.5865357406044868, 0.5329644570443057, 0.5601293596522994, 0.5490301156554718], maxlen=20)\n",
      "eval_mean: 0.6414999069818741\n"
     ]
    },
    {
     "name": "stderr",
     "output_type": "stream",
     "text": [
      "\r",
      " 77%|████████████████████████████████████████████████████████                 | 76842/100000 [1:41:18<33:34, 11.50it/s]"
     ]
    },
    {
     "name": "stdout",
     "output_type": "stream",
     "text": [
      "self.evaluation_deque: deque([0.7773114297857304, 0.7589750329951201, 0.63903857416035, 0.5175732344150054, 0.5817573021095713, 0.7509950178676824, 0.7959635941598164, 0.7925114443483386, 0.7053668567159442, 0.5448651429464818, 0.6526342794454074, 0.48829890834941275, 0.6838628005743334, 0.6808277733132452, 0.4848745197516149, 0.7464825557428637, 0.5865357406044868, 0.5329644570443057, 0.5601293596522994, 0.5490301156554718], maxlen=20)\n",
      "eval_mean: 0.6414999069818741\n"
     ]
    },
    {
     "name": "stderr",
     "output_type": "stream",
     "text": [
      "\r",
      " 77%|████████████████████████████████████████████████████████▏                | 76918/100000 [1:41:23<32:13, 11.94it/s]"
     ]
    },
    {
     "name": "stdout",
     "output_type": "stream",
     "text": [
      "self.evaluation_deque: deque([0.7773114297857304, 0.7589750329951201, 0.63903857416035, 0.5175732344150054, 0.5817573021095713, 0.7509950178676824, 0.7959635941598164, 0.7925114443483386, 0.7053668567159442, 0.5448651429464818, 0.6526342794454074, 0.48829890834941275, 0.6838628005743334, 0.6808277733132452, 0.4848745197516149, 0.7464825557428637, 0.5865357406044868, 0.5329644570443057, 0.5601293596522994, 0.5490301156554718], maxlen=20)\n",
      "eval_mean: 0.6414999069818741\n"
     ]
    },
    {
     "name": "stderr",
     "output_type": "stream",
     "text": [
      "\r",
      " 77%|████████████████████████████████████████████████████████▏                | 76994/100000 [1:41:31<34:17, 11.18it/s]"
     ]
    },
    {
     "name": "stdout",
     "output_type": "stream",
     "text": [
      "self.evaluation_deque: deque([0.7773114297857304, 0.7589750329951201, 0.63903857416035, 0.5175732344150054, 0.5817573021095713, 0.7509950178676824, 0.7959635941598164, 0.7925114443483386, 0.7053668567159442, 0.5448651429464818, 0.6526342794454074, 0.48829890834941275, 0.6838628005743334, 0.6808277733132452, 0.4848745197516149, 0.7464825557428637, 0.5865357406044868, 0.5329644570443057, 0.5601293596522994, 0.5490301156554718], maxlen=20)\n",
      "eval_mean: 0.6414999069818741\n"
     ]
    },
    {
     "name": "stderr",
     "output_type": "stream",
     "text": [
      "\r",
      " 77%|████████████████████████████████████████████████████████▎                | 77070/100000 [1:41:39<36:05, 10.59it/s]"
     ]
    },
    {
     "name": "stdout",
     "output_type": "stream",
     "text": [
      "self.evaluation_deque: deque([0.7773114297857304, 0.7589750329951201, 0.63903857416035, 0.5175732344150054, 0.5817573021095713, 0.7509950178676824, 0.7959635941598164, 0.7925114443483386, 0.7053668567159442, 0.5448651429464818, 0.6526342794454074, 0.48829890834941275, 0.6838628005743334, 0.6808277733132452, 0.4848745197516149, 0.7464825557428637, 0.5865357406044868, 0.5329644570443057, 0.5601293596522994, 0.5490301156554718], maxlen=20)\n",
      "eval_mean: 0.6414999069818741\n"
     ]
    },
    {
     "name": "stderr",
     "output_type": "stream",
     "text": [
      "\r",
      " 77%|████████████████████████████████████████████████████████▎                | 77146/100000 [1:41:47<36:09, 10.53it/s]"
     ]
    },
    {
     "name": "stdout",
     "output_type": "stream",
     "text": [
      "self.get_collection_ratio(): 0.4945030260035427\n",
      "self.comms.count(True) : 1\n",
      "len(self.comms) : 1\n",
      "self.state.ratio_commed: 1.0\n",
      "self.comms.count(True) : 1\n",
      "len(self.comms) : 1\n",
      "self.evaluation_deque: deque([0.7589750329951201, 0.63903857416035, 0.5175732344150054, 0.5817573021095713, 0.7509950178676824, 0.7959635941598164, 0.7925114443483386, 0.7053668567159442, 0.5448651429464818, 0.6526342794454074, 0.48829890834941275, 0.6838628005743334, 0.6808277733132452, 0.4848745197516149, 0.7464825557428637, 0.5865357406044868, 0.5329644570443057, 0.5601293596522994, 0.5490301156554718, 0.4945030260035427], maxlen=20)\n",
      "eval_mean: 0.6273594867927647\n"
     ]
    },
    {
     "name": "stderr",
     "output_type": "stream",
     "text": [
      "\r",
      " 77%|████████████████████████████████████████████████████████▎                | 77222/100000 [1:41:52<33:52, 11.21it/s]"
     ]
    },
    {
     "name": "stdout",
     "output_type": "stream",
     "text": [
      "self.evaluation_deque: deque([0.7589750329951201, 0.63903857416035, 0.5175732344150054, 0.5817573021095713, 0.7509950178676824, 0.7959635941598164, 0.7925114443483386, 0.7053668567159442, 0.5448651429464818, 0.6526342794454074, 0.48829890834941275, 0.6838628005743334, 0.6808277733132452, 0.4848745197516149, 0.7464825557428637, 0.5865357406044868, 0.5329644570443057, 0.5601293596522994, 0.5490301156554718, 0.4945030260035427], maxlen=20)\n",
      "eval_mean: 0.6273594867927647\n"
     ]
    },
    {
     "name": "stderr",
     "output_type": "stream",
     "text": [
      "\r",
      " 77%|████████████████████████████████████████████████████████▍                | 77298/100000 [1:41:59<34:06, 11.09it/s]"
     ]
    },
    {
     "name": "stdout",
     "output_type": "stream",
     "text": [
      "self.evaluation_deque: deque([0.7589750329951201, 0.63903857416035, 0.5175732344150054, 0.5817573021095713, 0.7509950178676824, 0.7959635941598164, 0.7925114443483386, 0.7053668567159442, 0.5448651429464818, 0.6526342794454074, 0.48829890834941275, 0.6838628005743334, 0.6808277733132452, 0.4848745197516149, 0.7464825557428637, 0.5865357406044868, 0.5329644570443057, 0.5601293596522994, 0.5490301156554718, 0.4945030260035427], maxlen=20)\n",
      "eval_mean: 0.6273594867927647\n"
     ]
    },
    {
     "name": "stderr",
     "output_type": "stream",
     "text": [
      "\r",
      " 77%|████████████████████████████████████████████████████████▍                | 77374/100000 [1:42:06<34:03, 11.07it/s]"
     ]
    },
    {
     "name": "stdout",
     "output_type": "stream",
     "text": [
      "self.evaluation_deque: deque([0.7589750329951201, 0.63903857416035, 0.5175732344150054, 0.5817573021095713, 0.7509950178676824, 0.7959635941598164, 0.7925114443483386, 0.7053668567159442, 0.5448651429464818, 0.6526342794454074, 0.48829890834941275, 0.6838628005743334, 0.6808277733132452, 0.4848745197516149, 0.7464825557428637, 0.5865357406044868, 0.5329644570443057, 0.5601293596522994, 0.5490301156554718, 0.4945030260035427], maxlen=20)\n",
      "eval_mean: 0.6273594867927647\n"
     ]
    },
    {
     "name": "stderr",
     "output_type": "stream",
     "text": [
      "\r",
      " 77%|████████████████████████████████████████████████████████▌                | 77450/100000 [1:42:13<34:10, 11.00it/s]"
     ]
    },
    {
     "name": "stdout",
     "output_type": "stream",
     "text": [
      "self.evaluation_deque: deque([0.7589750329951201, 0.63903857416035, 0.5175732344150054, 0.5817573021095713, 0.7509950178676824, 0.7959635941598164, 0.7925114443483386, 0.7053668567159442, 0.5448651429464818, 0.6526342794454074, 0.48829890834941275, 0.6838628005743334, 0.6808277733132452, 0.4848745197516149, 0.7464825557428637, 0.5865357406044868, 0.5329644570443057, 0.5601293596522994, 0.5490301156554718, 0.4945030260035427], maxlen=20)\n",
      "eval_mean: 0.6273594867927647\n"
     ]
    },
    {
     "name": "stderr",
     "output_type": "stream",
     "text": [
      "\r",
      " 78%|████████████████████████████████████████████████████████▌                | 77526/100000 [1:42:23<37:33,  9.97it/s]"
     ]
    },
    {
     "name": "stdout",
     "output_type": "stream",
     "text": [
      "self.get_collection_ratio(): 0.5422126186334849\n",
      "self.comms.count(True) : 2\n",
      "len(self.comms) : 2\n",
      "self.state.ratio_commed: 1.0\n",
      "self.comms.count(True) : 2\n",
      "len(self.comms) : 2\n",
      "self.evaluation_deque: deque([0.63903857416035, 0.5175732344150054, 0.5817573021095713, 0.7509950178676824, 0.7959635941598164, 0.7925114443483386, 0.7053668567159442, 0.5448651429464818, 0.6526342794454074, 0.48829890834941275, 0.6838628005743334, 0.6808277733132452, 0.4848745197516149, 0.7464825557428637, 0.5865357406044868, 0.5329644570443057, 0.5601293596522994, 0.5490301156554718, 0.4945030260035427, 0.5422126186334849], maxlen=20)\n",
      "eval_mean: 0.6165213660746829\n"
     ]
    },
    {
     "name": "stderr",
     "output_type": "stream",
     "text": [
      "\r",
      " 78%|████████████████████████████████████████████████████████▋                | 77602/100000 [1:42:28<34:43, 10.75it/s]"
     ]
    },
    {
     "name": "stdout",
     "output_type": "stream",
     "text": [
      "self.evaluation_deque: deque([0.63903857416035, 0.5175732344150054, 0.5817573021095713, 0.7509950178676824, 0.7959635941598164, 0.7925114443483386, 0.7053668567159442, 0.5448651429464818, 0.6526342794454074, 0.48829890834941275, 0.6838628005743334, 0.6808277733132452, 0.4848745197516149, 0.7464825557428637, 0.5865357406044868, 0.5329644570443057, 0.5601293596522994, 0.5490301156554718, 0.4945030260035427, 0.5422126186334849], maxlen=20)\n",
      "eval_mean: 0.6165213660746829\n"
     ]
    },
    {
     "name": "stderr",
     "output_type": "stream",
     "text": [
      "\r",
      " 78%|████████████████████████████████████████████████████████▋                | 77678/100000 [1:42:34<32:43, 11.37it/s]"
     ]
    },
    {
     "name": "stdout",
     "output_type": "stream",
     "text": [
      "self.evaluation_deque: deque([0.63903857416035, 0.5175732344150054, 0.5817573021095713, 0.7509950178676824, 0.7959635941598164, 0.7925114443483386, 0.7053668567159442, 0.5448651429464818, 0.6526342794454074, 0.48829890834941275, 0.6838628005743334, 0.6808277733132452, 0.4848745197516149, 0.7464825557428637, 0.5865357406044868, 0.5329644570443057, 0.5601293596522994, 0.5490301156554718, 0.4945030260035427, 0.5422126186334849], maxlen=20)\n",
      "eval_mean: 0.6165213660746829\n"
     ]
    },
    {
     "name": "stderr",
     "output_type": "stream",
     "text": [
      "\r",
      " 78%|████████████████████████████████████████████████████████▊                | 77754/100000 [1:42:40<31:11, 11.88it/s]"
     ]
    },
    {
     "name": "stdout",
     "output_type": "stream",
     "text": [
      "self.evaluation_deque: deque([0.63903857416035, 0.5175732344150054, 0.5817573021095713, 0.7509950178676824, 0.7959635941598164, 0.7925114443483386, 0.7053668567159442, 0.5448651429464818, 0.6526342794454074, 0.48829890834941275, 0.6838628005743334, 0.6808277733132452, 0.4848745197516149, 0.7464825557428637, 0.5865357406044868, 0.5329644570443057, 0.5601293596522994, 0.5490301156554718, 0.4945030260035427, 0.5422126186334849], maxlen=20)\n",
      "eval_mean: 0.6165213660746829\n"
     ]
    },
    {
     "name": "stderr",
     "output_type": "stream",
     "text": [
      "\r",
      " 78%|████████████████████████████████████████████████████████▊                | 77830/100000 [1:42:47<31:49, 11.61it/s]"
     ]
    },
    {
     "name": "stdout",
     "output_type": "stream",
     "text": [
      "self.evaluation_deque: deque([0.63903857416035, 0.5175732344150054, 0.5817573021095713, 0.7509950178676824, 0.7959635941598164, 0.7925114443483386, 0.7053668567159442, 0.5448651429464818, 0.6526342794454074, 0.48829890834941275, 0.6838628005743334, 0.6808277733132452, 0.4848745197516149, 0.7464825557428637, 0.5865357406044868, 0.5329644570443057, 0.5601293596522994, 0.5490301156554718, 0.4945030260035427, 0.5422126186334849], maxlen=20)\n",
      "eval_mean: 0.6165213660746829\n"
     ]
    },
    {
     "name": "stderr",
     "output_type": "stream",
     "text": [
      "\r",
      " 78%|████████████████████████████████████████████████████████▊                | 77906/100000 [1:42:55<34:34, 10.65it/s]"
     ]
    },
    {
     "name": "stdout",
     "output_type": "stream",
     "text": [
      "self.get_collection_ratio(): 0.5215554428656046\n",
      "self.comms.count(True) : 1\n",
      "len(self.comms) : 1\n",
      "self.state.ratio_commed: 1.0\n",
      "self.comms.count(True) : 1\n",
      "len(self.comms) : 1\n",
      "self.evaluation_deque: deque([0.5175732344150054, 0.5817573021095713, 0.7509950178676824, 0.7959635941598164, 0.7925114443483386, 0.7053668567159442, 0.5448651429464818, 0.6526342794454074, 0.48829890834941275, 0.6838628005743334, 0.6808277733132452, 0.4848745197516149, 0.7464825557428637, 0.5865357406044868, 0.5329644570443057, 0.5601293596522994, 0.5490301156554718, 0.4945030260035427, 0.5422126186334849, 0.5215554428656046], maxlen=20)\n",
      "eval_mean: 0.6106472095099457\n"
     ]
    },
    {
     "name": "stderr",
     "output_type": "stream",
     "text": [
      "\r",
      " 78%|████████████████████████████████████████████████████████▉                | 77982/100000 [1:43:02<34:06, 10.76it/s]"
     ]
    },
    {
     "name": "stdout",
     "output_type": "stream",
     "text": [
      "self.evaluation_deque: deque([0.5175732344150054, 0.5817573021095713, 0.7509950178676824, 0.7959635941598164, 0.7925114443483386, 0.7053668567159442, 0.5448651429464818, 0.6526342794454074, 0.48829890834941275, 0.6838628005743334, 0.6808277733132452, 0.4848745197516149, 0.7464825557428637, 0.5865357406044868, 0.5329644570443057, 0.5601293596522994, 0.5490301156554718, 0.4945030260035427, 0.5422126186334849, 0.5215554428656046], maxlen=20)\n",
      "eval_mean: 0.6106472095099457\n"
     ]
    },
    {
     "name": "stderr",
     "output_type": "stream",
     "text": [
      "\r",
      " 78%|████████████████████████████████████████████████████████▉                | 78058/100000 [1:43:10<35:30, 10.30it/s]"
     ]
    },
    {
     "name": "stdout",
     "output_type": "stream",
     "text": [
      "self.evaluation_deque: deque([0.5175732344150054, 0.5817573021095713, 0.7509950178676824, 0.7959635941598164, 0.7925114443483386, 0.7053668567159442, 0.5448651429464818, 0.6526342794454074, 0.48829890834941275, 0.6838628005743334, 0.6808277733132452, 0.4848745197516149, 0.7464825557428637, 0.5865357406044868, 0.5329644570443057, 0.5601293596522994, 0.5490301156554718, 0.4945030260035427, 0.5422126186334849, 0.5215554428656046], maxlen=20)\n",
      "eval_mean: 0.6106472095099457\n"
     ]
    },
    {
     "name": "stderr",
     "output_type": "stream",
     "text": [
      "\r",
      " 78%|█████████████████████████████████████████████████████████                | 78134/100000 [1:43:18<36:20, 10.03it/s]"
     ]
    },
    {
     "name": "stdout",
     "output_type": "stream",
     "text": [
      "self.evaluation_deque: deque([0.5175732344150054, 0.5817573021095713, 0.7509950178676824, 0.7959635941598164, 0.7925114443483386, 0.7053668567159442, 0.5448651429464818, 0.6526342794454074, 0.48829890834941275, 0.6838628005743334, 0.6808277733132452, 0.4848745197516149, 0.7464825557428637, 0.5865357406044868, 0.5329644570443057, 0.5601293596522994, 0.5490301156554718, 0.4945030260035427, 0.5422126186334849, 0.5215554428656046], maxlen=20)\n",
      "eval_mean: 0.6106472095099457\n"
     ]
    },
    {
     "name": "stderr",
     "output_type": "stream",
     "text": [
      "\r",
      " 78%|█████████████████████████████████████████████████████████                | 78210/100000 [1:43:24<33:39, 10.79it/s]"
     ]
    },
    {
     "name": "stdout",
     "output_type": "stream",
     "text": [
      "self.evaluation_deque: deque([0.5175732344150054, 0.5817573021095713, 0.7509950178676824, 0.7959635941598164, 0.7925114443483386, 0.7053668567159442, 0.5448651429464818, 0.6526342794454074, 0.48829890834941275, 0.6838628005743334, 0.6808277733132452, 0.4848745197516149, 0.7464825557428637, 0.5865357406044868, 0.5329644570443057, 0.5601293596522994, 0.5490301156554718, 0.4945030260035427, 0.5422126186334849, 0.5215554428656046], maxlen=20)\n",
      "eval_mean: 0.6106472095099457\n"
     ]
    },
    {
     "name": "stderr",
     "output_type": "stream",
     "text": [
      "\r",
      " 78%|█████████████████████████████████████████████████████████▏               | 78286/100000 [1:43:34<37:48,  9.57it/s]"
     ]
    },
    {
     "name": "stdout",
     "output_type": "stream",
     "text": [
      "self.get_collection_ratio(): 0.7719142884466285\n",
      "self.comms.count(True) : 3\n",
      "len(self.comms) : 3\n",
      "self.state.ratio_commed: 1.0\n",
      "self.comms.count(True) : 3\n",
      "len(self.comms) : 3\n",
      "self.evaluation_deque: deque([0.5817573021095713, 0.7509950178676824, 0.7959635941598164, 0.7925114443483386, 0.7053668567159442, 0.5448651429464818, 0.6526342794454074, 0.48829890834941275, 0.6838628005743334, 0.6808277733132452, 0.4848745197516149, 0.7464825557428637, 0.5865357406044868, 0.5329644570443057, 0.5601293596522994, 0.5490301156554718, 0.4945030260035427, 0.5422126186334849, 0.5215554428656046, 0.7719142884466285], maxlen=20)\n",
      "eval_mean: 0.6233642622115269\n"
     ]
    },
    {
     "name": "stderr",
     "output_type": "stream",
     "text": [
      "\r",
      " 78%|█████████████████████████████████████████████████████████▏               | 78362/100000 [1:43:48<46:23,  7.77it/s]"
     ]
    },
    {
     "name": "stdout",
     "output_type": "stream",
     "text": [
      "self.evaluation_deque: deque([0.5817573021095713, 0.7509950178676824, 0.7959635941598164, 0.7925114443483386, 0.7053668567159442, 0.5448651429464818, 0.6526342794454074, 0.48829890834941275, 0.6838628005743334, 0.6808277733132452, 0.4848745197516149, 0.7464825557428637, 0.5865357406044868, 0.5329644570443057, 0.5601293596522994, 0.5490301156554718, 0.4945030260035427, 0.5422126186334849, 0.5215554428656046, 0.7719142884466285], maxlen=20)\n",
      "eval_mean: 0.6233642622115269\n"
     ]
    },
    {
     "name": "stderr",
     "output_type": "stream",
     "text": [
      "\r",
      " 78%|█████████████████████████████████████████████████████████▎               | 78438/100000 [1:43:55<42:11,  8.52it/s]"
     ]
    },
    {
     "name": "stdout",
     "output_type": "stream",
     "text": [
      "self.evaluation_deque: deque([0.5817573021095713, 0.7509950178676824, 0.7959635941598164, 0.7925114443483386, 0.7053668567159442, 0.5448651429464818, 0.6526342794454074, 0.48829890834941275, 0.6838628005743334, 0.6808277733132452, 0.4848745197516149, 0.7464825557428637, 0.5865357406044868, 0.5329644570443057, 0.5601293596522994, 0.5490301156554718, 0.4945030260035427, 0.5422126186334849, 0.5215554428656046, 0.7719142884466285], maxlen=20)\n",
      "eval_mean: 0.6233642622115269\n"
     ]
    },
    {
     "name": "stderr",
     "output_type": "stream",
     "text": [
      "\r",
      " 79%|█████████████████████████████████████████████████████████▎               | 78514/100000 [1:44:02<39:16,  9.12it/s]"
     ]
    },
    {
     "name": "stdout",
     "output_type": "stream",
     "text": [
      "self.evaluation_deque: deque([0.5817573021095713, 0.7509950178676824, 0.7959635941598164, 0.7925114443483386, 0.7053668567159442, 0.5448651429464818, 0.6526342794454074, 0.48829890834941275, 0.6838628005743334, 0.6808277733132452, 0.4848745197516149, 0.7464825557428637, 0.5865357406044868, 0.5329644570443057, 0.5601293596522994, 0.5490301156554718, 0.4945030260035427, 0.5422126186334849, 0.5215554428656046, 0.7719142884466285], maxlen=20)\n",
      "eval_mean: 0.6233642622115269\n"
     ]
    },
    {
     "name": "stderr",
     "output_type": "stream",
     "text": [
      "\r",
      " 79%|█████████████████████████████████████████████████████████▎               | 78590/100000 [1:44:08<35:29, 10.05it/s]"
     ]
    },
    {
     "name": "stdout",
     "output_type": "stream",
     "text": [
      "self.evaluation_deque: deque([0.5817573021095713, 0.7509950178676824, 0.7959635941598164, 0.7925114443483386, 0.7053668567159442, 0.5448651429464818, 0.6526342794454074, 0.48829890834941275, 0.6838628005743334, 0.6808277733132452, 0.4848745197516149, 0.7464825557428637, 0.5865357406044868, 0.5329644570443057, 0.5601293596522994, 0.5490301156554718, 0.4945030260035427, 0.5422126186334849, 0.5215554428656046, 0.7719142884466285], maxlen=20)\n",
      "eval_mean: 0.6233642622115269\n"
     ]
    },
    {
     "name": "stderr",
     "output_type": "stream",
     "text": [
      "\r",
      " 79%|█████████████████████████████████████████████████████████▍               | 78666/100000 [1:44:17<37:50,  9.40it/s]"
     ]
    },
    {
     "name": "stdout",
     "output_type": "stream",
     "text": [
      "self.get_collection_ratio(): 0.6449436331855362\n",
      "self.comms.count(True) : 2\n",
      "len(self.comms) : 2\n",
      "self.state.ratio_commed: 1.0\n",
      "self.comms.count(True) : 2\n",
      "len(self.comms) : 2\n",
      "self.evaluation_deque: deque([0.7509950178676824, 0.7959635941598164, 0.7925114443483386, 0.7053668567159442, 0.5448651429464818, 0.6526342794454074, 0.48829890834941275, 0.6838628005743334, 0.6808277733132452, 0.4848745197516149, 0.7464825557428637, 0.5865357406044868, 0.5329644570443057, 0.5601293596522994, 0.5490301156554718, 0.4945030260035427, 0.5422126186334849, 0.5215554428656046, 0.7719142884466285, 0.6449436331855362], maxlen=20)\n",
      "eval_mean: 0.626523578765325\n"
     ]
    },
    {
     "name": "stderr",
     "output_type": "stream",
     "text": [
      "\r",
      " 79%|█████████████████████████████████████████████████████████▍               | 78742/100000 [1:44:24<36:05,  9.81it/s]"
     ]
    },
    {
     "name": "stdout",
     "output_type": "stream",
     "text": [
      "self.evaluation_deque: deque([0.7509950178676824, 0.7959635941598164, 0.7925114443483386, 0.7053668567159442, 0.5448651429464818, 0.6526342794454074, 0.48829890834941275, 0.6838628005743334, 0.6808277733132452, 0.4848745197516149, 0.7464825557428637, 0.5865357406044868, 0.5329644570443057, 0.5601293596522994, 0.5490301156554718, 0.4945030260035427, 0.5422126186334849, 0.5215554428656046, 0.7719142884466285, 0.6449436331855362], maxlen=20)\n",
      "eval_mean: 0.626523578765325\n"
     ]
    },
    {
     "name": "stderr",
     "output_type": "stream",
     "text": [
      "\r",
      " 79%|█████████████████████████████████████████████████████████▌               | 78818/100000 [1:44:32<36:27,  9.68it/s]"
     ]
    },
    {
     "name": "stdout",
     "output_type": "stream",
     "text": [
      "self.evaluation_deque: deque([0.7509950178676824, 0.7959635941598164, 0.7925114443483386, 0.7053668567159442, 0.5448651429464818, 0.6526342794454074, 0.48829890834941275, 0.6838628005743334, 0.6808277733132452, 0.4848745197516149, 0.7464825557428637, 0.5865357406044868, 0.5329644570443057, 0.5601293596522994, 0.5490301156554718, 0.4945030260035427, 0.5422126186334849, 0.5215554428656046, 0.7719142884466285, 0.6449436331855362], maxlen=20)\n",
      "eval_mean: 0.626523578765325\n"
     ]
    },
    {
     "name": "stderr",
     "output_type": "stream",
     "text": [
      "\r",
      " 79%|█████████████████████████████████████████████████████████▌               | 78894/100000 [1:44:39<35:07, 10.02it/s]"
     ]
    },
    {
     "name": "stdout",
     "output_type": "stream",
     "text": [
      "self.evaluation_deque: deque([0.7509950178676824, 0.7959635941598164, 0.7925114443483386, 0.7053668567159442, 0.5448651429464818, 0.6526342794454074, 0.48829890834941275, 0.6838628005743334, 0.6808277733132452, 0.4848745197516149, 0.7464825557428637, 0.5865357406044868, 0.5329644570443057, 0.5601293596522994, 0.5490301156554718, 0.4945030260035427, 0.5422126186334849, 0.5215554428656046, 0.7719142884466285, 0.6449436331855362], maxlen=20)\n",
      "eval_mean: 0.626523578765325\n"
     ]
    },
    {
     "name": "stderr",
     "output_type": "stream",
     "text": [
      "\r",
      " 79%|█████████████████████████████████████████████████████████▋               | 78970/100000 [1:44:47<35:38,  9.83it/s]"
     ]
    },
    {
     "name": "stdout",
     "output_type": "stream",
     "text": [
      "self.evaluation_deque: deque([0.7509950178676824, 0.7959635941598164, 0.7925114443483386, 0.7053668567159442, 0.5448651429464818, 0.6526342794454074, 0.48829890834941275, 0.6838628005743334, 0.6808277733132452, 0.4848745197516149, 0.7464825557428637, 0.5865357406044868, 0.5329644570443057, 0.5601293596522994, 0.5490301156554718, 0.4945030260035427, 0.5422126186334849, 0.5215554428656046, 0.7719142884466285, 0.6449436331855362], maxlen=20)\n",
      "eval_mean: 0.626523578765325\n"
     ]
    },
    {
     "name": "stderr",
     "output_type": "stream",
     "text": [
      "\r",
      " 79%|█████████████████████████████████████████████████████████▋               | 79046/100000 [1:44:57<38:47,  9.00it/s]"
     ]
    },
    {
     "name": "stdout",
     "output_type": "stream",
     "text": [
      "self.get_collection_ratio(): 0.7938187115136532\n",
      "self.comms.count(True) : 3\n",
      "len(self.comms) : 3\n",
      "self.state.ratio_commed: 1.0\n",
      "self.comms.count(True) : 3\n",
      "len(self.comms) : 3\n",
      "self.evaluation_deque: deque([0.7959635941598164, 0.7925114443483386, 0.7053668567159442, 0.5448651429464818, 0.6526342794454074, 0.48829890834941275, 0.6838628005743334, 0.6808277733132452, 0.4848745197516149, 0.7464825557428637, 0.5865357406044868, 0.5329644570443057, 0.5601293596522994, 0.5490301156554718, 0.4945030260035427, 0.5422126186334849, 0.5215554428656046, 0.7719142884466285, 0.6449436331855362, 0.7938187115136532], maxlen=20)\n",
      "eval_mean: 0.6286647634476237\n"
     ]
    },
    {
     "name": "stderr",
     "output_type": "stream",
     "text": [
      "\r",
      " 79%|█████████████████████████████████████████████████████████▊               | 79122/100000 [1:45:03<35:01,  9.94it/s]"
     ]
    },
    {
     "name": "stdout",
     "output_type": "stream",
     "text": [
      "self.evaluation_deque: deque([0.7959635941598164, 0.7925114443483386, 0.7053668567159442, 0.5448651429464818, 0.6526342794454074, 0.48829890834941275, 0.6838628005743334, 0.6808277733132452, 0.4848745197516149, 0.7464825557428637, 0.5865357406044868, 0.5329644570443057, 0.5601293596522994, 0.5490301156554718, 0.4945030260035427, 0.5422126186334849, 0.5215554428656046, 0.7719142884466285, 0.6449436331855362, 0.7938187115136532], maxlen=20)\n",
      "eval_mean: 0.6286647634476237\n"
     ]
    },
    {
     "name": "stderr",
     "output_type": "stream",
     "text": [
      "\r",
      " 79%|█████████████████████████████████████████████████████████▊               | 79198/100000 [1:45:09<32:18, 10.73it/s]"
     ]
    },
    {
     "name": "stdout",
     "output_type": "stream",
     "text": [
      "self.evaluation_deque: deque([0.7959635941598164, 0.7925114443483386, 0.7053668567159442, 0.5448651429464818, 0.6526342794454074, 0.48829890834941275, 0.6838628005743334, 0.6808277733132452, 0.4848745197516149, 0.7464825557428637, 0.5865357406044868, 0.5329644570443057, 0.5601293596522994, 0.5490301156554718, 0.4945030260035427, 0.5422126186334849, 0.5215554428656046, 0.7719142884466285, 0.6449436331855362, 0.7938187115136532], maxlen=20)\n",
      "eval_mean: 0.6286647634476237\n"
     ]
    },
    {
     "name": "stderr",
     "output_type": "stream",
     "text": [
      "\r",
      " 79%|█████████████████████████████████████████████████████████▊               | 79274/100000 [1:45:16<32:00, 10.79it/s]"
     ]
    },
    {
     "name": "stdout",
     "output_type": "stream",
     "text": [
      "self.evaluation_deque: deque([0.7959635941598164, 0.7925114443483386, 0.7053668567159442, 0.5448651429464818, 0.6526342794454074, 0.48829890834941275, 0.6838628005743334, 0.6808277733132452, 0.4848745197516149, 0.7464825557428637, 0.5865357406044868, 0.5329644570443057, 0.5601293596522994, 0.5490301156554718, 0.4945030260035427, 0.5422126186334849, 0.5215554428656046, 0.7719142884466285, 0.6449436331855362, 0.7938187115136532], maxlen=20)\n",
      "eval_mean: 0.6286647634476237\n"
     ]
    },
    {
     "name": "stderr",
     "output_type": "stream",
     "text": [
      "\r",
      " 79%|█████████████████████████████████████████████████████████▉               | 79350/100000 [1:45:24<33:13, 10.36it/s]"
     ]
    },
    {
     "name": "stdout",
     "output_type": "stream",
     "text": [
      "self.evaluation_deque: deque([0.7959635941598164, 0.7925114443483386, 0.7053668567159442, 0.5448651429464818, 0.6526342794454074, 0.48829890834941275, 0.6838628005743334, 0.6808277733132452, 0.4848745197516149, 0.7464825557428637, 0.5865357406044868, 0.5329644570443057, 0.5601293596522994, 0.5490301156554718, 0.4945030260035427, 0.5422126186334849, 0.5215554428656046, 0.7719142884466285, 0.6449436331855362, 0.7938187115136532], maxlen=20)\n",
      "eval_mean: 0.6286647634476237\n"
     ]
    },
    {
     "name": "stderr",
     "output_type": "stream",
     "text": [
      "\r",
      " 79%|█████████████████████████████████████████████████████████▉               | 79426/100000 [1:45:33<35:48,  9.58it/s]"
     ]
    },
    {
     "name": "stdout",
     "output_type": "stream",
     "text": [
      "self.get_collection_ratio(): 0.7854109133291428\n",
      "self.comms.count(True) : 2\n",
      "len(self.comms) : 2\n",
      "self.state.ratio_commed: 1.0\n",
      "self.comms.count(True) : 2\n",
      "len(self.comms) : 2\n",
      "self.evaluation_deque: deque([0.7925114443483386, 0.7053668567159442, 0.5448651429464818, 0.6526342794454074, 0.48829890834941275, 0.6838628005743334, 0.6808277733132452, 0.4848745197516149, 0.7464825557428637, 0.5865357406044868, 0.5329644570443057, 0.5601293596522994, 0.5490301156554718, 0.4945030260035427, 0.5422126186334849, 0.5215554428656046, 0.7719142884466285, 0.6449436331855362, 0.7938187115136532, 0.7854109133291428], maxlen=20)\n",
      "eval_mean: 0.6281371294060899\n"
     ]
    },
    {
     "name": "stderr",
     "output_type": "stream",
     "text": [
      "\r",
      " 80%|██████████████████████████████████████████████████████████               | 79502/100000 [1:45:41<36:02,  9.48it/s]"
     ]
    },
    {
     "name": "stdout",
     "output_type": "stream",
     "text": [
      "self.evaluation_deque: deque([0.7925114443483386, 0.7053668567159442, 0.5448651429464818, 0.6526342794454074, 0.48829890834941275, 0.6838628005743334, 0.6808277733132452, 0.4848745197516149, 0.7464825557428637, 0.5865357406044868, 0.5329644570443057, 0.5601293596522994, 0.5490301156554718, 0.4945030260035427, 0.5422126186334849, 0.5215554428656046, 0.7719142884466285, 0.6449436331855362, 0.7938187115136532, 0.7854109133291428], maxlen=20)\n",
      "eval_mean: 0.6281371294060899\n"
     ]
    },
    {
     "name": "stderr",
     "output_type": "stream",
     "text": [
      "\r",
      " 80%|██████████████████████████████████████████████████████████               | 79578/100000 [1:45:50<36:02,  9.45it/s]"
     ]
    },
    {
     "name": "stdout",
     "output_type": "stream",
     "text": [
      "self.evaluation_deque: deque([0.7925114443483386, 0.7053668567159442, 0.5448651429464818, 0.6526342794454074, 0.48829890834941275, 0.6838628005743334, 0.6808277733132452, 0.4848745197516149, 0.7464825557428637, 0.5865357406044868, 0.5329644570443057, 0.5601293596522994, 0.5490301156554718, 0.4945030260035427, 0.5422126186334849, 0.5215554428656046, 0.7719142884466285, 0.6449436331855362, 0.7938187115136532, 0.7854109133291428], maxlen=20)\n",
      "eval_mean: 0.6281371294060899\n"
     ]
    },
    {
     "name": "stderr",
     "output_type": "stream",
     "text": [
      "\r",
      " 80%|██████████████████████████████████████████████████████████▏              | 79654/100000 [1:45:58<35:58,  9.43it/s]"
     ]
    },
    {
     "name": "stdout",
     "output_type": "stream",
     "text": [
      "self.evaluation_deque: deque([0.7925114443483386, 0.7053668567159442, 0.5448651429464818, 0.6526342794454074, 0.48829890834941275, 0.6838628005743334, 0.6808277733132452, 0.4848745197516149, 0.7464825557428637, 0.5865357406044868, 0.5329644570443057, 0.5601293596522994, 0.5490301156554718, 0.4945030260035427, 0.5422126186334849, 0.5215554428656046, 0.7719142884466285, 0.6449436331855362, 0.7938187115136532, 0.7854109133291428], maxlen=20)\n",
      "eval_mean: 0.6281371294060899\n"
     ]
    },
    {
     "name": "stderr",
     "output_type": "stream",
     "text": [
      "\r",
      " 80%|██████████████████████████████████████████████████████████▏              | 79730/100000 [1:46:06<35:52,  9.42it/s]"
     ]
    },
    {
     "name": "stdout",
     "output_type": "stream",
     "text": [
      "self.evaluation_deque: deque([0.7925114443483386, 0.7053668567159442, 0.5448651429464818, 0.6526342794454074, 0.48829890834941275, 0.6838628005743334, 0.6808277733132452, 0.4848745197516149, 0.7464825557428637, 0.5865357406044868, 0.5329644570443057, 0.5601293596522994, 0.5490301156554718, 0.4945030260035427, 0.5422126186334849, 0.5215554428656046, 0.7719142884466285, 0.6449436331855362, 0.7938187115136532, 0.7854109133291428], maxlen=20)\n",
      "eval_mean: 0.6281371294060899\n"
     ]
    },
    {
     "name": "stderr",
     "output_type": "stream",
     "text": [
      "\r",
      " 80%|██████████████████████████████████████████████████████████▎              | 79806/100000 [1:46:14<36:29,  9.22it/s]"
     ]
    },
    {
     "name": "stdout",
     "output_type": "stream",
     "text": [
      "self.get_collection_ratio(): 0.5640669029995408\n",
      "self.comms.count(True) : 1\n",
      "len(self.comms) : 1\n",
      "self.state.ratio_commed: 1.0\n",
      "self.comms.count(True) : 1\n",
      "len(self.comms) : 1\n",
      "self.evaluation_deque: deque([0.7053668567159442, 0.5448651429464818, 0.6526342794454074, 0.48829890834941275, 0.6838628005743334, 0.6808277733132452, 0.4848745197516149, 0.7464825557428637, 0.5865357406044868, 0.5329644570443057, 0.5601293596522994, 0.5490301156554718, 0.4945030260035427, 0.5422126186334849, 0.5215554428656046, 0.7719142884466285, 0.6449436331855362, 0.7938187115136532, 0.7854109133291428, 0.5640669029995408], maxlen=20)\n",
      "eval_mean: 0.61671490233865\n"
     ]
    },
    {
     "name": "stderr",
     "output_type": "stream",
     "text": [
      "\r",
      " 80%|██████████████████████████████████████████████████████████▎              | 79882/100000 [1:46:22<36:10,  9.27it/s]"
     ]
    },
    {
     "name": "stdout",
     "output_type": "stream",
     "text": [
      "self.evaluation_deque: deque([0.7053668567159442, 0.5448651429464818, 0.6526342794454074, 0.48829890834941275, 0.6838628005743334, 0.6808277733132452, 0.4848745197516149, 0.7464825557428637, 0.5865357406044868, 0.5329644570443057, 0.5601293596522994, 0.5490301156554718, 0.4945030260035427, 0.5422126186334849, 0.5215554428656046, 0.7719142884466285, 0.6449436331855362, 0.7938187115136532, 0.7854109133291428, 0.5640669029995408], maxlen=20)\n",
      "eval_mean: 0.61671490233865\n"
     ]
    },
    {
     "name": "stderr",
     "output_type": "stream",
     "text": [
      "\r",
      " 80%|██████████████████████████████████████████████████████████▎              | 79958/100000 [1:46:28<32:55, 10.14it/s]"
     ]
    },
    {
     "name": "stdout",
     "output_type": "stream",
     "text": [
      "self.evaluation_deque: deque([0.7053668567159442, 0.5448651429464818, 0.6526342794454074, 0.48829890834941275, 0.6838628005743334, 0.6808277733132452, 0.4848745197516149, 0.7464825557428637, 0.5865357406044868, 0.5329644570443057, 0.5601293596522994, 0.5490301156554718, 0.4945030260035427, 0.5422126186334849, 0.5215554428656046, 0.7719142884466285, 0.6449436331855362, 0.7938187115136532, 0.7854109133291428, 0.5640669029995408], maxlen=20)\n",
      "eval_mean: 0.61671490233865\n"
     ]
    },
    {
     "name": "stderr",
     "output_type": "stream",
     "text": [
      "\r",
      " 80%|██████████████████████████████████████████████████████████▍              | 80034/100000 [1:46:34<30:29, 10.91it/s]"
     ]
    },
    {
     "name": "stdout",
     "output_type": "stream",
     "text": [
      "self.evaluation_deque: deque([0.7053668567159442, 0.5448651429464818, 0.6526342794454074, 0.48829890834941275, 0.6838628005743334, 0.6808277733132452, 0.4848745197516149, 0.7464825557428637, 0.5865357406044868, 0.5329644570443057, 0.5601293596522994, 0.5490301156554718, 0.4945030260035427, 0.5422126186334849, 0.5215554428656046, 0.7719142884466285, 0.6449436331855362, 0.7938187115136532, 0.7854109133291428, 0.5640669029995408], maxlen=20)\n",
      "eval_mean: 0.61671490233865\n"
     ]
    },
    {
     "name": "stderr",
     "output_type": "stream",
     "text": [
      "\r",
      " 80%|██████████████████████████████████████████████████████████▍              | 80110/100000 [1:46:40<28:50, 11.49it/s]"
     ]
    },
    {
     "name": "stdout",
     "output_type": "stream",
     "text": [
      "self.evaluation_deque: deque([0.7053668567159442, 0.5448651429464818, 0.6526342794454074, 0.48829890834941275, 0.6838628005743334, 0.6808277733132452, 0.4848745197516149, 0.7464825557428637, 0.5865357406044868, 0.5329644570443057, 0.5601293596522994, 0.5490301156554718, 0.4945030260035427, 0.5422126186334849, 0.5215554428656046, 0.7719142884466285, 0.6449436331855362, 0.7938187115136532, 0.7854109133291428, 0.5640669029995408], maxlen=20)\n",
      "eval_mean: 0.61671490233865\n"
     ]
    },
    {
     "name": "stderr",
     "output_type": "stream",
     "text": [
      "\r",
      " 80%|██████████████████████████████████████████████████████████▌              | 80186/100000 [1:46:49<31:44, 10.40it/s]"
     ]
    },
    {
     "name": "stdout",
     "output_type": "stream",
     "text": [
      "self.get_collection_ratio(): 0.6970214831647537\n",
      "self.comms.count(True) : 3\n",
      "len(self.comms) : 3\n",
      "self.state.ratio_commed: 1.0\n",
      "self.comms.count(True) : 3\n",
      "len(self.comms) : 3\n",
      "self.evaluation_deque: deque([0.5448651429464818, 0.6526342794454074, 0.48829890834941275, 0.6838628005743334, 0.6808277733132452, 0.4848745197516149, 0.7464825557428637, 0.5865357406044868, 0.5329644570443057, 0.5601293596522994, 0.5490301156554718, 0.4945030260035427, 0.5422126186334849, 0.5215554428656046, 0.7719142884466285, 0.6449436331855362, 0.7938187115136532, 0.7854109133291428, 0.5640669029995408, 0.6970214831647537], maxlen=20)\n",
      "eval_mean: 0.6162976336610905\n"
     ]
    },
    {
     "name": "stderr",
     "output_type": "stream",
     "text": [
      "\r",
      " 80%|██████████████████████████████████████████████████████████▌              | 80262/100000 [1:46:55<29:42, 11.07it/s]"
     ]
    },
    {
     "name": "stdout",
     "output_type": "stream",
     "text": [
      "self.evaluation_deque: deque([0.5448651429464818, 0.6526342794454074, 0.48829890834941275, 0.6838628005743334, 0.6808277733132452, 0.4848745197516149, 0.7464825557428637, 0.5865357406044868, 0.5329644570443057, 0.5601293596522994, 0.5490301156554718, 0.4945030260035427, 0.5422126186334849, 0.5215554428656046, 0.7719142884466285, 0.6449436331855362, 0.7938187115136532, 0.7854109133291428, 0.5640669029995408, 0.6970214831647537], maxlen=20)\n",
      "eval_mean: 0.6162976336610905\n"
     ]
    },
    {
     "name": "stderr",
     "output_type": "stream",
     "text": [
      "\r",
      " 80%|██████████████████████████████████████████████████████████▋              | 80338/100000 [1:47:02<30:50, 10.62it/s]"
     ]
    },
    {
     "name": "stdout",
     "output_type": "stream",
     "text": [
      "self.evaluation_deque: deque([0.5448651429464818, 0.6526342794454074, 0.48829890834941275, 0.6838628005743334, 0.6808277733132452, 0.4848745197516149, 0.7464825557428637, 0.5865357406044868, 0.5329644570443057, 0.5601293596522994, 0.5490301156554718, 0.4945030260035427, 0.5422126186334849, 0.5215554428656046, 0.7719142884466285, 0.6449436331855362, 0.7938187115136532, 0.7854109133291428, 0.5640669029995408, 0.6970214831647537], maxlen=20)\n",
      "eval_mean: 0.6162976336610905\n"
     ]
    },
    {
     "name": "stderr",
     "output_type": "stream",
     "text": [
      "\r",
      " 80%|██████████████████████████████████████████████████████████▋              | 80414/100000 [1:47:08<28:56, 11.28it/s]"
     ]
    },
    {
     "name": "stdout",
     "output_type": "stream",
     "text": [
      "self.evaluation_deque: deque([0.5448651429464818, 0.6526342794454074, 0.48829890834941275, 0.6838628005743334, 0.6808277733132452, 0.4848745197516149, 0.7464825557428637, 0.5865357406044868, 0.5329644570443057, 0.5601293596522994, 0.5490301156554718, 0.4945030260035427, 0.5422126186334849, 0.5215554428656046, 0.7719142884466285, 0.6449436331855362, 0.7938187115136532, 0.7854109133291428, 0.5640669029995408, 0.6970214831647537], maxlen=20)\n",
      "eval_mean: 0.6162976336610905\n"
     ]
    },
    {
     "name": "stderr",
     "output_type": "stream",
     "text": [
      "\r",
      " 80%|██████████████████████████████████████████████████████████▊              | 80490/100000 [1:47:15<29:05, 11.18it/s]"
     ]
    },
    {
     "name": "stdout",
     "output_type": "stream",
     "text": [
      "self.evaluation_deque: deque([0.5448651429464818, 0.6526342794454074, 0.48829890834941275, 0.6838628005743334, 0.6808277733132452, 0.4848745197516149, 0.7464825557428637, 0.5865357406044868, 0.5329644570443057, 0.5601293596522994, 0.5490301156554718, 0.4945030260035427, 0.5422126186334849, 0.5215554428656046, 0.7719142884466285, 0.6449436331855362, 0.7938187115136532, 0.7854109133291428, 0.5640669029995408, 0.6970214831647537], maxlen=20)\n",
      "eval_mean: 0.6162976336610905\n"
     ]
    },
    {
     "name": "stderr",
     "output_type": "stream",
     "text": [
      "\r",
      " 81%|██████████████████████████████████████████████████████████▊              | 80566/100000 [1:47:25<32:36,  9.94it/s]"
     ]
    },
    {
     "name": "stdout",
     "output_type": "stream",
     "text": [
      "self.get_collection_ratio(): 0.5363370131580516\n",
      "self.comms.count(True) : 1\n",
      "len(self.comms) : 1\n",
      "self.state.ratio_commed: 1.0\n",
      "self.comms.count(True) : 1\n",
      "len(self.comms) : 1\n",
      "self.evaluation_deque: deque([0.6526342794454074, 0.48829890834941275, 0.6838628005743334, 0.6808277733132452, 0.4848745197516149, 0.7464825557428637, 0.5865357406044868, 0.5329644570443057, 0.5601293596522994, 0.5490301156554718, 0.4945030260035427, 0.5422126186334849, 0.5215554428656046, 0.7719142884466285, 0.6449436331855362, 0.7938187115136532, 0.7854109133291428, 0.5640669029995408, 0.6970214831647537, 0.5363370131580516], maxlen=20)\n",
      "eval_mean: 0.6158712271716691\n"
     ]
    },
    {
     "name": "stderr",
     "output_type": "stream",
     "text": [
      "\r",
      " 81%|██████████████████████████████████████████████████████████▊              | 80642/100000 [1:47:31<30:08, 10.70it/s]"
     ]
    },
    {
     "name": "stdout",
     "output_type": "stream",
     "text": [
      "self.evaluation_deque: deque([0.6526342794454074, 0.48829890834941275, 0.6838628005743334, 0.6808277733132452, 0.4848745197516149, 0.7464825557428637, 0.5865357406044868, 0.5329644570443057, 0.5601293596522994, 0.5490301156554718, 0.4945030260035427, 0.5422126186334849, 0.5215554428656046, 0.7719142884466285, 0.6449436331855362, 0.7938187115136532, 0.7854109133291428, 0.5640669029995408, 0.6970214831647537, 0.5363370131580516], maxlen=20)\n",
      "eval_mean: 0.6158712271716691\n"
     ]
    },
    {
     "name": "stderr",
     "output_type": "stream",
     "text": [
      "\r",
      " 81%|██████████████████████████████████████████████████████████▉              | 80718/100000 [1:47:36<28:18, 11.36it/s]"
     ]
    },
    {
     "name": "stdout",
     "output_type": "stream",
     "text": [
      "self.evaluation_deque: deque([0.6526342794454074, 0.48829890834941275, 0.6838628005743334, 0.6808277733132452, 0.4848745197516149, 0.7464825557428637, 0.5865357406044868, 0.5329644570443057, 0.5601293596522994, 0.5490301156554718, 0.4945030260035427, 0.5422126186334849, 0.5215554428656046, 0.7719142884466285, 0.6449436331855362, 0.7938187115136532, 0.7854109133291428, 0.5640669029995408, 0.6970214831647537, 0.5363370131580516], maxlen=20)\n",
      "eval_mean: 0.6158712271716691\n"
     ]
    },
    {
     "name": "stderr",
     "output_type": "stream",
     "text": [
      "\r",
      " 81%|██████████████████████████████████████████████████████████▉              | 80794/100000 [1:47:42<27:00, 11.85it/s]"
     ]
    },
    {
     "name": "stdout",
     "output_type": "stream",
     "text": [
      "self.evaluation_deque: deque([0.6526342794454074, 0.48829890834941275, 0.6838628005743334, 0.6808277733132452, 0.4848745197516149, 0.7464825557428637, 0.5865357406044868, 0.5329644570443057, 0.5601293596522994, 0.5490301156554718, 0.4945030260035427, 0.5422126186334849, 0.5215554428656046, 0.7719142884466285, 0.6449436331855362, 0.7938187115136532, 0.7854109133291428, 0.5640669029995408, 0.6970214831647537, 0.5363370131580516], maxlen=20)\n",
      "eval_mean: 0.6158712271716691\n"
     ]
    },
    {
     "name": "stderr",
     "output_type": "stream",
     "text": [
      "\r",
      " 81%|███████████████████████████████████████████████████████████              | 80870/100000 [1:47:50<28:40, 11.12it/s]"
     ]
    },
    {
     "name": "stdout",
     "output_type": "stream",
     "text": [
      "self.evaluation_deque: deque([0.6526342794454074, 0.48829890834941275, 0.6838628005743334, 0.6808277733132452, 0.4848745197516149, 0.7464825557428637, 0.5865357406044868, 0.5329644570443057, 0.5601293596522994, 0.5490301156554718, 0.4945030260035427, 0.5422126186334849, 0.5215554428656046, 0.7719142884466285, 0.6449436331855362, 0.7938187115136532, 0.7854109133291428, 0.5640669029995408, 0.6970214831647537, 0.5363370131580516], maxlen=20)\n",
      "eval_mean: 0.6158712271716691\n"
     ]
    },
    {
     "name": "stderr",
     "output_type": "stream",
     "text": [
      "\r",
      " 81%|███████████████████████████████████████████████████████████              | 80946/100000 [1:48:00<33:10,  9.57it/s]"
     ]
    },
    {
     "name": "stdout",
     "output_type": "stream",
     "text": [
      "self.get_collection_ratio(): 0.646146989035536\n",
      "self.comms.count(True) : 2\n",
      "len(self.comms) : 2\n",
      "self.state.ratio_commed: 1.0\n",
      "self.comms.count(True) : 2\n",
      "len(self.comms) : 2\n",
      "self.evaluation_deque: deque([0.48829890834941275, 0.6838628005743334, 0.6808277733132452, 0.4848745197516149, 0.7464825557428637, 0.5865357406044868, 0.5329644570443057, 0.5601293596522994, 0.5490301156554718, 0.4945030260035427, 0.5422126186334849, 0.5215554428656046, 0.7719142884466285, 0.6449436331855362, 0.7938187115136532, 0.7854109133291428, 0.5640669029995408, 0.6970214831647537, 0.5363370131580516, 0.646146989035536], maxlen=20)\n",
      "eval_mean: 0.6155468626511754\n"
     ]
    },
    {
     "name": "stderr",
     "output_type": "stream",
     "text": [
      "\r",
      " 81%|███████████████████████████████████████████████████████████▏             | 81022/100000 [1:48:06<30:24, 10.40it/s]"
     ]
    },
    {
     "name": "stdout",
     "output_type": "stream",
     "text": [
      "self.evaluation_deque: deque([0.48829890834941275, 0.6838628005743334, 0.6808277733132452, 0.4848745197516149, 0.7464825557428637, 0.5865357406044868, 0.5329644570443057, 0.5601293596522994, 0.5490301156554718, 0.4945030260035427, 0.5422126186334849, 0.5215554428656046, 0.7719142884466285, 0.6449436331855362, 0.7938187115136532, 0.7854109133291428, 0.5640669029995408, 0.6970214831647537, 0.5363370131580516, 0.646146989035536], maxlen=20)\n",
      "eval_mean: 0.6155468626511754\n"
     ]
    },
    {
     "name": "stderr",
     "output_type": "stream",
     "text": [
      "\r",
      " 81%|███████████████████████████████████████████████████████████▏             | 81098/100000 [1:48:12<28:23, 11.10it/s]"
     ]
    },
    {
     "name": "stdout",
     "output_type": "stream",
     "text": [
      "self.evaluation_deque: deque([0.48829890834941275, 0.6838628005743334, 0.6808277733132452, 0.4848745197516149, 0.7464825557428637, 0.5865357406044868, 0.5329644570443057, 0.5601293596522994, 0.5490301156554718, 0.4945030260035427, 0.5422126186334849, 0.5215554428656046, 0.7719142884466285, 0.6449436331855362, 0.7938187115136532, 0.7854109133291428, 0.5640669029995408, 0.6970214831647537, 0.5363370131580516, 0.646146989035536], maxlen=20)\n",
      "eval_mean: 0.6155468626511754\n"
     ]
    },
    {
     "name": "stderr",
     "output_type": "stream",
     "text": [
      "\r",
      " 81%|███████████████████████████████████████████████████████████▎             | 81174/100000 [1:48:19<28:25, 11.04it/s]"
     ]
    },
    {
     "name": "stdout",
     "output_type": "stream",
     "text": [
      "self.evaluation_deque: deque([0.48829890834941275, 0.6838628005743334, 0.6808277733132452, 0.4848745197516149, 0.7464825557428637, 0.5865357406044868, 0.5329644570443057, 0.5601293596522994, 0.5490301156554718, 0.4945030260035427, 0.5422126186334849, 0.5215554428656046, 0.7719142884466285, 0.6449436331855362, 0.7938187115136532, 0.7854109133291428, 0.5640669029995408, 0.6970214831647537, 0.5363370131580516, 0.646146989035536], maxlen=20)\n",
      "eval_mean: 0.6155468626511754\n"
     ]
    },
    {
     "name": "stderr",
     "output_type": "stream",
     "text": [
      "\r",
      " 81%|███████████████████████████████████████████████████████████▎             | 81250/100000 [1:48:26<28:20, 11.02it/s]"
     ]
    },
    {
     "name": "stdout",
     "output_type": "stream",
     "text": [
      "self.evaluation_deque: deque([0.48829890834941275, 0.6838628005743334, 0.6808277733132452, 0.4848745197516149, 0.7464825557428637, 0.5865357406044868, 0.5329644570443057, 0.5601293596522994, 0.5490301156554718, 0.4945030260035427, 0.5422126186334849, 0.5215554428656046, 0.7719142884466285, 0.6449436331855362, 0.7938187115136532, 0.7854109133291428, 0.5640669029995408, 0.6970214831647537, 0.5363370131580516, 0.646146989035536], maxlen=20)\n",
      "eval_mean: 0.6155468626511754\n"
     ]
    },
    {
     "name": "stderr",
     "output_type": "stream",
     "text": [
      "\r",
      " 81%|███████████████████████████████████████████████████████████▎             | 81326/100000 [1:48:36<32:37,  9.54it/s]"
     ]
    },
    {
     "name": "stdout",
     "output_type": "stream",
     "text": [
      "self.get_collection_ratio(): 0.6654466026468576\n",
      "self.comms.count(True) : 2\n",
      "len(self.comms) : 2\n",
      "self.state.ratio_commed: 1.0\n",
      "self.comms.count(True) : 2\n",
      "len(self.comms) : 2\n",
      "self.evaluation_deque: deque([0.6838628005743334, 0.6808277733132452, 0.4848745197516149, 0.7464825557428637, 0.5865357406044868, 0.5329644570443057, 0.5601293596522994, 0.5490301156554718, 0.4945030260035427, 0.5422126186334849, 0.5215554428656046, 0.7719142884466285, 0.6449436331855362, 0.7938187115136532, 0.7854109133291428, 0.5640669029995408, 0.6970214831647537, 0.5363370131580516, 0.646146989035536, 0.6654466026468576], maxlen=20)\n",
      "eval_mean: 0.6244042473660476\n"
     ]
    },
    {
     "name": "stderr",
     "output_type": "stream",
     "text": [
      "\r",
      " 81%|███████████████████████████████████████████████████████████▍             | 81402/100000 [1:48:43<31:17,  9.90it/s]"
     ]
    },
    {
     "name": "stdout",
     "output_type": "stream",
     "text": [
      "self.evaluation_deque: deque([0.6838628005743334, 0.6808277733132452, 0.4848745197516149, 0.7464825557428637, 0.5865357406044868, 0.5329644570443057, 0.5601293596522994, 0.5490301156554718, 0.4945030260035427, 0.5422126186334849, 0.5215554428656046, 0.7719142884466285, 0.6449436331855362, 0.7938187115136532, 0.7854109133291428, 0.5640669029995408, 0.6970214831647537, 0.5363370131580516, 0.646146989035536, 0.6654466026468576], maxlen=20)\n",
      "eval_mean: 0.6244042473660476\n"
     ]
    },
    {
     "name": "stderr",
     "output_type": "stream",
     "text": [
      "\r",
      " 81%|███████████████████████████████████████████████████████████▍             | 81478/100000 [1:48:49<28:49, 10.71it/s]"
     ]
    },
    {
     "name": "stdout",
     "output_type": "stream",
     "text": [
      "self.evaluation_deque: deque([0.6838628005743334, 0.6808277733132452, 0.4848745197516149, 0.7464825557428637, 0.5865357406044868, 0.5329644570443057, 0.5601293596522994, 0.5490301156554718, 0.4945030260035427, 0.5422126186334849, 0.5215554428656046, 0.7719142884466285, 0.6449436331855362, 0.7938187115136532, 0.7854109133291428, 0.5640669029995408, 0.6970214831647537, 0.5363370131580516, 0.646146989035536, 0.6654466026468576], maxlen=20)\n",
      "eval_mean: 0.6244042473660476\n"
     ]
    },
    {
     "name": "stderr",
     "output_type": "stream",
     "text": [
      "\r",
      " 82%|███████████████████████████████████████████████████████████▌             | 81554/100000 [1:48:56<28:33, 10.77it/s]"
     ]
    },
    {
     "name": "stdout",
     "output_type": "stream",
     "text": [
      "self.evaluation_deque: deque([0.6838628005743334, 0.6808277733132452, 0.4848745197516149, 0.7464825557428637, 0.5865357406044868, 0.5329644570443057, 0.5601293596522994, 0.5490301156554718, 0.4945030260035427, 0.5422126186334849, 0.5215554428656046, 0.7719142884466285, 0.6449436331855362, 0.7938187115136532, 0.7854109133291428, 0.5640669029995408, 0.6970214831647537, 0.5363370131580516, 0.646146989035536, 0.6654466026468576], maxlen=20)\n",
      "eval_mean: 0.6244042473660476\n"
     ]
    },
    {
     "name": "stderr",
     "output_type": "stream",
     "text": [
      "\r",
      " 82%|███████████████████████████████████████████████████████████▌             | 81630/100000 [1:49:02<26:54, 11.38it/s]"
     ]
    },
    {
     "name": "stdout",
     "output_type": "stream",
     "text": [
      "self.evaluation_deque: deque([0.6838628005743334, 0.6808277733132452, 0.4848745197516149, 0.7464825557428637, 0.5865357406044868, 0.5329644570443057, 0.5601293596522994, 0.5490301156554718, 0.4945030260035427, 0.5422126186334849, 0.5215554428656046, 0.7719142884466285, 0.6449436331855362, 0.7938187115136532, 0.7854109133291428, 0.5640669029995408, 0.6970214831647537, 0.5363370131580516, 0.646146989035536, 0.6654466026468576], maxlen=20)\n",
      "eval_mean: 0.6244042473660476\n"
     ]
    },
    {
     "name": "stderr",
     "output_type": "stream",
     "text": [
      "\r",
      " 82%|███████████████████████████████████████████████████████████▋             | 81706/100000 [1:49:10<28:59, 10.51it/s]"
     ]
    },
    {
     "name": "stdout",
     "output_type": "stream",
     "text": [
      "self.get_collection_ratio(): 0.5564127220090347\n",
      "self.comms.count(True) : 1\n",
      "len(self.comms) : 1\n",
      "self.state.ratio_commed: 1.0\n",
      "self.comms.count(True) : 1\n",
      "len(self.comms) : 1\n",
      "self.evaluation_deque: deque([0.6808277733132452, 0.4848745197516149, 0.7464825557428637, 0.5865357406044868, 0.5329644570443057, 0.5601293596522994, 0.5490301156554718, 0.4945030260035427, 0.5422126186334849, 0.5215554428656046, 0.7719142884466285, 0.6449436331855362, 0.7938187115136532, 0.7854109133291428, 0.5640669029995408, 0.6970214831647537, 0.5363370131580516, 0.646146989035536, 0.6654466026468576, 0.5564127220090347], maxlen=20)\n",
      "eval_mean: 0.6180317434377829\n"
     ]
    },
    {
     "name": "stderr",
     "output_type": "stream",
     "text": [
      "\r",
      " 82%|███████████████████████████████████████████████████████████▋             | 81782/100000 [1:49:17<28:32, 10.64it/s]"
     ]
    },
    {
     "name": "stdout",
     "output_type": "stream",
     "text": [
      "self.evaluation_deque: deque([0.6808277733132452, 0.4848745197516149, 0.7464825557428637, 0.5865357406044868, 0.5329644570443057, 0.5601293596522994, 0.5490301156554718, 0.4945030260035427, 0.5422126186334849, 0.5215554428656046, 0.7719142884466285, 0.6449436331855362, 0.7938187115136532, 0.7854109133291428, 0.5640669029995408, 0.6970214831647537, 0.5363370131580516, 0.646146989035536, 0.6654466026468576, 0.5564127220090347], maxlen=20)\n",
      "eval_mean: 0.6180317434377829\n"
     ]
    },
    {
     "name": "stderr",
     "output_type": "stream",
     "text": [
      "\r",
      " 82%|███████████████████████████████████████████████████████████▊             | 81858/100000 [1:49:24<28:16, 10.69it/s]"
     ]
    },
    {
     "name": "stdout",
     "output_type": "stream",
     "text": [
      "self.evaluation_deque: deque([0.6808277733132452, 0.4848745197516149, 0.7464825557428637, 0.5865357406044868, 0.5329644570443057, 0.5601293596522994, 0.5490301156554718, 0.4945030260035427, 0.5422126186334849, 0.5215554428656046, 0.7719142884466285, 0.6449436331855362, 0.7938187115136532, 0.7854109133291428, 0.5640669029995408, 0.6970214831647537, 0.5363370131580516, 0.646146989035536, 0.6654466026468576, 0.5564127220090347], maxlen=20)\n",
      "eval_mean: 0.6180317434377829\n"
     ]
    },
    {
     "name": "stderr",
     "output_type": "stream",
     "text": [
      "\r",
      " 82%|███████████████████████████████████████████████████████████▊             | 81934/100000 [1:49:32<29:20, 10.26it/s]"
     ]
    },
    {
     "name": "stdout",
     "output_type": "stream",
     "text": [
      "self.evaluation_deque: deque([0.6808277733132452, 0.4848745197516149, 0.7464825557428637, 0.5865357406044868, 0.5329644570443057, 0.5601293596522994, 0.5490301156554718, 0.4945030260035427, 0.5422126186334849, 0.5215554428656046, 0.7719142884466285, 0.6449436331855362, 0.7938187115136532, 0.7854109133291428, 0.5640669029995408, 0.6970214831647537, 0.5363370131580516, 0.646146989035536, 0.6654466026468576, 0.5564127220090347], maxlen=20)\n",
      "eval_mean: 0.6180317434377829\n"
     ]
    },
    {
     "name": "stderr",
     "output_type": "stream",
     "text": [
      "\r",
      " 82%|███████████████████████████████████████████████████████████▊             | 82010/100000 [1:49:39<28:36, 10.48it/s]"
     ]
    },
    {
     "name": "stdout",
     "output_type": "stream",
     "text": [
      "self.evaluation_deque: deque([0.6808277733132452, 0.4848745197516149, 0.7464825557428637, 0.5865357406044868, 0.5329644570443057, 0.5601293596522994, 0.5490301156554718, 0.4945030260035427, 0.5422126186334849, 0.5215554428656046, 0.7719142884466285, 0.6449436331855362, 0.7938187115136532, 0.7854109133291428, 0.5640669029995408, 0.6970214831647537, 0.5363370131580516, 0.646146989035536, 0.6654466026468576, 0.5564127220090347], maxlen=20)\n",
      "eval_mean: 0.6180317434377829\n"
     ]
    },
    {
     "name": "stderr",
     "output_type": "stream",
     "text": [
      "\r",
      " 82%|███████████████████████████████████████████████████████████▉             | 82086/100000 [1:49:49<31:44,  9.41it/s]"
     ]
    },
    {
     "name": "stdout",
     "output_type": "stream",
     "text": [
      "self.get_collection_ratio(): 0.8827360584304376\n",
      "self.comms.count(True) : 3\n",
      "len(self.comms) : 3\n",
      "self.state.ratio_commed: 1.0\n",
      "self.comms.count(True) : 3\n",
      "len(self.comms) : 3\n",
      "self.evaluation_deque: deque([0.4848745197516149, 0.7464825557428637, 0.5865357406044868, 0.5329644570443057, 0.5601293596522994, 0.5490301156554718, 0.4945030260035427, 0.5422126186334849, 0.5215554428656046, 0.7719142884466285, 0.6449436331855362, 0.7938187115136532, 0.7854109133291428, 0.5640669029995408, 0.6970214831647537, 0.5363370131580516, 0.646146989035536, 0.6654466026468576, 0.5564127220090347, 0.8827360584304376], maxlen=20)\n",
      "eval_mean: 0.6281271576936424\n"
     ]
    },
    {
     "name": "stderr",
     "output_type": "stream",
     "text": [
      "\r",
      " 82%|███████████████████████████████████████████████████████████▉             | 82162/100000 [1:49:56<30:15,  9.83it/s]"
     ]
    },
    {
     "name": "stdout",
     "output_type": "stream",
     "text": [
      "self.evaluation_deque: deque([0.4848745197516149, 0.7464825557428637, 0.5865357406044868, 0.5329644570443057, 0.5601293596522994, 0.5490301156554718, 0.4945030260035427, 0.5422126186334849, 0.5215554428656046, 0.7719142884466285, 0.6449436331855362, 0.7938187115136532, 0.7854109133291428, 0.5640669029995408, 0.6970214831647537, 0.5363370131580516, 0.646146989035536, 0.6654466026468576, 0.5564127220090347, 0.8827360584304376], maxlen=20)\n",
      "eval_mean: 0.6281271576936424\n"
     ]
    },
    {
     "name": "stderr",
     "output_type": "stream",
     "text": [
      "\r",
      " 82%|████████████████████████████████████████████████████████████             | 82238/100000 [1:50:02<27:51, 10.63it/s]"
     ]
    },
    {
     "name": "stdout",
     "output_type": "stream",
     "text": [
      "self.evaluation_deque: deque([0.4848745197516149, 0.7464825557428637, 0.5865357406044868, 0.5329644570443057, 0.5601293596522994, 0.5490301156554718, 0.4945030260035427, 0.5422126186334849, 0.5215554428656046, 0.7719142884466285, 0.6449436331855362, 0.7938187115136532, 0.7854109133291428, 0.5640669029995408, 0.6970214831647537, 0.5363370131580516, 0.646146989035536, 0.6654466026468576, 0.5564127220090347, 0.8827360584304376], maxlen=20)\n",
      "eval_mean: 0.6281271576936424\n"
     ]
    },
    {
     "name": "stderr",
     "output_type": "stream",
     "text": [
      "\r",
      " 82%|████████████████████████████████████████████████████████████             | 82314/100000 [1:50:10<28:49, 10.23it/s]"
     ]
    },
    {
     "name": "stdout",
     "output_type": "stream",
     "text": [
      "self.evaluation_deque: deque([0.4848745197516149, 0.7464825557428637, 0.5865357406044868, 0.5329644570443057, 0.5601293596522994, 0.5490301156554718, 0.4945030260035427, 0.5422126186334849, 0.5215554428656046, 0.7719142884466285, 0.6449436331855362, 0.7938187115136532, 0.7854109133291428, 0.5640669029995408, 0.6970214831647537, 0.5363370131580516, 0.646146989035536, 0.6654466026468576, 0.5564127220090347, 0.8827360584304376], maxlen=20)\n",
      "eval_mean: 0.6281271576936424\n"
     ]
    },
    {
     "name": "stderr",
     "output_type": "stream",
     "text": [
      "\r",
      " 82%|████████████████████████████████████████████████████████████▏            | 82390/100000 [1:50:17<28:14, 10.39it/s]"
     ]
    },
    {
     "name": "stdout",
     "output_type": "stream",
     "text": [
      "self.evaluation_deque: deque([0.4848745197516149, 0.7464825557428637, 0.5865357406044868, 0.5329644570443057, 0.5601293596522994, 0.5490301156554718, 0.4945030260035427, 0.5422126186334849, 0.5215554428656046, 0.7719142884466285, 0.6449436331855362, 0.7938187115136532, 0.7854109133291428, 0.5640669029995408, 0.6970214831647537, 0.5363370131580516, 0.646146989035536, 0.6654466026468576, 0.5564127220090347, 0.8827360584304376], maxlen=20)\n",
      "eval_mean: 0.6281271576936424\n"
     ]
    },
    {
     "name": "stderr",
     "output_type": "stream",
     "text": [
      "\r",
      " 82%|████████████████████████████████████████████████████████████▏            | 82466/100000 [1:50:27<31:25,  9.30it/s]"
     ]
    },
    {
     "name": "stdout",
     "output_type": "stream",
     "text": [
      "self.get_collection_ratio(): 0.8416900121011313\n",
      "self.comms.count(True) : 3\n",
      "len(self.comms) : 3\n",
      "self.state.ratio_commed: 1.0\n",
      "self.comms.count(True) : 3\n",
      "len(self.comms) : 3\n",
      "self.evaluation_deque: deque([0.7464825557428637, 0.5865357406044868, 0.5329644570443057, 0.5601293596522994, 0.5490301156554718, 0.4945030260035427, 0.5422126186334849, 0.5215554428656046, 0.7719142884466285, 0.6449436331855362, 0.7938187115136532, 0.7854109133291428, 0.5640669029995408, 0.6970214831647537, 0.5363370131580516, 0.646146989035536, 0.6654466026468576, 0.5564127220090347, 0.8827360584304376, 0.8416900121011313], maxlen=20)\n",
      "eval_mean: 0.645967932311118\n"
     ]
    },
    {
     "name": "stderr",
     "output_type": "stream",
     "text": [
      "\r",
      " 83%|████████████████████████████████████████████████████████████▎            | 82542/100000 [1:50:35<31:12,  9.32it/s]"
     ]
    },
    {
     "name": "stdout",
     "output_type": "stream",
     "text": [
      "self.evaluation_deque: deque([0.7464825557428637, 0.5865357406044868, 0.5329644570443057, 0.5601293596522994, 0.5490301156554718, 0.4945030260035427, 0.5422126186334849, 0.5215554428656046, 0.7719142884466285, 0.6449436331855362, 0.7938187115136532, 0.7854109133291428, 0.5640669029995408, 0.6970214831647537, 0.5363370131580516, 0.646146989035536, 0.6654466026468576, 0.5564127220090347, 0.8827360584304376, 0.8416900121011313], maxlen=20)\n",
      "eval_mean: 0.645967932311118\n"
     ]
    },
    {
     "name": "stderr",
     "output_type": "stream",
     "text": [
      "\r",
      " 83%|████████████████████████████████████████████████████████████▎            | 82618/100000 [1:50:42<29:43,  9.75it/s]"
     ]
    },
    {
     "name": "stdout",
     "output_type": "stream",
     "text": [
      "self.evaluation_deque: deque([0.7464825557428637, 0.5865357406044868, 0.5329644570443057, 0.5601293596522994, 0.5490301156554718, 0.4945030260035427, 0.5422126186334849, 0.5215554428656046, 0.7719142884466285, 0.6449436331855362, 0.7938187115136532, 0.7854109133291428, 0.5640669029995408, 0.6970214831647537, 0.5363370131580516, 0.646146989035536, 0.6654466026468576, 0.5564127220090347, 0.8827360584304376, 0.8416900121011313], maxlen=20)\n",
      "eval_mean: 0.645967932311118\n"
     ]
    },
    {
     "name": "stderr",
     "output_type": "stream",
     "text": [
      "\r",
      " 83%|████████████████████████████████████████████████████████████▎            | 82694/100000 [1:50:51<29:56,  9.63it/s]"
     ]
    },
    {
     "name": "stdout",
     "output_type": "stream",
     "text": [
      "self.evaluation_deque: deque([0.7464825557428637, 0.5865357406044868, 0.5329644570443057, 0.5601293596522994, 0.5490301156554718, 0.4945030260035427, 0.5422126186334849, 0.5215554428656046, 0.7719142884466285, 0.6449436331855362, 0.7938187115136532, 0.7854109133291428, 0.5640669029995408, 0.6970214831647537, 0.5363370131580516, 0.646146989035536, 0.6654466026468576, 0.5564127220090347, 0.8827360584304376, 0.8416900121011313], maxlen=20)\n",
      "eval_mean: 0.645967932311118\n"
     ]
    },
    {
     "name": "stderr",
     "output_type": "stream",
     "text": [
      "\r",
      " 83%|████████████████████████████████████████████████████████████▍            | 82770/100000 [1:50:59<30:05,  9.54it/s]"
     ]
    },
    {
     "name": "stdout",
     "output_type": "stream",
     "text": [
      "self.evaluation_deque: deque([0.7464825557428637, 0.5865357406044868, 0.5329644570443057, 0.5601293596522994, 0.5490301156554718, 0.4945030260035427, 0.5422126186334849, 0.5215554428656046, 0.7719142884466285, 0.6449436331855362, 0.7938187115136532, 0.7854109133291428, 0.5640669029995408, 0.6970214831647537, 0.5363370131580516, 0.646146989035536, 0.6654466026468576, 0.5564127220090347, 0.8827360584304376, 0.8416900121011313], maxlen=20)\n",
      "eval_mean: 0.645967932311118\n"
     ]
    },
    {
     "name": "stderr",
     "output_type": "stream",
     "text": [
      "\r",
      " 83%|████████████████████████████████████████████████████████████▍            | 82846/100000 [1:51:09<32:23,  8.83it/s]"
     ]
    },
    {
     "name": "stdout",
     "output_type": "stream",
     "text": [
      "self.get_collection_ratio(): 0.7204043443953384\n",
      "self.comms.count(True) : 3\n",
      "len(self.comms) : 3\n",
      "self.state.ratio_commed: 1.0\n",
      "self.comms.count(True) : 3\n",
      "len(self.comms) : 3\n",
      "self.evaluation_deque: deque([0.5865357406044868, 0.5329644570443057, 0.5601293596522994, 0.5490301156554718, 0.4945030260035427, 0.5422126186334849, 0.5215554428656046, 0.7719142884466285, 0.6449436331855362, 0.7938187115136532, 0.7854109133291428, 0.5640669029995408, 0.6970214831647537, 0.5363370131580516, 0.646146989035536, 0.6654466026468576, 0.5564127220090347, 0.8827360584304376, 0.8416900121011313, 0.7204043443953384], maxlen=20)\n",
      "eval_mean: 0.6446640217437418\n"
     ]
    },
    {
     "name": "stderr",
     "output_type": "stream",
     "text": [
      "\r",
      " 83%|████████████████████████████████████████████████████████████▌            | 82922/100000 [1:51:16<30:25,  9.35it/s]"
     ]
    },
    {
     "name": "stdout",
     "output_type": "stream",
     "text": [
      "self.evaluation_deque: deque([0.5865357406044868, 0.5329644570443057, 0.5601293596522994, 0.5490301156554718, 0.4945030260035427, 0.5422126186334849, 0.5215554428656046, 0.7719142884466285, 0.6449436331855362, 0.7938187115136532, 0.7854109133291428, 0.5640669029995408, 0.6970214831647537, 0.5363370131580516, 0.646146989035536, 0.6654466026468576, 0.5564127220090347, 0.8827360584304376, 0.8416900121011313, 0.7204043443953384], maxlen=20)\n",
      "eval_mean: 0.6446640217437418\n"
     ]
    },
    {
     "name": "stderr",
     "output_type": "stream",
     "text": [
      "\r",
      " 83%|████████████████████████████████████████████████████████████▌            | 82998/100000 [1:51:23<29:05,  9.74it/s]"
     ]
    },
    {
     "name": "stdout",
     "output_type": "stream",
     "text": [
      "self.evaluation_deque: deque([0.5865357406044868, 0.5329644570443057, 0.5601293596522994, 0.5490301156554718, 0.4945030260035427, 0.5422126186334849, 0.5215554428656046, 0.7719142884466285, 0.6449436331855362, 0.7938187115136532, 0.7854109133291428, 0.5640669029995408, 0.6970214831647537, 0.5363370131580516, 0.646146989035536, 0.6654466026468576, 0.5564127220090347, 0.8827360584304376, 0.8416900121011313, 0.7204043443953384], maxlen=20)\n",
      "eval_mean: 0.6446640217437418\n"
     ]
    },
    {
     "name": "stderr",
     "output_type": "stream",
     "text": [
      "\r",
      " 83%|████████████████████████████████████████████████████████████▋            | 83074/100000 [1:51:30<28:07, 10.03it/s]"
     ]
    },
    {
     "name": "stdout",
     "output_type": "stream",
     "text": [
      "self.evaluation_deque: deque([0.5865357406044868, 0.5329644570443057, 0.5601293596522994, 0.5490301156554718, 0.4945030260035427, 0.5422126186334849, 0.5215554428656046, 0.7719142884466285, 0.6449436331855362, 0.7938187115136532, 0.7854109133291428, 0.5640669029995408, 0.6970214831647537, 0.5363370131580516, 0.646146989035536, 0.6654466026468576, 0.5564127220090347, 0.8827360584304376, 0.8416900121011313, 0.7204043443953384], maxlen=20)\n",
      "eval_mean: 0.6446640217437418\n"
     ]
    },
    {
     "name": "stderr",
     "output_type": "stream",
     "text": [
      "\r",
      " 83%|████████████████████████████████████████████████████████████▋            | 83150/100000 [1:51:35<25:43, 10.92it/s]"
     ]
    },
    {
     "name": "stdout",
     "output_type": "stream",
     "text": [
      "self.evaluation_deque: deque([0.5865357406044868, 0.5329644570443057, 0.5601293596522994, 0.5490301156554718, 0.4945030260035427, 0.5422126186334849, 0.5215554428656046, 0.7719142884466285, 0.6449436331855362, 0.7938187115136532, 0.7854109133291428, 0.5640669029995408, 0.6970214831647537, 0.5363370131580516, 0.646146989035536, 0.6654466026468576, 0.5564127220090347, 0.8827360584304376, 0.8416900121011313, 0.7204043443953384], maxlen=20)\n",
      "eval_mean: 0.6446640217437418\n"
     ]
    },
    {
     "name": "stderr",
     "output_type": "stream",
     "text": [
      "\r",
      " 83%|████████████████████████████████████████████████████████████▊            | 83226/100000 [1:51:45<28:57,  9.66it/s]"
     ]
    },
    {
     "name": "stdout",
     "output_type": "stream",
     "text": [
      "self.get_collection_ratio(): 0.7087757788148354\n",
      "self.comms.count(True) : 2\n",
      "len(self.comms) : 2\n",
      "self.state.ratio_commed: 1.0\n",
      "self.comms.count(True) : 2\n",
      "len(self.comms) : 2\n",
      "self.evaluation_deque: deque([0.5329644570443057, 0.5601293596522994, 0.5490301156554718, 0.4945030260035427, 0.5422126186334849, 0.5215554428656046, 0.7719142884466285, 0.6449436331855362, 0.7938187115136532, 0.7854109133291428, 0.5640669029995408, 0.6970214831647537, 0.5363370131580516, 0.646146989035536, 0.6654466026468576, 0.5564127220090347, 0.8827360584304376, 0.8416900121011313, 0.7204043443953384, 0.7087757788148354], maxlen=20)\n",
      "eval_mean: 0.6507760236542594\n"
     ]
    },
    {
     "name": "stderr",
     "output_type": "stream",
     "text": [
      "\r",
      " 83%|████████████████████████████████████████████████████████████▊            | 83302/100000 [1:51:52<27:45, 10.03it/s]"
     ]
    },
    {
     "name": "stdout",
     "output_type": "stream",
     "text": [
      "self.evaluation_deque: deque([0.5329644570443057, 0.5601293596522994, 0.5490301156554718, 0.4945030260035427, 0.5422126186334849, 0.5215554428656046, 0.7719142884466285, 0.6449436331855362, 0.7938187115136532, 0.7854109133291428, 0.5640669029995408, 0.6970214831647537, 0.5363370131580516, 0.646146989035536, 0.6654466026468576, 0.5564127220090347, 0.8827360584304376, 0.8416900121011313, 0.7204043443953384, 0.7087757788148354], maxlen=20)\n",
      "eval_mean: 0.6507760236542594\n"
     ]
    },
    {
     "name": "stderr",
     "output_type": "stream",
     "text": [
      "\r",
      " 83%|████████████████████████████████████████████████████████████▊            | 83378/100000 [1:52:00<28:07,  9.85it/s]"
     ]
    },
    {
     "name": "stdout",
     "output_type": "stream",
     "text": [
      "self.evaluation_deque: deque([0.5329644570443057, 0.5601293596522994, 0.5490301156554718, 0.4945030260035427, 0.5422126186334849, 0.5215554428656046, 0.7719142884466285, 0.6449436331855362, 0.7938187115136532, 0.7854109133291428, 0.5640669029995408, 0.6970214831647537, 0.5363370131580516, 0.646146989035536, 0.6654466026468576, 0.5564127220090347, 0.8827360584304376, 0.8416900121011313, 0.7204043443953384, 0.7087757788148354], maxlen=20)\n",
      "eval_mean: 0.6507760236542594\n"
     ]
    },
    {
     "name": "stderr",
     "output_type": "stream",
     "text": [
      "\r",
      " 83%|████████████████████████████████████████████████████████████▉            | 83454/100000 [1:52:08<27:26, 10.05it/s]"
     ]
    },
    {
     "name": "stdout",
     "output_type": "stream",
     "text": [
      "self.evaluation_deque: deque([0.5329644570443057, 0.5601293596522994, 0.5490301156554718, 0.4945030260035427, 0.5422126186334849, 0.5215554428656046, 0.7719142884466285, 0.6449436331855362, 0.7938187115136532, 0.7854109133291428, 0.5640669029995408, 0.6970214831647537, 0.5363370131580516, 0.646146989035536, 0.6654466026468576, 0.5564127220090347, 0.8827360584304376, 0.8416900121011313, 0.7204043443953384, 0.7087757788148354], maxlen=20)\n",
      "eval_mean: 0.6507760236542594\n"
     ]
    },
    {
     "name": "stderr",
     "output_type": "stream",
     "text": [
      "\r",
      " 84%|████████████████████████████████████████████████████████████▉            | 83530/100000 [1:52:13<25:15, 10.87it/s]"
     ]
    },
    {
     "name": "stdout",
     "output_type": "stream",
     "text": [
      "self.evaluation_deque: deque([0.5329644570443057, 0.5601293596522994, 0.5490301156554718, 0.4945030260035427, 0.5422126186334849, 0.5215554428656046, 0.7719142884466285, 0.6449436331855362, 0.7938187115136532, 0.7854109133291428, 0.5640669029995408, 0.6970214831647537, 0.5363370131580516, 0.646146989035536, 0.6654466026468576, 0.5564127220090347, 0.8827360584304376, 0.8416900121011313, 0.7204043443953384, 0.7087757788148354], maxlen=20)\n",
      "eval_mean: 0.6507760236542594\n"
     ]
    },
    {
     "name": "stderr",
     "output_type": "stream",
     "text": [
      "\r",
      " 84%|█████████████████████████████████████████████████████████████            | 83606/100000 [1:52:23<28:28,  9.59it/s]"
     ]
    },
    {
     "name": "stdout",
     "output_type": "stream",
     "text": [
      "self.get_collection_ratio(): 0.8203880304818177\n",
      "self.comms.count(True) : 3\n",
      "len(self.comms) : 3\n",
      "self.state.ratio_commed: 1.0\n",
      "self.comms.count(True) : 3\n",
      "len(self.comms) : 3\n",
      "self.evaluation_deque: deque([0.5601293596522994, 0.5490301156554718, 0.4945030260035427, 0.5422126186334849, 0.5215554428656046, 0.7719142884466285, 0.6449436331855362, 0.7938187115136532, 0.7854109133291428, 0.5640669029995408, 0.6970214831647537, 0.5363370131580516, 0.646146989035536, 0.6654466026468576, 0.5564127220090347, 0.8827360584304376, 0.8416900121011313, 0.7204043443953384, 0.7087757788148354, 0.8203880304818177], maxlen=20)\n",
      "eval_mean: 0.6651472023261349\n",
      "Saving best with: 0.6651472023261349\n"
     ]
    },
    {
     "name": "stderr",
     "output_type": "stream",
     "text": [
      "\r",
      " 84%|█████████████████████████████████████████████████████████████            | 83682/100000 [1:52:30<27:10, 10.01it/s]"
     ]
    },
    {
     "name": "stdout",
     "output_type": "stream",
     "text": [
      "self.evaluation_deque: deque([0.5601293596522994, 0.5490301156554718, 0.4945030260035427, 0.5422126186334849, 0.5215554428656046, 0.7719142884466285, 0.6449436331855362, 0.7938187115136532, 0.7854109133291428, 0.5640669029995408, 0.6970214831647537, 0.5363370131580516, 0.646146989035536, 0.6654466026468576, 0.5564127220090347, 0.8827360584304376, 0.8416900121011313, 0.7204043443953384, 0.7087757788148354, 0.8203880304818177], maxlen=20)\n",
      "eval_mean: 0.6651472023261349\n"
     ]
    },
    {
     "name": "stderr",
     "output_type": "stream",
     "text": [
      "\r",
      " 84%|█████████████████████████████████████████████████████████████▏           | 83758/100000 [1:52:36<24:56, 10.85it/s]"
     ]
    },
    {
     "name": "stdout",
     "output_type": "stream",
     "text": [
      "self.evaluation_deque: deque([0.5601293596522994, 0.5490301156554718, 0.4945030260035427, 0.5422126186334849, 0.5215554428656046, 0.7719142884466285, 0.6449436331855362, 0.7938187115136532, 0.7854109133291428, 0.5640669029995408, 0.6970214831647537, 0.5363370131580516, 0.646146989035536, 0.6654466026468576, 0.5564127220090347, 0.8827360584304376, 0.8416900121011313, 0.7204043443953384, 0.7087757788148354, 0.8203880304818177], maxlen=20)\n",
      "eval_mean: 0.6651472023261349\n"
     ]
    },
    {
     "name": "stderr",
     "output_type": "stream",
     "text": [
      "\r",
      " 84%|█████████████████████████████████████████████████████████████▏           | 83834/100000 [1:52:44<25:47, 10.45it/s]"
     ]
    },
    {
     "name": "stdout",
     "output_type": "stream",
     "text": [
      "self.evaluation_deque: deque([0.5601293596522994, 0.5490301156554718, 0.4945030260035427, 0.5422126186334849, 0.5215554428656046, 0.7719142884466285, 0.6449436331855362, 0.7938187115136532, 0.7854109133291428, 0.5640669029995408, 0.6970214831647537, 0.5363370131580516, 0.646146989035536, 0.6654466026468576, 0.5564127220090347, 0.8827360584304376, 0.8416900121011313, 0.7204043443953384, 0.7087757788148354, 0.8203880304818177], maxlen=20)\n",
      "eval_mean: 0.6651472023261349\n"
     ]
    },
    {
     "name": "stderr",
     "output_type": "stream",
     "text": [
      "\r",
      " 84%|█████████████████████████████████████████████████████████████▎           | 83910/100000 [1:52:49<23:51, 11.24it/s]"
     ]
    },
    {
     "name": "stdout",
     "output_type": "stream",
     "text": [
      "self.evaluation_deque: deque([0.5601293596522994, 0.5490301156554718, 0.4945030260035427, 0.5422126186334849, 0.5215554428656046, 0.7719142884466285, 0.6449436331855362, 0.7938187115136532, 0.7854109133291428, 0.5640669029995408, 0.6970214831647537, 0.5363370131580516, 0.646146989035536, 0.6654466026468576, 0.5564127220090347, 0.8827360584304376, 0.8416900121011313, 0.7204043443953384, 0.7087757788148354, 0.8203880304818177], maxlen=20)\n",
      "eval_mean: 0.6651472023261349\n"
     ]
    },
    {
     "name": "stderr",
     "output_type": "stream",
     "text": [
      "\r",
      " 84%|█████████████████████████████████████████████████████████████▎           | 83986/100000 [1:52:59<26:39, 10.01it/s]"
     ]
    },
    {
     "name": "stdout",
     "output_type": "stream",
     "text": [
      "self.get_collection_ratio(): 0.42820403022222103\n",
      "self.comms.count(True) : 1\n",
      "len(self.comms) : 1\n",
      "self.state.ratio_commed: 1.0\n",
      "self.comms.count(True) : 1\n",
      "len(self.comms) : 1\n",
      "self.evaluation_deque: deque([0.5490301156554718, 0.4945030260035427, 0.5422126186334849, 0.5215554428656046, 0.7719142884466285, 0.6449436331855362, 0.7938187115136532, 0.7854109133291428, 0.5640669029995408, 0.6970214831647537, 0.5363370131580516, 0.646146989035536, 0.6654466026468576, 0.5564127220090347, 0.8827360584304376, 0.8416900121011313, 0.7204043443953384, 0.7087757788148354, 0.8203880304818177, 0.42820403022222103], maxlen=20)\n",
      "eval_mean: 0.658550935854631\n"
     ]
    },
    {
     "name": "stderr",
     "output_type": "stream",
     "text": [
      "\r",
      " 84%|█████████████████████████████████████████████████████████████▎           | 84062/100000 [1:53:04<24:25, 10.88it/s]"
     ]
    },
    {
     "name": "stdout",
     "output_type": "stream",
     "text": [
      "self.evaluation_deque: deque([0.5490301156554718, 0.4945030260035427, 0.5422126186334849, 0.5215554428656046, 0.7719142884466285, 0.6449436331855362, 0.7938187115136532, 0.7854109133291428, 0.5640669029995408, 0.6970214831647537, 0.5363370131580516, 0.646146989035536, 0.6654466026468576, 0.5564127220090347, 0.8827360584304376, 0.8416900121011313, 0.7204043443953384, 0.7087757788148354, 0.8203880304818177, 0.42820403022222103], maxlen=20)\n",
      "eval_mean: 0.658550935854631\n"
     ]
    },
    {
     "name": "stderr",
     "output_type": "stream",
     "text": [
      "\r",
      " 84%|█████████████████████████████████████████████████████████████▍           | 84138/100000 [1:53:12<25:18, 10.45it/s]"
     ]
    },
    {
     "name": "stdout",
     "output_type": "stream",
     "text": [
      "self.evaluation_deque: deque([0.5490301156554718, 0.4945030260035427, 0.5422126186334849, 0.5215554428656046, 0.7719142884466285, 0.6449436331855362, 0.7938187115136532, 0.7854109133291428, 0.5640669029995408, 0.6970214831647537, 0.5363370131580516, 0.646146989035536, 0.6654466026468576, 0.5564127220090347, 0.8827360584304376, 0.8416900121011313, 0.7204043443953384, 0.7087757788148354, 0.8203880304818177, 0.42820403022222103], maxlen=20)\n",
      "eval_mean: 0.658550935854631\n"
     ]
    },
    {
     "name": "stderr",
     "output_type": "stream",
     "text": [
      " 84%|█████████████████████████████████████████████████████████████▍           | 84214/100000 [1:53:29<35:18,  7.45it/s]"
     ]
    },
    {
     "name": "stdout",
     "output_type": "stream",
     "text": [
      "self.evaluation_deque: deque([0.5490301156554718, 0.4945030260035427, 0.5422126186334849, 0.5215554428656046, 0.7719142884466285, 0.6449436331855362, 0.7938187115136532, 0.7854109133291428, 0.5640669029995408, 0.6970214831647537, 0.5363370131580516, 0.646146989035536, 0.6654466026468576, 0.5564127220090347, 0.8827360584304376, 0.8416900121011313, 0.7204043443953384, 0.7087757788148354, 0.8203880304818177, 0.42820403022222103], maxlen=20)\n",
      "eval_mean: 0.658550935854631\n"
     ]
    },
    {
     "name": "stderr",
     "output_type": "stream",
     "text": [
      "\r",
      " 84%|█████████████████████████████████████████████████████████████▌           | 84290/100000 [1:53:36<31:35,  8.29it/s]"
     ]
    },
    {
     "name": "stdout",
     "output_type": "stream",
     "text": [
      "self.evaluation_deque: deque([0.5490301156554718, 0.4945030260035427, 0.5422126186334849, 0.5215554428656046, 0.7719142884466285, 0.6449436331855362, 0.7938187115136532, 0.7854109133291428, 0.5640669029995408, 0.6970214831647537, 0.5363370131580516, 0.646146989035536, 0.6654466026468576, 0.5564127220090347, 0.8827360584304376, 0.8416900121011313, 0.7204043443953384, 0.7087757788148354, 0.8203880304818177, 0.42820403022222103], maxlen=20)\n",
      "eval_mean: 0.658550935854631\n"
     ]
    },
    {
     "name": "stderr",
     "output_type": "stream",
     "text": [
      "\r",
      " 84%|█████████████████████████████████████████████████████████████▌           | 84366/100000 [1:53:45<31:29,  8.27it/s]"
     ]
    },
    {
     "name": "stdout",
     "output_type": "stream",
     "text": [
      "self.get_collection_ratio(): 0.6778384883278319\n",
      "self.comms.count(True) : 2\n",
      "len(self.comms) : 2\n",
      "self.state.ratio_commed: 1.0\n",
      "self.comms.count(True) : 2\n",
      "len(self.comms) : 2\n",
      "self.evaluation_deque: deque([0.4945030260035427, 0.5422126186334849, 0.5215554428656046, 0.7719142884466285, 0.6449436331855362, 0.7938187115136532, 0.7854109133291428, 0.5640669029995408, 0.6970214831647537, 0.5363370131580516, 0.646146989035536, 0.6654466026468576, 0.5564127220090347, 0.8827360584304376, 0.8416900121011313, 0.7204043443953384, 0.7087757788148354, 0.8203880304818177, 0.42820403022222103, 0.6778384883278319], maxlen=20)\n",
      "eval_mean: 0.6649913544882489\n"
     ]
    },
    {
     "name": "stderr",
     "output_type": "stream",
     "text": [
      "\r",
      " 84%|█████████████████████████████████████████████████████████████▋           | 84442/100000 [1:53:52<29:03,  8.92it/s]"
     ]
    },
    {
     "name": "stdout",
     "output_type": "stream",
     "text": [
      "self.evaluation_deque: deque([0.4945030260035427, 0.5422126186334849, 0.5215554428656046, 0.7719142884466285, 0.6449436331855362, 0.7938187115136532, 0.7854109133291428, 0.5640669029995408, 0.6970214831647537, 0.5363370131580516, 0.646146989035536, 0.6654466026468576, 0.5564127220090347, 0.8827360584304376, 0.8416900121011313, 0.7204043443953384, 0.7087757788148354, 0.8203880304818177, 0.42820403022222103, 0.6778384883278319], maxlen=20)\n",
      "eval_mean: 0.6649913544882489\n"
     ]
    },
    {
     "name": "stderr",
     "output_type": "stream",
     "text": [
      "\r",
      " 85%|█████████████████████████████████████████████████████████████▋           | 84518/100000 [1:53:58<26:09,  9.87it/s]"
     ]
    },
    {
     "name": "stdout",
     "output_type": "stream",
     "text": [
      "self.evaluation_deque: deque([0.4945030260035427, 0.5422126186334849, 0.5215554428656046, 0.7719142884466285, 0.6449436331855362, 0.7938187115136532, 0.7854109133291428, 0.5640669029995408, 0.6970214831647537, 0.5363370131580516, 0.646146989035536, 0.6654466026468576, 0.5564127220090347, 0.8827360584304376, 0.8416900121011313, 0.7204043443953384, 0.7087757788148354, 0.8203880304818177, 0.42820403022222103, 0.6778384883278319], maxlen=20)\n",
      "eval_mean: 0.6649913544882489\n"
     ]
    },
    {
     "name": "stderr",
     "output_type": "stream",
     "text": [
      "\r",
      " 85%|█████████████████████████████████████████████████████████████▊           | 84594/100000 [1:54:05<25:16, 10.16it/s]"
     ]
    },
    {
     "name": "stdout",
     "output_type": "stream",
     "text": [
      "self.evaluation_deque: deque([0.4945030260035427, 0.5422126186334849, 0.5215554428656046, 0.7719142884466285, 0.6449436331855362, 0.7938187115136532, 0.7854109133291428, 0.5640669029995408, 0.6970214831647537, 0.5363370131580516, 0.646146989035536, 0.6654466026468576, 0.5564127220090347, 0.8827360584304376, 0.8416900121011313, 0.7204043443953384, 0.7087757788148354, 0.8203880304818177, 0.42820403022222103, 0.6778384883278319], maxlen=20)\n",
      "eval_mean: 0.6649913544882489\n"
     ]
    },
    {
     "name": "stderr",
     "output_type": "stream",
     "text": [
      "\r",
      " 85%|█████████████████████████████████████████████████████████████▊           | 84670/100000 [1:54:12<24:37, 10.38it/s]"
     ]
    },
    {
     "name": "stdout",
     "output_type": "stream",
     "text": [
      "self.evaluation_deque: deque([0.4945030260035427, 0.5422126186334849, 0.5215554428656046, 0.7719142884466285, 0.6449436331855362, 0.7938187115136532, 0.7854109133291428, 0.5640669029995408, 0.6970214831647537, 0.5363370131580516, 0.646146989035536, 0.6654466026468576, 0.5564127220090347, 0.8827360584304376, 0.8416900121011313, 0.7204043443953384, 0.7087757788148354, 0.8203880304818177, 0.42820403022222103, 0.6778384883278319], maxlen=20)\n",
      "eval_mean: 0.6649913544882489\n"
     ]
    },
    {
     "name": "stderr",
     "output_type": "stream",
     "text": [
      "\r",
      " 85%|█████████████████████████████████████████████████████████████▊           | 84746/100000 [1:54:22<27:07,  9.37it/s]"
     ]
    },
    {
     "name": "stdout",
     "output_type": "stream",
     "text": [
      "self.get_collection_ratio(): 0.5283447567648608\n",
      "self.comms.count(True) : 1\n",
      "len(self.comms) : 1\n",
      "self.state.ratio_commed: 1.0\n",
      "self.comms.count(True) : 1\n",
      "len(self.comms) : 1\n",
      "self.evaluation_deque: deque([0.5422126186334849, 0.5215554428656046, 0.7719142884466285, 0.6449436331855362, 0.7938187115136532, 0.7854109133291428, 0.5640669029995408, 0.6970214831647537, 0.5363370131580516, 0.646146989035536, 0.6654466026468576, 0.5564127220090347, 0.8827360584304376, 0.8416900121011313, 0.7204043443953384, 0.7087757788148354, 0.8203880304818177, 0.42820403022222103, 0.6778384883278319, 0.5283447567648608], maxlen=20)\n",
      "eval_mean: 0.666683441026315\n",
      "Saving best with: 0.666683441026315\n"
     ]
    },
    {
     "name": "stderr",
     "output_type": "stream",
     "text": [
      "\r",
      " 85%|█████████████████████████████████████████████████████████████▉           | 84822/100000 [1:54:28<24:46, 10.21it/s]"
     ]
    },
    {
     "name": "stdout",
     "output_type": "stream",
     "text": [
      "self.evaluation_deque: deque([0.5422126186334849, 0.5215554428656046, 0.7719142884466285, 0.6449436331855362, 0.7938187115136532, 0.7854109133291428, 0.5640669029995408, 0.6970214831647537, 0.5363370131580516, 0.646146989035536, 0.6654466026468576, 0.5564127220090347, 0.8827360584304376, 0.8416900121011313, 0.7204043443953384, 0.7087757788148354, 0.8203880304818177, 0.42820403022222103, 0.6778384883278319, 0.5283447567648608], maxlen=20)\n",
      "eval_mean: 0.666683441026315\n"
     ]
    },
    {
     "name": "stderr",
     "output_type": "stream",
     "text": [
      "\r",
      " 85%|█████████████████████████████████████████████████████████████▉           | 84898/100000 [1:54:35<24:11, 10.40it/s]"
     ]
    },
    {
     "name": "stdout",
     "output_type": "stream",
     "text": [
      "self.evaluation_deque: deque([0.5422126186334849, 0.5215554428656046, 0.7719142884466285, 0.6449436331855362, 0.7938187115136532, 0.7854109133291428, 0.5640669029995408, 0.6970214831647537, 0.5363370131580516, 0.646146989035536, 0.6654466026468576, 0.5564127220090347, 0.8827360584304376, 0.8416900121011313, 0.7204043443953384, 0.7087757788148354, 0.8203880304818177, 0.42820403022222103, 0.6778384883278319, 0.5283447567648608], maxlen=20)\n",
      "eval_mean: 0.666683441026315\n"
     ]
    },
    {
     "name": "stderr",
     "output_type": "stream",
     "text": [
      "\r",
      " 85%|██████████████████████████████████████████████████████████████           | 84974/100000 [1:54:40<22:26, 11.16it/s]"
     ]
    },
    {
     "name": "stdout",
     "output_type": "stream",
     "text": [
      "self.evaluation_deque: deque([0.5422126186334849, 0.5215554428656046, 0.7719142884466285, 0.6449436331855362, 0.7938187115136532, 0.7854109133291428, 0.5640669029995408, 0.6970214831647537, 0.5363370131580516, 0.646146989035536, 0.6654466026468576, 0.5564127220090347, 0.8827360584304376, 0.8416900121011313, 0.7204043443953384, 0.7087757788148354, 0.8203880304818177, 0.42820403022222103, 0.6778384883278319, 0.5283447567648608], maxlen=20)\n",
      "eval_mean: 0.666683441026315\n"
     ]
    },
    {
     "name": "stderr",
     "output_type": "stream",
     "text": [
      "\r",
      " 85%|██████████████████████████████████████████████████████████████           | 85050/100000 [1:54:46<21:17, 11.70it/s]"
     ]
    },
    {
     "name": "stdout",
     "output_type": "stream",
     "text": [
      "self.evaluation_deque: deque([0.5422126186334849, 0.5215554428656046, 0.7719142884466285, 0.6449436331855362, 0.7938187115136532, 0.7854109133291428, 0.5640669029995408, 0.6970214831647537, 0.5363370131580516, 0.646146989035536, 0.6654466026468576, 0.5564127220090347, 0.8827360584304376, 0.8416900121011313, 0.7204043443953384, 0.7087757788148354, 0.8203880304818177, 0.42820403022222103, 0.6778384883278319, 0.5283447567648608], maxlen=20)\n",
      "eval_mean: 0.666683441026315\n"
     ]
    },
    {
     "name": "stderr",
     "output_type": "stream",
     "text": [
      "\r",
      " 85%|██████████████████████████████████████████████████████████████▏          | 85126/100000 [1:54:55<23:02, 10.76it/s]"
     ]
    },
    {
     "name": "stdout",
     "output_type": "stream",
     "text": [
      "self.get_collection_ratio(): 0.5971628790797296\n",
      "self.comms.count(True) : 2\n",
      "len(self.comms) : 2\n",
      "self.state.ratio_commed: 1.0\n",
      "self.comms.count(True) : 2\n",
      "len(self.comms) : 2\n",
      "self.evaluation_deque: deque([0.5215554428656046, 0.7719142884466285, 0.6449436331855362, 0.7938187115136532, 0.7854109133291428, 0.5640669029995408, 0.6970214831647537, 0.5363370131580516, 0.646146989035536, 0.6654466026468576, 0.5564127220090347, 0.8827360584304376, 0.8416900121011313, 0.7204043443953384, 0.7087757788148354, 0.8203880304818177, 0.42820403022222103, 0.6778384883278319, 0.5283447567648608, 0.5971628790797296], maxlen=20)\n",
      "eval_mean: 0.6694309540486271\n",
      "Saving best with: 0.6694309540486271\n"
     ]
    },
    {
     "name": "stderr",
     "output_type": "stream",
     "text": [
      "\r",
      " 85%|██████████████████████████████████████████████████████████████▏          | 85202/100000 [1:55:03<24:14, 10.18it/s]"
     ]
    },
    {
     "name": "stdout",
     "output_type": "stream",
     "text": [
      "self.evaluation_deque: deque([0.5215554428656046, 0.7719142884466285, 0.6449436331855362, 0.7938187115136532, 0.7854109133291428, 0.5640669029995408, 0.6970214831647537, 0.5363370131580516, 0.646146989035536, 0.6654466026468576, 0.5564127220090347, 0.8827360584304376, 0.8416900121011313, 0.7204043443953384, 0.7087757788148354, 0.8203880304818177, 0.42820403022222103, 0.6778384883278319, 0.5283447567648608, 0.5971628790797296], maxlen=20)\n",
      "eval_mean: 0.6694309540486271\n"
     ]
    },
    {
     "name": "stderr",
     "output_type": "stream",
     "text": [
      "\r",
      " 85%|██████████████████████████████████████████████████████████████▎          | 85278/100000 [1:55:09<22:31, 10.89it/s]"
     ]
    },
    {
     "name": "stdout",
     "output_type": "stream",
     "text": [
      "self.evaluation_deque: deque([0.5215554428656046, 0.7719142884466285, 0.6449436331855362, 0.7938187115136532, 0.7854109133291428, 0.5640669029995408, 0.6970214831647537, 0.5363370131580516, 0.646146989035536, 0.6654466026468576, 0.5564127220090347, 0.8827360584304376, 0.8416900121011313, 0.7204043443953384, 0.7087757788148354, 0.8203880304818177, 0.42820403022222103, 0.6778384883278319, 0.5283447567648608, 0.5971628790797296], maxlen=20)\n",
      "eval_mean: 0.6694309540486271\n"
     ]
    },
    {
     "name": "stderr",
     "output_type": "stream",
     "text": [
      "\r",
      " 85%|██████████████████████████████████████████████████████████████▎          | 85354/100000 [1:55:16<22:46, 10.72it/s]"
     ]
    },
    {
     "name": "stdout",
     "output_type": "stream",
     "text": [
      "self.evaluation_deque: deque([0.5215554428656046, 0.7719142884466285, 0.6449436331855362, 0.7938187115136532, 0.7854109133291428, 0.5640669029995408, 0.6970214831647537, 0.5363370131580516, 0.646146989035536, 0.6654466026468576, 0.5564127220090347, 0.8827360584304376, 0.8416900121011313, 0.7204043443953384, 0.7087757788148354, 0.8203880304818177, 0.42820403022222103, 0.6778384883278319, 0.5283447567648608, 0.5971628790797296], maxlen=20)\n",
      "eval_mean: 0.6694309540486271\n"
     ]
    },
    {
     "name": "stderr",
     "output_type": "stream",
     "text": [
      "\r",
      " 85%|██████████████████████████████████████████████████████████████▎          | 85430/100000 [1:55:24<22:53, 10.61it/s]"
     ]
    },
    {
     "name": "stdout",
     "output_type": "stream",
     "text": [
      "self.evaluation_deque: deque([0.5215554428656046, 0.7719142884466285, 0.6449436331855362, 0.7938187115136532, 0.7854109133291428, 0.5640669029995408, 0.6970214831647537, 0.5363370131580516, 0.646146989035536, 0.6654466026468576, 0.5564127220090347, 0.8827360584304376, 0.8416900121011313, 0.7204043443953384, 0.7087757788148354, 0.8203880304818177, 0.42820403022222103, 0.6778384883278319, 0.5283447567648608, 0.5971628790797296], maxlen=20)\n",
      "eval_mean: 0.6694309540486271\n"
     ]
    },
    {
     "name": "stderr",
     "output_type": "stream",
     "text": [
      "\r",
      " 86%|██████████████████████████████████████████████████████████████▍          | 85506/100000 [1:55:31<23:07, 10.44it/s]"
     ]
    },
    {
     "name": "stdout",
     "output_type": "stream",
     "text": [
      "self.get_collection_ratio(): 0.5096067010100586\n",
      "self.comms.count(True) : 1\n",
      "len(self.comms) : 1\n",
      "self.state.ratio_commed: 1.0\n",
      "self.comms.count(True) : 1\n",
      "len(self.comms) : 1\n",
      "self.evaluation_deque: deque([0.7719142884466285, 0.6449436331855362, 0.7938187115136532, 0.7854109133291428, 0.5640669029995408, 0.6970214831647537, 0.5363370131580516, 0.646146989035536, 0.6654466026468576, 0.5564127220090347, 0.8827360584304376, 0.8416900121011313, 0.7204043443953384, 0.7087757788148354, 0.8203880304818177, 0.42820403022222103, 0.6778384883278319, 0.5283447567648608, 0.5971628790797296, 0.5096067010100586], maxlen=20)\n",
      "eval_mean: 0.6688335169558499\n"
     ]
    },
    {
     "name": "stderr",
     "output_type": "stream",
     "text": [
      "\r",
      " 86%|██████████████████████████████████████████████████████████████▍          | 85582/100000 [1:55:39<23:56, 10.04it/s]"
     ]
    },
    {
     "name": "stdout",
     "output_type": "stream",
     "text": [
      "self.evaluation_deque: deque([0.7719142884466285, 0.6449436331855362, 0.7938187115136532, 0.7854109133291428, 0.5640669029995408, 0.6970214831647537, 0.5363370131580516, 0.646146989035536, 0.6654466026468576, 0.5564127220090347, 0.8827360584304376, 0.8416900121011313, 0.7204043443953384, 0.7087757788148354, 0.8203880304818177, 0.42820403022222103, 0.6778384883278319, 0.5283447567648608, 0.5971628790797296, 0.5096067010100586], maxlen=20)\n",
      "eval_mean: 0.6688335169558499\n"
     ]
    },
    {
     "name": "stderr",
     "output_type": "stream",
     "text": [
      "\r",
      " 86%|██████████████████████████████████████████████████████████████▌          | 85658/100000 [1:55:47<24:15,  9.85it/s]"
     ]
    },
    {
     "name": "stdout",
     "output_type": "stream",
     "text": [
      "self.evaluation_deque: deque([0.7719142884466285, 0.6449436331855362, 0.7938187115136532, 0.7854109133291428, 0.5640669029995408, 0.6970214831647537, 0.5363370131580516, 0.646146989035536, 0.6654466026468576, 0.5564127220090347, 0.8827360584304376, 0.8416900121011313, 0.7204043443953384, 0.7087757788148354, 0.8203880304818177, 0.42820403022222103, 0.6778384883278319, 0.5283447567648608, 0.5971628790797296, 0.5096067010100586], maxlen=20)\n",
      "eval_mean: 0.6688335169558499\n"
     ]
    },
    {
     "name": "stderr",
     "output_type": "stream",
     "text": [
      "\r",
      " 86%|██████████████████████████████████████████████████████████████▌          | 85734/100000 [1:55:55<23:50,  9.97it/s]"
     ]
    },
    {
     "name": "stdout",
     "output_type": "stream",
     "text": [
      "self.evaluation_deque: deque([0.7719142884466285, 0.6449436331855362, 0.7938187115136532, 0.7854109133291428, 0.5640669029995408, 0.6970214831647537, 0.5363370131580516, 0.646146989035536, 0.6654466026468576, 0.5564127220090347, 0.8827360584304376, 0.8416900121011313, 0.7204043443953384, 0.7087757788148354, 0.8203880304818177, 0.42820403022222103, 0.6778384883278319, 0.5283447567648608, 0.5971628790797296, 0.5096067010100586], maxlen=20)\n",
      "eval_mean: 0.6688335169558499\n"
     ]
    },
    {
     "name": "stderr",
     "output_type": "stream",
     "text": [
      "\r",
      " 86%|██████████████████████████████████████████████████████████████▋          | 85810/100000 [1:56:02<23:23, 10.11it/s]"
     ]
    },
    {
     "name": "stdout",
     "output_type": "stream",
     "text": [
      "self.evaluation_deque: deque([0.7719142884466285, 0.6449436331855362, 0.7938187115136532, 0.7854109133291428, 0.5640669029995408, 0.6970214831647537, 0.5363370131580516, 0.646146989035536, 0.6654466026468576, 0.5564127220090347, 0.8827360584304376, 0.8416900121011313, 0.7204043443953384, 0.7087757788148354, 0.8203880304818177, 0.42820403022222103, 0.6778384883278319, 0.5283447567648608, 0.5971628790797296, 0.5096067010100586], maxlen=20)\n",
      "eval_mean: 0.6688335169558499\n"
     ]
    },
    {
     "name": "stderr",
     "output_type": "stream",
     "text": [
      "\r",
      " 86%|██████████████████████████████████████████████████████████████▋          | 85886/100000 [1:56:12<25:24,  9.26it/s]"
     ]
    },
    {
     "name": "stdout",
     "output_type": "stream",
     "text": [
      "self.get_collection_ratio(): 0.5037473930443286\n",
      "self.comms.count(True) : 1\n",
      "len(self.comms) : 1\n",
      "self.state.ratio_commed: 1.0\n",
      "self.comms.count(True) : 1\n",
      "len(self.comms) : 1\n",
      "self.evaluation_deque: deque([0.6449436331855362, 0.7938187115136532, 0.7854109133291428, 0.5640669029995408, 0.6970214831647537, 0.5363370131580516, 0.646146989035536, 0.6654466026468576, 0.5564127220090347, 0.8827360584304376, 0.8416900121011313, 0.7204043443953384, 0.7087757788148354, 0.8203880304818177, 0.42820403022222103, 0.6778384883278319, 0.5283447567648608, 0.5971628790797296, 0.5096067010100586, 0.5037473930443286], maxlen=20)\n",
      "eval_mean: 0.6554251721857348\n"
     ]
    },
    {
     "name": "stderr",
     "output_type": "stream",
     "text": [
      "\r",
      " 86%|██████████████████████████████████████████████████████████████▊          | 85962/100000 [1:56:18<23:03, 10.15it/s]"
     ]
    },
    {
     "name": "stdout",
     "output_type": "stream",
     "text": [
      "self.evaluation_deque: deque([0.6449436331855362, 0.7938187115136532, 0.7854109133291428, 0.5640669029995408, 0.6970214831647537, 0.5363370131580516, 0.646146989035536, 0.6654466026468576, 0.5564127220090347, 0.8827360584304376, 0.8416900121011313, 0.7204043443953384, 0.7087757788148354, 0.8203880304818177, 0.42820403022222103, 0.6778384883278319, 0.5283447567648608, 0.5971628790797296, 0.5096067010100586, 0.5037473930443286], maxlen=20)\n",
      "eval_mean: 0.6554251721857348\n"
     ]
    },
    {
     "name": "stderr",
     "output_type": "stream",
     "text": [
      "\r",
      " 86%|██████████████████████████████████████████████████████████████▊          | 86038/100000 [1:56:25<22:36, 10.29it/s]"
     ]
    },
    {
     "name": "stdout",
     "output_type": "stream",
     "text": [
      "self.evaluation_deque: deque([0.6449436331855362, 0.7938187115136532, 0.7854109133291428, 0.5640669029995408, 0.6970214831647537, 0.5363370131580516, 0.646146989035536, 0.6654466026468576, 0.5564127220090347, 0.8827360584304376, 0.8416900121011313, 0.7204043443953384, 0.7087757788148354, 0.8203880304818177, 0.42820403022222103, 0.6778384883278319, 0.5283447567648608, 0.5971628790797296, 0.5096067010100586, 0.5037473930443286], maxlen=20)\n",
      "eval_mean: 0.6554251721857348\n"
     ]
    },
    {
     "name": "stderr",
     "output_type": "stream",
     "text": [
      "\r",
      " 86%|██████████████████████████████████████████████████████████████▊          | 86114/100000 [1:56:33<23:04, 10.03it/s]"
     ]
    },
    {
     "name": "stdout",
     "output_type": "stream",
     "text": [
      "self.evaluation_deque: deque([0.6449436331855362, 0.7938187115136532, 0.7854109133291428, 0.5640669029995408, 0.6970214831647537, 0.5363370131580516, 0.646146989035536, 0.6654466026468576, 0.5564127220090347, 0.8827360584304376, 0.8416900121011313, 0.7204043443953384, 0.7087757788148354, 0.8203880304818177, 0.42820403022222103, 0.6778384883278319, 0.5283447567648608, 0.5971628790797296, 0.5096067010100586, 0.5037473930443286], maxlen=20)\n",
      "eval_mean: 0.6554251721857348\n"
     ]
    },
    {
     "name": "stderr",
     "output_type": "stream",
     "text": [
      "\r",
      " 86%|██████████████████████████████████████████████████████████████▉          | 86190/100000 [1:56:41<23:24,  9.83it/s]"
     ]
    },
    {
     "name": "stdout",
     "output_type": "stream",
     "text": [
      "self.evaluation_deque: deque([0.6449436331855362, 0.7938187115136532, 0.7854109133291428, 0.5640669029995408, 0.6970214831647537, 0.5363370131580516, 0.646146989035536, 0.6654466026468576, 0.5564127220090347, 0.8827360584304376, 0.8416900121011313, 0.7204043443953384, 0.7087757788148354, 0.8203880304818177, 0.42820403022222103, 0.6778384883278319, 0.5283447567648608, 0.5971628790797296, 0.5096067010100586, 0.5037473930443286], maxlen=20)\n",
      "eval_mean: 0.6554251721857348\n"
     ]
    },
    {
     "name": "stderr",
     "output_type": "stream",
     "text": [
      "\r",
      " 86%|██████████████████████████████████████████████████████████████▉          | 86266/100000 [1:56:51<25:30,  8.98it/s]"
     ]
    },
    {
     "name": "stdout",
     "output_type": "stream",
     "text": [
      "self.get_collection_ratio(): 0.7863465822462866\n",
      "self.comms.count(True) : 3\n",
      "len(self.comms) : 3\n",
      "self.state.ratio_commed: 1.0\n",
      "self.comms.count(True) : 3\n",
      "len(self.comms) : 3\n",
      "self.evaluation_deque: deque([0.7938187115136532, 0.7854109133291428, 0.5640669029995408, 0.6970214831647537, 0.5363370131580516, 0.646146989035536, 0.6654466026468576, 0.5564127220090347, 0.8827360584304376, 0.8416900121011313, 0.7204043443953384, 0.7087757788148354, 0.8203880304818177, 0.42820403022222103, 0.6778384883278319, 0.5283447567648608, 0.5971628790797296, 0.5096067010100586, 0.5037473930443286, 0.7863465822462866], maxlen=20)\n",
      "eval_mean: 0.6624953196387724\n"
     ]
    },
    {
     "name": "stderr",
     "output_type": "stream",
     "text": [
      "\r",
      " 86%|███████████████████████████████████████████████████████████████          | 86342/100000 [1:56:58<24:09,  9.42it/s]"
     ]
    },
    {
     "name": "stdout",
     "output_type": "stream",
     "text": [
      "self.evaluation_deque: deque([0.7938187115136532, 0.7854109133291428, 0.5640669029995408, 0.6970214831647537, 0.5363370131580516, 0.646146989035536, 0.6654466026468576, 0.5564127220090347, 0.8827360584304376, 0.8416900121011313, 0.7204043443953384, 0.7087757788148354, 0.8203880304818177, 0.42820403022222103, 0.6778384883278319, 0.5283447567648608, 0.5971628790797296, 0.5096067010100586, 0.5037473930443286, 0.7863465822462866], maxlen=20)\n",
      "eval_mean: 0.6624953196387724\n"
     ]
    },
    {
     "name": "stderr",
     "output_type": "stream",
     "text": [
      "\r",
      " 86%|███████████████████████████████████████████████████████████████          | 86418/100000 [1:57:05<23:07,  9.79it/s]"
     ]
    },
    {
     "name": "stdout",
     "output_type": "stream",
     "text": [
      "self.evaluation_deque: deque([0.7938187115136532, 0.7854109133291428, 0.5640669029995408, 0.6970214831647537, 0.5363370131580516, 0.646146989035536, 0.6654466026468576, 0.5564127220090347, 0.8827360584304376, 0.8416900121011313, 0.7204043443953384, 0.7087757788148354, 0.8203880304818177, 0.42820403022222103, 0.6778384883278319, 0.5283447567648608, 0.5971628790797296, 0.5096067010100586, 0.5037473930443286, 0.7863465822462866], maxlen=20)\n",
      "eval_mean: 0.6624953196387724\n"
     ]
    },
    {
     "name": "stderr",
     "output_type": "stream",
     "text": [
      "\r",
      " 86%|███████████████████████████████████████████████████████████████▏         | 86494/100000 [1:57:11<21:17, 10.58it/s]"
     ]
    },
    {
     "name": "stdout",
     "output_type": "stream",
     "text": [
      "self.evaluation_deque: deque([0.7938187115136532, 0.7854109133291428, 0.5640669029995408, 0.6970214831647537, 0.5363370131580516, 0.646146989035536, 0.6654466026468576, 0.5564127220090347, 0.8827360584304376, 0.8416900121011313, 0.7204043443953384, 0.7087757788148354, 0.8203880304818177, 0.42820403022222103, 0.6778384883278319, 0.5283447567648608, 0.5971628790797296, 0.5096067010100586, 0.5037473930443286, 0.7863465822462866], maxlen=20)\n",
      "eval_mean: 0.6624953196387724\n"
     ]
    },
    {
     "name": "stderr",
     "output_type": "stream",
     "text": [
      "\r",
      " 87%|███████████████████████████████████████████████████████████████▏         | 86570/100000 [1:57:17<20:00, 11.19it/s]"
     ]
    },
    {
     "name": "stdout",
     "output_type": "stream",
     "text": [
      "self.evaluation_deque: deque([0.7938187115136532, 0.7854109133291428, 0.5640669029995408, 0.6970214831647537, 0.5363370131580516, 0.646146989035536, 0.6654466026468576, 0.5564127220090347, 0.8827360584304376, 0.8416900121011313, 0.7204043443953384, 0.7087757788148354, 0.8203880304818177, 0.42820403022222103, 0.6778384883278319, 0.5283447567648608, 0.5971628790797296, 0.5096067010100586, 0.5037473930443286, 0.7863465822462866], maxlen=20)\n",
      "eval_mean: 0.6624953196387724\n"
     ]
    },
    {
     "name": "stderr",
     "output_type": "stream",
     "text": [
      "\r",
      " 87%|███████████████████████████████████████████████████████████████▎         | 86646/100000 [1:57:24<20:20, 10.94it/s]"
     ]
    },
    {
     "name": "stdout",
     "output_type": "stream",
     "text": [
      "self.get_collection_ratio(): 0.43121419246367787\n",
      "self.comms.count(True) : 1\n",
      "len(self.comms) : 1\n",
      "self.state.ratio_commed: 1.0\n",
      "self.comms.count(True) : 1\n",
      "len(self.comms) : 1\n",
      "self.evaluation_deque: deque([0.7854109133291428, 0.5640669029995408, 0.6970214831647537, 0.5363370131580516, 0.646146989035536, 0.6654466026468576, 0.5564127220090347, 0.8827360584304376, 0.8416900121011313, 0.7204043443953384, 0.7087757788148354, 0.8203880304818177, 0.42820403022222103, 0.6778384883278319, 0.5283447567648608, 0.5971628790797296, 0.5096067010100586, 0.5037473930443286, 0.7863465822462866, 0.43121419246367787], maxlen=20)\n",
      "eval_mean: 0.6443650936862737\n"
     ]
    },
    {
     "name": "stderr",
     "output_type": "stream",
     "text": [
      "\r",
      " 87%|███████████████████████████████████████████████████████████████▎         | 86722/100000 [1:57:30<19:21, 11.44it/s]"
     ]
    },
    {
     "name": "stdout",
     "output_type": "stream",
     "text": [
      "self.evaluation_deque: deque([0.7854109133291428, 0.5640669029995408, 0.6970214831647537, 0.5363370131580516, 0.646146989035536, 0.6654466026468576, 0.5564127220090347, 0.8827360584304376, 0.8416900121011313, 0.7204043443953384, 0.7087757788148354, 0.8203880304818177, 0.42820403022222103, 0.6778384883278319, 0.5283447567648608, 0.5971628790797296, 0.5096067010100586, 0.5037473930443286, 0.7863465822462866, 0.43121419246367787], maxlen=20)\n",
      "eval_mean: 0.6443650936862737\n"
     ]
    },
    {
     "name": "stderr",
     "output_type": "stream",
     "text": [
      "\r",
      " 87%|███████████████████████████████████████████████████████████████▎         | 86798/100000 [1:57:36<18:52, 11.66it/s]"
     ]
    },
    {
     "name": "stdout",
     "output_type": "stream",
     "text": [
      "self.evaluation_deque: deque([0.7854109133291428, 0.5640669029995408, 0.6970214831647537, 0.5363370131580516, 0.646146989035536, 0.6654466026468576, 0.5564127220090347, 0.8827360584304376, 0.8416900121011313, 0.7204043443953384, 0.7087757788148354, 0.8203880304818177, 0.42820403022222103, 0.6778384883278319, 0.5283447567648608, 0.5971628790797296, 0.5096067010100586, 0.5037473930443286, 0.7863465822462866, 0.43121419246367787], maxlen=20)\n",
      "eval_mean: 0.6443650936862737\n"
     ]
    },
    {
     "name": "stderr",
     "output_type": "stream",
     "text": [
      "\r",
      " 87%|███████████████████████████████████████████████████████████████▍         | 86874/100000 [1:57:44<19:22, 11.29it/s]"
     ]
    },
    {
     "name": "stdout",
     "output_type": "stream",
     "text": [
      "self.evaluation_deque: deque([0.7854109133291428, 0.5640669029995408, 0.6970214831647537, 0.5363370131580516, 0.646146989035536, 0.6654466026468576, 0.5564127220090347, 0.8827360584304376, 0.8416900121011313, 0.7204043443953384, 0.7087757788148354, 0.8203880304818177, 0.42820403022222103, 0.6778384883278319, 0.5283447567648608, 0.5971628790797296, 0.5096067010100586, 0.5037473930443286, 0.7863465822462866, 0.43121419246367787], maxlen=20)\n",
      "eval_mean: 0.6443650936862737\n"
     ]
    },
    {
     "name": "stderr",
     "output_type": "stream",
     "text": [
      "\r",
      " 87%|███████████████████████████████████████████████████████████████▍         | 86950/100000 [1:57:50<18:32, 11.73it/s]"
     ]
    },
    {
     "name": "stdout",
     "output_type": "stream",
     "text": [
      "self.evaluation_deque: deque([0.7854109133291428, 0.5640669029995408, 0.6970214831647537, 0.5363370131580516, 0.646146989035536, 0.6654466026468576, 0.5564127220090347, 0.8827360584304376, 0.8416900121011313, 0.7204043443953384, 0.7087757788148354, 0.8203880304818177, 0.42820403022222103, 0.6778384883278319, 0.5283447567648608, 0.5971628790797296, 0.5096067010100586, 0.5037473930443286, 0.7863465822462866, 0.43121419246367787], maxlen=20)\n",
      "eval_mean: 0.6443650936862737\n"
     ]
    },
    {
     "name": "stderr",
     "output_type": "stream",
     "text": [
      "\r",
      " 87%|███████████████████████████████████████████████████████████████▌         | 87026/100000 [1:57:57<19:09, 11.29it/s]"
     ]
    },
    {
     "name": "stdout",
     "output_type": "stream",
     "text": [
      "self.get_collection_ratio(): 0.513120801864767\n",
      "self.comms.count(True) : 1\n",
      "len(self.comms) : 1\n",
      "self.state.ratio_commed: 1.0\n",
      "self.comms.count(True) : 1\n",
      "len(self.comms) : 1\n",
      "self.evaluation_deque: deque([0.5640669029995408, 0.6970214831647537, 0.5363370131580516, 0.646146989035536, 0.6654466026468576, 0.5564127220090347, 0.8827360584304376, 0.8416900121011313, 0.7204043443953384, 0.7087757788148354, 0.8203880304818177, 0.42820403022222103, 0.6778384883278319, 0.5283447567648608, 0.5971628790797296, 0.5096067010100586, 0.5037473930443286, 0.7863465822462866, 0.43121419246367787, 0.513120801864767], maxlen=20)\n",
      "eval_mean: 0.6307505881130548\n"
     ]
    },
    {
     "name": "stderr",
     "output_type": "stream",
     "text": [
      "\r",
      " 87%|███████████████████████████████████████████████████████████████▌         | 87102/100000 [1:58:05<20:13, 10.63it/s]"
     ]
    },
    {
     "name": "stdout",
     "output_type": "stream",
     "text": [
      "self.evaluation_deque: deque([0.5640669029995408, 0.6970214831647537, 0.5363370131580516, 0.646146989035536, 0.6654466026468576, 0.5564127220090347, 0.8827360584304376, 0.8416900121011313, 0.7204043443953384, 0.7087757788148354, 0.8203880304818177, 0.42820403022222103, 0.6778384883278319, 0.5283447567648608, 0.5971628790797296, 0.5096067010100586, 0.5037473930443286, 0.7863465822462866, 0.43121419246367787, 0.513120801864767], maxlen=20)\n",
      "eval_mean: 0.6307505881130548\n"
     ]
    },
    {
     "name": "stderr",
     "output_type": "stream",
     "text": [
      "\r",
      " 87%|███████████████████████████████████████████████████████████████▋         | 87178/100000 [1:58:14<21:13, 10.07it/s]"
     ]
    },
    {
     "name": "stdout",
     "output_type": "stream",
     "text": [
      "self.evaluation_deque: deque([0.5640669029995408, 0.6970214831647537, 0.5363370131580516, 0.646146989035536, 0.6654466026468576, 0.5564127220090347, 0.8827360584304376, 0.8416900121011313, 0.7204043443953384, 0.7087757788148354, 0.8203880304818177, 0.42820403022222103, 0.6778384883278319, 0.5283447567648608, 0.5971628790797296, 0.5096067010100586, 0.5037473930443286, 0.7863465822462866, 0.43121419246367787, 0.513120801864767], maxlen=20)\n",
      "eval_mean: 0.6307505881130548\n"
     ]
    },
    {
     "name": "stderr",
     "output_type": "stream",
     "text": [
      "\r",
      " 87%|███████████████████████████████████████████████████████████████▋         | 87254/100000 [1:58:19<19:33, 10.87it/s]"
     ]
    },
    {
     "name": "stdout",
     "output_type": "stream",
     "text": [
      "self.evaluation_deque: deque([0.5640669029995408, 0.6970214831647537, 0.5363370131580516, 0.646146989035536, 0.6654466026468576, 0.5564127220090347, 0.8827360584304376, 0.8416900121011313, 0.7204043443953384, 0.7087757788148354, 0.8203880304818177, 0.42820403022222103, 0.6778384883278319, 0.5283447567648608, 0.5971628790797296, 0.5096067010100586, 0.5037473930443286, 0.7863465822462866, 0.43121419246367787, 0.513120801864767], maxlen=20)\n",
      "eval_mean: 0.6307505881130548\n"
     ]
    },
    {
     "name": "stderr",
     "output_type": "stream",
     "text": [
      "\r",
      " 87%|███████████████████████████████████████████████████████████████▊         | 87330/100000 [1:58:26<19:27, 10.85it/s]"
     ]
    },
    {
     "name": "stdout",
     "output_type": "stream",
     "text": [
      "self.evaluation_deque: deque([0.5640669029995408, 0.6970214831647537, 0.5363370131580516, 0.646146989035536, 0.6654466026468576, 0.5564127220090347, 0.8827360584304376, 0.8416900121011313, 0.7204043443953384, 0.7087757788148354, 0.8203880304818177, 0.42820403022222103, 0.6778384883278319, 0.5283447567648608, 0.5971628790797296, 0.5096067010100586, 0.5037473930443286, 0.7863465822462866, 0.43121419246367787, 0.513120801864767], maxlen=20)\n",
      "eval_mean: 0.6307505881130548\n"
     ]
    },
    {
     "name": "stderr",
     "output_type": "stream",
     "text": [
      "\r",
      " 87%|███████████████████████████████████████████████████████████████▊         | 87406/100000 [1:58:36<21:58,  9.55it/s]"
     ]
    },
    {
     "name": "stdout",
     "output_type": "stream",
     "text": [
      "self.get_collection_ratio(): 0.6633064252330269\n",
      "self.comms.count(True) : 3\n",
      "len(self.comms) : 3\n",
      "self.state.ratio_commed: 1.0\n",
      "self.comms.count(True) : 3\n",
      "len(self.comms) : 3\n",
      "self.evaluation_deque: deque([0.6970214831647537, 0.5363370131580516, 0.646146989035536, 0.6654466026468576, 0.5564127220090347, 0.8827360584304376, 0.8416900121011313, 0.7204043443953384, 0.7087757788148354, 0.8203880304818177, 0.42820403022222103, 0.6778384883278319, 0.5283447567648608, 0.5971628790797296, 0.5096067010100586, 0.5037473930443286, 0.7863465822462866, 0.43121419246367787, 0.513120801864767, 0.6633064252330269], maxlen=20)\n",
      "eval_mean: 0.6357125642247291\n"
     ]
    },
    {
     "name": "stderr",
     "output_type": "stream",
     "text": [
      "\r",
      " 87%|███████████████████████████████████████████████████████████████▊         | 87482/100000 [1:58:44<21:46,  9.58it/s]"
     ]
    },
    {
     "name": "stdout",
     "output_type": "stream",
     "text": [
      "self.evaluation_deque: deque([0.6970214831647537, 0.5363370131580516, 0.646146989035536, 0.6654466026468576, 0.5564127220090347, 0.8827360584304376, 0.8416900121011313, 0.7204043443953384, 0.7087757788148354, 0.8203880304818177, 0.42820403022222103, 0.6778384883278319, 0.5283447567648608, 0.5971628790797296, 0.5096067010100586, 0.5037473930443286, 0.7863465822462866, 0.43121419246367787, 0.513120801864767, 0.6633064252330269], maxlen=20)\n",
      "eval_mean: 0.6357125642247291\n"
     ]
    },
    {
     "name": "stderr",
     "output_type": "stream",
     "text": [
      "\r",
      " 88%|███████████████████████████████████████████████████████████████▉         | 87558/100000 [1:58:53<21:51,  9.49it/s]"
     ]
    },
    {
     "name": "stdout",
     "output_type": "stream",
     "text": [
      "self.evaluation_deque: deque([0.6970214831647537, 0.5363370131580516, 0.646146989035536, 0.6654466026468576, 0.5564127220090347, 0.8827360584304376, 0.8416900121011313, 0.7204043443953384, 0.7087757788148354, 0.8203880304818177, 0.42820403022222103, 0.6778384883278319, 0.5283447567648608, 0.5971628790797296, 0.5096067010100586, 0.5037473930443286, 0.7863465822462866, 0.43121419246367787, 0.513120801864767, 0.6633064252330269], maxlen=20)\n",
      "eval_mean: 0.6357125642247291\n"
     ]
    },
    {
     "name": "stderr",
     "output_type": "stream",
     "text": [
      "\r",
      " 88%|███████████████████████████████████████████████████████████████▉         | 87634/100000 [1:58:59<20:53,  9.87it/s]"
     ]
    },
    {
     "name": "stdout",
     "output_type": "stream",
     "text": [
      "self.evaluation_deque: deque([0.6970214831647537, 0.5363370131580516, 0.646146989035536, 0.6654466026468576, 0.5564127220090347, 0.8827360584304376, 0.8416900121011313, 0.7204043443953384, 0.7087757788148354, 0.8203880304818177, 0.42820403022222103, 0.6778384883278319, 0.5283447567648608, 0.5971628790797296, 0.5096067010100586, 0.5037473930443286, 0.7863465822462866, 0.43121419246367787, 0.513120801864767, 0.6633064252330269], maxlen=20)\n",
      "eval_mean: 0.6357125642247291\n"
     ]
    },
    {
     "name": "stderr",
     "output_type": "stream",
     "text": [
      "\r",
      " 88%|████████████████████████████████████████████████████████████████         | 87710/100000 [1:59:06<20:04, 10.20it/s]"
     ]
    },
    {
     "name": "stdout",
     "output_type": "stream",
     "text": [
      "self.evaluation_deque: deque([0.6970214831647537, 0.5363370131580516, 0.646146989035536, 0.6654466026468576, 0.5564127220090347, 0.8827360584304376, 0.8416900121011313, 0.7204043443953384, 0.7087757788148354, 0.8203880304818177, 0.42820403022222103, 0.6778384883278319, 0.5283447567648608, 0.5971628790797296, 0.5096067010100586, 0.5037473930443286, 0.7863465822462866, 0.43121419246367787, 0.513120801864767, 0.6633064252330269], maxlen=20)\n",
      "eval_mean: 0.6357125642247291\n"
     ]
    },
    {
     "name": "stderr",
     "output_type": "stream",
     "text": [
      "\r",
      " 88%|████████████████████████████████████████████████████████████████         | 87786/100000 [1:59:17<22:22,  9.10it/s]"
     ]
    },
    {
     "name": "stdout",
     "output_type": "stream",
     "text": [
      "self.get_collection_ratio(): 0.6419221723203019\n",
      "self.comms.count(True) : 2\n",
      "len(self.comms) : 2\n",
      "self.state.ratio_commed: 1.0\n",
      "self.comms.count(True) : 2\n",
      "len(self.comms) : 2\n",
      "self.evaluation_deque: deque([0.5363370131580516, 0.646146989035536, 0.6654466026468576, 0.5564127220090347, 0.8827360584304376, 0.8416900121011313, 0.7204043443953384, 0.7087757788148354, 0.8203880304818177, 0.42820403022222103, 0.6778384883278319, 0.5283447567648608, 0.5971628790797296, 0.5096067010100586, 0.5037473930443286, 0.7863465822462866, 0.43121419246367787, 0.513120801864767, 0.6633064252330269, 0.6419221723203019], maxlen=20)\n",
      "eval_mean: 0.6329575986825066\n"
     ]
    },
    {
     "name": "stderr",
     "output_type": "stream",
     "text": [
      "\r",
      " 88%|████████████████████████████████████████████████████████████████▏        | 87862/100000 [1:59:22<20:06, 10.06it/s]"
     ]
    },
    {
     "name": "stdout",
     "output_type": "stream",
     "text": [
      "self.evaluation_deque: deque([0.5363370131580516, 0.646146989035536, 0.6654466026468576, 0.5564127220090347, 0.8827360584304376, 0.8416900121011313, 0.7204043443953384, 0.7087757788148354, 0.8203880304818177, 0.42820403022222103, 0.6778384883278319, 0.5283447567648608, 0.5971628790797296, 0.5096067010100586, 0.5037473930443286, 0.7863465822462866, 0.43121419246367787, 0.513120801864767, 0.6633064252330269, 0.6419221723203019], maxlen=20)\n",
      "eval_mean: 0.6329575986825066\n"
     ]
    },
    {
     "name": "stderr",
     "output_type": "stream",
     "text": [
      "\r",
      " 88%|████████████████████████████████████████████████████████████████▏        | 87938/100000 [1:59:31<20:22,  9.87it/s]"
     ]
    },
    {
     "name": "stdout",
     "output_type": "stream",
     "text": [
      "self.evaluation_deque: deque([0.5363370131580516, 0.646146989035536, 0.6654466026468576, 0.5564127220090347, 0.8827360584304376, 0.8416900121011313, 0.7204043443953384, 0.7087757788148354, 0.8203880304818177, 0.42820403022222103, 0.6778384883278319, 0.5283447567648608, 0.5971628790797296, 0.5096067010100586, 0.5037473930443286, 0.7863465822462866, 0.43121419246367787, 0.513120801864767, 0.6633064252330269, 0.6419221723203019], maxlen=20)\n",
      "eval_mean: 0.6329575986825066\n"
     ]
    },
    {
     "name": "stderr",
     "output_type": "stream",
     "text": [
      "\r",
      " 88%|████████████████████████████████████████████████████████████████▎        | 88014/100000 [1:59:38<19:51, 10.06it/s]"
     ]
    },
    {
     "name": "stdout",
     "output_type": "stream",
     "text": [
      "self.evaluation_deque: deque([0.5363370131580516, 0.646146989035536, 0.6654466026468576, 0.5564127220090347, 0.8827360584304376, 0.8416900121011313, 0.7204043443953384, 0.7087757788148354, 0.8203880304818177, 0.42820403022222103, 0.6778384883278319, 0.5283447567648608, 0.5971628790797296, 0.5096067010100586, 0.5037473930443286, 0.7863465822462866, 0.43121419246367787, 0.513120801864767, 0.6633064252330269, 0.6419221723203019], maxlen=20)\n",
      "eval_mean: 0.6329575986825066\n"
     ]
    },
    {
     "name": "stderr",
     "output_type": "stream",
     "text": [
      "\r",
      " 88%|████████████████████████████████████████████████████████████████▎        | 88090/100000 [1:59:44<18:38, 10.65it/s]"
     ]
    },
    {
     "name": "stdout",
     "output_type": "stream",
     "text": [
      "self.evaluation_deque: deque([0.5363370131580516, 0.646146989035536, 0.6654466026468576, 0.5564127220090347, 0.8827360584304376, 0.8416900121011313, 0.7204043443953384, 0.7087757788148354, 0.8203880304818177, 0.42820403022222103, 0.6778384883278319, 0.5283447567648608, 0.5971628790797296, 0.5096067010100586, 0.5037473930443286, 0.7863465822462866, 0.43121419246367787, 0.513120801864767, 0.6633064252330269, 0.6419221723203019], maxlen=20)\n",
      "eval_mean: 0.6329575986825066\n"
     ]
    },
    {
     "name": "stderr",
     "output_type": "stream",
     "text": [
      "\r",
      " 88%|████████████████████████████████████████████████████████████████▎        | 88166/100000 [1:59:52<19:17, 10.22it/s]"
     ]
    },
    {
     "name": "stdout",
     "output_type": "stream",
     "text": [
      "self.get_collection_ratio(): 0.5879329529364969\n",
      "self.comms.count(True) : 2\n",
      "len(self.comms) : 2\n",
      "self.state.ratio_commed: 1.0\n",
      "self.comms.count(True) : 2\n",
      "len(self.comms) : 2\n",
      "self.evaluation_deque: deque([0.646146989035536, 0.6654466026468576, 0.5564127220090347, 0.8827360584304376, 0.8416900121011313, 0.7204043443953384, 0.7087757788148354, 0.8203880304818177, 0.42820403022222103, 0.6778384883278319, 0.5283447567648608, 0.5971628790797296, 0.5096067010100586, 0.5037473930443286, 0.7863465822462866, 0.43121419246367787, 0.513120801864767, 0.6633064252330269, 0.6419221723203019, 0.5879329529364969], maxlen=20)\n",
      "eval_mean: 0.6355373956714286\n"
     ]
    },
    {
     "name": "stderr",
     "output_type": "stream",
     "text": [
      "\r",
      " 88%|████████████████████████████████████████████████████████████████▍        | 88242/100000 [1:59:59<18:59, 10.32it/s]"
     ]
    },
    {
     "name": "stdout",
     "output_type": "stream",
     "text": [
      "self.evaluation_deque: deque([0.646146989035536, 0.6654466026468576, 0.5564127220090347, 0.8827360584304376, 0.8416900121011313, 0.7204043443953384, 0.7087757788148354, 0.8203880304818177, 0.42820403022222103, 0.6778384883278319, 0.5283447567648608, 0.5971628790797296, 0.5096067010100586, 0.5037473930443286, 0.7863465822462866, 0.43121419246367787, 0.513120801864767, 0.6633064252330269, 0.6419221723203019, 0.5879329529364969], maxlen=20)\n",
      "eval_mean: 0.6355373956714286\n"
     ]
    },
    {
     "name": "stderr",
     "output_type": "stream",
     "text": [
      "\r",
      " 88%|████████████████████████████████████████████████████████████████▍        | 88318/100000 [2:00:08<19:43,  9.87it/s]"
     ]
    },
    {
     "name": "stdout",
     "output_type": "stream",
     "text": [
      "self.evaluation_deque: deque([0.646146989035536, 0.6654466026468576, 0.5564127220090347, 0.8827360584304376, 0.8416900121011313, 0.7204043443953384, 0.7087757788148354, 0.8203880304818177, 0.42820403022222103, 0.6778384883278319, 0.5283447567648608, 0.5971628790797296, 0.5096067010100586, 0.5037473930443286, 0.7863465822462866, 0.43121419246367787, 0.513120801864767, 0.6633064252330269, 0.6419221723203019, 0.5879329529364969], maxlen=20)\n",
      "eval_mean: 0.6355373956714286\n"
     ]
    },
    {
     "name": "stderr",
     "output_type": "stream",
     "text": [
      "\r",
      " 88%|████████████████████████████████████████████████████████████████▌        | 88394/100000 [2:00:16<20:08,  9.60it/s]"
     ]
    },
    {
     "name": "stdout",
     "output_type": "stream",
     "text": [
      "self.evaluation_deque: deque([0.646146989035536, 0.6654466026468576, 0.5564127220090347, 0.8827360584304376, 0.8416900121011313, 0.7204043443953384, 0.7087757788148354, 0.8203880304818177, 0.42820403022222103, 0.6778384883278319, 0.5283447567648608, 0.5971628790797296, 0.5096067010100586, 0.5037473930443286, 0.7863465822462866, 0.43121419246367787, 0.513120801864767, 0.6633064252330269, 0.6419221723203019, 0.5879329529364969], maxlen=20)\n",
      "eval_mean: 0.6355373956714286\n"
     ]
    },
    {
     "name": "stderr",
     "output_type": "stream",
     "text": [
      "\r",
      " 88%|████████████████████████████████████████████████████████████████▌        | 88470/100000 [2:00:25<20:33,  9.35it/s]"
     ]
    },
    {
     "name": "stdout",
     "output_type": "stream",
     "text": [
      "self.evaluation_deque: deque([0.646146989035536, 0.6654466026468576, 0.5564127220090347, 0.8827360584304376, 0.8416900121011313, 0.7204043443953384, 0.7087757788148354, 0.8203880304818177, 0.42820403022222103, 0.6778384883278319, 0.5283447567648608, 0.5971628790797296, 0.5096067010100586, 0.5037473930443286, 0.7863465822462866, 0.43121419246367787, 0.513120801864767, 0.6633064252330269, 0.6419221723203019, 0.5879329529364969], maxlen=20)\n",
      "eval_mean: 0.6355373956714286\n"
     ]
    },
    {
     "name": "stderr",
     "output_type": "stream",
     "text": [
      "\r",
      " 89%|████████████████████████████████████████████████████████████████▋        | 88546/100000 [2:00:34<21:20,  8.95it/s]"
     ]
    },
    {
     "name": "stdout",
     "output_type": "stream",
     "text": [
      "self.get_collection_ratio(): 0.8348052149695188\n",
      "self.comms.count(True) : 3\n",
      "len(self.comms) : 3\n",
      "self.state.ratio_commed: 1.0\n",
      "self.comms.count(True) : 3\n",
      "len(self.comms) : 3\n",
      "self.evaluation_deque: deque([0.6654466026468576, 0.5564127220090347, 0.8827360584304376, 0.8416900121011313, 0.7204043443953384, 0.7087757788148354, 0.8203880304818177, 0.42820403022222103, 0.6778384883278319, 0.5283447567648608, 0.5971628790797296, 0.5096067010100586, 0.5037473930443286, 0.7863465822462866, 0.43121419246367787, 0.513120801864767, 0.6633064252330269, 0.6419221723203019, 0.5879329529364969, 0.8348052149695188], maxlen=20)\n",
      "eval_mean: 0.6449703069681278\n"
     ]
    },
    {
     "name": "stderr",
     "output_type": "stream",
     "text": [
      "\r",
      " 89%|████████████████████████████████████████████████████████████████▋        | 88622/100000 [2:00:41<20:06,  9.43it/s]"
     ]
    },
    {
     "name": "stdout",
     "output_type": "stream",
     "text": [
      "self.evaluation_deque: deque([0.6654466026468576, 0.5564127220090347, 0.8827360584304376, 0.8416900121011313, 0.7204043443953384, 0.7087757788148354, 0.8203880304818177, 0.42820403022222103, 0.6778384883278319, 0.5283447567648608, 0.5971628790797296, 0.5096067010100586, 0.5037473930443286, 0.7863465822462866, 0.43121419246367787, 0.513120801864767, 0.6633064252330269, 0.6419221723203019, 0.5879329529364969, 0.8348052149695188], maxlen=20)\n",
      "eval_mean: 0.6449703069681278\n"
     ]
    },
    {
     "name": "stderr",
     "output_type": "stream",
     "text": [
      "\r",
      " 89%|████████████████████████████████████████████████████████████████▋        | 88698/100000 [2:00:48<19:02,  9.89it/s]"
     ]
    },
    {
     "name": "stdout",
     "output_type": "stream",
     "text": [
      "self.evaluation_deque: deque([0.6654466026468576, 0.5564127220090347, 0.8827360584304376, 0.8416900121011313, 0.7204043443953384, 0.7087757788148354, 0.8203880304818177, 0.42820403022222103, 0.6778384883278319, 0.5283447567648608, 0.5971628790797296, 0.5096067010100586, 0.5037473930443286, 0.7863465822462866, 0.43121419246367787, 0.513120801864767, 0.6633064252330269, 0.6419221723203019, 0.5879329529364969, 0.8348052149695188], maxlen=20)\n",
      "eval_mean: 0.6449703069681278\n"
     ]
    },
    {
     "name": "stderr",
     "output_type": "stream",
     "text": [
      "\r",
      " 89%|████████████████████████████████████████████████████████████████▊        | 88774/100000 [2:00:55<18:30, 10.11it/s]"
     ]
    },
    {
     "name": "stdout",
     "output_type": "stream",
     "text": [
      "self.evaluation_deque: deque([0.6654466026468576, 0.5564127220090347, 0.8827360584304376, 0.8416900121011313, 0.7204043443953384, 0.7087757788148354, 0.8203880304818177, 0.42820403022222103, 0.6778384883278319, 0.5283447567648608, 0.5971628790797296, 0.5096067010100586, 0.5037473930443286, 0.7863465822462866, 0.43121419246367787, 0.513120801864767, 0.6633064252330269, 0.6419221723203019, 0.5879329529364969, 0.8348052149695188], maxlen=20)\n",
      "eval_mean: 0.6449703069681278\n"
     ]
    },
    {
     "name": "stderr",
     "output_type": "stream",
     "text": [
      "\r",
      " 89%|████████████████████████████████████████████████████████████████▊        | 88850/100000 [2:01:03<18:43,  9.93it/s]"
     ]
    },
    {
     "name": "stdout",
     "output_type": "stream",
     "text": [
      "self.evaluation_deque: deque([0.6654466026468576, 0.5564127220090347, 0.8827360584304376, 0.8416900121011313, 0.7204043443953384, 0.7087757788148354, 0.8203880304818177, 0.42820403022222103, 0.6778384883278319, 0.5283447567648608, 0.5971628790797296, 0.5096067010100586, 0.5037473930443286, 0.7863465822462866, 0.43121419246367787, 0.513120801864767, 0.6633064252330269, 0.6419221723203019, 0.5879329529364969, 0.8348052149695188], maxlen=20)\n",
      "eval_mean: 0.6449703069681278\n"
     ]
    },
    {
     "name": "stderr",
     "output_type": "stream",
     "text": [
      "\r",
      " 89%|████████████████████████████████████████████████████████████████▉        | 88926/100000 [2:01:12<19:27,  9.48it/s]"
     ]
    },
    {
     "name": "stdout",
     "output_type": "stream",
     "text": [
      "self.get_collection_ratio(): 0.8379653809323461\n",
      "self.comms.count(True) : 3\n",
      "len(self.comms) : 3\n",
      "self.state.ratio_commed: 1.0\n",
      "self.comms.count(True) : 3\n",
      "len(self.comms) : 3\n",
      "self.evaluation_deque: deque([0.5564127220090347, 0.8827360584304376, 0.8416900121011313, 0.7204043443953384, 0.7087757788148354, 0.8203880304818177, 0.42820403022222103, 0.6778384883278319, 0.5283447567648608, 0.5971628790797296, 0.5096067010100586, 0.5037473930443286, 0.7863465822462866, 0.43121419246367787, 0.513120801864767, 0.6633064252330269, 0.6419221723203019, 0.5879329529364969, 0.8348052149695188, 0.8379653809323461], maxlen=20)\n",
      "eval_mean: 0.6535962458824023\n"
     ]
    },
    {
     "name": "stderr",
     "output_type": "stream",
     "text": [
      "\r",
      " 89%|████████████████████████████████████████████████████████████████▉        | 89002/100000 [2:01:19<18:30,  9.90it/s]"
     ]
    },
    {
     "name": "stdout",
     "output_type": "stream",
     "text": [
      "self.evaluation_deque: deque([0.5564127220090347, 0.8827360584304376, 0.8416900121011313, 0.7204043443953384, 0.7087757788148354, 0.8203880304818177, 0.42820403022222103, 0.6778384883278319, 0.5283447567648608, 0.5971628790797296, 0.5096067010100586, 0.5037473930443286, 0.7863465822462866, 0.43121419246367787, 0.513120801864767, 0.6633064252330269, 0.6419221723203019, 0.5879329529364969, 0.8348052149695188, 0.8379653809323461], maxlen=20)\n",
      "eval_mean: 0.6535962458824023\n"
     ]
    },
    {
     "name": "stderr",
     "output_type": "stream",
     "text": [
      "\r",
      " 89%|█████████████████████████████████████████████████████████████████        | 89078/100000 [2:01:25<16:57, 10.73it/s]"
     ]
    },
    {
     "name": "stdout",
     "output_type": "stream",
     "text": [
      "self.evaluation_deque: deque([0.5564127220090347, 0.8827360584304376, 0.8416900121011313, 0.7204043443953384, 0.7087757788148354, 0.8203880304818177, 0.42820403022222103, 0.6778384883278319, 0.5283447567648608, 0.5971628790797296, 0.5096067010100586, 0.5037473930443286, 0.7863465822462866, 0.43121419246367787, 0.513120801864767, 0.6633064252330269, 0.6419221723203019, 0.5879329529364969, 0.8348052149695188, 0.8379653809323461], maxlen=20)\n",
      "eval_mean: 0.6535962458824023\n"
     ]
    },
    {
     "name": "stderr",
     "output_type": "stream",
     "text": [
      "\r",
      " 89%|█████████████████████████████████████████████████████████████████        | 89154/100000 [2:01:30<15:49, 11.42it/s]"
     ]
    },
    {
     "name": "stdout",
     "output_type": "stream",
     "text": [
      "self.evaluation_deque: deque([0.5564127220090347, 0.8827360584304376, 0.8416900121011313, 0.7204043443953384, 0.7087757788148354, 0.8203880304818177, 0.42820403022222103, 0.6778384883278319, 0.5283447567648608, 0.5971628790797296, 0.5096067010100586, 0.5037473930443286, 0.7863465822462866, 0.43121419246367787, 0.513120801864767, 0.6633064252330269, 0.6419221723203019, 0.5879329529364969, 0.8348052149695188, 0.8379653809323461], maxlen=20)\n",
      "eval_mean: 0.6535962458824023\n"
     ]
    },
    {
     "name": "stderr",
     "output_type": "stream",
     "text": [
      "\r",
      " 89%|█████████████████████████████████████████████████████████████████▏       | 89230/100000 [2:01:37<15:53, 11.30it/s]"
     ]
    },
    {
     "name": "stdout",
     "output_type": "stream",
     "text": [
      "self.evaluation_deque: deque([0.5564127220090347, 0.8827360584304376, 0.8416900121011313, 0.7204043443953384, 0.7087757788148354, 0.8203880304818177, 0.42820403022222103, 0.6778384883278319, 0.5283447567648608, 0.5971628790797296, 0.5096067010100586, 0.5037473930443286, 0.7863465822462866, 0.43121419246367787, 0.513120801864767, 0.6633064252330269, 0.6419221723203019, 0.5879329529364969, 0.8348052149695188, 0.8379653809323461], maxlen=20)\n",
      "eval_mean: 0.6535962458824023\n"
     ]
    },
    {
     "name": "stderr",
     "output_type": "stream",
     "text": [
      "\r",
      " 89%|█████████████████████████████████████████████████████████████████▏       | 89306/100000 [2:01:44<16:11, 11.01it/s]"
     ]
    },
    {
     "name": "stdout",
     "output_type": "stream",
     "text": [
      "self.get_collection_ratio(): 0.4914226992729237\n",
      "self.comms.count(True) : 1\n",
      "len(self.comms) : 1\n",
      "self.state.ratio_commed: 1.0\n",
      "self.comms.count(True) : 1\n",
      "len(self.comms) : 1\n",
      "self.evaluation_deque: deque([0.8827360584304376, 0.8416900121011313, 0.7204043443953384, 0.7087757788148354, 0.8203880304818177, 0.42820403022222103, 0.6778384883278319, 0.5283447567648608, 0.5971628790797296, 0.5096067010100586, 0.5037473930443286, 0.7863465822462866, 0.43121419246367787, 0.513120801864767, 0.6633064252330269, 0.6419221723203019, 0.5879329529364969, 0.8348052149695188, 0.8379653809323461, 0.4914226992729237], maxlen=20)\n",
      "eval_mean: 0.6503467447455968\n"
     ]
    },
    {
     "name": "stderr",
     "output_type": "stream",
     "text": [
      "\r",
      " 89%|█████████████████████████████████████████████████████████████████▏       | 89382/100000 [2:01:51<16:03, 11.02it/s]"
     ]
    },
    {
     "name": "stdout",
     "output_type": "stream",
     "text": [
      "self.evaluation_deque: deque([0.8827360584304376, 0.8416900121011313, 0.7204043443953384, 0.7087757788148354, 0.8203880304818177, 0.42820403022222103, 0.6778384883278319, 0.5283447567648608, 0.5971628790797296, 0.5096067010100586, 0.5037473930443286, 0.7863465822462866, 0.43121419246367787, 0.513120801864767, 0.6633064252330269, 0.6419221723203019, 0.5879329529364969, 0.8348052149695188, 0.8379653809323461, 0.4914226992729237], maxlen=20)\n",
      "eval_mean: 0.6503467447455968\n"
     ]
    },
    {
     "name": "stderr",
     "output_type": "stream",
     "text": [
      "\r",
      " 89%|█████████████████████████████████████████████████████████████████▎       | 89458/100000 [2:01:58<15:57, 11.01it/s]"
     ]
    },
    {
     "name": "stdout",
     "output_type": "stream",
     "text": [
      "self.evaluation_deque: deque([0.8827360584304376, 0.8416900121011313, 0.7204043443953384, 0.7087757788148354, 0.8203880304818177, 0.42820403022222103, 0.6778384883278319, 0.5283447567648608, 0.5971628790797296, 0.5096067010100586, 0.5037473930443286, 0.7863465822462866, 0.43121419246367787, 0.513120801864767, 0.6633064252330269, 0.6419221723203019, 0.5879329529364969, 0.8348052149695188, 0.8379653809323461, 0.4914226992729237], maxlen=20)\n",
      "eval_mean: 0.6503467447455968\n"
     ]
    },
    {
     "name": "stderr",
     "output_type": "stream",
     "text": [
      "\r",
      " 90%|█████████████████████████████████████████████████████████████████▎       | 89534/100000 [2:02:07<16:49, 10.37it/s]"
     ]
    },
    {
     "name": "stdout",
     "output_type": "stream",
     "text": [
      "self.evaluation_deque: deque([0.8827360584304376, 0.8416900121011313, 0.7204043443953384, 0.7087757788148354, 0.8203880304818177, 0.42820403022222103, 0.6778384883278319, 0.5283447567648608, 0.5971628790797296, 0.5096067010100586, 0.5037473930443286, 0.7863465822462866, 0.43121419246367787, 0.513120801864767, 0.6633064252330269, 0.6419221723203019, 0.5879329529364969, 0.8348052149695188, 0.8379653809323461, 0.4914226992729237], maxlen=20)\n",
      "eval_mean: 0.6503467447455968\n"
     ]
    },
    {
     "name": "stderr",
     "output_type": "stream",
     "text": [
      "\r",
      " 90%|█████████████████████████████████████████████████████████████████▍       | 89610/100000 [2:02:12<15:42, 11.03it/s]"
     ]
    },
    {
     "name": "stdout",
     "output_type": "stream",
     "text": [
      "self.evaluation_deque: deque([0.8827360584304376, 0.8416900121011313, 0.7204043443953384, 0.7087757788148354, 0.8203880304818177, 0.42820403022222103, 0.6778384883278319, 0.5283447567648608, 0.5971628790797296, 0.5096067010100586, 0.5037473930443286, 0.7863465822462866, 0.43121419246367787, 0.513120801864767, 0.6633064252330269, 0.6419221723203019, 0.5879329529364969, 0.8348052149695188, 0.8379653809323461, 0.4914226992729237], maxlen=20)\n",
      "eval_mean: 0.6503467447455968\n"
     ]
    },
    {
     "name": "stderr",
     "output_type": "stream",
     "text": [
      "\r",
      " 90%|█████████████████████████████████████████████████████████████████▍       | 89686/100000 [2:02:23<17:47,  9.66it/s]"
     ]
    },
    {
     "name": "stdout",
     "output_type": "stream",
     "text": [
      "self.get_collection_ratio(): 0.7248259743525268\n",
      "self.comms.count(True) : 3\n",
      "len(self.comms) : 3\n",
      "self.state.ratio_commed: 1.0\n",
      "self.comms.count(True) : 3\n",
      "len(self.comms) : 3\n",
      "self.evaluation_deque: deque([0.8416900121011313, 0.7204043443953384, 0.7087757788148354, 0.8203880304818177, 0.42820403022222103, 0.6778384883278319, 0.5283447567648608, 0.5971628790797296, 0.5096067010100586, 0.5037473930443286, 0.7863465822462866, 0.43121419246367787, 0.513120801864767, 0.6633064252330269, 0.6419221723203019, 0.5879329529364969, 0.8348052149695188, 0.8379653809323461, 0.4914226992729237, 0.7248259743525268], maxlen=20)\n",
      "eval_mean: 0.6424512405417013\n"
     ]
    },
    {
     "name": "stderr",
     "output_type": "stream",
     "text": [
      "\r",
      " 90%|█████████████████████████████████████████████████████████████████▌       | 89762/100000 [2:02:30<17:11,  9.93it/s]"
     ]
    },
    {
     "name": "stdout",
     "output_type": "stream",
     "text": [
      "self.evaluation_deque: deque([0.8416900121011313, 0.7204043443953384, 0.7087757788148354, 0.8203880304818177, 0.42820403022222103, 0.6778384883278319, 0.5283447567648608, 0.5971628790797296, 0.5096067010100586, 0.5037473930443286, 0.7863465822462866, 0.43121419246367787, 0.513120801864767, 0.6633064252330269, 0.6419221723203019, 0.5879329529364969, 0.8348052149695188, 0.8379653809323461, 0.4914226992729237, 0.7248259743525268], maxlen=20)\n",
      "eval_mean: 0.6424512405417013\n"
     ]
    },
    {
     "name": "stderr",
     "output_type": "stream",
     "text": [
      "\r",
      " 90%|█████████████████████████████████████████████████████████████████▌       | 89838/100000 [2:02:35<15:47, 10.72it/s]"
     ]
    },
    {
     "name": "stdout",
     "output_type": "stream",
     "text": [
      "self.evaluation_deque: deque([0.8416900121011313, 0.7204043443953384, 0.7087757788148354, 0.8203880304818177, 0.42820403022222103, 0.6778384883278319, 0.5283447567648608, 0.5971628790797296, 0.5096067010100586, 0.5037473930443286, 0.7863465822462866, 0.43121419246367787, 0.513120801864767, 0.6633064252330269, 0.6419221723203019, 0.5879329529364969, 0.8348052149695188, 0.8379653809323461, 0.4914226992729237, 0.7248259743525268], maxlen=20)\n",
      "eval_mean: 0.6424512405417013\n"
     ]
    },
    {
     "name": "stderr",
     "output_type": "stream",
     "text": [
      "\r",
      " 90%|█████████████████████████████████████████████████████████████████▋       | 89914/100000 [2:02:41<14:48, 11.35it/s]"
     ]
    },
    {
     "name": "stdout",
     "output_type": "stream",
     "text": [
      "self.evaluation_deque: deque([0.8416900121011313, 0.7204043443953384, 0.7087757788148354, 0.8203880304818177, 0.42820403022222103, 0.6778384883278319, 0.5283447567648608, 0.5971628790797296, 0.5096067010100586, 0.5037473930443286, 0.7863465822462866, 0.43121419246367787, 0.513120801864767, 0.6633064252330269, 0.6419221723203019, 0.5879329529364969, 0.8348052149695188, 0.8379653809323461, 0.4914226992729237, 0.7248259743525268], maxlen=20)\n",
      "eval_mean: 0.6424512405417013\n"
     ]
    },
    {
     "name": "stderr",
     "output_type": "stream",
     "text": [
      "\r",
      " 90%|█████████████████████████████████████████████████████████████████▋       | 89990/100000 [2:02:47<14:02, 11.88it/s]"
     ]
    },
    {
     "name": "stdout",
     "output_type": "stream",
     "text": [
      "self.evaluation_deque: deque([0.8416900121011313, 0.7204043443953384, 0.7087757788148354, 0.8203880304818177, 0.42820403022222103, 0.6778384883278319, 0.5283447567648608, 0.5971628790797296, 0.5096067010100586, 0.5037473930443286, 0.7863465822462866, 0.43121419246367787, 0.513120801864767, 0.6633064252330269, 0.6419221723203019, 0.5879329529364969, 0.8348052149695188, 0.8379653809323461, 0.4914226992729237, 0.7248259743525268], maxlen=20)\n",
      "eval_mean: 0.6424512405417013\n"
     ]
    },
    {
     "name": "stderr",
     "output_type": "stream",
     "text": [
      "\r",
      " 90%|█████████████████████████████████████████████████████████████████▋       | 90066/100000 [2:02:56<15:39, 10.57it/s]"
     ]
    },
    {
     "name": "stdout",
     "output_type": "stream",
     "text": [
      "self.get_collection_ratio(): 0.6998308364672863\n",
      "self.comms.count(True) : 3\n",
      "len(self.comms) : 3\n",
      "self.state.ratio_commed: 1.0\n",
      "self.comms.count(True) : 3\n",
      "len(self.comms) : 3\n",
      "self.evaluation_deque: deque([0.7204043443953384, 0.7087757788148354, 0.8203880304818177, 0.42820403022222103, 0.6778384883278319, 0.5283447567648608, 0.5971628790797296, 0.5096067010100586, 0.5037473930443286, 0.7863465822462866, 0.43121419246367787, 0.513120801864767, 0.6633064252330269, 0.6419221723203019, 0.5879329529364969, 0.8348052149695188, 0.8379653809323461, 0.4914226992729237, 0.7248259743525268, 0.6998308364672863], maxlen=20)\n",
      "eval_mean: 0.6353582817600091\n"
     ]
    },
    {
     "name": "stderr",
     "output_type": "stream",
     "text": [
      "\r",
      " 90%|█████████████████████████████████████████████████████████████████▊       | 90142/100000 [2:03:04<16:10, 10.16it/s]"
     ]
    },
    {
     "name": "stdout",
     "output_type": "stream",
     "text": [
      "self.evaluation_deque: deque([0.7204043443953384, 0.7087757788148354, 0.8203880304818177, 0.42820403022222103, 0.6778384883278319, 0.5283447567648608, 0.5971628790797296, 0.5096067010100586, 0.5037473930443286, 0.7863465822462866, 0.43121419246367787, 0.513120801864767, 0.6633064252330269, 0.6419221723203019, 0.5879329529364969, 0.8348052149695188, 0.8379653809323461, 0.4914226992729237, 0.7248259743525268, 0.6998308364672863], maxlen=20)\n",
      "eval_mean: 0.6353582817600091\n"
     ]
    },
    {
     "name": "stderr",
     "output_type": "stream",
     "text": [
      "\r",
      " 90%|█████████████████████████████████████████████████████████████████▊       | 90218/100000 [2:03:12<16:36,  9.81it/s]"
     ]
    },
    {
     "name": "stdout",
     "output_type": "stream",
     "text": [
      "self.evaluation_deque: deque([0.7204043443953384, 0.7087757788148354, 0.8203880304818177, 0.42820403022222103, 0.6778384883278319, 0.5283447567648608, 0.5971628790797296, 0.5096067010100586, 0.5037473930443286, 0.7863465822462866, 0.43121419246367787, 0.513120801864767, 0.6633064252330269, 0.6419221723203019, 0.5879329529364969, 0.8348052149695188, 0.8379653809323461, 0.4914226992729237, 0.7248259743525268, 0.6998308364672863], maxlen=20)\n",
      "eval_mean: 0.6353582817600091\n"
     ]
    },
    {
     "name": "stderr",
     "output_type": "stream",
     "text": [
      "\r",
      " 90%|█████████████████████████████████████████████████████████████████▉       | 90294/100000 [2:03:21<16:49,  9.62it/s]"
     ]
    },
    {
     "name": "stdout",
     "output_type": "stream",
     "text": [
      "self.evaluation_deque: deque([0.7204043443953384, 0.7087757788148354, 0.8203880304818177, 0.42820403022222103, 0.6778384883278319, 0.5283447567648608, 0.5971628790797296, 0.5096067010100586, 0.5037473930443286, 0.7863465822462866, 0.43121419246367787, 0.513120801864767, 0.6633064252330269, 0.6419221723203019, 0.5879329529364969, 0.8348052149695188, 0.8379653809323461, 0.4914226992729237, 0.7248259743525268, 0.6998308364672863], maxlen=20)\n",
      "eval_mean: 0.6353582817600091\n"
     ]
    },
    {
     "name": "stderr",
     "output_type": "stream",
     "text": [
      "\r",
      " 90%|█████████████████████████████████████████████████████████████████▉       | 90370/100000 [2:03:28<16:08,  9.94it/s]"
     ]
    },
    {
     "name": "stdout",
     "output_type": "stream",
     "text": [
      "self.evaluation_deque: deque([0.7204043443953384, 0.7087757788148354, 0.8203880304818177, 0.42820403022222103, 0.6778384883278319, 0.5283447567648608, 0.5971628790797296, 0.5096067010100586, 0.5037473930443286, 0.7863465822462866, 0.43121419246367787, 0.513120801864767, 0.6633064252330269, 0.6419221723203019, 0.5879329529364969, 0.8348052149695188, 0.8379653809323461, 0.4914226992729237, 0.7248259743525268, 0.6998308364672863], maxlen=20)\n",
      "eval_mean: 0.6353582817600091\n"
     ]
    },
    {
     "name": "stderr",
     "output_type": "stream",
     "text": [
      "\r",
      " 90%|██████████████████████████████████████████████████████████████████       | 90446/100000 [2:03:38<17:36,  9.04it/s]"
     ]
    },
    {
     "name": "stdout",
     "output_type": "stream",
     "text": [
      "self.get_collection_ratio(): 0.7472535916395953\n",
      "self.comms.count(True) : 3\n",
      "len(self.comms) : 3\n",
      "self.state.ratio_commed: 1.0\n",
      "self.comms.count(True) : 3\n",
      "len(self.comms) : 3\n",
      "self.evaluation_deque: deque([0.7087757788148354, 0.8203880304818177, 0.42820403022222103, 0.6778384883278319, 0.5283447567648608, 0.5971628790797296, 0.5096067010100586, 0.5037473930443286, 0.7863465822462866, 0.43121419246367787, 0.513120801864767, 0.6633064252330269, 0.6419221723203019, 0.5879329529364969, 0.8348052149695188, 0.8379653809323461, 0.4914226992729237, 0.7248259743525268, 0.6998308364672863, 0.7472535916395953], maxlen=20)\n",
      "eval_mean: 0.6367007441222219\n"
     ]
    },
    {
     "name": "stderr",
     "output_type": "stream",
     "text": [
      "\r",
      " 91%|██████████████████████████████████████████████████████████████████       | 90522/100000 [2:03:46<17:28,  9.04it/s]"
     ]
    },
    {
     "name": "stdout",
     "output_type": "stream",
     "text": [
      "self.evaluation_deque: deque([0.7087757788148354, 0.8203880304818177, 0.42820403022222103, 0.6778384883278319, 0.5283447567648608, 0.5971628790797296, 0.5096067010100586, 0.5037473930443286, 0.7863465822462866, 0.43121419246367787, 0.513120801864767, 0.6633064252330269, 0.6419221723203019, 0.5879329529364969, 0.8348052149695188, 0.8379653809323461, 0.4914226992729237, 0.7248259743525268, 0.6998308364672863, 0.7472535916395953], maxlen=20)\n",
      "eval_mean: 0.6367007441222219\n"
     ]
    },
    {
     "name": "stderr",
     "output_type": "stream",
     "text": [
      "\r",
      " 91%|██████████████████████████████████████████████████████████████████▏      | 90598/100000 [2:03:52<15:48,  9.91it/s]"
     ]
    },
    {
     "name": "stdout",
     "output_type": "stream",
     "text": [
      "self.evaluation_deque: deque([0.7087757788148354, 0.8203880304818177, 0.42820403022222103, 0.6778384883278319, 0.5283447567648608, 0.5971628790797296, 0.5096067010100586, 0.5037473930443286, 0.7863465822462866, 0.43121419246367787, 0.513120801864767, 0.6633064252330269, 0.6419221723203019, 0.5879329529364969, 0.8348052149695188, 0.8379653809323461, 0.4914226992729237, 0.7248259743525268, 0.6998308364672863, 0.7472535916395953], maxlen=20)\n",
      "eval_mean: 0.6367007441222219\n"
     ]
    },
    {
     "name": "stderr",
     "output_type": "stream",
     "text": [
      "\r",
      " 91%|██████████████████████████████████████████████████████████████████▏      | 90674/100000 [2:03:59<15:21, 10.12it/s]"
     ]
    },
    {
     "name": "stdout",
     "output_type": "stream",
     "text": [
      "self.evaluation_deque: deque([0.7087757788148354, 0.8203880304818177, 0.42820403022222103, 0.6778384883278319, 0.5283447567648608, 0.5971628790797296, 0.5096067010100586, 0.5037473930443286, 0.7863465822462866, 0.43121419246367787, 0.513120801864767, 0.6633064252330269, 0.6419221723203019, 0.5879329529364969, 0.8348052149695188, 0.8379653809323461, 0.4914226992729237, 0.7248259743525268, 0.6998308364672863, 0.7472535916395953], maxlen=20)\n",
      "eval_mean: 0.6367007441222219\n"
     ]
    },
    {
     "name": "stderr",
     "output_type": "stream",
     "text": [
      "\r",
      " 91%|██████████████████████████████████████████████████████████████████▏      | 90750/100000 [2:04:08<15:40,  9.84it/s]"
     ]
    },
    {
     "name": "stdout",
     "output_type": "stream",
     "text": [
      "self.evaluation_deque: deque([0.7087757788148354, 0.8203880304818177, 0.42820403022222103, 0.6778384883278319, 0.5283447567648608, 0.5971628790797296, 0.5096067010100586, 0.5037473930443286, 0.7863465822462866, 0.43121419246367787, 0.513120801864767, 0.6633064252330269, 0.6419221723203019, 0.5879329529364969, 0.8348052149695188, 0.8379653809323461, 0.4914226992729237, 0.7248259743525268, 0.6998308364672863, 0.7472535916395953], maxlen=20)\n",
      "eval_mean: 0.6367007441222219\n"
     ]
    },
    {
     "name": "stderr",
     "output_type": "stream",
     "text": [
      " 91%|██████████████████████████████████████████████████████████████████▎      | 90826/100000 [2:04:29<23:30,  6.51it/s]"
     ]
    },
    {
     "name": "stdout",
     "output_type": "stream",
     "text": [
      "self.get_collection_ratio(): 0.6044826625936409\n",
      "self.comms.count(True) : 2\n",
      "len(self.comms) : 2\n",
      "self.state.ratio_commed: 1.0\n",
      "self.comms.count(True) : 2\n",
      "len(self.comms) : 2\n",
      "self.evaluation_deque: deque([0.8203880304818177, 0.42820403022222103, 0.6778384883278319, 0.5283447567648608, 0.5971628790797296, 0.5096067010100586, 0.5037473930443286, 0.7863465822462866, 0.43121419246367787, 0.513120801864767, 0.6633064252330269, 0.6419221723203019, 0.5879329529364969, 0.8348052149695188, 0.8379653809323461, 0.4914226992729237, 0.7248259743525268, 0.6998308364672863, 0.7472535916395953, 0.6044826625936409], maxlen=20)\n",
      "eval_mean: 0.6314860883111623\n"
     ]
    },
    {
     "name": "stderr",
     "output_type": "stream",
     "text": [
      "\r",
      " 91%|██████████████████████████████████████████████████████████████████▎      | 90902/100000 [2:04:37<21:22,  7.09it/s]"
     ]
    },
    {
     "name": "stdout",
     "output_type": "stream",
     "text": [
      "self.evaluation_deque: deque([0.8203880304818177, 0.42820403022222103, 0.6778384883278319, 0.5283447567648608, 0.5971628790797296, 0.5096067010100586, 0.5037473930443286, 0.7863465822462866, 0.43121419246367787, 0.513120801864767, 0.6633064252330269, 0.6419221723203019, 0.5879329529364969, 0.8348052149695188, 0.8379653809323461, 0.4914226992729237, 0.7248259743525268, 0.6998308364672863, 0.7472535916395953, 0.6044826625936409], maxlen=20)\n",
      "eval_mean: 0.6314860883111623\n"
     ]
    },
    {
     "name": "stderr",
     "output_type": "stream",
     "text": [
      "\r",
      " 91%|██████████████████████████████████████████████████████████████████▍      | 90978/100000 [2:04:45<19:46,  7.60it/s]"
     ]
    },
    {
     "name": "stdout",
     "output_type": "stream",
     "text": [
      "self.evaluation_deque: deque([0.8203880304818177, 0.42820403022222103, 0.6778384883278319, 0.5283447567648608, 0.5971628790797296, 0.5096067010100586, 0.5037473930443286, 0.7863465822462866, 0.43121419246367787, 0.513120801864767, 0.6633064252330269, 0.6419221723203019, 0.5879329529364969, 0.8348052149695188, 0.8379653809323461, 0.4914226992729237, 0.7248259743525268, 0.6998308364672863, 0.7472535916395953, 0.6044826625936409], maxlen=20)\n",
      "eval_mean: 0.6314860883111623\n"
     ]
    },
    {
     "name": "stderr",
     "output_type": "stream",
     "text": [
      "\r",
      " 91%|██████████████████████████████████████████████████████████████████▍      | 91054/100000 [2:04:53<18:28,  8.07it/s]"
     ]
    },
    {
     "name": "stdout",
     "output_type": "stream",
     "text": [
      "self.evaluation_deque: deque([0.8203880304818177, 0.42820403022222103, 0.6778384883278319, 0.5283447567648608, 0.5971628790797296, 0.5096067010100586, 0.5037473930443286, 0.7863465822462866, 0.43121419246367787, 0.513120801864767, 0.6633064252330269, 0.6419221723203019, 0.5879329529364969, 0.8348052149695188, 0.8379653809323461, 0.4914226992729237, 0.7248259743525268, 0.6998308364672863, 0.7472535916395953, 0.6044826625936409], maxlen=20)\n",
      "eval_mean: 0.6314860883111623\n"
     ]
    },
    {
     "name": "stderr",
     "output_type": "stream",
     "text": [
      "\r",
      " 91%|██████████████████████████████████████████████████████████████████▌      | 91130/100000 [2:04:59<16:08,  9.16it/s]"
     ]
    },
    {
     "name": "stdout",
     "output_type": "stream",
     "text": [
      "self.evaluation_deque: deque([0.8203880304818177, 0.42820403022222103, 0.6778384883278319, 0.5283447567648608, 0.5971628790797296, 0.5096067010100586, 0.5037473930443286, 0.7863465822462866, 0.43121419246367787, 0.513120801864767, 0.6633064252330269, 0.6419221723203019, 0.5879329529364969, 0.8348052149695188, 0.8379653809323461, 0.4914226992729237, 0.7248259743525268, 0.6998308364672863, 0.7472535916395953, 0.6044826625936409], maxlen=20)\n",
      "eval_mean: 0.6314860883111623\n"
     ]
    },
    {
     "name": "stderr",
     "output_type": "stream",
     "text": [
      "\r",
      " 91%|██████████████████████████████████████████████████████████████████▌      | 91206/100000 [2:05:07<15:29,  9.46it/s]"
     ]
    },
    {
     "name": "stdout",
     "output_type": "stream",
     "text": [
      "self.get_collection_ratio(): 0.4484322835563165\n",
      "self.comms.count(True) : 1\n",
      "len(self.comms) : 1\n",
      "self.state.ratio_commed: 1.0\n",
      "self.comms.count(True) : 1\n",
      "len(self.comms) : 1\n",
      "self.evaluation_deque: deque([0.42820403022222103, 0.6778384883278319, 0.5283447567648608, 0.5971628790797296, 0.5096067010100586, 0.5037473930443286, 0.7863465822462866, 0.43121419246367787, 0.513120801864767, 0.6633064252330269, 0.6419221723203019, 0.5879329529364969, 0.8348052149695188, 0.8379653809323461, 0.4914226992729237, 0.7248259743525268, 0.6998308364672863, 0.7472535916395953, 0.6044826625936409, 0.4484322835563165], maxlen=20)\n",
      "eval_mean: 0.6128883009648871\n"
     ]
    },
    {
     "name": "stderr",
     "output_type": "stream",
     "text": [
      "\r",
      " 91%|██████████████████████████████████████████████████████████████████▋      | 91282/100000 [2:05:15<15:33,  9.34it/s]"
     ]
    },
    {
     "name": "stdout",
     "output_type": "stream",
     "text": [
      "self.evaluation_deque: deque([0.42820403022222103, 0.6778384883278319, 0.5283447567648608, 0.5971628790797296, 0.5096067010100586, 0.5037473930443286, 0.7863465822462866, 0.43121419246367787, 0.513120801864767, 0.6633064252330269, 0.6419221723203019, 0.5879329529364969, 0.8348052149695188, 0.8379653809323461, 0.4914226992729237, 0.7248259743525268, 0.6998308364672863, 0.7472535916395953, 0.6044826625936409, 0.4484322835563165], maxlen=20)\n",
      "eval_mean: 0.6128883009648871\n"
     ]
    },
    {
     "name": "stderr",
     "output_type": "stream",
     "text": [
      "\r",
      " 91%|██████████████████████████████████████████████████████████████████▋      | 91358/100000 [2:05:23<15:36,  9.23it/s]"
     ]
    },
    {
     "name": "stdout",
     "output_type": "stream",
     "text": [
      "self.evaluation_deque: deque([0.42820403022222103, 0.6778384883278319, 0.5283447567648608, 0.5971628790797296, 0.5096067010100586, 0.5037473930443286, 0.7863465822462866, 0.43121419246367787, 0.513120801864767, 0.6633064252330269, 0.6419221723203019, 0.5879329529364969, 0.8348052149695188, 0.8379653809323461, 0.4914226992729237, 0.7248259743525268, 0.6998308364672863, 0.7472535916395953, 0.6044826625936409, 0.4484322835563165], maxlen=20)\n",
      "eval_mean: 0.6128883009648871\n"
     ]
    },
    {
     "name": "stderr",
     "output_type": "stream",
     "text": [
      "\r",
      " 91%|██████████████████████████████████████████████████████████████████▋      | 91434/100000 [2:05:31<14:55,  9.57it/s]"
     ]
    },
    {
     "name": "stdout",
     "output_type": "stream",
     "text": [
      "self.evaluation_deque: deque([0.42820403022222103, 0.6778384883278319, 0.5283447567648608, 0.5971628790797296, 0.5096067010100586, 0.5037473930443286, 0.7863465822462866, 0.43121419246367787, 0.513120801864767, 0.6633064252330269, 0.6419221723203019, 0.5879329529364969, 0.8348052149695188, 0.8379653809323461, 0.4914226992729237, 0.7248259743525268, 0.6998308364672863, 0.7472535916395953, 0.6044826625936409, 0.4484322835563165], maxlen=20)\n",
      "eval_mean: 0.6128883009648871\n"
     ]
    },
    {
     "name": "stderr",
     "output_type": "stream",
     "text": [
      "\r",
      " 92%|██████████████████████████████████████████████████████████████████▊      | 91510/100000 [2:05:37<13:49, 10.24it/s]"
     ]
    },
    {
     "name": "stdout",
     "output_type": "stream",
     "text": [
      "self.evaluation_deque: deque([0.42820403022222103, 0.6778384883278319, 0.5283447567648608, 0.5971628790797296, 0.5096067010100586, 0.5037473930443286, 0.7863465822462866, 0.43121419246367787, 0.513120801864767, 0.6633064252330269, 0.6419221723203019, 0.5879329529364969, 0.8348052149695188, 0.8379653809323461, 0.4914226992729237, 0.7248259743525268, 0.6998308364672863, 0.7472535916395953, 0.6044826625936409, 0.4484322835563165], maxlen=20)\n",
      "eval_mean: 0.6128883009648871\n"
     ]
    },
    {
     "name": "stderr",
     "output_type": "stream",
     "text": [
      "\r",
      " 92%|██████████████████████████████████████████████████████████████████▊      | 91586/100000 [2:05:48<15:33,  9.02it/s]"
     ]
    },
    {
     "name": "stdout",
     "output_type": "stream",
     "text": [
      "self.get_collection_ratio(): 0.7431413750532305\n",
      "self.comms.count(True) : 3\n",
      "len(self.comms) : 3\n",
      "self.state.ratio_commed: 1.0\n",
      "self.comms.count(True) : 3\n",
      "len(self.comms) : 3\n",
      "self.evaluation_deque: deque([0.6778384883278319, 0.5283447567648608, 0.5971628790797296, 0.5096067010100586, 0.5037473930443286, 0.7863465822462866, 0.43121419246367787, 0.513120801864767, 0.6633064252330269, 0.6419221723203019, 0.5879329529364969, 0.8348052149695188, 0.8379653809323461, 0.4914226992729237, 0.7248259743525268, 0.6998308364672863, 0.7472535916395953, 0.6044826625936409, 0.4484322835563165, 0.7431413750532305], maxlen=20)\n",
      "eval_mean: 0.6286351682064376\n"
     ]
    },
    {
     "name": "stderr",
     "output_type": "stream",
     "text": [
      "\r",
      " 92%|██████████████████████████████████████████████████████████████████▉      | 91662/100000 [2:05:54<14:09,  9.82it/s]"
     ]
    },
    {
     "name": "stdout",
     "output_type": "stream",
     "text": [
      "self.evaluation_deque: deque([0.6778384883278319, 0.5283447567648608, 0.5971628790797296, 0.5096067010100586, 0.5037473930443286, 0.7863465822462866, 0.43121419246367787, 0.513120801864767, 0.6633064252330269, 0.6419221723203019, 0.5879329529364969, 0.8348052149695188, 0.8379653809323461, 0.4914226992729237, 0.7248259743525268, 0.6998308364672863, 0.7472535916395953, 0.6044826625936409, 0.4484322835563165, 0.7431413750532305], maxlen=20)\n",
      "eval_mean: 0.6286351682064376\n"
     ]
    },
    {
     "name": "stderr",
     "output_type": "stream",
     "text": [
      "\r",
      " 92%|██████████████████████████████████████████████████████████████████▉      | 91738/100000 [2:06:01<13:48,  9.97it/s]"
     ]
    },
    {
     "name": "stdout",
     "output_type": "stream",
     "text": [
      "self.evaluation_deque: deque([0.6778384883278319, 0.5283447567648608, 0.5971628790797296, 0.5096067010100586, 0.5037473930443286, 0.7863465822462866, 0.43121419246367787, 0.513120801864767, 0.6633064252330269, 0.6419221723203019, 0.5879329529364969, 0.8348052149695188, 0.8379653809323461, 0.4914226992729237, 0.7248259743525268, 0.6998308364672863, 0.7472535916395953, 0.6044826625936409, 0.4484322835563165, 0.7431413750532305], maxlen=20)\n",
      "eval_mean: 0.6286351682064376\n"
     ]
    },
    {
     "name": "stderr",
     "output_type": "stream",
     "text": [
      "\r",
      " 92%|███████████████████████████████████████████████████████████████████      | 91814/100000 [2:06:07<12:56, 10.55it/s]"
     ]
    },
    {
     "name": "stdout",
     "output_type": "stream",
     "text": [
      "self.evaluation_deque: deque([0.6778384883278319, 0.5283447567648608, 0.5971628790797296, 0.5096067010100586, 0.5037473930443286, 0.7863465822462866, 0.43121419246367787, 0.513120801864767, 0.6633064252330269, 0.6419221723203019, 0.5879329529364969, 0.8348052149695188, 0.8379653809323461, 0.4914226992729237, 0.7248259743525268, 0.6998308364672863, 0.7472535916395953, 0.6044826625936409, 0.4484322835563165, 0.7431413750532305], maxlen=20)\n",
      "eval_mean: 0.6286351682064376\n"
     ]
    },
    {
     "name": "stderr",
     "output_type": "stream",
     "text": [
      "\r",
      " 92%|███████████████████████████████████████████████████████████████████      | 91890/100000 [2:06:16<13:28, 10.04it/s]"
     ]
    },
    {
     "name": "stdout",
     "output_type": "stream",
     "text": [
      "self.evaluation_deque: deque([0.6778384883278319, 0.5283447567648608, 0.5971628790797296, 0.5096067010100586, 0.5037473930443286, 0.7863465822462866, 0.43121419246367787, 0.513120801864767, 0.6633064252330269, 0.6419221723203019, 0.5879329529364969, 0.8348052149695188, 0.8379653809323461, 0.4914226992729237, 0.7248259743525268, 0.6998308364672863, 0.7472535916395953, 0.6044826625936409, 0.4484322835563165, 0.7431413750532305], maxlen=20)\n",
      "eval_mean: 0.6286351682064376\n"
     ]
    },
    {
     "name": "stderr",
     "output_type": "stream",
     "text": [
      "\r",
      " 92%|███████████████████████████████████████████████████████████████████▏     | 91966/100000 [2:06:23<13:23,  9.99it/s]"
     ]
    },
    {
     "name": "stdout",
     "output_type": "stream",
     "text": [
      "self.get_collection_ratio(): 0.48448421454960605\n",
      "self.comms.count(True) : 1\n",
      "len(self.comms) : 1\n",
      "self.state.ratio_commed: 1.0\n",
      "self.comms.count(True) : 1\n",
      "len(self.comms) : 1\n",
      "self.evaluation_deque: deque([0.5283447567648608, 0.5971628790797296, 0.5096067010100586, 0.5037473930443286, 0.7863465822462866, 0.43121419246367787, 0.513120801864767, 0.6633064252330269, 0.6419221723203019, 0.5879329529364969, 0.8348052149695188, 0.8379653809323461, 0.4914226992729237, 0.7248259743525268, 0.6998308364672863, 0.7472535916395953, 0.6044826625936409, 0.4484322835563165, 0.7431413750532305, 0.48448421454960605], maxlen=20)\n",
      "eval_mean: 0.6189674545175263\n"
     ]
    },
    {
     "name": "stderr",
     "output_type": "stream",
     "text": [
      "\r",
      " 92%|███████████████████████████████████████████████████████████████████▏     | 92042/100000 [2:06:31<13:10, 10.07it/s]"
     ]
    },
    {
     "name": "stdout",
     "output_type": "stream",
     "text": [
      "self.evaluation_deque: deque([0.5283447567648608, 0.5971628790797296, 0.5096067010100586, 0.5037473930443286, 0.7863465822462866, 0.43121419246367787, 0.513120801864767, 0.6633064252330269, 0.6419221723203019, 0.5879329529364969, 0.8348052149695188, 0.8379653809323461, 0.4914226992729237, 0.7248259743525268, 0.6998308364672863, 0.7472535916395953, 0.6044826625936409, 0.4484322835563165, 0.7431413750532305, 0.48448421454960605], maxlen=20)\n",
      "eval_mean: 0.6189674545175263\n"
     ]
    },
    {
     "name": "stderr",
     "output_type": "stream",
     "text": [
      "\r",
      " 92%|███████████████████████████████████████████████████████████████████▏     | 92118/100000 [2:06:39<13:12,  9.95it/s]"
     ]
    },
    {
     "name": "stdout",
     "output_type": "stream",
     "text": [
      "self.evaluation_deque: deque([0.5283447567648608, 0.5971628790797296, 0.5096067010100586, 0.5037473930443286, 0.7863465822462866, 0.43121419246367787, 0.513120801864767, 0.6633064252330269, 0.6419221723203019, 0.5879329529364969, 0.8348052149695188, 0.8379653809323461, 0.4914226992729237, 0.7248259743525268, 0.6998308364672863, 0.7472535916395953, 0.6044826625936409, 0.4484322835563165, 0.7431413750532305, 0.48448421454960605], maxlen=20)\n",
      "eval_mean: 0.6189674545175263\n"
     ]
    },
    {
     "name": "stderr",
     "output_type": "stream",
     "text": [
      "\r",
      " 92%|███████████████████████████████████████████████████████████████████▎     | 92194/100000 [2:06:46<12:56, 10.05it/s]"
     ]
    },
    {
     "name": "stdout",
     "output_type": "stream",
     "text": [
      "self.evaluation_deque: deque([0.5283447567648608, 0.5971628790797296, 0.5096067010100586, 0.5037473930443286, 0.7863465822462866, 0.43121419246367787, 0.513120801864767, 0.6633064252330269, 0.6419221723203019, 0.5879329529364969, 0.8348052149695188, 0.8379653809323461, 0.4914226992729237, 0.7248259743525268, 0.6998308364672863, 0.7472535916395953, 0.6044826625936409, 0.4484322835563165, 0.7431413750532305, 0.48448421454960605], maxlen=20)\n",
      "eval_mean: 0.6189674545175263\n"
     ]
    },
    {
     "name": "stderr",
     "output_type": "stream",
     "text": [
      "\r",
      " 92%|███████████████████████████████████████████████████████████████████▎     | 92270/100000 [2:06:55<13:19,  9.67it/s]"
     ]
    },
    {
     "name": "stdout",
     "output_type": "stream",
     "text": [
      "self.evaluation_deque: deque([0.5283447567648608, 0.5971628790797296, 0.5096067010100586, 0.5037473930443286, 0.7863465822462866, 0.43121419246367787, 0.513120801864767, 0.6633064252330269, 0.6419221723203019, 0.5879329529364969, 0.8348052149695188, 0.8379653809323461, 0.4914226992729237, 0.7248259743525268, 0.6998308364672863, 0.7472535916395953, 0.6044826625936409, 0.4484322835563165, 0.7431413750532305, 0.48448421454960605], maxlen=20)\n",
      "eval_mean: 0.6189674545175263\n"
     ]
    },
    {
     "name": "stderr",
     "output_type": "stream",
     "text": [
      "\r",
      " 92%|███████████████████████████████████████████████████████████████████▍     | 92346/100000 [2:07:04<13:56,  9.15it/s]"
     ]
    },
    {
     "name": "stdout",
     "output_type": "stream",
     "text": [
      "self.get_collection_ratio(): 0.781519898831968\n",
      "self.comms.count(True) : 3\n",
      "len(self.comms) : 3\n",
      "self.state.ratio_commed: 1.0\n",
      "self.comms.count(True) : 3\n",
      "len(self.comms) : 3\n",
      "self.evaluation_deque: deque([0.5971628790797296, 0.5096067010100586, 0.5037473930443286, 0.7863465822462866, 0.43121419246367787, 0.513120801864767, 0.6633064252330269, 0.6419221723203019, 0.5879329529364969, 0.8348052149695188, 0.8379653809323461, 0.4914226992729237, 0.7248259743525268, 0.6998308364672863, 0.7472535916395953, 0.6044826625936409, 0.4484322835563165, 0.7431413750532305, 0.48448421454960605, 0.781519898831968], maxlen=20)\n",
      "eval_mean: 0.6316262116208817\n"
     ]
    },
    {
     "name": "stderr",
     "output_type": "stream",
     "text": [
      "\r",
      " 92%|███████████████████████████████████████████████████████████████████▍     | 92422/100000 [2:07:11<13:23,  9.44it/s]"
     ]
    },
    {
     "name": "stdout",
     "output_type": "stream",
     "text": [
      "self.evaluation_deque: deque([0.5971628790797296, 0.5096067010100586, 0.5037473930443286, 0.7863465822462866, 0.43121419246367787, 0.513120801864767, 0.6633064252330269, 0.6419221723203019, 0.5879329529364969, 0.8348052149695188, 0.8379653809323461, 0.4914226992729237, 0.7248259743525268, 0.6998308364672863, 0.7472535916395953, 0.6044826625936409, 0.4484322835563165, 0.7431413750532305, 0.48448421454960605, 0.781519898831968], maxlen=20)\n",
      "eval_mean: 0.6316262116208817\n"
     ]
    },
    {
     "name": "stderr",
     "output_type": "stream",
     "text": [
      "\r",
      " 92%|███████████████████████████████████████████████████████████████████▌     | 92498/100000 [2:07:18<12:17, 10.17it/s]"
     ]
    },
    {
     "name": "stdout",
     "output_type": "stream",
     "text": [
      "self.evaluation_deque: deque([0.5971628790797296, 0.5096067010100586, 0.5037473930443286, 0.7863465822462866, 0.43121419246367787, 0.513120801864767, 0.6633064252330269, 0.6419221723203019, 0.5879329529364969, 0.8348052149695188, 0.8379653809323461, 0.4914226992729237, 0.7248259743525268, 0.6998308364672863, 0.7472535916395953, 0.6044826625936409, 0.4484322835563165, 0.7431413750532305, 0.48448421454960605, 0.781519898831968], maxlen=20)\n",
      "eval_mean: 0.6316262116208817\n"
     ]
    },
    {
     "name": "stderr",
     "output_type": "stream",
     "text": [
      "\r",
      " 93%|███████████████████████████████████████████████████████████████████▌     | 92574/100000 [2:07:26<12:47,  9.67it/s]"
     ]
    },
    {
     "name": "stdout",
     "output_type": "stream",
     "text": [
      "self.evaluation_deque: deque([0.5971628790797296, 0.5096067010100586, 0.5037473930443286, 0.7863465822462866, 0.43121419246367787, 0.513120801864767, 0.6633064252330269, 0.6419221723203019, 0.5879329529364969, 0.8348052149695188, 0.8379653809323461, 0.4914226992729237, 0.7248259743525268, 0.6998308364672863, 0.7472535916395953, 0.6044826625936409, 0.4484322835563165, 0.7431413750532305, 0.48448421454960605, 0.781519898831968], maxlen=20)\n",
      "eval_mean: 0.6316262116208817\n"
     ]
    },
    {
     "name": "stderr",
     "output_type": "stream",
     "text": [
      "\r",
      " 93%|███████████████████████████████████████████████████████████████████▋     | 92650/100000 [2:07:35<13:03,  9.38it/s]"
     ]
    },
    {
     "name": "stdout",
     "output_type": "stream",
     "text": [
      "self.evaluation_deque: deque([0.5971628790797296, 0.5096067010100586, 0.5037473930443286, 0.7863465822462866, 0.43121419246367787, 0.513120801864767, 0.6633064252330269, 0.6419221723203019, 0.5879329529364969, 0.8348052149695188, 0.8379653809323461, 0.4914226992729237, 0.7248259743525268, 0.6998308364672863, 0.7472535916395953, 0.6044826625936409, 0.4484322835563165, 0.7431413750532305, 0.48448421454960605, 0.781519898831968], maxlen=20)\n",
      "eval_mean: 0.6316262116208817\n"
     ]
    },
    {
     "name": "stderr",
     "output_type": "stream",
     "text": [
      "\r",
      " 93%|███████████████████████████████████████████████████████████████████▋     | 92726/100000 [2:07:43<12:41,  9.55it/s]"
     ]
    },
    {
     "name": "stdout",
     "output_type": "stream",
     "text": [
      "self.get_collection_ratio(): 0.5095740240050108\n",
      "self.comms.count(True) : 1\n",
      "len(self.comms) : 1\n",
      "self.state.ratio_commed: 1.0\n",
      "self.comms.count(True) : 1\n",
      "len(self.comms) : 1\n",
      "self.evaluation_deque: deque([0.5096067010100586, 0.5037473930443286, 0.7863465822462866, 0.43121419246367787, 0.513120801864767, 0.6633064252330269, 0.6419221723203019, 0.5879329529364969, 0.8348052149695188, 0.8379653809323461, 0.4914226992729237, 0.7248259743525268, 0.6998308364672863, 0.7472535916395953, 0.6044826625936409, 0.4484322835563165, 0.7431413750532305, 0.48448421454960605, 0.781519898831968, 0.5095740240050108], maxlen=20)\n",
      "eval_mean: 0.6272467688671457\n"
     ]
    },
    {
     "name": "stderr",
     "output_type": "stream",
     "text": [
      "\r",
      " 93%|███████████████████████████████████████████████████████████████████▋     | 92802/100000 [2:07:51<12:42,  9.44it/s]"
     ]
    },
    {
     "name": "stdout",
     "output_type": "stream",
     "text": [
      "self.evaluation_deque: deque([0.5096067010100586, 0.5037473930443286, 0.7863465822462866, 0.43121419246367787, 0.513120801864767, 0.6633064252330269, 0.6419221723203019, 0.5879329529364969, 0.8348052149695188, 0.8379653809323461, 0.4914226992729237, 0.7248259743525268, 0.6998308364672863, 0.7472535916395953, 0.6044826625936409, 0.4484322835563165, 0.7431413750532305, 0.48448421454960605, 0.781519898831968, 0.5095740240050108], maxlen=20)\n",
      "eval_mean: 0.6272467688671457\n"
     ]
    },
    {
     "name": "stderr",
     "output_type": "stream",
     "text": [
      "\r",
      " 93%|███████████████████████████████████████████████████████████████████▊     | 92878/100000 [2:07:57<11:27, 10.36it/s]"
     ]
    },
    {
     "name": "stdout",
     "output_type": "stream",
     "text": [
      "self.evaluation_deque: deque([0.5096067010100586, 0.5037473930443286, 0.7863465822462866, 0.43121419246367787, 0.513120801864767, 0.6633064252330269, 0.6419221723203019, 0.5879329529364969, 0.8348052149695188, 0.8379653809323461, 0.4914226992729237, 0.7248259743525268, 0.6998308364672863, 0.7472535916395953, 0.6044826625936409, 0.4484322835563165, 0.7431413750532305, 0.48448421454960605, 0.781519898831968, 0.5095740240050108], maxlen=20)\n",
      "eval_mean: 0.6272467688671457\n"
     ]
    },
    {
     "name": "stderr",
     "output_type": "stream",
     "text": [
      "\r",
      " 93%|███████████████████████████████████████████████████████████████████▊     | 92954/100000 [2:08:03<10:48, 10.86it/s]"
     ]
    },
    {
     "name": "stdout",
     "output_type": "stream",
     "text": [
      "self.evaluation_deque: deque([0.5096067010100586, 0.5037473930443286, 0.7863465822462866, 0.43121419246367787, 0.513120801864767, 0.6633064252330269, 0.6419221723203019, 0.5879329529364969, 0.8348052149695188, 0.8379653809323461, 0.4914226992729237, 0.7248259743525268, 0.6998308364672863, 0.7472535916395953, 0.6044826625936409, 0.4484322835563165, 0.7431413750532305, 0.48448421454960605, 0.781519898831968, 0.5095740240050108], maxlen=20)\n",
      "eval_mean: 0.6272467688671457\n"
     ]
    },
    {
     "name": "stderr",
     "output_type": "stream",
     "text": [
      "\r",
      " 93%|███████████████████████████████████████████████████████████████████▉     | 93030/100000 [2:08:09<10:14, 11.33it/s]"
     ]
    },
    {
     "name": "stdout",
     "output_type": "stream",
     "text": [
      "self.evaluation_deque: deque([0.5096067010100586, 0.5037473930443286, 0.7863465822462866, 0.43121419246367787, 0.513120801864767, 0.6633064252330269, 0.6419221723203019, 0.5879329529364969, 0.8348052149695188, 0.8379653809323461, 0.4914226992729237, 0.7248259743525268, 0.6998308364672863, 0.7472535916395953, 0.6044826625936409, 0.4484322835563165, 0.7431413750532305, 0.48448421454960605, 0.781519898831968, 0.5095740240050108], maxlen=20)\n",
      "eval_mean: 0.6272467688671457\n"
     ]
    },
    {
     "name": "stderr",
     "output_type": "stream",
     "text": [
      "\r",
      " 93%|███████████████████████████████████████████████████████████████████▉     | 93106/100000 [2:08:18<11:16, 10.19it/s]"
     ]
    },
    {
     "name": "stdout",
     "output_type": "stream",
     "text": [
      "self.get_collection_ratio(): 0.6771059160947656\n",
      "self.comms.count(True) : 2\n",
      "len(self.comms) : 2\n",
      "self.state.ratio_commed: 1.0\n",
      "self.comms.count(True) : 2\n",
      "len(self.comms) : 2\n",
      "self.evaluation_deque: deque([0.5037473930443286, 0.7863465822462866, 0.43121419246367787, 0.513120801864767, 0.6633064252330269, 0.6419221723203019, 0.5879329529364969, 0.8348052149695188, 0.8379653809323461, 0.4914226992729237, 0.7248259743525268, 0.6998308364672863, 0.7472535916395953, 0.6044826625936409, 0.4484322835563165, 0.7431413750532305, 0.48448421454960605, 0.781519898831968, 0.5095740240050108, 0.6771059160947656], maxlen=20)\n",
      "eval_mean: 0.6356217296213811\n"
     ]
    },
    {
     "name": "stderr",
     "output_type": "stream",
     "text": [
      "\r",
      " 93%|████████████████████████████████████████████████████████████████████     | 93182/100000 [2:08:24<10:23, 10.93it/s]"
     ]
    },
    {
     "name": "stdout",
     "output_type": "stream",
     "text": [
      "self.evaluation_deque: deque([0.5037473930443286, 0.7863465822462866, 0.43121419246367787, 0.513120801864767, 0.6633064252330269, 0.6419221723203019, 0.5879329529364969, 0.8348052149695188, 0.8379653809323461, 0.4914226992729237, 0.7248259743525268, 0.6998308364672863, 0.7472535916395953, 0.6044826625936409, 0.4484322835563165, 0.7431413750532305, 0.48448421454960605, 0.781519898831968, 0.5095740240050108, 0.6771059160947656], maxlen=20)\n",
      "eval_mean: 0.6356217296213811\n"
     ]
    },
    {
     "name": "stderr",
     "output_type": "stream",
     "text": [
      "\r",
      " 93%|████████████████████████████████████████████████████████████████████     | 93258/100000 [2:08:32<10:50, 10.36it/s]"
     ]
    },
    {
     "name": "stdout",
     "output_type": "stream",
     "text": [
      "self.evaluation_deque: deque([0.5037473930443286, 0.7863465822462866, 0.43121419246367787, 0.513120801864767, 0.6633064252330269, 0.6419221723203019, 0.5879329529364969, 0.8348052149695188, 0.8379653809323461, 0.4914226992729237, 0.7248259743525268, 0.6998308364672863, 0.7472535916395953, 0.6044826625936409, 0.4484322835563165, 0.7431413750532305, 0.48448421454960605, 0.781519898831968, 0.5095740240050108, 0.6771059160947656], maxlen=20)\n",
      "eval_mean: 0.6356217296213811\n"
     ]
    },
    {
     "name": "stderr",
     "output_type": "stream",
     "text": [
      "\r",
      " 93%|████████████████████████████████████████████████████████████████████▏    | 93334/100000 [2:08:40<11:10,  9.94it/s]"
     ]
    },
    {
     "name": "stdout",
     "output_type": "stream",
     "text": [
      "self.evaluation_deque: deque([0.5037473930443286, 0.7863465822462866, 0.43121419246367787, 0.513120801864767, 0.6633064252330269, 0.6419221723203019, 0.5879329529364969, 0.8348052149695188, 0.8379653809323461, 0.4914226992729237, 0.7248259743525268, 0.6998308364672863, 0.7472535916395953, 0.6044826625936409, 0.4484322835563165, 0.7431413750532305, 0.48448421454960605, 0.781519898831968, 0.5095740240050108, 0.6771059160947656], maxlen=20)\n",
      "eval_mean: 0.6356217296213811\n"
     ]
    },
    {
     "name": "stderr",
     "output_type": "stream",
     "text": [
      "\r",
      " 93%|████████████████████████████████████████████████████████████████████▏    | 93410/100000 [2:08:46<10:19, 10.63it/s]"
     ]
    },
    {
     "name": "stdout",
     "output_type": "stream",
     "text": [
      "self.evaluation_deque: deque([0.5037473930443286, 0.7863465822462866, 0.43121419246367787, 0.513120801864767, 0.6633064252330269, 0.6419221723203019, 0.5879329529364969, 0.8348052149695188, 0.8379653809323461, 0.4914226992729237, 0.7248259743525268, 0.6998308364672863, 0.7472535916395953, 0.6044826625936409, 0.4484322835563165, 0.7431413750532305, 0.48448421454960605, 0.781519898831968, 0.5095740240050108, 0.6771059160947656], maxlen=20)\n",
      "eval_mean: 0.6356217296213811\n"
     ]
    },
    {
     "name": "stderr",
     "output_type": "stream",
     "text": [
      "\r",
      " 93%|████████████████████████████████████████████████████████████████████▏    | 93486/100000 [2:08:56<11:15,  9.65it/s]"
     ]
    },
    {
     "name": "stdout",
     "output_type": "stream",
     "text": [
      "self.get_collection_ratio(): 0.7199640255650868\n",
      "self.comms.count(True) : 2\n",
      "len(self.comms) : 2\n",
      "self.state.ratio_commed: 1.0\n",
      "self.comms.count(True) : 2\n",
      "len(self.comms) : 2\n",
      "self.evaluation_deque: deque([0.7863465822462866, 0.43121419246367787, 0.513120801864767, 0.6633064252330269, 0.6419221723203019, 0.5879329529364969, 0.8348052149695188, 0.8379653809323461, 0.4914226992729237, 0.7248259743525268, 0.6998308364672863, 0.7472535916395953, 0.6044826625936409, 0.4484322835563165, 0.7431413750532305, 0.48448421454960605, 0.781519898831968, 0.5095740240050108, 0.6771059160947656, 0.7199640255650868], maxlen=20)\n",
      "eval_mean: 0.6464325612474189\n"
     ]
    },
    {
     "name": "stderr",
     "output_type": "stream",
     "text": [
      "\r",
      " 94%|████████████████████████████████████████████████████████████████████▎    | 93562/100000 [2:09:02<10:18, 10.41it/s]"
     ]
    },
    {
     "name": "stdout",
     "output_type": "stream",
     "text": [
      "self.evaluation_deque: deque([0.7863465822462866, 0.43121419246367787, 0.513120801864767, 0.6633064252330269, 0.6419221723203019, 0.5879329529364969, 0.8348052149695188, 0.8379653809323461, 0.4914226992729237, 0.7248259743525268, 0.6998308364672863, 0.7472535916395953, 0.6044826625936409, 0.4484322835563165, 0.7431413750532305, 0.48448421454960605, 0.781519898831968, 0.5095740240050108, 0.6771059160947656, 0.7199640255650868], maxlen=20)\n",
      "eval_mean: 0.6464325612474189\n"
     ]
    },
    {
     "name": "stderr",
     "output_type": "stream",
     "text": [
      "\r",
      " 94%|████████████████████████████████████████████████████████████████████▎    | 93638/100000 [2:09:10<10:42,  9.91it/s]"
     ]
    },
    {
     "name": "stdout",
     "output_type": "stream",
     "text": [
      "self.evaluation_deque: deque([0.7863465822462866, 0.43121419246367787, 0.513120801864767, 0.6633064252330269, 0.6419221723203019, 0.5879329529364969, 0.8348052149695188, 0.8379653809323461, 0.4914226992729237, 0.7248259743525268, 0.6998308364672863, 0.7472535916395953, 0.6044826625936409, 0.4484322835563165, 0.7431413750532305, 0.48448421454960605, 0.781519898831968, 0.5095740240050108, 0.6771059160947656, 0.7199640255650868], maxlen=20)\n",
      "eval_mean: 0.6464325612474189\n"
     ]
    },
    {
     "name": "stderr",
     "output_type": "stream",
     "text": [
      "\r",
      " 94%|████████████████████████████████████████████████████████████████████▍    | 93714/100000 [2:09:16<09:50, 10.65it/s]"
     ]
    },
    {
     "name": "stdout",
     "output_type": "stream",
     "text": [
      "self.evaluation_deque: deque([0.7863465822462866, 0.43121419246367787, 0.513120801864767, 0.6633064252330269, 0.6419221723203019, 0.5879329529364969, 0.8348052149695188, 0.8379653809323461, 0.4914226992729237, 0.7248259743525268, 0.6998308364672863, 0.7472535916395953, 0.6044826625936409, 0.4484322835563165, 0.7431413750532305, 0.48448421454960605, 0.781519898831968, 0.5095740240050108, 0.6771059160947656, 0.7199640255650868], maxlen=20)\n",
      "eval_mean: 0.6464325612474189\n"
     ]
    },
    {
     "name": "stderr",
     "output_type": "stream",
     "text": [
      "\r",
      " 94%|████████████████████████████████████████████████████████████████████▍    | 93790/100000 [2:09:22<09:09, 11.31it/s]"
     ]
    },
    {
     "name": "stdout",
     "output_type": "stream",
     "text": [
      "self.evaluation_deque: deque([0.7863465822462866, 0.43121419246367787, 0.513120801864767, 0.6633064252330269, 0.6419221723203019, 0.5879329529364969, 0.8348052149695188, 0.8379653809323461, 0.4914226992729237, 0.7248259743525268, 0.6998308364672863, 0.7472535916395953, 0.6044826625936409, 0.4484322835563165, 0.7431413750532305, 0.48448421454960605, 0.781519898831968, 0.5095740240050108, 0.6771059160947656, 0.7199640255650868], maxlen=20)\n",
      "eval_mean: 0.6464325612474189\n"
     ]
    },
    {
     "name": "stderr",
     "output_type": "stream",
     "text": [
      "\r",
      " 94%|████████████████████████████████████████████████████████████████████▌    | 93866/100000 [2:09:32<10:07, 10.10it/s]"
     ]
    },
    {
     "name": "stdout",
     "output_type": "stream",
     "text": [
      "self.get_collection_ratio(): 0.6963126352090815\n",
      "self.comms.count(True) : 3\n",
      "len(self.comms) : 3\n",
      "self.state.ratio_commed: 1.0\n",
      "self.comms.count(True) : 3\n",
      "len(self.comms) : 3\n",
      "self.evaluation_deque: deque([0.43121419246367787, 0.513120801864767, 0.6633064252330269, 0.6419221723203019, 0.5879329529364969, 0.8348052149695188, 0.8379653809323461, 0.4914226992729237, 0.7248259743525268, 0.6998308364672863, 0.7472535916395953, 0.6044826625936409, 0.4484322835563165, 0.7431413750532305, 0.48448421454960605, 0.781519898831968, 0.5095740240050108, 0.6771059160947656, 0.7199640255650868, 0.6963126352090815], maxlen=20)\n",
      "eval_mean: 0.6419308638955588\n"
     ]
    },
    {
     "name": "stderr",
     "output_type": "stream",
     "text": [
      "\r",
      " 94%|████████████████████████████████████████████████████████████████████▌    | 93942/100000 [2:09:39<09:49, 10.28it/s]"
     ]
    },
    {
     "name": "stdout",
     "output_type": "stream",
     "text": [
      "self.evaluation_deque: deque([0.43121419246367787, 0.513120801864767, 0.6633064252330269, 0.6419221723203019, 0.5879329529364969, 0.8348052149695188, 0.8379653809323461, 0.4914226992729237, 0.7248259743525268, 0.6998308364672863, 0.7472535916395953, 0.6044826625936409, 0.4484322835563165, 0.7431413750532305, 0.48448421454960605, 0.781519898831968, 0.5095740240050108, 0.6771059160947656, 0.7199640255650868, 0.6963126352090815], maxlen=20)\n",
      "eval_mean: 0.6419308638955588\n"
     ]
    },
    {
     "name": "stderr",
     "output_type": "stream",
     "text": [
      "\r",
      " 94%|████████████████████████████████████████████████████████████████████▋    | 94018/100000 [2:09:44<09:06, 10.95it/s]"
     ]
    },
    {
     "name": "stdout",
     "output_type": "stream",
     "text": [
      "self.evaluation_deque: deque([0.43121419246367787, 0.513120801864767, 0.6633064252330269, 0.6419221723203019, 0.5879329529364969, 0.8348052149695188, 0.8379653809323461, 0.4914226992729237, 0.7248259743525268, 0.6998308364672863, 0.7472535916395953, 0.6044826625936409, 0.4484322835563165, 0.7431413750532305, 0.48448421454960605, 0.781519898831968, 0.5095740240050108, 0.6771059160947656, 0.7199640255650868, 0.6963126352090815], maxlen=20)\n",
      "eval_mean: 0.6419308638955588\n"
     ]
    },
    {
     "name": "stderr",
     "output_type": "stream",
     "text": [
      "\r",
      " 94%|████████████████████████████████████████████████████████████████████▋    | 94094/100000 [2:09:51<09:00, 10.93it/s]"
     ]
    },
    {
     "name": "stdout",
     "output_type": "stream",
     "text": [
      "self.evaluation_deque: deque([0.43121419246367787, 0.513120801864767, 0.6633064252330269, 0.6419221723203019, 0.5879329529364969, 0.8348052149695188, 0.8379653809323461, 0.4914226992729237, 0.7248259743525268, 0.6998308364672863, 0.7472535916395953, 0.6044826625936409, 0.4484322835563165, 0.7431413750532305, 0.48448421454960605, 0.781519898831968, 0.5095740240050108, 0.6771059160947656, 0.7199640255650868, 0.6963126352090815], maxlen=20)\n",
      "eval_mean: 0.6419308638955588\n"
     ]
    },
    {
     "name": "stderr",
     "output_type": "stream",
     "text": [
      "\r",
      " 94%|████████████████████████████████████████████████████████████████████▋    | 94170/100000 [2:09:57<08:27, 11.50it/s]"
     ]
    },
    {
     "name": "stdout",
     "output_type": "stream",
     "text": [
      "self.evaluation_deque: deque([0.43121419246367787, 0.513120801864767, 0.6633064252330269, 0.6419221723203019, 0.5879329529364969, 0.8348052149695188, 0.8379653809323461, 0.4914226992729237, 0.7248259743525268, 0.6998308364672863, 0.7472535916395953, 0.6044826625936409, 0.4484322835563165, 0.7431413750532305, 0.48448421454960605, 0.781519898831968, 0.5095740240050108, 0.6771059160947656, 0.7199640255650868, 0.6963126352090815], maxlen=20)\n",
      "eval_mean: 0.6419308638955588\n"
     ]
    },
    {
     "name": "stderr",
     "output_type": "stream",
     "text": [
      "\r",
      " 94%|████████████████████████████████████████████████████████████████████▊    | 94246/100000 [2:10:05<08:56, 10.72it/s]"
     ]
    },
    {
     "name": "stdout",
     "output_type": "stream",
     "text": [
      "self.get_collection_ratio(): 0.671128507921628\n",
      "self.comms.count(True) : 2\n",
      "len(self.comms) : 2\n",
      "self.state.ratio_commed: 1.0\n",
      "self.comms.count(True) : 2\n",
      "len(self.comms) : 2\n",
      "self.evaluation_deque: deque([0.513120801864767, 0.6633064252330269, 0.6419221723203019, 0.5879329529364969, 0.8348052149695188, 0.8379653809323461, 0.4914226992729237, 0.7248259743525268, 0.6998308364672863, 0.7472535916395953, 0.6044826625936409, 0.4484322835563165, 0.7431413750532305, 0.48448421454960605, 0.781519898831968, 0.5095740240050108, 0.6771059160947656, 0.7199640255650868, 0.6963126352090815, 0.671128507921628], maxlen=20)\n",
      "eval_mean: 0.6539265796684562\n"
     ]
    },
    {
     "name": "stderr",
     "output_type": "stream",
     "text": [
      "\r",
      " 94%|████████████████████████████████████████████████████████████████████▊    | 94322/100000 [2:10:12<08:44, 10.83it/s]"
     ]
    },
    {
     "name": "stdout",
     "output_type": "stream",
     "text": [
      "self.evaluation_deque: deque([0.513120801864767, 0.6633064252330269, 0.6419221723203019, 0.5879329529364969, 0.8348052149695188, 0.8379653809323461, 0.4914226992729237, 0.7248259743525268, 0.6998308364672863, 0.7472535916395953, 0.6044826625936409, 0.4484322835563165, 0.7431413750532305, 0.48448421454960605, 0.781519898831968, 0.5095740240050108, 0.6771059160947656, 0.7199640255650868, 0.6963126352090815, 0.671128507921628], maxlen=20)\n",
      "eval_mean: 0.6539265796684562\n"
     ]
    },
    {
     "name": "stderr",
     "output_type": "stream",
     "text": [
      "\r",
      " 94%|████████████████████████████████████████████████████████████████████▉    | 94398/100000 [2:10:18<08:07, 11.48it/s]"
     ]
    },
    {
     "name": "stdout",
     "output_type": "stream",
     "text": [
      "self.evaluation_deque: deque([0.513120801864767, 0.6633064252330269, 0.6419221723203019, 0.5879329529364969, 0.8348052149695188, 0.8379653809323461, 0.4914226992729237, 0.7248259743525268, 0.6998308364672863, 0.7472535916395953, 0.6044826625936409, 0.4484322835563165, 0.7431413750532305, 0.48448421454960605, 0.781519898831968, 0.5095740240050108, 0.6771059160947656, 0.7199640255650868, 0.6963126352090815, 0.671128507921628], maxlen=20)\n",
      "eval_mean: 0.6539265796684562\n"
     ]
    },
    {
     "name": "stderr",
     "output_type": "stream",
     "text": [
      "\r",
      " 94%|████████████████████████████████████████████████████████████████████▉    | 94474/100000 [2:10:25<08:07, 11.32it/s]"
     ]
    },
    {
     "name": "stdout",
     "output_type": "stream",
     "text": [
      "self.evaluation_deque: deque([0.513120801864767, 0.6633064252330269, 0.6419221723203019, 0.5879329529364969, 0.8348052149695188, 0.8379653809323461, 0.4914226992729237, 0.7248259743525268, 0.6998308364672863, 0.7472535916395953, 0.6044826625936409, 0.4484322835563165, 0.7431413750532305, 0.48448421454960605, 0.781519898831968, 0.5095740240050108, 0.6771059160947656, 0.7199640255650868, 0.6963126352090815, 0.671128507921628], maxlen=20)\n",
      "eval_mean: 0.6539265796684562\n"
     ]
    },
    {
     "name": "stderr",
     "output_type": "stream",
     "text": [
      "\r",
      " 95%|█████████████████████████████████████████████████████████████████████    | 94550/100000 [2:10:33<08:31, 10.66it/s]"
     ]
    },
    {
     "name": "stdout",
     "output_type": "stream",
     "text": [
      "self.evaluation_deque: deque([0.513120801864767, 0.6633064252330269, 0.6419221723203019, 0.5879329529364969, 0.8348052149695188, 0.8379653809323461, 0.4914226992729237, 0.7248259743525268, 0.6998308364672863, 0.7472535916395953, 0.6044826625936409, 0.4484322835563165, 0.7431413750532305, 0.48448421454960605, 0.781519898831968, 0.5095740240050108, 0.6771059160947656, 0.7199640255650868, 0.6963126352090815, 0.671128507921628], maxlen=20)\n",
      "eval_mean: 0.6539265796684562\n"
     ]
    },
    {
     "name": "stderr",
     "output_type": "stream",
     "text": [
      "\r",
      " 95%|█████████████████████████████████████████████████████████████████████    | 94626/100000 [2:10:43<09:14,  9.69it/s]"
     ]
    },
    {
     "name": "stdout",
     "output_type": "stream",
     "text": [
      "self.get_collection_ratio(): 0.6304162902417209\n",
      "self.comms.count(True) : 2\n",
      "len(self.comms) : 2\n",
      "self.state.ratio_commed: 1.0\n",
      "self.comms.count(True) : 2\n",
      "len(self.comms) : 2\n",
      "self.evaluation_deque: deque([0.6633064252330269, 0.6419221723203019, 0.5879329529364969, 0.8348052149695188, 0.8379653809323461, 0.4914226992729237, 0.7248259743525268, 0.6998308364672863, 0.7472535916395953, 0.6044826625936409, 0.4484322835563165, 0.7431413750532305, 0.48448421454960605, 0.781519898831968, 0.5095740240050108, 0.6771059160947656, 0.7199640255650868, 0.6963126352090815, 0.671128507921628, 0.6304162902417209], maxlen=20)\n",
      "eval_mean: 0.6597913540873039\n"
     ]
    },
    {
     "name": "stderr",
     "output_type": "stream",
     "text": [
      "\r",
      " 95%|█████████████████████████████████████████████████████████████████████▏   | 94702/100000 [2:10:48<08:20, 10.58it/s]"
     ]
    },
    {
     "name": "stdout",
     "output_type": "stream",
     "text": [
      "self.evaluation_deque: deque([0.6633064252330269, 0.6419221723203019, 0.5879329529364969, 0.8348052149695188, 0.8379653809323461, 0.4914226992729237, 0.7248259743525268, 0.6998308364672863, 0.7472535916395953, 0.6044826625936409, 0.4484322835563165, 0.7431413750532305, 0.48448421454960605, 0.781519898831968, 0.5095740240050108, 0.6771059160947656, 0.7199640255650868, 0.6963126352090815, 0.671128507921628, 0.6304162902417209], maxlen=20)\n",
      "eval_mean: 0.6597913540873039\n"
     ]
    },
    {
     "name": "stderr",
     "output_type": "stream",
     "text": [
      "\r",
      " 95%|█████████████████████████████████████████████████████████████████████▏   | 94778/100000 [2:10:56<08:35, 10.12it/s]"
     ]
    },
    {
     "name": "stdout",
     "output_type": "stream",
     "text": [
      "self.evaluation_deque: deque([0.6633064252330269, 0.6419221723203019, 0.5879329529364969, 0.8348052149695188, 0.8379653809323461, 0.4914226992729237, 0.7248259743525268, 0.6998308364672863, 0.7472535916395953, 0.6044826625936409, 0.4484322835563165, 0.7431413750532305, 0.48448421454960605, 0.781519898831968, 0.5095740240050108, 0.6771059160947656, 0.7199640255650868, 0.6963126352090815, 0.671128507921628, 0.6304162902417209], maxlen=20)\n",
      "eval_mean: 0.6597913540873039\n"
     ]
    },
    {
     "name": "stderr",
     "output_type": "stream",
     "text": [
      "\r",
      " 95%|█████████████████████████████████████████████████████████████████████▏   | 94854/100000 [2:11:03<08:14, 10.40it/s]"
     ]
    },
    {
     "name": "stdout",
     "output_type": "stream",
     "text": [
      "self.evaluation_deque: deque([0.6633064252330269, 0.6419221723203019, 0.5879329529364969, 0.8348052149695188, 0.8379653809323461, 0.4914226992729237, 0.7248259743525268, 0.6998308364672863, 0.7472535916395953, 0.6044826625936409, 0.4484322835563165, 0.7431413750532305, 0.48448421454960605, 0.781519898831968, 0.5095740240050108, 0.6771059160947656, 0.7199640255650868, 0.6963126352090815, 0.671128507921628, 0.6304162902417209], maxlen=20)\n",
      "eval_mean: 0.6597913540873039\n"
     ]
    },
    {
     "name": "stderr",
     "output_type": "stream",
     "text": [
      "\r",
      " 95%|█████████████████████████████████████████████████████████████████████▎   | 94930/100000 [2:11:10<07:59, 10.58it/s]"
     ]
    },
    {
     "name": "stdout",
     "output_type": "stream",
     "text": [
      "self.evaluation_deque: deque([0.6633064252330269, 0.6419221723203019, 0.5879329529364969, 0.8348052149695188, 0.8379653809323461, 0.4914226992729237, 0.7248259743525268, 0.6998308364672863, 0.7472535916395953, 0.6044826625936409, 0.4484322835563165, 0.7431413750532305, 0.48448421454960605, 0.781519898831968, 0.5095740240050108, 0.6771059160947656, 0.7199640255650868, 0.6963126352090815, 0.671128507921628, 0.6304162902417209], maxlen=20)\n",
      "eval_mean: 0.6597913540873039\n"
     ]
    },
    {
     "name": "stderr",
     "output_type": "stream",
     "text": [
      "\r",
      " 95%|█████████████████████████████████████████████████████████████████████▎   | 95006/100000 [2:11:20<08:48,  9.44it/s]"
     ]
    },
    {
     "name": "stdout",
     "output_type": "stream",
     "text": [
      "self.get_collection_ratio(): 0.8766789182721447\n",
      "self.comms.count(True) : 3\n",
      "len(self.comms) : 3\n",
      "self.state.ratio_commed: 1.0\n",
      "self.comms.count(True) : 3\n",
      "len(self.comms) : 3\n",
      "self.evaluation_deque: deque([0.6419221723203019, 0.5879329529364969, 0.8348052149695188, 0.8379653809323461, 0.4914226992729237, 0.7248259743525268, 0.6998308364672863, 0.7472535916395953, 0.6044826625936409, 0.4484322835563165, 0.7431413750532305, 0.48448421454960605, 0.781519898831968, 0.5095740240050108, 0.6771059160947656, 0.7199640255650868, 0.6963126352090815, 0.671128507921628, 0.6304162902417209, 0.8766789182721447], maxlen=20)\n",
      "eval_mean: 0.6704599787392598\n",
      "Saving best with: 0.6704599787392598\n"
     ]
    },
    {
     "name": "stderr",
     "output_type": "stream",
     "text": [
      "\r",
      " 95%|█████████████████████████████████████████████████████████████████████▍   | 95082/100000 [2:11:26<07:55, 10.35it/s]"
     ]
    },
    {
     "name": "stdout",
     "output_type": "stream",
     "text": [
      "self.evaluation_deque: deque([0.6419221723203019, 0.5879329529364969, 0.8348052149695188, 0.8379653809323461, 0.4914226992729237, 0.7248259743525268, 0.6998308364672863, 0.7472535916395953, 0.6044826625936409, 0.4484322835563165, 0.7431413750532305, 0.48448421454960605, 0.781519898831968, 0.5095740240050108, 0.6771059160947656, 0.7199640255650868, 0.6963126352090815, 0.671128507921628, 0.6304162902417209, 0.8766789182721447], maxlen=20)\n",
      "eval_mean: 0.6704599787392598\n"
     ]
    },
    {
     "name": "stderr",
     "output_type": "stream",
     "text": [
      "\r",
      " 95%|█████████████████████████████████████████████████████████████████████▍   | 95158/100000 [2:11:33<07:38, 10.56it/s]"
     ]
    },
    {
     "name": "stdout",
     "output_type": "stream",
     "text": [
      "self.evaluation_deque: deque([0.6419221723203019, 0.5879329529364969, 0.8348052149695188, 0.8379653809323461, 0.4914226992729237, 0.7248259743525268, 0.6998308364672863, 0.7472535916395953, 0.6044826625936409, 0.4484322835563165, 0.7431413750532305, 0.48448421454960605, 0.781519898831968, 0.5095740240050108, 0.6771059160947656, 0.7199640255650868, 0.6963126352090815, 0.671128507921628, 0.6304162902417209, 0.8766789182721447], maxlen=20)\n",
      "eval_mean: 0.6704599787392598\n"
     ]
    },
    {
     "name": "stderr",
     "output_type": "stream",
     "text": [
      "\r",
      " 95%|█████████████████████████████████████████████████████████████████████▌   | 95234/100000 [2:11:41<07:48, 10.17it/s]"
     ]
    },
    {
     "name": "stdout",
     "output_type": "stream",
     "text": [
      "self.evaluation_deque: deque([0.6419221723203019, 0.5879329529364969, 0.8348052149695188, 0.8379653809323461, 0.4914226992729237, 0.7248259743525268, 0.6998308364672863, 0.7472535916395953, 0.6044826625936409, 0.4484322835563165, 0.7431413750532305, 0.48448421454960605, 0.781519898831968, 0.5095740240050108, 0.6771059160947656, 0.7199640255650868, 0.6963126352090815, 0.671128507921628, 0.6304162902417209, 0.8766789182721447], maxlen=20)\n",
      "eval_mean: 0.6704599787392598\n"
     ]
    },
    {
     "name": "stderr",
     "output_type": "stream",
     "text": [
      "\r",
      " 95%|█████████████████████████████████████████████████████████████████████▌   | 95310/100000 [2:11:48<07:42, 10.15it/s]"
     ]
    },
    {
     "name": "stdout",
     "output_type": "stream",
     "text": [
      "self.evaluation_deque: deque([0.6419221723203019, 0.5879329529364969, 0.8348052149695188, 0.8379653809323461, 0.4914226992729237, 0.7248259743525268, 0.6998308364672863, 0.7472535916395953, 0.6044826625936409, 0.4484322835563165, 0.7431413750532305, 0.48448421454960605, 0.781519898831968, 0.5095740240050108, 0.6771059160947656, 0.7199640255650868, 0.6963126352090815, 0.671128507921628, 0.6304162902417209, 0.8766789182721447], maxlen=20)\n",
      "eval_mean: 0.6704599787392598\n"
     ]
    },
    {
     "name": "stderr",
     "output_type": "stream",
     "text": [
      "\r",
      " 95%|█████████████████████████████████████████████████████████████████████▋   | 95386/100000 [2:11:57<07:54,  9.73it/s]"
     ]
    },
    {
     "name": "stdout",
     "output_type": "stream",
     "text": [
      "self.get_collection_ratio(): 0.7545101147414361\n",
      "self.comms.count(True) : 2\n",
      "len(self.comms) : 2\n",
      "self.state.ratio_commed: 1.0\n",
      "self.comms.count(True) : 2\n",
      "len(self.comms) : 2\n",
      "self.evaluation_deque: deque([0.5879329529364969, 0.8348052149695188, 0.8379653809323461, 0.4914226992729237, 0.7248259743525268, 0.6998308364672863, 0.7472535916395953, 0.6044826625936409, 0.4484322835563165, 0.7431413750532305, 0.48448421454960605, 0.781519898831968, 0.5095740240050108, 0.6771059160947656, 0.7199640255650868, 0.6963126352090815, 0.671128507921628, 0.6304162902417209, 0.8766789182721447, 0.7545101147414361], maxlen=20)\n",
      "eval_mean: 0.6760893758603166\n",
      "Saving best with: 0.6760893758603166\n"
     ]
    },
    {
     "name": "stderr",
     "output_type": "stream",
     "text": [
      "\r",
      " 95%|█████████████████████████████████████████████████████████████████████▋   | 95462/100000 [2:12:03<07:15, 10.42it/s]"
     ]
    },
    {
     "name": "stdout",
     "output_type": "stream",
     "text": [
      "self.evaluation_deque: deque([0.5879329529364969, 0.8348052149695188, 0.8379653809323461, 0.4914226992729237, 0.7248259743525268, 0.6998308364672863, 0.7472535916395953, 0.6044826625936409, 0.4484322835563165, 0.7431413750532305, 0.48448421454960605, 0.781519898831968, 0.5095740240050108, 0.6771059160947656, 0.7199640255650868, 0.6963126352090815, 0.671128507921628, 0.6304162902417209, 0.8766789182721447, 0.7545101147414361], maxlen=20)\n",
      "eval_mean: 0.6760893758603166\n"
     ]
    },
    {
     "name": "stderr",
     "output_type": "stream",
     "text": [
      "\r",
      " 96%|█████████████████████████████████████████████████████████████████████▋   | 95538/100000 [2:12:09<06:43, 11.06it/s]"
     ]
    },
    {
     "name": "stdout",
     "output_type": "stream",
     "text": [
      "self.evaluation_deque: deque([0.5879329529364969, 0.8348052149695188, 0.8379653809323461, 0.4914226992729237, 0.7248259743525268, 0.6998308364672863, 0.7472535916395953, 0.6044826625936409, 0.4484322835563165, 0.7431413750532305, 0.48448421454960605, 0.781519898831968, 0.5095740240050108, 0.6771059160947656, 0.7199640255650868, 0.6963126352090815, 0.671128507921628, 0.6304162902417209, 0.8766789182721447, 0.7545101147414361], maxlen=20)\n",
      "eval_mean: 0.6760893758603166\n"
     ]
    },
    {
     "name": "stderr",
     "output_type": "stream",
     "text": [
      "\r",
      " 96%|█████████████████████████████████████████████████████████████████████▊   | 95614/100000 [2:12:15<06:21, 11.49it/s]"
     ]
    },
    {
     "name": "stdout",
     "output_type": "stream",
     "text": [
      "self.evaluation_deque: deque([0.5879329529364969, 0.8348052149695188, 0.8379653809323461, 0.4914226992729237, 0.7248259743525268, 0.6998308364672863, 0.7472535916395953, 0.6044826625936409, 0.4484322835563165, 0.7431413750532305, 0.48448421454960605, 0.781519898831968, 0.5095740240050108, 0.6771059160947656, 0.7199640255650868, 0.6963126352090815, 0.671128507921628, 0.6304162902417209, 0.8766789182721447, 0.7545101147414361], maxlen=20)\n",
      "eval_mean: 0.6760893758603166\n"
     ]
    },
    {
     "name": "stderr",
     "output_type": "stream",
     "text": [
      "\r",
      " 96%|█████████████████████████████████████████████████████████████████████▊   | 95690/100000 [2:12:22<06:22, 11.26it/s]"
     ]
    },
    {
     "name": "stdout",
     "output_type": "stream",
     "text": [
      "self.evaluation_deque: deque([0.5879329529364969, 0.8348052149695188, 0.8379653809323461, 0.4914226992729237, 0.7248259743525268, 0.6998308364672863, 0.7472535916395953, 0.6044826625936409, 0.4484322835563165, 0.7431413750532305, 0.48448421454960605, 0.781519898831968, 0.5095740240050108, 0.6771059160947656, 0.7199640255650868, 0.6963126352090815, 0.671128507921628, 0.6304162902417209, 0.8766789182721447, 0.7545101147414361], maxlen=20)\n",
      "eval_mean: 0.6760893758603166\n"
     ]
    },
    {
     "name": "stderr",
     "output_type": "stream",
     "text": [
      "\r",
      " 96%|█████████████████████████████████████████████████████████████████████▉   | 95766/100000 [2:12:32<07:13,  9.77it/s]"
     ]
    },
    {
     "name": "stdout",
     "output_type": "stream",
     "text": [
      "self.get_collection_ratio(): 0.6860943891671983\n",
      "self.comms.count(True) : 3\n",
      "len(self.comms) : 3\n",
      "self.state.ratio_commed: 1.0\n",
      "self.comms.count(True) : 3\n",
      "len(self.comms) : 3\n",
      "self.evaluation_deque: deque([0.8348052149695188, 0.8379653809323461, 0.4914226992729237, 0.7248259743525268, 0.6998308364672863, 0.7472535916395953, 0.6044826625936409, 0.4484322835563165, 0.7431413750532305, 0.48448421454960605, 0.781519898831968, 0.5095740240050108, 0.6771059160947656, 0.7199640255650868, 0.6963126352090815, 0.671128507921628, 0.6304162902417209, 0.8766789182721447, 0.7545101147414361, 0.6860943891671983], maxlen=20)\n",
      "eval_mean: 0.6809974476718516\n",
      "Saving best with: 0.6809974476718516\n"
     ]
    },
    {
     "name": "stderr",
     "output_type": "stream",
     "text": [
      "\r",
      " 96%|█████████████████████████████████████████████████████████████████████▉   | 95842/100000 [2:12:39<06:50, 10.12it/s]"
     ]
    },
    {
     "name": "stdout",
     "output_type": "stream",
     "text": [
      "self.evaluation_deque: deque([0.8348052149695188, 0.8379653809323461, 0.4914226992729237, 0.7248259743525268, 0.6998308364672863, 0.7472535916395953, 0.6044826625936409, 0.4484322835563165, 0.7431413750532305, 0.48448421454960605, 0.781519898831968, 0.5095740240050108, 0.6771059160947656, 0.7199640255650868, 0.6963126352090815, 0.671128507921628, 0.6304162902417209, 0.8766789182721447, 0.7545101147414361, 0.6860943891671983], maxlen=20)\n",
      "eval_mean: 0.6809974476718516\n"
     ]
    },
    {
     "name": "stderr",
     "output_type": "stream",
     "text": [
      "\r",
      " 96%|██████████████████████████████████████████████████████████████████████   | 95918/100000 [2:12:45<06:14, 10.90it/s]"
     ]
    },
    {
     "name": "stdout",
     "output_type": "stream",
     "text": [
      "self.evaluation_deque: deque([0.8348052149695188, 0.8379653809323461, 0.4914226992729237, 0.7248259743525268, 0.6998308364672863, 0.7472535916395953, 0.6044826625936409, 0.4484322835563165, 0.7431413750532305, 0.48448421454960605, 0.781519898831968, 0.5095740240050108, 0.6771059160947656, 0.7199640255650868, 0.6963126352090815, 0.671128507921628, 0.6304162902417209, 0.8766789182721447, 0.7545101147414361, 0.6860943891671983], maxlen=20)\n",
      "eval_mean: 0.6809974476718516\n"
     ]
    },
    {
     "name": "stderr",
     "output_type": "stream",
     "text": [
      "\r",
      " 96%|██████████████████████████████████████████████████████████████████████   | 95994/100000 [2:12:53<06:25, 10.39it/s]"
     ]
    },
    {
     "name": "stdout",
     "output_type": "stream",
     "text": [
      "self.evaluation_deque: deque([0.8348052149695188, 0.8379653809323461, 0.4914226992729237, 0.7248259743525268, 0.6998308364672863, 0.7472535916395953, 0.6044826625936409, 0.4484322835563165, 0.7431413750532305, 0.48448421454960605, 0.781519898831968, 0.5095740240050108, 0.6771059160947656, 0.7199640255650868, 0.6963126352090815, 0.671128507921628, 0.6304162902417209, 0.8766789182721447, 0.7545101147414361, 0.6860943891671983], maxlen=20)\n",
      "eval_mean: 0.6809974476718516\n"
     ]
    },
    {
     "name": "stderr",
     "output_type": "stream",
     "text": [
      "\r",
      " 96%|██████████████████████████████████████████████████████████████████████▏  | 96070/100000 [2:13:00<06:10, 10.61it/s]"
     ]
    },
    {
     "name": "stdout",
     "output_type": "stream",
     "text": [
      "self.evaluation_deque: deque([0.8348052149695188, 0.8379653809323461, 0.4914226992729237, 0.7248259743525268, 0.6998308364672863, 0.7472535916395953, 0.6044826625936409, 0.4484322835563165, 0.7431413750532305, 0.48448421454960605, 0.781519898831968, 0.5095740240050108, 0.6771059160947656, 0.7199640255650868, 0.6963126352090815, 0.671128507921628, 0.6304162902417209, 0.8766789182721447, 0.7545101147414361, 0.6860943891671983], maxlen=20)\n",
      "eval_mean: 0.6809974476718516\n"
     ]
    },
    {
     "name": "stderr",
     "output_type": "stream",
     "text": [
      "\r",
      " 96%|██████████████████████████████████████████████████████████████████████▏  | 96146/100000 [2:13:10<06:47,  9.45it/s]"
     ]
    },
    {
     "name": "stdout",
     "output_type": "stream",
     "text": [
      "self.get_collection_ratio(): 0.7875846417402886\n",
      "self.comms.count(True) : 3\n",
      "len(self.comms) : 3\n",
      "self.state.ratio_commed: 1.0\n",
      "self.comms.count(True) : 3\n",
      "len(self.comms) : 3\n",
      "self.evaluation_deque: deque([0.8379653809323461, 0.4914226992729237, 0.7248259743525268, 0.6998308364672863, 0.7472535916395953, 0.6044826625936409, 0.4484322835563165, 0.7431413750532305, 0.48448421454960605, 0.781519898831968, 0.5095740240050108, 0.6771059160947656, 0.7199640255650868, 0.6963126352090815, 0.671128507921628, 0.6304162902417209, 0.8766789182721447, 0.7545101147414361, 0.6860943891671983, 0.7875846417402886], maxlen=20)\n",
      "eval_mean: 0.6786364190103902\n"
     ]
    },
    {
     "name": "stderr",
     "output_type": "stream",
     "text": [
      "\r",
      " 96%|██████████████████████████████████████████████████████████████████████▏  | 96222/100000 [2:13:16<06:04, 10.35it/s]"
     ]
    },
    {
     "name": "stdout",
     "output_type": "stream",
     "text": [
      "self.evaluation_deque: deque([0.8379653809323461, 0.4914226992729237, 0.7248259743525268, 0.6998308364672863, 0.7472535916395953, 0.6044826625936409, 0.4484322835563165, 0.7431413750532305, 0.48448421454960605, 0.781519898831968, 0.5095740240050108, 0.6771059160947656, 0.7199640255650868, 0.6963126352090815, 0.671128507921628, 0.6304162902417209, 0.8766789182721447, 0.7545101147414361, 0.6860943891671983, 0.7875846417402886], maxlen=20)\n",
      "eval_mean: 0.6786364190103902\n"
     ]
    },
    {
     "name": "stderr",
     "output_type": "stream",
     "text": [
      "\r",
      " 96%|██████████████████████████████████████████████████████████████████████▎  | 96298/100000 [2:13:24<06:08, 10.03it/s]"
     ]
    },
    {
     "name": "stdout",
     "output_type": "stream",
     "text": [
      "self.evaluation_deque: deque([0.8379653809323461, 0.4914226992729237, 0.7248259743525268, 0.6998308364672863, 0.7472535916395953, 0.6044826625936409, 0.4484322835563165, 0.7431413750532305, 0.48448421454960605, 0.781519898831968, 0.5095740240050108, 0.6771059160947656, 0.7199640255650868, 0.6963126352090815, 0.671128507921628, 0.6304162902417209, 0.8766789182721447, 0.7545101147414361, 0.6860943891671983, 0.7875846417402886], maxlen=20)\n",
      "eval_mean: 0.6786364190103902\n"
     ]
    },
    {
     "name": "stderr",
     "output_type": "stream",
     "text": [
      "\r",
      " 96%|██████████████████████████████████████████████████████████████████████▎  | 96374/100000 [2:13:29<05:34, 10.83it/s]"
     ]
    },
    {
     "name": "stdout",
     "output_type": "stream",
     "text": [
      "self.evaluation_deque: deque([0.8379653809323461, 0.4914226992729237, 0.7248259743525268, 0.6998308364672863, 0.7472535916395953, 0.6044826625936409, 0.4484322835563165, 0.7431413750532305, 0.48448421454960605, 0.781519898831968, 0.5095740240050108, 0.6771059160947656, 0.7199640255650868, 0.6963126352090815, 0.671128507921628, 0.6304162902417209, 0.8766789182721447, 0.7545101147414361, 0.6860943891671983, 0.7875846417402886], maxlen=20)\n",
      "eval_mean: 0.6786364190103902\n"
     ]
    },
    {
     "name": "stderr",
     "output_type": "stream",
     "text": [
      "\r",
      " 96%|██████████████████████████████████████████████████████████████████████▍  | 96450/100000 [2:13:36<05:26, 10.87it/s]"
     ]
    },
    {
     "name": "stdout",
     "output_type": "stream",
     "text": [
      "self.evaluation_deque: deque([0.8379653809323461, 0.4914226992729237, 0.7248259743525268, 0.6998308364672863, 0.7472535916395953, 0.6044826625936409, 0.4484322835563165, 0.7431413750532305, 0.48448421454960605, 0.781519898831968, 0.5095740240050108, 0.6771059160947656, 0.7199640255650868, 0.6963126352090815, 0.671128507921628, 0.6304162902417209, 0.8766789182721447, 0.7545101147414361, 0.6860943891671983, 0.7875846417402886], maxlen=20)\n",
      "eval_mean: 0.6786364190103902\n"
     ]
    },
    {
     "name": "stderr",
     "output_type": "stream",
     "text": [
      "\r",
      " 97%|██████████████████████████████████████████████████████████████████████▍  | 96526/100000 [2:13:44<05:23, 10.74it/s]"
     ]
    },
    {
     "name": "stdout",
     "output_type": "stream",
     "text": [
      "self.get_collection_ratio(): 0.4166910463657148\n",
      "self.comms.count(True) : 1\n",
      "len(self.comms) : 1\n",
      "self.state.ratio_commed: 1.0\n",
      "self.comms.count(True) : 1\n",
      "len(self.comms) : 1\n",
      "self.evaluation_deque: deque([0.4914226992729237, 0.7248259743525268, 0.6998308364672863, 0.7472535916395953, 0.6044826625936409, 0.4484322835563165, 0.7431413750532305, 0.48448421454960605, 0.781519898831968, 0.5095740240050108, 0.6771059160947656, 0.7199640255650868, 0.6963126352090815, 0.671128507921628, 0.6304162902417209, 0.8766789182721447, 0.7545101147414361, 0.6860943891671983, 0.7875846417402886, 0.4166910463657148], maxlen=20)\n",
      "eval_mean: 0.6575727022820586\n"
     ]
    },
    {
     "name": "stderr",
     "output_type": "stream",
     "text": [
      "\r",
      " 97%|██████████████████████████████████████████████████████████████████████▌  | 96602/100000 [2:13:49<04:57, 11.43it/s]"
     ]
    },
    {
     "name": "stdout",
     "output_type": "stream",
     "text": [
      "self.evaluation_deque: deque([0.4914226992729237, 0.7248259743525268, 0.6998308364672863, 0.7472535916395953, 0.6044826625936409, 0.4484322835563165, 0.7431413750532305, 0.48448421454960605, 0.781519898831968, 0.5095740240050108, 0.6771059160947656, 0.7199640255650868, 0.6963126352090815, 0.671128507921628, 0.6304162902417209, 0.8766789182721447, 0.7545101147414361, 0.6860943891671983, 0.7875846417402886, 0.4166910463657148], maxlen=20)\n",
      "eval_mean: 0.6575727022820586\n"
     ]
    },
    {
     "name": "stderr",
     "output_type": "stream",
     "text": [
      "\r",
      " 97%|██████████████████████████████████████████████████████████████████████▌  | 96678/100000 [2:13:55<04:37, 11.95it/s]"
     ]
    },
    {
     "name": "stdout",
     "output_type": "stream",
     "text": [
      "self.evaluation_deque: deque([0.4914226992729237, 0.7248259743525268, 0.6998308364672863, 0.7472535916395953, 0.6044826625936409, 0.4484322835563165, 0.7431413750532305, 0.48448421454960605, 0.781519898831968, 0.5095740240050108, 0.6771059160947656, 0.7199640255650868, 0.6963126352090815, 0.671128507921628, 0.6304162902417209, 0.8766789182721447, 0.7545101147414361, 0.6860943891671983, 0.7875846417402886, 0.4166910463657148], maxlen=20)\n",
      "eval_mean: 0.6575727022820586\n"
     ]
    },
    {
     "name": "stderr",
     "output_type": "stream",
     "text": [
      "\r",
      " 97%|██████████████████████████████████████████████████████████████████████▋  | 96754/100000 [2:14:03<04:55, 11.00it/s]"
     ]
    },
    {
     "name": "stdout",
     "output_type": "stream",
     "text": [
      "self.evaluation_deque: deque([0.4914226992729237, 0.7248259743525268, 0.6998308364672863, 0.7472535916395953, 0.6044826625936409, 0.4484322835563165, 0.7431413750532305, 0.48448421454960605, 0.781519898831968, 0.5095740240050108, 0.6771059160947656, 0.7199640255650868, 0.6963126352090815, 0.671128507921628, 0.6304162902417209, 0.8766789182721447, 0.7545101147414361, 0.6860943891671983, 0.7875846417402886, 0.4166910463657148], maxlen=20)\n",
      "eval_mean: 0.6575727022820586\n"
     ]
    },
    {
     "name": "stderr",
     "output_type": "stream",
     "text": [
      "\r",
      " 97%|██████████████████████████████████████████████████████████████████████▋  | 96830/100000 [2:14:09<04:36, 11.47it/s]"
     ]
    },
    {
     "name": "stdout",
     "output_type": "stream",
     "text": [
      "self.evaluation_deque: deque([0.4914226992729237, 0.7248259743525268, 0.6998308364672863, 0.7472535916395953, 0.6044826625936409, 0.4484322835563165, 0.7431413750532305, 0.48448421454960605, 0.781519898831968, 0.5095740240050108, 0.6771059160947656, 0.7199640255650868, 0.6963126352090815, 0.671128507921628, 0.6304162902417209, 0.8766789182721447, 0.7545101147414361, 0.6860943891671983, 0.7875846417402886, 0.4166910463657148], maxlen=20)\n",
      "eval_mean: 0.6575727022820586\n"
     ]
    },
    {
     "name": "stderr",
     "output_type": "stream",
     "text": [
      "\r",
      " 97%|██████████████████████████████████████████████████████████████████████▋  | 96906/100000 [2:14:21<05:30,  9.36it/s]"
     ]
    },
    {
     "name": "stdout",
     "output_type": "stream",
     "text": [
      "self.get_collection_ratio(): 0.819927539852864\n",
      "self.comms.count(True) : 3\n",
      "len(self.comms) : 3\n",
      "self.state.ratio_commed: 1.0\n",
      "self.comms.count(True) : 3\n",
      "len(self.comms) : 3\n",
      "self.evaluation_deque: deque([0.7248259743525268, 0.6998308364672863, 0.7472535916395953, 0.6044826625936409, 0.4484322835563165, 0.7431413750532305, 0.48448421454960605, 0.781519898831968, 0.5095740240050108, 0.6771059160947656, 0.7199640255650868, 0.6963126352090815, 0.671128507921628, 0.6304162902417209, 0.8766789182721447, 0.7545101147414361, 0.6860943891671983, 0.7875846417402886, 0.4166910463657148, 0.819927539852864], maxlen=20)\n",
      "eval_mean: 0.6739979443110556\n"
     ]
    },
    {
     "name": "stderr",
     "output_type": "stream",
     "text": [
      "\r",
      " 97%|██████████████████████████████████████████████████████████████████████▊  | 96982/100000 [2:14:29<05:29,  9.16it/s]"
     ]
    },
    {
     "name": "stdout",
     "output_type": "stream",
     "text": [
      "self.evaluation_deque: deque([0.7248259743525268, 0.6998308364672863, 0.7472535916395953, 0.6044826625936409, 0.4484322835563165, 0.7431413750532305, 0.48448421454960605, 0.781519898831968, 0.5095740240050108, 0.6771059160947656, 0.7199640255650868, 0.6963126352090815, 0.671128507921628, 0.6304162902417209, 0.8766789182721447, 0.7545101147414361, 0.6860943891671983, 0.7875846417402886, 0.4166910463657148, 0.819927539852864], maxlen=20)\n",
      "eval_mean: 0.6739979443110556\n"
     ]
    },
    {
     "name": "stderr",
     "output_type": "stream",
     "text": [
      "\r",
      " 97%|██████████████████████████████████████████████████████████████████████▊  | 97058/100000 [2:14:37<05:07,  9.56it/s]"
     ]
    },
    {
     "name": "stdout",
     "output_type": "stream",
     "text": [
      "self.evaluation_deque: deque([0.7248259743525268, 0.6998308364672863, 0.7472535916395953, 0.6044826625936409, 0.4484322835563165, 0.7431413750532305, 0.48448421454960605, 0.781519898831968, 0.5095740240050108, 0.6771059160947656, 0.7199640255650868, 0.6963126352090815, 0.671128507921628, 0.6304162902417209, 0.8766789182721447, 0.7545101147414361, 0.6860943891671983, 0.7875846417402886, 0.4166910463657148, 0.819927539852864], maxlen=20)\n",
      "eval_mean: 0.6739979443110556\n"
     ]
    },
    {
     "name": "stderr",
     "output_type": "stream",
     "text": [
      "\r",
      " 97%|██████████████████████████████████████████████████████████████████████▉  | 97134/100000 [2:14:42<04:35, 10.39it/s]"
     ]
    },
    {
     "name": "stdout",
     "output_type": "stream",
     "text": [
      "self.evaluation_deque: deque([0.7248259743525268, 0.6998308364672863, 0.7472535916395953, 0.6044826625936409, 0.4484322835563165, 0.7431413750532305, 0.48448421454960605, 0.781519898831968, 0.5095740240050108, 0.6771059160947656, 0.7199640255650868, 0.6963126352090815, 0.671128507921628, 0.6304162902417209, 0.8766789182721447, 0.7545101147414361, 0.6860943891671983, 0.7875846417402886, 0.4166910463657148, 0.819927539852864], maxlen=20)\n",
      "eval_mean: 0.6739979443110556\n"
     ]
    },
    {
     "name": "stderr",
     "output_type": "stream",
     "text": [
      "\r",
      " 97%|██████████████████████████████████████████████████████████████████████▉  | 97210/100000 [2:14:49<04:24, 10.54it/s]"
     ]
    },
    {
     "name": "stdout",
     "output_type": "stream",
     "text": [
      "self.evaluation_deque: deque([0.7248259743525268, 0.6998308364672863, 0.7472535916395953, 0.6044826625936409, 0.4484322835563165, 0.7431413750532305, 0.48448421454960605, 0.781519898831968, 0.5095740240050108, 0.6771059160947656, 0.7199640255650868, 0.6963126352090815, 0.671128507921628, 0.6304162902417209, 0.8766789182721447, 0.7545101147414361, 0.6860943891671983, 0.7875846417402886, 0.4166910463657148, 0.819927539852864], maxlen=20)\n",
      "eval_mean: 0.6739979443110556\n"
     ]
    },
    {
     "name": "stderr",
     "output_type": "stream",
     "text": [
      "\r",
      " 97%|███████████████████████████████████████████████████████████████████████  | 97286/100000 [2:14:58<04:32,  9.97it/s]"
     ]
    },
    {
     "name": "stdout",
     "output_type": "stream",
     "text": [
      "self.get_collection_ratio(): 0.46522064749774805\n",
      "self.comms.count(True) : 1\n",
      "len(self.comms) : 1\n",
      "self.state.ratio_commed: 1.0\n",
      "self.comms.count(True) : 1\n",
      "len(self.comms) : 1\n",
      "self.evaluation_deque: deque([0.6998308364672863, 0.7472535916395953, 0.6044826625936409, 0.4484322835563165, 0.7431413750532305, 0.48448421454960605, 0.781519898831968, 0.5095740240050108, 0.6771059160947656, 0.7199640255650868, 0.6963126352090815, 0.671128507921628, 0.6304162902417209, 0.8766789182721447, 0.7545101147414361, 0.6860943891671983, 0.7875846417402886, 0.4166910463657148, 0.819927539852864, 0.46522064749774805], maxlen=20)\n",
      "eval_mean: 0.6610176779683166\n"
     ]
    },
    {
     "name": "stderr",
     "output_type": "stream",
     "text": [
      "\r",
      " 97%|███████████████████████████████████████████████████████████████████████  | 97362/100000 [2:15:05<04:20, 10.13it/s]"
     ]
    },
    {
     "name": "stdout",
     "output_type": "stream",
     "text": [
      "self.evaluation_deque: deque([0.6998308364672863, 0.7472535916395953, 0.6044826625936409, 0.4484322835563165, 0.7431413750532305, 0.48448421454960605, 0.781519898831968, 0.5095740240050108, 0.6771059160947656, 0.7199640255650868, 0.6963126352090815, 0.671128507921628, 0.6304162902417209, 0.8766789182721447, 0.7545101147414361, 0.6860943891671983, 0.7875846417402886, 0.4166910463657148, 0.819927539852864, 0.46522064749774805], maxlen=20)\n",
      "eval_mean: 0.6610176779683166\n"
     ]
    },
    {
     "name": "stderr",
     "output_type": "stream",
     "text": [
      "\r",
      " 97%|███████████████████████████████████████████████████████████████████████▏ | 97438/100000 [2:15:12<04:09, 10.26it/s]"
     ]
    },
    {
     "name": "stdout",
     "output_type": "stream",
     "text": [
      "self.evaluation_deque: deque([0.6998308364672863, 0.7472535916395953, 0.6044826625936409, 0.4484322835563165, 0.7431413750532305, 0.48448421454960605, 0.781519898831968, 0.5095740240050108, 0.6771059160947656, 0.7199640255650868, 0.6963126352090815, 0.671128507921628, 0.6304162902417209, 0.8766789182721447, 0.7545101147414361, 0.6860943891671983, 0.7875846417402886, 0.4166910463657148, 0.819927539852864, 0.46522064749774805], maxlen=20)\n",
      "eval_mean: 0.6610176779683166\n"
     ]
    },
    {
     "name": "stderr",
     "output_type": "stream",
     "text": [
      "\r",
      " 98%|███████████████████████████████████████████████████████████████████████▏ | 97514/100000 [2:15:20<04:00, 10.32it/s]"
     ]
    },
    {
     "name": "stdout",
     "output_type": "stream",
     "text": [
      "self.evaluation_deque: deque([0.6998308364672863, 0.7472535916395953, 0.6044826625936409, 0.4484322835563165, 0.7431413750532305, 0.48448421454960605, 0.781519898831968, 0.5095740240050108, 0.6771059160947656, 0.7199640255650868, 0.6963126352090815, 0.671128507921628, 0.6304162902417209, 0.8766789182721447, 0.7545101147414361, 0.6860943891671983, 0.7875846417402886, 0.4166910463657148, 0.819927539852864, 0.46522064749774805], maxlen=20)\n",
      "eval_mean: 0.6610176779683166\n"
     ]
    },
    {
     "name": "stderr",
     "output_type": "stream",
     "text": [
      "\r",
      " 98%|███████████████████████████████████████████████████████████████████████▏ | 97590/100000 [2:15:26<03:40, 10.91it/s]"
     ]
    },
    {
     "name": "stdout",
     "output_type": "stream",
     "text": [
      "self.evaluation_deque: deque([0.6998308364672863, 0.7472535916395953, 0.6044826625936409, 0.4484322835563165, 0.7431413750532305, 0.48448421454960605, 0.781519898831968, 0.5095740240050108, 0.6771059160947656, 0.7199640255650868, 0.6963126352090815, 0.671128507921628, 0.6304162902417209, 0.8766789182721447, 0.7545101147414361, 0.6860943891671983, 0.7875846417402886, 0.4166910463657148, 0.819927539852864, 0.46522064749774805], maxlen=20)\n",
      "eval_mean: 0.6610176779683166\n"
     ]
    },
    {
     "name": "stderr",
     "output_type": "stream",
     "text": [
      "\r",
      " 98%|███████████████████████████████████████████████████████████████████████▎ | 97666/100000 [2:15:34<03:49, 10.19it/s]"
     ]
    },
    {
     "name": "stdout",
     "output_type": "stream",
     "text": [
      "self.get_collection_ratio(): 0.561524467176021\n",
      "self.comms.count(True) : 1\n",
      "len(self.comms) : 1\n",
      "self.state.ratio_commed: 1.0\n",
      "self.comms.count(True) : 1\n",
      "len(self.comms) : 1\n",
      "self.evaluation_deque: deque([0.7472535916395953, 0.6044826625936409, 0.4484322835563165, 0.7431413750532305, 0.48448421454960605, 0.781519898831968, 0.5095740240050108, 0.6771059160947656, 0.7199640255650868, 0.6963126352090815, 0.671128507921628, 0.6304162902417209, 0.8766789182721447, 0.7545101147414361, 0.6860943891671983, 0.7875846417402886, 0.4166910463657148, 0.819927539852864, 0.46522064749774805, 0.561524467176021], maxlen=20)\n",
      "eval_mean: 0.6541023595037534\n"
     ]
    },
    {
     "name": "stderr",
     "output_type": "stream",
     "text": [
      "\r",
      " 98%|███████████████████████████████████████████████████████████████████████▎ | 97742/100000 [2:15:42<03:39, 10.27it/s]"
     ]
    },
    {
     "name": "stdout",
     "output_type": "stream",
     "text": [
      "self.evaluation_deque: deque([0.7472535916395953, 0.6044826625936409, 0.4484322835563165, 0.7431413750532305, 0.48448421454960605, 0.781519898831968, 0.5095740240050108, 0.6771059160947656, 0.7199640255650868, 0.6963126352090815, 0.671128507921628, 0.6304162902417209, 0.8766789182721447, 0.7545101147414361, 0.6860943891671983, 0.7875846417402886, 0.4166910463657148, 0.819927539852864, 0.46522064749774805, 0.561524467176021], maxlen=20)\n",
      "eval_mean: 0.6541023595037534\n"
     ]
    },
    {
     "name": "stderr",
     "output_type": "stream",
     "text": [
      "\r",
      " 98%|███████████████████████████████████████████████████████████████████████▍ | 97818/100000 [2:15:49<03:30, 10.37it/s]"
     ]
    },
    {
     "name": "stdout",
     "output_type": "stream",
     "text": [
      "self.evaluation_deque: deque([0.7472535916395953, 0.6044826625936409, 0.4484322835563165, 0.7431413750532305, 0.48448421454960605, 0.781519898831968, 0.5095740240050108, 0.6771059160947656, 0.7199640255650868, 0.6963126352090815, 0.671128507921628, 0.6304162902417209, 0.8766789182721447, 0.7545101147414361, 0.6860943891671983, 0.7875846417402886, 0.4166910463657148, 0.819927539852864, 0.46522064749774805, 0.561524467176021], maxlen=20)\n",
      "eval_mean: 0.6541023595037534\n"
     ]
    },
    {
     "name": "stderr",
     "output_type": "stream",
     "text": [
      "\r",
      " 98%|███████████████████████████████████████████████████████████████████████▍ | 97894/100000 [2:15:56<03:22, 10.39it/s]"
     ]
    },
    {
     "name": "stdout",
     "output_type": "stream",
     "text": [
      "self.evaluation_deque: deque([0.7472535916395953, 0.6044826625936409, 0.4484322835563165, 0.7431413750532305, 0.48448421454960605, 0.781519898831968, 0.5095740240050108, 0.6771059160947656, 0.7199640255650868, 0.6963126352090815, 0.671128507921628, 0.6304162902417209, 0.8766789182721447, 0.7545101147414361, 0.6860943891671983, 0.7875846417402886, 0.4166910463657148, 0.819927539852864, 0.46522064749774805, 0.561524467176021], maxlen=20)\n",
      "eval_mean: 0.6541023595037534\n"
     ]
    },
    {
     "name": "stderr",
     "output_type": "stream",
     "text": [
      "\r",
      " 98%|███████████████████████████████████████████████████████████████████████▌ | 97970/100000 [2:16:04<03:24,  9.93it/s]"
     ]
    },
    {
     "name": "stdout",
     "output_type": "stream",
     "text": [
      "self.evaluation_deque: deque([0.7472535916395953, 0.6044826625936409, 0.4484322835563165, 0.7431413750532305, 0.48448421454960605, 0.781519898831968, 0.5095740240050108, 0.6771059160947656, 0.7199640255650868, 0.6963126352090815, 0.671128507921628, 0.6304162902417209, 0.8766789182721447, 0.7545101147414361, 0.6860943891671983, 0.7875846417402886, 0.4166910463657148, 0.819927539852864, 0.46522064749774805, 0.561524467176021], maxlen=20)\n",
      "eval_mean: 0.6541023595037534\n"
     ]
    },
    {
     "name": "stderr",
     "output_type": "stream",
     "text": [
      "\r",
      " 98%|███████████████████████████████████████████████████████████████████████▌ | 98046/100000 [2:16:14<03:31,  9.23it/s]"
     ]
    },
    {
     "name": "stdout",
     "output_type": "stream",
     "text": [
      "self.get_collection_ratio(): 0.6423323617998754\n",
      "self.comms.count(True) : 2\n",
      "len(self.comms) : 2\n",
      "self.state.ratio_commed: 1.0\n",
      "self.comms.count(True) : 2\n",
      "len(self.comms) : 2\n",
      "self.evaluation_deque: deque([0.6044826625936409, 0.4484322835563165, 0.7431413750532305, 0.48448421454960605, 0.781519898831968, 0.5095740240050108, 0.6771059160947656, 0.7199640255650868, 0.6963126352090815, 0.671128507921628, 0.6304162902417209, 0.8766789182721447, 0.7545101147414361, 0.6860943891671983, 0.7875846417402886, 0.4166910463657148, 0.819927539852864, 0.46522064749774805, 0.561524467176021, 0.6423323617998754], maxlen=20)\n",
      "eval_mean: 0.6488562980117674\n"
     ]
    },
    {
     "name": "stderr",
     "output_type": "stream",
     "text": [
      "\r",
      " 98%|███████████████████████████████████████████████████████████████████████▋ | 98122/100000 [2:16:20<03:06, 10.09it/s]"
     ]
    },
    {
     "name": "stdout",
     "output_type": "stream",
     "text": [
      "self.evaluation_deque: deque([0.6044826625936409, 0.4484322835563165, 0.7431413750532305, 0.48448421454960605, 0.781519898831968, 0.5095740240050108, 0.6771059160947656, 0.7199640255650868, 0.6963126352090815, 0.671128507921628, 0.6304162902417209, 0.8766789182721447, 0.7545101147414361, 0.6860943891671983, 0.7875846417402886, 0.4166910463657148, 0.819927539852864, 0.46522064749774805, 0.561524467176021, 0.6423323617998754], maxlen=20)\n",
      "eval_mean: 0.6488562980117674\n"
     ]
    },
    {
     "name": "stderr",
     "output_type": "stream",
     "text": [
      "\r",
      " 98%|███████████████████████████████████████████████████████████████████████▋ | 98198/100000 [2:16:27<02:55, 10.27it/s]"
     ]
    },
    {
     "name": "stdout",
     "output_type": "stream",
     "text": [
      "self.evaluation_deque: deque([0.6044826625936409, 0.4484322835563165, 0.7431413750532305, 0.48448421454960605, 0.781519898831968, 0.5095740240050108, 0.6771059160947656, 0.7199640255650868, 0.6963126352090815, 0.671128507921628, 0.6304162902417209, 0.8766789182721447, 0.7545101147414361, 0.6860943891671983, 0.7875846417402886, 0.4166910463657148, 0.819927539852864, 0.46522064749774805, 0.561524467176021, 0.6423323617998754], maxlen=20)\n",
      "eval_mean: 0.6488562980117674\n"
     ]
    },
    {
     "name": "stderr",
     "output_type": "stream",
     "text": [
      " 98%|███████████████████████████████████████████████████████████████████████▋ | 98274/100000 [2:16:46<04:09,  6.91it/s]"
     ]
    },
    {
     "name": "stdout",
     "output_type": "stream",
     "text": [
      "self.evaluation_deque: deque([0.6044826625936409, 0.4484322835563165, 0.7431413750532305, 0.48448421454960605, 0.781519898831968, 0.5095740240050108, 0.6771059160947656, 0.7199640255650868, 0.6963126352090815, 0.671128507921628, 0.6304162902417209, 0.8766789182721447, 0.7545101147414361, 0.6860943891671983, 0.7875846417402886, 0.4166910463657148, 0.819927539852864, 0.46522064749774805, 0.561524467176021, 0.6423323617998754], maxlen=20)\n",
      "eval_mean: 0.6488562980117674\n"
     ]
    },
    {
     "name": "stderr",
     "output_type": "stream",
     "text": [
      "\r",
      " 98%|███████████████████████████████████████████████████████████████████████▊ | 98350/100000 [2:16:55<03:41,  7.44it/s]"
     ]
    },
    {
     "name": "stdout",
     "output_type": "stream",
     "text": [
      "self.evaluation_deque: deque([0.6044826625936409, 0.4484322835563165, 0.7431413750532305, 0.48448421454960605, 0.781519898831968, 0.5095740240050108, 0.6771059160947656, 0.7199640255650868, 0.6963126352090815, 0.671128507921628, 0.6304162902417209, 0.8766789182721447, 0.7545101147414361, 0.6860943891671983, 0.7875846417402886, 0.4166910463657148, 0.819927539852864, 0.46522064749774805, 0.561524467176021, 0.6423323617998754], maxlen=20)\n",
      "eval_mean: 0.6488562980117674\n"
     ]
    },
    {
     "name": "stderr",
     "output_type": "stream",
     "text": [
      "\r",
      " 98%|███████████████████████████████████████████████████████████████████████▊ | 98426/100000 [2:17:04<03:25,  7.65it/s]"
     ]
    },
    {
     "name": "stdout",
     "output_type": "stream",
     "text": [
      "self.get_collection_ratio(): 0.7153059989158594\n",
      "self.comms.count(True) : 2\n",
      "len(self.comms) : 2\n",
      "self.state.ratio_commed: 1.0\n",
      "self.comms.count(True) : 2\n",
      "len(self.comms) : 2\n",
      "self.evaluation_deque: deque([0.4484322835563165, 0.7431413750532305, 0.48448421454960605, 0.781519898831968, 0.5095740240050108, 0.6771059160947656, 0.7199640255650868, 0.6963126352090815, 0.671128507921628, 0.6304162902417209, 0.8766789182721447, 0.7545101147414361, 0.6860943891671983, 0.7875846417402886, 0.4166910463657148, 0.819927539852864, 0.46522064749774805, 0.561524467176021, 0.6423323617998754, 0.7153059989158594], maxlen=20)\n",
      "eval_mean: 0.6543974648278783\n"
     ]
    },
    {
     "name": "stderr",
     "output_type": "stream",
     "text": [
      "\r",
      " 99%|███████████████████████████████████████████████████████████████████████▉ | 98502/100000 [2:17:10<02:51,  8.73it/s]"
     ]
    },
    {
     "name": "stdout",
     "output_type": "stream",
     "text": [
      "self.evaluation_deque: deque([0.4484322835563165, 0.7431413750532305, 0.48448421454960605, 0.781519898831968, 0.5095740240050108, 0.6771059160947656, 0.7199640255650868, 0.6963126352090815, 0.671128507921628, 0.6304162902417209, 0.8766789182721447, 0.7545101147414361, 0.6860943891671983, 0.7875846417402886, 0.4166910463657148, 0.819927539852864, 0.46522064749774805, 0.561524467176021, 0.6423323617998754, 0.7153059989158594], maxlen=20)\n",
      "eval_mean: 0.6543974648278783\n"
     ]
    },
    {
     "name": "stderr",
     "output_type": "stream",
     "text": [
      "\r",
      " 99%|███████████████████████████████████████████████████████████████████████▉ | 98578/100000 [2:17:16<02:27,  9.67it/s]"
     ]
    },
    {
     "name": "stdout",
     "output_type": "stream",
     "text": [
      "self.evaluation_deque: deque([0.4484322835563165, 0.7431413750532305, 0.48448421454960605, 0.781519898831968, 0.5095740240050108, 0.6771059160947656, 0.7199640255650868, 0.6963126352090815, 0.671128507921628, 0.6304162902417209, 0.8766789182721447, 0.7545101147414361, 0.6860943891671983, 0.7875846417402886, 0.4166910463657148, 0.819927539852864, 0.46522064749774805, 0.561524467176021, 0.6423323617998754, 0.7153059989158594], maxlen=20)\n",
      "eval_mean: 0.6543974648278783\n"
     ]
    },
    {
     "name": "stderr",
     "output_type": "stream",
     "text": [
      "\r",
      " 99%|████████████████████████████████████████████████████████████████████████ | 98654/100000 [2:17:23<02:15,  9.96it/s]"
     ]
    },
    {
     "name": "stdout",
     "output_type": "stream",
     "text": [
      "self.evaluation_deque: deque([0.4484322835563165, 0.7431413750532305, 0.48448421454960605, 0.781519898831968, 0.5095740240050108, 0.6771059160947656, 0.7199640255650868, 0.6963126352090815, 0.671128507921628, 0.6304162902417209, 0.8766789182721447, 0.7545101147414361, 0.6860943891671983, 0.7875846417402886, 0.4166910463657148, 0.819927539852864, 0.46522064749774805, 0.561524467176021, 0.6423323617998754, 0.7153059989158594], maxlen=20)\n",
      "eval_mean: 0.6543974648278783\n"
     ]
    },
    {
     "name": "stderr",
     "output_type": "stream",
     "text": [
      "\r",
      " 99%|████████████████████████████████████████████████████████████████████████ | 98730/100000 [2:17:29<01:58, 10.71it/s]"
     ]
    },
    {
     "name": "stdout",
     "output_type": "stream",
     "text": [
      "self.evaluation_deque: deque([0.4484322835563165, 0.7431413750532305, 0.48448421454960605, 0.781519898831968, 0.5095740240050108, 0.6771059160947656, 0.7199640255650868, 0.6963126352090815, 0.671128507921628, 0.6304162902417209, 0.8766789182721447, 0.7545101147414361, 0.6860943891671983, 0.7875846417402886, 0.4166910463657148, 0.819927539852864, 0.46522064749774805, 0.561524467176021, 0.6423323617998754, 0.7153059989158594], maxlen=20)\n",
      "eval_mean: 0.6543974648278783\n"
     ]
    },
    {
     "name": "stderr",
     "output_type": "stream",
     "text": [
      "\r",
      " 99%|████████████████████████████████████████████████████████████████████████▏| 98806/100000 [2:17:40<02:13,  8.98it/s]"
     ]
    },
    {
     "name": "stdout",
     "output_type": "stream",
     "text": [
      "self.get_collection_ratio(): 0.8272244509337705\n",
      "self.comms.count(True) : 3\n",
      "len(self.comms) : 3\n",
      "self.state.ratio_commed: 1.0\n",
      "self.comms.count(True) : 3\n",
      "len(self.comms) : 3\n",
      "self.evaluation_deque: deque([0.7431413750532305, 0.48448421454960605, 0.781519898831968, 0.5095740240050108, 0.6771059160947656, 0.7199640255650868, 0.6963126352090815, 0.671128507921628, 0.6304162902417209, 0.8766789182721447, 0.7545101147414361, 0.6860943891671983, 0.7875846417402886, 0.4166910463657148, 0.819927539852864, 0.46522064749774805, 0.561524467176021, 0.6423323617998754, 0.7153059989158594, 0.8272244509337705], maxlen=20)\n",
      "eval_mean: 0.673337073196751\n"
     ]
    },
    {
     "name": "stderr",
     "output_type": "stream",
     "text": [
      "\r",
      " 99%|████████████████████████████████████████████████████████████████████████▏| 98882/100000 [2:17:49<02:05,  8.91it/s]"
     ]
    },
    {
     "name": "stdout",
     "output_type": "stream",
     "text": [
      "self.evaluation_deque: deque([0.7431413750532305, 0.48448421454960605, 0.781519898831968, 0.5095740240050108, 0.6771059160947656, 0.7199640255650868, 0.6963126352090815, 0.671128507921628, 0.6304162902417209, 0.8766789182721447, 0.7545101147414361, 0.6860943891671983, 0.7875846417402886, 0.4166910463657148, 0.819927539852864, 0.46522064749774805, 0.561524467176021, 0.6423323617998754, 0.7153059989158594, 0.8272244509337705], maxlen=20)\n",
      "eval_mean: 0.673337073196751\n"
     ]
    },
    {
     "name": "stderr",
     "output_type": "stream",
     "text": [
      "\r",
      " 99%|████████████████████████████████████████████████████████████████████████▏| 98958/100000 [2:17:57<01:56,  8.95it/s]"
     ]
    },
    {
     "name": "stdout",
     "output_type": "stream",
     "text": [
      "self.evaluation_deque: deque([0.7431413750532305, 0.48448421454960605, 0.781519898831968, 0.5095740240050108, 0.6771059160947656, 0.7199640255650868, 0.6963126352090815, 0.671128507921628, 0.6304162902417209, 0.8766789182721447, 0.7545101147414361, 0.6860943891671983, 0.7875846417402886, 0.4166910463657148, 0.819927539852864, 0.46522064749774805, 0.561524467176021, 0.6423323617998754, 0.7153059989158594, 0.8272244509337705], maxlen=20)\n",
      "eval_mean: 0.673337073196751\n"
     ]
    },
    {
     "name": "stderr",
     "output_type": "stream",
     "text": [
      "\r",
      " 99%|████████████████████████████████████████████████████████████████████████▎| 99034/100000 [2:18:05<01:42,  9.38it/s]"
     ]
    },
    {
     "name": "stdout",
     "output_type": "stream",
     "text": [
      "self.evaluation_deque: deque([0.7431413750532305, 0.48448421454960605, 0.781519898831968, 0.5095740240050108, 0.6771059160947656, 0.7199640255650868, 0.6963126352090815, 0.671128507921628, 0.6304162902417209, 0.8766789182721447, 0.7545101147414361, 0.6860943891671983, 0.7875846417402886, 0.4166910463657148, 0.819927539852864, 0.46522064749774805, 0.561524467176021, 0.6423323617998754, 0.7153059989158594, 0.8272244509337705], maxlen=20)\n",
      "eval_mean: 0.673337073196751\n"
     ]
    },
    {
     "name": "stderr",
     "output_type": "stream",
     "text": [
      "\r",
      " 99%|████████████████████████████████████████████████████████████████████████▎| 99110/100000 [2:18:13<01:35,  9.34it/s]"
     ]
    },
    {
     "name": "stdout",
     "output_type": "stream",
     "text": [
      "self.evaluation_deque: deque([0.7431413750532305, 0.48448421454960605, 0.781519898831968, 0.5095740240050108, 0.6771059160947656, 0.7199640255650868, 0.6963126352090815, 0.671128507921628, 0.6304162902417209, 0.8766789182721447, 0.7545101147414361, 0.6860943891671983, 0.7875846417402886, 0.4166910463657148, 0.819927539852864, 0.46522064749774805, 0.561524467176021, 0.6423323617998754, 0.7153059989158594, 0.8272244509337705], maxlen=20)\n",
      "eval_mean: 0.673337073196751\n"
     ]
    },
    {
     "name": "stderr",
     "output_type": "stream",
     "text": [
      "\r",
      " 99%|████████████████████████████████████████████████████████████████████████▍| 99186/100000 [2:18:23<01:32,  8.78it/s]"
     ]
    },
    {
     "name": "stdout",
     "output_type": "stream",
     "text": [
      "self.get_collection_ratio(): 0.4554245925914609\n",
      "self.comms.count(True) : 1\n",
      "len(self.comms) : 1\n",
      "self.state.ratio_commed: 1.0\n",
      "self.comms.count(True) : 1\n",
      "len(self.comms) : 1\n",
      "self.evaluation_deque: deque([0.48448421454960605, 0.781519898831968, 0.5095740240050108, 0.6771059160947656, 0.7199640255650868, 0.6963126352090815, 0.671128507921628, 0.6304162902417209, 0.8766789182721447, 0.7545101147414361, 0.6860943891671983, 0.7875846417402886, 0.4166910463657148, 0.819927539852864, 0.46522064749774805, 0.561524467176021, 0.6423323617998754, 0.7153059989158594, 0.8272244509337705, 0.4554245925914609], maxlen=20)\n",
      "eval_mean: 0.6589512340736625\n"
     ]
    },
    {
     "name": "stderr",
     "output_type": "stream",
     "text": [
      "\r",
      " 99%|████████████████████████████████████████████████████████████████████████▍| 99262/100000 [2:18:30<01:19,  9.30it/s]"
     ]
    },
    {
     "name": "stdout",
     "output_type": "stream",
     "text": [
      "self.evaluation_deque: deque([0.48448421454960605, 0.781519898831968, 0.5095740240050108, 0.6771059160947656, 0.7199640255650868, 0.6963126352090815, 0.671128507921628, 0.6304162902417209, 0.8766789182721447, 0.7545101147414361, 0.6860943891671983, 0.7875846417402886, 0.4166910463657148, 0.819927539852864, 0.46522064749774805, 0.561524467176021, 0.6423323617998754, 0.7153059989158594, 0.8272244509337705, 0.4554245925914609], maxlen=20)\n",
      "eval_mean: 0.6589512340736625\n"
     ]
    },
    {
     "name": "stderr",
     "output_type": "stream",
     "text": [
      "\r",
      " 99%|████████████████████████████████████████████████████████████████████████▌| 99338/100000 [2:18:37<01:07,  9.74it/s]"
     ]
    },
    {
     "name": "stdout",
     "output_type": "stream",
     "text": [
      "self.evaluation_deque: deque([0.48448421454960605, 0.781519898831968, 0.5095740240050108, 0.6771059160947656, 0.7199640255650868, 0.6963126352090815, 0.671128507921628, 0.6304162902417209, 0.8766789182721447, 0.7545101147414361, 0.6860943891671983, 0.7875846417402886, 0.4166910463657148, 0.819927539852864, 0.46522064749774805, 0.561524467176021, 0.6423323617998754, 0.7153059989158594, 0.8272244509337705, 0.4554245925914609], maxlen=20)\n",
      "eval_mean: 0.6589512340736625\n"
     ]
    },
    {
     "name": "stderr",
     "output_type": "stream",
     "text": [
      "\r",
      " 99%|████████████████████████████████████████████████████████████████████████▌| 99414/100000 [2:18:44<00:59,  9.90it/s]"
     ]
    },
    {
     "name": "stdout",
     "output_type": "stream",
     "text": [
      "self.evaluation_deque: deque([0.48448421454960605, 0.781519898831968, 0.5095740240050108, 0.6771059160947656, 0.7199640255650868, 0.6963126352090815, 0.671128507921628, 0.6304162902417209, 0.8766789182721447, 0.7545101147414361, 0.6860943891671983, 0.7875846417402886, 0.4166910463657148, 0.819927539852864, 0.46522064749774805, 0.561524467176021, 0.6423323617998754, 0.7153059989158594, 0.8272244509337705, 0.4554245925914609], maxlen=20)\n",
      "eval_mean: 0.6589512340736625\n"
     ]
    }
   ],
   "source": [
    "import argparse\n",
    "import os\n",
    "\n",
    "import import_ipynb\n",
    "from MainEnvironment_test1 import EnvironmentParams, Environment\n",
    "\n",
    "from Utils_test1 import *\n",
    "\n",
    "if __name__ == \"__main__\":\n",
    "\n",
    "    parser = argparse.ArgumentParser()\n",
    "    parser.add_argument('--gpu', action='store_true', help='Activates usage of GPU')\n",
    "    parser.add_argument('--generate_config', action='store_true', help='Enable to write default config only')\n",
    "    #parser.add_argument('--config', default=None, help='Path to config file')\n",
    "    parser.add_argument('--config', default='config/grid_image.json', help='Path to config file')\n",
    "    parser.add_argument('--id', default='grid_image', help='Overrides the logfile name and the save name')\n",
    "\n",
    "    #args = parser.parse_args()\n",
    "    args = parser.parse_args(args=[])\n",
    "\n",
    "    if args.generate_config:\n",
    "        generate_config(EnvironmentParams(), \"config/default.json\")\n",
    "        exit(0)\n",
    "\n",
    "    if args.config is None:\n",
    "        print(\"Config file needed!\")\n",
    "        exit(1)\n",
    "\n",
    "    if not args.gpu:\n",
    "        os.environ[\"CUDA_VISIBLE_DEVICES\"] = \"-1\"\n",
    "\n",
    "    params = read_config(args.config)\n",
    "\n",
    "    if args.id is not None:\n",
    "        params.model_stats_params.save_model = \"models/\" + args.id\n",
    "        params.model_stats_params.log_file_name = args.id\n",
    "\n",
    "    env = Environment(params)\n",
    "    ###\n",
    "    #env.agent.load_weights('C:/Users/ksshin/Documents/성민철/UAV/source_code/models/grid_image_unfinished')\n",
    "    #env.agent.load_weights('C:/Users/ksshin/Documents/성민철/UAV/source_code/temp/grid_image_best')    \n",
    "\n",
    "    env.run()"
   ]
  },
  {
   "cell_type": "code",
   "execution_count": null,
   "id": "5cdd7e27",
   "metadata": {},
   "outputs": [],
   "source": []
  },
  {
   "cell_type": "code",
   "execution_count": null,
   "id": "10784bd3",
   "metadata": {},
   "outputs": [],
   "source": []
  }
 ],
 "metadata": {
  "kernelspec": {
   "display_name": "Python 3",
   "language": "python",
   "name": "python3"
  },
  "language_info": {
   "codemirror_mode": {
    "name": "ipython",
    "version": 3
   },
   "file_extension": ".py",
   "mimetype": "text/x-python",
   "name": "python",
   "nbconvert_exporter": "python",
   "pygments_lexer": "ipython3",
   "version": "3.8.8"
  }
 },
 "nbformat": 4,
 "nbformat_minor": 5
}
