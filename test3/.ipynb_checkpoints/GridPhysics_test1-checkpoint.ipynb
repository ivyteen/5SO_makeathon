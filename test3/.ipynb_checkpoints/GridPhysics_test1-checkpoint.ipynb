{
 "cells": [
  {
   "cell_type": "code",
   "execution_count": 1,
   "id": "bee82706",
   "metadata": {},
   "outputs": [
    {
     "name": "stdout",
     "output_type": "stream",
     "text": [
      "importing Jupyter notebook from GridActions_stage.ipynb\n"
     ]
    }
   ],
   "source": [
    "import import_ipynb\n",
    "from GridActions_test1 import GridActions\n",
    "\n",
    "\n",
    "class GridPhysics:\n",
    "    def __init__(self):\n",
    "        self.landing_attempts = 0\n",
    "        self.boundary_counter = 0\n",
    "        self.charging_attempts = 0\n",
    "        self.system_reward = 300\n",
    "        self.state = None #state : state.ipynb에서 가져온 듯\n",
    "\n",
    "        \n",
    "    def movement_step(self, action: GridActions):\n",
    "        old_position = self.state.position  #active_agent의 수 만큼 position 가져 옴\n",
    "        x, y = old_position\n",
    "\n",
    "        if action == GridActions.NORTH:\n",
    "            y += 1\n",
    "        elif action == GridActions.SOUTH:\n",
    "            y -= 1\n",
    "        elif action == GridActions.WEST:\n",
    "            x -= 1\n",
    "        elif action == GridActions.EAST:\n",
    "            x += 1\n",
    "        elif action == GridActions.LAND:\n",
    "            self.landing_attempts += 1\n",
    "            if self.state.is_in_landing_zone():\n",
    "                #땅이면 1, 아니면 0 리턴, State.ipynb에서 나옴\n",
    "                self.state.set_landed(True)   #이를 통해 해당하는 active_agent는 False에서 True로 바뀐다.\n",
    "                                              #즉, 그 agent는 착륙했다는 것을 의미\n",
    "        ###\n",
    "        \n",
    "        self.state.set_position([x, y])\n",
    "        \n",
    "        if self.state.is_in_no_fly_zone():\n",
    "        #if self.state.is_in_no_fly_zone():\n",
    "            # Reset state\n",
    "            self.boundary_counter += 1\n",
    "            x, y = old_position\n",
    "            self.state.set_position([x, y])\n",
    "            \n",
    "        self.state.decrement_movement_budget()\n",
    "        \n",
    "        if self.state.is_in_landing_zone() and not self.state.movement_budget == 0 and self.state.movement_budget < self.state.initial_movement_budget * 0.3 and action == GridActions.HOVER:\n",
    "            self.state.increment_movement_budget()  \n",
    "            self.charging_attempts += 1\n",
    "  #          print('charging!!!!!!')\n",
    "                           \n",
    "        if self.state.num_com >= self.system_reward:\n",
    "            self.state.set_commed(True)\n",
    "            \n",
    "            \n",
    "        self.state.set_terminal(\n",
    "            self.state.commed or (self.state.movement_budget == 0) \n",
    "                              #or (self.charging_attempts > 100)\n",
    "        ) \n",
    "\n",
    "        #그 agent가 착륙해있거나 남아있는 movement_budget == 0이 되면 True 리턴\n",
    "#       def set_terminal(self, terminal):\n",
    "#           self.terminals[self.active_agent] = terminal(self.terminals = [False] in __init__)\n",
    "\n",
    "        return x, y\n",
    "\n",
    "    def reset(self, state):\n",
    "        self.charging_attempts = 0\n",
    "        self.boundary_counter = 0\n",
    "        self.state = state"
   ]
  }
 ],
 "metadata": {
  "kernelspec": {
   "display_name": "Python 3",
   "language": "python",
   "name": "python3"
  },
  "language_info": {
   "codemirror_mode": {
    "name": "ipython",
    "version": 3
   },
   "file_extension": ".py",
   "mimetype": "text/x-python",
   "name": "python",
   "nbconvert_exporter": "python",
   "pygments_lexer": "ipython3",
   "version": "3.8.8"
  }
 },
 "nbformat": 4,
 "nbformat_minor": 5
}
