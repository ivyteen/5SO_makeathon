{
 "cells": [
  {
   "cell_type": "code",
   "execution_count": 1,
   "id": "8302a7e1",
   "metadata": {},
   "outputs": [
    {
     "name": "stdout",
     "output_type": "stream",
     "text": [
      "importing Jupyter notebook from State_stage.ipynb\n",
      "importing Jupyter notebook from Map_stage.ipynb\n",
      "importing Jupyter notebook from StateUtils_stage.ipynb\n",
      "importing Jupyter notebook from BaseState_stage.ipynb\n",
      "importing Jupyter notebook from GridActions_stage.ipynb\n",
      "importing Jupyter notebook from GridRewards_stage.ipynb\n"
     ]
    }
   ],
   "source": [
    "import import_ipynb\n",
    "from State_stage import State\n",
    "from GridActions_stage import GridActions\n",
    "from GridRewards_stage import GridRewards, GridRewardParams\n",
    "\n",
    "\n",
    "class RewardParams(GridRewardParams):\n",
    "    def __init__(self):\n",
    "        super().__init__()\n",
    "        self.data_multiplier = 0.8\n",
    "\n",
    "\n",
    "# Class used to track rewards\n",
    "class Rewards(GridRewards):\n",
    "    cumulative_reward: float = 0.0\n",
    "\n",
    "    def __init__(self, reward_params: RewardParams, stats):\n",
    "        super().__init__(stats)\n",
    "        self.params = reward_params\n",
    "        self.reset()\n",
    "\n",
    "    def calculate_reward(self, state: State, action: GridActions, next_state: State):\n",
    "        reward = self.calculate_motion_rewards(state, action, next_state)\n",
    "\n",
    "        # Reward the collected data\n",
    "        reward += self.params.data_multiplier * (state.get_remaining_data() - next_state.get_remaining_data())\n",
    "\n",
    "        #print((state.get_remaining_data() - next_state.get_remaining_data()))\n",
    "        # Cumulative reward\n",
    "        #print('collected_data =', (state.get_remaining_data() - next_state.get_remaining_data()))\n",
    "        self.cumulative_reward += reward\n",
    "\n",
    "        return reward"
   ]
  }
 ],
 "metadata": {
  "kernelspec": {
   "display_name": "Python 3",
   "language": "python",
   "name": "python3"
  },
  "language_info": {
   "codemirror_mode": {
    "name": "ipython",
    "version": 3
   },
   "file_extension": ".py",
   "mimetype": "text/x-python",
   "name": "python",
   "nbconvert_exporter": "python",
   "pygments_lexer": "ipython3",
   "version": "3.8.8"
  }
 },
 "nbformat": 4,
 "nbformat_minor": 5
}
