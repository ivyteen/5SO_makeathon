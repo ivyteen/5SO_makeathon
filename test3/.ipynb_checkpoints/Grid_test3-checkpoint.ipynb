{
 "cells": [
  {
   "cell_type": "code",
   "execution_count": 1,
   "id": "277bf999",
   "metadata": {},
   "outputs": [
    {
     "name": "stdout",
     "output_type": "stream",
     "text": [
      "importing Jupyter notebook from DeviceManager_test2.ipynb\n",
      "importing Jupyter notebook from IoTDevice_test2.ipynb\n",
      "importing Jupyter notebook from State_test2.ipynb\n",
      "importing Jupyter notebook from Map_test2.ipynb\n",
      "importing Jupyter notebook from StateUtils_test2.ipynb\n",
      "importing Jupyter notebook from BaseState_test2.ipynb\n",
      "importing Jupyter notebook from GridActions_test2.ipynb\n",
      "importing Jupyter notebook from BaseGrid_test2.ipynb\n",
      "importing Jupyter notebook from ModelStats_test2.ipynb\n"
     ]
    }
   ],
   "source": [
    "import numpy as np\n",
    "import import_ipynb\n",
    "\n",
    "from DeviceManager_test3 import DeviceManagerParams, DeviceManager\n",
    "from State_test3 import State\n",
    "from BaseGrid_test3 import BaseGrid, BaseGridParams\n",
    "\n",
    "\n",
    "class GridParams(BaseGridParams):\n",
    "    def __init__(self):\n",
    "        super().__init__()\n",
    "        self.num_agents_range = [1, 1]\n",
    "        self.device_manager = DeviceManagerParams()\n",
    "        self.multi_agent = True\n",
    "        self.start_end_area = [0, 2]\n",
    "        self.tour_x_position = [3, 4, 5, 6, 6, 6, 7, 7, 8, 8, 9, 10, 11, 11, 12, 12, 13, 14, 14, 15,\n",
    "                                15, 16, 17, 18, 18, 19, 20, 20, 21, 22, 23, 10, 14, 10, 11, 11, 14, 15,\n",
    "                               16, 17, 17, 18, 18, 19, 20, 21, 21, 22, 22, 22, 22, 23, 23, 24, 14, 27,\n",
    "                               28, 27, 28, 31] \n",
    "        self.tour_y_position = [5, 5, 5, 5, 4, 3, 3, 2, 2, 1, 1, 1, 1, 2, 2, 3, 3, 3, 4, 4, 5, 5, 5, 5, 6,\n",
    "                               6, 6, 7, 7, 7, 7, 8, 11, 9, 11, 14, 14, 12, 12, 12, 13, 13, 14, 14, 14, 14, 13, \n",
    "                                13, 12, 11, 10, 10, 9, 9, 26, 7, 7, 8, 8, 7]        \n",
    "        self.tour_count_range = [0, 26, 32, 60]\n",
    "        \n",
    "        \n",
    "        \n",
    "        # When changing tour position, def collect_data of IoTDeivce, ColorMap and tour_count_range of DeviceManager as well.\n",
    "\n",
    "class Grid(BaseGrid):\n",
    "\n",
    "    def __init__(self, params: GridParams, stats):\n",
    "        super().__init__(params, stats)\n",
    "        self.params = params\n",
    "        if params.multi_agent:\n",
    "            self.num_agents = params.num_agents_range[0] \n",
    "        else:\n",
    "            self.num_agents = 1\n",
    "         \n",
    "        self.device_list = None\n",
    "        self.device_manager = DeviceManager(self.params.device_manager)\n",
    "        \n",
    "        self.tour_positions = []\n",
    "        for _ in zip(self.params.tour_x_position, self.params.tour_y_position):\n",
    "            self.tour_positions.append(_)  \n",
    "   \n",
    "    def init_episode(self):\n",
    "        \n",
    "        tour_counts = np.random.choice(self.params.tour_count_range)\n",
    "        #print('self.tour_counts', self.tour_counts)\n",
    "        tour_count = [tour_counts]\n",
    "        \n",
    "        if tour_count == [26]:\n",
    "            tour_position = self.tour_positions[33:]\n",
    "            #print('tour_count 26', tour_position)\n",
    "            #print('26', self.tour_positions)\n",
    "        elif tour_count == [32]:    \n",
    "            tour_position = self.tour_positions[:33]\n",
    "            #print('tour_count 32', tour_position)\n",
    "            #print('32', self.tour_positions)\n",
    "        elif tour_count == [60]:\n",
    "            tour_position = self.tour_positions\n",
    "            #print('tour_count 60', tour_position)\n",
    "        else :\n",
    "            tour_position = []\n",
    "            #print('tour_count 0', tour_position)\n",
    "                       \n",
    "        self.device_list = self.device_manager.generate_device_list(tour_position, tour_count)\n",
    "        #print('self.tour_positions', self.tour_positions)\n",
    "\n",
    "        if self.params.multi_agent:\n",
    "            self.num_agents = int(np.random.randint(low=self.params.num_agents_range[0],\n",
    "                                                    high=self.params.num_agents_range[1] + 1, size=1))\n",
    "        else:\n",
    "            self.num_agents = 1\n",
    "        #self.num_agents = 1   \n",
    "        state = State(self.map_image, self.num_agents, self.params.multi_agent)\n",
    "        state.reset_devices(self.device_list)\n",
    "        state.reset_tough()\n",
    "        state.set_tour_count(tour_count)##########################\n",
    "                \n",
    "        idx = np.random.choice(len(self.starting_vector), size=self.num_agents, replace=False) #idx : [0], [1], [2], ,,, [7]\n",
    "        idx_integar = idx[0]\n",
    "        \n",
    "        index_range = []\n",
    "        if self.params.start_end_area[0] != self.params.start_end_area[1]:\n",
    "            k = np.arange(self.params.start_end_area[0], self.params.start_end_area[1] + 1)\n",
    "            index = k[idx_integar] \n",
    "        else :\n",
    "            for _ in range(len(self.starting_vector)):\n",
    "                index_range.append(self.params.start_end_area[0])    \n",
    "            index = index_range[idx_integar] \n",
    "        \n",
    "        state.positions = [self.starting_vector[i] for i in [index]] # 여기는 [2] [2,3] 이런 형식으로 되어야한다\n",
    "      #  print('state.positions', state.positions)\n",
    "        \n",
    "        state.initial_positions = state.positions.copy()\n",
    "\n",
    "       # state.destination = self.starting_vector\n",
    "\n",
    "      #  print('state.initial_positions', state.initial_positions )\n",
    "\n",
    "        #whenever reseting episode, the starting_vector is different according to 'idx'\n",
    "\n",
    "        state.movement_budgets = np.random.randint(low=self.params.movement_range[0],\n",
    "                                                   high=self.params.movement_range[1] + 1, size=self.num_agents)\n",
    "\n",
    "        state.initial_movement_budgets = state.movement_budgets.copy()\n",
    "\n",
    "        return state\n",
    "\n",
    "    def init_scenario(self, scenario):\n",
    "        self.device_list = scenario.device_list\n",
    "        self.num_agents = scenario.init_state.num_agents\n",
    "\n",
    "        return scenario.init_state\n",
    "\n",
    "    def get_example_state(self):\n",
    "        if self.params.multi_agent:\n",
    "            num_agents = self.params.num_agents_range[0]\n",
    "        else:\n",
    "            num_agents = 1\n",
    "        state = State(self.map_image, num_agents, self.params.multi_agent)\n",
    "        #state.device_map = np.zeros(self.shape, dtype=float)\n",
    "        #state.collected = np.zeros(self.shape, dtype=float)\n",
    "        return state"
   ]
  },
  {
   "cell_type": "code",
   "execution_count": 3,
   "id": "09e650aa",
   "metadata": {},
   "outputs": [],
   "source": [
    "#import numpy as np\n",
    "#area = [0,7]\n",
    "#length = 8\n",
    "#wow = []\n",
    "#if area[0] != area[1]:\n",
    "#    k = np.arange(area[0], area[1] + 1)\n",
    "#    print(k, len(k))\n",
    "#else :\n",
    "#    for u in range(length):\n",
    "#        wow.append(area[0])    \n",
    "#    print(wow, len(wow))"
   ]
  },
  {
   "cell_type": "code",
   "execution_count": 39,
   "id": "fbade825",
   "metadata": {
    "scrolled": true
   },
   "outputs": [
    {
     "data": {
      "text/plain": [
       "33"
      ]
     },
     "execution_count": 39,
     "metadata": {},
     "output_type": "execute_result"
    }
   ],
   "source": [
    "#tour_x_position = [3, 4, 5, 6, 6, 6, 7, 7, 8, 8, 9, 10, 11, 11, 12, 12, 13, 14, 14, 15,\n",
    "#                                15, 16, 17, 18, 18, 19, 20, 20, 21, 22, 23, 10, 14, 10, 11, 11, 14, 15,\n",
    "#                               16, 17, 17, 18, 18, 19, 20, 21, 21, 22, 22, 22, 22, 23, 23, 24, 14, 27,\n",
    "#                               28, 27, 28, 31] # (15, 13)\n",
    "#tour_y_position = [5, 5, 5, 5, 4, 3, 3, 2, 2, 1, 1, 1, 1, 2, 2, 3, 3, 3, 4, 4, 5, 5, 5, 5, 6,\n",
    "#                               6, 6, 7, 7, 7, 7, 8, 11, 9, 11, 14, 14, 12, 12, 12, 13, 13, 14, 14, 14, 14, 13, \n",
    "#                                13, 12, 11, 10, 10, 9, 9, 26, 7, 7, 8, 8, 7] \n",
    "#tour_positions = []\n",
    "#for _ in zip(tour_x_position, tour_y_position):\n",
    "#        tour_positions.append(_)\n",
    "#len(tour_positions)\n",
    "#len(tour_positions[:33])"
   ]
  },
  {
   "cell_type": "code",
   "execution_count": 40,
   "id": "7f8b737d",
   "metadata": {},
   "outputs": [
    {
     "data": {
      "text/plain": [
       "27"
      ]
     },
     "execution_count": 40,
     "metadata": {},
     "output_type": "execute_result"
    }
   ],
   "source": [
    "#len(tour_positions[33:])"
   ]
  },
  {
   "cell_type": "code",
   "execution_count": 38,
   "id": "6fa41088",
   "metadata": {
    "collapsed": true
   },
   "outputs": [
    {
     "data": {
      "text/plain": [
       "[(3, 5),\n",
       " (4, 5),\n",
       " (5, 5),\n",
       " (6, 5),\n",
       " (6, 4),\n",
       " (6, 3),\n",
       " (7, 3),\n",
       " (7, 2),\n",
       " (8, 2),\n",
       " (8, 1),\n",
       " (9, 1),\n",
       " (10, 1),\n",
       " (11, 1),\n",
       " (11, 2),\n",
       " (12, 2),\n",
       " (12, 3),\n",
       " (13, 3),\n",
       " (14, 3),\n",
       " (14, 4),\n",
       " (15, 4),\n",
       " (15, 5),\n",
       " (16, 5),\n",
       " (17, 5),\n",
       " (18, 5),\n",
       " (18, 6),\n",
       " (19, 6),\n",
       " (20, 6),\n",
       " (20, 7),\n",
       " (21, 7),\n",
       " (22, 7),\n",
       " (23, 7),\n",
       " (10, 8),\n",
       " (14, 11),\n",
       " (10, 9),\n",
       " (11, 11),\n",
       " (11, 14),\n",
       " (14, 14),\n",
       " (15, 12),\n",
       " (16, 12),\n",
       " (17, 12),\n",
       " (17, 13),\n",
       " (18, 13),\n",
       " (18, 14),\n",
       " (19, 14),\n",
       " (20, 14),\n",
       " (21, 14),\n",
       " (21, 13),\n",
       " (22, 13),\n",
       " (22, 12),\n",
       " (22, 11),\n",
       " (22, 10),\n",
       " (23, 10),\n",
       " (23, 9),\n",
       " (24, 9),\n",
       " (14, 26),\n",
       " (27, 7),\n",
       " (28, 7),\n",
       " (27, 8),\n",
       " (28, 8),\n",
       " (31, 7)]"
      ]
     },
     "execution_count": 38,
     "metadata": {},
     "output_type": "execute_result"
    }
   ],
   "source": [
    "#tour_positions[:]"
   ]
  }
 ],
 "metadata": {
  "kernelspec": {
   "display_name": "Python 3",
   "language": "python",
   "name": "python3"
  },
  "language_info": {
   "codemirror_mode": {
    "name": "ipython",
    "version": 3
   },
   "file_extension": ".py",
   "mimetype": "text/x-python",
   "name": "python",
   "nbconvert_exporter": "python",
   "pygments_lexer": "ipython3",
   "version": "3.8.8"
  }
 },
 "nbformat": 4,
 "nbformat_minor": 5
}
