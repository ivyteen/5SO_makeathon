{
 "cells": [
  {
   "cell_type": "code",
   "execution_count": 1,
   "id": "15addf1c",
   "metadata": {},
   "outputs": [],
   "source": [
    "import tensorflow as tf\n",
    "\n",
    "config = tf.compat.v1.ConfigProto()\n",
    "config.gpu_options.allow_growth = True\n",
    "session = tf.compat.v1.Session(config=config)"
   ]
  },
  {
   "cell_type": "code",
   "execution_count": 2,
   "id": "d575b9fc",
   "metadata": {},
   "outputs": [],
   "source": [
    "from tensorflow.compat.v1 import ConfigProto\n",
    "from tensorflow.compat.v1 import InteractiveSession\n",
    "config = ConfigProto()\n",
    "config.gpu_options.allow_growth = True\n",
    "session = InteractiveSession(config = config)"
   ]
  },
  {
   "cell_type": "code",
   "execution_count": 3,
   "id": "75d12f77",
   "metadata": {},
   "outputs": [
    {
     "name": "stdout",
     "output_type": "stream",
     "text": [
      "WARNING:tensorflow:From <ipython-input-3-17bb7203622b>:1: is_gpu_available (from tensorflow.python.framework.test_util) is deprecated and will be removed in a future version.\n",
      "Instructions for updating:\n",
      "Use `tf.config.list_physical_devices('GPU')` instead.\n"
     ]
    },
    {
     "data": {
      "text/plain": [
       "True"
      ]
     },
     "execution_count": 3,
     "metadata": {},
     "output_type": "execute_result"
    }
   ],
   "source": [
    "tf.test.is_gpu_available()"
   ]
  },
  {
   "cell_type": "code",
   "execution_count": 4,
   "id": "3a559ddd",
   "metadata": {},
   "outputs": [
    {
     "name": "stdout",
     "output_type": "stream",
     "text": [
      "[name: \"/device:CPU:0\"\n",
      "device_type: \"CPU\"\n",
      "memory_limit: 268435456\n",
      "locality {\n",
      "}\n",
      "incarnation: 3278197356457638550\n",
      ", name: \"/device:GPU:0\"\n",
      "device_type: \"GPU\"\n",
      "memory_limit: 6946941824\n",
      "locality {\n",
      "  bus_id: 1\n",
      "  links {\n",
      "  }\n",
      "}\n",
      "incarnation: 11082077777440560890\n",
      "physical_device_desc: \"device: 0, name: Quadro RTX 4000, pci bus id: 0000:b3:00.0, compute capability: 7.5\"\n",
      "]\n"
     ]
    }
   ],
   "source": [
    "import tensorflow\n",
    "from tensorflow.python.client import device_lib\n",
    "print(device_lib.list_local_devices())"
   ]
  },
  {
   "cell_type": "code",
   "execution_count": 1,
   "id": "ee965456",
   "metadata": {},
   "outputs": [
    {
     "name": "stdout",
     "output_type": "stream",
     "text": [
      "importing Jupyter notebook from MainEnvironment_stage.ipynb\n",
      "importing Jupyter notebook from Agent_stage.ipynb\n",
      "importing Jupyter notebook from Trainer_stage.ipynb\n",
      "importing Jupyter notebook from ReplayMemory_stage.ipynb\n",
      "importing Jupyter notebook from Display_stage.ipynb\n",
      "importing Jupyter notebook from Map_stage.ipynb\n",
      "importing Jupyter notebook from BaseDisplay_stage.ipynb\n",
      "importing Jupyter notebook from Grid_stage.ipynb\n",
      "importing Jupyter notebook from DeviceManager_stage.ipynb\n",
      "importing Jupyter notebook from IoTDevice_stage.ipynb\n",
      "importing Jupyter notebook from Channel_stage.ipynb\n",
      "importing Jupyter notebook from Shadowing_stage.ipynb\n",
      "importing Jupyter notebook from State_stage.ipynb\n",
      "importing Jupyter notebook from StateUtils_stage.ipynb\n",
      "importing Jupyter notebook from BaseState_stage.ipynb\n",
      "importing Jupyter notebook from BaseGrid_stage.ipynb\n",
      "importing Jupyter notebook from ModelStats_stage.ipynb\n",
      "importing Jupyter notebook from Physics_stage.ipynb\n",
      "importing Jupyter notebook from GridActions_stage.ipynb\n",
      "importing Jupyter notebook from GridPhysics_stage.ipynb\n",
      "importing Jupyter notebook from Rewards_stage.ipynb\n",
      "importing Jupyter notebook from GridRewards_stage.ipynb\n",
      "importing Jupyter notebook from Environment_stage.ipynb\n",
      "importing Jupyter notebook from Utils_stage.ipynb\n",
      "Parse Params file here from  config/grid_image.json  and pass into main\n",
      "logs/training/grid_image already exists.\n",
      "Override log file? [Y/n]\n",
      "1\n",
      "Deleting old log dir\n"
     ]
    },
    {
     "name": "stderr",
     "output_type": "stream",
     "text": [
      "\r",
      "  0%|                                                                                         | 0/1000 [00:00<?, ?it/s]"
     ]
    },
    {
     "name": "stdout",
     "output_type": "stream",
     "text": [
      "Model: \"model_6\"\n",
      "__________________________________________________________________________________________________\n",
      "Layer (type)                    Output Shape         Param #     Connected to                     \n",
      "==================================================================================================\n",
      "boolean_map_input (InputLayer)  [(None, 63, 63, 4)]  0                                            \n",
      "__________________________________________________________________________________________________\n",
      "tf.cast (TFOpLambda)            (None, 63, 63, 4)    0           boolean_map_input[0][0]          \n",
      "__________________________________________________________________________________________________\n",
      "float_map_input (InputLayer)    [(None, 63, 63, 2)]  0                                            \n",
      "__________________________________________________________________________________________________\n",
      "tf.concat (TFOpLambda)          (None, 63, 63, 6)    0           tf.cast[0][0]                    \n",
      "                                                                 float_map_input[0][0]            \n",
      "__________________________________________________________________________________________________\n",
      "average_pooling2d (AveragePooli (None, 21, 21, 6)    0           tf.concat[0][0]                  \n",
      "__________________________________________________________________________________________________\n",
      "tf.image.central_crop (TFOpLamb (None, 17, 17, 6)    0           tf.concat[0][0]                  \n",
      "__________________________________________________________________________________________________\n",
      "tf.stop_gradient (TFOpLambda)   (None, 21, 21, 6)    0           average_pooling2d[0][0]          \n",
      "__________________________________________________________________________________________________\n",
      "tf.stop_gradient_1 (TFOpLambda) (None, 17, 17, 6)    0           tf.image.central_crop[0][0]      \n",
      "__________________________________________________________________________________________________\n",
      "global_conv_1 (Conv2D)          (None, 17, 17, 16)   2416        tf.stop_gradient[0][0]           \n",
      "__________________________________________________________________________________________________\n",
      "local_conv_1 (Conv2D)           (None, 13, 13, 16)   2416        tf.stop_gradient_1[0][0]         \n",
      "__________________________________________________________________________________________________\n",
      "global_conv_2 (Conv2D)          (None, 13, 13, 16)   6416        global_conv_1[0][0]              \n",
      "__________________________________________________________________________________________________\n",
      "local_conv_2 (Conv2D)           (None, 9, 9, 16)     6416        local_conv_1[0][0]               \n",
      "__________________________________________________________________________________________________\n",
      "global_flatten (Flatten)        (None, 2704)         0           global_conv_2[0][0]              \n",
      "__________________________________________________________________________________________________\n",
      "local_flatten (Flatten)         (None, 1296)         0           local_conv_2[0][0]               \n",
      "__________________________________________________________________________________________________\n",
      "concat_flatten (Concatenate)    (None, 4000)         0           global_flatten[0][0]             \n",
      "                                                                 local_flatten[0][0]              \n",
      "__________________________________________________________________________________________________\n",
      "scalars_input (InputLayer)      [(None, 1)]          0                                            \n",
      "__________________________________________________________________________________________________\n",
      "termination_input (InputLayer)  [(None,)]            0                                            \n",
      "__________________________________________________________________________________________________\n",
      "concat (Concatenate)            (None, 4001)         0           concat_flatten[0][0]             \n",
      "                                                                 scalars_input[0][0]              \n",
      "__________________________________________________________________________________________________\n",
      "tf.math.logical_not (TFOpLambda (None,)              0           termination_input[0][0]          \n",
      "__________________________________________________________________________________________________\n",
      "hidden_layer_all_0 (Dense)      (None, 256)          1024512     concat[0][0]                     \n",
      "__________________________________________________________________________________________________\n",
      "tf.cast_1 (TFOpLambda)          (None,)              0           tf.math.logical_not[0][0]        \n",
      "__________________________________________________________________________________________________\n",
      "hidden_layer_all_1 (Dense)      (None, 256)          65792       hidden_layer_all_0[0][0]         \n",
      "__________________________________________________________________________________________________\n",
      "q_star_input (InputLayer)       [(None,)]            0                                            \n",
      "__________________________________________________________________________________________________\n",
      "tf.math.multiply_2 (TFOpLambda) (None,)              0           tf.cast_1[0][0]                  \n",
      "__________________________________________________________________________________________________\n",
      "hidden_layer_all_2 (Dense)      (None, 256)          65792       hidden_layer_all_1[0][0]         \n",
      "__________________________________________________________________________________________________\n",
      "reward_input (InputLayer)       [(None,)]            0                                            \n",
      "__________________________________________________________________________________________________\n",
      "tf.math.multiply_3 (TFOpLambda) (None,)              0           q_star_input[0][0]               \n",
      "                                                                 tf.math.multiply_2[0][0]         \n",
      "__________________________________________________________________________________________________\n",
      "action_input (InputLayer)       [(None,)]            0                                            \n",
      "__________________________________________________________________________________________________\n",
      "output_layer (Dense)            (None, 6)            1542        hidden_layer_all_2[0][0]         \n",
      "__________________________________________________________________________________________________\n",
      "tf.math.add (TFOpLambda)        (None,)              0           reward_input[0][0]               \n",
      "                                                                 tf.math.multiply_3[0][0]         \n",
      "__________________________________________________________________________________________________\n",
      "tf.one_hot_2 (TFOpLambda)       (None, 6)            0           action_input[0][0]               \n",
      "__________________________________________________________________________________________________\n",
      "tf.expand_dims (TFOpLambda)     (None, 1)            0           tf.math.add[0][0]                \n",
      "__________________________________________________________________________________________________\n",
      "tf.one_hot_1 (TFOpLambda)       (None, 6)            0           action_input[0][0]               \n",
      "__________________________________________________________________________________________________\n",
      "tf.math.multiply_1 (TFOpLambda) (None, 6)            0           output_layer[0][0]               \n",
      "                                                                 tf.one_hot_2[0][0]               \n",
      "__________________________________________________________________________________________________\n",
      "tf.math.multiply_4 (TFOpLambda) (None, 6)            0           tf.expand_dims[0][0]             \n",
      "                                                                 tf.one_hot_1[0][0]               \n",
      "__________________________________________________________________________________________________\n",
      "tf.stop_gradient_4 (TFOpLambda) (None, 6)            0           tf.math.multiply_1[0][0]         \n",
      "__________________________________________________________________________________________________\n",
      "tf.math.add_1 (TFOpLambda)      (None, 6)            0           tf.math.multiply_4[0][0]         \n",
      "                                                                 tf.stop_gradient_4[0][0]         \n",
      "__________________________________________________________________________________________________\n",
      "tf.convert_to_tensor (TFOpLambd (None, 6)            0           output_layer[0][0]               \n",
      "__________________________________________________________________________________________________\n",
      "tf.convert_to_tensor_1 (TFOpLam (None, 6)            0           tf.math.add_1[0][0]              \n",
      "__________________________________________________________________________________________________\n",
      "tf.convert_to_tensor_2 (TFOpLam (None, 6)            0           tf.convert_to_tensor[0][0]       \n",
      "__________________________________________________________________________________________________\n",
      "tf.cast_2 (TFOpLambda)          (None, 6)            0           tf.convert_to_tensor_1[0][0]     \n",
      "__________________________________________________________________________________________________\n",
      "tf.math.squared_difference (TFO (None, 6)            0           tf.convert_to_tensor_2[0][0]     \n",
      "                                                                 tf.cast_2[0][0]                  \n",
      "__________________________________________________________________________________________________\n",
      "tf.math.reduce_mean (TFOpLambda (None,)              0           tf.math.squared_difference[0][0] \n",
      "__________________________________________________________________________________________________\n",
      "tf.cast_3 (TFOpLambda)          (None,)              0           tf.math.reduce_mean[0][0]        \n",
      "__________________________________________________________________________________________________\n",
      "tf.math.multiply_5 (TFOpLambda) (None,)              0           tf.cast_3[0][0]                  \n",
      "__________________________________________________________________________________________________\n",
      "tf.math.reduce_sum_1 (TFOpLambd ()                   0           tf.math.multiply_5[0][0]         \n",
      "__________________________________________________________________________________________________\n",
      "tf.compat.v1.size (TFOpLambda)  ()                   0           tf.math.multiply_5[0][0]         \n",
      "__________________________________________________________________________________________________\n",
      "tf.math.reduce_sum_2 (TFOpLambd ()                   0           tf.math.reduce_sum_1[0][0]       \n",
      "__________________________________________________________________________________________________\n",
      "tf.cast_4 (TFOpLambda)          ()                   0           tf.compat.v1.size[0][0]          \n",
      "__________________________________________________________________________________________________\n",
      "tf.math.divide_no_nan (TFOpLamb ()                   0           tf.math.reduce_sum_2[0][0]       \n",
      "                                                                 tf.cast_4[0][0]                  \n",
      "__________________________________________________________________________________________________\n",
      "tf.cast_5 (TFOpLambda)          ()                   0           tf.math.divide_no_nan[0][0]      \n",
      "==================================================================================================\n",
      "Total params: 1,175,302\n",
      "Trainable params: 1,175,302\n",
      "Non-trainable params: 0\n",
      "__________________________________________________________________________________________________\n"
     ]
    },
    {
     "name": "stdout",
     "output_type": "stream",
     "text": [
      "charging!!!!!!\n",
      "charging!!!!!!\n",
      "charging!!!!!!\n",
      "charging!!!!!!\n",
      "charging!!!!!!\n",
      "charging!!!!!!\n"
     ]
    },
    {
     "name": "stderr",
     "output_type": "stream",
     "text": [
      "\r",
      "  0%|                                                                                 | 1/1000 [00:02<45:46,  2.75s/it]"
     ]
    },
    {
     "name": "stdout",
     "output_type": "stream",
     "text": [
      "self.get_collection_ratio(): 0.19528180399049302\n",
      "self.state.all_commed: True\n",
      "charging!!!!!!\n",
      "charging!!!!!!\n",
      "charging!!!!!!\n",
      "charging!!!!!!\n",
      "charging!!!!!!\n",
      "charging!!!!!!\n"
     ]
    },
    {
     "name": "stderr",
     "output_type": "stream",
     "text": [
      "\r",
      "  0%|▏                                                                                | 2/1000 [00:05<43:29,  2.62s/it]"
     ]
    },
    {
     "name": "stdout",
     "output_type": "stream",
     "text": [
      "self.get_collection_ratio(): 0.2059562046863667\n",
      "self.state.all_commed: True\n",
      "charging!!!!!!\n",
      "charging!!!!!!\n",
      "charging!!!!!!\n",
      "charging!!!!!!\n",
      "charging!!!!!!\n",
      "charging!!!!!!\n"
     ]
    },
    {
     "name": "stderr",
     "output_type": "stream",
     "text": [
      "\r",
      "  0%|▏                                                                                | 3/1000 [00:07<43:38,  2.63s/it]"
     ]
    },
    {
     "name": "stdout",
     "output_type": "stream",
     "text": [
      "self.get_collection_ratio(): 0.20350490446447458\n",
      "self.state.all_commed: True\n",
      "charging!!!!!!\n",
      "charging!!!!!!\n"
     ]
    },
    {
     "name": "stderr",
     "output_type": "stream",
     "text": [
      "\r",
      "  0%|▎                                                                                | 4/1000 [00:09<35:23,  2.13s/it]"
     ]
    },
    {
     "name": "stdout",
     "output_type": "stream",
     "text": [
      "self.get_collection_ratio(): 0.10482066849894303\n",
      "self.state.all_commed: True\n",
      "charging!!!!!!\n",
      "charging!!!!!!\n",
      "charging!!!!!!\n",
      "charging!!!!!!\n"
     ]
    },
    {
     "name": "stderr",
     "output_type": "stream",
     "text": [
      "\r",
      "  0%|▍                                                                                | 5/1000 [00:11<34:00,  2.05s/it]"
     ]
    },
    {
     "name": "stdout",
     "output_type": "stream",
     "text": [
      "self.get_collection_ratio(): 0.18119643698121493\n",
      "self.state.all_commed: True\n",
      "charging!!!!!!\n",
      "charging!!!!!!\n",
      "charging!!!!!!\n",
      "charging!!!!!!\n",
      "charging!!!!!!\n",
      "charging!!!!!!\n"
     ]
    },
    {
     "name": "stderr",
     "output_type": "stream",
     "text": [
      "\r",
      "  1%|▍                                                                                | 6/1000 [00:13<37:09,  2.24s/it]"
     ]
    },
    {
     "name": "stdout",
     "output_type": "stream",
     "text": [
      "self.get_collection_ratio(): 0.2094621000240101\n",
      "self.state.all_commed: True\n",
      "charging!!!!!!\n",
      "charging!!!!!!\n",
      "charging!!!!!!\n",
      "charging!!!!!!\n"
     ]
    },
    {
     "name": "stderr",
     "output_type": "stream",
     "text": [
      "\r",
      "  1%|▌                                                                                | 7/1000 [00:15<35:09,  2.12s/it]"
     ]
    },
    {
     "name": "stdout",
     "output_type": "stream",
     "text": [
      "self.get_collection_ratio(): 0.12022924015636095\n",
      "self.state.all_commed: True\n",
      "charging!!!!!!\n",
      "charging!!!!!!\n",
      "charging!!!!!!\n",
      "charging!!!!!!\n"
     ]
    },
    {
     "name": "stderr",
     "output_type": "stream",
     "text": [
      "\r",
      "  1%|▋                                                                                | 8/1000 [00:17<34:14,  2.07s/it]"
     ]
    },
    {
     "name": "stdout",
     "output_type": "stream",
     "text": [
      "self.get_collection_ratio(): 0.16785871416465833\n",
      "self.state.all_commed: True\n",
      "charging!!!!!!\n",
      "charging!!!!!!\n",
      "charging!!!!!!\n",
      "charging!!!!!!\n",
      "charging!!!!!!\n",
      "charging!!!!!!\n"
     ]
    },
    {
     "name": "stderr",
     "output_type": "stream",
     "text": [
      "\r",
      "  1%|▋                                                                                | 9/1000 [00:20<36:39,  2.22s/it]"
     ]
    },
    {
     "name": "stdout",
     "output_type": "stream",
     "text": [
      "self.get_collection_ratio(): 0.2017980888249418\n",
      "self.state.all_commed: True\n",
      "charging!!!!!!\n",
      "charging!!!!!!\n",
      "charging!!!!!!\n",
      "charging!!!!!!\n"
     ]
    },
    {
     "name": "stderr",
     "output_type": "stream",
     "text": [
      "\r",
      "  1%|▊                                                                               | 10/1000 [00:22<34:41,  2.10s/it]"
     ]
    },
    {
     "name": "stdout",
     "output_type": "stream",
     "text": [
      "self.get_collection_ratio(): 0.14627563887571696\n",
      "self.state.all_commed: True\n",
      "charging!!!!!!\n",
      "charging!!!!!!\n",
      "charging!!!!!!\n",
      "charging!!!!!!\n",
      "charging!!!!!!\n",
      "charging!!!!!!\n"
     ]
    },
    {
     "name": "stderr",
     "output_type": "stream",
     "text": [
      "\r",
      "  1%|▉                                                                               | 11/1000 [00:24<36:15,  2.20s/it]"
     ]
    },
    {
     "name": "stdout",
     "output_type": "stream",
     "text": [
      "self.get_collection_ratio(): 0.20532220955014913\n",
      "self.state.all_commed: True\n",
      "charging!!!!!!\n",
      "charging!!!!!!\n"
     ]
    },
    {
     "name": "stderr",
     "output_type": "stream",
     "text": [
      "\r",
      "  1%|▉                                                                               | 12/1000 [00:25<31:45,  1.93s/it]"
     ]
    },
    {
     "name": "stdout",
     "output_type": "stream",
     "text": [
      "self.get_collection_ratio(): 0.07697192087009021\n",
      "self.state.all_commed: True\n",
      "charging!!!!!!\n",
      "charging!!!!!!\n",
      "charging!!!!!!\n",
      "charging!!!!!!\n"
     ]
    },
    {
     "name": "stderr",
     "output_type": "stream",
     "text": [
      "\r",
      "  1%|█                                                                               | 13/1000 [00:27<32:30,  1.98s/it]"
     ]
    },
    {
     "name": "stdout",
     "output_type": "stream",
     "text": [
      "self.get_collection_ratio(): 0.12395226986444367\n",
      "self.state.all_commed: True\n",
      "charging!!!!!!\n",
      "charging!!!!!!\n"
     ]
    },
    {
     "name": "stderr",
     "output_type": "stream",
     "text": [
      "\r",
      "  1%|█                                                                               | 14/1000 [00:29<29:21,  1.79s/it]"
     ]
    },
    {
     "name": "stdout",
     "output_type": "stream",
     "text": [
      "self.get_collection_ratio(): 0.1134963515196373\n",
      "self.state.all_commed: True\n",
      "charging!!!!!!\n",
      "charging!!!!!!\n",
      "charging!!!!!!\n",
      "charging!!!!!!\n"
     ]
    },
    {
     "name": "stderr",
     "output_type": "stream",
     "text": [
      "\r",
      "  2%|█▏                                                                              | 15/1000 [00:31<29:55,  1.82s/it]"
     ]
    },
    {
     "name": "stdout",
     "output_type": "stream",
     "text": [
      "self.get_collection_ratio(): 0.12521200212455394\n",
      "self.state.all_commed: True\n",
      "charging!!!!!!\n",
      "charging!!!!!!\n",
      "charging!!!!!!\n",
      "charging!!!!!!\n"
     ]
    },
    {
     "name": "stderr",
     "output_type": "stream",
     "text": [
      "\r",
      "  2%|█▎                                                                              | 16/1000 [00:32<29:57,  1.83s/it]"
     ]
    },
    {
     "name": "stdout",
     "output_type": "stream",
     "text": [
      "self.get_collection_ratio(): 0.17281284328556426\n",
      "self.state.all_commed: True\n",
      "charging!!!!!!\n",
      "charging!!!!!!\n",
      "charging!!!!!!\n",
      "charging!!!!!!\n"
     ]
    },
    {
     "name": "stderr",
     "output_type": "stream",
     "text": [
      "\r",
      "  2%|█▎                                                                              | 17/1000 [00:34<30:21,  1.85s/it]"
     ]
    },
    {
     "name": "stdout",
     "output_type": "stream",
     "text": [
      "self.get_collection_ratio(): 0.17077034777218994\n",
      "self.state.all_commed: True\n",
      "charging!!!!!!\n",
      "charging!!!!!!\n"
     ]
    },
    {
     "name": "stderr",
     "output_type": "stream",
     "text": [
      "\r",
      "  2%|█▍                                                                              | 18/1000 [00:36<29:05,  1.78s/it]"
     ]
    },
    {
     "name": "stdout",
     "output_type": "stream",
     "text": [
      "self.get_collection_ratio(): 0.116571493593205\n",
      "self.state.all_commed: True\n",
      "charging!!!!!!\n",
      "charging!!!!!!\n",
      "charging!!!!!!\n",
      "charging!!!!!!\n",
      "charging!!!!!!\n",
      "charging!!!!!!\n"
     ]
    },
    {
     "name": "stderr",
     "output_type": "stream",
     "text": [
      "\r",
      "  2%|█▌                                                                              | 19/1000 [00:38<32:15,  1.97s/it]"
     ]
    },
    {
     "name": "stdout",
     "output_type": "stream",
     "text": [
      "self.get_collection_ratio(): 0.18214180867959814\n",
      "self.state.all_commed: True\n",
      "charging!!!!!!\n",
      "charging!!!!!!\n",
      "charging!!!!!!\n",
      "charging!!!!!!\n",
      "charging!!!!!!\n",
      "charging!!!!!!\n"
     ]
    },
    {
     "name": "stderr",
     "output_type": "stream",
     "text": [
      "\r",
      "  2%|█▌                                                                              | 20/1000 [00:41<34:32,  2.11s/it]"
     ]
    },
    {
     "name": "stdout",
     "output_type": "stream",
     "text": [
      "self.get_collection_ratio(): 0.23209856230236833\n",
      "self.state.all_commed: True\n",
      "charging!!!!!!\n",
      "charging!!!!!!\n",
      "charging!!!!!!\n",
      "charging!!!!!!\n"
     ]
    },
    {
     "name": "stderr",
     "output_type": "stream",
     "text": [
      "\r",
      "  2%|█▋                                                                              | 21/1000 [00:43<33:05,  2.03s/it]"
     ]
    },
    {
     "name": "stdout",
     "output_type": "stream",
     "text": [
      "self.get_collection_ratio(): 0.1634356732834216\n",
      "self.state.all_commed: True\n",
      "charging!!!!!!\n",
      "charging!!!!!!\n",
      "charging!!!!!!\n",
      "charging!!!!!!\n"
     ]
    },
    {
     "name": "stderr",
     "output_type": "stream",
     "text": [
      "\r",
      "  2%|█▊                                                                              | 22/1000 [00:45<33:18,  2.04s/it]"
     ]
    },
    {
     "name": "stdout",
     "output_type": "stream",
     "text": [
      "self.get_collection_ratio(): 0.16613058094298672\n",
      "self.state.all_commed: True\n",
      "charging!!!!!!\n",
      "charging!!!!!!\n",
      "charging!!!!!!\n",
      "charging!!!!!!\n"
     ]
    },
    {
     "name": "stderr",
     "output_type": "stream",
     "text": [
      "\r",
      "  2%|█▊                                                                              | 23/1000 [00:47<32:27,  1.99s/it]"
     ]
    },
    {
     "name": "stdout",
     "output_type": "stream",
     "text": [
      "self.get_collection_ratio(): 0.17934388426397363\n",
      "self.state.all_commed: True\n",
      "charging!!!!!!\n",
      "charging!!!!!!\n"
     ]
    },
    {
     "name": "stderr",
     "output_type": "stream",
     "text": [
      "\r",
      "  2%|█▉                                                                              | 24/1000 [00:48<29:24,  1.81s/it]"
     ]
    },
    {
     "name": "stdout",
     "output_type": "stream",
     "text": [
      "self.get_collection_ratio(): 0.09588248135193797\n",
      "self.state.all_commed: True\n",
      "charging!!!!!!\n",
      "charging!!!!!!\n"
     ]
    },
    {
     "name": "stderr",
     "output_type": "stream",
     "text": [
      "\r",
      "  2%|██                                                                              | 25/1000 [00:49<27:12,  1.67s/it]"
     ]
    },
    {
     "name": "stdout",
     "output_type": "stream",
     "text": [
      "self.get_collection_ratio(): 0.09126768018598634\n",
      "self.state.all_commed: True\n",
      "charging!!!!!!\n",
      "charging!!!!!!\n"
     ]
    },
    {
     "name": "stderr",
     "output_type": "stream",
     "text": [
      "\r",
      "  3%|██                                                                              | 26/1000 [00:51<25:32,  1.57s/it]"
     ]
    },
    {
     "name": "stdout",
     "output_type": "stream",
     "text": [
      "self.get_collection_ratio(): 0.09818998928885748\n",
      "self.state.all_commed: True\n",
      "charging!!!!!!\n",
      "charging!!!!!!\n"
     ]
    },
    {
     "name": "stderr",
     "output_type": "stream",
     "text": [
      "\r",
      "  3%|██▏                                                                             | 27/1000 [00:52<24:27,  1.51s/it]"
     ]
    },
    {
     "name": "stdout",
     "output_type": "stream",
     "text": [
      "self.get_collection_ratio(): 0.11933798666735988\n",
      "self.state.all_commed: True\n",
      "charging!!!!!!\n",
      "charging!!!!!!\n",
      "charging!!!!!!\n",
      "charging!!!!!!\n",
      "charging!!!!!!\n",
      "charging!!!!!!\n"
     ]
    },
    {
     "name": "stderr",
     "output_type": "stream",
     "text": [
      "\r",
      "  3%|██▏                                                                             | 28/1000 [00:55<29:58,  1.85s/it]"
     ]
    },
    {
     "name": "stdout",
     "output_type": "stream",
     "text": [
      "self.get_collection_ratio(): 0.1634677860820046\n",
      "self.state.all_commed: True\n",
      "charging!!!!!!\n",
      "charging!!!!!!\n"
     ]
    },
    {
     "name": "stderr",
     "output_type": "stream",
     "text": [
      "\r",
      "  3%|██▎                                                                             | 29/1000 [00:56<27:19,  1.69s/it]"
     ]
    },
    {
     "name": "stdout",
     "output_type": "stream",
     "text": [
      "self.get_collection_ratio(): 0.10727023724952217\n",
      "self.state.all_commed: True\n",
      "charging!!!!!!\n",
      "charging!!!!!!\n"
     ]
    },
    {
     "name": "stderr",
     "output_type": "stream",
     "text": [
      "\r",
      "  3%|██▍                                                                             | 30/1000 [00:57<25:35,  1.58s/it]"
     ]
    },
    {
     "name": "stdout",
     "output_type": "stream",
     "text": [
      "self.get_collection_ratio(): 0.09724430390406891\n",
      "self.state.all_commed: True\n",
      "charging!!!!!!\n",
      "charging!!!!!!\n",
      "charging!!!!!!\n",
      "charging!!!!!!\n"
     ]
    },
    {
     "name": "stderr",
     "output_type": "stream",
     "text": [
      "\r",
      "  3%|██▍                                                                             | 31/1000 [00:59<26:48,  1.66s/it]"
     ]
    },
    {
     "name": "stdout",
     "output_type": "stream",
     "text": [
      "self.get_collection_ratio(): 0.1833603829545609\n",
      "self.state.all_commed: True\n",
      "charging!!!!!!\n",
      "charging!!!!!!\n",
      "charging!!!!!!\n",
      "charging!!!!!!\n"
     ]
    },
    {
     "name": "stderr",
     "output_type": "stream",
     "text": [
      "\r",
      "  3%|██▌                                                                             | 32/1000 [01:01<27:41,  1.72s/it]"
     ]
    },
    {
     "name": "stdout",
     "output_type": "stream",
     "text": [
      "self.get_collection_ratio(): 0.17268279760003472\n",
      "self.state.all_commed: True\n",
      "charging!!!!!!\n",
      "charging!!!!!!\n",
      "charging!!!!!!\n",
      "charging!!!!!!\n",
      "charging!!!!!!\n",
      "charging!!!!!!\n"
     ]
    },
    {
     "name": "stderr",
     "output_type": "stream",
     "text": [
      "\r",
      "  3%|██▋                                                                             | 33/1000 [01:03<30:54,  1.92s/it]"
     ]
    },
    {
     "name": "stdout",
     "output_type": "stream",
     "text": [
      "self.get_collection_ratio(): 0.21904367248159134\n",
      "self.state.all_commed: True\n",
      "charging!!!!!!\n",
      "charging!!!!!!\n",
      "charging!!!!!!\n",
      "charging!!!!!!\n"
     ]
    },
    {
     "name": "stderr",
     "output_type": "stream",
     "text": [
      "\r",
      "  3%|██▋                                                                             | 34/1000 [01:05<30:37,  1.90s/it]"
     ]
    },
    {
     "name": "stdout",
     "output_type": "stream",
     "text": [
      "self.get_collection_ratio(): 0.1810654467131547\n",
      "self.state.all_commed: True\n",
      "charging!!!!!!\n",
      "charging!!!!!!\n",
      "charging!!!!!!\n",
      "charging!!!!!!\n",
      "charging!!!!!!\n",
      "charging!!!!!!\n"
     ]
    },
    {
     "name": "stderr",
     "output_type": "stream",
     "text": [
      "\r",
      "  4%|██▊                                                                             | 35/1000 [01:08<34:29,  2.14s/it]"
     ]
    },
    {
     "name": "stdout",
     "output_type": "stream",
     "text": [
      "self.get_collection_ratio(): 0.22757173152915114\n",
      "self.state.all_commed: True\n",
      "charging!!!!!!\n",
      "charging!!!!!!\n",
      "charging!!!!!!\n",
      "charging!!!!!!\n"
     ]
    },
    {
     "name": "stderr",
     "output_type": "stream",
     "text": [
      "\r",
      "  4%|██▉                                                                             | 36/1000 [01:10<33:15,  2.07s/it]"
     ]
    },
    {
     "name": "stdout",
     "output_type": "stream",
     "text": [
      "self.get_collection_ratio(): 0.13548312988662706\n",
      "self.state.all_commed: True\n",
      "charging!!!!!!\n",
      "charging!!!!!!\n",
      "charging!!!!!!\n",
      "charging!!!!!!\n",
      "charging!!!!!!\n",
      "charging!!!!!!\n"
     ]
    },
    {
     "name": "stderr",
     "output_type": "stream",
     "text": [
      "\r",
      "  4%|██▉                                                                             | 37/1000 [01:12<35:16,  2.20s/it]"
     ]
    },
    {
     "name": "stdout",
     "output_type": "stream",
     "text": [
      "self.get_collection_ratio(): 0.17024350970350935\n",
      "self.state.all_commed: True\n",
      "charging!!!!!!\n",
      "charging!!!!!!\n",
      "charging!!!!!!\n",
      "charging!!!!!!\n",
      "charging!!!!!!\n",
      "charging!!!!!!\n"
     ]
    },
    {
     "name": "stderr",
     "output_type": "stream",
     "text": [
      "\r",
      "  4%|███                                                                             | 38/1000 [01:15<36:21,  2.27s/it]"
     ]
    },
    {
     "name": "stdout",
     "output_type": "stream",
     "text": [
      "self.get_collection_ratio(): 0.17146672938547733\n",
      "self.state.all_commed: True\n",
      "charging!!!!!!\n",
      "charging!!!!!!\n",
      "charging!!!!!!\n",
      "charging!!!!!!\n",
      "charging!!!!!!\n",
      "charging!!!!!!\n"
     ]
    },
    {
     "name": "stderr",
     "output_type": "stream",
     "text": [
      "\r",
      "  4%|███                                                                             | 39/1000 [01:17<36:49,  2.30s/it]"
     ]
    },
    {
     "name": "stdout",
     "output_type": "stream",
     "text": [
      "self.get_collection_ratio(): 0.18614386543805406\n",
      "self.state.all_commed: True\n",
      "charging!!!!!!\n",
      "charging!!!!!!\n"
     ]
    },
    {
     "name": "stderr",
     "output_type": "stream",
     "text": [
      "\r",
      "  4%|███▏                                                                            | 40/1000 [01:19<34:27,  2.15s/it]"
     ]
    },
    {
     "name": "stdout",
     "output_type": "stream",
     "text": [
      "self.get_collection_ratio(): 0.08730852942448539\n",
      "self.state.all_commed: True\n",
      "charging!!!!!!\n",
      "charging!!!!!!\n",
      "charging!!!!!!\n",
      "charging!!!!!!\n"
     ]
    },
    {
     "name": "stderr",
     "output_type": "stream",
     "text": [
      "\r",
      "  4%|███▎                                                                            | 41/1000 [01:21<33:01,  2.07s/it]"
     ]
    },
    {
     "name": "stdout",
     "output_type": "stream",
     "text": [
      "self.get_collection_ratio(): 0.17697313285550204\n",
      "self.state.all_commed: True\n",
      "charging!!!!!!\n",
      "charging!!!!!!\n",
      "charging!!!!!!\n",
      "charging!!!!!!\n",
      "charging!!!!!!\n",
      "charging!!!!!!\n"
     ]
    },
    {
     "name": "stderr",
     "output_type": "stream",
     "text": [
      "\r",
      "  4%|███▎                                                                            | 42/1000 [01:23<34:44,  2.18s/it]"
     ]
    },
    {
     "name": "stdout",
     "output_type": "stream",
     "text": [
      "self.get_collection_ratio(): 0.2114531504712827\n",
      "self.state.all_commed: True\n",
      "charging!!!!!!\n",
      "charging!!!!!!\n",
      "charging!!!!!!\n",
      "charging!!!!!!\n"
     ]
    },
    {
     "name": "stderr",
     "output_type": "stream",
     "text": [
      "\r",
      "  4%|███▍                                                                            | 43/1000 [01:25<33:13,  2.08s/it]"
     ]
    },
    {
     "name": "stdout",
     "output_type": "stream",
     "text": [
      "self.get_collection_ratio(): 0.16868727954595408\n",
      "self.state.all_commed: True\n",
      "charging!!!!!!\n",
      "charging!!!!!!\n"
     ]
    },
    {
     "name": "stderr",
     "output_type": "stream",
     "text": [
      "\r",
      "  4%|███▌                                                                            | 44/1000 [01:26<29:33,  1.86s/it]"
     ]
    },
    {
     "name": "stdout",
     "output_type": "stream",
     "text": [
      "self.get_collection_ratio(): 0.12496538287436032\n",
      "self.state.all_commed: True\n",
      "charging!!!!!!\n",
      "charging!!!!!!\n"
     ]
    },
    {
     "name": "stderr",
     "output_type": "stream",
     "text": [
      "\r",
      "  4%|███▌                                                                            | 45/1000 [01:28<27:05,  1.70s/it]"
     ]
    },
    {
     "name": "stdout",
     "output_type": "stream",
     "text": [
      "self.get_collection_ratio(): 0.09115099652517407\n",
      "self.state.all_commed: True\n",
      "charging!!!!!!\n",
      "charging!!!!!!\n",
      "charging!!!!!!\n",
      "charging!!!!!!\n",
      "charging!!!!!!\n",
      "charging!!!!!!\n"
     ]
    },
    {
     "name": "stderr",
     "output_type": "stream",
     "text": [
      "\r",
      "  5%|███▋                                                                            | 46/1000 [01:30<30:31,  1.92s/it]"
     ]
    },
    {
     "name": "stdout",
     "output_type": "stream",
     "text": [
      "self.get_collection_ratio(): 0.15969960158473417\n",
      "self.state.all_commed: True\n",
      "charging!!!!!!\n",
      "charging!!!!!!\n",
      "charging!!!!!!\n",
      "charging!!!!!!\n"
     ]
    },
    {
     "name": "stderr",
     "output_type": "stream",
     "text": [
      "\r",
      "  5%|███▊                                                                            | 47/1000 [01:33<32:52,  2.07s/it]"
     ]
    },
    {
     "name": "stdout",
     "output_type": "stream",
     "text": [
      "self.get_collection_ratio(): 0.15336125776021348\n",
      "self.state.all_commed: True\n",
      "charging!!!!!!\n",
      "charging!!!!!!\n",
      "charging!!!!!!\n",
      "charging!!!!!!\n"
     ]
    },
    {
     "name": "stderr",
     "output_type": "stream",
     "text": [
      "\r",
      "  5%|███▊                                                                            | 48/1000 [01:35<31:48,  2.00s/it]"
     ]
    },
    {
     "name": "stdout",
     "output_type": "stream",
     "text": [
      "self.get_collection_ratio(): 0.16622573895917822\n",
      "self.state.all_commed: True\n",
      "charging!!!!!!\n",
      "charging!!!!!!\n"
     ]
    },
    {
     "name": "stderr",
     "output_type": "stream",
     "text": [
      "\r",
      "  5%|███▉                                                                            | 49/1000 [01:36<28:49,  1.82s/it]"
     ]
    },
    {
     "name": "stdout",
     "output_type": "stream",
     "text": [
      "self.get_collection_ratio(): 0.10025532918498954\n",
      "self.state.all_commed: True\n",
      "charging!!!!!!\n",
      "charging!!!!!!\n",
      "charging!!!!!!\n",
      "charging!!!!!!\n",
      "charging!!!!!!\n",
      "charging!!!!!!\n"
     ]
    },
    {
     "name": "stderr",
     "output_type": "stream",
     "text": [
      "\r",
      "  5%|████                                                                            | 50/1000 [01:38<31:50,  2.01s/it]"
     ]
    },
    {
     "name": "stdout",
     "output_type": "stream",
     "text": [
      "self.get_collection_ratio(): 0.21774454551100192\n",
      "self.state.all_commed: True\n",
      "charging!!!!!!\n",
      "charging!!!!!!\n",
      "charging!!!!!!\n",
      "charging!!!!!!\n"
     ]
    },
    {
     "name": "stderr",
     "output_type": "stream",
     "text": [
      "\r",
      "  5%|████                                                                            | 51/1000 [01:40<31:19,  1.98s/it]"
     ]
    },
    {
     "name": "stdout",
     "output_type": "stream",
     "text": [
      "self.get_collection_ratio(): 0.1552590232047858\n",
      "self.state.all_commed: True\n",
      "charging!!!!!!\n",
      "charging!!!!!!\n"
     ]
    },
    {
     "name": "stderr",
     "output_type": "stream",
     "text": [
      "\r",
      "  5%|████▏                                                                           | 52/1000 [01:42<28:51,  1.83s/it]"
     ]
    },
    {
     "name": "stdout",
     "output_type": "stream",
     "text": [
      "self.get_collection_ratio(): 0.12931324469518968\n",
      "self.state.all_commed: True\n",
      "charging!!!!!!\n",
      "charging!!!!!!\n",
      "charging!!!!!!\n",
      "charging!!!!!!\n"
     ]
    },
    {
     "name": "stderr",
     "output_type": "stream",
     "text": [
      "\r",
      "  5%|████▏                                                                           | 53/1000 [01:44<29:11,  1.85s/it]"
     ]
    },
    {
     "name": "stdout",
     "output_type": "stream",
     "text": [
      "self.get_collection_ratio(): 0.18208584203787853\n",
      "self.state.all_commed: True\n",
      "charging!!!!!!\n",
      "charging!!!!!!\n",
      "charging!!!!!!\n",
      "charging!!!!!!\n",
      "charging!!!!!!\n",
      "charging!!!!!!\n"
     ]
    },
    {
     "name": "stderr",
     "output_type": "stream",
     "text": [
      "\r",
      "  5%|████▎                                                                           | 54/1000 [01:46<31:27,  2.00s/it]"
     ]
    },
    {
     "name": "stdout",
     "output_type": "stream",
     "text": [
      "self.get_collection_ratio(): 0.17052593358891255\n",
      "self.state.all_commed: True\n",
      "charging!!!!!!\n",
      "charging!!!!!!\n"
     ]
    },
    {
     "name": "stderr",
     "output_type": "stream",
     "text": [
      "\r",
      "  6%|████▍                                                                           | 55/1000 [01:47<28:45,  1.83s/it]"
     ]
    },
    {
     "name": "stdout",
     "output_type": "stream",
     "text": [
      "self.get_collection_ratio(): 0.09925349000676996\n",
      "self.state.all_commed: True\n",
      "charging!!!!!!\n",
      "charging!!!!!!\n",
      "charging!!!!!!\n",
      "charging!!!!!!\n"
     ]
    },
    {
     "name": "stderr",
     "output_type": "stream",
     "text": [
      "\r",
      "  6%|████▍                                                                           | 56/1000 [01:50<32:10,  2.04s/it]"
     ]
    },
    {
     "name": "stdout",
     "output_type": "stream",
     "text": [
      "self.get_collection_ratio(): 0.14815472443352884\n",
      "self.state.all_commed: True\n",
      "charging!!!!!!\n",
      "charging!!!!!!\n"
     ]
    },
    {
     "name": "stderr",
     "output_type": "stream",
     "text": [
      "\r",
      "  6%|████▌                                                                           | 57/1000 [01:51<29:22,  1.87s/it]"
     ]
    },
    {
     "name": "stdout",
     "output_type": "stream",
     "text": [
      "self.get_collection_ratio(): 0.08917656229830591\n",
      "self.state.all_commed: True\n",
      "charging!!!!!!\n",
      "charging!!!!!!\n"
     ]
    },
    {
     "name": "stderr",
     "output_type": "stream",
     "text": [
      "\r",
      "  6%|████▋                                                                           | 58/1000 [01:53<27:43,  1.77s/it]"
     ]
    },
    {
     "name": "stdout",
     "output_type": "stream",
     "text": [
      "self.get_collection_ratio(): 0.10080633574978648\n",
      "self.state.all_commed: True\n",
      "charging!!!!!!\n",
      "charging!!!!!!\n",
      "charging!!!!!!\n",
      "charging!!!!!!\n",
      "charging!!!!!!\n",
      "charging!!!!!!\n"
     ]
    },
    {
     "name": "stderr",
     "output_type": "stream",
     "text": [
      "\r",
      "  6%|████▋                                                                           | 59/1000 [01:55<31:18,  2.00s/it]"
     ]
    },
    {
     "name": "stdout",
     "output_type": "stream",
     "text": [
      "self.get_collection_ratio(): 0.22537125722968562\n",
      "self.state.all_commed: True\n",
      "charging!!!!!!\n",
      "charging!!!!!!\n",
      "charging!!!!!!\n",
      "charging!!!!!!\n",
      "charging!!!!!!\n",
      "charging!!!!!!\n"
     ]
    },
    {
     "name": "stderr",
     "output_type": "stream",
     "text": [
      "\r",
      "  6%|████▊                                                                           | 60/1000 [01:58<34:15,  2.19s/it]"
     ]
    },
    {
     "name": "stdout",
     "output_type": "stream",
     "text": [
      "self.get_collection_ratio(): 0.16026019878621414\n",
      "self.state.all_commed: True\n",
      "charging!!!!!!\n",
      "charging!!!!!!\n"
     ]
    },
    {
     "name": "stderr",
     "output_type": "stream",
     "text": [
      "\r",
      "  6%|████▉                                                                           | 61/1000 [02:00<30:29,  1.95s/it]"
     ]
    },
    {
     "name": "stdout",
     "output_type": "stream",
     "text": [
      "self.get_collection_ratio(): 0.1108983622359062\n",
      "self.state.all_commed: True\n",
      "charging!!!!!!\n",
      "charging!!!!!!\n"
     ]
    },
    {
     "name": "stderr",
     "output_type": "stream",
     "text": [
      "\r",
      "  6%|████▉                                                                           | 62/1000 [02:01<28:01,  1.79s/it]"
     ]
    },
    {
     "name": "stdout",
     "output_type": "stream",
     "text": [
      "self.get_collection_ratio(): 0.11337695634010558\n",
      "self.state.all_commed: True\n",
      "charging!!!!!!\n",
      "charging!!!!!!\n",
      "charging!!!!!!\n",
      "charging!!!!!!\n"
     ]
    },
    {
     "name": "stderr",
     "output_type": "stream",
     "text": [
      "\r",
      "  6%|█████                                                                           | 63/1000 [02:03<28:46,  1.84s/it]"
     ]
    },
    {
     "name": "stdout",
     "output_type": "stream",
     "text": [
      "self.get_collection_ratio(): 0.1315917748864084\n",
      "self.state.all_commed: True\n",
      "charging!!!!!!\n",
      "charging!!!!!!\n"
     ]
    },
    {
     "name": "stderr",
     "output_type": "stream",
     "text": [
      "\r",
      "  6%|█████                                                                           | 64/1000 [02:04<26:45,  1.72s/it]"
     ]
    },
    {
     "name": "stdout",
     "output_type": "stream",
     "text": [
      "self.get_collection_ratio(): 0.07772953335360076\n",
      "self.state.all_commed: True\n",
      "charging!!!!!!\n",
      "charging!!!!!!\n"
     ]
    },
    {
     "name": "stderr",
     "output_type": "stream",
     "text": [
      "\r",
      "  6%|█████▏                                                                          | 65/1000 [02:06<25:15,  1.62s/it]"
     ]
    },
    {
     "name": "stdout",
     "output_type": "stream",
     "text": [
      "self.get_collection_ratio(): 0.09018349052190607\n",
      "self.state.all_commed: True\n",
      "charging!!!!!!\n",
      "charging!!!!!!\n"
     ]
    },
    {
     "name": "stderr",
     "output_type": "stream",
     "text": [
      "\r",
      "  7%|█████▎                                                                          | 66/1000 [02:07<23:54,  1.54s/it]"
     ]
    },
    {
     "name": "stdout",
     "output_type": "stream",
     "text": [
      "self.get_collection_ratio(): 0.0811415945771302\n",
      "self.state.all_commed: True\n",
      "charging!!!!!!\n",
      "charging!!!!!!\n",
      "charging!!!!!!\n",
      "charging!!!!!!\n"
     ]
    },
    {
     "name": "stderr",
     "output_type": "stream",
     "text": [
      "\r",
      "  7%|█████▎                                                                          | 67/1000 [02:10<28:43,  1.85s/it]"
     ]
    },
    {
     "name": "stdout",
     "output_type": "stream",
     "text": [
      "self.get_collection_ratio(): 0.16353612219780414\n",
      "self.state.all_commed: True\n",
      "charging!!!!!!\n",
      "charging!!!!!!\n",
      "charging!!!!!!\n",
      "charging!!!!!!\n"
     ]
    },
    {
     "name": "stderr",
     "output_type": "stream",
     "text": [
      "\r",
      "  7%|█████▍                                                                          | 68/1000 [02:11<28:37,  1.84s/it]"
     ]
    },
    {
     "name": "stdout",
     "output_type": "stream",
     "text": [
      "self.get_collection_ratio(): 0.12240993402475718\n",
      "self.state.all_commed: True\n",
      "charging!!!!!!\n",
      "charging!!!!!!\n",
      "charging!!!!!!\n",
      "charging!!!!!!\n",
      "charging!!!!!!\n",
      "charging!!!!!!\n"
     ]
    },
    {
     "name": "stderr",
     "output_type": "stream",
     "text": [
      "\r",
      "  7%|█████▌                                                                          | 69/1000 [02:14<30:59,  2.00s/it]"
     ]
    },
    {
     "name": "stdout",
     "output_type": "stream",
     "text": [
      "self.get_collection_ratio(): 0.17819400173238986\n",
      "self.state.all_commed: True\n",
      "charging!!!!!!\n",
      "charging!!!!!!\n",
      "charging!!!!!!\n",
      "charging!!!!!!\n"
     ]
    },
    {
     "name": "stderr",
     "output_type": "stream",
     "text": [
      "\r",
      "  7%|█████▌                                                                          | 70/1000 [02:16<30:22,  1.96s/it]"
     ]
    },
    {
     "name": "stdout",
     "output_type": "stream",
     "text": [
      "self.get_collection_ratio(): 0.16782626328650482\n",
      "self.state.all_commed: True\n",
      "charging!!!!!!\n",
      "charging!!!!!!\n"
     ]
    },
    {
     "name": "stderr",
     "output_type": "stream",
     "text": [
      "\r",
      "  7%|█████▋                                                                          | 71/1000 [02:17<28:07,  1.82s/it]"
     ]
    },
    {
     "name": "stdout",
     "output_type": "stream",
     "text": [
      "self.get_collection_ratio(): 0.09248817747130852\n",
      "self.state.all_commed: True\n",
      "charging!!!!!!\n",
      "charging!!!!!!\n"
     ]
    },
    {
     "name": "stderr",
     "output_type": "stream",
     "text": [
      "\r",
      "  7%|█████▊                                                                          | 72/1000 [02:19<26:01,  1.68s/it]"
     ]
    },
    {
     "name": "stdout",
     "output_type": "stream",
     "text": [
      "self.get_collection_ratio(): 0.09392093263274924\n",
      "self.state.all_commed: True\n",
      "charging!!!!!!\n",
      "charging!!!!!!\n",
      "charging!!!!!!\n",
      "charging!!!!!!\n"
     ]
    },
    {
     "name": "stderr",
     "output_type": "stream",
     "text": [
      "\r",
      "  7%|█████▊                                                                          | 73/1000 [02:20<26:51,  1.74s/it]"
     ]
    },
    {
     "name": "stdout",
     "output_type": "stream",
     "text": [
      "self.get_collection_ratio(): 0.14074926352668712\n",
      "self.state.all_commed: True\n",
      "charging!!!!!!\n",
      "charging!!!!!!\n",
      "charging!!!!!!\n",
      "charging!!!!!!\n",
      "charging!!!!!!\n",
      "charging!!!!!!\n"
     ]
    },
    {
     "name": "stderr",
     "output_type": "stream",
     "text": [
      "\r",
      "  7%|█████▉                                                                          | 74/1000 [02:23<29:38,  1.92s/it]"
     ]
    },
    {
     "name": "stdout",
     "output_type": "stream",
     "text": [
      "self.get_collection_ratio(): 0.19665788817802982\n",
      "self.state.all_commed: True\n",
      "charging!!!!!!\n",
      "charging!!!!!!\n",
      "charging!!!!!!\n",
      "charging!!!!!!\n"
     ]
    },
    {
     "name": "stderr",
     "output_type": "stream",
     "text": [
      "\r",
      "  8%|██████                                                                          | 75/1000 [02:25<29:33,  1.92s/it]"
     ]
    },
    {
     "name": "stdout",
     "output_type": "stream",
     "text": [
      "self.get_collection_ratio(): 0.1884220302533699\n",
      "self.state.all_commed: True\n",
      "charging!!!!!!\n",
      "charging!!!!!!\n",
      "charging!!!!!!\n",
      "charging!!!!!!\n",
      "charging!!!!!!\n",
      "charging!!!!!!\n"
     ]
    },
    {
     "name": "stderr",
     "output_type": "stream",
     "text": [
      "\r",
      "  8%|██████                                                                          | 76/1000 [02:27<31:47,  2.06s/it]"
     ]
    },
    {
     "name": "stdout",
     "output_type": "stream",
     "text": [
      "self.get_collection_ratio(): 0.22290504131818092\n",
      "self.state.all_commed: True\n",
      "charging!!!!!!\n",
      "charging!!!!!!\n",
      "charging!!!!!!\n",
      "charging!!!!!!\n"
     ]
    },
    {
     "name": "stderr",
     "output_type": "stream",
     "text": [
      "\r",
      "  8%|██████▏                                                                         | 77/1000 [02:30<34:07,  2.22s/it]"
     ]
    },
    {
     "name": "stdout",
     "output_type": "stream",
     "text": [
      "self.get_collection_ratio(): 0.15630116187714957\n",
      "self.state.all_commed: True\n",
      "charging!!!!!!\n",
      "charging!!!!!!\n",
      "charging!!!!!!\n",
      "charging!!!!!!\n"
     ]
    },
    {
     "name": "stderr",
     "output_type": "stream",
     "text": [
      "\r",
      "  8%|██████▏                                                                         | 78/1000 [02:31<32:15,  2.10s/it]"
     ]
    },
    {
     "name": "stdout",
     "output_type": "stream",
     "text": [
      "self.get_collection_ratio(): 0.17196481309935738\n",
      "self.state.all_commed: True\n",
      "charging!!!!!!\n",
      "charging!!!!!!\n",
      "charging!!!!!!\n",
      "charging!!!!!!\n",
      "charging!!!!!!\n",
      "charging!!!!!!\n"
     ]
    },
    {
     "name": "stderr",
     "output_type": "stream",
     "text": [
      "\r",
      "  8%|██████▎                                                                         | 79/1000 [02:34<33:16,  2.17s/it]"
     ]
    },
    {
     "name": "stdout",
     "output_type": "stream",
     "text": [
      "self.get_collection_ratio(): 0.19820816749851014\n",
      "self.state.all_commed: True\n",
      "charging!!!!!!\n",
      "charging!!!!!!\n"
     ]
    },
    {
     "name": "stderr",
     "output_type": "stream",
     "text": [
      "\r",
      "  8%|██████▍                                                                         | 80/1000 [02:35<29:47,  1.94s/it]"
     ]
    },
    {
     "name": "stdout",
     "output_type": "stream",
     "text": [
      "self.get_collection_ratio(): 0.12126806790345081\n",
      "self.state.all_commed: True\n",
      "charging!!!!!!\n",
      "charging!!!!!!\n",
      "charging!!!!!!\n",
      "charging!!!!!!\n",
      "charging!!!!!!\n",
      "charging!!!!!!\n"
     ]
    },
    {
     "name": "stderr",
     "output_type": "stream",
     "text": [
      "\r",
      "  8%|██████▍                                                                         | 81/1000 [02:37<31:15,  2.04s/it]"
     ]
    },
    {
     "name": "stdout",
     "output_type": "stream",
     "text": [
      "self.get_collection_ratio(): 0.18319281400572832\n",
      "self.state.all_commed: True\n",
      "charging!!!!!!\n",
      "charging!!!!!!\n",
      "charging!!!!!!\n",
      "charging!!!!!!\n",
      "charging!!!!!!\n",
      "charging!!!!!!\n"
     ]
    },
    {
     "name": "stderr",
     "output_type": "stream",
     "text": [
      "\r",
      "  8%|██████▌                                                                         | 82/1000 [02:40<32:19,  2.11s/it]"
     ]
    },
    {
     "name": "stdout",
     "output_type": "stream",
     "text": [
      "self.get_collection_ratio(): 0.19745965770061177\n",
      "self.state.all_commed: True\n",
      "charging!!!!!!\n",
      "charging!!!!!!\n",
      "charging!!!!!!\n",
      "charging!!!!!!\n",
      "charging!!!!!!\n",
      "charging!!!!!!\n"
     ]
    },
    {
     "name": "stderr",
     "output_type": "stream",
     "text": [
      "\r",
      "  8%|██████▋                                                                         | 83/1000 [02:42<33:04,  2.16s/it]"
     ]
    },
    {
     "name": "stdout",
     "output_type": "stream",
     "text": [
      "self.get_collection_ratio(): 0.18401840312074508\n",
      "self.state.all_commed: True\n",
      "charging!!!!!!\n",
      "charging!!!!!!\n"
     ]
    },
    {
     "name": "stderr",
     "output_type": "stream",
     "text": [
      "\r",
      "  8%|██████▋                                                                         | 84/1000 [02:43<29:20,  1.92s/it]"
     ]
    },
    {
     "name": "stdout",
     "output_type": "stream",
     "text": [
      "self.get_collection_ratio(): 0.1282573439923474\n",
      "self.state.all_commed: True\n",
      "charging!!!!!!\n",
      "charging!!!!!!\n",
      "charging!!!!!!\n",
      "charging!!!!!!\n",
      "charging!!!!!!\n",
      "charging!!!!!!\n"
     ]
    },
    {
     "name": "stderr",
     "output_type": "stream",
     "text": [
      "\r",
      "  8%|██████▊                                                                         | 85/1000 [02:46<31:19,  2.05s/it]"
     ]
    },
    {
     "name": "stdout",
     "output_type": "stream",
     "text": [
      "self.get_collection_ratio(): 0.20316268646641433\n",
      "self.state.all_commed: True\n",
      "charging!!!!!!\n",
      "charging!!!!!!\n",
      "charging!!!!!!\n",
      "charging!!!!!!\n",
      "charging!!!!!!\n",
      "charging!!!!!!\n"
     ]
    },
    {
     "name": "stderr",
     "output_type": "stream",
     "text": [
      "\r",
      "  9%|██████▉                                                                         | 86/1000 [02:48<32:50,  2.16s/it]"
     ]
    },
    {
     "name": "stdout",
     "output_type": "stream",
     "text": [
      "self.get_collection_ratio(): 0.2062535735741136\n",
      "self.state.all_commed: True\n",
      "charging!!!!!!\n",
      "charging!!!!!!\n",
      "charging!!!!!!\n",
      "charging!!!!!!\n"
     ]
    },
    {
     "name": "stderr",
     "output_type": "stream",
     "text": [
      "\r",
      "  9%|██████▉                                                                         | 87/1000 [02:51<35:49,  2.35s/it]"
     ]
    },
    {
     "name": "stdout",
     "output_type": "stream",
     "text": [
      "self.get_collection_ratio(): 0.12870798324278293\n",
      "self.state.all_commed: True\n",
      "charging!!!!!!\n",
      "charging!!!!!!\n",
      "charging!!!!!!\n",
      "charging!!!!!!\n"
     ]
    },
    {
     "name": "stderr",
     "output_type": "stream",
     "text": [
      "\r",
      "  9%|███████                                                                         | 88/1000 [02:53<34:01,  2.24s/it]"
     ]
    },
    {
     "name": "stdout",
     "output_type": "stream",
     "text": [
      "self.get_collection_ratio(): 0.16203995776911598\n",
      "self.state.all_commed: True\n",
      "charging!!!!!!\n",
      "charging!!!!!!\n"
     ]
    },
    {
     "name": "stderr",
     "output_type": "stream",
     "text": [
      "\r",
      "  9%|███████                                                                         | 89/1000 [02:54<29:42,  1.96s/it]"
     ]
    },
    {
     "name": "stdout",
     "output_type": "stream",
     "text": [
      "self.get_collection_ratio(): 0.11597228704852756\n",
      "self.state.all_commed: True\n",
      "charging!!!!!!\n",
      "charging!!!!!!\n",
      "charging!!!!!!\n",
      "charging!!!!!!\n"
     ]
    },
    {
     "name": "stderr",
     "output_type": "stream",
     "text": [
      "\r",
      "  9%|███████▏                                                                        | 90/1000 [02:56<29:04,  1.92s/it]"
     ]
    },
    {
     "name": "stdout",
     "output_type": "stream",
     "text": [
      "self.get_collection_ratio(): 0.17518923500093253\n",
      "self.state.all_commed: True\n",
      "charging!!!!!!\n",
      "charging!!!!!!\n",
      "charging!!!!!!\n",
      "charging!!!!!!\n"
     ]
    },
    {
     "name": "stderr",
     "output_type": "stream",
     "text": [
      "\r",
      "  9%|███████▎                                                                        | 91/1000 [02:58<28:37,  1.89s/it]"
     ]
    },
    {
     "name": "stdout",
     "output_type": "stream",
     "text": [
      "self.get_collection_ratio(): 0.16665490106746353\n",
      "self.state.all_commed: True\n",
      "charging!!!!!!\n",
      "charging!!!!!!\n"
     ]
    },
    {
     "name": "stderr",
     "output_type": "stream",
     "text": [
      "\r",
      "  9%|███████▎                                                                        | 92/1000 [02:59<26:01,  1.72s/it]"
     ]
    },
    {
     "name": "stdout",
     "output_type": "stream",
     "text": [
      "self.get_collection_ratio(): 0.09952388283803049\n",
      "self.state.all_commed: True\n",
      "charging!!!!!!\n",
      "charging!!!!!!\n",
      "charging!!!!!!\n",
      "charging!!!!!!\n",
      "charging!!!!!!\n",
      "charging!!!!!!\n"
     ]
    },
    {
     "name": "stderr",
     "output_type": "stream",
     "text": [
      "\r",
      "  9%|███████▍                                                                        | 93/1000 [03:02<28:46,  1.90s/it]"
     ]
    },
    {
     "name": "stdout",
     "output_type": "stream",
     "text": [
      "self.get_collection_ratio(): 0.20856517520218049\n",
      "self.state.all_commed: True\n",
      "charging!!!!!!\n",
      "charging!!!!!!\n",
      "charging!!!!!!\n",
      "charging!!!!!!\n",
      "charging!!!!!!\n",
      "charging!!!!!!\n"
     ]
    },
    {
     "name": "stderr",
     "output_type": "stream",
     "text": [
      "\r",
      "  9%|███████▌                                                                        | 94/1000 [03:04<30:26,  2.02s/it]"
     ]
    },
    {
     "name": "stdout",
     "output_type": "stream",
     "text": [
      "self.get_collection_ratio(): 0.17458961673791362\n",
      "self.state.all_commed: True\n",
      "charging!!!!!!\n",
      "charging!!!!!!\n"
     ]
    },
    {
     "name": "stderr",
     "output_type": "stream",
     "text": [
      "\r",
      " 10%|███████▌                                                                        | 95/1000 [03:05<27:58,  1.85s/it]"
     ]
    },
    {
     "name": "stdout",
     "output_type": "stream",
     "text": [
      "self.get_collection_ratio(): 0.08788550802996388\n",
      "self.state.all_commed: True\n",
      "charging!!!!!!\n",
      "charging!!!!!!\n"
     ]
    },
    {
     "name": "stderr",
     "output_type": "stream",
     "text": [
      "\r",
      " 10%|███████▋                                                                        | 96/1000 [03:07<25:56,  1.72s/it]"
     ]
    },
    {
     "name": "stdout",
     "output_type": "stream",
     "text": [
      "self.get_collection_ratio(): 0.08197689716852154\n",
      "self.state.all_commed: True\n",
      "charging!!!!!!\n",
      "charging!!!!!!\n",
      "charging!!!!!!\n",
      "charging!!!!!!\n",
      "charging!!!!!!\n",
      "charging!!!!!!\n"
     ]
    },
    {
     "name": "stderr",
     "output_type": "stream",
     "text": [
      "\r",
      " 10%|███████▊                                                                        | 97/1000 [03:09<30:09,  2.00s/it]"
     ]
    },
    {
     "name": "stdout",
     "output_type": "stream",
     "text": [
      "self.get_collection_ratio(): 0.15402137473431832\n",
      "self.state.all_commed: True\n",
      "charging!!!!!!\n",
      "charging!!!!!!\n",
      "charging!!!!!!\n",
      "charging!!!!!!\n"
     ]
    },
    {
     "name": "stderr",
     "output_type": "stream",
     "text": [
      "\r",
      " 10%|███████▊                                                                        | 98/1000 [03:11<30:11,  2.01s/it]"
     ]
    },
    {
     "name": "stdout",
     "output_type": "stream",
     "text": [
      "self.get_collection_ratio(): 0.1375478222883494\n",
      "self.state.all_commed: True\n",
      "charging!!!!!!\n",
      "charging!!!!!!\n",
      "charging!!!!!!\n",
      "charging!!!!!!\n",
      "charging!!!!!!\n",
      "charging!!!!!!\n"
     ]
    },
    {
     "name": "stderr",
     "output_type": "stream",
     "text": [
      "\r",
      " 10%|███████▉                                                                        | 99/1000 [03:14<32:26,  2.16s/it]"
     ]
    },
    {
     "name": "stdout",
     "output_type": "stream",
     "text": [
      "self.get_collection_ratio(): 0.1931451662589954\n",
      "self.state.all_commed: True\n",
      "charging!!!!!!\n",
      "charging!!!!!!\n",
      "charging!!!!!!\n",
      "charging!!!!!!\n",
      "charging!!!!!!\n",
      "charging!!!!!!\n"
     ]
    },
    {
     "name": "stderr",
     "output_type": "stream",
     "text": [
      "\r",
      " 10%|███████▉                                                                       | 100/1000 [03:17<37:44,  2.52s/it]"
     ]
    },
    {
     "name": "stdout",
     "output_type": "stream",
     "text": [
      "self.get_collection_ratio(): 0.1909797150022653\n",
      "self.state.all_commed: True\n",
      "charging!!!!!!\n",
      "charging!!!!!!\n",
      "charging!!!!!!\n",
      "charging!!!!!!\n",
      "charging!!!!!!\n",
      "charging!!!!!!\n"
     ]
    },
    {
     "name": "stderr",
     "output_type": "stream",
     "text": [
      "\r",
      " 10%|███████▉                                                                       | 101/1000 [03:20<36:54,  2.46s/it]"
     ]
    },
    {
     "name": "stdout",
     "output_type": "stream",
     "text": [
      "self.get_collection_ratio(): 0.22287934999309364\n",
      "self.state.all_commed: True\n",
      "charging!!!!!!\n",
      "charging!!!!!!\n",
      "charging!!!!!!\n",
      "charging!!!!!!\n",
      "charging!!!!!!\n",
      "charging!!!!!!\n"
     ]
    },
    {
     "name": "stderr",
     "output_type": "stream",
     "text": [
      "\r",
      " 10%|████████                                                                       | 102/1000 [03:22<36:28,  2.44s/it]"
     ]
    },
    {
     "name": "stdout",
     "output_type": "stream",
     "text": [
      "self.get_collection_ratio(): 0.21035836872098834\n",
      "self.state.all_commed: True\n",
      "charging!!!!!!\n",
      "charging!!!!!!\n"
     ]
    },
    {
     "name": "stderr",
     "output_type": "stream",
     "text": [
      "\r",
      " 10%|████████▏                                                                      | 103/1000 [03:23<31:35,  2.11s/it]"
     ]
    },
    {
     "name": "stdout",
     "output_type": "stream",
     "text": [
      "self.get_collection_ratio(): 0.10948916071564273\n",
      "self.state.all_commed: True\n",
      "charging!!!!!!\n",
      "charging!!!!!!\n",
      "charging!!!!!!\n",
      "charging!!!!!!\n",
      "charging!!!!!!\n",
      "charging!!!!!!\n"
     ]
    },
    {
     "name": "stderr",
     "output_type": "stream",
     "text": [
      "\r",
      " 10%|████████▏                                                                      | 104/1000 [03:26<32:25,  2.17s/it]"
     ]
    },
    {
     "name": "stdout",
     "output_type": "stream",
     "text": [
      "self.get_collection_ratio(): 0.18103541202280135\n",
      "self.state.all_commed: True\n",
      "charging!!!!!!\n",
      "charging!!!!!!\n",
      "charging!!!!!!\n",
      "charging!!!!!!\n"
     ]
    },
    {
     "name": "stderr",
     "output_type": "stream",
     "text": [
      "\r",
      " 10%|████████▎                                                                      | 105/1000 [03:28<31:15,  2.10s/it]"
     ]
    },
    {
     "name": "stdout",
     "output_type": "stream",
     "text": [
      "self.get_collection_ratio(): 0.1631388145413884\n",
      "self.state.all_commed: True\n",
      "charging!!!!!!\n",
      "charging!!!!!!\n",
      "charging!!!!!!\n",
      "charging!!!!!!\n"
     ]
    },
    {
     "name": "stderr",
     "output_type": "stream",
     "text": [
      "\r",
      " 11%|████████▎                                                                      | 106/1000 [03:29<30:19,  2.03s/it]"
     ]
    },
    {
     "name": "stdout",
     "output_type": "stream",
     "text": [
      "self.get_collection_ratio(): 0.1447752571889938\n",
      "self.state.all_commed: True\n",
      "charging!!!!!!\n",
      "charging!!!!!!\n"
     ]
    },
    {
     "name": "stderr",
     "output_type": "stream",
     "text": [
      "\r",
      " 11%|████████▍                                                                      | 107/1000 [03:31<27:15,  1.83s/it]"
     ]
    },
    {
     "name": "stdout",
     "output_type": "stream",
     "text": [
      "self.get_collection_ratio(): 0.11214607868738967\n",
      "self.state.all_commed: True\n",
      "charging!!!!!!\n",
      "charging!!!!!!\n"
     ]
    },
    {
     "name": "stderr",
     "output_type": "stream",
     "text": [
      "\r",
      " 11%|████████▌                                                                      | 108/1000 [03:32<24:55,  1.68s/it]"
     ]
    },
    {
     "name": "stdout",
     "output_type": "stream",
     "text": [
      "self.get_collection_ratio(): 0.09862203397074111\n",
      "self.state.all_commed: True\n",
      "charging!!!!!!\n",
      "charging!!!!!!\n",
      "charging!!!!!!\n",
      "charging!!!!!!\n",
      "charging!!!!!!\n",
      "charging!!!!!!\n"
     ]
    },
    {
     "name": "stderr",
     "output_type": "stream",
     "text": [
      "\r",
      " 11%|████████▌                                                                      | 109/1000 [03:35<28:03,  1.89s/it]"
     ]
    },
    {
     "name": "stdout",
     "output_type": "stream",
     "text": [
      "self.get_collection_ratio(): 0.15688061986570215\n",
      "self.state.all_commed: True\n",
      "charging!!!!!!\n",
      "charging!!!!!!\n"
     ]
    },
    {
     "name": "stderr",
     "output_type": "stream",
     "text": [
      "\r",
      " 11%|████████▋                                                                      | 110/1000 [03:36<25:19,  1.71s/it]"
     ]
    },
    {
     "name": "stdout",
     "output_type": "stream",
     "text": [
      "self.get_collection_ratio(): 0.11009735867108694\n",
      "self.state.all_commed: True\n",
      "charging!!!!!!\n",
      "charging!!!!!!\n",
      "charging!!!!!!\n",
      "charging!!!!!!\n",
      "charging!!!!!!\n",
      "charging!!!!!!\n"
     ]
    },
    {
     "name": "stderr",
     "output_type": "stream",
     "text": [
      "\r",
      " 11%|████████▊                                                                      | 111/1000 [03:38<28:04,  1.89s/it]"
     ]
    },
    {
     "name": "stdout",
     "output_type": "stream",
     "text": [
      "self.get_collection_ratio(): 0.16535430184264197\n",
      "self.state.all_commed: True\n",
      "charging!!!!!!\n",
      "charging!!!!!!\n",
      "charging!!!!!!\n",
      "charging!!!!!!\n"
     ]
    },
    {
     "name": "stderr",
     "output_type": "stream",
     "text": [
      "\r",
      " 11%|████████▊                                                                      | 112/1000 [03:40<27:51,  1.88s/it]"
     ]
    },
    {
     "name": "stdout",
     "output_type": "stream",
     "text": [
      "self.get_collection_ratio(): 0.14009844429887186\n",
      "self.state.all_commed: True\n",
      "charging!!!!!!\n",
      "charging!!!!!!\n",
      "charging!!!!!!\n",
      "charging!!!!!!\n"
     ]
    },
    {
     "name": "stderr",
     "output_type": "stream",
     "text": [
      "\r",
      " 11%|████████▉                                                                      | 113/1000 [03:43<32:12,  2.18s/it]"
     ]
    },
    {
     "name": "stdout",
     "output_type": "stream",
     "text": [
      "self.get_collection_ratio(): 0.1665589047181696\n",
      "self.state.all_commed: True\n",
      "charging!!!!!!\n",
      "charging!!!!!!\n",
      "charging!!!!!!\n",
      "charging!!!!!!\n"
     ]
    },
    {
     "name": "stderr",
     "output_type": "stream",
     "text": [
      "\r",
      " 11%|█████████                                                                      | 114/1000 [03:45<30:21,  2.06s/it]"
     ]
    },
    {
     "name": "stdout",
     "output_type": "stream",
     "text": [
      "self.get_collection_ratio(): 0.15301558316966066\n",
      "self.state.all_commed: True\n",
      "charging!!!!!!\n",
      "charging!!!!!!\n",
      "charging!!!!!!\n",
      "charging!!!!!!\n",
      "charging!!!!!!\n",
      "charging!!!!!!\n"
     ]
    },
    {
     "name": "stderr",
     "output_type": "stream",
     "text": [
      "\r",
      " 12%|█████████                                                                      | 115/1000 [03:47<31:41,  2.15s/it]"
     ]
    },
    {
     "name": "stdout",
     "output_type": "stream",
     "text": [
      "self.get_collection_ratio(): 0.2247682781743507\n",
      "self.state.all_commed: True\n",
      "charging!!!!!!\n",
      "charging!!!!!!\n",
      "charging!!!!!!\n",
      "charging!!!!!!\n"
     ]
    },
    {
     "name": "stderr",
     "output_type": "stream",
     "text": [
      "\r",
      " 12%|█████████▏                                                                     | 116/1000 [03:49<30:06,  2.04s/it]"
     ]
    },
    {
     "name": "stdout",
     "output_type": "stream",
     "text": [
      "self.get_collection_ratio(): 0.16403310214877206\n",
      "self.state.all_commed: True\n",
      "charging!!!!!!\n",
      "charging!!!!!!\n"
     ]
    },
    {
     "name": "stderr",
     "output_type": "stream",
     "text": [
      "\r",
      " 12%|█████████▏                                                                     | 117/1000 [03:50<26:57,  1.83s/it]"
     ]
    },
    {
     "name": "stdout",
     "output_type": "stream",
     "text": [
      "self.get_collection_ratio(): 0.08672911538133672\n",
      "self.state.all_commed: True\n",
      "charging!!!!!!\n",
      "charging!!!!!!\n",
      "charging!!!!!!\n",
      "charging!!!!!!\n"
     ]
    },
    {
     "name": "stderr",
     "output_type": "stream",
     "text": [
      "\r",
      " 12%|█████████▎                                                                     | 118/1000 [03:52<26:48,  1.82s/it]"
     ]
    },
    {
     "name": "stdout",
     "output_type": "stream",
     "text": [
      "self.get_collection_ratio(): 0.11261836350038926\n",
      "self.state.all_commed: True\n",
      "charging!!!!!!\n",
      "charging!!!!!!\n",
      "charging!!!!!!\n",
      "charging!!!!!!\n",
      "charging!!!!!!\n",
      "charging!!!!!!\n"
     ]
    },
    {
     "name": "stderr",
     "output_type": "stream",
     "text": [
      "\r",
      " 12%|█████████▍                                                                     | 119/1000 [03:54<29:07,  1.98s/it]"
     ]
    },
    {
     "name": "stdout",
     "output_type": "stream",
     "text": [
      "self.get_collection_ratio(): 0.1876274529430853\n",
      "self.state.all_commed: True\n",
      "charging!!!!!!\n",
      "charging!!!!!!\n"
     ]
    },
    {
     "name": "stderr",
     "output_type": "stream",
     "text": [
      "\r",
      " 12%|█████████▍                                                                     | 120/1000 [03:56<26:13,  1.79s/it]"
     ]
    },
    {
     "name": "stdout",
     "output_type": "stream",
     "text": [
      "self.get_collection_ratio(): 0.09807582135930436\n",
      "self.state.all_commed: True\n",
      "charging!!!!!!\n",
      "charging!!!!!!\n",
      "charging!!!!!!\n",
      "charging!!!!!!\n"
     ]
    },
    {
     "name": "stderr",
     "output_type": "stream",
     "text": [
      "\r",
      " 12%|█████████▌                                                                     | 121/1000 [03:58<26:34,  1.81s/it]"
     ]
    },
    {
     "name": "stdout",
     "output_type": "stream",
     "text": [
      "self.get_collection_ratio(): 0.18178249586422218\n",
      "self.state.all_commed: True\n",
      "charging!!!!!!\n",
      "charging!!!!!!\n"
     ]
    },
    {
     "name": "stderr",
     "output_type": "stream",
     "text": [
      "\r",
      " 12%|█████████▋                                                                     | 122/1000 [03:59<24:08,  1.65s/it]"
     ]
    },
    {
     "name": "stdout",
     "output_type": "stream",
     "text": [
      "self.get_collection_ratio(): 0.10764193699400418\n",
      "self.state.all_commed: True\n",
      "charging!!!!!!\n",
      "charging!!!!!!\n"
     ]
    },
    {
     "name": "stderr",
     "output_type": "stream",
     "text": [
      "\r",
      " 12%|█████████▋                                                                     | 123/1000 [04:00<22:30,  1.54s/it]"
     ]
    },
    {
     "name": "stdout",
     "output_type": "stream",
     "text": [
      "self.get_collection_ratio(): 0.0686384591054687\n",
      "self.state.all_commed: True\n",
      "charging!!!!!!\n",
      "charging!!!!!!\n",
      "charging!!!!!!\n",
      "charging!!!!!!\n",
      "charging!!!!!!\n",
      "charging!!!!!!\n"
     ]
    },
    {
     "name": "stderr",
     "output_type": "stream",
     "text": [
      "\r",
      " 12%|█████████▊                                                                     | 124/1000 [04:02<26:06,  1.79s/it]"
     ]
    },
    {
     "name": "stdout",
     "output_type": "stream",
     "text": [
      "self.get_collection_ratio(): 0.1985725590441427\n",
      "self.state.all_commed: True\n",
      "charging!!!!!!\n",
      "charging!!!!!!\n",
      "charging!!!!!!\n",
      "charging!!!!!!\n"
     ]
    },
    {
     "name": "stderr",
     "output_type": "stream",
     "text": [
      "\r",
      " 12%|█████████▉                                                                     | 125/1000 [04:04<26:17,  1.80s/it]"
     ]
    },
    {
     "name": "stdout",
     "output_type": "stream",
     "text": [
      "self.get_collection_ratio(): 0.1412087264400164\n",
      "self.state.all_commed: True\n",
      "charging!!!!!!\n",
      "charging!!!!!!\n",
      "charging!!!!!!\n",
      "charging!!!!!!\n"
     ]
    },
    {
     "name": "stderr",
     "output_type": "stream",
     "text": [
      "\r",
      " 13%|█████████▉                                                                     | 126/1000 [04:06<26:25,  1.81s/it]"
     ]
    },
    {
     "name": "stdout",
     "output_type": "stream",
     "text": [
      "self.get_collection_ratio(): 0.16782421230461203\n",
      "self.state.all_commed: True\n",
      "charging!!!!!!\n",
      "charging!!!!!!\n",
      "charging!!!!!!\n",
      "charging!!!!!!\n"
     ]
    },
    {
     "name": "stderr",
     "output_type": "stream",
     "text": [
      "\r",
      " 13%|██████████                                                                     | 127/1000 [04:08<26:24,  1.82s/it]"
     ]
    },
    {
     "name": "stdout",
     "output_type": "stream",
     "text": [
      "self.get_collection_ratio(): 0.1663308838962306\n",
      "self.state.all_commed: True\n",
      "charging!!!!!!\n",
      "charging!!!!!!\n",
      "charging!!!!!!\n",
      "charging!!!!!!\n"
     ]
    },
    {
     "name": "stderr",
     "output_type": "stream",
     "text": [
      "\r",
      " 13%|██████████                                                                     | 128/1000 [04:10<26:39,  1.83s/it]"
     ]
    },
    {
     "name": "stdout",
     "output_type": "stream",
     "text": [
      "self.get_collection_ratio(): 0.17467738842217304\n",
      "self.state.all_commed: True\n",
      "charging!!!!!!\n",
      "charging!!!!!!\n",
      "charging!!!!!!\n",
      "charging!!!!!!\n",
      "charging!!!!!!\n",
      "charging!!!!!!\n"
     ]
    },
    {
     "name": "stderr",
     "output_type": "stream",
     "text": [
      "\r",
      " 13%|██████████▏                                                                    | 129/1000 [04:12<28:43,  1.98s/it]"
     ]
    },
    {
     "name": "stdout",
     "output_type": "stream",
     "text": [
      "self.get_collection_ratio(): 0.20019929084414415\n",
      "self.state.all_commed: True\n",
      "charging!!!!!!\n",
      "charging!!!!!!\n",
      "charging!!!!!!\n",
      "charging!!!!!!\n",
      "charging!!!!!!\n",
      "charging!!!!!!\n"
     ]
    },
    {
     "name": "stderr",
     "output_type": "stream",
     "text": [
      "\r",
      " 13%|██████████▎                                                                    | 130/1000 [04:16<36:03,  2.49s/it]"
     ]
    },
    {
     "name": "stdout",
     "output_type": "stream",
     "text": [
      "self.get_collection_ratio(): 0.1931559841802722\n",
      "self.state.all_commed: True\n",
      "charging!!!!!!\n",
      "charging!!!!!!\n",
      "charging!!!!!!\n",
      "charging!!!!!!\n",
      "charging!!!!!!\n",
      "charging!!!!!!\n"
     ]
    },
    {
     "name": "stderr",
     "output_type": "stream",
     "text": [
      "\r",
      " 13%|██████████▎                                                                    | 131/1000 [04:18<35:29,  2.45s/it]"
     ]
    },
    {
     "name": "stdout",
     "output_type": "stream",
     "text": [
      "self.get_collection_ratio(): 0.16819895362105702\n",
      "self.state.all_commed: True\n",
      "charging!!!!!!\n",
      "charging!!!!!!\n",
      "charging!!!!!!\n",
      "charging!!!!!!\n",
      "charging!!!!!!\n",
      "charging!!!!!!\n"
     ]
    },
    {
     "name": "stderr",
     "output_type": "stream",
     "text": [
      "\r",
      " 13%|██████████▍                                                                    | 132/1000 [04:21<35:02,  2.42s/it]"
     ]
    },
    {
     "name": "stdout",
     "output_type": "stream",
     "text": [
      "self.get_collection_ratio(): 0.1687354140544321\n",
      "self.state.all_commed: True\n",
      "charging!!!!!!\n",
      "charging!!!!!!\n"
     ]
    },
    {
     "name": "stderr",
     "output_type": "stream",
     "text": [
      "\r",
      " 13%|██████████▌                                                                    | 133/1000 [04:22<30:26,  2.11s/it]"
     ]
    },
    {
     "name": "stdout",
     "output_type": "stream",
     "text": [
      "self.get_collection_ratio(): 0.09466950004154716\n",
      "self.state.all_commed: True\n",
      "charging!!!!!!\n",
      "charging!!!!!!\n",
      "charging!!!!!!\n",
      "charging!!!!!!\n"
     ]
    },
    {
     "name": "stderr",
     "output_type": "stream",
     "text": [
      "\r",
      " 13%|██████████▌                                                                    | 134/1000 [04:24<29:20,  2.03s/it]"
     ]
    },
    {
     "name": "stdout",
     "output_type": "stream",
     "text": [
      "self.get_collection_ratio(): 0.14037905683758417\n",
      "self.state.all_commed: True\n",
      "charging!!!!!!\n",
      "charging!!!!!!\n",
      "charging!!!!!!\n",
      "charging!!!!!!\n"
     ]
    },
    {
     "name": "stderr",
     "output_type": "stream",
     "text": [
      "\r",
      " 14%|██████████▋                                                                    | 135/1000 [04:26<28:22,  1.97s/it]"
     ]
    },
    {
     "name": "stdout",
     "output_type": "stream",
     "text": [
      "self.get_collection_ratio(): 0.14526545726622067\n",
      "self.state.all_commed: True\n",
      "charging!!!!!!\n",
      "charging!!!!!!\n"
     ]
    },
    {
     "name": "stderr",
     "output_type": "stream",
     "text": [
      "\r",
      " 14%|██████████▋                                                                    | 136/1000 [04:27<25:55,  1.80s/it]"
     ]
    },
    {
     "name": "stdout",
     "output_type": "stream",
     "text": [
      "self.get_collection_ratio(): 0.09544499220827911\n",
      "self.state.all_commed: True\n",
      "charging!!!!!!\n",
      "charging!!!!!!\n"
     ]
    },
    {
     "name": "stderr",
     "output_type": "stream",
     "text": [
      "\r",
      " 14%|██████████▊                                                                    | 137/1000 [04:28<24:19,  1.69s/it]"
     ]
    },
    {
     "name": "stdout",
     "output_type": "stream",
     "text": [
      "self.get_collection_ratio(): 0.09244512737432836\n",
      "self.state.all_commed: True\n",
      "charging!!!!!!\n",
      "charging!!!!!!\n",
      "charging!!!!!!\n",
      "charging!!!!!!\n"
     ]
    },
    {
     "name": "stderr",
     "output_type": "stream",
     "text": [
      "\r",
      " 14%|██████████▉                                                                    | 138/1000 [04:30<25:52,  1.80s/it]"
     ]
    },
    {
     "name": "stdout",
     "output_type": "stream",
     "text": [
      "self.get_collection_ratio(): 0.10759549302989423\n",
      "self.state.all_commed: True\n",
      "charging!!!!!!\n",
      "charging!!!!!!\n"
     ]
    },
    {
     "name": "stderr",
     "output_type": "stream",
     "text": [
      "\r",
      " 14%|██████████▉                                                                    | 139/1000 [04:32<23:50,  1.66s/it]"
     ]
    },
    {
     "name": "stdout",
     "output_type": "stream",
     "text": [
      "self.get_collection_ratio(): 0.1026506068528457\n",
      "self.state.all_commed: True\n",
      "charging!!!!!!\n",
      "charging!!!!!!\n",
      "charging!!!!!!\n",
      "charging!!!!!!\n"
     ]
    },
    {
     "name": "stderr",
     "output_type": "stream",
     "text": [
      "\r",
      " 14%|███████████                                                                    | 140/1000 [04:34<25:09,  1.76s/it]"
     ]
    },
    {
     "name": "stdout",
     "output_type": "stream",
     "text": [
      "self.get_collection_ratio(): 0.18593708779540016\n",
      "self.state.all_commed: True\n",
      "charging!!!!!!\n",
      "charging!!!!!!\n",
      "charging!!!!!!\n",
      "charging!!!!!!\n"
     ]
    },
    {
     "name": "stderr",
     "output_type": "stream",
     "text": [
      "\r",
      " 14%|███████████▏                                                                   | 141/1000 [04:36<26:28,  1.85s/it]"
     ]
    },
    {
     "name": "stdout",
     "output_type": "stream",
     "text": [
      "self.get_collection_ratio(): 0.1682175295874334\n",
      "self.state.all_commed: True\n",
      "charging!!!!!!\n",
      "charging!!!!!!\n",
      "charging!!!!!!\n",
      "charging!!!!!!\n",
      "charging!!!!!!\n",
      "charging!!!!!!\n"
     ]
    },
    {
     "name": "stderr",
     "output_type": "stream",
     "text": [
      "\r",
      " 14%|███████████▏                                                                   | 142/1000 [04:38<29:40,  2.07s/it]"
     ]
    },
    {
     "name": "stdout",
     "output_type": "stream",
     "text": [
      "self.get_collection_ratio(): 0.16062682741646356\n",
      "self.state.all_commed: True\n",
      "charging!!!!!!\n",
      "charging!!!!!!\n",
      "charging!!!!!!\n",
      "charging!!!!!!\n",
      "charging!!!!!!\n",
      "charging!!!!!!\n"
     ]
    },
    {
     "name": "stderr",
     "output_type": "stream",
     "text": [
      "\r",
      " 14%|███████████▎                                                                   | 143/1000 [04:41<31:52,  2.23s/it]"
     ]
    },
    {
     "name": "stdout",
     "output_type": "stream",
     "text": [
      "self.get_collection_ratio(): 0.17150626615046483\n",
      "self.state.all_commed: True\n",
      "charging!!!!!!\n",
      "charging!!!!!!\n",
      "charging!!!!!!\n",
      "charging!!!!!!\n",
      "charging!!!!!!\n",
      "charging!!!!!!\n"
     ]
    },
    {
     "name": "stderr",
     "output_type": "stream",
     "text": [
      "\r",
      " 14%|███████████▍                                                                   | 144/1000 [04:44<33:13,  2.33s/it]"
     ]
    },
    {
     "name": "stdout",
     "output_type": "stream",
     "text": [
      "self.get_collection_ratio(): 0.21089997215939485\n",
      "self.state.all_commed: True\n",
      "charging!!!!!!\n",
      "charging!!!!!!\n"
     ]
    },
    {
     "name": "stderr",
     "output_type": "stream",
     "text": [
      "\r",
      " 14%|███████████▍                                                                   | 145/1000 [04:45<29:34,  2.08s/it]"
     ]
    },
    {
     "name": "stdout",
     "output_type": "stream",
     "text": [
      "self.get_collection_ratio(): 0.06356700222658773\n",
      "self.state.all_commed: True\n",
      "charging!!!!!!\n",
      "charging!!!!!!\n"
     ]
    },
    {
     "name": "stderr",
     "output_type": "stream",
     "text": [
      "\r",
      " 15%|███████████▌                                                                   | 146/1000 [04:46<26:39,  1.87s/it]"
     ]
    },
    {
     "name": "stdout",
     "output_type": "stream",
     "text": [
      "self.get_collection_ratio(): 0.0943400670273734\n",
      "self.state.all_commed: True\n",
      "charging!!!!!!\n",
      "charging!!!!!!\n"
     ]
    },
    {
     "name": "stderr",
     "output_type": "stream",
     "text": [
      "\r",
      " 15%|███████████▌                                                                   | 147/1000 [04:48<24:28,  1.72s/it]"
     ]
    },
    {
     "name": "stdout",
     "output_type": "stream",
     "text": [
      "self.get_collection_ratio(): 0.10266400934099996\n",
      "self.state.all_commed: True\n",
      "charging!!!!!!\n",
      "charging!!!!!!\n",
      "charging!!!!!!\n",
      "charging!!!!!!\n",
      "charging!!!!!!\n",
      "charging!!!!!!\n"
     ]
    },
    {
     "name": "stderr",
     "output_type": "stream",
     "text": [
      "\r",
      " 15%|███████████▋                                                                   | 148/1000 [04:52<33:30,  2.36s/it]"
     ]
    },
    {
     "name": "stdout",
     "output_type": "stream",
     "text": [
      "self.get_collection_ratio(): 0.17516523988281502\n",
      "self.state.all_commed: True\n",
      "charging!!!!!!\n",
      "charging!!!!!!\n",
      "charging!!!!!!\n",
      "charging!!!!!!\n",
      "charging!!!!!!\n",
      "charging!!!!!!\n"
     ]
    },
    {
     "name": "stderr",
     "output_type": "stream",
     "text": [
      "\r",
      " 15%|███████████▊                                                                   | 149/1000 [04:54<34:17,  2.42s/it]"
     ]
    },
    {
     "name": "stdout",
     "output_type": "stream",
     "text": [
      "self.get_collection_ratio(): 0.21432580955222844\n",
      "self.state.all_commed: True\n",
      "charging!!!!!!\n",
      "charging!!!!!!\n"
     ]
    },
    {
     "name": "stderr",
     "output_type": "stream",
     "text": [
      "\r",
      " 15%|███████████▊                                                                   | 150/1000 [04:56<30:28,  2.15s/it]"
     ]
    },
    {
     "name": "stdout",
     "output_type": "stream",
     "text": [
      "self.get_collection_ratio(): 0.10795909064327334\n",
      "self.state.all_commed: True\n",
      "charging!!!!!!\n",
      "charging!!!!!!\n",
      "charging!!!!!!\n",
      "charging!!!!!!\n"
     ]
    },
    {
     "name": "stderr",
     "output_type": "stream",
     "text": [
      "\r",
      " 15%|███████████▉                                                                   | 151/1000 [04:58<29:54,  2.11s/it]"
     ]
    },
    {
     "name": "stdout",
     "output_type": "stream",
     "text": [
      "self.get_collection_ratio(): 0.13915422940102262\n",
      "self.state.all_commed: True\n",
      "charging!!!!!!\n",
      "charging!!!!!!\n",
      "charging!!!!!!\n",
      "charging!!!!!!\n",
      "charging!!!!!!\n",
      "charging!!!!!!\n"
     ]
    },
    {
     "name": "stderr",
     "output_type": "stream",
     "text": [
      "\r",
      " 15%|████████████                                                                   | 152/1000 [05:00<31:23,  2.22s/it]"
     ]
    },
    {
     "name": "stdout",
     "output_type": "stream",
     "text": [
      "self.get_collection_ratio(): 0.18698793026356225\n",
      "self.state.all_commed: True\n",
      "charging!!!!!!\n",
      "charging!!!!!!\n",
      "charging!!!!!!\n",
      "charging!!!!!!\n"
     ]
    },
    {
     "name": "stderr",
     "output_type": "stream",
     "text": [
      "\r",
      " 15%|████████████                                                                   | 153/1000 [05:02<30:00,  2.13s/it]"
     ]
    },
    {
     "name": "stdout",
     "output_type": "stream",
     "text": [
      "self.get_collection_ratio(): 0.15817042871683\n",
      "self.state.all_commed: True\n",
      "charging!!!!!!\n",
      "charging!!!!!!\n",
      "charging!!!!!!\n",
      "charging!!!!!!\n"
     ]
    },
    {
     "name": "stderr",
     "output_type": "stream",
     "text": [
      "\r",
      " 15%|████████████▏                                                                  | 154/1000 [05:04<28:51,  2.05s/it]"
     ]
    },
    {
     "name": "stdout",
     "output_type": "stream",
     "text": [
      "self.get_collection_ratio(): 0.16382624860678896\n",
      "self.state.all_commed: True\n",
      "charging!!!!!!\n",
      "charging!!!!!!\n",
      "charging!!!!!!\n",
      "charging!!!!!!\n"
     ]
    },
    {
     "name": "stderr",
     "output_type": "stream",
     "text": [
      "\r",
      " 16%|████████████▏                                                                  | 155/1000 [05:06<28:04,  1.99s/it]"
     ]
    },
    {
     "name": "stdout",
     "output_type": "stream",
     "text": [
      "self.get_collection_ratio(): 0.1434516686538368\n",
      "self.state.all_commed: True\n",
      "charging!!!!!!\n",
      "charging!!!!!!\n"
     ]
    },
    {
     "name": "stderr",
     "output_type": "stream",
     "text": [
      "\r",
      " 16%|████████████▎                                                                  | 156/1000 [05:07<25:32,  1.82s/it]"
     ]
    },
    {
     "name": "stdout",
     "output_type": "stream",
     "text": [
      "self.get_collection_ratio(): 0.10922280948306613\n",
      "self.state.all_commed: True\n",
      "charging!!!!!!\n",
      "charging!!!!!!\n"
     ]
    },
    {
     "name": "stderr",
     "output_type": "stream",
     "text": [
      "\r",
      " 16%|████████████▍                                                                  | 157/1000 [05:09<23:29,  1.67s/it]"
     ]
    },
    {
     "name": "stdout",
     "output_type": "stream",
     "text": [
      "self.get_collection_ratio(): 0.12415195531681886\n",
      "self.state.all_commed: True\n",
      "charging!!!!!!\n",
      "charging!!!!!!\n"
     ]
    },
    {
     "name": "stderr",
     "output_type": "stream",
     "text": [
      "\r",
      " 16%|████████████▍                                                                  | 158/1000 [05:10<22:04,  1.57s/it]"
     ]
    },
    {
     "name": "stdout",
     "output_type": "stream",
     "text": [
      "self.get_collection_ratio(): 0.11635783009618272\n",
      "self.state.all_commed: True\n",
      "charging!!!!!!\n",
      "charging!!!!!!\n"
     ]
    },
    {
     "name": "stderr",
     "output_type": "stream",
     "text": [
      "\r",
      " 16%|████████████▌                                                                  | 159/1000 [05:11<21:13,  1.51s/it]"
     ]
    },
    {
     "name": "stdout",
     "output_type": "stream",
     "text": [
      "self.get_collection_ratio(): 0.0630192673988823\n",
      "self.state.all_commed: True\n",
      "charging!!!!!!\n",
      "charging!!!!!!\n",
      "charging!!!!!!\n",
      "charging!!!!!!\n",
      "charging!!!!!!\n",
      "charging!!!!!!\n"
     ]
    },
    {
     "name": "stderr",
     "output_type": "stream",
     "text": [
      "\r",
      " 16%|████████████▋                                                                  | 160/1000 [05:14<25:19,  1.81s/it]"
     ]
    },
    {
     "name": "stdout",
     "output_type": "stream",
     "text": [
      "self.get_collection_ratio(): 0.24695589071317198\n",
      "self.state.all_commed: True\n",
      "charging!!!!!!\n",
      "charging!!!!!!\n",
      "charging!!!!!!\n",
      "charging!!!!!!\n"
     ]
    },
    {
     "name": "stderr",
     "output_type": "stream",
     "text": [
      "\r",
      " 16%|████████████▋                                                                  | 161/1000 [05:16<26:02,  1.86s/it]"
     ]
    },
    {
     "name": "stdout",
     "output_type": "stream",
     "text": [
      "self.get_collection_ratio(): 0.1656433877164661\n",
      "self.state.all_commed: True\n",
      "charging!!!!!!\n",
      "charging!!!!!!\n"
     ]
    },
    {
     "name": "stderr",
     "output_type": "stream",
     "text": [
      "\r",
      " 16%|████████████▊                                                                  | 162/1000 [05:17<24:17,  1.74s/it]"
     ]
    },
    {
     "name": "stdout",
     "output_type": "stream",
     "text": [
      "self.get_collection_ratio(): 0.1043921024948018\n",
      "self.state.all_commed: True\n",
      "charging!!!!!!\n",
      "charging!!!!!!\n",
      "charging!!!!!!\n",
      "charging!!!!!!\n",
      "charging!!!!!!\n",
      "charging!!!!!!\n"
     ]
    },
    {
     "name": "stderr",
     "output_type": "stream",
     "text": [
      "\r",
      " 16%|████████████▉                                                                  | 163/1000 [05:20<27:17,  1.96s/it]"
     ]
    },
    {
     "name": "stdout",
     "output_type": "stream",
     "text": [
      "self.get_collection_ratio(): 0.21335889541776087\n",
      "self.state.all_commed: True\n",
      "charging!!!!!!\n",
      "charging!!!!!!\n"
     ]
    },
    {
     "name": "stderr",
     "output_type": "stream",
     "text": [
      "\r",
      " 16%|████████████▉                                                                  | 164/1000 [05:21<24:52,  1.79s/it]"
     ]
    },
    {
     "name": "stdout",
     "output_type": "stream",
     "text": [
      "self.get_collection_ratio(): 0.10539922530155639\n",
      "self.state.all_commed: True\n",
      "charging!!!!!!\n",
      "charging!!!!!!\n",
      "charging!!!!!!\n",
      "charging!!!!!!\n",
      "charging!!!!!!\n",
      "charging!!!!!!\n"
     ]
    },
    {
     "name": "stderr",
     "output_type": "stream",
     "text": [
      "\r",
      " 16%|█████████████                                                                  | 165/1000 [05:24<27:43,  1.99s/it]"
     ]
    },
    {
     "name": "stdout",
     "output_type": "stream",
     "text": [
      "self.get_collection_ratio(): 0.1870137058892181\n",
      "self.state.all_commed: True\n",
      "charging!!!!!!\n",
      "charging!!!!!!\n",
      "charging!!!!!!\n",
      "charging!!!!!!\n"
     ]
    },
    {
     "name": "stderr",
     "output_type": "stream",
     "text": [
      "\r",
      " 17%|█████████████                                                                  | 166/1000 [05:26<27:19,  1.97s/it]"
     ]
    },
    {
     "name": "stdout",
     "output_type": "stream",
     "text": [
      "self.get_collection_ratio(): 0.1323849763406983\n",
      "self.state.all_commed: True\n",
      "charging!!!!!!\n",
      "charging!!!!!!\n"
     ]
    },
    {
     "name": "stderr",
     "output_type": "stream",
     "text": [
      "\r",
      " 17%|█████████████▏                                                                 | 167/1000 [05:27<24:38,  1.78s/it]"
     ]
    },
    {
     "name": "stdout",
     "output_type": "stream",
     "text": [
      "self.get_collection_ratio(): 0.08333899759033954\n",
      "self.state.all_commed: True\n",
      "charging!!!!!!\n",
      "charging!!!!!!\n",
      "charging!!!!!!\n",
      "charging!!!!!!\n"
     ]
    },
    {
     "name": "stderr",
     "output_type": "stream",
     "text": [
      "\r",
      " 17%|█████████████▎                                                                 | 168/1000 [05:29<25:00,  1.80s/it]"
     ]
    },
    {
     "name": "stdout",
     "output_type": "stream",
     "text": [
      "self.get_collection_ratio(): 0.13705242536074688\n",
      "self.state.all_commed: True\n",
      "charging!!!!!!\n",
      "charging!!!!!!\n"
     ]
    },
    {
     "name": "stderr",
     "output_type": "stream",
     "text": [
      "\r",
      " 17%|█████████████▎                                                                 | 169/1000 [05:32<29:51,  2.16s/it]"
     ]
    },
    {
     "name": "stdout",
     "output_type": "stream",
     "text": [
      "self.get_collection_ratio(): 0.09283400627707122\n",
      "self.state.all_commed: True\n",
      "charging!!!!!!\n",
      "charging!!!!!!\n",
      "charging!!!!!!\n",
      "charging!!!!!!\n"
     ]
    },
    {
     "name": "stderr",
     "output_type": "stream",
     "text": [
      "\r",
      " 17%|█████████████▍                                                                 | 170/1000 [05:34<28:42,  2.08s/it]"
     ]
    },
    {
     "name": "stdout",
     "output_type": "stream",
     "text": [
      "self.get_collection_ratio(): 0.13695177818553686\n",
      "self.state.all_commed: True\n",
      "charging!!!!!!\n",
      "charging!!!!!!\n",
      "charging!!!!!!\n",
      "charging!!!!!!\n",
      "charging!!!!!!\n",
      "charging!!!!!!\n"
     ]
    },
    {
     "name": "stderr",
     "output_type": "stream",
     "text": [
      "\r",
      " 17%|█████████████▌                                                                 | 171/1000 [05:36<29:58,  2.17s/it]"
     ]
    },
    {
     "name": "stdout",
     "output_type": "stream",
     "text": [
      "self.get_collection_ratio(): 0.18195896560242472\n",
      "self.state.all_commed: True\n",
      "charging!!!!!!\n",
      "charging!!!!!!\n",
      "charging!!!!!!\n",
      "charging!!!!!!\n"
     ]
    },
    {
     "name": "stderr",
     "output_type": "stream",
     "text": [
      "\r",
      " 17%|█████████████▌                                                                 | 172/1000 [05:38<28:43,  2.08s/it]"
     ]
    },
    {
     "name": "stdout",
     "output_type": "stream",
     "text": [
      "self.get_collection_ratio(): 0.1566243649224048\n",
      "self.state.all_commed: True\n",
      "charging!!!!!!\n",
      "charging!!!!!!\n"
     ]
    },
    {
     "name": "stderr",
     "output_type": "stream",
     "text": [
      "\r",
      " 17%|█████████████▋                                                                 | 173/1000 [05:39<25:34,  1.86s/it]"
     ]
    },
    {
     "name": "stdout",
     "output_type": "stream",
     "text": [
      "self.get_collection_ratio(): 0.08524115557286596\n",
      "self.state.all_commed: True\n",
      "charging!!!!!!\n",
      "charging!!!!!!\n",
      "charging!!!!!!\n",
      "charging!!!!!!\n"
     ]
    },
    {
     "name": "stderr",
     "output_type": "stream",
     "text": [
      "\r",
      " 17%|█████████████▋                                                                 | 174/1000 [05:41<25:46,  1.87s/it]"
     ]
    },
    {
     "name": "stdout",
     "output_type": "stream",
     "text": [
      "self.get_collection_ratio(): 0.1380746965443236\n",
      "self.state.all_commed: True\n",
      "charging!!!!!!\n",
      "charging!!!!!!\n",
      "charging!!!!!!\n",
      "charging!!!!!!\n"
     ]
    },
    {
     "name": "stderr",
     "output_type": "stream",
     "text": [
      "\r",
      " 18%|█████████████▊                                                                 | 175/1000 [05:43<25:46,  1.87s/it]"
     ]
    },
    {
     "name": "stdout",
     "output_type": "stream",
     "text": [
      "self.get_collection_ratio(): 0.11623786243505674\n",
      "self.state.all_commed: True\n",
      "charging!!!!!!\n",
      "charging!!!!!!\n",
      "charging!!!!!!\n",
      "charging!!!!!!\n"
     ]
    },
    {
     "name": "stderr",
     "output_type": "stream",
     "text": [
      "\r",
      " 18%|█████████████▉                                                                 | 176/1000 [05:45<25:42,  1.87s/it]"
     ]
    },
    {
     "name": "stdout",
     "output_type": "stream",
     "text": [
      "self.get_collection_ratio(): 0.16441743506686815\n",
      "self.state.all_commed: True\n",
      "charging!!!!!!\n",
      "charging!!!!!!\n"
     ]
    },
    {
     "name": "stderr",
     "output_type": "stream",
     "text": [
      "\r",
      " 18%|█████████████▉                                                                 | 177/1000 [05:46<23:33,  1.72s/it]"
     ]
    },
    {
     "name": "stdout",
     "output_type": "stream",
     "text": [
      "self.get_collection_ratio(): 0.09471632613713743\n",
      "self.state.all_commed: True\n",
      "charging!!!!!!\n",
      "charging!!!!!!\n"
     ]
    },
    {
     "name": "stderr",
     "output_type": "stream",
     "text": [
      "\r",
      " 18%|██████████████                                                                 | 178/1000 [05:47<21:48,  1.59s/it]"
     ]
    },
    {
     "name": "stdout",
     "output_type": "stream",
     "text": [
      "self.get_collection_ratio(): 0.10500563479791819\n",
      "self.state.all_commed: True\n",
      "charging!!!!!!\n",
      "charging!!!!!!\n",
      "charging!!!!!!\n",
      "charging!!!!!!\n",
      "charging!!!!!!\n",
      "charging!!!!!!\n"
     ]
    },
    {
     "name": "stderr",
     "output_type": "stream",
     "text": [
      "\r",
      " 18%|██████████████▏                                                                | 179/1000 [05:50<25:02,  1.83s/it]"
     ]
    },
    {
     "name": "stdout",
     "output_type": "stream",
     "text": [
      "self.get_collection_ratio(): 0.19754567707235982\n",
      "self.state.all_commed: True\n",
      "charging!!!!!!\n",
      "charging!!!!!!\n",
      "charging!!!!!!\n",
      "charging!!!!!!\n",
      "charging!!!!!!\n",
      "charging!!!!!!\n"
     ]
    },
    {
     "name": "stderr",
     "output_type": "stream",
     "text": [
      "\r",
      " 18%|██████████████▏                                                                | 180/1000 [05:52<27:04,  1.98s/it]"
     ]
    },
    {
     "name": "stdout",
     "output_type": "stream",
     "text": [
      "self.get_collection_ratio(): 0.18321516218378128\n",
      "self.state.all_commed: True\n",
      "charging!!!!!!\n",
      "charging!!!!!!\n"
     ]
    },
    {
     "name": "stderr",
     "output_type": "stream",
     "text": [
      "\r",
      " 18%|██████████████▎                                                                | 181/1000 [05:54<24:29,  1.79s/it]"
     ]
    },
    {
     "name": "stdout",
     "output_type": "stream",
     "text": [
      "self.get_collection_ratio(): 0.09728603649967466\n",
      "self.state.all_commed: True\n",
      "charging!!!!!!\n",
      "charging!!!!!!\n",
      "charging!!!!!!\n",
      "charging!!!!!!\n",
      "charging!!!!!!\n",
      "charging!!!!!!\n"
     ]
    },
    {
     "name": "stderr",
     "output_type": "stream",
     "text": [
      "\r",
      " 18%|██████████████▍                                                                | 182/1000 [05:56<26:40,  1.96s/it]"
     ]
    },
    {
     "name": "stdout",
     "output_type": "stream",
     "text": [
      "self.get_collection_ratio(): 0.18293806964931608\n",
      "self.state.all_commed: True\n",
      "charging!!!!!!\n",
      "charging!!!!!!\n"
     ]
    },
    {
     "name": "stderr",
     "output_type": "stream",
     "text": [
      "\r",
      " 18%|██████████████▍                                                                | 183/1000 [05:57<24:07,  1.77s/it]"
     ]
    },
    {
     "name": "stdout",
     "output_type": "stream",
     "text": [
      "self.get_collection_ratio(): 0.08580304617936307\n",
      "self.state.all_commed: True\n",
      "charging!!!!!!\n",
      "charging!!!!!!\n"
     ]
    },
    {
     "name": "stderr",
     "output_type": "stream",
     "text": [
      "\r",
      " 18%|██████████████▌                                                                | 184/1000 [05:59<22:20,  1.64s/it]"
     ]
    },
    {
     "name": "stdout",
     "output_type": "stream",
     "text": [
      "self.get_collection_ratio(): 0.1153952560776436\n",
      "self.state.all_commed: True\n",
      "charging!!!!!!\n",
      "charging!!!!!!\n",
      "charging!!!!!!\n",
      "charging!!!!!!\n"
     ]
    },
    {
     "name": "stderr",
     "output_type": "stream",
     "text": [
      "\r",
      " 18%|██████████████▌                                                                | 185/1000 [06:00<23:04,  1.70s/it]"
     ]
    },
    {
     "name": "stdout",
     "output_type": "stream",
     "text": [
      "self.get_collection_ratio(): 0.15851946019552973\n",
      "self.state.all_commed: True\n",
      "charging!!!!!!\n",
      "charging!!!!!!\n",
      "charging!!!!!!\n",
      "charging!!!!!!\n"
     ]
    },
    {
     "name": "stderr",
     "output_type": "stream",
     "text": [
      "\r",
      " 19%|██████████████▋                                                                | 186/1000 [06:02<23:46,  1.75s/it]"
     ]
    },
    {
     "name": "stdout",
     "output_type": "stream",
     "text": [
      "self.get_collection_ratio(): 0.11852502562696177\n",
      "self.state.all_commed: True\n",
      "charging!!!!!!\n",
      "charging!!!!!!\n"
     ]
    },
    {
     "name": "stderr",
     "output_type": "stream",
     "text": [
      "\r",
      " 19%|██████████████▊                                                                | 187/1000 [06:04<22:04,  1.63s/it]"
     ]
    },
    {
     "name": "stdout",
     "output_type": "stream",
     "text": [
      "self.get_collection_ratio(): 0.11266764482209761\n",
      "self.state.all_commed: True\n",
      "charging!!!!!!\n",
      "charging!!!!!!\n"
     ]
    },
    {
     "name": "stderr",
     "output_type": "stream",
     "text": [
      "\r",
      " 19%|██████████████▊                                                                | 188/1000 [06:05<20:54,  1.54s/it]"
     ]
    },
    {
     "name": "stdout",
     "output_type": "stream",
     "text": [
      "self.get_collection_ratio(): 0.06904002494284321\n",
      "self.state.all_commed: True\n",
      "charging!!!!!!\n",
      "charging!!!!!!\n",
      "charging!!!!!!\n",
      "charging!!!!!!\n",
      "charging!!!!!!\n",
      "charging!!!!!!\n"
     ]
    },
    {
     "name": "stderr",
     "output_type": "stream",
     "text": [
      "\r",
      " 19%|██████████████▉                                                                | 189/1000 [06:07<24:09,  1.79s/it]"
     ]
    },
    {
     "name": "stdout",
     "output_type": "stream",
     "text": [
      "self.get_collection_ratio(): 0.18156004267642872\n",
      "self.state.all_commed: True\n",
      "charging!!!!!!\n",
      "charging!!!!!!\n",
      "charging!!!!!!\n",
      "charging!!!!!!\n",
      "charging!!!!!!\n",
      "empty battery!\n"
     ]
    },
    {
     "name": "stderr",
     "output_type": "stream",
     "text": [
      "\r",
      " 19%|███████████████                                                                | 190/1000 [06:10<26:06,  1.93s/it]"
     ]
    },
    {
     "name": "stdout",
     "output_type": "stream",
     "text": [
      "self.get_collection_ratio(): 0.1937184218360132\n",
      "self.state.all_commed: False\n",
      "charging!!!!!!\n",
      "charging!!!!!!\n",
      "charging!!!!!!\n",
      "charging!!!!!!\n"
     ]
    },
    {
     "name": "stderr",
     "output_type": "stream",
     "text": [
      "\r",
      " 19%|███████████████                                                                | 191/1000 [06:11<25:41,  1.90s/it]"
     ]
    },
    {
     "name": "stdout",
     "output_type": "stream",
     "text": [
      "self.get_collection_ratio(): 0.17639159484344996\n",
      "self.state.all_commed: True\n",
      "charging!!!!!!\n",
      "charging!!!!!!\n",
      "charging!!!!!!\n",
      "charging!!!!!!\n"
     ]
    },
    {
     "name": "stderr",
     "output_type": "stream",
     "text": [
      "\r",
      " 19%|███████████████▏                                                               | 192/1000 [06:15<32:33,  2.42s/it]"
     ]
    },
    {
     "name": "stdout",
     "output_type": "stream",
     "text": [
      "self.get_collection_ratio(): 0.13586119768590924\n",
      "self.state.all_commed: True\n",
      "charging!!!!!!\n",
      "charging!!!!!!\n"
     ]
    },
    {
     "name": "stderr",
     "output_type": "stream",
     "text": [
      "\r",
      " 19%|███████████████▏                                                               | 193/1000 [06:16<28:13,  2.10s/it]"
     ]
    },
    {
     "name": "stdout",
     "output_type": "stream",
     "text": [
      "self.get_collection_ratio(): 0.104936981224894\n",
      "self.state.all_commed: True\n",
      "charging!!!!!!\n",
      "charging!!!!!!\n",
      "charging!!!!!!\n",
      "charging!!!!!!\n"
     ]
    },
    {
     "name": "stderr",
     "output_type": "stream",
     "text": [
      "\r",
      " 19%|███████████████▎                                                               | 194/1000 [06:18<27:12,  2.02s/it]"
     ]
    },
    {
     "name": "stdout",
     "output_type": "stream",
     "text": [
      "self.get_collection_ratio(): 0.13072480228642852\n",
      "self.state.all_commed: True\n",
      "charging!!!!!!\n",
      "charging!!!!!!\n",
      "charging!!!!!!\n",
      "charging!!!!!!\n",
      "charging!!!!!!\n",
      "charging!!!!!!\n"
     ]
    },
    {
     "name": "stderr",
     "output_type": "stream",
     "text": [
      "\r",
      " 20%|███████████████▍                                                               | 195/1000 [06:21<28:27,  2.12s/it]"
     ]
    },
    {
     "name": "stdout",
     "output_type": "stream",
     "text": [
      "self.get_collection_ratio(): 0.19698907304702823\n",
      "self.state.all_commed: True\n",
      "charging!!!!!!\n",
      "charging!!!!!!\n",
      "charging!!!!!!\n",
      "charging!!!!!!\n",
      "charging!!!!!!\n",
      "charging!!!!!!\n"
     ]
    },
    {
     "name": "stderr",
     "output_type": "stream",
     "text": [
      "\r",
      " 20%|███████████████▍                                                               | 196/1000 [06:23<29:44,  2.22s/it]"
     ]
    },
    {
     "name": "stdout",
     "output_type": "stream",
     "text": [
      "self.get_collection_ratio(): 0.2099098452114753\n",
      "self.state.all_commed: True\n",
      "charging!!!!!!\n",
      "charging!!!!!!\n"
     ]
    },
    {
     "name": "stderr",
     "output_type": "stream",
     "text": [
      "\r",
      " 20%|███████████████▌                                                               | 197/1000 [06:24<26:28,  1.98s/it]"
     ]
    },
    {
     "name": "stdout",
     "output_type": "stream",
     "text": [
      "self.get_collection_ratio(): 0.08342443579059915\n",
      "self.state.all_commed: True\n",
      "charging!!!!!!\n",
      "charging!!!!!!\n"
     ]
    },
    {
     "name": "stderr",
     "output_type": "stream",
     "text": [
      "\r",
      " 20%|███████████████▋                                                               | 198/1000 [06:26<23:54,  1.79s/it]"
     ]
    },
    {
     "name": "stdout",
     "output_type": "stream",
     "text": [
      "self.get_collection_ratio(): 0.1059033219256463\n",
      "self.state.all_commed: True\n",
      "charging!!!!!!\n",
      "charging!!!!!!\n",
      "charging!!!!!!\n",
      "charging!!!!!!\n"
     ]
    },
    {
     "name": "stderr",
     "output_type": "stream",
     "text": [
      "\r",
      " 20%|███████████████▋                                                               | 199/1000 [06:28<24:15,  1.82s/it]"
     ]
    },
    {
     "name": "stdout",
     "output_type": "stream",
     "text": [
      "self.get_collection_ratio(): 0.13765353627271512\n",
      "self.state.all_commed: True\n",
      "charging!!!!!!\n",
      "charging!!!!!!\n"
     ]
    },
    {
     "name": "stderr",
     "output_type": "stream",
     "text": [
      "\r",
      " 20%|███████████████▊                                                               | 200/1000 [06:29<22:22,  1.68s/it]"
     ]
    },
    {
     "name": "stdout",
     "output_type": "stream",
     "text": [
      "self.get_collection_ratio(): 0.08023440156368083\n",
      "self.state.all_commed: True\n",
      "charging!!!!!!\n",
      "charging!!!!!!\n",
      "charging!!!!!!\n",
      "charging!!!!!!\n"
     ]
    },
    {
     "name": "stderr",
     "output_type": "stream",
     "text": [
      "\r",
      " 20%|███████████████▉                                                               | 201/1000 [06:31<23:08,  1.74s/it]"
     ]
    },
    {
     "name": "stdout",
     "output_type": "stream",
     "text": [
      "self.get_collection_ratio(): 0.14830700243343936\n",
      "self.state.all_commed: True\n",
      "charging!!!!!!\n",
      "charging!!!!!!\n",
      "charging!!!!!!\n",
      "charging!!!!!!\n",
      "charging!!!!!!\n",
      "charging!!!!!!\n"
     ]
    },
    {
     "name": "stderr",
     "output_type": "stream",
     "text": [
      "\r",
      " 20%|███████████████▉                                                               | 202/1000 [06:33<25:58,  1.95s/it]"
     ]
    },
    {
     "name": "stdout",
     "output_type": "stream",
     "text": [
      "self.get_collection_ratio(): 0.14622173849960382\n",
      "self.state.all_commed: True\n",
      "charging!!!!!!\n",
      "charging!!!!!!\n"
     ]
    },
    {
     "name": "stderr",
     "output_type": "stream",
     "text": [
      "\r",
      " 20%|████████████████                                                               | 203/1000 [06:35<23:28,  1.77s/it]"
     ]
    },
    {
     "name": "stdout",
     "output_type": "stream",
     "text": [
      "self.get_collection_ratio(): 0.08653574574668527\n",
      "self.state.all_commed: True\n",
      "charging!!!!!!\n",
      "charging!!!!!!\n"
     ]
    },
    {
     "name": "stderr",
     "output_type": "stream",
     "text": [
      "\r",
      " 20%|████████████████                                                               | 204/1000 [06:36<21:56,  1.65s/it]"
     ]
    },
    {
     "name": "stdout",
     "output_type": "stream",
     "text": [
      "self.get_collection_ratio(): 0.10005961209583528\n",
      "self.state.all_commed: True\n",
      "charging!!!!!!\n",
      "charging!!!!!!\n"
     ]
    },
    {
     "name": "stderr",
     "output_type": "stream",
     "text": [
      "\r",
      " 20%|████████████████▏                                                              | 205/1000 [06:37<20:34,  1.55s/it]"
     ]
    },
    {
     "name": "stdout",
     "output_type": "stream",
     "text": [
      "self.get_collection_ratio(): 0.09929216114433378\n",
      "self.state.all_commed: True\n",
      "charging!!!!!!\n",
      "charging!!!!!!\n",
      "charging!!!!!!\n",
      "charging!!!!!!\n",
      "charging!!!!!!\n",
      "charging!!!!!!\n"
     ]
    },
    {
     "name": "stderr",
     "output_type": "stream",
     "text": [
      "\r",
      " 21%|████████████████▎                                                              | 206/1000 [06:40<23:53,  1.81s/it]"
     ]
    },
    {
     "name": "stdout",
     "output_type": "stream",
     "text": [
      "self.get_collection_ratio(): 0.16800375373434603\n",
      "self.state.all_commed: True\n",
      "charging!!!!!!\n",
      "charging!!!!!!\n",
      "charging!!!!!!\n",
      "charging!!!!!!\n"
     ]
    },
    {
     "name": "stderr",
     "output_type": "stream",
     "text": [
      "\r",
      " 21%|████████████████▎                                                              | 207/1000 [06:42<24:09,  1.83s/it]"
     ]
    },
    {
     "name": "stdout",
     "output_type": "stream",
     "text": [
      "self.get_collection_ratio(): 0.20759547326352956\n",
      "self.state.all_commed: True\n",
      "charging!!!!!!\n",
      "charging!!!!!!\n",
      "charging!!!!!!\n",
      "charging!!!!!!\n"
     ]
    },
    {
     "name": "stderr",
     "output_type": "stream",
     "text": [
      "\r",
      " 21%|████████████████▍                                                              | 208/1000 [06:44<24:17,  1.84s/it]"
     ]
    },
    {
     "name": "stdout",
     "output_type": "stream",
     "text": [
      "self.get_collection_ratio(): 0.14802789349851386\n",
      "self.state.all_commed: True\n",
      "charging!!!!!!\n",
      "charging!!!!!!\n",
      "charging!!!!!!\n",
      "charging!!!!!!\n"
     ]
    },
    {
     "name": "stderr",
     "output_type": "stream",
     "text": [
      "\r",
      " 21%|████████████████▌                                                              | 209/1000 [06:45<24:14,  1.84s/it]"
     ]
    },
    {
     "name": "stdout",
     "output_type": "stream",
     "text": [
      "self.get_collection_ratio(): 0.14542389828889554\n",
      "self.state.all_commed: True\n",
      "charging!!!!!!\n",
      "charging!!!!!!\n",
      "charging!!!!!!\n",
      "charging!!!!!!\n"
     ]
    },
    {
     "name": "stderr",
     "output_type": "stream",
     "text": [
      "\r",
      " 21%|████████████████▌                                                              | 210/1000 [06:47<24:28,  1.86s/it]"
     ]
    },
    {
     "name": "stdout",
     "output_type": "stream",
     "text": [
      "self.get_collection_ratio(): 0.15112358643307822\n",
      "self.state.all_commed: True\n",
      "charging!!!!!!\n",
      "charging!!!!!!\n",
      "charging!!!!!!\n",
      "charging!!!!!!\n"
     ]
    },
    {
     "name": "stderr",
     "output_type": "stream",
     "text": [
      "\r",
      " 21%|████████████████▋                                                              | 211/1000 [06:49<24:11,  1.84s/it]"
     ]
    },
    {
     "name": "stdout",
     "output_type": "stream",
     "text": [
      "self.get_collection_ratio(): 0.17896304562581528\n",
      "self.state.all_commed: True\n",
      "charging!!!!!!\n",
      "charging!!!!!!\n",
      "charging!!!!!!\n",
      "charging!!!!!!\n"
     ]
    },
    {
     "name": "stderr",
     "output_type": "stream",
     "text": [
      "\r",
      " 21%|████████████████▋                                                              | 212/1000 [06:51<24:14,  1.85s/it]"
     ]
    },
    {
     "name": "stdout",
     "output_type": "stream",
     "text": [
      "self.get_collection_ratio(): 0.14514253060117382\n",
      "self.state.all_commed: True\n",
      "charging!!!!!!\n",
      "charging!!!!!!\n",
      "charging!!!!!!\n",
      "charging!!!!!!\n"
     ]
    },
    {
     "name": "stderr",
     "output_type": "stream",
     "text": [
      "\r",
      " 21%|████████████████▊                                                              | 213/1000 [06:53<24:32,  1.87s/it]"
     ]
    },
    {
     "name": "stdout",
     "output_type": "stream",
     "text": [
      "self.get_collection_ratio(): 0.15245369512991694\n",
      "self.state.all_commed: True\n",
      "charging!!!!!!\n",
      "charging!!!!!!\n",
      "charging!!!!!!\n",
      "charging!!!!!!\n",
      "charging!!!!!!\n",
      "charging!!!!!!\n"
     ]
    },
    {
     "name": "stderr",
     "output_type": "stream",
     "text": [
      "\r",
      " 21%|████████████████▉                                                              | 214/1000 [06:56<27:27,  2.10s/it]"
     ]
    },
    {
     "name": "stdout",
     "output_type": "stream",
     "text": [
      "self.get_collection_ratio(): 0.15108682941924856\n",
      "self.state.all_commed: True\n",
      "charging!!!!!!\n",
      "charging!!!!!!\n",
      "charging!!!!!!\n",
      "charging!!!!!!\n",
      "charging!!!!!!\n",
      "charging!!!!!!\n"
     ]
    },
    {
     "name": "stderr",
     "output_type": "stream",
     "text": [
      "\r",
      " 22%|████████████████▉                                                              | 215/1000 [06:58<29:17,  2.24s/it]"
     ]
    },
    {
     "name": "stdout",
     "output_type": "stream",
     "text": [
      "self.get_collection_ratio(): 0.2120052202350355\n",
      "self.state.all_commed: True\n",
      "charging!!!!!!\n",
      "charging!!!!!!\n"
     ]
    },
    {
     "name": "stderr",
     "output_type": "stream",
     "text": [
      "\r",
      " 22%|█████████████████                                                              | 216/1000 [07:00<25:59,  1.99s/it]"
     ]
    },
    {
     "name": "stdout",
     "output_type": "stream",
     "text": [
      "self.get_collection_ratio(): 0.0969191431113969\n",
      "self.state.all_commed: True\n",
      "charging!!!!!!\n",
      "charging!!!!!!\n",
      "charging!!!!!!\n",
      "charging!!!!!!\n",
      "charging!!!!!!\n",
      "charging!!!!!!\n"
     ]
    },
    {
     "name": "stderr",
     "output_type": "stream",
     "text": [
      "\r",
      " 22%|█████████████████▏                                                             | 217/1000 [07:02<28:06,  2.15s/it]"
     ]
    },
    {
     "name": "stdout",
     "output_type": "stream",
     "text": [
      "self.get_collection_ratio(): 0.18507714219533744\n",
      "self.state.all_commed: True\n",
      "charging!!!!!!\n",
      "charging!!!!!!\n",
      "charging!!!!!!\n",
      "charging!!!!!!\n"
     ]
    },
    {
     "name": "stderr",
     "output_type": "stream",
     "text": [
      "\r",
      " 22%|█████████████████▏                                                             | 218/1000 [07:06<35:44,  2.74s/it]"
     ]
    },
    {
     "name": "stdout",
     "output_type": "stream",
     "text": [
      "self.get_collection_ratio(): 0.16074040499602132\n",
      "self.state.all_commed: True\n",
      "charging!!!!!!\n",
      "charging!!!!!!\n",
      "charging!!!!!!\n",
      "charging!!!!!!\n",
      "charging!!!!!!\n",
      "charging!!!!!!\n"
     ]
    },
    {
     "name": "stderr",
     "output_type": "stream",
     "text": [
      "\r",
      " 22%|█████████████████▎                                                             | 219/1000 [07:09<35:27,  2.72s/it]"
     ]
    },
    {
     "name": "stdout",
     "output_type": "stream",
     "text": [
      "self.get_collection_ratio(): 0.17779034241875727\n",
      "self.state.all_commed: True\n",
      "charging!!!!!!\n",
      "charging!!!!!!\n"
     ]
    },
    {
     "name": "stderr",
     "output_type": "stream",
     "text": [
      "\r",
      " 22%|█████████████████▍                                                             | 220/1000 [07:10<30:21,  2.34s/it]"
     ]
    },
    {
     "name": "stdout",
     "output_type": "stream",
     "text": [
      "self.get_collection_ratio(): 0.07201587590120224\n",
      "self.state.all_commed: True\n",
      "charging!!!!!!\n",
      "charging!!!!!!\n"
     ]
    },
    {
     "name": "stderr",
     "output_type": "stream",
     "text": [
      "\r",
      " 22%|█████████████████▍                                                             | 221/1000 [07:12<26:46,  2.06s/it]"
     ]
    },
    {
     "name": "stdout",
     "output_type": "stream",
     "text": [
      "self.get_collection_ratio(): 0.0609413674783397\n",
      "self.state.all_commed: True\n",
      "charging!!!!!!\n",
      "charging!!!!!!\n"
     ]
    },
    {
     "name": "stderr",
     "output_type": "stream",
     "text": [
      "\r",
      " 22%|█████████████████▌                                                             | 222/1000 [07:13<23:54,  1.84s/it]"
     ]
    },
    {
     "name": "stdout",
     "output_type": "stream",
     "text": [
      "self.get_collection_ratio(): 0.08796251489770382\n",
      "self.state.all_commed: True\n",
      "charging!!!!!!\n",
      "charging!!!!!!\n",
      "charging!!!!!!\n",
      "charging!!!!!!\n"
     ]
    },
    {
     "name": "stderr",
     "output_type": "stream",
     "text": [
      "\r",
      " 22%|█████████████████▌                                                             | 223/1000 [07:15<24:04,  1.86s/it]"
     ]
    },
    {
     "name": "stdout",
     "output_type": "stream",
     "text": [
      "self.get_collection_ratio(): 0.1594185176202234\n",
      "self.state.all_commed: True\n",
      "charging!!!!!!\n",
      "charging!!!!!!\n",
      "charging!!!!!!\n",
      "charging!!!!!!\n",
      "charging!!!!!!\n",
      "charging!!!!!!\n"
     ]
    },
    {
     "name": "stderr",
     "output_type": "stream",
     "text": [
      "\r",
      " 22%|█████████████████▋                                                             | 224/1000 [07:17<26:11,  2.03s/it]"
     ]
    },
    {
     "name": "stdout",
     "output_type": "stream",
     "text": [
      "self.get_collection_ratio(): 0.17055929539599032\n",
      "self.state.all_commed: True\n",
      "charging!!!!!!\n",
      "charging!!!!!!\n",
      "charging!!!!!!\n",
      "charging!!!!!!\n",
      "charging!!!!!!\n",
      "charging!!!!!!\n"
     ]
    },
    {
     "name": "stderr",
     "output_type": "stream",
     "text": [
      "\r",
      " 22%|█████████████████▊                                                             | 225/1000 [07:20<27:22,  2.12s/it]"
     ]
    },
    {
     "name": "stdout",
     "output_type": "stream",
     "text": [
      "self.get_collection_ratio(): 0.19085425616487087\n",
      "self.state.all_commed: True\n",
      "charging!!!!!!\n",
      "charging!!!!!!\n"
     ]
    },
    {
     "name": "stderr",
     "output_type": "stream",
     "text": [
      "\r",
      " 23%|█████████████████▊                                                             | 226/1000 [07:21<24:23,  1.89s/it]"
     ]
    },
    {
     "name": "stdout",
     "output_type": "stream",
     "text": [
      "self.get_collection_ratio(): 0.07299166216362292\n",
      "self.state.all_commed: True\n",
      "charging!!!!!!\n",
      "charging!!!!!!\n"
     ]
    },
    {
     "name": "stderr",
     "output_type": "stream",
     "text": [
      "\r",
      " 23%|█████████████████▉                                                             | 227/1000 [07:22<22:26,  1.74s/it]"
     ]
    },
    {
     "name": "stdout",
     "output_type": "stream",
     "text": [
      "self.get_collection_ratio(): 0.08121318032953369\n",
      "self.state.all_commed: True\n",
      "charging!!!!!!\n",
      "charging!!!!!!\n"
     ]
    },
    {
     "name": "stderr",
     "output_type": "stream",
     "text": [
      "\r",
      " 23%|██████████████████                                                             | 228/1000 [07:24<20:58,  1.63s/it]"
     ]
    },
    {
     "name": "stdout",
     "output_type": "stream",
     "text": [
      "self.get_collection_ratio(): 0.07330683270466849\n",
      "self.state.all_commed: True\n",
      "charging!!!!!!\n",
      "charging!!!!!!\n",
      "charging!!!!!!\n",
      "charging!!!!!!\n"
     ]
    },
    {
     "name": "stderr",
     "output_type": "stream",
     "text": [
      "\r",
      " 23%|██████████████████                                                             | 229/1000 [07:26<21:55,  1.71s/it]"
     ]
    },
    {
     "name": "stdout",
     "output_type": "stream",
     "text": [
      "self.get_collection_ratio(): 0.14076547229067726\n",
      "self.state.all_commed: True\n",
      "charging!!!!!!\n",
      "charging!!!!!!\n"
     ]
    },
    {
     "name": "stderr",
     "output_type": "stream",
     "text": [
      "\r",
      " 23%|██████████████████▏                                                            | 230/1000 [07:27<20:34,  1.60s/it]"
     ]
    },
    {
     "name": "stdout",
     "output_type": "stream",
     "text": [
      "self.get_collection_ratio(): 0.10835466162865882\n",
      "self.state.all_commed: True\n",
      "charging!!!!!!\n",
      "charging!!!!!!\n"
     ]
    },
    {
     "name": "stderr",
     "output_type": "stream",
     "text": [
      "\r",
      " 23%|██████████████████▏                                                            | 231/1000 [07:28<19:37,  1.53s/it]"
     ]
    },
    {
     "name": "stdout",
     "output_type": "stream",
     "text": [
      "self.get_collection_ratio(): 0.10582733027355268\n",
      "self.state.all_commed: True\n",
      "charging!!!!!!\n",
      "charging!!!!!!\n"
     ]
    },
    {
     "name": "stderr",
     "output_type": "stream",
     "text": [
      "\r",
      " 23%|██████████████████▎                                                            | 232/1000 [07:30<18:50,  1.47s/it]"
     ]
    },
    {
     "name": "stdout",
     "output_type": "stream",
     "text": [
      "self.get_collection_ratio(): 0.08034294382005971\n",
      "self.state.all_commed: True\n",
      "charging!!!!!!\n",
      "charging!!!!!!\n",
      "charging!!!!!!\n",
      "charging!!!!!!\n",
      "charging!!!!!!\n",
      "charging!!!!!!\n"
     ]
    },
    {
     "name": "stderr",
     "output_type": "stream",
     "text": [
      "\r",
      " 23%|██████████████████▍                                                            | 233/1000 [07:32<22:38,  1.77s/it]"
     ]
    },
    {
     "name": "stdout",
     "output_type": "stream",
     "text": [
      "self.get_collection_ratio(): 0.21976438160476502\n",
      "self.state.all_commed: True\n",
      "charging!!!!!!\n",
      "charging!!!!!!\n",
      "charging!!!!!!\n",
      "charging!!!!!!\n",
      "charging!!!!!!\n",
      "charging!!!!!!\n"
     ]
    },
    {
     "name": "stderr",
     "output_type": "stream",
     "text": [
      "\r",
      " 23%|██████████████████▍                                                            | 234/1000 [07:35<25:01,  1.96s/it]"
     ]
    },
    {
     "name": "stdout",
     "output_type": "stream",
     "text": [
      "self.get_collection_ratio(): 0.1907293291047029\n",
      "self.state.all_commed: True\n",
      "charging!!!!!!\n",
      "charging!!!!!!\n",
      "charging!!!!!!\n",
      "charging!!!!!!\n"
     ]
    },
    {
     "name": "stderr",
     "output_type": "stream",
     "text": [
      "\r",
      " 24%|██████████████████▌                                                            | 235/1000 [07:37<25:02,  1.96s/it]"
     ]
    },
    {
     "name": "stdout",
     "output_type": "stream",
     "text": [
      "self.get_collection_ratio(): 0.17340980466128186\n",
      "self.state.all_commed: True\n",
      "charging!!!!!!\n",
      "charging!!!!!!\n"
     ]
    },
    {
     "name": "stderr",
     "output_type": "stream",
     "text": [
      "\r",
      " 24%|██████████████████▋                                                            | 236/1000 [07:38<22:44,  1.79s/it]"
     ]
    },
    {
     "name": "stdout",
     "output_type": "stream",
     "text": [
      "self.get_collection_ratio(): 0.09020530397728133\n",
      "self.state.all_commed: True\n",
      "charging!!!!!!\n",
      "charging!!!!!!\n",
      "charging!!!!!!\n",
      "charging!!!!!!\n"
     ]
    },
    {
     "name": "stderr",
     "output_type": "stream",
     "text": [
      "\r",
      " 24%|██████████████████▋                                                            | 237/1000 [07:40<23:09,  1.82s/it]"
     ]
    },
    {
     "name": "stdout",
     "output_type": "stream",
     "text": [
      "self.get_collection_ratio(): 0.14315317998338892\n",
      "self.state.all_commed: True\n",
      "charging!!!!!!\n",
      "charging!!!!!!\n",
      "charging!!!!!!\n",
      "charging!!!!!!\n"
     ]
    },
    {
     "name": "stderr",
     "output_type": "stream",
     "text": [
      "\r",
      " 24%|██████████████████▊                                                            | 238/1000 [07:42<23:19,  1.84s/it]"
     ]
    },
    {
     "name": "stdout",
     "output_type": "stream",
     "text": [
      "self.get_collection_ratio(): 0.16249908432404528\n",
      "self.state.all_commed: True\n",
      "charging!!!!!!\n",
      "charging!!!!!!\n",
      "charging!!!!!!\n",
      "charging!!!!!!\n"
     ]
    },
    {
     "name": "stderr",
     "output_type": "stream",
     "text": [
      "\r",
      " 24%|██████████████████▉                                                            | 239/1000 [07:44<23:38,  1.86s/it]"
     ]
    },
    {
     "name": "stdout",
     "output_type": "stream",
     "text": [
      "self.get_collection_ratio(): 0.128259163001452\n",
      "self.state.all_commed: True\n",
      "charging!!!!!!\n",
      "charging!!!!!!\n"
     ]
    },
    {
     "name": "stderr",
     "output_type": "stream",
     "text": [
      "\r",
      " 24%|██████████████████▉                                                            | 240/1000 [07:45<21:38,  1.71s/it]"
     ]
    },
    {
     "name": "stdout",
     "output_type": "stream",
     "text": [
      "self.get_collection_ratio(): 0.10219378064606413\n",
      "self.state.all_commed: True\n",
      "charging!!!!!!\n",
      "charging!!!!!!\n",
      "charging!!!!!!\n",
      "charging!!!!!!\n"
     ]
    },
    {
     "name": "stderr",
     "output_type": "stream",
     "text": [
      "\r",
      " 24%|███████████████████                                                            | 241/1000 [07:47<22:26,  1.77s/it]"
     ]
    },
    {
     "name": "stdout",
     "output_type": "stream",
     "text": [
      "self.get_collection_ratio(): 0.1297951883451928\n",
      "self.state.all_commed: True\n",
      "charging!!!!!!\n",
      "charging!!!!!!\n"
     ]
    },
    {
     "name": "stderr",
     "output_type": "stream",
     "text": [
      "\r",
      " 24%|███████████████████                                                            | 242/1000 [07:48<20:53,  1.65s/it]"
     ]
    },
    {
     "name": "stdout",
     "output_type": "stream",
     "text": [
      "self.get_collection_ratio(): 0.07889803552896284\n",
      "self.state.all_commed: True\n",
      "charging!!!!!!\n",
      "charging!!!!!!\n",
      "charging!!!!!!\n",
      "charging!!!!!!\n",
      "charging!!!!!!\n",
      "charging!!!!!!\n"
     ]
    },
    {
     "name": "stderr",
     "output_type": "stream",
     "text": [
      "\r",
      " 24%|███████████████████▏                                                           | 243/1000 [07:51<23:41,  1.88s/it]"
     ]
    },
    {
     "name": "stdout",
     "output_type": "stream",
     "text": [
      "self.get_collection_ratio(): 0.18959562842110045\n",
      "self.state.all_commed: True\n",
      "charging!!!!!!\n",
      "charging!!!!!!\n",
      "charging!!!!!!\n",
      "charging!!!!!!\n"
     ]
    },
    {
     "name": "stderr",
     "output_type": "stream",
     "text": [
      "\r",
      " 24%|███████████████████▎                                                           | 244/1000 [07:53<23:43,  1.88s/it]"
     ]
    },
    {
     "name": "stdout",
     "output_type": "stream",
     "text": [
      "self.get_collection_ratio(): 0.13791935306700942\n",
      "self.state.all_commed: True\n",
      "charging!!!!!!\n",
      "charging!!!!!!\n",
      "charging!!!!!!\n",
      "charging!!!!!!\n",
      "charging!!!!!!\n",
      "charging!!!!!!\n"
     ]
    },
    {
     "name": "stderr",
     "output_type": "stream",
     "text": [
      "\r",
      " 24%|███████████████████▎                                                           | 245/1000 [07:55<25:37,  2.04s/it]"
     ]
    },
    {
     "name": "stdout",
     "output_type": "stream",
     "text": [
      "self.get_collection_ratio(): 0.19658718629962604\n",
      "self.state.all_commed: True\n",
      "charging!!!!!!\n",
      "charging!!!!!!\n",
      "charging!!!!!!\n",
      "charging!!!!!!\n"
     ]
    },
    {
     "name": "stderr",
     "output_type": "stream",
     "text": [
      "\r",
      " 25%|███████████████████▍                                                           | 246/1000 [07:57<25:13,  2.01s/it]"
     ]
    },
    {
     "name": "stdout",
     "output_type": "stream",
     "text": [
      "self.get_collection_ratio(): 0.15162632707744622\n",
      "self.state.all_commed: True\n",
      "charging!!!!!!\n",
      "charging!!!!!!\n",
      "charging!!!!!!\n",
      "charging!!!!!!\n"
     ]
    },
    {
     "name": "stderr",
     "output_type": "stream",
     "text": [
      "\r",
      " 25%|███████████████████▌                                                           | 247/1000 [07:59<24:35,  1.96s/it]"
     ]
    },
    {
     "name": "stdout",
     "output_type": "stream",
     "text": [
      "self.get_collection_ratio(): 0.1497029222797088\n",
      "self.state.all_commed: True\n",
      "charging!!!!!!\n",
      "charging!!!!!!\n",
      "charging!!!!!!\n",
      "charging!!!!!!\n",
      "charging!!!!!!\n",
      "charging!!!!!!\n"
     ]
    },
    {
     "name": "stderr",
     "output_type": "stream",
     "text": [
      "\r",
      " 25%|███████████████████▌                                                           | 248/1000 [08:04<35:18,  2.82s/it]"
     ]
    },
    {
     "name": "stdout",
     "output_type": "stream",
     "text": [
      "self.get_collection_ratio(): 0.16778877465860917\n",
      "self.state.all_commed: True\n",
      "charging!!!!!!\n",
      "charging!!!!!!\n"
     ]
    },
    {
     "name": "stderr",
     "output_type": "stream",
     "text": [
      "\r",
      " 25%|███████████████████▋                                                           | 249/1000 [08:05<29:56,  2.39s/it]"
     ]
    },
    {
     "name": "stdout",
     "output_type": "stream",
     "text": [
      "self.get_collection_ratio(): 0.10508211898143127\n",
      "self.state.all_commed: True\n",
      "charging!!!!!!\n",
      "charging!!!!!!\n",
      "charging!!!!!!\n",
      "charging!!!!!!\n",
      "charging!!!!!!\n",
      "charging!!!!!!\n"
     ]
    },
    {
     "name": "stderr",
     "output_type": "stream",
     "text": [
      "\r",
      " 25%|███████████████████▊                                                           | 250/1000 [08:07<29:41,  2.38s/it]"
     ]
    },
    {
     "name": "stdout",
     "output_type": "stream",
     "text": [
      "self.get_collection_ratio(): 0.21112648317435154\n",
      "self.state.all_commed: True\n",
      "charging!!!!!!\n",
      "charging!!!!!!\n",
      "charging!!!!!!\n",
      "charging!!!!!!\n"
     ]
    },
    {
     "name": "stderr",
     "output_type": "stream",
     "text": [
      "\r",
      " 25%|███████████████████▊                                                           | 251/1000 [08:09<27:56,  2.24s/it]"
     ]
    },
    {
     "name": "stdout",
     "output_type": "stream",
     "text": [
      "self.get_collection_ratio(): 0.1678082138122009\n",
      "self.state.all_commed: True\n",
      "charging!!!!!!\n",
      "charging!!!!!!\n",
      "charging!!!!!!\n",
      "charging!!!!!!\n",
      "charging!!!!!!\n",
      "charging!!!!!!\n"
     ]
    },
    {
     "name": "stderr",
     "output_type": "stream",
     "text": [
      "\r",
      " 25%|███████████████████▉                                                           | 252/1000 [08:12<28:41,  2.30s/it]"
     ]
    },
    {
     "name": "stdout",
     "output_type": "stream",
     "text": [
      "self.get_collection_ratio(): 0.19614395274385468\n",
      "self.state.all_commed: True\n",
      "charging!!!!!!\n",
      "charging!!!!!!\n"
     ]
    },
    {
     "name": "stderr",
     "output_type": "stream",
     "text": [
      "\r",
      " 25%|███████████████████▉                                                           | 253/1000 [08:13<25:02,  2.01s/it]"
     ]
    },
    {
     "name": "stdout",
     "output_type": "stream",
     "text": [
      "self.get_collection_ratio(): 0.11127757275950856\n",
      "self.state.all_commed: True\n",
      "charging!!!!!!\n",
      "charging!!!!!!\n"
     ]
    },
    {
     "name": "stderr",
     "output_type": "stream",
     "text": [
      "\r",
      " 25%|████████████████████                                                           | 254/1000 [08:14<22:28,  1.81s/it]"
     ]
    },
    {
     "name": "stdout",
     "output_type": "stream",
     "text": [
      "self.get_collection_ratio(): 0.10761436147711512\n",
      "self.state.all_commed: True\n",
      "charging!!!!!!\n",
      "charging!!!!!!\n",
      "charging!!!!!!\n",
      "charging!!!!!!\n"
     ]
    },
    {
     "name": "stderr",
     "output_type": "stream",
     "text": [
      "\r",
      " 26%|████████████████████▏                                                          | 255/1000 [08:16<22:37,  1.82s/it]"
     ]
    },
    {
     "name": "stdout",
     "output_type": "stream",
     "text": [
      "self.get_collection_ratio(): 0.19141472731809342\n",
      "self.state.all_commed: True\n",
      "charging!!!!!!\n",
      "charging!!!!!!\n",
      "charging!!!!!!\n",
      "charging!!!!!!\n"
     ]
    },
    {
     "name": "stderr",
     "output_type": "stream",
     "text": [
      "\r",
      " 26%|████████████████████▏                                                          | 256/1000 [08:18<22:42,  1.83s/it]"
     ]
    },
    {
     "name": "stdout",
     "output_type": "stream",
     "text": [
      "self.get_collection_ratio(): 0.18144583476702286\n",
      "self.state.all_commed: True\n",
      "charging!!!!!!\n",
      "charging!!!!!!\n"
     ]
    },
    {
     "name": "stderr",
     "output_type": "stream",
     "text": [
      "\r",
      " 26%|████████████████████▎                                                          | 257/1000 [08:19<20:55,  1.69s/it]"
     ]
    },
    {
     "name": "stdout",
     "output_type": "stream",
     "text": [
      "self.get_collection_ratio(): 0.09638675103575897\n",
      "self.state.all_commed: True\n",
      "charging!!!!!!\n",
      "charging!!!!!!\n"
     ]
    },
    {
     "name": "stderr",
     "output_type": "stream",
     "text": [
      "\r",
      " 26%|████████████████████▍                                                          | 258/1000 [08:21<19:57,  1.61s/it]"
     ]
    },
    {
     "name": "stdout",
     "output_type": "stream",
     "text": [
      "self.get_collection_ratio(): 0.09594436202733128\n",
      "self.state.all_commed: True\n",
      "charging!!!!!!\n",
      "charging!!!!!!\n",
      "charging!!!!!!\n",
      "charging!!!!!!\n"
     ]
    },
    {
     "name": "stderr",
     "output_type": "stream",
     "text": [
      "\r",
      " 26%|████████████████████▍                                                          | 259/1000 [08:23<20:52,  1.69s/it]"
     ]
    },
    {
     "name": "stdout",
     "output_type": "stream",
     "text": [
      "self.get_collection_ratio(): 0.17537451431694343\n",
      "self.state.all_commed: True\n",
      "charging!!!!!!\n",
      "charging!!!!!!\n"
     ]
    },
    {
     "name": "stderr",
     "output_type": "stream",
     "text": [
      "\r",
      " 26%|████████████████████▌                                                          | 260/1000 [08:24<19:54,  1.61s/it]"
     ]
    },
    {
     "name": "stdout",
     "output_type": "stream",
     "text": [
      "self.get_collection_ratio(): 0.09171484885373969\n",
      "self.state.all_commed: True\n",
      "charging!!!!!!\n",
      "charging!!!!!!\n",
      "charging!!!!!!\n",
      "charging!!!!!!\n"
     ]
    },
    {
     "name": "stderr",
     "output_type": "stream",
     "text": [
      "\r",
      " 26%|████████████████████▌                                                          | 261/1000 [08:26<20:42,  1.68s/it]"
     ]
    },
    {
     "name": "stdout",
     "output_type": "stream",
     "text": [
      "self.get_collection_ratio(): 0.17988494302808483\n",
      "self.state.all_commed: True\n",
      "charging!!!!!!\n",
      "charging!!!!!!\n",
      "charging!!!!!!\n",
      "charging!!!!!!\n",
      "charging!!!!!!\n",
      "charging!!!!!!\n"
     ]
    },
    {
     "name": "stderr",
     "output_type": "stream",
     "text": [
      "\r",
      " 26%|████████████████████▋                                                          | 262/1000 [08:28<23:13,  1.89s/it]"
     ]
    },
    {
     "name": "stdout",
     "output_type": "stream",
     "text": [
      "self.get_collection_ratio(): 0.18240451456185502\n",
      "self.state.all_commed: True\n",
      "charging!!!!!!\n",
      "charging!!!!!!\n",
      "charging!!!!!!\n",
      "charging!!!!!!\n",
      "charging!!!!!!\n",
      "charging!!!!!!\n"
     ]
    },
    {
     "name": "stderr",
     "output_type": "stream",
     "text": [
      "\r",
      " 26%|████████████████████▊                                                          | 263/1000 [08:31<24:39,  2.01s/it]"
     ]
    },
    {
     "name": "stdout",
     "output_type": "stream",
     "text": [
      "self.get_collection_ratio(): 0.22726249403790738\n",
      "self.state.all_commed: True\n",
      "charging!!!!!!\n",
      "charging!!!!!!\n",
      "charging!!!!!!\n",
      "charging!!!!!!\n",
      "charging!!!!!!\n",
      "charging!!!!!!\n"
     ]
    },
    {
     "name": "stderr",
     "output_type": "stream",
     "text": [
      "\r",
      " 26%|████████████████████▊                                                          | 264/1000 [08:33<25:56,  2.11s/it]"
     ]
    },
    {
     "name": "stdout",
     "output_type": "stream",
     "text": [
      "self.get_collection_ratio(): 0.1937638855177627\n",
      "self.state.all_commed: True\n",
      "charging!!!!!!\n",
      "charging!!!!!!\n"
     ]
    },
    {
     "name": "stderr",
     "output_type": "stream",
     "text": [
      "\r",
      " 26%|████████████████████▉                                                          | 265/1000 [08:34<23:00,  1.88s/it]"
     ]
    },
    {
     "name": "stdout",
     "output_type": "stream",
     "text": [
      "self.get_collection_ratio(): 0.11731587077913055\n",
      "self.state.all_commed: True\n",
      "charging!!!!!!\n",
      "charging!!!!!!\n"
     ]
    },
    {
     "name": "stderr",
     "output_type": "stream",
     "text": [
      "\r",
      " 27%|█████████████████████                                                          | 266/1000 [08:36<20:50,  1.70s/it]"
     ]
    },
    {
     "name": "stdout",
     "output_type": "stream",
     "text": [
      "self.get_collection_ratio(): 0.09713881280196435\n",
      "self.state.all_commed: True\n",
      "charging!!!!!!\n",
      "charging!!!!!!\n",
      "charging!!!!!!\n",
      "charging!!!!!!\n"
     ]
    },
    {
     "name": "stderr",
     "output_type": "stream",
     "text": [
      "\r",
      " 27%|█████████████████████                                                          | 267/1000 [08:38<21:43,  1.78s/it]"
     ]
    },
    {
     "name": "stdout",
     "output_type": "stream",
     "text": [
      "self.get_collection_ratio(): 0.1574011237581964\n",
      "self.state.all_commed: True\n",
      "charging!!!!!!\n",
      "charging!!!!!!\n",
      "charging!!!!!!\n",
      "charging!!!!!!\n"
     ]
    },
    {
     "name": "stderr",
     "output_type": "stream",
     "text": [
      "\r",
      " 27%|█████████████████████▏                                                         | 268/1000 [08:40<22:33,  1.85s/it]"
     ]
    },
    {
     "name": "stdout",
     "output_type": "stream",
     "text": [
      "self.get_collection_ratio(): 0.1404245969527829\n",
      "self.state.all_commed: True\n",
      "charging!!!!!!\n",
      "charging!!!!!!\n",
      "charging!!!!!!\n",
      "charging!!!!!!\n"
     ]
    },
    {
     "name": "stderr",
     "output_type": "stream",
     "text": [
      "\r",
      " 27%|█████████████████████▎                                                         | 269/1000 [08:42<23:09,  1.90s/it]"
     ]
    },
    {
     "name": "stdout",
     "output_type": "stream",
     "text": [
      "self.get_collection_ratio(): 0.16793846785312083\n",
      "self.state.all_commed: True\n",
      "charging!!!!!!\n",
      "charging!!!!!!\n",
      "charging!!!!!!\n",
      "charging!!!!!!\n",
      "charging!!!!!!\n",
      "charging!!!!!!\n"
     ]
    },
    {
     "name": "stderr",
     "output_type": "stream",
     "text": [
      "\r",
      " 27%|█████████████████████▎                                                         | 270/1000 [08:44<24:57,  2.05s/it]"
     ]
    },
    {
     "name": "stdout",
     "output_type": "stream",
     "text": [
      "self.get_collection_ratio(): 0.2001889156977776\n",
      "self.state.all_commed: True\n",
      "charging!!!!!!\n",
      "charging!!!!!!\n"
     ]
    },
    {
     "name": "stderr",
     "output_type": "stream",
     "text": [
      "\r",
      " 27%|█████████████████████▍                                                         | 271/1000 [08:45<22:20,  1.84s/it]"
     ]
    },
    {
     "name": "stdout",
     "output_type": "stream",
     "text": [
      "self.get_collection_ratio(): 0.09960546103667443\n",
      "self.state.all_commed: True\n",
      "charging!!!!!!\n",
      "charging!!!!!!\n",
      "charging!!!!!!\n",
      "charging!!!!!!\n"
     ]
    },
    {
     "name": "stderr",
     "output_type": "stream",
     "text": [
      "\r",
      " 27%|█████████████████████▍                                                         | 272/1000 [08:47<22:21,  1.84s/it]"
     ]
    },
    {
     "name": "stdout",
     "output_type": "stream",
     "text": [
      "self.get_collection_ratio(): 0.11810782886223223\n",
      "self.state.all_commed: True\n",
      "charging!!!!!!\n",
      "charging!!!!!!\n",
      "charging!!!!!!\n",
      "charging!!!!!!\n"
     ]
    },
    {
     "name": "stderr",
     "output_type": "stream",
     "text": [
      "\r",
      " 27%|█████████████████████▌                                                         | 273/1000 [08:49<22:14,  1.84s/it]"
     ]
    },
    {
     "name": "stdout",
     "output_type": "stream",
     "text": [
      "self.get_collection_ratio(): 0.15304346615001221\n",
      "self.state.all_commed: True\n",
      "charging!!!!!!\n",
      "charging!!!!!!\n",
      "charging!!!!!!\n",
      "charging!!!!!!\n",
      "charging!!!!!!\n",
      "charging!!!!!!\n"
     ]
    },
    {
     "name": "stderr",
     "output_type": "stream",
     "text": [
      "\r",
      " 27%|█████████████████████▋                                                         | 274/1000 [08:51<23:50,  1.97s/it]"
     ]
    },
    {
     "name": "stdout",
     "output_type": "stream",
     "text": [
      "self.get_collection_ratio(): 0.19640653705422748\n",
      "self.state.all_commed: True\n",
      "charging!!!!!!\n",
      "charging!!!!!!\n",
      "charging!!!!!!\n",
      "charging!!!!!!\n"
     ]
    },
    {
     "name": "stderr",
     "output_type": "stream",
     "text": [
      "\r",
      " 28%|█████████████████████▋                                                         | 275/1000 [08:53<23:23,  1.94s/it]"
     ]
    },
    {
     "name": "stdout",
     "output_type": "stream",
     "text": [
      "self.get_collection_ratio(): 0.13901916703345907\n",
      "self.state.all_commed: True\n",
      "charging!!!!!!\n",
      "charging!!!!!!\n",
      "charging!!!!!!\n",
      "charging!!!!!!\n",
      "charging!!!!!!\n",
      "charging!!!!!!\n"
     ]
    },
    {
     "name": "stderr",
     "output_type": "stream",
     "text": [
      "\r",
      " 28%|█████████████████████▊                                                         | 276/1000 [08:56<24:58,  2.07s/it]"
     ]
    },
    {
     "name": "stdout",
     "output_type": "stream",
     "text": [
      "self.get_collection_ratio(): 0.1950551868675019\n",
      "self.state.all_commed: True\n",
      "charging!!!!!!\n",
      "charging!!!!!!\n"
     ]
    },
    {
     "name": "stderr",
     "output_type": "stream",
     "text": [
      "\r",
      " 28%|█████████████████████▉                                                         | 277/1000 [08:57<22:33,  1.87s/it]"
     ]
    },
    {
     "name": "stdout",
     "output_type": "stream",
     "text": [
      "self.get_collection_ratio(): 0.062168760214079494\n",
      "self.state.all_commed: True\n",
      "charging!!!!!!\n",
      "charging!!!!!!\n"
     ]
    },
    {
     "name": "stderr",
     "output_type": "stream",
     "text": [
      "\r",
      " 28%|█████████████████████▉                                                         | 278/1000 [08:58<20:34,  1.71s/it]"
     ]
    },
    {
     "name": "stdout",
     "output_type": "stream",
     "text": [
      "self.get_collection_ratio(): 0.10732877277493463\n",
      "self.state.all_commed: True\n",
      "charging!!!!!!\n",
      "charging!!!!!!\n"
     ]
    },
    {
     "name": "stderr",
     "output_type": "stream",
     "text": [
      "\r",
      " 28%|██████████████████████                                                         | 279/1000 [09:00<19:18,  1.61s/it]"
     ]
    },
    {
     "name": "stdout",
     "output_type": "stream",
     "text": [
      "self.get_collection_ratio(): 0.10084825226643987\n",
      "self.state.all_commed: True\n",
      "charging!!!!!!\n",
      "charging!!!!!!\n"
     ]
    },
    {
     "name": "stderr",
     "output_type": "stream",
     "text": [
      "\r",
      " 28%|██████████████████████                                                         | 280/1000 [09:01<18:25,  1.54s/it]"
     ]
    },
    {
     "name": "stdout",
     "output_type": "stream",
     "text": [
      "self.get_collection_ratio(): 0.08314159904991576\n",
      "self.state.all_commed: True\n",
      "charging!!!!!!\n",
      "charging!!!!!!\n",
      "charging!!!!!!\n",
      "charging!!!!!!\n"
     ]
    },
    {
     "name": "stderr",
     "output_type": "stream",
     "text": [
      "\r",
      " 28%|██████████████████████▏                                                        | 281/1000 [09:03<19:36,  1.64s/it]"
     ]
    },
    {
     "name": "stdout",
     "output_type": "stream",
     "text": [
      "self.get_collection_ratio(): 0.17490276503231098\n",
      "self.state.all_commed: True\n",
      "charging!!!!!!\n",
      "charging!!!!!!\n",
      "charging!!!!!!\n",
      "charging!!!!!!\n"
     ]
    },
    {
     "name": "stderr",
     "output_type": "stream",
     "text": [
      "\r",
      " 28%|██████████████████████▎                                                        | 282/1000 [09:07<29:52,  2.50s/it]"
     ]
    },
    {
     "name": "stdout",
     "output_type": "stream",
     "text": [
      "self.get_collection_ratio(): 0.1494556364140465\n",
      "self.state.all_commed: True\n",
      "charging!!!!!!\n",
      "charging!!!!!!\n",
      "charging!!!!!!\n",
      "charging!!!!!!\n"
     ]
    },
    {
     "name": "stderr",
     "output_type": "stream",
     "text": [
      "\r",
      " 28%|██████████████████████▎                                                        | 283/1000 [09:09<27:31,  2.30s/it]"
     ]
    },
    {
     "name": "stdout",
     "output_type": "stream",
     "text": [
      "self.get_collection_ratio(): 0.1628782535052786\n",
      "self.state.all_commed: True\n",
      "charging!!!!!!\n",
      "charging!!!!!!\n",
      "charging!!!!!!\n",
      "charging!!!!!!\n"
     ]
    },
    {
     "name": "stderr",
     "output_type": "stream",
     "text": [
      "\r",
      " 28%|██████████████████████▍                                                        | 284/1000 [09:11<25:58,  2.18s/it]"
     ]
    },
    {
     "name": "stdout",
     "output_type": "stream",
     "text": [
      "self.get_collection_ratio(): 0.16196492740199875\n",
      "self.state.all_commed: True\n",
      "charging!!!!!!\n",
      "charging!!!!!!\n"
     ]
    },
    {
     "name": "stderr",
     "output_type": "stream",
     "text": [
      "\r",
      " 28%|██████████████████████▌                                                        | 285/1000 [09:13<23:04,  1.94s/it]"
     ]
    },
    {
     "name": "stdout",
     "output_type": "stream",
     "text": [
      "self.get_collection_ratio(): 0.07769382425850478\n",
      "self.state.all_commed: True\n",
      "charging!!!!!!\n",
      "charging!!!!!!\n",
      "charging!!!!!!\n",
      "charging!!!!!!\n"
     ]
    },
    {
     "name": "stderr",
     "output_type": "stream",
     "text": [
      "\r",
      " 29%|██████████████████████▌                                                        | 286/1000 [09:14<22:39,  1.90s/it]"
     ]
    },
    {
     "name": "stdout",
     "output_type": "stream",
     "text": [
      "self.get_collection_ratio(): 0.1427546164519104\n",
      "self.state.all_commed: True\n",
      "charging!!!!!!\n",
      "charging!!!!!!\n"
     ]
    },
    {
     "name": "stderr",
     "output_type": "stream",
     "text": [
      "\r",
      " 29%|██████████████████████▋                                                        | 287/1000 [09:16<20:46,  1.75s/it]"
     ]
    },
    {
     "name": "stdout",
     "output_type": "stream",
     "text": [
      "self.get_collection_ratio(): 0.09773844966648913\n",
      "self.state.all_commed: True\n",
      "charging!!!!!!\n",
      "charging!!!!!!\n"
     ]
    },
    {
     "name": "stderr",
     "output_type": "stream",
     "text": [
      "\r",
      " 29%|██████████████████████▊                                                        | 288/1000 [09:17<19:30,  1.64s/it]"
     ]
    },
    {
     "name": "stdout",
     "output_type": "stream",
     "text": [
      "self.get_collection_ratio(): 0.12345660802349889\n",
      "self.state.all_commed: True\n",
      "charging!!!!!!\n",
      "charging!!!!!!\n",
      "charging!!!!!!\n",
      "charging!!!!!!\n"
     ]
    },
    {
     "name": "stderr",
     "output_type": "stream",
     "text": [
      "\r",
      " 29%|██████████████████████▊                                                        | 289/1000 [09:19<20:20,  1.72s/it]"
     ]
    },
    {
     "name": "stdout",
     "output_type": "stream",
     "text": [
      "self.get_collection_ratio(): 0.1513545091581582\n",
      "self.state.all_commed: True\n",
      "charging!!!!!!\n",
      "charging!!!!!!\n",
      "charging!!!!!!\n",
      "charging!!!!!!\n",
      "charging!!!!!!\n",
      "charging!!!!!!\n"
     ]
    },
    {
     "name": "stderr",
     "output_type": "stream",
     "text": [
      "\r",
      " 29%|██████████████████████▉                                                        | 290/1000 [09:21<22:46,  1.92s/it]"
     ]
    },
    {
     "name": "stdout",
     "output_type": "stream",
     "text": [
      "self.get_collection_ratio(): 0.19717540148894194\n",
      "self.state.all_commed: True\n",
      "charging!!!!!!\n",
      "charging!!!!!!\n",
      "charging!!!!!!\n",
      "charging!!!!!!\n",
      "charging!!!!!!\n",
      "charging!!!!!!\n"
     ]
    },
    {
     "name": "stderr",
     "output_type": "stream",
     "text": [
      "\r",
      " 29%|██████████████████████▉                                                        | 291/1000 [09:24<24:15,  2.05s/it]"
     ]
    },
    {
     "name": "stdout",
     "output_type": "stream",
     "text": [
      "self.get_collection_ratio(): 0.2218471723598145\n",
      "self.state.all_commed: True\n",
      "charging!!!!!!\n",
      "charging!!!!!!\n",
      "charging!!!!!!\n",
      "charging!!!!!!\n"
     ]
    },
    {
     "name": "stderr",
     "output_type": "stream",
     "text": [
      "\r",
      " 29%|███████████████████████                                                        | 292/1000 [09:26<23:43,  2.01s/it]"
     ]
    },
    {
     "name": "stdout",
     "output_type": "stream",
     "text": [
      "self.get_collection_ratio(): 0.13235708232594562\n",
      "self.state.all_commed: True\n",
      "charging!!!!!!\n",
      "charging!!!!!!\n"
     ]
    },
    {
     "name": "stderr",
     "output_type": "stream",
     "text": [
      "\r",
      " 29%|███████████████████████▏                                                       | 293/1000 [09:27<21:40,  1.84s/it]"
     ]
    },
    {
     "name": "stdout",
     "output_type": "stream",
     "text": [
      "self.get_collection_ratio(): 0.09513936487878538\n",
      "self.state.all_commed: True\n",
      "charging!!!!!!\n",
      "charging!!!!!!\n",
      "charging!!!!!!\n",
      "charging!!!!!!\n",
      "charging!!!!!!\n",
      "charging!!!!!!\n"
     ]
    },
    {
     "name": "stderr",
     "output_type": "stream",
     "text": [
      "\r",
      " 29%|███████████████████████▏                                                       | 294/1000 [09:30<23:37,  2.01s/it]"
     ]
    },
    {
     "name": "stdout",
     "output_type": "stream",
     "text": [
      "self.get_collection_ratio(): 0.22866914269595856\n",
      "self.state.all_commed: True\n",
      "charging!!!!!!\n",
      "charging!!!!!!\n",
      "charging!!!!!!\n",
      "charging!!!!!!\n",
      "charging!!!!!!\n",
      "charging!!!!!!\n"
     ]
    },
    {
     "name": "stderr",
     "output_type": "stream",
     "text": [
      "\r",
      " 30%|███████████████████████▎                                                       | 295/1000 [09:32<25:10,  2.14s/it]"
     ]
    },
    {
     "name": "stdout",
     "output_type": "stream",
     "text": [
      "self.get_collection_ratio(): 0.18331667590540549\n",
      "self.state.all_commed: True\n",
      "charging!!!!!!\n",
      "charging!!!!!!\n",
      "charging!!!!!!\n",
      "charging!!!!!!\n",
      "charging!!!!!!\n",
      "charging!!!!!!\n"
     ]
    },
    {
     "name": "stderr",
     "output_type": "stream",
     "text": [
      "\r",
      " 30%|███████████████████████▍                                                       | 296/1000 [09:34<26:07,  2.23s/it]"
     ]
    },
    {
     "name": "stdout",
     "output_type": "stream",
     "text": [
      "self.get_collection_ratio(): 0.12813084383831216\n",
      "self.state.all_commed: True\n",
      "charging!!!!!!\n",
      "charging!!!!!!\n"
     ]
    },
    {
     "name": "stderr",
     "output_type": "stream",
     "text": [
      "\r",
      " 30%|███████████████████████▍                                                       | 297/1000 [09:36<23:00,  1.96s/it]"
     ]
    },
    {
     "name": "stdout",
     "output_type": "stream",
     "text": [
      "self.get_collection_ratio(): 0.1111329725137752\n",
      "self.state.all_commed: True\n",
      "charging!!!!!!\n",
      "charging!!!!!!\n",
      "charging!!!!!!\n",
      "charging!!!!!!\n",
      "charging!!!!!!\n",
      "charging!!!!!!\n"
     ]
    },
    {
     "name": "stderr",
     "output_type": "stream",
     "text": [
      "\r",
      " 30%|███████████████████████▌                                                       | 298/1000 [09:38<24:20,  2.08s/it]"
     ]
    },
    {
     "name": "stdout",
     "output_type": "stream",
     "text": [
      "self.get_collection_ratio(): 0.22084671647596388\n",
      "self.state.all_commed: True\n",
      "charging!!!!!!\n",
      "charging!!!!!!\n",
      "charging!!!!!!\n",
      "charging!!!!!!\n",
      "charging!!!!!!\n",
      "charging!!!!!!\n"
     ]
    },
    {
     "name": "stderr",
     "output_type": "stream",
     "text": [
      "\r",
      " 30%|███████████████████████▌                                                       | 299/1000 [09:41<25:25,  2.18s/it]"
     ]
    },
    {
     "name": "stdout",
     "output_type": "stream",
     "text": [
      "self.get_collection_ratio(): 0.15381192167678673\n",
      "self.state.all_commed: True\n",
      "charging!!!!!!\n",
      "charging!!!!!!\n",
      "charging!!!!!!\n",
      "charging!!!!!!\n",
      "charging!!!!!!\n",
      "charging!!!!!!\n"
     ]
    },
    {
     "name": "stderr",
     "output_type": "stream",
     "text": [
      "\r",
      " 30%|███████████████████████▋                                                       | 300/1000 [09:43<26:05,  2.24s/it]"
     ]
    },
    {
     "name": "stdout",
     "output_type": "stream",
     "text": [
      "self.get_collection_ratio(): 0.18718318898468342\n",
      "self.state.all_commed: True\n",
      "charging!!!!!!\n",
      "charging!!!!!!\n"
     ]
    },
    {
     "name": "stderr",
     "output_type": "stream",
     "text": [
      "\r",
      " 30%|███████████████████████▊                                                       | 301/1000 [09:44<22:58,  1.97s/it]"
     ]
    },
    {
     "name": "stdout",
     "output_type": "stream",
     "text": [
      "self.get_collection_ratio(): 0.08442645866031881\n",
      "self.state.all_commed: True\n",
      "charging!!!!!!\n",
      "charging!!!!!!\n"
     ]
    },
    {
     "name": "stderr",
     "output_type": "stream",
     "text": [
      "\r",
      " 30%|███████████████████████▊                                                       | 302/1000 [09:46<20:47,  1.79s/it]"
     ]
    },
    {
     "name": "stdout",
     "output_type": "stream",
     "text": [
      "self.get_collection_ratio(): 0.11089090153433874\n",
      "self.state.all_commed: True\n",
      "charging!!!!!!\n",
      "charging!!!!!!\n"
     ]
    },
    {
     "name": "stderr",
     "output_type": "stream",
     "text": [
      "\r",
      " 30%|███████████████████████▉                                                       | 303/1000 [09:47<19:10,  1.65s/it]"
     ]
    },
    {
     "name": "stdout",
     "output_type": "stream",
     "text": [
      "self.get_collection_ratio(): 0.08655556254333573\n",
      "self.state.all_commed: True\n",
      "charging!!!!!!\n",
      "charging!!!!!!\n"
     ]
    },
    {
     "name": "stderr",
     "output_type": "stream",
     "text": [
      "\r",
      " 30%|████████████████████████                                                       | 304/1000 [09:48<17:54,  1.54s/it]"
     ]
    },
    {
     "name": "stdout",
     "output_type": "stream",
     "text": [
      "self.get_collection_ratio(): 0.10621264829048031\n",
      "self.state.all_commed: True\n",
      "charging!!!!!!\n",
      "charging!!!!!!\n"
     ]
    },
    {
     "name": "stderr",
     "output_type": "stream",
     "text": [
      "\r",
      " 30%|████████████████████████                                                       | 305/1000 [09:50<17:05,  1.48s/it]"
     ]
    },
    {
     "name": "stdout",
     "output_type": "stream",
     "text": [
      "self.get_collection_ratio(): 0.10104233157903364\n",
      "self.state.all_commed: True\n",
      "charging!!!!!!\n",
      "charging!!!!!!\n"
     ]
    },
    {
     "name": "stderr",
     "output_type": "stream",
     "text": [
      "\r",
      " 31%|████████████████████████▏                                                      | 306/1000 [09:51<16:36,  1.44s/it]"
     ]
    },
    {
     "name": "stdout",
     "output_type": "stream",
     "text": [
      "self.get_collection_ratio(): 0.08215884158270523\n",
      "self.state.all_commed: True\n",
      "charging!!!!!!\n",
      "charging!!!!!!\n",
      "charging!!!!!!\n",
      "charging!!!!!!\n",
      "charging!!!!!!\n",
      "charging!!!!!!\n"
     ]
    },
    {
     "name": "stderr",
     "output_type": "stream",
     "text": [
      "\r",
      " 31%|████████████████████████▎                                                      | 307/1000 [09:53<20:05,  1.74s/it]"
     ]
    },
    {
     "name": "stdout",
     "output_type": "stream",
     "text": [
      "self.get_collection_ratio(): 0.14347463213532088\n",
      "self.state.all_commed: True\n",
      "charging!!!!!!\n",
      "charging!!!!!!\n",
      "charging!!!!!!\n",
      "charging!!!!!!\n",
      "charging!!!!!!\n",
      "charging!!!!!!\n"
     ]
    },
    {
     "name": "stderr",
     "output_type": "stream",
     "text": [
      "\r",
      " 31%|████████████████████████▎                                                      | 308/1000 [09:56<22:15,  1.93s/it]"
     ]
    },
    {
     "name": "stdout",
     "output_type": "stream",
     "text": [
      "self.get_collection_ratio(): 0.20547266940295747\n",
      "self.state.all_commed: True\n",
      "charging!!!!!!\n",
      "charging!!!!!!\n",
      "charging!!!!!!\n",
      "charging!!!!!!\n"
     ]
    },
    {
     "name": "stderr",
     "output_type": "stream",
     "text": [
      "\r",
      " 31%|████████████████████████▍                                                      | 309/1000 [09:58<21:58,  1.91s/it]"
     ]
    },
    {
     "name": "stdout",
     "output_type": "stream",
     "text": [
      "self.get_collection_ratio(): 0.176722766409274\n",
      "self.state.all_commed: True\n",
      "charging!!!!!!\n",
      "charging!!!!!!\n"
     ]
    },
    {
     "name": "stderr",
     "output_type": "stream",
     "text": [
      "\r",
      " 31%|████████████████████████▍                                                      | 310/1000 [09:59<19:58,  1.74s/it]"
     ]
    },
    {
     "name": "stdout",
     "output_type": "stream",
     "text": [
      "self.get_collection_ratio(): 0.07403154484846763\n",
      "self.state.all_commed: True\n",
      "charging!!!!!!\n",
      "charging!!!!!!\n",
      "charging!!!!!!\n",
      "charging!!!!!!\n",
      "charging!!!!!!\n",
      "charging!!!!!!\n"
     ]
    },
    {
     "name": "stderr",
     "output_type": "stream",
     "text": [
      "\r",
      " 31%|████████████████████████▌                                                      | 311/1000 [10:01<22:19,  1.94s/it]"
     ]
    },
    {
     "name": "stdout",
     "output_type": "stream",
     "text": [
      "self.get_collection_ratio(): 0.16794274247780955\n",
      "self.state.all_commed: True\n",
      "charging!!!!!!\n",
      "charging!!!!!!\n",
      "charging!!!!!!\n",
      "charging!!!!!!\n",
      "charging!!!!!!\n",
      "charging!!!!!!\n"
     ]
    },
    {
     "name": "stderr",
     "output_type": "stream",
     "text": [
      "\r",
      " 31%|████████████████████████▋                                                      | 312/1000 [10:04<23:46,  2.07s/it]"
     ]
    },
    {
     "name": "stdout",
     "output_type": "stream",
     "text": [
      "self.get_collection_ratio(): 0.21875079439383194\n",
      "self.state.all_commed: True\n",
      "charging!!!!!!\n",
      "charging!!!!!!\n"
     ]
    },
    {
     "name": "stderr",
     "output_type": "stream",
     "text": [
      "\r",
      " 31%|████████████████████████▋                                                      | 313/1000 [10:05<21:23,  1.87s/it]"
     ]
    },
    {
     "name": "stdout",
     "output_type": "stream",
     "text": [
      "self.get_collection_ratio(): 0.06790645812424606\n",
      "self.state.all_commed: True\n",
      "charging!!!!!!\n",
      "charging!!!!!!\n"
     ]
    },
    {
     "name": "stderr",
     "output_type": "stream",
     "text": [
      "\r",
      " 31%|████████████████████████▊                                                      | 314/1000 [10:06<19:33,  1.71s/it]"
     ]
    },
    {
     "name": "stdout",
     "output_type": "stream",
     "text": [
      "self.get_collection_ratio(): 0.07239852827218628\n",
      "self.state.all_commed: True\n",
      "charging!!!!!!\n",
      "charging!!!!!!\n",
      "charging!!!!!!\n",
      "charging!!!!!!\n",
      "charging!!!!!!\n",
      "charging!!!!!!\n"
     ]
    },
    {
     "name": "stderr",
     "output_type": "stream",
     "text": [
      "\r",
      " 32%|████████████████████████▉                                                      | 315/1000 [10:09<21:42,  1.90s/it]"
     ]
    },
    {
     "name": "stdout",
     "output_type": "stream",
     "text": [
      "self.get_collection_ratio(): 0.17498798448323022\n",
      "self.state.all_commed: True\n",
      "charging!!!!!!\n",
      "charging!!!!!!\n"
     ]
    },
    {
     "name": "stderr",
     "output_type": "stream",
     "text": [
      "\r",
      " 32%|████████████████████████▉                                                      | 316/1000 [10:10<19:45,  1.73s/it]"
     ]
    },
    {
     "name": "stdout",
     "output_type": "stream",
     "text": [
      "self.get_collection_ratio(): 0.10118620764362654\n",
      "self.state.all_commed: True\n",
      "charging!!!!!!\n",
      "charging!!!!!!\n"
     ]
    },
    {
     "name": "stderr",
     "output_type": "stream",
     "text": [
      "\r",
      " 32%|█████████████████████████                                                      | 317/1000 [10:12<18:32,  1.63s/it]"
     ]
    },
    {
     "name": "stdout",
     "output_type": "stream",
     "text": [
      "self.get_collection_ratio(): 0.08529218015979255\n",
      "self.state.all_commed: True\n",
      "charging!!!!!!\n",
      "charging!!!!!!\n"
     ]
    },
    {
     "name": "stderr",
     "output_type": "stream",
     "text": [
      "\r",
      " 32%|█████████████████████████                                                      | 318/1000 [10:13<17:52,  1.57s/it]"
     ]
    },
    {
     "name": "stdout",
     "output_type": "stream",
     "text": [
      "self.get_collection_ratio(): 0.08679813861834788\n",
      "self.state.all_commed: True\n",
      "charging!!!!!!\n",
      "charging!!!!!!\n"
     ]
    },
    {
     "name": "stderr",
     "output_type": "stream",
     "text": [
      "\r",
      " 32%|█████████████████████████▏                                                     | 319/1000 [10:17<27:32,  2.43s/it]"
     ]
    },
    {
     "name": "stdout",
     "output_type": "stream",
     "text": [
      "self.get_collection_ratio(): 0.07111824092312602\n",
      "self.state.all_commed: True\n",
      "charging!!!!!!\n",
      "charging!!!!!!\n",
      "charging!!!!!!\n",
      "charging!!!!!!\n",
      "charging!!!!!!\n",
      "charging!!!!!!\n"
     ]
    },
    {
     "name": "stderr",
     "output_type": "stream",
     "text": [
      "\r",
      " 32%|█████████████████████████▎                                                     | 320/1000 [10:20<27:16,  2.41s/it]"
     ]
    },
    {
     "name": "stdout",
     "output_type": "stream",
     "text": [
      "self.get_collection_ratio(): 0.21493496493938707\n",
      "self.state.all_commed: True\n",
      "charging!!!!!!\n",
      "charging!!!!!!\n"
     ]
    },
    {
     "name": "stderr",
     "output_type": "stream",
     "text": [
      "\r",
      " 32%|█████████████████████████▎                                                     | 321/1000 [10:21<23:27,  2.07s/it]"
     ]
    },
    {
     "name": "stdout",
     "output_type": "stream",
     "text": [
      "self.get_collection_ratio(): 0.1037990516877521\n",
      "self.state.all_commed: True\n",
      "charging!!!!!!\n",
      "charging!!!!!!\n"
     ]
    },
    {
     "name": "stderr",
     "output_type": "stream",
     "text": [
      "\r",
      " 32%|█████████████████████████▍                                                     | 322/1000 [10:22<21:09,  1.87s/it]"
     ]
    },
    {
     "name": "stdout",
     "output_type": "stream",
     "text": [
      "self.get_collection_ratio(): 0.1187830458379929\n",
      "self.state.all_commed: True\n",
      "charging!!!!!!\n",
      "charging!!!!!!\n"
     ]
    },
    {
     "name": "stderr",
     "output_type": "stream",
     "text": [
      "\r",
      " 32%|█████████████████████████▌                                                     | 323/1000 [10:24<19:23,  1.72s/it]"
     ]
    },
    {
     "name": "stdout",
     "output_type": "stream",
     "text": [
      "self.get_collection_ratio(): 0.11529648381207408\n",
      "self.state.all_commed: True\n",
      "charging!!!!!!\n",
      "charging!!!!!!\n",
      "charging!!!!!!\n",
      "charging!!!!!!\n"
     ]
    },
    {
     "name": "stderr",
     "output_type": "stream",
     "text": [
      "\r",
      " 32%|█████████████████████████▌                                                     | 324/1000 [10:26<19:51,  1.76s/it]"
     ]
    },
    {
     "name": "stdout",
     "output_type": "stream",
     "text": [
      "self.get_collection_ratio(): 0.15883381395524124\n",
      "self.state.all_commed: True\n",
      "charging!!!!!!\n",
      "charging!!!!!!\n"
     ]
    },
    {
     "name": "stderr",
     "output_type": "stream",
     "text": [
      "\r",
      " 32%|█████████████████████████▋                                                     | 325/1000 [10:27<18:33,  1.65s/it]"
     ]
    },
    {
     "name": "stdout",
     "output_type": "stream",
     "text": [
      "self.get_collection_ratio(): 0.08980714094313003\n",
      "self.state.all_commed: True\n",
      "charging!!!!!!\n",
      "charging!!!!!!\n",
      "charging!!!!!!\n",
      "charging!!!!!!\n",
      "charging!!!!!!\n",
      "charging!!!!!!\n"
     ]
    },
    {
     "name": "stderr",
     "output_type": "stream",
     "text": [
      "\r",
      " 33%|█████████████████████████▊                                                     | 326/1000 [10:30<21:27,  1.91s/it]"
     ]
    },
    {
     "name": "stdout",
     "output_type": "stream",
     "text": [
      "self.get_collection_ratio(): 0.15870718695441083\n",
      "self.state.all_commed: True\n",
      "charging!!!!!!\n",
      "charging!!!!!!\n",
      "charging!!!!!!\n",
      "charging!!!!!!\n",
      "charging!!!!!!\n",
      "charging!!!!!!\n"
     ]
    },
    {
     "name": "stderr",
     "output_type": "stream",
     "text": [
      "\r",
      " 33%|█████████████████████████▊                                                     | 327/1000 [10:32<22:53,  2.04s/it]"
     ]
    },
    {
     "name": "stdout",
     "output_type": "stream",
     "text": [
      "self.get_collection_ratio(): 0.19167568077542319\n",
      "self.state.all_commed: True\n",
      "charging!!!!!!\n",
      "charging!!!!!!\n"
     ]
    },
    {
     "name": "stderr",
     "output_type": "stream",
     "text": [
      "\r",
      " 33%|█████████████████████████▉                                                     | 328/1000 [10:33<20:41,  1.85s/it]"
     ]
    },
    {
     "name": "stdout",
     "output_type": "stream",
     "text": [
      "self.get_collection_ratio(): 0.10650572418916392\n",
      "self.state.all_commed: True\n",
      "charging!!!!!!\n",
      "charging!!!!!!\n"
     ]
    },
    {
     "name": "stderr",
     "output_type": "stream",
     "text": [
      "\r",
      " 33%|█████████████████████████▉                                                     | 329/1000 [10:35<18:57,  1.70s/it]"
     ]
    },
    {
     "name": "stdout",
     "output_type": "stream",
     "text": [
      "self.get_collection_ratio(): 0.07925486624508499\n",
      "self.state.all_commed: True\n",
      "charging!!!!!!\n",
      "charging!!!!!!\n"
     ]
    },
    {
     "name": "stderr",
     "output_type": "stream",
     "text": [
      "\r",
      " 33%|██████████████████████████                                                     | 330/1000 [10:36<17:34,  1.57s/it]"
     ]
    },
    {
     "name": "stdout",
     "output_type": "stream",
     "text": [
      "self.get_collection_ratio(): 0.08903117361642697\n",
      "self.state.all_commed: True\n",
      "charging!!!!!!\n",
      "charging!!!!!!\n",
      "charging!!!!!!\n",
      "charging!!!!!!\n"
     ]
    },
    {
     "name": "stderr",
     "output_type": "stream",
     "text": [
      "\r",
      " 33%|██████████████████████████▏                                                    | 331/1000 [10:38<18:32,  1.66s/it]"
     ]
    },
    {
     "name": "stdout",
     "output_type": "stream",
     "text": [
      "self.get_collection_ratio(): 0.18457984036608294\n",
      "self.state.all_commed: True\n",
      "charging!!!!!!\n",
      "charging!!!!!!\n",
      "charging!!!!!!\n",
      "charging!!!!!!\n"
     ]
    },
    {
     "name": "stderr",
     "output_type": "stream",
     "text": [
      "\r",
      " 33%|██████████████████████████▏                                                    | 332/1000 [10:40<19:06,  1.72s/it]"
     ]
    },
    {
     "name": "stdout",
     "output_type": "stream",
     "text": [
      "self.get_collection_ratio(): 0.13472924406852457\n",
      "self.state.all_commed: True\n",
      "charging!!!!!!\n",
      "charging!!!!!!\n",
      "charging!!!!!!\n",
      "charging!!!!!!\n",
      "charging!!!!!!\n",
      "charging!!!!!!\n"
     ]
    },
    {
     "name": "stderr",
     "output_type": "stream",
     "text": [
      "\r",
      " 33%|██████████████████████████▎                                                    | 333/1000 [10:42<21:10,  1.91s/it]"
     ]
    },
    {
     "name": "stdout",
     "output_type": "stream",
     "text": [
      "self.get_collection_ratio(): 0.21297368167095942\n",
      "self.state.all_commed: True\n",
      "charging!!!!!!\n",
      "charging!!!!!!\n",
      "charging!!!!!!\n",
      "charging!!!!!!\n",
      "charging!!!!!!\n",
      "charging!!!!!!\n"
     ]
    },
    {
     "name": "stderr",
     "output_type": "stream",
     "text": [
      "\r",
      " 33%|██████████████████████████▍                                                    | 334/1000 [10:44<22:28,  2.03s/it]"
     ]
    },
    {
     "name": "stdout",
     "output_type": "stream",
     "text": [
      "self.get_collection_ratio(): 0.18853465243364267\n",
      "self.state.all_commed: True\n",
      "charging!!!!!!\n",
      "charging!!!!!!\n",
      "charging!!!!!!\n",
      "charging!!!!!!\n"
     ]
    },
    {
     "name": "stderr",
     "output_type": "stream",
     "text": [
      "\r",
      " 34%|██████████████████████████▍                                                    | 335/1000 [10:46<21:46,  1.96s/it]"
     ]
    },
    {
     "name": "stdout",
     "output_type": "stream",
     "text": [
      "self.get_collection_ratio(): 0.1351160829911485\n",
      "self.state.all_commed: True\n",
      "charging!!!!!!\n",
      "charging!!!!!!\n",
      "charging!!!!!!\n",
      "charging!!!!!!\n",
      "charging!!!!!!\n",
      "charging!!!!!!\n"
     ]
    },
    {
     "name": "stderr",
     "output_type": "stream",
     "text": [
      "\r",
      " 34%|██████████████████████████▌                                                    | 336/1000 [10:49<23:10,  2.09s/it]"
     ]
    },
    {
     "name": "stdout",
     "output_type": "stream",
     "text": [
      "self.get_collection_ratio(): 0.21876704398757132\n",
      "self.state.all_commed: True\n",
      "charging!!!!!!\n",
      "charging!!!!!!\n",
      "charging!!!!!!\n",
      "charging!!!!!!\n"
     ]
    },
    {
     "name": "stderr",
     "output_type": "stream",
     "text": [
      "\r",
      " 34%|██████████████████████████▌                                                    | 337/1000 [10:50<22:10,  2.01s/it]"
     ]
    },
    {
     "name": "stdout",
     "output_type": "stream",
     "text": [
      "self.get_collection_ratio(): 0.16496103035724408\n",
      "self.state.all_commed: True\n",
      "charging!!!!!!\n",
      "charging!!!!!!\n"
     ]
    },
    {
     "name": "stderr",
     "output_type": "stream",
     "text": [
      "\r",
      " 34%|██████████████████████████▋                                                    | 338/1000 [10:52<20:12,  1.83s/it]"
     ]
    },
    {
     "name": "stdout",
     "output_type": "stream",
     "text": [
      "self.get_collection_ratio(): 0.08399397434062877\n",
      "self.state.all_commed: True\n",
      "charging!!!!!!\n",
      "charging!!!!!!\n",
      "charging!!!!!!\n",
      "charging!!!!!!\n"
     ]
    },
    {
     "name": "stderr",
     "output_type": "stream",
     "text": [
      "\r",
      " 34%|██████████████████████████▊                                                    | 339/1000 [10:54<20:12,  1.83s/it]"
     ]
    },
    {
     "name": "stdout",
     "output_type": "stream",
     "text": [
      "self.get_collection_ratio(): 0.13998191748534114\n",
      "self.state.all_commed: True\n",
      "charging!!!!!!\n",
      "charging!!!!!!\n"
     ]
    },
    {
     "name": "stderr",
     "output_type": "stream",
     "text": [
      "\r",
      " 34%|██████████████████████████▊                                                    | 340/1000 [10:55<18:37,  1.69s/it]"
     ]
    },
    {
     "name": "stdout",
     "output_type": "stream",
     "text": [
      "self.get_collection_ratio(): 0.11372732466752353\n",
      "self.state.all_commed: True\n",
      "charging!!!!!!\n",
      "charging!!!!!!\n",
      "charging!!!!!!\n",
      "charging!!!!!!\n"
     ]
    },
    {
     "name": "stderr",
     "output_type": "stream",
     "text": [
      "\r",
      " 34%|██████████████████████████▉                                                    | 341/1000 [10:57<19:08,  1.74s/it]"
     ]
    },
    {
     "name": "stdout",
     "output_type": "stream",
     "text": [
      "self.get_collection_ratio(): 0.11221706956022875\n",
      "self.state.all_commed: True\n",
      "charging!!!!!!\n",
      "charging!!!!!!\n"
     ]
    },
    {
     "name": "stderr",
     "output_type": "stream",
     "text": [
      "\r",
      " 34%|███████████████████████████                                                    | 342/1000 [10:58<17:46,  1.62s/it]"
     ]
    },
    {
     "name": "stdout",
     "output_type": "stream",
     "text": [
      "self.get_collection_ratio(): 0.10366429210150976\n",
      "self.state.all_commed: True\n",
      "charging!!!!!!\n",
      "charging!!!!!!\n",
      "charging!!!!!!\n",
      "charging!!!!!!\n"
     ]
    },
    {
     "name": "stderr",
     "output_type": "stream",
     "text": [
      "\r",
      " 34%|███████████████████████████                                                    | 343/1000 [11:00<18:30,  1.69s/it]"
     ]
    },
    {
     "name": "stdout",
     "output_type": "stream",
     "text": [
      "self.get_collection_ratio(): 0.1838944197378935\n",
      "self.state.all_commed: True\n",
      "charging!!!!!!\n",
      "charging!!!!!!\n",
      "charging!!!!!!\n",
      "charging!!!!!!\n",
      "charging!!!!!!\n",
      "charging!!!!!!\n"
     ]
    },
    {
     "name": "stderr",
     "output_type": "stream",
     "text": [
      "\r",
      " 34%|███████████████████████████▏                                                   | 344/1000 [11:02<20:48,  1.90s/it]"
     ]
    },
    {
     "name": "stdout",
     "output_type": "stream",
     "text": [
      "self.get_collection_ratio(): 0.16788707384171947\n",
      "self.state.all_commed: True\n",
      "charging!!!!!!\n",
      "charging!!!!!!\n",
      "charging!!!!!!\n",
      "charging!!!!!!\n"
     ]
    },
    {
     "name": "stderr",
     "output_type": "stream",
     "text": [
      "\r",
      " 34%|███████████████████████████▎                                                   | 345/1000 [11:04<20:46,  1.90s/it]"
     ]
    },
    {
     "name": "stdout",
     "output_type": "stream",
     "text": [
      "self.get_collection_ratio(): 0.14549712049513128\n",
      "self.state.all_commed: True\n",
      "charging!!!!!!\n",
      "charging!!!!!!\n"
     ]
    },
    {
     "name": "stderr",
     "output_type": "stream",
     "text": [
      "\r",
      " 35%|███████████████████████████▎                                                   | 346/1000 [11:06<18:49,  1.73s/it]"
     ]
    },
    {
     "name": "stdout",
     "output_type": "stream",
     "text": [
      "self.get_collection_ratio(): 0.08994948774857972\n",
      "self.state.all_commed: True\n",
      "charging!!!!!!\n",
      "charging!!!!!!\n"
     ]
    },
    {
     "name": "stderr",
     "output_type": "stream",
     "text": [
      "\r",
      " 35%|███████████████████████████▍                                                   | 347/1000 [11:07<17:29,  1.61s/it]"
     ]
    },
    {
     "name": "stdout",
     "output_type": "stream",
     "text": [
      "self.get_collection_ratio(): 0.07840880993408589\n",
      "self.state.all_commed: True\n",
      "charging!!!!!!\n",
      "charging!!!!!!\n",
      "charging!!!!!!\n",
      "charging!!!!!!\n",
      "charging!!!!!!\n",
      "charging!!!!!!\n"
     ]
    },
    {
     "name": "stderr",
     "output_type": "stream",
     "text": [
      "\r",
      " 35%|███████████████████████████▍                                                   | 348/1000 [11:09<20:04,  1.85s/it]"
     ]
    },
    {
     "name": "stdout",
     "output_type": "stream",
     "text": [
      "self.get_collection_ratio(): 0.24374586927240605\n",
      "self.state.all_commed: True\n",
      "charging!!!!!!\n",
      "charging!!!!!!\n",
      "charging!!!!!!\n",
      "charging!!!!!!\n",
      "charging!!!!!!\n",
      "charging!!!!!!\n"
     ]
    },
    {
     "name": "stderr",
     "output_type": "stream",
     "text": [
      "\r",
      " 35%|███████████████████████████▌                                                   | 349/1000 [11:12<21:54,  2.02s/it]"
     ]
    },
    {
     "name": "stdout",
     "output_type": "stream",
     "text": [
      "self.get_collection_ratio(): 0.16875843132009244\n",
      "self.state.all_commed: True\n",
      "charging!!!!!!\n",
      "charging!!!!!!\n",
      "charging!!!!!!\n",
      "charging!!!!!!\n"
     ]
    },
    {
     "name": "stderr",
     "output_type": "stream",
     "text": [
      "\r",
      " 35%|███████████████████████████▋                                                   | 350/1000 [11:14<21:18,  1.97s/it]"
     ]
    },
    {
     "name": "stdout",
     "output_type": "stream",
     "text": [
      "self.get_collection_ratio(): 0.128329528747078\n",
      "self.state.all_commed: True\n",
      "charging!!!!!!\n",
      "charging!!!!!!\n",
      "charging!!!!!!\n",
      "charging!!!!!!\n"
     ]
    },
    {
     "name": "stderr",
     "output_type": "stream",
     "text": [
      "\r",
      " 35%|███████████████████████████▋                                                   | 351/1000 [11:16<20:54,  1.93s/it]"
     ]
    },
    {
     "name": "stdout",
     "output_type": "stream",
     "text": [
      "self.get_collection_ratio(): 0.14937228206501207\n",
      "self.state.all_commed: True\n",
      "charging!!!!!!\n",
      "charging!!!!!!\n",
      "charging!!!!!!\n",
      "charging!!!!!!\n",
      "charging!!!!!!\n",
      "charging!!!!!!\n"
     ]
    },
    {
     "name": "stderr",
     "output_type": "stream",
     "text": [
      "\r",
      " 35%|███████████████████████████▊                                                   | 352/1000 [11:18<22:17,  2.06s/it]"
     ]
    },
    {
     "name": "stdout",
     "output_type": "stream",
     "text": [
      "self.get_collection_ratio(): 0.1874347083887459\n",
      "self.state.all_commed: True\n",
      "charging!!!!!!\n",
      "charging!!!!!!\n",
      "charging!!!!!!\n",
      "charging!!!!!!\n",
      "charging!!!!!!\n",
      "charging!!!!!!\n"
     ]
    },
    {
     "name": "stderr",
     "output_type": "stream",
     "text": [
      "\r",
      " 35%|███████████████████████████▉                                                   | 353/1000 [11:20<23:19,  2.16s/it]"
     ]
    },
    {
     "name": "stdout",
     "output_type": "stream",
     "text": [
      "self.get_collection_ratio(): 0.1959114915603374\n",
      "self.state.all_commed: True\n",
      "charging!!!!!!\n",
      "charging!!!!!!\n",
      "charging!!!!!!\n",
      "charging!!!!!!\n",
      "charging!!!!!!\n",
      "charging!!!!!!\n"
     ]
    },
    {
     "name": "stderr",
     "output_type": "stream",
     "text": [
      "\r",
      " 35%|███████████████████████████▉                                                   | 354/1000 [11:23<23:55,  2.22s/it]"
     ]
    },
    {
     "name": "stdout",
     "output_type": "stream",
     "text": [
      "self.get_collection_ratio(): 0.16485184244836404\n",
      "self.state.all_commed: True\n",
      "charging!!!!!!\n",
      "charging!!!!!!\n",
      "charging!!!!!!\n",
      "charging!!!!!!\n",
      "charging!!!!!!\n",
      "charging!!!!!!\n"
     ]
    },
    {
     "name": "stderr",
     "output_type": "stream",
     "text": [
      "\r",
      " 36%|████████████████████████████                                                   | 355/1000 [11:25<24:23,  2.27s/it]"
     ]
    },
    {
     "name": "stdout",
     "output_type": "stream",
     "text": [
      "self.get_collection_ratio(): 0.1949975604461032\n",
      "self.state.all_commed: True\n",
      "charging!!!!!!\n",
      "charging!!!!!!\n"
     ]
    },
    {
     "name": "stderr",
     "output_type": "stream",
     "text": [
      "\r",
      " 36%|████████████████████████████                                                   | 356/1000 [11:26<21:20,  1.99s/it]"
     ]
    },
    {
     "name": "stdout",
     "output_type": "stream",
     "text": [
      "self.get_collection_ratio(): 0.08660973380803735\n",
      "self.state.all_commed: True\n",
      "charging!!!!!!\n",
      "charging!!!!!!\n",
      "charging!!!!!!\n",
      "charging!!!!!!\n"
     ]
    },
    {
     "name": "stderr",
     "output_type": "stream",
     "text": [
      "\r",
      " 36%|████████████████████████████▏                                                  | 357/1000 [11:28<21:09,  1.97s/it]"
     ]
    },
    {
     "name": "stdout",
     "output_type": "stream",
     "text": [
      "self.get_collection_ratio(): 0.17665319178301603\n",
      "self.state.all_commed: True\n",
      "charging!!!!!!\n",
      "charging!!!!!!\n",
      "charging!!!!!!\n",
      "charging!!!!!!\n",
      "charging!!!!!!\n",
      "charging!!!!!!\n"
     ]
    },
    {
     "name": "stderr",
     "output_type": "stream",
     "text": [
      "\r",
      " 36%|████████████████████████████▎                                                  | 358/1000 [11:31<22:21,  2.09s/it]"
     ]
    },
    {
     "name": "stdout",
     "output_type": "stream",
     "text": [
      "self.get_collection_ratio(): 0.18699582376970725\n",
      "self.state.all_commed: True\n",
      "charging!!!!!!\n",
      "charging!!!!!!\n"
     ]
    },
    {
     "name": "stderr",
     "output_type": "stream",
     "text": [
      "\r",
      " 36%|████████████████████████████▎                                                  | 359/1000 [11:32<20:03,  1.88s/it]"
     ]
    },
    {
     "name": "stdout",
     "output_type": "stream",
     "text": [
      "self.get_collection_ratio(): 0.0671222380363083\n",
      "self.state.all_commed: True\n",
      "charging!!!!!!\n",
      "charging!!!!!!\n",
      "charging!!!!!!\n",
      "charging!!!!!!\n"
     ]
    },
    {
     "name": "stderr",
     "output_type": "stream",
     "text": [
      "\r",
      " 36%|████████████████████████████▍                                                  | 360/1000 [11:37<30:54,  2.90s/it]"
     ]
    },
    {
     "name": "stdout",
     "output_type": "stream",
     "text": [
      "self.get_collection_ratio(): 0.15272958340310838\n",
      "self.state.all_commed: True\n",
      "charging!!!!!!\n",
      "charging!!!!!!\n"
     ]
    },
    {
     "name": "stderr",
     "output_type": "stream",
     "text": [
      "\r",
      " 36%|████████████████████████████▌                                                  | 361/1000 [11:39<25:46,  2.42s/it]"
     ]
    },
    {
     "name": "stdout",
     "output_type": "stream",
     "text": [
      "self.get_collection_ratio(): 0.09008684461618559\n",
      "self.state.all_commed: True\n",
      "charging!!!!!!\n",
      "charging!!!!!!\n",
      "charging!!!!!!\n",
      "charging!!!!!!\n"
     ]
    },
    {
     "name": "stderr",
     "output_type": "stream",
     "text": [
      "\r",
      " 36%|████████████████████████████▌                                                  | 362/1000 [11:40<23:58,  2.26s/it]"
     ]
    },
    {
     "name": "stdout",
     "output_type": "stream",
     "text": [
      "self.get_collection_ratio(): 0.1718771517470337\n",
      "self.state.all_commed: True\n",
      "charging!!!!!!\n",
      "charging!!!!!!\n",
      "charging!!!!!!\n",
      "charging!!!!!!\n",
      "charging!!!!!!\n",
      "charging!!!!!!\n"
     ]
    },
    {
     "name": "stderr",
     "output_type": "stream",
     "text": [
      "\r",
      " 36%|████████████████████████████▋                                                  | 363/1000 [11:43<24:21,  2.29s/it]"
     ]
    },
    {
     "name": "stdout",
     "output_type": "stream",
     "text": [
      "self.get_collection_ratio(): 0.19759716147419262\n",
      "self.state.all_commed: True\n",
      "charging!!!!!!\n",
      "charging!!!!!!\n",
      "charging!!!!!!\n",
      "charging!!!!!!\n"
     ]
    },
    {
     "name": "stderr",
     "output_type": "stream",
     "text": [
      "\r",
      " 36%|████████████████████████████▊                                                  | 364/1000 [11:45<22:56,  2.17s/it]"
     ]
    },
    {
     "name": "stdout",
     "output_type": "stream",
     "text": [
      "self.get_collection_ratio(): 0.1619278080571433\n",
      "self.state.all_commed: True\n",
      "charging!!!!!!\n",
      "charging!!!!!!\n"
     ]
    },
    {
     "name": "stderr",
     "output_type": "stream",
     "text": [
      "\r",
      " 36%|████████████████████████████▊                                                  | 365/1000 [11:46<20:06,  1.90s/it]"
     ]
    },
    {
     "name": "stdout",
     "output_type": "stream",
     "text": [
      "self.get_collection_ratio(): 0.08915984285925928\n",
      "self.state.all_commed: True\n",
      "charging!!!!!!\n",
      "charging!!!!!!\n"
     ]
    },
    {
     "name": "stderr",
     "output_type": "stream",
     "text": [
      "\r",
      " 37%|████████████████████████████▉                                                  | 366/1000 [11:47<18:14,  1.73s/it]"
     ]
    },
    {
     "name": "stdout",
     "output_type": "stream",
     "text": [
      "self.get_collection_ratio(): 0.0889468392465347\n",
      "self.state.all_commed: True\n",
      "charging!!!!!!\n",
      "charging!!!!!!\n",
      "charging!!!!!!\n",
      "charging!!!!!!\n"
     ]
    },
    {
     "name": "stderr",
     "output_type": "stream",
     "text": [
      "\r",
      " 37%|████████████████████████████▉                                                  | 367/1000 [11:49<18:29,  1.75s/it]"
     ]
    },
    {
     "name": "stdout",
     "output_type": "stream",
     "text": [
      "self.get_collection_ratio(): 0.1341381342864627\n",
      "self.state.all_commed: True\n",
      "charging!!!!!!\n",
      "charging!!!!!!\n"
     ]
    },
    {
     "name": "stderr",
     "output_type": "stream",
     "text": [
      "\r",
      " 37%|█████████████████████████████                                                  | 368/1000 [11:51<17:14,  1.64s/it]"
     ]
    },
    {
     "name": "stdout",
     "output_type": "stream",
     "text": [
      "self.get_collection_ratio(): 0.11382054430213408\n",
      "self.state.all_commed: True\n",
      "charging!!!!!!\n",
      "charging!!!!!!\n",
      "charging!!!!!!\n",
      "charging!!!!!!\n"
     ]
    },
    {
     "name": "stderr",
     "output_type": "stream",
     "text": [
      "\r",
      " 37%|█████████████████████████████▏                                                 | 369/1000 [11:52<17:58,  1.71s/it]"
     ]
    },
    {
     "name": "stdout",
     "output_type": "stream",
     "text": [
      "self.get_collection_ratio(): 0.14771133640602754\n",
      "self.state.all_commed: True\n",
      "charging!!!!!!\n",
      "charging!!!!!!\n"
     ]
    },
    {
     "name": "stderr",
     "output_type": "stream",
     "text": [
      "\r",
      " 37%|█████████████████████████████▏                                                 | 370/1000 [11:54<16:49,  1.60s/it]"
     ]
    },
    {
     "name": "stdout",
     "output_type": "stream",
     "text": [
      "self.get_collection_ratio(): 0.10154423580529132\n",
      "self.state.all_commed: True\n",
      "charging!!!!!!\n",
      "charging!!!!!!\n",
      "charging!!!!!!\n",
      "charging!!!!!!\n"
     ]
    },
    {
     "name": "stderr",
     "output_type": "stream",
     "text": [
      "\r",
      " 37%|█████████████████████████████▎                                                 | 371/1000 [11:56<17:32,  1.67s/it]"
     ]
    },
    {
     "name": "stdout",
     "output_type": "stream",
     "text": [
      "self.get_collection_ratio(): 0.16332532579316067\n",
      "self.state.all_commed: True\n",
      "charging!!!!!!\n",
      "charging!!!!!!\n",
      "charging!!!!!!\n",
      "charging!!!!!!\n",
      "charging!!!!!!\n",
      "charging!!!!!!\n"
     ]
    },
    {
     "name": "stderr",
     "output_type": "stream",
     "text": [
      "\r",
      " 37%|█████████████████████████████▍                                                 | 372/1000 [11:58<19:33,  1.87s/it]"
     ]
    },
    {
     "name": "stdout",
     "output_type": "stream",
     "text": [
      "self.get_collection_ratio(): 0.1919172859637275\n",
      "self.state.all_commed: True\n",
      "charging!!!!!!\n",
      "charging!!!!!!\n"
     ]
    },
    {
     "name": "stderr",
     "output_type": "stream",
     "text": [
      "\r",
      " 37%|█████████████████████████████▍                                                 | 373/1000 [11:59<17:56,  1.72s/it]"
     ]
    },
    {
     "name": "stdout",
     "output_type": "stream",
     "text": [
      "self.get_collection_ratio(): 0.12670674344851407\n",
      "self.state.all_commed: True\n",
      "charging!!!!!!\n",
      "charging!!!!!!\n",
      "charging!!!!!!\n",
      "charging!!!!!!\n",
      "charging!!!!!!\n",
      "charging!!!!!!\n"
     ]
    },
    {
     "name": "stderr",
     "output_type": "stream",
     "text": [
      "\r",
      " 37%|█████████████████████████████▌                                                 | 374/1000 [12:02<19:56,  1.91s/it]"
     ]
    },
    {
     "name": "stdout",
     "output_type": "stream",
     "text": [
      "self.get_collection_ratio(): 0.1970572712958544\n",
      "self.state.all_commed: True\n",
      "charging!!!!!!\n",
      "charging!!!!!!\n"
     ]
    },
    {
     "name": "stderr",
     "output_type": "stream",
     "text": [
      "\r",
      " 38%|█████████████████████████████▋                                                 | 375/1000 [12:03<18:02,  1.73s/it]"
     ]
    },
    {
     "name": "stdout",
     "output_type": "stream",
     "text": [
      "self.get_collection_ratio(): 0.08942299527012855\n",
      "self.state.all_commed: True\n",
      "charging!!!!!!\n",
      "charging!!!!!!\n"
     ]
    },
    {
     "name": "stderr",
     "output_type": "stream",
     "text": [
      "\r",
      " 38%|█████████████████████████████▋                                                 | 376/1000 [12:04<16:50,  1.62s/it]"
     ]
    },
    {
     "name": "stdout",
     "output_type": "stream",
     "text": [
      "self.get_collection_ratio(): 0.11397938921316625\n",
      "self.state.all_commed: True\n",
      "charging!!!!!!\n",
      "charging!!!!!!\n"
     ]
    },
    {
     "name": "stderr",
     "output_type": "stream",
     "text": [
      "\r",
      " 38%|█████████████████████████████▊                                                 | 377/1000 [12:06<15:48,  1.52s/it]"
     ]
    },
    {
     "name": "stdout",
     "output_type": "stream",
     "text": [
      "self.get_collection_ratio(): 0.11612364194556135\n",
      "self.state.all_commed: True\n",
      "charging!!!!!!\n",
      "charging!!!!!!\n"
     ]
    },
    {
     "name": "stderr",
     "output_type": "stream",
     "text": [
      "\r",
      " 38%|█████████████████████████████▊                                                 | 378/1000 [12:07<15:06,  1.46s/it]"
     ]
    },
    {
     "name": "stdout",
     "output_type": "stream",
     "text": [
      "self.get_collection_ratio(): 0.07178901375136296\n",
      "self.state.all_commed: True\n",
      "charging!!!!!!\n",
      "charging!!!!!!\n"
     ]
    },
    {
     "name": "stderr",
     "output_type": "stream",
     "text": [
      "\r",
      " 38%|█████████████████████████████▉                                                 | 379/1000 [12:08<14:45,  1.43s/it]"
     ]
    },
    {
     "name": "stdout",
     "output_type": "stream",
     "text": [
      "self.get_collection_ratio(): 0.06777485383278357\n",
      "self.state.all_commed: True\n",
      "charging!!!!!!\n",
      "charging!!!!!!\n",
      "charging!!!!!!\n",
      "charging!!!!!!\n"
     ]
    },
    {
     "name": "stderr",
     "output_type": "stream",
     "text": [
      "\r",
      " 38%|██████████████████████████████                                                 | 380/1000 [12:10<16:03,  1.55s/it]"
     ]
    },
    {
     "name": "stdout",
     "output_type": "stream",
     "text": [
      "self.get_collection_ratio(): 0.14915084046781624\n",
      "self.state.all_commed: True\n",
      "charging!!!!!!\n",
      "charging!!!!!!\n",
      "charging!!!!!!\n",
      "charging!!!!!!\n",
      "charging!!!!!!\n",
      "charging!!!!!!\n"
     ]
    },
    {
     "name": "stderr",
     "output_type": "stream",
     "text": [
      "\r",
      " 38%|██████████████████████████████                                                 | 381/1000 [12:13<18:38,  1.81s/it]"
     ]
    },
    {
     "name": "stdout",
     "output_type": "stream",
     "text": [
      "self.get_collection_ratio(): 0.21129224778015973\n",
      "self.state.all_commed: True\n",
      "charging!!!!!!\n",
      "charging!!!!!!\n",
      "charging!!!!!!\n",
      "charging!!!!!!\n"
     ]
    },
    {
     "name": "stderr",
     "output_type": "stream",
     "text": [
      "\r",
      " 38%|██████████████████████████████▏                                                | 382/1000 [12:14<18:37,  1.81s/it]"
     ]
    },
    {
     "name": "stdout",
     "output_type": "stream",
     "text": [
      "self.get_collection_ratio(): 0.16719966045939974\n",
      "self.state.all_commed: True\n",
      "charging!!!!!!\n",
      "charging!!!!!!\n",
      "charging!!!!!!\n",
      "charging!!!!!!\n",
      "charging!!!!!!\n",
      "charging!!!!!!\n"
     ]
    },
    {
     "name": "stderr",
     "output_type": "stream",
     "text": [
      "\r",
      " 38%|██████████████████████████████▎                                                | 383/1000 [12:17<20:28,  1.99s/it]"
     ]
    },
    {
     "name": "stdout",
     "output_type": "stream",
     "text": [
      "self.get_collection_ratio(): 0.15574205703387634\n",
      "self.state.all_commed: True\n",
      "charging!!!!!!\n",
      "charging!!!!!!\n"
     ]
    },
    {
     "name": "stderr",
     "output_type": "stream",
     "text": [
      "\r",
      " 38%|██████████████████████████████▎                                                | 384/1000 [12:18<18:33,  1.81s/it]"
     ]
    },
    {
     "name": "stdout",
     "output_type": "stream",
     "text": [
      "self.get_collection_ratio(): 0.08736905995938668\n",
      "self.state.all_commed: True\n",
      "charging!!!!!!\n",
      "charging!!!!!!\n",
      "charging!!!!!!\n",
      "charging!!!!!!\n",
      "charging!!!!!!\n",
      "charging!!!!!!\n"
     ]
    },
    {
     "name": "stderr",
     "output_type": "stream",
     "text": [
      "\r",
      " 38%|██████████████████████████████▍                                                | 385/1000 [12:21<20:27,  2.00s/it]"
     ]
    },
    {
     "name": "stdout",
     "output_type": "stream",
     "text": [
      "self.get_collection_ratio(): 0.21489937141380383\n",
      "self.state.all_commed: True\n",
      "charging!!!!!!\n",
      "charging!!!!!!\n"
     ]
    },
    {
     "name": "stderr",
     "output_type": "stream",
     "text": [
      "\r",
      " 39%|██████████████████████████████▍                                                | 386/1000 [12:22<18:13,  1.78s/it]"
     ]
    },
    {
     "name": "stdout",
     "output_type": "stream",
     "text": [
      "self.get_collection_ratio(): 0.09138321746754323\n",
      "self.state.all_commed: True\n",
      "charging!!!!!!\n",
      "charging!!!!!!\n",
      "charging!!!!!!\n",
      "charging!!!!!!\n"
     ]
    },
    {
     "name": "stderr",
     "output_type": "stream",
     "text": [
      "\r",
      " 39%|██████████████████████████████▌                                                | 387/1000 [12:24<18:27,  1.81s/it]"
     ]
    },
    {
     "name": "stdout",
     "output_type": "stream",
     "text": [
      "self.get_collection_ratio(): 0.17189253028170795\n",
      "self.state.all_commed: True\n",
      "charging!!!!!!\n",
      "charging!!!!!!\n",
      "charging!!!!!!\n",
      "charging!!!!!!\n"
     ]
    },
    {
     "name": "stderr",
     "output_type": "stream",
     "text": [
      "\r",
      " 39%|██████████████████████████████▋                                                | 388/1000 [12:25<18:24,  1.81s/it]"
     ]
    },
    {
     "name": "stdout",
     "output_type": "stream",
     "text": [
      "self.get_collection_ratio(): 0.12897747449655378\n",
      "self.state.all_commed: True\n",
      "charging!!!!!!\n",
      "charging!!!!!!\n",
      "charging!!!!!!\n",
      "charging!!!!!!\n",
      "charging!!!!!!\n",
      "charging!!!!!!\n"
     ]
    },
    {
     "name": "stderr",
     "output_type": "stream",
     "text": [
      "\r",
      " 39%|██████████████████████████████▋                                                | 389/1000 [12:28<20:09,  1.98s/it]"
     ]
    },
    {
     "name": "stdout",
     "output_type": "stream",
     "text": [
      "self.get_collection_ratio(): 0.21881732382789537\n",
      "self.state.all_commed: True\n",
      "charging!!!!!!\n",
      "charging!!!!!!\n"
     ]
    },
    {
     "name": "stderr",
     "output_type": "stream",
     "text": [
      "\r",
      " 39%|██████████████████████████████▊                                                | 390/1000 [12:29<18:02,  1.78s/it]"
     ]
    },
    {
     "name": "stdout",
     "output_type": "stream",
     "text": [
      "self.get_collection_ratio(): 0.10886708081643567\n",
      "self.state.all_commed: True\n",
      "charging!!!!!!\n",
      "charging!!!!!!\n",
      "charging!!!!!!\n",
      "charging!!!!!!\n"
     ]
    },
    {
     "name": "stderr",
     "output_type": "stream",
     "text": [
      "\r",
      " 39%|██████████████████████████████▉                                                | 391/1000 [12:31<18:20,  1.81s/it]"
     ]
    },
    {
     "name": "stdout",
     "output_type": "stream",
     "text": [
      "self.get_collection_ratio(): 0.1658180806539198\n",
      "self.state.all_commed: True\n",
      "charging!!!!!!\n",
      "charging!!!!!!\n",
      "charging!!!!!!\n",
      "charging!!!!!!\n",
      "charging!!!!!!\n",
      "charging!!!!!!\n"
     ]
    },
    {
     "name": "stderr",
     "output_type": "stream",
     "text": [
      "\r",
      " 39%|██████████████████████████████▉                                                | 392/1000 [12:34<20:34,  2.03s/it]"
     ]
    },
    {
     "name": "stdout",
     "output_type": "stream",
     "text": [
      "self.get_collection_ratio(): 0.1559172091661558\n",
      "self.state.all_commed: True\n",
      "charging!!!!!!\n",
      "charging!!!!!!\n"
     ]
    },
    {
     "name": "stderr",
     "output_type": "stream",
     "text": [
      "\r",
      " 39%|███████████████████████████████                                                | 393/1000 [12:35<18:29,  1.83s/it]"
     ]
    },
    {
     "name": "stdout",
     "output_type": "stream",
     "text": [
      "self.get_collection_ratio(): 0.0927096307270457\n",
      "self.state.all_commed: True\n",
      "charging!!!!!!\n",
      "charging!!!!!!\n"
     ]
    },
    {
     "name": "stderr",
     "output_type": "stream",
     "text": [
      "\r",
      " 39%|███████████████████████████████▏                                               | 394/1000 [12:36<17:10,  1.70s/it]"
     ]
    },
    {
     "name": "stdout",
     "output_type": "stream",
     "text": [
      "self.get_collection_ratio(): 0.08677986187453689\n",
      "self.state.all_commed: True\n",
      "charging!!!!!!\n",
      "charging!!!!!!\n",
      "charging!!!!!!\n",
      "charging!!!!!!\n",
      "charging!!!!!!\n",
      "charging!!!!!!\n"
     ]
    },
    {
     "name": "stderr",
     "output_type": "stream",
     "text": [
      "\r",
      " 40%|███████████████████████████████▏                                               | 395/1000 [12:39<19:23,  1.92s/it]"
     ]
    },
    {
     "name": "stdout",
     "output_type": "stream",
     "text": [
      "self.get_collection_ratio(): 0.1791869501470701\n",
      "self.state.all_commed: True\n",
      "charging!!!!!!\n",
      "charging!!!!!!\n",
      "charging!!!!!!\n",
      "charging!!!!!!\n",
      "charging!!!!!!\n",
      "charging!!!!!!\n"
     ]
    },
    {
     "name": "stderr",
     "output_type": "stream",
     "text": [
      "\r",
      " 40%|███████████████████████████████▎                                               | 396/1000 [12:41<20:52,  2.07s/it]"
     ]
    },
    {
     "name": "stdout",
     "output_type": "stream",
     "text": [
      "self.get_collection_ratio(): 0.21960319726116526\n",
      "self.state.all_commed: True\n",
      "charging!!!!!!\n",
      "charging!!!!!!\n",
      "charging!!!!!!\n",
      "charging!!!!!!\n",
      "charging!!!!!!\n",
      "charging!!!!!!\n"
     ]
    },
    {
     "name": "stderr",
     "output_type": "stream",
     "text": [
      "\r",
      " 40%|███████████████████████████████▎                                               | 397/1000 [12:44<22:19,  2.22s/it]"
     ]
    },
    {
     "name": "stdout",
     "output_type": "stream",
     "text": [
      "self.get_collection_ratio(): 0.1908727245176945\n",
      "self.state.all_commed: True\n",
      "charging!!!!!!\n",
      "charging!!!!!!\n",
      "charging!!!!!!\n",
      "charging!!!!!!\n"
     ]
    },
    {
     "name": "stderr",
     "output_type": "stream",
     "text": [
      "\r",
      " 40%|███████████████████████████████▍                                               | 398/1000 [12:46<21:04,  2.10s/it]"
     ]
    },
    {
     "name": "stdout",
     "output_type": "stream",
     "text": [
      "self.get_collection_ratio(): 0.16578962718445958\n",
      "self.state.all_commed: True\n",
      "charging!!!!!!\n",
      "charging!!!!!!\n"
     ]
    },
    {
     "name": "stderr",
     "output_type": "stream",
     "text": [
      "\r",
      " 40%|███████████████████████████████▌                                               | 399/1000 [12:47<18:46,  1.88s/it]"
     ]
    },
    {
     "name": "stdout",
     "output_type": "stream",
     "text": [
      "self.get_collection_ratio(): 0.11839758608376118\n",
      "self.state.all_commed: True\n",
      "charging!!!!!!\n",
      "charging!!!!!!\n"
     ]
    },
    {
     "name": "stderr",
     "output_type": "stream",
     "text": [
      "\r",
      " 40%|███████████████████████████████▌                                               | 400/1000 [12:48<17:03,  1.71s/it]"
     ]
    },
    {
     "name": "stdout",
     "output_type": "stream",
     "text": [
      "self.get_collection_ratio(): 0.11434998123212398\n",
      "self.state.all_commed: True\n",
      "charging!!!!!!\n",
      "charging!!!!!!\n",
      "charging!!!!!!\n",
      "charging!!!!!!\n"
     ]
    },
    {
     "name": "stderr",
     "output_type": "stream",
     "text": [
      "\r",
      " 40%|███████████████████████████████▋                                               | 401/1000 [12:50<17:37,  1.77s/it]"
     ]
    },
    {
     "name": "stdout",
     "output_type": "stream",
     "text": [
      "self.get_collection_ratio(): 0.12214512135630697\n",
      "self.state.all_commed: True\n",
      "charging!!!!!!\n",
      "charging!!!!!!\n",
      "charging!!!!!!\n",
      "charging!!!!!!\n",
      "charging!!!!!!\n",
      "charging!!!!!!\n"
     ]
    },
    {
     "name": "stderr",
     "output_type": "stream",
     "text": [
      "\r",
      " 40%|███████████████████████████████▊                                               | 402/1000 [12:53<19:34,  1.96s/it]"
     ]
    },
    {
     "name": "stdout",
     "output_type": "stream",
     "text": [
      "self.get_collection_ratio(): 0.2018938958595096\n",
      "self.state.all_commed: True\n",
      "charging!!!!!!\n",
      "charging!!!!!!\n"
     ]
    },
    {
     "name": "stderr",
     "output_type": "stream",
     "text": [
      "\r",
      " 40%|███████████████████████████████▊                                               | 403/1000 [12:54<17:40,  1.78s/it]"
     ]
    },
    {
     "name": "stdout",
     "output_type": "stream",
     "text": [
      "self.get_collection_ratio(): 0.10596203503078408\n",
      "self.state.all_commed: True\n",
      "charging!!!!!!\n",
      "charging!!!!!!\n",
      "charging!!!!!!\n",
      "charging!!!!!!\n"
     ]
    },
    {
     "name": "stderr",
     "output_type": "stream",
     "text": [
      "\r",
      " 40%|███████████████████████████████▉                                               | 404/1000 [12:56<18:07,  1.82s/it]"
     ]
    },
    {
     "name": "stdout",
     "output_type": "stream",
     "text": [
      "self.get_collection_ratio(): 0.17362313860754283\n",
      "self.state.all_commed: True\n",
      "charging!!!!!!\n",
      "charging!!!!!!\n",
      "charging!!!!!!\n",
      "charging!!!!!!\n",
      "charging!!!!!!\n",
      "charging!!!!!!\n"
     ]
    },
    {
     "name": "stderr",
     "output_type": "stream",
     "text": [
      "\r",
      " 40%|███████████████████████████████▉                                               | 405/1000 [12:58<19:39,  1.98s/it]"
     ]
    },
    {
     "name": "stdout",
     "output_type": "stream",
     "text": [
      "self.get_collection_ratio(): 0.18230689290200647\n",
      "self.state.all_commed: True\n",
      "charging!!!!!!\n",
      "charging!!!!!!\n"
     ]
    },
    {
     "name": "stderr",
     "output_type": "stream",
     "text": [
      "\r",
      " 41%|████████████████████████████████                                               | 406/1000 [13:00<17:41,  1.79s/it]"
     ]
    },
    {
     "name": "stdout",
     "output_type": "stream",
     "text": [
      "self.get_collection_ratio(): 0.1345860484972359\n",
      "self.state.all_commed: True\n",
      "charging!!!!!!\n",
      "charging!!!!!!\n",
      "charging!!!!!!\n",
      "charging!!!!!!\n",
      "charging!!!!!!\n",
      "charging!!!!!!\n"
     ]
    },
    {
     "name": "stderr",
     "output_type": "stream",
     "text": [
      "\r",
      " 41%|████████████████████████████████▏                                              | 407/1000 [13:06<31:11,  3.16s/it]"
     ]
    },
    {
     "name": "stdout",
     "output_type": "stream",
     "text": [
      "self.get_collection_ratio(): 0.23019595017527478\n",
      "self.state.all_commed: True\n",
      "charging!!!!!!\n",
      "charging!!!!!!\n",
      "charging!!!!!!\n",
      "charging!!!!!!\n"
     ]
    },
    {
     "name": "stderr",
     "output_type": "stream",
     "text": [
      "\r",
      " 41%|████████████████████████████████▏                                              | 408/1000 [13:08<27:34,  2.79s/it]"
     ]
    },
    {
     "name": "stdout",
     "output_type": "stream",
     "text": [
      "self.get_collection_ratio(): 0.1704319935788804\n",
      "self.state.all_commed: True\n",
      "charging!!!!!!\n",
      "charging!!!!!!\n"
     ]
    },
    {
     "name": "stderr",
     "output_type": "stream",
     "text": [
      "\r",
      " 41%|████████████████████████████████▎                                              | 409/1000 [13:09<23:06,  2.35s/it]"
     ]
    },
    {
     "name": "stdout",
     "output_type": "stream",
     "text": [
      "self.get_collection_ratio(): 0.12093013018779963\n",
      "self.state.all_commed: True\n",
      "charging!!!!!!\n",
      "charging!!!!!!\n",
      "charging!!!!!!\n",
      "charging!!!!!!\n",
      "charging!!!!!!\n",
      "charging!!!!!!\n"
     ]
    },
    {
     "name": "stderr",
     "output_type": "stream",
     "text": [
      "\r",
      " 41%|████████████████████████████████▍                                              | 410/1000 [13:12<23:23,  2.38s/it]"
     ]
    },
    {
     "name": "stdout",
     "output_type": "stream",
     "text": [
      "self.get_collection_ratio(): 0.15246176373516981\n",
      "self.state.all_commed: True\n",
      "charging!!!!!!\n",
      "charging!!!!!!\n",
      "charging!!!!!!\n",
      "charging!!!!!!\n"
     ]
    },
    {
     "name": "stderr",
     "output_type": "stream",
     "text": [
      "\r",
      " 41%|████████████████████████████████▍                                              | 411/1000 [13:14<22:01,  2.24s/it]"
     ]
    },
    {
     "name": "stdout",
     "output_type": "stream",
     "text": [
      "self.get_collection_ratio(): 0.1278496248211713\n",
      "self.state.all_commed: True\n",
      "charging!!!!!!\n",
      "charging!!!!!!\n",
      "charging!!!!!!\n",
      "charging!!!!!!\n"
     ]
    },
    {
     "name": "stderr",
     "output_type": "stream",
     "text": [
      "\r",
      " 41%|████████████████████████████████▌                                              | 412/1000 [13:16<21:16,  2.17s/it]"
     ]
    },
    {
     "name": "stdout",
     "output_type": "stream",
     "text": [
      "self.get_collection_ratio(): 0.18844466006696278\n",
      "self.state.all_commed: True\n",
      "charging!!!!!!\n",
      "charging!!!!!!\n",
      "charging!!!!!!\n",
      "charging!!!!!!\n",
      "charging!!!!!!\n",
      "charging!!!!!!\n"
     ]
    },
    {
     "name": "stderr",
     "output_type": "stream",
     "text": [
      "\r",
      " 41%|████████████████████████████████▋                                              | 413/1000 [13:18<21:59,  2.25s/it]"
     ]
    },
    {
     "name": "stdout",
     "output_type": "stream",
     "text": [
      "self.get_collection_ratio(): 0.19749735214448466\n",
      "self.state.all_commed: True\n",
      "charging!!!!!!\n",
      "charging!!!!!!\n",
      "charging!!!!!!\n",
      "charging!!!!!!\n"
     ]
    },
    {
     "name": "stderr",
     "output_type": "stream",
     "text": [
      "\r",
      " 41%|████████████████████████████████▋                                              | 414/1000 [13:20<21:00,  2.15s/it]"
     ]
    },
    {
     "name": "stdout",
     "output_type": "stream",
     "text": [
      "self.get_collection_ratio(): 0.15602102127381237\n",
      "self.state.all_commed: True\n",
      "charging!!!!!!\n",
      "charging!!!!!!\n",
      "charging!!!!!!\n",
      "charging!!!!!!\n"
     ]
    },
    {
     "name": "stderr",
     "output_type": "stream",
     "text": [
      "\r",
      " 42%|████████████████████████████████▊                                              | 415/1000 [13:22<20:16,  2.08s/it]"
     ]
    },
    {
     "name": "stdout",
     "output_type": "stream",
     "text": [
      "self.get_collection_ratio(): 0.13673389850296433\n",
      "self.state.all_commed: True\n",
      "charging!!!!!!\n",
      "charging!!!!!!\n",
      "charging!!!!!!\n",
      "charging!!!!!!\n"
     ]
    },
    {
     "name": "stderr",
     "output_type": "stream",
     "text": [
      "\r",
      " 42%|████████████████████████████████▊                                              | 416/1000 [13:24<19:17,  1.98s/it]"
     ]
    },
    {
     "name": "stdout",
     "output_type": "stream",
     "text": [
      "self.get_collection_ratio(): 0.15609565420131\n",
      "self.state.all_commed: True\n",
      "charging!!!!!!\n",
      "charging!!!!!!\n",
      "charging!!!!!!\n",
      "charging!!!!!!\n"
     ]
    },
    {
     "name": "stderr",
     "output_type": "stream",
     "text": [
      "\r",
      " 42%|████████████████████████████████▉                                              | 417/1000 [13:25<18:59,  1.96s/it]"
     ]
    },
    {
     "name": "stdout",
     "output_type": "stream",
     "text": [
      "self.get_collection_ratio(): 0.1802089942512939\n",
      "self.state.all_commed: True\n",
      "charging!!!!!!\n",
      "charging!!!!!!\n",
      "charging!!!!!!\n",
      "charging!!!!!!\n"
     ]
    },
    {
     "name": "stderr",
     "output_type": "stream",
     "text": [
      "\r",
      " 42%|█████████████████████████████████                                              | 418/1000 [13:27<18:49,  1.94s/it]"
     ]
    },
    {
     "name": "stdout",
     "output_type": "stream",
     "text": [
      "self.get_collection_ratio(): 0.15427115865538898\n",
      "self.state.all_commed: True\n",
      "charging!!!!!!\n",
      "charging!!!!!!\n"
     ]
    },
    {
     "name": "stderr",
     "output_type": "stream",
     "text": [
      "\r",
      " 42%|█████████████████████████████████                                              | 419/1000 [13:29<17:09,  1.77s/it]"
     ]
    },
    {
     "name": "stdout",
     "output_type": "stream",
     "text": [
      "self.get_collection_ratio(): 0.08923954248576457\n",
      "self.state.all_commed: True\n",
      "charging!!!!!!\n",
      "charging!!!!!!\n",
      "charging!!!!!!\n",
      "charging!!!!!!\n"
     ]
    },
    {
     "name": "stderr",
     "output_type": "stream",
     "text": [
      "\r",
      " 42%|█████████████████████████████████▏                                             | 420/1000 [13:31<17:25,  1.80s/it]"
     ]
    },
    {
     "name": "stdout",
     "output_type": "stream",
     "text": [
      "self.get_collection_ratio(): 0.12785166892368802\n",
      "self.state.all_commed: True\n",
      "charging!!!!!!\n",
      "charging!!!!!!\n"
     ]
    },
    {
     "name": "stderr",
     "output_type": "stream",
     "text": [
      "\r",
      " 42%|█████████████████████████████████▎                                             | 421/1000 [13:32<16:13,  1.68s/it]"
     ]
    },
    {
     "name": "stdout",
     "output_type": "stream",
     "text": [
      "self.get_collection_ratio(): 0.10525874170635707\n",
      "self.state.all_commed: True\n",
      "charging!!!!!!\n",
      "charging!!!!!!\n",
      "charging!!!!!!\n",
      "charging!!!!!!\n"
     ]
    },
    {
     "name": "stderr",
     "output_type": "stream",
     "text": [
      "\r",
      " 42%|█████████████████████████████████▎                                             | 422/1000 [13:34<16:53,  1.75s/it]"
     ]
    },
    {
     "name": "stdout",
     "output_type": "stream",
     "text": [
      "self.get_collection_ratio(): 0.17181773724341876\n",
      "self.state.all_commed: True\n",
      "charging!!!!!!\n",
      "charging!!!!!!\n",
      "charging!!!!!!\n",
      "charging!!!!!!\n"
     ]
    },
    {
     "name": "stderr",
     "output_type": "stream",
     "text": [
      "\r",
      " 42%|█████████████████████████████████▍                                             | 423/1000 [13:36<17:10,  1.79s/it]"
     ]
    },
    {
     "name": "stdout",
     "output_type": "stream",
     "text": [
      "self.get_collection_ratio(): 0.15948613098078127\n",
      "self.state.all_commed: True\n",
      "charging!!!!!!\n",
      "charging!!!!!!\n",
      "charging!!!!!!\n",
      "charging!!!!!!\n"
     ]
    },
    {
     "name": "stderr",
     "output_type": "stream",
     "text": [
      "\r",
      " 42%|█████████████████████████████████▍                                             | 424/1000 [13:38<17:05,  1.78s/it]"
     ]
    },
    {
     "name": "stdout",
     "output_type": "stream",
     "text": [
      "self.get_collection_ratio(): 0.157895549083206\n",
      "self.state.all_commed: True\n",
      "charging!!!!!!\n",
      "charging!!!!!!\n"
     ]
    },
    {
     "name": "stderr",
     "output_type": "stream",
     "text": [
      "\r",
      " 42%|█████████████████████████████████▌                                             | 425/1000 [13:39<15:47,  1.65s/it]"
     ]
    },
    {
     "name": "stdout",
     "output_type": "stream",
     "text": [
      "self.get_collection_ratio(): 0.09752227946165419\n",
      "self.state.all_commed: True\n",
      "charging!!!!!!\n",
      "charging!!!!!!\n"
     ]
    },
    {
     "name": "stderr",
     "output_type": "stream",
     "text": [
      "\r",
      " 43%|█████████████████████████████████▋                                             | 426/1000 [13:40<14:54,  1.56s/it]"
     ]
    },
    {
     "name": "stdout",
     "output_type": "stream",
     "text": [
      "self.get_collection_ratio(): 0.1084602563071119\n",
      "self.state.all_commed: True\n",
      "charging!!!!!!\n",
      "charging!!!!!!\n"
     ]
    },
    {
     "name": "stderr",
     "output_type": "stream",
     "text": [
      "\r",
      " 43%|█████████████████████████████████▋                                             | 427/1000 [13:42<14:11,  1.49s/it]"
     ]
    },
    {
     "name": "stdout",
     "output_type": "stream",
     "text": [
      "self.get_collection_ratio(): 0.09802682260640086\n",
      "self.state.all_commed: True\n",
      "charging!!!!!!\n",
      "charging!!!!!!\n",
      "charging!!!!!!\n",
      "charging!!!!!!\n",
      "charging!!!!!!\n",
      "charging!!!!!!\n"
     ]
    },
    {
     "name": "stderr",
     "output_type": "stream",
     "text": [
      "\r",
      " 43%|█████████████████████████████████▊                                             | 428/1000 [13:44<17:00,  1.78s/it]"
     ]
    },
    {
     "name": "stdout",
     "output_type": "stream",
     "text": [
      "self.get_collection_ratio(): 0.17316657397751675\n",
      "self.state.all_commed: True\n",
      "charging!!!!!!\n",
      "charging!!!!!!\n",
      "charging!!!!!!\n",
      "charging!!!!!!\n",
      "charging!!!!!!\n",
      "charging!!!!!!\n"
     ]
    },
    {
     "name": "stderr",
     "output_type": "stream",
     "text": [
      "\r",
      " 43%|█████████████████████████████████▉                                             | 429/1000 [13:46<18:43,  1.97s/it]"
     ]
    },
    {
     "name": "stdout",
     "output_type": "stream",
     "text": [
      "self.get_collection_ratio(): 0.21561781655180803\n",
      "self.state.all_commed: True\n",
      "charging!!!!!!\n",
      "charging!!!!!!\n",
      "charging!!!!!!\n",
      "charging!!!!!!\n",
      "charging!!!!!!\n",
      "charging!!!!!!\n"
     ]
    },
    {
     "name": "stderr",
     "output_type": "stream",
     "text": [
      "\r",
      " 43%|█████████████████████████████████▉                                             | 430/1000 [13:49<20:00,  2.11s/it]"
     ]
    },
    {
     "name": "stdout",
     "output_type": "stream",
     "text": [
      "self.get_collection_ratio(): 0.20098313024991626\n",
      "self.state.all_commed: True\n",
      "charging!!!!!!\n",
      "charging!!!!!!\n",
      "charging!!!!!!\n",
      "charging!!!!!!\n"
     ]
    },
    {
     "name": "stderr",
     "output_type": "stream",
     "text": [
      "\r",
      " 43%|██████████████████████████████████                                             | 431/1000 [13:51<19:18,  2.04s/it]"
     ]
    },
    {
     "name": "stdout",
     "output_type": "stream",
     "text": [
      "self.get_collection_ratio(): 0.14170045699191328\n",
      "self.state.all_commed: True\n",
      "charging!!!!!!\n",
      "charging!!!!!!\n",
      "charging!!!!!!\n",
      "charging!!!!!!\n"
     ]
    },
    {
     "name": "stderr",
     "output_type": "stream",
     "text": [
      "\r",
      " 43%|██████████████████████████████████▏                                            | 432/1000 [13:53<18:50,  1.99s/it]"
     ]
    },
    {
     "name": "stdout",
     "output_type": "stream",
     "text": [
      "self.get_collection_ratio(): 0.16967659357984372\n",
      "self.state.all_commed: True\n",
      "charging!!!!!!\n",
      "charging!!!!!!\n",
      "charging!!!!!!\n",
      "charging!!!!!!\n"
     ]
    },
    {
     "name": "stderr",
     "output_type": "stream",
     "text": [
      "\r",
      " 43%|██████████████████████████████████▏                                            | 433/1000 [13:55<18:29,  1.96s/it]"
     ]
    },
    {
     "name": "stdout",
     "output_type": "stream",
     "text": [
      "self.get_collection_ratio(): 0.16388764033594028\n",
      "self.state.all_commed: True\n",
      "charging!!!!!!\n",
      "charging!!!!!!\n"
     ]
    },
    {
     "name": "stderr",
     "output_type": "stream",
     "text": [
      "\r",
      " 43%|██████████████████████████████████▎                                            | 434/1000 [13:56<16:53,  1.79s/it]"
     ]
    },
    {
     "name": "stdout",
     "output_type": "stream",
     "text": [
      "self.get_collection_ratio(): 0.1039238510621203\n",
      "self.state.all_commed: True\n",
      "charging!!!!!!\n",
      "charging!!!!!!\n",
      "charging!!!!!!\n",
      "charging!!!!!!\n"
     ]
    },
    {
     "name": "stderr",
     "output_type": "stream",
     "text": [
      "\r",
      " 44%|██████████████████████████████████▎                                            | 435/1000 [13:58<17:17,  1.84s/it]"
     ]
    },
    {
     "name": "stdout",
     "output_type": "stream",
     "text": [
      "self.get_collection_ratio(): 0.15131770802365396\n",
      "self.state.all_commed: True\n",
      "charging!!!!!!\n",
      "charging!!!!!!\n",
      "charging!!!!!!\n",
      "charging!!!!!!\n"
     ]
    },
    {
     "name": "stderr",
     "output_type": "stream",
     "text": [
      "\r",
      " 44%|██████████████████████████████████▍                                            | 436/1000 [14:00<17:28,  1.86s/it]"
     ]
    },
    {
     "name": "stdout",
     "output_type": "stream",
     "text": [
      "self.get_collection_ratio(): 0.1612527795491176\n",
      "self.state.all_commed: True\n",
      "charging!!!!!!\n",
      "charging!!!!!!\n",
      "charging!!!!!!\n",
      "charging!!!!!!\n"
     ]
    },
    {
     "name": "stderr",
     "output_type": "stream",
     "text": [
      "\r",
      " 44%|██████████████████████████████████▌                                            | 437/1000 [14:02<17:35,  1.87s/it]"
     ]
    },
    {
     "name": "stdout",
     "output_type": "stream",
     "text": [
      "self.get_collection_ratio(): 0.17060241322641748\n",
      "self.state.all_commed: True\n",
      "charging!!!!!!\n",
      "charging!!!!!!\n",
      "charging!!!!!!\n",
      "charging!!!!!!\n"
     ]
    },
    {
     "name": "stderr",
     "output_type": "stream",
     "text": [
      "\r",
      " 44%|██████████████████████████████████▌                                            | 438/1000 [14:04<17:48,  1.90s/it]"
     ]
    },
    {
     "name": "stdout",
     "output_type": "stream",
     "text": [
      "self.get_collection_ratio(): 0.17034257848875878\n",
      "self.state.all_commed: True\n",
      "charging!!!!!!\n",
      "charging!!!!!!\n"
     ]
    },
    {
     "name": "stderr",
     "output_type": "stream",
     "text": [
      "\r",
      " 44%|██████████████████████████████████▋                                            | 439/1000 [14:05<16:09,  1.73s/it]"
     ]
    },
    {
     "name": "stdout",
     "output_type": "stream",
     "text": [
      "self.get_collection_ratio(): 0.11464345880455581\n",
      "self.state.all_commed: True\n",
      "charging!!!!!!\n",
      "charging!!!!!!\n",
      "charging!!!!!!\n",
      "charging!!!!!!\n"
     ]
    },
    {
     "name": "stderr",
     "output_type": "stream",
     "text": [
      "\r",
      " 44%|██████████████████████████████████▊                                            | 440/1000 [14:07<16:44,  1.79s/it]"
     ]
    },
    {
     "name": "stdout",
     "output_type": "stream",
     "text": [
      "self.get_collection_ratio(): 0.14564346706926432\n",
      "self.state.all_commed: True\n",
      "charging!!!!!!\n",
      "charging!!!!!!\n",
      "charging!!!!!!\n",
      "charging!!!!!!\n"
     ]
    },
    {
     "name": "stderr",
     "output_type": "stream",
     "text": [
      "\r",
      " 44%|██████████████████████████████████▊                                            | 441/1000 [14:09<17:00,  1.83s/it]"
     ]
    },
    {
     "name": "stdout",
     "output_type": "stream",
     "text": [
      "self.get_collection_ratio(): 0.13584563101168814\n",
      "self.state.all_commed: True\n",
      "charging!!!!!!\n",
      "charging!!!!!!\n",
      "charging!!!!!!\n",
      "charging!!!!!!\n"
     ]
    },
    {
     "name": "stderr",
     "output_type": "stream",
     "text": [
      "\r",
      " 44%|██████████████████████████████████▉                                            | 442/1000 [14:11<17:02,  1.83s/it]"
     ]
    },
    {
     "name": "stdout",
     "output_type": "stream",
     "text": [
      "self.get_collection_ratio(): 0.1421670333049973\n",
      "self.state.all_commed: True\n",
      "charging!!!!!!\n",
      "charging!!!!!!\n",
      "charging!!!!!!\n",
      "charging!!!!!!\n",
      "charging!!!!!!\n",
      "charging!!!!!!\n"
     ]
    },
    {
     "name": "stderr",
     "output_type": "stream",
     "text": [
      "\r",
      " 44%|██████████████████████████████████▉                                            | 443/1000 [14:13<18:42,  2.02s/it]"
     ]
    },
    {
     "name": "stdout",
     "output_type": "stream",
     "text": [
      "self.get_collection_ratio(): 0.19160577620633587\n",
      "self.state.all_commed: True\n",
      "charging!!!!!!\n",
      "charging!!!!!!\n",
      "charging!!!!!!\n",
      "charging!!!!!!\n",
      "charging!!!!!!\n",
      "charging!!!!!!\n"
     ]
    },
    {
     "name": "stderr",
     "output_type": "stream",
     "text": [
      "\r",
      " 44%|███████████████████████████████████                                            | 444/1000 [14:16<19:52,  2.15s/it]"
     ]
    },
    {
     "name": "stdout",
     "output_type": "stream",
     "text": [
      "self.get_collection_ratio(): 0.1926300715953065\n",
      "self.state.all_commed: True\n",
      "charging!!!!!!\n",
      "charging!!!!!!\n",
      "charging!!!!!!\n",
      "charging!!!!!!\n"
     ]
    },
    {
     "name": "stderr",
     "output_type": "stream",
     "text": [
      "\r",
      " 44%|███████████████████████████████████▏                                           | 445/1000 [14:17<19:03,  2.06s/it]"
     ]
    },
    {
     "name": "stdout",
     "output_type": "stream",
     "text": [
      "self.get_collection_ratio(): 0.15250710584393054\n",
      "self.state.all_commed: True\n",
      "charging!!!!!!\n",
      "charging!!!!!!\n"
     ]
    },
    {
     "name": "stderr",
     "output_type": "stream",
     "text": [
      "\r",
      " 45%|███████████████████████████████████▏                                           | 446/1000 [14:19<16:52,  1.83s/it]"
     ]
    },
    {
     "name": "stdout",
     "output_type": "stream",
     "text": [
      "self.get_collection_ratio(): 0.09607656306605832\n",
      "self.state.all_commed: True\n",
      "charging!!!!!!\n",
      "charging!!!!!!\n"
     ]
    },
    {
     "name": "stderr",
     "output_type": "stream",
     "text": [
      "\r",
      " 45%|███████████████████████████████████▎                                           | 447/1000 [14:20<15:43,  1.71s/it]"
     ]
    },
    {
     "name": "stdout",
     "output_type": "stream",
     "text": [
      "self.get_collection_ratio(): 0.0609206183259282\n",
      "self.state.all_commed: True\n",
      "charging!!!!!!\n",
      "charging!!!!!!\n",
      "charging!!!!!!\n",
      "charging!!!!!!\n"
     ]
    },
    {
     "name": "stderr",
     "output_type": "stream",
     "text": [
      "\r",
      " 45%|███████████████████████████████████▍                                           | 448/1000 [14:22<16:14,  1.77s/it]"
     ]
    },
    {
     "name": "stdout",
     "output_type": "stream",
     "text": [
      "self.get_collection_ratio(): 0.12954348958016434\n",
      "self.state.all_commed: True\n",
      "charging!!!!!!\n",
      "charging!!!!!!\n"
     ]
    },
    {
     "name": "stderr",
     "output_type": "stream",
     "text": [
      "\r",
      " 45%|███████████████████████████████████▍                                           | 449/1000 [14:23<15:09,  1.65s/it]"
     ]
    },
    {
     "name": "stdout",
     "output_type": "stream",
     "text": [
      "self.get_collection_ratio(): 0.08646401573420935\n",
      "self.state.all_commed: True\n",
      "charging!!!!!!\n",
      "charging!!!!!!\n",
      "charging!!!!!!\n",
      "charging!!!!!!\n",
      "charging!!!!!!\n",
      "charging!!!!!!\n"
     ]
    },
    {
     "name": "stderr",
     "output_type": "stream",
     "text": [
      "\r",
      " 45%|███████████████████████████████████▌                                           | 450/1000 [14:26<17:00,  1.86s/it]"
     ]
    },
    {
     "name": "stdout",
     "output_type": "stream",
     "text": [
      "self.get_collection_ratio(): 0.2044374392067274\n",
      "self.state.all_commed: True\n",
      "charging!!!!!!\n",
      "charging!!!!!!\n",
      "charging!!!!!!\n",
      "charging!!!!!!\n"
     ]
    },
    {
     "name": "stderr",
     "output_type": "stream",
     "text": [
      "\r",
      " 45%|███████████████████████████████████▋                                           | 451/1000 [14:28<17:01,  1.86s/it]"
     ]
    },
    {
     "name": "stdout",
     "output_type": "stream",
     "text": [
      "self.get_collection_ratio(): 0.1833966305346617\n",
      "self.state.all_commed: True\n",
      "charging!!!!!!\n",
      "charging!!!!!!\n"
     ]
    },
    {
     "name": "stderr",
     "output_type": "stream",
     "text": [
      "\r",
      " 45%|███████████████████████████████████▋                                           | 452/1000 [14:29<15:35,  1.71s/it]"
     ]
    },
    {
     "name": "stdout",
     "output_type": "stream",
     "text": [
      "self.get_collection_ratio(): 0.09044701808310057\n",
      "self.state.all_commed: True\n",
      "charging!!!!!!\n",
      "charging!!!!!!\n"
     ]
    },
    {
     "name": "stderr",
     "output_type": "stream",
     "text": [
      "\r",
      " 45%|███████████████████████████████████▊                                           | 453/1000 [14:30<14:29,  1.59s/it]"
     ]
    },
    {
     "name": "stdout",
     "output_type": "stream",
     "text": [
      "self.get_collection_ratio(): 0.08705991349995822\n",
      "self.state.all_commed: True\n",
      "charging!!!!!!\n",
      "charging!!!!!!\n",
      "charging!!!!!!\n",
      "charging!!!!!!\n"
     ]
    },
    {
     "name": "stderr",
     "output_type": "stream",
     "text": [
      "\r",
      " 45%|███████████████████████████████████▊                                           | 454/1000 [14:32<15:12,  1.67s/it]"
     ]
    },
    {
     "name": "stdout",
     "output_type": "stream",
     "text": [
      "self.get_collection_ratio(): 0.1560152081328383\n",
      "self.state.all_commed: True\n",
      "charging!!!!!!\n",
      "charging!!!!!!\n",
      "charging!!!!!!\n",
      "charging!!!!!!\n"
     ]
    },
    {
     "name": "stderr",
     "output_type": "stream",
     "text": [
      "\r",
      " 46%|███████████████████████████████████▉                                           | 455/1000 [14:34<15:43,  1.73s/it]"
     ]
    },
    {
     "name": "stdout",
     "output_type": "stream",
     "text": [
      "self.get_collection_ratio(): 0.1566130895428608\n",
      "self.state.all_commed: True\n",
      "charging!!!!!!\n",
      "charging!!!!!!\n"
     ]
    },
    {
     "name": "stderr",
     "output_type": "stream",
     "text": [
      "\r",
      " 46%|████████████████████████████████████                                           | 456/1000 [14:35<14:33,  1.61s/it]"
     ]
    },
    {
     "name": "stdout",
     "output_type": "stream",
     "text": [
      "self.get_collection_ratio(): 0.10202225970315582\n",
      "self.state.all_commed: True\n",
      "charging!!!!!!\n",
      "charging!!!!!!\n",
      "charging!!!!!!\n",
      "charging!!!!!!\n"
     ]
    },
    {
     "name": "stderr",
     "output_type": "stream",
     "text": [
      "\r",
      " 46%|████████████████████████████████████                                           | 457/1000 [14:37<15:07,  1.67s/it]"
     ]
    },
    {
     "name": "stdout",
     "output_type": "stream",
     "text": [
      "self.get_collection_ratio(): 0.1347832393828853\n",
      "self.state.all_commed: True\n",
      "charging!!!!!!\n",
      "charging!!!!!!\n",
      "charging!!!!!!\n",
      "charging!!!!!!\n"
     ]
    },
    {
     "name": "stderr",
     "output_type": "stream",
     "text": [
      "\r",
      " 46%|████████████████████████████████████▏                                          | 458/1000 [14:39<15:41,  1.74s/it]"
     ]
    },
    {
     "name": "stdout",
     "output_type": "stream",
     "text": [
      "self.get_collection_ratio(): 0.15836739728842514\n",
      "self.state.all_commed: True\n",
      "charging!!!!!!\n",
      "charging!!!!!!\n"
     ]
    },
    {
     "name": "stderr",
     "output_type": "stream",
     "text": [
      "\r",
      " 46%|████████████████████████████████████▎                                          | 459/1000 [14:40<14:34,  1.62s/it]"
     ]
    },
    {
     "name": "stdout",
     "output_type": "stream",
     "text": [
      "self.get_collection_ratio(): 0.1071615052821921\n",
      "self.state.all_commed: True\n",
      "charging!!!!!!\n",
      "charging!!!!!!\n",
      "charging!!!!!!\n",
      "charging!!!!!!\n",
      "charging!!!!!!\n",
      "charging!!!!!!\n"
     ]
    },
    {
     "name": "stderr",
     "output_type": "stream",
     "text": [
      "\r",
      " 46%|████████████████████████████████████▎                                          | 460/1000 [14:47<28:38,  3.18s/it]"
     ]
    },
    {
     "name": "stdout",
     "output_type": "stream",
     "text": [
      "self.get_collection_ratio(): 0.1831056493522883\n",
      "self.state.all_commed: True\n",
      "charging!!!!!!\n",
      "charging!!!!!!\n"
     ]
    },
    {
     "name": "stderr",
     "output_type": "stream",
     "text": [
      "\r",
      " 46%|████████████████████████████████████▍                                          | 461/1000 [14:49<23:41,  2.64s/it]"
     ]
    },
    {
     "name": "stdout",
     "output_type": "stream",
     "text": [
      "self.get_collection_ratio(): 0.09378397648514178\n",
      "self.state.all_commed: True\n",
      "charging!!!!!!\n",
      "charging!!!!!!\n"
     ]
    },
    {
     "name": "stderr",
     "output_type": "stream",
     "text": [
      "\r",
      " 46%|████████████████████████████████████▍                                          | 462/1000 [14:50<20:26,  2.28s/it]"
     ]
    },
    {
     "name": "stdout",
     "output_type": "stream",
     "text": [
      "self.get_collection_ratio(): 0.11704835708333468\n",
      "self.state.all_commed: True\n",
      "charging!!!!!!\n",
      "charging!!!!!!\n",
      "charging!!!!!!\n",
      "charging!!!!!!\n"
     ]
    },
    {
     "name": "stderr",
     "output_type": "stream",
     "text": [
      "\r",
      " 46%|████████████████████████████████████▌                                          | 463/1000 [14:52<19:22,  2.17s/it]"
     ]
    },
    {
     "name": "stdout",
     "output_type": "stream",
     "text": [
      "self.get_collection_ratio(): 0.19278327953614954\n",
      "self.state.all_commed: True\n",
      "charging!!!!!!\n",
      "charging!!!!!!\n",
      "charging!!!!!!\n",
      "charging!!!!!!\n"
     ]
    },
    {
     "name": "stderr",
     "output_type": "stream",
     "text": [
      "\r",
      " 46%|████████████████████████████████████▋                                          | 464/1000 [14:54<18:30,  2.07s/it]"
     ]
    },
    {
     "name": "stdout",
     "output_type": "stream",
     "text": [
      "self.get_collection_ratio(): 0.18214454092061133\n",
      "self.state.all_commed: True\n",
      "charging!!!!!!\n",
      "charging!!!!!!\n"
     ]
    },
    {
     "name": "stderr",
     "output_type": "stream",
     "text": [
      "\r",
      " 46%|████████████████████████████████████▋                                          | 465/1000 [14:55<16:55,  1.90s/it]"
     ]
    },
    {
     "name": "stdout",
     "output_type": "stream",
     "text": [
      "self.get_collection_ratio(): 0.09100371400225382\n",
      "self.state.all_commed: True\n",
      "charging!!!!!!\n",
      "charging!!!!!!\n",
      "charging!!!!!!\n",
      "charging!!!!!!\n"
     ]
    },
    {
     "name": "stderr",
     "output_type": "stream",
     "text": [
      "\r",
      " 47%|████████████████████████████████████▊                                          | 466/1000 [14:57<17:10,  1.93s/it]"
     ]
    },
    {
     "name": "stdout",
     "output_type": "stream",
     "text": [
      "self.get_collection_ratio(): 0.18669317919638453\n",
      "self.state.all_commed: True\n",
      "charging!!!!!!\n",
      "charging!!!!!!\n",
      "charging!!!!!!\n",
      "charging!!!!!!\n",
      "charging!!!!!!\n",
      "charging!!!!!!\n"
     ]
    },
    {
     "name": "stderr",
     "output_type": "stream",
     "text": [
      "\r",
      " 47%|████████████████████████████████████▉                                          | 467/1000 [15:00<18:19,  2.06s/it]"
     ]
    },
    {
     "name": "stdout",
     "output_type": "stream",
     "text": [
      "self.get_collection_ratio(): 0.19967406313456001\n",
      "self.state.all_commed: True\n",
      "charging!!!!!!\n",
      "charging!!!!!!\n",
      "charging!!!!!!\n",
      "charging!!!!!!\n",
      "charging!!!!!!\n",
      "charging!!!!!!\n"
     ]
    },
    {
     "name": "stderr",
     "output_type": "stream",
     "text": [
      "\r",
      " 47%|████████████████████████████████████▉                                          | 468/1000 [15:02<18:57,  2.14s/it]"
     ]
    },
    {
     "name": "stdout",
     "output_type": "stream",
     "text": [
      "self.get_collection_ratio(): 0.23533569469917182\n",
      "self.state.all_commed: True\n",
      "charging!!!!!!\n",
      "charging!!!!!!\n"
     ]
    },
    {
     "name": "stderr",
     "output_type": "stream",
     "text": [
      "\r",
      " 47%|█████████████████████████████████████                                          | 469/1000 [15:03<16:57,  1.92s/it]"
     ]
    },
    {
     "name": "stdout",
     "output_type": "stream",
     "text": [
      "self.get_collection_ratio(): 0.12026114892682588\n",
      "self.state.all_commed: True\n",
      "charging!!!!!!\n",
      "charging!!!!!!\n"
     ]
    },
    {
     "name": "stderr",
     "output_type": "stream",
     "text": [
      "\r",
      " 47%|█████████████████████████████████████▏                                         | 470/1000 [15:05<15:42,  1.78s/it]"
     ]
    },
    {
     "name": "stdout",
     "output_type": "stream",
     "text": [
      "self.get_collection_ratio(): 0.08981768758203905\n",
      "self.state.all_commed: True\n",
      "charging!!!!!!\n",
      "charging!!!!!!\n",
      "charging!!!!!!\n",
      "charging!!!!!!\n"
     ]
    },
    {
     "name": "stderr",
     "output_type": "stream",
     "text": [
      "\r",
      " 47%|█████████████████████████████████████▏                                         | 471/1000 [15:07<15:55,  1.81s/it]"
     ]
    },
    {
     "name": "stdout",
     "output_type": "stream",
     "text": [
      "self.get_collection_ratio(): 0.2022306692261145\n",
      "self.state.all_commed: True\n",
      "charging!!!!!!\n",
      "charging!!!!!!\n"
     ]
    },
    {
     "name": "stderr",
     "output_type": "stream",
     "text": [
      "\r",
      " 47%|█████████████████████████████████████▎                                         | 472/1000 [15:08<14:49,  1.68s/it]"
     ]
    },
    {
     "name": "stdout",
     "output_type": "stream",
     "text": [
      "self.get_collection_ratio(): 0.11808291258701932\n",
      "self.state.all_commed: True\n",
      "charging!!!!!!\n",
      "charging!!!!!!\n",
      "charging!!!!!!\n",
      "charging!!!!!!\n"
     ]
    },
    {
     "name": "stderr",
     "output_type": "stream",
     "text": [
      "\r",
      " 47%|█████████████████████████████████████▎                                         | 473/1000 [15:10<15:18,  1.74s/it]"
     ]
    },
    {
     "name": "stdout",
     "output_type": "stream",
     "text": [
      "self.get_collection_ratio(): 0.1438901988996743\n",
      "self.state.all_commed: True\n",
      "charging!!!!!!\n",
      "charging!!!!!!\n",
      "charging!!!!!!\n",
      "charging!!!!!!\n",
      "charging!!!!!!\n",
      "charging!!!!!!\n"
     ]
    },
    {
     "name": "stderr",
     "output_type": "stream",
     "text": [
      "\r",
      " 47%|█████████████████████████████████████▍                                         | 474/1000 [15:12<17:01,  1.94s/it]"
     ]
    },
    {
     "name": "stdout",
     "output_type": "stream",
     "text": [
      "self.get_collection_ratio(): 0.2001633703145639\n",
      "self.state.all_commed: True\n",
      "charging!!!!!!\n",
      "charging!!!!!!\n",
      "charging!!!!!!\n",
      "charging!!!!!!\n"
     ]
    },
    {
     "name": "stderr",
     "output_type": "stream",
     "text": [
      "\r",
      " 48%|█████████████████████████████████████▌                                         | 475/1000 [15:14<16:48,  1.92s/it]"
     ]
    },
    {
     "name": "stdout",
     "output_type": "stream",
     "text": [
      "self.get_collection_ratio(): 0.14762132057312105\n",
      "self.state.all_commed: True\n",
      "charging!!!!!!\n",
      "charging!!!!!!\n",
      "charging!!!!!!\n",
      "charging!!!!!!\n",
      "charging!!!!!!\n",
      "charging!!!!!!\n"
     ]
    },
    {
     "name": "stderr",
     "output_type": "stream",
     "text": [
      "\r",
      " 48%|█████████████████████████████████████▌                                         | 476/1000 [15:17<18:47,  2.15s/it]"
     ]
    },
    {
     "name": "stdout",
     "output_type": "stream",
     "text": [
      "self.get_collection_ratio(): 0.14863324063440464\n",
      "self.state.all_commed: True\n",
      "charging!!!!!!\n",
      "charging!!!!!!\n",
      "charging!!!!!!\n",
      "charging!!!!!!\n",
      "charging!!!!!!\n",
      "charging!!!!!!\n"
     ]
    },
    {
     "name": "stderr",
     "output_type": "stream",
     "text": [
      "\r",
      " 48%|█████████████████████████████████████▋                                         | 477/1000 [15:20<20:01,  2.30s/it]"
     ]
    },
    {
     "name": "stdout",
     "output_type": "stream",
     "text": [
      "self.get_collection_ratio(): 0.19344228004257819\n",
      "self.state.all_commed: True\n",
      "charging!!!!!!\n",
      "charging!!!!!!\n",
      "charging!!!!!!\n",
      "charging!!!!!!\n"
     ]
    },
    {
     "name": "stderr",
     "output_type": "stream",
     "text": [
      "\r",
      " 48%|█████████████████████████████████████▊                                         | 478/1000 [15:22<19:03,  2.19s/it]"
     ]
    },
    {
     "name": "stdout",
     "output_type": "stream",
     "text": [
      "self.get_collection_ratio(): 0.1314957295151363\n",
      "self.state.all_commed: True\n",
      "charging!!!!!!\n",
      "charging!!!!!!\n"
     ]
    },
    {
     "name": "stderr",
     "output_type": "stream",
     "text": [
      "\r",
      " 48%|█████████████████████████████████████▊                                         | 479/1000 [15:23<16:41,  1.92s/it]"
     ]
    },
    {
     "name": "stdout",
     "output_type": "stream",
     "text": [
      "self.get_collection_ratio(): 0.11244641466541402\n",
      "self.state.all_commed: True\n",
      "charging!!!!!!\n",
      "charging!!!!!!\n",
      "charging!!!!!!\n",
      "charging!!!!!!\n"
     ]
    },
    {
     "name": "stderr",
     "output_type": "stream",
     "text": [
      "\r",
      " 48%|█████████████████████████████████████▉                                         | 480/1000 [15:25<16:37,  1.92s/it]"
     ]
    },
    {
     "name": "stdout",
     "output_type": "stream",
     "text": [
      "self.get_collection_ratio(): 0.16409387660780247\n",
      "self.state.all_commed: True\n",
      "charging!!!!!!\n",
      "charging!!!!!!\n",
      "charging!!!!!!\n",
      "charging!!!!!!\n"
     ]
    },
    {
     "name": "stderr",
     "output_type": "stream",
     "text": [
      "\r",
      " 48%|█████████████████████████████████████▉                                         | 481/1000 [15:27<16:17,  1.88s/it]"
     ]
    },
    {
     "name": "stdout",
     "output_type": "stream",
     "text": [
      "self.get_collection_ratio(): 0.1406568181021053\n",
      "self.state.all_commed: True\n",
      "charging!!!!!!\n",
      "charging!!!!!!\n"
     ]
    },
    {
     "name": "stderr",
     "output_type": "stream",
     "text": [
      "\r",
      " 48%|██████████████████████████████████████                                         | 482/1000 [15:28<14:42,  1.70s/it]"
     ]
    },
    {
     "name": "stdout",
     "output_type": "stream",
     "text": [
      "self.get_collection_ratio(): 0.0727049902986994\n",
      "self.state.all_commed: True\n",
      "charging!!!!!!\n",
      "charging!!!!!!\n",
      "charging!!!!!!\n",
      "charging!!!!!!\n"
     ]
    },
    {
     "name": "stderr",
     "output_type": "stream",
     "text": [
      "\r",
      " 48%|██████████████████████████████████████▏                                        | 483/1000 [15:30<15:18,  1.78s/it]"
     ]
    },
    {
     "name": "stdout",
     "output_type": "stream",
     "text": [
      "self.get_collection_ratio(): 0.13617545631576494\n",
      "self.state.all_commed: True\n",
      "charging!!!!!!\n",
      "charging!!!!!!\n"
     ]
    },
    {
     "name": "stderr",
     "output_type": "stream",
     "text": [
      "\r",
      " 48%|██████████████████████████████████████▏                                        | 484/1000 [15:31<14:04,  1.64s/it]"
     ]
    },
    {
     "name": "stdout",
     "output_type": "stream",
     "text": [
      "self.get_collection_ratio(): 0.08244386561463869\n",
      "self.state.all_commed: True\n",
      "charging!!!!!!\n",
      "charging!!!!!!\n"
     ]
    },
    {
     "name": "stderr",
     "output_type": "stream",
     "text": [
      "\r",
      " 48%|██████████████████████████████████████▎                                        | 485/1000 [15:32<13:18,  1.55s/it]"
     ]
    },
    {
     "name": "stdout",
     "output_type": "stream",
     "text": [
      "self.get_collection_ratio(): 0.09228158349430345\n",
      "self.state.all_commed: True\n",
      "charging!!!!!!\n",
      "charging!!!!!!\n",
      "charging!!!!!!\n",
      "charging!!!!!!\n",
      "charging!!!!!!\n",
      "charging!!!!!!\n"
     ]
    },
    {
     "name": "stderr",
     "output_type": "stream",
     "text": [
      "\r",
      " 49%|██████████████████████████████████████▍                                        | 486/1000 [15:35<15:34,  1.82s/it]"
     ]
    },
    {
     "name": "stdout",
     "output_type": "stream",
     "text": [
      "self.get_collection_ratio(): 0.1892600039862418\n",
      "self.state.all_commed: True\n",
      "charging!!!!!!\n",
      "charging!!!!!!\n"
     ]
    },
    {
     "name": "stderr",
     "output_type": "stream",
     "text": [
      "\r",
      " 49%|██████████████████████████████████████▍                                        | 487/1000 [15:36<14:13,  1.66s/it]"
     ]
    },
    {
     "name": "stdout",
     "output_type": "stream",
     "text": [
      "self.get_collection_ratio(): 0.0878191724745325\n",
      "self.state.all_commed: True\n",
      "charging!!!!!!\n",
      "charging!!!!!!\n",
      "charging!!!!!!\n",
      "charging!!!!!!\n"
     ]
    },
    {
     "name": "stderr",
     "output_type": "stream",
     "text": [
      "\r",
      " 49%|██████████████████████████████████████▌                                        | 488/1000 [15:38<14:38,  1.72s/it]"
     ]
    },
    {
     "name": "stdout",
     "output_type": "stream",
     "text": [
      "self.get_collection_ratio(): 0.1609150542248332\n",
      "self.state.all_commed: True\n",
      "charging!!!!!!\n",
      "charging!!!!!!\n",
      "charging!!!!!!\n",
      "charging!!!!!!\n"
     ]
    },
    {
     "name": "stderr",
     "output_type": "stream",
     "text": [
      "\r",
      " 49%|██████████████████████████████████████▋                                        | 489/1000 [15:40<15:07,  1.78s/it]"
     ]
    },
    {
     "name": "stdout",
     "output_type": "stream",
     "text": [
      "self.get_collection_ratio(): 0.17748431311458412\n",
      "self.state.all_commed: True\n",
      "charging!!!!!!\n",
      "charging!!!!!!\n"
     ]
    },
    {
     "name": "stderr",
     "output_type": "stream",
     "text": [
      "\r",
      " 49%|██████████████████████████████████████▋                                        | 490/1000 [15:41<13:51,  1.63s/it]"
     ]
    },
    {
     "name": "stdout",
     "output_type": "stream",
     "text": [
      "self.get_collection_ratio(): 0.092563570649922\n",
      "self.state.all_commed: True\n",
      "charging!!!!!!\n",
      "charging!!!!!!\n"
     ]
    },
    {
     "name": "stderr",
     "output_type": "stream",
     "text": [
      "\r",
      " 49%|██████████████████████████████████████▊                                        | 491/1000 [15:43<13:23,  1.58s/it]"
     ]
    },
    {
     "name": "stdout",
     "output_type": "stream",
     "text": [
      "self.get_collection_ratio(): 0.08287111767481137\n",
      "self.state.all_commed: True\n",
      "charging!!!!!!\n",
      "charging!!!!!!\n"
     ]
    },
    {
     "name": "stderr",
     "output_type": "stream",
     "text": [
      "\r",
      " 49%|██████████████████████████████████████▊                                        | 492/1000 [15:44<12:40,  1.50s/it]"
     ]
    },
    {
     "name": "stdout",
     "output_type": "stream",
     "text": [
      "self.get_collection_ratio(): 0.09516958087564564\n",
      "self.state.all_commed: True\n",
      "charging!!!!!!\n",
      "charging!!!!!!\n"
     ]
    },
    {
     "name": "stderr",
     "output_type": "stream",
     "text": [
      "\r",
      " 49%|██████████████████████████████████████▉                                        | 493/1000 [15:45<12:02,  1.42s/it]"
     ]
    },
    {
     "name": "stdout",
     "output_type": "stream",
     "text": [
      "self.get_collection_ratio(): 0.10194814523279824\n",
      "self.state.all_commed: True\n",
      "charging!!!!!!\n",
      "charging!!!!!!\n"
     ]
    },
    {
     "name": "stderr",
     "output_type": "stream",
     "text": [
      "\r",
      " 49%|███████████████████████████████████████                                        | 494/1000 [15:47<12:00,  1.42s/it]"
     ]
    },
    {
     "name": "stdout",
     "output_type": "stream",
     "text": [
      "self.get_collection_ratio(): 0.07333648039967591\n",
      "self.state.all_commed: True\n",
      "charging!!!!!!\n",
      "charging!!!!!!\n"
     ]
    },
    {
     "name": "stderr",
     "output_type": "stream",
     "text": [
      "\r",
      " 50%|███████████████████████████████████████                                        | 495/1000 [15:48<11:44,  1.40s/it]"
     ]
    },
    {
     "name": "stdout",
     "output_type": "stream",
     "text": [
      "self.get_collection_ratio(): 0.09073709334724994\n",
      "self.state.all_commed: True\n",
      "charging!!!!!!\n",
      "charging!!!!!!\n"
     ]
    },
    {
     "name": "stderr",
     "output_type": "stream",
     "text": [
      "\r",
      " 50%|███████████████████████████████████████▏                                       | 496/1000 [15:49<11:30,  1.37s/it]"
     ]
    },
    {
     "name": "stdout",
     "output_type": "stream",
     "text": [
      "self.get_collection_ratio(): 0.08394865333503006\n",
      "self.state.all_commed: True\n",
      "charging!!!!!!\n",
      "charging!!!!!!\n"
     ]
    },
    {
     "name": "stderr",
     "output_type": "stream",
     "text": [
      "\r",
      " 50%|███████████████████████████████████████▎                                       | 497/1000 [15:51<11:30,  1.37s/it]"
     ]
    },
    {
     "name": "stdout",
     "output_type": "stream",
     "text": [
      "self.get_collection_ratio(): 0.08929565502673019\n",
      "self.state.all_commed: True\n",
      "charging!!!!!!\n",
      "charging!!!!!!\n"
     ]
    },
    {
     "name": "stderr",
     "output_type": "stream",
     "text": [
      "\r",
      " 50%|███████████████████████████████████████▎                                       | 498/1000 [15:52<11:28,  1.37s/it]"
     ]
    },
    {
     "name": "stdout",
     "output_type": "stream",
     "text": [
      "self.get_collection_ratio(): 0.08554460442932628\n",
      "self.state.all_commed: True\n",
      "charging!!!!!!\n",
      "charging!!!!!!\n"
     ]
    },
    {
     "name": "stderr",
     "output_type": "stream",
     "text": [
      "\r",
      " 50%|███████████████████████████████████████▍                                       | 499/1000 [15:53<11:30,  1.38s/it]"
     ]
    },
    {
     "name": "stdout",
     "output_type": "stream",
     "text": [
      "self.get_collection_ratio(): 0.09895559686706569\n",
      "self.state.all_commed: True\n",
      "charging!!!!!!\n",
      "charging!!!!!!\n",
      "charging!!!!!!\n",
      "charging!!!!!!\n",
      "charging!!!!!!\n",
      "charging!!!!!!\n"
     ]
    },
    {
     "name": "stderr",
     "output_type": "stream",
     "text": [
      "\r",
      " 50%|███████████████████████████████████████▌                                       | 500/1000 [15:56<13:52,  1.66s/it]"
     ]
    },
    {
     "name": "stdout",
     "output_type": "stream",
     "text": [
      "self.get_collection_ratio(): 0.17539663413862117\n",
      "self.state.all_commed: True\n",
      "charging!!!!!!\n",
      "charging!!!!!!\n"
     ]
    },
    {
     "name": "stderr",
     "output_type": "stream",
     "text": [
      "\r",
      " 50%|███████████████████████████████████████▌                                       | 501/1000 [15:57<12:46,  1.54s/it]"
     ]
    },
    {
     "name": "stdout",
     "output_type": "stream",
     "text": [
      "self.get_collection_ratio(): 0.10873727328409313\n",
      "self.state.all_commed: True\n",
      "charging!!!!!!\n",
      "charging!!!!!!\n",
      "charging!!!!!!\n",
      "charging!!!!!!\n"
     ]
    },
    {
     "name": "stderr",
     "output_type": "stream",
     "text": [
      "\r",
      " 50%|███████████████████████████████████████▋                                       | 502/1000 [15:59<13:35,  1.64s/it]"
     ]
    },
    {
     "name": "stdout",
     "output_type": "stream",
     "text": [
      "self.get_collection_ratio(): 0.16176119275803266\n",
      "self.state.all_commed: True\n",
      "charging!!!!!!\n",
      "charging!!!!!!\n",
      "charging!!!!!!\n",
      "charging!!!!!!\n"
     ]
    },
    {
     "name": "stderr",
     "output_type": "stream",
     "text": [
      "\r",
      " 50%|███████████████████████████████████████▋                                       | 503/1000 [16:01<14:17,  1.73s/it]"
     ]
    },
    {
     "name": "stdout",
     "output_type": "stream",
     "text": [
      "self.get_collection_ratio(): 0.13678306007118268\n",
      "self.state.all_commed: True\n",
      "charging!!!!!!\n",
      "charging!!!!!!\n",
      "charging!!!!!!\n",
      "charging!!!!!!\n",
      "charging!!!!!!\n",
      "charging!!!!!!\n"
     ]
    },
    {
     "name": "stderr",
     "output_type": "stream",
     "text": [
      "\r",
      " 50%|███████████████████████████████████████▊                                       | 504/1000 [16:03<15:50,  1.92s/it]"
     ]
    },
    {
     "name": "stdout",
     "output_type": "stream",
     "text": [
      "self.get_collection_ratio(): 0.20422552706533173\n",
      "self.state.all_commed: True\n",
      "charging!!!!!!\n",
      "charging!!!!!!\n",
      "charging!!!!!!\n",
      "charging!!!!!!\n",
      "charging!!!!!!\n",
      "charging!!!!!!\n"
     ]
    },
    {
     "name": "stderr",
     "output_type": "stream",
     "text": [
      "\r",
      " 50%|███████████████████████████████████████▉                                       | 505/1000 [16:06<16:54,  2.05s/it]"
     ]
    },
    {
     "name": "stdout",
     "output_type": "stream",
     "text": [
      "self.get_collection_ratio(): 0.1833364584389541\n",
      "self.state.all_commed: True\n",
      "charging!!!!!!\n",
      "charging!!!!!!\n",
      "charging!!!!!!\n",
      "charging!!!!!!\n",
      "charging!!!!!!\n",
      "charging!!!!!!\n"
     ]
    },
    {
     "name": "stderr",
     "output_type": "stream",
     "text": [
      "\r",
      " 51%|███████████████████████████████████████▉                                       | 506/1000 [16:08<17:52,  2.17s/it]"
     ]
    },
    {
     "name": "stdout",
     "output_type": "stream",
     "text": [
      "self.get_collection_ratio(): 0.16538320025746217\n",
      "self.state.all_commed: True\n",
      "charging!!!!!!\n",
      "charging!!!!!!\n",
      "charging!!!!!!\n",
      "charging!!!!!!\n",
      "charging!!!!!!\n",
      "charging!!!!!!\n"
     ]
    },
    {
     "name": "stderr",
     "output_type": "stream",
     "text": [
      "\r",
      " 51%|████████████████████████████████████████                                       | 507/1000 [16:10<18:11,  2.21s/it]"
     ]
    },
    {
     "name": "stdout",
     "output_type": "stream",
     "text": [
      "self.get_collection_ratio(): 0.2155129976711376\n",
      "self.state.all_commed: True\n",
      "charging!!!!!!\n",
      "charging!!!!!!\n"
     ]
    },
    {
     "name": "stderr",
     "output_type": "stream",
     "text": [
      "\r",
      " 51%|████████████████████████████████████████▏                                      | 508/1000 [16:12<15:56,  1.94s/it]"
     ]
    },
    {
     "name": "stdout",
     "output_type": "stream",
     "text": [
      "self.get_collection_ratio(): 0.08102799727506721\n",
      "self.state.all_commed: True\n",
      "charging!!!!!!\n",
      "charging!!!!!!\n"
     ]
    },
    {
     "name": "stderr",
     "output_type": "stream",
     "text": [
      "\r",
      " 51%|████████████████████████████████████████▏                                      | 509/1000 [16:13<14:29,  1.77s/it]"
     ]
    },
    {
     "name": "stdout",
     "output_type": "stream",
     "text": [
      "self.get_collection_ratio(): 0.1134320510578765\n",
      "self.state.all_commed: True\n",
      "charging!!!!!!\n",
      "charging!!!!!!\n"
     ]
    },
    {
     "name": "stderr",
     "output_type": "stream",
     "text": [
      "\r",
      " 51%|████████████████████████████████████████▎                                      | 510/1000 [16:14<13:20,  1.63s/it]"
     ]
    },
    {
     "name": "stdout",
     "output_type": "stream",
     "text": [
      "self.get_collection_ratio(): 0.10183215986893762\n",
      "self.state.all_commed: True\n",
      "charging!!!!!!\n",
      "charging!!!!!!\n",
      "charging!!!!!!\n",
      "charging!!!!!!\n"
     ]
    },
    {
     "name": "stderr",
     "output_type": "stream",
     "text": [
      "\r",
      " 51%|████████████████████████████████████████▎                                      | 511/1000 [16:16<14:03,  1.72s/it]"
     ]
    },
    {
     "name": "stdout",
     "output_type": "stream",
     "text": [
      "self.get_collection_ratio(): 0.15288948604091218\n",
      "self.state.all_commed: True\n",
      "charging!!!!!!\n",
      "charging!!!!!!\n"
     ]
    },
    {
     "name": "stderr",
     "output_type": "stream",
     "text": [
      "\r",
      " 51%|████████████████████████████████████████▍                                      | 512/1000 [16:18<13:13,  1.63s/it]"
     ]
    },
    {
     "name": "stdout",
     "output_type": "stream",
     "text": [
      "self.get_collection_ratio(): 0.09064151343002826\n",
      "self.state.all_commed: True\n",
      "charging!!!!!!\n",
      "charging!!!!!!\n",
      "charging!!!!!!\n",
      "charging!!!!!!\n",
      "charging!!!!!!\n",
      "charging!!!!!!\n"
     ]
    },
    {
     "name": "stderr",
     "output_type": "stream",
     "text": [
      "\r",
      " 51%|████████████████████████████████████████▌                                      | 513/1000 [16:20<15:07,  1.86s/it]"
     ]
    },
    {
     "name": "stdout",
     "output_type": "stream",
     "text": [
      "self.get_collection_ratio(): 0.1905212867055167\n",
      "self.state.all_commed: True\n",
      "charging!!!!!!\n",
      "charging!!!!!!\n"
     ]
    },
    {
     "name": "stderr",
     "output_type": "stream",
     "text": [
      "\r",
      " 51%|████████████████████████████████████████▌                                      | 514/1000 [16:21<13:36,  1.68s/it]"
     ]
    },
    {
     "name": "stdout",
     "output_type": "stream",
     "text": [
      "self.get_collection_ratio(): 0.09587220194896777\n",
      "self.state.all_commed: True\n",
      "charging!!!!!!\n",
      "charging!!!!!!\n",
      "charging!!!!!!\n",
      "charging!!!!!!\n"
     ]
    },
    {
     "name": "stderr",
     "output_type": "stream",
     "text": [
      "\r",
      " 52%|████████████████████████████████████████▋                                      | 515/1000 [16:23<14:35,  1.80s/it]"
     ]
    },
    {
     "name": "stdout",
     "output_type": "stream",
     "text": [
      "self.get_collection_ratio(): 0.13139558052840294\n",
      "self.state.all_commed: True\n",
      "charging!!!!!!\n",
      "charging!!!!!!\n"
     ]
    },
    {
     "name": "stderr",
     "output_type": "stream",
     "text": [
      "\r",
      " 52%|████████████████████████████████████████▊                                      | 516/1000 [16:25<13:51,  1.72s/it]"
     ]
    },
    {
     "name": "stdout",
     "output_type": "stream",
     "text": [
      "self.get_collection_ratio(): 0.08178931179193062\n",
      "self.state.all_commed: True\n",
      "charging!!!!!!\n",
      "charging!!!!!!\n",
      "charging!!!!!!\n",
      "charging!!!!!!\n"
     ]
    },
    {
     "name": "stderr",
     "output_type": "stream",
     "text": [
      "\r",
      " 52%|████████████████████████████████████████▊                                      | 517/1000 [16:27<14:14,  1.77s/it]"
     ]
    },
    {
     "name": "stdout",
     "output_type": "stream",
     "text": [
      "self.get_collection_ratio(): 0.1566518370515625\n",
      "self.state.all_commed: True\n",
      "charging!!!!!!\n",
      "charging!!!!!!\n",
      "charging!!!!!!\n",
      "charging!!!!!!\n"
     ]
    },
    {
     "name": "stderr",
     "output_type": "stream",
     "text": [
      "\r",
      " 52%|████████████████████████████████████████▉                                      | 518/1000 [16:29<14:27,  1.80s/it]"
     ]
    },
    {
     "name": "stdout",
     "output_type": "stream",
     "text": [
      "self.get_collection_ratio(): 0.16584745192301328\n",
      "self.state.all_commed: True\n",
      "charging!!!!!!\n",
      "charging!!!!!!\n",
      "charging!!!!!!\n",
      "charging!!!!!!\n"
     ]
    },
    {
     "name": "stderr",
     "output_type": "stream",
     "text": [
      "\r",
      " 52%|█████████████████████████████████████████                                      | 519/1000 [16:31<14:50,  1.85s/it]"
     ]
    },
    {
     "name": "stdout",
     "output_type": "stream",
     "text": [
      "self.get_collection_ratio(): 0.16166595032060369\n",
      "self.state.all_commed: True\n",
      "charging!!!!!!\n",
      "charging!!!!!!\n",
      "charging!!!!!!\n",
      "charging!!!!!!\n",
      "charging!!!!!!\n",
      "charging!!!!!!\n"
     ]
    },
    {
     "name": "stderr",
     "output_type": "stream",
     "text": [
      "\r",
      " 52%|█████████████████████████████████████████                                      | 520/1000 [16:33<16:26,  2.06s/it]"
     ]
    },
    {
     "name": "stdout",
     "output_type": "stream",
     "text": [
      "self.get_collection_ratio(): 0.19849406904583217\n",
      "self.state.all_commed: True\n",
      "charging!!!!!!\n",
      "charging!!!!!!\n"
     ]
    },
    {
     "name": "stderr",
     "output_type": "stream",
     "text": [
      "\r",
      " 52%|█████████████████████████████████████████▏                                     | 521/1000 [16:34<14:35,  1.83s/it]"
     ]
    },
    {
     "name": "stdout",
     "output_type": "stream",
     "text": [
      "self.get_collection_ratio(): 0.09930585188082947\n",
      "self.state.all_commed: True\n",
      "charging!!!!!!\n",
      "charging!!!!!!\n",
      "charging!!!!!!\n",
      "charging!!!!!!\n",
      "charging!!!!!!\n",
      "charging!!!!!!\n"
     ]
    },
    {
     "name": "stderr",
     "output_type": "stream",
     "text": [
      "\r",
      " 52%|█████████████████████████████████████████▏                                     | 522/1000 [16:42<28:07,  3.53s/it]"
     ]
    },
    {
     "name": "stdout",
     "output_type": "stream",
     "text": [
      "self.get_collection_ratio(): 0.17677054388770194\n",
      "self.state.all_commed: True\n",
      "charging!!!!!!\n",
      "charging!!!!!!\n",
      "charging!!!!!!\n",
      "charging!!!!!!\n"
     ]
    },
    {
     "name": "stderr",
     "output_type": "stream",
     "text": [
      "\r",
      " 52%|█████████████████████████████████████████▎                                     | 523/1000 [16:44<24:18,  3.06s/it]"
     ]
    },
    {
     "name": "stdout",
     "output_type": "stream",
     "text": [
      "self.get_collection_ratio(): 0.1550056274555289\n",
      "self.state.all_commed: True\n",
      "charging!!!!!!\n",
      "charging!!!!!!\n"
     ]
    },
    {
     "name": "stderr",
     "output_type": "stream",
     "text": [
      "\r",
      " 52%|█████████████████████████████████████████▍                                     | 524/1000 [16:45<20:29,  2.58s/it]"
     ]
    },
    {
     "name": "stdout",
     "output_type": "stream",
     "text": [
      "self.get_collection_ratio(): 0.08672565420052364\n",
      "self.state.all_commed: True\n",
      "charging!!!!!!\n",
      "charging!!!!!!\n",
      "charging!!!!!!\n",
      "charging!!!!!!\n"
     ]
    },
    {
     "name": "stderr",
     "output_type": "stream",
     "text": [
      "\r",
      " 52%|█████████████████████████████████████████▍                                     | 525/1000 [16:47<18:46,  2.37s/it]"
     ]
    },
    {
     "name": "stdout",
     "output_type": "stream",
     "text": [
      "self.get_collection_ratio(): 0.14139386631344283\n",
      "self.state.all_commed: True\n",
      "charging!!!!!!\n",
      "charging!!!!!!\n",
      "charging!!!!!!\n",
      "charging!!!!!!\n"
     ]
    },
    {
     "name": "stderr",
     "output_type": "stream",
     "text": [
      "\r",
      " 53%|█████████████████████████████████████████▌                                     | 526/1000 [16:49<17:46,  2.25s/it]"
     ]
    },
    {
     "name": "stdout",
     "output_type": "stream",
     "text": [
      "self.get_collection_ratio(): 0.15680469657458712\n",
      "self.state.all_commed: True\n",
      "charging!!!!!!\n",
      "charging!!!!!!\n",
      "charging!!!!!!\n",
      "charging!!!!!!\n",
      "charging!!!!!!\n",
      "charging!!!!!!\n"
     ]
    },
    {
     "name": "stderr",
     "output_type": "stream",
     "text": [
      "\r",
      " 53%|█████████████████████████████████████████▋                                     | 527/1000 [16:52<17:55,  2.27s/it]"
     ]
    },
    {
     "name": "stdout",
     "output_type": "stream",
     "text": [
      "self.get_collection_ratio(): 0.16286622244749502\n",
      "self.state.all_commed: True\n",
      "charging!!!!!!\n",
      "charging!!!!!!\n"
     ]
    },
    {
     "name": "stderr",
     "output_type": "stream",
     "text": [
      "\r",
      " 53%|█████████████████████████████████████████▋                                     | 528/1000 [16:53<15:43,  2.00s/it]"
     ]
    },
    {
     "name": "stdout",
     "output_type": "stream",
     "text": [
      "self.get_collection_ratio(): 0.08440767023682914\n",
      "self.state.all_commed: True\n",
      "charging!!!!!!\n",
      "charging!!!!!!\n",
      "charging!!!!!!\n",
      "charging!!!!!!\n",
      "charging!!!!!!\n",
      "charging!!!!!!\n"
     ]
    },
    {
     "name": "stderr",
     "output_type": "stream",
     "text": [
      "\r",
      " 53%|█████████████████████████████████████████▊                                     | 529/1000 [16:55<16:38,  2.12s/it]"
     ]
    },
    {
     "name": "stdout",
     "output_type": "stream",
     "text": [
      "self.get_collection_ratio(): 0.17443932112221155\n",
      "self.state.all_commed: True\n",
      "charging!!!!!!\n",
      "charging!!!!!!\n",
      "charging!!!!!!\n",
      "charging!!!!!!\n"
     ]
    },
    {
     "name": "stderr",
     "output_type": "stream",
     "text": [
      "\r",
      " 53%|█████████████████████████████████████████▊                                     | 530/1000 [16:57<15:58,  2.04s/it]"
     ]
    },
    {
     "name": "stdout",
     "output_type": "stream",
     "text": [
      "self.get_collection_ratio(): 0.16846745394877768\n",
      "self.state.all_commed: True\n",
      "charging!!!!!!\n",
      "charging!!!!!!\n",
      "charging!!!!!!\n",
      "charging!!!!!!\n"
     ]
    },
    {
     "name": "stderr",
     "output_type": "stream",
     "text": [
      "\r",
      " 53%|█████████████████████████████████████████▉                                     | 531/1000 [16:59<15:33,  1.99s/it]"
     ]
    },
    {
     "name": "stdout",
     "output_type": "stream",
     "text": [
      "self.get_collection_ratio(): 0.13240879435831998\n",
      "self.state.all_commed: True\n",
      "charging!!!!!!\n",
      "charging!!!!!!\n",
      "charging!!!!!!\n",
      "charging!!!!!!\n",
      "charging!!!!!!\n",
      "charging!!!!!!\n"
     ]
    },
    {
     "name": "stderr",
     "output_type": "stream",
     "text": [
      "\r",
      " 53%|██████████████████████████████████████████                                     | 532/1000 [17:01<16:31,  2.12s/it]"
     ]
    },
    {
     "name": "stdout",
     "output_type": "stream",
     "text": [
      "self.get_collection_ratio(): 0.18217634375422745\n",
      "self.state.all_commed: True\n",
      "charging!!!!!!\n",
      "charging!!!!!!\n",
      "charging!!!!!!\n",
      "charging!!!!!!\n"
     ]
    },
    {
     "name": "stderr",
     "output_type": "stream",
     "text": [
      "\r",
      " 53%|██████████████████████████████████████████                                     | 533/1000 [17:03<16:03,  2.06s/it]"
     ]
    },
    {
     "name": "stdout",
     "output_type": "stream",
     "text": [
      "self.get_collection_ratio(): 0.1859422577471622\n",
      "self.state.all_commed: True\n",
      "charging!!!!!!\n",
      "charging!!!!!!\n",
      "charging!!!!!!\n",
      "charging!!!!!!\n"
     ]
    },
    {
     "name": "stderr",
     "output_type": "stream",
     "text": [
      "\r",
      " 53%|██████████████████████████████████████████▏                                    | 534/1000 [17:05<15:23,  1.98s/it]"
     ]
    },
    {
     "name": "stdout",
     "output_type": "stream",
     "text": [
      "self.get_collection_ratio(): 0.1249129277507793\n",
      "self.state.all_commed: True\n",
      "charging!!!!!!\n",
      "charging!!!!!!\n"
     ]
    },
    {
     "name": "stderr",
     "output_type": "stream",
     "text": [
      "\r",
      " 54%|██████████████████████████████████████████▎                                    | 535/1000 [17:07<13:54,  1.80s/it]"
     ]
    },
    {
     "name": "stdout",
     "output_type": "stream",
     "text": [
      "self.get_collection_ratio(): 0.09723844642231524\n",
      "self.state.all_commed: True\n",
      "charging!!!!!!\n",
      "charging!!!!!!\n",
      "charging!!!!!!\n",
      "charging!!!!!!\n"
     ]
    },
    {
     "name": "stderr",
     "output_type": "stream",
     "text": [
      "\r",
      " 54%|██████████████████████████████████████████▎                                    | 536/1000 [17:08<14:09,  1.83s/it]"
     ]
    },
    {
     "name": "stdout",
     "output_type": "stream",
     "text": [
      "self.get_collection_ratio(): 0.19262054315918947\n",
      "self.state.all_commed: True\n",
      "charging!!!!!!\n",
      "charging!!!!!!\n"
     ]
    },
    {
     "name": "stderr",
     "output_type": "stream",
     "text": [
      "\r",
      " 54%|██████████████████████████████████████████▍                                    | 537/1000 [17:10<13:25,  1.74s/it]"
     ]
    },
    {
     "name": "stdout",
     "output_type": "stream",
     "text": [
      "self.get_collection_ratio(): 0.08484875684725453\n",
      "self.state.all_commed: True\n",
      "charging!!!!!!\n",
      "charging!!!!!!\n",
      "charging!!!!!!\n",
      "charging!!!!!!\n"
     ]
    },
    {
     "name": "stderr",
     "output_type": "stream",
     "text": [
      "\r",
      " 54%|██████████████████████████████████████████▌                                    | 538/1000 [17:12<13:44,  1.79s/it]"
     ]
    },
    {
     "name": "stdout",
     "output_type": "stream",
     "text": [
      "self.get_collection_ratio(): 0.14181604538507653\n",
      "self.state.all_commed: True\n",
      "charging!!!!!!\n",
      "charging!!!!!!\n"
     ]
    },
    {
     "name": "stderr",
     "output_type": "stream",
     "text": [
      "\r",
      " 54%|██████████████████████████████████████████▌                                    | 539/1000 [17:13<12:47,  1.66s/it]"
     ]
    },
    {
     "name": "stdout",
     "output_type": "stream",
     "text": [
      "self.get_collection_ratio(): 0.07797310474797994\n",
      "self.state.all_commed: True\n",
      "charging!!!!!!\n",
      "charging!!!!!!\n"
     ]
    },
    {
     "name": "stderr",
     "output_type": "stream",
     "text": [
      "\r",
      " 54%|██████████████████████████████████████████▋                                    | 540/1000 [17:15<12:08,  1.58s/it]"
     ]
    },
    {
     "name": "stdout",
     "output_type": "stream",
     "text": [
      "self.get_collection_ratio(): 0.11174176943608534\n",
      "self.state.all_commed: True\n",
      "charging!!!!!!\n",
      "charging!!!!!!\n"
     ]
    },
    {
     "name": "stderr",
     "output_type": "stream",
     "text": [
      "\r",
      " 54%|██████████████████████████████████████████▋                                    | 541/1000 [17:16<11:29,  1.50s/it]"
     ]
    },
    {
     "name": "stdout",
     "output_type": "stream",
     "text": [
      "self.get_collection_ratio(): 0.09966722361335115\n",
      "self.state.all_commed: True\n",
      "charging!!!!!!\n",
      "charging!!!!!!\n"
     ]
    },
    {
     "name": "stderr",
     "output_type": "stream",
     "text": [
      "\r",
      " 54%|██████████████████████████████████████████▊                                    | 542/1000 [17:17<11:09,  1.46s/it]"
     ]
    },
    {
     "name": "stdout",
     "output_type": "stream",
     "text": [
      "self.get_collection_ratio(): 0.10163592646329425\n",
      "self.state.all_commed: True\n",
      "charging!!!!!!\n",
      "charging!!!!!!\n",
      "charging!!!!!!\n",
      "charging!!!!!!\n"
     ]
    },
    {
     "name": "stderr",
     "output_type": "stream",
     "text": [
      "\r",
      " 54%|██████████████████████████████████████████▉                                    | 543/1000 [17:19<12:00,  1.58s/it]"
     ]
    },
    {
     "name": "stdout",
     "output_type": "stream",
     "text": [
      "self.get_collection_ratio(): 0.18714094462371267\n",
      "self.state.all_commed: True\n",
      "charging!!!!!!\n",
      "charging!!!!!!\n",
      "charging!!!!!!\n",
      "charging!!!!!!\n",
      "charging!!!!!!\n",
      "charging!!!!!!\n"
     ]
    },
    {
     "name": "stderr",
     "output_type": "stream",
     "text": [
      "\r",
      " 54%|██████████████████████████████████████████▉                                    | 544/1000 [17:22<13:58,  1.84s/it]"
     ]
    },
    {
     "name": "stdout",
     "output_type": "stream",
     "text": [
      "self.get_collection_ratio(): 0.20710691517624708\n",
      "self.state.all_commed: True\n",
      "charging!!!!!!\n",
      "charging!!!!!!\n",
      "charging!!!!!!\n",
      "charging!!!!!!\n",
      "charging!!!!!!\n",
      "charging!!!!!!\n"
     ]
    },
    {
     "name": "stderr",
     "output_type": "stream",
     "text": [
      "\r",
      " 55%|███████████████████████████████████████████                                    | 545/1000 [17:24<15:33,  2.05s/it]"
     ]
    },
    {
     "name": "stdout",
     "output_type": "stream",
     "text": [
      "self.get_collection_ratio(): 0.15019945440582852\n",
      "self.state.all_commed: True\n",
      "charging!!!!!!\n",
      "charging!!!!!!\n"
     ]
    },
    {
     "name": "stderr",
     "output_type": "stream",
     "text": [
      "\r",
      " 55%|███████████████████████████████████████████▏                                   | 546/1000 [17:26<13:59,  1.85s/it]"
     ]
    },
    {
     "name": "stdout",
     "output_type": "stream",
     "text": [
      "self.get_collection_ratio(): 0.1047796279555233\n",
      "self.state.all_commed: True\n",
      "charging!!!!!!\n",
      "charging!!!!!!\n",
      "charging!!!!!!\n",
      "charging!!!!!!\n",
      "charging!!!!!!\n",
      "charging!!!!!!\n"
     ]
    },
    {
     "name": "stderr",
     "output_type": "stream",
     "text": [
      "\r",
      " 55%|███████████████████████████████████████████▏                                   | 547/1000 [17:28<15:07,  2.00s/it]"
     ]
    },
    {
     "name": "stdout",
     "output_type": "stream",
     "text": [
      "self.get_collection_ratio(): 0.1826458124984933\n",
      "self.state.all_commed: True\n",
      "charging!!!!!!\n",
      "charging!!!!!!\n"
     ]
    },
    {
     "name": "stderr",
     "output_type": "stream",
     "text": [
      "\r",
      " 55%|███████████████████████████████████████████▎                                   | 548/1000 [17:29<13:45,  1.83s/it]"
     ]
    },
    {
     "name": "stdout",
     "output_type": "stream",
     "text": [
      "self.get_collection_ratio(): 0.08717492640024044\n",
      "self.state.all_commed: True\n",
      "charging!!!!!!\n",
      "charging!!!!!!\n"
     ]
    },
    {
     "name": "stderr",
     "output_type": "stream",
     "text": [
      "\r",
      " 55%|███████████████████████████████████████████▎                                   | 549/1000 [17:31<12:39,  1.69s/it]"
     ]
    },
    {
     "name": "stdout",
     "output_type": "stream",
     "text": [
      "self.get_collection_ratio(): 0.11073966583860657\n",
      "self.state.all_commed: True\n",
      "charging!!!!!!\n",
      "charging!!!!!!\n",
      "charging!!!!!!\n",
      "charging!!!!!!\n"
     ]
    },
    {
     "name": "stderr",
     "output_type": "stream",
     "text": [
      "\r",
      " 55%|███████████████████████████████████████████▍                                   | 550/1000 [17:33<13:13,  1.76s/it]"
     ]
    },
    {
     "name": "stdout",
     "output_type": "stream",
     "text": [
      "self.get_collection_ratio(): 0.14258771854348903\n",
      "self.state.all_commed: True\n",
      "charging!!!!!!\n",
      "charging!!!!!!\n",
      "charging!!!!!!\n",
      "charging!!!!!!\n"
     ]
    },
    {
     "name": "stderr",
     "output_type": "stream",
     "text": [
      "\r",
      " 55%|███████████████████████████████████████████▌                                   | 551/1000 [17:35<13:25,  1.79s/it]"
     ]
    },
    {
     "name": "stdout",
     "output_type": "stream",
     "text": [
      "self.get_collection_ratio(): 0.15362757410582062\n",
      "self.state.all_commed: True\n",
      "charging!!!!!!\n",
      "charging!!!!!!\n"
     ]
    },
    {
     "name": "stderr",
     "output_type": "stream",
     "text": [
      "\r",
      " 55%|███████████████████████████████████████████▌                                   | 552/1000 [17:36<12:24,  1.66s/it]"
     ]
    },
    {
     "name": "stdout",
     "output_type": "stream",
     "text": [
      "self.get_collection_ratio(): 0.0781616968854272\n",
      "self.state.all_commed: True\n",
      "charging!!!!!!\n",
      "charging!!!!!!\n"
     ]
    },
    {
     "name": "stderr",
     "output_type": "stream",
     "text": [
      "\r",
      " 55%|███████████████████████████████████████████▋                                   | 553/1000 [17:37<11:37,  1.56s/it]"
     ]
    },
    {
     "name": "stdout",
     "output_type": "stream",
     "text": [
      "self.get_collection_ratio(): 0.09167067517772366\n",
      "self.state.all_commed: True\n",
      "charging!!!!!!\n",
      "charging!!!!!!\n",
      "charging!!!!!!\n",
      "charging!!!!!!\n"
     ]
    },
    {
     "name": "stderr",
     "output_type": "stream",
     "text": [
      "\r",
      " 55%|███████████████████████████████████████████▊                                   | 554/1000 [17:39<12:14,  1.65s/it]"
     ]
    },
    {
     "name": "stdout",
     "output_type": "stream",
     "text": [
      "self.get_collection_ratio(): 0.13629204796339764\n",
      "self.state.all_commed: True\n",
      "charging!!!!!!\n",
      "charging!!!!!!\n",
      "charging!!!!!!\n",
      "charging!!!!!!\n"
     ]
    },
    {
     "name": "stderr",
     "output_type": "stream",
     "text": [
      "\r",
      " 56%|███████████████████████████████████████████▊                                   | 555/1000 [17:41<12:47,  1.72s/it]"
     ]
    },
    {
     "name": "stdout",
     "output_type": "stream",
     "text": [
      "self.get_collection_ratio(): 0.14399752255418674\n",
      "self.state.all_commed: True\n",
      "charging!!!!!!\n",
      "charging!!!!!!\n",
      "charging!!!!!!\n",
      "charging!!!!!!\n"
     ]
    },
    {
     "name": "stderr",
     "output_type": "stream",
     "text": [
      "\r",
      " 56%|███████████████████████████████████████████▉                                   | 556/1000 [17:43<12:59,  1.76s/it]"
     ]
    },
    {
     "name": "stdout",
     "output_type": "stream",
     "text": [
      "self.get_collection_ratio(): 0.15295444439822167\n",
      "self.state.all_commed: True\n",
      "charging!!!!!!\n",
      "charging!!!!!!\n"
     ]
    },
    {
     "name": "stderr",
     "output_type": "stream",
     "text": [
      "\r",
      " 56%|████████████████████████████████████████████                                   | 557/1000 [17:44<11:55,  1.61s/it]"
     ]
    },
    {
     "name": "stdout",
     "output_type": "stream",
     "text": [
      "self.get_collection_ratio(): 0.10175278872162978\n",
      "self.state.all_commed: True\n",
      "charging!!!!!!\n",
      "charging!!!!!!\n",
      "charging!!!!!!\n",
      "charging!!!!!!\n"
     ]
    },
    {
     "name": "stderr",
     "output_type": "stream",
     "text": [
      "\r",
      " 56%|████████████████████████████████████████████                                   | 558/1000 [17:46<12:33,  1.70s/it]"
     ]
    },
    {
     "name": "stdout",
     "output_type": "stream",
     "text": [
      "self.get_collection_ratio(): 0.16380002044338887\n",
      "self.state.all_commed: True\n",
      "charging!!!!!!\n",
      "charging!!!!!!\n",
      "charging!!!!!!\n",
      "charging!!!!!!\n",
      "charging!!!!!!\n",
      "charging!!!!!!\n"
     ]
    },
    {
     "name": "stderr",
     "output_type": "stream",
     "text": [
      "\r",
      " 56%|████████████████████████████████████████████▏                                  | 559/1000 [17:48<14:05,  1.92s/it]"
     ]
    },
    {
     "name": "stdout",
     "output_type": "stream",
     "text": [
      "self.get_collection_ratio(): 0.15575208832732299\n",
      "self.state.all_commed: True\n",
      "charging!!!!!!\n",
      "charging!!!!!!\n"
     ]
    },
    {
     "name": "stderr",
     "output_type": "stream",
     "text": [
      "\r",
      " 56%|████████████████████████████████████████████▏                                  | 560/1000 [17:50<12:48,  1.75s/it]"
     ]
    },
    {
     "name": "stdout",
     "output_type": "stream",
     "text": [
      "self.get_collection_ratio(): 0.09234948692092268\n",
      "self.state.all_commed: True\n",
      "charging!!!!!!\n",
      "charging!!!!!!\n"
     ]
    },
    {
     "name": "stderr",
     "output_type": "stream",
     "text": [
      "\r",
      " 56%|████████████████████████████████████████████▎                                  | 561/1000 [17:51<11:58,  1.64s/it]"
     ]
    },
    {
     "name": "stdout",
     "output_type": "stream",
     "text": [
      "self.get_collection_ratio(): 0.09949588960079389\n",
      "self.state.all_commed: True\n",
      "charging!!!!!!\n",
      "charging!!!!!!\n",
      "charging!!!!!!\n",
      "charging!!!!!!\n"
     ]
    },
    {
     "name": "stderr",
     "output_type": "stream",
     "text": [
      "\r",
      " 56%|████████████████████████████████████████████▍                                  | 562/1000 [17:53<12:45,  1.75s/it]"
     ]
    },
    {
     "name": "stdout",
     "output_type": "stream",
     "text": [
      "self.get_collection_ratio(): 0.14435363283986727\n",
      "self.state.all_commed: True\n",
      "charging!!!!!!\n",
      "charging!!!!!!\n",
      "charging!!!!!!\n",
      "charging!!!!!!\n",
      "charging!!!!!!\n",
      "charging!!!!!!\n"
     ]
    },
    {
     "name": "stderr",
     "output_type": "stream",
     "text": [
      "\r",
      " 56%|████████████████████████████████████████████▍                                  | 563/1000 [17:56<14:33,  2.00s/it]"
     ]
    },
    {
     "name": "stdout",
     "output_type": "stream",
     "text": [
      "self.get_collection_ratio(): 0.18427085877825433\n",
      "self.state.all_commed: True\n",
      "charging!!!!!!\n",
      "charging!!!!!!\n"
     ]
    },
    {
     "name": "stderr",
     "output_type": "stream",
     "text": [
      "\r",
      " 56%|████████████████████████████████████████████▌                                  | 564/1000 [17:57<13:08,  1.81s/it]"
     ]
    },
    {
     "name": "stdout",
     "output_type": "stream",
     "text": [
      "self.get_collection_ratio(): 0.10633128793385253\n",
      "self.state.all_commed: True\n",
      "charging!!!!!!\n",
      "charging!!!!!!\n",
      "charging!!!!!!\n",
      "charging!!!!!!\n"
     ]
    },
    {
     "name": "stderr",
     "output_type": "stream",
     "text": [
      "\r",
      " 56%|████████████████████████████████████████████▋                                  | 565/1000 [17:59<13:22,  1.84s/it]"
     ]
    },
    {
     "name": "stdout",
     "output_type": "stream",
     "text": [
      "self.get_collection_ratio(): 0.18407638348235858\n",
      "self.state.all_commed: True\n",
      "charging!!!!!!\n",
      "charging!!!!!!\n"
     ]
    },
    {
     "name": "stderr",
     "output_type": "stream",
     "text": [
      "\r",
      " 57%|████████████████████████████████████████████▋                                  | 566/1000 [18:00<12:22,  1.71s/it]"
     ]
    },
    {
     "name": "stdout",
     "output_type": "stream",
     "text": [
      "self.get_collection_ratio(): 0.10417842844724826\n",
      "self.state.all_commed: True\n",
      "charging!!!!!!\n",
      "charging!!!!!!\n",
      "charging!!!!!!\n",
      "charging!!!!!!\n",
      "charging!!!!!!\n",
      "charging!!!!!!\n"
     ]
    },
    {
     "name": "stderr",
     "output_type": "stream",
     "text": [
      "\r",
      " 57%|████████████████████████████████████████████▊                                  | 567/1000 [18:03<13:53,  1.93s/it]"
     ]
    },
    {
     "name": "stdout",
     "output_type": "stream",
     "text": [
      "self.get_collection_ratio(): 0.1873051698697812\n",
      "self.state.all_commed: True\n",
      "charging!!!!!!\n",
      "charging!!!!!!\n",
      "charging!!!!!!\n",
      "charging!!!!!!\n"
     ]
    },
    {
     "name": "stderr",
     "output_type": "stream",
     "text": [
      "\r",
      " 57%|████████████████████████████████████████████▊                                  | 568/1000 [18:05<13:36,  1.89s/it]"
     ]
    },
    {
     "name": "stdout",
     "output_type": "stream",
     "text": [
      "self.get_collection_ratio(): 0.16766583697490817\n",
      "self.state.all_commed: True\n",
      "charging!!!!!!\n",
      "charging!!!!!!\n"
     ]
    },
    {
     "name": "stderr",
     "output_type": "stream",
     "text": [
      "\r",
      " 57%|████████████████████████████████████████████▉                                  | 569/1000 [18:06<12:09,  1.69s/it]"
     ]
    },
    {
     "name": "stdout",
     "output_type": "stream",
     "text": [
      "self.get_collection_ratio(): 0.09667841391392827\n",
      "self.state.all_commed: True\n",
      "charging!!!!!!\n",
      "charging!!!!!!\n",
      "charging!!!!!!\n",
      "charging!!!!!!\n",
      "charging!!!!!!\n",
      "charging!!!!!!\n"
     ]
    },
    {
     "name": "stderr",
     "output_type": "stream",
     "text": [
      "\r",
      " 57%|█████████████████████████████████████████████                                  | 570/1000 [18:08<13:38,  1.90s/it]"
     ]
    },
    {
     "name": "stdout",
     "output_type": "stream",
     "text": [
      "self.get_collection_ratio(): 0.15485818254111175\n",
      "self.state.all_commed: True\n",
      "charging!!!!!!\n",
      "charging!!!!!!\n"
     ]
    },
    {
     "name": "stderr",
     "output_type": "stream",
     "text": [
      "\r",
      " 57%|█████████████████████████████████████████████                                  | 571/1000 [18:10<12:32,  1.75s/it]"
     ]
    },
    {
     "name": "stdout",
     "output_type": "stream",
     "text": [
      "self.get_collection_ratio(): 0.10234127024516615\n",
      "self.state.all_commed: True\n",
      "charging!!!!!!\n",
      "charging!!!!!!\n",
      "charging!!!!!!\n",
      "charging!!!!!!\n"
     ]
    },
    {
     "name": "stderr",
     "output_type": "stream",
     "text": [
      "\r",
      " 57%|█████████████████████████████████████████████▏                                 | 572/1000 [18:12<12:42,  1.78s/it]"
     ]
    },
    {
     "name": "stdout",
     "output_type": "stream",
     "text": [
      "self.get_collection_ratio(): 0.13218755483676248\n",
      "self.state.all_commed: True\n",
      "charging!!!!!!\n",
      "charging!!!!!!\n",
      "charging!!!!!!\n",
      "charging!!!!!!\n",
      "charging!!!!!!\n",
      "charging!!!!!!\n"
     ]
    },
    {
     "name": "stderr",
     "output_type": "stream",
     "text": [
      "\r",
      " 57%|█████████████████████████████████████████████▎                                 | 573/1000 [18:14<13:50,  1.95s/it]"
     ]
    },
    {
     "name": "stdout",
     "output_type": "stream",
     "text": [
      "self.get_collection_ratio(): 0.2240329012914472\n",
      "self.state.all_commed: True\n",
      "charging!!!!!!\n",
      "charging!!!!!!\n",
      "charging!!!!!!\n",
      "charging!!!!!!\n",
      "charging!!!!!!\n",
      "charging!!!!!!\n"
     ]
    },
    {
     "name": "stderr",
     "output_type": "stream",
     "text": [
      "\r",
      " 57%|█████████████████████████████████████████████▎                                 | 574/1000 [18:16<14:44,  2.08s/it]"
     ]
    },
    {
     "name": "stdout",
     "output_type": "stream",
     "text": [
      "self.get_collection_ratio(): 0.2013942880855674\n",
      "self.state.all_commed: True\n",
      "charging!!!!!!\n",
      "charging!!!!!!\n"
     ]
    },
    {
     "name": "stderr",
     "output_type": "stream",
     "text": [
      "\r",
      " 57%|█████████████████████████████████████████████▍                                 | 575/1000 [18:18<13:14,  1.87s/it]"
     ]
    },
    {
     "name": "stdout",
     "output_type": "stream",
     "text": [
      "self.get_collection_ratio(): 0.09959734015818233\n",
      "self.state.all_commed: True\n",
      "charging!!!!!!\n",
      "charging!!!!!!\n",
      "charging!!!!!!\n",
      "charging!!!!!!\n"
     ]
    },
    {
     "name": "stderr",
     "output_type": "stream",
     "text": [
      "\r",
      " 58%|█████████████████████████████████████████████▌                                 | 576/1000 [18:20<13:14,  1.87s/it]"
     ]
    },
    {
     "name": "stdout",
     "output_type": "stream",
     "text": [
      "self.get_collection_ratio(): 0.13851587872750365\n",
      "self.state.all_commed: True\n",
      "charging!!!!!!\n",
      "charging!!!!!!\n",
      "charging!!!!!!\n",
      "charging!!!!!!\n",
      "charging!!!!!!\n",
      "charging!!!!!!\n"
     ]
    },
    {
     "name": "stderr",
     "output_type": "stream",
     "text": [
      "\r",
      " 58%|█████████████████████████████████████████████▌                                 | 577/1000 [18:22<14:19,  2.03s/it]"
     ]
    },
    {
     "name": "stdout",
     "output_type": "stream",
     "text": [
      "self.get_collection_ratio(): 0.2138868081517976\n",
      "self.state.all_commed: True\n",
      "charging!!!!!!\n",
      "charging!!!!!!\n",
      "charging!!!!!!\n",
      "charging!!!!!!\n",
      "charging!!!!!!\n",
      "charging!!!!!!\n"
     ]
    },
    {
     "name": "stderr",
     "output_type": "stream",
     "text": [
      "\r",
      " 58%|█████████████████████████████████████████████▋                                 | 578/1000 [18:24<14:58,  2.13s/it]"
     ]
    },
    {
     "name": "stdout",
     "output_type": "stream",
     "text": [
      "self.get_collection_ratio(): 0.21475441692185504\n",
      "self.state.all_commed: True\n",
      "charging!!!!!!\n",
      "charging!!!!!!\n",
      "charging!!!!!!\n",
      "charging!!!!!!\n"
     ]
    },
    {
     "name": "stderr",
     "output_type": "stream",
     "text": [
      "\r",
      " 58%|█████████████████████████████████████████████▋                                 | 579/1000 [18:26<14:26,  2.06s/it]"
     ]
    },
    {
     "name": "stdout",
     "output_type": "stream",
     "text": [
      "self.get_collection_ratio(): 0.16956533240566835\n",
      "self.state.all_commed: True\n",
      "charging!!!!!!\n",
      "charging!!!!!!\n",
      "charging!!!!!!\n",
      "charging!!!!!!\n"
     ]
    },
    {
     "name": "stderr",
     "output_type": "stream",
     "text": [
      "\r",
      " 58%|█████████████████████████████████████████████▊                                 | 580/1000 [18:28<14:12,  2.03s/it]"
     ]
    },
    {
     "name": "stdout",
     "output_type": "stream",
     "text": [
      "self.get_collection_ratio(): 0.14235633728069436\n",
      "self.state.all_commed: True\n",
      "charging!!!!!!\n",
      "charging!!!!!!\n",
      "charging!!!!!!\n",
      "charging!!!!!!\n",
      "charging!!!!!!\n",
      "charging!!!!!!\n"
     ]
    },
    {
     "name": "stderr",
     "output_type": "stream",
     "text": [
      "\r",
      " 58%|█████████████████████████████████████████████▉                                 | 581/1000 [18:31<15:10,  2.17s/it]"
     ]
    },
    {
     "name": "stdout",
     "output_type": "stream",
     "text": [
      "self.get_collection_ratio(): 0.21061987829602244\n",
      "self.state.all_commed: True\n",
      "charging!!!!!!\n",
      "charging!!!!!!\n",
      "charging!!!!!!\n",
      "charging!!!!!!\n"
     ]
    },
    {
     "name": "stderr",
     "output_type": "stream",
     "text": [
      "\r",
      " 58%|█████████████████████████████████████████████▉                                 | 582/1000 [18:32<14:29,  2.08s/it]"
     ]
    },
    {
     "name": "stdout",
     "output_type": "stream",
     "text": [
      "self.get_collection_ratio(): 0.14762587801635235\n",
      "self.state.all_commed: True\n",
      "charging!!!!!!\n",
      "charging!!!!!!\n"
     ]
    },
    {
     "name": "stderr",
     "output_type": "stream",
     "text": [
      "\r",
      " 58%|██████████████████████████████████████████████                                 | 583/1000 [18:34<12:56,  1.86s/it]"
     ]
    },
    {
     "name": "stdout",
     "output_type": "stream",
     "text": [
      "self.get_collection_ratio(): 0.11641799747121512\n",
      "self.state.all_commed: True\n",
      "charging!!!!!!\n",
      "charging!!!!!!\n"
     ]
    },
    {
     "name": "stderr",
     "output_type": "stream",
     "text": [
      "\r",
      " 58%|██████████████████████████████████████████████▏                                | 584/1000 [18:35<11:50,  1.71s/it]"
     ]
    },
    {
     "name": "stdout",
     "output_type": "stream",
     "text": [
      "self.get_collection_ratio(): 0.113502159382507\n",
      "self.state.all_commed: True\n",
      "charging!!!!!!\n",
      "charging!!!!!!\n"
     ]
    },
    {
     "name": "stderr",
     "output_type": "stream",
     "text": [
      "\r",
      " 58%|██████████████████████████████████████████████▏                                | 585/1000 [18:36<10:57,  1.58s/it]"
     ]
    },
    {
     "name": "stdout",
     "output_type": "stream",
     "text": [
      "self.get_collection_ratio(): 0.11866614253483358\n",
      "self.state.all_commed: True\n",
      "charging!!!!!!\n",
      "charging!!!!!!\n",
      "charging!!!!!!\n",
      "charging!!!!!!\n"
     ]
    },
    {
     "name": "stderr",
     "output_type": "stream",
     "text": [
      "\r",
      " 59%|██████████████████████████████████████████████▎                                | 586/1000 [18:38<11:29,  1.67s/it]"
     ]
    },
    {
     "name": "stdout",
     "output_type": "stream",
     "text": [
      "self.get_collection_ratio(): 0.13766695515419985\n",
      "self.state.all_commed: True\n",
      "charging!!!!!!\n",
      "charging!!!!!!\n",
      "charging!!!!!!\n",
      "charging!!!!!!\n"
     ]
    },
    {
     "name": "stderr",
     "output_type": "stream",
     "text": [
      "\r",
      " 59%|██████████████████████████████████████████████▎                                | 587/1000 [18:40<11:58,  1.74s/it]"
     ]
    },
    {
     "name": "stdout",
     "output_type": "stream",
     "text": [
      "self.get_collection_ratio(): 0.16678849324912606\n",
      "self.state.all_commed: True\n",
      "charging!!!!!!\n",
      "charging!!!!!!\n",
      "charging!!!!!!\n",
      "charging!!!!!!\n"
     ]
    },
    {
     "name": "stderr",
     "output_type": "stream",
     "text": [
      "\r",
      " 59%|██████████████████████████████████████████████▍                                | 588/1000 [18:48<24:10,  3.52s/it]"
     ]
    },
    {
     "name": "stdout",
     "output_type": "stream",
     "text": [
      "self.get_collection_ratio(): 0.16032768694399338\n",
      "self.state.all_commed: True\n",
      "charging!!!!!!\n",
      "charging!!!!!!\n",
      "charging!!!!!!\n",
      "charging!!!!!!\n"
     ]
    },
    {
     "name": "stderr",
     "output_type": "stream",
     "text": [
      "\r",
      " 59%|██████████████████████████████████████████████▌                                | 589/1000 [18:50<20:43,  3.03s/it]"
     ]
    },
    {
     "name": "stdout",
     "output_type": "stream",
     "text": [
      "self.get_collection_ratio(): 0.16267576783885926\n",
      "self.state.all_commed: True\n",
      "charging!!!!!!\n",
      "charging!!!!!!\n",
      "charging!!!!!!\n",
      "charging!!!!!!\n",
      "charging!!!!!!\n",
      "charging!!!!!!\n"
     ]
    },
    {
     "name": "stderr",
     "output_type": "stream",
     "text": [
      "\r",
      " 59%|██████████████████████████████████████████████▌                                | 590/1000 [18:52<19:26,  2.85s/it]"
     ]
    },
    {
     "name": "stdout",
     "output_type": "stream",
     "text": [
      "self.get_collection_ratio(): 0.21383677019974326\n",
      "self.state.all_commed: True\n",
      "charging!!!!!!\n",
      "charging!!!!!!\n"
     ]
    },
    {
     "name": "stderr",
     "output_type": "stream",
     "text": [
      "\r",
      " 59%|██████████████████████████████████████████████▋                                | 591/1000 [18:54<16:23,  2.40s/it]"
     ]
    },
    {
     "name": "stdout",
     "output_type": "stream",
     "text": [
      "self.get_collection_ratio(): 0.09777540868763542\n",
      "self.state.all_commed: True\n",
      "charging!!!!!!\n",
      "charging!!!!!!\n",
      "charging!!!!!!\n",
      "charging!!!!!!\n"
     ]
    },
    {
     "name": "stderr",
     "output_type": "stream",
     "text": [
      "\r",
      " 59%|██████████████████████████████████████████████▊                                | 592/1000 [18:56<15:22,  2.26s/it]"
     ]
    },
    {
     "name": "stdout",
     "output_type": "stream",
     "text": [
      "self.get_collection_ratio(): 0.13544618520221335\n",
      "self.state.all_commed: True\n",
      "charging!!!!!!\n",
      "charging!!!!!!\n"
     ]
    },
    {
     "name": "stderr",
     "output_type": "stream",
     "text": [
      "\r",
      " 59%|██████████████████████████████████████████████▊                                | 593/1000 [18:57<13:27,  1.98s/it]"
     ]
    },
    {
     "name": "stdout",
     "output_type": "stream",
     "text": [
      "self.get_collection_ratio(): 0.0903126713494666\n",
      "self.state.all_commed: True\n",
      "charging!!!!!!\n",
      "charging!!!!!!\n",
      "charging!!!!!!\n",
      "charging!!!!!!\n"
     ]
    },
    {
     "name": "stderr",
     "output_type": "stream",
     "text": [
      "\r",
      " 59%|██████████████████████████████████████████████▉                                | 594/1000 [18:59<13:07,  1.94s/it]"
     ]
    },
    {
     "name": "stdout",
     "output_type": "stream",
     "text": [
      "self.get_collection_ratio(): 0.16244607643895886\n",
      "self.state.all_commed: True\n",
      "charging!!!!!!\n",
      "charging!!!!!!\n",
      "charging!!!!!!\n",
      "charging!!!!!!\n"
     ]
    },
    {
     "name": "stderr",
     "output_type": "stream",
     "text": [
      "\r",
      " 60%|███████████████████████████████████████████████                                | 595/1000 [19:01<13:07,  1.94s/it]"
     ]
    },
    {
     "name": "stdout",
     "output_type": "stream",
     "text": [
      "self.get_collection_ratio(): 0.16705873798240034\n",
      "self.state.all_commed: True\n",
      "charging!!!!!!\n",
      "charging!!!!!!\n"
     ]
    },
    {
     "name": "stderr",
     "output_type": "stream",
     "text": [
      "\r",
      " 60%|███████████████████████████████████████████████                                | 596/1000 [19:02<11:57,  1.78s/it]"
     ]
    },
    {
     "name": "stdout",
     "output_type": "stream",
     "text": [
      "self.get_collection_ratio(): 0.12039125691601318\n",
      "self.state.all_commed: True\n",
      "charging!!!!!!\n",
      "charging!!!!!!\n",
      "charging!!!!!!\n",
      "charging!!!!!!\n"
     ]
    },
    {
     "name": "stderr",
     "output_type": "stream",
     "text": [
      "\r",
      " 60%|███████████████████████████████████████████████▏                               | 597/1000 [19:04<12:10,  1.81s/it]"
     ]
    },
    {
     "name": "stdout",
     "output_type": "stream",
     "text": [
      "self.get_collection_ratio(): 0.181568944034887\n",
      "self.state.all_commed: True\n",
      "charging!!!!!!\n",
      "charging!!!!!!\n",
      "charging!!!!!!\n",
      "charging!!!!!!\n"
     ]
    },
    {
     "name": "stderr",
     "output_type": "stream",
     "text": [
      "\r",
      " 60%|███████████████████████████████████████████████▏                               | 598/1000 [19:06<12:16,  1.83s/it]"
     ]
    },
    {
     "name": "stdout",
     "output_type": "stream",
     "text": [
      "self.get_collection_ratio(): 0.1740894663262574\n",
      "self.state.all_commed: True\n",
      "charging!!!!!!\n",
      "charging!!!!!!\n",
      "charging!!!!!!\n",
      "charging!!!!!!\n"
     ]
    },
    {
     "name": "stderr",
     "output_type": "stream",
     "text": [
      "\r",
      " 60%|███████████████████████████████████████████████▎                               | 599/1000 [19:08<12:16,  1.84s/it]"
     ]
    },
    {
     "name": "stdout",
     "output_type": "stream",
     "text": [
      "self.get_collection_ratio(): 0.16859188841170394\n",
      "self.state.all_commed: True\n",
      "charging!!!!!!\n",
      "charging!!!!!!\n"
     ]
    },
    {
     "name": "stderr",
     "output_type": "stream",
     "text": [
      "\r",
      " 60%|███████████████████████████████████████████████▍                               | 600/1000 [19:09<11:14,  1.69s/it]"
     ]
    },
    {
     "name": "stdout",
     "output_type": "stream",
     "text": [
      "self.get_collection_ratio(): 0.11589161354837565\n",
      "self.state.all_commed: True\n",
      "charging!!!!!!\n",
      "charging!!!!!!\n",
      "charging!!!!!!\n",
      "charging!!!!!!\n"
     ]
    },
    {
     "name": "stderr",
     "output_type": "stream",
     "text": [
      "\r",
      " 60%|███████████████████████████████████████████████▍                               | 601/1000 [19:11<11:41,  1.76s/it]"
     ]
    },
    {
     "name": "stdout",
     "output_type": "stream",
     "text": [
      "self.get_collection_ratio(): 0.16168041426477084\n",
      "self.state.all_commed: True\n",
      "charging!!!!!!\n",
      "charging!!!!!!\n",
      "charging!!!!!!\n",
      "charging!!!!!!\n",
      "charging!!!!!!\n",
      "charging!!!!!!\n"
     ]
    },
    {
     "name": "stderr",
     "output_type": "stream",
     "text": [
      "\r",
      " 60%|███████████████████████████████████████████████▌                               | 602/1000 [19:13<12:52,  1.94s/it]"
     ]
    },
    {
     "name": "stdout",
     "output_type": "stream",
     "text": [
      "self.get_collection_ratio(): 0.21819693568661375\n",
      "self.state.all_commed: True\n",
      "charging!!!!!!\n",
      "charging!!!!!!\n"
     ]
    },
    {
     "name": "stderr",
     "output_type": "stream",
     "text": [
      "\r",
      " 60%|███████████████████████████████████████████████▋                               | 603/1000 [19:15<11:39,  1.76s/it]"
     ]
    },
    {
     "name": "stdout",
     "output_type": "stream",
     "text": [
      "self.get_collection_ratio(): 0.13074469238378708\n",
      "self.state.all_commed: True\n",
      "charging!!!!!!\n",
      "charging!!!!!!\n"
     ]
    },
    {
     "name": "stderr",
     "output_type": "stream",
     "text": [
      "\r",
      " 60%|███████████████████████████████████████████████▋                               | 604/1000 [19:16<10:40,  1.62s/it]"
     ]
    },
    {
     "name": "stdout",
     "output_type": "stream",
     "text": [
      "self.get_collection_ratio(): 0.10097551496268266\n",
      "self.state.all_commed: True\n",
      "charging!!!!!!\n",
      "charging!!!!!!\n",
      "charging!!!!!!\n",
      "charging!!!!!!\n",
      "charging!!!!!!\n",
      "charging!!!!!!\n"
     ]
    },
    {
     "name": "stderr",
     "output_type": "stream",
     "text": [
      "\r",
      " 60%|███████████████████████████████████████████████▊                               | 605/1000 [19:18<12:11,  1.85s/it]"
     ]
    },
    {
     "name": "stdout",
     "output_type": "stream",
     "text": [
      "self.get_collection_ratio(): 0.20117333853332403\n",
      "self.state.all_commed: True\n",
      "charging!!!!!!\n",
      "charging!!!!!!\n",
      "charging!!!!!!\n",
      "charging!!!!!!\n",
      "charging!!!!!!\n",
      "charging!!!!!!\n"
     ]
    },
    {
     "name": "stderr",
     "output_type": "stream",
     "text": [
      "\r",
      " 61%|███████████████████████████████████████████████▊                               | 606/1000 [19:21<13:15,  2.02s/it]"
     ]
    },
    {
     "name": "stdout",
     "output_type": "stream",
     "text": [
      "self.get_collection_ratio(): 0.17930772595748531\n",
      "self.state.all_commed: True\n",
      "charging!!!!!!\n",
      "charging!!!!!!\n",
      "charging!!!!!!\n",
      "charging!!!!!!\n",
      "charging!!!!!!\n",
      "charging!!!!!!\n"
     ]
    },
    {
     "name": "stderr",
     "output_type": "stream",
     "text": [
      "\r",
      " 61%|███████████████████████████████████████████████▉                               | 607/1000 [19:23<13:52,  2.12s/it]"
     ]
    },
    {
     "name": "stdout",
     "output_type": "stream",
     "text": [
      "self.get_collection_ratio(): 0.16013516326454716\n",
      "self.state.all_commed: True\n",
      "charging!!!!!!\n",
      "charging!!!!!!\n",
      "charging!!!!!!\n",
      "charging!!!!!!\n",
      "charging!!!!!!\n",
      "charging!!!!!!\n"
     ]
    },
    {
     "name": "stderr",
     "output_type": "stream",
     "text": [
      "\r",
      " 61%|████████████████████████████████████████████████                               | 608/1000 [19:26<14:34,  2.23s/it]"
     ]
    },
    {
     "name": "stdout",
     "output_type": "stream",
     "text": [
      "self.get_collection_ratio(): 0.18366881996974657\n",
      "self.state.all_commed: True\n",
      "charging!!!!!!\n",
      "charging!!!!!!\n",
      "charging!!!!!!\n",
      "charging!!!!!!\n"
     ]
    },
    {
     "name": "stderr",
     "output_type": "stream",
     "text": [
      "\r",
      " 61%|████████████████████████████████████████████████                               | 609/1000 [19:27<13:51,  2.13s/it]"
     ]
    },
    {
     "name": "stdout",
     "output_type": "stream",
     "text": [
      "self.get_collection_ratio(): 0.16240723306049826\n",
      "self.state.all_commed: True\n",
      "charging!!!!!!\n",
      "charging!!!!!!\n"
     ]
    },
    {
     "name": "stderr",
     "output_type": "stream",
     "text": [
      "\r",
      " 61%|████████████████████████████████████████████████▏                              | 610/1000 [19:29<12:23,  1.91s/it]"
     ]
    },
    {
     "name": "stdout",
     "output_type": "stream",
     "text": [
      "self.get_collection_ratio(): 0.09357960370730624\n",
      "self.state.all_commed: True\n",
      "charging!!!!!!\n",
      "charging!!!!!!\n"
     ]
    },
    {
     "name": "stderr",
     "output_type": "stream",
     "text": [
      "\r",
      " 61%|████████████████████████████████████████████████▎                              | 611/1000 [19:30<11:12,  1.73s/it]"
     ]
    },
    {
     "name": "stdout",
     "output_type": "stream",
     "text": [
      "self.get_collection_ratio(): 0.11047191229318548\n",
      "self.state.all_commed: True\n",
      "charging!!!!!!\n",
      "charging!!!!!!\n",
      "charging!!!!!!\n",
      "charging!!!!!!\n",
      "charging!!!!!!\n",
      "charging!!!!!!\n"
     ]
    },
    {
     "name": "stderr",
     "output_type": "stream",
     "text": [
      "\r",
      " 61%|████████████████████████████████████████████████▎                              | 612/1000 [19:33<12:33,  1.94s/it]"
     ]
    },
    {
     "name": "stdout",
     "output_type": "stream",
     "text": [
      "self.get_collection_ratio(): 0.1790980500854522\n",
      "self.state.all_commed: True\n",
      "charging!!!!!!\n",
      "charging!!!!!!\n",
      "charging!!!!!!\n",
      "charging!!!!!!\n",
      "charging!!!!!!\n",
      "charging!!!!!!\n"
     ]
    },
    {
     "name": "stderr",
     "output_type": "stream",
     "text": [
      "\r",
      " 61%|████████████████████████████████████████████████▍                              | 613/1000 [19:35<13:22,  2.07s/it]"
     ]
    },
    {
     "name": "stdout",
     "output_type": "stream",
     "text": [
      "self.get_collection_ratio(): 0.18296843211285543\n",
      "self.state.all_commed: True\n",
      "charging!!!!!!\n",
      "charging!!!!!!\n"
     ]
    },
    {
     "name": "stderr",
     "output_type": "stream",
     "text": [
      "\r",
      " 61%|████████████████████████████████████████████████▌                              | 614/1000 [19:36<11:46,  1.83s/it]"
     ]
    },
    {
     "name": "stdout",
     "output_type": "stream",
     "text": [
      "self.get_collection_ratio(): 0.0951160975455863\n",
      "self.state.all_commed: True\n",
      "charging!!!!!!\n",
      "charging!!!!!!\n",
      "charging!!!!!!\n",
      "charging!!!!!!\n",
      "charging!!!!!!\n",
      "charging!!!!!!\n"
     ]
    },
    {
     "name": "stderr",
     "output_type": "stream",
     "text": [
      "\r",
      " 62%|████████████████████████████████████████████████▌                              | 615/1000 [19:39<12:49,  2.00s/it]"
     ]
    },
    {
     "name": "stdout",
     "output_type": "stream",
     "text": [
      "self.get_collection_ratio(): 0.16859505444966696\n",
      "self.state.all_commed: True\n",
      "charging!!!!!!\n",
      "charging!!!!!!\n",
      "charging!!!!!!\n",
      "charging!!!!!!\n"
     ]
    },
    {
     "name": "stderr",
     "output_type": "stream",
     "text": [
      "\r",
      " 62%|████████████████████████████████████████████████▋                              | 616/1000 [19:40<12:28,  1.95s/it]"
     ]
    },
    {
     "name": "stdout",
     "output_type": "stream",
     "text": [
      "self.get_collection_ratio(): 0.11759954498442811\n",
      "self.state.all_commed: True\n",
      "charging!!!!!!\n",
      "charging!!!!!!\n",
      "charging!!!!!!\n",
      "charging!!!!!!\n"
     ]
    },
    {
     "name": "stderr",
     "output_type": "stream",
     "text": [
      "\r",
      " 62%|████████████████████████████████████████████████▋                              | 617/1000 [19:42<12:20,  1.93s/it]"
     ]
    },
    {
     "name": "stdout",
     "output_type": "stream",
     "text": [
      "self.get_collection_ratio(): 0.15251075905422334\n",
      "self.state.all_commed: True\n",
      "charging!!!!!!\n",
      "charging!!!!!!\n",
      "charging!!!!!!\n",
      "charging!!!!!!\n",
      "charging!!!!!!\n",
      "charging!!!!!!\n"
     ]
    },
    {
     "name": "stderr",
     "output_type": "stream",
     "text": [
      "\r",
      " 62%|████████████████████████████████████████████████▊                              | 618/1000 [19:45<13:07,  2.06s/it]"
     ]
    },
    {
     "name": "stdout",
     "output_type": "stream",
     "text": [
      "self.get_collection_ratio(): 0.1704136801562998\n",
      "self.state.all_commed: True\n",
      "charging!!!!!!\n",
      "charging!!!!!!\n",
      "empty battery!\n",
      "charging!!!!!!\n",
      "charging!!!!!!\n"
     ]
    },
    {
     "name": "stderr",
     "output_type": "stream",
     "text": [
      "\r",
      " 62%|████████████████████████████████████████████████▉                              | 619/1000 [19:47<13:14,  2.08s/it]"
     ]
    },
    {
     "name": "stdout",
     "output_type": "stream",
     "text": [
      "self.get_collection_ratio(): 0.2203666338555116\n",
      "self.state.all_commed: False\n",
      "charging!!!!!!\n",
      "charging!!!!!!\n",
      "charging!!!!!!\n",
      "charging!!!!!!\n",
      "charging!!!!!!\n",
      "charging!!!!!!\n"
     ]
    },
    {
     "name": "stderr",
     "output_type": "stream",
     "text": [
      "\r",
      " 62%|████████████████████████████████████████████████▉                              | 620/1000 [19:49<13:46,  2.18s/it]"
     ]
    },
    {
     "name": "stdout",
     "output_type": "stream",
     "text": [
      "self.get_collection_ratio(): 0.18591692638819934\n",
      "self.state.all_commed: True\n",
      "charging!!!!!!\n",
      "charging!!!!!!\n",
      "charging!!!!!!\n",
      "charging!!!!!!\n",
      "charging!!!!!!\n",
      "charging!!!!!!\n"
     ]
    },
    {
     "name": "stderr",
     "output_type": "stream",
     "text": [
      "\r",
      " 62%|█████████████████████████████████████████████████                              | 621/1000 [19:52<13:57,  2.21s/it]"
     ]
    },
    {
     "name": "stdout",
     "output_type": "stream",
     "text": [
      "self.get_collection_ratio(): 0.20118801167792863\n",
      "self.state.all_commed: True\n",
      "charging!!!!!!\n",
      "charging!!!!!!\n",
      "charging!!!!!!\n",
      "charging!!!!!!\n"
     ]
    },
    {
     "name": "stderr",
     "output_type": "stream",
     "text": [
      "\r",
      " 62%|█████████████████████████████████████████████████▏                             | 622/1000 [19:53<13:14,  2.10s/it]"
     ]
    },
    {
     "name": "stdout",
     "output_type": "stream",
     "text": [
      "self.get_collection_ratio(): 0.14807326052065936\n",
      "self.state.all_commed: True\n",
      "charging!!!!!!\n",
      "charging!!!!!!\n"
     ]
    },
    {
     "name": "stderr",
     "output_type": "stream",
     "text": [
      "\r",
      " 62%|█████████████████████████████████████████████████▏                             | 623/1000 [19:55<11:44,  1.87s/it]"
     ]
    },
    {
     "name": "stdout",
     "output_type": "stream",
     "text": [
      "self.get_collection_ratio(): 0.10110989535744172\n",
      "self.state.all_commed: True\n",
      "charging!!!!!!\n",
      "charging!!!!!!\n",
      "charging!!!!!!\n",
      "charging!!!!!!\n",
      "charging!!!!!!\n",
      "charging!!!!!!\n"
     ]
    },
    {
     "name": "stderr",
     "output_type": "stream",
     "text": [
      "\r",
      " 62%|█████████████████████████████████████████████████▎                             | 624/1000 [19:57<12:39,  2.02s/it]"
     ]
    },
    {
     "name": "stdout",
     "output_type": "stream",
     "text": [
      "self.get_collection_ratio(): 0.21044252544695977\n",
      "self.state.all_commed: True\n",
      "charging!!!!!!\n",
      "charging!!!!!!\n"
     ]
    },
    {
     "name": "stderr",
     "output_type": "stream",
     "text": [
      "\r",
      " 62%|█████████████████████████████████████████████████▍                             | 625/1000 [19:58<11:19,  1.81s/it]"
     ]
    },
    {
     "name": "stdout",
     "output_type": "stream",
     "text": [
      "self.get_collection_ratio(): 0.08865240328956002\n",
      "self.state.all_commed: True\n",
      "charging!!!!!!\n",
      "charging!!!!!!\n",
      "charging!!!!!!\n",
      "charging!!!!!!\n",
      "charging!!!!!!\n",
      "charging!!!!!!\n"
     ]
    },
    {
     "name": "stderr",
     "output_type": "stream",
     "text": [
      "\r",
      " 63%|█████████████████████████████████████████████████▍                             | 626/1000 [20:01<12:14,  1.96s/it]"
     ]
    },
    {
     "name": "stdout",
     "output_type": "stream",
     "text": [
      "self.get_collection_ratio(): 0.17901434739406694\n",
      "self.state.all_commed: True\n",
      "charging!!!!!!\n",
      "charging!!!!!!\n"
     ]
    },
    {
     "name": "stderr",
     "output_type": "stream",
     "text": [
      "\r",
      " 63%|█████████████████████████████████████████████████▌                             | 627/1000 [20:02<11:02,  1.78s/it]"
     ]
    },
    {
     "name": "stdout",
     "output_type": "stream",
     "text": [
      "self.get_collection_ratio(): 0.04675574675511437\n",
      "self.state.all_commed: True\n",
      "charging!!!!!!\n",
      "charging!!!!!!\n",
      "charging!!!!!!\n",
      "charging!!!!!!\n",
      "charging!!!!!!\n",
      "charging!!!!!!\n"
     ]
    },
    {
     "name": "stderr",
     "output_type": "stream",
     "text": [
      "\r",
      " 63%|█████████████████████████████████████████████████▌                             | 628/1000 [20:05<12:15,  1.98s/it]"
     ]
    },
    {
     "name": "stdout",
     "output_type": "stream",
     "text": [
      "self.get_collection_ratio(): 0.14217450153517133\n",
      "self.state.all_commed: True\n",
      "charging!!!!!!\n",
      "charging!!!!!!\n"
     ]
    },
    {
     "name": "stderr",
     "output_type": "stream",
     "text": [
      "\r",
      " 63%|█████████████████████████████████████████████████▋                             | 629/1000 [20:06<11:01,  1.78s/it]"
     ]
    },
    {
     "name": "stdout",
     "output_type": "stream",
     "text": [
      "self.get_collection_ratio(): 0.09867472671612862\n",
      "self.state.all_commed: True\n",
      "charging!!!!!!\n",
      "charging!!!!!!\n",
      "charging!!!!!!\n",
      "charging!!!!!!\n",
      "charging!!!!!!\n",
      "charging!!!!!!\n"
     ]
    },
    {
     "name": "stderr",
     "output_type": "stream",
     "text": [
      "\r",
      " 63%|█████████████████████████████████████████████████▊                             | 630/1000 [20:08<11:59,  1.94s/it]"
     ]
    },
    {
     "name": "stdout",
     "output_type": "stream",
     "text": [
      "self.get_collection_ratio(): 0.20443255698088594\n",
      "self.state.all_commed: True\n",
      "charging!!!!!!\n",
      "charging!!!!!!\n"
     ]
    },
    {
     "name": "stderr",
     "output_type": "stream",
     "text": [
      "\r",
      " 63%|█████████████████████████████████████████████████▊                             | 631/1000 [20:10<10:51,  1.77s/it]"
     ]
    },
    {
     "name": "stdout",
     "output_type": "stream",
     "text": [
      "self.get_collection_ratio(): 0.1045628288057931\n",
      "self.state.all_commed: True\n",
      "charging!!!!!!\n",
      "charging!!!!!!\n"
     ]
    },
    {
     "name": "stderr",
     "output_type": "stream",
     "text": [
      "\r",
      " 63%|█████████████████████████████████████████████████▉                             | 632/1000 [20:11<09:56,  1.62s/it]"
     ]
    },
    {
     "name": "stdout",
     "output_type": "stream",
     "text": [
      "self.get_collection_ratio(): 0.08868129741698638\n",
      "self.state.all_commed: True\n",
      "charging!!!!!!\n",
      "charging!!!!!!\n",
      "charging!!!!!!\n",
      "charging!!!!!!\n",
      "charging!!!!!!\n",
      "charging!!!!!!\n"
     ]
    },
    {
     "name": "stderr",
     "output_type": "stream",
     "text": [
      "\r",
      " 63%|██████████████████████████████████████████████████                             | 633/1000 [20:13<11:13,  1.84s/it]"
     ]
    },
    {
     "name": "stdout",
     "output_type": "stream",
     "text": [
      "self.get_collection_ratio(): 0.1569667474900576\n",
      "self.state.all_commed: True\n",
      "charging!!!!!!\n",
      "charging!!!!!!\n",
      "charging!!!!!!\n",
      "charging!!!!!!\n"
     ]
    },
    {
     "name": "stderr",
     "output_type": "stream",
     "text": [
      "\r",
      " 63%|██████████████████████████████████████████████████                             | 634/1000 [20:15<11:20,  1.86s/it]"
     ]
    },
    {
     "name": "stdout",
     "output_type": "stream",
     "text": [
      "self.get_collection_ratio(): 0.15101782673142847\n",
      "self.state.all_commed: True\n",
      "charging!!!!!!\n",
      "charging!!!!!!\n",
      "charging!!!!!!\n",
      "charging!!!!!!\n",
      "charging!!!!!!\n",
      "charging!!!!!!\n"
     ]
    },
    {
     "name": "stderr",
     "output_type": "stream",
     "text": [
      "\r",
      " 64%|██████████████████████████████████████████████████▏                            | 635/1000 [20:17<12:17,  2.02s/it]"
     ]
    },
    {
     "name": "stdout",
     "output_type": "stream",
     "text": [
      "self.get_collection_ratio(): 0.18059561697371035\n",
      "self.state.all_commed: True\n",
      "charging!!!!!!\n",
      "charging!!!!!!\n",
      "charging!!!!!!\n",
      "charging!!!!!!\n"
     ]
    },
    {
     "name": "stderr",
     "output_type": "stream",
     "text": [
      "\r",
      " 64%|██████████████████████████████████████████████████▏                            | 636/1000 [20:19<11:55,  1.96s/it]"
     ]
    },
    {
     "name": "stdout",
     "output_type": "stream",
     "text": [
      "self.get_collection_ratio(): 0.16878429193387523\n",
      "self.state.all_commed: True\n",
      "charging!!!!!!\n",
      "charging!!!!!!\n",
      "charging!!!!!!\n",
      "charging!!!!!!\n",
      "charging!!!!!!\n",
      "charging!!!!!!\n"
     ]
    },
    {
     "name": "stderr",
     "output_type": "stream",
     "text": [
      "\r",
      " 64%|██████████████████████████████████████████████████▎                            | 637/1000 [20:22<12:34,  2.08s/it]"
     ]
    },
    {
     "name": "stdout",
     "output_type": "stream",
     "text": [
      "self.get_collection_ratio(): 0.2088299309121534\n",
      "self.state.all_commed: True\n",
      "charging!!!!!!\n",
      "charging!!!!!!\n"
     ]
    },
    {
     "name": "stderr",
     "output_type": "stream",
     "text": [
      "\r",
      " 64%|██████████████████████████████████████████████████▍                            | 638/1000 [20:23<11:13,  1.86s/it]"
     ]
    },
    {
     "name": "stdout",
     "output_type": "stream",
     "text": [
      "self.get_collection_ratio(): 0.0868605534785822\n",
      "self.state.all_commed: True\n",
      "charging!!!!!!\n",
      "charging!!!!!!\n",
      "charging!!!!!!\n",
      "charging!!!!!!\n"
     ]
    },
    {
     "name": "stderr",
     "output_type": "stream",
     "text": [
      "\r",
      " 64%|██████████████████████████████████████████████████▍                            | 639/1000 [20:25<11:02,  1.84s/it]"
     ]
    },
    {
     "name": "stdout",
     "output_type": "stream",
     "text": [
      "self.get_collection_ratio(): 0.16101725216772347\n",
      "self.state.all_commed: True\n",
      "charging!!!!!!\n",
      "charging!!!!!!\n",
      "charging!!!!!!\n",
      "charging!!!!!!\n",
      "charging!!!!!!\n",
      "charging!!!!!!\n"
     ]
    },
    {
     "name": "stderr",
     "output_type": "stream",
     "text": [
      "\r",
      " 64%|██████████████████████████████████████████████████▌                            | 640/1000 [20:27<11:56,  1.99s/it]"
     ]
    },
    {
     "name": "stdout",
     "output_type": "stream",
     "text": [
      "self.get_collection_ratio(): 0.21248247130899983\n",
      "self.state.all_commed: True\n",
      "charging!!!!!!\n",
      "charging!!!!!!\n",
      "charging!!!!!!\n",
      "charging!!!!!!\n",
      "charging!!!!!!\n",
      "charging!!!!!!\n"
     ]
    },
    {
     "name": "stderr",
     "output_type": "stream",
     "text": [
      "\r",
      " 64%|██████████████████████████████████████████████████▋                            | 641/1000 [20:30<12:42,  2.13s/it]"
     ]
    },
    {
     "name": "stdout",
     "output_type": "stream",
     "text": [
      "self.get_collection_ratio(): 0.21027560186466346\n",
      "self.state.all_commed: True\n",
      "charging!!!!!!\n",
      "charging!!!!!!\n",
      "charging!!!!!!\n",
      "charging!!!!!!\n"
     ]
    },
    {
     "name": "stderr",
     "output_type": "stream",
     "text": [
      "\r",
      " 64%|██████████████████████████████████████████████████▋                            | 642/1000 [20:31<12:09,  2.04s/it]"
     ]
    },
    {
     "name": "stdout",
     "output_type": "stream",
     "text": [
      "self.get_collection_ratio(): 0.1450447321299091\n",
      "self.state.all_commed: True\n",
      "charging!!!!!!\n",
      "charging!!!!!!\n"
     ]
    },
    {
     "name": "stderr",
     "output_type": "stream",
     "text": [
      "\r",
      " 64%|██████████████████████████████████████████████████▊                            | 643/1000 [20:33<10:50,  1.82s/it]"
     ]
    },
    {
     "name": "stdout",
     "output_type": "stream",
     "text": [
      "self.get_collection_ratio(): 0.09313352080897747\n",
      "self.state.all_commed: True\n",
      "charging!!!!!!\n",
      "charging!!!!!!\n",
      "charging!!!!!!\n",
      "charging!!!!!!\n",
      "charging!!!!!!\n",
      "charging!!!!!!\n"
     ]
    },
    {
     "name": "stderr",
     "output_type": "stream",
     "text": [
      "\r",
      " 64%|██████████████████████████████████████████████████▉                            | 644/1000 [20:35<11:47,  1.99s/it]"
     ]
    },
    {
     "name": "stdout",
     "output_type": "stream",
     "text": [
      "self.get_collection_ratio(): 0.1756601353429947\n",
      "self.state.all_commed: True\n",
      "charging!!!!!!\n",
      "charging!!!!!!\n",
      "charging!!!!!!\n",
      "charging!!!!!!\n"
     ]
    },
    {
     "name": "stderr",
     "output_type": "stream",
     "text": [
      "\r",
      " 64%|██████████████████████████████████████████████████▉                            | 645/1000 [20:37<11:28,  1.94s/it]"
     ]
    },
    {
     "name": "stdout",
     "output_type": "stream",
     "text": [
      "self.get_collection_ratio(): 0.17571801978060905\n",
      "self.state.all_commed: True\n",
      "charging!!!!!!\n",
      "charging!!!!!!\n",
      "charging!!!!!!\n",
      "charging!!!!!!\n"
     ]
    },
    {
     "name": "stderr",
     "output_type": "stream",
     "text": [
      "\r",
      " 65%|███████████████████████████████████████████████████                            | 646/1000 [20:39<11:15,  1.91s/it]"
     ]
    },
    {
     "name": "stdout",
     "output_type": "stream",
     "text": [
      "self.get_collection_ratio(): 0.1626637145032162\n",
      "self.state.all_commed: True\n",
      "charging!!!!!!\n",
      "charging!!!!!!\n",
      "charging!!!!!!\n",
      "charging!!!!!!\n",
      "charging!!!!!!\n",
      "charging!!!!!!\n"
     ]
    },
    {
     "name": "stderr",
     "output_type": "stream",
     "text": [
      "\r",
      " 65%|███████████████████████████████████████████████████                            | 647/1000 [20:41<12:05,  2.06s/it]"
     ]
    },
    {
     "name": "stdout",
     "output_type": "stream",
     "text": [
      "self.get_collection_ratio(): 0.19225675632153427\n",
      "self.state.all_commed: True\n",
      "charging!!!!!!\n",
      "charging!!!!!!\n",
      "charging!!!!!!\n",
      "charging!!!!!!\n"
     ]
    },
    {
     "name": "stderr",
     "output_type": "stream",
     "text": [
      "\r",
      " 65%|███████████████████████████████████████████████████▏                           | 648/1000 [20:43<11:39,  1.99s/it]"
     ]
    },
    {
     "name": "stdout",
     "output_type": "stream",
     "text": [
      "self.get_collection_ratio(): 0.14946897565543493\n",
      "self.state.all_commed: True\n",
      "charging!!!!!!\n",
      "charging!!!!!!\n",
      "charging!!!!!!\n",
      "charging!!!!!!\n"
     ]
    },
    {
     "name": "stderr",
     "output_type": "stream",
     "text": [
      "\r",
      " 65%|███████████████████████████████████████████████████▎                           | 649/1000 [20:45<11:24,  1.95s/it]"
     ]
    },
    {
     "name": "stdout",
     "output_type": "stream",
     "text": [
      "self.get_collection_ratio(): 0.1378066469093786\n",
      "self.state.all_commed: True\n",
      "charging!!!!!!\n",
      "charging!!!!!!\n",
      "charging!!!!!!\n",
      "charging!!!!!!\n"
     ]
    },
    {
     "name": "stderr",
     "output_type": "stream",
     "text": [
      "\r",
      " 65%|███████████████████████████████████████████████████▎                           | 650/1000 [20:47<11:06,  1.91s/it]"
     ]
    },
    {
     "name": "stdout",
     "output_type": "stream",
     "text": [
      "self.get_collection_ratio(): 0.17797318650208502\n",
      "self.state.all_commed: True\n",
      "charging!!!!!!\n",
      "charging!!!!!!\n"
     ]
    },
    {
     "name": "stderr",
     "output_type": "stream",
     "text": [
      "\r",
      " 65%|███████████████████████████████████████████████████▍                           | 651/1000 [20:48<10:11,  1.75s/it]"
     ]
    },
    {
     "name": "stdout",
     "output_type": "stream",
     "text": [
      "self.get_collection_ratio(): 0.0959455206377251\n",
      "self.state.all_commed: True\n",
      "charging!!!!!!\n",
      "charging!!!!!!\n",
      "charging!!!!!!\n",
      "charging!!!!!!\n"
     ]
    },
    {
     "name": "stderr",
     "output_type": "stream",
     "text": [
      "\r",
      " 65%|███████████████████████████████████████████████████▌                           | 652/1000 [20:50<10:30,  1.81s/it]"
     ]
    },
    {
     "name": "stdout",
     "output_type": "stream",
     "text": [
      "self.get_collection_ratio(): 0.16293737299664324\n",
      "self.state.all_commed: True\n",
      "charging!!!!!!\n",
      "charging!!!!!!\n"
     ]
    },
    {
     "name": "stderr",
     "output_type": "stream",
     "text": [
      "\r",
      " 65%|███████████████████████████████████████████████████▌                           | 653/1000 [20:51<09:55,  1.72s/it]"
     ]
    },
    {
     "name": "stdout",
     "output_type": "stream",
     "text": [
      "self.get_collection_ratio(): 0.09368348003899349\n",
      "self.state.all_commed: True\n",
      "charging!!!!!!\n",
      "charging!!!!!!\n",
      "charging!!!!!!\n",
      "charging!!!!!!\n",
      "charging!!!!!!\n",
      "charging!!!!!!\n"
     ]
    },
    {
     "name": "stderr",
     "output_type": "stream",
     "text": [
      "\r",
      " 65%|███████████████████████████████████████████████████▋                           | 654/1000 [20:54<11:06,  1.92s/it]"
     ]
    },
    {
     "name": "stdout",
     "output_type": "stream",
     "text": [
      "self.get_collection_ratio(): 0.21562393634975682\n",
      "self.state.all_commed: True\n",
      "charging!!!!!!\n",
      "charging!!!!!!\n"
     ]
    },
    {
     "name": "stderr",
     "output_type": "stream",
     "text": [
      "\r",
      " 66%|███████████████████████████████████████████████████▋                           | 655/1000 [20:55<10:13,  1.78s/it]"
     ]
    },
    {
     "name": "stdout",
     "output_type": "stream",
     "text": [
      "self.get_collection_ratio(): 0.09094484758828045\n",
      "self.state.all_commed: True\n",
      "charging!!!!!!\n",
      "charging!!!!!!\n",
      "charging!!!!!!\n",
      "charging!!!!!!\n"
     ]
    },
    {
     "name": "stderr",
     "output_type": "stream",
     "text": [
      "\r",
      " 66%|███████████████████████████████████████████████████▊                           | 656/1000 [20:57<10:32,  1.84s/it]"
     ]
    },
    {
     "name": "stdout",
     "output_type": "stream",
     "text": [
      "self.get_collection_ratio(): 0.1498864522873121\n",
      "self.state.all_commed: True\n",
      "charging!!!!!!\n",
      "charging!!!!!!\n",
      "charging!!!!!!\n",
      "charging!!!!!!\n"
     ]
    },
    {
     "name": "stderr",
     "output_type": "stream",
     "text": [
      "\r",
      " 66%|███████████████████████████████████████████████████▉                           | 657/1000 [20:59<10:51,  1.90s/it]"
     ]
    },
    {
     "name": "stdout",
     "output_type": "stream",
     "text": [
      "self.get_collection_ratio(): 0.1829031269718185\n",
      "self.state.all_commed: True\n",
      "charging!!!!!!\n",
      "charging!!!!!!\n"
     ]
    },
    {
     "name": "stderr",
     "output_type": "stream",
     "text": [
      "\r",
      " 66%|███████████████████████████████████████████████████▉                           | 658/1000 [21:01<10:10,  1.79s/it]"
     ]
    },
    {
     "name": "stdout",
     "output_type": "stream",
     "text": [
      "self.get_collection_ratio(): 0.0907590893285322\n",
      "self.state.all_commed: True\n",
      "charging!!!!!!\n",
      "charging!!!!!!\n",
      "charging!!!!!!\n",
      "charging!!!!!!\n"
     ]
    },
    {
     "name": "stderr",
     "output_type": "stream",
     "text": [
      "\r",
      " 66%|████████████████████████████████████████████████████                           | 659/1000 [21:09<21:17,  3.75s/it]"
     ]
    },
    {
     "name": "stdout",
     "output_type": "stream",
     "text": [
      "self.get_collection_ratio(): 0.14411836663429858\n",
      "self.state.all_commed: True\n",
      "charging!!!!!!\n",
      "charging!!!!!!\n",
      "charging!!!!!!\n",
      "charging!!!!!!\n",
      "charging!!!!!!\n",
      "charging!!!!!!\n"
     ]
    },
    {
     "name": "stderr",
     "output_type": "stream",
     "text": [
      "\r",
      " 66%|████████████████████████████████████████████████████▏                          | 660/1000 [21:12<18:58,  3.35s/it]"
     ]
    },
    {
     "name": "stdout",
     "output_type": "stream",
     "text": [
      "self.get_collection_ratio(): 0.1928397466086875\n",
      "self.state.all_commed: True\n",
      "charging!!!!!!\n",
      "charging!!!!!!\n"
     ]
    },
    {
     "name": "stderr",
     "output_type": "stream",
     "text": [
      "\r",
      " 66%|████████████████████████████████████████████████████▏                          | 661/1000 [21:13<15:34,  2.76s/it]"
     ]
    },
    {
     "name": "stdout",
     "output_type": "stream",
     "text": [
      "self.get_collection_ratio(): 0.0851745194856533\n",
      "self.state.all_commed: True\n",
      "charging!!!!!!\n",
      "charging!!!!!!\n"
     ]
    },
    {
     "name": "stderr",
     "output_type": "stream",
     "text": [
      "\r",
      " 66%|████████████████████████████████████████████████████▎                          | 662/1000 [21:14<13:16,  2.36s/it]"
     ]
    },
    {
     "name": "stdout",
     "output_type": "stream",
     "text": [
      "self.get_collection_ratio(): 0.07867334642690985\n",
      "self.state.all_commed: True\n",
      "charging!!!!!!\n",
      "charging!!!!!!\n"
     ]
    },
    {
     "name": "stderr",
     "output_type": "stream",
     "text": [
      "\r",
      " 66%|████████████████████████████████████████████████████▍                          | 663/1000 [21:16<11:35,  2.06s/it]"
     ]
    },
    {
     "name": "stdout",
     "output_type": "stream",
     "text": [
      "self.get_collection_ratio(): 0.09431855886020105\n",
      "self.state.all_commed: True\n",
      "charging!!!!!!\n",
      "charging!!!!!!\n",
      "charging!!!!!!\n",
      "charging!!!!!!\n",
      "charging!!!!!!\n",
      "charging!!!!!!\n"
     ]
    },
    {
     "name": "stderr",
     "output_type": "stream",
     "text": [
      "\r",
      " 66%|████████████████████████████████████████████████████▍                          | 664/1000 [21:18<12:12,  2.18s/it]"
     ]
    },
    {
     "name": "stdout",
     "output_type": "stream",
     "text": [
      "self.get_collection_ratio(): 0.20666725855813756\n",
      "self.state.all_commed: True\n",
      "charging!!!!!!\n",
      "charging!!!!!!\n"
     ]
    },
    {
     "name": "stderr",
     "output_type": "stream",
     "text": [
      "\r",
      " 66%|████████████████████████████████████████████████████▌                          | 665/1000 [21:20<10:53,  1.95s/it]"
     ]
    },
    {
     "name": "stdout",
     "output_type": "stream",
     "text": [
      "self.get_collection_ratio(): 0.1175504394695551\n",
      "self.state.all_commed: True\n",
      "charging!!!!!!\n",
      "charging!!!!!!\n",
      "charging!!!!!!\n",
      "charging!!!!!!\n",
      "charging!!!!!!\n",
      "charging!!!!!!\n"
     ]
    },
    {
     "name": "stderr",
     "output_type": "stream",
     "text": [
      "\r",
      " 67%|████████████████████████████████████████████████████▌                          | 666/1000 [21:22<11:36,  2.09s/it]"
     ]
    },
    {
     "name": "stdout",
     "output_type": "stream",
     "text": [
      "self.get_collection_ratio(): 0.19859883019813457\n",
      "self.state.all_commed: True\n",
      "charging!!!!!!\n",
      "charging!!!!!!\n",
      "charging!!!!!!\n",
      "charging!!!!!!\n",
      "charging!!!!!!\n",
      "charging!!!!!!\n"
     ]
    },
    {
     "name": "stderr",
     "output_type": "stream",
     "text": [
      "\r",
      " 67%|████████████████████████████████████████████████████▋                          | 667/1000 [21:24<12:06,  2.18s/it]"
     ]
    },
    {
     "name": "stdout",
     "output_type": "stream",
     "text": [
      "self.get_collection_ratio(): 0.20714813585178046\n",
      "self.state.all_commed: True\n",
      "charging!!!!!!\n",
      "charging!!!!!!\n",
      "charging!!!!!!\n",
      "charging!!!!!!\n",
      "charging!!!!!!\n",
      "charging!!!!!!\n"
     ]
    },
    {
     "name": "stderr",
     "output_type": "stream",
     "text": [
      "\r",
      " 67%|████████████████████████████████████████████████████▊                          | 668/1000 [21:27<12:22,  2.24s/it]"
     ]
    },
    {
     "name": "stdout",
     "output_type": "stream",
     "text": [
      "self.get_collection_ratio(): 0.17148735499276047\n",
      "self.state.all_commed: True\n",
      "charging!!!!!!\n",
      "charging!!!!!!\n",
      "charging!!!!!!\n",
      "charging!!!!!!\n"
     ]
    },
    {
     "name": "stderr",
     "output_type": "stream",
     "text": [
      "\r",
      " 67%|████████████████████████████████████████████████████▊                          | 669/1000 [21:29<11:42,  2.12s/it]"
     ]
    },
    {
     "name": "stdout",
     "output_type": "stream",
     "text": [
      "self.get_collection_ratio(): 0.14359030465136205\n",
      "self.state.all_commed: True\n",
      "charging!!!!!!\n",
      "charging!!!!!!\n",
      "charging!!!!!!\n",
      "charging!!!!!!\n"
     ]
    },
    {
     "name": "stderr",
     "output_type": "stream",
     "text": [
      "\r",
      " 67%|████████████████████████████████████████████████████▉                          | 670/1000 [21:31<11:17,  2.05s/it]"
     ]
    },
    {
     "name": "stdout",
     "output_type": "stream",
     "text": [
      "self.get_collection_ratio(): 0.13213925354126083\n",
      "self.state.all_commed: True\n",
      "charging!!!!!!\n",
      "charging!!!!!!\n",
      "charging!!!!!!\n",
      "charging!!!!!!\n",
      "charging!!!!!!\n",
      "charging!!!!!!\n"
     ]
    },
    {
     "name": "stderr",
     "output_type": "stream",
     "text": [
      "\r",
      " 67%|█████████████████████████████████████████████████████                          | 671/1000 [21:33<11:48,  2.15s/it]"
     ]
    },
    {
     "name": "stdout",
     "output_type": "stream",
     "text": [
      "self.get_collection_ratio(): 0.18453419874931173\n",
      "self.state.all_commed: True\n",
      "charging!!!!!!\n",
      "charging!!!!!!\n",
      "charging!!!!!!\n",
      "charging!!!!!!\n"
     ]
    },
    {
     "name": "stderr",
     "output_type": "stream",
     "text": [
      "\r",
      " 67%|█████████████████████████████████████████████████████                          | 672/1000 [21:35<11:24,  2.09s/it]"
     ]
    },
    {
     "name": "stdout",
     "output_type": "stream",
     "text": [
      "self.get_collection_ratio(): 0.1108052469130013\n",
      "self.state.all_commed: True\n",
      "charging!!!!!!\n",
      "charging!!!!!!\n",
      "charging!!!!!!\n",
      "charging!!!!!!\n"
     ]
    },
    {
     "name": "stderr",
     "output_type": "stream",
     "text": [
      "\r",
      " 67%|█████████████████████████████████████████████████████▏                         | 673/1000 [21:37<11:05,  2.04s/it]"
     ]
    },
    {
     "name": "stdout",
     "output_type": "stream",
     "text": [
      "self.get_collection_ratio(): 0.11698073418909662\n",
      "self.state.all_commed: True\n",
      "charging!!!!!!\n",
      "charging!!!!!!\n"
     ]
    },
    {
     "name": "stderr",
     "output_type": "stream",
     "text": [
      "\r",
      " 67%|█████████████████████████████████████████████████████▏                         | 674/1000 [21:38<09:58,  1.84s/it]"
     ]
    },
    {
     "name": "stdout",
     "output_type": "stream",
     "text": [
      "self.get_collection_ratio(): 0.11051587521549648\n",
      "self.state.all_commed: True\n",
      "charging!!!!!!\n",
      "charging!!!!!!\n"
     ]
    },
    {
     "name": "stderr",
     "output_type": "stream",
     "text": [
      "\r",
      " 68%|█████████████████████████████████████████████████████▎                         | 675/1000 [21:39<09:04,  1.68s/it]"
     ]
    },
    {
     "name": "stdout",
     "output_type": "stream",
     "text": [
      "self.get_collection_ratio(): 0.0829994614935482\n",
      "self.state.all_commed: True\n",
      "charging!!!!!!\n",
      "charging!!!!!!\n",
      "charging!!!!!!\n",
      "charging!!!!!!\n"
     ]
    },
    {
     "name": "stderr",
     "output_type": "stream",
     "text": [
      "\r",
      " 68%|█████████████████████████████████████████████████████▍                         | 676/1000 [21:41<09:27,  1.75s/it]"
     ]
    },
    {
     "name": "stdout",
     "output_type": "stream",
     "text": [
      "self.get_collection_ratio(): 0.1536870425564188\n",
      "self.state.all_commed: True\n",
      "charging!!!!!!\n",
      "charging!!!!!!\n"
     ]
    },
    {
     "name": "stderr",
     "output_type": "stream",
     "text": [
      "\r",
      " 68%|█████████████████████████████████████████████████████▍                         | 677/1000 [21:43<08:49,  1.64s/it]"
     ]
    },
    {
     "name": "stdout",
     "output_type": "stream",
     "text": [
      "self.get_collection_ratio(): 0.0994582343369825\n",
      "self.state.all_commed: True\n",
      "charging!!!!!!\n",
      "charging!!!!!!\n",
      "charging!!!!!!\n",
      "charging!!!!!!\n"
     ]
    },
    {
     "name": "stderr",
     "output_type": "stream",
     "text": [
      "\r",
      " 68%|█████████████████████████████████████████████████████▌                         | 678/1000 [21:45<09:06,  1.70s/it]"
     ]
    },
    {
     "name": "stdout",
     "output_type": "stream",
     "text": [
      "self.get_collection_ratio(): 0.14782340500980976\n",
      "self.state.all_commed: True\n",
      "charging!!!!!!\n",
      "charging!!!!!!\n",
      "charging!!!!!!\n",
      "charging!!!!!!\n",
      "charging!!!!!!\n",
      "charging!!!!!!\n"
     ]
    },
    {
     "name": "stderr",
     "output_type": "stream",
     "text": [
      "\r",
      " 68%|█████████████████████████████████████████████████████▋                         | 679/1000 [21:47<10:14,  1.92s/it]"
     ]
    },
    {
     "name": "stdout",
     "output_type": "stream",
     "text": [
      "self.get_collection_ratio(): 0.20995416212594903\n",
      "self.state.all_commed: True\n",
      "charging!!!!!!\n",
      "charging!!!!!!\n",
      "charging!!!!!!\n",
      "charging!!!!!!\n"
     ]
    },
    {
     "name": "stderr",
     "output_type": "stream",
     "text": [
      "\r",
      " 68%|█████████████████████████████████████████████████████▋                         | 680/1000 [21:49<10:19,  1.94s/it]"
     ]
    },
    {
     "name": "stdout",
     "output_type": "stream",
     "text": [
      "self.get_collection_ratio(): 0.14662875060853922\n",
      "self.state.all_commed: True\n",
      "charging!!!!!!\n",
      "charging!!!!!!\n",
      "charging!!!!!!\n",
      "charging!!!!!!\n",
      "charging!!!!!!\n",
      "charging!!!!!!\n"
     ]
    },
    {
     "name": "stderr",
     "output_type": "stream",
     "text": [
      "\r",
      " 68%|█████████████████████████████████████████████████████▊                         | 681/1000 [21:52<11:10,  2.10s/it]"
     ]
    },
    {
     "name": "stdout",
     "output_type": "stream",
     "text": [
      "self.get_collection_ratio(): 0.20936753850988432\n",
      "self.state.all_commed: True\n",
      "charging!!!!!!\n",
      "charging!!!!!!\n"
     ]
    },
    {
     "name": "stderr",
     "output_type": "stream",
     "text": [
      "\r",
      " 68%|█████████████████████████████████████████████████████▉                         | 682/1000 [21:53<10:00,  1.89s/it]"
     ]
    },
    {
     "name": "stdout",
     "output_type": "stream",
     "text": [
      "self.get_collection_ratio(): 0.14427315236233473\n",
      "self.state.all_commed: True\n",
      "charging!!!!!!\n",
      "charging!!!!!!\n",
      "charging!!!!!!\n",
      "charging!!!!!!\n",
      "charging!!!!!!\n",
      "charging!!!!!!\n"
     ]
    },
    {
     "name": "stderr",
     "output_type": "stream",
     "text": [
      "\r",
      " 68%|█████████████████████████████████████████████████████▉                         | 683/1000 [21:55<10:43,  2.03s/it]"
     ]
    },
    {
     "name": "stdout",
     "output_type": "stream",
     "text": [
      "self.get_collection_ratio(): 0.2006385276825916\n",
      "self.state.all_commed: True\n",
      "charging!!!!!!\n",
      "charging!!!!!!\n",
      "charging!!!!!!\n",
      "charging!!!!!!\n",
      "charging!!!!!!\n",
      "charging!!!!!!\n"
     ]
    },
    {
     "name": "stderr",
     "output_type": "stream",
     "text": [
      "\r",
      " 68%|██████████████████████████████████████████████████████                         | 684/1000 [21:58<11:16,  2.14s/it]"
     ]
    },
    {
     "name": "stdout",
     "output_type": "stream",
     "text": [
      "self.get_collection_ratio(): 0.19928515640691893\n",
      "self.state.all_commed: True\n",
      "charging!!!!!!\n",
      "charging!!!!!!\n"
     ]
    },
    {
     "name": "stderr",
     "output_type": "stream",
     "text": [
      "\r",
      " 68%|██████████████████████████████████████████████████████                         | 685/1000 [21:59<10:00,  1.91s/it]"
     ]
    },
    {
     "name": "stdout",
     "output_type": "stream",
     "text": [
      "self.get_collection_ratio(): 0.0990789984917093\n",
      "self.state.all_commed: True\n",
      "charging!!!!!!\n",
      "charging!!!!!!\n"
     ]
    },
    {
     "name": "stderr",
     "output_type": "stream",
     "text": [
      "\r",
      " 69%|██████████████████████████████████████████████████████▏                        | 686/1000 [22:00<09:03,  1.73s/it]"
     ]
    },
    {
     "name": "stdout",
     "output_type": "stream",
     "text": [
      "self.get_collection_ratio(): 0.11353411586632951\n",
      "self.state.all_commed: True\n",
      "charging!!!!!!\n",
      "charging!!!!!!\n"
     ]
    },
    {
     "name": "stderr",
     "output_type": "stream",
     "text": [
      "\r",
      " 69%|██████████████████████████████████████████████████████▎                        | 687/1000 [22:02<08:29,  1.63s/it]"
     ]
    },
    {
     "name": "stdout",
     "output_type": "stream",
     "text": [
      "self.get_collection_ratio(): 0.07531928513333164\n",
      "self.state.all_commed: True\n",
      "charging!!!!!!\n",
      "charging!!!!!!\n",
      "charging!!!!!!\n",
      "charging!!!!!!\n"
     ]
    },
    {
     "name": "stderr",
     "output_type": "stream",
     "text": [
      "\r",
      " 69%|██████████████████████████████████████████████████████▎                        | 688/1000 [22:04<08:58,  1.72s/it]"
     ]
    },
    {
     "name": "stdout",
     "output_type": "stream",
     "text": [
      "self.get_collection_ratio(): 0.11942485166039918\n",
      "self.state.all_commed: True\n",
      "charging!!!!!!\n",
      "charging!!!!!!\n",
      "charging!!!!!!\n",
      "charging!!!!!!\n"
     ]
    },
    {
     "name": "stderr",
     "output_type": "stream",
     "text": [
      "\r",
      " 69%|██████████████████████████████████████████████████████▍                        | 689/1000 [22:06<09:14,  1.78s/it]"
     ]
    },
    {
     "name": "stdout",
     "output_type": "stream",
     "text": [
      "self.get_collection_ratio(): 0.16791628656007754\n",
      "self.state.all_commed: True\n",
      "charging!!!!!!\n",
      "charging!!!!!!\n",
      "charging!!!!!!\n",
      "charging!!!!!!\n"
     ]
    },
    {
     "name": "stderr",
     "output_type": "stream",
     "text": [
      "\r",
      " 69%|██████████████████████████████████████████████████████▌                        | 690/1000 [22:08<09:24,  1.82s/it]"
     ]
    },
    {
     "name": "stdout",
     "output_type": "stream",
     "text": [
      "self.get_collection_ratio(): 0.18361048295973303\n",
      "self.state.all_commed: True\n",
      "charging!!!!!!\n",
      "charging!!!!!!\n",
      "charging!!!!!!\n",
      "charging!!!!!!\n",
      "charging!!!!!!\n",
      "charging!!!!!!\n"
     ]
    },
    {
     "name": "stderr",
     "output_type": "stream",
     "text": [
      "\r",
      " 69%|██████████████████████████████████████████████████████▌                        | 691/1000 [22:10<10:21,  2.01s/it]"
     ]
    },
    {
     "name": "stdout",
     "output_type": "stream",
     "text": [
      "self.get_collection_ratio(): 0.1937208291902746\n",
      "self.state.all_commed: True\n",
      "charging!!!!!!\n",
      "charging!!!!!!\n",
      "charging!!!!!!\n",
      "charging!!!!!!\n",
      "charging!!!!!!\n",
      "charging!!!!!!\n"
     ]
    },
    {
     "name": "stderr",
     "output_type": "stream",
     "text": [
      "\r",
      " 69%|██████████████████████████████████████████████████████▋                        | 692/1000 [22:12<10:52,  2.12s/it]"
     ]
    },
    {
     "name": "stdout",
     "output_type": "stream",
     "text": [
      "self.get_collection_ratio(): 0.19131476973693243\n",
      "self.state.all_commed: True\n",
      "charging!!!!!!\n",
      "charging!!!!!!\n"
     ]
    },
    {
     "name": "stderr",
     "output_type": "stream",
     "text": [
      "\r",
      " 69%|██████████████████████████████████████████████████████▋                        | 693/1000 [22:14<09:39,  1.89s/it]"
     ]
    },
    {
     "name": "stdout",
     "output_type": "stream",
     "text": [
      "self.get_collection_ratio(): 0.08355339943148911\n",
      "self.state.all_commed: True\n",
      "charging!!!!!!\n",
      "charging!!!!!!\n",
      "charging!!!!!!\n",
      "charging!!!!!!\n",
      "charging!!!!!!\n",
      "charging!!!!!!\n"
     ]
    },
    {
     "name": "stderr",
     "output_type": "stream",
     "text": [
      "\r",
      " 69%|██████████████████████████████████████████████████████▊                        | 694/1000 [22:16<10:26,  2.05s/it]"
     ]
    },
    {
     "name": "stdout",
     "output_type": "stream",
     "text": [
      "self.get_collection_ratio(): 0.17666147693056466\n",
      "self.state.all_commed: True\n",
      "charging!!!!!!\n",
      "charging!!!!!!\n",
      "charging!!!!!!\n",
      "charging!!!!!!\n"
     ]
    },
    {
     "name": "stderr",
     "output_type": "stream",
     "text": [
      "\r",
      " 70%|██████████████████████████████████████████████████████▉                        | 695/1000 [22:18<10:11,  2.01s/it]"
     ]
    },
    {
     "name": "stdout",
     "output_type": "stream",
     "text": [
      "self.get_collection_ratio(): 0.13981285633301077\n",
      "self.state.all_commed: True\n",
      "charging!!!!!!\n",
      "charging!!!!!!\n",
      "charging!!!!!!\n",
      "charging!!!!!!\n",
      "charging!!!!!!\n",
      "charging!!!!!!\n"
     ]
    },
    {
     "name": "stderr",
     "output_type": "stream",
     "text": [
      "\r",
      " 70%|██████████████████████████████████████████████████████▉                        | 696/1000 [22:20<10:48,  2.13s/it]"
     ]
    },
    {
     "name": "stdout",
     "output_type": "stream",
     "text": [
      "self.get_collection_ratio(): 0.2223224878996144\n",
      "self.state.all_commed: True\n",
      "charging!!!!!!\n",
      "charging!!!!!!\n"
     ]
    },
    {
     "name": "stderr",
     "output_type": "stream",
     "text": [
      "\r",
      " 70%|███████████████████████████████████████████████████████                        | 697/1000 [22:22<09:35,  1.90s/it]"
     ]
    },
    {
     "name": "stdout",
     "output_type": "stream",
     "text": [
      "self.get_collection_ratio(): 0.09120848267215\n",
      "self.state.all_commed: True\n",
      "charging!!!!!!\n",
      "charging!!!!!!\n",
      "charging!!!!!!\n",
      "charging!!!!!!\n",
      "charging!!!!!!\n",
      "charging!!!!!!\n"
     ]
    },
    {
     "name": "stderr",
     "output_type": "stream",
     "text": [
      "\r",
      " 70%|███████████████████████████████████████████████████████▏                       | 698/1000 [22:24<10:17,  2.04s/it]"
     ]
    },
    {
     "name": "stdout",
     "output_type": "stream",
     "text": [
      "self.get_collection_ratio(): 0.2101708379588105\n",
      "self.state.all_commed: True\n",
      "charging!!!!!!\n",
      "charging!!!!!!\n",
      "charging!!!!!!\n",
      "charging!!!!!!\n"
     ]
    },
    {
     "name": "stderr",
     "output_type": "stream",
     "text": [
      "\r",
      " 70%|███████████████████████████████████████████████████████▏                       | 699/1000 [22:26<09:57,  1.98s/it]"
     ]
    },
    {
     "name": "stdout",
     "output_type": "stream",
     "text": [
      "self.get_collection_ratio(): 0.1339827236691417\n",
      "self.state.all_commed: True\n",
      "charging!!!!!!\n",
      "charging!!!!!!\n",
      "charging!!!!!!\n",
      "charging!!!!!!\n",
      "charging!!!!!!\n",
      "charging!!!!!!\n"
     ]
    },
    {
     "name": "stderr",
     "output_type": "stream",
     "text": [
      "\r",
      " 70%|███████████████████████████████████████████████████████▎                       | 700/1000 [22:29<10:39,  2.13s/it]"
     ]
    },
    {
     "name": "stdout",
     "output_type": "stream",
     "text": [
      "self.get_collection_ratio(): 0.19123078187840944\n",
      "self.state.all_commed: True\n",
      "charging!!!!!!\n",
      "charging!!!!!!\n",
      "charging!!!!!!\n",
      "charging!!!!!!\n",
      "charging!!!!!!\n",
      "charging!!!!!!\n"
     ]
    },
    {
     "name": "stderr",
     "output_type": "stream",
     "text": [
      "\r",
      " 70%|███████████████████████████████████████████████████████▍                       | 701/1000 [22:31<11:06,  2.23s/it]"
     ]
    },
    {
     "name": "stdout",
     "output_type": "stream",
     "text": [
      "self.get_collection_ratio(): 0.2268467110351679\n",
      "self.state.all_commed: True\n",
      "charging!!!!!!\n",
      "charging!!!!!!\n",
      "charging!!!!!!\n",
      "charging!!!!!!\n"
     ]
    },
    {
     "name": "stderr",
     "output_type": "stream",
     "text": [
      "\r",
      " 70%|███████████████████████████████████████████████████████▍                       | 702/1000 [22:33<10:39,  2.15s/it]"
     ]
    },
    {
     "name": "stdout",
     "output_type": "stream",
     "text": [
      "self.get_collection_ratio(): 0.19542405474253702\n",
      "self.state.all_commed: True\n",
      "charging!!!!!!\n",
      "charging!!!!!!\n",
      "charging!!!!!!\n",
      "charging!!!!!!\n",
      "charging!!!!!!\n",
      "charging!!!!!!\n"
     ]
    },
    {
     "name": "stderr",
     "output_type": "stream",
     "text": [
      "\r",
      " 70%|███████████████████████████████████████████████████████▌                       | 703/1000 [22:35<10:58,  2.22s/it]"
     ]
    },
    {
     "name": "stdout",
     "output_type": "stream",
     "text": [
      "self.get_collection_ratio(): 0.16934683578941154\n",
      "self.state.all_commed: True\n",
      "charging!!!!!!\n",
      "charging!!!!!!\n"
     ]
    },
    {
     "name": "stderr",
     "output_type": "stream",
     "text": [
      "\r",
      " 70%|███████████████████████████████████████████████████████▌                       | 704/1000 [22:37<09:37,  1.95s/it]"
     ]
    },
    {
     "name": "stdout",
     "output_type": "stream",
     "text": [
      "self.get_collection_ratio(): 0.10096725647991014\n",
      "self.state.all_commed: True\n",
      "charging!!!!!!\n",
      "charging!!!!!!\n",
      "charging!!!!!!\n",
      "charging!!!!!!\n"
     ]
    },
    {
     "name": "stderr",
     "output_type": "stream",
     "text": [
      "\r",
      " 70%|███████████████████████████████████████████████████████▋                       | 705/1000 [22:38<09:27,  1.93s/it]"
     ]
    },
    {
     "name": "stdout",
     "output_type": "stream",
     "text": [
      "self.get_collection_ratio(): 0.1867172265750878\n",
      "self.state.all_commed: True\n",
      "charging!!!!!!\n",
      "charging!!!!!!\n"
     ]
    },
    {
     "name": "stderr",
     "output_type": "stream",
     "text": [
      "\r",
      " 71%|███████████████████████████████████████████████████████▊                       | 706/1000 [22:40<08:31,  1.74s/it]"
     ]
    },
    {
     "name": "stdout",
     "output_type": "stream",
     "text": [
      "self.get_collection_ratio(): 0.09140460136402745\n",
      "self.state.all_commed: True\n",
      "charging!!!!!!\n",
      "charging!!!!!!\n",
      "charging!!!!!!\n",
      "charging!!!!!!\n",
      "charging!!!!!!\n",
      "charging!!!!!!\n"
     ]
    },
    {
     "name": "stderr",
     "output_type": "stream",
     "text": [
      "\r",
      " 71%|███████████████████████████████████████████████████████▊                       | 707/1000 [22:42<09:39,  1.98s/it]"
     ]
    },
    {
     "name": "stdout",
     "output_type": "stream",
     "text": [
      "self.get_collection_ratio(): 0.1660817652991622\n",
      "self.state.all_commed: True\n",
      "charging!!!!!!\n",
      "charging!!!!!!\n",
      "charging!!!!!!\n",
      "charging!!!!!!\n"
     ]
    },
    {
     "name": "stderr",
     "output_type": "stream",
     "text": [
      "\r",
      " 71%|███████████████████████████████████████████████████████▉                       | 708/1000 [22:44<09:32,  1.96s/it]"
     ]
    },
    {
     "name": "stdout",
     "output_type": "stream",
     "text": [
      "self.get_collection_ratio(): 0.16886973922838105\n",
      "self.state.all_commed: True\n",
      "charging!!!!!!\n",
      "charging!!!!!!\n"
     ]
    },
    {
     "name": "stderr",
     "output_type": "stream",
     "text": [
      "\r",
      " 71%|████████████████████████████████████████████████████████                       | 709/1000 [22:46<08:39,  1.79s/it]"
     ]
    },
    {
     "name": "stdout",
     "output_type": "stream",
     "text": [
      "self.get_collection_ratio(): 0.08180404645472444\n",
      "self.state.all_commed: True\n",
      "charging!!!!!!\n",
      "charging!!!!!!\n",
      "charging!!!!!!\n",
      "charging!!!!!!\n"
     ]
    },
    {
     "name": "stderr",
     "output_type": "stream",
     "text": [
      "\r",
      " 71%|████████████████████████████████████████████████████████                       | 710/1000 [22:48<09:02,  1.87s/it]"
     ]
    },
    {
     "name": "stdout",
     "output_type": "stream",
     "text": [
      "self.get_collection_ratio(): 0.13876187599143486\n",
      "self.state.all_commed: True\n",
      "charging!!!!!!\n",
      "charging!!!!!!\n"
     ]
    },
    {
     "name": "stderr",
     "output_type": "stream",
     "text": [
      "\r",
      " 71%|████████████████████████████████████████████████████████▏                      | 711/1000 [22:49<08:25,  1.75s/it]"
     ]
    },
    {
     "name": "stdout",
     "output_type": "stream",
     "text": [
      "self.get_collection_ratio(): 0.13601748148287354\n",
      "self.state.all_commed: True\n",
      "charging!!!!!!\n",
      "charging!!!!!!\n",
      "charging!!!!!!\n",
      "charging!!!!!!\n",
      "charging!!!!!!\n",
      "charging!!!!!!\n"
     ]
    },
    {
     "name": "stderr",
     "output_type": "stream",
     "text": [
      "\r",
      " 71%|████████████████████████████████████████████████████████▏                      | 712/1000 [22:51<09:14,  1.93s/it]"
     ]
    },
    {
     "name": "stdout",
     "output_type": "stream",
     "text": [
      "self.get_collection_ratio(): 0.19470574645073582\n",
      "self.state.all_commed: True\n",
      "charging!!!!!!\n",
      "charging!!!!!!\n"
     ]
    },
    {
     "name": "stderr",
     "output_type": "stream",
     "text": [
      "\r",
      " 71%|████████████████████████████████████████████████████████▎                      | 713/1000 [22:53<08:26,  1.76s/it]"
     ]
    },
    {
     "name": "stdout",
     "output_type": "stream",
     "text": [
      "self.get_collection_ratio(): 0.07317500564381957\n",
      "self.state.all_commed: True\n",
      "charging!!!!!!\n",
      "charging!!!!!!\n",
      "charging!!!!!!\n",
      "charging!!!!!!\n"
     ]
    },
    {
     "name": "stderr",
     "output_type": "stream",
     "text": [
      "\r",
      " 71%|████████████████████████████████████████████████████████▍                      | 714/1000 [22:55<08:32,  1.79s/it]"
     ]
    },
    {
     "name": "stdout",
     "output_type": "stream",
     "text": [
      "self.get_collection_ratio(): 0.13624169040088893\n",
      "self.state.all_commed: True\n",
      "charging!!!!!!\n",
      "charging!!!!!!\n"
     ]
    },
    {
     "name": "stderr",
     "output_type": "stream",
     "text": [
      "\r",
      " 72%|████████████████████████████████████████████████████████▍                      | 715/1000 [22:56<07:54,  1.67s/it]"
     ]
    },
    {
     "name": "stdout",
     "output_type": "stream",
     "text": [
      "self.get_collection_ratio(): 0.07670970772723727\n",
      "self.state.all_commed: True\n",
      "charging!!!!!!\n",
      "charging!!!!!!\n",
      "charging!!!!!!\n",
      "charging!!!!!!\n",
      "charging!!!!!!\n",
      "charging!!!!!!\n"
     ]
    },
    {
     "name": "stderr",
     "output_type": "stream",
     "text": [
      "\r",
      " 72%|████████████████████████████████████████████████████████▌                      | 716/1000 [22:59<08:55,  1.88s/it]"
     ]
    },
    {
     "name": "stdout",
     "output_type": "stream",
     "text": [
      "self.get_collection_ratio(): 0.14558930960273256\n",
      "self.state.all_commed: True\n",
      "charging!!!!!!\n",
      "charging!!!!!!\n"
     ]
    },
    {
     "name": "stderr",
     "output_type": "stream",
     "text": [
      "\r",
      " 72%|████████████████████████████████████████████████████████▋                      | 717/1000 [23:00<08:12,  1.74s/it]"
     ]
    },
    {
     "name": "stdout",
     "output_type": "stream",
     "text": [
      "self.get_collection_ratio(): 0.07733834478897916\n",
      "self.state.all_commed: True\n",
      "charging!!!!!!\n",
      "charging!!!!!!\n"
     ]
    },
    {
     "name": "stderr",
     "output_type": "stream",
     "text": [
      "\r",
      " 72%|████████████████████████████████████████████████████████▋                      | 718/1000 [23:01<07:41,  1.64s/it]"
     ]
    },
    {
     "name": "stdout",
     "output_type": "stream",
     "text": [
      "self.get_collection_ratio(): 0.09748646306076003\n",
      "self.state.all_commed: True\n",
      "charging!!!!!!\n",
      "charging!!!!!!\n"
     ]
    },
    {
     "name": "stderr",
     "output_type": "stream",
     "text": [
      "\r",
      " 72%|████████████████████████████████████████████████████████▊                      | 719/1000 [23:03<07:22,  1.57s/it]"
     ]
    },
    {
     "name": "stdout",
     "output_type": "stream",
     "text": [
      "self.get_collection_ratio(): 0.08570135168578996\n",
      "self.state.all_commed: True\n",
      "charging!!!!!!\n",
      "charging!!!!!!\n"
     ]
    },
    {
     "name": "stderr",
     "output_type": "stream",
     "text": [
      "\r",
      " 72%|████████████████████████████████████████████████████████▉                      | 720/1000 [23:04<07:05,  1.52s/it]"
     ]
    },
    {
     "name": "stdout",
     "output_type": "stream",
     "text": [
      "self.get_collection_ratio(): 0.11267701784188243\n",
      "self.state.all_commed: True\n",
      "charging!!!!!!\n",
      "charging!!!!!!\n",
      "charging!!!!!!\n",
      "charging!!!!!!\n"
     ]
    },
    {
     "name": "stderr",
     "output_type": "stream",
     "text": [
      "\r",
      " 72%|████████████████████████████████████████████████████████▉                      | 721/1000 [23:06<07:27,  1.61s/it]"
     ]
    },
    {
     "name": "stdout",
     "output_type": "stream",
     "text": [
      "self.get_collection_ratio(): 0.17269260816250567\n",
      "self.state.all_commed: True\n",
      "charging!!!!!!\n",
      "charging!!!!!!\n",
      "charging!!!!!!\n",
      "charging!!!!!!\n",
      "charging!!!!!!\n",
      "charging!!!!!!\n"
     ]
    },
    {
     "name": "stderr",
     "output_type": "stream",
     "text": [
      "\r",
      " 72%|█████████████████████████████████████████████████████████                      | 722/1000 [23:08<08:36,  1.86s/it]"
     ]
    },
    {
     "name": "stdout",
     "output_type": "stream",
     "text": [
      "self.get_collection_ratio(): 0.19995991260949153\n",
      "self.state.all_commed: True\n",
      "charging!!!!!!\n",
      "charging!!!!!!\n"
     ]
    },
    {
     "name": "stderr",
     "output_type": "stream",
     "text": [
      "\r",
      " 72%|█████████████████████████████████████████████████████████                      | 723/1000 [23:10<07:53,  1.71s/it]"
     ]
    },
    {
     "name": "stdout",
     "output_type": "stream",
     "text": [
      "self.get_collection_ratio(): 0.09283188553302146\n",
      "self.state.all_commed: True\n",
      "charging!!!!!!\n",
      "charging!!!!!!\n",
      "charging!!!!!!\n",
      "charging!!!!!!\n",
      "charging!!!!!!\n",
      "charging!!!!!!\n"
     ]
    },
    {
     "name": "stderr",
     "output_type": "stream",
     "text": [
      "\r",
      " 72%|█████████████████████████████████████████████████████████▏                     | 724/1000 [23:12<08:50,  1.92s/it]"
     ]
    },
    {
     "name": "stdout",
     "output_type": "stream",
     "text": [
      "self.get_collection_ratio(): 0.2068541913503112\n",
      "self.state.all_commed: True\n",
      "charging!!!!!!\n",
      "charging!!!!!!\n",
      "charging!!!!!!\n",
      "charging!!!!!!\n",
      "charging!!!!!!\n",
      "charging!!!!!!\n"
     ]
    },
    {
     "name": "stderr",
     "output_type": "stream",
     "text": [
      "\r",
      " 72%|█████████████████████████████████████████████████████████▎                     | 725/1000 [23:15<09:27,  2.06s/it]"
     ]
    },
    {
     "name": "stdout",
     "output_type": "stream",
     "text": [
      "self.get_collection_ratio(): 0.19606163887046468\n",
      "self.state.all_commed: True\n",
      "charging!!!!!!\n",
      "charging!!!!!!\n",
      "charging!!!!!!\n",
      "charging!!!!!!\n",
      "charging!!!!!!\n",
      "charging!!!!!!\n"
     ]
    },
    {
     "name": "stderr",
     "output_type": "stream",
     "text": [
      "\r",
      " 73%|█████████████████████████████████████████████████████████▎                     | 726/1000 [23:17<09:56,  2.18s/it]"
     ]
    },
    {
     "name": "stdout",
     "output_type": "stream",
     "text": [
      "self.get_collection_ratio(): 0.21837483789321588\n",
      "self.state.all_commed: True\n",
      "charging!!!!!!\n",
      "charging!!!!!!\n"
     ]
    },
    {
     "name": "stderr",
     "output_type": "stream",
     "text": [
      "\r",
      " 73%|█████████████████████████████████████████████████████████▍                     | 727/1000 [23:18<08:46,  1.93s/it]"
     ]
    },
    {
     "name": "stdout",
     "output_type": "stream",
     "text": [
      "self.get_collection_ratio(): 0.10258713359918803\n",
      "self.state.all_commed: True\n",
      "charging!!!!!!\n",
      "charging!!!!!!\n",
      "charging!!!!!!\n",
      "charging!!!!!!\n",
      "charging!!!!!!\n",
      "charging!!!!!!\n"
     ]
    },
    {
     "name": "stderr",
     "output_type": "stream",
     "text": [
      "\r",
      " 73%|█████████████████████████████████████████████████████████▌                     | 728/1000 [23:21<09:23,  2.07s/it]"
     ]
    },
    {
     "name": "stdout",
     "output_type": "stream",
     "text": [
      "self.get_collection_ratio(): 0.2050356224482732\n",
      "self.state.all_commed: True\n",
      "charging!!!!!!\n",
      "charging!!!!!!\n"
     ]
    },
    {
     "name": "stderr",
     "output_type": "stream",
     "text": [
      "\r",
      " 73%|█████████████████████████████████████████████████████████▌                     | 729/1000 [23:22<08:16,  1.83s/it]"
     ]
    },
    {
     "name": "stdout",
     "output_type": "stream",
     "text": [
      "self.get_collection_ratio(): 0.08596480586400239\n",
      "self.state.all_commed: True\n",
      "charging!!!!!!\n",
      "charging!!!!!!\n",
      "charging!!!!!!\n",
      "charging!!!!!!\n",
      "charging!!!!!!\n",
      "charging!!!!!!\n"
     ]
    },
    {
     "name": "stderr",
     "output_type": "stream",
     "text": [
      "\r",
      " 73%|█████████████████████████████████████████████████████████▋                     | 730/1000 [23:24<08:57,  1.99s/it]"
     ]
    },
    {
     "name": "stdout",
     "output_type": "stream",
     "text": [
      "self.get_collection_ratio(): 0.19941402028682395\n",
      "self.state.all_commed: True\n",
      "charging!!!!!!\n",
      "charging!!!!!!\n",
      "charging!!!!!!\n",
      "charging!!!!!!\n"
     ]
    },
    {
     "name": "stderr",
     "output_type": "stream",
     "text": [
      "\r",
      " 73%|█████████████████████████████████████████████████████████▋                     | 731/1000 [23:26<08:44,  1.95s/it]"
     ]
    },
    {
     "name": "stdout",
     "output_type": "stream",
     "text": [
      "self.get_collection_ratio(): 0.1592967571360374\n",
      "self.state.all_commed: True\n",
      "charging!!!!!!\n",
      "charging!!!!!!\n"
     ]
    },
    {
     "name": "stderr",
     "output_type": "stream",
     "text": [
      "\r",
      " 73%|█████████████████████████████████████████████████████████▊                     | 732/1000 [23:28<08:00,  1.79s/it]"
     ]
    },
    {
     "name": "stdout",
     "output_type": "stream",
     "text": [
      "self.get_collection_ratio(): 0.11577588767864719\n",
      "self.state.all_commed: True\n",
      "charging!!!!!!\n",
      "charging!!!!!!\n"
     ]
    },
    {
     "name": "stderr",
     "output_type": "stream",
     "text": [
      "\r",
      " 73%|█████████████████████████████████████████████████████████▉                     | 733/1000 [23:29<07:20,  1.65s/it]"
     ]
    },
    {
     "name": "stdout",
     "output_type": "stream",
     "text": [
      "self.get_collection_ratio(): 0.08645366977525365\n",
      "self.state.all_commed: True\n",
      "charging!!!!!!\n",
      "charging!!!!!!\n",
      "charging!!!!!!\n",
      "charging!!!!!!\n"
     ]
    },
    {
     "name": "stderr",
     "output_type": "stream",
     "text": [
      "\r",
      " 73%|█████████████████████████████████████████████████████████▉                     | 734/1000 [23:31<07:42,  1.74s/it]"
     ]
    },
    {
     "name": "stdout",
     "output_type": "stream",
     "text": [
      "self.get_collection_ratio(): 0.13816805060758586\n",
      "self.state.all_commed: True\n",
      "charging!!!!!!\n",
      "charging!!!!!!\n",
      "charging!!!!!!\n",
      "charging!!!!!!\n",
      "charging!!!!!!\n",
      "charging!!!!!!\n"
     ]
    },
    {
     "name": "stderr",
     "output_type": "stream",
     "text": [
      "\r",
      " 74%|██████████████████████████████████████████████████████████                     | 735/1000 [23:33<08:33,  1.94s/it]"
     ]
    },
    {
     "name": "stdout",
     "output_type": "stream",
     "text": [
      "self.get_collection_ratio(): 0.21618848470184332\n",
      "self.state.all_commed: True\n",
      "charging!!!!!!\n",
      "charging!!!!!!\n"
     ]
    },
    {
     "name": "stderr",
     "output_type": "stream",
     "text": [
      "\r",
      " 74%|██████████████████████████████████████████████████████████▏                    | 736/1000 [23:35<07:50,  1.78s/it]"
     ]
    },
    {
     "name": "stdout",
     "output_type": "stream",
     "text": [
      "self.get_collection_ratio(): 0.1128256438404872\n",
      "self.state.all_commed: True\n",
      "charging!!!!!!\n",
      "charging!!!!!!\n",
      "charging!!!!!!\n",
      "charging!!!!!!\n"
     ]
    },
    {
     "name": "stderr",
     "output_type": "stream",
     "text": [
      "\r",
      " 74%|██████████████████████████████████████████████████████████▏                    | 737/1000 [23:37<07:58,  1.82s/it]"
     ]
    },
    {
     "name": "stdout",
     "output_type": "stream",
     "text": [
      "self.get_collection_ratio(): 0.12351558116717476\n",
      "self.state.all_commed: True\n",
      "charging!!!!!!\n",
      "charging!!!!!!\n",
      "charging!!!!!!\n",
      "charging!!!!!!\n"
     ]
    },
    {
     "name": "stderr",
     "output_type": "stream",
     "text": [
      "\r",
      " 74%|██████████████████████████████████████████████████████████▎                    | 738/1000 [23:39<08:09,  1.87s/it]"
     ]
    },
    {
     "name": "stdout",
     "output_type": "stream",
     "text": [
      "self.get_collection_ratio(): 0.1757681394320388\n",
      "self.state.all_commed: True\n",
      "charging!!!!!!\n",
      "charging!!!!!!\n"
     ]
    },
    {
     "name": "stderr",
     "output_type": "stream",
     "text": [
      "\r",
      " 74%|██████████████████████████████████████████████████████████▍                    | 739/1000 [23:47<17:07,  3.94s/it]"
     ]
    },
    {
     "name": "stdout",
     "output_type": "stream",
     "text": [
      "self.get_collection_ratio(): 0.11809989449898407\n",
      "self.state.all_commed: True\n",
      "charging!!!!!!\n",
      "charging!!!!!!\n",
      "charging!!!!!!\n",
      "charging!!!!!!\n"
     ]
    },
    {
     "name": "stderr",
     "output_type": "stream",
     "text": [
      "\r",
      " 74%|██████████████████████████████████████████████████████████▍                    | 740/1000 [23:49<14:21,  3.31s/it]"
     ]
    },
    {
     "name": "stdout",
     "output_type": "stream",
     "text": [
      "self.get_collection_ratio(): 0.16053766172167025\n",
      "self.state.all_commed: True\n",
      "charging!!!!!!\n",
      "charging!!!!!!\n"
     ]
    },
    {
     "name": "stderr",
     "output_type": "stream",
     "text": [
      "\r",
      " 74%|██████████████████████████████████████████████████████████▌                    | 741/1000 [23:51<11:49,  2.74s/it]"
     ]
    },
    {
     "name": "stdout",
     "output_type": "stream",
     "text": [
      "self.get_collection_ratio(): 0.09895864161961948\n",
      "self.state.all_commed: True\n",
      "charging!!!!!!\n",
      "charging!!!!!!\n"
     ]
    },
    {
     "name": "stderr",
     "output_type": "stream",
     "text": [
      "\r",
      " 74%|██████████████████████████████████████████████████████████▌                    | 742/1000 [23:52<09:55,  2.31s/it]"
     ]
    },
    {
     "name": "stdout",
     "output_type": "stream",
     "text": [
      "self.get_collection_ratio(): 0.08052850555969795\n",
      "self.state.all_commed: True\n",
      "charging!!!!!!\n",
      "charging!!!!!!\n",
      "charging!!!!!!\n",
      "charging!!!!!!\n",
      "charging!!!!!!\n",
      "charging!!!!!!\n"
     ]
    },
    {
     "name": "stderr",
     "output_type": "stream",
     "text": [
      "\r",
      " 74%|██████████████████████████████████████████████████████████▋                    | 743/1000 [23:54<09:56,  2.32s/it]"
     ]
    },
    {
     "name": "stdout",
     "output_type": "stream",
     "text": [
      "self.get_collection_ratio(): 0.21242131171818457\n",
      "self.state.all_commed: True\n",
      "charging!!!!!!\n",
      "charging!!!!!!\n",
      "charging!!!!!!\n",
      "charging!!!!!!\n"
     ]
    },
    {
     "name": "stderr",
     "output_type": "stream",
     "text": [
      "\r",
      " 74%|██████████████████████████████████████████████████████████▊                    | 744/1000 [23:56<09:17,  2.18s/it]"
     ]
    },
    {
     "name": "stdout",
     "output_type": "stream",
     "text": [
      "self.get_collection_ratio(): 0.16227740561599335\n",
      "self.state.all_commed: True\n",
      "charging!!!!!!\n",
      "charging!!!!!!\n"
     ]
    },
    {
     "name": "stderr",
     "output_type": "stream",
     "text": [
      "\r",
      " 74%|██████████████████████████████████████████████████████████▊                    | 745/1000 [23:58<08:17,  1.95s/it]"
     ]
    },
    {
     "name": "stdout",
     "output_type": "stream",
     "text": [
      "self.get_collection_ratio(): 0.05923310991881495\n",
      "self.state.all_commed: True\n",
      "charging!!!!!!\n",
      "charging!!!!!!\n"
     ]
    },
    {
     "name": "stderr",
     "output_type": "stream",
     "text": [
      "\r",
      " 75%|██████████████████████████████████████████████████████████▉                    | 746/1000 [23:59<07:33,  1.79s/it]"
     ]
    },
    {
     "name": "stdout",
     "output_type": "stream",
     "text": [
      "self.get_collection_ratio(): 0.0943193841253455\n",
      "self.state.all_commed: True\n",
      "charging!!!!!!\n",
      "charging!!!!!!\n"
     ]
    },
    {
     "name": "stderr",
     "output_type": "stream",
     "text": [
      "\r",
      " 75%|███████████████████████████████████████████████████████████                    | 747/1000 [24:00<07:00,  1.66s/it]"
     ]
    },
    {
     "name": "stdout",
     "output_type": "stream",
     "text": [
      "self.get_collection_ratio(): 0.1224124499115023\n",
      "self.state.all_commed: True\n",
      "charging!!!!!!\n",
      "charging!!!!!!\n",
      "charging!!!!!!\n",
      "charging!!!!!!\n"
     ]
    },
    {
     "name": "stderr",
     "output_type": "stream",
     "text": [
      "\r",
      " 75%|███████████████████████████████████████████████████████████                    | 748/1000 [24:02<07:17,  1.74s/it]"
     ]
    },
    {
     "name": "stdout",
     "output_type": "stream",
     "text": [
      "self.get_collection_ratio(): 0.15658116449376214\n",
      "self.state.all_commed: True\n",
      "charging!!!!!!\n",
      "charging!!!!!!\n",
      "charging!!!!!!\n",
      "charging!!!!!!\n",
      "charging!!!!!!\n",
      "charging!!!!!!\n"
     ]
    },
    {
     "name": "stderr",
     "output_type": "stream",
     "text": [
      "\r",
      " 75%|███████████████████████████████████████████████████████████▏                   | 749/1000 [24:05<08:05,  1.94s/it]"
     ]
    },
    {
     "name": "stdout",
     "output_type": "stream",
     "text": [
      "self.get_collection_ratio(): 0.20124923607041773\n",
      "self.state.all_commed: True\n",
      "charging!!!!!!\n",
      "charging!!!!!!\n"
     ]
    },
    {
     "name": "stderr",
     "output_type": "stream",
     "text": [
      "\r",
      " 75%|███████████████████████████████████████████████████████████▎                   | 750/1000 [24:06<07:32,  1.81s/it]"
     ]
    },
    {
     "name": "stdout",
     "output_type": "stream",
     "text": [
      "self.get_collection_ratio(): 0.05931600047123892\n",
      "self.state.all_commed: True\n",
      "charging!!!!!!\n",
      "charging!!!!!!\n",
      "charging!!!!!!\n",
      "charging!!!!!!\n"
     ]
    },
    {
     "name": "stderr",
     "output_type": "stream",
     "text": [
      "\r",
      " 75%|███████████████████████████████████████████████████████████▎                   | 751/1000 [24:08<07:40,  1.85s/it]"
     ]
    },
    {
     "name": "stdout",
     "output_type": "stream",
     "text": [
      "self.get_collection_ratio(): 0.14769680514077466\n",
      "self.state.all_commed: True\n",
      "charging!!!!!!\n",
      "charging!!!!!!\n"
     ]
    },
    {
     "name": "stderr",
     "output_type": "stream",
     "text": [
      "\r",
      " 75%|███████████████████████████████████████████████████████████▍                   | 752/1000 [24:10<07:12,  1.74s/it]"
     ]
    },
    {
     "name": "stdout",
     "output_type": "stream",
     "text": [
      "self.get_collection_ratio(): 0.09862944713636776\n",
      "self.state.all_commed: True\n",
      "charging!!!!!!\n",
      "charging!!!!!!\n",
      "charging!!!!!!\n",
      "charging!!!!!!\n"
     ]
    },
    {
     "name": "stderr",
     "output_type": "stream",
     "text": [
      "\r",
      " 75%|███████████████████████████████████████████████████████████▍                   | 753/1000 [24:12<07:27,  1.81s/it]"
     ]
    },
    {
     "name": "stdout",
     "output_type": "stream",
     "text": [
      "self.get_collection_ratio(): 0.15740530614140907\n",
      "self.state.all_commed: True\n",
      "charging!!!!!!\n",
      "charging!!!!!!\n"
     ]
    },
    {
     "name": "stderr",
     "output_type": "stream",
     "text": [
      "\r",
      " 75%|███████████████████████████████████████████████████████████▌                   | 754/1000 [24:13<06:56,  1.69s/it]"
     ]
    },
    {
     "name": "stdout",
     "output_type": "stream",
     "text": [
      "self.get_collection_ratio(): 0.09609464166280406\n",
      "self.state.all_commed: True\n",
      "charging!!!!!!\n",
      "charging!!!!!!\n"
     ]
    },
    {
     "name": "stderr",
     "output_type": "stream",
     "text": [
      "\r",
      " 76%|███████████████████████████████████████████████████████████▋                   | 755/1000 [24:14<06:40,  1.63s/it]"
     ]
    },
    {
     "name": "stdout",
     "output_type": "stream",
     "text": [
      "self.get_collection_ratio(): 0.09237269351084587\n",
      "self.state.all_commed: True\n",
      "charging!!!!!!\n",
      "charging!!!!!!\n",
      "charging!!!!!!\n",
      "charging!!!!!!\n",
      "charging!!!!!!\n",
      "charging!!!!!!\n"
     ]
    },
    {
     "name": "stderr",
     "output_type": "stream",
     "text": [
      "\r",
      " 76%|███████████████████████████████████████████████████████████▋                   | 756/1000 [24:17<07:49,  1.93s/it]"
     ]
    },
    {
     "name": "stdout",
     "output_type": "stream",
     "text": [
      "self.get_collection_ratio(): 0.20656400082982665\n",
      "self.state.all_commed: True\n",
      "charging!!!!!!\n",
      "charging!!!!!!\n",
      "charging!!!!!!\n",
      "charging!!!!!!\n"
     ]
    },
    {
     "name": "stderr",
     "output_type": "stream",
     "text": [
      "\r",
      " 76%|███████████████████████████████████████████████████████████▊                   | 757/1000 [24:19<07:47,  1.92s/it]"
     ]
    },
    {
     "name": "stdout",
     "output_type": "stream",
     "text": [
      "self.get_collection_ratio(): 0.16768894100084575\n",
      "self.state.all_commed: True\n",
      "charging!!!!!!\n",
      "charging!!!!!!\n"
     ]
    },
    {
     "name": "stderr",
     "output_type": "stream",
     "text": [
      "\r",
      " 76%|███████████████████████████████████████████████████████████▉                   | 758/1000 [24:20<07:04,  1.75s/it]"
     ]
    },
    {
     "name": "stdout",
     "output_type": "stream",
     "text": [
      "self.get_collection_ratio(): 0.08796920688579667\n",
      "self.state.all_commed: True\n",
      "charging!!!!!!\n",
      "charging!!!!!!\n",
      "charging!!!!!!\n",
      "charging!!!!!!\n"
     ]
    },
    {
     "name": "stderr",
     "output_type": "stream",
     "text": [
      "\r",
      " 76%|███████████████████████████████████████████████████████████▉                   | 759/1000 [24:22<07:21,  1.83s/it]"
     ]
    },
    {
     "name": "stdout",
     "output_type": "stream",
     "text": [
      "self.get_collection_ratio(): 0.11722333246473816\n",
      "self.state.all_commed: True\n",
      "charging!!!!!!\n",
      "charging!!!!!!\n",
      "charging!!!!!!\n",
      "charging!!!!!!\n",
      "charging!!!!!!\n",
      "charging!!!!!!\n"
     ]
    },
    {
     "name": "stderr",
     "output_type": "stream",
     "text": [
      "\r",
      " 76%|████████████████████████████████████████████████████████████                   | 760/1000 [24:25<08:16,  2.07s/it]"
     ]
    },
    {
     "name": "stdout",
     "output_type": "stream",
     "text": [
      "self.get_collection_ratio(): 0.2190312656838368\n",
      "self.state.all_commed: True\n",
      "charging!!!!!!\n",
      "charging!!!!!!\n",
      "charging!!!!!!\n",
      "charging!!!!!!\n",
      "charging!!!!!!\n",
      "charging!!!!!!\n"
     ]
    },
    {
     "name": "stderr",
     "output_type": "stream",
     "text": [
      "\r",
      " 76%|████████████████████████████████████████████████████████████                   | 761/1000 [24:28<08:49,  2.22s/it]"
     ]
    },
    {
     "name": "stdout",
     "output_type": "stream",
     "text": [
      "self.get_collection_ratio(): 0.1644552721274362\n",
      "self.state.all_commed: True\n",
      "charging!!!!!!\n",
      "charging!!!!!!\n",
      "charging!!!!!!\n",
      "charging!!!!!!\n",
      "charging!!!!!!\n",
      "charging!!!!!!\n"
     ]
    },
    {
     "name": "stderr",
     "output_type": "stream",
     "text": [
      "\r",
      " 76%|████████████████████████████████████████████████████████████▏                  | 762/1000 [24:30<09:11,  2.32s/it]"
     ]
    },
    {
     "name": "stdout",
     "output_type": "stream",
     "text": [
      "self.get_collection_ratio(): 0.19998859315954126\n",
      "self.state.all_commed: True\n",
      "charging!!!!!!\n",
      "charging!!!!!!\n"
     ]
    },
    {
     "name": "stderr",
     "output_type": "stream",
     "text": [
      "\r",
      " 76%|████████████████████████████████████████████████████████████▎                  | 763/1000 [24:31<08:01,  2.03s/it]"
     ]
    },
    {
     "name": "stdout",
     "output_type": "stream",
     "text": [
      "self.get_collection_ratio(): 0.07510033947559175\n",
      "self.state.all_commed: True\n",
      "charging!!!!!!\n",
      "charging!!!!!!\n"
     ]
    },
    {
     "name": "stderr",
     "output_type": "stream",
     "text": [
      "\r",
      " 76%|████████████████████████████████████████████████████████████▎                  | 764/1000 [24:33<07:18,  1.86s/it]"
     ]
    },
    {
     "name": "stdout",
     "output_type": "stream",
     "text": [
      "self.get_collection_ratio(): 0.06342900371607404\n",
      "self.state.all_commed: True\n",
      "charging!!!!!!\n",
      "charging!!!!!!\n"
     ]
    },
    {
     "name": "stderr",
     "output_type": "stream",
     "text": [
      "\r",
      " 76%|████████████████████████████████████████████████████████████▍                  | 765/1000 [24:34<06:46,  1.73s/it]"
     ]
    },
    {
     "name": "stdout",
     "output_type": "stream",
     "text": [
      "self.get_collection_ratio(): 0.0863365400392352\n",
      "self.state.all_commed: True\n",
      "charging!!!!!!\n",
      "charging!!!!!!\n",
      "charging!!!!!!\n",
      "charging!!!!!!\n",
      "charging!!!!!!\n",
      "charging!!!!!!\n"
     ]
    },
    {
     "name": "stderr",
     "output_type": "stream",
     "text": [
      "\r",
      " 77%|████████████████████████████████████████████████████████████▌                  | 766/1000 [24:37<07:49,  2.01s/it]"
     ]
    },
    {
     "name": "stdout",
     "output_type": "stream",
     "text": [
      "self.get_collection_ratio(): 0.16609299908851816\n",
      "self.state.all_commed: True\n",
      "charging!!!!!!\n",
      "charging!!!!!!\n"
     ]
    },
    {
     "name": "stderr",
     "output_type": "stream",
     "text": [
      "\r",
      " 77%|████████████████████████████████████████████████████████████▌                  | 767/1000 [24:38<07:06,  1.83s/it]"
     ]
    },
    {
     "name": "stdout",
     "output_type": "stream",
     "text": [
      "self.get_collection_ratio(): 0.09471012918218276\n",
      "self.state.all_commed: True\n",
      "charging!!!!!!\n",
      "charging!!!!!!\n"
     ]
    },
    {
     "name": "stderr",
     "output_type": "stream",
     "text": [
      "\r",
      " 77%|████████████████████████████████████████████████████████████▋                  | 768/1000 [24:40<06:37,  1.71s/it]"
     ]
    },
    {
     "name": "stdout",
     "output_type": "stream",
     "text": [
      "self.get_collection_ratio(): 0.11789926983963957\n",
      "self.state.all_commed: True\n",
      "charging!!!!!!\n",
      "charging!!!!!!\n",
      "charging!!!!!!\n",
      "charging!!!!!!\n"
     ]
    },
    {
     "name": "stderr",
     "output_type": "stream",
     "text": [
      "\r",
      " 77%|████████████████████████████████████████████████████████████▊                  | 769/1000 [24:42<06:57,  1.81s/it]"
     ]
    },
    {
     "name": "stdout",
     "output_type": "stream",
     "text": [
      "self.get_collection_ratio(): 0.14204722752817195\n",
      "self.state.all_commed: True\n",
      "charging!!!!!!\n",
      "charging!!!!!!\n",
      "charging!!!!!!\n",
      "charging!!!!!!\n"
     ]
    },
    {
     "name": "stderr",
     "output_type": "stream",
     "text": [
      "\r",
      " 77%|████████████████████████████████████████████████████████████▊                  | 770/1000 [24:44<07:08,  1.86s/it]"
     ]
    },
    {
     "name": "stdout",
     "output_type": "stream",
     "text": [
      "self.get_collection_ratio(): 0.14380491238800291\n",
      "self.state.all_commed: True\n",
      "charging!!!!!!\n",
      "charging!!!!!!\n",
      "charging!!!!!!\n",
      "charging!!!!!!\n",
      "charging!!!!!!\n",
      "charging!!!!!!\n"
     ]
    },
    {
     "name": "stderr",
     "output_type": "stream",
     "text": [
      "\r",
      " 77%|████████████████████████████████████████████████████████████▉                  | 771/1000 [24:46<07:55,  2.08s/it]"
     ]
    },
    {
     "name": "stdout",
     "output_type": "stream",
     "text": [
      "self.get_collection_ratio(): 0.20704710353387665\n",
      "self.state.all_commed: True\n",
      "charging!!!!!!\n",
      "charging!!!!!!\n",
      "charging!!!!!!\n",
      "charging!!!!!!\n",
      "charging!!!!!!\n",
      "charging!!!!!!\n"
     ]
    },
    {
     "name": "stderr",
     "output_type": "stream",
     "text": [
      "\r",
      " 77%|████████████████████████████████████████████████████████████▉                  | 772/1000 [24:49<08:20,  2.19s/it]"
     ]
    },
    {
     "name": "stdout",
     "output_type": "stream",
     "text": [
      "self.get_collection_ratio(): 0.14309395277320192\n",
      "self.state.all_commed: True\n",
      "charging!!!!!!\n",
      "charging!!!!!!\n",
      "charging!!!!!!\n",
      "charging!!!!!!\n"
     ]
    },
    {
     "name": "stderr",
     "output_type": "stream",
     "text": [
      "\r",
      " 77%|█████████████████████████████████████████████████████████████                  | 773/1000 [24:51<07:57,  2.10s/it]"
     ]
    },
    {
     "name": "stdout",
     "output_type": "stream",
     "text": [
      "self.get_collection_ratio(): 0.16407610300111866\n",
      "self.state.all_commed: True\n",
      "charging!!!!!!\n",
      "charging!!!!!!\n"
     ]
    },
    {
     "name": "stderr",
     "output_type": "stream",
     "text": [
      "\r",
      " 77%|█████████████████████████████████████████████████████████████▏                 | 774/1000 [24:52<07:03,  1.87s/it]"
     ]
    },
    {
     "name": "stdout",
     "output_type": "stream",
     "text": [
      "self.get_collection_ratio(): 0.11243135544678252\n",
      "self.state.all_commed: True\n",
      "charging!!!!!!\n",
      "charging!!!!!!\n"
     ]
    },
    {
     "name": "stderr",
     "output_type": "stream",
     "text": [
      "\r",
      " 78%|█████████████████████████████████████████████████████████████▏                 | 775/1000 [24:54<06:30,  1.74s/it]"
     ]
    },
    {
     "name": "stdout",
     "output_type": "stream",
     "text": [
      "self.get_collection_ratio(): 0.10999238624993579\n",
      "self.state.all_commed: True\n",
      "charging!!!!!!\n",
      "charging!!!!!!\n",
      "charging!!!!!!\n",
      "charging!!!!!!\n",
      "charging!!!!!!\n",
      "charging!!!!!!\n"
     ]
    },
    {
     "name": "stderr",
     "output_type": "stream",
     "text": [
      "\r",
      " 78%|█████████████████████████████████████████████████████████████▎                 | 776/1000 [24:56<07:16,  1.95s/it]"
     ]
    },
    {
     "name": "stdout",
     "output_type": "stream",
     "text": [
      "self.get_collection_ratio(): 0.1866111156389316\n",
      "self.state.all_commed: True\n",
      "charging!!!!!!\n",
      "charging!!!!!!\n",
      "charging!!!!!!\n",
      "charging!!!!!!\n",
      "charging!!!!!!\n",
      "charging!!!!!!\n"
     ]
    },
    {
     "name": "stderr",
     "output_type": "stream",
     "text": [
      "\r",
      " 78%|█████████████████████████████████████████████████████████████▍                 | 777/1000 [24:58<07:46,  2.09s/it]"
     ]
    },
    {
     "name": "stdout",
     "output_type": "stream",
     "text": [
      "self.get_collection_ratio(): 0.15540672896658225\n",
      "self.state.all_commed: True\n",
      "charging!!!!!!\n",
      "charging!!!!!!\n"
     ]
    },
    {
     "name": "stderr",
     "output_type": "stream",
     "text": [
      "\r",
      " 78%|█████████████████████████████████████████████████████████████▍                 | 778/1000 [25:00<07:04,  1.91s/it]"
     ]
    },
    {
     "name": "stdout",
     "output_type": "stream",
     "text": [
      "self.get_collection_ratio(): 0.09280485051697743\n",
      "self.state.all_commed: True\n",
      "charging!!!!!!\n",
      "charging!!!!!!\n"
     ]
    },
    {
     "name": "stderr",
     "output_type": "stream",
     "text": [
      "\r",
      " 78%|█████████████████████████████████████████████████████████████▌                 | 779/1000 [25:01<06:31,  1.77s/it]"
     ]
    },
    {
     "name": "stdout",
     "output_type": "stream",
     "text": [
      "self.get_collection_ratio(): 0.08701071424564728\n",
      "self.state.all_commed: True\n",
      "charging!!!!!!\n",
      "charging!!!!!!\n",
      "charging!!!!!!\n",
      "charging!!!!!!\n"
     ]
    },
    {
     "name": "stderr",
     "output_type": "stream",
     "text": [
      "\r",
      " 78%|█████████████████████████████████████████████████████████████▌                 | 780/1000 [25:03<06:50,  1.86s/it]"
     ]
    },
    {
     "name": "stdout",
     "output_type": "stream",
     "text": [
      "self.get_collection_ratio(): 0.15331207253464113\n",
      "self.state.all_commed: True\n",
      "charging!!!!!!\n",
      "charging!!!!!!\n"
     ]
    },
    {
     "name": "stderr",
     "output_type": "stream",
     "text": [
      "\r",
      " 78%|█████████████████████████████████████████████████████████████▋                 | 781/1000 [25:05<06:20,  1.74s/it]"
     ]
    },
    {
     "name": "stdout",
     "output_type": "stream",
     "text": [
      "self.get_collection_ratio(): 0.10506875094131357\n",
      "self.state.all_commed: True\n",
      "charging!!!!!!\n",
      "charging!!!!!!\n",
      "charging!!!!!!\n",
      "charging!!!!!!\n"
     ]
    },
    {
     "name": "stderr",
     "output_type": "stream",
     "text": [
      "\r",
      " 78%|█████████████████████████████████████████████████████████████▊                 | 782/1000 [25:07<06:37,  1.82s/it]"
     ]
    },
    {
     "name": "stdout",
     "output_type": "stream",
     "text": [
      "self.get_collection_ratio(): 0.17517441261098335\n",
      "self.state.all_commed: True\n",
      "charging!!!!!!\n",
      "charging!!!!!!\n"
     ]
    },
    {
     "name": "stderr",
     "output_type": "stream",
     "text": [
      "\r",
      " 78%|█████████████████████████████████████████████████████████████▊                 | 783/1000 [25:08<06:11,  1.71s/it]"
     ]
    },
    {
     "name": "stdout",
     "output_type": "stream",
     "text": [
      "self.get_collection_ratio(): 0.0865708029141719\n",
      "self.state.all_commed: True\n",
      "charging!!!!!!\n",
      "charging!!!!!!\n",
      "charging!!!!!!\n",
      "charging!!!!!!\n"
     ]
    },
    {
     "name": "stderr",
     "output_type": "stream",
     "text": [
      "\r",
      " 78%|█████████████████████████████████████████████████████████████▉                 | 784/1000 [25:10<06:26,  1.79s/it]"
     ]
    },
    {
     "name": "stdout",
     "output_type": "stream",
     "text": [
      "self.get_collection_ratio(): 0.1605755169988524\n",
      "self.state.all_commed: True\n",
      "charging!!!!!!\n",
      "charging!!!!!!\n"
     ]
    },
    {
     "name": "stderr",
     "output_type": "stream",
     "text": [
      "\r",
      " 78%|██████████████████████████████████████████████████████████████                 | 785/1000 [25:12<06:04,  1.70s/it]"
     ]
    },
    {
     "name": "stdout",
     "output_type": "stream",
     "text": [
      "self.get_collection_ratio(): 0.09534700026544332\n",
      "self.state.all_commed: True\n",
      "charging!!!!!!\n",
      "charging!!!!!!\n",
      "charging!!!!!!\n",
      "charging!!!!!!\n",
      "charging!!!!!!\n",
      "charging!!!!!!\n"
     ]
    },
    {
     "name": "stderr",
     "output_type": "stream",
     "text": [
      "\r",
      " 79%|██████████████████████████████████████████████████████████████                 | 786/1000 [25:14<06:54,  1.94s/it]"
     ]
    },
    {
     "name": "stdout",
     "output_type": "stream",
     "text": [
      "self.get_collection_ratio(): 0.21598211038637397\n",
      "self.state.all_commed: True\n",
      "charging!!!!!!\n",
      "charging!!!!!!\n",
      "charging!!!!!!\n",
      "charging!!!!!!\n",
      "charging!!!!!!\n",
      "charging!!!!!!\n"
     ]
    },
    {
     "name": "stderr",
     "output_type": "stream",
     "text": [
      "\r",
      " 79%|██████████████████████████████████████████████████████████████▏                | 787/1000 [25:17<07:28,  2.11s/it]"
     ]
    },
    {
     "name": "stdout",
     "output_type": "stream",
     "text": [
      "self.get_collection_ratio(): 0.1540821636727493\n",
      "self.state.all_commed: True\n",
      "charging!!!!!!\n",
      "charging!!!!!!\n",
      "charging!!!!!!\n",
      "charging!!!!!!\n"
     ]
    },
    {
     "name": "stderr",
     "output_type": "stream",
     "text": [
      "\r",
      " 79%|██████████████████████████████████████████████████████████████▎                | 788/1000 [25:19<07:15,  2.05s/it]"
     ]
    },
    {
     "name": "stdout",
     "output_type": "stream",
     "text": [
      "self.get_collection_ratio(): 0.13404993945254984\n",
      "self.state.all_commed: True\n",
      "charging!!!!!!\n",
      "charging!!!!!!\n"
     ]
    },
    {
     "name": "stderr",
     "output_type": "stream",
     "text": [
      "\r",
      " 79%|██████████████████████████████████████████████████████████████▎                | 789/1000 [25:20<06:36,  1.88s/it]"
     ]
    },
    {
     "name": "stdout",
     "output_type": "stream",
     "text": [
      "self.get_collection_ratio(): 0.0811012951713008\n",
      "self.state.all_commed: True\n",
      "charging!!!!!!\n",
      "charging!!!!!!\n"
     ]
    },
    {
     "name": "stderr",
     "output_type": "stream",
     "text": [
      "\r",
      " 79%|██████████████████████████████████████████████████████████████▍                | 790/1000 [25:22<06:13,  1.78s/it]"
     ]
    },
    {
     "name": "stdout",
     "output_type": "stream",
     "text": [
      "self.get_collection_ratio(): 0.11954380736264443\n",
      "self.state.all_commed: True\n",
      "charging!!!!!!\n",
      "charging!!!!!!\n",
      "charging!!!!!!\n",
      "charging!!!!!!\n"
     ]
    },
    {
     "name": "stderr",
     "output_type": "stream",
     "text": [
      "\r",
      " 79%|██████████████████████████████████████████████████████████████▍                | 791/1000 [25:24<06:25,  1.85s/it]"
     ]
    },
    {
     "name": "stdout",
     "output_type": "stream",
     "text": [
      "self.get_collection_ratio(): 0.17612212059505092\n",
      "self.state.all_commed: True\n",
      "charging!!!!!!\n",
      "charging!!!!!!\n",
      "charging!!!!!!\n",
      "charging!!!!!!\n"
     ]
    },
    {
     "name": "stderr",
     "output_type": "stream",
     "text": [
      "\r",
      " 79%|██████████████████████████████████████████████████████████████▌                | 792/1000 [25:26<06:28,  1.87s/it]"
     ]
    },
    {
     "name": "stdout",
     "output_type": "stream",
     "text": [
      "self.get_collection_ratio(): 0.14530752478397702\n",
      "self.state.all_commed: True\n",
      "charging!!!!!!\n",
      "charging!!!!!!\n",
      "charging!!!!!!\n",
      "charging!!!!!!\n"
     ]
    },
    {
     "name": "stderr",
     "output_type": "stream",
     "text": [
      "\r",
      " 79%|██████████████████████████████████████████████████████████████▋                | 793/1000 [25:28<06:29,  1.88s/it]"
     ]
    },
    {
     "name": "stdout",
     "output_type": "stream",
     "text": [
      "self.get_collection_ratio(): 0.1421667423249682\n",
      "self.state.all_commed: True\n",
      "charging!!!!!!\n",
      "charging!!!!!!\n"
     ]
    },
    {
     "name": "stderr",
     "output_type": "stream",
     "text": [
      "\r",
      " 79%|██████████████████████████████████████████████████████████████▋                | 794/1000 [25:29<05:55,  1.73s/it]"
     ]
    },
    {
     "name": "stdout",
     "output_type": "stream",
     "text": [
      "self.get_collection_ratio(): 0.12220680863555076\n",
      "self.state.all_commed: True\n",
      "charging!!!!!!\n",
      "charging!!!!!!\n",
      "charging!!!!!!\n",
      "charging!!!!!!\n"
     ]
    },
    {
     "name": "stderr",
     "output_type": "stream",
     "text": [
      "\r",
      " 80%|██████████████████████████████████████████████████████████████▊                | 795/1000 [25:31<06:01,  1.76s/it]"
     ]
    },
    {
     "name": "stdout",
     "output_type": "stream",
     "text": [
      "self.get_collection_ratio(): 0.1796363127098107\n",
      "self.state.all_commed: True\n",
      "charging!!!!!!\n",
      "charging!!!!!!\n",
      "charging!!!!!!\n",
      "charging!!!!!!\n",
      "charging!!!!!!\n",
      "charging!!!!!!\n"
     ]
    },
    {
     "name": "stderr",
     "output_type": "stream",
     "text": [
      "\r",
      " 80%|██████████████████████████████████████████████████████████████▉                | 796/1000 [25:33<06:38,  1.95s/it]"
     ]
    },
    {
     "name": "stdout",
     "output_type": "stream",
     "text": [
      "self.get_collection_ratio(): 0.19095162818513722\n",
      "self.state.all_commed: True\n",
      "charging!!!!!!\n",
      "charging!!!!!!\n"
     ]
    },
    {
     "name": "stderr",
     "output_type": "stream",
     "text": [
      "\r",
      " 80%|██████████████████████████████████████████████████████████████▉                | 797/1000 [25:35<06:00,  1.78s/it]"
     ]
    },
    {
     "name": "stdout",
     "output_type": "stream",
     "text": [
      "self.get_collection_ratio(): 0.06998534825848456\n",
      "self.state.all_commed: True\n",
      "charging!!!!!!\n",
      "charging!!!!!!\n",
      "charging!!!!!!\n",
      "charging!!!!!!\n",
      "charging!!!!!!\n",
      "charging!!!!!!\n"
     ]
    },
    {
     "name": "stderr",
     "output_type": "stream",
     "text": [
      "\r",
      " 80%|███████████████████████████████████████████████████████████████                | 798/1000 [25:37<06:34,  1.96s/it]"
     ]
    },
    {
     "name": "stdout",
     "output_type": "stream",
     "text": [
      "self.get_collection_ratio(): 0.17161248794496892\n",
      "self.state.all_commed: True\n",
      "charging!!!!!!\n",
      "charging!!!!!!\n",
      "charging!!!!!!\n",
      "charging!!!!!!\n"
     ]
    },
    {
     "name": "stderr",
     "output_type": "stream",
     "text": [
      "\r",
      " 80%|███████████████████████████████████████████████████████████████                | 799/1000 [25:39<06:24,  1.91s/it]"
     ]
    },
    {
     "name": "stdout",
     "output_type": "stream",
     "text": [
      "self.get_collection_ratio(): 0.1494112524270166\n",
      "self.state.all_commed: True\n",
      "charging!!!!!!\n",
      "charging!!!!!!\n",
      "charging!!!!!!\n",
      "charging!!!!!!\n"
     ]
    },
    {
     "name": "stderr",
     "output_type": "stream",
     "text": [
      "\r",
      " 80%|███████████████████████████████████████████████████████████████▏               | 800/1000 [25:41<06:24,  1.92s/it]"
     ]
    },
    {
     "name": "stdout",
     "output_type": "stream",
     "text": [
      "self.get_collection_ratio(): 0.14226047881535725\n",
      "self.state.all_commed: True\n",
      "charging!!!!!!\n",
      "charging!!!!!!\n",
      "charging!!!!!!\n",
      "charging!!!!!!\n",
      "charging!!!!!!\n",
      "charging!!!!!!\n"
     ]
    },
    {
     "name": "stderr",
     "output_type": "stream",
     "text": [
      "\r",
      " 80%|███████████████████████████████████████████████████████████████▎               | 801/1000 [25:43<06:48,  2.05s/it]"
     ]
    },
    {
     "name": "stdout",
     "output_type": "stream",
     "text": [
      "self.get_collection_ratio(): 0.19380581153876217\n",
      "self.state.all_commed: True\n",
      "charging!!!!!!\n",
      "charging!!!!!!\n",
      "charging!!!!!!\n",
      "charging!!!!!!\n",
      "charging!!!!!!\n",
      "charging!!!!!!\n"
     ]
    },
    {
     "name": "stderr",
     "output_type": "stream",
     "text": [
      "\r",
      " 80%|███████████████████████████████████████████████████████████████▎               | 802/1000 [25:45<07:07,  2.16s/it]"
     ]
    },
    {
     "name": "stdout",
     "output_type": "stream",
     "text": [
      "self.get_collection_ratio(): 0.2150134056943111\n",
      "self.state.all_commed: True\n",
      "charging!!!!!!\n",
      "charging!!!!!!\n"
     ]
    },
    {
     "name": "stderr",
     "output_type": "stream",
     "text": [
      "\r",
      " 80%|███████████████████████████████████████████████████████████████▍               | 803/1000 [25:47<06:12,  1.89s/it]"
     ]
    },
    {
     "name": "stdout",
     "output_type": "stream",
     "text": [
      "self.get_collection_ratio(): 0.08186504840921839\n",
      "self.state.all_commed: True\n",
      "charging!!!!!!\n",
      "charging!!!!!!\n",
      "charging!!!!!!\n",
      "charging!!!!!!\n",
      "charging!!!!!!\n",
      "charging!!!!!!\n"
     ]
    },
    {
     "name": "stderr",
     "output_type": "stream",
     "text": [
      "\r",
      " 80%|███████████████████████████████████████████████████████████████▌               | 804/1000 [25:49<06:38,  2.03s/it]"
     ]
    },
    {
     "name": "stdout",
     "output_type": "stream",
     "text": [
      "self.get_collection_ratio(): 0.17717448916605824\n",
      "self.state.all_commed: True\n",
      "charging!!!!!!\n",
      "charging!!!!!!\n"
     ]
    },
    {
     "name": "stderr",
     "output_type": "stream",
     "text": [
      "\r",
      " 80%|███████████████████████████████████████████████████████████████▌               | 805/1000 [25:51<05:58,  1.84s/it]"
     ]
    },
    {
     "name": "stdout",
     "output_type": "stream",
     "text": [
      "self.get_collection_ratio(): 0.09718575396904196\n",
      "self.state.all_commed: True\n",
      "charging!!!!!!\n",
      "charging!!!!!!\n",
      "charging!!!!!!\n",
      "charging!!!!!!\n"
     ]
    },
    {
     "name": "stderr",
     "output_type": "stream",
     "text": [
      "\r",
      " 81%|███████████████████████████████████████████████████████████████▋               | 806/1000 [25:52<05:59,  1.85s/it]"
     ]
    },
    {
     "name": "stdout",
     "output_type": "stream",
     "text": [
      "self.get_collection_ratio(): 0.15244184563940086\n",
      "self.state.all_commed: True\n",
      "charging!!!!!!\n",
      "charging!!!!!!\n"
     ]
    },
    {
     "name": "stderr",
     "output_type": "stream",
     "text": [
      "\r",
      " 81%|███████████████████████████████████████████████████████████████▊               | 807/1000 [25:54<05:29,  1.71s/it]"
     ]
    },
    {
     "name": "stdout",
     "output_type": "stream",
     "text": [
      "self.get_collection_ratio(): 0.07139323822623629\n",
      "self.state.all_commed: True\n",
      "charging!!!!!!\n",
      "charging!!!!!!\n"
     ]
    },
    {
     "name": "stderr",
     "output_type": "stream",
     "text": [
      "\r",
      " 81%|███████████████████████████████████████████████████████████████▊               | 808/1000 [25:55<05:07,  1.60s/it]"
     ]
    },
    {
     "name": "stdout",
     "output_type": "stream",
     "text": [
      "self.get_collection_ratio(): 0.09643868618728887\n",
      "self.state.all_commed: True\n",
      "charging!!!!!!\n",
      "charging!!!!!!\n",
      "charging!!!!!!\n",
      "charging!!!!!!\n"
     ]
    },
    {
     "name": "stderr",
     "output_type": "stream",
     "text": [
      "\r",
      " 81%|███████████████████████████████████████████████████████████████▉               | 809/1000 [25:57<05:21,  1.68s/it]"
     ]
    },
    {
     "name": "stdout",
     "output_type": "stream",
     "text": [
      "self.get_collection_ratio(): 0.1443103530568383\n",
      "self.state.all_commed: True\n",
      "charging!!!!!!\n",
      "charging!!!!!!\n"
     ]
    },
    {
     "name": "stderr",
     "output_type": "stream",
     "text": [
      "\r",
      " 81%|███████████████████████████████████████████████████████████████▉               | 810/1000 [25:58<05:03,  1.59s/it]"
     ]
    },
    {
     "name": "stdout",
     "output_type": "stream",
     "text": [
      "self.get_collection_ratio(): 0.08785788885358266\n",
      "self.state.all_commed: True\n",
      "charging!!!!!!\n",
      "charging!!!!!!\n",
      "charging!!!!!!\n",
      "charging!!!!!!\n",
      "charging!!!!!!\n",
      "charging!!!!!!\n"
     ]
    },
    {
     "name": "stderr",
     "output_type": "stream",
     "text": [
      "\r",
      " 81%|████████████████████████████████████████████████████████████████               | 811/1000 [26:01<05:47,  1.84s/it]"
     ]
    },
    {
     "name": "stdout",
     "output_type": "stream",
     "text": [
      "self.get_collection_ratio(): 0.18943076328646105\n",
      "self.state.all_commed: True\n",
      "charging!!!!!!\n",
      "charging!!!!!!\n",
      "charging!!!!!!\n",
      "charging!!!!!!\n",
      "charging!!!!!!\n",
      "charging!!!!!!\n"
     ]
    },
    {
     "name": "stderr",
     "output_type": "stream",
     "text": [
      "\r",
      " 81%|████████████████████████████████████████████████████████████████▏              | 812/1000 [26:03<06:23,  2.04s/it]"
     ]
    },
    {
     "name": "stdout",
     "output_type": "stream",
     "text": [
      "self.get_collection_ratio(): 0.18958335391061348\n",
      "self.state.all_commed: True\n",
      "charging!!!!!!\n",
      "charging!!!!!!\n"
     ]
    },
    {
     "name": "stderr",
     "output_type": "stream",
     "text": [
      "\r",
      " 81%|████████████████████████████████████████████████████████████████▏              | 813/1000 [26:05<05:40,  1.82s/it]"
     ]
    },
    {
     "name": "stdout",
     "output_type": "stream",
     "text": [
      "self.get_collection_ratio(): 0.08255469211185593\n",
      "self.state.all_commed: True\n",
      "charging!!!!!!\n",
      "charging!!!!!!\n",
      "charging!!!!!!\n",
      "charging!!!!!!\n",
      "charging!!!!!!\n",
      "charging!!!!!!\n"
     ]
    },
    {
     "name": "stderr",
     "output_type": "stream",
     "text": [
      "\r",
      " 81%|████████████████████████████████████████████████████████████████▎              | 814/1000 [26:07<06:19,  2.04s/it]"
     ]
    },
    {
     "name": "stdout",
     "output_type": "stream",
     "text": [
      "self.get_collection_ratio(): 0.16128520626732007\n",
      "self.state.all_commed: True\n",
      "charging!!!!!!\n",
      "charging!!!!!!\n",
      "charging!!!!!!\n",
      "charging!!!!!!\n"
     ]
    },
    {
     "name": "stderr",
     "output_type": "stream",
     "text": [
      "\r",
      " 82%|████████████████████████████████████████████████████████████████▍              | 815/1000 [26:09<06:11,  2.01s/it]"
     ]
    },
    {
     "name": "stdout",
     "output_type": "stream",
     "text": [
      "self.get_collection_ratio(): 0.18393526290328913\n",
      "self.state.all_commed: True\n",
      "charging!!!!!!\n",
      "charging!!!!!!\n",
      "charging!!!!!!\n",
      "charging!!!!!!\n",
      "charging!!!!!!\n",
      "charging!!!!!!\n"
     ]
    },
    {
     "name": "stderr",
     "output_type": "stream",
     "text": [
      "\r",
      " 82%|████████████████████████████████████████████████████████████████▍              | 816/1000 [26:12<06:32,  2.13s/it]"
     ]
    },
    {
     "name": "stdout",
     "output_type": "stream",
     "text": [
      "self.get_collection_ratio(): 0.21001659563216454\n",
      "self.state.all_commed: True\n",
      "charging!!!!!!\n",
      "charging!!!!!!\n",
      "charging!!!!!!\n",
      "charging!!!!!!\n"
     ]
    },
    {
     "name": "stderr",
     "output_type": "stream",
     "text": [
      "\r",
      " 82%|████████████████████████████████████████████████████████████████▌              | 817/1000 [26:13<06:17,  2.06s/it]"
     ]
    },
    {
     "name": "stdout",
     "output_type": "stream",
     "text": [
      "self.get_collection_ratio(): 0.16189834519584417\n",
      "self.state.all_commed: True\n",
      "charging!!!!!!\n",
      "charging!!!!!!\n",
      "charging!!!!!!\n",
      "charging!!!!!!\n"
     ]
    },
    {
     "name": "stderr",
     "output_type": "stream",
     "text": [
      "\r",
      " 82%|████████████████████████████████████████████████████████████████▌              | 818/1000 [26:15<06:09,  2.03s/it]"
     ]
    },
    {
     "name": "stdout",
     "output_type": "stream",
     "text": [
      "self.get_collection_ratio(): 0.13438485648203344\n",
      "self.state.all_commed: True\n",
      "charging!!!!!!\n",
      "charging!!!!!!\n",
      "charging!!!!!!\n",
      "charging!!!!!!\n"
     ]
    },
    {
     "name": "stderr",
     "output_type": "stream",
     "text": [
      "\r",
      " 82%|████████████████████████████████████████████████████████████████▋              | 819/1000 [26:17<06:01,  1.99s/it]"
     ]
    },
    {
     "name": "stdout",
     "output_type": "stream",
     "text": [
      "self.get_collection_ratio(): 0.1341713211930776\n",
      "self.state.all_commed: True\n",
      "charging!!!!!!\n",
      "charging!!!!!!\n",
      "charging!!!!!!\n",
      "charging!!!!!!\n",
      "charging!!!!!!\n",
      "empty battery!\n"
     ]
    },
    {
     "name": "stderr",
     "output_type": "stream",
     "text": [
      "\r",
      " 82%|████████████████████████████████████████████████████████████████▊              | 820/1000 [26:20<06:15,  2.09s/it]"
     ]
    },
    {
     "name": "stdout",
     "output_type": "stream",
     "text": [
      "self.get_collection_ratio(): 0.20868681631285274\n",
      "self.state.all_commed: False\n",
      "charging!!!!!!\n",
      "charging!!!!!!\n"
     ]
    },
    {
     "name": "stderr",
     "output_type": "stream",
     "text": [
      "\r",
      " 82%|████████████████████████████████████████████████████████████████▊              | 821/1000 [26:21<05:30,  1.85s/it]"
     ]
    },
    {
     "name": "stdout",
     "output_type": "stream",
     "text": [
      "self.get_collection_ratio(): 0.0792091211959497\n",
      "self.state.all_commed: True\n",
      "charging!!!!!!\n",
      "charging!!!!!!\n",
      "charging!!!!!!\n",
      "charging!!!!!!\n",
      "charging!!!!!!\n",
      "charging!!!!!!\n"
     ]
    },
    {
     "name": "stderr",
     "output_type": "stream",
     "text": [
      "\r",
      " 82%|████████████████████████████████████████████████████████████████▉              | 822/1000 [26:23<06:00,  2.02s/it]"
     ]
    },
    {
     "name": "stdout",
     "output_type": "stream",
     "text": [
      "self.get_collection_ratio(): 0.20969473080600623\n",
      "self.state.all_commed: True\n",
      "charging!!!!!!\n",
      "charging!!!!!!\n"
     ]
    },
    {
     "name": "stderr",
     "output_type": "stream",
     "text": [
      "\r",
      " 82%|█████████████████████████████████████████████████████████████████              | 823/1000 [26:25<05:23,  1.83s/it]"
     ]
    },
    {
     "name": "stdout",
     "output_type": "stream",
     "text": [
      "self.get_collection_ratio(): 0.07703060500298009\n",
      "self.state.all_commed: True\n",
      "charging!!!!!!\n",
      "charging!!!!!!\n"
     ]
    },
    {
     "name": "stderr",
     "output_type": "stream",
     "text": [
      "\r",
      " 82%|█████████████████████████████████████████████████████████████████              | 824/1000 [26:26<04:56,  1.68s/it]"
     ]
    },
    {
     "name": "stdout",
     "output_type": "stream",
     "text": [
      "self.get_collection_ratio(): 0.08415694172951801\n",
      "self.state.all_commed: True\n",
      "charging!!!!!!\n",
      "charging!!!!!!\n"
     ]
    },
    {
     "name": "stderr",
     "output_type": "stream",
     "text": [
      "\r",
      " 82%|█████████████████████████████████████████████████████████████████▏             | 825/1000 [26:27<04:38,  1.59s/it]"
     ]
    },
    {
     "name": "stdout",
     "output_type": "stream",
     "text": [
      "self.get_collection_ratio(): 0.0940821367588809\n",
      "self.state.all_commed: True\n",
      "charging!!!!!!\n",
      "charging!!!!!!\n",
      "charging!!!!!!\n",
      "charging!!!!!!\n"
     ]
    },
    {
     "name": "stderr",
     "output_type": "stream",
     "text": [
      "\r",
      " 83%|█████████████████████████████████████████████████████████████████▎             | 826/1000 [26:29<04:55,  1.70s/it]"
     ]
    },
    {
     "name": "stdout",
     "output_type": "stream",
     "text": [
      "self.get_collection_ratio(): 0.14964762225239484\n",
      "self.state.all_commed: True\n",
      "charging!!!!!!\n",
      "charging!!!!!!\n",
      "charging!!!!!!\n",
      "charging!!!!!!\n"
     ]
    },
    {
     "name": "stderr",
     "output_type": "stream",
     "text": [
      "\r",
      " 83%|█████████████████████████████████████████████████████████████████▎             | 827/1000 [26:31<05:11,  1.80s/it]"
     ]
    },
    {
     "name": "stdout",
     "output_type": "stream",
     "text": [
      "self.get_collection_ratio(): 0.1548327544139803\n",
      "self.state.all_commed: True\n",
      "charging!!!!!!\n",
      "charging!!!!!!\n"
     ]
    },
    {
     "name": "stderr",
     "output_type": "stream",
     "text": [
      "\r",
      " 83%|█████████████████████████████████████████████████████████████████▍             | 828/1000 [26:33<04:53,  1.70s/it]"
     ]
    },
    {
     "name": "stdout",
     "output_type": "stream",
     "text": [
      "self.get_collection_ratio(): 0.12622323284697876\n",
      "self.state.all_commed: True\n",
      "charging!!!!!!\n",
      "charging!!!!!!\n",
      "charging!!!!!!\n",
      "charging!!!!!!\n",
      "charging!!!!!!\n",
      "charging!!!!!!\n"
     ]
    },
    {
     "name": "stderr",
     "output_type": "stream",
     "text": [
      "\r",
      " 83%|█████████████████████████████████████████████████████████████████▍             | 829/1000 [26:35<05:32,  1.94s/it]"
     ]
    },
    {
     "name": "stdout",
     "output_type": "stream",
     "text": [
      "self.get_collection_ratio(): 0.15706358680218355\n",
      "self.state.all_commed: True\n",
      "charging!!!!!!\n",
      "charging!!!!!!\n",
      "charging!!!!!!\n",
      "charging!!!!!!\n",
      "charging!!!!!!\n",
      "charging!!!!!!\n"
     ]
    },
    {
     "name": "stderr",
     "output_type": "stream",
     "text": [
      "\r",
      " 83%|█████████████████████████████████████████████████████████████████▌             | 830/1000 [26:38<06:00,  2.12s/it]"
     ]
    },
    {
     "name": "stdout",
     "output_type": "stream",
     "text": [
      "self.get_collection_ratio(): 0.2183931916286594\n",
      "self.state.all_commed: True\n",
      "charging!!!!!!\n",
      "charging!!!!!!\n"
     ]
    },
    {
     "name": "stderr",
     "output_type": "stream",
     "text": [
      "\r",
      " 83%|█████████████████████████████████████████████████████████████████▋             | 831/1000 [26:39<05:22,  1.91s/it]"
     ]
    },
    {
     "name": "stdout",
     "output_type": "stream",
     "text": [
      "self.get_collection_ratio(): 0.1055409201372568\n",
      "self.state.all_commed: True\n",
      "charging!!!!!!\n",
      "charging!!!!!!\n",
      "charging!!!!!!\n",
      "charging!!!!!!\n",
      "charging!!!!!!\n",
      "charging!!!!!!\n"
     ]
    },
    {
     "name": "stderr",
     "output_type": "stream",
     "text": [
      "\r",
      " 83%|█████████████████████████████████████████████████████████████████▋             | 832/1000 [26:42<05:48,  2.07s/it]"
     ]
    },
    {
     "name": "stdout",
     "output_type": "stream",
     "text": [
      "self.get_collection_ratio(): 0.15775219831341897\n",
      "self.state.all_commed: True\n",
      "charging!!!!!!\n",
      "charging!!!!!!\n",
      "charging!!!!!!\n",
      "charging!!!!!!\n"
     ]
    },
    {
     "name": "stderr",
     "output_type": "stream",
     "text": [
      "\r",
      " 83%|█████████████████████████████████████████████████████████████████▊             | 833/1000 [26:52<12:54,  4.64s/it]"
     ]
    },
    {
     "name": "stdout",
     "output_type": "stream",
     "text": [
      "self.get_collection_ratio(): 0.17020883084904093\n",
      "self.state.all_commed: True\n",
      "charging!!!!!!\n",
      "charging!!!!!!\n"
     ]
    },
    {
     "name": "stderr",
     "output_type": "stream",
     "text": [
      "\r",
      " 83%|█████████████████████████████████████████████████████████████████▉             | 834/1000 [26:54<10:11,  3.68s/it]"
     ]
    },
    {
     "name": "stdout",
     "output_type": "stream",
     "text": [
      "self.get_collection_ratio(): 0.11030952163491181\n",
      "self.state.all_commed: True\n",
      "charging!!!!!!\n",
      "charging!!!!!!\n",
      "charging!!!!!!\n",
      "charging!!!!!!\n",
      "charging!!!!!!\n",
      "charging!!!!!!\n"
     ]
    },
    {
     "name": "stderr",
     "output_type": "stream",
     "text": [
      "\r",
      " 84%|█████████████████████████████████████████████████████████████████▉             | 835/1000 [26:56<09:08,  3.32s/it]"
     ]
    },
    {
     "name": "stdout",
     "output_type": "stream",
     "text": [
      "self.get_collection_ratio(): 0.17640530691041947\n",
      "self.state.all_commed: True\n",
      "charging!!!!!!\n",
      "charging!!!!!!\n",
      "charging!!!!!!\n",
      "charging!!!!!!\n",
      "charging!!!!!!\n",
      "charging!!!!!!\n"
     ]
    },
    {
     "name": "stderr",
     "output_type": "stream",
     "text": [
      "\r",
      " 84%|██████████████████████████████████████████████████████████████████             | 836/1000 [26:59<08:18,  3.04s/it]"
     ]
    },
    {
     "name": "stdout",
     "output_type": "stream",
     "text": [
      "self.get_collection_ratio(): 0.17519792468312784\n",
      "self.state.all_commed: True\n",
      "charging!!!!!!\n",
      "charging!!!!!!\n",
      "charging!!!!!!\n",
      "charging!!!!!!\n"
     ]
    },
    {
     "name": "stderr",
     "output_type": "stream",
     "text": [
      "\r",
      " 84%|██████████████████████████████████████████████████████████████████             | 837/1000 [27:01<07:18,  2.69s/it]"
     ]
    },
    {
     "name": "stdout",
     "output_type": "stream",
     "text": [
      "self.get_collection_ratio(): 0.14131159832671153\n",
      "self.state.all_commed: True\n",
      "charging!!!!!!\n",
      "charging!!!!!!\n",
      "charging!!!!!!\n",
      "charging!!!!!!\n"
     ]
    },
    {
     "name": "stderr",
     "output_type": "stream",
     "text": [
      "\r",
      " 84%|██████████████████████████████████████████████████████████████████▏            | 838/1000 [27:02<06:34,  2.43s/it]"
     ]
    },
    {
     "name": "stdout",
     "output_type": "stream",
     "text": [
      "self.get_collection_ratio(): 0.19395621898561843\n",
      "self.state.all_commed: True\n",
      "charging!!!!!!\n",
      "charging!!!!!!\n",
      "charging!!!!!!\n",
      "charging!!!!!!\n"
     ]
    },
    {
     "name": "stderr",
     "output_type": "stream",
     "text": [
      "\r",
      " 84%|██████████████████████████████████████████████████████████████████▎            | 839/1000 [27:04<06:02,  2.25s/it]"
     ]
    },
    {
     "name": "stdout",
     "output_type": "stream",
     "text": [
      "self.get_collection_ratio(): 0.12696623852488884\n",
      "self.state.all_commed: True\n",
      "charging!!!!!!\n",
      "charging!!!!!!\n"
     ]
    },
    {
     "name": "stderr",
     "output_type": "stream",
     "text": [
      "\r",
      " 84%|██████████████████████████████████████████████████████████████████▎            | 840/1000 [27:06<05:16,  1.98s/it]"
     ]
    },
    {
     "name": "stdout",
     "output_type": "stream",
     "text": [
      "self.get_collection_ratio(): 0.10356937081327604\n",
      "self.state.all_commed: True\n",
      "charging!!!!!!\n",
      "charging!!!!!!\n",
      "charging!!!!!!\n",
      "charging!!!!!!\n",
      "charging!!!!!!\n",
      "charging!!!!!!\n"
     ]
    },
    {
     "name": "stderr",
     "output_type": "stream",
     "text": [
      "\r",
      " 84%|██████████████████████████████████████████████████████████████████▍            | 841/1000 [27:08<05:34,  2.10s/it]"
     ]
    },
    {
     "name": "stdout",
     "output_type": "stream",
     "text": [
      "self.get_collection_ratio(): 0.168530816225769\n",
      "self.state.all_commed: True\n",
      "charging!!!!!!\n",
      "charging!!!!!!\n",
      "charging!!!!!!\n",
      "charging!!!!!!\n",
      "charging!!!!!!\n",
      "charging!!!!!!\n"
     ]
    },
    {
     "name": "stderr",
     "output_type": "stream",
     "text": [
      "\r",
      " 84%|██████████████████████████████████████████████████████████████████▌            | 842/1000 [27:11<05:53,  2.24s/it]"
     ]
    },
    {
     "name": "stdout",
     "output_type": "stream",
     "text": [
      "self.get_collection_ratio(): 0.14595346685916208\n",
      "self.state.all_commed: True\n",
      "charging!!!!!!\n",
      "charging!!!!!!\n"
     ]
    },
    {
     "name": "stderr",
     "output_type": "stream",
     "text": [
      "\r",
      " 84%|██████████████████████████████████████████████████████████████████▌            | 843/1000 [27:12<05:14,  2.00s/it]"
     ]
    },
    {
     "name": "stdout",
     "output_type": "stream",
     "text": [
      "self.get_collection_ratio(): 0.08259909491466817\n",
      "self.state.all_commed: True\n",
      "charging!!!!!!\n",
      "charging!!!!!!\n"
     ]
    },
    {
     "name": "stderr",
     "output_type": "stream",
     "text": [
      "\r",
      " 84%|██████████████████████████████████████████████████████████████████▋            | 844/1000 [27:13<04:44,  1.83s/it]"
     ]
    },
    {
     "name": "stdout",
     "output_type": "stream",
     "text": [
      "self.get_collection_ratio(): 0.1338046815196989\n",
      "self.state.all_commed: True\n",
      "charging!!!!!!\n",
      "charging!!!!!!\n"
     ]
    },
    {
     "name": "stderr",
     "output_type": "stream",
     "text": [
      "\r",
      " 84%|██████████████████████████████████████████████████████████████████▊            | 845/1000 [27:15<04:30,  1.74s/it]"
     ]
    },
    {
     "name": "stdout",
     "output_type": "stream",
     "text": [
      "self.get_collection_ratio(): 0.08716621241715872\n",
      "self.state.all_commed: True\n",
      "charging!!!!!!\n",
      "charging!!!!!!\n",
      "charging!!!!!!\n",
      "charging!!!!!!\n",
      "charging!!!!!!\n",
      "charging!!!!!!\n"
     ]
    },
    {
     "name": "stderr",
     "output_type": "stream",
     "text": [
      "\r",
      " 85%|██████████████████████████████████████████████████████████████████▊            | 846/1000 [27:18<05:09,  2.01s/it]"
     ]
    },
    {
     "name": "stdout",
     "output_type": "stream",
     "text": [
      "self.get_collection_ratio(): 0.20442506164566235\n",
      "self.state.all_commed: True\n",
      "charging!!!!!!\n",
      "charging!!!!!!\n",
      "charging!!!!!!\n",
      "charging!!!!!!\n"
     ]
    },
    {
     "name": "stderr",
     "output_type": "stream",
     "text": [
      "\r",
      " 85%|██████████████████████████████████████████████████████████████████▉            | 847/1000 [27:20<05:03,  1.98s/it]"
     ]
    },
    {
     "name": "stdout",
     "output_type": "stream",
     "text": [
      "self.get_collection_ratio(): 0.16268327087312173\n",
      "self.state.all_commed: True\n",
      "charging!!!!!!\n",
      "charging!!!!!!\n",
      "charging!!!!!!\n",
      "charging!!!!!!\n"
     ]
    },
    {
     "name": "stderr",
     "output_type": "stream",
     "text": [
      "\r",
      " 85%|██████████████████████████████████████████████████████████████████▉            | 848/1000 [27:22<05:02,  1.99s/it]"
     ]
    },
    {
     "name": "stdout",
     "output_type": "stream",
     "text": [
      "self.get_collection_ratio(): 0.16734999725132108\n",
      "self.state.all_commed: True\n",
      "charging!!!!!!\n",
      "charging!!!!!!\n"
     ]
    },
    {
     "name": "stderr",
     "output_type": "stream",
     "text": [
      "\r",
      " 85%|███████████████████████████████████████████████████████████████████            | 849/1000 [27:23<04:34,  1.82s/it]"
     ]
    },
    {
     "name": "stdout",
     "output_type": "stream",
     "text": [
      "self.get_collection_ratio(): 0.1063774652478088\n",
      "self.state.all_commed: True\n",
      "charging!!!!!!\n",
      "charging!!!!!!\n",
      "charging!!!!!!\n",
      "charging!!!!!!\n",
      "charging!!!!!!\n",
      "charging!!!!!!\n"
     ]
    },
    {
     "name": "stderr",
     "output_type": "stream",
     "text": [
      "\r",
      " 85%|███████████████████████████████████████████████████████████████████▏           | 850/1000 [27:26<05:08,  2.06s/it]"
     ]
    },
    {
     "name": "stdout",
     "output_type": "stream",
     "text": [
      "self.get_collection_ratio(): 0.1986514405115332\n",
      "self.state.all_commed: True\n",
      "charging!!!!!!\n",
      "charging!!!!!!\n",
      "charging!!!!!!\n",
      "charging!!!!!!\n"
     ]
    },
    {
     "name": "stderr",
     "output_type": "stream",
     "text": [
      "\r",
      " 85%|███████████████████████████████████████████████████████████████████▏           | 851/1000 [27:27<04:57,  2.00s/it]"
     ]
    },
    {
     "name": "stdout",
     "output_type": "stream",
     "text": [
      "self.get_collection_ratio(): 0.15836121440129564\n",
      "self.state.all_commed: True\n",
      "charging!!!!!!\n",
      "charging!!!!!!\n"
     ]
    },
    {
     "name": "stderr",
     "output_type": "stream",
     "text": [
      "\r",
      " 85%|███████████████████████████████████████████████████████████████████▎           | 852/1000 [27:29<04:26,  1.80s/it]"
     ]
    },
    {
     "name": "stdout",
     "output_type": "stream",
     "text": [
      "self.get_collection_ratio(): 0.0948185752590767\n",
      "self.state.all_commed: True\n",
      "charging!!!!!!\n",
      "charging!!!!!!\n",
      "charging!!!!!!\n",
      "charging!!!!!!\n"
     ]
    },
    {
     "name": "stderr",
     "output_type": "stream",
     "text": [
      "\r",
      " 85%|███████████████████████████████████████████████████████████████████▍           | 853/1000 [27:31<04:33,  1.86s/it]"
     ]
    },
    {
     "name": "stdout",
     "output_type": "stream",
     "text": [
      "self.get_collection_ratio(): 0.17852934103442633\n",
      "self.state.all_commed: True\n",
      "charging!!!!!!\n",
      "charging!!!!!!\n"
     ]
    },
    {
     "name": "stderr",
     "output_type": "stream",
     "text": [
      "\r",
      " 85%|███████████████████████████████████████████████████████████████████▍           | 854/1000 [27:32<04:13,  1.73s/it]"
     ]
    },
    {
     "name": "stdout",
     "output_type": "stream",
     "text": [
      "self.get_collection_ratio(): 0.09990551249593964\n",
      "self.state.all_commed: True\n",
      "charging!!!!!!\n",
      "charging!!!!!!\n"
     ]
    },
    {
     "name": "stderr",
     "output_type": "stream",
     "text": [
      "\r",
      " 86%|███████████████████████████████████████████████████████████████████▌           | 855/1000 [27:34<04:01,  1.67s/it]"
     ]
    },
    {
     "name": "stdout",
     "output_type": "stream",
     "text": [
      "self.get_collection_ratio(): 0.08036350041216463\n",
      "self.state.all_commed: True\n",
      "charging!!!!!!\n",
      "charging!!!!!!\n",
      "charging!!!!!!\n",
      "charging!!!!!!\n",
      "charging!!!!!!\n",
      "charging!!!!!!\n"
     ]
    },
    {
     "name": "stderr",
     "output_type": "stream",
     "text": [
      "\r",
      " 86%|███████████████████████████████████████████████████████████████████▌           | 856/1000 [27:36<04:37,  1.93s/it]"
     ]
    },
    {
     "name": "stdout",
     "output_type": "stream",
     "text": [
      "self.get_collection_ratio(): 0.17903712490463028\n",
      "self.state.all_commed: True\n",
      "charging!!!!!!\n",
      "charging!!!!!!\n",
      "charging!!!!!!\n",
      "charging!!!!!!\n",
      "charging!!!!!!\n",
      "charging!!!!!!\n"
     ]
    },
    {
     "name": "stderr",
     "output_type": "stream",
     "text": [
      "\r",
      " 86%|███████████████████████████████████████████████████████████████████▋           | 857/1000 [27:39<05:03,  2.12s/it]"
     ]
    },
    {
     "name": "stdout",
     "output_type": "stream",
     "text": [
      "self.get_collection_ratio(): 0.182876836485048\n",
      "self.state.all_commed: True\n",
      "charging!!!!!!\n",
      "charging!!!!!!\n"
     ]
    },
    {
     "name": "stderr",
     "output_type": "stream",
     "text": [
      "\r",
      " 86%|███████████████████████████████████████████████████████████████████▊           | 858/1000 [27:40<04:28,  1.89s/it]"
     ]
    },
    {
     "name": "stdout",
     "output_type": "stream",
     "text": [
      "self.get_collection_ratio(): 0.07787511314926551\n",
      "self.state.all_commed: True\n",
      "charging!!!!!!\n",
      "charging!!!!!!\n"
     ]
    },
    {
     "name": "stderr",
     "output_type": "stream",
     "text": [
      "\r",
      " 86%|███████████████████████████████████████████████████████████████████▊           | 859/1000 [27:42<04:04,  1.74s/it]"
     ]
    },
    {
     "name": "stdout",
     "output_type": "stream",
     "text": [
      "self.get_collection_ratio(): 0.10867935092072922\n",
      "self.state.all_commed: True\n",
      "charging!!!!!!\n",
      "charging!!!!!!\n"
     ]
    },
    {
     "name": "stderr",
     "output_type": "stream",
     "text": [
      "\r",
      " 86%|███████████████████████████████████████████████████████████████████▉           | 860/1000 [27:43<03:48,  1.63s/it]"
     ]
    },
    {
     "name": "stdout",
     "output_type": "stream",
     "text": [
      "self.get_collection_ratio(): 0.09801887526048801\n",
      "self.state.all_commed: True\n",
      "charging!!!!!!\n",
      "charging!!!!!!\n",
      "charging!!!!!!\n",
      "charging!!!!!!\n"
     ]
    },
    {
     "name": "stderr",
     "output_type": "stream",
     "text": [
      "\r",
      " 86%|████████████████████████████████████████████████████████████████████           | 861/1000 [27:45<04:02,  1.75s/it]"
     ]
    },
    {
     "name": "stdout",
     "output_type": "stream",
     "text": [
      "self.get_collection_ratio(): 0.1753492382617254\n",
      "self.state.all_commed: True\n",
      "charging!!!!!!\n",
      "charging!!!!!!\n",
      "charging!!!!!!\n",
      "charging!!!!!!\n",
      "charging!!!!!!\n",
      "charging!!!!!!\n"
     ]
    },
    {
     "name": "stderr",
     "output_type": "stream",
     "text": [
      "\r",
      " 86%|████████████████████████████████████████████████████████████████████           | 862/1000 [27:47<04:31,  1.96s/it]"
     ]
    },
    {
     "name": "stdout",
     "output_type": "stream",
     "text": [
      "self.get_collection_ratio(): 0.18737304253373177\n",
      "self.state.all_commed: True\n",
      "charging!!!!!!\n",
      "charging!!!!!!\n",
      "charging!!!!!!\n",
      "charging!!!!!!\n"
     ]
    },
    {
     "name": "stderr",
     "output_type": "stream",
     "text": [
      "\r",
      " 86%|████████████████████████████████████████████████████████████████████▏          | 863/1000 [27:49<04:28,  1.96s/it]"
     ]
    },
    {
     "name": "stdout",
     "output_type": "stream",
     "text": [
      "self.get_collection_ratio(): 0.14135852256248627\n",
      "self.state.all_commed: True\n",
      "charging!!!!!!\n",
      "charging!!!!!!\n"
     ]
    },
    {
     "name": "stderr",
     "output_type": "stream",
     "text": [
      "\r",
      " 86%|████████████████████████████████████████████████████████████████████▎          | 864/1000 [27:51<04:06,  1.81s/it]"
     ]
    },
    {
     "name": "stdout",
     "output_type": "stream",
     "text": [
      "self.get_collection_ratio(): 0.12232921695054673\n",
      "self.state.all_commed: True\n",
      "charging!!!!!!\n",
      "charging!!!!!!\n",
      "charging!!!!!!\n",
      "charging!!!!!!\n",
      "charging!!!!!!\n",
      "charging!!!!!!\n"
     ]
    },
    {
     "name": "stderr",
     "output_type": "stream",
     "text": [
      "\r",
      " 86%|████████████████████████████████████████████████████████████████████▎          | 865/1000 [27:53<04:38,  2.07s/it]"
     ]
    },
    {
     "name": "stdout",
     "output_type": "stream",
     "text": [
      "self.get_collection_ratio(): 0.21203915240408014\n",
      "self.state.all_commed: True\n",
      "charging!!!!!!\n",
      "charging!!!!!!\n",
      "charging!!!!!!\n",
      "charging!!!!!!\n"
     ]
    },
    {
     "name": "stderr",
     "output_type": "stream",
     "text": [
      "\r",
      " 87%|████████████████████████████████████████████████████████████████████▍          | 866/1000 [27:56<04:35,  2.06s/it]"
     ]
    },
    {
     "name": "stdout",
     "output_type": "stream",
     "text": [
      "self.get_collection_ratio(): 0.10476422703576352\n",
      "self.state.all_commed: True\n",
      "charging!!!!!!\n",
      "charging!!!!!!\n"
     ]
    },
    {
     "name": "stderr",
     "output_type": "stream",
     "text": [
      "\r",
      " 87%|████████████████████████████████████████████████████████████████████▍          | 867/1000 [27:57<04:04,  1.83s/it]"
     ]
    },
    {
     "name": "stdout",
     "output_type": "stream",
     "text": [
      "self.get_collection_ratio(): 0.09602843880033884\n",
      "self.state.all_commed: True\n",
      "charging!!!!!!\n",
      "charging!!!!!!\n",
      "charging!!!!!!\n",
      "charging!!!!!!\n"
     ]
    },
    {
     "name": "stderr",
     "output_type": "stream",
     "text": [
      "\r",
      " 87%|████████████████████████████████████████████████████████████████████▌          | 868/1000 [27:59<04:02,  1.84s/it]"
     ]
    },
    {
     "name": "stdout",
     "output_type": "stream",
     "text": [
      "self.get_collection_ratio(): 0.17948945689586226\n",
      "self.state.all_commed: True\n",
      "charging!!!!!!\n",
      "charging!!!!!!\n",
      "charging!!!!!!\n",
      "charging!!!!!!\n"
     ]
    },
    {
     "name": "stderr",
     "output_type": "stream",
     "text": [
      "\r",
      " 87%|████████████████████████████████████████████████████████████████████▋          | 869/1000 [28:01<04:07,  1.89s/it]"
     ]
    },
    {
     "name": "stdout",
     "output_type": "stream",
     "text": [
      "self.get_collection_ratio(): 0.156222016620525\n",
      "self.state.all_commed: True\n",
      "charging!!!!!!\n",
      "charging!!!!!!\n",
      "charging!!!!!!\n",
      "charging!!!!!!\n",
      "charging!!!!!!\n",
      "charging!!!!!!\n"
     ]
    },
    {
     "name": "stderr",
     "output_type": "stream",
     "text": [
      "\r",
      " 87%|████████████████████████████████████████████████████████████████████▋          | 870/1000 [28:03<04:23,  2.03s/it]"
     ]
    },
    {
     "name": "stdout",
     "output_type": "stream",
     "text": [
      "self.get_collection_ratio(): 0.21616289798396535\n",
      "self.state.all_commed: True\n",
      "charging!!!!!!\n",
      "charging!!!!!!\n",
      "charging!!!!!!\n",
      "charging!!!!!!\n"
     ]
    },
    {
     "name": "stderr",
     "output_type": "stream",
     "text": [
      "\r",
      " 87%|████████████████████████████████████████████████████████████████████▊          | 871/1000 [28:05<04:17,  1.99s/it]"
     ]
    },
    {
     "name": "stdout",
     "output_type": "stream",
     "text": [
      "self.get_collection_ratio(): 0.13994887167028008\n",
      "self.state.all_commed: True\n",
      "charging!!!!!!\n",
      "charging!!!!!!\n",
      "charging!!!!!!\n",
      "charging!!!!!!\n",
      "charging!!!!!!\n",
      "charging!!!!!!\n"
     ]
    },
    {
     "name": "stderr",
     "output_type": "stream",
     "text": [
      "\r",
      " 87%|████████████████████████████████████████████████████████████████████▉          | 872/1000 [28:07<04:29,  2.11s/it]"
     ]
    },
    {
     "name": "stdout",
     "output_type": "stream",
     "text": [
      "self.get_collection_ratio(): 0.2309480533541451\n",
      "self.state.all_commed: True\n",
      "charging!!!!!!\n",
      "charging!!!!!!\n",
      "charging!!!!!!\n",
      "charging!!!!!!\n",
      "charging!!!!!!\n",
      "charging!!!!!!\n"
     ]
    },
    {
     "name": "stderr",
     "output_type": "stream",
     "text": [
      "\r",
      " 87%|████████████████████████████████████████████████████████████████████▉          | 873/1000 [28:10<04:41,  2.21s/it]"
     ]
    },
    {
     "name": "stdout",
     "output_type": "stream",
     "text": [
      "self.get_collection_ratio(): 0.2188489018017405\n",
      "self.state.all_commed: True\n",
      "charging!!!!!!\n",
      "charging!!!!!!\n",
      "charging!!!!!!\n",
      "charging!!!!!!\n"
     ]
    },
    {
     "name": "stderr",
     "output_type": "stream",
     "text": [
      "\r",
      " 87%|█████████████████████████████████████████████████████████████████████          | 874/1000 [28:12<04:27,  2.12s/it]"
     ]
    },
    {
     "name": "stdout",
     "output_type": "stream",
     "text": [
      "self.get_collection_ratio(): 0.14076289259816588\n",
      "self.state.all_commed: True\n",
      "charging!!!!!!\n",
      "charging!!!!!!\n",
      "charging!!!!!!\n",
      "charging!!!!!!\n",
      "charging!!!!!!\n",
      "charging!!!!!!\n"
     ]
    },
    {
     "name": "stderr",
     "output_type": "stream",
     "text": [
      "\r",
      " 88%|█████████████████████████████████████████████████████████████████████▏         | 875/1000 [28:14<04:38,  2.22s/it]"
     ]
    },
    {
     "name": "stdout",
     "output_type": "stream",
     "text": [
      "self.get_collection_ratio(): 0.2131084491593006\n",
      "self.state.all_commed: True\n",
      "charging!!!!!!\n",
      "charging!!!!!!\n",
      "charging!!!!!!\n",
      "charging!!!!!!\n"
     ]
    },
    {
     "name": "stderr",
     "output_type": "stream",
     "text": [
      "\r",
      " 88%|█████████████████████████████████████████████████████████████████████▏         | 876/1000 [28:16<04:24,  2.13s/it]"
     ]
    },
    {
     "name": "stdout",
     "output_type": "stream",
     "text": [
      "self.get_collection_ratio(): 0.1461940945668024\n",
      "self.state.all_commed: True\n",
      "charging!!!!!!\n",
      "charging!!!!!!\n",
      "charging!!!!!!\n",
      "charging!!!!!!\n",
      "charging!!!!!!\n",
      "charging!!!!!!\n"
     ]
    },
    {
     "name": "stderr",
     "output_type": "stream",
     "text": [
      "\r",
      " 88%|█████████████████████████████████████████████████████████████████████▎         | 877/1000 [28:18<04:32,  2.21s/it]"
     ]
    },
    {
     "name": "stdout",
     "output_type": "stream",
     "text": [
      "self.get_collection_ratio(): 0.18475619136267568\n",
      "self.state.all_commed: True\n",
      "charging!!!!!!\n",
      "charging!!!!!!\n"
     ]
    },
    {
     "name": "stderr",
     "output_type": "stream",
     "text": [
      "\r",
      " 88%|█████████████████████████████████████████████████████████████████████▎         | 878/1000 [28:20<03:59,  1.96s/it]"
     ]
    },
    {
     "name": "stdout",
     "output_type": "stream",
     "text": [
      "self.get_collection_ratio(): 0.10765057851944702\n",
      "self.state.all_commed: True\n",
      "charging!!!!!!\n",
      "charging!!!!!!\n",
      "charging!!!!!!\n",
      "charging!!!!!!\n",
      "charging!!!!!!\n",
      "charging!!!!!!\n"
     ]
    },
    {
     "name": "stderr",
     "output_type": "stream",
     "text": [
      "\r",
      " 88%|█████████████████████████████████████████████████████████████████████▍         | 879/1000 [28:22<04:13,  2.09s/it]"
     ]
    },
    {
     "name": "stdout",
     "output_type": "stream",
     "text": [
      "self.get_collection_ratio(): 0.17446877420778462\n",
      "self.state.all_commed: True\n",
      "charging!!!!!!\n",
      "charging!!!!!!\n",
      "charging!!!!!!\n",
      "charging!!!!!!\n"
     ]
    },
    {
     "name": "stderr",
     "output_type": "stream",
     "text": [
      "\r",
      " 88%|█████████████████████████████████████████████████████████████████████▌         | 880/1000 [28:24<04:01,  2.01s/it]"
     ]
    },
    {
     "name": "stdout",
     "output_type": "stream",
     "text": [
      "self.get_collection_ratio(): 0.15824445717840813\n",
      "self.state.all_commed: True\n",
      "charging!!!!!!\n",
      "charging!!!!!!\n",
      "charging!!!!!!\n",
      "charging!!!!!!\n"
     ]
    },
    {
     "name": "stderr",
     "output_type": "stream",
     "text": [
      "\r",
      " 88%|█████████████████████████████████████████████████████████████████████▌         | 881/1000 [28:26<03:55,  1.98s/it]"
     ]
    },
    {
     "name": "stdout",
     "output_type": "stream",
     "text": [
      "self.get_collection_ratio(): 0.15413510801463928\n",
      "self.state.all_commed: True\n",
      "charging!!!!!!\n",
      "charging!!!!!!\n",
      "charging!!!!!!\n",
      "charging!!!!!!\n",
      "charging!!!!!!\n",
      "charging!!!!!!\n"
     ]
    },
    {
     "name": "stderr",
     "output_type": "stream",
     "text": [
      "\r",
      " 88%|█████████████████████████████████████████████████████████████████████▋         | 882/1000 [28:28<04:08,  2.11s/it]"
     ]
    },
    {
     "name": "stdout",
     "output_type": "stream",
     "text": [
      "self.get_collection_ratio(): 0.18081419879495644\n",
      "self.state.all_commed: True\n",
      "charging!!!!!!\n",
      "charging!!!!!!\n",
      "charging!!!!!!\n",
      "charging!!!!!!\n"
     ]
    },
    {
     "name": "stderr",
     "output_type": "stream",
     "text": [
      "\r",
      " 88%|█████████████████████████████████████████████████████████████████████▊         | 883/1000 [28:30<03:56,  2.03s/it]"
     ]
    },
    {
     "name": "stdout",
     "output_type": "stream",
     "text": [
      "self.get_collection_ratio(): 0.18346262243035083\n",
      "self.state.all_commed: True\n",
      "charging!!!!!!\n",
      "charging!!!!!!\n"
     ]
    },
    {
     "name": "stderr",
     "output_type": "stream",
     "text": [
      "\r",
      " 88%|█████████████████████████████████████████████████████████████████████▊         | 884/1000 [28:32<03:32,  1.83s/it]"
     ]
    },
    {
     "name": "stdout",
     "output_type": "stream",
     "text": [
      "self.get_collection_ratio(): 0.11549064972379312\n",
      "self.state.all_commed: True\n",
      "charging!!!!!!\n",
      "charging!!!!!!\n",
      "charging!!!!!!\n",
      "charging!!!!!!\n"
     ]
    },
    {
     "name": "stderr",
     "output_type": "stream",
     "text": [
      "\r",
      " 88%|█████████████████████████████████████████████████████████████████████▉         | 885/1000 [28:33<03:30,  1.83s/it]"
     ]
    },
    {
     "name": "stdout",
     "output_type": "stream",
     "text": [
      "self.get_collection_ratio(): 0.1580876699402856\n",
      "self.state.all_commed: True\n",
      "charging!!!!!!\n",
      "charging!!!!!!\n"
     ]
    },
    {
     "name": "stderr",
     "output_type": "stream",
     "text": [
      "\r",
      " 89%|█████████████████████████████████████████████████████████████████████▉         | 886/1000 [28:35<03:11,  1.68s/it]"
     ]
    },
    {
     "name": "stdout",
     "output_type": "stream",
     "text": [
      "self.get_collection_ratio(): 0.09411888763475408\n",
      "self.state.all_commed: True\n",
      "charging!!!!!!\n",
      "charging!!!!!!\n",
      "charging!!!!!!\n",
      "charging!!!!!!\n",
      "charging!!!!!!\n",
      "charging!!!!!!\n"
     ]
    },
    {
     "name": "stderr",
     "output_type": "stream",
     "text": [
      "\r",
      " 89%|██████████████████████████████████████████████████████████████████████         | 887/1000 [28:37<03:41,  1.96s/it]"
     ]
    },
    {
     "name": "stdout",
     "output_type": "stream",
     "text": [
      "self.get_collection_ratio(): 0.17857926506210198\n",
      "self.state.all_commed: True\n",
      "charging!!!!!!\n",
      "charging!!!!!!\n",
      "charging!!!!!!\n",
      "charging!!!!!!\n",
      "charging!!!!!!\n",
      "charging!!!!!!\n"
     ]
    },
    {
     "name": "stderr",
     "output_type": "stream",
     "text": [
      "\r",
      " 89%|██████████████████████████████████████████████████████████████████████▏        | 888/1000 [28:40<03:57,  2.12s/it]"
     ]
    },
    {
     "name": "stdout",
     "output_type": "stream",
     "text": [
      "self.get_collection_ratio(): 0.19904035754603316\n",
      "self.state.all_commed: True\n",
      "charging!!!!!!\n",
      "charging!!!!!!\n",
      "charging!!!!!!\n",
      "charging!!!!!!\n"
     ]
    },
    {
     "name": "stderr",
     "output_type": "stream",
     "text": [
      "\r",
      " 89%|██████████████████████████████████████████████████████████████████████▏        | 889/1000 [28:42<03:53,  2.11s/it]"
     ]
    },
    {
     "name": "stdout",
     "output_type": "stream",
     "text": [
      "self.get_collection_ratio(): 0.16802434772686697\n",
      "self.state.all_commed: True\n",
      "charging!!!!!!\n",
      "charging!!!!!!\n",
      "charging!!!!!!\n",
      "charging!!!!!!\n"
     ]
    },
    {
     "name": "stderr",
     "output_type": "stream",
     "text": [
      "\r",
      " 89%|██████████████████████████████████████████████████████████████████████▎        | 890/1000 [28:44<03:50,  2.09s/it]"
     ]
    },
    {
     "name": "stdout",
     "output_type": "stream",
     "text": [
      "self.get_collection_ratio(): 0.12278723182823544\n",
      "self.state.all_commed: True\n",
      "charging!!!!!!\n",
      "charging!!!!!!\n"
     ]
    },
    {
     "name": "stderr",
     "output_type": "stream",
     "text": [
      "\r",
      " 89%|██████████████████████████████████████████████████████████████████████▍        | 891/1000 [28:46<03:29,  1.92s/it]"
     ]
    },
    {
     "name": "stdout",
     "output_type": "stream",
     "text": [
      "self.get_collection_ratio(): 0.10407175682010716\n",
      "self.state.all_commed: True\n",
      "charging!!!!!!\n",
      "charging!!!!!!\n",
      "charging!!!!!!\n",
      "charging!!!!!!\n"
     ]
    },
    {
     "name": "stderr",
     "output_type": "stream",
     "text": [
      "\r",
      " 89%|██████████████████████████████████████████████████████████████████████▍        | 892/1000 [28:48<03:32,  1.96s/it]"
     ]
    },
    {
     "name": "stdout",
     "output_type": "stream",
     "text": [
      "self.get_collection_ratio(): 0.1612446890866541\n",
      "self.state.all_commed: True\n",
      "charging!!!!!!\n",
      "charging!!!!!!\n",
      "charging!!!!!!\n",
      "charging!!!!!!\n",
      "charging!!!!!!\n",
      "charging!!!!!!\n"
     ]
    },
    {
     "name": "stderr",
     "output_type": "stream",
     "text": [
      "\r",
      " 89%|██████████████████████████████████████████████████████████████████████▌        | 893/1000 [28:50<03:46,  2.11s/it]"
     ]
    },
    {
     "name": "stdout",
     "output_type": "stream",
     "text": [
      "self.get_collection_ratio(): 0.22114063131298436\n",
      "self.state.all_commed: True\n",
      "charging!!!!!!\n",
      "charging!!!!!!\n",
      "charging!!!!!!\n",
      "charging!!!!!!\n",
      "charging!!!!!!\n",
      "charging!!!!!!\n"
     ]
    },
    {
     "name": "stderr",
     "output_type": "stream",
     "text": [
      "\r",
      " 89%|██████████████████████████████████████████████████████████████████████▋        | 894/1000 [28:52<03:51,  2.19s/it]"
     ]
    },
    {
     "name": "stdout",
     "output_type": "stream",
     "text": [
      "self.get_collection_ratio(): 0.20260295922526247\n",
      "self.state.all_commed: True\n",
      "charging!!!!!!\n",
      "charging!!!!!!\n",
      "charging!!!!!!\n",
      "charging!!!!!!\n"
     ]
    },
    {
     "name": "stderr",
     "output_type": "stream",
     "text": [
      "\r",
      " 90%|██████████████████████████████████████████████████████████████████████▋        | 895/1000 [28:54<03:42,  2.12s/it]"
     ]
    },
    {
     "name": "stdout",
     "output_type": "stream",
     "text": [
      "self.get_collection_ratio(): 0.1533432925584624\n",
      "self.state.all_commed: True\n",
      "charging!!!!!!\n",
      "charging!!!!!!\n",
      "charging!!!!!!\n",
      "charging!!!!!!\n"
     ]
    },
    {
     "name": "stderr",
     "output_type": "stream",
     "text": [
      "\r",
      " 90%|██████████████████████████████████████████████████████████████████████▊        | 896/1000 [28:56<03:37,  2.09s/it]"
     ]
    },
    {
     "name": "stdout",
     "output_type": "stream",
     "text": [
      "self.get_collection_ratio(): 0.1566714117182185\n",
      "self.state.all_commed: True\n",
      "charging!!!!!!\n",
      "charging!!!!!!\n",
      "charging!!!!!!\n",
      "charging!!!!!!\n"
     ]
    },
    {
     "name": "stderr",
     "output_type": "stream",
     "text": [
      "\r",
      " 90%|██████████████████████████████████████████████████████████████████████▊        | 897/1000 [28:58<03:31,  2.05s/it]"
     ]
    },
    {
     "name": "stdout",
     "output_type": "stream",
     "text": [
      "self.get_collection_ratio(): 0.15667918827507535\n",
      "self.state.all_commed: True\n",
      "charging!!!!!!\n",
      "charging!!!!!!\n"
     ]
    },
    {
     "name": "stderr",
     "output_type": "stream",
     "text": [
      "\r",
      " 90%|██████████████████████████████████████████████████████████████████████▉        | 898/1000 [29:00<03:11,  1.87s/it]"
     ]
    },
    {
     "name": "stdout",
     "output_type": "stream",
     "text": [
      "self.get_collection_ratio(): 0.06715657274698959\n",
      "self.state.all_commed: True\n",
      "charging!!!!!!\n",
      "charging!!!!!!\n"
     ]
    },
    {
     "name": "stderr",
     "output_type": "stream",
     "text": [
      "\r",
      " 90%|███████████████████████████████████████████████████████████████████████        | 899/1000 [29:01<02:54,  1.72s/it]"
     ]
    },
    {
     "name": "stdout",
     "output_type": "stream",
     "text": [
      "self.get_collection_ratio(): 0.11097255371603429\n",
      "self.state.all_commed: True\n",
      "charging!!!!!!\n",
      "charging!!!!!!\n",
      "charging!!!!!!\n",
      "charging!!!!!!\n",
      "charging!!!!!!\n",
      "charging!!!!!!\n"
     ]
    },
    {
     "name": "stderr",
     "output_type": "stream",
     "text": [
      "\r",
      " 90%|███████████████████████████████████████████████████████████████████████        | 900/1000 [29:04<03:13,  1.94s/it]"
     ]
    },
    {
     "name": "stdout",
     "output_type": "stream",
     "text": [
      "self.get_collection_ratio(): 0.1894273051328322\n",
      "self.state.all_commed: True\n",
      "charging!!!!!!\n",
      "charging!!!!!!\n"
     ]
    },
    {
     "name": "stderr",
     "output_type": "stream",
     "text": [
      "\r",
      " 90%|███████████████████████████████████████████████████████████████████████▏       | 901/1000 [29:05<02:55,  1.78s/it]"
     ]
    },
    {
     "name": "stdout",
     "output_type": "stream",
     "text": [
      "self.get_collection_ratio(): 0.11047155047260848\n",
      "self.state.all_commed: True\n",
      "charging!!!!!!\n",
      "charging!!!!!!\n",
      "charging!!!!!!\n",
      "charging!!!!!!\n"
     ]
    },
    {
     "name": "stderr",
     "output_type": "stream",
     "text": [
      "\r",
      " 90%|███████████████████████████████████████████████████████████████████████▎       | 902/1000 [29:07<02:58,  1.83s/it]"
     ]
    },
    {
     "name": "stdout",
     "output_type": "stream",
     "text": [
      "self.get_collection_ratio(): 0.1500041415736337\n",
      "self.state.all_commed: True\n",
      "charging!!!!!!\n",
      "charging!!!!!!\n",
      "charging!!!!!!\n",
      "charging!!!!!!\n"
     ]
    },
    {
     "name": "stderr",
     "output_type": "stream",
     "text": [
      "\r",
      " 90%|███████████████████████████████████████████████████████████████████████▎       | 903/1000 [29:09<03:03,  1.89s/it]"
     ]
    },
    {
     "name": "stdout",
     "output_type": "stream",
     "text": [
      "self.get_collection_ratio(): 0.16005643968916614\n",
      "self.state.all_commed: True\n",
      "charging!!!!!!\n",
      "charging!!!!!!\n",
      "charging!!!!!!\n",
      "charging!!!!!!\n"
     ]
    },
    {
     "name": "stderr",
     "output_type": "stream",
     "text": [
      "\r",
      " 90%|███████████████████████████████████████████████████████████████████████▍       | 904/1000 [29:11<03:03,  1.91s/it]"
     ]
    },
    {
     "name": "stdout",
     "output_type": "stream",
     "text": [
      "self.get_collection_ratio(): 0.1708914074152098\n",
      "self.state.all_commed: True\n",
      "charging!!!!!!\n",
      "charging!!!!!!\n"
     ]
    },
    {
     "name": "stderr",
     "output_type": "stream",
     "text": [
      "\r",
      " 90%|███████████████████████████████████████████████████████████████████████▍       | 905/1000 [29:12<02:46,  1.76s/it]"
     ]
    },
    {
     "name": "stdout",
     "output_type": "stream",
     "text": [
      "self.get_collection_ratio(): 0.08367915860320671\n",
      "self.state.all_commed: True\n",
      "charging!!!!!!\n",
      "charging!!!!!!\n",
      "charging!!!!!!\n",
      "charging!!!!!!\n",
      "charging!!!!!!\n",
      "charging!!!!!!\n"
     ]
    },
    {
     "name": "stderr",
     "output_type": "stream",
     "text": [
      "\r",
      " 91%|███████████████████████████████████████████████████████████████████████▌       | 906/1000 [29:15<03:05,  1.97s/it]"
     ]
    },
    {
     "name": "stdout",
     "output_type": "stream",
     "text": [
      "self.get_collection_ratio(): 0.20533199350323608\n",
      "self.state.all_commed: True\n",
      "charging!!!!!!\n",
      "charging!!!!!!\n",
      "charging!!!!!!\n",
      "charging!!!!!!\n"
     ]
    },
    {
     "name": "stderr",
     "output_type": "stream",
     "text": [
      "\r",
      " 91%|███████████████████████████████████████████████████████████████████████▋       | 907/1000 [29:17<03:02,  1.96s/it]"
     ]
    },
    {
     "name": "stdout",
     "output_type": "stream",
     "text": [
      "self.get_collection_ratio(): 0.15640511534964296\n",
      "self.state.all_commed: True\n",
      "charging!!!!!!\n",
      "charging!!!!!!\n",
      "charging!!!!!!\n",
      "charging!!!!!!\n"
     ]
    },
    {
     "name": "stderr",
     "output_type": "stream",
     "text": [
      "\r",
      " 91%|███████████████████████████████████████████████████████████████████████▋       | 908/1000 [29:19<03:00,  1.96s/it]"
     ]
    },
    {
     "name": "stdout",
     "output_type": "stream",
     "text": [
      "self.get_collection_ratio(): 0.15711505119651353\n",
      "self.state.all_commed: True\n",
      "charging!!!!!!\n",
      "charging!!!!!!\n",
      "charging!!!!!!\n",
      "charging!!!!!!\n"
     ]
    },
    {
     "name": "stderr",
     "output_type": "stream",
     "text": [
      "\r",
      " 91%|███████████████████████████████████████████████████████████████████████▊       | 909/1000 [29:21<02:55,  1.93s/it]"
     ]
    },
    {
     "name": "stdout",
     "output_type": "stream",
     "text": [
      "self.get_collection_ratio(): 0.19320848278166733\n",
      "self.state.all_commed: True\n",
      "charging!!!!!!\n",
      "charging!!!!!!\n",
      "charging!!!!!!\n",
      "charging!!!!!!\n",
      "charging!!!!!!\n",
      "charging!!!!!!\n"
     ]
    },
    {
     "name": "stderr",
     "output_type": "stream",
     "text": [
      "\r",
      " 91%|███████████████████████████████████████████████████████████████████████▉       | 910/1000 [29:23<03:07,  2.09s/it]"
     ]
    },
    {
     "name": "stdout",
     "output_type": "stream",
     "text": [
      "self.get_collection_ratio(): 0.18718532651298447\n",
      "self.state.all_commed: True\n",
      "charging!!!!!!\n",
      "charging!!!!!!\n",
      "charging!!!!!!\n",
      "charging!!!!!!\n"
     ]
    },
    {
     "name": "stderr",
     "output_type": "stream",
     "text": [
      "\r",
      " 91%|███████████████████████████████████████████████████████████████████████▉       | 911/1000 [29:25<03:00,  2.03s/it]"
     ]
    },
    {
     "name": "stdout",
     "output_type": "stream",
     "text": [
      "self.get_collection_ratio(): 0.13365214684079518\n",
      "self.state.all_commed: True\n",
      "charging!!!!!!\n",
      "charging!!!!!!\n",
      "charging!!!!!!\n",
      "charging!!!!!!\n",
      "charging!!!!!!\n",
      "charging!!!!!!\n"
     ]
    },
    {
     "name": "stderr",
     "output_type": "stream",
     "text": [
      "\r",
      " 91%|████████████████████████████████████████████████████████████████████████       | 912/1000 [29:27<03:10,  2.17s/it]"
     ]
    },
    {
     "name": "stdout",
     "output_type": "stream",
     "text": [
      "self.get_collection_ratio(): 0.17852348130407086\n",
      "self.state.all_commed: True\n",
      "charging!!!!!!\n",
      "charging!!!!!!\n"
     ]
    },
    {
     "name": "stderr",
     "output_type": "stream",
     "text": [
      "\r",
      " 91%|████████████████████████████████████████████████████████████████████████▏      | 913/1000 [29:29<02:47,  1.93s/it]"
     ]
    },
    {
     "name": "stdout",
     "output_type": "stream",
     "text": [
      "self.get_collection_ratio(): 0.11024688388165721\n",
      "self.state.all_commed: True\n",
      "charging!!!!!!\n",
      "charging!!!!!!\n",
      "charging!!!!!!\n",
      "charging!!!!!!\n"
     ]
    },
    {
     "name": "stderr",
     "output_type": "stream",
     "text": [
      "\r",
      " 91%|████████████████████████████████████████████████████████████████████████▏      | 914/1000 [29:31<02:46,  1.94s/it]"
     ]
    },
    {
     "name": "stdout",
     "output_type": "stream",
     "text": [
      "self.get_collection_ratio(): 0.13494186989934265\n",
      "self.state.all_commed: True\n",
      "charging!!!!!!\n",
      "charging!!!!!!\n",
      "charging!!!!!!\n",
      "charging!!!!!!\n"
     ]
    },
    {
     "name": "stderr",
     "output_type": "stream",
     "text": [
      "\r",
      " 92%|████████████████████████████████████████████████████████████████████████▎      | 915/1000 [29:33<02:43,  1.92s/it]"
     ]
    },
    {
     "name": "stdout",
     "output_type": "stream",
     "text": [
      "self.get_collection_ratio(): 0.1462049757697797\n",
      "self.state.all_commed: True\n",
      "charging!!!!!!\n",
      "charging!!!!!!\n",
      "charging!!!!!!\n",
      "charging!!!!!!\n",
      "charging!!!!!!\n",
      "charging!!!!!!\n"
     ]
    },
    {
     "name": "stderr",
     "output_type": "stream",
     "text": [
      "\r",
      " 92%|████████████████████████████████████████████████████████████████████████▎      | 916/1000 [29:35<02:53,  2.07s/it]"
     ]
    },
    {
     "name": "stdout",
     "output_type": "stream",
     "text": [
      "self.get_collection_ratio(): 0.16209784879945402\n",
      "self.state.all_commed: True\n",
      "charging!!!!!!\n",
      "charging!!!!!!\n",
      "charging!!!!!!\n",
      "charging!!!!!!\n"
     ]
    },
    {
     "name": "stderr",
     "output_type": "stream",
     "text": [
      "\r",
      " 92%|████████████████████████████████████████████████████████████████████████▍      | 917/1000 [29:37<02:47,  2.02s/it]"
     ]
    },
    {
     "name": "stdout",
     "output_type": "stream",
     "text": [
      "self.get_collection_ratio(): 0.15698529136614373\n",
      "self.state.all_commed: True\n",
      "charging!!!!!!\n",
      "charging!!!!!!\n"
     ]
    },
    {
     "name": "stderr",
     "output_type": "stream",
     "text": [
      "\r",
      " 92%|████████████████████████████████████████████████████████████████████████▌      | 918/1000 [29:38<02:26,  1.79s/it]"
     ]
    },
    {
     "name": "stdout",
     "output_type": "stream",
     "text": [
      "self.get_collection_ratio(): 0.09987683536628299\n",
      "self.state.all_commed: True\n",
      "charging!!!!!!\n",
      "charging!!!!!!\n",
      "charging!!!!!!\n",
      "charging!!!!!!\n",
      "charging!!!!!!\n",
      "charging!!!!!!\n"
     ]
    },
    {
     "name": "stderr",
     "output_type": "stream",
     "text": [
      "\r",
      " 92%|████████████████████████████████████████████████████████████████████████▌      | 919/1000 [29:41<02:40,  1.98s/it]"
     ]
    },
    {
     "name": "stdout",
     "output_type": "stream",
     "text": [
      "self.get_collection_ratio(): 0.21366789531531527\n",
      "self.state.all_commed: True\n",
      "charging!!!!!!\n",
      "charging!!!!!!\n",
      "charging!!!!!!\n",
      "charging!!!!!!\n",
      "charging!!!!!!\n",
      "charging!!!!!!\n"
     ]
    },
    {
     "name": "stderr",
     "output_type": "stream",
     "text": [
      "\r",
      " 92%|████████████████████████████████████████████████████████████████████████▋      | 920/1000 [29:43<02:50,  2.14s/it]"
     ]
    },
    {
     "name": "stdout",
     "output_type": "stream",
     "text": [
      "self.get_collection_ratio(): 0.18577007603769455\n",
      "self.state.all_commed: True\n",
      "charging!!!!!!\n",
      "charging!!!!!!\n"
     ]
    },
    {
     "name": "stderr",
     "output_type": "stream",
     "text": [
      "\r",
      " 92%|████████████████████████████████████████████████████████████████████████▊      | 921/1000 [29:44<02:29,  1.90s/it]"
     ]
    },
    {
     "name": "stdout",
     "output_type": "stream",
     "text": [
      "self.get_collection_ratio(): 0.06661086348540801\n",
      "self.state.all_commed: True\n",
      "charging!!!!!!\n",
      "charging!!!!!!\n",
      "charging!!!!!!\n",
      "charging!!!!!!\n",
      "charging!!!!!!\n",
      "charging!!!!!!\n"
     ]
    },
    {
     "name": "stderr",
     "output_type": "stream",
     "text": [
      "\r",
      " 92%|████████████████████████████████████████████████████████████████████████▊      | 922/1000 [29:47<02:40,  2.06s/it]"
     ]
    },
    {
     "name": "stdout",
     "output_type": "stream",
     "text": [
      "self.get_collection_ratio(): 0.2326886069965609\n",
      "self.state.all_commed: True\n",
      "charging!!!!!!\n",
      "charging!!!!!!\n"
     ]
    },
    {
     "name": "stderr",
     "output_type": "stream",
     "text": [
      "\r",
      " 92%|████████████████████████████████████████████████████████████████████████▉      | 923/1000 [29:48<02:23,  1.86s/it]"
     ]
    },
    {
     "name": "stdout",
     "output_type": "stream",
     "text": [
      "self.get_collection_ratio(): 0.07511327030724779\n",
      "self.state.all_commed: True\n",
      "charging!!!!!!\n",
      "charging!!!!!!\n"
     ]
    },
    {
     "name": "stderr",
     "output_type": "stream",
     "text": [
      "\r",
      " 92%|████████████████████████████████████████████████████████████████████████▉      | 924/1000 [29:50<02:09,  1.70s/it]"
     ]
    },
    {
     "name": "stdout",
     "output_type": "stream",
     "text": [
      "self.get_collection_ratio(): 0.13202020108294046\n",
      "self.state.all_commed: True\n",
      "charging!!!!!!\n",
      "charging!!!!!!\n"
     ]
    },
    {
     "name": "stderr",
     "output_type": "stream",
     "text": [
      "\r",
      " 92%|█████████████████████████████████████████████████████████████████████████      | 925/1000 [29:51<01:59,  1.59s/it]"
     ]
    },
    {
     "name": "stdout",
     "output_type": "stream",
     "text": [
      "self.get_collection_ratio(): 0.10719112069230771\n",
      "self.state.all_commed: True\n",
      "charging!!!!!!\n",
      "charging!!!!!!\n",
      "charging!!!!!!\n",
      "charging!!!!!!\n"
     ]
    },
    {
     "name": "stderr",
     "output_type": "stream",
     "text": [
      "\r",
      " 93%|█████████████████████████████████████████████████████████████████████████▏     | 926/1000 [29:53<02:05,  1.69s/it]"
     ]
    },
    {
     "name": "stdout",
     "output_type": "stream",
     "text": [
      "self.get_collection_ratio(): 0.14683367023305033\n",
      "self.state.all_commed: True\n",
      "charging!!!!!!\n",
      "charging!!!!!!\n",
      "charging!!!!!!\n",
      "charging!!!!!!\n"
     ]
    },
    {
     "name": "stderr",
     "output_type": "stream",
     "text": [
      "\r",
      " 93%|█████████████████████████████████████████████████████████████████████████▏     | 927/1000 [29:55<02:07,  1.75s/it]"
     ]
    },
    {
     "name": "stdout",
     "output_type": "stream",
     "text": [
      "self.get_collection_ratio(): 0.18060774464215884\n",
      "self.state.all_commed: True\n",
      "charging!!!!!!\n",
      "charging!!!!!!\n"
     ]
    },
    {
     "name": "stderr",
     "output_type": "stream",
     "text": [
      "\r",
      " 93%|█████████████████████████████████████████████████████████████████████████▎     | 928/1000 [29:56<01:57,  1.63s/it]"
     ]
    },
    {
     "name": "stdout",
     "output_type": "stream",
     "text": [
      "self.get_collection_ratio(): 0.10030216329773581\n",
      "self.state.all_commed: True\n",
      "charging!!!!!!\n",
      "charging!!!!!!\n",
      "charging!!!!!!\n",
      "charging!!!!!!\n",
      "charging!!!!!!\n",
      "charging!!!!!!\n"
     ]
    },
    {
     "name": "stderr",
     "output_type": "stream",
     "text": [
      "\r",
      " 93%|█████████████████████████████████████████████████████████████████████████▍     | 929/1000 [29:59<02:13,  1.88s/it]"
     ]
    },
    {
     "name": "stdout",
     "output_type": "stream",
     "text": [
      "self.get_collection_ratio(): 0.18736815762548734\n",
      "self.state.all_commed: True\n",
      "charging!!!!!!\n",
      "charging!!!!!!\n"
     ]
    },
    {
     "name": "stderr",
     "output_type": "stream",
     "text": [
      "\r",
      " 93%|█████████████████████████████████████████████████████████████████████████▍     | 930/1000 [30:00<02:00,  1.72s/it]"
     ]
    },
    {
     "name": "stdout",
     "output_type": "stream",
     "text": [
      "self.get_collection_ratio(): 0.0716249074043848\n",
      "self.state.all_commed: True\n",
      "charging!!!!!!\n",
      "charging!!!!!!\n",
      "charging!!!!!!\n",
      "charging!!!!!!\n"
     ]
    },
    {
     "name": "stderr",
     "output_type": "stream",
     "text": [
      "\r",
      " 93%|█████████████████████████████████████████████████████████████████████████▌     | 931/1000 [30:02<02:01,  1.75s/it]"
     ]
    },
    {
     "name": "stdout",
     "output_type": "stream",
     "text": [
      "self.get_collection_ratio(): 0.15547926744299287\n",
      "self.state.all_commed: True\n",
      "charging!!!!!!\n",
      "charging!!!!!!\n",
      "charging!!!!!!\n",
      "charging!!!!!!\n"
     ]
    },
    {
     "name": "stderr",
     "output_type": "stream",
     "text": [
      "\r",
      " 93%|█████████████████████████████████████████████████████████████████████████▋     | 932/1000 [30:04<02:00,  1.78s/it]"
     ]
    },
    {
     "name": "stdout",
     "output_type": "stream",
     "text": [
      "self.get_collection_ratio(): 0.15484613222268653\n",
      "self.state.all_commed: True\n",
      "charging!!!!!!\n",
      "charging!!!!!!\n",
      "charging!!!!!!\n",
      "charging!!!!!!\n",
      "charging!!!!!!\n",
      "charging!!!!!!\n"
     ]
    },
    {
     "name": "stderr",
     "output_type": "stream",
     "text": [
      "\r",
      " 93%|█████████████████████████████████████████████████████████████████████████▋     | 933/1000 [30:16<05:25,  4.86s/it]"
     ]
    },
    {
     "name": "stdout",
     "output_type": "stream",
     "text": [
      "self.get_collection_ratio(): 0.18217754786608678\n",
      "self.state.all_commed: True\n",
      "charging!!!!!!\n",
      "charging!!!!!!\n",
      "charging!!!!!!\n",
      "charging!!!!!!\n"
     ]
    },
    {
     "name": "stderr",
     "output_type": "stream",
     "text": [
      "\r",
      " 93%|█████████████████████████████████████████████████████████████████████████▊     | 934/1000 [30:18<04:23,  3.99s/it]"
     ]
    },
    {
     "name": "stdout",
     "output_type": "stream",
     "text": [
      "self.get_collection_ratio(): 0.17966432124858842\n",
      "self.state.all_commed: True\n",
      "charging!!!!!!\n",
      "charging!!!!!!\n"
     ]
    },
    {
     "name": "stderr",
     "output_type": "stream",
     "text": [
      "\r",
      " 94%|█████████████████████████████████████████████████████████████████████████▊     | 935/1000 [30:19<03:29,  3.22s/it]"
     ]
    },
    {
     "name": "stdout",
     "output_type": "stream",
     "text": [
      "self.get_collection_ratio(): 0.08677705416206828\n",
      "self.state.all_commed: True\n",
      "charging!!!!!!\n",
      "charging!!!!!!\n",
      "charging!!!!!!\n",
      "charging!!!!!!\n"
     ]
    },
    {
     "name": "stderr",
     "output_type": "stream",
     "text": [
      "\r",
      " 94%|█████████████████████████████████████████████████████████████████████████▉     | 936/1000 [30:21<03:03,  2.86s/it]"
     ]
    },
    {
     "name": "stdout",
     "output_type": "stream",
     "text": [
      "self.get_collection_ratio(): 0.1317386437185767\n",
      "self.state.all_commed: True\n",
      "charging!!!!!!\n",
      "charging!!!!!!\n",
      "charging!!!!!!\n",
      "charging!!!!!!\n",
      "charging!!!!!!\n",
      "charging!!!!!!\n"
     ]
    },
    {
     "name": "stderr",
     "output_type": "stream",
     "text": [
      "\r",
      " 94%|██████████████████████████████████████████████████████████████████████████     | 937/1000 [30:24<02:55,  2.78s/it]"
     ]
    },
    {
     "name": "stdout",
     "output_type": "stream",
     "text": [
      "self.get_collection_ratio(): 0.1560483001862111\n",
      "self.state.all_commed: True\n",
      "charging!!!!!!\n",
      "charging!!!!!!\n",
      "charging!!!!!!\n",
      "charging!!!!!!\n"
     ]
    },
    {
     "name": "stderr",
     "output_type": "stream",
     "text": [
      "\r",
      " 94%|██████████████████████████████████████████████████████████████████████████     | 938/1000 [30:26<02:37,  2.54s/it]"
     ]
    },
    {
     "name": "stdout",
     "output_type": "stream",
     "text": [
      "self.get_collection_ratio(): 0.1392116017199295\n",
      "self.state.all_commed: True\n",
      "charging!!!!!!\n",
      "charging!!!!!!\n"
     ]
    },
    {
     "name": "stderr",
     "output_type": "stream",
     "text": [
      "\r",
      " 94%|██████████████████████████████████████████████████████████████████████████▏    | 939/1000 [30:27<02:13,  2.18s/it]"
     ]
    },
    {
     "name": "stdout",
     "output_type": "stream",
     "text": [
      "self.get_collection_ratio(): 0.06991310546255354\n",
      "self.state.all_commed: True\n",
      "charging!!!!!!\n",
      "charging!!!!!!\n",
      "charging!!!!!!\n",
      "charging!!!!!!\n",
      "charging!!!!!!\n",
      "charging!!!!!!\n"
     ]
    },
    {
     "name": "stderr",
     "output_type": "stream",
     "text": [
      "\r",
      " 94%|██████████████████████████████████████████████████████████████████████████▎    | 940/1000 [30:29<02:14,  2.25s/it]"
     ]
    },
    {
     "name": "stdout",
     "output_type": "stream",
     "text": [
      "self.get_collection_ratio(): 0.18097774062416488\n",
      "self.state.all_commed: True\n",
      "charging!!!!!!\n",
      "charging!!!!!!\n",
      "charging!!!!!!\n",
      "charging!!!!!!\n",
      "charging!!!!!!\n",
      "charging!!!!!!\n"
     ]
    },
    {
     "name": "stderr",
     "output_type": "stream",
     "text": [
      "\r",
      " 94%|██████████████████████████████████████████████████████████████████████████▎    | 941/1000 [30:32<02:16,  2.31s/it]"
     ]
    },
    {
     "name": "stdout",
     "output_type": "stream",
     "text": [
      "self.get_collection_ratio(): 0.19623036649544734\n",
      "self.state.all_commed: True\n",
      "charging!!!!!!\n",
      "charging!!!!!!\n"
     ]
    },
    {
     "name": "stderr",
     "output_type": "stream",
     "text": [
      "\r",
      " 94%|██████████████████████████████████████████████████████████████████████████▍    | 942/1000 [30:33<01:57,  2.03s/it]"
     ]
    },
    {
     "name": "stdout",
     "output_type": "stream",
     "text": [
      "self.get_collection_ratio(): 0.10050721640054498\n",
      "self.state.all_commed: True\n",
      "charging!!!!!!\n",
      "charging!!!!!!\n",
      "charging!!!!!!\n",
      "charging!!!!!!\n"
     ]
    },
    {
     "name": "stderr",
     "output_type": "stream",
     "text": [
      "\r",
      " 94%|██████████████████████████████████████████████████████████████████████████▍    | 943/1000 [30:35<01:53,  1.98s/it]"
     ]
    },
    {
     "name": "stdout",
     "output_type": "stream",
     "text": [
      "self.get_collection_ratio(): 0.14015405472582718\n",
      "self.state.all_commed: True\n",
      "charging!!!!!!\n",
      "charging!!!!!!\n",
      "charging!!!!!!\n",
      "charging!!!!!!\n"
     ]
    },
    {
     "name": "stderr",
     "output_type": "stream",
     "text": [
      "\r",
      " 94%|██████████████████████████████████████████████████████████████████████████▌    | 944/1000 [30:37<01:50,  1.97s/it]"
     ]
    },
    {
     "name": "stdout",
     "output_type": "stream",
     "text": [
      "self.get_collection_ratio(): 0.14830155846343981\n",
      "self.state.all_commed: True\n",
      "charging!!!!!!\n",
      "charging!!!!!!\n"
     ]
    },
    {
     "name": "stderr",
     "output_type": "stream",
     "text": [
      "\r",
      " 94%|██████████████████████████████████████████████████████████████████████████▋    | 945/1000 [30:38<01:39,  1.80s/it]"
     ]
    },
    {
     "name": "stdout",
     "output_type": "stream",
     "text": [
      "self.get_collection_ratio(): 0.09834143490826745\n",
      "self.state.all_commed: True\n",
      "charging!!!!!!\n",
      "charging!!!!!!\n",
      "charging!!!!!!\n",
      "charging!!!!!!\n",
      "charging!!!!!!\n",
      "charging!!!!!!\n"
     ]
    },
    {
     "name": "stderr",
     "output_type": "stream",
     "text": [
      "\r",
      " 95%|██████████████████████████████████████████████████████████████████████████▋    | 946/1000 [30:41<01:48,  2.02s/it]"
     ]
    },
    {
     "name": "stdout",
     "output_type": "stream",
     "text": [
      "self.get_collection_ratio(): 0.1962183530624561\n",
      "self.state.all_commed: True\n",
      "charging!!!!!!\n",
      "charging!!!!!!\n"
     ]
    },
    {
     "name": "stderr",
     "output_type": "stream",
     "text": [
      "\r",
      " 95%|██████████████████████████████████████████████████████████████████████████▊    | 947/1000 [30:42<01:36,  1.82s/it]"
     ]
    },
    {
     "name": "stdout",
     "output_type": "stream",
     "text": [
      "self.get_collection_ratio(): 0.09308928201275163\n",
      "self.state.all_commed: True\n",
      "charging!!!!!!\n",
      "charging!!!!!!\n"
     ]
    },
    {
     "name": "stderr",
     "output_type": "stream",
     "text": [
      "\r",
      " 95%|██████████████████████████████████████████████████████████████████████████▉    | 948/1000 [30:44<01:27,  1.68s/it]"
     ]
    },
    {
     "name": "stdout",
     "output_type": "stream",
     "text": [
      "self.get_collection_ratio(): 0.1272898086356835\n",
      "self.state.all_commed: True\n",
      "charging!!!!!!\n",
      "charging!!!!!!\n"
     ]
    },
    {
     "name": "stderr",
     "output_type": "stream",
     "text": [
      "\r",
      " 95%|██████████████████████████████████████████████████████████████████████████▉    | 949/1000 [30:45<01:21,  1.59s/it]"
     ]
    },
    {
     "name": "stdout",
     "output_type": "stream",
     "text": [
      "self.get_collection_ratio(): 0.06832560981622209\n",
      "self.state.all_commed: True\n",
      "charging!!!!!!\n",
      "charging!!!!!!\n"
     ]
    },
    {
     "name": "stderr",
     "output_type": "stream",
     "text": [
      "\r",
      " 95%|███████████████████████████████████████████████████████████████████████████    | 950/1000 [30:46<01:15,  1.52s/it]"
     ]
    },
    {
     "name": "stdout",
     "output_type": "stream",
     "text": [
      "self.get_collection_ratio(): 0.0858402062563654\n",
      "self.state.all_commed: True\n",
      "charging!!!!!!\n",
      "charging!!!!!!\n",
      "charging!!!!!!\n",
      "charging!!!!!!\n"
     ]
    },
    {
     "name": "stderr",
     "output_type": "stream",
     "text": [
      "\r",
      " 95%|███████████████████████████████████████████████████████████████████████████▏   | 951/1000 [30:48<01:19,  1.63s/it]"
     ]
    },
    {
     "name": "stdout",
     "output_type": "stream",
     "text": [
      "self.get_collection_ratio(): 0.19147552704209947\n",
      "self.state.all_commed: True\n",
      "charging!!!!!!\n",
      "charging!!!!!!\n",
      "charging!!!!!!\n",
      "charging!!!!!!\n"
     ]
    },
    {
     "name": "stderr",
     "output_type": "stream",
     "text": [
      "\r",
      " 95%|███████████████████████████████████████████████████████████████████████████▏   | 952/1000 [30:50<01:21,  1.69s/it]"
     ]
    },
    {
     "name": "stdout",
     "output_type": "stream",
     "text": [
      "self.get_collection_ratio(): 0.1632522206707548\n",
      "self.state.all_commed: True\n",
      "charging!!!!!!\n",
      "charging!!!!!!\n",
      "charging!!!!!!\n",
      "charging!!!!!!\n",
      "charging!!!!!!\n",
      "charging!!!!!!\n"
     ]
    },
    {
     "name": "stderr",
     "output_type": "stream",
     "text": [
      "\r",
      " 95%|███████████████████████████████████████████████████████████████████████████▎   | 953/1000 [30:53<01:29,  1.91s/it]"
     ]
    },
    {
     "name": "stdout",
     "output_type": "stream",
     "text": [
      "self.get_collection_ratio(): 0.2015113125749037\n",
      "self.state.all_commed: True\n",
      "charging!!!!!!\n",
      "charging!!!!!!\n"
     ]
    },
    {
     "name": "stderr",
     "output_type": "stream",
     "text": [
      "\r",
      " 95%|███████████████████████████████████████████████████████████████████████████▎   | 954/1000 [30:54<01:20,  1.75s/it]"
     ]
    },
    {
     "name": "stdout",
     "output_type": "stream",
     "text": [
      "self.get_collection_ratio(): 0.11679151853960905\n",
      "self.state.all_commed: True\n",
      "charging!!!!!!\n",
      "charging!!!!!!\n",
      "charging!!!!!!\n",
      "charging!!!!!!\n",
      "charging!!!!!!\n",
      "charging!!!!!!\n"
     ]
    },
    {
     "name": "stderr",
     "output_type": "stream",
     "text": [
      "\r",
      " 96%|███████████████████████████████████████████████████████████████████████████▍   | 955/1000 [30:56<01:28,  1.96s/it]"
     ]
    },
    {
     "name": "stdout",
     "output_type": "stream",
     "text": [
      "self.get_collection_ratio(): 0.19373499124080865\n",
      "self.state.all_commed: True\n",
      "charging!!!!!!\n",
      "charging!!!!!!\n"
     ]
    },
    {
     "name": "stderr",
     "output_type": "stream",
     "text": [
      "\r",
      " 96%|███████████████████████████████████████████████████████████████████████████▌   | 956/1000 [30:58<01:18,  1.78s/it]"
     ]
    },
    {
     "name": "stdout",
     "output_type": "stream",
     "text": [
      "self.get_collection_ratio(): 0.08181809461537297\n",
      "self.state.all_commed: True\n",
      "charging!!!!!!\n",
      "charging!!!!!!\n"
     ]
    },
    {
     "name": "stderr",
     "output_type": "stream",
     "text": [
      "\r",
      " 96%|███████████████████████████████████████████████████████████████████████████▌   | 957/1000 [30:59<01:13,  1.70s/it]"
     ]
    },
    {
     "name": "stdout",
     "output_type": "stream",
     "text": [
      "self.get_collection_ratio(): 0.1037022357853449\n",
      "self.state.all_commed: True\n",
      "charging!!!!!!\n",
      "charging!!!!!!\n",
      "charging!!!!!!\n",
      "charging!!!!!!\n"
     ]
    },
    {
     "name": "stderr",
     "output_type": "stream",
     "text": [
      "\r",
      " 96%|███████████████████████████████████████████████████████████████████████████▋   | 958/1000 [31:02<01:21,  1.94s/it]"
     ]
    },
    {
     "name": "stdout",
     "output_type": "stream",
     "text": [
      "self.get_collection_ratio(): 0.1334663942368797\n",
      "self.state.all_commed: True\n",
      "charging!!!!!!\n",
      "charging!!!!!!\n"
     ]
    },
    {
     "name": "stderr",
     "output_type": "stream",
     "text": [
      "\r",
      " 96%|███████████████████████████████████████████████████████████████████████████▊   | 959/1000 [31:04<01:20,  1.95s/it]"
     ]
    },
    {
     "name": "stdout",
     "output_type": "stream",
     "text": [
      "self.get_collection_ratio(): 0.1015818690094816\n",
      "self.state.all_commed: True\n",
      "charging!!!!!!\n",
      "charging!!!!!!\n",
      "charging!!!!!!\n",
      "charging!!!!!!\n",
      "charging!!!!!!\n",
      "charging!!!!!!\n"
     ]
    },
    {
     "name": "stderr",
     "output_type": "stream",
     "text": [
      "\r",
      " 96%|███████████████████████████████████████████████████████████████████████████▊   | 960/1000 [31:07<01:36,  2.42s/it]"
     ]
    },
    {
     "name": "stdout",
     "output_type": "stream",
     "text": [
      "self.get_collection_ratio(): 0.2118638349201259\n",
      "self.state.all_commed: True\n",
      "charging!!!!!!\n",
      "charging!!!!!!\n"
     ]
    },
    {
     "name": "stderr",
     "output_type": "stream",
     "text": [
      "\r",
      " 96%|███████████████████████████████████████████████████████████████████████████▉   | 961/1000 [31:09<01:28,  2.27s/it]"
     ]
    },
    {
     "name": "stdout",
     "output_type": "stream",
     "text": [
      "self.get_collection_ratio(): 0.0874538467906089\n",
      "self.state.all_commed: True\n",
      "charging!!!!!!\n",
      "charging!!!!!!\n"
     ]
    },
    {
     "name": "stderr",
     "output_type": "stream",
     "text": [
      "\r",
      " 96%|███████████████████████████████████████████████████████████████████████████▉   | 962/1000 [31:11<01:23,  2.19s/it]"
     ]
    },
    {
     "name": "stdout",
     "output_type": "stream",
     "text": [
      "self.get_collection_ratio(): 0.08549286088995535\n",
      "self.state.all_commed: True\n",
      "charging!!!!!!\n",
      "charging!!!!!!\n"
     ]
    },
    {
     "name": "stderr",
     "output_type": "stream",
     "text": [
      "\r",
      " 96%|████████████████████████████████████████████████████████████████████████████   | 963/1000 [31:13<01:19,  2.14s/it]"
     ]
    },
    {
     "name": "stdout",
     "output_type": "stream",
     "text": [
      "self.get_collection_ratio(): 0.07615318308900867\n",
      "self.state.all_commed: True\n",
      "charging!!!!!!\n",
      "charging!!!!!!\n"
     ]
    },
    {
     "name": "stderr",
     "output_type": "stream",
     "text": [
      "\r",
      " 96%|████████████████████████████████████████████████████████████████████████████▏  | 964/1000 [31:15<01:16,  2.12s/it]"
     ]
    },
    {
     "name": "stdout",
     "output_type": "stream",
     "text": [
      "self.get_collection_ratio(): 0.10016784126732418\n",
      "self.state.all_commed: True\n",
      "charging!!!!!!\n",
      "charging!!!!!!\n"
     ]
    },
    {
     "name": "stderr",
     "output_type": "stream",
     "text": [
      "\r",
      " 96%|████████████████████████████████████████████████████████████████████████████▏  | 965/1000 [31:17<01:13,  2.09s/it]"
     ]
    },
    {
     "name": "stdout",
     "output_type": "stream",
     "text": [
      "self.get_collection_ratio(): 0.08398397493654773\n",
      "self.state.all_commed: True\n",
      "charging!!!!!!\n",
      "charging!!!!!!\n",
      "charging!!!!!!\n",
      "charging!!!!!!\n",
      "charging!!!!!!\n",
      "charging!!!!!!\n"
     ]
    },
    {
     "name": "stderr",
     "output_type": "stream",
     "text": [
      "\r",
      " 97%|████████████████████████████████████████████████████████████████████████████▎  | 966/1000 [31:21<01:26,  2.55s/it]"
     ]
    },
    {
     "name": "stdout",
     "output_type": "stream",
     "text": [
      "self.get_collection_ratio(): 0.22567801675097426\n",
      "self.state.all_commed: True\n",
      "charging!!!!!!\n",
      "charging!!!!!!\n",
      "charging!!!!!!\n",
      "charging!!!!!!\n"
     ]
    },
    {
     "name": "stderr",
     "output_type": "stream",
     "text": [
      "\r",
      " 97%|████████████████████████████████████████████████████████████████████████████▍  | 967/1000 [31:24<01:27,  2.64s/it]"
     ]
    },
    {
     "name": "stdout",
     "output_type": "stream",
     "text": [
      "self.get_collection_ratio(): 0.13720603253508834\n",
      "self.state.all_commed: True\n",
      "charging!!!!!!\n",
      "charging!!!!!!\n",
      "charging!!!!!!\n",
      "charging!!!!!!\n"
     ]
    },
    {
     "name": "stderr",
     "output_type": "stream",
     "text": [
      "\r",
      " 97%|████████████████████████████████████████████████████████████████████████████▍  | 968/1000 [31:27<01:25,  2.69s/it]"
     ]
    },
    {
     "name": "stdout",
     "output_type": "stream",
     "text": [
      "self.get_collection_ratio(): 0.13759824146951885\n",
      "self.state.all_commed: True\n",
      "charging!!!!!!\n",
      "charging!!!!!!\n"
     ]
    },
    {
     "name": "stderr",
     "output_type": "stream",
     "text": [
      "\r",
      " 97%|████████████████████████████████████████████████████████████████████████████▌  | 969/1000 [31:29<01:17,  2.50s/it]"
     ]
    },
    {
     "name": "stdout",
     "output_type": "stream",
     "text": [
      "self.get_collection_ratio(): 0.07800847180288129\n",
      "self.state.all_commed: True\n",
      "charging!!!!!!\n",
      "charging!!!!!!\n"
     ]
    },
    {
     "name": "stderr",
     "output_type": "stream",
     "text": [
      "\r",
      " 97%|████████████████████████████████████████████████████████████████████████████▋  | 970/1000 [31:31<01:10,  2.36s/it]"
     ]
    },
    {
     "name": "stdout",
     "output_type": "stream",
     "text": [
      "self.get_collection_ratio(): 0.07894426185439311\n",
      "self.state.all_commed: True\n",
      "charging!!!!!!\n",
      "charging!!!!!!\n"
     ]
    },
    {
     "name": "stderr",
     "output_type": "stream",
     "text": [
      "\r",
      " 97%|████████████████████████████████████████████████████████████████████████████▋  | 971/1000 [31:33<01:05,  2.25s/it]"
     ]
    },
    {
     "name": "stdout",
     "output_type": "stream",
     "text": [
      "self.get_collection_ratio(): 0.09730217797810323\n",
      "self.state.all_commed: True\n",
      "charging!!!!!!\n",
      "charging!!!!!!\n"
     ]
    },
    {
     "name": "stderr",
     "output_type": "stream",
     "text": [
      "\r",
      " 97%|████████████████████████████████████████████████████████████████████████████▊  | 972/1000 [31:35<01:00,  2.18s/it]"
     ]
    },
    {
     "name": "stdout",
     "output_type": "stream",
     "text": [
      "self.get_collection_ratio(): 0.09491753326197017\n",
      "self.state.all_commed: True\n",
      "charging!!!!!!\n",
      "charging!!!!!!\n"
     ]
    },
    {
     "name": "stderr",
     "output_type": "stream",
     "text": [
      "\r",
      " 97%|████████████████████████████████████████████████████████████████████████████▊  | 973/1000 [31:37<00:57,  2.12s/it]"
     ]
    },
    {
     "name": "stdout",
     "output_type": "stream",
     "text": [
      "self.get_collection_ratio(): 0.0730119657003976\n",
      "self.state.all_commed: True\n",
      "charging!!!!!!\n",
      "charging!!!!!!\n",
      "charging!!!!!!\n",
      "charging!!!!!!\n",
      "charging!!!!!!\n",
      "charging!!!!!!\n"
     ]
    },
    {
     "name": "stderr",
     "output_type": "stream",
     "text": [
      "\r",
      " 97%|████████████████████████████████████████████████████████████████████████████▉  | 974/1000 [31:40<01:03,  2.45s/it]"
     ]
    },
    {
     "name": "stdout",
     "output_type": "stream",
     "text": [
      "self.get_collection_ratio(): 0.180310031777581\n",
      "self.state.all_commed: True\n",
      "charging!!!!!!\n",
      "charging!!!!!!\n",
      "charging!!!!!!\n",
      "charging!!!!!!\n"
     ]
    },
    {
     "name": "stderr",
     "output_type": "stream",
     "text": [
      "\r",
      " 98%|█████████████████████████████████████████████████████████████████████████████  | 975/1000 [31:43<01:03,  2.53s/it]"
     ]
    },
    {
     "name": "stdout",
     "output_type": "stream",
     "text": [
      "self.get_collection_ratio(): 0.1570227758567563\n",
      "self.state.all_commed: True\n",
      "charging!!!!!!\n",
      "charging!!!!!!\n",
      "charging!!!!!!\n",
      "charging!!!!!!\n"
     ]
    },
    {
     "name": "stderr",
     "output_type": "stream",
     "text": [
      "\r",
      " 98%|█████████████████████████████████████████████████████████████████████████████  | 976/1000 [31:45<01:02,  2.62s/it]"
     ]
    },
    {
     "name": "stdout",
     "output_type": "stream",
     "text": [
      "self.get_collection_ratio(): 0.1768157724615594\n",
      "self.state.all_commed: True\n",
      "charging!!!!!!\n",
      "charging!!!!!!\n",
      "charging!!!!!!\n",
      "charging!!!!!!\n",
      "charging!!!!!!\n",
      "charging!!!!!!\n"
     ]
    },
    {
     "name": "stderr",
     "output_type": "stream",
     "text": [
      "\r",
      " 98%|█████████████████████████████████████████████████████████████████████████████▏ | 977/1000 [31:49<01:07,  2.92s/it]"
     ]
    },
    {
     "name": "stdout",
     "output_type": "stream",
     "text": [
      "self.get_collection_ratio(): 0.1848305403734662\n",
      "self.state.all_commed: True\n",
      "charging!!!!!!\n",
      "charging!!!!!!\n",
      "charging!!!!!!\n",
      "charging!!!!!!\n",
      "charging!!!!!!\n",
      "charging!!!!!!\n"
     ]
    },
    {
     "name": "stderr",
     "output_type": "stream",
     "text": [
      "\r",
      " 98%|█████████████████████████████████████████████████████████████████████████████▎ | 978/1000 [31:53<01:08,  3.11s/it]"
     ]
    },
    {
     "name": "stdout",
     "output_type": "stream",
     "text": [
      "self.get_collection_ratio(): 0.22708689767518117\n",
      "self.state.all_commed: True\n",
      "charging!!!!!!\n",
      "charging!!!!!!\n",
      "charging!!!!!!\n",
      "charging!!!!!!\n"
     ]
    },
    {
     "name": "stderr",
     "output_type": "stream",
     "text": [
      "\r",
      " 98%|█████████████████████████████████████████████████████████████████████████████▎ | 979/1000 [31:55<01:03,  3.01s/it]"
     ]
    },
    {
     "name": "stdout",
     "output_type": "stream",
     "text": [
      "self.get_collection_ratio(): 0.14031739408950109\n",
      "self.state.all_commed: True\n",
      "charging!!!!!!\n",
      "charging!!!!!!\n",
      "charging!!!!!!\n",
      "charging!!!!!!\n",
      "charging!!!!!!\n",
      "charging!!!!!!\n"
     ]
    },
    {
     "name": "stderr",
     "output_type": "stream",
     "text": [
      "\r",
      " 98%|█████████████████████████████████████████████████████████████████████████████▍ | 980/1000 [31:59<01:03,  3.18s/it]"
     ]
    },
    {
     "name": "stdout",
     "output_type": "stream",
     "text": [
      "self.get_collection_ratio(): 0.18757823411991872\n",
      "self.state.all_commed: True\n",
      "charging!!!!!!\n",
      "charging!!!!!!\n"
     ]
    },
    {
     "name": "stderr",
     "output_type": "stream",
     "text": [
      "\r",
      " 98%|█████████████████████████████████████████████████████████████████████████████▍ | 981/1000 [32:01<00:53,  2.83s/it]"
     ]
    },
    {
     "name": "stdout",
     "output_type": "stream",
     "text": [
      "self.get_collection_ratio(): 0.09566854720485785\n",
      "self.state.all_commed: True\n",
      "charging!!!!!!\n",
      "charging!!!!!!\n",
      "charging!!!!!!\n",
      "charging!!!!!!\n"
     ]
    },
    {
     "name": "stderr",
     "output_type": "stream",
     "text": [
      "\r",
      " 98%|█████████████████████████████████████████████████████████████████████████████▌ | 982/1000 [32:04<00:49,  2.77s/it]"
     ]
    },
    {
     "name": "stdout",
     "output_type": "stream",
     "text": [
      "self.get_collection_ratio(): 0.14630584969383192\n",
      "self.state.all_commed: True\n",
      "charging!!!!!!\n",
      "charging!!!!!!\n"
     ]
    },
    {
     "name": "stderr",
     "output_type": "stream",
     "text": [
      "\r",
      " 98%|█████████████████████████████████████████████████████████████████████████████▋ | 983/1000 [32:05<00:41,  2.44s/it]"
     ]
    },
    {
     "name": "stdout",
     "output_type": "stream",
     "text": [
      "self.get_collection_ratio(): 0.07950817429030299\n",
      "self.state.all_commed: True\n",
      "charging!!!!!!\n",
      "charging!!!!!!\n",
      "charging!!!!!!\n",
      "charging!!!!!!\n"
     ]
    },
    {
     "name": "stderr",
     "output_type": "stream",
     "text": [
      "\r",
      " 98%|█████████████████████████████████████████████████████████████████████████████▋ | 984/1000 [32:08<00:40,  2.55s/it]"
     ]
    },
    {
     "name": "stdout",
     "output_type": "stream",
     "text": [
      "self.get_collection_ratio(): 0.13369893065363644\n",
      "self.state.all_commed: True\n",
      "charging!!!!!!\n",
      "charging!!!!!!\n",
      "charging!!!!!!\n",
      "charging!!!!!!\n",
      "charging!!!!!!\n",
      "charging!!!!!!\n"
     ]
    },
    {
     "name": "stderr",
     "output_type": "stream",
     "text": [
      "\r",
      " 98%|█████████████████████████████████████████████████████████████████████████████▊ | 985/1000 [32:12<00:42,  2.85s/it]"
     ]
    },
    {
     "name": "stdout",
     "output_type": "stream",
     "text": [
      "self.get_collection_ratio(): 0.18333461700067472\n",
      "self.state.all_commed: True\n",
      "charging!!!!!!\n",
      "charging!!!!!!\n",
      "charging!!!!!!\n",
      "charging!!!!!!\n",
      "charging!!!!!!\n",
      "charging!!!!!!\n"
     ]
    },
    {
     "name": "stderr",
     "output_type": "stream",
     "text": [
      "\r",
      " 99%|█████████████████████████████████████████████████████████████████████████████▉ | 986/1000 [32:15<00:42,  3.06s/it]"
     ]
    },
    {
     "name": "stdout",
     "output_type": "stream",
     "text": [
      "self.get_collection_ratio(): 0.16679104096339\n",
      "self.state.all_commed: True\n",
      "charging!!!!!!\n",
      "charging!!!!!!\n"
     ]
    },
    {
     "name": "stderr",
     "output_type": "stream",
     "text": [
      "\r",
      " 99%|█████████████████████████████████████████████████████████████████████████████▉ | 987/1000 [32:17<00:35,  2.74s/it]"
     ]
    },
    {
     "name": "stdout",
     "output_type": "stream",
     "text": [
      "self.get_collection_ratio(): 0.08251773516217224\n",
      "self.state.all_commed: True\n",
      "charging!!!!!!\n",
      "charging!!!!!!\n",
      "charging!!!!!!\n",
      "charging!!!!!!\n",
      "charging!!!!!!\n",
      "charging!!!!!!\n"
     ]
    },
    {
     "name": "stderr",
     "output_type": "stream",
     "text": [
      "\r",
      " 99%|██████████████████████████████████████████████████████████████████████████████ | 988/1000 [32:20<00:34,  2.87s/it]"
     ]
    },
    {
     "name": "stdout",
     "output_type": "stream",
     "text": [
      "self.get_collection_ratio(): 0.19738151702642245\n",
      "self.state.all_commed: True\n",
      "charging!!!!!!\n",
      "charging!!!!!!\n",
      "charging!!!!!!\n",
      "charging!!!!!!\n"
     ]
    },
    {
     "name": "stderr",
     "output_type": "stream",
     "text": [
      "\r",
      " 99%|██████████████████████████████████████████████████████████████████████████████▏| 989/1000 [32:23<00:31,  2.84s/it]"
     ]
    },
    {
     "name": "stdout",
     "output_type": "stream",
     "text": [
      "self.get_collection_ratio(): 0.17748947570647516\n",
      "self.state.all_commed: True\n",
      "charging!!!!!!\n",
      "charging!!!!!!\n",
      "charging!!!!!!\n",
      "charging!!!!!!\n",
      "charging!!!!!!\n",
      "charging!!!!!!\n"
     ]
    },
    {
     "name": "stderr",
     "output_type": "stream",
     "text": [
      "\r",
      " 99%|██████████████████████████████████████████████████████████████████████████████▏| 990/1000 [32:27<00:30,  3.07s/it]"
     ]
    },
    {
     "name": "stdout",
     "output_type": "stream",
     "text": [
      "self.get_collection_ratio(): 0.1990887705895854\n",
      "self.state.all_commed: True\n",
      "charging!!!!!!\n",
      "charging!!!!!!\n",
      "charging!!!!!!\n",
      "charging!!!!!!\n",
      "charging!!!!!!\n",
      "charging!!!!!!\n"
     ]
    },
    {
     "name": "stderr",
     "output_type": "stream",
     "text": [
      "\r",
      " 99%|██████████████████████████████████████████████████████████████████████████████▎| 991/1000 [32:30<00:28,  3.22s/it]"
     ]
    },
    {
     "name": "stdout",
     "output_type": "stream",
     "text": [
      "self.get_collection_ratio(): 0.1977304252487093\n",
      "self.state.all_commed: True\n",
      "charging!!!!!!\n",
      "charging!!!!!!\n",
      "charging!!!!!!\n",
      "charging!!!!!!\n"
     ]
    },
    {
     "name": "stderr",
     "output_type": "stream",
     "text": [
      "\r",
      " 99%|██████████████████████████████████████████████████████████████████████████████▎| 992/1000 [32:33<00:24,  3.10s/it]"
     ]
    },
    {
     "name": "stdout",
     "output_type": "stream",
     "text": [
      "self.get_collection_ratio(): 0.14022506096024256\n",
      "self.state.all_commed: True\n",
      "charging!!!!!!\n",
      "charging!!!!!!\n",
      "charging!!!!!!\n",
      "charging!!!!!!\n"
     ]
    },
    {
     "name": "stderr",
     "output_type": "stream",
     "text": [
      "\r",
      " 99%|██████████████████████████████████████████████████████████████████████████████▍| 993/1000 [32:36<00:21,  3.01s/it]"
     ]
    },
    {
     "name": "stdout",
     "output_type": "stream",
     "text": [
      "self.get_collection_ratio(): 0.15883981313357093\n",
      "self.state.all_commed: True\n",
      "charging!!!!!!\n",
      "charging!!!!!!\n",
      "charging!!!!!!\n",
      "charging!!!!!!\n"
     ]
    },
    {
     "name": "stderr",
     "output_type": "stream",
     "text": [
      "\r",
      " 99%|██████████████████████████████████████████████████████████████████████████████▌| 994/1000 [32:39<00:17,  2.93s/it]"
     ]
    },
    {
     "name": "stdout",
     "output_type": "stream",
     "text": [
      "self.get_collection_ratio(): 0.16384269048854286\n",
      "self.state.all_commed: True\n",
      "charging!!!!!!\n",
      "charging!!!!!!\n",
      "charging!!!!!!\n",
      "charging!!!!!!\n",
      "charging!!!!!!\n",
      "charging!!!!!!\n"
     ]
    },
    {
     "name": "stderr",
     "output_type": "stream",
     "text": [
      "\r",
      "100%|██████████████████████████████████████████████████████████████████████████████▌| 995/1000 [32:42<00:15,  3.13s/it]"
     ]
    },
    {
     "name": "stdout",
     "output_type": "stream",
     "text": [
      "self.get_collection_ratio(): 0.16777787820769924\n",
      "self.state.all_commed: True\n",
      "charging!!!!!!\n",
      "charging!!!!!!\n"
     ]
    },
    {
     "name": "stderr",
     "output_type": "stream",
     "text": [
      "\r",
      "100%|██████████████████████████████████████████████████████████████████████████████▋| 996/1000 [32:44<00:11,  2.79s/it]"
     ]
    },
    {
     "name": "stdout",
     "output_type": "stream",
     "text": [
      "self.get_collection_ratio(): 0.09040392239759164\n",
      "self.state.all_commed: True\n",
      "charging!!!!!!\n",
      "charging!!!!!!\n",
      "charging!!!!!!\n",
      "charging!!!!!!\n",
      "charging!!!!!!\n",
      "charging!!!!!!\n"
     ]
    },
    {
     "name": "stderr",
     "output_type": "stream",
     "text": [
      "\r",
      "100%|██████████████████████████████████████████████████████████████████████████████▊| 997/1000 [32:48<00:09,  3.04s/it]"
     ]
    },
    {
     "name": "stdout",
     "output_type": "stream",
     "text": [
      "self.get_collection_ratio(): 0.21050406425042373\n",
      "self.state.all_commed: True\n",
      "charging!!!!!!\n",
      "charging!!!!!!\n",
      "charging!!!!!!\n",
      "charging!!!!!!\n",
      "charging!!!!!!\n",
      "charging!!!!!!\n"
     ]
    },
    {
     "name": "stderr",
     "output_type": "stream",
     "text": [
      "\r",
      "100%|██████████████████████████████████████████████████████████████████████████████▊| 998/1000 [32:51<00:06,  3.21s/it]"
     ]
    },
    {
     "name": "stdout",
     "output_type": "stream",
     "text": [
      "self.get_collection_ratio(): 0.188869816868313\n",
      "self.state.all_commed: True\n",
      "charging!!!!!!\n",
      "charging!!!!!!\n",
      "charging!!!!!!\n",
      "charging!!!!!!\n"
     ]
    },
    {
     "name": "stderr",
     "output_type": "stream",
     "text": [
      "\r",
      "100%|██████████████████████████████████████████████████████████████████████████████▉| 999/1000 [32:54<00:03,  3.09s/it]"
     ]
    },
    {
     "name": "stdout",
     "output_type": "stream",
     "text": [
      "self.get_collection_ratio(): 0.18638492642992516\n",
      "self.state.all_commed: True\n",
      "charging!!!!!!\n",
      "charging!!!!!!\n",
      "charging!!!!!!\n",
      "charging!!!!!!\n"
     ]
    },
    {
     "name": "stderr",
     "output_type": "stream",
     "text": [
      "100%|██████████████████████████████████████████████████████████████████████████████| 1000/1000 [32:57<00:00,  1.98s/it]"
     ]
    },
    {
     "name": "stdout",
     "output_type": "stream",
     "text": [
      "self.get_collection_ratio(): 0.18615572545398823\n",
      "self.state.all_commed: True\n",
      "Successful Communicating: 0.0\n",
      "Collection ratio: 0.5863426625728607\n",
      "Boundary counter: 0.0\n",
      "Charging ratio: 0.0\n",
      "Current budget: 0.0\n"
     ]
    },
    {
     "name": "stderr",
     "output_type": "stream",
     "text": [
      "\n"
     ]
    }
   ],
   "source": [
    "#Evaluate a model (saved during training in the 'models' directory) \n",
    "#through Monte Carlo analysis over the random parameter space for the performance indicators \n",
    "#'Successful Landing', 'Collection Ratio', 'Collection Ratio and Landed' as defined in the paper \n",
    "#(plus 'Boundary Counter' counting safety controller activations), e.g. for 1000 Monte Carlo iterations:\n",
    "\n",
    "import argparse\n",
    "import os\n",
    "\n",
    "import numpy as np\n",
    "\n",
    "import import_ipynb\n",
    "from MainEnvironment_test1 import EnvironmentParams, Environment\n",
    "from Utils_test1 import read_config\n",
    "\n",
    "from tensorboard.backend.event_processing.event_accumulator import EventAccumulator\n",
    "import tensorflow as tf\n",
    "\n",
    "\n",
    "def eval_logs(event_path):\n",
    "    event_acc = EventAccumulator(event_path, size_guidance={'tensors': 100000})\n",
    "    event_acc.Reload()\n",
    "\n",
    "    #_, _, vals = zip(*event_acc.Tensors('successful_landing'))\n",
    "    #has_landed = [tf.make_ndarray(val) for val in vals]\n",
    "\n",
    "    ###\n",
    "    _, _, vals = zip(*event_acc.Tensors('successful_communicating'))\n",
    "    successful_communicating = [tf.make_ndarray(val) for val in vals]\n",
    "    \n",
    "    _, _, vals = zip(*event_acc.Tensors('cr'))\n",
    "    cr = [tf.make_ndarray(val) for val in vals]\n",
    "\n",
    "    #_, _, vals = zip(*event_acc.Tensors('cral'))\n",
    "    #cral = [tf.make_ndarray(val) for val in vals]\n",
    "\n",
    "    _, _, vals = zip(*event_acc.Tensors('boundary_counter'))\n",
    "    boundary_counter = [tf.make_ndarray(val) for val in vals]\n",
    "    \n",
    "    _, _, vals = zip(*event_acc.Tensors('charging_attempts'))\n",
    "    charging_attempts = [tf.make_ndarray(val) for val in vals]\n",
    "    \n",
    "    ###\n",
    "    _, _, vals = zip(*event_acc.Tensors('current_movement_budget'))\n",
    "    current_movement_budget = [tf.make_ndarray(val) for val in vals]\n",
    "\n",
    "    #print(\"Successful Landing:\", sum(has_landed) / len(has_landed))\n",
    "    ###\n",
    "    print(\"Successful Communicating:\", sum(successful_communicating) / len(successful_communicating))\n",
    "    print(\"Collection ratio:\", sum(cr) / len(cr))\n",
    "    #print(\"Collection ratio and landed:\", sum(cral) / len(cral))\n",
    "    print(\"Boundary counter:\", sum(boundary_counter) / len(boundary_counter))\n",
    "    print(\"Charging ratio:\", sum(charging_attempts) / len(charging_attempts))\n",
    "    print(\"Current budget:\", sum(current_movement_budget) / len(current_movement_budget))\n",
    "\n",
    "\n",
    "def mc(args, params: EnvironmentParams):\n",
    "    if args.num_agents is not None:\n",
    "        num_range = [int(i) for i in args.num_agents]\n",
    "        params.grid_params.num_agents_range = num_range\n",
    "\n",
    "    try:\n",
    "        env = Environment(params)\n",
    "        env.agent.load_weights(args.weights)\n",
    "\n",
    "        env.eval(int(args.samples), show=args.show)\n",
    "    except AttributeError:\n",
    "        print(\"Not overriding log dir, eval existing:\")\n",
    "\n",
    "    eval_logs(\"logs/training/\" + args.id + \"/test\")\n",
    "\n",
    "\n",
    "if __name__ == \"__main__\":\n",
    "    parser = argparse.ArgumentParser()\n",
    "    #parser.add_argument('--weights', required=True, help='Path to weights')\n",
    "    parser.add_argument('--weights', default='models/grid_image_best', help='Path to weights')\n",
    "    parser.add_argument('--config', default='config/grid_image.json', help='Config file for agent shaping')\n",
    "    #parser.add_argument('--config', required=True, help='Config file for agent shaping')\n",
    "    #parser.add_argument('--id', required=False, help='Id for exported files')\n",
    "    parser.add_argument('--id', default = 'grid_image', help='Id for exported files')\n",
    "    parser.add_argument('--samples', default = 1000, help='Id for exported files')\n",
    "    #parser.add_argument('--samples', required=1000, help='Id for exported files')\n",
    "    parser.add_argument('--seed', default=0, help=\"Seed for repeatability\")\n",
    "    parser.add_argument('--show', default=False, help=\"Show individual plots, allows saving\")\n",
    "    parser.add_argument('--num_agents', default=[1,3], help='Overrides num agents range, argument 12 for range [1,2]')\n",
    "\n",
    "    #args = parser.parse_args()\n",
    "    args = parser.parse_args(args=[])\n",
    "\n",
    "    if args.seed:\n",
    "        np.random.seed(int(args.seed))\n",
    "\n",
    "    params = read_config(args.config)\n",
    "\n",
    "    if args.id is not None:\n",
    "        params.model_stats_params.save_model = \"models/\" + args.id\n",
    "        params.model_stats_params.log_file_name = args.id\n",
    "\n",
    "    os.environ[\"CUDA_VISIBLE_DEVICES\"] = \"-1\"\n",
    "\n",
    "    mc(args, params)"
   ]
  }
 ],
 "metadata": {
  "kernelspec": {
   "display_name": "Python 3",
   "language": "python",
   "name": "python3"
  },
  "language_info": {
   "codemirror_mode": {
    "name": "ipython",
    "version": 3
   },
   "file_extension": ".py",
   "mimetype": "text/x-python",
   "name": "python",
   "nbconvert_exporter": "python",
   "pygments_lexer": "ipython3",
   "version": "3.8.8"
  }
 },
 "nbformat": 4,
 "nbformat_minor": 5
}
