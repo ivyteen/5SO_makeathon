{
 "cells": [
  {
   "cell_type": "code",
   "execution_count": 1,
   "id": "bee82706",
   "metadata": {},
   "outputs": [
    {
     "name": "stdout",
     "output_type": "stream",
     "text": [
      "importing Jupyter notebook from GridActions_test2.ipynb\n"
     ]
    }
   ],
   "source": [
    "import import_ipynb\n",
    "from GridActions_test3 import GridActions\n",
    "\n",
    "\n",
    "class GridPhysics:\n",
    "    def __init__(self):\n",
    "        self.landing_attempts = 0\n",
    "        self.boundary_counter = 0\n",
    "        self.charging_attempts = 0\n",
    "        #self.system_reward = 300\n",
    "        self.state = None #state : state.ipynb에서 가져온 듯\n",
    "\n",
    "        \n",
    "    def movement_step(self, action: GridActions):\n",
    "        old_position = self.state.position  #active_agent의 수 만큼 position 가져 옴\n",
    "        old_state = self.state\n",
    "        x, y = old_position\n",
    "\n",
    "        if action == GridActions.NORTH:\n",
    "            y += 1\n",
    "        elif action == GridActions.SOUTH:\n",
    "            y -= 1\n",
    "        elif action == GridActions.WEST:\n",
    "            x -= 1\n",
    "        elif action == GridActions.EAST:\n",
    "            x += 1\n",
    "            \n",
    "        self.state.set_position([x, y])\n",
    "              \n",
    "        if self.state.is_in_no_fly_zone():\n",
    "            # Reset state\n",
    "            self.boundary_counter += 1\n",
    "            x, y = old_position\n",
    "            self.state.set_position([x, y])\n",
    "               \n",
    "        if self.state.is_in_landing_zone():\n",
    "            if self.state.position != list(self.state.initial_position):\n",
    "                #print('self.state.position', self.state.position) #list\n",
    "                #print('self.state.initial_position', list(self.state.initial_position)) #tuple\n",
    "                #print('land!!')\n",
    "                self.state.set_landed(True)      \n",
    "        \n",
    "        if self.state.is_in_tough_zone():\n",
    "            self.state.set_tough(True)\n",
    "        else :\n",
    "            self.state.set_tough(False)\n",
    "\n",
    "        self.state.decrement_movement_budget()\n",
    "            \n",
    "#        print('self.state.movement_budget', self.state.movement_budget)                                      \n",
    "        self.state.set_terminal(self.state.landed or (self.state.movement_budget == 0))\n",
    "        #print('budget', self.state.movement_budget == 0 )\n",
    "\n",
    "        return x, y\n",
    "\n",
    "    def reset(self, state):\n",
    "        self.charging_attempts = 0\n",
    "        self.boundary_counter = 0\n",
    "        self.state = state"
   ]
  },
  {
   "cell_type": "code",
   "execution_count": null,
   "id": "3f00470f",
   "metadata": {},
   "outputs": [],
   "source": []
  }
 ],
 "metadata": {
  "kernelspec": {
   "display_name": "Python 3",
   "language": "python",
   "name": "python3"
  },
  "language_info": {
   "codemirror_mode": {
    "name": "ipython",
    "version": 3
   },
   "file_extension": ".py",
   "mimetype": "text/x-python",
   "name": "python",
   "nbconvert_exporter": "python",
   "pygments_lexer": "ipython3",
   "version": "3.8.8"
  }
 },
 "nbformat": 4,
 "nbformat_minor": 5
}
