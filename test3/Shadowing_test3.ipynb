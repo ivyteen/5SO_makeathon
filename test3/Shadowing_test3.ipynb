{
 "cells": [
  {
   "cell_type": "code",
   "execution_count": 1,
   "id": "321334c5",
   "metadata": {},
   "outputs": [
    {
     "name": "stdout",
     "output_type": "stream",
     "text": [
      "importing Jupyter notebook from Map_stage.ipynb\n"
     ]
    }
   ],
   "source": [
    "import numpy as np\n",
    "import os\n",
    "import tqdm\n",
    "import import_ipynb\n",
    "from Map_test3 import load_map\n",
    "\n",
    "\n",
    "def bresenham(x0, y0, x1, y1, obstacles, shadow_map):\n",
    "    #선그리기 알고리즘\n",
    "    if obstacles[y0, x0]:\n",
    "        return\n",
    "    x_dist = abs(x0 - x1)\n",
    "    y_dist = -abs(y0 - y1)\n",
    "    x_step = 1 if x1 > x0 else -1\n",
    "    y_step = 1 if y1 > y0 else -1\n",
    "\n",
    "    error = x_dist + y_dist\n",
    "\n",
    "    # shadowed = False\n",
    "    shadow_map[y0, x0] = False\n",
    "\n",
    "    while x0 != x1 or y0 != y1:\n",
    "        #둘 중 하나가 같아질 때 까지\n",
    "        if 2 * error - y_dist > x_dist - 2 * error:\n",
    "            #x축으로 더 멀다면(즉, abs(x_dist) > abs(y_dist)\n",
    "            # horizontal step\n",
    "            error += y_dist\n",
    "            x0 += x_step\n",
    "        else:\n",
    "            # vertical step\n",
    "            error += x_dist\n",
    "            y0 += y_step\n",
    "\n",
    "        if obstacles[y0, x0]:\n",
    "            # shadowed = True\n",
    "            return\n",
    "\n",
    "        # if shadowed:\n",
    "        shadow_map[y0, x0] = False\n",
    "\n",
    "\n",
    "def calculate_shadowing(map_path, save_as): #전체 맵에서 어디 좌표가 shadowing이 되는지를 True로 리턴\n",
    "    \n",
    "    total_map = load_map(map_path)\n",
    "    obstacles = total_map.obstacles #하지만 나의 환경에는 장애물이 없다.\n",
    "    size = total_map.obstacles.shape[0] #size = 140\n",
    "    total = size * size\n",
    "\n",
    "    total_shadow_map = np.ones((size, size, size, size), dtype=bool)\n",
    "    with tqdm.tqdm(total=total) as pbar:\n",
    "        for i, j in np.ndindex(total_map.obstacles.shape):\n",
    "            #i, j : (0,0), (0,1),,,(0,139),(1,0), ,,, (139, 139) 즉, 140 x 140의 모든 좌표 반복\n",
    "            shadow_map = np.ones((size, size), dtype=bool)\n",
    "\n",
    "            for x in range(size):\n",
    "                bresenham(i, j, x, 0, obstacles, shadow_map)\n",
    "                #bresenham : 두 좌표 사이에 shadowing이 있는지를 판단하는거고 있으면 shadow_map에 True로 반환\n",
    "                bresenham(i, j, x, size - 1, obstacles, shadow_map)\n",
    "                bresenham(i, j, 0, x, obstacles, shadow_map)\n",
    "                bresenham(i, j, size - 1, x, obstacles, shadow_map)\n",
    "\n",
    "            total_shadow_map[j, i] = shadow_map\n",
    "            pbar.update(1)\n",
    "\n",
    "    np.save(save_as, total_shadow_map)\n",
    "    return total_shadow_map\n",
    "\n",
    "\n",
    "def load_or_create_shadowing(map_path):\n",
    "    shadow_file_name = os.path.splitext(map_path)[0] + \"_shadowing.npy\"\n",
    "    #splitext : 확장자만 따로 떨어트림\n",
    "    if os.path.exists(shadow_file_name):\n",
    "        return np.load(shadow_file_name)\n",
    "    else:\n",
    "        return calculate_shadowing(map_path, shadow_file_name)"
   ]
  }
 ],
 "metadata": {
  "kernelspec": {
   "display_name": "Python 3",
   "language": "python",
   "name": "python3"
  },
  "language_info": {
   "codemirror_mode": {
    "name": "ipython",
    "version": 3
   },
   "file_extension": ".py",
   "mimetype": "text/x-python",
   "name": "python",
   "nbconvert_exporter": "python",
   "pygments_lexer": "ipython3",
   "version": "3.8.8"
  }
 },
 "nbformat": 4,
 "nbformat_minor": 5
}
