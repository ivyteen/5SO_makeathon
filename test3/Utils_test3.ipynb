{
 "cells": [
  {
   "cell_type": "code",
   "execution_count": null,
   "id": "1f277d40",
   "metadata": {},
   "outputs": [],
   "source": [
    "import distutils\n",
    "import json\n",
    "\n",
    "from types import SimpleNamespace as Namespace\n",
    "\n",
    "\n",
    "def getattr_recursive(obj, s):\n",
    "    if isinstance(s, list):\n",
    "        split = s\n",
    "    else:\n",
    "        split = s.split('/')\n",
    "    return getattr_recursive(getattr(obj, split[0]), split[1:]) if len(split) > 1 else getattr(obj, split[0])\n",
    "\n",
    "\n",
    "def setattr_recursive(obj, s, val):\n",
    "    if isinstance(s, list):\n",
    "        split = s\n",
    "    else:\n",
    "        split = s.split('/')\n",
    "    return setattr_recursive(getattr(obj, split[0]), split[1:], val) if len(split) > 1 else setattr(obj, split[0], val)\n",
    "\n",
    "\n",
    "def generate_config(params, file_path):\n",
    "    print(\"Saving Configs\")\n",
    "    f = open(file_path, \"w\")\n",
    "    json_data = json.dumps(params.__dict__, default=lambda o: o.__dict__, indent=4)\n",
    "    f.write(json_data)\n",
    "    f.close()\n",
    "\n",
    "\n",
    "def read_config(config_path):\n",
    "    print('Parse Params file here from ', config_path, ' and pass into main')\n",
    "    json_data = open(config_path, \"r\", encoding='UTF-8').read()\n",
    "    return json.loads(json_data, object_hook=lambda d: Namespace(**d))"
   ]
  }
 ],
 "metadata": {
  "kernelspec": {
   "display_name": "Python 3",
   "language": "python",
   "name": "python3"
  },
  "language_info": {
   "codemirror_mode": {
    "name": "ipython",
    "version": 3
   },
   "file_extension": ".py",
   "mimetype": "text/x-python",
   "name": "python",
   "nbconvert_exporter": "python",
   "pygments_lexer": "ipython3",
   "version": "3.8.8"
  }
 },
 "nbformat": 4,
 "nbformat_minor": 5
}
